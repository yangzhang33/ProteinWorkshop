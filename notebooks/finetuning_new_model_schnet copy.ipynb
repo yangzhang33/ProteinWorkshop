{
 "cells": [
  {
   "cell_type": "markdown",
   "metadata": {},
   "source": [
    "# `ProteinWorkshop` Tutorial, Part 1 - Training a New Model\n",
    "![Models](../docs/source/_static/box_models.png)"
   ]
  },
  {
   "cell_type": "markdown",
   "metadata": {},
   "source": [
    "## Train a new model using the `ProteinWorkshop`"
   ]
  },
  {
   "cell_type": "code",
   "execution_count": 1,
   "metadata": {},
   "outputs": [],
   "source": [
    "%load_ext autoreload\n",
    "%autoreload 2\n",
    "# %load_ext blackcellmagic"
   ]
  },
  {
   "cell_type": "markdown",
   "metadata": {},
   "source": [
    "Welcome to the tutorial series for the `ProteinWorkshop`! \n",
    "\n",
    "In the `ProteinWorkshop`, we implement numerous [featurisation](https://www.proteins.sh/configs/features) schemes, [datasets](https://www.proteins.sh/configs/dataset) for [self-supervised pre-training](https://proteins.sh/quickstart_component/pretrain.html) and [downstream evaluation](https://proteins.sh/quickstart_component/downstream.html), [pre-training](https://proteins.sh/configs/task) tasks, and [auxiliary tasks](https://proteins.sh/configs/task.html#auxiliary-tasks).\n",
    "\n",
    "[Processed datasets](https://drive.google.com/drive/folders/18i8rLST6ZICTBu6Q67ClT0KqN9AHeqoW?usp=sharing) and [pre-trained weights](https://drive.google.com/drive/folders/1zK1r8FpmGaqV_QwUJuvDacwSL0RW-Vw9?usp=sharing) are made available. Downloading datasets is not required; upon first run all datasets will be downloaded and processed from their respective source.\n",
    "\n",
    "The `ProteinWorkshop` encompasses several models as well as pre-trained weights for them so that you can readily use them.\n",
    "\n",
    "In this tutorial, we show you how you can use what is already available in the protein workshop to train and use models for specific tasks. The `ProteinWorkshop` is structured as a very modular package; we will therefore talk about how to change the different parts of it, like the model, training task, dataset, featurization scheme, etc. in this tutorial. \n",
    "\n",
    "Besides using all the different options we provide, you can make use of the modular nature of the `ProteinWorkshop` to add your own models, datasets, featurization schemes, and training tasks. We will show you how to do this in the next tutorials."
   ]
  },
  {
   "cell_type": "markdown",
   "metadata": {},
   "source": [
    "To train a new model, you can follow the following 3-step procedure:\n",
    "\n",
    "1. Choose the parts you want to consider: model, training task, dataset, featurization scheme and auxiliary tasks\n",
    "2. Validate the designed training config\n",
    "3. Use the designed config to train a new model"
   ]
  },
  {
   "cell_type": "markdown",
   "metadata": {},
   "source": [
    "### 1. Choose the parts you want to consider: model, training task, dataset, featurization scheme and auxiliary tasks\n",
    "\n",
    "You can switch out any of these for another available option by replacing the corresponding argument's value in `overrides`:\n",
    "\n",
    "`cfg = hydra.compose(\"template\", overrides=[\"encoder=schnet\", \"task=inverse_folding\", \"dataset=afdb_swissprot_v4\", \"features=ca_base\", \"+aux_task=none\"], return_hydra_config=True)`"
   ]
  },
  {
   "cell_type": "code",
   "execution_count": 2,
   "metadata": {},
   "outputs": [
    {
     "name": "stdout",
     "output_type": "stream",
     "text": [
      "Visible GPUs for PyTorch: 1\n"
     ]
    }
   ],
   "source": [
    "import os\n",
    "\n",
    "# Set the environment variable to make only GPU 0 visible\n",
    "os.environ[\"CUDA_VISIBLE_DEVICES\"] = \"0\"\n",
    "\n",
    "# Now import the necessary librarie\n",
    "import torch\n",
    "\n",
    "# Verify GPUs visible to PyTorch\n",
    "torch_visible_gpus = torch.cuda.device_count()\n",
    "print(\"Visible GPUs for PyTorch:\", torch_visible_gpus)"
   ]
  },
  {
   "cell_type": "code",
   "execution_count": 3,
   "metadata": {},
   "outputs": [
    {
     "data": {
      "text/html": [
       "<pre style=\"white-space:pre;overflow-x:auto;line-height:normal;font-family:Menlo,'DejaVu Sans Mono',consolas,'Courier New',monospace\"><span style=\"color: #7fbfbf; text-decoration-color: #7fbfbf\">[07/31/24 15:53:48] </span><span style=\"color: #008000; text-decoration-color: #008000\">DEBUG   </span> No `.env` file found in project root. Checking for env vars<span style=\"color: #808000; text-decoration-color: #808000\">...</span>         <a href=\"file:///home/zhang/Projects/3d/ProteinWorkshop/proteinworkshop/constants.py\" target=\"_blank\"><span style=\"color: #7f7f7f; text-decoration-color: #7f7f7f\">constants.py</span></a><span style=\"color: #7f7f7f; text-decoration-color: #7f7f7f\">:</span><a href=\"file:///home/zhang/Projects/3d/ProteinWorkshop/proteinworkshop/constants.py#22\" target=\"_blank\"><span style=\"color: #7f7f7f; text-decoration-color: #7f7f7f\">22</span></a>\n",
       "</pre>\n"
      ],
      "text/plain": [
       "\u001b[2;36m[07/31/24 15:53:48]\u001b[0m\u001b[2;36m \u001b[0m\u001b[32mDEBUG   \u001b[0m No `.env` file found in project root. Checking for env vars\u001b[33m...\u001b[0m         \u001b]8;id=536936;file:///home/zhang/Projects/3d/ProteinWorkshop/proteinworkshop/constants.py\u001b\\\u001b[2mconstants.py\u001b[0m\u001b]8;;\u001b\\\u001b[2m:\u001b[0m\u001b]8;id=951452;file:///home/zhang/Projects/3d/ProteinWorkshop/proteinworkshop/constants.py#22\u001b\\\u001b[2m22\u001b[0m\u001b]8;;\u001b\\\n"
      ]
     },
     "metadata": {},
     "output_type": "display_data"
    },
    {
     "data": {
      "text/html": [
       "<pre style=\"white-space:pre;overflow-x:auto;line-height:normal;font-family:Menlo,'DejaVu Sans Mono',consolas,'Courier New',monospace\"><span style=\"color: #7fbfbf; text-decoration-color: #7fbfbf\">                    </span><span style=\"color: #008000; text-decoration-color: #008000\">DEBUG   </span> No env var `DATA_PATH` found. Setting default<span style=\"color: #808000; text-decoration-color: #808000\">...</span>                       <a href=\"file:///home/zhang/Projects/3d/ProteinWorkshop/proteinworkshop/constants.py\" target=\"_blank\"><span style=\"color: #7f7f7f; text-decoration-color: #7f7f7f\">constants.py</span></a><span style=\"color: #7f7f7f; text-decoration-color: #7f7f7f\">:</span><a href=\"file:///home/zhang/Projects/3d/ProteinWorkshop/proteinworkshop/constants.py#28\" target=\"_blank\"><span style=\"color: #7f7f7f; text-decoration-color: #7f7f7f\">28</span></a>\n",
       "</pre>\n"
      ],
      "text/plain": [
       "\u001b[2;36m                   \u001b[0m\u001b[2;36m \u001b[0m\u001b[32mDEBUG   \u001b[0m No env var `DATA_PATH` found. Setting default\u001b[33m...\u001b[0m                       \u001b]8;id=227671;file:///home/zhang/Projects/3d/ProteinWorkshop/proteinworkshop/constants.py\u001b\\\u001b[2mconstants.py\u001b[0m\u001b]8;;\u001b\\\u001b[2m:\u001b[0m\u001b]8;id=681141;file:///home/zhang/Projects/3d/ProteinWorkshop/proteinworkshop/constants.py#28\u001b\\\u001b[2m28\u001b[0m\u001b]8;;\u001b\\\n"
      ]
     },
     "metadata": {},
     "output_type": "display_data"
    },
    {
     "data": {
      "text/html": [
       "<pre style=\"white-space:pre;overflow-x:auto;line-height:normal;font-family:Menlo,'DejaVu Sans Mono',consolas,'Courier New',monospace\"><span style=\"color: #7fbfbf; text-decoration-color: #7fbfbf\">                    </span><span style=\"color: #000080; text-decoration-color: #000080\">INFO    </span> DATA_PATH:                                                             <a href=\"file:///home/zhang/Projects/3d/ProteinWorkshop/proteinworkshop/constants.py\" target=\"_blank\"><span style=\"color: #7f7f7f; text-decoration-color: #7f7f7f\">constants.py</span></a><span style=\"color: #7f7f7f; text-decoration-color: #7f7f7f\">:</span><a href=\"file:///home/zhang/Projects/3d/ProteinWorkshop/proteinworkshop/constants.py#39\" target=\"_blank\"><span style=\"color: #7f7f7f; text-decoration-color: #7f7f7f\">39</span></a>\n",
       "<span style=\"color: #7fbfbf; text-decoration-color: #7fbfbf\">                    </span>         <span style=\"color: #800080; text-decoration-color: #800080\">/home/zhang/Projects/3d/ProteinWorkshop/proteinworkshop/</span><span style=\"color: #ff00ff; text-decoration-color: #ff00ff\">data</span>           <span style=\"color: #7f7f7f; text-decoration-color: #7f7f7f\">               </span>\n",
       "</pre>\n"
      ],
      "text/plain": [
       "\u001b[2;36m                   \u001b[0m\u001b[2;36m \u001b[0m\u001b[34mINFO    \u001b[0m DATA_PATH:                                                             \u001b]8;id=35144;file:///home/zhang/Projects/3d/ProteinWorkshop/proteinworkshop/constants.py\u001b\\\u001b[2mconstants.py\u001b[0m\u001b]8;;\u001b\\\u001b[2m:\u001b[0m\u001b]8;id=814631;file:///home/zhang/Projects/3d/ProteinWorkshop/proteinworkshop/constants.py#39\u001b\\\u001b[2m39\u001b[0m\u001b]8;;\u001b\\\n",
       "\u001b[2;36m                    \u001b[0m         \u001b[35m/home/zhang/Projects/3d/ProteinWorkshop/proteinworkshop/\u001b[0m\u001b[95mdata\u001b[0m           \u001b[2m               \u001b[0m\n"
      ]
     },
     "metadata": {},
     "output_type": "display_data"
    },
    {
     "data": {
      "text/html": [
       "<pre style=\"white-space:pre;overflow-x:auto;line-height:normal;font-family:Menlo,'DejaVu Sans Mono',consolas,'Courier New',monospace\"><span style=\"color: #7fbfbf; text-decoration-color: #7fbfbf\">[07/31/24 15:53:49] </span><span style=\"color: #000080; text-decoration-color: #000080\">INFO    </span> Hydra initialised at                                                    <a href=\"file:///home/zhang/Projects/3d/ProteinWorkshop/proteinworkshop/utils/notebook.py\" target=\"_blank\"><span style=\"color: #7f7f7f; text-decoration-color: #7f7f7f\">notebook.py</span></a><span style=\"color: #7f7f7f; text-decoration-color: #7f7f7f\">:</span><a href=\"file:///home/zhang/Projects/3d/ProteinWorkshop/proteinworkshop/utils/notebook.py#53\" target=\"_blank\"><span style=\"color: #7f7f7f; text-decoration-color: #7f7f7f\">53</span></a>\n",
       "<span style=\"color: #7fbfbf; text-decoration-color: #7fbfbf\">                    </span>         <span style=\"color: #800080; text-decoration-color: #800080\">/home/zhang/Projects/3d/ProteinWorkshop/proteinworkshop/</span><span style=\"color: #ff00ff; text-decoration-color: #ff00ff\">config.</span>         <span style=\"color: #7f7f7f; text-decoration-color: #7f7f7f\">              </span>\n",
       "</pre>\n"
      ],
      "text/plain": [
       "\u001b[2;36m[07/31/24 15:53:49]\u001b[0m\u001b[2;36m \u001b[0m\u001b[34mINFO    \u001b[0m Hydra initialised at                                                    \u001b]8;id=189925;file:///home/zhang/Projects/3d/ProteinWorkshop/proteinworkshop/utils/notebook.py\u001b\\\u001b[2mnotebook.py\u001b[0m\u001b]8;;\u001b\\\u001b[2m:\u001b[0m\u001b]8;id=133985;file:///home/zhang/Projects/3d/ProteinWorkshop/proteinworkshop/utils/notebook.py#53\u001b\\\u001b[2m53\u001b[0m\u001b]8;;\u001b\\\n",
       "\u001b[2;36m                    \u001b[0m         \u001b[35m/home/zhang/Projects/3d/ProteinWorkshop/proteinworkshop/\u001b[0m\u001b[95mconfig.\u001b[0m         \u001b[2m              \u001b[0m\n"
      ]
     },
     "metadata": {},
     "output_type": "display_data"
    }
   ],
   "source": [
    "# Misc. tools\n",
    "import os\n",
    "\n",
    "# Hydra tools\n",
    "import hydra\n",
    "\n",
    "from hydra.compose import GlobalHydra\n",
    "from hydra.core.hydra_config import HydraConfig\n",
    "\n",
    "from proteinworkshop.constants import HYDRA_CONFIG_PATH\n",
    "from proteinworkshop.utils.notebook import init_hydra_singleton\n",
    "\n",
    "version_base = \"1.2\"  # Note: Need to update whenever Hydra is upgraded\n",
    "init_hydra_singleton(reload=True, version_base=version_base)\n",
    "\n",
    "path = HYDRA_CONFIG_PATH\n",
    "rel_path = os.path.relpath(path, start=\".\")\n",
    "# print(rel_path)\n",
    "GlobalHydra.instance().clear()\n",
    "hydra.initialize(rel_path, version_base=version_base)\n",
    "\n",
    "cfg = hydra.compose(\n",
    "    config_name=\"train\",\n",
    "    overrides=[\n",
    "        \"encoder=schnet\",\n",
    "        \"encoder.hidden_channels=512\", # Number of channels in the hidden layers\n",
    "        \"encoder.out_dim=32\", # Output dimension of the model\n",
    "        \"encoder.num_layers=6\", # Number of filters used in convolutional layers\n",
    "        \"encoder.num_filters=128\", # Number of convolutional layers in the model\n",
    "        \"encoder.num_gaussians=50\", # Number of Gaussian functions used for radial filters\n",
    "        \"encoder.cutoff=10.0\", # Cutoff distance for interactions\n",
    "        \"encoder.max_num_neighbors=32\", # Maximum number of neighboring atoms to consider\n",
    "        \"encoder.readout=add\", # Global pooling method to be used\n",
    "        \"encoder.dipole=False\",\n",
    "        \"encoder.mean=null\",\n",
    "        \"encoder.std=null\",\n",
    "        \"encoder.atomref=null\",\n",
    "        \"encoder.pretraining=False\",\n",
    "\n",
    "        # \"decoder.graph_label.dummy=True\",\n",
    "\n",
    "        \"task=multiclass_graph_classification\",\n",
    "        \"dataset=fold_family\",\n",
    "        \"dataset.datamodule.batch_size=32\",\n",
    "        \"features=ca_angles\", \n",
    "        \"+aux_task=none\",\n",
    "        \n",
    "        \"trainer.max_epochs=150\",\n",
    "        \"optimiser=adam\",\n",
    "        \"optimiser.optimizer.lr=3e-4\",\n",
    "        \"callbacks.early_stopping.patience=10\",\n",
    "        \"test=True\",\n",
    "        \"scheduler=plateau\", # 5 epochs - 0.6 default\n",
    "        # \"+ckpt_path=/home/zhang/Projects/3d/ProteinWorkshop/notebooks/outputs/checkpoints/last.ckpt\", # continue training\n",
    "        ## for test ONLY\n",
    "        # \"task_name=test\",  # here\n",
    "        # \"ckpt_path_test=/home/zhang/Projects/3d/proteinworkshop_checkpoints/outputs_pronet_fold_400epochs/checkpoints/epoch_273.ckpt\", # here\n",
    "        # \"optimizer.weight_decay=0.5\"\n",
    "        \"seed=52\",\n",
    "    ],\n",
    "    return_hydra_config=True,\n",
    ")\n",
    "\n",
    "# Note: Customize as needed e.g., when running a sweep\n",
    "cfg.hydra.job.num = 0\n",
    "cfg.hydra.job.id = 0\n",
    "cfg.hydra.hydra_help.hydra_help = False\n",
    "cfg.hydra.runtime.output_dir = \"outputs\"\n",
    "HydraConfig.instance().set_config(cfg)"
   ]
  },
  {
   "cell_type": "markdown",
   "metadata": {},
   "source": [
    "### 2. Validate the designed training config"
   ]
  },
  {
   "cell_type": "markdown",
   "metadata": {},
   "source": [
    "This is not strictly necessary, but it is a good idea to validate the config before training. This will check that all the arguments you have provided are valid and that the config is complete."
   ]
  },
  {
   "cell_type": "code",
   "execution_count": 4,
   "metadata": {},
   "outputs": [
    {
     "data": {
      "text/html": [
       "<pre style=\"white-space:pre;overflow-x:auto;line-height:normal;font-family:Menlo,'DejaVu Sans Mono',consolas,'Courier New',monospace\"><span style=\"color: #7fbfbf; text-decoration-color: #7fbfbf\">                    </span><span style=\"color: #008000; text-decoration-color: #008000\">DEBUG   </span> CUDA available: <span style=\"color: #00ff00; text-decoration-color: #00ff00; font-style: italic\">True</span>                                                     <a href=\"file:///home/zhang/Projects/3d/ProteinWorkshop/proteinworkshop/configs/config.py\" target=\"_blank\"><span style=\"color: #7f7f7f; text-decoration-color: #7f7f7f\">config.py</span></a><span style=\"color: #7f7f7f; text-decoration-color: #7f7f7f\">:</span><a href=\"file:///home/zhang/Projects/3d/ProteinWorkshop/proteinworkshop/configs/config.py#249\" target=\"_blank\"><span style=\"color: #7f7f7f; text-decoration-color: #7f7f7f\">249</span></a>\n",
       "</pre>\n"
      ],
      "text/plain": [
       "\u001b[2;36m                   \u001b[0m\u001b[2;36m \u001b[0m\u001b[32mDEBUG   \u001b[0m CUDA available: \u001b[3;92mTrue\u001b[0m                                                     \u001b]8;id=635694;file:///home/zhang/Projects/3d/ProteinWorkshop/proteinworkshop/configs/config.py\u001b\\\u001b[2mconfig.py\u001b[0m\u001b]8;;\u001b\\\u001b[2m:\u001b[0m\u001b]8;id=837827;file:///home/zhang/Projects/3d/ProteinWorkshop/proteinworkshop/configs/config.py#249\u001b\\\u001b[2m249\u001b[0m\u001b]8;;\u001b\\\n"
      ]
     },
     "metadata": {},
     "output_type": "display_data"
    },
    {
     "data": {
      "text/html": [
       "<pre style=\"white-space:pre;overflow-x:auto;line-height:normal;font-family:Menlo,'DejaVu Sans Mono',consolas,'Courier New',monospace\"><span style=\"color: #7fbfbf; text-decoration-color: #7fbfbf\">                    </span><span style=\"color: #008000; text-decoration-color: #008000\">DEBUG   </span> Requested GPUs: <span style=\"color: #008080; text-decoration-color: #008080; font-weight: bold\">1</span>.                                                       <a href=\"file:///home/zhang/Projects/3d/ProteinWorkshop/proteinworkshop/configs/config.py\" target=\"_blank\"><span style=\"color: #7f7f7f; text-decoration-color: #7f7f7f\">config.py</span></a><span style=\"color: #7f7f7f; text-decoration-color: #7f7f7f\">:</span><a href=\"file:///home/zhang/Projects/3d/ProteinWorkshop/proteinworkshop/configs/config.py#250\" target=\"_blank\"><span style=\"color: #7f7f7f; text-decoration-color: #7f7f7f\">250</span></a>\n",
       "</pre>\n"
      ],
      "text/plain": [
       "\u001b[2;36m                   \u001b[0m\u001b[2;36m \u001b[0m\u001b[32mDEBUG   \u001b[0m Requested GPUs: \u001b[1;36m1\u001b[0m.                                                       \u001b]8;id=454406;file:///home/zhang/Projects/3d/ProteinWorkshop/proteinworkshop/configs/config.py\u001b\\\u001b[2mconfig.py\u001b[0m\u001b]8;;\u001b\\\u001b[2m:\u001b[0m\u001b]8;id=668321;file:///home/zhang/Projects/3d/ProteinWorkshop/proteinworkshop/configs/config.py#250\u001b\\\u001b[2m250\u001b[0m\u001b]8;;\u001b\\\n"
      ]
     },
     "metadata": {},
     "output_type": "display_data"
    },
    {
     "data": {
      "text/html": [
       "<pre style=\"white-space:pre;overflow-x:auto;line-height:normal;font-family:Menlo,'DejaVu Sans Mono',consolas,'Courier New',monospace\"><span style=\"color: #7fbfbf; text-decoration-color: #7fbfbf\">                    </span><span style=\"color: #008000; text-decoration-color: #008000\">DEBUG   </span> GPU count set to: <span style=\"color: #008080; text-decoration-color: #008080; font-weight: bold\">1</span>                                                      <a href=\"file:///home/zhang/Projects/3d/ProteinWorkshop/proteinworkshop/configs/config.py\" target=\"_blank\"><span style=\"color: #7f7f7f; text-decoration-color: #7f7f7f\">config.py</span></a><span style=\"color: #7f7f7f; text-decoration-color: #7f7f7f\">:</span><a href=\"file:///home/zhang/Projects/3d/ProteinWorkshop/proteinworkshop/configs/config.py#255\" target=\"_blank\"><span style=\"color: #7f7f7f; text-decoration-color: #7f7f7f\">255</span></a>\n",
       "</pre>\n"
      ],
      "text/plain": [
       "\u001b[2;36m                   \u001b[0m\u001b[2;36m \u001b[0m\u001b[32mDEBUG   \u001b[0m GPU count set to: \u001b[1;36m1\u001b[0m                                                      \u001b]8;id=4236;file:///home/zhang/Projects/3d/ProteinWorkshop/proteinworkshop/configs/config.py\u001b\\\u001b[2mconfig.py\u001b[0m\u001b]8;;\u001b\\\u001b[2m:\u001b[0m\u001b]8;id=758597;file:///home/zhang/Projects/3d/ProteinWorkshop/proteinworkshop/configs/config.py#255\u001b\\\u001b[2m255\u001b[0m\u001b]8;;\u001b\\\n"
      ]
     },
     "metadata": {},
     "output_type": "display_data"
    },
    {
     "data": {
      "text/html": [
       "<pre style=\"white-space:pre;overflow-x:auto;line-height:normal;font-family:Menlo,'DejaVu Sans Mono',consolas,'Courier New',monospace\"><span style=\"color: #7fbfbf; text-decoration-color: #7fbfbf\">                    </span><span style=\"color: #800000; text-decoration-color: #800000\">WARNING </span> You are not using early stopping.                                        <a href=\"file:///home/zhang/Projects/3d/ProteinWorkshop/proteinworkshop/configs/config.py\" target=\"_blank\"><span style=\"color: #7f7f7f; text-decoration-color: #7f7f7f\">config.py</span></a><span style=\"color: #7f7f7f; text-decoration-color: #7f7f7f\">:</span><a href=\"file:///home/zhang/Projects/3d/ProteinWorkshop/proteinworkshop/configs/config.py#165\" target=\"_blank\"><span style=\"color: #7f7f7f; text-decoration-color: #7f7f7f\">165</span></a>\n",
       "</pre>\n"
      ],
      "text/plain": [
       "\u001b[2;36m                   \u001b[0m\u001b[2;36m \u001b[0m\u001b[31mWARNING \u001b[0m You are not using early stopping.                                        \u001b]8;id=393603;file:///home/zhang/Projects/3d/ProteinWorkshop/proteinworkshop/configs/config.py\u001b\\\u001b[2mconfig.py\u001b[0m\u001b]8;;\u001b\\\u001b[2m:\u001b[0m\u001b]8;id=659579;file:///home/zhang/Projects/3d/ProteinWorkshop/proteinworkshop/configs/config.py#165\u001b\\\u001b[2m165\u001b[0m\u001b]8;;\u001b\\\n"
      ]
     },
     "metadata": {},
     "output_type": "display_data"
    }
   ],
   "source": [
    "from proteinworkshop.configs import config\n",
    "\n",
    "cfg = config.validate_config(cfg)"
   ]
  },
  {
   "cell_type": "code",
   "execution_count": 5,
   "metadata": {},
   "outputs": [
    {
     "name": "stdout",
     "output_type": "stream",
     "text": [
      "dict_keys(['hydra', 'env', 'dataset', 'features', 'encoder', 'decoder', 'transforms', 'callbacks', 'optimiser', 'scheduler', 'trainer', 'extras', 'metrics', 'task', 'logger', 'hparams', 'name', 'seed', 'num_workers', 'task_name', 'ckpt_path_test', 'test', 'aux_task'])\n",
      "hydra\n",
      "{'run': {'dir': '${env.paths.log_dir}/${task_name}/runs/${now:%Y-%m-%d}_${now:%H-%M-%S}'}, 'sweep': {'dir': '${env.paths.log_dir}/${task_name}/multiruns/${now:%Y-%m-%d}_${now:%H-%M-%S}', 'subdir': '${hydra.job.num}'}, 'launcher': {'_target_': 'hydra._internal.core_plugins.basic_launcher.BasicLauncher'}, 'sweeper': {'_target_': 'hydra._internal.core_plugins.basic_sweeper.BasicSweeper', 'max_batch_size': None, 'params': None}, 'help': {'app_name': '${hydra.job.name}', 'header': '${hydra.help.app_name} is powered by Hydra.\\n', 'footer': 'Powered by Hydra (https://hydra.cc)\\nUse --hydra-help to view Hydra specific help\\n', 'template': '${hydra.help.header}\\n== Configuration groups ==\\nCompose your configuration from those groups (group=option)\\n\\n$APP_CONFIG_GROUPS\\n\\n== Config ==\\nOverride anything in the config (foo.bar=value)\\n\\n$CONFIG\\n\\n${hydra.help.footer}\\n'}, 'hydra_help': {'template': \"Hydra (${hydra.runtime.version})\\nSee https://hydra.cc for more info.\\n\\n== Flags ==\\n$FLAGS_HELP\\n\\n== Configuration groups ==\\nCompose your configuration from those groups (For example, append hydra/job_logging=disabled to command line)\\n\\n$HYDRA_CONFIG_GROUPS\\n\\nUse '--cfg hydra' to Show the Hydra config.\\n\", 'hydra_help': 'False'}, 'hydra_logging': {'version': 1, 'formatters': {'colorlog': {'()': 'colorlog.ColoredFormatter', 'format': '[%(cyan)s%(asctime)s%(reset)s][%(purple)sHYDRA%(reset)s] %(message)s'}}, 'handlers': {'console': {'class': 'logging.StreamHandler', 'formatter': 'colorlog', 'stream': 'ext://sys.stdout'}}, 'root': {'level': 'INFO', 'handlers': ['console']}, 'disable_existing_loggers': False}, 'job_logging': {'version': 1, 'formatters': {'simple': {'format': '[%(asctime)s][%(name)s][%(levelname)s] - %(message)s'}, 'colorlog': {'()': 'colorlog.ColoredFormatter', 'format': '[%(cyan)s%(asctime)s%(reset)s][%(blue)s%(name)s%(reset)s][%(log_color)s%(levelname)s%(reset)s] - %(message)s', 'log_colors': {'DEBUG': 'purple', 'INFO': 'green', 'WARNING': 'yellow', 'ERROR': 'red', 'CRITICAL': 'red'}}}, 'handlers': {'console': {'class': 'logging.StreamHandler', 'formatter': 'colorlog', 'stream': 'ext://sys.stdout'}, 'file': {'class': 'logging.FileHandler', 'formatter': 'simple', 'filename': '${hydra.runtime.output_dir}/${hydra.job.name}.log'}}, 'root': {'level': 'INFO', 'handlers': ['console', 'file']}, 'disable_existing_loggers': False}, 'env': {}, 'mode': None, 'searchpath': [], 'callbacks': {}, 'output_subdir': '.hydra', 'overrides': {'hydra': [], 'task': ['encoder=schnet', 'encoder.hidden_channels=512', 'encoder.out_dim=32', 'encoder.num_layers=6', 'encoder.num_filters=128', 'encoder.num_gaussians=50', 'encoder.cutoff=10.0', 'encoder.max_num_neighbors=32', 'encoder.readout=add', 'encoder.dipole=False', 'encoder.mean=null', 'encoder.std=null', 'encoder.atomref=null', 'encoder.pretraining=False', 'task=multiclass_graph_classification', 'dataset=fold_family', 'dataset.datamodule.batch_size=32', 'features=ca_angles', '+aux_task=none', 'trainer.max_epochs=150', 'optimiser=adam', 'optimiser.optimizer.lr=3e-4', 'callbacks.early_stopping.patience=10', 'test=True', 'scheduler=plateau', 'seed=52']}, 'job': {'name': 'notebook', 'chdir': None, 'override_dirname': '+aux_task=none,callbacks.early_stopping.patience=10,dataset.datamodule.batch_size=32,dataset=fold_family,encoder.atomref=null,encoder.cutoff=10.0,encoder.dipole=False,encoder.hidden_channels=512,encoder.max_num_neighbors=32,encoder.mean=null,encoder.num_filters=128,encoder.num_gaussians=50,encoder.num_layers=6,encoder.out_dim=32,encoder.pretraining=False,encoder.readout=add,encoder.std=null,encoder=schnet,features=ca_angles,optimiser.optimizer.lr=3e-4,optimiser=adam,scheduler=plateau,seed=52,task=multiclass_graph_classification,test=True,trainer.max_epochs=150', 'id': '0', 'num': 0, 'config_name': 'train', 'env_set': {}, 'env_copy': [], 'config': {'override_dirname': {'kv_sep': '=', 'item_sep': ',', 'exclude_keys': []}}}, 'runtime': {'version': '1.3.2', 'version_base': '1.2', 'cwd': '/home/zhang/Projects/3d/ProteinWorkshop/notebooks', 'config_sources': [{'path': 'hydra.conf', 'schema': 'pkg', 'provider': 'hydra'}, {'path': '/home/zhang/Projects/3d/ProteinWorkshop/proteinworkshop/config', 'schema': 'file', 'provider': 'main'}, {'path': 'hydra_plugins.hydra_colorlog.conf', 'schema': 'pkg', 'provider': 'hydra-colorlog'}, {'path': '', 'schema': 'structured', 'provider': 'schema'}], 'output_dir': 'outputs', 'choices': {'aux_task': 'none', 'debug': None, 'logger': 'csv', 'task': 'multiclass_graph_classification', 'hydra': 'default', 'extras': 'default', 'trainer': 'gpu', 'scheduler': 'plateau', 'optimiser': 'adam', 'callbacks': 'default', 'transforms': 'default', 'encoder': 'schnet', 'features': 'ca_angles', 'dataset': 'fold_family', 'env': 'default', 'hparams': 'schnet_ca_angles', 'hydra/env': 'default', 'hydra/callbacks': None, 'hydra/job_logging': 'colorlog', 'hydra/hydra_logging': 'colorlog', 'hydra/hydra_help': 'default', 'hydra/help': 'default', 'hydra/sweeper': 'basic', 'hydra/launcher': 'basic', 'hydra/output': 'default'}}, 'verbose': False}\n",
      "env\n",
      "{'paths': {'root_dir': '${oc.env:ROOT_DIR}', 'data': '${oc.env:DATA_PATH}', 'output_dir': '${hydra:runtime.output_dir}', 'work_dir': '${hydra:runtime.cwd}', 'log_dir': '${oc.env:RUNS_PATH}', 'runs': '${oc.env:RUNS_PATH}', 'run_dir': '${env.paths.runs}/${name}/${env.init_time}'}, 'python': {'version': '${python_version:micro}'}, 'init_time': '${now:%y-%m-%d_%H:%M:%S}'}\n",
      "dataset\n",
      "{'datamodule': {'_target_': 'proteinworkshop.datasets.fold_classification.FoldClassificationDataModule', 'path': '${env.paths.data}/FoldClassification/', 'split': 'family', 'batch_size': 32, 'pin_memory': True, 'num_workers': 4, 'dataset_fraction': 1.0, 'shuffle_labels': False, 'transforms': '${transforms}', 'overwrite': False, 'in_memory': True}, 'num_classes': 1195}\n",
      "features\n",
      "{'_target_': 'proteinworkshop.features.factory.ProteinFeaturiser', 'representation': 'CA', 'scalar_node_features': ['amino_acid_one_hot', 'sequence_positional_encoding', 'alpha', 'kappa'], 'vector_node_features': [], 'edge_types': ['knn_16'], 'scalar_edge_features': ['edge_distance'], 'vector_edge_features': []}\n",
      "encoder\n",
      "{'_target_': 'proteinworkshop.models.graph_encoders.schnet.SchNetModel', 'hidden_channels': 512, 'out_dim': 32, 'num_layers': 6, 'num_filters': 128, 'num_gaussians': 50, 'cutoff': 10.0, 'max_num_neighbors': 32, 'readout': 'add', 'dipole': False, 'mean': None, 'std': None, 'atomref': None, 'pretraining': False}\n",
      "decoder\n",
      "{'graph_label': {'_target_': 'proteinworkshop.models.decoders.mlp_decoder.MLPDecoder', 'hidden_dim': [512, 512, 512], 'dropout': 0.0, 'activations': ['relu', 'relu', 'relu', 'none'], 'skip': 'concat', 'out_dim': '${dataset.num_classes}', 'input': 'graph_embedding', 'dummy': False}}\n",
      "transforms\n",
      "{'remove_missing_ca': {'_target_': 'proteinworkshop.tasks.remove_missing_ca.RemoveMissingCa', 'fill_value': 1e-05, 'ca_idx': 1}}\n",
      "callbacks\n",
      "{'model_checkpoint': {'_target_': 'lightning.pytorch.callbacks.ModelCheckpoint', 'dirpath': '${env.paths.output_dir}/checkpoints', 'filename': 'epoch_{epoch:03d}', 'monitor': 'val/graph_label/accuracy', 'verbose': True, 'save_last': True, 'save_top_k': 1, 'mode': 'max', 'auto_insert_metric_name': False, 'save_weights_only': False, 'every_n_train_steps': None, 'train_time_interval': None, 'every_n_epochs': None, 'save_on_train_epoch_end': None}, 'early_stopping': {'_target_': 'lightning.pytorch.callbacks.EarlyStopping', 'monitor': 'val/graph_label/accuracy', 'min_delta': 0.0, 'patience': 10, 'verbose': True, 'mode': 'max', 'strict': True, 'check_finite': True, 'stopping_threshold': None, 'divergence_threshold': None, 'check_on_train_epoch_end': False}, 'model_summary': {'_target_': 'lightning.pytorch.callbacks.RichModelSummary', 'max_depth': -1}, 'rich_progress_bar': {'_target_': 'lightning.pytorch.callbacks.RichProgressBar'}, 'learning_rate_monitor': {'_target_': 'lightning.pytorch.callbacks.LearningRateMonitor'}, 'stop_on_nan': {'_target_': 'lightning.pytorch.callbacks.EarlyStopping', 'monitor': 'train/loss/total', 'min_delta': 0.0, 'patience': 10000000, 'verbose': True, 'mode': 'min', 'strict': True, 'check_finite': True, 'stopping_threshold': None, 'divergence_threshold': None, 'check_on_train_epoch_end': None}}\n",
      "optimiser\n",
      "{'optimizer': {'_target_': 'torch.optim.Adam', '_partial_': True, 'lr': 0.0003, 'weight_decay': 0.0}}\n",
      "scheduler\n",
      "{'scheduler': {'_target_': 'torch.optim.lr_scheduler.ReduceLROnPlateau', '_partial_': True, 'mode': 'min', 'factor': 0.6, 'patience': 5, 'verbose': True}, 'interval': 'epoch', 'frequency': 1, 'monitor': 'val/loss/total', 'strict': True, 'name': 'learning_rate'}\n",
      "trainer\n",
      "{'_target_': 'lightning.pytorch.trainer.Trainer', 'default_root_dir': '${env.paths.output_dir}', 'min_epochs': 1, 'max_epochs': 150, 'accelerator': 'gpu', 'check_val_every_n_epoch': 1, 'deterministic': False, 'num_sanity_val_steps': 2, 'devices': 1}\n",
      "extras\n",
      "{'ignore_warnings': True, 'enforce_tags': False, 'print_config': True}\n",
      "metrics\n",
      "{'accuracy': {'_target_': 'torchmetrics.Accuracy', 'task': '${task.classification_type}', 'average': '${task.metric_average}', 'num_classes': '${dataset.num_classes}', 'top_k': 1}, 'f1_score': {'_target_': 'torchmetrics.F1Score', 'average': 'macro', 'num_classes': '${dataset.num_classes}', 'task': '${task.classification_type}'}, 'f1_max': {'_target_': 'proteinworkshop.metrics.f1_max.F1Max', 'num_classes': '${dataset.num_classes}'}}\n",
      "task\n",
      "{'task': 'classification', 'classification_type': 'multiclass', 'metric_average': 'micro', 'losses': {'graph_label': 'cross_entropy'}, 'label_smoothing': 0.0, 'output': ['graph_label'], 'supervise_on': ['graph_label']}\n",
      "logger\n",
      "{'csv': {'_target_': 'lightning.pytorch.loggers.csv_logs.CSVLogger', 'save_dir': '${env.paths.output_dir}', 'name': 'csv/', 'prefix': ''}}\n",
      "hparams\n",
      "{'hparams': {'lr': 0.001, 'decoder_dropout': 0.1}}\n",
      "name\n",
      "\n",
      "seed\n",
      "52\n",
      "num_workers\n",
      "16\n",
      "task_name\n",
      "train\n",
      "ckpt_path_test\n",
      "\n",
      "test\n",
      "True\n",
      "aux_task\n",
      "{}\n"
     ]
    }
   ],
   "source": [
    "print(cfg.keys())\n",
    "for key in cfg.keys():\n",
    "    print(key)\n",
    "    print(cfg[key])"
   ]
  },
  {
   "cell_type": "markdown",
   "metadata": {},
   "source": [
    "### 3. Use the designed config to train a new model"
   ]
  },
  {
   "cell_type": "markdown",
   "metadata": {},
   "source": [
    "Now with the config you have designed, you can train a new model. You can also use the `ProteinWorkshop` to evaluate the model on a downstream task."
   ]
  },
  {
   "cell_type": "code",
   "execution_count": 6,
   "metadata": {},
   "outputs": [],
   "source": [
    "# import torch\n",
    "# import torch.nn as nn\n",
    "# ckpt_path = '/home/zhang/Projects/3d/proteinworkshop_checkpoints/outputs_pronet_pretraining_best@2/checkpoints/epoch_002.ckpt'\n",
    "# # Assuming `model` is your model and `encoder_weights` is the state_dict of pretrained weights\n",
    "# print(torch.load(ckpt_path).keys())\n",
    "# # Load the pretrained state_dict\n",
    "# checkpoint = torch.load(ckpt_path)\n",
    "# pretrained_dict = torch.load(ckpt_path)[\"state_dict\"]\n",
    "\n",
    "# # Create a new state_dict that excludes the final layer parameters\n",
    "# filtered_dict = {k: v for k, v in pretrained_dict.items() if not k.startswith('encoder.lin_out.')}\n",
    "# filtered_dict = {k: v for k, v in filtered_dict.items() if not k.startswith('encoder.lins_out.')}\n",
    "# print(filtered_dict.keys())\n",
    "# new_checkpoint = {\n",
    "#     \"epoch\": checkpoint[\"epoch\"],\n",
    "#     \"global_step\": checkpoint[\"global_step\"],\n",
    "#     \"pytorch-lightning_version\": checkpoint[\"pytorch-lightning_version\"],\n",
    "#     \"state_dict\": filtered_dict,\n",
    "#     \"loops\": checkpoint[\"loops\"],\n",
    "#     \"callbacks\": checkpoint[\"callbacks\"],\n",
    "#     \"optimizer_states\": checkpoint[\"optimizer_states\"],\n",
    "#     \"lr_schedulers\": checkpoint[\"lr_schedulers\"],\n",
    "#     \"hparams_name\": checkpoint[\"hparams_name\"],\n",
    "#     \"hyper_parameters\": checkpoint[\"hyper_parameters\"]\n",
    "# }\n",
    "\n",
    "# torch.save(new_checkpoint, '/home/zhang/Projects/3d/proteinworkshop_checkpoints/outputs_pronet_pretraining_best@2/checkpoints/epoch_002_filtered.ckpt')"
   ]
  },
  {
   "cell_type": "code",
   "execution_count": 7,
   "metadata": {},
   "outputs": [],
   "source": [
    "cfg.get(\"ckpt_path\")"
   ]
  },
  {
   "cell_type": "code",
   "execution_count": 9,
   "metadata": {},
   "outputs": [
    {
     "data": {
      "text/html": [
       "<pre style=\"white-space:pre;overflow-x:auto;line-height:normal;font-family:Menlo,'DejaVu Sans Mono',consolas,'Courier New',monospace\"><span style=\"color: #7fbfbf; text-decoration-color: #7fbfbf\">[07/31/24 15:55:03] </span><span style=\"color: #000080; text-decoration-color: #000080\">INFO    </span> Instantiating encoder<span style=\"color: #808000; text-decoration-color: #808000\">...</span>                                                   <a href=\"file:///home/zhang/Projects/3d/ProteinWorkshop/proteinworkshop/models/base.py\" target=\"_blank\"><span style=\"color: #7f7f7f; text-decoration-color: #7f7f7f\">base.py</span></a><span style=\"color: #7f7f7f; text-decoration-color: #7f7f7f\">:</span><a href=\"file:///home/zhang/Projects/3d/ProteinWorkshop/proteinworkshop/models/base.py#413\" target=\"_blank\"><span style=\"color: #7f7f7f; text-decoration-color: #7f7f7f\">413</span></a>\n",
       "</pre>\n"
      ],
      "text/plain": [
       "\u001b[2;36m[07/31/24 15:55:03]\u001b[0m\u001b[2;36m \u001b[0m\u001b[34mINFO    \u001b[0m Instantiating encoder\u001b[33m...\u001b[0m                                                   \u001b]8;id=641731;file:///home/zhang/Projects/3d/ProteinWorkshop/proteinworkshop/models/base.py\u001b\\\u001b[2mbase.py\u001b[0m\u001b]8;;\u001b\\\u001b[2m:\u001b[0m\u001b]8;id=460728;file:///home/zhang/Projects/3d/ProteinWorkshop/proteinworkshop/models/base.py#413\u001b\\\u001b[2m413\u001b[0m\u001b]8;;\u001b\\\n"
      ]
     },
     "metadata": {},
     "output_type": "display_data"
    },
    {
     "name": "stderr",
     "output_type": "stream",
     "text": [
      "/home/zhang/miniconda3/envs/3d/lib/python3.10/site-packages/torch/nn/modules/lazy.py:180: UserWarning:\n",
      "\n",
      "Lazy modules are a new feature under heavy development so changes to the API or functionality can happen at any moment.\n",
      "\n"
     ]
    },
    {
     "data": {
      "text/html": [
       "<pre style=\"white-space:pre;overflow-x:auto;line-height:normal;font-family:Menlo,'DejaVu Sans Mono',consolas,'Courier New',monospace\"><span style=\"color: #7fbfbf; text-decoration-color: #7fbfbf\">                    </span><span style=\"color: #000080; text-decoration-color: #000080\">INFO    </span> <span style=\"color: #800080; text-decoration-color: #800080; font-weight: bold\">SchNetModel</span><span style=\"font-weight: bold\">(</span><span style=\"color: #808000; text-decoration-color: #808000\">hidden_channels</span>=<span style=\"color: #008080; text-decoration-color: #008080; font-weight: bold\">512</span>, <span style=\"color: #808000; text-decoration-color: #808000\">num_filters</span>=<span style=\"color: #008080; text-decoration-color: #008080; font-weight: bold\">128</span>, <span style=\"color: #808000; text-decoration-color: #808000\">num_interactions</span>=<span style=\"color: #008080; text-decoration-color: #008080; font-weight: bold\">6</span>,      <a href=\"file:///home/zhang/Projects/3d/ProteinWorkshop/proteinworkshop/models/base.py\" target=\"_blank\"><span style=\"color: #7f7f7f; text-decoration-color: #7f7f7f\">base.py</span></a><span style=\"color: #7f7f7f; text-decoration-color: #7f7f7f\">:</span><a href=\"file:///home/zhang/Projects/3d/ProteinWorkshop/proteinworkshop/models/base.py#415\" target=\"_blank\"><span style=\"color: #7f7f7f; text-decoration-color: #7f7f7f\">415</span></a>\n",
       "<span style=\"color: #7fbfbf; text-decoration-color: #7fbfbf\">                    </span>         <span style=\"color: #808000; text-decoration-color: #808000\">num_gaussians</span>=<span style=\"color: #008080; text-decoration-color: #008080; font-weight: bold\">50</span>, <span style=\"color: #808000; text-decoration-color: #808000\">cutoff</span>=<span style=\"color: #008080; text-decoration-color: #008080; font-weight: bold\">10.0</span><span style=\"font-weight: bold\">)</span>                                             <span style=\"color: #7f7f7f; text-decoration-color: #7f7f7f\">           </span>\n",
       "</pre>\n"
      ],
      "text/plain": [
       "\u001b[2;36m                   \u001b[0m\u001b[2;36m \u001b[0m\u001b[34mINFO    \u001b[0m \u001b[1;35mSchNetModel\u001b[0m\u001b[1m(\u001b[0m\u001b[33mhidden_channels\u001b[0m=\u001b[1;36m512\u001b[0m, \u001b[33mnum_filters\u001b[0m=\u001b[1;36m128\u001b[0m, \u001b[33mnum_interactions\u001b[0m=\u001b[1;36m6\u001b[0m,      \u001b]8;id=882397;file:///home/zhang/Projects/3d/ProteinWorkshop/proteinworkshop/models/base.py\u001b\\\u001b[2mbase.py\u001b[0m\u001b]8;;\u001b\\\u001b[2m:\u001b[0m\u001b]8;id=750418;file:///home/zhang/Projects/3d/ProteinWorkshop/proteinworkshop/models/base.py#415\u001b\\\u001b[2m415\u001b[0m\u001b]8;;\u001b\\\n",
       "\u001b[2;36m                    \u001b[0m         \u001b[33mnum_gaussians\u001b[0m=\u001b[1;36m50\u001b[0m, \u001b[33mcutoff\u001b[0m=\u001b[1;36m10\u001b[0m\u001b[1;36m.0\u001b[0m\u001b[1m)\u001b[0m                                             \u001b[2m           \u001b[0m\n"
      ]
     },
     "metadata": {},
     "output_type": "display_data"
    },
    {
     "data": {
      "text/html": [
       "<pre style=\"white-space:pre;overflow-x:auto;line-height:normal;font-family:Menlo,'DejaVu Sans Mono',consolas,'Courier New',monospace\"><span style=\"color: #7fbfbf; text-decoration-color: #7fbfbf\">                    </span><span style=\"color: #000080; text-decoration-color: #000080\">INFO    </span> Instantiating decoders<span style=\"color: #808000; text-decoration-color: #808000\">...</span>                                                  <a href=\"file:///home/zhang/Projects/3d/ProteinWorkshop/proteinworkshop/models/base.py\" target=\"_blank\"><span style=\"color: #7f7f7f; text-decoration-color: #7f7f7f\">base.py</span></a><span style=\"color: #7f7f7f; text-decoration-color: #7f7f7f\">:</span><a href=\"file:///home/zhang/Projects/3d/ProteinWorkshop/proteinworkshop/models/base.py#417\" target=\"_blank\"><span style=\"color: #7f7f7f; text-decoration-color: #7f7f7f\">417</span></a>\n",
       "</pre>\n"
      ],
      "text/plain": [
       "\u001b[2;36m                   \u001b[0m\u001b[2;36m \u001b[0m\u001b[34mINFO    \u001b[0m Instantiating decoders\u001b[33m...\u001b[0m                                                  \u001b]8;id=873073;file:///home/zhang/Projects/3d/ProteinWorkshop/proteinworkshop/models/base.py\u001b\\\u001b[2mbase.py\u001b[0m\u001b]8;;\u001b\\\u001b[2m:\u001b[0m\u001b]8;id=423284;file:///home/zhang/Projects/3d/ProteinWorkshop/proteinworkshop/models/base.py#417\u001b\\\u001b[2m417\u001b[0m\u001b]8;;\u001b\\\n"
      ]
     },
     "metadata": {},
     "output_type": "display_data"
    },
    {
     "data": {
      "text/html": [
       "<pre style=\"white-space:pre;overflow-x:auto;line-height:normal;font-family:Menlo,'DejaVu Sans Mono',consolas,'Courier New',monospace\"><span style=\"color: #7fbfbf; text-decoration-color: #7fbfbf\">                    </span><span style=\"color: #000080; text-decoration-color: #000080\">INFO    </span> Building graph_label decoder. Output dim <span style=\"color: #008080; text-decoration-color: #008080; font-weight: bold\">1195</span>                              <a href=\"file:///home/zhang/Projects/3d/ProteinWorkshop/proteinworkshop/models/base.py\" target=\"_blank\"><span style=\"color: #7f7f7f; text-decoration-color: #7f7f7f\">base.py</span></a><span style=\"color: #7f7f7f; text-decoration-color: #7f7f7f\">:</span><a href=\"file:///home/zhang/Projects/3d/ProteinWorkshop/proteinworkshop/models/base.py#252\" target=\"_blank\"><span style=\"color: #7f7f7f; text-decoration-color: #7f7f7f\">252</span></a>\n",
       "</pre>\n"
      ],
      "text/plain": [
       "\u001b[2;36m                   \u001b[0m\u001b[2;36m \u001b[0m\u001b[34mINFO    \u001b[0m Building graph_label decoder. Output dim \u001b[1;36m1195\u001b[0m                              \u001b]8;id=640033;file:///home/zhang/Projects/3d/ProteinWorkshop/proteinworkshop/models/base.py\u001b\\\u001b[2mbase.py\u001b[0m\u001b]8;;\u001b\\\u001b[2m:\u001b[0m\u001b]8;id=94292;file:///home/zhang/Projects/3d/ProteinWorkshop/proteinworkshop/models/base.py#252\u001b\\\u001b[2m252\u001b[0m\u001b]8;;\u001b\\\n"
      ]
     },
     "metadata": {},
     "output_type": "display_data"
    },
    {
     "data": {
      "text/html": [
       "<pre style=\"white-space:pre;overflow-x:auto;line-height:normal;font-family:Menlo,'DejaVu Sans Mono',consolas,'Courier New',monospace\"><span style=\"color: #7fbfbf; text-decoration-color: #7fbfbf\">                    </span><span style=\"color: #000080; text-decoration-color: #000080\">INFO    </span> <span style=\"font-weight: bold\">{</span><span style=\"color: #008000; text-decoration-color: #008000\">'_target_'</span>: <span style=\"color: #008000; text-decoration-color: #008000\">'proteinworkshop.models.decoders.mlp_decoder.MLPDecoder'</span>,     <a href=\"file:///home/zhang/Projects/3d/ProteinWorkshop/proteinworkshop/models/base.py\" target=\"_blank\"><span style=\"color: #7f7f7f; text-decoration-color: #7f7f7f\">base.py</span></a><span style=\"color: #7f7f7f; text-decoration-color: #7f7f7f\">:</span><a href=\"file:///home/zhang/Projects/3d/ProteinWorkshop/proteinworkshop/models/base.py#255\" target=\"_blank\"><span style=\"color: #7f7f7f; text-decoration-color: #7f7f7f\">255</span></a>\n",
       "<span style=\"color: #7fbfbf; text-decoration-color: #7fbfbf\">                    </span>         <span style=\"color: #008000; text-decoration-color: #008000\">'hidden_dim'</span>: <span style=\"font-weight: bold\">[</span><span style=\"color: #008080; text-decoration-color: #008080; font-weight: bold\">512</span>, <span style=\"color: #008080; text-decoration-color: #008080; font-weight: bold\">512</span>, <span style=\"color: #008080; text-decoration-color: #008080; font-weight: bold\">512</span><span style=\"font-weight: bold\">]</span>, <span style=\"color: #008000; text-decoration-color: #008000\">'dropout'</span>: <span style=\"color: #008080; text-decoration-color: #008080; font-weight: bold\">0.0</span>, <span style=\"color: #008000; text-decoration-color: #008000\">'activations'</span>: <span style=\"font-weight: bold\">[</span><span style=\"color: #008000; text-decoration-color: #008000\">'relu'</span>,     <span style=\"color: #7f7f7f; text-decoration-color: #7f7f7f\">           </span>\n",
       "<span style=\"color: #7fbfbf; text-decoration-color: #7fbfbf\">                    </span>         <span style=\"color: #008000; text-decoration-color: #008000\">'relu'</span>, <span style=\"color: #008000; text-decoration-color: #008000\">'relu'</span>, <span style=\"color: #008000; text-decoration-color: #008000\">'none'</span><span style=\"font-weight: bold\">]</span>, <span style=\"color: #008000; text-decoration-color: #008000\">'skip'</span>: <span style=\"color: #008000; text-decoration-color: #008000\">'concat'</span>, <span style=\"color: #008000; text-decoration-color: #008000\">'out_dim'</span>:                      <span style=\"color: #7f7f7f; text-decoration-color: #7f7f7f\">           </span>\n",
       "<span style=\"color: #7fbfbf; text-decoration-color: #7fbfbf\">                    </span>         <span style=\"color: #008000; text-decoration-color: #008000\">'${dataset.num_classes}'</span>, <span style=\"color: #008000; text-decoration-color: #008000\">'input'</span>: <span style=\"color: #008000; text-decoration-color: #008000\">'graph_embedding'</span>, <span style=\"color: #008000; text-decoration-color: #008000\">'dummy'</span>: <span style=\"color: #ff0000; text-decoration-color: #ff0000; font-style: italic\">False</span><span style=\"font-weight: bold\">}</span>      <span style=\"color: #7f7f7f; text-decoration-color: #7f7f7f\">           </span>\n",
       "</pre>\n"
      ],
      "text/plain": [
       "\u001b[2;36m                   \u001b[0m\u001b[2;36m \u001b[0m\u001b[34mINFO    \u001b[0m \u001b[1m{\u001b[0m\u001b[32m'_target_'\u001b[0m: \u001b[32m'proteinworkshop.models.decoders.mlp_decoder.MLPDecoder'\u001b[0m,     \u001b]8;id=769639;file:///home/zhang/Projects/3d/ProteinWorkshop/proteinworkshop/models/base.py\u001b\\\u001b[2mbase.py\u001b[0m\u001b]8;;\u001b\\\u001b[2m:\u001b[0m\u001b]8;id=46628;file:///home/zhang/Projects/3d/ProteinWorkshop/proteinworkshop/models/base.py#255\u001b\\\u001b[2m255\u001b[0m\u001b]8;;\u001b\\\n",
       "\u001b[2;36m                    \u001b[0m         \u001b[32m'hidden_dim'\u001b[0m: \u001b[1m[\u001b[0m\u001b[1;36m512\u001b[0m, \u001b[1;36m512\u001b[0m, \u001b[1;36m512\u001b[0m\u001b[1m]\u001b[0m, \u001b[32m'dropout'\u001b[0m: \u001b[1;36m0.0\u001b[0m, \u001b[32m'activations'\u001b[0m: \u001b[1m[\u001b[0m\u001b[32m'relu'\u001b[0m,     \u001b[2m           \u001b[0m\n",
       "\u001b[2;36m                    \u001b[0m         \u001b[32m'relu'\u001b[0m, \u001b[32m'relu'\u001b[0m, \u001b[32m'none'\u001b[0m\u001b[1m]\u001b[0m, \u001b[32m'skip'\u001b[0m: \u001b[32m'concat'\u001b[0m, \u001b[32m'out_dim'\u001b[0m:                      \u001b[2m           \u001b[0m\n",
       "\u001b[2;36m                    \u001b[0m         \u001b[32m'$\u001b[0m\u001b[32m{\u001b[0m\u001b[32mdataset.num_classes\u001b[0m\u001b[32m}\u001b[0m\u001b[32m'\u001b[0m, \u001b[32m'input'\u001b[0m: \u001b[32m'graph_embedding'\u001b[0m, \u001b[32m'dummy'\u001b[0m: \u001b[3;91mFalse\u001b[0m\u001b[1m}\u001b[0m      \u001b[2m           \u001b[0m\n"
      ]
     },
     "metadata": {},
     "output_type": "display_data"
    },
    {
     "data": {
      "text/html": [
       "<pre style=\"white-space:pre;overflow-x:auto;line-height:normal;font-family:Menlo,'DejaVu Sans Mono',consolas,'Courier New',monospace\"><span style=\"color: #7fbfbf; text-decoration-color: #7fbfbf\">                    </span><span style=\"color: #000080; text-decoration-color: #000080\">INFO    </span> Using skip connection in decoder.                                   <a href=\"file:///home/zhang/Projects/3d/ProteinWorkshop/proteinworkshop/models/decoders/mlp_decoder.py\" target=\"_blank\"><span style=\"color: #7f7f7f; text-decoration-color: #7f7f7f\">mlp_decoder.py</span></a><span style=\"color: #7f7f7f; text-decoration-color: #7f7f7f\">:</span><a href=\"file:///home/zhang/Projects/3d/ProteinWorkshop/proteinworkshop/models/decoders/mlp_decoder.py#125\" target=\"_blank\"><span style=\"color: #7f7f7f; text-decoration-color: #7f7f7f\">125</span></a>\n",
       "</pre>\n"
      ],
      "text/plain": [
       "\u001b[2;36m                   \u001b[0m\u001b[2;36m \u001b[0m\u001b[34mINFO    \u001b[0m Using skip connection in decoder.                                   \u001b]8;id=324510;file:///home/zhang/Projects/3d/ProteinWorkshop/proteinworkshop/models/decoders/mlp_decoder.py\u001b\\\u001b[2mmlp_decoder.py\u001b[0m\u001b]8;;\u001b\\\u001b[2m:\u001b[0m\u001b]8;id=73351;file:///home/zhang/Projects/3d/ProteinWorkshop/proteinworkshop/models/decoders/mlp_decoder.py#125\u001b\\\u001b[2m125\u001b[0m\u001b]8;;\u001b\\\n"
      ]
     },
     "metadata": {},
     "output_type": "display_data"
    },
    {
     "data": {
      "text/html": [
       "<pre style=\"white-space:pre;overflow-x:auto;line-height:normal;font-family:Menlo,'DejaVu Sans Mono',consolas,'Courier New',monospace\"><span style=\"color: #7fbfbf; text-decoration-color: #7fbfbf\">                    </span><span style=\"color: #000080; text-decoration-color: #000080\">INFO    </span> <span style=\"color: #800080; text-decoration-color: #800080; font-weight: bold\">ModuleDict</span><span style=\"font-weight: bold\">(</span>                                                                <a href=\"file:///home/zhang/Projects/3d/ProteinWorkshop/proteinworkshop/models/base.py\" target=\"_blank\"><span style=\"color: #7f7f7f; text-decoration-color: #7f7f7f\">base.py</span></a><span style=\"color: #7f7f7f; text-decoration-color: #7f7f7f\">:</span><a href=\"file:///home/zhang/Projects/3d/ProteinWorkshop/proteinworkshop/models/base.py#419\" target=\"_blank\"><span style=\"color: #7f7f7f; text-decoration-color: #7f7f7f\">419</span></a>\n",
       "<span style=\"color: #7fbfbf; text-decoration-color: #7fbfbf\">                    </span>           <span style=\"font-weight: bold\">(</span>graph_label<span style=\"font-weight: bold\">)</span>: <span style=\"color: #800080; text-decoration-color: #800080; font-weight: bold\">MLPDecoder</span><span style=\"font-weight: bold\">(</span>                                               <span style=\"color: #7f7f7f; text-decoration-color: #7f7f7f\">           </span>\n",
       "<span style=\"color: #7fbfbf; text-decoration-color: #7fbfbf\">                    </span>             <span style=\"font-weight: bold\">(</span>layers<span style=\"font-weight: bold\">)</span>: <span style=\"color: #800080; text-decoration-color: #800080; font-weight: bold\">LinearSkipBlock</span><span style=\"font-weight: bold\">(</span>                                             <span style=\"color: #7f7f7f; text-decoration-color: #7f7f7f\">           </span>\n",
       "<span style=\"color: #7fbfbf; text-decoration-color: #7fbfbf\">                    </span>               <span style=\"font-weight: bold\">(</span>layers<span style=\"font-weight: bold\">)</span>: <span style=\"color: #800080; text-decoration-color: #800080; font-weight: bold\">ModuleList</span><span style=\"font-weight: bold\">(</span>                                                <span style=\"color: #7f7f7f; text-decoration-color: #7f7f7f\">           </span>\n",
       "<span style=\"color: #7fbfbf; text-decoration-color: #7fbfbf\">                    </span>                 <span style=\"font-weight: bold\">(</span><span style=\"color: #008080; text-decoration-color: #008080; font-weight: bold\">0</span>-<span style=\"color: #008080; text-decoration-color: #008080; font-weight: bold\">2</span><span style=\"font-weight: bold\">)</span>: <span style=\"color: #008080; text-decoration-color: #008080; font-weight: bold\">3</span> x <span style=\"color: #800080; text-decoration-color: #800080; font-weight: bold\">LazyLinear</span><span style=\"font-weight: bold\">(</span><span style=\"color: #808000; text-decoration-color: #808000\">in_features</span>=<span style=\"color: #008080; text-decoration-color: #008080; font-weight: bold\">0</span>, <span style=\"color: #808000; text-decoration-color: #808000\">out_features</span>=<span style=\"color: #008080; text-decoration-color: #008080; font-weight: bold\">512</span>, <span style=\"color: #808000; text-decoration-color: #808000\">bias</span>=<span style=\"color: #00ff00; text-decoration-color: #00ff00; font-style: italic\">True</span><span style=\"font-weight: bold\">)</span>  <span style=\"color: #7f7f7f; text-decoration-color: #7f7f7f\">           </span>\n",
       "<span style=\"color: #7fbfbf; text-decoration-color: #7fbfbf\">                    </span>                 <span style=\"font-weight: bold\">(</span><span style=\"color: #008080; text-decoration-color: #008080; font-weight: bold\">3</span><span style=\"font-weight: bold\">)</span>: <span style=\"color: #800080; text-decoration-color: #800080; font-weight: bold\">LazyLinear</span><span style=\"font-weight: bold\">(</span><span style=\"color: #808000; text-decoration-color: #808000\">in_features</span>=<span style=\"color: #008080; text-decoration-color: #008080; font-weight: bold\">0</span>, <span style=\"color: #808000; text-decoration-color: #808000\">out_features</span>=<span style=\"color: #008080; text-decoration-color: #008080; font-weight: bold\">1195</span>, <span style=\"color: #808000; text-decoration-color: #808000\">bias</span>=<span style=\"color: #00ff00; text-decoration-color: #00ff00; font-style: italic\">True</span><span style=\"font-weight: bold\">)</span>       <span style=\"color: #7f7f7f; text-decoration-color: #7f7f7f\">           </span>\n",
       "<span style=\"color: #7fbfbf; text-decoration-color: #7fbfbf\">                    </span>               <span style=\"font-weight: bold\">)</span>                                                                    <span style=\"color: #7f7f7f; text-decoration-color: #7f7f7f\">           </span>\n",
       "<span style=\"color: #7fbfbf; text-decoration-color: #7fbfbf\">                    </span>               <span style=\"font-weight: bold\">(</span>activations<span style=\"font-weight: bold\">)</span>: <span style=\"color: #800080; text-decoration-color: #800080; font-weight: bold\">ModuleList</span><span style=\"font-weight: bold\">(</span>                                           <span style=\"color: #7f7f7f; text-decoration-color: #7f7f7f\">           </span>\n",
       "<span style=\"color: #7fbfbf; text-decoration-color: #7fbfbf\">                    </span>                 <span style=\"font-weight: bold\">(</span><span style=\"color: #008080; text-decoration-color: #008080; font-weight: bold\">0</span>-<span style=\"color: #008080; text-decoration-color: #008080; font-weight: bold\">2</span><span style=\"font-weight: bold\">)</span>: <span style=\"color: #008080; text-decoration-color: #008080; font-weight: bold\">3</span> x <span style=\"color: #800080; text-decoration-color: #800080; font-weight: bold\">ReLU</span><span style=\"font-weight: bold\">()</span>                                                  <span style=\"color: #7f7f7f; text-decoration-color: #7f7f7f\">           </span>\n",
       "<span style=\"color: #7fbfbf; text-decoration-color: #7fbfbf\">                    </span>                 <span style=\"font-weight: bold\">(</span><span style=\"color: #008080; text-decoration-color: #008080; font-weight: bold\">3</span><span style=\"font-weight: bold\">)</span>: <span style=\"color: #800080; text-decoration-color: #800080; font-weight: bold\">Identity</span><span style=\"font-weight: bold\">()</span>                                                    <span style=\"color: #7f7f7f; text-decoration-color: #7f7f7f\">           </span>\n",
       "<span style=\"color: #7fbfbf; text-decoration-color: #7fbfbf\">                    </span>               <span style=\"font-weight: bold\">)</span>                                                                    <span style=\"color: #7f7f7f; text-decoration-color: #7f7f7f\">           </span>\n",
       "<span style=\"color: #7fbfbf; text-decoration-color: #7fbfbf\">                    </span>               <span style=\"font-weight: bold\">(</span>dropout_layers<span style=\"font-weight: bold\">)</span>: <span style=\"color: #800080; text-decoration-color: #800080; font-weight: bold\">ModuleList</span><span style=\"font-weight: bold\">(</span>                                        <span style=\"color: #7f7f7f; text-decoration-color: #7f7f7f\">           </span>\n",
       "<span style=\"color: #7fbfbf; text-decoration-color: #7fbfbf\">                    </span>                 <span style=\"font-weight: bold\">(</span><span style=\"color: #008080; text-decoration-color: #008080; font-weight: bold\">0</span>-<span style=\"color: #008080; text-decoration-color: #008080; font-weight: bold\">2</span><span style=\"font-weight: bold\">)</span>: <span style=\"color: #008080; text-decoration-color: #008080; font-weight: bold\">3</span> x <span style=\"color: #800080; text-decoration-color: #800080; font-weight: bold\">Dropout</span><span style=\"font-weight: bold\">(</span><span style=\"color: #808000; text-decoration-color: #808000\">p</span>=<span style=\"color: #008080; text-decoration-color: #008080; font-weight: bold\">0.0</span>, <span style=\"color: #808000; text-decoration-color: #808000\">inplace</span>=<span style=\"color: #ff0000; text-decoration-color: #ff0000; font-style: italic\">False</span><span style=\"font-weight: bold\">)</span>                           <span style=\"color: #7f7f7f; text-decoration-color: #7f7f7f\">           </span>\n",
       "<span style=\"color: #7fbfbf; text-decoration-color: #7fbfbf\">                    </span>               <span style=\"font-weight: bold\">)</span>                                                                    <span style=\"color: #7f7f7f; text-decoration-color: #7f7f7f\">           </span>\n",
       "<span style=\"color: #7fbfbf; text-decoration-color: #7fbfbf\">                    </span>             <span style=\"font-weight: bold\">)</span>                                                                      <span style=\"color: #7f7f7f; text-decoration-color: #7f7f7f\">           </span>\n",
       "<span style=\"color: #7fbfbf; text-decoration-color: #7fbfbf\">                    </span>           <span style=\"font-weight: bold\">)</span>                                                                        <span style=\"color: #7f7f7f; text-decoration-color: #7f7f7f\">           </span>\n",
       "<span style=\"color: #7fbfbf; text-decoration-color: #7fbfbf\">                    </span>         <span style=\"font-weight: bold\">)</span>                                                                          <span style=\"color: #7f7f7f; text-decoration-color: #7f7f7f\">           </span>\n",
       "</pre>\n"
      ],
      "text/plain": [
       "\u001b[2;36m                   \u001b[0m\u001b[2;36m \u001b[0m\u001b[34mINFO    \u001b[0m \u001b[1;35mModuleDict\u001b[0m\u001b[1m(\u001b[0m                                                                \u001b]8;id=421824;file:///home/zhang/Projects/3d/ProteinWorkshop/proteinworkshop/models/base.py\u001b\\\u001b[2mbase.py\u001b[0m\u001b]8;;\u001b\\\u001b[2m:\u001b[0m\u001b]8;id=943093;file:///home/zhang/Projects/3d/ProteinWorkshop/proteinworkshop/models/base.py#419\u001b\\\u001b[2m419\u001b[0m\u001b]8;;\u001b\\\n",
       "\u001b[2;36m                    \u001b[0m           \u001b[1m(\u001b[0mgraph_label\u001b[1m)\u001b[0m: \u001b[1;35mMLPDecoder\u001b[0m\u001b[1m(\u001b[0m                                               \u001b[2m           \u001b[0m\n",
       "\u001b[2;36m                    \u001b[0m             \u001b[1m(\u001b[0mlayers\u001b[1m)\u001b[0m: \u001b[1;35mLinearSkipBlock\u001b[0m\u001b[1m(\u001b[0m                                             \u001b[2m           \u001b[0m\n",
       "\u001b[2;36m                    \u001b[0m               \u001b[1m(\u001b[0mlayers\u001b[1m)\u001b[0m: \u001b[1;35mModuleList\u001b[0m\u001b[1m(\u001b[0m                                                \u001b[2m           \u001b[0m\n",
       "\u001b[2;36m                    \u001b[0m                 \u001b[1m(\u001b[0m\u001b[1;36m0\u001b[0m-\u001b[1;36m2\u001b[0m\u001b[1m)\u001b[0m: \u001b[1;36m3\u001b[0m x \u001b[1;35mLazyLinear\u001b[0m\u001b[1m(\u001b[0m\u001b[33min_features\u001b[0m=\u001b[1;36m0\u001b[0m, \u001b[33mout_features\u001b[0m=\u001b[1;36m512\u001b[0m, \u001b[33mbias\u001b[0m=\u001b[3;92mTrue\u001b[0m\u001b[1m)\u001b[0m  \u001b[2m           \u001b[0m\n",
       "\u001b[2;36m                    \u001b[0m                 \u001b[1m(\u001b[0m\u001b[1;36m3\u001b[0m\u001b[1m)\u001b[0m: \u001b[1;35mLazyLinear\u001b[0m\u001b[1m(\u001b[0m\u001b[33min_features\u001b[0m=\u001b[1;36m0\u001b[0m, \u001b[33mout_features\u001b[0m=\u001b[1;36m1195\u001b[0m, \u001b[33mbias\u001b[0m=\u001b[3;92mTrue\u001b[0m\u001b[1m)\u001b[0m       \u001b[2m           \u001b[0m\n",
       "\u001b[2;36m                    \u001b[0m               \u001b[1m)\u001b[0m                                                                    \u001b[2m           \u001b[0m\n",
       "\u001b[2;36m                    \u001b[0m               \u001b[1m(\u001b[0mactivations\u001b[1m)\u001b[0m: \u001b[1;35mModuleList\u001b[0m\u001b[1m(\u001b[0m                                           \u001b[2m           \u001b[0m\n",
       "\u001b[2;36m                    \u001b[0m                 \u001b[1m(\u001b[0m\u001b[1;36m0\u001b[0m-\u001b[1;36m2\u001b[0m\u001b[1m)\u001b[0m: \u001b[1;36m3\u001b[0m x \u001b[1;35mReLU\u001b[0m\u001b[1m(\u001b[0m\u001b[1m)\u001b[0m                                                  \u001b[2m           \u001b[0m\n",
       "\u001b[2;36m                    \u001b[0m                 \u001b[1m(\u001b[0m\u001b[1;36m3\u001b[0m\u001b[1m)\u001b[0m: \u001b[1;35mIdentity\u001b[0m\u001b[1m(\u001b[0m\u001b[1m)\u001b[0m                                                    \u001b[2m           \u001b[0m\n",
       "\u001b[2;36m                    \u001b[0m               \u001b[1m)\u001b[0m                                                                    \u001b[2m           \u001b[0m\n",
       "\u001b[2;36m                    \u001b[0m               \u001b[1m(\u001b[0mdropout_layers\u001b[1m)\u001b[0m: \u001b[1;35mModuleList\u001b[0m\u001b[1m(\u001b[0m                                        \u001b[2m           \u001b[0m\n",
       "\u001b[2;36m                    \u001b[0m                 \u001b[1m(\u001b[0m\u001b[1;36m0\u001b[0m-\u001b[1;36m2\u001b[0m\u001b[1m)\u001b[0m: \u001b[1;36m3\u001b[0m x \u001b[1;35mDropout\u001b[0m\u001b[1m(\u001b[0m\u001b[33mp\u001b[0m=\u001b[1;36m0\u001b[0m\u001b[1;36m.0\u001b[0m, \u001b[33minplace\u001b[0m=\u001b[3;91mFalse\u001b[0m\u001b[1m)\u001b[0m                           \u001b[2m           \u001b[0m\n",
       "\u001b[2;36m                    \u001b[0m               \u001b[1m)\u001b[0m                                                                    \u001b[2m           \u001b[0m\n",
       "\u001b[2;36m                    \u001b[0m             \u001b[1m)\u001b[0m                                                                      \u001b[2m           \u001b[0m\n",
       "\u001b[2;36m                    \u001b[0m           \u001b[1m)\u001b[0m                                                                        \u001b[2m           \u001b[0m\n",
       "\u001b[2;36m                    \u001b[0m         \u001b[1m)\u001b[0m                                                                          \u001b[2m           \u001b[0m\n"
      ]
     },
     "metadata": {},
     "output_type": "display_data"
    },
    {
     "data": {
      "text/html": [
       "<pre style=\"white-space:pre;overflow-x:auto;line-height:normal;font-family:Menlo,'DejaVu Sans Mono',consolas,'Courier New',monospace\"><span style=\"color: #7fbfbf; text-decoration-color: #7fbfbf\">                    </span><span style=\"color: #000080; text-decoration-color: #000080\">INFO    </span> Instantiating losses<span style=\"color: #808000; text-decoration-color: #808000\">...</span>                                                    <a href=\"file:///home/zhang/Projects/3d/ProteinWorkshop/proteinworkshop/models/base.py\" target=\"_blank\"><span style=\"color: #7f7f7f; text-decoration-color: #7f7f7f\">base.py</span></a><span style=\"color: #7f7f7f; text-decoration-color: #7f7f7f\">:</span><a href=\"file:///home/zhang/Projects/3d/ProteinWorkshop/proteinworkshop/models/base.py#421\" target=\"_blank\"><span style=\"color: #7f7f7f; text-decoration-color: #7f7f7f\">421</span></a>\n",
       "</pre>\n"
      ],
      "text/plain": [
       "\u001b[2;36m                   \u001b[0m\u001b[2;36m \u001b[0m\u001b[34mINFO    \u001b[0m Instantiating losses\u001b[33m...\u001b[0m                                                    \u001b]8;id=611817;file:///home/zhang/Projects/3d/ProteinWorkshop/proteinworkshop/models/base.py\u001b\\\u001b[2mbase.py\u001b[0m\u001b]8;;\u001b\\\u001b[2m:\u001b[0m\u001b]8;id=406417;file:///home/zhang/Projects/3d/ProteinWorkshop/proteinworkshop/models/base.py#421\u001b\\\u001b[2m421\u001b[0m\u001b]8;;\u001b\\\n"
      ]
     },
     "metadata": {},
     "output_type": "display_data"
    },
    {
     "data": {
      "text/html": [
       "<pre style=\"white-space:pre;overflow-x:auto;line-height:normal;font-family:Menlo,'DejaVu Sans Mono',consolas,'Courier New',monospace\"><span style=\"color: #7fbfbf; text-decoration-color: #7fbfbf\">                    </span><span style=\"color: #000080; text-decoration-color: #000080\">INFO    </span> Using losses: <span style=\"font-weight: bold\">{</span><span style=\"color: #008000; text-decoration-color: #008000\">'graph_label'</span>: <span style=\"color: #800080; text-decoration-color: #800080; font-weight: bold\">CrossEntropyLoss</span><span style=\"font-weight: bold\">()}</span>                          <a href=\"file:///home/zhang/Projects/3d/ProteinWorkshop/proteinworkshop/models/base.py\" target=\"_blank\"><span style=\"color: #7f7f7f; text-decoration-color: #7f7f7f\">base.py</span></a><span style=\"color: #7f7f7f; text-decoration-color: #7f7f7f\">:</span><a href=\"file:///home/zhang/Projects/3d/ProteinWorkshop/proteinworkshop/models/base.py#423\" target=\"_blank\"><span style=\"color: #7f7f7f; text-decoration-color: #7f7f7f\">423</span></a>\n",
       "</pre>\n"
      ],
      "text/plain": [
       "\u001b[2;36m                   \u001b[0m\u001b[2;36m \u001b[0m\u001b[34mINFO    \u001b[0m Using losses: \u001b[1m{\u001b[0m\u001b[32m'graph_label'\u001b[0m: \u001b[1;35mCrossEntropyLoss\u001b[0m\u001b[1m(\u001b[0m\u001b[1m)\u001b[0m\u001b[1m}\u001b[0m                          \u001b]8;id=491482;file:///home/zhang/Projects/3d/ProteinWorkshop/proteinworkshop/models/base.py\u001b\\\u001b[2mbase.py\u001b[0m\u001b]8;;\u001b\\\u001b[2m:\u001b[0m\u001b]8;id=823423;file:///home/zhang/Projects/3d/ProteinWorkshop/proteinworkshop/models/base.py#423\u001b\\\u001b[2m423\u001b[0m\u001b]8;;\u001b\\\n"
      ]
     },
     "metadata": {},
     "output_type": "display_data"
    },
    {
     "data": {
      "text/html": [
       "<pre style=\"white-space:pre;overflow-x:auto;line-height:normal;font-family:Menlo,'DejaVu Sans Mono',consolas,'Courier New',monospace\"><span style=\"color: #7fbfbf; text-decoration-color: #7fbfbf\">                    </span><span style=\"color: #000080; text-decoration-color: #000080\">INFO    </span> Not using aux loss scaling                                                 <a href=\"file:///home/zhang/Projects/3d/ProteinWorkshop/proteinworkshop/models/base.py\" target=\"_blank\"><span style=\"color: #7f7f7f; text-decoration-color: #7f7f7f\">base.py</span></a><span style=\"color: #7f7f7f; text-decoration-color: #7f7f7f\">:</span><a href=\"file:///home/zhang/Projects/3d/ProteinWorkshop/proteinworkshop/models/base.py#430\" target=\"_blank\"><span style=\"color: #7f7f7f; text-decoration-color: #7f7f7f\">430</span></a>\n",
       "</pre>\n"
      ],
      "text/plain": [
       "\u001b[2;36m                   \u001b[0m\u001b[2;36m \u001b[0m\u001b[34mINFO    \u001b[0m Not using aux loss scaling                                                 \u001b]8;id=833640;file:///home/zhang/Projects/3d/ProteinWorkshop/proteinworkshop/models/base.py\u001b\\\u001b[2mbase.py\u001b[0m\u001b]8;;\u001b\\\u001b[2m:\u001b[0m\u001b]8;id=584668;file:///home/zhang/Projects/3d/ProteinWorkshop/proteinworkshop/models/base.py#430\u001b\\\u001b[2m430\u001b[0m\u001b]8;;\u001b\\\n"
      ]
     },
     "metadata": {},
     "output_type": "display_data"
    },
    {
     "data": {
      "text/html": [
       "<pre style=\"white-space:pre;overflow-x:auto;line-height:normal;font-family:Menlo,'DejaVu Sans Mono',consolas,'Courier New',monospace\"><span style=\"color: #7fbfbf; text-decoration-color: #7fbfbf\">                    </span><span style=\"color: #000080; text-decoration-color: #000080\">INFO    </span> Configuring metrics<span style=\"color: #808000; text-decoration-color: #808000\">...</span>                                                     <a href=\"file:///home/zhang/Projects/3d/ProteinWorkshop/proteinworkshop/models/base.py\" target=\"_blank\"><span style=\"color: #7f7f7f; text-decoration-color: #7f7f7f\">base.py</span></a><span style=\"color: #7f7f7f; text-decoration-color: #7f7f7f\">:</span><a href=\"file:///home/zhang/Projects/3d/ProteinWorkshop/proteinworkshop/models/base.py#432\" target=\"_blank\"><span style=\"color: #7f7f7f; text-decoration-color: #7f7f7f\">432</span></a>\n",
       "</pre>\n"
      ],
      "text/plain": [
       "\u001b[2;36m                   \u001b[0m\u001b[2;36m \u001b[0m\u001b[34mINFO    \u001b[0m Configuring metrics\u001b[33m...\u001b[0m                                                     \u001b]8;id=250045;file:///home/zhang/Projects/3d/ProteinWorkshop/proteinworkshop/models/base.py\u001b\\\u001b[2mbase.py\u001b[0m\u001b]8;;\u001b\\\u001b[2m:\u001b[0m\u001b]8;id=70875;file:///home/zhang/Projects/3d/ProteinWorkshop/proteinworkshop/models/base.py#432\u001b\\\u001b[2m432\u001b[0m\u001b]8;;\u001b\\\n"
      ]
     },
     "metadata": {},
     "output_type": "display_data"
    },
    {
     "data": {
      "text/html": [
       "<pre style=\"white-space:pre;overflow-x:auto;line-height:normal;font-family:Menlo,'DejaVu Sans Mono',consolas,'Courier New',monospace\"><span style=\"color: #7fbfbf; text-decoration-color: #7fbfbf\">                    </span><span style=\"color: #000080; text-decoration-color: #000080\">INFO    </span> <span style=\"font-weight: bold\">[</span><span style=\"color: #008000; text-decoration-color: #008000\">'accuracy'</span>, <span style=\"color: #008000; text-decoration-color: #008000\">'f1_score'</span>, <span style=\"color: #008000; text-decoration-color: #008000\">'f1_max'</span><span style=\"font-weight: bold\">]</span>                                         <a href=\"file:///home/zhang/Projects/3d/ProteinWorkshop/proteinworkshop/models/base.py\" target=\"_blank\"><span style=\"color: #7f7f7f; text-decoration-color: #7f7f7f\">base.py</span></a><span style=\"color: #7f7f7f; text-decoration-color: #7f7f7f\">:</span><a href=\"file:///home/zhang/Projects/3d/ProteinWorkshop/proteinworkshop/models/base.py#434\" target=\"_blank\"><span style=\"color: #7f7f7f; text-decoration-color: #7f7f7f\">434</span></a>\n",
       "</pre>\n"
      ],
      "text/plain": [
       "\u001b[2;36m                   \u001b[0m\u001b[2;36m \u001b[0m\u001b[34mINFO    \u001b[0m \u001b[1m[\u001b[0m\u001b[32m'accuracy'\u001b[0m, \u001b[32m'f1_score'\u001b[0m, \u001b[32m'f1_max'\u001b[0m\u001b[1m]\u001b[0m                                         \u001b]8;id=811999;file:///home/zhang/Projects/3d/ProteinWorkshop/proteinworkshop/models/base.py\u001b\\\u001b[2mbase.py\u001b[0m\u001b]8;;\u001b\\\u001b[2m:\u001b[0m\u001b]8;id=873194;file:///home/zhang/Projects/3d/ProteinWorkshop/proteinworkshop/models/base.py#434\u001b\\\u001b[2m434\u001b[0m\u001b]8;;\u001b\\\n"
      ]
     },
     "metadata": {},
     "output_type": "display_data"
    },
    {
     "data": {
      "text/html": [
       "<pre style=\"white-space:pre;overflow-x:auto;line-height:normal;font-family:Menlo,'DejaVu Sans Mono',consolas,'Courier New',monospace\"><span style=\"color: #7fbfbf; text-decoration-color: #7fbfbf\">                    </span><span style=\"color: #000080; text-decoration-color: #000080\">INFO    </span> Instantiating featuriser<span style=\"color: #808000; text-decoration-color: #808000\">...</span>                                                <a href=\"file:///home/zhang/Projects/3d/ProteinWorkshop/proteinworkshop/models/base.py\" target=\"_blank\"><span style=\"color: #7f7f7f; text-decoration-color: #7f7f7f\">base.py</span></a><span style=\"color: #7f7f7f; text-decoration-color: #7f7f7f\">:</span><a href=\"file:///home/zhang/Projects/3d/ProteinWorkshop/proteinworkshop/models/base.py#436\" target=\"_blank\"><span style=\"color: #7f7f7f; text-decoration-color: #7f7f7f\">436</span></a>\n",
       "</pre>\n"
      ],
      "text/plain": [
       "\u001b[2;36m                   \u001b[0m\u001b[2;36m \u001b[0m\u001b[34mINFO    \u001b[0m Instantiating featuriser\u001b[33m...\u001b[0m                                                \u001b]8;id=242395;file:///home/zhang/Projects/3d/ProteinWorkshop/proteinworkshop/models/base.py\u001b\\\u001b[2mbase.py\u001b[0m\u001b]8;;\u001b\\\u001b[2m:\u001b[0m\u001b]8;id=652361;file:///home/zhang/Projects/3d/ProteinWorkshop/proteinworkshop/models/base.py#436\u001b\\\u001b[2m436\u001b[0m\u001b]8;;\u001b\\\n"
      ]
     },
     "metadata": {},
     "output_type": "display_data"
    },
    {
     "data": {
      "text/html": [
       "<pre style=\"white-space:pre;overflow-x:auto;line-height:normal;font-family:Menlo,'DejaVu Sans Mono',consolas,'Courier New',monospace\"><span style=\"color: #7fbfbf; text-decoration-color: #7fbfbf\">                    </span><span style=\"color: #000080; text-decoration-color: #000080\">INFO    </span> <span style=\"color: #800080; text-decoration-color: #800080; font-weight: bold\">ProteinFeaturiser</span><span style=\"font-weight: bold\">(</span><span style=\"color: #808000; text-decoration-color: #808000\">representation</span>=<span style=\"color: #800080; text-decoration-color: #800080\">CA</span>,                                       <a href=\"file:///home/zhang/Projects/3d/ProteinWorkshop/proteinworkshop/models/base.py\" target=\"_blank\"><span style=\"color: #7f7f7f; text-decoration-color: #7f7f7f\">base.py</span></a><span style=\"color: #7f7f7f; text-decoration-color: #7f7f7f\">:</span><a href=\"file:///home/zhang/Projects/3d/ProteinWorkshop/proteinworkshop/models/base.py#438\" target=\"_blank\"><span style=\"color: #7f7f7f; text-decoration-color: #7f7f7f\">438</span></a>\n",
       "<span style=\"color: #7fbfbf; text-decoration-color: #7fbfbf\">                    </span>         <span style=\"color: #808000; text-decoration-color: #808000\">scalar_node_features</span>=<span style=\"font-weight: bold\">[</span><span style=\"color: #008000; text-decoration-color: #008000\">'amino_acid_one_hot'</span>,                                <span style=\"color: #7f7f7f; text-decoration-color: #7f7f7f\">           </span>\n",
       "<span style=\"color: #7fbfbf; text-decoration-color: #7fbfbf\">                    </span>         <span style=\"color: #008000; text-decoration-color: #008000\">'sequence_positional_encoding'</span>, <span style=\"color: #008000; text-decoration-color: #008000\">'alpha'</span>, <span style=\"color: #008000; text-decoration-color: #008000\">'kappa'</span><span style=\"font-weight: bold\">]</span>,                         <span style=\"color: #7f7f7f; text-decoration-color: #7f7f7f\">           </span>\n",
       "<span style=\"color: #7fbfbf; text-decoration-color: #7fbfbf\">                    </span>         <span style=\"color: #808000; text-decoration-color: #808000\">vector_node_features</span>=<span style=\"font-weight: bold\">[]</span>, <span style=\"color: #808000; text-decoration-color: #808000\">edge_types</span>=<span style=\"font-weight: bold\">[</span><span style=\"color: #008000; text-decoration-color: #008000\">'knn_16'</span><span style=\"font-weight: bold\">]</span>,                            <span style=\"color: #7f7f7f; text-decoration-color: #7f7f7f\">           </span>\n",
       "<span style=\"color: #7fbfbf; text-decoration-color: #7fbfbf\">                    </span>         <span style=\"color: #808000; text-decoration-color: #808000\">scalar_edge_features</span>=<span style=\"font-weight: bold\">[</span><span style=\"color: #008000; text-decoration-color: #008000\">'edge_distance'</span><span style=\"font-weight: bold\">]</span>, <span style=\"color: #808000; text-decoration-color: #808000\">vector_edge_features</span>=<span style=\"font-weight: bold\">[])</span>           <span style=\"color: #7f7f7f; text-decoration-color: #7f7f7f\">           </span>\n",
       "</pre>\n"
      ],
      "text/plain": [
       "\u001b[2;36m                   \u001b[0m\u001b[2;36m \u001b[0m\u001b[34mINFO    \u001b[0m \u001b[1;35mProteinFeaturiser\u001b[0m\u001b[1m(\u001b[0m\u001b[33mrepresentation\u001b[0m=\u001b[35mCA\u001b[0m,                                       \u001b]8;id=220086;file:///home/zhang/Projects/3d/ProteinWorkshop/proteinworkshop/models/base.py\u001b\\\u001b[2mbase.py\u001b[0m\u001b]8;;\u001b\\\u001b[2m:\u001b[0m\u001b]8;id=327957;file:///home/zhang/Projects/3d/ProteinWorkshop/proteinworkshop/models/base.py#438\u001b\\\u001b[2m438\u001b[0m\u001b]8;;\u001b\\\n",
       "\u001b[2;36m                    \u001b[0m         \u001b[33mscalar_node_features\u001b[0m=\u001b[1m[\u001b[0m\u001b[32m'amino_acid_one_hot'\u001b[0m,                                \u001b[2m           \u001b[0m\n",
       "\u001b[2;36m                    \u001b[0m         \u001b[32m'sequence_positional_encoding'\u001b[0m, \u001b[32m'alpha'\u001b[0m, \u001b[32m'kappa'\u001b[0m\u001b[1m]\u001b[0m,                         \u001b[2m           \u001b[0m\n",
       "\u001b[2;36m                    \u001b[0m         \u001b[33mvector_node_features\u001b[0m=\u001b[1m[\u001b[0m\u001b[1m]\u001b[0m, \u001b[33medge_types\u001b[0m=\u001b[1m[\u001b[0m\u001b[32m'knn_16'\u001b[0m\u001b[1m]\u001b[0m,                            \u001b[2m           \u001b[0m\n",
       "\u001b[2;36m                    \u001b[0m         \u001b[33mscalar_edge_features\u001b[0m=\u001b[1m[\u001b[0m\u001b[32m'edge_distance'\u001b[0m\u001b[1m]\u001b[0m, \u001b[33mvector_edge_features\u001b[0m=\u001b[1m[\u001b[0m\u001b[1m]\u001b[0m\u001b[1m)\u001b[0m           \u001b[2m           \u001b[0m\n"
      ]
     },
     "metadata": {},
     "output_type": "display_data"
    },
    {
     "data": {
      "text/html": [
       "<pre style=\"white-space:pre;overflow-x:auto;line-height:normal;font-family:Menlo,'DejaVu Sans Mono',consolas,'Courier New',monospace\"><span style=\"color: #7fbfbf; text-decoration-color: #7fbfbf\">                    </span><span style=\"color: #000080; text-decoration-color: #000080\">INFO    </span> Instantiating task transform<span style=\"color: #808000; text-decoration-color: #808000\">...</span>                                            <a href=\"file:///home/zhang/Projects/3d/ProteinWorkshop/proteinworkshop/models/base.py\" target=\"_blank\"><span style=\"color: #7f7f7f; text-decoration-color: #7f7f7f\">base.py</span></a><span style=\"color: #7f7f7f; text-decoration-color: #7f7f7f\">:</span><a href=\"file:///home/zhang/Projects/3d/ProteinWorkshop/proteinworkshop/models/base.py#440\" target=\"_blank\"><span style=\"color: #7f7f7f; text-decoration-color: #7f7f7f\">440</span></a>\n",
       "</pre>\n"
      ],
      "text/plain": [
       "\u001b[2;36m                   \u001b[0m\u001b[2;36m \u001b[0m\u001b[34mINFO    \u001b[0m Instantiating task transform\u001b[33m...\u001b[0m                                            \u001b]8;id=203659;file:///home/zhang/Projects/3d/ProteinWorkshop/proteinworkshop/models/base.py\u001b\\\u001b[2mbase.py\u001b[0m\u001b]8;;\u001b\\\u001b[2m:\u001b[0m\u001b]8;id=147100;file:///home/zhang/Projects/3d/ProteinWorkshop/proteinworkshop/models/base.py#440\u001b\\\u001b[2m440\u001b[0m\u001b]8;;\u001b\\\n"
      ]
     },
     "metadata": {},
     "output_type": "display_data"
    },
    {
     "data": {
      "text/html": [
       "<pre style=\"white-space:pre;overflow-x:auto;line-height:normal;font-family:Menlo,'DejaVu Sans Mono',consolas,'Courier New',monospace\"><span style=\"color: #7fbfbf; text-decoration-color: #7fbfbf\">                    </span><span style=\"color: #000080; text-decoration-color: #000080\">INFO    </span> <span style=\"color: #800080; text-decoration-color: #800080; font-style: italic\">None</span>                                                                       <a href=\"file:///home/zhang/Projects/3d/ProteinWorkshop/proteinworkshop/models/base.py\" target=\"_blank\"><span style=\"color: #7f7f7f; text-decoration-color: #7f7f7f\">base.py</span></a><span style=\"color: #7f7f7f; text-decoration-color: #7f7f7f\">:</span><a href=\"file:///home/zhang/Projects/3d/ProteinWorkshop/proteinworkshop/models/base.py#444\" target=\"_blank\"><span style=\"color: #7f7f7f; text-decoration-color: #7f7f7f\">444</span></a>\n",
       "</pre>\n"
      ],
      "text/plain": [
       "\u001b[2;36m                   \u001b[0m\u001b[2;36m \u001b[0m\u001b[34mINFO    \u001b[0m \u001b[3;35mNone\u001b[0m                                                                       \u001b]8;id=668248;file:///home/zhang/Projects/3d/ProteinWorkshop/proteinworkshop/models/base.py\u001b\\\u001b[2mbase.py\u001b[0m\u001b]8;;\u001b\\\u001b[2m:\u001b[0m\u001b]8;id=591229;file:///home/zhang/Projects/3d/ProteinWorkshop/proteinworkshop/models/base.py#444\u001b\\\u001b[2m444\u001b[0m\u001b]8;;\u001b\\\n"
      ]
     },
     "metadata": {},
     "output_type": "display_data"
    }
   ],
   "source": [
    "from loguru import logger as log\n",
    "import torch\n",
    "import torch.nn as nn\n",
    "import collections\n",
    "from proteinworkshop.models.base import BenchMarkModel\n",
    "model = BenchMarkModel(cfg)"
   ]
  },
  {
   "cell_type": "code",
   "execution_count": 11,
   "metadata": {},
   "outputs": [
    {
     "name": "stdout",
     "output_type": "stream",
     "text": [
      "embedding.weight\n",
      "embedding.bias\n",
      "interactions.0.mlp.0.weight\n",
      "interactions.0.mlp.0.bias\n",
      "interactions.0.mlp.2.weight\n",
      "interactions.0.mlp.2.bias\n",
      "interactions.0.conv.lin1.weight\n",
      "interactions.0.conv.lin2.weight\n",
      "interactions.0.conv.lin2.bias\n",
      "interactions.0.lin.weight\n",
      "interactions.0.lin.bias\n",
      "interactions.1.mlp.0.weight\n",
      "interactions.1.mlp.0.bias\n",
      "interactions.1.mlp.2.weight\n",
      "interactions.1.mlp.2.bias\n",
      "interactions.1.conv.lin1.weight\n",
      "interactions.1.conv.lin2.weight\n",
      "interactions.1.conv.lin2.bias\n",
      "interactions.1.lin.weight\n",
      "interactions.1.lin.bias\n",
      "interactions.2.mlp.0.weight\n",
      "interactions.2.mlp.0.bias\n",
      "interactions.2.mlp.2.weight\n",
      "interactions.2.mlp.2.bias\n",
      "interactions.2.conv.lin1.weight\n",
      "interactions.2.conv.lin2.weight\n",
      "interactions.2.conv.lin2.bias\n",
      "interactions.2.lin.weight\n",
      "interactions.2.lin.bias\n",
      "interactions.3.mlp.0.weight\n",
      "interactions.3.mlp.0.bias\n",
      "interactions.3.mlp.2.weight\n",
      "interactions.3.mlp.2.bias\n",
      "interactions.3.conv.lin1.weight\n",
      "interactions.3.conv.lin2.weight\n",
      "interactions.3.conv.lin2.bias\n",
      "interactions.3.lin.weight\n",
      "interactions.3.lin.bias\n",
      "interactions.4.mlp.0.weight\n",
      "interactions.4.mlp.0.bias\n",
      "interactions.4.mlp.2.weight\n",
      "interactions.4.mlp.2.bias\n",
      "interactions.4.conv.lin1.weight\n",
      "interactions.4.conv.lin2.weight\n",
      "interactions.4.conv.lin2.bias\n",
      "interactions.4.lin.weight\n",
      "interactions.4.lin.bias\n",
      "interactions.5.mlp.0.weight\n",
      "interactions.5.mlp.0.bias\n",
      "interactions.5.mlp.2.weight\n",
      "interactions.5.mlp.2.bias\n",
      "interactions.5.conv.lin1.weight\n",
      "interactions.5.conv.lin2.weight\n",
      "interactions.5.conv.lin2.bias\n",
      "interactions.5.lin.weight\n",
      "interactions.5.lin.bias\n",
      "lin1.weight\n",
      "lin1.bias\n",
      "lin2.weight\n",
      "lin2.bias\n"
     ]
    }
   ],
   "source": [
    "for name, param in model.encoder.named_parameters():\n",
    "    print(name)"
   ]
  },
  {
   "cell_type": "code",
   "execution_count": 13,
   "metadata": {},
   "outputs": [
    {
     "data": {
      "text/html": [
       "<pre style=\"white-space:pre;overflow-x:auto;line-height:normal;font-family:Menlo,'DejaVu Sans Mono',consolas,'Courier New',monospace\"><span style=\"color: #7fbfbf; text-decoration-color: #7fbfbf\">[07/31/24 16:12:50] </span><span style=\"color: #000080; text-decoration-color: #000080\">INFO    </span> Loading weights from checkpoint                                        <a href=\"file:///tmp/ipykernel_72237/3296514632.py\" target=\"_blank\"><span style=\"color: #7f7f7f; text-decoration-color: #7f7f7f\">3296514632.py</span></a><span style=\"color: #7f7f7f; text-decoration-color: #7f7f7f\">:</span><a href=\"file:///tmp/ipykernel_72237/3296514632.py#2\" target=\"_blank\"><span style=\"color: #7f7f7f; text-decoration-color: #7f7f7f\">2</span></a>\n",
       "<span style=\"color: #7fbfbf; text-decoration-color: #7fbfbf\">                    </span>         <span style=\"color: #800080; text-decoration-color: #800080\">/home/zhang/Projects/3d/ProteinWorkshop/notebooks/</span><span style=\"color: #ff00ff; text-decoration-color: #ff00ff\">outputs_schnet_pretr</span> <span style=\"color: #7f7f7f; text-decoration-color: #7f7f7f\">               </span>\n",
       "<span style=\"color: #7fbfbf; text-decoration-color: #7fbfbf\">                    </span>         <span style=\"color: #ff00ff; text-decoration-color: #ff00ff\">aining</span><span style=\"font-weight: bold\">(</span>subgraph,ca_angles_pos<span style=\"font-weight: bold\">)</span>_best@<span style=\"color: #008080; text-decoration-color: #008080; font-weight: bold\">9</span>/checkpoints/epoch_009.ckpt<span style=\"color: #808000; text-decoration-color: #808000\">...</span>    <span style=\"color: #7f7f7f; text-decoration-color: #7f7f7f\">               </span>\n",
       "</pre>\n"
      ],
      "text/plain": [
       "\u001b[2;36m[07/31/24 16:12:50]\u001b[0m\u001b[2;36m \u001b[0m\u001b[34mINFO    \u001b[0m Loading weights from checkpoint                                        \u001b]8;id=110990;file:///tmp/ipykernel_72237/3296514632.py\u001b\\\u001b[2m3296514632.py\u001b[0m\u001b]8;;\u001b\\\u001b[2m:\u001b[0m\u001b]8;id=945351;file:///tmp/ipykernel_72237/3296514632.py#2\u001b\\\u001b[2m2\u001b[0m\u001b]8;;\u001b\\\n",
       "\u001b[2;36m                    \u001b[0m         \u001b[35m/home/zhang/Projects/3d/ProteinWorkshop/notebooks/\u001b[0m\u001b[95moutputs_schnet_pretr\u001b[0m \u001b[2m               \u001b[0m\n",
       "\u001b[2;36m                    \u001b[0m         \u001b[95maining\u001b[0m\u001b[1m(\u001b[0msubgraph,ca_angles_pos\u001b[1m)\u001b[0m_best@\u001b[1;36m9\u001b[0m/checkpoints/epoch_009.ckpt\u001b[33m...\u001b[0m    \u001b[2m               \u001b[0m\n"
      ]
     },
     "metadata": {},
     "output_type": "display_data"
    },
    {
     "name": "stdout",
     "output_type": "stream",
     "text": [
      "{'epoch': 9, 'global_step': 135600, 'pytorch-lightning_version': '2.3.3', 'state_dict': OrderedDict([('encoder.embedding.weight', tensor[512, 43] n=22016 (86Kb) x∈[-0.351, 0.327] μ=-0.000 σ=0.094 cuda:0), ('encoder.embedding.bias', tensor[512] 2Kb x∈[-0.180, 0.175] μ=-0.002 σ=0.079 cuda:0), ('encoder.distance_expansion.offset', tensor[50] x∈[0., 10.000] μ=5.000 σ=2.975 cuda:0), ('encoder.interactions.0.mlp.0.weight', tensor[128, 50] n=6400 (25Kb) x∈[-0.463, 0.475] μ=0.001 σ=0.126 cuda:0), ('encoder.interactions.0.mlp.0.bias', tensor[128] x∈[-0.042, 0.044] μ=-0.001 σ=0.019 cuda:0), ('encoder.interactions.0.mlp.2.weight', tensor[128, 128] n=16384 (64Kb) x∈[-0.258, 0.298] μ=0.000 σ=0.093 cuda:0), ('encoder.interactions.0.mlp.2.bias', tensor[128] x∈[-0.031, 0.035] μ=0.001 σ=0.013 cuda:0), ('encoder.interactions.0.conv.lin1.weight', tensor[128, 512] n=65536 (0.2Mb) x∈[-0.228, 0.257] μ=0.000 σ=0.064 cuda:0), ('encoder.interactions.0.conv.lin2.weight', tensor[512, 128] n=65536 (0.2Mb) x∈[-0.205, 0.217] μ=0.000 σ=0.063 cuda:0), ('encoder.interactions.0.conv.lin2.bias', tensor[512] 2Kb x∈[-0.039, 0.022] μ=-0.001 σ=0.008 cuda:0), ('encoder.interactions.0.conv.nn.0.weight', tensor[128, 50] n=6400 (25Kb) x∈[-0.463, 0.475] μ=0.001 σ=0.126 cuda:0), ('encoder.interactions.0.conv.nn.0.bias', tensor[128] x∈[-0.042, 0.044] μ=-0.001 σ=0.019 cuda:0), ('encoder.interactions.0.conv.nn.2.weight', tensor[128, 128] n=16384 (64Kb) x∈[-0.258, 0.298] μ=0.000 σ=0.093 cuda:0), ('encoder.interactions.0.conv.nn.2.bias', tensor[128] x∈[-0.031, 0.035] μ=0.001 σ=0.013 cuda:0), ('encoder.interactions.0.lin.weight', tensor[512, 512] n=262144 (1Mb) x∈[-0.195, 0.191] μ=-1.365e-05 σ=0.053 cuda:0), ('encoder.interactions.0.lin.bias', tensor[512] 2Kb x∈[-0.068, 0.071] μ=-0.001 σ=0.024 cuda:0), ('encoder.interactions.1.mlp.0.weight', tensor[128, 50] n=6400 (25Kb) x∈[-0.317, 0.340] μ=-0.004 σ=0.115 cuda:0), ('encoder.interactions.1.mlp.0.bias', tensor[128] x∈[-0.039, 0.045] μ=-0.002 σ=0.019 cuda:0), ('encoder.interactions.1.mlp.2.weight', tensor[128, 128] n=16384 (64Kb) x∈[-0.260, 0.276] μ=-0.001 σ=0.093 cuda:0), ('encoder.interactions.1.mlp.2.bias', tensor[128] x∈[-0.048, 0.041] μ=0.001 σ=0.017 cuda:0), ('encoder.interactions.1.conv.lin1.weight', tensor[128, 512] n=65536 (0.2Mb) x∈[-0.213, 0.237] μ=-7.602e-05 σ=0.065 cuda:0), ('encoder.interactions.1.conv.lin2.weight', tensor[512, 128] n=65536 (0.2Mb) x∈[-0.206, 0.203] μ=-2.651e-05 σ=0.063 cuda:0), ('encoder.interactions.1.conv.lin2.bias', tensor[512] 2Kb x∈[-0.041, 0.018] μ=-0.002 σ=0.007 cuda:0), ('encoder.interactions.1.conv.nn.0.weight', tensor[128, 50] n=6400 (25Kb) x∈[-0.317, 0.340] μ=-0.004 σ=0.115 cuda:0), ('encoder.interactions.1.conv.nn.0.bias', tensor[128] x∈[-0.039, 0.045] μ=-0.002 σ=0.019 cuda:0), ('encoder.interactions.1.conv.nn.2.weight', tensor[128, 128] n=16384 (64Kb) x∈[-0.260, 0.276] μ=-0.001 σ=0.093 cuda:0), ('encoder.interactions.1.conv.nn.2.bias', tensor[128] x∈[-0.048, 0.041] μ=0.001 σ=0.017 cuda:0), ('encoder.interactions.1.lin.weight', tensor[512, 512] n=262144 (1Mb) x∈[-0.219, 0.191] μ=-0.000 σ=0.053 cuda:0), ('encoder.interactions.1.lin.bias', tensor[512] 2Kb x∈[-0.051, 0.054] μ=0.000 σ=0.019 cuda:0), ('encoder.interactions.2.mlp.0.weight', tensor[128, 50] n=6400 (25Kb) x∈[-0.318, 0.307] μ=-0.001 σ=0.115 cuda:0), ('encoder.interactions.2.mlp.0.bias', tensor[128] x∈[-0.057, 0.045] μ=0.002 σ=0.018 cuda:0), ('encoder.interactions.2.mlp.2.weight', tensor[128, 128] n=16384 (64Kb) x∈[-0.271, 0.244] μ=9.264e-05 σ=0.092 cuda:0), ('encoder.interactions.2.mlp.2.bias', tensor[128] x∈[-0.044, 0.044] μ=0.001 σ=0.015 cuda:0), ('encoder.interactions.2.conv.lin1.weight', tensor[128, 512] n=65536 (0.2Mb) x∈[-0.220, 0.209] μ=0.000 σ=0.064 cuda:0), ('encoder.interactions.2.conv.lin2.weight', tensor[512, 128] n=65536 (0.2Mb) x∈[-0.219, 0.207] μ=-0.000 σ=0.063 cuda:0), ('encoder.interactions.2.conv.lin2.bias', tensor[512] 2Kb x∈[-0.026, 0.019] μ=-0.002 σ=0.007 cuda:0), ('encoder.interactions.2.conv.nn.0.weight', tensor[128, 50] n=6400 (25Kb) x∈[-0.318, 0.307] μ=-0.001 σ=0.115 cuda:0), ('encoder.interactions.2.conv.nn.0.bias', tensor[128] x∈[-0.057, 0.045] μ=0.002 σ=0.018 cuda:0), ('encoder.interactions.2.conv.nn.2.weight', tensor[128, 128] n=16384 (64Kb) x∈[-0.271, 0.244] μ=9.264e-05 σ=0.092 cuda:0), ('encoder.interactions.2.conv.nn.2.bias', tensor[128] x∈[-0.044, 0.044] μ=0.001 σ=0.015 cuda:0), ('encoder.interactions.2.lin.weight', tensor[512, 512] n=262144 (1Mb) x∈[-0.202, 0.197] μ=0.000 σ=0.053 cuda:0), ('encoder.interactions.2.lin.bias', tensor[512] 2Kb x∈[-0.042, 0.039] μ=0.001 σ=0.014 cuda:0), ('encoder.interactions.3.mlp.0.weight', tensor[128, 50] n=6400 (25Kb) x∈[-0.431, 0.494] μ=0.004 σ=0.126 cuda:0), ('encoder.interactions.3.mlp.0.bias', tensor[128] x∈[-0.053, 0.051] μ=0.000 σ=0.020 cuda:0), ('encoder.interactions.3.mlp.2.weight', tensor[128, 128] n=16384 (64Kb) x∈[-0.304, 0.274] μ=0.000 σ=0.093 cuda:0), ('encoder.interactions.3.mlp.2.bias', tensor[128] x∈[-0.053, 0.047] μ=-0.001 σ=0.017 cuda:0), ('encoder.interactions.3.conv.lin1.weight', tensor[128, 512] n=65536 (0.2Mb) x∈[-0.236, 0.243] μ=0.000 σ=0.065 cuda:0), ('encoder.interactions.3.conv.lin2.weight', tensor[512, 128] n=65536 (0.2Mb) x∈[-0.222, 0.206] μ=8.716e-05 σ=0.063 cuda:0), ('encoder.interactions.3.conv.lin2.bias', tensor[512] 2Kb x∈[-0.029, 0.019] μ=-0.003 σ=0.007 cuda:0), ('encoder.interactions.3.conv.nn.0.weight', tensor[128, 50] n=6400 (25Kb) x∈[-0.431, 0.494] μ=0.004 σ=0.126 cuda:0), ('encoder.interactions.3.conv.nn.0.bias', tensor[128] x∈[-0.053, 0.051] μ=0.000 σ=0.020 cuda:0), ('encoder.interactions.3.conv.nn.2.weight', tensor[128, 128] n=16384 (64Kb) x∈[-0.304, 0.274] μ=0.000 σ=0.093 cuda:0), ('encoder.interactions.3.conv.nn.2.bias', tensor[128] x∈[-0.053, 0.047] μ=-0.001 σ=0.017 cuda:0), ('encoder.interactions.3.lin.weight', tensor[512, 512] n=262144 (1Mb) x∈[-0.187, 0.187] μ=0.000 σ=0.053 cuda:0), ('encoder.interactions.3.lin.bias', tensor[512] 2Kb x∈[-0.041, 0.040] μ=0.000 σ=0.014 cuda:0), ('encoder.interactions.4.mlp.0.weight', tensor[128, 50] n=6400 (25Kb) x∈[-0.290, 0.309] μ=-0.001 σ=0.112 cuda:0), ('encoder.interactions.4.mlp.0.bias', tensor[128] x∈[-0.040, 0.056] μ=0.000 σ=0.019 cuda:0), ('encoder.interactions.4.mlp.2.weight', tensor[128, 128] n=16384 (64Kb) x∈[-0.256, 0.289] μ=-2.085e-05 σ=0.092 cuda:0), ('encoder.interactions.4.mlp.2.bias', tensor[128] x∈[-0.049, 0.042] μ=-0.000 σ=0.016 cuda:0), ('encoder.interactions.4.conv.lin1.weight', tensor[128, 512] n=65536 (0.2Mb) x∈[-0.221, 0.217] μ=-0.000 σ=0.065 cuda:0), ('encoder.interactions.4.conv.lin2.weight', tensor[512, 128] n=65536 (0.2Mb) x∈[-0.224, 0.223] μ=6.730e-05 σ=0.063 cuda:0), ('encoder.interactions.4.conv.lin2.bias', tensor[512] 2Kb x∈[-0.017, 0.013] μ=-0.002 σ=0.005 cuda:0), ('encoder.interactions.4.conv.nn.0.weight', tensor[128, 50] n=6400 (25Kb) x∈[-0.290, 0.309] μ=-0.001 σ=0.112 cuda:0), ('encoder.interactions.4.conv.nn.0.bias', tensor[128] x∈[-0.040, 0.056] μ=0.000 σ=0.019 cuda:0), ('encoder.interactions.4.conv.nn.2.weight', tensor[128, 128] n=16384 (64Kb) x∈[-0.256, 0.289] μ=-2.085e-05 σ=0.092 cuda:0), ('encoder.interactions.4.conv.nn.2.bias', tensor[128] x∈[-0.049, 0.042] μ=-0.000 σ=0.016 cuda:0), ('encoder.interactions.4.lin.weight', tensor[512, 512] n=262144 (1Mb) x∈[-0.201, 0.205] μ=-0.000 σ=0.053 cuda:0), ('encoder.interactions.4.lin.bias', tensor[512] 2Kb x∈[-0.043, 0.046] μ=0.001 σ=0.015 cuda:0), ('encoder.interactions.5.mlp.0.weight', tensor[128, 50] n=6400 (25Kb) x∈[-0.336, 0.361] μ=-0.000 σ=0.117 cuda:0), ('encoder.interactions.5.mlp.0.bias', tensor[128] x∈[-0.045, 0.048] μ=0.001 σ=0.019 cuda:0), ('encoder.interactions.5.mlp.2.weight', tensor[128, 128] n=16384 (64Kb) x∈[-0.322, 0.277] μ=-0.001 σ=0.093 cuda:0), ('encoder.interactions.5.mlp.2.bias', tensor[128] x∈[-0.032, 0.031] μ=0.001 σ=0.014 cuda:0), ('encoder.interactions.5.conv.lin1.weight', tensor[128, 512] n=65536 (0.2Mb) x∈[-0.208, 0.238] μ=0.000 σ=0.065 cuda:0), ('encoder.interactions.5.conv.lin2.weight', tensor[512, 128] n=65536 (0.2Mb) x∈[-0.252, 0.224] μ=4.446e-05 σ=0.063 cuda:0), ('encoder.interactions.5.conv.lin2.bias', tensor[512] 2Kb x∈[-0.022, 0.018] μ=-0.002 σ=0.006 cuda:0), ('encoder.interactions.5.conv.nn.0.weight', tensor[128, 50] n=6400 (25Kb) x∈[-0.336, 0.361] μ=-0.000 σ=0.117 cuda:0), ('encoder.interactions.5.conv.nn.0.bias', tensor[128] x∈[-0.045, 0.048] μ=0.001 σ=0.019 cuda:0), ('encoder.interactions.5.conv.nn.2.weight', tensor[128, 128] n=16384 (64Kb) x∈[-0.322, 0.277] μ=-0.001 σ=0.093 cuda:0), ('encoder.interactions.5.conv.nn.2.bias', tensor[128] x∈[-0.032, 0.031] μ=0.001 σ=0.014 cuda:0), ('encoder.interactions.5.lin.weight', tensor[512, 512] n=262144 (1Mb) x∈[-0.203, 0.189] μ=0.000 σ=0.053 cuda:0), ('encoder.interactions.5.lin.bias', tensor[512] 2Kb x∈[-0.057, 0.067] μ=-0.000 σ=0.025 cuda:0), ('encoder.lin1.weight', tensor[256, 512] n=131072 (0.5Mb) x∈[-0.183, 0.185] μ=-0.000 σ=0.053 cuda:0), ('encoder.lin1.bias', tensor[256] 1Kb x∈[-0.083, 0.058] μ=-0.015 σ=0.033 cuda:0), ('encoder.lin2.weight', tensor[32, 256] n=8192 (32Kb) x∈[-0.112, 0.111] μ=-0.000 σ=0.034 cuda:0), ('encoder.lin2.bias', tensor[32] x∈[-0.145, 0.121] μ=-0.001 σ=0.062 cuda:0), ('decoder.subgraph_distances.linear1.weight', tensor[32, 64] n=2048 (8Kb) x∈[-0.479, 0.417] μ=0.007 σ=0.082 cuda:0), ('decoder.subgraph_distances.linear1.bias', tensor[32] x∈[-0.398, 0.337] μ=-0.043 σ=0.138 cuda:0), ('decoder.subgraph_distances.linear2.weight', tensor[1, 32] x∈[-0.072, 0.072] μ=0.004 σ=0.032 cuda:0), ('decoder.subgraph_distances.linear2.bias', tensor[1] cuda:0 [0.230]), ('featuriser.positional_encoding.frequency', tensor[8] x∈[1.000e-04, 1.000] μ=0.171 σ=0.347 cuda:0 [1.000, 0.268, 0.072, 0.019, 0.005, 0.001, 0.000, 1.000e-04])]), 'loops': {'fit_loop': {'state_dict': {}, 'epoch_loop.state_dict': {'_batches_that_stepped': 135600}, 'epoch_loop.batch_progress': {'total': {'ready': 135600, 'completed': 135600, 'started': 135600, 'processed': 135600}, 'current': {'ready': 13560, 'completed': 13560, 'started': 13560, 'processed': 13560}, 'is_last_batch': True}, 'epoch_loop.scheduler_progress': {'total': {'ready': 135600, 'completed': 135600}, 'current': {'ready': 13560, 'completed': 13560}}, 'epoch_loop.automatic_optimization.state_dict': {}, 'epoch_loop.automatic_optimization.optim_progress': {'optimizer': {'step': {'total': {'ready': 135600, 'completed': 135600}, 'current': {'ready': 13560, 'completed': 13560}}, 'zero_grad': {'total': {'ready': 135600, 'completed': 135600, 'started': 135600}, 'current': {'ready': 13560, 'completed': 13560, 'started': 13560}}}}, 'epoch_loop.manual_optimization.state_dict': {}, 'epoch_loop.manual_optimization.optim_step_progress': {'total': {'ready': 0, 'completed': 0}, 'current': {'ready': 0, 'completed': 0}}, 'epoch_loop.val_loop.state_dict': {}, 'epoch_loop.val_loop.batch_progress': {'total': {'ready': 1695, 'completed': 1695, 'started': 1695, 'processed': 1695}, 'current': {'ready': 1695, 'completed': 1695, 'started': 1695, 'processed': 1695}, 'is_last_batch': True}, 'epoch_progress': {'total': {'ready': 10, 'completed': 9, 'started': 10, 'processed': 10}, 'current': {'ready': 10, 'completed': 9, 'started': 10, 'processed': 10}}}, 'validate_loop': {'state_dict': {}, 'batch_progress': {'total': {'ready': 0, 'completed': 0, 'started': 0, 'processed': 0}, 'current': {'ready': 0, 'completed': 0, 'started': 0, 'processed': 0}, 'is_last_batch': False}}, 'test_loop': {'state_dict': {}, 'batch_progress': {'total': {'ready': 0, 'completed': 0, 'started': 0, 'processed': 0}, 'current': {'ready': 0, 'completed': 0, 'started': 0, 'processed': 0}, 'is_last_batch': False}}, 'predict_loop': {'state_dict': {}, 'batch_progress': {'total': {'ready': 0, 'completed': 0, 'started': 0, 'processed': 0}, 'current': {'ready': 0, 'completed': 0, 'started': 0, 'processed': 0}}}}, 'callbacks': {\"EarlyStopping{'monitor': 'val/subgraph_distances/mse', 'mode': 'min'}\": {'wait_count': 0, 'stopped_epoch': 0, 'best_score': tensor cuda:0 0.012, 'patience': 10}, \"EarlyStopping{'monitor': 'train/loss/total', 'mode': 'min'}\": {'wait_count': 4, 'stopped_epoch': 0, 'best_score': tensor cuda:0 0.009, 'patience': 10000000}, \"ModelCheckpoint{'monitor': 'val/subgraph_distances/mse', 'mode': 'min', 'every_n_train_steps': 0, 'every_n_epochs': 1, 'train_time_interval': None}\": {'monitor': 'val/subgraph_distances/mse', 'best_model_score': tensor cuda:0 0.012, 'best_model_path': '/home/zhang/Projects/3d/ProteinWorkshop/notebooks/outputs/checkpoints/epoch_009.ckpt', 'current_score': tensor cuda:0 0.012, 'dirpath': '/home/zhang/Projects/3d/ProteinWorkshop/notebooks/outputs/checkpoints', 'best_k_models': {'/home/zhang/Projects/3d/ProteinWorkshop/notebooks/outputs/checkpoints/epoch_000.ckpt': tensor cuda:0 0.045, '/home/zhang/Projects/3d/ProteinWorkshop/notebooks/outputs/checkpoints/epoch_001.ckpt': tensor cuda:0 0.023, '/home/zhang/Projects/3d/ProteinWorkshop/notebooks/outputs/checkpoints/epoch_002.ckpt': tensor cuda:0 0.050, '/home/zhang/Projects/3d/ProteinWorkshop/notebooks/outputs/checkpoints/epoch_003.ckpt': tensor cuda:0 2.847, '/home/zhang/Projects/3d/ProteinWorkshop/notebooks/outputs/checkpoints/epoch_004.ckpt': tensor cuda:0 0.035, '/home/zhang/Projects/3d/ProteinWorkshop/notebooks/outputs/checkpoints/epoch_005.ckpt': tensor cuda:0 0.015, '/home/zhang/Projects/3d/ProteinWorkshop/notebooks/outputs/checkpoints/epoch_006.ckpt': tensor cuda:0 0.014, '/home/zhang/Projects/3d/ProteinWorkshop/notebooks/outputs/checkpoints/epoch_007.ckpt': tensor cuda:0 0.013, '/home/zhang/Projects/3d/ProteinWorkshop/notebooks/outputs/checkpoints/epoch_008.ckpt': tensor cuda:0 0.012, '/home/zhang/Projects/3d/ProteinWorkshop/notebooks/outputs/checkpoints/epoch_009.ckpt': tensor cuda:0 0.012}, 'kth_best_model_path': '/home/zhang/Projects/3d/ProteinWorkshop/notebooks/outputs/checkpoints/epoch_003.ckpt', 'kth_value': tensor cuda:0 2.847, 'last_model_path': '/home/zhang/Projects/3d/ProteinWorkshop/notebooks/outputs/checkpoints/last.ckpt'}}, 'optimizer_states': [{'state': {0: {'step': tensor 1.356e+05, 'exp_avg': tensor[512, 43] n=22016 (86Kb) x∈[-0.000, 0.000] μ=4.338e-07 σ=3.165e-05 cuda:0, 'exp_avg_sq': tensor[512, 43] n=22016 (86Kb) x∈[0., 5.434e-06] μ=6.773e-08 σ=2.134e-07 cuda:0}, 1: {'step': tensor 1.356e+05, 'exp_avg': tensor[512] 2Kb x∈[-0.000, 0.000] μ=1.366e-06 σ=7.254e-05 cuda:0, 'exp_avg_sq': tensor[512] 2Kb x∈[8.681e-08, 5.465e-06] μ=6.076e-07 σ=6.290e-07 cuda:0}, 2: {'step': tensor 1.356e+05, 'exp_avg': tensor[128, 50] n=6400 (25Kb) x∈[-0.000, 0.000] μ=-2.196e-07 σ=1.798e-05 cuda:0, 'exp_avg_sq': tensor[128, 50] n=6400 (25Kb) x∈[5.719e-25, 2.924e-06] μ=4.108e-08 σ=1.280e-07 cuda:0}, 3: {'step': tensor 1.356e+05, 'exp_avg': tensor[128] x∈[-0.000, 0.000] μ=-4.381e-06 σ=0.000 cuda:0, 'exp_avg_sq': tensor[128] x∈[4.944e-07, 2.125e-05] μ=4.031e-06 σ=3.351e-06 cuda:0}, 4: {'step': tensor 1.356e+05, 'exp_avg': tensor[128, 128] n=16384 (64Kb) x∈[-8.022e-05, 8.154e-05] μ=-5.505e-08 σ=7.677e-06 cuda:0, 'exp_avg_sq': tensor[128, 128] n=16384 (64Kb) x∈[9.738e-12, 7.800e-07] μ=4.178e-09 σ=2.149e-08 cuda:0}, 5: {'step': tensor 1.356e+05, 'exp_avg': tensor[128] x∈[-0.001, 0.001] μ=-4.294e-05 σ=0.000 cuda:0, 'exp_avg_sq': tensor[128] x∈[1.805e-07, 0.000] μ=1.146e-05 σ=4.315e-05 cuda:0}, 6: {'step': tensor 1.356e+05, 'exp_avg': tensor[128, 512] n=65536 (0.2Mb) x∈[-9.345e-05, 6.776e-05] μ=3.798e-08 σ=4.835e-06 cuda:0, 'exp_avg_sq': tensor[128, 512] n=65536 (0.2Mb) x∈[2.918e-12, 1.114e-07] μ=8.429e-10 σ=2.619e-09 cuda:0}, 7: {'step': tensor 1.356e+05, 'exp_avg': tensor[512, 128] n=65536 (0.2Mb) x∈[-4.398e-05, 3.630e-05] μ=-1.136e-08 σ=3.296e-06 cuda:0, 'exp_avg_sq': tensor[512, 128] n=65536 (0.2Mb) x∈[2.651e-12, 6.052e-08] μ=5.070e-10 σ=1.528e-09 cuda:0}, 8: {'step': tensor 1.356e+05, 'exp_avg': tensor[512] 2Kb x∈[-0.000, 0.000] μ=-6.729e-07 σ=5.294e-05 cuda:0, 'exp_avg_sq': tensor[512] 2Kb x∈[4.902e-08, 3.275e-06] μ=4.040e-07 σ=3.765e-07 cuda:0}, 9: {'step': tensor 1.356e+05, 'exp_avg': tensor[512, 512] n=262144 (1Mb) x∈[-1.032e-05, 1.062e-05] μ=2.378e-09 σ=1.581e-06 cuda:0, 'exp_avg_sq': tensor[512, 512] n=262144 (1Mb) x∈[6.348e-12, 4.879e-09] μ=1.212e-10 σ=1.501e-10 cuda:0}, 10: {'step': tensor 1.356e+05, 'exp_avg': tensor[512] 2Kb x∈[-0.000, 0.000] μ=5.619e-07 σ=6.320e-05 cuda:0, 'exp_avg_sq': tensor[512] 2Kb x∈[7.091e-08, 5.088e-06] μ=5.389e-07 σ=5.935e-07 cuda:0}, 11: {'step': tensor 1.356e+05, 'exp_avg': tensor[128, 50] n=6400 (25Kb) x∈[-0.000, 0.000] μ=-1.280e-06 σ=1.951e-05 cuda:0, 'exp_avg_sq': tensor[128, 50] n=6400 (25Kb) x∈[7.439e-25, 6.210e-07] μ=1.471e-08 σ=3.903e-08 cuda:0}, 12: {'step': tensor 1.356e+05, 'exp_avg': tensor[128] x∈[-0.001, 0.000] μ=-2.553e-05 σ=0.000 cuda:0, 'exp_avg_sq': tensor[128] x∈[4.326e-07, 2.786e-06] μ=1.226e-06 σ=5.073e-07 cuda:0}, 13: {'step': tensor 1.356e+05, 'exp_avg': tensor[128, 128] n=16384 (64Kb) x∈[-7.202e-05, 7.906e-05] μ=5.465e-08 σ=7.357e-06 cuda:0, 'exp_avg_sq': tensor[128, 128] n=16384 (64Kb) x∈[1.762e-11, 1.027e-07] μ=2.199e-09 σ=4.207e-09 cuda:0}, 14: {'step': tensor 1.356e+05, 'exp_avg': tensor[128] x∈[-0.002, 0.001] μ=4.526e-06 σ=0.000 cuda:0, 'exp_avg_sq': tensor[128] x∈[1.910e-07, 3.425e-05] μ=3.558e-06 σ=4.912e-06 cuda:0}, 15: {'step': tensor 1.356e+05, 'exp_avg': tensor[128, 512] n=65536 (0.2Mb) x∈[-2.933e-05, 2.733e-05] μ=2.444e-08 σ=3.555e-06 cuda:0, 'exp_avg_sq': tensor[128, 512] n=65536 (0.2Mb) x∈[4.324e-12, 2.793e-08] μ=5.568e-10 σ=8.588e-10 cuda:0}, 16: {'step': tensor 1.356e+05, 'exp_avg': tensor[512, 128] n=65536 (0.2Mb) x∈[-2.180e-05, 2.436e-05] μ=1.491e-08 σ=2.861e-06 cuda:0, 'exp_avg_sq': tensor[512, 128] n=65536 (0.2Mb) x∈[1.961e-12, 1.281e-08] μ=3.206e-10 σ=4.943e-10 cuda:0}, 17: {'step': tensor 1.356e+05, 'exp_avg': tensor[512] 2Kb x∈[-0.000, 0.000] μ=-1.051e-06 σ=4.055e-05 cuda:0, 'exp_avg_sq': tensor[512] 2Kb x∈[3.463e-08, 9.919e-07] μ=2.236e-07 σ=1.275e-07 cuda:0}, 18: {'step': tensor 1.356e+05, 'exp_avg': tensor[512, 512] n=262144 (1Mb) x∈[-1.129e-05, 9.679e-06] μ=3.408e-09 σ=1.437e-06 cuda:0, 'exp_avg_sq': tensor[512, 512] n=262144 (1Mb) x∈[6.187e-12, 2.459e-09] μ=7.748e-11 σ=6.792e-11 cuda:0}, 19: {'step': tensor 1.356e+05, 'exp_avg': tensor[512] 2Kb x∈[-0.000, 0.000] μ=-6.039e-07 σ=6.184e-05 cuda:0, 'exp_avg_sq': tensor[512] 2Kb x∈[6.382e-08, 5.211e-06] μ=5.115e-07 σ=5.917e-07 cuda:0}, 20: {'step': tensor 1.356e+05, 'exp_avg': tensor[128, 50] n=6400 (25Kb) x∈[-8.786e-05, 0.000] μ=-4.162e-07 σ=1.321e-05 cuda:0, 'exp_avg_sq': tensor[128, 50] n=6400 (25Kb) x∈[6.787e-25, 3.279e-07] μ=1.090e-08 σ=2.696e-08 cuda:0}, 21: {'step': tensor 1.356e+05, 'exp_avg': tensor[128] x∈[-0.000, 0.000] μ=-8.303e-06 σ=0.000 cuda:0, 'exp_avg_sq': tensor[128] x∈[3.219e-07, 3.765e-06] μ=1.021e-06 σ=5.473e-07 cuda:0}, 22: {'step': tensor 1.356e+05, 'exp_avg': tensor[128, 128] n=16384 (64Kb) x∈[-5.400e-05, 4.148e-05] μ=1.841e-08 σ=6.669e-06 cuda:0, 'exp_avg_sq': tensor[128, 128] n=16384 (64Kb) x∈[1.155e-11, 1.244e-07] μ=1.995e-09 σ=4.115e-09 cuda:0}, 23: {'step': tensor 1.356e+05, 'exp_avg': tensor[128] x∈[-0.001, 0.001] μ=-1.548e-06 σ=0.000 cuda:0, 'exp_avg_sq': tensor[128] x∈[1.233e-07, 2.407e-05] μ=2.901e-06 σ=3.752e-06 cuda:0}, 24: {'step': tensor 1.356e+05, 'exp_avg': tensor[128, 512] n=65536 (0.2Mb) x∈[-3.800e-05, 5.518e-05] μ=6.382e-09 σ=3.928e-06 cuda:0, 'exp_avg_sq': tensor[128, 512] n=65536 (0.2Mb) x∈[8.375e-12, 8.031e-08] μ=7.568e-10 σ=1.555e-09 cuda:0}, 25: {'step': tensor 1.356e+05, 'exp_avg': tensor[512, 128] n=65536 (0.2Mb) x∈[-1.785e-05, 1.552e-05] μ=-1.285e-08 σ=2.400e-06 cuda:0, 'exp_avg_sq': tensor[512, 128] n=65536 (0.2Mb) x∈[2.497e-12, 9.110e-09] μ=2.476e-10 σ=3.764e-10 cuda:0}, 26: {'step': tensor 1.356e+05, 'exp_avg': tensor[512] 2Kb x∈[-0.000, 0.000] μ=-1.190e-06 σ=4.900e-05 cuda:0, 'exp_avg_sq': tensor[512] 2Kb x∈[4.940e-08, 1.103e-06] μ=2.565e-07 σ=1.647e-07 cuda:0}, 27: {'step': tensor 1.356e+05, 'exp_avg': tensor[512, 512] n=262144 (1Mb) x∈[-7.745e-06, 6.619e-06] μ=-1.005e-09 σ=1.161e-06 cuda:0, 'exp_avg_sq': tensor[512, 512] n=262144 (1Mb) x∈[5.340e-12, 1.149e-09] μ=5.302e-11 σ=4.374e-11 cuda:0}, 28: {'step': tensor 1.356e+05, 'exp_avg': tensor[512] 2Kb x∈[-0.000, 0.000] μ=-1.788e-06 σ=6.090e-05 cuda:0, 'exp_avg_sq': tensor[512] 2Kb x∈[4.913e-08, 5.235e-06] μ=5.106e-07 σ=5.782e-07 cuda:0}, 29: {'step': tensor 1.356e+05, 'exp_avg': tensor[128, 50] n=6400 (25Kb) x∈[-0.000, 0.000] μ=6.022e-07 σ=3.358e-05 cuda:0, 'exp_avg_sq': tensor[128, 50] n=6400 (25Kb) x∈[1.684e-24, 1.780e-06] μ=2.572e-08 σ=9.257e-08 cuda:0}, 30: {'step': tensor 1.356e+05, 'exp_avg': tensor[128] x∈[-0.001, 0.001] μ=1.201e-05 σ=0.000 cuda:0, 'exp_avg_sq': tensor[128] x∈[4.188e-07, 7.440e-06] μ=1.777e-06 σ=1.363e-06 cuda:0}, 31: {'step': tensor 1.356e+05, 'exp_avg': tensor[128, 128] n=16384 (64Kb) x∈[-0.000, 0.000] μ=-6.433e-09 σ=1.230e-05 cuda:0, 'exp_avg_sq': tensor[128, 128] n=16384 (64Kb) x∈[1.703e-11, 1.452e-06] μ=4.526e-09 σ=3.340e-08 cuda:0}, 32: {'step': tensor 1.356e+05, 'exp_avg': tensor[128] x∈[-0.004, 0.002] μ=2.318e-05 σ=0.000 cuda:0, 'exp_avg_sq': tensor[128] x∈[1.708e-07, 0.000] μ=5.069e-06 σ=1.924e-05 cuda:0}, 33: {'step': tensor 1.356e+05, 'exp_avg': tensor[128, 512] n=65536 (0.2Mb) x∈[-8.896e-05, 9.256e-05] μ=-8.156e-09 σ=4.863e-06 cuda:0, 'exp_avg_sq': tensor[128, 512] n=65536 (0.2Mb) x∈[3.954e-12, 7.309e-07] μ=1.219e-09 σ=7.890e-09 cuda:0}, 34: {'step': tensor 1.356e+05, 'exp_avg': tensor[512, 128] n=65536 (0.2Mb) x∈[-4.016e-05, 4.316e-05] μ=-3.928e-08 σ=2.830e-06 cuda:0, 'exp_avg_sq': tensor[512, 128] n=65536 (0.2Mb) x∈[2.536e-12, 8.209e-08] μ=3.611e-10 σ=1.576e-09 cuda:0}, 35: {'step': tensor 1.356e+05, 'exp_avg': tensor[512] 2Kb x∈[-0.000, 0.000] μ=-2.101e-06 σ=5.181e-05 cuda:0, 'exp_avg_sq': tensor[512] 2Kb x∈[4.325e-08, 3.896e-06] μ=4.114e-07 σ=3.955e-07 cuda:0}, 36: {'step': tensor 1.356e+05, 'exp_avg': tensor[512, 512] n=262144 (1Mb) x∈[-9.906e-06, 8.939e-06] μ=-4.555e-09 σ=1.269e-06 cuda:0, 'exp_avg_sq': tensor[512, 512] n=262144 (1Mb) x∈[3.964e-12, 2.585e-09] μ=6.667e-11 σ=7.033e-11 cuda:0}, 37: {'step': tensor 1.356e+05, 'exp_avg': tensor[512] 2Kb x∈[-0.000, 0.000] μ=-2.831e-06 σ=6.351e-05 cuda:0, 'exp_avg_sq': tensor[512] 2Kb x∈[4.024e-08, 5.207e-06] μ=5.822e-07 σ=7.136e-07 cuda:0}, 38: {'step': tensor 1.356e+05, 'exp_avg': tensor[128, 50] n=6400 (25Kb) x∈[-0.000, 0.000] μ=-5.699e-07 σ=1.573e-05 cuda:0, 'exp_avg_sq': tensor[128, 50] n=6400 (25Kb) x∈[3.124e-25, 5.407e-07] μ=1.252e-08 σ=3.067e-08 cuda:0}, 39: {'step': tensor 1.356e+05, 'exp_avg': tensor[128] x∈[-0.000, 0.000] μ=-1.137e-05 σ=0.000 cuda:0, 'exp_avg_sq': tensor[128] x∈[2.913e-07, 3.759e-06] μ=1.252e-06 σ=6.441e-07 cuda:0}, 40: {'step': tensor 1.356e+05, 'exp_avg': tensor[128, 128] n=16384 (64Kb) x∈[-8.653e-05, 4.658e-05] μ=-2.419e-09 σ=6.290e-06 cuda:0, 'exp_avg_sq': tensor[128, 128] n=16384 (64Kb) x∈[7.184e-12, 7.483e-08] μ=1.912e-09 σ=3.586e-09 cuda:0}, 41: {'step': tensor 1.356e+05, 'exp_avg': tensor[128] x∈[-0.001, 0.001] μ=1.079e-05 σ=0.000 cuda:0, 'exp_avg_sq': tensor[128] x∈[8.104e-08, 2.411e-05] μ=3.507e-06 σ=4.616e-06 cuda:0}, 42: {'step': tensor 1.356e+05, 'exp_avg': tensor[128, 512] n=65536 (0.2Mb) x∈[-6.622e-05, 4.592e-05] μ=-9.050e-09 σ=4.069e-06 cuda:0, 'exp_avg_sq': tensor[128, 512] n=65536 (0.2Mb) x∈[3.566e-12, 1.060e-07] μ=8.635e-10 σ=2.435e-09 cuda:0}, 43: {'step': tensor 1.356e+05, 'exp_avg': tensor[512, 128] n=65536 (0.2Mb) x∈[-2.399e-05, 2.542e-05] μ=-1.322e-08 σ=2.308e-06 cuda:0, 'exp_avg_sq': tensor[512, 128] n=65536 (0.2Mb) x∈[3.505e-12, 1.743e-08] μ=2.133e-10 σ=3.782e-10 cuda:0}, 44: {'step': tensor 1.356e+05, 'exp_avg': tensor[512] 2Kb x∈[-0.000, 0.000] μ=2.590e-06 σ=5.105e-05 cuda:0, 'exp_avg_sq': tensor[512] 2Kb x∈[2.608e-08, 2.443e-06] μ=3.292e-07 σ=2.809e-07 cuda:0}, 45: {'step': tensor 1.356e+05, 'exp_avg': tensor[512, 512] n=262144 (1Mb) x∈[-6.970e-06, 7.937e-06] μ=1.364e-08 σ=1.101e-06 cuda:0, 'exp_avg_sq': tensor[512, 512] n=262144 (1Mb) x∈[3.622e-12, 9.799e-10] μ=4.415e-11 σ=3.715e-11 cuda:0}, 46: {'step': tensor 1.356e+05, 'exp_avg': tensor[512] 2Kb x∈[-0.000, 0.000] μ=-2.625e-06 σ=6.585e-05 cuda:0, 'exp_avg_sq': tensor[512] 2Kb x∈[4.345e-08, 5.836e-06] μ=6.284e-07 σ=7.666e-07 cuda:0}, 47: {'step': tensor 1.356e+05, 'exp_avg': tensor[128, 50] n=6400 (25Kb) x∈[-0.000, 0.000] μ=1.309e-06 σ=3.076e-05 cuda:0, 'exp_avg_sq': tensor[128, 50] n=6400 (25Kb) x∈[1.494e-24, 1.714e-06] μ=3.767e-08 σ=9.630e-08 cuda:0}, 48: {'step': tensor 1.356e+05, 'exp_avg': tensor[128] x∈[-0.001, 0.001] μ=2.611e-05 σ=0.000 cuda:0, 'exp_avg_sq': tensor[128] x∈[1.120e-06, 1.457e-05] μ=3.753e-06 σ=2.274e-06 cuda:0}, 49: {'step': tensor 1.356e+05, 'exp_avg': tensor[128, 128] n=16384 (64Kb) x∈[-0.000, 0.000] μ=4.659e-08 σ=1.029e-05 cuda:0, 'exp_avg_sq': tensor[128, 128] n=16384 (64Kb) x∈[7.879e-12, 1.738e-07] μ=4.211e-09 σ=1.009e-08 cuda:0}, 50: {'step': tensor 1.356e+05, 'exp_avg': tensor[128] x∈[-0.002, 0.003] μ=6.068e-05 σ=0.000 cuda:0, 'exp_avg_sq': tensor[128] x∈[1.099e-07, 6.155e-05] μ=9.112e-06 σ=1.304e-05 cuda:0}, 51: {'step': tensor 1.356e+05, 'exp_avg': tensor[128, 512] n=65536 (0.2Mb) x∈[-7.557e-05, 7.901e-05] μ=4.303e-09 σ=6.410e-06 cuda:0, 'exp_avg_sq': tensor[128, 512] n=65536 (0.2Mb) x∈[5.451e-12, 3.674e-07] μ=2.195e-09 σ=7.135e-09 cuda:0}, 52: {'step': tensor 1.356e+05, 'exp_avg': tensor[512, 128] n=65536 (0.2Mb) x∈[-4.727e-05, 4.723e-05] μ=1.404e-08 σ=3.375e-06 cuda:0, 'exp_avg_sq': tensor[512, 128] n=65536 (0.2Mb) x∈[1.193e-12, 2.027e-08] μ=3.791e-10 σ=7.473e-10 cuda:0}, 53: {'step': tensor 1.356e+05, 'exp_avg': tensor[512] 2Kb x∈[-0.000, 0.000] μ=-1.942e-06 σ=8.235e-05 cuda:0, 'exp_avg_sq': tensor[512] 2Kb x∈[3.319e-08, 7.426e-06] μ=1.003e-06 σ=1.097e-06 cuda:0}, 54: {'step': tensor 1.356e+05, 'exp_avg': tensor[512, 512] n=262144 (1Mb) x∈[-7.323e-06, 8.111e-06] μ=-4.644e-09 σ=1.181e-06 cuda:0, 'exp_avg_sq': tensor[512, 512] n=262144 (1Mb) x∈[2.158e-12, 1.166e-09] μ=5.801e-11 σ=5.726e-11 cuda:0}, 55: {'step': tensor 1.356e+05, 'exp_avg': tensor[512] 2Kb x∈[-0.000, 0.000] μ=-1.851e-06 σ=6.805e-05 cuda:0, 'exp_avg_sq': tensor[512] 2Kb x∈[4.479e-08, 8.124e-06] μ=7.764e-07 σ=8.870e-07 cuda:0}, 56: {'step': tensor 1.356e+05, 'exp_avg': tensor[256, 512] n=131072 (0.5Mb) x∈[-0.000, 0.000] μ=8.359e-09 σ=1.082e-05 cuda:0, 'exp_avg_sq': tensor[256, 512] n=131072 (0.5Mb) x∈[1.690e-11, 8.333e-07] μ=6.507e-09 σ=1.476e-08 cuda:0}, 57: {'step': tensor 1.356e+05, 'exp_avg': tensor[256] 1Kb x∈[-0.000, 0.000] μ=1.176e-05 σ=7.465e-05 cuda:0, 'exp_avg_sq': tensor[256] 1Kb x∈[1.215e-08, 1.016e-05] μ=7.553e-07 σ=1.169e-06 cuda:0}, 58: {'step': tensor 1.356e+05, 'exp_avg': tensor[32, 256] n=8192 (32Kb) x∈[-0.002, 0.002] μ=1.848e-06 σ=0.000 cuda:0, 'exp_avg_sq': tensor[32, 256] n=8192 (32Kb) x∈[2.113e-08, 0.000] μ=1.872e-06 σ=4.951e-06 cuda:0}, 59: {'step': tensor 1.356e+05, 'exp_avg': tensor[32] x∈[-0.007, 0.005] μ=-0.001 σ=0.003 cuda:0, 'exp_avg_sq': tensor[32] x∈[6.029e-05, 0.002] μ=0.000 σ=0.000 cuda:0}, 60: {'step': tensor 1.356e+05, 'exp_avg': tensor[32, 64] n=2048 (8Kb) x∈[-0.012, 0.014] μ=-1.459e-05 σ=0.001 cuda:0, 'exp_avg_sq': tensor[32, 64] n=2048 (8Kb) x∈[1.454e-27, 0.020] μ=0.000 σ=0.001 cuda:0}, 61: {'step': tensor 1.356e+05, 'exp_avg': tensor[32] x∈[-1.590e-05, 1.802e-05] μ=7.739e-07 σ=5.919e-06 cuda:0, 'exp_avg_sq': tensor[32] x∈[1.101e-25, 4.875e-07] μ=3.674e-08 σ=1.057e-07 cuda:0}, 62: {'step': tensor 1.356e+05, 'exp_avg': tensor[1, 32] x∈[-0.036, 0.096] μ=0.005 σ=0.022 cuda:0, 'exp_avg_sq': tensor[1, 32] x∈[9.877e-22, 4.794] μ=0.208 σ=0.863 cuda:0}, 63: {'step': tensor 1.356e+05, 'exp_avg': tensor[1] cuda:0 [0.003], 'exp_avg_sq': tensor[1] cuda:0 [0.015]}}, 'param_groups': [{'lr': 0.0, 'betas': (0.9, 0.999), 'eps': 1e-08, 'weight_decay': 0.0, 'amsgrad': False, 'maximize': False, 'foreach': None, 'capturable': False, 'differentiable': False, 'fused': None, 'initial_lr': 0.0003, 'params': [0, 1, 2, 3, 4, 5, 6, 7, 8, 9, 10, 11, 12, 13, 14, 15, 16, 17, 18, 19, 20, 21, 22, 23, 24, 25, 26, 27, 28, 29, 30, 31, 32, 33, 34, 35, 36, 37, 38, 39, 40, 41, 42, 43, 44, 45, 46, 47, 48, 49, 50, 51, 52, 53, 54, 55, 56, 57, 58, 59, 60, 61, 62, 63]}]}], 'lr_schedulers': [{'warmup_epochs': 13560.0, 'max_epochs': 135600, 'warmup_start_lr': 0.0, 'eta_min': 0.0, 'base_lrs': [0.0003], 'last_epoch': 135600, 'verbose': False, '_step_count': 135601, '_get_lr_called_within_step': False, '_last_lr': [0.0]}], 'hparams_name': 'kwargs', 'hyper_parameters': {'cfg': {'hydra': {'run': {'dir': '${env.paths.log_dir}/${task_name}/runs/${now:%Y-%m-%d}_${now:%H-%M-%S}'}, 'sweep': {'dir': '${env.paths.log_dir}/${task_name}/multiruns/${now:%Y-%m-%d}_${now:%H-%M-%S}', 'subdir': '${hydra.job.num}'}, 'launcher': {'_target_': 'hydra._internal.core_plugins.basic_launcher.BasicLauncher'}, 'sweeper': {'_target_': 'hydra._internal.core_plugins.basic_sweeper.BasicSweeper', 'max_batch_size': None, 'params': None}, 'help': {'app_name': '${hydra.job.name}', 'header': '${hydra.help.app_name} is powered by Hydra.\\n', 'footer': 'Powered by Hydra (https://hydra.cc)\\nUse --hydra-help to view Hydra specific help\\n', 'template': '${hydra.help.header}\\n== Configuration groups ==\\nCompose your configuration from those groups (group=option)\\n\\n$APP_CONFIG_GROUPS\\n\\n== Config ==\\nOverride anything in the config (foo.bar=value)\\n\\n$CONFIG\\n\\n${hydra.help.footer}\\n'}, 'hydra_help': {'template': \"Hydra (${hydra.runtime.version})\\nSee https://hydra.cc for more info.\\n\\n== Flags ==\\n$FLAGS_HELP\\n\\n== Configuration groups ==\\nCompose your configuration from those groups (For example, append hydra/job_logging=disabled to command line)\\n\\n$HYDRA_CONFIG_GROUPS\\n\\nUse '--cfg hydra' to Show the Hydra config.\\n\", 'hydra_help': 'False'}, 'hydra_logging': {'version': 1, 'formatters': {'colorlog': {'()': 'colorlog.ColoredFormatter', 'format': '[%(cyan)s%(asctime)s%(reset)s][%(purple)sHYDRA%(reset)s] %(message)s'}}, 'handlers': {'console': {'class': 'logging.StreamHandler', 'formatter': 'colorlog', 'stream': 'ext://sys.stdout'}}, 'root': {'level': 'INFO', 'handlers': ['console']}, 'disable_existing_loggers': False}, 'job_logging': {'version': 1, 'formatters': {'simple': {'format': '[%(asctime)s][%(name)s][%(levelname)s] - %(message)s'}, 'colorlog': {'()': 'colorlog.ColoredFormatter', 'format': '[%(cyan)s%(asctime)s%(reset)s][%(blue)s%(name)s%(reset)s][%(log_color)s%(levelname)s%(reset)s] - %(message)s', 'log_colors': {'DEBUG': 'purple', 'INFO': 'green', 'WARNING': 'yellow', 'ERROR': 'red', 'CRITICAL': 'red'}}}, 'handlers': {'console': {'class': 'logging.StreamHandler', 'formatter': 'colorlog', 'stream': 'ext://sys.stdout'}, 'file': {'class': 'logging.FileHandler', 'formatter': 'simple', 'filename': '${hydra.runtime.output_dir}/${hydra.job.name}.log'}}, 'root': {'level': 'INFO', 'handlers': ['console', 'file']}, 'disable_existing_loggers': False}, 'env': {}, 'mode': None, 'searchpath': [], 'callbacks': {}, 'output_subdir': '.hydra', 'overrides': {'hydra': [], 'task': ['encoder=schnet', 'encoder.hidden_channels=512', 'encoder.out_dim=32', 'encoder.num_layers=6', 'encoder.num_filters=128', 'encoder.num_gaussians=50', 'encoder.cutoff=10.0', 'encoder.max_num_neighbors=32', 'encoder.readout=add', 'encoder.dipole=False', 'encoder.mean=null', 'encoder.std=null', 'encoder.atomref=null', 'encoder.pretraining=True', 'decoder=subgraph_distances', 'decoder.subgraph_distances.hidden_channels=32', 'task=subgraph_distance_prediction', 'dataset=afdb_swissprot_v4', 'dataset.datamodule.batch_size=32', 'features=fe_subgraph_ca_angles_pos', '+aux_task=none', 'trainer.max_epochs=10', 'optimiser=adam', 'optimiser.optimizer.lr=3e-4', 'callbacks.early_stopping.patience=10', 'callbacks.model_checkpoint.save_top_k=-1', 'test=True', 'scheduler=linear_warmup_cosine_decay']}, 'job': {'name': 'notebook', 'chdir': None, 'override_dirname': '+aux_task=none,callbacks.early_stopping.patience=10,callbacks.model_checkpoint.save_top_k=-1,dataset.datamodule.batch_size=32,dataset=afdb_swissprot_v4,decoder.subgraph_distances.hidden_channels=32,decoder=subgraph_distances,encoder.atomref=null,encoder.cutoff=10.0,encoder.dipole=False,encoder.hidden_channels=512,encoder.max_num_neighbors=32,encoder.mean=null,encoder.num_filters=128,encoder.num_gaussians=50,encoder.num_layers=6,encoder.out_dim=32,encoder.pretraining=True,encoder.readout=add,encoder.std=null,encoder=schnet,features=fe_subgraph_ca_angles_pos,optimiser.optimizer.lr=3e-4,optimiser=adam,scheduler=linear_warmup_cosine_decay,task=subgraph_distance_prediction,test=True,trainer.max_epochs=10', 'id': '0', 'num': 0, 'config_name': 'train', 'env_set': {}, 'env_copy': [], 'config': {'override_dirname': {'kv_sep': '=', 'item_sep': ',', 'exclude_keys': []}}}, 'runtime': {'version': '1.3.2', 'version_base': '1.2', 'cwd': '/home/zhang/Projects/3d/ProteinWorkshop/notebooks', 'config_sources': [{'path': 'hydra.conf', 'schema': 'pkg', 'provider': 'hydra'}, {'path': '/home/zhang/Projects/3d/ProteinWorkshop/proteinworkshop/config', 'schema': 'file', 'provider': 'main'}, {'path': 'hydra_plugins.hydra_colorlog.conf', 'schema': 'pkg', 'provider': 'hydra-colorlog'}, {'path': '', 'schema': 'structured', 'provider': 'schema'}], 'output_dir': 'outputs', 'choices': {'aux_task': 'none', 'debug': None, 'logger': 'csv', 'task': 'subgraph_distance_prediction', 'hydra': 'default', 'extras': 'default', 'trainer': 'gpu', 'scheduler': 'linear_warmup_cosine_decay', 'optimiser': 'adam', 'callbacks': 'default', 'decoder': 'subgraph_distances', 'encoder': 'schnet', 'features': 'fe_subgraph_ca_angles_pos', 'dataset': 'afdb_swissprot_v4', 'env': 'default', 'hparams': 'schnet_fe_subgraph_ca_angles_pos', 'hydra/env': 'default', 'hydra/callbacks': None, 'hydra/job_logging': 'colorlog', 'hydra/hydra_logging': 'colorlog', 'hydra/hydra_help': 'default', 'hydra/help': 'default', 'hydra/sweeper': 'basic', 'hydra/launcher': 'basic', 'hydra/output': 'default'}}, 'verbose': False}, 'env': {'paths': {'root_dir': '${oc.env:ROOT_DIR}', 'data': '${oc.env:DATA_PATH}', 'output_dir': '${hydra:runtime.output_dir}', 'work_dir': '${hydra:runtime.cwd}', 'log_dir': '${oc.env:RUNS_PATH}', 'runs': '${oc.env:RUNS_PATH}', 'run_dir': '${env.paths.runs}/${name}/${env.init_time}'}, 'python': {'version': '${python_version:micro}'}, 'init_time': '${now:%y-%m-%d_%H:%M:%S}'}, 'dataset': {'datamodule': {'_target_': 'graphein.ml.datasets.foldcomp_dataset.FoldCompLightningDataModule', 'data_dir': '${env.paths.data}/afdb_swissprot_v4/', 'database': 'afdb_swissprot_v4', 'batch_size': 32, 'num_workers': 32, 'train_split': 0.8, 'val_split': 0.1, 'test_split': 0.1, 'pin_memory': True, 'use_graphein': True, 'transform': '${transforms}'}, 'dataset_name': 'afdb_swissprot_v4', 'num_classes': 'None'}, 'features': {'_target_': 'proteinworkshop.features.factory.ProteinFeaturiser', 'representation': 'CA', 'scalar_node_features': ['amino_acid_one_hot', 'sequence_positional_encoding', 'alpha', 'kappa'], 'vector_node_features': [], 'edge_types': [], 'scalar_edge_features': [], 'vector_edge_features': [], 'subgraph_pretraining_edges': [10.0, 32], 'compute_subgraphs': [2, 0.1]}, 'encoder': {'_target_': 'proteinworkshop.models.graph_encoders.schnet.SchNetModel', 'hidden_channels': 512, 'out_dim': 32, 'num_layers': 6, 'num_filters': 128, 'num_gaussians': 50, 'cutoff': 10.0, 'max_num_neighbors': 32, 'readout': 'add', 'dipole': False, 'mean': None, 'std': None, 'atomref': None, 'pretraining': True}, 'decoder': {'subgraph_distances': {'_target_': 'proteinworkshop.models.decoders.mlp_dist.MLP_Pred_Dist', 'hidden_channels': 32, 'input': 'fused_repr'}}, 'transforms': {'remove_missing_ca': {'_target_': 'proteinworkshop.tasks.remove_missing_ca.RemoveMissingCa', 'fill_value': 1e-05, 'ca_idx': 1}}, 'callbacks': {'model_checkpoint': {'_target_': 'lightning.pytorch.callbacks.ModelCheckpoint', 'dirpath': '${env.paths.output_dir}/checkpoints', 'filename': 'epoch_{epoch:03d}', 'monitor': 'val/subgraph_distances/mse', 'verbose': True, 'save_last': True, 'save_top_k': -1, 'mode': 'min', 'auto_insert_metric_name': False, 'save_weights_only': False, 'every_n_train_steps': None, 'train_time_interval': None, 'every_n_epochs': None, 'save_on_train_epoch_end': None}, 'early_stopping': {'_target_': 'lightning.pytorch.callbacks.EarlyStopping', 'monitor': 'val/subgraph_distances/mse', 'min_delta': 0.0, 'patience': 10, 'verbose': True, 'mode': 'min', 'strict': True, 'check_finite': True, 'stopping_threshold': None, 'divergence_threshold': None, 'check_on_train_epoch_end': False}, 'model_summary': {'_target_': 'lightning.pytorch.callbacks.RichModelSummary', 'max_depth': -1}, 'rich_progress_bar': {'_target_': 'lightning.pytorch.callbacks.RichProgressBar'}, 'learning_rate_monitor': {'_target_': 'lightning.pytorch.callbacks.LearningRateMonitor'}, 'stop_on_nan': {'_target_': 'lightning.pytorch.callbacks.EarlyStopping', 'monitor': 'train/loss/total', 'min_delta': 0.0, 'patience': 10000000, 'verbose': True, 'mode': 'min', 'strict': True, 'check_finite': True, 'stopping_threshold': None, 'divergence_threshold': None, 'check_on_train_epoch_end': None}}, 'optimiser': {'optimizer': {'_target_': 'torch.optim.Adam', '_partial_': True, 'lr': 0.0003, 'weight_decay': 0.0}}, 'scheduler': {'scheduler': {'_target_': 'flash.core.optimizers.LinearWarmupCosineAnnealingLR', '_partial_': True, 'warmup_epochs': 13560.0, 'warmup_start_lr': 0.0, 'max_epochs': 135600}, 'interval': 'step', 'frequency': 1, 'monitor': 'val/loss/total', 'strict': True, 'name': 'learning_rate'}, 'trainer': {'_target_': 'lightning.pytorch.trainer.Trainer', 'default_root_dir': '${env.paths.output_dir}', 'min_epochs': 1, 'max_epochs': 10, 'accelerator': 'gpu', 'check_val_every_n_epoch': 1, 'deterministic': False, 'num_sanity_val_steps': 2, 'devices': 1}, 'extras': {'ignore_warnings': True, 'enforce_tags': False, 'print_config': True}, 'metrics': {'mse': {'_target_': 'torchmetrics.MeanSquaredError'}}, 'task': {'task': 'subgraph_distance_prediction', 'losses': {'subgraph_distances': 'mse_loss'}, 'label_smoothing': 0.0, 'output': ['subgraph_distances'], 'supervise_on': ['subgraph_distances']}, 'logger': {'csv': {'_target_': 'lightning.pytorch.loggers.csv_logs.CSVLogger', 'save_dir': '${env.paths.output_dir}', 'name': 'csv/', 'prefix': ''}}, 'name': '', 'seed': 52, 'num_workers': 16, 'task_name': 'train', 'ckpt_path_test': '', 'test': True, 'aux_task': {}}}}\n"
     ]
    }
   ],
   "source": [
    "ckpt_path = \"/home/zhang/Projects/3d/ProteinWorkshop/notebooks/outputs_schnet_pretraining(subgraph,ca_angles_pos)_best@9/checkpoints/epoch_009.ckpt\"\n",
    "log.info(f\"Loading weights from checkpoint {ckpt_path}...\")\n",
    "state_dict = torch.load(ckpt_path)[\"state_dict\"]\n",
    "print(state_dict)\n"
   ]
  },
  {
   "cell_type": "code",
   "execution_count": null,
   "metadata": {},
   "outputs": [],
   "source": [
    "# encoder\n",
    "encoder_weights = collections.OrderedDict()\n",
    "for k, v in state_dict.items():\n",
    "    if k.startswith(\"encoder\"):\n",
    "        encoder_weights[k.replace(\"encoder.\", \"\")] = v\n",
    "log.info(f\"Loading encoder weights: {encoder_weights}\")\n",
    "err = model.encoder.load_state_dict(encoder_weights, strict=True)\n",
    "# model.encoder.lin_out = torch.nn.Linear(128, 1195) # here\n",
    "log.warning(f\"Error loading encoder weights: {err}\")"
   ]
  },
  {
   "cell_type": "code",
   "execution_count": null,
   "metadata": {},
   "outputs": [],
   "source": [
    "# from proteinworkshop.finetune import train_model\n",
    "\n",
    "# train_model(cfg)"
   ]
  },
  {
   "cell_type": "markdown",
   "metadata": {},
   "source": [
    "### 4. Wrapping up\n",
    "\n",
    "Have any additional questions about using the components provided in the `ProteinWorkshop`? [Create a new issue](https://github.com/a-r-j/ProteinWorkshop/issues/new/choose) on our [GitHub repository](https://github.com/a-r-j/ProteinWorkshop). We would be happy to work with you to leverage the full power of the repository!"
   ]
  },
  {
   "cell_type": "markdown",
   "metadata": {},
   "source": [
    "/home/yang/anaconda3/envs/3d/lib/python3.10/site-packages/lightning/pytorch/utilities/data.py"
   ]
  }
 ],
 "metadata": {
  "kernelspec": {
   "display_name": "Python 3",
   "language": "python",
   "name": "python3"
  },
  "language_info": {
   "codemirror_mode": {
    "name": "ipython",
    "version": 3
   },
   "file_extension": ".py",
   "mimetype": "text/x-python",
   "name": "python",
   "nbconvert_exporter": "python",
   "pygments_lexer": "ipython3",
   "version": "3.10.14"
  },
  "orig_nbformat": 4
 },
 "nbformat": 4,
 "nbformat_minor": 2
}
