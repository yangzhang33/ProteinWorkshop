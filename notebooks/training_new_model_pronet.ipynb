{
 "cells": [
  {
   "cell_type": "markdown",
   "metadata": {},
   "source": [
    "# `ProteinWorkshop` Tutorial, Part 1 - Training a New Model\n",
    "![Models](../docs/source/_static/box_models.png)"
   ]
  },
  {
   "cell_type": "markdown",
   "metadata": {},
   "source": [
    "## Train a new model using the `ProteinWorkshop`"
   ]
  },
  {
   "cell_type": "code",
   "execution_count": 1,
   "metadata": {},
   "outputs": [],
   "source": [
    "%load_ext autoreload\n",
    "%autoreload 2\n",
    "# %load_ext blackcellmagic"
   ]
  },
  {
   "cell_type": "markdown",
   "metadata": {},
   "source": [
    "Welcome to the tutorial series for the `ProteinWorkshop`! \n",
    "\n",
    "In the `ProteinWorkshop`, we implement numerous [featurisation](https://www.proteins.sh/configs/features) schemes, [datasets](https://www.proteins.sh/configs/dataset) for [self-supervised pre-training](https://proteins.sh/quickstart_component/pretrain.html) and [downstream evaluation](https://proteins.sh/quickstart_component/downstream.html), [pre-training](https://proteins.sh/configs/task) tasks, and [auxiliary tasks](https://proteins.sh/configs/task.html#auxiliary-tasks).\n",
    "\n",
    "[Processed datasets](https://drive.google.com/drive/folders/18i8rLST6ZICTBu6Q67ClT0KqN9AHeqoW?usp=sharing) and [pre-trained weights](https://drive.google.com/drive/folders/1zK1r8FpmGaqV_QwUJuvDacwSL0RW-Vw9?usp=sharing) are made available. Downloading datasets is not required; upon first run all datasets will be downloaded and processed from their respective source.\n",
    "\n",
    "The `ProteinWorkshop` encompasses several models as well as pre-trained weights for them so that you can readily use them.\n",
    "\n",
    "In this tutorial, we show you how you can use what is already available in the protein workshop to train and use models for specific tasks. The `ProteinWorkshop` is structured as a very modular package; we will therefore talk about how to change the different parts of it, like the model, training task, dataset, featurization scheme, etc. in this tutorial. \n",
    "\n",
    "Besides using all the different options we provide, you can make use of the modular nature of the `ProteinWorkshop` to add your own models, datasets, featurization schemes, and training tasks. We will show you how to do this in the next tutorials."
   ]
  },
  {
   "cell_type": "markdown",
   "metadata": {},
   "source": [
    "To train a new model, you can follow the following 3-step procedure:\n",
    "\n",
    "1. Choose the parts you want to consider: model, training task, dataset, featurization scheme and auxiliary tasks\n",
    "2. Validate the designed training config\n",
    "3. Use the designed config to train a new model"
   ]
  },
  {
   "cell_type": "markdown",
   "metadata": {},
   "source": [
    "### 1. Choose the parts you want to consider: model, training task, dataset, featurization scheme and auxiliary tasks\n",
    "\n",
    "You can switch out any of these for another available option by replacing the corresponding argument's value in `overrides`:\n",
    "\n",
    "`cfg = hydra.compose(\"template\", overrides=[\"encoder=schnet\", \"task=inverse_folding\", \"dataset=afdb_swissprot_v4\", \"features=ca_base\", \"+aux_task=none\"], return_hydra_config=True)`"
   ]
  },
  {
   "cell_type": "code",
   "execution_count": 2,
   "metadata": {},
   "outputs": [
    {
     "data": {
      "text/html": [
       "<pre style=\"white-space:pre;overflow-x:auto;line-height:normal;font-family:Menlo,'DejaVu Sans Mono',consolas,'Courier New',monospace\"><span style=\"color: #7fbfbf; text-decoration-color: #7fbfbf\">[07/22/24 16:26:17] </span><span style=\"color: #008000; text-decoration-color: #008000\">DEBUG   </span> No `.env` file found in project root. Checking for env vars<span style=\"color: #808000; text-decoration-color: #808000\">...</span>         <a href=\"file:///home/zhang/Projects/3d/ProteinWorkshop/proteinworkshop/constants.py\" target=\"_blank\"><span style=\"color: #7f7f7f; text-decoration-color: #7f7f7f\">constants.py</span></a><span style=\"color: #7f7f7f; text-decoration-color: #7f7f7f\">:</span><a href=\"file:///home/zhang/Projects/3d/ProteinWorkshop/proteinworkshop/constants.py#22\" target=\"_blank\"><span style=\"color: #7f7f7f; text-decoration-color: #7f7f7f\">22</span></a>\n",
       "</pre>\n"
      ],
      "text/plain": [
       "\u001b[2;36m[07/22/24 16:26:17]\u001b[0m\u001b[2;36m \u001b[0m\u001b[32mDEBUG   \u001b[0m No `.env` file found in project root. Checking for env vars\u001b[33m...\u001b[0m         \u001b]8;id=246710;file:///home/zhang/Projects/3d/ProteinWorkshop/proteinworkshop/constants.py\u001b\\\u001b[2mconstants.py\u001b[0m\u001b]8;;\u001b\\\u001b[2m:\u001b[0m\u001b]8;id=438050;file:///home/zhang/Projects/3d/ProteinWorkshop/proteinworkshop/constants.py#22\u001b\\\u001b[2m22\u001b[0m\u001b]8;;\u001b\\\n"
      ]
     },
     "metadata": {},
     "output_type": "display_data"
    },
    {
     "data": {
      "text/html": [
       "<pre style=\"white-space:pre;overflow-x:auto;line-height:normal;font-family:Menlo,'DejaVu Sans Mono',consolas,'Courier New',monospace\"><span style=\"color: #7fbfbf; text-decoration-color: #7fbfbf\">                    </span><span style=\"color: #008000; text-decoration-color: #008000\">DEBUG   </span> No env var `DATA_PATH` found. Setting default<span style=\"color: #808000; text-decoration-color: #808000\">...</span>                       <a href=\"file:///home/zhang/Projects/3d/ProteinWorkshop/proteinworkshop/constants.py\" target=\"_blank\"><span style=\"color: #7f7f7f; text-decoration-color: #7f7f7f\">constants.py</span></a><span style=\"color: #7f7f7f; text-decoration-color: #7f7f7f\">:</span><a href=\"file:///home/zhang/Projects/3d/ProteinWorkshop/proteinworkshop/constants.py#28\" target=\"_blank\"><span style=\"color: #7f7f7f; text-decoration-color: #7f7f7f\">28</span></a>\n",
       "</pre>\n"
      ],
      "text/plain": [
       "\u001b[2;36m                   \u001b[0m\u001b[2;36m \u001b[0m\u001b[32mDEBUG   \u001b[0m No env var `DATA_PATH` found. Setting default\u001b[33m...\u001b[0m                       \u001b]8;id=582241;file:///home/zhang/Projects/3d/ProteinWorkshop/proteinworkshop/constants.py\u001b\\\u001b[2mconstants.py\u001b[0m\u001b]8;;\u001b\\\u001b[2m:\u001b[0m\u001b]8;id=839396;file:///home/zhang/Projects/3d/ProteinWorkshop/proteinworkshop/constants.py#28\u001b\\\u001b[2m28\u001b[0m\u001b]8;;\u001b\\\n"
      ]
     },
     "metadata": {},
     "output_type": "display_data"
    },
    {
     "data": {
      "text/html": [
       "<pre style=\"white-space:pre;overflow-x:auto;line-height:normal;font-family:Menlo,'DejaVu Sans Mono',consolas,'Courier New',monospace\"><span style=\"color: #7fbfbf; text-decoration-color: #7fbfbf\">                    </span><span style=\"color: #000080; text-decoration-color: #000080\">INFO    </span> DATA_PATH:                                                             <a href=\"file:///home/zhang/Projects/3d/ProteinWorkshop/proteinworkshop/constants.py\" target=\"_blank\"><span style=\"color: #7f7f7f; text-decoration-color: #7f7f7f\">constants.py</span></a><span style=\"color: #7f7f7f; text-decoration-color: #7f7f7f\">:</span><a href=\"file:///home/zhang/Projects/3d/ProteinWorkshop/proteinworkshop/constants.py#39\" target=\"_blank\"><span style=\"color: #7f7f7f; text-decoration-color: #7f7f7f\">39</span></a>\n",
       "<span style=\"color: #7fbfbf; text-decoration-color: #7fbfbf\">                    </span>         <span style=\"color: #800080; text-decoration-color: #800080\">/home/zhang/Projects/3d/ProteinWorkshop/proteinworkshop/</span><span style=\"color: #ff00ff; text-decoration-color: #ff00ff\">data</span>           <span style=\"color: #7f7f7f; text-decoration-color: #7f7f7f\">               </span>\n",
       "</pre>\n"
      ],
      "text/plain": [
       "\u001b[2;36m                   \u001b[0m\u001b[2;36m \u001b[0m\u001b[34mINFO    \u001b[0m DATA_PATH:                                                             \u001b]8;id=132439;file:///home/zhang/Projects/3d/ProteinWorkshop/proteinworkshop/constants.py\u001b\\\u001b[2mconstants.py\u001b[0m\u001b]8;;\u001b\\\u001b[2m:\u001b[0m\u001b]8;id=981145;file:///home/zhang/Projects/3d/ProteinWorkshop/proteinworkshop/constants.py#39\u001b\\\u001b[2m39\u001b[0m\u001b]8;;\u001b\\\n",
       "\u001b[2;36m                    \u001b[0m         \u001b[35m/home/zhang/Projects/3d/ProteinWorkshop/proteinworkshop/\u001b[0m\u001b[95mdata\u001b[0m           \u001b[2m               \u001b[0m\n"
      ]
     },
     "metadata": {},
     "output_type": "display_data"
    },
    {
     "data": {
      "text/html": [
       "<pre style=\"white-space:pre;overflow-x:auto;line-height:normal;font-family:Menlo,'DejaVu Sans Mono',consolas,'Courier New',monospace\"><span style=\"color: #7fbfbf; text-decoration-color: #7fbfbf\">[07/22/24 16:26:19] </span><span style=\"color: #000080; text-decoration-color: #000080\">INFO    </span> Hydra initialised at                                                    <a href=\"file:///home/zhang/Projects/3d/ProteinWorkshop/proteinworkshop/utils/notebook.py\" target=\"_blank\"><span style=\"color: #7f7f7f; text-decoration-color: #7f7f7f\">notebook.py</span></a><span style=\"color: #7f7f7f; text-decoration-color: #7f7f7f\">:</span><a href=\"file:///home/zhang/Projects/3d/ProteinWorkshop/proteinworkshop/utils/notebook.py#53\" target=\"_blank\"><span style=\"color: #7f7f7f; text-decoration-color: #7f7f7f\">53</span></a>\n",
       "<span style=\"color: #7fbfbf; text-decoration-color: #7fbfbf\">                    </span>         <span style=\"color: #800080; text-decoration-color: #800080\">/home/zhang/Projects/3d/ProteinWorkshop/proteinworkshop/</span><span style=\"color: #ff00ff; text-decoration-color: #ff00ff\">config.</span>         <span style=\"color: #7f7f7f; text-decoration-color: #7f7f7f\">              </span>\n",
       "</pre>\n"
      ],
      "text/plain": [
       "\u001b[2;36m[07/22/24 16:26:19]\u001b[0m\u001b[2;36m \u001b[0m\u001b[34mINFO    \u001b[0m Hydra initialised at                                                    \u001b]8;id=298090;file:///home/zhang/Projects/3d/ProteinWorkshop/proteinworkshop/utils/notebook.py\u001b\\\u001b[2mnotebook.py\u001b[0m\u001b]8;;\u001b\\\u001b[2m:\u001b[0m\u001b]8;id=248743;file:///home/zhang/Projects/3d/ProteinWorkshop/proteinworkshop/utils/notebook.py#53\u001b\\\u001b[2m53\u001b[0m\u001b]8;;\u001b\\\n",
       "\u001b[2;36m                    \u001b[0m         \u001b[35m/home/zhang/Projects/3d/ProteinWorkshop/proteinworkshop/\u001b[0m\u001b[95mconfig.\u001b[0m         \u001b[2m              \u001b[0m\n"
      ]
     },
     "metadata": {},
     "output_type": "display_data"
    }
   ],
   "source": [
    "# Misc. tools\n",
    "import os\n",
    "\n",
    "# Hydra tools\n",
    "import hydra\n",
    "\n",
    "from hydra.compose import GlobalHydra\n",
    "from hydra.core.hydra_config import HydraConfig\n",
    "\n",
    "from proteinworkshop.constants import HYDRA_CONFIG_PATH\n",
    "from proteinworkshop.utils.notebook import init_hydra_singleton\n",
    "\n",
    "version_base = \"1.2\"  # Note: Need to update whenever Hydra is upgraded\n",
    "init_hydra_singleton(reload=True, version_base=version_base)\n",
    "\n",
    "path = HYDRA_CONFIG_PATH\n",
    "rel_path = os.path.relpath(path, start=\".\")\n",
    "# print(rel_path)\n",
    "GlobalHydra.instance().clear()\n",
    "hydra.initialize(rel_path, version_base=version_base)\n",
    "\n",
    "cfg = hydra.compose(\n",
    "    config_name=\"train\",\n",
    "    overrides=[\n",
    "        \"encoder=pronet\",\n",
    "        \"encoder.level='aminoacid'\",\n",
    "        \"encoder.num_blocks=4\",\n",
    "        \"encoder.hidden_channels=128\",\n",
    "        \"encoder.out_channels=384\",\n",
    "        \"encoder.mid_emb=64\",\n",
    "        \"encoder.num_radial=6\",\n",
    "        \"encoder.num_spherical=2\",\n",
    "        \"encoder.cutoff=10.0\",\n",
    "        \"encoder.max_num_neighbors=32\",\n",
    "        \"encoder.int_emb_layers=3\",\n",
    "        \"encoder.out_layers=2\",\n",
    "        \"encoder.num_pos_emb=16\",\n",
    "        \"encoder.dropout=0.3\",\n",
    "        \"encoder.data_augment_eachlayer=True\",\n",
    "        \"encoder.euler_noise=False\",\n",
    "        \"encoder.pretraining=False\",\n",
    "        \"encoder.node_embedding=False\",\n",
    "\n",
    "        \"decoder.graph_label.dummy=True\",\n",
    "\n",
    "        \"task=multiclass_graph_classification\",\n",
    "        \"dataset=ec_reaction\",\n",
    "        \"dataset.datamodule.batch_size=32\",\n",
    "        \"features=ca_base\", \n",
    "        \"+aux_task=none\",\n",
    "        \n",
    "        \"trainer.max_epochs=400\",\n",
    "        \"optimiser=adam\",\n",
    "        \"optimiser.optimizer.lr=5e-4\",\n",
    "        \"callbacks.early_stopping.patience=200\",\n",
    "        \"test=False\",\n",
    "        \"scheduler=steplr\",\n",
    "\n",
    "        ## for test ONLY\n",
    "        # \"task_name=test\",  # here\n",
    "        # \"ckpt_path_test=/home/zhang/Projects/3d/ProteinWorkshop/notebooks/outputs/checkpoints/epoch_275.ckpt\", # here\n",
    "        # \"optimizer.weight_decay=0.5\"\n",
    "    ],\n",
    "    return_hydra_config=True,\n",
    ")\n",
    "\n",
    "# Note: Customize as needed e.g., when running a sweep\n",
    "cfg.hydra.job.num = 0\n",
    "cfg.hydra.job.id = 0\n",
    "cfg.hydra.hydra_help.hydra_help = False\n",
    "cfg.hydra.runtime.output_dir = \"outputs\"\n",
    "\n",
    "HydraConfig.instance().set_config(cfg)"
   ]
  },
  {
   "cell_type": "markdown",
   "metadata": {},
   "source": [
    "### 2. Validate the designed training config"
   ]
  },
  {
   "cell_type": "markdown",
   "metadata": {},
   "source": [
    "This is not strictly necessary, but it is a good idea to validate the config before training. This will check that all the arguments you have provided are valid and that the config is complete."
   ]
  },
  {
   "cell_type": "code",
   "execution_count": 3,
   "metadata": {},
   "outputs": [
    {
     "data": {
      "text/html": [
       "<pre style=\"white-space:pre;overflow-x:auto;line-height:normal;font-family:Menlo,'DejaVu Sans Mono',consolas,'Courier New',monospace\"><span style=\"color: #7fbfbf; text-decoration-color: #7fbfbf\">[07/22/24 16:26:20] </span><span style=\"color: #008000; text-decoration-color: #008000\">DEBUG   </span> CUDA available: <span style=\"color: #00ff00; text-decoration-color: #00ff00; font-style: italic\">True</span>                                                     <a href=\"file:///home/zhang/Projects/3d/ProteinWorkshop/proteinworkshop/configs/config.py\" target=\"_blank\"><span style=\"color: #7f7f7f; text-decoration-color: #7f7f7f\">config.py</span></a><span style=\"color: #7f7f7f; text-decoration-color: #7f7f7f\">:</span><a href=\"file:///home/zhang/Projects/3d/ProteinWorkshop/proteinworkshop/configs/config.py#249\" target=\"_blank\"><span style=\"color: #7f7f7f; text-decoration-color: #7f7f7f\">249</span></a>\n",
       "</pre>\n"
      ],
      "text/plain": [
       "\u001b[2;36m[07/22/24 16:26:20]\u001b[0m\u001b[2;36m \u001b[0m\u001b[32mDEBUG   \u001b[0m CUDA available: \u001b[3;92mTrue\u001b[0m                                                     \u001b]8;id=274441;file:///home/zhang/Projects/3d/ProteinWorkshop/proteinworkshop/configs/config.py\u001b\\\u001b[2mconfig.py\u001b[0m\u001b]8;;\u001b\\\u001b[2m:\u001b[0m\u001b]8;id=803437;file:///home/zhang/Projects/3d/ProteinWorkshop/proteinworkshop/configs/config.py#249\u001b\\\u001b[2m249\u001b[0m\u001b]8;;\u001b\\\n"
      ]
     },
     "metadata": {},
     "output_type": "display_data"
    },
    {
     "data": {
      "text/html": [
       "<pre style=\"white-space:pre;overflow-x:auto;line-height:normal;font-family:Menlo,'DejaVu Sans Mono',consolas,'Courier New',monospace\"><span style=\"color: #7fbfbf; text-decoration-color: #7fbfbf\">                    </span><span style=\"color: #008000; text-decoration-color: #008000\">DEBUG   </span> Requested GPUs: <span style=\"color: #008080; text-decoration-color: #008080; font-weight: bold\">1</span>.                                                       <a href=\"file:///home/zhang/Projects/3d/ProteinWorkshop/proteinworkshop/configs/config.py\" target=\"_blank\"><span style=\"color: #7f7f7f; text-decoration-color: #7f7f7f\">config.py</span></a><span style=\"color: #7f7f7f; text-decoration-color: #7f7f7f\">:</span><a href=\"file:///home/zhang/Projects/3d/ProteinWorkshop/proteinworkshop/configs/config.py#250\" target=\"_blank\"><span style=\"color: #7f7f7f; text-decoration-color: #7f7f7f\">250</span></a>\n",
       "</pre>\n"
      ],
      "text/plain": [
       "\u001b[2;36m                   \u001b[0m\u001b[2;36m \u001b[0m\u001b[32mDEBUG   \u001b[0m Requested GPUs: \u001b[1;36m1\u001b[0m.                                                       \u001b]8;id=750160;file:///home/zhang/Projects/3d/ProteinWorkshop/proteinworkshop/configs/config.py\u001b\\\u001b[2mconfig.py\u001b[0m\u001b]8;;\u001b\\\u001b[2m:\u001b[0m\u001b]8;id=447088;file:///home/zhang/Projects/3d/ProteinWorkshop/proteinworkshop/configs/config.py#250\u001b\\\u001b[2m250\u001b[0m\u001b]8;;\u001b\\\n"
      ]
     },
     "metadata": {},
     "output_type": "display_data"
    },
    {
     "data": {
      "text/html": [
       "<pre style=\"white-space:pre;overflow-x:auto;line-height:normal;font-family:Menlo,'DejaVu Sans Mono',consolas,'Courier New',monospace\"><span style=\"color: #7fbfbf; text-decoration-color: #7fbfbf\">                    </span><span style=\"color: #008000; text-decoration-color: #008000\">DEBUG   </span> GPU count set to: <span style=\"color: #008080; text-decoration-color: #008080; font-weight: bold\">1</span>                                                      <a href=\"file:///home/zhang/Projects/3d/ProteinWorkshop/proteinworkshop/configs/config.py\" target=\"_blank\"><span style=\"color: #7f7f7f; text-decoration-color: #7f7f7f\">config.py</span></a><span style=\"color: #7f7f7f; text-decoration-color: #7f7f7f\">:</span><a href=\"file:///home/zhang/Projects/3d/ProteinWorkshop/proteinworkshop/configs/config.py#255\" target=\"_blank\"><span style=\"color: #7f7f7f; text-decoration-color: #7f7f7f\">255</span></a>\n",
       "</pre>\n"
      ],
      "text/plain": [
       "\u001b[2;36m                   \u001b[0m\u001b[2;36m \u001b[0m\u001b[32mDEBUG   \u001b[0m GPU count set to: \u001b[1;36m1\u001b[0m                                                      \u001b]8;id=214761;file:///home/zhang/Projects/3d/ProteinWorkshop/proteinworkshop/configs/config.py\u001b\\\u001b[2mconfig.py\u001b[0m\u001b]8;;\u001b\\\u001b[2m:\u001b[0m\u001b]8;id=801499;file:///home/zhang/Projects/3d/ProteinWorkshop/proteinworkshop/configs/config.py#255\u001b\\\u001b[2m255\u001b[0m\u001b]8;;\u001b\\\n"
      ]
     },
     "metadata": {},
     "output_type": "display_data"
    },
    {
     "data": {
      "text/html": [
       "<pre style=\"white-space:pre;overflow-x:auto;line-height:normal;font-family:Menlo,'DejaVu Sans Mono',consolas,'Courier New',monospace\"><span style=\"color: #7fbfbf; text-decoration-color: #7fbfbf\">                    </span><span style=\"color: #800000; text-decoration-color: #800000\">WARNING </span> You are not using early stopping.                                        <a href=\"file:///home/zhang/Projects/3d/ProteinWorkshop/proteinworkshop/configs/config.py\" target=\"_blank\"><span style=\"color: #7f7f7f; text-decoration-color: #7f7f7f\">config.py</span></a><span style=\"color: #7f7f7f; text-decoration-color: #7f7f7f\">:</span><a href=\"file:///home/zhang/Projects/3d/ProteinWorkshop/proteinworkshop/configs/config.py#165\" target=\"_blank\"><span style=\"color: #7f7f7f; text-decoration-color: #7f7f7f\">165</span></a>\n",
       "</pre>\n"
      ],
      "text/plain": [
       "\u001b[2;36m                   \u001b[0m\u001b[2;36m \u001b[0m\u001b[31mWARNING \u001b[0m You are not using early stopping.                                        \u001b]8;id=989594;file:///home/zhang/Projects/3d/ProteinWorkshop/proteinworkshop/configs/config.py\u001b\\\u001b[2mconfig.py\u001b[0m\u001b]8;;\u001b\\\u001b[2m:\u001b[0m\u001b]8;id=597810;file:///home/zhang/Projects/3d/ProteinWorkshop/proteinworkshop/configs/config.py#165\u001b\\\u001b[2m165\u001b[0m\u001b]8;;\u001b\\\n"
      ]
     },
     "metadata": {},
     "output_type": "display_data"
    }
   ],
   "source": [
    "from proteinworkshop.configs import config\n",
    "\n",
    "cfg = config.validate_config(cfg)"
   ]
  },
  {
   "cell_type": "code",
   "execution_count": 4,
   "metadata": {},
   "outputs": [
    {
     "name": "stdout",
     "output_type": "stream",
     "text": [
      "dict_keys(['hydra', 'env', 'dataset', 'features', 'encoder', 'decoder', 'transforms', 'callbacks', 'optimiser', 'scheduler', 'trainer', 'extras', 'metrics', 'task', 'logger', 'hparams', 'name', 'seed', 'num_workers', 'task_name', 'ckpt_path_test', 'test', 'aux_task'])\n",
      "hydra\n",
      "{'run': {'dir': '${env.paths.log_dir}/${task_name}/runs/${now:%Y-%m-%d}_${now:%H-%M-%S}'}, 'sweep': {'dir': '${env.paths.log_dir}/${task_name}/multiruns/${now:%Y-%m-%d}_${now:%H-%M-%S}', 'subdir': '${hydra.job.num}'}, 'launcher': {'_target_': 'hydra._internal.core_plugins.basic_launcher.BasicLauncher'}, 'sweeper': {'_target_': 'hydra._internal.core_plugins.basic_sweeper.BasicSweeper', 'max_batch_size': None, 'params': None}, 'help': {'app_name': '${hydra.job.name}', 'header': '${hydra.help.app_name} is powered by Hydra.\\n', 'footer': 'Powered by Hydra (https://hydra.cc)\\nUse --hydra-help to view Hydra specific help\\n', 'template': '${hydra.help.header}\\n== Configuration groups ==\\nCompose your configuration from those groups (group=option)\\n\\n$APP_CONFIG_GROUPS\\n\\n== Config ==\\nOverride anything in the config (foo.bar=value)\\n\\n$CONFIG\\n\\n${hydra.help.footer}\\n'}, 'hydra_help': {'template': \"Hydra (${hydra.runtime.version})\\nSee https://hydra.cc for more info.\\n\\n== Flags ==\\n$FLAGS_HELP\\n\\n== Configuration groups ==\\nCompose your configuration from those groups (For example, append hydra/job_logging=disabled to command line)\\n\\n$HYDRA_CONFIG_GROUPS\\n\\nUse '--cfg hydra' to Show the Hydra config.\\n\", 'hydra_help': 'False'}, 'hydra_logging': {'version': 1, 'formatters': {'colorlog': {'()': 'colorlog.ColoredFormatter', 'format': '[%(cyan)s%(asctime)s%(reset)s][%(purple)sHYDRA%(reset)s] %(message)s'}}, 'handlers': {'console': {'class': 'logging.StreamHandler', 'formatter': 'colorlog', 'stream': 'ext://sys.stdout'}}, 'root': {'level': 'INFO', 'handlers': ['console']}, 'disable_existing_loggers': False}, 'job_logging': {'version': 1, 'formatters': {'simple': {'format': '[%(asctime)s][%(name)s][%(levelname)s] - %(message)s'}, 'colorlog': {'()': 'colorlog.ColoredFormatter', 'format': '[%(cyan)s%(asctime)s%(reset)s][%(blue)s%(name)s%(reset)s][%(log_color)s%(levelname)s%(reset)s] - %(message)s', 'log_colors': {'DEBUG': 'purple', 'INFO': 'green', 'WARNING': 'yellow', 'ERROR': 'red', 'CRITICAL': 'red'}}}, 'handlers': {'console': {'class': 'logging.StreamHandler', 'formatter': 'colorlog', 'stream': 'ext://sys.stdout'}, 'file': {'class': 'logging.FileHandler', 'formatter': 'simple', 'filename': '${hydra.runtime.output_dir}/${hydra.job.name}.log'}}, 'root': {'level': 'INFO', 'handlers': ['console', 'file']}, 'disable_existing_loggers': False}, 'env': {}, 'mode': None, 'searchpath': [], 'callbacks': {}, 'output_subdir': '.hydra', 'overrides': {'hydra': [], 'task': ['encoder=schnet', 'task=multiclass_graph_classification', 'dataset=fold_family', 'dataset.datamodule.batch_size=32', 'features=ca_base', '+aux_task=none', 'trainer.max_epochs=400', 'optimiser=adam', 'optimiser.optimizer.lr=5e-4', 'callbacks.early_stopping.patience=200', 'test=True', 'scheduler=steplr']}, 'job': {'name': 'notebook', 'chdir': None, 'override_dirname': '+aux_task=none,callbacks.early_stopping.patience=200,dataset.datamodule.batch_size=32,dataset=fold_family,encoder=schnet,features=ca_base,optimiser.optimizer.lr=5e-4,optimiser=adam,scheduler=steplr,task=multiclass_graph_classification,test=True,trainer.max_epochs=400', 'id': '0', 'num': 0, 'config_name': 'train', 'env_set': {}, 'env_copy': [], 'config': {'override_dirname': {'kv_sep': '=', 'item_sep': ',', 'exclude_keys': []}}}, 'runtime': {'version': '1.3.2', 'version_base': '1.2', 'cwd': '/home/zhang/Projects/3d/ProteinWorkshop/notebooks', 'config_sources': [{'path': 'hydra.conf', 'schema': 'pkg', 'provider': 'hydra'}, {'path': '/home/zhang/Projects/3d/ProteinWorkshop/proteinworkshop/config', 'schema': 'file', 'provider': 'main'}, {'path': 'hydra_plugins.hydra_colorlog.conf', 'schema': 'pkg', 'provider': 'hydra-colorlog'}, {'path': '', 'schema': 'structured', 'provider': 'schema'}], 'output_dir': 'outputs', 'choices': {'aux_task': 'none', 'debug': None, 'logger': 'csv', 'task': 'multiclass_graph_classification', 'hydra': 'default', 'extras': 'default', 'trainer': 'gpu', 'scheduler': 'steplr', 'optimiser': 'adam', 'callbacks': 'default', 'transforms': 'default', 'encoder': 'schnet', 'features': 'ca_base', 'dataset': 'fold_family', 'env': 'default', 'hparams': 'schnet_ca_base', 'hydra/env': 'default', 'hydra/callbacks': None, 'hydra/job_logging': 'colorlog', 'hydra/hydra_logging': 'colorlog', 'hydra/hydra_help': 'default', 'hydra/help': 'default', 'hydra/sweeper': 'basic', 'hydra/launcher': 'basic', 'hydra/output': 'default'}}, 'verbose': False}\n",
      "env\n",
      "{'paths': {'root_dir': '${oc.env:ROOT_DIR}', 'data': '${oc.env:DATA_PATH}', 'output_dir': '${hydra:runtime.output_dir}', 'work_dir': '${hydra:runtime.cwd}', 'log_dir': '${oc.env:RUNS_PATH}', 'runs': '${oc.env:RUNS_PATH}', 'run_dir': '${env.paths.runs}/${name}/${env.init_time}'}, 'python': {'version': '${python_version:micro}'}, 'init_time': '${now:%y-%m-%d_%H:%M:%S}'}\n",
      "dataset\n",
      "{'datamodule': {'_target_': 'proteinworkshop.datasets.fold_classification.FoldClassificationDataModule', 'path': '${env.paths.data}/FoldClassification/', 'split': 'family', 'batch_size': 32, 'pin_memory': True, 'num_workers': 4, 'dataset_fraction': 1.0, 'shuffle_labels': False, 'transforms': '${transforms}', 'overwrite': False, 'in_memory': True}, 'num_classes': 1195}\n",
      "features\n",
      "{'_target_': 'proteinworkshop.features.factory.ProteinFeaturiser', 'representation': 'CA', 'scalar_node_features': ['amino_acid_one_hot'], 'vector_node_features': [], 'edge_types': ['knn_16'], 'scalar_edge_features': ['edge_distance'], 'vector_edge_features': []}\n",
      "encoder\n",
      "{'_target_': 'proteinworkshop.models.graph_encoders.schnet.SchNetModel', 'hidden_channels': 512, 'out_dim': 32, 'num_layers': 6, 'num_filters': 128, 'num_gaussians': 50, 'cutoff': 10.0, 'max_num_neighbors': 32, 'readout': 'add', 'dipole': False, 'mean': None, 'std': None, 'atomref': None}\n",
      "decoder\n",
      "{'graph_label': {'_target_': 'proteinworkshop.models.decoders.mlp_decoder.MLPDecoder', 'hidden_dim': [512, 512, 512], 'dropout': 0.0, 'activations': ['relu', 'relu', 'relu', 'none'], 'skip': 'concat', 'out_dim': '${dataset.num_classes}', 'input': 'graph_embedding', 'dummy': False}}\n",
      "transforms\n",
      "{'remove_missing_ca': {'_target_': 'proteinworkshop.tasks.remove_missing_ca.RemoveMissingCa', 'fill_value': 1e-05, 'ca_idx': 1}}\n",
      "callbacks\n",
      "{'model_checkpoint': {'_target_': 'lightning.pytorch.callbacks.ModelCheckpoint', 'dirpath': '${env.paths.output_dir}/checkpoints', 'filename': 'epoch_{epoch:03d}', 'monitor': 'val/graph_label/accuracy', 'verbose': True, 'save_last': True, 'save_top_k': 1, 'mode': 'max', 'auto_insert_metric_name': False, 'save_weights_only': False, 'every_n_train_steps': None, 'train_time_interval': None, 'every_n_epochs': None, 'save_on_train_epoch_end': None}, 'early_stopping': {'_target_': 'lightning.pytorch.callbacks.EarlyStopping', 'monitor': 'val/graph_label/accuracy', 'min_delta': 0.0, 'patience': 200, 'verbose': True, 'mode': 'max', 'strict': True, 'check_finite': True, 'stopping_threshold': None, 'divergence_threshold': None, 'check_on_train_epoch_end': False}, 'model_summary': {'_target_': 'lightning.pytorch.callbacks.RichModelSummary', 'max_depth': -1}, 'rich_progress_bar': {'_target_': 'lightning.pytorch.callbacks.RichProgressBar'}, 'learning_rate_monitor': {'_target_': 'lightning.pytorch.callbacks.LearningRateMonitor'}, 'stop_on_nan': {'_target_': 'lightning.pytorch.callbacks.EarlyStopping', 'monitor': 'train/loss/total', 'min_delta': 0.0, 'patience': 10000000, 'verbose': True, 'mode': 'min', 'strict': True, 'check_finite': True, 'stopping_threshold': None, 'divergence_threshold': None, 'check_on_train_epoch_end': None}}\n",
      "optimiser\n",
      "{'optimizer': {'_target_': 'torch.optim.Adam', '_partial_': True, 'lr': 0.0005, 'weight_decay': 0.0}}\n",
      "scheduler\n",
      "{'scheduler': {'_target_': 'torch.optim.lr_scheduler.StepLR', '_partial_': True, 'step_size': 150, 'gamma': 0.3}, 'interval': 'epoch', 'frequency': 1, 'name': 'learning_rate'}\n",
      "trainer\n",
      "{'_target_': 'lightning.pytorch.trainer.Trainer', 'default_root_dir': '${env.paths.output_dir}', 'min_epochs': 1, 'max_epochs': 400, 'accelerator': 'gpu', 'check_val_every_n_epoch': 1, 'deterministic': False, 'num_sanity_val_steps': 2, 'devices': 1}\n",
      "extras\n",
      "{'ignore_warnings': True, 'enforce_tags': False, 'print_config': True}\n",
      "metrics\n",
      "{'accuracy': {'_target_': 'torchmetrics.Accuracy', 'task': '${task.classification_type}', 'average': '${task.metric_average}', 'num_classes': '${dataset.num_classes}', 'top_k': 1}, 'f1_score': {'_target_': 'torchmetrics.F1Score', 'average': 'macro', 'num_classes': '${dataset.num_classes}', 'task': '${task.classification_type}'}, 'f1_max': {'_target_': 'proteinworkshop.metrics.f1_max.F1Max', 'num_classes': '${dataset.num_classes}'}}\n",
      "task\n",
      "{'task': 'classification', 'classification_type': 'multiclass', 'metric_average': 'micro', 'losses': {'graph_label': 'cross_entropy'}, 'label_smoothing': 0.0, 'output': ['graph_label'], 'supervise_on': ['graph_label']}\n",
      "logger\n",
      "{'csv': {'_target_': 'lightning.pytorch.loggers.csv_logs.CSVLogger', 'save_dir': '${env.paths.output_dir}', 'name': 'csv/', 'prefix': ''}}\n",
      "hparams\n",
      "{'hparams': {'lr': 0.0003, 'decoder_dropout': 0.5}}\n",
      "name\n",
      "\n",
      "seed\n",
      "52\n",
      "num_workers\n",
      "16\n",
      "task_name\n",
      "train\n",
      "ckpt_path_test\n",
      "\n",
      "test\n",
      "True\n",
      "aux_task\n",
      "{}\n"
     ]
    }
   ],
   "source": [
    "print(cfg.keys())\n",
    "for key in cfg.keys():\n",
    "    print(key)\n",
    "    print(cfg[key])"
   ]
  },
  {
   "cell_type": "markdown",
   "metadata": {},
   "source": [
    "### 3. Use the designed config to train a new model"
   ]
  },
  {
   "cell_type": "markdown",
   "metadata": {},
   "source": [
    "Now with the config you have designed, you can train a new model. You can also use the `ProteinWorkshop` to evaluate the model on a downstream task."
   ]
  },
  {
   "cell_type": "code",
   "execution_count": 5,
   "metadata": {},
   "outputs": [
    {
     "name": "stderr",
     "output_type": "stream",
     "text": [
      "Seed set to 52\n"
     ]
    },
    {
     "data": {
      "text/html": [
       "<pre style=\"white-space:pre;overflow-x:auto;line-height:normal;font-family:Menlo,'DejaVu Sans Mono',consolas,'Courier New',monospace\"><span style=\"color: #7fbfbf; text-decoration-color: #7fbfbf\">[07/22/24 16:26:21] </span><span style=\"color: #000080; text-decoration-color: #000080\">INFO    </span> Instantiating datamodule:                                                  <a href=\"file:///home/zhang/Projects/3d/ProteinWorkshop/proteinworkshop/train.py\" target=\"_blank\"><span style=\"color: #7f7f7f; text-decoration-color: #7f7f7f\">train.py</span></a><span style=\"color: #7f7f7f; text-decoration-color: #7f7f7f\">:</span><a href=\"file:///home/zhang/Projects/3d/ProteinWorkshop/proteinworkshop/train.py#99\" target=\"_blank\"><span style=\"color: #7f7f7f; text-decoration-color: #7f7f7f\">99</span></a>\n",
       "<span style=\"color: #7fbfbf; text-decoration-color: #7fbfbf\">                    </span>         &lt;proteinworkshop.datasets.fold_classification.FoldClassificationDataModule <span style=\"color: #7f7f7f; text-decoration-color: #7f7f7f\">           </span>\n",
       "<span style=\"color: #7fbfbf; text-decoration-color: #7fbfbf\">                    </span>         <span style=\"color: #808000; text-decoration-color: #808000\">...</span>                                                                        <span style=\"color: #7f7f7f; text-decoration-color: #7f7f7f\">           </span>\n",
       "</pre>\n"
      ],
      "text/plain": [
       "\u001b[2;36m[07/22/24 16:26:21]\u001b[0m\u001b[2;36m \u001b[0m\u001b[34mINFO    \u001b[0m Instantiating datamodule:                                                  \u001b]8;id=896664;file:///home/zhang/Projects/3d/ProteinWorkshop/proteinworkshop/train.py\u001b\\\u001b[2mtrain.py\u001b[0m\u001b]8;;\u001b\\\u001b[2m:\u001b[0m\u001b]8;id=987468;file:///home/zhang/Projects/3d/ProteinWorkshop/proteinworkshop/train.py#99\u001b\\\u001b[2m99\u001b[0m\u001b]8;;\u001b\\\n",
       "\u001b[2;36m                    \u001b[0m         <proteinworkshop.datasets.fold_classification.FoldClassificationDataModule \u001b[2m           \u001b[0m\n",
       "\u001b[2;36m                    \u001b[0m         \u001b[33m...\u001b[0m                                                                        \u001b[2m           \u001b[0m\n"
      ]
     },
     "metadata": {},
     "output_type": "display_data"
    },
    {
     "data": {
      "text/html": [
       "<pre style=\"white-space:pre;overflow-x:auto;line-height:normal;font-family:Menlo,'DejaVu Sans Mono',consolas,'Courier New',monospace\"><span style=\"color: #7fbfbf; text-decoration-color: #7fbfbf\">                    </span><span style=\"color: #000080; text-decoration-color: #000080\">INFO    </span> Instantiating callbacks<span style=\"color: #808000; text-decoration-color: #808000\">...</span>                                                <a href=\"file:///home/zhang/Projects/3d/ProteinWorkshop/proteinworkshop/train.py\" target=\"_blank\"><span style=\"color: #7f7f7f; text-decoration-color: #7f7f7f\">train.py</span></a><span style=\"color: #7f7f7f; text-decoration-color: #7f7f7f\">:</span><a href=\"file:///home/zhang/Projects/3d/ProteinWorkshop/proteinworkshop/train.py#106\" target=\"_blank\"><span style=\"color: #7f7f7f; text-decoration-color: #7f7f7f\">106</span></a>\n",
       "</pre>\n"
      ],
      "text/plain": [
       "\u001b[2;36m                   \u001b[0m\u001b[2;36m \u001b[0m\u001b[34mINFO    \u001b[0m Instantiating callbacks\u001b[33m...\u001b[0m                                                \u001b]8;id=166878;file:///home/zhang/Projects/3d/ProteinWorkshop/proteinworkshop/train.py\u001b\\\u001b[2mtrain.py\u001b[0m\u001b]8;;\u001b\\\u001b[2m:\u001b[0m\u001b]8;id=837528;file:///home/zhang/Projects/3d/ProteinWorkshop/proteinworkshop/train.py#106\u001b\\\u001b[2m106\u001b[0m\u001b]8;;\u001b\\\n"
      ]
     },
     "metadata": {},
     "output_type": "display_data"
    },
    {
     "data": {
      "text/html": [
       "<pre style=\"white-space:pre;overflow-x:auto;line-height:normal;font-family:Menlo,'DejaVu Sans Mono',consolas,'Courier New',monospace\"><span style=\"color: #7fbfbf; text-decoration-color: #7fbfbf\">                    </span><span style=\"color: #000080; text-decoration-color: #000080\">INFO    </span> Instantiating callback <span style=\"font-weight: bold\">&lt;</span><span style=\"color: #ff00ff; text-decoration-color: #ff00ff; font-weight: bold\">lightning.pytorch.callbacks.ModelCheckpoint</span><span style=\"font-weight: bold\">&gt;</span>   <a href=\"file:///home/zhang/Projects/3d/ProteinWorkshop/proteinworkshop/utils/callbacks.py\" target=\"_blank\"><span style=\"color: #7f7f7f; text-decoration-color: #7f7f7f\">callbacks.py</span></a><span style=\"color: #7f7f7f; text-decoration-color: #7f7f7f\">:</span><a href=\"file:///home/zhang/Projects/3d/ProteinWorkshop/proteinworkshop/utils/callbacks.py#31\" target=\"_blank\"><span style=\"color: #7f7f7f; text-decoration-color: #7f7f7f\">31</span></a>\n",
       "</pre>\n"
      ],
      "text/plain": [
       "\u001b[2;36m                   \u001b[0m\u001b[2;36m \u001b[0m\u001b[34mINFO    \u001b[0m Instantiating callback \u001b[1m<\u001b[0m\u001b[1;95mlightning.pytorch.callbacks.ModelCheckpoint\u001b[0m\u001b[1m>\u001b[0m   \u001b]8;id=1185;file:///home/zhang/Projects/3d/ProteinWorkshop/proteinworkshop/utils/callbacks.py\u001b\\\u001b[2mcallbacks.py\u001b[0m\u001b]8;;\u001b\\\u001b[2m:\u001b[0m\u001b]8;id=35855;file:///home/zhang/Projects/3d/ProteinWorkshop/proteinworkshop/utils/callbacks.py#31\u001b\\\u001b[2m31\u001b[0m\u001b]8;;\u001b\\\n"
      ]
     },
     "metadata": {},
     "output_type": "display_data"
    },
    {
     "data": {
      "text/html": [
       "<pre style=\"white-space:pre;overflow-x:auto;line-height:normal;font-family:Menlo,'DejaVu Sans Mono',consolas,'Courier New',monospace\"><span style=\"color: #7fbfbf; text-decoration-color: #7fbfbf\">                    </span><span style=\"color: #000080; text-decoration-color: #000080\">INFO    </span> Instantiating callback <span style=\"font-weight: bold\">&lt;</span><span style=\"color: #ff00ff; text-decoration-color: #ff00ff; font-weight: bold\">lightning.pytorch.callbacks.EarlyStopping</span><span style=\"font-weight: bold\">&gt;</span>     <a href=\"file:///home/zhang/Projects/3d/ProteinWorkshop/proteinworkshop/utils/callbacks.py\" target=\"_blank\"><span style=\"color: #7f7f7f; text-decoration-color: #7f7f7f\">callbacks.py</span></a><span style=\"color: #7f7f7f; text-decoration-color: #7f7f7f\">:</span><a href=\"file:///home/zhang/Projects/3d/ProteinWorkshop/proteinworkshop/utils/callbacks.py#31\" target=\"_blank\"><span style=\"color: #7f7f7f; text-decoration-color: #7f7f7f\">31</span></a>\n",
       "</pre>\n"
      ],
      "text/plain": [
       "\u001b[2;36m                   \u001b[0m\u001b[2;36m \u001b[0m\u001b[34mINFO    \u001b[0m Instantiating callback \u001b[1m<\u001b[0m\u001b[1;95mlightning.pytorch.callbacks.EarlyStopping\u001b[0m\u001b[1m>\u001b[0m     \u001b]8;id=248769;file:///home/zhang/Projects/3d/ProteinWorkshop/proteinworkshop/utils/callbacks.py\u001b\\\u001b[2mcallbacks.py\u001b[0m\u001b]8;;\u001b\\\u001b[2m:\u001b[0m\u001b]8;id=72738;file:///home/zhang/Projects/3d/ProteinWorkshop/proteinworkshop/utils/callbacks.py#31\u001b\\\u001b[2m31\u001b[0m\u001b]8;;\u001b\\\n"
      ]
     },
     "metadata": {},
     "output_type": "display_data"
    },
    {
     "data": {
      "text/html": [
       "<pre style=\"white-space:pre;overflow-x:auto;line-height:normal;font-family:Menlo,'DejaVu Sans Mono',consolas,'Courier New',monospace\"><span style=\"color: #7fbfbf; text-decoration-color: #7fbfbf\">                    </span><span style=\"color: #000080; text-decoration-color: #000080\">INFO    </span> Instantiating callback <span style=\"font-weight: bold\">&lt;</span><span style=\"color: #ff00ff; text-decoration-color: #ff00ff; font-weight: bold\">lightning.pytorch.callbacks.RichModelSummary</span><span style=\"font-weight: bold\">&gt;</span>  <a href=\"file:///home/zhang/Projects/3d/ProteinWorkshop/proteinworkshop/utils/callbacks.py\" target=\"_blank\"><span style=\"color: #7f7f7f; text-decoration-color: #7f7f7f\">callbacks.py</span></a><span style=\"color: #7f7f7f; text-decoration-color: #7f7f7f\">:</span><a href=\"file:///home/zhang/Projects/3d/ProteinWorkshop/proteinworkshop/utils/callbacks.py#31\" target=\"_blank\"><span style=\"color: #7f7f7f; text-decoration-color: #7f7f7f\">31</span></a>\n",
       "</pre>\n"
      ],
      "text/plain": [
       "\u001b[2;36m                   \u001b[0m\u001b[2;36m \u001b[0m\u001b[34mINFO    \u001b[0m Instantiating callback \u001b[1m<\u001b[0m\u001b[1;95mlightning.pytorch.callbacks.RichModelSummary\u001b[0m\u001b[1m>\u001b[0m  \u001b]8;id=655443;file:///home/zhang/Projects/3d/ProteinWorkshop/proteinworkshop/utils/callbacks.py\u001b\\\u001b[2mcallbacks.py\u001b[0m\u001b]8;;\u001b\\\u001b[2m:\u001b[0m\u001b]8;id=287690;file:///home/zhang/Projects/3d/ProteinWorkshop/proteinworkshop/utils/callbacks.py#31\u001b\\\u001b[2m31\u001b[0m\u001b]8;;\u001b\\\n"
      ]
     },
     "metadata": {},
     "output_type": "display_data"
    },
    {
     "data": {
      "text/html": [
       "<pre style=\"white-space:pre;overflow-x:auto;line-height:normal;font-family:Menlo,'DejaVu Sans Mono',consolas,'Courier New',monospace\"><span style=\"color: #7fbfbf; text-decoration-color: #7fbfbf\">                    </span><span style=\"color: #000080; text-decoration-color: #000080\">INFO    </span> Instantiating callback <span style=\"font-weight: bold\">&lt;</span><span style=\"color: #ff00ff; text-decoration-color: #ff00ff; font-weight: bold\">lightning.pytorch.callbacks.RichProgressBar</span><span style=\"font-weight: bold\">&gt;</span>   <a href=\"file:///home/zhang/Projects/3d/ProteinWorkshop/proteinworkshop/utils/callbacks.py\" target=\"_blank\"><span style=\"color: #7f7f7f; text-decoration-color: #7f7f7f\">callbacks.py</span></a><span style=\"color: #7f7f7f; text-decoration-color: #7f7f7f\">:</span><a href=\"file:///home/zhang/Projects/3d/ProteinWorkshop/proteinworkshop/utils/callbacks.py#31\" target=\"_blank\"><span style=\"color: #7f7f7f; text-decoration-color: #7f7f7f\">31</span></a>\n",
       "</pre>\n"
      ],
      "text/plain": [
       "\u001b[2;36m                   \u001b[0m\u001b[2;36m \u001b[0m\u001b[34mINFO    \u001b[0m Instantiating callback \u001b[1m<\u001b[0m\u001b[1;95mlightning.pytorch.callbacks.RichProgressBar\u001b[0m\u001b[1m>\u001b[0m   \u001b]8;id=128786;file:///home/zhang/Projects/3d/ProteinWorkshop/proteinworkshop/utils/callbacks.py\u001b\\\u001b[2mcallbacks.py\u001b[0m\u001b]8;;\u001b\\\u001b[2m:\u001b[0m\u001b]8;id=899088;file:///home/zhang/Projects/3d/ProteinWorkshop/proteinworkshop/utils/callbacks.py#31\u001b\\\u001b[2m31\u001b[0m\u001b]8;;\u001b\\\n"
      ]
     },
     "metadata": {},
     "output_type": "display_data"
    },
    {
     "data": {
      "text/html": [
       "<pre style=\"white-space:pre;overflow-x:auto;line-height:normal;font-family:Menlo,'DejaVu Sans Mono',consolas,'Courier New',monospace\"><span style=\"color: #7fbfbf; text-decoration-color: #7fbfbf\">                    </span><span style=\"color: #000080; text-decoration-color: #000080\">INFO    </span> Instantiating callback                                                 <a href=\"file:///home/zhang/Projects/3d/ProteinWorkshop/proteinworkshop/utils/callbacks.py\" target=\"_blank\"><span style=\"color: #7f7f7f; text-decoration-color: #7f7f7f\">callbacks.py</span></a><span style=\"color: #7f7f7f; text-decoration-color: #7f7f7f\">:</span><a href=\"file:///home/zhang/Projects/3d/ProteinWorkshop/proteinworkshop/utils/callbacks.py#31\" target=\"_blank\"><span style=\"color: #7f7f7f; text-decoration-color: #7f7f7f\">31</span></a>\n",
       "<span style=\"color: #7fbfbf; text-decoration-color: #7fbfbf\">                    </span>         <span style=\"font-weight: bold\">&lt;</span><span style=\"color: #ff00ff; text-decoration-color: #ff00ff; font-weight: bold\">lightning.pytorch.callbacks.LearningRateMonitor</span><span style=\"font-weight: bold\">&gt;</span>                      <span style=\"color: #7f7f7f; text-decoration-color: #7f7f7f\">               </span>\n",
       "</pre>\n"
      ],
      "text/plain": [
       "\u001b[2;36m                   \u001b[0m\u001b[2;36m \u001b[0m\u001b[34mINFO    \u001b[0m Instantiating callback                                                 \u001b]8;id=396582;file:///home/zhang/Projects/3d/ProteinWorkshop/proteinworkshop/utils/callbacks.py\u001b\\\u001b[2mcallbacks.py\u001b[0m\u001b]8;;\u001b\\\u001b[2m:\u001b[0m\u001b]8;id=993710;file:///home/zhang/Projects/3d/ProteinWorkshop/proteinworkshop/utils/callbacks.py#31\u001b\\\u001b[2m31\u001b[0m\u001b]8;;\u001b\\\n",
       "\u001b[2;36m                    \u001b[0m         \u001b[1m<\u001b[0m\u001b[1;95mlightning.pytorch.callbacks.LearningRateMonitor\u001b[0m\u001b[1m>\u001b[0m                      \u001b[2m               \u001b[0m\n"
      ]
     },
     "metadata": {},
     "output_type": "display_data"
    },
    {
     "data": {
      "text/html": [
       "<pre style=\"white-space:pre;overflow-x:auto;line-height:normal;font-family:Menlo,'DejaVu Sans Mono',consolas,'Courier New',monospace\"><span style=\"color: #7fbfbf; text-decoration-color: #7fbfbf\">                    </span><span style=\"color: #000080; text-decoration-color: #000080\">INFO    </span> Instantiating callback <span style=\"font-weight: bold\">&lt;</span><span style=\"color: #ff00ff; text-decoration-color: #ff00ff; font-weight: bold\">lightning.pytorch.callbacks.EarlyStopping</span><span style=\"font-weight: bold\">&gt;</span>     <a href=\"file:///home/zhang/Projects/3d/ProteinWorkshop/proteinworkshop/utils/callbacks.py\" target=\"_blank\"><span style=\"color: #7f7f7f; text-decoration-color: #7f7f7f\">callbacks.py</span></a><span style=\"color: #7f7f7f; text-decoration-color: #7f7f7f\">:</span><a href=\"file:///home/zhang/Projects/3d/ProteinWorkshop/proteinworkshop/utils/callbacks.py#31\" target=\"_blank\"><span style=\"color: #7f7f7f; text-decoration-color: #7f7f7f\">31</span></a>\n",
       "</pre>\n"
      ],
      "text/plain": [
       "\u001b[2;36m                   \u001b[0m\u001b[2;36m \u001b[0m\u001b[34mINFO    \u001b[0m Instantiating callback \u001b[1m<\u001b[0m\u001b[1;95mlightning.pytorch.callbacks.EarlyStopping\u001b[0m\u001b[1m>\u001b[0m     \u001b]8;id=935800;file:///home/zhang/Projects/3d/ProteinWorkshop/proteinworkshop/utils/callbacks.py\u001b\\\u001b[2mcallbacks.py\u001b[0m\u001b]8;;\u001b\\\u001b[2m:\u001b[0m\u001b]8;id=924324;file:///home/zhang/Projects/3d/ProteinWorkshop/proteinworkshop/utils/callbacks.py#31\u001b\\\u001b[2m31\u001b[0m\u001b]8;;\u001b\\\n"
      ]
     },
     "metadata": {},
     "output_type": "display_data"
    },
    {
     "data": {
      "text/html": [
       "<pre style=\"white-space:pre;overflow-x:auto;line-height:normal;font-family:Menlo,'DejaVu Sans Mono',consolas,'Courier New',monospace\"><span style=\"color: #7fbfbf; text-decoration-color: #7fbfbf\">                    </span><span style=\"color: #000080; text-decoration-color: #000080\">INFO    </span> Instantiating loggers<span style=\"color: #808000; text-decoration-color: #808000\">...</span>                                                  <a href=\"file:///home/zhang/Projects/3d/ProteinWorkshop/proteinworkshop/train.py\" target=\"_blank\"><span style=\"color: #7f7f7f; text-decoration-color: #7f7f7f\">train.py</span></a><span style=\"color: #7f7f7f; text-decoration-color: #7f7f7f\">:</span><a href=\"file:///home/zhang/Projects/3d/ProteinWorkshop/proteinworkshop/train.py#111\" target=\"_blank\"><span style=\"color: #7f7f7f; text-decoration-color: #7f7f7f\">111</span></a>\n",
       "</pre>\n"
      ],
      "text/plain": [
       "\u001b[2;36m                   \u001b[0m\u001b[2;36m \u001b[0m\u001b[34mINFO    \u001b[0m Instantiating loggers\u001b[33m...\u001b[0m                                                  \u001b]8;id=545720;file:///home/zhang/Projects/3d/ProteinWorkshop/proteinworkshop/train.py\u001b\\\u001b[2mtrain.py\u001b[0m\u001b]8;;\u001b\\\u001b[2m:\u001b[0m\u001b]8;id=702368;file:///home/zhang/Projects/3d/ProteinWorkshop/proteinworkshop/train.py#111\u001b\\\u001b[2m111\u001b[0m\u001b]8;;\u001b\\\n"
      ]
     },
     "metadata": {},
     "output_type": "display_data"
    },
    {
     "data": {
      "text/html": [
       "<pre style=\"white-space:pre;overflow-x:auto;line-height:normal;font-family:Menlo,'DejaVu Sans Mono',consolas,'Courier New',monospace\"><span style=\"color: #7fbfbf; text-decoration-color: #7fbfbf\">                    </span><span style=\"color: #000080; text-decoration-color: #000080\">INFO    </span> Instantiating logger <span style=\"font-weight: bold\">&lt;</span><span style=\"color: #ff00ff; text-decoration-color: #ff00ff; font-weight: bold\">lightning.pytorch.loggers.csv_logs.CSVLogger</span><span style=\"font-weight: bold\">&gt;</span>      <a href=\"file:///home/zhang/Projects/3d/ProteinWorkshop/proteinworkshop/utils/loggers.py\" target=\"_blank\"><span style=\"color: #7f7f7f; text-decoration-color: #7f7f7f\">loggers.py</span></a><span style=\"color: #7f7f7f; text-decoration-color: #7f7f7f\">:</span><a href=\"file:///home/zhang/Projects/3d/ProteinWorkshop/proteinworkshop/utils/loggers.py#31\" target=\"_blank\"><span style=\"color: #7f7f7f; text-decoration-color: #7f7f7f\">31</span></a>\n",
       "</pre>\n"
      ],
      "text/plain": [
       "\u001b[2;36m                   \u001b[0m\u001b[2;36m \u001b[0m\u001b[34mINFO    \u001b[0m Instantiating logger \u001b[1m<\u001b[0m\u001b[1;95mlightning.pytorch.loggers.csv_logs.CSVLogger\u001b[0m\u001b[1m>\u001b[0m      \u001b]8;id=193480;file:///home/zhang/Projects/3d/ProteinWorkshop/proteinworkshop/utils/loggers.py\u001b\\\u001b[2mloggers.py\u001b[0m\u001b]8;;\u001b\\\u001b[2m:\u001b[0m\u001b]8;id=825667;file:///home/zhang/Projects/3d/ProteinWorkshop/proteinworkshop/utils/loggers.py#31\u001b\\\u001b[2m31\u001b[0m\u001b]8;;\u001b\\\n"
      ]
     },
     "metadata": {},
     "output_type": "display_data"
    },
    {
     "data": {
      "text/html": [
       "<pre style=\"white-space:pre;overflow-x:auto;line-height:normal;font-family:Menlo,'DejaVu Sans Mono',consolas,'Courier New',monospace\"><span style=\"color: #7fbfbf; text-decoration-color: #7fbfbf\">                    </span><span style=\"color: #000080; text-decoration-color: #000080\">INFO    </span> Instantiating trainer<span style=\"color: #808000; text-decoration-color: #808000\">...</span>                                                  <a href=\"file:///home/zhang/Projects/3d/ProteinWorkshop/proteinworkshop/train.py\" target=\"_blank\"><span style=\"color: #7f7f7f; text-decoration-color: #7f7f7f\">train.py</span></a><span style=\"color: #7f7f7f; text-decoration-color: #7f7f7f\">:</span><a href=\"file:///home/zhang/Projects/3d/ProteinWorkshop/proteinworkshop/train.py#114\" target=\"_blank\"><span style=\"color: #7f7f7f; text-decoration-color: #7f7f7f\">114</span></a>\n",
       "</pre>\n"
      ],
      "text/plain": [
       "\u001b[2;36m                   \u001b[0m\u001b[2;36m \u001b[0m\u001b[34mINFO    \u001b[0m Instantiating trainer\u001b[33m...\u001b[0m                                                  \u001b]8;id=750405;file:///home/zhang/Projects/3d/ProteinWorkshop/proteinworkshop/train.py\u001b\\\u001b[2mtrain.py\u001b[0m\u001b]8;;\u001b\\\u001b[2m:\u001b[0m\u001b]8;id=447387;file:///home/zhang/Projects/3d/ProteinWorkshop/proteinworkshop/train.py#114\u001b\\\u001b[2m114\u001b[0m\u001b]8;;\u001b\\\n"
      ]
     },
     "metadata": {},
     "output_type": "display_data"
    },
    {
     "name": "stderr",
     "output_type": "stream",
     "text": [
      "Trainer already configured with model summary callbacks: [<class 'lightning.pytorch.callbacks.rich_model_summary.RichModelSummary'>]. Skipping setting a default `ModelSummary` callback.\n",
      "GPU available: True (cuda), used: True\n",
      "TPU available: False, using: 0 TPU cores\n",
      "HPU available: False, using: 0 HPUs\n"
     ]
    },
    {
     "data": {
      "text/html": [
       "<pre style=\"white-space:pre;overflow-x:auto;line-height:normal;font-family:Menlo,'DejaVu Sans Mono',consolas,'Courier New',monospace\"><span style=\"color: #7fbfbf; text-decoration-color: #7fbfbf\">                    </span><span style=\"color: #000080; text-decoration-color: #000080\">INFO    </span> Instantiating model<span style=\"color: #808000; text-decoration-color: #808000\">...</span>                                                    <a href=\"file:///home/zhang/Projects/3d/ProteinWorkshop/proteinworkshop/train.py\" target=\"_blank\"><span style=\"color: #7f7f7f; text-decoration-color: #7f7f7f\">train.py</span></a><span style=\"color: #7f7f7f; text-decoration-color: #7f7f7f\">:</span><a href=\"file:///home/zhang/Projects/3d/ProteinWorkshop/proteinworkshop/train.py#138\" target=\"_blank\"><span style=\"color: #7f7f7f; text-decoration-color: #7f7f7f\">138</span></a>\n",
       "</pre>\n"
      ],
      "text/plain": [
       "\u001b[2;36m                   \u001b[0m\u001b[2;36m \u001b[0m\u001b[34mINFO    \u001b[0m Instantiating model\u001b[33m...\u001b[0m                                                    \u001b]8;id=686681;file:///home/zhang/Projects/3d/ProteinWorkshop/proteinworkshop/train.py\u001b\\\u001b[2mtrain.py\u001b[0m\u001b]8;;\u001b\\\u001b[2m:\u001b[0m\u001b]8;id=755744;file:///home/zhang/Projects/3d/ProteinWorkshop/proteinworkshop/train.py#138\u001b\\\u001b[2m138\u001b[0m\u001b]8;;\u001b\\\n"
      ]
     },
     "metadata": {},
     "output_type": "display_data"
    },
    {
     "data": {
      "text/html": [
       "<pre style=\"white-space:pre;overflow-x:auto;line-height:normal;font-family:Menlo,'DejaVu Sans Mono',consolas,'Courier New',monospace\"><span style=\"color: #7fbfbf; text-decoration-color: #7fbfbf\">                    </span><span style=\"color: #000080; text-decoration-color: #000080\">INFO    </span> Instantiating encoder<span style=\"color: #808000; text-decoration-color: #808000\">...</span>                                                   <a href=\"file:///home/zhang/Projects/3d/ProteinWorkshop/proteinworkshop/models/base.py\" target=\"_blank\"><span style=\"color: #7f7f7f; text-decoration-color: #7f7f7f\">base.py</span></a><span style=\"color: #7f7f7f; text-decoration-color: #7f7f7f\">:</span><a href=\"file:///home/zhang/Projects/3d/ProteinWorkshop/proteinworkshop/models/base.py#413\" target=\"_blank\"><span style=\"color: #7f7f7f; text-decoration-color: #7f7f7f\">413</span></a>\n",
       "</pre>\n"
      ],
      "text/plain": [
       "\u001b[2;36m                   \u001b[0m\u001b[2;36m \u001b[0m\u001b[34mINFO    \u001b[0m Instantiating encoder\u001b[33m...\u001b[0m                                                   \u001b]8;id=129291;file:///home/zhang/Projects/3d/ProteinWorkshop/proteinworkshop/models/base.py\u001b\\\u001b[2mbase.py\u001b[0m\u001b]8;;\u001b\\\u001b[2m:\u001b[0m\u001b]8;id=799115;file:///home/zhang/Projects/3d/ProteinWorkshop/proteinworkshop/models/base.py#413\u001b\\\u001b[2m413\u001b[0m\u001b]8;;\u001b\\\n"
      ]
     },
     "metadata": {},
     "output_type": "display_data"
    },
    {
     "name": "stderr",
     "output_type": "stream",
     "text": [
      "/home/zhang/miniconda3/envs/3d/lib/python3.10/site-packages/torch/nn/modules/lazy.py:180: UserWarning:\n",
      "\n",
      "Lazy modules are a new feature under heavy development so changes to the API or functionality can happen at any moment.\n",
      "\n"
     ]
    },
    {
     "data": {
      "text/html": [
       "<pre style=\"white-space:pre;overflow-x:auto;line-height:normal;font-family:Menlo,'DejaVu Sans Mono',consolas,'Courier New',monospace\"><span style=\"color: #7fbfbf; text-decoration-color: #7fbfbf\">                    </span><span style=\"color: #000080; text-decoration-color: #000080\">INFO    </span> <span style=\"color: #800080; text-decoration-color: #800080; font-weight: bold\">SchNetModel</span><span style=\"font-weight: bold\">(</span><span style=\"color: #808000; text-decoration-color: #808000\">hidden_channels</span>=<span style=\"color: #008080; text-decoration-color: #008080; font-weight: bold\">512</span>, <span style=\"color: #808000; text-decoration-color: #808000\">num_filters</span>=<span style=\"color: #008080; text-decoration-color: #008080; font-weight: bold\">128</span>, <span style=\"color: #808000; text-decoration-color: #808000\">num_interactions</span>=<span style=\"color: #008080; text-decoration-color: #008080; font-weight: bold\">6</span>,      <a href=\"file:///home/zhang/Projects/3d/ProteinWorkshop/proteinworkshop/models/base.py\" target=\"_blank\"><span style=\"color: #7f7f7f; text-decoration-color: #7f7f7f\">base.py</span></a><span style=\"color: #7f7f7f; text-decoration-color: #7f7f7f\">:</span><a href=\"file:///home/zhang/Projects/3d/ProteinWorkshop/proteinworkshop/models/base.py#415\" target=\"_blank\"><span style=\"color: #7f7f7f; text-decoration-color: #7f7f7f\">415</span></a>\n",
       "<span style=\"color: #7fbfbf; text-decoration-color: #7fbfbf\">                    </span>         <span style=\"color: #808000; text-decoration-color: #808000\">num_gaussians</span>=<span style=\"color: #008080; text-decoration-color: #008080; font-weight: bold\">50</span>, <span style=\"color: #808000; text-decoration-color: #808000\">cutoff</span>=<span style=\"color: #008080; text-decoration-color: #008080; font-weight: bold\">10.0</span><span style=\"font-weight: bold\">)</span>                                             <span style=\"color: #7f7f7f; text-decoration-color: #7f7f7f\">           </span>\n",
       "</pre>\n"
      ],
      "text/plain": [
       "\u001b[2;36m                   \u001b[0m\u001b[2;36m \u001b[0m\u001b[34mINFO    \u001b[0m \u001b[1;35mSchNetModel\u001b[0m\u001b[1m(\u001b[0m\u001b[33mhidden_channels\u001b[0m=\u001b[1;36m512\u001b[0m, \u001b[33mnum_filters\u001b[0m=\u001b[1;36m128\u001b[0m, \u001b[33mnum_interactions\u001b[0m=\u001b[1;36m6\u001b[0m,      \u001b]8;id=228665;file:///home/zhang/Projects/3d/ProteinWorkshop/proteinworkshop/models/base.py\u001b\\\u001b[2mbase.py\u001b[0m\u001b]8;;\u001b\\\u001b[2m:\u001b[0m\u001b]8;id=322007;file:///home/zhang/Projects/3d/ProteinWorkshop/proteinworkshop/models/base.py#415\u001b\\\u001b[2m415\u001b[0m\u001b]8;;\u001b\\\n",
       "\u001b[2;36m                    \u001b[0m         \u001b[33mnum_gaussians\u001b[0m=\u001b[1;36m50\u001b[0m, \u001b[33mcutoff\u001b[0m=\u001b[1;36m10\u001b[0m\u001b[1;36m.0\u001b[0m\u001b[1m)\u001b[0m                                             \u001b[2m           \u001b[0m\n"
      ]
     },
     "metadata": {},
     "output_type": "display_data"
    },
    {
     "data": {
      "text/html": [
       "<pre style=\"white-space:pre;overflow-x:auto;line-height:normal;font-family:Menlo,'DejaVu Sans Mono',consolas,'Courier New',monospace\"><span style=\"color: #7fbfbf; text-decoration-color: #7fbfbf\">                    </span><span style=\"color: #000080; text-decoration-color: #000080\">INFO    </span> Instantiating decoders<span style=\"color: #808000; text-decoration-color: #808000\">...</span>                                                  <a href=\"file:///home/zhang/Projects/3d/ProteinWorkshop/proteinworkshop/models/base.py\" target=\"_blank\"><span style=\"color: #7f7f7f; text-decoration-color: #7f7f7f\">base.py</span></a><span style=\"color: #7f7f7f; text-decoration-color: #7f7f7f\">:</span><a href=\"file:///home/zhang/Projects/3d/ProteinWorkshop/proteinworkshop/models/base.py#417\" target=\"_blank\"><span style=\"color: #7f7f7f; text-decoration-color: #7f7f7f\">417</span></a>\n",
       "</pre>\n"
      ],
      "text/plain": [
       "\u001b[2;36m                   \u001b[0m\u001b[2;36m \u001b[0m\u001b[34mINFO    \u001b[0m Instantiating decoders\u001b[33m...\u001b[0m                                                  \u001b]8;id=574499;file:///home/zhang/Projects/3d/ProteinWorkshop/proteinworkshop/models/base.py\u001b\\\u001b[2mbase.py\u001b[0m\u001b]8;;\u001b\\\u001b[2m:\u001b[0m\u001b]8;id=177305;file:///home/zhang/Projects/3d/ProteinWorkshop/proteinworkshop/models/base.py#417\u001b\\\u001b[2m417\u001b[0m\u001b]8;;\u001b\\\n"
      ]
     },
     "metadata": {},
     "output_type": "display_data"
    },
    {
     "data": {
      "text/html": [
       "<pre style=\"white-space:pre;overflow-x:auto;line-height:normal;font-family:Menlo,'DejaVu Sans Mono',consolas,'Courier New',monospace\"><span style=\"color: #7fbfbf; text-decoration-color: #7fbfbf\">                    </span><span style=\"color: #000080; text-decoration-color: #000080\">INFO    </span> Building graph_label decoder. Output dim <span style=\"color: #008080; text-decoration-color: #008080; font-weight: bold\">1195</span>                              <a href=\"file:///home/zhang/Projects/3d/ProteinWorkshop/proteinworkshop/models/base.py\" target=\"_blank\"><span style=\"color: #7f7f7f; text-decoration-color: #7f7f7f\">base.py</span></a><span style=\"color: #7f7f7f; text-decoration-color: #7f7f7f\">:</span><a href=\"file:///home/zhang/Projects/3d/ProteinWorkshop/proteinworkshop/models/base.py#252\" target=\"_blank\"><span style=\"color: #7f7f7f; text-decoration-color: #7f7f7f\">252</span></a>\n",
       "</pre>\n"
      ],
      "text/plain": [
       "\u001b[2;36m                   \u001b[0m\u001b[2;36m \u001b[0m\u001b[34mINFO    \u001b[0m Building graph_label decoder. Output dim \u001b[1;36m1195\u001b[0m                              \u001b]8;id=527713;file:///home/zhang/Projects/3d/ProteinWorkshop/proteinworkshop/models/base.py\u001b\\\u001b[2mbase.py\u001b[0m\u001b]8;;\u001b\\\u001b[2m:\u001b[0m\u001b]8;id=872434;file:///home/zhang/Projects/3d/ProteinWorkshop/proteinworkshop/models/base.py#252\u001b\\\u001b[2m252\u001b[0m\u001b]8;;\u001b\\\n"
      ]
     },
     "metadata": {},
     "output_type": "display_data"
    },
    {
     "data": {
      "text/html": [
       "<pre style=\"white-space:pre;overflow-x:auto;line-height:normal;font-family:Menlo,'DejaVu Sans Mono',consolas,'Courier New',monospace\"><span style=\"color: #7fbfbf; text-decoration-color: #7fbfbf\">                    </span><span style=\"color: #000080; text-decoration-color: #000080\">INFO    </span> <span style=\"font-weight: bold\">{</span><span style=\"color: #008000; text-decoration-color: #008000\">'_target_'</span>: <span style=\"color: #008000; text-decoration-color: #008000\">'proteinworkshop.models.decoders.mlp_decoder.MLPDecoder'</span>,     <a href=\"file:///home/zhang/Projects/3d/ProteinWorkshop/proteinworkshop/models/base.py\" target=\"_blank\"><span style=\"color: #7f7f7f; text-decoration-color: #7f7f7f\">base.py</span></a><span style=\"color: #7f7f7f; text-decoration-color: #7f7f7f\">:</span><a href=\"file:///home/zhang/Projects/3d/ProteinWorkshop/proteinworkshop/models/base.py#255\" target=\"_blank\"><span style=\"color: #7f7f7f; text-decoration-color: #7f7f7f\">255</span></a>\n",
       "<span style=\"color: #7fbfbf; text-decoration-color: #7fbfbf\">                    </span>         <span style=\"color: #008000; text-decoration-color: #008000\">'hidden_dim'</span>: <span style=\"font-weight: bold\">[</span><span style=\"color: #008080; text-decoration-color: #008080; font-weight: bold\">512</span>, <span style=\"color: #008080; text-decoration-color: #008080; font-weight: bold\">512</span>, <span style=\"color: #008080; text-decoration-color: #008080; font-weight: bold\">512</span><span style=\"font-weight: bold\">]</span>, <span style=\"color: #008000; text-decoration-color: #008000\">'dropout'</span>: <span style=\"color: #008080; text-decoration-color: #008080; font-weight: bold\">0.0</span>, <span style=\"color: #008000; text-decoration-color: #008000\">'activations'</span>: <span style=\"font-weight: bold\">[</span><span style=\"color: #008000; text-decoration-color: #008000\">'relu'</span>,     <span style=\"color: #7f7f7f; text-decoration-color: #7f7f7f\">           </span>\n",
       "<span style=\"color: #7fbfbf; text-decoration-color: #7fbfbf\">                    </span>         <span style=\"color: #008000; text-decoration-color: #008000\">'relu'</span>, <span style=\"color: #008000; text-decoration-color: #008000\">'relu'</span>, <span style=\"color: #008000; text-decoration-color: #008000\">'none'</span><span style=\"font-weight: bold\">]</span>, <span style=\"color: #008000; text-decoration-color: #008000\">'skip'</span>: <span style=\"color: #008000; text-decoration-color: #008000\">'concat'</span>, <span style=\"color: #008000; text-decoration-color: #008000\">'out_dim'</span>:                      <span style=\"color: #7f7f7f; text-decoration-color: #7f7f7f\">           </span>\n",
       "<span style=\"color: #7fbfbf; text-decoration-color: #7fbfbf\">                    </span>         <span style=\"color: #008000; text-decoration-color: #008000\">'${dataset.num_classes}'</span>, <span style=\"color: #008000; text-decoration-color: #008000\">'input'</span>: <span style=\"color: #008000; text-decoration-color: #008000\">'graph_embedding'</span>, <span style=\"color: #008000; text-decoration-color: #008000\">'dummy'</span>: <span style=\"color: #ff0000; text-decoration-color: #ff0000; font-style: italic\">False</span><span style=\"font-weight: bold\">}</span>      <span style=\"color: #7f7f7f; text-decoration-color: #7f7f7f\">           </span>\n",
       "</pre>\n"
      ],
      "text/plain": [
       "\u001b[2;36m                   \u001b[0m\u001b[2;36m \u001b[0m\u001b[34mINFO    \u001b[0m \u001b[1m{\u001b[0m\u001b[32m'_target_'\u001b[0m: \u001b[32m'proteinworkshop.models.decoders.mlp_decoder.MLPDecoder'\u001b[0m,     \u001b]8;id=626430;file:///home/zhang/Projects/3d/ProteinWorkshop/proteinworkshop/models/base.py\u001b\\\u001b[2mbase.py\u001b[0m\u001b]8;;\u001b\\\u001b[2m:\u001b[0m\u001b]8;id=998192;file:///home/zhang/Projects/3d/ProteinWorkshop/proteinworkshop/models/base.py#255\u001b\\\u001b[2m255\u001b[0m\u001b]8;;\u001b\\\n",
       "\u001b[2;36m                    \u001b[0m         \u001b[32m'hidden_dim'\u001b[0m: \u001b[1m[\u001b[0m\u001b[1;36m512\u001b[0m, \u001b[1;36m512\u001b[0m, \u001b[1;36m512\u001b[0m\u001b[1m]\u001b[0m, \u001b[32m'dropout'\u001b[0m: \u001b[1;36m0.0\u001b[0m, \u001b[32m'activations'\u001b[0m: \u001b[1m[\u001b[0m\u001b[32m'relu'\u001b[0m,     \u001b[2m           \u001b[0m\n",
       "\u001b[2;36m                    \u001b[0m         \u001b[32m'relu'\u001b[0m, \u001b[32m'relu'\u001b[0m, \u001b[32m'none'\u001b[0m\u001b[1m]\u001b[0m, \u001b[32m'skip'\u001b[0m: \u001b[32m'concat'\u001b[0m, \u001b[32m'out_dim'\u001b[0m:                      \u001b[2m           \u001b[0m\n",
       "\u001b[2;36m                    \u001b[0m         \u001b[32m'$\u001b[0m\u001b[32m{\u001b[0m\u001b[32mdataset.num_classes\u001b[0m\u001b[32m}\u001b[0m\u001b[32m'\u001b[0m, \u001b[32m'input'\u001b[0m: \u001b[32m'graph_embedding'\u001b[0m, \u001b[32m'dummy'\u001b[0m: \u001b[3;91mFalse\u001b[0m\u001b[1m}\u001b[0m      \u001b[2m           \u001b[0m\n"
      ]
     },
     "metadata": {},
     "output_type": "display_data"
    },
    {
     "data": {
      "text/html": [
       "<pre style=\"white-space:pre;overflow-x:auto;line-height:normal;font-family:Menlo,'DejaVu Sans Mono',consolas,'Courier New',monospace\"><span style=\"color: #7fbfbf; text-decoration-color: #7fbfbf\">                    </span><span style=\"color: #000080; text-decoration-color: #000080\">INFO    </span> Using skip connection in decoder.                                   <a href=\"file:///home/zhang/Projects/3d/ProteinWorkshop/proteinworkshop/models/decoders/mlp_decoder.py\" target=\"_blank\"><span style=\"color: #7f7f7f; text-decoration-color: #7f7f7f\">mlp_decoder.py</span></a><span style=\"color: #7f7f7f; text-decoration-color: #7f7f7f\">:</span><a href=\"file:///home/zhang/Projects/3d/ProteinWorkshop/proteinworkshop/models/decoders/mlp_decoder.py#125\" target=\"_blank\"><span style=\"color: #7f7f7f; text-decoration-color: #7f7f7f\">125</span></a>\n",
       "</pre>\n"
      ],
      "text/plain": [
       "\u001b[2;36m                   \u001b[0m\u001b[2;36m \u001b[0m\u001b[34mINFO    \u001b[0m Using skip connection in decoder.                                   \u001b]8;id=865757;file:///home/zhang/Projects/3d/ProteinWorkshop/proteinworkshop/models/decoders/mlp_decoder.py\u001b\\\u001b[2mmlp_decoder.py\u001b[0m\u001b]8;;\u001b\\\u001b[2m:\u001b[0m\u001b]8;id=890422;file:///home/zhang/Projects/3d/ProteinWorkshop/proteinworkshop/models/decoders/mlp_decoder.py#125\u001b\\\u001b[2m125\u001b[0m\u001b]8;;\u001b\\\n"
      ]
     },
     "metadata": {},
     "output_type": "display_data"
    },
    {
     "data": {
      "text/html": [
       "<pre style=\"white-space:pre;overflow-x:auto;line-height:normal;font-family:Menlo,'DejaVu Sans Mono',consolas,'Courier New',monospace\"><span style=\"color: #7fbfbf; text-decoration-color: #7fbfbf\">                    </span><span style=\"color: #000080; text-decoration-color: #000080\">INFO    </span> <span style=\"color: #800080; text-decoration-color: #800080; font-weight: bold\">ModuleDict</span><span style=\"font-weight: bold\">(</span>                                                                <a href=\"file:///home/zhang/Projects/3d/ProteinWorkshop/proteinworkshop/models/base.py\" target=\"_blank\"><span style=\"color: #7f7f7f; text-decoration-color: #7f7f7f\">base.py</span></a><span style=\"color: #7f7f7f; text-decoration-color: #7f7f7f\">:</span><a href=\"file:///home/zhang/Projects/3d/ProteinWorkshop/proteinworkshop/models/base.py#419\" target=\"_blank\"><span style=\"color: #7f7f7f; text-decoration-color: #7f7f7f\">419</span></a>\n",
       "<span style=\"color: #7fbfbf; text-decoration-color: #7fbfbf\">                    </span>           <span style=\"font-weight: bold\">(</span>graph_label<span style=\"font-weight: bold\">)</span>: <span style=\"color: #800080; text-decoration-color: #800080; font-weight: bold\">MLPDecoder</span><span style=\"font-weight: bold\">(</span>                                               <span style=\"color: #7f7f7f; text-decoration-color: #7f7f7f\">           </span>\n",
       "<span style=\"color: #7fbfbf; text-decoration-color: #7fbfbf\">                    </span>             <span style=\"font-weight: bold\">(</span>layers<span style=\"font-weight: bold\">)</span>: <span style=\"color: #800080; text-decoration-color: #800080; font-weight: bold\">LinearSkipBlock</span><span style=\"font-weight: bold\">(</span>                                             <span style=\"color: #7f7f7f; text-decoration-color: #7f7f7f\">           </span>\n",
       "<span style=\"color: #7fbfbf; text-decoration-color: #7fbfbf\">                    </span>               <span style=\"font-weight: bold\">(</span>layers<span style=\"font-weight: bold\">)</span>: <span style=\"color: #800080; text-decoration-color: #800080; font-weight: bold\">ModuleList</span><span style=\"font-weight: bold\">(</span>                                                <span style=\"color: #7f7f7f; text-decoration-color: #7f7f7f\">           </span>\n",
       "<span style=\"color: #7fbfbf; text-decoration-color: #7fbfbf\">                    </span>                 <span style=\"font-weight: bold\">(</span><span style=\"color: #008080; text-decoration-color: #008080; font-weight: bold\">0</span>-<span style=\"color: #008080; text-decoration-color: #008080; font-weight: bold\">2</span><span style=\"font-weight: bold\">)</span>: <span style=\"color: #008080; text-decoration-color: #008080; font-weight: bold\">3</span> x <span style=\"color: #800080; text-decoration-color: #800080; font-weight: bold\">LazyLinear</span><span style=\"font-weight: bold\">(</span><span style=\"color: #808000; text-decoration-color: #808000\">in_features</span>=<span style=\"color: #008080; text-decoration-color: #008080; font-weight: bold\">0</span>, <span style=\"color: #808000; text-decoration-color: #808000\">out_features</span>=<span style=\"color: #008080; text-decoration-color: #008080; font-weight: bold\">512</span>, <span style=\"color: #808000; text-decoration-color: #808000\">bias</span>=<span style=\"color: #00ff00; text-decoration-color: #00ff00; font-style: italic\">True</span><span style=\"font-weight: bold\">)</span>  <span style=\"color: #7f7f7f; text-decoration-color: #7f7f7f\">           </span>\n",
       "<span style=\"color: #7fbfbf; text-decoration-color: #7fbfbf\">                    </span>                 <span style=\"font-weight: bold\">(</span><span style=\"color: #008080; text-decoration-color: #008080; font-weight: bold\">3</span><span style=\"font-weight: bold\">)</span>: <span style=\"color: #800080; text-decoration-color: #800080; font-weight: bold\">LazyLinear</span><span style=\"font-weight: bold\">(</span><span style=\"color: #808000; text-decoration-color: #808000\">in_features</span>=<span style=\"color: #008080; text-decoration-color: #008080; font-weight: bold\">0</span>, <span style=\"color: #808000; text-decoration-color: #808000\">out_features</span>=<span style=\"color: #008080; text-decoration-color: #008080; font-weight: bold\">1195</span>, <span style=\"color: #808000; text-decoration-color: #808000\">bias</span>=<span style=\"color: #00ff00; text-decoration-color: #00ff00; font-style: italic\">True</span><span style=\"font-weight: bold\">)</span>       <span style=\"color: #7f7f7f; text-decoration-color: #7f7f7f\">           </span>\n",
       "<span style=\"color: #7fbfbf; text-decoration-color: #7fbfbf\">                    </span>               <span style=\"font-weight: bold\">)</span>                                                                    <span style=\"color: #7f7f7f; text-decoration-color: #7f7f7f\">           </span>\n",
       "<span style=\"color: #7fbfbf; text-decoration-color: #7fbfbf\">                    </span>               <span style=\"font-weight: bold\">(</span>activations<span style=\"font-weight: bold\">)</span>: <span style=\"color: #800080; text-decoration-color: #800080; font-weight: bold\">ModuleList</span><span style=\"font-weight: bold\">(</span>                                           <span style=\"color: #7f7f7f; text-decoration-color: #7f7f7f\">           </span>\n",
       "<span style=\"color: #7fbfbf; text-decoration-color: #7fbfbf\">                    </span>                 <span style=\"font-weight: bold\">(</span><span style=\"color: #008080; text-decoration-color: #008080; font-weight: bold\">0</span>-<span style=\"color: #008080; text-decoration-color: #008080; font-weight: bold\">2</span><span style=\"font-weight: bold\">)</span>: <span style=\"color: #008080; text-decoration-color: #008080; font-weight: bold\">3</span> x <span style=\"color: #800080; text-decoration-color: #800080; font-weight: bold\">ReLU</span><span style=\"font-weight: bold\">()</span>                                                  <span style=\"color: #7f7f7f; text-decoration-color: #7f7f7f\">           </span>\n",
       "<span style=\"color: #7fbfbf; text-decoration-color: #7fbfbf\">                    </span>                 <span style=\"font-weight: bold\">(</span><span style=\"color: #008080; text-decoration-color: #008080; font-weight: bold\">3</span><span style=\"font-weight: bold\">)</span>: <span style=\"color: #800080; text-decoration-color: #800080; font-weight: bold\">Identity</span><span style=\"font-weight: bold\">()</span>                                                    <span style=\"color: #7f7f7f; text-decoration-color: #7f7f7f\">           </span>\n",
       "<span style=\"color: #7fbfbf; text-decoration-color: #7fbfbf\">                    </span>               <span style=\"font-weight: bold\">)</span>                                                                    <span style=\"color: #7f7f7f; text-decoration-color: #7f7f7f\">           </span>\n",
       "<span style=\"color: #7fbfbf; text-decoration-color: #7fbfbf\">                    </span>               <span style=\"font-weight: bold\">(</span>dropout_layers<span style=\"font-weight: bold\">)</span>: <span style=\"color: #800080; text-decoration-color: #800080; font-weight: bold\">ModuleList</span><span style=\"font-weight: bold\">(</span>                                        <span style=\"color: #7f7f7f; text-decoration-color: #7f7f7f\">           </span>\n",
       "<span style=\"color: #7fbfbf; text-decoration-color: #7fbfbf\">                    </span>                 <span style=\"font-weight: bold\">(</span><span style=\"color: #008080; text-decoration-color: #008080; font-weight: bold\">0</span>-<span style=\"color: #008080; text-decoration-color: #008080; font-weight: bold\">2</span><span style=\"font-weight: bold\">)</span>: <span style=\"color: #008080; text-decoration-color: #008080; font-weight: bold\">3</span> x <span style=\"color: #800080; text-decoration-color: #800080; font-weight: bold\">Dropout</span><span style=\"font-weight: bold\">(</span><span style=\"color: #808000; text-decoration-color: #808000\">p</span>=<span style=\"color: #008080; text-decoration-color: #008080; font-weight: bold\">0.0</span>, <span style=\"color: #808000; text-decoration-color: #808000\">inplace</span>=<span style=\"color: #ff0000; text-decoration-color: #ff0000; font-style: italic\">False</span><span style=\"font-weight: bold\">)</span>                           <span style=\"color: #7f7f7f; text-decoration-color: #7f7f7f\">           </span>\n",
       "<span style=\"color: #7fbfbf; text-decoration-color: #7fbfbf\">                    </span>               <span style=\"font-weight: bold\">)</span>                                                                    <span style=\"color: #7f7f7f; text-decoration-color: #7f7f7f\">           </span>\n",
       "<span style=\"color: #7fbfbf; text-decoration-color: #7fbfbf\">                    </span>             <span style=\"font-weight: bold\">)</span>                                                                      <span style=\"color: #7f7f7f; text-decoration-color: #7f7f7f\">           </span>\n",
       "<span style=\"color: #7fbfbf; text-decoration-color: #7fbfbf\">                    </span>           <span style=\"font-weight: bold\">)</span>                                                                        <span style=\"color: #7f7f7f; text-decoration-color: #7f7f7f\">           </span>\n",
       "<span style=\"color: #7fbfbf; text-decoration-color: #7fbfbf\">                    </span>         <span style=\"font-weight: bold\">)</span>                                                                          <span style=\"color: #7f7f7f; text-decoration-color: #7f7f7f\">           </span>\n",
       "</pre>\n"
      ],
      "text/plain": [
       "\u001b[2;36m                   \u001b[0m\u001b[2;36m \u001b[0m\u001b[34mINFO    \u001b[0m \u001b[1;35mModuleDict\u001b[0m\u001b[1m(\u001b[0m                                                                \u001b]8;id=554767;file:///home/zhang/Projects/3d/ProteinWorkshop/proteinworkshop/models/base.py\u001b\\\u001b[2mbase.py\u001b[0m\u001b]8;;\u001b\\\u001b[2m:\u001b[0m\u001b]8;id=963043;file:///home/zhang/Projects/3d/ProteinWorkshop/proteinworkshop/models/base.py#419\u001b\\\u001b[2m419\u001b[0m\u001b]8;;\u001b\\\n",
       "\u001b[2;36m                    \u001b[0m           \u001b[1m(\u001b[0mgraph_label\u001b[1m)\u001b[0m: \u001b[1;35mMLPDecoder\u001b[0m\u001b[1m(\u001b[0m                                               \u001b[2m           \u001b[0m\n",
       "\u001b[2;36m                    \u001b[0m             \u001b[1m(\u001b[0mlayers\u001b[1m)\u001b[0m: \u001b[1;35mLinearSkipBlock\u001b[0m\u001b[1m(\u001b[0m                                             \u001b[2m           \u001b[0m\n",
       "\u001b[2;36m                    \u001b[0m               \u001b[1m(\u001b[0mlayers\u001b[1m)\u001b[0m: \u001b[1;35mModuleList\u001b[0m\u001b[1m(\u001b[0m                                                \u001b[2m           \u001b[0m\n",
       "\u001b[2;36m                    \u001b[0m                 \u001b[1m(\u001b[0m\u001b[1;36m0\u001b[0m-\u001b[1;36m2\u001b[0m\u001b[1m)\u001b[0m: \u001b[1;36m3\u001b[0m x \u001b[1;35mLazyLinear\u001b[0m\u001b[1m(\u001b[0m\u001b[33min_features\u001b[0m=\u001b[1;36m0\u001b[0m, \u001b[33mout_features\u001b[0m=\u001b[1;36m512\u001b[0m, \u001b[33mbias\u001b[0m=\u001b[3;92mTrue\u001b[0m\u001b[1m)\u001b[0m  \u001b[2m           \u001b[0m\n",
       "\u001b[2;36m                    \u001b[0m                 \u001b[1m(\u001b[0m\u001b[1;36m3\u001b[0m\u001b[1m)\u001b[0m: \u001b[1;35mLazyLinear\u001b[0m\u001b[1m(\u001b[0m\u001b[33min_features\u001b[0m=\u001b[1;36m0\u001b[0m, \u001b[33mout_features\u001b[0m=\u001b[1;36m1195\u001b[0m, \u001b[33mbias\u001b[0m=\u001b[3;92mTrue\u001b[0m\u001b[1m)\u001b[0m       \u001b[2m           \u001b[0m\n",
       "\u001b[2;36m                    \u001b[0m               \u001b[1m)\u001b[0m                                                                    \u001b[2m           \u001b[0m\n",
       "\u001b[2;36m                    \u001b[0m               \u001b[1m(\u001b[0mactivations\u001b[1m)\u001b[0m: \u001b[1;35mModuleList\u001b[0m\u001b[1m(\u001b[0m                                           \u001b[2m           \u001b[0m\n",
       "\u001b[2;36m                    \u001b[0m                 \u001b[1m(\u001b[0m\u001b[1;36m0\u001b[0m-\u001b[1;36m2\u001b[0m\u001b[1m)\u001b[0m: \u001b[1;36m3\u001b[0m x \u001b[1;35mReLU\u001b[0m\u001b[1m(\u001b[0m\u001b[1m)\u001b[0m                                                  \u001b[2m           \u001b[0m\n",
       "\u001b[2;36m                    \u001b[0m                 \u001b[1m(\u001b[0m\u001b[1;36m3\u001b[0m\u001b[1m)\u001b[0m: \u001b[1;35mIdentity\u001b[0m\u001b[1m(\u001b[0m\u001b[1m)\u001b[0m                                                    \u001b[2m           \u001b[0m\n",
       "\u001b[2;36m                    \u001b[0m               \u001b[1m)\u001b[0m                                                                    \u001b[2m           \u001b[0m\n",
       "\u001b[2;36m                    \u001b[0m               \u001b[1m(\u001b[0mdropout_layers\u001b[1m)\u001b[0m: \u001b[1;35mModuleList\u001b[0m\u001b[1m(\u001b[0m                                        \u001b[2m           \u001b[0m\n",
       "\u001b[2;36m                    \u001b[0m                 \u001b[1m(\u001b[0m\u001b[1;36m0\u001b[0m-\u001b[1;36m2\u001b[0m\u001b[1m)\u001b[0m: \u001b[1;36m3\u001b[0m x \u001b[1;35mDropout\u001b[0m\u001b[1m(\u001b[0m\u001b[33mp\u001b[0m=\u001b[1;36m0\u001b[0m\u001b[1;36m.0\u001b[0m, \u001b[33minplace\u001b[0m=\u001b[3;91mFalse\u001b[0m\u001b[1m)\u001b[0m                           \u001b[2m           \u001b[0m\n",
       "\u001b[2;36m                    \u001b[0m               \u001b[1m)\u001b[0m                                                                    \u001b[2m           \u001b[0m\n",
       "\u001b[2;36m                    \u001b[0m             \u001b[1m)\u001b[0m                                                                      \u001b[2m           \u001b[0m\n",
       "\u001b[2;36m                    \u001b[0m           \u001b[1m)\u001b[0m                                                                        \u001b[2m           \u001b[0m\n",
       "\u001b[2;36m                    \u001b[0m         \u001b[1m)\u001b[0m                                                                          \u001b[2m           \u001b[0m\n"
      ]
     },
     "metadata": {},
     "output_type": "display_data"
    },
    {
     "data": {
      "text/html": [
       "<pre style=\"white-space:pre;overflow-x:auto;line-height:normal;font-family:Menlo,'DejaVu Sans Mono',consolas,'Courier New',monospace\"><span style=\"color: #7fbfbf; text-decoration-color: #7fbfbf\">                    </span><span style=\"color: #000080; text-decoration-color: #000080\">INFO    </span> Instantiating losses<span style=\"color: #808000; text-decoration-color: #808000\">...</span>                                                    <a href=\"file:///home/zhang/Projects/3d/ProteinWorkshop/proteinworkshop/models/base.py\" target=\"_blank\"><span style=\"color: #7f7f7f; text-decoration-color: #7f7f7f\">base.py</span></a><span style=\"color: #7f7f7f; text-decoration-color: #7f7f7f\">:</span><a href=\"file:///home/zhang/Projects/3d/ProteinWorkshop/proteinworkshop/models/base.py#421\" target=\"_blank\"><span style=\"color: #7f7f7f; text-decoration-color: #7f7f7f\">421</span></a>\n",
       "</pre>\n"
      ],
      "text/plain": [
       "\u001b[2;36m                   \u001b[0m\u001b[2;36m \u001b[0m\u001b[34mINFO    \u001b[0m Instantiating losses\u001b[33m...\u001b[0m                                                    \u001b]8;id=859992;file:///home/zhang/Projects/3d/ProteinWorkshop/proteinworkshop/models/base.py\u001b\\\u001b[2mbase.py\u001b[0m\u001b]8;;\u001b\\\u001b[2m:\u001b[0m\u001b]8;id=153359;file:///home/zhang/Projects/3d/ProteinWorkshop/proteinworkshop/models/base.py#421\u001b\\\u001b[2m421\u001b[0m\u001b]8;;\u001b\\\n"
      ]
     },
     "metadata": {},
     "output_type": "display_data"
    },
    {
     "data": {
      "text/html": [
       "<pre style=\"white-space:pre;overflow-x:auto;line-height:normal;font-family:Menlo,'DejaVu Sans Mono',consolas,'Courier New',monospace\"><span style=\"color: #7fbfbf; text-decoration-color: #7fbfbf\">                    </span><span style=\"color: #000080; text-decoration-color: #000080\">INFO    </span> Using losses: <span style=\"font-weight: bold\">{</span><span style=\"color: #008000; text-decoration-color: #008000\">'graph_label'</span>: <span style=\"color: #800080; text-decoration-color: #800080; font-weight: bold\">CrossEntropyLoss</span><span style=\"font-weight: bold\">()}</span>                          <a href=\"file:///home/zhang/Projects/3d/ProteinWorkshop/proteinworkshop/models/base.py\" target=\"_blank\"><span style=\"color: #7f7f7f; text-decoration-color: #7f7f7f\">base.py</span></a><span style=\"color: #7f7f7f; text-decoration-color: #7f7f7f\">:</span><a href=\"file:///home/zhang/Projects/3d/ProteinWorkshop/proteinworkshop/models/base.py#423\" target=\"_blank\"><span style=\"color: #7f7f7f; text-decoration-color: #7f7f7f\">423</span></a>\n",
       "</pre>\n"
      ],
      "text/plain": [
       "\u001b[2;36m                   \u001b[0m\u001b[2;36m \u001b[0m\u001b[34mINFO    \u001b[0m Using losses: \u001b[1m{\u001b[0m\u001b[32m'graph_label'\u001b[0m: \u001b[1;35mCrossEntropyLoss\u001b[0m\u001b[1m(\u001b[0m\u001b[1m)\u001b[0m\u001b[1m}\u001b[0m                          \u001b]8;id=389621;file:///home/zhang/Projects/3d/ProteinWorkshop/proteinworkshop/models/base.py\u001b\\\u001b[2mbase.py\u001b[0m\u001b]8;;\u001b\\\u001b[2m:\u001b[0m\u001b]8;id=274607;file:///home/zhang/Projects/3d/ProteinWorkshop/proteinworkshop/models/base.py#423\u001b\\\u001b[2m423\u001b[0m\u001b]8;;\u001b\\\n"
      ]
     },
     "metadata": {},
     "output_type": "display_data"
    },
    {
     "data": {
      "text/html": [
       "<pre style=\"white-space:pre;overflow-x:auto;line-height:normal;font-family:Menlo,'DejaVu Sans Mono',consolas,'Courier New',monospace\"><span style=\"color: #7fbfbf; text-decoration-color: #7fbfbf\">                    </span><span style=\"color: #000080; text-decoration-color: #000080\">INFO    </span> Not using aux loss scaling                                                 <a href=\"file:///home/zhang/Projects/3d/ProteinWorkshop/proteinworkshop/models/base.py\" target=\"_blank\"><span style=\"color: #7f7f7f; text-decoration-color: #7f7f7f\">base.py</span></a><span style=\"color: #7f7f7f; text-decoration-color: #7f7f7f\">:</span><a href=\"file:///home/zhang/Projects/3d/ProteinWorkshop/proteinworkshop/models/base.py#430\" target=\"_blank\"><span style=\"color: #7f7f7f; text-decoration-color: #7f7f7f\">430</span></a>\n",
       "</pre>\n"
      ],
      "text/plain": [
       "\u001b[2;36m                   \u001b[0m\u001b[2;36m \u001b[0m\u001b[34mINFO    \u001b[0m Not using aux loss scaling                                                 \u001b]8;id=967905;file:///home/zhang/Projects/3d/ProteinWorkshop/proteinworkshop/models/base.py\u001b\\\u001b[2mbase.py\u001b[0m\u001b]8;;\u001b\\\u001b[2m:\u001b[0m\u001b]8;id=163499;file:///home/zhang/Projects/3d/ProteinWorkshop/proteinworkshop/models/base.py#430\u001b\\\u001b[2m430\u001b[0m\u001b]8;;\u001b\\\n"
      ]
     },
     "metadata": {},
     "output_type": "display_data"
    },
    {
     "data": {
      "text/html": [
       "<pre style=\"white-space:pre;overflow-x:auto;line-height:normal;font-family:Menlo,'DejaVu Sans Mono',consolas,'Courier New',monospace\"><span style=\"color: #7fbfbf; text-decoration-color: #7fbfbf\">                    </span><span style=\"color: #000080; text-decoration-color: #000080\">INFO    </span> Configuring metrics<span style=\"color: #808000; text-decoration-color: #808000\">...</span>                                                     <a href=\"file:///home/zhang/Projects/3d/ProteinWorkshop/proteinworkshop/models/base.py\" target=\"_blank\"><span style=\"color: #7f7f7f; text-decoration-color: #7f7f7f\">base.py</span></a><span style=\"color: #7f7f7f; text-decoration-color: #7f7f7f\">:</span><a href=\"file:///home/zhang/Projects/3d/ProteinWorkshop/proteinworkshop/models/base.py#432\" target=\"_blank\"><span style=\"color: #7f7f7f; text-decoration-color: #7f7f7f\">432</span></a>\n",
       "</pre>\n"
      ],
      "text/plain": [
       "\u001b[2;36m                   \u001b[0m\u001b[2;36m \u001b[0m\u001b[34mINFO    \u001b[0m Configuring metrics\u001b[33m...\u001b[0m                                                     \u001b]8;id=524486;file:///home/zhang/Projects/3d/ProteinWorkshop/proteinworkshop/models/base.py\u001b\\\u001b[2mbase.py\u001b[0m\u001b]8;;\u001b\\\u001b[2m:\u001b[0m\u001b]8;id=888859;file:///home/zhang/Projects/3d/ProteinWorkshop/proteinworkshop/models/base.py#432\u001b\\\u001b[2m432\u001b[0m\u001b]8;;\u001b\\\n"
      ]
     },
     "metadata": {},
     "output_type": "display_data"
    },
    {
     "data": {
      "text/html": [
       "<pre style=\"white-space:pre;overflow-x:auto;line-height:normal;font-family:Menlo,'DejaVu Sans Mono',consolas,'Courier New',monospace\"><span style=\"color: #7fbfbf; text-decoration-color: #7fbfbf\">                    </span><span style=\"color: #000080; text-decoration-color: #000080\">INFO    </span> <span style=\"font-weight: bold\">[</span><span style=\"color: #008000; text-decoration-color: #008000\">'accuracy'</span>, <span style=\"color: #008000; text-decoration-color: #008000\">'f1_score'</span>, <span style=\"color: #008000; text-decoration-color: #008000\">'f1_max'</span><span style=\"font-weight: bold\">]</span>                                         <a href=\"file:///home/zhang/Projects/3d/ProteinWorkshop/proteinworkshop/models/base.py\" target=\"_blank\"><span style=\"color: #7f7f7f; text-decoration-color: #7f7f7f\">base.py</span></a><span style=\"color: #7f7f7f; text-decoration-color: #7f7f7f\">:</span><a href=\"file:///home/zhang/Projects/3d/ProteinWorkshop/proteinworkshop/models/base.py#434\" target=\"_blank\"><span style=\"color: #7f7f7f; text-decoration-color: #7f7f7f\">434</span></a>\n",
       "</pre>\n"
      ],
      "text/plain": [
       "\u001b[2;36m                   \u001b[0m\u001b[2;36m \u001b[0m\u001b[34mINFO    \u001b[0m \u001b[1m[\u001b[0m\u001b[32m'accuracy'\u001b[0m, \u001b[32m'f1_score'\u001b[0m, \u001b[32m'f1_max'\u001b[0m\u001b[1m]\u001b[0m                                         \u001b]8;id=48437;file:///home/zhang/Projects/3d/ProteinWorkshop/proteinworkshop/models/base.py\u001b\\\u001b[2mbase.py\u001b[0m\u001b]8;;\u001b\\\u001b[2m:\u001b[0m\u001b]8;id=195127;file:///home/zhang/Projects/3d/ProteinWorkshop/proteinworkshop/models/base.py#434\u001b\\\u001b[2m434\u001b[0m\u001b]8;;\u001b\\\n"
      ]
     },
     "metadata": {},
     "output_type": "display_data"
    },
    {
     "data": {
      "text/html": [
       "<pre style=\"white-space:pre;overflow-x:auto;line-height:normal;font-family:Menlo,'DejaVu Sans Mono',consolas,'Courier New',monospace\"><span style=\"color: #7fbfbf; text-decoration-color: #7fbfbf\">                    </span><span style=\"color: #000080; text-decoration-color: #000080\">INFO    </span> Instantiating featuriser<span style=\"color: #808000; text-decoration-color: #808000\">...</span>                                                <a href=\"file:///home/zhang/Projects/3d/ProteinWorkshop/proteinworkshop/models/base.py\" target=\"_blank\"><span style=\"color: #7f7f7f; text-decoration-color: #7f7f7f\">base.py</span></a><span style=\"color: #7f7f7f; text-decoration-color: #7f7f7f\">:</span><a href=\"file:///home/zhang/Projects/3d/ProteinWorkshop/proteinworkshop/models/base.py#436\" target=\"_blank\"><span style=\"color: #7f7f7f; text-decoration-color: #7f7f7f\">436</span></a>\n",
       "</pre>\n"
      ],
      "text/plain": [
       "\u001b[2;36m                   \u001b[0m\u001b[2;36m \u001b[0m\u001b[34mINFO    \u001b[0m Instantiating featuriser\u001b[33m...\u001b[0m                                                \u001b]8;id=93378;file:///home/zhang/Projects/3d/ProteinWorkshop/proteinworkshop/models/base.py\u001b\\\u001b[2mbase.py\u001b[0m\u001b]8;;\u001b\\\u001b[2m:\u001b[0m\u001b]8;id=721993;file:///home/zhang/Projects/3d/ProteinWorkshop/proteinworkshop/models/base.py#436\u001b\\\u001b[2m436\u001b[0m\u001b]8;;\u001b\\\n"
      ]
     },
     "metadata": {},
     "output_type": "display_data"
    },
    {
     "data": {
      "text/html": [
       "<pre style=\"white-space:pre;overflow-x:auto;line-height:normal;font-family:Menlo,'DejaVu Sans Mono',consolas,'Courier New',monospace\"><span style=\"color: #7fbfbf; text-decoration-color: #7fbfbf\">                    </span><span style=\"color: #000080; text-decoration-color: #000080\">INFO    </span> <span style=\"color: #800080; text-decoration-color: #800080; font-weight: bold\">ProteinFeaturiser</span><span style=\"font-weight: bold\">(</span><span style=\"color: #808000; text-decoration-color: #808000\">representation</span>=<span style=\"color: #800080; text-decoration-color: #800080\">CA</span>,                                       <a href=\"file:///home/zhang/Projects/3d/ProteinWorkshop/proteinworkshop/models/base.py\" target=\"_blank\"><span style=\"color: #7f7f7f; text-decoration-color: #7f7f7f\">base.py</span></a><span style=\"color: #7f7f7f; text-decoration-color: #7f7f7f\">:</span><a href=\"file:///home/zhang/Projects/3d/ProteinWorkshop/proteinworkshop/models/base.py#438\" target=\"_blank\"><span style=\"color: #7f7f7f; text-decoration-color: #7f7f7f\">438</span></a>\n",
       "<span style=\"color: #7fbfbf; text-decoration-color: #7fbfbf\">                    </span>         <span style=\"color: #808000; text-decoration-color: #808000\">scalar_node_features</span>=<span style=\"font-weight: bold\">[</span><span style=\"color: #008000; text-decoration-color: #008000\">'amino_acid_one_hot'</span><span style=\"font-weight: bold\">]</span>, <span style=\"color: #808000; text-decoration-color: #808000\">vector_node_features</span>=<span style=\"font-weight: bold\">[]</span>,      <span style=\"color: #7f7f7f; text-decoration-color: #7f7f7f\">           </span>\n",
       "<span style=\"color: #7fbfbf; text-decoration-color: #7fbfbf\">                    </span>         <span style=\"color: #808000; text-decoration-color: #808000\">edge_types</span>=<span style=\"font-weight: bold\">[</span><span style=\"color: #008000; text-decoration-color: #008000\">'knn_16'</span><span style=\"font-weight: bold\">]</span>, <span style=\"color: #808000; text-decoration-color: #808000\">scalar_edge_features</span>=<span style=\"font-weight: bold\">[</span><span style=\"color: #008000; text-decoration-color: #008000\">'edge_distance'</span><span style=\"font-weight: bold\">]</span>,             <span style=\"color: #7f7f7f; text-decoration-color: #7f7f7f\">           </span>\n",
       "<span style=\"color: #7fbfbf; text-decoration-color: #7fbfbf\">                    </span>         <span style=\"color: #808000; text-decoration-color: #808000\">vector_edge_features</span>=<span style=\"font-weight: bold\">[])</span>                                                   <span style=\"color: #7f7f7f; text-decoration-color: #7f7f7f\">           </span>\n",
       "</pre>\n"
      ],
      "text/plain": [
       "\u001b[2;36m                   \u001b[0m\u001b[2;36m \u001b[0m\u001b[34mINFO    \u001b[0m \u001b[1;35mProteinFeaturiser\u001b[0m\u001b[1m(\u001b[0m\u001b[33mrepresentation\u001b[0m=\u001b[35mCA\u001b[0m,                                       \u001b]8;id=383269;file:///home/zhang/Projects/3d/ProteinWorkshop/proteinworkshop/models/base.py\u001b\\\u001b[2mbase.py\u001b[0m\u001b]8;;\u001b\\\u001b[2m:\u001b[0m\u001b]8;id=264664;file:///home/zhang/Projects/3d/ProteinWorkshop/proteinworkshop/models/base.py#438\u001b\\\u001b[2m438\u001b[0m\u001b]8;;\u001b\\\n",
       "\u001b[2;36m                    \u001b[0m         \u001b[33mscalar_node_features\u001b[0m=\u001b[1m[\u001b[0m\u001b[32m'amino_acid_one_hot'\u001b[0m\u001b[1m]\u001b[0m, \u001b[33mvector_node_features\u001b[0m=\u001b[1m[\u001b[0m\u001b[1m]\u001b[0m,      \u001b[2m           \u001b[0m\n",
       "\u001b[2;36m                    \u001b[0m         \u001b[33medge_types\u001b[0m=\u001b[1m[\u001b[0m\u001b[32m'knn_16'\u001b[0m\u001b[1m]\u001b[0m, \u001b[33mscalar_edge_features\u001b[0m=\u001b[1m[\u001b[0m\u001b[32m'edge_distance'\u001b[0m\u001b[1m]\u001b[0m,             \u001b[2m           \u001b[0m\n",
       "\u001b[2;36m                    \u001b[0m         \u001b[33mvector_edge_features\u001b[0m=\u001b[1m[\u001b[0m\u001b[1m]\u001b[0m\u001b[1m)\u001b[0m                                                   \u001b[2m           \u001b[0m\n"
      ]
     },
     "metadata": {},
     "output_type": "display_data"
    },
    {
     "data": {
      "text/html": [
       "<pre style=\"white-space:pre;overflow-x:auto;line-height:normal;font-family:Menlo,'DejaVu Sans Mono',consolas,'Courier New',monospace\"><span style=\"color: #7fbfbf; text-decoration-color: #7fbfbf\">                    </span><span style=\"color: #000080; text-decoration-color: #000080\">INFO    </span> Instantiating task transform<span style=\"color: #808000; text-decoration-color: #808000\">...</span>                                            <a href=\"file:///home/zhang/Projects/3d/ProteinWorkshop/proteinworkshop/models/base.py\" target=\"_blank\"><span style=\"color: #7f7f7f; text-decoration-color: #7f7f7f\">base.py</span></a><span style=\"color: #7f7f7f; text-decoration-color: #7f7f7f\">:</span><a href=\"file:///home/zhang/Projects/3d/ProteinWorkshop/proteinworkshop/models/base.py#440\" target=\"_blank\"><span style=\"color: #7f7f7f; text-decoration-color: #7f7f7f\">440</span></a>\n",
       "</pre>\n"
      ],
      "text/plain": [
       "\u001b[2;36m                   \u001b[0m\u001b[2;36m \u001b[0m\u001b[34mINFO    \u001b[0m Instantiating task transform\u001b[33m...\u001b[0m                                            \u001b]8;id=813633;file:///home/zhang/Projects/3d/ProteinWorkshop/proteinworkshop/models/base.py\u001b\\\u001b[2mbase.py\u001b[0m\u001b]8;;\u001b\\\u001b[2m:\u001b[0m\u001b]8;id=984955;file:///home/zhang/Projects/3d/ProteinWorkshop/proteinworkshop/models/base.py#440\u001b\\\u001b[2m440\u001b[0m\u001b]8;;\u001b\\\n"
      ]
     },
     "metadata": {},
     "output_type": "display_data"
    },
    {
     "data": {
      "text/html": [
       "<pre style=\"white-space:pre;overflow-x:auto;line-height:normal;font-family:Menlo,'DejaVu Sans Mono',consolas,'Courier New',monospace\"><span style=\"color: #7fbfbf; text-decoration-color: #7fbfbf\">                    </span><span style=\"color: #000080; text-decoration-color: #000080\">INFO    </span> <span style=\"color: #800080; text-decoration-color: #800080; font-style: italic\">None</span>                                                                       <a href=\"file:///home/zhang/Projects/3d/ProteinWorkshop/proteinworkshop/models/base.py\" target=\"_blank\"><span style=\"color: #7f7f7f; text-decoration-color: #7f7f7f\">base.py</span></a><span style=\"color: #7f7f7f; text-decoration-color: #7f7f7f\">:</span><a href=\"file:///home/zhang/Projects/3d/ProteinWorkshop/proteinworkshop/models/base.py#444\" target=\"_blank\"><span style=\"color: #7f7f7f; text-decoration-color: #7f7f7f\">444</span></a>\n",
       "</pre>\n"
      ],
      "text/plain": [
       "\u001b[2;36m                   \u001b[0m\u001b[2;36m \u001b[0m\u001b[34mINFO    \u001b[0m \u001b[3;35mNone\u001b[0m                                                                       \u001b]8;id=717060;file:///home/zhang/Projects/3d/ProteinWorkshop/proteinworkshop/models/base.py\u001b\\\u001b[2mbase.py\u001b[0m\u001b]8;;\u001b\\\u001b[2m:\u001b[0m\u001b]8;id=888669;file:///home/zhang/Projects/3d/ProteinWorkshop/proteinworkshop/models/base.py#444\u001b\\\u001b[2m444\u001b[0m\u001b]8;;\u001b\\\n"
      ]
     },
     "metadata": {},
     "output_type": "display_data"
    },
    {
     "data": {
      "text/html": [
       "<pre style=\"white-space:pre;overflow-x:auto;line-height:normal;font-family:Menlo,'DejaVu Sans Mono',consolas,'Courier New',monospace\"><span style=\"color: #7fbfbf; text-decoration-color: #7fbfbf\">[07/22/24 16:26:43] </span><span style=\"color: #000080; text-decoration-color: #000080\">INFO    </span> Initializing lazy layers<span style=\"color: #808000; text-decoration-color: #808000\">...</span>                                               <a href=\"file:///home/zhang/Projects/3d/ProteinWorkshop/proteinworkshop/train.py\" target=\"_blank\"><span style=\"color: #7f7f7f; text-decoration-color: #7f7f7f\">train.py</span></a><span style=\"color: #7f7f7f; text-decoration-color: #7f7f7f\">:</span><a href=\"file:///home/zhang/Projects/3d/ProteinWorkshop/proteinworkshop/train.py#145\" target=\"_blank\"><span style=\"color: #7f7f7f; text-decoration-color: #7f7f7f\">145</span></a>\n",
       "</pre>\n"
      ],
      "text/plain": [
       "\u001b[2;36m[07/22/24 16:26:43]\u001b[0m\u001b[2;36m \u001b[0m\u001b[34mINFO    \u001b[0m Initializing lazy layers\u001b[33m...\u001b[0m                                               \u001b]8;id=889536;file:///home/zhang/Projects/3d/ProteinWorkshop/proteinworkshop/train.py\u001b\\\u001b[2mtrain.py\u001b[0m\u001b]8;;\u001b\\\u001b[2m:\u001b[0m\u001b]8;id=276138;file:///home/zhang/Projects/3d/ProteinWorkshop/proteinworkshop/train.py#145\u001b\\\u001b[2m145\u001b[0m\u001b]8;;\u001b\\\n"
      ]
     },
     "metadata": {},
     "output_type": "display_data"
    },
    {
     "data": {
      "text/html": [
       "<pre style=\"white-space:pre;overflow-x:auto;line-height:normal;font-family:Menlo,'DejaVu Sans Mono',consolas,'Courier New',monospace\"><span style=\"color: #7fbfbf; text-decoration-color: #7fbfbf\">                    </span><span style=\"color: #000080; text-decoration-color: #000080\">INFO    </span> Downloading Protein Function. Fraction <span style=\"color: #008080; text-decoration-color: #008080; font-weight: bold\">1.0</span>                   <a href=\"file:///home/zhang/Projects/3d/ProteinWorkshop/proteinworkshop/datasets/fold_classification.py\" target=\"_blank\"><span style=\"color: #7f7f7f; text-decoration-color: #7f7f7f\">fold_classification.py</span></a><span style=\"color: #7f7f7f; text-decoration-color: #7f7f7f\">:</span><a href=\"file:///home/zhang/Projects/3d/ProteinWorkshop/proteinworkshop/datasets/fold_classification.py#86\" target=\"_blank\"><span style=\"color: #7f7f7f; text-decoration-color: #7f7f7f\">86</span></a>\n",
       "</pre>\n"
      ],
      "text/plain": [
       "\u001b[2;36m                   \u001b[0m\u001b[2;36m \u001b[0m\u001b[34mINFO    \u001b[0m Downloading Protein Function. Fraction \u001b[1;36m1.0\u001b[0m                   \u001b]8;id=533883;file:///home/zhang/Projects/3d/ProteinWorkshop/proteinworkshop/datasets/fold_classification.py\u001b\\\u001b[2mfold_classification.py\u001b[0m\u001b]8;;\u001b\\\u001b[2m:\u001b[0m\u001b]8;id=255940;file:///home/zhang/Projects/3d/ProteinWorkshop/proteinworkshop/datasets/fold_classification.py#86\u001b\\\u001b[2m86\u001b[0m\u001b]8;;\u001b\\\n"
      ]
     },
     "metadata": {},
     "output_type": "display_data"
    },
    {
     "data": {
      "text/html": [
       "<pre style=\"white-space:pre;overflow-x:auto;line-height:normal;font-family:Menlo,'DejaVu Sans Mono',consolas,'Courier New',monospace\"><span style=\"color: #7fbfbf; text-decoration-color: #7fbfbf\">                    </span><span style=\"color: #000080; text-decoration-color: #000080\">INFO    </span> Found SCOP structure tarfile in:                            <a href=\"file:///home/zhang/Projects/3d/ProteinWorkshop/proteinworkshop/datasets/fold_classification.py\" target=\"_blank\"><span style=\"color: #7f7f7f; text-decoration-color: #7f7f7f\">fold_classification.py</span></a><span style=\"color: #7f7f7f; text-decoration-color: #7f7f7f\">:</span><a href=\"file:///home/zhang/Projects/3d/ProteinWorkshop/proteinworkshop/datasets/fold_classification.py#138\" target=\"_blank\"><span style=\"color: #7f7f7f; text-decoration-color: #7f7f7f\">138</span></a>\n",
       "<span style=\"color: #7fbfbf; text-decoration-color: #7fbfbf\">                    </span>         <span style=\"color: #800080; text-decoration-color: #800080\">/home/zhang/Projects/3d/ProteinWorkshop/proteinworkshop/dat</span> <span style=\"color: #7f7f7f; text-decoration-color: #7f7f7f\">                          </span>\n",
       "<span style=\"color: #7fbfbf; text-decoration-color: #7fbfbf\">                    </span>         <span style=\"color: #800080; text-decoration-color: #800080\">a/FoldClassification/</span><span style=\"color: #ff00ff; text-decoration-color: #ff00ff\">pdbstyle-sel-gs-bib-95-1.75.tgz</span>        <span style=\"color: #7f7f7f; text-decoration-color: #7f7f7f\">                          </span>\n",
       "</pre>\n"
      ],
      "text/plain": [
       "\u001b[2;36m                   \u001b[0m\u001b[2;36m \u001b[0m\u001b[34mINFO    \u001b[0m Found SCOP structure tarfile in:                            \u001b]8;id=107015;file:///home/zhang/Projects/3d/ProteinWorkshop/proteinworkshop/datasets/fold_classification.py\u001b\\\u001b[2mfold_classification.py\u001b[0m\u001b]8;;\u001b\\\u001b[2m:\u001b[0m\u001b]8;id=241394;file:///home/zhang/Projects/3d/ProteinWorkshop/proteinworkshop/datasets/fold_classification.py#138\u001b\\\u001b[2m138\u001b[0m\u001b]8;;\u001b\\\n",
       "\u001b[2;36m                    \u001b[0m         \u001b[35m/home/zhang/Projects/3d/ProteinWorkshop/proteinworkshop/dat\u001b[0m \u001b[2m                          \u001b[0m\n",
       "\u001b[2;36m                    \u001b[0m         \u001b[35ma/FoldClassification/\u001b[0m\u001b[95mpdbstyle-sel-gs-bib-95-1.75.tgz\u001b[0m        \u001b[2m                          \u001b[0m\n"
      ]
     },
     "metadata": {},
     "output_type": "display_data"
    },
    {
     "data": {
      "text/html": [
       "<pre style=\"white-space:pre;overflow-x:auto;line-height:normal;font-family:Menlo,'DejaVu Sans Mono',consolas,'Courier New',monospace\"><span style=\"color: #7fbfbf; text-decoration-color: #7fbfbf\">                    </span><span style=\"color: #000080; text-decoration-color: #000080\">INFO    </span> Found SCOPe structures in:                                  <a href=\"file:///home/zhang/Projects/3d/ProteinWorkshop/proteinworkshop/datasets/fold_classification.py\" target=\"_blank\"><span style=\"color: #7f7f7f; text-decoration-color: #7f7f7f\">fold_classification.py</span></a><span style=\"color: #7f7f7f; text-decoration-color: #7f7f7f\">:</span><a href=\"file:///home/zhang/Projects/3d/ProteinWorkshop/proteinworkshop/datasets/fold_classification.py#151\" target=\"_blank\"><span style=\"color: #7f7f7f; text-decoration-color: #7f7f7f\">151</span></a>\n",
       "</pre>\n"
      ],
      "text/plain": [
       "\u001b[2;36m                   \u001b[0m\u001b[2;36m \u001b[0m\u001b[34mINFO    \u001b[0m Found SCOPe structures in:                                  \u001b]8;id=80640;file:///home/zhang/Projects/3d/ProteinWorkshop/proteinworkshop/datasets/fold_classification.py\u001b\\\u001b[2mfold_classification.py\u001b[0m\u001b]8;;\u001b\\\u001b[2m:\u001b[0m\u001b]8;id=553243;file:///home/zhang/Projects/3d/ProteinWorkshop/proteinworkshop/datasets/fold_classification.py#151\u001b\\\u001b[2m151\u001b[0m\u001b]8;;\u001b\\\n"
      ]
     },
     "metadata": {},
     "output_type": "display_data"
    },
    {
     "data": {
      "text/html": [
       "<pre style=\"white-space:pre;overflow-x:auto;line-height:normal;font-family:Menlo,'DejaVu Sans Mono',consolas,'Courier New',monospace\"><span style=\"color: #7fbfbf; text-decoration-color: #7fbfbf\">                    </span><span style=\"color: #000080; text-decoration-color: #000080\">INFO    </span> Preprocessing validation data                                               <a href=\"file:///home/zhang/Projects/3d/ProteinWorkshop/proteinworkshop/datasets/base.py\" target=\"_blank\"><span style=\"color: #7f7f7f; text-decoration-color: #7f7f7f\">base.py</span></a><span style=\"color: #7f7f7f; text-decoration-color: #7f7f7f\">:</span><a href=\"file:///home/zhang/Projects/3d/ProteinWorkshop/proteinworkshop/datasets/base.py#99\" target=\"_blank\"><span style=\"color: #7f7f7f; text-decoration-color: #7f7f7f\">99</span></a>\n",
       "</pre>\n"
      ],
      "text/plain": [
       "\u001b[2;36m                   \u001b[0m\u001b[2;36m \u001b[0m\u001b[34mINFO    \u001b[0m Preprocessing validation data                                               \u001b]8;id=791515;file:///home/zhang/Projects/3d/ProteinWorkshop/proteinworkshop/datasets/base.py\u001b\\\u001b[2mbase.py\u001b[0m\u001b]8;;\u001b\\\u001b[2m:\u001b[0m\u001b]8;id=555822;file:///home/zhang/Projects/3d/ProteinWorkshop/proteinworkshop/datasets/base.py#99\u001b\\\u001b[2m99\u001b[0m\u001b]8;;\u001b\\\n"
      ]
     },
     "metadata": {},
     "output_type": "display_data"
    },
    {
     "data": {
      "text/html": [
       "<pre style=\"white-space:pre;overflow-x:auto;line-height:normal;font-family:Menlo,'DejaVu Sans Mono',consolas,'Courier New',monospace\"><span style=\"color: #7fbfbf; text-decoration-color: #7fbfbf\">                    </span><span style=\"color: #000080; text-decoration-color: #000080\">INFO    </span> Reading labels from:                                        <a href=\"file:///home/zhang/Projects/3d/ProteinWorkshop/proteinworkshop/datasets/fold_classification.py\" target=\"_blank\"><span style=\"color: #7f7f7f; text-decoration-color: #7f7f7f\">fold_classification.py</span></a><span style=\"color: #7f7f7f; text-decoration-color: #7f7f7f\">:</span><a href=\"file:///home/zhang/Projects/3d/ProteinWorkshop/proteinworkshop/datasets/fold_classification.py#154\" target=\"_blank\"><span style=\"color: #7f7f7f; text-decoration-color: #7f7f7f\">154</span></a>\n",
       "<span style=\"color: #7fbfbf; text-decoration-color: #7fbfbf\">                    </span>         <span style=\"color: #800080; text-decoration-color: #800080\">/home/zhang/Projects/3d/ProteinWorkshop/proteinworkshop/dat</span> <span style=\"color: #7f7f7f; text-decoration-color: #7f7f7f\">                          </span>\n",
       "<span style=\"color: #7fbfbf; text-decoration-color: #7fbfbf\">                    </span>         <span style=\"color: #800080; text-decoration-color: #800080\">a/FoldClassification/</span><span style=\"color: #ff00ff; text-decoration-color: #ff00ff\">class_map.txt</span>                          <span style=\"color: #7f7f7f; text-decoration-color: #7f7f7f\">                          </span>\n",
       "</pre>\n"
      ],
      "text/plain": [
       "\u001b[2;36m                   \u001b[0m\u001b[2;36m \u001b[0m\u001b[34mINFO    \u001b[0m Reading labels from:                                        \u001b]8;id=449411;file:///home/zhang/Projects/3d/ProteinWorkshop/proteinworkshop/datasets/fold_classification.py\u001b\\\u001b[2mfold_classification.py\u001b[0m\u001b]8;;\u001b\\\u001b[2m:\u001b[0m\u001b]8;id=954709;file:///home/zhang/Projects/3d/ProteinWorkshop/proteinworkshop/datasets/fold_classification.py#154\u001b\\\u001b[2m154\u001b[0m\u001b]8;;\u001b\\\n",
       "\u001b[2;36m                    \u001b[0m         \u001b[35m/home/zhang/Projects/3d/ProteinWorkshop/proteinworkshop/dat\u001b[0m \u001b[2m                          \u001b[0m\n",
       "\u001b[2;36m                    \u001b[0m         \u001b[35ma/FoldClassification/\u001b[0m\u001b[95mclass_map.txt\u001b[0m                          \u001b[2m                          \u001b[0m\n"
      ]
     },
     "metadata": {},
     "output_type": "display_data"
    },
    {
     "data": {
      "text/html": [
       "<pre style=\"white-space:pre;overflow-x:auto;line-height:normal;font-family:Menlo,'DejaVu Sans Mono',consolas,'Courier New',monospace\"><span style=\"color: #7fbfbf; text-decoration-color: #7fbfbf\">                    </span><span style=\"color: #000080; text-decoration-color: #000080\">INFO    </span> Found <span style=\"color: #008080; text-decoration-color: #008080; font-weight: bold\">736</span> original examples in validation                   <a href=\"file:///home/zhang/Projects/3d/ProteinWorkshop/proteinworkshop/datasets/fold_classification.py\" target=\"_blank\"><span style=\"color: #7f7f7f; text-decoration-color: #7f7f7f\">fold_classification.py</span></a><span style=\"color: #7f7f7f; text-decoration-color: #7f7f7f\">:</span><a href=\"file:///home/zhang/Projects/3d/ProteinWorkshop/proteinworkshop/datasets/fold_classification.py#234\" target=\"_blank\"><span style=\"color: #7f7f7f; text-decoration-color: #7f7f7f\">234</span></a>\n",
       "</pre>\n"
      ],
      "text/plain": [
       "\u001b[2;36m                   \u001b[0m\u001b[2;36m \u001b[0m\u001b[34mINFO    \u001b[0m Found \u001b[1;36m736\u001b[0m original examples in validation                   \u001b]8;id=365924;file:///home/zhang/Projects/3d/ProteinWorkshop/proteinworkshop/datasets/fold_classification.py\u001b\\\u001b[2mfold_classification.py\u001b[0m\u001b]8;;\u001b\\\u001b[2m:\u001b[0m\u001b]8;id=618395;file:///home/zhang/Projects/3d/ProteinWorkshop/proteinworkshop/datasets/fold_classification.py#234\u001b\\\u001b[2m234\u001b[0m\u001b]8;;\u001b\\\n"
      ]
     },
     "metadata": {},
     "output_type": "display_data"
    },
    {
     "data": {
      "text/html": [
       "<pre style=\"white-space:pre;overflow-x:auto;line-height:normal;font-family:Menlo,'DejaVu Sans Mono',consolas,'Courier New',monospace\"><span style=\"color: #7fbfbf; text-decoration-color: #7fbfbf\">                    </span><span style=\"color: #000080; text-decoration-color: #000080\">INFO    </span> Identified <span style=\"color: #008080; text-decoration-color: #008080; font-weight: bold\">319</span> classes                                      <a href=\"file:///home/zhang/Projects/3d/ProteinWorkshop/proteinworkshop/datasets/fold_classification.py\" target=\"_blank\"><span style=\"color: #7f7f7f; text-decoration-color: #7f7f7f\">fold_classification.py</span></a><span style=\"color: #7f7f7f; text-decoration-color: #7f7f7f\">:</span><a href=\"file:///home/zhang/Projects/3d/ProteinWorkshop/proteinworkshop/datasets/fold_classification.py#247\" target=\"_blank\"><span style=\"color: #7f7f7f; text-decoration-color: #7f7f7f\">247</span></a>\n",
       "</pre>\n"
      ],
      "text/plain": [
       "\u001b[2;36m                   \u001b[0m\u001b[2;36m \u001b[0m\u001b[34mINFO    \u001b[0m Identified \u001b[1;36m319\u001b[0m classes                                      \u001b]8;id=255198;file:///home/zhang/Projects/3d/ProteinWorkshop/proteinworkshop/datasets/fold_classification.py\u001b\\\u001b[2mfold_classification.py\u001b[0m\u001b]8;;\u001b\\\u001b[2m:\u001b[0m\u001b]8;id=824350;file:///home/zhang/Projects/3d/ProteinWorkshop/proteinworkshop/datasets/fold_classification.py#247\u001b\\\u001b[2m247\u001b[0m\u001b]8;;\u001b\\\n"
      ]
     },
     "metadata": {},
     "output_type": "display_data"
    },
    {
     "data": {
      "text/html": [
       "<pre style=\"white-space:pre;overflow-x:auto;line-height:normal;font-family:Menlo,'DejaVu Sans Mono',consolas,'Courier New',monospace\"><span style=\"color: #7fbfbf; text-decoration-color: #7fbfbf\">                    </span><span style=\"color: #000080; text-decoration-color: #000080\">INFO    </span> All structures already processed and <span style=\"color: #808000; text-decoration-color: #808000\">overwrite</span>=<span style=\"color: #ff0000; text-decoration-color: #ff0000; font-style: italic\">False</span>. Skipping download.   <a href=\"file:///home/zhang/Projects/3d/ProteinWorkshop/proteinworkshop/datasets/base.py\" target=\"_blank\"><span style=\"color: #7f7f7f; text-decoration-color: #7f7f7f\">base.py</span></a><span style=\"color: #7f7f7f; text-decoration-color: #7f7f7f\">:</span><a href=\"file:///home/zhang/Projects/3d/ProteinWorkshop/proteinworkshop/datasets/base.py#327\" target=\"_blank\"><span style=\"color: #7f7f7f; text-decoration-color: #7f7f7f\">327</span></a>\n",
       "</pre>\n"
      ],
      "text/plain": [
       "\u001b[2;36m                   \u001b[0m\u001b[2;36m \u001b[0m\u001b[34mINFO    \u001b[0m All structures already processed and \u001b[33moverwrite\u001b[0m=\u001b[3;91mFalse\u001b[0m. Skipping download.   \u001b]8;id=128792;file:///home/zhang/Projects/3d/ProteinWorkshop/proteinworkshop/datasets/base.py\u001b\\\u001b[2mbase.py\u001b[0m\u001b]8;;\u001b\\\u001b[2m:\u001b[0m\u001b]8;id=695597;file:///home/zhang/Projects/3d/ProteinWorkshop/proteinworkshop/datasets/base.py#327\u001b\\\u001b[2m327\u001b[0m\u001b]8;;\u001b\\\n"
      ]
     },
     "metadata": {},
     "output_type": "display_data"
    },
    {
     "data": {
      "text/html": [
       "<pre style=\"white-space:pre;overflow-x:auto;line-height:normal;font-family:Menlo,'DejaVu Sans Mono',consolas,'Courier New',monospace\"><span style=\"color: #7fbfbf; text-decoration-color: #7fbfbf\">                    </span><span style=\"color: #800000; text-decoration-color: #800000\">WARNING </span> Downloads in .ent format are assumed to be from ASTRAL. These data should  <a href=\"file:///home/zhang/Projects/3d/ProteinWorkshop/proteinworkshop/datasets/base.py\" target=\"_blank\"><span style=\"color: #7f7f7f; text-decoration-color: #7f7f7f\">base.py</span></a><span style=\"color: #7f7f7f; text-decoration-color: #7f7f7f\">:</span><a href=\"file:///home/zhang/Projects/3d/ProteinWorkshop/proteinworkshop/datasets/base.py#357\" target=\"_blank\"><span style=\"color: #7f7f7f; text-decoration-color: #7f7f7f\">357</span></a>\n",
       "<span style=\"color: #7fbfbf; text-decoration-color: #7fbfbf\">                    </span>         have already been downloaded                                               <span style=\"color: #7f7f7f; text-decoration-color: #7f7f7f\">           </span>\n",
       "</pre>\n"
      ],
      "text/plain": [
       "\u001b[2;36m                   \u001b[0m\u001b[2;36m \u001b[0m\u001b[31mWARNING \u001b[0m Downloads in .ent format are assumed to be from ASTRAL. These data should  \u001b]8;id=167356;file:///home/zhang/Projects/3d/ProteinWorkshop/proteinworkshop/datasets/base.py\u001b\\\u001b[2mbase.py\u001b[0m\u001b]8;;\u001b\\\u001b[2m:\u001b[0m\u001b]8;id=995289;file:///home/zhang/Projects/3d/ProteinWorkshop/proteinworkshop/datasets/base.py#357\u001b\\\u001b[2m357\u001b[0m\u001b]8;;\u001b\\\n",
       "\u001b[2;36m                    \u001b[0m         have already been downloaded                                               \u001b[2m           \u001b[0m\n"
      ]
     },
     "metadata": {},
     "output_type": "display_data"
    },
    {
     "data": {
      "text/html": [
       "<pre style=\"white-space:pre;overflow-x:auto;line-height:normal;font-family:Menlo,'DejaVu Sans Mono',consolas,'Courier New',monospace\"><span style=\"color: #7fbfbf; text-decoration-color: #7fbfbf\">                    </span><span style=\"color: #000080; text-decoration-color: #000080\">INFO    </span> Reading data into memory                                                   <a href=\"file:///home/zhang/Projects/3d/ProteinWorkshop/proteinworkshop/datasets/base.py\" target=\"_blank\"><span style=\"color: #7f7f7f; text-decoration-color: #7f7f7f\">base.py</span></a><span style=\"color: #7f7f7f; text-decoration-color: #7f7f7f\">:</span><a href=\"file:///home/zhang/Projects/3d/ProteinWorkshop/proteinworkshop/datasets/base.py#337\" target=\"_blank\"><span style=\"color: #7f7f7f; text-decoration-color: #7f7f7f\">337</span></a>\n",
       "</pre>\n"
      ],
      "text/plain": [
       "\u001b[2;36m                   \u001b[0m\u001b[2;36m \u001b[0m\u001b[34mINFO    \u001b[0m Reading data into memory                                                   \u001b]8;id=431674;file:///home/zhang/Projects/3d/ProteinWorkshop/proteinworkshop/datasets/base.py\u001b\\\u001b[2mbase.py\u001b[0m\u001b]8;;\u001b\\\u001b[2m:\u001b[0m\u001b]8;id=560449;file:///home/zhang/Projects/3d/ProteinWorkshop/proteinworkshop/datasets/base.py#337\u001b\\\u001b[2m337\u001b[0m\u001b]8;;\u001b\\\n"
      ]
     },
     "metadata": {},
     "output_type": "display_data"
    },
    {
     "name": "stderr",
     "output_type": "stream",
     "text": [
      "100%|██████████| 736/736 [00:00<00:00, 4759.52it/s]\n"
     ]
    },
    {
     "data": {
      "text/html": [
       "<pre style=\"white-space:pre;overflow-x:auto;line-height:normal;font-family:Menlo,'DejaVu Sans Mono',consolas,'Courier New',monospace\"><span style=\"color: #7fbfbf; text-decoration-color: #7fbfbf\">[07/22/24 16:26:44] </span><span style=\"color: #000080; text-decoration-color: #000080\">INFO    </span> Unfeaturized batch: <span style=\"color: #800080; text-decoration-color: #800080; font-weight: bold\">DataProteinBatch</span><span style=\"font-weight: bold\">(</span><span style=\"color: #808000; text-decoration-color: #808000\">fill_value</span>=<span style=\"color: #008080; text-decoration-color: #008080; font-weight: bold\">1e-05</span>, <span style=\"color: #808000; text-decoration-color: #808000\">atom_list</span>=<span style=\"font-weight: bold\">[</span><span style=\"color: #008080; text-decoration-color: #008080; font-weight: bold\">37</span><span style=\"font-weight: bold\">]</span>,    <a href=\"file:///home/zhang/Projects/3d/ProteinWorkshop/proteinworkshop/train.py\" target=\"_blank\"><span style=\"color: #7f7f7f; text-decoration-color: #7f7f7f\">train.py</span></a><span style=\"color: #7f7f7f; text-decoration-color: #7f7f7f\">:</span><a href=\"file:///home/zhang/Projects/3d/ProteinWorkshop/proteinworkshop/train.py#149\" target=\"_blank\"><span style=\"color: #7f7f7f; text-decoration-color: #7f7f7f\">149</span></a>\n",
       "<span style=\"color: #7fbfbf; text-decoration-color: #7fbfbf\">                    </span>         <span style=\"color: #808000; text-decoration-color: #808000\">coords</span>=<span style=\"font-weight: bold\">[</span><span style=\"color: #008080; text-decoration-color: #008080; font-weight: bold\">7747</span>, <span style=\"color: #008080; text-decoration-color: #008080; font-weight: bold\">37</span>, <span style=\"color: #008080; text-decoration-color: #008080; font-weight: bold\">3</span><span style=\"font-weight: bold\">]</span>, <span style=\"color: #808000; text-decoration-color: #808000\">residues</span>=<span style=\"font-weight: bold\">[</span><span style=\"color: #008080; text-decoration-color: #008080; font-weight: bold\">32</span><span style=\"font-weight: bold\">]</span>, <span style=\"color: #808000; text-decoration-color: #808000\">id</span>=<span style=\"font-weight: bold\">[</span><span style=\"color: #008080; text-decoration-color: #008080; font-weight: bold\">32</span><span style=\"font-weight: bold\">]</span>, <span style=\"color: #808000; text-decoration-color: #808000\">residue_id</span>=<span style=\"font-weight: bold\">[</span><span style=\"color: #008080; text-decoration-color: #008080; font-weight: bold\">32</span><span style=\"font-weight: bold\">]</span>,            <span style=\"color: #7f7f7f; text-decoration-color: #7f7f7f\">            </span>\n",
       "<span style=\"color: #7fbfbf; text-decoration-color: #7fbfbf\">                    </span>         <span style=\"color: #808000; text-decoration-color: #808000\">residue_type</span>=<span style=\"font-weight: bold\">[</span><span style=\"color: #008080; text-decoration-color: #008080; font-weight: bold\">7747</span><span style=\"font-weight: bold\">]</span>, <span style=\"color: #808000; text-decoration-color: #808000\">chains</span>=<span style=\"font-weight: bold\">[</span><span style=\"color: #008080; text-decoration-color: #008080; font-weight: bold\">7747</span><span style=\"font-weight: bold\">]</span>, <span style=\"color: #808000; text-decoration-color: #808000\">graph_y</span>=<span style=\"font-weight: bold\">[</span><span style=\"color: #008080; text-decoration-color: #008080; font-weight: bold\">32</span><span style=\"font-weight: bold\">]</span>, <span style=\"color: #808000; text-decoration-color: #808000\">x</span>=<span style=\"font-weight: bold\">[</span><span style=\"color: #008080; text-decoration-color: #008080; font-weight: bold\">7747</span><span style=\"font-weight: bold\">]</span>,               <span style=\"color: #7f7f7f; text-decoration-color: #7f7f7f\">            </span>\n",
       "<span style=\"color: #7fbfbf; text-decoration-color: #7fbfbf\">                    </span>         <span style=\"color: #808000; text-decoration-color: #808000\">amino_acid_one_hot</span>=<span style=\"font-weight: bold\">[</span><span style=\"color: #008080; text-decoration-color: #008080; font-weight: bold\">7747</span>, <span style=\"color: #008080; text-decoration-color: #008080; font-weight: bold\">23</span><span style=\"font-weight: bold\">]</span>, <span style=\"color: #808000; text-decoration-color: #808000\">seq_pos</span>=<span style=\"font-weight: bold\">[</span><span style=\"color: #008080; text-decoration-color: #008080; font-weight: bold\">7747</span>, <span style=\"color: #008080; text-decoration-color: #008080; font-weight: bold\">1</span><span style=\"font-weight: bold\">]</span>, <span style=\"color: #808000; text-decoration-color: #808000\">batch</span>=<span style=\"font-weight: bold\">[</span><span style=\"color: #008080; text-decoration-color: #008080; font-weight: bold\">7747</span><span style=\"font-weight: bold\">]</span>, <span style=\"color: #808000; text-decoration-color: #808000\">ptr</span>=<span style=\"font-weight: bold\">[</span><span style=\"color: #008080; text-decoration-color: #008080; font-weight: bold\">33</span><span style=\"font-weight: bold\">])</span> <span style=\"color: #7f7f7f; text-decoration-color: #7f7f7f\">            </span>\n",
       "</pre>\n"
      ],
      "text/plain": [
       "\u001b[2;36m[07/22/24 16:26:44]\u001b[0m\u001b[2;36m \u001b[0m\u001b[34mINFO    \u001b[0m Unfeaturized batch: \u001b[1;35mDataProteinBatch\u001b[0m\u001b[1m(\u001b[0m\u001b[33mfill_value\u001b[0m=\u001b[1;36m1e\u001b[0m\u001b[1;36m-05\u001b[0m, \u001b[33matom_list\u001b[0m=\u001b[1m[\u001b[0m\u001b[1;36m37\u001b[0m\u001b[1m]\u001b[0m,    \u001b]8;id=746616;file:///home/zhang/Projects/3d/ProteinWorkshop/proteinworkshop/train.py\u001b\\\u001b[2mtrain.py\u001b[0m\u001b]8;;\u001b\\\u001b[2m:\u001b[0m\u001b]8;id=85776;file:///home/zhang/Projects/3d/ProteinWorkshop/proteinworkshop/train.py#149\u001b\\\u001b[2m149\u001b[0m\u001b]8;;\u001b\\\n",
       "\u001b[2;36m                    \u001b[0m         \u001b[33mcoords\u001b[0m=\u001b[1m[\u001b[0m\u001b[1;36m7747\u001b[0m, \u001b[1;36m37\u001b[0m, \u001b[1;36m3\u001b[0m\u001b[1m]\u001b[0m, \u001b[33mresidues\u001b[0m=\u001b[1m[\u001b[0m\u001b[1;36m32\u001b[0m\u001b[1m]\u001b[0m, \u001b[33mid\u001b[0m=\u001b[1m[\u001b[0m\u001b[1;36m32\u001b[0m\u001b[1m]\u001b[0m, \u001b[33mresidue_id\u001b[0m=\u001b[1m[\u001b[0m\u001b[1;36m32\u001b[0m\u001b[1m]\u001b[0m,            \u001b[2m            \u001b[0m\n",
       "\u001b[2;36m                    \u001b[0m         \u001b[33mresidue_type\u001b[0m=\u001b[1m[\u001b[0m\u001b[1;36m7747\u001b[0m\u001b[1m]\u001b[0m, \u001b[33mchains\u001b[0m=\u001b[1m[\u001b[0m\u001b[1;36m7747\u001b[0m\u001b[1m]\u001b[0m, \u001b[33mgraph_y\u001b[0m=\u001b[1m[\u001b[0m\u001b[1;36m32\u001b[0m\u001b[1m]\u001b[0m, \u001b[33mx\u001b[0m=\u001b[1m[\u001b[0m\u001b[1;36m7747\u001b[0m\u001b[1m]\u001b[0m,               \u001b[2m            \u001b[0m\n",
       "\u001b[2;36m                    \u001b[0m         \u001b[33mamino_acid_one_hot\u001b[0m=\u001b[1m[\u001b[0m\u001b[1;36m7747\u001b[0m, \u001b[1;36m23\u001b[0m\u001b[1m]\u001b[0m, \u001b[33mseq_pos\u001b[0m=\u001b[1m[\u001b[0m\u001b[1;36m7747\u001b[0m, \u001b[1;36m1\u001b[0m\u001b[1m]\u001b[0m, \u001b[33mbatch\u001b[0m=\u001b[1m[\u001b[0m\u001b[1;36m7747\u001b[0m\u001b[1m]\u001b[0m, \u001b[33mptr\u001b[0m=\u001b[1m[\u001b[0m\u001b[1;36m33\u001b[0m\u001b[1m]\u001b[0m\u001b[1m)\u001b[0m \u001b[2m            \u001b[0m\n"
      ]
     },
     "metadata": {},
     "output_type": "display_data"
    },
    {
     "data": {
      "text/html": [
       "<pre style=\"white-space:pre;overflow-x:auto;line-height:normal;font-family:Menlo,'DejaVu Sans Mono',consolas,'Courier New',monospace\"><span style=\"color: #7fbfbf; text-decoration-color: #7fbfbf\">                    </span><span style=\"color: #000080; text-decoration-color: #000080\">INFO    </span> Featurized batch: <span style=\"color: #800080; text-decoration-color: #800080; font-weight: bold\">DataProteinBatch</span><span style=\"font-weight: bold\">(</span><span style=\"color: #808000; text-decoration-color: #808000\">fill_value</span>=<span style=\"color: #008080; text-decoration-color: #008080; font-weight: bold\">1e-05</span>, <span style=\"color: #808000; text-decoration-color: #808000\">atom_list</span>=<span style=\"font-weight: bold\">[</span><span style=\"color: #008080; text-decoration-color: #008080; font-weight: bold\">37</span><span style=\"font-weight: bold\">]</span>,      <a href=\"file:///home/zhang/Projects/3d/ProteinWorkshop/proteinworkshop/train.py\" target=\"_blank\"><span style=\"color: #7f7f7f; text-decoration-color: #7f7f7f\">train.py</span></a><span style=\"color: #7f7f7f; text-decoration-color: #7f7f7f\">:</span><a href=\"file:///home/zhang/Projects/3d/ProteinWorkshop/proteinworkshop/train.py#151\" target=\"_blank\"><span style=\"color: #7f7f7f; text-decoration-color: #7f7f7f\">151</span></a>\n",
       "<span style=\"color: #7fbfbf; text-decoration-color: #7fbfbf\">                    </span>         <span style=\"color: #808000; text-decoration-color: #808000\">coords</span>=<span style=\"font-weight: bold\">[</span><span style=\"color: #008080; text-decoration-color: #008080; font-weight: bold\">7747</span>, <span style=\"color: #008080; text-decoration-color: #008080; font-weight: bold\">37</span>, <span style=\"color: #008080; text-decoration-color: #008080; font-weight: bold\">3</span><span style=\"font-weight: bold\">]</span>, <span style=\"color: #808000; text-decoration-color: #808000\">residues</span>=<span style=\"font-weight: bold\">[</span><span style=\"color: #008080; text-decoration-color: #008080; font-weight: bold\">32</span><span style=\"font-weight: bold\">]</span>, <span style=\"color: #808000; text-decoration-color: #808000\">id</span>=<span style=\"font-weight: bold\">[</span><span style=\"color: #008080; text-decoration-color: #008080; font-weight: bold\">32</span><span style=\"font-weight: bold\">]</span>, <span style=\"color: #808000; text-decoration-color: #808000\">residue_id</span>=<span style=\"font-weight: bold\">[</span><span style=\"color: #008080; text-decoration-color: #008080; font-weight: bold\">32</span><span style=\"font-weight: bold\">]</span>,            <span style=\"color: #7f7f7f; text-decoration-color: #7f7f7f\">            </span>\n",
       "<span style=\"color: #7fbfbf; text-decoration-color: #7fbfbf\">                    </span>         <span style=\"color: #808000; text-decoration-color: #808000\">residue_type</span>=<span style=\"font-weight: bold\">[</span><span style=\"color: #008080; text-decoration-color: #008080; font-weight: bold\">7747</span><span style=\"font-weight: bold\">]</span>, <span style=\"color: #808000; text-decoration-color: #808000\">chains</span>=<span style=\"font-weight: bold\">[</span><span style=\"color: #008080; text-decoration-color: #008080; font-weight: bold\">7747</span><span style=\"font-weight: bold\">]</span>, <span style=\"color: #808000; text-decoration-color: #808000\">graph_y</span>=<span style=\"font-weight: bold\">[</span><span style=\"color: #008080; text-decoration-color: #008080; font-weight: bold\">32</span><span style=\"font-weight: bold\">]</span>, <span style=\"color: #808000; text-decoration-color: #808000\">x</span>=<span style=\"font-weight: bold\">[</span><span style=\"color: #008080; text-decoration-color: #008080; font-weight: bold\">7747</span>, <span style=\"color: #008080; text-decoration-color: #008080; font-weight: bold\">23</span><span style=\"font-weight: bold\">]</span>,           <span style=\"color: #7f7f7f; text-decoration-color: #7f7f7f\">            </span>\n",
       "<span style=\"color: #7fbfbf; text-decoration-color: #7fbfbf\">                    </span>         <span style=\"color: #808000; text-decoration-color: #808000\">amino_acid_one_hot</span>=<span style=\"font-weight: bold\">[</span><span style=\"color: #008080; text-decoration-color: #008080; font-weight: bold\">7747</span>, <span style=\"color: #008080; text-decoration-color: #008080; font-weight: bold\">23</span><span style=\"font-weight: bold\">]</span>, <span style=\"color: #808000; text-decoration-color: #808000\">seq_pos</span>=<span style=\"font-weight: bold\">[</span><span style=\"color: #008080; text-decoration-color: #008080; font-weight: bold\">7747</span>, <span style=\"color: #008080; text-decoration-color: #008080; font-weight: bold\">1</span><span style=\"font-weight: bold\">]</span>, <span style=\"color: #808000; text-decoration-color: #808000\">batch</span>=<span style=\"font-weight: bold\">[</span><span style=\"color: #008080; text-decoration-color: #008080; font-weight: bold\">7747</span><span style=\"font-weight: bold\">]</span>, <span style=\"color: #808000; text-decoration-color: #808000\">ptr</span>=<span style=\"font-weight: bold\">[</span><span style=\"color: #008080; text-decoration-color: #008080; font-weight: bold\">33</span><span style=\"font-weight: bold\">]</span>, <span style=\"color: #7f7f7f; text-decoration-color: #7f7f7f\">            </span>\n",
       "<span style=\"color: #7fbfbf; text-decoration-color: #7fbfbf\">                    </span>         <span style=\"color: #808000; text-decoration-color: #808000\">pos</span>=<span style=\"font-weight: bold\">[</span><span style=\"color: #008080; text-decoration-color: #008080; font-weight: bold\">7747</span>, <span style=\"color: #008080; text-decoration-color: #008080; font-weight: bold\">3</span><span style=\"font-weight: bold\">]</span>, <span style=\"color: #808000; text-decoration-color: #808000\">edge_index</span>=<span style=\"font-weight: bold\">[</span><span style=\"color: #008080; text-decoration-color: #008080; font-weight: bold\">2</span>, <span style=\"color: #008080; text-decoration-color: #008080; font-weight: bold\">123952</span><span style=\"font-weight: bold\">]</span>, <span style=\"color: #808000; text-decoration-color: #808000\">edge_type</span>=<span style=\"font-weight: bold\">[</span><span style=\"color: #008080; text-decoration-color: #008080; font-weight: bold\">1</span>, <span style=\"color: #008080; text-decoration-color: #008080; font-weight: bold\">123952</span><span style=\"font-weight: bold\">]</span>,             <span style=\"color: #7f7f7f; text-decoration-color: #7f7f7f\">            </span>\n",
       "<span style=\"color: #7fbfbf; text-decoration-color: #7fbfbf\">                    </span>         <span style=\"color: #808000; text-decoration-color: #808000\">num_relation</span>=<span style=\"color: #008080; text-decoration-color: #008080; font-weight: bold\">1</span>, <span style=\"color: #808000; text-decoration-color: #808000\">edge_attr</span>=<span style=\"font-weight: bold\">[</span><span style=\"color: #008080; text-decoration-color: #008080; font-weight: bold\">123952</span>, <span style=\"color: #008080; text-decoration-color: #008080; font-weight: bold\">1</span><span style=\"font-weight: bold\">])</span>                                    <span style=\"color: #7f7f7f; text-decoration-color: #7f7f7f\">            </span>\n",
       "</pre>\n"
      ],
      "text/plain": [
       "\u001b[2;36m                   \u001b[0m\u001b[2;36m \u001b[0m\u001b[34mINFO    \u001b[0m Featurized batch: \u001b[1;35mDataProteinBatch\u001b[0m\u001b[1m(\u001b[0m\u001b[33mfill_value\u001b[0m=\u001b[1;36m1e\u001b[0m\u001b[1;36m-05\u001b[0m, \u001b[33matom_list\u001b[0m=\u001b[1m[\u001b[0m\u001b[1;36m37\u001b[0m\u001b[1m]\u001b[0m,      \u001b]8;id=405975;file:///home/zhang/Projects/3d/ProteinWorkshop/proteinworkshop/train.py\u001b\\\u001b[2mtrain.py\u001b[0m\u001b]8;;\u001b\\\u001b[2m:\u001b[0m\u001b]8;id=843316;file:///home/zhang/Projects/3d/ProteinWorkshop/proteinworkshop/train.py#151\u001b\\\u001b[2m151\u001b[0m\u001b]8;;\u001b\\\n",
       "\u001b[2;36m                    \u001b[0m         \u001b[33mcoords\u001b[0m=\u001b[1m[\u001b[0m\u001b[1;36m7747\u001b[0m, \u001b[1;36m37\u001b[0m, \u001b[1;36m3\u001b[0m\u001b[1m]\u001b[0m, \u001b[33mresidues\u001b[0m=\u001b[1m[\u001b[0m\u001b[1;36m32\u001b[0m\u001b[1m]\u001b[0m, \u001b[33mid\u001b[0m=\u001b[1m[\u001b[0m\u001b[1;36m32\u001b[0m\u001b[1m]\u001b[0m, \u001b[33mresidue_id\u001b[0m=\u001b[1m[\u001b[0m\u001b[1;36m32\u001b[0m\u001b[1m]\u001b[0m,            \u001b[2m            \u001b[0m\n",
       "\u001b[2;36m                    \u001b[0m         \u001b[33mresidue_type\u001b[0m=\u001b[1m[\u001b[0m\u001b[1;36m7747\u001b[0m\u001b[1m]\u001b[0m, \u001b[33mchains\u001b[0m=\u001b[1m[\u001b[0m\u001b[1;36m7747\u001b[0m\u001b[1m]\u001b[0m, \u001b[33mgraph_y\u001b[0m=\u001b[1m[\u001b[0m\u001b[1;36m32\u001b[0m\u001b[1m]\u001b[0m, \u001b[33mx\u001b[0m=\u001b[1m[\u001b[0m\u001b[1;36m7747\u001b[0m, \u001b[1;36m23\u001b[0m\u001b[1m]\u001b[0m,           \u001b[2m            \u001b[0m\n",
       "\u001b[2;36m                    \u001b[0m         \u001b[33mamino_acid_one_hot\u001b[0m=\u001b[1m[\u001b[0m\u001b[1;36m7747\u001b[0m, \u001b[1;36m23\u001b[0m\u001b[1m]\u001b[0m, \u001b[33mseq_pos\u001b[0m=\u001b[1m[\u001b[0m\u001b[1;36m7747\u001b[0m, \u001b[1;36m1\u001b[0m\u001b[1m]\u001b[0m, \u001b[33mbatch\u001b[0m=\u001b[1m[\u001b[0m\u001b[1;36m7747\u001b[0m\u001b[1m]\u001b[0m, \u001b[33mptr\u001b[0m=\u001b[1m[\u001b[0m\u001b[1;36m33\u001b[0m\u001b[1m]\u001b[0m, \u001b[2m            \u001b[0m\n",
       "\u001b[2;36m                    \u001b[0m         \u001b[33mpos\u001b[0m=\u001b[1m[\u001b[0m\u001b[1;36m7747\u001b[0m, \u001b[1;36m3\u001b[0m\u001b[1m]\u001b[0m, \u001b[33medge_index\u001b[0m=\u001b[1m[\u001b[0m\u001b[1;36m2\u001b[0m, \u001b[1;36m123952\u001b[0m\u001b[1m]\u001b[0m, \u001b[33medge_type\u001b[0m=\u001b[1m[\u001b[0m\u001b[1;36m1\u001b[0m, \u001b[1;36m123952\u001b[0m\u001b[1m]\u001b[0m,             \u001b[2m            \u001b[0m\n",
       "\u001b[2;36m                    \u001b[0m         \u001b[33mnum_relation\u001b[0m=\u001b[1;36m1\u001b[0m, \u001b[33medge_attr\u001b[0m=\u001b[1m[\u001b[0m\u001b[1;36m123952\u001b[0m, \u001b[1;36m1\u001b[0m\u001b[1m]\u001b[0m\u001b[1m)\u001b[0m                                    \u001b[2m            \u001b[0m\n"
      ]
     },
     "metadata": {},
     "output_type": "display_data"
    },
    {
     "data": {
      "text/html": [
       "<pre style=\"white-space:pre;overflow-x:auto;line-height:normal;font-family:Menlo,'DejaVu Sans Mono',consolas,'Courier New',monospace\"><span style=\"color: #7fbfbf; text-decoration-color: #7fbfbf\">                    </span><span style=\"color: #000080; text-decoration-color: #000080\">INFO    </span> Example labels: <span style=\"font-weight: bold\">{</span><span style=\"color: #008000; text-decoration-color: #008000\">'graph_label'</span>: tensor<span style=\"font-weight: bold\">[</span><span style=\"color: #008080; text-decoration-color: #008080; font-weight: bold\">32</span><span style=\"font-weight: bold\">]</span> i64 x∈<span style=\"font-weight: bold\">[</span><span style=\"color: #008080; text-decoration-color: #008080; font-weight: bold\">0</span>, <span style=\"color: #008080; text-decoration-color: #008080; font-weight: bold\">128</span><span style=\"font-weight: bold\">]</span> <span style=\"color: #808000; text-decoration-color: #808000\">μ</span>=<span style=\"color: #008080; text-decoration-color: #008080; font-weight: bold\">103.312</span>       <a href=\"file:///home/zhang/Projects/3d/ProteinWorkshop/proteinworkshop/train.py\" target=\"_blank\"><span style=\"color: #7f7f7f; text-decoration-color: #7f7f7f\">train.py</span></a><span style=\"color: #7f7f7f; text-decoration-color: #7f7f7f\">:</span><a href=\"file:///home/zhang/Projects/3d/ProteinWorkshop/proteinworkshop/train.py#152\" target=\"_blank\"><span style=\"color: #7f7f7f; text-decoration-color: #7f7f7f\">152</span></a>\n",
       "<span style=\"color: #7fbfbf; text-decoration-color: #7fbfbf\">                    </span>         <span style=\"color: #808000; text-decoration-color: #808000\">σ</span>=<span style=\"color: #008080; text-decoration-color: #008080; font-weight: bold\">34.218</span><span style=\"font-weight: bold\">}</span>                                                                 <span style=\"color: #7f7f7f; text-decoration-color: #7f7f7f\">            </span>\n",
       "</pre>\n"
      ],
      "text/plain": [
       "\u001b[2;36m                   \u001b[0m\u001b[2;36m \u001b[0m\u001b[34mINFO    \u001b[0m Example labels: \u001b[1m{\u001b[0m\u001b[32m'graph_label'\u001b[0m: tensor\u001b[1m[\u001b[0m\u001b[1;36m32\u001b[0m\u001b[1m]\u001b[0m i64 x∈\u001b[1m[\u001b[0m\u001b[1;36m0\u001b[0m, \u001b[1;36m128\u001b[0m\u001b[1m]\u001b[0m \u001b[33mμ\u001b[0m=\u001b[1;36m103\u001b[0m\u001b[1;36m.312\u001b[0m       \u001b]8;id=83953;file:///home/zhang/Projects/3d/ProteinWorkshop/proteinworkshop/train.py\u001b\\\u001b[2mtrain.py\u001b[0m\u001b]8;;\u001b\\\u001b[2m:\u001b[0m\u001b]8;id=315852;file:///home/zhang/Projects/3d/ProteinWorkshop/proteinworkshop/train.py#152\u001b\\\u001b[2m152\u001b[0m\u001b]8;;\u001b\\\n",
       "\u001b[2;36m                    \u001b[0m         \u001b[33mσ\u001b[0m=\u001b[1;36m34\u001b[0m\u001b[1;36m.218\u001b[0m\u001b[1m}\u001b[0m                                                                 \u001b[2m            \u001b[0m\n"
      ]
     },
     "metadata": {},
     "output_type": "display_data"
    },
    {
     "name": "stdout",
     "output_type": "stream",
     "text": [
      "torch.Size([7747, 32])\n"
     ]
    },
    {
     "data": {
      "text/html": [
       "<pre style=\"white-space:pre;overflow-x:auto;line-height:normal;font-family:Menlo,'DejaVu Sans Mono',consolas,'Courier New',monospace\"><span style=\"color: #7fbfbf; text-decoration-color: #7fbfbf\">                    </span><span style=\"color: #000080; text-decoration-color: #000080\">INFO    </span> Model output: <span style=\"font-weight: bold\">{</span><span style=\"color: #008000; text-decoration-color: #008000\">'node_embedding'</span>: tensor<span style=\"font-weight: bold\">[</span><span style=\"color: #008080; text-decoration-color: #008080; font-weight: bold\">7747</span>, <span style=\"color: #008080; text-decoration-color: #008080; font-weight: bold\">32</span><span style=\"font-weight: bold\">]</span> <span style=\"color: #808000; text-decoration-color: #808000\">n</span>=<span style=\"color: #008080; text-decoration-color: #008080; font-weight: bold\">247904</span> <span style=\"font-weight: bold\">(</span><span style=\"color: #008080; text-decoration-color: #008080; font-weight: bold\">0.</span>9Mb<span style=\"font-weight: bold\">)</span>        <a href=\"file:///home/zhang/Projects/3d/ProteinWorkshop/proteinworkshop/train.py\" target=\"_blank\"><span style=\"color: #7f7f7f; text-decoration-color: #7f7f7f\">train.py</span></a><span style=\"color: #7f7f7f; text-decoration-color: #7f7f7f\">:</span><a href=\"file:///home/zhang/Projects/3d/ProteinWorkshop/proteinworkshop/train.py#160\" target=\"_blank\"><span style=\"color: #7f7f7f; text-decoration-color: #7f7f7f\">160</span></a>\n",
       "<span style=\"color: #7fbfbf; text-decoration-color: #7fbfbf\">                    </span>         x∈<span style=\"font-weight: bold\">[</span><span style=\"color: #008080; text-decoration-color: #008080; font-weight: bold\">-0.252</span>, <span style=\"color: #008080; text-decoration-color: #008080; font-weight: bold\">0.205</span><span style=\"font-weight: bold\">]</span> <span style=\"color: #808000; text-decoration-color: #808000\">μ</span>=<span style=\"color: #008080; text-decoration-color: #008080; font-weight: bold\">0.007</span> <span style=\"color: #808000; text-decoration-color: #808000\">σ</span>=<span style=\"color: #008080; text-decoration-color: #008080; font-weight: bold\">0.071</span>, <span style=\"color: #008000; text-decoration-color: #008000\">'graph_embedding'</span>: tensor<span style=\"font-weight: bold\">[</span><span style=\"color: #008080; text-decoration-color: #008080; font-weight: bold\">32</span>, <span style=\"color: #008080; text-decoration-color: #008080; font-weight: bold\">32</span><span style=\"font-weight: bold\">]</span>      <span style=\"color: #7f7f7f; text-decoration-color: #7f7f7f\">            </span>\n",
       "<span style=\"color: #7fbfbf; text-decoration-color: #7fbfbf\">                    </span>         <span style=\"color: #808000; text-decoration-color: #808000\">n</span>=<span style=\"color: #008080; text-decoration-color: #008080; font-weight: bold\">1024</span> <span style=\"font-weight: bold\">(</span>4Kb<span style=\"font-weight: bold\">)</span> x∈<span style=\"font-weight: bold\">[</span><span style=\"color: #008080; text-decoration-color: #008080; font-weight: bold\">-71.904</span>, <span style=\"color: #008080; text-decoration-color: #008080; font-weight: bold\">60.559</span><span style=\"font-weight: bold\">]</span> <span style=\"color: #808000; text-decoration-color: #808000\">μ</span>=<span style=\"color: #008080; text-decoration-color: #008080; font-weight: bold\">1.721</span> <span style=\"color: #808000; text-decoration-color: #808000\">σ</span>=<span style=\"color: #008080; text-decoration-color: #008080; font-weight: bold\">16.532</span>, <span style=\"color: #008000; text-decoration-color: #008000\">'graph_label'</span>:         <span style=\"color: #7f7f7f; text-decoration-color: #7f7f7f\">            </span>\n",
       "<span style=\"color: #7fbfbf; text-decoration-color: #7fbfbf\">                    </span>         tensor<span style=\"font-weight: bold\">[</span><span style=\"color: #008080; text-decoration-color: #008080; font-weight: bold\">32</span>, <span style=\"color: #008080; text-decoration-color: #008080; font-weight: bold\">1195</span><span style=\"font-weight: bold\">]</span> <span style=\"color: #808000; text-decoration-color: #808000\">n</span>=<span style=\"color: #008080; text-decoration-color: #008080; font-weight: bold\">38240</span> <span style=\"font-weight: bold\">(</span><span style=\"color: #008080; text-decoration-color: #008080; font-weight: bold\">0.</span>1Mb<span style=\"font-weight: bold\">)</span> x∈<span style=\"font-weight: bold\">[</span><span style=\"color: #008080; text-decoration-color: #008080; font-weight: bold\">-19.820</span>, <span style=\"color: #008080; text-decoration-color: #008080; font-weight: bold\">20.555</span><span style=\"font-weight: bold\">]</span> <span style=\"color: #808000; text-decoration-color: #808000\">μ</span>=<span style=\"color: #008080; text-decoration-color: #008080; font-weight: bold\">0.068</span> <span style=\"color: #808000; text-decoration-color: #808000\">σ</span>=<span style=\"color: #008080; text-decoration-color: #008080; font-weight: bold\">3.082</span><span style=\"font-weight: bold\">}</span>     <span style=\"color: #7f7f7f; text-decoration-color: #7f7f7f\">            </span>\n",
       "</pre>\n"
      ],
      "text/plain": [
       "\u001b[2;36m                   \u001b[0m\u001b[2;36m \u001b[0m\u001b[34mINFO    \u001b[0m Model output: \u001b[1m{\u001b[0m\u001b[32m'node_embedding'\u001b[0m: tensor\u001b[1m[\u001b[0m\u001b[1;36m7747\u001b[0m, \u001b[1;36m32\u001b[0m\u001b[1m]\u001b[0m \u001b[33mn\u001b[0m=\u001b[1;36m247904\u001b[0m \u001b[1m(\u001b[0m\u001b[1;36m0.\u001b[0m9Mb\u001b[1m)\u001b[0m        \u001b]8;id=561031;file:///home/zhang/Projects/3d/ProteinWorkshop/proteinworkshop/train.py\u001b\\\u001b[2mtrain.py\u001b[0m\u001b]8;;\u001b\\\u001b[2m:\u001b[0m\u001b]8;id=123257;file:///home/zhang/Projects/3d/ProteinWorkshop/proteinworkshop/train.py#160\u001b\\\u001b[2m160\u001b[0m\u001b]8;;\u001b\\\n",
       "\u001b[2;36m                    \u001b[0m         x∈\u001b[1m[\u001b[0m\u001b[1;36m-0.252\u001b[0m, \u001b[1;36m0.205\u001b[0m\u001b[1m]\u001b[0m \u001b[33mμ\u001b[0m=\u001b[1;36m0\u001b[0m\u001b[1;36m.007\u001b[0m \u001b[33mσ\u001b[0m=\u001b[1;36m0\u001b[0m\u001b[1;36m.071\u001b[0m, \u001b[32m'graph_embedding'\u001b[0m: tensor\u001b[1m[\u001b[0m\u001b[1;36m32\u001b[0m, \u001b[1;36m32\u001b[0m\u001b[1m]\u001b[0m      \u001b[2m            \u001b[0m\n",
       "\u001b[2;36m                    \u001b[0m         \u001b[33mn\u001b[0m=\u001b[1;36m1024\u001b[0m \u001b[1m(\u001b[0m4Kb\u001b[1m)\u001b[0m x∈\u001b[1m[\u001b[0m\u001b[1;36m-71.904\u001b[0m, \u001b[1;36m60.559\u001b[0m\u001b[1m]\u001b[0m \u001b[33mμ\u001b[0m=\u001b[1;36m1\u001b[0m\u001b[1;36m.721\u001b[0m \u001b[33mσ\u001b[0m=\u001b[1;36m16\u001b[0m\u001b[1;36m.532\u001b[0m, \u001b[32m'graph_label'\u001b[0m:         \u001b[2m            \u001b[0m\n",
       "\u001b[2;36m                    \u001b[0m         tensor\u001b[1m[\u001b[0m\u001b[1;36m32\u001b[0m, \u001b[1;36m1195\u001b[0m\u001b[1m]\u001b[0m \u001b[33mn\u001b[0m=\u001b[1;36m38240\u001b[0m \u001b[1m(\u001b[0m\u001b[1;36m0.\u001b[0m1Mb\u001b[1m)\u001b[0m x∈\u001b[1m[\u001b[0m\u001b[1;36m-19.820\u001b[0m, \u001b[1;36m20.555\u001b[0m\u001b[1m]\u001b[0m \u001b[33mμ\u001b[0m=\u001b[1;36m0\u001b[0m\u001b[1;36m.068\u001b[0m \u001b[33mσ\u001b[0m=\u001b[1;36m3\u001b[0m\u001b[1;36m.082\u001b[0m\u001b[1m}\u001b[0m     \u001b[2m            \u001b[0m\n"
      ]
     },
     "metadata": {},
     "output_type": "display_data"
    },
    {
     "data": {
      "text/html": [
       "<pre style=\"white-space:pre;overflow-x:auto;line-height:normal;font-family:Menlo,'DejaVu Sans Mono',consolas,'Courier New',monospace\"><span style=\"color: #7fbfbf; text-decoration-color: #7fbfbf\">                    </span><span style=\"color: #000080; text-decoration-color: #000080\">INFO    </span> Logging hyperparameters!                                                  <a href=\"file:///home/zhang/Projects/3d/ProteinWorkshop/proteinworkshop/train.py\" target=\"_blank\"><span style=\"color: #7f7f7f; text-decoration-color: #7f7f7f\">train.py</span></a><span style=\"color: #7f7f7f; text-decoration-color: #7f7f7f\">:</span><a href=\"file:///home/zhang/Projects/3d/ProteinWorkshop/proteinworkshop/train.py#173\" target=\"_blank\"><span style=\"color: #7f7f7f; text-decoration-color: #7f7f7f\">173</span></a>\n",
       "</pre>\n"
      ],
      "text/plain": [
       "\u001b[2;36m                   \u001b[0m\u001b[2;36m \u001b[0m\u001b[34mINFO    \u001b[0m Logging hyperparameters!                                                  \u001b]8;id=403619;file:///home/zhang/Projects/3d/ProteinWorkshop/proteinworkshop/train.py\u001b\\\u001b[2mtrain.py\u001b[0m\u001b]8;;\u001b\\\u001b[2m:\u001b[0m\u001b]8;id=824081;file:///home/zhang/Projects/3d/ProteinWorkshop/proteinworkshop/train.py#173\u001b\\\u001b[2m173\u001b[0m\u001b]8;;\u001b\\\n"
      ]
     },
     "metadata": {},
     "output_type": "display_data"
    },
    {
     "data": {
      "text/html": [
       "<pre style=\"white-space:pre;overflow-x:auto;line-height:normal;font-family:Menlo,'DejaVu Sans Mono',consolas,'Courier New',monospace\"><span style=\"color: #7fbfbf; text-decoration-color: #7fbfbf\">                    </span><span style=\"color: #000080; text-decoration-color: #000080\">INFO    </span> Starting training!                                                        <a href=\"file:///home/zhang/Projects/3d/ProteinWorkshop/proteinworkshop/train.py\" target=\"_blank\"><span style=\"color: #7f7f7f; text-decoration-color: #7f7f7f\">train.py</span></a><span style=\"color: #7f7f7f; text-decoration-color: #7f7f7f\">:</span><a href=\"file:///home/zhang/Projects/3d/ProteinWorkshop/proteinworkshop/train.py#181\" target=\"_blank\"><span style=\"color: #7f7f7f; text-decoration-color: #7f7f7f\">181</span></a>\n",
       "</pre>\n"
      ],
      "text/plain": [
       "\u001b[2;36m                   \u001b[0m\u001b[2;36m \u001b[0m\u001b[34mINFO    \u001b[0m Starting training!                                                        \u001b]8;id=667350;file:///home/zhang/Projects/3d/ProteinWorkshop/proteinworkshop/train.py\u001b\\\u001b[2mtrain.py\u001b[0m\u001b]8;;\u001b\\\u001b[2m:\u001b[0m\u001b]8;id=561773;file:///home/zhang/Projects/3d/ProteinWorkshop/proteinworkshop/train.py#181\u001b\\\u001b[2m181\u001b[0m\u001b]8;;\u001b\\\n"
      ]
     },
     "metadata": {},
     "output_type": "display_data"
    },
    {
     "name": "stderr",
     "output_type": "stream",
     "text": [
      "You are using a CUDA device ('NVIDIA GeForce RTX 4090') that has Tensor Cores. To properly utilize them, you should set `torch.set_float32_matmul_precision('medium' | 'high')` which will trade-off precision for performance. For more details, read https://pytorch.org/docs/stable/generated/torch.set_float32_matmul_precision.html#torch.set_float32_matmul_precision\n"
     ]
    },
    {
     "data": {
      "text/html": [
       "<pre style=\"white-space:pre;overflow-x:auto;line-height:normal;font-family:Menlo,'DejaVu Sans Mono',consolas,'Courier New',monospace\"><span style=\"color: #7fbfbf; text-decoration-color: #7fbfbf\">[07/22/24 16:26:45] </span><span style=\"color: #000080; text-decoration-color: #000080\">INFO    </span> Downloading Protein Function. Fraction <span style=\"color: #008080; text-decoration-color: #008080; font-weight: bold\">1.0</span>                   <a href=\"file:///home/zhang/Projects/3d/ProteinWorkshop/proteinworkshop/datasets/fold_classification.py\" target=\"_blank\"><span style=\"color: #7f7f7f; text-decoration-color: #7f7f7f\">fold_classification.py</span></a><span style=\"color: #7f7f7f; text-decoration-color: #7f7f7f\">:</span><a href=\"file:///home/zhang/Projects/3d/ProteinWorkshop/proteinworkshop/datasets/fold_classification.py#86\" target=\"_blank\"><span style=\"color: #7f7f7f; text-decoration-color: #7f7f7f\">86</span></a>\n",
       "</pre>\n"
      ],
      "text/plain": [
       "\u001b[2;36m[07/22/24 16:26:45]\u001b[0m\u001b[2;36m \u001b[0m\u001b[34mINFO    \u001b[0m Downloading Protein Function. Fraction \u001b[1;36m1.0\u001b[0m                   \u001b]8;id=287828;file:///home/zhang/Projects/3d/ProteinWorkshop/proteinworkshop/datasets/fold_classification.py\u001b\\\u001b[2mfold_classification.py\u001b[0m\u001b]8;;\u001b\\\u001b[2m:\u001b[0m\u001b]8;id=767030;file:///home/zhang/Projects/3d/ProteinWorkshop/proteinworkshop/datasets/fold_classification.py#86\u001b\\\u001b[2m86\u001b[0m\u001b]8;;\u001b\\\n"
      ]
     },
     "metadata": {},
     "output_type": "display_data"
    },
    {
     "data": {
      "text/html": [
       "<pre style=\"white-space:pre;overflow-x:auto;line-height:normal;font-family:Menlo,'DejaVu Sans Mono',consolas,'Courier New',monospace\"><span style=\"color: #7fbfbf; text-decoration-color: #7fbfbf\">                    </span><span style=\"color: #000080; text-decoration-color: #000080\">INFO    </span> Found SCOP structure tarfile in:                            <a href=\"file:///home/zhang/Projects/3d/ProteinWorkshop/proteinworkshop/datasets/fold_classification.py\" target=\"_blank\"><span style=\"color: #7f7f7f; text-decoration-color: #7f7f7f\">fold_classification.py</span></a><span style=\"color: #7f7f7f; text-decoration-color: #7f7f7f\">:</span><a href=\"file:///home/zhang/Projects/3d/ProteinWorkshop/proteinworkshop/datasets/fold_classification.py#138\" target=\"_blank\"><span style=\"color: #7f7f7f; text-decoration-color: #7f7f7f\">138</span></a>\n",
       "<span style=\"color: #7fbfbf; text-decoration-color: #7fbfbf\">                    </span>         <span style=\"color: #800080; text-decoration-color: #800080\">/home/zhang/Projects/3d/ProteinWorkshop/proteinworkshop/dat</span> <span style=\"color: #7f7f7f; text-decoration-color: #7f7f7f\">                          </span>\n",
       "<span style=\"color: #7fbfbf; text-decoration-color: #7fbfbf\">                    </span>         <span style=\"color: #800080; text-decoration-color: #800080\">a/FoldClassification/</span><span style=\"color: #ff00ff; text-decoration-color: #ff00ff\">pdbstyle-sel-gs-bib-95-1.75.tgz</span>        <span style=\"color: #7f7f7f; text-decoration-color: #7f7f7f\">                          </span>\n",
       "</pre>\n"
      ],
      "text/plain": [
       "\u001b[2;36m                   \u001b[0m\u001b[2;36m \u001b[0m\u001b[34mINFO    \u001b[0m Found SCOP structure tarfile in:                            \u001b]8;id=187425;file:///home/zhang/Projects/3d/ProteinWorkshop/proteinworkshop/datasets/fold_classification.py\u001b\\\u001b[2mfold_classification.py\u001b[0m\u001b]8;;\u001b\\\u001b[2m:\u001b[0m\u001b]8;id=890704;file:///home/zhang/Projects/3d/ProteinWorkshop/proteinworkshop/datasets/fold_classification.py#138\u001b\\\u001b[2m138\u001b[0m\u001b]8;;\u001b\\\n",
       "\u001b[2;36m                    \u001b[0m         \u001b[35m/home/zhang/Projects/3d/ProteinWorkshop/proteinworkshop/dat\u001b[0m \u001b[2m                          \u001b[0m\n",
       "\u001b[2;36m                    \u001b[0m         \u001b[35ma/FoldClassification/\u001b[0m\u001b[95mpdbstyle-sel-gs-bib-95-1.75.tgz\u001b[0m        \u001b[2m                          \u001b[0m\n"
      ]
     },
     "metadata": {},
     "output_type": "display_data"
    },
    {
     "data": {
      "text/html": [
       "<pre style=\"white-space:pre;overflow-x:auto;line-height:normal;font-family:Menlo,'DejaVu Sans Mono',consolas,'Courier New',monospace\"><span style=\"color: #7fbfbf; text-decoration-color: #7fbfbf\">                    </span><span style=\"color: #000080; text-decoration-color: #000080\">INFO    </span> Found SCOPe structures in:                                  <a href=\"file:///home/zhang/Projects/3d/ProteinWorkshop/proteinworkshop/datasets/fold_classification.py\" target=\"_blank\"><span style=\"color: #7f7f7f; text-decoration-color: #7f7f7f\">fold_classification.py</span></a><span style=\"color: #7f7f7f; text-decoration-color: #7f7f7f\">:</span><a href=\"file:///home/zhang/Projects/3d/ProteinWorkshop/proteinworkshop/datasets/fold_classification.py#151\" target=\"_blank\"><span style=\"color: #7f7f7f; text-decoration-color: #7f7f7f\">151</span></a>\n",
       "</pre>\n"
      ],
      "text/plain": [
       "\u001b[2;36m                   \u001b[0m\u001b[2;36m \u001b[0m\u001b[34mINFO    \u001b[0m Found SCOPe structures in:                                  \u001b]8;id=181113;file:///home/zhang/Projects/3d/ProteinWorkshop/proteinworkshop/datasets/fold_classification.py\u001b\\\u001b[2mfold_classification.py\u001b[0m\u001b]8;;\u001b\\\u001b[2m:\u001b[0m\u001b]8;id=353870;file:///home/zhang/Projects/3d/ProteinWorkshop/proteinworkshop/datasets/fold_classification.py#151\u001b\\\u001b[2m151\u001b[0m\u001b]8;;\u001b\\\n"
      ]
     },
     "metadata": {},
     "output_type": "display_data"
    },
    {
     "data": {
      "text/html": [
       "<pre style=\"white-space:pre;overflow-x:auto;line-height:normal;font-family:Menlo,'DejaVu Sans Mono',consolas,'Courier New',monospace\"><span style=\"color: #7fbfbf; text-decoration-color: #7fbfbf\">                    </span><span style=\"color: #000080; text-decoration-color: #000080\">INFO    </span> Preprocessing training data                                                 <a href=\"file:///home/zhang/Projects/3d/ProteinWorkshop/proteinworkshop/datasets/base.py\" target=\"_blank\"><span style=\"color: #7f7f7f; text-decoration-color: #7f7f7f\">base.py</span></a><span style=\"color: #7f7f7f; text-decoration-color: #7f7f7f\">:</span><a href=\"file:///home/zhang/Projects/3d/ProteinWorkshop/proteinworkshop/datasets/base.py#87\" target=\"_blank\"><span style=\"color: #7f7f7f; text-decoration-color: #7f7f7f\">87</span></a>\n",
       "</pre>\n"
      ],
      "text/plain": [
       "\u001b[2;36m                   \u001b[0m\u001b[2;36m \u001b[0m\u001b[34mINFO    \u001b[0m Preprocessing training data                                                 \u001b]8;id=967045;file:///home/zhang/Projects/3d/ProteinWorkshop/proteinworkshop/datasets/base.py\u001b\\\u001b[2mbase.py\u001b[0m\u001b]8;;\u001b\\\u001b[2m:\u001b[0m\u001b]8;id=655925;file:///home/zhang/Projects/3d/ProteinWorkshop/proteinworkshop/datasets/base.py#87\u001b\\\u001b[2m87\u001b[0m\u001b]8;;\u001b\\\n"
      ]
     },
     "metadata": {},
     "output_type": "display_data"
    },
    {
     "data": {
      "text/html": [
       "<pre style=\"white-space:pre;overflow-x:auto;line-height:normal;font-family:Menlo,'DejaVu Sans Mono',consolas,'Courier New',monospace\"><span style=\"color: #7fbfbf; text-decoration-color: #7fbfbf\">                    </span><span style=\"color: #000080; text-decoration-color: #000080\">INFO    </span> Reading labels from:                                        <a href=\"file:///home/zhang/Projects/3d/ProteinWorkshop/proteinworkshop/datasets/fold_classification.py\" target=\"_blank\"><span style=\"color: #7f7f7f; text-decoration-color: #7f7f7f\">fold_classification.py</span></a><span style=\"color: #7f7f7f; text-decoration-color: #7f7f7f\">:</span><a href=\"file:///home/zhang/Projects/3d/ProteinWorkshop/proteinworkshop/datasets/fold_classification.py#154\" target=\"_blank\"><span style=\"color: #7f7f7f; text-decoration-color: #7f7f7f\">154</span></a>\n",
       "<span style=\"color: #7fbfbf; text-decoration-color: #7fbfbf\">                    </span>         <span style=\"color: #800080; text-decoration-color: #800080\">/home/zhang/Projects/3d/ProteinWorkshop/proteinworkshop/dat</span> <span style=\"color: #7f7f7f; text-decoration-color: #7f7f7f\">                          </span>\n",
       "<span style=\"color: #7fbfbf; text-decoration-color: #7fbfbf\">                    </span>         <span style=\"color: #800080; text-decoration-color: #800080\">a/FoldClassification/</span><span style=\"color: #ff00ff; text-decoration-color: #ff00ff\">class_map.txt</span>                          <span style=\"color: #7f7f7f; text-decoration-color: #7f7f7f\">                          </span>\n",
       "</pre>\n"
      ],
      "text/plain": [
       "\u001b[2;36m                   \u001b[0m\u001b[2;36m \u001b[0m\u001b[34mINFO    \u001b[0m Reading labels from:                                        \u001b]8;id=491556;file:///home/zhang/Projects/3d/ProteinWorkshop/proteinworkshop/datasets/fold_classification.py\u001b\\\u001b[2mfold_classification.py\u001b[0m\u001b]8;;\u001b\\\u001b[2m:\u001b[0m\u001b]8;id=98809;file:///home/zhang/Projects/3d/ProteinWorkshop/proteinworkshop/datasets/fold_classification.py#154\u001b\\\u001b[2m154\u001b[0m\u001b]8;;\u001b\\\n",
       "\u001b[2;36m                    \u001b[0m         \u001b[35m/home/zhang/Projects/3d/ProteinWorkshop/proteinworkshop/dat\u001b[0m \u001b[2m                          \u001b[0m\n",
       "\u001b[2;36m                    \u001b[0m         \u001b[35ma/FoldClassification/\u001b[0m\u001b[95mclass_map.txt\u001b[0m                          \u001b[2m                          \u001b[0m\n"
      ]
     },
     "metadata": {},
     "output_type": "display_data"
    },
    {
     "data": {
      "text/html": [
       "<pre style=\"white-space:pre;overflow-x:auto;line-height:normal;font-family:Menlo,'DejaVu Sans Mono',consolas,'Courier New',monospace\"><span style=\"color: #7fbfbf; text-decoration-color: #7fbfbf\">                    </span><span style=\"color: #000080; text-decoration-color: #000080\">INFO    </span> Found <span style=\"color: #008080; text-decoration-color: #008080; font-weight: bold\">12312</span> original examples in training                   <a href=\"file:///home/zhang/Projects/3d/ProteinWorkshop/proteinworkshop/datasets/fold_classification.py\" target=\"_blank\"><span style=\"color: #7f7f7f; text-decoration-color: #7f7f7f\">fold_classification.py</span></a><span style=\"color: #7f7f7f; text-decoration-color: #7f7f7f\">:</span><a href=\"file:///home/zhang/Projects/3d/ProteinWorkshop/proteinworkshop/datasets/fold_classification.py#234\" target=\"_blank\"><span style=\"color: #7f7f7f; text-decoration-color: #7f7f7f\">234</span></a>\n",
       "</pre>\n"
      ],
      "text/plain": [
       "\u001b[2;36m                   \u001b[0m\u001b[2;36m \u001b[0m\u001b[34mINFO    \u001b[0m Found \u001b[1;36m12312\u001b[0m original examples in training                   \u001b]8;id=440552;file:///home/zhang/Projects/3d/ProteinWorkshop/proteinworkshop/datasets/fold_classification.py\u001b\\\u001b[2mfold_classification.py\u001b[0m\u001b]8;;\u001b\\\u001b[2m:\u001b[0m\u001b]8;id=448328;file:///home/zhang/Projects/3d/ProteinWorkshop/proteinworkshop/datasets/fold_classification.py#234\u001b\\\u001b[2m234\u001b[0m\u001b]8;;\u001b\\\n"
      ]
     },
     "metadata": {},
     "output_type": "display_data"
    },
    {
     "data": {
      "text/html": [
       "<pre style=\"white-space:pre;overflow-x:auto;line-height:normal;font-family:Menlo,'DejaVu Sans Mono',consolas,'Courier New',monospace\"><span style=\"color: #7fbfbf; text-decoration-color: #7fbfbf\">                    </span><span style=\"color: #000080; text-decoration-color: #000080\">INFO    </span> Identified <span style=\"color: #008080; text-decoration-color: #008080; font-weight: bold\">1195</span> classes                                     <a href=\"file:///home/zhang/Projects/3d/ProteinWorkshop/proteinworkshop/datasets/fold_classification.py\" target=\"_blank\"><span style=\"color: #7f7f7f; text-decoration-color: #7f7f7f\">fold_classification.py</span></a><span style=\"color: #7f7f7f; text-decoration-color: #7f7f7f\">:</span><a href=\"file:///home/zhang/Projects/3d/ProteinWorkshop/proteinworkshop/datasets/fold_classification.py#247\" target=\"_blank\"><span style=\"color: #7f7f7f; text-decoration-color: #7f7f7f\">247</span></a>\n",
       "</pre>\n"
      ],
      "text/plain": [
       "\u001b[2;36m                   \u001b[0m\u001b[2;36m \u001b[0m\u001b[34mINFO    \u001b[0m Identified \u001b[1;36m1195\u001b[0m classes                                     \u001b]8;id=314192;file:///home/zhang/Projects/3d/ProteinWorkshop/proteinworkshop/datasets/fold_classification.py\u001b\\\u001b[2mfold_classification.py\u001b[0m\u001b]8;;\u001b\\\u001b[2m:\u001b[0m\u001b]8;id=133651;file:///home/zhang/Projects/3d/ProteinWorkshop/proteinworkshop/datasets/fold_classification.py#247\u001b\\\u001b[2m247\u001b[0m\u001b]8;;\u001b\\\n"
      ]
     },
     "metadata": {},
     "output_type": "display_data"
    },
    {
     "data": {
      "text/html": [
       "<pre style=\"white-space:pre;overflow-x:auto;line-height:normal;font-family:Menlo,'DejaVu Sans Mono',consolas,'Courier New',monospace\"><span style=\"color: #7fbfbf; text-decoration-color: #7fbfbf\">                    </span><span style=\"color: #000080; text-decoration-color: #000080\">INFO    </span> All structures already processed and <span style=\"color: #808000; text-decoration-color: #808000\">overwrite</span>=<span style=\"color: #ff0000; text-decoration-color: #ff0000; font-style: italic\">False</span>. Skipping download.   <a href=\"file:///home/zhang/Projects/3d/ProteinWorkshop/proteinworkshop/datasets/base.py\" target=\"_blank\"><span style=\"color: #7f7f7f; text-decoration-color: #7f7f7f\">base.py</span></a><span style=\"color: #7f7f7f; text-decoration-color: #7f7f7f\">:</span><a href=\"file:///home/zhang/Projects/3d/ProteinWorkshop/proteinworkshop/datasets/base.py#327\" target=\"_blank\"><span style=\"color: #7f7f7f; text-decoration-color: #7f7f7f\">327</span></a>\n",
       "</pre>\n"
      ],
      "text/plain": [
       "\u001b[2;36m                   \u001b[0m\u001b[2;36m \u001b[0m\u001b[34mINFO    \u001b[0m All structures already processed and \u001b[33moverwrite\u001b[0m=\u001b[3;91mFalse\u001b[0m. Skipping download.   \u001b]8;id=164653;file:///home/zhang/Projects/3d/ProteinWorkshop/proteinworkshop/datasets/base.py\u001b\\\u001b[2mbase.py\u001b[0m\u001b]8;;\u001b\\\u001b[2m:\u001b[0m\u001b]8;id=723890;file:///home/zhang/Projects/3d/ProteinWorkshop/proteinworkshop/datasets/base.py#327\u001b\\\u001b[2m327\u001b[0m\u001b]8;;\u001b\\\n"
      ]
     },
     "metadata": {},
     "output_type": "display_data"
    },
    {
     "data": {
      "text/html": [
       "<pre style=\"white-space:pre;overflow-x:auto;line-height:normal;font-family:Menlo,'DejaVu Sans Mono',consolas,'Courier New',monospace\"><span style=\"color: #7fbfbf; text-decoration-color: #7fbfbf\">                    </span><span style=\"color: #800000; text-decoration-color: #800000\">WARNING </span> Downloads in .ent format are assumed to be from ASTRAL. These data should  <a href=\"file:///home/zhang/Projects/3d/ProteinWorkshop/proteinworkshop/datasets/base.py\" target=\"_blank\"><span style=\"color: #7f7f7f; text-decoration-color: #7f7f7f\">base.py</span></a><span style=\"color: #7f7f7f; text-decoration-color: #7f7f7f\">:</span><a href=\"file:///home/zhang/Projects/3d/ProteinWorkshop/proteinworkshop/datasets/base.py#357\" target=\"_blank\"><span style=\"color: #7f7f7f; text-decoration-color: #7f7f7f\">357</span></a>\n",
       "<span style=\"color: #7fbfbf; text-decoration-color: #7fbfbf\">                    </span>         have already been downloaded                                               <span style=\"color: #7f7f7f; text-decoration-color: #7f7f7f\">           </span>\n",
       "</pre>\n"
      ],
      "text/plain": [
       "\u001b[2;36m                   \u001b[0m\u001b[2;36m \u001b[0m\u001b[31mWARNING \u001b[0m Downloads in .ent format are assumed to be from ASTRAL. These data should  \u001b]8;id=976023;file:///home/zhang/Projects/3d/ProteinWorkshop/proteinworkshop/datasets/base.py\u001b\\\u001b[2mbase.py\u001b[0m\u001b]8;;\u001b\\\u001b[2m:\u001b[0m\u001b]8;id=442275;file:///home/zhang/Projects/3d/ProteinWorkshop/proteinworkshop/datasets/base.py#357\u001b\\\u001b[2m357\u001b[0m\u001b]8;;\u001b\\\n",
       "\u001b[2;36m                    \u001b[0m         have already been downloaded                                               \u001b[2m           \u001b[0m\n"
      ]
     },
     "metadata": {},
     "output_type": "display_data"
    },
    {
     "data": {
      "text/html": [
       "<pre style=\"white-space:pre;overflow-x:auto;line-height:normal;font-family:Menlo,'DejaVu Sans Mono',consolas,'Courier New',monospace\"><span style=\"color: #7fbfbf; text-decoration-color: #7fbfbf\">                    </span><span style=\"color: #000080; text-decoration-color: #000080\">INFO    </span> Reading data into memory                                                   <a href=\"file:///home/zhang/Projects/3d/ProteinWorkshop/proteinworkshop/datasets/base.py\" target=\"_blank\"><span style=\"color: #7f7f7f; text-decoration-color: #7f7f7f\">base.py</span></a><span style=\"color: #7f7f7f; text-decoration-color: #7f7f7f\">:</span><a href=\"file:///home/zhang/Projects/3d/ProteinWorkshop/proteinworkshop/datasets/base.py#337\" target=\"_blank\"><span style=\"color: #7f7f7f; text-decoration-color: #7f7f7f\">337</span></a>\n",
       "</pre>\n"
      ],
      "text/plain": [
       "\u001b[2;36m                   \u001b[0m\u001b[2;36m \u001b[0m\u001b[34mINFO    \u001b[0m Reading data into memory                                                   \u001b]8;id=220465;file:///home/zhang/Projects/3d/ProteinWorkshop/proteinworkshop/datasets/base.py\u001b\\\u001b[2mbase.py\u001b[0m\u001b]8;;\u001b\\\u001b[2m:\u001b[0m\u001b]8;id=264837;file:///home/zhang/Projects/3d/ProteinWorkshop/proteinworkshop/datasets/base.py#337\u001b\\\u001b[2m337\u001b[0m\u001b]8;;\u001b\\\n"
      ]
     },
     "metadata": {},
     "output_type": "display_data"
    },
    {
     "name": "stderr",
     "output_type": "stream",
     "text": [
      "100%|██████████| 12312/12312 [00:02<00:00, 4164.64it/s]\n"
     ]
    },
    {
     "data": {
      "text/html": [
       "<pre style=\"white-space:pre;overflow-x:auto;line-height:normal;font-family:Menlo,'DejaVu Sans Mono',consolas,'Courier New',monospace\"><span style=\"color: #7fbfbf; text-decoration-color: #7fbfbf\">[07/22/24 16:26:48] </span><span style=\"color: #000080; text-decoration-color: #000080\">INFO    </span> Preprocessing validation data                                               <a href=\"file:///home/zhang/Projects/3d/ProteinWorkshop/proteinworkshop/datasets/base.py\" target=\"_blank\"><span style=\"color: #7f7f7f; text-decoration-color: #7f7f7f\">base.py</span></a><span style=\"color: #7f7f7f; text-decoration-color: #7f7f7f\">:</span><a href=\"file:///home/zhang/Projects/3d/ProteinWorkshop/proteinworkshop/datasets/base.py#89\" target=\"_blank\"><span style=\"color: #7f7f7f; text-decoration-color: #7f7f7f\">89</span></a>\n",
       "</pre>\n"
      ],
      "text/plain": [
       "\u001b[2;36m[07/22/24 16:26:48]\u001b[0m\u001b[2;36m \u001b[0m\u001b[34mINFO    \u001b[0m Preprocessing validation data                                               \u001b]8;id=911509;file:///home/zhang/Projects/3d/ProteinWorkshop/proteinworkshop/datasets/base.py\u001b\\\u001b[2mbase.py\u001b[0m\u001b]8;;\u001b\\\u001b[2m:\u001b[0m\u001b]8;id=217036;file:///home/zhang/Projects/3d/ProteinWorkshop/proteinworkshop/datasets/base.py#89\u001b\\\u001b[2m89\u001b[0m\u001b]8;;\u001b\\\n"
      ]
     },
     "metadata": {},
     "output_type": "display_data"
    },
    {
     "name": "stderr",
     "output_type": "stream",
     "text": [
      "LOCAL_RANK: 0 - CUDA_VISIBLE_DEVICES: [0]\n"
     ]
    },
    {
     "data": {
      "text/html": [
       "<pre style=\"white-space:pre;overflow-x:auto;line-height:normal;font-family:Menlo,'DejaVu Sans Mono',consolas,'Courier New',monospace\"><span style=\"color: #7fbfbf; text-decoration-color: #7fbfbf\">                    </span><span style=\"color: #000080; text-decoration-color: #000080\">INFO    </span> Instantiating optimiser<span style=\"color: #808000; text-decoration-color: #808000\">...</span>                                                 <a href=\"file:///home/zhang/Projects/3d/ProteinWorkshop/proteinworkshop/models/base.py\" target=\"_blank\"><span style=\"color: #7f7f7f; text-decoration-color: #7f7f7f\">base.py</span></a><span style=\"color: #7f7f7f; text-decoration-color: #7f7f7f\">:</span><a href=\"file:///home/zhang/Projects/3d/ProteinWorkshop/proteinworkshop/models/base.py#215\" target=\"_blank\"><span style=\"color: #7f7f7f; text-decoration-color: #7f7f7f\">215</span></a>\n",
       "</pre>\n"
      ],
      "text/plain": [
       "\u001b[2;36m                   \u001b[0m\u001b[2;36m \u001b[0m\u001b[34mINFO    \u001b[0m Instantiating optimiser\u001b[33m...\u001b[0m                                                 \u001b]8;id=903545;file:///home/zhang/Projects/3d/ProteinWorkshop/proteinworkshop/models/base.py\u001b\\\u001b[2mbase.py\u001b[0m\u001b]8;;\u001b\\\u001b[2m:\u001b[0m\u001b]8;id=115265;file:///home/zhang/Projects/3d/ProteinWorkshop/proteinworkshop/models/base.py#215\u001b\\\u001b[2m215\u001b[0m\u001b]8;;\u001b\\\n"
      ]
     },
     "metadata": {},
     "output_type": "display_data"
    },
    {
     "data": {
      "text/html": [
       "<pre style=\"white-space:pre;overflow-x:auto;line-height:normal;font-family:Menlo,'DejaVu Sans Mono',consolas,'Courier New',monospace\"><span style=\"color: #7fbfbf; text-decoration-color: #7fbfbf\">                    </span><span style=\"color: #000080; text-decoration-color: #000080\">INFO    </span> <span style=\"color: #800080; text-decoration-color: #800080; font-weight: bold\">functools.partial</span><span style=\"font-weight: bold\">(&lt;</span><span style=\"color: #ff00ff; text-decoration-color: #ff00ff; font-weight: bold\">class</span><span style=\"color: #000000; text-decoration-color: #000000\"> </span><span style=\"color: #008000; text-decoration-color: #008000\">'torch.optim.adam.Adam'</span><span style=\"font-weight: bold\">&gt;</span>, <span style=\"color: #808000; text-decoration-color: #808000\">lr</span>=<span style=\"color: #008080; text-decoration-color: #008080; font-weight: bold\">0.0005</span>,              <a href=\"file:///home/zhang/Projects/3d/ProteinWorkshop/proteinworkshop/models/base.py\" target=\"_blank\"><span style=\"color: #7f7f7f; text-decoration-color: #7f7f7f\">base.py</span></a><span style=\"color: #7f7f7f; text-decoration-color: #7f7f7f\">:</span><a href=\"file:///home/zhang/Projects/3d/ProteinWorkshop/proteinworkshop/models/base.py#217\" target=\"_blank\"><span style=\"color: #7f7f7f; text-decoration-color: #7f7f7f\">217</span></a>\n",
       "<span style=\"color: #7fbfbf; text-decoration-color: #7fbfbf\">                    </span>         <span style=\"color: #808000; text-decoration-color: #808000\">weight_decay</span>=<span style=\"color: #008080; text-decoration-color: #008080; font-weight: bold\">0.0</span><span style=\"font-weight: bold\">)</span>                                                          <span style=\"color: #7f7f7f; text-decoration-color: #7f7f7f\">           </span>\n",
       "</pre>\n"
      ],
      "text/plain": [
       "\u001b[2;36m                   \u001b[0m\u001b[2;36m \u001b[0m\u001b[34mINFO    \u001b[0m \u001b[1;35mfunctools.partial\u001b[0m\u001b[1m(\u001b[0m\u001b[1m<\u001b[0m\u001b[1;95mclass\u001b[0m\u001b[39m \u001b[0m\u001b[32m'torch.optim.adam.Adam'\u001b[0m\u001b[1m>\u001b[0m, \u001b[33mlr\u001b[0m=\u001b[1;36m0\u001b[0m\u001b[1;36m.0005\u001b[0m,              \u001b]8;id=594718;file:///home/zhang/Projects/3d/ProteinWorkshop/proteinworkshop/models/base.py\u001b\\\u001b[2mbase.py\u001b[0m\u001b]8;;\u001b\\\u001b[2m:\u001b[0m\u001b]8;id=643699;file:///home/zhang/Projects/3d/ProteinWorkshop/proteinworkshop/models/base.py#217\u001b\\\u001b[2m217\u001b[0m\u001b]8;;\u001b\\\n",
       "\u001b[2;36m                    \u001b[0m         \u001b[33mweight_decay\u001b[0m=\u001b[1;36m0\u001b[0m\u001b[1;36m.0\u001b[0m\u001b[1m)\u001b[0m                                                          \u001b[2m           \u001b[0m\n"
      ]
     },
     "metadata": {},
     "output_type": "display_data"
    },
    {
     "data": {
      "text/html": [
       "<pre style=\"white-space:pre;overflow-x:auto;line-height:normal;font-family:Menlo,'DejaVu Sans Mono',consolas,'Courier New',monospace\"><span style=\"color: #7fbfbf; text-decoration-color: #7fbfbf\">                    </span><span style=\"color: #000080; text-decoration-color: #000080\">INFO    </span> Instantiating scheduler<span style=\"color: #808000; text-decoration-color: #808000\">...</span>                                                 <a href=\"file:///home/zhang/Projects/3d/ProteinWorkshop/proteinworkshop/models/base.py\" target=\"_blank\"><span style=\"color: #7f7f7f; text-decoration-color: #7f7f7f\">base.py</span></a><span style=\"color: #7f7f7f; text-decoration-color: #7f7f7f\">:</span><a href=\"file:///home/zhang/Projects/3d/ProteinWorkshop/proteinworkshop/models/base.py#221\" target=\"_blank\"><span style=\"color: #7f7f7f; text-decoration-color: #7f7f7f\">221</span></a>\n",
       "</pre>\n"
      ],
      "text/plain": [
       "\u001b[2;36m                   \u001b[0m\u001b[2;36m \u001b[0m\u001b[34mINFO    \u001b[0m Instantiating scheduler\u001b[33m...\u001b[0m                                                 \u001b]8;id=413983;file:///home/zhang/Projects/3d/ProteinWorkshop/proteinworkshop/models/base.py\u001b\\\u001b[2mbase.py\u001b[0m\u001b]8;;\u001b\\\u001b[2m:\u001b[0m\u001b]8;id=778764;file:///home/zhang/Projects/3d/ProteinWorkshop/proteinworkshop/models/base.py#221\u001b\\\u001b[2m221\u001b[0m\u001b]8;;\u001b\\\n"
      ]
     },
     "metadata": {},
     "output_type": "display_data"
    },
    {
     "data": {
      "text/html": [
       "<pre style=\"white-space:pre;overflow-x:auto;line-height:normal;font-family:Menlo,'DejaVu Sans Mono',consolas,'Courier New',monospace\"><span style=\"color: #7fbfbf; text-decoration-color: #7fbfbf\">                    </span><span style=\"color: #000080; text-decoration-color: #000080\">INFO    </span> Optimiser configuration: <span style=\"font-weight: bold\">{</span><span style=\"color: #008000; text-decoration-color: #008000\">'optimizer'</span>: Adam <span style=\"font-weight: bold\">(</span>                              <a href=\"file:///home/zhang/Projects/3d/ProteinWorkshop/proteinworkshop/models/base.py\" target=\"_blank\"><span style=\"color: #7f7f7f; text-decoration-color: #7f7f7f\">base.py</span></a><span style=\"color: #7f7f7f; text-decoration-color: #7f7f7f\">:</span><a href=\"file:///home/zhang/Projects/3d/ProteinWorkshop/proteinworkshop/models/base.py#233\" target=\"_blank\"><span style=\"color: #7f7f7f; text-decoration-color: #7f7f7f\">233</span></a>\n",
       "<span style=\"color: #7fbfbf; text-decoration-color: #7fbfbf\">                    </span>         Parameter Group <span style=\"color: #008080; text-decoration-color: #008080; font-weight: bold\">0</span>                                                          <span style=\"color: #7f7f7f; text-decoration-color: #7f7f7f\">           </span>\n",
       "<span style=\"color: #7fbfbf; text-decoration-color: #7fbfbf\">                    </span>             amsgrad: <span style=\"color: #ff0000; text-decoration-color: #ff0000; font-style: italic\">False</span>                                                         <span style=\"color: #7f7f7f; text-decoration-color: #7f7f7f\">           </span>\n",
       "<span style=\"color: #7fbfbf; text-decoration-color: #7fbfbf\">                    </span>             betas: <span style=\"font-weight: bold\">(</span><span style=\"color: #008080; text-decoration-color: #008080; font-weight: bold\">0.9</span>, <span style=\"color: #008080; text-decoration-color: #008080; font-weight: bold\">0.999</span><span style=\"font-weight: bold\">)</span>                                                    <span style=\"color: #7f7f7f; text-decoration-color: #7f7f7f\">           </span>\n",
       "<span style=\"color: #7fbfbf; text-decoration-color: #7fbfbf\">                    </span>             capturable: <span style=\"color: #ff0000; text-decoration-color: #ff0000; font-style: italic\">False</span>                                                      <span style=\"color: #7f7f7f; text-decoration-color: #7f7f7f\">           </span>\n",
       "<span style=\"color: #7fbfbf; text-decoration-color: #7fbfbf\">                    </span>             differentiable: <span style=\"color: #ff0000; text-decoration-color: #ff0000; font-style: italic\">False</span>                                                  <span style=\"color: #7f7f7f; text-decoration-color: #7f7f7f\">           </span>\n",
       "<span style=\"color: #7fbfbf; text-decoration-color: #7fbfbf\">                    </span>             eps: <span style=\"color: #008080; text-decoration-color: #008080; font-weight: bold\">1e-08</span>                                                             <span style=\"color: #7f7f7f; text-decoration-color: #7f7f7f\">           </span>\n",
       "<span style=\"color: #7fbfbf; text-decoration-color: #7fbfbf\">                    </span>             foreach: <span style=\"color: #800080; text-decoration-color: #800080; font-style: italic\">None</span>                                                          <span style=\"color: #7f7f7f; text-decoration-color: #7f7f7f\">           </span>\n",
       "<span style=\"color: #7fbfbf; text-decoration-color: #7fbfbf\">                    </span>             fused: <span style=\"color: #800080; text-decoration-color: #800080; font-style: italic\">None</span>                                                            <span style=\"color: #7f7f7f; text-decoration-color: #7f7f7f\">           </span>\n",
       "<span style=\"color: #7fbfbf; text-decoration-color: #7fbfbf\">                    </span>             initial_lr: <span style=\"color: #008080; text-decoration-color: #008080; font-weight: bold\">0.0005</span>                                                     <span style=\"color: #7f7f7f; text-decoration-color: #7f7f7f\">           </span>\n",
       "<span style=\"color: #7fbfbf; text-decoration-color: #7fbfbf\">                    </span>             lr: <span style=\"color: #008080; text-decoration-color: #008080; font-weight: bold\">0.0005</span>                                                             <span style=\"color: #7f7f7f; text-decoration-color: #7f7f7f\">           </span>\n",
       "<span style=\"color: #7fbfbf; text-decoration-color: #7fbfbf\">                    </span>             maximize: <span style=\"color: #ff0000; text-decoration-color: #ff0000; font-style: italic\">False</span>                                                        <span style=\"color: #7f7f7f; text-decoration-color: #7f7f7f\">           </span>\n",
       "<span style=\"color: #7fbfbf; text-decoration-color: #7fbfbf\">                    </span>             weight_decay: <span style=\"color: #008080; text-decoration-color: #008080; font-weight: bold\">0.0</span>                                                      <span style=\"color: #7f7f7f; text-decoration-color: #7f7f7f\">           </span>\n",
       "<span style=\"color: #7fbfbf; text-decoration-color: #7fbfbf\">                    </span>         <span style=\"font-weight: bold\">)</span>, <span style=\"color: #008000; text-decoration-color: #008000\">'lr_scheduler'</span>: <span style=\"font-weight: bold\">{</span><span style=\"color: #008000; text-decoration-color: #008000\">'scheduler'</span>: <span style=\"font-weight: bold\">&lt;</span><span style=\"color: #ff00ff; text-decoration-color: #ff00ff; font-weight: bold\">torch.optim.lr_scheduler.StepLR</span><span style=\"color: #000000; text-decoration-color: #000000\"> object </span>  <span style=\"color: #7f7f7f; text-decoration-color: #7f7f7f\">           </span>\n",
       "<span style=\"color: #7fbfbf; text-decoration-color: #7fbfbf\">                    </span>         <span style=\"color: #000000; text-decoration-color: #000000\">at </span><span style=\"color: #008080; text-decoration-color: #008080; font-weight: bold\">0x70d53e473bb0</span><span style=\"font-weight: bold\">&gt;</span>, <span style=\"color: #008000; text-decoration-color: #008000\">'interval'</span>: <span style=\"color: #008000; text-decoration-color: #008000\">'epoch'</span>, <span style=\"color: #008000; text-decoration-color: #008000\">'frequency'</span>: <span style=\"color: #008080; text-decoration-color: #008080; font-weight: bold\">1</span>, <span style=\"color: #008000; text-decoration-color: #008000\">'name'</span>:           <span style=\"color: #7f7f7f; text-decoration-color: #7f7f7f\">           </span>\n",
       "<span style=\"color: #7fbfbf; text-decoration-color: #7fbfbf\">                    </span>         <span style=\"color: #008000; text-decoration-color: #008000\">'learning_rate'</span><span style=\"font-weight: bold\">}}</span>                                                          <span style=\"color: #7f7f7f; text-decoration-color: #7f7f7f\">           </span>\n",
       "</pre>\n"
      ],
      "text/plain": [
       "\u001b[2;36m                   \u001b[0m\u001b[2;36m \u001b[0m\u001b[34mINFO    \u001b[0m Optimiser configuration: \u001b[1m{\u001b[0m\u001b[32m'optimizer'\u001b[0m: Adam \u001b[1m(\u001b[0m                              \u001b]8;id=697363;file:///home/zhang/Projects/3d/ProteinWorkshop/proteinworkshop/models/base.py\u001b\\\u001b[2mbase.py\u001b[0m\u001b]8;;\u001b\\\u001b[2m:\u001b[0m\u001b]8;id=401297;file:///home/zhang/Projects/3d/ProteinWorkshop/proteinworkshop/models/base.py#233\u001b\\\u001b[2m233\u001b[0m\u001b]8;;\u001b\\\n",
       "\u001b[2;36m                    \u001b[0m         Parameter Group \u001b[1;36m0\u001b[0m                                                          \u001b[2m           \u001b[0m\n",
       "\u001b[2;36m                    \u001b[0m             amsgrad: \u001b[3;91mFalse\u001b[0m                                                         \u001b[2m           \u001b[0m\n",
       "\u001b[2;36m                    \u001b[0m             betas: \u001b[1m(\u001b[0m\u001b[1;36m0.9\u001b[0m, \u001b[1;36m0.999\u001b[0m\u001b[1m)\u001b[0m                                                    \u001b[2m           \u001b[0m\n",
       "\u001b[2;36m                    \u001b[0m             capturable: \u001b[3;91mFalse\u001b[0m                                                      \u001b[2m           \u001b[0m\n",
       "\u001b[2;36m                    \u001b[0m             differentiable: \u001b[3;91mFalse\u001b[0m                                                  \u001b[2m           \u001b[0m\n",
       "\u001b[2;36m                    \u001b[0m             eps: \u001b[1;36m1e-08\u001b[0m                                                             \u001b[2m           \u001b[0m\n",
       "\u001b[2;36m                    \u001b[0m             foreach: \u001b[3;35mNone\u001b[0m                                                          \u001b[2m           \u001b[0m\n",
       "\u001b[2;36m                    \u001b[0m             fused: \u001b[3;35mNone\u001b[0m                                                            \u001b[2m           \u001b[0m\n",
       "\u001b[2;36m                    \u001b[0m             initial_lr: \u001b[1;36m0.0005\u001b[0m                                                     \u001b[2m           \u001b[0m\n",
       "\u001b[2;36m                    \u001b[0m             lr: \u001b[1;36m0.0005\u001b[0m                                                             \u001b[2m           \u001b[0m\n",
       "\u001b[2;36m                    \u001b[0m             maximize: \u001b[3;91mFalse\u001b[0m                                                        \u001b[2m           \u001b[0m\n",
       "\u001b[2;36m                    \u001b[0m             weight_decay: \u001b[1;36m0.0\u001b[0m                                                      \u001b[2m           \u001b[0m\n",
       "\u001b[2;36m                    \u001b[0m         \u001b[1m)\u001b[0m, \u001b[32m'lr_scheduler'\u001b[0m: \u001b[1m{\u001b[0m\u001b[32m'scheduler'\u001b[0m: \u001b[1m<\u001b[0m\u001b[1;95mtorch.optim.lr_scheduler.StepLR\u001b[0m\u001b[39m object \u001b[0m  \u001b[2m           \u001b[0m\n",
       "\u001b[2;36m                    \u001b[0m         \u001b[39mat \u001b[0m\u001b[1;36m0x70d53e473bb0\u001b[0m\u001b[1m>\u001b[0m, \u001b[32m'interval'\u001b[0m: \u001b[32m'epoch'\u001b[0m, \u001b[32m'frequency'\u001b[0m: \u001b[1;36m1\u001b[0m, \u001b[32m'name'\u001b[0m:           \u001b[2m           \u001b[0m\n",
       "\u001b[2;36m                    \u001b[0m         \u001b[32m'learning_rate'\u001b[0m\u001b[1m}\u001b[0m\u001b[1m}\u001b[0m                                                          \u001b[2m           \u001b[0m\n"
      ]
     },
     "metadata": {},
     "output_type": "display_data"
    },
    {
     "name": "stderr",
     "output_type": "stream",
     "text": [
      "/home/zhang/miniconda3/envs/3d/lib/python3.10/site-packages/lightning/pytorch/trainer/connectors/data_connector.py:368: UserWarning:\n",
      "\n",
      "You have overridden `on_after_batch_transfer` in `LightningModule` but have passed in a `LightningDataModule`. It will use the implementation from `LightningModule` instance.\n",
      "\n"
     ]
    },
    {
     "name": "stdout",
     "output_type": "stream",
     "text": [
      "torch.Size([10722, 32])\n"
     ]
    },
    {
     "data": {
      "text/html": [
       "<pre style=\"white-space:pre;overflow-x:auto;line-height:normal;font-family:Menlo,'DejaVu Sans Mono',consolas,'Courier New',monospace\">┏━━━━━┳━━━━━━━━━━━━━━━━━━━━━━━━━━━━━━━━━━━━━━━━━━━━━┳━━━━━━━━━━━━━━┳━━━━━━━━┳━━━━━━━┳━━━━━━━━━━━━━━┳━━━━━━━━━━━━━━┓\n",
       "┃<span style=\"color: #800080; text-decoration-color: #800080; font-weight: bold\">     </span>┃<span style=\"color: #800080; text-decoration-color: #800080; font-weight: bold\"> Name                                        </span>┃<span style=\"color: #800080; text-decoration-color: #800080; font-weight: bold\"> Type         </span>┃<span style=\"color: #800080; text-decoration-color: #800080; font-weight: bold\"> Params </span>┃<span style=\"color: #800080; text-decoration-color: #800080; font-weight: bold\"> Mode  </span>┃<span style=\"color: #800080; text-decoration-color: #800080; font-weight: bold\">     In sizes </span>┃<span style=\"color: #800080; text-decoration-color: #800080; font-weight: bold\">    Out sizes </span>┃\n",
       "┡━━━━━╇━━━━━━━━━━━━━━━━━━━━━━━━━━━━━━━━━━━━━━━━━━━━━╇━━━━━━━━━━━━━━╇━━━━━━━━╇━━━━━━━╇━━━━━━━━━━━━━━╇━━━━━━━━━━━━━━┩\n",
       "│<span style=\"color: #7f7f7f; text-decoration-color: #7f7f7f\"> 0   </span>│ encoder                                     │ SchNetModel  │  2.7 M │ train │<span style=\"color: #c0c0c0; text-decoration-color: #c0c0c0\">            ? </span>│<span style=\"color: #c0c0c0; text-decoration-color: #c0c0c0\">            ? </span>│\n",
       "│<span style=\"color: #7f7f7f; text-decoration-color: #7f7f7f\"> 1   </span>│ encoder.sum_aggr                            │ SumAggregat… │      0 │ train │<span style=\"color: #c0c0c0; text-decoration-color: #c0c0c0\">            ? </span>│<span style=\"color: #c0c0c0; text-decoration-color: #c0c0c0\">            ? </span>│\n",
       "│<span style=\"color: #7f7f7f; text-decoration-color: #7f7f7f\"> 2   </span>│ encoder.embedding                           │ Linear       │ 12.3 K │ train │<span style=\"color: #c0c0c0; text-decoration-color: #c0c0c0\">  [10722, 23] </span>│<span style=\"color: #c0c0c0; text-decoration-color: #c0c0c0\"> [10722, 512] </span>│\n",
       "│<span style=\"color: #7f7f7f; text-decoration-color: #7f7f7f\"> 3   </span>│ encoder.distance_expansion                  │ GaussianSme… │      0 │ train │<span style=\"color: #c0c0c0; text-decoration-color: #c0c0c0\">     [171552] </span>│<span style=\"color: #c0c0c0; text-decoration-color: #c0c0c0\"> [171552, 50] </span>│\n",
       "│<span style=\"color: #7f7f7f; text-decoration-color: #7f7f7f\"> 4   </span>│ encoder.interactions                        │ ModuleList   │  2.5 M │ train │<span style=\"color: #c0c0c0; text-decoration-color: #c0c0c0\">            ? </span>│<span style=\"color: #c0c0c0; text-decoration-color: #c0c0c0\">            ? </span>│\n",
       "│<span style=\"color: #7f7f7f; text-decoration-color: #7f7f7f\"> 5   </span>│ encoder.interactions.0                      │ Interaction… │  417 K │ train │<span style=\"color: #c0c0c0; text-decoration-color: #c0c0c0\">     [[10722, </span>│<span style=\"color: #c0c0c0; text-decoration-color: #c0c0c0\"> [10722, 512] </span>│\n",
       "│<span style=\"color: #7f7f7f; text-decoration-color: #7f7f7f\">     </span>│                                             │              │        │       │<span style=\"color: #c0c0c0; text-decoration-color: #c0c0c0\">    512], [2, </span>│<span style=\"color: #c0c0c0; text-decoration-color: #c0c0c0\">              </span>│\n",
       "│<span style=\"color: #7f7f7f; text-decoration-color: #7f7f7f\">     </span>│                                             │              │        │       │<span style=\"color: #c0c0c0; text-decoration-color: #c0c0c0\">     171552], </span>│<span style=\"color: #c0c0c0; text-decoration-color: #c0c0c0\">              </span>│\n",
       "│<span style=\"color: #7f7f7f; text-decoration-color: #7f7f7f\">     </span>│                                             │              │        │       │<span style=\"color: #c0c0c0; text-decoration-color: #c0c0c0\">    [171552], </span>│<span style=\"color: #c0c0c0; text-decoration-color: #c0c0c0\">              </span>│\n",
       "│<span style=\"color: #7f7f7f; text-decoration-color: #7f7f7f\">     </span>│                                             │              │        │       │<span style=\"color: #c0c0c0; text-decoration-color: #c0c0c0\">     [171552, </span>│<span style=\"color: #c0c0c0; text-decoration-color: #c0c0c0\">              </span>│\n",
       "│<span style=\"color: #7f7f7f; text-decoration-color: #7f7f7f\">     </span>│                                             │              │        │       │<span style=\"color: #c0c0c0; text-decoration-color: #c0c0c0\">         50]] </span>│<span style=\"color: #c0c0c0; text-decoration-color: #c0c0c0\">              </span>│\n",
       "│<span style=\"color: #7f7f7f; text-decoration-color: #7f7f7f\"> 6   </span>│ encoder.interactions.0.mlp                  │ Sequential   │ 23.0 K │ train │<span style=\"color: #c0c0c0; text-decoration-color: #c0c0c0\"> [171552, 50] </span>│<span style=\"color: #c0c0c0; text-decoration-color: #c0c0c0\">     [171552, </span>│\n",
       "│<span style=\"color: #7f7f7f; text-decoration-color: #7f7f7f\">     </span>│                                             │              │        │       │<span style=\"color: #c0c0c0; text-decoration-color: #c0c0c0\">              </span>│<span style=\"color: #c0c0c0; text-decoration-color: #c0c0c0\">         128] </span>│\n",
       "│<span style=\"color: #7f7f7f; text-decoration-color: #7f7f7f\"> 7   </span>│ encoder.interactions.0.mlp.0                │ Linear       │  6.5 K │ train │<span style=\"color: #c0c0c0; text-decoration-color: #c0c0c0\"> [171552, 50] </span>│<span style=\"color: #c0c0c0; text-decoration-color: #c0c0c0\">     [171552, </span>│\n",
       "│<span style=\"color: #7f7f7f; text-decoration-color: #7f7f7f\">     </span>│                                             │              │        │       │<span style=\"color: #c0c0c0; text-decoration-color: #c0c0c0\">              </span>│<span style=\"color: #c0c0c0; text-decoration-color: #c0c0c0\">         128] </span>│\n",
       "│<span style=\"color: #7f7f7f; text-decoration-color: #7f7f7f\"> 8   </span>│ encoder.interactions.0.mlp.1                │ ShiftedSoft… │      0 │ train │<span style=\"color: #c0c0c0; text-decoration-color: #c0c0c0\">     [171552, </span>│<span style=\"color: #c0c0c0; text-decoration-color: #c0c0c0\">     [171552, </span>│\n",
       "│<span style=\"color: #7f7f7f; text-decoration-color: #7f7f7f\">     </span>│                                             │              │        │       │<span style=\"color: #c0c0c0; text-decoration-color: #c0c0c0\">         128] </span>│<span style=\"color: #c0c0c0; text-decoration-color: #c0c0c0\">         128] </span>│\n",
       "│<span style=\"color: #7f7f7f; text-decoration-color: #7f7f7f\"> 9   </span>│ encoder.interactions.0.mlp.2                │ Linear       │ 16.5 K │ train │<span style=\"color: #c0c0c0; text-decoration-color: #c0c0c0\">     [171552, </span>│<span style=\"color: #c0c0c0; text-decoration-color: #c0c0c0\">     [171552, </span>│\n",
       "│<span style=\"color: #7f7f7f; text-decoration-color: #7f7f7f\">     </span>│                                             │              │        │       │<span style=\"color: #c0c0c0; text-decoration-color: #c0c0c0\">         128] </span>│<span style=\"color: #c0c0c0; text-decoration-color: #c0c0c0\">         128] </span>│\n",
       "│<span style=\"color: #7f7f7f; text-decoration-color: #7f7f7f\"> 10  </span>│ encoder.interactions.0.conv                 │ CFConv       │  154 K │ train │<span style=\"color: #c0c0c0; text-decoration-color: #c0c0c0\">     [[10722, </span>│<span style=\"color: #c0c0c0; text-decoration-color: #c0c0c0\"> [10722, 512] </span>│\n",
       "│<span style=\"color: #7f7f7f; text-decoration-color: #7f7f7f\">     </span>│                                             │              │        │       │<span style=\"color: #c0c0c0; text-decoration-color: #c0c0c0\">    512], [2, </span>│<span style=\"color: #c0c0c0; text-decoration-color: #c0c0c0\">              </span>│\n",
       "│<span style=\"color: #7f7f7f; text-decoration-color: #7f7f7f\">     </span>│                                             │              │        │       │<span style=\"color: #c0c0c0; text-decoration-color: #c0c0c0\">     171552], </span>│<span style=\"color: #c0c0c0; text-decoration-color: #c0c0c0\">              </span>│\n",
       "│<span style=\"color: #7f7f7f; text-decoration-color: #7f7f7f\">     </span>│                                             │              │        │       │<span style=\"color: #c0c0c0; text-decoration-color: #c0c0c0\">    [171552], </span>│<span style=\"color: #c0c0c0; text-decoration-color: #c0c0c0\">              </span>│\n",
       "│<span style=\"color: #7f7f7f; text-decoration-color: #7f7f7f\">     </span>│                                             │              │        │       │<span style=\"color: #c0c0c0; text-decoration-color: #c0c0c0\">     [171552, </span>│<span style=\"color: #c0c0c0; text-decoration-color: #c0c0c0\">              </span>│\n",
       "│<span style=\"color: #7f7f7f; text-decoration-color: #7f7f7f\">     </span>│                                             │              │        │       │<span style=\"color: #c0c0c0; text-decoration-color: #c0c0c0\">         50]] </span>│<span style=\"color: #c0c0c0; text-decoration-color: #c0c0c0\">              </span>│\n",
       "│<span style=\"color: #7f7f7f; text-decoration-color: #7f7f7f\"> 11  </span>│ encoder.interactions.0.conv.aggr_module     │ SumAggregat… │      0 │ train │<span style=\"color: #c0c0c0; text-decoration-color: #c0c0c0\">    [[171552, </span>│<span style=\"color: #c0c0c0; text-decoration-color: #c0c0c0\"> [10722, 128] </span>│\n",
       "│<span style=\"color: #7f7f7f; text-decoration-color: #7f7f7f\">     </span>│                                             │              │        │       │<span style=\"color: #c0c0c0; text-decoration-color: #c0c0c0\">        128], </span>│<span style=\"color: #c0c0c0; text-decoration-color: #c0c0c0\">              </span>│\n",
       "│<span style=\"color: #7f7f7f; text-decoration-color: #7f7f7f\">     </span>│                                             │              │        │       │<span style=\"color: #c0c0c0; text-decoration-color: #c0c0c0\">    [171552], </span>│<span style=\"color: #c0c0c0; text-decoration-color: #c0c0c0\">              </span>│\n",
       "│<span style=\"color: #7f7f7f; text-decoration-color: #7f7f7f\">     </span>│                                             │              │        │       │<span style=\"color: #c0c0c0; text-decoration-color: #c0c0c0\">    '?', '?', </span>│<span style=\"color: #c0c0c0; text-decoration-color: #c0c0c0\">              </span>│\n",
       "│<span style=\"color: #7f7f7f; text-decoration-color: #7f7f7f\">     </span>│                                             │              │        │       │<span style=\"color: #c0c0c0; text-decoration-color: #c0c0c0\">         '?'] </span>│<span style=\"color: #c0c0c0; text-decoration-color: #c0c0c0\">              </span>│\n",
       "│<span style=\"color: #7f7f7f; text-decoration-color: #7f7f7f\"> 12  </span>│ encoder.interactions.0.conv.lin1            │ Linear       │ 65.5 K │ train │<span style=\"color: #c0c0c0; text-decoration-color: #c0c0c0\"> [10722, 512] </span>│<span style=\"color: #c0c0c0; text-decoration-color: #c0c0c0\"> [10722, 128] </span>│\n",
       "│<span style=\"color: #7f7f7f; text-decoration-color: #7f7f7f\"> 13  </span>│ encoder.interactions.0.conv.lin2            │ Linear       │ 66.0 K │ train │<span style=\"color: #c0c0c0; text-decoration-color: #c0c0c0\"> [10722, 128] </span>│<span style=\"color: #c0c0c0; text-decoration-color: #c0c0c0\"> [10722, 512] </span>│\n",
       "│<span style=\"color: #7f7f7f; text-decoration-color: #7f7f7f\"> 14  </span>│ encoder.interactions.0.act                  │ ShiftedSoft… │      0 │ train │<span style=\"color: #c0c0c0; text-decoration-color: #c0c0c0\"> [10722, 512] </span>│<span style=\"color: #c0c0c0; text-decoration-color: #c0c0c0\"> [10722, 512] </span>│\n",
       "│<span style=\"color: #7f7f7f; text-decoration-color: #7f7f7f\"> 15  </span>│ encoder.interactions.0.lin                  │ Linear       │  262 K │ train │<span style=\"color: #c0c0c0; text-decoration-color: #c0c0c0\"> [10722, 512] </span>│<span style=\"color: #c0c0c0; text-decoration-color: #c0c0c0\"> [10722, 512] </span>│\n",
       "│<span style=\"color: #7f7f7f; text-decoration-color: #7f7f7f\"> 16  </span>│ encoder.interactions.1                      │ Interaction… │  417 K │ train │<span style=\"color: #c0c0c0; text-decoration-color: #c0c0c0\">     [[10722, </span>│<span style=\"color: #c0c0c0; text-decoration-color: #c0c0c0\"> [10722, 512] </span>│\n",
       "│<span style=\"color: #7f7f7f; text-decoration-color: #7f7f7f\">     </span>│                                             │              │        │       │<span style=\"color: #c0c0c0; text-decoration-color: #c0c0c0\">    512], [2, </span>│<span style=\"color: #c0c0c0; text-decoration-color: #c0c0c0\">              </span>│\n",
       "│<span style=\"color: #7f7f7f; text-decoration-color: #7f7f7f\">     </span>│                                             │              │        │       │<span style=\"color: #c0c0c0; text-decoration-color: #c0c0c0\">     171552], </span>│<span style=\"color: #c0c0c0; text-decoration-color: #c0c0c0\">              </span>│\n",
       "│<span style=\"color: #7f7f7f; text-decoration-color: #7f7f7f\">     </span>│                                             │              │        │       │<span style=\"color: #c0c0c0; text-decoration-color: #c0c0c0\">    [171552], </span>│<span style=\"color: #c0c0c0; text-decoration-color: #c0c0c0\">              </span>│\n",
       "│<span style=\"color: #7f7f7f; text-decoration-color: #7f7f7f\">     </span>│                                             │              │        │       │<span style=\"color: #c0c0c0; text-decoration-color: #c0c0c0\">     [171552, </span>│<span style=\"color: #c0c0c0; text-decoration-color: #c0c0c0\">              </span>│\n",
       "│<span style=\"color: #7f7f7f; text-decoration-color: #7f7f7f\">     </span>│                                             │              │        │       │<span style=\"color: #c0c0c0; text-decoration-color: #c0c0c0\">         50]] </span>│<span style=\"color: #c0c0c0; text-decoration-color: #c0c0c0\">              </span>│\n",
       "│<span style=\"color: #7f7f7f; text-decoration-color: #7f7f7f\"> 17  </span>│ encoder.interactions.1.mlp                  │ Sequential   │ 23.0 K │ train │<span style=\"color: #c0c0c0; text-decoration-color: #c0c0c0\"> [171552, 50] </span>│<span style=\"color: #c0c0c0; text-decoration-color: #c0c0c0\">     [171552, </span>│\n",
       "│<span style=\"color: #7f7f7f; text-decoration-color: #7f7f7f\">     </span>│                                             │              │        │       │<span style=\"color: #c0c0c0; text-decoration-color: #c0c0c0\">              </span>│<span style=\"color: #c0c0c0; text-decoration-color: #c0c0c0\">         128] </span>│\n",
       "│<span style=\"color: #7f7f7f; text-decoration-color: #7f7f7f\"> 18  </span>│ encoder.interactions.1.mlp.0                │ Linear       │  6.5 K │ train │<span style=\"color: #c0c0c0; text-decoration-color: #c0c0c0\"> [171552, 50] </span>│<span style=\"color: #c0c0c0; text-decoration-color: #c0c0c0\">     [171552, </span>│\n",
       "│<span style=\"color: #7f7f7f; text-decoration-color: #7f7f7f\">     </span>│                                             │              │        │       │<span style=\"color: #c0c0c0; text-decoration-color: #c0c0c0\">              </span>│<span style=\"color: #c0c0c0; text-decoration-color: #c0c0c0\">         128] </span>│\n",
       "│<span style=\"color: #7f7f7f; text-decoration-color: #7f7f7f\"> 19  </span>│ encoder.interactions.1.mlp.1                │ ShiftedSoft… │      0 │ train │<span style=\"color: #c0c0c0; text-decoration-color: #c0c0c0\">     [171552, </span>│<span style=\"color: #c0c0c0; text-decoration-color: #c0c0c0\">     [171552, </span>│\n",
       "│<span style=\"color: #7f7f7f; text-decoration-color: #7f7f7f\">     </span>│                                             │              │        │       │<span style=\"color: #c0c0c0; text-decoration-color: #c0c0c0\">         128] </span>│<span style=\"color: #c0c0c0; text-decoration-color: #c0c0c0\">         128] </span>│\n",
       "│<span style=\"color: #7f7f7f; text-decoration-color: #7f7f7f\"> 20  </span>│ encoder.interactions.1.mlp.2                │ Linear       │ 16.5 K │ train │<span style=\"color: #c0c0c0; text-decoration-color: #c0c0c0\">     [171552, </span>│<span style=\"color: #c0c0c0; text-decoration-color: #c0c0c0\">     [171552, </span>│\n",
       "│<span style=\"color: #7f7f7f; text-decoration-color: #7f7f7f\">     </span>│                                             │              │        │       │<span style=\"color: #c0c0c0; text-decoration-color: #c0c0c0\">         128] </span>│<span style=\"color: #c0c0c0; text-decoration-color: #c0c0c0\">         128] </span>│\n",
       "│<span style=\"color: #7f7f7f; text-decoration-color: #7f7f7f\"> 21  </span>│ encoder.interactions.1.conv                 │ CFConv       │  154 K │ train │<span style=\"color: #c0c0c0; text-decoration-color: #c0c0c0\">     [[10722, </span>│<span style=\"color: #c0c0c0; text-decoration-color: #c0c0c0\"> [10722, 512] </span>│\n",
       "│<span style=\"color: #7f7f7f; text-decoration-color: #7f7f7f\">     </span>│                                             │              │        │       │<span style=\"color: #c0c0c0; text-decoration-color: #c0c0c0\">    512], [2, </span>│<span style=\"color: #c0c0c0; text-decoration-color: #c0c0c0\">              </span>│\n",
       "│<span style=\"color: #7f7f7f; text-decoration-color: #7f7f7f\">     </span>│                                             │              │        │       │<span style=\"color: #c0c0c0; text-decoration-color: #c0c0c0\">     171552], </span>│<span style=\"color: #c0c0c0; text-decoration-color: #c0c0c0\">              </span>│\n",
       "│<span style=\"color: #7f7f7f; text-decoration-color: #7f7f7f\">     </span>│                                             │              │        │       │<span style=\"color: #c0c0c0; text-decoration-color: #c0c0c0\">    [171552], </span>│<span style=\"color: #c0c0c0; text-decoration-color: #c0c0c0\">              </span>│\n",
       "│<span style=\"color: #7f7f7f; text-decoration-color: #7f7f7f\">     </span>│                                             │              │        │       │<span style=\"color: #c0c0c0; text-decoration-color: #c0c0c0\">     [171552, </span>│<span style=\"color: #c0c0c0; text-decoration-color: #c0c0c0\">              </span>│\n",
       "│<span style=\"color: #7f7f7f; text-decoration-color: #7f7f7f\">     </span>│                                             │              │        │       │<span style=\"color: #c0c0c0; text-decoration-color: #c0c0c0\">         50]] </span>│<span style=\"color: #c0c0c0; text-decoration-color: #c0c0c0\">              </span>│\n",
       "│<span style=\"color: #7f7f7f; text-decoration-color: #7f7f7f\"> 22  </span>│ encoder.interactions.1.conv.aggr_module     │ SumAggregat… │      0 │ train │<span style=\"color: #c0c0c0; text-decoration-color: #c0c0c0\">    [[171552, </span>│<span style=\"color: #c0c0c0; text-decoration-color: #c0c0c0\"> [10722, 128] </span>│\n",
       "│<span style=\"color: #7f7f7f; text-decoration-color: #7f7f7f\">     </span>│                                             │              │        │       │<span style=\"color: #c0c0c0; text-decoration-color: #c0c0c0\">        128], </span>│<span style=\"color: #c0c0c0; text-decoration-color: #c0c0c0\">              </span>│\n",
       "│<span style=\"color: #7f7f7f; text-decoration-color: #7f7f7f\">     </span>│                                             │              │        │       │<span style=\"color: #c0c0c0; text-decoration-color: #c0c0c0\">    [171552], </span>│<span style=\"color: #c0c0c0; text-decoration-color: #c0c0c0\">              </span>│\n",
       "│<span style=\"color: #7f7f7f; text-decoration-color: #7f7f7f\">     </span>│                                             │              │        │       │<span style=\"color: #c0c0c0; text-decoration-color: #c0c0c0\">    '?', '?', </span>│<span style=\"color: #c0c0c0; text-decoration-color: #c0c0c0\">              </span>│\n",
       "│<span style=\"color: #7f7f7f; text-decoration-color: #7f7f7f\">     </span>│                                             │              │        │       │<span style=\"color: #c0c0c0; text-decoration-color: #c0c0c0\">         '?'] </span>│<span style=\"color: #c0c0c0; text-decoration-color: #c0c0c0\">              </span>│\n",
       "│<span style=\"color: #7f7f7f; text-decoration-color: #7f7f7f\"> 23  </span>│ encoder.interactions.1.conv.lin1            │ Linear       │ 65.5 K │ train │<span style=\"color: #c0c0c0; text-decoration-color: #c0c0c0\"> [10722, 512] </span>│<span style=\"color: #c0c0c0; text-decoration-color: #c0c0c0\"> [10722, 128] </span>│\n",
       "│<span style=\"color: #7f7f7f; text-decoration-color: #7f7f7f\"> 24  </span>│ encoder.interactions.1.conv.lin2            │ Linear       │ 66.0 K │ train │<span style=\"color: #c0c0c0; text-decoration-color: #c0c0c0\"> [10722, 128] </span>│<span style=\"color: #c0c0c0; text-decoration-color: #c0c0c0\"> [10722, 512] </span>│\n",
       "│<span style=\"color: #7f7f7f; text-decoration-color: #7f7f7f\"> 25  </span>│ encoder.interactions.1.act                  │ ShiftedSoft… │      0 │ train │<span style=\"color: #c0c0c0; text-decoration-color: #c0c0c0\"> [10722, 512] </span>│<span style=\"color: #c0c0c0; text-decoration-color: #c0c0c0\"> [10722, 512] </span>│\n",
       "│<span style=\"color: #7f7f7f; text-decoration-color: #7f7f7f\"> 26  </span>│ encoder.interactions.1.lin                  │ Linear       │  262 K │ train │<span style=\"color: #c0c0c0; text-decoration-color: #c0c0c0\"> [10722, 512] </span>│<span style=\"color: #c0c0c0; text-decoration-color: #c0c0c0\"> [10722, 512] </span>│\n",
       "│<span style=\"color: #7f7f7f; text-decoration-color: #7f7f7f\"> 27  </span>│ encoder.interactions.2                      │ Interaction… │  417 K │ train │<span style=\"color: #c0c0c0; text-decoration-color: #c0c0c0\">     [[10722, </span>│<span style=\"color: #c0c0c0; text-decoration-color: #c0c0c0\"> [10722, 512] </span>│\n",
       "│<span style=\"color: #7f7f7f; text-decoration-color: #7f7f7f\">     </span>│                                             │              │        │       │<span style=\"color: #c0c0c0; text-decoration-color: #c0c0c0\">    512], [2, </span>│<span style=\"color: #c0c0c0; text-decoration-color: #c0c0c0\">              </span>│\n",
       "│<span style=\"color: #7f7f7f; text-decoration-color: #7f7f7f\">     </span>│                                             │              │        │       │<span style=\"color: #c0c0c0; text-decoration-color: #c0c0c0\">     171552], </span>│<span style=\"color: #c0c0c0; text-decoration-color: #c0c0c0\">              </span>│\n",
       "│<span style=\"color: #7f7f7f; text-decoration-color: #7f7f7f\">     </span>│                                             │              │        │       │<span style=\"color: #c0c0c0; text-decoration-color: #c0c0c0\">    [171552], </span>│<span style=\"color: #c0c0c0; text-decoration-color: #c0c0c0\">              </span>│\n",
       "│<span style=\"color: #7f7f7f; text-decoration-color: #7f7f7f\">     </span>│                                             │              │        │       │<span style=\"color: #c0c0c0; text-decoration-color: #c0c0c0\">     [171552, </span>│<span style=\"color: #c0c0c0; text-decoration-color: #c0c0c0\">              </span>│\n",
       "│<span style=\"color: #7f7f7f; text-decoration-color: #7f7f7f\">     </span>│                                             │              │        │       │<span style=\"color: #c0c0c0; text-decoration-color: #c0c0c0\">         50]] </span>│<span style=\"color: #c0c0c0; text-decoration-color: #c0c0c0\">              </span>│\n",
       "│<span style=\"color: #7f7f7f; text-decoration-color: #7f7f7f\"> 28  </span>│ encoder.interactions.2.mlp                  │ Sequential   │ 23.0 K │ train │<span style=\"color: #c0c0c0; text-decoration-color: #c0c0c0\"> [171552, 50] </span>│<span style=\"color: #c0c0c0; text-decoration-color: #c0c0c0\">     [171552, </span>│\n",
       "│<span style=\"color: #7f7f7f; text-decoration-color: #7f7f7f\">     </span>│                                             │              │        │       │<span style=\"color: #c0c0c0; text-decoration-color: #c0c0c0\">              </span>│<span style=\"color: #c0c0c0; text-decoration-color: #c0c0c0\">         128] </span>│\n",
       "│<span style=\"color: #7f7f7f; text-decoration-color: #7f7f7f\"> 29  </span>│ encoder.interactions.2.mlp.0                │ Linear       │  6.5 K │ train │<span style=\"color: #c0c0c0; text-decoration-color: #c0c0c0\"> [171552, 50] </span>│<span style=\"color: #c0c0c0; text-decoration-color: #c0c0c0\">     [171552, </span>│\n",
       "│<span style=\"color: #7f7f7f; text-decoration-color: #7f7f7f\">     </span>│                                             │              │        │       │<span style=\"color: #c0c0c0; text-decoration-color: #c0c0c0\">              </span>│<span style=\"color: #c0c0c0; text-decoration-color: #c0c0c0\">         128] </span>│\n",
       "│<span style=\"color: #7f7f7f; text-decoration-color: #7f7f7f\"> 30  </span>│ encoder.interactions.2.mlp.1                │ ShiftedSoft… │      0 │ train │<span style=\"color: #c0c0c0; text-decoration-color: #c0c0c0\">     [171552, </span>│<span style=\"color: #c0c0c0; text-decoration-color: #c0c0c0\">     [171552, </span>│\n",
       "│<span style=\"color: #7f7f7f; text-decoration-color: #7f7f7f\">     </span>│                                             │              │        │       │<span style=\"color: #c0c0c0; text-decoration-color: #c0c0c0\">         128] </span>│<span style=\"color: #c0c0c0; text-decoration-color: #c0c0c0\">         128] </span>│\n",
       "│<span style=\"color: #7f7f7f; text-decoration-color: #7f7f7f\"> 31  </span>│ encoder.interactions.2.mlp.2                │ Linear       │ 16.5 K │ train │<span style=\"color: #c0c0c0; text-decoration-color: #c0c0c0\">     [171552, </span>│<span style=\"color: #c0c0c0; text-decoration-color: #c0c0c0\">     [171552, </span>│\n",
       "│<span style=\"color: #7f7f7f; text-decoration-color: #7f7f7f\">     </span>│                                             │              │        │       │<span style=\"color: #c0c0c0; text-decoration-color: #c0c0c0\">         128] </span>│<span style=\"color: #c0c0c0; text-decoration-color: #c0c0c0\">         128] </span>│\n",
       "│<span style=\"color: #7f7f7f; text-decoration-color: #7f7f7f\"> 32  </span>│ encoder.interactions.2.conv                 │ CFConv       │  154 K │ train │<span style=\"color: #c0c0c0; text-decoration-color: #c0c0c0\">     [[10722, </span>│<span style=\"color: #c0c0c0; text-decoration-color: #c0c0c0\"> [10722, 512] </span>│\n",
       "│<span style=\"color: #7f7f7f; text-decoration-color: #7f7f7f\">     </span>│                                             │              │        │       │<span style=\"color: #c0c0c0; text-decoration-color: #c0c0c0\">    512], [2, </span>│<span style=\"color: #c0c0c0; text-decoration-color: #c0c0c0\">              </span>│\n",
       "│<span style=\"color: #7f7f7f; text-decoration-color: #7f7f7f\">     </span>│                                             │              │        │       │<span style=\"color: #c0c0c0; text-decoration-color: #c0c0c0\">     171552], </span>│<span style=\"color: #c0c0c0; text-decoration-color: #c0c0c0\">              </span>│\n",
       "│<span style=\"color: #7f7f7f; text-decoration-color: #7f7f7f\">     </span>│                                             │              │        │       │<span style=\"color: #c0c0c0; text-decoration-color: #c0c0c0\">    [171552], </span>│<span style=\"color: #c0c0c0; text-decoration-color: #c0c0c0\">              </span>│\n",
       "│<span style=\"color: #7f7f7f; text-decoration-color: #7f7f7f\">     </span>│                                             │              │        │       │<span style=\"color: #c0c0c0; text-decoration-color: #c0c0c0\">     [171552, </span>│<span style=\"color: #c0c0c0; text-decoration-color: #c0c0c0\">              </span>│\n",
       "│<span style=\"color: #7f7f7f; text-decoration-color: #7f7f7f\">     </span>│                                             │              │        │       │<span style=\"color: #c0c0c0; text-decoration-color: #c0c0c0\">         50]] </span>│<span style=\"color: #c0c0c0; text-decoration-color: #c0c0c0\">              </span>│\n",
       "│<span style=\"color: #7f7f7f; text-decoration-color: #7f7f7f\"> 33  </span>│ encoder.interactions.2.conv.aggr_module     │ SumAggregat… │      0 │ train │<span style=\"color: #c0c0c0; text-decoration-color: #c0c0c0\">    [[171552, </span>│<span style=\"color: #c0c0c0; text-decoration-color: #c0c0c0\"> [10722, 128] </span>│\n",
       "│<span style=\"color: #7f7f7f; text-decoration-color: #7f7f7f\">     </span>│                                             │              │        │       │<span style=\"color: #c0c0c0; text-decoration-color: #c0c0c0\">        128], </span>│<span style=\"color: #c0c0c0; text-decoration-color: #c0c0c0\">              </span>│\n",
       "│<span style=\"color: #7f7f7f; text-decoration-color: #7f7f7f\">     </span>│                                             │              │        │       │<span style=\"color: #c0c0c0; text-decoration-color: #c0c0c0\">    [171552], </span>│<span style=\"color: #c0c0c0; text-decoration-color: #c0c0c0\">              </span>│\n",
       "│<span style=\"color: #7f7f7f; text-decoration-color: #7f7f7f\">     </span>│                                             │              │        │       │<span style=\"color: #c0c0c0; text-decoration-color: #c0c0c0\">    '?', '?', </span>│<span style=\"color: #c0c0c0; text-decoration-color: #c0c0c0\">              </span>│\n",
       "│<span style=\"color: #7f7f7f; text-decoration-color: #7f7f7f\">     </span>│                                             │              │        │       │<span style=\"color: #c0c0c0; text-decoration-color: #c0c0c0\">         '?'] </span>│<span style=\"color: #c0c0c0; text-decoration-color: #c0c0c0\">              </span>│\n",
       "│<span style=\"color: #7f7f7f; text-decoration-color: #7f7f7f\"> 34  </span>│ encoder.interactions.2.conv.lin1            │ Linear       │ 65.5 K │ train │<span style=\"color: #c0c0c0; text-decoration-color: #c0c0c0\"> [10722, 512] </span>│<span style=\"color: #c0c0c0; text-decoration-color: #c0c0c0\"> [10722, 128] </span>│\n",
       "│<span style=\"color: #7f7f7f; text-decoration-color: #7f7f7f\"> 35  </span>│ encoder.interactions.2.conv.lin2            │ Linear       │ 66.0 K │ train │<span style=\"color: #c0c0c0; text-decoration-color: #c0c0c0\"> [10722, 128] </span>│<span style=\"color: #c0c0c0; text-decoration-color: #c0c0c0\"> [10722, 512] </span>│\n",
       "│<span style=\"color: #7f7f7f; text-decoration-color: #7f7f7f\"> 36  </span>│ encoder.interactions.2.act                  │ ShiftedSoft… │      0 │ train │<span style=\"color: #c0c0c0; text-decoration-color: #c0c0c0\"> [10722, 512] </span>│<span style=\"color: #c0c0c0; text-decoration-color: #c0c0c0\"> [10722, 512] </span>│\n",
       "│<span style=\"color: #7f7f7f; text-decoration-color: #7f7f7f\"> 37  </span>│ encoder.interactions.2.lin                  │ Linear       │  262 K │ train │<span style=\"color: #c0c0c0; text-decoration-color: #c0c0c0\"> [10722, 512] </span>│<span style=\"color: #c0c0c0; text-decoration-color: #c0c0c0\"> [10722, 512] </span>│\n",
       "│<span style=\"color: #7f7f7f; text-decoration-color: #7f7f7f\"> 38  </span>│ encoder.interactions.3                      │ Interaction… │  417 K │ train │<span style=\"color: #c0c0c0; text-decoration-color: #c0c0c0\">     [[10722, </span>│<span style=\"color: #c0c0c0; text-decoration-color: #c0c0c0\"> [10722, 512] </span>│\n",
       "│<span style=\"color: #7f7f7f; text-decoration-color: #7f7f7f\">     </span>│                                             │              │        │       │<span style=\"color: #c0c0c0; text-decoration-color: #c0c0c0\">    512], [2, </span>│<span style=\"color: #c0c0c0; text-decoration-color: #c0c0c0\">              </span>│\n",
       "│<span style=\"color: #7f7f7f; text-decoration-color: #7f7f7f\">     </span>│                                             │              │        │       │<span style=\"color: #c0c0c0; text-decoration-color: #c0c0c0\">     171552], </span>│<span style=\"color: #c0c0c0; text-decoration-color: #c0c0c0\">              </span>│\n",
       "│<span style=\"color: #7f7f7f; text-decoration-color: #7f7f7f\">     </span>│                                             │              │        │       │<span style=\"color: #c0c0c0; text-decoration-color: #c0c0c0\">    [171552], </span>│<span style=\"color: #c0c0c0; text-decoration-color: #c0c0c0\">              </span>│\n",
       "│<span style=\"color: #7f7f7f; text-decoration-color: #7f7f7f\">     </span>│                                             │              │        │       │<span style=\"color: #c0c0c0; text-decoration-color: #c0c0c0\">     [171552, </span>│<span style=\"color: #c0c0c0; text-decoration-color: #c0c0c0\">              </span>│\n",
       "│<span style=\"color: #7f7f7f; text-decoration-color: #7f7f7f\">     </span>│                                             │              │        │       │<span style=\"color: #c0c0c0; text-decoration-color: #c0c0c0\">         50]] </span>│<span style=\"color: #c0c0c0; text-decoration-color: #c0c0c0\">              </span>│\n",
       "│<span style=\"color: #7f7f7f; text-decoration-color: #7f7f7f\"> 39  </span>│ encoder.interactions.3.mlp                  │ Sequential   │ 23.0 K │ train │<span style=\"color: #c0c0c0; text-decoration-color: #c0c0c0\"> [171552, 50] </span>│<span style=\"color: #c0c0c0; text-decoration-color: #c0c0c0\">     [171552, </span>│\n",
       "│<span style=\"color: #7f7f7f; text-decoration-color: #7f7f7f\">     </span>│                                             │              │        │       │<span style=\"color: #c0c0c0; text-decoration-color: #c0c0c0\">              </span>│<span style=\"color: #c0c0c0; text-decoration-color: #c0c0c0\">         128] </span>│\n",
       "│<span style=\"color: #7f7f7f; text-decoration-color: #7f7f7f\"> 40  </span>│ encoder.interactions.3.mlp.0                │ Linear       │  6.5 K │ train │<span style=\"color: #c0c0c0; text-decoration-color: #c0c0c0\"> [171552, 50] </span>│<span style=\"color: #c0c0c0; text-decoration-color: #c0c0c0\">     [171552, </span>│\n",
       "│<span style=\"color: #7f7f7f; text-decoration-color: #7f7f7f\">     </span>│                                             │              │        │       │<span style=\"color: #c0c0c0; text-decoration-color: #c0c0c0\">              </span>│<span style=\"color: #c0c0c0; text-decoration-color: #c0c0c0\">         128] </span>│\n",
       "│<span style=\"color: #7f7f7f; text-decoration-color: #7f7f7f\"> 41  </span>│ encoder.interactions.3.mlp.1                │ ShiftedSoft… │      0 │ train │<span style=\"color: #c0c0c0; text-decoration-color: #c0c0c0\">     [171552, </span>│<span style=\"color: #c0c0c0; text-decoration-color: #c0c0c0\">     [171552, </span>│\n",
       "│<span style=\"color: #7f7f7f; text-decoration-color: #7f7f7f\">     </span>│                                             │              │        │       │<span style=\"color: #c0c0c0; text-decoration-color: #c0c0c0\">         128] </span>│<span style=\"color: #c0c0c0; text-decoration-color: #c0c0c0\">         128] </span>│\n",
       "│<span style=\"color: #7f7f7f; text-decoration-color: #7f7f7f\"> 42  </span>│ encoder.interactions.3.mlp.2                │ Linear       │ 16.5 K │ train │<span style=\"color: #c0c0c0; text-decoration-color: #c0c0c0\">     [171552, </span>│<span style=\"color: #c0c0c0; text-decoration-color: #c0c0c0\">     [171552, </span>│\n",
       "│<span style=\"color: #7f7f7f; text-decoration-color: #7f7f7f\">     </span>│                                             │              │        │       │<span style=\"color: #c0c0c0; text-decoration-color: #c0c0c0\">         128] </span>│<span style=\"color: #c0c0c0; text-decoration-color: #c0c0c0\">         128] </span>│\n",
       "│<span style=\"color: #7f7f7f; text-decoration-color: #7f7f7f\"> 43  </span>│ encoder.interactions.3.conv                 │ CFConv       │  154 K │ train │<span style=\"color: #c0c0c0; text-decoration-color: #c0c0c0\">     [[10722, </span>│<span style=\"color: #c0c0c0; text-decoration-color: #c0c0c0\"> [10722, 512] </span>│\n",
       "│<span style=\"color: #7f7f7f; text-decoration-color: #7f7f7f\">     </span>│                                             │              │        │       │<span style=\"color: #c0c0c0; text-decoration-color: #c0c0c0\">    512], [2, </span>│<span style=\"color: #c0c0c0; text-decoration-color: #c0c0c0\">              </span>│\n",
       "│<span style=\"color: #7f7f7f; text-decoration-color: #7f7f7f\">     </span>│                                             │              │        │       │<span style=\"color: #c0c0c0; text-decoration-color: #c0c0c0\">     171552], </span>│<span style=\"color: #c0c0c0; text-decoration-color: #c0c0c0\">              </span>│\n",
       "│<span style=\"color: #7f7f7f; text-decoration-color: #7f7f7f\">     </span>│                                             │              │        │       │<span style=\"color: #c0c0c0; text-decoration-color: #c0c0c0\">    [171552], </span>│<span style=\"color: #c0c0c0; text-decoration-color: #c0c0c0\">              </span>│\n",
       "│<span style=\"color: #7f7f7f; text-decoration-color: #7f7f7f\">     </span>│                                             │              │        │       │<span style=\"color: #c0c0c0; text-decoration-color: #c0c0c0\">     [171552, </span>│<span style=\"color: #c0c0c0; text-decoration-color: #c0c0c0\">              </span>│\n",
       "│<span style=\"color: #7f7f7f; text-decoration-color: #7f7f7f\">     </span>│                                             │              │        │       │<span style=\"color: #c0c0c0; text-decoration-color: #c0c0c0\">         50]] </span>│<span style=\"color: #c0c0c0; text-decoration-color: #c0c0c0\">              </span>│\n",
       "│<span style=\"color: #7f7f7f; text-decoration-color: #7f7f7f\"> 44  </span>│ encoder.interactions.3.conv.aggr_module     │ SumAggregat… │      0 │ train │<span style=\"color: #c0c0c0; text-decoration-color: #c0c0c0\">    [[171552, </span>│<span style=\"color: #c0c0c0; text-decoration-color: #c0c0c0\"> [10722, 128] </span>│\n",
       "│<span style=\"color: #7f7f7f; text-decoration-color: #7f7f7f\">     </span>│                                             │              │        │       │<span style=\"color: #c0c0c0; text-decoration-color: #c0c0c0\">        128], </span>│<span style=\"color: #c0c0c0; text-decoration-color: #c0c0c0\">              </span>│\n",
       "│<span style=\"color: #7f7f7f; text-decoration-color: #7f7f7f\">     </span>│                                             │              │        │       │<span style=\"color: #c0c0c0; text-decoration-color: #c0c0c0\">    [171552], </span>│<span style=\"color: #c0c0c0; text-decoration-color: #c0c0c0\">              </span>│\n",
       "│<span style=\"color: #7f7f7f; text-decoration-color: #7f7f7f\">     </span>│                                             │              │        │       │<span style=\"color: #c0c0c0; text-decoration-color: #c0c0c0\">    '?', '?', </span>│<span style=\"color: #c0c0c0; text-decoration-color: #c0c0c0\">              </span>│\n",
       "│<span style=\"color: #7f7f7f; text-decoration-color: #7f7f7f\">     </span>│                                             │              │        │       │<span style=\"color: #c0c0c0; text-decoration-color: #c0c0c0\">         '?'] </span>│<span style=\"color: #c0c0c0; text-decoration-color: #c0c0c0\">              </span>│\n",
       "│<span style=\"color: #7f7f7f; text-decoration-color: #7f7f7f\"> 45  </span>│ encoder.interactions.3.conv.lin1            │ Linear       │ 65.5 K │ train │<span style=\"color: #c0c0c0; text-decoration-color: #c0c0c0\"> [10722, 512] </span>│<span style=\"color: #c0c0c0; text-decoration-color: #c0c0c0\"> [10722, 128] </span>│\n",
       "│<span style=\"color: #7f7f7f; text-decoration-color: #7f7f7f\"> 46  </span>│ encoder.interactions.3.conv.lin2            │ Linear       │ 66.0 K │ train │<span style=\"color: #c0c0c0; text-decoration-color: #c0c0c0\"> [10722, 128] </span>│<span style=\"color: #c0c0c0; text-decoration-color: #c0c0c0\"> [10722, 512] </span>│\n",
       "│<span style=\"color: #7f7f7f; text-decoration-color: #7f7f7f\"> 47  </span>│ encoder.interactions.3.act                  │ ShiftedSoft… │      0 │ train │<span style=\"color: #c0c0c0; text-decoration-color: #c0c0c0\"> [10722, 512] </span>│<span style=\"color: #c0c0c0; text-decoration-color: #c0c0c0\"> [10722, 512] </span>│\n",
       "│<span style=\"color: #7f7f7f; text-decoration-color: #7f7f7f\"> 48  </span>│ encoder.interactions.3.lin                  │ Linear       │  262 K │ train │<span style=\"color: #c0c0c0; text-decoration-color: #c0c0c0\"> [10722, 512] </span>│<span style=\"color: #c0c0c0; text-decoration-color: #c0c0c0\"> [10722, 512] </span>│\n",
       "│<span style=\"color: #7f7f7f; text-decoration-color: #7f7f7f\"> 49  </span>│ encoder.interactions.4                      │ Interaction… │  417 K │ train │<span style=\"color: #c0c0c0; text-decoration-color: #c0c0c0\">     [[10722, </span>│<span style=\"color: #c0c0c0; text-decoration-color: #c0c0c0\"> [10722, 512] </span>│\n",
       "│<span style=\"color: #7f7f7f; text-decoration-color: #7f7f7f\">     </span>│                                             │              │        │       │<span style=\"color: #c0c0c0; text-decoration-color: #c0c0c0\">    512], [2, </span>│<span style=\"color: #c0c0c0; text-decoration-color: #c0c0c0\">              </span>│\n",
       "│<span style=\"color: #7f7f7f; text-decoration-color: #7f7f7f\">     </span>│                                             │              │        │       │<span style=\"color: #c0c0c0; text-decoration-color: #c0c0c0\">     171552], </span>│<span style=\"color: #c0c0c0; text-decoration-color: #c0c0c0\">              </span>│\n",
       "│<span style=\"color: #7f7f7f; text-decoration-color: #7f7f7f\">     </span>│                                             │              │        │       │<span style=\"color: #c0c0c0; text-decoration-color: #c0c0c0\">    [171552], </span>│<span style=\"color: #c0c0c0; text-decoration-color: #c0c0c0\">              </span>│\n",
       "│<span style=\"color: #7f7f7f; text-decoration-color: #7f7f7f\">     </span>│                                             │              │        │       │<span style=\"color: #c0c0c0; text-decoration-color: #c0c0c0\">     [171552, </span>│<span style=\"color: #c0c0c0; text-decoration-color: #c0c0c0\">              </span>│\n",
       "│<span style=\"color: #7f7f7f; text-decoration-color: #7f7f7f\">     </span>│                                             │              │        │       │<span style=\"color: #c0c0c0; text-decoration-color: #c0c0c0\">         50]] </span>│<span style=\"color: #c0c0c0; text-decoration-color: #c0c0c0\">              </span>│\n",
       "│<span style=\"color: #7f7f7f; text-decoration-color: #7f7f7f\"> 50  </span>│ encoder.interactions.4.mlp                  │ Sequential   │ 23.0 K │ train │<span style=\"color: #c0c0c0; text-decoration-color: #c0c0c0\"> [171552, 50] </span>│<span style=\"color: #c0c0c0; text-decoration-color: #c0c0c0\">     [171552, </span>│\n",
       "│<span style=\"color: #7f7f7f; text-decoration-color: #7f7f7f\">     </span>│                                             │              │        │       │<span style=\"color: #c0c0c0; text-decoration-color: #c0c0c0\">              </span>│<span style=\"color: #c0c0c0; text-decoration-color: #c0c0c0\">         128] </span>│\n",
       "│<span style=\"color: #7f7f7f; text-decoration-color: #7f7f7f\"> 51  </span>│ encoder.interactions.4.mlp.0                │ Linear       │  6.5 K │ train │<span style=\"color: #c0c0c0; text-decoration-color: #c0c0c0\"> [171552, 50] </span>│<span style=\"color: #c0c0c0; text-decoration-color: #c0c0c0\">     [171552, </span>│\n",
       "│<span style=\"color: #7f7f7f; text-decoration-color: #7f7f7f\">     </span>│                                             │              │        │       │<span style=\"color: #c0c0c0; text-decoration-color: #c0c0c0\">              </span>│<span style=\"color: #c0c0c0; text-decoration-color: #c0c0c0\">         128] </span>│\n",
       "│<span style=\"color: #7f7f7f; text-decoration-color: #7f7f7f\"> 52  </span>│ encoder.interactions.4.mlp.1                │ ShiftedSoft… │      0 │ train │<span style=\"color: #c0c0c0; text-decoration-color: #c0c0c0\">     [171552, </span>│<span style=\"color: #c0c0c0; text-decoration-color: #c0c0c0\">     [171552, </span>│\n",
       "│<span style=\"color: #7f7f7f; text-decoration-color: #7f7f7f\">     </span>│                                             │              │        │       │<span style=\"color: #c0c0c0; text-decoration-color: #c0c0c0\">         128] </span>│<span style=\"color: #c0c0c0; text-decoration-color: #c0c0c0\">         128] </span>│\n",
       "│<span style=\"color: #7f7f7f; text-decoration-color: #7f7f7f\"> 53  </span>│ encoder.interactions.4.mlp.2                │ Linear       │ 16.5 K │ train │<span style=\"color: #c0c0c0; text-decoration-color: #c0c0c0\">     [171552, </span>│<span style=\"color: #c0c0c0; text-decoration-color: #c0c0c0\">     [171552, </span>│\n",
       "│<span style=\"color: #7f7f7f; text-decoration-color: #7f7f7f\">     </span>│                                             │              │        │       │<span style=\"color: #c0c0c0; text-decoration-color: #c0c0c0\">         128] </span>│<span style=\"color: #c0c0c0; text-decoration-color: #c0c0c0\">         128] </span>│\n",
       "│<span style=\"color: #7f7f7f; text-decoration-color: #7f7f7f\"> 54  </span>│ encoder.interactions.4.conv                 │ CFConv       │  154 K │ train │<span style=\"color: #c0c0c0; text-decoration-color: #c0c0c0\">     [[10722, </span>│<span style=\"color: #c0c0c0; text-decoration-color: #c0c0c0\"> [10722, 512] </span>│\n",
       "│<span style=\"color: #7f7f7f; text-decoration-color: #7f7f7f\">     </span>│                                             │              │        │       │<span style=\"color: #c0c0c0; text-decoration-color: #c0c0c0\">    512], [2, </span>│<span style=\"color: #c0c0c0; text-decoration-color: #c0c0c0\">              </span>│\n",
       "│<span style=\"color: #7f7f7f; text-decoration-color: #7f7f7f\">     </span>│                                             │              │        │       │<span style=\"color: #c0c0c0; text-decoration-color: #c0c0c0\">     171552], </span>│<span style=\"color: #c0c0c0; text-decoration-color: #c0c0c0\">              </span>│\n",
       "│<span style=\"color: #7f7f7f; text-decoration-color: #7f7f7f\">     </span>│                                             │              │        │       │<span style=\"color: #c0c0c0; text-decoration-color: #c0c0c0\">    [171552], </span>│<span style=\"color: #c0c0c0; text-decoration-color: #c0c0c0\">              </span>│\n",
       "│<span style=\"color: #7f7f7f; text-decoration-color: #7f7f7f\">     </span>│                                             │              │        │       │<span style=\"color: #c0c0c0; text-decoration-color: #c0c0c0\">     [171552, </span>│<span style=\"color: #c0c0c0; text-decoration-color: #c0c0c0\">              </span>│\n",
       "│<span style=\"color: #7f7f7f; text-decoration-color: #7f7f7f\">     </span>│                                             │              │        │       │<span style=\"color: #c0c0c0; text-decoration-color: #c0c0c0\">         50]] </span>│<span style=\"color: #c0c0c0; text-decoration-color: #c0c0c0\">              </span>│\n",
       "│<span style=\"color: #7f7f7f; text-decoration-color: #7f7f7f\"> 55  </span>│ encoder.interactions.4.conv.aggr_module     │ SumAggregat… │      0 │ train │<span style=\"color: #c0c0c0; text-decoration-color: #c0c0c0\">    [[171552, </span>│<span style=\"color: #c0c0c0; text-decoration-color: #c0c0c0\"> [10722, 128] </span>│\n",
       "│<span style=\"color: #7f7f7f; text-decoration-color: #7f7f7f\">     </span>│                                             │              │        │       │<span style=\"color: #c0c0c0; text-decoration-color: #c0c0c0\">        128], </span>│<span style=\"color: #c0c0c0; text-decoration-color: #c0c0c0\">              </span>│\n",
       "│<span style=\"color: #7f7f7f; text-decoration-color: #7f7f7f\">     </span>│                                             │              │        │       │<span style=\"color: #c0c0c0; text-decoration-color: #c0c0c0\">    [171552], </span>│<span style=\"color: #c0c0c0; text-decoration-color: #c0c0c0\">              </span>│\n",
       "│<span style=\"color: #7f7f7f; text-decoration-color: #7f7f7f\">     </span>│                                             │              │        │       │<span style=\"color: #c0c0c0; text-decoration-color: #c0c0c0\">    '?', '?', </span>│<span style=\"color: #c0c0c0; text-decoration-color: #c0c0c0\">              </span>│\n",
       "│<span style=\"color: #7f7f7f; text-decoration-color: #7f7f7f\">     </span>│                                             │              │        │       │<span style=\"color: #c0c0c0; text-decoration-color: #c0c0c0\">         '?'] </span>│<span style=\"color: #c0c0c0; text-decoration-color: #c0c0c0\">              </span>│\n",
       "│<span style=\"color: #7f7f7f; text-decoration-color: #7f7f7f\"> 56  </span>│ encoder.interactions.4.conv.lin1            │ Linear       │ 65.5 K │ train │<span style=\"color: #c0c0c0; text-decoration-color: #c0c0c0\"> [10722, 512] </span>│<span style=\"color: #c0c0c0; text-decoration-color: #c0c0c0\"> [10722, 128] </span>│\n",
       "│<span style=\"color: #7f7f7f; text-decoration-color: #7f7f7f\"> 57  </span>│ encoder.interactions.4.conv.lin2            │ Linear       │ 66.0 K │ train │<span style=\"color: #c0c0c0; text-decoration-color: #c0c0c0\"> [10722, 128] </span>│<span style=\"color: #c0c0c0; text-decoration-color: #c0c0c0\"> [10722, 512] </span>│\n",
       "│<span style=\"color: #7f7f7f; text-decoration-color: #7f7f7f\"> 58  </span>│ encoder.interactions.4.act                  │ ShiftedSoft… │      0 │ train │<span style=\"color: #c0c0c0; text-decoration-color: #c0c0c0\"> [10722, 512] </span>│<span style=\"color: #c0c0c0; text-decoration-color: #c0c0c0\"> [10722, 512] </span>│\n",
       "│<span style=\"color: #7f7f7f; text-decoration-color: #7f7f7f\"> 59  </span>│ encoder.interactions.4.lin                  │ Linear       │  262 K │ train │<span style=\"color: #c0c0c0; text-decoration-color: #c0c0c0\"> [10722, 512] </span>│<span style=\"color: #c0c0c0; text-decoration-color: #c0c0c0\"> [10722, 512] </span>│\n",
       "│<span style=\"color: #7f7f7f; text-decoration-color: #7f7f7f\"> 60  </span>│ encoder.interactions.5                      │ Interaction… │  417 K │ train │<span style=\"color: #c0c0c0; text-decoration-color: #c0c0c0\">     [[10722, </span>│<span style=\"color: #c0c0c0; text-decoration-color: #c0c0c0\"> [10722, 512] </span>│\n",
       "│<span style=\"color: #7f7f7f; text-decoration-color: #7f7f7f\">     </span>│                                             │              │        │       │<span style=\"color: #c0c0c0; text-decoration-color: #c0c0c0\">    512], [2, </span>│<span style=\"color: #c0c0c0; text-decoration-color: #c0c0c0\">              </span>│\n",
       "│<span style=\"color: #7f7f7f; text-decoration-color: #7f7f7f\">     </span>│                                             │              │        │       │<span style=\"color: #c0c0c0; text-decoration-color: #c0c0c0\">     171552], </span>│<span style=\"color: #c0c0c0; text-decoration-color: #c0c0c0\">              </span>│\n",
       "│<span style=\"color: #7f7f7f; text-decoration-color: #7f7f7f\">     </span>│                                             │              │        │       │<span style=\"color: #c0c0c0; text-decoration-color: #c0c0c0\">    [171552], </span>│<span style=\"color: #c0c0c0; text-decoration-color: #c0c0c0\">              </span>│\n",
       "│<span style=\"color: #7f7f7f; text-decoration-color: #7f7f7f\">     </span>│                                             │              │        │       │<span style=\"color: #c0c0c0; text-decoration-color: #c0c0c0\">     [171552, </span>│<span style=\"color: #c0c0c0; text-decoration-color: #c0c0c0\">              </span>│\n",
       "│<span style=\"color: #7f7f7f; text-decoration-color: #7f7f7f\">     </span>│                                             │              │        │       │<span style=\"color: #c0c0c0; text-decoration-color: #c0c0c0\">         50]] </span>│<span style=\"color: #c0c0c0; text-decoration-color: #c0c0c0\">              </span>│\n",
       "│<span style=\"color: #7f7f7f; text-decoration-color: #7f7f7f\"> 61  </span>│ encoder.interactions.5.mlp                  │ Sequential   │ 23.0 K │ train │<span style=\"color: #c0c0c0; text-decoration-color: #c0c0c0\"> [171552, 50] </span>│<span style=\"color: #c0c0c0; text-decoration-color: #c0c0c0\">     [171552, </span>│\n",
       "│<span style=\"color: #7f7f7f; text-decoration-color: #7f7f7f\">     </span>│                                             │              │        │       │<span style=\"color: #c0c0c0; text-decoration-color: #c0c0c0\">              </span>│<span style=\"color: #c0c0c0; text-decoration-color: #c0c0c0\">         128] </span>│\n",
       "│<span style=\"color: #7f7f7f; text-decoration-color: #7f7f7f\"> 62  </span>│ encoder.interactions.5.mlp.0                │ Linear       │  6.5 K │ train │<span style=\"color: #c0c0c0; text-decoration-color: #c0c0c0\"> [171552, 50] </span>│<span style=\"color: #c0c0c0; text-decoration-color: #c0c0c0\">     [171552, </span>│\n",
       "│<span style=\"color: #7f7f7f; text-decoration-color: #7f7f7f\">     </span>│                                             │              │        │       │<span style=\"color: #c0c0c0; text-decoration-color: #c0c0c0\">              </span>│<span style=\"color: #c0c0c0; text-decoration-color: #c0c0c0\">         128] </span>│\n",
       "│<span style=\"color: #7f7f7f; text-decoration-color: #7f7f7f\"> 63  </span>│ encoder.interactions.5.mlp.1                │ ShiftedSoft… │      0 │ train │<span style=\"color: #c0c0c0; text-decoration-color: #c0c0c0\">     [171552, </span>│<span style=\"color: #c0c0c0; text-decoration-color: #c0c0c0\">     [171552, </span>│\n",
       "│<span style=\"color: #7f7f7f; text-decoration-color: #7f7f7f\">     </span>│                                             │              │        │       │<span style=\"color: #c0c0c0; text-decoration-color: #c0c0c0\">         128] </span>│<span style=\"color: #c0c0c0; text-decoration-color: #c0c0c0\">         128] </span>│\n",
       "│<span style=\"color: #7f7f7f; text-decoration-color: #7f7f7f\"> 64  </span>│ encoder.interactions.5.mlp.2                │ Linear       │ 16.5 K │ train │<span style=\"color: #c0c0c0; text-decoration-color: #c0c0c0\">     [171552, </span>│<span style=\"color: #c0c0c0; text-decoration-color: #c0c0c0\">     [171552, </span>│\n",
       "│<span style=\"color: #7f7f7f; text-decoration-color: #7f7f7f\">     </span>│                                             │              │        │       │<span style=\"color: #c0c0c0; text-decoration-color: #c0c0c0\">         128] </span>│<span style=\"color: #c0c0c0; text-decoration-color: #c0c0c0\">         128] </span>│\n",
       "│<span style=\"color: #7f7f7f; text-decoration-color: #7f7f7f\"> 65  </span>│ encoder.interactions.5.conv                 │ CFConv       │  154 K │ train │<span style=\"color: #c0c0c0; text-decoration-color: #c0c0c0\">     [[10722, </span>│<span style=\"color: #c0c0c0; text-decoration-color: #c0c0c0\"> [10722, 512] </span>│\n",
       "│<span style=\"color: #7f7f7f; text-decoration-color: #7f7f7f\">     </span>│                                             │              │        │       │<span style=\"color: #c0c0c0; text-decoration-color: #c0c0c0\">    512], [2, </span>│<span style=\"color: #c0c0c0; text-decoration-color: #c0c0c0\">              </span>│\n",
       "│<span style=\"color: #7f7f7f; text-decoration-color: #7f7f7f\">     </span>│                                             │              │        │       │<span style=\"color: #c0c0c0; text-decoration-color: #c0c0c0\">     171552], </span>│<span style=\"color: #c0c0c0; text-decoration-color: #c0c0c0\">              </span>│\n",
       "│<span style=\"color: #7f7f7f; text-decoration-color: #7f7f7f\">     </span>│                                             │              │        │       │<span style=\"color: #c0c0c0; text-decoration-color: #c0c0c0\">    [171552], </span>│<span style=\"color: #c0c0c0; text-decoration-color: #c0c0c0\">              </span>│\n",
       "│<span style=\"color: #7f7f7f; text-decoration-color: #7f7f7f\">     </span>│                                             │              │        │       │<span style=\"color: #c0c0c0; text-decoration-color: #c0c0c0\">     [171552, </span>│<span style=\"color: #c0c0c0; text-decoration-color: #c0c0c0\">              </span>│\n",
       "│<span style=\"color: #7f7f7f; text-decoration-color: #7f7f7f\">     </span>│                                             │              │        │       │<span style=\"color: #c0c0c0; text-decoration-color: #c0c0c0\">         50]] </span>│<span style=\"color: #c0c0c0; text-decoration-color: #c0c0c0\">              </span>│\n",
       "│<span style=\"color: #7f7f7f; text-decoration-color: #7f7f7f\"> 66  </span>│ encoder.interactions.5.conv.aggr_module     │ SumAggregat… │      0 │ train │<span style=\"color: #c0c0c0; text-decoration-color: #c0c0c0\">    [[171552, </span>│<span style=\"color: #c0c0c0; text-decoration-color: #c0c0c0\"> [10722, 128] </span>│\n",
       "│<span style=\"color: #7f7f7f; text-decoration-color: #7f7f7f\">     </span>│                                             │              │        │       │<span style=\"color: #c0c0c0; text-decoration-color: #c0c0c0\">        128], </span>│<span style=\"color: #c0c0c0; text-decoration-color: #c0c0c0\">              </span>│\n",
       "│<span style=\"color: #7f7f7f; text-decoration-color: #7f7f7f\">     </span>│                                             │              │        │       │<span style=\"color: #c0c0c0; text-decoration-color: #c0c0c0\">    [171552], </span>│<span style=\"color: #c0c0c0; text-decoration-color: #c0c0c0\">              </span>│\n",
       "│<span style=\"color: #7f7f7f; text-decoration-color: #7f7f7f\">     </span>│                                             │              │        │       │<span style=\"color: #c0c0c0; text-decoration-color: #c0c0c0\">    '?', '?', </span>│<span style=\"color: #c0c0c0; text-decoration-color: #c0c0c0\">              </span>│\n",
       "│<span style=\"color: #7f7f7f; text-decoration-color: #7f7f7f\">     </span>│                                             │              │        │       │<span style=\"color: #c0c0c0; text-decoration-color: #c0c0c0\">         '?'] </span>│<span style=\"color: #c0c0c0; text-decoration-color: #c0c0c0\">              </span>│\n",
       "│<span style=\"color: #7f7f7f; text-decoration-color: #7f7f7f\"> 67  </span>│ encoder.interactions.5.conv.lin1            │ Linear       │ 65.5 K │ train │<span style=\"color: #c0c0c0; text-decoration-color: #c0c0c0\"> [10722, 512] </span>│<span style=\"color: #c0c0c0; text-decoration-color: #c0c0c0\"> [10722, 128] </span>│\n",
       "│<span style=\"color: #7f7f7f; text-decoration-color: #7f7f7f\"> 68  </span>│ encoder.interactions.5.conv.lin2            │ Linear       │ 66.0 K │ train │<span style=\"color: #c0c0c0; text-decoration-color: #c0c0c0\"> [10722, 128] </span>│<span style=\"color: #c0c0c0; text-decoration-color: #c0c0c0\"> [10722, 512] </span>│\n",
       "│<span style=\"color: #7f7f7f; text-decoration-color: #7f7f7f\"> 69  </span>│ encoder.interactions.5.act                  │ ShiftedSoft… │      0 │ train │<span style=\"color: #c0c0c0; text-decoration-color: #c0c0c0\"> [10722, 512] </span>│<span style=\"color: #c0c0c0; text-decoration-color: #c0c0c0\"> [10722, 512] </span>│\n",
       "│<span style=\"color: #7f7f7f; text-decoration-color: #7f7f7f\"> 70  </span>│ encoder.interactions.5.lin                  │ Linear       │  262 K │ train │<span style=\"color: #c0c0c0; text-decoration-color: #c0c0c0\"> [10722, 512] </span>│<span style=\"color: #c0c0c0; text-decoration-color: #c0c0c0\"> [10722, 512] </span>│\n",
       "│<span style=\"color: #7f7f7f; text-decoration-color: #7f7f7f\"> 71  </span>│ encoder.lin1                                │ Linear       │  131 K │ train │<span style=\"color: #c0c0c0; text-decoration-color: #c0c0c0\"> [10722, 512] </span>│<span style=\"color: #c0c0c0; text-decoration-color: #c0c0c0\"> [10722, 256] </span>│\n",
       "│<span style=\"color: #7f7f7f; text-decoration-color: #7f7f7f\"> 72  </span>│ encoder.act                                 │ ShiftedSoft… │      0 │ train │<span style=\"color: #c0c0c0; text-decoration-color: #c0c0c0\"> [10722, 256] </span>│<span style=\"color: #c0c0c0; text-decoration-color: #c0c0c0\"> [10722, 256] </span>│\n",
       "│<span style=\"color: #7f7f7f; text-decoration-color: #7f7f7f\"> 73  </span>│ encoder.lin2                                │ Linear       │  8.2 K │ train │<span style=\"color: #c0c0c0; text-decoration-color: #c0c0c0\"> [10722, 256] </span>│<span style=\"color: #c0c0c0; text-decoration-color: #c0c0c0\">  [10722, 32] </span>│\n",
       "│<span style=\"color: #7f7f7f; text-decoration-color: #7f7f7f\"> 74  </span>│ decoder                                     │ ModuleDict   │  2.7 M │ train │<span style=\"color: #c0c0c0; text-decoration-color: #c0c0c0\">            ? </span>│<span style=\"color: #c0c0c0; text-decoration-color: #c0c0c0\">            ? </span>│\n",
       "│<span style=\"color: #7f7f7f; text-decoration-color: #7f7f7f\"> 75  </span>│ decoder.graph_label                         │ MLPDecoder   │  2.7 M │ train │<span style=\"color: #c0c0c0; text-decoration-color: #c0c0c0\">     [32, 32] </span>│<span style=\"color: #c0c0c0; text-decoration-color: #c0c0c0\">   [32, 1195] </span>│\n",
       "│<span style=\"color: #7f7f7f; text-decoration-color: #7f7f7f\"> 76  </span>│ decoder.graph_label.layers                  │ LinearSkipB… │  2.7 M │ train │<span style=\"color: #c0c0c0; text-decoration-color: #c0c0c0\">     [32, 32] </span>│<span style=\"color: #c0c0c0; text-decoration-color: #c0c0c0\">   [32, 1195] </span>│\n",
       "│<span style=\"color: #7f7f7f; text-decoration-color: #7f7f7f\"> 77  </span>│ decoder.graph_label.layers.layers           │ ModuleList   │  2.7 M │ train │<span style=\"color: #c0c0c0; text-decoration-color: #c0c0c0\">            ? </span>│<span style=\"color: #c0c0c0; text-decoration-color: #c0c0c0\">            ? </span>│\n",
       "│<span style=\"color: #7f7f7f; text-decoration-color: #7f7f7f\"> 78  </span>│ decoder.graph_label.layers.layers.0         │ Linear       │ 16.9 K │ train │<span style=\"color: #c0c0c0; text-decoration-color: #c0c0c0\">     [32, 32] </span>│<span style=\"color: #c0c0c0; text-decoration-color: #c0c0c0\">    [32, 512] </span>│\n",
       "│<span style=\"color: #7f7f7f; text-decoration-color: #7f7f7f\"> 79  </span>│ decoder.graph_label.layers.layers.1         │ Linear       │  279 K │ train │<span style=\"color: #c0c0c0; text-decoration-color: #c0c0c0\">    [32, 544] </span>│<span style=\"color: #c0c0c0; text-decoration-color: #c0c0c0\">    [32, 512] </span>│\n",
       "│<span style=\"color: #7f7f7f; text-decoration-color: #7f7f7f\"> 80  </span>│ decoder.graph_label.layers.layers.2         │ Linear       │  541 K │ train │<span style=\"color: #c0c0c0; text-decoration-color: #c0c0c0\">   [32, 1056] </span>│<span style=\"color: #c0c0c0; text-decoration-color: #c0c0c0\">    [32, 512] </span>│\n",
       "│<span style=\"color: #7f7f7f; text-decoration-color: #7f7f7f\"> 81  </span>│ decoder.graph_label.layers.layers.3         │ Linear       │  1.9 M │ train │<span style=\"color: #c0c0c0; text-decoration-color: #c0c0c0\">   [32, 1568] </span>│<span style=\"color: #c0c0c0; text-decoration-color: #c0c0c0\">   [32, 1195] </span>│\n",
       "│<span style=\"color: #7f7f7f; text-decoration-color: #7f7f7f\"> 82  </span>│ decoder.graph_label.layers.activations      │ ModuleList   │      0 │ train │<span style=\"color: #c0c0c0; text-decoration-color: #c0c0c0\">            ? </span>│<span style=\"color: #c0c0c0; text-decoration-color: #c0c0c0\">            ? </span>│\n",
       "│<span style=\"color: #7f7f7f; text-decoration-color: #7f7f7f\"> 83  </span>│ decoder.graph_label.layers.activations.0    │ ReLU         │      0 │ train │<span style=\"color: #c0c0c0; text-decoration-color: #c0c0c0\">    [32, 512] </span>│<span style=\"color: #c0c0c0; text-decoration-color: #c0c0c0\">    [32, 512] </span>│\n",
       "│<span style=\"color: #7f7f7f; text-decoration-color: #7f7f7f\"> 84  </span>│ decoder.graph_label.layers.activations.1    │ ReLU         │      0 │ train │<span style=\"color: #c0c0c0; text-decoration-color: #c0c0c0\">    [32, 512] </span>│<span style=\"color: #c0c0c0; text-decoration-color: #c0c0c0\">    [32, 512] </span>│\n",
       "│<span style=\"color: #7f7f7f; text-decoration-color: #7f7f7f\"> 85  </span>│ decoder.graph_label.layers.activations.2    │ ReLU         │      0 │ train │<span style=\"color: #c0c0c0; text-decoration-color: #c0c0c0\">    [32, 512] </span>│<span style=\"color: #c0c0c0; text-decoration-color: #c0c0c0\">    [32, 512] </span>│\n",
       "│<span style=\"color: #7f7f7f; text-decoration-color: #7f7f7f\"> 86  </span>│ decoder.graph_label.layers.activations.3    │ Identity     │      0 │ train │<span style=\"color: #c0c0c0; text-decoration-color: #c0c0c0\">   [32, 1195] </span>│<span style=\"color: #c0c0c0; text-decoration-color: #c0c0c0\">   [32, 1195] </span>│\n",
       "│<span style=\"color: #7f7f7f; text-decoration-color: #7f7f7f\"> 87  </span>│ decoder.graph_label.layers.dropout_layers   │ ModuleList   │      0 │ train │<span style=\"color: #c0c0c0; text-decoration-color: #c0c0c0\">            ? </span>│<span style=\"color: #c0c0c0; text-decoration-color: #c0c0c0\">            ? </span>│\n",
       "│<span style=\"color: #7f7f7f; text-decoration-color: #7f7f7f\"> 88  </span>│ decoder.graph_label.layers.dropout_layers.0 │ Dropout      │      0 │ train │<span style=\"color: #c0c0c0; text-decoration-color: #c0c0c0\">    [32, 512] </span>│<span style=\"color: #c0c0c0; text-decoration-color: #c0c0c0\">    [32, 512] </span>│\n",
       "│<span style=\"color: #7f7f7f; text-decoration-color: #7f7f7f\"> 89  </span>│ decoder.graph_label.layers.dropout_layers.1 │ Dropout      │      0 │ train │<span style=\"color: #c0c0c0; text-decoration-color: #c0c0c0\">    [32, 512] </span>│<span style=\"color: #c0c0c0; text-decoration-color: #c0c0c0\">    [32, 512] </span>│\n",
       "│<span style=\"color: #7f7f7f; text-decoration-color: #7f7f7f\"> 90  </span>│ decoder.graph_label.layers.dropout_layers.2 │ Dropout      │      0 │ train │<span style=\"color: #c0c0c0; text-decoration-color: #c0c0c0\">    [32, 512] </span>│<span style=\"color: #c0c0c0; text-decoration-color: #c0c0c0\">    [32, 512] </span>│\n",
       "│<span style=\"color: #7f7f7f; text-decoration-color: #7f7f7f\"> 91  </span>│ train_graph_label_accuracy                  │ MulticlassA… │      0 │ train │<span style=\"color: #c0c0c0; text-decoration-color: #c0c0c0\">            ? </span>│<span style=\"color: #c0c0c0; text-decoration-color: #c0c0c0\">            ? </span>│\n",
       "│<span style=\"color: #7f7f7f; text-decoration-color: #7f7f7f\"> 92  </span>│ val_graph_label_accuracy                    │ MulticlassA… │      0 │ train │<span style=\"color: #c0c0c0; text-decoration-color: #c0c0c0\">            ? </span>│<span style=\"color: #c0c0c0; text-decoration-color: #c0c0c0\">            ? </span>│\n",
       "│<span style=\"color: #7f7f7f; text-decoration-color: #7f7f7f\"> 93  </span>│ test_graph_label_accuracy                   │ MulticlassA… │      0 │ train │<span style=\"color: #c0c0c0; text-decoration-color: #c0c0c0\">            ? </span>│<span style=\"color: #c0c0c0; text-decoration-color: #c0c0c0\">            ? </span>│\n",
       "│<span style=\"color: #7f7f7f; text-decoration-color: #7f7f7f\"> 94  </span>│ train_graph_label_f1_score                  │ MulticlassF… │      0 │ train │<span style=\"color: #c0c0c0; text-decoration-color: #c0c0c0\">            ? </span>│<span style=\"color: #c0c0c0; text-decoration-color: #c0c0c0\">            ? </span>│\n",
       "│<span style=\"color: #7f7f7f; text-decoration-color: #7f7f7f\"> 95  </span>│ val_graph_label_f1_score                    │ MulticlassF… │      0 │ train │<span style=\"color: #c0c0c0; text-decoration-color: #c0c0c0\">            ? </span>│<span style=\"color: #c0c0c0; text-decoration-color: #c0c0c0\">            ? </span>│\n",
       "│<span style=\"color: #7f7f7f; text-decoration-color: #7f7f7f\"> 96  </span>│ test_graph_label_f1_score                   │ MulticlassF… │      0 │ train │<span style=\"color: #c0c0c0; text-decoration-color: #c0c0c0\">            ? </span>│<span style=\"color: #c0c0c0; text-decoration-color: #c0c0c0\">            ? </span>│\n",
       "│<span style=\"color: #7f7f7f; text-decoration-color: #7f7f7f\"> 97  </span>│ train_graph_label_f1_max                    │ F1Max        │      0 │ train │<span style=\"color: #c0c0c0; text-decoration-color: #c0c0c0\">            ? </span>│<span style=\"color: #c0c0c0; text-decoration-color: #c0c0c0\">            ? </span>│\n",
       "│<span style=\"color: #7f7f7f; text-decoration-color: #7f7f7f\"> 98  </span>│ val_graph_label_f1_max                      │ F1Max        │      0 │ train │<span style=\"color: #c0c0c0; text-decoration-color: #c0c0c0\">            ? </span>│<span style=\"color: #c0c0c0; text-decoration-color: #c0c0c0\">            ? </span>│\n",
       "│<span style=\"color: #7f7f7f; text-decoration-color: #7f7f7f\"> 99  </span>│ test_graph_label_f1_max                     │ F1Max        │      0 │ train │<span style=\"color: #c0c0c0; text-decoration-color: #c0c0c0\">            ? </span>│<span style=\"color: #c0c0c0; text-decoration-color: #c0c0c0\">            ? </span>│\n",
       "│<span style=\"color: #7f7f7f; text-decoration-color: #7f7f7f\"> 100 </span>│ featuriser                                  │ ProteinFeat… │      0 │ train │<span style=\"color: #c0c0c0; text-decoration-color: #c0c0c0\">            ? </span>│<span style=\"color: #c0c0c0; text-decoration-color: #c0c0c0\">            ? </span>│\n",
       "└─────┴─────────────────────────────────────────────┴──────────────┴────────┴───────┴──────────────┴──────────────┘\n",
       "</pre>\n"
      ],
      "text/plain": [
       "┏━━━━━┳━━━━━━━━━━━━━━━━━━━━━━━━━━━━━━━━━━━━━━━━━━━━━┳━━━━━━━━━━━━━━┳━━━━━━━━┳━━━━━━━┳━━━━━━━━━━━━━━┳━━━━━━━━━━━━━━┓\n",
       "┃\u001b[1;35m \u001b[0m\u001b[1;35m   \u001b[0m\u001b[1;35m \u001b[0m┃\u001b[1;35m \u001b[0m\u001b[1;35mName                                       \u001b[0m\u001b[1;35m \u001b[0m┃\u001b[1;35m \u001b[0m\u001b[1;35mType        \u001b[0m\u001b[1;35m \u001b[0m┃\u001b[1;35m \u001b[0m\u001b[1;35mParams\u001b[0m\u001b[1;35m \u001b[0m┃\u001b[1;35m \u001b[0m\u001b[1;35mMode \u001b[0m\u001b[1;35m \u001b[0m┃\u001b[1;35m \u001b[0m\u001b[1;35m    In sizes\u001b[0m\u001b[1;35m \u001b[0m┃\u001b[1;35m \u001b[0m\u001b[1;35m   Out sizes\u001b[0m\u001b[1;35m \u001b[0m┃\n",
       "┡━━━━━╇━━━━━━━━━━━━━━━━━━━━━━━━━━━━━━━━━━━━━━━━━━━━━╇━━━━━━━━━━━━━━╇━━━━━━━━╇━━━━━━━╇━━━━━━━━━━━━━━╇━━━━━━━━━━━━━━┩\n",
       "│\u001b[2m \u001b[0m\u001b[2m0  \u001b[0m\u001b[2m \u001b[0m│ encoder                                     │ SchNetModel  │  2.7 M │ train │\u001b[37m \u001b[0m\u001b[37m           ?\u001b[0m\u001b[37m \u001b[0m│\u001b[37m \u001b[0m\u001b[37m           ?\u001b[0m\u001b[37m \u001b[0m│\n",
       "│\u001b[2m \u001b[0m\u001b[2m1  \u001b[0m\u001b[2m \u001b[0m│ encoder.sum_aggr                            │ SumAggregat… │      0 │ train │\u001b[37m \u001b[0m\u001b[37m           ?\u001b[0m\u001b[37m \u001b[0m│\u001b[37m \u001b[0m\u001b[37m           ?\u001b[0m\u001b[37m \u001b[0m│\n",
       "│\u001b[2m \u001b[0m\u001b[2m2  \u001b[0m\u001b[2m \u001b[0m│ encoder.embedding                           │ Linear       │ 12.3 K │ train │\u001b[37m \u001b[0m\u001b[37m [10722, 23]\u001b[0m\u001b[37m \u001b[0m│\u001b[37m \u001b[0m\u001b[37m[10722, 512]\u001b[0m\u001b[37m \u001b[0m│\n",
       "│\u001b[2m \u001b[0m\u001b[2m3  \u001b[0m\u001b[2m \u001b[0m│ encoder.distance_expansion                  │ GaussianSme… │      0 │ train │\u001b[37m \u001b[0m\u001b[37m    [171552]\u001b[0m\u001b[37m \u001b[0m│\u001b[37m \u001b[0m\u001b[37m[171552, 50]\u001b[0m\u001b[37m \u001b[0m│\n",
       "│\u001b[2m \u001b[0m\u001b[2m4  \u001b[0m\u001b[2m \u001b[0m│ encoder.interactions                        │ ModuleList   │  2.5 M │ train │\u001b[37m \u001b[0m\u001b[37m           ?\u001b[0m\u001b[37m \u001b[0m│\u001b[37m \u001b[0m\u001b[37m           ?\u001b[0m\u001b[37m \u001b[0m│\n",
       "│\u001b[2m \u001b[0m\u001b[2m5  \u001b[0m\u001b[2m \u001b[0m│ encoder.interactions.0                      │ Interaction… │  417 K │ train │\u001b[37m \u001b[0m\u001b[37m    [[10722,\u001b[0m\u001b[37m \u001b[0m│\u001b[37m \u001b[0m\u001b[37m[10722, 512]\u001b[0m\u001b[37m \u001b[0m│\n",
       "│\u001b[2m     \u001b[0m│                                             │              │        │       │\u001b[37m \u001b[0m\u001b[37m   512], [2,\u001b[0m\u001b[37m \u001b[0m│\u001b[37m              \u001b[0m│\n",
       "│\u001b[2m     \u001b[0m│                                             │              │        │       │\u001b[37m \u001b[0m\u001b[37m    171552],\u001b[0m\u001b[37m \u001b[0m│\u001b[37m              \u001b[0m│\n",
       "│\u001b[2m     \u001b[0m│                                             │              │        │       │\u001b[37m \u001b[0m\u001b[37m   [171552],\u001b[0m\u001b[37m \u001b[0m│\u001b[37m              \u001b[0m│\n",
       "│\u001b[2m     \u001b[0m│                                             │              │        │       │\u001b[37m \u001b[0m\u001b[37m    [171552,\u001b[0m\u001b[37m \u001b[0m│\u001b[37m              \u001b[0m│\n",
       "│\u001b[2m     \u001b[0m│                                             │              │        │       │\u001b[37m \u001b[0m\u001b[37m        50]]\u001b[0m\u001b[37m \u001b[0m│\u001b[37m              \u001b[0m│\n",
       "│\u001b[2m \u001b[0m\u001b[2m6  \u001b[0m\u001b[2m \u001b[0m│ encoder.interactions.0.mlp                  │ Sequential   │ 23.0 K │ train │\u001b[37m \u001b[0m\u001b[37m[171552, 50]\u001b[0m\u001b[37m \u001b[0m│\u001b[37m \u001b[0m\u001b[37m    [171552,\u001b[0m\u001b[37m \u001b[0m│\n",
       "│\u001b[2m     \u001b[0m│                                             │              │        │       │\u001b[37m              \u001b[0m│\u001b[37m \u001b[0m\u001b[37m        128]\u001b[0m\u001b[37m \u001b[0m│\n",
       "│\u001b[2m \u001b[0m\u001b[2m7  \u001b[0m\u001b[2m \u001b[0m│ encoder.interactions.0.mlp.0                │ Linear       │  6.5 K │ train │\u001b[37m \u001b[0m\u001b[37m[171552, 50]\u001b[0m\u001b[37m \u001b[0m│\u001b[37m \u001b[0m\u001b[37m    [171552,\u001b[0m\u001b[37m \u001b[0m│\n",
       "│\u001b[2m     \u001b[0m│                                             │              │        │       │\u001b[37m              \u001b[0m│\u001b[37m \u001b[0m\u001b[37m        128]\u001b[0m\u001b[37m \u001b[0m│\n",
       "│\u001b[2m \u001b[0m\u001b[2m8  \u001b[0m\u001b[2m \u001b[0m│ encoder.interactions.0.mlp.1                │ ShiftedSoft… │      0 │ train │\u001b[37m \u001b[0m\u001b[37m    [171552,\u001b[0m\u001b[37m \u001b[0m│\u001b[37m \u001b[0m\u001b[37m    [171552,\u001b[0m\u001b[37m \u001b[0m│\n",
       "│\u001b[2m     \u001b[0m│                                             │              │        │       │\u001b[37m \u001b[0m\u001b[37m        128]\u001b[0m\u001b[37m \u001b[0m│\u001b[37m \u001b[0m\u001b[37m        128]\u001b[0m\u001b[37m \u001b[0m│\n",
       "│\u001b[2m \u001b[0m\u001b[2m9  \u001b[0m\u001b[2m \u001b[0m│ encoder.interactions.0.mlp.2                │ Linear       │ 16.5 K │ train │\u001b[37m \u001b[0m\u001b[37m    [171552,\u001b[0m\u001b[37m \u001b[0m│\u001b[37m \u001b[0m\u001b[37m    [171552,\u001b[0m\u001b[37m \u001b[0m│\n",
       "│\u001b[2m     \u001b[0m│                                             │              │        │       │\u001b[37m \u001b[0m\u001b[37m        128]\u001b[0m\u001b[37m \u001b[0m│\u001b[37m \u001b[0m\u001b[37m        128]\u001b[0m\u001b[37m \u001b[0m│\n",
       "│\u001b[2m \u001b[0m\u001b[2m10 \u001b[0m\u001b[2m \u001b[0m│ encoder.interactions.0.conv                 │ CFConv       │  154 K │ train │\u001b[37m \u001b[0m\u001b[37m    [[10722,\u001b[0m\u001b[37m \u001b[0m│\u001b[37m \u001b[0m\u001b[37m[10722, 512]\u001b[0m\u001b[37m \u001b[0m│\n",
       "│\u001b[2m     \u001b[0m│                                             │              │        │       │\u001b[37m \u001b[0m\u001b[37m   512], [2,\u001b[0m\u001b[37m \u001b[0m│\u001b[37m              \u001b[0m│\n",
       "│\u001b[2m     \u001b[0m│                                             │              │        │       │\u001b[37m \u001b[0m\u001b[37m    171552],\u001b[0m\u001b[37m \u001b[0m│\u001b[37m              \u001b[0m│\n",
       "│\u001b[2m     \u001b[0m│                                             │              │        │       │\u001b[37m \u001b[0m\u001b[37m   [171552],\u001b[0m\u001b[37m \u001b[0m│\u001b[37m              \u001b[0m│\n",
       "│\u001b[2m     \u001b[0m│                                             │              │        │       │\u001b[37m \u001b[0m\u001b[37m    [171552,\u001b[0m\u001b[37m \u001b[0m│\u001b[37m              \u001b[0m│\n",
       "│\u001b[2m     \u001b[0m│                                             │              │        │       │\u001b[37m \u001b[0m\u001b[37m        50]]\u001b[0m\u001b[37m \u001b[0m│\u001b[37m              \u001b[0m│\n",
       "│\u001b[2m \u001b[0m\u001b[2m11 \u001b[0m\u001b[2m \u001b[0m│ encoder.interactions.0.conv.aggr_module     │ SumAggregat… │      0 │ train │\u001b[37m \u001b[0m\u001b[37m   [[171552,\u001b[0m\u001b[37m \u001b[0m│\u001b[37m \u001b[0m\u001b[37m[10722, 128]\u001b[0m\u001b[37m \u001b[0m│\n",
       "│\u001b[2m     \u001b[0m│                                             │              │        │       │\u001b[37m \u001b[0m\u001b[37m       128],\u001b[0m\u001b[37m \u001b[0m│\u001b[37m              \u001b[0m│\n",
       "│\u001b[2m     \u001b[0m│                                             │              │        │       │\u001b[37m \u001b[0m\u001b[37m   [171552],\u001b[0m\u001b[37m \u001b[0m│\u001b[37m              \u001b[0m│\n",
       "│\u001b[2m     \u001b[0m│                                             │              │        │       │\u001b[37m \u001b[0m\u001b[37m   '?', '?',\u001b[0m\u001b[37m \u001b[0m│\u001b[37m              \u001b[0m│\n",
       "│\u001b[2m     \u001b[0m│                                             │              │        │       │\u001b[37m \u001b[0m\u001b[37m        '?']\u001b[0m\u001b[37m \u001b[0m│\u001b[37m              \u001b[0m│\n",
       "│\u001b[2m \u001b[0m\u001b[2m12 \u001b[0m\u001b[2m \u001b[0m│ encoder.interactions.0.conv.lin1            │ Linear       │ 65.5 K │ train │\u001b[37m \u001b[0m\u001b[37m[10722, 512]\u001b[0m\u001b[37m \u001b[0m│\u001b[37m \u001b[0m\u001b[37m[10722, 128]\u001b[0m\u001b[37m \u001b[0m│\n",
       "│\u001b[2m \u001b[0m\u001b[2m13 \u001b[0m\u001b[2m \u001b[0m│ encoder.interactions.0.conv.lin2            │ Linear       │ 66.0 K │ train │\u001b[37m \u001b[0m\u001b[37m[10722, 128]\u001b[0m\u001b[37m \u001b[0m│\u001b[37m \u001b[0m\u001b[37m[10722, 512]\u001b[0m\u001b[37m \u001b[0m│\n",
       "│\u001b[2m \u001b[0m\u001b[2m14 \u001b[0m\u001b[2m \u001b[0m│ encoder.interactions.0.act                  │ ShiftedSoft… │      0 │ train │\u001b[37m \u001b[0m\u001b[37m[10722, 512]\u001b[0m\u001b[37m \u001b[0m│\u001b[37m \u001b[0m\u001b[37m[10722, 512]\u001b[0m\u001b[37m \u001b[0m│\n",
       "│\u001b[2m \u001b[0m\u001b[2m15 \u001b[0m\u001b[2m \u001b[0m│ encoder.interactions.0.lin                  │ Linear       │  262 K │ train │\u001b[37m \u001b[0m\u001b[37m[10722, 512]\u001b[0m\u001b[37m \u001b[0m│\u001b[37m \u001b[0m\u001b[37m[10722, 512]\u001b[0m\u001b[37m \u001b[0m│\n",
       "│\u001b[2m \u001b[0m\u001b[2m16 \u001b[0m\u001b[2m \u001b[0m│ encoder.interactions.1                      │ Interaction… │  417 K │ train │\u001b[37m \u001b[0m\u001b[37m    [[10722,\u001b[0m\u001b[37m \u001b[0m│\u001b[37m \u001b[0m\u001b[37m[10722, 512]\u001b[0m\u001b[37m \u001b[0m│\n",
       "│\u001b[2m     \u001b[0m│                                             │              │        │       │\u001b[37m \u001b[0m\u001b[37m   512], [2,\u001b[0m\u001b[37m \u001b[0m│\u001b[37m              \u001b[0m│\n",
       "│\u001b[2m     \u001b[0m│                                             │              │        │       │\u001b[37m \u001b[0m\u001b[37m    171552],\u001b[0m\u001b[37m \u001b[0m│\u001b[37m              \u001b[0m│\n",
       "│\u001b[2m     \u001b[0m│                                             │              │        │       │\u001b[37m \u001b[0m\u001b[37m   [171552],\u001b[0m\u001b[37m \u001b[0m│\u001b[37m              \u001b[0m│\n",
       "│\u001b[2m     \u001b[0m│                                             │              │        │       │\u001b[37m \u001b[0m\u001b[37m    [171552,\u001b[0m\u001b[37m \u001b[0m│\u001b[37m              \u001b[0m│\n",
       "│\u001b[2m     \u001b[0m│                                             │              │        │       │\u001b[37m \u001b[0m\u001b[37m        50]]\u001b[0m\u001b[37m \u001b[0m│\u001b[37m              \u001b[0m│\n",
       "│\u001b[2m \u001b[0m\u001b[2m17 \u001b[0m\u001b[2m \u001b[0m│ encoder.interactions.1.mlp                  │ Sequential   │ 23.0 K │ train │\u001b[37m \u001b[0m\u001b[37m[171552, 50]\u001b[0m\u001b[37m \u001b[0m│\u001b[37m \u001b[0m\u001b[37m    [171552,\u001b[0m\u001b[37m \u001b[0m│\n",
       "│\u001b[2m     \u001b[0m│                                             │              │        │       │\u001b[37m              \u001b[0m│\u001b[37m \u001b[0m\u001b[37m        128]\u001b[0m\u001b[37m \u001b[0m│\n",
       "│\u001b[2m \u001b[0m\u001b[2m18 \u001b[0m\u001b[2m \u001b[0m│ encoder.interactions.1.mlp.0                │ Linear       │  6.5 K │ train │\u001b[37m \u001b[0m\u001b[37m[171552, 50]\u001b[0m\u001b[37m \u001b[0m│\u001b[37m \u001b[0m\u001b[37m    [171552,\u001b[0m\u001b[37m \u001b[0m│\n",
       "│\u001b[2m     \u001b[0m│                                             │              │        │       │\u001b[37m              \u001b[0m│\u001b[37m \u001b[0m\u001b[37m        128]\u001b[0m\u001b[37m \u001b[0m│\n",
       "│\u001b[2m \u001b[0m\u001b[2m19 \u001b[0m\u001b[2m \u001b[0m│ encoder.interactions.1.mlp.1                │ ShiftedSoft… │      0 │ train │\u001b[37m \u001b[0m\u001b[37m    [171552,\u001b[0m\u001b[37m \u001b[0m│\u001b[37m \u001b[0m\u001b[37m    [171552,\u001b[0m\u001b[37m \u001b[0m│\n",
       "│\u001b[2m     \u001b[0m│                                             │              │        │       │\u001b[37m \u001b[0m\u001b[37m        128]\u001b[0m\u001b[37m \u001b[0m│\u001b[37m \u001b[0m\u001b[37m        128]\u001b[0m\u001b[37m \u001b[0m│\n",
       "│\u001b[2m \u001b[0m\u001b[2m20 \u001b[0m\u001b[2m \u001b[0m│ encoder.interactions.1.mlp.2                │ Linear       │ 16.5 K │ train │\u001b[37m \u001b[0m\u001b[37m    [171552,\u001b[0m\u001b[37m \u001b[0m│\u001b[37m \u001b[0m\u001b[37m    [171552,\u001b[0m\u001b[37m \u001b[0m│\n",
       "│\u001b[2m     \u001b[0m│                                             │              │        │       │\u001b[37m \u001b[0m\u001b[37m        128]\u001b[0m\u001b[37m \u001b[0m│\u001b[37m \u001b[0m\u001b[37m        128]\u001b[0m\u001b[37m \u001b[0m│\n",
       "│\u001b[2m \u001b[0m\u001b[2m21 \u001b[0m\u001b[2m \u001b[0m│ encoder.interactions.1.conv                 │ CFConv       │  154 K │ train │\u001b[37m \u001b[0m\u001b[37m    [[10722,\u001b[0m\u001b[37m \u001b[0m│\u001b[37m \u001b[0m\u001b[37m[10722, 512]\u001b[0m\u001b[37m \u001b[0m│\n",
       "│\u001b[2m     \u001b[0m│                                             │              │        │       │\u001b[37m \u001b[0m\u001b[37m   512], [2,\u001b[0m\u001b[37m \u001b[0m│\u001b[37m              \u001b[0m│\n",
       "│\u001b[2m     \u001b[0m│                                             │              │        │       │\u001b[37m \u001b[0m\u001b[37m    171552],\u001b[0m\u001b[37m \u001b[0m│\u001b[37m              \u001b[0m│\n",
       "│\u001b[2m     \u001b[0m│                                             │              │        │       │\u001b[37m \u001b[0m\u001b[37m   [171552],\u001b[0m\u001b[37m \u001b[0m│\u001b[37m              \u001b[0m│\n",
       "│\u001b[2m     \u001b[0m│                                             │              │        │       │\u001b[37m \u001b[0m\u001b[37m    [171552,\u001b[0m\u001b[37m \u001b[0m│\u001b[37m              \u001b[0m│\n",
       "│\u001b[2m     \u001b[0m│                                             │              │        │       │\u001b[37m \u001b[0m\u001b[37m        50]]\u001b[0m\u001b[37m \u001b[0m│\u001b[37m              \u001b[0m│\n",
       "│\u001b[2m \u001b[0m\u001b[2m22 \u001b[0m\u001b[2m \u001b[0m│ encoder.interactions.1.conv.aggr_module     │ SumAggregat… │      0 │ train │\u001b[37m \u001b[0m\u001b[37m   [[171552,\u001b[0m\u001b[37m \u001b[0m│\u001b[37m \u001b[0m\u001b[37m[10722, 128]\u001b[0m\u001b[37m \u001b[0m│\n",
       "│\u001b[2m     \u001b[0m│                                             │              │        │       │\u001b[37m \u001b[0m\u001b[37m       128],\u001b[0m\u001b[37m \u001b[0m│\u001b[37m              \u001b[0m│\n",
       "│\u001b[2m     \u001b[0m│                                             │              │        │       │\u001b[37m \u001b[0m\u001b[37m   [171552],\u001b[0m\u001b[37m \u001b[0m│\u001b[37m              \u001b[0m│\n",
       "│\u001b[2m     \u001b[0m│                                             │              │        │       │\u001b[37m \u001b[0m\u001b[37m   '?', '?',\u001b[0m\u001b[37m \u001b[0m│\u001b[37m              \u001b[0m│\n",
       "│\u001b[2m     \u001b[0m│                                             │              │        │       │\u001b[37m \u001b[0m\u001b[37m        '?']\u001b[0m\u001b[37m \u001b[0m│\u001b[37m              \u001b[0m│\n",
       "│\u001b[2m \u001b[0m\u001b[2m23 \u001b[0m\u001b[2m \u001b[0m│ encoder.interactions.1.conv.lin1            │ Linear       │ 65.5 K │ train │\u001b[37m \u001b[0m\u001b[37m[10722, 512]\u001b[0m\u001b[37m \u001b[0m│\u001b[37m \u001b[0m\u001b[37m[10722, 128]\u001b[0m\u001b[37m \u001b[0m│\n",
       "│\u001b[2m \u001b[0m\u001b[2m24 \u001b[0m\u001b[2m \u001b[0m│ encoder.interactions.1.conv.lin2            │ Linear       │ 66.0 K │ train │\u001b[37m \u001b[0m\u001b[37m[10722, 128]\u001b[0m\u001b[37m \u001b[0m│\u001b[37m \u001b[0m\u001b[37m[10722, 512]\u001b[0m\u001b[37m \u001b[0m│\n",
       "│\u001b[2m \u001b[0m\u001b[2m25 \u001b[0m\u001b[2m \u001b[0m│ encoder.interactions.1.act                  │ ShiftedSoft… │      0 │ train │\u001b[37m \u001b[0m\u001b[37m[10722, 512]\u001b[0m\u001b[37m \u001b[0m│\u001b[37m \u001b[0m\u001b[37m[10722, 512]\u001b[0m\u001b[37m \u001b[0m│\n",
       "│\u001b[2m \u001b[0m\u001b[2m26 \u001b[0m\u001b[2m \u001b[0m│ encoder.interactions.1.lin                  │ Linear       │  262 K │ train │\u001b[37m \u001b[0m\u001b[37m[10722, 512]\u001b[0m\u001b[37m \u001b[0m│\u001b[37m \u001b[0m\u001b[37m[10722, 512]\u001b[0m\u001b[37m \u001b[0m│\n",
       "│\u001b[2m \u001b[0m\u001b[2m27 \u001b[0m\u001b[2m \u001b[0m│ encoder.interactions.2                      │ Interaction… │  417 K │ train │\u001b[37m \u001b[0m\u001b[37m    [[10722,\u001b[0m\u001b[37m \u001b[0m│\u001b[37m \u001b[0m\u001b[37m[10722, 512]\u001b[0m\u001b[37m \u001b[0m│\n",
       "│\u001b[2m     \u001b[0m│                                             │              │        │       │\u001b[37m \u001b[0m\u001b[37m   512], [2,\u001b[0m\u001b[37m \u001b[0m│\u001b[37m              \u001b[0m│\n",
       "│\u001b[2m     \u001b[0m│                                             │              │        │       │\u001b[37m \u001b[0m\u001b[37m    171552],\u001b[0m\u001b[37m \u001b[0m│\u001b[37m              \u001b[0m│\n",
       "│\u001b[2m     \u001b[0m│                                             │              │        │       │\u001b[37m \u001b[0m\u001b[37m   [171552],\u001b[0m\u001b[37m \u001b[0m│\u001b[37m              \u001b[0m│\n",
       "│\u001b[2m     \u001b[0m│                                             │              │        │       │\u001b[37m \u001b[0m\u001b[37m    [171552,\u001b[0m\u001b[37m \u001b[0m│\u001b[37m              \u001b[0m│\n",
       "│\u001b[2m     \u001b[0m│                                             │              │        │       │\u001b[37m \u001b[0m\u001b[37m        50]]\u001b[0m\u001b[37m \u001b[0m│\u001b[37m              \u001b[0m│\n",
       "│\u001b[2m \u001b[0m\u001b[2m28 \u001b[0m\u001b[2m \u001b[0m│ encoder.interactions.2.mlp                  │ Sequential   │ 23.0 K │ train │\u001b[37m \u001b[0m\u001b[37m[171552, 50]\u001b[0m\u001b[37m \u001b[0m│\u001b[37m \u001b[0m\u001b[37m    [171552,\u001b[0m\u001b[37m \u001b[0m│\n",
       "│\u001b[2m     \u001b[0m│                                             │              │        │       │\u001b[37m              \u001b[0m│\u001b[37m \u001b[0m\u001b[37m        128]\u001b[0m\u001b[37m \u001b[0m│\n",
       "│\u001b[2m \u001b[0m\u001b[2m29 \u001b[0m\u001b[2m \u001b[0m│ encoder.interactions.2.mlp.0                │ Linear       │  6.5 K │ train │\u001b[37m \u001b[0m\u001b[37m[171552, 50]\u001b[0m\u001b[37m \u001b[0m│\u001b[37m \u001b[0m\u001b[37m    [171552,\u001b[0m\u001b[37m \u001b[0m│\n",
       "│\u001b[2m     \u001b[0m│                                             │              │        │       │\u001b[37m              \u001b[0m│\u001b[37m \u001b[0m\u001b[37m        128]\u001b[0m\u001b[37m \u001b[0m│\n",
       "│\u001b[2m \u001b[0m\u001b[2m30 \u001b[0m\u001b[2m \u001b[0m│ encoder.interactions.2.mlp.1                │ ShiftedSoft… │      0 │ train │\u001b[37m \u001b[0m\u001b[37m    [171552,\u001b[0m\u001b[37m \u001b[0m│\u001b[37m \u001b[0m\u001b[37m    [171552,\u001b[0m\u001b[37m \u001b[0m│\n",
       "│\u001b[2m     \u001b[0m│                                             │              │        │       │\u001b[37m \u001b[0m\u001b[37m        128]\u001b[0m\u001b[37m \u001b[0m│\u001b[37m \u001b[0m\u001b[37m        128]\u001b[0m\u001b[37m \u001b[0m│\n",
       "│\u001b[2m \u001b[0m\u001b[2m31 \u001b[0m\u001b[2m \u001b[0m│ encoder.interactions.2.mlp.2                │ Linear       │ 16.5 K │ train │\u001b[37m \u001b[0m\u001b[37m    [171552,\u001b[0m\u001b[37m \u001b[0m│\u001b[37m \u001b[0m\u001b[37m    [171552,\u001b[0m\u001b[37m \u001b[0m│\n",
       "│\u001b[2m     \u001b[0m│                                             │              │        │       │\u001b[37m \u001b[0m\u001b[37m        128]\u001b[0m\u001b[37m \u001b[0m│\u001b[37m \u001b[0m\u001b[37m        128]\u001b[0m\u001b[37m \u001b[0m│\n",
       "│\u001b[2m \u001b[0m\u001b[2m32 \u001b[0m\u001b[2m \u001b[0m│ encoder.interactions.2.conv                 │ CFConv       │  154 K │ train │\u001b[37m \u001b[0m\u001b[37m    [[10722,\u001b[0m\u001b[37m \u001b[0m│\u001b[37m \u001b[0m\u001b[37m[10722, 512]\u001b[0m\u001b[37m \u001b[0m│\n",
       "│\u001b[2m     \u001b[0m│                                             │              │        │       │\u001b[37m \u001b[0m\u001b[37m   512], [2,\u001b[0m\u001b[37m \u001b[0m│\u001b[37m              \u001b[0m│\n",
       "│\u001b[2m     \u001b[0m│                                             │              │        │       │\u001b[37m \u001b[0m\u001b[37m    171552],\u001b[0m\u001b[37m \u001b[0m│\u001b[37m              \u001b[0m│\n",
       "│\u001b[2m     \u001b[0m│                                             │              │        │       │\u001b[37m \u001b[0m\u001b[37m   [171552],\u001b[0m\u001b[37m \u001b[0m│\u001b[37m              \u001b[0m│\n",
       "│\u001b[2m     \u001b[0m│                                             │              │        │       │\u001b[37m \u001b[0m\u001b[37m    [171552,\u001b[0m\u001b[37m \u001b[0m│\u001b[37m              \u001b[0m│\n",
       "│\u001b[2m     \u001b[0m│                                             │              │        │       │\u001b[37m \u001b[0m\u001b[37m        50]]\u001b[0m\u001b[37m \u001b[0m│\u001b[37m              \u001b[0m│\n",
       "│\u001b[2m \u001b[0m\u001b[2m33 \u001b[0m\u001b[2m \u001b[0m│ encoder.interactions.2.conv.aggr_module     │ SumAggregat… │      0 │ train │\u001b[37m \u001b[0m\u001b[37m   [[171552,\u001b[0m\u001b[37m \u001b[0m│\u001b[37m \u001b[0m\u001b[37m[10722, 128]\u001b[0m\u001b[37m \u001b[0m│\n",
       "│\u001b[2m     \u001b[0m│                                             │              │        │       │\u001b[37m \u001b[0m\u001b[37m       128],\u001b[0m\u001b[37m \u001b[0m│\u001b[37m              \u001b[0m│\n",
       "│\u001b[2m     \u001b[0m│                                             │              │        │       │\u001b[37m \u001b[0m\u001b[37m   [171552],\u001b[0m\u001b[37m \u001b[0m│\u001b[37m              \u001b[0m│\n",
       "│\u001b[2m     \u001b[0m│                                             │              │        │       │\u001b[37m \u001b[0m\u001b[37m   '?', '?',\u001b[0m\u001b[37m \u001b[0m│\u001b[37m              \u001b[0m│\n",
       "│\u001b[2m     \u001b[0m│                                             │              │        │       │\u001b[37m \u001b[0m\u001b[37m        '?']\u001b[0m\u001b[37m \u001b[0m│\u001b[37m              \u001b[0m│\n",
       "│\u001b[2m \u001b[0m\u001b[2m34 \u001b[0m\u001b[2m \u001b[0m│ encoder.interactions.2.conv.lin1            │ Linear       │ 65.5 K │ train │\u001b[37m \u001b[0m\u001b[37m[10722, 512]\u001b[0m\u001b[37m \u001b[0m│\u001b[37m \u001b[0m\u001b[37m[10722, 128]\u001b[0m\u001b[37m \u001b[0m│\n",
       "│\u001b[2m \u001b[0m\u001b[2m35 \u001b[0m\u001b[2m \u001b[0m│ encoder.interactions.2.conv.lin2            │ Linear       │ 66.0 K │ train │\u001b[37m \u001b[0m\u001b[37m[10722, 128]\u001b[0m\u001b[37m \u001b[0m│\u001b[37m \u001b[0m\u001b[37m[10722, 512]\u001b[0m\u001b[37m \u001b[0m│\n",
       "│\u001b[2m \u001b[0m\u001b[2m36 \u001b[0m\u001b[2m \u001b[0m│ encoder.interactions.2.act                  │ ShiftedSoft… │      0 │ train │\u001b[37m \u001b[0m\u001b[37m[10722, 512]\u001b[0m\u001b[37m \u001b[0m│\u001b[37m \u001b[0m\u001b[37m[10722, 512]\u001b[0m\u001b[37m \u001b[0m│\n",
       "│\u001b[2m \u001b[0m\u001b[2m37 \u001b[0m\u001b[2m \u001b[0m│ encoder.interactions.2.lin                  │ Linear       │  262 K │ train │\u001b[37m \u001b[0m\u001b[37m[10722, 512]\u001b[0m\u001b[37m \u001b[0m│\u001b[37m \u001b[0m\u001b[37m[10722, 512]\u001b[0m\u001b[37m \u001b[0m│\n",
       "│\u001b[2m \u001b[0m\u001b[2m38 \u001b[0m\u001b[2m \u001b[0m│ encoder.interactions.3                      │ Interaction… │  417 K │ train │\u001b[37m \u001b[0m\u001b[37m    [[10722,\u001b[0m\u001b[37m \u001b[0m│\u001b[37m \u001b[0m\u001b[37m[10722, 512]\u001b[0m\u001b[37m \u001b[0m│\n",
       "│\u001b[2m     \u001b[0m│                                             │              │        │       │\u001b[37m \u001b[0m\u001b[37m   512], [2,\u001b[0m\u001b[37m \u001b[0m│\u001b[37m              \u001b[0m│\n",
       "│\u001b[2m     \u001b[0m│                                             │              │        │       │\u001b[37m \u001b[0m\u001b[37m    171552],\u001b[0m\u001b[37m \u001b[0m│\u001b[37m              \u001b[0m│\n",
       "│\u001b[2m     \u001b[0m│                                             │              │        │       │\u001b[37m \u001b[0m\u001b[37m   [171552],\u001b[0m\u001b[37m \u001b[0m│\u001b[37m              \u001b[0m│\n",
       "│\u001b[2m     \u001b[0m│                                             │              │        │       │\u001b[37m \u001b[0m\u001b[37m    [171552,\u001b[0m\u001b[37m \u001b[0m│\u001b[37m              \u001b[0m│\n",
       "│\u001b[2m     \u001b[0m│                                             │              │        │       │\u001b[37m \u001b[0m\u001b[37m        50]]\u001b[0m\u001b[37m \u001b[0m│\u001b[37m              \u001b[0m│\n",
       "│\u001b[2m \u001b[0m\u001b[2m39 \u001b[0m\u001b[2m \u001b[0m│ encoder.interactions.3.mlp                  │ Sequential   │ 23.0 K │ train │\u001b[37m \u001b[0m\u001b[37m[171552, 50]\u001b[0m\u001b[37m \u001b[0m│\u001b[37m \u001b[0m\u001b[37m    [171552,\u001b[0m\u001b[37m \u001b[0m│\n",
       "│\u001b[2m     \u001b[0m│                                             │              │        │       │\u001b[37m              \u001b[0m│\u001b[37m \u001b[0m\u001b[37m        128]\u001b[0m\u001b[37m \u001b[0m│\n",
       "│\u001b[2m \u001b[0m\u001b[2m40 \u001b[0m\u001b[2m \u001b[0m│ encoder.interactions.3.mlp.0                │ Linear       │  6.5 K │ train │\u001b[37m \u001b[0m\u001b[37m[171552, 50]\u001b[0m\u001b[37m \u001b[0m│\u001b[37m \u001b[0m\u001b[37m    [171552,\u001b[0m\u001b[37m \u001b[0m│\n",
       "│\u001b[2m     \u001b[0m│                                             │              │        │       │\u001b[37m              \u001b[0m│\u001b[37m \u001b[0m\u001b[37m        128]\u001b[0m\u001b[37m \u001b[0m│\n",
       "│\u001b[2m \u001b[0m\u001b[2m41 \u001b[0m\u001b[2m \u001b[0m│ encoder.interactions.3.mlp.1                │ ShiftedSoft… │      0 │ train │\u001b[37m \u001b[0m\u001b[37m    [171552,\u001b[0m\u001b[37m \u001b[0m│\u001b[37m \u001b[0m\u001b[37m    [171552,\u001b[0m\u001b[37m \u001b[0m│\n",
       "│\u001b[2m     \u001b[0m│                                             │              │        │       │\u001b[37m \u001b[0m\u001b[37m        128]\u001b[0m\u001b[37m \u001b[0m│\u001b[37m \u001b[0m\u001b[37m        128]\u001b[0m\u001b[37m \u001b[0m│\n",
       "│\u001b[2m \u001b[0m\u001b[2m42 \u001b[0m\u001b[2m \u001b[0m│ encoder.interactions.3.mlp.2                │ Linear       │ 16.5 K │ train │\u001b[37m \u001b[0m\u001b[37m    [171552,\u001b[0m\u001b[37m \u001b[0m│\u001b[37m \u001b[0m\u001b[37m    [171552,\u001b[0m\u001b[37m \u001b[0m│\n",
       "│\u001b[2m     \u001b[0m│                                             │              │        │       │\u001b[37m \u001b[0m\u001b[37m        128]\u001b[0m\u001b[37m \u001b[0m│\u001b[37m \u001b[0m\u001b[37m        128]\u001b[0m\u001b[37m \u001b[0m│\n",
       "│\u001b[2m \u001b[0m\u001b[2m43 \u001b[0m\u001b[2m \u001b[0m│ encoder.interactions.3.conv                 │ CFConv       │  154 K │ train │\u001b[37m \u001b[0m\u001b[37m    [[10722,\u001b[0m\u001b[37m \u001b[0m│\u001b[37m \u001b[0m\u001b[37m[10722, 512]\u001b[0m\u001b[37m \u001b[0m│\n",
       "│\u001b[2m     \u001b[0m│                                             │              │        │       │\u001b[37m \u001b[0m\u001b[37m   512], [2,\u001b[0m\u001b[37m \u001b[0m│\u001b[37m              \u001b[0m│\n",
       "│\u001b[2m     \u001b[0m│                                             │              │        │       │\u001b[37m \u001b[0m\u001b[37m    171552],\u001b[0m\u001b[37m \u001b[0m│\u001b[37m              \u001b[0m│\n",
       "│\u001b[2m     \u001b[0m│                                             │              │        │       │\u001b[37m \u001b[0m\u001b[37m   [171552],\u001b[0m\u001b[37m \u001b[0m│\u001b[37m              \u001b[0m│\n",
       "│\u001b[2m     \u001b[0m│                                             │              │        │       │\u001b[37m \u001b[0m\u001b[37m    [171552,\u001b[0m\u001b[37m \u001b[0m│\u001b[37m              \u001b[0m│\n",
       "│\u001b[2m     \u001b[0m│                                             │              │        │       │\u001b[37m \u001b[0m\u001b[37m        50]]\u001b[0m\u001b[37m \u001b[0m│\u001b[37m              \u001b[0m│\n",
       "│\u001b[2m \u001b[0m\u001b[2m44 \u001b[0m\u001b[2m \u001b[0m│ encoder.interactions.3.conv.aggr_module     │ SumAggregat… │      0 │ train │\u001b[37m \u001b[0m\u001b[37m   [[171552,\u001b[0m\u001b[37m \u001b[0m│\u001b[37m \u001b[0m\u001b[37m[10722, 128]\u001b[0m\u001b[37m \u001b[0m│\n",
       "│\u001b[2m     \u001b[0m│                                             │              │        │       │\u001b[37m \u001b[0m\u001b[37m       128],\u001b[0m\u001b[37m \u001b[0m│\u001b[37m              \u001b[0m│\n",
       "│\u001b[2m     \u001b[0m│                                             │              │        │       │\u001b[37m \u001b[0m\u001b[37m   [171552],\u001b[0m\u001b[37m \u001b[0m│\u001b[37m              \u001b[0m│\n",
       "│\u001b[2m     \u001b[0m│                                             │              │        │       │\u001b[37m \u001b[0m\u001b[37m   '?', '?',\u001b[0m\u001b[37m \u001b[0m│\u001b[37m              \u001b[0m│\n",
       "│\u001b[2m     \u001b[0m│                                             │              │        │       │\u001b[37m \u001b[0m\u001b[37m        '?']\u001b[0m\u001b[37m \u001b[0m│\u001b[37m              \u001b[0m│\n",
       "│\u001b[2m \u001b[0m\u001b[2m45 \u001b[0m\u001b[2m \u001b[0m│ encoder.interactions.3.conv.lin1            │ Linear       │ 65.5 K │ train │\u001b[37m \u001b[0m\u001b[37m[10722, 512]\u001b[0m\u001b[37m \u001b[0m│\u001b[37m \u001b[0m\u001b[37m[10722, 128]\u001b[0m\u001b[37m \u001b[0m│\n",
       "│\u001b[2m \u001b[0m\u001b[2m46 \u001b[0m\u001b[2m \u001b[0m│ encoder.interactions.3.conv.lin2            │ Linear       │ 66.0 K │ train │\u001b[37m \u001b[0m\u001b[37m[10722, 128]\u001b[0m\u001b[37m \u001b[0m│\u001b[37m \u001b[0m\u001b[37m[10722, 512]\u001b[0m\u001b[37m \u001b[0m│\n",
       "│\u001b[2m \u001b[0m\u001b[2m47 \u001b[0m\u001b[2m \u001b[0m│ encoder.interactions.3.act                  │ ShiftedSoft… │      0 │ train │\u001b[37m \u001b[0m\u001b[37m[10722, 512]\u001b[0m\u001b[37m \u001b[0m│\u001b[37m \u001b[0m\u001b[37m[10722, 512]\u001b[0m\u001b[37m \u001b[0m│\n",
       "│\u001b[2m \u001b[0m\u001b[2m48 \u001b[0m\u001b[2m \u001b[0m│ encoder.interactions.3.lin                  │ Linear       │  262 K │ train │\u001b[37m \u001b[0m\u001b[37m[10722, 512]\u001b[0m\u001b[37m \u001b[0m│\u001b[37m \u001b[0m\u001b[37m[10722, 512]\u001b[0m\u001b[37m \u001b[0m│\n",
       "│\u001b[2m \u001b[0m\u001b[2m49 \u001b[0m\u001b[2m \u001b[0m│ encoder.interactions.4                      │ Interaction… │  417 K │ train │\u001b[37m \u001b[0m\u001b[37m    [[10722,\u001b[0m\u001b[37m \u001b[0m│\u001b[37m \u001b[0m\u001b[37m[10722, 512]\u001b[0m\u001b[37m \u001b[0m│\n",
       "│\u001b[2m     \u001b[0m│                                             │              │        │       │\u001b[37m \u001b[0m\u001b[37m   512], [2,\u001b[0m\u001b[37m \u001b[0m│\u001b[37m              \u001b[0m│\n",
       "│\u001b[2m     \u001b[0m│                                             │              │        │       │\u001b[37m \u001b[0m\u001b[37m    171552],\u001b[0m\u001b[37m \u001b[0m│\u001b[37m              \u001b[0m│\n",
       "│\u001b[2m     \u001b[0m│                                             │              │        │       │\u001b[37m \u001b[0m\u001b[37m   [171552],\u001b[0m\u001b[37m \u001b[0m│\u001b[37m              \u001b[0m│\n",
       "│\u001b[2m     \u001b[0m│                                             │              │        │       │\u001b[37m \u001b[0m\u001b[37m    [171552,\u001b[0m\u001b[37m \u001b[0m│\u001b[37m              \u001b[0m│\n",
       "│\u001b[2m     \u001b[0m│                                             │              │        │       │\u001b[37m \u001b[0m\u001b[37m        50]]\u001b[0m\u001b[37m \u001b[0m│\u001b[37m              \u001b[0m│\n",
       "│\u001b[2m \u001b[0m\u001b[2m50 \u001b[0m\u001b[2m \u001b[0m│ encoder.interactions.4.mlp                  │ Sequential   │ 23.0 K │ train │\u001b[37m \u001b[0m\u001b[37m[171552, 50]\u001b[0m\u001b[37m \u001b[0m│\u001b[37m \u001b[0m\u001b[37m    [171552,\u001b[0m\u001b[37m \u001b[0m│\n",
       "│\u001b[2m     \u001b[0m│                                             │              │        │       │\u001b[37m              \u001b[0m│\u001b[37m \u001b[0m\u001b[37m        128]\u001b[0m\u001b[37m \u001b[0m│\n",
       "│\u001b[2m \u001b[0m\u001b[2m51 \u001b[0m\u001b[2m \u001b[0m│ encoder.interactions.4.mlp.0                │ Linear       │  6.5 K │ train │\u001b[37m \u001b[0m\u001b[37m[171552, 50]\u001b[0m\u001b[37m \u001b[0m│\u001b[37m \u001b[0m\u001b[37m    [171552,\u001b[0m\u001b[37m \u001b[0m│\n",
       "│\u001b[2m     \u001b[0m│                                             │              │        │       │\u001b[37m              \u001b[0m│\u001b[37m \u001b[0m\u001b[37m        128]\u001b[0m\u001b[37m \u001b[0m│\n",
       "│\u001b[2m \u001b[0m\u001b[2m52 \u001b[0m\u001b[2m \u001b[0m│ encoder.interactions.4.mlp.1                │ ShiftedSoft… │      0 │ train │\u001b[37m \u001b[0m\u001b[37m    [171552,\u001b[0m\u001b[37m \u001b[0m│\u001b[37m \u001b[0m\u001b[37m    [171552,\u001b[0m\u001b[37m \u001b[0m│\n",
       "│\u001b[2m     \u001b[0m│                                             │              │        │       │\u001b[37m \u001b[0m\u001b[37m        128]\u001b[0m\u001b[37m \u001b[0m│\u001b[37m \u001b[0m\u001b[37m        128]\u001b[0m\u001b[37m \u001b[0m│\n",
       "│\u001b[2m \u001b[0m\u001b[2m53 \u001b[0m\u001b[2m \u001b[0m│ encoder.interactions.4.mlp.2                │ Linear       │ 16.5 K │ train │\u001b[37m \u001b[0m\u001b[37m    [171552,\u001b[0m\u001b[37m \u001b[0m│\u001b[37m \u001b[0m\u001b[37m    [171552,\u001b[0m\u001b[37m \u001b[0m│\n",
       "│\u001b[2m     \u001b[0m│                                             │              │        │       │\u001b[37m \u001b[0m\u001b[37m        128]\u001b[0m\u001b[37m \u001b[0m│\u001b[37m \u001b[0m\u001b[37m        128]\u001b[0m\u001b[37m \u001b[0m│\n",
       "│\u001b[2m \u001b[0m\u001b[2m54 \u001b[0m\u001b[2m \u001b[0m│ encoder.interactions.4.conv                 │ CFConv       │  154 K │ train │\u001b[37m \u001b[0m\u001b[37m    [[10722,\u001b[0m\u001b[37m \u001b[0m│\u001b[37m \u001b[0m\u001b[37m[10722, 512]\u001b[0m\u001b[37m \u001b[0m│\n",
       "│\u001b[2m     \u001b[0m│                                             │              │        │       │\u001b[37m \u001b[0m\u001b[37m   512], [2,\u001b[0m\u001b[37m \u001b[0m│\u001b[37m              \u001b[0m│\n",
       "│\u001b[2m     \u001b[0m│                                             │              │        │       │\u001b[37m \u001b[0m\u001b[37m    171552],\u001b[0m\u001b[37m \u001b[0m│\u001b[37m              \u001b[0m│\n",
       "│\u001b[2m     \u001b[0m│                                             │              │        │       │\u001b[37m \u001b[0m\u001b[37m   [171552],\u001b[0m\u001b[37m \u001b[0m│\u001b[37m              \u001b[0m│\n",
       "│\u001b[2m     \u001b[0m│                                             │              │        │       │\u001b[37m \u001b[0m\u001b[37m    [171552,\u001b[0m\u001b[37m \u001b[0m│\u001b[37m              \u001b[0m│\n",
       "│\u001b[2m     \u001b[0m│                                             │              │        │       │\u001b[37m \u001b[0m\u001b[37m        50]]\u001b[0m\u001b[37m \u001b[0m│\u001b[37m              \u001b[0m│\n",
       "│\u001b[2m \u001b[0m\u001b[2m55 \u001b[0m\u001b[2m \u001b[0m│ encoder.interactions.4.conv.aggr_module     │ SumAggregat… │      0 │ train │\u001b[37m \u001b[0m\u001b[37m   [[171552,\u001b[0m\u001b[37m \u001b[0m│\u001b[37m \u001b[0m\u001b[37m[10722, 128]\u001b[0m\u001b[37m \u001b[0m│\n",
       "│\u001b[2m     \u001b[0m│                                             │              │        │       │\u001b[37m \u001b[0m\u001b[37m       128],\u001b[0m\u001b[37m \u001b[0m│\u001b[37m              \u001b[0m│\n",
       "│\u001b[2m     \u001b[0m│                                             │              │        │       │\u001b[37m \u001b[0m\u001b[37m   [171552],\u001b[0m\u001b[37m \u001b[0m│\u001b[37m              \u001b[0m│\n",
       "│\u001b[2m     \u001b[0m│                                             │              │        │       │\u001b[37m \u001b[0m\u001b[37m   '?', '?',\u001b[0m\u001b[37m \u001b[0m│\u001b[37m              \u001b[0m│\n",
       "│\u001b[2m     \u001b[0m│                                             │              │        │       │\u001b[37m \u001b[0m\u001b[37m        '?']\u001b[0m\u001b[37m \u001b[0m│\u001b[37m              \u001b[0m│\n",
       "│\u001b[2m \u001b[0m\u001b[2m56 \u001b[0m\u001b[2m \u001b[0m│ encoder.interactions.4.conv.lin1            │ Linear       │ 65.5 K │ train │\u001b[37m \u001b[0m\u001b[37m[10722, 512]\u001b[0m\u001b[37m \u001b[0m│\u001b[37m \u001b[0m\u001b[37m[10722, 128]\u001b[0m\u001b[37m \u001b[0m│\n",
       "│\u001b[2m \u001b[0m\u001b[2m57 \u001b[0m\u001b[2m \u001b[0m│ encoder.interactions.4.conv.lin2            │ Linear       │ 66.0 K │ train │\u001b[37m \u001b[0m\u001b[37m[10722, 128]\u001b[0m\u001b[37m \u001b[0m│\u001b[37m \u001b[0m\u001b[37m[10722, 512]\u001b[0m\u001b[37m \u001b[0m│\n",
       "│\u001b[2m \u001b[0m\u001b[2m58 \u001b[0m\u001b[2m \u001b[0m│ encoder.interactions.4.act                  │ ShiftedSoft… │      0 │ train │\u001b[37m \u001b[0m\u001b[37m[10722, 512]\u001b[0m\u001b[37m \u001b[0m│\u001b[37m \u001b[0m\u001b[37m[10722, 512]\u001b[0m\u001b[37m \u001b[0m│\n",
       "│\u001b[2m \u001b[0m\u001b[2m59 \u001b[0m\u001b[2m \u001b[0m│ encoder.interactions.4.lin                  │ Linear       │  262 K │ train │\u001b[37m \u001b[0m\u001b[37m[10722, 512]\u001b[0m\u001b[37m \u001b[0m│\u001b[37m \u001b[0m\u001b[37m[10722, 512]\u001b[0m\u001b[37m \u001b[0m│\n",
       "│\u001b[2m \u001b[0m\u001b[2m60 \u001b[0m\u001b[2m \u001b[0m│ encoder.interactions.5                      │ Interaction… │  417 K │ train │\u001b[37m \u001b[0m\u001b[37m    [[10722,\u001b[0m\u001b[37m \u001b[0m│\u001b[37m \u001b[0m\u001b[37m[10722, 512]\u001b[0m\u001b[37m \u001b[0m│\n",
       "│\u001b[2m     \u001b[0m│                                             │              │        │       │\u001b[37m \u001b[0m\u001b[37m   512], [2,\u001b[0m\u001b[37m \u001b[0m│\u001b[37m              \u001b[0m│\n",
       "│\u001b[2m     \u001b[0m│                                             │              │        │       │\u001b[37m \u001b[0m\u001b[37m    171552],\u001b[0m\u001b[37m \u001b[0m│\u001b[37m              \u001b[0m│\n",
       "│\u001b[2m     \u001b[0m│                                             │              │        │       │\u001b[37m \u001b[0m\u001b[37m   [171552],\u001b[0m\u001b[37m \u001b[0m│\u001b[37m              \u001b[0m│\n",
       "│\u001b[2m     \u001b[0m│                                             │              │        │       │\u001b[37m \u001b[0m\u001b[37m    [171552,\u001b[0m\u001b[37m \u001b[0m│\u001b[37m              \u001b[0m│\n",
       "│\u001b[2m     \u001b[0m│                                             │              │        │       │\u001b[37m \u001b[0m\u001b[37m        50]]\u001b[0m\u001b[37m \u001b[0m│\u001b[37m              \u001b[0m│\n",
       "│\u001b[2m \u001b[0m\u001b[2m61 \u001b[0m\u001b[2m \u001b[0m│ encoder.interactions.5.mlp                  │ Sequential   │ 23.0 K │ train │\u001b[37m \u001b[0m\u001b[37m[171552, 50]\u001b[0m\u001b[37m \u001b[0m│\u001b[37m \u001b[0m\u001b[37m    [171552,\u001b[0m\u001b[37m \u001b[0m│\n",
       "│\u001b[2m     \u001b[0m│                                             │              │        │       │\u001b[37m              \u001b[0m│\u001b[37m \u001b[0m\u001b[37m        128]\u001b[0m\u001b[37m \u001b[0m│\n",
       "│\u001b[2m \u001b[0m\u001b[2m62 \u001b[0m\u001b[2m \u001b[0m│ encoder.interactions.5.mlp.0                │ Linear       │  6.5 K │ train │\u001b[37m \u001b[0m\u001b[37m[171552, 50]\u001b[0m\u001b[37m \u001b[0m│\u001b[37m \u001b[0m\u001b[37m    [171552,\u001b[0m\u001b[37m \u001b[0m│\n",
       "│\u001b[2m     \u001b[0m│                                             │              │        │       │\u001b[37m              \u001b[0m│\u001b[37m \u001b[0m\u001b[37m        128]\u001b[0m\u001b[37m \u001b[0m│\n",
       "│\u001b[2m \u001b[0m\u001b[2m63 \u001b[0m\u001b[2m \u001b[0m│ encoder.interactions.5.mlp.1                │ ShiftedSoft… │      0 │ train │\u001b[37m \u001b[0m\u001b[37m    [171552,\u001b[0m\u001b[37m \u001b[0m│\u001b[37m \u001b[0m\u001b[37m    [171552,\u001b[0m\u001b[37m \u001b[0m│\n",
       "│\u001b[2m     \u001b[0m│                                             │              │        │       │\u001b[37m \u001b[0m\u001b[37m        128]\u001b[0m\u001b[37m \u001b[0m│\u001b[37m \u001b[0m\u001b[37m        128]\u001b[0m\u001b[37m \u001b[0m│\n",
       "│\u001b[2m \u001b[0m\u001b[2m64 \u001b[0m\u001b[2m \u001b[0m│ encoder.interactions.5.mlp.2                │ Linear       │ 16.5 K │ train │\u001b[37m \u001b[0m\u001b[37m    [171552,\u001b[0m\u001b[37m \u001b[0m│\u001b[37m \u001b[0m\u001b[37m    [171552,\u001b[0m\u001b[37m \u001b[0m│\n",
       "│\u001b[2m     \u001b[0m│                                             │              │        │       │\u001b[37m \u001b[0m\u001b[37m        128]\u001b[0m\u001b[37m \u001b[0m│\u001b[37m \u001b[0m\u001b[37m        128]\u001b[0m\u001b[37m \u001b[0m│\n",
       "│\u001b[2m \u001b[0m\u001b[2m65 \u001b[0m\u001b[2m \u001b[0m│ encoder.interactions.5.conv                 │ CFConv       │  154 K │ train │\u001b[37m \u001b[0m\u001b[37m    [[10722,\u001b[0m\u001b[37m \u001b[0m│\u001b[37m \u001b[0m\u001b[37m[10722, 512]\u001b[0m\u001b[37m \u001b[0m│\n",
       "│\u001b[2m     \u001b[0m│                                             │              │        │       │\u001b[37m \u001b[0m\u001b[37m   512], [2,\u001b[0m\u001b[37m \u001b[0m│\u001b[37m              \u001b[0m│\n",
       "│\u001b[2m     \u001b[0m│                                             │              │        │       │\u001b[37m \u001b[0m\u001b[37m    171552],\u001b[0m\u001b[37m \u001b[0m│\u001b[37m              \u001b[0m│\n",
       "│\u001b[2m     \u001b[0m│                                             │              │        │       │\u001b[37m \u001b[0m\u001b[37m   [171552],\u001b[0m\u001b[37m \u001b[0m│\u001b[37m              \u001b[0m│\n",
       "│\u001b[2m     \u001b[0m│                                             │              │        │       │\u001b[37m \u001b[0m\u001b[37m    [171552,\u001b[0m\u001b[37m \u001b[0m│\u001b[37m              \u001b[0m│\n",
       "│\u001b[2m     \u001b[0m│                                             │              │        │       │\u001b[37m \u001b[0m\u001b[37m        50]]\u001b[0m\u001b[37m \u001b[0m│\u001b[37m              \u001b[0m│\n",
       "│\u001b[2m \u001b[0m\u001b[2m66 \u001b[0m\u001b[2m \u001b[0m│ encoder.interactions.5.conv.aggr_module     │ SumAggregat… │      0 │ train │\u001b[37m \u001b[0m\u001b[37m   [[171552,\u001b[0m\u001b[37m \u001b[0m│\u001b[37m \u001b[0m\u001b[37m[10722, 128]\u001b[0m\u001b[37m \u001b[0m│\n",
       "│\u001b[2m     \u001b[0m│                                             │              │        │       │\u001b[37m \u001b[0m\u001b[37m       128],\u001b[0m\u001b[37m \u001b[0m│\u001b[37m              \u001b[0m│\n",
       "│\u001b[2m     \u001b[0m│                                             │              │        │       │\u001b[37m \u001b[0m\u001b[37m   [171552],\u001b[0m\u001b[37m \u001b[0m│\u001b[37m              \u001b[0m│\n",
       "│\u001b[2m     \u001b[0m│                                             │              │        │       │\u001b[37m \u001b[0m\u001b[37m   '?', '?',\u001b[0m\u001b[37m \u001b[0m│\u001b[37m              \u001b[0m│\n",
       "│\u001b[2m     \u001b[0m│                                             │              │        │       │\u001b[37m \u001b[0m\u001b[37m        '?']\u001b[0m\u001b[37m \u001b[0m│\u001b[37m              \u001b[0m│\n",
       "│\u001b[2m \u001b[0m\u001b[2m67 \u001b[0m\u001b[2m \u001b[0m│ encoder.interactions.5.conv.lin1            │ Linear       │ 65.5 K │ train │\u001b[37m \u001b[0m\u001b[37m[10722, 512]\u001b[0m\u001b[37m \u001b[0m│\u001b[37m \u001b[0m\u001b[37m[10722, 128]\u001b[0m\u001b[37m \u001b[0m│\n",
       "│\u001b[2m \u001b[0m\u001b[2m68 \u001b[0m\u001b[2m \u001b[0m│ encoder.interactions.5.conv.lin2            │ Linear       │ 66.0 K │ train │\u001b[37m \u001b[0m\u001b[37m[10722, 128]\u001b[0m\u001b[37m \u001b[0m│\u001b[37m \u001b[0m\u001b[37m[10722, 512]\u001b[0m\u001b[37m \u001b[0m│\n",
       "│\u001b[2m \u001b[0m\u001b[2m69 \u001b[0m\u001b[2m \u001b[0m│ encoder.interactions.5.act                  │ ShiftedSoft… │      0 │ train │\u001b[37m \u001b[0m\u001b[37m[10722, 512]\u001b[0m\u001b[37m \u001b[0m│\u001b[37m \u001b[0m\u001b[37m[10722, 512]\u001b[0m\u001b[37m \u001b[0m│\n",
       "│\u001b[2m \u001b[0m\u001b[2m70 \u001b[0m\u001b[2m \u001b[0m│ encoder.interactions.5.lin                  │ Linear       │  262 K │ train │\u001b[37m \u001b[0m\u001b[37m[10722, 512]\u001b[0m\u001b[37m \u001b[0m│\u001b[37m \u001b[0m\u001b[37m[10722, 512]\u001b[0m\u001b[37m \u001b[0m│\n",
       "│\u001b[2m \u001b[0m\u001b[2m71 \u001b[0m\u001b[2m \u001b[0m│ encoder.lin1                                │ Linear       │  131 K │ train │\u001b[37m \u001b[0m\u001b[37m[10722, 512]\u001b[0m\u001b[37m \u001b[0m│\u001b[37m \u001b[0m\u001b[37m[10722, 256]\u001b[0m\u001b[37m \u001b[0m│\n",
       "│\u001b[2m \u001b[0m\u001b[2m72 \u001b[0m\u001b[2m \u001b[0m│ encoder.act                                 │ ShiftedSoft… │      0 │ train │\u001b[37m \u001b[0m\u001b[37m[10722, 256]\u001b[0m\u001b[37m \u001b[0m│\u001b[37m \u001b[0m\u001b[37m[10722, 256]\u001b[0m\u001b[37m \u001b[0m│\n",
       "│\u001b[2m \u001b[0m\u001b[2m73 \u001b[0m\u001b[2m \u001b[0m│ encoder.lin2                                │ Linear       │  8.2 K │ train │\u001b[37m \u001b[0m\u001b[37m[10722, 256]\u001b[0m\u001b[37m \u001b[0m│\u001b[37m \u001b[0m\u001b[37m [10722, 32]\u001b[0m\u001b[37m \u001b[0m│\n",
       "│\u001b[2m \u001b[0m\u001b[2m74 \u001b[0m\u001b[2m \u001b[0m│ decoder                                     │ ModuleDict   │  2.7 M │ train │\u001b[37m \u001b[0m\u001b[37m           ?\u001b[0m\u001b[37m \u001b[0m│\u001b[37m \u001b[0m\u001b[37m           ?\u001b[0m\u001b[37m \u001b[0m│\n",
       "│\u001b[2m \u001b[0m\u001b[2m75 \u001b[0m\u001b[2m \u001b[0m│ decoder.graph_label                         │ MLPDecoder   │  2.7 M │ train │\u001b[37m \u001b[0m\u001b[37m    [32, 32]\u001b[0m\u001b[37m \u001b[0m│\u001b[37m \u001b[0m\u001b[37m  [32, 1195]\u001b[0m\u001b[37m \u001b[0m│\n",
       "│\u001b[2m \u001b[0m\u001b[2m76 \u001b[0m\u001b[2m \u001b[0m│ decoder.graph_label.layers                  │ LinearSkipB… │  2.7 M │ train │\u001b[37m \u001b[0m\u001b[37m    [32, 32]\u001b[0m\u001b[37m \u001b[0m│\u001b[37m \u001b[0m\u001b[37m  [32, 1195]\u001b[0m\u001b[37m \u001b[0m│\n",
       "│\u001b[2m \u001b[0m\u001b[2m77 \u001b[0m\u001b[2m \u001b[0m│ decoder.graph_label.layers.layers           │ ModuleList   │  2.7 M │ train │\u001b[37m \u001b[0m\u001b[37m           ?\u001b[0m\u001b[37m \u001b[0m│\u001b[37m \u001b[0m\u001b[37m           ?\u001b[0m\u001b[37m \u001b[0m│\n",
       "│\u001b[2m \u001b[0m\u001b[2m78 \u001b[0m\u001b[2m \u001b[0m│ decoder.graph_label.layers.layers.0         │ Linear       │ 16.9 K │ train │\u001b[37m \u001b[0m\u001b[37m    [32, 32]\u001b[0m\u001b[37m \u001b[0m│\u001b[37m \u001b[0m\u001b[37m   [32, 512]\u001b[0m\u001b[37m \u001b[0m│\n",
       "│\u001b[2m \u001b[0m\u001b[2m79 \u001b[0m\u001b[2m \u001b[0m│ decoder.graph_label.layers.layers.1         │ Linear       │  279 K │ train │\u001b[37m \u001b[0m\u001b[37m   [32, 544]\u001b[0m\u001b[37m \u001b[0m│\u001b[37m \u001b[0m\u001b[37m   [32, 512]\u001b[0m\u001b[37m \u001b[0m│\n",
       "│\u001b[2m \u001b[0m\u001b[2m80 \u001b[0m\u001b[2m \u001b[0m│ decoder.graph_label.layers.layers.2         │ Linear       │  541 K │ train │\u001b[37m \u001b[0m\u001b[37m  [32, 1056]\u001b[0m\u001b[37m \u001b[0m│\u001b[37m \u001b[0m\u001b[37m   [32, 512]\u001b[0m\u001b[37m \u001b[0m│\n",
       "│\u001b[2m \u001b[0m\u001b[2m81 \u001b[0m\u001b[2m \u001b[0m│ decoder.graph_label.layers.layers.3         │ Linear       │  1.9 M │ train │\u001b[37m \u001b[0m\u001b[37m  [32, 1568]\u001b[0m\u001b[37m \u001b[0m│\u001b[37m \u001b[0m\u001b[37m  [32, 1195]\u001b[0m\u001b[37m \u001b[0m│\n",
       "│\u001b[2m \u001b[0m\u001b[2m82 \u001b[0m\u001b[2m \u001b[0m│ decoder.graph_label.layers.activations      │ ModuleList   │      0 │ train │\u001b[37m \u001b[0m\u001b[37m           ?\u001b[0m\u001b[37m \u001b[0m│\u001b[37m \u001b[0m\u001b[37m           ?\u001b[0m\u001b[37m \u001b[0m│\n",
       "│\u001b[2m \u001b[0m\u001b[2m83 \u001b[0m\u001b[2m \u001b[0m│ decoder.graph_label.layers.activations.0    │ ReLU         │      0 │ train │\u001b[37m \u001b[0m\u001b[37m   [32, 512]\u001b[0m\u001b[37m \u001b[0m│\u001b[37m \u001b[0m\u001b[37m   [32, 512]\u001b[0m\u001b[37m \u001b[0m│\n",
       "│\u001b[2m \u001b[0m\u001b[2m84 \u001b[0m\u001b[2m \u001b[0m│ decoder.graph_label.layers.activations.1    │ ReLU         │      0 │ train │\u001b[37m \u001b[0m\u001b[37m   [32, 512]\u001b[0m\u001b[37m \u001b[0m│\u001b[37m \u001b[0m\u001b[37m   [32, 512]\u001b[0m\u001b[37m \u001b[0m│\n",
       "│\u001b[2m \u001b[0m\u001b[2m85 \u001b[0m\u001b[2m \u001b[0m│ decoder.graph_label.layers.activations.2    │ ReLU         │      0 │ train │\u001b[37m \u001b[0m\u001b[37m   [32, 512]\u001b[0m\u001b[37m \u001b[0m│\u001b[37m \u001b[0m\u001b[37m   [32, 512]\u001b[0m\u001b[37m \u001b[0m│\n",
       "│\u001b[2m \u001b[0m\u001b[2m86 \u001b[0m\u001b[2m \u001b[0m│ decoder.graph_label.layers.activations.3    │ Identity     │      0 │ train │\u001b[37m \u001b[0m\u001b[37m  [32, 1195]\u001b[0m\u001b[37m \u001b[0m│\u001b[37m \u001b[0m\u001b[37m  [32, 1195]\u001b[0m\u001b[37m \u001b[0m│\n",
       "│\u001b[2m \u001b[0m\u001b[2m87 \u001b[0m\u001b[2m \u001b[0m│ decoder.graph_label.layers.dropout_layers   │ ModuleList   │      0 │ train │\u001b[37m \u001b[0m\u001b[37m           ?\u001b[0m\u001b[37m \u001b[0m│\u001b[37m \u001b[0m\u001b[37m           ?\u001b[0m\u001b[37m \u001b[0m│\n",
       "│\u001b[2m \u001b[0m\u001b[2m88 \u001b[0m\u001b[2m \u001b[0m│ decoder.graph_label.layers.dropout_layers.0 │ Dropout      │      0 │ train │\u001b[37m \u001b[0m\u001b[37m   [32, 512]\u001b[0m\u001b[37m \u001b[0m│\u001b[37m \u001b[0m\u001b[37m   [32, 512]\u001b[0m\u001b[37m \u001b[0m│\n",
       "│\u001b[2m \u001b[0m\u001b[2m89 \u001b[0m\u001b[2m \u001b[0m│ decoder.graph_label.layers.dropout_layers.1 │ Dropout      │      0 │ train │\u001b[37m \u001b[0m\u001b[37m   [32, 512]\u001b[0m\u001b[37m \u001b[0m│\u001b[37m \u001b[0m\u001b[37m   [32, 512]\u001b[0m\u001b[37m \u001b[0m│\n",
       "│\u001b[2m \u001b[0m\u001b[2m90 \u001b[0m\u001b[2m \u001b[0m│ decoder.graph_label.layers.dropout_layers.2 │ Dropout      │      0 │ train │\u001b[37m \u001b[0m\u001b[37m   [32, 512]\u001b[0m\u001b[37m \u001b[0m│\u001b[37m \u001b[0m\u001b[37m   [32, 512]\u001b[0m\u001b[37m \u001b[0m│\n",
       "│\u001b[2m \u001b[0m\u001b[2m91 \u001b[0m\u001b[2m \u001b[0m│ train_graph_label_accuracy                  │ MulticlassA… │      0 │ train │\u001b[37m \u001b[0m\u001b[37m           ?\u001b[0m\u001b[37m \u001b[0m│\u001b[37m \u001b[0m\u001b[37m           ?\u001b[0m\u001b[37m \u001b[0m│\n",
       "│\u001b[2m \u001b[0m\u001b[2m92 \u001b[0m\u001b[2m \u001b[0m│ val_graph_label_accuracy                    │ MulticlassA… │      0 │ train │\u001b[37m \u001b[0m\u001b[37m           ?\u001b[0m\u001b[37m \u001b[0m│\u001b[37m \u001b[0m\u001b[37m           ?\u001b[0m\u001b[37m \u001b[0m│\n",
       "│\u001b[2m \u001b[0m\u001b[2m93 \u001b[0m\u001b[2m \u001b[0m│ test_graph_label_accuracy                   │ MulticlassA… │      0 │ train │\u001b[37m \u001b[0m\u001b[37m           ?\u001b[0m\u001b[37m \u001b[0m│\u001b[37m \u001b[0m\u001b[37m           ?\u001b[0m\u001b[37m \u001b[0m│\n",
       "│\u001b[2m \u001b[0m\u001b[2m94 \u001b[0m\u001b[2m \u001b[0m│ train_graph_label_f1_score                  │ MulticlassF… │      0 │ train │\u001b[37m \u001b[0m\u001b[37m           ?\u001b[0m\u001b[37m \u001b[0m│\u001b[37m \u001b[0m\u001b[37m           ?\u001b[0m\u001b[37m \u001b[0m│\n",
       "│\u001b[2m \u001b[0m\u001b[2m95 \u001b[0m\u001b[2m \u001b[0m│ val_graph_label_f1_score                    │ MulticlassF… │      0 │ train │\u001b[37m \u001b[0m\u001b[37m           ?\u001b[0m\u001b[37m \u001b[0m│\u001b[37m \u001b[0m\u001b[37m           ?\u001b[0m\u001b[37m \u001b[0m│\n",
       "│\u001b[2m \u001b[0m\u001b[2m96 \u001b[0m\u001b[2m \u001b[0m│ test_graph_label_f1_score                   │ MulticlassF… │      0 │ train │\u001b[37m \u001b[0m\u001b[37m           ?\u001b[0m\u001b[37m \u001b[0m│\u001b[37m \u001b[0m\u001b[37m           ?\u001b[0m\u001b[37m \u001b[0m│\n",
       "│\u001b[2m \u001b[0m\u001b[2m97 \u001b[0m\u001b[2m \u001b[0m│ train_graph_label_f1_max                    │ F1Max        │      0 │ train │\u001b[37m \u001b[0m\u001b[37m           ?\u001b[0m\u001b[37m \u001b[0m│\u001b[37m \u001b[0m\u001b[37m           ?\u001b[0m\u001b[37m \u001b[0m│\n",
       "│\u001b[2m \u001b[0m\u001b[2m98 \u001b[0m\u001b[2m \u001b[0m│ val_graph_label_f1_max                      │ F1Max        │      0 │ train │\u001b[37m \u001b[0m\u001b[37m           ?\u001b[0m\u001b[37m \u001b[0m│\u001b[37m \u001b[0m\u001b[37m           ?\u001b[0m\u001b[37m \u001b[0m│\n",
       "│\u001b[2m \u001b[0m\u001b[2m99 \u001b[0m\u001b[2m \u001b[0m│ test_graph_label_f1_max                     │ F1Max        │      0 │ train │\u001b[37m \u001b[0m\u001b[37m           ?\u001b[0m\u001b[37m \u001b[0m│\u001b[37m \u001b[0m\u001b[37m           ?\u001b[0m\u001b[37m \u001b[0m│\n",
       "│\u001b[2m \u001b[0m\u001b[2m100\u001b[0m\u001b[2m \u001b[0m│ featuriser                                  │ ProteinFeat… │      0 │ train │\u001b[37m \u001b[0m\u001b[37m           ?\u001b[0m\u001b[37m \u001b[0m│\u001b[37m \u001b[0m\u001b[37m           ?\u001b[0m\u001b[37m \u001b[0m│\n",
       "└─────┴─────────────────────────────────────────────┴──────────────┴────────┴───────┴──────────────┴──────────────┘\n"
      ]
     },
     "metadata": {},
     "output_type": "display_data"
    },
    {
     "data": {
      "text/html": [
       "<pre style=\"white-space:pre;overflow-x:auto;line-height:normal;font-family:Menlo,'DejaVu Sans Mono',consolas,'Courier New',monospace\"><span style=\"font-weight: bold\">Trainable params</span>: 5.4 M                                                                                            \n",
       "<span style=\"font-weight: bold\">Non-trainable params</span>: 0                                                                                            \n",
       "<span style=\"font-weight: bold\">Total params</span>: 5.4 M                                                                                                \n",
       "<span style=\"font-weight: bold\">Total estimated model params size (MB)</span>: 21                                                                         \n",
       "</pre>\n"
      ],
      "text/plain": [
       "\u001b[1mTrainable params\u001b[0m: 5.4 M                                                                                            \n",
       "\u001b[1mNon-trainable params\u001b[0m: 0                                                                                            \n",
       "\u001b[1mTotal params\u001b[0m: 5.4 M                                                                                                \n",
       "\u001b[1mTotal estimated model params size (MB)\u001b[0m: 21                                                                         \n"
      ]
     },
     "metadata": {},
     "output_type": "display_data"
    },
    {
     "data": {
      "application/vnd.jupyter.widget-view+json": {
       "model_id": "01daf2adffbd46729eaf11952ab5473b",
       "version_major": 2,
       "version_minor": 0
      },
      "text/plain": [
       "Output()"
      ]
     },
     "metadata": {},
     "output_type": "display_data"
    },
    {
     "data": {
      "text/html": [
       "<pre style=\"white-space:pre;overflow-x:auto;line-height:normal;font-family:Menlo,'DejaVu Sans Mono',consolas,'Courier New',monospace\">torch.Size([7747, 32])\n",
       "</pre>\n"
      ],
      "text/plain": [
       "torch.Size([7747, 32])\n"
      ]
     },
     "metadata": {},
     "output_type": "display_data"
    },
    {
     "data": {
      "text/html": [
       "<pre style=\"white-space:pre;overflow-x:auto;line-height:normal;font-family:Menlo,'DejaVu Sans Mono',consolas,'Courier New',monospace\">/home/zhang/miniconda3/envs/3d/lib/python3.10/site-packages/lightning/pytorch/utilities/data.py:78: UserWarning:\n",
       "\n",
       "Trying to infer the `batch_size` from an ambiguous collection. The batch size we found is 7747. To avoid any \n",
       "miscalculations, use `self.log(..., batch_size=batch_size)`.\n",
       "\n",
       "</pre>\n"
      ],
      "text/plain": [
       "/home/zhang/miniconda3/envs/3d/lib/python3.10/site-packages/lightning/pytorch/utilities/data.py:78: UserWarning:\n",
       "\n",
       "Trying to infer the `batch_size` from an ambiguous collection. The batch size we found is 7747. To avoid any \n",
       "miscalculations, use `self.log(..., batch_size=batch_size)`.\n",
       "\n"
      ]
     },
     "metadata": {},
     "output_type": "display_data"
    },
    {
     "data": {
      "text/html": [
       "<pre style=\"white-space:pre;overflow-x:auto;line-height:normal;font-family:Menlo,'DejaVu Sans Mono',consolas,'Courier New',monospace\">torch.Size([3294, 32])\n",
       "</pre>\n"
      ],
      "text/plain": [
       "torch.Size([3294, 32])\n"
      ]
     },
     "metadata": {},
     "output_type": "display_data"
    },
    {
     "data": {
      "text/html": [
       "<pre style=\"white-space:pre;overflow-x:auto;line-height:normal;font-family:Menlo,'DejaVu Sans Mono',consolas,'Courier New',monospace\">/home/zhang/miniconda3/envs/3d/lib/python3.10/site-packages/lightning/pytorch/utilities/data.py:78: UserWarning:\n",
       "\n",
       "Trying to infer the `batch_size` from an ambiguous collection. The batch size we found is 3294. To avoid any \n",
       "miscalculations, use `self.log(..., batch_size=batch_size)`.\n",
       "\n",
       "</pre>\n"
      ],
      "text/plain": [
       "/home/zhang/miniconda3/envs/3d/lib/python3.10/site-packages/lightning/pytorch/utilities/data.py:78: UserWarning:\n",
       "\n",
       "Trying to infer the `batch_size` from an ambiguous collection. The batch size we found is 3294. To avoid any \n",
       "miscalculations, use `self.log(..., batch_size=batch_size)`.\n",
       "\n"
      ]
     },
     "metadata": {},
     "output_type": "display_data"
    },
    {
     "data": {
      "text/html": [
       "<pre style=\"white-space:pre;overflow-x:auto;line-height:normal;font-family:Menlo,'DejaVu Sans Mono',consolas,'Courier New',monospace\">torch.Size([5567, 32])\n",
       "</pre>\n"
      ],
      "text/plain": [
       "torch.Size([5567, 32])\n"
      ]
     },
     "metadata": {},
     "output_type": "display_data"
    },
    {
     "data": {
      "text/html": [
       "<pre style=\"white-space:pre;overflow-x:auto;line-height:normal;font-family:Menlo,'DejaVu Sans Mono',consolas,'Courier New',monospace\">torch.Size([6036, 32])\n",
       "</pre>\n"
      ],
      "text/plain": [
       "torch.Size([6036, 32])\n"
      ]
     },
     "metadata": {},
     "output_type": "display_data"
    },
    {
     "data": {
      "text/html": [
       "<pre style=\"white-space:pre;overflow-x:auto;line-height:normal;font-family:Menlo,'DejaVu Sans Mono',consolas,'Courier New',monospace\">torch.Size([4897, 32])\n",
       "</pre>\n"
      ],
      "text/plain": [
       "torch.Size([4897, 32])\n"
      ]
     },
     "metadata": {},
     "output_type": "display_data"
    },
    {
     "data": {
      "text/html": [
       "<pre style=\"white-space:pre;overflow-x:auto;line-height:normal;font-family:Menlo,'DejaVu Sans Mono',consolas,'Courier New',monospace\">torch.Size([4801, 32])\n",
       "</pre>\n"
      ],
      "text/plain": [
       "torch.Size([4801, 32])\n"
      ]
     },
     "metadata": {},
     "output_type": "display_data"
    },
    {
     "data": {
      "text/html": [
       "<pre style=\"white-space:pre;overflow-x:auto;line-height:normal;font-family:Menlo,'DejaVu Sans Mono',consolas,'Courier New',monospace\">torch.Size([5345, 32])\n",
       "</pre>\n"
      ],
      "text/plain": [
       "torch.Size([5345, 32])\n"
      ]
     },
     "metadata": {},
     "output_type": "display_data"
    },
    {
     "data": {
      "text/html": [
       "<pre style=\"white-space:pre;overflow-x:auto;line-height:normal;font-family:Menlo,'DejaVu Sans Mono',consolas,'Courier New',monospace\">torch.Size([5488, 32])\n",
       "</pre>\n"
      ],
      "text/plain": [
       "torch.Size([5488, 32])\n"
      ]
     },
     "metadata": {},
     "output_type": "display_data"
    },
    {
     "data": {
      "text/html": [
       "<pre style=\"white-space:pre;overflow-x:auto;line-height:normal;font-family:Menlo,'DejaVu Sans Mono',consolas,'Courier New',monospace\">torch.Size([5157, 32])\n",
       "</pre>\n"
      ],
      "text/plain": [
       "torch.Size([5157, 32])\n"
      ]
     },
     "metadata": {},
     "output_type": "display_data"
    },
    {
     "data": {
      "text/html": [
       "<pre style=\"white-space:pre;overflow-x:auto;line-height:normal;font-family:Menlo,'DejaVu Sans Mono',consolas,'Courier New',monospace\">torch.Size([5497, 32])\n",
       "</pre>\n"
      ],
      "text/plain": [
       "torch.Size([5497, 32])\n"
      ]
     },
     "metadata": {},
     "output_type": "display_data"
    },
    {
     "data": {
      "text/html": [
       "<pre style=\"white-space:pre;overflow-x:auto;line-height:normal;font-family:Menlo,'DejaVu Sans Mono',consolas,'Courier New',monospace\">torch.Size([6395, 32])\n",
       "</pre>\n"
      ],
      "text/plain": [
       "torch.Size([6395, 32])\n"
      ]
     },
     "metadata": {},
     "output_type": "display_data"
    },
    {
     "data": {
      "text/html": [
       "<pre style=\"white-space:pre;overflow-x:auto;line-height:normal;font-family:Menlo,'DejaVu Sans Mono',consolas,'Courier New',monospace\">torch.Size([5773, 32])\n",
       "</pre>\n"
      ],
      "text/plain": [
       "torch.Size([5773, 32])\n"
      ]
     },
     "metadata": {},
     "output_type": "display_data"
    },
    {
     "data": {
      "text/html": [
       "<pre style=\"white-space:pre;overflow-x:auto;line-height:normal;font-family:Menlo,'DejaVu Sans Mono',consolas,'Courier New',monospace\">torch.Size([5779, 32])\n",
       "</pre>\n"
      ],
      "text/plain": [
       "torch.Size([5779, 32])\n"
      ]
     },
     "metadata": {},
     "output_type": "display_data"
    },
    {
     "data": {
      "text/html": [
       "<pre style=\"white-space:pre;overflow-x:auto;line-height:normal;font-family:Menlo,'DejaVu Sans Mono',consolas,'Courier New',monospace\">torch.Size([5955, 32])\n",
       "</pre>\n"
      ],
      "text/plain": [
       "torch.Size([5955, 32])\n"
      ]
     },
     "metadata": {},
     "output_type": "display_data"
    },
    {
     "data": {
      "text/html": [
       "<pre style=\"white-space:pre;overflow-x:auto;line-height:normal;font-family:Menlo,'DejaVu Sans Mono',consolas,'Courier New',monospace\">torch.Size([5007, 32])\n",
       "</pre>\n"
      ],
      "text/plain": [
       "torch.Size([5007, 32])\n"
      ]
     },
     "metadata": {},
     "output_type": "display_data"
    },
    {
     "data": {
      "text/html": [
       "<pre style=\"white-space:pre;overflow-x:auto;line-height:normal;font-family:Menlo,'DejaVu Sans Mono',consolas,'Courier New',monospace\">torch.Size([5302, 32])\n",
       "</pre>\n"
      ],
      "text/plain": [
       "torch.Size([5302, 32])\n"
      ]
     },
     "metadata": {},
     "output_type": "display_data"
    },
    {
     "data": {
      "text/html": [
       "<pre style=\"white-space:pre;overflow-x:auto;line-height:normal;font-family:Menlo,'DejaVu Sans Mono',consolas,'Courier New',monospace\">torch.Size([5762, 32])\n",
       "</pre>\n"
      ],
      "text/plain": [
       "torch.Size([5762, 32])\n"
      ]
     },
     "metadata": {},
     "output_type": "display_data"
    },
    {
     "data": {
      "text/html": [
       "<pre style=\"white-space:pre;overflow-x:auto;line-height:normal;font-family:Menlo,'DejaVu Sans Mono',consolas,'Courier New',monospace\">torch.Size([4408, 32])\n",
       "</pre>\n"
      ],
      "text/plain": [
       "torch.Size([4408, 32])\n"
      ]
     },
     "metadata": {},
     "output_type": "display_data"
    },
    {
     "data": {
      "text/html": [
       "<pre style=\"white-space:pre;overflow-x:auto;line-height:normal;font-family:Menlo,'DejaVu Sans Mono',consolas,'Courier New',monospace\">torch.Size([5359, 32])\n",
       "</pre>\n"
      ],
      "text/plain": [
       "torch.Size([5359, 32])\n"
      ]
     },
     "metadata": {},
     "output_type": "display_data"
    },
    {
     "data": {
      "text/html": [
       "<pre style=\"white-space:pre;overflow-x:auto;line-height:normal;font-family:Menlo,'DejaVu Sans Mono',consolas,'Courier New',monospace\">torch.Size([5508, 32])\n",
       "</pre>\n"
      ],
      "text/plain": [
       "torch.Size([5508, 32])\n"
      ]
     },
     "metadata": {},
     "output_type": "display_data"
    },
    {
     "data": {
      "text/html": [
       "<pre style=\"white-space:pre;overflow-x:auto;line-height:normal;font-family:Menlo,'DejaVu Sans Mono',consolas,'Courier New',monospace\">torch.Size([5808, 32])\n",
       "</pre>\n"
      ],
      "text/plain": [
       "torch.Size([5808, 32])\n"
      ]
     },
     "metadata": {},
     "output_type": "display_data"
    },
    {
     "data": {
      "text/html": [
       "<pre style=\"white-space:pre;overflow-x:auto;line-height:normal;font-family:Menlo,'DejaVu Sans Mono',consolas,'Courier New',monospace\">torch.Size([5877, 32])\n",
       "</pre>\n"
      ],
      "text/plain": [
       "torch.Size([5877, 32])\n"
      ]
     },
     "metadata": {},
     "output_type": "display_data"
    },
    {
     "data": {
      "text/html": [
       "<pre style=\"white-space:pre;overflow-x:auto;line-height:normal;font-family:Menlo,'DejaVu Sans Mono',consolas,'Courier New',monospace\">torch.Size([5433, 32])\n",
       "</pre>\n"
      ],
      "text/plain": [
       "torch.Size([5433, 32])\n"
      ]
     },
     "metadata": {},
     "output_type": "display_data"
    },
    {
     "data": {
      "text/html": [
       "<pre style=\"white-space:pre;overflow-x:auto;line-height:normal;font-family:Menlo,'DejaVu Sans Mono',consolas,'Courier New',monospace\">torch.Size([4683, 32])\n",
       "</pre>\n"
      ],
      "text/plain": [
       "torch.Size([4683, 32])\n"
      ]
     },
     "metadata": {},
     "output_type": "display_data"
    },
    {
     "data": {
      "text/html": [
       "<pre style=\"white-space:pre;overflow-x:auto;line-height:normal;font-family:Menlo,'DejaVu Sans Mono',consolas,'Courier New',monospace\">torch.Size([5017, 32])\n",
       "</pre>\n"
      ],
      "text/plain": [
       "torch.Size([5017, 32])\n"
      ]
     },
     "metadata": {},
     "output_type": "display_data"
    },
    {
     "data": {
      "text/html": [
       "<pre style=\"white-space:pre;overflow-x:auto;line-height:normal;font-family:Menlo,'DejaVu Sans Mono',consolas,'Courier New',monospace\">torch.Size([5000, 32])\n",
       "</pre>\n"
      ],
      "text/plain": [
       "torch.Size([5000, 32])\n"
      ]
     },
     "metadata": {},
     "output_type": "display_data"
    },
    {
     "data": {
      "text/html": [
       "<pre style=\"white-space:pre;overflow-x:auto;line-height:normal;font-family:Menlo,'DejaVu Sans Mono',consolas,'Courier New',monospace\">torch.Size([4542, 32])\n",
       "</pre>\n"
      ],
      "text/plain": [
       "torch.Size([4542, 32])\n"
      ]
     },
     "metadata": {},
     "output_type": "display_data"
    },
    {
     "data": {
      "text/html": [
       "<pre style=\"white-space:pre;overflow-x:auto;line-height:normal;font-family:Menlo,'DejaVu Sans Mono',consolas,'Courier New',monospace\">torch.Size([5181, 32])\n",
       "</pre>\n"
      ],
      "text/plain": [
       "torch.Size([5181, 32])\n"
      ]
     },
     "metadata": {},
     "output_type": "display_data"
    },
    {
     "data": {
      "text/html": [
       "<pre style=\"white-space:pre;overflow-x:auto;line-height:normal;font-family:Menlo,'DejaVu Sans Mono',consolas,'Courier New',monospace\">torch.Size([5621, 32])\n",
       "</pre>\n"
      ],
      "text/plain": [
       "torch.Size([5621, 32])\n"
      ]
     },
     "metadata": {},
     "output_type": "display_data"
    },
    {
     "data": {
      "text/html": [
       "<pre style=\"white-space:pre;overflow-x:auto;line-height:normal;font-family:Menlo,'DejaVu Sans Mono',consolas,'Courier New',monospace\">torch.Size([5930, 32])\n",
       "</pre>\n"
      ],
      "text/plain": [
       "torch.Size([5930, 32])\n"
      ]
     },
     "metadata": {},
     "output_type": "display_data"
    },
    {
     "data": {
      "text/html": [
       "<pre style=\"white-space:pre;overflow-x:auto;line-height:normal;font-family:Menlo,'DejaVu Sans Mono',consolas,'Courier New',monospace\">torch.Size([5381, 32])\n",
       "</pre>\n"
      ],
      "text/plain": [
       "torch.Size([5381, 32])\n"
      ]
     },
     "metadata": {},
     "output_type": "display_data"
    },
    {
     "data": {
      "text/html": [
       "<pre style=\"white-space:pre;overflow-x:auto;line-height:normal;font-family:Menlo,'DejaVu Sans Mono',consolas,'Courier New',monospace\">torch.Size([5217, 32])\n",
       "</pre>\n"
      ],
      "text/plain": [
       "torch.Size([5217, 32])\n"
      ]
     },
     "metadata": {},
     "output_type": "display_data"
    },
    {
     "data": {
      "text/html": [
       "<pre style=\"white-space:pre;overflow-x:auto;line-height:normal;font-family:Menlo,'DejaVu Sans Mono',consolas,'Courier New',monospace\">torch.Size([5315, 32])\n",
       "</pre>\n"
      ],
      "text/plain": [
       "torch.Size([5315, 32])\n"
      ]
     },
     "metadata": {},
     "output_type": "display_data"
    },
    {
     "data": {
      "text/html": [
       "<pre style=\"white-space:pre;overflow-x:auto;line-height:normal;font-family:Menlo,'DejaVu Sans Mono',consolas,'Courier New',monospace\">torch.Size([5094, 32])\n",
       "</pre>\n"
      ],
      "text/plain": [
       "torch.Size([5094, 32])\n"
      ]
     },
     "metadata": {},
     "output_type": "display_data"
    },
    {
     "data": {
      "text/html": [
       "<pre style=\"white-space:pre;overflow-x:auto;line-height:normal;font-family:Menlo,'DejaVu Sans Mono',consolas,'Courier New',monospace\">torch.Size([4516, 32])\n",
       "</pre>\n"
      ],
      "text/plain": [
       "torch.Size([4516, 32])\n"
      ]
     },
     "metadata": {},
     "output_type": "display_data"
    },
    {
     "data": {
      "text/html": [
       "<pre style=\"white-space:pre;overflow-x:auto;line-height:normal;font-family:Menlo,'DejaVu Sans Mono',consolas,'Courier New',monospace\">torch.Size([5241, 32])\n",
       "</pre>\n"
      ],
      "text/plain": [
       "torch.Size([5241, 32])\n"
      ]
     },
     "metadata": {},
     "output_type": "display_data"
    },
    {
     "data": {
      "text/html": [
       "<pre style=\"white-space:pre;overflow-x:auto;line-height:normal;font-family:Menlo,'DejaVu Sans Mono',consolas,'Courier New',monospace\">torch.Size([5062, 32])\n",
       "</pre>\n"
      ],
      "text/plain": [
       "torch.Size([5062, 32])\n"
      ]
     },
     "metadata": {},
     "output_type": "display_data"
    },
    {
     "data": {
      "text/html": [
       "<pre style=\"white-space:pre;overflow-x:auto;line-height:normal;font-family:Menlo,'DejaVu Sans Mono',consolas,'Courier New',monospace\">torch.Size([5623, 32])\n",
       "</pre>\n"
      ],
      "text/plain": [
       "torch.Size([5623, 32])\n"
      ]
     },
     "metadata": {},
     "output_type": "display_data"
    },
    {
     "data": {
      "text/html": [
       "<pre style=\"white-space:pre;overflow-x:auto;line-height:normal;font-family:Menlo,'DejaVu Sans Mono',consolas,'Courier New',monospace\">torch.Size([4264, 32])\n",
       "</pre>\n"
      ],
      "text/plain": [
       "torch.Size([4264, 32])\n"
      ]
     },
     "metadata": {},
     "output_type": "display_data"
    },
    {
     "data": {
      "text/html": [
       "<pre style=\"white-space:pre;overflow-x:auto;line-height:normal;font-family:Menlo,'DejaVu Sans Mono',consolas,'Courier New',monospace\">torch.Size([5660, 32])\n",
       "</pre>\n"
      ],
      "text/plain": [
       "torch.Size([5660, 32])\n"
      ]
     },
     "metadata": {},
     "output_type": "display_data"
    },
    {
     "data": {
      "text/html": [
       "<pre style=\"white-space:pre;overflow-x:auto;line-height:normal;font-family:Menlo,'DejaVu Sans Mono',consolas,'Courier New',monospace\">torch.Size([4502, 32])\n",
       "</pre>\n"
      ],
      "text/plain": [
       "torch.Size([4502, 32])\n"
      ]
     },
     "metadata": {},
     "output_type": "display_data"
    },
    {
     "data": {
      "text/html": [
       "<pre style=\"white-space:pre;overflow-x:auto;line-height:normal;font-family:Menlo,'DejaVu Sans Mono',consolas,'Courier New',monospace\">torch.Size([4970, 32])\n",
       "</pre>\n"
      ],
      "text/plain": [
       "torch.Size([4970, 32])\n"
      ]
     },
     "metadata": {},
     "output_type": "display_data"
    },
    {
     "data": {
      "text/html": [
       "<pre style=\"white-space:pre;overflow-x:auto;line-height:normal;font-family:Menlo,'DejaVu Sans Mono',consolas,'Courier New',monospace\">torch.Size([5567, 32])\n",
       "</pre>\n"
      ],
      "text/plain": [
       "torch.Size([5567, 32])\n"
      ]
     },
     "metadata": {},
     "output_type": "display_data"
    },
    {
     "data": {
      "text/html": [
       "<pre style=\"white-space:pre;overflow-x:auto;line-height:normal;font-family:Menlo,'DejaVu Sans Mono',consolas,'Courier New',monospace\">torch.Size([4694, 32])\n",
       "</pre>\n"
      ],
      "text/plain": [
       "torch.Size([4694, 32])\n"
      ]
     },
     "metadata": {},
     "output_type": "display_data"
    },
    {
     "data": {
      "text/html": [
       "<pre style=\"white-space:pre;overflow-x:auto;line-height:normal;font-family:Menlo,'DejaVu Sans Mono',consolas,'Courier New',monospace\">torch.Size([4891, 32])\n",
       "</pre>\n"
      ],
      "text/plain": [
       "torch.Size([4891, 32])\n"
      ]
     },
     "metadata": {},
     "output_type": "display_data"
    },
    {
     "data": {
      "text/html": [
       "<pre style=\"white-space:pre;overflow-x:auto;line-height:normal;font-family:Menlo,'DejaVu Sans Mono',consolas,'Courier New',monospace\">torch.Size([4935, 32])\n",
       "</pre>\n"
      ],
      "text/plain": [
       "torch.Size([4935, 32])\n"
      ]
     },
     "metadata": {},
     "output_type": "display_data"
    },
    {
     "data": {
      "text/html": [
       "<pre style=\"white-space:pre;overflow-x:auto;line-height:normal;font-family:Menlo,'DejaVu Sans Mono',consolas,'Courier New',monospace\">torch.Size([4293, 32])\n",
       "</pre>\n"
      ],
      "text/plain": [
       "torch.Size([4293, 32])\n"
      ]
     },
     "metadata": {},
     "output_type": "display_data"
    },
    {
     "data": {
      "text/html": [
       "<pre style=\"white-space:pre;overflow-x:auto;line-height:normal;font-family:Menlo,'DejaVu Sans Mono',consolas,'Courier New',monospace\">torch.Size([4401, 32])\n",
       "</pre>\n"
      ],
      "text/plain": [
       "torch.Size([4401, 32])\n"
      ]
     },
     "metadata": {},
     "output_type": "display_data"
    },
    {
     "data": {
      "text/html": [
       "<pre style=\"white-space:pre;overflow-x:auto;line-height:normal;font-family:Menlo,'DejaVu Sans Mono',consolas,'Courier New',monospace\">torch.Size([5342, 32])\n",
       "</pre>\n"
      ],
      "text/plain": [
       "torch.Size([5342, 32])\n"
      ]
     },
     "metadata": {},
     "output_type": "display_data"
    },
    {
     "data": {
      "text/html": [
       "<pre style=\"white-space:pre;overflow-x:auto;line-height:normal;font-family:Menlo,'DejaVu Sans Mono',consolas,'Courier New',monospace\">torch.Size([6590, 32])\n",
       "</pre>\n"
      ],
      "text/plain": [
       "torch.Size([6590, 32])\n"
      ]
     },
     "metadata": {},
     "output_type": "display_data"
    },
    {
     "data": {
      "text/html": [
       "<pre style=\"white-space:pre;overflow-x:auto;line-height:normal;font-family:Menlo,'DejaVu Sans Mono',consolas,'Courier New',monospace\">torch.Size([5756, 32])\n",
       "</pre>\n"
      ],
      "text/plain": [
       "torch.Size([5756, 32])\n"
      ]
     },
     "metadata": {},
     "output_type": "display_data"
    },
    {
     "data": {
      "text/html": [
       "<pre style=\"white-space:pre;overflow-x:auto;line-height:normal;font-family:Menlo,'DejaVu Sans Mono',consolas,'Courier New',monospace\">torch.Size([4296, 32])\n",
       "</pre>\n"
      ],
      "text/plain": [
       "torch.Size([4296, 32])\n"
      ]
     },
     "metadata": {},
     "output_type": "display_data"
    },
    {
     "data": {
      "text/html": [
       "<pre style=\"white-space:pre;overflow-x:auto;line-height:normal;font-family:Menlo,'DejaVu Sans Mono',consolas,'Courier New',monospace\">torch.Size([5209, 32])\n",
       "</pre>\n"
      ],
      "text/plain": [
       "torch.Size([5209, 32])\n"
      ]
     },
     "metadata": {},
     "output_type": "display_data"
    },
    {
     "data": {
      "text/html": [
       "<pre style=\"white-space:pre;overflow-x:auto;line-height:normal;font-family:Menlo,'DejaVu Sans Mono',consolas,'Courier New',monospace\">torch.Size([4763, 32])\n",
       "</pre>\n"
      ],
      "text/plain": [
       "torch.Size([4763, 32])\n"
      ]
     },
     "metadata": {},
     "output_type": "display_data"
    },
    {
     "data": {
      "text/html": [
       "<pre style=\"white-space:pre;overflow-x:auto;line-height:normal;font-family:Menlo,'DejaVu Sans Mono',consolas,'Courier New',monospace\">torch.Size([5480, 32])\n",
       "</pre>\n"
      ],
      "text/plain": [
       "torch.Size([5480, 32])\n"
      ]
     },
     "metadata": {},
     "output_type": "display_data"
    },
    {
     "data": {
      "text/html": [
       "<pre style=\"white-space:pre;overflow-x:auto;line-height:normal;font-family:Menlo,'DejaVu Sans Mono',consolas,'Courier New',monospace\">torch.Size([5961, 32])\n",
       "</pre>\n"
      ],
      "text/plain": [
       "torch.Size([5961, 32])\n"
      ]
     },
     "metadata": {},
     "output_type": "display_data"
    },
    {
     "data": {
      "text/html": [
       "<pre style=\"white-space:pre;overflow-x:auto;line-height:normal;font-family:Menlo,'DejaVu Sans Mono',consolas,'Courier New',monospace\">torch.Size([4809, 32])\n",
       "</pre>\n"
      ],
      "text/plain": [
       "torch.Size([4809, 32])\n"
      ]
     },
     "metadata": {},
     "output_type": "display_data"
    },
    {
     "data": {
      "text/html": [
       "<pre style=\"white-space:pre;overflow-x:auto;line-height:normal;font-family:Menlo,'DejaVu Sans Mono',consolas,'Courier New',monospace\">torch.Size([4911, 32])\n",
       "</pre>\n"
      ],
      "text/plain": [
       "torch.Size([4911, 32])\n"
      ]
     },
     "metadata": {},
     "output_type": "display_data"
    },
    {
     "data": {
      "text/html": [
       "<pre style=\"white-space:pre;overflow-x:auto;line-height:normal;font-family:Menlo,'DejaVu Sans Mono',consolas,'Courier New',monospace\">torch.Size([5292, 32])\n",
       "</pre>\n"
      ],
      "text/plain": [
       "torch.Size([5292, 32])\n"
      ]
     },
     "metadata": {},
     "output_type": "display_data"
    },
    {
     "data": {
      "text/html": [
       "<pre style=\"white-space:pre;overflow-x:auto;line-height:normal;font-family:Menlo,'DejaVu Sans Mono',consolas,'Courier New',monospace\">torch.Size([5749, 32])\n",
       "</pre>\n"
      ],
      "text/plain": [
       "torch.Size([5749, 32])\n"
      ]
     },
     "metadata": {},
     "output_type": "display_data"
    },
    {
     "data": {
      "text/html": [
       "<pre style=\"white-space:pre;overflow-x:auto;line-height:normal;font-family:Menlo,'DejaVu Sans Mono',consolas,'Courier New',monospace\">torch.Size([4298, 32])\n",
       "</pre>\n"
      ],
      "text/plain": [
       "torch.Size([4298, 32])\n"
      ]
     },
     "metadata": {},
     "output_type": "display_data"
    },
    {
     "data": {
      "text/html": [
       "<pre style=\"white-space:pre;overflow-x:auto;line-height:normal;font-family:Menlo,'DejaVu Sans Mono',consolas,'Courier New',monospace\">torch.Size([5289, 32])\n",
       "</pre>\n"
      ],
      "text/plain": [
       "torch.Size([5289, 32])\n"
      ]
     },
     "metadata": {},
     "output_type": "display_data"
    },
    {
     "data": {
      "text/html": [
       "<pre style=\"white-space:pre;overflow-x:auto;line-height:normal;font-family:Menlo,'DejaVu Sans Mono',consolas,'Courier New',monospace\">torch.Size([5831, 32])\n",
       "</pre>\n"
      ],
      "text/plain": [
       "torch.Size([5831, 32])\n"
      ]
     },
     "metadata": {},
     "output_type": "display_data"
    },
    {
     "data": {
      "text/html": [
       "<pre style=\"white-space:pre;overflow-x:auto;line-height:normal;font-family:Menlo,'DejaVu Sans Mono',consolas,'Courier New',monospace\">torch.Size([5534, 32])\n",
       "</pre>\n"
      ],
      "text/plain": [
       "torch.Size([5534, 32])\n"
      ]
     },
     "metadata": {},
     "output_type": "display_data"
    },
    {
     "data": {
      "text/html": [
       "<pre style=\"white-space:pre;overflow-x:auto;line-height:normal;font-family:Menlo,'DejaVu Sans Mono',consolas,'Courier New',monospace\">torch.Size([4504, 32])\n",
       "</pre>\n"
      ],
      "text/plain": [
       "torch.Size([4504, 32])\n"
      ]
     },
     "metadata": {},
     "output_type": "display_data"
    },
    {
     "data": {
      "text/html": [
       "<pre style=\"white-space:pre;overflow-x:auto;line-height:normal;font-family:Menlo,'DejaVu Sans Mono',consolas,'Courier New',monospace\">torch.Size([5038, 32])\n",
       "</pre>\n"
      ],
      "text/plain": [
       "torch.Size([5038, 32])\n"
      ]
     },
     "metadata": {},
     "output_type": "display_data"
    },
    {
     "data": {
      "text/html": [
       "<pre style=\"white-space:pre;overflow-x:auto;line-height:normal;font-family:Menlo,'DejaVu Sans Mono',consolas,'Courier New',monospace\">torch.Size([4585, 32])\n",
       "</pre>\n"
      ],
      "text/plain": [
       "torch.Size([4585, 32])\n"
      ]
     },
     "metadata": {},
     "output_type": "display_data"
    },
    {
     "data": {
      "text/html": [
       "<pre style=\"white-space:pre;overflow-x:auto;line-height:normal;font-family:Menlo,'DejaVu Sans Mono',consolas,'Courier New',monospace\">torch.Size([5309, 32])\n",
       "</pre>\n"
      ],
      "text/plain": [
       "torch.Size([5309, 32])\n"
      ]
     },
     "metadata": {},
     "output_type": "display_data"
    },
    {
     "data": {
      "text/html": [
       "<pre style=\"white-space:pre;overflow-x:auto;line-height:normal;font-family:Menlo,'DejaVu Sans Mono',consolas,'Courier New',monospace\">torch.Size([4300, 32])\n",
       "</pre>\n"
      ],
      "text/plain": [
       "torch.Size([4300, 32])\n"
      ]
     },
     "metadata": {},
     "output_type": "display_data"
    },
    {
     "data": {
      "text/html": [
       "<pre style=\"white-space:pre;overflow-x:auto;line-height:normal;font-family:Menlo,'DejaVu Sans Mono',consolas,'Courier New',monospace\">torch.Size([5513, 32])\n",
       "</pre>\n"
      ],
      "text/plain": [
       "torch.Size([5513, 32])\n"
      ]
     },
     "metadata": {},
     "output_type": "display_data"
    },
    {
     "data": {
      "text/html": [
       "<pre style=\"white-space:pre;overflow-x:auto;line-height:normal;font-family:Menlo,'DejaVu Sans Mono',consolas,'Courier New',monospace\">torch.Size([4499, 32])\n",
       "</pre>\n"
      ],
      "text/plain": [
       "torch.Size([4499, 32])\n"
      ]
     },
     "metadata": {},
     "output_type": "display_data"
    },
    {
     "data": {
      "text/html": [
       "<pre style=\"white-space:pre;overflow-x:auto;line-height:normal;font-family:Menlo,'DejaVu Sans Mono',consolas,'Courier New',monospace\">torch.Size([5182, 32])\n",
       "</pre>\n"
      ],
      "text/plain": [
       "torch.Size([5182, 32])\n"
      ]
     },
     "metadata": {},
     "output_type": "display_data"
    },
    {
     "data": {
      "text/html": [
       "<pre style=\"white-space:pre;overflow-x:auto;line-height:normal;font-family:Menlo,'DejaVu Sans Mono',consolas,'Courier New',monospace\">torch.Size([4887, 32])\n",
       "</pre>\n"
      ],
      "text/plain": [
       "torch.Size([4887, 32])\n"
      ]
     },
     "metadata": {},
     "output_type": "display_data"
    },
    {
     "data": {
      "text/html": [
       "<pre style=\"white-space:pre;overflow-x:auto;line-height:normal;font-family:Menlo,'DejaVu Sans Mono',consolas,'Courier New',monospace\">torch.Size([4997, 32])\n",
       "</pre>\n"
      ],
      "text/plain": [
       "torch.Size([4997, 32])\n"
      ]
     },
     "metadata": {},
     "output_type": "display_data"
    },
    {
     "data": {
      "text/html": [
       "<pre style=\"white-space:pre;overflow-x:auto;line-height:normal;font-family:Menlo,'DejaVu Sans Mono',consolas,'Courier New',monospace\">torch.Size([5685, 32])\n",
       "</pre>\n"
      ],
      "text/plain": [
       "torch.Size([5685, 32])\n"
      ]
     },
     "metadata": {},
     "output_type": "display_data"
    },
    {
     "data": {
      "text/html": [
       "<pre style=\"white-space:pre;overflow-x:auto;line-height:normal;font-family:Menlo,'DejaVu Sans Mono',consolas,'Courier New',monospace\">torch.Size([5913, 32])\n",
       "</pre>\n"
      ],
      "text/plain": [
       "torch.Size([5913, 32])\n"
      ]
     },
     "metadata": {},
     "output_type": "display_data"
    },
    {
     "data": {
      "text/html": [
       "<pre style=\"white-space:pre;overflow-x:auto;line-height:normal;font-family:Menlo,'DejaVu Sans Mono',consolas,'Courier New',monospace\">torch.Size([5942, 32])\n",
       "</pre>\n"
      ],
      "text/plain": [
       "torch.Size([5942, 32])\n"
      ]
     },
     "metadata": {},
     "output_type": "display_data"
    },
    {
     "data": {
      "text/html": [
       "<pre style=\"white-space:pre;overflow-x:auto;line-height:normal;font-family:Menlo,'DejaVu Sans Mono',consolas,'Courier New',monospace\">torch.Size([5734, 32])\n",
       "</pre>\n"
      ],
      "text/plain": [
       "torch.Size([5734, 32])\n"
      ]
     },
     "metadata": {},
     "output_type": "display_data"
    },
    {
     "data": {
      "text/html": [
       "<pre style=\"white-space:pre;overflow-x:auto;line-height:normal;font-family:Menlo,'DejaVu Sans Mono',consolas,'Courier New',monospace\">torch.Size([4245, 32])\n",
       "</pre>\n"
      ],
      "text/plain": [
       "torch.Size([4245, 32])\n"
      ]
     },
     "metadata": {},
     "output_type": "display_data"
    },
    {
     "data": {
      "text/html": [
       "<pre style=\"white-space:pre;overflow-x:auto;line-height:normal;font-family:Menlo,'DejaVu Sans Mono',consolas,'Courier New',monospace\">torch.Size([4595, 32])\n",
       "</pre>\n"
      ],
      "text/plain": [
       "torch.Size([4595, 32])\n"
      ]
     },
     "metadata": {},
     "output_type": "display_data"
    },
    {
     "data": {
      "text/html": [
       "<pre style=\"white-space:pre;overflow-x:auto;line-height:normal;font-family:Menlo,'DejaVu Sans Mono',consolas,'Courier New',monospace\">torch.Size([5380, 32])\n",
       "</pre>\n"
      ],
      "text/plain": [
       "torch.Size([5380, 32])\n"
      ]
     },
     "metadata": {},
     "output_type": "display_data"
    },
    {
     "data": {
      "text/html": [
       "<pre style=\"white-space:pre;overflow-x:auto;line-height:normal;font-family:Menlo,'DejaVu Sans Mono',consolas,'Courier New',monospace\">torch.Size([4978, 32])\n",
       "</pre>\n"
      ],
      "text/plain": [
       "torch.Size([4978, 32])\n"
      ]
     },
     "metadata": {},
     "output_type": "display_data"
    },
    {
     "data": {
      "text/html": [
       "<pre style=\"white-space:pre;overflow-x:auto;line-height:normal;font-family:Menlo,'DejaVu Sans Mono',consolas,'Courier New',monospace\">torch.Size([5262, 32])\n",
       "</pre>\n"
      ],
      "text/plain": [
       "torch.Size([5262, 32])\n"
      ]
     },
     "metadata": {},
     "output_type": "display_data"
    },
    {
     "data": {
      "text/html": [
       "<pre style=\"white-space:pre;overflow-x:auto;line-height:normal;font-family:Menlo,'DejaVu Sans Mono',consolas,'Courier New',monospace\">torch.Size([4811, 32])\n",
       "</pre>\n"
      ],
      "text/plain": [
       "torch.Size([4811, 32])\n"
      ]
     },
     "metadata": {},
     "output_type": "display_data"
    },
    {
     "data": {
      "text/html": [
       "<pre style=\"white-space:pre;overflow-x:auto;line-height:normal;font-family:Menlo,'DejaVu Sans Mono',consolas,'Courier New',monospace\">torch.Size([5848, 32])\n",
       "</pre>\n"
      ],
      "text/plain": [
       "torch.Size([5848, 32])\n"
      ]
     },
     "metadata": {},
     "output_type": "display_data"
    },
    {
     "data": {
      "text/html": [
       "<pre style=\"white-space:pre;overflow-x:auto;line-height:normal;font-family:Menlo,'DejaVu Sans Mono',consolas,'Courier New',monospace\">torch.Size([4380, 32])\n",
       "</pre>\n"
      ],
      "text/plain": [
       "torch.Size([4380, 32])\n"
      ]
     },
     "metadata": {},
     "output_type": "display_data"
    },
    {
     "data": {
      "text/html": [
       "<pre style=\"white-space:pre;overflow-x:auto;line-height:normal;font-family:Menlo,'DejaVu Sans Mono',consolas,'Courier New',monospace\">torch.Size([5175, 32])\n",
       "</pre>\n"
      ],
      "text/plain": [
       "torch.Size([5175, 32])\n"
      ]
     },
     "metadata": {},
     "output_type": "display_data"
    },
    {
     "data": {
      "text/html": [
       "<pre style=\"white-space:pre;overflow-x:auto;line-height:normal;font-family:Menlo,'DejaVu Sans Mono',consolas,'Courier New',monospace\">torch.Size([5464, 32])\n",
       "</pre>\n"
      ],
      "text/plain": [
       "torch.Size([5464, 32])\n"
      ]
     },
     "metadata": {},
     "output_type": "display_data"
    },
    {
     "data": {
      "text/html": [
       "<pre style=\"white-space:pre;overflow-x:auto;line-height:normal;font-family:Menlo,'DejaVu Sans Mono',consolas,'Courier New',monospace\">torch.Size([5038, 32])\n",
       "</pre>\n"
      ],
      "text/plain": [
       "torch.Size([5038, 32])\n"
      ]
     },
     "metadata": {},
     "output_type": "display_data"
    },
    {
     "data": {
      "text/html": [
       "<pre style=\"white-space:pre;overflow-x:auto;line-height:normal;font-family:Menlo,'DejaVu Sans Mono',consolas,'Courier New',monospace\">torch.Size([6749, 32])\n",
       "</pre>\n"
      ],
      "text/plain": [
       "torch.Size([6749, 32])\n"
      ]
     },
     "metadata": {},
     "output_type": "display_data"
    },
    {
     "data": {
      "text/html": [
       "<pre style=\"white-space:pre;overflow-x:auto;line-height:normal;font-family:Menlo,'DejaVu Sans Mono',consolas,'Courier New',monospace\">torch.Size([4817, 32])\n",
       "</pre>\n"
      ],
      "text/plain": [
       "torch.Size([4817, 32])\n"
      ]
     },
     "metadata": {},
     "output_type": "display_data"
    },
    {
     "data": {
      "text/html": [
       "<pre style=\"white-space:pre;overflow-x:auto;line-height:normal;font-family:Menlo,'DejaVu Sans Mono',consolas,'Courier New',monospace\">torch.Size([4966, 32])\n",
       "</pre>\n"
      ],
      "text/plain": [
       "torch.Size([4966, 32])\n"
      ]
     },
     "metadata": {},
     "output_type": "display_data"
    },
    {
     "data": {
      "text/html": [
       "<pre style=\"white-space:pre;overflow-x:auto;line-height:normal;font-family:Menlo,'DejaVu Sans Mono',consolas,'Courier New',monospace\">torch.Size([4277, 32])\n",
       "</pre>\n"
      ],
      "text/plain": [
       "torch.Size([4277, 32])\n"
      ]
     },
     "metadata": {},
     "output_type": "display_data"
    },
    {
     "data": {
      "text/html": [
       "<pre style=\"white-space:pre;overflow-x:auto;line-height:normal;font-family:Menlo,'DejaVu Sans Mono',consolas,'Courier New',monospace\">torch.Size([4164, 32])\n",
       "</pre>\n"
      ],
      "text/plain": [
       "torch.Size([4164, 32])\n"
      ]
     },
     "metadata": {},
     "output_type": "display_data"
    },
    {
     "data": {
      "text/html": [
       "<pre style=\"white-space:pre;overflow-x:auto;line-height:normal;font-family:Menlo,'DejaVu Sans Mono',consolas,'Courier New',monospace\">torch.Size([6051, 32])\n",
       "</pre>\n"
      ],
      "text/plain": [
       "torch.Size([6051, 32])\n"
      ]
     },
     "metadata": {},
     "output_type": "display_data"
    },
    {
     "data": {
      "text/html": [
       "<pre style=\"white-space:pre;overflow-x:auto;line-height:normal;font-family:Menlo,'DejaVu Sans Mono',consolas,'Courier New',monospace\">torch.Size([4924, 32])\n",
       "</pre>\n"
      ],
      "text/plain": [
       "torch.Size([4924, 32])\n"
      ]
     },
     "metadata": {},
     "output_type": "display_data"
    },
    {
     "data": {
      "text/html": [
       "<pre style=\"white-space:pre;overflow-x:auto;line-height:normal;font-family:Menlo,'DejaVu Sans Mono',consolas,'Courier New',monospace\">torch.Size([4731, 32])\n",
       "</pre>\n"
      ],
      "text/plain": [
       "torch.Size([4731, 32])\n"
      ]
     },
     "metadata": {},
     "output_type": "display_data"
    },
    {
     "data": {
      "text/html": [
       "<pre style=\"white-space:pre;overflow-x:auto;line-height:normal;font-family:Menlo,'DejaVu Sans Mono',consolas,'Courier New',monospace\">torch.Size([4854, 32])\n",
       "</pre>\n"
      ],
      "text/plain": [
       "torch.Size([4854, 32])\n"
      ]
     },
     "metadata": {},
     "output_type": "display_data"
    },
    {
     "data": {
      "text/html": [
       "<pre style=\"white-space:pre;overflow-x:auto;line-height:normal;font-family:Menlo,'DejaVu Sans Mono',consolas,'Courier New',monospace\">torch.Size([5001, 32])\n",
       "</pre>\n"
      ],
      "text/plain": [
       "torch.Size([5001, 32])\n"
      ]
     },
     "metadata": {},
     "output_type": "display_data"
    },
    {
     "data": {
      "text/html": [
       "<pre style=\"white-space:pre;overflow-x:auto;line-height:normal;font-family:Menlo,'DejaVu Sans Mono',consolas,'Courier New',monospace\">torch.Size([5358, 32])\n",
       "</pre>\n"
      ],
      "text/plain": [
       "torch.Size([5358, 32])\n"
      ]
     },
     "metadata": {},
     "output_type": "display_data"
    },
    {
     "data": {
      "text/html": [
       "<pre style=\"white-space:pre;overflow-x:auto;line-height:normal;font-family:Menlo,'DejaVu Sans Mono',consolas,'Courier New',monospace\">torch.Size([5671, 32])\n",
       "</pre>\n"
      ],
      "text/plain": [
       "torch.Size([5671, 32])\n"
      ]
     },
     "metadata": {},
     "output_type": "display_data"
    },
    {
     "data": {
      "text/html": [
       "<pre style=\"white-space:pre;overflow-x:auto;line-height:normal;font-family:Menlo,'DejaVu Sans Mono',consolas,'Courier New',monospace\">torch.Size([5069, 32])\n",
       "</pre>\n"
      ],
      "text/plain": [
       "torch.Size([5069, 32])\n"
      ]
     },
     "metadata": {},
     "output_type": "display_data"
    },
    {
     "data": {
      "text/html": [
       "<pre style=\"white-space:pre;overflow-x:auto;line-height:normal;font-family:Menlo,'DejaVu Sans Mono',consolas,'Courier New',monospace\">torch.Size([6208, 32])\n",
       "</pre>\n"
      ],
      "text/plain": [
       "torch.Size([6208, 32])\n"
      ]
     },
     "metadata": {},
     "output_type": "display_data"
    },
    {
     "data": {
      "text/html": [
       "<pre style=\"white-space:pre;overflow-x:auto;line-height:normal;font-family:Menlo,'DejaVu Sans Mono',consolas,'Courier New',monospace\">torch.Size([5035, 32])\n",
       "</pre>\n"
      ],
      "text/plain": [
       "torch.Size([5035, 32])\n"
      ]
     },
     "metadata": {},
     "output_type": "display_data"
    },
    {
     "data": {
      "text/html": [
       "<pre style=\"white-space:pre;overflow-x:auto;line-height:normal;font-family:Menlo,'DejaVu Sans Mono',consolas,'Courier New',monospace\">torch.Size([4763, 32])\n",
       "</pre>\n"
      ],
      "text/plain": [
       "torch.Size([4763, 32])\n"
      ]
     },
     "metadata": {},
     "output_type": "display_data"
    },
    {
     "data": {
      "text/html": [
       "<pre style=\"white-space:pre;overflow-x:auto;line-height:normal;font-family:Menlo,'DejaVu Sans Mono',consolas,'Courier New',monospace\">torch.Size([6167, 32])\n",
       "</pre>\n"
      ],
      "text/plain": [
       "torch.Size([6167, 32])\n"
      ]
     },
     "metadata": {},
     "output_type": "display_data"
    },
    {
     "data": {
      "text/html": [
       "<pre style=\"white-space:pre;overflow-x:auto;line-height:normal;font-family:Menlo,'DejaVu Sans Mono',consolas,'Courier New',monospace\">torch.Size([4979, 32])\n",
       "</pre>\n"
      ],
      "text/plain": [
       "torch.Size([4979, 32])\n"
      ]
     },
     "metadata": {},
     "output_type": "display_data"
    },
    {
     "data": {
      "text/html": [
       "<pre style=\"white-space:pre;overflow-x:auto;line-height:normal;font-family:Menlo,'DejaVu Sans Mono',consolas,'Courier New',monospace\">torch.Size([4972, 32])\n",
       "</pre>\n"
      ],
      "text/plain": [
       "torch.Size([4972, 32])\n"
      ]
     },
     "metadata": {},
     "output_type": "display_data"
    },
    {
     "data": {
      "text/html": [
       "<pre style=\"white-space:pre;overflow-x:auto;line-height:normal;font-family:Menlo,'DejaVu Sans Mono',consolas,'Courier New',monospace\">torch.Size([4820, 32])\n",
       "</pre>\n"
      ],
      "text/plain": [
       "torch.Size([4820, 32])\n"
      ]
     },
     "metadata": {},
     "output_type": "display_data"
    },
    {
     "data": {
      "text/html": [
       "<pre style=\"white-space:pre;overflow-x:auto;line-height:normal;font-family:Menlo,'DejaVu Sans Mono',consolas,'Courier New',monospace\">torch.Size([5850, 32])\n",
       "</pre>\n"
      ],
      "text/plain": [
       "torch.Size([5850, 32])\n"
      ]
     },
     "metadata": {},
     "output_type": "display_data"
    },
    {
     "data": {
      "text/html": [
       "<pre style=\"white-space:pre;overflow-x:auto;line-height:normal;font-family:Menlo,'DejaVu Sans Mono',consolas,'Courier New',monospace\">torch.Size([5933, 32])\n",
       "</pre>\n"
      ],
      "text/plain": [
       "torch.Size([5933, 32])\n"
      ]
     },
     "metadata": {},
     "output_type": "display_data"
    },
    {
     "data": {
      "text/html": [
       "<pre style=\"white-space:pre;overflow-x:auto;line-height:normal;font-family:Menlo,'DejaVu Sans Mono',consolas,'Courier New',monospace\">torch.Size([4824, 32])\n",
       "</pre>\n"
      ],
      "text/plain": [
       "torch.Size([4824, 32])\n"
      ]
     },
     "metadata": {},
     "output_type": "display_data"
    },
    {
     "data": {
      "text/html": [
       "<pre style=\"white-space:pre;overflow-x:auto;line-height:normal;font-family:Menlo,'DejaVu Sans Mono',consolas,'Courier New',monospace\">torch.Size([4498, 32])\n",
       "</pre>\n"
      ],
      "text/plain": [
       "torch.Size([4498, 32])\n"
      ]
     },
     "metadata": {},
     "output_type": "display_data"
    },
    {
     "data": {
      "text/html": [
       "<pre style=\"white-space:pre;overflow-x:auto;line-height:normal;font-family:Menlo,'DejaVu Sans Mono',consolas,'Courier New',monospace\">torch.Size([6077, 32])\n",
       "</pre>\n"
      ],
      "text/plain": [
       "torch.Size([6077, 32])\n"
      ]
     },
     "metadata": {},
     "output_type": "display_data"
    },
    {
     "data": {
      "text/html": [
       "<pre style=\"white-space:pre;overflow-x:auto;line-height:normal;font-family:Menlo,'DejaVu Sans Mono',consolas,'Courier New',monospace\">torch.Size([5170, 32])\n",
       "</pre>\n"
      ],
      "text/plain": [
       "torch.Size([5170, 32])\n"
      ]
     },
     "metadata": {},
     "output_type": "display_data"
    },
    {
     "data": {
      "text/html": [
       "<pre style=\"white-space:pre;overflow-x:auto;line-height:normal;font-family:Menlo,'DejaVu Sans Mono',consolas,'Courier New',monospace\">torch.Size([5589, 32])\n",
       "</pre>\n"
      ],
      "text/plain": [
       "torch.Size([5589, 32])\n"
      ]
     },
     "metadata": {},
     "output_type": "display_data"
    },
    {
     "data": {
      "text/html": [
       "<pre style=\"white-space:pre;overflow-x:auto;line-height:normal;font-family:Menlo,'DejaVu Sans Mono',consolas,'Courier New',monospace\">torch.Size([6018, 32])\n",
       "</pre>\n"
      ],
      "text/plain": [
       "torch.Size([6018, 32])\n"
      ]
     },
     "metadata": {},
     "output_type": "display_data"
    },
    {
     "data": {
      "text/html": [
       "<pre style=\"white-space:pre;overflow-x:auto;line-height:normal;font-family:Menlo,'DejaVu Sans Mono',consolas,'Courier New',monospace\">torch.Size([4919, 32])\n",
       "</pre>\n"
      ],
      "text/plain": [
       "torch.Size([4919, 32])\n"
      ]
     },
     "metadata": {},
     "output_type": "display_data"
    },
    {
     "data": {
      "text/html": [
       "<pre style=\"white-space:pre;overflow-x:auto;line-height:normal;font-family:Menlo,'DejaVu Sans Mono',consolas,'Courier New',monospace\">torch.Size([5169, 32])\n",
       "</pre>\n"
      ],
      "text/plain": [
       "torch.Size([5169, 32])\n"
      ]
     },
     "metadata": {},
     "output_type": "display_data"
    },
    {
     "data": {
      "text/html": [
       "<pre style=\"white-space:pre;overflow-x:auto;line-height:normal;font-family:Menlo,'DejaVu Sans Mono',consolas,'Courier New',monospace\">torch.Size([5811, 32])\n",
       "</pre>\n"
      ],
      "text/plain": [
       "torch.Size([5811, 32])\n"
      ]
     },
     "metadata": {},
     "output_type": "display_data"
    },
    {
     "data": {
      "text/html": [
       "<pre style=\"white-space:pre;overflow-x:auto;line-height:normal;font-family:Menlo,'DejaVu Sans Mono',consolas,'Courier New',monospace\">torch.Size([5009, 32])\n",
       "</pre>\n"
      ],
      "text/plain": [
       "torch.Size([5009, 32])\n"
      ]
     },
     "metadata": {},
     "output_type": "display_data"
    },
    {
     "data": {
      "text/html": [
       "<pre style=\"white-space:pre;overflow-x:auto;line-height:normal;font-family:Menlo,'DejaVu Sans Mono',consolas,'Courier New',monospace\">torch.Size([7054, 32])\n",
       "</pre>\n"
      ],
      "text/plain": [
       "torch.Size([7054, 32])\n"
      ]
     },
     "metadata": {},
     "output_type": "display_data"
    },
    {
     "data": {
      "text/html": [
       "<pre style=\"white-space:pre;overflow-x:auto;line-height:normal;font-family:Menlo,'DejaVu Sans Mono',consolas,'Courier New',monospace\">torch.Size([5033, 32])\n",
       "</pre>\n"
      ],
      "text/plain": [
       "torch.Size([5033, 32])\n"
      ]
     },
     "metadata": {},
     "output_type": "display_data"
    },
    {
     "data": {
      "text/html": [
       "<pre style=\"white-space:pre;overflow-x:auto;line-height:normal;font-family:Menlo,'DejaVu Sans Mono',consolas,'Courier New',monospace\">torch.Size([5304, 32])\n",
       "</pre>\n"
      ],
      "text/plain": [
       "torch.Size([5304, 32])\n"
      ]
     },
     "metadata": {},
     "output_type": "display_data"
    },
    {
     "data": {
      "text/html": [
       "<pre style=\"white-space:pre;overflow-x:auto;line-height:normal;font-family:Menlo,'DejaVu Sans Mono',consolas,'Courier New',monospace\">torch.Size([4474, 32])\n",
       "</pre>\n"
      ],
      "text/plain": [
       "torch.Size([4474, 32])\n"
      ]
     },
     "metadata": {},
     "output_type": "display_data"
    },
    {
     "data": {
      "text/html": [
       "<pre style=\"white-space:pre;overflow-x:auto;line-height:normal;font-family:Menlo,'DejaVu Sans Mono',consolas,'Courier New',monospace\">torch.Size([6280, 32])\n",
       "</pre>\n"
      ],
      "text/plain": [
       "torch.Size([6280, 32])\n"
      ]
     },
     "metadata": {},
     "output_type": "display_data"
    },
    {
     "data": {
      "text/html": [
       "<pre style=\"white-space:pre;overflow-x:auto;line-height:normal;font-family:Menlo,'DejaVu Sans Mono',consolas,'Courier New',monospace\">torch.Size([5151, 32])\n",
       "</pre>\n"
      ],
      "text/plain": [
       "torch.Size([5151, 32])\n"
      ]
     },
     "metadata": {},
     "output_type": "display_data"
    },
    {
     "data": {
      "text/html": [
       "<pre style=\"white-space:pre;overflow-x:auto;line-height:normal;font-family:Menlo,'DejaVu Sans Mono',consolas,'Courier New',monospace\">torch.Size([6190, 32])\n",
       "</pre>\n"
      ],
      "text/plain": [
       "torch.Size([6190, 32])\n"
      ]
     },
     "metadata": {},
     "output_type": "display_data"
    },
    {
     "data": {
      "text/html": [
       "<pre style=\"white-space:pre;overflow-x:auto;line-height:normal;font-family:Menlo,'DejaVu Sans Mono',consolas,'Courier New',monospace\">torch.Size([6054, 32])\n",
       "</pre>\n"
      ],
      "text/plain": [
       "torch.Size([6054, 32])\n"
      ]
     },
     "metadata": {},
     "output_type": "display_data"
    },
    {
     "data": {
      "text/html": [
       "<pre style=\"white-space:pre;overflow-x:auto;line-height:normal;font-family:Menlo,'DejaVu Sans Mono',consolas,'Courier New',monospace\">torch.Size([5850, 32])\n",
       "</pre>\n"
      ],
      "text/plain": [
       "torch.Size([5850, 32])\n"
      ]
     },
     "metadata": {},
     "output_type": "display_data"
    },
    {
     "data": {
      "text/html": [
       "<pre style=\"white-space:pre;overflow-x:auto;line-height:normal;font-family:Menlo,'DejaVu Sans Mono',consolas,'Courier New',monospace\">torch.Size([5422, 32])\n",
       "</pre>\n"
      ],
      "text/plain": [
       "torch.Size([5422, 32])\n"
      ]
     },
     "metadata": {},
     "output_type": "display_data"
    },
    {
     "data": {
      "text/html": [
       "<pre style=\"white-space:pre;overflow-x:auto;line-height:normal;font-family:Menlo,'DejaVu Sans Mono',consolas,'Courier New',monospace\">torch.Size([5514, 32])\n",
       "</pre>\n"
      ],
      "text/plain": [
       "torch.Size([5514, 32])\n"
      ]
     },
     "metadata": {},
     "output_type": "display_data"
    },
    {
     "data": {
      "text/html": [
       "<pre style=\"white-space:pre;overflow-x:auto;line-height:normal;font-family:Menlo,'DejaVu Sans Mono',consolas,'Courier New',monospace\">torch.Size([4957, 32])\n",
       "</pre>\n"
      ],
      "text/plain": [
       "torch.Size([4957, 32])\n"
      ]
     },
     "metadata": {},
     "output_type": "display_data"
    },
    {
     "data": {
      "text/html": [
       "<pre style=\"white-space:pre;overflow-x:auto;line-height:normal;font-family:Menlo,'DejaVu Sans Mono',consolas,'Courier New',monospace\">torch.Size([4594, 32])\n",
       "</pre>\n"
      ],
      "text/plain": [
       "torch.Size([4594, 32])\n"
      ]
     },
     "metadata": {},
     "output_type": "display_data"
    },
    {
     "data": {
      "text/html": [
       "<pre style=\"white-space:pre;overflow-x:auto;line-height:normal;font-family:Menlo,'DejaVu Sans Mono',consolas,'Courier New',monospace\">torch.Size([5456, 32])\n",
       "</pre>\n"
      ],
      "text/plain": [
       "torch.Size([5456, 32])\n"
      ]
     },
     "metadata": {},
     "output_type": "display_data"
    },
    {
     "data": {
      "text/html": [
       "<pre style=\"white-space:pre;overflow-x:auto;line-height:normal;font-family:Menlo,'DejaVu Sans Mono',consolas,'Courier New',monospace\">torch.Size([5846, 32])\n",
       "</pre>\n"
      ],
      "text/plain": [
       "torch.Size([5846, 32])\n"
      ]
     },
     "metadata": {},
     "output_type": "display_data"
    },
    {
     "data": {
      "text/html": [
       "<pre style=\"white-space:pre;overflow-x:auto;line-height:normal;font-family:Menlo,'DejaVu Sans Mono',consolas,'Courier New',monospace\">torch.Size([5851, 32])\n",
       "</pre>\n"
      ],
      "text/plain": [
       "torch.Size([5851, 32])\n"
      ]
     },
     "metadata": {},
     "output_type": "display_data"
    },
    {
     "data": {
      "text/html": [
       "<pre style=\"white-space:pre;overflow-x:auto;line-height:normal;font-family:Menlo,'DejaVu Sans Mono',consolas,'Courier New',monospace\">torch.Size([4950, 32])\n",
       "</pre>\n"
      ],
      "text/plain": [
       "torch.Size([4950, 32])\n"
      ]
     },
     "metadata": {},
     "output_type": "display_data"
    },
    {
     "data": {
      "text/html": [
       "<pre style=\"white-space:pre;overflow-x:auto;line-height:normal;font-family:Menlo,'DejaVu Sans Mono',consolas,'Courier New',monospace\">torch.Size([5976, 32])\n",
       "</pre>\n"
      ],
      "text/plain": [
       "torch.Size([5976, 32])\n"
      ]
     },
     "metadata": {},
     "output_type": "display_data"
    },
    {
     "data": {
      "text/html": [
       "<pre style=\"white-space:pre;overflow-x:auto;line-height:normal;font-family:Menlo,'DejaVu Sans Mono',consolas,'Courier New',monospace\">torch.Size([5486, 32])\n",
       "</pre>\n"
      ],
      "text/plain": [
       "torch.Size([5486, 32])\n"
      ]
     },
     "metadata": {},
     "output_type": "display_data"
    },
    {
     "data": {
      "text/html": [
       "<pre style=\"white-space:pre;overflow-x:auto;line-height:normal;font-family:Menlo,'DejaVu Sans Mono',consolas,'Courier New',monospace\">torch.Size([4380, 32])\n",
       "</pre>\n"
      ],
      "text/plain": [
       "torch.Size([4380, 32])\n"
      ]
     },
     "metadata": {},
     "output_type": "display_data"
    },
    {
     "data": {
      "text/html": [
       "<pre style=\"white-space:pre;overflow-x:auto;line-height:normal;font-family:Menlo,'DejaVu Sans Mono',consolas,'Courier New',monospace\">torch.Size([4477, 32])\n",
       "</pre>\n"
      ],
      "text/plain": [
       "torch.Size([4477, 32])\n"
      ]
     },
     "metadata": {},
     "output_type": "display_data"
    },
    {
     "data": {
      "text/html": [
       "<pre style=\"white-space:pre;overflow-x:auto;line-height:normal;font-family:Menlo,'DejaVu Sans Mono',consolas,'Courier New',monospace\">torch.Size([4893, 32])\n",
       "</pre>\n"
      ],
      "text/plain": [
       "torch.Size([4893, 32])\n"
      ]
     },
     "metadata": {},
     "output_type": "display_data"
    },
    {
     "data": {
      "text/html": [
       "<pre style=\"white-space:pre;overflow-x:auto;line-height:normal;font-family:Menlo,'DejaVu Sans Mono',consolas,'Courier New',monospace\">torch.Size([5119, 32])\n",
       "</pre>\n"
      ],
      "text/plain": [
       "torch.Size([5119, 32])\n"
      ]
     },
     "metadata": {},
     "output_type": "display_data"
    },
    {
     "data": {
      "text/html": [
       "<pre style=\"white-space:pre;overflow-x:auto;line-height:normal;font-family:Menlo,'DejaVu Sans Mono',consolas,'Courier New',monospace\">torch.Size([5938, 32])\n",
       "</pre>\n"
      ],
      "text/plain": [
       "torch.Size([5938, 32])\n"
      ]
     },
     "metadata": {},
     "output_type": "display_data"
    },
    {
     "data": {
      "text/html": [
       "<pre style=\"white-space:pre;overflow-x:auto;line-height:normal;font-family:Menlo,'DejaVu Sans Mono',consolas,'Courier New',monospace\">torch.Size([5494, 32])\n",
       "</pre>\n"
      ],
      "text/plain": [
       "torch.Size([5494, 32])\n"
      ]
     },
     "metadata": {},
     "output_type": "display_data"
    },
    {
     "data": {
      "text/html": [
       "<pre style=\"white-space:pre;overflow-x:auto;line-height:normal;font-family:Menlo,'DejaVu Sans Mono',consolas,'Courier New',monospace\">torch.Size([6727, 32])\n",
       "</pre>\n"
      ],
      "text/plain": [
       "torch.Size([6727, 32])\n"
      ]
     },
     "metadata": {},
     "output_type": "display_data"
    },
    {
     "data": {
      "text/html": [
       "<pre style=\"white-space:pre;overflow-x:auto;line-height:normal;font-family:Menlo,'DejaVu Sans Mono',consolas,'Courier New',monospace\">torch.Size([5334, 32])\n",
       "</pre>\n"
      ],
      "text/plain": [
       "torch.Size([5334, 32])\n"
      ]
     },
     "metadata": {},
     "output_type": "display_data"
    },
    {
     "data": {
      "text/html": [
       "<pre style=\"white-space:pre;overflow-x:auto;line-height:normal;font-family:Menlo,'DejaVu Sans Mono',consolas,'Courier New',monospace\">torch.Size([5127, 32])\n",
       "</pre>\n"
      ],
      "text/plain": [
       "torch.Size([5127, 32])\n"
      ]
     },
     "metadata": {},
     "output_type": "display_data"
    },
    {
     "data": {
      "text/html": [
       "<pre style=\"white-space:pre;overflow-x:auto;line-height:normal;font-family:Menlo,'DejaVu Sans Mono',consolas,'Courier New',monospace\">torch.Size([5320, 32])\n",
       "</pre>\n"
      ],
      "text/plain": [
       "torch.Size([5320, 32])\n"
      ]
     },
     "metadata": {},
     "output_type": "display_data"
    },
    {
     "data": {
      "text/html": [
       "<pre style=\"white-space:pre;overflow-x:auto;line-height:normal;font-family:Menlo,'DejaVu Sans Mono',consolas,'Courier New',monospace\">torch.Size([5145, 32])\n",
       "</pre>\n"
      ],
      "text/plain": [
       "torch.Size([5145, 32])\n"
      ]
     },
     "metadata": {},
     "output_type": "display_data"
    },
    {
     "data": {
      "text/html": [
       "<pre style=\"white-space:pre;overflow-x:auto;line-height:normal;font-family:Menlo,'DejaVu Sans Mono',consolas,'Courier New',monospace\">torch.Size([5704, 32])\n",
       "</pre>\n"
      ],
      "text/plain": [
       "torch.Size([5704, 32])\n"
      ]
     },
     "metadata": {},
     "output_type": "display_data"
    },
    {
     "data": {
      "text/html": [
       "<pre style=\"white-space:pre;overflow-x:auto;line-height:normal;font-family:Menlo,'DejaVu Sans Mono',consolas,'Courier New',monospace\">torch.Size([5876, 32])\n",
       "</pre>\n"
      ],
      "text/plain": [
       "torch.Size([5876, 32])\n"
      ]
     },
     "metadata": {},
     "output_type": "display_data"
    },
    {
     "data": {
      "text/html": [
       "<pre style=\"white-space:pre;overflow-x:auto;line-height:normal;font-family:Menlo,'DejaVu Sans Mono',consolas,'Courier New',monospace\">torch.Size([5691, 32])\n",
       "</pre>\n"
      ],
      "text/plain": [
       "torch.Size([5691, 32])\n"
      ]
     },
     "metadata": {},
     "output_type": "display_data"
    },
    {
     "data": {
      "text/html": [
       "<pre style=\"white-space:pre;overflow-x:auto;line-height:normal;font-family:Menlo,'DejaVu Sans Mono',consolas,'Courier New',monospace\">torch.Size([5889, 32])\n",
       "</pre>\n"
      ],
      "text/plain": [
       "torch.Size([5889, 32])\n"
      ]
     },
     "metadata": {},
     "output_type": "display_data"
    },
    {
     "data": {
      "text/html": [
       "<pre style=\"white-space:pre;overflow-x:auto;line-height:normal;font-family:Menlo,'DejaVu Sans Mono',consolas,'Courier New',monospace\">torch.Size([5248, 32])\n",
       "</pre>\n"
      ],
      "text/plain": [
       "torch.Size([5248, 32])\n"
      ]
     },
     "metadata": {},
     "output_type": "display_data"
    },
    {
     "data": {
      "text/html": [
       "<pre style=\"white-space:pre;overflow-x:auto;line-height:normal;font-family:Menlo,'DejaVu Sans Mono',consolas,'Courier New',monospace\">torch.Size([4945, 32])\n",
       "</pre>\n"
      ],
      "text/plain": [
       "torch.Size([4945, 32])\n"
      ]
     },
     "metadata": {},
     "output_type": "display_data"
    },
    {
     "data": {
      "text/html": [
       "<pre style=\"white-space:pre;overflow-x:auto;line-height:normal;font-family:Menlo,'DejaVu Sans Mono',consolas,'Courier New',monospace\">torch.Size([7159, 32])\n",
       "</pre>\n"
      ],
      "text/plain": [
       "torch.Size([7159, 32])\n"
      ]
     },
     "metadata": {},
     "output_type": "display_data"
    },
    {
     "data": {
      "text/html": [
       "<pre style=\"white-space:pre;overflow-x:auto;line-height:normal;font-family:Menlo,'DejaVu Sans Mono',consolas,'Courier New',monospace\">torch.Size([5125, 32])\n",
       "</pre>\n"
      ],
      "text/plain": [
       "torch.Size([5125, 32])\n"
      ]
     },
     "metadata": {},
     "output_type": "display_data"
    },
    {
     "data": {
      "text/html": [
       "<pre style=\"white-space:pre;overflow-x:auto;line-height:normal;font-family:Menlo,'DejaVu Sans Mono',consolas,'Courier New',monospace\">torch.Size([5900, 32])\n",
       "</pre>\n"
      ],
      "text/plain": [
       "torch.Size([5900, 32])\n"
      ]
     },
     "metadata": {},
     "output_type": "display_data"
    },
    {
     "data": {
      "text/html": [
       "<pre style=\"white-space:pre;overflow-x:auto;line-height:normal;font-family:Menlo,'DejaVu Sans Mono',consolas,'Courier New',monospace\">torch.Size([5959, 32])\n",
       "</pre>\n"
      ],
      "text/plain": [
       "torch.Size([5959, 32])\n"
      ]
     },
     "metadata": {},
     "output_type": "display_data"
    },
    {
     "data": {
      "text/html": [
       "<pre style=\"white-space:pre;overflow-x:auto;line-height:normal;font-family:Menlo,'DejaVu Sans Mono',consolas,'Courier New',monospace\">torch.Size([5374, 32])\n",
       "</pre>\n"
      ],
      "text/plain": [
       "torch.Size([5374, 32])\n"
      ]
     },
     "metadata": {},
     "output_type": "display_data"
    },
    {
     "data": {
      "text/html": [
       "<pre style=\"white-space:pre;overflow-x:auto;line-height:normal;font-family:Menlo,'DejaVu Sans Mono',consolas,'Courier New',monospace\">torch.Size([5603, 32])\n",
       "</pre>\n"
      ],
      "text/plain": [
       "torch.Size([5603, 32])\n"
      ]
     },
     "metadata": {},
     "output_type": "display_data"
    },
    {
     "data": {
      "text/html": [
       "<pre style=\"white-space:pre;overflow-x:auto;line-height:normal;font-family:Menlo,'DejaVu Sans Mono',consolas,'Courier New',monospace\">torch.Size([5094, 32])\n",
       "</pre>\n"
      ],
      "text/plain": [
       "torch.Size([5094, 32])\n"
      ]
     },
     "metadata": {},
     "output_type": "display_data"
    },
    {
     "data": {
      "text/html": [
       "<pre style=\"white-space:pre;overflow-x:auto;line-height:normal;font-family:Menlo,'DejaVu Sans Mono',consolas,'Courier New',monospace\">torch.Size([5642, 32])\n",
       "</pre>\n"
      ],
      "text/plain": [
       "torch.Size([5642, 32])\n"
      ]
     },
     "metadata": {},
     "output_type": "display_data"
    },
    {
     "data": {
      "text/html": [
       "<pre style=\"white-space:pre;overflow-x:auto;line-height:normal;font-family:Menlo,'DejaVu Sans Mono',consolas,'Courier New',monospace\">torch.Size([5656, 32])\n",
       "</pre>\n"
      ],
      "text/plain": [
       "torch.Size([5656, 32])\n"
      ]
     },
     "metadata": {},
     "output_type": "display_data"
    }
   ],
   "source": [
    "from proteinworkshop.train import train_model\n",
    "\n",
    "train_model(cfg)"
   ]
  },
  {
   "cell_type": "markdown",
   "metadata": {},
   "source": [
    "### 4. Wrapping up\n",
    "\n",
    "Have any additional questions about using the components provided in the `ProteinWorkshop`? [Create a new issue](https://github.com/a-r-j/ProteinWorkshop/issues/new/choose) on our [GitHub repository](https://github.com/a-r-j/ProteinWorkshop). We would be happy to work with you to leverage the full power of the repository!"
   ]
  },
  {
   "cell_type": "markdown",
   "metadata": {},
   "source": [
    "/home/yang/anaconda3/envs/3d/lib/python3.10/site-packages/lightning/pytorch/utilities/data.py"
   ]
  }
 ],
 "metadata": {
  "kernelspec": {
   "display_name": "Python 3",
   "language": "python",
   "name": "python3"
  },
  "language_info": {
   "codemirror_mode": {
    "name": "ipython",
    "version": 3
   },
   "file_extension": ".py",
   "mimetype": "text/x-python",
   "name": "python",
   "nbconvert_exporter": "python",
   "pygments_lexer": "ipython3",
   "version": "3.10.14"
  },
  "orig_nbformat": 4
 },
 "nbformat": 4,
 "nbformat_minor": 2
}
