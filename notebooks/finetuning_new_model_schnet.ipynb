{
 "cells": [
  {
   "cell_type": "markdown",
   "metadata": {},
   "source": [
    "# `ProteinWorkshop` Tutorial, Part 1 - Training a New Model\n",
    "![Models](../docs/source/_static/box_models.png)"
   ]
  },
  {
   "cell_type": "markdown",
   "metadata": {},
   "source": [
    "## Train a new model using the `ProteinWorkshop`"
   ]
  },
  {
   "cell_type": "code",
   "execution_count": 1,
   "metadata": {},
   "outputs": [],
   "source": [
    "%load_ext autoreload\n",
    "%autoreload 2\n",
    "# %load_ext blackcellmagic"
   ]
  },
  {
   "cell_type": "markdown",
   "metadata": {},
   "source": [
    "Welcome to the tutorial series for the `ProteinWorkshop`! \n",
    "\n",
    "In the `ProteinWorkshop`, we implement numerous [featurisation](https://www.proteins.sh/configs/features) schemes, [datasets](https://www.proteins.sh/configs/dataset) for [self-supervised pre-training](https://proteins.sh/quickstart_component/pretrain.html) and [downstream evaluation](https://proteins.sh/quickstart_component/downstream.html), [pre-training](https://proteins.sh/configs/task) tasks, and [auxiliary tasks](https://proteins.sh/configs/task.html#auxiliary-tasks).\n",
    "\n",
    "[Processed datasets](https://drive.google.com/drive/folders/18i8rLST6ZICTBu6Q67ClT0KqN9AHeqoW?usp=sharing) and [pre-trained weights](https://drive.google.com/drive/folders/1zK1r8FpmGaqV_QwUJuvDacwSL0RW-Vw9?usp=sharing) are made available. Downloading datasets is not required; upon first run all datasets will be downloaded and processed from their respective source.\n",
    "\n",
    "The `ProteinWorkshop` encompasses several models as well as pre-trained weights for them so that you can readily use them.\n",
    "\n",
    "In this tutorial, we show you how you can use what is already available in the protein workshop to train and use models for specific tasks. The `ProteinWorkshop` is structured as a very modular package; we will therefore talk about how to change the different parts of it, like the model, training task, dataset, featurization scheme, etc. in this tutorial. \n",
    "\n",
    "Besides using all the different options we provide, you can make use of the modular nature of the `ProteinWorkshop` to add your own models, datasets, featurization schemes, and training tasks. We will show you how to do this in the next tutorials."
   ]
  },
  {
   "cell_type": "markdown",
   "metadata": {},
   "source": [
    "To train a new model, you can follow the following 3-step procedure:\n",
    "\n",
    "1. Choose the parts you want to consider: model, training task, dataset, featurization scheme and auxiliary tasks\n",
    "2. Validate the designed training config\n",
    "3. Use the designed config to train a new model"
   ]
  },
  {
   "cell_type": "markdown",
   "metadata": {},
   "source": [
    "### 1. Choose the parts you want to consider: model, training task, dataset, featurization scheme and auxiliary tasks\n",
    "\n",
    "You can switch out any of these for another available option by replacing the corresponding argument's value in `overrides`:\n",
    "\n",
    "`cfg = hydra.compose(\"template\", overrides=[\"encoder=schnet\", \"task=inverse_folding\", \"dataset=afdb_swissprot_v4\", \"features=ca_base\", \"+aux_task=none\"], return_hydra_config=True)`"
   ]
  },
  {
   "cell_type": "code",
   "execution_count": 2,
   "metadata": {},
   "outputs": [
    {
     "name": "stdout",
     "output_type": "stream",
     "text": [
      "Visible GPUs for PyTorch: 1\n"
     ]
    }
   ],
   "source": [
    "import os\n",
    "\n",
    "# Set the environment variable to make only GPU 0 visible\n",
    "os.environ[\"CUDA_VISIBLE_DEVICES\"] = \"0\"\n",
    "\n",
    "# Now import the necessary librarie\n",
    "import torch\n",
    "\n",
    "# Verify GPUs visible to PyTorch\n",
    "torch_visible_gpus = torch.cuda.device_count()\n",
    "print(\"Visible GPUs for PyTorch:\", torch_visible_gpus)"
   ]
  },
  {
   "cell_type": "code",
   "execution_count": 3,
   "metadata": {},
   "outputs": [
    {
     "data": {
      "text/html": [
       "<pre style=\"white-space:pre;overflow-x:auto;line-height:normal;font-family:Menlo,'DejaVu Sans Mono',consolas,'Courier New',monospace\"><span style=\"color: #7fbfbf; text-decoration-color: #7fbfbf\">[07/31/24 15:42:12] </span><span style=\"color: #008000; text-decoration-color: #008000\">DEBUG   </span> No `.env` file found in project root. Checking for env vars<span style=\"color: #808000; text-decoration-color: #808000\">...</span>         <a href=\"file:///home/zhang/Projects/3d/ProteinWorkshop/proteinworkshop/constants.py\" target=\"_blank\"><span style=\"color: #7f7f7f; text-decoration-color: #7f7f7f\">constants.py</span></a><span style=\"color: #7f7f7f; text-decoration-color: #7f7f7f\">:</span><a href=\"file:///home/zhang/Projects/3d/ProteinWorkshop/proteinworkshop/constants.py#22\" target=\"_blank\"><span style=\"color: #7f7f7f; text-decoration-color: #7f7f7f\">22</span></a>\n",
       "</pre>\n"
      ],
      "text/plain": [
       "\u001b[2;36m[07/31/24 15:42:12]\u001b[0m\u001b[2;36m \u001b[0m\u001b[32mDEBUG   \u001b[0m No `.env` file found in project root. Checking for env vars\u001b[33m...\u001b[0m         \u001b]8;id=674008;file:///home/zhang/Projects/3d/ProteinWorkshop/proteinworkshop/constants.py\u001b\\\u001b[2mconstants.py\u001b[0m\u001b]8;;\u001b\\\u001b[2m:\u001b[0m\u001b]8;id=469168;file:///home/zhang/Projects/3d/ProteinWorkshop/proteinworkshop/constants.py#22\u001b\\\u001b[2m22\u001b[0m\u001b]8;;\u001b\\\n"
      ]
     },
     "metadata": {},
     "output_type": "display_data"
    },
    {
     "data": {
      "text/html": [
       "<pre style=\"white-space:pre;overflow-x:auto;line-height:normal;font-family:Menlo,'DejaVu Sans Mono',consolas,'Courier New',monospace\"><span style=\"color: #7fbfbf; text-decoration-color: #7fbfbf\">                    </span><span style=\"color: #008000; text-decoration-color: #008000\">DEBUG   </span> No env var `DATA_PATH` found. Setting default<span style=\"color: #808000; text-decoration-color: #808000\">...</span>                       <a href=\"file:///home/zhang/Projects/3d/ProteinWorkshop/proteinworkshop/constants.py\" target=\"_blank\"><span style=\"color: #7f7f7f; text-decoration-color: #7f7f7f\">constants.py</span></a><span style=\"color: #7f7f7f; text-decoration-color: #7f7f7f\">:</span><a href=\"file:///home/zhang/Projects/3d/ProteinWorkshop/proteinworkshop/constants.py#28\" target=\"_blank\"><span style=\"color: #7f7f7f; text-decoration-color: #7f7f7f\">28</span></a>\n",
       "</pre>\n"
      ],
      "text/plain": [
       "\u001b[2;36m                   \u001b[0m\u001b[2;36m \u001b[0m\u001b[32mDEBUG   \u001b[0m No env var `DATA_PATH` found. Setting default\u001b[33m...\u001b[0m                       \u001b]8;id=622743;file:///home/zhang/Projects/3d/ProteinWorkshop/proteinworkshop/constants.py\u001b\\\u001b[2mconstants.py\u001b[0m\u001b]8;;\u001b\\\u001b[2m:\u001b[0m\u001b]8;id=640162;file:///home/zhang/Projects/3d/ProteinWorkshop/proteinworkshop/constants.py#28\u001b\\\u001b[2m28\u001b[0m\u001b]8;;\u001b\\\n"
      ]
     },
     "metadata": {},
     "output_type": "display_data"
    },
    {
     "data": {
      "text/html": [
       "<pre style=\"white-space:pre;overflow-x:auto;line-height:normal;font-family:Menlo,'DejaVu Sans Mono',consolas,'Courier New',monospace\"><span style=\"color: #7fbfbf; text-decoration-color: #7fbfbf\">                    </span><span style=\"color: #000080; text-decoration-color: #000080\">INFO    </span> DATA_PATH:                                                             <a href=\"file:///home/zhang/Projects/3d/ProteinWorkshop/proteinworkshop/constants.py\" target=\"_blank\"><span style=\"color: #7f7f7f; text-decoration-color: #7f7f7f\">constants.py</span></a><span style=\"color: #7f7f7f; text-decoration-color: #7f7f7f\">:</span><a href=\"file:///home/zhang/Projects/3d/ProteinWorkshop/proteinworkshop/constants.py#39\" target=\"_blank\"><span style=\"color: #7f7f7f; text-decoration-color: #7f7f7f\">39</span></a>\n",
       "<span style=\"color: #7fbfbf; text-decoration-color: #7fbfbf\">                    </span>         <span style=\"color: #800080; text-decoration-color: #800080\">/home/zhang/Projects/3d/ProteinWorkshop/proteinworkshop/</span><span style=\"color: #ff00ff; text-decoration-color: #ff00ff\">data</span>           <span style=\"color: #7f7f7f; text-decoration-color: #7f7f7f\">               </span>\n",
       "</pre>\n"
      ],
      "text/plain": [
       "\u001b[2;36m                   \u001b[0m\u001b[2;36m \u001b[0m\u001b[34mINFO    \u001b[0m DATA_PATH:                                                             \u001b]8;id=572515;file:///home/zhang/Projects/3d/ProteinWorkshop/proteinworkshop/constants.py\u001b\\\u001b[2mconstants.py\u001b[0m\u001b]8;;\u001b\\\u001b[2m:\u001b[0m\u001b]8;id=712219;file:///home/zhang/Projects/3d/ProteinWorkshop/proteinworkshop/constants.py#39\u001b\\\u001b[2m39\u001b[0m\u001b]8;;\u001b\\\n",
       "\u001b[2;36m                    \u001b[0m         \u001b[35m/home/zhang/Projects/3d/ProteinWorkshop/proteinworkshop/\u001b[0m\u001b[95mdata\u001b[0m           \u001b[2m               \u001b[0m\n"
      ]
     },
     "metadata": {},
     "output_type": "display_data"
    },
    {
     "data": {
      "text/html": [
       "<pre style=\"white-space:pre;overflow-x:auto;line-height:normal;font-family:Menlo,'DejaVu Sans Mono',consolas,'Courier New',monospace\"><span style=\"color: #7fbfbf; text-decoration-color: #7fbfbf\">[07/31/24 15:42:13] </span><span style=\"color: #000080; text-decoration-color: #000080\">INFO    </span> Hydra initialised at                                                    <a href=\"file:///home/zhang/Projects/3d/ProteinWorkshop/proteinworkshop/utils/notebook.py\" target=\"_blank\"><span style=\"color: #7f7f7f; text-decoration-color: #7f7f7f\">notebook.py</span></a><span style=\"color: #7f7f7f; text-decoration-color: #7f7f7f\">:</span><a href=\"file:///home/zhang/Projects/3d/ProteinWorkshop/proteinworkshop/utils/notebook.py#53\" target=\"_blank\"><span style=\"color: #7f7f7f; text-decoration-color: #7f7f7f\">53</span></a>\n",
       "<span style=\"color: #7fbfbf; text-decoration-color: #7fbfbf\">                    </span>         <span style=\"color: #800080; text-decoration-color: #800080\">/home/zhang/Projects/3d/ProteinWorkshop/proteinworkshop/</span><span style=\"color: #ff00ff; text-decoration-color: #ff00ff\">config.</span>         <span style=\"color: #7f7f7f; text-decoration-color: #7f7f7f\">              </span>\n",
       "</pre>\n"
      ],
      "text/plain": [
       "\u001b[2;36m[07/31/24 15:42:13]\u001b[0m\u001b[2;36m \u001b[0m\u001b[34mINFO    \u001b[0m Hydra initialised at                                                    \u001b]8;id=896387;file:///home/zhang/Projects/3d/ProteinWorkshop/proteinworkshop/utils/notebook.py\u001b\\\u001b[2mnotebook.py\u001b[0m\u001b]8;;\u001b\\\u001b[2m:\u001b[0m\u001b]8;id=880049;file:///home/zhang/Projects/3d/ProteinWorkshop/proteinworkshop/utils/notebook.py#53\u001b\\\u001b[2m53\u001b[0m\u001b]8;;\u001b\\\n",
       "\u001b[2;36m                    \u001b[0m         \u001b[35m/home/zhang/Projects/3d/ProteinWorkshop/proteinworkshop/\u001b[0m\u001b[95mconfig.\u001b[0m         \u001b[2m              \u001b[0m\n"
      ]
     },
     "metadata": {},
     "output_type": "display_data"
    }
   ],
   "source": [
    "# Misc. tools\n",
    "import os\n",
    "\n",
    "# Hydra tools\n",
    "import hydra\n",
    "\n",
    "from hydra.compose import GlobalHydra\n",
    "from hydra.core.hydra_config import HydraConfig\n",
    "\n",
    "from proteinworkshop.constants import HYDRA_CONFIG_PATH\n",
    "from proteinworkshop.utils.notebook import init_hydra_singleton\n",
    "\n",
    "version_base = \"1.2\"  # Note: Need to update whenever Hydra is upgraded\n",
    "init_hydra_singleton(reload=True, version_base=version_base)\n",
    "\n",
    "path = HYDRA_CONFIG_PATH\n",
    "rel_path = os.path.relpath(path, start=\".\")\n",
    "# print(rel_path)\n",
    "GlobalHydra.instance().clear()\n",
    "hydra.initialize(rel_path, version_base=version_base)\n",
    "\n",
    "cfg = hydra.compose(\n",
    "    config_name=\"train\",\n",
    "    overrides=[\n",
    "        \"encoder=schnet\",\n",
    "        \"encoder.hidden_channels=512\", # Number of channels in the hidden layers\n",
    "        \"encoder.out_dim=32\", # Output dimension of the model\n",
    "        \"encoder.num_layers=6\", # Number of filters used in convolutional layers\n",
    "        \"encoder.num_filters=128\", # Number of convolutional layers in the model\n",
    "        \"encoder.num_gaussians=50\", # Number of Gaussian functions used for radial filters\n",
    "        \"encoder.cutoff=10.0\", # Cutoff distance for interactions\n",
    "        \"encoder.max_num_neighbors=32\", # Maximum number of neighboring atoms to consider\n",
    "        \"encoder.readout=add\", # Global pooling method to be used\n",
    "        \"encoder.dipole=False\",\n",
    "        \"encoder.mean=null\",\n",
    "        \"encoder.std=null\",\n",
    "        \"encoder.atomref=null\",\n",
    "        \"encoder.pretraining=False\",\n",
    "\n",
    "        # \"decoder.graph_label.dummy=True\",\n",
    "\n",
    "        \"task=multiclass_graph_classification\",\n",
    "        \"dataset=fold_family\",\n",
    "        \"dataset.datamodule.batch_size=32\",\n",
    "        \"features=ca_bb\", \n",
    "        \"+aux_task=none\",\n",
    "        \n",
    "        \"trainer.max_epochs=150\",\n",
    "        \"optimiser=adam\",\n",
    "        \"optimiser.optimizer.lr=3e-4\",\n",
    "        \"callbacks.early_stopping.patience=10\",\n",
    "        \"test=True\",\n",
    "        \"scheduler=plateau\", # 5 epochs - 0.6 default\n",
    "        # \"+ckpt_path=/home/zhang/Projects/3d/ProteinWorkshop/notebooks/outputs/checkpoints/last.ckpt\", # continue training\n",
    "        ## for test ONLY\n",
    "        # \"task_name=test\",  # here\n",
    "        # \"ckpt_path_test=/home/zhang/Projects/3d/proteinworkshop_checkpoints/outputs_pronet_fold_400epochs/checkpoints/epoch_273.ckpt\", # here\n",
    "        # \"optimizer.weight_decay=0.5\"\n",
    "        \"seed=52\",\n",
    "    ],\n",
    "    return_hydra_config=True,\n",
    ")\n",
    "\n",
    "# Note: Customize as needed e.g., when running a sweep\n",
    "cfg.hydra.job.num = 0\n",
    "cfg.hydra.job.id = 0\n",
    "cfg.hydra.hydra_help.hydra_help = False\n",
    "cfg.hydra.runtime.output_dir = \"outputs\"\n",
    "HydraConfig.instance().set_config(cfg)"
   ]
  },
  {
   "cell_type": "markdown",
   "metadata": {},
   "source": [
    "### 2. Validate the designed training config"
   ]
  },
  {
   "cell_type": "markdown",
   "metadata": {},
   "source": [
    "This is not strictly necessary, but it is a good idea to validate the config before training. This will check that all the arguments you have provided are valid and that the config is complete."
   ]
  },
  {
   "cell_type": "code",
   "execution_count": 4,
   "metadata": {},
   "outputs": [
    {
     "data": {
      "text/html": [
       "<pre style=\"white-space:pre;overflow-x:auto;line-height:normal;font-family:Menlo,'DejaVu Sans Mono',consolas,'Courier New',monospace\"><span style=\"color: #7fbfbf; text-decoration-color: #7fbfbf\">                    </span><span style=\"color: #008000; text-decoration-color: #008000\">DEBUG   </span> CUDA available: <span style=\"color: #00ff00; text-decoration-color: #00ff00; font-style: italic\">True</span>                                                     <a href=\"file:///home/zhang/Projects/3d/ProteinWorkshop/proteinworkshop/configs/config.py\" target=\"_blank\"><span style=\"color: #7f7f7f; text-decoration-color: #7f7f7f\">config.py</span></a><span style=\"color: #7f7f7f; text-decoration-color: #7f7f7f\">:</span><a href=\"file:///home/zhang/Projects/3d/ProteinWorkshop/proteinworkshop/configs/config.py#249\" target=\"_blank\"><span style=\"color: #7f7f7f; text-decoration-color: #7f7f7f\">249</span></a>\n",
       "</pre>\n"
      ],
      "text/plain": [
       "\u001b[2;36m                   \u001b[0m\u001b[2;36m \u001b[0m\u001b[32mDEBUG   \u001b[0m CUDA available: \u001b[3;92mTrue\u001b[0m                                                     \u001b]8;id=773582;file:///home/zhang/Projects/3d/ProteinWorkshop/proteinworkshop/configs/config.py\u001b\\\u001b[2mconfig.py\u001b[0m\u001b]8;;\u001b\\\u001b[2m:\u001b[0m\u001b]8;id=961906;file:///home/zhang/Projects/3d/ProteinWorkshop/proteinworkshop/configs/config.py#249\u001b\\\u001b[2m249\u001b[0m\u001b]8;;\u001b\\\n"
      ]
     },
     "metadata": {},
     "output_type": "display_data"
    },
    {
     "data": {
      "text/html": [
       "<pre style=\"white-space:pre;overflow-x:auto;line-height:normal;font-family:Menlo,'DejaVu Sans Mono',consolas,'Courier New',monospace\"><span style=\"color: #7fbfbf; text-decoration-color: #7fbfbf\">                    </span><span style=\"color: #008000; text-decoration-color: #008000\">DEBUG   </span> Requested GPUs: <span style=\"color: #008080; text-decoration-color: #008080; font-weight: bold\">1</span>.                                                       <a href=\"file:///home/zhang/Projects/3d/ProteinWorkshop/proteinworkshop/configs/config.py\" target=\"_blank\"><span style=\"color: #7f7f7f; text-decoration-color: #7f7f7f\">config.py</span></a><span style=\"color: #7f7f7f; text-decoration-color: #7f7f7f\">:</span><a href=\"file:///home/zhang/Projects/3d/ProteinWorkshop/proteinworkshop/configs/config.py#250\" target=\"_blank\"><span style=\"color: #7f7f7f; text-decoration-color: #7f7f7f\">250</span></a>\n",
       "</pre>\n"
      ],
      "text/plain": [
       "\u001b[2;36m                   \u001b[0m\u001b[2;36m \u001b[0m\u001b[32mDEBUG   \u001b[0m Requested GPUs: \u001b[1;36m1\u001b[0m.                                                       \u001b]8;id=52441;file:///home/zhang/Projects/3d/ProteinWorkshop/proteinworkshop/configs/config.py\u001b\\\u001b[2mconfig.py\u001b[0m\u001b]8;;\u001b\\\u001b[2m:\u001b[0m\u001b]8;id=533850;file:///home/zhang/Projects/3d/ProteinWorkshop/proteinworkshop/configs/config.py#250\u001b\\\u001b[2m250\u001b[0m\u001b]8;;\u001b\\\n"
      ]
     },
     "metadata": {},
     "output_type": "display_data"
    },
    {
     "data": {
      "text/html": [
       "<pre style=\"white-space:pre;overflow-x:auto;line-height:normal;font-family:Menlo,'DejaVu Sans Mono',consolas,'Courier New',monospace\"><span style=\"color: #7fbfbf; text-decoration-color: #7fbfbf\">                    </span><span style=\"color: #008000; text-decoration-color: #008000\">DEBUG   </span> GPU count set to: <span style=\"color: #008080; text-decoration-color: #008080; font-weight: bold\">1</span>                                                      <a href=\"file:///home/zhang/Projects/3d/ProteinWorkshop/proteinworkshop/configs/config.py\" target=\"_blank\"><span style=\"color: #7f7f7f; text-decoration-color: #7f7f7f\">config.py</span></a><span style=\"color: #7f7f7f; text-decoration-color: #7f7f7f\">:</span><a href=\"file:///home/zhang/Projects/3d/ProteinWorkshop/proteinworkshop/configs/config.py#255\" target=\"_blank\"><span style=\"color: #7f7f7f; text-decoration-color: #7f7f7f\">255</span></a>\n",
       "</pre>\n"
      ],
      "text/plain": [
       "\u001b[2;36m                   \u001b[0m\u001b[2;36m \u001b[0m\u001b[32mDEBUG   \u001b[0m GPU count set to: \u001b[1;36m1\u001b[0m                                                      \u001b]8;id=689073;file:///home/zhang/Projects/3d/ProteinWorkshop/proteinworkshop/configs/config.py\u001b\\\u001b[2mconfig.py\u001b[0m\u001b]8;;\u001b\\\u001b[2m:\u001b[0m\u001b]8;id=351071;file:///home/zhang/Projects/3d/ProteinWorkshop/proteinworkshop/configs/config.py#255\u001b\\\u001b[2m255\u001b[0m\u001b]8;;\u001b\\\n"
      ]
     },
     "metadata": {},
     "output_type": "display_data"
    },
    {
     "data": {
      "text/html": [
       "<pre style=\"white-space:pre;overflow-x:auto;line-height:normal;font-family:Menlo,'DejaVu Sans Mono',consolas,'Courier New',monospace\"><span style=\"color: #7fbfbf; text-decoration-color: #7fbfbf\">                    </span><span style=\"color: #800000; text-decoration-color: #800000\">WARNING </span> You are not using early stopping.                                        <a href=\"file:///home/zhang/Projects/3d/ProteinWorkshop/proteinworkshop/configs/config.py\" target=\"_blank\"><span style=\"color: #7f7f7f; text-decoration-color: #7f7f7f\">config.py</span></a><span style=\"color: #7f7f7f; text-decoration-color: #7f7f7f\">:</span><a href=\"file:///home/zhang/Projects/3d/ProteinWorkshop/proteinworkshop/configs/config.py#165\" target=\"_blank\"><span style=\"color: #7f7f7f; text-decoration-color: #7f7f7f\">165</span></a>\n",
       "</pre>\n"
      ],
      "text/plain": [
       "\u001b[2;36m                   \u001b[0m\u001b[2;36m \u001b[0m\u001b[31mWARNING \u001b[0m You are not using early stopping.                                        \u001b]8;id=146337;file:///home/zhang/Projects/3d/ProteinWorkshop/proteinworkshop/configs/config.py\u001b\\\u001b[2mconfig.py\u001b[0m\u001b]8;;\u001b\\\u001b[2m:\u001b[0m\u001b]8;id=309199;file:///home/zhang/Projects/3d/ProteinWorkshop/proteinworkshop/configs/config.py#165\u001b\\\u001b[2m165\u001b[0m\u001b]8;;\u001b\\\n"
      ]
     },
     "metadata": {},
     "output_type": "display_data"
    }
   ],
   "source": [
    "from proteinworkshop.configs import config\n",
    "\n",
    "cfg = config.validate_config(cfg)"
   ]
  },
  {
   "cell_type": "code",
   "execution_count": 5,
   "metadata": {},
   "outputs": [
    {
     "name": "stdout",
     "output_type": "stream",
     "text": [
      "dict_keys(['hydra', 'env', 'dataset', 'features', 'encoder', 'decoder', 'transforms', 'callbacks', 'optimiser', 'scheduler', 'trainer', 'extras', 'metrics', 'task', 'logger', 'hparams', 'name', 'seed', 'num_workers', 'task_name', 'ckpt_path_test', 'test', 'aux_task'])\n",
      "hydra\n",
      "{'run': {'dir': '${env.paths.log_dir}/${task_name}/runs/${now:%Y-%m-%d}_${now:%H-%M-%S}'}, 'sweep': {'dir': '${env.paths.log_dir}/${task_name}/multiruns/${now:%Y-%m-%d}_${now:%H-%M-%S}', 'subdir': '${hydra.job.num}'}, 'launcher': {'_target_': 'hydra._internal.core_plugins.basic_launcher.BasicLauncher'}, 'sweeper': {'_target_': 'hydra._internal.core_plugins.basic_sweeper.BasicSweeper', 'max_batch_size': None, 'params': None}, 'help': {'app_name': '${hydra.job.name}', 'header': '${hydra.help.app_name} is powered by Hydra.\\n', 'footer': 'Powered by Hydra (https://hydra.cc)\\nUse --hydra-help to view Hydra specific help\\n', 'template': '${hydra.help.header}\\n== Configuration groups ==\\nCompose your configuration from those groups (group=option)\\n\\n$APP_CONFIG_GROUPS\\n\\n== Config ==\\nOverride anything in the config (foo.bar=value)\\n\\n$CONFIG\\n\\n${hydra.help.footer}\\n'}, 'hydra_help': {'template': \"Hydra (${hydra.runtime.version})\\nSee https://hydra.cc for more info.\\n\\n== Flags ==\\n$FLAGS_HELP\\n\\n== Configuration groups ==\\nCompose your configuration from those groups (For example, append hydra/job_logging=disabled to command line)\\n\\n$HYDRA_CONFIG_GROUPS\\n\\nUse '--cfg hydra' to Show the Hydra config.\\n\", 'hydra_help': 'False'}, 'hydra_logging': {'version': 1, 'formatters': {'colorlog': {'()': 'colorlog.ColoredFormatter', 'format': '[%(cyan)s%(asctime)s%(reset)s][%(purple)sHYDRA%(reset)s] %(message)s'}}, 'handlers': {'console': {'class': 'logging.StreamHandler', 'formatter': 'colorlog', 'stream': 'ext://sys.stdout'}}, 'root': {'level': 'INFO', 'handlers': ['console']}, 'disable_existing_loggers': False}, 'job_logging': {'version': 1, 'formatters': {'simple': {'format': '[%(asctime)s][%(name)s][%(levelname)s] - %(message)s'}, 'colorlog': {'()': 'colorlog.ColoredFormatter', 'format': '[%(cyan)s%(asctime)s%(reset)s][%(blue)s%(name)s%(reset)s][%(log_color)s%(levelname)s%(reset)s] - %(message)s', 'log_colors': {'DEBUG': 'purple', 'INFO': 'green', 'WARNING': 'yellow', 'ERROR': 'red', 'CRITICAL': 'red'}}}, 'handlers': {'console': {'class': 'logging.StreamHandler', 'formatter': 'colorlog', 'stream': 'ext://sys.stdout'}, 'file': {'class': 'logging.FileHandler', 'formatter': 'simple', 'filename': '${hydra.runtime.output_dir}/${hydra.job.name}.log'}}, 'root': {'level': 'INFO', 'handlers': ['console', 'file']}, 'disable_existing_loggers': False}, 'env': {}, 'mode': None, 'searchpath': [], 'callbacks': {}, 'output_subdir': '.hydra', 'overrides': {'hydra': [], 'task': ['encoder=schnet', 'encoder.hidden_channels=512', 'encoder.out_dim=32', 'encoder.num_layers=6', 'encoder.num_filters=128', 'encoder.num_gaussians=50', 'encoder.cutoff=10.0', 'encoder.max_num_neighbors=32', 'encoder.readout=add', 'encoder.dipole=False', 'encoder.mean=null', 'encoder.std=null', 'encoder.atomref=null', 'encoder.pretraining=False', 'task=multiclass_graph_classification', 'dataset=fold_family', 'dataset.datamodule.batch_size=32', 'features=ca_bb', '+aux_task=none', 'trainer.max_epochs=150', 'optimiser=adam', 'optimiser.optimizer.lr=3e-4', 'callbacks.early_stopping.patience=10', 'test=True', 'scheduler=plateau', 'seed=52']}, 'job': {'name': 'notebook', 'chdir': None, 'override_dirname': '+aux_task=none,callbacks.early_stopping.patience=10,dataset.datamodule.batch_size=32,dataset=fold_family,encoder.atomref=null,encoder.cutoff=10.0,encoder.dipole=False,encoder.hidden_channels=512,encoder.max_num_neighbors=32,encoder.mean=null,encoder.num_filters=128,encoder.num_gaussians=50,encoder.num_layers=6,encoder.out_dim=32,encoder.pretraining=False,encoder.readout=add,encoder.std=null,encoder=schnet,features=ca_bb,optimiser.optimizer.lr=3e-4,optimiser=adam,scheduler=plateau,seed=52,task=multiclass_graph_classification,test=True,trainer.max_epochs=150', 'id': '0', 'num': 0, 'config_name': 'train', 'env_set': {}, 'env_copy': [], 'config': {'override_dirname': {'kv_sep': '=', 'item_sep': ',', 'exclude_keys': []}}}, 'runtime': {'version': '1.3.2', 'version_base': '1.2', 'cwd': '/home/zhang/Projects/3d/ProteinWorkshop/notebooks', 'config_sources': [{'path': 'hydra.conf', 'schema': 'pkg', 'provider': 'hydra'}, {'path': '/home/zhang/Projects/3d/ProteinWorkshop/proteinworkshop/config', 'schema': 'file', 'provider': 'main'}, {'path': 'hydra_plugins.hydra_colorlog.conf', 'schema': 'pkg', 'provider': 'hydra-colorlog'}, {'path': '', 'schema': 'structured', 'provider': 'schema'}], 'output_dir': 'outputs', 'choices': {'aux_task': 'none', 'debug': None, 'logger': 'csv', 'task': 'multiclass_graph_classification', 'hydra': 'default', 'extras': 'default', 'trainer': 'gpu', 'scheduler': 'plateau', 'optimiser': 'adam', 'callbacks': 'default', 'transforms': 'default', 'encoder': 'schnet', 'features': 'ca_bb', 'dataset': 'fold_family', 'env': 'default', 'hparams': 'schnet_ca_bb', 'hydra/env': 'default', 'hydra/callbacks': None, 'hydra/job_logging': 'colorlog', 'hydra/hydra_logging': 'colorlog', 'hydra/hydra_help': 'default', 'hydra/help': 'default', 'hydra/sweeper': 'basic', 'hydra/launcher': 'basic', 'hydra/output': 'default'}}, 'verbose': False}\n",
      "env\n",
      "{'paths': {'root_dir': '${oc.env:ROOT_DIR}', 'data': '${oc.env:DATA_PATH}', 'output_dir': '${hydra:runtime.output_dir}', 'work_dir': '${hydra:runtime.cwd}', 'log_dir': '${oc.env:RUNS_PATH}', 'runs': '${oc.env:RUNS_PATH}', 'run_dir': '${env.paths.runs}/${name}/${env.init_time}'}, 'python': {'version': '${python_version:micro}'}, 'init_time': '${now:%y-%m-%d_%H:%M:%S}'}\n",
      "dataset\n",
      "{'datamodule': {'_target_': 'proteinworkshop.datasets.fold_classification.FoldClassificationDataModule', 'path': '${env.paths.data}/FoldClassification/', 'split': 'family', 'batch_size': 32, 'pin_memory': True, 'num_workers': 4, 'dataset_fraction': 1.0, 'shuffle_labels': False, 'transforms': '${transforms}', 'overwrite': False, 'in_memory': True}, 'num_classes': 1195}\n",
      "features\n",
      "{'_target_': 'proteinworkshop.features.factory.ProteinFeaturiser', 'representation': 'CA', 'scalar_node_features': ['amino_acid_one_hot', 'sequence_positional_encoding', 'alpha', 'kappa', 'dihedrals'], 'vector_node_features': [], 'edge_types': ['knn_16'], 'scalar_edge_features': ['edge_distance'], 'vector_edge_features': []}\n",
      "encoder\n",
      "{'_target_': 'proteinworkshop.models.graph_encoders.schnet.SchNetModel', 'hidden_channels': 512, 'out_dim': 32, 'num_layers': 6, 'num_filters': 128, 'num_gaussians': 50, 'cutoff': 10.0, 'max_num_neighbors': 32, 'readout': 'add', 'dipole': False, 'mean': None, 'std': None, 'atomref': None, 'pretraining': False}\n",
      "decoder\n",
      "{'graph_label': {'_target_': 'proteinworkshop.models.decoders.mlp_decoder.MLPDecoder', 'hidden_dim': [512, 512, 512], 'dropout': 0.0, 'activations': ['relu', 'relu', 'relu', 'none'], 'skip': 'concat', 'out_dim': '${dataset.num_classes}', 'input': 'graph_embedding', 'dummy': False}}\n",
      "transforms\n",
      "{'remove_missing_ca': {'_target_': 'proteinworkshop.tasks.remove_missing_ca.RemoveMissingCa', 'fill_value': 1e-05, 'ca_idx': 1}}\n",
      "callbacks\n",
      "{'model_checkpoint': {'_target_': 'lightning.pytorch.callbacks.ModelCheckpoint', 'dirpath': '${env.paths.output_dir}/checkpoints', 'filename': 'epoch_{epoch:03d}', 'monitor': 'val/graph_label/accuracy', 'verbose': True, 'save_last': True, 'save_top_k': 1, 'mode': 'max', 'auto_insert_metric_name': False, 'save_weights_only': False, 'every_n_train_steps': None, 'train_time_interval': None, 'every_n_epochs': None, 'save_on_train_epoch_end': None}, 'early_stopping': {'_target_': 'lightning.pytorch.callbacks.EarlyStopping', 'monitor': 'val/graph_label/accuracy', 'min_delta': 0.0, 'patience': 10, 'verbose': True, 'mode': 'max', 'strict': True, 'check_finite': True, 'stopping_threshold': None, 'divergence_threshold': None, 'check_on_train_epoch_end': False}, 'model_summary': {'_target_': 'lightning.pytorch.callbacks.RichModelSummary', 'max_depth': -1}, 'rich_progress_bar': {'_target_': 'lightning.pytorch.callbacks.RichProgressBar'}, 'learning_rate_monitor': {'_target_': 'lightning.pytorch.callbacks.LearningRateMonitor'}, 'stop_on_nan': {'_target_': 'lightning.pytorch.callbacks.EarlyStopping', 'monitor': 'train/loss/total', 'min_delta': 0.0, 'patience': 10000000, 'verbose': True, 'mode': 'min', 'strict': True, 'check_finite': True, 'stopping_threshold': None, 'divergence_threshold': None, 'check_on_train_epoch_end': None}}\n",
      "optimiser\n",
      "{'optimizer': {'_target_': 'torch.optim.Adam', '_partial_': True, 'lr': 0.0003, 'weight_decay': 0.0}}\n",
      "scheduler\n",
      "{'scheduler': {'_target_': 'torch.optim.lr_scheduler.ReduceLROnPlateau', '_partial_': True, 'mode': 'min', 'factor': 0.6, 'patience': 5, 'verbose': True}, 'interval': 'epoch', 'frequency': 1, 'monitor': 'val/loss/total', 'strict': True, 'name': 'learning_rate'}\n",
      "trainer\n",
      "{'_target_': 'lightning.pytorch.trainer.Trainer', 'default_root_dir': '${env.paths.output_dir}', 'min_epochs': 1, 'max_epochs': 150, 'accelerator': 'gpu', 'check_val_every_n_epoch': 1, 'deterministic': False, 'num_sanity_val_steps': 2, 'devices': 1}\n",
      "extras\n",
      "{'ignore_warnings': True, 'enforce_tags': False, 'print_config': True}\n",
      "metrics\n",
      "{'accuracy': {'_target_': 'torchmetrics.Accuracy', 'task': '${task.classification_type}', 'average': '${task.metric_average}', 'num_classes': '${dataset.num_classes}', 'top_k': 1}, 'f1_score': {'_target_': 'torchmetrics.F1Score', 'average': 'macro', 'num_classes': '${dataset.num_classes}', 'task': '${task.classification_type}'}, 'f1_max': {'_target_': 'proteinworkshop.metrics.f1_max.F1Max', 'num_classes': '${dataset.num_classes}'}}\n",
      "task\n",
      "{'task': 'classification', 'classification_type': 'multiclass', 'metric_average': 'micro', 'losses': {'graph_label': 'cross_entropy'}, 'label_smoothing': 0.0, 'output': ['graph_label'], 'supervise_on': ['graph_label']}\n",
      "logger\n",
      "{'csv': {'_target_': 'lightning.pytorch.loggers.csv_logs.CSVLogger', 'save_dir': '${env.paths.output_dir}', 'name': 'csv/', 'prefix': ''}}\n",
      "hparams\n",
      "{'hparams': {'lr': 0.0003, 'decoder_dropout': 0.3}}\n",
      "name\n",
      "\n",
      "seed\n",
      "52\n",
      "num_workers\n",
      "16\n",
      "task_name\n",
      "train\n",
      "ckpt_path_test\n",
      "\n",
      "test\n",
      "True\n",
      "aux_task\n",
      "{}\n"
     ]
    }
   ],
   "source": [
    "print(cfg.keys())\n",
    "for key in cfg.keys():\n",
    "    print(key)\n",
    "    print(cfg[key])"
   ]
  },
  {
   "cell_type": "markdown",
   "metadata": {},
   "source": [
    "### 3. Use the designed config to train a new model"
   ]
  },
  {
   "cell_type": "markdown",
   "metadata": {},
   "source": [
    "Now with the config you have designed, you can train a new model. You can also use the `ProteinWorkshop` to evaluate the model on a downstream task."
   ]
  },
  {
   "cell_type": "code",
   "execution_count": 6,
   "metadata": {},
   "outputs": [],
   "source": [
    "# import torch\n",
    "# import torch.nn as nn\n",
    "# ckpt_path = '/home/zhang/Projects/3d/proteinworkshop_checkpoints/outputs_pronet_pretraining_best@2/checkpoints/epoch_002.ckpt'\n",
    "# # Assuming `model` is your model and `encoder_weights` is the state_dict of pretrained weights\n",
    "# print(torch.load(ckpt_path).keys())\n",
    "# # Load the pretrained state_dict\n",
    "# checkpoint = torch.load(ckpt_path)\n",
    "# pretrained_dict = torch.load(ckpt_path)[\"state_dict\"]\n",
    "\n",
    "# # Create a new state_dict that excludes the final layer parameters\n",
    "# filtered_dict = {k: v for k, v in pretrained_dict.items() if not k.startswith('encoder.lin_out.')}\n",
    "# filtered_dict = {k: v for k, v in filtered_dict.items() if not k.startswith('encoder.lins_out.')}\n",
    "# print(filtered_dict.keys())\n",
    "# new_checkpoint = {\n",
    "#     \"epoch\": checkpoint[\"epoch\"],\n",
    "#     \"global_step\": checkpoint[\"global_step\"],\n",
    "#     \"pytorch-lightning_version\": checkpoint[\"pytorch-lightning_version\"],\n",
    "#     \"state_dict\": filtered_dict,\n",
    "#     \"loops\": checkpoint[\"loops\"],\n",
    "#     \"callbacks\": checkpoint[\"callbacks\"],\n",
    "#     \"optimizer_states\": checkpoint[\"optimizer_states\"],\n",
    "#     \"lr_schedulers\": checkpoint[\"lr_schedulers\"],\n",
    "#     \"hparams_name\": checkpoint[\"hparams_name\"],\n",
    "#     \"hyper_parameters\": checkpoint[\"hyper_parameters\"]\n",
    "# }\n",
    "\n",
    "# torch.save(new_checkpoint, '/home/zhang/Projects/3d/proteinworkshop_checkpoints/outputs_pronet_pretraining_best@2/checkpoints/epoch_002_filtered.ckpt')"
   ]
  },
  {
   "cell_type": "code",
   "execution_count": 7,
   "metadata": {},
   "outputs": [],
   "source": [
    "cfg.get(\"ckpt_path\")"
   ]
  },
  {
   "cell_type": "code",
   "execution_count": 8,
   "metadata": {},
   "outputs": [
    {
     "name": "stderr",
     "output_type": "stream",
     "text": [
      "Seed set to 52\n"
     ]
    },
    {
     "data": {
      "text/html": [
       "<pre style=\"white-space:pre;overflow-x:auto;line-height:normal;font-family:Menlo,'DejaVu Sans Mono',consolas,'Courier New',monospace\"><span style=\"color: #7fbfbf; text-decoration-color: #7fbfbf\">[07/31/24 15:42:14] </span><span style=\"color: #000080; text-decoration-color: #000080\">INFO    </span> Instantiating datamodule:                                              <a href=\"file:///home/zhang/Projects/3d/ProteinWorkshop/proteinworkshop/finetune.py\" target=\"_blank\"><span style=\"color: #7f7f7f; text-decoration-color: #7f7f7f\">finetune.py</span></a><span style=\"color: #7f7f7f; text-decoration-color: #7f7f7f\">:</span><a href=\"file:///home/zhang/Projects/3d/ProteinWorkshop/proteinworkshop/finetune.py#100\" target=\"_blank\"><span style=\"color: #7f7f7f; text-decoration-color: #7f7f7f\">100</span></a>\n",
       "<span style=\"color: #7fbfbf; text-decoration-color: #7fbfbf\">                    </span>         &lt;proteinworkshop.datasets.fold_classification.FoldClassificationDataMo <span style=\"color: #7f7f7f; text-decoration-color: #7f7f7f\">               </span>\n",
       "<span style=\"color: #7fbfbf; text-decoration-color: #7fbfbf\">                    </span>         dule<span style=\"color: #808000; text-decoration-color: #808000\">...</span>                                                                <span style=\"color: #7f7f7f; text-decoration-color: #7f7f7f\">               </span>\n",
       "</pre>\n"
      ],
      "text/plain": [
       "\u001b[2;36m[07/31/24 15:42:14]\u001b[0m\u001b[2;36m \u001b[0m\u001b[34mINFO    \u001b[0m Instantiating datamodule:                                              \u001b]8;id=896664;file:///home/zhang/Projects/3d/ProteinWorkshop/proteinworkshop/finetune.py\u001b\\\u001b[2mfinetune.py\u001b[0m\u001b]8;;\u001b\\\u001b[2m:\u001b[0m\u001b]8;id=987468;file:///home/zhang/Projects/3d/ProteinWorkshop/proteinworkshop/finetune.py#100\u001b\\\u001b[2m100\u001b[0m\u001b]8;;\u001b\\\n",
       "\u001b[2;36m                    \u001b[0m         <proteinworkshop.datasets.fold_classification.FoldClassificationDataMo \u001b[2m               \u001b[0m\n",
       "\u001b[2;36m                    \u001b[0m         dule\u001b[33m...\u001b[0m                                                                \u001b[2m               \u001b[0m\n"
      ]
     },
     "metadata": {},
     "output_type": "display_data"
    },
    {
     "data": {
      "text/html": [
       "<pre style=\"white-space:pre;overflow-x:auto;line-height:normal;font-family:Menlo,'DejaVu Sans Mono',consolas,'Courier New',monospace\"><span style=\"color: #7fbfbf; text-decoration-color: #7fbfbf\">                    </span><span style=\"color: #000080; text-decoration-color: #000080\">INFO    </span> Instantiating callbacks<span style=\"color: #808000; text-decoration-color: #808000\">...</span>                                             <a href=\"file:///home/zhang/Projects/3d/ProteinWorkshop/proteinworkshop/finetune.py\" target=\"_blank\"><span style=\"color: #7f7f7f; text-decoration-color: #7f7f7f\">finetune.py</span></a><span style=\"color: #7f7f7f; text-decoration-color: #7f7f7f\">:</span><a href=\"file:///home/zhang/Projects/3d/ProteinWorkshop/proteinworkshop/finetune.py#107\" target=\"_blank\"><span style=\"color: #7f7f7f; text-decoration-color: #7f7f7f\">107</span></a>\n",
       "</pre>\n"
      ],
      "text/plain": [
       "\u001b[2;36m                   \u001b[0m\u001b[2;36m \u001b[0m\u001b[34mINFO    \u001b[0m Instantiating callbacks\u001b[33m...\u001b[0m                                             \u001b]8;id=166878;file:///home/zhang/Projects/3d/ProteinWorkshop/proteinworkshop/finetune.py\u001b\\\u001b[2mfinetune.py\u001b[0m\u001b]8;;\u001b\\\u001b[2m:\u001b[0m\u001b]8;id=837528;file:///home/zhang/Projects/3d/ProteinWorkshop/proteinworkshop/finetune.py#107\u001b\\\u001b[2m107\u001b[0m\u001b]8;;\u001b\\\n"
      ]
     },
     "metadata": {},
     "output_type": "display_data"
    },
    {
     "data": {
      "text/html": [
       "<pre style=\"white-space:pre;overflow-x:auto;line-height:normal;font-family:Menlo,'DejaVu Sans Mono',consolas,'Courier New',monospace\"><span style=\"color: #7fbfbf; text-decoration-color: #7fbfbf\">                    </span><span style=\"color: #000080; text-decoration-color: #000080\">INFO    </span> Instantiating callback <span style=\"font-weight: bold\">&lt;</span><span style=\"color: #ff00ff; text-decoration-color: #ff00ff; font-weight: bold\">lightning.pytorch.callbacks.ModelCheckpoint</span><span style=\"font-weight: bold\">&gt;</span>   <a href=\"file:///home/zhang/Projects/3d/ProteinWorkshop/proteinworkshop/utils/callbacks.py\" target=\"_blank\"><span style=\"color: #7f7f7f; text-decoration-color: #7f7f7f\">callbacks.py</span></a><span style=\"color: #7f7f7f; text-decoration-color: #7f7f7f\">:</span><a href=\"file:///home/zhang/Projects/3d/ProteinWorkshop/proteinworkshop/utils/callbacks.py#31\" target=\"_blank\"><span style=\"color: #7f7f7f; text-decoration-color: #7f7f7f\">31</span></a>\n",
       "</pre>\n"
      ],
      "text/plain": [
       "\u001b[2;36m                   \u001b[0m\u001b[2;36m \u001b[0m\u001b[34mINFO    \u001b[0m Instantiating callback \u001b[1m<\u001b[0m\u001b[1;95mlightning.pytorch.callbacks.ModelCheckpoint\u001b[0m\u001b[1m>\u001b[0m   \u001b]8;id=1185;file:///home/zhang/Projects/3d/ProteinWorkshop/proteinworkshop/utils/callbacks.py\u001b\\\u001b[2mcallbacks.py\u001b[0m\u001b]8;;\u001b\\\u001b[2m:\u001b[0m\u001b]8;id=35855;file:///home/zhang/Projects/3d/ProteinWorkshop/proteinworkshop/utils/callbacks.py#31\u001b\\\u001b[2m31\u001b[0m\u001b]8;;\u001b\\\n"
      ]
     },
     "metadata": {},
     "output_type": "display_data"
    },
    {
     "data": {
      "text/html": [
       "<pre style=\"white-space:pre;overflow-x:auto;line-height:normal;font-family:Menlo,'DejaVu Sans Mono',consolas,'Courier New',monospace\"><span style=\"color: #7fbfbf; text-decoration-color: #7fbfbf\">[07/31/24 15:42:15] </span><span style=\"color: #000080; text-decoration-color: #000080\">INFO    </span> Instantiating callback <span style=\"font-weight: bold\">&lt;</span><span style=\"color: #ff00ff; text-decoration-color: #ff00ff; font-weight: bold\">lightning.pytorch.callbacks.EarlyStopping</span><span style=\"font-weight: bold\">&gt;</span>     <a href=\"file:///home/zhang/Projects/3d/ProteinWorkshop/proteinworkshop/utils/callbacks.py\" target=\"_blank\"><span style=\"color: #7f7f7f; text-decoration-color: #7f7f7f\">callbacks.py</span></a><span style=\"color: #7f7f7f; text-decoration-color: #7f7f7f\">:</span><a href=\"file:///home/zhang/Projects/3d/ProteinWorkshop/proteinworkshop/utils/callbacks.py#31\" target=\"_blank\"><span style=\"color: #7f7f7f; text-decoration-color: #7f7f7f\">31</span></a>\n",
       "</pre>\n"
      ],
      "text/plain": [
       "\u001b[2;36m[07/31/24 15:42:15]\u001b[0m\u001b[2;36m \u001b[0m\u001b[34mINFO    \u001b[0m Instantiating callback \u001b[1m<\u001b[0m\u001b[1;95mlightning.pytorch.callbacks.EarlyStopping\u001b[0m\u001b[1m>\u001b[0m     \u001b]8;id=248769;file:///home/zhang/Projects/3d/ProteinWorkshop/proteinworkshop/utils/callbacks.py\u001b\\\u001b[2mcallbacks.py\u001b[0m\u001b]8;;\u001b\\\u001b[2m:\u001b[0m\u001b]8;id=72738;file:///home/zhang/Projects/3d/ProteinWorkshop/proteinworkshop/utils/callbacks.py#31\u001b\\\u001b[2m31\u001b[0m\u001b]8;;\u001b\\\n"
      ]
     },
     "metadata": {},
     "output_type": "display_data"
    },
    {
     "data": {
      "text/html": [
       "<pre style=\"white-space:pre;overflow-x:auto;line-height:normal;font-family:Menlo,'DejaVu Sans Mono',consolas,'Courier New',monospace\"><span style=\"color: #7fbfbf; text-decoration-color: #7fbfbf\">                    </span><span style=\"color: #000080; text-decoration-color: #000080\">INFO    </span> Instantiating callback <span style=\"font-weight: bold\">&lt;</span><span style=\"color: #ff00ff; text-decoration-color: #ff00ff; font-weight: bold\">lightning.pytorch.callbacks.RichModelSummary</span><span style=\"font-weight: bold\">&gt;</span>  <a href=\"file:///home/zhang/Projects/3d/ProteinWorkshop/proteinworkshop/utils/callbacks.py\" target=\"_blank\"><span style=\"color: #7f7f7f; text-decoration-color: #7f7f7f\">callbacks.py</span></a><span style=\"color: #7f7f7f; text-decoration-color: #7f7f7f\">:</span><a href=\"file:///home/zhang/Projects/3d/ProteinWorkshop/proteinworkshop/utils/callbacks.py#31\" target=\"_blank\"><span style=\"color: #7f7f7f; text-decoration-color: #7f7f7f\">31</span></a>\n",
       "</pre>\n"
      ],
      "text/plain": [
       "\u001b[2;36m                   \u001b[0m\u001b[2;36m \u001b[0m\u001b[34mINFO    \u001b[0m Instantiating callback \u001b[1m<\u001b[0m\u001b[1;95mlightning.pytorch.callbacks.RichModelSummary\u001b[0m\u001b[1m>\u001b[0m  \u001b]8;id=655443;file:///home/zhang/Projects/3d/ProteinWorkshop/proteinworkshop/utils/callbacks.py\u001b\\\u001b[2mcallbacks.py\u001b[0m\u001b]8;;\u001b\\\u001b[2m:\u001b[0m\u001b]8;id=287690;file:///home/zhang/Projects/3d/ProteinWorkshop/proteinworkshop/utils/callbacks.py#31\u001b\\\u001b[2m31\u001b[0m\u001b]8;;\u001b\\\n"
      ]
     },
     "metadata": {},
     "output_type": "display_data"
    },
    {
     "data": {
      "text/html": [
       "<pre style=\"white-space:pre;overflow-x:auto;line-height:normal;font-family:Menlo,'DejaVu Sans Mono',consolas,'Courier New',monospace\"><span style=\"color: #7fbfbf; text-decoration-color: #7fbfbf\">                    </span><span style=\"color: #000080; text-decoration-color: #000080\">INFO    </span> Instantiating callback <span style=\"font-weight: bold\">&lt;</span><span style=\"color: #ff00ff; text-decoration-color: #ff00ff; font-weight: bold\">lightning.pytorch.callbacks.RichProgressBar</span><span style=\"font-weight: bold\">&gt;</span>   <a href=\"file:///home/zhang/Projects/3d/ProteinWorkshop/proteinworkshop/utils/callbacks.py\" target=\"_blank\"><span style=\"color: #7f7f7f; text-decoration-color: #7f7f7f\">callbacks.py</span></a><span style=\"color: #7f7f7f; text-decoration-color: #7f7f7f\">:</span><a href=\"file:///home/zhang/Projects/3d/ProteinWorkshop/proteinworkshop/utils/callbacks.py#31\" target=\"_blank\"><span style=\"color: #7f7f7f; text-decoration-color: #7f7f7f\">31</span></a>\n",
       "</pre>\n"
      ],
      "text/plain": [
       "\u001b[2;36m                   \u001b[0m\u001b[2;36m \u001b[0m\u001b[34mINFO    \u001b[0m Instantiating callback \u001b[1m<\u001b[0m\u001b[1;95mlightning.pytorch.callbacks.RichProgressBar\u001b[0m\u001b[1m>\u001b[0m   \u001b]8;id=128786;file:///home/zhang/Projects/3d/ProteinWorkshop/proteinworkshop/utils/callbacks.py\u001b\\\u001b[2mcallbacks.py\u001b[0m\u001b]8;;\u001b\\\u001b[2m:\u001b[0m\u001b]8;id=899088;file:///home/zhang/Projects/3d/ProteinWorkshop/proteinworkshop/utils/callbacks.py#31\u001b\\\u001b[2m31\u001b[0m\u001b]8;;\u001b\\\n"
      ]
     },
     "metadata": {},
     "output_type": "display_data"
    },
    {
     "data": {
      "text/html": [
       "<pre style=\"white-space:pre;overflow-x:auto;line-height:normal;font-family:Menlo,'DejaVu Sans Mono',consolas,'Courier New',monospace\"><span style=\"color: #7fbfbf; text-decoration-color: #7fbfbf\">                    </span><span style=\"color: #000080; text-decoration-color: #000080\">INFO    </span> Instantiating callback                                                 <a href=\"file:///home/zhang/Projects/3d/ProteinWorkshop/proteinworkshop/utils/callbacks.py\" target=\"_blank\"><span style=\"color: #7f7f7f; text-decoration-color: #7f7f7f\">callbacks.py</span></a><span style=\"color: #7f7f7f; text-decoration-color: #7f7f7f\">:</span><a href=\"file:///home/zhang/Projects/3d/ProteinWorkshop/proteinworkshop/utils/callbacks.py#31\" target=\"_blank\"><span style=\"color: #7f7f7f; text-decoration-color: #7f7f7f\">31</span></a>\n",
       "<span style=\"color: #7fbfbf; text-decoration-color: #7fbfbf\">                    </span>         <span style=\"font-weight: bold\">&lt;</span><span style=\"color: #ff00ff; text-decoration-color: #ff00ff; font-weight: bold\">lightning.pytorch.callbacks.LearningRateMonitor</span><span style=\"font-weight: bold\">&gt;</span>                      <span style=\"color: #7f7f7f; text-decoration-color: #7f7f7f\">               </span>\n",
       "</pre>\n"
      ],
      "text/plain": [
       "\u001b[2;36m                   \u001b[0m\u001b[2;36m \u001b[0m\u001b[34mINFO    \u001b[0m Instantiating callback                                                 \u001b]8;id=396582;file:///home/zhang/Projects/3d/ProteinWorkshop/proteinworkshop/utils/callbacks.py\u001b\\\u001b[2mcallbacks.py\u001b[0m\u001b]8;;\u001b\\\u001b[2m:\u001b[0m\u001b]8;id=993710;file:///home/zhang/Projects/3d/ProteinWorkshop/proteinworkshop/utils/callbacks.py#31\u001b\\\u001b[2m31\u001b[0m\u001b]8;;\u001b\\\n",
       "\u001b[2;36m                    \u001b[0m         \u001b[1m<\u001b[0m\u001b[1;95mlightning.pytorch.callbacks.LearningRateMonitor\u001b[0m\u001b[1m>\u001b[0m                      \u001b[2m               \u001b[0m\n"
      ]
     },
     "metadata": {},
     "output_type": "display_data"
    },
    {
     "data": {
      "text/html": [
       "<pre style=\"white-space:pre;overflow-x:auto;line-height:normal;font-family:Menlo,'DejaVu Sans Mono',consolas,'Courier New',monospace\"><span style=\"color: #7fbfbf; text-decoration-color: #7fbfbf\">                    </span><span style=\"color: #000080; text-decoration-color: #000080\">INFO    </span> Instantiating callback <span style=\"font-weight: bold\">&lt;</span><span style=\"color: #ff00ff; text-decoration-color: #ff00ff; font-weight: bold\">lightning.pytorch.callbacks.EarlyStopping</span><span style=\"font-weight: bold\">&gt;</span>     <a href=\"file:///home/zhang/Projects/3d/ProteinWorkshop/proteinworkshop/utils/callbacks.py\" target=\"_blank\"><span style=\"color: #7f7f7f; text-decoration-color: #7f7f7f\">callbacks.py</span></a><span style=\"color: #7f7f7f; text-decoration-color: #7f7f7f\">:</span><a href=\"file:///home/zhang/Projects/3d/ProteinWorkshop/proteinworkshop/utils/callbacks.py#31\" target=\"_blank\"><span style=\"color: #7f7f7f; text-decoration-color: #7f7f7f\">31</span></a>\n",
       "</pre>\n"
      ],
      "text/plain": [
       "\u001b[2;36m                   \u001b[0m\u001b[2;36m \u001b[0m\u001b[34mINFO    \u001b[0m Instantiating callback \u001b[1m<\u001b[0m\u001b[1;95mlightning.pytorch.callbacks.EarlyStopping\u001b[0m\u001b[1m>\u001b[0m     \u001b]8;id=935800;file:///home/zhang/Projects/3d/ProteinWorkshop/proteinworkshop/utils/callbacks.py\u001b\\\u001b[2mcallbacks.py\u001b[0m\u001b]8;;\u001b\\\u001b[2m:\u001b[0m\u001b]8;id=924324;file:///home/zhang/Projects/3d/ProteinWorkshop/proteinworkshop/utils/callbacks.py#31\u001b\\\u001b[2m31\u001b[0m\u001b]8;;\u001b\\\n"
      ]
     },
     "metadata": {},
     "output_type": "display_data"
    },
    {
     "data": {
      "text/html": [
       "<pre style=\"white-space:pre;overflow-x:auto;line-height:normal;font-family:Menlo,'DejaVu Sans Mono',consolas,'Courier New',monospace\"><span style=\"color: #7fbfbf; text-decoration-color: #7fbfbf\">                    </span><span style=\"color: #000080; text-decoration-color: #000080\">INFO    </span> Instantiating loggers<span style=\"color: #808000; text-decoration-color: #808000\">...</span>                                               <a href=\"file:///home/zhang/Projects/3d/ProteinWorkshop/proteinworkshop/finetune.py\" target=\"_blank\"><span style=\"color: #7f7f7f; text-decoration-color: #7f7f7f\">finetune.py</span></a><span style=\"color: #7f7f7f; text-decoration-color: #7f7f7f\">:</span><a href=\"file:///home/zhang/Projects/3d/ProteinWorkshop/proteinworkshop/finetune.py#112\" target=\"_blank\"><span style=\"color: #7f7f7f; text-decoration-color: #7f7f7f\">112</span></a>\n",
       "</pre>\n"
      ],
      "text/plain": [
       "\u001b[2;36m                   \u001b[0m\u001b[2;36m \u001b[0m\u001b[34mINFO    \u001b[0m Instantiating loggers\u001b[33m...\u001b[0m                                               \u001b]8;id=545720;file:///home/zhang/Projects/3d/ProteinWorkshop/proteinworkshop/finetune.py\u001b\\\u001b[2mfinetune.py\u001b[0m\u001b]8;;\u001b\\\u001b[2m:\u001b[0m\u001b]8;id=702368;file:///home/zhang/Projects/3d/ProteinWorkshop/proteinworkshop/finetune.py#112\u001b\\\u001b[2m112\u001b[0m\u001b]8;;\u001b\\\n"
      ]
     },
     "metadata": {},
     "output_type": "display_data"
    },
    {
     "data": {
      "text/html": [
       "<pre style=\"white-space:pre;overflow-x:auto;line-height:normal;font-family:Menlo,'DejaVu Sans Mono',consolas,'Courier New',monospace\"><span style=\"color: #7fbfbf; text-decoration-color: #7fbfbf\">                    </span><span style=\"color: #000080; text-decoration-color: #000080\">INFO    </span> Instantiating logger <span style=\"font-weight: bold\">&lt;</span><span style=\"color: #ff00ff; text-decoration-color: #ff00ff; font-weight: bold\">lightning.pytorch.loggers.csv_logs.CSVLogger</span><span style=\"font-weight: bold\">&gt;</span>      <a href=\"file:///home/zhang/Projects/3d/ProteinWorkshop/proteinworkshop/utils/loggers.py\" target=\"_blank\"><span style=\"color: #7f7f7f; text-decoration-color: #7f7f7f\">loggers.py</span></a><span style=\"color: #7f7f7f; text-decoration-color: #7f7f7f\">:</span><a href=\"file:///home/zhang/Projects/3d/ProteinWorkshop/proteinworkshop/utils/loggers.py#31\" target=\"_blank\"><span style=\"color: #7f7f7f; text-decoration-color: #7f7f7f\">31</span></a>\n",
       "</pre>\n"
      ],
      "text/plain": [
       "\u001b[2;36m                   \u001b[0m\u001b[2;36m \u001b[0m\u001b[34mINFO    \u001b[0m Instantiating logger \u001b[1m<\u001b[0m\u001b[1;95mlightning.pytorch.loggers.csv_logs.CSVLogger\u001b[0m\u001b[1m>\u001b[0m      \u001b]8;id=193480;file:///home/zhang/Projects/3d/ProteinWorkshop/proteinworkshop/utils/loggers.py\u001b\\\u001b[2mloggers.py\u001b[0m\u001b]8;;\u001b\\\u001b[2m:\u001b[0m\u001b]8;id=825667;file:///home/zhang/Projects/3d/ProteinWorkshop/proteinworkshop/utils/loggers.py#31\u001b\\\u001b[2m31\u001b[0m\u001b]8;;\u001b\\\n"
      ]
     },
     "metadata": {},
     "output_type": "display_data"
    },
    {
     "data": {
      "text/html": [
       "<pre style=\"white-space:pre;overflow-x:auto;line-height:normal;font-family:Menlo,'DejaVu Sans Mono',consolas,'Courier New',monospace\"><span style=\"color: #7fbfbf; text-decoration-color: #7fbfbf\">                    </span><span style=\"color: #000080; text-decoration-color: #000080\">INFO    </span> Instantiating trainer<span style=\"color: #808000; text-decoration-color: #808000\">...</span>                                               <a href=\"file:///home/zhang/Projects/3d/ProteinWorkshop/proteinworkshop/finetune.py\" target=\"_blank\"><span style=\"color: #7f7f7f; text-decoration-color: #7f7f7f\">finetune.py</span></a><span style=\"color: #7f7f7f; text-decoration-color: #7f7f7f\">:</span><a href=\"file:///home/zhang/Projects/3d/ProteinWorkshop/proteinworkshop/finetune.py#115\" target=\"_blank\"><span style=\"color: #7f7f7f; text-decoration-color: #7f7f7f\">115</span></a>\n",
       "</pre>\n"
      ],
      "text/plain": [
       "\u001b[2;36m                   \u001b[0m\u001b[2;36m \u001b[0m\u001b[34mINFO    \u001b[0m Instantiating trainer\u001b[33m...\u001b[0m                                               \u001b]8;id=750405;file:///home/zhang/Projects/3d/ProteinWorkshop/proteinworkshop/finetune.py\u001b\\\u001b[2mfinetune.py\u001b[0m\u001b]8;;\u001b\\\u001b[2m:\u001b[0m\u001b]8;id=447387;file:///home/zhang/Projects/3d/ProteinWorkshop/proteinworkshop/finetune.py#115\u001b\\\u001b[2m115\u001b[0m\u001b]8;;\u001b\\\n"
      ]
     },
     "metadata": {},
     "output_type": "display_data"
    },
    {
     "name": "stderr",
     "output_type": "stream",
     "text": [
      "Trainer already configured with model summary callbacks: [<class 'lightning.pytorch.callbacks.rich_model_summary.RichModelSummary'>]. Skipping setting a default `ModelSummary` callback.\n",
      "GPU available: True (cuda), used: True\n",
      "TPU available: False, using: 0 TPU cores\n",
      "HPU available: False, using: 0 HPUs\n"
     ]
    },
    {
     "data": {
      "text/html": [
       "<pre style=\"white-space:pre;overflow-x:auto;line-height:normal;font-family:Menlo,'DejaVu Sans Mono',consolas,'Courier New',monospace\"><span style=\"color: #7fbfbf; text-decoration-color: #7fbfbf\">                    </span><span style=\"color: #000080; text-decoration-color: #000080\">INFO    </span> Instantiating model<span style=\"color: #808000; text-decoration-color: #808000\">...</span>                                                 <a href=\"file:///home/zhang/Projects/3d/ProteinWorkshop/proteinworkshop/finetune.py\" target=\"_blank\"><span style=\"color: #7f7f7f; text-decoration-color: #7f7f7f\">finetune.py</span></a><span style=\"color: #7f7f7f; text-decoration-color: #7f7f7f\">:</span><a href=\"file:///home/zhang/Projects/3d/ProteinWorkshop/proteinworkshop/finetune.py#139\" target=\"_blank\"><span style=\"color: #7f7f7f; text-decoration-color: #7f7f7f\">139</span></a>\n",
       "</pre>\n"
      ],
      "text/plain": [
       "\u001b[2;36m                   \u001b[0m\u001b[2;36m \u001b[0m\u001b[34mINFO    \u001b[0m Instantiating model\u001b[33m...\u001b[0m                                                 \u001b]8;id=686681;file:///home/zhang/Projects/3d/ProteinWorkshop/proteinworkshop/finetune.py\u001b\\\u001b[2mfinetune.py\u001b[0m\u001b]8;;\u001b\\\u001b[2m:\u001b[0m\u001b]8;id=755744;file:///home/zhang/Projects/3d/ProteinWorkshop/proteinworkshop/finetune.py#139\u001b\\\u001b[2m139\u001b[0m\u001b]8;;\u001b\\\n"
      ]
     },
     "metadata": {},
     "output_type": "display_data"
    },
    {
     "data": {
      "text/html": [
       "<pre style=\"white-space:pre;overflow-x:auto;line-height:normal;font-family:Menlo,'DejaVu Sans Mono',consolas,'Courier New',monospace\"><span style=\"color: #7fbfbf; text-decoration-color: #7fbfbf\">                    </span><span style=\"color: #000080; text-decoration-color: #000080\">INFO    </span> Instantiating encoder<span style=\"color: #808000; text-decoration-color: #808000\">...</span>                                                   <a href=\"file:///home/zhang/Projects/3d/ProteinWorkshop/proteinworkshop/models/base.py\" target=\"_blank\"><span style=\"color: #7f7f7f; text-decoration-color: #7f7f7f\">base.py</span></a><span style=\"color: #7f7f7f; text-decoration-color: #7f7f7f\">:</span><a href=\"file:///home/zhang/Projects/3d/ProteinWorkshop/proteinworkshop/models/base.py#413\" target=\"_blank\"><span style=\"color: #7f7f7f; text-decoration-color: #7f7f7f\">413</span></a>\n",
       "</pre>\n"
      ],
      "text/plain": [
       "\u001b[2;36m                   \u001b[0m\u001b[2;36m \u001b[0m\u001b[34mINFO    \u001b[0m Instantiating encoder\u001b[33m...\u001b[0m                                                   \u001b]8;id=129291;file:///home/zhang/Projects/3d/ProteinWorkshop/proteinworkshop/models/base.py\u001b\\\u001b[2mbase.py\u001b[0m\u001b]8;;\u001b\\\u001b[2m:\u001b[0m\u001b]8;id=799115;file:///home/zhang/Projects/3d/ProteinWorkshop/proteinworkshop/models/base.py#413\u001b\\\u001b[2m413\u001b[0m\u001b]8;;\u001b\\\n"
      ]
     },
     "metadata": {},
     "output_type": "display_data"
    },
    {
     "name": "stderr",
     "output_type": "stream",
     "text": [
      "/home/zhang/miniconda3/envs/3d/lib/python3.10/site-packages/torch/nn/modules/lazy.py:180: UserWarning:\n",
      "\n",
      "Lazy modules are a new feature under heavy development so changes to the API or functionality can happen at any moment.\n",
      "\n"
     ]
    },
    {
     "data": {
      "text/html": [
       "<pre style=\"white-space:pre;overflow-x:auto;line-height:normal;font-family:Menlo,'DejaVu Sans Mono',consolas,'Courier New',monospace\"><span style=\"color: #7fbfbf; text-decoration-color: #7fbfbf\">                    </span><span style=\"color: #000080; text-decoration-color: #000080\">INFO    </span> <span style=\"color: #800080; text-decoration-color: #800080; font-weight: bold\">SchNetModel</span><span style=\"font-weight: bold\">(</span><span style=\"color: #808000; text-decoration-color: #808000\">hidden_channels</span>=<span style=\"color: #008080; text-decoration-color: #008080; font-weight: bold\">512</span>, <span style=\"color: #808000; text-decoration-color: #808000\">num_filters</span>=<span style=\"color: #008080; text-decoration-color: #008080; font-weight: bold\">128</span>, <span style=\"color: #808000; text-decoration-color: #808000\">num_interactions</span>=<span style=\"color: #008080; text-decoration-color: #008080; font-weight: bold\">6</span>,      <a href=\"file:///home/zhang/Projects/3d/ProteinWorkshop/proteinworkshop/models/base.py\" target=\"_blank\"><span style=\"color: #7f7f7f; text-decoration-color: #7f7f7f\">base.py</span></a><span style=\"color: #7f7f7f; text-decoration-color: #7f7f7f\">:</span><a href=\"file:///home/zhang/Projects/3d/ProteinWorkshop/proteinworkshop/models/base.py#415\" target=\"_blank\"><span style=\"color: #7f7f7f; text-decoration-color: #7f7f7f\">415</span></a>\n",
       "<span style=\"color: #7fbfbf; text-decoration-color: #7fbfbf\">                    </span>         <span style=\"color: #808000; text-decoration-color: #808000\">num_gaussians</span>=<span style=\"color: #008080; text-decoration-color: #008080; font-weight: bold\">50</span>, <span style=\"color: #808000; text-decoration-color: #808000\">cutoff</span>=<span style=\"color: #008080; text-decoration-color: #008080; font-weight: bold\">10.0</span><span style=\"font-weight: bold\">)</span>                                             <span style=\"color: #7f7f7f; text-decoration-color: #7f7f7f\">           </span>\n",
       "</pre>\n"
      ],
      "text/plain": [
       "\u001b[2;36m                   \u001b[0m\u001b[2;36m \u001b[0m\u001b[34mINFO    \u001b[0m \u001b[1;35mSchNetModel\u001b[0m\u001b[1m(\u001b[0m\u001b[33mhidden_channels\u001b[0m=\u001b[1;36m512\u001b[0m, \u001b[33mnum_filters\u001b[0m=\u001b[1;36m128\u001b[0m, \u001b[33mnum_interactions\u001b[0m=\u001b[1;36m6\u001b[0m,      \u001b]8;id=228665;file:///home/zhang/Projects/3d/ProteinWorkshop/proteinworkshop/models/base.py\u001b\\\u001b[2mbase.py\u001b[0m\u001b]8;;\u001b\\\u001b[2m:\u001b[0m\u001b]8;id=322007;file:///home/zhang/Projects/3d/ProteinWorkshop/proteinworkshop/models/base.py#415\u001b\\\u001b[2m415\u001b[0m\u001b]8;;\u001b\\\n",
       "\u001b[2;36m                    \u001b[0m         \u001b[33mnum_gaussians\u001b[0m=\u001b[1;36m50\u001b[0m, \u001b[33mcutoff\u001b[0m=\u001b[1;36m10\u001b[0m\u001b[1;36m.0\u001b[0m\u001b[1m)\u001b[0m                                             \u001b[2m           \u001b[0m\n"
      ]
     },
     "metadata": {},
     "output_type": "display_data"
    },
    {
     "data": {
      "text/html": [
       "<pre style=\"white-space:pre;overflow-x:auto;line-height:normal;font-family:Menlo,'DejaVu Sans Mono',consolas,'Courier New',monospace\"><span style=\"color: #7fbfbf; text-decoration-color: #7fbfbf\">                    </span><span style=\"color: #000080; text-decoration-color: #000080\">INFO    </span> Instantiating decoders<span style=\"color: #808000; text-decoration-color: #808000\">...</span>                                                  <a href=\"file:///home/zhang/Projects/3d/ProteinWorkshop/proteinworkshop/models/base.py\" target=\"_blank\"><span style=\"color: #7f7f7f; text-decoration-color: #7f7f7f\">base.py</span></a><span style=\"color: #7f7f7f; text-decoration-color: #7f7f7f\">:</span><a href=\"file:///home/zhang/Projects/3d/ProteinWorkshop/proteinworkshop/models/base.py#417\" target=\"_blank\"><span style=\"color: #7f7f7f; text-decoration-color: #7f7f7f\">417</span></a>\n",
       "</pre>\n"
      ],
      "text/plain": [
       "\u001b[2;36m                   \u001b[0m\u001b[2;36m \u001b[0m\u001b[34mINFO    \u001b[0m Instantiating decoders\u001b[33m...\u001b[0m                                                  \u001b]8;id=574499;file:///home/zhang/Projects/3d/ProteinWorkshop/proteinworkshop/models/base.py\u001b\\\u001b[2mbase.py\u001b[0m\u001b]8;;\u001b\\\u001b[2m:\u001b[0m\u001b]8;id=177305;file:///home/zhang/Projects/3d/ProteinWorkshop/proteinworkshop/models/base.py#417\u001b\\\u001b[2m417\u001b[0m\u001b]8;;\u001b\\\n"
      ]
     },
     "metadata": {},
     "output_type": "display_data"
    },
    {
     "data": {
      "text/html": [
       "<pre style=\"white-space:pre;overflow-x:auto;line-height:normal;font-family:Menlo,'DejaVu Sans Mono',consolas,'Courier New',monospace\"><span style=\"color: #7fbfbf; text-decoration-color: #7fbfbf\">                    </span><span style=\"color: #000080; text-decoration-color: #000080\">INFO    </span> Building graph_label decoder. Output dim <span style=\"color: #008080; text-decoration-color: #008080; font-weight: bold\">1195</span>                              <a href=\"file:///home/zhang/Projects/3d/ProteinWorkshop/proteinworkshop/models/base.py\" target=\"_blank\"><span style=\"color: #7f7f7f; text-decoration-color: #7f7f7f\">base.py</span></a><span style=\"color: #7f7f7f; text-decoration-color: #7f7f7f\">:</span><a href=\"file:///home/zhang/Projects/3d/ProteinWorkshop/proteinworkshop/models/base.py#252\" target=\"_blank\"><span style=\"color: #7f7f7f; text-decoration-color: #7f7f7f\">252</span></a>\n",
       "</pre>\n"
      ],
      "text/plain": [
       "\u001b[2;36m                   \u001b[0m\u001b[2;36m \u001b[0m\u001b[34mINFO    \u001b[0m Building graph_label decoder. Output dim \u001b[1;36m1195\u001b[0m                              \u001b]8;id=527713;file:///home/zhang/Projects/3d/ProteinWorkshop/proteinworkshop/models/base.py\u001b\\\u001b[2mbase.py\u001b[0m\u001b]8;;\u001b\\\u001b[2m:\u001b[0m\u001b]8;id=872434;file:///home/zhang/Projects/3d/ProteinWorkshop/proteinworkshop/models/base.py#252\u001b\\\u001b[2m252\u001b[0m\u001b]8;;\u001b\\\n"
      ]
     },
     "metadata": {},
     "output_type": "display_data"
    },
    {
     "data": {
      "text/html": [
       "<pre style=\"white-space:pre;overflow-x:auto;line-height:normal;font-family:Menlo,'DejaVu Sans Mono',consolas,'Courier New',monospace\"><span style=\"color: #7fbfbf; text-decoration-color: #7fbfbf\">                    </span><span style=\"color: #000080; text-decoration-color: #000080\">INFO    </span> <span style=\"font-weight: bold\">{</span><span style=\"color: #008000; text-decoration-color: #008000\">'_target_'</span>: <span style=\"color: #008000; text-decoration-color: #008000\">'proteinworkshop.models.decoders.mlp_decoder.MLPDecoder'</span>,     <a href=\"file:///home/zhang/Projects/3d/ProteinWorkshop/proteinworkshop/models/base.py\" target=\"_blank\"><span style=\"color: #7f7f7f; text-decoration-color: #7f7f7f\">base.py</span></a><span style=\"color: #7f7f7f; text-decoration-color: #7f7f7f\">:</span><a href=\"file:///home/zhang/Projects/3d/ProteinWorkshop/proteinworkshop/models/base.py#255\" target=\"_blank\"><span style=\"color: #7f7f7f; text-decoration-color: #7f7f7f\">255</span></a>\n",
       "<span style=\"color: #7fbfbf; text-decoration-color: #7fbfbf\">                    </span>         <span style=\"color: #008000; text-decoration-color: #008000\">'hidden_dim'</span>: <span style=\"font-weight: bold\">[</span><span style=\"color: #008080; text-decoration-color: #008080; font-weight: bold\">512</span>, <span style=\"color: #008080; text-decoration-color: #008080; font-weight: bold\">512</span>, <span style=\"color: #008080; text-decoration-color: #008080; font-weight: bold\">512</span><span style=\"font-weight: bold\">]</span>, <span style=\"color: #008000; text-decoration-color: #008000\">'dropout'</span>: <span style=\"color: #008080; text-decoration-color: #008080; font-weight: bold\">0.0</span>, <span style=\"color: #008000; text-decoration-color: #008000\">'activations'</span>: <span style=\"font-weight: bold\">[</span><span style=\"color: #008000; text-decoration-color: #008000\">'relu'</span>,     <span style=\"color: #7f7f7f; text-decoration-color: #7f7f7f\">           </span>\n",
       "<span style=\"color: #7fbfbf; text-decoration-color: #7fbfbf\">                    </span>         <span style=\"color: #008000; text-decoration-color: #008000\">'relu'</span>, <span style=\"color: #008000; text-decoration-color: #008000\">'relu'</span>, <span style=\"color: #008000; text-decoration-color: #008000\">'none'</span><span style=\"font-weight: bold\">]</span>, <span style=\"color: #008000; text-decoration-color: #008000\">'skip'</span>: <span style=\"color: #008000; text-decoration-color: #008000\">'concat'</span>, <span style=\"color: #008000; text-decoration-color: #008000\">'out_dim'</span>:                      <span style=\"color: #7f7f7f; text-decoration-color: #7f7f7f\">           </span>\n",
       "<span style=\"color: #7fbfbf; text-decoration-color: #7fbfbf\">                    </span>         <span style=\"color: #008000; text-decoration-color: #008000\">'${dataset.num_classes}'</span>, <span style=\"color: #008000; text-decoration-color: #008000\">'input'</span>: <span style=\"color: #008000; text-decoration-color: #008000\">'graph_embedding'</span>, <span style=\"color: #008000; text-decoration-color: #008000\">'dummy'</span>: <span style=\"color: #ff0000; text-decoration-color: #ff0000; font-style: italic\">False</span><span style=\"font-weight: bold\">}</span>      <span style=\"color: #7f7f7f; text-decoration-color: #7f7f7f\">           </span>\n",
       "</pre>\n"
      ],
      "text/plain": [
       "\u001b[2;36m                   \u001b[0m\u001b[2;36m \u001b[0m\u001b[34mINFO    \u001b[0m \u001b[1m{\u001b[0m\u001b[32m'_target_'\u001b[0m: \u001b[32m'proteinworkshop.models.decoders.mlp_decoder.MLPDecoder'\u001b[0m,     \u001b]8;id=626430;file:///home/zhang/Projects/3d/ProteinWorkshop/proteinworkshop/models/base.py\u001b\\\u001b[2mbase.py\u001b[0m\u001b]8;;\u001b\\\u001b[2m:\u001b[0m\u001b]8;id=998192;file:///home/zhang/Projects/3d/ProteinWorkshop/proteinworkshop/models/base.py#255\u001b\\\u001b[2m255\u001b[0m\u001b]8;;\u001b\\\n",
       "\u001b[2;36m                    \u001b[0m         \u001b[32m'hidden_dim'\u001b[0m: \u001b[1m[\u001b[0m\u001b[1;36m512\u001b[0m, \u001b[1;36m512\u001b[0m, \u001b[1;36m512\u001b[0m\u001b[1m]\u001b[0m, \u001b[32m'dropout'\u001b[0m: \u001b[1;36m0.0\u001b[0m, \u001b[32m'activations'\u001b[0m: \u001b[1m[\u001b[0m\u001b[32m'relu'\u001b[0m,     \u001b[2m           \u001b[0m\n",
       "\u001b[2;36m                    \u001b[0m         \u001b[32m'relu'\u001b[0m, \u001b[32m'relu'\u001b[0m, \u001b[32m'none'\u001b[0m\u001b[1m]\u001b[0m, \u001b[32m'skip'\u001b[0m: \u001b[32m'concat'\u001b[0m, \u001b[32m'out_dim'\u001b[0m:                      \u001b[2m           \u001b[0m\n",
       "\u001b[2;36m                    \u001b[0m         \u001b[32m'$\u001b[0m\u001b[32m{\u001b[0m\u001b[32mdataset.num_classes\u001b[0m\u001b[32m}\u001b[0m\u001b[32m'\u001b[0m, \u001b[32m'input'\u001b[0m: \u001b[32m'graph_embedding'\u001b[0m, \u001b[32m'dummy'\u001b[0m: \u001b[3;91mFalse\u001b[0m\u001b[1m}\u001b[0m      \u001b[2m           \u001b[0m\n"
      ]
     },
     "metadata": {},
     "output_type": "display_data"
    },
    {
     "data": {
      "text/html": [
       "<pre style=\"white-space:pre;overflow-x:auto;line-height:normal;font-family:Menlo,'DejaVu Sans Mono',consolas,'Courier New',monospace\"><span style=\"color: #7fbfbf; text-decoration-color: #7fbfbf\">                    </span><span style=\"color: #000080; text-decoration-color: #000080\">INFO    </span> Using skip connection in decoder.                                   <a href=\"file:///home/zhang/Projects/3d/ProteinWorkshop/proteinworkshop/models/decoders/mlp_decoder.py\" target=\"_blank\"><span style=\"color: #7f7f7f; text-decoration-color: #7f7f7f\">mlp_decoder.py</span></a><span style=\"color: #7f7f7f; text-decoration-color: #7f7f7f\">:</span><a href=\"file:///home/zhang/Projects/3d/ProteinWorkshop/proteinworkshop/models/decoders/mlp_decoder.py#125\" target=\"_blank\"><span style=\"color: #7f7f7f; text-decoration-color: #7f7f7f\">125</span></a>\n",
       "</pre>\n"
      ],
      "text/plain": [
       "\u001b[2;36m                   \u001b[0m\u001b[2;36m \u001b[0m\u001b[34mINFO    \u001b[0m Using skip connection in decoder.                                   \u001b]8;id=865757;file:///home/zhang/Projects/3d/ProteinWorkshop/proteinworkshop/models/decoders/mlp_decoder.py\u001b\\\u001b[2mmlp_decoder.py\u001b[0m\u001b]8;;\u001b\\\u001b[2m:\u001b[0m\u001b]8;id=890422;file:///home/zhang/Projects/3d/ProteinWorkshop/proteinworkshop/models/decoders/mlp_decoder.py#125\u001b\\\u001b[2m125\u001b[0m\u001b]8;;\u001b\\\n"
      ]
     },
     "metadata": {},
     "output_type": "display_data"
    },
    {
     "data": {
      "text/html": [
       "<pre style=\"white-space:pre;overflow-x:auto;line-height:normal;font-family:Menlo,'DejaVu Sans Mono',consolas,'Courier New',monospace\"><span style=\"color: #7fbfbf; text-decoration-color: #7fbfbf\">                    </span><span style=\"color: #000080; text-decoration-color: #000080\">INFO    </span> <span style=\"color: #800080; text-decoration-color: #800080; font-weight: bold\">ModuleDict</span><span style=\"font-weight: bold\">(</span>                                                                <a href=\"file:///home/zhang/Projects/3d/ProteinWorkshop/proteinworkshop/models/base.py\" target=\"_blank\"><span style=\"color: #7f7f7f; text-decoration-color: #7f7f7f\">base.py</span></a><span style=\"color: #7f7f7f; text-decoration-color: #7f7f7f\">:</span><a href=\"file:///home/zhang/Projects/3d/ProteinWorkshop/proteinworkshop/models/base.py#419\" target=\"_blank\"><span style=\"color: #7f7f7f; text-decoration-color: #7f7f7f\">419</span></a>\n",
       "<span style=\"color: #7fbfbf; text-decoration-color: #7fbfbf\">                    </span>           <span style=\"font-weight: bold\">(</span>graph_label<span style=\"font-weight: bold\">)</span>: <span style=\"color: #800080; text-decoration-color: #800080; font-weight: bold\">MLPDecoder</span><span style=\"font-weight: bold\">(</span>                                               <span style=\"color: #7f7f7f; text-decoration-color: #7f7f7f\">           </span>\n",
       "<span style=\"color: #7fbfbf; text-decoration-color: #7fbfbf\">                    </span>             <span style=\"font-weight: bold\">(</span>layers<span style=\"font-weight: bold\">)</span>: <span style=\"color: #800080; text-decoration-color: #800080; font-weight: bold\">LinearSkipBlock</span><span style=\"font-weight: bold\">(</span>                                             <span style=\"color: #7f7f7f; text-decoration-color: #7f7f7f\">           </span>\n",
       "<span style=\"color: #7fbfbf; text-decoration-color: #7fbfbf\">                    </span>               <span style=\"font-weight: bold\">(</span>layers<span style=\"font-weight: bold\">)</span>: <span style=\"color: #800080; text-decoration-color: #800080; font-weight: bold\">ModuleList</span><span style=\"font-weight: bold\">(</span>                                                <span style=\"color: #7f7f7f; text-decoration-color: #7f7f7f\">           </span>\n",
       "<span style=\"color: #7fbfbf; text-decoration-color: #7fbfbf\">                    </span>                 <span style=\"font-weight: bold\">(</span><span style=\"color: #008080; text-decoration-color: #008080; font-weight: bold\">0</span>-<span style=\"color: #008080; text-decoration-color: #008080; font-weight: bold\">2</span><span style=\"font-weight: bold\">)</span>: <span style=\"color: #008080; text-decoration-color: #008080; font-weight: bold\">3</span> x <span style=\"color: #800080; text-decoration-color: #800080; font-weight: bold\">LazyLinear</span><span style=\"font-weight: bold\">(</span><span style=\"color: #808000; text-decoration-color: #808000\">in_features</span>=<span style=\"color: #008080; text-decoration-color: #008080; font-weight: bold\">0</span>, <span style=\"color: #808000; text-decoration-color: #808000\">out_features</span>=<span style=\"color: #008080; text-decoration-color: #008080; font-weight: bold\">512</span>, <span style=\"color: #808000; text-decoration-color: #808000\">bias</span>=<span style=\"color: #00ff00; text-decoration-color: #00ff00; font-style: italic\">True</span><span style=\"font-weight: bold\">)</span>  <span style=\"color: #7f7f7f; text-decoration-color: #7f7f7f\">           </span>\n",
       "<span style=\"color: #7fbfbf; text-decoration-color: #7fbfbf\">                    </span>                 <span style=\"font-weight: bold\">(</span><span style=\"color: #008080; text-decoration-color: #008080; font-weight: bold\">3</span><span style=\"font-weight: bold\">)</span>: <span style=\"color: #800080; text-decoration-color: #800080; font-weight: bold\">LazyLinear</span><span style=\"font-weight: bold\">(</span><span style=\"color: #808000; text-decoration-color: #808000\">in_features</span>=<span style=\"color: #008080; text-decoration-color: #008080; font-weight: bold\">0</span>, <span style=\"color: #808000; text-decoration-color: #808000\">out_features</span>=<span style=\"color: #008080; text-decoration-color: #008080; font-weight: bold\">1195</span>, <span style=\"color: #808000; text-decoration-color: #808000\">bias</span>=<span style=\"color: #00ff00; text-decoration-color: #00ff00; font-style: italic\">True</span><span style=\"font-weight: bold\">)</span>       <span style=\"color: #7f7f7f; text-decoration-color: #7f7f7f\">           </span>\n",
       "<span style=\"color: #7fbfbf; text-decoration-color: #7fbfbf\">                    </span>               <span style=\"font-weight: bold\">)</span>                                                                    <span style=\"color: #7f7f7f; text-decoration-color: #7f7f7f\">           </span>\n",
       "<span style=\"color: #7fbfbf; text-decoration-color: #7fbfbf\">                    </span>               <span style=\"font-weight: bold\">(</span>activations<span style=\"font-weight: bold\">)</span>: <span style=\"color: #800080; text-decoration-color: #800080; font-weight: bold\">ModuleList</span><span style=\"font-weight: bold\">(</span>                                           <span style=\"color: #7f7f7f; text-decoration-color: #7f7f7f\">           </span>\n",
       "<span style=\"color: #7fbfbf; text-decoration-color: #7fbfbf\">                    </span>                 <span style=\"font-weight: bold\">(</span><span style=\"color: #008080; text-decoration-color: #008080; font-weight: bold\">0</span>-<span style=\"color: #008080; text-decoration-color: #008080; font-weight: bold\">2</span><span style=\"font-weight: bold\">)</span>: <span style=\"color: #008080; text-decoration-color: #008080; font-weight: bold\">3</span> x <span style=\"color: #800080; text-decoration-color: #800080; font-weight: bold\">ReLU</span><span style=\"font-weight: bold\">()</span>                                                  <span style=\"color: #7f7f7f; text-decoration-color: #7f7f7f\">           </span>\n",
       "<span style=\"color: #7fbfbf; text-decoration-color: #7fbfbf\">                    </span>                 <span style=\"font-weight: bold\">(</span><span style=\"color: #008080; text-decoration-color: #008080; font-weight: bold\">3</span><span style=\"font-weight: bold\">)</span>: <span style=\"color: #800080; text-decoration-color: #800080; font-weight: bold\">Identity</span><span style=\"font-weight: bold\">()</span>                                                    <span style=\"color: #7f7f7f; text-decoration-color: #7f7f7f\">           </span>\n",
       "<span style=\"color: #7fbfbf; text-decoration-color: #7fbfbf\">                    </span>               <span style=\"font-weight: bold\">)</span>                                                                    <span style=\"color: #7f7f7f; text-decoration-color: #7f7f7f\">           </span>\n",
       "<span style=\"color: #7fbfbf; text-decoration-color: #7fbfbf\">                    </span>               <span style=\"font-weight: bold\">(</span>dropout_layers<span style=\"font-weight: bold\">)</span>: <span style=\"color: #800080; text-decoration-color: #800080; font-weight: bold\">ModuleList</span><span style=\"font-weight: bold\">(</span>                                        <span style=\"color: #7f7f7f; text-decoration-color: #7f7f7f\">           </span>\n",
       "<span style=\"color: #7fbfbf; text-decoration-color: #7fbfbf\">                    </span>                 <span style=\"font-weight: bold\">(</span><span style=\"color: #008080; text-decoration-color: #008080; font-weight: bold\">0</span>-<span style=\"color: #008080; text-decoration-color: #008080; font-weight: bold\">2</span><span style=\"font-weight: bold\">)</span>: <span style=\"color: #008080; text-decoration-color: #008080; font-weight: bold\">3</span> x <span style=\"color: #800080; text-decoration-color: #800080; font-weight: bold\">Dropout</span><span style=\"font-weight: bold\">(</span><span style=\"color: #808000; text-decoration-color: #808000\">p</span>=<span style=\"color: #008080; text-decoration-color: #008080; font-weight: bold\">0.0</span>, <span style=\"color: #808000; text-decoration-color: #808000\">inplace</span>=<span style=\"color: #ff0000; text-decoration-color: #ff0000; font-style: italic\">False</span><span style=\"font-weight: bold\">)</span>                           <span style=\"color: #7f7f7f; text-decoration-color: #7f7f7f\">           </span>\n",
       "<span style=\"color: #7fbfbf; text-decoration-color: #7fbfbf\">                    </span>               <span style=\"font-weight: bold\">)</span>                                                                    <span style=\"color: #7f7f7f; text-decoration-color: #7f7f7f\">           </span>\n",
       "<span style=\"color: #7fbfbf; text-decoration-color: #7fbfbf\">                    </span>             <span style=\"font-weight: bold\">)</span>                                                                      <span style=\"color: #7f7f7f; text-decoration-color: #7f7f7f\">           </span>\n",
       "<span style=\"color: #7fbfbf; text-decoration-color: #7fbfbf\">                    </span>           <span style=\"font-weight: bold\">)</span>                                                                        <span style=\"color: #7f7f7f; text-decoration-color: #7f7f7f\">           </span>\n",
       "<span style=\"color: #7fbfbf; text-decoration-color: #7fbfbf\">                    </span>         <span style=\"font-weight: bold\">)</span>                                                                          <span style=\"color: #7f7f7f; text-decoration-color: #7f7f7f\">           </span>\n",
       "</pre>\n"
      ],
      "text/plain": [
       "\u001b[2;36m                   \u001b[0m\u001b[2;36m \u001b[0m\u001b[34mINFO    \u001b[0m \u001b[1;35mModuleDict\u001b[0m\u001b[1m(\u001b[0m                                                                \u001b]8;id=554767;file:///home/zhang/Projects/3d/ProteinWorkshop/proteinworkshop/models/base.py\u001b\\\u001b[2mbase.py\u001b[0m\u001b]8;;\u001b\\\u001b[2m:\u001b[0m\u001b]8;id=963043;file:///home/zhang/Projects/3d/ProteinWorkshop/proteinworkshop/models/base.py#419\u001b\\\u001b[2m419\u001b[0m\u001b]8;;\u001b\\\n",
       "\u001b[2;36m                    \u001b[0m           \u001b[1m(\u001b[0mgraph_label\u001b[1m)\u001b[0m: \u001b[1;35mMLPDecoder\u001b[0m\u001b[1m(\u001b[0m                                               \u001b[2m           \u001b[0m\n",
       "\u001b[2;36m                    \u001b[0m             \u001b[1m(\u001b[0mlayers\u001b[1m)\u001b[0m: \u001b[1;35mLinearSkipBlock\u001b[0m\u001b[1m(\u001b[0m                                             \u001b[2m           \u001b[0m\n",
       "\u001b[2;36m                    \u001b[0m               \u001b[1m(\u001b[0mlayers\u001b[1m)\u001b[0m: \u001b[1;35mModuleList\u001b[0m\u001b[1m(\u001b[0m                                                \u001b[2m           \u001b[0m\n",
       "\u001b[2;36m                    \u001b[0m                 \u001b[1m(\u001b[0m\u001b[1;36m0\u001b[0m-\u001b[1;36m2\u001b[0m\u001b[1m)\u001b[0m: \u001b[1;36m3\u001b[0m x \u001b[1;35mLazyLinear\u001b[0m\u001b[1m(\u001b[0m\u001b[33min_features\u001b[0m=\u001b[1;36m0\u001b[0m, \u001b[33mout_features\u001b[0m=\u001b[1;36m512\u001b[0m, \u001b[33mbias\u001b[0m=\u001b[3;92mTrue\u001b[0m\u001b[1m)\u001b[0m  \u001b[2m           \u001b[0m\n",
       "\u001b[2;36m                    \u001b[0m                 \u001b[1m(\u001b[0m\u001b[1;36m3\u001b[0m\u001b[1m)\u001b[0m: \u001b[1;35mLazyLinear\u001b[0m\u001b[1m(\u001b[0m\u001b[33min_features\u001b[0m=\u001b[1;36m0\u001b[0m, \u001b[33mout_features\u001b[0m=\u001b[1;36m1195\u001b[0m, \u001b[33mbias\u001b[0m=\u001b[3;92mTrue\u001b[0m\u001b[1m)\u001b[0m       \u001b[2m           \u001b[0m\n",
       "\u001b[2;36m                    \u001b[0m               \u001b[1m)\u001b[0m                                                                    \u001b[2m           \u001b[0m\n",
       "\u001b[2;36m                    \u001b[0m               \u001b[1m(\u001b[0mactivations\u001b[1m)\u001b[0m: \u001b[1;35mModuleList\u001b[0m\u001b[1m(\u001b[0m                                           \u001b[2m           \u001b[0m\n",
       "\u001b[2;36m                    \u001b[0m                 \u001b[1m(\u001b[0m\u001b[1;36m0\u001b[0m-\u001b[1;36m2\u001b[0m\u001b[1m)\u001b[0m: \u001b[1;36m3\u001b[0m x \u001b[1;35mReLU\u001b[0m\u001b[1m(\u001b[0m\u001b[1m)\u001b[0m                                                  \u001b[2m           \u001b[0m\n",
       "\u001b[2;36m                    \u001b[0m                 \u001b[1m(\u001b[0m\u001b[1;36m3\u001b[0m\u001b[1m)\u001b[0m: \u001b[1;35mIdentity\u001b[0m\u001b[1m(\u001b[0m\u001b[1m)\u001b[0m                                                    \u001b[2m           \u001b[0m\n",
       "\u001b[2;36m                    \u001b[0m               \u001b[1m)\u001b[0m                                                                    \u001b[2m           \u001b[0m\n",
       "\u001b[2;36m                    \u001b[0m               \u001b[1m(\u001b[0mdropout_layers\u001b[1m)\u001b[0m: \u001b[1;35mModuleList\u001b[0m\u001b[1m(\u001b[0m                                        \u001b[2m           \u001b[0m\n",
       "\u001b[2;36m                    \u001b[0m                 \u001b[1m(\u001b[0m\u001b[1;36m0\u001b[0m-\u001b[1;36m2\u001b[0m\u001b[1m)\u001b[0m: \u001b[1;36m3\u001b[0m x \u001b[1;35mDropout\u001b[0m\u001b[1m(\u001b[0m\u001b[33mp\u001b[0m=\u001b[1;36m0\u001b[0m\u001b[1;36m.0\u001b[0m, \u001b[33minplace\u001b[0m=\u001b[3;91mFalse\u001b[0m\u001b[1m)\u001b[0m                           \u001b[2m           \u001b[0m\n",
       "\u001b[2;36m                    \u001b[0m               \u001b[1m)\u001b[0m                                                                    \u001b[2m           \u001b[0m\n",
       "\u001b[2;36m                    \u001b[0m             \u001b[1m)\u001b[0m                                                                      \u001b[2m           \u001b[0m\n",
       "\u001b[2;36m                    \u001b[0m           \u001b[1m)\u001b[0m                                                                        \u001b[2m           \u001b[0m\n",
       "\u001b[2;36m                    \u001b[0m         \u001b[1m)\u001b[0m                                                                          \u001b[2m           \u001b[0m\n"
      ]
     },
     "metadata": {},
     "output_type": "display_data"
    },
    {
     "data": {
      "text/html": [
       "<pre style=\"white-space:pre;overflow-x:auto;line-height:normal;font-family:Menlo,'DejaVu Sans Mono',consolas,'Courier New',monospace\"><span style=\"color: #7fbfbf; text-decoration-color: #7fbfbf\">                    </span><span style=\"color: #000080; text-decoration-color: #000080\">INFO    </span> Instantiating losses<span style=\"color: #808000; text-decoration-color: #808000\">...</span>                                                    <a href=\"file:///home/zhang/Projects/3d/ProteinWorkshop/proteinworkshop/models/base.py\" target=\"_blank\"><span style=\"color: #7f7f7f; text-decoration-color: #7f7f7f\">base.py</span></a><span style=\"color: #7f7f7f; text-decoration-color: #7f7f7f\">:</span><a href=\"file:///home/zhang/Projects/3d/ProteinWorkshop/proteinworkshop/models/base.py#421\" target=\"_blank\"><span style=\"color: #7f7f7f; text-decoration-color: #7f7f7f\">421</span></a>\n",
       "</pre>\n"
      ],
      "text/plain": [
       "\u001b[2;36m                   \u001b[0m\u001b[2;36m \u001b[0m\u001b[34mINFO    \u001b[0m Instantiating losses\u001b[33m...\u001b[0m                                                    \u001b]8;id=859992;file:///home/zhang/Projects/3d/ProteinWorkshop/proteinworkshop/models/base.py\u001b\\\u001b[2mbase.py\u001b[0m\u001b]8;;\u001b\\\u001b[2m:\u001b[0m\u001b]8;id=153359;file:///home/zhang/Projects/3d/ProteinWorkshop/proteinworkshop/models/base.py#421\u001b\\\u001b[2m421\u001b[0m\u001b]8;;\u001b\\\n"
      ]
     },
     "metadata": {},
     "output_type": "display_data"
    },
    {
     "data": {
      "text/html": [
       "<pre style=\"white-space:pre;overflow-x:auto;line-height:normal;font-family:Menlo,'DejaVu Sans Mono',consolas,'Courier New',monospace\"><span style=\"color: #7fbfbf; text-decoration-color: #7fbfbf\">                    </span><span style=\"color: #000080; text-decoration-color: #000080\">INFO    </span> Using losses: <span style=\"font-weight: bold\">{</span><span style=\"color: #008000; text-decoration-color: #008000\">'graph_label'</span>: <span style=\"color: #800080; text-decoration-color: #800080; font-weight: bold\">CrossEntropyLoss</span><span style=\"font-weight: bold\">()}</span>                          <a href=\"file:///home/zhang/Projects/3d/ProteinWorkshop/proteinworkshop/models/base.py\" target=\"_blank\"><span style=\"color: #7f7f7f; text-decoration-color: #7f7f7f\">base.py</span></a><span style=\"color: #7f7f7f; text-decoration-color: #7f7f7f\">:</span><a href=\"file:///home/zhang/Projects/3d/ProteinWorkshop/proteinworkshop/models/base.py#423\" target=\"_blank\"><span style=\"color: #7f7f7f; text-decoration-color: #7f7f7f\">423</span></a>\n",
       "</pre>\n"
      ],
      "text/plain": [
       "\u001b[2;36m                   \u001b[0m\u001b[2;36m \u001b[0m\u001b[34mINFO    \u001b[0m Using losses: \u001b[1m{\u001b[0m\u001b[32m'graph_label'\u001b[0m: \u001b[1;35mCrossEntropyLoss\u001b[0m\u001b[1m(\u001b[0m\u001b[1m)\u001b[0m\u001b[1m}\u001b[0m                          \u001b]8;id=389621;file:///home/zhang/Projects/3d/ProteinWorkshop/proteinworkshop/models/base.py\u001b\\\u001b[2mbase.py\u001b[0m\u001b]8;;\u001b\\\u001b[2m:\u001b[0m\u001b]8;id=274607;file:///home/zhang/Projects/3d/ProteinWorkshop/proteinworkshop/models/base.py#423\u001b\\\u001b[2m423\u001b[0m\u001b]8;;\u001b\\\n"
      ]
     },
     "metadata": {},
     "output_type": "display_data"
    },
    {
     "data": {
      "text/html": [
       "<pre style=\"white-space:pre;overflow-x:auto;line-height:normal;font-family:Menlo,'DejaVu Sans Mono',consolas,'Courier New',monospace\"><span style=\"color: #7fbfbf; text-decoration-color: #7fbfbf\">                    </span><span style=\"color: #000080; text-decoration-color: #000080\">INFO    </span> Not using aux loss scaling                                                 <a href=\"file:///home/zhang/Projects/3d/ProteinWorkshop/proteinworkshop/models/base.py\" target=\"_blank\"><span style=\"color: #7f7f7f; text-decoration-color: #7f7f7f\">base.py</span></a><span style=\"color: #7f7f7f; text-decoration-color: #7f7f7f\">:</span><a href=\"file:///home/zhang/Projects/3d/ProteinWorkshop/proteinworkshop/models/base.py#430\" target=\"_blank\"><span style=\"color: #7f7f7f; text-decoration-color: #7f7f7f\">430</span></a>\n",
       "</pre>\n"
      ],
      "text/plain": [
       "\u001b[2;36m                   \u001b[0m\u001b[2;36m \u001b[0m\u001b[34mINFO    \u001b[0m Not using aux loss scaling                                                 \u001b]8;id=967905;file:///home/zhang/Projects/3d/ProteinWorkshop/proteinworkshop/models/base.py\u001b\\\u001b[2mbase.py\u001b[0m\u001b]8;;\u001b\\\u001b[2m:\u001b[0m\u001b]8;id=163499;file:///home/zhang/Projects/3d/ProteinWorkshop/proteinworkshop/models/base.py#430\u001b\\\u001b[2m430\u001b[0m\u001b]8;;\u001b\\\n"
      ]
     },
     "metadata": {},
     "output_type": "display_data"
    },
    {
     "data": {
      "text/html": [
       "<pre style=\"white-space:pre;overflow-x:auto;line-height:normal;font-family:Menlo,'DejaVu Sans Mono',consolas,'Courier New',monospace\"><span style=\"color: #7fbfbf; text-decoration-color: #7fbfbf\">                    </span><span style=\"color: #000080; text-decoration-color: #000080\">INFO    </span> Configuring metrics<span style=\"color: #808000; text-decoration-color: #808000\">...</span>                                                     <a href=\"file:///home/zhang/Projects/3d/ProteinWorkshop/proteinworkshop/models/base.py\" target=\"_blank\"><span style=\"color: #7f7f7f; text-decoration-color: #7f7f7f\">base.py</span></a><span style=\"color: #7f7f7f; text-decoration-color: #7f7f7f\">:</span><a href=\"file:///home/zhang/Projects/3d/ProteinWorkshop/proteinworkshop/models/base.py#432\" target=\"_blank\"><span style=\"color: #7f7f7f; text-decoration-color: #7f7f7f\">432</span></a>\n",
       "</pre>\n"
      ],
      "text/plain": [
       "\u001b[2;36m                   \u001b[0m\u001b[2;36m \u001b[0m\u001b[34mINFO    \u001b[0m Configuring metrics\u001b[33m...\u001b[0m                                                     \u001b]8;id=524486;file:///home/zhang/Projects/3d/ProteinWorkshop/proteinworkshop/models/base.py\u001b\\\u001b[2mbase.py\u001b[0m\u001b]8;;\u001b\\\u001b[2m:\u001b[0m\u001b]8;id=888859;file:///home/zhang/Projects/3d/ProteinWorkshop/proteinworkshop/models/base.py#432\u001b\\\u001b[2m432\u001b[0m\u001b]8;;\u001b\\\n"
      ]
     },
     "metadata": {},
     "output_type": "display_data"
    },
    {
     "data": {
      "text/html": [
       "<pre style=\"white-space:pre;overflow-x:auto;line-height:normal;font-family:Menlo,'DejaVu Sans Mono',consolas,'Courier New',monospace\"><span style=\"color: #7fbfbf; text-decoration-color: #7fbfbf\">                    </span><span style=\"color: #000080; text-decoration-color: #000080\">INFO    </span> <span style=\"font-weight: bold\">[</span><span style=\"color: #008000; text-decoration-color: #008000\">'accuracy'</span>, <span style=\"color: #008000; text-decoration-color: #008000\">'f1_score'</span>, <span style=\"color: #008000; text-decoration-color: #008000\">'f1_max'</span><span style=\"font-weight: bold\">]</span>                                         <a href=\"file:///home/zhang/Projects/3d/ProteinWorkshop/proteinworkshop/models/base.py\" target=\"_blank\"><span style=\"color: #7f7f7f; text-decoration-color: #7f7f7f\">base.py</span></a><span style=\"color: #7f7f7f; text-decoration-color: #7f7f7f\">:</span><a href=\"file:///home/zhang/Projects/3d/ProteinWorkshop/proteinworkshop/models/base.py#434\" target=\"_blank\"><span style=\"color: #7f7f7f; text-decoration-color: #7f7f7f\">434</span></a>\n",
       "</pre>\n"
      ],
      "text/plain": [
       "\u001b[2;36m                   \u001b[0m\u001b[2;36m \u001b[0m\u001b[34mINFO    \u001b[0m \u001b[1m[\u001b[0m\u001b[32m'accuracy'\u001b[0m, \u001b[32m'f1_score'\u001b[0m, \u001b[32m'f1_max'\u001b[0m\u001b[1m]\u001b[0m                                         \u001b]8;id=48437;file:///home/zhang/Projects/3d/ProteinWorkshop/proteinworkshop/models/base.py\u001b\\\u001b[2mbase.py\u001b[0m\u001b]8;;\u001b\\\u001b[2m:\u001b[0m\u001b]8;id=195127;file:///home/zhang/Projects/3d/ProteinWorkshop/proteinworkshop/models/base.py#434\u001b\\\u001b[2m434\u001b[0m\u001b]8;;\u001b\\\n"
      ]
     },
     "metadata": {},
     "output_type": "display_data"
    },
    {
     "data": {
      "text/html": [
       "<pre style=\"white-space:pre;overflow-x:auto;line-height:normal;font-family:Menlo,'DejaVu Sans Mono',consolas,'Courier New',monospace\"><span style=\"color: #7fbfbf; text-decoration-color: #7fbfbf\">                    </span><span style=\"color: #000080; text-decoration-color: #000080\">INFO    </span> Instantiating featuriser<span style=\"color: #808000; text-decoration-color: #808000\">...</span>                                                <a href=\"file:///home/zhang/Projects/3d/ProteinWorkshop/proteinworkshop/models/base.py\" target=\"_blank\"><span style=\"color: #7f7f7f; text-decoration-color: #7f7f7f\">base.py</span></a><span style=\"color: #7f7f7f; text-decoration-color: #7f7f7f\">:</span><a href=\"file:///home/zhang/Projects/3d/ProteinWorkshop/proteinworkshop/models/base.py#436\" target=\"_blank\"><span style=\"color: #7f7f7f; text-decoration-color: #7f7f7f\">436</span></a>\n",
       "</pre>\n"
      ],
      "text/plain": [
       "\u001b[2;36m                   \u001b[0m\u001b[2;36m \u001b[0m\u001b[34mINFO    \u001b[0m Instantiating featuriser\u001b[33m...\u001b[0m                                                \u001b]8;id=93378;file:///home/zhang/Projects/3d/ProteinWorkshop/proteinworkshop/models/base.py\u001b\\\u001b[2mbase.py\u001b[0m\u001b]8;;\u001b\\\u001b[2m:\u001b[0m\u001b]8;id=721993;file:///home/zhang/Projects/3d/ProteinWorkshop/proteinworkshop/models/base.py#436\u001b\\\u001b[2m436\u001b[0m\u001b]8;;\u001b\\\n"
      ]
     },
     "metadata": {},
     "output_type": "display_data"
    },
    {
     "data": {
      "text/html": [
       "<pre style=\"white-space:pre;overflow-x:auto;line-height:normal;font-family:Menlo,'DejaVu Sans Mono',consolas,'Courier New',monospace\"><span style=\"color: #7fbfbf; text-decoration-color: #7fbfbf\">                    </span><span style=\"color: #000080; text-decoration-color: #000080\">INFO    </span> <span style=\"color: #800080; text-decoration-color: #800080; font-weight: bold\">ProteinFeaturiser</span><span style=\"font-weight: bold\">(</span><span style=\"color: #808000; text-decoration-color: #808000\">representation</span>=<span style=\"color: #800080; text-decoration-color: #800080\">CA</span>,                                       <a href=\"file:///home/zhang/Projects/3d/ProteinWorkshop/proteinworkshop/models/base.py\" target=\"_blank\"><span style=\"color: #7f7f7f; text-decoration-color: #7f7f7f\">base.py</span></a><span style=\"color: #7f7f7f; text-decoration-color: #7f7f7f\">:</span><a href=\"file:///home/zhang/Projects/3d/ProteinWorkshop/proteinworkshop/models/base.py#438\" target=\"_blank\"><span style=\"color: #7f7f7f; text-decoration-color: #7f7f7f\">438</span></a>\n",
       "<span style=\"color: #7fbfbf; text-decoration-color: #7fbfbf\">                    </span>         <span style=\"color: #808000; text-decoration-color: #808000\">scalar_node_features</span>=<span style=\"font-weight: bold\">[</span><span style=\"color: #008000; text-decoration-color: #008000\">'amino_acid_one_hot'</span>,                                <span style=\"color: #7f7f7f; text-decoration-color: #7f7f7f\">           </span>\n",
       "<span style=\"color: #7fbfbf; text-decoration-color: #7fbfbf\">                    </span>         <span style=\"color: #008000; text-decoration-color: #008000\">'sequence_positional_encoding'</span>, <span style=\"color: #008000; text-decoration-color: #008000\">'alpha'</span>, <span style=\"color: #008000; text-decoration-color: #008000\">'kappa'</span>, <span style=\"color: #008000; text-decoration-color: #008000\">'dihedrals'</span><span style=\"font-weight: bold\">]</span>,            <span style=\"color: #7f7f7f; text-decoration-color: #7f7f7f\">           </span>\n",
       "<span style=\"color: #7fbfbf; text-decoration-color: #7fbfbf\">                    </span>         <span style=\"color: #808000; text-decoration-color: #808000\">vector_node_features</span>=<span style=\"font-weight: bold\">[]</span>, <span style=\"color: #808000; text-decoration-color: #808000\">edge_types</span>=<span style=\"font-weight: bold\">[</span><span style=\"color: #008000; text-decoration-color: #008000\">'knn_16'</span><span style=\"font-weight: bold\">]</span>,                            <span style=\"color: #7f7f7f; text-decoration-color: #7f7f7f\">           </span>\n",
       "<span style=\"color: #7fbfbf; text-decoration-color: #7fbfbf\">                    </span>         <span style=\"color: #808000; text-decoration-color: #808000\">scalar_edge_features</span>=<span style=\"font-weight: bold\">[</span><span style=\"color: #008000; text-decoration-color: #008000\">'edge_distance'</span><span style=\"font-weight: bold\">]</span>, <span style=\"color: #808000; text-decoration-color: #808000\">vector_edge_features</span>=<span style=\"font-weight: bold\">[])</span>           <span style=\"color: #7f7f7f; text-decoration-color: #7f7f7f\">           </span>\n",
       "</pre>\n"
      ],
      "text/plain": [
       "\u001b[2;36m                   \u001b[0m\u001b[2;36m \u001b[0m\u001b[34mINFO    \u001b[0m \u001b[1;35mProteinFeaturiser\u001b[0m\u001b[1m(\u001b[0m\u001b[33mrepresentation\u001b[0m=\u001b[35mCA\u001b[0m,                                       \u001b]8;id=383269;file:///home/zhang/Projects/3d/ProteinWorkshop/proteinworkshop/models/base.py\u001b\\\u001b[2mbase.py\u001b[0m\u001b]8;;\u001b\\\u001b[2m:\u001b[0m\u001b]8;id=264664;file:///home/zhang/Projects/3d/ProteinWorkshop/proteinworkshop/models/base.py#438\u001b\\\u001b[2m438\u001b[0m\u001b]8;;\u001b\\\n",
       "\u001b[2;36m                    \u001b[0m         \u001b[33mscalar_node_features\u001b[0m=\u001b[1m[\u001b[0m\u001b[32m'amino_acid_one_hot'\u001b[0m,                                \u001b[2m           \u001b[0m\n",
       "\u001b[2;36m                    \u001b[0m         \u001b[32m'sequence_positional_encoding'\u001b[0m, \u001b[32m'alpha'\u001b[0m, \u001b[32m'kappa'\u001b[0m, \u001b[32m'dihedrals'\u001b[0m\u001b[1m]\u001b[0m,            \u001b[2m           \u001b[0m\n",
       "\u001b[2;36m                    \u001b[0m         \u001b[33mvector_node_features\u001b[0m=\u001b[1m[\u001b[0m\u001b[1m]\u001b[0m, \u001b[33medge_types\u001b[0m=\u001b[1m[\u001b[0m\u001b[32m'knn_16'\u001b[0m\u001b[1m]\u001b[0m,                            \u001b[2m           \u001b[0m\n",
       "\u001b[2;36m                    \u001b[0m         \u001b[33mscalar_edge_features\u001b[0m=\u001b[1m[\u001b[0m\u001b[32m'edge_distance'\u001b[0m\u001b[1m]\u001b[0m, \u001b[33mvector_edge_features\u001b[0m=\u001b[1m[\u001b[0m\u001b[1m]\u001b[0m\u001b[1m)\u001b[0m           \u001b[2m           \u001b[0m\n"
      ]
     },
     "metadata": {},
     "output_type": "display_data"
    },
    {
     "data": {
      "text/html": [
       "<pre style=\"white-space:pre;overflow-x:auto;line-height:normal;font-family:Menlo,'DejaVu Sans Mono',consolas,'Courier New',monospace\"><span style=\"color: #7fbfbf; text-decoration-color: #7fbfbf\">                    </span><span style=\"color: #000080; text-decoration-color: #000080\">INFO    </span> Instantiating task transform<span style=\"color: #808000; text-decoration-color: #808000\">...</span>                                            <a href=\"file:///home/zhang/Projects/3d/ProteinWorkshop/proteinworkshop/models/base.py\" target=\"_blank\"><span style=\"color: #7f7f7f; text-decoration-color: #7f7f7f\">base.py</span></a><span style=\"color: #7f7f7f; text-decoration-color: #7f7f7f\">:</span><a href=\"file:///home/zhang/Projects/3d/ProteinWorkshop/proteinworkshop/models/base.py#440\" target=\"_blank\"><span style=\"color: #7f7f7f; text-decoration-color: #7f7f7f\">440</span></a>\n",
       "</pre>\n"
      ],
      "text/plain": [
       "\u001b[2;36m                   \u001b[0m\u001b[2;36m \u001b[0m\u001b[34mINFO    \u001b[0m Instantiating task transform\u001b[33m...\u001b[0m                                            \u001b]8;id=813633;file:///home/zhang/Projects/3d/ProteinWorkshop/proteinworkshop/models/base.py\u001b\\\u001b[2mbase.py\u001b[0m\u001b]8;;\u001b\\\u001b[2m:\u001b[0m\u001b]8;id=984955;file:///home/zhang/Projects/3d/ProteinWorkshop/proteinworkshop/models/base.py#440\u001b\\\u001b[2m440\u001b[0m\u001b]8;;\u001b\\\n"
      ]
     },
     "metadata": {},
     "output_type": "display_data"
    },
    {
     "data": {
      "text/html": [
       "<pre style=\"white-space:pre;overflow-x:auto;line-height:normal;font-family:Menlo,'DejaVu Sans Mono',consolas,'Courier New',monospace\"><span style=\"color: #7fbfbf; text-decoration-color: #7fbfbf\">                    </span><span style=\"color: #000080; text-decoration-color: #000080\">INFO    </span> <span style=\"color: #800080; text-decoration-color: #800080; font-style: italic\">None</span>                                                                       <a href=\"file:///home/zhang/Projects/3d/ProteinWorkshop/proteinworkshop/models/base.py\" target=\"_blank\"><span style=\"color: #7f7f7f; text-decoration-color: #7f7f7f\">base.py</span></a><span style=\"color: #7f7f7f; text-decoration-color: #7f7f7f\">:</span><a href=\"file:///home/zhang/Projects/3d/ProteinWorkshop/proteinworkshop/models/base.py#444\" target=\"_blank\"><span style=\"color: #7f7f7f; text-decoration-color: #7f7f7f\">444</span></a>\n",
       "</pre>\n"
      ],
      "text/plain": [
       "\u001b[2;36m                   \u001b[0m\u001b[2;36m \u001b[0m\u001b[34mINFO    \u001b[0m \u001b[3;35mNone\u001b[0m                                                                       \u001b]8;id=717060;file:///home/zhang/Projects/3d/ProteinWorkshop/proteinworkshop/models/base.py\u001b\\\u001b[2mbase.py\u001b[0m\u001b]8;;\u001b\\\u001b[2m:\u001b[0m\u001b]8;id=888669;file:///home/zhang/Projects/3d/ProteinWorkshop/proteinworkshop/models/base.py#444\u001b\\\u001b[2m444\u001b[0m\u001b]8;;\u001b\\\n"
      ]
     },
     "metadata": {},
     "output_type": "display_data"
    },
    {
     "data": {
      "text/html": [
       "<pre style=\"white-space:pre;overflow-x:auto;line-height:normal;font-family:Menlo,'DejaVu Sans Mono',consolas,'Courier New',monospace\"><span style=\"color: #7fbfbf; text-decoration-color: #7fbfbf\">[07/31/24 15:42:50] </span><span style=\"color: #000080; text-decoration-color: #000080\">INFO    </span> Initializing lazy layers<span style=\"color: #808000; text-decoration-color: #808000\">...</span>                                            <a href=\"file:///home/zhang/Projects/3d/ProteinWorkshop/proteinworkshop/finetune.py\" target=\"_blank\"><span style=\"color: #7f7f7f; text-decoration-color: #7f7f7f\">finetune.py</span></a><span style=\"color: #7f7f7f; text-decoration-color: #7f7f7f\">:</span><a href=\"file:///home/zhang/Projects/3d/ProteinWorkshop/proteinworkshop/finetune.py#146\" target=\"_blank\"><span style=\"color: #7f7f7f; text-decoration-color: #7f7f7f\">146</span></a>\n",
       "</pre>\n"
      ],
      "text/plain": [
       "\u001b[2;36m[07/31/24 15:42:50]\u001b[0m\u001b[2;36m \u001b[0m\u001b[34mINFO    \u001b[0m Initializing lazy layers\u001b[33m...\u001b[0m                                            \u001b]8;id=889536;file:///home/zhang/Projects/3d/ProteinWorkshop/proteinworkshop/finetune.py\u001b\\\u001b[2mfinetune.py\u001b[0m\u001b]8;;\u001b\\\u001b[2m:\u001b[0m\u001b]8;id=276138;file:///home/zhang/Projects/3d/ProteinWorkshop/proteinworkshop/finetune.py#146\u001b\\\u001b[2m146\u001b[0m\u001b]8;;\u001b\\\n"
      ]
     },
     "metadata": {},
     "output_type": "display_data"
    },
    {
     "data": {
      "text/html": [
       "<pre style=\"white-space:pre;overflow-x:auto;line-height:normal;font-family:Menlo,'DejaVu Sans Mono',consolas,'Courier New',monospace\"><span style=\"color: #7fbfbf; text-decoration-color: #7fbfbf\">                    </span><span style=\"color: #000080; text-decoration-color: #000080\">INFO    </span> Downloading Protein Function. Fraction <span style=\"color: #008080; text-decoration-color: #008080; font-weight: bold\">1.0</span>                   <a href=\"file:///home/zhang/Projects/3d/ProteinWorkshop/proteinworkshop/datasets/fold_classification.py\" target=\"_blank\"><span style=\"color: #7f7f7f; text-decoration-color: #7f7f7f\">fold_classification.py</span></a><span style=\"color: #7f7f7f; text-decoration-color: #7f7f7f\">:</span><a href=\"file:///home/zhang/Projects/3d/ProteinWorkshop/proteinworkshop/datasets/fold_classification.py#86\" target=\"_blank\"><span style=\"color: #7f7f7f; text-decoration-color: #7f7f7f\">86</span></a>\n",
       "</pre>\n"
      ],
      "text/plain": [
       "\u001b[2;36m                   \u001b[0m\u001b[2;36m \u001b[0m\u001b[34mINFO    \u001b[0m Downloading Protein Function. Fraction \u001b[1;36m1.0\u001b[0m                   \u001b]8;id=533883;file:///home/zhang/Projects/3d/ProteinWorkshop/proteinworkshop/datasets/fold_classification.py\u001b\\\u001b[2mfold_classification.py\u001b[0m\u001b]8;;\u001b\\\u001b[2m:\u001b[0m\u001b]8;id=255940;file:///home/zhang/Projects/3d/ProteinWorkshop/proteinworkshop/datasets/fold_classification.py#86\u001b\\\u001b[2m86\u001b[0m\u001b]8;;\u001b\\\n"
      ]
     },
     "metadata": {},
     "output_type": "display_data"
    },
    {
     "data": {
      "text/html": [
       "<pre style=\"white-space:pre;overflow-x:auto;line-height:normal;font-family:Menlo,'DejaVu Sans Mono',consolas,'Courier New',monospace\"><span style=\"color: #7fbfbf; text-decoration-color: #7fbfbf\">                    </span><span style=\"color: #000080; text-decoration-color: #000080\">INFO    </span> Found SCOP structure tarfile in:                            <a href=\"file:///home/zhang/Projects/3d/ProteinWorkshop/proteinworkshop/datasets/fold_classification.py\" target=\"_blank\"><span style=\"color: #7f7f7f; text-decoration-color: #7f7f7f\">fold_classification.py</span></a><span style=\"color: #7f7f7f; text-decoration-color: #7f7f7f\">:</span><a href=\"file:///home/zhang/Projects/3d/ProteinWorkshop/proteinworkshop/datasets/fold_classification.py#138\" target=\"_blank\"><span style=\"color: #7f7f7f; text-decoration-color: #7f7f7f\">138</span></a>\n",
       "<span style=\"color: #7fbfbf; text-decoration-color: #7fbfbf\">                    </span>         <span style=\"color: #800080; text-decoration-color: #800080\">/home/zhang/Projects/3d/ProteinWorkshop/proteinworkshop/dat</span> <span style=\"color: #7f7f7f; text-decoration-color: #7f7f7f\">                          </span>\n",
       "<span style=\"color: #7fbfbf; text-decoration-color: #7fbfbf\">                    </span>         <span style=\"color: #800080; text-decoration-color: #800080\">a/FoldClassification/</span><span style=\"color: #ff00ff; text-decoration-color: #ff00ff\">pdbstyle-sel-gs-bib-95-1.75.tgz</span>        <span style=\"color: #7f7f7f; text-decoration-color: #7f7f7f\">                          </span>\n",
       "</pre>\n"
      ],
      "text/plain": [
       "\u001b[2;36m                   \u001b[0m\u001b[2;36m \u001b[0m\u001b[34mINFO    \u001b[0m Found SCOP structure tarfile in:                            \u001b]8;id=107015;file:///home/zhang/Projects/3d/ProteinWorkshop/proteinworkshop/datasets/fold_classification.py\u001b\\\u001b[2mfold_classification.py\u001b[0m\u001b]8;;\u001b\\\u001b[2m:\u001b[0m\u001b]8;id=241394;file:///home/zhang/Projects/3d/ProteinWorkshop/proteinworkshop/datasets/fold_classification.py#138\u001b\\\u001b[2m138\u001b[0m\u001b]8;;\u001b\\\n",
       "\u001b[2;36m                    \u001b[0m         \u001b[35m/home/zhang/Projects/3d/ProteinWorkshop/proteinworkshop/dat\u001b[0m \u001b[2m                          \u001b[0m\n",
       "\u001b[2;36m                    \u001b[0m         \u001b[35ma/FoldClassification/\u001b[0m\u001b[95mpdbstyle-sel-gs-bib-95-1.75.tgz\u001b[0m        \u001b[2m                          \u001b[0m\n"
      ]
     },
     "metadata": {},
     "output_type": "display_data"
    },
    {
     "data": {
      "text/html": [
       "<pre style=\"white-space:pre;overflow-x:auto;line-height:normal;font-family:Menlo,'DejaVu Sans Mono',consolas,'Courier New',monospace\"><span style=\"color: #7fbfbf; text-decoration-color: #7fbfbf\">                    </span><span style=\"color: #000080; text-decoration-color: #000080\">INFO    </span> Found SCOPe structures in:                                  <a href=\"file:///home/zhang/Projects/3d/ProteinWorkshop/proteinworkshop/datasets/fold_classification.py\" target=\"_blank\"><span style=\"color: #7f7f7f; text-decoration-color: #7f7f7f\">fold_classification.py</span></a><span style=\"color: #7f7f7f; text-decoration-color: #7f7f7f\">:</span><a href=\"file:///home/zhang/Projects/3d/ProteinWorkshop/proteinworkshop/datasets/fold_classification.py#151\" target=\"_blank\"><span style=\"color: #7f7f7f; text-decoration-color: #7f7f7f\">151</span></a>\n",
       "</pre>\n"
      ],
      "text/plain": [
       "\u001b[2;36m                   \u001b[0m\u001b[2;36m \u001b[0m\u001b[34mINFO    \u001b[0m Found SCOPe structures in:                                  \u001b]8;id=80640;file:///home/zhang/Projects/3d/ProteinWorkshop/proteinworkshop/datasets/fold_classification.py\u001b\\\u001b[2mfold_classification.py\u001b[0m\u001b]8;;\u001b\\\u001b[2m:\u001b[0m\u001b]8;id=553243;file:///home/zhang/Projects/3d/ProteinWorkshop/proteinworkshop/datasets/fold_classification.py#151\u001b\\\u001b[2m151\u001b[0m\u001b]8;;\u001b\\\n"
      ]
     },
     "metadata": {},
     "output_type": "display_data"
    },
    {
     "data": {
      "text/html": [
       "<pre style=\"white-space:pre;overflow-x:auto;line-height:normal;font-family:Menlo,'DejaVu Sans Mono',consolas,'Courier New',monospace\"><span style=\"color: #7fbfbf; text-decoration-color: #7fbfbf\">                    </span><span style=\"color: #000080; text-decoration-color: #000080\">INFO    </span> Preprocessing validation data                                               <a href=\"file:///home/zhang/Projects/3d/ProteinWorkshop/proteinworkshop/datasets/base.py\" target=\"_blank\"><span style=\"color: #7f7f7f; text-decoration-color: #7f7f7f\">base.py</span></a><span style=\"color: #7f7f7f; text-decoration-color: #7f7f7f\">:</span><a href=\"file:///home/zhang/Projects/3d/ProteinWorkshop/proteinworkshop/datasets/base.py#99\" target=\"_blank\"><span style=\"color: #7f7f7f; text-decoration-color: #7f7f7f\">99</span></a>\n",
       "</pre>\n"
      ],
      "text/plain": [
       "\u001b[2;36m                   \u001b[0m\u001b[2;36m \u001b[0m\u001b[34mINFO    \u001b[0m Preprocessing validation data                                               \u001b]8;id=791515;file:///home/zhang/Projects/3d/ProteinWorkshop/proteinworkshop/datasets/base.py\u001b\\\u001b[2mbase.py\u001b[0m\u001b]8;;\u001b\\\u001b[2m:\u001b[0m\u001b]8;id=555822;file:///home/zhang/Projects/3d/ProteinWorkshop/proteinworkshop/datasets/base.py#99\u001b\\\u001b[2m99\u001b[0m\u001b]8;;\u001b\\\n"
      ]
     },
     "metadata": {},
     "output_type": "display_data"
    },
    {
     "data": {
      "text/html": [
       "<pre style=\"white-space:pre;overflow-x:auto;line-height:normal;font-family:Menlo,'DejaVu Sans Mono',consolas,'Courier New',monospace\"><span style=\"color: #7fbfbf; text-decoration-color: #7fbfbf\">                    </span><span style=\"color: #000080; text-decoration-color: #000080\">INFO    </span> Reading labels from:                                        <a href=\"file:///home/zhang/Projects/3d/ProteinWorkshop/proteinworkshop/datasets/fold_classification.py\" target=\"_blank\"><span style=\"color: #7f7f7f; text-decoration-color: #7f7f7f\">fold_classification.py</span></a><span style=\"color: #7f7f7f; text-decoration-color: #7f7f7f\">:</span><a href=\"file:///home/zhang/Projects/3d/ProteinWorkshop/proteinworkshop/datasets/fold_classification.py#154\" target=\"_blank\"><span style=\"color: #7f7f7f; text-decoration-color: #7f7f7f\">154</span></a>\n",
       "<span style=\"color: #7fbfbf; text-decoration-color: #7fbfbf\">                    </span>         <span style=\"color: #800080; text-decoration-color: #800080\">/home/zhang/Projects/3d/ProteinWorkshop/proteinworkshop/dat</span> <span style=\"color: #7f7f7f; text-decoration-color: #7f7f7f\">                          </span>\n",
       "<span style=\"color: #7fbfbf; text-decoration-color: #7fbfbf\">                    </span>         <span style=\"color: #800080; text-decoration-color: #800080\">a/FoldClassification/</span><span style=\"color: #ff00ff; text-decoration-color: #ff00ff\">class_map.txt</span>                          <span style=\"color: #7f7f7f; text-decoration-color: #7f7f7f\">                          </span>\n",
       "</pre>\n"
      ],
      "text/plain": [
       "\u001b[2;36m                   \u001b[0m\u001b[2;36m \u001b[0m\u001b[34mINFO    \u001b[0m Reading labels from:                                        \u001b]8;id=449411;file:///home/zhang/Projects/3d/ProteinWorkshop/proteinworkshop/datasets/fold_classification.py\u001b\\\u001b[2mfold_classification.py\u001b[0m\u001b]8;;\u001b\\\u001b[2m:\u001b[0m\u001b]8;id=954709;file:///home/zhang/Projects/3d/ProteinWorkshop/proteinworkshop/datasets/fold_classification.py#154\u001b\\\u001b[2m154\u001b[0m\u001b]8;;\u001b\\\n",
       "\u001b[2;36m                    \u001b[0m         \u001b[35m/home/zhang/Projects/3d/ProteinWorkshop/proteinworkshop/dat\u001b[0m \u001b[2m                          \u001b[0m\n",
       "\u001b[2;36m                    \u001b[0m         \u001b[35ma/FoldClassification/\u001b[0m\u001b[95mclass_map.txt\u001b[0m                          \u001b[2m                          \u001b[0m\n"
      ]
     },
     "metadata": {},
     "output_type": "display_data"
    },
    {
     "data": {
      "text/html": [
       "<pre style=\"white-space:pre;overflow-x:auto;line-height:normal;font-family:Menlo,'DejaVu Sans Mono',consolas,'Courier New',monospace\"><span style=\"color: #7fbfbf; text-decoration-color: #7fbfbf\">                    </span><span style=\"color: #000080; text-decoration-color: #000080\">INFO    </span> Found <span style=\"color: #008080; text-decoration-color: #008080; font-weight: bold\">736</span> original examples in validation                   <a href=\"file:///home/zhang/Projects/3d/ProteinWorkshop/proteinworkshop/datasets/fold_classification.py\" target=\"_blank\"><span style=\"color: #7f7f7f; text-decoration-color: #7f7f7f\">fold_classification.py</span></a><span style=\"color: #7f7f7f; text-decoration-color: #7f7f7f\">:</span><a href=\"file:///home/zhang/Projects/3d/ProteinWorkshop/proteinworkshop/datasets/fold_classification.py#234\" target=\"_blank\"><span style=\"color: #7f7f7f; text-decoration-color: #7f7f7f\">234</span></a>\n",
       "</pre>\n"
      ],
      "text/plain": [
       "\u001b[2;36m                   \u001b[0m\u001b[2;36m \u001b[0m\u001b[34mINFO    \u001b[0m Found \u001b[1;36m736\u001b[0m original examples in validation                   \u001b]8;id=365924;file:///home/zhang/Projects/3d/ProteinWorkshop/proteinworkshop/datasets/fold_classification.py\u001b\\\u001b[2mfold_classification.py\u001b[0m\u001b]8;;\u001b\\\u001b[2m:\u001b[0m\u001b]8;id=618395;file:///home/zhang/Projects/3d/ProteinWorkshop/proteinworkshop/datasets/fold_classification.py#234\u001b\\\u001b[2m234\u001b[0m\u001b]8;;\u001b\\\n"
      ]
     },
     "metadata": {},
     "output_type": "display_data"
    },
    {
     "data": {
      "text/html": [
       "<pre style=\"white-space:pre;overflow-x:auto;line-height:normal;font-family:Menlo,'DejaVu Sans Mono',consolas,'Courier New',monospace\"><span style=\"color: #7fbfbf; text-decoration-color: #7fbfbf\">                    </span><span style=\"color: #000080; text-decoration-color: #000080\">INFO    </span> Identified <span style=\"color: #008080; text-decoration-color: #008080; font-weight: bold\">319</span> classes                                      <a href=\"file:///home/zhang/Projects/3d/ProteinWorkshop/proteinworkshop/datasets/fold_classification.py\" target=\"_blank\"><span style=\"color: #7f7f7f; text-decoration-color: #7f7f7f\">fold_classification.py</span></a><span style=\"color: #7f7f7f; text-decoration-color: #7f7f7f\">:</span><a href=\"file:///home/zhang/Projects/3d/ProteinWorkshop/proteinworkshop/datasets/fold_classification.py#247\" target=\"_blank\"><span style=\"color: #7f7f7f; text-decoration-color: #7f7f7f\">247</span></a>\n",
       "</pre>\n"
      ],
      "text/plain": [
       "\u001b[2;36m                   \u001b[0m\u001b[2;36m \u001b[0m\u001b[34mINFO    \u001b[0m Identified \u001b[1;36m319\u001b[0m classes                                      \u001b]8;id=255198;file:///home/zhang/Projects/3d/ProteinWorkshop/proteinworkshop/datasets/fold_classification.py\u001b\\\u001b[2mfold_classification.py\u001b[0m\u001b]8;;\u001b\\\u001b[2m:\u001b[0m\u001b]8;id=824350;file:///home/zhang/Projects/3d/ProteinWorkshop/proteinworkshop/datasets/fold_classification.py#247\u001b\\\u001b[2m247\u001b[0m\u001b]8;;\u001b\\\n"
      ]
     },
     "metadata": {},
     "output_type": "display_data"
    },
    {
     "data": {
      "text/html": [
       "<pre style=\"white-space:pre;overflow-x:auto;line-height:normal;font-family:Menlo,'DejaVu Sans Mono',consolas,'Courier New',monospace\"><span style=\"color: #7fbfbf; text-decoration-color: #7fbfbf\">                    </span><span style=\"color: #000080; text-decoration-color: #000080\">INFO    </span> All structures already processed and <span style=\"color: #808000; text-decoration-color: #808000\">overwrite</span>=<span style=\"color: #ff0000; text-decoration-color: #ff0000; font-style: italic\">False</span>. Skipping download.   <a href=\"file:///home/zhang/Projects/3d/ProteinWorkshop/proteinworkshop/datasets/base.py\" target=\"_blank\"><span style=\"color: #7f7f7f; text-decoration-color: #7f7f7f\">base.py</span></a><span style=\"color: #7f7f7f; text-decoration-color: #7f7f7f\">:</span><a href=\"file:///home/zhang/Projects/3d/ProteinWorkshop/proteinworkshop/datasets/base.py#327\" target=\"_blank\"><span style=\"color: #7f7f7f; text-decoration-color: #7f7f7f\">327</span></a>\n",
       "</pre>\n"
      ],
      "text/plain": [
       "\u001b[2;36m                   \u001b[0m\u001b[2;36m \u001b[0m\u001b[34mINFO    \u001b[0m All structures already processed and \u001b[33moverwrite\u001b[0m=\u001b[3;91mFalse\u001b[0m. Skipping download.   \u001b]8;id=128792;file:///home/zhang/Projects/3d/ProteinWorkshop/proteinworkshop/datasets/base.py\u001b\\\u001b[2mbase.py\u001b[0m\u001b]8;;\u001b\\\u001b[2m:\u001b[0m\u001b]8;id=695597;file:///home/zhang/Projects/3d/ProteinWorkshop/proteinworkshop/datasets/base.py#327\u001b\\\u001b[2m327\u001b[0m\u001b]8;;\u001b\\\n"
      ]
     },
     "metadata": {},
     "output_type": "display_data"
    },
    {
     "data": {
      "text/html": [
       "<pre style=\"white-space:pre;overflow-x:auto;line-height:normal;font-family:Menlo,'DejaVu Sans Mono',consolas,'Courier New',monospace\"><span style=\"color: #7fbfbf; text-decoration-color: #7fbfbf\">                    </span><span style=\"color: #800000; text-decoration-color: #800000\">WARNING </span> Downloads in .ent format are assumed to be from ASTRAL. These data should  <a href=\"file:///home/zhang/Projects/3d/ProteinWorkshop/proteinworkshop/datasets/base.py\" target=\"_blank\"><span style=\"color: #7f7f7f; text-decoration-color: #7f7f7f\">base.py</span></a><span style=\"color: #7f7f7f; text-decoration-color: #7f7f7f\">:</span><a href=\"file:///home/zhang/Projects/3d/ProteinWorkshop/proteinworkshop/datasets/base.py#357\" target=\"_blank\"><span style=\"color: #7f7f7f; text-decoration-color: #7f7f7f\">357</span></a>\n",
       "<span style=\"color: #7fbfbf; text-decoration-color: #7fbfbf\">                    </span>         have already been downloaded                                               <span style=\"color: #7f7f7f; text-decoration-color: #7f7f7f\">           </span>\n",
       "</pre>\n"
      ],
      "text/plain": [
       "\u001b[2;36m                   \u001b[0m\u001b[2;36m \u001b[0m\u001b[31mWARNING \u001b[0m Downloads in .ent format are assumed to be from ASTRAL. These data should  \u001b]8;id=167356;file:///home/zhang/Projects/3d/ProteinWorkshop/proteinworkshop/datasets/base.py\u001b\\\u001b[2mbase.py\u001b[0m\u001b]8;;\u001b\\\u001b[2m:\u001b[0m\u001b]8;id=995289;file:///home/zhang/Projects/3d/ProteinWorkshop/proteinworkshop/datasets/base.py#357\u001b\\\u001b[2m357\u001b[0m\u001b]8;;\u001b\\\n",
       "\u001b[2;36m                    \u001b[0m         have already been downloaded                                               \u001b[2m           \u001b[0m\n"
      ]
     },
     "metadata": {},
     "output_type": "display_data"
    },
    {
     "data": {
      "text/html": [
       "<pre style=\"white-space:pre;overflow-x:auto;line-height:normal;font-family:Menlo,'DejaVu Sans Mono',consolas,'Courier New',monospace\"><span style=\"color: #7fbfbf; text-decoration-color: #7fbfbf\">                    </span><span style=\"color: #000080; text-decoration-color: #000080\">INFO    </span> Reading data into memory                                                   <a href=\"file:///home/zhang/Projects/3d/ProteinWorkshop/proteinworkshop/datasets/base.py\" target=\"_blank\"><span style=\"color: #7f7f7f; text-decoration-color: #7f7f7f\">base.py</span></a><span style=\"color: #7f7f7f; text-decoration-color: #7f7f7f\">:</span><a href=\"file:///home/zhang/Projects/3d/ProteinWorkshop/proteinworkshop/datasets/base.py#337\" target=\"_blank\"><span style=\"color: #7f7f7f; text-decoration-color: #7f7f7f\">337</span></a>\n",
       "</pre>\n"
      ],
      "text/plain": [
       "\u001b[2;36m                   \u001b[0m\u001b[2;36m \u001b[0m\u001b[34mINFO    \u001b[0m Reading data into memory                                                   \u001b]8;id=431674;file:///home/zhang/Projects/3d/ProteinWorkshop/proteinworkshop/datasets/base.py\u001b\\\u001b[2mbase.py\u001b[0m\u001b]8;;\u001b\\\u001b[2m:\u001b[0m\u001b]8;id=560449;file:///home/zhang/Projects/3d/ProteinWorkshop/proteinworkshop/datasets/base.py#337\u001b\\\u001b[2m337\u001b[0m\u001b]8;;\u001b\\\n"
      ]
     },
     "metadata": {},
     "output_type": "display_data"
    },
    {
     "name": "stderr",
     "output_type": "stream",
     "text": [
      "100%|██████████| 736/736 [00:00<00:00, 4869.51it/s]\n"
     ]
    },
    {
     "data": {
      "text/html": [
       "<pre style=\"white-space:pre;overflow-x:auto;line-height:normal;font-family:Menlo,'DejaVu Sans Mono',consolas,'Courier New',monospace\"><span style=\"color: #7fbfbf; text-decoration-color: #7fbfbf\">[07/31/24 15:42:51] </span><span style=\"color: #000080; text-decoration-color: #000080\">INFO    </span> Unfeaturized batch: <span style=\"color: #800080; text-decoration-color: #800080; font-weight: bold\">DataProteinBatch</span><span style=\"font-weight: bold\">(</span><span style=\"color: #808000; text-decoration-color: #808000\">fill_value</span>=<span style=\"color: #008080; text-decoration-color: #008080; font-weight: bold\">1e-05</span>, <span style=\"color: #808000; text-decoration-color: #808000\">atom_list</span>=<span style=\"font-weight: bold\">[</span><span style=\"color: #008080; text-decoration-color: #008080; font-weight: bold\">37</span><span style=\"font-weight: bold\">]</span>, <a href=\"file:///home/zhang/Projects/3d/ProteinWorkshop/proteinworkshop/finetune.py\" target=\"_blank\"><span style=\"color: #7f7f7f; text-decoration-color: #7f7f7f\">finetune.py</span></a><span style=\"color: #7f7f7f; text-decoration-color: #7f7f7f\">:</span><a href=\"file:///home/zhang/Projects/3d/ProteinWorkshop/proteinworkshop/finetune.py#150\" target=\"_blank\"><span style=\"color: #7f7f7f; text-decoration-color: #7f7f7f\">150</span></a>\n",
       "<span style=\"color: #7fbfbf; text-decoration-color: #7fbfbf\">                    </span>         <span style=\"color: #808000; text-decoration-color: #808000\">coords</span>=<span style=\"font-weight: bold\">[</span><span style=\"color: #008080; text-decoration-color: #008080; font-weight: bold\">7747</span>, <span style=\"color: #008080; text-decoration-color: #008080; font-weight: bold\">37</span>, <span style=\"color: #008080; text-decoration-color: #008080; font-weight: bold\">3</span><span style=\"font-weight: bold\">]</span>, <span style=\"color: #808000; text-decoration-color: #808000\">residues</span>=<span style=\"font-weight: bold\">[</span><span style=\"color: #008080; text-decoration-color: #008080; font-weight: bold\">32</span><span style=\"font-weight: bold\">]</span>, <span style=\"color: #808000; text-decoration-color: #808000\">id</span>=<span style=\"font-weight: bold\">[</span><span style=\"color: #008080; text-decoration-color: #008080; font-weight: bold\">32</span><span style=\"font-weight: bold\">]</span>, <span style=\"color: #808000; text-decoration-color: #808000\">residue_id</span>=<span style=\"font-weight: bold\">[</span><span style=\"color: #008080; text-decoration-color: #008080; font-weight: bold\">32</span><span style=\"font-weight: bold\">]</span>,         <span style=\"color: #7f7f7f; text-decoration-color: #7f7f7f\">               </span>\n",
       "<span style=\"color: #7fbfbf; text-decoration-color: #7fbfbf\">                    </span>         <span style=\"color: #808000; text-decoration-color: #808000\">residue_type</span>=<span style=\"font-weight: bold\">[</span><span style=\"color: #008080; text-decoration-color: #008080; font-weight: bold\">7747</span><span style=\"font-weight: bold\">]</span>, <span style=\"color: #808000; text-decoration-color: #808000\">chains</span>=<span style=\"font-weight: bold\">[</span><span style=\"color: #008080; text-decoration-color: #008080; font-weight: bold\">7747</span><span style=\"font-weight: bold\">]</span>, <span style=\"color: #808000; text-decoration-color: #808000\">graph_y</span>=<span style=\"font-weight: bold\">[</span><span style=\"color: #008080; text-decoration-color: #008080; font-weight: bold\">32</span><span style=\"font-weight: bold\">]</span>, <span style=\"color: #808000; text-decoration-color: #808000\">x</span>=<span style=\"font-weight: bold\">[</span><span style=\"color: #008080; text-decoration-color: #008080; font-weight: bold\">7747</span><span style=\"font-weight: bold\">]</span>,            <span style=\"color: #7f7f7f; text-decoration-color: #7f7f7f\">               </span>\n",
       "<span style=\"color: #7fbfbf; text-decoration-color: #7fbfbf\">                    </span>         <span style=\"color: #808000; text-decoration-color: #808000\">amino_acid_one_hot</span>=<span style=\"font-weight: bold\">[</span><span style=\"color: #008080; text-decoration-color: #008080; font-weight: bold\">7747</span>, <span style=\"color: #008080; text-decoration-color: #008080; font-weight: bold\">23</span><span style=\"font-weight: bold\">]</span>, <span style=\"color: #808000; text-decoration-color: #808000\">seq_pos</span>=<span style=\"font-weight: bold\">[</span><span style=\"color: #008080; text-decoration-color: #008080; font-weight: bold\">7747</span>, <span style=\"color: #008080; text-decoration-color: #008080; font-weight: bold\">1</span><span style=\"font-weight: bold\">]</span>, <span style=\"color: #808000; text-decoration-color: #808000\">batch</span>=<span style=\"font-weight: bold\">[</span><span style=\"color: #008080; text-decoration-color: #008080; font-weight: bold\">7747</span><span style=\"font-weight: bold\">]</span>,        <span style=\"color: #7f7f7f; text-decoration-color: #7f7f7f\">               </span>\n",
       "<span style=\"color: #7fbfbf; text-decoration-color: #7fbfbf\">                    </span>         <span style=\"color: #808000; text-decoration-color: #808000\">ptr</span>=<span style=\"font-weight: bold\">[</span><span style=\"color: #008080; text-decoration-color: #008080; font-weight: bold\">33</span><span style=\"font-weight: bold\">])</span>                                                              <span style=\"color: #7f7f7f; text-decoration-color: #7f7f7f\">               </span>\n",
       "</pre>\n"
      ],
      "text/plain": [
       "\u001b[2;36m[07/31/24 15:42:51]\u001b[0m\u001b[2;36m \u001b[0m\u001b[34mINFO    \u001b[0m Unfeaturized batch: \u001b[1;35mDataProteinBatch\u001b[0m\u001b[1m(\u001b[0m\u001b[33mfill_value\u001b[0m=\u001b[1;36m1e\u001b[0m\u001b[1;36m-05\u001b[0m, \u001b[33matom_list\u001b[0m=\u001b[1m[\u001b[0m\u001b[1;36m37\u001b[0m\u001b[1m]\u001b[0m, \u001b]8;id=746616;file:///home/zhang/Projects/3d/ProteinWorkshop/proteinworkshop/finetune.py\u001b\\\u001b[2mfinetune.py\u001b[0m\u001b]8;;\u001b\\\u001b[2m:\u001b[0m\u001b]8;id=85776;file:///home/zhang/Projects/3d/ProteinWorkshop/proteinworkshop/finetune.py#150\u001b\\\u001b[2m150\u001b[0m\u001b]8;;\u001b\\\n",
       "\u001b[2;36m                    \u001b[0m         \u001b[33mcoords\u001b[0m=\u001b[1m[\u001b[0m\u001b[1;36m7747\u001b[0m, \u001b[1;36m37\u001b[0m, \u001b[1;36m3\u001b[0m\u001b[1m]\u001b[0m, \u001b[33mresidues\u001b[0m=\u001b[1m[\u001b[0m\u001b[1;36m32\u001b[0m\u001b[1m]\u001b[0m, \u001b[33mid\u001b[0m=\u001b[1m[\u001b[0m\u001b[1;36m32\u001b[0m\u001b[1m]\u001b[0m, \u001b[33mresidue_id\u001b[0m=\u001b[1m[\u001b[0m\u001b[1;36m32\u001b[0m\u001b[1m]\u001b[0m,         \u001b[2m               \u001b[0m\n",
       "\u001b[2;36m                    \u001b[0m         \u001b[33mresidue_type\u001b[0m=\u001b[1m[\u001b[0m\u001b[1;36m7747\u001b[0m\u001b[1m]\u001b[0m, \u001b[33mchains\u001b[0m=\u001b[1m[\u001b[0m\u001b[1;36m7747\u001b[0m\u001b[1m]\u001b[0m, \u001b[33mgraph_y\u001b[0m=\u001b[1m[\u001b[0m\u001b[1;36m32\u001b[0m\u001b[1m]\u001b[0m, \u001b[33mx\u001b[0m=\u001b[1m[\u001b[0m\u001b[1;36m7747\u001b[0m\u001b[1m]\u001b[0m,            \u001b[2m               \u001b[0m\n",
       "\u001b[2;36m                    \u001b[0m         \u001b[33mamino_acid_one_hot\u001b[0m=\u001b[1m[\u001b[0m\u001b[1;36m7747\u001b[0m, \u001b[1;36m23\u001b[0m\u001b[1m]\u001b[0m, \u001b[33mseq_pos\u001b[0m=\u001b[1m[\u001b[0m\u001b[1;36m7747\u001b[0m, \u001b[1;36m1\u001b[0m\u001b[1m]\u001b[0m, \u001b[33mbatch\u001b[0m=\u001b[1m[\u001b[0m\u001b[1;36m7747\u001b[0m\u001b[1m]\u001b[0m,        \u001b[2m               \u001b[0m\n",
       "\u001b[2;36m                    \u001b[0m         \u001b[33mptr\u001b[0m=\u001b[1m[\u001b[0m\u001b[1;36m33\u001b[0m\u001b[1m]\u001b[0m\u001b[1m)\u001b[0m                                                              \u001b[2m               \u001b[0m\n"
      ]
     },
     "metadata": {},
     "output_type": "display_data"
    },
    {
     "data": {
      "text/html": [
       "<pre style=\"white-space:pre;overflow-x:auto;line-height:normal;font-family:Menlo,'DejaVu Sans Mono',consolas,'Courier New',monospace\"><span style=\"color: #7fbfbf; text-decoration-color: #7fbfbf\">                    </span><span style=\"color: #000080; text-decoration-color: #000080\">INFO    </span> Featurized batch: <span style=\"color: #800080; text-decoration-color: #800080; font-weight: bold\">DataProteinBatch</span><span style=\"font-weight: bold\">(</span><span style=\"color: #808000; text-decoration-color: #808000\">fill_value</span>=<span style=\"color: #008080; text-decoration-color: #008080; font-weight: bold\">1e-05</span>, <span style=\"color: #808000; text-decoration-color: #808000\">atom_list</span>=<span style=\"font-weight: bold\">[</span><span style=\"color: #008080; text-decoration-color: #008080; font-weight: bold\">37</span><span style=\"font-weight: bold\">]</span>,   <a href=\"file:///home/zhang/Projects/3d/ProteinWorkshop/proteinworkshop/finetune.py\" target=\"_blank\"><span style=\"color: #7f7f7f; text-decoration-color: #7f7f7f\">finetune.py</span></a><span style=\"color: #7f7f7f; text-decoration-color: #7f7f7f\">:</span><a href=\"file:///home/zhang/Projects/3d/ProteinWorkshop/proteinworkshop/finetune.py#152\" target=\"_blank\"><span style=\"color: #7f7f7f; text-decoration-color: #7f7f7f\">152</span></a>\n",
       "<span style=\"color: #7fbfbf; text-decoration-color: #7fbfbf\">                    </span>         <span style=\"color: #808000; text-decoration-color: #808000\">coords</span>=<span style=\"font-weight: bold\">[</span><span style=\"color: #008080; text-decoration-color: #008080; font-weight: bold\">7747</span>, <span style=\"color: #008080; text-decoration-color: #008080; font-weight: bold\">37</span>, <span style=\"color: #008080; text-decoration-color: #008080; font-weight: bold\">3</span><span style=\"font-weight: bold\">]</span>, <span style=\"color: #808000; text-decoration-color: #808000\">residues</span>=<span style=\"font-weight: bold\">[</span><span style=\"color: #008080; text-decoration-color: #008080; font-weight: bold\">32</span><span style=\"font-weight: bold\">]</span>, <span style=\"color: #808000; text-decoration-color: #808000\">id</span>=<span style=\"font-weight: bold\">[</span><span style=\"color: #008080; text-decoration-color: #008080; font-weight: bold\">32</span><span style=\"font-weight: bold\">]</span>, <span style=\"color: #808000; text-decoration-color: #808000\">residue_id</span>=<span style=\"font-weight: bold\">[</span><span style=\"color: #008080; text-decoration-color: #008080; font-weight: bold\">32</span><span style=\"font-weight: bold\">]</span>,         <span style=\"color: #7f7f7f; text-decoration-color: #7f7f7f\">               </span>\n",
       "<span style=\"color: #7fbfbf; text-decoration-color: #7fbfbf\">                    </span>         <span style=\"color: #808000; text-decoration-color: #808000\">residue_type</span>=<span style=\"font-weight: bold\">[</span><span style=\"color: #008080; text-decoration-color: #008080; font-weight: bold\">7747</span><span style=\"font-weight: bold\">]</span>, <span style=\"color: #808000; text-decoration-color: #808000\">chains</span>=<span style=\"font-weight: bold\">[</span><span style=\"color: #008080; text-decoration-color: #008080; font-weight: bold\">7747</span><span style=\"font-weight: bold\">]</span>, <span style=\"color: #808000; text-decoration-color: #808000\">graph_y</span>=<span style=\"font-weight: bold\">[</span><span style=\"color: #008080; text-decoration-color: #008080; font-weight: bold\">32</span><span style=\"font-weight: bold\">]</span>, <span style=\"color: #808000; text-decoration-color: #808000\">x</span>=<span style=\"font-weight: bold\">[</span><span style=\"color: #008080; text-decoration-color: #008080; font-weight: bold\">7747</span>, <span style=\"color: #008080; text-decoration-color: #008080; font-weight: bold\">49</span><span style=\"font-weight: bold\">]</span>,        <span style=\"color: #7f7f7f; text-decoration-color: #7f7f7f\">               </span>\n",
       "<span style=\"color: #7fbfbf; text-decoration-color: #7fbfbf\">                    </span>         <span style=\"color: #808000; text-decoration-color: #808000\">amino_acid_one_hot</span>=<span style=\"font-weight: bold\">[</span><span style=\"color: #008080; text-decoration-color: #008080; font-weight: bold\">7747</span>, <span style=\"color: #008080; text-decoration-color: #008080; font-weight: bold\">23</span><span style=\"font-weight: bold\">]</span>, <span style=\"color: #808000; text-decoration-color: #808000\">seq_pos</span>=<span style=\"font-weight: bold\">[</span><span style=\"color: #008080; text-decoration-color: #008080; font-weight: bold\">7747</span>, <span style=\"color: #008080; text-decoration-color: #008080; font-weight: bold\">1</span><span style=\"font-weight: bold\">]</span>, <span style=\"color: #808000; text-decoration-color: #808000\">batch</span>=<span style=\"font-weight: bold\">[</span><span style=\"color: #008080; text-decoration-color: #008080; font-weight: bold\">7747</span><span style=\"font-weight: bold\">]</span>,        <span style=\"color: #7f7f7f; text-decoration-color: #7f7f7f\">               </span>\n",
       "<span style=\"color: #7fbfbf; text-decoration-color: #7fbfbf\">                    </span>         <span style=\"color: #808000; text-decoration-color: #808000\">ptr</span>=<span style=\"font-weight: bold\">[</span><span style=\"color: #008080; text-decoration-color: #008080; font-weight: bold\">33</span><span style=\"font-weight: bold\">]</span>, <span style=\"color: #808000; text-decoration-color: #808000\">pos</span>=<span style=\"font-weight: bold\">[</span><span style=\"color: #008080; text-decoration-color: #008080; font-weight: bold\">7747</span>, <span style=\"color: #008080; text-decoration-color: #008080; font-weight: bold\">3</span><span style=\"font-weight: bold\">]</span>, <span style=\"color: #808000; text-decoration-color: #808000\">edge_index</span>=<span style=\"font-weight: bold\">[</span><span style=\"color: #008080; text-decoration-color: #008080; font-weight: bold\">2</span>, <span style=\"color: #008080; text-decoration-color: #008080; font-weight: bold\">123952</span><span style=\"font-weight: bold\">]</span>, <span style=\"color: #808000; text-decoration-color: #808000\">edge_type</span>=<span style=\"font-weight: bold\">[</span><span style=\"color: #008080; text-decoration-color: #008080; font-weight: bold\">1</span>,         <span style=\"color: #7f7f7f; text-decoration-color: #7f7f7f\">               </span>\n",
       "<span style=\"color: #7fbfbf; text-decoration-color: #7fbfbf\">                    </span>         <span style=\"color: #008080; text-decoration-color: #008080; font-weight: bold\">123952</span><span style=\"font-weight: bold\">]</span>, <span style=\"color: #808000; text-decoration-color: #808000\">num_relation</span>=<span style=\"color: #008080; text-decoration-color: #008080; font-weight: bold\">1</span>, <span style=\"color: #808000; text-decoration-color: #808000\">edge_attr</span>=<span style=\"font-weight: bold\">[</span><span style=\"color: #008080; text-decoration-color: #008080; font-weight: bold\">123952</span>, <span style=\"color: #008080; text-decoration-color: #008080; font-weight: bold\">1</span><span style=\"font-weight: bold\">])</span>                        <span style=\"color: #7f7f7f; text-decoration-color: #7f7f7f\">               </span>\n",
       "</pre>\n"
      ],
      "text/plain": [
       "\u001b[2;36m                   \u001b[0m\u001b[2;36m \u001b[0m\u001b[34mINFO    \u001b[0m Featurized batch: \u001b[1;35mDataProteinBatch\u001b[0m\u001b[1m(\u001b[0m\u001b[33mfill_value\u001b[0m=\u001b[1;36m1e\u001b[0m\u001b[1;36m-05\u001b[0m, \u001b[33matom_list\u001b[0m=\u001b[1m[\u001b[0m\u001b[1;36m37\u001b[0m\u001b[1m]\u001b[0m,   \u001b]8;id=405975;file:///home/zhang/Projects/3d/ProteinWorkshop/proteinworkshop/finetune.py\u001b\\\u001b[2mfinetune.py\u001b[0m\u001b]8;;\u001b\\\u001b[2m:\u001b[0m\u001b]8;id=843316;file:///home/zhang/Projects/3d/ProteinWorkshop/proteinworkshop/finetune.py#152\u001b\\\u001b[2m152\u001b[0m\u001b]8;;\u001b\\\n",
       "\u001b[2;36m                    \u001b[0m         \u001b[33mcoords\u001b[0m=\u001b[1m[\u001b[0m\u001b[1;36m7747\u001b[0m, \u001b[1;36m37\u001b[0m, \u001b[1;36m3\u001b[0m\u001b[1m]\u001b[0m, \u001b[33mresidues\u001b[0m=\u001b[1m[\u001b[0m\u001b[1;36m32\u001b[0m\u001b[1m]\u001b[0m, \u001b[33mid\u001b[0m=\u001b[1m[\u001b[0m\u001b[1;36m32\u001b[0m\u001b[1m]\u001b[0m, \u001b[33mresidue_id\u001b[0m=\u001b[1m[\u001b[0m\u001b[1;36m32\u001b[0m\u001b[1m]\u001b[0m,         \u001b[2m               \u001b[0m\n",
       "\u001b[2;36m                    \u001b[0m         \u001b[33mresidue_type\u001b[0m=\u001b[1m[\u001b[0m\u001b[1;36m7747\u001b[0m\u001b[1m]\u001b[0m, \u001b[33mchains\u001b[0m=\u001b[1m[\u001b[0m\u001b[1;36m7747\u001b[0m\u001b[1m]\u001b[0m, \u001b[33mgraph_y\u001b[0m=\u001b[1m[\u001b[0m\u001b[1;36m32\u001b[0m\u001b[1m]\u001b[0m, \u001b[33mx\u001b[0m=\u001b[1m[\u001b[0m\u001b[1;36m7747\u001b[0m, \u001b[1;36m49\u001b[0m\u001b[1m]\u001b[0m,        \u001b[2m               \u001b[0m\n",
       "\u001b[2;36m                    \u001b[0m         \u001b[33mamino_acid_one_hot\u001b[0m=\u001b[1m[\u001b[0m\u001b[1;36m7747\u001b[0m, \u001b[1;36m23\u001b[0m\u001b[1m]\u001b[0m, \u001b[33mseq_pos\u001b[0m=\u001b[1m[\u001b[0m\u001b[1;36m7747\u001b[0m, \u001b[1;36m1\u001b[0m\u001b[1m]\u001b[0m, \u001b[33mbatch\u001b[0m=\u001b[1m[\u001b[0m\u001b[1;36m7747\u001b[0m\u001b[1m]\u001b[0m,        \u001b[2m               \u001b[0m\n",
       "\u001b[2;36m                    \u001b[0m         \u001b[33mptr\u001b[0m=\u001b[1m[\u001b[0m\u001b[1;36m33\u001b[0m\u001b[1m]\u001b[0m, \u001b[33mpos\u001b[0m=\u001b[1m[\u001b[0m\u001b[1;36m7747\u001b[0m, \u001b[1;36m3\u001b[0m\u001b[1m]\u001b[0m, \u001b[33medge_index\u001b[0m=\u001b[1m[\u001b[0m\u001b[1;36m2\u001b[0m, \u001b[1;36m123952\u001b[0m\u001b[1m]\u001b[0m, \u001b[33medge_type\u001b[0m=\u001b[1m[\u001b[0m\u001b[1;36m1\u001b[0m,         \u001b[2m               \u001b[0m\n",
       "\u001b[2;36m                    \u001b[0m         \u001b[1;36m123952\u001b[0m\u001b[1m]\u001b[0m, \u001b[33mnum_relation\u001b[0m=\u001b[1;36m1\u001b[0m, \u001b[33medge_attr\u001b[0m=\u001b[1m[\u001b[0m\u001b[1;36m123952\u001b[0m, \u001b[1;36m1\u001b[0m\u001b[1m]\u001b[0m\u001b[1m)\u001b[0m                        \u001b[2m               \u001b[0m\n"
      ]
     },
     "metadata": {},
     "output_type": "display_data"
    },
    {
     "data": {
      "text/html": [
       "<pre style=\"white-space:pre;overflow-x:auto;line-height:normal;font-family:Menlo,'DejaVu Sans Mono',consolas,'Courier New',monospace\"><span style=\"color: #7fbfbf; text-decoration-color: #7fbfbf\">                    </span><span style=\"color: #000080; text-decoration-color: #000080\">INFO    </span> Example labels: <span style=\"font-weight: bold\">{</span><span style=\"color: #008000; text-decoration-color: #008000\">'graph_label'</span>: tensor<span style=\"font-weight: bold\">[</span><span style=\"color: #008080; text-decoration-color: #008080; font-weight: bold\">32</span><span style=\"font-weight: bold\">]</span> i64 x∈<span style=\"font-weight: bold\">[</span><span style=\"color: #008080; text-decoration-color: #008080; font-weight: bold\">0</span>, <span style=\"color: #008080; text-decoration-color: #008080; font-weight: bold\">128</span><span style=\"font-weight: bold\">]</span> <span style=\"color: #808000; text-decoration-color: #808000\">μ</span>=<span style=\"color: #008080; text-decoration-color: #008080; font-weight: bold\">103.312</span>    <a href=\"file:///home/zhang/Projects/3d/ProteinWorkshop/proteinworkshop/finetune.py\" target=\"_blank\"><span style=\"color: #7f7f7f; text-decoration-color: #7f7f7f\">finetune.py</span></a><span style=\"color: #7f7f7f; text-decoration-color: #7f7f7f\">:</span><a href=\"file:///home/zhang/Projects/3d/ProteinWorkshop/proteinworkshop/finetune.py#153\" target=\"_blank\"><span style=\"color: #7f7f7f; text-decoration-color: #7f7f7f\">153</span></a>\n",
       "<span style=\"color: #7fbfbf; text-decoration-color: #7fbfbf\">                    </span>         <span style=\"color: #808000; text-decoration-color: #808000\">σ</span>=<span style=\"color: #008080; text-decoration-color: #008080; font-weight: bold\">34.218</span><span style=\"font-weight: bold\">}</span>                                                              <span style=\"color: #7f7f7f; text-decoration-color: #7f7f7f\">               </span>\n",
       "</pre>\n"
      ],
      "text/plain": [
       "\u001b[2;36m                   \u001b[0m\u001b[2;36m \u001b[0m\u001b[34mINFO    \u001b[0m Example labels: \u001b[1m{\u001b[0m\u001b[32m'graph_label'\u001b[0m: tensor\u001b[1m[\u001b[0m\u001b[1;36m32\u001b[0m\u001b[1m]\u001b[0m i64 x∈\u001b[1m[\u001b[0m\u001b[1;36m0\u001b[0m, \u001b[1;36m128\u001b[0m\u001b[1m]\u001b[0m \u001b[33mμ\u001b[0m=\u001b[1;36m103\u001b[0m\u001b[1;36m.312\u001b[0m    \u001b]8;id=83953;file:///home/zhang/Projects/3d/ProteinWorkshop/proteinworkshop/finetune.py\u001b\\\u001b[2mfinetune.py\u001b[0m\u001b]8;;\u001b\\\u001b[2m:\u001b[0m\u001b]8;id=315852;file:///home/zhang/Projects/3d/ProteinWorkshop/proteinworkshop/finetune.py#153\u001b\\\u001b[2m153\u001b[0m\u001b]8;;\u001b\\\n",
       "\u001b[2;36m                    \u001b[0m         \u001b[33mσ\u001b[0m=\u001b[1;36m34\u001b[0m\u001b[1;36m.218\u001b[0m\u001b[1m}\u001b[0m                                                              \u001b[2m               \u001b[0m\n"
      ]
     },
     "metadata": {},
     "output_type": "display_data"
    },
    {
     "data": {
      "text/html": [
       "<pre style=\"white-space:pre;overflow-x:auto;line-height:normal;font-family:Menlo,'DejaVu Sans Mono',consolas,'Courier New',monospace\"><span style=\"color: #7fbfbf; text-decoration-color: #7fbfbf\">[07/31/24 15:42:52] </span><span style=\"color: #000080; text-decoration-color: #000080\">INFO    </span> Model output: <span style=\"font-weight: bold\">{</span><span style=\"color: #008000; text-decoration-color: #008000\">'node_embedding'</span>: tensor<span style=\"font-weight: bold\">[</span><span style=\"color: #008080; text-decoration-color: #008080; font-weight: bold\">7747</span>, <span style=\"color: #008080; text-decoration-color: #008080; font-weight: bold\">32</span><span style=\"font-weight: bold\">]</span> <span style=\"color: #808000; text-decoration-color: #808000\">n</span>=<span style=\"color: #008080; text-decoration-color: #008080; font-weight: bold\">247904</span> <span style=\"font-weight: bold\">(</span><span style=\"color: #008080; text-decoration-color: #008080; font-weight: bold\">0.</span>9Mb<span style=\"font-weight: bold\">)</span>     <a href=\"file:///home/zhang/Projects/3d/ProteinWorkshop/proteinworkshop/finetune.py\" target=\"_blank\"><span style=\"color: #7f7f7f; text-decoration-color: #7f7f7f\">finetune.py</span></a><span style=\"color: #7f7f7f; text-decoration-color: #7f7f7f\">:</span><a href=\"file:///home/zhang/Projects/3d/ProteinWorkshop/proteinworkshop/finetune.py#161\" target=\"_blank\"><span style=\"color: #7f7f7f; text-decoration-color: #7f7f7f\">161</span></a>\n",
       "<span style=\"color: #7fbfbf; text-decoration-color: #7fbfbf\">                    </span>         x∈<span style=\"font-weight: bold\">[</span><span style=\"color: #008080; text-decoration-color: #008080; font-weight: bold\">-0.376</span>, <span style=\"color: #008080; text-decoration-color: #008080; font-weight: bold\">0.428</span><span style=\"font-weight: bold\">]</span> <span style=\"color: #808000; text-decoration-color: #808000\">μ</span>=<span style=\"color: #008080; text-decoration-color: #008080; font-weight: bold\">0.011</span> <span style=\"color: #808000; text-decoration-color: #808000\">σ</span>=<span style=\"color: #008080; text-decoration-color: #008080; font-weight: bold\">0.107</span>, <span style=\"color: #008000; text-decoration-color: #008000\">'graph_embedding'</span>: tensor<span style=\"font-weight: bold\">[</span><span style=\"color: #008080; text-decoration-color: #008080; font-weight: bold\">32</span>, <span style=\"color: #008080; text-decoration-color: #008080; font-weight: bold\">32</span><span style=\"font-weight: bold\">]</span>   <span style=\"color: #7f7f7f; text-decoration-color: #7f7f7f\">               </span>\n",
       "<span style=\"color: #7fbfbf; text-decoration-color: #7fbfbf\">                    </span>         <span style=\"color: #808000; text-decoration-color: #808000\">n</span>=<span style=\"color: #008080; text-decoration-color: #008080; font-weight: bold\">1024</span> <span style=\"font-weight: bold\">(</span>4Kb<span style=\"font-weight: bold\">)</span> x∈<span style=\"font-weight: bold\">[</span><span style=\"color: #008080; text-decoration-color: #008080; font-weight: bold\">-91.524</span>, <span style=\"color: #008080; text-decoration-color: #008080; font-weight: bold\">85.643</span><span style=\"font-weight: bold\">]</span> <span style=\"color: #808000; text-decoration-color: #808000\">μ</span>=<span style=\"color: #008080; text-decoration-color: #008080; font-weight: bold\">2.723</span> <span style=\"color: #808000; text-decoration-color: #808000\">σ</span>=<span style=\"color: #008080; text-decoration-color: #008080; font-weight: bold\">21.861</span>, <span style=\"color: #008000; text-decoration-color: #008000\">'graph_label'</span>:      <span style=\"color: #7f7f7f; text-decoration-color: #7f7f7f\">               </span>\n",
       "<span style=\"color: #7fbfbf; text-decoration-color: #7fbfbf\">                    </span>         tensor<span style=\"font-weight: bold\">[</span><span style=\"color: #008080; text-decoration-color: #008080; font-weight: bold\">32</span>, <span style=\"color: #008080; text-decoration-color: #008080; font-weight: bold\">1195</span><span style=\"font-weight: bold\">]</span> <span style=\"color: #808000; text-decoration-color: #808000\">n</span>=<span style=\"color: #008080; text-decoration-color: #008080; font-weight: bold\">38240</span> <span style=\"font-weight: bold\">(</span><span style=\"color: #008080; text-decoration-color: #008080; font-weight: bold\">0.</span>1Mb<span style=\"font-weight: bold\">)</span> x∈<span style=\"font-weight: bold\">[</span><span style=\"color: #008080; text-decoration-color: #008080; font-weight: bold\">-28.884</span>, <span style=\"color: #008080; text-decoration-color: #008080; font-weight: bold\">24.269</span><span style=\"font-weight: bold\">]</span> <span style=\"color: #808000; text-decoration-color: #808000\">μ</span>=<span style=\"color: #008080; text-decoration-color: #008080; font-weight: bold\">0.077</span> <span style=\"color: #808000; text-decoration-color: #808000\">σ</span>=<span style=\"color: #008080; text-decoration-color: #008080; font-weight: bold\">4.254</span><span style=\"font-weight: bold\">}</span>  <span style=\"color: #7f7f7f; text-decoration-color: #7f7f7f\">               </span>\n",
       "</pre>\n"
      ],
      "text/plain": [
       "\u001b[2;36m[07/31/24 15:42:52]\u001b[0m\u001b[2;36m \u001b[0m\u001b[34mINFO    \u001b[0m Model output: \u001b[1m{\u001b[0m\u001b[32m'node_embedding'\u001b[0m: tensor\u001b[1m[\u001b[0m\u001b[1;36m7747\u001b[0m, \u001b[1;36m32\u001b[0m\u001b[1m]\u001b[0m \u001b[33mn\u001b[0m=\u001b[1;36m247904\u001b[0m \u001b[1m(\u001b[0m\u001b[1;36m0.\u001b[0m9Mb\u001b[1m)\u001b[0m     \u001b]8;id=561031;file:///home/zhang/Projects/3d/ProteinWorkshop/proteinworkshop/finetune.py\u001b\\\u001b[2mfinetune.py\u001b[0m\u001b]8;;\u001b\\\u001b[2m:\u001b[0m\u001b]8;id=123257;file:///home/zhang/Projects/3d/ProteinWorkshop/proteinworkshop/finetune.py#161\u001b\\\u001b[2m161\u001b[0m\u001b]8;;\u001b\\\n",
       "\u001b[2;36m                    \u001b[0m         x∈\u001b[1m[\u001b[0m\u001b[1;36m-0.376\u001b[0m, \u001b[1;36m0.428\u001b[0m\u001b[1m]\u001b[0m \u001b[33mμ\u001b[0m=\u001b[1;36m0\u001b[0m\u001b[1;36m.011\u001b[0m \u001b[33mσ\u001b[0m=\u001b[1;36m0\u001b[0m\u001b[1;36m.107\u001b[0m, \u001b[32m'graph_embedding'\u001b[0m: tensor\u001b[1m[\u001b[0m\u001b[1;36m32\u001b[0m, \u001b[1;36m32\u001b[0m\u001b[1m]\u001b[0m   \u001b[2m               \u001b[0m\n",
       "\u001b[2;36m                    \u001b[0m         \u001b[33mn\u001b[0m=\u001b[1;36m1024\u001b[0m \u001b[1m(\u001b[0m4Kb\u001b[1m)\u001b[0m x∈\u001b[1m[\u001b[0m\u001b[1;36m-91.524\u001b[0m, \u001b[1;36m85.643\u001b[0m\u001b[1m]\u001b[0m \u001b[33mμ\u001b[0m=\u001b[1;36m2\u001b[0m\u001b[1;36m.723\u001b[0m \u001b[33mσ\u001b[0m=\u001b[1;36m21\u001b[0m\u001b[1;36m.861\u001b[0m, \u001b[32m'graph_label'\u001b[0m:      \u001b[2m               \u001b[0m\n",
       "\u001b[2;36m                    \u001b[0m         tensor\u001b[1m[\u001b[0m\u001b[1;36m32\u001b[0m, \u001b[1;36m1195\u001b[0m\u001b[1m]\u001b[0m \u001b[33mn\u001b[0m=\u001b[1;36m38240\u001b[0m \u001b[1m(\u001b[0m\u001b[1;36m0.\u001b[0m1Mb\u001b[1m)\u001b[0m x∈\u001b[1m[\u001b[0m\u001b[1;36m-28.884\u001b[0m, \u001b[1;36m24.269\u001b[0m\u001b[1m]\u001b[0m \u001b[33mμ\u001b[0m=\u001b[1;36m0\u001b[0m\u001b[1;36m.077\u001b[0m \u001b[33mσ\u001b[0m=\u001b[1;36m4\u001b[0m\u001b[1;36m.254\u001b[0m\u001b[1m}\u001b[0m  \u001b[2m               \u001b[0m\n"
      ]
     },
     "metadata": {},
     "output_type": "display_data"
    },
    {
     "data": {
      "text/html": [
       "<pre style=\"white-space:pre;overflow-x:auto;line-height:normal;font-family:Menlo,'DejaVu Sans Mono',consolas,'Courier New',monospace\"><span style=\"color: #7fbfbf; text-decoration-color: #7fbfbf\">                    </span><span style=\"color: #000080; text-decoration-color: #000080\">INFO    </span> Loading weights from checkpoint                                        <a href=\"file:///home/zhang/Projects/3d/ProteinWorkshop/proteinworkshop/finetune.py\" target=\"_blank\"><span style=\"color: #7f7f7f; text-decoration-color: #7f7f7f\">finetune.py</span></a><span style=\"color: #7f7f7f; text-decoration-color: #7f7f7f\">:</span><a href=\"file:///home/zhang/Projects/3d/ProteinWorkshop/proteinworkshop/finetune.py#165\" target=\"_blank\"><span style=\"color: #7f7f7f; text-decoration-color: #7f7f7f\">165</span></a>\n",
       "<span style=\"color: #7fbfbf; text-decoration-color: #7fbfbf\">                    </span>         <span style=\"color: #800080; text-decoration-color: #800080\">/home/zhang/Projects/3d/ProteinWorkshop/notebooks/</span><span style=\"color: #ff00ff; text-decoration-color: #ff00ff\">outputs_schnet_pretr</span> <span style=\"color: #7f7f7f; text-decoration-color: #7f7f7f\">               </span>\n",
       "<span style=\"color: #7fbfbf; text-decoration-color: #7fbfbf\">                    </span>         <span style=\"color: #ff00ff; text-decoration-color: #ff00ff\">aining_</span>@<span style=\"color: #800080; text-decoration-color: #800080; font-weight: bold\">8</span><span style=\"font-weight: bold\">(</span><span style=\"color: #008080; text-decoration-color: #008080; font-weight: bold\">3e-4</span>,wu,ca_bb_pos<span style=\"font-weight: bold\">)</span><span style=\"color: #800080; text-decoration-color: #800080\">/checkpoints/</span><span style=\"color: #ff00ff; text-decoration-color: #ff00ff\">epoch_008.ckpt...</span>             <span style=\"color: #7f7f7f; text-decoration-color: #7f7f7f\">               </span>\n",
       "</pre>\n"
      ],
      "text/plain": [
       "\u001b[2;36m                   \u001b[0m\u001b[2;36m \u001b[0m\u001b[34mINFO    \u001b[0m Loading weights from checkpoint                                        \u001b]8;id=403619;file:///home/zhang/Projects/3d/ProteinWorkshop/proteinworkshop/finetune.py\u001b\\\u001b[2mfinetune.py\u001b[0m\u001b]8;;\u001b\\\u001b[2m:\u001b[0m\u001b]8;id=824081;file:///home/zhang/Projects/3d/ProteinWorkshop/proteinworkshop/finetune.py#165\u001b\\\u001b[2m165\u001b[0m\u001b]8;;\u001b\\\n",
       "\u001b[2;36m                    \u001b[0m         \u001b[35m/home/zhang/Projects/3d/ProteinWorkshop/notebooks/\u001b[0m\u001b[95moutputs_schnet_pretr\u001b[0m \u001b[2m               \u001b[0m\n",
       "\u001b[2;36m                    \u001b[0m         \u001b[95maining_\u001b[0m@\u001b[1;35m8\u001b[0m\u001b[1m(\u001b[0m\u001b[1;36m3e-4\u001b[0m,wu,ca_bb_pos\u001b[1m)\u001b[0m\u001b[35m/checkpoints/\u001b[0m\u001b[95mepoch_008.ckpt...\u001b[0m             \u001b[2m               \u001b[0m\n"
      ]
     },
     "metadata": {},
     "output_type": "display_data"
    },
    {
     "name": "stdout",
     "output_type": "stream",
     "text": [
      "{'epoch': 8, 'global_step': 122040, 'pytorch-lightning_version': '2.3.3', 'state_dict': OrderedDict([('encoder.embedding.weight', tensor[512, 49] n=25088 (98Kb) x∈[-0.279, 0.355] μ=-0.001 σ=0.088 cuda:0), ('encoder.embedding.bias', tensor[512] 2Kb x∈[-0.162, 0.157] μ=7.505e-05 σ=0.076 cuda:0), ('encoder.distance_expansion.offset', tensor[50] x∈[0., 10.000] μ=5.000 σ=2.975 cuda:0), ('encoder.interactions.0.mlp.0.weight', tensor[128, 50] n=6400 (25Kb) x∈[-0.370, 0.332] μ=-9.515e-07 σ=0.114 cuda:0), ('encoder.interactions.0.mlp.0.bias', tensor[128] x∈[-0.042, 0.047] μ=-0.001 σ=0.019 cuda:0), ('encoder.interactions.0.mlp.2.weight', tensor[128, 128] n=16384 (64Kb) x∈[-0.274, 0.254] μ=-0.000 σ=0.091 cuda:0), ('encoder.interactions.0.mlp.2.bias', tensor[128] x∈[-0.038, 0.033] μ=0.000 σ=0.015 cuda:0), ('encoder.interactions.0.conv.lin1.weight', tensor[128, 512] n=65536 (0.2Mb) x∈[-0.234, 0.235] μ=0.000 σ=0.063 cuda:0), ('encoder.interactions.0.conv.lin2.weight', tensor[512, 128] n=65536 (0.2Mb) x∈[-0.202, 0.216] μ=0.000 σ=0.062 cuda:0), ('encoder.interactions.0.conv.lin2.bias', tensor[512] 2Kb x∈[-0.028, 0.023] μ=-0.000 σ=0.009 cuda:0), ('encoder.interactions.0.conv.nn.0.weight', tensor[128, 50] n=6400 (25Kb) x∈[-0.370, 0.332] μ=-9.515e-07 σ=0.114 cuda:0), ('encoder.interactions.0.conv.nn.0.bias', tensor[128] x∈[-0.042, 0.047] μ=-0.001 σ=0.019 cuda:0), ('encoder.interactions.0.conv.nn.2.weight', tensor[128, 128] n=16384 (64Kb) x∈[-0.274, 0.254] μ=-0.000 σ=0.091 cuda:0), ('encoder.interactions.0.conv.nn.2.bias', tensor[128] x∈[-0.038, 0.033] μ=0.000 σ=0.015 cuda:0), ('encoder.interactions.0.lin.weight', tensor[512, 512] n=262144 (1Mb) x∈[-0.194, 0.199] μ=5.005e-06 σ=0.053 cuda:0), ('encoder.interactions.0.lin.bias', tensor[512] 2Kb x∈[-0.050, 0.058] μ=-0.000 σ=0.017 cuda:0), ('encoder.interactions.1.mlp.0.weight', tensor[128, 50] n=6400 (25Kb) x∈[-0.321, 0.309] μ=-0.004 σ=0.111 cuda:0), ('encoder.interactions.1.mlp.0.bias', tensor[128] x∈[-0.055, 0.046] μ=-0.004 σ=0.020 cuda:0), ('encoder.interactions.1.mlp.2.weight', tensor[128, 128] n=16384 (64Kb) x∈[-0.243, 0.229] μ=-0.001 σ=0.090 cuda:0), ('encoder.interactions.1.mlp.2.bias', tensor[128] x∈[-0.057, 0.035] μ=-0.001 σ=0.016 cuda:0), ('encoder.interactions.1.conv.lin1.weight', tensor[128, 512] n=65536 (0.2Mb) x∈[-0.203, 0.221] μ=9.965e-06 σ=0.063 cuda:0), ('encoder.interactions.1.conv.lin2.weight', tensor[512, 128] n=65536 (0.2Mb) x∈[-0.208, 0.196] μ=9.256e-05 σ=0.062 cuda:0), ('encoder.interactions.1.conv.lin2.bias', tensor[512] 2Kb x∈[-0.033, 0.030] μ=-0.000 σ=0.009 cuda:0), ('encoder.interactions.1.conv.nn.0.weight', tensor[128, 50] n=6400 (25Kb) x∈[-0.321, 0.309] μ=-0.004 σ=0.111 cuda:0), ('encoder.interactions.1.conv.nn.0.bias', tensor[128] x∈[-0.055, 0.046] μ=-0.004 σ=0.020 cuda:0), ('encoder.interactions.1.conv.nn.2.weight', tensor[128, 128] n=16384 (64Kb) x∈[-0.243, 0.229] μ=-0.001 σ=0.090 cuda:0), ('encoder.interactions.1.conv.nn.2.bias', tensor[128] x∈[-0.057, 0.035] μ=-0.001 σ=0.016 cuda:0), ('encoder.interactions.1.lin.weight', tensor[512, 512] n=262144 (1Mb) x∈[-0.182, 0.187] μ=-6.585e-06 σ=0.052 cuda:0), ('encoder.interactions.1.lin.bias', tensor[512] 2Kb x∈[-0.050, 0.053] μ=0.000 σ=0.017 cuda:0), ('encoder.interactions.2.mlp.0.weight', tensor[128, 50] n=6400 (25Kb) x∈[-0.298, 0.349] μ=-0.002 σ=0.111 cuda:0), ('encoder.interactions.2.mlp.0.bias', tensor[128] x∈[-0.059, 0.046] μ=0.001 σ=0.019 cuda:0), ('encoder.interactions.2.mlp.2.weight', tensor[128, 128] n=16384 (64Kb) x∈[-0.247, 0.271] μ=0.000 σ=0.090 cuda:0), ('encoder.interactions.2.mlp.2.bias', tensor[128] x∈[-0.035, 0.040] μ=0.002 σ=0.016 cuda:0), ('encoder.interactions.2.conv.lin1.weight', tensor[128, 512] n=65536 (0.2Mb) x∈[-0.210, 0.229] μ=0.000 σ=0.063 cuda:0), ('encoder.interactions.2.conv.lin2.weight', tensor[512, 128] n=65536 (0.2Mb) x∈[-0.196, 0.207] μ=2.391e-05 σ=0.062 cuda:0), ('encoder.interactions.2.conv.lin2.bias', tensor[512] 2Kb x∈[-0.033, 0.030] μ=-0.001 σ=0.010 cuda:0), ('encoder.interactions.2.conv.nn.0.weight', tensor[128, 50] n=6400 (25Kb) x∈[-0.298, 0.349] μ=-0.002 σ=0.111 cuda:0), ('encoder.interactions.2.conv.nn.0.bias', tensor[128] x∈[-0.059, 0.046] μ=0.001 σ=0.019 cuda:0), ('encoder.interactions.2.conv.nn.2.weight', tensor[128, 128] n=16384 (64Kb) x∈[-0.247, 0.271] μ=0.000 σ=0.090 cuda:0), ('encoder.interactions.2.conv.nn.2.bias', tensor[128] x∈[-0.035, 0.040] μ=0.002 σ=0.016 cuda:0), ('encoder.interactions.2.lin.weight', tensor[512, 512] n=262144 (1Mb) x∈[-0.193, 0.183] μ=-0.000 σ=0.052 cuda:0), ('encoder.interactions.2.lin.bias', tensor[512] 2Kb x∈[-0.044, 0.059] μ=0.001 σ=0.018 cuda:0), ('encoder.interactions.3.mlp.0.weight', tensor[128, 50] n=6400 (25Kb) x∈[-0.299, 0.290] μ=-0.001 σ=0.109 cuda:0), ('encoder.interactions.3.mlp.0.bias', tensor[128] x∈[-0.047, 0.045] μ=4.742e-06 σ=0.020 cuda:0), ('encoder.interactions.3.mlp.2.weight', tensor[128, 128] n=16384 (64Kb) x∈[-0.250, 0.317] μ=0.001 σ=0.090 cuda:0), ('encoder.interactions.3.mlp.2.bias', tensor[128] x∈[-0.046, 0.053] μ=-0.002 σ=0.018 cuda:0), ('encoder.interactions.3.conv.lin1.weight', tensor[128, 512] n=65536 (0.2Mb) x∈[-0.216, 0.225] μ=0.000 σ=0.064 cuda:0), ('encoder.interactions.3.conv.lin2.weight', tensor[512, 128] n=65536 (0.2Mb) x∈[-0.207, 0.220] μ=8.344e-05 σ=0.062 cuda:0), ('encoder.interactions.3.conv.lin2.bias', tensor[512] 2Kb x∈[-0.033, 0.027] μ=-0.001 σ=0.012 cuda:0), ('encoder.interactions.3.conv.nn.0.weight', tensor[128, 50] n=6400 (25Kb) x∈[-0.299, 0.290] μ=-0.001 σ=0.109 cuda:0), ('encoder.interactions.3.conv.nn.0.bias', tensor[128] x∈[-0.047, 0.045] μ=4.742e-06 σ=0.020 cuda:0), ('encoder.interactions.3.conv.nn.2.weight', tensor[128, 128] n=16384 (64Kb) x∈[-0.250, 0.317] μ=0.001 σ=0.090 cuda:0), ('encoder.interactions.3.conv.nn.2.bias', tensor[128] x∈[-0.046, 0.053] μ=-0.002 σ=0.018 cuda:0), ('encoder.interactions.3.lin.weight', tensor[512, 512] n=262144 (1Mb) x∈[-0.189, 0.183] μ=-0.000 σ=0.052 cuda:0), ('encoder.interactions.3.lin.bias', tensor[512] 2Kb x∈[-0.056, 0.055] μ=0.002 σ=0.019 cuda:0), ('encoder.interactions.4.mlp.0.weight', tensor[128, 50] n=6400 (25Kb) x∈[-0.297, 0.325] μ=-0.000 σ=0.111 cuda:0), ('encoder.interactions.4.mlp.0.bias', tensor[128] x∈[-0.047, 0.060] μ=0.000 σ=0.022 cuda:0), ('encoder.interactions.4.mlp.2.weight', tensor[128, 128] n=16384 (64Kb) x∈[-0.242, 0.251] μ=-0.000 σ=0.090 cuda:0), ('encoder.interactions.4.mlp.2.bias', tensor[128] x∈[-0.045, 0.046] μ=4.151e-05 σ=0.015 cuda:0), ('encoder.interactions.4.conv.lin1.weight', tensor[128, 512] n=65536 (0.2Mb) x∈[-0.207, 0.245] μ=6.382e-05 σ=0.064 cuda:0), ('encoder.interactions.4.conv.lin2.weight', tensor[512, 128] n=65536 (0.2Mb) x∈[-0.229, 0.208] μ=-0.001 σ=0.062 cuda:0), ('encoder.interactions.4.conv.lin2.bias', tensor[512] 2Kb x∈[-0.043, 0.043] μ=0.001 σ=0.017 cuda:0), ('encoder.interactions.4.conv.nn.0.weight', tensor[128, 50] n=6400 (25Kb) x∈[-0.297, 0.325] μ=-0.000 σ=0.111 cuda:0), ('encoder.interactions.4.conv.nn.0.bias', tensor[128] x∈[-0.047, 0.060] μ=0.000 σ=0.022 cuda:0), ('encoder.interactions.4.conv.nn.2.weight', tensor[128, 128] n=16384 (64Kb) x∈[-0.242, 0.251] μ=-0.000 σ=0.090 cuda:0), ('encoder.interactions.4.conv.nn.2.bias', tensor[128] x∈[-0.045, 0.046] μ=4.151e-05 σ=0.015 cuda:0), ('encoder.interactions.4.lin.weight', tensor[512, 512] n=262144 (1Mb) x∈[-0.182, 0.189] μ=-6.788e-05 σ=0.052 cuda:0), ('encoder.interactions.4.lin.bias', tensor[512] 2Kb x∈[-0.067, 0.061] μ=0.002 σ=0.021 cuda:0), ('encoder.interactions.5.mlp.0.weight', tensor[128, 50] n=6400 (25Kb) x∈[-0.301, 0.373] μ=-0.000 σ=0.110 cuda:0), ('encoder.interactions.5.mlp.0.bias', tensor[128] x∈[-0.047, 0.049] μ=0.001 σ=0.021 cuda:0), ('encoder.interactions.5.mlp.2.weight', tensor[128, 128] n=16384 (64Kb) x∈[-0.249, 0.241] μ=-0.001 σ=0.090 cuda:0), ('encoder.interactions.5.mlp.2.bias', tensor[128] x∈[-0.042, 0.038] μ=-0.000 σ=0.016 cuda:0), ('encoder.interactions.5.conv.lin1.weight', tensor[128, 512] n=65536 (0.2Mb) x∈[-0.217, 0.216] μ=0.000 σ=0.064 cuda:0), ('encoder.interactions.5.conv.lin2.weight', tensor[512, 128] n=65536 (0.2Mb) x∈[-0.197, 0.218] μ=-1.405e-05 σ=0.061 cuda:0), ('encoder.interactions.5.conv.lin2.bias', tensor[512] 2Kb x∈[-0.031, 0.035] μ=3.152e-05 σ=0.012 cuda:0), ('encoder.interactions.5.conv.nn.0.weight', tensor[128, 50] n=6400 (25Kb) x∈[-0.301, 0.373] μ=-0.000 σ=0.110 cuda:0), ('encoder.interactions.5.conv.nn.0.bias', tensor[128] x∈[-0.047, 0.049] μ=0.001 σ=0.021 cuda:0), ('encoder.interactions.5.conv.nn.2.weight', tensor[128, 128] n=16384 (64Kb) x∈[-0.249, 0.241] μ=-0.001 σ=0.090 cuda:0), ('encoder.interactions.5.conv.nn.2.bias', tensor[128] x∈[-0.042, 0.038] μ=-0.000 σ=0.016 cuda:0), ('encoder.interactions.5.lin.weight', tensor[512, 512] n=262144 (1Mb) x∈[-0.177, 0.184] μ=0.000 σ=0.052 cuda:0), ('encoder.interactions.5.lin.bias', tensor[512] 2Kb x∈[-0.087, 0.078] μ=0.004 σ=0.028 cuda:0), ('encoder.lin1.weight', tensor[256, 512] n=131072 (0.5Mb) x∈[-0.178, 0.191] μ=-0.000 σ=0.054 cuda:0), ('encoder.lin1.bias', tensor[256] 1Kb x∈[-0.120, 0.086] μ=-0.009 σ=0.046 cuda:0), ('encoder.lin2.weight', tensor[32, 256] n=8192 (32Kb) x∈[-0.114, 0.135] μ=2.735e-05 σ=0.032 cuda:0), ('encoder.lin2.bias', tensor[32] x∈[-0.147, 0.116] μ=0.014 σ=0.056 cuda:0), ('decoder.subgraph_distances.linear1.weight', tensor[32, 64] n=2048 (8Kb) x∈[-0.423, 0.503] μ=-0.002 σ=0.087 cuda:0), ('decoder.subgraph_distances.linear1.bias', tensor[32] x∈[-0.248, 0.395] μ=-0.010 σ=0.156 cuda:0), ('decoder.subgraph_distances.linear2.weight', tensor[1, 32] x∈[-0.112, 0.130] μ=0.006 σ=0.050 cuda:0), ('decoder.subgraph_distances.linear2.bias', tensor[1] cuda:0 [0.242]), ('featuriser.positional_encoding.frequency', tensor[8] x∈[1.000e-04, 1.000] μ=0.171 σ=0.347 cuda:0 [1.000, 0.268, 0.072, 0.019, 0.005, 0.001, 0.000, 1.000e-04])]), 'loops': {'fit_loop': {'state_dict': {}, 'epoch_loop.state_dict': {'_batches_that_stepped': 122040}, 'epoch_loop.batch_progress': {'total': {'ready': 122040, 'completed': 122040, 'started': 122040, 'processed': 122040}, 'current': {'ready': 13560, 'completed': 13560, 'started': 13560, 'processed': 13560}, 'is_last_batch': True}, 'epoch_loop.scheduler_progress': {'total': {'ready': 122040, 'completed': 122040}, 'current': {'ready': 13560, 'completed': 13560}}, 'epoch_loop.automatic_optimization.state_dict': {}, 'epoch_loop.automatic_optimization.optim_progress': {'optimizer': {'step': {'total': {'ready': 122040, 'completed': 122040}, 'current': {'ready': 13560, 'completed': 13560}}, 'zero_grad': {'total': {'ready': 122040, 'completed': 122040, 'started': 122040}, 'current': {'ready': 13560, 'completed': 13560, 'started': 13560}}}}, 'epoch_loop.manual_optimization.state_dict': {}, 'epoch_loop.manual_optimization.optim_step_progress': {'total': {'ready': 0, 'completed': 0}, 'current': {'ready': 0, 'completed': 0}}, 'epoch_loop.val_loop.state_dict': {}, 'epoch_loop.val_loop.batch_progress': {'total': {'ready': 1695, 'completed': 1695, 'started': 1695, 'processed': 1695}, 'current': {'ready': 1695, 'completed': 1695, 'started': 1695, 'processed': 1695}, 'is_last_batch': True}, 'epoch_progress': {'total': {'ready': 9, 'completed': 7, 'started': 9, 'processed': 9}, 'current': {'ready': 9, 'completed': 8, 'started': 9, 'processed': 9}}}, 'validate_loop': {'state_dict': {}, 'batch_progress': {'total': {'ready': 0, 'completed': 0, 'started': 0, 'processed': 0}, 'current': {'ready': 0, 'completed': 0, 'started': 0, 'processed': 0}, 'is_last_batch': False}}, 'test_loop': {'state_dict': {}, 'batch_progress': {'total': {'ready': 0, 'completed': 0, 'started': 0, 'processed': 0}, 'current': {'ready': 0, 'completed': 0, 'started': 0, 'processed': 0}, 'is_last_batch': False}}, 'predict_loop': {'state_dict': {}, 'batch_progress': {'total': {'ready': 0, 'completed': 0, 'started': 0, 'processed': 0}, 'current': {'ready': 0, 'completed': 0, 'started': 0, 'processed': 0}}}}, 'callbacks': {\"EarlyStopping{'monitor': 'val/subgraph_distances/mse', 'mode': 'min'}\": {'wait_count': 0, 'stopped_epoch': 0, 'best_score': tensor cuda:0 0.014, 'patience': 10}, \"EarlyStopping{'monitor': 'train/loss/total', 'mode': 'min'}\": {'wait_count': 0, 'stopped_epoch': 0, 'best_score': tensor cuda:0 0.007, 'patience': 10000000}, \"ModelCheckpoint{'monitor': 'val/subgraph_distances/mse', 'mode': 'min', 'every_n_train_steps': 0, 'every_n_epochs': 1, 'train_time_interval': None}\": {'monitor': 'val/subgraph_distances/mse', 'best_model_score': tensor cuda:0 0.014, 'best_model_path': '/home/zhang/Projects/3d/ProteinWorkshop/notebooks/outputs_schnet_pretraining_res_3e-4_ca_bb_pos/checkpoints/epoch_008.ckpt', 'current_score': tensor cuda:0 0.014, 'dirpath': '/home/zhang/Projects/3d/ProteinWorkshop/notebooks/outputs_schnet_pretraining_res_3e-4_ca_bb_pos/checkpoints', 'best_k_models': {'/home/zhang/Projects/3d/ProteinWorkshop/notebooks/outputs_schnet_pretraining_res_3e-4_ca_bb_pos/checkpoints/epoch_008.ckpt': tensor cuda:0 0.014}, 'kth_best_model_path': '/home/zhang/Projects/3d/ProteinWorkshop/notebooks/outputs_schnet_pretraining_res_3e-4_ca_bb_pos/checkpoints/epoch_008.ckpt', 'kth_value': tensor cuda:0 0.014, 'last_model_path': '/home/zhang/Projects/3d/ProteinWorkshop/notebooks/outputs_schnet_pretraining_res_3e-4_ca_bb_pos/checkpoints/last-v1.ckpt'}}, 'optimizer_states': [{'state': {0: {'step': tensor cuda:0 1.220e+05, 'exp_avg': tensor[512, 49] n=25088 (98Kb) x∈[-0.001, 0.001] μ=-1.158e-06 σ=6.315e-05 cuda:0, 'exp_avg_sq': tensor[512, 49] n=25088 (98Kb) x∈[0., 5.763e-06] μ=1.142e-07 σ=3.018e-07 cuda:0}, 1: {'step': tensor cuda:0 1.220e+05, 'exp_avg': tensor[512] 2Kb x∈[-0.001, 0.000] μ=-1.061e-05 σ=0.000 cuda:0, 'exp_avg_sq': tensor[512] 2Kb x∈[6.949e-08, 5.777e-06] μ=8.236e-07 σ=7.234e-07 cuda:0}, 2: {'step': tensor cuda:0 1.220e+05, 'exp_avg': tensor[128, 50] n=6400 (25Kb) x∈[-0.001, 0.000] μ=-3.498e-06 σ=5.103e-05 cuda:0, 'exp_avg_sq': tensor[128, 50] n=6400 (25Kb) x∈[2.363e-26, 7.402e-06] μ=1.065e-07 σ=3.544e-07 cuda:0}, 3: {'step': tensor cuda:0 1.220e+05, 'exp_avg': tensor[128] x∈[-0.002, 0.001] μ=-6.978e-05 σ=0.001 cuda:0, 'exp_avg_sq': tensor[128] x∈[1.393e-06, 6.682e-05] μ=1.184e-05 σ=1.031e-05 cuda:0}, 4: {'step': tensor cuda:0 1.220e+05, 'exp_avg': tensor[128, 128] n=16384 (64Kb) x∈[-0.000, 0.000] μ=1.122e-07 σ=2.050e-05 cuda:0, 'exp_avg_sq': tensor[128, 128] n=16384 (64Kb) x∈[7.292e-12, 3.540e-06] μ=1.310e-08 σ=8.759e-08 cuda:0}, 5: {'step': tensor cuda:0 1.220e+05, 'exp_avg': tensor[128] x∈[-0.004, 0.010] μ=4.619e-05 σ=0.001 cuda:0, 'exp_avg_sq': tensor[128] x∈[8.028e-08, 0.002] μ=4.422e-05 σ=0.000 cuda:0}, 6: {'step': tensor cuda:0 1.220e+05, 'exp_avg': tensor[128, 512] n=65536 (0.2Mb) x∈[-0.000, 0.000] μ=3.765e-08 σ=8.703e-06 cuda:0, 'exp_avg_sq': tensor[128, 512] n=65536 (0.2Mb) x∈[1.109e-12, 7.233e-07] μ=1.752e-09 σ=6.377e-09 cuda:0}, 7: {'step': tensor cuda:0 1.220e+05, 'exp_avg': tensor[512, 128] n=65536 (0.2Mb) x∈[-4.353e-05, 4.234e-05] μ=-6.876e-09 σ=5.356e-06 cuda:0, 'exp_avg_sq': tensor[512, 128] n=65536 (0.2Mb) x∈[6.370e-13, 8.336e-08] μ=7.739e-10 σ=2.048e-09 cuda:0}, 8: {'step': tensor cuda:0 1.220e+05, 'exp_avg': tensor[512] 2Kb x∈[-0.000, 0.000] μ=7.232e-07 σ=0.000 cuda:0, 'exp_avg_sq': tensor[512] 2Kb x∈[6.163e-08, 5.921e-06] μ=9.963e-07 σ=9.372e-07 cuda:0}, 9: {'step': tensor cuda:0 1.220e+05, 'exp_avg': tensor[512, 512] n=262144 (1Mb) x∈[-1.502e-05, 1.341e-05] μ=-5.396e-09 σ=2.225e-06 cuda:0, 'exp_avg_sq': tensor[512, 512] n=262144 (1Mb) x∈[2.034e-12, 4.862e-09] μ=1.595e-10 σ=1.847e-10 cuda:0}, 10: {'step': tensor cuda:0 1.220e+05, 'exp_avg': tensor[512] 2Kb x∈[-0.001, 0.000] μ=-8.093e-06 σ=0.000 cuda:0, 'exp_avg_sq': tensor[512] 2Kb x∈[5.309e-08, 5.367e-06] μ=6.917e-07 σ=6.505e-07 cuda:0}, 11: {'step': tensor cuda:0 1.220e+05, 'exp_avg': tensor[128, 50] n=6400 (25Kb) x∈[-0.000, 0.000] μ=8.599e-07 σ=2.356e-05 cuda:0, 'exp_avg_sq': tensor[128, 50] n=6400 (25Kb) x∈[6.034e-27, 1.725e-06] μ=2.396e-08 σ=7.460e-08 cuda:0}, 12: {'step': tensor cuda:0 1.220e+05, 'exp_avg': tensor[128] x∈[-0.001, 0.001] μ=1.715e-05 σ=0.000 cuda:0, 'exp_avg_sq': tensor[128] x∈[4.477e-07, 8.965e-06] μ=2.345e-06 σ=1.503e-06 cuda:0}, 13: {'step': tensor cuda:0 1.220e+05, 'exp_avg': tensor[128, 128] n=16384 (64Kb) x∈[-0.000, 0.000] μ=1.126e-07 σ=1.033e-05 cuda:0, 'exp_avg_sq': tensor[128, 128] n=16384 (64Kb) x∈[7.093e-12, 5.659e-07] μ=3.691e-09 σ=1.465e-08 cuda:0}, 14: {'step': tensor cuda:0 1.220e+05, 'exp_avg': tensor[128] x∈[-0.003, 0.001] μ=-5.813e-05 σ=0.000 cuda:0, 'exp_avg_sq': tensor[128] x∈[1.037e-07, 0.000] μ=8.016e-06 σ=2.728e-05 cuda:0}, 15: {'step': tensor cuda:0 1.220e+05, 'exp_avg': tensor[128, 512] n=65536 (0.2Mb) x∈[-0.000, 0.000] μ=2.129e-08 σ=7.092e-06 cuda:0, 'exp_avg_sq': tensor[128, 512] n=65536 (0.2Mb) x∈[1.153e-12, 9.791e-07] μ=1.139e-09 σ=7.142e-09 cuda:0}, 16: {'step': tensor cuda:0 1.220e+05, 'exp_avg': tensor[512, 128] n=65536 (0.2Mb) x∈[-3.712e-05, 3.475e-05] μ=-2.459e-08 σ=3.680e-06 cuda:0, 'exp_avg_sq': tensor[512, 128] n=65536 (0.2Mb) x∈[1.738e-12, 3.691e-08] μ=4.220e-10 σ=8.537e-10 cuda:0}, 17: {'step': tensor cuda:0 1.220e+05, 'exp_avg': tensor[512] 2Kb x∈[-0.000, 0.000] μ=3.616e-06 σ=0.000 cuda:0, 'exp_avg_sq': tensor[512] 2Kb x∈[5.913e-08, 3.068e-06] μ=4.604e-07 σ=4.133e-07 cuda:0}, 18: {'step': tensor cuda:0 1.220e+05, 'exp_avg': tensor[512, 512] n=262144 (1Mb) x∈[-1.801e-05, 1.846e-05] μ=-7.515e-10 σ=1.820e-06 cuda:0, 'exp_avg_sq': tensor[512, 512] n=262144 (1Mb) x∈[2.567e-12, 6.766e-09] μ=1.093e-10 σ=1.388e-10 cuda:0}, 19: {'step': tensor cuda:0 1.220e+05, 'exp_avg': tensor[512] 2Kb x∈[-0.000, 0.000] μ=-7.357e-06 σ=0.000 cuda:0, 'exp_avg_sq': tensor[512] 2Kb x∈[3.940e-08, 5.227e-06] μ=6.147e-07 σ=5.899e-07 cuda:0}, 20: {'step': tensor cuda:0 1.220e+05, 'exp_avg': tensor[128, 50] n=6400 (25Kb) x∈[-0.000, 0.000] μ=2.636e-07 σ=2.180e-05 cuda:0, 'exp_avg_sq': tensor[128, 50] n=6400 (25Kb) x∈[7.081e-27, 9.196e-07] μ=2.271e-08 σ=6.045e-08 cuda:0}, 21: {'step': tensor cuda:0 1.220e+05, 'exp_avg': tensor[128] x∈[-0.000, 0.000] μ=5.258e-06 σ=0.000 cuda:0, 'exp_avg_sq': tensor[128] x∈[5.452e-07, 6.896e-06] μ=2.356e-06 σ=1.337e-06 cuda:0}, 22: {'step': tensor cuda:0 1.220e+05, 'exp_avg': tensor[128, 128] n=16384 (64Kb) x∈[-9.806e-05, 9.762e-05] μ=5.908e-08 σ=1.055e-05 cuda:0, 'exp_avg_sq': tensor[128, 128] n=16384 (64Kb) x∈[7.918e-12, 3.789e-07] μ=4.185e-09 σ=1.223e-08 cuda:0}, 23: {'step': tensor cuda:0 1.220e+05, 'exp_avg': tensor[128] x∈[-0.001, 0.002] μ=2.360e-05 σ=0.000 cuda:0, 'exp_avg_sq': tensor[128] x∈[1.967e-07, 9.091e-05] μ=7.269e-06 σ=1.268e-05 cuda:0}, 24: {'step': tensor cuda:0 1.220e+05, 'exp_avg': tensor[128, 512] n=65536 (0.2Mb) x∈[-7.497e-05, 8.469e-05] μ=9.636e-09 σ=6.033e-06 cuda:0, 'exp_avg_sq': tensor[128, 512] n=65536 (0.2Mb) x∈[2.627e-12, 2.413e-07] μ=1.026e-09 σ=3.626e-09 cuda:0}, 25: {'step': tensor cuda:0 1.220e+05, 'exp_avg': tensor[512, 128] n=65536 (0.2Mb) x∈[-3.974e-05, 3.767e-05] μ=1.231e-08 σ=3.359e-06 cuda:0, 'exp_avg_sq': tensor[512, 128] n=65536 (0.2Mb) x∈[2.346e-12, 3.527e-08] μ=4.271e-10 σ=1.139e-09 cuda:0}, 26: {'step': tensor cuda:0 1.220e+05, 'exp_avg': tensor[512] 2Kb x∈[-0.000, 0.000] μ=3.789e-06 σ=0.000 cuda:0, 'exp_avg_sq': tensor[512] 2Kb x∈[2.507e-08, 2.444e-06] μ=3.255e-07 σ=2.671e-07 cuda:0}, 27: {'step': tensor cuda:0 1.220e+05, 'exp_avg': tensor[512, 512] n=262144 (1Mb) x∈[-1.193e-05, 1.224e-05] μ=-2.280e-09 σ=1.569e-06 cuda:0, 'exp_avg_sq': tensor[512, 512] n=262144 (1Mb) x∈[2.344e-12, 3.584e-09] μ=9.692e-11 σ=1.016e-10 cuda:0}, 28: {'step': tensor cuda:0 1.220e+05, 'exp_avg': tensor[512] 2Kb x∈[-0.000, 0.000] μ=-6.037e-06 σ=0.000 cuda:0, 'exp_avg_sq': tensor[512] 2Kb x∈[2.031e-08, 5.538e-06] μ=5.702e-07 σ=5.466e-07 cuda:0}, 29: {'step': tensor cuda:0 1.220e+05, 'exp_avg': tensor[128, 50] n=6400 (25Kb) x∈[-0.000, 0.000] μ=-5.253e-07 σ=1.984e-05 cuda:0, 'exp_avg_sq': tensor[128, 50] n=6400 (25Kb) x∈[5.344e-27, 8.486e-07] μ=1.791e-08 σ=5.269e-08 cuda:0}, 30: {'step': tensor cuda:0 1.220e+05, 'exp_avg': tensor[128] x∈[-0.000, 0.000] μ=-1.048e-05 σ=0.000 cuda:0, 'exp_avg_sq': tensor[128] x∈[3.599e-07, 7.885e-06] μ=1.657e-06 σ=1.049e-06 cuda:0}, 31: {'step': tensor cuda:0 1.220e+05, 'exp_avg': tensor[128, 128] n=16384 (64Kb) x∈[-8.599e-05, 8.288e-05] μ=-1.776e-08 σ=9.136e-06 cuda:0, 'exp_avg_sq': tensor[128, 128] n=16384 (64Kb) x∈[4.490e-12, 4.107e-07] μ=4.133e-09 σ=1.319e-08 cuda:0}, 32: {'step': tensor cuda:0 1.220e+05, 'exp_avg': tensor[128] x∈[-0.001, 0.001] μ=3.092e-05 σ=0.000 cuda:0, 'exp_avg_sq': tensor[128] x∈[5.028e-08, 6.128e-05] μ=5.302e-06 σ=9.776e-06 cuda:0}, 33: {'step': tensor cuda:0 1.220e+05, 'exp_avg': tensor[128, 512] n=65536 (0.2Mb) x∈[-0.000, 0.000] μ=-2.933e-08 σ=7.389e-06 cuda:0, 'exp_avg_sq': tensor[128, 512] n=65536 (0.2Mb) x∈[1.178e-12, 2.802e-07] μ=1.404e-09 σ=4.557e-09 cuda:0}, 34: {'step': tensor cuda:0 1.220e+05, 'exp_avg': tensor[512, 128] n=65536 (0.2Mb) x∈[-3.127e-05, 3.106e-05] μ=-1.576e-08 σ=3.229e-06 cuda:0, 'exp_avg_sq': tensor[512, 128] n=65536 (0.2Mb) x∈[1.832e-12, 3.483e-08] μ=4.529e-10 σ=9.902e-10 cuda:0}, 35: {'step': tensor cuda:0 1.220e+05, 'exp_avg': tensor[512] 2Kb x∈[-0.000, 0.000] μ=-2.671e-07 σ=9.105e-05 cuda:0, 'exp_avg_sq': tensor[512] 2Kb x∈[3.661e-08, 2.940e-06] μ=3.259e-07 σ=2.852e-07 cuda:0}, 36: {'step': tensor cuda:0 1.220e+05, 'exp_avg': tensor[512, 512] n=262144 (1Mb) x∈[-1.100e-05, 1.004e-05] μ=-6.428e-09 σ=1.503e-06 cuda:0, 'exp_avg_sq': tensor[512, 512] n=262144 (1Mb) x∈[2.210e-12, 3.845e-09] μ=1.050e-10 σ=1.165e-10 cuda:0}, 37: {'step': tensor cuda:0 1.220e+05, 'exp_avg': tensor[512] 2Kb x∈[-0.000, 0.000] μ=-8.561e-06 σ=0.000 cuda:0, 'exp_avg_sq': tensor[512] 2Kb x∈[3.194e-08, 5.810e-06] μ=5.467e-07 σ=5.288e-07 cuda:0}, 38: {'step': tensor cuda:0 1.220e+05, 'exp_avg': tensor[128, 50] n=6400 (25Kb) x∈[-0.000, 0.000] μ=4.722e-07 σ=2.573e-05 cuda:0, 'exp_avg_sq': tensor[128, 50] n=6400 (25Kb) x∈[8.631e-27, 1.569e-06] μ=3.701e-08 σ=1.102e-07 cuda:0}, 39: {'step': tensor cuda:0 1.220e+05, 'exp_avg': tensor[128] x∈[-0.001, 0.001] μ=9.419e-06 σ=0.000 cuda:0, 'exp_avg_sq': tensor[128] x∈[5.030e-07, 1.406e-05] μ=3.308e-06 σ=2.512e-06 cuda:0}, 40: {'step': tensor cuda:0 1.220e+05, 'exp_avg': tensor[128, 128] n=16384 (64Kb) x∈[-9.685e-05, 0.000] μ=3.689e-08 σ=9.788e-06 cuda:0, 'exp_avg_sq': tensor[128, 128] n=16384 (64Kb) x∈[5.647e-12, 1.911e-06] μ=4.989e-09 σ=3.837e-08 cuda:0}, 41: {'step': tensor cuda:0 1.220e+05, 'exp_avg': tensor[128] x∈[-0.001, 0.002] μ=5.926e-05 σ=0.000 cuda:0, 'exp_avg_sq': tensor[128] x∈[1.201e-07, 0.000] μ=8.166e-06 σ=3.741e-05 cuda:0}, 42: {'step': tensor cuda:0 1.220e+05, 'exp_avg': tensor[128, 512] n=65536 (0.2Mb) x∈[-0.000, 0.000] μ=4.096e-08 σ=8.054e-06 cuda:0, 'exp_avg_sq': tensor[128, 512] n=65536 (0.2Mb) x∈[1.607e-12, 9.706e-07] μ=2.036e-09 σ=1.421e-08 cuda:0}, 43: {'step': tensor cuda:0 1.220e+05, 'exp_avg': tensor[512, 128] n=65536 (0.2Mb) x∈[-4.433e-05, 4.645e-05] μ=-1.951e-08 σ=3.341e-06 cuda:0, 'exp_avg_sq': tensor[512, 128] n=65536 (0.2Mb) x∈[1.175e-12, 5.247e-08] μ=4.078e-10 σ=1.343e-09 cuda:0}, 44: {'step': tensor cuda:0 1.220e+05, 'exp_avg': tensor[512] 2Kb x∈[-0.000, 0.000] μ=1.883e-06 σ=0.000 cuda:0, 'exp_avg_sq': tensor[512] 2Kb x∈[1.491e-08, 4.551e-06] μ=5.175e-07 σ=5.702e-07 cuda:0}, 45: {'step': tensor cuda:0 1.220e+05, 'exp_avg': tensor[512, 512] n=262144 (1Mb) x∈[-1.130e-05, 1.200e-05] μ=-1.296e-08 σ=1.442e-06 cuda:0, 'exp_avg_sq': tensor[512, 512] n=262144 (1Mb) x∈[2.163e-12, 2.657e-09] μ=8.742e-11 σ=1.028e-10 cuda:0}, 46: {'step': tensor cuda:0 1.220e+05, 'exp_avg': tensor[512] 2Kb x∈[-0.000, 0.000] μ=-7.635e-06 σ=0.000 cuda:0, 'exp_avg_sq': tensor[512] 2Kb x∈[2.806e-08, 5.189e-06] μ=5.811e-07 σ=5.621e-07 cuda:0}, 47: {'step': tensor cuda:0 1.220e+05, 'exp_avg': tensor[128, 50] n=6400 (25Kb) x∈[-0.000, 0.000] μ=1.457e-06 σ=2.551e-05 cuda:0, 'exp_avg_sq': tensor[128, 50] n=6400 (25Kb) x∈[8.544e-27, 1.249e-06] μ=2.491e-08 σ=7.663e-08 cuda:0}, 48: {'step': tensor cuda:0 1.220e+05, 'exp_avg': tensor[128] x∈[-0.001, 0.001] μ=2.906e-05 σ=0.000 cuda:0, 'exp_avg_sq': tensor[128] x∈[5.337e-07, 6.202e-06] μ=2.316e-06 σ=1.190e-06 cuda:0}, 49: {'step': tensor cuda:0 1.220e+05, 'exp_avg': tensor[128, 128] n=16384 (64Kb) x∈[-0.000, 9.701e-05] μ=1.124e-07 σ=1.060e-05 cuda:0, 'exp_avg_sq': tensor[128, 128] n=16384 (64Kb) x∈[2.500e-12, 2.359e-07] μ=3.573e-09 σ=8.975e-09 cuda:0}, 50: {'step': tensor cuda:0 1.220e+05, 'exp_avg': tensor[128] x∈[-0.003, 0.001] μ=3.404e-05 σ=0.001 cuda:0, 'exp_avg_sq': tensor[128] x∈[6.925e-08, 8.972e-05] μ=7.130e-06 σ=1.281e-05 cuda:0}, 51: {'step': tensor cuda:0 1.220e+05, 'exp_avg': tensor[128, 512] n=65536 (0.2Mb) x∈[-0.000, 0.000] μ=-1.542e-08 σ=8.689e-06 cuda:0, 'exp_avg_sq': tensor[128, 512] n=65536 (0.2Mb) x∈[4.570e-13, 4.680e-07] μ=2.061e-09 σ=6.650e-09 cuda:0}, 52: {'step': tensor cuda:0 1.220e+05, 'exp_avg': tensor[512, 128] n=65536 (0.2Mb) x∈[-4.163e-05, 4.073e-05] μ=1.677e-08 σ=3.995e-06 cuda:0, 'exp_avg_sq': tensor[512, 128] n=65536 (0.2Mb) x∈[4.910e-13, 2.863e-08] μ=4.492e-10 σ=9.682e-10 cuda:0}, 53: {'step': tensor cuda:0 1.220e+05, 'exp_avg': tensor[512] 2Kb x∈[-0.000, 0.000] μ=2.573e-06 σ=0.000 cuda:0, 'exp_avg_sq': tensor[512] 2Kb x∈[3.590e-08, 2.679e-06] μ=4.270e-07 σ=3.878e-07 cuda:0}, 54: {'step': tensor cuda:0 1.220e+05, 'exp_avg': tensor[512, 512] n=262144 (1Mb) x∈[-1.401e-05, 1.380e-05] μ=-3.660e-09 σ=1.665e-06 cuda:0, 'exp_avg_sq': tensor[512, 512] n=262144 (1Mb) x∈[1.735e-12, 3.068e-09] μ=8.129e-11 σ=9.385e-11 cuda:0}, 55: {'step': tensor cuda:0 1.220e+05, 'exp_avg': tensor[512] 2Kb x∈[-0.000, 0.000] μ=-7.736e-06 σ=0.000 cuda:0, 'exp_avg_sq': tensor[512] 2Kb x∈[2.247e-08, 4.997e-06] μ=5.855e-07 σ=5.715e-07 cuda:0}, 56: {'step': tensor cuda:0 1.220e+05, 'exp_avg': tensor[256, 512] n=131072 (0.5Mb) x∈[-0.000, 0.000] μ=-3.815e-08 σ=1.603e-05 cuda:0, 'exp_avg_sq': tensor[256, 512] n=131072 (0.5Mb) x∈[4.313e-11, 3.246e-06] μ=1.074e-08 σ=2.901e-08 cuda:0}, 57: {'step': tensor cuda:0 1.220e+05, 'exp_avg': tensor[256] 1Kb x∈[-0.000, 0.000] μ=1.299e-07 σ=9.928e-05 cuda:0, 'exp_avg_sq': tensor[256] 1Kb x∈[2.484e-08, 7.254e-06] μ=6.380e-07 σ=9.593e-07 cuda:0}, 58: {'step': tensor cuda:0 1.220e+05, 'exp_avg': tensor[32, 256] n=8192 (32Kb) x∈[-0.004, 0.004] μ=7.065e-06 σ=0.000 cuda:0, 'exp_avg_sq': tensor[32, 256] n=8192 (32Kb) x∈[1.361e-08, 0.001] μ=4.640e-06 σ=1.699e-05 cuda:0}, 59: {'step': tensor cuda:0 1.220e+05, 'exp_avg': tensor[32] x∈[-0.005, 0.005] μ=0.000 σ=0.003 cuda:0, 'exp_avg_sq': tensor[32] x∈[1.679e-05, 0.002] μ=0.000 σ=0.000 cuda:0}, 60: {'step': tensor cuda:0 1.220e+05, 'exp_avg': tensor[32, 64] n=2048 (8Kb) x∈[-0.017, 0.015] μ=3.901e-05 σ=0.001 cuda:0, 'exp_avg_sq': tensor[32, 64] n=2048 (8Kb) x∈[5.106e-28, 0.016] μ=0.000 σ=0.001 cuda:0}, 61: {'step': tensor cuda:0 1.220e+05, 'exp_avg': tensor[32] x∈[-5.460e-05, 1.043e-05] μ=-3.145e-06 σ=1.334e-05 cuda:0, 'exp_avg_sq': tensor[32] x∈[4.729e-31, 1.236e-07] μ=1.152e-08 σ=2.928e-08 cuda:0}, 62: {'step': tensor cuda:0 1.220e+05, 'exp_avg': tensor[1, 32] x∈[-0.301, 0.033] μ=-0.018 σ=0.070 cuda:0, 'exp_avg_sq': tensor[1, 32] x∈[2.896e-21, 15.973] μ=0.673 σ=2.878 cuda:0}, 63: {'step': tensor cuda:0 1.220e+05, 'exp_avg': tensor[1] cuda:0 [-0.016], 'exp_avg_sq': tensor[1] cuda:0 [0.015]}}, 'param_groups': [{'lr': 9.046106882113504e-06, 'betas': (0.9, 0.999), 'eps': 1e-08, 'weight_decay': 0.0, 'amsgrad': False, 'maximize': False, 'foreach': None, 'capturable': False, 'differentiable': False, 'fused': None, 'initial_lr': 0.0003, 'params': [0, 1, 2, 3, 4, 5, 6, 7, 8, 9, 10, 11, 12, 13, 14, 15, 16, 17, 18, 19, 20, 21, 22, 23, 24, 25, 26, 27, 28, 29, 30, 31, 32, 33, 34, 35, 36, 37, 38, 39, 40, 41, 42, 43, 44, 45, 46, 47, 48, 49, 50, 51, 52, 53, 54, 55, 56, 57, 58, 59, 60, 61, 62, 63]}]}], 'lr_schedulers': [{'warmup_epochs': 13560.0, 'max_epochs': 135600, 'warmup_start_lr': 0.0, 'eta_min': 0.0, 'base_lrs': [0.0003], 'last_epoch': 122040, 'verbose': False, '_step_count': 122041, '_get_lr_called_within_step': False, '_last_lr': [9.046106882113504e-06]}], 'hparams_name': 'kwargs', 'hyper_parameters': {'cfg': {'hydra': {'run': {'dir': '${env.paths.log_dir}/${task_name}/runs/${now:%Y-%m-%d}_${now:%H-%M-%S}'}, 'sweep': {'dir': '${env.paths.log_dir}/${task_name}/multiruns/${now:%Y-%m-%d}_${now:%H-%M-%S}', 'subdir': '${hydra.job.num}'}, 'launcher': {'_target_': 'hydra._internal.core_plugins.basic_launcher.BasicLauncher'}, 'sweeper': {'_target_': 'hydra._internal.core_plugins.basic_sweeper.BasicSweeper', 'max_batch_size': None, 'params': None}, 'help': {'app_name': '${hydra.job.name}', 'header': '${hydra.help.app_name} is powered by Hydra.\\n', 'footer': 'Powered by Hydra (https://hydra.cc)\\nUse --hydra-help to view Hydra specific help\\n', 'template': '${hydra.help.header}\\n== Configuration groups ==\\nCompose your configuration from those groups (group=option)\\n\\n$APP_CONFIG_GROUPS\\n\\n== Config ==\\nOverride anything in the config (foo.bar=value)\\n\\n$CONFIG\\n\\n${hydra.help.footer}\\n'}, 'hydra_help': {'template': \"Hydra (${hydra.runtime.version})\\nSee https://hydra.cc for more info.\\n\\n== Flags ==\\n$FLAGS_HELP\\n\\n== Configuration groups ==\\nCompose your configuration from those groups (For example, append hydra/job_logging=disabled to command line)\\n\\n$HYDRA_CONFIG_GROUPS\\n\\nUse '--cfg hydra' to Show the Hydra config.\\n\", 'hydra_help': 'False'}, 'hydra_logging': {'version': 1, 'formatters': {'colorlog': {'()': 'colorlog.ColoredFormatter', 'format': '[%(cyan)s%(asctime)s%(reset)s][%(purple)sHYDRA%(reset)s] %(message)s'}}, 'handlers': {'console': {'class': 'logging.StreamHandler', 'formatter': 'colorlog', 'stream': 'ext://sys.stdout'}}, 'root': {'level': 'INFO', 'handlers': ['console']}, 'disable_existing_loggers': False}, 'job_logging': {'version': 1, 'formatters': {'simple': {'format': '[%(asctime)s][%(name)s][%(levelname)s] - %(message)s'}, 'colorlog': {'()': 'colorlog.ColoredFormatter', 'format': '[%(cyan)s%(asctime)s%(reset)s][%(blue)s%(name)s%(reset)s][%(log_color)s%(levelname)s%(reset)s] - %(message)s', 'log_colors': {'DEBUG': 'purple', 'INFO': 'green', 'WARNING': 'yellow', 'ERROR': 'red', 'CRITICAL': 'red'}}}, 'handlers': {'console': {'class': 'logging.StreamHandler', 'formatter': 'colorlog', 'stream': 'ext://sys.stdout'}, 'file': {'class': 'logging.FileHandler', 'formatter': 'simple', 'filename': '${hydra.runtime.output_dir}/${hydra.job.name}.log'}}, 'root': {'level': 'INFO', 'handlers': ['console', 'file']}, 'disable_existing_loggers': False}, 'env': {}, 'mode': None, 'searchpath': [], 'callbacks': {}, 'output_subdir': '.hydra', 'overrides': {'hydra': [], 'task': ['encoder=schnet', 'encoder.hidden_channels=512', 'encoder.out_dim=32', 'encoder.num_layers=6', 'encoder.num_filters=128', 'encoder.num_gaussians=50', 'encoder.cutoff=10.0', 'encoder.max_num_neighbors=32', 'encoder.readout=add', 'encoder.dipole=False', 'encoder.mean=null', 'encoder.std=null', 'encoder.atomref=null', 'encoder.pretraining=True', 'decoder=subgraph_distances', 'decoder.subgraph_distances.hidden_channels=32', 'task=subgraph_distance_prediction', 'dataset=afdb_swissprot_v4', 'dataset.datamodule.batch_size=32', 'features=fe_subgraph_ca_bb_pos', '+aux_task=none', 'trainer.max_epochs=10', 'optimiser=adam', 'optimiser.optimizer.lr=3e-4', 'callbacks.early_stopping.patience=10', 'callbacks.model_checkpoint.every_n_epochs=1', 'test=True', 'scheduler=linear_warmup_cosine_decay', '+ckpt_path=/home/zhang/Projects/3d/ProteinWorkshop/notebooks/outputs_schnet_pretraining_res_3e-4_ca_bb_pos/checkpoints/last.ckpt']}, 'job': {'name': 'notebook', 'chdir': None, 'override_dirname': '+aux_task=none,+ckpt_path=/home/zhang/Projects/3d/ProteinWorkshop/notebooks/outputs_schnet_pretraining_res_3e-4_ca_bb_pos/checkpoints/last.ckpt,callbacks.early_stopping.patience=10,callbacks.model_checkpoint.every_n_epochs=1,dataset.datamodule.batch_size=32,dataset=afdb_swissprot_v4,decoder.subgraph_distances.hidden_channels=32,decoder=subgraph_distances,encoder.atomref=null,encoder.cutoff=10.0,encoder.dipole=False,encoder.hidden_channels=512,encoder.max_num_neighbors=32,encoder.mean=null,encoder.num_filters=128,encoder.num_gaussians=50,encoder.num_layers=6,encoder.out_dim=32,encoder.pretraining=True,encoder.readout=add,encoder.std=null,encoder=schnet,features=fe_subgraph_ca_bb_pos,optimiser.optimizer.lr=3e-4,optimiser=adam,scheduler=linear_warmup_cosine_decay,task=subgraph_distance_prediction,test=True,trainer.max_epochs=10', 'id': '0', 'num': 0, 'config_name': 'train', 'env_set': {}, 'env_copy': [], 'config': {'override_dirname': {'kv_sep': '=', 'item_sep': ',', 'exclude_keys': []}}}, 'runtime': {'version': '1.3.2', 'version_base': '1.2', 'cwd': '/home/zhang/Projects/3d/ProteinWorkshop/notebooks', 'config_sources': [{'path': 'hydra.conf', 'schema': 'pkg', 'provider': 'hydra'}, {'path': '/home/zhang/Projects/3d/ProteinWorkshop/proteinworkshop/config', 'schema': 'file', 'provider': 'main'}, {'path': 'hydra_plugins.hydra_colorlog.conf', 'schema': 'pkg', 'provider': 'hydra-colorlog'}, {'path': '', 'schema': 'structured', 'provider': 'schema'}], 'output_dir': 'outputs_schnet_pretraining_res_3e-4_ca_bb_pos', 'choices': {'aux_task': 'none', 'debug': None, 'logger': 'csv', 'task': 'subgraph_distance_prediction', 'hydra': 'default', 'extras': 'default', 'trainer': 'gpu', 'scheduler': 'linear_warmup_cosine_decay', 'optimiser': 'adam', 'callbacks': 'default', 'decoder': 'subgraph_distances', 'encoder': 'schnet', 'features': 'fe_subgraph_ca_bb_pos', 'dataset': 'afdb_swissprot_v4', 'env': 'default', 'hparams': 'schnet_fe_subgraph_ca_bb_pos', 'hydra/env': 'default', 'hydra/callbacks': None, 'hydra/job_logging': 'colorlog', 'hydra/hydra_logging': 'colorlog', 'hydra/hydra_help': 'default', 'hydra/help': 'default', 'hydra/sweeper': 'basic', 'hydra/launcher': 'basic', 'hydra/output': 'default'}}, 'verbose': False}, 'env': {'paths': {'root_dir': '${oc.env:ROOT_DIR}', 'data': '${oc.env:DATA_PATH}', 'output_dir': '${hydra:runtime.output_dir}', 'work_dir': '${hydra:runtime.cwd}', 'log_dir': '${oc.env:RUNS_PATH}', 'runs': '${oc.env:RUNS_PATH}', 'run_dir': '${env.paths.runs}/${name}/${env.init_time}'}, 'python': {'version': '${python_version:micro}'}, 'init_time': '${now:%y-%m-%d_%H:%M:%S}'}, 'dataset': {'datamodule': {'_target_': 'graphein.ml.datasets.foldcomp_dataset.FoldCompLightningDataModule', 'data_dir': '${env.paths.data}/afdb_swissprot_v4/', 'database': 'afdb_swissprot_v4', 'batch_size': 32, 'num_workers': 32, 'train_split': 0.8, 'val_split': 0.1, 'test_split': 0.1, 'pin_memory': True, 'use_graphein': True, 'transform': '${transforms}'}, 'dataset_name': 'afdb_swissprot_v4', 'num_classes': 'None'}, 'features': {'_target_': 'proteinworkshop.features.factory.ProteinFeaturiser', 'representation': 'CA', 'scalar_node_features': ['amino_acid_one_hot', 'sequence_positional_encoding', 'alpha', 'kappa', 'dihedrals'], 'vector_node_features': [], 'edge_types': [], 'scalar_edge_features': [], 'vector_edge_features': [], 'subgraph_pretraining_edges': [10.0, 32], 'compute_subgraphs': [2, 0.1]}, 'encoder': {'_target_': 'proteinworkshop.models.graph_encoders.schnet.SchNetModel', 'hidden_channels': 512, 'out_dim': 32, 'num_layers': 6, 'num_filters': 128, 'num_gaussians': 50, 'cutoff': 10.0, 'max_num_neighbors': 32, 'readout': 'add', 'dipole': False, 'mean': None, 'std': None, 'atomref': None, 'pretraining': True}, 'decoder': {'subgraph_distances': {'_target_': 'proteinworkshop.models.decoders.mlp_dist.MLP_Pred_Dist', 'hidden_channels': 32, 'input': 'fused_repr'}}, 'transforms': {'remove_missing_ca': {'_target_': 'proteinworkshop.tasks.remove_missing_ca.RemoveMissingCa', 'fill_value': 1e-05, 'ca_idx': 1}}, 'callbacks': {'model_checkpoint': {'_target_': 'lightning.pytorch.callbacks.ModelCheckpoint', 'dirpath': '${env.paths.output_dir}/checkpoints', 'filename': 'epoch_{epoch:03d}', 'monitor': 'val/subgraph_distances/mse', 'verbose': True, 'save_last': True, 'save_top_k': 1, 'mode': 'min', 'auto_insert_metric_name': False, 'save_weights_only': False, 'every_n_train_steps': None, 'train_time_interval': None, 'every_n_epochs': 1, 'save_on_train_epoch_end': None}, 'early_stopping': {'_target_': 'lightning.pytorch.callbacks.EarlyStopping', 'monitor': 'val/subgraph_distances/mse', 'min_delta': 0.0, 'patience': 10, 'verbose': True, 'mode': 'min', 'strict': True, 'check_finite': True, 'stopping_threshold': None, 'divergence_threshold': None, 'check_on_train_epoch_end': False}, 'model_summary': {'_target_': 'lightning.pytorch.callbacks.RichModelSummary', 'max_depth': -1}, 'rich_progress_bar': {'_target_': 'lightning.pytorch.callbacks.RichProgressBar'}, 'learning_rate_monitor': {'_target_': 'lightning.pytorch.callbacks.LearningRateMonitor'}, 'stop_on_nan': {'_target_': 'lightning.pytorch.callbacks.EarlyStopping', 'monitor': 'train/loss/total', 'min_delta': 0.0, 'patience': 10000000, 'verbose': True, 'mode': 'min', 'strict': True, 'check_finite': True, 'stopping_threshold': None, 'divergence_threshold': None, 'check_on_train_epoch_end': None}}, 'optimiser': {'optimizer': {'_target_': 'torch.optim.Adam', '_partial_': True, 'lr': 0.0003, 'weight_decay': 0.0}}, 'scheduler': {'scheduler': {'_target_': 'flash.core.optimizers.LinearWarmupCosineAnnealingLR', '_partial_': True, 'warmup_epochs': 13560.0, 'warmup_start_lr': 0.0, 'max_epochs': 135600}, 'interval': 'step', 'frequency': 1, 'monitor': 'val/loss/total', 'strict': True, 'name': 'learning_rate'}, 'trainer': {'_target_': 'lightning.pytorch.trainer.Trainer', 'default_root_dir': '${env.paths.output_dir}', 'min_epochs': 1, 'max_epochs': 10, 'accelerator': 'gpu', 'check_val_every_n_epoch': 1, 'deterministic': False, 'num_sanity_val_steps': 2, 'devices': 1}, 'extras': {'ignore_warnings': True, 'enforce_tags': False, 'print_config': True}, 'metrics': {'mse': {'_target_': 'torchmetrics.MeanSquaredError'}}, 'task': {'task': 'subgraph_distance_prediction', 'losses': {'subgraph_distances': 'mse_loss'}, 'label_smoothing': 0.0, 'output': ['subgraph_distances'], 'supervise_on': ['subgraph_distances']}, 'logger': {'csv': {'_target_': 'lightning.pytorch.loggers.csv_logs.CSVLogger', 'save_dir': '${env.paths.output_dir}', 'name': 'csv/', 'prefix': ''}}, 'name': '', 'seed': 52, 'num_workers': 16, 'task_name': 'train', 'ckpt_path_test': '', 'test': True, 'aux_task': {}, 'ckpt_path': '/home/zhang/Projects/3d/ProteinWorkshop/notebooks/outputs_schnet_pretraining_res_3e-4_ca_bb_pos/checkpoints/last.ckpt'}}}\n"
     ]
    },
    {
     "data": {
      "text/html": [
       "<pre style=\"white-space:pre;overflow-x:auto;line-height:normal;font-family:Menlo,'DejaVu Sans Mono',consolas,'Courier New',monospace\"><span style=\"color: #7fbfbf; text-decoration-color: #7fbfbf\">                    </span><span style=\"color: #000080; text-decoration-color: #000080\">INFO    </span> Loading encoder weights: <span style=\"color: #800080; text-decoration-color: #800080; font-weight: bold\">OrderedDict</span><span style=\"font-weight: bold\">()</span>                                 <a href=\"file:///home/zhang/Projects/3d/ProteinWorkshop/proteinworkshop/finetune.py\" target=\"_blank\"><span style=\"color: #7f7f7f; text-decoration-color: #7f7f7f\">finetune.py</span></a><span style=\"color: #7f7f7f; text-decoration-color: #7f7f7f\">:</span><a href=\"file:///home/zhang/Projects/3d/ProteinWorkshop/proteinworkshop/finetune.py#173\" target=\"_blank\"><span style=\"color: #7f7f7f; text-decoration-color: #7f7f7f\">173</span></a>\n",
       "</pre>\n"
      ],
      "text/plain": [
       "\u001b[2;36m                   \u001b[0m\u001b[2;36m \u001b[0m\u001b[34mINFO    \u001b[0m Loading encoder weights: \u001b[1;35mOrderedDict\u001b[0m\u001b[1m(\u001b[0m\u001b[1m)\u001b[0m                                 \u001b]8;id=667350;file:///home/zhang/Projects/3d/ProteinWorkshop/proteinworkshop/finetune.py\u001b\\\u001b[2mfinetune.py\u001b[0m\u001b]8;;\u001b\\\u001b[2m:\u001b[0m\u001b]8;id=561773;file:///home/zhang/Projects/3d/ProteinWorkshop/proteinworkshop/finetune.py#173\u001b\\\u001b[2m173\u001b[0m\u001b]8;;\u001b\\\n"
      ]
     },
     "metadata": {},
     "output_type": "display_data"
    },
    {
     "data": {
      "text/html": [
       "<pre style=\"white-space:pre;overflow-x:auto;line-height:normal;font-family:Menlo,'DejaVu Sans Mono',consolas,'Courier New',monospace\"><span style=\"color: #7fbfbf; text-decoration-color: #7fbfbf\">                    </span><span style=\"color: #800000; text-decoration-color: #800000\">WARNING </span> Error loading encoder weights:                                         <a href=\"file:///home/zhang/Projects/3d/ProteinWorkshop/proteinworkshop/finetune.py\" target=\"_blank\"><span style=\"color: #7f7f7f; text-decoration-color: #7f7f7f\">finetune.py</span></a><span style=\"color: #7f7f7f; text-decoration-color: #7f7f7f\">:</span><a href=\"file:///home/zhang/Projects/3d/ProteinWorkshop/proteinworkshop/finetune.py#176\" target=\"_blank\"><span style=\"color: #7f7f7f; text-decoration-color: #7f7f7f\">176</span></a>\n",
       "<span style=\"color: #7fbfbf; text-decoration-color: #7fbfbf\">                    </span>         <span style=\"color: #800080; text-decoration-color: #800080; font-weight: bold\">_IncompatibleKeys</span><span style=\"font-weight: bold\">(</span><span style=\"color: #808000; text-decoration-color: #808000\">missing_keys</span>=<span style=\"font-weight: bold\">[</span><span style=\"color: #008000; text-decoration-color: #008000\">'embedding.weight'</span>, <span style=\"color: #008000; text-decoration-color: #008000\">'embedding.bias'</span>,  <span style=\"color: #7f7f7f; text-decoration-color: #7f7f7f\">               </span>\n",
       "<span style=\"color: #7fbfbf; text-decoration-color: #7fbfbf\">                    </span>         <span style=\"color: #008000; text-decoration-color: #008000\">'distance_expansion.offset'</span>, <span style=\"color: #008000; text-decoration-color: #008000\">'interactions.0.mlp.0.weight'</span>,            <span style=\"color: #7f7f7f; text-decoration-color: #7f7f7f\">               </span>\n",
       "<span style=\"color: #7fbfbf; text-decoration-color: #7fbfbf\">                    </span>         <span style=\"color: #008000; text-decoration-color: #008000\">'interactions.0.mlp.0.bias'</span>, <span style=\"color: #008000; text-decoration-color: #008000\">'interactions.0.mlp.2.weight'</span>,            <span style=\"color: #7f7f7f; text-decoration-color: #7f7f7f\">               </span>\n",
       "<span style=\"color: #7fbfbf; text-decoration-color: #7fbfbf\">                    </span>         <span style=\"color: #008000; text-decoration-color: #008000\">'interactions.0.mlp.2.bias'</span>, <span style=\"color: #008000; text-decoration-color: #008000\">'interactions.0.conv.lin1.weight'</span>,        <span style=\"color: #7f7f7f; text-decoration-color: #7f7f7f\">               </span>\n",
       "<span style=\"color: #7fbfbf; text-decoration-color: #7fbfbf\">                    </span>         <span style=\"color: #008000; text-decoration-color: #008000\">'interactions.0.conv.lin2.weight'</span>, <span style=\"color: #008000; text-decoration-color: #008000\">'interactions.0.conv.lin2.bias'</span>,    <span style=\"color: #7f7f7f; text-decoration-color: #7f7f7f\">               </span>\n",
       "<span style=\"color: #7fbfbf; text-decoration-color: #7fbfbf\">                    </span>         <span style=\"color: #008000; text-decoration-color: #008000\">'interactions.0.conv.nn.0.weight'</span>, <span style=\"color: #008000; text-decoration-color: #008000\">'interactions.0.conv.nn.0.bias'</span>,    <span style=\"color: #7f7f7f; text-decoration-color: #7f7f7f\">               </span>\n",
       "<span style=\"color: #7fbfbf; text-decoration-color: #7fbfbf\">                    </span>         <span style=\"color: #008000; text-decoration-color: #008000\">'interactions.0.conv.nn.2.weight'</span>, <span style=\"color: #008000; text-decoration-color: #008000\">'interactions.0.conv.nn.2.bias'</span>,    <span style=\"color: #7f7f7f; text-decoration-color: #7f7f7f\">               </span>\n",
       "<span style=\"color: #7fbfbf; text-decoration-color: #7fbfbf\">                    </span>         <span style=\"color: #008000; text-decoration-color: #008000\">'interactions.0.lin.weight'</span>, <span style=\"color: #008000; text-decoration-color: #008000\">'interactions.0.lin.bias'</span>,                <span style=\"color: #7f7f7f; text-decoration-color: #7f7f7f\">               </span>\n",
       "<span style=\"color: #7fbfbf; text-decoration-color: #7fbfbf\">                    </span>         <span style=\"color: #008000; text-decoration-color: #008000\">'interactions.1.mlp.0.weight'</span>, <span style=\"color: #008000; text-decoration-color: #008000\">'interactions.1.mlp.0.bias'</span>,            <span style=\"color: #7f7f7f; text-decoration-color: #7f7f7f\">               </span>\n",
       "<span style=\"color: #7fbfbf; text-decoration-color: #7fbfbf\">                    </span>         <span style=\"color: #008000; text-decoration-color: #008000\">'interactions.1.mlp.2.weight'</span>, <span style=\"color: #008000; text-decoration-color: #008000\">'interactions.1.mlp.2.bias'</span>,            <span style=\"color: #7f7f7f; text-decoration-color: #7f7f7f\">               </span>\n",
       "<span style=\"color: #7fbfbf; text-decoration-color: #7fbfbf\">                    </span>         <span style=\"color: #008000; text-decoration-color: #008000\">'interactions.1.conv.lin1.weight'</span>, <span style=\"color: #008000; text-decoration-color: #008000\">'interactions.1.conv.lin2.weight'</span>,  <span style=\"color: #7f7f7f; text-decoration-color: #7f7f7f\">               </span>\n",
       "<span style=\"color: #7fbfbf; text-decoration-color: #7fbfbf\">                    </span>         <span style=\"color: #008000; text-decoration-color: #008000\">'interactions.1.conv.lin2.bias'</span>, <span style=\"color: #008000; text-decoration-color: #008000\">'interactions.1.conv.nn.0.weight'</span>,    <span style=\"color: #7f7f7f; text-decoration-color: #7f7f7f\">               </span>\n",
       "<span style=\"color: #7fbfbf; text-decoration-color: #7fbfbf\">                    </span>         <span style=\"color: #008000; text-decoration-color: #008000\">'interactions.1.conv.nn.0.bias'</span>, <span style=\"color: #008000; text-decoration-color: #008000\">'interactions.1.conv.nn.2.weight'</span>,    <span style=\"color: #7f7f7f; text-decoration-color: #7f7f7f\">               </span>\n",
       "<span style=\"color: #7fbfbf; text-decoration-color: #7fbfbf\">                    </span>         <span style=\"color: #008000; text-decoration-color: #008000\">'interactions.1.conv.nn.2.bias'</span>, <span style=\"color: #008000; text-decoration-color: #008000\">'interactions.1.lin.weight'</span>,          <span style=\"color: #7f7f7f; text-decoration-color: #7f7f7f\">               </span>\n",
       "<span style=\"color: #7fbfbf; text-decoration-color: #7fbfbf\">                    </span>         <span style=\"color: #008000; text-decoration-color: #008000\">'interactions.1.lin.bias'</span>, <span style=\"color: #008000; text-decoration-color: #008000\">'interactions.2.mlp.0.weight'</span>,              <span style=\"color: #7f7f7f; text-decoration-color: #7f7f7f\">               </span>\n",
       "<span style=\"color: #7fbfbf; text-decoration-color: #7fbfbf\">                    </span>         <span style=\"color: #008000; text-decoration-color: #008000\">'interactions.2.mlp.0.bias'</span>, <span style=\"color: #008000; text-decoration-color: #008000\">'interactions.2.mlp.2.weight'</span>,            <span style=\"color: #7f7f7f; text-decoration-color: #7f7f7f\">               </span>\n",
       "<span style=\"color: #7fbfbf; text-decoration-color: #7fbfbf\">                    </span>         <span style=\"color: #008000; text-decoration-color: #008000\">'interactions.2.mlp.2.bias'</span>, <span style=\"color: #008000; text-decoration-color: #008000\">'interactions.2.conv.lin1.weight'</span>,        <span style=\"color: #7f7f7f; text-decoration-color: #7f7f7f\">               </span>\n",
       "<span style=\"color: #7fbfbf; text-decoration-color: #7fbfbf\">                    </span>         <span style=\"color: #008000; text-decoration-color: #008000\">'interactions.2.conv.lin2.weight'</span>, <span style=\"color: #008000; text-decoration-color: #008000\">'interactions.2.conv.lin2.bias'</span>,    <span style=\"color: #7f7f7f; text-decoration-color: #7f7f7f\">               </span>\n",
       "<span style=\"color: #7fbfbf; text-decoration-color: #7fbfbf\">                    </span>         <span style=\"color: #008000; text-decoration-color: #008000\">'interactions.2.conv.nn.0.weight'</span>, <span style=\"color: #008000; text-decoration-color: #008000\">'interactions.2.conv.nn.0.bias'</span>,    <span style=\"color: #7f7f7f; text-decoration-color: #7f7f7f\">               </span>\n",
       "<span style=\"color: #7fbfbf; text-decoration-color: #7fbfbf\">                    </span>         <span style=\"color: #008000; text-decoration-color: #008000\">'interactions.2.conv.nn.2.weight'</span>, <span style=\"color: #008000; text-decoration-color: #008000\">'interactions.2.conv.nn.2.bias'</span>,    <span style=\"color: #7f7f7f; text-decoration-color: #7f7f7f\">               </span>\n",
       "<span style=\"color: #7fbfbf; text-decoration-color: #7fbfbf\">                    </span>         <span style=\"color: #008000; text-decoration-color: #008000\">'interactions.2.lin.weight'</span>, <span style=\"color: #008000; text-decoration-color: #008000\">'interactions.2.lin.bias'</span>,                <span style=\"color: #7f7f7f; text-decoration-color: #7f7f7f\">               </span>\n",
       "<span style=\"color: #7fbfbf; text-decoration-color: #7fbfbf\">                    </span>         <span style=\"color: #008000; text-decoration-color: #008000\">'interactions.3.mlp.0.weight'</span>, <span style=\"color: #008000; text-decoration-color: #008000\">'interactions.3.mlp.0.bias'</span>,            <span style=\"color: #7f7f7f; text-decoration-color: #7f7f7f\">               </span>\n",
       "<span style=\"color: #7fbfbf; text-decoration-color: #7fbfbf\">                    </span>         <span style=\"color: #008000; text-decoration-color: #008000\">'interactions.3.mlp.2.weight'</span>, <span style=\"color: #008000; text-decoration-color: #008000\">'interactions.3.mlp.2.bias'</span>,            <span style=\"color: #7f7f7f; text-decoration-color: #7f7f7f\">               </span>\n",
       "<span style=\"color: #7fbfbf; text-decoration-color: #7fbfbf\">                    </span>         <span style=\"color: #008000; text-decoration-color: #008000\">'interactions.3.conv.lin1.weight'</span>, <span style=\"color: #008000; text-decoration-color: #008000\">'interactions.3.conv.lin2.weight'</span>,  <span style=\"color: #7f7f7f; text-decoration-color: #7f7f7f\">               </span>\n",
       "<span style=\"color: #7fbfbf; text-decoration-color: #7fbfbf\">                    </span>         <span style=\"color: #008000; text-decoration-color: #008000\">'interactions.3.conv.lin2.bias'</span>, <span style=\"color: #008000; text-decoration-color: #008000\">'interactions.3.conv.nn.0.weight'</span>,    <span style=\"color: #7f7f7f; text-decoration-color: #7f7f7f\">               </span>\n",
       "<span style=\"color: #7fbfbf; text-decoration-color: #7fbfbf\">                    </span>         <span style=\"color: #008000; text-decoration-color: #008000\">'interactions.3.conv.nn.0.bias'</span>, <span style=\"color: #008000; text-decoration-color: #008000\">'interactions.3.conv.nn.2.weight'</span>,    <span style=\"color: #7f7f7f; text-decoration-color: #7f7f7f\">               </span>\n",
       "<span style=\"color: #7fbfbf; text-decoration-color: #7fbfbf\">                    </span>         <span style=\"color: #008000; text-decoration-color: #008000\">'interactions.3.conv.nn.2.bias'</span>, <span style=\"color: #008000; text-decoration-color: #008000\">'interactions.3.lin.weight'</span>,          <span style=\"color: #7f7f7f; text-decoration-color: #7f7f7f\">               </span>\n",
       "<span style=\"color: #7fbfbf; text-decoration-color: #7fbfbf\">                    </span>         <span style=\"color: #008000; text-decoration-color: #008000\">'interactions.3.lin.bias'</span>, <span style=\"color: #008000; text-decoration-color: #008000\">'interactions.4.mlp.0.weight'</span>,              <span style=\"color: #7f7f7f; text-decoration-color: #7f7f7f\">               </span>\n",
       "<span style=\"color: #7fbfbf; text-decoration-color: #7fbfbf\">                    </span>         <span style=\"color: #008000; text-decoration-color: #008000\">'interactions.4.mlp.0.bias'</span>, <span style=\"color: #008000; text-decoration-color: #008000\">'interactions.4.mlp.2.weight'</span>,            <span style=\"color: #7f7f7f; text-decoration-color: #7f7f7f\">               </span>\n",
       "<span style=\"color: #7fbfbf; text-decoration-color: #7fbfbf\">                    </span>         <span style=\"color: #008000; text-decoration-color: #008000\">'interactions.4.mlp.2.bias'</span>, <span style=\"color: #008000; text-decoration-color: #008000\">'interactions.4.conv.lin1.weight'</span>,        <span style=\"color: #7f7f7f; text-decoration-color: #7f7f7f\">               </span>\n",
       "<span style=\"color: #7fbfbf; text-decoration-color: #7fbfbf\">                    </span>         <span style=\"color: #008000; text-decoration-color: #008000\">'interactions.4.conv.lin2.weight'</span>, <span style=\"color: #008000; text-decoration-color: #008000\">'interactions.4.conv.lin2.bias'</span>,    <span style=\"color: #7f7f7f; text-decoration-color: #7f7f7f\">               </span>\n",
       "<span style=\"color: #7fbfbf; text-decoration-color: #7fbfbf\">                    </span>         <span style=\"color: #008000; text-decoration-color: #008000\">'interactions.4.conv.nn.0.weight'</span>, <span style=\"color: #008000; text-decoration-color: #008000\">'interactions.4.conv.nn.0.bias'</span>,    <span style=\"color: #7f7f7f; text-decoration-color: #7f7f7f\">               </span>\n",
       "<span style=\"color: #7fbfbf; text-decoration-color: #7fbfbf\">                    </span>         <span style=\"color: #008000; text-decoration-color: #008000\">'interactions.4.conv.nn.2.weight'</span>, <span style=\"color: #008000; text-decoration-color: #008000\">'interactions.4.conv.nn.2.bias'</span>,    <span style=\"color: #7f7f7f; text-decoration-color: #7f7f7f\">               </span>\n",
       "<span style=\"color: #7fbfbf; text-decoration-color: #7fbfbf\">                    </span>         <span style=\"color: #008000; text-decoration-color: #008000\">'interactions.4.lin.weight'</span>, <span style=\"color: #008000; text-decoration-color: #008000\">'interactions.4.lin.bias'</span>,                <span style=\"color: #7f7f7f; text-decoration-color: #7f7f7f\">               </span>\n",
       "<span style=\"color: #7fbfbf; text-decoration-color: #7fbfbf\">                    </span>         <span style=\"color: #008000; text-decoration-color: #008000\">'interactions.5.mlp.0.weight'</span>, <span style=\"color: #008000; text-decoration-color: #008000\">'interactions.5.mlp.0.bias'</span>,            <span style=\"color: #7f7f7f; text-decoration-color: #7f7f7f\">               </span>\n",
       "<span style=\"color: #7fbfbf; text-decoration-color: #7fbfbf\">                    </span>         <span style=\"color: #008000; text-decoration-color: #008000\">'interactions.5.mlp.2.weight'</span>, <span style=\"color: #008000; text-decoration-color: #008000\">'interactions.5.mlp.2.bias'</span>,            <span style=\"color: #7f7f7f; text-decoration-color: #7f7f7f\">               </span>\n",
       "<span style=\"color: #7fbfbf; text-decoration-color: #7fbfbf\">                    </span>         <span style=\"color: #008000; text-decoration-color: #008000\">'interactions.5.conv.lin1.weight'</span>, <span style=\"color: #008000; text-decoration-color: #008000\">'interactions.5.conv.lin2.weight'</span>,  <span style=\"color: #7f7f7f; text-decoration-color: #7f7f7f\">               </span>\n",
       "<span style=\"color: #7fbfbf; text-decoration-color: #7fbfbf\">                    </span>         <span style=\"color: #008000; text-decoration-color: #008000\">'interactions.5.conv.lin2.bias'</span>, <span style=\"color: #008000; text-decoration-color: #008000\">'interactions.5.conv.nn.0.weight'</span>,    <span style=\"color: #7f7f7f; text-decoration-color: #7f7f7f\">               </span>\n",
       "<span style=\"color: #7fbfbf; text-decoration-color: #7fbfbf\">                    </span>         <span style=\"color: #008000; text-decoration-color: #008000\">'interactions.5.conv.nn.0.bias'</span>, <span style=\"color: #008000; text-decoration-color: #008000\">'interactions.5.conv.nn.2.weight'</span>,    <span style=\"color: #7f7f7f; text-decoration-color: #7f7f7f\">               </span>\n",
       "<span style=\"color: #7fbfbf; text-decoration-color: #7fbfbf\">                    </span>         <span style=\"color: #008000; text-decoration-color: #008000\">'interactions.5.conv.nn.2.bias'</span>, <span style=\"color: #008000; text-decoration-color: #008000\">'interactions.5.lin.weight'</span>,          <span style=\"color: #7f7f7f; text-decoration-color: #7f7f7f\">               </span>\n",
       "<span style=\"color: #7fbfbf; text-decoration-color: #7fbfbf\">                    </span>         <span style=\"color: #008000; text-decoration-color: #008000\">'interactions.5.lin.bias'</span>, <span style=\"color: #008000; text-decoration-color: #008000\">'lin1.weight'</span>, <span style=\"color: #008000; text-decoration-color: #008000\">'lin1.bias'</span>, <span style=\"color: #008000; text-decoration-color: #008000\">'lin2.weight'</span>,  <span style=\"color: #7f7f7f; text-decoration-color: #7f7f7f\">               </span>\n",
       "<span style=\"color: #7fbfbf; text-decoration-color: #7fbfbf\">                    </span>         <span style=\"color: #008000; text-decoration-color: #008000\">'lin2.bias'</span><span style=\"font-weight: bold\">]</span>, <span style=\"color: #808000; text-decoration-color: #808000\">unexpected_keys</span>=<span style=\"font-weight: bold\">[])</span>                                      <span style=\"color: #7f7f7f; text-decoration-color: #7f7f7f\">               </span>\n",
       "</pre>\n"
      ],
      "text/plain": [
       "\u001b[2;36m                   \u001b[0m\u001b[2;36m \u001b[0m\u001b[31mWARNING \u001b[0m Error loading encoder weights:                                         \u001b]8;id=767030;file:///home/zhang/Projects/3d/ProteinWorkshop/proteinworkshop/finetune.py\u001b\\\u001b[2mfinetune.py\u001b[0m\u001b]8;;\u001b\\\u001b[2m:\u001b[0m\u001b]8;id=831225;file:///home/zhang/Projects/3d/ProteinWorkshop/proteinworkshop/finetune.py#176\u001b\\\u001b[2m176\u001b[0m\u001b]8;;\u001b\\\n",
       "\u001b[2;36m                    \u001b[0m         \u001b[1;35m_IncompatibleKeys\u001b[0m\u001b[1m(\u001b[0m\u001b[33mmissing_keys\u001b[0m=\u001b[1m[\u001b[0m\u001b[32m'embedding.weight'\u001b[0m, \u001b[32m'embedding.bias'\u001b[0m,  \u001b[2m               \u001b[0m\n",
       "\u001b[2;36m                    \u001b[0m         \u001b[32m'distance_expansion.offset'\u001b[0m, \u001b[32m'interactions.0.mlp.0.weight'\u001b[0m,            \u001b[2m               \u001b[0m\n",
       "\u001b[2;36m                    \u001b[0m         \u001b[32m'interactions.0.mlp.0.bias'\u001b[0m, \u001b[32m'interactions.0.mlp.2.weight'\u001b[0m,            \u001b[2m               \u001b[0m\n",
       "\u001b[2;36m                    \u001b[0m         \u001b[32m'interactions.0.mlp.2.bias'\u001b[0m, \u001b[32m'interactions.0.conv.lin1.weight'\u001b[0m,        \u001b[2m               \u001b[0m\n",
       "\u001b[2;36m                    \u001b[0m         \u001b[32m'interactions.0.conv.lin2.weight'\u001b[0m, \u001b[32m'interactions.0.conv.lin2.bias'\u001b[0m,    \u001b[2m               \u001b[0m\n",
       "\u001b[2;36m                    \u001b[0m         \u001b[32m'interactions.0.conv.nn.0.weight'\u001b[0m, \u001b[32m'interactions.0.conv.nn.0.bias'\u001b[0m,    \u001b[2m               \u001b[0m\n",
       "\u001b[2;36m                    \u001b[0m         \u001b[32m'interactions.0.conv.nn.2.weight'\u001b[0m, \u001b[32m'interactions.0.conv.nn.2.bias'\u001b[0m,    \u001b[2m               \u001b[0m\n",
       "\u001b[2;36m                    \u001b[0m         \u001b[32m'interactions.0.lin.weight'\u001b[0m, \u001b[32m'interactions.0.lin.bias'\u001b[0m,                \u001b[2m               \u001b[0m\n",
       "\u001b[2;36m                    \u001b[0m         \u001b[32m'interactions.1.mlp.0.weight'\u001b[0m, \u001b[32m'interactions.1.mlp.0.bias'\u001b[0m,            \u001b[2m               \u001b[0m\n",
       "\u001b[2;36m                    \u001b[0m         \u001b[32m'interactions.1.mlp.2.weight'\u001b[0m, \u001b[32m'interactions.1.mlp.2.bias'\u001b[0m,            \u001b[2m               \u001b[0m\n",
       "\u001b[2;36m                    \u001b[0m         \u001b[32m'interactions.1.conv.lin1.weight'\u001b[0m, \u001b[32m'interactions.1.conv.lin2.weight'\u001b[0m,  \u001b[2m               \u001b[0m\n",
       "\u001b[2;36m                    \u001b[0m         \u001b[32m'interactions.1.conv.lin2.bias'\u001b[0m, \u001b[32m'interactions.1.conv.nn.0.weight'\u001b[0m,    \u001b[2m               \u001b[0m\n",
       "\u001b[2;36m                    \u001b[0m         \u001b[32m'interactions.1.conv.nn.0.bias'\u001b[0m, \u001b[32m'interactions.1.conv.nn.2.weight'\u001b[0m,    \u001b[2m               \u001b[0m\n",
       "\u001b[2;36m                    \u001b[0m         \u001b[32m'interactions.1.conv.nn.2.bias'\u001b[0m, \u001b[32m'interactions.1.lin.weight'\u001b[0m,          \u001b[2m               \u001b[0m\n",
       "\u001b[2;36m                    \u001b[0m         \u001b[32m'interactions.1.lin.bias'\u001b[0m, \u001b[32m'interactions.2.mlp.0.weight'\u001b[0m,              \u001b[2m               \u001b[0m\n",
       "\u001b[2;36m                    \u001b[0m         \u001b[32m'interactions.2.mlp.0.bias'\u001b[0m, \u001b[32m'interactions.2.mlp.2.weight'\u001b[0m,            \u001b[2m               \u001b[0m\n",
       "\u001b[2;36m                    \u001b[0m         \u001b[32m'interactions.2.mlp.2.bias'\u001b[0m, \u001b[32m'interactions.2.conv.lin1.weight'\u001b[0m,        \u001b[2m               \u001b[0m\n",
       "\u001b[2;36m                    \u001b[0m         \u001b[32m'interactions.2.conv.lin2.weight'\u001b[0m, \u001b[32m'interactions.2.conv.lin2.bias'\u001b[0m,    \u001b[2m               \u001b[0m\n",
       "\u001b[2;36m                    \u001b[0m         \u001b[32m'interactions.2.conv.nn.0.weight'\u001b[0m, \u001b[32m'interactions.2.conv.nn.0.bias'\u001b[0m,    \u001b[2m               \u001b[0m\n",
       "\u001b[2;36m                    \u001b[0m         \u001b[32m'interactions.2.conv.nn.2.weight'\u001b[0m, \u001b[32m'interactions.2.conv.nn.2.bias'\u001b[0m,    \u001b[2m               \u001b[0m\n",
       "\u001b[2;36m                    \u001b[0m         \u001b[32m'interactions.2.lin.weight'\u001b[0m, \u001b[32m'interactions.2.lin.bias'\u001b[0m,                \u001b[2m               \u001b[0m\n",
       "\u001b[2;36m                    \u001b[0m         \u001b[32m'interactions.3.mlp.0.weight'\u001b[0m, \u001b[32m'interactions.3.mlp.0.bias'\u001b[0m,            \u001b[2m               \u001b[0m\n",
       "\u001b[2;36m                    \u001b[0m         \u001b[32m'interactions.3.mlp.2.weight'\u001b[0m, \u001b[32m'interactions.3.mlp.2.bias'\u001b[0m,            \u001b[2m               \u001b[0m\n",
       "\u001b[2;36m                    \u001b[0m         \u001b[32m'interactions.3.conv.lin1.weight'\u001b[0m, \u001b[32m'interactions.3.conv.lin2.weight'\u001b[0m,  \u001b[2m               \u001b[0m\n",
       "\u001b[2;36m                    \u001b[0m         \u001b[32m'interactions.3.conv.lin2.bias'\u001b[0m, \u001b[32m'interactions.3.conv.nn.0.weight'\u001b[0m,    \u001b[2m               \u001b[0m\n",
       "\u001b[2;36m                    \u001b[0m         \u001b[32m'interactions.3.conv.nn.0.bias'\u001b[0m, \u001b[32m'interactions.3.conv.nn.2.weight'\u001b[0m,    \u001b[2m               \u001b[0m\n",
       "\u001b[2;36m                    \u001b[0m         \u001b[32m'interactions.3.conv.nn.2.bias'\u001b[0m, \u001b[32m'interactions.3.lin.weight'\u001b[0m,          \u001b[2m               \u001b[0m\n",
       "\u001b[2;36m                    \u001b[0m         \u001b[32m'interactions.3.lin.bias'\u001b[0m, \u001b[32m'interactions.4.mlp.0.weight'\u001b[0m,              \u001b[2m               \u001b[0m\n",
       "\u001b[2;36m                    \u001b[0m         \u001b[32m'interactions.4.mlp.0.bias'\u001b[0m, \u001b[32m'interactions.4.mlp.2.weight'\u001b[0m,            \u001b[2m               \u001b[0m\n",
       "\u001b[2;36m                    \u001b[0m         \u001b[32m'interactions.4.mlp.2.bias'\u001b[0m, \u001b[32m'interactions.4.conv.lin1.weight'\u001b[0m,        \u001b[2m               \u001b[0m\n",
       "\u001b[2;36m                    \u001b[0m         \u001b[32m'interactions.4.conv.lin2.weight'\u001b[0m, \u001b[32m'interactions.4.conv.lin2.bias'\u001b[0m,    \u001b[2m               \u001b[0m\n",
       "\u001b[2;36m                    \u001b[0m         \u001b[32m'interactions.4.conv.nn.0.weight'\u001b[0m, \u001b[32m'interactions.4.conv.nn.0.bias'\u001b[0m,    \u001b[2m               \u001b[0m\n",
       "\u001b[2;36m                    \u001b[0m         \u001b[32m'interactions.4.conv.nn.2.weight'\u001b[0m, \u001b[32m'interactions.4.conv.nn.2.bias'\u001b[0m,    \u001b[2m               \u001b[0m\n",
       "\u001b[2;36m                    \u001b[0m         \u001b[32m'interactions.4.lin.weight'\u001b[0m, \u001b[32m'interactions.4.lin.bias'\u001b[0m,                \u001b[2m               \u001b[0m\n",
       "\u001b[2;36m                    \u001b[0m         \u001b[32m'interactions.5.mlp.0.weight'\u001b[0m, \u001b[32m'interactions.5.mlp.0.bias'\u001b[0m,            \u001b[2m               \u001b[0m\n",
       "\u001b[2;36m                    \u001b[0m         \u001b[32m'interactions.5.mlp.2.weight'\u001b[0m, \u001b[32m'interactions.5.mlp.2.bias'\u001b[0m,            \u001b[2m               \u001b[0m\n",
       "\u001b[2;36m                    \u001b[0m         \u001b[32m'interactions.5.conv.lin1.weight'\u001b[0m, \u001b[32m'interactions.5.conv.lin2.weight'\u001b[0m,  \u001b[2m               \u001b[0m\n",
       "\u001b[2;36m                    \u001b[0m         \u001b[32m'interactions.5.conv.lin2.bias'\u001b[0m, \u001b[32m'interactions.5.conv.nn.0.weight'\u001b[0m,    \u001b[2m               \u001b[0m\n",
       "\u001b[2;36m                    \u001b[0m         \u001b[32m'interactions.5.conv.nn.0.bias'\u001b[0m, \u001b[32m'interactions.5.conv.nn.2.weight'\u001b[0m,    \u001b[2m               \u001b[0m\n",
       "\u001b[2;36m                    \u001b[0m         \u001b[32m'interactions.5.conv.nn.2.bias'\u001b[0m, \u001b[32m'interactions.5.lin.weight'\u001b[0m,          \u001b[2m               \u001b[0m\n",
       "\u001b[2;36m                    \u001b[0m         \u001b[32m'interactions.5.lin.bias'\u001b[0m, \u001b[32m'lin1.weight'\u001b[0m, \u001b[32m'lin1.bias'\u001b[0m, \u001b[32m'lin2.weight'\u001b[0m,  \u001b[2m               \u001b[0m\n",
       "\u001b[2;36m                    \u001b[0m         \u001b[32m'lin2.bias'\u001b[0m\u001b[1m]\u001b[0m, \u001b[33munexpected_keys\u001b[0m=\u001b[1m[\u001b[0m\u001b[1m]\u001b[0m\u001b[1m)\u001b[0m                                      \u001b[2m               \u001b[0m\n"
      ]
     },
     "metadata": {},
     "output_type": "display_data"
    },
    {
     "data": {
      "text/html": [
       "<pre style=\"white-space:pre;overflow-x:auto;line-height:normal;font-family:Menlo,'DejaVu Sans Mono',consolas,'Courier New',monospace\"><span style=\"color: #7fbfbf; text-decoration-color: #7fbfbf\">                    </span><span style=\"color: #000080; text-decoration-color: #000080\">INFO    </span> Logging hyperparameters!                                               <a href=\"file:///home/zhang/Projects/3d/ProteinWorkshop/proteinworkshop/finetune.py\" target=\"_blank\"><span style=\"color: #7f7f7f; text-decoration-color: #7f7f7f\">finetune.py</span></a><span style=\"color: #7f7f7f; text-decoration-color: #7f7f7f\">:</span><a href=\"file:///home/zhang/Projects/3d/ProteinWorkshop/proteinworkshop/finetune.py#189\" target=\"_blank\"><span style=\"color: #7f7f7f; text-decoration-color: #7f7f7f\">189</span></a>\n",
       "</pre>\n"
      ],
      "text/plain": [
       "\u001b[2;36m                   \u001b[0m\u001b[2;36m \u001b[0m\u001b[34mINFO    \u001b[0m Logging hyperparameters!                                               \u001b]8;id=983912;file:///home/zhang/Projects/3d/ProteinWorkshop/proteinworkshop/finetune.py\u001b\\\u001b[2mfinetune.py\u001b[0m\u001b]8;;\u001b\\\u001b[2m:\u001b[0m\u001b]8;id=508676;file:///home/zhang/Projects/3d/ProteinWorkshop/proteinworkshop/finetune.py#189\u001b\\\u001b[2m189\u001b[0m\u001b]8;;\u001b\\\n"
      ]
     },
     "metadata": {},
     "output_type": "display_data"
    },
    {
     "data": {
      "text/html": [
       "<pre style=\"white-space:pre;overflow-x:auto;line-height:normal;font-family:Menlo,'DejaVu Sans Mono',consolas,'Courier New',monospace\"><span style=\"color: #7fbfbf; text-decoration-color: #7fbfbf\">                    </span><span style=\"color: #000080; text-decoration-color: #000080\">INFO    </span> Starting training!                                                     <a href=\"file:///home/zhang/Projects/3d/ProteinWorkshop/proteinworkshop/finetune.py\" target=\"_blank\"><span style=\"color: #7f7f7f; text-decoration-color: #7f7f7f\">finetune.py</span></a><span style=\"color: #7f7f7f; text-decoration-color: #7f7f7f\">:</span><a href=\"file:///home/zhang/Projects/3d/ProteinWorkshop/proteinworkshop/finetune.py#197\" target=\"_blank\"><span style=\"color: #7f7f7f; text-decoration-color: #7f7f7f\">197</span></a>\n",
       "</pre>\n"
      ],
      "text/plain": [
       "\u001b[2;36m                   \u001b[0m\u001b[2;36m \u001b[0m\u001b[34mINFO    \u001b[0m Starting training!                                                     \u001b]8;id=405697;file:///home/zhang/Projects/3d/ProteinWorkshop/proteinworkshop/finetune.py\u001b\\\u001b[2mfinetune.py\u001b[0m\u001b]8;;\u001b\\\u001b[2m:\u001b[0m\u001b]8;id=880157;file:///home/zhang/Projects/3d/ProteinWorkshop/proteinworkshop/finetune.py#197\u001b\\\u001b[2m197\u001b[0m\u001b]8;;\u001b\\\n"
      ]
     },
     "metadata": {},
     "output_type": "display_data"
    },
    {
     "name": "stderr",
     "output_type": "stream",
     "text": [
      "You are using a CUDA device ('NVIDIA GeForce RTX 4090') that has Tensor Cores. To properly utilize them, you should set `torch.set_float32_matmul_precision('medium' | 'high')` which will trade-off precision for performance. For more details, read https://pytorch.org/docs/stable/generated/torch.set_float32_matmul_precision.html#torch.set_float32_matmul_precision\n"
     ]
    },
    {
     "data": {
      "text/html": [
       "<pre style=\"white-space:pre;overflow-x:auto;line-height:normal;font-family:Menlo,'DejaVu Sans Mono',consolas,'Courier New',monospace\"><span style=\"color: #7fbfbf; text-decoration-color: #7fbfbf\">                    </span><span style=\"color: #000080; text-decoration-color: #000080\">INFO    </span> Downloading Protein Function. Fraction <span style=\"color: #008080; text-decoration-color: #008080; font-weight: bold\">1.0</span>                   <a href=\"file:///home/zhang/Projects/3d/ProteinWorkshop/proteinworkshop/datasets/fold_classification.py\" target=\"_blank\"><span style=\"color: #7f7f7f; text-decoration-color: #7f7f7f\">fold_classification.py</span></a><span style=\"color: #7f7f7f; text-decoration-color: #7f7f7f\">:</span><a href=\"file:///home/zhang/Projects/3d/ProteinWorkshop/proteinworkshop/datasets/fold_classification.py#86\" target=\"_blank\"><span style=\"color: #7f7f7f; text-decoration-color: #7f7f7f\">86</span></a>\n",
       "</pre>\n"
      ],
      "text/plain": [
       "\u001b[2;36m                   \u001b[0m\u001b[2;36m \u001b[0m\u001b[34mINFO    \u001b[0m Downloading Protein Function. Fraction \u001b[1;36m1.0\u001b[0m                   \u001b]8;id=492292;file:///home/zhang/Projects/3d/ProteinWorkshop/proteinworkshop/datasets/fold_classification.py\u001b\\\u001b[2mfold_classification.py\u001b[0m\u001b]8;;\u001b\\\u001b[2m:\u001b[0m\u001b]8;id=580427;file:///home/zhang/Projects/3d/ProteinWorkshop/proteinworkshop/datasets/fold_classification.py#86\u001b\\\u001b[2m86\u001b[0m\u001b]8;;\u001b\\\n"
      ]
     },
     "metadata": {},
     "output_type": "display_data"
    },
    {
     "data": {
      "text/html": [
       "<pre style=\"white-space:pre;overflow-x:auto;line-height:normal;font-family:Menlo,'DejaVu Sans Mono',consolas,'Courier New',monospace\"><span style=\"color: #7fbfbf; text-decoration-color: #7fbfbf\">                    </span><span style=\"color: #000080; text-decoration-color: #000080\">INFO    </span> Found SCOP structure tarfile in:                            <a href=\"file:///home/zhang/Projects/3d/ProteinWorkshop/proteinworkshop/datasets/fold_classification.py\" target=\"_blank\"><span style=\"color: #7f7f7f; text-decoration-color: #7f7f7f\">fold_classification.py</span></a><span style=\"color: #7f7f7f; text-decoration-color: #7f7f7f\">:</span><a href=\"file:///home/zhang/Projects/3d/ProteinWorkshop/proteinworkshop/datasets/fold_classification.py#138\" target=\"_blank\"><span style=\"color: #7f7f7f; text-decoration-color: #7f7f7f\">138</span></a>\n",
       "<span style=\"color: #7fbfbf; text-decoration-color: #7fbfbf\">                    </span>         <span style=\"color: #800080; text-decoration-color: #800080\">/home/zhang/Projects/3d/ProteinWorkshop/proteinworkshop/dat</span> <span style=\"color: #7f7f7f; text-decoration-color: #7f7f7f\">                          </span>\n",
       "<span style=\"color: #7fbfbf; text-decoration-color: #7fbfbf\">                    </span>         <span style=\"color: #800080; text-decoration-color: #800080\">a/FoldClassification/</span><span style=\"color: #ff00ff; text-decoration-color: #ff00ff\">pdbstyle-sel-gs-bib-95-1.75.tgz</span>        <span style=\"color: #7f7f7f; text-decoration-color: #7f7f7f\">                          </span>\n",
       "</pre>\n"
      ],
      "text/plain": [
       "\u001b[2;36m                   \u001b[0m\u001b[2;36m \u001b[0m\u001b[34mINFO    \u001b[0m Found SCOP structure tarfile in:                            \u001b]8;id=128290;file:///home/zhang/Projects/3d/ProteinWorkshop/proteinworkshop/datasets/fold_classification.py\u001b\\\u001b[2mfold_classification.py\u001b[0m\u001b]8;;\u001b\\\u001b[2m:\u001b[0m\u001b]8;id=833340;file:///home/zhang/Projects/3d/ProteinWorkshop/proteinworkshop/datasets/fold_classification.py#138\u001b\\\u001b[2m138\u001b[0m\u001b]8;;\u001b\\\n",
       "\u001b[2;36m                    \u001b[0m         \u001b[35m/home/zhang/Projects/3d/ProteinWorkshop/proteinworkshop/dat\u001b[0m \u001b[2m                          \u001b[0m\n",
       "\u001b[2;36m                    \u001b[0m         \u001b[35ma/FoldClassification/\u001b[0m\u001b[95mpdbstyle-sel-gs-bib-95-1.75.tgz\u001b[0m        \u001b[2m                          \u001b[0m\n"
      ]
     },
     "metadata": {},
     "output_type": "display_data"
    },
    {
     "data": {
      "text/html": [
       "<pre style=\"white-space:pre;overflow-x:auto;line-height:normal;font-family:Menlo,'DejaVu Sans Mono',consolas,'Courier New',monospace\"><span style=\"color: #7fbfbf; text-decoration-color: #7fbfbf\">                    </span><span style=\"color: #000080; text-decoration-color: #000080\">INFO    </span> Found SCOPe structures in:                                  <a href=\"file:///home/zhang/Projects/3d/ProteinWorkshop/proteinworkshop/datasets/fold_classification.py\" target=\"_blank\"><span style=\"color: #7f7f7f; text-decoration-color: #7f7f7f\">fold_classification.py</span></a><span style=\"color: #7f7f7f; text-decoration-color: #7f7f7f\">:</span><a href=\"file:///home/zhang/Projects/3d/ProteinWorkshop/proteinworkshop/datasets/fold_classification.py#151\" target=\"_blank\"><span style=\"color: #7f7f7f; text-decoration-color: #7f7f7f\">151</span></a>\n",
       "</pre>\n"
      ],
      "text/plain": [
       "\u001b[2;36m                   \u001b[0m\u001b[2;36m \u001b[0m\u001b[34mINFO    \u001b[0m Found SCOPe structures in:                                  \u001b]8;id=27946;file:///home/zhang/Projects/3d/ProteinWorkshop/proteinworkshop/datasets/fold_classification.py\u001b\\\u001b[2mfold_classification.py\u001b[0m\u001b]8;;\u001b\\\u001b[2m:\u001b[0m\u001b]8;id=601305;file:///home/zhang/Projects/3d/ProteinWorkshop/proteinworkshop/datasets/fold_classification.py#151\u001b\\\u001b[2m151\u001b[0m\u001b]8;;\u001b\\\n"
      ]
     },
     "metadata": {},
     "output_type": "display_data"
    },
    {
     "data": {
      "text/html": [
       "<pre style=\"white-space:pre;overflow-x:auto;line-height:normal;font-family:Menlo,'DejaVu Sans Mono',consolas,'Courier New',monospace\"><span style=\"color: #7fbfbf; text-decoration-color: #7fbfbf\">                    </span><span style=\"color: #000080; text-decoration-color: #000080\">INFO    </span> Preprocessing training data                                                 <a href=\"file:///home/zhang/Projects/3d/ProteinWorkshop/proteinworkshop/datasets/base.py\" target=\"_blank\"><span style=\"color: #7f7f7f; text-decoration-color: #7f7f7f\">base.py</span></a><span style=\"color: #7f7f7f; text-decoration-color: #7f7f7f\">:</span><a href=\"file:///home/zhang/Projects/3d/ProteinWorkshop/proteinworkshop/datasets/base.py#87\" target=\"_blank\"><span style=\"color: #7f7f7f; text-decoration-color: #7f7f7f\">87</span></a>\n",
       "</pre>\n"
      ],
      "text/plain": [
       "\u001b[2;36m                   \u001b[0m\u001b[2;36m \u001b[0m\u001b[34mINFO    \u001b[0m Preprocessing training data                                                 \u001b]8;id=463047;file:///home/zhang/Projects/3d/ProteinWorkshop/proteinworkshop/datasets/base.py\u001b\\\u001b[2mbase.py\u001b[0m\u001b]8;;\u001b\\\u001b[2m:\u001b[0m\u001b]8;id=186667;file:///home/zhang/Projects/3d/ProteinWorkshop/proteinworkshop/datasets/base.py#87\u001b\\\u001b[2m87\u001b[0m\u001b]8;;\u001b\\\n"
      ]
     },
     "metadata": {},
     "output_type": "display_data"
    },
    {
     "data": {
      "text/html": [
       "<pre style=\"white-space:pre;overflow-x:auto;line-height:normal;font-family:Menlo,'DejaVu Sans Mono',consolas,'Courier New',monospace\"><span style=\"color: #7fbfbf; text-decoration-color: #7fbfbf\">                    </span><span style=\"color: #000080; text-decoration-color: #000080\">INFO    </span> Reading labels from:                                        <a href=\"file:///home/zhang/Projects/3d/ProteinWorkshop/proteinworkshop/datasets/fold_classification.py\" target=\"_blank\"><span style=\"color: #7f7f7f; text-decoration-color: #7f7f7f\">fold_classification.py</span></a><span style=\"color: #7f7f7f; text-decoration-color: #7f7f7f\">:</span><a href=\"file:///home/zhang/Projects/3d/ProteinWorkshop/proteinworkshop/datasets/fold_classification.py#154\" target=\"_blank\"><span style=\"color: #7f7f7f; text-decoration-color: #7f7f7f\">154</span></a>\n",
       "<span style=\"color: #7fbfbf; text-decoration-color: #7fbfbf\">                    </span>         <span style=\"color: #800080; text-decoration-color: #800080\">/home/zhang/Projects/3d/ProteinWorkshop/proteinworkshop/dat</span> <span style=\"color: #7f7f7f; text-decoration-color: #7f7f7f\">                          </span>\n",
       "<span style=\"color: #7fbfbf; text-decoration-color: #7fbfbf\">                    </span>         <span style=\"color: #800080; text-decoration-color: #800080\">a/FoldClassification/</span><span style=\"color: #ff00ff; text-decoration-color: #ff00ff\">class_map.txt</span>                          <span style=\"color: #7f7f7f; text-decoration-color: #7f7f7f\">                          </span>\n",
       "</pre>\n"
      ],
      "text/plain": [
       "\u001b[2;36m                   \u001b[0m\u001b[2;36m \u001b[0m\u001b[34mINFO    \u001b[0m Reading labels from:                                        \u001b]8;id=118067;file:///home/zhang/Projects/3d/ProteinWorkshop/proteinworkshop/datasets/fold_classification.py\u001b\\\u001b[2mfold_classification.py\u001b[0m\u001b]8;;\u001b\\\u001b[2m:\u001b[0m\u001b]8;id=320143;file:///home/zhang/Projects/3d/ProteinWorkshop/proteinworkshop/datasets/fold_classification.py#154\u001b\\\u001b[2m154\u001b[0m\u001b]8;;\u001b\\\n",
       "\u001b[2;36m                    \u001b[0m         \u001b[35m/home/zhang/Projects/3d/ProteinWorkshop/proteinworkshop/dat\u001b[0m \u001b[2m                          \u001b[0m\n",
       "\u001b[2;36m                    \u001b[0m         \u001b[35ma/FoldClassification/\u001b[0m\u001b[95mclass_map.txt\u001b[0m                          \u001b[2m                          \u001b[0m\n"
      ]
     },
     "metadata": {},
     "output_type": "display_data"
    },
    {
     "data": {
      "text/html": [
       "<pre style=\"white-space:pre;overflow-x:auto;line-height:normal;font-family:Menlo,'DejaVu Sans Mono',consolas,'Courier New',monospace\"><span style=\"color: #7fbfbf; text-decoration-color: #7fbfbf\">                    </span><span style=\"color: #000080; text-decoration-color: #000080\">INFO    </span> Found <span style=\"color: #008080; text-decoration-color: #008080; font-weight: bold\">12312</span> original examples in training                   <a href=\"file:///home/zhang/Projects/3d/ProteinWorkshop/proteinworkshop/datasets/fold_classification.py\" target=\"_blank\"><span style=\"color: #7f7f7f; text-decoration-color: #7f7f7f\">fold_classification.py</span></a><span style=\"color: #7f7f7f; text-decoration-color: #7f7f7f\">:</span><a href=\"file:///home/zhang/Projects/3d/ProteinWorkshop/proteinworkshop/datasets/fold_classification.py#234\" target=\"_blank\"><span style=\"color: #7f7f7f; text-decoration-color: #7f7f7f\">234</span></a>\n",
       "</pre>\n"
      ],
      "text/plain": [
       "\u001b[2;36m                   \u001b[0m\u001b[2;36m \u001b[0m\u001b[34mINFO    \u001b[0m Found \u001b[1;36m12312\u001b[0m original examples in training                   \u001b]8;id=490665;file:///home/zhang/Projects/3d/ProteinWorkshop/proteinworkshop/datasets/fold_classification.py\u001b\\\u001b[2mfold_classification.py\u001b[0m\u001b]8;;\u001b\\\u001b[2m:\u001b[0m\u001b]8;id=93484;file:///home/zhang/Projects/3d/ProteinWorkshop/proteinworkshop/datasets/fold_classification.py#234\u001b\\\u001b[2m234\u001b[0m\u001b]8;;\u001b\\\n"
      ]
     },
     "metadata": {},
     "output_type": "display_data"
    },
    {
     "data": {
      "text/html": [
       "<pre style=\"white-space:pre;overflow-x:auto;line-height:normal;font-family:Menlo,'DejaVu Sans Mono',consolas,'Courier New',monospace\"><span style=\"color: #7fbfbf; text-decoration-color: #7fbfbf\">                    </span><span style=\"color: #000080; text-decoration-color: #000080\">INFO    </span> Identified <span style=\"color: #008080; text-decoration-color: #008080; font-weight: bold\">1195</span> classes                                     <a href=\"file:///home/zhang/Projects/3d/ProteinWorkshop/proteinworkshop/datasets/fold_classification.py\" target=\"_blank\"><span style=\"color: #7f7f7f; text-decoration-color: #7f7f7f\">fold_classification.py</span></a><span style=\"color: #7f7f7f; text-decoration-color: #7f7f7f\">:</span><a href=\"file:///home/zhang/Projects/3d/ProteinWorkshop/proteinworkshop/datasets/fold_classification.py#247\" target=\"_blank\"><span style=\"color: #7f7f7f; text-decoration-color: #7f7f7f\">247</span></a>\n",
       "</pre>\n"
      ],
      "text/plain": [
       "\u001b[2;36m                   \u001b[0m\u001b[2;36m \u001b[0m\u001b[34mINFO    \u001b[0m Identified \u001b[1;36m1195\u001b[0m classes                                     \u001b]8;id=217365;file:///home/zhang/Projects/3d/ProteinWorkshop/proteinworkshop/datasets/fold_classification.py\u001b\\\u001b[2mfold_classification.py\u001b[0m\u001b]8;;\u001b\\\u001b[2m:\u001b[0m\u001b]8;id=564690;file:///home/zhang/Projects/3d/ProteinWorkshop/proteinworkshop/datasets/fold_classification.py#247\u001b\\\u001b[2m247\u001b[0m\u001b]8;;\u001b\\\n"
      ]
     },
     "metadata": {},
     "output_type": "display_data"
    },
    {
     "data": {
      "text/html": [
       "<pre style=\"white-space:pre;overflow-x:auto;line-height:normal;font-family:Menlo,'DejaVu Sans Mono',consolas,'Courier New',monospace\"><span style=\"color: #7fbfbf; text-decoration-color: #7fbfbf\">                    </span><span style=\"color: #000080; text-decoration-color: #000080\">INFO    </span> All structures already processed and <span style=\"color: #808000; text-decoration-color: #808000\">overwrite</span>=<span style=\"color: #ff0000; text-decoration-color: #ff0000; font-style: italic\">False</span>. Skipping download.   <a href=\"file:///home/zhang/Projects/3d/ProteinWorkshop/proteinworkshop/datasets/base.py\" target=\"_blank\"><span style=\"color: #7f7f7f; text-decoration-color: #7f7f7f\">base.py</span></a><span style=\"color: #7f7f7f; text-decoration-color: #7f7f7f\">:</span><a href=\"file:///home/zhang/Projects/3d/ProteinWorkshop/proteinworkshop/datasets/base.py#327\" target=\"_blank\"><span style=\"color: #7f7f7f; text-decoration-color: #7f7f7f\">327</span></a>\n",
       "</pre>\n"
      ],
      "text/plain": [
       "\u001b[2;36m                   \u001b[0m\u001b[2;36m \u001b[0m\u001b[34mINFO    \u001b[0m All structures already processed and \u001b[33moverwrite\u001b[0m=\u001b[3;91mFalse\u001b[0m. Skipping download.   \u001b]8;id=990088;file:///home/zhang/Projects/3d/ProteinWorkshop/proteinworkshop/datasets/base.py\u001b\\\u001b[2mbase.py\u001b[0m\u001b]8;;\u001b\\\u001b[2m:\u001b[0m\u001b]8;id=616901;file:///home/zhang/Projects/3d/ProteinWorkshop/proteinworkshop/datasets/base.py#327\u001b\\\u001b[2m327\u001b[0m\u001b]8;;\u001b\\\n"
      ]
     },
     "metadata": {},
     "output_type": "display_data"
    },
    {
     "data": {
      "text/html": [
       "<pre style=\"white-space:pre;overflow-x:auto;line-height:normal;font-family:Menlo,'DejaVu Sans Mono',consolas,'Courier New',monospace\"><span style=\"color: #7fbfbf; text-decoration-color: #7fbfbf\">                    </span><span style=\"color: #800000; text-decoration-color: #800000\">WARNING </span> Downloads in .ent format are assumed to be from ASTRAL. These data should  <a href=\"file:///home/zhang/Projects/3d/ProteinWorkshop/proteinworkshop/datasets/base.py\" target=\"_blank\"><span style=\"color: #7f7f7f; text-decoration-color: #7f7f7f\">base.py</span></a><span style=\"color: #7f7f7f; text-decoration-color: #7f7f7f\">:</span><a href=\"file:///home/zhang/Projects/3d/ProteinWorkshop/proteinworkshop/datasets/base.py#357\" target=\"_blank\"><span style=\"color: #7f7f7f; text-decoration-color: #7f7f7f\">357</span></a>\n",
       "<span style=\"color: #7fbfbf; text-decoration-color: #7fbfbf\">                    </span>         have already been downloaded                                               <span style=\"color: #7f7f7f; text-decoration-color: #7f7f7f\">           </span>\n",
       "</pre>\n"
      ],
      "text/plain": [
       "\u001b[2;36m                   \u001b[0m\u001b[2;36m \u001b[0m\u001b[31mWARNING \u001b[0m Downloads in .ent format are assumed to be from ASTRAL. These data should  \u001b]8;id=115265;file:///home/zhang/Projects/3d/ProteinWorkshop/proteinworkshop/datasets/base.py\u001b\\\u001b[2mbase.py\u001b[0m\u001b]8;;\u001b\\\u001b[2m:\u001b[0m\u001b]8;id=772683;file:///home/zhang/Projects/3d/ProteinWorkshop/proteinworkshop/datasets/base.py#357\u001b\\\u001b[2m357\u001b[0m\u001b]8;;\u001b\\\n",
       "\u001b[2;36m                    \u001b[0m         have already been downloaded                                               \u001b[2m           \u001b[0m\n"
      ]
     },
     "metadata": {},
     "output_type": "display_data"
    },
    {
     "data": {
      "text/html": [
       "<pre style=\"white-space:pre;overflow-x:auto;line-height:normal;font-family:Menlo,'DejaVu Sans Mono',consolas,'Courier New',monospace\"><span style=\"color: #7fbfbf; text-decoration-color: #7fbfbf\">                    </span><span style=\"color: #000080; text-decoration-color: #000080\">INFO    </span> Reading data into memory                                                   <a href=\"file:///home/zhang/Projects/3d/ProteinWorkshop/proteinworkshop/datasets/base.py\" target=\"_blank\"><span style=\"color: #7f7f7f; text-decoration-color: #7f7f7f\">base.py</span></a><span style=\"color: #7f7f7f; text-decoration-color: #7f7f7f\">:</span><a href=\"file:///home/zhang/Projects/3d/ProteinWorkshop/proteinworkshop/datasets/base.py#337\" target=\"_blank\"><span style=\"color: #7f7f7f; text-decoration-color: #7f7f7f\">337</span></a>\n",
       "</pre>\n"
      ],
      "text/plain": [
       "\u001b[2;36m                   \u001b[0m\u001b[2;36m \u001b[0m\u001b[34mINFO    \u001b[0m Reading data into memory                                                   \u001b]8;id=594718;file:///home/zhang/Projects/3d/ProteinWorkshop/proteinworkshop/datasets/base.py\u001b\\\u001b[2mbase.py\u001b[0m\u001b]8;;\u001b\\\u001b[2m:\u001b[0m\u001b]8;id=643699;file:///home/zhang/Projects/3d/ProteinWorkshop/proteinworkshop/datasets/base.py#337\u001b\\\u001b[2m337\u001b[0m\u001b]8;;\u001b\\\n"
      ]
     },
     "metadata": {},
     "output_type": "display_data"
    },
    {
     "name": "stderr",
     "output_type": "stream",
     "text": [
      "100%|██████████| 12312/12312 [00:02<00:00, 4109.13it/s]\n"
     ]
    },
    {
     "data": {
      "text/html": [
       "<pre style=\"white-space:pre;overflow-x:auto;line-height:normal;font-family:Menlo,'DejaVu Sans Mono',consolas,'Courier New',monospace\"><span style=\"color: #7fbfbf; text-decoration-color: #7fbfbf\">[07/31/24 15:42:55] </span><span style=\"color: #000080; text-decoration-color: #000080\">INFO    </span> Preprocessing validation data                                               <a href=\"file:///home/zhang/Projects/3d/ProteinWorkshop/proteinworkshop/datasets/base.py\" target=\"_blank\"><span style=\"color: #7f7f7f; text-decoration-color: #7f7f7f\">base.py</span></a><span style=\"color: #7f7f7f; text-decoration-color: #7f7f7f\">:</span><a href=\"file:///home/zhang/Projects/3d/ProteinWorkshop/proteinworkshop/datasets/base.py#89\" target=\"_blank\"><span style=\"color: #7f7f7f; text-decoration-color: #7f7f7f\">89</span></a>\n",
       "</pre>\n"
      ],
      "text/plain": [
       "\u001b[2;36m[07/31/24 15:42:55]\u001b[0m\u001b[2;36m \u001b[0m\u001b[34mINFO    \u001b[0m Preprocessing validation data                                               \u001b]8;id=413983;file:///home/zhang/Projects/3d/ProteinWorkshop/proteinworkshop/datasets/base.py\u001b\\\u001b[2mbase.py\u001b[0m\u001b]8;;\u001b\\\u001b[2m:\u001b[0m\u001b]8;id=778764;file:///home/zhang/Projects/3d/ProteinWorkshop/proteinworkshop/datasets/base.py#89\u001b\\\u001b[2m89\u001b[0m\u001b]8;;\u001b\\\n"
      ]
     },
     "metadata": {},
     "output_type": "display_data"
    },
    {
     "name": "stderr",
     "output_type": "stream",
     "text": [
      "/home/zhang/miniconda3/envs/3d/lib/python3.10/site-packages/lightning/pytorch/callbacks/model_checkpoint.py:652: UserWarning:\n",
      "\n",
      "Checkpoint directory /home/zhang/Projects/3d/ProteinWorkshop/notebooks/outputs/checkpoints exists and is not empty.\n",
      "\n",
      "LOCAL_RANK: 0 - CUDA_VISIBLE_DEVICES: [0]\n"
     ]
    },
    {
     "data": {
      "text/html": [
       "<pre style=\"white-space:pre;overflow-x:auto;line-height:normal;font-family:Menlo,'DejaVu Sans Mono',consolas,'Courier New',monospace\"><span style=\"color: #7fbfbf; text-decoration-color: #7fbfbf\">                    </span><span style=\"color: #000080; text-decoration-color: #000080\">INFO    </span> Instantiating optimiser<span style=\"color: #808000; text-decoration-color: #808000\">...</span>                                                 <a href=\"file:///home/zhang/Projects/3d/ProteinWorkshop/proteinworkshop/models/base.py\" target=\"_blank\"><span style=\"color: #7f7f7f; text-decoration-color: #7f7f7f\">base.py</span></a><span style=\"color: #7f7f7f; text-decoration-color: #7f7f7f\">:</span><a href=\"file:///home/zhang/Projects/3d/ProteinWorkshop/proteinworkshop/models/base.py#215\" target=\"_blank\"><span style=\"color: #7f7f7f; text-decoration-color: #7f7f7f\">215</span></a>\n",
       "</pre>\n"
      ],
      "text/plain": [
       "\u001b[2;36m                   \u001b[0m\u001b[2;36m \u001b[0m\u001b[34mINFO    \u001b[0m Instantiating optimiser\u001b[33m...\u001b[0m                                                 \u001b]8;id=697363;file:///home/zhang/Projects/3d/ProteinWorkshop/proteinworkshop/models/base.py\u001b\\\u001b[2mbase.py\u001b[0m\u001b]8;;\u001b\\\u001b[2m:\u001b[0m\u001b]8;id=401297;file:///home/zhang/Projects/3d/ProteinWorkshop/proteinworkshop/models/base.py#215\u001b\\\u001b[2m215\u001b[0m\u001b]8;;\u001b\\\n"
      ]
     },
     "metadata": {},
     "output_type": "display_data"
    },
    {
     "data": {
      "text/html": [
       "<pre style=\"white-space:pre;overflow-x:auto;line-height:normal;font-family:Menlo,'DejaVu Sans Mono',consolas,'Courier New',monospace\"><span style=\"color: #7fbfbf; text-decoration-color: #7fbfbf\">                    </span><span style=\"color: #000080; text-decoration-color: #000080\">INFO    </span> <span style=\"color: #800080; text-decoration-color: #800080; font-weight: bold\">functools.partial</span><span style=\"font-weight: bold\">(&lt;</span><span style=\"color: #ff00ff; text-decoration-color: #ff00ff; font-weight: bold\">class</span><span style=\"color: #000000; text-decoration-color: #000000\"> </span><span style=\"color: #008000; text-decoration-color: #008000\">'torch.optim.adam.Adam'</span><span style=\"font-weight: bold\">&gt;</span>, <span style=\"color: #808000; text-decoration-color: #808000\">lr</span>=<span style=\"color: #008080; text-decoration-color: #008080; font-weight: bold\">0.0003</span>,              <a href=\"file:///home/zhang/Projects/3d/ProteinWorkshop/proteinworkshop/models/base.py\" target=\"_blank\"><span style=\"color: #7f7f7f; text-decoration-color: #7f7f7f\">base.py</span></a><span style=\"color: #7f7f7f; text-decoration-color: #7f7f7f\">:</span><a href=\"file:///home/zhang/Projects/3d/ProteinWorkshop/proteinworkshop/models/base.py#217\" target=\"_blank\"><span style=\"color: #7f7f7f; text-decoration-color: #7f7f7f\">217</span></a>\n",
       "<span style=\"color: #7fbfbf; text-decoration-color: #7fbfbf\">                    </span>         <span style=\"color: #808000; text-decoration-color: #808000\">weight_decay</span>=<span style=\"color: #008080; text-decoration-color: #008080; font-weight: bold\">0.0</span><span style=\"font-weight: bold\">)</span>                                                          <span style=\"color: #7f7f7f; text-decoration-color: #7f7f7f\">           </span>\n",
       "</pre>\n"
      ],
      "text/plain": [
       "\u001b[2;36m                   \u001b[0m\u001b[2;36m \u001b[0m\u001b[34mINFO    \u001b[0m \u001b[1;35mfunctools.partial\u001b[0m\u001b[1m(\u001b[0m\u001b[1m<\u001b[0m\u001b[1;95mclass\u001b[0m\u001b[39m \u001b[0m\u001b[32m'torch.optim.adam.Adam'\u001b[0m\u001b[1m>\u001b[0m, \u001b[33mlr\u001b[0m=\u001b[1;36m0\u001b[0m\u001b[1;36m.0003\u001b[0m,              \u001b]8;id=820722;file:///home/zhang/Projects/3d/ProteinWorkshop/proteinworkshop/models/base.py\u001b\\\u001b[2mbase.py\u001b[0m\u001b]8;;\u001b\\\u001b[2m:\u001b[0m\u001b]8;id=677522;file:///home/zhang/Projects/3d/ProteinWorkshop/proteinworkshop/models/base.py#217\u001b\\\u001b[2m217\u001b[0m\u001b]8;;\u001b\\\n",
       "\u001b[2;36m                    \u001b[0m         \u001b[33mweight_decay\u001b[0m=\u001b[1;36m0\u001b[0m\u001b[1;36m.0\u001b[0m\u001b[1m)\u001b[0m                                                          \u001b[2m           \u001b[0m\n"
      ]
     },
     "metadata": {},
     "output_type": "display_data"
    },
    {
     "data": {
      "text/html": [
       "<pre style=\"white-space:pre;overflow-x:auto;line-height:normal;font-family:Menlo,'DejaVu Sans Mono',consolas,'Courier New',monospace\"><span style=\"color: #7fbfbf; text-decoration-color: #7fbfbf\">                    </span><span style=\"color: #000080; text-decoration-color: #000080\">INFO    </span> Instantiating scheduler<span style=\"color: #808000; text-decoration-color: #808000\">...</span>                                                 <a href=\"file:///home/zhang/Projects/3d/ProteinWorkshop/proteinworkshop/models/base.py\" target=\"_blank\"><span style=\"color: #7f7f7f; text-decoration-color: #7f7f7f\">base.py</span></a><span style=\"color: #7f7f7f; text-decoration-color: #7f7f7f\">:</span><a href=\"file:///home/zhang/Projects/3d/ProteinWorkshop/proteinworkshop/models/base.py#221\" target=\"_blank\"><span style=\"color: #7f7f7f; text-decoration-color: #7f7f7f\">221</span></a>\n",
       "</pre>\n"
      ],
      "text/plain": [
       "\u001b[2;36m                   \u001b[0m\u001b[2;36m \u001b[0m\u001b[34mINFO    \u001b[0m Instantiating scheduler\u001b[33m...\u001b[0m                                                 \u001b]8;id=710606;file:///home/zhang/Projects/3d/ProteinWorkshop/proteinworkshop/models/base.py\u001b\\\u001b[2mbase.py\u001b[0m\u001b]8;;\u001b\\\u001b[2m:\u001b[0m\u001b]8;id=894222;file:///home/zhang/Projects/3d/ProteinWorkshop/proteinworkshop/models/base.py#221\u001b\\\u001b[2m221\u001b[0m\u001b]8;;\u001b\\\n"
      ]
     },
     "metadata": {},
     "output_type": "display_data"
    },
    {
     "data": {
      "text/html": [
       "<pre style=\"white-space:pre;overflow-x:auto;line-height:normal;font-family:Menlo,'DejaVu Sans Mono',consolas,'Courier New',monospace\"><span style=\"color: #7fbfbf; text-decoration-color: #7fbfbf\">                    </span><span style=\"color: #000080; text-decoration-color: #000080\">INFO    </span> Optimiser configuration: <span style=\"font-weight: bold\">{</span><span style=\"color: #008000; text-decoration-color: #008000\">'optimizer'</span>: Adam <span style=\"font-weight: bold\">(</span>                              <a href=\"file:///home/zhang/Projects/3d/ProteinWorkshop/proteinworkshop/models/base.py\" target=\"_blank\"><span style=\"color: #7f7f7f; text-decoration-color: #7f7f7f\">base.py</span></a><span style=\"color: #7f7f7f; text-decoration-color: #7f7f7f\">:</span><a href=\"file:///home/zhang/Projects/3d/ProteinWorkshop/proteinworkshop/models/base.py#233\" target=\"_blank\"><span style=\"color: #7f7f7f; text-decoration-color: #7f7f7f\">233</span></a>\n",
       "<span style=\"color: #7fbfbf; text-decoration-color: #7fbfbf\">                    </span>         Parameter Group <span style=\"color: #008080; text-decoration-color: #008080; font-weight: bold\">0</span>                                                          <span style=\"color: #7f7f7f; text-decoration-color: #7f7f7f\">           </span>\n",
       "<span style=\"color: #7fbfbf; text-decoration-color: #7fbfbf\">                    </span>             amsgrad: <span style=\"color: #ff0000; text-decoration-color: #ff0000; font-style: italic\">False</span>                                                         <span style=\"color: #7f7f7f; text-decoration-color: #7f7f7f\">           </span>\n",
       "<span style=\"color: #7fbfbf; text-decoration-color: #7fbfbf\">                    </span>             betas: <span style=\"font-weight: bold\">(</span><span style=\"color: #008080; text-decoration-color: #008080; font-weight: bold\">0.9</span>, <span style=\"color: #008080; text-decoration-color: #008080; font-weight: bold\">0.999</span><span style=\"font-weight: bold\">)</span>                                                    <span style=\"color: #7f7f7f; text-decoration-color: #7f7f7f\">           </span>\n",
       "<span style=\"color: #7fbfbf; text-decoration-color: #7fbfbf\">                    </span>             capturable: <span style=\"color: #ff0000; text-decoration-color: #ff0000; font-style: italic\">False</span>                                                      <span style=\"color: #7f7f7f; text-decoration-color: #7f7f7f\">           </span>\n",
       "<span style=\"color: #7fbfbf; text-decoration-color: #7fbfbf\">                    </span>             differentiable: <span style=\"color: #ff0000; text-decoration-color: #ff0000; font-style: italic\">False</span>                                                  <span style=\"color: #7f7f7f; text-decoration-color: #7f7f7f\">           </span>\n",
       "<span style=\"color: #7fbfbf; text-decoration-color: #7fbfbf\">                    </span>             eps: <span style=\"color: #008080; text-decoration-color: #008080; font-weight: bold\">1e-08</span>                                                             <span style=\"color: #7f7f7f; text-decoration-color: #7f7f7f\">           </span>\n",
       "<span style=\"color: #7fbfbf; text-decoration-color: #7fbfbf\">                    </span>             foreach: <span style=\"color: #800080; text-decoration-color: #800080; font-style: italic\">None</span>                                                          <span style=\"color: #7f7f7f; text-decoration-color: #7f7f7f\">           </span>\n",
       "<span style=\"color: #7fbfbf; text-decoration-color: #7fbfbf\">                    </span>             fused: <span style=\"color: #800080; text-decoration-color: #800080; font-style: italic\">None</span>                                                            <span style=\"color: #7f7f7f; text-decoration-color: #7f7f7f\">           </span>\n",
       "<span style=\"color: #7fbfbf; text-decoration-color: #7fbfbf\">                    </span>             lr: <span style=\"color: #008080; text-decoration-color: #008080; font-weight: bold\">0.0003</span>                                                             <span style=\"color: #7f7f7f; text-decoration-color: #7f7f7f\">           </span>\n",
       "<span style=\"color: #7fbfbf; text-decoration-color: #7fbfbf\">                    </span>             maximize: <span style=\"color: #ff0000; text-decoration-color: #ff0000; font-style: italic\">False</span>                                                        <span style=\"color: #7f7f7f; text-decoration-color: #7f7f7f\">           </span>\n",
       "<span style=\"color: #7fbfbf; text-decoration-color: #7fbfbf\">                    </span>             weight_decay: <span style=\"color: #008080; text-decoration-color: #008080; font-weight: bold\">0.0</span>                                                      <span style=\"color: #7f7f7f; text-decoration-color: #7f7f7f\">           </span>\n",
       "<span style=\"color: #7fbfbf; text-decoration-color: #7fbfbf\">                    </span>         <span style=\"font-weight: bold\">)</span>, <span style=\"color: #008000; text-decoration-color: #008000\">'lr_scheduler'</span>: <span style=\"font-weight: bold\">{</span><span style=\"color: #008000; text-decoration-color: #008000\">'scheduler'</span>:                                           <span style=\"color: #7f7f7f; text-decoration-color: #7f7f7f\">           </span>\n",
       "<span style=\"color: #7fbfbf; text-decoration-color: #7fbfbf\">                    </span>         <span style=\"font-weight: bold\">&lt;</span><span style=\"color: #ff00ff; text-decoration-color: #ff00ff; font-weight: bold\">torch.optim.lr_scheduler.ReduceLROnPlateau</span><span style=\"color: #000000; text-decoration-color: #000000\"> object at </span><span style=\"color: #008080; text-decoration-color: #008080; font-weight: bold\">0x7d533c5ffb50</span><span style=\"font-weight: bold\">&gt;</span>,     <span style=\"color: #7f7f7f; text-decoration-color: #7f7f7f\">           </span>\n",
       "<span style=\"color: #7fbfbf; text-decoration-color: #7fbfbf\">                    </span>         <span style=\"color: #008000; text-decoration-color: #008000\">'interval'</span>: <span style=\"color: #008000; text-decoration-color: #008000\">'epoch'</span>, <span style=\"color: #008000; text-decoration-color: #008000\">'frequency'</span>: <span style=\"color: #008080; text-decoration-color: #008080; font-weight: bold\">1</span>, <span style=\"color: #008000; text-decoration-color: #008000\">'monitor'</span>: <span style=\"color: #008000; text-decoration-color: #008000\">'val/loss/total'</span>,          <span style=\"color: #7f7f7f; text-decoration-color: #7f7f7f\">           </span>\n",
       "<span style=\"color: #7fbfbf; text-decoration-color: #7fbfbf\">                    </span>         <span style=\"color: #008000; text-decoration-color: #008000\">'strict'</span>: <span style=\"color: #00ff00; text-decoration-color: #00ff00; font-style: italic\">True</span>, <span style=\"color: #008000; text-decoration-color: #008000\">'name'</span>: <span style=\"color: #008000; text-decoration-color: #008000\">'learning_rate'</span><span style=\"font-weight: bold\">}}</span>                                  <span style=\"color: #7f7f7f; text-decoration-color: #7f7f7f\">           </span>\n",
       "</pre>\n"
      ],
      "text/plain": [
       "\u001b[2;36m                   \u001b[0m\u001b[2;36m \u001b[0m\u001b[34mINFO    \u001b[0m Optimiser configuration: \u001b[1m{\u001b[0m\u001b[32m'optimizer'\u001b[0m: Adam \u001b[1m(\u001b[0m                              \u001b]8;id=561565;file:///home/zhang/Projects/3d/ProteinWorkshop/proteinworkshop/models/base.py\u001b\\\u001b[2mbase.py\u001b[0m\u001b]8;;\u001b\\\u001b[2m:\u001b[0m\u001b]8;id=828533;file:///home/zhang/Projects/3d/ProteinWorkshop/proteinworkshop/models/base.py#233\u001b\\\u001b[2m233\u001b[0m\u001b]8;;\u001b\\\n",
       "\u001b[2;36m                    \u001b[0m         Parameter Group \u001b[1;36m0\u001b[0m                                                          \u001b[2m           \u001b[0m\n",
       "\u001b[2;36m                    \u001b[0m             amsgrad: \u001b[3;91mFalse\u001b[0m                                                         \u001b[2m           \u001b[0m\n",
       "\u001b[2;36m                    \u001b[0m             betas: \u001b[1m(\u001b[0m\u001b[1;36m0.9\u001b[0m, \u001b[1;36m0.999\u001b[0m\u001b[1m)\u001b[0m                                                    \u001b[2m           \u001b[0m\n",
       "\u001b[2;36m                    \u001b[0m             capturable: \u001b[3;91mFalse\u001b[0m                                                      \u001b[2m           \u001b[0m\n",
       "\u001b[2;36m                    \u001b[0m             differentiable: \u001b[3;91mFalse\u001b[0m                                                  \u001b[2m           \u001b[0m\n",
       "\u001b[2;36m                    \u001b[0m             eps: \u001b[1;36m1e-08\u001b[0m                                                             \u001b[2m           \u001b[0m\n",
       "\u001b[2;36m                    \u001b[0m             foreach: \u001b[3;35mNone\u001b[0m                                                          \u001b[2m           \u001b[0m\n",
       "\u001b[2;36m                    \u001b[0m             fused: \u001b[3;35mNone\u001b[0m                                                            \u001b[2m           \u001b[0m\n",
       "\u001b[2;36m                    \u001b[0m             lr: \u001b[1;36m0.0003\u001b[0m                                                             \u001b[2m           \u001b[0m\n",
       "\u001b[2;36m                    \u001b[0m             maximize: \u001b[3;91mFalse\u001b[0m                                                        \u001b[2m           \u001b[0m\n",
       "\u001b[2;36m                    \u001b[0m             weight_decay: \u001b[1;36m0.0\u001b[0m                                                      \u001b[2m           \u001b[0m\n",
       "\u001b[2;36m                    \u001b[0m         \u001b[1m)\u001b[0m, \u001b[32m'lr_scheduler'\u001b[0m: \u001b[1m{\u001b[0m\u001b[32m'scheduler'\u001b[0m:                                           \u001b[2m           \u001b[0m\n",
       "\u001b[2;36m                    \u001b[0m         \u001b[1m<\u001b[0m\u001b[1;95mtorch.optim.lr_scheduler.ReduceLROnPlateau\u001b[0m\u001b[39m object at \u001b[0m\u001b[1;36m0x7d533c5ffb50\u001b[0m\u001b[1m>\u001b[0m,     \u001b[2m           \u001b[0m\n",
       "\u001b[2;36m                    \u001b[0m         \u001b[32m'interval'\u001b[0m: \u001b[32m'epoch'\u001b[0m, \u001b[32m'frequency'\u001b[0m: \u001b[1;36m1\u001b[0m, \u001b[32m'monitor'\u001b[0m: \u001b[32m'val/loss/total'\u001b[0m,          \u001b[2m           \u001b[0m\n",
       "\u001b[2;36m                    \u001b[0m         \u001b[32m'strict'\u001b[0m: \u001b[3;92mTrue\u001b[0m, \u001b[32m'name'\u001b[0m: \u001b[32m'learning_rate'\u001b[0m\u001b[1m}\u001b[0m\u001b[1m}\u001b[0m                                  \u001b[2m           \u001b[0m\n"
      ]
     },
     "metadata": {},
     "output_type": "display_data"
    },
    {
     "name": "stderr",
     "output_type": "stream",
     "text": [
      "/home/zhang/miniconda3/envs/3d/lib/python3.10/site-packages/lightning/pytorch/trainer/connectors/data_connector.py:368: UserWarning:\n",
      "\n",
      "You have overridden `on_after_batch_transfer` in `LightningModule` but have passed in a `LightningDataModule`. It will use the implementation from `LightningModule` instance.\n",
      "\n"
     ]
    },
    {
     "data": {
      "text/html": [
       "<pre style=\"white-space:pre;overflow-x:auto;line-height:normal;font-family:Menlo,'DejaVu Sans Mono',consolas,'Courier New',monospace\">┏━━━━━┳━━━━━━━━━━━━━━━━━━━━━━━━━━━━━━━━━━━━━━━━━━━━━┳━━━━━━━━━━━━━━┳━━━━━━━━┳━━━━━━━┳━━━━━━━━━━━━━━┳━━━━━━━━━━━━━━┓\n",
       "┃<span style=\"color: #800080; text-decoration-color: #800080; font-weight: bold\">     </span>┃<span style=\"color: #800080; text-decoration-color: #800080; font-weight: bold\"> Name                                        </span>┃<span style=\"color: #800080; text-decoration-color: #800080; font-weight: bold\"> Type         </span>┃<span style=\"color: #800080; text-decoration-color: #800080; font-weight: bold\"> Params </span>┃<span style=\"color: #800080; text-decoration-color: #800080; font-weight: bold\"> Mode  </span>┃<span style=\"color: #800080; text-decoration-color: #800080; font-weight: bold\">     In sizes </span>┃<span style=\"color: #800080; text-decoration-color: #800080; font-weight: bold\">    Out sizes </span>┃\n",
       "┡━━━━━╇━━━━━━━━━━━━━━━━━━━━━━━━━━━━━━━━━━━━━━━━━━━━━╇━━━━━━━━━━━━━━╇━━━━━━━━╇━━━━━━━╇━━━━━━━━━━━━━━╇━━━━━━━━━━━━━━┩\n",
       "│<span style=\"color: #7f7f7f; text-decoration-color: #7f7f7f\"> 0   </span>│ encoder                                     │ SchNetModel  │  2.7 M │ train │<span style=\"color: #c0c0c0; text-decoration-color: #c0c0c0\">            ? </span>│<span style=\"color: #c0c0c0; text-decoration-color: #c0c0c0\">            ? </span>│\n",
       "│<span style=\"color: #7f7f7f; text-decoration-color: #7f7f7f\"> 1   </span>│ encoder.sum_aggr                            │ SumAggregat… │      0 │ train │<span style=\"color: #c0c0c0; text-decoration-color: #c0c0c0\">            ? </span>│<span style=\"color: #c0c0c0; text-decoration-color: #c0c0c0\">            ? </span>│\n",
       "│<span style=\"color: #7f7f7f; text-decoration-color: #7f7f7f\"> 2   </span>│ encoder.embedding                           │ Linear       │ 25.6 K │ train │<span style=\"color: #c0c0c0; text-decoration-color: #c0c0c0\">  [10722, 49] </span>│<span style=\"color: #c0c0c0; text-decoration-color: #c0c0c0\"> [10722, 512] </span>│\n",
       "│<span style=\"color: #7f7f7f; text-decoration-color: #7f7f7f\"> 3   </span>│ encoder.distance_expansion                  │ GaussianSme… │      0 │ train │<span style=\"color: #c0c0c0; text-decoration-color: #c0c0c0\">     [171552] </span>│<span style=\"color: #c0c0c0; text-decoration-color: #c0c0c0\"> [171552, 50] </span>│\n",
       "│<span style=\"color: #7f7f7f; text-decoration-color: #7f7f7f\"> 4   </span>│ encoder.interactions                        │ ModuleList   │  2.5 M │ train │<span style=\"color: #c0c0c0; text-decoration-color: #c0c0c0\">            ? </span>│<span style=\"color: #c0c0c0; text-decoration-color: #c0c0c0\">            ? </span>│\n",
       "│<span style=\"color: #7f7f7f; text-decoration-color: #7f7f7f\"> 5   </span>│ encoder.interactions.0                      │ Interaction… │  417 K │ train │<span style=\"color: #c0c0c0; text-decoration-color: #c0c0c0\">     [[10722, </span>│<span style=\"color: #c0c0c0; text-decoration-color: #c0c0c0\"> [10722, 512] </span>│\n",
       "│<span style=\"color: #7f7f7f; text-decoration-color: #7f7f7f\">     </span>│                                             │              │        │       │<span style=\"color: #c0c0c0; text-decoration-color: #c0c0c0\">    512], [2, </span>│<span style=\"color: #c0c0c0; text-decoration-color: #c0c0c0\">              </span>│\n",
       "│<span style=\"color: #7f7f7f; text-decoration-color: #7f7f7f\">     </span>│                                             │              │        │       │<span style=\"color: #c0c0c0; text-decoration-color: #c0c0c0\">     171552], </span>│<span style=\"color: #c0c0c0; text-decoration-color: #c0c0c0\">              </span>│\n",
       "│<span style=\"color: #7f7f7f; text-decoration-color: #7f7f7f\">     </span>│                                             │              │        │       │<span style=\"color: #c0c0c0; text-decoration-color: #c0c0c0\">    [171552], </span>│<span style=\"color: #c0c0c0; text-decoration-color: #c0c0c0\">              </span>│\n",
       "│<span style=\"color: #7f7f7f; text-decoration-color: #7f7f7f\">     </span>│                                             │              │        │       │<span style=\"color: #c0c0c0; text-decoration-color: #c0c0c0\">     [171552, </span>│<span style=\"color: #c0c0c0; text-decoration-color: #c0c0c0\">              </span>│\n",
       "│<span style=\"color: #7f7f7f; text-decoration-color: #7f7f7f\">     </span>│                                             │              │        │       │<span style=\"color: #c0c0c0; text-decoration-color: #c0c0c0\">         50]] </span>│<span style=\"color: #c0c0c0; text-decoration-color: #c0c0c0\">              </span>│\n",
       "│<span style=\"color: #7f7f7f; text-decoration-color: #7f7f7f\"> 6   </span>│ encoder.interactions.0.mlp                  │ Sequential   │ 23.0 K │ train │<span style=\"color: #c0c0c0; text-decoration-color: #c0c0c0\"> [171552, 50] </span>│<span style=\"color: #c0c0c0; text-decoration-color: #c0c0c0\">     [171552, </span>│\n",
       "│<span style=\"color: #7f7f7f; text-decoration-color: #7f7f7f\">     </span>│                                             │              │        │       │<span style=\"color: #c0c0c0; text-decoration-color: #c0c0c0\">              </span>│<span style=\"color: #c0c0c0; text-decoration-color: #c0c0c0\">         128] </span>│\n",
       "│<span style=\"color: #7f7f7f; text-decoration-color: #7f7f7f\"> 7   </span>│ encoder.interactions.0.mlp.0                │ Linear       │  6.5 K │ train │<span style=\"color: #c0c0c0; text-decoration-color: #c0c0c0\"> [171552, 50] </span>│<span style=\"color: #c0c0c0; text-decoration-color: #c0c0c0\">     [171552, </span>│\n",
       "│<span style=\"color: #7f7f7f; text-decoration-color: #7f7f7f\">     </span>│                                             │              │        │       │<span style=\"color: #c0c0c0; text-decoration-color: #c0c0c0\">              </span>│<span style=\"color: #c0c0c0; text-decoration-color: #c0c0c0\">         128] </span>│\n",
       "│<span style=\"color: #7f7f7f; text-decoration-color: #7f7f7f\"> 8   </span>│ encoder.interactions.0.mlp.1                │ ShiftedSoft… │      0 │ train │<span style=\"color: #c0c0c0; text-decoration-color: #c0c0c0\">     [171552, </span>│<span style=\"color: #c0c0c0; text-decoration-color: #c0c0c0\">     [171552, </span>│\n",
       "│<span style=\"color: #7f7f7f; text-decoration-color: #7f7f7f\">     </span>│                                             │              │        │       │<span style=\"color: #c0c0c0; text-decoration-color: #c0c0c0\">         128] </span>│<span style=\"color: #c0c0c0; text-decoration-color: #c0c0c0\">         128] </span>│\n",
       "│<span style=\"color: #7f7f7f; text-decoration-color: #7f7f7f\"> 9   </span>│ encoder.interactions.0.mlp.2                │ Linear       │ 16.5 K │ train │<span style=\"color: #c0c0c0; text-decoration-color: #c0c0c0\">     [171552, </span>│<span style=\"color: #c0c0c0; text-decoration-color: #c0c0c0\">     [171552, </span>│\n",
       "│<span style=\"color: #7f7f7f; text-decoration-color: #7f7f7f\">     </span>│                                             │              │        │       │<span style=\"color: #c0c0c0; text-decoration-color: #c0c0c0\">         128] </span>│<span style=\"color: #c0c0c0; text-decoration-color: #c0c0c0\">         128] </span>│\n",
       "│<span style=\"color: #7f7f7f; text-decoration-color: #7f7f7f\"> 10  </span>│ encoder.interactions.0.conv                 │ CFConv       │  154 K │ train │<span style=\"color: #c0c0c0; text-decoration-color: #c0c0c0\">     [[10722, </span>│<span style=\"color: #c0c0c0; text-decoration-color: #c0c0c0\"> [10722, 512] </span>│\n",
       "│<span style=\"color: #7f7f7f; text-decoration-color: #7f7f7f\">     </span>│                                             │              │        │       │<span style=\"color: #c0c0c0; text-decoration-color: #c0c0c0\">    512], [2, </span>│<span style=\"color: #c0c0c0; text-decoration-color: #c0c0c0\">              </span>│\n",
       "│<span style=\"color: #7f7f7f; text-decoration-color: #7f7f7f\">     </span>│                                             │              │        │       │<span style=\"color: #c0c0c0; text-decoration-color: #c0c0c0\">     171552], </span>│<span style=\"color: #c0c0c0; text-decoration-color: #c0c0c0\">              </span>│\n",
       "│<span style=\"color: #7f7f7f; text-decoration-color: #7f7f7f\">     </span>│                                             │              │        │       │<span style=\"color: #c0c0c0; text-decoration-color: #c0c0c0\">    [171552], </span>│<span style=\"color: #c0c0c0; text-decoration-color: #c0c0c0\">              </span>│\n",
       "│<span style=\"color: #7f7f7f; text-decoration-color: #7f7f7f\">     </span>│                                             │              │        │       │<span style=\"color: #c0c0c0; text-decoration-color: #c0c0c0\">     [171552, </span>│<span style=\"color: #c0c0c0; text-decoration-color: #c0c0c0\">              </span>│\n",
       "│<span style=\"color: #7f7f7f; text-decoration-color: #7f7f7f\">     </span>│                                             │              │        │       │<span style=\"color: #c0c0c0; text-decoration-color: #c0c0c0\">         50]] </span>│<span style=\"color: #c0c0c0; text-decoration-color: #c0c0c0\">              </span>│\n",
       "│<span style=\"color: #7f7f7f; text-decoration-color: #7f7f7f\"> 11  </span>│ encoder.interactions.0.conv.aggr_module     │ SumAggregat… │      0 │ train │<span style=\"color: #c0c0c0; text-decoration-color: #c0c0c0\">    [[171552, </span>│<span style=\"color: #c0c0c0; text-decoration-color: #c0c0c0\"> [10722, 128] </span>│\n",
       "│<span style=\"color: #7f7f7f; text-decoration-color: #7f7f7f\">     </span>│                                             │              │        │       │<span style=\"color: #c0c0c0; text-decoration-color: #c0c0c0\">        128], </span>│<span style=\"color: #c0c0c0; text-decoration-color: #c0c0c0\">              </span>│\n",
       "│<span style=\"color: #7f7f7f; text-decoration-color: #7f7f7f\">     </span>│                                             │              │        │       │<span style=\"color: #c0c0c0; text-decoration-color: #c0c0c0\">    [171552], </span>│<span style=\"color: #c0c0c0; text-decoration-color: #c0c0c0\">              </span>│\n",
       "│<span style=\"color: #7f7f7f; text-decoration-color: #7f7f7f\">     </span>│                                             │              │        │       │<span style=\"color: #c0c0c0; text-decoration-color: #c0c0c0\">    '?', '?', </span>│<span style=\"color: #c0c0c0; text-decoration-color: #c0c0c0\">              </span>│\n",
       "│<span style=\"color: #7f7f7f; text-decoration-color: #7f7f7f\">     </span>│                                             │              │        │       │<span style=\"color: #c0c0c0; text-decoration-color: #c0c0c0\">         '?'] </span>│<span style=\"color: #c0c0c0; text-decoration-color: #c0c0c0\">              </span>│\n",
       "│<span style=\"color: #7f7f7f; text-decoration-color: #7f7f7f\"> 12  </span>│ encoder.interactions.0.conv.lin1            │ Linear       │ 65.5 K │ train │<span style=\"color: #c0c0c0; text-decoration-color: #c0c0c0\"> [10722, 512] </span>│<span style=\"color: #c0c0c0; text-decoration-color: #c0c0c0\"> [10722, 128] </span>│\n",
       "│<span style=\"color: #7f7f7f; text-decoration-color: #7f7f7f\"> 13  </span>│ encoder.interactions.0.conv.lin2            │ Linear       │ 66.0 K │ train │<span style=\"color: #c0c0c0; text-decoration-color: #c0c0c0\"> [10722, 128] </span>│<span style=\"color: #c0c0c0; text-decoration-color: #c0c0c0\"> [10722, 512] </span>│\n",
       "│<span style=\"color: #7f7f7f; text-decoration-color: #7f7f7f\"> 14  </span>│ encoder.interactions.0.act                  │ ShiftedSoft… │      0 │ train │<span style=\"color: #c0c0c0; text-decoration-color: #c0c0c0\"> [10722, 512] </span>│<span style=\"color: #c0c0c0; text-decoration-color: #c0c0c0\"> [10722, 512] </span>│\n",
       "│<span style=\"color: #7f7f7f; text-decoration-color: #7f7f7f\"> 15  </span>│ encoder.interactions.0.lin                  │ Linear       │  262 K │ train │<span style=\"color: #c0c0c0; text-decoration-color: #c0c0c0\"> [10722, 512] </span>│<span style=\"color: #c0c0c0; text-decoration-color: #c0c0c0\"> [10722, 512] </span>│\n",
       "│<span style=\"color: #7f7f7f; text-decoration-color: #7f7f7f\"> 16  </span>│ encoder.interactions.1                      │ Interaction… │  417 K │ train │<span style=\"color: #c0c0c0; text-decoration-color: #c0c0c0\">     [[10722, </span>│<span style=\"color: #c0c0c0; text-decoration-color: #c0c0c0\"> [10722, 512] </span>│\n",
       "│<span style=\"color: #7f7f7f; text-decoration-color: #7f7f7f\">     </span>│                                             │              │        │       │<span style=\"color: #c0c0c0; text-decoration-color: #c0c0c0\">    512], [2, </span>│<span style=\"color: #c0c0c0; text-decoration-color: #c0c0c0\">              </span>│\n",
       "│<span style=\"color: #7f7f7f; text-decoration-color: #7f7f7f\">     </span>│                                             │              │        │       │<span style=\"color: #c0c0c0; text-decoration-color: #c0c0c0\">     171552], </span>│<span style=\"color: #c0c0c0; text-decoration-color: #c0c0c0\">              </span>│\n",
       "│<span style=\"color: #7f7f7f; text-decoration-color: #7f7f7f\">     </span>│                                             │              │        │       │<span style=\"color: #c0c0c0; text-decoration-color: #c0c0c0\">    [171552], </span>│<span style=\"color: #c0c0c0; text-decoration-color: #c0c0c0\">              </span>│\n",
       "│<span style=\"color: #7f7f7f; text-decoration-color: #7f7f7f\">     </span>│                                             │              │        │       │<span style=\"color: #c0c0c0; text-decoration-color: #c0c0c0\">     [171552, </span>│<span style=\"color: #c0c0c0; text-decoration-color: #c0c0c0\">              </span>│\n",
       "│<span style=\"color: #7f7f7f; text-decoration-color: #7f7f7f\">     </span>│                                             │              │        │       │<span style=\"color: #c0c0c0; text-decoration-color: #c0c0c0\">         50]] </span>│<span style=\"color: #c0c0c0; text-decoration-color: #c0c0c0\">              </span>│\n",
       "│<span style=\"color: #7f7f7f; text-decoration-color: #7f7f7f\"> 17  </span>│ encoder.interactions.1.mlp                  │ Sequential   │ 23.0 K │ train │<span style=\"color: #c0c0c0; text-decoration-color: #c0c0c0\"> [171552, 50] </span>│<span style=\"color: #c0c0c0; text-decoration-color: #c0c0c0\">     [171552, </span>│\n",
       "│<span style=\"color: #7f7f7f; text-decoration-color: #7f7f7f\">     </span>│                                             │              │        │       │<span style=\"color: #c0c0c0; text-decoration-color: #c0c0c0\">              </span>│<span style=\"color: #c0c0c0; text-decoration-color: #c0c0c0\">         128] </span>│\n",
       "│<span style=\"color: #7f7f7f; text-decoration-color: #7f7f7f\"> 18  </span>│ encoder.interactions.1.mlp.0                │ Linear       │  6.5 K │ train │<span style=\"color: #c0c0c0; text-decoration-color: #c0c0c0\"> [171552, 50] </span>│<span style=\"color: #c0c0c0; text-decoration-color: #c0c0c0\">     [171552, </span>│\n",
       "│<span style=\"color: #7f7f7f; text-decoration-color: #7f7f7f\">     </span>│                                             │              │        │       │<span style=\"color: #c0c0c0; text-decoration-color: #c0c0c0\">              </span>│<span style=\"color: #c0c0c0; text-decoration-color: #c0c0c0\">         128] </span>│\n",
       "│<span style=\"color: #7f7f7f; text-decoration-color: #7f7f7f\"> 19  </span>│ encoder.interactions.1.mlp.1                │ ShiftedSoft… │      0 │ train │<span style=\"color: #c0c0c0; text-decoration-color: #c0c0c0\">     [171552, </span>│<span style=\"color: #c0c0c0; text-decoration-color: #c0c0c0\">     [171552, </span>│\n",
       "│<span style=\"color: #7f7f7f; text-decoration-color: #7f7f7f\">     </span>│                                             │              │        │       │<span style=\"color: #c0c0c0; text-decoration-color: #c0c0c0\">         128] </span>│<span style=\"color: #c0c0c0; text-decoration-color: #c0c0c0\">         128] </span>│\n",
       "│<span style=\"color: #7f7f7f; text-decoration-color: #7f7f7f\"> 20  </span>│ encoder.interactions.1.mlp.2                │ Linear       │ 16.5 K │ train │<span style=\"color: #c0c0c0; text-decoration-color: #c0c0c0\">     [171552, </span>│<span style=\"color: #c0c0c0; text-decoration-color: #c0c0c0\">     [171552, </span>│\n",
       "│<span style=\"color: #7f7f7f; text-decoration-color: #7f7f7f\">     </span>│                                             │              │        │       │<span style=\"color: #c0c0c0; text-decoration-color: #c0c0c0\">         128] </span>│<span style=\"color: #c0c0c0; text-decoration-color: #c0c0c0\">         128] </span>│\n",
       "│<span style=\"color: #7f7f7f; text-decoration-color: #7f7f7f\"> 21  </span>│ encoder.interactions.1.conv                 │ CFConv       │  154 K │ train │<span style=\"color: #c0c0c0; text-decoration-color: #c0c0c0\">     [[10722, </span>│<span style=\"color: #c0c0c0; text-decoration-color: #c0c0c0\"> [10722, 512] </span>│\n",
       "│<span style=\"color: #7f7f7f; text-decoration-color: #7f7f7f\">     </span>│                                             │              │        │       │<span style=\"color: #c0c0c0; text-decoration-color: #c0c0c0\">    512], [2, </span>│<span style=\"color: #c0c0c0; text-decoration-color: #c0c0c0\">              </span>│\n",
       "│<span style=\"color: #7f7f7f; text-decoration-color: #7f7f7f\">     </span>│                                             │              │        │       │<span style=\"color: #c0c0c0; text-decoration-color: #c0c0c0\">     171552], </span>│<span style=\"color: #c0c0c0; text-decoration-color: #c0c0c0\">              </span>│\n",
       "│<span style=\"color: #7f7f7f; text-decoration-color: #7f7f7f\">     </span>│                                             │              │        │       │<span style=\"color: #c0c0c0; text-decoration-color: #c0c0c0\">    [171552], </span>│<span style=\"color: #c0c0c0; text-decoration-color: #c0c0c0\">              </span>│\n",
       "│<span style=\"color: #7f7f7f; text-decoration-color: #7f7f7f\">     </span>│                                             │              │        │       │<span style=\"color: #c0c0c0; text-decoration-color: #c0c0c0\">     [171552, </span>│<span style=\"color: #c0c0c0; text-decoration-color: #c0c0c0\">              </span>│\n",
       "│<span style=\"color: #7f7f7f; text-decoration-color: #7f7f7f\">     </span>│                                             │              │        │       │<span style=\"color: #c0c0c0; text-decoration-color: #c0c0c0\">         50]] </span>│<span style=\"color: #c0c0c0; text-decoration-color: #c0c0c0\">              </span>│\n",
       "│<span style=\"color: #7f7f7f; text-decoration-color: #7f7f7f\"> 22  </span>│ encoder.interactions.1.conv.aggr_module     │ SumAggregat… │      0 │ train │<span style=\"color: #c0c0c0; text-decoration-color: #c0c0c0\">    [[171552, </span>│<span style=\"color: #c0c0c0; text-decoration-color: #c0c0c0\"> [10722, 128] </span>│\n",
       "│<span style=\"color: #7f7f7f; text-decoration-color: #7f7f7f\">     </span>│                                             │              │        │       │<span style=\"color: #c0c0c0; text-decoration-color: #c0c0c0\">        128], </span>│<span style=\"color: #c0c0c0; text-decoration-color: #c0c0c0\">              </span>│\n",
       "│<span style=\"color: #7f7f7f; text-decoration-color: #7f7f7f\">     </span>│                                             │              │        │       │<span style=\"color: #c0c0c0; text-decoration-color: #c0c0c0\">    [171552], </span>│<span style=\"color: #c0c0c0; text-decoration-color: #c0c0c0\">              </span>│\n",
       "│<span style=\"color: #7f7f7f; text-decoration-color: #7f7f7f\">     </span>│                                             │              │        │       │<span style=\"color: #c0c0c0; text-decoration-color: #c0c0c0\">    '?', '?', </span>│<span style=\"color: #c0c0c0; text-decoration-color: #c0c0c0\">              </span>│\n",
       "│<span style=\"color: #7f7f7f; text-decoration-color: #7f7f7f\">     </span>│                                             │              │        │       │<span style=\"color: #c0c0c0; text-decoration-color: #c0c0c0\">         '?'] </span>│<span style=\"color: #c0c0c0; text-decoration-color: #c0c0c0\">              </span>│\n",
       "│<span style=\"color: #7f7f7f; text-decoration-color: #7f7f7f\"> 23  </span>│ encoder.interactions.1.conv.lin1            │ Linear       │ 65.5 K │ train │<span style=\"color: #c0c0c0; text-decoration-color: #c0c0c0\"> [10722, 512] </span>│<span style=\"color: #c0c0c0; text-decoration-color: #c0c0c0\"> [10722, 128] </span>│\n",
       "│<span style=\"color: #7f7f7f; text-decoration-color: #7f7f7f\"> 24  </span>│ encoder.interactions.1.conv.lin2            │ Linear       │ 66.0 K │ train │<span style=\"color: #c0c0c0; text-decoration-color: #c0c0c0\"> [10722, 128] </span>│<span style=\"color: #c0c0c0; text-decoration-color: #c0c0c0\"> [10722, 512] </span>│\n",
       "│<span style=\"color: #7f7f7f; text-decoration-color: #7f7f7f\"> 25  </span>│ encoder.interactions.1.act                  │ ShiftedSoft… │      0 │ train │<span style=\"color: #c0c0c0; text-decoration-color: #c0c0c0\"> [10722, 512] </span>│<span style=\"color: #c0c0c0; text-decoration-color: #c0c0c0\"> [10722, 512] </span>│\n",
       "│<span style=\"color: #7f7f7f; text-decoration-color: #7f7f7f\"> 26  </span>│ encoder.interactions.1.lin                  │ Linear       │  262 K │ train │<span style=\"color: #c0c0c0; text-decoration-color: #c0c0c0\"> [10722, 512] </span>│<span style=\"color: #c0c0c0; text-decoration-color: #c0c0c0\"> [10722, 512] </span>│\n",
       "│<span style=\"color: #7f7f7f; text-decoration-color: #7f7f7f\"> 27  </span>│ encoder.interactions.2                      │ Interaction… │  417 K │ train │<span style=\"color: #c0c0c0; text-decoration-color: #c0c0c0\">     [[10722, </span>│<span style=\"color: #c0c0c0; text-decoration-color: #c0c0c0\"> [10722, 512] </span>│\n",
       "│<span style=\"color: #7f7f7f; text-decoration-color: #7f7f7f\">     </span>│                                             │              │        │       │<span style=\"color: #c0c0c0; text-decoration-color: #c0c0c0\">    512], [2, </span>│<span style=\"color: #c0c0c0; text-decoration-color: #c0c0c0\">              </span>│\n",
       "│<span style=\"color: #7f7f7f; text-decoration-color: #7f7f7f\">     </span>│                                             │              │        │       │<span style=\"color: #c0c0c0; text-decoration-color: #c0c0c0\">     171552], </span>│<span style=\"color: #c0c0c0; text-decoration-color: #c0c0c0\">              </span>│\n",
       "│<span style=\"color: #7f7f7f; text-decoration-color: #7f7f7f\">     </span>│                                             │              │        │       │<span style=\"color: #c0c0c0; text-decoration-color: #c0c0c0\">    [171552], </span>│<span style=\"color: #c0c0c0; text-decoration-color: #c0c0c0\">              </span>│\n",
       "│<span style=\"color: #7f7f7f; text-decoration-color: #7f7f7f\">     </span>│                                             │              │        │       │<span style=\"color: #c0c0c0; text-decoration-color: #c0c0c0\">     [171552, </span>│<span style=\"color: #c0c0c0; text-decoration-color: #c0c0c0\">              </span>│\n",
       "│<span style=\"color: #7f7f7f; text-decoration-color: #7f7f7f\">     </span>│                                             │              │        │       │<span style=\"color: #c0c0c0; text-decoration-color: #c0c0c0\">         50]] </span>│<span style=\"color: #c0c0c0; text-decoration-color: #c0c0c0\">              </span>│\n",
       "│<span style=\"color: #7f7f7f; text-decoration-color: #7f7f7f\"> 28  </span>│ encoder.interactions.2.mlp                  │ Sequential   │ 23.0 K │ train │<span style=\"color: #c0c0c0; text-decoration-color: #c0c0c0\"> [171552, 50] </span>│<span style=\"color: #c0c0c0; text-decoration-color: #c0c0c0\">     [171552, </span>│\n",
       "│<span style=\"color: #7f7f7f; text-decoration-color: #7f7f7f\">     </span>│                                             │              │        │       │<span style=\"color: #c0c0c0; text-decoration-color: #c0c0c0\">              </span>│<span style=\"color: #c0c0c0; text-decoration-color: #c0c0c0\">         128] </span>│\n",
       "│<span style=\"color: #7f7f7f; text-decoration-color: #7f7f7f\"> 29  </span>│ encoder.interactions.2.mlp.0                │ Linear       │  6.5 K │ train │<span style=\"color: #c0c0c0; text-decoration-color: #c0c0c0\"> [171552, 50] </span>│<span style=\"color: #c0c0c0; text-decoration-color: #c0c0c0\">     [171552, </span>│\n",
       "│<span style=\"color: #7f7f7f; text-decoration-color: #7f7f7f\">     </span>│                                             │              │        │       │<span style=\"color: #c0c0c0; text-decoration-color: #c0c0c0\">              </span>│<span style=\"color: #c0c0c0; text-decoration-color: #c0c0c0\">         128] </span>│\n",
       "│<span style=\"color: #7f7f7f; text-decoration-color: #7f7f7f\"> 30  </span>│ encoder.interactions.2.mlp.1                │ ShiftedSoft… │      0 │ train │<span style=\"color: #c0c0c0; text-decoration-color: #c0c0c0\">     [171552, </span>│<span style=\"color: #c0c0c0; text-decoration-color: #c0c0c0\">     [171552, </span>│\n",
       "│<span style=\"color: #7f7f7f; text-decoration-color: #7f7f7f\">     </span>│                                             │              │        │       │<span style=\"color: #c0c0c0; text-decoration-color: #c0c0c0\">         128] </span>│<span style=\"color: #c0c0c0; text-decoration-color: #c0c0c0\">         128] </span>│\n",
       "│<span style=\"color: #7f7f7f; text-decoration-color: #7f7f7f\"> 31  </span>│ encoder.interactions.2.mlp.2                │ Linear       │ 16.5 K │ train │<span style=\"color: #c0c0c0; text-decoration-color: #c0c0c0\">     [171552, </span>│<span style=\"color: #c0c0c0; text-decoration-color: #c0c0c0\">     [171552, </span>│\n",
       "│<span style=\"color: #7f7f7f; text-decoration-color: #7f7f7f\">     </span>│                                             │              │        │       │<span style=\"color: #c0c0c0; text-decoration-color: #c0c0c0\">         128] </span>│<span style=\"color: #c0c0c0; text-decoration-color: #c0c0c0\">         128] </span>│\n",
       "│<span style=\"color: #7f7f7f; text-decoration-color: #7f7f7f\"> 32  </span>│ encoder.interactions.2.conv                 │ CFConv       │  154 K │ train │<span style=\"color: #c0c0c0; text-decoration-color: #c0c0c0\">     [[10722, </span>│<span style=\"color: #c0c0c0; text-decoration-color: #c0c0c0\"> [10722, 512] </span>│\n",
       "│<span style=\"color: #7f7f7f; text-decoration-color: #7f7f7f\">     </span>│                                             │              │        │       │<span style=\"color: #c0c0c0; text-decoration-color: #c0c0c0\">    512], [2, </span>│<span style=\"color: #c0c0c0; text-decoration-color: #c0c0c0\">              </span>│\n",
       "│<span style=\"color: #7f7f7f; text-decoration-color: #7f7f7f\">     </span>│                                             │              │        │       │<span style=\"color: #c0c0c0; text-decoration-color: #c0c0c0\">     171552], </span>│<span style=\"color: #c0c0c0; text-decoration-color: #c0c0c0\">              </span>│\n",
       "│<span style=\"color: #7f7f7f; text-decoration-color: #7f7f7f\">     </span>│                                             │              │        │       │<span style=\"color: #c0c0c0; text-decoration-color: #c0c0c0\">    [171552], </span>│<span style=\"color: #c0c0c0; text-decoration-color: #c0c0c0\">              </span>│\n",
       "│<span style=\"color: #7f7f7f; text-decoration-color: #7f7f7f\">     </span>│                                             │              │        │       │<span style=\"color: #c0c0c0; text-decoration-color: #c0c0c0\">     [171552, </span>│<span style=\"color: #c0c0c0; text-decoration-color: #c0c0c0\">              </span>│\n",
       "│<span style=\"color: #7f7f7f; text-decoration-color: #7f7f7f\">     </span>│                                             │              │        │       │<span style=\"color: #c0c0c0; text-decoration-color: #c0c0c0\">         50]] </span>│<span style=\"color: #c0c0c0; text-decoration-color: #c0c0c0\">              </span>│\n",
       "│<span style=\"color: #7f7f7f; text-decoration-color: #7f7f7f\"> 33  </span>│ encoder.interactions.2.conv.aggr_module     │ SumAggregat… │      0 │ train │<span style=\"color: #c0c0c0; text-decoration-color: #c0c0c0\">    [[171552, </span>│<span style=\"color: #c0c0c0; text-decoration-color: #c0c0c0\"> [10722, 128] </span>│\n",
       "│<span style=\"color: #7f7f7f; text-decoration-color: #7f7f7f\">     </span>│                                             │              │        │       │<span style=\"color: #c0c0c0; text-decoration-color: #c0c0c0\">        128], </span>│<span style=\"color: #c0c0c0; text-decoration-color: #c0c0c0\">              </span>│\n",
       "│<span style=\"color: #7f7f7f; text-decoration-color: #7f7f7f\">     </span>│                                             │              │        │       │<span style=\"color: #c0c0c0; text-decoration-color: #c0c0c0\">    [171552], </span>│<span style=\"color: #c0c0c0; text-decoration-color: #c0c0c0\">              </span>│\n",
       "│<span style=\"color: #7f7f7f; text-decoration-color: #7f7f7f\">     </span>│                                             │              │        │       │<span style=\"color: #c0c0c0; text-decoration-color: #c0c0c0\">    '?', '?', </span>│<span style=\"color: #c0c0c0; text-decoration-color: #c0c0c0\">              </span>│\n",
       "│<span style=\"color: #7f7f7f; text-decoration-color: #7f7f7f\">     </span>│                                             │              │        │       │<span style=\"color: #c0c0c0; text-decoration-color: #c0c0c0\">         '?'] </span>│<span style=\"color: #c0c0c0; text-decoration-color: #c0c0c0\">              </span>│\n",
       "│<span style=\"color: #7f7f7f; text-decoration-color: #7f7f7f\"> 34  </span>│ encoder.interactions.2.conv.lin1            │ Linear       │ 65.5 K │ train │<span style=\"color: #c0c0c0; text-decoration-color: #c0c0c0\"> [10722, 512] </span>│<span style=\"color: #c0c0c0; text-decoration-color: #c0c0c0\"> [10722, 128] </span>│\n",
       "│<span style=\"color: #7f7f7f; text-decoration-color: #7f7f7f\"> 35  </span>│ encoder.interactions.2.conv.lin2            │ Linear       │ 66.0 K │ train │<span style=\"color: #c0c0c0; text-decoration-color: #c0c0c0\"> [10722, 128] </span>│<span style=\"color: #c0c0c0; text-decoration-color: #c0c0c0\"> [10722, 512] </span>│\n",
       "│<span style=\"color: #7f7f7f; text-decoration-color: #7f7f7f\"> 36  </span>│ encoder.interactions.2.act                  │ ShiftedSoft… │      0 │ train │<span style=\"color: #c0c0c0; text-decoration-color: #c0c0c0\"> [10722, 512] </span>│<span style=\"color: #c0c0c0; text-decoration-color: #c0c0c0\"> [10722, 512] </span>│\n",
       "│<span style=\"color: #7f7f7f; text-decoration-color: #7f7f7f\"> 37  </span>│ encoder.interactions.2.lin                  │ Linear       │  262 K │ train │<span style=\"color: #c0c0c0; text-decoration-color: #c0c0c0\"> [10722, 512] </span>│<span style=\"color: #c0c0c0; text-decoration-color: #c0c0c0\"> [10722, 512] </span>│\n",
       "│<span style=\"color: #7f7f7f; text-decoration-color: #7f7f7f\"> 38  </span>│ encoder.interactions.3                      │ Interaction… │  417 K │ train │<span style=\"color: #c0c0c0; text-decoration-color: #c0c0c0\">     [[10722, </span>│<span style=\"color: #c0c0c0; text-decoration-color: #c0c0c0\"> [10722, 512] </span>│\n",
       "│<span style=\"color: #7f7f7f; text-decoration-color: #7f7f7f\">     </span>│                                             │              │        │       │<span style=\"color: #c0c0c0; text-decoration-color: #c0c0c0\">    512], [2, </span>│<span style=\"color: #c0c0c0; text-decoration-color: #c0c0c0\">              </span>│\n",
       "│<span style=\"color: #7f7f7f; text-decoration-color: #7f7f7f\">     </span>│                                             │              │        │       │<span style=\"color: #c0c0c0; text-decoration-color: #c0c0c0\">     171552], </span>│<span style=\"color: #c0c0c0; text-decoration-color: #c0c0c0\">              </span>│\n",
       "│<span style=\"color: #7f7f7f; text-decoration-color: #7f7f7f\">     </span>│                                             │              │        │       │<span style=\"color: #c0c0c0; text-decoration-color: #c0c0c0\">    [171552], </span>│<span style=\"color: #c0c0c0; text-decoration-color: #c0c0c0\">              </span>│\n",
       "│<span style=\"color: #7f7f7f; text-decoration-color: #7f7f7f\">     </span>│                                             │              │        │       │<span style=\"color: #c0c0c0; text-decoration-color: #c0c0c0\">     [171552, </span>│<span style=\"color: #c0c0c0; text-decoration-color: #c0c0c0\">              </span>│\n",
       "│<span style=\"color: #7f7f7f; text-decoration-color: #7f7f7f\">     </span>│                                             │              │        │       │<span style=\"color: #c0c0c0; text-decoration-color: #c0c0c0\">         50]] </span>│<span style=\"color: #c0c0c0; text-decoration-color: #c0c0c0\">              </span>│\n",
       "│<span style=\"color: #7f7f7f; text-decoration-color: #7f7f7f\"> 39  </span>│ encoder.interactions.3.mlp                  │ Sequential   │ 23.0 K │ train │<span style=\"color: #c0c0c0; text-decoration-color: #c0c0c0\"> [171552, 50] </span>│<span style=\"color: #c0c0c0; text-decoration-color: #c0c0c0\">     [171552, </span>│\n",
       "│<span style=\"color: #7f7f7f; text-decoration-color: #7f7f7f\">     </span>│                                             │              │        │       │<span style=\"color: #c0c0c0; text-decoration-color: #c0c0c0\">              </span>│<span style=\"color: #c0c0c0; text-decoration-color: #c0c0c0\">         128] </span>│\n",
       "│<span style=\"color: #7f7f7f; text-decoration-color: #7f7f7f\"> 40  </span>│ encoder.interactions.3.mlp.0                │ Linear       │  6.5 K │ train │<span style=\"color: #c0c0c0; text-decoration-color: #c0c0c0\"> [171552, 50] </span>│<span style=\"color: #c0c0c0; text-decoration-color: #c0c0c0\">     [171552, </span>│\n",
       "│<span style=\"color: #7f7f7f; text-decoration-color: #7f7f7f\">     </span>│                                             │              │        │       │<span style=\"color: #c0c0c0; text-decoration-color: #c0c0c0\">              </span>│<span style=\"color: #c0c0c0; text-decoration-color: #c0c0c0\">         128] </span>│\n",
       "│<span style=\"color: #7f7f7f; text-decoration-color: #7f7f7f\"> 41  </span>│ encoder.interactions.3.mlp.1                │ ShiftedSoft… │      0 │ train │<span style=\"color: #c0c0c0; text-decoration-color: #c0c0c0\">     [171552, </span>│<span style=\"color: #c0c0c0; text-decoration-color: #c0c0c0\">     [171552, </span>│\n",
       "│<span style=\"color: #7f7f7f; text-decoration-color: #7f7f7f\">     </span>│                                             │              │        │       │<span style=\"color: #c0c0c0; text-decoration-color: #c0c0c0\">         128] </span>│<span style=\"color: #c0c0c0; text-decoration-color: #c0c0c0\">         128] </span>│\n",
       "│<span style=\"color: #7f7f7f; text-decoration-color: #7f7f7f\"> 42  </span>│ encoder.interactions.3.mlp.2                │ Linear       │ 16.5 K │ train │<span style=\"color: #c0c0c0; text-decoration-color: #c0c0c0\">     [171552, </span>│<span style=\"color: #c0c0c0; text-decoration-color: #c0c0c0\">     [171552, </span>│\n",
       "│<span style=\"color: #7f7f7f; text-decoration-color: #7f7f7f\">     </span>│                                             │              │        │       │<span style=\"color: #c0c0c0; text-decoration-color: #c0c0c0\">         128] </span>│<span style=\"color: #c0c0c0; text-decoration-color: #c0c0c0\">         128] </span>│\n",
       "│<span style=\"color: #7f7f7f; text-decoration-color: #7f7f7f\"> 43  </span>│ encoder.interactions.3.conv                 │ CFConv       │  154 K │ train │<span style=\"color: #c0c0c0; text-decoration-color: #c0c0c0\">     [[10722, </span>│<span style=\"color: #c0c0c0; text-decoration-color: #c0c0c0\"> [10722, 512] </span>│\n",
       "│<span style=\"color: #7f7f7f; text-decoration-color: #7f7f7f\">     </span>│                                             │              │        │       │<span style=\"color: #c0c0c0; text-decoration-color: #c0c0c0\">    512], [2, </span>│<span style=\"color: #c0c0c0; text-decoration-color: #c0c0c0\">              </span>│\n",
       "│<span style=\"color: #7f7f7f; text-decoration-color: #7f7f7f\">     </span>│                                             │              │        │       │<span style=\"color: #c0c0c0; text-decoration-color: #c0c0c0\">     171552], </span>│<span style=\"color: #c0c0c0; text-decoration-color: #c0c0c0\">              </span>│\n",
       "│<span style=\"color: #7f7f7f; text-decoration-color: #7f7f7f\">     </span>│                                             │              │        │       │<span style=\"color: #c0c0c0; text-decoration-color: #c0c0c0\">    [171552], </span>│<span style=\"color: #c0c0c0; text-decoration-color: #c0c0c0\">              </span>│\n",
       "│<span style=\"color: #7f7f7f; text-decoration-color: #7f7f7f\">     </span>│                                             │              │        │       │<span style=\"color: #c0c0c0; text-decoration-color: #c0c0c0\">     [171552, </span>│<span style=\"color: #c0c0c0; text-decoration-color: #c0c0c0\">              </span>│\n",
       "│<span style=\"color: #7f7f7f; text-decoration-color: #7f7f7f\">     </span>│                                             │              │        │       │<span style=\"color: #c0c0c0; text-decoration-color: #c0c0c0\">         50]] </span>│<span style=\"color: #c0c0c0; text-decoration-color: #c0c0c0\">              </span>│\n",
       "│<span style=\"color: #7f7f7f; text-decoration-color: #7f7f7f\"> 44  </span>│ encoder.interactions.3.conv.aggr_module     │ SumAggregat… │      0 │ train │<span style=\"color: #c0c0c0; text-decoration-color: #c0c0c0\">    [[171552, </span>│<span style=\"color: #c0c0c0; text-decoration-color: #c0c0c0\"> [10722, 128] </span>│\n",
       "│<span style=\"color: #7f7f7f; text-decoration-color: #7f7f7f\">     </span>│                                             │              │        │       │<span style=\"color: #c0c0c0; text-decoration-color: #c0c0c0\">        128], </span>│<span style=\"color: #c0c0c0; text-decoration-color: #c0c0c0\">              </span>│\n",
       "│<span style=\"color: #7f7f7f; text-decoration-color: #7f7f7f\">     </span>│                                             │              │        │       │<span style=\"color: #c0c0c0; text-decoration-color: #c0c0c0\">    [171552], </span>│<span style=\"color: #c0c0c0; text-decoration-color: #c0c0c0\">              </span>│\n",
       "│<span style=\"color: #7f7f7f; text-decoration-color: #7f7f7f\">     </span>│                                             │              │        │       │<span style=\"color: #c0c0c0; text-decoration-color: #c0c0c0\">    '?', '?', </span>│<span style=\"color: #c0c0c0; text-decoration-color: #c0c0c0\">              </span>│\n",
       "│<span style=\"color: #7f7f7f; text-decoration-color: #7f7f7f\">     </span>│                                             │              │        │       │<span style=\"color: #c0c0c0; text-decoration-color: #c0c0c0\">         '?'] </span>│<span style=\"color: #c0c0c0; text-decoration-color: #c0c0c0\">              </span>│\n",
       "│<span style=\"color: #7f7f7f; text-decoration-color: #7f7f7f\"> 45  </span>│ encoder.interactions.3.conv.lin1            │ Linear       │ 65.5 K │ train │<span style=\"color: #c0c0c0; text-decoration-color: #c0c0c0\"> [10722, 512] </span>│<span style=\"color: #c0c0c0; text-decoration-color: #c0c0c0\"> [10722, 128] </span>│\n",
       "│<span style=\"color: #7f7f7f; text-decoration-color: #7f7f7f\"> 46  </span>│ encoder.interactions.3.conv.lin2            │ Linear       │ 66.0 K │ train │<span style=\"color: #c0c0c0; text-decoration-color: #c0c0c0\"> [10722, 128] </span>│<span style=\"color: #c0c0c0; text-decoration-color: #c0c0c0\"> [10722, 512] </span>│\n",
       "│<span style=\"color: #7f7f7f; text-decoration-color: #7f7f7f\"> 47  </span>│ encoder.interactions.3.act                  │ ShiftedSoft… │      0 │ train │<span style=\"color: #c0c0c0; text-decoration-color: #c0c0c0\"> [10722, 512] </span>│<span style=\"color: #c0c0c0; text-decoration-color: #c0c0c0\"> [10722, 512] </span>│\n",
       "│<span style=\"color: #7f7f7f; text-decoration-color: #7f7f7f\"> 48  </span>│ encoder.interactions.3.lin                  │ Linear       │  262 K │ train │<span style=\"color: #c0c0c0; text-decoration-color: #c0c0c0\"> [10722, 512] </span>│<span style=\"color: #c0c0c0; text-decoration-color: #c0c0c0\"> [10722, 512] </span>│\n",
       "│<span style=\"color: #7f7f7f; text-decoration-color: #7f7f7f\"> 49  </span>│ encoder.interactions.4                      │ Interaction… │  417 K │ train │<span style=\"color: #c0c0c0; text-decoration-color: #c0c0c0\">     [[10722, </span>│<span style=\"color: #c0c0c0; text-decoration-color: #c0c0c0\"> [10722, 512] </span>│\n",
       "│<span style=\"color: #7f7f7f; text-decoration-color: #7f7f7f\">     </span>│                                             │              │        │       │<span style=\"color: #c0c0c0; text-decoration-color: #c0c0c0\">    512], [2, </span>│<span style=\"color: #c0c0c0; text-decoration-color: #c0c0c0\">              </span>│\n",
       "│<span style=\"color: #7f7f7f; text-decoration-color: #7f7f7f\">     </span>│                                             │              │        │       │<span style=\"color: #c0c0c0; text-decoration-color: #c0c0c0\">     171552], </span>│<span style=\"color: #c0c0c0; text-decoration-color: #c0c0c0\">              </span>│\n",
       "│<span style=\"color: #7f7f7f; text-decoration-color: #7f7f7f\">     </span>│                                             │              │        │       │<span style=\"color: #c0c0c0; text-decoration-color: #c0c0c0\">    [171552], </span>│<span style=\"color: #c0c0c0; text-decoration-color: #c0c0c0\">              </span>│\n",
       "│<span style=\"color: #7f7f7f; text-decoration-color: #7f7f7f\">     </span>│                                             │              │        │       │<span style=\"color: #c0c0c0; text-decoration-color: #c0c0c0\">     [171552, </span>│<span style=\"color: #c0c0c0; text-decoration-color: #c0c0c0\">              </span>│\n",
       "│<span style=\"color: #7f7f7f; text-decoration-color: #7f7f7f\">     </span>│                                             │              │        │       │<span style=\"color: #c0c0c0; text-decoration-color: #c0c0c0\">         50]] </span>│<span style=\"color: #c0c0c0; text-decoration-color: #c0c0c0\">              </span>│\n",
       "│<span style=\"color: #7f7f7f; text-decoration-color: #7f7f7f\"> 50  </span>│ encoder.interactions.4.mlp                  │ Sequential   │ 23.0 K │ train │<span style=\"color: #c0c0c0; text-decoration-color: #c0c0c0\"> [171552, 50] </span>│<span style=\"color: #c0c0c0; text-decoration-color: #c0c0c0\">     [171552, </span>│\n",
       "│<span style=\"color: #7f7f7f; text-decoration-color: #7f7f7f\">     </span>│                                             │              │        │       │<span style=\"color: #c0c0c0; text-decoration-color: #c0c0c0\">              </span>│<span style=\"color: #c0c0c0; text-decoration-color: #c0c0c0\">         128] </span>│\n",
       "│<span style=\"color: #7f7f7f; text-decoration-color: #7f7f7f\"> 51  </span>│ encoder.interactions.4.mlp.0                │ Linear       │  6.5 K │ train │<span style=\"color: #c0c0c0; text-decoration-color: #c0c0c0\"> [171552, 50] </span>│<span style=\"color: #c0c0c0; text-decoration-color: #c0c0c0\">     [171552, </span>│\n",
       "│<span style=\"color: #7f7f7f; text-decoration-color: #7f7f7f\">     </span>│                                             │              │        │       │<span style=\"color: #c0c0c0; text-decoration-color: #c0c0c0\">              </span>│<span style=\"color: #c0c0c0; text-decoration-color: #c0c0c0\">         128] </span>│\n",
       "│<span style=\"color: #7f7f7f; text-decoration-color: #7f7f7f\"> 52  </span>│ encoder.interactions.4.mlp.1                │ ShiftedSoft… │      0 │ train │<span style=\"color: #c0c0c0; text-decoration-color: #c0c0c0\">     [171552, </span>│<span style=\"color: #c0c0c0; text-decoration-color: #c0c0c0\">     [171552, </span>│\n",
       "│<span style=\"color: #7f7f7f; text-decoration-color: #7f7f7f\">     </span>│                                             │              │        │       │<span style=\"color: #c0c0c0; text-decoration-color: #c0c0c0\">         128] </span>│<span style=\"color: #c0c0c0; text-decoration-color: #c0c0c0\">         128] </span>│\n",
       "│<span style=\"color: #7f7f7f; text-decoration-color: #7f7f7f\"> 53  </span>│ encoder.interactions.4.mlp.2                │ Linear       │ 16.5 K │ train │<span style=\"color: #c0c0c0; text-decoration-color: #c0c0c0\">     [171552, </span>│<span style=\"color: #c0c0c0; text-decoration-color: #c0c0c0\">     [171552, </span>│\n",
       "│<span style=\"color: #7f7f7f; text-decoration-color: #7f7f7f\">     </span>│                                             │              │        │       │<span style=\"color: #c0c0c0; text-decoration-color: #c0c0c0\">         128] </span>│<span style=\"color: #c0c0c0; text-decoration-color: #c0c0c0\">         128] </span>│\n",
       "│<span style=\"color: #7f7f7f; text-decoration-color: #7f7f7f\"> 54  </span>│ encoder.interactions.4.conv                 │ CFConv       │  154 K │ train │<span style=\"color: #c0c0c0; text-decoration-color: #c0c0c0\">     [[10722, </span>│<span style=\"color: #c0c0c0; text-decoration-color: #c0c0c0\"> [10722, 512] </span>│\n",
       "│<span style=\"color: #7f7f7f; text-decoration-color: #7f7f7f\">     </span>│                                             │              │        │       │<span style=\"color: #c0c0c0; text-decoration-color: #c0c0c0\">    512], [2, </span>│<span style=\"color: #c0c0c0; text-decoration-color: #c0c0c0\">              </span>│\n",
       "│<span style=\"color: #7f7f7f; text-decoration-color: #7f7f7f\">     </span>│                                             │              │        │       │<span style=\"color: #c0c0c0; text-decoration-color: #c0c0c0\">     171552], </span>│<span style=\"color: #c0c0c0; text-decoration-color: #c0c0c0\">              </span>│\n",
       "│<span style=\"color: #7f7f7f; text-decoration-color: #7f7f7f\">     </span>│                                             │              │        │       │<span style=\"color: #c0c0c0; text-decoration-color: #c0c0c0\">    [171552], </span>│<span style=\"color: #c0c0c0; text-decoration-color: #c0c0c0\">              </span>│\n",
       "│<span style=\"color: #7f7f7f; text-decoration-color: #7f7f7f\">     </span>│                                             │              │        │       │<span style=\"color: #c0c0c0; text-decoration-color: #c0c0c0\">     [171552, </span>│<span style=\"color: #c0c0c0; text-decoration-color: #c0c0c0\">              </span>│\n",
       "│<span style=\"color: #7f7f7f; text-decoration-color: #7f7f7f\">     </span>│                                             │              │        │       │<span style=\"color: #c0c0c0; text-decoration-color: #c0c0c0\">         50]] </span>│<span style=\"color: #c0c0c0; text-decoration-color: #c0c0c0\">              </span>│\n",
       "│<span style=\"color: #7f7f7f; text-decoration-color: #7f7f7f\"> 55  </span>│ encoder.interactions.4.conv.aggr_module     │ SumAggregat… │      0 │ train │<span style=\"color: #c0c0c0; text-decoration-color: #c0c0c0\">    [[171552, </span>│<span style=\"color: #c0c0c0; text-decoration-color: #c0c0c0\"> [10722, 128] </span>│\n",
       "│<span style=\"color: #7f7f7f; text-decoration-color: #7f7f7f\">     </span>│                                             │              │        │       │<span style=\"color: #c0c0c0; text-decoration-color: #c0c0c0\">        128], </span>│<span style=\"color: #c0c0c0; text-decoration-color: #c0c0c0\">              </span>│\n",
       "│<span style=\"color: #7f7f7f; text-decoration-color: #7f7f7f\">     </span>│                                             │              │        │       │<span style=\"color: #c0c0c0; text-decoration-color: #c0c0c0\">    [171552], </span>│<span style=\"color: #c0c0c0; text-decoration-color: #c0c0c0\">              </span>│\n",
       "│<span style=\"color: #7f7f7f; text-decoration-color: #7f7f7f\">     </span>│                                             │              │        │       │<span style=\"color: #c0c0c0; text-decoration-color: #c0c0c0\">    '?', '?', </span>│<span style=\"color: #c0c0c0; text-decoration-color: #c0c0c0\">              </span>│\n",
       "│<span style=\"color: #7f7f7f; text-decoration-color: #7f7f7f\">     </span>│                                             │              │        │       │<span style=\"color: #c0c0c0; text-decoration-color: #c0c0c0\">         '?'] </span>│<span style=\"color: #c0c0c0; text-decoration-color: #c0c0c0\">              </span>│\n",
       "│<span style=\"color: #7f7f7f; text-decoration-color: #7f7f7f\"> 56  </span>│ encoder.interactions.4.conv.lin1            │ Linear       │ 65.5 K │ train │<span style=\"color: #c0c0c0; text-decoration-color: #c0c0c0\"> [10722, 512] </span>│<span style=\"color: #c0c0c0; text-decoration-color: #c0c0c0\"> [10722, 128] </span>│\n",
       "│<span style=\"color: #7f7f7f; text-decoration-color: #7f7f7f\"> 57  </span>│ encoder.interactions.4.conv.lin2            │ Linear       │ 66.0 K │ train │<span style=\"color: #c0c0c0; text-decoration-color: #c0c0c0\"> [10722, 128] </span>│<span style=\"color: #c0c0c0; text-decoration-color: #c0c0c0\"> [10722, 512] </span>│\n",
       "│<span style=\"color: #7f7f7f; text-decoration-color: #7f7f7f\"> 58  </span>│ encoder.interactions.4.act                  │ ShiftedSoft… │      0 │ train │<span style=\"color: #c0c0c0; text-decoration-color: #c0c0c0\"> [10722, 512] </span>│<span style=\"color: #c0c0c0; text-decoration-color: #c0c0c0\"> [10722, 512] </span>│\n",
       "│<span style=\"color: #7f7f7f; text-decoration-color: #7f7f7f\"> 59  </span>│ encoder.interactions.4.lin                  │ Linear       │  262 K │ train │<span style=\"color: #c0c0c0; text-decoration-color: #c0c0c0\"> [10722, 512] </span>│<span style=\"color: #c0c0c0; text-decoration-color: #c0c0c0\"> [10722, 512] </span>│\n",
       "│<span style=\"color: #7f7f7f; text-decoration-color: #7f7f7f\"> 60  </span>│ encoder.interactions.5                      │ Interaction… │  417 K │ train │<span style=\"color: #c0c0c0; text-decoration-color: #c0c0c0\">     [[10722, </span>│<span style=\"color: #c0c0c0; text-decoration-color: #c0c0c0\"> [10722, 512] </span>│\n",
       "│<span style=\"color: #7f7f7f; text-decoration-color: #7f7f7f\">     </span>│                                             │              │        │       │<span style=\"color: #c0c0c0; text-decoration-color: #c0c0c0\">    512], [2, </span>│<span style=\"color: #c0c0c0; text-decoration-color: #c0c0c0\">              </span>│\n",
       "│<span style=\"color: #7f7f7f; text-decoration-color: #7f7f7f\">     </span>│                                             │              │        │       │<span style=\"color: #c0c0c0; text-decoration-color: #c0c0c0\">     171552], </span>│<span style=\"color: #c0c0c0; text-decoration-color: #c0c0c0\">              </span>│\n",
       "│<span style=\"color: #7f7f7f; text-decoration-color: #7f7f7f\">     </span>│                                             │              │        │       │<span style=\"color: #c0c0c0; text-decoration-color: #c0c0c0\">    [171552], </span>│<span style=\"color: #c0c0c0; text-decoration-color: #c0c0c0\">              </span>│\n",
       "│<span style=\"color: #7f7f7f; text-decoration-color: #7f7f7f\">     </span>│                                             │              │        │       │<span style=\"color: #c0c0c0; text-decoration-color: #c0c0c0\">     [171552, </span>│<span style=\"color: #c0c0c0; text-decoration-color: #c0c0c0\">              </span>│\n",
       "│<span style=\"color: #7f7f7f; text-decoration-color: #7f7f7f\">     </span>│                                             │              │        │       │<span style=\"color: #c0c0c0; text-decoration-color: #c0c0c0\">         50]] </span>│<span style=\"color: #c0c0c0; text-decoration-color: #c0c0c0\">              </span>│\n",
       "│<span style=\"color: #7f7f7f; text-decoration-color: #7f7f7f\"> 61  </span>│ encoder.interactions.5.mlp                  │ Sequential   │ 23.0 K │ train │<span style=\"color: #c0c0c0; text-decoration-color: #c0c0c0\"> [171552, 50] </span>│<span style=\"color: #c0c0c0; text-decoration-color: #c0c0c0\">     [171552, </span>│\n",
       "│<span style=\"color: #7f7f7f; text-decoration-color: #7f7f7f\">     </span>│                                             │              │        │       │<span style=\"color: #c0c0c0; text-decoration-color: #c0c0c0\">              </span>│<span style=\"color: #c0c0c0; text-decoration-color: #c0c0c0\">         128] </span>│\n",
       "│<span style=\"color: #7f7f7f; text-decoration-color: #7f7f7f\"> 62  </span>│ encoder.interactions.5.mlp.0                │ Linear       │  6.5 K │ train │<span style=\"color: #c0c0c0; text-decoration-color: #c0c0c0\"> [171552, 50] </span>│<span style=\"color: #c0c0c0; text-decoration-color: #c0c0c0\">     [171552, </span>│\n",
       "│<span style=\"color: #7f7f7f; text-decoration-color: #7f7f7f\">     </span>│                                             │              │        │       │<span style=\"color: #c0c0c0; text-decoration-color: #c0c0c0\">              </span>│<span style=\"color: #c0c0c0; text-decoration-color: #c0c0c0\">         128] </span>│\n",
       "│<span style=\"color: #7f7f7f; text-decoration-color: #7f7f7f\"> 63  </span>│ encoder.interactions.5.mlp.1                │ ShiftedSoft… │      0 │ train │<span style=\"color: #c0c0c0; text-decoration-color: #c0c0c0\">     [171552, </span>│<span style=\"color: #c0c0c0; text-decoration-color: #c0c0c0\">     [171552, </span>│\n",
       "│<span style=\"color: #7f7f7f; text-decoration-color: #7f7f7f\">     </span>│                                             │              │        │       │<span style=\"color: #c0c0c0; text-decoration-color: #c0c0c0\">         128] </span>│<span style=\"color: #c0c0c0; text-decoration-color: #c0c0c0\">         128] </span>│\n",
       "│<span style=\"color: #7f7f7f; text-decoration-color: #7f7f7f\"> 64  </span>│ encoder.interactions.5.mlp.2                │ Linear       │ 16.5 K │ train │<span style=\"color: #c0c0c0; text-decoration-color: #c0c0c0\">     [171552, </span>│<span style=\"color: #c0c0c0; text-decoration-color: #c0c0c0\">     [171552, </span>│\n",
       "│<span style=\"color: #7f7f7f; text-decoration-color: #7f7f7f\">     </span>│                                             │              │        │       │<span style=\"color: #c0c0c0; text-decoration-color: #c0c0c0\">         128] </span>│<span style=\"color: #c0c0c0; text-decoration-color: #c0c0c0\">         128] </span>│\n",
       "│<span style=\"color: #7f7f7f; text-decoration-color: #7f7f7f\"> 65  </span>│ encoder.interactions.5.conv                 │ CFConv       │  154 K │ train │<span style=\"color: #c0c0c0; text-decoration-color: #c0c0c0\">     [[10722, </span>│<span style=\"color: #c0c0c0; text-decoration-color: #c0c0c0\"> [10722, 512] </span>│\n",
       "│<span style=\"color: #7f7f7f; text-decoration-color: #7f7f7f\">     </span>│                                             │              │        │       │<span style=\"color: #c0c0c0; text-decoration-color: #c0c0c0\">    512], [2, </span>│<span style=\"color: #c0c0c0; text-decoration-color: #c0c0c0\">              </span>│\n",
       "│<span style=\"color: #7f7f7f; text-decoration-color: #7f7f7f\">     </span>│                                             │              │        │       │<span style=\"color: #c0c0c0; text-decoration-color: #c0c0c0\">     171552], </span>│<span style=\"color: #c0c0c0; text-decoration-color: #c0c0c0\">              </span>│\n",
       "│<span style=\"color: #7f7f7f; text-decoration-color: #7f7f7f\">     </span>│                                             │              │        │       │<span style=\"color: #c0c0c0; text-decoration-color: #c0c0c0\">    [171552], </span>│<span style=\"color: #c0c0c0; text-decoration-color: #c0c0c0\">              </span>│\n",
       "│<span style=\"color: #7f7f7f; text-decoration-color: #7f7f7f\">     </span>│                                             │              │        │       │<span style=\"color: #c0c0c0; text-decoration-color: #c0c0c0\">     [171552, </span>│<span style=\"color: #c0c0c0; text-decoration-color: #c0c0c0\">              </span>│\n",
       "│<span style=\"color: #7f7f7f; text-decoration-color: #7f7f7f\">     </span>│                                             │              │        │       │<span style=\"color: #c0c0c0; text-decoration-color: #c0c0c0\">         50]] </span>│<span style=\"color: #c0c0c0; text-decoration-color: #c0c0c0\">              </span>│\n",
       "│<span style=\"color: #7f7f7f; text-decoration-color: #7f7f7f\"> 66  </span>│ encoder.interactions.5.conv.aggr_module     │ SumAggregat… │      0 │ train │<span style=\"color: #c0c0c0; text-decoration-color: #c0c0c0\">    [[171552, </span>│<span style=\"color: #c0c0c0; text-decoration-color: #c0c0c0\"> [10722, 128] </span>│\n",
       "│<span style=\"color: #7f7f7f; text-decoration-color: #7f7f7f\">     </span>│                                             │              │        │       │<span style=\"color: #c0c0c0; text-decoration-color: #c0c0c0\">        128], </span>│<span style=\"color: #c0c0c0; text-decoration-color: #c0c0c0\">              </span>│\n",
       "│<span style=\"color: #7f7f7f; text-decoration-color: #7f7f7f\">     </span>│                                             │              │        │       │<span style=\"color: #c0c0c0; text-decoration-color: #c0c0c0\">    [171552], </span>│<span style=\"color: #c0c0c0; text-decoration-color: #c0c0c0\">              </span>│\n",
       "│<span style=\"color: #7f7f7f; text-decoration-color: #7f7f7f\">     </span>│                                             │              │        │       │<span style=\"color: #c0c0c0; text-decoration-color: #c0c0c0\">    '?', '?', </span>│<span style=\"color: #c0c0c0; text-decoration-color: #c0c0c0\">              </span>│\n",
       "│<span style=\"color: #7f7f7f; text-decoration-color: #7f7f7f\">     </span>│                                             │              │        │       │<span style=\"color: #c0c0c0; text-decoration-color: #c0c0c0\">         '?'] </span>│<span style=\"color: #c0c0c0; text-decoration-color: #c0c0c0\">              </span>│\n",
       "│<span style=\"color: #7f7f7f; text-decoration-color: #7f7f7f\"> 67  </span>│ encoder.interactions.5.conv.lin1            │ Linear       │ 65.5 K │ train │<span style=\"color: #c0c0c0; text-decoration-color: #c0c0c0\"> [10722, 512] </span>│<span style=\"color: #c0c0c0; text-decoration-color: #c0c0c0\"> [10722, 128] </span>│\n",
       "│<span style=\"color: #7f7f7f; text-decoration-color: #7f7f7f\"> 68  </span>│ encoder.interactions.5.conv.lin2            │ Linear       │ 66.0 K │ train │<span style=\"color: #c0c0c0; text-decoration-color: #c0c0c0\"> [10722, 128] </span>│<span style=\"color: #c0c0c0; text-decoration-color: #c0c0c0\"> [10722, 512] </span>│\n",
       "│<span style=\"color: #7f7f7f; text-decoration-color: #7f7f7f\"> 69  </span>│ encoder.interactions.5.act                  │ ShiftedSoft… │      0 │ train │<span style=\"color: #c0c0c0; text-decoration-color: #c0c0c0\"> [10722, 512] </span>│<span style=\"color: #c0c0c0; text-decoration-color: #c0c0c0\"> [10722, 512] </span>│\n",
       "│<span style=\"color: #7f7f7f; text-decoration-color: #7f7f7f\"> 70  </span>│ encoder.interactions.5.lin                  │ Linear       │  262 K │ train │<span style=\"color: #c0c0c0; text-decoration-color: #c0c0c0\"> [10722, 512] </span>│<span style=\"color: #c0c0c0; text-decoration-color: #c0c0c0\"> [10722, 512] </span>│\n",
       "│<span style=\"color: #7f7f7f; text-decoration-color: #7f7f7f\"> 71  </span>│ encoder.lin1                                │ Linear       │  131 K │ train │<span style=\"color: #c0c0c0; text-decoration-color: #c0c0c0\"> [10722, 512] </span>│<span style=\"color: #c0c0c0; text-decoration-color: #c0c0c0\"> [10722, 256] </span>│\n",
       "│<span style=\"color: #7f7f7f; text-decoration-color: #7f7f7f\"> 72  </span>│ encoder.act                                 │ ShiftedSoft… │      0 │ train │<span style=\"color: #c0c0c0; text-decoration-color: #c0c0c0\"> [10722, 256] </span>│<span style=\"color: #c0c0c0; text-decoration-color: #c0c0c0\"> [10722, 256] </span>│\n",
       "│<span style=\"color: #7f7f7f; text-decoration-color: #7f7f7f\"> 73  </span>│ encoder.lin2                                │ Linear       │  8.2 K │ train │<span style=\"color: #c0c0c0; text-decoration-color: #c0c0c0\"> [10722, 256] </span>│<span style=\"color: #c0c0c0; text-decoration-color: #c0c0c0\">  [10722, 32] </span>│\n",
       "│<span style=\"color: #7f7f7f; text-decoration-color: #7f7f7f\"> 74  </span>│ decoder                                     │ ModuleDict   │  2.7 M │ train │<span style=\"color: #c0c0c0; text-decoration-color: #c0c0c0\">            ? </span>│<span style=\"color: #c0c0c0; text-decoration-color: #c0c0c0\">            ? </span>│\n",
       "│<span style=\"color: #7f7f7f; text-decoration-color: #7f7f7f\"> 75  </span>│ decoder.graph_label                         │ MLPDecoder   │  2.7 M │ train │<span style=\"color: #c0c0c0; text-decoration-color: #c0c0c0\">     [32, 32] </span>│<span style=\"color: #c0c0c0; text-decoration-color: #c0c0c0\">   [32, 1195] </span>│\n",
       "│<span style=\"color: #7f7f7f; text-decoration-color: #7f7f7f\"> 76  </span>│ decoder.graph_label.layers                  │ LinearSkipB… │  2.7 M │ train │<span style=\"color: #c0c0c0; text-decoration-color: #c0c0c0\">     [32, 32] </span>│<span style=\"color: #c0c0c0; text-decoration-color: #c0c0c0\">   [32, 1195] </span>│\n",
       "│<span style=\"color: #7f7f7f; text-decoration-color: #7f7f7f\"> 77  </span>│ decoder.graph_label.layers.layers           │ ModuleList   │  2.7 M │ train │<span style=\"color: #c0c0c0; text-decoration-color: #c0c0c0\">            ? </span>│<span style=\"color: #c0c0c0; text-decoration-color: #c0c0c0\">            ? </span>│\n",
       "│<span style=\"color: #7f7f7f; text-decoration-color: #7f7f7f\"> 78  </span>│ decoder.graph_label.layers.layers.0         │ Linear       │ 16.9 K │ train │<span style=\"color: #c0c0c0; text-decoration-color: #c0c0c0\">     [32, 32] </span>│<span style=\"color: #c0c0c0; text-decoration-color: #c0c0c0\">    [32, 512] </span>│\n",
       "│<span style=\"color: #7f7f7f; text-decoration-color: #7f7f7f\"> 79  </span>│ decoder.graph_label.layers.layers.1         │ Linear       │  279 K │ train │<span style=\"color: #c0c0c0; text-decoration-color: #c0c0c0\">    [32, 544] </span>│<span style=\"color: #c0c0c0; text-decoration-color: #c0c0c0\">    [32, 512] </span>│\n",
       "│<span style=\"color: #7f7f7f; text-decoration-color: #7f7f7f\"> 80  </span>│ decoder.graph_label.layers.layers.2         │ Linear       │  541 K │ train │<span style=\"color: #c0c0c0; text-decoration-color: #c0c0c0\">   [32, 1056] </span>│<span style=\"color: #c0c0c0; text-decoration-color: #c0c0c0\">    [32, 512] </span>│\n",
       "│<span style=\"color: #7f7f7f; text-decoration-color: #7f7f7f\"> 81  </span>│ decoder.graph_label.layers.layers.3         │ Linear       │  1.9 M │ train │<span style=\"color: #c0c0c0; text-decoration-color: #c0c0c0\">   [32, 1568] </span>│<span style=\"color: #c0c0c0; text-decoration-color: #c0c0c0\">   [32, 1195] </span>│\n",
       "│<span style=\"color: #7f7f7f; text-decoration-color: #7f7f7f\"> 82  </span>│ decoder.graph_label.layers.activations      │ ModuleList   │      0 │ train │<span style=\"color: #c0c0c0; text-decoration-color: #c0c0c0\">            ? </span>│<span style=\"color: #c0c0c0; text-decoration-color: #c0c0c0\">            ? </span>│\n",
       "│<span style=\"color: #7f7f7f; text-decoration-color: #7f7f7f\"> 83  </span>│ decoder.graph_label.layers.activations.0    │ ReLU         │      0 │ train │<span style=\"color: #c0c0c0; text-decoration-color: #c0c0c0\">    [32, 512] </span>│<span style=\"color: #c0c0c0; text-decoration-color: #c0c0c0\">    [32, 512] </span>│\n",
       "│<span style=\"color: #7f7f7f; text-decoration-color: #7f7f7f\"> 84  </span>│ decoder.graph_label.layers.activations.1    │ ReLU         │      0 │ train │<span style=\"color: #c0c0c0; text-decoration-color: #c0c0c0\">    [32, 512] </span>│<span style=\"color: #c0c0c0; text-decoration-color: #c0c0c0\">    [32, 512] </span>│\n",
       "│<span style=\"color: #7f7f7f; text-decoration-color: #7f7f7f\"> 85  </span>│ decoder.graph_label.layers.activations.2    │ ReLU         │      0 │ train │<span style=\"color: #c0c0c0; text-decoration-color: #c0c0c0\">    [32, 512] </span>│<span style=\"color: #c0c0c0; text-decoration-color: #c0c0c0\">    [32, 512] </span>│\n",
       "│<span style=\"color: #7f7f7f; text-decoration-color: #7f7f7f\"> 86  </span>│ decoder.graph_label.layers.activations.3    │ Identity     │      0 │ train │<span style=\"color: #c0c0c0; text-decoration-color: #c0c0c0\">   [32, 1195] </span>│<span style=\"color: #c0c0c0; text-decoration-color: #c0c0c0\">   [32, 1195] </span>│\n",
       "│<span style=\"color: #7f7f7f; text-decoration-color: #7f7f7f\"> 87  </span>│ decoder.graph_label.layers.dropout_layers   │ ModuleList   │      0 │ train │<span style=\"color: #c0c0c0; text-decoration-color: #c0c0c0\">            ? </span>│<span style=\"color: #c0c0c0; text-decoration-color: #c0c0c0\">            ? </span>│\n",
       "│<span style=\"color: #7f7f7f; text-decoration-color: #7f7f7f\"> 88  </span>│ decoder.graph_label.layers.dropout_layers.0 │ Dropout      │      0 │ train │<span style=\"color: #c0c0c0; text-decoration-color: #c0c0c0\">    [32, 512] </span>│<span style=\"color: #c0c0c0; text-decoration-color: #c0c0c0\">    [32, 512] </span>│\n",
       "│<span style=\"color: #7f7f7f; text-decoration-color: #7f7f7f\"> 89  </span>│ decoder.graph_label.layers.dropout_layers.1 │ Dropout      │      0 │ train │<span style=\"color: #c0c0c0; text-decoration-color: #c0c0c0\">    [32, 512] </span>│<span style=\"color: #c0c0c0; text-decoration-color: #c0c0c0\">    [32, 512] </span>│\n",
       "│<span style=\"color: #7f7f7f; text-decoration-color: #7f7f7f\"> 90  </span>│ decoder.graph_label.layers.dropout_layers.2 │ Dropout      │      0 │ train │<span style=\"color: #c0c0c0; text-decoration-color: #c0c0c0\">    [32, 512] </span>│<span style=\"color: #c0c0c0; text-decoration-color: #c0c0c0\">    [32, 512] </span>│\n",
       "│<span style=\"color: #7f7f7f; text-decoration-color: #7f7f7f\"> 91  </span>│ train_graph_label_accuracy                  │ MulticlassA… │      0 │ train │<span style=\"color: #c0c0c0; text-decoration-color: #c0c0c0\">            ? </span>│<span style=\"color: #c0c0c0; text-decoration-color: #c0c0c0\">            ? </span>│\n",
       "│<span style=\"color: #7f7f7f; text-decoration-color: #7f7f7f\"> 92  </span>│ test_graph_label_accuracy                   │ MulticlassA… │      0 │ train │<span style=\"color: #c0c0c0; text-decoration-color: #c0c0c0\">            ? </span>│<span style=\"color: #c0c0c0; text-decoration-color: #c0c0c0\">            ? </span>│\n",
       "│<span style=\"color: #7f7f7f; text-decoration-color: #7f7f7f\"> 93  </span>│ val_graph_label_accuracy                    │ MulticlassA… │      0 │ train │<span style=\"color: #c0c0c0; text-decoration-color: #c0c0c0\">            ? </span>│<span style=\"color: #c0c0c0; text-decoration-color: #c0c0c0\">            ? </span>│\n",
       "│<span style=\"color: #7f7f7f; text-decoration-color: #7f7f7f\"> 94  </span>│ train_graph_label_f1_score                  │ MulticlassF… │      0 │ train │<span style=\"color: #c0c0c0; text-decoration-color: #c0c0c0\">            ? </span>│<span style=\"color: #c0c0c0; text-decoration-color: #c0c0c0\">            ? </span>│\n",
       "│<span style=\"color: #7f7f7f; text-decoration-color: #7f7f7f\"> 95  </span>│ test_graph_label_f1_score                   │ MulticlassF… │      0 │ train │<span style=\"color: #c0c0c0; text-decoration-color: #c0c0c0\">            ? </span>│<span style=\"color: #c0c0c0; text-decoration-color: #c0c0c0\">            ? </span>│\n",
       "│<span style=\"color: #7f7f7f; text-decoration-color: #7f7f7f\"> 96  </span>│ val_graph_label_f1_score                    │ MulticlassF… │      0 │ train │<span style=\"color: #c0c0c0; text-decoration-color: #c0c0c0\">            ? </span>│<span style=\"color: #c0c0c0; text-decoration-color: #c0c0c0\">            ? </span>│\n",
       "│<span style=\"color: #7f7f7f; text-decoration-color: #7f7f7f\"> 97  </span>│ train_graph_label_f1_max                    │ F1Max        │      0 │ train │<span style=\"color: #c0c0c0; text-decoration-color: #c0c0c0\">            ? </span>│<span style=\"color: #c0c0c0; text-decoration-color: #c0c0c0\">            ? </span>│\n",
       "│<span style=\"color: #7f7f7f; text-decoration-color: #7f7f7f\"> 98  </span>│ test_graph_label_f1_max                     │ F1Max        │      0 │ train │<span style=\"color: #c0c0c0; text-decoration-color: #c0c0c0\">            ? </span>│<span style=\"color: #c0c0c0; text-decoration-color: #c0c0c0\">            ? </span>│\n",
       "│<span style=\"color: #7f7f7f; text-decoration-color: #7f7f7f\"> 99  </span>│ val_graph_label_f1_max                      │ F1Max        │      0 │ train │<span style=\"color: #c0c0c0; text-decoration-color: #c0c0c0\">            ? </span>│<span style=\"color: #c0c0c0; text-decoration-color: #c0c0c0\">            ? </span>│\n",
       "│<span style=\"color: #7f7f7f; text-decoration-color: #7f7f7f\"> 100 </span>│ featuriser                                  │ ProteinFeat… │      0 │ train │<span style=\"color: #c0c0c0; text-decoration-color: #c0c0c0\">            ? </span>│<span style=\"color: #c0c0c0; text-decoration-color: #c0c0c0\">            ? </span>│\n",
       "│<span style=\"color: #7f7f7f; text-decoration-color: #7f7f7f\"> 101 </span>│ featuriser.positional_encoding              │ PositionalE… │      0 │ train │<span style=\"color: #c0c0c0; text-decoration-color: #c0c0c0\">   [10722, 1] </span>│<span style=\"color: #c0c0c0; text-decoration-color: #c0c0c0\">  [10722, 16] </span>│\n",
       "└─────┴─────────────────────────────────────────────┴──────────────┴────────┴───────┴──────────────┴──────────────┘\n",
       "</pre>\n"
      ],
      "text/plain": [
       "┏━━━━━┳━━━━━━━━━━━━━━━━━━━━━━━━━━━━━━━━━━━━━━━━━━━━━┳━━━━━━━━━━━━━━┳━━━━━━━━┳━━━━━━━┳━━━━━━━━━━━━━━┳━━━━━━━━━━━━━━┓\n",
       "┃\u001b[1;35m \u001b[0m\u001b[1;35m   \u001b[0m\u001b[1;35m \u001b[0m┃\u001b[1;35m \u001b[0m\u001b[1;35mName                                       \u001b[0m\u001b[1;35m \u001b[0m┃\u001b[1;35m \u001b[0m\u001b[1;35mType        \u001b[0m\u001b[1;35m \u001b[0m┃\u001b[1;35m \u001b[0m\u001b[1;35mParams\u001b[0m\u001b[1;35m \u001b[0m┃\u001b[1;35m \u001b[0m\u001b[1;35mMode \u001b[0m\u001b[1;35m \u001b[0m┃\u001b[1;35m \u001b[0m\u001b[1;35m    In sizes\u001b[0m\u001b[1;35m \u001b[0m┃\u001b[1;35m \u001b[0m\u001b[1;35m   Out sizes\u001b[0m\u001b[1;35m \u001b[0m┃\n",
       "┡━━━━━╇━━━━━━━━━━━━━━━━━━━━━━━━━━━━━━━━━━━━━━━━━━━━━╇━━━━━━━━━━━━━━╇━━━━━━━━╇━━━━━━━╇━━━━━━━━━━━━━━╇━━━━━━━━━━━━━━┩\n",
       "│\u001b[2m \u001b[0m\u001b[2m0  \u001b[0m\u001b[2m \u001b[0m│ encoder                                     │ SchNetModel  │  2.7 M │ train │\u001b[37m \u001b[0m\u001b[37m           ?\u001b[0m\u001b[37m \u001b[0m│\u001b[37m \u001b[0m\u001b[37m           ?\u001b[0m\u001b[37m \u001b[0m│\n",
       "│\u001b[2m \u001b[0m\u001b[2m1  \u001b[0m\u001b[2m \u001b[0m│ encoder.sum_aggr                            │ SumAggregat… │      0 │ train │\u001b[37m \u001b[0m\u001b[37m           ?\u001b[0m\u001b[37m \u001b[0m│\u001b[37m \u001b[0m\u001b[37m           ?\u001b[0m\u001b[37m \u001b[0m│\n",
       "│\u001b[2m \u001b[0m\u001b[2m2  \u001b[0m\u001b[2m \u001b[0m│ encoder.embedding                           │ Linear       │ 25.6 K │ train │\u001b[37m \u001b[0m\u001b[37m [10722, 49]\u001b[0m\u001b[37m \u001b[0m│\u001b[37m \u001b[0m\u001b[37m[10722, 512]\u001b[0m\u001b[37m \u001b[0m│\n",
       "│\u001b[2m \u001b[0m\u001b[2m3  \u001b[0m\u001b[2m \u001b[0m│ encoder.distance_expansion                  │ GaussianSme… │      0 │ train │\u001b[37m \u001b[0m\u001b[37m    [171552]\u001b[0m\u001b[37m \u001b[0m│\u001b[37m \u001b[0m\u001b[37m[171552, 50]\u001b[0m\u001b[37m \u001b[0m│\n",
       "│\u001b[2m \u001b[0m\u001b[2m4  \u001b[0m\u001b[2m \u001b[0m│ encoder.interactions                        │ ModuleList   │  2.5 M │ train │\u001b[37m \u001b[0m\u001b[37m           ?\u001b[0m\u001b[37m \u001b[0m│\u001b[37m \u001b[0m\u001b[37m           ?\u001b[0m\u001b[37m \u001b[0m│\n",
       "│\u001b[2m \u001b[0m\u001b[2m5  \u001b[0m\u001b[2m \u001b[0m│ encoder.interactions.0                      │ Interaction… │  417 K │ train │\u001b[37m \u001b[0m\u001b[37m    [[10722,\u001b[0m\u001b[37m \u001b[0m│\u001b[37m \u001b[0m\u001b[37m[10722, 512]\u001b[0m\u001b[37m \u001b[0m│\n",
       "│\u001b[2m     \u001b[0m│                                             │              │        │       │\u001b[37m \u001b[0m\u001b[37m   512], [2,\u001b[0m\u001b[37m \u001b[0m│\u001b[37m              \u001b[0m│\n",
       "│\u001b[2m     \u001b[0m│                                             │              │        │       │\u001b[37m \u001b[0m\u001b[37m    171552],\u001b[0m\u001b[37m \u001b[0m│\u001b[37m              \u001b[0m│\n",
       "│\u001b[2m     \u001b[0m│                                             │              │        │       │\u001b[37m \u001b[0m\u001b[37m   [171552],\u001b[0m\u001b[37m \u001b[0m│\u001b[37m              \u001b[0m│\n",
       "│\u001b[2m     \u001b[0m│                                             │              │        │       │\u001b[37m \u001b[0m\u001b[37m    [171552,\u001b[0m\u001b[37m \u001b[0m│\u001b[37m              \u001b[0m│\n",
       "│\u001b[2m     \u001b[0m│                                             │              │        │       │\u001b[37m \u001b[0m\u001b[37m        50]]\u001b[0m\u001b[37m \u001b[0m│\u001b[37m              \u001b[0m│\n",
       "│\u001b[2m \u001b[0m\u001b[2m6  \u001b[0m\u001b[2m \u001b[0m│ encoder.interactions.0.mlp                  │ Sequential   │ 23.0 K │ train │\u001b[37m \u001b[0m\u001b[37m[171552, 50]\u001b[0m\u001b[37m \u001b[0m│\u001b[37m \u001b[0m\u001b[37m    [171552,\u001b[0m\u001b[37m \u001b[0m│\n",
       "│\u001b[2m     \u001b[0m│                                             │              │        │       │\u001b[37m              \u001b[0m│\u001b[37m \u001b[0m\u001b[37m        128]\u001b[0m\u001b[37m \u001b[0m│\n",
       "│\u001b[2m \u001b[0m\u001b[2m7  \u001b[0m\u001b[2m \u001b[0m│ encoder.interactions.0.mlp.0                │ Linear       │  6.5 K │ train │\u001b[37m \u001b[0m\u001b[37m[171552, 50]\u001b[0m\u001b[37m \u001b[0m│\u001b[37m \u001b[0m\u001b[37m    [171552,\u001b[0m\u001b[37m \u001b[0m│\n",
       "│\u001b[2m     \u001b[0m│                                             │              │        │       │\u001b[37m              \u001b[0m│\u001b[37m \u001b[0m\u001b[37m        128]\u001b[0m\u001b[37m \u001b[0m│\n",
       "│\u001b[2m \u001b[0m\u001b[2m8  \u001b[0m\u001b[2m \u001b[0m│ encoder.interactions.0.mlp.1                │ ShiftedSoft… │      0 │ train │\u001b[37m \u001b[0m\u001b[37m    [171552,\u001b[0m\u001b[37m \u001b[0m│\u001b[37m \u001b[0m\u001b[37m    [171552,\u001b[0m\u001b[37m \u001b[0m│\n",
       "│\u001b[2m     \u001b[0m│                                             │              │        │       │\u001b[37m \u001b[0m\u001b[37m        128]\u001b[0m\u001b[37m \u001b[0m│\u001b[37m \u001b[0m\u001b[37m        128]\u001b[0m\u001b[37m \u001b[0m│\n",
       "│\u001b[2m \u001b[0m\u001b[2m9  \u001b[0m\u001b[2m \u001b[0m│ encoder.interactions.0.mlp.2                │ Linear       │ 16.5 K │ train │\u001b[37m \u001b[0m\u001b[37m    [171552,\u001b[0m\u001b[37m \u001b[0m│\u001b[37m \u001b[0m\u001b[37m    [171552,\u001b[0m\u001b[37m \u001b[0m│\n",
       "│\u001b[2m     \u001b[0m│                                             │              │        │       │\u001b[37m \u001b[0m\u001b[37m        128]\u001b[0m\u001b[37m \u001b[0m│\u001b[37m \u001b[0m\u001b[37m        128]\u001b[0m\u001b[37m \u001b[0m│\n",
       "│\u001b[2m \u001b[0m\u001b[2m10 \u001b[0m\u001b[2m \u001b[0m│ encoder.interactions.0.conv                 │ CFConv       │  154 K │ train │\u001b[37m \u001b[0m\u001b[37m    [[10722,\u001b[0m\u001b[37m \u001b[0m│\u001b[37m \u001b[0m\u001b[37m[10722, 512]\u001b[0m\u001b[37m \u001b[0m│\n",
       "│\u001b[2m     \u001b[0m│                                             │              │        │       │\u001b[37m \u001b[0m\u001b[37m   512], [2,\u001b[0m\u001b[37m \u001b[0m│\u001b[37m              \u001b[0m│\n",
       "│\u001b[2m     \u001b[0m│                                             │              │        │       │\u001b[37m \u001b[0m\u001b[37m    171552],\u001b[0m\u001b[37m \u001b[0m│\u001b[37m              \u001b[0m│\n",
       "│\u001b[2m     \u001b[0m│                                             │              │        │       │\u001b[37m \u001b[0m\u001b[37m   [171552],\u001b[0m\u001b[37m \u001b[0m│\u001b[37m              \u001b[0m│\n",
       "│\u001b[2m     \u001b[0m│                                             │              │        │       │\u001b[37m \u001b[0m\u001b[37m    [171552,\u001b[0m\u001b[37m \u001b[0m│\u001b[37m              \u001b[0m│\n",
       "│\u001b[2m     \u001b[0m│                                             │              │        │       │\u001b[37m \u001b[0m\u001b[37m        50]]\u001b[0m\u001b[37m \u001b[0m│\u001b[37m              \u001b[0m│\n",
       "│\u001b[2m \u001b[0m\u001b[2m11 \u001b[0m\u001b[2m \u001b[0m│ encoder.interactions.0.conv.aggr_module     │ SumAggregat… │      0 │ train │\u001b[37m \u001b[0m\u001b[37m   [[171552,\u001b[0m\u001b[37m \u001b[0m│\u001b[37m \u001b[0m\u001b[37m[10722, 128]\u001b[0m\u001b[37m \u001b[0m│\n",
       "│\u001b[2m     \u001b[0m│                                             │              │        │       │\u001b[37m \u001b[0m\u001b[37m       128],\u001b[0m\u001b[37m \u001b[0m│\u001b[37m              \u001b[0m│\n",
       "│\u001b[2m     \u001b[0m│                                             │              │        │       │\u001b[37m \u001b[0m\u001b[37m   [171552],\u001b[0m\u001b[37m \u001b[0m│\u001b[37m              \u001b[0m│\n",
       "│\u001b[2m     \u001b[0m│                                             │              │        │       │\u001b[37m \u001b[0m\u001b[37m   '?', '?',\u001b[0m\u001b[37m \u001b[0m│\u001b[37m              \u001b[0m│\n",
       "│\u001b[2m     \u001b[0m│                                             │              │        │       │\u001b[37m \u001b[0m\u001b[37m        '?']\u001b[0m\u001b[37m \u001b[0m│\u001b[37m              \u001b[0m│\n",
       "│\u001b[2m \u001b[0m\u001b[2m12 \u001b[0m\u001b[2m \u001b[0m│ encoder.interactions.0.conv.lin1            │ Linear       │ 65.5 K │ train │\u001b[37m \u001b[0m\u001b[37m[10722, 512]\u001b[0m\u001b[37m \u001b[0m│\u001b[37m \u001b[0m\u001b[37m[10722, 128]\u001b[0m\u001b[37m \u001b[0m│\n",
       "│\u001b[2m \u001b[0m\u001b[2m13 \u001b[0m\u001b[2m \u001b[0m│ encoder.interactions.0.conv.lin2            │ Linear       │ 66.0 K │ train │\u001b[37m \u001b[0m\u001b[37m[10722, 128]\u001b[0m\u001b[37m \u001b[0m│\u001b[37m \u001b[0m\u001b[37m[10722, 512]\u001b[0m\u001b[37m \u001b[0m│\n",
       "│\u001b[2m \u001b[0m\u001b[2m14 \u001b[0m\u001b[2m \u001b[0m│ encoder.interactions.0.act                  │ ShiftedSoft… │      0 │ train │\u001b[37m \u001b[0m\u001b[37m[10722, 512]\u001b[0m\u001b[37m \u001b[0m│\u001b[37m \u001b[0m\u001b[37m[10722, 512]\u001b[0m\u001b[37m \u001b[0m│\n",
       "│\u001b[2m \u001b[0m\u001b[2m15 \u001b[0m\u001b[2m \u001b[0m│ encoder.interactions.0.lin                  │ Linear       │  262 K │ train │\u001b[37m \u001b[0m\u001b[37m[10722, 512]\u001b[0m\u001b[37m \u001b[0m│\u001b[37m \u001b[0m\u001b[37m[10722, 512]\u001b[0m\u001b[37m \u001b[0m│\n",
       "│\u001b[2m \u001b[0m\u001b[2m16 \u001b[0m\u001b[2m \u001b[0m│ encoder.interactions.1                      │ Interaction… │  417 K │ train │\u001b[37m \u001b[0m\u001b[37m    [[10722,\u001b[0m\u001b[37m \u001b[0m│\u001b[37m \u001b[0m\u001b[37m[10722, 512]\u001b[0m\u001b[37m \u001b[0m│\n",
       "│\u001b[2m     \u001b[0m│                                             │              │        │       │\u001b[37m \u001b[0m\u001b[37m   512], [2,\u001b[0m\u001b[37m \u001b[0m│\u001b[37m              \u001b[0m│\n",
       "│\u001b[2m     \u001b[0m│                                             │              │        │       │\u001b[37m \u001b[0m\u001b[37m    171552],\u001b[0m\u001b[37m \u001b[0m│\u001b[37m              \u001b[0m│\n",
       "│\u001b[2m     \u001b[0m│                                             │              │        │       │\u001b[37m \u001b[0m\u001b[37m   [171552],\u001b[0m\u001b[37m \u001b[0m│\u001b[37m              \u001b[0m│\n",
       "│\u001b[2m     \u001b[0m│                                             │              │        │       │\u001b[37m \u001b[0m\u001b[37m    [171552,\u001b[0m\u001b[37m \u001b[0m│\u001b[37m              \u001b[0m│\n",
       "│\u001b[2m     \u001b[0m│                                             │              │        │       │\u001b[37m \u001b[0m\u001b[37m        50]]\u001b[0m\u001b[37m \u001b[0m│\u001b[37m              \u001b[0m│\n",
       "│\u001b[2m \u001b[0m\u001b[2m17 \u001b[0m\u001b[2m \u001b[0m│ encoder.interactions.1.mlp                  │ Sequential   │ 23.0 K │ train │\u001b[37m \u001b[0m\u001b[37m[171552, 50]\u001b[0m\u001b[37m \u001b[0m│\u001b[37m \u001b[0m\u001b[37m    [171552,\u001b[0m\u001b[37m \u001b[0m│\n",
       "│\u001b[2m     \u001b[0m│                                             │              │        │       │\u001b[37m              \u001b[0m│\u001b[37m \u001b[0m\u001b[37m        128]\u001b[0m\u001b[37m \u001b[0m│\n",
       "│\u001b[2m \u001b[0m\u001b[2m18 \u001b[0m\u001b[2m \u001b[0m│ encoder.interactions.1.mlp.0                │ Linear       │  6.5 K │ train │\u001b[37m \u001b[0m\u001b[37m[171552, 50]\u001b[0m\u001b[37m \u001b[0m│\u001b[37m \u001b[0m\u001b[37m    [171552,\u001b[0m\u001b[37m \u001b[0m│\n",
       "│\u001b[2m     \u001b[0m│                                             │              │        │       │\u001b[37m              \u001b[0m│\u001b[37m \u001b[0m\u001b[37m        128]\u001b[0m\u001b[37m \u001b[0m│\n",
       "│\u001b[2m \u001b[0m\u001b[2m19 \u001b[0m\u001b[2m \u001b[0m│ encoder.interactions.1.mlp.1                │ ShiftedSoft… │      0 │ train │\u001b[37m \u001b[0m\u001b[37m    [171552,\u001b[0m\u001b[37m \u001b[0m│\u001b[37m \u001b[0m\u001b[37m    [171552,\u001b[0m\u001b[37m \u001b[0m│\n",
       "│\u001b[2m     \u001b[0m│                                             │              │        │       │\u001b[37m \u001b[0m\u001b[37m        128]\u001b[0m\u001b[37m \u001b[0m│\u001b[37m \u001b[0m\u001b[37m        128]\u001b[0m\u001b[37m \u001b[0m│\n",
       "│\u001b[2m \u001b[0m\u001b[2m20 \u001b[0m\u001b[2m \u001b[0m│ encoder.interactions.1.mlp.2                │ Linear       │ 16.5 K │ train │\u001b[37m \u001b[0m\u001b[37m    [171552,\u001b[0m\u001b[37m \u001b[0m│\u001b[37m \u001b[0m\u001b[37m    [171552,\u001b[0m\u001b[37m \u001b[0m│\n",
       "│\u001b[2m     \u001b[0m│                                             │              │        │       │\u001b[37m \u001b[0m\u001b[37m        128]\u001b[0m\u001b[37m \u001b[0m│\u001b[37m \u001b[0m\u001b[37m        128]\u001b[0m\u001b[37m \u001b[0m│\n",
       "│\u001b[2m \u001b[0m\u001b[2m21 \u001b[0m\u001b[2m \u001b[0m│ encoder.interactions.1.conv                 │ CFConv       │  154 K │ train │\u001b[37m \u001b[0m\u001b[37m    [[10722,\u001b[0m\u001b[37m \u001b[0m│\u001b[37m \u001b[0m\u001b[37m[10722, 512]\u001b[0m\u001b[37m \u001b[0m│\n",
       "│\u001b[2m     \u001b[0m│                                             │              │        │       │\u001b[37m \u001b[0m\u001b[37m   512], [2,\u001b[0m\u001b[37m \u001b[0m│\u001b[37m              \u001b[0m│\n",
       "│\u001b[2m     \u001b[0m│                                             │              │        │       │\u001b[37m \u001b[0m\u001b[37m    171552],\u001b[0m\u001b[37m \u001b[0m│\u001b[37m              \u001b[0m│\n",
       "│\u001b[2m     \u001b[0m│                                             │              │        │       │\u001b[37m \u001b[0m\u001b[37m   [171552],\u001b[0m\u001b[37m \u001b[0m│\u001b[37m              \u001b[0m│\n",
       "│\u001b[2m     \u001b[0m│                                             │              │        │       │\u001b[37m \u001b[0m\u001b[37m    [171552,\u001b[0m\u001b[37m \u001b[0m│\u001b[37m              \u001b[0m│\n",
       "│\u001b[2m     \u001b[0m│                                             │              │        │       │\u001b[37m \u001b[0m\u001b[37m        50]]\u001b[0m\u001b[37m \u001b[0m│\u001b[37m              \u001b[0m│\n",
       "│\u001b[2m \u001b[0m\u001b[2m22 \u001b[0m\u001b[2m \u001b[0m│ encoder.interactions.1.conv.aggr_module     │ SumAggregat… │      0 │ train │\u001b[37m \u001b[0m\u001b[37m   [[171552,\u001b[0m\u001b[37m \u001b[0m│\u001b[37m \u001b[0m\u001b[37m[10722, 128]\u001b[0m\u001b[37m \u001b[0m│\n",
       "│\u001b[2m     \u001b[0m│                                             │              │        │       │\u001b[37m \u001b[0m\u001b[37m       128],\u001b[0m\u001b[37m \u001b[0m│\u001b[37m              \u001b[0m│\n",
       "│\u001b[2m     \u001b[0m│                                             │              │        │       │\u001b[37m \u001b[0m\u001b[37m   [171552],\u001b[0m\u001b[37m \u001b[0m│\u001b[37m              \u001b[0m│\n",
       "│\u001b[2m     \u001b[0m│                                             │              │        │       │\u001b[37m \u001b[0m\u001b[37m   '?', '?',\u001b[0m\u001b[37m \u001b[0m│\u001b[37m              \u001b[0m│\n",
       "│\u001b[2m     \u001b[0m│                                             │              │        │       │\u001b[37m \u001b[0m\u001b[37m        '?']\u001b[0m\u001b[37m \u001b[0m│\u001b[37m              \u001b[0m│\n",
       "│\u001b[2m \u001b[0m\u001b[2m23 \u001b[0m\u001b[2m \u001b[0m│ encoder.interactions.1.conv.lin1            │ Linear       │ 65.5 K │ train │\u001b[37m \u001b[0m\u001b[37m[10722, 512]\u001b[0m\u001b[37m \u001b[0m│\u001b[37m \u001b[0m\u001b[37m[10722, 128]\u001b[0m\u001b[37m \u001b[0m│\n",
       "│\u001b[2m \u001b[0m\u001b[2m24 \u001b[0m\u001b[2m \u001b[0m│ encoder.interactions.1.conv.lin2            │ Linear       │ 66.0 K │ train │\u001b[37m \u001b[0m\u001b[37m[10722, 128]\u001b[0m\u001b[37m \u001b[0m│\u001b[37m \u001b[0m\u001b[37m[10722, 512]\u001b[0m\u001b[37m \u001b[0m│\n",
       "│\u001b[2m \u001b[0m\u001b[2m25 \u001b[0m\u001b[2m \u001b[0m│ encoder.interactions.1.act                  │ ShiftedSoft… │      0 │ train │\u001b[37m \u001b[0m\u001b[37m[10722, 512]\u001b[0m\u001b[37m \u001b[0m│\u001b[37m \u001b[0m\u001b[37m[10722, 512]\u001b[0m\u001b[37m \u001b[0m│\n",
       "│\u001b[2m \u001b[0m\u001b[2m26 \u001b[0m\u001b[2m \u001b[0m│ encoder.interactions.1.lin                  │ Linear       │  262 K │ train │\u001b[37m \u001b[0m\u001b[37m[10722, 512]\u001b[0m\u001b[37m \u001b[0m│\u001b[37m \u001b[0m\u001b[37m[10722, 512]\u001b[0m\u001b[37m \u001b[0m│\n",
       "│\u001b[2m \u001b[0m\u001b[2m27 \u001b[0m\u001b[2m \u001b[0m│ encoder.interactions.2                      │ Interaction… │  417 K │ train │\u001b[37m \u001b[0m\u001b[37m    [[10722,\u001b[0m\u001b[37m \u001b[0m│\u001b[37m \u001b[0m\u001b[37m[10722, 512]\u001b[0m\u001b[37m \u001b[0m│\n",
       "│\u001b[2m     \u001b[0m│                                             │              │        │       │\u001b[37m \u001b[0m\u001b[37m   512], [2,\u001b[0m\u001b[37m \u001b[0m│\u001b[37m              \u001b[0m│\n",
       "│\u001b[2m     \u001b[0m│                                             │              │        │       │\u001b[37m \u001b[0m\u001b[37m    171552],\u001b[0m\u001b[37m \u001b[0m│\u001b[37m              \u001b[0m│\n",
       "│\u001b[2m     \u001b[0m│                                             │              │        │       │\u001b[37m \u001b[0m\u001b[37m   [171552],\u001b[0m\u001b[37m \u001b[0m│\u001b[37m              \u001b[0m│\n",
       "│\u001b[2m     \u001b[0m│                                             │              │        │       │\u001b[37m \u001b[0m\u001b[37m    [171552,\u001b[0m\u001b[37m \u001b[0m│\u001b[37m              \u001b[0m│\n",
       "│\u001b[2m     \u001b[0m│                                             │              │        │       │\u001b[37m \u001b[0m\u001b[37m        50]]\u001b[0m\u001b[37m \u001b[0m│\u001b[37m              \u001b[0m│\n",
       "│\u001b[2m \u001b[0m\u001b[2m28 \u001b[0m\u001b[2m \u001b[0m│ encoder.interactions.2.mlp                  │ Sequential   │ 23.0 K │ train │\u001b[37m \u001b[0m\u001b[37m[171552, 50]\u001b[0m\u001b[37m \u001b[0m│\u001b[37m \u001b[0m\u001b[37m    [171552,\u001b[0m\u001b[37m \u001b[0m│\n",
       "│\u001b[2m     \u001b[0m│                                             │              │        │       │\u001b[37m              \u001b[0m│\u001b[37m \u001b[0m\u001b[37m        128]\u001b[0m\u001b[37m \u001b[0m│\n",
       "│\u001b[2m \u001b[0m\u001b[2m29 \u001b[0m\u001b[2m \u001b[0m│ encoder.interactions.2.mlp.0                │ Linear       │  6.5 K │ train │\u001b[37m \u001b[0m\u001b[37m[171552, 50]\u001b[0m\u001b[37m \u001b[0m│\u001b[37m \u001b[0m\u001b[37m    [171552,\u001b[0m\u001b[37m \u001b[0m│\n",
       "│\u001b[2m     \u001b[0m│                                             │              │        │       │\u001b[37m              \u001b[0m│\u001b[37m \u001b[0m\u001b[37m        128]\u001b[0m\u001b[37m \u001b[0m│\n",
       "│\u001b[2m \u001b[0m\u001b[2m30 \u001b[0m\u001b[2m \u001b[0m│ encoder.interactions.2.mlp.1                │ ShiftedSoft… │      0 │ train │\u001b[37m \u001b[0m\u001b[37m    [171552,\u001b[0m\u001b[37m \u001b[0m│\u001b[37m \u001b[0m\u001b[37m    [171552,\u001b[0m\u001b[37m \u001b[0m│\n",
       "│\u001b[2m     \u001b[0m│                                             │              │        │       │\u001b[37m \u001b[0m\u001b[37m        128]\u001b[0m\u001b[37m \u001b[0m│\u001b[37m \u001b[0m\u001b[37m        128]\u001b[0m\u001b[37m \u001b[0m│\n",
       "│\u001b[2m \u001b[0m\u001b[2m31 \u001b[0m\u001b[2m \u001b[0m│ encoder.interactions.2.mlp.2                │ Linear       │ 16.5 K │ train │\u001b[37m \u001b[0m\u001b[37m    [171552,\u001b[0m\u001b[37m \u001b[0m│\u001b[37m \u001b[0m\u001b[37m    [171552,\u001b[0m\u001b[37m \u001b[0m│\n",
       "│\u001b[2m     \u001b[0m│                                             │              │        │       │\u001b[37m \u001b[0m\u001b[37m        128]\u001b[0m\u001b[37m \u001b[0m│\u001b[37m \u001b[0m\u001b[37m        128]\u001b[0m\u001b[37m \u001b[0m│\n",
       "│\u001b[2m \u001b[0m\u001b[2m32 \u001b[0m\u001b[2m \u001b[0m│ encoder.interactions.2.conv                 │ CFConv       │  154 K │ train │\u001b[37m \u001b[0m\u001b[37m    [[10722,\u001b[0m\u001b[37m \u001b[0m│\u001b[37m \u001b[0m\u001b[37m[10722, 512]\u001b[0m\u001b[37m \u001b[0m│\n",
       "│\u001b[2m     \u001b[0m│                                             │              │        │       │\u001b[37m \u001b[0m\u001b[37m   512], [2,\u001b[0m\u001b[37m \u001b[0m│\u001b[37m              \u001b[0m│\n",
       "│\u001b[2m     \u001b[0m│                                             │              │        │       │\u001b[37m \u001b[0m\u001b[37m    171552],\u001b[0m\u001b[37m \u001b[0m│\u001b[37m              \u001b[0m│\n",
       "│\u001b[2m     \u001b[0m│                                             │              │        │       │\u001b[37m \u001b[0m\u001b[37m   [171552],\u001b[0m\u001b[37m \u001b[0m│\u001b[37m              \u001b[0m│\n",
       "│\u001b[2m     \u001b[0m│                                             │              │        │       │\u001b[37m \u001b[0m\u001b[37m    [171552,\u001b[0m\u001b[37m \u001b[0m│\u001b[37m              \u001b[0m│\n",
       "│\u001b[2m     \u001b[0m│                                             │              │        │       │\u001b[37m \u001b[0m\u001b[37m        50]]\u001b[0m\u001b[37m \u001b[0m│\u001b[37m              \u001b[0m│\n",
       "│\u001b[2m \u001b[0m\u001b[2m33 \u001b[0m\u001b[2m \u001b[0m│ encoder.interactions.2.conv.aggr_module     │ SumAggregat… │      0 │ train │\u001b[37m \u001b[0m\u001b[37m   [[171552,\u001b[0m\u001b[37m \u001b[0m│\u001b[37m \u001b[0m\u001b[37m[10722, 128]\u001b[0m\u001b[37m \u001b[0m│\n",
       "│\u001b[2m     \u001b[0m│                                             │              │        │       │\u001b[37m \u001b[0m\u001b[37m       128],\u001b[0m\u001b[37m \u001b[0m│\u001b[37m              \u001b[0m│\n",
       "│\u001b[2m     \u001b[0m│                                             │              │        │       │\u001b[37m \u001b[0m\u001b[37m   [171552],\u001b[0m\u001b[37m \u001b[0m│\u001b[37m              \u001b[0m│\n",
       "│\u001b[2m     \u001b[0m│                                             │              │        │       │\u001b[37m \u001b[0m\u001b[37m   '?', '?',\u001b[0m\u001b[37m \u001b[0m│\u001b[37m              \u001b[0m│\n",
       "│\u001b[2m     \u001b[0m│                                             │              │        │       │\u001b[37m \u001b[0m\u001b[37m        '?']\u001b[0m\u001b[37m \u001b[0m│\u001b[37m              \u001b[0m│\n",
       "│\u001b[2m \u001b[0m\u001b[2m34 \u001b[0m\u001b[2m \u001b[0m│ encoder.interactions.2.conv.lin1            │ Linear       │ 65.5 K │ train │\u001b[37m \u001b[0m\u001b[37m[10722, 512]\u001b[0m\u001b[37m \u001b[0m│\u001b[37m \u001b[0m\u001b[37m[10722, 128]\u001b[0m\u001b[37m \u001b[0m│\n",
       "│\u001b[2m \u001b[0m\u001b[2m35 \u001b[0m\u001b[2m \u001b[0m│ encoder.interactions.2.conv.lin2            │ Linear       │ 66.0 K │ train │\u001b[37m \u001b[0m\u001b[37m[10722, 128]\u001b[0m\u001b[37m \u001b[0m│\u001b[37m \u001b[0m\u001b[37m[10722, 512]\u001b[0m\u001b[37m \u001b[0m│\n",
       "│\u001b[2m \u001b[0m\u001b[2m36 \u001b[0m\u001b[2m \u001b[0m│ encoder.interactions.2.act                  │ ShiftedSoft… │      0 │ train │\u001b[37m \u001b[0m\u001b[37m[10722, 512]\u001b[0m\u001b[37m \u001b[0m│\u001b[37m \u001b[0m\u001b[37m[10722, 512]\u001b[0m\u001b[37m \u001b[0m│\n",
       "│\u001b[2m \u001b[0m\u001b[2m37 \u001b[0m\u001b[2m \u001b[0m│ encoder.interactions.2.lin                  │ Linear       │  262 K │ train │\u001b[37m \u001b[0m\u001b[37m[10722, 512]\u001b[0m\u001b[37m \u001b[0m│\u001b[37m \u001b[0m\u001b[37m[10722, 512]\u001b[0m\u001b[37m \u001b[0m│\n",
       "│\u001b[2m \u001b[0m\u001b[2m38 \u001b[0m\u001b[2m \u001b[0m│ encoder.interactions.3                      │ Interaction… │  417 K │ train │\u001b[37m \u001b[0m\u001b[37m    [[10722,\u001b[0m\u001b[37m \u001b[0m│\u001b[37m \u001b[0m\u001b[37m[10722, 512]\u001b[0m\u001b[37m \u001b[0m│\n",
       "│\u001b[2m     \u001b[0m│                                             │              │        │       │\u001b[37m \u001b[0m\u001b[37m   512], [2,\u001b[0m\u001b[37m \u001b[0m│\u001b[37m              \u001b[0m│\n",
       "│\u001b[2m     \u001b[0m│                                             │              │        │       │\u001b[37m \u001b[0m\u001b[37m    171552],\u001b[0m\u001b[37m \u001b[0m│\u001b[37m              \u001b[0m│\n",
       "│\u001b[2m     \u001b[0m│                                             │              │        │       │\u001b[37m \u001b[0m\u001b[37m   [171552],\u001b[0m\u001b[37m \u001b[0m│\u001b[37m              \u001b[0m│\n",
       "│\u001b[2m     \u001b[0m│                                             │              │        │       │\u001b[37m \u001b[0m\u001b[37m    [171552,\u001b[0m\u001b[37m \u001b[0m│\u001b[37m              \u001b[0m│\n",
       "│\u001b[2m     \u001b[0m│                                             │              │        │       │\u001b[37m \u001b[0m\u001b[37m        50]]\u001b[0m\u001b[37m \u001b[0m│\u001b[37m              \u001b[0m│\n",
       "│\u001b[2m \u001b[0m\u001b[2m39 \u001b[0m\u001b[2m \u001b[0m│ encoder.interactions.3.mlp                  │ Sequential   │ 23.0 K │ train │\u001b[37m \u001b[0m\u001b[37m[171552, 50]\u001b[0m\u001b[37m \u001b[0m│\u001b[37m \u001b[0m\u001b[37m    [171552,\u001b[0m\u001b[37m \u001b[0m│\n",
       "│\u001b[2m     \u001b[0m│                                             │              │        │       │\u001b[37m              \u001b[0m│\u001b[37m \u001b[0m\u001b[37m        128]\u001b[0m\u001b[37m \u001b[0m│\n",
       "│\u001b[2m \u001b[0m\u001b[2m40 \u001b[0m\u001b[2m \u001b[0m│ encoder.interactions.3.mlp.0                │ Linear       │  6.5 K │ train │\u001b[37m \u001b[0m\u001b[37m[171552, 50]\u001b[0m\u001b[37m \u001b[0m│\u001b[37m \u001b[0m\u001b[37m    [171552,\u001b[0m\u001b[37m \u001b[0m│\n",
       "│\u001b[2m     \u001b[0m│                                             │              │        │       │\u001b[37m              \u001b[0m│\u001b[37m \u001b[0m\u001b[37m        128]\u001b[0m\u001b[37m \u001b[0m│\n",
       "│\u001b[2m \u001b[0m\u001b[2m41 \u001b[0m\u001b[2m \u001b[0m│ encoder.interactions.3.mlp.1                │ ShiftedSoft… │      0 │ train │\u001b[37m \u001b[0m\u001b[37m    [171552,\u001b[0m\u001b[37m \u001b[0m│\u001b[37m \u001b[0m\u001b[37m    [171552,\u001b[0m\u001b[37m \u001b[0m│\n",
       "│\u001b[2m     \u001b[0m│                                             │              │        │       │\u001b[37m \u001b[0m\u001b[37m        128]\u001b[0m\u001b[37m \u001b[0m│\u001b[37m \u001b[0m\u001b[37m        128]\u001b[0m\u001b[37m \u001b[0m│\n",
       "│\u001b[2m \u001b[0m\u001b[2m42 \u001b[0m\u001b[2m \u001b[0m│ encoder.interactions.3.mlp.2                │ Linear       │ 16.5 K │ train │\u001b[37m \u001b[0m\u001b[37m    [171552,\u001b[0m\u001b[37m \u001b[0m│\u001b[37m \u001b[0m\u001b[37m    [171552,\u001b[0m\u001b[37m \u001b[0m│\n",
       "│\u001b[2m     \u001b[0m│                                             │              │        │       │\u001b[37m \u001b[0m\u001b[37m        128]\u001b[0m\u001b[37m \u001b[0m│\u001b[37m \u001b[0m\u001b[37m        128]\u001b[0m\u001b[37m \u001b[0m│\n",
       "│\u001b[2m \u001b[0m\u001b[2m43 \u001b[0m\u001b[2m \u001b[0m│ encoder.interactions.3.conv                 │ CFConv       │  154 K │ train │\u001b[37m \u001b[0m\u001b[37m    [[10722,\u001b[0m\u001b[37m \u001b[0m│\u001b[37m \u001b[0m\u001b[37m[10722, 512]\u001b[0m\u001b[37m \u001b[0m│\n",
       "│\u001b[2m     \u001b[0m│                                             │              │        │       │\u001b[37m \u001b[0m\u001b[37m   512], [2,\u001b[0m\u001b[37m \u001b[0m│\u001b[37m              \u001b[0m│\n",
       "│\u001b[2m     \u001b[0m│                                             │              │        │       │\u001b[37m \u001b[0m\u001b[37m    171552],\u001b[0m\u001b[37m \u001b[0m│\u001b[37m              \u001b[0m│\n",
       "│\u001b[2m     \u001b[0m│                                             │              │        │       │\u001b[37m \u001b[0m\u001b[37m   [171552],\u001b[0m\u001b[37m \u001b[0m│\u001b[37m              \u001b[0m│\n",
       "│\u001b[2m     \u001b[0m│                                             │              │        │       │\u001b[37m \u001b[0m\u001b[37m    [171552,\u001b[0m\u001b[37m \u001b[0m│\u001b[37m              \u001b[0m│\n",
       "│\u001b[2m     \u001b[0m│                                             │              │        │       │\u001b[37m \u001b[0m\u001b[37m        50]]\u001b[0m\u001b[37m \u001b[0m│\u001b[37m              \u001b[0m│\n",
       "│\u001b[2m \u001b[0m\u001b[2m44 \u001b[0m\u001b[2m \u001b[0m│ encoder.interactions.3.conv.aggr_module     │ SumAggregat… │      0 │ train │\u001b[37m \u001b[0m\u001b[37m   [[171552,\u001b[0m\u001b[37m \u001b[0m│\u001b[37m \u001b[0m\u001b[37m[10722, 128]\u001b[0m\u001b[37m \u001b[0m│\n",
       "│\u001b[2m     \u001b[0m│                                             │              │        │       │\u001b[37m \u001b[0m\u001b[37m       128],\u001b[0m\u001b[37m \u001b[0m│\u001b[37m              \u001b[0m│\n",
       "│\u001b[2m     \u001b[0m│                                             │              │        │       │\u001b[37m \u001b[0m\u001b[37m   [171552],\u001b[0m\u001b[37m \u001b[0m│\u001b[37m              \u001b[0m│\n",
       "│\u001b[2m     \u001b[0m│                                             │              │        │       │\u001b[37m \u001b[0m\u001b[37m   '?', '?',\u001b[0m\u001b[37m \u001b[0m│\u001b[37m              \u001b[0m│\n",
       "│\u001b[2m     \u001b[0m│                                             │              │        │       │\u001b[37m \u001b[0m\u001b[37m        '?']\u001b[0m\u001b[37m \u001b[0m│\u001b[37m              \u001b[0m│\n",
       "│\u001b[2m \u001b[0m\u001b[2m45 \u001b[0m\u001b[2m \u001b[0m│ encoder.interactions.3.conv.lin1            │ Linear       │ 65.5 K │ train │\u001b[37m \u001b[0m\u001b[37m[10722, 512]\u001b[0m\u001b[37m \u001b[0m│\u001b[37m \u001b[0m\u001b[37m[10722, 128]\u001b[0m\u001b[37m \u001b[0m│\n",
       "│\u001b[2m \u001b[0m\u001b[2m46 \u001b[0m\u001b[2m \u001b[0m│ encoder.interactions.3.conv.lin2            │ Linear       │ 66.0 K │ train │\u001b[37m \u001b[0m\u001b[37m[10722, 128]\u001b[0m\u001b[37m \u001b[0m│\u001b[37m \u001b[0m\u001b[37m[10722, 512]\u001b[0m\u001b[37m \u001b[0m│\n",
       "│\u001b[2m \u001b[0m\u001b[2m47 \u001b[0m\u001b[2m \u001b[0m│ encoder.interactions.3.act                  │ ShiftedSoft… │      0 │ train │\u001b[37m \u001b[0m\u001b[37m[10722, 512]\u001b[0m\u001b[37m \u001b[0m│\u001b[37m \u001b[0m\u001b[37m[10722, 512]\u001b[0m\u001b[37m \u001b[0m│\n",
       "│\u001b[2m \u001b[0m\u001b[2m48 \u001b[0m\u001b[2m \u001b[0m│ encoder.interactions.3.lin                  │ Linear       │  262 K │ train │\u001b[37m \u001b[0m\u001b[37m[10722, 512]\u001b[0m\u001b[37m \u001b[0m│\u001b[37m \u001b[0m\u001b[37m[10722, 512]\u001b[0m\u001b[37m \u001b[0m│\n",
       "│\u001b[2m \u001b[0m\u001b[2m49 \u001b[0m\u001b[2m \u001b[0m│ encoder.interactions.4                      │ Interaction… │  417 K │ train │\u001b[37m \u001b[0m\u001b[37m    [[10722,\u001b[0m\u001b[37m \u001b[0m│\u001b[37m \u001b[0m\u001b[37m[10722, 512]\u001b[0m\u001b[37m \u001b[0m│\n",
       "│\u001b[2m     \u001b[0m│                                             │              │        │       │\u001b[37m \u001b[0m\u001b[37m   512], [2,\u001b[0m\u001b[37m \u001b[0m│\u001b[37m              \u001b[0m│\n",
       "│\u001b[2m     \u001b[0m│                                             │              │        │       │\u001b[37m \u001b[0m\u001b[37m    171552],\u001b[0m\u001b[37m \u001b[0m│\u001b[37m              \u001b[0m│\n",
       "│\u001b[2m     \u001b[0m│                                             │              │        │       │\u001b[37m \u001b[0m\u001b[37m   [171552],\u001b[0m\u001b[37m \u001b[0m│\u001b[37m              \u001b[0m│\n",
       "│\u001b[2m     \u001b[0m│                                             │              │        │       │\u001b[37m \u001b[0m\u001b[37m    [171552,\u001b[0m\u001b[37m \u001b[0m│\u001b[37m              \u001b[0m│\n",
       "│\u001b[2m     \u001b[0m│                                             │              │        │       │\u001b[37m \u001b[0m\u001b[37m        50]]\u001b[0m\u001b[37m \u001b[0m│\u001b[37m              \u001b[0m│\n",
       "│\u001b[2m \u001b[0m\u001b[2m50 \u001b[0m\u001b[2m \u001b[0m│ encoder.interactions.4.mlp                  │ Sequential   │ 23.0 K │ train │\u001b[37m \u001b[0m\u001b[37m[171552, 50]\u001b[0m\u001b[37m \u001b[0m│\u001b[37m \u001b[0m\u001b[37m    [171552,\u001b[0m\u001b[37m \u001b[0m│\n",
       "│\u001b[2m     \u001b[0m│                                             │              │        │       │\u001b[37m              \u001b[0m│\u001b[37m \u001b[0m\u001b[37m        128]\u001b[0m\u001b[37m \u001b[0m│\n",
       "│\u001b[2m \u001b[0m\u001b[2m51 \u001b[0m\u001b[2m \u001b[0m│ encoder.interactions.4.mlp.0                │ Linear       │  6.5 K │ train │\u001b[37m \u001b[0m\u001b[37m[171552, 50]\u001b[0m\u001b[37m \u001b[0m│\u001b[37m \u001b[0m\u001b[37m    [171552,\u001b[0m\u001b[37m \u001b[0m│\n",
       "│\u001b[2m     \u001b[0m│                                             │              │        │       │\u001b[37m              \u001b[0m│\u001b[37m \u001b[0m\u001b[37m        128]\u001b[0m\u001b[37m \u001b[0m│\n",
       "│\u001b[2m \u001b[0m\u001b[2m52 \u001b[0m\u001b[2m \u001b[0m│ encoder.interactions.4.mlp.1                │ ShiftedSoft… │      0 │ train │\u001b[37m \u001b[0m\u001b[37m    [171552,\u001b[0m\u001b[37m \u001b[0m│\u001b[37m \u001b[0m\u001b[37m    [171552,\u001b[0m\u001b[37m \u001b[0m│\n",
       "│\u001b[2m     \u001b[0m│                                             │              │        │       │\u001b[37m \u001b[0m\u001b[37m        128]\u001b[0m\u001b[37m \u001b[0m│\u001b[37m \u001b[0m\u001b[37m        128]\u001b[0m\u001b[37m \u001b[0m│\n",
       "│\u001b[2m \u001b[0m\u001b[2m53 \u001b[0m\u001b[2m \u001b[0m│ encoder.interactions.4.mlp.2                │ Linear       │ 16.5 K │ train │\u001b[37m \u001b[0m\u001b[37m    [171552,\u001b[0m\u001b[37m \u001b[0m│\u001b[37m \u001b[0m\u001b[37m    [171552,\u001b[0m\u001b[37m \u001b[0m│\n",
       "│\u001b[2m     \u001b[0m│                                             │              │        │       │\u001b[37m \u001b[0m\u001b[37m        128]\u001b[0m\u001b[37m \u001b[0m│\u001b[37m \u001b[0m\u001b[37m        128]\u001b[0m\u001b[37m \u001b[0m│\n",
       "│\u001b[2m \u001b[0m\u001b[2m54 \u001b[0m\u001b[2m \u001b[0m│ encoder.interactions.4.conv                 │ CFConv       │  154 K │ train │\u001b[37m \u001b[0m\u001b[37m    [[10722,\u001b[0m\u001b[37m \u001b[0m│\u001b[37m \u001b[0m\u001b[37m[10722, 512]\u001b[0m\u001b[37m \u001b[0m│\n",
       "│\u001b[2m     \u001b[0m│                                             │              │        │       │\u001b[37m \u001b[0m\u001b[37m   512], [2,\u001b[0m\u001b[37m \u001b[0m│\u001b[37m              \u001b[0m│\n",
       "│\u001b[2m     \u001b[0m│                                             │              │        │       │\u001b[37m \u001b[0m\u001b[37m    171552],\u001b[0m\u001b[37m \u001b[0m│\u001b[37m              \u001b[0m│\n",
       "│\u001b[2m     \u001b[0m│                                             │              │        │       │\u001b[37m \u001b[0m\u001b[37m   [171552],\u001b[0m\u001b[37m \u001b[0m│\u001b[37m              \u001b[0m│\n",
       "│\u001b[2m     \u001b[0m│                                             │              │        │       │\u001b[37m \u001b[0m\u001b[37m    [171552,\u001b[0m\u001b[37m \u001b[0m│\u001b[37m              \u001b[0m│\n",
       "│\u001b[2m     \u001b[0m│                                             │              │        │       │\u001b[37m \u001b[0m\u001b[37m        50]]\u001b[0m\u001b[37m \u001b[0m│\u001b[37m              \u001b[0m│\n",
       "│\u001b[2m \u001b[0m\u001b[2m55 \u001b[0m\u001b[2m \u001b[0m│ encoder.interactions.4.conv.aggr_module     │ SumAggregat… │      0 │ train │\u001b[37m \u001b[0m\u001b[37m   [[171552,\u001b[0m\u001b[37m \u001b[0m│\u001b[37m \u001b[0m\u001b[37m[10722, 128]\u001b[0m\u001b[37m \u001b[0m│\n",
       "│\u001b[2m     \u001b[0m│                                             │              │        │       │\u001b[37m \u001b[0m\u001b[37m       128],\u001b[0m\u001b[37m \u001b[0m│\u001b[37m              \u001b[0m│\n",
       "│\u001b[2m     \u001b[0m│                                             │              │        │       │\u001b[37m \u001b[0m\u001b[37m   [171552],\u001b[0m\u001b[37m \u001b[0m│\u001b[37m              \u001b[0m│\n",
       "│\u001b[2m     \u001b[0m│                                             │              │        │       │\u001b[37m \u001b[0m\u001b[37m   '?', '?',\u001b[0m\u001b[37m \u001b[0m│\u001b[37m              \u001b[0m│\n",
       "│\u001b[2m     \u001b[0m│                                             │              │        │       │\u001b[37m \u001b[0m\u001b[37m        '?']\u001b[0m\u001b[37m \u001b[0m│\u001b[37m              \u001b[0m│\n",
       "│\u001b[2m \u001b[0m\u001b[2m56 \u001b[0m\u001b[2m \u001b[0m│ encoder.interactions.4.conv.lin1            │ Linear       │ 65.5 K │ train │\u001b[37m \u001b[0m\u001b[37m[10722, 512]\u001b[0m\u001b[37m \u001b[0m│\u001b[37m \u001b[0m\u001b[37m[10722, 128]\u001b[0m\u001b[37m \u001b[0m│\n",
       "│\u001b[2m \u001b[0m\u001b[2m57 \u001b[0m\u001b[2m \u001b[0m│ encoder.interactions.4.conv.lin2            │ Linear       │ 66.0 K │ train │\u001b[37m \u001b[0m\u001b[37m[10722, 128]\u001b[0m\u001b[37m \u001b[0m│\u001b[37m \u001b[0m\u001b[37m[10722, 512]\u001b[0m\u001b[37m \u001b[0m│\n",
       "│\u001b[2m \u001b[0m\u001b[2m58 \u001b[0m\u001b[2m \u001b[0m│ encoder.interactions.4.act                  │ ShiftedSoft… │      0 │ train │\u001b[37m \u001b[0m\u001b[37m[10722, 512]\u001b[0m\u001b[37m \u001b[0m│\u001b[37m \u001b[0m\u001b[37m[10722, 512]\u001b[0m\u001b[37m \u001b[0m│\n",
       "│\u001b[2m \u001b[0m\u001b[2m59 \u001b[0m\u001b[2m \u001b[0m│ encoder.interactions.4.lin                  │ Linear       │  262 K │ train │\u001b[37m \u001b[0m\u001b[37m[10722, 512]\u001b[0m\u001b[37m \u001b[0m│\u001b[37m \u001b[0m\u001b[37m[10722, 512]\u001b[0m\u001b[37m \u001b[0m│\n",
       "│\u001b[2m \u001b[0m\u001b[2m60 \u001b[0m\u001b[2m \u001b[0m│ encoder.interactions.5                      │ Interaction… │  417 K │ train │\u001b[37m \u001b[0m\u001b[37m    [[10722,\u001b[0m\u001b[37m \u001b[0m│\u001b[37m \u001b[0m\u001b[37m[10722, 512]\u001b[0m\u001b[37m \u001b[0m│\n",
       "│\u001b[2m     \u001b[0m│                                             │              │        │       │\u001b[37m \u001b[0m\u001b[37m   512], [2,\u001b[0m\u001b[37m \u001b[0m│\u001b[37m              \u001b[0m│\n",
       "│\u001b[2m     \u001b[0m│                                             │              │        │       │\u001b[37m \u001b[0m\u001b[37m    171552],\u001b[0m\u001b[37m \u001b[0m│\u001b[37m              \u001b[0m│\n",
       "│\u001b[2m     \u001b[0m│                                             │              │        │       │\u001b[37m \u001b[0m\u001b[37m   [171552],\u001b[0m\u001b[37m \u001b[0m│\u001b[37m              \u001b[0m│\n",
       "│\u001b[2m     \u001b[0m│                                             │              │        │       │\u001b[37m \u001b[0m\u001b[37m    [171552,\u001b[0m\u001b[37m \u001b[0m│\u001b[37m              \u001b[0m│\n",
       "│\u001b[2m     \u001b[0m│                                             │              │        │       │\u001b[37m \u001b[0m\u001b[37m        50]]\u001b[0m\u001b[37m \u001b[0m│\u001b[37m              \u001b[0m│\n",
       "│\u001b[2m \u001b[0m\u001b[2m61 \u001b[0m\u001b[2m \u001b[0m│ encoder.interactions.5.mlp                  │ Sequential   │ 23.0 K │ train │\u001b[37m \u001b[0m\u001b[37m[171552, 50]\u001b[0m\u001b[37m \u001b[0m│\u001b[37m \u001b[0m\u001b[37m    [171552,\u001b[0m\u001b[37m \u001b[0m│\n",
       "│\u001b[2m     \u001b[0m│                                             │              │        │       │\u001b[37m              \u001b[0m│\u001b[37m \u001b[0m\u001b[37m        128]\u001b[0m\u001b[37m \u001b[0m│\n",
       "│\u001b[2m \u001b[0m\u001b[2m62 \u001b[0m\u001b[2m \u001b[0m│ encoder.interactions.5.mlp.0                │ Linear       │  6.5 K │ train │\u001b[37m \u001b[0m\u001b[37m[171552, 50]\u001b[0m\u001b[37m \u001b[0m│\u001b[37m \u001b[0m\u001b[37m    [171552,\u001b[0m\u001b[37m \u001b[0m│\n",
       "│\u001b[2m     \u001b[0m│                                             │              │        │       │\u001b[37m              \u001b[0m│\u001b[37m \u001b[0m\u001b[37m        128]\u001b[0m\u001b[37m \u001b[0m│\n",
       "│\u001b[2m \u001b[0m\u001b[2m63 \u001b[0m\u001b[2m \u001b[0m│ encoder.interactions.5.mlp.1                │ ShiftedSoft… │      0 │ train │\u001b[37m \u001b[0m\u001b[37m    [171552,\u001b[0m\u001b[37m \u001b[0m│\u001b[37m \u001b[0m\u001b[37m    [171552,\u001b[0m\u001b[37m \u001b[0m│\n",
       "│\u001b[2m     \u001b[0m│                                             │              │        │       │\u001b[37m \u001b[0m\u001b[37m        128]\u001b[0m\u001b[37m \u001b[0m│\u001b[37m \u001b[0m\u001b[37m        128]\u001b[0m\u001b[37m \u001b[0m│\n",
       "│\u001b[2m \u001b[0m\u001b[2m64 \u001b[0m\u001b[2m \u001b[0m│ encoder.interactions.5.mlp.2                │ Linear       │ 16.5 K │ train │\u001b[37m \u001b[0m\u001b[37m    [171552,\u001b[0m\u001b[37m \u001b[0m│\u001b[37m \u001b[0m\u001b[37m    [171552,\u001b[0m\u001b[37m \u001b[0m│\n",
       "│\u001b[2m     \u001b[0m│                                             │              │        │       │\u001b[37m \u001b[0m\u001b[37m        128]\u001b[0m\u001b[37m \u001b[0m│\u001b[37m \u001b[0m\u001b[37m        128]\u001b[0m\u001b[37m \u001b[0m│\n",
       "│\u001b[2m \u001b[0m\u001b[2m65 \u001b[0m\u001b[2m \u001b[0m│ encoder.interactions.5.conv                 │ CFConv       │  154 K │ train │\u001b[37m \u001b[0m\u001b[37m    [[10722,\u001b[0m\u001b[37m \u001b[0m│\u001b[37m \u001b[0m\u001b[37m[10722, 512]\u001b[0m\u001b[37m \u001b[0m│\n",
       "│\u001b[2m     \u001b[0m│                                             │              │        │       │\u001b[37m \u001b[0m\u001b[37m   512], [2,\u001b[0m\u001b[37m \u001b[0m│\u001b[37m              \u001b[0m│\n",
       "│\u001b[2m     \u001b[0m│                                             │              │        │       │\u001b[37m \u001b[0m\u001b[37m    171552],\u001b[0m\u001b[37m \u001b[0m│\u001b[37m              \u001b[0m│\n",
       "│\u001b[2m     \u001b[0m│                                             │              │        │       │\u001b[37m \u001b[0m\u001b[37m   [171552],\u001b[0m\u001b[37m \u001b[0m│\u001b[37m              \u001b[0m│\n",
       "│\u001b[2m     \u001b[0m│                                             │              │        │       │\u001b[37m \u001b[0m\u001b[37m    [171552,\u001b[0m\u001b[37m \u001b[0m│\u001b[37m              \u001b[0m│\n",
       "│\u001b[2m     \u001b[0m│                                             │              │        │       │\u001b[37m \u001b[0m\u001b[37m        50]]\u001b[0m\u001b[37m \u001b[0m│\u001b[37m              \u001b[0m│\n",
       "│\u001b[2m \u001b[0m\u001b[2m66 \u001b[0m\u001b[2m \u001b[0m│ encoder.interactions.5.conv.aggr_module     │ SumAggregat… │      0 │ train │\u001b[37m \u001b[0m\u001b[37m   [[171552,\u001b[0m\u001b[37m \u001b[0m│\u001b[37m \u001b[0m\u001b[37m[10722, 128]\u001b[0m\u001b[37m \u001b[0m│\n",
       "│\u001b[2m     \u001b[0m│                                             │              │        │       │\u001b[37m \u001b[0m\u001b[37m       128],\u001b[0m\u001b[37m \u001b[0m│\u001b[37m              \u001b[0m│\n",
       "│\u001b[2m     \u001b[0m│                                             │              │        │       │\u001b[37m \u001b[0m\u001b[37m   [171552],\u001b[0m\u001b[37m \u001b[0m│\u001b[37m              \u001b[0m│\n",
       "│\u001b[2m     \u001b[0m│                                             │              │        │       │\u001b[37m \u001b[0m\u001b[37m   '?', '?',\u001b[0m\u001b[37m \u001b[0m│\u001b[37m              \u001b[0m│\n",
       "│\u001b[2m     \u001b[0m│                                             │              │        │       │\u001b[37m \u001b[0m\u001b[37m        '?']\u001b[0m\u001b[37m \u001b[0m│\u001b[37m              \u001b[0m│\n",
       "│\u001b[2m \u001b[0m\u001b[2m67 \u001b[0m\u001b[2m \u001b[0m│ encoder.interactions.5.conv.lin1            │ Linear       │ 65.5 K │ train │\u001b[37m \u001b[0m\u001b[37m[10722, 512]\u001b[0m\u001b[37m \u001b[0m│\u001b[37m \u001b[0m\u001b[37m[10722, 128]\u001b[0m\u001b[37m \u001b[0m│\n",
       "│\u001b[2m \u001b[0m\u001b[2m68 \u001b[0m\u001b[2m \u001b[0m│ encoder.interactions.5.conv.lin2            │ Linear       │ 66.0 K │ train │\u001b[37m \u001b[0m\u001b[37m[10722, 128]\u001b[0m\u001b[37m \u001b[0m│\u001b[37m \u001b[0m\u001b[37m[10722, 512]\u001b[0m\u001b[37m \u001b[0m│\n",
       "│\u001b[2m \u001b[0m\u001b[2m69 \u001b[0m\u001b[2m \u001b[0m│ encoder.interactions.5.act                  │ ShiftedSoft… │      0 │ train │\u001b[37m \u001b[0m\u001b[37m[10722, 512]\u001b[0m\u001b[37m \u001b[0m│\u001b[37m \u001b[0m\u001b[37m[10722, 512]\u001b[0m\u001b[37m \u001b[0m│\n",
       "│\u001b[2m \u001b[0m\u001b[2m70 \u001b[0m\u001b[2m \u001b[0m│ encoder.interactions.5.lin                  │ Linear       │  262 K │ train │\u001b[37m \u001b[0m\u001b[37m[10722, 512]\u001b[0m\u001b[37m \u001b[0m│\u001b[37m \u001b[0m\u001b[37m[10722, 512]\u001b[0m\u001b[37m \u001b[0m│\n",
       "│\u001b[2m \u001b[0m\u001b[2m71 \u001b[0m\u001b[2m \u001b[0m│ encoder.lin1                                │ Linear       │  131 K │ train │\u001b[37m \u001b[0m\u001b[37m[10722, 512]\u001b[0m\u001b[37m \u001b[0m│\u001b[37m \u001b[0m\u001b[37m[10722, 256]\u001b[0m\u001b[37m \u001b[0m│\n",
       "│\u001b[2m \u001b[0m\u001b[2m72 \u001b[0m\u001b[2m \u001b[0m│ encoder.act                                 │ ShiftedSoft… │      0 │ train │\u001b[37m \u001b[0m\u001b[37m[10722, 256]\u001b[0m\u001b[37m \u001b[0m│\u001b[37m \u001b[0m\u001b[37m[10722, 256]\u001b[0m\u001b[37m \u001b[0m│\n",
       "│\u001b[2m \u001b[0m\u001b[2m73 \u001b[0m\u001b[2m \u001b[0m│ encoder.lin2                                │ Linear       │  8.2 K │ train │\u001b[37m \u001b[0m\u001b[37m[10722, 256]\u001b[0m\u001b[37m \u001b[0m│\u001b[37m \u001b[0m\u001b[37m [10722, 32]\u001b[0m\u001b[37m \u001b[0m│\n",
       "│\u001b[2m \u001b[0m\u001b[2m74 \u001b[0m\u001b[2m \u001b[0m│ decoder                                     │ ModuleDict   │  2.7 M │ train │\u001b[37m \u001b[0m\u001b[37m           ?\u001b[0m\u001b[37m \u001b[0m│\u001b[37m \u001b[0m\u001b[37m           ?\u001b[0m\u001b[37m \u001b[0m│\n",
       "│\u001b[2m \u001b[0m\u001b[2m75 \u001b[0m\u001b[2m \u001b[0m│ decoder.graph_label                         │ MLPDecoder   │  2.7 M │ train │\u001b[37m \u001b[0m\u001b[37m    [32, 32]\u001b[0m\u001b[37m \u001b[0m│\u001b[37m \u001b[0m\u001b[37m  [32, 1195]\u001b[0m\u001b[37m \u001b[0m│\n",
       "│\u001b[2m \u001b[0m\u001b[2m76 \u001b[0m\u001b[2m \u001b[0m│ decoder.graph_label.layers                  │ LinearSkipB… │  2.7 M │ train │\u001b[37m \u001b[0m\u001b[37m    [32, 32]\u001b[0m\u001b[37m \u001b[0m│\u001b[37m \u001b[0m\u001b[37m  [32, 1195]\u001b[0m\u001b[37m \u001b[0m│\n",
       "│\u001b[2m \u001b[0m\u001b[2m77 \u001b[0m\u001b[2m \u001b[0m│ decoder.graph_label.layers.layers           │ ModuleList   │  2.7 M │ train │\u001b[37m \u001b[0m\u001b[37m           ?\u001b[0m\u001b[37m \u001b[0m│\u001b[37m \u001b[0m\u001b[37m           ?\u001b[0m\u001b[37m \u001b[0m│\n",
       "│\u001b[2m \u001b[0m\u001b[2m78 \u001b[0m\u001b[2m \u001b[0m│ decoder.graph_label.layers.layers.0         │ Linear       │ 16.9 K │ train │\u001b[37m \u001b[0m\u001b[37m    [32, 32]\u001b[0m\u001b[37m \u001b[0m│\u001b[37m \u001b[0m\u001b[37m   [32, 512]\u001b[0m\u001b[37m \u001b[0m│\n",
       "│\u001b[2m \u001b[0m\u001b[2m79 \u001b[0m\u001b[2m \u001b[0m│ decoder.graph_label.layers.layers.1         │ Linear       │  279 K │ train │\u001b[37m \u001b[0m\u001b[37m   [32, 544]\u001b[0m\u001b[37m \u001b[0m│\u001b[37m \u001b[0m\u001b[37m   [32, 512]\u001b[0m\u001b[37m \u001b[0m│\n",
       "│\u001b[2m \u001b[0m\u001b[2m80 \u001b[0m\u001b[2m \u001b[0m│ decoder.graph_label.layers.layers.2         │ Linear       │  541 K │ train │\u001b[37m \u001b[0m\u001b[37m  [32, 1056]\u001b[0m\u001b[37m \u001b[0m│\u001b[37m \u001b[0m\u001b[37m   [32, 512]\u001b[0m\u001b[37m \u001b[0m│\n",
       "│\u001b[2m \u001b[0m\u001b[2m81 \u001b[0m\u001b[2m \u001b[0m│ decoder.graph_label.layers.layers.3         │ Linear       │  1.9 M │ train │\u001b[37m \u001b[0m\u001b[37m  [32, 1568]\u001b[0m\u001b[37m \u001b[0m│\u001b[37m \u001b[0m\u001b[37m  [32, 1195]\u001b[0m\u001b[37m \u001b[0m│\n",
       "│\u001b[2m \u001b[0m\u001b[2m82 \u001b[0m\u001b[2m \u001b[0m│ decoder.graph_label.layers.activations      │ ModuleList   │      0 │ train │\u001b[37m \u001b[0m\u001b[37m           ?\u001b[0m\u001b[37m \u001b[0m│\u001b[37m \u001b[0m\u001b[37m           ?\u001b[0m\u001b[37m \u001b[0m│\n",
       "│\u001b[2m \u001b[0m\u001b[2m83 \u001b[0m\u001b[2m \u001b[0m│ decoder.graph_label.layers.activations.0    │ ReLU         │      0 │ train │\u001b[37m \u001b[0m\u001b[37m   [32, 512]\u001b[0m\u001b[37m \u001b[0m│\u001b[37m \u001b[0m\u001b[37m   [32, 512]\u001b[0m\u001b[37m \u001b[0m│\n",
       "│\u001b[2m \u001b[0m\u001b[2m84 \u001b[0m\u001b[2m \u001b[0m│ decoder.graph_label.layers.activations.1    │ ReLU         │      0 │ train │\u001b[37m \u001b[0m\u001b[37m   [32, 512]\u001b[0m\u001b[37m \u001b[0m│\u001b[37m \u001b[0m\u001b[37m   [32, 512]\u001b[0m\u001b[37m \u001b[0m│\n",
       "│\u001b[2m \u001b[0m\u001b[2m85 \u001b[0m\u001b[2m \u001b[0m│ decoder.graph_label.layers.activations.2    │ ReLU         │      0 │ train │\u001b[37m \u001b[0m\u001b[37m   [32, 512]\u001b[0m\u001b[37m \u001b[0m│\u001b[37m \u001b[0m\u001b[37m   [32, 512]\u001b[0m\u001b[37m \u001b[0m│\n",
       "│\u001b[2m \u001b[0m\u001b[2m86 \u001b[0m\u001b[2m \u001b[0m│ decoder.graph_label.layers.activations.3    │ Identity     │      0 │ train │\u001b[37m \u001b[0m\u001b[37m  [32, 1195]\u001b[0m\u001b[37m \u001b[0m│\u001b[37m \u001b[0m\u001b[37m  [32, 1195]\u001b[0m\u001b[37m \u001b[0m│\n",
       "│\u001b[2m \u001b[0m\u001b[2m87 \u001b[0m\u001b[2m \u001b[0m│ decoder.graph_label.layers.dropout_layers   │ ModuleList   │      0 │ train │\u001b[37m \u001b[0m\u001b[37m           ?\u001b[0m\u001b[37m \u001b[0m│\u001b[37m \u001b[0m\u001b[37m           ?\u001b[0m\u001b[37m \u001b[0m│\n",
       "│\u001b[2m \u001b[0m\u001b[2m88 \u001b[0m\u001b[2m \u001b[0m│ decoder.graph_label.layers.dropout_layers.0 │ Dropout      │      0 │ train │\u001b[37m \u001b[0m\u001b[37m   [32, 512]\u001b[0m\u001b[37m \u001b[0m│\u001b[37m \u001b[0m\u001b[37m   [32, 512]\u001b[0m\u001b[37m \u001b[0m│\n",
       "│\u001b[2m \u001b[0m\u001b[2m89 \u001b[0m\u001b[2m \u001b[0m│ decoder.graph_label.layers.dropout_layers.1 │ Dropout      │      0 │ train │\u001b[37m \u001b[0m\u001b[37m   [32, 512]\u001b[0m\u001b[37m \u001b[0m│\u001b[37m \u001b[0m\u001b[37m   [32, 512]\u001b[0m\u001b[37m \u001b[0m│\n",
       "│\u001b[2m \u001b[0m\u001b[2m90 \u001b[0m\u001b[2m \u001b[0m│ decoder.graph_label.layers.dropout_layers.2 │ Dropout      │      0 │ train │\u001b[37m \u001b[0m\u001b[37m   [32, 512]\u001b[0m\u001b[37m \u001b[0m│\u001b[37m \u001b[0m\u001b[37m   [32, 512]\u001b[0m\u001b[37m \u001b[0m│\n",
       "│\u001b[2m \u001b[0m\u001b[2m91 \u001b[0m\u001b[2m \u001b[0m│ train_graph_label_accuracy                  │ MulticlassA… │      0 │ train │\u001b[37m \u001b[0m\u001b[37m           ?\u001b[0m\u001b[37m \u001b[0m│\u001b[37m \u001b[0m\u001b[37m           ?\u001b[0m\u001b[37m \u001b[0m│\n",
       "│\u001b[2m \u001b[0m\u001b[2m92 \u001b[0m\u001b[2m \u001b[0m│ test_graph_label_accuracy                   │ MulticlassA… │      0 │ train │\u001b[37m \u001b[0m\u001b[37m           ?\u001b[0m\u001b[37m \u001b[0m│\u001b[37m \u001b[0m\u001b[37m           ?\u001b[0m\u001b[37m \u001b[0m│\n",
       "│\u001b[2m \u001b[0m\u001b[2m93 \u001b[0m\u001b[2m \u001b[0m│ val_graph_label_accuracy                    │ MulticlassA… │      0 │ train │\u001b[37m \u001b[0m\u001b[37m           ?\u001b[0m\u001b[37m \u001b[0m│\u001b[37m \u001b[0m\u001b[37m           ?\u001b[0m\u001b[37m \u001b[0m│\n",
       "│\u001b[2m \u001b[0m\u001b[2m94 \u001b[0m\u001b[2m \u001b[0m│ train_graph_label_f1_score                  │ MulticlassF… │      0 │ train │\u001b[37m \u001b[0m\u001b[37m           ?\u001b[0m\u001b[37m \u001b[0m│\u001b[37m \u001b[0m\u001b[37m           ?\u001b[0m\u001b[37m \u001b[0m│\n",
       "│\u001b[2m \u001b[0m\u001b[2m95 \u001b[0m\u001b[2m \u001b[0m│ test_graph_label_f1_score                   │ MulticlassF… │      0 │ train │\u001b[37m \u001b[0m\u001b[37m           ?\u001b[0m\u001b[37m \u001b[0m│\u001b[37m \u001b[0m\u001b[37m           ?\u001b[0m\u001b[37m \u001b[0m│\n",
       "│\u001b[2m \u001b[0m\u001b[2m96 \u001b[0m\u001b[2m \u001b[0m│ val_graph_label_f1_score                    │ MulticlassF… │      0 │ train │\u001b[37m \u001b[0m\u001b[37m           ?\u001b[0m\u001b[37m \u001b[0m│\u001b[37m \u001b[0m\u001b[37m           ?\u001b[0m\u001b[37m \u001b[0m│\n",
       "│\u001b[2m \u001b[0m\u001b[2m97 \u001b[0m\u001b[2m \u001b[0m│ train_graph_label_f1_max                    │ F1Max        │      0 │ train │\u001b[37m \u001b[0m\u001b[37m           ?\u001b[0m\u001b[37m \u001b[0m│\u001b[37m \u001b[0m\u001b[37m           ?\u001b[0m\u001b[37m \u001b[0m│\n",
       "│\u001b[2m \u001b[0m\u001b[2m98 \u001b[0m\u001b[2m \u001b[0m│ test_graph_label_f1_max                     │ F1Max        │      0 │ train │\u001b[37m \u001b[0m\u001b[37m           ?\u001b[0m\u001b[37m \u001b[0m│\u001b[37m \u001b[0m\u001b[37m           ?\u001b[0m\u001b[37m \u001b[0m│\n",
       "│\u001b[2m \u001b[0m\u001b[2m99 \u001b[0m\u001b[2m \u001b[0m│ val_graph_label_f1_max                      │ F1Max        │      0 │ train │\u001b[37m \u001b[0m\u001b[37m           ?\u001b[0m\u001b[37m \u001b[0m│\u001b[37m \u001b[0m\u001b[37m           ?\u001b[0m\u001b[37m \u001b[0m│\n",
       "│\u001b[2m \u001b[0m\u001b[2m100\u001b[0m\u001b[2m \u001b[0m│ featuriser                                  │ ProteinFeat… │      0 │ train │\u001b[37m \u001b[0m\u001b[37m           ?\u001b[0m\u001b[37m \u001b[0m│\u001b[37m \u001b[0m\u001b[37m           ?\u001b[0m\u001b[37m \u001b[0m│\n",
       "│\u001b[2m \u001b[0m\u001b[2m101\u001b[0m\u001b[2m \u001b[0m│ featuriser.positional_encoding              │ PositionalE… │      0 │ train │\u001b[37m \u001b[0m\u001b[37m  [10722, 1]\u001b[0m\u001b[37m \u001b[0m│\u001b[37m \u001b[0m\u001b[37m [10722, 16]\u001b[0m\u001b[37m \u001b[0m│\n",
       "└─────┴─────────────────────────────────────────────┴──────────────┴────────┴───────┴──────────────┴──────────────┘\n"
      ]
     },
     "metadata": {},
     "output_type": "display_data"
    },
    {
     "data": {
      "text/html": [
       "<pre style=\"white-space:pre;overflow-x:auto;line-height:normal;font-family:Menlo,'DejaVu Sans Mono',consolas,'Courier New',monospace\"><span style=\"font-weight: bold\">Trainable params</span>: 5.4 M                                                                                            \n",
       "<span style=\"font-weight: bold\">Non-trainable params</span>: 0                                                                                            \n",
       "<span style=\"font-weight: bold\">Total params</span>: 5.4 M                                                                                                \n",
       "<span style=\"font-weight: bold\">Total estimated model params size (MB)</span>: 21                                                                         \n",
       "</pre>\n"
      ],
      "text/plain": [
       "\u001b[1mTrainable params\u001b[0m: 5.4 M                                                                                            \n",
       "\u001b[1mNon-trainable params\u001b[0m: 0                                                                                            \n",
       "\u001b[1mTotal params\u001b[0m: 5.4 M                                                                                                \n",
       "\u001b[1mTotal estimated model params size (MB)\u001b[0m: 21                                                                         \n"
      ]
     },
     "metadata": {},
     "output_type": "display_data"
    },
    {
     "data": {
      "application/vnd.jupyter.widget-view+json": {
       "model_id": "bca12858c1854edfbc56b7b25bf63c32",
       "version_major": 2,
       "version_minor": 0
      },
      "text/plain": [
       "Output()"
      ]
     },
     "metadata": {},
     "output_type": "display_data"
    },
    {
     "data": {
      "text/html": [
       "<pre style=\"white-space:pre;overflow-x:auto;line-height:normal;font-family:Menlo,'DejaVu Sans Mono',consolas,'Courier New',monospace\">/home/zhang/miniconda3/envs/3d/lib/python3.10/site-packages/lightning/pytorch/utilities/data.py:78: UserWarning:\n",
       "\n",
       "Trying to infer the `batch_size` from an ambiguous collection. The batch size we found is 7747. To avoid any \n",
       "miscalculations, use `self.log(..., batch_size=batch_size)`.\n",
       "\n",
       "</pre>\n"
      ],
      "text/plain": [
       "/home/zhang/miniconda3/envs/3d/lib/python3.10/site-packages/lightning/pytorch/utilities/data.py:78: UserWarning:\n",
       "\n",
       "Trying to infer the `batch_size` from an ambiguous collection. The batch size we found is 7747. To avoid any \n",
       "miscalculations, use `self.log(..., batch_size=batch_size)`.\n",
       "\n"
      ]
     },
     "metadata": {},
     "output_type": "display_data"
    },
    {
     "data": {
      "text/html": [
       "<pre style=\"white-space:pre;overflow-x:auto;line-height:normal;font-family:Menlo,'DejaVu Sans Mono',consolas,'Courier New',monospace\">/home/zhang/miniconda3/envs/3d/lib/python3.10/site-packages/lightning/pytorch/utilities/data.py:78: UserWarning:\n",
       "\n",
       "Trying to infer the `batch_size` from an ambiguous collection. The batch size we found is 3294. To avoid any \n",
       "miscalculations, use `self.log(..., batch_size=batch_size)`.\n",
       "\n",
       "</pre>\n"
      ],
      "text/plain": [
       "/home/zhang/miniconda3/envs/3d/lib/python3.10/site-packages/lightning/pytorch/utilities/data.py:78: UserWarning:\n",
       "\n",
       "Trying to infer the `batch_size` from an ambiguous collection. The batch size we found is 3294. To avoid any \n",
       "miscalculations, use `self.log(..., batch_size=batch_size)`.\n",
       "\n"
      ]
     },
     "metadata": {},
     "output_type": "display_data"
    }
   ],
   "source": [
    "from proteinworkshop.finetune import train_model\n",
    "\n",
    "train_model(cfg)"
   ]
  },
  {
   "cell_type": "markdown",
   "metadata": {},
   "source": [
    "### 4. Wrapping up\n",
    "\n",
    "Have any additional questions about using the components provided in the `ProteinWorkshop`? [Create a new issue](https://github.com/a-r-j/ProteinWorkshop/issues/new/choose) on our [GitHub repository](https://github.com/a-r-j/ProteinWorkshop). We would be happy to work with you to leverage the full power of the repository!"
   ]
  },
  {
   "cell_type": "markdown",
   "metadata": {},
   "source": [
    "/home/yang/anaconda3/envs/3d/lib/python3.10/site-packages/lightning/pytorch/utilities/data.py"
   ]
  }
 ],
 "metadata": {
  "kernelspec": {
   "display_name": "Python 3",
   "language": "python",
   "name": "python3"
  },
  "language_info": {
   "codemirror_mode": {
    "name": "ipython",
    "version": 3
   },
   "file_extension": ".py",
   "mimetype": "text/x-python",
   "name": "python",
   "nbconvert_exporter": "python",
   "pygments_lexer": "ipython3",
   "version": "3.10.14"
  },
  "orig_nbformat": 4
 },
 "nbformat": 4,
 "nbformat_minor": 2
}
