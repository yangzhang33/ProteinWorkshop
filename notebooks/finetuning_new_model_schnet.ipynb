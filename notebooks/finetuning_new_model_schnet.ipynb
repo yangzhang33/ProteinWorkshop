{
 "cells": [
  {
   "cell_type": "markdown",
   "metadata": {},
   "source": [
    "# `ProteinWorkshop` Tutorial, Part 1 - Training a New Model\n",
    "![Models](../docs/source/_static/box_models.png)"
   ]
  },
  {
   "cell_type": "markdown",
   "metadata": {},
   "source": [
    "## Train a new model using the `ProteinWorkshop`"
   ]
  },
  {
   "cell_type": "code",
   "execution_count": 1,
   "metadata": {},
   "outputs": [],
   "source": [
    "%load_ext autoreload\n",
    "%autoreload 2\n",
    "# %load_ext blackcellmagic"
   ]
  },
  {
   "cell_type": "markdown",
   "metadata": {},
   "source": [
    "Welcome to the tutorial series for the `ProteinWorkshop`! \n",
    "\n",
    "In the `ProteinWorkshop`, we implement numerous [featurisation](https://www.proteins.sh/configs/features) schemes, [datasets](https://www.proteins.sh/configs/dataset) for [self-supervised pre-training](https://proteins.sh/quickstart_component/pretrain.html) and [downstream evaluation](https://proteins.sh/quickstart_component/downstream.html), [pre-training](https://proteins.sh/configs/task) tasks, and [auxiliary tasks](https://proteins.sh/configs/task.html#auxiliary-tasks).\n",
    "\n",
    "[Processed datasets](https://drive.google.com/drive/folders/18i8rLST6ZICTBu6Q67ClT0KqN9AHeqoW?usp=sharing) and [pre-trained weights](https://drive.google.com/drive/folders/1zK1r8FpmGaqV_QwUJuvDacwSL0RW-Vw9?usp=sharing) are made available. Downloading datasets is not required; upon first run all datasets will be downloaded and processed from their respective source.\n",
    "\n",
    "The `ProteinWorkshop` encompasses several models as well as pre-trained weights for them so that you can readily use them.\n",
    "\n",
    "In this tutorial, we show you how you can use what is already available in the protein workshop to train and use models for specific tasks. The `ProteinWorkshop` is structured as a very modular package; we will therefore talk about how to change the different parts of it, like the model, training task, dataset, featurization scheme, etc. in this tutorial. \n",
    "\n",
    "Besides using all the different options we provide, you can make use of the modular nature of the `ProteinWorkshop` to add your own models, datasets, featurization schemes, and training tasks. We will show you how to do this in the next tutorials."
   ]
  },
  {
   "cell_type": "markdown",
   "metadata": {},
   "source": [
    "To train a new model, you can follow the following 3-step procedure:\n",
    "\n",
    "1. Choose the parts you want to consider: model, training task, dataset, featurization scheme and auxiliary tasks\n",
    "2. Validate the designed training config\n",
    "3. Use the designed config to train a new model"
   ]
  },
  {
   "cell_type": "markdown",
   "metadata": {},
   "source": [
    "### 1. Choose the parts you want to consider: model, training task, dataset, featurization scheme and auxiliary tasks\n",
    "\n",
    "You can switch out any of these for another available option by replacing the corresponding argument's value in `overrides`:\n",
    "\n",
    "`cfg = hydra.compose(\"template\", overrides=[\"encoder=schnet\", \"task=inverse_folding\", \"dataset=afdb_swissprot_v4\", \"features=ca_base\", \"+aux_task=none\"], return_hydra_config=True)`"
   ]
  },
  {
   "cell_type": "code",
   "execution_count": 2,
   "metadata": {},
   "outputs": [
    {
     "name": "stdout",
     "output_type": "stream",
     "text": [
      "Visible GPUs for PyTorch: 1\n"
     ]
    }
   ],
   "source": [
    "import os\n",
    "\n",
    "# Set the environment variable to make only GPU 0 visible\n",
    "os.environ[\"CUDA_VISIBLE_DEVICES\"] = \"0\"\n",
    "\n",
    "# Now import the necessary librarie\n",
    "import torch\n",
    "\n",
    "# Verify GPUs visible to PyTorch\n",
    "torch_visible_gpus = torch.cuda.device_count()\n",
    "print(\"Visible GPUs for PyTorch:\", torch_visible_gpus)"
   ]
  },
  {
   "cell_type": "code",
   "execution_count": 3,
   "metadata": {},
   "outputs": [
    {
     "data": {
      "text/html": [
       "<pre style=\"white-space:pre;overflow-x:auto;line-height:normal;font-family:Menlo,'DejaVu Sans Mono',consolas,'Courier New',monospace\"><span style=\"color: #7fbfbf; text-decoration-color: #7fbfbf\">[07/25/24 17:03:29] </span><span style=\"color: #008000; text-decoration-color: #008000\">DEBUG   </span> No `.env` file found in project root. Checking for env vars<span style=\"color: #808000; text-decoration-color: #808000\">...</span>         <a href=\"file:///home/zhang/Projects/3d/ProteinWorkshop/proteinworkshop/constants.py\" target=\"_blank\"><span style=\"color: #7f7f7f; text-decoration-color: #7f7f7f\">constants.py</span></a><span style=\"color: #7f7f7f; text-decoration-color: #7f7f7f\">:</span><a href=\"file:///home/zhang/Projects/3d/ProteinWorkshop/proteinworkshop/constants.py#22\" target=\"_blank\"><span style=\"color: #7f7f7f; text-decoration-color: #7f7f7f\">22</span></a>\n",
       "</pre>\n"
      ],
      "text/plain": [
       "\u001b[2;36m[07/25/24 17:03:29]\u001b[0m\u001b[2;36m \u001b[0m\u001b[32mDEBUG   \u001b[0m No `.env` file found in project root. Checking for env vars\u001b[33m...\u001b[0m         \u001b]8;id=35345;file:///home/zhang/Projects/3d/ProteinWorkshop/proteinworkshop/constants.py\u001b\\\u001b[2mconstants.py\u001b[0m\u001b]8;;\u001b\\\u001b[2m:\u001b[0m\u001b]8;id=886253;file:///home/zhang/Projects/3d/ProteinWorkshop/proteinworkshop/constants.py#22\u001b\\\u001b[2m22\u001b[0m\u001b]8;;\u001b\\\n"
      ]
     },
     "metadata": {},
     "output_type": "display_data"
    },
    {
     "data": {
      "text/html": [
       "<pre style=\"white-space:pre;overflow-x:auto;line-height:normal;font-family:Menlo,'DejaVu Sans Mono',consolas,'Courier New',monospace\"><span style=\"color: #7fbfbf; text-decoration-color: #7fbfbf\">                    </span><span style=\"color: #008000; text-decoration-color: #008000\">DEBUG   </span> No env var `DATA_PATH` found. Setting default<span style=\"color: #808000; text-decoration-color: #808000\">...</span>                       <a href=\"file:///home/zhang/Projects/3d/ProteinWorkshop/proteinworkshop/constants.py\" target=\"_blank\"><span style=\"color: #7f7f7f; text-decoration-color: #7f7f7f\">constants.py</span></a><span style=\"color: #7f7f7f; text-decoration-color: #7f7f7f\">:</span><a href=\"file:///home/zhang/Projects/3d/ProteinWorkshop/proteinworkshop/constants.py#28\" target=\"_blank\"><span style=\"color: #7f7f7f; text-decoration-color: #7f7f7f\">28</span></a>\n",
       "</pre>\n"
      ],
      "text/plain": [
       "\u001b[2;36m                   \u001b[0m\u001b[2;36m \u001b[0m\u001b[32mDEBUG   \u001b[0m No env var `DATA_PATH` found. Setting default\u001b[33m...\u001b[0m                       \u001b]8;id=759661;file:///home/zhang/Projects/3d/ProteinWorkshop/proteinworkshop/constants.py\u001b\\\u001b[2mconstants.py\u001b[0m\u001b]8;;\u001b\\\u001b[2m:\u001b[0m\u001b]8;id=24868;file:///home/zhang/Projects/3d/ProteinWorkshop/proteinworkshop/constants.py#28\u001b\\\u001b[2m28\u001b[0m\u001b]8;;\u001b\\\n"
      ]
     },
     "metadata": {},
     "output_type": "display_data"
    },
    {
     "data": {
      "text/html": [
       "<pre style=\"white-space:pre;overflow-x:auto;line-height:normal;font-family:Menlo,'DejaVu Sans Mono',consolas,'Courier New',monospace\"><span style=\"color: #7fbfbf; text-decoration-color: #7fbfbf\">                    </span><span style=\"color: #000080; text-decoration-color: #000080\">INFO    </span> DATA_PATH:                                                             <a href=\"file:///home/zhang/Projects/3d/ProteinWorkshop/proteinworkshop/constants.py\" target=\"_blank\"><span style=\"color: #7f7f7f; text-decoration-color: #7f7f7f\">constants.py</span></a><span style=\"color: #7f7f7f; text-decoration-color: #7f7f7f\">:</span><a href=\"file:///home/zhang/Projects/3d/ProteinWorkshop/proteinworkshop/constants.py#39\" target=\"_blank\"><span style=\"color: #7f7f7f; text-decoration-color: #7f7f7f\">39</span></a>\n",
       "<span style=\"color: #7fbfbf; text-decoration-color: #7fbfbf\">                    </span>         <span style=\"color: #800080; text-decoration-color: #800080\">/home/zhang/Projects/3d/ProteinWorkshop/proteinworkshop/</span><span style=\"color: #ff00ff; text-decoration-color: #ff00ff\">data</span>           <span style=\"color: #7f7f7f; text-decoration-color: #7f7f7f\">               </span>\n",
       "</pre>\n"
      ],
      "text/plain": [
       "\u001b[2;36m                   \u001b[0m\u001b[2;36m \u001b[0m\u001b[34mINFO    \u001b[0m DATA_PATH:                                                             \u001b]8;id=313248;file:///home/zhang/Projects/3d/ProteinWorkshop/proteinworkshop/constants.py\u001b\\\u001b[2mconstants.py\u001b[0m\u001b]8;;\u001b\\\u001b[2m:\u001b[0m\u001b]8;id=102659;file:///home/zhang/Projects/3d/ProteinWorkshop/proteinworkshop/constants.py#39\u001b\\\u001b[2m39\u001b[0m\u001b]8;;\u001b\\\n",
       "\u001b[2;36m                    \u001b[0m         \u001b[35m/home/zhang/Projects/3d/ProteinWorkshop/proteinworkshop/\u001b[0m\u001b[95mdata\u001b[0m           \u001b[2m               \u001b[0m\n"
      ]
     },
     "metadata": {},
     "output_type": "display_data"
    },
    {
     "data": {
      "text/html": [
       "<pre style=\"white-space:pre;overflow-x:auto;line-height:normal;font-family:Menlo,'DejaVu Sans Mono',consolas,'Courier New',monospace\"><span style=\"color: #7fbfbf; text-decoration-color: #7fbfbf\">[07/25/24 17:03:30] </span><span style=\"color: #000080; text-decoration-color: #000080\">INFO    </span> Hydra initialised at                                                    <a href=\"file:///home/zhang/Projects/3d/ProteinWorkshop/proteinworkshop/utils/notebook.py\" target=\"_blank\"><span style=\"color: #7f7f7f; text-decoration-color: #7f7f7f\">notebook.py</span></a><span style=\"color: #7f7f7f; text-decoration-color: #7f7f7f\">:</span><a href=\"file:///home/zhang/Projects/3d/ProteinWorkshop/proteinworkshop/utils/notebook.py#53\" target=\"_blank\"><span style=\"color: #7f7f7f; text-decoration-color: #7f7f7f\">53</span></a>\n",
       "<span style=\"color: #7fbfbf; text-decoration-color: #7fbfbf\">                    </span>         <span style=\"color: #800080; text-decoration-color: #800080\">/home/zhang/Projects/3d/ProteinWorkshop/proteinworkshop/</span><span style=\"color: #ff00ff; text-decoration-color: #ff00ff\">config.</span>         <span style=\"color: #7f7f7f; text-decoration-color: #7f7f7f\">              </span>\n",
       "</pre>\n"
      ],
      "text/plain": [
       "\u001b[2;36m[07/25/24 17:03:30]\u001b[0m\u001b[2;36m \u001b[0m\u001b[34mINFO    \u001b[0m Hydra initialised at                                                    \u001b]8;id=72499;file:///home/zhang/Projects/3d/ProteinWorkshop/proteinworkshop/utils/notebook.py\u001b\\\u001b[2mnotebook.py\u001b[0m\u001b]8;;\u001b\\\u001b[2m:\u001b[0m\u001b]8;id=455778;file:///home/zhang/Projects/3d/ProteinWorkshop/proteinworkshop/utils/notebook.py#53\u001b\\\u001b[2m53\u001b[0m\u001b]8;;\u001b\\\n",
       "\u001b[2;36m                    \u001b[0m         \u001b[35m/home/zhang/Projects/3d/ProteinWorkshop/proteinworkshop/\u001b[0m\u001b[95mconfig.\u001b[0m         \u001b[2m              \u001b[0m\n"
      ]
     },
     "metadata": {},
     "output_type": "display_data"
    }
   ],
   "source": [
    "# Misc. tools\n",
    "import os\n",
    "\n",
    "# Hydra tools\n",
    "import hydra\n",
    "\n",
    "from hydra.compose import GlobalHydra\n",
    "from hydra.core.hydra_config import HydraConfig\n",
    "\n",
    "from proteinworkshop.constants import HYDRA_CONFIG_PATH\n",
    "from proteinworkshop.utils.notebook import init_hydra_singleton\n",
    "\n",
    "version_base = \"1.2\"  # Note: Need to update whenever Hydra is upgraded\n",
    "init_hydra_singleton(reload=True, version_base=version_base)\n",
    "\n",
    "path = HYDRA_CONFIG_PATH\n",
    "rel_path = os.path.relpath(path, start=\".\")\n",
    "# print(rel_path)\n",
    "GlobalHydra.instance().clear()\n",
    "hydra.initialize(rel_path, version_base=version_base)\n",
    "\n",
    "cfg = hydra.compose(\n",
    "    config_name=\"train\",\n",
    "    overrides=[\n",
    "        \"encoder=schnet\",\n",
    "        \"encoder.hidden_channels=512\", # Number of channels in the hidden layers\n",
    "        \"encoder.out_dim=32\", # Output dimension of the model\n",
    "        \"encoder.num_layers=6\", # Number of filters used in convolutional layers\n",
    "        \"encoder.num_filters=128\", # Number of convolutional layers in the model\n",
    "        \"encoder.num_gaussians=50\", # Number of Gaussian functions used for radial filters\n",
    "        \"encoder.cutoff=10.0\", # Cutoff distance for interactions\n",
    "        \"encoder.max_num_neighbors=32\", # Maximum number of neighboring atoms to consider\n",
    "        \"encoder.readout=add\", # Global pooling method to be used\n",
    "        \"encoder.dipole=False\",\n",
    "        \"encoder.mean=null\",\n",
    "        \"encoder.std=null\",\n",
    "        \"encoder.atomref=null\",\n",
    "        \"encoder.pretraining=False\",\n",
    "\n",
    "        # \"decoder.graph_label.dummy=True\",\n",
    "\n",
    "        \"task=multiclass_graph_classification\",\n",
    "        \"dataset=ec_reaction\",\n",
    "        \"dataset.datamodule.batch_size=32\",\n",
    "        \"features=ca_base\", \n",
    "        \"+aux_task=none\",\n",
    "        \n",
    "        \"trainer.max_epochs=150\",\n",
    "        \"optimiser=adam\",\n",
    "        \"optimiser.optimizer.lr=3e-4\",\n",
    "        \"callbacks.early_stopping.patience=10\",\n",
    "        \"test=True\",\n",
    "        \"scheduler=plateau\", # 5 epochs - 0.6 default\n",
    "        # \"+ckpt_path=/home/zhang/Projects/3d/proteinworkshop_checkpoints/outputs_schnet_pretraining_best@0/checkpoints/last.ckpt\", # continue training\n",
    "        ## for test ONLY\n",
    "        # \"task_name=test\",  # here\n",
    "        # \"ckpt_path_test=/home/zhang/Projects/3d/proteinworkshop_checkpoints/outputs_pronet_fold_400epochs/checkpoints/epoch_273.ckpt\", # here\n",
    "        # \"optimizer.weight_decay=0.5\"\n",
    "        \"seed=66\",\n",
    "    ],\n",
    "    return_hydra_config=True,\n",
    ")\n",
    "\n",
    "# Note: Customize as needed e.g., when running a sweep\n",
    "cfg.hydra.job.num = 0\n",
    "cfg.hydra.job.id = 0\n",
    "cfg.hydra.hydra_help.hydra_help = False\n",
    "cfg.hydra.runtime.output_dir = \"outputs\"\n",
    "HydraConfig.instance().set_config(cfg)"
   ]
  },
  {
   "cell_type": "markdown",
   "metadata": {},
   "source": [
    "### 2. Validate the designed training config"
   ]
  },
  {
   "cell_type": "markdown",
   "metadata": {},
   "source": [
    "This is not strictly necessary, but it is a good idea to validate the config before training. This will check that all the arguments you have provided are valid and that the config is complete."
   ]
  },
  {
   "cell_type": "code",
   "execution_count": 4,
   "metadata": {},
   "outputs": [
    {
     "data": {
      "text/html": [
       "<pre style=\"white-space:pre;overflow-x:auto;line-height:normal;font-family:Menlo,'DejaVu Sans Mono',consolas,'Courier New',monospace\"><span style=\"color: #7fbfbf; text-decoration-color: #7fbfbf\">                    </span><span style=\"color: #008000; text-decoration-color: #008000\">DEBUG   </span> CUDA available: <span style=\"color: #00ff00; text-decoration-color: #00ff00; font-style: italic\">True</span>                                                     <a href=\"file:///home/zhang/Projects/3d/ProteinWorkshop/proteinworkshop/configs/config.py\" target=\"_blank\"><span style=\"color: #7f7f7f; text-decoration-color: #7f7f7f\">config.py</span></a><span style=\"color: #7f7f7f; text-decoration-color: #7f7f7f\">:</span><a href=\"file:///home/zhang/Projects/3d/ProteinWorkshop/proteinworkshop/configs/config.py#249\" target=\"_blank\"><span style=\"color: #7f7f7f; text-decoration-color: #7f7f7f\">249</span></a>\n",
       "</pre>\n"
      ],
      "text/plain": [
       "\u001b[2;36m                   \u001b[0m\u001b[2;36m \u001b[0m\u001b[32mDEBUG   \u001b[0m CUDA available: \u001b[3;92mTrue\u001b[0m                                                     \u001b]8;id=784934;file:///home/zhang/Projects/3d/ProteinWorkshop/proteinworkshop/configs/config.py\u001b\\\u001b[2mconfig.py\u001b[0m\u001b]8;;\u001b\\\u001b[2m:\u001b[0m\u001b]8;id=388640;file:///home/zhang/Projects/3d/ProteinWorkshop/proteinworkshop/configs/config.py#249\u001b\\\u001b[2m249\u001b[0m\u001b]8;;\u001b\\\n"
      ]
     },
     "metadata": {},
     "output_type": "display_data"
    },
    {
     "data": {
      "text/html": [
       "<pre style=\"white-space:pre;overflow-x:auto;line-height:normal;font-family:Menlo,'DejaVu Sans Mono',consolas,'Courier New',monospace\"><span style=\"color: #7fbfbf; text-decoration-color: #7fbfbf\">                    </span><span style=\"color: #008000; text-decoration-color: #008000\">DEBUG   </span> Requested GPUs: <span style=\"color: #008080; text-decoration-color: #008080; font-weight: bold\">1</span>.                                                       <a href=\"file:///home/zhang/Projects/3d/ProteinWorkshop/proteinworkshop/configs/config.py\" target=\"_blank\"><span style=\"color: #7f7f7f; text-decoration-color: #7f7f7f\">config.py</span></a><span style=\"color: #7f7f7f; text-decoration-color: #7f7f7f\">:</span><a href=\"file:///home/zhang/Projects/3d/ProteinWorkshop/proteinworkshop/configs/config.py#250\" target=\"_blank\"><span style=\"color: #7f7f7f; text-decoration-color: #7f7f7f\">250</span></a>\n",
       "</pre>\n"
      ],
      "text/plain": [
       "\u001b[2;36m                   \u001b[0m\u001b[2;36m \u001b[0m\u001b[32mDEBUG   \u001b[0m Requested GPUs: \u001b[1;36m1\u001b[0m.                                                       \u001b]8;id=247858;file:///home/zhang/Projects/3d/ProteinWorkshop/proteinworkshop/configs/config.py\u001b\\\u001b[2mconfig.py\u001b[0m\u001b]8;;\u001b\\\u001b[2m:\u001b[0m\u001b]8;id=68797;file:///home/zhang/Projects/3d/ProteinWorkshop/proteinworkshop/configs/config.py#250\u001b\\\u001b[2m250\u001b[0m\u001b]8;;\u001b\\\n"
      ]
     },
     "metadata": {},
     "output_type": "display_data"
    },
    {
     "data": {
      "text/html": [
       "<pre style=\"white-space:pre;overflow-x:auto;line-height:normal;font-family:Menlo,'DejaVu Sans Mono',consolas,'Courier New',monospace\"><span style=\"color: #7fbfbf; text-decoration-color: #7fbfbf\">                    </span><span style=\"color: #008000; text-decoration-color: #008000\">DEBUG   </span> GPU count set to: <span style=\"color: #008080; text-decoration-color: #008080; font-weight: bold\">1</span>                                                      <a href=\"file:///home/zhang/Projects/3d/ProteinWorkshop/proteinworkshop/configs/config.py\" target=\"_blank\"><span style=\"color: #7f7f7f; text-decoration-color: #7f7f7f\">config.py</span></a><span style=\"color: #7f7f7f; text-decoration-color: #7f7f7f\">:</span><a href=\"file:///home/zhang/Projects/3d/ProteinWorkshop/proteinworkshop/configs/config.py#255\" target=\"_blank\"><span style=\"color: #7f7f7f; text-decoration-color: #7f7f7f\">255</span></a>\n",
       "</pre>\n"
      ],
      "text/plain": [
       "\u001b[2;36m                   \u001b[0m\u001b[2;36m \u001b[0m\u001b[32mDEBUG   \u001b[0m GPU count set to: \u001b[1;36m1\u001b[0m                                                      \u001b]8;id=617585;file:///home/zhang/Projects/3d/ProteinWorkshop/proteinworkshop/configs/config.py\u001b\\\u001b[2mconfig.py\u001b[0m\u001b]8;;\u001b\\\u001b[2m:\u001b[0m\u001b]8;id=657510;file:///home/zhang/Projects/3d/ProteinWorkshop/proteinworkshop/configs/config.py#255\u001b\\\u001b[2m255\u001b[0m\u001b]8;;\u001b\\\n"
      ]
     },
     "metadata": {},
     "output_type": "display_data"
    },
    {
     "data": {
      "text/html": [
       "<pre style=\"white-space:pre;overflow-x:auto;line-height:normal;font-family:Menlo,'DejaVu Sans Mono',consolas,'Courier New',monospace\"><span style=\"color: #7fbfbf; text-decoration-color: #7fbfbf\">                    </span><span style=\"color: #800000; text-decoration-color: #800000\">WARNING </span> You are not using early stopping.                                        <a href=\"file:///home/zhang/Projects/3d/ProteinWorkshop/proteinworkshop/configs/config.py\" target=\"_blank\"><span style=\"color: #7f7f7f; text-decoration-color: #7f7f7f\">config.py</span></a><span style=\"color: #7f7f7f; text-decoration-color: #7f7f7f\">:</span><a href=\"file:///home/zhang/Projects/3d/ProteinWorkshop/proteinworkshop/configs/config.py#165\" target=\"_blank\"><span style=\"color: #7f7f7f; text-decoration-color: #7f7f7f\">165</span></a>\n",
       "</pre>\n"
      ],
      "text/plain": [
       "\u001b[2;36m                   \u001b[0m\u001b[2;36m \u001b[0m\u001b[31mWARNING \u001b[0m You are not using early stopping.                                        \u001b]8;id=821096;file:///home/zhang/Projects/3d/ProteinWorkshop/proteinworkshop/configs/config.py\u001b\\\u001b[2mconfig.py\u001b[0m\u001b]8;;\u001b\\\u001b[2m:\u001b[0m\u001b]8;id=506346;file:///home/zhang/Projects/3d/ProteinWorkshop/proteinworkshop/configs/config.py#165\u001b\\\u001b[2m165\u001b[0m\u001b]8;;\u001b\\\n"
      ]
     },
     "metadata": {},
     "output_type": "display_data"
    }
   ],
   "source": [
    "from proteinworkshop.configs import config\n",
    "\n",
    "cfg = config.validate_config(cfg)"
   ]
  },
  {
   "cell_type": "code",
   "execution_count": 5,
   "metadata": {},
   "outputs": [
    {
     "name": "stdout",
     "output_type": "stream",
     "text": [
      "dict_keys(['hydra', 'env', 'dataset', 'features', 'encoder', 'decoder', 'transforms', 'callbacks', 'optimiser', 'scheduler', 'trainer', 'extras', 'metrics', 'task', 'logger', 'hparams', 'name', 'seed', 'num_workers', 'task_name', 'ckpt_path_test', 'test', 'aux_task'])\n",
      "hydra\n",
      "{'run': {'dir': '${env.paths.log_dir}/${task_name}/runs/${now:%Y-%m-%d}_${now:%H-%M-%S}'}, 'sweep': {'dir': '${env.paths.log_dir}/${task_name}/multiruns/${now:%Y-%m-%d}_${now:%H-%M-%S}', 'subdir': '${hydra.job.num}'}, 'launcher': {'_target_': 'hydra._internal.core_plugins.basic_launcher.BasicLauncher'}, 'sweeper': {'_target_': 'hydra._internal.core_plugins.basic_sweeper.BasicSweeper', 'max_batch_size': None, 'params': None}, 'help': {'app_name': '${hydra.job.name}', 'header': '${hydra.help.app_name} is powered by Hydra.\\n', 'footer': 'Powered by Hydra (https://hydra.cc)\\nUse --hydra-help to view Hydra specific help\\n', 'template': '${hydra.help.header}\\n== Configuration groups ==\\nCompose your configuration from those groups (group=option)\\n\\n$APP_CONFIG_GROUPS\\n\\n== Config ==\\nOverride anything in the config (foo.bar=value)\\n\\n$CONFIG\\n\\n${hydra.help.footer}\\n'}, 'hydra_help': {'template': \"Hydra (${hydra.runtime.version})\\nSee https://hydra.cc for more info.\\n\\n== Flags ==\\n$FLAGS_HELP\\n\\n== Configuration groups ==\\nCompose your configuration from those groups (For example, append hydra/job_logging=disabled to command line)\\n\\n$HYDRA_CONFIG_GROUPS\\n\\nUse '--cfg hydra' to Show the Hydra config.\\n\", 'hydra_help': 'False'}, 'hydra_logging': {'version': 1, 'formatters': {'colorlog': {'()': 'colorlog.ColoredFormatter', 'format': '[%(cyan)s%(asctime)s%(reset)s][%(purple)sHYDRA%(reset)s] %(message)s'}}, 'handlers': {'console': {'class': 'logging.StreamHandler', 'formatter': 'colorlog', 'stream': 'ext://sys.stdout'}}, 'root': {'level': 'INFO', 'handlers': ['console']}, 'disable_existing_loggers': False}, 'job_logging': {'version': 1, 'formatters': {'simple': {'format': '[%(asctime)s][%(name)s][%(levelname)s] - %(message)s'}, 'colorlog': {'()': 'colorlog.ColoredFormatter', 'format': '[%(cyan)s%(asctime)s%(reset)s][%(blue)s%(name)s%(reset)s][%(log_color)s%(levelname)s%(reset)s] - %(message)s', 'log_colors': {'DEBUG': 'purple', 'INFO': 'green', 'WARNING': 'yellow', 'ERROR': 'red', 'CRITICAL': 'red'}}}, 'handlers': {'console': {'class': 'logging.StreamHandler', 'formatter': 'colorlog', 'stream': 'ext://sys.stdout'}, 'file': {'class': 'logging.FileHandler', 'formatter': 'simple', 'filename': '${hydra.runtime.output_dir}/${hydra.job.name}.log'}}, 'root': {'level': 'INFO', 'handlers': ['console', 'file']}, 'disable_existing_loggers': False}, 'env': {}, 'mode': None, 'searchpath': [], 'callbacks': {}, 'output_subdir': '.hydra', 'overrides': {'hydra': [], 'task': ['encoder=schnet', 'encoder.hidden_channels=512', 'encoder.out_dim=32', 'encoder.num_layers=6', 'encoder.num_filters=128', 'encoder.num_gaussians=50', 'encoder.cutoff=10.0', 'encoder.max_num_neighbors=32', 'encoder.readout=add', 'encoder.dipole=False', 'encoder.mean=null', 'encoder.std=null', 'encoder.atomref=null', 'encoder.pretraining=False', 'task=multiclass_graph_classification', 'dataset=fold_family', 'dataset.datamodule.batch_size=32', 'features=ca_base', '+aux_task=none', 'trainer.max_epochs=150', 'optimiser=adam', 'optimiser.optimizer.lr=3e-4', 'callbacks.early_stopping.patience=10', 'test=True', 'scheduler=plateau', 'seed=66']}, 'job': {'name': 'notebook', 'chdir': None, 'override_dirname': '+aux_task=none,callbacks.early_stopping.patience=10,dataset.datamodule.batch_size=32,dataset=fold_family,encoder.atomref=null,encoder.cutoff=10.0,encoder.dipole=False,encoder.hidden_channels=512,encoder.max_num_neighbors=32,encoder.mean=null,encoder.num_filters=128,encoder.num_gaussians=50,encoder.num_layers=6,encoder.out_dim=32,encoder.pretraining=False,encoder.readout=add,encoder.std=null,encoder=schnet,features=ca_base,optimiser.optimizer.lr=3e-4,optimiser=adam,scheduler=plateau,seed=66,task=multiclass_graph_classification,test=True,trainer.max_epochs=150', 'id': '0', 'num': 0, 'config_name': 'train', 'env_set': {}, 'env_copy': [], 'config': {'override_dirname': {'kv_sep': '=', 'item_sep': ',', 'exclude_keys': []}}}, 'runtime': {'version': '1.3.2', 'version_base': '1.2', 'cwd': '/home/zhang/Projects/3d/ProteinWorkshop/notebooks', 'config_sources': [{'path': 'hydra.conf', 'schema': 'pkg', 'provider': 'hydra'}, {'path': '/home/zhang/Projects/3d/ProteinWorkshop/proteinworkshop/config', 'schema': 'file', 'provider': 'main'}, {'path': 'hydra_plugins.hydra_colorlog.conf', 'schema': 'pkg', 'provider': 'hydra-colorlog'}, {'path': '', 'schema': 'structured', 'provider': 'schema'}], 'output_dir': 'outputs', 'choices': {'aux_task': 'none', 'debug': None, 'logger': 'csv', 'task': 'multiclass_graph_classification', 'hydra': 'default', 'extras': 'default', 'trainer': 'gpu', 'scheduler': 'plateau', 'optimiser': 'adam', 'callbacks': 'default', 'transforms': 'default', 'encoder': 'schnet', 'features': 'ca_base', 'dataset': 'fold_family', 'env': 'default', 'hparams': 'schnet_ca_base', 'hydra/env': 'default', 'hydra/callbacks': None, 'hydra/job_logging': 'colorlog', 'hydra/hydra_logging': 'colorlog', 'hydra/hydra_help': 'default', 'hydra/help': 'default', 'hydra/sweeper': 'basic', 'hydra/launcher': 'basic', 'hydra/output': 'default'}}, 'verbose': False}\n",
      "env\n",
      "{'paths': {'root_dir': '${oc.env:ROOT_DIR}', 'data': '${oc.env:DATA_PATH}', 'output_dir': '${hydra:runtime.output_dir}', 'work_dir': '${hydra:runtime.cwd}', 'log_dir': '${oc.env:RUNS_PATH}', 'runs': '${oc.env:RUNS_PATH}', 'run_dir': '${env.paths.runs}/${name}/${env.init_time}'}, 'python': {'version': '${python_version:micro}'}, 'init_time': '${now:%y-%m-%d_%H:%M:%S}'}\n",
      "dataset\n",
      "{'datamodule': {'_target_': 'proteinworkshop.datasets.fold_classification.FoldClassificationDataModule', 'path': '${env.paths.data}/FoldClassification/', 'split': 'family', 'batch_size': 32, 'pin_memory': True, 'num_workers': 4, 'dataset_fraction': 1.0, 'shuffle_labels': False, 'transforms': '${transforms}', 'overwrite': False, 'in_memory': True}, 'num_classes': 1195}\n",
      "features\n",
      "{'_target_': 'proteinworkshop.features.factory.ProteinFeaturiser', 'representation': 'CA', 'scalar_node_features': ['amino_acid_one_hot'], 'vector_node_features': [], 'edge_types': ['knn_16'], 'scalar_edge_features': ['edge_distance'], 'vector_edge_features': []}\n",
      "encoder\n",
      "{'_target_': 'proteinworkshop.models.graph_encoders.schnet.SchNetModel', 'hidden_channels': 512, 'out_dim': 32, 'num_layers': 6, 'num_filters': 128, 'num_gaussians': 50, 'cutoff': 10.0, 'max_num_neighbors': 32, 'readout': 'add', 'dipole': False, 'mean': None, 'std': None, 'atomref': None, 'pretraining': False}\n",
      "decoder\n",
      "{'graph_label': {'_target_': 'proteinworkshop.models.decoders.mlp_decoder.MLPDecoder', 'hidden_dim': [512, 512, 512], 'dropout': 0.0, 'activations': ['relu', 'relu', 'relu', 'none'], 'skip': 'concat', 'out_dim': '${dataset.num_classes}', 'input': 'graph_embedding', 'dummy': False}}\n",
      "transforms\n",
      "{'remove_missing_ca': {'_target_': 'proteinworkshop.tasks.remove_missing_ca.RemoveMissingCa', 'fill_value': 1e-05, 'ca_idx': 1}}\n",
      "callbacks\n",
      "{'model_checkpoint': {'_target_': 'lightning.pytorch.callbacks.ModelCheckpoint', 'dirpath': '${env.paths.output_dir}/checkpoints', 'filename': 'epoch_{epoch:03d}', 'monitor': 'val/graph_label/accuracy', 'verbose': True, 'save_last': True, 'save_top_k': 1, 'mode': 'max', 'auto_insert_metric_name': False, 'save_weights_only': False, 'every_n_train_steps': None, 'train_time_interval': None, 'every_n_epochs': None, 'save_on_train_epoch_end': None}, 'early_stopping': {'_target_': 'lightning.pytorch.callbacks.EarlyStopping', 'monitor': 'val/graph_label/accuracy', 'min_delta': 0.0, 'patience': 10, 'verbose': True, 'mode': 'max', 'strict': True, 'check_finite': True, 'stopping_threshold': None, 'divergence_threshold': None, 'check_on_train_epoch_end': False}, 'model_summary': {'_target_': 'lightning.pytorch.callbacks.RichModelSummary', 'max_depth': -1}, 'rich_progress_bar': {'_target_': 'lightning.pytorch.callbacks.RichProgressBar'}, 'learning_rate_monitor': {'_target_': 'lightning.pytorch.callbacks.LearningRateMonitor'}, 'stop_on_nan': {'_target_': 'lightning.pytorch.callbacks.EarlyStopping', 'monitor': 'train/loss/total', 'min_delta': 0.0, 'patience': 10000000, 'verbose': True, 'mode': 'min', 'strict': True, 'check_finite': True, 'stopping_threshold': None, 'divergence_threshold': None, 'check_on_train_epoch_end': None}}\n",
      "optimiser\n",
      "{'optimizer': {'_target_': 'torch.optim.Adam', '_partial_': True, 'lr': 0.0003, 'weight_decay': 0.0}}\n",
      "scheduler\n",
      "{'scheduler': {'_target_': 'torch.optim.lr_scheduler.ReduceLROnPlateau', '_partial_': True, 'mode': 'min', 'factor': 0.6, 'patience': 5, 'verbose': True}, 'interval': 'epoch', 'frequency': 1, 'monitor': 'val/loss/total', 'strict': True, 'name': 'learning_rate'}\n",
      "trainer\n",
      "{'_target_': 'lightning.pytorch.trainer.Trainer', 'default_root_dir': '${env.paths.output_dir}', 'min_epochs': 1, 'max_epochs': 150, 'accelerator': 'gpu', 'check_val_every_n_epoch': 1, 'deterministic': False, 'num_sanity_val_steps': 2, 'devices': 1}\n",
      "extras\n",
      "{'ignore_warnings': True, 'enforce_tags': False, 'print_config': True}\n",
      "metrics\n",
      "{'accuracy': {'_target_': 'torchmetrics.Accuracy', 'task': '${task.classification_type}', 'average': '${task.metric_average}', 'num_classes': '${dataset.num_classes}', 'top_k': 1}, 'f1_score': {'_target_': 'torchmetrics.F1Score', 'average': 'macro', 'num_classes': '${dataset.num_classes}', 'task': '${task.classification_type}'}, 'f1_max': {'_target_': 'proteinworkshop.metrics.f1_max.F1Max', 'num_classes': '${dataset.num_classes}'}}\n",
      "task\n",
      "{'task': 'classification', 'classification_type': 'multiclass', 'metric_average': 'micro', 'losses': {'graph_label': 'cross_entropy'}, 'label_smoothing': 0.0, 'output': ['graph_label'], 'supervise_on': ['graph_label']}\n",
      "logger\n",
      "{'csv': {'_target_': 'lightning.pytorch.loggers.csv_logs.CSVLogger', 'save_dir': '${env.paths.output_dir}', 'name': 'csv/', 'prefix': ''}}\n",
      "hparams\n",
      "{'hparams': {'lr': 0.0003, 'decoder_dropout': 0.5}}\n",
      "name\n",
      "\n",
      "seed\n",
      "66\n",
      "num_workers\n",
      "16\n",
      "task_name\n",
      "train\n",
      "ckpt_path_test\n",
      "\n",
      "test\n",
      "True\n",
      "aux_task\n",
      "{}\n"
     ]
    }
   ],
   "source": [
    "print(cfg.keys())\n",
    "for key in cfg.keys():\n",
    "    print(key)\n",
    "    print(cfg[key])"
   ]
  },
  {
   "cell_type": "markdown",
   "metadata": {},
   "source": [
    "### 3. Use the designed config to train a new model"
   ]
  },
  {
   "cell_type": "markdown",
   "metadata": {},
   "source": [
    "Now with the config you have designed, you can train a new model. You can also use the `ProteinWorkshop` to evaluate the model on a downstream task."
   ]
  },
  {
   "cell_type": "code",
   "execution_count": 6,
   "metadata": {},
   "outputs": [],
   "source": [
    "# import torch\n",
    "# import torch.nn as nn\n",
    "# ckpt_path = '/home/zhang/Projects/3d/proteinworkshop_checkpoints/outputs_pronet_pretraining_best@2/checkpoints/epoch_002.ckpt'\n",
    "# # Assuming `model` is your model and `encoder_weights` is the state_dict of pretrained weights\n",
    "# print(torch.load(ckpt_path).keys())\n",
    "# # Load the pretrained state_dict\n",
    "# checkpoint = torch.load(ckpt_path)\n",
    "# pretrained_dict = torch.load(ckpt_path)[\"state_dict\"]\n",
    "\n",
    "# # Create a new state_dict that excludes the final layer parameters\n",
    "# filtered_dict = {k: v for k, v in pretrained_dict.items() if not k.startswith('encoder.lin_out.')}\n",
    "# filtered_dict = {k: v for k, v in filtered_dict.items() if not k.startswith('encoder.lins_out.')}\n",
    "# print(filtered_dict.keys())\n",
    "# new_checkpoint = {\n",
    "#     \"epoch\": checkpoint[\"epoch\"],\n",
    "#     \"global_step\": checkpoint[\"global_step\"],\n",
    "#     \"pytorch-lightning_version\": checkpoint[\"pytorch-lightning_version\"],\n",
    "#     \"state_dict\": filtered_dict,\n",
    "#     \"loops\": checkpoint[\"loops\"],\n",
    "#     \"callbacks\": checkpoint[\"callbacks\"],\n",
    "#     \"optimizer_states\": checkpoint[\"optimizer_states\"],\n",
    "#     \"lr_schedulers\": checkpoint[\"lr_schedulers\"],\n",
    "#     \"hparams_name\": checkpoint[\"hparams_name\"],\n",
    "#     \"hyper_parameters\": checkpoint[\"hyper_parameters\"]\n",
    "# }\n",
    "\n",
    "# torch.save(new_checkpoint, '/home/zhang/Projects/3d/proteinworkshop_checkpoints/outputs_pronet_pretraining_best@2/checkpoints/epoch_002_filtered.ckpt')"
   ]
  },
  {
   "cell_type": "code",
   "execution_count": 7,
   "metadata": {},
   "outputs": [],
   "source": [
    "cfg.get(\"ckpt_path\")"
   ]
  },
  {
   "cell_type": "code",
   "execution_count": 8,
   "metadata": {},
   "outputs": [
    {
     "name": "stderr",
     "output_type": "stream",
     "text": [
      "Seed set to 66\n"
     ]
    },
    {
     "data": {
      "text/html": [
       "<pre style=\"white-space:pre;overflow-x:auto;line-height:normal;font-family:Menlo,'DejaVu Sans Mono',consolas,'Courier New',monospace\"><span style=\"color: #7fbfbf; text-decoration-color: #7fbfbf\">[07/25/24 17:03:31] </span><span style=\"color: #000080; text-decoration-color: #000080\">INFO    </span> Instantiating datamodule:                                              <a href=\"file:///home/zhang/Projects/3d/ProteinWorkshop/proteinworkshop/finetune.py\" target=\"_blank\"><span style=\"color: #7f7f7f; text-decoration-color: #7f7f7f\">finetune.py</span></a><span style=\"color: #7f7f7f; text-decoration-color: #7f7f7f\">:</span><a href=\"file:///home/zhang/Projects/3d/ProteinWorkshop/proteinworkshop/finetune.py#100\" target=\"_blank\"><span style=\"color: #7f7f7f; text-decoration-color: #7f7f7f\">100</span></a>\n",
       "<span style=\"color: #7fbfbf; text-decoration-color: #7fbfbf\">                    </span>         &lt;proteinworkshop.datasets.fold_classification.FoldClassificationDataMo <span style=\"color: #7f7f7f; text-decoration-color: #7f7f7f\">               </span>\n",
       "<span style=\"color: #7fbfbf; text-decoration-color: #7fbfbf\">                    </span>         dule<span style=\"color: #808000; text-decoration-color: #808000\">...</span>                                                                <span style=\"color: #7f7f7f; text-decoration-color: #7f7f7f\">               </span>\n",
       "</pre>\n"
      ],
      "text/plain": [
       "\u001b[2;36m[07/25/24 17:03:31]\u001b[0m\u001b[2;36m \u001b[0m\u001b[34mINFO    \u001b[0m Instantiating datamodule:                                              \u001b]8;id=467335;file:///home/zhang/Projects/3d/ProteinWorkshop/proteinworkshop/finetune.py\u001b\\\u001b[2mfinetune.py\u001b[0m\u001b]8;;\u001b\\\u001b[2m:\u001b[0m\u001b]8;id=308324;file:///home/zhang/Projects/3d/ProteinWorkshop/proteinworkshop/finetune.py#100\u001b\\\u001b[2m100\u001b[0m\u001b]8;;\u001b\\\n",
       "\u001b[2;36m                    \u001b[0m         <proteinworkshop.datasets.fold_classification.FoldClassificationDataMo \u001b[2m               \u001b[0m\n",
       "\u001b[2;36m                    \u001b[0m         dule\u001b[33m...\u001b[0m                                                                \u001b[2m               \u001b[0m\n"
      ]
     },
     "metadata": {},
     "output_type": "display_data"
    },
    {
     "data": {
      "text/html": [
       "<pre style=\"white-space:pre;overflow-x:auto;line-height:normal;font-family:Menlo,'DejaVu Sans Mono',consolas,'Courier New',monospace\"><span style=\"color: #7fbfbf; text-decoration-color: #7fbfbf\">                    </span><span style=\"color: #000080; text-decoration-color: #000080\">INFO    </span> Instantiating callbacks<span style=\"color: #808000; text-decoration-color: #808000\">...</span>                                             <a href=\"file:///home/zhang/Projects/3d/ProteinWorkshop/proteinworkshop/finetune.py\" target=\"_blank\"><span style=\"color: #7f7f7f; text-decoration-color: #7f7f7f\">finetune.py</span></a><span style=\"color: #7f7f7f; text-decoration-color: #7f7f7f\">:</span><a href=\"file:///home/zhang/Projects/3d/ProteinWorkshop/proteinworkshop/finetune.py#107\" target=\"_blank\"><span style=\"color: #7f7f7f; text-decoration-color: #7f7f7f\">107</span></a>\n",
       "</pre>\n"
      ],
      "text/plain": [
       "\u001b[2;36m                   \u001b[0m\u001b[2;36m \u001b[0m\u001b[34mINFO    \u001b[0m Instantiating callbacks\u001b[33m...\u001b[0m                                             \u001b]8;id=780438;file:///home/zhang/Projects/3d/ProteinWorkshop/proteinworkshop/finetune.py\u001b\\\u001b[2mfinetune.py\u001b[0m\u001b]8;;\u001b\\\u001b[2m:\u001b[0m\u001b]8;id=907821;file:///home/zhang/Projects/3d/ProteinWorkshop/proteinworkshop/finetune.py#107\u001b\\\u001b[2m107\u001b[0m\u001b]8;;\u001b\\\n"
      ]
     },
     "metadata": {},
     "output_type": "display_data"
    },
    {
     "data": {
      "text/html": [
       "<pre style=\"white-space:pre;overflow-x:auto;line-height:normal;font-family:Menlo,'DejaVu Sans Mono',consolas,'Courier New',monospace\"><span style=\"color: #7fbfbf; text-decoration-color: #7fbfbf\">                    </span><span style=\"color: #000080; text-decoration-color: #000080\">INFO    </span> Instantiating callback <span style=\"font-weight: bold\">&lt;</span><span style=\"color: #ff00ff; text-decoration-color: #ff00ff; font-weight: bold\">lightning.pytorch.callbacks.ModelCheckpoint</span><span style=\"font-weight: bold\">&gt;</span>   <a href=\"file:///home/zhang/Projects/3d/ProteinWorkshop/proteinworkshop/utils/callbacks.py\" target=\"_blank\"><span style=\"color: #7f7f7f; text-decoration-color: #7f7f7f\">callbacks.py</span></a><span style=\"color: #7f7f7f; text-decoration-color: #7f7f7f\">:</span><a href=\"file:///home/zhang/Projects/3d/ProteinWorkshop/proteinworkshop/utils/callbacks.py#31\" target=\"_blank\"><span style=\"color: #7f7f7f; text-decoration-color: #7f7f7f\">31</span></a>\n",
       "</pre>\n"
      ],
      "text/plain": [
       "\u001b[2;36m                   \u001b[0m\u001b[2;36m \u001b[0m\u001b[34mINFO    \u001b[0m Instantiating callback \u001b[1m<\u001b[0m\u001b[1;95mlightning.pytorch.callbacks.ModelCheckpoint\u001b[0m\u001b[1m>\u001b[0m   \u001b]8;id=134172;file:///home/zhang/Projects/3d/ProteinWorkshop/proteinworkshop/utils/callbacks.py\u001b\\\u001b[2mcallbacks.py\u001b[0m\u001b]8;;\u001b\\\u001b[2m:\u001b[0m\u001b]8;id=961687;file:///home/zhang/Projects/3d/ProteinWorkshop/proteinworkshop/utils/callbacks.py#31\u001b\\\u001b[2m31\u001b[0m\u001b]8;;\u001b\\\n"
      ]
     },
     "metadata": {},
     "output_type": "display_data"
    },
    {
     "data": {
      "text/html": [
       "<pre style=\"white-space:pre;overflow-x:auto;line-height:normal;font-family:Menlo,'DejaVu Sans Mono',consolas,'Courier New',monospace\"><span style=\"color: #7fbfbf; text-decoration-color: #7fbfbf\">                    </span><span style=\"color: #000080; text-decoration-color: #000080\">INFO    </span> Instantiating callback <span style=\"font-weight: bold\">&lt;</span><span style=\"color: #ff00ff; text-decoration-color: #ff00ff; font-weight: bold\">lightning.pytorch.callbacks.EarlyStopping</span><span style=\"font-weight: bold\">&gt;</span>     <a href=\"file:///home/zhang/Projects/3d/ProteinWorkshop/proteinworkshop/utils/callbacks.py\" target=\"_blank\"><span style=\"color: #7f7f7f; text-decoration-color: #7f7f7f\">callbacks.py</span></a><span style=\"color: #7f7f7f; text-decoration-color: #7f7f7f\">:</span><a href=\"file:///home/zhang/Projects/3d/ProteinWorkshop/proteinworkshop/utils/callbacks.py#31\" target=\"_blank\"><span style=\"color: #7f7f7f; text-decoration-color: #7f7f7f\">31</span></a>\n",
       "</pre>\n"
      ],
      "text/plain": [
       "\u001b[2;36m                   \u001b[0m\u001b[2;36m \u001b[0m\u001b[34mINFO    \u001b[0m Instantiating callback \u001b[1m<\u001b[0m\u001b[1;95mlightning.pytorch.callbacks.EarlyStopping\u001b[0m\u001b[1m>\u001b[0m     \u001b]8;id=381038;file:///home/zhang/Projects/3d/ProteinWorkshop/proteinworkshop/utils/callbacks.py\u001b\\\u001b[2mcallbacks.py\u001b[0m\u001b]8;;\u001b\\\u001b[2m:\u001b[0m\u001b]8;id=763532;file:///home/zhang/Projects/3d/ProteinWorkshop/proteinworkshop/utils/callbacks.py#31\u001b\\\u001b[2m31\u001b[0m\u001b]8;;\u001b\\\n"
      ]
     },
     "metadata": {},
     "output_type": "display_data"
    },
    {
     "data": {
      "text/html": [
       "<pre style=\"white-space:pre;overflow-x:auto;line-height:normal;font-family:Menlo,'DejaVu Sans Mono',consolas,'Courier New',monospace\"><span style=\"color: #7fbfbf; text-decoration-color: #7fbfbf\">                    </span><span style=\"color: #000080; text-decoration-color: #000080\">INFO    </span> Instantiating callback <span style=\"font-weight: bold\">&lt;</span><span style=\"color: #ff00ff; text-decoration-color: #ff00ff; font-weight: bold\">lightning.pytorch.callbacks.RichModelSummary</span><span style=\"font-weight: bold\">&gt;</span>  <a href=\"file:///home/zhang/Projects/3d/ProteinWorkshop/proteinworkshop/utils/callbacks.py\" target=\"_blank\"><span style=\"color: #7f7f7f; text-decoration-color: #7f7f7f\">callbacks.py</span></a><span style=\"color: #7f7f7f; text-decoration-color: #7f7f7f\">:</span><a href=\"file:///home/zhang/Projects/3d/ProteinWorkshop/proteinworkshop/utils/callbacks.py#31\" target=\"_blank\"><span style=\"color: #7f7f7f; text-decoration-color: #7f7f7f\">31</span></a>\n",
       "</pre>\n"
      ],
      "text/plain": [
       "\u001b[2;36m                   \u001b[0m\u001b[2;36m \u001b[0m\u001b[34mINFO    \u001b[0m Instantiating callback \u001b[1m<\u001b[0m\u001b[1;95mlightning.pytorch.callbacks.RichModelSummary\u001b[0m\u001b[1m>\u001b[0m  \u001b]8;id=480190;file:///home/zhang/Projects/3d/ProteinWorkshop/proteinworkshop/utils/callbacks.py\u001b\\\u001b[2mcallbacks.py\u001b[0m\u001b]8;;\u001b\\\u001b[2m:\u001b[0m\u001b]8;id=669746;file:///home/zhang/Projects/3d/ProteinWorkshop/proteinworkshop/utils/callbacks.py#31\u001b\\\u001b[2m31\u001b[0m\u001b]8;;\u001b\\\n"
      ]
     },
     "metadata": {},
     "output_type": "display_data"
    },
    {
     "data": {
      "text/html": [
       "<pre style=\"white-space:pre;overflow-x:auto;line-height:normal;font-family:Menlo,'DejaVu Sans Mono',consolas,'Courier New',monospace\"><span style=\"color: #7fbfbf; text-decoration-color: #7fbfbf\">                    </span><span style=\"color: #000080; text-decoration-color: #000080\">INFO    </span> Instantiating callback <span style=\"font-weight: bold\">&lt;</span><span style=\"color: #ff00ff; text-decoration-color: #ff00ff; font-weight: bold\">lightning.pytorch.callbacks.RichProgressBar</span><span style=\"font-weight: bold\">&gt;</span>   <a href=\"file:///home/zhang/Projects/3d/ProteinWorkshop/proteinworkshop/utils/callbacks.py\" target=\"_blank\"><span style=\"color: #7f7f7f; text-decoration-color: #7f7f7f\">callbacks.py</span></a><span style=\"color: #7f7f7f; text-decoration-color: #7f7f7f\">:</span><a href=\"file:///home/zhang/Projects/3d/ProteinWorkshop/proteinworkshop/utils/callbacks.py#31\" target=\"_blank\"><span style=\"color: #7f7f7f; text-decoration-color: #7f7f7f\">31</span></a>\n",
       "</pre>\n"
      ],
      "text/plain": [
       "\u001b[2;36m                   \u001b[0m\u001b[2;36m \u001b[0m\u001b[34mINFO    \u001b[0m Instantiating callback \u001b[1m<\u001b[0m\u001b[1;95mlightning.pytorch.callbacks.RichProgressBar\u001b[0m\u001b[1m>\u001b[0m   \u001b]8;id=883835;file:///home/zhang/Projects/3d/ProteinWorkshop/proteinworkshop/utils/callbacks.py\u001b\\\u001b[2mcallbacks.py\u001b[0m\u001b]8;;\u001b\\\u001b[2m:\u001b[0m\u001b]8;id=402720;file:///home/zhang/Projects/3d/ProteinWorkshop/proteinworkshop/utils/callbacks.py#31\u001b\\\u001b[2m31\u001b[0m\u001b]8;;\u001b\\\n"
      ]
     },
     "metadata": {},
     "output_type": "display_data"
    },
    {
     "data": {
      "text/html": [
       "<pre style=\"white-space:pre;overflow-x:auto;line-height:normal;font-family:Menlo,'DejaVu Sans Mono',consolas,'Courier New',monospace\"><span style=\"color: #7fbfbf; text-decoration-color: #7fbfbf\">                    </span><span style=\"color: #000080; text-decoration-color: #000080\">INFO    </span> Instantiating callback                                                 <a href=\"file:///home/zhang/Projects/3d/ProteinWorkshop/proteinworkshop/utils/callbacks.py\" target=\"_blank\"><span style=\"color: #7f7f7f; text-decoration-color: #7f7f7f\">callbacks.py</span></a><span style=\"color: #7f7f7f; text-decoration-color: #7f7f7f\">:</span><a href=\"file:///home/zhang/Projects/3d/ProteinWorkshop/proteinworkshop/utils/callbacks.py#31\" target=\"_blank\"><span style=\"color: #7f7f7f; text-decoration-color: #7f7f7f\">31</span></a>\n",
       "<span style=\"color: #7fbfbf; text-decoration-color: #7fbfbf\">                    </span>         <span style=\"font-weight: bold\">&lt;</span><span style=\"color: #ff00ff; text-decoration-color: #ff00ff; font-weight: bold\">lightning.pytorch.callbacks.LearningRateMonitor</span><span style=\"font-weight: bold\">&gt;</span>                      <span style=\"color: #7f7f7f; text-decoration-color: #7f7f7f\">               </span>\n",
       "</pre>\n"
      ],
      "text/plain": [
       "\u001b[2;36m                   \u001b[0m\u001b[2;36m \u001b[0m\u001b[34mINFO    \u001b[0m Instantiating callback                                                 \u001b]8;id=9933;file:///home/zhang/Projects/3d/ProteinWorkshop/proteinworkshop/utils/callbacks.py\u001b\\\u001b[2mcallbacks.py\u001b[0m\u001b]8;;\u001b\\\u001b[2m:\u001b[0m\u001b]8;id=744467;file:///home/zhang/Projects/3d/ProteinWorkshop/proteinworkshop/utils/callbacks.py#31\u001b\\\u001b[2m31\u001b[0m\u001b]8;;\u001b\\\n",
       "\u001b[2;36m                    \u001b[0m         \u001b[1m<\u001b[0m\u001b[1;95mlightning.pytorch.callbacks.LearningRateMonitor\u001b[0m\u001b[1m>\u001b[0m                      \u001b[2m               \u001b[0m\n"
      ]
     },
     "metadata": {},
     "output_type": "display_data"
    },
    {
     "data": {
      "text/html": [
       "<pre style=\"white-space:pre;overflow-x:auto;line-height:normal;font-family:Menlo,'DejaVu Sans Mono',consolas,'Courier New',monospace\"><span style=\"color: #7fbfbf; text-decoration-color: #7fbfbf\">                    </span><span style=\"color: #000080; text-decoration-color: #000080\">INFO    </span> Instantiating callback <span style=\"font-weight: bold\">&lt;</span><span style=\"color: #ff00ff; text-decoration-color: #ff00ff; font-weight: bold\">lightning.pytorch.callbacks.EarlyStopping</span><span style=\"font-weight: bold\">&gt;</span>     <a href=\"file:///home/zhang/Projects/3d/ProteinWorkshop/proteinworkshop/utils/callbacks.py\" target=\"_blank\"><span style=\"color: #7f7f7f; text-decoration-color: #7f7f7f\">callbacks.py</span></a><span style=\"color: #7f7f7f; text-decoration-color: #7f7f7f\">:</span><a href=\"file:///home/zhang/Projects/3d/ProteinWorkshop/proteinworkshop/utils/callbacks.py#31\" target=\"_blank\"><span style=\"color: #7f7f7f; text-decoration-color: #7f7f7f\">31</span></a>\n",
       "</pre>\n"
      ],
      "text/plain": [
       "\u001b[2;36m                   \u001b[0m\u001b[2;36m \u001b[0m\u001b[34mINFO    \u001b[0m Instantiating callback \u001b[1m<\u001b[0m\u001b[1;95mlightning.pytorch.callbacks.EarlyStopping\u001b[0m\u001b[1m>\u001b[0m     \u001b]8;id=215466;file:///home/zhang/Projects/3d/ProteinWorkshop/proteinworkshop/utils/callbacks.py\u001b\\\u001b[2mcallbacks.py\u001b[0m\u001b]8;;\u001b\\\u001b[2m:\u001b[0m\u001b]8;id=701138;file:///home/zhang/Projects/3d/ProteinWorkshop/proteinworkshop/utils/callbacks.py#31\u001b\\\u001b[2m31\u001b[0m\u001b]8;;\u001b\\\n"
      ]
     },
     "metadata": {},
     "output_type": "display_data"
    },
    {
     "data": {
      "text/html": [
       "<pre style=\"white-space:pre;overflow-x:auto;line-height:normal;font-family:Menlo,'DejaVu Sans Mono',consolas,'Courier New',monospace\"><span style=\"color: #7fbfbf; text-decoration-color: #7fbfbf\">                    </span><span style=\"color: #000080; text-decoration-color: #000080\">INFO    </span> Instantiating loggers<span style=\"color: #808000; text-decoration-color: #808000\">...</span>                                               <a href=\"file:///home/zhang/Projects/3d/ProteinWorkshop/proteinworkshop/finetune.py\" target=\"_blank\"><span style=\"color: #7f7f7f; text-decoration-color: #7f7f7f\">finetune.py</span></a><span style=\"color: #7f7f7f; text-decoration-color: #7f7f7f\">:</span><a href=\"file:///home/zhang/Projects/3d/ProteinWorkshop/proteinworkshop/finetune.py#112\" target=\"_blank\"><span style=\"color: #7f7f7f; text-decoration-color: #7f7f7f\">112</span></a>\n",
       "</pre>\n"
      ],
      "text/plain": [
       "\u001b[2;36m                   \u001b[0m\u001b[2;36m \u001b[0m\u001b[34mINFO    \u001b[0m Instantiating loggers\u001b[33m...\u001b[0m                                               \u001b]8;id=211083;file:///home/zhang/Projects/3d/ProteinWorkshop/proteinworkshop/finetune.py\u001b\\\u001b[2mfinetune.py\u001b[0m\u001b]8;;\u001b\\\u001b[2m:\u001b[0m\u001b]8;id=305252;file:///home/zhang/Projects/3d/ProteinWorkshop/proteinworkshop/finetune.py#112\u001b\\\u001b[2m112\u001b[0m\u001b]8;;\u001b\\\n"
      ]
     },
     "metadata": {},
     "output_type": "display_data"
    },
    {
     "data": {
      "text/html": [
       "<pre style=\"white-space:pre;overflow-x:auto;line-height:normal;font-family:Menlo,'DejaVu Sans Mono',consolas,'Courier New',monospace\"><span style=\"color: #7fbfbf; text-decoration-color: #7fbfbf\">                    </span><span style=\"color: #000080; text-decoration-color: #000080\">INFO    </span> Instantiating logger <span style=\"font-weight: bold\">&lt;</span><span style=\"color: #ff00ff; text-decoration-color: #ff00ff; font-weight: bold\">lightning.pytorch.loggers.csv_logs.CSVLogger</span><span style=\"font-weight: bold\">&gt;</span>      <a href=\"file:///home/zhang/Projects/3d/ProteinWorkshop/proteinworkshop/utils/loggers.py\" target=\"_blank\"><span style=\"color: #7f7f7f; text-decoration-color: #7f7f7f\">loggers.py</span></a><span style=\"color: #7f7f7f; text-decoration-color: #7f7f7f\">:</span><a href=\"file:///home/zhang/Projects/3d/ProteinWorkshop/proteinworkshop/utils/loggers.py#31\" target=\"_blank\"><span style=\"color: #7f7f7f; text-decoration-color: #7f7f7f\">31</span></a>\n",
       "</pre>\n"
      ],
      "text/plain": [
       "\u001b[2;36m                   \u001b[0m\u001b[2;36m \u001b[0m\u001b[34mINFO    \u001b[0m Instantiating logger \u001b[1m<\u001b[0m\u001b[1;95mlightning.pytorch.loggers.csv_logs.CSVLogger\u001b[0m\u001b[1m>\u001b[0m      \u001b]8;id=919028;file:///home/zhang/Projects/3d/ProteinWorkshop/proteinworkshop/utils/loggers.py\u001b\\\u001b[2mloggers.py\u001b[0m\u001b]8;;\u001b\\\u001b[2m:\u001b[0m\u001b]8;id=370299;file:///home/zhang/Projects/3d/ProteinWorkshop/proteinworkshop/utils/loggers.py#31\u001b\\\u001b[2m31\u001b[0m\u001b]8;;\u001b\\\n"
      ]
     },
     "metadata": {},
     "output_type": "display_data"
    },
    {
     "data": {
      "text/html": [
       "<pre style=\"white-space:pre;overflow-x:auto;line-height:normal;font-family:Menlo,'DejaVu Sans Mono',consolas,'Courier New',monospace\"><span style=\"color: #7fbfbf; text-decoration-color: #7fbfbf\">                    </span><span style=\"color: #000080; text-decoration-color: #000080\">INFO    </span> Instantiating trainer<span style=\"color: #808000; text-decoration-color: #808000\">...</span>                                               <a href=\"file:///home/zhang/Projects/3d/ProteinWorkshop/proteinworkshop/finetune.py\" target=\"_blank\"><span style=\"color: #7f7f7f; text-decoration-color: #7f7f7f\">finetune.py</span></a><span style=\"color: #7f7f7f; text-decoration-color: #7f7f7f\">:</span><a href=\"file:///home/zhang/Projects/3d/ProteinWorkshop/proteinworkshop/finetune.py#115\" target=\"_blank\"><span style=\"color: #7f7f7f; text-decoration-color: #7f7f7f\">115</span></a>\n",
       "</pre>\n"
      ],
      "text/plain": [
       "\u001b[2;36m                   \u001b[0m\u001b[2;36m \u001b[0m\u001b[34mINFO    \u001b[0m Instantiating trainer\u001b[33m...\u001b[0m                                               \u001b]8;id=423144;file:///home/zhang/Projects/3d/ProteinWorkshop/proteinworkshop/finetune.py\u001b\\\u001b[2mfinetune.py\u001b[0m\u001b]8;;\u001b\\\u001b[2m:\u001b[0m\u001b]8;id=286558;file:///home/zhang/Projects/3d/ProteinWorkshop/proteinworkshop/finetune.py#115\u001b\\\u001b[2m115\u001b[0m\u001b]8;;\u001b\\\n"
      ]
     },
     "metadata": {},
     "output_type": "display_data"
    },
    {
     "name": "stderr",
     "output_type": "stream",
     "text": [
      "Trainer already configured with model summary callbacks: [<class 'lightning.pytorch.callbacks.rich_model_summary.RichModelSummary'>]. Skipping setting a default `ModelSummary` callback.\n",
      "GPU available: True (cuda), used: True\n",
      "TPU available: False, using: 0 TPU cores\n",
      "HPU available: False, using: 0 HPUs\n"
     ]
    },
    {
     "data": {
      "text/html": [
       "<pre style=\"white-space:pre;overflow-x:auto;line-height:normal;font-family:Menlo,'DejaVu Sans Mono',consolas,'Courier New',monospace\"><span style=\"color: #7fbfbf; text-decoration-color: #7fbfbf\">                    </span><span style=\"color: #000080; text-decoration-color: #000080\">INFO    </span> Instantiating model<span style=\"color: #808000; text-decoration-color: #808000\">...</span>                                                 <a href=\"file:///home/zhang/Projects/3d/ProteinWorkshop/proteinworkshop/finetune.py\" target=\"_blank\"><span style=\"color: #7f7f7f; text-decoration-color: #7f7f7f\">finetune.py</span></a><span style=\"color: #7f7f7f; text-decoration-color: #7f7f7f\">:</span><a href=\"file:///home/zhang/Projects/3d/ProteinWorkshop/proteinworkshop/finetune.py#139\" target=\"_blank\"><span style=\"color: #7f7f7f; text-decoration-color: #7f7f7f\">139</span></a>\n",
       "</pre>\n"
      ],
      "text/plain": [
       "\u001b[2;36m                   \u001b[0m\u001b[2;36m \u001b[0m\u001b[34mINFO    \u001b[0m Instantiating model\u001b[33m...\u001b[0m                                                 \u001b]8;id=633545;file:///home/zhang/Projects/3d/ProteinWorkshop/proteinworkshop/finetune.py\u001b\\\u001b[2mfinetune.py\u001b[0m\u001b]8;;\u001b\\\u001b[2m:\u001b[0m\u001b]8;id=435154;file:///home/zhang/Projects/3d/ProteinWorkshop/proteinworkshop/finetune.py#139\u001b\\\u001b[2m139\u001b[0m\u001b]8;;\u001b\\\n"
      ]
     },
     "metadata": {},
     "output_type": "display_data"
    },
    {
     "data": {
      "text/html": [
       "<pre style=\"white-space:pre;overflow-x:auto;line-height:normal;font-family:Menlo,'DejaVu Sans Mono',consolas,'Courier New',monospace\"><span style=\"color: #7fbfbf; text-decoration-color: #7fbfbf\">                    </span><span style=\"color: #000080; text-decoration-color: #000080\">INFO    </span> Instantiating encoder<span style=\"color: #808000; text-decoration-color: #808000\">...</span>                                                   <a href=\"file:///home/zhang/Projects/3d/ProteinWorkshop/proteinworkshop/models/base.py\" target=\"_blank\"><span style=\"color: #7f7f7f; text-decoration-color: #7f7f7f\">base.py</span></a><span style=\"color: #7f7f7f; text-decoration-color: #7f7f7f\">:</span><a href=\"file:///home/zhang/Projects/3d/ProteinWorkshop/proteinworkshop/models/base.py#413\" target=\"_blank\"><span style=\"color: #7f7f7f; text-decoration-color: #7f7f7f\">413</span></a>\n",
       "</pre>\n"
      ],
      "text/plain": [
       "\u001b[2;36m                   \u001b[0m\u001b[2;36m \u001b[0m\u001b[34mINFO    \u001b[0m Instantiating encoder\u001b[33m...\u001b[0m                                                   \u001b]8;id=775722;file:///home/zhang/Projects/3d/ProteinWorkshop/proteinworkshop/models/base.py\u001b\\\u001b[2mbase.py\u001b[0m\u001b]8;;\u001b\\\u001b[2m:\u001b[0m\u001b]8;id=889558;file:///home/zhang/Projects/3d/ProteinWorkshop/proteinworkshop/models/base.py#413\u001b\\\u001b[2m413\u001b[0m\u001b]8;;\u001b\\\n"
      ]
     },
     "metadata": {},
     "output_type": "display_data"
    },
    {
     "name": "stderr",
     "output_type": "stream",
     "text": [
      "/home/zhang/miniconda3/envs/3d/lib/python3.10/site-packages/torch/nn/modules/lazy.py:180: UserWarning:\n",
      "\n",
      "Lazy modules are a new feature under heavy development so changes to the API or functionality can happen at any moment.\n",
      "\n"
     ]
    },
    {
     "data": {
      "text/html": [
       "<pre style=\"white-space:pre;overflow-x:auto;line-height:normal;font-family:Menlo,'DejaVu Sans Mono',consolas,'Courier New',monospace\"><span style=\"color: #7fbfbf; text-decoration-color: #7fbfbf\">                    </span><span style=\"color: #000080; text-decoration-color: #000080\">INFO    </span> <span style=\"color: #800080; text-decoration-color: #800080; font-weight: bold\">SchNetModel</span><span style=\"font-weight: bold\">(</span><span style=\"color: #808000; text-decoration-color: #808000\">hidden_channels</span>=<span style=\"color: #008080; text-decoration-color: #008080; font-weight: bold\">512</span>, <span style=\"color: #808000; text-decoration-color: #808000\">num_filters</span>=<span style=\"color: #008080; text-decoration-color: #008080; font-weight: bold\">128</span>, <span style=\"color: #808000; text-decoration-color: #808000\">num_interactions</span>=<span style=\"color: #008080; text-decoration-color: #008080; font-weight: bold\">6</span>,      <a href=\"file:///home/zhang/Projects/3d/ProteinWorkshop/proteinworkshop/models/base.py\" target=\"_blank\"><span style=\"color: #7f7f7f; text-decoration-color: #7f7f7f\">base.py</span></a><span style=\"color: #7f7f7f; text-decoration-color: #7f7f7f\">:</span><a href=\"file:///home/zhang/Projects/3d/ProteinWorkshop/proteinworkshop/models/base.py#415\" target=\"_blank\"><span style=\"color: #7f7f7f; text-decoration-color: #7f7f7f\">415</span></a>\n",
       "<span style=\"color: #7fbfbf; text-decoration-color: #7fbfbf\">                    </span>         <span style=\"color: #808000; text-decoration-color: #808000\">num_gaussians</span>=<span style=\"color: #008080; text-decoration-color: #008080; font-weight: bold\">50</span>, <span style=\"color: #808000; text-decoration-color: #808000\">cutoff</span>=<span style=\"color: #008080; text-decoration-color: #008080; font-weight: bold\">10.0</span><span style=\"font-weight: bold\">)</span>                                             <span style=\"color: #7f7f7f; text-decoration-color: #7f7f7f\">           </span>\n",
       "</pre>\n"
      ],
      "text/plain": [
       "\u001b[2;36m                   \u001b[0m\u001b[2;36m \u001b[0m\u001b[34mINFO    \u001b[0m \u001b[1;35mSchNetModel\u001b[0m\u001b[1m(\u001b[0m\u001b[33mhidden_channels\u001b[0m=\u001b[1;36m512\u001b[0m, \u001b[33mnum_filters\u001b[0m=\u001b[1;36m128\u001b[0m, \u001b[33mnum_interactions\u001b[0m=\u001b[1;36m6\u001b[0m,      \u001b]8;id=389348;file:///home/zhang/Projects/3d/ProteinWorkshop/proteinworkshop/models/base.py\u001b\\\u001b[2mbase.py\u001b[0m\u001b]8;;\u001b\\\u001b[2m:\u001b[0m\u001b]8;id=829512;file:///home/zhang/Projects/3d/ProteinWorkshop/proteinworkshop/models/base.py#415\u001b\\\u001b[2m415\u001b[0m\u001b]8;;\u001b\\\n",
       "\u001b[2;36m                    \u001b[0m         \u001b[33mnum_gaussians\u001b[0m=\u001b[1;36m50\u001b[0m, \u001b[33mcutoff\u001b[0m=\u001b[1;36m10\u001b[0m\u001b[1;36m.0\u001b[0m\u001b[1m)\u001b[0m                                             \u001b[2m           \u001b[0m\n"
      ]
     },
     "metadata": {},
     "output_type": "display_data"
    },
    {
     "data": {
      "text/html": [
       "<pre style=\"white-space:pre;overflow-x:auto;line-height:normal;font-family:Menlo,'DejaVu Sans Mono',consolas,'Courier New',monospace\"><span style=\"color: #7fbfbf; text-decoration-color: #7fbfbf\">                    </span><span style=\"color: #000080; text-decoration-color: #000080\">INFO    </span> Instantiating decoders<span style=\"color: #808000; text-decoration-color: #808000\">...</span>                                                  <a href=\"file:///home/zhang/Projects/3d/ProteinWorkshop/proteinworkshop/models/base.py\" target=\"_blank\"><span style=\"color: #7f7f7f; text-decoration-color: #7f7f7f\">base.py</span></a><span style=\"color: #7f7f7f; text-decoration-color: #7f7f7f\">:</span><a href=\"file:///home/zhang/Projects/3d/ProteinWorkshop/proteinworkshop/models/base.py#417\" target=\"_blank\"><span style=\"color: #7f7f7f; text-decoration-color: #7f7f7f\">417</span></a>\n",
       "</pre>\n"
      ],
      "text/plain": [
       "\u001b[2;36m                   \u001b[0m\u001b[2;36m \u001b[0m\u001b[34mINFO    \u001b[0m Instantiating decoders\u001b[33m...\u001b[0m                                                  \u001b]8;id=192863;file:///home/zhang/Projects/3d/ProteinWorkshop/proteinworkshop/models/base.py\u001b\\\u001b[2mbase.py\u001b[0m\u001b]8;;\u001b\\\u001b[2m:\u001b[0m\u001b]8;id=4749;file:///home/zhang/Projects/3d/ProteinWorkshop/proteinworkshop/models/base.py#417\u001b\\\u001b[2m417\u001b[0m\u001b]8;;\u001b\\\n"
      ]
     },
     "metadata": {},
     "output_type": "display_data"
    },
    {
     "data": {
      "text/html": [
       "<pre style=\"white-space:pre;overflow-x:auto;line-height:normal;font-family:Menlo,'DejaVu Sans Mono',consolas,'Courier New',monospace\"><span style=\"color: #7fbfbf; text-decoration-color: #7fbfbf\">                    </span><span style=\"color: #000080; text-decoration-color: #000080\">INFO    </span> Building graph_label decoder. Output dim <span style=\"color: #008080; text-decoration-color: #008080; font-weight: bold\">1195</span>                              <a href=\"file:///home/zhang/Projects/3d/ProteinWorkshop/proteinworkshop/models/base.py\" target=\"_blank\"><span style=\"color: #7f7f7f; text-decoration-color: #7f7f7f\">base.py</span></a><span style=\"color: #7f7f7f; text-decoration-color: #7f7f7f\">:</span><a href=\"file:///home/zhang/Projects/3d/ProteinWorkshop/proteinworkshop/models/base.py#252\" target=\"_blank\"><span style=\"color: #7f7f7f; text-decoration-color: #7f7f7f\">252</span></a>\n",
       "</pre>\n"
      ],
      "text/plain": [
       "\u001b[2;36m                   \u001b[0m\u001b[2;36m \u001b[0m\u001b[34mINFO    \u001b[0m Building graph_label decoder. Output dim \u001b[1;36m1195\u001b[0m                              \u001b]8;id=12853;file:///home/zhang/Projects/3d/ProteinWorkshop/proteinworkshop/models/base.py\u001b\\\u001b[2mbase.py\u001b[0m\u001b]8;;\u001b\\\u001b[2m:\u001b[0m\u001b]8;id=296535;file:///home/zhang/Projects/3d/ProteinWorkshop/proteinworkshop/models/base.py#252\u001b\\\u001b[2m252\u001b[0m\u001b]8;;\u001b\\\n"
      ]
     },
     "metadata": {},
     "output_type": "display_data"
    },
    {
     "data": {
      "text/html": [
       "<pre style=\"white-space:pre;overflow-x:auto;line-height:normal;font-family:Menlo,'DejaVu Sans Mono',consolas,'Courier New',monospace\"><span style=\"color: #7fbfbf; text-decoration-color: #7fbfbf\">                    </span><span style=\"color: #000080; text-decoration-color: #000080\">INFO    </span> <span style=\"font-weight: bold\">{</span><span style=\"color: #008000; text-decoration-color: #008000\">'_target_'</span>: <span style=\"color: #008000; text-decoration-color: #008000\">'proteinworkshop.models.decoders.mlp_decoder.MLPDecoder'</span>,     <a href=\"file:///home/zhang/Projects/3d/ProteinWorkshop/proteinworkshop/models/base.py\" target=\"_blank\"><span style=\"color: #7f7f7f; text-decoration-color: #7f7f7f\">base.py</span></a><span style=\"color: #7f7f7f; text-decoration-color: #7f7f7f\">:</span><a href=\"file:///home/zhang/Projects/3d/ProteinWorkshop/proteinworkshop/models/base.py#255\" target=\"_blank\"><span style=\"color: #7f7f7f; text-decoration-color: #7f7f7f\">255</span></a>\n",
       "<span style=\"color: #7fbfbf; text-decoration-color: #7fbfbf\">                    </span>         <span style=\"color: #008000; text-decoration-color: #008000\">'hidden_dim'</span>: <span style=\"font-weight: bold\">[</span><span style=\"color: #008080; text-decoration-color: #008080; font-weight: bold\">512</span>, <span style=\"color: #008080; text-decoration-color: #008080; font-weight: bold\">512</span>, <span style=\"color: #008080; text-decoration-color: #008080; font-weight: bold\">512</span><span style=\"font-weight: bold\">]</span>, <span style=\"color: #008000; text-decoration-color: #008000\">'dropout'</span>: <span style=\"color: #008080; text-decoration-color: #008080; font-weight: bold\">0.0</span>, <span style=\"color: #008000; text-decoration-color: #008000\">'activations'</span>: <span style=\"font-weight: bold\">[</span><span style=\"color: #008000; text-decoration-color: #008000\">'relu'</span>,     <span style=\"color: #7f7f7f; text-decoration-color: #7f7f7f\">           </span>\n",
       "<span style=\"color: #7fbfbf; text-decoration-color: #7fbfbf\">                    </span>         <span style=\"color: #008000; text-decoration-color: #008000\">'relu'</span>, <span style=\"color: #008000; text-decoration-color: #008000\">'relu'</span>, <span style=\"color: #008000; text-decoration-color: #008000\">'none'</span><span style=\"font-weight: bold\">]</span>, <span style=\"color: #008000; text-decoration-color: #008000\">'skip'</span>: <span style=\"color: #008000; text-decoration-color: #008000\">'concat'</span>, <span style=\"color: #008000; text-decoration-color: #008000\">'out_dim'</span>:                      <span style=\"color: #7f7f7f; text-decoration-color: #7f7f7f\">           </span>\n",
       "<span style=\"color: #7fbfbf; text-decoration-color: #7fbfbf\">                    </span>         <span style=\"color: #008000; text-decoration-color: #008000\">'${dataset.num_classes}'</span>, <span style=\"color: #008000; text-decoration-color: #008000\">'input'</span>: <span style=\"color: #008000; text-decoration-color: #008000\">'graph_embedding'</span>, <span style=\"color: #008000; text-decoration-color: #008000\">'dummy'</span>: <span style=\"color: #ff0000; text-decoration-color: #ff0000; font-style: italic\">False</span><span style=\"font-weight: bold\">}</span>      <span style=\"color: #7f7f7f; text-decoration-color: #7f7f7f\">           </span>\n",
       "</pre>\n"
      ],
      "text/plain": [
       "\u001b[2;36m                   \u001b[0m\u001b[2;36m \u001b[0m\u001b[34mINFO    \u001b[0m \u001b[1m{\u001b[0m\u001b[32m'_target_'\u001b[0m: \u001b[32m'proteinworkshop.models.decoders.mlp_decoder.MLPDecoder'\u001b[0m,     \u001b]8;id=480624;file:///home/zhang/Projects/3d/ProteinWorkshop/proteinworkshop/models/base.py\u001b\\\u001b[2mbase.py\u001b[0m\u001b]8;;\u001b\\\u001b[2m:\u001b[0m\u001b]8;id=356007;file:///home/zhang/Projects/3d/ProteinWorkshop/proteinworkshop/models/base.py#255\u001b\\\u001b[2m255\u001b[0m\u001b]8;;\u001b\\\n",
       "\u001b[2;36m                    \u001b[0m         \u001b[32m'hidden_dim'\u001b[0m: \u001b[1m[\u001b[0m\u001b[1;36m512\u001b[0m, \u001b[1;36m512\u001b[0m, \u001b[1;36m512\u001b[0m\u001b[1m]\u001b[0m, \u001b[32m'dropout'\u001b[0m: \u001b[1;36m0.0\u001b[0m, \u001b[32m'activations'\u001b[0m: \u001b[1m[\u001b[0m\u001b[32m'relu'\u001b[0m,     \u001b[2m           \u001b[0m\n",
       "\u001b[2;36m                    \u001b[0m         \u001b[32m'relu'\u001b[0m, \u001b[32m'relu'\u001b[0m, \u001b[32m'none'\u001b[0m\u001b[1m]\u001b[0m, \u001b[32m'skip'\u001b[0m: \u001b[32m'concat'\u001b[0m, \u001b[32m'out_dim'\u001b[0m:                      \u001b[2m           \u001b[0m\n",
       "\u001b[2;36m                    \u001b[0m         \u001b[32m'$\u001b[0m\u001b[32m{\u001b[0m\u001b[32mdataset.num_classes\u001b[0m\u001b[32m}\u001b[0m\u001b[32m'\u001b[0m, \u001b[32m'input'\u001b[0m: \u001b[32m'graph_embedding'\u001b[0m, \u001b[32m'dummy'\u001b[0m: \u001b[3;91mFalse\u001b[0m\u001b[1m}\u001b[0m      \u001b[2m           \u001b[0m\n"
      ]
     },
     "metadata": {},
     "output_type": "display_data"
    },
    {
     "data": {
      "text/html": [
       "<pre style=\"white-space:pre;overflow-x:auto;line-height:normal;font-family:Menlo,'DejaVu Sans Mono',consolas,'Courier New',monospace\"><span style=\"color: #7fbfbf; text-decoration-color: #7fbfbf\">                    </span><span style=\"color: #000080; text-decoration-color: #000080\">INFO    </span> Using skip connection in decoder.                                   <a href=\"file:///home/zhang/Projects/3d/ProteinWorkshop/proteinworkshop/models/decoders/mlp_decoder.py\" target=\"_blank\"><span style=\"color: #7f7f7f; text-decoration-color: #7f7f7f\">mlp_decoder.py</span></a><span style=\"color: #7f7f7f; text-decoration-color: #7f7f7f\">:</span><a href=\"file:///home/zhang/Projects/3d/ProteinWorkshop/proteinworkshop/models/decoders/mlp_decoder.py#125\" target=\"_blank\"><span style=\"color: #7f7f7f; text-decoration-color: #7f7f7f\">125</span></a>\n",
       "</pre>\n"
      ],
      "text/plain": [
       "\u001b[2;36m                   \u001b[0m\u001b[2;36m \u001b[0m\u001b[34mINFO    \u001b[0m Using skip connection in decoder.                                   \u001b]8;id=302257;file:///home/zhang/Projects/3d/ProteinWorkshop/proteinworkshop/models/decoders/mlp_decoder.py\u001b\\\u001b[2mmlp_decoder.py\u001b[0m\u001b]8;;\u001b\\\u001b[2m:\u001b[0m\u001b]8;id=348383;file:///home/zhang/Projects/3d/ProteinWorkshop/proteinworkshop/models/decoders/mlp_decoder.py#125\u001b\\\u001b[2m125\u001b[0m\u001b]8;;\u001b\\\n"
      ]
     },
     "metadata": {},
     "output_type": "display_data"
    },
    {
     "data": {
      "text/html": [
       "<pre style=\"white-space:pre;overflow-x:auto;line-height:normal;font-family:Menlo,'DejaVu Sans Mono',consolas,'Courier New',monospace\"><span style=\"color: #7fbfbf; text-decoration-color: #7fbfbf\">                    </span><span style=\"color: #000080; text-decoration-color: #000080\">INFO    </span> <span style=\"color: #800080; text-decoration-color: #800080; font-weight: bold\">ModuleDict</span><span style=\"font-weight: bold\">(</span>                                                                <a href=\"file:///home/zhang/Projects/3d/ProteinWorkshop/proteinworkshop/models/base.py\" target=\"_blank\"><span style=\"color: #7f7f7f; text-decoration-color: #7f7f7f\">base.py</span></a><span style=\"color: #7f7f7f; text-decoration-color: #7f7f7f\">:</span><a href=\"file:///home/zhang/Projects/3d/ProteinWorkshop/proteinworkshop/models/base.py#419\" target=\"_blank\"><span style=\"color: #7f7f7f; text-decoration-color: #7f7f7f\">419</span></a>\n",
       "<span style=\"color: #7fbfbf; text-decoration-color: #7fbfbf\">                    </span>           <span style=\"font-weight: bold\">(</span>graph_label<span style=\"font-weight: bold\">)</span>: <span style=\"color: #800080; text-decoration-color: #800080; font-weight: bold\">MLPDecoder</span><span style=\"font-weight: bold\">(</span>                                               <span style=\"color: #7f7f7f; text-decoration-color: #7f7f7f\">           </span>\n",
       "<span style=\"color: #7fbfbf; text-decoration-color: #7fbfbf\">                    </span>             <span style=\"font-weight: bold\">(</span>layers<span style=\"font-weight: bold\">)</span>: <span style=\"color: #800080; text-decoration-color: #800080; font-weight: bold\">LinearSkipBlock</span><span style=\"font-weight: bold\">(</span>                                             <span style=\"color: #7f7f7f; text-decoration-color: #7f7f7f\">           </span>\n",
       "<span style=\"color: #7fbfbf; text-decoration-color: #7fbfbf\">                    </span>               <span style=\"font-weight: bold\">(</span>layers<span style=\"font-weight: bold\">)</span>: <span style=\"color: #800080; text-decoration-color: #800080; font-weight: bold\">ModuleList</span><span style=\"font-weight: bold\">(</span>                                                <span style=\"color: #7f7f7f; text-decoration-color: #7f7f7f\">           </span>\n",
       "<span style=\"color: #7fbfbf; text-decoration-color: #7fbfbf\">                    </span>                 <span style=\"font-weight: bold\">(</span><span style=\"color: #008080; text-decoration-color: #008080; font-weight: bold\">0</span>-<span style=\"color: #008080; text-decoration-color: #008080; font-weight: bold\">2</span><span style=\"font-weight: bold\">)</span>: <span style=\"color: #008080; text-decoration-color: #008080; font-weight: bold\">3</span> x <span style=\"color: #800080; text-decoration-color: #800080; font-weight: bold\">LazyLinear</span><span style=\"font-weight: bold\">(</span><span style=\"color: #808000; text-decoration-color: #808000\">in_features</span>=<span style=\"color: #008080; text-decoration-color: #008080; font-weight: bold\">0</span>, <span style=\"color: #808000; text-decoration-color: #808000\">out_features</span>=<span style=\"color: #008080; text-decoration-color: #008080; font-weight: bold\">512</span>, <span style=\"color: #808000; text-decoration-color: #808000\">bias</span>=<span style=\"color: #00ff00; text-decoration-color: #00ff00; font-style: italic\">True</span><span style=\"font-weight: bold\">)</span>  <span style=\"color: #7f7f7f; text-decoration-color: #7f7f7f\">           </span>\n",
       "<span style=\"color: #7fbfbf; text-decoration-color: #7fbfbf\">                    </span>                 <span style=\"font-weight: bold\">(</span><span style=\"color: #008080; text-decoration-color: #008080; font-weight: bold\">3</span><span style=\"font-weight: bold\">)</span>: <span style=\"color: #800080; text-decoration-color: #800080; font-weight: bold\">LazyLinear</span><span style=\"font-weight: bold\">(</span><span style=\"color: #808000; text-decoration-color: #808000\">in_features</span>=<span style=\"color: #008080; text-decoration-color: #008080; font-weight: bold\">0</span>, <span style=\"color: #808000; text-decoration-color: #808000\">out_features</span>=<span style=\"color: #008080; text-decoration-color: #008080; font-weight: bold\">1195</span>, <span style=\"color: #808000; text-decoration-color: #808000\">bias</span>=<span style=\"color: #00ff00; text-decoration-color: #00ff00; font-style: italic\">True</span><span style=\"font-weight: bold\">)</span>       <span style=\"color: #7f7f7f; text-decoration-color: #7f7f7f\">           </span>\n",
       "<span style=\"color: #7fbfbf; text-decoration-color: #7fbfbf\">                    </span>               <span style=\"font-weight: bold\">)</span>                                                                    <span style=\"color: #7f7f7f; text-decoration-color: #7f7f7f\">           </span>\n",
       "<span style=\"color: #7fbfbf; text-decoration-color: #7fbfbf\">                    </span>               <span style=\"font-weight: bold\">(</span>activations<span style=\"font-weight: bold\">)</span>: <span style=\"color: #800080; text-decoration-color: #800080; font-weight: bold\">ModuleList</span><span style=\"font-weight: bold\">(</span>                                           <span style=\"color: #7f7f7f; text-decoration-color: #7f7f7f\">           </span>\n",
       "<span style=\"color: #7fbfbf; text-decoration-color: #7fbfbf\">                    </span>                 <span style=\"font-weight: bold\">(</span><span style=\"color: #008080; text-decoration-color: #008080; font-weight: bold\">0</span>-<span style=\"color: #008080; text-decoration-color: #008080; font-weight: bold\">2</span><span style=\"font-weight: bold\">)</span>: <span style=\"color: #008080; text-decoration-color: #008080; font-weight: bold\">3</span> x <span style=\"color: #800080; text-decoration-color: #800080; font-weight: bold\">ReLU</span><span style=\"font-weight: bold\">()</span>                                                  <span style=\"color: #7f7f7f; text-decoration-color: #7f7f7f\">           </span>\n",
       "<span style=\"color: #7fbfbf; text-decoration-color: #7fbfbf\">                    </span>                 <span style=\"font-weight: bold\">(</span><span style=\"color: #008080; text-decoration-color: #008080; font-weight: bold\">3</span><span style=\"font-weight: bold\">)</span>: <span style=\"color: #800080; text-decoration-color: #800080; font-weight: bold\">Identity</span><span style=\"font-weight: bold\">()</span>                                                    <span style=\"color: #7f7f7f; text-decoration-color: #7f7f7f\">           </span>\n",
       "<span style=\"color: #7fbfbf; text-decoration-color: #7fbfbf\">                    </span>               <span style=\"font-weight: bold\">)</span>                                                                    <span style=\"color: #7f7f7f; text-decoration-color: #7f7f7f\">           </span>\n",
       "<span style=\"color: #7fbfbf; text-decoration-color: #7fbfbf\">                    </span>               <span style=\"font-weight: bold\">(</span>dropout_layers<span style=\"font-weight: bold\">)</span>: <span style=\"color: #800080; text-decoration-color: #800080; font-weight: bold\">ModuleList</span><span style=\"font-weight: bold\">(</span>                                        <span style=\"color: #7f7f7f; text-decoration-color: #7f7f7f\">           </span>\n",
       "<span style=\"color: #7fbfbf; text-decoration-color: #7fbfbf\">                    </span>                 <span style=\"font-weight: bold\">(</span><span style=\"color: #008080; text-decoration-color: #008080; font-weight: bold\">0</span>-<span style=\"color: #008080; text-decoration-color: #008080; font-weight: bold\">2</span><span style=\"font-weight: bold\">)</span>: <span style=\"color: #008080; text-decoration-color: #008080; font-weight: bold\">3</span> x <span style=\"color: #800080; text-decoration-color: #800080; font-weight: bold\">Dropout</span><span style=\"font-weight: bold\">(</span><span style=\"color: #808000; text-decoration-color: #808000\">p</span>=<span style=\"color: #008080; text-decoration-color: #008080; font-weight: bold\">0.0</span>, <span style=\"color: #808000; text-decoration-color: #808000\">inplace</span>=<span style=\"color: #ff0000; text-decoration-color: #ff0000; font-style: italic\">False</span><span style=\"font-weight: bold\">)</span>                           <span style=\"color: #7f7f7f; text-decoration-color: #7f7f7f\">           </span>\n",
       "<span style=\"color: #7fbfbf; text-decoration-color: #7fbfbf\">                    </span>               <span style=\"font-weight: bold\">)</span>                                                                    <span style=\"color: #7f7f7f; text-decoration-color: #7f7f7f\">           </span>\n",
       "<span style=\"color: #7fbfbf; text-decoration-color: #7fbfbf\">                    </span>             <span style=\"font-weight: bold\">)</span>                                                                      <span style=\"color: #7f7f7f; text-decoration-color: #7f7f7f\">           </span>\n",
       "<span style=\"color: #7fbfbf; text-decoration-color: #7fbfbf\">                    </span>           <span style=\"font-weight: bold\">)</span>                                                                        <span style=\"color: #7f7f7f; text-decoration-color: #7f7f7f\">           </span>\n",
       "<span style=\"color: #7fbfbf; text-decoration-color: #7fbfbf\">                    </span>         <span style=\"font-weight: bold\">)</span>                                                                          <span style=\"color: #7f7f7f; text-decoration-color: #7f7f7f\">           </span>\n",
       "</pre>\n"
      ],
      "text/plain": [
       "\u001b[2;36m                   \u001b[0m\u001b[2;36m \u001b[0m\u001b[34mINFO    \u001b[0m \u001b[1;35mModuleDict\u001b[0m\u001b[1m(\u001b[0m                                                                \u001b]8;id=812466;file:///home/zhang/Projects/3d/ProteinWorkshop/proteinworkshop/models/base.py\u001b\\\u001b[2mbase.py\u001b[0m\u001b]8;;\u001b\\\u001b[2m:\u001b[0m\u001b]8;id=384499;file:///home/zhang/Projects/3d/ProteinWorkshop/proteinworkshop/models/base.py#419\u001b\\\u001b[2m419\u001b[0m\u001b]8;;\u001b\\\n",
       "\u001b[2;36m                    \u001b[0m           \u001b[1m(\u001b[0mgraph_label\u001b[1m)\u001b[0m: \u001b[1;35mMLPDecoder\u001b[0m\u001b[1m(\u001b[0m                                               \u001b[2m           \u001b[0m\n",
       "\u001b[2;36m                    \u001b[0m             \u001b[1m(\u001b[0mlayers\u001b[1m)\u001b[0m: \u001b[1;35mLinearSkipBlock\u001b[0m\u001b[1m(\u001b[0m                                             \u001b[2m           \u001b[0m\n",
       "\u001b[2;36m                    \u001b[0m               \u001b[1m(\u001b[0mlayers\u001b[1m)\u001b[0m: \u001b[1;35mModuleList\u001b[0m\u001b[1m(\u001b[0m                                                \u001b[2m           \u001b[0m\n",
       "\u001b[2;36m                    \u001b[0m                 \u001b[1m(\u001b[0m\u001b[1;36m0\u001b[0m-\u001b[1;36m2\u001b[0m\u001b[1m)\u001b[0m: \u001b[1;36m3\u001b[0m x \u001b[1;35mLazyLinear\u001b[0m\u001b[1m(\u001b[0m\u001b[33min_features\u001b[0m=\u001b[1;36m0\u001b[0m, \u001b[33mout_features\u001b[0m=\u001b[1;36m512\u001b[0m, \u001b[33mbias\u001b[0m=\u001b[3;92mTrue\u001b[0m\u001b[1m)\u001b[0m  \u001b[2m           \u001b[0m\n",
       "\u001b[2;36m                    \u001b[0m                 \u001b[1m(\u001b[0m\u001b[1;36m3\u001b[0m\u001b[1m)\u001b[0m: \u001b[1;35mLazyLinear\u001b[0m\u001b[1m(\u001b[0m\u001b[33min_features\u001b[0m=\u001b[1;36m0\u001b[0m, \u001b[33mout_features\u001b[0m=\u001b[1;36m1195\u001b[0m, \u001b[33mbias\u001b[0m=\u001b[3;92mTrue\u001b[0m\u001b[1m)\u001b[0m       \u001b[2m           \u001b[0m\n",
       "\u001b[2;36m                    \u001b[0m               \u001b[1m)\u001b[0m                                                                    \u001b[2m           \u001b[0m\n",
       "\u001b[2;36m                    \u001b[0m               \u001b[1m(\u001b[0mactivations\u001b[1m)\u001b[0m: \u001b[1;35mModuleList\u001b[0m\u001b[1m(\u001b[0m                                           \u001b[2m           \u001b[0m\n",
       "\u001b[2;36m                    \u001b[0m                 \u001b[1m(\u001b[0m\u001b[1;36m0\u001b[0m-\u001b[1;36m2\u001b[0m\u001b[1m)\u001b[0m: \u001b[1;36m3\u001b[0m x \u001b[1;35mReLU\u001b[0m\u001b[1m(\u001b[0m\u001b[1m)\u001b[0m                                                  \u001b[2m           \u001b[0m\n",
       "\u001b[2;36m                    \u001b[0m                 \u001b[1m(\u001b[0m\u001b[1;36m3\u001b[0m\u001b[1m)\u001b[0m: \u001b[1;35mIdentity\u001b[0m\u001b[1m(\u001b[0m\u001b[1m)\u001b[0m                                                    \u001b[2m           \u001b[0m\n",
       "\u001b[2;36m                    \u001b[0m               \u001b[1m)\u001b[0m                                                                    \u001b[2m           \u001b[0m\n",
       "\u001b[2;36m                    \u001b[0m               \u001b[1m(\u001b[0mdropout_layers\u001b[1m)\u001b[0m: \u001b[1;35mModuleList\u001b[0m\u001b[1m(\u001b[0m                                        \u001b[2m           \u001b[0m\n",
       "\u001b[2;36m                    \u001b[0m                 \u001b[1m(\u001b[0m\u001b[1;36m0\u001b[0m-\u001b[1;36m2\u001b[0m\u001b[1m)\u001b[0m: \u001b[1;36m3\u001b[0m x \u001b[1;35mDropout\u001b[0m\u001b[1m(\u001b[0m\u001b[33mp\u001b[0m=\u001b[1;36m0\u001b[0m\u001b[1;36m.0\u001b[0m, \u001b[33minplace\u001b[0m=\u001b[3;91mFalse\u001b[0m\u001b[1m)\u001b[0m                           \u001b[2m           \u001b[0m\n",
       "\u001b[2;36m                    \u001b[0m               \u001b[1m)\u001b[0m                                                                    \u001b[2m           \u001b[0m\n",
       "\u001b[2;36m                    \u001b[0m             \u001b[1m)\u001b[0m                                                                      \u001b[2m           \u001b[0m\n",
       "\u001b[2;36m                    \u001b[0m           \u001b[1m)\u001b[0m                                                                        \u001b[2m           \u001b[0m\n",
       "\u001b[2;36m                    \u001b[0m         \u001b[1m)\u001b[0m                                                                          \u001b[2m           \u001b[0m\n"
      ]
     },
     "metadata": {},
     "output_type": "display_data"
    },
    {
     "data": {
      "text/html": [
       "<pre style=\"white-space:pre;overflow-x:auto;line-height:normal;font-family:Menlo,'DejaVu Sans Mono',consolas,'Courier New',monospace\"><span style=\"color: #7fbfbf; text-decoration-color: #7fbfbf\">                    </span><span style=\"color: #000080; text-decoration-color: #000080\">INFO    </span> Instantiating losses<span style=\"color: #808000; text-decoration-color: #808000\">...</span>                                                    <a href=\"file:///home/zhang/Projects/3d/ProteinWorkshop/proteinworkshop/models/base.py\" target=\"_blank\"><span style=\"color: #7f7f7f; text-decoration-color: #7f7f7f\">base.py</span></a><span style=\"color: #7f7f7f; text-decoration-color: #7f7f7f\">:</span><a href=\"file:///home/zhang/Projects/3d/ProteinWorkshop/proteinworkshop/models/base.py#421\" target=\"_blank\"><span style=\"color: #7f7f7f; text-decoration-color: #7f7f7f\">421</span></a>\n",
       "</pre>\n"
      ],
      "text/plain": [
       "\u001b[2;36m                   \u001b[0m\u001b[2;36m \u001b[0m\u001b[34mINFO    \u001b[0m Instantiating losses\u001b[33m...\u001b[0m                                                    \u001b]8;id=175267;file:///home/zhang/Projects/3d/ProteinWorkshop/proteinworkshop/models/base.py\u001b\\\u001b[2mbase.py\u001b[0m\u001b]8;;\u001b\\\u001b[2m:\u001b[0m\u001b]8;id=818367;file:///home/zhang/Projects/3d/ProteinWorkshop/proteinworkshop/models/base.py#421\u001b\\\u001b[2m421\u001b[0m\u001b]8;;\u001b\\\n"
      ]
     },
     "metadata": {},
     "output_type": "display_data"
    },
    {
     "data": {
      "text/html": [
       "<pre style=\"white-space:pre;overflow-x:auto;line-height:normal;font-family:Menlo,'DejaVu Sans Mono',consolas,'Courier New',monospace\"><span style=\"color: #7fbfbf; text-decoration-color: #7fbfbf\">                    </span><span style=\"color: #000080; text-decoration-color: #000080\">INFO    </span> Using losses: <span style=\"font-weight: bold\">{</span><span style=\"color: #008000; text-decoration-color: #008000\">'graph_label'</span>: <span style=\"color: #800080; text-decoration-color: #800080; font-weight: bold\">CrossEntropyLoss</span><span style=\"font-weight: bold\">()}</span>                          <a href=\"file:///home/zhang/Projects/3d/ProteinWorkshop/proteinworkshop/models/base.py\" target=\"_blank\"><span style=\"color: #7f7f7f; text-decoration-color: #7f7f7f\">base.py</span></a><span style=\"color: #7f7f7f; text-decoration-color: #7f7f7f\">:</span><a href=\"file:///home/zhang/Projects/3d/ProteinWorkshop/proteinworkshop/models/base.py#423\" target=\"_blank\"><span style=\"color: #7f7f7f; text-decoration-color: #7f7f7f\">423</span></a>\n",
       "</pre>\n"
      ],
      "text/plain": [
       "\u001b[2;36m                   \u001b[0m\u001b[2;36m \u001b[0m\u001b[34mINFO    \u001b[0m Using losses: \u001b[1m{\u001b[0m\u001b[32m'graph_label'\u001b[0m: \u001b[1;35mCrossEntropyLoss\u001b[0m\u001b[1m(\u001b[0m\u001b[1m)\u001b[0m\u001b[1m}\u001b[0m                          \u001b]8;id=191444;file:///home/zhang/Projects/3d/ProteinWorkshop/proteinworkshop/models/base.py\u001b\\\u001b[2mbase.py\u001b[0m\u001b]8;;\u001b\\\u001b[2m:\u001b[0m\u001b]8;id=803721;file:///home/zhang/Projects/3d/ProteinWorkshop/proteinworkshop/models/base.py#423\u001b\\\u001b[2m423\u001b[0m\u001b]8;;\u001b\\\n"
      ]
     },
     "metadata": {},
     "output_type": "display_data"
    },
    {
     "data": {
      "text/html": [
       "<pre style=\"white-space:pre;overflow-x:auto;line-height:normal;font-family:Menlo,'DejaVu Sans Mono',consolas,'Courier New',monospace\"><span style=\"color: #7fbfbf; text-decoration-color: #7fbfbf\">                    </span><span style=\"color: #000080; text-decoration-color: #000080\">INFO    </span> Not using aux loss scaling                                                 <a href=\"file:///home/zhang/Projects/3d/ProteinWorkshop/proteinworkshop/models/base.py\" target=\"_blank\"><span style=\"color: #7f7f7f; text-decoration-color: #7f7f7f\">base.py</span></a><span style=\"color: #7f7f7f; text-decoration-color: #7f7f7f\">:</span><a href=\"file:///home/zhang/Projects/3d/ProteinWorkshop/proteinworkshop/models/base.py#430\" target=\"_blank\"><span style=\"color: #7f7f7f; text-decoration-color: #7f7f7f\">430</span></a>\n",
       "</pre>\n"
      ],
      "text/plain": [
       "\u001b[2;36m                   \u001b[0m\u001b[2;36m \u001b[0m\u001b[34mINFO    \u001b[0m Not using aux loss scaling                                                 \u001b]8;id=587229;file:///home/zhang/Projects/3d/ProteinWorkshop/proteinworkshop/models/base.py\u001b\\\u001b[2mbase.py\u001b[0m\u001b]8;;\u001b\\\u001b[2m:\u001b[0m\u001b]8;id=104190;file:///home/zhang/Projects/3d/ProteinWorkshop/proteinworkshop/models/base.py#430\u001b\\\u001b[2m430\u001b[0m\u001b]8;;\u001b\\\n"
      ]
     },
     "metadata": {},
     "output_type": "display_data"
    },
    {
     "data": {
      "text/html": [
       "<pre style=\"white-space:pre;overflow-x:auto;line-height:normal;font-family:Menlo,'DejaVu Sans Mono',consolas,'Courier New',monospace\"><span style=\"color: #7fbfbf; text-decoration-color: #7fbfbf\">                    </span><span style=\"color: #000080; text-decoration-color: #000080\">INFO    </span> Configuring metrics<span style=\"color: #808000; text-decoration-color: #808000\">...</span>                                                     <a href=\"file:///home/zhang/Projects/3d/ProteinWorkshop/proteinworkshop/models/base.py\" target=\"_blank\"><span style=\"color: #7f7f7f; text-decoration-color: #7f7f7f\">base.py</span></a><span style=\"color: #7f7f7f; text-decoration-color: #7f7f7f\">:</span><a href=\"file:///home/zhang/Projects/3d/ProteinWorkshop/proteinworkshop/models/base.py#432\" target=\"_blank\"><span style=\"color: #7f7f7f; text-decoration-color: #7f7f7f\">432</span></a>\n",
       "</pre>\n"
      ],
      "text/plain": [
       "\u001b[2;36m                   \u001b[0m\u001b[2;36m \u001b[0m\u001b[34mINFO    \u001b[0m Configuring metrics\u001b[33m...\u001b[0m                                                     \u001b]8;id=864193;file:///home/zhang/Projects/3d/ProteinWorkshop/proteinworkshop/models/base.py\u001b\\\u001b[2mbase.py\u001b[0m\u001b]8;;\u001b\\\u001b[2m:\u001b[0m\u001b]8;id=923322;file:///home/zhang/Projects/3d/ProteinWorkshop/proteinworkshop/models/base.py#432\u001b\\\u001b[2m432\u001b[0m\u001b]8;;\u001b\\\n"
      ]
     },
     "metadata": {},
     "output_type": "display_data"
    },
    {
     "data": {
      "text/html": [
       "<pre style=\"white-space:pre;overflow-x:auto;line-height:normal;font-family:Menlo,'DejaVu Sans Mono',consolas,'Courier New',monospace\"><span style=\"color: #7fbfbf; text-decoration-color: #7fbfbf\">                    </span><span style=\"color: #000080; text-decoration-color: #000080\">INFO    </span> <span style=\"font-weight: bold\">[</span><span style=\"color: #008000; text-decoration-color: #008000\">'accuracy'</span>, <span style=\"color: #008000; text-decoration-color: #008000\">'f1_score'</span>, <span style=\"color: #008000; text-decoration-color: #008000\">'f1_max'</span><span style=\"font-weight: bold\">]</span>                                         <a href=\"file:///home/zhang/Projects/3d/ProteinWorkshop/proteinworkshop/models/base.py\" target=\"_blank\"><span style=\"color: #7f7f7f; text-decoration-color: #7f7f7f\">base.py</span></a><span style=\"color: #7f7f7f; text-decoration-color: #7f7f7f\">:</span><a href=\"file:///home/zhang/Projects/3d/ProteinWorkshop/proteinworkshop/models/base.py#434\" target=\"_blank\"><span style=\"color: #7f7f7f; text-decoration-color: #7f7f7f\">434</span></a>\n",
       "</pre>\n"
      ],
      "text/plain": [
       "\u001b[2;36m                   \u001b[0m\u001b[2;36m \u001b[0m\u001b[34mINFO    \u001b[0m \u001b[1m[\u001b[0m\u001b[32m'accuracy'\u001b[0m, \u001b[32m'f1_score'\u001b[0m, \u001b[32m'f1_max'\u001b[0m\u001b[1m]\u001b[0m                                         \u001b]8;id=65313;file:///home/zhang/Projects/3d/ProteinWorkshop/proteinworkshop/models/base.py\u001b\\\u001b[2mbase.py\u001b[0m\u001b]8;;\u001b\\\u001b[2m:\u001b[0m\u001b]8;id=516687;file:///home/zhang/Projects/3d/ProteinWorkshop/proteinworkshop/models/base.py#434\u001b\\\u001b[2m434\u001b[0m\u001b]8;;\u001b\\\n"
      ]
     },
     "metadata": {},
     "output_type": "display_data"
    },
    {
     "data": {
      "text/html": [
       "<pre style=\"white-space:pre;overflow-x:auto;line-height:normal;font-family:Menlo,'DejaVu Sans Mono',consolas,'Courier New',monospace\"><span style=\"color: #7fbfbf; text-decoration-color: #7fbfbf\">                    </span><span style=\"color: #000080; text-decoration-color: #000080\">INFO    </span> Instantiating featuriser<span style=\"color: #808000; text-decoration-color: #808000\">...</span>                                                <a href=\"file:///home/zhang/Projects/3d/ProteinWorkshop/proteinworkshop/models/base.py\" target=\"_blank\"><span style=\"color: #7f7f7f; text-decoration-color: #7f7f7f\">base.py</span></a><span style=\"color: #7f7f7f; text-decoration-color: #7f7f7f\">:</span><a href=\"file:///home/zhang/Projects/3d/ProteinWorkshop/proteinworkshop/models/base.py#436\" target=\"_blank\"><span style=\"color: #7f7f7f; text-decoration-color: #7f7f7f\">436</span></a>\n",
       "</pre>\n"
      ],
      "text/plain": [
       "\u001b[2;36m                   \u001b[0m\u001b[2;36m \u001b[0m\u001b[34mINFO    \u001b[0m Instantiating featuriser\u001b[33m...\u001b[0m                                                \u001b]8;id=504509;file:///home/zhang/Projects/3d/ProteinWorkshop/proteinworkshop/models/base.py\u001b\\\u001b[2mbase.py\u001b[0m\u001b]8;;\u001b\\\u001b[2m:\u001b[0m\u001b]8;id=391399;file:///home/zhang/Projects/3d/ProteinWorkshop/proteinworkshop/models/base.py#436\u001b\\\u001b[2m436\u001b[0m\u001b]8;;\u001b\\\n"
      ]
     },
     "metadata": {},
     "output_type": "display_data"
    },
    {
     "data": {
      "text/html": [
       "<pre style=\"white-space:pre;overflow-x:auto;line-height:normal;font-family:Menlo,'DejaVu Sans Mono',consolas,'Courier New',monospace\"><span style=\"color: #7fbfbf; text-decoration-color: #7fbfbf\">[07/25/24 17:03:32] </span><span style=\"color: #000080; text-decoration-color: #000080\">INFO    </span> <span style=\"color: #800080; text-decoration-color: #800080; font-weight: bold\">ProteinFeaturiser</span><span style=\"font-weight: bold\">(</span><span style=\"color: #808000; text-decoration-color: #808000\">representation</span>=<span style=\"color: #800080; text-decoration-color: #800080\">CA</span>,                                       <a href=\"file:///home/zhang/Projects/3d/ProteinWorkshop/proteinworkshop/models/base.py\" target=\"_blank\"><span style=\"color: #7f7f7f; text-decoration-color: #7f7f7f\">base.py</span></a><span style=\"color: #7f7f7f; text-decoration-color: #7f7f7f\">:</span><a href=\"file:///home/zhang/Projects/3d/ProteinWorkshop/proteinworkshop/models/base.py#438\" target=\"_blank\"><span style=\"color: #7f7f7f; text-decoration-color: #7f7f7f\">438</span></a>\n",
       "<span style=\"color: #7fbfbf; text-decoration-color: #7fbfbf\">                    </span>         <span style=\"color: #808000; text-decoration-color: #808000\">scalar_node_features</span>=<span style=\"font-weight: bold\">[</span><span style=\"color: #008000; text-decoration-color: #008000\">'amino_acid_one_hot'</span><span style=\"font-weight: bold\">]</span>, <span style=\"color: #808000; text-decoration-color: #808000\">vector_node_features</span>=<span style=\"font-weight: bold\">[]</span>,      <span style=\"color: #7f7f7f; text-decoration-color: #7f7f7f\">           </span>\n",
       "<span style=\"color: #7fbfbf; text-decoration-color: #7fbfbf\">                    </span>         <span style=\"color: #808000; text-decoration-color: #808000\">edge_types</span>=<span style=\"font-weight: bold\">[</span><span style=\"color: #008000; text-decoration-color: #008000\">'knn_16'</span><span style=\"font-weight: bold\">]</span>, <span style=\"color: #808000; text-decoration-color: #808000\">scalar_edge_features</span>=<span style=\"font-weight: bold\">[</span><span style=\"color: #008000; text-decoration-color: #008000\">'edge_distance'</span><span style=\"font-weight: bold\">]</span>,             <span style=\"color: #7f7f7f; text-decoration-color: #7f7f7f\">           </span>\n",
       "<span style=\"color: #7fbfbf; text-decoration-color: #7fbfbf\">                    </span>         <span style=\"color: #808000; text-decoration-color: #808000\">vector_edge_features</span>=<span style=\"font-weight: bold\">[])</span>                                                   <span style=\"color: #7f7f7f; text-decoration-color: #7f7f7f\">           </span>\n",
       "</pre>\n"
      ],
      "text/plain": [
       "\u001b[2;36m[07/25/24 17:03:32]\u001b[0m\u001b[2;36m \u001b[0m\u001b[34mINFO    \u001b[0m \u001b[1;35mProteinFeaturiser\u001b[0m\u001b[1m(\u001b[0m\u001b[33mrepresentation\u001b[0m=\u001b[35mCA\u001b[0m,                                       \u001b]8;id=455078;file:///home/zhang/Projects/3d/ProteinWorkshop/proteinworkshop/models/base.py\u001b\\\u001b[2mbase.py\u001b[0m\u001b]8;;\u001b\\\u001b[2m:\u001b[0m\u001b]8;id=738505;file:///home/zhang/Projects/3d/ProteinWorkshop/proteinworkshop/models/base.py#438\u001b\\\u001b[2m438\u001b[0m\u001b]8;;\u001b\\\n",
       "\u001b[2;36m                    \u001b[0m         \u001b[33mscalar_node_features\u001b[0m=\u001b[1m[\u001b[0m\u001b[32m'amino_acid_one_hot'\u001b[0m\u001b[1m]\u001b[0m, \u001b[33mvector_node_features\u001b[0m=\u001b[1m[\u001b[0m\u001b[1m]\u001b[0m,      \u001b[2m           \u001b[0m\n",
       "\u001b[2;36m                    \u001b[0m         \u001b[33medge_types\u001b[0m=\u001b[1m[\u001b[0m\u001b[32m'knn_16'\u001b[0m\u001b[1m]\u001b[0m, \u001b[33mscalar_edge_features\u001b[0m=\u001b[1m[\u001b[0m\u001b[32m'edge_distance'\u001b[0m\u001b[1m]\u001b[0m,             \u001b[2m           \u001b[0m\n",
       "\u001b[2;36m                    \u001b[0m         \u001b[33mvector_edge_features\u001b[0m=\u001b[1m[\u001b[0m\u001b[1m]\u001b[0m\u001b[1m)\u001b[0m                                                   \u001b[2m           \u001b[0m\n"
      ]
     },
     "metadata": {},
     "output_type": "display_data"
    },
    {
     "data": {
      "text/html": [
       "<pre style=\"white-space:pre;overflow-x:auto;line-height:normal;font-family:Menlo,'DejaVu Sans Mono',consolas,'Courier New',monospace\"><span style=\"color: #7fbfbf; text-decoration-color: #7fbfbf\">                    </span><span style=\"color: #000080; text-decoration-color: #000080\">INFO    </span> Instantiating task transform<span style=\"color: #808000; text-decoration-color: #808000\">...</span>                                            <a href=\"file:///home/zhang/Projects/3d/ProteinWorkshop/proteinworkshop/models/base.py\" target=\"_blank\"><span style=\"color: #7f7f7f; text-decoration-color: #7f7f7f\">base.py</span></a><span style=\"color: #7f7f7f; text-decoration-color: #7f7f7f\">:</span><a href=\"file:///home/zhang/Projects/3d/ProteinWorkshop/proteinworkshop/models/base.py#440\" target=\"_blank\"><span style=\"color: #7f7f7f; text-decoration-color: #7f7f7f\">440</span></a>\n",
       "</pre>\n"
      ],
      "text/plain": [
       "\u001b[2;36m                   \u001b[0m\u001b[2;36m \u001b[0m\u001b[34mINFO    \u001b[0m Instantiating task transform\u001b[33m...\u001b[0m                                            \u001b]8;id=788515;file:///home/zhang/Projects/3d/ProteinWorkshop/proteinworkshop/models/base.py\u001b\\\u001b[2mbase.py\u001b[0m\u001b]8;;\u001b\\\u001b[2m:\u001b[0m\u001b]8;id=962601;file:///home/zhang/Projects/3d/ProteinWorkshop/proteinworkshop/models/base.py#440\u001b\\\u001b[2m440\u001b[0m\u001b]8;;\u001b\\\n"
      ]
     },
     "metadata": {},
     "output_type": "display_data"
    },
    {
     "data": {
      "text/html": [
       "<pre style=\"white-space:pre;overflow-x:auto;line-height:normal;font-family:Menlo,'DejaVu Sans Mono',consolas,'Courier New',monospace\"><span style=\"color: #7fbfbf; text-decoration-color: #7fbfbf\">                    </span><span style=\"color: #000080; text-decoration-color: #000080\">INFO    </span> <span style=\"color: #800080; text-decoration-color: #800080; font-style: italic\">None</span>                                                                       <a href=\"file:///home/zhang/Projects/3d/ProteinWorkshop/proteinworkshop/models/base.py\" target=\"_blank\"><span style=\"color: #7f7f7f; text-decoration-color: #7f7f7f\">base.py</span></a><span style=\"color: #7f7f7f; text-decoration-color: #7f7f7f\">:</span><a href=\"file:///home/zhang/Projects/3d/ProteinWorkshop/proteinworkshop/models/base.py#444\" target=\"_blank\"><span style=\"color: #7f7f7f; text-decoration-color: #7f7f7f\">444</span></a>\n",
       "</pre>\n"
      ],
      "text/plain": [
       "\u001b[2;36m                   \u001b[0m\u001b[2;36m \u001b[0m\u001b[34mINFO    \u001b[0m \u001b[3;35mNone\u001b[0m                                                                       \u001b]8;id=754030;file:///home/zhang/Projects/3d/ProteinWorkshop/proteinworkshop/models/base.py\u001b\\\u001b[2mbase.py\u001b[0m\u001b]8;;\u001b\\\u001b[2m:\u001b[0m\u001b]8;id=151857;file:///home/zhang/Projects/3d/ProteinWorkshop/proteinworkshop/models/base.py#444\u001b\\\u001b[2m444\u001b[0m\u001b]8;;\u001b\\\n"
      ]
     },
     "metadata": {},
     "output_type": "display_data"
    },
    {
     "data": {
      "text/html": [
       "<pre style=\"white-space:pre;overflow-x:auto;line-height:normal;font-family:Menlo,'DejaVu Sans Mono',consolas,'Courier New',monospace\"><span style=\"color: #7fbfbf; text-decoration-color: #7fbfbf\">[07/25/24 17:04:18] </span><span style=\"color: #000080; text-decoration-color: #000080\">INFO    </span> Initializing lazy layers<span style=\"color: #808000; text-decoration-color: #808000\">...</span>                                            <a href=\"file:///home/zhang/Projects/3d/ProteinWorkshop/proteinworkshop/finetune.py\" target=\"_blank\"><span style=\"color: #7f7f7f; text-decoration-color: #7f7f7f\">finetune.py</span></a><span style=\"color: #7f7f7f; text-decoration-color: #7f7f7f\">:</span><a href=\"file:///home/zhang/Projects/3d/ProteinWorkshop/proteinworkshop/finetune.py#146\" target=\"_blank\"><span style=\"color: #7f7f7f; text-decoration-color: #7f7f7f\">146</span></a>\n",
       "</pre>\n"
      ],
      "text/plain": [
       "\u001b[2;36m[07/25/24 17:04:18]\u001b[0m\u001b[2;36m \u001b[0m\u001b[34mINFO    \u001b[0m Initializing lazy layers\u001b[33m...\u001b[0m                                            \u001b]8;id=799553;file:///home/zhang/Projects/3d/ProteinWorkshop/proteinworkshop/finetune.py\u001b\\\u001b[2mfinetune.py\u001b[0m\u001b]8;;\u001b\\\u001b[2m:\u001b[0m\u001b]8;id=236289;file:///home/zhang/Projects/3d/ProteinWorkshop/proteinworkshop/finetune.py#146\u001b\\\u001b[2m146\u001b[0m\u001b]8;;\u001b\\\n"
      ]
     },
     "metadata": {},
     "output_type": "display_data"
    },
    {
     "data": {
      "text/html": [
       "<pre style=\"white-space:pre;overflow-x:auto;line-height:normal;font-family:Menlo,'DejaVu Sans Mono',consolas,'Courier New',monospace\"><span style=\"color: #7fbfbf; text-decoration-color: #7fbfbf\">                    </span><span style=\"color: #000080; text-decoration-color: #000080\">INFO    </span> Downloading Protein Function. Fraction <span style=\"color: #008080; text-decoration-color: #008080; font-weight: bold\">1.0</span>                   <a href=\"file:///home/zhang/Projects/3d/ProteinWorkshop/proteinworkshop/datasets/fold_classification.py\" target=\"_blank\"><span style=\"color: #7f7f7f; text-decoration-color: #7f7f7f\">fold_classification.py</span></a><span style=\"color: #7f7f7f; text-decoration-color: #7f7f7f\">:</span><a href=\"file:///home/zhang/Projects/3d/ProteinWorkshop/proteinworkshop/datasets/fold_classification.py#86\" target=\"_blank\"><span style=\"color: #7f7f7f; text-decoration-color: #7f7f7f\">86</span></a>\n",
       "</pre>\n"
      ],
      "text/plain": [
       "\u001b[2;36m                   \u001b[0m\u001b[2;36m \u001b[0m\u001b[34mINFO    \u001b[0m Downloading Protein Function. Fraction \u001b[1;36m1.0\u001b[0m                   \u001b]8;id=341546;file:///home/zhang/Projects/3d/ProteinWorkshop/proteinworkshop/datasets/fold_classification.py\u001b\\\u001b[2mfold_classification.py\u001b[0m\u001b]8;;\u001b\\\u001b[2m:\u001b[0m\u001b]8;id=941047;file:///home/zhang/Projects/3d/ProteinWorkshop/proteinworkshop/datasets/fold_classification.py#86\u001b\\\u001b[2m86\u001b[0m\u001b]8;;\u001b\\\n"
      ]
     },
     "metadata": {},
     "output_type": "display_data"
    },
    {
     "data": {
      "text/html": [
       "<pre style=\"white-space:pre;overflow-x:auto;line-height:normal;font-family:Menlo,'DejaVu Sans Mono',consolas,'Courier New',monospace\"><span style=\"color: #7fbfbf; text-decoration-color: #7fbfbf\">                    </span><span style=\"color: #000080; text-decoration-color: #000080\">INFO    </span> Found SCOP structure tarfile in:                            <a href=\"file:///home/zhang/Projects/3d/ProteinWorkshop/proteinworkshop/datasets/fold_classification.py\" target=\"_blank\"><span style=\"color: #7f7f7f; text-decoration-color: #7f7f7f\">fold_classification.py</span></a><span style=\"color: #7f7f7f; text-decoration-color: #7f7f7f\">:</span><a href=\"file:///home/zhang/Projects/3d/ProteinWorkshop/proteinworkshop/datasets/fold_classification.py#138\" target=\"_blank\"><span style=\"color: #7f7f7f; text-decoration-color: #7f7f7f\">138</span></a>\n",
       "<span style=\"color: #7fbfbf; text-decoration-color: #7fbfbf\">                    </span>         <span style=\"color: #800080; text-decoration-color: #800080\">/home/zhang/Projects/3d/ProteinWorkshop/proteinworkshop/dat</span> <span style=\"color: #7f7f7f; text-decoration-color: #7f7f7f\">                          </span>\n",
       "<span style=\"color: #7fbfbf; text-decoration-color: #7fbfbf\">                    </span>         <span style=\"color: #800080; text-decoration-color: #800080\">a/FoldClassification/</span><span style=\"color: #ff00ff; text-decoration-color: #ff00ff\">pdbstyle-sel-gs-bib-95-1.75.tgz</span>        <span style=\"color: #7f7f7f; text-decoration-color: #7f7f7f\">                          </span>\n",
       "</pre>\n"
      ],
      "text/plain": [
       "\u001b[2;36m                   \u001b[0m\u001b[2;36m \u001b[0m\u001b[34mINFO    \u001b[0m Found SCOP structure tarfile in:                            \u001b]8;id=150136;file:///home/zhang/Projects/3d/ProteinWorkshop/proteinworkshop/datasets/fold_classification.py\u001b\\\u001b[2mfold_classification.py\u001b[0m\u001b]8;;\u001b\\\u001b[2m:\u001b[0m\u001b]8;id=372479;file:///home/zhang/Projects/3d/ProteinWorkshop/proteinworkshop/datasets/fold_classification.py#138\u001b\\\u001b[2m138\u001b[0m\u001b]8;;\u001b\\\n",
       "\u001b[2;36m                    \u001b[0m         \u001b[35m/home/zhang/Projects/3d/ProteinWorkshop/proteinworkshop/dat\u001b[0m \u001b[2m                          \u001b[0m\n",
       "\u001b[2;36m                    \u001b[0m         \u001b[35ma/FoldClassification/\u001b[0m\u001b[95mpdbstyle-sel-gs-bib-95-1.75.tgz\u001b[0m        \u001b[2m                          \u001b[0m\n"
      ]
     },
     "metadata": {},
     "output_type": "display_data"
    },
    {
     "data": {
      "text/html": [
       "<pre style=\"white-space:pre;overflow-x:auto;line-height:normal;font-family:Menlo,'DejaVu Sans Mono',consolas,'Courier New',monospace\"><span style=\"color: #7fbfbf; text-decoration-color: #7fbfbf\">                    </span><span style=\"color: #000080; text-decoration-color: #000080\">INFO    </span> Found SCOPe structures in:                                  <a href=\"file:///home/zhang/Projects/3d/ProteinWorkshop/proteinworkshop/datasets/fold_classification.py\" target=\"_blank\"><span style=\"color: #7f7f7f; text-decoration-color: #7f7f7f\">fold_classification.py</span></a><span style=\"color: #7f7f7f; text-decoration-color: #7f7f7f\">:</span><a href=\"file:///home/zhang/Projects/3d/ProteinWorkshop/proteinworkshop/datasets/fold_classification.py#151\" target=\"_blank\"><span style=\"color: #7f7f7f; text-decoration-color: #7f7f7f\">151</span></a>\n",
       "</pre>\n"
      ],
      "text/plain": [
       "\u001b[2;36m                   \u001b[0m\u001b[2;36m \u001b[0m\u001b[34mINFO    \u001b[0m Found SCOPe structures in:                                  \u001b]8;id=799156;file:///home/zhang/Projects/3d/ProteinWorkshop/proteinworkshop/datasets/fold_classification.py\u001b\\\u001b[2mfold_classification.py\u001b[0m\u001b]8;;\u001b\\\u001b[2m:\u001b[0m\u001b]8;id=665821;file:///home/zhang/Projects/3d/ProteinWorkshop/proteinworkshop/datasets/fold_classification.py#151\u001b\\\u001b[2m151\u001b[0m\u001b]8;;\u001b\\\n"
      ]
     },
     "metadata": {},
     "output_type": "display_data"
    },
    {
     "data": {
      "text/html": [
       "<pre style=\"white-space:pre;overflow-x:auto;line-height:normal;font-family:Menlo,'DejaVu Sans Mono',consolas,'Courier New',monospace\"><span style=\"color: #7fbfbf; text-decoration-color: #7fbfbf\">                    </span><span style=\"color: #000080; text-decoration-color: #000080\">INFO    </span> Preprocessing validation data                                               <a href=\"file:///home/zhang/Projects/3d/ProteinWorkshop/proteinworkshop/datasets/base.py\" target=\"_blank\"><span style=\"color: #7f7f7f; text-decoration-color: #7f7f7f\">base.py</span></a><span style=\"color: #7f7f7f; text-decoration-color: #7f7f7f\">:</span><a href=\"file:///home/zhang/Projects/3d/ProteinWorkshop/proteinworkshop/datasets/base.py#99\" target=\"_blank\"><span style=\"color: #7f7f7f; text-decoration-color: #7f7f7f\">99</span></a>\n",
       "</pre>\n"
      ],
      "text/plain": [
       "\u001b[2;36m                   \u001b[0m\u001b[2;36m \u001b[0m\u001b[34mINFO    \u001b[0m Preprocessing validation data                                               \u001b]8;id=739027;file:///home/zhang/Projects/3d/ProteinWorkshop/proteinworkshop/datasets/base.py\u001b\\\u001b[2mbase.py\u001b[0m\u001b]8;;\u001b\\\u001b[2m:\u001b[0m\u001b]8;id=404508;file:///home/zhang/Projects/3d/ProteinWorkshop/proteinworkshop/datasets/base.py#99\u001b\\\u001b[2m99\u001b[0m\u001b]8;;\u001b\\\n"
      ]
     },
     "metadata": {},
     "output_type": "display_data"
    },
    {
     "data": {
      "text/html": [
       "<pre style=\"white-space:pre;overflow-x:auto;line-height:normal;font-family:Menlo,'DejaVu Sans Mono',consolas,'Courier New',monospace\"><span style=\"color: #7fbfbf; text-decoration-color: #7fbfbf\">                    </span><span style=\"color: #000080; text-decoration-color: #000080\">INFO    </span> Reading labels from:                                        <a href=\"file:///home/zhang/Projects/3d/ProteinWorkshop/proteinworkshop/datasets/fold_classification.py\" target=\"_blank\"><span style=\"color: #7f7f7f; text-decoration-color: #7f7f7f\">fold_classification.py</span></a><span style=\"color: #7f7f7f; text-decoration-color: #7f7f7f\">:</span><a href=\"file:///home/zhang/Projects/3d/ProteinWorkshop/proteinworkshop/datasets/fold_classification.py#154\" target=\"_blank\"><span style=\"color: #7f7f7f; text-decoration-color: #7f7f7f\">154</span></a>\n",
       "<span style=\"color: #7fbfbf; text-decoration-color: #7fbfbf\">                    </span>         <span style=\"color: #800080; text-decoration-color: #800080\">/home/zhang/Projects/3d/ProteinWorkshop/proteinworkshop/dat</span> <span style=\"color: #7f7f7f; text-decoration-color: #7f7f7f\">                          </span>\n",
       "<span style=\"color: #7fbfbf; text-decoration-color: #7fbfbf\">                    </span>         <span style=\"color: #800080; text-decoration-color: #800080\">a/FoldClassification/</span><span style=\"color: #ff00ff; text-decoration-color: #ff00ff\">class_map.txt</span>                          <span style=\"color: #7f7f7f; text-decoration-color: #7f7f7f\">                          </span>\n",
       "</pre>\n"
      ],
      "text/plain": [
       "\u001b[2;36m                   \u001b[0m\u001b[2;36m \u001b[0m\u001b[34mINFO    \u001b[0m Reading labels from:                                        \u001b]8;id=772223;file:///home/zhang/Projects/3d/ProteinWorkshop/proteinworkshop/datasets/fold_classification.py\u001b\\\u001b[2mfold_classification.py\u001b[0m\u001b]8;;\u001b\\\u001b[2m:\u001b[0m\u001b]8;id=742703;file:///home/zhang/Projects/3d/ProteinWorkshop/proteinworkshop/datasets/fold_classification.py#154\u001b\\\u001b[2m154\u001b[0m\u001b]8;;\u001b\\\n",
       "\u001b[2;36m                    \u001b[0m         \u001b[35m/home/zhang/Projects/3d/ProteinWorkshop/proteinworkshop/dat\u001b[0m \u001b[2m                          \u001b[0m\n",
       "\u001b[2;36m                    \u001b[0m         \u001b[35ma/FoldClassification/\u001b[0m\u001b[95mclass_map.txt\u001b[0m                          \u001b[2m                          \u001b[0m\n"
      ]
     },
     "metadata": {},
     "output_type": "display_data"
    },
    {
     "data": {
      "text/html": [
       "<pre style=\"white-space:pre;overflow-x:auto;line-height:normal;font-family:Menlo,'DejaVu Sans Mono',consolas,'Courier New',monospace\"><span style=\"color: #7fbfbf; text-decoration-color: #7fbfbf\">                    </span><span style=\"color: #000080; text-decoration-color: #000080\">INFO    </span> Found <span style=\"color: #008080; text-decoration-color: #008080; font-weight: bold\">736</span> original examples in validation                   <a href=\"file:///home/zhang/Projects/3d/ProteinWorkshop/proteinworkshop/datasets/fold_classification.py\" target=\"_blank\"><span style=\"color: #7f7f7f; text-decoration-color: #7f7f7f\">fold_classification.py</span></a><span style=\"color: #7f7f7f; text-decoration-color: #7f7f7f\">:</span><a href=\"file:///home/zhang/Projects/3d/ProteinWorkshop/proteinworkshop/datasets/fold_classification.py#234\" target=\"_blank\"><span style=\"color: #7f7f7f; text-decoration-color: #7f7f7f\">234</span></a>\n",
       "</pre>\n"
      ],
      "text/plain": [
       "\u001b[2;36m                   \u001b[0m\u001b[2;36m \u001b[0m\u001b[34mINFO    \u001b[0m Found \u001b[1;36m736\u001b[0m original examples in validation                   \u001b]8;id=45160;file:///home/zhang/Projects/3d/ProteinWorkshop/proteinworkshop/datasets/fold_classification.py\u001b\\\u001b[2mfold_classification.py\u001b[0m\u001b]8;;\u001b\\\u001b[2m:\u001b[0m\u001b]8;id=937769;file:///home/zhang/Projects/3d/ProteinWorkshop/proteinworkshop/datasets/fold_classification.py#234\u001b\\\u001b[2m234\u001b[0m\u001b]8;;\u001b\\\n"
      ]
     },
     "metadata": {},
     "output_type": "display_data"
    },
    {
     "data": {
      "text/html": [
       "<pre style=\"white-space:pre;overflow-x:auto;line-height:normal;font-family:Menlo,'DejaVu Sans Mono',consolas,'Courier New',monospace\"><span style=\"color: #7fbfbf; text-decoration-color: #7fbfbf\">                    </span><span style=\"color: #000080; text-decoration-color: #000080\">INFO    </span> Identified <span style=\"color: #008080; text-decoration-color: #008080; font-weight: bold\">319</span> classes                                      <a href=\"file:///home/zhang/Projects/3d/ProteinWorkshop/proteinworkshop/datasets/fold_classification.py\" target=\"_blank\"><span style=\"color: #7f7f7f; text-decoration-color: #7f7f7f\">fold_classification.py</span></a><span style=\"color: #7f7f7f; text-decoration-color: #7f7f7f\">:</span><a href=\"file:///home/zhang/Projects/3d/ProteinWorkshop/proteinworkshop/datasets/fold_classification.py#247\" target=\"_blank\"><span style=\"color: #7f7f7f; text-decoration-color: #7f7f7f\">247</span></a>\n",
       "</pre>\n"
      ],
      "text/plain": [
       "\u001b[2;36m                   \u001b[0m\u001b[2;36m \u001b[0m\u001b[34mINFO    \u001b[0m Identified \u001b[1;36m319\u001b[0m classes                                      \u001b]8;id=470039;file:///home/zhang/Projects/3d/ProteinWorkshop/proteinworkshop/datasets/fold_classification.py\u001b\\\u001b[2mfold_classification.py\u001b[0m\u001b]8;;\u001b\\\u001b[2m:\u001b[0m\u001b]8;id=602983;file:///home/zhang/Projects/3d/ProteinWorkshop/proteinworkshop/datasets/fold_classification.py#247\u001b\\\u001b[2m247\u001b[0m\u001b]8;;\u001b\\\n"
      ]
     },
     "metadata": {},
     "output_type": "display_data"
    },
    {
     "data": {
      "text/html": [
       "<pre style=\"white-space:pre;overflow-x:auto;line-height:normal;font-family:Menlo,'DejaVu Sans Mono',consolas,'Courier New',monospace\"><span style=\"color: #7fbfbf; text-decoration-color: #7fbfbf\">                    </span><span style=\"color: #000080; text-decoration-color: #000080\">INFO    </span> All structures already processed and <span style=\"color: #808000; text-decoration-color: #808000\">overwrite</span>=<span style=\"color: #ff0000; text-decoration-color: #ff0000; font-style: italic\">False</span>. Skipping download.   <a href=\"file:///home/zhang/Projects/3d/ProteinWorkshop/proteinworkshop/datasets/base.py\" target=\"_blank\"><span style=\"color: #7f7f7f; text-decoration-color: #7f7f7f\">base.py</span></a><span style=\"color: #7f7f7f; text-decoration-color: #7f7f7f\">:</span><a href=\"file:///home/zhang/Projects/3d/ProteinWorkshop/proteinworkshop/datasets/base.py#327\" target=\"_blank\"><span style=\"color: #7f7f7f; text-decoration-color: #7f7f7f\">327</span></a>\n",
       "</pre>\n"
      ],
      "text/plain": [
       "\u001b[2;36m                   \u001b[0m\u001b[2;36m \u001b[0m\u001b[34mINFO    \u001b[0m All structures already processed and \u001b[33moverwrite\u001b[0m=\u001b[3;91mFalse\u001b[0m. Skipping download.   \u001b]8;id=778239;file:///home/zhang/Projects/3d/ProteinWorkshop/proteinworkshop/datasets/base.py\u001b\\\u001b[2mbase.py\u001b[0m\u001b]8;;\u001b\\\u001b[2m:\u001b[0m\u001b]8;id=140601;file:///home/zhang/Projects/3d/ProteinWorkshop/proteinworkshop/datasets/base.py#327\u001b\\\u001b[2m327\u001b[0m\u001b]8;;\u001b\\\n"
      ]
     },
     "metadata": {},
     "output_type": "display_data"
    },
    {
     "data": {
      "text/html": [
       "<pre style=\"white-space:pre;overflow-x:auto;line-height:normal;font-family:Menlo,'DejaVu Sans Mono',consolas,'Courier New',monospace\"><span style=\"color: #7fbfbf; text-decoration-color: #7fbfbf\">                    </span><span style=\"color: #800000; text-decoration-color: #800000\">WARNING </span> Downloads in .ent format are assumed to be from ASTRAL. These data should  <a href=\"file:///home/zhang/Projects/3d/ProteinWorkshop/proteinworkshop/datasets/base.py\" target=\"_blank\"><span style=\"color: #7f7f7f; text-decoration-color: #7f7f7f\">base.py</span></a><span style=\"color: #7f7f7f; text-decoration-color: #7f7f7f\">:</span><a href=\"file:///home/zhang/Projects/3d/ProteinWorkshop/proteinworkshop/datasets/base.py#357\" target=\"_blank\"><span style=\"color: #7f7f7f; text-decoration-color: #7f7f7f\">357</span></a>\n",
       "<span style=\"color: #7fbfbf; text-decoration-color: #7fbfbf\">                    </span>         have already been downloaded                                               <span style=\"color: #7f7f7f; text-decoration-color: #7f7f7f\">           </span>\n",
       "</pre>\n"
      ],
      "text/plain": [
       "\u001b[2;36m                   \u001b[0m\u001b[2;36m \u001b[0m\u001b[31mWARNING \u001b[0m Downloads in .ent format are assumed to be from ASTRAL. These data should  \u001b]8;id=853224;file:///home/zhang/Projects/3d/ProteinWorkshop/proteinworkshop/datasets/base.py\u001b\\\u001b[2mbase.py\u001b[0m\u001b]8;;\u001b\\\u001b[2m:\u001b[0m\u001b]8;id=269271;file:///home/zhang/Projects/3d/ProteinWorkshop/proteinworkshop/datasets/base.py#357\u001b\\\u001b[2m357\u001b[0m\u001b]8;;\u001b\\\n",
       "\u001b[2;36m                    \u001b[0m         have already been downloaded                                               \u001b[2m           \u001b[0m\n"
      ]
     },
     "metadata": {},
     "output_type": "display_data"
    },
    {
     "data": {
      "text/html": [
       "<pre style=\"white-space:pre;overflow-x:auto;line-height:normal;font-family:Menlo,'DejaVu Sans Mono',consolas,'Courier New',monospace\"><span style=\"color: #7fbfbf; text-decoration-color: #7fbfbf\">                    </span><span style=\"color: #000080; text-decoration-color: #000080\">INFO    </span> Reading data into memory                                                   <a href=\"file:///home/zhang/Projects/3d/ProteinWorkshop/proteinworkshop/datasets/base.py\" target=\"_blank\"><span style=\"color: #7f7f7f; text-decoration-color: #7f7f7f\">base.py</span></a><span style=\"color: #7f7f7f; text-decoration-color: #7f7f7f\">:</span><a href=\"file:///home/zhang/Projects/3d/ProteinWorkshop/proteinworkshop/datasets/base.py#337\" target=\"_blank\"><span style=\"color: #7f7f7f; text-decoration-color: #7f7f7f\">337</span></a>\n",
       "</pre>\n"
      ],
      "text/plain": [
       "\u001b[2;36m                   \u001b[0m\u001b[2;36m \u001b[0m\u001b[34mINFO    \u001b[0m Reading data into memory                                                   \u001b]8;id=830425;file:///home/zhang/Projects/3d/ProteinWorkshop/proteinworkshop/datasets/base.py\u001b\\\u001b[2mbase.py\u001b[0m\u001b]8;;\u001b\\\u001b[2m:\u001b[0m\u001b]8;id=500444;file:///home/zhang/Projects/3d/ProteinWorkshop/proteinworkshop/datasets/base.py#337\u001b\\\u001b[2m337\u001b[0m\u001b]8;;\u001b\\\n"
      ]
     },
     "metadata": {},
     "output_type": "display_data"
    },
    {
     "name": "stderr",
     "output_type": "stream",
     "text": [
      "100%|██████████| 736/736 [00:00<00:00, 4786.71it/s]\n"
     ]
    },
    {
     "data": {
      "text/html": [
       "<pre style=\"white-space:pre;overflow-x:auto;line-height:normal;font-family:Menlo,'DejaVu Sans Mono',consolas,'Courier New',monospace\"><span style=\"color: #7fbfbf; text-decoration-color: #7fbfbf\">                    </span><span style=\"color: #000080; text-decoration-color: #000080\">INFO    </span> Unfeaturized batch: <span style=\"color: #800080; text-decoration-color: #800080; font-weight: bold\">DataProteinBatch</span><span style=\"font-weight: bold\">(</span><span style=\"color: #808000; text-decoration-color: #808000\">fill_value</span>=<span style=\"color: #008080; text-decoration-color: #008080; font-weight: bold\">1e-05</span>, <span style=\"color: #808000; text-decoration-color: #808000\">atom_list</span>=<span style=\"font-weight: bold\">[</span><span style=\"color: #008080; text-decoration-color: #008080; font-weight: bold\">37</span><span style=\"font-weight: bold\">]</span>, <a href=\"file:///home/zhang/Projects/3d/ProteinWorkshop/proteinworkshop/finetune.py\" target=\"_blank\"><span style=\"color: #7f7f7f; text-decoration-color: #7f7f7f\">finetune.py</span></a><span style=\"color: #7f7f7f; text-decoration-color: #7f7f7f\">:</span><a href=\"file:///home/zhang/Projects/3d/ProteinWorkshop/proteinworkshop/finetune.py#150\" target=\"_blank\"><span style=\"color: #7f7f7f; text-decoration-color: #7f7f7f\">150</span></a>\n",
       "<span style=\"color: #7fbfbf; text-decoration-color: #7fbfbf\">                    </span>         <span style=\"color: #808000; text-decoration-color: #808000\">coords</span>=<span style=\"font-weight: bold\">[</span><span style=\"color: #008080; text-decoration-color: #008080; font-weight: bold\">7747</span>, <span style=\"color: #008080; text-decoration-color: #008080; font-weight: bold\">37</span>, <span style=\"color: #008080; text-decoration-color: #008080; font-weight: bold\">3</span><span style=\"font-weight: bold\">]</span>, <span style=\"color: #808000; text-decoration-color: #808000\">residues</span>=<span style=\"font-weight: bold\">[</span><span style=\"color: #008080; text-decoration-color: #008080; font-weight: bold\">32</span><span style=\"font-weight: bold\">]</span>, <span style=\"color: #808000; text-decoration-color: #808000\">id</span>=<span style=\"font-weight: bold\">[</span><span style=\"color: #008080; text-decoration-color: #008080; font-weight: bold\">32</span><span style=\"font-weight: bold\">]</span>, <span style=\"color: #808000; text-decoration-color: #808000\">residue_id</span>=<span style=\"font-weight: bold\">[</span><span style=\"color: #008080; text-decoration-color: #008080; font-weight: bold\">32</span><span style=\"font-weight: bold\">]</span>,         <span style=\"color: #7f7f7f; text-decoration-color: #7f7f7f\">               </span>\n",
       "<span style=\"color: #7fbfbf; text-decoration-color: #7fbfbf\">                    </span>         <span style=\"color: #808000; text-decoration-color: #808000\">residue_type</span>=<span style=\"font-weight: bold\">[</span><span style=\"color: #008080; text-decoration-color: #008080; font-weight: bold\">7747</span><span style=\"font-weight: bold\">]</span>, <span style=\"color: #808000; text-decoration-color: #808000\">chains</span>=<span style=\"font-weight: bold\">[</span><span style=\"color: #008080; text-decoration-color: #008080; font-weight: bold\">7747</span><span style=\"font-weight: bold\">]</span>, <span style=\"color: #808000; text-decoration-color: #808000\">graph_y</span>=<span style=\"font-weight: bold\">[</span><span style=\"color: #008080; text-decoration-color: #008080; font-weight: bold\">32</span><span style=\"font-weight: bold\">]</span>, <span style=\"color: #808000; text-decoration-color: #808000\">x</span>=<span style=\"font-weight: bold\">[</span><span style=\"color: #008080; text-decoration-color: #008080; font-weight: bold\">7747</span><span style=\"font-weight: bold\">]</span>,            <span style=\"color: #7f7f7f; text-decoration-color: #7f7f7f\">               </span>\n",
       "<span style=\"color: #7fbfbf; text-decoration-color: #7fbfbf\">                    </span>         <span style=\"color: #808000; text-decoration-color: #808000\">amino_acid_one_hot</span>=<span style=\"font-weight: bold\">[</span><span style=\"color: #008080; text-decoration-color: #008080; font-weight: bold\">7747</span>, <span style=\"color: #008080; text-decoration-color: #008080; font-weight: bold\">23</span><span style=\"font-weight: bold\">]</span>, <span style=\"color: #808000; text-decoration-color: #808000\">seq_pos</span>=<span style=\"font-weight: bold\">[</span><span style=\"color: #008080; text-decoration-color: #008080; font-weight: bold\">7747</span>, <span style=\"color: #008080; text-decoration-color: #008080; font-weight: bold\">1</span><span style=\"font-weight: bold\">]</span>, <span style=\"color: #808000; text-decoration-color: #808000\">batch</span>=<span style=\"font-weight: bold\">[</span><span style=\"color: #008080; text-decoration-color: #008080; font-weight: bold\">7747</span><span style=\"font-weight: bold\">]</span>,        <span style=\"color: #7f7f7f; text-decoration-color: #7f7f7f\">               </span>\n",
       "<span style=\"color: #7fbfbf; text-decoration-color: #7fbfbf\">                    </span>         <span style=\"color: #808000; text-decoration-color: #808000\">ptr</span>=<span style=\"font-weight: bold\">[</span><span style=\"color: #008080; text-decoration-color: #008080; font-weight: bold\">33</span><span style=\"font-weight: bold\">])</span>                                                              <span style=\"color: #7f7f7f; text-decoration-color: #7f7f7f\">               </span>\n",
       "</pre>\n"
      ],
      "text/plain": [
       "\u001b[2;36m                   \u001b[0m\u001b[2;36m \u001b[0m\u001b[34mINFO    \u001b[0m Unfeaturized batch: \u001b[1;35mDataProteinBatch\u001b[0m\u001b[1m(\u001b[0m\u001b[33mfill_value\u001b[0m=\u001b[1;36m1e\u001b[0m\u001b[1;36m-05\u001b[0m, \u001b[33matom_list\u001b[0m=\u001b[1m[\u001b[0m\u001b[1;36m37\u001b[0m\u001b[1m]\u001b[0m, \u001b]8;id=500301;file:///home/zhang/Projects/3d/ProteinWorkshop/proteinworkshop/finetune.py\u001b\\\u001b[2mfinetune.py\u001b[0m\u001b]8;;\u001b\\\u001b[2m:\u001b[0m\u001b]8;id=282742;file:///home/zhang/Projects/3d/ProteinWorkshop/proteinworkshop/finetune.py#150\u001b\\\u001b[2m150\u001b[0m\u001b]8;;\u001b\\\n",
       "\u001b[2;36m                    \u001b[0m         \u001b[33mcoords\u001b[0m=\u001b[1m[\u001b[0m\u001b[1;36m7747\u001b[0m, \u001b[1;36m37\u001b[0m, \u001b[1;36m3\u001b[0m\u001b[1m]\u001b[0m, \u001b[33mresidues\u001b[0m=\u001b[1m[\u001b[0m\u001b[1;36m32\u001b[0m\u001b[1m]\u001b[0m, \u001b[33mid\u001b[0m=\u001b[1m[\u001b[0m\u001b[1;36m32\u001b[0m\u001b[1m]\u001b[0m, \u001b[33mresidue_id\u001b[0m=\u001b[1m[\u001b[0m\u001b[1;36m32\u001b[0m\u001b[1m]\u001b[0m,         \u001b[2m               \u001b[0m\n",
       "\u001b[2;36m                    \u001b[0m         \u001b[33mresidue_type\u001b[0m=\u001b[1m[\u001b[0m\u001b[1;36m7747\u001b[0m\u001b[1m]\u001b[0m, \u001b[33mchains\u001b[0m=\u001b[1m[\u001b[0m\u001b[1;36m7747\u001b[0m\u001b[1m]\u001b[0m, \u001b[33mgraph_y\u001b[0m=\u001b[1m[\u001b[0m\u001b[1;36m32\u001b[0m\u001b[1m]\u001b[0m, \u001b[33mx\u001b[0m=\u001b[1m[\u001b[0m\u001b[1;36m7747\u001b[0m\u001b[1m]\u001b[0m,            \u001b[2m               \u001b[0m\n",
       "\u001b[2;36m                    \u001b[0m         \u001b[33mamino_acid_one_hot\u001b[0m=\u001b[1m[\u001b[0m\u001b[1;36m7747\u001b[0m, \u001b[1;36m23\u001b[0m\u001b[1m]\u001b[0m, \u001b[33mseq_pos\u001b[0m=\u001b[1m[\u001b[0m\u001b[1;36m7747\u001b[0m, \u001b[1;36m1\u001b[0m\u001b[1m]\u001b[0m, \u001b[33mbatch\u001b[0m=\u001b[1m[\u001b[0m\u001b[1;36m7747\u001b[0m\u001b[1m]\u001b[0m,        \u001b[2m               \u001b[0m\n",
       "\u001b[2;36m                    \u001b[0m         \u001b[33mptr\u001b[0m=\u001b[1m[\u001b[0m\u001b[1;36m33\u001b[0m\u001b[1m]\u001b[0m\u001b[1m)\u001b[0m                                                              \u001b[2m               \u001b[0m\n"
      ]
     },
     "metadata": {},
     "output_type": "display_data"
    },
    {
     "data": {
      "text/html": [
       "<pre style=\"white-space:pre;overflow-x:auto;line-height:normal;font-family:Menlo,'DejaVu Sans Mono',consolas,'Courier New',monospace\"><span style=\"color: #7fbfbf; text-decoration-color: #7fbfbf\">                    </span><span style=\"color: #000080; text-decoration-color: #000080\">INFO    </span> Featurized batch: <span style=\"color: #800080; text-decoration-color: #800080; font-weight: bold\">DataProteinBatch</span><span style=\"font-weight: bold\">(</span><span style=\"color: #808000; text-decoration-color: #808000\">fill_value</span>=<span style=\"color: #008080; text-decoration-color: #008080; font-weight: bold\">1e-05</span>, <span style=\"color: #808000; text-decoration-color: #808000\">atom_list</span>=<span style=\"font-weight: bold\">[</span><span style=\"color: #008080; text-decoration-color: #008080; font-weight: bold\">37</span><span style=\"font-weight: bold\">]</span>,   <a href=\"file:///home/zhang/Projects/3d/ProteinWorkshop/proteinworkshop/finetune.py\" target=\"_blank\"><span style=\"color: #7f7f7f; text-decoration-color: #7f7f7f\">finetune.py</span></a><span style=\"color: #7f7f7f; text-decoration-color: #7f7f7f\">:</span><a href=\"file:///home/zhang/Projects/3d/ProteinWorkshop/proteinworkshop/finetune.py#152\" target=\"_blank\"><span style=\"color: #7f7f7f; text-decoration-color: #7f7f7f\">152</span></a>\n",
       "<span style=\"color: #7fbfbf; text-decoration-color: #7fbfbf\">                    </span>         <span style=\"color: #808000; text-decoration-color: #808000\">coords</span>=<span style=\"font-weight: bold\">[</span><span style=\"color: #008080; text-decoration-color: #008080; font-weight: bold\">7747</span>, <span style=\"color: #008080; text-decoration-color: #008080; font-weight: bold\">37</span>, <span style=\"color: #008080; text-decoration-color: #008080; font-weight: bold\">3</span><span style=\"font-weight: bold\">]</span>, <span style=\"color: #808000; text-decoration-color: #808000\">residues</span>=<span style=\"font-weight: bold\">[</span><span style=\"color: #008080; text-decoration-color: #008080; font-weight: bold\">32</span><span style=\"font-weight: bold\">]</span>, <span style=\"color: #808000; text-decoration-color: #808000\">id</span>=<span style=\"font-weight: bold\">[</span><span style=\"color: #008080; text-decoration-color: #008080; font-weight: bold\">32</span><span style=\"font-weight: bold\">]</span>, <span style=\"color: #808000; text-decoration-color: #808000\">residue_id</span>=<span style=\"font-weight: bold\">[</span><span style=\"color: #008080; text-decoration-color: #008080; font-weight: bold\">32</span><span style=\"font-weight: bold\">]</span>,         <span style=\"color: #7f7f7f; text-decoration-color: #7f7f7f\">               </span>\n",
       "<span style=\"color: #7fbfbf; text-decoration-color: #7fbfbf\">                    </span>         <span style=\"color: #808000; text-decoration-color: #808000\">residue_type</span>=<span style=\"font-weight: bold\">[</span><span style=\"color: #008080; text-decoration-color: #008080; font-weight: bold\">7747</span><span style=\"font-weight: bold\">]</span>, <span style=\"color: #808000; text-decoration-color: #808000\">chains</span>=<span style=\"font-weight: bold\">[</span><span style=\"color: #008080; text-decoration-color: #008080; font-weight: bold\">7747</span><span style=\"font-weight: bold\">]</span>, <span style=\"color: #808000; text-decoration-color: #808000\">graph_y</span>=<span style=\"font-weight: bold\">[</span><span style=\"color: #008080; text-decoration-color: #008080; font-weight: bold\">32</span><span style=\"font-weight: bold\">]</span>, <span style=\"color: #808000; text-decoration-color: #808000\">x</span>=<span style=\"font-weight: bold\">[</span><span style=\"color: #008080; text-decoration-color: #008080; font-weight: bold\">7747</span>, <span style=\"color: #008080; text-decoration-color: #008080; font-weight: bold\">23</span><span style=\"font-weight: bold\">]</span>,        <span style=\"color: #7f7f7f; text-decoration-color: #7f7f7f\">               </span>\n",
       "<span style=\"color: #7fbfbf; text-decoration-color: #7fbfbf\">                    </span>         <span style=\"color: #808000; text-decoration-color: #808000\">amino_acid_one_hot</span>=<span style=\"font-weight: bold\">[</span><span style=\"color: #008080; text-decoration-color: #008080; font-weight: bold\">7747</span>, <span style=\"color: #008080; text-decoration-color: #008080; font-weight: bold\">23</span><span style=\"font-weight: bold\">]</span>, <span style=\"color: #808000; text-decoration-color: #808000\">seq_pos</span>=<span style=\"font-weight: bold\">[</span><span style=\"color: #008080; text-decoration-color: #008080; font-weight: bold\">7747</span>, <span style=\"color: #008080; text-decoration-color: #008080; font-weight: bold\">1</span><span style=\"font-weight: bold\">]</span>, <span style=\"color: #808000; text-decoration-color: #808000\">batch</span>=<span style=\"font-weight: bold\">[</span><span style=\"color: #008080; text-decoration-color: #008080; font-weight: bold\">7747</span><span style=\"font-weight: bold\">]</span>,        <span style=\"color: #7f7f7f; text-decoration-color: #7f7f7f\">               </span>\n",
       "<span style=\"color: #7fbfbf; text-decoration-color: #7fbfbf\">                    </span>         <span style=\"color: #808000; text-decoration-color: #808000\">ptr</span>=<span style=\"font-weight: bold\">[</span><span style=\"color: #008080; text-decoration-color: #008080; font-weight: bold\">33</span><span style=\"font-weight: bold\">]</span>, <span style=\"color: #808000; text-decoration-color: #808000\">pos</span>=<span style=\"font-weight: bold\">[</span><span style=\"color: #008080; text-decoration-color: #008080; font-weight: bold\">7747</span>, <span style=\"color: #008080; text-decoration-color: #008080; font-weight: bold\">3</span><span style=\"font-weight: bold\">]</span>, <span style=\"color: #808000; text-decoration-color: #808000\">edge_index</span>=<span style=\"font-weight: bold\">[</span><span style=\"color: #008080; text-decoration-color: #008080; font-weight: bold\">2</span>, <span style=\"color: #008080; text-decoration-color: #008080; font-weight: bold\">123952</span><span style=\"font-weight: bold\">]</span>, <span style=\"color: #808000; text-decoration-color: #808000\">edge_type</span>=<span style=\"font-weight: bold\">[</span><span style=\"color: #008080; text-decoration-color: #008080; font-weight: bold\">1</span>,         <span style=\"color: #7f7f7f; text-decoration-color: #7f7f7f\">               </span>\n",
       "<span style=\"color: #7fbfbf; text-decoration-color: #7fbfbf\">                    </span>         <span style=\"color: #008080; text-decoration-color: #008080; font-weight: bold\">123952</span><span style=\"font-weight: bold\">]</span>, <span style=\"color: #808000; text-decoration-color: #808000\">num_relation</span>=<span style=\"color: #008080; text-decoration-color: #008080; font-weight: bold\">1</span>, <span style=\"color: #808000; text-decoration-color: #808000\">edge_attr</span>=<span style=\"font-weight: bold\">[</span><span style=\"color: #008080; text-decoration-color: #008080; font-weight: bold\">123952</span>, <span style=\"color: #008080; text-decoration-color: #008080; font-weight: bold\">1</span><span style=\"font-weight: bold\">])</span>                        <span style=\"color: #7f7f7f; text-decoration-color: #7f7f7f\">               </span>\n",
       "</pre>\n"
      ],
      "text/plain": [
       "\u001b[2;36m                   \u001b[0m\u001b[2;36m \u001b[0m\u001b[34mINFO    \u001b[0m Featurized batch: \u001b[1;35mDataProteinBatch\u001b[0m\u001b[1m(\u001b[0m\u001b[33mfill_value\u001b[0m=\u001b[1;36m1e\u001b[0m\u001b[1;36m-05\u001b[0m, \u001b[33matom_list\u001b[0m=\u001b[1m[\u001b[0m\u001b[1;36m37\u001b[0m\u001b[1m]\u001b[0m,   \u001b]8;id=797461;file:///home/zhang/Projects/3d/ProteinWorkshop/proteinworkshop/finetune.py\u001b\\\u001b[2mfinetune.py\u001b[0m\u001b]8;;\u001b\\\u001b[2m:\u001b[0m\u001b]8;id=642913;file:///home/zhang/Projects/3d/ProteinWorkshop/proteinworkshop/finetune.py#152\u001b\\\u001b[2m152\u001b[0m\u001b]8;;\u001b\\\n",
       "\u001b[2;36m                    \u001b[0m         \u001b[33mcoords\u001b[0m=\u001b[1m[\u001b[0m\u001b[1;36m7747\u001b[0m, \u001b[1;36m37\u001b[0m, \u001b[1;36m3\u001b[0m\u001b[1m]\u001b[0m, \u001b[33mresidues\u001b[0m=\u001b[1m[\u001b[0m\u001b[1;36m32\u001b[0m\u001b[1m]\u001b[0m, \u001b[33mid\u001b[0m=\u001b[1m[\u001b[0m\u001b[1;36m32\u001b[0m\u001b[1m]\u001b[0m, \u001b[33mresidue_id\u001b[0m=\u001b[1m[\u001b[0m\u001b[1;36m32\u001b[0m\u001b[1m]\u001b[0m,         \u001b[2m               \u001b[0m\n",
       "\u001b[2;36m                    \u001b[0m         \u001b[33mresidue_type\u001b[0m=\u001b[1m[\u001b[0m\u001b[1;36m7747\u001b[0m\u001b[1m]\u001b[0m, \u001b[33mchains\u001b[0m=\u001b[1m[\u001b[0m\u001b[1;36m7747\u001b[0m\u001b[1m]\u001b[0m, \u001b[33mgraph_y\u001b[0m=\u001b[1m[\u001b[0m\u001b[1;36m32\u001b[0m\u001b[1m]\u001b[0m, \u001b[33mx\u001b[0m=\u001b[1m[\u001b[0m\u001b[1;36m7747\u001b[0m, \u001b[1;36m23\u001b[0m\u001b[1m]\u001b[0m,        \u001b[2m               \u001b[0m\n",
       "\u001b[2;36m                    \u001b[0m         \u001b[33mamino_acid_one_hot\u001b[0m=\u001b[1m[\u001b[0m\u001b[1;36m7747\u001b[0m, \u001b[1;36m23\u001b[0m\u001b[1m]\u001b[0m, \u001b[33mseq_pos\u001b[0m=\u001b[1m[\u001b[0m\u001b[1;36m7747\u001b[0m, \u001b[1;36m1\u001b[0m\u001b[1m]\u001b[0m, \u001b[33mbatch\u001b[0m=\u001b[1m[\u001b[0m\u001b[1;36m7747\u001b[0m\u001b[1m]\u001b[0m,        \u001b[2m               \u001b[0m\n",
       "\u001b[2;36m                    \u001b[0m         \u001b[33mptr\u001b[0m=\u001b[1m[\u001b[0m\u001b[1;36m33\u001b[0m\u001b[1m]\u001b[0m, \u001b[33mpos\u001b[0m=\u001b[1m[\u001b[0m\u001b[1;36m7747\u001b[0m, \u001b[1;36m3\u001b[0m\u001b[1m]\u001b[0m, \u001b[33medge_index\u001b[0m=\u001b[1m[\u001b[0m\u001b[1;36m2\u001b[0m, \u001b[1;36m123952\u001b[0m\u001b[1m]\u001b[0m, \u001b[33medge_type\u001b[0m=\u001b[1m[\u001b[0m\u001b[1;36m1\u001b[0m,         \u001b[2m               \u001b[0m\n",
       "\u001b[2;36m                    \u001b[0m         \u001b[1;36m123952\u001b[0m\u001b[1m]\u001b[0m, \u001b[33mnum_relation\u001b[0m=\u001b[1;36m1\u001b[0m, \u001b[33medge_attr\u001b[0m=\u001b[1m[\u001b[0m\u001b[1;36m123952\u001b[0m, \u001b[1;36m1\u001b[0m\u001b[1m]\u001b[0m\u001b[1m)\u001b[0m                        \u001b[2m               \u001b[0m\n"
      ]
     },
     "metadata": {},
     "output_type": "display_data"
    },
    {
     "data": {
      "text/html": [
       "<pre style=\"white-space:pre;overflow-x:auto;line-height:normal;font-family:Menlo,'DejaVu Sans Mono',consolas,'Courier New',monospace\"><span style=\"color: #7fbfbf; text-decoration-color: #7fbfbf\">                    </span><span style=\"color: #000080; text-decoration-color: #000080\">INFO    </span> Example labels: <span style=\"font-weight: bold\">{</span><span style=\"color: #008000; text-decoration-color: #008000\">'graph_label'</span>: tensor<span style=\"font-weight: bold\">[</span><span style=\"color: #008080; text-decoration-color: #008080; font-weight: bold\">32</span><span style=\"font-weight: bold\">]</span> i64 x∈<span style=\"font-weight: bold\">[</span><span style=\"color: #008080; text-decoration-color: #008080; font-weight: bold\">0</span>, <span style=\"color: #008080; text-decoration-color: #008080; font-weight: bold\">128</span><span style=\"font-weight: bold\">]</span> <span style=\"color: #808000; text-decoration-color: #808000\">μ</span>=<span style=\"color: #008080; text-decoration-color: #008080; font-weight: bold\">103.312</span>    <a href=\"file:///home/zhang/Projects/3d/ProteinWorkshop/proteinworkshop/finetune.py\" target=\"_blank\"><span style=\"color: #7f7f7f; text-decoration-color: #7f7f7f\">finetune.py</span></a><span style=\"color: #7f7f7f; text-decoration-color: #7f7f7f\">:</span><a href=\"file:///home/zhang/Projects/3d/ProteinWorkshop/proteinworkshop/finetune.py#153\" target=\"_blank\"><span style=\"color: #7f7f7f; text-decoration-color: #7f7f7f\">153</span></a>\n",
       "<span style=\"color: #7fbfbf; text-decoration-color: #7fbfbf\">                    </span>         <span style=\"color: #808000; text-decoration-color: #808000\">σ</span>=<span style=\"color: #008080; text-decoration-color: #008080; font-weight: bold\">34.218</span><span style=\"font-weight: bold\">}</span>                                                              <span style=\"color: #7f7f7f; text-decoration-color: #7f7f7f\">               </span>\n",
       "</pre>\n"
      ],
      "text/plain": [
       "\u001b[2;36m                   \u001b[0m\u001b[2;36m \u001b[0m\u001b[34mINFO    \u001b[0m Example labels: \u001b[1m{\u001b[0m\u001b[32m'graph_label'\u001b[0m: tensor\u001b[1m[\u001b[0m\u001b[1;36m32\u001b[0m\u001b[1m]\u001b[0m i64 x∈\u001b[1m[\u001b[0m\u001b[1;36m0\u001b[0m, \u001b[1;36m128\u001b[0m\u001b[1m]\u001b[0m \u001b[33mμ\u001b[0m=\u001b[1;36m103\u001b[0m\u001b[1;36m.312\u001b[0m    \u001b]8;id=752604;file:///home/zhang/Projects/3d/ProteinWorkshop/proteinworkshop/finetune.py\u001b\\\u001b[2mfinetune.py\u001b[0m\u001b]8;;\u001b\\\u001b[2m:\u001b[0m\u001b]8;id=21462;file:///home/zhang/Projects/3d/ProteinWorkshop/proteinworkshop/finetune.py#153\u001b\\\u001b[2m153\u001b[0m\u001b]8;;\u001b\\\n",
       "\u001b[2;36m                    \u001b[0m         \u001b[33mσ\u001b[0m=\u001b[1;36m34\u001b[0m\u001b[1;36m.218\u001b[0m\u001b[1m}\u001b[0m                                                              \u001b[2m               \u001b[0m\n"
      ]
     },
     "metadata": {},
     "output_type": "display_data"
    },
    {
     "data": {
      "text/html": [
       "<pre style=\"white-space:pre;overflow-x:auto;line-height:normal;font-family:Menlo,'DejaVu Sans Mono',consolas,'Courier New',monospace\"><span style=\"color: #7fbfbf; text-decoration-color: #7fbfbf\">[07/25/24 17:04:19] </span><span style=\"color: #000080; text-decoration-color: #000080\">INFO    </span> Model output: <span style=\"font-weight: bold\">{</span><span style=\"color: #008000; text-decoration-color: #008000\">'node_embedding'</span>: tensor<span style=\"font-weight: bold\">[</span><span style=\"color: #008080; text-decoration-color: #008080; font-weight: bold\">7747</span>, <span style=\"color: #008080; text-decoration-color: #008080; font-weight: bold\">32</span><span style=\"font-weight: bold\">]</span> <span style=\"color: #808000; text-decoration-color: #808000\">n</span>=<span style=\"color: #008080; text-decoration-color: #008080; font-weight: bold\">247904</span> <span style=\"font-weight: bold\">(</span><span style=\"color: #008080; text-decoration-color: #008080; font-weight: bold\">0.</span>9Mb<span style=\"font-weight: bold\">)</span>     <a href=\"file:///home/zhang/Projects/3d/ProteinWorkshop/proteinworkshop/finetune.py\" target=\"_blank\"><span style=\"color: #7f7f7f; text-decoration-color: #7f7f7f\">finetune.py</span></a><span style=\"color: #7f7f7f; text-decoration-color: #7f7f7f\">:</span><a href=\"file:///home/zhang/Projects/3d/ProteinWorkshop/proteinworkshop/finetune.py#161\" target=\"_blank\"><span style=\"color: #7f7f7f; text-decoration-color: #7f7f7f\">161</span></a>\n",
       "<span style=\"color: #7fbfbf; text-decoration-color: #7fbfbf\">                    </span>         x∈<span style=\"font-weight: bold\">[</span><span style=\"color: #008080; text-decoration-color: #008080; font-weight: bold\">-0.240</span>, <span style=\"color: #008080; text-decoration-color: #008080; font-weight: bold\">0.214</span><span style=\"font-weight: bold\">]</span> <span style=\"color: #808000; text-decoration-color: #808000\">μ</span>=<span style=\"color: #008080; text-decoration-color: #008080; font-weight: bold\">-0.009</span> <span style=\"color: #808000; text-decoration-color: #808000\">σ</span>=<span style=\"color: #008080; text-decoration-color: #008080; font-weight: bold\">0.064</span>, <span style=\"color: #008000; text-decoration-color: #008000\">'graph_embedding'</span>: tensor<span style=\"font-weight: bold\">[</span><span style=\"color: #008080; text-decoration-color: #008080; font-weight: bold\">32</span>, <span style=\"color: #008080; text-decoration-color: #008080; font-weight: bold\">32</span><span style=\"font-weight: bold\">]</span>  <span style=\"color: #7f7f7f; text-decoration-color: #7f7f7f\">               </span>\n",
       "<span style=\"color: #7fbfbf; text-decoration-color: #7fbfbf\">                    </span>         <span style=\"color: #808000; text-decoration-color: #808000\">n</span>=<span style=\"color: #008080; text-decoration-color: #008080; font-weight: bold\">1024</span> <span style=\"font-weight: bold\">(</span>4Kb<span style=\"font-weight: bold\">)</span> x∈<span style=\"font-weight: bold\">[</span><span style=\"color: #008080; text-decoration-color: #008080; font-weight: bold\">-72.752</span>, <span style=\"color: #008080; text-decoration-color: #008080; font-weight: bold\">55.851</span><span style=\"font-weight: bold\">]</span> <span style=\"color: #808000; text-decoration-color: #808000\">μ</span>=<span style=\"color: #008080; text-decoration-color: #008080; font-weight: bold\">-2.110</span> <span style=\"color: #808000; text-decoration-color: #808000\">σ</span>=<span style=\"color: #008080; text-decoration-color: #008080; font-weight: bold\">14.678</span>, <span style=\"color: #008000; text-decoration-color: #008000\">'graph_label'</span>:     <span style=\"color: #7f7f7f; text-decoration-color: #7f7f7f\">               </span>\n",
       "<span style=\"color: #7fbfbf; text-decoration-color: #7fbfbf\">                    </span>         tensor<span style=\"font-weight: bold\">[</span><span style=\"color: #008080; text-decoration-color: #008080; font-weight: bold\">32</span>, <span style=\"color: #008080; text-decoration-color: #008080; font-weight: bold\">1195</span><span style=\"font-weight: bold\">]</span> <span style=\"color: #808000; text-decoration-color: #808000\">n</span>=<span style=\"color: #008080; text-decoration-color: #008080; font-weight: bold\">38240</span> <span style=\"font-weight: bold\">(</span><span style=\"color: #008080; text-decoration-color: #008080; font-weight: bold\">0.</span>1Mb<span style=\"font-weight: bold\">)</span> x∈<span style=\"font-weight: bold\">[</span><span style=\"color: #008080; text-decoration-color: #008080; font-weight: bold\">-19.955</span>, <span style=\"color: #008080; text-decoration-color: #008080; font-weight: bold\">19.080</span><span style=\"font-weight: bold\">]</span> <span style=\"color: #808000; text-decoration-color: #808000\">μ</span>=<span style=\"color: #008080; text-decoration-color: #008080; font-weight: bold\">-0.050</span> <span style=\"color: #808000; text-decoration-color: #808000\">σ</span>=<span style=\"color: #008080; text-decoration-color: #008080; font-weight: bold\">2.646</span><span style=\"font-weight: bold\">}</span> <span style=\"color: #7f7f7f; text-decoration-color: #7f7f7f\">               </span>\n",
       "</pre>\n"
      ],
      "text/plain": [
       "\u001b[2;36m[07/25/24 17:04:19]\u001b[0m\u001b[2;36m \u001b[0m\u001b[34mINFO    \u001b[0m Model output: \u001b[1m{\u001b[0m\u001b[32m'node_embedding'\u001b[0m: tensor\u001b[1m[\u001b[0m\u001b[1;36m7747\u001b[0m, \u001b[1;36m32\u001b[0m\u001b[1m]\u001b[0m \u001b[33mn\u001b[0m=\u001b[1;36m247904\u001b[0m \u001b[1m(\u001b[0m\u001b[1;36m0.\u001b[0m9Mb\u001b[1m)\u001b[0m     \u001b]8;id=649704;file:///home/zhang/Projects/3d/ProteinWorkshop/proteinworkshop/finetune.py\u001b\\\u001b[2mfinetune.py\u001b[0m\u001b]8;;\u001b\\\u001b[2m:\u001b[0m\u001b]8;id=556480;file:///home/zhang/Projects/3d/ProteinWorkshop/proteinworkshop/finetune.py#161\u001b\\\u001b[2m161\u001b[0m\u001b]8;;\u001b\\\n",
       "\u001b[2;36m                    \u001b[0m         x∈\u001b[1m[\u001b[0m\u001b[1;36m-0.240\u001b[0m, \u001b[1;36m0.214\u001b[0m\u001b[1m]\u001b[0m \u001b[33mμ\u001b[0m=\u001b[1;36m-0.009\u001b[0m \u001b[33mσ\u001b[0m=\u001b[1;36m0\u001b[0m\u001b[1;36m.064\u001b[0m, \u001b[32m'graph_embedding'\u001b[0m: tensor\u001b[1m[\u001b[0m\u001b[1;36m32\u001b[0m, \u001b[1;36m32\u001b[0m\u001b[1m]\u001b[0m  \u001b[2m               \u001b[0m\n",
       "\u001b[2;36m                    \u001b[0m         \u001b[33mn\u001b[0m=\u001b[1;36m1024\u001b[0m \u001b[1m(\u001b[0m4Kb\u001b[1m)\u001b[0m x∈\u001b[1m[\u001b[0m\u001b[1;36m-72.752\u001b[0m, \u001b[1;36m55.851\u001b[0m\u001b[1m]\u001b[0m \u001b[33mμ\u001b[0m=\u001b[1;36m-2.110\u001b[0m \u001b[33mσ\u001b[0m=\u001b[1;36m14\u001b[0m\u001b[1;36m.678\u001b[0m, \u001b[32m'graph_label'\u001b[0m:     \u001b[2m               \u001b[0m\n",
       "\u001b[2;36m                    \u001b[0m         tensor\u001b[1m[\u001b[0m\u001b[1;36m32\u001b[0m, \u001b[1;36m1195\u001b[0m\u001b[1m]\u001b[0m \u001b[33mn\u001b[0m=\u001b[1;36m38240\u001b[0m \u001b[1m(\u001b[0m\u001b[1;36m0.\u001b[0m1Mb\u001b[1m)\u001b[0m x∈\u001b[1m[\u001b[0m\u001b[1;36m-19.955\u001b[0m, \u001b[1;36m19.080\u001b[0m\u001b[1m]\u001b[0m \u001b[33mμ\u001b[0m=\u001b[1;36m-0.050\u001b[0m \u001b[33mσ\u001b[0m=\u001b[1;36m2\u001b[0m\u001b[1;36m.646\u001b[0m\u001b[1m}\u001b[0m \u001b[2m               \u001b[0m\n"
      ]
     },
     "metadata": {},
     "output_type": "display_data"
    },
    {
     "data": {
      "text/html": [
       "<pre style=\"white-space:pre;overflow-x:auto;line-height:normal;font-family:Menlo,'DejaVu Sans Mono',consolas,'Courier New',monospace\"><span style=\"color: #7fbfbf; text-decoration-color: #7fbfbf\">                    </span><span style=\"color: #000080; text-decoration-color: #000080\">INFO    </span> Loading weights from checkpoint                                        <a href=\"file:///home/zhang/Projects/3d/ProteinWorkshop/proteinworkshop/finetune.py\" target=\"_blank\"><span style=\"color: #7f7f7f; text-decoration-color: #7f7f7f\">finetune.py</span></a><span style=\"color: #7f7f7f; text-decoration-color: #7f7f7f\">:</span><a href=\"file:///home/zhang/Projects/3d/ProteinWorkshop/proteinworkshop/finetune.py#165\" target=\"_blank\"><span style=\"color: #7f7f7f; text-decoration-color: #7f7f7f\">165</span></a>\n",
       "<span style=\"color: #7fbfbf; text-decoration-color: #7fbfbf\">                    </span>         <span style=\"color: #800080; text-decoration-color: #800080\">/home/zhang/Projects/3d/ProteinWorkshop/notebooks/</span><span style=\"color: #ff00ff; text-decoration-color: #ff00ff\">outputs_schnet_pretr</span> <span style=\"color: #7f7f7f; text-decoration-color: #7f7f7f\">               </span>\n",
       "<span style=\"color: #7fbfbf; text-decoration-color: #7fbfbf\">                    </span>         <span style=\"color: #ff00ff; text-decoration-color: #ff00ff\">aining_</span>@<span style=\"color: #800080; text-decoration-color: #800080; font-weight: bold\">1</span><span style=\"font-weight: bold\">(</span><span style=\"color: #008080; text-decoration-color: #008080; font-weight: bold\">3e-4</span>, ca, warmup<span style=\"font-weight: bold\">)</span><span style=\"color: #800080; text-decoration-color: #800080\">/checkpoints/</span><span style=\"color: #ff00ff; text-decoration-color: #ff00ff\">epoch_001.ckpt...</span>              <span style=\"color: #7f7f7f; text-decoration-color: #7f7f7f\">               </span>\n",
       "</pre>\n"
      ],
      "text/plain": [
       "\u001b[2;36m                   \u001b[0m\u001b[2;36m \u001b[0m\u001b[34mINFO    \u001b[0m Loading weights from checkpoint                                        \u001b]8;id=355341;file:///home/zhang/Projects/3d/ProteinWorkshop/proteinworkshop/finetune.py\u001b\\\u001b[2mfinetune.py\u001b[0m\u001b]8;;\u001b\\\u001b[2m:\u001b[0m\u001b]8;id=864189;file:///home/zhang/Projects/3d/ProteinWorkshop/proteinworkshop/finetune.py#165\u001b\\\u001b[2m165\u001b[0m\u001b]8;;\u001b\\\n",
       "\u001b[2;36m                    \u001b[0m         \u001b[35m/home/zhang/Projects/3d/ProteinWorkshop/notebooks/\u001b[0m\u001b[95moutputs_schnet_pretr\u001b[0m \u001b[2m               \u001b[0m\n",
       "\u001b[2;36m                    \u001b[0m         \u001b[95maining_\u001b[0m@\u001b[1;35m1\u001b[0m\u001b[1m(\u001b[0m\u001b[1;36m3e-4\u001b[0m, ca, warmup\u001b[1m)\u001b[0m\u001b[35m/checkpoints/\u001b[0m\u001b[95mepoch_001.ckpt...\u001b[0m              \u001b[2m               \u001b[0m\n"
      ]
     },
     "metadata": {},
     "output_type": "display_data"
    },
    {
     "data": {
      "text/html": [
       "<pre style=\"white-space:pre;overflow-x:auto;line-height:normal;font-family:Menlo,'DejaVu Sans Mono',consolas,'Courier New',monospace\"><span style=\"color: #7fbfbf; text-decoration-color: #7fbfbf\">                    </span><span style=\"color: #000080; text-decoration-color: #000080\">INFO    </span> Loading encoder weights: <span style=\"color: #800080; text-decoration-color: #800080; font-weight: bold\">OrderedDict</span><span style=\"font-weight: bold\">([(</span><span style=\"color: #008000; text-decoration-color: #008000\">'embedding.weight'</span>, tensor<span style=\"font-weight: bold\">[</span><span style=\"color: #008080; text-decoration-color: #008080; font-weight: bold\">512</span>, <a href=\"file:///home/zhang/Projects/3d/ProteinWorkshop/proteinworkshop/finetune.py\" target=\"_blank\"><span style=\"color: #7f7f7f; text-decoration-color: #7f7f7f\">finetune.py</span></a><span style=\"color: #7f7f7f; text-decoration-color: #7f7f7f\">:</span><a href=\"file:///home/zhang/Projects/3d/ProteinWorkshop/proteinworkshop/finetune.py#173\" target=\"_blank\"><span style=\"color: #7f7f7f; text-decoration-color: #7f7f7f\">173</span></a>\n",
       "<span style=\"color: #7fbfbf; text-decoration-color: #7fbfbf\">                    </span>         <span style=\"color: #008080; text-decoration-color: #008080; font-weight: bold\">23</span><span style=\"font-weight: bold\">]</span> <span style=\"color: #808000; text-decoration-color: #808000\">n</span>=<span style=\"color: #008080; text-decoration-color: #008080; font-weight: bold\">11776</span> <span style=\"font-weight: bold\">(</span>46Kb<span style=\"font-weight: bold\">)</span> x∈<span style=\"font-weight: bold\">[</span><span style=\"color: #008080; text-decoration-color: #008080; font-weight: bold\">-0.255</span>, <span style=\"color: #008080; text-decoration-color: #008080; font-weight: bold\">0.246</span><span style=\"font-weight: bold\">]</span> <span style=\"color: #808000; text-decoration-color: #808000\">μ</span>=<span style=\"color: #008080; text-decoration-color: #008080; font-weight: bold\">-0.001</span> <span style=\"color: #808000; text-decoration-color: #808000\">σ</span>=<span style=\"color: #008080; text-decoration-color: #008080; font-weight: bold\">0.120</span> cu<span style=\"color: #00ff00; text-decoration-color: #00ff00; font-weight: bold\">da:0</span><span style=\"font-weight: bold\">)</span>,         <span style=\"color: #7f7f7f; text-decoration-color: #7f7f7f\">               </span>\n",
       "<span style=\"color: #7fbfbf; text-decoration-color: #7fbfbf\">                    </span>         <span style=\"font-weight: bold\">(</span><span style=\"color: #008000; text-decoration-color: #008000\">'embedding.bias'</span>, tensor<span style=\"font-weight: bold\">[</span><span style=\"color: #008080; text-decoration-color: #008080; font-weight: bold\">512</span><span style=\"font-weight: bold\">]</span> 2Kb x∈<span style=\"font-weight: bold\">[</span><span style=\"color: #008080; text-decoration-color: #008080; font-weight: bold\">-0.197</span>, <span style=\"color: #008080; text-decoration-color: #008080; font-weight: bold\">0.190</span><span style=\"font-weight: bold\">]</span> <span style=\"color: #808000; text-decoration-color: #808000\">μ</span>=<span style=\"color: #008080; text-decoration-color: #008080; font-weight: bold\">0.000</span> <span style=\"color: #808000; text-decoration-color: #808000\">σ</span>=<span style=\"color: #008080; text-decoration-color: #008080; font-weight: bold\">0.103</span>   <span style=\"color: #7f7f7f; text-decoration-color: #7f7f7f\">               </span>\n",
       "<span style=\"color: #7fbfbf; text-decoration-color: #7fbfbf\">                    </span>         cu<span style=\"color: #00ff00; text-decoration-color: #00ff00; font-weight: bold\">da:0</span><span style=\"font-weight: bold\">)</span>, <span style=\"font-weight: bold\">(</span><span style=\"color: #008000; text-decoration-color: #008000\">'distance_expansion.offset'</span>, tensor<span style=\"font-weight: bold\">[</span><span style=\"color: #008080; text-decoration-color: #008080; font-weight: bold\">50</span><span style=\"font-weight: bold\">]</span> x∈<span style=\"font-weight: bold\">[</span><span style=\"color: #008080; text-decoration-color: #008080; font-weight: bold\">0</span>., <span style=\"color: #008080; text-decoration-color: #008080; font-weight: bold\">10.000</span><span style=\"font-weight: bold\">]</span>       <span style=\"color: #7f7f7f; text-decoration-color: #7f7f7f\">               </span>\n",
       "<span style=\"color: #7fbfbf; text-decoration-color: #7fbfbf\">                    </span>         <span style=\"color: #808000; text-decoration-color: #808000\">μ</span>=<span style=\"color: #008080; text-decoration-color: #008080; font-weight: bold\">5.000</span> <span style=\"color: #808000; text-decoration-color: #808000\">σ</span>=<span style=\"color: #008080; text-decoration-color: #008080; font-weight: bold\">2.975</span> cu<span style=\"color: #00ff00; text-decoration-color: #00ff00; font-weight: bold\">da:0</span><span style=\"font-weight: bold\">)</span>, <span style=\"font-weight: bold\">(</span><span style=\"color: #008000; text-decoration-color: #008000\">'interactions.0.mlp.0.weight'</span>, tensor<span style=\"font-weight: bold\">[</span><span style=\"color: #008080; text-decoration-color: #008080; font-weight: bold\">128</span>,   <span style=\"color: #7f7f7f; text-decoration-color: #7f7f7f\">               </span>\n",
       "<span style=\"color: #7fbfbf; text-decoration-color: #7fbfbf\">                    </span>         <span style=\"color: #008080; text-decoration-color: #008080; font-weight: bold\">50</span><span style=\"font-weight: bold\">]</span> <span style=\"color: #808000; text-decoration-color: #808000\">n</span>=<span style=\"color: #008080; text-decoration-color: #008080; font-weight: bold\">6400</span> <span style=\"font-weight: bold\">(</span>25Kb<span style=\"font-weight: bold\">)</span> x∈<span style=\"font-weight: bold\">[</span><span style=\"color: #008080; text-decoration-color: #008080; font-weight: bold\">-0.265</span>, <span style=\"color: #008080; text-decoration-color: #008080; font-weight: bold\">0.225</span><span style=\"font-weight: bold\">]</span> <span style=\"color: #808000; text-decoration-color: #808000\">μ</span>=<span style=\"color: #008080; text-decoration-color: #008080; font-weight: bold\">-0.000</span> <span style=\"color: #808000; text-decoration-color: #808000\">σ</span>=<span style=\"color: #008080; text-decoration-color: #008080; font-weight: bold\">0.107</span> cu<span style=\"color: #00ff00; text-decoration-color: #00ff00; font-weight: bold\">da:0</span><span style=\"font-weight: bold\">)</span>,          <span style=\"color: #7f7f7f; text-decoration-color: #7f7f7f\">               </span>\n",
       "<span style=\"color: #7fbfbf; text-decoration-color: #7fbfbf\">                    </span>         <span style=\"font-weight: bold\">(</span><span style=\"color: #008000; text-decoration-color: #008000\">'interactions.0.mlp.0.bias'</span>, tensor<span style=\"font-weight: bold\">[</span><span style=\"color: #008080; text-decoration-color: #008080; font-weight: bold\">128</span><span style=\"font-weight: bold\">]</span> x∈<span style=\"font-weight: bold\">[</span><span style=\"color: #008080; text-decoration-color: #008080; font-weight: bold\">-0.034</span>, <span style=\"color: #008080; text-decoration-color: #008080; font-weight: bold\">0.033</span><span style=\"font-weight: bold\">]</span> <span style=\"color: #808000; text-decoration-color: #808000\">μ</span>=<span style=\"color: #008080; text-decoration-color: #008080; font-weight: bold\">-0.001</span>   <span style=\"color: #7f7f7f; text-decoration-color: #7f7f7f\">               </span>\n",
       "<span style=\"color: #7fbfbf; text-decoration-color: #7fbfbf\">                    </span>         <span style=\"color: #808000; text-decoration-color: #808000\">σ</span>=<span style=\"color: #008080; text-decoration-color: #008080; font-weight: bold\">0.016</span> cu<span style=\"color: #00ff00; text-decoration-color: #00ff00; font-weight: bold\">da:0</span><span style=\"font-weight: bold\">)</span>, <span style=\"font-weight: bold\">(</span><span style=\"color: #008000; text-decoration-color: #008000\">'interactions.0.mlp.2.weight'</span>, tensor<span style=\"font-weight: bold\">[</span><span style=\"color: #008080; text-decoration-color: #008080; font-weight: bold\">128</span>, <span style=\"color: #008080; text-decoration-color: #008080; font-weight: bold\">128</span><span style=\"font-weight: bold\">]</span>      <span style=\"color: #7f7f7f; text-decoration-color: #7f7f7f\">               </span>\n",
       "<span style=\"color: #7fbfbf; text-decoration-color: #7fbfbf\">                    </span>         <span style=\"color: #808000; text-decoration-color: #808000\">n</span>=<span style=\"color: #008080; text-decoration-color: #008080; font-weight: bold\">16384</span> <span style=\"font-weight: bold\">(</span>64Kb<span style=\"font-weight: bold\">)</span> x∈<span style=\"font-weight: bold\">[</span><span style=\"color: #008080; text-decoration-color: #008080; font-weight: bold\">-0.217</span>, <span style=\"color: #008080; text-decoration-color: #008080; font-weight: bold\">0.216</span><span style=\"font-weight: bold\">]</span> <span style=\"color: #808000; text-decoration-color: #808000\">μ</span>=<span style=\"color: #008080; text-decoration-color: #008080; font-weight: bold\">-5.062e-05</span> <span style=\"color: #808000; text-decoration-color: #808000\">σ</span>=<span style=\"color: #008080; text-decoration-color: #008080; font-weight: bold\">0.088</span> cu<span style=\"color: #00ff00; text-decoration-color: #00ff00; font-weight: bold\">da:0</span><span style=\"font-weight: bold\">)</span>,         <span style=\"color: #7f7f7f; text-decoration-color: #7f7f7f\">               </span>\n",
       "<span style=\"color: #7fbfbf; text-decoration-color: #7fbfbf\">                    </span>         <span style=\"font-weight: bold\">(</span><span style=\"color: #008000; text-decoration-color: #008000\">'interactions.0.mlp.2.bias'</span>, tensor<span style=\"font-weight: bold\">[</span><span style=\"color: #008080; text-decoration-color: #008080; font-weight: bold\">128</span><span style=\"font-weight: bold\">]</span> x∈<span style=\"font-weight: bold\">[</span><span style=\"color: #008080; text-decoration-color: #008080; font-weight: bold\">-0.031</span>, <span style=\"color: #008080; text-decoration-color: #008080; font-weight: bold\">0.016</span><span style=\"font-weight: bold\">]</span> <span style=\"color: #808000; text-decoration-color: #808000\">μ</span>=<span style=\"color: #008080; text-decoration-color: #008080; font-weight: bold\">-0.001</span>   <span style=\"color: #7f7f7f; text-decoration-color: #7f7f7f\">               </span>\n",
       "<span style=\"color: #7fbfbf; text-decoration-color: #7fbfbf\">                    </span>         <span style=\"color: #808000; text-decoration-color: #808000\">σ</span>=<span style=\"color: #008080; text-decoration-color: #008080; font-weight: bold\">0.009</span> cu<span style=\"color: #00ff00; text-decoration-color: #00ff00; font-weight: bold\">da:0</span><span style=\"font-weight: bold\">)</span>, <span style=\"font-weight: bold\">(</span><span style=\"color: #008000; text-decoration-color: #008000\">'interactions.0.conv.lin1.weight'</span>, tensor<span style=\"font-weight: bold\">[</span><span style=\"color: #008080; text-decoration-color: #008080; font-weight: bold\">128</span>, <span style=\"color: #008080; text-decoration-color: #008080; font-weight: bold\">512</span><span style=\"font-weight: bold\">]</span>  <span style=\"color: #7f7f7f; text-decoration-color: #7f7f7f\">               </span>\n",
       "<span style=\"color: #7fbfbf; text-decoration-color: #7fbfbf\">                    </span>         <span style=\"color: #808000; text-decoration-color: #808000\">n</span>=<span style=\"color: #008080; text-decoration-color: #008080; font-weight: bold\">65536</span> <span style=\"font-weight: bold\">(</span><span style=\"color: #008080; text-decoration-color: #008080; font-weight: bold\">0.</span>2Mb<span style=\"font-weight: bold\">)</span> x∈<span style=\"font-weight: bold\">[</span><span style=\"color: #008080; text-decoration-color: #008080; font-weight: bold\">-0.166</span>, <span style=\"color: #008080; text-decoration-color: #008080; font-weight: bold\">0.153</span><span style=\"font-weight: bold\">]</span> <span style=\"color: #808000; text-decoration-color: #808000\">μ</span>=<span style=\"color: #008080; text-decoration-color: #008080; font-weight: bold\">0.000</span> <span style=\"color: #808000; text-decoration-color: #808000\">σ</span>=<span style=\"color: #008080; text-decoration-color: #008080; font-weight: bold\">0.057</span> cu<span style=\"color: #00ff00; text-decoration-color: #00ff00; font-weight: bold\">da:0</span><span style=\"font-weight: bold\">)</span>,             <span style=\"color: #7f7f7f; text-decoration-color: #7f7f7f\">               </span>\n",
       "<span style=\"color: #7fbfbf; text-decoration-color: #7fbfbf\">                    </span>         <span style=\"font-weight: bold\">(</span><span style=\"color: #008000; text-decoration-color: #008000\">'interactions.0.conv.lin2.weight'</span>, tensor<span style=\"font-weight: bold\">[</span><span style=\"color: #008080; text-decoration-color: #008080; font-weight: bold\">512</span>, <span style=\"color: #008080; text-decoration-color: #008080; font-weight: bold\">128</span><span style=\"font-weight: bold\">]</span> <span style=\"color: #808000; text-decoration-color: #808000\">n</span>=<span style=\"color: #008080; text-decoration-color: #008080; font-weight: bold\">65536</span> <span style=\"font-weight: bold\">(</span><span style=\"color: #008080; text-decoration-color: #008080; font-weight: bold\">0.</span>2Mb<span style=\"font-weight: bold\">)</span>   <span style=\"color: #7f7f7f; text-decoration-color: #7f7f7f\">               </span>\n",
       "<span style=\"color: #7fbfbf; text-decoration-color: #7fbfbf\">                    </span>         x∈<span style=\"font-weight: bold\">[</span><span style=\"color: #008080; text-decoration-color: #008080; font-weight: bold\">-0.159</span>, <span style=\"color: #008080; text-decoration-color: #008080; font-weight: bold\">0.156</span><span style=\"font-weight: bold\">]</span> <span style=\"color: #808000; text-decoration-color: #808000\">μ</span>=<span style=\"color: #008080; text-decoration-color: #008080; font-weight: bold\">0.000</span> <span style=\"color: #808000; text-decoration-color: #808000\">σ</span>=<span style=\"color: #008080; text-decoration-color: #008080; font-weight: bold\">0.056</span> cu<span style=\"color: #00ff00; text-decoration-color: #00ff00; font-weight: bold\">da:0</span><span style=\"font-weight: bold\">)</span>,                             <span style=\"color: #7f7f7f; text-decoration-color: #7f7f7f\">               </span>\n",
       "<span style=\"color: #7fbfbf; text-decoration-color: #7fbfbf\">                    </span>         <span style=\"font-weight: bold\">(</span><span style=\"color: #008000; text-decoration-color: #008000\">'interactions.0.conv.lin2.bias'</span>, tensor<span style=\"font-weight: bold\">[</span><span style=\"color: #008080; text-decoration-color: #008080; font-weight: bold\">512</span><span style=\"font-weight: bold\">]</span> 2Kb x∈<span style=\"font-weight: bold\">[</span><span style=\"color: #008080; text-decoration-color: #008080; font-weight: bold\">-0.052</span>, <span style=\"color: #008080; text-decoration-color: #008080; font-weight: bold\">0.035</span><span style=\"font-weight: bold\">]</span>    <span style=\"color: #7f7f7f; text-decoration-color: #7f7f7f\">               </span>\n",
       "<span style=\"color: #7fbfbf; text-decoration-color: #7fbfbf\">                    </span>         <span style=\"color: #808000; text-decoration-color: #808000\">μ</span>=<span style=\"color: #008080; text-decoration-color: #008080; font-weight: bold\">-0.001</span> <span style=\"color: #808000; text-decoration-color: #808000\">σ</span>=<span style=\"color: #008080; text-decoration-color: #008080; font-weight: bold\">0.014</span> cu<span style=\"color: #00ff00; text-decoration-color: #00ff00; font-weight: bold\">da:0</span><span style=\"font-weight: bold\">)</span>, <span style=\"font-weight: bold\">(</span><span style=\"color: #008000; text-decoration-color: #008000\">'interactions.0.conv.nn.0.weight'</span>,          <span style=\"color: #7f7f7f; text-decoration-color: #7f7f7f\">               </span>\n",
       "<span style=\"color: #7fbfbf; text-decoration-color: #7fbfbf\">                    </span>         tensor<span style=\"font-weight: bold\">[</span><span style=\"color: #008080; text-decoration-color: #008080; font-weight: bold\">128</span>, <span style=\"color: #008080; text-decoration-color: #008080; font-weight: bold\">50</span><span style=\"font-weight: bold\">]</span> <span style=\"color: #808000; text-decoration-color: #808000\">n</span>=<span style=\"color: #008080; text-decoration-color: #008080; font-weight: bold\">6400</span> <span style=\"font-weight: bold\">(</span>25Kb<span style=\"font-weight: bold\">)</span> x∈<span style=\"font-weight: bold\">[</span><span style=\"color: #008080; text-decoration-color: #008080; font-weight: bold\">-0.265</span>, <span style=\"color: #008080; text-decoration-color: #008080; font-weight: bold\">0.225</span><span style=\"font-weight: bold\">]</span> <span style=\"color: #808000; text-decoration-color: #808000\">μ</span>=<span style=\"color: #008080; text-decoration-color: #008080; font-weight: bold\">-0.000</span> <span style=\"color: #808000; text-decoration-color: #808000\">σ</span>=<span style=\"color: #008080; text-decoration-color: #008080; font-weight: bold\">0.107</span>       <span style=\"color: #7f7f7f; text-decoration-color: #7f7f7f\">               </span>\n",
       "<span style=\"color: #7fbfbf; text-decoration-color: #7fbfbf\">                    </span>         cu<span style=\"color: #00ff00; text-decoration-color: #00ff00; font-weight: bold\">da:0</span><span style=\"font-weight: bold\">)</span>, <span style=\"font-weight: bold\">(</span><span style=\"color: #008000; text-decoration-color: #008000\">'interactions.0.conv.nn.0.bias'</span>, tensor<span style=\"font-weight: bold\">[</span><span style=\"color: #008080; text-decoration-color: #008080; font-weight: bold\">128</span><span style=\"font-weight: bold\">]</span> x∈<span style=\"font-weight: bold\">[</span><span style=\"color: #008080; text-decoration-color: #008080; font-weight: bold\">-0.034</span>,      <span style=\"color: #7f7f7f; text-decoration-color: #7f7f7f\">               </span>\n",
       "<span style=\"color: #7fbfbf; text-decoration-color: #7fbfbf\">                    </span>         <span style=\"color: #008080; text-decoration-color: #008080; font-weight: bold\">0.033</span><span style=\"font-weight: bold\">]</span> <span style=\"color: #808000; text-decoration-color: #808000\">μ</span>=<span style=\"color: #008080; text-decoration-color: #008080; font-weight: bold\">-0.001</span> <span style=\"color: #808000; text-decoration-color: #808000\">σ</span>=<span style=\"color: #008080; text-decoration-color: #008080; font-weight: bold\">0.016</span> cu<span style=\"color: #00ff00; text-decoration-color: #00ff00; font-weight: bold\">da:0</span><span style=\"font-weight: bold\">)</span>, <span style=\"font-weight: bold\">(</span><span style=\"color: #008000; text-decoration-color: #008000\">'interactions.0.conv.nn.2.weight'</span>,   <span style=\"color: #7f7f7f; text-decoration-color: #7f7f7f\">               </span>\n",
       "<span style=\"color: #7fbfbf; text-decoration-color: #7fbfbf\">                    </span>         tensor<span style=\"font-weight: bold\">[</span><span style=\"color: #008080; text-decoration-color: #008080; font-weight: bold\">128</span>, <span style=\"color: #008080; text-decoration-color: #008080; font-weight: bold\">128</span><span style=\"font-weight: bold\">]</span> <span style=\"color: #808000; text-decoration-color: #808000\">n</span>=<span style=\"color: #008080; text-decoration-color: #008080; font-weight: bold\">16384</span> <span style=\"font-weight: bold\">(</span>64Kb<span style=\"font-weight: bold\">)</span> x∈<span style=\"font-weight: bold\">[</span><span style=\"color: #008080; text-decoration-color: #008080; font-weight: bold\">-0.217</span>, <span style=\"color: #008080; text-decoration-color: #008080; font-weight: bold\">0.216</span><span style=\"font-weight: bold\">]</span> <span style=\"color: #808000; text-decoration-color: #808000\">μ</span>=<span style=\"color: #008080; text-decoration-color: #008080; font-weight: bold\">-5.062e-05</span> <span style=\"color: #808000; text-decoration-color: #808000\">σ</span>=<span style=\"color: #008080; text-decoration-color: #008080; font-weight: bold\">0.088</span> <span style=\"color: #7f7f7f; text-decoration-color: #7f7f7f\">               </span>\n",
       "<span style=\"color: #7fbfbf; text-decoration-color: #7fbfbf\">                    </span>         cu<span style=\"color: #00ff00; text-decoration-color: #00ff00; font-weight: bold\">da:0</span><span style=\"font-weight: bold\">)</span>, <span style=\"font-weight: bold\">(</span><span style=\"color: #008000; text-decoration-color: #008000\">'interactions.0.conv.nn.2.bias'</span>, tensor<span style=\"font-weight: bold\">[</span><span style=\"color: #008080; text-decoration-color: #008080; font-weight: bold\">128</span><span style=\"font-weight: bold\">]</span> x∈<span style=\"font-weight: bold\">[</span><span style=\"color: #008080; text-decoration-color: #008080; font-weight: bold\">-0.031</span>,      <span style=\"color: #7f7f7f; text-decoration-color: #7f7f7f\">               </span>\n",
       "<span style=\"color: #7fbfbf; text-decoration-color: #7fbfbf\">                    </span>         <span style=\"color: #008080; text-decoration-color: #008080; font-weight: bold\">0.016</span><span style=\"font-weight: bold\">]</span> <span style=\"color: #808000; text-decoration-color: #808000\">μ</span>=<span style=\"color: #008080; text-decoration-color: #008080; font-weight: bold\">-0.001</span> <span style=\"color: #808000; text-decoration-color: #808000\">σ</span>=<span style=\"color: #008080; text-decoration-color: #008080; font-weight: bold\">0.009</span> cu<span style=\"color: #00ff00; text-decoration-color: #00ff00; font-weight: bold\">da:0</span><span style=\"font-weight: bold\">)</span>, <span style=\"font-weight: bold\">(</span><span style=\"color: #008000; text-decoration-color: #008000\">'interactions.0.lin.weight'</span>,         <span style=\"color: #7f7f7f; text-decoration-color: #7f7f7f\">               </span>\n",
       "<span style=\"color: #7fbfbf; text-decoration-color: #7fbfbf\">                    </span>         tensor<span style=\"font-weight: bold\">[</span><span style=\"color: #008080; text-decoration-color: #008080; font-weight: bold\">512</span>, <span style=\"color: #008080; text-decoration-color: #008080; font-weight: bold\">512</span><span style=\"font-weight: bold\">]</span> <span style=\"color: #808000; text-decoration-color: #808000\">n</span>=<span style=\"color: #008080; text-decoration-color: #008080; font-weight: bold\">262144</span> <span style=\"font-weight: bold\">(</span>1Mb<span style=\"font-weight: bold\">)</span> x∈<span style=\"font-weight: bold\">[</span><span style=\"color: #008080; text-decoration-color: #008080; font-weight: bold\">-0.139</span>, <span style=\"color: #008080; text-decoration-color: #008080; font-weight: bold\">0.139</span><span style=\"font-weight: bold\">]</span> <span style=\"color: #808000; text-decoration-color: #808000\">μ</span>=<span style=\"color: #008080; text-decoration-color: #008080; font-weight: bold\">-5.768e-06</span> <span style=\"color: #808000; text-decoration-color: #808000\">σ</span>=<span style=\"color: #008080; text-decoration-color: #008080; font-weight: bold\">0.047</span> <span style=\"color: #7f7f7f; text-decoration-color: #7f7f7f\">               </span>\n",
       "<span style=\"color: #7fbfbf; text-decoration-color: #7fbfbf\">                    </span>         cu<span style=\"color: #00ff00; text-decoration-color: #00ff00; font-weight: bold\">da:0</span><span style=\"font-weight: bold\">)</span>, <span style=\"font-weight: bold\">(</span><span style=\"color: #008000; text-decoration-color: #008000\">'interactions.0.lin.bias'</span>, tensor<span style=\"font-weight: bold\">[</span><span style=\"color: #008080; text-decoration-color: #008080; font-weight: bold\">512</span><span style=\"font-weight: bold\">]</span> 2Kb x∈<span style=\"font-weight: bold\">[</span><span style=\"color: #008080; text-decoration-color: #008080; font-weight: bold\">-0.041</span>, <span style=\"color: #008080; text-decoration-color: #008080; font-weight: bold\">0.038</span><span style=\"font-weight: bold\">]</span> <span style=\"color: #7f7f7f; text-decoration-color: #7f7f7f\">               </span>\n",
       "<span style=\"color: #7fbfbf; text-decoration-color: #7fbfbf\">                    </span>         <span style=\"color: #808000; text-decoration-color: #808000\">μ</span>=<span style=\"color: #008080; text-decoration-color: #008080; font-weight: bold\">-0.000</span> <span style=\"color: #808000; text-decoration-color: #808000\">σ</span>=<span style=\"color: #008080; text-decoration-color: #008080; font-weight: bold\">0.018</span> cu<span style=\"color: #00ff00; text-decoration-color: #00ff00; font-weight: bold\">da:0</span><span style=\"font-weight: bold\">)</span>, <span style=\"font-weight: bold\">(</span><span style=\"color: #008000; text-decoration-color: #008000\">'interactions.1.mlp.0.weight'</span>, tensor<span style=\"font-weight: bold\">[</span><span style=\"color: #008080; text-decoration-color: #008080; font-weight: bold\">128</span>,  <span style=\"color: #7f7f7f; text-decoration-color: #7f7f7f\">               </span>\n",
       "<span style=\"color: #7fbfbf; text-decoration-color: #7fbfbf\">                    </span>         <span style=\"color: #008080; text-decoration-color: #008080; font-weight: bold\">50</span><span style=\"font-weight: bold\">]</span> <span style=\"color: #808000; text-decoration-color: #808000\">n</span>=<span style=\"color: #008080; text-decoration-color: #008080; font-weight: bold\">6400</span> <span style=\"font-weight: bold\">(</span>25Kb<span style=\"font-weight: bold\">)</span> x∈<span style=\"font-weight: bold\">[</span><span style=\"color: #008080; text-decoration-color: #008080; font-weight: bold\">-0.255</span>, <span style=\"color: #008080; text-decoration-color: #008080; font-weight: bold\">0.260</span><span style=\"font-weight: bold\">]</span> <span style=\"color: #808000; text-decoration-color: #808000\">μ</span>=<span style=\"color: #008080; text-decoration-color: #008080; font-weight: bold\">-0.001</span> <span style=\"color: #808000; text-decoration-color: #808000\">σ</span>=<span style=\"color: #008080; text-decoration-color: #008080; font-weight: bold\">0.107</span> cu<span style=\"color: #00ff00; text-decoration-color: #00ff00; font-weight: bold\">da:0</span><span style=\"font-weight: bold\">)</span>,          <span style=\"color: #7f7f7f; text-decoration-color: #7f7f7f\">               </span>\n",
       "<span style=\"color: #7fbfbf; text-decoration-color: #7fbfbf\">                    </span>         <span style=\"font-weight: bold\">(</span><span style=\"color: #008000; text-decoration-color: #008000\">'interactions.1.mlp.0.bias'</span>, tensor<span style=\"font-weight: bold\">[</span><span style=\"color: #008080; text-decoration-color: #008080; font-weight: bold\">128</span><span style=\"font-weight: bold\">]</span> x∈<span style=\"font-weight: bold\">[</span><span style=\"color: #008080; text-decoration-color: #008080; font-weight: bold\">-0.036</span>, <span style=\"color: #008080; text-decoration-color: #008080; font-weight: bold\">0.036</span><span style=\"font-weight: bold\">]</span>            <span style=\"color: #7f7f7f; text-decoration-color: #7f7f7f\">               </span>\n",
       "<span style=\"color: #7fbfbf; text-decoration-color: #7fbfbf\">                    </span>         <span style=\"color: #808000; text-decoration-color: #808000\">μ</span>=<span style=\"color: #008080; text-decoration-color: #008080; font-weight: bold\">2.896e-05</span> <span style=\"color: #808000; text-decoration-color: #808000\">σ</span>=<span style=\"color: #008080; text-decoration-color: #008080; font-weight: bold\">0.016</span> cu<span style=\"color: #00ff00; text-decoration-color: #00ff00; font-weight: bold\">da:0</span><span style=\"font-weight: bold\">)</span>, <span style=\"font-weight: bold\">(</span><span style=\"color: #008000; text-decoration-color: #008000\">'interactions.1.mlp.2.weight'</span>,           <span style=\"color: #7f7f7f; text-decoration-color: #7f7f7f\">               </span>\n",
       "<span style=\"color: #7fbfbf; text-decoration-color: #7fbfbf\">                    </span>         tensor<span style=\"font-weight: bold\">[</span><span style=\"color: #008080; text-decoration-color: #008080; font-weight: bold\">128</span>, <span style=\"color: #008080; text-decoration-color: #008080; font-weight: bold\">128</span><span style=\"font-weight: bold\">]</span> <span style=\"color: #808000; text-decoration-color: #808000\">n</span>=<span style=\"color: #008080; text-decoration-color: #008080; font-weight: bold\">16384</span> <span style=\"font-weight: bold\">(</span>64Kb<span style=\"font-weight: bold\">)</span> x∈<span style=\"font-weight: bold\">[</span><span style=\"color: #008080; text-decoration-color: #008080; font-weight: bold\">-0.216</span>, <span style=\"color: #008080; text-decoration-color: #008080; font-weight: bold\">0.207</span><span style=\"font-weight: bold\">]</span> <span style=\"color: #808000; text-decoration-color: #808000\">μ</span>=<span style=\"color: #008080; text-decoration-color: #008080; font-weight: bold\">-0.001</span> <span style=\"color: #808000; text-decoration-color: #808000\">σ</span>=<span style=\"color: #008080; text-decoration-color: #008080; font-weight: bold\">0.088</span>     <span style=\"color: #7f7f7f; text-decoration-color: #7f7f7f\">               </span>\n",
       "<span style=\"color: #7fbfbf; text-decoration-color: #7fbfbf\">                    </span>         cu<span style=\"color: #00ff00; text-decoration-color: #00ff00; font-weight: bold\">da:0</span><span style=\"font-weight: bold\">)</span>, <span style=\"font-weight: bold\">(</span><span style=\"color: #008000; text-decoration-color: #008000\">'interactions.1.mlp.2.bias'</span>, tensor<span style=\"font-weight: bold\">[</span><span style=\"color: #008080; text-decoration-color: #008080; font-weight: bold\">128</span><span style=\"font-weight: bold\">]</span> x∈<span style=\"font-weight: bold\">[</span><span style=\"color: #008080; text-decoration-color: #008080; font-weight: bold\">-0.026</span>, <span style=\"color: #008080; text-decoration-color: #008080; font-weight: bold\">0.025</span><span style=\"font-weight: bold\">]</span>   <span style=\"color: #7f7f7f; text-decoration-color: #7f7f7f\">               </span>\n",
       "<span style=\"color: #7fbfbf; text-decoration-color: #7fbfbf\">                    </span>         <span style=\"color: #808000; text-decoration-color: #808000\">μ</span>=<span style=\"color: #008080; text-decoration-color: #008080; font-weight: bold\">0.000</span> <span style=\"color: #808000; text-decoration-color: #808000\">σ</span>=<span style=\"color: #008080; text-decoration-color: #008080; font-weight: bold\">0.010</span> cu<span style=\"color: #00ff00; text-decoration-color: #00ff00; font-weight: bold\">da:0</span><span style=\"font-weight: bold\">)</span>, <span style=\"font-weight: bold\">(</span><span style=\"color: #008000; text-decoration-color: #008000\">'interactions.1.conv.lin1.weight'</span>,           <span style=\"color: #7f7f7f; text-decoration-color: #7f7f7f\">               </span>\n",
       "<span style=\"color: #7fbfbf; text-decoration-color: #7fbfbf\">                    </span>         tensor<span style=\"font-weight: bold\">[</span><span style=\"color: #008080; text-decoration-color: #008080; font-weight: bold\">128</span>, <span style=\"color: #008080; text-decoration-color: #008080; font-weight: bold\">512</span><span style=\"font-weight: bold\">]</span> <span style=\"color: #808000; text-decoration-color: #808000\">n</span>=<span style=\"color: #008080; text-decoration-color: #008080; font-weight: bold\">65536</span> <span style=\"font-weight: bold\">(</span><span style=\"color: #008080; text-decoration-color: #008080; font-weight: bold\">0.</span>2Mb<span style=\"font-weight: bold\">)</span> x∈<span style=\"font-weight: bold\">[</span><span style=\"color: #008080; text-decoration-color: #008080; font-weight: bold\">-0.169</span>, <span style=\"color: #008080; text-decoration-color: #008080; font-weight: bold\">0.180</span><span style=\"font-weight: bold\">]</span> <span style=\"color: #808000; text-decoration-color: #808000\">μ</span>=<span style=\"color: #008080; text-decoration-color: #008080; font-weight: bold\">1.548e-05</span> <span style=\"color: #808000; text-decoration-color: #808000\">σ</span>=<span style=\"color: #008080; text-decoration-color: #008080; font-weight: bold\">0.057</span> <span style=\"color: #7f7f7f; text-decoration-color: #7f7f7f\">               </span>\n",
       "<span style=\"color: #7fbfbf; text-decoration-color: #7fbfbf\">                    </span>         cu<span style=\"color: #00ff00; text-decoration-color: #00ff00; font-weight: bold\">da:0</span><span style=\"font-weight: bold\">)</span>, <span style=\"font-weight: bold\">(</span><span style=\"color: #008000; text-decoration-color: #008000\">'interactions.1.conv.lin2.weight'</span>, tensor<span style=\"font-weight: bold\">[</span><span style=\"color: #008080; text-decoration-color: #008080; font-weight: bold\">512</span>, <span style=\"color: #008080; text-decoration-color: #008080; font-weight: bold\">128</span><span style=\"font-weight: bold\">]</span> <span style=\"color: #808000; text-decoration-color: #808000\">n</span>=<span style=\"color: #008080; text-decoration-color: #008080; font-weight: bold\">65536</span>  <span style=\"color: #7f7f7f; text-decoration-color: #7f7f7f\">               </span>\n",
       "<span style=\"color: #7fbfbf; text-decoration-color: #7fbfbf\">                    </span>         <span style=\"font-weight: bold\">(</span><span style=\"color: #008080; text-decoration-color: #008080; font-weight: bold\">0.</span>2Mb<span style=\"font-weight: bold\">)</span> x∈<span style=\"font-weight: bold\">[</span><span style=\"color: #008080; text-decoration-color: #008080; font-weight: bold\">-0.155</span>, <span style=\"color: #008080; text-decoration-color: #008080; font-weight: bold\">0.151</span><span style=\"font-weight: bold\">]</span> <span style=\"color: #808000; text-decoration-color: #808000\">μ</span>=<span style=\"color: #008080; text-decoration-color: #008080; font-weight: bold\">-0.000</span> <span style=\"color: #808000; text-decoration-color: #808000\">σ</span>=<span style=\"color: #008080; text-decoration-color: #008080; font-weight: bold\">0.056</span> cu<span style=\"color: #00ff00; text-decoration-color: #00ff00; font-weight: bold\">da:0</span><span style=\"font-weight: bold\">)</span>,                    <span style=\"color: #7f7f7f; text-decoration-color: #7f7f7f\">               </span>\n",
       "<span style=\"color: #7fbfbf; text-decoration-color: #7fbfbf\">                    </span>         <span style=\"font-weight: bold\">(</span><span style=\"color: #008000; text-decoration-color: #008000\">'interactions.1.conv.lin2.bias'</span>, tensor<span style=\"font-weight: bold\">[</span><span style=\"color: #008080; text-decoration-color: #008080; font-weight: bold\">512</span><span style=\"font-weight: bold\">]</span> 2Kb x∈<span style=\"font-weight: bold\">[</span><span style=\"color: #008080; text-decoration-color: #008080; font-weight: bold\">-0.032</span>, <span style=\"color: #008080; text-decoration-color: #008080; font-weight: bold\">0.031</span><span style=\"font-weight: bold\">]</span>    <span style=\"color: #7f7f7f; text-decoration-color: #7f7f7f\">               </span>\n",
       "<span style=\"color: #7fbfbf; text-decoration-color: #7fbfbf\">                    </span>         <span style=\"color: #808000; text-decoration-color: #808000\">μ</span>=<span style=\"color: #008080; text-decoration-color: #008080; font-weight: bold\">0.000</span> <span style=\"color: #808000; text-decoration-color: #808000\">σ</span>=<span style=\"color: #008080; text-decoration-color: #008080; font-weight: bold\">0.011</span> cu<span style=\"color: #00ff00; text-decoration-color: #00ff00; font-weight: bold\">da:0</span><span style=\"font-weight: bold\">)</span>, <span style=\"font-weight: bold\">(</span><span style=\"color: #008000; text-decoration-color: #008000\">'interactions.1.conv.nn.0.weight'</span>,           <span style=\"color: #7f7f7f; text-decoration-color: #7f7f7f\">               </span>\n",
       "<span style=\"color: #7fbfbf; text-decoration-color: #7fbfbf\">                    </span>         tensor<span style=\"font-weight: bold\">[</span><span style=\"color: #008080; text-decoration-color: #008080; font-weight: bold\">128</span>, <span style=\"color: #008080; text-decoration-color: #008080; font-weight: bold\">50</span><span style=\"font-weight: bold\">]</span> <span style=\"color: #808000; text-decoration-color: #808000\">n</span>=<span style=\"color: #008080; text-decoration-color: #008080; font-weight: bold\">6400</span> <span style=\"font-weight: bold\">(</span>25Kb<span style=\"font-weight: bold\">)</span> x∈<span style=\"font-weight: bold\">[</span><span style=\"color: #008080; text-decoration-color: #008080; font-weight: bold\">-0.255</span>, <span style=\"color: #008080; text-decoration-color: #008080; font-weight: bold\">0.260</span><span style=\"font-weight: bold\">]</span> <span style=\"color: #808000; text-decoration-color: #808000\">μ</span>=<span style=\"color: #008080; text-decoration-color: #008080; font-weight: bold\">-0.001</span> <span style=\"color: #808000; text-decoration-color: #808000\">σ</span>=<span style=\"color: #008080; text-decoration-color: #008080; font-weight: bold\">0.107</span>       <span style=\"color: #7f7f7f; text-decoration-color: #7f7f7f\">               </span>\n",
       "<span style=\"color: #7fbfbf; text-decoration-color: #7fbfbf\">                    </span>         cu<span style=\"color: #00ff00; text-decoration-color: #00ff00; font-weight: bold\">da:0</span><span style=\"font-weight: bold\">)</span>, <span style=\"font-weight: bold\">(</span><span style=\"color: #008000; text-decoration-color: #008000\">'interactions.1.conv.nn.0.bias'</span>, tensor<span style=\"font-weight: bold\">[</span><span style=\"color: #008080; text-decoration-color: #008080; font-weight: bold\">128</span><span style=\"font-weight: bold\">]</span> x∈<span style=\"font-weight: bold\">[</span><span style=\"color: #008080; text-decoration-color: #008080; font-weight: bold\">-0.036</span>,      <span style=\"color: #7f7f7f; text-decoration-color: #7f7f7f\">               </span>\n",
       "<span style=\"color: #7fbfbf; text-decoration-color: #7fbfbf\">                    </span>         <span style=\"color: #008080; text-decoration-color: #008080; font-weight: bold\">0.036</span><span style=\"font-weight: bold\">]</span> <span style=\"color: #808000; text-decoration-color: #808000\">μ</span>=<span style=\"color: #008080; text-decoration-color: #008080; font-weight: bold\">2.896e-05</span> <span style=\"color: #808000; text-decoration-color: #808000\">σ</span>=<span style=\"color: #008080; text-decoration-color: #008080; font-weight: bold\">0.016</span> cu<span style=\"color: #00ff00; text-decoration-color: #00ff00; font-weight: bold\">da:0</span><span style=\"font-weight: bold\">)</span>,                                    <span style=\"color: #7f7f7f; text-decoration-color: #7f7f7f\">               </span>\n",
       "<span style=\"color: #7fbfbf; text-decoration-color: #7fbfbf\">                    </span>         <span style=\"font-weight: bold\">(</span><span style=\"color: #008000; text-decoration-color: #008000\">'interactions.1.conv.nn.2.weight'</span>, tensor<span style=\"font-weight: bold\">[</span><span style=\"color: #008080; text-decoration-color: #008080; font-weight: bold\">128</span>, <span style=\"color: #008080; text-decoration-color: #008080; font-weight: bold\">128</span><span style=\"font-weight: bold\">]</span> <span style=\"color: #808000; text-decoration-color: #808000\">n</span>=<span style=\"color: #008080; text-decoration-color: #008080; font-weight: bold\">16384</span> <span style=\"font-weight: bold\">(</span>64Kb<span style=\"font-weight: bold\">)</span>    <span style=\"color: #7f7f7f; text-decoration-color: #7f7f7f\">               </span>\n",
       "<span style=\"color: #7fbfbf; text-decoration-color: #7fbfbf\">                    </span>         x∈<span style=\"font-weight: bold\">[</span><span style=\"color: #008080; text-decoration-color: #008080; font-weight: bold\">-0.216</span>, <span style=\"color: #008080; text-decoration-color: #008080; font-weight: bold\">0.207</span><span style=\"font-weight: bold\">]</span> <span style=\"color: #808000; text-decoration-color: #808000\">μ</span>=<span style=\"color: #008080; text-decoration-color: #008080; font-weight: bold\">-0.001</span> <span style=\"color: #808000; text-decoration-color: #808000\">σ</span>=<span style=\"color: #008080; text-decoration-color: #008080; font-weight: bold\">0.088</span> cu<span style=\"color: #00ff00; text-decoration-color: #00ff00; font-weight: bold\">da:0</span><span style=\"font-weight: bold\">)</span>,                            <span style=\"color: #7f7f7f; text-decoration-color: #7f7f7f\">               </span>\n",
       "<span style=\"color: #7fbfbf; text-decoration-color: #7fbfbf\">                    </span>         <span style=\"font-weight: bold\">(</span><span style=\"color: #008000; text-decoration-color: #008000\">'interactions.1.conv.nn.2.bias'</span>, tensor<span style=\"font-weight: bold\">[</span><span style=\"color: #008080; text-decoration-color: #008080; font-weight: bold\">128</span><span style=\"font-weight: bold\">]</span> x∈<span style=\"font-weight: bold\">[</span><span style=\"color: #008080; text-decoration-color: #008080; font-weight: bold\">-0.026</span>, <span style=\"color: #008080; text-decoration-color: #008080; font-weight: bold\">0.025</span><span style=\"font-weight: bold\">]</span>        <span style=\"color: #7f7f7f; text-decoration-color: #7f7f7f\">               </span>\n",
       "<span style=\"color: #7fbfbf; text-decoration-color: #7fbfbf\">                    </span>         <span style=\"color: #808000; text-decoration-color: #808000\">μ</span>=<span style=\"color: #008080; text-decoration-color: #008080; font-weight: bold\">0.000</span> <span style=\"color: #808000; text-decoration-color: #808000\">σ</span>=<span style=\"color: #008080; text-decoration-color: #008080; font-weight: bold\">0.010</span> cu<span style=\"color: #00ff00; text-decoration-color: #00ff00; font-weight: bold\">da:0</span><span style=\"font-weight: bold\">)</span>, <span style=\"font-weight: bold\">(</span><span style=\"color: #008000; text-decoration-color: #008000\">'interactions.1.lin.weight'</span>, tensor<span style=\"font-weight: bold\">[</span><span style=\"color: #008080; text-decoration-color: #008080; font-weight: bold\">512</span>,     <span style=\"color: #7f7f7f; text-decoration-color: #7f7f7f\">               </span>\n",
       "<span style=\"color: #7fbfbf; text-decoration-color: #7fbfbf\">                    </span>         <span style=\"color: #008080; text-decoration-color: #008080; font-weight: bold\">512</span><span style=\"font-weight: bold\">]</span> <span style=\"color: #808000; text-decoration-color: #808000\">n</span>=<span style=\"color: #008080; text-decoration-color: #008080; font-weight: bold\">262144</span> <span style=\"font-weight: bold\">(</span>1Mb<span style=\"font-weight: bold\">)</span> x∈<span style=\"font-weight: bold\">[</span><span style=\"color: #008080; text-decoration-color: #008080; font-weight: bold\">-0.126</span>, <span style=\"color: #008080; text-decoration-color: #008080; font-weight: bold\">0.138</span><span style=\"font-weight: bold\">]</span> <span style=\"color: #808000; text-decoration-color: #808000\">μ</span>=<span style=\"color: #008080; text-decoration-color: #008080; font-weight: bold\">-2.577e-05</span> <span style=\"color: #808000; text-decoration-color: #808000\">σ</span>=<span style=\"color: #008080; text-decoration-color: #008080; font-weight: bold\">0.046</span> cu<span style=\"color: #00ff00; text-decoration-color: #00ff00; font-weight: bold\">da:0</span><span style=\"font-weight: bold\">)</span>,    <span style=\"color: #7f7f7f; text-decoration-color: #7f7f7f\">               </span>\n",
       "<span style=\"color: #7fbfbf; text-decoration-color: #7fbfbf\">                    </span>         <span style=\"font-weight: bold\">(</span><span style=\"color: #008000; text-decoration-color: #008000\">'interactions.1.lin.bias'</span>, tensor<span style=\"font-weight: bold\">[</span><span style=\"color: #008080; text-decoration-color: #008080; font-weight: bold\">512</span><span style=\"font-weight: bold\">]</span> 2Kb x∈<span style=\"font-weight: bold\">[</span><span style=\"color: #008080; text-decoration-color: #008080; font-weight: bold\">-0.038</span>, <span style=\"color: #008080; text-decoration-color: #008080; font-weight: bold\">0.036</span><span style=\"font-weight: bold\">]</span> <span style=\"color: #808000; text-decoration-color: #808000\">μ</span>=<span style=\"color: #008080; text-decoration-color: #008080; font-weight: bold\">-0.000</span> <span style=\"color: #7f7f7f; text-decoration-color: #7f7f7f\">               </span>\n",
       "<span style=\"color: #7fbfbf; text-decoration-color: #7fbfbf\">                    </span>         <span style=\"color: #808000; text-decoration-color: #808000\">σ</span>=<span style=\"color: #008080; text-decoration-color: #008080; font-weight: bold\">0.017</span> cu<span style=\"color: #00ff00; text-decoration-color: #00ff00; font-weight: bold\">da:0</span><span style=\"font-weight: bold\">)</span>, <span style=\"font-weight: bold\">(</span><span style=\"color: #008000; text-decoration-color: #008000\">'interactions.2.mlp.0.weight'</span>, tensor<span style=\"font-weight: bold\">[</span><span style=\"color: #008080; text-decoration-color: #008080; font-weight: bold\">128</span>, <span style=\"color: #008080; text-decoration-color: #008080; font-weight: bold\">50</span><span style=\"font-weight: bold\">]</span>       <span style=\"color: #7f7f7f; text-decoration-color: #7f7f7f\">               </span>\n",
       "<span style=\"color: #7fbfbf; text-decoration-color: #7fbfbf\">                    </span>         <span style=\"color: #808000; text-decoration-color: #808000\">n</span>=<span style=\"color: #008080; text-decoration-color: #008080; font-weight: bold\">6400</span> <span style=\"font-weight: bold\">(</span>25Kb<span style=\"font-weight: bold\">)</span> x∈<span style=\"font-weight: bold\">[</span><span style=\"color: #008080; text-decoration-color: #008080; font-weight: bold\">-0.252</span>, <span style=\"color: #008080; text-decoration-color: #008080; font-weight: bold\">0.256</span><span style=\"font-weight: bold\">]</span> <span style=\"color: #808000; text-decoration-color: #808000\">μ</span>=<span style=\"color: #008080; text-decoration-color: #008080; font-weight: bold\">-0.001</span> <span style=\"color: #808000; text-decoration-color: #808000\">σ</span>=<span style=\"color: #008080; text-decoration-color: #008080; font-weight: bold\">0.108</span> cu<span style=\"color: #00ff00; text-decoration-color: #00ff00; font-weight: bold\">da:0</span><span style=\"font-weight: bold\">)</span>,              <span style=\"color: #7f7f7f; text-decoration-color: #7f7f7f\">               </span>\n",
       "<span style=\"color: #7fbfbf; text-decoration-color: #7fbfbf\">                    </span>         <span style=\"font-weight: bold\">(</span><span style=\"color: #008000; text-decoration-color: #008000\">'interactions.2.mlp.0.bias'</span>, tensor<span style=\"font-weight: bold\">[</span><span style=\"color: #008080; text-decoration-color: #008080; font-weight: bold\">128</span><span style=\"font-weight: bold\">]</span> x∈<span style=\"font-weight: bold\">[</span><span style=\"color: #008080; text-decoration-color: #008080; font-weight: bold\">-0.032</span>, <span style=\"color: #008080; text-decoration-color: #008080; font-weight: bold\">0.040</span><span style=\"font-weight: bold\">]</span> <span style=\"color: #808000; text-decoration-color: #808000\">μ</span>=<span style=\"color: #008080; text-decoration-color: #008080; font-weight: bold\">0.000</span>    <span style=\"color: #7f7f7f; text-decoration-color: #7f7f7f\">               </span>\n",
       "<span style=\"color: #7fbfbf; text-decoration-color: #7fbfbf\">                    </span>         <span style=\"color: #808000; text-decoration-color: #808000\">σ</span>=<span style=\"color: #008080; text-decoration-color: #008080; font-weight: bold\">0.016</span> cu<span style=\"color: #00ff00; text-decoration-color: #00ff00; font-weight: bold\">da:0</span><span style=\"font-weight: bold\">)</span>, <span style=\"font-weight: bold\">(</span><span style=\"color: #008000; text-decoration-color: #008000\">'interactions.2.mlp.2.weight'</span>, tensor<span style=\"font-weight: bold\">[</span><span style=\"color: #008080; text-decoration-color: #008080; font-weight: bold\">128</span>, <span style=\"color: #008080; text-decoration-color: #008080; font-weight: bold\">128</span><span style=\"font-weight: bold\">]</span>      <span style=\"color: #7f7f7f; text-decoration-color: #7f7f7f\">               </span>\n",
       "<span style=\"color: #7fbfbf; text-decoration-color: #7fbfbf\">                    </span>         <span style=\"color: #808000; text-decoration-color: #808000\">n</span>=<span style=\"color: #008080; text-decoration-color: #008080; font-weight: bold\">16384</span> <span style=\"font-weight: bold\">(</span>64Kb<span style=\"font-weight: bold\">)</span> x∈<span style=\"font-weight: bold\">[</span><span style=\"color: #008080; text-decoration-color: #008080; font-weight: bold\">-0.199</span>, <span style=\"color: #008080; text-decoration-color: #008080; font-weight: bold\">0.211</span><span style=\"font-weight: bold\">]</span> <span style=\"color: #808000; text-decoration-color: #808000\">μ</span>=<span style=\"color: #008080; text-decoration-color: #008080; font-weight: bold\">0.000</span> <span style=\"color: #808000; text-decoration-color: #808000\">σ</span>=<span style=\"color: #008080; text-decoration-color: #008080; font-weight: bold\">0.089</span> cu<span style=\"color: #00ff00; text-decoration-color: #00ff00; font-weight: bold\">da:0</span><span style=\"font-weight: bold\">)</span>,              <span style=\"color: #7f7f7f; text-decoration-color: #7f7f7f\">               </span>\n",
       "<span style=\"color: #7fbfbf; text-decoration-color: #7fbfbf\">                    </span>         <span style=\"font-weight: bold\">(</span><span style=\"color: #008000; text-decoration-color: #008000\">'interactions.2.mlp.2.bias'</span>, tensor<span style=\"font-weight: bold\">[</span><span style=\"color: #008080; text-decoration-color: #008080; font-weight: bold\">128</span><span style=\"font-weight: bold\">]</span> x∈<span style=\"font-weight: bold\">[</span><span style=\"color: #008080; text-decoration-color: #008080; font-weight: bold\">-0.034</span>, <span style=\"color: #008080; text-decoration-color: #008080; font-weight: bold\">0.026</span><span style=\"font-weight: bold\">]</span>            <span style=\"color: #7f7f7f; text-decoration-color: #7f7f7f\">               </span>\n",
       "<span style=\"color: #7fbfbf; text-decoration-color: #7fbfbf\">                    </span>         <span style=\"color: #808000; text-decoration-color: #808000\">μ</span>=<span style=\"color: #008080; text-decoration-color: #008080; font-weight: bold\">-6.306e-05</span> <span style=\"color: #808000; text-decoration-color: #808000\">σ</span>=<span style=\"color: #008080; text-decoration-color: #008080; font-weight: bold\">0.011</span> cu<span style=\"color: #00ff00; text-decoration-color: #00ff00; font-weight: bold\">da:0</span><span style=\"font-weight: bold\">)</span>, <span style=\"font-weight: bold\">(</span><span style=\"color: #008000; text-decoration-color: #008000\">'interactions.2.conv.lin1.weight'</span>,      <span style=\"color: #7f7f7f; text-decoration-color: #7f7f7f\">               </span>\n",
       "<span style=\"color: #7fbfbf; text-decoration-color: #7fbfbf\">                    </span>         tensor<span style=\"font-weight: bold\">[</span><span style=\"color: #008080; text-decoration-color: #008080; font-weight: bold\">128</span>, <span style=\"color: #008080; text-decoration-color: #008080; font-weight: bold\">512</span><span style=\"font-weight: bold\">]</span> <span style=\"color: #808000; text-decoration-color: #808000\">n</span>=<span style=\"color: #008080; text-decoration-color: #008080; font-weight: bold\">65536</span> <span style=\"font-weight: bold\">(</span><span style=\"color: #008080; text-decoration-color: #008080; font-weight: bold\">0.</span>2Mb<span style=\"font-weight: bold\">)</span> x∈<span style=\"font-weight: bold\">[</span><span style=\"color: #008080; text-decoration-color: #008080; font-weight: bold\">-0.161</span>, <span style=\"color: #008080; text-decoration-color: #008080; font-weight: bold\">0.170</span><span style=\"font-weight: bold\">]</span> <span style=\"color: #808000; text-decoration-color: #808000\">μ</span>=<span style=\"color: #008080; text-decoration-color: #008080; font-weight: bold\">5.575e-06</span> <span style=\"color: #808000; text-decoration-color: #808000\">σ</span>=<span style=\"color: #008080; text-decoration-color: #008080; font-weight: bold\">0.058</span> <span style=\"color: #7f7f7f; text-decoration-color: #7f7f7f\">               </span>\n",
       "<span style=\"color: #7fbfbf; text-decoration-color: #7fbfbf\">                    </span>         cu<span style=\"color: #00ff00; text-decoration-color: #00ff00; font-weight: bold\">da:0</span><span style=\"font-weight: bold\">)</span>, <span style=\"font-weight: bold\">(</span><span style=\"color: #008000; text-decoration-color: #008000\">'interactions.2.conv.lin2.weight'</span>, tensor<span style=\"font-weight: bold\">[</span><span style=\"color: #008080; text-decoration-color: #008080; font-weight: bold\">512</span>, <span style=\"color: #008080; text-decoration-color: #008080; font-weight: bold\">128</span><span style=\"font-weight: bold\">]</span> <span style=\"color: #808000; text-decoration-color: #808000\">n</span>=<span style=\"color: #008080; text-decoration-color: #008080; font-weight: bold\">65536</span>  <span style=\"color: #7f7f7f; text-decoration-color: #7f7f7f\">               </span>\n",
       "<span style=\"color: #7fbfbf; text-decoration-color: #7fbfbf\">                    </span>         <span style=\"font-weight: bold\">(</span><span style=\"color: #008080; text-decoration-color: #008080; font-weight: bold\">0.</span>2Mb<span style=\"font-weight: bold\">)</span> x∈<span style=\"font-weight: bold\">[</span><span style=\"color: #008080; text-decoration-color: #008080; font-weight: bold\">-0.168</span>, <span style=\"color: #008080; text-decoration-color: #008080; font-weight: bold\">0.150</span><span style=\"font-weight: bold\">]</span> <span style=\"color: #808000; text-decoration-color: #808000\">μ</span>=<span style=\"color: #008080; text-decoration-color: #008080; font-weight: bold\">-6.479e-05</span> <span style=\"color: #808000; text-decoration-color: #808000\">σ</span>=<span style=\"color: #008080; text-decoration-color: #008080; font-weight: bold\">0.057</span> cu<span style=\"color: #00ff00; text-decoration-color: #00ff00; font-weight: bold\">da:0</span><span style=\"font-weight: bold\">)</span>,                <span style=\"color: #7f7f7f; text-decoration-color: #7f7f7f\">               </span>\n",
       "<span style=\"color: #7fbfbf; text-decoration-color: #7fbfbf\">                    </span>         <span style=\"font-weight: bold\">(</span><span style=\"color: #008000; text-decoration-color: #008000\">'interactions.2.conv.lin2.bias'</span>, tensor<span style=\"font-weight: bold\">[</span><span style=\"color: #008080; text-decoration-color: #008080; font-weight: bold\">512</span><span style=\"font-weight: bold\">]</span> 2Kb x∈<span style=\"font-weight: bold\">[</span><span style=\"color: #008080; text-decoration-color: #008080; font-weight: bold\">-0.023</span>, <span style=\"color: #008080; text-decoration-color: #008080; font-weight: bold\">0.038</span><span style=\"font-weight: bold\">]</span>    <span style=\"color: #7f7f7f; text-decoration-color: #7f7f7f\">               </span>\n",
       "<span style=\"color: #7fbfbf; text-decoration-color: #7fbfbf\">                    </span>         <span style=\"color: #808000; text-decoration-color: #808000\">μ</span>=<span style=\"color: #008080; text-decoration-color: #008080; font-weight: bold\">-7.587e-05</span> <span style=\"color: #808000; text-decoration-color: #808000\">σ</span>=<span style=\"color: #008080; text-decoration-color: #008080; font-weight: bold\">0.010</span> cu<span style=\"color: #00ff00; text-decoration-color: #00ff00; font-weight: bold\">da:0</span><span style=\"font-weight: bold\">)</span>, <span style=\"font-weight: bold\">(</span><span style=\"color: #008000; text-decoration-color: #008000\">'interactions.2.conv.nn.0.weight'</span>,      <span style=\"color: #7f7f7f; text-decoration-color: #7f7f7f\">               </span>\n",
       "<span style=\"color: #7fbfbf; text-decoration-color: #7fbfbf\">                    </span>         tensor<span style=\"font-weight: bold\">[</span><span style=\"color: #008080; text-decoration-color: #008080; font-weight: bold\">128</span>, <span style=\"color: #008080; text-decoration-color: #008080; font-weight: bold\">50</span><span style=\"font-weight: bold\">]</span> <span style=\"color: #808000; text-decoration-color: #808000\">n</span>=<span style=\"color: #008080; text-decoration-color: #008080; font-weight: bold\">6400</span> <span style=\"font-weight: bold\">(</span>25Kb<span style=\"font-weight: bold\">)</span> x∈<span style=\"font-weight: bold\">[</span><span style=\"color: #008080; text-decoration-color: #008080; font-weight: bold\">-0.252</span>, <span style=\"color: #008080; text-decoration-color: #008080; font-weight: bold\">0.256</span><span style=\"font-weight: bold\">]</span> <span style=\"color: #808000; text-decoration-color: #808000\">μ</span>=<span style=\"color: #008080; text-decoration-color: #008080; font-weight: bold\">-0.001</span> <span style=\"color: #808000; text-decoration-color: #808000\">σ</span>=<span style=\"color: #008080; text-decoration-color: #008080; font-weight: bold\">0.108</span>       <span style=\"color: #7f7f7f; text-decoration-color: #7f7f7f\">               </span>\n",
       "<span style=\"color: #7fbfbf; text-decoration-color: #7fbfbf\">                    </span>         cu<span style=\"color: #00ff00; text-decoration-color: #00ff00; font-weight: bold\">da:0</span><span style=\"font-weight: bold\">)</span>, <span style=\"font-weight: bold\">(</span><span style=\"color: #008000; text-decoration-color: #008000\">'interactions.2.conv.nn.0.bias'</span>, tensor<span style=\"font-weight: bold\">[</span><span style=\"color: #008080; text-decoration-color: #008080; font-weight: bold\">128</span><span style=\"font-weight: bold\">]</span> x∈<span style=\"font-weight: bold\">[</span><span style=\"color: #008080; text-decoration-color: #008080; font-weight: bold\">-0.032</span>,      <span style=\"color: #7f7f7f; text-decoration-color: #7f7f7f\">               </span>\n",
       "<span style=\"color: #7fbfbf; text-decoration-color: #7fbfbf\">                    </span>         <span style=\"color: #008080; text-decoration-color: #008080; font-weight: bold\">0.040</span><span style=\"font-weight: bold\">]</span> <span style=\"color: #808000; text-decoration-color: #808000\">μ</span>=<span style=\"color: #008080; text-decoration-color: #008080; font-weight: bold\">0.000</span> <span style=\"color: #808000; text-decoration-color: #808000\">σ</span>=<span style=\"color: #008080; text-decoration-color: #008080; font-weight: bold\">0.016</span> cu<span style=\"color: #00ff00; text-decoration-color: #00ff00; font-weight: bold\">da:0</span><span style=\"font-weight: bold\">)</span>, <span style=\"font-weight: bold\">(</span><span style=\"color: #008000; text-decoration-color: #008000\">'interactions.2.conv.nn.2.weight'</span>,    <span style=\"color: #7f7f7f; text-decoration-color: #7f7f7f\">               </span>\n",
       "<span style=\"color: #7fbfbf; text-decoration-color: #7fbfbf\">                    </span>         tensor<span style=\"font-weight: bold\">[</span><span style=\"color: #008080; text-decoration-color: #008080; font-weight: bold\">128</span>, <span style=\"color: #008080; text-decoration-color: #008080; font-weight: bold\">128</span><span style=\"font-weight: bold\">]</span> <span style=\"color: #808000; text-decoration-color: #808000\">n</span>=<span style=\"color: #008080; text-decoration-color: #008080; font-weight: bold\">16384</span> <span style=\"font-weight: bold\">(</span>64Kb<span style=\"font-weight: bold\">)</span> x∈<span style=\"font-weight: bold\">[</span><span style=\"color: #008080; text-decoration-color: #008080; font-weight: bold\">-0.199</span>, <span style=\"color: #008080; text-decoration-color: #008080; font-weight: bold\">0.211</span><span style=\"font-weight: bold\">]</span> <span style=\"color: #808000; text-decoration-color: #808000\">μ</span>=<span style=\"color: #008080; text-decoration-color: #008080; font-weight: bold\">0.000</span> <span style=\"color: #808000; text-decoration-color: #808000\">σ</span>=<span style=\"color: #008080; text-decoration-color: #008080; font-weight: bold\">0.089</span>      <span style=\"color: #7f7f7f; text-decoration-color: #7f7f7f\">               </span>\n",
       "<span style=\"color: #7fbfbf; text-decoration-color: #7fbfbf\">                    </span>         cu<span style=\"color: #00ff00; text-decoration-color: #00ff00; font-weight: bold\">da:0</span><span style=\"font-weight: bold\">)</span>, <span style=\"font-weight: bold\">(</span><span style=\"color: #008000; text-decoration-color: #008000\">'interactions.2.conv.nn.2.bias'</span>, tensor<span style=\"font-weight: bold\">[</span><span style=\"color: #008080; text-decoration-color: #008080; font-weight: bold\">128</span><span style=\"font-weight: bold\">]</span> x∈<span style=\"font-weight: bold\">[</span><span style=\"color: #008080; text-decoration-color: #008080; font-weight: bold\">-0.034</span>,      <span style=\"color: #7f7f7f; text-decoration-color: #7f7f7f\">               </span>\n",
       "<span style=\"color: #7fbfbf; text-decoration-color: #7fbfbf\">                    </span>         <span style=\"color: #008080; text-decoration-color: #008080; font-weight: bold\">0.026</span><span style=\"font-weight: bold\">]</span> <span style=\"color: #808000; text-decoration-color: #808000\">μ</span>=<span style=\"color: #008080; text-decoration-color: #008080; font-weight: bold\">-6.306e-05</span> <span style=\"color: #808000; text-decoration-color: #808000\">σ</span>=<span style=\"color: #008080; text-decoration-color: #008080; font-weight: bold\">0.011</span> cu<span style=\"color: #00ff00; text-decoration-color: #00ff00; font-weight: bold\">da:0</span><span style=\"font-weight: bold\">)</span>, <span style=\"font-weight: bold\">(</span><span style=\"color: #008000; text-decoration-color: #008000\">'interactions.2.lin.weight'</span>,     <span style=\"color: #7f7f7f; text-decoration-color: #7f7f7f\">               </span>\n",
       "<span style=\"color: #7fbfbf; text-decoration-color: #7fbfbf\">                    </span>         tensor<span style=\"font-weight: bold\">[</span><span style=\"color: #008080; text-decoration-color: #008080; font-weight: bold\">512</span>, <span style=\"color: #008080; text-decoration-color: #008080; font-weight: bold\">512</span><span style=\"font-weight: bold\">]</span> <span style=\"color: #808000; text-decoration-color: #808000\">n</span>=<span style=\"color: #008080; text-decoration-color: #008080; font-weight: bold\">262144</span> <span style=\"font-weight: bold\">(</span>1Mb<span style=\"font-weight: bold\">)</span> x∈<span style=\"font-weight: bold\">[</span><span style=\"color: #008080; text-decoration-color: #008080; font-weight: bold\">-0.130</span>, <span style=\"color: #008080; text-decoration-color: #008080; font-weight: bold\">0.125</span><span style=\"font-weight: bold\">]</span> <span style=\"color: #808000; text-decoration-color: #808000\">μ</span>=<span style=\"color: #008080; text-decoration-color: #008080; font-weight: bold\">-1.919e-05</span> <span style=\"color: #808000; text-decoration-color: #808000\">σ</span>=<span style=\"color: #008080; text-decoration-color: #008080; font-weight: bold\">0.046</span> <span style=\"color: #7f7f7f; text-decoration-color: #7f7f7f\">               </span>\n",
       "<span style=\"color: #7fbfbf; text-decoration-color: #7fbfbf\">                    </span>         cu<span style=\"color: #00ff00; text-decoration-color: #00ff00; font-weight: bold\">da:0</span><span style=\"font-weight: bold\">)</span>, <span style=\"font-weight: bold\">(</span><span style=\"color: #008000; text-decoration-color: #008000\">'interactions.2.lin.bias'</span>, tensor<span style=\"font-weight: bold\">[</span><span style=\"color: #008080; text-decoration-color: #008080; font-weight: bold\">512</span><span style=\"font-weight: bold\">]</span> 2Kb x∈<span style=\"font-weight: bold\">[</span><span style=\"color: #008080; text-decoration-color: #008080; font-weight: bold\">-0.037</span>, <span style=\"color: #008080; text-decoration-color: #008080; font-weight: bold\">0.037</span><span style=\"font-weight: bold\">]</span> <span style=\"color: #7f7f7f; text-decoration-color: #7f7f7f\">               </span>\n",
       "<span style=\"color: #7fbfbf; text-decoration-color: #7fbfbf\">                    </span>         <span style=\"color: #808000; text-decoration-color: #808000\">μ</span>=<span style=\"color: #008080; text-decoration-color: #008080; font-weight: bold\">-0.000</span> <span style=\"color: #808000; text-decoration-color: #808000\">σ</span>=<span style=\"color: #008080; text-decoration-color: #008080; font-weight: bold\">0.016</span> cu<span style=\"color: #00ff00; text-decoration-color: #00ff00; font-weight: bold\">da:0</span><span style=\"font-weight: bold\">)</span>, <span style=\"font-weight: bold\">(</span><span style=\"color: #008000; text-decoration-color: #008000\">'interactions.3.mlp.0.weight'</span>, tensor<span style=\"font-weight: bold\">[</span><span style=\"color: #008080; text-decoration-color: #008080; font-weight: bold\">128</span>,  <span style=\"color: #7f7f7f; text-decoration-color: #7f7f7f\">               </span>\n",
       "<span style=\"color: #7fbfbf; text-decoration-color: #7fbfbf\">                    </span>         <span style=\"color: #008080; text-decoration-color: #008080; font-weight: bold\">50</span><span style=\"font-weight: bold\">]</span> <span style=\"color: #808000; text-decoration-color: #808000\">n</span>=<span style=\"color: #008080; text-decoration-color: #008080; font-weight: bold\">6400</span> <span style=\"font-weight: bold\">(</span>25Kb<span style=\"font-weight: bold\">)</span> x∈<span style=\"font-weight: bold\">[</span><span style=\"color: #008080; text-decoration-color: #008080; font-weight: bold\">-0.242</span>, <span style=\"color: #008080; text-decoration-color: #008080; font-weight: bold\">0.279</span><span style=\"font-weight: bold\">]</span> <span style=\"color: #808000; text-decoration-color: #808000\">μ</span>=<span style=\"color: #008080; text-decoration-color: #008080; font-weight: bold\">0.001</span> <span style=\"color: #808000; text-decoration-color: #808000\">σ</span>=<span style=\"color: #008080; text-decoration-color: #008080; font-weight: bold\">0.107</span> cu<span style=\"color: #00ff00; text-decoration-color: #00ff00; font-weight: bold\">da:0</span><span style=\"font-weight: bold\">)</span>,           <span style=\"color: #7f7f7f; text-decoration-color: #7f7f7f\">               </span>\n",
       "<span style=\"color: #7fbfbf; text-decoration-color: #7fbfbf\">                    </span>         <span style=\"font-weight: bold\">(</span><span style=\"color: #008000; text-decoration-color: #008000\">'interactions.3.mlp.0.bias'</span>, tensor<span style=\"font-weight: bold\">[</span><span style=\"color: #008080; text-decoration-color: #008080; font-weight: bold\">128</span><span style=\"font-weight: bold\">]</span> x∈<span style=\"font-weight: bold\">[</span><span style=\"color: #008080; text-decoration-color: #008080; font-weight: bold\">-0.039</span>, <span style=\"color: #008080; text-decoration-color: #008080; font-weight: bold\">0.032</span><span style=\"font-weight: bold\">]</span>            <span style=\"color: #7f7f7f; text-decoration-color: #7f7f7f\">               </span>\n",
       "<span style=\"color: #7fbfbf; text-decoration-color: #7fbfbf\">                    </span>         <span style=\"color: #808000; text-decoration-color: #808000\">μ</span>=<span style=\"color: #008080; text-decoration-color: #008080; font-weight: bold\">3.003e-05</span> <span style=\"color: #808000; text-decoration-color: #808000\">σ</span>=<span style=\"color: #008080; text-decoration-color: #008080; font-weight: bold\">0.015</span> cu<span style=\"color: #00ff00; text-decoration-color: #00ff00; font-weight: bold\">da:0</span><span style=\"font-weight: bold\">)</span>, <span style=\"font-weight: bold\">(</span><span style=\"color: #008000; text-decoration-color: #008000\">'interactions.3.mlp.2.weight'</span>,           <span style=\"color: #7f7f7f; text-decoration-color: #7f7f7f\">               </span>\n",
       "<span style=\"color: #7fbfbf; text-decoration-color: #7fbfbf\">                    </span>         tensor<span style=\"font-weight: bold\">[</span><span style=\"color: #008080; text-decoration-color: #008080; font-weight: bold\">128</span>, <span style=\"color: #008080; text-decoration-color: #008080; font-weight: bold\">128</span><span style=\"font-weight: bold\">]</span> <span style=\"color: #808000; text-decoration-color: #808000\">n</span>=<span style=\"color: #008080; text-decoration-color: #008080; font-weight: bold\">16384</span> <span style=\"font-weight: bold\">(</span>64Kb<span style=\"font-weight: bold\">)</span> x∈<span style=\"font-weight: bold\">[</span><span style=\"color: #008080; text-decoration-color: #008080; font-weight: bold\">-0.210</span>, <span style=\"color: #008080; text-decoration-color: #008080; font-weight: bold\">0.229</span><span style=\"font-weight: bold\">]</span> <span style=\"color: #808000; text-decoration-color: #808000\">μ</span>=<span style=\"color: #008080; text-decoration-color: #008080; font-weight: bold\">0.001</span> <span style=\"color: #808000; text-decoration-color: #808000\">σ</span>=<span style=\"color: #008080; text-decoration-color: #008080; font-weight: bold\">0.089</span>      <span style=\"color: #7f7f7f; text-decoration-color: #7f7f7f\">               </span>\n",
       "<span style=\"color: #7fbfbf; text-decoration-color: #7fbfbf\">                    </span>         cu<span style=\"color: #00ff00; text-decoration-color: #00ff00; font-weight: bold\">da:0</span><span style=\"font-weight: bold\">)</span>, <span style=\"font-weight: bold\">(</span><span style=\"color: #008000; text-decoration-color: #008000\">'interactions.3.mlp.2.bias'</span>, tensor<span style=\"font-weight: bold\">[</span><span style=\"color: #008080; text-decoration-color: #008080; font-weight: bold\">128</span><span style=\"font-weight: bold\">]</span> x∈<span style=\"font-weight: bold\">[</span><span style=\"color: #008080; text-decoration-color: #008080; font-weight: bold\">-0.024</span>, <span style=\"color: #008080; text-decoration-color: #008080; font-weight: bold\">0.027</span><span style=\"font-weight: bold\">]</span>   <span style=\"color: #7f7f7f; text-decoration-color: #7f7f7f\">               </span>\n",
       "<span style=\"color: #7fbfbf; text-decoration-color: #7fbfbf\">                    </span>         <span style=\"color: #808000; text-decoration-color: #808000\">μ</span>=<span style=\"color: #008080; text-decoration-color: #008080; font-weight: bold\">-0.001</span> <span style=\"color: #808000; text-decoration-color: #808000\">σ</span>=<span style=\"color: #008080; text-decoration-color: #008080; font-weight: bold\">0.010</span> cu<span style=\"color: #00ff00; text-decoration-color: #00ff00; font-weight: bold\">da:0</span><span style=\"font-weight: bold\">)</span>, <span style=\"font-weight: bold\">(</span><span style=\"color: #008000; text-decoration-color: #008000\">'interactions.3.conv.lin1.weight'</span>,          <span style=\"color: #7f7f7f; text-decoration-color: #7f7f7f\">               </span>\n",
       "<span style=\"color: #7fbfbf; text-decoration-color: #7fbfbf\">                    </span>         tensor<span style=\"font-weight: bold\">[</span><span style=\"color: #008080; text-decoration-color: #008080; font-weight: bold\">128</span>, <span style=\"color: #008080; text-decoration-color: #008080; font-weight: bold\">512</span><span style=\"font-weight: bold\">]</span> <span style=\"color: #808000; text-decoration-color: #808000\">n</span>=<span style=\"color: #008080; text-decoration-color: #008080; font-weight: bold\">65536</span> <span style=\"font-weight: bold\">(</span><span style=\"color: #008080; text-decoration-color: #008080; font-weight: bold\">0.</span>2Mb<span style=\"font-weight: bold\">)</span> x∈<span style=\"font-weight: bold\">[</span><span style=\"color: #008080; text-decoration-color: #008080; font-weight: bold\">-0.175</span>, <span style=\"color: #008080; text-decoration-color: #008080; font-weight: bold\">0.187</span><span style=\"font-weight: bold\">]</span> <span style=\"color: #808000; text-decoration-color: #808000\">μ</span>=<span style=\"color: #008080; text-decoration-color: #008080; font-weight: bold\">0.000</span> <span style=\"color: #808000; text-decoration-color: #808000\">σ</span>=<span style=\"color: #008080; text-decoration-color: #008080; font-weight: bold\">0.058</span>     <span style=\"color: #7f7f7f; text-decoration-color: #7f7f7f\">               </span>\n",
       "<span style=\"color: #7fbfbf; text-decoration-color: #7fbfbf\">                    </span>         cu<span style=\"color: #00ff00; text-decoration-color: #00ff00; font-weight: bold\">da:0</span><span style=\"font-weight: bold\">)</span>, <span style=\"font-weight: bold\">(</span><span style=\"color: #008000; text-decoration-color: #008000\">'interactions.3.conv.lin2.weight'</span>, tensor<span style=\"font-weight: bold\">[</span><span style=\"color: #008080; text-decoration-color: #008080; font-weight: bold\">512</span>, <span style=\"color: #008080; text-decoration-color: #008080; font-weight: bold\">128</span><span style=\"font-weight: bold\">]</span> <span style=\"color: #808000; text-decoration-color: #808000\">n</span>=<span style=\"color: #008080; text-decoration-color: #008080; font-weight: bold\">65536</span>  <span style=\"color: #7f7f7f; text-decoration-color: #7f7f7f\">               </span>\n",
       "<span style=\"color: #7fbfbf; text-decoration-color: #7fbfbf\">                    </span>         <span style=\"font-weight: bold\">(</span><span style=\"color: #008080; text-decoration-color: #008080; font-weight: bold\">0.</span>2Mb<span style=\"font-weight: bold\">)</span> x∈<span style=\"font-weight: bold\">[</span><span style=\"color: #008080; text-decoration-color: #008080; font-weight: bold\">-0.171</span>, <span style=\"color: #008080; text-decoration-color: #008080; font-weight: bold\">0.166</span><span style=\"font-weight: bold\">]</span> <span style=\"color: #808000; text-decoration-color: #808000\">μ</span>=<span style=\"color: #008080; text-decoration-color: #008080; font-weight: bold\">-0.000</span> <span style=\"color: #808000; text-decoration-color: #808000\">σ</span>=<span style=\"color: #008080; text-decoration-color: #008080; font-weight: bold\">0.057</span> cu<span style=\"color: #00ff00; text-decoration-color: #00ff00; font-weight: bold\">da:0</span><span style=\"font-weight: bold\">)</span>,                    <span style=\"color: #7f7f7f; text-decoration-color: #7f7f7f\">               </span>\n",
       "<span style=\"color: #7fbfbf; text-decoration-color: #7fbfbf\">                    </span>         <span style=\"font-weight: bold\">(</span><span style=\"color: #008000; text-decoration-color: #008000\">'interactions.3.conv.lin2.bias'</span>, tensor<span style=\"font-weight: bold\">[</span><span style=\"color: #008080; text-decoration-color: #008080; font-weight: bold\">512</span><span style=\"font-weight: bold\">]</span> 2Kb x∈<span style=\"font-weight: bold\">[</span><span style=\"color: #008080; text-decoration-color: #008080; font-weight: bold\">-0.021</span>, <span style=\"color: #008080; text-decoration-color: #008080; font-weight: bold\">0.028</span><span style=\"font-weight: bold\">]</span>    <span style=\"color: #7f7f7f; text-decoration-color: #7f7f7f\">               </span>\n",
       "<span style=\"color: #7fbfbf; text-decoration-color: #7fbfbf\">                    </span>         <span style=\"color: #808000; text-decoration-color: #808000\">μ</span>=<span style=\"color: #008080; text-decoration-color: #008080; font-weight: bold\">0.001</span> <span style=\"color: #808000; text-decoration-color: #808000\">σ</span>=<span style=\"color: #008080; text-decoration-color: #008080; font-weight: bold\">0.010</span> cu<span style=\"color: #00ff00; text-decoration-color: #00ff00; font-weight: bold\">da:0</span><span style=\"font-weight: bold\">)</span>, <span style=\"font-weight: bold\">(</span><span style=\"color: #008000; text-decoration-color: #008000\">'interactions.3.conv.nn.0.weight'</span>,           <span style=\"color: #7f7f7f; text-decoration-color: #7f7f7f\">               </span>\n",
       "<span style=\"color: #7fbfbf; text-decoration-color: #7fbfbf\">                    </span>         tensor<span style=\"font-weight: bold\">[</span><span style=\"color: #008080; text-decoration-color: #008080; font-weight: bold\">128</span>, <span style=\"color: #008080; text-decoration-color: #008080; font-weight: bold\">50</span><span style=\"font-weight: bold\">]</span> <span style=\"color: #808000; text-decoration-color: #808000\">n</span>=<span style=\"color: #008080; text-decoration-color: #008080; font-weight: bold\">6400</span> <span style=\"font-weight: bold\">(</span>25Kb<span style=\"font-weight: bold\">)</span> x∈<span style=\"font-weight: bold\">[</span><span style=\"color: #008080; text-decoration-color: #008080; font-weight: bold\">-0.242</span>, <span style=\"color: #008080; text-decoration-color: #008080; font-weight: bold\">0.279</span><span style=\"font-weight: bold\">]</span> <span style=\"color: #808000; text-decoration-color: #808000\">μ</span>=<span style=\"color: #008080; text-decoration-color: #008080; font-weight: bold\">0.001</span> <span style=\"color: #808000; text-decoration-color: #808000\">σ</span>=<span style=\"color: #008080; text-decoration-color: #008080; font-weight: bold\">0.107</span>        <span style=\"color: #7f7f7f; text-decoration-color: #7f7f7f\">               </span>\n",
       "<span style=\"color: #7fbfbf; text-decoration-color: #7fbfbf\">                    </span>         cu<span style=\"color: #00ff00; text-decoration-color: #00ff00; font-weight: bold\">da:0</span><span style=\"font-weight: bold\">)</span>, <span style=\"font-weight: bold\">(</span><span style=\"color: #008000; text-decoration-color: #008000\">'interactions.3.conv.nn.0.bias'</span>, tensor<span style=\"font-weight: bold\">[</span><span style=\"color: #008080; text-decoration-color: #008080; font-weight: bold\">128</span><span style=\"font-weight: bold\">]</span> x∈<span style=\"font-weight: bold\">[</span><span style=\"color: #008080; text-decoration-color: #008080; font-weight: bold\">-0.039</span>,      <span style=\"color: #7f7f7f; text-decoration-color: #7f7f7f\">               </span>\n",
       "<span style=\"color: #7fbfbf; text-decoration-color: #7fbfbf\">                    </span>         <span style=\"color: #008080; text-decoration-color: #008080; font-weight: bold\">0.032</span><span style=\"font-weight: bold\">]</span> <span style=\"color: #808000; text-decoration-color: #808000\">μ</span>=<span style=\"color: #008080; text-decoration-color: #008080; font-weight: bold\">3.003e-05</span> <span style=\"color: #808000; text-decoration-color: #808000\">σ</span>=<span style=\"color: #008080; text-decoration-color: #008080; font-weight: bold\">0.015</span> cu<span style=\"color: #00ff00; text-decoration-color: #00ff00; font-weight: bold\">da:0</span><span style=\"font-weight: bold\">)</span>,                                    <span style=\"color: #7f7f7f; text-decoration-color: #7f7f7f\">               </span>\n",
       "<span style=\"color: #7fbfbf; text-decoration-color: #7fbfbf\">                    </span>         <span style=\"font-weight: bold\">(</span><span style=\"color: #008000; text-decoration-color: #008000\">'interactions.3.conv.nn.2.weight'</span>, tensor<span style=\"font-weight: bold\">[</span><span style=\"color: #008080; text-decoration-color: #008080; font-weight: bold\">128</span>, <span style=\"color: #008080; text-decoration-color: #008080; font-weight: bold\">128</span><span style=\"font-weight: bold\">]</span> <span style=\"color: #808000; text-decoration-color: #808000\">n</span>=<span style=\"color: #008080; text-decoration-color: #008080; font-weight: bold\">16384</span> <span style=\"font-weight: bold\">(</span>64Kb<span style=\"font-weight: bold\">)</span>    <span style=\"color: #7f7f7f; text-decoration-color: #7f7f7f\">               </span>\n",
       "<span style=\"color: #7fbfbf; text-decoration-color: #7fbfbf\">                    </span>         x∈<span style=\"font-weight: bold\">[</span><span style=\"color: #008080; text-decoration-color: #008080; font-weight: bold\">-0.210</span>, <span style=\"color: #008080; text-decoration-color: #008080; font-weight: bold\">0.229</span><span style=\"font-weight: bold\">]</span> <span style=\"color: #808000; text-decoration-color: #808000\">μ</span>=<span style=\"color: #008080; text-decoration-color: #008080; font-weight: bold\">0.001</span> <span style=\"color: #808000; text-decoration-color: #808000\">σ</span>=<span style=\"color: #008080; text-decoration-color: #008080; font-weight: bold\">0.089</span> cu<span style=\"color: #00ff00; text-decoration-color: #00ff00; font-weight: bold\">da:0</span><span style=\"font-weight: bold\">)</span>,                             <span style=\"color: #7f7f7f; text-decoration-color: #7f7f7f\">               </span>\n",
       "<span style=\"color: #7fbfbf; text-decoration-color: #7fbfbf\">                    </span>         <span style=\"font-weight: bold\">(</span><span style=\"color: #008000; text-decoration-color: #008000\">'interactions.3.conv.nn.2.bias'</span>, tensor<span style=\"font-weight: bold\">[</span><span style=\"color: #008080; text-decoration-color: #008080; font-weight: bold\">128</span><span style=\"font-weight: bold\">]</span> x∈<span style=\"font-weight: bold\">[</span><span style=\"color: #008080; text-decoration-color: #008080; font-weight: bold\">-0.024</span>, <span style=\"color: #008080; text-decoration-color: #008080; font-weight: bold\">0.027</span><span style=\"font-weight: bold\">]</span>        <span style=\"color: #7f7f7f; text-decoration-color: #7f7f7f\">               </span>\n",
       "<span style=\"color: #7fbfbf; text-decoration-color: #7fbfbf\">                    </span>         <span style=\"color: #808000; text-decoration-color: #808000\">μ</span>=<span style=\"color: #008080; text-decoration-color: #008080; font-weight: bold\">-0.001</span> <span style=\"color: #808000; text-decoration-color: #808000\">σ</span>=<span style=\"color: #008080; text-decoration-color: #008080; font-weight: bold\">0.010</span> cu<span style=\"color: #00ff00; text-decoration-color: #00ff00; font-weight: bold\">da:0</span><span style=\"font-weight: bold\">)</span>, <span style=\"font-weight: bold\">(</span><span style=\"color: #008000; text-decoration-color: #008000\">'interactions.3.lin.weight'</span>, tensor<span style=\"font-weight: bold\">[</span><span style=\"color: #008080; text-decoration-color: #008080; font-weight: bold\">512</span>,    <span style=\"color: #7f7f7f; text-decoration-color: #7f7f7f\">               </span>\n",
       "<span style=\"color: #7fbfbf; text-decoration-color: #7fbfbf\">                    </span>         <span style=\"color: #008080; text-decoration-color: #008080; font-weight: bold\">512</span><span style=\"font-weight: bold\">]</span> <span style=\"color: #808000; text-decoration-color: #808000\">n</span>=<span style=\"color: #008080; text-decoration-color: #008080; font-weight: bold\">262144</span> <span style=\"font-weight: bold\">(</span>1Mb<span style=\"font-weight: bold\">)</span> x∈<span style=\"font-weight: bold\">[</span><span style=\"color: #008080; text-decoration-color: #008080; font-weight: bold\">-0.134</span>, <span style=\"color: #008080; text-decoration-color: #008080; font-weight: bold\">0.134</span><span style=\"font-weight: bold\">]</span> <span style=\"color: #808000; text-decoration-color: #808000\">μ</span>=<span style=\"color: #008080; text-decoration-color: #008080; font-weight: bold\">-7.191e-05</span> <span style=\"color: #808000; text-decoration-color: #808000\">σ</span>=<span style=\"color: #008080; text-decoration-color: #008080; font-weight: bold\">0.046</span> cu<span style=\"color: #00ff00; text-decoration-color: #00ff00; font-weight: bold\">da:0</span><span style=\"font-weight: bold\">)</span>,    <span style=\"color: #7f7f7f; text-decoration-color: #7f7f7f\">               </span>\n",
       "<span style=\"color: #7fbfbf; text-decoration-color: #7fbfbf\">                    </span>         <span style=\"font-weight: bold\">(</span><span style=\"color: #008000; text-decoration-color: #008000\">'interactions.3.lin.bias'</span>, tensor<span style=\"font-weight: bold\">[</span><span style=\"color: #008080; text-decoration-color: #008080; font-weight: bold\">512</span><span style=\"font-weight: bold\">]</span> 2Kb x∈<span style=\"font-weight: bold\">[</span><span style=\"color: #008080; text-decoration-color: #008080; font-weight: bold\">-0.033</span>, <span style=\"color: #008080; text-decoration-color: #008080; font-weight: bold\">0.035</span><span style=\"font-weight: bold\">]</span>          <span style=\"color: #7f7f7f; text-decoration-color: #7f7f7f\">               </span>\n",
       "<span style=\"color: #7fbfbf; text-decoration-color: #7fbfbf\">                    </span>         <span style=\"color: #808000; text-decoration-color: #808000\">μ</span>=<span style=\"color: #008080; text-decoration-color: #008080; font-weight: bold\">-1.022e-05</span> <span style=\"color: #808000; text-decoration-color: #808000\">σ</span>=<span style=\"color: #008080; text-decoration-color: #008080; font-weight: bold\">0.014</span> cu<span style=\"color: #00ff00; text-decoration-color: #00ff00; font-weight: bold\">da:0</span><span style=\"font-weight: bold\">)</span>, <span style=\"font-weight: bold\">(</span><span style=\"color: #008000; text-decoration-color: #008000\">'interactions.4.mlp.0.weight'</span>,          <span style=\"color: #7f7f7f; text-decoration-color: #7f7f7f\">               </span>\n",
       "<span style=\"color: #7fbfbf; text-decoration-color: #7fbfbf\">                    </span>         tensor<span style=\"font-weight: bold\">[</span><span style=\"color: #008080; text-decoration-color: #008080; font-weight: bold\">128</span>, <span style=\"color: #008080; text-decoration-color: #008080; font-weight: bold\">50</span><span style=\"font-weight: bold\">]</span> <span style=\"color: #808000; text-decoration-color: #808000\">n</span>=<span style=\"color: #008080; text-decoration-color: #008080; font-weight: bold\">6400</span> <span style=\"font-weight: bold\">(</span>25Kb<span style=\"font-weight: bold\">)</span> x∈<span style=\"font-weight: bold\">[</span><span style=\"color: #008080; text-decoration-color: #008080; font-weight: bold\">-0.246</span>, <span style=\"color: #008080; text-decoration-color: #008080; font-weight: bold\">0.294</span><span style=\"font-weight: bold\">]</span> <span style=\"color: #808000; text-decoration-color: #808000\">μ</span>=<span style=\"color: #008080; text-decoration-color: #008080; font-weight: bold\">-4.022e-05</span> <span style=\"color: #808000; text-decoration-color: #808000\">σ</span>=<span style=\"color: #008080; text-decoration-color: #008080; font-weight: bold\">0.108</span>   <span style=\"color: #7f7f7f; text-decoration-color: #7f7f7f\">               </span>\n",
       "<span style=\"color: #7fbfbf; text-decoration-color: #7fbfbf\">                    </span>         cu<span style=\"color: #00ff00; text-decoration-color: #00ff00; font-weight: bold\">da:0</span><span style=\"font-weight: bold\">)</span>, <span style=\"font-weight: bold\">(</span><span style=\"color: #008000; text-decoration-color: #008000\">'interactions.4.mlp.0.bias'</span>, tensor<span style=\"font-weight: bold\">[</span><span style=\"color: #008080; text-decoration-color: #008080; font-weight: bold\">128</span><span style=\"font-weight: bold\">]</span> x∈<span style=\"font-weight: bold\">[</span><span style=\"color: #008080; text-decoration-color: #008080; font-weight: bold\">-0.036</span>, <span style=\"color: #008080; text-decoration-color: #008080; font-weight: bold\">0.057</span><span style=\"font-weight: bold\">]</span>   <span style=\"color: #7f7f7f; text-decoration-color: #7f7f7f\">               </span>\n",
       "<span style=\"color: #7fbfbf; text-decoration-color: #7fbfbf\">                    </span>         <span style=\"color: #808000; text-decoration-color: #808000\">μ</span>=<span style=\"color: #008080; text-decoration-color: #008080; font-weight: bold\">0.001</span> <span style=\"color: #808000; text-decoration-color: #808000\">σ</span>=<span style=\"color: #008080; text-decoration-color: #008080; font-weight: bold\">0.015</span> cu<span style=\"color: #00ff00; text-decoration-color: #00ff00; font-weight: bold\">da:0</span><span style=\"font-weight: bold\">)</span>, <span style=\"font-weight: bold\">(</span><span style=\"color: #008000; text-decoration-color: #008000\">'interactions.4.mlp.2.weight'</span>, tensor<span style=\"font-weight: bold\">[</span><span style=\"color: #008080; text-decoration-color: #008080; font-weight: bold\">128</span>,   <span style=\"color: #7f7f7f; text-decoration-color: #7f7f7f\">               </span>\n",
       "<span style=\"color: #7fbfbf; text-decoration-color: #7fbfbf\">                    </span>         <span style=\"color: #008080; text-decoration-color: #008080; font-weight: bold\">128</span><span style=\"font-weight: bold\">]</span> <span style=\"color: #808000; text-decoration-color: #808000\">n</span>=<span style=\"color: #008080; text-decoration-color: #008080; font-weight: bold\">16384</span> <span style=\"font-weight: bold\">(</span>64Kb<span style=\"font-weight: bold\">)</span> x∈<span style=\"font-weight: bold\">[</span><span style=\"color: #008080; text-decoration-color: #008080; font-weight: bold\">-0.223</span>, <span style=\"color: #008080; text-decoration-color: #008080; font-weight: bold\">0.245</span><span style=\"font-weight: bold\">]</span> <span style=\"color: #808000; text-decoration-color: #808000\">μ</span>=<span style=\"color: #008080; text-decoration-color: #008080; font-weight: bold\">-0.000</span> <span style=\"color: #808000; text-decoration-color: #808000\">σ</span>=<span style=\"color: #008080; text-decoration-color: #008080; font-weight: bold\">0.089</span> cu<span style=\"color: #00ff00; text-decoration-color: #00ff00; font-weight: bold\">da:0</span><span style=\"font-weight: bold\">)</span>,        <span style=\"color: #7f7f7f; text-decoration-color: #7f7f7f\">               </span>\n",
       "<span style=\"color: #7fbfbf; text-decoration-color: #7fbfbf\">                    </span>         <span style=\"font-weight: bold\">(</span><span style=\"color: #008000; text-decoration-color: #008000\">'interactions.4.mlp.2.bias'</span>, tensor<span style=\"font-weight: bold\">[</span><span style=\"color: #008080; text-decoration-color: #008080; font-weight: bold\">128</span><span style=\"font-weight: bold\">]</span> x∈<span style=\"font-weight: bold\">[</span><span style=\"color: #008080; text-decoration-color: #008080; font-weight: bold\">-0.035</span>, <span style=\"color: #008080; text-decoration-color: #008080; font-weight: bold\">0.030</span><span style=\"font-weight: bold\">]</span> <span style=\"color: #808000; text-decoration-color: #808000\">μ</span>=<span style=\"color: #008080; text-decoration-color: #008080; font-weight: bold\">-0.000</span>   <span style=\"color: #7f7f7f; text-decoration-color: #7f7f7f\">               </span>\n",
       "<span style=\"color: #7fbfbf; text-decoration-color: #7fbfbf\">                    </span>         <span style=\"color: #808000; text-decoration-color: #808000\">σ</span>=<span style=\"color: #008080; text-decoration-color: #008080; font-weight: bold\">0.012</span> cu<span style=\"color: #00ff00; text-decoration-color: #00ff00; font-weight: bold\">da:0</span><span style=\"font-weight: bold\">)</span>, <span style=\"font-weight: bold\">(</span><span style=\"color: #008000; text-decoration-color: #008000\">'interactions.4.conv.lin1.weight'</span>, tensor<span style=\"font-weight: bold\">[</span><span style=\"color: #008080; text-decoration-color: #008080; font-weight: bold\">128</span>, <span style=\"color: #008080; text-decoration-color: #008080; font-weight: bold\">512</span><span style=\"font-weight: bold\">]</span>  <span style=\"color: #7f7f7f; text-decoration-color: #7f7f7f\">               </span>\n",
       "<span style=\"color: #7fbfbf; text-decoration-color: #7fbfbf\">                    </span>         <span style=\"color: #808000; text-decoration-color: #808000\">n</span>=<span style=\"color: #008080; text-decoration-color: #008080; font-weight: bold\">65536</span> <span style=\"font-weight: bold\">(</span><span style=\"color: #008080; text-decoration-color: #008080; font-weight: bold\">0.</span>2Mb<span style=\"font-weight: bold\">)</span> x∈<span style=\"font-weight: bold\">[</span><span style=\"color: #008080; text-decoration-color: #008080; font-weight: bold\">-0.188</span>, <span style=\"color: #008080; text-decoration-color: #008080; font-weight: bold\">0.206</span><span style=\"font-weight: bold\">]</span> <span style=\"color: #808000; text-decoration-color: #808000\">μ</span>=<span style=\"color: #008080; text-decoration-color: #008080; font-weight: bold\">-8.653e-05</span> <span style=\"color: #808000; text-decoration-color: #808000\">σ</span>=<span style=\"color: #008080; text-decoration-color: #008080; font-weight: bold\">0.059</span> cu<span style=\"color: #00ff00; text-decoration-color: #00ff00; font-weight: bold\">da:0</span><span style=\"font-weight: bold\">)</span>,        <span style=\"color: #7f7f7f; text-decoration-color: #7f7f7f\">               </span>\n",
       "<span style=\"color: #7fbfbf; text-decoration-color: #7fbfbf\">                    </span>         <span style=\"font-weight: bold\">(</span><span style=\"color: #008000; text-decoration-color: #008000\">'interactions.4.conv.lin2.weight'</span>, tensor<span style=\"font-weight: bold\">[</span><span style=\"color: #008080; text-decoration-color: #008080; font-weight: bold\">512</span>, <span style=\"color: #008080; text-decoration-color: #008080; font-weight: bold\">128</span><span style=\"font-weight: bold\">]</span> <span style=\"color: #808000; text-decoration-color: #808000\">n</span>=<span style=\"color: #008080; text-decoration-color: #008080; font-weight: bold\">65536</span> <span style=\"font-weight: bold\">(</span><span style=\"color: #008080; text-decoration-color: #008080; font-weight: bold\">0.</span>2Mb<span style=\"font-weight: bold\">)</span>   <span style=\"color: #7f7f7f; text-decoration-color: #7f7f7f\">               </span>\n",
       "<span style=\"color: #7fbfbf; text-decoration-color: #7fbfbf\">                    </span>         x∈<span style=\"font-weight: bold\">[</span><span style=\"color: #008080; text-decoration-color: #008080; font-weight: bold\">-0.167</span>, <span style=\"color: #008080; text-decoration-color: #008080; font-weight: bold\">0.160</span><span style=\"font-weight: bold\">]</span> <span style=\"color: #808000; text-decoration-color: #808000\">μ</span>=<span style=\"color: #008080; text-decoration-color: #008080; font-weight: bold\">-0.000</span> <span style=\"color: #808000; text-decoration-color: #808000\">σ</span>=<span style=\"color: #008080; text-decoration-color: #008080; font-weight: bold\">0.058</span> cu<span style=\"color: #00ff00; text-decoration-color: #00ff00; font-weight: bold\">da:0</span><span style=\"font-weight: bold\">)</span>,                            <span style=\"color: #7f7f7f; text-decoration-color: #7f7f7f\">               </span>\n",
       "<span style=\"color: #7fbfbf; text-decoration-color: #7fbfbf\">                    </span>         <span style=\"font-weight: bold\">(</span><span style=\"color: #008000; text-decoration-color: #008000\">'interactions.4.conv.lin2.bias'</span>, tensor<span style=\"font-weight: bold\">[</span><span style=\"color: #008080; text-decoration-color: #008080; font-weight: bold\">512</span><span style=\"font-weight: bold\">]</span> 2Kb x∈<span style=\"font-weight: bold\">[</span><span style=\"color: #008080; text-decoration-color: #008080; font-weight: bold\">-0.021</span>, <span style=\"color: #008080; text-decoration-color: #008080; font-weight: bold\">0.017</span><span style=\"font-weight: bold\">]</span>    <span style=\"color: #7f7f7f; text-decoration-color: #7f7f7f\">               </span>\n",
       "<span style=\"color: #7fbfbf; text-decoration-color: #7fbfbf\">                    </span>         <span style=\"color: #808000; text-decoration-color: #808000\">μ</span>=<span style=\"color: #008080; text-decoration-color: #008080; font-weight: bold\">9.058e-06</span> <span style=\"color: #808000; text-decoration-color: #808000\">σ</span>=<span style=\"color: #008080; text-decoration-color: #008080; font-weight: bold\">0.008</span> cu<span style=\"color: #00ff00; text-decoration-color: #00ff00; font-weight: bold\">da:0</span><span style=\"font-weight: bold\">)</span>, <span style=\"font-weight: bold\">(</span><span style=\"color: #008000; text-decoration-color: #008000\">'interactions.4.conv.nn.0.weight'</span>,       <span style=\"color: #7f7f7f; text-decoration-color: #7f7f7f\">               </span>\n",
       "<span style=\"color: #7fbfbf; text-decoration-color: #7fbfbf\">                    </span>         tensor<span style=\"font-weight: bold\">[</span><span style=\"color: #008080; text-decoration-color: #008080; font-weight: bold\">128</span>, <span style=\"color: #008080; text-decoration-color: #008080; font-weight: bold\">50</span><span style=\"font-weight: bold\">]</span> <span style=\"color: #808000; text-decoration-color: #808000\">n</span>=<span style=\"color: #008080; text-decoration-color: #008080; font-weight: bold\">6400</span> <span style=\"font-weight: bold\">(</span>25Kb<span style=\"font-weight: bold\">)</span> x∈<span style=\"font-weight: bold\">[</span><span style=\"color: #008080; text-decoration-color: #008080; font-weight: bold\">-0.246</span>, <span style=\"color: #008080; text-decoration-color: #008080; font-weight: bold\">0.294</span><span style=\"font-weight: bold\">]</span> <span style=\"color: #808000; text-decoration-color: #808000\">μ</span>=<span style=\"color: #008080; text-decoration-color: #008080; font-weight: bold\">-4.022e-05</span> <span style=\"color: #808000; text-decoration-color: #808000\">σ</span>=<span style=\"color: #008080; text-decoration-color: #008080; font-weight: bold\">0.108</span>   <span style=\"color: #7f7f7f; text-decoration-color: #7f7f7f\">               </span>\n",
       "<span style=\"color: #7fbfbf; text-decoration-color: #7fbfbf\">                    </span>         cu<span style=\"color: #00ff00; text-decoration-color: #00ff00; font-weight: bold\">da:0</span><span style=\"font-weight: bold\">)</span>, <span style=\"font-weight: bold\">(</span><span style=\"color: #008000; text-decoration-color: #008000\">'interactions.4.conv.nn.0.bias'</span>, tensor<span style=\"font-weight: bold\">[</span><span style=\"color: #008080; text-decoration-color: #008080; font-weight: bold\">128</span><span style=\"font-weight: bold\">]</span> x∈<span style=\"font-weight: bold\">[</span><span style=\"color: #008080; text-decoration-color: #008080; font-weight: bold\">-0.036</span>,      <span style=\"color: #7f7f7f; text-decoration-color: #7f7f7f\">               </span>\n",
       "<span style=\"color: #7fbfbf; text-decoration-color: #7fbfbf\">                    </span>         <span style=\"color: #008080; text-decoration-color: #008080; font-weight: bold\">0.057</span><span style=\"font-weight: bold\">]</span> <span style=\"color: #808000; text-decoration-color: #808000\">μ</span>=<span style=\"color: #008080; text-decoration-color: #008080; font-weight: bold\">0.001</span> <span style=\"color: #808000; text-decoration-color: #808000\">σ</span>=<span style=\"color: #008080; text-decoration-color: #008080; font-weight: bold\">0.015</span> cu<span style=\"color: #00ff00; text-decoration-color: #00ff00; font-weight: bold\">da:0</span><span style=\"font-weight: bold\">)</span>, <span style=\"font-weight: bold\">(</span><span style=\"color: #008000; text-decoration-color: #008000\">'interactions.4.conv.nn.2.weight'</span>,    <span style=\"color: #7f7f7f; text-decoration-color: #7f7f7f\">               </span>\n",
       "<span style=\"color: #7fbfbf; text-decoration-color: #7fbfbf\">                    </span>         tensor<span style=\"font-weight: bold\">[</span><span style=\"color: #008080; text-decoration-color: #008080; font-weight: bold\">128</span>, <span style=\"color: #008080; text-decoration-color: #008080; font-weight: bold\">128</span><span style=\"font-weight: bold\">]</span> <span style=\"color: #808000; text-decoration-color: #808000\">n</span>=<span style=\"color: #008080; text-decoration-color: #008080; font-weight: bold\">16384</span> <span style=\"font-weight: bold\">(</span>64Kb<span style=\"font-weight: bold\">)</span> x∈<span style=\"font-weight: bold\">[</span><span style=\"color: #008080; text-decoration-color: #008080; font-weight: bold\">-0.223</span>, <span style=\"color: #008080; text-decoration-color: #008080; font-weight: bold\">0.245</span><span style=\"font-weight: bold\">]</span> <span style=\"color: #808000; text-decoration-color: #808000\">μ</span>=<span style=\"color: #008080; text-decoration-color: #008080; font-weight: bold\">-0.000</span> <span style=\"color: #808000; text-decoration-color: #808000\">σ</span>=<span style=\"color: #008080; text-decoration-color: #008080; font-weight: bold\">0.089</span>     <span style=\"color: #7f7f7f; text-decoration-color: #7f7f7f\">               </span>\n",
       "<span style=\"color: #7fbfbf; text-decoration-color: #7fbfbf\">                    </span>         cu<span style=\"color: #00ff00; text-decoration-color: #00ff00; font-weight: bold\">da:0</span><span style=\"font-weight: bold\">)</span>, <span style=\"font-weight: bold\">(</span><span style=\"color: #008000; text-decoration-color: #008000\">'interactions.4.conv.nn.2.bias'</span>, tensor<span style=\"font-weight: bold\">[</span><span style=\"color: #008080; text-decoration-color: #008080; font-weight: bold\">128</span><span style=\"font-weight: bold\">]</span> x∈<span style=\"font-weight: bold\">[</span><span style=\"color: #008080; text-decoration-color: #008080; font-weight: bold\">-0.035</span>,      <span style=\"color: #7f7f7f; text-decoration-color: #7f7f7f\">               </span>\n",
       "<span style=\"color: #7fbfbf; text-decoration-color: #7fbfbf\">                    </span>         <span style=\"color: #008080; text-decoration-color: #008080; font-weight: bold\">0.030</span><span style=\"font-weight: bold\">]</span> <span style=\"color: #808000; text-decoration-color: #808000\">μ</span>=<span style=\"color: #008080; text-decoration-color: #008080; font-weight: bold\">-0.000</span> <span style=\"color: #808000; text-decoration-color: #808000\">σ</span>=<span style=\"color: #008080; text-decoration-color: #008080; font-weight: bold\">0.012</span> cu<span style=\"color: #00ff00; text-decoration-color: #00ff00; font-weight: bold\">da:0</span><span style=\"font-weight: bold\">)</span>, <span style=\"font-weight: bold\">(</span><span style=\"color: #008000; text-decoration-color: #008000\">'interactions.4.lin.weight'</span>,         <span style=\"color: #7f7f7f; text-decoration-color: #7f7f7f\">               </span>\n",
       "<span style=\"color: #7fbfbf; text-decoration-color: #7fbfbf\">                    </span>         tensor<span style=\"font-weight: bold\">[</span><span style=\"color: #008080; text-decoration-color: #008080; font-weight: bold\">512</span>, <span style=\"color: #008080; text-decoration-color: #008080; font-weight: bold\">512</span><span style=\"font-weight: bold\">]</span> <span style=\"color: #808000; text-decoration-color: #808000\">n</span>=<span style=\"color: #008080; text-decoration-color: #008080; font-weight: bold\">262144</span> <span style=\"font-weight: bold\">(</span>1Mb<span style=\"font-weight: bold\">)</span> x∈<span style=\"font-weight: bold\">[</span><span style=\"color: #008080; text-decoration-color: #008080; font-weight: bold\">-0.133</span>, <span style=\"color: #008080; text-decoration-color: #008080; font-weight: bold\">0.134</span><span style=\"font-weight: bold\">]</span> <span style=\"color: #808000; text-decoration-color: #808000\">μ</span>=<span style=\"color: #008080; text-decoration-color: #008080; font-weight: bold\">-6.478e-05</span> <span style=\"color: #808000; text-decoration-color: #808000\">σ</span>=<span style=\"color: #008080; text-decoration-color: #008080; font-weight: bold\">0.046</span> <span style=\"color: #7f7f7f; text-decoration-color: #7f7f7f\">               </span>\n",
       "<span style=\"color: #7fbfbf; text-decoration-color: #7fbfbf\">                    </span>         cu<span style=\"color: #00ff00; text-decoration-color: #00ff00; font-weight: bold\">da:0</span><span style=\"font-weight: bold\">)</span>, <span style=\"font-weight: bold\">(</span><span style=\"color: #008000; text-decoration-color: #008000\">'interactions.4.lin.bias'</span>, tensor<span style=\"font-weight: bold\">[</span><span style=\"color: #008080; text-decoration-color: #008080; font-weight: bold\">512</span><span style=\"font-weight: bold\">]</span> 2Kb x∈<span style=\"font-weight: bold\">[</span><span style=\"color: #008080; text-decoration-color: #008080; font-weight: bold\">-0.031</span>, <span style=\"color: #008080; text-decoration-color: #008080; font-weight: bold\">0.035</span><span style=\"font-weight: bold\">]</span> <span style=\"color: #7f7f7f; text-decoration-color: #7f7f7f\">               </span>\n",
       "<span style=\"color: #7fbfbf; text-decoration-color: #7fbfbf\">                    </span>         <span style=\"color: #808000; text-decoration-color: #808000\">μ</span>=<span style=\"color: #008080; text-decoration-color: #008080; font-weight: bold\">0.000</span> <span style=\"color: #808000; text-decoration-color: #808000\">σ</span>=<span style=\"color: #008080; text-decoration-color: #008080; font-weight: bold\">0.013</span> cu<span style=\"color: #00ff00; text-decoration-color: #00ff00; font-weight: bold\">da:0</span><span style=\"font-weight: bold\">)</span>, <span style=\"font-weight: bold\">(</span><span style=\"color: #008000; text-decoration-color: #008000\">'interactions.5.mlp.0.weight'</span>, tensor<span style=\"font-weight: bold\">[</span><span style=\"color: #008080; text-decoration-color: #008080; font-weight: bold\">128</span>,   <span style=\"color: #7f7f7f; text-decoration-color: #7f7f7f\">               </span>\n",
       "<span style=\"color: #7fbfbf; text-decoration-color: #7fbfbf\">                    </span>         <span style=\"color: #008080; text-decoration-color: #008080; font-weight: bold\">50</span><span style=\"font-weight: bold\">]</span> <span style=\"color: #808000; text-decoration-color: #808000\">n</span>=<span style=\"color: #008080; text-decoration-color: #008080; font-weight: bold\">6400</span> <span style=\"font-weight: bold\">(</span>25Kb<span style=\"font-weight: bold\">)</span> x∈<span style=\"font-weight: bold\">[</span><span style=\"color: #008080; text-decoration-color: #008080; font-weight: bold\">-0.250</span>, <span style=\"color: #008080; text-decoration-color: #008080; font-weight: bold\">0.229</span><span style=\"font-weight: bold\">]</span> <span style=\"color: #808000; text-decoration-color: #808000\">μ</span>=<span style=\"color: #008080; text-decoration-color: #008080; font-weight: bold\">-0.001</span> <span style=\"color: #808000; text-decoration-color: #808000\">σ</span>=<span style=\"color: #008080; text-decoration-color: #008080; font-weight: bold\">0.108</span> cu<span style=\"color: #00ff00; text-decoration-color: #00ff00; font-weight: bold\">da:0</span><span style=\"font-weight: bold\">)</span>,          <span style=\"color: #7f7f7f; text-decoration-color: #7f7f7f\">               </span>\n",
       "<span style=\"color: #7fbfbf; text-decoration-color: #7fbfbf\">                    </span>         <span style=\"font-weight: bold\">(</span><span style=\"color: #008000; text-decoration-color: #008000\">'interactions.5.mlp.0.bias'</span>, tensor<span style=\"font-weight: bold\">[</span><span style=\"color: #008080; text-decoration-color: #008080; font-weight: bold\">128</span><span style=\"font-weight: bold\">]</span> x∈<span style=\"font-weight: bold\">[</span><span style=\"color: #008080; text-decoration-color: #008080; font-weight: bold\">-0.037</span>, <span style=\"color: #008080; text-decoration-color: #008080; font-weight: bold\">0.032</span><span style=\"font-weight: bold\">]</span> <span style=\"color: #808000; text-decoration-color: #808000\">μ</span>=<span style=\"color: #008080; text-decoration-color: #008080; font-weight: bold\">0.001</span>    <span style=\"color: #7f7f7f; text-decoration-color: #7f7f7f\">               </span>\n",
       "<span style=\"color: #7fbfbf; text-decoration-color: #7fbfbf\">                    </span>         <span style=\"color: #808000; text-decoration-color: #808000\">σ</span>=<span style=\"color: #008080; text-decoration-color: #008080; font-weight: bold\">0.013</span> cu<span style=\"color: #00ff00; text-decoration-color: #00ff00; font-weight: bold\">da:0</span><span style=\"font-weight: bold\">)</span>, <span style=\"font-weight: bold\">(</span><span style=\"color: #008000; text-decoration-color: #008000\">'interactions.5.mlp.2.weight'</span>, tensor<span style=\"font-weight: bold\">[</span><span style=\"color: #008080; text-decoration-color: #008080; font-weight: bold\">128</span>, <span style=\"color: #008080; text-decoration-color: #008080; font-weight: bold\">128</span><span style=\"font-weight: bold\">]</span>      <span style=\"color: #7f7f7f; text-decoration-color: #7f7f7f\">               </span>\n",
       "<span style=\"color: #7fbfbf; text-decoration-color: #7fbfbf\">                    </span>         <span style=\"color: #808000; text-decoration-color: #808000\">n</span>=<span style=\"color: #008080; text-decoration-color: #008080; font-weight: bold\">16384</span> <span style=\"font-weight: bold\">(</span>64Kb<span style=\"font-weight: bold\">)</span> x∈<span style=\"font-weight: bold\">[</span><span style=\"color: #008080; text-decoration-color: #008080; font-weight: bold\">-0.241</span>, <span style=\"color: #008080; text-decoration-color: #008080; font-weight: bold\">0.210</span><span style=\"font-weight: bold\">]</span> <span style=\"color: #808000; text-decoration-color: #808000\">μ</span>=<span style=\"color: #008080; text-decoration-color: #008080; font-weight: bold\">-0.001</span> <span style=\"color: #808000; text-decoration-color: #808000\">σ</span>=<span style=\"color: #008080; text-decoration-color: #008080; font-weight: bold\">0.090</span> cu<span style=\"color: #00ff00; text-decoration-color: #00ff00; font-weight: bold\">da:0</span><span style=\"font-weight: bold\">)</span>,             <span style=\"color: #7f7f7f; text-decoration-color: #7f7f7f\">               </span>\n",
       "<span style=\"color: #7fbfbf; text-decoration-color: #7fbfbf\">                    </span>         <span style=\"font-weight: bold\">(</span><span style=\"color: #008000; text-decoration-color: #008000\">'interactions.5.mlp.2.bias'</span>, tensor<span style=\"font-weight: bold\">[</span><span style=\"color: #008080; text-decoration-color: #008080; font-weight: bold\">128</span><span style=\"font-weight: bold\">]</span> x∈<span style=\"font-weight: bold\">[</span><span style=\"color: #008080; text-decoration-color: #008080; font-weight: bold\">-0.032</span>, <span style=\"color: #008080; text-decoration-color: #008080; font-weight: bold\">0.031</span><span style=\"font-weight: bold\">]</span>            <span style=\"color: #7f7f7f; text-decoration-color: #7f7f7f\">               </span>\n",
       "<span style=\"color: #7fbfbf; text-decoration-color: #7fbfbf\">                    </span>         <span style=\"color: #808000; text-decoration-color: #808000\">μ</span>=<span style=\"color: #008080; text-decoration-color: #008080; font-weight: bold\">5.481e-05</span> <span style=\"color: #808000; text-decoration-color: #808000\">σ</span>=<span style=\"color: #008080; text-decoration-color: #008080; font-weight: bold\">0.011</span> cu<span style=\"color: #00ff00; text-decoration-color: #00ff00; font-weight: bold\">da:0</span><span style=\"font-weight: bold\">)</span>, <span style=\"font-weight: bold\">(</span><span style=\"color: #008000; text-decoration-color: #008000\">'interactions.5.conv.lin1.weight'</span>,       <span style=\"color: #7f7f7f; text-decoration-color: #7f7f7f\">               </span>\n",
       "<span style=\"color: #7fbfbf; text-decoration-color: #7fbfbf\">                    </span>         tensor<span style=\"font-weight: bold\">[</span><span style=\"color: #008080; text-decoration-color: #008080; font-weight: bold\">128</span>, <span style=\"color: #008080; text-decoration-color: #008080; font-weight: bold\">512</span><span style=\"font-weight: bold\">]</span> <span style=\"color: #808000; text-decoration-color: #808000\">n</span>=<span style=\"color: #008080; text-decoration-color: #008080; font-weight: bold\">65536</span> <span style=\"font-weight: bold\">(</span><span style=\"color: #008080; text-decoration-color: #008080; font-weight: bold\">0.</span>2Mb<span style=\"font-weight: bold\">)</span> x∈<span style=\"font-weight: bold\">[</span><span style=\"color: #008080; text-decoration-color: #008080; font-weight: bold\">-0.166</span>, <span style=\"color: #008080; text-decoration-color: #008080; font-weight: bold\">0.199</span><span style=\"font-weight: bold\">]</span> <span style=\"color: #808000; text-decoration-color: #808000\">μ</span>=<span style=\"color: #008080; text-decoration-color: #008080; font-weight: bold\">0.000</span> <span style=\"color: #808000; text-decoration-color: #808000\">σ</span>=<span style=\"color: #008080; text-decoration-color: #008080; font-weight: bold\">0.059</span>     <span style=\"color: #7f7f7f; text-decoration-color: #7f7f7f\">               </span>\n",
       "<span style=\"color: #7fbfbf; text-decoration-color: #7fbfbf\">                    </span>         cu<span style=\"color: #00ff00; text-decoration-color: #00ff00; font-weight: bold\">da:0</span><span style=\"font-weight: bold\">)</span>, <span style=\"font-weight: bold\">(</span><span style=\"color: #008000; text-decoration-color: #008000\">'interactions.5.conv.lin2.weight'</span>, tensor<span style=\"font-weight: bold\">[</span><span style=\"color: #008080; text-decoration-color: #008080; font-weight: bold\">512</span>, <span style=\"color: #008080; text-decoration-color: #008080; font-weight: bold\">128</span><span style=\"font-weight: bold\">]</span> <span style=\"color: #808000; text-decoration-color: #808000\">n</span>=<span style=\"color: #008080; text-decoration-color: #008080; font-weight: bold\">65536</span>  <span style=\"color: #7f7f7f; text-decoration-color: #7f7f7f\">               </span>\n",
       "<span style=\"color: #7fbfbf; text-decoration-color: #7fbfbf\">                    </span>         <span style=\"font-weight: bold\">(</span><span style=\"color: #008080; text-decoration-color: #008080; font-weight: bold\">0.</span>2Mb<span style=\"font-weight: bold\">)</span> x∈<span style=\"font-weight: bold\">[</span><span style=\"color: #008080; text-decoration-color: #008080; font-weight: bold\">-0.163</span>, <span style=\"color: #008080; text-decoration-color: #008080; font-weight: bold\">0.161</span><span style=\"font-weight: bold\">]</span> <span style=\"color: #808000; text-decoration-color: #808000\">μ</span>=<span style=\"color: #008080; text-decoration-color: #008080; font-weight: bold\">-8.155e-05</span> <span style=\"color: #808000; text-decoration-color: #808000\">σ</span>=<span style=\"color: #008080; text-decoration-color: #008080; font-weight: bold\">0.057</span> cu<span style=\"color: #00ff00; text-decoration-color: #00ff00; font-weight: bold\">da:0</span><span style=\"font-weight: bold\">)</span>,                <span style=\"color: #7f7f7f; text-decoration-color: #7f7f7f\">               </span>\n",
       "<span style=\"color: #7fbfbf; text-decoration-color: #7fbfbf\">                    </span>         <span style=\"font-weight: bold\">(</span><span style=\"color: #008000; text-decoration-color: #008000\">'interactions.5.conv.lin2.bias'</span>, tensor<span style=\"font-weight: bold\">[</span><span style=\"color: #008080; text-decoration-color: #008080; font-weight: bold\">512</span><span style=\"font-weight: bold\">]</span> 2Kb x∈<span style=\"font-weight: bold\">[</span><span style=\"color: #008080; text-decoration-color: #008080; font-weight: bold\">-0.019</span>, <span style=\"color: #008080; text-decoration-color: #008080; font-weight: bold\">0.021</span><span style=\"font-weight: bold\">]</span>    <span style=\"color: #7f7f7f; text-decoration-color: #7f7f7f\">               </span>\n",
       "<span style=\"color: #7fbfbf; text-decoration-color: #7fbfbf\">                    </span>         <span style=\"color: #808000; text-decoration-color: #808000\">μ</span>=<span style=\"color: #008080; text-decoration-color: #008080; font-weight: bold\">-0.000</span> <span style=\"color: #808000; text-decoration-color: #808000\">σ</span>=<span style=\"color: #008080; text-decoration-color: #008080; font-weight: bold\">0.007</span> cu<span style=\"color: #00ff00; text-decoration-color: #00ff00; font-weight: bold\">da:0</span><span style=\"font-weight: bold\">)</span>, <span style=\"font-weight: bold\">(</span><span style=\"color: #008000; text-decoration-color: #008000\">'interactions.5.conv.nn.0.weight'</span>,          <span style=\"color: #7f7f7f; text-decoration-color: #7f7f7f\">               </span>\n",
       "<span style=\"color: #7fbfbf; text-decoration-color: #7fbfbf\">                    </span>         tensor<span style=\"font-weight: bold\">[</span><span style=\"color: #008080; text-decoration-color: #008080; font-weight: bold\">128</span>, <span style=\"color: #008080; text-decoration-color: #008080; font-weight: bold\">50</span><span style=\"font-weight: bold\">]</span> <span style=\"color: #808000; text-decoration-color: #808000\">n</span>=<span style=\"color: #008080; text-decoration-color: #008080; font-weight: bold\">6400</span> <span style=\"font-weight: bold\">(</span>25Kb<span style=\"font-weight: bold\">)</span> x∈<span style=\"font-weight: bold\">[</span><span style=\"color: #008080; text-decoration-color: #008080; font-weight: bold\">-0.250</span>, <span style=\"color: #008080; text-decoration-color: #008080; font-weight: bold\">0.229</span><span style=\"font-weight: bold\">]</span> <span style=\"color: #808000; text-decoration-color: #808000\">μ</span>=<span style=\"color: #008080; text-decoration-color: #008080; font-weight: bold\">-0.001</span> <span style=\"color: #808000; text-decoration-color: #808000\">σ</span>=<span style=\"color: #008080; text-decoration-color: #008080; font-weight: bold\">0.108</span>       <span style=\"color: #7f7f7f; text-decoration-color: #7f7f7f\">               </span>\n",
       "<span style=\"color: #7fbfbf; text-decoration-color: #7fbfbf\">                    </span>         cu<span style=\"color: #00ff00; text-decoration-color: #00ff00; font-weight: bold\">da:0</span><span style=\"font-weight: bold\">)</span>, <span style=\"font-weight: bold\">(</span><span style=\"color: #008000; text-decoration-color: #008000\">'interactions.5.conv.nn.0.bias'</span>, tensor<span style=\"font-weight: bold\">[</span><span style=\"color: #008080; text-decoration-color: #008080; font-weight: bold\">128</span><span style=\"font-weight: bold\">]</span> x∈<span style=\"font-weight: bold\">[</span><span style=\"color: #008080; text-decoration-color: #008080; font-weight: bold\">-0.037</span>,      <span style=\"color: #7f7f7f; text-decoration-color: #7f7f7f\">               </span>\n",
       "<span style=\"color: #7fbfbf; text-decoration-color: #7fbfbf\">                    </span>         <span style=\"color: #008080; text-decoration-color: #008080; font-weight: bold\">0.032</span><span style=\"font-weight: bold\">]</span> <span style=\"color: #808000; text-decoration-color: #808000\">μ</span>=<span style=\"color: #008080; text-decoration-color: #008080; font-weight: bold\">0.001</span> <span style=\"color: #808000; text-decoration-color: #808000\">σ</span>=<span style=\"color: #008080; text-decoration-color: #008080; font-weight: bold\">0.013</span> cu<span style=\"color: #00ff00; text-decoration-color: #00ff00; font-weight: bold\">da:0</span><span style=\"font-weight: bold\">)</span>, <span style=\"font-weight: bold\">(</span><span style=\"color: #008000; text-decoration-color: #008000\">'interactions.5.conv.nn.2.weight'</span>,    <span style=\"color: #7f7f7f; text-decoration-color: #7f7f7f\">               </span>\n",
       "<span style=\"color: #7fbfbf; text-decoration-color: #7fbfbf\">                    </span>         tensor<span style=\"font-weight: bold\">[</span><span style=\"color: #008080; text-decoration-color: #008080; font-weight: bold\">128</span>, <span style=\"color: #008080; text-decoration-color: #008080; font-weight: bold\">128</span><span style=\"font-weight: bold\">]</span> <span style=\"color: #808000; text-decoration-color: #808000\">n</span>=<span style=\"color: #008080; text-decoration-color: #008080; font-weight: bold\">16384</span> <span style=\"font-weight: bold\">(</span>64Kb<span style=\"font-weight: bold\">)</span> x∈<span style=\"font-weight: bold\">[</span><span style=\"color: #008080; text-decoration-color: #008080; font-weight: bold\">-0.241</span>, <span style=\"color: #008080; text-decoration-color: #008080; font-weight: bold\">0.210</span><span style=\"font-weight: bold\">]</span> <span style=\"color: #808000; text-decoration-color: #808000\">μ</span>=<span style=\"color: #008080; text-decoration-color: #008080; font-weight: bold\">-0.001</span> <span style=\"color: #808000; text-decoration-color: #808000\">σ</span>=<span style=\"color: #008080; text-decoration-color: #008080; font-weight: bold\">0.090</span>     <span style=\"color: #7f7f7f; text-decoration-color: #7f7f7f\">               </span>\n",
       "<span style=\"color: #7fbfbf; text-decoration-color: #7fbfbf\">                    </span>         cu<span style=\"color: #00ff00; text-decoration-color: #00ff00; font-weight: bold\">da:0</span><span style=\"font-weight: bold\">)</span>, <span style=\"font-weight: bold\">(</span><span style=\"color: #008000; text-decoration-color: #008000\">'interactions.5.conv.nn.2.bias'</span>, tensor<span style=\"font-weight: bold\">[</span><span style=\"color: #008080; text-decoration-color: #008080; font-weight: bold\">128</span><span style=\"font-weight: bold\">]</span> x∈<span style=\"font-weight: bold\">[</span><span style=\"color: #008080; text-decoration-color: #008080; font-weight: bold\">-0.032</span>,      <span style=\"color: #7f7f7f; text-decoration-color: #7f7f7f\">               </span>\n",
       "<span style=\"color: #7fbfbf; text-decoration-color: #7fbfbf\">                    </span>         <span style=\"color: #008080; text-decoration-color: #008080; font-weight: bold\">0.031</span><span style=\"font-weight: bold\">]</span> <span style=\"color: #808000; text-decoration-color: #808000\">μ</span>=<span style=\"color: #008080; text-decoration-color: #008080; font-weight: bold\">5.481e-05</span> <span style=\"color: #808000; text-decoration-color: #808000\">σ</span>=<span style=\"color: #008080; text-decoration-color: #008080; font-weight: bold\">0.011</span> cu<span style=\"color: #00ff00; text-decoration-color: #00ff00; font-weight: bold\">da:0</span><span style=\"font-weight: bold\">)</span>, <span style=\"font-weight: bold\">(</span><span style=\"color: #008000; text-decoration-color: #008000\">'interactions.5.lin.weight'</span>,      <span style=\"color: #7f7f7f; text-decoration-color: #7f7f7f\">               </span>\n",
       "<span style=\"color: #7fbfbf; text-decoration-color: #7fbfbf\">                    </span>         tensor<span style=\"font-weight: bold\">[</span><span style=\"color: #008080; text-decoration-color: #008080; font-weight: bold\">512</span>, <span style=\"color: #008080; text-decoration-color: #008080; font-weight: bold\">512</span><span style=\"font-weight: bold\">]</span> <span style=\"color: #808000; text-decoration-color: #808000\">n</span>=<span style=\"color: #008080; text-decoration-color: #008080; font-weight: bold\">262144</span> <span style=\"font-weight: bold\">(</span>1Mb<span style=\"font-weight: bold\">)</span> x∈<span style=\"font-weight: bold\">[</span><span style=\"color: #008080; text-decoration-color: #008080; font-weight: bold\">-0.126</span>, <span style=\"color: #008080; text-decoration-color: #008080; font-weight: bold\">0.125</span><span style=\"font-weight: bold\">]</span> <span style=\"color: #808000; text-decoration-color: #808000\">μ</span>=<span style=\"color: #008080; text-decoration-color: #008080; font-weight: bold\">-3.150e-05</span> <span style=\"color: #808000; text-decoration-color: #808000\">σ</span>=<span style=\"color: #008080; text-decoration-color: #008080; font-weight: bold\">0.046</span> <span style=\"color: #7f7f7f; text-decoration-color: #7f7f7f\">               </span>\n",
       "<span style=\"color: #7fbfbf; text-decoration-color: #7fbfbf\">                    </span>         cu<span style=\"color: #00ff00; text-decoration-color: #00ff00; font-weight: bold\">da:0</span><span style=\"font-weight: bold\">)</span>, <span style=\"font-weight: bold\">(</span><span style=\"color: #008000; text-decoration-color: #008000\">'interactions.5.lin.bias'</span>, tensor<span style=\"font-weight: bold\">[</span><span style=\"color: #008080; text-decoration-color: #008080; font-weight: bold\">512</span><span style=\"font-weight: bold\">]</span> 2Kb x∈<span style=\"font-weight: bold\">[</span><span style=\"color: #008080; text-decoration-color: #008080; font-weight: bold\">-0.029</span>, <span style=\"color: #008080; text-decoration-color: #008080; font-weight: bold\">0.033</span><span style=\"font-weight: bold\">]</span> <span style=\"color: #7f7f7f; text-decoration-color: #7f7f7f\">               </span>\n",
       "<span style=\"color: #7fbfbf; text-decoration-color: #7fbfbf\">                    </span>         <span style=\"color: #808000; text-decoration-color: #808000\">μ</span>=<span style=\"color: #008080; text-decoration-color: #008080; font-weight: bold\">-0.000</span> <span style=\"color: #808000; text-decoration-color: #808000\">σ</span>=<span style=\"color: #008080; text-decoration-color: #008080; font-weight: bold\">0.013</span> cu<span style=\"color: #00ff00; text-decoration-color: #00ff00; font-weight: bold\">da:0</span><span style=\"font-weight: bold\">)</span>, <span style=\"font-weight: bold\">(</span><span style=\"color: #008000; text-decoration-color: #008000\">'lin1.weight'</span>, tensor<span style=\"font-weight: bold\">[</span><span style=\"color: #008080; text-decoration-color: #008080; font-weight: bold\">256</span>, <span style=\"color: #008080; text-decoration-color: #008080; font-weight: bold\">512</span><span style=\"font-weight: bold\">]</span> <span style=\"color: #808000; text-decoration-color: #808000\">n</span>=<span style=\"color: #008080; text-decoration-color: #008080; font-weight: bold\">131072</span>    <span style=\"color: #7f7f7f; text-decoration-color: #7f7f7f\">               </span>\n",
       "<span style=\"color: #7fbfbf; text-decoration-color: #7fbfbf\">                    </span>         <span style=\"font-weight: bold\">(</span><span style=\"color: #008080; text-decoration-color: #008080; font-weight: bold\">0.</span>5Mb<span style=\"font-weight: bold\">)</span> x∈<span style=\"font-weight: bold\">[</span><span style=\"color: #008080; text-decoration-color: #008080; font-weight: bold\">-0.139</span>, <span style=\"color: #008080; text-decoration-color: #008080; font-weight: bold\">0.141</span><span style=\"font-weight: bold\">]</span> <span style=\"color: #808000; text-decoration-color: #808000\">μ</span>=<span style=\"color: #008080; text-decoration-color: #008080; font-weight: bold\">-0.000</span> <span style=\"color: #808000; text-decoration-color: #808000\">σ</span>=<span style=\"color: #008080; text-decoration-color: #008080; font-weight: bold\">0.051</span> cu<span style=\"color: #00ff00; text-decoration-color: #00ff00; font-weight: bold\">da:0</span><span style=\"font-weight: bold\">)</span>, <span style=\"font-weight: bold\">(</span><span style=\"color: #008000; text-decoration-color: #008000\">'lin1.bias'</span>,      <span style=\"color: #7f7f7f; text-decoration-color: #7f7f7f\">               </span>\n",
       "<span style=\"color: #7fbfbf; text-decoration-color: #7fbfbf\">                    </span>         tensor<span style=\"font-weight: bold\">[</span><span style=\"color: #008080; text-decoration-color: #008080; font-weight: bold\">256</span><span style=\"font-weight: bold\">]</span> 1Kb x∈<span style=\"font-weight: bold\">[</span><span style=\"color: #008080; text-decoration-color: #008080; font-weight: bold\">-0.031</span>, <span style=\"color: #008080; text-decoration-color: #008080; font-weight: bold\">0.045</span><span style=\"font-weight: bold\">]</span> <span style=\"color: #808000; text-decoration-color: #808000\">μ</span>=<span style=\"color: #008080; text-decoration-color: #008080; font-weight: bold\">-0.000</span> <span style=\"color: #808000; text-decoration-color: #808000\">σ</span>=<span style=\"color: #008080; text-decoration-color: #008080; font-weight: bold\">0.016</span> cu<span style=\"color: #00ff00; text-decoration-color: #00ff00; font-weight: bold\">da:0</span><span style=\"font-weight: bold\">)</span>,            <span style=\"color: #7f7f7f; text-decoration-color: #7f7f7f\">               </span>\n",
       "<span style=\"color: #7fbfbf; text-decoration-color: #7fbfbf\">                    </span>         <span style=\"font-weight: bold\">(</span><span style=\"color: #008000; text-decoration-color: #008000\">'lin2.weight'</span>, tensor<span style=\"font-weight: bold\">[</span><span style=\"color: #008080; text-decoration-color: #008080; font-weight: bold\">32</span>, <span style=\"color: #008080; text-decoration-color: #008080; font-weight: bold\">256</span><span style=\"font-weight: bold\">]</span> <span style=\"color: #808000; text-decoration-color: #808000\">n</span>=<span style=\"color: #008080; text-decoration-color: #008080; font-weight: bold\">8192</span> <span style=\"font-weight: bold\">(</span>32Kb<span style=\"font-weight: bold\">)</span> x∈<span style=\"font-weight: bold\">[</span><span style=\"color: #008080; text-decoration-color: #008080; font-weight: bold\">-0.097</span>, <span style=\"color: #008080; text-decoration-color: #008080; font-weight: bold\">0.089</span><span style=\"font-weight: bold\">]</span>        <span style=\"color: #7f7f7f; text-decoration-color: #7f7f7f\">               </span>\n",
       "<span style=\"color: #7fbfbf; text-decoration-color: #7fbfbf\">                    </span>         <span style=\"color: #808000; text-decoration-color: #808000\">μ</span>=<span style=\"color: #008080; text-decoration-color: #008080; font-weight: bold\">-2.851e-05</span> <span style=\"color: #808000; text-decoration-color: #808000\">σ</span>=<span style=\"color: #008080; text-decoration-color: #008080; font-weight: bold\">0.031</span> cu<span style=\"color: #00ff00; text-decoration-color: #00ff00; font-weight: bold\">da:0</span><span style=\"font-weight: bold\">)</span>, <span style=\"font-weight: bold\">(</span><span style=\"color: #008000; text-decoration-color: #008000\">'lin2.bias'</span>, tensor<span style=\"font-weight: bold\">[</span><span style=\"color: #008080; text-decoration-color: #008080; font-weight: bold\">32</span><span style=\"font-weight: bold\">]</span> x∈<span style=\"font-weight: bold\">[</span><span style=\"color: #008080; text-decoration-color: #008080; font-weight: bold\">-0.060</span>,      <span style=\"color: #7f7f7f; text-decoration-color: #7f7f7f\">               </span>\n",
       "<span style=\"color: #7fbfbf; text-decoration-color: #7fbfbf\">                    </span>         <span style=\"color: #008080; text-decoration-color: #008080; font-weight: bold\">0.061</span><span style=\"font-weight: bold\">]</span> <span style=\"color: #808000; text-decoration-color: #808000\">μ</span>=<span style=\"color: #008080; text-decoration-color: #008080; font-weight: bold\">0.008</span> <span style=\"color: #808000; text-decoration-color: #808000\">σ</span>=<span style=\"color: #008080; text-decoration-color: #008080; font-weight: bold\">0.032</span> cu<span style=\"color: #00ff00; text-decoration-color: #00ff00; font-weight: bold\">da:0</span><span style=\"font-weight: bold\">)])</span>                                       <span style=\"color: #7f7f7f; text-decoration-color: #7f7f7f\">               </span>\n",
       "</pre>\n"
      ],
      "text/plain": [
       "\u001b[2;36m                   \u001b[0m\u001b[2;36m \u001b[0m\u001b[34mINFO    \u001b[0m Loading encoder weights: \u001b[1;35mOrderedDict\u001b[0m\u001b[1m(\u001b[0m\u001b[1m[\u001b[0m\u001b[1m(\u001b[0m\u001b[32m'embedding.weight'\u001b[0m, tensor\u001b[1m[\u001b[0m\u001b[1;36m512\u001b[0m, \u001b]8;id=924852;file:///home/zhang/Projects/3d/ProteinWorkshop/proteinworkshop/finetune.py\u001b\\\u001b[2mfinetune.py\u001b[0m\u001b]8;;\u001b\\\u001b[2m:\u001b[0m\u001b]8;id=863505;file:///home/zhang/Projects/3d/ProteinWorkshop/proteinworkshop/finetune.py#173\u001b\\\u001b[2m173\u001b[0m\u001b]8;;\u001b\\\n",
       "\u001b[2;36m                    \u001b[0m         \u001b[1;36m23\u001b[0m\u001b[1m]\u001b[0m \u001b[33mn\u001b[0m=\u001b[1;36m11776\u001b[0m \u001b[1m(\u001b[0m46Kb\u001b[1m)\u001b[0m x∈\u001b[1m[\u001b[0m\u001b[1;36m-0.255\u001b[0m, \u001b[1;36m0.246\u001b[0m\u001b[1m]\u001b[0m \u001b[33mμ\u001b[0m=\u001b[1;36m-0.001\u001b[0m \u001b[33mσ\u001b[0m=\u001b[1;36m0\u001b[0m\u001b[1;36m.120\u001b[0m cu\u001b[1;92mda:0\u001b[0m\u001b[1m)\u001b[0m,         \u001b[2m               \u001b[0m\n",
       "\u001b[2;36m                    \u001b[0m         \u001b[1m(\u001b[0m\u001b[32m'embedding.bias'\u001b[0m, tensor\u001b[1m[\u001b[0m\u001b[1;36m512\u001b[0m\u001b[1m]\u001b[0m 2Kb x∈\u001b[1m[\u001b[0m\u001b[1;36m-0.197\u001b[0m, \u001b[1;36m0.190\u001b[0m\u001b[1m]\u001b[0m \u001b[33mμ\u001b[0m=\u001b[1;36m0\u001b[0m\u001b[1;36m.000\u001b[0m \u001b[33mσ\u001b[0m=\u001b[1;36m0\u001b[0m\u001b[1;36m.103\u001b[0m   \u001b[2m               \u001b[0m\n",
       "\u001b[2;36m                    \u001b[0m         cu\u001b[1;92mda:0\u001b[0m\u001b[1m)\u001b[0m, \u001b[1m(\u001b[0m\u001b[32m'distance_expansion.offset'\u001b[0m, tensor\u001b[1m[\u001b[0m\u001b[1;36m50\u001b[0m\u001b[1m]\u001b[0m x∈\u001b[1m[\u001b[0m\u001b[1;36m0\u001b[0m., \u001b[1;36m10.000\u001b[0m\u001b[1m]\u001b[0m       \u001b[2m               \u001b[0m\n",
       "\u001b[2;36m                    \u001b[0m         \u001b[33mμ\u001b[0m=\u001b[1;36m5\u001b[0m\u001b[1;36m.000\u001b[0m \u001b[33mσ\u001b[0m=\u001b[1;36m2\u001b[0m\u001b[1;36m.975\u001b[0m cu\u001b[1;92mda:0\u001b[0m\u001b[1m)\u001b[0m, \u001b[1m(\u001b[0m\u001b[32m'interactions.0.mlp.0.weight'\u001b[0m, tensor\u001b[1m[\u001b[0m\u001b[1;36m128\u001b[0m,   \u001b[2m               \u001b[0m\n",
       "\u001b[2;36m                    \u001b[0m         \u001b[1;36m50\u001b[0m\u001b[1m]\u001b[0m \u001b[33mn\u001b[0m=\u001b[1;36m6400\u001b[0m \u001b[1m(\u001b[0m25Kb\u001b[1m)\u001b[0m x∈\u001b[1m[\u001b[0m\u001b[1;36m-0.265\u001b[0m, \u001b[1;36m0.225\u001b[0m\u001b[1m]\u001b[0m \u001b[33mμ\u001b[0m=\u001b[1;36m-0.000\u001b[0m \u001b[33mσ\u001b[0m=\u001b[1;36m0\u001b[0m\u001b[1;36m.107\u001b[0m cu\u001b[1;92mda:0\u001b[0m\u001b[1m)\u001b[0m,          \u001b[2m               \u001b[0m\n",
       "\u001b[2;36m                    \u001b[0m         \u001b[1m(\u001b[0m\u001b[32m'interactions.0.mlp.0.bias'\u001b[0m, tensor\u001b[1m[\u001b[0m\u001b[1;36m128\u001b[0m\u001b[1m]\u001b[0m x∈\u001b[1m[\u001b[0m\u001b[1;36m-0.034\u001b[0m, \u001b[1;36m0.033\u001b[0m\u001b[1m]\u001b[0m \u001b[33mμ\u001b[0m=\u001b[1;36m-0.001\u001b[0m   \u001b[2m               \u001b[0m\n",
       "\u001b[2;36m                    \u001b[0m         \u001b[33mσ\u001b[0m=\u001b[1;36m0\u001b[0m\u001b[1;36m.016\u001b[0m cu\u001b[1;92mda:0\u001b[0m\u001b[1m)\u001b[0m, \u001b[1m(\u001b[0m\u001b[32m'interactions.0.mlp.2.weight'\u001b[0m, tensor\u001b[1m[\u001b[0m\u001b[1;36m128\u001b[0m, \u001b[1;36m128\u001b[0m\u001b[1m]\u001b[0m      \u001b[2m               \u001b[0m\n",
       "\u001b[2;36m                    \u001b[0m         \u001b[33mn\u001b[0m=\u001b[1;36m16384\u001b[0m \u001b[1m(\u001b[0m64Kb\u001b[1m)\u001b[0m x∈\u001b[1m[\u001b[0m\u001b[1;36m-0.217\u001b[0m, \u001b[1;36m0.216\u001b[0m\u001b[1m]\u001b[0m \u001b[33mμ\u001b[0m=\u001b[1;36m-5.062e-05\u001b[0m \u001b[33mσ\u001b[0m=\u001b[1;36m0\u001b[0m\u001b[1;36m.088\u001b[0m cu\u001b[1;92mda:0\u001b[0m\u001b[1m)\u001b[0m,         \u001b[2m               \u001b[0m\n",
       "\u001b[2;36m                    \u001b[0m         \u001b[1m(\u001b[0m\u001b[32m'interactions.0.mlp.2.bias'\u001b[0m, tensor\u001b[1m[\u001b[0m\u001b[1;36m128\u001b[0m\u001b[1m]\u001b[0m x∈\u001b[1m[\u001b[0m\u001b[1;36m-0.031\u001b[0m, \u001b[1;36m0.016\u001b[0m\u001b[1m]\u001b[0m \u001b[33mμ\u001b[0m=\u001b[1;36m-0.001\u001b[0m   \u001b[2m               \u001b[0m\n",
       "\u001b[2;36m                    \u001b[0m         \u001b[33mσ\u001b[0m=\u001b[1;36m0\u001b[0m\u001b[1;36m.009\u001b[0m cu\u001b[1;92mda:0\u001b[0m\u001b[1m)\u001b[0m, \u001b[1m(\u001b[0m\u001b[32m'interactions.0.conv.lin1.weight'\u001b[0m, tensor\u001b[1m[\u001b[0m\u001b[1;36m128\u001b[0m, \u001b[1;36m512\u001b[0m\u001b[1m]\u001b[0m  \u001b[2m               \u001b[0m\n",
       "\u001b[2;36m                    \u001b[0m         \u001b[33mn\u001b[0m=\u001b[1;36m65536\u001b[0m \u001b[1m(\u001b[0m\u001b[1;36m0.\u001b[0m2Mb\u001b[1m)\u001b[0m x∈\u001b[1m[\u001b[0m\u001b[1;36m-0.166\u001b[0m, \u001b[1;36m0.153\u001b[0m\u001b[1m]\u001b[0m \u001b[33mμ\u001b[0m=\u001b[1;36m0\u001b[0m\u001b[1;36m.000\u001b[0m \u001b[33mσ\u001b[0m=\u001b[1;36m0\u001b[0m\u001b[1;36m.057\u001b[0m cu\u001b[1;92mda:0\u001b[0m\u001b[1m)\u001b[0m,             \u001b[2m               \u001b[0m\n",
       "\u001b[2;36m                    \u001b[0m         \u001b[1m(\u001b[0m\u001b[32m'interactions.0.conv.lin2.weight'\u001b[0m, tensor\u001b[1m[\u001b[0m\u001b[1;36m512\u001b[0m, \u001b[1;36m128\u001b[0m\u001b[1m]\u001b[0m \u001b[33mn\u001b[0m=\u001b[1;36m65536\u001b[0m \u001b[1m(\u001b[0m\u001b[1;36m0.\u001b[0m2Mb\u001b[1m)\u001b[0m   \u001b[2m               \u001b[0m\n",
       "\u001b[2;36m                    \u001b[0m         x∈\u001b[1m[\u001b[0m\u001b[1;36m-0.159\u001b[0m, \u001b[1;36m0.156\u001b[0m\u001b[1m]\u001b[0m \u001b[33mμ\u001b[0m=\u001b[1;36m0\u001b[0m\u001b[1;36m.000\u001b[0m \u001b[33mσ\u001b[0m=\u001b[1;36m0\u001b[0m\u001b[1;36m.056\u001b[0m cu\u001b[1;92mda:0\u001b[0m\u001b[1m)\u001b[0m,                             \u001b[2m               \u001b[0m\n",
       "\u001b[2;36m                    \u001b[0m         \u001b[1m(\u001b[0m\u001b[32m'interactions.0.conv.lin2.bias'\u001b[0m, tensor\u001b[1m[\u001b[0m\u001b[1;36m512\u001b[0m\u001b[1m]\u001b[0m 2Kb x∈\u001b[1m[\u001b[0m\u001b[1;36m-0.052\u001b[0m, \u001b[1;36m0.035\u001b[0m\u001b[1m]\u001b[0m    \u001b[2m               \u001b[0m\n",
       "\u001b[2;36m                    \u001b[0m         \u001b[33mμ\u001b[0m=\u001b[1;36m-0.001\u001b[0m \u001b[33mσ\u001b[0m=\u001b[1;36m0\u001b[0m\u001b[1;36m.014\u001b[0m cu\u001b[1;92mda:0\u001b[0m\u001b[1m)\u001b[0m, \u001b[1m(\u001b[0m\u001b[32m'interactions.0.conv.nn.0.weight'\u001b[0m,          \u001b[2m               \u001b[0m\n",
       "\u001b[2;36m                    \u001b[0m         tensor\u001b[1m[\u001b[0m\u001b[1;36m128\u001b[0m, \u001b[1;36m50\u001b[0m\u001b[1m]\u001b[0m \u001b[33mn\u001b[0m=\u001b[1;36m6400\u001b[0m \u001b[1m(\u001b[0m25Kb\u001b[1m)\u001b[0m x∈\u001b[1m[\u001b[0m\u001b[1;36m-0.265\u001b[0m, \u001b[1;36m0.225\u001b[0m\u001b[1m]\u001b[0m \u001b[33mμ\u001b[0m=\u001b[1;36m-0.000\u001b[0m \u001b[33mσ\u001b[0m=\u001b[1;36m0\u001b[0m\u001b[1;36m.107\u001b[0m       \u001b[2m               \u001b[0m\n",
       "\u001b[2;36m                    \u001b[0m         cu\u001b[1;92mda:0\u001b[0m\u001b[1m)\u001b[0m, \u001b[1m(\u001b[0m\u001b[32m'interactions.0.conv.nn.0.bias'\u001b[0m, tensor\u001b[1m[\u001b[0m\u001b[1;36m128\u001b[0m\u001b[1m]\u001b[0m x∈\u001b[1m[\u001b[0m\u001b[1;36m-0.034\u001b[0m,      \u001b[2m               \u001b[0m\n",
       "\u001b[2;36m                    \u001b[0m         \u001b[1;36m0.033\u001b[0m\u001b[1m]\u001b[0m \u001b[33mμ\u001b[0m=\u001b[1;36m-0.001\u001b[0m \u001b[33mσ\u001b[0m=\u001b[1;36m0\u001b[0m\u001b[1;36m.016\u001b[0m cu\u001b[1;92mda:0\u001b[0m\u001b[1m)\u001b[0m, \u001b[1m(\u001b[0m\u001b[32m'interactions.0.conv.nn.2.weight'\u001b[0m,   \u001b[2m               \u001b[0m\n",
       "\u001b[2;36m                    \u001b[0m         tensor\u001b[1m[\u001b[0m\u001b[1;36m128\u001b[0m, \u001b[1;36m128\u001b[0m\u001b[1m]\u001b[0m \u001b[33mn\u001b[0m=\u001b[1;36m16384\u001b[0m \u001b[1m(\u001b[0m64Kb\u001b[1m)\u001b[0m x∈\u001b[1m[\u001b[0m\u001b[1;36m-0.217\u001b[0m, \u001b[1;36m0.216\u001b[0m\u001b[1m]\u001b[0m \u001b[33mμ\u001b[0m=\u001b[1;36m-5.062e-05\u001b[0m \u001b[33mσ\u001b[0m=\u001b[1;36m0\u001b[0m\u001b[1;36m.088\u001b[0m \u001b[2m               \u001b[0m\n",
       "\u001b[2;36m                    \u001b[0m         cu\u001b[1;92mda:0\u001b[0m\u001b[1m)\u001b[0m, \u001b[1m(\u001b[0m\u001b[32m'interactions.0.conv.nn.2.bias'\u001b[0m, tensor\u001b[1m[\u001b[0m\u001b[1;36m128\u001b[0m\u001b[1m]\u001b[0m x∈\u001b[1m[\u001b[0m\u001b[1;36m-0.031\u001b[0m,      \u001b[2m               \u001b[0m\n",
       "\u001b[2;36m                    \u001b[0m         \u001b[1;36m0.016\u001b[0m\u001b[1m]\u001b[0m \u001b[33mμ\u001b[0m=\u001b[1;36m-0.001\u001b[0m \u001b[33mσ\u001b[0m=\u001b[1;36m0\u001b[0m\u001b[1;36m.009\u001b[0m cu\u001b[1;92mda:0\u001b[0m\u001b[1m)\u001b[0m, \u001b[1m(\u001b[0m\u001b[32m'interactions.0.lin.weight'\u001b[0m,         \u001b[2m               \u001b[0m\n",
       "\u001b[2;36m                    \u001b[0m         tensor\u001b[1m[\u001b[0m\u001b[1;36m512\u001b[0m, \u001b[1;36m512\u001b[0m\u001b[1m]\u001b[0m \u001b[33mn\u001b[0m=\u001b[1;36m262144\u001b[0m \u001b[1m(\u001b[0m1Mb\u001b[1m)\u001b[0m x∈\u001b[1m[\u001b[0m\u001b[1;36m-0.139\u001b[0m, \u001b[1;36m0.139\u001b[0m\u001b[1m]\u001b[0m \u001b[33mμ\u001b[0m=\u001b[1;36m-5.768e-06\u001b[0m \u001b[33mσ\u001b[0m=\u001b[1;36m0\u001b[0m\u001b[1;36m.047\u001b[0m \u001b[2m               \u001b[0m\n",
       "\u001b[2;36m                    \u001b[0m         cu\u001b[1;92mda:0\u001b[0m\u001b[1m)\u001b[0m, \u001b[1m(\u001b[0m\u001b[32m'interactions.0.lin.bias'\u001b[0m, tensor\u001b[1m[\u001b[0m\u001b[1;36m512\u001b[0m\u001b[1m]\u001b[0m 2Kb x∈\u001b[1m[\u001b[0m\u001b[1;36m-0.041\u001b[0m, \u001b[1;36m0.038\u001b[0m\u001b[1m]\u001b[0m \u001b[2m               \u001b[0m\n",
       "\u001b[2;36m                    \u001b[0m         \u001b[33mμ\u001b[0m=\u001b[1;36m-0.000\u001b[0m \u001b[33mσ\u001b[0m=\u001b[1;36m0\u001b[0m\u001b[1;36m.018\u001b[0m cu\u001b[1;92mda:0\u001b[0m\u001b[1m)\u001b[0m, \u001b[1m(\u001b[0m\u001b[32m'interactions.1.mlp.0.weight'\u001b[0m, tensor\u001b[1m[\u001b[0m\u001b[1;36m128\u001b[0m,  \u001b[2m               \u001b[0m\n",
       "\u001b[2;36m                    \u001b[0m         \u001b[1;36m50\u001b[0m\u001b[1m]\u001b[0m \u001b[33mn\u001b[0m=\u001b[1;36m6400\u001b[0m \u001b[1m(\u001b[0m25Kb\u001b[1m)\u001b[0m x∈\u001b[1m[\u001b[0m\u001b[1;36m-0.255\u001b[0m, \u001b[1;36m0.260\u001b[0m\u001b[1m]\u001b[0m \u001b[33mμ\u001b[0m=\u001b[1;36m-0.001\u001b[0m \u001b[33mσ\u001b[0m=\u001b[1;36m0\u001b[0m\u001b[1;36m.107\u001b[0m cu\u001b[1;92mda:0\u001b[0m\u001b[1m)\u001b[0m,          \u001b[2m               \u001b[0m\n",
       "\u001b[2;36m                    \u001b[0m         \u001b[1m(\u001b[0m\u001b[32m'interactions.1.mlp.0.bias'\u001b[0m, tensor\u001b[1m[\u001b[0m\u001b[1;36m128\u001b[0m\u001b[1m]\u001b[0m x∈\u001b[1m[\u001b[0m\u001b[1;36m-0.036\u001b[0m, \u001b[1;36m0.036\u001b[0m\u001b[1m]\u001b[0m            \u001b[2m               \u001b[0m\n",
       "\u001b[2;36m                    \u001b[0m         \u001b[33mμ\u001b[0m=\u001b[1;36m2\u001b[0m\u001b[1;36m.896e-05\u001b[0m \u001b[33mσ\u001b[0m=\u001b[1;36m0\u001b[0m\u001b[1;36m.016\u001b[0m cu\u001b[1;92mda:0\u001b[0m\u001b[1m)\u001b[0m, \u001b[1m(\u001b[0m\u001b[32m'interactions.1.mlp.2.weight'\u001b[0m,           \u001b[2m               \u001b[0m\n",
       "\u001b[2;36m                    \u001b[0m         tensor\u001b[1m[\u001b[0m\u001b[1;36m128\u001b[0m, \u001b[1;36m128\u001b[0m\u001b[1m]\u001b[0m \u001b[33mn\u001b[0m=\u001b[1;36m16384\u001b[0m \u001b[1m(\u001b[0m64Kb\u001b[1m)\u001b[0m x∈\u001b[1m[\u001b[0m\u001b[1;36m-0.216\u001b[0m, \u001b[1;36m0.207\u001b[0m\u001b[1m]\u001b[0m \u001b[33mμ\u001b[0m=\u001b[1;36m-0.001\u001b[0m \u001b[33mσ\u001b[0m=\u001b[1;36m0\u001b[0m\u001b[1;36m.088\u001b[0m     \u001b[2m               \u001b[0m\n",
       "\u001b[2;36m                    \u001b[0m         cu\u001b[1;92mda:0\u001b[0m\u001b[1m)\u001b[0m, \u001b[1m(\u001b[0m\u001b[32m'interactions.1.mlp.2.bias'\u001b[0m, tensor\u001b[1m[\u001b[0m\u001b[1;36m128\u001b[0m\u001b[1m]\u001b[0m x∈\u001b[1m[\u001b[0m\u001b[1;36m-0.026\u001b[0m, \u001b[1;36m0.025\u001b[0m\u001b[1m]\u001b[0m   \u001b[2m               \u001b[0m\n",
       "\u001b[2;36m                    \u001b[0m         \u001b[33mμ\u001b[0m=\u001b[1;36m0\u001b[0m\u001b[1;36m.000\u001b[0m \u001b[33mσ\u001b[0m=\u001b[1;36m0\u001b[0m\u001b[1;36m.010\u001b[0m cu\u001b[1;92mda:0\u001b[0m\u001b[1m)\u001b[0m, \u001b[1m(\u001b[0m\u001b[32m'interactions.1.conv.lin1.weight'\u001b[0m,           \u001b[2m               \u001b[0m\n",
       "\u001b[2;36m                    \u001b[0m         tensor\u001b[1m[\u001b[0m\u001b[1;36m128\u001b[0m, \u001b[1;36m512\u001b[0m\u001b[1m]\u001b[0m \u001b[33mn\u001b[0m=\u001b[1;36m65536\u001b[0m \u001b[1m(\u001b[0m\u001b[1;36m0.\u001b[0m2Mb\u001b[1m)\u001b[0m x∈\u001b[1m[\u001b[0m\u001b[1;36m-0.169\u001b[0m, \u001b[1;36m0.180\u001b[0m\u001b[1m]\u001b[0m \u001b[33mμ\u001b[0m=\u001b[1;36m1\u001b[0m\u001b[1;36m.548e-05\u001b[0m \u001b[33mσ\u001b[0m=\u001b[1;36m0\u001b[0m\u001b[1;36m.057\u001b[0m \u001b[2m               \u001b[0m\n",
       "\u001b[2;36m                    \u001b[0m         cu\u001b[1;92mda:0\u001b[0m\u001b[1m)\u001b[0m, \u001b[1m(\u001b[0m\u001b[32m'interactions.1.conv.lin2.weight'\u001b[0m, tensor\u001b[1m[\u001b[0m\u001b[1;36m512\u001b[0m, \u001b[1;36m128\u001b[0m\u001b[1m]\u001b[0m \u001b[33mn\u001b[0m=\u001b[1;36m65536\u001b[0m  \u001b[2m               \u001b[0m\n",
       "\u001b[2;36m                    \u001b[0m         \u001b[1m(\u001b[0m\u001b[1;36m0.\u001b[0m2Mb\u001b[1m)\u001b[0m x∈\u001b[1m[\u001b[0m\u001b[1;36m-0.155\u001b[0m, \u001b[1;36m0.151\u001b[0m\u001b[1m]\u001b[0m \u001b[33mμ\u001b[0m=\u001b[1;36m-0.000\u001b[0m \u001b[33mσ\u001b[0m=\u001b[1;36m0\u001b[0m\u001b[1;36m.056\u001b[0m cu\u001b[1;92mda:0\u001b[0m\u001b[1m)\u001b[0m,                    \u001b[2m               \u001b[0m\n",
       "\u001b[2;36m                    \u001b[0m         \u001b[1m(\u001b[0m\u001b[32m'interactions.1.conv.lin2.bias'\u001b[0m, tensor\u001b[1m[\u001b[0m\u001b[1;36m512\u001b[0m\u001b[1m]\u001b[0m 2Kb x∈\u001b[1m[\u001b[0m\u001b[1;36m-0.032\u001b[0m, \u001b[1;36m0.031\u001b[0m\u001b[1m]\u001b[0m    \u001b[2m               \u001b[0m\n",
       "\u001b[2;36m                    \u001b[0m         \u001b[33mμ\u001b[0m=\u001b[1;36m0\u001b[0m\u001b[1;36m.000\u001b[0m \u001b[33mσ\u001b[0m=\u001b[1;36m0\u001b[0m\u001b[1;36m.011\u001b[0m cu\u001b[1;92mda:0\u001b[0m\u001b[1m)\u001b[0m, \u001b[1m(\u001b[0m\u001b[32m'interactions.1.conv.nn.0.weight'\u001b[0m,           \u001b[2m               \u001b[0m\n",
       "\u001b[2;36m                    \u001b[0m         tensor\u001b[1m[\u001b[0m\u001b[1;36m128\u001b[0m, \u001b[1;36m50\u001b[0m\u001b[1m]\u001b[0m \u001b[33mn\u001b[0m=\u001b[1;36m6400\u001b[0m \u001b[1m(\u001b[0m25Kb\u001b[1m)\u001b[0m x∈\u001b[1m[\u001b[0m\u001b[1;36m-0.255\u001b[0m, \u001b[1;36m0.260\u001b[0m\u001b[1m]\u001b[0m \u001b[33mμ\u001b[0m=\u001b[1;36m-0.001\u001b[0m \u001b[33mσ\u001b[0m=\u001b[1;36m0\u001b[0m\u001b[1;36m.107\u001b[0m       \u001b[2m               \u001b[0m\n",
       "\u001b[2;36m                    \u001b[0m         cu\u001b[1;92mda:0\u001b[0m\u001b[1m)\u001b[0m, \u001b[1m(\u001b[0m\u001b[32m'interactions.1.conv.nn.0.bias'\u001b[0m, tensor\u001b[1m[\u001b[0m\u001b[1;36m128\u001b[0m\u001b[1m]\u001b[0m x∈\u001b[1m[\u001b[0m\u001b[1;36m-0.036\u001b[0m,      \u001b[2m               \u001b[0m\n",
       "\u001b[2;36m                    \u001b[0m         \u001b[1;36m0.036\u001b[0m\u001b[1m]\u001b[0m \u001b[33mμ\u001b[0m=\u001b[1;36m2\u001b[0m\u001b[1;36m.896e-05\u001b[0m \u001b[33mσ\u001b[0m=\u001b[1;36m0\u001b[0m\u001b[1;36m.016\u001b[0m cu\u001b[1;92mda:0\u001b[0m\u001b[1m)\u001b[0m,                                    \u001b[2m               \u001b[0m\n",
       "\u001b[2;36m                    \u001b[0m         \u001b[1m(\u001b[0m\u001b[32m'interactions.1.conv.nn.2.weight'\u001b[0m, tensor\u001b[1m[\u001b[0m\u001b[1;36m128\u001b[0m, \u001b[1;36m128\u001b[0m\u001b[1m]\u001b[0m \u001b[33mn\u001b[0m=\u001b[1;36m16384\u001b[0m \u001b[1m(\u001b[0m64Kb\u001b[1m)\u001b[0m    \u001b[2m               \u001b[0m\n",
       "\u001b[2;36m                    \u001b[0m         x∈\u001b[1m[\u001b[0m\u001b[1;36m-0.216\u001b[0m, \u001b[1;36m0.207\u001b[0m\u001b[1m]\u001b[0m \u001b[33mμ\u001b[0m=\u001b[1;36m-0.001\u001b[0m \u001b[33mσ\u001b[0m=\u001b[1;36m0\u001b[0m\u001b[1;36m.088\u001b[0m cu\u001b[1;92mda:0\u001b[0m\u001b[1m)\u001b[0m,                            \u001b[2m               \u001b[0m\n",
       "\u001b[2;36m                    \u001b[0m         \u001b[1m(\u001b[0m\u001b[32m'interactions.1.conv.nn.2.bias'\u001b[0m, tensor\u001b[1m[\u001b[0m\u001b[1;36m128\u001b[0m\u001b[1m]\u001b[0m x∈\u001b[1m[\u001b[0m\u001b[1;36m-0.026\u001b[0m, \u001b[1;36m0.025\u001b[0m\u001b[1m]\u001b[0m        \u001b[2m               \u001b[0m\n",
       "\u001b[2;36m                    \u001b[0m         \u001b[33mμ\u001b[0m=\u001b[1;36m0\u001b[0m\u001b[1;36m.000\u001b[0m \u001b[33mσ\u001b[0m=\u001b[1;36m0\u001b[0m\u001b[1;36m.010\u001b[0m cu\u001b[1;92mda:0\u001b[0m\u001b[1m)\u001b[0m, \u001b[1m(\u001b[0m\u001b[32m'interactions.1.lin.weight'\u001b[0m, tensor\u001b[1m[\u001b[0m\u001b[1;36m512\u001b[0m,     \u001b[2m               \u001b[0m\n",
       "\u001b[2;36m                    \u001b[0m         \u001b[1;36m512\u001b[0m\u001b[1m]\u001b[0m \u001b[33mn\u001b[0m=\u001b[1;36m262144\u001b[0m \u001b[1m(\u001b[0m1Mb\u001b[1m)\u001b[0m x∈\u001b[1m[\u001b[0m\u001b[1;36m-0.126\u001b[0m, \u001b[1;36m0.138\u001b[0m\u001b[1m]\u001b[0m \u001b[33mμ\u001b[0m=\u001b[1;36m-2.577e-05\u001b[0m \u001b[33mσ\u001b[0m=\u001b[1;36m0\u001b[0m\u001b[1;36m.046\u001b[0m cu\u001b[1;92mda:0\u001b[0m\u001b[1m)\u001b[0m,    \u001b[2m               \u001b[0m\n",
       "\u001b[2;36m                    \u001b[0m         \u001b[1m(\u001b[0m\u001b[32m'interactions.1.lin.bias'\u001b[0m, tensor\u001b[1m[\u001b[0m\u001b[1;36m512\u001b[0m\u001b[1m]\u001b[0m 2Kb x∈\u001b[1m[\u001b[0m\u001b[1;36m-0.038\u001b[0m, \u001b[1;36m0.036\u001b[0m\u001b[1m]\u001b[0m \u001b[33mμ\u001b[0m=\u001b[1;36m-0.000\u001b[0m \u001b[2m               \u001b[0m\n",
       "\u001b[2;36m                    \u001b[0m         \u001b[33mσ\u001b[0m=\u001b[1;36m0\u001b[0m\u001b[1;36m.017\u001b[0m cu\u001b[1;92mda:0\u001b[0m\u001b[1m)\u001b[0m, \u001b[1m(\u001b[0m\u001b[32m'interactions.2.mlp.0.weight'\u001b[0m, tensor\u001b[1m[\u001b[0m\u001b[1;36m128\u001b[0m, \u001b[1;36m50\u001b[0m\u001b[1m]\u001b[0m       \u001b[2m               \u001b[0m\n",
       "\u001b[2;36m                    \u001b[0m         \u001b[33mn\u001b[0m=\u001b[1;36m6400\u001b[0m \u001b[1m(\u001b[0m25Kb\u001b[1m)\u001b[0m x∈\u001b[1m[\u001b[0m\u001b[1;36m-0.252\u001b[0m, \u001b[1;36m0.256\u001b[0m\u001b[1m]\u001b[0m \u001b[33mμ\u001b[0m=\u001b[1;36m-0.001\u001b[0m \u001b[33mσ\u001b[0m=\u001b[1;36m0\u001b[0m\u001b[1;36m.108\u001b[0m cu\u001b[1;92mda:0\u001b[0m\u001b[1m)\u001b[0m,              \u001b[2m               \u001b[0m\n",
       "\u001b[2;36m                    \u001b[0m         \u001b[1m(\u001b[0m\u001b[32m'interactions.2.mlp.0.bias'\u001b[0m, tensor\u001b[1m[\u001b[0m\u001b[1;36m128\u001b[0m\u001b[1m]\u001b[0m x∈\u001b[1m[\u001b[0m\u001b[1;36m-0.032\u001b[0m, \u001b[1;36m0.040\u001b[0m\u001b[1m]\u001b[0m \u001b[33mμ\u001b[0m=\u001b[1;36m0\u001b[0m\u001b[1;36m.000\u001b[0m    \u001b[2m               \u001b[0m\n",
       "\u001b[2;36m                    \u001b[0m         \u001b[33mσ\u001b[0m=\u001b[1;36m0\u001b[0m\u001b[1;36m.016\u001b[0m cu\u001b[1;92mda:0\u001b[0m\u001b[1m)\u001b[0m, \u001b[1m(\u001b[0m\u001b[32m'interactions.2.mlp.2.weight'\u001b[0m, tensor\u001b[1m[\u001b[0m\u001b[1;36m128\u001b[0m, \u001b[1;36m128\u001b[0m\u001b[1m]\u001b[0m      \u001b[2m               \u001b[0m\n",
       "\u001b[2;36m                    \u001b[0m         \u001b[33mn\u001b[0m=\u001b[1;36m16384\u001b[0m \u001b[1m(\u001b[0m64Kb\u001b[1m)\u001b[0m x∈\u001b[1m[\u001b[0m\u001b[1;36m-0.199\u001b[0m, \u001b[1;36m0.211\u001b[0m\u001b[1m]\u001b[0m \u001b[33mμ\u001b[0m=\u001b[1;36m0\u001b[0m\u001b[1;36m.000\u001b[0m \u001b[33mσ\u001b[0m=\u001b[1;36m0\u001b[0m\u001b[1;36m.089\u001b[0m cu\u001b[1;92mda:0\u001b[0m\u001b[1m)\u001b[0m,              \u001b[2m               \u001b[0m\n",
       "\u001b[2;36m                    \u001b[0m         \u001b[1m(\u001b[0m\u001b[32m'interactions.2.mlp.2.bias'\u001b[0m, tensor\u001b[1m[\u001b[0m\u001b[1;36m128\u001b[0m\u001b[1m]\u001b[0m x∈\u001b[1m[\u001b[0m\u001b[1;36m-0.034\u001b[0m, \u001b[1;36m0.026\u001b[0m\u001b[1m]\u001b[0m            \u001b[2m               \u001b[0m\n",
       "\u001b[2;36m                    \u001b[0m         \u001b[33mμ\u001b[0m=\u001b[1;36m-6.306e-05\u001b[0m \u001b[33mσ\u001b[0m=\u001b[1;36m0\u001b[0m\u001b[1;36m.011\u001b[0m cu\u001b[1;92mda:0\u001b[0m\u001b[1m)\u001b[0m, \u001b[1m(\u001b[0m\u001b[32m'interactions.2.conv.lin1.weight'\u001b[0m,      \u001b[2m               \u001b[0m\n",
       "\u001b[2;36m                    \u001b[0m         tensor\u001b[1m[\u001b[0m\u001b[1;36m128\u001b[0m, \u001b[1;36m512\u001b[0m\u001b[1m]\u001b[0m \u001b[33mn\u001b[0m=\u001b[1;36m65536\u001b[0m \u001b[1m(\u001b[0m\u001b[1;36m0.\u001b[0m2Mb\u001b[1m)\u001b[0m x∈\u001b[1m[\u001b[0m\u001b[1;36m-0.161\u001b[0m, \u001b[1;36m0.170\u001b[0m\u001b[1m]\u001b[0m \u001b[33mμ\u001b[0m=\u001b[1;36m5\u001b[0m\u001b[1;36m.575e-06\u001b[0m \u001b[33mσ\u001b[0m=\u001b[1;36m0\u001b[0m\u001b[1;36m.058\u001b[0m \u001b[2m               \u001b[0m\n",
       "\u001b[2;36m                    \u001b[0m         cu\u001b[1;92mda:0\u001b[0m\u001b[1m)\u001b[0m, \u001b[1m(\u001b[0m\u001b[32m'interactions.2.conv.lin2.weight'\u001b[0m, tensor\u001b[1m[\u001b[0m\u001b[1;36m512\u001b[0m, \u001b[1;36m128\u001b[0m\u001b[1m]\u001b[0m \u001b[33mn\u001b[0m=\u001b[1;36m65536\u001b[0m  \u001b[2m               \u001b[0m\n",
       "\u001b[2;36m                    \u001b[0m         \u001b[1m(\u001b[0m\u001b[1;36m0.\u001b[0m2Mb\u001b[1m)\u001b[0m x∈\u001b[1m[\u001b[0m\u001b[1;36m-0.168\u001b[0m, \u001b[1;36m0.150\u001b[0m\u001b[1m]\u001b[0m \u001b[33mμ\u001b[0m=\u001b[1;36m-6.479e-05\u001b[0m \u001b[33mσ\u001b[0m=\u001b[1;36m0\u001b[0m\u001b[1;36m.057\u001b[0m cu\u001b[1;92mda:0\u001b[0m\u001b[1m)\u001b[0m,                \u001b[2m               \u001b[0m\n",
       "\u001b[2;36m                    \u001b[0m         \u001b[1m(\u001b[0m\u001b[32m'interactions.2.conv.lin2.bias'\u001b[0m, tensor\u001b[1m[\u001b[0m\u001b[1;36m512\u001b[0m\u001b[1m]\u001b[0m 2Kb x∈\u001b[1m[\u001b[0m\u001b[1;36m-0.023\u001b[0m, \u001b[1;36m0.038\u001b[0m\u001b[1m]\u001b[0m    \u001b[2m               \u001b[0m\n",
       "\u001b[2;36m                    \u001b[0m         \u001b[33mμ\u001b[0m=\u001b[1;36m-7.587e-05\u001b[0m \u001b[33mσ\u001b[0m=\u001b[1;36m0\u001b[0m\u001b[1;36m.010\u001b[0m cu\u001b[1;92mda:0\u001b[0m\u001b[1m)\u001b[0m, \u001b[1m(\u001b[0m\u001b[32m'interactions.2.conv.nn.0.weight'\u001b[0m,      \u001b[2m               \u001b[0m\n",
       "\u001b[2;36m                    \u001b[0m         tensor\u001b[1m[\u001b[0m\u001b[1;36m128\u001b[0m, \u001b[1;36m50\u001b[0m\u001b[1m]\u001b[0m \u001b[33mn\u001b[0m=\u001b[1;36m6400\u001b[0m \u001b[1m(\u001b[0m25Kb\u001b[1m)\u001b[0m x∈\u001b[1m[\u001b[0m\u001b[1;36m-0.252\u001b[0m, \u001b[1;36m0.256\u001b[0m\u001b[1m]\u001b[0m \u001b[33mμ\u001b[0m=\u001b[1;36m-0.001\u001b[0m \u001b[33mσ\u001b[0m=\u001b[1;36m0\u001b[0m\u001b[1;36m.108\u001b[0m       \u001b[2m               \u001b[0m\n",
       "\u001b[2;36m                    \u001b[0m         cu\u001b[1;92mda:0\u001b[0m\u001b[1m)\u001b[0m, \u001b[1m(\u001b[0m\u001b[32m'interactions.2.conv.nn.0.bias'\u001b[0m, tensor\u001b[1m[\u001b[0m\u001b[1;36m128\u001b[0m\u001b[1m]\u001b[0m x∈\u001b[1m[\u001b[0m\u001b[1;36m-0.032\u001b[0m,      \u001b[2m               \u001b[0m\n",
       "\u001b[2;36m                    \u001b[0m         \u001b[1;36m0.040\u001b[0m\u001b[1m]\u001b[0m \u001b[33mμ\u001b[0m=\u001b[1;36m0\u001b[0m\u001b[1;36m.000\u001b[0m \u001b[33mσ\u001b[0m=\u001b[1;36m0\u001b[0m\u001b[1;36m.016\u001b[0m cu\u001b[1;92mda:0\u001b[0m\u001b[1m)\u001b[0m, \u001b[1m(\u001b[0m\u001b[32m'interactions.2.conv.nn.2.weight'\u001b[0m,    \u001b[2m               \u001b[0m\n",
       "\u001b[2;36m                    \u001b[0m         tensor\u001b[1m[\u001b[0m\u001b[1;36m128\u001b[0m, \u001b[1;36m128\u001b[0m\u001b[1m]\u001b[0m \u001b[33mn\u001b[0m=\u001b[1;36m16384\u001b[0m \u001b[1m(\u001b[0m64Kb\u001b[1m)\u001b[0m x∈\u001b[1m[\u001b[0m\u001b[1;36m-0.199\u001b[0m, \u001b[1;36m0.211\u001b[0m\u001b[1m]\u001b[0m \u001b[33mμ\u001b[0m=\u001b[1;36m0\u001b[0m\u001b[1;36m.000\u001b[0m \u001b[33mσ\u001b[0m=\u001b[1;36m0\u001b[0m\u001b[1;36m.089\u001b[0m      \u001b[2m               \u001b[0m\n",
       "\u001b[2;36m                    \u001b[0m         cu\u001b[1;92mda:0\u001b[0m\u001b[1m)\u001b[0m, \u001b[1m(\u001b[0m\u001b[32m'interactions.2.conv.nn.2.bias'\u001b[0m, tensor\u001b[1m[\u001b[0m\u001b[1;36m128\u001b[0m\u001b[1m]\u001b[0m x∈\u001b[1m[\u001b[0m\u001b[1;36m-0.034\u001b[0m,      \u001b[2m               \u001b[0m\n",
       "\u001b[2;36m                    \u001b[0m         \u001b[1;36m0.026\u001b[0m\u001b[1m]\u001b[0m \u001b[33mμ\u001b[0m=\u001b[1;36m-6.306e-05\u001b[0m \u001b[33mσ\u001b[0m=\u001b[1;36m0\u001b[0m\u001b[1;36m.011\u001b[0m cu\u001b[1;92mda:0\u001b[0m\u001b[1m)\u001b[0m, \u001b[1m(\u001b[0m\u001b[32m'interactions.2.lin.weight'\u001b[0m,     \u001b[2m               \u001b[0m\n",
       "\u001b[2;36m                    \u001b[0m         tensor\u001b[1m[\u001b[0m\u001b[1;36m512\u001b[0m, \u001b[1;36m512\u001b[0m\u001b[1m]\u001b[0m \u001b[33mn\u001b[0m=\u001b[1;36m262144\u001b[0m \u001b[1m(\u001b[0m1Mb\u001b[1m)\u001b[0m x∈\u001b[1m[\u001b[0m\u001b[1;36m-0.130\u001b[0m, \u001b[1;36m0.125\u001b[0m\u001b[1m]\u001b[0m \u001b[33mμ\u001b[0m=\u001b[1;36m-1.919e-05\u001b[0m \u001b[33mσ\u001b[0m=\u001b[1;36m0\u001b[0m\u001b[1;36m.046\u001b[0m \u001b[2m               \u001b[0m\n",
       "\u001b[2;36m                    \u001b[0m         cu\u001b[1;92mda:0\u001b[0m\u001b[1m)\u001b[0m, \u001b[1m(\u001b[0m\u001b[32m'interactions.2.lin.bias'\u001b[0m, tensor\u001b[1m[\u001b[0m\u001b[1;36m512\u001b[0m\u001b[1m]\u001b[0m 2Kb x∈\u001b[1m[\u001b[0m\u001b[1;36m-0.037\u001b[0m, \u001b[1;36m0.037\u001b[0m\u001b[1m]\u001b[0m \u001b[2m               \u001b[0m\n",
       "\u001b[2;36m                    \u001b[0m         \u001b[33mμ\u001b[0m=\u001b[1;36m-0.000\u001b[0m \u001b[33mσ\u001b[0m=\u001b[1;36m0\u001b[0m\u001b[1;36m.016\u001b[0m cu\u001b[1;92mda:0\u001b[0m\u001b[1m)\u001b[0m, \u001b[1m(\u001b[0m\u001b[32m'interactions.3.mlp.0.weight'\u001b[0m, tensor\u001b[1m[\u001b[0m\u001b[1;36m128\u001b[0m,  \u001b[2m               \u001b[0m\n",
       "\u001b[2;36m                    \u001b[0m         \u001b[1;36m50\u001b[0m\u001b[1m]\u001b[0m \u001b[33mn\u001b[0m=\u001b[1;36m6400\u001b[0m \u001b[1m(\u001b[0m25Kb\u001b[1m)\u001b[0m x∈\u001b[1m[\u001b[0m\u001b[1;36m-0.242\u001b[0m, \u001b[1;36m0.279\u001b[0m\u001b[1m]\u001b[0m \u001b[33mμ\u001b[0m=\u001b[1;36m0\u001b[0m\u001b[1;36m.001\u001b[0m \u001b[33mσ\u001b[0m=\u001b[1;36m0\u001b[0m\u001b[1;36m.107\u001b[0m cu\u001b[1;92mda:0\u001b[0m\u001b[1m)\u001b[0m,           \u001b[2m               \u001b[0m\n",
       "\u001b[2;36m                    \u001b[0m         \u001b[1m(\u001b[0m\u001b[32m'interactions.3.mlp.0.bias'\u001b[0m, tensor\u001b[1m[\u001b[0m\u001b[1;36m128\u001b[0m\u001b[1m]\u001b[0m x∈\u001b[1m[\u001b[0m\u001b[1;36m-0.039\u001b[0m, \u001b[1;36m0.032\u001b[0m\u001b[1m]\u001b[0m            \u001b[2m               \u001b[0m\n",
       "\u001b[2;36m                    \u001b[0m         \u001b[33mμ\u001b[0m=\u001b[1;36m3\u001b[0m\u001b[1;36m.003e-05\u001b[0m \u001b[33mσ\u001b[0m=\u001b[1;36m0\u001b[0m\u001b[1;36m.015\u001b[0m cu\u001b[1;92mda:0\u001b[0m\u001b[1m)\u001b[0m, \u001b[1m(\u001b[0m\u001b[32m'interactions.3.mlp.2.weight'\u001b[0m,           \u001b[2m               \u001b[0m\n",
       "\u001b[2;36m                    \u001b[0m         tensor\u001b[1m[\u001b[0m\u001b[1;36m128\u001b[0m, \u001b[1;36m128\u001b[0m\u001b[1m]\u001b[0m \u001b[33mn\u001b[0m=\u001b[1;36m16384\u001b[0m \u001b[1m(\u001b[0m64Kb\u001b[1m)\u001b[0m x∈\u001b[1m[\u001b[0m\u001b[1;36m-0.210\u001b[0m, \u001b[1;36m0.229\u001b[0m\u001b[1m]\u001b[0m \u001b[33mμ\u001b[0m=\u001b[1;36m0\u001b[0m\u001b[1;36m.001\u001b[0m \u001b[33mσ\u001b[0m=\u001b[1;36m0\u001b[0m\u001b[1;36m.089\u001b[0m      \u001b[2m               \u001b[0m\n",
       "\u001b[2;36m                    \u001b[0m         cu\u001b[1;92mda:0\u001b[0m\u001b[1m)\u001b[0m, \u001b[1m(\u001b[0m\u001b[32m'interactions.3.mlp.2.bias'\u001b[0m, tensor\u001b[1m[\u001b[0m\u001b[1;36m128\u001b[0m\u001b[1m]\u001b[0m x∈\u001b[1m[\u001b[0m\u001b[1;36m-0.024\u001b[0m, \u001b[1;36m0.027\u001b[0m\u001b[1m]\u001b[0m   \u001b[2m               \u001b[0m\n",
       "\u001b[2;36m                    \u001b[0m         \u001b[33mμ\u001b[0m=\u001b[1;36m-0.001\u001b[0m \u001b[33mσ\u001b[0m=\u001b[1;36m0\u001b[0m\u001b[1;36m.010\u001b[0m cu\u001b[1;92mda:0\u001b[0m\u001b[1m)\u001b[0m, \u001b[1m(\u001b[0m\u001b[32m'interactions.3.conv.lin1.weight'\u001b[0m,          \u001b[2m               \u001b[0m\n",
       "\u001b[2;36m                    \u001b[0m         tensor\u001b[1m[\u001b[0m\u001b[1;36m128\u001b[0m, \u001b[1;36m512\u001b[0m\u001b[1m]\u001b[0m \u001b[33mn\u001b[0m=\u001b[1;36m65536\u001b[0m \u001b[1m(\u001b[0m\u001b[1;36m0.\u001b[0m2Mb\u001b[1m)\u001b[0m x∈\u001b[1m[\u001b[0m\u001b[1;36m-0.175\u001b[0m, \u001b[1;36m0.187\u001b[0m\u001b[1m]\u001b[0m \u001b[33mμ\u001b[0m=\u001b[1;36m0\u001b[0m\u001b[1;36m.000\u001b[0m \u001b[33mσ\u001b[0m=\u001b[1;36m0\u001b[0m\u001b[1;36m.058\u001b[0m     \u001b[2m               \u001b[0m\n",
       "\u001b[2;36m                    \u001b[0m         cu\u001b[1;92mda:0\u001b[0m\u001b[1m)\u001b[0m, \u001b[1m(\u001b[0m\u001b[32m'interactions.3.conv.lin2.weight'\u001b[0m, tensor\u001b[1m[\u001b[0m\u001b[1;36m512\u001b[0m, \u001b[1;36m128\u001b[0m\u001b[1m]\u001b[0m \u001b[33mn\u001b[0m=\u001b[1;36m65536\u001b[0m  \u001b[2m               \u001b[0m\n",
       "\u001b[2;36m                    \u001b[0m         \u001b[1m(\u001b[0m\u001b[1;36m0.\u001b[0m2Mb\u001b[1m)\u001b[0m x∈\u001b[1m[\u001b[0m\u001b[1;36m-0.171\u001b[0m, \u001b[1;36m0.166\u001b[0m\u001b[1m]\u001b[0m \u001b[33mμ\u001b[0m=\u001b[1;36m-0.000\u001b[0m \u001b[33mσ\u001b[0m=\u001b[1;36m0\u001b[0m\u001b[1;36m.057\u001b[0m cu\u001b[1;92mda:0\u001b[0m\u001b[1m)\u001b[0m,                    \u001b[2m               \u001b[0m\n",
       "\u001b[2;36m                    \u001b[0m         \u001b[1m(\u001b[0m\u001b[32m'interactions.3.conv.lin2.bias'\u001b[0m, tensor\u001b[1m[\u001b[0m\u001b[1;36m512\u001b[0m\u001b[1m]\u001b[0m 2Kb x∈\u001b[1m[\u001b[0m\u001b[1;36m-0.021\u001b[0m, \u001b[1;36m0.028\u001b[0m\u001b[1m]\u001b[0m    \u001b[2m               \u001b[0m\n",
       "\u001b[2;36m                    \u001b[0m         \u001b[33mμ\u001b[0m=\u001b[1;36m0\u001b[0m\u001b[1;36m.001\u001b[0m \u001b[33mσ\u001b[0m=\u001b[1;36m0\u001b[0m\u001b[1;36m.010\u001b[0m cu\u001b[1;92mda:0\u001b[0m\u001b[1m)\u001b[0m, \u001b[1m(\u001b[0m\u001b[32m'interactions.3.conv.nn.0.weight'\u001b[0m,           \u001b[2m               \u001b[0m\n",
       "\u001b[2;36m                    \u001b[0m         tensor\u001b[1m[\u001b[0m\u001b[1;36m128\u001b[0m, \u001b[1;36m50\u001b[0m\u001b[1m]\u001b[0m \u001b[33mn\u001b[0m=\u001b[1;36m6400\u001b[0m \u001b[1m(\u001b[0m25Kb\u001b[1m)\u001b[0m x∈\u001b[1m[\u001b[0m\u001b[1;36m-0.242\u001b[0m, \u001b[1;36m0.279\u001b[0m\u001b[1m]\u001b[0m \u001b[33mμ\u001b[0m=\u001b[1;36m0\u001b[0m\u001b[1;36m.001\u001b[0m \u001b[33mσ\u001b[0m=\u001b[1;36m0\u001b[0m\u001b[1;36m.107\u001b[0m        \u001b[2m               \u001b[0m\n",
       "\u001b[2;36m                    \u001b[0m         cu\u001b[1;92mda:0\u001b[0m\u001b[1m)\u001b[0m, \u001b[1m(\u001b[0m\u001b[32m'interactions.3.conv.nn.0.bias'\u001b[0m, tensor\u001b[1m[\u001b[0m\u001b[1;36m128\u001b[0m\u001b[1m]\u001b[0m x∈\u001b[1m[\u001b[0m\u001b[1;36m-0.039\u001b[0m,      \u001b[2m               \u001b[0m\n",
       "\u001b[2;36m                    \u001b[0m         \u001b[1;36m0.032\u001b[0m\u001b[1m]\u001b[0m \u001b[33mμ\u001b[0m=\u001b[1;36m3\u001b[0m\u001b[1;36m.003e-05\u001b[0m \u001b[33mσ\u001b[0m=\u001b[1;36m0\u001b[0m\u001b[1;36m.015\u001b[0m cu\u001b[1;92mda:0\u001b[0m\u001b[1m)\u001b[0m,                                    \u001b[2m               \u001b[0m\n",
       "\u001b[2;36m                    \u001b[0m         \u001b[1m(\u001b[0m\u001b[32m'interactions.3.conv.nn.2.weight'\u001b[0m, tensor\u001b[1m[\u001b[0m\u001b[1;36m128\u001b[0m, \u001b[1;36m128\u001b[0m\u001b[1m]\u001b[0m \u001b[33mn\u001b[0m=\u001b[1;36m16384\u001b[0m \u001b[1m(\u001b[0m64Kb\u001b[1m)\u001b[0m    \u001b[2m               \u001b[0m\n",
       "\u001b[2;36m                    \u001b[0m         x∈\u001b[1m[\u001b[0m\u001b[1;36m-0.210\u001b[0m, \u001b[1;36m0.229\u001b[0m\u001b[1m]\u001b[0m \u001b[33mμ\u001b[0m=\u001b[1;36m0\u001b[0m\u001b[1;36m.001\u001b[0m \u001b[33mσ\u001b[0m=\u001b[1;36m0\u001b[0m\u001b[1;36m.089\u001b[0m cu\u001b[1;92mda:0\u001b[0m\u001b[1m)\u001b[0m,                             \u001b[2m               \u001b[0m\n",
       "\u001b[2;36m                    \u001b[0m         \u001b[1m(\u001b[0m\u001b[32m'interactions.3.conv.nn.2.bias'\u001b[0m, tensor\u001b[1m[\u001b[0m\u001b[1;36m128\u001b[0m\u001b[1m]\u001b[0m x∈\u001b[1m[\u001b[0m\u001b[1;36m-0.024\u001b[0m, \u001b[1;36m0.027\u001b[0m\u001b[1m]\u001b[0m        \u001b[2m               \u001b[0m\n",
       "\u001b[2;36m                    \u001b[0m         \u001b[33mμ\u001b[0m=\u001b[1;36m-0.001\u001b[0m \u001b[33mσ\u001b[0m=\u001b[1;36m0\u001b[0m\u001b[1;36m.010\u001b[0m cu\u001b[1;92mda:0\u001b[0m\u001b[1m)\u001b[0m, \u001b[1m(\u001b[0m\u001b[32m'interactions.3.lin.weight'\u001b[0m, tensor\u001b[1m[\u001b[0m\u001b[1;36m512\u001b[0m,    \u001b[2m               \u001b[0m\n",
       "\u001b[2;36m                    \u001b[0m         \u001b[1;36m512\u001b[0m\u001b[1m]\u001b[0m \u001b[33mn\u001b[0m=\u001b[1;36m262144\u001b[0m \u001b[1m(\u001b[0m1Mb\u001b[1m)\u001b[0m x∈\u001b[1m[\u001b[0m\u001b[1;36m-0.134\u001b[0m, \u001b[1;36m0.134\u001b[0m\u001b[1m]\u001b[0m \u001b[33mμ\u001b[0m=\u001b[1;36m-7.191e-05\u001b[0m \u001b[33mσ\u001b[0m=\u001b[1;36m0\u001b[0m\u001b[1;36m.046\u001b[0m cu\u001b[1;92mda:0\u001b[0m\u001b[1m)\u001b[0m,    \u001b[2m               \u001b[0m\n",
       "\u001b[2;36m                    \u001b[0m         \u001b[1m(\u001b[0m\u001b[32m'interactions.3.lin.bias'\u001b[0m, tensor\u001b[1m[\u001b[0m\u001b[1;36m512\u001b[0m\u001b[1m]\u001b[0m 2Kb x∈\u001b[1m[\u001b[0m\u001b[1;36m-0.033\u001b[0m, \u001b[1;36m0.035\u001b[0m\u001b[1m]\u001b[0m          \u001b[2m               \u001b[0m\n",
       "\u001b[2;36m                    \u001b[0m         \u001b[33mμ\u001b[0m=\u001b[1;36m-1.022e-05\u001b[0m \u001b[33mσ\u001b[0m=\u001b[1;36m0\u001b[0m\u001b[1;36m.014\u001b[0m cu\u001b[1;92mda:0\u001b[0m\u001b[1m)\u001b[0m, \u001b[1m(\u001b[0m\u001b[32m'interactions.4.mlp.0.weight'\u001b[0m,          \u001b[2m               \u001b[0m\n",
       "\u001b[2;36m                    \u001b[0m         tensor\u001b[1m[\u001b[0m\u001b[1;36m128\u001b[0m, \u001b[1;36m50\u001b[0m\u001b[1m]\u001b[0m \u001b[33mn\u001b[0m=\u001b[1;36m6400\u001b[0m \u001b[1m(\u001b[0m25Kb\u001b[1m)\u001b[0m x∈\u001b[1m[\u001b[0m\u001b[1;36m-0.246\u001b[0m, \u001b[1;36m0.294\u001b[0m\u001b[1m]\u001b[0m \u001b[33mμ\u001b[0m=\u001b[1;36m-4.022e-05\u001b[0m \u001b[33mσ\u001b[0m=\u001b[1;36m0\u001b[0m\u001b[1;36m.108\u001b[0m   \u001b[2m               \u001b[0m\n",
       "\u001b[2;36m                    \u001b[0m         cu\u001b[1;92mda:0\u001b[0m\u001b[1m)\u001b[0m, \u001b[1m(\u001b[0m\u001b[32m'interactions.4.mlp.0.bias'\u001b[0m, tensor\u001b[1m[\u001b[0m\u001b[1;36m128\u001b[0m\u001b[1m]\u001b[0m x∈\u001b[1m[\u001b[0m\u001b[1;36m-0.036\u001b[0m, \u001b[1;36m0.057\u001b[0m\u001b[1m]\u001b[0m   \u001b[2m               \u001b[0m\n",
       "\u001b[2;36m                    \u001b[0m         \u001b[33mμ\u001b[0m=\u001b[1;36m0\u001b[0m\u001b[1;36m.001\u001b[0m \u001b[33mσ\u001b[0m=\u001b[1;36m0\u001b[0m\u001b[1;36m.015\u001b[0m cu\u001b[1;92mda:0\u001b[0m\u001b[1m)\u001b[0m, \u001b[1m(\u001b[0m\u001b[32m'interactions.4.mlp.2.weight'\u001b[0m, tensor\u001b[1m[\u001b[0m\u001b[1;36m128\u001b[0m,   \u001b[2m               \u001b[0m\n",
       "\u001b[2;36m                    \u001b[0m         \u001b[1;36m128\u001b[0m\u001b[1m]\u001b[0m \u001b[33mn\u001b[0m=\u001b[1;36m16384\u001b[0m \u001b[1m(\u001b[0m64Kb\u001b[1m)\u001b[0m x∈\u001b[1m[\u001b[0m\u001b[1;36m-0.223\u001b[0m, \u001b[1;36m0.245\u001b[0m\u001b[1m]\u001b[0m \u001b[33mμ\u001b[0m=\u001b[1;36m-0.000\u001b[0m \u001b[33mσ\u001b[0m=\u001b[1;36m0\u001b[0m\u001b[1;36m.089\u001b[0m cu\u001b[1;92mda:0\u001b[0m\u001b[1m)\u001b[0m,        \u001b[2m               \u001b[0m\n",
       "\u001b[2;36m                    \u001b[0m         \u001b[1m(\u001b[0m\u001b[32m'interactions.4.mlp.2.bias'\u001b[0m, tensor\u001b[1m[\u001b[0m\u001b[1;36m128\u001b[0m\u001b[1m]\u001b[0m x∈\u001b[1m[\u001b[0m\u001b[1;36m-0.035\u001b[0m, \u001b[1;36m0.030\u001b[0m\u001b[1m]\u001b[0m \u001b[33mμ\u001b[0m=\u001b[1;36m-0.000\u001b[0m   \u001b[2m               \u001b[0m\n",
       "\u001b[2;36m                    \u001b[0m         \u001b[33mσ\u001b[0m=\u001b[1;36m0\u001b[0m\u001b[1;36m.012\u001b[0m cu\u001b[1;92mda:0\u001b[0m\u001b[1m)\u001b[0m, \u001b[1m(\u001b[0m\u001b[32m'interactions.4.conv.lin1.weight'\u001b[0m, tensor\u001b[1m[\u001b[0m\u001b[1;36m128\u001b[0m, \u001b[1;36m512\u001b[0m\u001b[1m]\u001b[0m  \u001b[2m               \u001b[0m\n",
       "\u001b[2;36m                    \u001b[0m         \u001b[33mn\u001b[0m=\u001b[1;36m65536\u001b[0m \u001b[1m(\u001b[0m\u001b[1;36m0.\u001b[0m2Mb\u001b[1m)\u001b[0m x∈\u001b[1m[\u001b[0m\u001b[1;36m-0.188\u001b[0m, \u001b[1;36m0.206\u001b[0m\u001b[1m]\u001b[0m \u001b[33mμ\u001b[0m=\u001b[1;36m-8.653e-05\u001b[0m \u001b[33mσ\u001b[0m=\u001b[1;36m0\u001b[0m\u001b[1;36m.059\u001b[0m cu\u001b[1;92mda:0\u001b[0m\u001b[1m)\u001b[0m,        \u001b[2m               \u001b[0m\n",
       "\u001b[2;36m                    \u001b[0m         \u001b[1m(\u001b[0m\u001b[32m'interactions.4.conv.lin2.weight'\u001b[0m, tensor\u001b[1m[\u001b[0m\u001b[1;36m512\u001b[0m, \u001b[1;36m128\u001b[0m\u001b[1m]\u001b[0m \u001b[33mn\u001b[0m=\u001b[1;36m65536\u001b[0m \u001b[1m(\u001b[0m\u001b[1;36m0.\u001b[0m2Mb\u001b[1m)\u001b[0m   \u001b[2m               \u001b[0m\n",
       "\u001b[2;36m                    \u001b[0m         x∈\u001b[1m[\u001b[0m\u001b[1;36m-0.167\u001b[0m, \u001b[1;36m0.160\u001b[0m\u001b[1m]\u001b[0m \u001b[33mμ\u001b[0m=\u001b[1;36m-0.000\u001b[0m \u001b[33mσ\u001b[0m=\u001b[1;36m0\u001b[0m\u001b[1;36m.058\u001b[0m cu\u001b[1;92mda:0\u001b[0m\u001b[1m)\u001b[0m,                            \u001b[2m               \u001b[0m\n",
       "\u001b[2;36m                    \u001b[0m         \u001b[1m(\u001b[0m\u001b[32m'interactions.4.conv.lin2.bias'\u001b[0m, tensor\u001b[1m[\u001b[0m\u001b[1;36m512\u001b[0m\u001b[1m]\u001b[0m 2Kb x∈\u001b[1m[\u001b[0m\u001b[1;36m-0.021\u001b[0m, \u001b[1;36m0.017\u001b[0m\u001b[1m]\u001b[0m    \u001b[2m               \u001b[0m\n",
       "\u001b[2;36m                    \u001b[0m         \u001b[33mμ\u001b[0m=\u001b[1;36m9\u001b[0m\u001b[1;36m.058e-06\u001b[0m \u001b[33mσ\u001b[0m=\u001b[1;36m0\u001b[0m\u001b[1;36m.008\u001b[0m cu\u001b[1;92mda:0\u001b[0m\u001b[1m)\u001b[0m, \u001b[1m(\u001b[0m\u001b[32m'interactions.4.conv.nn.0.weight'\u001b[0m,       \u001b[2m               \u001b[0m\n",
       "\u001b[2;36m                    \u001b[0m         tensor\u001b[1m[\u001b[0m\u001b[1;36m128\u001b[0m, \u001b[1;36m50\u001b[0m\u001b[1m]\u001b[0m \u001b[33mn\u001b[0m=\u001b[1;36m6400\u001b[0m \u001b[1m(\u001b[0m25Kb\u001b[1m)\u001b[0m x∈\u001b[1m[\u001b[0m\u001b[1;36m-0.246\u001b[0m, \u001b[1;36m0.294\u001b[0m\u001b[1m]\u001b[0m \u001b[33mμ\u001b[0m=\u001b[1;36m-4.022e-05\u001b[0m \u001b[33mσ\u001b[0m=\u001b[1;36m0\u001b[0m\u001b[1;36m.108\u001b[0m   \u001b[2m               \u001b[0m\n",
       "\u001b[2;36m                    \u001b[0m         cu\u001b[1;92mda:0\u001b[0m\u001b[1m)\u001b[0m, \u001b[1m(\u001b[0m\u001b[32m'interactions.4.conv.nn.0.bias'\u001b[0m, tensor\u001b[1m[\u001b[0m\u001b[1;36m128\u001b[0m\u001b[1m]\u001b[0m x∈\u001b[1m[\u001b[0m\u001b[1;36m-0.036\u001b[0m,      \u001b[2m               \u001b[0m\n",
       "\u001b[2;36m                    \u001b[0m         \u001b[1;36m0.057\u001b[0m\u001b[1m]\u001b[0m \u001b[33mμ\u001b[0m=\u001b[1;36m0\u001b[0m\u001b[1;36m.001\u001b[0m \u001b[33mσ\u001b[0m=\u001b[1;36m0\u001b[0m\u001b[1;36m.015\u001b[0m cu\u001b[1;92mda:0\u001b[0m\u001b[1m)\u001b[0m, \u001b[1m(\u001b[0m\u001b[32m'interactions.4.conv.nn.2.weight'\u001b[0m,    \u001b[2m               \u001b[0m\n",
       "\u001b[2;36m                    \u001b[0m         tensor\u001b[1m[\u001b[0m\u001b[1;36m128\u001b[0m, \u001b[1;36m128\u001b[0m\u001b[1m]\u001b[0m \u001b[33mn\u001b[0m=\u001b[1;36m16384\u001b[0m \u001b[1m(\u001b[0m64Kb\u001b[1m)\u001b[0m x∈\u001b[1m[\u001b[0m\u001b[1;36m-0.223\u001b[0m, \u001b[1;36m0.245\u001b[0m\u001b[1m]\u001b[0m \u001b[33mμ\u001b[0m=\u001b[1;36m-0.000\u001b[0m \u001b[33mσ\u001b[0m=\u001b[1;36m0\u001b[0m\u001b[1;36m.089\u001b[0m     \u001b[2m               \u001b[0m\n",
       "\u001b[2;36m                    \u001b[0m         cu\u001b[1;92mda:0\u001b[0m\u001b[1m)\u001b[0m, \u001b[1m(\u001b[0m\u001b[32m'interactions.4.conv.nn.2.bias'\u001b[0m, tensor\u001b[1m[\u001b[0m\u001b[1;36m128\u001b[0m\u001b[1m]\u001b[0m x∈\u001b[1m[\u001b[0m\u001b[1;36m-0.035\u001b[0m,      \u001b[2m               \u001b[0m\n",
       "\u001b[2;36m                    \u001b[0m         \u001b[1;36m0.030\u001b[0m\u001b[1m]\u001b[0m \u001b[33mμ\u001b[0m=\u001b[1;36m-0.000\u001b[0m \u001b[33mσ\u001b[0m=\u001b[1;36m0\u001b[0m\u001b[1;36m.012\u001b[0m cu\u001b[1;92mda:0\u001b[0m\u001b[1m)\u001b[0m, \u001b[1m(\u001b[0m\u001b[32m'interactions.4.lin.weight'\u001b[0m,         \u001b[2m               \u001b[0m\n",
       "\u001b[2;36m                    \u001b[0m         tensor\u001b[1m[\u001b[0m\u001b[1;36m512\u001b[0m, \u001b[1;36m512\u001b[0m\u001b[1m]\u001b[0m \u001b[33mn\u001b[0m=\u001b[1;36m262144\u001b[0m \u001b[1m(\u001b[0m1Mb\u001b[1m)\u001b[0m x∈\u001b[1m[\u001b[0m\u001b[1;36m-0.133\u001b[0m, \u001b[1;36m0.134\u001b[0m\u001b[1m]\u001b[0m \u001b[33mμ\u001b[0m=\u001b[1;36m-6.478e-05\u001b[0m \u001b[33mσ\u001b[0m=\u001b[1;36m0\u001b[0m\u001b[1;36m.046\u001b[0m \u001b[2m               \u001b[0m\n",
       "\u001b[2;36m                    \u001b[0m         cu\u001b[1;92mda:0\u001b[0m\u001b[1m)\u001b[0m, \u001b[1m(\u001b[0m\u001b[32m'interactions.4.lin.bias'\u001b[0m, tensor\u001b[1m[\u001b[0m\u001b[1;36m512\u001b[0m\u001b[1m]\u001b[0m 2Kb x∈\u001b[1m[\u001b[0m\u001b[1;36m-0.031\u001b[0m, \u001b[1;36m0.035\u001b[0m\u001b[1m]\u001b[0m \u001b[2m               \u001b[0m\n",
       "\u001b[2;36m                    \u001b[0m         \u001b[33mμ\u001b[0m=\u001b[1;36m0\u001b[0m\u001b[1;36m.000\u001b[0m \u001b[33mσ\u001b[0m=\u001b[1;36m0\u001b[0m\u001b[1;36m.013\u001b[0m cu\u001b[1;92mda:0\u001b[0m\u001b[1m)\u001b[0m, \u001b[1m(\u001b[0m\u001b[32m'interactions.5.mlp.0.weight'\u001b[0m, tensor\u001b[1m[\u001b[0m\u001b[1;36m128\u001b[0m,   \u001b[2m               \u001b[0m\n",
       "\u001b[2;36m                    \u001b[0m         \u001b[1;36m50\u001b[0m\u001b[1m]\u001b[0m \u001b[33mn\u001b[0m=\u001b[1;36m6400\u001b[0m \u001b[1m(\u001b[0m25Kb\u001b[1m)\u001b[0m x∈\u001b[1m[\u001b[0m\u001b[1;36m-0.250\u001b[0m, \u001b[1;36m0.229\u001b[0m\u001b[1m]\u001b[0m \u001b[33mμ\u001b[0m=\u001b[1;36m-0.001\u001b[0m \u001b[33mσ\u001b[0m=\u001b[1;36m0\u001b[0m\u001b[1;36m.108\u001b[0m cu\u001b[1;92mda:0\u001b[0m\u001b[1m)\u001b[0m,          \u001b[2m               \u001b[0m\n",
       "\u001b[2;36m                    \u001b[0m         \u001b[1m(\u001b[0m\u001b[32m'interactions.5.mlp.0.bias'\u001b[0m, tensor\u001b[1m[\u001b[0m\u001b[1;36m128\u001b[0m\u001b[1m]\u001b[0m x∈\u001b[1m[\u001b[0m\u001b[1;36m-0.037\u001b[0m, \u001b[1;36m0.032\u001b[0m\u001b[1m]\u001b[0m \u001b[33mμ\u001b[0m=\u001b[1;36m0\u001b[0m\u001b[1;36m.001\u001b[0m    \u001b[2m               \u001b[0m\n",
       "\u001b[2;36m                    \u001b[0m         \u001b[33mσ\u001b[0m=\u001b[1;36m0\u001b[0m\u001b[1;36m.013\u001b[0m cu\u001b[1;92mda:0\u001b[0m\u001b[1m)\u001b[0m, \u001b[1m(\u001b[0m\u001b[32m'interactions.5.mlp.2.weight'\u001b[0m, tensor\u001b[1m[\u001b[0m\u001b[1;36m128\u001b[0m, \u001b[1;36m128\u001b[0m\u001b[1m]\u001b[0m      \u001b[2m               \u001b[0m\n",
       "\u001b[2;36m                    \u001b[0m         \u001b[33mn\u001b[0m=\u001b[1;36m16384\u001b[0m \u001b[1m(\u001b[0m64Kb\u001b[1m)\u001b[0m x∈\u001b[1m[\u001b[0m\u001b[1;36m-0.241\u001b[0m, \u001b[1;36m0.210\u001b[0m\u001b[1m]\u001b[0m \u001b[33mμ\u001b[0m=\u001b[1;36m-0.001\u001b[0m \u001b[33mσ\u001b[0m=\u001b[1;36m0\u001b[0m\u001b[1;36m.090\u001b[0m cu\u001b[1;92mda:0\u001b[0m\u001b[1m)\u001b[0m,             \u001b[2m               \u001b[0m\n",
       "\u001b[2;36m                    \u001b[0m         \u001b[1m(\u001b[0m\u001b[32m'interactions.5.mlp.2.bias'\u001b[0m, tensor\u001b[1m[\u001b[0m\u001b[1;36m128\u001b[0m\u001b[1m]\u001b[0m x∈\u001b[1m[\u001b[0m\u001b[1;36m-0.032\u001b[0m, \u001b[1;36m0.031\u001b[0m\u001b[1m]\u001b[0m            \u001b[2m               \u001b[0m\n",
       "\u001b[2;36m                    \u001b[0m         \u001b[33mμ\u001b[0m=\u001b[1;36m5\u001b[0m\u001b[1;36m.481e-05\u001b[0m \u001b[33mσ\u001b[0m=\u001b[1;36m0\u001b[0m\u001b[1;36m.011\u001b[0m cu\u001b[1;92mda:0\u001b[0m\u001b[1m)\u001b[0m, \u001b[1m(\u001b[0m\u001b[32m'interactions.5.conv.lin1.weight'\u001b[0m,       \u001b[2m               \u001b[0m\n",
       "\u001b[2;36m                    \u001b[0m         tensor\u001b[1m[\u001b[0m\u001b[1;36m128\u001b[0m, \u001b[1;36m512\u001b[0m\u001b[1m]\u001b[0m \u001b[33mn\u001b[0m=\u001b[1;36m65536\u001b[0m \u001b[1m(\u001b[0m\u001b[1;36m0.\u001b[0m2Mb\u001b[1m)\u001b[0m x∈\u001b[1m[\u001b[0m\u001b[1;36m-0.166\u001b[0m, \u001b[1;36m0.199\u001b[0m\u001b[1m]\u001b[0m \u001b[33mμ\u001b[0m=\u001b[1;36m0\u001b[0m\u001b[1;36m.000\u001b[0m \u001b[33mσ\u001b[0m=\u001b[1;36m0\u001b[0m\u001b[1;36m.059\u001b[0m     \u001b[2m               \u001b[0m\n",
       "\u001b[2;36m                    \u001b[0m         cu\u001b[1;92mda:0\u001b[0m\u001b[1m)\u001b[0m, \u001b[1m(\u001b[0m\u001b[32m'interactions.5.conv.lin2.weight'\u001b[0m, tensor\u001b[1m[\u001b[0m\u001b[1;36m512\u001b[0m, \u001b[1;36m128\u001b[0m\u001b[1m]\u001b[0m \u001b[33mn\u001b[0m=\u001b[1;36m65536\u001b[0m  \u001b[2m               \u001b[0m\n",
       "\u001b[2;36m                    \u001b[0m         \u001b[1m(\u001b[0m\u001b[1;36m0.\u001b[0m2Mb\u001b[1m)\u001b[0m x∈\u001b[1m[\u001b[0m\u001b[1;36m-0.163\u001b[0m, \u001b[1;36m0.161\u001b[0m\u001b[1m]\u001b[0m \u001b[33mμ\u001b[0m=\u001b[1;36m-8.155e-05\u001b[0m \u001b[33mσ\u001b[0m=\u001b[1;36m0\u001b[0m\u001b[1;36m.057\u001b[0m cu\u001b[1;92mda:0\u001b[0m\u001b[1m)\u001b[0m,                \u001b[2m               \u001b[0m\n",
       "\u001b[2;36m                    \u001b[0m         \u001b[1m(\u001b[0m\u001b[32m'interactions.5.conv.lin2.bias'\u001b[0m, tensor\u001b[1m[\u001b[0m\u001b[1;36m512\u001b[0m\u001b[1m]\u001b[0m 2Kb x∈\u001b[1m[\u001b[0m\u001b[1;36m-0.019\u001b[0m, \u001b[1;36m0.021\u001b[0m\u001b[1m]\u001b[0m    \u001b[2m               \u001b[0m\n",
       "\u001b[2;36m                    \u001b[0m         \u001b[33mμ\u001b[0m=\u001b[1;36m-0.000\u001b[0m \u001b[33mσ\u001b[0m=\u001b[1;36m0\u001b[0m\u001b[1;36m.007\u001b[0m cu\u001b[1;92mda:0\u001b[0m\u001b[1m)\u001b[0m, \u001b[1m(\u001b[0m\u001b[32m'interactions.5.conv.nn.0.weight'\u001b[0m,          \u001b[2m               \u001b[0m\n",
       "\u001b[2;36m                    \u001b[0m         tensor\u001b[1m[\u001b[0m\u001b[1;36m128\u001b[0m, \u001b[1;36m50\u001b[0m\u001b[1m]\u001b[0m \u001b[33mn\u001b[0m=\u001b[1;36m6400\u001b[0m \u001b[1m(\u001b[0m25Kb\u001b[1m)\u001b[0m x∈\u001b[1m[\u001b[0m\u001b[1;36m-0.250\u001b[0m, \u001b[1;36m0.229\u001b[0m\u001b[1m]\u001b[0m \u001b[33mμ\u001b[0m=\u001b[1;36m-0.001\u001b[0m \u001b[33mσ\u001b[0m=\u001b[1;36m0\u001b[0m\u001b[1;36m.108\u001b[0m       \u001b[2m               \u001b[0m\n",
       "\u001b[2;36m                    \u001b[0m         cu\u001b[1;92mda:0\u001b[0m\u001b[1m)\u001b[0m, \u001b[1m(\u001b[0m\u001b[32m'interactions.5.conv.nn.0.bias'\u001b[0m, tensor\u001b[1m[\u001b[0m\u001b[1;36m128\u001b[0m\u001b[1m]\u001b[0m x∈\u001b[1m[\u001b[0m\u001b[1;36m-0.037\u001b[0m,      \u001b[2m               \u001b[0m\n",
       "\u001b[2;36m                    \u001b[0m         \u001b[1;36m0.032\u001b[0m\u001b[1m]\u001b[0m \u001b[33mμ\u001b[0m=\u001b[1;36m0\u001b[0m\u001b[1;36m.001\u001b[0m \u001b[33mσ\u001b[0m=\u001b[1;36m0\u001b[0m\u001b[1;36m.013\u001b[0m cu\u001b[1;92mda:0\u001b[0m\u001b[1m)\u001b[0m, \u001b[1m(\u001b[0m\u001b[32m'interactions.5.conv.nn.2.weight'\u001b[0m,    \u001b[2m               \u001b[0m\n",
       "\u001b[2;36m                    \u001b[0m         tensor\u001b[1m[\u001b[0m\u001b[1;36m128\u001b[0m, \u001b[1;36m128\u001b[0m\u001b[1m]\u001b[0m \u001b[33mn\u001b[0m=\u001b[1;36m16384\u001b[0m \u001b[1m(\u001b[0m64Kb\u001b[1m)\u001b[0m x∈\u001b[1m[\u001b[0m\u001b[1;36m-0.241\u001b[0m, \u001b[1;36m0.210\u001b[0m\u001b[1m]\u001b[0m \u001b[33mμ\u001b[0m=\u001b[1;36m-0.001\u001b[0m \u001b[33mσ\u001b[0m=\u001b[1;36m0\u001b[0m\u001b[1;36m.090\u001b[0m     \u001b[2m               \u001b[0m\n",
       "\u001b[2;36m                    \u001b[0m         cu\u001b[1;92mda:0\u001b[0m\u001b[1m)\u001b[0m, \u001b[1m(\u001b[0m\u001b[32m'interactions.5.conv.nn.2.bias'\u001b[0m, tensor\u001b[1m[\u001b[0m\u001b[1;36m128\u001b[0m\u001b[1m]\u001b[0m x∈\u001b[1m[\u001b[0m\u001b[1;36m-0.032\u001b[0m,      \u001b[2m               \u001b[0m\n",
       "\u001b[2;36m                    \u001b[0m         \u001b[1;36m0.031\u001b[0m\u001b[1m]\u001b[0m \u001b[33mμ\u001b[0m=\u001b[1;36m5\u001b[0m\u001b[1;36m.481e-05\u001b[0m \u001b[33mσ\u001b[0m=\u001b[1;36m0\u001b[0m\u001b[1;36m.011\u001b[0m cu\u001b[1;92mda:0\u001b[0m\u001b[1m)\u001b[0m, \u001b[1m(\u001b[0m\u001b[32m'interactions.5.lin.weight'\u001b[0m,      \u001b[2m               \u001b[0m\n",
       "\u001b[2;36m                    \u001b[0m         tensor\u001b[1m[\u001b[0m\u001b[1;36m512\u001b[0m, \u001b[1;36m512\u001b[0m\u001b[1m]\u001b[0m \u001b[33mn\u001b[0m=\u001b[1;36m262144\u001b[0m \u001b[1m(\u001b[0m1Mb\u001b[1m)\u001b[0m x∈\u001b[1m[\u001b[0m\u001b[1;36m-0.126\u001b[0m, \u001b[1;36m0.125\u001b[0m\u001b[1m]\u001b[0m \u001b[33mμ\u001b[0m=\u001b[1;36m-3.150e-05\u001b[0m \u001b[33mσ\u001b[0m=\u001b[1;36m0\u001b[0m\u001b[1;36m.046\u001b[0m \u001b[2m               \u001b[0m\n",
       "\u001b[2;36m                    \u001b[0m         cu\u001b[1;92mda:0\u001b[0m\u001b[1m)\u001b[0m, \u001b[1m(\u001b[0m\u001b[32m'interactions.5.lin.bias'\u001b[0m, tensor\u001b[1m[\u001b[0m\u001b[1;36m512\u001b[0m\u001b[1m]\u001b[0m 2Kb x∈\u001b[1m[\u001b[0m\u001b[1;36m-0.029\u001b[0m, \u001b[1;36m0.033\u001b[0m\u001b[1m]\u001b[0m \u001b[2m               \u001b[0m\n",
       "\u001b[2;36m                    \u001b[0m         \u001b[33mμ\u001b[0m=\u001b[1;36m-0.000\u001b[0m \u001b[33mσ\u001b[0m=\u001b[1;36m0\u001b[0m\u001b[1;36m.013\u001b[0m cu\u001b[1;92mda:0\u001b[0m\u001b[1m)\u001b[0m, \u001b[1m(\u001b[0m\u001b[32m'lin1.weight'\u001b[0m, tensor\u001b[1m[\u001b[0m\u001b[1;36m256\u001b[0m, \u001b[1;36m512\u001b[0m\u001b[1m]\u001b[0m \u001b[33mn\u001b[0m=\u001b[1;36m131072\u001b[0m    \u001b[2m               \u001b[0m\n",
       "\u001b[2;36m                    \u001b[0m         \u001b[1m(\u001b[0m\u001b[1;36m0.\u001b[0m5Mb\u001b[1m)\u001b[0m x∈\u001b[1m[\u001b[0m\u001b[1;36m-0.139\u001b[0m, \u001b[1;36m0.141\u001b[0m\u001b[1m]\u001b[0m \u001b[33mμ\u001b[0m=\u001b[1;36m-0.000\u001b[0m \u001b[33mσ\u001b[0m=\u001b[1;36m0\u001b[0m\u001b[1;36m.051\u001b[0m cu\u001b[1;92mda:0\u001b[0m\u001b[1m)\u001b[0m, \u001b[1m(\u001b[0m\u001b[32m'lin1.bias'\u001b[0m,      \u001b[2m               \u001b[0m\n",
       "\u001b[2;36m                    \u001b[0m         tensor\u001b[1m[\u001b[0m\u001b[1;36m256\u001b[0m\u001b[1m]\u001b[0m 1Kb x∈\u001b[1m[\u001b[0m\u001b[1;36m-0.031\u001b[0m, \u001b[1;36m0.045\u001b[0m\u001b[1m]\u001b[0m \u001b[33mμ\u001b[0m=\u001b[1;36m-0.000\u001b[0m \u001b[33mσ\u001b[0m=\u001b[1;36m0\u001b[0m\u001b[1;36m.016\u001b[0m cu\u001b[1;92mda:0\u001b[0m\u001b[1m)\u001b[0m,            \u001b[2m               \u001b[0m\n",
       "\u001b[2;36m                    \u001b[0m         \u001b[1m(\u001b[0m\u001b[32m'lin2.weight'\u001b[0m, tensor\u001b[1m[\u001b[0m\u001b[1;36m32\u001b[0m, \u001b[1;36m256\u001b[0m\u001b[1m]\u001b[0m \u001b[33mn\u001b[0m=\u001b[1;36m8192\u001b[0m \u001b[1m(\u001b[0m32Kb\u001b[1m)\u001b[0m x∈\u001b[1m[\u001b[0m\u001b[1;36m-0.097\u001b[0m, \u001b[1;36m0.089\u001b[0m\u001b[1m]\u001b[0m        \u001b[2m               \u001b[0m\n",
       "\u001b[2;36m                    \u001b[0m         \u001b[33mμ\u001b[0m=\u001b[1;36m-2.851e-05\u001b[0m \u001b[33mσ\u001b[0m=\u001b[1;36m0\u001b[0m\u001b[1;36m.031\u001b[0m cu\u001b[1;92mda:0\u001b[0m\u001b[1m)\u001b[0m, \u001b[1m(\u001b[0m\u001b[32m'lin2.bias'\u001b[0m, tensor\u001b[1m[\u001b[0m\u001b[1;36m32\u001b[0m\u001b[1m]\u001b[0m x∈\u001b[1m[\u001b[0m\u001b[1;36m-0.060\u001b[0m,      \u001b[2m               \u001b[0m\n",
       "\u001b[2;36m                    \u001b[0m         \u001b[1;36m0.061\u001b[0m\u001b[1m]\u001b[0m \u001b[33mμ\u001b[0m=\u001b[1;36m0\u001b[0m\u001b[1;36m.008\u001b[0m \u001b[33mσ\u001b[0m=\u001b[1;36m0\u001b[0m\u001b[1;36m.032\u001b[0m cu\u001b[1;92mda:0\u001b[0m\u001b[1m)\u001b[0m\u001b[1m]\u001b[0m\u001b[1m)\u001b[0m                                       \u001b[2m               \u001b[0m\n"
      ]
     },
     "metadata": {},
     "output_type": "display_data"
    },
    {
     "data": {
      "text/html": [
       "<pre style=\"white-space:pre;overflow-x:auto;line-height:normal;font-family:Menlo,'DejaVu Sans Mono',consolas,'Courier New',monospace\"><span style=\"color: #7fbfbf; text-decoration-color: #7fbfbf\">                    </span><span style=\"color: #800000; text-decoration-color: #800000\">WARNING </span> Error loading encoder weights: <span style=\"font-weight: bold\">&lt;</span><span style=\"color: #ff00ff; text-decoration-color: #ff00ff; font-weight: bold\">All</span><span style=\"color: #000000; text-decoration-color: #000000\"> keys matched successfully</span><span style=\"font-weight: bold\">&gt;</span>         <a href=\"file:///home/zhang/Projects/3d/ProteinWorkshop/proteinworkshop/finetune.py\" target=\"_blank\"><span style=\"color: #7f7f7f; text-decoration-color: #7f7f7f\">finetune.py</span></a><span style=\"color: #7f7f7f; text-decoration-color: #7f7f7f\">:</span><a href=\"file:///home/zhang/Projects/3d/ProteinWorkshop/proteinworkshop/finetune.py#176\" target=\"_blank\"><span style=\"color: #7f7f7f; text-decoration-color: #7f7f7f\">176</span></a>\n",
       "</pre>\n"
      ],
      "text/plain": [
       "\u001b[2;36m                   \u001b[0m\u001b[2;36m \u001b[0m\u001b[31mWARNING \u001b[0m Error loading encoder weights: \u001b[1m<\u001b[0m\u001b[1;95mAll\u001b[0m\u001b[39m keys matched successfully\u001b[0m\u001b[1m>\u001b[0m         \u001b]8;id=862673;file:///home/zhang/Projects/3d/ProteinWorkshop/proteinworkshop/finetune.py\u001b\\\u001b[2mfinetune.py\u001b[0m\u001b]8;;\u001b\\\u001b[2m:\u001b[0m\u001b]8;id=790550;file:///home/zhang/Projects/3d/ProteinWorkshop/proteinworkshop/finetune.py#176\u001b\\\u001b[2m176\u001b[0m\u001b]8;;\u001b\\\n"
      ]
     },
     "metadata": {},
     "output_type": "display_data"
    },
    {
     "data": {
      "text/html": [
       "<pre style=\"white-space:pre;overflow-x:auto;line-height:normal;font-family:Menlo,'DejaVu Sans Mono',consolas,'Courier New',monospace\"><span style=\"color: #7fbfbf; text-decoration-color: #7fbfbf\">                    </span><span style=\"color: #000080; text-decoration-color: #000080\">INFO    </span> Logging hyperparameters!                                               <a href=\"file:///home/zhang/Projects/3d/ProteinWorkshop/proteinworkshop/finetune.py\" target=\"_blank\"><span style=\"color: #7f7f7f; text-decoration-color: #7f7f7f\">finetune.py</span></a><span style=\"color: #7f7f7f; text-decoration-color: #7f7f7f\">:</span><a href=\"file:///home/zhang/Projects/3d/ProteinWorkshop/proteinworkshop/finetune.py#189\" target=\"_blank\"><span style=\"color: #7f7f7f; text-decoration-color: #7f7f7f\">189</span></a>\n",
       "</pre>\n"
      ],
      "text/plain": [
       "\u001b[2;36m                   \u001b[0m\u001b[2;36m \u001b[0m\u001b[34mINFO    \u001b[0m Logging hyperparameters!                                               \u001b]8;id=628266;file:///home/zhang/Projects/3d/ProteinWorkshop/proteinworkshop/finetune.py\u001b\\\u001b[2mfinetune.py\u001b[0m\u001b]8;;\u001b\\\u001b[2m:\u001b[0m\u001b]8;id=879281;file:///home/zhang/Projects/3d/ProteinWorkshop/proteinworkshop/finetune.py#189\u001b\\\u001b[2m189\u001b[0m\u001b]8;;\u001b\\\n"
      ]
     },
     "metadata": {},
     "output_type": "display_data"
    },
    {
     "data": {
      "text/html": [
       "<pre style=\"white-space:pre;overflow-x:auto;line-height:normal;font-family:Menlo,'DejaVu Sans Mono',consolas,'Courier New',monospace\"><span style=\"color: #7fbfbf; text-decoration-color: #7fbfbf\">                    </span><span style=\"color: #000080; text-decoration-color: #000080\">INFO    </span> Starting training!                                                     <a href=\"file:///home/zhang/Projects/3d/ProteinWorkshop/proteinworkshop/finetune.py\" target=\"_blank\"><span style=\"color: #7f7f7f; text-decoration-color: #7f7f7f\">finetune.py</span></a><span style=\"color: #7f7f7f; text-decoration-color: #7f7f7f\">:</span><a href=\"file:///home/zhang/Projects/3d/ProteinWorkshop/proteinworkshop/finetune.py#197\" target=\"_blank\"><span style=\"color: #7f7f7f; text-decoration-color: #7f7f7f\">197</span></a>\n",
       "</pre>\n"
      ],
      "text/plain": [
       "\u001b[2;36m                   \u001b[0m\u001b[2;36m \u001b[0m\u001b[34mINFO    \u001b[0m Starting training!                                                     \u001b]8;id=677173;file:///home/zhang/Projects/3d/ProteinWorkshop/proteinworkshop/finetune.py\u001b\\\u001b[2mfinetune.py\u001b[0m\u001b]8;;\u001b\\\u001b[2m:\u001b[0m\u001b]8;id=256331;file:///home/zhang/Projects/3d/ProteinWorkshop/proteinworkshop/finetune.py#197\u001b\\\u001b[2m197\u001b[0m\u001b]8;;\u001b\\\n"
      ]
     },
     "metadata": {},
     "output_type": "display_data"
    },
    {
     "name": "stderr",
     "output_type": "stream",
     "text": [
      "You are using a CUDA device ('NVIDIA GeForce RTX 4090') that has Tensor Cores. To properly utilize them, you should set `torch.set_float32_matmul_precision('medium' | 'high')` which will trade-off precision for performance. For more details, read https://pytorch.org/docs/stable/generated/torch.set_float32_matmul_precision.html#torch.set_float32_matmul_precision\n"
     ]
    },
    {
     "data": {
      "text/html": [
       "<pre style=\"white-space:pre;overflow-x:auto;line-height:normal;font-family:Menlo,'DejaVu Sans Mono',consolas,'Courier New',monospace\"><span style=\"color: #7fbfbf; text-decoration-color: #7fbfbf\">                    </span><span style=\"color: #000080; text-decoration-color: #000080\">INFO    </span> Downloading Protein Function. Fraction <span style=\"color: #008080; text-decoration-color: #008080; font-weight: bold\">1.0</span>                   <a href=\"file:///home/zhang/Projects/3d/ProteinWorkshop/proteinworkshop/datasets/fold_classification.py\" target=\"_blank\"><span style=\"color: #7f7f7f; text-decoration-color: #7f7f7f\">fold_classification.py</span></a><span style=\"color: #7f7f7f; text-decoration-color: #7f7f7f\">:</span><a href=\"file:///home/zhang/Projects/3d/ProteinWorkshop/proteinworkshop/datasets/fold_classification.py#86\" target=\"_blank\"><span style=\"color: #7f7f7f; text-decoration-color: #7f7f7f\">86</span></a>\n",
       "</pre>\n"
      ],
      "text/plain": [
       "\u001b[2;36m                   \u001b[0m\u001b[2;36m \u001b[0m\u001b[34mINFO    \u001b[0m Downloading Protein Function. Fraction \u001b[1;36m1.0\u001b[0m                   \u001b]8;id=207428;file:///home/zhang/Projects/3d/ProteinWorkshop/proteinworkshop/datasets/fold_classification.py\u001b\\\u001b[2mfold_classification.py\u001b[0m\u001b]8;;\u001b\\\u001b[2m:\u001b[0m\u001b]8;id=899741;file:///home/zhang/Projects/3d/ProteinWorkshop/proteinworkshop/datasets/fold_classification.py#86\u001b\\\u001b[2m86\u001b[0m\u001b]8;;\u001b\\\n"
      ]
     },
     "metadata": {},
     "output_type": "display_data"
    },
    {
     "data": {
      "text/html": [
       "<pre style=\"white-space:pre;overflow-x:auto;line-height:normal;font-family:Menlo,'DejaVu Sans Mono',consolas,'Courier New',monospace\"><span style=\"color: #7fbfbf; text-decoration-color: #7fbfbf\">                    </span><span style=\"color: #000080; text-decoration-color: #000080\">INFO    </span> Found SCOP structure tarfile in:                            <a href=\"file:///home/zhang/Projects/3d/ProteinWorkshop/proteinworkshop/datasets/fold_classification.py\" target=\"_blank\"><span style=\"color: #7f7f7f; text-decoration-color: #7f7f7f\">fold_classification.py</span></a><span style=\"color: #7f7f7f; text-decoration-color: #7f7f7f\">:</span><a href=\"file:///home/zhang/Projects/3d/ProteinWorkshop/proteinworkshop/datasets/fold_classification.py#138\" target=\"_blank\"><span style=\"color: #7f7f7f; text-decoration-color: #7f7f7f\">138</span></a>\n",
       "<span style=\"color: #7fbfbf; text-decoration-color: #7fbfbf\">                    </span>         <span style=\"color: #800080; text-decoration-color: #800080\">/home/zhang/Projects/3d/ProteinWorkshop/proteinworkshop/dat</span> <span style=\"color: #7f7f7f; text-decoration-color: #7f7f7f\">                          </span>\n",
       "<span style=\"color: #7fbfbf; text-decoration-color: #7fbfbf\">                    </span>         <span style=\"color: #800080; text-decoration-color: #800080\">a/FoldClassification/</span><span style=\"color: #ff00ff; text-decoration-color: #ff00ff\">pdbstyle-sel-gs-bib-95-1.75.tgz</span>        <span style=\"color: #7f7f7f; text-decoration-color: #7f7f7f\">                          </span>\n",
       "</pre>\n"
      ],
      "text/plain": [
       "\u001b[2;36m                   \u001b[0m\u001b[2;36m \u001b[0m\u001b[34mINFO    \u001b[0m Found SCOP structure tarfile in:                            \u001b]8;id=698382;file:///home/zhang/Projects/3d/ProteinWorkshop/proteinworkshop/datasets/fold_classification.py\u001b\\\u001b[2mfold_classification.py\u001b[0m\u001b]8;;\u001b\\\u001b[2m:\u001b[0m\u001b]8;id=267225;file:///home/zhang/Projects/3d/ProteinWorkshop/proteinworkshop/datasets/fold_classification.py#138\u001b\\\u001b[2m138\u001b[0m\u001b]8;;\u001b\\\n",
       "\u001b[2;36m                    \u001b[0m         \u001b[35m/home/zhang/Projects/3d/ProteinWorkshop/proteinworkshop/dat\u001b[0m \u001b[2m                          \u001b[0m\n",
       "\u001b[2;36m                    \u001b[0m         \u001b[35ma/FoldClassification/\u001b[0m\u001b[95mpdbstyle-sel-gs-bib-95-1.75.tgz\u001b[0m        \u001b[2m                          \u001b[0m\n"
      ]
     },
     "metadata": {},
     "output_type": "display_data"
    },
    {
     "data": {
      "text/html": [
       "<pre style=\"white-space:pre;overflow-x:auto;line-height:normal;font-family:Menlo,'DejaVu Sans Mono',consolas,'Courier New',monospace\"><span style=\"color: #7fbfbf; text-decoration-color: #7fbfbf\">                    </span><span style=\"color: #000080; text-decoration-color: #000080\">INFO    </span> Found SCOPe structures in:                                  <a href=\"file:///home/zhang/Projects/3d/ProteinWorkshop/proteinworkshop/datasets/fold_classification.py\" target=\"_blank\"><span style=\"color: #7f7f7f; text-decoration-color: #7f7f7f\">fold_classification.py</span></a><span style=\"color: #7f7f7f; text-decoration-color: #7f7f7f\">:</span><a href=\"file:///home/zhang/Projects/3d/ProteinWorkshop/proteinworkshop/datasets/fold_classification.py#151\" target=\"_blank\"><span style=\"color: #7f7f7f; text-decoration-color: #7f7f7f\">151</span></a>\n",
       "</pre>\n"
      ],
      "text/plain": [
       "\u001b[2;36m                   \u001b[0m\u001b[2;36m \u001b[0m\u001b[34mINFO    \u001b[0m Found SCOPe structures in:                                  \u001b]8;id=218829;file:///home/zhang/Projects/3d/ProteinWorkshop/proteinworkshop/datasets/fold_classification.py\u001b\\\u001b[2mfold_classification.py\u001b[0m\u001b]8;;\u001b\\\u001b[2m:\u001b[0m\u001b]8;id=253512;file:///home/zhang/Projects/3d/ProteinWorkshop/proteinworkshop/datasets/fold_classification.py#151\u001b\\\u001b[2m151\u001b[0m\u001b]8;;\u001b\\\n"
      ]
     },
     "metadata": {},
     "output_type": "display_data"
    },
    {
     "data": {
      "text/html": [
       "<pre style=\"white-space:pre;overflow-x:auto;line-height:normal;font-family:Menlo,'DejaVu Sans Mono',consolas,'Courier New',monospace\"><span style=\"color: #7fbfbf; text-decoration-color: #7fbfbf\">                    </span><span style=\"color: #000080; text-decoration-color: #000080\">INFO    </span> Preprocessing training data                                                 <a href=\"file:///home/zhang/Projects/3d/ProteinWorkshop/proteinworkshop/datasets/base.py\" target=\"_blank\"><span style=\"color: #7f7f7f; text-decoration-color: #7f7f7f\">base.py</span></a><span style=\"color: #7f7f7f; text-decoration-color: #7f7f7f\">:</span><a href=\"file:///home/zhang/Projects/3d/ProteinWorkshop/proteinworkshop/datasets/base.py#87\" target=\"_blank\"><span style=\"color: #7f7f7f; text-decoration-color: #7f7f7f\">87</span></a>\n",
       "</pre>\n"
      ],
      "text/plain": [
       "\u001b[2;36m                   \u001b[0m\u001b[2;36m \u001b[0m\u001b[34mINFO    \u001b[0m Preprocessing training data                                                 \u001b]8;id=364541;file:///home/zhang/Projects/3d/ProteinWorkshop/proteinworkshop/datasets/base.py\u001b\\\u001b[2mbase.py\u001b[0m\u001b]8;;\u001b\\\u001b[2m:\u001b[0m\u001b]8;id=616155;file:///home/zhang/Projects/3d/ProteinWorkshop/proteinworkshop/datasets/base.py#87\u001b\\\u001b[2m87\u001b[0m\u001b]8;;\u001b\\\n"
      ]
     },
     "metadata": {},
     "output_type": "display_data"
    },
    {
     "data": {
      "text/html": [
       "<pre style=\"white-space:pre;overflow-x:auto;line-height:normal;font-family:Menlo,'DejaVu Sans Mono',consolas,'Courier New',monospace\"><span style=\"color: #7fbfbf; text-decoration-color: #7fbfbf\">                    </span><span style=\"color: #000080; text-decoration-color: #000080\">INFO    </span> Reading labels from:                                        <a href=\"file:///home/zhang/Projects/3d/ProteinWorkshop/proteinworkshop/datasets/fold_classification.py\" target=\"_blank\"><span style=\"color: #7f7f7f; text-decoration-color: #7f7f7f\">fold_classification.py</span></a><span style=\"color: #7f7f7f; text-decoration-color: #7f7f7f\">:</span><a href=\"file:///home/zhang/Projects/3d/ProteinWorkshop/proteinworkshop/datasets/fold_classification.py#154\" target=\"_blank\"><span style=\"color: #7f7f7f; text-decoration-color: #7f7f7f\">154</span></a>\n",
       "<span style=\"color: #7fbfbf; text-decoration-color: #7fbfbf\">                    </span>         <span style=\"color: #800080; text-decoration-color: #800080\">/home/zhang/Projects/3d/ProteinWorkshop/proteinworkshop/dat</span> <span style=\"color: #7f7f7f; text-decoration-color: #7f7f7f\">                          </span>\n",
       "<span style=\"color: #7fbfbf; text-decoration-color: #7fbfbf\">                    </span>         <span style=\"color: #800080; text-decoration-color: #800080\">a/FoldClassification/</span><span style=\"color: #ff00ff; text-decoration-color: #ff00ff\">class_map.txt</span>                          <span style=\"color: #7f7f7f; text-decoration-color: #7f7f7f\">                          </span>\n",
       "</pre>\n"
      ],
      "text/plain": [
       "\u001b[2;36m                   \u001b[0m\u001b[2;36m \u001b[0m\u001b[34mINFO    \u001b[0m Reading labels from:                                        \u001b]8;id=649730;file:///home/zhang/Projects/3d/ProteinWorkshop/proteinworkshop/datasets/fold_classification.py\u001b\\\u001b[2mfold_classification.py\u001b[0m\u001b]8;;\u001b\\\u001b[2m:\u001b[0m\u001b]8;id=869995;file:///home/zhang/Projects/3d/ProteinWorkshop/proteinworkshop/datasets/fold_classification.py#154\u001b\\\u001b[2m154\u001b[0m\u001b]8;;\u001b\\\n",
       "\u001b[2;36m                    \u001b[0m         \u001b[35m/home/zhang/Projects/3d/ProteinWorkshop/proteinworkshop/dat\u001b[0m \u001b[2m                          \u001b[0m\n",
       "\u001b[2;36m                    \u001b[0m         \u001b[35ma/FoldClassification/\u001b[0m\u001b[95mclass_map.txt\u001b[0m                          \u001b[2m                          \u001b[0m\n"
      ]
     },
     "metadata": {},
     "output_type": "display_data"
    },
    {
     "data": {
      "text/html": [
       "<pre style=\"white-space:pre;overflow-x:auto;line-height:normal;font-family:Menlo,'DejaVu Sans Mono',consolas,'Courier New',monospace\"><span style=\"color: #7fbfbf; text-decoration-color: #7fbfbf\">                    </span><span style=\"color: #000080; text-decoration-color: #000080\">INFO    </span> Found <span style=\"color: #008080; text-decoration-color: #008080; font-weight: bold\">12312</span> original examples in training                   <a href=\"file:///home/zhang/Projects/3d/ProteinWorkshop/proteinworkshop/datasets/fold_classification.py\" target=\"_blank\"><span style=\"color: #7f7f7f; text-decoration-color: #7f7f7f\">fold_classification.py</span></a><span style=\"color: #7f7f7f; text-decoration-color: #7f7f7f\">:</span><a href=\"file:///home/zhang/Projects/3d/ProteinWorkshop/proteinworkshop/datasets/fold_classification.py#234\" target=\"_blank\"><span style=\"color: #7f7f7f; text-decoration-color: #7f7f7f\">234</span></a>\n",
       "</pre>\n"
      ],
      "text/plain": [
       "\u001b[2;36m                   \u001b[0m\u001b[2;36m \u001b[0m\u001b[34mINFO    \u001b[0m Found \u001b[1;36m12312\u001b[0m original examples in training                   \u001b]8;id=564948;file:///home/zhang/Projects/3d/ProteinWorkshop/proteinworkshop/datasets/fold_classification.py\u001b\\\u001b[2mfold_classification.py\u001b[0m\u001b]8;;\u001b\\\u001b[2m:\u001b[0m\u001b]8;id=240267;file:///home/zhang/Projects/3d/ProteinWorkshop/proteinworkshop/datasets/fold_classification.py#234\u001b\\\u001b[2m234\u001b[0m\u001b]8;;\u001b\\\n"
      ]
     },
     "metadata": {},
     "output_type": "display_data"
    },
    {
     "data": {
      "text/html": [
       "<pre style=\"white-space:pre;overflow-x:auto;line-height:normal;font-family:Menlo,'DejaVu Sans Mono',consolas,'Courier New',monospace\"><span style=\"color: #7fbfbf; text-decoration-color: #7fbfbf\">                    </span><span style=\"color: #000080; text-decoration-color: #000080\">INFO    </span> Identified <span style=\"color: #008080; text-decoration-color: #008080; font-weight: bold\">1195</span> classes                                     <a href=\"file:///home/zhang/Projects/3d/ProteinWorkshop/proteinworkshop/datasets/fold_classification.py\" target=\"_blank\"><span style=\"color: #7f7f7f; text-decoration-color: #7f7f7f\">fold_classification.py</span></a><span style=\"color: #7f7f7f; text-decoration-color: #7f7f7f\">:</span><a href=\"file:///home/zhang/Projects/3d/ProteinWorkshop/proteinworkshop/datasets/fold_classification.py#247\" target=\"_blank\"><span style=\"color: #7f7f7f; text-decoration-color: #7f7f7f\">247</span></a>\n",
       "</pre>\n"
      ],
      "text/plain": [
       "\u001b[2;36m                   \u001b[0m\u001b[2;36m \u001b[0m\u001b[34mINFO    \u001b[0m Identified \u001b[1;36m1195\u001b[0m classes                                     \u001b]8;id=338416;file:///home/zhang/Projects/3d/ProteinWorkshop/proteinworkshop/datasets/fold_classification.py\u001b\\\u001b[2mfold_classification.py\u001b[0m\u001b]8;;\u001b\\\u001b[2m:\u001b[0m\u001b]8;id=640505;file:///home/zhang/Projects/3d/ProteinWorkshop/proteinworkshop/datasets/fold_classification.py#247\u001b\\\u001b[2m247\u001b[0m\u001b]8;;\u001b\\\n"
      ]
     },
     "metadata": {},
     "output_type": "display_data"
    },
    {
     "data": {
      "text/html": [
       "<pre style=\"white-space:pre;overflow-x:auto;line-height:normal;font-family:Menlo,'DejaVu Sans Mono',consolas,'Courier New',monospace\"><span style=\"color: #7fbfbf; text-decoration-color: #7fbfbf\">                    </span><span style=\"color: #000080; text-decoration-color: #000080\">INFO    </span> All structures already processed and <span style=\"color: #808000; text-decoration-color: #808000\">overwrite</span>=<span style=\"color: #ff0000; text-decoration-color: #ff0000; font-style: italic\">False</span>. Skipping download.   <a href=\"file:///home/zhang/Projects/3d/ProteinWorkshop/proteinworkshop/datasets/base.py\" target=\"_blank\"><span style=\"color: #7f7f7f; text-decoration-color: #7f7f7f\">base.py</span></a><span style=\"color: #7f7f7f; text-decoration-color: #7f7f7f\">:</span><a href=\"file:///home/zhang/Projects/3d/ProteinWorkshop/proteinworkshop/datasets/base.py#327\" target=\"_blank\"><span style=\"color: #7f7f7f; text-decoration-color: #7f7f7f\">327</span></a>\n",
       "</pre>\n"
      ],
      "text/plain": [
       "\u001b[2;36m                   \u001b[0m\u001b[2;36m \u001b[0m\u001b[34mINFO    \u001b[0m All structures already processed and \u001b[33moverwrite\u001b[0m=\u001b[3;91mFalse\u001b[0m. Skipping download.   \u001b]8;id=177798;file:///home/zhang/Projects/3d/ProteinWorkshop/proteinworkshop/datasets/base.py\u001b\\\u001b[2mbase.py\u001b[0m\u001b]8;;\u001b\\\u001b[2m:\u001b[0m\u001b]8;id=548287;file:///home/zhang/Projects/3d/ProteinWorkshop/proteinworkshop/datasets/base.py#327\u001b\\\u001b[2m327\u001b[0m\u001b]8;;\u001b\\\n"
      ]
     },
     "metadata": {},
     "output_type": "display_data"
    },
    {
     "data": {
      "text/html": [
       "<pre style=\"white-space:pre;overflow-x:auto;line-height:normal;font-family:Menlo,'DejaVu Sans Mono',consolas,'Courier New',monospace\"><span style=\"color: #7fbfbf; text-decoration-color: #7fbfbf\">                    </span><span style=\"color: #800000; text-decoration-color: #800000\">WARNING </span> Downloads in .ent format are assumed to be from ASTRAL. These data should  <a href=\"file:///home/zhang/Projects/3d/ProteinWorkshop/proteinworkshop/datasets/base.py\" target=\"_blank\"><span style=\"color: #7f7f7f; text-decoration-color: #7f7f7f\">base.py</span></a><span style=\"color: #7f7f7f; text-decoration-color: #7f7f7f\">:</span><a href=\"file:///home/zhang/Projects/3d/ProteinWorkshop/proteinworkshop/datasets/base.py#357\" target=\"_blank\"><span style=\"color: #7f7f7f; text-decoration-color: #7f7f7f\">357</span></a>\n",
       "<span style=\"color: #7fbfbf; text-decoration-color: #7fbfbf\">                    </span>         have already been downloaded                                               <span style=\"color: #7f7f7f; text-decoration-color: #7f7f7f\">           </span>\n",
       "</pre>\n"
      ],
      "text/plain": [
       "\u001b[2;36m                   \u001b[0m\u001b[2;36m \u001b[0m\u001b[31mWARNING \u001b[0m Downloads in .ent format are assumed to be from ASTRAL. These data should  \u001b]8;id=434289;file:///home/zhang/Projects/3d/ProteinWorkshop/proteinworkshop/datasets/base.py\u001b\\\u001b[2mbase.py\u001b[0m\u001b]8;;\u001b\\\u001b[2m:\u001b[0m\u001b]8;id=160770;file:///home/zhang/Projects/3d/ProteinWorkshop/proteinworkshop/datasets/base.py#357\u001b\\\u001b[2m357\u001b[0m\u001b]8;;\u001b\\\n",
       "\u001b[2;36m                    \u001b[0m         have already been downloaded                                               \u001b[2m           \u001b[0m\n"
      ]
     },
     "metadata": {},
     "output_type": "display_data"
    },
    {
     "data": {
      "text/html": [
       "<pre style=\"white-space:pre;overflow-x:auto;line-height:normal;font-family:Menlo,'DejaVu Sans Mono',consolas,'Courier New',monospace\"><span style=\"color: #7fbfbf; text-decoration-color: #7fbfbf\">                    </span><span style=\"color: #000080; text-decoration-color: #000080\">INFO    </span> Reading data into memory                                                   <a href=\"file:///home/zhang/Projects/3d/ProteinWorkshop/proteinworkshop/datasets/base.py\" target=\"_blank\"><span style=\"color: #7f7f7f; text-decoration-color: #7f7f7f\">base.py</span></a><span style=\"color: #7f7f7f; text-decoration-color: #7f7f7f\">:</span><a href=\"file:///home/zhang/Projects/3d/ProteinWorkshop/proteinworkshop/datasets/base.py#337\" target=\"_blank\"><span style=\"color: #7f7f7f; text-decoration-color: #7f7f7f\">337</span></a>\n",
       "</pre>\n"
      ],
      "text/plain": [
       "\u001b[2;36m                   \u001b[0m\u001b[2;36m \u001b[0m\u001b[34mINFO    \u001b[0m Reading data into memory                                                   \u001b]8;id=105522;file:///home/zhang/Projects/3d/ProteinWorkshop/proteinworkshop/datasets/base.py\u001b\\\u001b[2mbase.py\u001b[0m\u001b]8;;\u001b\\\u001b[2m:\u001b[0m\u001b]8;id=680759;file:///home/zhang/Projects/3d/ProteinWorkshop/proteinworkshop/datasets/base.py#337\u001b\\\u001b[2m337\u001b[0m\u001b]8;;\u001b\\\n"
      ]
     },
     "metadata": {},
     "output_type": "display_data"
    },
    {
     "name": "stderr",
     "output_type": "stream",
     "text": [
      "100%|██████████| 12312/12312 [00:03<00:00, 4087.32it/s]\n"
     ]
    },
    {
     "data": {
      "text/html": [
       "<pre style=\"white-space:pre;overflow-x:auto;line-height:normal;font-family:Menlo,'DejaVu Sans Mono',consolas,'Courier New',monospace\"><span style=\"color: #7fbfbf; text-decoration-color: #7fbfbf\">[07/25/24 17:04:22] </span><span style=\"color: #000080; text-decoration-color: #000080\">INFO    </span> Preprocessing validation data                                               <a href=\"file:///home/zhang/Projects/3d/ProteinWorkshop/proteinworkshop/datasets/base.py\" target=\"_blank\"><span style=\"color: #7f7f7f; text-decoration-color: #7f7f7f\">base.py</span></a><span style=\"color: #7f7f7f; text-decoration-color: #7f7f7f\">:</span><a href=\"file:///home/zhang/Projects/3d/ProteinWorkshop/proteinworkshop/datasets/base.py#89\" target=\"_blank\"><span style=\"color: #7f7f7f; text-decoration-color: #7f7f7f\">89</span></a>\n",
       "</pre>\n"
      ],
      "text/plain": [
       "\u001b[2;36m[07/25/24 17:04:22]\u001b[0m\u001b[2;36m \u001b[0m\u001b[34mINFO    \u001b[0m Preprocessing validation data                                               \u001b]8;id=54727;file:///home/zhang/Projects/3d/ProteinWorkshop/proteinworkshop/datasets/base.py\u001b\\\u001b[2mbase.py\u001b[0m\u001b]8;;\u001b\\\u001b[2m:\u001b[0m\u001b]8;id=17132;file:///home/zhang/Projects/3d/ProteinWorkshop/proteinworkshop/datasets/base.py#89\u001b\\\u001b[2m89\u001b[0m\u001b]8;;\u001b\\\n"
      ]
     },
     "metadata": {},
     "output_type": "display_data"
    },
    {
     "name": "stderr",
     "output_type": "stream",
     "text": [
      "LOCAL_RANK: 0 - CUDA_VISIBLE_DEVICES: [0]\n"
     ]
    },
    {
     "data": {
      "text/html": [
       "<pre style=\"white-space:pre;overflow-x:auto;line-height:normal;font-family:Menlo,'DejaVu Sans Mono',consolas,'Courier New',monospace\"><span style=\"color: #7fbfbf; text-decoration-color: #7fbfbf\">                    </span><span style=\"color: #000080; text-decoration-color: #000080\">INFO    </span> Instantiating optimiser<span style=\"color: #808000; text-decoration-color: #808000\">...</span>                                                 <a href=\"file:///home/zhang/Projects/3d/ProteinWorkshop/proteinworkshop/models/base.py\" target=\"_blank\"><span style=\"color: #7f7f7f; text-decoration-color: #7f7f7f\">base.py</span></a><span style=\"color: #7f7f7f; text-decoration-color: #7f7f7f\">:</span><a href=\"file:///home/zhang/Projects/3d/ProteinWorkshop/proteinworkshop/models/base.py#215\" target=\"_blank\"><span style=\"color: #7f7f7f; text-decoration-color: #7f7f7f\">215</span></a>\n",
       "</pre>\n"
      ],
      "text/plain": [
       "\u001b[2;36m                   \u001b[0m\u001b[2;36m \u001b[0m\u001b[34mINFO    \u001b[0m Instantiating optimiser\u001b[33m...\u001b[0m                                                 \u001b]8;id=917063;file:///home/zhang/Projects/3d/ProteinWorkshop/proteinworkshop/models/base.py\u001b\\\u001b[2mbase.py\u001b[0m\u001b]8;;\u001b\\\u001b[2m:\u001b[0m\u001b]8;id=100865;file:///home/zhang/Projects/3d/ProteinWorkshop/proteinworkshop/models/base.py#215\u001b\\\u001b[2m215\u001b[0m\u001b]8;;\u001b\\\n"
      ]
     },
     "metadata": {},
     "output_type": "display_data"
    },
    {
     "data": {
      "text/html": [
       "<pre style=\"white-space:pre;overflow-x:auto;line-height:normal;font-family:Menlo,'DejaVu Sans Mono',consolas,'Courier New',monospace\"><span style=\"color: #7fbfbf; text-decoration-color: #7fbfbf\">                    </span><span style=\"color: #000080; text-decoration-color: #000080\">INFO    </span> <span style=\"color: #800080; text-decoration-color: #800080; font-weight: bold\">functools.partial</span><span style=\"font-weight: bold\">(&lt;</span><span style=\"color: #ff00ff; text-decoration-color: #ff00ff; font-weight: bold\">class</span><span style=\"color: #000000; text-decoration-color: #000000\"> </span><span style=\"color: #008000; text-decoration-color: #008000\">'torch.optim.adam.Adam'</span><span style=\"font-weight: bold\">&gt;</span>, <span style=\"color: #808000; text-decoration-color: #808000\">lr</span>=<span style=\"color: #008080; text-decoration-color: #008080; font-weight: bold\">0.0003</span>,              <a href=\"file:///home/zhang/Projects/3d/ProteinWorkshop/proteinworkshop/models/base.py\" target=\"_blank\"><span style=\"color: #7f7f7f; text-decoration-color: #7f7f7f\">base.py</span></a><span style=\"color: #7f7f7f; text-decoration-color: #7f7f7f\">:</span><a href=\"file:///home/zhang/Projects/3d/ProteinWorkshop/proteinworkshop/models/base.py#217\" target=\"_blank\"><span style=\"color: #7f7f7f; text-decoration-color: #7f7f7f\">217</span></a>\n",
       "<span style=\"color: #7fbfbf; text-decoration-color: #7fbfbf\">                    </span>         <span style=\"color: #808000; text-decoration-color: #808000\">weight_decay</span>=<span style=\"color: #008080; text-decoration-color: #008080; font-weight: bold\">0.0</span><span style=\"font-weight: bold\">)</span>                                                          <span style=\"color: #7f7f7f; text-decoration-color: #7f7f7f\">           </span>\n",
       "</pre>\n"
      ],
      "text/plain": [
       "\u001b[2;36m                   \u001b[0m\u001b[2;36m \u001b[0m\u001b[34mINFO    \u001b[0m \u001b[1;35mfunctools.partial\u001b[0m\u001b[1m(\u001b[0m\u001b[1m<\u001b[0m\u001b[1;95mclass\u001b[0m\u001b[39m \u001b[0m\u001b[32m'torch.optim.adam.Adam'\u001b[0m\u001b[1m>\u001b[0m, \u001b[33mlr\u001b[0m=\u001b[1;36m0\u001b[0m\u001b[1;36m.0003\u001b[0m,              \u001b]8;id=906416;file:///home/zhang/Projects/3d/ProteinWorkshop/proteinworkshop/models/base.py\u001b\\\u001b[2mbase.py\u001b[0m\u001b]8;;\u001b\\\u001b[2m:\u001b[0m\u001b]8;id=331146;file:///home/zhang/Projects/3d/ProteinWorkshop/proteinworkshop/models/base.py#217\u001b\\\u001b[2m217\u001b[0m\u001b]8;;\u001b\\\n",
       "\u001b[2;36m                    \u001b[0m         \u001b[33mweight_decay\u001b[0m=\u001b[1;36m0\u001b[0m\u001b[1;36m.0\u001b[0m\u001b[1m)\u001b[0m                                                          \u001b[2m           \u001b[0m\n"
      ]
     },
     "metadata": {},
     "output_type": "display_data"
    },
    {
     "data": {
      "text/html": [
       "<pre style=\"white-space:pre;overflow-x:auto;line-height:normal;font-family:Menlo,'DejaVu Sans Mono',consolas,'Courier New',monospace\"><span style=\"color: #7fbfbf; text-decoration-color: #7fbfbf\">                    </span><span style=\"color: #000080; text-decoration-color: #000080\">INFO    </span> Instantiating scheduler<span style=\"color: #808000; text-decoration-color: #808000\">...</span>                                                 <a href=\"file:///home/zhang/Projects/3d/ProteinWorkshop/proteinworkshop/models/base.py\" target=\"_blank\"><span style=\"color: #7f7f7f; text-decoration-color: #7f7f7f\">base.py</span></a><span style=\"color: #7f7f7f; text-decoration-color: #7f7f7f\">:</span><a href=\"file:///home/zhang/Projects/3d/ProteinWorkshop/proteinworkshop/models/base.py#221\" target=\"_blank\"><span style=\"color: #7f7f7f; text-decoration-color: #7f7f7f\">221</span></a>\n",
       "</pre>\n"
      ],
      "text/plain": [
       "\u001b[2;36m                   \u001b[0m\u001b[2;36m \u001b[0m\u001b[34mINFO    \u001b[0m Instantiating scheduler\u001b[33m...\u001b[0m                                                 \u001b]8;id=825604;file:///home/zhang/Projects/3d/ProteinWorkshop/proteinworkshop/models/base.py\u001b\\\u001b[2mbase.py\u001b[0m\u001b]8;;\u001b\\\u001b[2m:\u001b[0m\u001b]8;id=100370;file:///home/zhang/Projects/3d/ProteinWorkshop/proteinworkshop/models/base.py#221\u001b\\\u001b[2m221\u001b[0m\u001b]8;;\u001b\\\n"
      ]
     },
     "metadata": {},
     "output_type": "display_data"
    },
    {
     "data": {
      "text/html": [
       "<pre style=\"white-space:pre;overflow-x:auto;line-height:normal;font-family:Menlo,'DejaVu Sans Mono',consolas,'Courier New',monospace\"><span style=\"color: #7fbfbf; text-decoration-color: #7fbfbf\">                    </span><span style=\"color: #000080; text-decoration-color: #000080\">INFO    </span> Optimiser configuration: <span style=\"font-weight: bold\">{</span><span style=\"color: #008000; text-decoration-color: #008000\">'optimizer'</span>: Adam <span style=\"font-weight: bold\">(</span>                              <a href=\"file:///home/zhang/Projects/3d/ProteinWorkshop/proteinworkshop/models/base.py\" target=\"_blank\"><span style=\"color: #7f7f7f; text-decoration-color: #7f7f7f\">base.py</span></a><span style=\"color: #7f7f7f; text-decoration-color: #7f7f7f\">:</span><a href=\"file:///home/zhang/Projects/3d/ProteinWorkshop/proteinworkshop/models/base.py#233\" target=\"_blank\"><span style=\"color: #7f7f7f; text-decoration-color: #7f7f7f\">233</span></a>\n",
       "<span style=\"color: #7fbfbf; text-decoration-color: #7fbfbf\">                    </span>         Parameter Group <span style=\"color: #008080; text-decoration-color: #008080; font-weight: bold\">0</span>                                                          <span style=\"color: #7f7f7f; text-decoration-color: #7f7f7f\">           </span>\n",
       "<span style=\"color: #7fbfbf; text-decoration-color: #7fbfbf\">                    </span>             amsgrad: <span style=\"color: #ff0000; text-decoration-color: #ff0000; font-style: italic\">False</span>                                                         <span style=\"color: #7f7f7f; text-decoration-color: #7f7f7f\">           </span>\n",
       "<span style=\"color: #7fbfbf; text-decoration-color: #7fbfbf\">                    </span>             betas: <span style=\"font-weight: bold\">(</span><span style=\"color: #008080; text-decoration-color: #008080; font-weight: bold\">0.9</span>, <span style=\"color: #008080; text-decoration-color: #008080; font-weight: bold\">0.999</span><span style=\"font-weight: bold\">)</span>                                                    <span style=\"color: #7f7f7f; text-decoration-color: #7f7f7f\">           </span>\n",
       "<span style=\"color: #7fbfbf; text-decoration-color: #7fbfbf\">                    </span>             capturable: <span style=\"color: #ff0000; text-decoration-color: #ff0000; font-style: italic\">False</span>                                                      <span style=\"color: #7f7f7f; text-decoration-color: #7f7f7f\">           </span>\n",
       "<span style=\"color: #7fbfbf; text-decoration-color: #7fbfbf\">                    </span>             differentiable: <span style=\"color: #ff0000; text-decoration-color: #ff0000; font-style: italic\">False</span>                                                  <span style=\"color: #7f7f7f; text-decoration-color: #7f7f7f\">           </span>\n",
       "<span style=\"color: #7fbfbf; text-decoration-color: #7fbfbf\">                    </span>             eps: <span style=\"color: #008080; text-decoration-color: #008080; font-weight: bold\">1e-08</span>                                                             <span style=\"color: #7f7f7f; text-decoration-color: #7f7f7f\">           </span>\n",
       "<span style=\"color: #7fbfbf; text-decoration-color: #7fbfbf\">                    </span>             foreach: <span style=\"color: #800080; text-decoration-color: #800080; font-style: italic\">None</span>                                                          <span style=\"color: #7f7f7f; text-decoration-color: #7f7f7f\">           </span>\n",
       "<span style=\"color: #7fbfbf; text-decoration-color: #7fbfbf\">                    </span>             fused: <span style=\"color: #800080; text-decoration-color: #800080; font-style: italic\">None</span>                                                            <span style=\"color: #7f7f7f; text-decoration-color: #7f7f7f\">           </span>\n",
       "<span style=\"color: #7fbfbf; text-decoration-color: #7fbfbf\">                    </span>             lr: <span style=\"color: #008080; text-decoration-color: #008080; font-weight: bold\">0.0003</span>                                                             <span style=\"color: #7f7f7f; text-decoration-color: #7f7f7f\">           </span>\n",
       "<span style=\"color: #7fbfbf; text-decoration-color: #7fbfbf\">                    </span>             maximize: <span style=\"color: #ff0000; text-decoration-color: #ff0000; font-style: italic\">False</span>                                                        <span style=\"color: #7f7f7f; text-decoration-color: #7f7f7f\">           </span>\n",
       "<span style=\"color: #7fbfbf; text-decoration-color: #7fbfbf\">                    </span>             weight_decay: <span style=\"color: #008080; text-decoration-color: #008080; font-weight: bold\">0.0</span>                                                      <span style=\"color: #7f7f7f; text-decoration-color: #7f7f7f\">           </span>\n",
       "<span style=\"color: #7fbfbf; text-decoration-color: #7fbfbf\">                    </span>         <span style=\"font-weight: bold\">)</span>, <span style=\"color: #008000; text-decoration-color: #008000\">'lr_scheduler'</span>: <span style=\"font-weight: bold\">{</span><span style=\"color: #008000; text-decoration-color: #008000\">'scheduler'</span>:                                           <span style=\"color: #7f7f7f; text-decoration-color: #7f7f7f\">           </span>\n",
       "<span style=\"color: #7fbfbf; text-decoration-color: #7fbfbf\">                    </span>         <span style=\"font-weight: bold\">&lt;</span><span style=\"color: #ff00ff; text-decoration-color: #ff00ff; font-weight: bold\">torch.optim.lr_scheduler.ReduceLROnPlateau</span><span style=\"color: #000000; text-decoration-color: #000000\"> object at </span><span style=\"color: #008080; text-decoration-color: #008080; font-weight: bold\">0x7d2220193eb0</span><span style=\"font-weight: bold\">&gt;</span>,     <span style=\"color: #7f7f7f; text-decoration-color: #7f7f7f\">           </span>\n",
       "<span style=\"color: #7fbfbf; text-decoration-color: #7fbfbf\">                    </span>         <span style=\"color: #008000; text-decoration-color: #008000\">'interval'</span>: <span style=\"color: #008000; text-decoration-color: #008000\">'epoch'</span>, <span style=\"color: #008000; text-decoration-color: #008000\">'frequency'</span>: <span style=\"color: #008080; text-decoration-color: #008080; font-weight: bold\">1</span>, <span style=\"color: #008000; text-decoration-color: #008000\">'monitor'</span>: <span style=\"color: #008000; text-decoration-color: #008000\">'val/loss/total'</span>,          <span style=\"color: #7f7f7f; text-decoration-color: #7f7f7f\">           </span>\n",
       "<span style=\"color: #7fbfbf; text-decoration-color: #7fbfbf\">                    </span>         <span style=\"color: #008000; text-decoration-color: #008000\">'strict'</span>: <span style=\"color: #00ff00; text-decoration-color: #00ff00; font-style: italic\">True</span>, <span style=\"color: #008000; text-decoration-color: #008000\">'name'</span>: <span style=\"color: #008000; text-decoration-color: #008000\">'learning_rate'</span><span style=\"font-weight: bold\">}}</span>                                  <span style=\"color: #7f7f7f; text-decoration-color: #7f7f7f\">           </span>\n",
       "</pre>\n"
      ],
      "text/plain": [
       "\u001b[2;36m                   \u001b[0m\u001b[2;36m \u001b[0m\u001b[34mINFO    \u001b[0m Optimiser configuration: \u001b[1m{\u001b[0m\u001b[32m'optimizer'\u001b[0m: Adam \u001b[1m(\u001b[0m                              \u001b]8;id=419943;file:///home/zhang/Projects/3d/ProteinWorkshop/proteinworkshop/models/base.py\u001b\\\u001b[2mbase.py\u001b[0m\u001b]8;;\u001b\\\u001b[2m:\u001b[0m\u001b]8;id=728418;file:///home/zhang/Projects/3d/ProteinWorkshop/proteinworkshop/models/base.py#233\u001b\\\u001b[2m233\u001b[0m\u001b]8;;\u001b\\\n",
       "\u001b[2;36m                    \u001b[0m         Parameter Group \u001b[1;36m0\u001b[0m                                                          \u001b[2m           \u001b[0m\n",
       "\u001b[2;36m                    \u001b[0m             amsgrad: \u001b[3;91mFalse\u001b[0m                                                         \u001b[2m           \u001b[0m\n",
       "\u001b[2;36m                    \u001b[0m             betas: \u001b[1m(\u001b[0m\u001b[1;36m0.9\u001b[0m, \u001b[1;36m0.999\u001b[0m\u001b[1m)\u001b[0m                                                    \u001b[2m           \u001b[0m\n",
       "\u001b[2;36m                    \u001b[0m             capturable: \u001b[3;91mFalse\u001b[0m                                                      \u001b[2m           \u001b[0m\n",
       "\u001b[2;36m                    \u001b[0m             differentiable: \u001b[3;91mFalse\u001b[0m                                                  \u001b[2m           \u001b[0m\n",
       "\u001b[2;36m                    \u001b[0m             eps: \u001b[1;36m1e-08\u001b[0m                                                             \u001b[2m           \u001b[0m\n",
       "\u001b[2;36m                    \u001b[0m             foreach: \u001b[3;35mNone\u001b[0m                                                          \u001b[2m           \u001b[0m\n",
       "\u001b[2;36m                    \u001b[0m             fused: \u001b[3;35mNone\u001b[0m                                                            \u001b[2m           \u001b[0m\n",
       "\u001b[2;36m                    \u001b[0m             lr: \u001b[1;36m0.0003\u001b[0m                                                             \u001b[2m           \u001b[0m\n",
       "\u001b[2;36m                    \u001b[0m             maximize: \u001b[3;91mFalse\u001b[0m                                                        \u001b[2m           \u001b[0m\n",
       "\u001b[2;36m                    \u001b[0m             weight_decay: \u001b[1;36m0.0\u001b[0m                                                      \u001b[2m           \u001b[0m\n",
       "\u001b[2;36m                    \u001b[0m         \u001b[1m)\u001b[0m, \u001b[32m'lr_scheduler'\u001b[0m: \u001b[1m{\u001b[0m\u001b[32m'scheduler'\u001b[0m:                                           \u001b[2m           \u001b[0m\n",
       "\u001b[2;36m                    \u001b[0m         \u001b[1m<\u001b[0m\u001b[1;95mtorch.optim.lr_scheduler.ReduceLROnPlateau\u001b[0m\u001b[39m object at \u001b[0m\u001b[1;36m0x7d2220193eb0\u001b[0m\u001b[1m>\u001b[0m,     \u001b[2m           \u001b[0m\n",
       "\u001b[2;36m                    \u001b[0m         \u001b[32m'interval'\u001b[0m: \u001b[32m'epoch'\u001b[0m, \u001b[32m'frequency'\u001b[0m: \u001b[1;36m1\u001b[0m, \u001b[32m'monitor'\u001b[0m: \u001b[32m'val/loss/total'\u001b[0m,          \u001b[2m           \u001b[0m\n",
       "\u001b[2;36m                    \u001b[0m         \u001b[32m'strict'\u001b[0m: \u001b[3;92mTrue\u001b[0m, \u001b[32m'name'\u001b[0m: \u001b[32m'learning_rate'\u001b[0m\u001b[1m}\u001b[0m\u001b[1m}\u001b[0m                                  \u001b[2m           \u001b[0m\n"
      ]
     },
     "metadata": {},
     "output_type": "display_data"
    },
    {
     "name": "stderr",
     "output_type": "stream",
     "text": [
      "/home/zhang/miniconda3/envs/3d/lib/python3.10/site-packages/lightning/pytorch/trainer/connectors/data_connector.py:368: UserWarning:\n",
      "\n",
      "You have overridden `on_after_batch_transfer` in `LightningModule` but have passed in a `LightningDataModule`. It will use the implementation from `LightningModule` instance.\n",
      "\n"
     ]
    },
    {
     "data": {
      "text/html": [
       "<pre style=\"white-space:pre;overflow-x:auto;line-height:normal;font-family:Menlo,'DejaVu Sans Mono',consolas,'Courier New',monospace\">┏━━━━━┳━━━━━━━━━━━━━━━━━━━━━━━━━━━━━━━━━━━━━━━━━━━━━┳━━━━━━━━━━━━━━┳━━━━━━━━┳━━━━━━━┳━━━━━━━━━━━━━━┳━━━━━━━━━━━━━━┓\n",
       "┃<span style=\"color: #800080; text-decoration-color: #800080; font-weight: bold\">     </span>┃<span style=\"color: #800080; text-decoration-color: #800080; font-weight: bold\"> Name                                        </span>┃<span style=\"color: #800080; text-decoration-color: #800080; font-weight: bold\"> Type         </span>┃<span style=\"color: #800080; text-decoration-color: #800080; font-weight: bold\"> Params </span>┃<span style=\"color: #800080; text-decoration-color: #800080; font-weight: bold\"> Mode  </span>┃<span style=\"color: #800080; text-decoration-color: #800080; font-weight: bold\">     In sizes </span>┃<span style=\"color: #800080; text-decoration-color: #800080; font-weight: bold\">    Out sizes </span>┃\n",
       "┡━━━━━╇━━━━━━━━━━━━━━━━━━━━━━━━━━━━━━━━━━━━━━━━━━━━━╇━━━━━━━━━━━━━━╇━━━━━━━━╇━━━━━━━╇━━━━━━━━━━━━━━╇━━━━━━━━━━━━━━┩\n",
       "│<span style=\"color: #7f7f7f; text-decoration-color: #7f7f7f\"> 0   </span>│ encoder                                     │ SchNetModel  │  2.7 M │ train │<span style=\"color: #c0c0c0; text-decoration-color: #c0c0c0\">            ? </span>│<span style=\"color: #c0c0c0; text-decoration-color: #c0c0c0\">            ? </span>│\n",
       "│<span style=\"color: #7f7f7f; text-decoration-color: #7f7f7f\"> 1   </span>│ encoder.sum_aggr                            │ SumAggregat… │      0 │ train │<span style=\"color: #c0c0c0; text-decoration-color: #c0c0c0\">            ? </span>│<span style=\"color: #c0c0c0; text-decoration-color: #c0c0c0\">            ? </span>│\n",
       "│<span style=\"color: #7f7f7f; text-decoration-color: #7f7f7f\"> 2   </span>│ encoder.embedding                           │ Linear       │ 12.3 K │ train │<span style=\"color: #c0c0c0; text-decoration-color: #c0c0c0\">  [11048, 23] </span>│<span style=\"color: #c0c0c0; text-decoration-color: #c0c0c0\"> [11048, 512] </span>│\n",
       "│<span style=\"color: #7f7f7f; text-decoration-color: #7f7f7f\"> 3   </span>│ encoder.distance_expansion                  │ GaussianSme… │      0 │ train │<span style=\"color: #c0c0c0; text-decoration-color: #c0c0c0\">     [176768] </span>│<span style=\"color: #c0c0c0; text-decoration-color: #c0c0c0\"> [176768, 50] </span>│\n",
       "│<span style=\"color: #7f7f7f; text-decoration-color: #7f7f7f\"> 4   </span>│ encoder.interactions                        │ ModuleList   │  2.5 M │ train │<span style=\"color: #c0c0c0; text-decoration-color: #c0c0c0\">            ? </span>│<span style=\"color: #c0c0c0; text-decoration-color: #c0c0c0\">            ? </span>│\n",
       "│<span style=\"color: #7f7f7f; text-decoration-color: #7f7f7f\"> 5   </span>│ encoder.interactions.0                      │ Interaction… │  417 K │ train │<span style=\"color: #c0c0c0; text-decoration-color: #c0c0c0\">     [[11048, </span>│<span style=\"color: #c0c0c0; text-decoration-color: #c0c0c0\"> [11048, 512] </span>│\n",
       "│<span style=\"color: #7f7f7f; text-decoration-color: #7f7f7f\">     </span>│                                             │              │        │       │<span style=\"color: #c0c0c0; text-decoration-color: #c0c0c0\">    512], [2, </span>│<span style=\"color: #c0c0c0; text-decoration-color: #c0c0c0\">              </span>│\n",
       "│<span style=\"color: #7f7f7f; text-decoration-color: #7f7f7f\">     </span>│                                             │              │        │       │<span style=\"color: #c0c0c0; text-decoration-color: #c0c0c0\">     176768], </span>│<span style=\"color: #c0c0c0; text-decoration-color: #c0c0c0\">              </span>│\n",
       "│<span style=\"color: #7f7f7f; text-decoration-color: #7f7f7f\">     </span>│                                             │              │        │       │<span style=\"color: #c0c0c0; text-decoration-color: #c0c0c0\">    [176768], </span>│<span style=\"color: #c0c0c0; text-decoration-color: #c0c0c0\">              </span>│\n",
       "│<span style=\"color: #7f7f7f; text-decoration-color: #7f7f7f\">     </span>│                                             │              │        │       │<span style=\"color: #c0c0c0; text-decoration-color: #c0c0c0\">     [176768, </span>│<span style=\"color: #c0c0c0; text-decoration-color: #c0c0c0\">              </span>│\n",
       "│<span style=\"color: #7f7f7f; text-decoration-color: #7f7f7f\">     </span>│                                             │              │        │       │<span style=\"color: #c0c0c0; text-decoration-color: #c0c0c0\">         50]] </span>│<span style=\"color: #c0c0c0; text-decoration-color: #c0c0c0\">              </span>│\n",
       "│<span style=\"color: #7f7f7f; text-decoration-color: #7f7f7f\"> 6   </span>│ encoder.interactions.0.mlp                  │ Sequential   │ 23.0 K │ train │<span style=\"color: #c0c0c0; text-decoration-color: #c0c0c0\"> [176768, 50] </span>│<span style=\"color: #c0c0c0; text-decoration-color: #c0c0c0\">     [176768, </span>│\n",
       "│<span style=\"color: #7f7f7f; text-decoration-color: #7f7f7f\">     </span>│                                             │              │        │       │<span style=\"color: #c0c0c0; text-decoration-color: #c0c0c0\">              </span>│<span style=\"color: #c0c0c0; text-decoration-color: #c0c0c0\">         128] </span>│\n",
       "│<span style=\"color: #7f7f7f; text-decoration-color: #7f7f7f\"> 7   </span>│ encoder.interactions.0.mlp.0                │ Linear       │  6.5 K │ train │<span style=\"color: #c0c0c0; text-decoration-color: #c0c0c0\"> [176768, 50] </span>│<span style=\"color: #c0c0c0; text-decoration-color: #c0c0c0\">     [176768, </span>│\n",
       "│<span style=\"color: #7f7f7f; text-decoration-color: #7f7f7f\">     </span>│                                             │              │        │       │<span style=\"color: #c0c0c0; text-decoration-color: #c0c0c0\">              </span>│<span style=\"color: #c0c0c0; text-decoration-color: #c0c0c0\">         128] </span>│\n",
       "│<span style=\"color: #7f7f7f; text-decoration-color: #7f7f7f\"> 8   </span>│ encoder.interactions.0.mlp.1                │ ShiftedSoft… │      0 │ train │<span style=\"color: #c0c0c0; text-decoration-color: #c0c0c0\">     [176768, </span>│<span style=\"color: #c0c0c0; text-decoration-color: #c0c0c0\">     [176768, </span>│\n",
       "│<span style=\"color: #7f7f7f; text-decoration-color: #7f7f7f\">     </span>│                                             │              │        │       │<span style=\"color: #c0c0c0; text-decoration-color: #c0c0c0\">         128] </span>│<span style=\"color: #c0c0c0; text-decoration-color: #c0c0c0\">         128] </span>│\n",
       "│<span style=\"color: #7f7f7f; text-decoration-color: #7f7f7f\"> 9   </span>│ encoder.interactions.0.mlp.2                │ Linear       │ 16.5 K │ train │<span style=\"color: #c0c0c0; text-decoration-color: #c0c0c0\">     [176768, </span>│<span style=\"color: #c0c0c0; text-decoration-color: #c0c0c0\">     [176768, </span>│\n",
       "│<span style=\"color: #7f7f7f; text-decoration-color: #7f7f7f\">     </span>│                                             │              │        │       │<span style=\"color: #c0c0c0; text-decoration-color: #c0c0c0\">         128] </span>│<span style=\"color: #c0c0c0; text-decoration-color: #c0c0c0\">         128] </span>│\n",
       "│<span style=\"color: #7f7f7f; text-decoration-color: #7f7f7f\"> 10  </span>│ encoder.interactions.0.conv                 │ CFConv       │  154 K │ train │<span style=\"color: #c0c0c0; text-decoration-color: #c0c0c0\">     [[11048, </span>│<span style=\"color: #c0c0c0; text-decoration-color: #c0c0c0\"> [11048, 512] </span>│\n",
       "│<span style=\"color: #7f7f7f; text-decoration-color: #7f7f7f\">     </span>│                                             │              │        │       │<span style=\"color: #c0c0c0; text-decoration-color: #c0c0c0\">    512], [2, </span>│<span style=\"color: #c0c0c0; text-decoration-color: #c0c0c0\">              </span>│\n",
       "│<span style=\"color: #7f7f7f; text-decoration-color: #7f7f7f\">     </span>│                                             │              │        │       │<span style=\"color: #c0c0c0; text-decoration-color: #c0c0c0\">     176768], </span>│<span style=\"color: #c0c0c0; text-decoration-color: #c0c0c0\">              </span>│\n",
       "│<span style=\"color: #7f7f7f; text-decoration-color: #7f7f7f\">     </span>│                                             │              │        │       │<span style=\"color: #c0c0c0; text-decoration-color: #c0c0c0\">    [176768], </span>│<span style=\"color: #c0c0c0; text-decoration-color: #c0c0c0\">              </span>│\n",
       "│<span style=\"color: #7f7f7f; text-decoration-color: #7f7f7f\">     </span>│                                             │              │        │       │<span style=\"color: #c0c0c0; text-decoration-color: #c0c0c0\">     [176768, </span>│<span style=\"color: #c0c0c0; text-decoration-color: #c0c0c0\">              </span>│\n",
       "│<span style=\"color: #7f7f7f; text-decoration-color: #7f7f7f\">     </span>│                                             │              │        │       │<span style=\"color: #c0c0c0; text-decoration-color: #c0c0c0\">         50]] </span>│<span style=\"color: #c0c0c0; text-decoration-color: #c0c0c0\">              </span>│\n",
       "│<span style=\"color: #7f7f7f; text-decoration-color: #7f7f7f\"> 11  </span>│ encoder.interactions.0.conv.aggr_module     │ SumAggregat… │      0 │ train │<span style=\"color: #c0c0c0; text-decoration-color: #c0c0c0\">    [[176768, </span>│<span style=\"color: #c0c0c0; text-decoration-color: #c0c0c0\"> [11048, 128] </span>│\n",
       "│<span style=\"color: #7f7f7f; text-decoration-color: #7f7f7f\">     </span>│                                             │              │        │       │<span style=\"color: #c0c0c0; text-decoration-color: #c0c0c0\">        128], </span>│<span style=\"color: #c0c0c0; text-decoration-color: #c0c0c0\">              </span>│\n",
       "│<span style=\"color: #7f7f7f; text-decoration-color: #7f7f7f\">     </span>│                                             │              │        │       │<span style=\"color: #c0c0c0; text-decoration-color: #c0c0c0\">    [176768], </span>│<span style=\"color: #c0c0c0; text-decoration-color: #c0c0c0\">              </span>│\n",
       "│<span style=\"color: #7f7f7f; text-decoration-color: #7f7f7f\">     </span>│                                             │              │        │       │<span style=\"color: #c0c0c0; text-decoration-color: #c0c0c0\">    '?', '?', </span>│<span style=\"color: #c0c0c0; text-decoration-color: #c0c0c0\">              </span>│\n",
       "│<span style=\"color: #7f7f7f; text-decoration-color: #7f7f7f\">     </span>│                                             │              │        │       │<span style=\"color: #c0c0c0; text-decoration-color: #c0c0c0\">         '?'] </span>│<span style=\"color: #c0c0c0; text-decoration-color: #c0c0c0\">              </span>│\n",
       "│<span style=\"color: #7f7f7f; text-decoration-color: #7f7f7f\"> 12  </span>│ encoder.interactions.0.conv.lin1            │ Linear       │ 65.5 K │ train │<span style=\"color: #c0c0c0; text-decoration-color: #c0c0c0\"> [11048, 512] </span>│<span style=\"color: #c0c0c0; text-decoration-color: #c0c0c0\"> [11048, 128] </span>│\n",
       "│<span style=\"color: #7f7f7f; text-decoration-color: #7f7f7f\"> 13  </span>│ encoder.interactions.0.conv.lin2            │ Linear       │ 66.0 K │ train │<span style=\"color: #c0c0c0; text-decoration-color: #c0c0c0\"> [11048, 128] </span>│<span style=\"color: #c0c0c0; text-decoration-color: #c0c0c0\"> [11048, 512] </span>│\n",
       "│<span style=\"color: #7f7f7f; text-decoration-color: #7f7f7f\"> 14  </span>│ encoder.interactions.0.act                  │ ShiftedSoft… │      0 │ train │<span style=\"color: #c0c0c0; text-decoration-color: #c0c0c0\"> [11048, 512] </span>│<span style=\"color: #c0c0c0; text-decoration-color: #c0c0c0\"> [11048, 512] </span>│\n",
       "│<span style=\"color: #7f7f7f; text-decoration-color: #7f7f7f\"> 15  </span>│ encoder.interactions.0.lin                  │ Linear       │  262 K │ train │<span style=\"color: #c0c0c0; text-decoration-color: #c0c0c0\"> [11048, 512] </span>│<span style=\"color: #c0c0c0; text-decoration-color: #c0c0c0\"> [11048, 512] </span>│\n",
       "│<span style=\"color: #7f7f7f; text-decoration-color: #7f7f7f\"> 16  </span>│ encoder.interactions.1                      │ Interaction… │  417 K │ train │<span style=\"color: #c0c0c0; text-decoration-color: #c0c0c0\">     [[11048, </span>│<span style=\"color: #c0c0c0; text-decoration-color: #c0c0c0\"> [11048, 512] </span>│\n",
       "│<span style=\"color: #7f7f7f; text-decoration-color: #7f7f7f\">     </span>│                                             │              │        │       │<span style=\"color: #c0c0c0; text-decoration-color: #c0c0c0\">    512], [2, </span>│<span style=\"color: #c0c0c0; text-decoration-color: #c0c0c0\">              </span>│\n",
       "│<span style=\"color: #7f7f7f; text-decoration-color: #7f7f7f\">     </span>│                                             │              │        │       │<span style=\"color: #c0c0c0; text-decoration-color: #c0c0c0\">     176768], </span>│<span style=\"color: #c0c0c0; text-decoration-color: #c0c0c0\">              </span>│\n",
       "│<span style=\"color: #7f7f7f; text-decoration-color: #7f7f7f\">     </span>│                                             │              │        │       │<span style=\"color: #c0c0c0; text-decoration-color: #c0c0c0\">    [176768], </span>│<span style=\"color: #c0c0c0; text-decoration-color: #c0c0c0\">              </span>│\n",
       "│<span style=\"color: #7f7f7f; text-decoration-color: #7f7f7f\">     </span>│                                             │              │        │       │<span style=\"color: #c0c0c0; text-decoration-color: #c0c0c0\">     [176768, </span>│<span style=\"color: #c0c0c0; text-decoration-color: #c0c0c0\">              </span>│\n",
       "│<span style=\"color: #7f7f7f; text-decoration-color: #7f7f7f\">     </span>│                                             │              │        │       │<span style=\"color: #c0c0c0; text-decoration-color: #c0c0c0\">         50]] </span>│<span style=\"color: #c0c0c0; text-decoration-color: #c0c0c0\">              </span>│\n",
       "│<span style=\"color: #7f7f7f; text-decoration-color: #7f7f7f\"> 17  </span>│ encoder.interactions.1.mlp                  │ Sequential   │ 23.0 K │ train │<span style=\"color: #c0c0c0; text-decoration-color: #c0c0c0\"> [176768, 50] </span>│<span style=\"color: #c0c0c0; text-decoration-color: #c0c0c0\">     [176768, </span>│\n",
       "│<span style=\"color: #7f7f7f; text-decoration-color: #7f7f7f\">     </span>│                                             │              │        │       │<span style=\"color: #c0c0c0; text-decoration-color: #c0c0c0\">              </span>│<span style=\"color: #c0c0c0; text-decoration-color: #c0c0c0\">         128] </span>│\n",
       "│<span style=\"color: #7f7f7f; text-decoration-color: #7f7f7f\"> 18  </span>│ encoder.interactions.1.mlp.0                │ Linear       │  6.5 K │ train │<span style=\"color: #c0c0c0; text-decoration-color: #c0c0c0\"> [176768, 50] </span>│<span style=\"color: #c0c0c0; text-decoration-color: #c0c0c0\">     [176768, </span>│\n",
       "│<span style=\"color: #7f7f7f; text-decoration-color: #7f7f7f\">     </span>│                                             │              │        │       │<span style=\"color: #c0c0c0; text-decoration-color: #c0c0c0\">              </span>│<span style=\"color: #c0c0c0; text-decoration-color: #c0c0c0\">         128] </span>│\n",
       "│<span style=\"color: #7f7f7f; text-decoration-color: #7f7f7f\"> 19  </span>│ encoder.interactions.1.mlp.1                │ ShiftedSoft… │      0 │ train │<span style=\"color: #c0c0c0; text-decoration-color: #c0c0c0\">     [176768, </span>│<span style=\"color: #c0c0c0; text-decoration-color: #c0c0c0\">     [176768, </span>│\n",
       "│<span style=\"color: #7f7f7f; text-decoration-color: #7f7f7f\">     </span>│                                             │              │        │       │<span style=\"color: #c0c0c0; text-decoration-color: #c0c0c0\">         128] </span>│<span style=\"color: #c0c0c0; text-decoration-color: #c0c0c0\">         128] </span>│\n",
       "│<span style=\"color: #7f7f7f; text-decoration-color: #7f7f7f\"> 20  </span>│ encoder.interactions.1.mlp.2                │ Linear       │ 16.5 K │ train │<span style=\"color: #c0c0c0; text-decoration-color: #c0c0c0\">     [176768, </span>│<span style=\"color: #c0c0c0; text-decoration-color: #c0c0c0\">     [176768, </span>│\n",
       "│<span style=\"color: #7f7f7f; text-decoration-color: #7f7f7f\">     </span>│                                             │              │        │       │<span style=\"color: #c0c0c0; text-decoration-color: #c0c0c0\">         128] </span>│<span style=\"color: #c0c0c0; text-decoration-color: #c0c0c0\">         128] </span>│\n",
       "│<span style=\"color: #7f7f7f; text-decoration-color: #7f7f7f\"> 21  </span>│ encoder.interactions.1.conv                 │ CFConv       │  154 K │ train │<span style=\"color: #c0c0c0; text-decoration-color: #c0c0c0\">     [[11048, </span>│<span style=\"color: #c0c0c0; text-decoration-color: #c0c0c0\"> [11048, 512] </span>│\n",
       "│<span style=\"color: #7f7f7f; text-decoration-color: #7f7f7f\">     </span>│                                             │              │        │       │<span style=\"color: #c0c0c0; text-decoration-color: #c0c0c0\">    512], [2, </span>│<span style=\"color: #c0c0c0; text-decoration-color: #c0c0c0\">              </span>│\n",
       "│<span style=\"color: #7f7f7f; text-decoration-color: #7f7f7f\">     </span>│                                             │              │        │       │<span style=\"color: #c0c0c0; text-decoration-color: #c0c0c0\">     176768], </span>│<span style=\"color: #c0c0c0; text-decoration-color: #c0c0c0\">              </span>│\n",
       "│<span style=\"color: #7f7f7f; text-decoration-color: #7f7f7f\">     </span>│                                             │              │        │       │<span style=\"color: #c0c0c0; text-decoration-color: #c0c0c0\">    [176768], </span>│<span style=\"color: #c0c0c0; text-decoration-color: #c0c0c0\">              </span>│\n",
       "│<span style=\"color: #7f7f7f; text-decoration-color: #7f7f7f\">     </span>│                                             │              │        │       │<span style=\"color: #c0c0c0; text-decoration-color: #c0c0c0\">     [176768, </span>│<span style=\"color: #c0c0c0; text-decoration-color: #c0c0c0\">              </span>│\n",
       "│<span style=\"color: #7f7f7f; text-decoration-color: #7f7f7f\">     </span>│                                             │              │        │       │<span style=\"color: #c0c0c0; text-decoration-color: #c0c0c0\">         50]] </span>│<span style=\"color: #c0c0c0; text-decoration-color: #c0c0c0\">              </span>│\n",
       "│<span style=\"color: #7f7f7f; text-decoration-color: #7f7f7f\"> 22  </span>│ encoder.interactions.1.conv.aggr_module     │ SumAggregat… │      0 │ train │<span style=\"color: #c0c0c0; text-decoration-color: #c0c0c0\">    [[176768, </span>│<span style=\"color: #c0c0c0; text-decoration-color: #c0c0c0\"> [11048, 128] </span>│\n",
       "│<span style=\"color: #7f7f7f; text-decoration-color: #7f7f7f\">     </span>│                                             │              │        │       │<span style=\"color: #c0c0c0; text-decoration-color: #c0c0c0\">        128], </span>│<span style=\"color: #c0c0c0; text-decoration-color: #c0c0c0\">              </span>│\n",
       "│<span style=\"color: #7f7f7f; text-decoration-color: #7f7f7f\">     </span>│                                             │              │        │       │<span style=\"color: #c0c0c0; text-decoration-color: #c0c0c0\">    [176768], </span>│<span style=\"color: #c0c0c0; text-decoration-color: #c0c0c0\">              </span>│\n",
       "│<span style=\"color: #7f7f7f; text-decoration-color: #7f7f7f\">     </span>│                                             │              │        │       │<span style=\"color: #c0c0c0; text-decoration-color: #c0c0c0\">    '?', '?', </span>│<span style=\"color: #c0c0c0; text-decoration-color: #c0c0c0\">              </span>│\n",
       "│<span style=\"color: #7f7f7f; text-decoration-color: #7f7f7f\">     </span>│                                             │              │        │       │<span style=\"color: #c0c0c0; text-decoration-color: #c0c0c0\">         '?'] </span>│<span style=\"color: #c0c0c0; text-decoration-color: #c0c0c0\">              </span>│\n",
       "│<span style=\"color: #7f7f7f; text-decoration-color: #7f7f7f\"> 23  </span>│ encoder.interactions.1.conv.lin1            │ Linear       │ 65.5 K │ train │<span style=\"color: #c0c0c0; text-decoration-color: #c0c0c0\"> [11048, 512] </span>│<span style=\"color: #c0c0c0; text-decoration-color: #c0c0c0\"> [11048, 128] </span>│\n",
       "│<span style=\"color: #7f7f7f; text-decoration-color: #7f7f7f\"> 24  </span>│ encoder.interactions.1.conv.lin2            │ Linear       │ 66.0 K │ train │<span style=\"color: #c0c0c0; text-decoration-color: #c0c0c0\"> [11048, 128] </span>│<span style=\"color: #c0c0c0; text-decoration-color: #c0c0c0\"> [11048, 512] </span>│\n",
       "│<span style=\"color: #7f7f7f; text-decoration-color: #7f7f7f\"> 25  </span>│ encoder.interactions.1.act                  │ ShiftedSoft… │      0 │ train │<span style=\"color: #c0c0c0; text-decoration-color: #c0c0c0\"> [11048, 512] </span>│<span style=\"color: #c0c0c0; text-decoration-color: #c0c0c0\"> [11048, 512] </span>│\n",
       "│<span style=\"color: #7f7f7f; text-decoration-color: #7f7f7f\"> 26  </span>│ encoder.interactions.1.lin                  │ Linear       │  262 K │ train │<span style=\"color: #c0c0c0; text-decoration-color: #c0c0c0\"> [11048, 512] </span>│<span style=\"color: #c0c0c0; text-decoration-color: #c0c0c0\"> [11048, 512] </span>│\n",
       "│<span style=\"color: #7f7f7f; text-decoration-color: #7f7f7f\"> 27  </span>│ encoder.interactions.2                      │ Interaction… │  417 K │ train │<span style=\"color: #c0c0c0; text-decoration-color: #c0c0c0\">     [[11048, </span>│<span style=\"color: #c0c0c0; text-decoration-color: #c0c0c0\"> [11048, 512] </span>│\n",
       "│<span style=\"color: #7f7f7f; text-decoration-color: #7f7f7f\">     </span>│                                             │              │        │       │<span style=\"color: #c0c0c0; text-decoration-color: #c0c0c0\">    512], [2, </span>│<span style=\"color: #c0c0c0; text-decoration-color: #c0c0c0\">              </span>│\n",
       "│<span style=\"color: #7f7f7f; text-decoration-color: #7f7f7f\">     </span>│                                             │              │        │       │<span style=\"color: #c0c0c0; text-decoration-color: #c0c0c0\">     176768], </span>│<span style=\"color: #c0c0c0; text-decoration-color: #c0c0c0\">              </span>│\n",
       "│<span style=\"color: #7f7f7f; text-decoration-color: #7f7f7f\">     </span>│                                             │              │        │       │<span style=\"color: #c0c0c0; text-decoration-color: #c0c0c0\">    [176768], </span>│<span style=\"color: #c0c0c0; text-decoration-color: #c0c0c0\">              </span>│\n",
       "│<span style=\"color: #7f7f7f; text-decoration-color: #7f7f7f\">     </span>│                                             │              │        │       │<span style=\"color: #c0c0c0; text-decoration-color: #c0c0c0\">     [176768, </span>│<span style=\"color: #c0c0c0; text-decoration-color: #c0c0c0\">              </span>│\n",
       "│<span style=\"color: #7f7f7f; text-decoration-color: #7f7f7f\">     </span>│                                             │              │        │       │<span style=\"color: #c0c0c0; text-decoration-color: #c0c0c0\">         50]] </span>│<span style=\"color: #c0c0c0; text-decoration-color: #c0c0c0\">              </span>│\n",
       "│<span style=\"color: #7f7f7f; text-decoration-color: #7f7f7f\"> 28  </span>│ encoder.interactions.2.mlp                  │ Sequential   │ 23.0 K │ train │<span style=\"color: #c0c0c0; text-decoration-color: #c0c0c0\"> [176768, 50] </span>│<span style=\"color: #c0c0c0; text-decoration-color: #c0c0c0\">     [176768, </span>│\n",
       "│<span style=\"color: #7f7f7f; text-decoration-color: #7f7f7f\">     </span>│                                             │              │        │       │<span style=\"color: #c0c0c0; text-decoration-color: #c0c0c0\">              </span>│<span style=\"color: #c0c0c0; text-decoration-color: #c0c0c0\">         128] </span>│\n",
       "│<span style=\"color: #7f7f7f; text-decoration-color: #7f7f7f\"> 29  </span>│ encoder.interactions.2.mlp.0                │ Linear       │  6.5 K │ train │<span style=\"color: #c0c0c0; text-decoration-color: #c0c0c0\"> [176768, 50] </span>│<span style=\"color: #c0c0c0; text-decoration-color: #c0c0c0\">     [176768, </span>│\n",
       "│<span style=\"color: #7f7f7f; text-decoration-color: #7f7f7f\">     </span>│                                             │              │        │       │<span style=\"color: #c0c0c0; text-decoration-color: #c0c0c0\">              </span>│<span style=\"color: #c0c0c0; text-decoration-color: #c0c0c0\">         128] </span>│\n",
       "│<span style=\"color: #7f7f7f; text-decoration-color: #7f7f7f\"> 30  </span>│ encoder.interactions.2.mlp.1                │ ShiftedSoft… │      0 │ train │<span style=\"color: #c0c0c0; text-decoration-color: #c0c0c0\">     [176768, </span>│<span style=\"color: #c0c0c0; text-decoration-color: #c0c0c0\">     [176768, </span>│\n",
       "│<span style=\"color: #7f7f7f; text-decoration-color: #7f7f7f\">     </span>│                                             │              │        │       │<span style=\"color: #c0c0c0; text-decoration-color: #c0c0c0\">         128] </span>│<span style=\"color: #c0c0c0; text-decoration-color: #c0c0c0\">         128] </span>│\n",
       "│<span style=\"color: #7f7f7f; text-decoration-color: #7f7f7f\"> 31  </span>│ encoder.interactions.2.mlp.2                │ Linear       │ 16.5 K │ train │<span style=\"color: #c0c0c0; text-decoration-color: #c0c0c0\">     [176768, </span>│<span style=\"color: #c0c0c0; text-decoration-color: #c0c0c0\">     [176768, </span>│\n",
       "│<span style=\"color: #7f7f7f; text-decoration-color: #7f7f7f\">     </span>│                                             │              │        │       │<span style=\"color: #c0c0c0; text-decoration-color: #c0c0c0\">         128] </span>│<span style=\"color: #c0c0c0; text-decoration-color: #c0c0c0\">         128] </span>│\n",
       "│<span style=\"color: #7f7f7f; text-decoration-color: #7f7f7f\"> 32  </span>│ encoder.interactions.2.conv                 │ CFConv       │  154 K │ train │<span style=\"color: #c0c0c0; text-decoration-color: #c0c0c0\">     [[11048, </span>│<span style=\"color: #c0c0c0; text-decoration-color: #c0c0c0\"> [11048, 512] </span>│\n",
       "│<span style=\"color: #7f7f7f; text-decoration-color: #7f7f7f\">     </span>│                                             │              │        │       │<span style=\"color: #c0c0c0; text-decoration-color: #c0c0c0\">    512], [2, </span>│<span style=\"color: #c0c0c0; text-decoration-color: #c0c0c0\">              </span>│\n",
       "│<span style=\"color: #7f7f7f; text-decoration-color: #7f7f7f\">     </span>│                                             │              │        │       │<span style=\"color: #c0c0c0; text-decoration-color: #c0c0c0\">     176768], </span>│<span style=\"color: #c0c0c0; text-decoration-color: #c0c0c0\">              </span>│\n",
       "│<span style=\"color: #7f7f7f; text-decoration-color: #7f7f7f\">     </span>│                                             │              │        │       │<span style=\"color: #c0c0c0; text-decoration-color: #c0c0c0\">    [176768], </span>│<span style=\"color: #c0c0c0; text-decoration-color: #c0c0c0\">              </span>│\n",
       "│<span style=\"color: #7f7f7f; text-decoration-color: #7f7f7f\">     </span>│                                             │              │        │       │<span style=\"color: #c0c0c0; text-decoration-color: #c0c0c0\">     [176768, </span>│<span style=\"color: #c0c0c0; text-decoration-color: #c0c0c0\">              </span>│\n",
       "│<span style=\"color: #7f7f7f; text-decoration-color: #7f7f7f\">     </span>│                                             │              │        │       │<span style=\"color: #c0c0c0; text-decoration-color: #c0c0c0\">         50]] </span>│<span style=\"color: #c0c0c0; text-decoration-color: #c0c0c0\">              </span>│\n",
       "│<span style=\"color: #7f7f7f; text-decoration-color: #7f7f7f\"> 33  </span>│ encoder.interactions.2.conv.aggr_module     │ SumAggregat… │      0 │ train │<span style=\"color: #c0c0c0; text-decoration-color: #c0c0c0\">    [[176768, </span>│<span style=\"color: #c0c0c0; text-decoration-color: #c0c0c0\"> [11048, 128] </span>│\n",
       "│<span style=\"color: #7f7f7f; text-decoration-color: #7f7f7f\">     </span>│                                             │              │        │       │<span style=\"color: #c0c0c0; text-decoration-color: #c0c0c0\">        128], </span>│<span style=\"color: #c0c0c0; text-decoration-color: #c0c0c0\">              </span>│\n",
       "│<span style=\"color: #7f7f7f; text-decoration-color: #7f7f7f\">     </span>│                                             │              │        │       │<span style=\"color: #c0c0c0; text-decoration-color: #c0c0c0\">    [176768], </span>│<span style=\"color: #c0c0c0; text-decoration-color: #c0c0c0\">              </span>│\n",
       "│<span style=\"color: #7f7f7f; text-decoration-color: #7f7f7f\">     </span>│                                             │              │        │       │<span style=\"color: #c0c0c0; text-decoration-color: #c0c0c0\">    '?', '?', </span>│<span style=\"color: #c0c0c0; text-decoration-color: #c0c0c0\">              </span>│\n",
       "│<span style=\"color: #7f7f7f; text-decoration-color: #7f7f7f\">     </span>│                                             │              │        │       │<span style=\"color: #c0c0c0; text-decoration-color: #c0c0c0\">         '?'] </span>│<span style=\"color: #c0c0c0; text-decoration-color: #c0c0c0\">              </span>│\n",
       "│<span style=\"color: #7f7f7f; text-decoration-color: #7f7f7f\"> 34  </span>│ encoder.interactions.2.conv.lin1            │ Linear       │ 65.5 K │ train │<span style=\"color: #c0c0c0; text-decoration-color: #c0c0c0\"> [11048, 512] </span>│<span style=\"color: #c0c0c0; text-decoration-color: #c0c0c0\"> [11048, 128] </span>│\n",
       "│<span style=\"color: #7f7f7f; text-decoration-color: #7f7f7f\"> 35  </span>│ encoder.interactions.2.conv.lin2            │ Linear       │ 66.0 K │ train │<span style=\"color: #c0c0c0; text-decoration-color: #c0c0c0\"> [11048, 128] </span>│<span style=\"color: #c0c0c0; text-decoration-color: #c0c0c0\"> [11048, 512] </span>│\n",
       "│<span style=\"color: #7f7f7f; text-decoration-color: #7f7f7f\"> 36  </span>│ encoder.interactions.2.act                  │ ShiftedSoft… │      0 │ train │<span style=\"color: #c0c0c0; text-decoration-color: #c0c0c0\"> [11048, 512] </span>│<span style=\"color: #c0c0c0; text-decoration-color: #c0c0c0\"> [11048, 512] </span>│\n",
       "│<span style=\"color: #7f7f7f; text-decoration-color: #7f7f7f\"> 37  </span>│ encoder.interactions.2.lin                  │ Linear       │  262 K │ train │<span style=\"color: #c0c0c0; text-decoration-color: #c0c0c0\"> [11048, 512] </span>│<span style=\"color: #c0c0c0; text-decoration-color: #c0c0c0\"> [11048, 512] </span>│\n",
       "│<span style=\"color: #7f7f7f; text-decoration-color: #7f7f7f\"> 38  </span>│ encoder.interactions.3                      │ Interaction… │  417 K │ train │<span style=\"color: #c0c0c0; text-decoration-color: #c0c0c0\">     [[11048, </span>│<span style=\"color: #c0c0c0; text-decoration-color: #c0c0c0\"> [11048, 512] </span>│\n",
       "│<span style=\"color: #7f7f7f; text-decoration-color: #7f7f7f\">     </span>│                                             │              │        │       │<span style=\"color: #c0c0c0; text-decoration-color: #c0c0c0\">    512], [2, </span>│<span style=\"color: #c0c0c0; text-decoration-color: #c0c0c0\">              </span>│\n",
       "│<span style=\"color: #7f7f7f; text-decoration-color: #7f7f7f\">     </span>│                                             │              │        │       │<span style=\"color: #c0c0c0; text-decoration-color: #c0c0c0\">     176768], </span>│<span style=\"color: #c0c0c0; text-decoration-color: #c0c0c0\">              </span>│\n",
       "│<span style=\"color: #7f7f7f; text-decoration-color: #7f7f7f\">     </span>│                                             │              │        │       │<span style=\"color: #c0c0c0; text-decoration-color: #c0c0c0\">    [176768], </span>│<span style=\"color: #c0c0c0; text-decoration-color: #c0c0c0\">              </span>│\n",
       "│<span style=\"color: #7f7f7f; text-decoration-color: #7f7f7f\">     </span>│                                             │              │        │       │<span style=\"color: #c0c0c0; text-decoration-color: #c0c0c0\">     [176768, </span>│<span style=\"color: #c0c0c0; text-decoration-color: #c0c0c0\">              </span>│\n",
       "│<span style=\"color: #7f7f7f; text-decoration-color: #7f7f7f\">     </span>│                                             │              │        │       │<span style=\"color: #c0c0c0; text-decoration-color: #c0c0c0\">         50]] </span>│<span style=\"color: #c0c0c0; text-decoration-color: #c0c0c0\">              </span>│\n",
       "│<span style=\"color: #7f7f7f; text-decoration-color: #7f7f7f\"> 39  </span>│ encoder.interactions.3.mlp                  │ Sequential   │ 23.0 K │ train │<span style=\"color: #c0c0c0; text-decoration-color: #c0c0c0\"> [176768, 50] </span>│<span style=\"color: #c0c0c0; text-decoration-color: #c0c0c0\">     [176768, </span>│\n",
       "│<span style=\"color: #7f7f7f; text-decoration-color: #7f7f7f\">     </span>│                                             │              │        │       │<span style=\"color: #c0c0c0; text-decoration-color: #c0c0c0\">              </span>│<span style=\"color: #c0c0c0; text-decoration-color: #c0c0c0\">         128] </span>│\n",
       "│<span style=\"color: #7f7f7f; text-decoration-color: #7f7f7f\"> 40  </span>│ encoder.interactions.3.mlp.0                │ Linear       │  6.5 K │ train │<span style=\"color: #c0c0c0; text-decoration-color: #c0c0c0\"> [176768, 50] </span>│<span style=\"color: #c0c0c0; text-decoration-color: #c0c0c0\">     [176768, </span>│\n",
       "│<span style=\"color: #7f7f7f; text-decoration-color: #7f7f7f\">     </span>│                                             │              │        │       │<span style=\"color: #c0c0c0; text-decoration-color: #c0c0c0\">              </span>│<span style=\"color: #c0c0c0; text-decoration-color: #c0c0c0\">         128] </span>│\n",
       "│<span style=\"color: #7f7f7f; text-decoration-color: #7f7f7f\"> 41  </span>│ encoder.interactions.3.mlp.1                │ ShiftedSoft… │      0 │ train │<span style=\"color: #c0c0c0; text-decoration-color: #c0c0c0\">     [176768, </span>│<span style=\"color: #c0c0c0; text-decoration-color: #c0c0c0\">     [176768, </span>│\n",
       "│<span style=\"color: #7f7f7f; text-decoration-color: #7f7f7f\">     </span>│                                             │              │        │       │<span style=\"color: #c0c0c0; text-decoration-color: #c0c0c0\">         128] </span>│<span style=\"color: #c0c0c0; text-decoration-color: #c0c0c0\">         128] </span>│\n",
       "│<span style=\"color: #7f7f7f; text-decoration-color: #7f7f7f\"> 42  </span>│ encoder.interactions.3.mlp.2                │ Linear       │ 16.5 K │ train │<span style=\"color: #c0c0c0; text-decoration-color: #c0c0c0\">     [176768, </span>│<span style=\"color: #c0c0c0; text-decoration-color: #c0c0c0\">     [176768, </span>│\n",
       "│<span style=\"color: #7f7f7f; text-decoration-color: #7f7f7f\">     </span>│                                             │              │        │       │<span style=\"color: #c0c0c0; text-decoration-color: #c0c0c0\">         128] </span>│<span style=\"color: #c0c0c0; text-decoration-color: #c0c0c0\">         128] </span>│\n",
       "│<span style=\"color: #7f7f7f; text-decoration-color: #7f7f7f\"> 43  </span>│ encoder.interactions.3.conv                 │ CFConv       │  154 K │ train │<span style=\"color: #c0c0c0; text-decoration-color: #c0c0c0\">     [[11048, </span>│<span style=\"color: #c0c0c0; text-decoration-color: #c0c0c0\"> [11048, 512] </span>│\n",
       "│<span style=\"color: #7f7f7f; text-decoration-color: #7f7f7f\">     </span>│                                             │              │        │       │<span style=\"color: #c0c0c0; text-decoration-color: #c0c0c0\">    512], [2, </span>│<span style=\"color: #c0c0c0; text-decoration-color: #c0c0c0\">              </span>│\n",
       "│<span style=\"color: #7f7f7f; text-decoration-color: #7f7f7f\">     </span>│                                             │              │        │       │<span style=\"color: #c0c0c0; text-decoration-color: #c0c0c0\">     176768], </span>│<span style=\"color: #c0c0c0; text-decoration-color: #c0c0c0\">              </span>│\n",
       "│<span style=\"color: #7f7f7f; text-decoration-color: #7f7f7f\">     </span>│                                             │              │        │       │<span style=\"color: #c0c0c0; text-decoration-color: #c0c0c0\">    [176768], </span>│<span style=\"color: #c0c0c0; text-decoration-color: #c0c0c0\">              </span>│\n",
       "│<span style=\"color: #7f7f7f; text-decoration-color: #7f7f7f\">     </span>│                                             │              │        │       │<span style=\"color: #c0c0c0; text-decoration-color: #c0c0c0\">     [176768, </span>│<span style=\"color: #c0c0c0; text-decoration-color: #c0c0c0\">              </span>│\n",
       "│<span style=\"color: #7f7f7f; text-decoration-color: #7f7f7f\">     </span>│                                             │              │        │       │<span style=\"color: #c0c0c0; text-decoration-color: #c0c0c0\">         50]] </span>│<span style=\"color: #c0c0c0; text-decoration-color: #c0c0c0\">              </span>│\n",
       "│<span style=\"color: #7f7f7f; text-decoration-color: #7f7f7f\"> 44  </span>│ encoder.interactions.3.conv.aggr_module     │ SumAggregat… │      0 │ train │<span style=\"color: #c0c0c0; text-decoration-color: #c0c0c0\">    [[176768, </span>│<span style=\"color: #c0c0c0; text-decoration-color: #c0c0c0\"> [11048, 128] </span>│\n",
       "│<span style=\"color: #7f7f7f; text-decoration-color: #7f7f7f\">     </span>│                                             │              │        │       │<span style=\"color: #c0c0c0; text-decoration-color: #c0c0c0\">        128], </span>│<span style=\"color: #c0c0c0; text-decoration-color: #c0c0c0\">              </span>│\n",
       "│<span style=\"color: #7f7f7f; text-decoration-color: #7f7f7f\">     </span>│                                             │              │        │       │<span style=\"color: #c0c0c0; text-decoration-color: #c0c0c0\">    [176768], </span>│<span style=\"color: #c0c0c0; text-decoration-color: #c0c0c0\">              </span>│\n",
       "│<span style=\"color: #7f7f7f; text-decoration-color: #7f7f7f\">     </span>│                                             │              │        │       │<span style=\"color: #c0c0c0; text-decoration-color: #c0c0c0\">    '?', '?', </span>│<span style=\"color: #c0c0c0; text-decoration-color: #c0c0c0\">              </span>│\n",
       "│<span style=\"color: #7f7f7f; text-decoration-color: #7f7f7f\">     </span>│                                             │              │        │       │<span style=\"color: #c0c0c0; text-decoration-color: #c0c0c0\">         '?'] </span>│<span style=\"color: #c0c0c0; text-decoration-color: #c0c0c0\">              </span>│\n",
       "│<span style=\"color: #7f7f7f; text-decoration-color: #7f7f7f\"> 45  </span>│ encoder.interactions.3.conv.lin1            │ Linear       │ 65.5 K │ train │<span style=\"color: #c0c0c0; text-decoration-color: #c0c0c0\"> [11048, 512] </span>│<span style=\"color: #c0c0c0; text-decoration-color: #c0c0c0\"> [11048, 128] </span>│\n",
       "│<span style=\"color: #7f7f7f; text-decoration-color: #7f7f7f\"> 46  </span>│ encoder.interactions.3.conv.lin2            │ Linear       │ 66.0 K │ train │<span style=\"color: #c0c0c0; text-decoration-color: #c0c0c0\"> [11048, 128] </span>│<span style=\"color: #c0c0c0; text-decoration-color: #c0c0c0\"> [11048, 512] </span>│\n",
       "│<span style=\"color: #7f7f7f; text-decoration-color: #7f7f7f\"> 47  </span>│ encoder.interactions.3.act                  │ ShiftedSoft… │      0 │ train │<span style=\"color: #c0c0c0; text-decoration-color: #c0c0c0\"> [11048, 512] </span>│<span style=\"color: #c0c0c0; text-decoration-color: #c0c0c0\"> [11048, 512] </span>│\n",
       "│<span style=\"color: #7f7f7f; text-decoration-color: #7f7f7f\"> 48  </span>│ encoder.interactions.3.lin                  │ Linear       │  262 K │ train │<span style=\"color: #c0c0c0; text-decoration-color: #c0c0c0\"> [11048, 512] </span>│<span style=\"color: #c0c0c0; text-decoration-color: #c0c0c0\"> [11048, 512] </span>│\n",
       "│<span style=\"color: #7f7f7f; text-decoration-color: #7f7f7f\"> 49  </span>│ encoder.interactions.4                      │ Interaction… │  417 K │ train │<span style=\"color: #c0c0c0; text-decoration-color: #c0c0c0\">     [[11048, </span>│<span style=\"color: #c0c0c0; text-decoration-color: #c0c0c0\"> [11048, 512] </span>│\n",
       "│<span style=\"color: #7f7f7f; text-decoration-color: #7f7f7f\">     </span>│                                             │              │        │       │<span style=\"color: #c0c0c0; text-decoration-color: #c0c0c0\">    512], [2, </span>│<span style=\"color: #c0c0c0; text-decoration-color: #c0c0c0\">              </span>│\n",
       "│<span style=\"color: #7f7f7f; text-decoration-color: #7f7f7f\">     </span>│                                             │              │        │       │<span style=\"color: #c0c0c0; text-decoration-color: #c0c0c0\">     176768], </span>│<span style=\"color: #c0c0c0; text-decoration-color: #c0c0c0\">              </span>│\n",
       "│<span style=\"color: #7f7f7f; text-decoration-color: #7f7f7f\">     </span>│                                             │              │        │       │<span style=\"color: #c0c0c0; text-decoration-color: #c0c0c0\">    [176768], </span>│<span style=\"color: #c0c0c0; text-decoration-color: #c0c0c0\">              </span>│\n",
       "│<span style=\"color: #7f7f7f; text-decoration-color: #7f7f7f\">     </span>│                                             │              │        │       │<span style=\"color: #c0c0c0; text-decoration-color: #c0c0c0\">     [176768, </span>│<span style=\"color: #c0c0c0; text-decoration-color: #c0c0c0\">              </span>│\n",
       "│<span style=\"color: #7f7f7f; text-decoration-color: #7f7f7f\">     </span>│                                             │              │        │       │<span style=\"color: #c0c0c0; text-decoration-color: #c0c0c0\">         50]] </span>│<span style=\"color: #c0c0c0; text-decoration-color: #c0c0c0\">              </span>│\n",
       "│<span style=\"color: #7f7f7f; text-decoration-color: #7f7f7f\"> 50  </span>│ encoder.interactions.4.mlp                  │ Sequential   │ 23.0 K │ train │<span style=\"color: #c0c0c0; text-decoration-color: #c0c0c0\"> [176768, 50] </span>│<span style=\"color: #c0c0c0; text-decoration-color: #c0c0c0\">     [176768, </span>│\n",
       "│<span style=\"color: #7f7f7f; text-decoration-color: #7f7f7f\">     </span>│                                             │              │        │       │<span style=\"color: #c0c0c0; text-decoration-color: #c0c0c0\">              </span>│<span style=\"color: #c0c0c0; text-decoration-color: #c0c0c0\">         128] </span>│\n",
       "│<span style=\"color: #7f7f7f; text-decoration-color: #7f7f7f\"> 51  </span>│ encoder.interactions.4.mlp.0                │ Linear       │  6.5 K │ train │<span style=\"color: #c0c0c0; text-decoration-color: #c0c0c0\"> [176768, 50] </span>│<span style=\"color: #c0c0c0; text-decoration-color: #c0c0c0\">     [176768, </span>│\n",
       "│<span style=\"color: #7f7f7f; text-decoration-color: #7f7f7f\">     </span>│                                             │              │        │       │<span style=\"color: #c0c0c0; text-decoration-color: #c0c0c0\">              </span>│<span style=\"color: #c0c0c0; text-decoration-color: #c0c0c0\">         128] </span>│\n",
       "│<span style=\"color: #7f7f7f; text-decoration-color: #7f7f7f\"> 52  </span>│ encoder.interactions.4.mlp.1                │ ShiftedSoft… │      0 │ train │<span style=\"color: #c0c0c0; text-decoration-color: #c0c0c0\">     [176768, </span>│<span style=\"color: #c0c0c0; text-decoration-color: #c0c0c0\">     [176768, </span>│\n",
       "│<span style=\"color: #7f7f7f; text-decoration-color: #7f7f7f\">     </span>│                                             │              │        │       │<span style=\"color: #c0c0c0; text-decoration-color: #c0c0c0\">         128] </span>│<span style=\"color: #c0c0c0; text-decoration-color: #c0c0c0\">         128] </span>│\n",
       "│<span style=\"color: #7f7f7f; text-decoration-color: #7f7f7f\"> 53  </span>│ encoder.interactions.4.mlp.2                │ Linear       │ 16.5 K │ train │<span style=\"color: #c0c0c0; text-decoration-color: #c0c0c0\">     [176768, </span>│<span style=\"color: #c0c0c0; text-decoration-color: #c0c0c0\">     [176768, </span>│\n",
       "│<span style=\"color: #7f7f7f; text-decoration-color: #7f7f7f\">     </span>│                                             │              │        │       │<span style=\"color: #c0c0c0; text-decoration-color: #c0c0c0\">         128] </span>│<span style=\"color: #c0c0c0; text-decoration-color: #c0c0c0\">         128] </span>│\n",
       "│<span style=\"color: #7f7f7f; text-decoration-color: #7f7f7f\"> 54  </span>│ encoder.interactions.4.conv                 │ CFConv       │  154 K │ train │<span style=\"color: #c0c0c0; text-decoration-color: #c0c0c0\">     [[11048, </span>│<span style=\"color: #c0c0c0; text-decoration-color: #c0c0c0\"> [11048, 512] </span>│\n",
       "│<span style=\"color: #7f7f7f; text-decoration-color: #7f7f7f\">     </span>│                                             │              │        │       │<span style=\"color: #c0c0c0; text-decoration-color: #c0c0c0\">    512], [2, </span>│<span style=\"color: #c0c0c0; text-decoration-color: #c0c0c0\">              </span>│\n",
       "│<span style=\"color: #7f7f7f; text-decoration-color: #7f7f7f\">     </span>│                                             │              │        │       │<span style=\"color: #c0c0c0; text-decoration-color: #c0c0c0\">     176768], </span>│<span style=\"color: #c0c0c0; text-decoration-color: #c0c0c0\">              </span>│\n",
       "│<span style=\"color: #7f7f7f; text-decoration-color: #7f7f7f\">     </span>│                                             │              │        │       │<span style=\"color: #c0c0c0; text-decoration-color: #c0c0c0\">    [176768], </span>│<span style=\"color: #c0c0c0; text-decoration-color: #c0c0c0\">              </span>│\n",
       "│<span style=\"color: #7f7f7f; text-decoration-color: #7f7f7f\">     </span>│                                             │              │        │       │<span style=\"color: #c0c0c0; text-decoration-color: #c0c0c0\">     [176768, </span>│<span style=\"color: #c0c0c0; text-decoration-color: #c0c0c0\">              </span>│\n",
       "│<span style=\"color: #7f7f7f; text-decoration-color: #7f7f7f\">     </span>│                                             │              │        │       │<span style=\"color: #c0c0c0; text-decoration-color: #c0c0c0\">         50]] </span>│<span style=\"color: #c0c0c0; text-decoration-color: #c0c0c0\">              </span>│\n",
       "│<span style=\"color: #7f7f7f; text-decoration-color: #7f7f7f\"> 55  </span>│ encoder.interactions.4.conv.aggr_module     │ SumAggregat… │      0 │ train │<span style=\"color: #c0c0c0; text-decoration-color: #c0c0c0\">    [[176768, </span>│<span style=\"color: #c0c0c0; text-decoration-color: #c0c0c0\"> [11048, 128] </span>│\n",
       "│<span style=\"color: #7f7f7f; text-decoration-color: #7f7f7f\">     </span>│                                             │              │        │       │<span style=\"color: #c0c0c0; text-decoration-color: #c0c0c0\">        128], </span>│<span style=\"color: #c0c0c0; text-decoration-color: #c0c0c0\">              </span>│\n",
       "│<span style=\"color: #7f7f7f; text-decoration-color: #7f7f7f\">     </span>│                                             │              │        │       │<span style=\"color: #c0c0c0; text-decoration-color: #c0c0c0\">    [176768], </span>│<span style=\"color: #c0c0c0; text-decoration-color: #c0c0c0\">              </span>│\n",
       "│<span style=\"color: #7f7f7f; text-decoration-color: #7f7f7f\">     </span>│                                             │              │        │       │<span style=\"color: #c0c0c0; text-decoration-color: #c0c0c0\">    '?', '?', </span>│<span style=\"color: #c0c0c0; text-decoration-color: #c0c0c0\">              </span>│\n",
       "│<span style=\"color: #7f7f7f; text-decoration-color: #7f7f7f\">     </span>│                                             │              │        │       │<span style=\"color: #c0c0c0; text-decoration-color: #c0c0c0\">         '?'] </span>│<span style=\"color: #c0c0c0; text-decoration-color: #c0c0c0\">              </span>│\n",
       "│<span style=\"color: #7f7f7f; text-decoration-color: #7f7f7f\"> 56  </span>│ encoder.interactions.4.conv.lin1            │ Linear       │ 65.5 K │ train │<span style=\"color: #c0c0c0; text-decoration-color: #c0c0c0\"> [11048, 512] </span>│<span style=\"color: #c0c0c0; text-decoration-color: #c0c0c0\"> [11048, 128] </span>│\n",
       "│<span style=\"color: #7f7f7f; text-decoration-color: #7f7f7f\"> 57  </span>│ encoder.interactions.4.conv.lin2            │ Linear       │ 66.0 K │ train │<span style=\"color: #c0c0c0; text-decoration-color: #c0c0c0\"> [11048, 128] </span>│<span style=\"color: #c0c0c0; text-decoration-color: #c0c0c0\"> [11048, 512] </span>│\n",
       "│<span style=\"color: #7f7f7f; text-decoration-color: #7f7f7f\"> 58  </span>│ encoder.interactions.4.act                  │ ShiftedSoft… │      0 │ train │<span style=\"color: #c0c0c0; text-decoration-color: #c0c0c0\"> [11048, 512] </span>│<span style=\"color: #c0c0c0; text-decoration-color: #c0c0c0\"> [11048, 512] </span>│\n",
       "│<span style=\"color: #7f7f7f; text-decoration-color: #7f7f7f\"> 59  </span>│ encoder.interactions.4.lin                  │ Linear       │  262 K │ train │<span style=\"color: #c0c0c0; text-decoration-color: #c0c0c0\"> [11048, 512] </span>│<span style=\"color: #c0c0c0; text-decoration-color: #c0c0c0\"> [11048, 512] </span>│\n",
       "│<span style=\"color: #7f7f7f; text-decoration-color: #7f7f7f\"> 60  </span>│ encoder.interactions.5                      │ Interaction… │  417 K │ train │<span style=\"color: #c0c0c0; text-decoration-color: #c0c0c0\">     [[11048, </span>│<span style=\"color: #c0c0c0; text-decoration-color: #c0c0c0\"> [11048, 512] </span>│\n",
       "│<span style=\"color: #7f7f7f; text-decoration-color: #7f7f7f\">     </span>│                                             │              │        │       │<span style=\"color: #c0c0c0; text-decoration-color: #c0c0c0\">    512], [2, </span>│<span style=\"color: #c0c0c0; text-decoration-color: #c0c0c0\">              </span>│\n",
       "│<span style=\"color: #7f7f7f; text-decoration-color: #7f7f7f\">     </span>│                                             │              │        │       │<span style=\"color: #c0c0c0; text-decoration-color: #c0c0c0\">     176768], </span>│<span style=\"color: #c0c0c0; text-decoration-color: #c0c0c0\">              </span>│\n",
       "│<span style=\"color: #7f7f7f; text-decoration-color: #7f7f7f\">     </span>│                                             │              │        │       │<span style=\"color: #c0c0c0; text-decoration-color: #c0c0c0\">    [176768], </span>│<span style=\"color: #c0c0c0; text-decoration-color: #c0c0c0\">              </span>│\n",
       "│<span style=\"color: #7f7f7f; text-decoration-color: #7f7f7f\">     </span>│                                             │              │        │       │<span style=\"color: #c0c0c0; text-decoration-color: #c0c0c0\">     [176768, </span>│<span style=\"color: #c0c0c0; text-decoration-color: #c0c0c0\">              </span>│\n",
       "│<span style=\"color: #7f7f7f; text-decoration-color: #7f7f7f\">     </span>│                                             │              │        │       │<span style=\"color: #c0c0c0; text-decoration-color: #c0c0c0\">         50]] </span>│<span style=\"color: #c0c0c0; text-decoration-color: #c0c0c0\">              </span>│\n",
       "│<span style=\"color: #7f7f7f; text-decoration-color: #7f7f7f\"> 61  </span>│ encoder.interactions.5.mlp                  │ Sequential   │ 23.0 K │ train │<span style=\"color: #c0c0c0; text-decoration-color: #c0c0c0\"> [176768, 50] </span>│<span style=\"color: #c0c0c0; text-decoration-color: #c0c0c0\">     [176768, </span>│\n",
       "│<span style=\"color: #7f7f7f; text-decoration-color: #7f7f7f\">     </span>│                                             │              │        │       │<span style=\"color: #c0c0c0; text-decoration-color: #c0c0c0\">              </span>│<span style=\"color: #c0c0c0; text-decoration-color: #c0c0c0\">         128] </span>│\n",
       "│<span style=\"color: #7f7f7f; text-decoration-color: #7f7f7f\"> 62  </span>│ encoder.interactions.5.mlp.0                │ Linear       │  6.5 K │ train │<span style=\"color: #c0c0c0; text-decoration-color: #c0c0c0\"> [176768, 50] </span>│<span style=\"color: #c0c0c0; text-decoration-color: #c0c0c0\">     [176768, </span>│\n",
       "│<span style=\"color: #7f7f7f; text-decoration-color: #7f7f7f\">     </span>│                                             │              │        │       │<span style=\"color: #c0c0c0; text-decoration-color: #c0c0c0\">              </span>│<span style=\"color: #c0c0c0; text-decoration-color: #c0c0c0\">         128] </span>│\n",
       "│<span style=\"color: #7f7f7f; text-decoration-color: #7f7f7f\"> 63  </span>│ encoder.interactions.5.mlp.1                │ ShiftedSoft… │      0 │ train │<span style=\"color: #c0c0c0; text-decoration-color: #c0c0c0\">     [176768, </span>│<span style=\"color: #c0c0c0; text-decoration-color: #c0c0c0\">     [176768, </span>│\n",
       "│<span style=\"color: #7f7f7f; text-decoration-color: #7f7f7f\">     </span>│                                             │              │        │       │<span style=\"color: #c0c0c0; text-decoration-color: #c0c0c0\">         128] </span>│<span style=\"color: #c0c0c0; text-decoration-color: #c0c0c0\">         128] </span>│\n",
       "│<span style=\"color: #7f7f7f; text-decoration-color: #7f7f7f\"> 64  </span>│ encoder.interactions.5.mlp.2                │ Linear       │ 16.5 K │ train │<span style=\"color: #c0c0c0; text-decoration-color: #c0c0c0\">     [176768, </span>│<span style=\"color: #c0c0c0; text-decoration-color: #c0c0c0\">     [176768, </span>│\n",
       "│<span style=\"color: #7f7f7f; text-decoration-color: #7f7f7f\">     </span>│                                             │              │        │       │<span style=\"color: #c0c0c0; text-decoration-color: #c0c0c0\">         128] </span>│<span style=\"color: #c0c0c0; text-decoration-color: #c0c0c0\">         128] </span>│\n",
       "│<span style=\"color: #7f7f7f; text-decoration-color: #7f7f7f\"> 65  </span>│ encoder.interactions.5.conv                 │ CFConv       │  154 K │ train │<span style=\"color: #c0c0c0; text-decoration-color: #c0c0c0\">     [[11048, </span>│<span style=\"color: #c0c0c0; text-decoration-color: #c0c0c0\"> [11048, 512] </span>│\n",
       "│<span style=\"color: #7f7f7f; text-decoration-color: #7f7f7f\">     </span>│                                             │              │        │       │<span style=\"color: #c0c0c0; text-decoration-color: #c0c0c0\">    512], [2, </span>│<span style=\"color: #c0c0c0; text-decoration-color: #c0c0c0\">              </span>│\n",
       "│<span style=\"color: #7f7f7f; text-decoration-color: #7f7f7f\">     </span>│                                             │              │        │       │<span style=\"color: #c0c0c0; text-decoration-color: #c0c0c0\">     176768], </span>│<span style=\"color: #c0c0c0; text-decoration-color: #c0c0c0\">              </span>│\n",
       "│<span style=\"color: #7f7f7f; text-decoration-color: #7f7f7f\">     </span>│                                             │              │        │       │<span style=\"color: #c0c0c0; text-decoration-color: #c0c0c0\">    [176768], </span>│<span style=\"color: #c0c0c0; text-decoration-color: #c0c0c0\">              </span>│\n",
       "│<span style=\"color: #7f7f7f; text-decoration-color: #7f7f7f\">     </span>│                                             │              │        │       │<span style=\"color: #c0c0c0; text-decoration-color: #c0c0c0\">     [176768, </span>│<span style=\"color: #c0c0c0; text-decoration-color: #c0c0c0\">              </span>│\n",
       "│<span style=\"color: #7f7f7f; text-decoration-color: #7f7f7f\">     </span>│                                             │              │        │       │<span style=\"color: #c0c0c0; text-decoration-color: #c0c0c0\">         50]] </span>│<span style=\"color: #c0c0c0; text-decoration-color: #c0c0c0\">              </span>│\n",
       "│<span style=\"color: #7f7f7f; text-decoration-color: #7f7f7f\"> 66  </span>│ encoder.interactions.5.conv.aggr_module     │ SumAggregat… │      0 │ train │<span style=\"color: #c0c0c0; text-decoration-color: #c0c0c0\">    [[176768, </span>│<span style=\"color: #c0c0c0; text-decoration-color: #c0c0c0\"> [11048, 128] </span>│\n",
       "│<span style=\"color: #7f7f7f; text-decoration-color: #7f7f7f\">     </span>│                                             │              │        │       │<span style=\"color: #c0c0c0; text-decoration-color: #c0c0c0\">        128], </span>│<span style=\"color: #c0c0c0; text-decoration-color: #c0c0c0\">              </span>│\n",
       "│<span style=\"color: #7f7f7f; text-decoration-color: #7f7f7f\">     </span>│                                             │              │        │       │<span style=\"color: #c0c0c0; text-decoration-color: #c0c0c0\">    [176768], </span>│<span style=\"color: #c0c0c0; text-decoration-color: #c0c0c0\">              </span>│\n",
       "│<span style=\"color: #7f7f7f; text-decoration-color: #7f7f7f\">     </span>│                                             │              │        │       │<span style=\"color: #c0c0c0; text-decoration-color: #c0c0c0\">    '?', '?', </span>│<span style=\"color: #c0c0c0; text-decoration-color: #c0c0c0\">              </span>│\n",
       "│<span style=\"color: #7f7f7f; text-decoration-color: #7f7f7f\">     </span>│                                             │              │        │       │<span style=\"color: #c0c0c0; text-decoration-color: #c0c0c0\">         '?'] </span>│<span style=\"color: #c0c0c0; text-decoration-color: #c0c0c0\">              </span>│\n",
       "│<span style=\"color: #7f7f7f; text-decoration-color: #7f7f7f\"> 67  </span>│ encoder.interactions.5.conv.lin1            │ Linear       │ 65.5 K │ train │<span style=\"color: #c0c0c0; text-decoration-color: #c0c0c0\"> [11048, 512] </span>│<span style=\"color: #c0c0c0; text-decoration-color: #c0c0c0\"> [11048, 128] </span>│\n",
       "│<span style=\"color: #7f7f7f; text-decoration-color: #7f7f7f\"> 68  </span>│ encoder.interactions.5.conv.lin2            │ Linear       │ 66.0 K │ train │<span style=\"color: #c0c0c0; text-decoration-color: #c0c0c0\"> [11048, 128] </span>│<span style=\"color: #c0c0c0; text-decoration-color: #c0c0c0\"> [11048, 512] </span>│\n",
       "│<span style=\"color: #7f7f7f; text-decoration-color: #7f7f7f\"> 69  </span>│ encoder.interactions.5.act                  │ ShiftedSoft… │      0 │ train │<span style=\"color: #c0c0c0; text-decoration-color: #c0c0c0\"> [11048, 512] </span>│<span style=\"color: #c0c0c0; text-decoration-color: #c0c0c0\"> [11048, 512] </span>│\n",
       "│<span style=\"color: #7f7f7f; text-decoration-color: #7f7f7f\"> 70  </span>│ encoder.interactions.5.lin                  │ Linear       │  262 K │ train │<span style=\"color: #c0c0c0; text-decoration-color: #c0c0c0\"> [11048, 512] </span>│<span style=\"color: #c0c0c0; text-decoration-color: #c0c0c0\"> [11048, 512] </span>│\n",
       "│<span style=\"color: #7f7f7f; text-decoration-color: #7f7f7f\"> 71  </span>│ encoder.lin1                                │ Linear       │  131 K │ train │<span style=\"color: #c0c0c0; text-decoration-color: #c0c0c0\"> [11048, 512] </span>│<span style=\"color: #c0c0c0; text-decoration-color: #c0c0c0\"> [11048, 256] </span>│\n",
       "│<span style=\"color: #7f7f7f; text-decoration-color: #7f7f7f\"> 72  </span>│ encoder.act                                 │ ShiftedSoft… │      0 │ train │<span style=\"color: #c0c0c0; text-decoration-color: #c0c0c0\"> [11048, 256] </span>│<span style=\"color: #c0c0c0; text-decoration-color: #c0c0c0\"> [11048, 256] </span>│\n",
       "│<span style=\"color: #7f7f7f; text-decoration-color: #7f7f7f\"> 73  </span>│ encoder.lin2                                │ Linear       │  8.2 K │ train │<span style=\"color: #c0c0c0; text-decoration-color: #c0c0c0\"> [11048, 256] </span>│<span style=\"color: #c0c0c0; text-decoration-color: #c0c0c0\">  [11048, 32] </span>│\n",
       "│<span style=\"color: #7f7f7f; text-decoration-color: #7f7f7f\"> 74  </span>│ decoder                                     │ ModuleDict   │  2.7 M │ train │<span style=\"color: #c0c0c0; text-decoration-color: #c0c0c0\">            ? </span>│<span style=\"color: #c0c0c0; text-decoration-color: #c0c0c0\">            ? </span>│\n",
       "│<span style=\"color: #7f7f7f; text-decoration-color: #7f7f7f\"> 75  </span>│ decoder.graph_label                         │ MLPDecoder   │  2.7 M │ train │<span style=\"color: #c0c0c0; text-decoration-color: #c0c0c0\">     [32, 32] </span>│<span style=\"color: #c0c0c0; text-decoration-color: #c0c0c0\">   [32, 1195] </span>│\n",
       "│<span style=\"color: #7f7f7f; text-decoration-color: #7f7f7f\"> 76  </span>│ decoder.graph_label.layers                  │ LinearSkipB… │  2.7 M │ train │<span style=\"color: #c0c0c0; text-decoration-color: #c0c0c0\">     [32, 32] </span>│<span style=\"color: #c0c0c0; text-decoration-color: #c0c0c0\">   [32, 1195] </span>│\n",
       "│<span style=\"color: #7f7f7f; text-decoration-color: #7f7f7f\"> 77  </span>│ decoder.graph_label.layers.layers           │ ModuleList   │  2.7 M │ train │<span style=\"color: #c0c0c0; text-decoration-color: #c0c0c0\">            ? </span>│<span style=\"color: #c0c0c0; text-decoration-color: #c0c0c0\">            ? </span>│\n",
       "│<span style=\"color: #7f7f7f; text-decoration-color: #7f7f7f\"> 78  </span>│ decoder.graph_label.layers.layers.0         │ Linear       │ 16.9 K │ train │<span style=\"color: #c0c0c0; text-decoration-color: #c0c0c0\">     [32, 32] </span>│<span style=\"color: #c0c0c0; text-decoration-color: #c0c0c0\">    [32, 512] </span>│\n",
       "│<span style=\"color: #7f7f7f; text-decoration-color: #7f7f7f\"> 79  </span>│ decoder.graph_label.layers.layers.1         │ Linear       │  279 K │ train │<span style=\"color: #c0c0c0; text-decoration-color: #c0c0c0\">    [32, 544] </span>│<span style=\"color: #c0c0c0; text-decoration-color: #c0c0c0\">    [32, 512] </span>│\n",
       "│<span style=\"color: #7f7f7f; text-decoration-color: #7f7f7f\"> 80  </span>│ decoder.graph_label.layers.layers.2         │ Linear       │  541 K │ train │<span style=\"color: #c0c0c0; text-decoration-color: #c0c0c0\">   [32, 1056] </span>│<span style=\"color: #c0c0c0; text-decoration-color: #c0c0c0\">    [32, 512] </span>│\n",
       "│<span style=\"color: #7f7f7f; text-decoration-color: #7f7f7f\"> 81  </span>│ decoder.graph_label.layers.layers.3         │ Linear       │  1.9 M │ train │<span style=\"color: #c0c0c0; text-decoration-color: #c0c0c0\">   [32, 1568] </span>│<span style=\"color: #c0c0c0; text-decoration-color: #c0c0c0\">   [32, 1195] </span>│\n",
       "│<span style=\"color: #7f7f7f; text-decoration-color: #7f7f7f\"> 82  </span>│ decoder.graph_label.layers.activations      │ ModuleList   │      0 │ train │<span style=\"color: #c0c0c0; text-decoration-color: #c0c0c0\">            ? </span>│<span style=\"color: #c0c0c0; text-decoration-color: #c0c0c0\">            ? </span>│\n",
       "│<span style=\"color: #7f7f7f; text-decoration-color: #7f7f7f\"> 83  </span>│ decoder.graph_label.layers.activations.0    │ ReLU         │      0 │ train │<span style=\"color: #c0c0c0; text-decoration-color: #c0c0c0\">    [32, 512] </span>│<span style=\"color: #c0c0c0; text-decoration-color: #c0c0c0\">    [32, 512] </span>│\n",
       "│<span style=\"color: #7f7f7f; text-decoration-color: #7f7f7f\"> 84  </span>│ decoder.graph_label.layers.activations.1    │ ReLU         │      0 │ train │<span style=\"color: #c0c0c0; text-decoration-color: #c0c0c0\">    [32, 512] </span>│<span style=\"color: #c0c0c0; text-decoration-color: #c0c0c0\">    [32, 512] </span>│\n",
       "│<span style=\"color: #7f7f7f; text-decoration-color: #7f7f7f\"> 85  </span>│ decoder.graph_label.layers.activations.2    │ ReLU         │      0 │ train │<span style=\"color: #c0c0c0; text-decoration-color: #c0c0c0\">    [32, 512] </span>│<span style=\"color: #c0c0c0; text-decoration-color: #c0c0c0\">    [32, 512] </span>│\n",
       "│<span style=\"color: #7f7f7f; text-decoration-color: #7f7f7f\"> 86  </span>│ decoder.graph_label.layers.activations.3    │ Identity     │      0 │ train │<span style=\"color: #c0c0c0; text-decoration-color: #c0c0c0\">   [32, 1195] </span>│<span style=\"color: #c0c0c0; text-decoration-color: #c0c0c0\">   [32, 1195] </span>│\n",
       "│<span style=\"color: #7f7f7f; text-decoration-color: #7f7f7f\"> 87  </span>│ decoder.graph_label.layers.dropout_layers   │ ModuleList   │      0 │ train │<span style=\"color: #c0c0c0; text-decoration-color: #c0c0c0\">            ? </span>│<span style=\"color: #c0c0c0; text-decoration-color: #c0c0c0\">            ? </span>│\n",
       "│<span style=\"color: #7f7f7f; text-decoration-color: #7f7f7f\"> 88  </span>│ decoder.graph_label.layers.dropout_layers.0 │ Dropout      │      0 │ train │<span style=\"color: #c0c0c0; text-decoration-color: #c0c0c0\">    [32, 512] </span>│<span style=\"color: #c0c0c0; text-decoration-color: #c0c0c0\">    [32, 512] </span>│\n",
       "│<span style=\"color: #7f7f7f; text-decoration-color: #7f7f7f\"> 89  </span>│ decoder.graph_label.layers.dropout_layers.1 │ Dropout      │      0 │ train │<span style=\"color: #c0c0c0; text-decoration-color: #c0c0c0\">    [32, 512] </span>│<span style=\"color: #c0c0c0; text-decoration-color: #c0c0c0\">    [32, 512] </span>│\n",
       "│<span style=\"color: #7f7f7f; text-decoration-color: #7f7f7f\"> 90  </span>│ decoder.graph_label.layers.dropout_layers.2 │ Dropout      │      0 │ train │<span style=\"color: #c0c0c0; text-decoration-color: #c0c0c0\">    [32, 512] </span>│<span style=\"color: #c0c0c0; text-decoration-color: #c0c0c0\">    [32, 512] </span>│\n",
       "│<span style=\"color: #7f7f7f; text-decoration-color: #7f7f7f\"> 91  </span>│ test_graph_label_accuracy                   │ MulticlassA… │      0 │ train │<span style=\"color: #c0c0c0; text-decoration-color: #c0c0c0\">            ? </span>│<span style=\"color: #c0c0c0; text-decoration-color: #c0c0c0\">            ? </span>│\n",
       "│<span style=\"color: #7f7f7f; text-decoration-color: #7f7f7f\"> 92  </span>│ train_graph_label_accuracy                  │ MulticlassA… │      0 │ train │<span style=\"color: #c0c0c0; text-decoration-color: #c0c0c0\">            ? </span>│<span style=\"color: #c0c0c0; text-decoration-color: #c0c0c0\">            ? </span>│\n",
       "│<span style=\"color: #7f7f7f; text-decoration-color: #7f7f7f\"> 93  </span>│ val_graph_label_accuracy                    │ MulticlassA… │      0 │ train │<span style=\"color: #c0c0c0; text-decoration-color: #c0c0c0\">            ? </span>│<span style=\"color: #c0c0c0; text-decoration-color: #c0c0c0\">            ? </span>│\n",
       "│<span style=\"color: #7f7f7f; text-decoration-color: #7f7f7f\"> 94  </span>│ test_graph_label_f1_score                   │ MulticlassF… │      0 │ train │<span style=\"color: #c0c0c0; text-decoration-color: #c0c0c0\">            ? </span>│<span style=\"color: #c0c0c0; text-decoration-color: #c0c0c0\">            ? </span>│\n",
       "│<span style=\"color: #7f7f7f; text-decoration-color: #7f7f7f\"> 95  </span>│ train_graph_label_f1_score                  │ MulticlassF… │      0 │ train │<span style=\"color: #c0c0c0; text-decoration-color: #c0c0c0\">            ? </span>│<span style=\"color: #c0c0c0; text-decoration-color: #c0c0c0\">            ? </span>│\n",
       "│<span style=\"color: #7f7f7f; text-decoration-color: #7f7f7f\"> 96  </span>│ val_graph_label_f1_score                    │ MulticlassF… │      0 │ train │<span style=\"color: #c0c0c0; text-decoration-color: #c0c0c0\">            ? </span>│<span style=\"color: #c0c0c0; text-decoration-color: #c0c0c0\">            ? </span>│\n",
       "│<span style=\"color: #7f7f7f; text-decoration-color: #7f7f7f\"> 97  </span>│ test_graph_label_f1_max                     │ F1Max        │      0 │ train │<span style=\"color: #c0c0c0; text-decoration-color: #c0c0c0\">            ? </span>│<span style=\"color: #c0c0c0; text-decoration-color: #c0c0c0\">            ? </span>│\n",
       "│<span style=\"color: #7f7f7f; text-decoration-color: #7f7f7f\"> 98  </span>│ train_graph_label_f1_max                    │ F1Max        │      0 │ train │<span style=\"color: #c0c0c0; text-decoration-color: #c0c0c0\">            ? </span>│<span style=\"color: #c0c0c0; text-decoration-color: #c0c0c0\">            ? </span>│\n",
       "│<span style=\"color: #7f7f7f; text-decoration-color: #7f7f7f\"> 99  </span>│ val_graph_label_f1_max                      │ F1Max        │      0 │ train │<span style=\"color: #c0c0c0; text-decoration-color: #c0c0c0\">            ? </span>│<span style=\"color: #c0c0c0; text-decoration-color: #c0c0c0\">            ? </span>│\n",
       "│<span style=\"color: #7f7f7f; text-decoration-color: #7f7f7f\"> 100 </span>│ featuriser                                  │ ProteinFeat… │      0 │ train │<span style=\"color: #c0c0c0; text-decoration-color: #c0c0c0\">            ? </span>│<span style=\"color: #c0c0c0; text-decoration-color: #c0c0c0\">            ? </span>│\n",
       "└─────┴─────────────────────────────────────────────┴──────────────┴────────┴───────┴──────────────┴──────────────┘\n",
       "</pre>\n"
      ],
      "text/plain": [
       "┏━━━━━┳━━━━━━━━━━━━━━━━━━━━━━━━━━━━━━━━━━━━━━━━━━━━━┳━━━━━━━━━━━━━━┳━━━━━━━━┳━━━━━━━┳━━━━━━━━━━━━━━┳━━━━━━━━━━━━━━┓\n",
       "┃\u001b[1;35m \u001b[0m\u001b[1;35m   \u001b[0m\u001b[1;35m \u001b[0m┃\u001b[1;35m \u001b[0m\u001b[1;35mName                                       \u001b[0m\u001b[1;35m \u001b[0m┃\u001b[1;35m \u001b[0m\u001b[1;35mType        \u001b[0m\u001b[1;35m \u001b[0m┃\u001b[1;35m \u001b[0m\u001b[1;35mParams\u001b[0m\u001b[1;35m \u001b[0m┃\u001b[1;35m \u001b[0m\u001b[1;35mMode \u001b[0m\u001b[1;35m \u001b[0m┃\u001b[1;35m \u001b[0m\u001b[1;35m    In sizes\u001b[0m\u001b[1;35m \u001b[0m┃\u001b[1;35m \u001b[0m\u001b[1;35m   Out sizes\u001b[0m\u001b[1;35m \u001b[0m┃\n",
       "┡━━━━━╇━━━━━━━━━━━━━━━━━━━━━━━━━━━━━━━━━━━━━━━━━━━━━╇━━━━━━━━━━━━━━╇━━━━━━━━╇━━━━━━━╇━━━━━━━━━━━━━━╇━━━━━━━━━━━━━━┩\n",
       "│\u001b[2m \u001b[0m\u001b[2m0  \u001b[0m\u001b[2m \u001b[0m│ encoder                                     │ SchNetModel  │  2.7 M │ train │\u001b[37m \u001b[0m\u001b[37m           ?\u001b[0m\u001b[37m \u001b[0m│\u001b[37m \u001b[0m\u001b[37m           ?\u001b[0m\u001b[37m \u001b[0m│\n",
       "│\u001b[2m \u001b[0m\u001b[2m1  \u001b[0m\u001b[2m \u001b[0m│ encoder.sum_aggr                            │ SumAggregat… │      0 │ train │\u001b[37m \u001b[0m\u001b[37m           ?\u001b[0m\u001b[37m \u001b[0m│\u001b[37m \u001b[0m\u001b[37m           ?\u001b[0m\u001b[37m \u001b[0m│\n",
       "│\u001b[2m \u001b[0m\u001b[2m2  \u001b[0m\u001b[2m \u001b[0m│ encoder.embedding                           │ Linear       │ 12.3 K │ train │\u001b[37m \u001b[0m\u001b[37m [11048, 23]\u001b[0m\u001b[37m \u001b[0m│\u001b[37m \u001b[0m\u001b[37m[11048, 512]\u001b[0m\u001b[37m \u001b[0m│\n",
       "│\u001b[2m \u001b[0m\u001b[2m3  \u001b[0m\u001b[2m \u001b[0m│ encoder.distance_expansion                  │ GaussianSme… │      0 │ train │\u001b[37m \u001b[0m\u001b[37m    [176768]\u001b[0m\u001b[37m \u001b[0m│\u001b[37m \u001b[0m\u001b[37m[176768, 50]\u001b[0m\u001b[37m \u001b[0m│\n",
       "│\u001b[2m \u001b[0m\u001b[2m4  \u001b[0m\u001b[2m \u001b[0m│ encoder.interactions                        │ ModuleList   │  2.5 M │ train │\u001b[37m \u001b[0m\u001b[37m           ?\u001b[0m\u001b[37m \u001b[0m│\u001b[37m \u001b[0m\u001b[37m           ?\u001b[0m\u001b[37m \u001b[0m│\n",
       "│\u001b[2m \u001b[0m\u001b[2m5  \u001b[0m\u001b[2m \u001b[0m│ encoder.interactions.0                      │ Interaction… │  417 K │ train │\u001b[37m \u001b[0m\u001b[37m    [[11048,\u001b[0m\u001b[37m \u001b[0m│\u001b[37m \u001b[0m\u001b[37m[11048, 512]\u001b[0m\u001b[37m \u001b[0m│\n",
       "│\u001b[2m     \u001b[0m│                                             │              │        │       │\u001b[37m \u001b[0m\u001b[37m   512], [2,\u001b[0m\u001b[37m \u001b[0m│\u001b[37m              \u001b[0m│\n",
       "│\u001b[2m     \u001b[0m│                                             │              │        │       │\u001b[37m \u001b[0m\u001b[37m    176768],\u001b[0m\u001b[37m \u001b[0m│\u001b[37m              \u001b[0m│\n",
       "│\u001b[2m     \u001b[0m│                                             │              │        │       │\u001b[37m \u001b[0m\u001b[37m   [176768],\u001b[0m\u001b[37m \u001b[0m│\u001b[37m              \u001b[0m│\n",
       "│\u001b[2m     \u001b[0m│                                             │              │        │       │\u001b[37m \u001b[0m\u001b[37m    [176768,\u001b[0m\u001b[37m \u001b[0m│\u001b[37m              \u001b[0m│\n",
       "│\u001b[2m     \u001b[0m│                                             │              │        │       │\u001b[37m \u001b[0m\u001b[37m        50]]\u001b[0m\u001b[37m \u001b[0m│\u001b[37m              \u001b[0m│\n",
       "│\u001b[2m \u001b[0m\u001b[2m6  \u001b[0m\u001b[2m \u001b[0m│ encoder.interactions.0.mlp                  │ Sequential   │ 23.0 K │ train │\u001b[37m \u001b[0m\u001b[37m[176768, 50]\u001b[0m\u001b[37m \u001b[0m│\u001b[37m \u001b[0m\u001b[37m    [176768,\u001b[0m\u001b[37m \u001b[0m│\n",
       "│\u001b[2m     \u001b[0m│                                             │              │        │       │\u001b[37m              \u001b[0m│\u001b[37m \u001b[0m\u001b[37m        128]\u001b[0m\u001b[37m \u001b[0m│\n",
       "│\u001b[2m \u001b[0m\u001b[2m7  \u001b[0m\u001b[2m \u001b[0m│ encoder.interactions.0.mlp.0                │ Linear       │  6.5 K │ train │\u001b[37m \u001b[0m\u001b[37m[176768, 50]\u001b[0m\u001b[37m \u001b[0m│\u001b[37m \u001b[0m\u001b[37m    [176768,\u001b[0m\u001b[37m \u001b[0m│\n",
       "│\u001b[2m     \u001b[0m│                                             │              │        │       │\u001b[37m              \u001b[0m│\u001b[37m \u001b[0m\u001b[37m        128]\u001b[0m\u001b[37m \u001b[0m│\n",
       "│\u001b[2m \u001b[0m\u001b[2m8  \u001b[0m\u001b[2m \u001b[0m│ encoder.interactions.0.mlp.1                │ ShiftedSoft… │      0 │ train │\u001b[37m \u001b[0m\u001b[37m    [176768,\u001b[0m\u001b[37m \u001b[0m│\u001b[37m \u001b[0m\u001b[37m    [176768,\u001b[0m\u001b[37m \u001b[0m│\n",
       "│\u001b[2m     \u001b[0m│                                             │              │        │       │\u001b[37m \u001b[0m\u001b[37m        128]\u001b[0m\u001b[37m \u001b[0m│\u001b[37m \u001b[0m\u001b[37m        128]\u001b[0m\u001b[37m \u001b[0m│\n",
       "│\u001b[2m \u001b[0m\u001b[2m9  \u001b[0m\u001b[2m \u001b[0m│ encoder.interactions.0.mlp.2                │ Linear       │ 16.5 K │ train │\u001b[37m \u001b[0m\u001b[37m    [176768,\u001b[0m\u001b[37m \u001b[0m│\u001b[37m \u001b[0m\u001b[37m    [176768,\u001b[0m\u001b[37m \u001b[0m│\n",
       "│\u001b[2m     \u001b[0m│                                             │              │        │       │\u001b[37m \u001b[0m\u001b[37m        128]\u001b[0m\u001b[37m \u001b[0m│\u001b[37m \u001b[0m\u001b[37m        128]\u001b[0m\u001b[37m \u001b[0m│\n",
       "│\u001b[2m \u001b[0m\u001b[2m10 \u001b[0m\u001b[2m \u001b[0m│ encoder.interactions.0.conv                 │ CFConv       │  154 K │ train │\u001b[37m \u001b[0m\u001b[37m    [[11048,\u001b[0m\u001b[37m \u001b[0m│\u001b[37m \u001b[0m\u001b[37m[11048, 512]\u001b[0m\u001b[37m \u001b[0m│\n",
       "│\u001b[2m     \u001b[0m│                                             │              │        │       │\u001b[37m \u001b[0m\u001b[37m   512], [2,\u001b[0m\u001b[37m \u001b[0m│\u001b[37m              \u001b[0m│\n",
       "│\u001b[2m     \u001b[0m│                                             │              │        │       │\u001b[37m \u001b[0m\u001b[37m    176768],\u001b[0m\u001b[37m \u001b[0m│\u001b[37m              \u001b[0m│\n",
       "│\u001b[2m     \u001b[0m│                                             │              │        │       │\u001b[37m \u001b[0m\u001b[37m   [176768],\u001b[0m\u001b[37m \u001b[0m│\u001b[37m              \u001b[0m│\n",
       "│\u001b[2m     \u001b[0m│                                             │              │        │       │\u001b[37m \u001b[0m\u001b[37m    [176768,\u001b[0m\u001b[37m \u001b[0m│\u001b[37m              \u001b[0m│\n",
       "│\u001b[2m     \u001b[0m│                                             │              │        │       │\u001b[37m \u001b[0m\u001b[37m        50]]\u001b[0m\u001b[37m \u001b[0m│\u001b[37m              \u001b[0m│\n",
       "│\u001b[2m \u001b[0m\u001b[2m11 \u001b[0m\u001b[2m \u001b[0m│ encoder.interactions.0.conv.aggr_module     │ SumAggregat… │      0 │ train │\u001b[37m \u001b[0m\u001b[37m   [[176768,\u001b[0m\u001b[37m \u001b[0m│\u001b[37m \u001b[0m\u001b[37m[11048, 128]\u001b[0m\u001b[37m \u001b[0m│\n",
       "│\u001b[2m     \u001b[0m│                                             │              │        │       │\u001b[37m \u001b[0m\u001b[37m       128],\u001b[0m\u001b[37m \u001b[0m│\u001b[37m              \u001b[0m│\n",
       "│\u001b[2m     \u001b[0m│                                             │              │        │       │\u001b[37m \u001b[0m\u001b[37m   [176768],\u001b[0m\u001b[37m \u001b[0m│\u001b[37m              \u001b[0m│\n",
       "│\u001b[2m     \u001b[0m│                                             │              │        │       │\u001b[37m \u001b[0m\u001b[37m   '?', '?',\u001b[0m\u001b[37m \u001b[0m│\u001b[37m              \u001b[0m│\n",
       "│\u001b[2m     \u001b[0m│                                             │              │        │       │\u001b[37m \u001b[0m\u001b[37m        '?']\u001b[0m\u001b[37m \u001b[0m│\u001b[37m              \u001b[0m│\n",
       "│\u001b[2m \u001b[0m\u001b[2m12 \u001b[0m\u001b[2m \u001b[0m│ encoder.interactions.0.conv.lin1            │ Linear       │ 65.5 K │ train │\u001b[37m \u001b[0m\u001b[37m[11048, 512]\u001b[0m\u001b[37m \u001b[0m│\u001b[37m \u001b[0m\u001b[37m[11048, 128]\u001b[0m\u001b[37m \u001b[0m│\n",
       "│\u001b[2m \u001b[0m\u001b[2m13 \u001b[0m\u001b[2m \u001b[0m│ encoder.interactions.0.conv.lin2            │ Linear       │ 66.0 K │ train │\u001b[37m \u001b[0m\u001b[37m[11048, 128]\u001b[0m\u001b[37m \u001b[0m│\u001b[37m \u001b[0m\u001b[37m[11048, 512]\u001b[0m\u001b[37m \u001b[0m│\n",
       "│\u001b[2m \u001b[0m\u001b[2m14 \u001b[0m\u001b[2m \u001b[0m│ encoder.interactions.0.act                  │ ShiftedSoft… │      0 │ train │\u001b[37m \u001b[0m\u001b[37m[11048, 512]\u001b[0m\u001b[37m \u001b[0m│\u001b[37m \u001b[0m\u001b[37m[11048, 512]\u001b[0m\u001b[37m \u001b[0m│\n",
       "│\u001b[2m \u001b[0m\u001b[2m15 \u001b[0m\u001b[2m \u001b[0m│ encoder.interactions.0.lin                  │ Linear       │  262 K │ train │\u001b[37m \u001b[0m\u001b[37m[11048, 512]\u001b[0m\u001b[37m \u001b[0m│\u001b[37m \u001b[0m\u001b[37m[11048, 512]\u001b[0m\u001b[37m \u001b[0m│\n",
       "│\u001b[2m \u001b[0m\u001b[2m16 \u001b[0m\u001b[2m \u001b[0m│ encoder.interactions.1                      │ Interaction… │  417 K │ train │\u001b[37m \u001b[0m\u001b[37m    [[11048,\u001b[0m\u001b[37m \u001b[0m│\u001b[37m \u001b[0m\u001b[37m[11048, 512]\u001b[0m\u001b[37m \u001b[0m│\n",
       "│\u001b[2m     \u001b[0m│                                             │              │        │       │\u001b[37m \u001b[0m\u001b[37m   512], [2,\u001b[0m\u001b[37m \u001b[0m│\u001b[37m              \u001b[0m│\n",
       "│\u001b[2m     \u001b[0m│                                             │              │        │       │\u001b[37m \u001b[0m\u001b[37m    176768],\u001b[0m\u001b[37m \u001b[0m│\u001b[37m              \u001b[0m│\n",
       "│\u001b[2m     \u001b[0m│                                             │              │        │       │\u001b[37m \u001b[0m\u001b[37m   [176768],\u001b[0m\u001b[37m \u001b[0m│\u001b[37m              \u001b[0m│\n",
       "│\u001b[2m     \u001b[0m│                                             │              │        │       │\u001b[37m \u001b[0m\u001b[37m    [176768,\u001b[0m\u001b[37m \u001b[0m│\u001b[37m              \u001b[0m│\n",
       "│\u001b[2m     \u001b[0m│                                             │              │        │       │\u001b[37m \u001b[0m\u001b[37m        50]]\u001b[0m\u001b[37m \u001b[0m│\u001b[37m              \u001b[0m│\n",
       "│\u001b[2m \u001b[0m\u001b[2m17 \u001b[0m\u001b[2m \u001b[0m│ encoder.interactions.1.mlp                  │ Sequential   │ 23.0 K │ train │\u001b[37m \u001b[0m\u001b[37m[176768, 50]\u001b[0m\u001b[37m \u001b[0m│\u001b[37m \u001b[0m\u001b[37m    [176768,\u001b[0m\u001b[37m \u001b[0m│\n",
       "│\u001b[2m     \u001b[0m│                                             │              │        │       │\u001b[37m              \u001b[0m│\u001b[37m \u001b[0m\u001b[37m        128]\u001b[0m\u001b[37m \u001b[0m│\n",
       "│\u001b[2m \u001b[0m\u001b[2m18 \u001b[0m\u001b[2m \u001b[0m│ encoder.interactions.1.mlp.0                │ Linear       │  6.5 K │ train │\u001b[37m \u001b[0m\u001b[37m[176768, 50]\u001b[0m\u001b[37m \u001b[0m│\u001b[37m \u001b[0m\u001b[37m    [176768,\u001b[0m\u001b[37m \u001b[0m│\n",
       "│\u001b[2m     \u001b[0m│                                             │              │        │       │\u001b[37m              \u001b[0m│\u001b[37m \u001b[0m\u001b[37m        128]\u001b[0m\u001b[37m \u001b[0m│\n",
       "│\u001b[2m \u001b[0m\u001b[2m19 \u001b[0m\u001b[2m \u001b[0m│ encoder.interactions.1.mlp.1                │ ShiftedSoft… │      0 │ train │\u001b[37m \u001b[0m\u001b[37m    [176768,\u001b[0m\u001b[37m \u001b[0m│\u001b[37m \u001b[0m\u001b[37m    [176768,\u001b[0m\u001b[37m \u001b[0m│\n",
       "│\u001b[2m     \u001b[0m│                                             │              │        │       │\u001b[37m \u001b[0m\u001b[37m        128]\u001b[0m\u001b[37m \u001b[0m│\u001b[37m \u001b[0m\u001b[37m        128]\u001b[0m\u001b[37m \u001b[0m│\n",
       "│\u001b[2m \u001b[0m\u001b[2m20 \u001b[0m\u001b[2m \u001b[0m│ encoder.interactions.1.mlp.2                │ Linear       │ 16.5 K │ train │\u001b[37m \u001b[0m\u001b[37m    [176768,\u001b[0m\u001b[37m \u001b[0m│\u001b[37m \u001b[0m\u001b[37m    [176768,\u001b[0m\u001b[37m \u001b[0m│\n",
       "│\u001b[2m     \u001b[0m│                                             │              │        │       │\u001b[37m \u001b[0m\u001b[37m        128]\u001b[0m\u001b[37m \u001b[0m│\u001b[37m \u001b[0m\u001b[37m        128]\u001b[0m\u001b[37m \u001b[0m│\n",
       "│\u001b[2m \u001b[0m\u001b[2m21 \u001b[0m\u001b[2m \u001b[0m│ encoder.interactions.1.conv                 │ CFConv       │  154 K │ train │\u001b[37m \u001b[0m\u001b[37m    [[11048,\u001b[0m\u001b[37m \u001b[0m│\u001b[37m \u001b[0m\u001b[37m[11048, 512]\u001b[0m\u001b[37m \u001b[0m│\n",
       "│\u001b[2m     \u001b[0m│                                             │              │        │       │\u001b[37m \u001b[0m\u001b[37m   512], [2,\u001b[0m\u001b[37m \u001b[0m│\u001b[37m              \u001b[0m│\n",
       "│\u001b[2m     \u001b[0m│                                             │              │        │       │\u001b[37m \u001b[0m\u001b[37m    176768],\u001b[0m\u001b[37m \u001b[0m│\u001b[37m              \u001b[0m│\n",
       "│\u001b[2m     \u001b[0m│                                             │              │        │       │\u001b[37m \u001b[0m\u001b[37m   [176768],\u001b[0m\u001b[37m \u001b[0m│\u001b[37m              \u001b[0m│\n",
       "│\u001b[2m     \u001b[0m│                                             │              │        │       │\u001b[37m \u001b[0m\u001b[37m    [176768,\u001b[0m\u001b[37m \u001b[0m│\u001b[37m              \u001b[0m│\n",
       "│\u001b[2m     \u001b[0m│                                             │              │        │       │\u001b[37m \u001b[0m\u001b[37m        50]]\u001b[0m\u001b[37m \u001b[0m│\u001b[37m              \u001b[0m│\n",
       "│\u001b[2m \u001b[0m\u001b[2m22 \u001b[0m\u001b[2m \u001b[0m│ encoder.interactions.1.conv.aggr_module     │ SumAggregat… │      0 │ train │\u001b[37m \u001b[0m\u001b[37m   [[176768,\u001b[0m\u001b[37m \u001b[0m│\u001b[37m \u001b[0m\u001b[37m[11048, 128]\u001b[0m\u001b[37m \u001b[0m│\n",
       "│\u001b[2m     \u001b[0m│                                             │              │        │       │\u001b[37m \u001b[0m\u001b[37m       128],\u001b[0m\u001b[37m \u001b[0m│\u001b[37m              \u001b[0m│\n",
       "│\u001b[2m     \u001b[0m│                                             │              │        │       │\u001b[37m \u001b[0m\u001b[37m   [176768],\u001b[0m\u001b[37m \u001b[0m│\u001b[37m              \u001b[0m│\n",
       "│\u001b[2m     \u001b[0m│                                             │              │        │       │\u001b[37m \u001b[0m\u001b[37m   '?', '?',\u001b[0m\u001b[37m \u001b[0m│\u001b[37m              \u001b[0m│\n",
       "│\u001b[2m     \u001b[0m│                                             │              │        │       │\u001b[37m \u001b[0m\u001b[37m        '?']\u001b[0m\u001b[37m \u001b[0m│\u001b[37m              \u001b[0m│\n",
       "│\u001b[2m \u001b[0m\u001b[2m23 \u001b[0m\u001b[2m \u001b[0m│ encoder.interactions.1.conv.lin1            │ Linear       │ 65.5 K │ train │\u001b[37m \u001b[0m\u001b[37m[11048, 512]\u001b[0m\u001b[37m \u001b[0m│\u001b[37m \u001b[0m\u001b[37m[11048, 128]\u001b[0m\u001b[37m \u001b[0m│\n",
       "│\u001b[2m \u001b[0m\u001b[2m24 \u001b[0m\u001b[2m \u001b[0m│ encoder.interactions.1.conv.lin2            │ Linear       │ 66.0 K │ train │\u001b[37m \u001b[0m\u001b[37m[11048, 128]\u001b[0m\u001b[37m \u001b[0m│\u001b[37m \u001b[0m\u001b[37m[11048, 512]\u001b[0m\u001b[37m \u001b[0m│\n",
       "│\u001b[2m \u001b[0m\u001b[2m25 \u001b[0m\u001b[2m \u001b[0m│ encoder.interactions.1.act                  │ ShiftedSoft… │      0 │ train │\u001b[37m \u001b[0m\u001b[37m[11048, 512]\u001b[0m\u001b[37m \u001b[0m│\u001b[37m \u001b[0m\u001b[37m[11048, 512]\u001b[0m\u001b[37m \u001b[0m│\n",
       "│\u001b[2m \u001b[0m\u001b[2m26 \u001b[0m\u001b[2m \u001b[0m│ encoder.interactions.1.lin                  │ Linear       │  262 K │ train │\u001b[37m \u001b[0m\u001b[37m[11048, 512]\u001b[0m\u001b[37m \u001b[0m│\u001b[37m \u001b[0m\u001b[37m[11048, 512]\u001b[0m\u001b[37m \u001b[0m│\n",
       "│\u001b[2m \u001b[0m\u001b[2m27 \u001b[0m\u001b[2m \u001b[0m│ encoder.interactions.2                      │ Interaction… │  417 K │ train │\u001b[37m \u001b[0m\u001b[37m    [[11048,\u001b[0m\u001b[37m \u001b[0m│\u001b[37m \u001b[0m\u001b[37m[11048, 512]\u001b[0m\u001b[37m \u001b[0m│\n",
       "│\u001b[2m     \u001b[0m│                                             │              │        │       │\u001b[37m \u001b[0m\u001b[37m   512], [2,\u001b[0m\u001b[37m \u001b[0m│\u001b[37m              \u001b[0m│\n",
       "│\u001b[2m     \u001b[0m│                                             │              │        │       │\u001b[37m \u001b[0m\u001b[37m    176768],\u001b[0m\u001b[37m \u001b[0m│\u001b[37m              \u001b[0m│\n",
       "│\u001b[2m     \u001b[0m│                                             │              │        │       │\u001b[37m \u001b[0m\u001b[37m   [176768],\u001b[0m\u001b[37m \u001b[0m│\u001b[37m              \u001b[0m│\n",
       "│\u001b[2m     \u001b[0m│                                             │              │        │       │\u001b[37m \u001b[0m\u001b[37m    [176768,\u001b[0m\u001b[37m \u001b[0m│\u001b[37m              \u001b[0m│\n",
       "│\u001b[2m     \u001b[0m│                                             │              │        │       │\u001b[37m \u001b[0m\u001b[37m        50]]\u001b[0m\u001b[37m \u001b[0m│\u001b[37m              \u001b[0m│\n",
       "│\u001b[2m \u001b[0m\u001b[2m28 \u001b[0m\u001b[2m \u001b[0m│ encoder.interactions.2.mlp                  │ Sequential   │ 23.0 K │ train │\u001b[37m \u001b[0m\u001b[37m[176768, 50]\u001b[0m\u001b[37m \u001b[0m│\u001b[37m \u001b[0m\u001b[37m    [176768,\u001b[0m\u001b[37m \u001b[0m│\n",
       "│\u001b[2m     \u001b[0m│                                             │              │        │       │\u001b[37m              \u001b[0m│\u001b[37m \u001b[0m\u001b[37m        128]\u001b[0m\u001b[37m \u001b[0m│\n",
       "│\u001b[2m \u001b[0m\u001b[2m29 \u001b[0m\u001b[2m \u001b[0m│ encoder.interactions.2.mlp.0                │ Linear       │  6.5 K │ train │\u001b[37m \u001b[0m\u001b[37m[176768, 50]\u001b[0m\u001b[37m \u001b[0m│\u001b[37m \u001b[0m\u001b[37m    [176768,\u001b[0m\u001b[37m \u001b[0m│\n",
       "│\u001b[2m     \u001b[0m│                                             │              │        │       │\u001b[37m              \u001b[0m│\u001b[37m \u001b[0m\u001b[37m        128]\u001b[0m\u001b[37m \u001b[0m│\n",
       "│\u001b[2m \u001b[0m\u001b[2m30 \u001b[0m\u001b[2m \u001b[0m│ encoder.interactions.2.mlp.1                │ ShiftedSoft… │      0 │ train │\u001b[37m \u001b[0m\u001b[37m    [176768,\u001b[0m\u001b[37m \u001b[0m│\u001b[37m \u001b[0m\u001b[37m    [176768,\u001b[0m\u001b[37m \u001b[0m│\n",
       "│\u001b[2m     \u001b[0m│                                             │              │        │       │\u001b[37m \u001b[0m\u001b[37m        128]\u001b[0m\u001b[37m \u001b[0m│\u001b[37m \u001b[0m\u001b[37m        128]\u001b[0m\u001b[37m \u001b[0m│\n",
       "│\u001b[2m \u001b[0m\u001b[2m31 \u001b[0m\u001b[2m \u001b[0m│ encoder.interactions.2.mlp.2                │ Linear       │ 16.5 K │ train │\u001b[37m \u001b[0m\u001b[37m    [176768,\u001b[0m\u001b[37m \u001b[0m│\u001b[37m \u001b[0m\u001b[37m    [176768,\u001b[0m\u001b[37m \u001b[0m│\n",
       "│\u001b[2m     \u001b[0m│                                             │              │        │       │\u001b[37m \u001b[0m\u001b[37m        128]\u001b[0m\u001b[37m \u001b[0m│\u001b[37m \u001b[0m\u001b[37m        128]\u001b[0m\u001b[37m \u001b[0m│\n",
       "│\u001b[2m \u001b[0m\u001b[2m32 \u001b[0m\u001b[2m \u001b[0m│ encoder.interactions.2.conv                 │ CFConv       │  154 K │ train │\u001b[37m \u001b[0m\u001b[37m    [[11048,\u001b[0m\u001b[37m \u001b[0m│\u001b[37m \u001b[0m\u001b[37m[11048, 512]\u001b[0m\u001b[37m \u001b[0m│\n",
       "│\u001b[2m     \u001b[0m│                                             │              │        │       │\u001b[37m \u001b[0m\u001b[37m   512], [2,\u001b[0m\u001b[37m \u001b[0m│\u001b[37m              \u001b[0m│\n",
       "│\u001b[2m     \u001b[0m│                                             │              │        │       │\u001b[37m \u001b[0m\u001b[37m    176768],\u001b[0m\u001b[37m \u001b[0m│\u001b[37m              \u001b[0m│\n",
       "│\u001b[2m     \u001b[0m│                                             │              │        │       │\u001b[37m \u001b[0m\u001b[37m   [176768],\u001b[0m\u001b[37m \u001b[0m│\u001b[37m              \u001b[0m│\n",
       "│\u001b[2m     \u001b[0m│                                             │              │        │       │\u001b[37m \u001b[0m\u001b[37m    [176768,\u001b[0m\u001b[37m \u001b[0m│\u001b[37m              \u001b[0m│\n",
       "│\u001b[2m     \u001b[0m│                                             │              │        │       │\u001b[37m \u001b[0m\u001b[37m        50]]\u001b[0m\u001b[37m \u001b[0m│\u001b[37m              \u001b[0m│\n",
       "│\u001b[2m \u001b[0m\u001b[2m33 \u001b[0m\u001b[2m \u001b[0m│ encoder.interactions.2.conv.aggr_module     │ SumAggregat… │      0 │ train │\u001b[37m \u001b[0m\u001b[37m   [[176768,\u001b[0m\u001b[37m \u001b[0m│\u001b[37m \u001b[0m\u001b[37m[11048, 128]\u001b[0m\u001b[37m \u001b[0m│\n",
       "│\u001b[2m     \u001b[0m│                                             │              │        │       │\u001b[37m \u001b[0m\u001b[37m       128],\u001b[0m\u001b[37m \u001b[0m│\u001b[37m              \u001b[0m│\n",
       "│\u001b[2m     \u001b[0m│                                             │              │        │       │\u001b[37m \u001b[0m\u001b[37m   [176768],\u001b[0m\u001b[37m \u001b[0m│\u001b[37m              \u001b[0m│\n",
       "│\u001b[2m     \u001b[0m│                                             │              │        │       │\u001b[37m \u001b[0m\u001b[37m   '?', '?',\u001b[0m\u001b[37m \u001b[0m│\u001b[37m              \u001b[0m│\n",
       "│\u001b[2m     \u001b[0m│                                             │              │        │       │\u001b[37m \u001b[0m\u001b[37m        '?']\u001b[0m\u001b[37m \u001b[0m│\u001b[37m              \u001b[0m│\n",
       "│\u001b[2m \u001b[0m\u001b[2m34 \u001b[0m\u001b[2m \u001b[0m│ encoder.interactions.2.conv.lin1            │ Linear       │ 65.5 K │ train │\u001b[37m \u001b[0m\u001b[37m[11048, 512]\u001b[0m\u001b[37m \u001b[0m│\u001b[37m \u001b[0m\u001b[37m[11048, 128]\u001b[0m\u001b[37m \u001b[0m│\n",
       "│\u001b[2m \u001b[0m\u001b[2m35 \u001b[0m\u001b[2m \u001b[0m│ encoder.interactions.2.conv.lin2            │ Linear       │ 66.0 K │ train │\u001b[37m \u001b[0m\u001b[37m[11048, 128]\u001b[0m\u001b[37m \u001b[0m│\u001b[37m \u001b[0m\u001b[37m[11048, 512]\u001b[0m\u001b[37m \u001b[0m│\n",
       "│\u001b[2m \u001b[0m\u001b[2m36 \u001b[0m\u001b[2m \u001b[0m│ encoder.interactions.2.act                  │ ShiftedSoft… │      0 │ train │\u001b[37m \u001b[0m\u001b[37m[11048, 512]\u001b[0m\u001b[37m \u001b[0m│\u001b[37m \u001b[0m\u001b[37m[11048, 512]\u001b[0m\u001b[37m \u001b[0m│\n",
       "│\u001b[2m \u001b[0m\u001b[2m37 \u001b[0m\u001b[2m \u001b[0m│ encoder.interactions.2.lin                  │ Linear       │  262 K │ train │\u001b[37m \u001b[0m\u001b[37m[11048, 512]\u001b[0m\u001b[37m \u001b[0m│\u001b[37m \u001b[0m\u001b[37m[11048, 512]\u001b[0m\u001b[37m \u001b[0m│\n",
       "│\u001b[2m \u001b[0m\u001b[2m38 \u001b[0m\u001b[2m \u001b[0m│ encoder.interactions.3                      │ Interaction… │  417 K │ train │\u001b[37m \u001b[0m\u001b[37m    [[11048,\u001b[0m\u001b[37m \u001b[0m│\u001b[37m \u001b[0m\u001b[37m[11048, 512]\u001b[0m\u001b[37m \u001b[0m│\n",
       "│\u001b[2m     \u001b[0m│                                             │              │        │       │\u001b[37m \u001b[0m\u001b[37m   512], [2,\u001b[0m\u001b[37m \u001b[0m│\u001b[37m              \u001b[0m│\n",
       "│\u001b[2m     \u001b[0m│                                             │              │        │       │\u001b[37m \u001b[0m\u001b[37m    176768],\u001b[0m\u001b[37m \u001b[0m│\u001b[37m              \u001b[0m│\n",
       "│\u001b[2m     \u001b[0m│                                             │              │        │       │\u001b[37m \u001b[0m\u001b[37m   [176768],\u001b[0m\u001b[37m \u001b[0m│\u001b[37m              \u001b[0m│\n",
       "│\u001b[2m     \u001b[0m│                                             │              │        │       │\u001b[37m \u001b[0m\u001b[37m    [176768,\u001b[0m\u001b[37m \u001b[0m│\u001b[37m              \u001b[0m│\n",
       "│\u001b[2m     \u001b[0m│                                             │              │        │       │\u001b[37m \u001b[0m\u001b[37m        50]]\u001b[0m\u001b[37m \u001b[0m│\u001b[37m              \u001b[0m│\n",
       "│\u001b[2m \u001b[0m\u001b[2m39 \u001b[0m\u001b[2m \u001b[0m│ encoder.interactions.3.mlp                  │ Sequential   │ 23.0 K │ train │\u001b[37m \u001b[0m\u001b[37m[176768, 50]\u001b[0m\u001b[37m \u001b[0m│\u001b[37m \u001b[0m\u001b[37m    [176768,\u001b[0m\u001b[37m \u001b[0m│\n",
       "│\u001b[2m     \u001b[0m│                                             │              │        │       │\u001b[37m              \u001b[0m│\u001b[37m \u001b[0m\u001b[37m        128]\u001b[0m\u001b[37m \u001b[0m│\n",
       "│\u001b[2m \u001b[0m\u001b[2m40 \u001b[0m\u001b[2m \u001b[0m│ encoder.interactions.3.mlp.0                │ Linear       │  6.5 K │ train │\u001b[37m \u001b[0m\u001b[37m[176768, 50]\u001b[0m\u001b[37m \u001b[0m│\u001b[37m \u001b[0m\u001b[37m    [176768,\u001b[0m\u001b[37m \u001b[0m│\n",
       "│\u001b[2m     \u001b[0m│                                             │              │        │       │\u001b[37m              \u001b[0m│\u001b[37m \u001b[0m\u001b[37m        128]\u001b[0m\u001b[37m \u001b[0m│\n",
       "│\u001b[2m \u001b[0m\u001b[2m41 \u001b[0m\u001b[2m \u001b[0m│ encoder.interactions.3.mlp.1                │ ShiftedSoft… │      0 │ train │\u001b[37m \u001b[0m\u001b[37m    [176768,\u001b[0m\u001b[37m \u001b[0m│\u001b[37m \u001b[0m\u001b[37m    [176768,\u001b[0m\u001b[37m \u001b[0m│\n",
       "│\u001b[2m     \u001b[0m│                                             │              │        │       │\u001b[37m \u001b[0m\u001b[37m        128]\u001b[0m\u001b[37m \u001b[0m│\u001b[37m \u001b[0m\u001b[37m        128]\u001b[0m\u001b[37m \u001b[0m│\n",
       "│\u001b[2m \u001b[0m\u001b[2m42 \u001b[0m\u001b[2m \u001b[0m│ encoder.interactions.3.mlp.2                │ Linear       │ 16.5 K │ train │\u001b[37m \u001b[0m\u001b[37m    [176768,\u001b[0m\u001b[37m \u001b[0m│\u001b[37m \u001b[0m\u001b[37m    [176768,\u001b[0m\u001b[37m \u001b[0m│\n",
       "│\u001b[2m     \u001b[0m│                                             │              │        │       │\u001b[37m \u001b[0m\u001b[37m        128]\u001b[0m\u001b[37m \u001b[0m│\u001b[37m \u001b[0m\u001b[37m        128]\u001b[0m\u001b[37m \u001b[0m│\n",
       "│\u001b[2m \u001b[0m\u001b[2m43 \u001b[0m\u001b[2m \u001b[0m│ encoder.interactions.3.conv                 │ CFConv       │  154 K │ train │\u001b[37m \u001b[0m\u001b[37m    [[11048,\u001b[0m\u001b[37m \u001b[0m│\u001b[37m \u001b[0m\u001b[37m[11048, 512]\u001b[0m\u001b[37m \u001b[0m│\n",
       "│\u001b[2m     \u001b[0m│                                             │              │        │       │\u001b[37m \u001b[0m\u001b[37m   512], [2,\u001b[0m\u001b[37m \u001b[0m│\u001b[37m              \u001b[0m│\n",
       "│\u001b[2m     \u001b[0m│                                             │              │        │       │\u001b[37m \u001b[0m\u001b[37m    176768],\u001b[0m\u001b[37m \u001b[0m│\u001b[37m              \u001b[0m│\n",
       "│\u001b[2m     \u001b[0m│                                             │              │        │       │\u001b[37m \u001b[0m\u001b[37m   [176768],\u001b[0m\u001b[37m \u001b[0m│\u001b[37m              \u001b[0m│\n",
       "│\u001b[2m     \u001b[0m│                                             │              │        │       │\u001b[37m \u001b[0m\u001b[37m    [176768,\u001b[0m\u001b[37m \u001b[0m│\u001b[37m              \u001b[0m│\n",
       "│\u001b[2m     \u001b[0m│                                             │              │        │       │\u001b[37m \u001b[0m\u001b[37m        50]]\u001b[0m\u001b[37m \u001b[0m│\u001b[37m              \u001b[0m│\n",
       "│\u001b[2m \u001b[0m\u001b[2m44 \u001b[0m\u001b[2m \u001b[0m│ encoder.interactions.3.conv.aggr_module     │ SumAggregat… │      0 │ train │\u001b[37m \u001b[0m\u001b[37m   [[176768,\u001b[0m\u001b[37m \u001b[0m│\u001b[37m \u001b[0m\u001b[37m[11048, 128]\u001b[0m\u001b[37m \u001b[0m│\n",
       "│\u001b[2m     \u001b[0m│                                             │              │        │       │\u001b[37m \u001b[0m\u001b[37m       128],\u001b[0m\u001b[37m \u001b[0m│\u001b[37m              \u001b[0m│\n",
       "│\u001b[2m     \u001b[0m│                                             │              │        │       │\u001b[37m \u001b[0m\u001b[37m   [176768],\u001b[0m\u001b[37m \u001b[0m│\u001b[37m              \u001b[0m│\n",
       "│\u001b[2m     \u001b[0m│                                             │              │        │       │\u001b[37m \u001b[0m\u001b[37m   '?', '?',\u001b[0m\u001b[37m \u001b[0m│\u001b[37m              \u001b[0m│\n",
       "│\u001b[2m     \u001b[0m│                                             │              │        │       │\u001b[37m \u001b[0m\u001b[37m        '?']\u001b[0m\u001b[37m \u001b[0m│\u001b[37m              \u001b[0m│\n",
       "│\u001b[2m \u001b[0m\u001b[2m45 \u001b[0m\u001b[2m \u001b[0m│ encoder.interactions.3.conv.lin1            │ Linear       │ 65.5 K │ train │\u001b[37m \u001b[0m\u001b[37m[11048, 512]\u001b[0m\u001b[37m \u001b[0m│\u001b[37m \u001b[0m\u001b[37m[11048, 128]\u001b[0m\u001b[37m \u001b[0m│\n",
       "│\u001b[2m \u001b[0m\u001b[2m46 \u001b[0m\u001b[2m \u001b[0m│ encoder.interactions.3.conv.lin2            │ Linear       │ 66.0 K │ train │\u001b[37m \u001b[0m\u001b[37m[11048, 128]\u001b[0m\u001b[37m \u001b[0m│\u001b[37m \u001b[0m\u001b[37m[11048, 512]\u001b[0m\u001b[37m \u001b[0m│\n",
       "│\u001b[2m \u001b[0m\u001b[2m47 \u001b[0m\u001b[2m \u001b[0m│ encoder.interactions.3.act                  │ ShiftedSoft… │      0 │ train │\u001b[37m \u001b[0m\u001b[37m[11048, 512]\u001b[0m\u001b[37m \u001b[0m│\u001b[37m \u001b[0m\u001b[37m[11048, 512]\u001b[0m\u001b[37m \u001b[0m│\n",
       "│\u001b[2m \u001b[0m\u001b[2m48 \u001b[0m\u001b[2m \u001b[0m│ encoder.interactions.3.lin                  │ Linear       │  262 K │ train │\u001b[37m \u001b[0m\u001b[37m[11048, 512]\u001b[0m\u001b[37m \u001b[0m│\u001b[37m \u001b[0m\u001b[37m[11048, 512]\u001b[0m\u001b[37m \u001b[0m│\n",
       "│\u001b[2m \u001b[0m\u001b[2m49 \u001b[0m\u001b[2m \u001b[0m│ encoder.interactions.4                      │ Interaction… │  417 K │ train │\u001b[37m \u001b[0m\u001b[37m    [[11048,\u001b[0m\u001b[37m \u001b[0m│\u001b[37m \u001b[0m\u001b[37m[11048, 512]\u001b[0m\u001b[37m \u001b[0m│\n",
       "│\u001b[2m     \u001b[0m│                                             │              │        │       │\u001b[37m \u001b[0m\u001b[37m   512], [2,\u001b[0m\u001b[37m \u001b[0m│\u001b[37m              \u001b[0m│\n",
       "│\u001b[2m     \u001b[0m│                                             │              │        │       │\u001b[37m \u001b[0m\u001b[37m    176768],\u001b[0m\u001b[37m \u001b[0m│\u001b[37m              \u001b[0m│\n",
       "│\u001b[2m     \u001b[0m│                                             │              │        │       │\u001b[37m \u001b[0m\u001b[37m   [176768],\u001b[0m\u001b[37m \u001b[0m│\u001b[37m              \u001b[0m│\n",
       "│\u001b[2m     \u001b[0m│                                             │              │        │       │\u001b[37m \u001b[0m\u001b[37m    [176768,\u001b[0m\u001b[37m \u001b[0m│\u001b[37m              \u001b[0m│\n",
       "│\u001b[2m     \u001b[0m│                                             │              │        │       │\u001b[37m \u001b[0m\u001b[37m        50]]\u001b[0m\u001b[37m \u001b[0m│\u001b[37m              \u001b[0m│\n",
       "│\u001b[2m \u001b[0m\u001b[2m50 \u001b[0m\u001b[2m \u001b[0m│ encoder.interactions.4.mlp                  │ Sequential   │ 23.0 K │ train │\u001b[37m \u001b[0m\u001b[37m[176768, 50]\u001b[0m\u001b[37m \u001b[0m│\u001b[37m \u001b[0m\u001b[37m    [176768,\u001b[0m\u001b[37m \u001b[0m│\n",
       "│\u001b[2m     \u001b[0m│                                             │              │        │       │\u001b[37m              \u001b[0m│\u001b[37m \u001b[0m\u001b[37m        128]\u001b[0m\u001b[37m \u001b[0m│\n",
       "│\u001b[2m \u001b[0m\u001b[2m51 \u001b[0m\u001b[2m \u001b[0m│ encoder.interactions.4.mlp.0                │ Linear       │  6.5 K │ train │\u001b[37m \u001b[0m\u001b[37m[176768, 50]\u001b[0m\u001b[37m \u001b[0m│\u001b[37m \u001b[0m\u001b[37m    [176768,\u001b[0m\u001b[37m \u001b[0m│\n",
       "│\u001b[2m     \u001b[0m│                                             │              │        │       │\u001b[37m              \u001b[0m│\u001b[37m \u001b[0m\u001b[37m        128]\u001b[0m\u001b[37m \u001b[0m│\n",
       "│\u001b[2m \u001b[0m\u001b[2m52 \u001b[0m\u001b[2m \u001b[0m│ encoder.interactions.4.mlp.1                │ ShiftedSoft… │      0 │ train │\u001b[37m \u001b[0m\u001b[37m    [176768,\u001b[0m\u001b[37m \u001b[0m│\u001b[37m \u001b[0m\u001b[37m    [176768,\u001b[0m\u001b[37m \u001b[0m│\n",
       "│\u001b[2m     \u001b[0m│                                             │              │        │       │\u001b[37m \u001b[0m\u001b[37m        128]\u001b[0m\u001b[37m \u001b[0m│\u001b[37m \u001b[0m\u001b[37m        128]\u001b[0m\u001b[37m \u001b[0m│\n",
       "│\u001b[2m \u001b[0m\u001b[2m53 \u001b[0m\u001b[2m \u001b[0m│ encoder.interactions.4.mlp.2                │ Linear       │ 16.5 K │ train │\u001b[37m \u001b[0m\u001b[37m    [176768,\u001b[0m\u001b[37m \u001b[0m│\u001b[37m \u001b[0m\u001b[37m    [176768,\u001b[0m\u001b[37m \u001b[0m│\n",
       "│\u001b[2m     \u001b[0m│                                             │              │        │       │\u001b[37m \u001b[0m\u001b[37m        128]\u001b[0m\u001b[37m \u001b[0m│\u001b[37m \u001b[0m\u001b[37m        128]\u001b[0m\u001b[37m \u001b[0m│\n",
       "│\u001b[2m \u001b[0m\u001b[2m54 \u001b[0m\u001b[2m \u001b[0m│ encoder.interactions.4.conv                 │ CFConv       │  154 K │ train │\u001b[37m \u001b[0m\u001b[37m    [[11048,\u001b[0m\u001b[37m \u001b[0m│\u001b[37m \u001b[0m\u001b[37m[11048, 512]\u001b[0m\u001b[37m \u001b[0m│\n",
       "│\u001b[2m     \u001b[0m│                                             │              │        │       │\u001b[37m \u001b[0m\u001b[37m   512], [2,\u001b[0m\u001b[37m \u001b[0m│\u001b[37m              \u001b[0m│\n",
       "│\u001b[2m     \u001b[0m│                                             │              │        │       │\u001b[37m \u001b[0m\u001b[37m    176768],\u001b[0m\u001b[37m \u001b[0m│\u001b[37m              \u001b[0m│\n",
       "│\u001b[2m     \u001b[0m│                                             │              │        │       │\u001b[37m \u001b[0m\u001b[37m   [176768],\u001b[0m\u001b[37m \u001b[0m│\u001b[37m              \u001b[0m│\n",
       "│\u001b[2m     \u001b[0m│                                             │              │        │       │\u001b[37m \u001b[0m\u001b[37m    [176768,\u001b[0m\u001b[37m \u001b[0m│\u001b[37m              \u001b[0m│\n",
       "│\u001b[2m     \u001b[0m│                                             │              │        │       │\u001b[37m \u001b[0m\u001b[37m        50]]\u001b[0m\u001b[37m \u001b[0m│\u001b[37m              \u001b[0m│\n",
       "│\u001b[2m \u001b[0m\u001b[2m55 \u001b[0m\u001b[2m \u001b[0m│ encoder.interactions.4.conv.aggr_module     │ SumAggregat… │      0 │ train │\u001b[37m \u001b[0m\u001b[37m   [[176768,\u001b[0m\u001b[37m \u001b[0m│\u001b[37m \u001b[0m\u001b[37m[11048, 128]\u001b[0m\u001b[37m \u001b[0m│\n",
       "│\u001b[2m     \u001b[0m│                                             │              │        │       │\u001b[37m \u001b[0m\u001b[37m       128],\u001b[0m\u001b[37m \u001b[0m│\u001b[37m              \u001b[0m│\n",
       "│\u001b[2m     \u001b[0m│                                             │              │        │       │\u001b[37m \u001b[0m\u001b[37m   [176768],\u001b[0m\u001b[37m \u001b[0m│\u001b[37m              \u001b[0m│\n",
       "│\u001b[2m     \u001b[0m│                                             │              │        │       │\u001b[37m \u001b[0m\u001b[37m   '?', '?',\u001b[0m\u001b[37m \u001b[0m│\u001b[37m              \u001b[0m│\n",
       "│\u001b[2m     \u001b[0m│                                             │              │        │       │\u001b[37m \u001b[0m\u001b[37m        '?']\u001b[0m\u001b[37m \u001b[0m│\u001b[37m              \u001b[0m│\n",
       "│\u001b[2m \u001b[0m\u001b[2m56 \u001b[0m\u001b[2m \u001b[0m│ encoder.interactions.4.conv.lin1            │ Linear       │ 65.5 K │ train │\u001b[37m \u001b[0m\u001b[37m[11048, 512]\u001b[0m\u001b[37m \u001b[0m│\u001b[37m \u001b[0m\u001b[37m[11048, 128]\u001b[0m\u001b[37m \u001b[0m│\n",
       "│\u001b[2m \u001b[0m\u001b[2m57 \u001b[0m\u001b[2m \u001b[0m│ encoder.interactions.4.conv.lin2            │ Linear       │ 66.0 K │ train │\u001b[37m \u001b[0m\u001b[37m[11048, 128]\u001b[0m\u001b[37m \u001b[0m│\u001b[37m \u001b[0m\u001b[37m[11048, 512]\u001b[0m\u001b[37m \u001b[0m│\n",
       "│\u001b[2m \u001b[0m\u001b[2m58 \u001b[0m\u001b[2m \u001b[0m│ encoder.interactions.4.act                  │ ShiftedSoft… │      0 │ train │\u001b[37m \u001b[0m\u001b[37m[11048, 512]\u001b[0m\u001b[37m \u001b[0m│\u001b[37m \u001b[0m\u001b[37m[11048, 512]\u001b[0m\u001b[37m \u001b[0m│\n",
       "│\u001b[2m \u001b[0m\u001b[2m59 \u001b[0m\u001b[2m \u001b[0m│ encoder.interactions.4.lin                  │ Linear       │  262 K │ train │\u001b[37m \u001b[0m\u001b[37m[11048, 512]\u001b[0m\u001b[37m \u001b[0m│\u001b[37m \u001b[0m\u001b[37m[11048, 512]\u001b[0m\u001b[37m \u001b[0m│\n",
       "│\u001b[2m \u001b[0m\u001b[2m60 \u001b[0m\u001b[2m \u001b[0m│ encoder.interactions.5                      │ Interaction… │  417 K │ train │\u001b[37m \u001b[0m\u001b[37m    [[11048,\u001b[0m\u001b[37m \u001b[0m│\u001b[37m \u001b[0m\u001b[37m[11048, 512]\u001b[0m\u001b[37m \u001b[0m│\n",
       "│\u001b[2m     \u001b[0m│                                             │              │        │       │\u001b[37m \u001b[0m\u001b[37m   512], [2,\u001b[0m\u001b[37m \u001b[0m│\u001b[37m              \u001b[0m│\n",
       "│\u001b[2m     \u001b[0m│                                             │              │        │       │\u001b[37m \u001b[0m\u001b[37m    176768],\u001b[0m\u001b[37m \u001b[0m│\u001b[37m              \u001b[0m│\n",
       "│\u001b[2m     \u001b[0m│                                             │              │        │       │\u001b[37m \u001b[0m\u001b[37m   [176768],\u001b[0m\u001b[37m \u001b[0m│\u001b[37m              \u001b[0m│\n",
       "│\u001b[2m     \u001b[0m│                                             │              │        │       │\u001b[37m \u001b[0m\u001b[37m    [176768,\u001b[0m\u001b[37m \u001b[0m│\u001b[37m              \u001b[0m│\n",
       "│\u001b[2m     \u001b[0m│                                             │              │        │       │\u001b[37m \u001b[0m\u001b[37m        50]]\u001b[0m\u001b[37m \u001b[0m│\u001b[37m              \u001b[0m│\n",
       "│\u001b[2m \u001b[0m\u001b[2m61 \u001b[0m\u001b[2m \u001b[0m│ encoder.interactions.5.mlp                  │ Sequential   │ 23.0 K │ train │\u001b[37m \u001b[0m\u001b[37m[176768, 50]\u001b[0m\u001b[37m \u001b[0m│\u001b[37m \u001b[0m\u001b[37m    [176768,\u001b[0m\u001b[37m \u001b[0m│\n",
       "│\u001b[2m     \u001b[0m│                                             │              │        │       │\u001b[37m              \u001b[0m│\u001b[37m \u001b[0m\u001b[37m        128]\u001b[0m\u001b[37m \u001b[0m│\n",
       "│\u001b[2m \u001b[0m\u001b[2m62 \u001b[0m\u001b[2m \u001b[0m│ encoder.interactions.5.mlp.0                │ Linear       │  6.5 K │ train │\u001b[37m \u001b[0m\u001b[37m[176768, 50]\u001b[0m\u001b[37m \u001b[0m│\u001b[37m \u001b[0m\u001b[37m    [176768,\u001b[0m\u001b[37m \u001b[0m│\n",
       "│\u001b[2m     \u001b[0m│                                             │              │        │       │\u001b[37m              \u001b[0m│\u001b[37m \u001b[0m\u001b[37m        128]\u001b[0m\u001b[37m \u001b[0m│\n",
       "│\u001b[2m \u001b[0m\u001b[2m63 \u001b[0m\u001b[2m \u001b[0m│ encoder.interactions.5.mlp.1                │ ShiftedSoft… │      0 │ train │\u001b[37m \u001b[0m\u001b[37m    [176768,\u001b[0m\u001b[37m \u001b[0m│\u001b[37m \u001b[0m\u001b[37m    [176768,\u001b[0m\u001b[37m \u001b[0m│\n",
       "│\u001b[2m     \u001b[0m│                                             │              │        │       │\u001b[37m \u001b[0m\u001b[37m        128]\u001b[0m\u001b[37m \u001b[0m│\u001b[37m \u001b[0m\u001b[37m        128]\u001b[0m\u001b[37m \u001b[0m│\n",
       "│\u001b[2m \u001b[0m\u001b[2m64 \u001b[0m\u001b[2m \u001b[0m│ encoder.interactions.5.mlp.2                │ Linear       │ 16.5 K │ train │\u001b[37m \u001b[0m\u001b[37m    [176768,\u001b[0m\u001b[37m \u001b[0m│\u001b[37m \u001b[0m\u001b[37m    [176768,\u001b[0m\u001b[37m \u001b[0m│\n",
       "│\u001b[2m     \u001b[0m│                                             │              │        │       │\u001b[37m \u001b[0m\u001b[37m        128]\u001b[0m\u001b[37m \u001b[0m│\u001b[37m \u001b[0m\u001b[37m        128]\u001b[0m\u001b[37m \u001b[0m│\n",
       "│\u001b[2m \u001b[0m\u001b[2m65 \u001b[0m\u001b[2m \u001b[0m│ encoder.interactions.5.conv                 │ CFConv       │  154 K │ train │\u001b[37m \u001b[0m\u001b[37m    [[11048,\u001b[0m\u001b[37m \u001b[0m│\u001b[37m \u001b[0m\u001b[37m[11048, 512]\u001b[0m\u001b[37m \u001b[0m│\n",
       "│\u001b[2m     \u001b[0m│                                             │              │        │       │\u001b[37m \u001b[0m\u001b[37m   512], [2,\u001b[0m\u001b[37m \u001b[0m│\u001b[37m              \u001b[0m│\n",
       "│\u001b[2m     \u001b[0m│                                             │              │        │       │\u001b[37m \u001b[0m\u001b[37m    176768],\u001b[0m\u001b[37m \u001b[0m│\u001b[37m              \u001b[0m│\n",
       "│\u001b[2m     \u001b[0m│                                             │              │        │       │\u001b[37m \u001b[0m\u001b[37m   [176768],\u001b[0m\u001b[37m \u001b[0m│\u001b[37m              \u001b[0m│\n",
       "│\u001b[2m     \u001b[0m│                                             │              │        │       │\u001b[37m \u001b[0m\u001b[37m    [176768,\u001b[0m\u001b[37m \u001b[0m│\u001b[37m              \u001b[0m│\n",
       "│\u001b[2m     \u001b[0m│                                             │              │        │       │\u001b[37m \u001b[0m\u001b[37m        50]]\u001b[0m\u001b[37m \u001b[0m│\u001b[37m              \u001b[0m│\n",
       "│\u001b[2m \u001b[0m\u001b[2m66 \u001b[0m\u001b[2m \u001b[0m│ encoder.interactions.5.conv.aggr_module     │ SumAggregat… │      0 │ train │\u001b[37m \u001b[0m\u001b[37m   [[176768,\u001b[0m\u001b[37m \u001b[0m│\u001b[37m \u001b[0m\u001b[37m[11048, 128]\u001b[0m\u001b[37m \u001b[0m│\n",
       "│\u001b[2m     \u001b[0m│                                             │              │        │       │\u001b[37m \u001b[0m\u001b[37m       128],\u001b[0m\u001b[37m \u001b[0m│\u001b[37m              \u001b[0m│\n",
       "│\u001b[2m     \u001b[0m│                                             │              │        │       │\u001b[37m \u001b[0m\u001b[37m   [176768],\u001b[0m\u001b[37m \u001b[0m│\u001b[37m              \u001b[0m│\n",
       "│\u001b[2m     \u001b[0m│                                             │              │        │       │\u001b[37m \u001b[0m\u001b[37m   '?', '?',\u001b[0m\u001b[37m \u001b[0m│\u001b[37m              \u001b[0m│\n",
       "│\u001b[2m     \u001b[0m│                                             │              │        │       │\u001b[37m \u001b[0m\u001b[37m        '?']\u001b[0m\u001b[37m \u001b[0m│\u001b[37m              \u001b[0m│\n",
       "│\u001b[2m \u001b[0m\u001b[2m67 \u001b[0m\u001b[2m \u001b[0m│ encoder.interactions.5.conv.lin1            │ Linear       │ 65.5 K │ train │\u001b[37m \u001b[0m\u001b[37m[11048, 512]\u001b[0m\u001b[37m \u001b[0m│\u001b[37m \u001b[0m\u001b[37m[11048, 128]\u001b[0m\u001b[37m \u001b[0m│\n",
       "│\u001b[2m \u001b[0m\u001b[2m68 \u001b[0m\u001b[2m \u001b[0m│ encoder.interactions.5.conv.lin2            │ Linear       │ 66.0 K │ train │\u001b[37m \u001b[0m\u001b[37m[11048, 128]\u001b[0m\u001b[37m \u001b[0m│\u001b[37m \u001b[0m\u001b[37m[11048, 512]\u001b[0m\u001b[37m \u001b[0m│\n",
       "│\u001b[2m \u001b[0m\u001b[2m69 \u001b[0m\u001b[2m \u001b[0m│ encoder.interactions.5.act                  │ ShiftedSoft… │      0 │ train │\u001b[37m \u001b[0m\u001b[37m[11048, 512]\u001b[0m\u001b[37m \u001b[0m│\u001b[37m \u001b[0m\u001b[37m[11048, 512]\u001b[0m\u001b[37m \u001b[0m│\n",
       "│\u001b[2m \u001b[0m\u001b[2m70 \u001b[0m\u001b[2m \u001b[0m│ encoder.interactions.5.lin                  │ Linear       │  262 K │ train │\u001b[37m \u001b[0m\u001b[37m[11048, 512]\u001b[0m\u001b[37m \u001b[0m│\u001b[37m \u001b[0m\u001b[37m[11048, 512]\u001b[0m\u001b[37m \u001b[0m│\n",
       "│\u001b[2m \u001b[0m\u001b[2m71 \u001b[0m\u001b[2m \u001b[0m│ encoder.lin1                                │ Linear       │  131 K │ train │\u001b[37m \u001b[0m\u001b[37m[11048, 512]\u001b[0m\u001b[37m \u001b[0m│\u001b[37m \u001b[0m\u001b[37m[11048, 256]\u001b[0m\u001b[37m \u001b[0m│\n",
       "│\u001b[2m \u001b[0m\u001b[2m72 \u001b[0m\u001b[2m \u001b[0m│ encoder.act                                 │ ShiftedSoft… │      0 │ train │\u001b[37m \u001b[0m\u001b[37m[11048, 256]\u001b[0m\u001b[37m \u001b[0m│\u001b[37m \u001b[0m\u001b[37m[11048, 256]\u001b[0m\u001b[37m \u001b[0m│\n",
       "│\u001b[2m \u001b[0m\u001b[2m73 \u001b[0m\u001b[2m \u001b[0m│ encoder.lin2                                │ Linear       │  8.2 K │ train │\u001b[37m \u001b[0m\u001b[37m[11048, 256]\u001b[0m\u001b[37m \u001b[0m│\u001b[37m \u001b[0m\u001b[37m [11048, 32]\u001b[0m\u001b[37m \u001b[0m│\n",
       "│\u001b[2m \u001b[0m\u001b[2m74 \u001b[0m\u001b[2m \u001b[0m│ decoder                                     │ ModuleDict   │  2.7 M │ train │\u001b[37m \u001b[0m\u001b[37m           ?\u001b[0m\u001b[37m \u001b[0m│\u001b[37m \u001b[0m\u001b[37m           ?\u001b[0m\u001b[37m \u001b[0m│\n",
       "│\u001b[2m \u001b[0m\u001b[2m75 \u001b[0m\u001b[2m \u001b[0m│ decoder.graph_label                         │ MLPDecoder   │  2.7 M │ train │\u001b[37m \u001b[0m\u001b[37m    [32, 32]\u001b[0m\u001b[37m \u001b[0m│\u001b[37m \u001b[0m\u001b[37m  [32, 1195]\u001b[0m\u001b[37m \u001b[0m│\n",
       "│\u001b[2m \u001b[0m\u001b[2m76 \u001b[0m\u001b[2m \u001b[0m│ decoder.graph_label.layers                  │ LinearSkipB… │  2.7 M │ train │\u001b[37m \u001b[0m\u001b[37m    [32, 32]\u001b[0m\u001b[37m \u001b[0m│\u001b[37m \u001b[0m\u001b[37m  [32, 1195]\u001b[0m\u001b[37m \u001b[0m│\n",
       "│\u001b[2m \u001b[0m\u001b[2m77 \u001b[0m\u001b[2m \u001b[0m│ decoder.graph_label.layers.layers           │ ModuleList   │  2.7 M │ train │\u001b[37m \u001b[0m\u001b[37m           ?\u001b[0m\u001b[37m \u001b[0m│\u001b[37m \u001b[0m\u001b[37m           ?\u001b[0m\u001b[37m \u001b[0m│\n",
       "│\u001b[2m \u001b[0m\u001b[2m78 \u001b[0m\u001b[2m \u001b[0m│ decoder.graph_label.layers.layers.0         │ Linear       │ 16.9 K │ train │\u001b[37m \u001b[0m\u001b[37m    [32, 32]\u001b[0m\u001b[37m \u001b[0m│\u001b[37m \u001b[0m\u001b[37m   [32, 512]\u001b[0m\u001b[37m \u001b[0m│\n",
       "│\u001b[2m \u001b[0m\u001b[2m79 \u001b[0m\u001b[2m \u001b[0m│ decoder.graph_label.layers.layers.1         │ Linear       │  279 K │ train │\u001b[37m \u001b[0m\u001b[37m   [32, 544]\u001b[0m\u001b[37m \u001b[0m│\u001b[37m \u001b[0m\u001b[37m   [32, 512]\u001b[0m\u001b[37m \u001b[0m│\n",
       "│\u001b[2m \u001b[0m\u001b[2m80 \u001b[0m\u001b[2m \u001b[0m│ decoder.graph_label.layers.layers.2         │ Linear       │  541 K │ train │\u001b[37m \u001b[0m\u001b[37m  [32, 1056]\u001b[0m\u001b[37m \u001b[0m│\u001b[37m \u001b[0m\u001b[37m   [32, 512]\u001b[0m\u001b[37m \u001b[0m│\n",
       "│\u001b[2m \u001b[0m\u001b[2m81 \u001b[0m\u001b[2m \u001b[0m│ decoder.graph_label.layers.layers.3         │ Linear       │  1.9 M │ train │\u001b[37m \u001b[0m\u001b[37m  [32, 1568]\u001b[0m\u001b[37m \u001b[0m│\u001b[37m \u001b[0m\u001b[37m  [32, 1195]\u001b[0m\u001b[37m \u001b[0m│\n",
       "│\u001b[2m \u001b[0m\u001b[2m82 \u001b[0m\u001b[2m \u001b[0m│ decoder.graph_label.layers.activations      │ ModuleList   │      0 │ train │\u001b[37m \u001b[0m\u001b[37m           ?\u001b[0m\u001b[37m \u001b[0m│\u001b[37m \u001b[0m\u001b[37m           ?\u001b[0m\u001b[37m \u001b[0m│\n",
       "│\u001b[2m \u001b[0m\u001b[2m83 \u001b[0m\u001b[2m \u001b[0m│ decoder.graph_label.layers.activations.0    │ ReLU         │      0 │ train │\u001b[37m \u001b[0m\u001b[37m   [32, 512]\u001b[0m\u001b[37m \u001b[0m│\u001b[37m \u001b[0m\u001b[37m   [32, 512]\u001b[0m\u001b[37m \u001b[0m│\n",
       "│\u001b[2m \u001b[0m\u001b[2m84 \u001b[0m\u001b[2m \u001b[0m│ decoder.graph_label.layers.activations.1    │ ReLU         │      0 │ train │\u001b[37m \u001b[0m\u001b[37m   [32, 512]\u001b[0m\u001b[37m \u001b[0m│\u001b[37m \u001b[0m\u001b[37m   [32, 512]\u001b[0m\u001b[37m \u001b[0m│\n",
       "│\u001b[2m \u001b[0m\u001b[2m85 \u001b[0m\u001b[2m \u001b[0m│ decoder.graph_label.layers.activations.2    │ ReLU         │      0 │ train │\u001b[37m \u001b[0m\u001b[37m   [32, 512]\u001b[0m\u001b[37m \u001b[0m│\u001b[37m \u001b[0m\u001b[37m   [32, 512]\u001b[0m\u001b[37m \u001b[0m│\n",
       "│\u001b[2m \u001b[0m\u001b[2m86 \u001b[0m\u001b[2m \u001b[0m│ decoder.graph_label.layers.activations.3    │ Identity     │      0 │ train │\u001b[37m \u001b[0m\u001b[37m  [32, 1195]\u001b[0m\u001b[37m \u001b[0m│\u001b[37m \u001b[0m\u001b[37m  [32, 1195]\u001b[0m\u001b[37m \u001b[0m│\n",
       "│\u001b[2m \u001b[0m\u001b[2m87 \u001b[0m\u001b[2m \u001b[0m│ decoder.graph_label.layers.dropout_layers   │ ModuleList   │      0 │ train │\u001b[37m \u001b[0m\u001b[37m           ?\u001b[0m\u001b[37m \u001b[0m│\u001b[37m \u001b[0m\u001b[37m           ?\u001b[0m\u001b[37m \u001b[0m│\n",
       "│\u001b[2m \u001b[0m\u001b[2m88 \u001b[0m\u001b[2m \u001b[0m│ decoder.graph_label.layers.dropout_layers.0 │ Dropout      │      0 │ train │\u001b[37m \u001b[0m\u001b[37m   [32, 512]\u001b[0m\u001b[37m \u001b[0m│\u001b[37m \u001b[0m\u001b[37m   [32, 512]\u001b[0m\u001b[37m \u001b[0m│\n",
       "│\u001b[2m \u001b[0m\u001b[2m89 \u001b[0m\u001b[2m \u001b[0m│ decoder.graph_label.layers.dropout_layers.1 │ Dropout      │      0 │ train │\u001b[37m \u001b[0m\u001b[37m   [32, 512]\u001b[0m\u001b[37m \u001b[0m│\u001b[37m \u001b[0m\u001b[37m   [32, 512]\u001b[0m\u001b[37m \u001b[0m│\n",
       "│\u001b[2m \u001b[0m\u001b[2m90 \u001b[0m\u001b[2m \u001b[0m│ decoder.graph_label.layers.dropout_layers.2 │ Dropout      │      0 │ train │\u001b[37m \u001b[0m\u001b[37m   [32, 512]\u001b[0m\u001b[37m \u001b[0m│\u001b[37m \u001b[0m\u001b[37m   [32, 512]\u001b[0m\u001b[37m \u001b[0m│\n",
       "│\u001b[2m \u001b[0m\u001b[2m91 \u001b[0m\u001b[2m \u001b[0m│ test_graph_label_accuracy                   │ MulticlassA… │      0 │ train │\u001b[37m \u001b[0m\u001b[37m           ?\u001b[0m\u001b[37m \u001b[0m│\u001b[37m \u001b[0m\u001b[37m           ?\u001b[0m\u001b[37m \u001b[0m│\n",
       "│\u001b[2m \u001b[0m\u001b[2m92 \u001b[0m\u001b[2m \u001b[0m│ train_graph_label_accuracy                  │ MulticlassA… │      0 │ train │\u001b[37m \u001b[0m\u001b[37m           ?\u001b[0m\u001b[37m \u001b[0m│\u001b[37m \u001b[0m\u001b[37m           ?\u001b[0m\u001b[37m \u001b[0m│\n",
       "│\u001b[2m \u001b[0m\u001b[2m93 \u001b[0m\u001b[2m \u001b[0m│ val_graph_label_accuracy                    │ MulticlassA… │      0 │ train │\u001b[37m \u001b[0m\u001b[37m           ?\u001b[0m\u001b[37m \u001b[0m│\u001b[37m \u001b[0m\u001b[37m           ?\u001b[0m\u001b[37m \u001b[0m│\n",
       "│\u001b[2m \u001b[0m\u001b[2m94 \u001b[0m\u001b[2m \u001b[0m│ test_graph_label_f1_score                   │ MulticlassF… │      0 │ train │\u001b[37m \u001b[0m\u001b[37m           ?\u001b[0m\u001b[37m \u001b[0m│\u001b[37m \u001b[0m\u001b[37m           ?\u001b[0m\u001b[37m \u001b[0m│\n",
       "│\u001b[2m \u001b[0m\u001b[2m95 \u001b[0m\u001b[2m \u001b[0m│ train_graph_label_f1_score                  │ MulticlassF… │      0 │ train │\u001b[37m \u001b[0m\u001b[37m           ?\u001b[0m\u001b[37m \u001b[0m│\u001b[37m \u001b[0m\u001b[37m           ?\u001b[0m\u001b[37m \u001b[0m│\n",
       "│\u001b[2m \u001b[0m\u001b[2m96 \u001b[0m\u001b[2m \u001b[0m│ val_graph_label_f1_score                    │ MulticlassF… │      0 │ train │\u001b[37m \u001b[0m\u001b[37m           ?\u001b[0m\u001b[37m \u001b[0m│\u001b[37m \u001b[0m\u001b[37m           ?\u001b[0m\u001b[37m \u001b[0m│\n",
       "│\u001b[2m \u001b[0m\u001b[2m97 \u001b[0m\u001b[2m \u001b[0m│ test_graph_label_f1_max                     │ F1Max        │      0 │ train │\u001b[37m \u001b[0m\u001b[37m           ?\u001b[0m\u001b[37m \u001b[0m│\u001b[37m \u001b[0m\u001b[37m           ?\u001b[0m\u001b[37m \u001b[0m│\n",
       "│\u001b[2m \u001b[0m\u001b[2m98 \u001b[0m\u001b[2m \u001b[0m│ train_graph_label_f1_max                    │ F1Max        │      0 │ train │\u001b[37m \u001b[0m\u001b[37m           ?\u001b[0m\u001b[37m \u001b[0m│\u001b[37m \u001b[0m\u001b[37m           ?\u001b[0m\u001b[37m \u001b[0m│\n",
       "│\u001b[2m \u001b[0m\u001b[2m99 \u001b[0m\u001b[2m \u001b[0m│ val_graph_label_f1_max                      │ F1Max        │      0 │ train │\u001b[37m \u001b[0m\u001b[37m           ?\u001b[0m\u001b[37m \u001b[0m│\u001b[37m \u001b[0m\u001b[37m           ?\u001b[0m\u001b[37m \u001b[0m│\n",
       "│\u001b[2m \u001b[0m\u001b[2m100\u001b[0m\u001b[2m \u001b[0m│ featuriser                                  │ ProteinFeat… │      0 │ train │\u001b[37m \u001b[0m\u001b[37m           ?\u001b[0m\u001b[37m \u001b[0m│\u001b[37m \u001b[0m\u001b[37m           ?\u001b[0m\u001b[37m \u001b[0m│\n",
       "└─────┴─────────────────────────────────────────────┴──────────────┴────────┴───────┴──────────────┴──────────────┘\n"
      ]
     },
     "metadata": {},
     "output_type": "display_data"
    },
    {
     "data": {
      "text/html": [
       "<pre style=\"white-space:pre;overflow-x:auto;line-height:normal;font-family:Menlo,'DejaVu Sans Mono',consolas,'Courier New',monospace\"><span style=\"font-weight: bold\">Trainable params</span>: 5.4 M                                                                                            \n",
       "<span style=\"font-weight: bold\">Non-trainable params</span>: 0                                                                                            \n",
       "<span style=\"font-weight: bold\">Total params</span>: 5.4 M                                                                                                \n",
       "<span style=\"font-weight: bold\">Total estimated model params size (MB)</span>: 21                                                                         \n",
       "</pre>\n"
      ],
      "text/plain": [
       "\u001b[1mTrainable params\u001b[0m: 5.4 M                                                                                            \n",
       "\u001b[1mNon-trainable params\u001b[0m: 0                                                                                            \n",
       "\u001b[1mTotal params\u001b[0m: 5.4 M                                                                                                \n",
       "\u001b[1mTotal estimated model params size (MB)\u001b[0m: 21                                                                         \n"
      ]
     },
     "metadata": {},
     "output_type": "display_data"
    },
    {
     "data": {
      "application/vnd.jupyter.widget-view+json": {
       "model_id": "9344352844d3422ea5bf78c3112fcae5",
       "version_major": 2,
       "version_minor": 0
      },
      "text/plain": [
       "Output()"
      ]
     },
     "metadata": {},
     "output_type": "display_data"
    },
    {
     "data": {
      "text/html": [
       "<pre style=\"white-space:pre;overflow-x:auto;line-height:normal;font-family:Menlo,'DejaVu Sans Mono',consolas,'Courier New',monospace\">/home/zhang/miniconda3/envs/3d/lib/python3.10/site-packages/lightning/pytorch/utilities/data.py:78: UserWarning:\n",
       "\n",
       "Trying to infer the `batch_size` from an ambiguous collection. The batch size we found is 7747. To avoid any \n",
       "miscalculations, use `self.log(..., batch_size=batch_size)`.\n",
       "\n",
       "</pre>\n"
      ],
      "text/plain": [
       "/home/zhang/miniconda3/envs/3d/lib/python3.10/site-packages/lightning/pytorch/utilities/data.py:78: UserWarning:\n",
       "\n",
       "Trying to infer the `batch_size` from an ambiguous collection. The batch size we found is 7747. To avoid any \n",
       "miscalculations, use `self.log(..., batch_size=batch_size)`.\n",
       "\n"
      ]
     },
     "metadata": {},
     "output_type": "display_data"
    },
    {
     "data": {
      "text/html": [
       "<pre style=\"white-space:pre;overflow-x:auto;line-height:normal;font-family:Menlo,'DejaVu Sans Mono',consolas,'Courier New',monospace\">/home/zhang/miniconda3/envs/3d/lib/python3.10/site-packages/lightning/pytorch/utilities/data.py:78: UserWarning:\n",
       "\n",
       "Trying to infer the `batch_size` from an ambiguous collection. The batch size we found is 3294. To avoid any \n",
       "miscalculations, use `self.log(..., batch_size=batch_size)`.\n",
       "\n",
       "</pre>\n"
      ],
      "text/plain": [
       "/home/zhang/miniconda3/envs/3d/lib/python3.10/site-packages/lightning/pytorch/utilities/data.py:78: UserWarning:\n",
       "\n",
       "Trying to infer the `batch_size` from an ambiguous collection. The batch size we found is 3294. To avoid any \n",
       "miscalculations, use `self.log(..., batch_size=batch_size)`.\n",
       "\n"
      ]
     },
     "metadata": {},
     "output_type": "display_data"
    },
    {
     "data": {
      "text/html": [
       "<pre style=\"white-space:pre;overflow-x:auto;line-height:normal;font-family:Menlo,'DejaVu Sans Mono',consolas,'Courier New',monospace\">/home/zhang/miniconda3/envs/3d/lib/python3.10/site-packages/lightning/pytorch/utilities/data.py:78: UserWarning:\n",
       "\n",
       "Trying to infer the `batch_size` from an ambiguous collection. The batch size we found is 3653. To avoid any \n",
       "miscalculations, use `self.log(..., batch_size=batch_size)`.\n",
       "\n",
       "</pre>\n"
      ],
      "text/plain": [
       "/home/zhang/miniconda3/envs/3d/lib/python3.10/site-packages/lightning/pytorch/utilities/data.py:78: UserWarning:\n",
       "\n",
       "Trying to infer the `batch_size` from an ambiguous collection. The batch size we found is 3653. To avoid any \n",
       "miscalculations, use `self.log(..., batch_size=batch_size)`.\n",
       "\n"
      ]
     },
     "metadata": {},
     "output_type": "display_data"
    },
    {
     "data": {
      "text/html": [
       "<pre style=\"white-space:pre;overflow-x:auto;line-height:normal;font-family:Menlo,'DejaVu Sans Mono',consolas,'Courier New',monospace\">/home/zhang/miniconda3/envs/3d/lib/python3.10/site-packages/lightning/pytorch/utilities/data.py:78: UserWarning:\n",
       "\n",
       "Trying to infer the `batch_size` from an ambiguous collection. The batch size we found is 3318. To avoid any \n",
       "miscalculations, use `self.log(..., batch_size=batch_size)`.\n",
       "\n",
       "</pre>\n"
      ],
      "text/plain": [
       "/home/zhang/miniconda3/envs/3d/lib/python3.10/site-packages/lightning/pytorch/utilities/data.py:78: UserWarning:\n",
       "\n",
       "Trying to infer the `batch_size` from an ambiguous collection. The batch size we found is 3318. To avoid any \n",
       "miscalculations, use `self.log(..., batch_size=batch_size)`.\n",
       "\n"
      ]
     },
     "metadata": {},
     "output_type": "display_data"
    },
    {
     "data": {
      "text/html": [
       "<pre style=\"white-space:pre;overflow-x:auto;line-height:normal;font-family:Menlo,'DejaVu Sans Mono',consolas,'Courier New',monospace\">/home/zhang/miniconda3/envs/3d/lib/python3.10/site-packages/lightning/pytorch/utilities/data.py:78: UserWarning:\n",
       "\n",
       "Trying to infer the `batch_size` from an ambiguous collection. The batch size we found is 4735. To avoid any \n",
       "miscalculations, use `self.log(..., batch_size=batch_size)`.\n",
       "\n",
       "</pre>\n"
      ],
      "text/plain": [
       "/home/zhang/miniconda3/envs/3d/lib/python3.10/site-packages/lightning/pytorch/utilities/data.py:78: UserWarning:\n",
       "\n",
       "Trying to infer the `batch_size` from an ambiguous collection. The batch size we found is 4735. To avoid any \n",
       "miscalculations, use `self.log(..., batch_size=batch_size)`.\n",
       "\n"
      ]
     },
     "metadata": {},
     "output_type": "display_data"
    },
    {
     "data": {
      "text/html": [
       "<pre style=\"white-space:pre;overflow-x:auto;line-height:normal;font-family:Menlo,'DejaVu Sans Mono',consolas,'Courier New',monospace\">/home/zhang/miniconda3/envs/3d/lib/python3.10/site-packages/lightning/pytorch/utilities/data.py:78: UserWarning:\n",
       "\n",
       "Trying to infer the `batch_size` from an ambiguous collection. The batch size we found is 5111. To avoid any \n",
       "miscalculations, use `self.log(..., batch_size=batch_size)`.\n",
       "\n",
       "</pre>\n"
      ],
      "text/plain": [
       "/home/zhang/miniconda3/envs/3d/lib/python3.10/site-packages/lightning/pytorch/utilities/data.py:78: UserWarning:\n",
       "\n",
       "Trying to infer the `batch_size` from an ambiguous collection. The batch size we found is 5111. To avoid any \n",
       "miscalculations, use `self.log(..., batch_size=batch_size)`.\n",
       "\n"
      ]
     },
     "metadata": {},
     "output_type": "display_data"
    },
    {
     "data": {
      "text/html": [
       "<pre style=\"white-space:pre;overflow-x:auto;line-height:normal;font-family:Menlo,'DejaVu Sans Mono',consolas,'Courier New',monospace\">/home/zhang/miniconda3/envs/3d/lib/python3.10/site-packages/lightning/pytorch/utilities/data.py:78: UserWarning:\n",
       "\n",
       "Trying to infer the `batch_size` from an ambiguous collection. The batch size we found is 5273. To avoid any \n",
       "miscalculations, use `self.log(..., batch_size=batch_size)`.\n",
       "\n",
       "</pre>\n"
      ],
      "text/plain": [
       "/home/zhang/miniconda3/envs/3d/lib/python3.10/site-packages/lightning/pytorch/utilities/data.py:78: UserWarning:\n",
       "\n",
       "Trying to infer the `batch_size` from an ambiguous collection. The batch size we found is 5273. To avoid any \n",
       "miscalculations, use `self.log(..., batch_size=batch_size)`.\n",
       "\n"
      ]
     },
     "metadata": {},
     "output_type": "display_data"
    },
    {
     "data": {
      "text/html": [
       "<pre style=\"white-space:pre;overflow-x:auto;line-height:normal;font-family:Menlo,'DejaVu Sans Mono',consolas,'Courier New',monospace\">/home/zhang/miniconda3/envs/3d/lib/python3.10/site-packages/lightning/pytorch/utilities/data.py:78: UserWarning:\n",
       "\n",
       "Trying to infer the `batch_size` from an ambiguous collection. The batch size we found is 4600. To avoid any \n",
       "miscalculations, use `self.log(..., batch_size=batch_size)`.\n",
       "\n",
       "</pre>\n"
      ],
      "text/plain": [
       "/home/zhang/miniconda3/envs/3d/lib/python3.10/site-packages/lightning/pytorch/utilities/data.py:78: UserWarning:\n",
       "\n",
       "Trying to infer the `batch_size` from an ambiguous collection. The batch size we found is 4600. To avoid any \n",
       "miscalculations, use `self.log(..., batch_size=batch_size)`.\n",
       "\n"
      ]
     },
     "metadata": {},
     "output_type": "display_data"
    },
    {
     "data": {
      "text/html": [
       "<pre style=\"white-space:pre;overflow-x:auto;line-height:normal;font-family:Menlo,'DejaVu Sans Mono',consolas,'Courier New',monospace\">/home/zhang/miniconda3/envs/3d/lib/python3.10/site-packages/lightning/pytorch/utilities/data.py:78: UserWarning:\n",
       "\n",
       "Trying to infer the `batch_size` from an ambiguous collection. The batch size we found is 6333. To avoid any \n",
       "miscalculations, use `self.log(..., batch_size=batch_size)`.\n",
       "\n",
       "</pre>\n"
      ],
      "text/plain": [
       "/home/zhang/miniconda3/envs/3d/lib/python3.10/site-packages/lightning/pytorch/utilities/data.py:78: UserWarning:\n",
       "\n",
       "Trying to infer the `batch_size` from an ambiguous collection. The batch size we found is 6333. To avoid any \n",
       "miscalculations, use `self.log(..., batch_size=batch_size)`.\n",
       "\n"
      ]
     },
     "metadata": {},
     "output_type": "display_data"
    },
    {
     "data": {
      "text/html": [
       "<pre style=\"white-space:pre;overflow-x:auto;line-height:normal;font-family:Menlo,'DejaVu Sans Mono',consolas,'Courier New',monospace\">/home/zhang/miniconda3/envs/3d/lib/python3.10/site-packages/lightning/pytorch/utilities/data.py:78: UserWarning:\n",
       "\n",
       "Trying to infer the `batch_size` from an ambiguous collection. The batch size we found is 5666. To avoid any \n",
       "miscalculations, use `self.log(..., batch_size=batch_size)`.\n",
       "\n",
       "</pre>\n"
      ],
      "text/plain": [
       "/home/zhang/miniconda3/envs/3d/lib/python3.10/site-packages/lightning/pytorch/utilities/data.py:78: UserWarning:\n",
       "\n",
       "Trying to infer the `batch_size` from an ambiguous collection. The batch size we found is 5666. To avoid any \n",
       "miscalculations, use `self.log(..., batch_size=batch_size)`.\n",
       "\n"
      ]
     },
     "metadata": {},
     "output_type": "display_data"
    },
    {
     "data": {
      "text/html": [
       "<pre style=\"white-space:pre;overflow-x:auto;line-height:normal;font-family:Menlo,'DejaVu Sans Mono',consolas,'Courier New',monospace\">/home/zhang/miniconda3/envs/3d/lib/python3.10/site-packages/lightning/pytorch/utilities/data.py:78: UserWarning:\n",
       "\n",
       "Trying to infer the `batch_size` from an ambiguous collection. The batch size we found is 7748. To avoid any \n",
       "miscalculations, use `self.log(..., batch_size=batch_size)`.\n",
       "\n",
       "</pre>\n"
      ],
      "text/plain": [
       "/home/zhang/miniconda3/envs/3d/lib/python3.10/site-packages/lightning/pytorch/utilities/data.py:78: UserWarning:\n",
       "\n",
       "Trying to infer the `batch_size` from an ambiguous collection. The batch size we found is 7748. To avoid any \n",
       "miscalculations, use `self.log(..., batch_size=batch_size)`.\n",
       "\n"
      ]
     },
     "metadata": {},
     "output_type": "display_data"
    },
    {
     "data": {
      "text/html": [
       "<pre style=\"white-space:pre;overflow-x:auto;line-height:normal;font-family:Menlo,'DejaVu Sans Mono',consolas,'Courier New',monospace\">/home/zhang/miniconda3/envs/3d/lib/python3.10/site-packages/lightning/pytorch/utilities/data.py:78: UserWarning:\n",
       "\n",
       "Trying to infer the `batch_size` from an ambiguous collection. The batch size we found is 5948. To avoid any \n",
       "miscalculations, use `self.log(..., batch_size=batch_size)`.\n",
       "\n",
       "</pre>\n"
      ],
      "text/plain": [
       "/home/zhang/miniconda3/envs/3d/lib/python3.10/site-packages/lightning/pytorch/utilities/data.py:78: UserWarning:\n",
       "\n",
       "Trying to infer the `batch_size` from an ambiguous collection. The batch size we found is 5948. To avoid any \n",
       "miscalculations, use `self.log(..., batch_size=batch_size)`.\n",
       "\n"
      ]
     },
     "metadata": {},
     "output_type": "display_data"
    },
    {
     "data": {
      "text/html": [
       "<pre style=\"white-space:pre;overflow-x:auto;line-height:normal;font-family:Menlo,'DejaVu Sans Mono',consolas,'Courier New',monospace\">/home/zhang/miniconda3/envs/3d/lib/python3.10/site-packages/lightning/pytorch/utilities/data.py:78: UserWarning:\n",
       "\n",
       "Trying to infer the `batch_size` from an ambiguous collection. The batch size we found is 6651. To avoid any \n",
       "miscalculations, use `self.log(..., batch_size=batch_size)`.\n",
       "\n",
       "</pre>\n"
      ],
      "text/plain": [
       "/home/zhang/miniconda3/envs/3d/lib/python3.10/site-packages/lightning/pytorch/utilities/data.py:78: UserWarning:\n",
       "\n",
       "Trying to infer the `batch_size` from an ambiguous collection. The batch size we found is 6651. To avoid any \n",
       "miscalculations, use `self.log(..., batch_size=batch_size)`.\n",
       "\n"
      ]
     },
     "metadata": {},
     "output_type": "display_data"
    },
    {
     "data": {
      "text/html": [
       "<pre style=\"white-space:pre;overflow-x:auto;line-height:normal;font-family:Menlo,'DejaVu Sans Mono',consolas,'Courier New',monospace\">/home/zhang/miniconda3/envs/3d/lib/python3.10/site-packages/lightning/pytorch/utilities/data.py:78: UserWarning:\n",
       "\n",
       "Trying to infer the `batch_size` from an ambiguous collection. The batch size we found is 6680. To avoid any \n",
       "miscalculations, use `self.log(..., batch_size=batch_size)`.\n",
       "\n",
       "</pre>\n"
      ],
      "text/plain": [
       "/home/zhang/miniconda3/envs/3d/lib/python3.10/site-packages/lightning/pytorch/utilities/data.py:78: UserWarning:\n",
       "\n",
       "Trying to infer the `batch_size` from an ambiguous collection. The batch size we found is 6680. To avoid any \n",
       "miscalculations, use `self.log(..., batch_size=batch_size)`.\n",
       "\n"
      ]
     },
     "metadata": {},
     "output_type": "display_data"
    },
    {
     "data": {
      "text/html": [
       "<pre style=\"white-space:pre;overflow-x:auto;line-height:normal;font-family:Menlo,'DejaVu Sans Mono',consolas,'Courier New',monospace\">/home/zhang/miniconda3/envs/3d/lib/python3.10/site-packages/lightning/pytorch/utilities/data.py:78: UserWarning:\n",
       "\n",
       "Trying to infer the `batch_size` from an ambiguous collection. The batch size we found is 9395. To avoid any \n",
       "miscalculations, use `self.log(..., batch_size=batch_size)`.\n",
       "\n",
       "</pre>\n"
      ],
      "text/plain": [
       "/home/zhang/miniconda3/envs/3d/lib/python3.10/site-packages/lightning/pytorch/utilities/data.py:78: UserWarning:\n",
       "\n",
       "Trying to infer the `batch_size` from an ambiguous collection. The batch size we found is 9395. To avoid any \n",
       "miscalculations, use `self.log(..., batch_size=batch_size)`.\n",
       "\n"
      ]
     },
     "metadata": {},
     "output_type": "display_data"
    },
    {
     "data": {
      "text/html": [
       "<pre style=\"white-space:pre;overflow-x:auto;line-height:normal;font-family:Menlo,'DejaVu Sans Mono',consolas,'Courier New',monospace\">/home/zhang/miniconda3/envs/3d/lib/python3.10/site-packages/lightning/pytorch/utilities/data.py:78: UserWarning:\n",
       "\n",
       "Trying to infer the `batch_size` from an ambiguous collection. The batch size we found is 5048. To avoid any \n",
       "miscalculations, use `self.log(..., batch_size=batch_size)`.\n",
       "\n",
       "</pre>\n"
      ],
      "text/plain": [
       "/home/zhang/miniconda3/envs/3d/lib/python3.10/site-packages/lightning/pytorch/utilities/data.py:78: UserWarning:\n",
       "\n",
       "Trying to infer the `batch_size` from an ambiguous collection. The batch size we found is 5048. To avoid any \n",
       "miscalculations, use `self.log(..., batch_size=batch_size)`.\n",
       "\n"
      ]
     },
     "metadata": {},
     "output_type": "display_data"
    },
    {
     "data": {
      "text/html": [
       "<pre style=\"white-space:pre;overflow-x:auto;line-height:normal;font-family:Menlo,'DejaVu Sans Mono',consolas,'Courier New',monospace\">/home/zhang/miniconda3/envs/3d/lib/python3.10/site-packages/lightning/pytorch/utilities/data.py:78: UserWarning:\n",
       "\n",
       "Trying to infer the `batch_size` from an ambiguous collection. The batch size we found is 5921. To avoid any \n",
       "miscalculations, use `self.log(..., batch_size=batch_size)`.\n",
       "\n",
       "</pre>\n"
      ],
      "text/plain": [
       "/home/zhang/miniconda3/envs/3d/lib/python3.10/site-packages/lightning/pytorch/utilities/data.py:78: UserWarning:\n",
       "\n",
       "Trying to infer the `batch_size` from an ambiguous collection. The batch size we found is 5921. To avoid any \n",
       "miscalculations, use `self.log(..., batch_size=batch_size)`.\n",
       "\n"
      ]
     },
     "metadata": {},
     "output_type": "display_data"
    },
    {
     "data": {
      "text/html": [
       "<pre style=\"white-space:pre;overflow-x:auto;line-height:normal;font-family:Menlo,'DejaVu Sans Mono',consolas,'Courier New',monospace\">/home/zhang/miniconda3/envs/3d/lib/python3.10/site-packages/lightning/pytorch/utilities/data.py:78: UserWarning:\n",
       "\n",
       "Trying to infer the `batch_size` from an ambiguous collection. The batch size we found is 5500. To avoid any \n",
       "miscalculations, use `self.log(..., batch_size=batch_size)`.\n",
       "\n",
       "</pre>\n"
      ],
      "text/plain": [
       "/home/zhang/miniconda3/envs/3d/lib/python3.10/site-packages/lightning/pytorch/utilities/data.py:78: UserWarning:\n",
       "\n",
       "Trying to infer the `batch_size` from an ambiguous collection. The batch size we found is 5500. To avoid any \n",
       "miscalculations, use `self.log(..., batch_size=batch_size)`.\n",
       "\n"
      ]
     },
     "metadata": {},
     "output_type": "display_data"
    },
    {
     "data": {
      "text/html": [
       "<pre style=\"white-space:pre;overflow-x:auto;line-height:normal;font-family:Menlo,'DejaVu Sans Mono',consolas,'Courier New',monospace\">/home/zhang/miniconda3/envs/3d/lib/python3.10/site-packages/lightning/pytorch/utilities/data.py:78: UserWarning:\n",
       "\n",
       "Trying to infer the `batch_size` from an ambiguous collection. The batch size we found is 4186. To avoid any \n",
       "miscalculations, use `self.log(..., batch_size=batch_size)`.\n",
       "\n",
       "</pre>\n"
      ],
      "text/plain": [
       "/home/zhang/miniconda3/envs/3d/lib/python3.10/site-packages/lightning/pytorch/utilities/data.py:78: UserWarning:\n",
       "\n",
       "Trying to infer the `batch_size` from an ambiguous collection. The batch size we found is 4186. To avoid any \n",
       "miscalculations, use `self.log(..., batch_size=batch_size)`.\n",
       "\n"
      ]
     },
     "metadata": {},
     "output_type": "display_data"
    },
    {
     "data": {
      "text/html": [
       "<pre style=\"white-space:pre;overflow-x:auto;line-height:normal;font-family:Menlo,'DejaVu Sans Mono',consolas,'Courier New',monospace\">/home/zhang/miniconda3/envs/3d/lib/python3.10/site-packages/lightning/pytorch/utilities/data.py:78: UserWarning:\n",
       "\n",
       "Trying to infer the `batch_size` from an ambiguous collection. The batch size we found is 3942. To avoid any \n",
       "miscalculations, use `self.log(..., batch_size=batch_size)`.\n",
       "\n",
       "</pre>\n"
      ],
      "text/plain": [
       "/home/zhang/miniconda3/envs/3d/lib/python3.10/site-packages/lightning/pytorch/utilities/data.py:78: UserWarning:\n",
       "\n",
       "Trying to infer the `batch_size` from an ambiguous collection. The batch size we found is 3942. To avoid any \n",
       "miscalculations, use `self.log(..., batch_size=batch_size)`.\n",
       "\n"
      ]
     },
     "metadata": {},
     "output_type": "display_data"
    },
    {
     "data": {
      "text/html": [
       "<pre style=\"white-space:pre;overflow-x:auto;line-height:normal;font-family:Menlo,'DejaVu Sans Mono',consolas,'Courier New',monospace\">/home/zhang/miniconda3/envs/3d/lib/python3.10/site-packages/lightning/pytorch/utilities/data.py:78: UserWarning:\n",
       "\n",
       "Trying to infer the `batch_size` from an ambiguous collection. The batch size we found is 4805. To avoid any \n",
       "miscalculations, use `self.log(..., batch_size=batch_size)`.\n",
       "\n",
       "</pre>\n"
      ],
      "text/plain": [
       "/home/zhang/miniconda3/envs/3d/lib/python3.10/site-packages/lightning/pytorch/utilities/data.py:78: UserWarning:\n",
       "\n",
       "Trying to infer the `batch_size` from an ambiguous collection. The batch size we found is 4805. To avoid any \n",
       "miscalculations, use `self.log(..., batch_size=batch_size)`.\n",
       "\n"
      ]
     },
     "metadata": {},
     "output_type": "display_data"
    },
    {
     "data": {
      "text/html": [
       "<pre style=\"white-space:pre;overflow-x:auto;line-height:normal;font-family:Menlo,'DejaVu Sans Mono',consolas,'Courier New',monospace\">/home/zhang/miniconda3/envs/3d/lib/python3.10/site-packages/lightning/pytorch/utilities/data.py:78: UserWarning:\n",
       "\n",
       "Trying to infer the `batch_size` from an ambiguous collection. The batch size we found is 7231. To avoid any \n",
       "miscalculations, use `self.log(..., batch_size=batch_size)`.\n",
       "\n",
       "</pre>\n"
      ],
      "text/plain": [
       "/home/zhang/miniconda3/envs/3d/lib/python3.10/site-packages/lightning/pytorch/utilities/data.py:78: UserWarning:\n",
       "\n",
       "Trying to infer the `batch_size` from an ambiguous collection. The batch size we found is 7231. To avoid any \n",
       "miscalculations, use `self.log(..., batch_size=batch_size)`.\n",
       "\n"
      ]
     },
     "metadata": {},
     "output_type": "display_data"
    },
    {
     "data": {
      "text/html": [
       "<pre style=\"white-space:pre;overflow-x:auto;line-height:normal;font-family:Menlo,'DejaVu Sans Mono',consolas,'Courier New',monospace\">/home/zhang/miniconda3/envs/3d/lib/python3.10/site-packages/lightning/pytorch/utilities/data.py:78: UserWarning:\n",
       "\n",
       "Trying to infer the `batch_size` from an ambiguous collection. The batch size we found is 1617. To avoid any \n",
       "miscalculations, use `self.log(..., batch_size=batch_size)`.\n",
       "\n",
       "</pre>\n"
      ],
      "text/plain": [
       "/home/zhang/miniconda3/envs/3d/lib/python3.10/site-packages/lightning/pytorch/utilities/data.py:78: UserWarning:\n",
       "\n",
       "Trying to infer the `batch_size` from an ambiguous collection. The batch size we found is 1617. To avoid any \n",
       "miscalculations, use `self.log(..., batch_size=batch_size)`.\n",
       "\n"
      ]
     },
     "metadata": {},
     "output_type": "display_data"
    },
    {
     "name": "stderr",
     "output_type": "stream",
     "text": [
      "Metric val/graph_label/accuracy improved. New best score: 0.087\n",
      "Metric train/loss/total improved. New best score: 3.930\n",
      "Epoch 0, global step 385: 'val/graph_label/accuracy' reached 0.08672 (best 0.08672), saving model to '/home/zhang/Projects/3d/ProteinWorkshop/notebooks/outputs/checkpoints/epoch_000.ckpt' as top 1\n"
     ]
    },
    {
     "name": "stderr",
     "output_type": "stream",
     "text": [
      "Metric val/graph_label/accuracy improved by 0.047 >= min_delta = 0.0. New best score: 0.133\n",
      "Metric train/loss/total improved by 1.477 >= min_delta = 0.0. New best score: 2.453\n",
      "Epoch 1, global step 770: 'val/graph_label/accuracy' reached 0.13342 (best 0.13342), saving model to '/home/zhang/Projects/3d/ProteinWorkshop/notebooks/outputs/checkpoints/epoch_001.ckpt' as top 1\n"
     ]
    },
    {
     "name": "stderr",
     "output_type": "stream",
     "text": [
      "Metric val/graph_label/accuracy improved by 0.027 >= min_delta = 0.0. New best score: 0.160\n",
      "Epoch 2, global step 1155: 'val/graph_label/accuracy' reached 0.16017 (best 0.16017), saving model to '/home/zhang/Projects/3d/ProteinWorkshop/notebooks/outputs/checkpoints/epoch_002.ckpt' as top 1\n"
     ]
    },
    {
     "name": "stderr",
     "output_type": "stream",
     "text": [
      "Metric val/graph_label/accuracy improved by 0.005 >= min_delta = 0.0. New best score: 0.165\n",
      "Metric train/loss/total improved by 0.413 >= min_delta = 0.0. New best score: 2.040\n",
      "Epoch 3, global step 1540: 'val/graph_label/accuracy' reached 0.16469 (best 0.16469), saving model to '/home/zhang/Projects/3d/ProteinWorkshop/notebooks/outputs/checkpoints/epoch_003.ckpt' as top 1\n"
     ]
    },
    {
     "name": "stderr",
     "output_type": "stream",
     "text": [
      "Metric val/graph_label/accuracy improved by 0.024 >= min_delta = 0.0. New best score: 0.189\n",
      "Metric train/loss/total improved by 0.547 >= min_delta = 0.0. New best score: 1.494\n",
      "Epoch 4, global step 1925: 'val/graph_label/accuracy' reached 0.18864 (best 0.18864), saving model to '/home/zhang/Projects/3d/ProteinWorkshop/notebooks/outputs/checkpoints/epoch_004.ckpt' as top 1\n"
     ]
    },
    {
     "name": "stderr",
     "output_type": "stream",
     "text": [
      "Metric val/graph_label/accuracy improved by 0.023 >= min_delta = 0.0. New best score: 0.212\n",
      "Metric train/loss/total improved by 0.024 >= min_delta = 0.0. New best score: 1.470\n",
      "Epoch 5, global step 2310: 'val/graph_label/accuracy' reached 0.21162 (best 0.21162), saving model to '/home/zhang/Projects/3d/ProteinWorkshop/notebooks/outputs/checkpoints/epoch_005.ckpt' as top 1\n"
     ]
    },
    {
     "name": "stderr",
     "output_type": "stream",
     "text": [
      "Metric train/loss/total improved by 0.331 >= min_delta = 0.0. New best score: 1.139\n",
      "Epoch 6, global step 2695: 'val/graph_label/accuracy' was not in top 1\n"
     ]
    },
    {
     "name": "stderr",
     "output_type": "stream",
     "text": [
      "Metric train/loss/total improved by 0.386 >= min_delta = 0.0. New best score: 0.753\n",
      "Epoch 7, global step 3080: 'val/graph_label/accuracy' was not in top 1\n"
     ]
    },
    {
     "name": "stderr",
     "output_type": "stream",
     "text": [
      "Metric train/loss/total improved by 0.109 >= min_delta = 0.0. New best score: 0.643\n",
      "Epoch 8, global step 3465: 'val/graph_label/accuracy' was not in top 1\n"
     ]
    },
    {
     "data": {
      "text/html": [
       "<pre style=\"white-space:pre;overflow-x:auto;line-height:normal;font-family:Menlo,'DejaVu Sans Mono',consolas,'Courier New',monospace\">Epoch 00009: reducing learning rate of group 0 to 1.8000e-04.\n",
       "</pre>\n"
      ],
      "text/plain": [
       "Epoch 00009: reducing learning rate of group 0 to 1.8000e-04.\n"
      ]
     },
     "metadata": {},
     "output_type": "display_data"
    },
    {
     "name": "stderr",
     "output_type": "stream",
     "text": [
      "Metric train/loss/total improved by 0.537 >= min_delta = 0.0. New best score: 0.106\n",
      "Epoch 9, global step 3850: 'val/graph_label/accuracy' was not in top 1\n"
     ]
    },
    {
     "name": "stderr",
     "output_type": "stream",
     "text": [
      "Metric val/graph_label/accuracy improved by 0.001 >= min_delta = 0.0. New best score: 0.213\n",
      "Epoch 10, global step 4235: 'val/graph_label/accuracy' reached 0.21255 (best 0.21255), saving model to '/home/zhang/Projects/3d/ProteinWorkshop/notebooks/outputs/checkpoints/epoch_010.ckpt' as top 1\n"
     ]
    },
    {
     "name": "stderr",
     "output_type": "stream",
     "text": [
      "Metric val/graph_label/accuracy improved by 0.010 >= min_delta = 0.0. New best score: 0.222\n",
      "Epoch 11, global step 4620: 'val/graph_label/accuracy' reached 0.22234 (best 0.22234), saving model to '/home/zhang/Projects/3d/ProteinWorkshop/notebooks/outputs/checkpoints/epoch_011.ckpt' as top 1\n"
     ]
    },
    {
     "name": "stderr",
     "output_type": "stream",
     "text": [
      "Metric train/loss/total improved by 0.015 >= min_delta = 0.0. New best score: 0.091\n",
      "Epoch 12, global step 5005: 'val/graph_label/accuracy' was not in top 1\n"
     ]
    },
    {
     "name": "stderr",
     "output_type": "stream",
     "text": [
      "Metric train/loss/total improved by 0.023 >= min_delta = 0.0. New best score: 0.068\n",
      "Epoch 13, global step 5390: 'val/graph_label/accuracy' was not in top 1\n"
     ]
    },
    {
     "name": "stderr",
     "output_type": "stream",
     "text": [
      "Metric train/loss/total improved by 0.051 >= min_delta = 0.0. New best score: 0.017\n",
      "Epoch 14, global step 5775: 'val/graph_label/accuracy' was not in top 1\n"
     ]
    },
    {
     "data": {
      "text/html": [
       "<pre style=\"white-space:pre;overflow-x:auto;line-height:normal;font-family:Menlo,'DejaVu Sans Mono',consolas,'Courier New',monospace\">Epoch 00015: reducing learning rate of group 0 to 1.0800e-04.\n",
       "</pre>\n"
      ],
      "text/plain": [
       "Epoch 00015: reducing learning rate of group 0 to 1.0800e-04.\n"
      ]
     },
     "metadata": {},
     "output_type": "display_data"
    },
    {
     "name": "stderr",
     "output_type": "stream",
     "text": [
      "Metric train/loss/total improved by 0.012 >= min_delta = 0.0. New best score: 0.005\n",
      "Epoch 15, global step 6160: 'val/graph_label/accuracy' was not in top 1\n"
     ]
    },
    {
     "name": "stderr",
     "output_type": "stream",
     "text": [
      "Metric train/loss/total improved by 0.002 >= min_delta = 0.0. New best score: 0.004\n",
      "Epoch 16, global step 6545: 'val/graph_label/accuracy' was not in top 1\n"
     ]
    },
    {
     "name": "stderr",
     "output_type": "stream",
     "text": [
      "Metric train/loss/total improved by 0.001 >= min_delta = 0.0. New best score: 0.002\n",
      "Epoch 17, global step 6930: 'val/graph_label/accuracy' was not in top 1\n"
     ]
    },
    {
     "name": "stderr",
     "output_type": "stream",
     "text": [
      "Metric train/loss/total improved by 0.000 >= min_delta = 0.0. New best score: 0.002\n",
      "Epoch 18, global step 7315: 'val/graph_label/accuracy' was not in top 1\n"
     ]
    },
    {
     "name": "stderr",
     "output_type": "stream",
     "text": [
      "Metric train/loss/total improved by 0.001 >= min_delta = 0.0. New best score: 0.001\n",
      "Epoch 19, global step 7700: 'val/graph_label/accuracy' was not in top 1\n"
     ]
    },
    {
     "name": "stderr",
     "output_type": "stream",
     "text": [
      "Metric train/loss/total improved by 0.000 >= min_delta = 0.0. New best score: 0.000\n",
      "Epoch 20, global step 8085: 'val/graph_label/accuracy' was not in top 1\n"
     ]
    },
    {
     "data": {
      "text/html": [
       "<pre style=\"white-space:pre;overflow-x:auto;line-height:normal;font-family:Menlo,'DejaVu Sans Mono',consolas,'Courier New',monospace\">Epoch 00021: reducing learning rate of group 0 to 6.4800e-05.\n",
       "</pre>\n"
      ],
      "text/plain": [
       "Epoch 00021: reducing learning rate of group 0 to 6.4800e-05.\n"
      ]
     },
     "metadata": {},
     "output_type": "display_data"
    },
    {
     "name": "stderr",
     "output_type": "stream",
     "text": [
      "Metric val/graph_label/accuracy improved by 0.000 >= min_delta = 0.0. New best score: 0.223\n",
      "Epoch 21, global step 8470: 'val/graph_label/accuracy' reached 0.22254 (best 0.22254), saving model to '/home/zhang/Projects/3d/ProteinWorkshop/notebooks/outputs/checkpoints/epoch_021.ckpt' as top 1\n"
     ]
    },
    {
     "name": "stderr",
     "output_type": "stream",
     "text": [
      "Metric train/loss/total improved by 0.000 >= min_delta = 0.0. New best score: 0.000\n",
      "Epoch 22, global step 8855: 'val/graph_label/accuracy' was not in top 1\n"
     ]
    },
    {
     "name": "stderr",
     "output_type": "stream",
     "text": [
      "Epoch 23, global step 9240: 'val/graph_label/accuracy' was not in top 1\n"
     ]
    },
    {
     "name": "stderr",
     "output_type": "stream",
     "text": [
      "Metric train/loss/total improved by 0.000 >= min_delta = 0.0. New best score: 0.000\n",
      "Epoch 24, global step 9625: 'val/graph_label/accuracy' was not in top 1\n"
     ]
    },
    {
     "name": "stderr",
     "output_type": "stream",
     "text": [
      "Epoch 25, global step 10010: 'val/graph_label/accuracy' was not in top 1\n"
     ]
    },
    {
     "name": "stderr",
     "output_type": "stream",
     "text": [
      "Epoch 26, global step 10395: 'val/graph_label/accuracy' was not in top 1\n"
     ]
    },
    {
     "data": {
      "text/html": [
       "<pre style=\"white-space:pre;overflow-x:auto;line-height:normal;font-family:Menlo,'DejaVu Sans Mono',consolas,'Courier New',monospace\">Epoch 00027: reducing learning rate of group 0 to 3.8880e-05.\n",
       "</pre>\n"
      ],
      "text/plain": [
       "Epoch 00027: reducing learning rate of group 0 to 3.8880e-05.\n"
      ]
     },
     "metadata": {},
     "output_type": "display_data"
    },
    {
     "name": "stderr",
     "output_type": "stream",
     "text": [
      "Epoch 27, global step 10780: 'val/graph_label/accuracy' was not in top 1\n"
     ]
    },
    {
     "name": "stderr",
     "output_type": "stream",
     "text": [
      "Epoch 28, global step 11165: 'val/graph_label/accuracy' was not in top 1\n"
     ]
    },
    {
     "name": "stderr",
     "output_type": "stream",
     "text": [
      "Epoch 29, global step 11550: 'val/graph_label/accuracy' was not in top 1\n"
     ]
    },
    {
     "name": "stderr",
     "output_type": "stream",
     "text": [
      "Metric train/loss/total improved by 0.000 >= min_delta = 0.0. New best score: 0.000\n",
      "Epoch 30, global step 11935: 'val/graph_label/accuracy' was not in top 1\n"
     ]
    },
    {
     "name": "stderr",
     "output_type": "stream",
     "text": [
      "Monitored metric val/graph_label/accuracy did not improve in the last 10 records. Best score: 0.223. Signaling Trainer to stop.\n",
      "Epoch 31, global step 12320: 'val/graph_label/accuracy' was not in top 1\n"
     ]
    },
    {
     "data": {
      "text/html": [
       "<pre style=\"white-space:pre;overflow-x:auto;line-height:normal;font-family:Menlo,'DejaVu Sans Mono',consolas,'Courier New',monospace\"></pre>\n"
      ],
      "text/plain": []
     },
     "metadata": {},
     "output_type": "display_data"
    },
    {
     "data": {
      "text/html": [
       "<pre style=\"white-space:pre;overflow-x:auto;line-height:normal;font-family:Menlo,'DejaVu Sans Mono',consolas,'Courier New',monospace\">\n",
       "</pre>\n"
      ],
      "text/plain": [
       "\n"
      ]
     },
     "metadata": {},
     "output_type": "display_data"
    },
    {
     "data": {
      "text/html": [
       "<pre style=\"white-space:pre;overflow-x:auto;line-height:normal;font-family:Menlo,'DejaVu Sans Mono',consolas,'Courier New',monospace\"><span style=\"color: #7fbfbf; text-decoration-color: #7fbfbf\">[07/25/24 17:49:29] </span><span style=\"color: #000080; text-decoration-color: #000080\">INFO    </span> Starting testing!                                                      <a href=\"file:///home/zhang/Projects/3d/ProteinWorkshop/proteinworkshop/finetune.py\" target=\"_blank\"><span style=\"color: #7f7f7f; text-decoration-color: #7f7f7f\">finetune.py</span></a><span style=\"color: #7f7f7f; text-decoration-color: #7f7f7f\">:</span><a href=\"file:///home/zhang/Projects/3d/ProteinWorkshop/proteinworkshop/finetune.py#203\" target=\"_blank\"><span style=\"color: #7f7f7f; text-decoration-color: #7f7f7f\">203</span></a>\n",
       "</pre>\n"
      ],
      "text/plain": [
       "\u001b[2;36m[07/25/24 17:49:29]\u001b[0m\u001b[2;36m \u001b[0m\u001b[34mINFO    \u001b[0m Starting testing!                                                      \u001b]8;id=821532;file:///home/zhang/Projects/3d/ProteinWorkshop/proteinworkshop/finetune.py\u001b\\\u001b[2mfinetune.py\u001b[0m\u001b]8;;\u001b\\\u001b[2m:\u001b[0m\u001b]8;id=469183;file:///home/zhang/Projects/3d/ProteinWorkshop/proteinworkshop/finetune.py#203\u001b\\\u001b[2m203\u001b[0m\u001b]8;;\u001b\\\n"
      ]
     },
     "metadata": {},
     "output_type": "display_data"
    },
    {
     "data": {
      "text/html": [
       "<pre style=\"white-space:pre;overflow-x:auto;line-height:normal;font-family:Menlo,'DejaVu Sans Mono',consolas,'Courier New',monospace\"><span style=\"color: #7fbfbf; text-decoration-color: #7fbfbf\">                    </span><span style=\"color: #000080; text-decoration-color: #000080\">INFO    </span> Reading labels from:                                        <a href=\"file:///home/zhang/Projects/3d/ProteinWorkshop/proteinworkshop/datasets/fold_classification.py\" target=\"_blank\"><span style=\"color: #7f7f7f; text-decoration-color: #7f7f7f\">fold_classification.py</span></a><span style=\"color: #7f7f7f; text-decoration-color: #7f7f7f\">:</span><a href=\"file:///home/zhang/Projects/3d/ProteinWorkshop/proteinworkshop/datasets/fold_classification.py#154\" target=\"_blank\"><span style=\"color: #7f7f7f; text-decoration-color: #7f7f7f\">154</span></a>\n",
       "<span style=\"color: #7fbfbf; text-decoration-color: #7fbfbf\">                    </span>         <span style=\"color: #800080; text-decoration-color: #800080\">/home/zhang/Projects/3d/ProteinWorkshop/proteinworkshop/dat</span> <span style=\"color: #7f7f7f; text-decoration-color: #7f7f7f\">                          </span>\n",
       "<span style=\"color: #7fbfbf; text-decoration-color: #7fbfbf\">                    </span>         <span style=\"color: #800080; text-decoration-color: #800080\">a/FoldClassification/</span><span style=\"color: #ff00ff; text-decoration-color: #ff00ff\">class_map.txt</span>                          <span style=\"color: #7f7f7f; text-decoration-color: #7f7f7f\">                          </span>\n",
       "</pre>\n"
      ],
      "text/plain": [
       "\u001b[2;36m                   \u001b[0m\u001b[2;36m \u001b[0m\u001b[34mINFO    \u001b[0m Reading labels from:                                        \u001b]8;id=365912;file:///home/zhang/Projects/3d/ProteinWorkshop/proteinworkshop/datasets/fold_classification.py\u001b\\\u001b[2mfold_classification.py\u001b[0m\u001b]8;;\u001b\\\u001b[2m:\u001b[0m\u001b]8;id=840128;file:///home/zhang/Projects/3d/ProteinWorkshop/proteinworkshop/datasets/fold_classification.py#154\u001b\\\u001b[2m154\u001b[0m\u001b]8;;\u001b\\\n",
       "\u001b[2;36m                    \u001b[0m         \u001b[35m/home/zhang/Projects/3d/ProteinWorkshop/proteinworkshop/dat\u001b[0m \u001b[2m                          \u001b[0m\n",
       "\u001b[2;36m                    \u001b[0m         \u001b[35ma/FoldClassification/\u001b[0m\u001b[95mclass_map.txt\u001b[0m                          \u001b[2m                          \u001b[0m\n"
      ]
     },
     "metadata": {},
     "output_type": "display_data"
    },
    {
     "data": {
      "text/html": [
       "<pre style=\"white-space:pre;overflow-x:auto;line-height:normal;font-family:Menlo,'DejaVu Sans Mono',consolas,'Courier New',monospace\"><span style=\"color: #7fbfbf; text-decoration-color: #7fbfbf\">                    </span><span style=\"color: #000080; text-decoration-color: #000080\">INFO    </span> Found <span style=\"color: #008080; text-decoration-color: #008080; font-weight: bold\">718</span> original examples in test_fold                    <a href=\"file:///home/zhang/Projects/3d/ProteinWorkshop/proteinworkshop/datasets/fold_classification.py\" target=\"_blank\"><span style=\"color: #7f7f7f; text-decoration-color: #7f7f7f\">fold_classification.py</span></a><span style=\"color: #7f7f7f; text-decoration-color: #7f7f7f\">:</span><a href=\"file:///home/zhang/Projects/3d/ProteinWorkshop/proteinworkshop/datasets/fold_classification.py#234\" target=\"_blank\"><span style=\"color: #7f7f7f; text-decoration-color: #7f7f7f\">234</span></a>\n",
       "</pre>\n"
      ],
      "text/plain": [
       "\u001b[2;36m                   \u001b[0m\u001b[2;36m \u001b[0m\u001b[34mINFO    \u001b[0m Found \u001b[1;36m718\u001b[0m original examples in test_fold                    \u001b]8;id=812892;file:///home/zhang/Projects/3d/ProteinWorkshop/proteinworkshop/datasets/fold_classification.py\u001b\\\u001b[2mfold_classification.py\u001b[0m\u001b]8;;\u001b\\\u001b[2m:\u001b[0m\u001b]8;id=776795;file:///home/zhang/Projects/3d/ProteinWorkshop/proteinworkshop/datasets/fold_classification.py#234\u001b\\\u001b[2m234\u001b[0m\u001b]8;;\u001b\\\n"
      ]
     },
     "metadata": {},
     "output_type": "display_data"
    },
    {
     "data": {
      "text/html": [
       "<pre style=\"white-space:pre;overflow-x:auto;line-height:normal;font-family:Menlo,'DejaVu Sans Mono',consolas,'Courier New',monospace\"><span style=\"color: #7fbfbf; text-decoration-color: #7fbfbf\">                    </span><span style=\"color: #000080; text-decoration-color: #000080\">INFO    </span> Identified <span style=\"color: #008080; text-decoration-color: #008080; font-weight: bold\">136</span> classes                                      <a href=\"file:///home/zhang/Projects/3d/ProteinWorkshop/proteinworkshop/datasets/fold_classification.py\" target=\"_blank\"><span style=\"color: #7f7f7f; text-decoration-color: #7f7f7f\">fold_classification.py</span></a><span style=\"color: #7f7f7f; text-decoration-color: #7f7f7f\">:</span><a href=\"file:///home/zhang/Projects/3d/ProteinWorkshop/proteinworkshop/datasets/fold_classification.py#247\" target=\"_blank\"><span style=\"color: #7f7f7f; text-decoration-color: #7f7f7f\">247</span></a>\n",
       "</pre>\n"
      ],
      "text/plain": [
       "\u001b[2;36m                   \u001b[0m\u001b[2;36m \u001b[0m\u001b[34mINFO    \u001b[0m Identified \u001b[1;36m136\u001b[0m classes                                      \u001b]8;id=175974;file:///home/zhang/Projects/3d/ProteinWorkshop/proteinworkshop/datasets/fold_classification.py\u001b\\\u001b[2mfold_classification.py\u001b[0m\u001b]8;;\u001b\\\u001b[2m:\u001b[0m\u001b]8;id=489941;file:///home/zhang/Projects/3d/ProteinWorkshop/proteinworkshop/datasets/fold_classification.py#247\u001b\\\u001b[2m247\u001b[0m\u001b]8;;\u001b\\\n"
      ]
     },
     "metadata": {},
     "output_type": "display_data"
    },
    {
     "data": {
      "text/html": [
       "<pre style=\"white-space:pre;overflow-x:auto;line-height:normal;font-family:Menlo,'DejaVu Sans Mono',consolas,'Courier New',monospace\"><span style=\"color: #7fbfbf; text-decoration-color: #7fbfbf\">                    </span><span style=\"color: #000080; text-decoration-color: #000080\">INFO    </span> All structures already processed and <span style=\"color: #808000; text-decoration-color: #808000\">overwrite</span>=<span style=\"color: #ff0000; text-decoration-color: #ff0000; font-style: italic\">False</span>. Skipping download.   <a href=\"file:///home/zhang/Projects/3d/ProteinWorkshop/proteinworkshop/datasets/base.py\" target=\"_blank\"><span style=\"color: #7f7f7f; text-decoration-color: #7f7f7f\">base.py</span></a><span style=\"color: #7f7f7f; text-decoration-color: #7f7f7f\">:</span><a href=\"file:///home/zhang/Projects/3d/ProteinWorkshop/proteinworkshop/datasets/base.py#327\" target=\"_blank\"><span style=\"color: #7f7f7f; text-decoration-color: #7f7f7f\">327</span></a>\n",
       "</pre>\n"
      ],
      "text/plain": [
       "\u001b[2;36m                   \u001b[0m\u001b[2;36m \u001b[0m\u001b[34mINFO    \u001b[0m All structures already processed and \u001b[33moverwrite\u001b[0m=\u001b[3;91mFalse\u001b[0m. Skipping download.   \u001b]8;id=997165;file:///home/zhang/Projects/3d/ProteinWorkshop/proteinworkshop/datasets/base.py\u001b\\\u001b[2mbase.py\u001b[0m\u001b]8;;\u001b\\\u001b[2m:\u001b[0m\u001b]8;id=725001;file:///home/zhang/Projects/3d/ProteinWorkshop/proteinworkshop/datasets/base.py#327\u001b\\\u001b[2m327\u001b[0m\u001b]8;;\u001b\\\n"
      ]
     },
     "metadata": {},
     "output_type": "display_data"
    },
    {
     "data": {
      "text/html": [
       "<pre style=\"white-space:pre;overflow-x:auto;line-height:normal;font-family:Menlo,'DejaVu Sans Mono',consolas,'Courier New',monospace\"><span style=\"color: #7fbfbf; text-decoration-color: #7fbfbf\">                    </span><span style=\"color: #800000; text-decoration-color: #800000\">WARNING </span> Downloads in .ent format are assumed to be from ASTRAL. These data should  <a href=\"file:///home/zhang/Projects/3d/ProteinWorkshop/proteinworkshop/datasets/base.py\" target=\"_blank\"><span style=\"color: #7f7f7f; text-decoration-color: #7f7f7f\">base.py</span></a><span style=\"color: #7f7f7f; text-decoration-color: #7f7f7f\">:</span><a href=\"file:///home/zhang/Projects/3d/ProteinWorkshop/proteinworkshop/datasets/base.py#357\" target=\"_blank\"><span style=\"color: #7f7f7f; text-decoration-color: #7f7f7f\">357</span></a>\n",
       "<span style=\"color: #7fbfbf; text-decoration-color: #7fbfbf\">                    </span>         have already been downloaded                                               <span style=\"color: #7f7f7f; text-decoration-color: #7f7f7f\">           </span>\n",
       "</pre>\n"
      ],
      "text/plain": [
       "\u001b[2;36m                   \u001b[0m\u001b[2;36m \u001b[0m\u001b[31mWARNING \u001b[0m Downloads in .ent format are assumed to be from ASTRAL. These data should  \u001b]8;id=909111;file:///home/zhang/Projects/3d/ProteinWorkshop/proteinworkshop/datasets/base.py\u001b\\\u001b[2mbase.py\u001b[0m\u001b]8;;\u001b\\\u001b[2m:\u001b[0m\u001b]8;id=889592;file:///home/zhang/Projects/3d/ProteinWorkshop/proteinworkshop/datasets/base.py#357\u001b\\\u001b[2m357\u001b[0m\u001b]8;;\u001b\\\n",
       "\u001b[2;36m                    \u001b[0m         have already been downloaded                                               \u001b[2m           \u001b[0m\n"
      ]
     },
     "metadata": {},
     "output_type": "display_data"
    },
    {
     "data": {
      "text/html": [
       "<pre style=\"white-space:pre;overflow-x:auto;line-height:normal;font-family:Menlo,'DejaVu Sans Mono',consolas,'Courier New',monospace\"><span style=\"color: #7fbfbf; text-decoration-color: #7fbfbf\">                    </span><span style=\"color: #000080; text-decoration-color: #000080\">INFO    </span> Reading data into memory                                                   <a href=\"file:///home/zhang/Projects/3d/ProteinWorkshop/proteinworkshop/datasets/base.py\" target=\"_blank\"><span style=\"color: #7f7f7f; text-decoration-color: #7f7f7f\">base.py</span></a><span style=\"color: #7f7f7f; text-decoration-color: #7f7f7f\">:</span><a href=\"file:///home/zhang/Projects/3d/ProteinWorkshop/proteinworkshop/datasets/base.py#337\" target=\"_blank\"><span style=\"color: #7f7f7f; text-decoration-color: #7f7f7f\">337</span></a>\n",
       "</pre>\n"
      ],
      "text/plain": [
       "\u001b[2;36m                   \u001b[0m\u001b[2;36m \u001b[0m\u001b[34mINFO    \u001b[0m Reading data into memory                                                   \u001b]8;id=572633;file:///home/zhang/Projects/3d/ProteinWorkshop/proteinworkshop/datasets/base.py\u001b\\\u001b[2mbase.py\u001b[0m\u001b]8;;\u001b\\\u001b[2m:\u001b[0m\u001b]8;id=789292;file:///home/zhang/Projects/3d/ProteinWorkshop/proteinworkshop/datasets/base.py#337\u001b\\\u001b[2m337\u001b[0m\u001b]8;;\u001b\\\n"
      ]
     },
     "metadata": {},
     "output_type": "display_data"
    },
    {
     "name": "stderr",
     "output_type": "stream",
     "text": [
      "100%|██████████| 718/718 [00:00<00:00, 5090.83it/s]\n"
     ]
    },
    {
     "data": {
      "text/html": [
       "<pre style=\"white-space:pre;overflow-x:auto;line-height:normal;font-family:Menlo,'DejaVu Sans Mono',consolas,'Courier New',monospace\"><span style=\"color: #7fbfbf; text-decoration-color: #7fbfbf\">                    </span><span style=\"color: #000080; text-decoration-color: #000080\">INFO    </span> Testing on fold <span style=\"font-weight: bold\">(</span><span style=\"color: #008080; text-decoration-color: #008080; font-weight: bold\">1</span> <span style=\"color: #800080; text-decoration-color: #800080\">/</span> <span style=\"color: #008080; text-decoration-color: #008080; font-weight: bold\">3</span><span style=\"font-weight: bold\">)</span><span style=\"color: #808000; text-decoration-color: #808000\">...</span>                                             <a href=\"file:///home/zhang/Projects/3d/ProteinWorkshop/proteinworkshop/finetune.py\" target=\"_blank\"><span style=\"color: #7f7f7f; text-decoration-color: #7f7f7f\">finetune.py</span></a><span style=\"color: #7f7f7f; text-decoration-color: #7f7f7f\">:</span><a href=\"file:///home/zhang/Projects/3d/ProteinWorkshop/proteinworkshop/finetune.py#210\" target=\"_blank\"><span style=\"color: #7f7f7f; text-decoration-color: #7f7f7f\">210</span></a>\n",
       "</pre>\n"
      ],
      "text/plain": [
       "\u001b[2;36m                   \u001b[0m\u001b[2;36m \u001b[0m\u001b[34mINFO    \u001b[0m Testing on fold \u001b[1m(\u001b[0m\u001b[1;36m1\u001b[0m \u001b[35m/\u001b[0m \u001b[1;36m3\u001b[0m\u001b[1m)\u001b[0m\u001b[33m...\u001b[0m                                             \u001b]8;id=644190;file:///home/zhang/Projects/3d/ProteinWorkshop/proteinworkshop/finetune.py\u001b\\\u001b[2mfinetune.py\u001b[0m\u001b]8;;\u001b\\\u001b[2m:\u001b[0m\u001b]8;id=949011;file:///home/zhang/Projects/3d/ProteinWorkshop/proteinworkshop/finetune.py#210\u001b\\\u001b[2m210\u001b[0m\u001b]8;;\u001b\\\n"
      ]
     },
     "metadata": {},
     "output_type": "display_data"
    },
    {
     "data": {
      "text/html": [
       "<pre style=\"white-space:pre;overflow-x:auto;line-height:normal;font-family:Menlo,'DejaVu Sans Mono',consolas,'Courier New',monospace\"><span style=\"color: #7fbfbf; text-decoration-color: #7fbfbf\">                    </span><span style=\"color: #000080; text-decoration-color: #000080\">INFO    </span> Downloading Protein Function. Fraction <span style=\"color: #008080; text-decoration-color: #008080; font-weight: bold\">1.0</span>                   <a href=\"file:///home/zhang/Projects/3d/ProteinWorkshop/proteinworkshop/datasets/fold_classification.py\" target=\"_blank\"><span style=\"color: #7f7f7f; text-decoration-color: #7f7f7f\">fold_classification.py</span></a><span style=\"color: #7f7f7f; text-decoration-color: #7f7f7f\">:</span><a href=\"file:///home/zhang/Projects/3d/ProteinWorkshop/proteinworkshop/datasets/fold_classification.py#86\" target=\"_blank\"><span style=\"color: #7f7f7f; text-decoration-color: #7f7f7f\">86</span></a>\n",
       "</pre>\n"
      ],
      "text/plain": [
       "\u001b[2;36m                   \u001b[0m\u001b[2;36m \u001b[0m\u001b[34mINFO    \u001b[0m Downloading Protein Function. Fraction \u001b[1;36m1.0\u001b[0m                   \u001b]8;id=967270;file:///home/zhang/Projects/3d/ProteinWorkshop/proteinworkshop/datasets/fold_classification.py\u001b\\\u001b[2mfold_classification.py\u001b[0m\u001b]8;;\u001b\\\u001b[2m:\u001b[0m\u001b]8;id=380355;file:///home/zhang/Projects/3d/ProteinWorkshop/proteinworkshop/datasets/fold_classification.py#86\u001b\\\u001b[2m86\u001b[0m\u001b]8;;\u001b\\\n"
      ]
     },
     "metadata": {},
     "output_type": "display_data"
    },
    {
     "data": {
      "text/html": [
       "<pre style=\"white-space:pre;overflow-x:auto;line-height:normal;font-family:Menlo,'DejaVu Sans Mono',consolas,'Courier New',monospace\"><span style=\"color: #7fbfbf; text-decoration-color: #7fbfbf\">                    </span><span style=\"color: #000080; text-decoration-color: #000080\">INFO    </span> Found SCOP structure tarfile in:                            <a href=\"file:///home/zhang/Projects/3d/ProteinWorkshop/proteinworkshop/datasets/fold_classification.py\" target=\"_blank\"><span style=\"color: #7f7f7f; text-decoration-color: #7f7f7f\">fold_classification.py</span></a><span style=\"color: #7f7f7f; text-decoration-color: #7f7f7f\">:</span><a href=\"file:///home/zhang/Projects/3d/ProteinWorkshop/proteinworkshop/datasets/fold_classification.py#138\" target=\"_blank\"><span style=\"color: #7f7f7f; text-decoration-color: #7f7f7f\">138</span></a>\n",
       "<span style=\"color: #7fbfbf; text-decoration-color: #7fbfbf\">                    </span>         <span style=\"color: #800080; text-decoration-color: #800080\">/home/zhang/Projects/3d/ProteinWorkshop/proteinworkshop/dat</span> <span style=\"color: #7f7f7f; text-decoration-color: #7f7f7f\">                          </span>\n",
       "<span style=\"color: #7fbfbf; text-decoration-color: #7fbfbf\">                    </span>         <span style=\"color: #800080; text-decoration-color: #800080\">a/FoldClassification/</span><span style=\"color: #ff00ff; text-decoration-color: #ff00ff\">pdbstyle-sel-gs-bib-95-1.75.tgz</span>        <span style=\"color: #7f7f7f; text-decoration-color: #7f7f7f\">                          </span>\n",
       "</pre>\n"
      ],
      "text/plain": [
       "\u001b[2;36m                   \u001b[0m\u001b[2;36m \u001b[0m\u001b[34mINFO    \u001b[0m Found SCOP structure tarfile in:                            \u001b]8;id=132588;file:///home/zhang/Projects/3d/ProteinWorkshop/proteinworkshop/datasets/fold_classification.py\u001b\\\u001b[2mfold_classification.py\u001b[0m\u001b]8;;\u001b\\\u001b[2m:\u001b[0m\u001b]8;id=415542;file:///home/zhang/Projects/3d/ProteinWorkshop/proteinworkshop/datasets/fold_classification.py#138\u001b\\\u001b[2m138\u001b[0m\u001b]8;;\u001b\\\n",
       "\u001b[2;36m                    \u001b[0m         \u001b[35m/home/zhang/Projects/3d/ProteinWorkshop/proteinworkshop/dat\u001b[0m \u001b[2m                          \u001b[0m\n",
       "\u001b[2;36m                    \u001b[0m         \u001b[35ma/FoldClassification/\u001b[0m\u001b[95mpdbstyle-sel-gs-bib-95-1.75.tgz\u001b[0m        \u001b[2m                          \u001b[0m\n"
      ]
     },
     "metadata": {},
     "output_type": "display_data"
    },
    {
     "data": {
      "text/html": [
       "<pre style=\"white-space:pre;overflow-x:auto;line-height:normal;font-family:Menlo,'DejaVu Sans Mono',consolas,'Courier New',monospace\"><span style=\"color: #7fbfbf; text-decoration-color: #7fbfbf\">                    </span><span style=\"color: #000080; text-decoration-color: #000080\">INFO    </span> Found SCOPe structures in:                                  <a href=\"file:///home/zhang/Projects/3d/ProteinWorkshop/proteinworkshop/datasets/fold_classification.py\" target=\"_blank\"><span style=\"color: #7f7f7f; text-decoration-color: #7f7f7f\">fold_classification.py</span></a><span style=\"color: #7f7f7f; text-decoration-color: #7f7f7f\">:</span><a href=\"file:///home/zhang/Projects/3d/ProteinWorkshop/proteinworkshop/datasets/fold_classification.py#151\" target=\"_blank\"><span style=\"color: #7f7f7f; text-decoration-color: #7f7f7f\">151</span></a>\n",
       "</pre>\n"
      ],
      "text/plain": [
       "\u001b[2;36m                   \u001b[0m\u001b[2;36m \u001b[0m\u001b[34mINFO    \u001b[0m Found SCOPe structures in:                                  \u001b]8;id=791996;file:///home/zhang/Projects/3d/ProteinWorkshop/proteinworkshop/datasets/fold_classification.py\u001b\\\u001b[2mfold_classification.py\u001b[0m\u001b]8;;\u001b\\\u001b[2m:\u001b[0m\u001b]8;id=40362;file:///home/zhang/Projects/3d/ProteinWorkshop/proteinworkshop/datasets/fold_classification.py#151\u001b\\\u001b[2m151\u001b[0m\u001b]8;;\u001b\\\n"
      ]
     },
     "metadata": {},
     "output_type": "display_data"
    },
    {
     "data": {
      "text/html": [
       "<pre style=\"white-space:pre;overflow-x:auto;line-height:normal;font-family:Menlo,'DejaVu Sans Mono',consolas,'Courier New',monospace\"><span style=\"color: #7fbfbf; text-decoration-color: #7fbfbf\">                    </span><span style=\"color: #000080; text-decoration-color: #000080\">INFO    </span> Preprocessing test data                                                     <a href=\"file:///home/zhang/Projects/3d/ProteinWorkshop/proteinworkshop/datasets/base.py\" target=\"_blank\"><span style=\"color: #7f7f7f; text-decoration-color: #7f7f7f\">base.py</span></a><span style=\"color: #7f7f7f; text-decoration-color: #7f7f7f\">:</span><a href=\"file:///home/zhang/Projects/3d/ProteinWorkshop/proteinworkshop/datasets/base.py#92\" target=\"_blank\"><span style=\"color: #7f7f7f; text-decoration-color: #7f7f7f\">92</span></a>\n",
       "</pre>\n"
      ],
      "text/plain": [
       "\u001b[2;36m                   \u001b[0m\u001b[2;36m \u001b[0m\u001b[34mINFO    \u001b[0m Preprocessing test data                                                     \u001b]8;id=286975;file:///home/zhang/Projects/3d/ProteinWorkshop/proteinworkshop/datasets/base.py\u001b\\\u001b[2mbase.py\u001b[0m\u001b]8;;\u001b\\\u001b[2m:\u001b[0m\u001b]8;id=182896;file:///home/zhang/Projects/3d/ProteinWorkshop/proteinworkshop/datasets/base.py#92\u001b\\\u001b[2m92\u001b[0m\u001b]8;;\u001b\\\n"
      ]
     },
     "metadata": {},
     "output_type": "display_data"
    },
    {
     "data": {
      "text/html": [
       "<pre style=\"white-space:pre;overflow-x:auto;line-height:normal;font-family:Menlo,'DejaVu Sans Mono',consolas,'Courier New',monospace\"><span style=\"color: #7fbfbf; text-decoration-color: #7fbfbf\">                    </span><span style=\"color: #000080; text-decoration-color: #000080\">INFO    </span> Reading labels from:                                        <a href=\"file:///home/zhang/Projects/3d/ProteinWorkshop/proteinworkshop/datasets/fold_classification.py\" target=\"_blank\"><span style=\"color: #7f7f7f; text-decoration-color: #7f7f7f\">fold_classification.py</span></a><span style=\"color: #7f7f7f; text-decoration-color: #7f7f7f\">:</span><a href=\"file:///home/zhang/Projects/3d/ProteinWorkshop/proteinworkshop/datasets/fold_classification.py#154\" target=\"_blank\"><span style=\"color: #7f7f7f; text-decoration-color: #7f7f7f\">154</span></a>\n",
       "<span style=\"color: #7fbfbf; text-decoration-color: #7fbfbf\">                    </span>         <span style=\"color: #800080; text-decoration-color: #800080\">/home/zhang/Projects/3d/ProteinWorkshop/proteinworkshop/dat</span> <span style=\"color: #7f7f7f; text-decoration-color: #7f7f7f\">                          </span>\n",
       "<span style=\"color: #7fbfbf; text-decoration-color: #7fbfbf\">                    </span>         <span style=\"color: #800080; text-decoration-color: #800080\">a/FoldClassification/</span><span style=\"color: #ff00ff; text-decoration-color: #ff00ff\">class_map.txt</span>                          <span style=\"color: #7f7f7f; text-decoration-color: #7f7f7f\">                          </span>\n",
       "</pre>\n"
      ],
      "text/plain": [
       "\u001b[2;36m                   \u001b[0m\u001b[2;36m \u001b[0m\u001b[34mINFO    \u001b[0m Reading labels from:                                        \u001b]8;id=668881;file:///home/zhang/Projects/3d/ProteinWorkshop/proteinworkshop/datasets/fold_classification.py\u001b\\\u001b[2mfold_classification.py\u001b[0m\u001b]8;;\u001b\\\u001b[2m:\u001b[0m\u001b]8;id=383139;file:///home/zhang/Projects/3d/ProteinWorkshop/proteinworkshop/datasets/fold_classification.py#154\u001b\\\u001b[2m154\u001b[0m\u001b]8;;\u001b\\\n",
       "\u001b[2;36m                    \u001b[0m         \u001b[35m/home/zhang/Projects/3d/ProteinWorkshop/proteinworkshop/dat\u001b[0m \u001b[2m                          \u001b[0m\n",
       "\u001b[2;36m                    \u001b[0m         \u001b[35ma/FoldClassification/\u001b[0m\u001b[95mclass_map.txt\u001b[0m                          \u001b[2m                          \u001b[0m\n"
      ]
     },
     "metadata": {},
     "output_type": "display_data"
    },
    {
     "data": {
      "text/html": [
       "<pre style=\"white-space:pre;overflow-x:auto;line-height:normal;font-family:Menlo,'DejaVu Sans Mono',consolas,'Courier New',monospace\"><span style=\"color: #7fbfbf; text-decoration-color: #7fbfbf\">                    </span><span style=\"color: #000080; text-decoration-color: #000080\">INFO    </span> Found <span style=\"color: #008080; text-decoration-color: #008080; font-weight: bold\">1272</span> original examples in test_family                 <a href=\"file:///home/zhang/Projects/3d/ProteinWorkshop/proteinworkshop/datasets/fold_classification.py\" target=\"_blank\"><span style=\"color: #7f7f7f; text-decoration-color: #7f7f7f\">fold_classification.py</span></a><span style=\"color: #7f7f7f; text-decoration-color: #7f7f7f\">:</span><a href=\"file:///home/zhang/Projects/3d/ProteinWorkshop/proteinworkshop/datasets/fold_classification.py#234\" target=\"_blank\"><span style=\"color: #7f7f7f; text-decoration-color: #7f7f7f\">234</span></a>\n",
       "</pre>\n"
      ],
      "text/plain": [
       "\u001b[2;36m                   \u001b[0m\u001b[2;36m \u001b[0m\u001b[34mINFO    \u001b[0m Found \u001b[1;36m1272\u001b[0m original examples in test_family                 \u001b]8;id=566808;file:///home/zhang/Projects/3d/ProteinWorkshop/proteinworkshop/datasets/fold_classification.py\u001b\\\u001b[2mfold_classification.py\u001b[0m\u001b]8;;\u001b\\\u001b[2m:\u001b[0m\u001b]8;id=155248;file:///home/zhang/Projects/3d/ProteinWorkshop/proteinworkshop/datasets/fold_classification.py#234\u001b\\\u001b[2m234\u001b[0m\u001b]8;;\u001b\\\n"
      ]
     },
     "metadata": {},
     "output_type": "display_data"
    },
    {
     "data": {
      "text/html": [
       "<pre style=\"white-space:pre;overflow-x:auto;line-height:normal;font-family:Menlo,'DejaVu Sans Mono',consolas,'Courier New',monospace\"><span style=\"color: #7fbfbf; text-decoration-color: #7fbfbf\">                    </span><span style=\"color: #000080; text-decoration-color: #000080\">INFO    </span> Identified <span style=\"color: #008080; text-decoration-color: #008080; font-weight: bold\">189</span> classes                                      <a href=\"file:///home/zhang/Projects/3d/ProteinWorkshop/proteinworkshop/datasets/fold_classification.py\" target=\"_blank\"><span style=\"color: #7f7f7f; text-decoration-color: #7f7f7f\">fold_classification.py</span></a><span style=\"color: #7f7f7f; text-decoration-color: #7f7f7f\">:</span><a href=\"file:///home/zhang/Projects/3d/ProteinWorkshop/proteinworkshop/datasets/fold_classification.py#247\" target=\"_blank\"><span style=\"color: #7f7f7f; text-decoration-color: #7f7f7f\">247</span></a>\n",
       "</pre>\n"
      ],
      "text/plain": [
       "\u001b[2;36m                   \u001b[0m\u001b[2;36m \u001b[0m\u001b[34mINFO    \u001b[0m Identified \u001b[1;36m189\u001b[0m classes                                      \u001b]8;id=589781;file:///home/zhang/Projects/3d/ProteinWorkshop/proteinworkshop/datasets/fold_classification.py\u001b\\\u001b[2mfold_classification.py\u001b[0m\u001b]8;;\u001b\\\u001b[2m:\u001b[0m\u001b]8;id=447229;file:///home/zhang/Projects/3d/ProteinWorkshop/proteinworkshop/datasets/fold_classification.py#247\u001b\\\u001b[2m247\u001b[0m\u001b]8;;\u001b\\\n"
      ]
     },
     "metadata": {},
     "output_type": "display_data"
    },
    {
     "data": {
      "text/html": [
       "<pre style=\"white-space:pre;overflow-x:auto;line-height:normal;font-family:Menlo,'DejaVu Sans Mono',consolas,'Courier New',monospace\"><span style=\"color: #7fbfbf; text-decoration-color: #7fbfbf\">[07/25/24 17:49:30] </span><span style=\"color: #000080; text-decoration-color: #000080\">INFO    </span> All structures already processed and <span style=\"color: #808000; text-decoration-color: #808000\">overwrite</span>=<span style=\"color: #ff0000; text-decoration-color: #ff0000; font-style: italic\">False</span>. Skipping download.   <a href=\"file:///home/zhang/Projects/3d/ProteinWorkshop/proteinworkshop/datasets/base.py\" target=\"_blank\"><span style=\"color: #7f7f7f; text-decoration-color: #7f7f7f\">base.py</span></a><span style=\"color: #7f7f7f; text-decoration-color: #7f7f7f\">:</span><a href=\"file:///home/zhang/Projects/3d/ProteinWorkshop/proteinworkshop/datasets/base.py#327\" target=\"_blank\"><span style=\"color: #7f7f7f; text-decoration-color: #7f7f7f\">327</span></a>\n",
       "</pre>\n"
      ],
      "text/plain": [
       "\u001b[2;36m[07/25/24 17:49:30]\u001b[0m\u001b[2;36m \u001b[0m\u001b[34mINFO    \u001b[0m All structures already processed and \u001b[33moverwrite\u001b[0m=\u001b[3;91mFalse\u001b[0m. Skipping download.   \u001b]8;id=119408;file:///home/zhang/Projects/3d/ProteinWorkshop/proteinworkshop/datasets/base.py\u001b\\\u001b[2mbase.py\u001b[0m\u001b]8;;\u001b\\\u001b[2m:\u001b[0m\u001b]8;id=183240;file:///home/zhang/Projects/3d/ProteinWorkshop/proteinworkshop/datasets/base.py#327\u001b\\\u001b[2m327\u001b[0m\u001b]8;;\u001b\\\n"
      ]
     },
     "metadata": {},
     "output_type": "display_data"
    },
    {
     "data": {
      "text/html": [
       "<pre style=\"white-space:pre;overflow-x:auto;line-height:normal;font-family:Menlo,'DejaVu Sans Mono',consolas,'Courier New',monospace\"><span style=\"color: #7fbfbf; text-decoration-color: #7fbfbf\">                    </span><span style=\"color: #800000; text-decoration-color: #800000\">WARNING </span> Downloads in .ent format are assumed to be from ASTRAL. These data should  <a href=\"file:///home/zhang/Projects/3d/ProteinWorkshop/proteinworkshop/datasets/base.py\" target=\"_blank\"><span style=\"color: #7f7f7f; text-decoration-color: #7f7f7f\">base.py</span></a><span style=\"color: #7f7f7f; text-decoration-color: #7f7f7f\">:</span><a href=\"file:///home/zhang/Projects/3d/ProteinWorkshop/proteinworkshop/datasets/base.py#357\" target=\"_blank\"><span style=\"color: #7f7f7f; text-decoration-color: #7f7f7f\">357</span></a>\n",
       "<span style=\"color: #7fbfbf; text-decoration-color: #7fbfbf\">                    </span>         have already been downloaded                                               <span style=\"color: #7f7f7f; text-decoration-color: #7f7f7f\">           </span>\n",
       "</pre>\n"
      ],
      "text/plain": [
       "\u001b[2;36m                   \u001b[0m\u001b[2;36m \u001b[0m\u001b[31mWARNING \u001b[0m Downloads in .ent format are assumed to be from ASTRAL. These data should  \u001b]8;id=436095;file:///home/zhang/Projects/3d/ProteinWorkshop/proteinworkshop/datasets/base.py\u001b\\\u001b[2mbase.py\u001b[0m\u001b]8;;\u001b\\\u001b[2m:\u001b[0m\u001b]8;id=861123;file:///home/zhang/Projects/3d/ProteinWorkshop/proteinworkshop/datasets/base.py#357\u001b\\\u001b[2m357\u001b[0m\u001b]8;;\u001b\\\n",
       "\u001b[2;36m                    \u001b[0m         have already been downloaded                                               \u001b[2m           \u001b[0m\n"
      ]
     },
     "metadata": {},
     "output_type": "display_data"
    },
    {
     "data": {
      "text/html": [
       "<pre style=\"white-space:pre;overflow-x:auto;line-height:normal;font-family:Menlo,'DejaVu Sans Mono',consolas,'Courier New',monospace\"><span style=\"color: #7fbfbf; text-decoration-color: #7fbfbf\">                    </span><span style=\"color: #000080; text-decoration-color: #000080\">INFO    </span> Reading data into memory                                                   <a href=\"file:///home/zhang/Projects/3d/ProteinWorkshop/proteinworkshop/datasets/base.py\" target=\"_blank\"><span style=\"color: #7f7f7f; text-decoration-color: #7f7f7f\">base.py</span></a><span style=\"color: #7f7f7f; text-decoration-color: #7f7f7f\">:</span><a href=\"file:///home/zhang/Projects/3d/ProteinWorkshop/proteinworkshop/datasets/base.py#337\" target=\"_blank\"><span style=\"color: #7f7f7f; text-decoration-color: #7f7f7f\">337</span></a>\n",
       "</pre>\n"
      ],
      "text/plain": [
       "\u001b[2;36m                   \u001b[0m\u001b[2;36m \u001b[0m\u001b[34mINFO    \u001b[0m Reading data into memory                                                   \u001b]8;id=923024;file:///home/zhang/Projects/3d/ProteinWorkshop/proteinworkshop/datasets/base.py\u001b\\\u001b[2mbase.py\u001b[0m\u001b]8;;\u001b\\\u001b[2m:\u001b[0m\u001b]8;id=344823;file:///home/zhang/Projects/3d/ProteinWorkshop/proteinworkshop/datasets/base.py#337\u001b\\\u001b[2m337\u001b[0m\u001b]8;;\u001b\\\n"
      ]
     },
     "metadata": {},
     "output_type": "display_data"
    },
    {
     "name": "stderr",
     "output_type": "stream",
     "text": [
      "100%|██████████| 1272/1272 [00:00<00:00, 4938.03it/s]\n"
     ]
    },
    {
     "data": {
      "text/html": [
       "<pre style=\"white-space:pre;overflow-x:auto;line-height:normal;font-family:Menlo,'DejaVu Sans Mono',consolas,'Courier New',monospace\"><span style=\"color: #7fbfbf; text-decoration-color: #7fbfbf\">                    </span><span style=\"color: #000080; text-decoration-color: #000080\">INFO    </span> Reading labels from:                                        <a href=\"file:///home/zhang/Projects/3d/ProteinWorkshop/proteinworkshop/datasets/fold_classification.py\" target=\"_blank\"><span style=\"color: #7f7f7f; text-decoration-color: #7f7f7f\">fold_classification.py</span></a><span style=\"color: #7f7f7f; text-decoration-color: #7f7f7f\">:</span><a href=\"file:///home/zhang/Projects/3d/ProteinWorkshop/proteinworkshop/datasets/fold_classification.py#154\" target=\"_blank\"><span style=\"color: #7f7f7f; text-decoration-color: #7f7f7f\">154</span></a>\n",
       "<span style=\"color: #7fbfbf; text-decoration-color: #7fbfbf\">                    </span>         <span style=\"color: #800080; text-decoration-color: #800080\">/home/zhang/Projects/3d/ProteinWorkshop/proteinworkshop/dat</span> <span style=\"color: #7f7f7f; text-decoration-color: #7f7f7f\">                          </span>\n",
       "<span style=\"color: #7fbfbf; text-decoration-color: #7fbfbf\">                    </span>         <span style=\"color: #800080; text-decoration-color: #800080\">a/FoldClassification/</span><span style=\"color: #ff00ff; text-decoration-color: #ff00ff\">class_map.txt</span>                          <span style=\"color: #7f7f7f; text-decoration-color: #7f7f7f\">                          </span>\n",
       "</pre>\n"
      ],
      "text/plain": [
       "\u001b[2;36m                   \u001b[0m\u001b[2;36m \u001b[0m\u001b[34mINFO    \u001b[0m Reading labels from:                                        \u001b]8;id=320747;file:///home/zhang/Projects/3d/ProteinWorkshop/proteinworkshop/datasets/fold_classification.py\u001b\\\u001b[2mfold_classification.py\u001b[0m\u001b]8;;\u001b\\\u001b[2m:\u001b[0m\u001b]8;id=779521;file:///home/zhang/Projects/3d/ProteinWorkshop/proteinworkshop/datasets/fold_classification.py#154\u001b\\\u001b[2m154\u001b[0m\u001b]8;;\u001b\\\n",
       "\u001b[2;36m                    \u001b[0m         \u001b[35m/home/zhang/Projects/3d/ProteinWorkshop/proteinworkshop/dat\u001b[0m \u001b[2m                          \u001b[0m\n",
       "\u001b[2;36m                    \u001b[0m         \u001b[35ma/FoldClassification/\u001b[0m\u001b[95mclass_map.txt\u001b[0m                          \u001b[2m                          \u001b[0m\n"
      ]
     },
     "metadata": {},
     "output_type": "display_data"
    },
    {
     "data": {
      "text/html": [
       "<pre style=\"white-space:pre;overflow-x:auto;line-height:normal;font-family:Menlo,'DejaVu Sans Mono',consolas,'Courier New',monospace\"><span style=\"color: #7fbfbf; text-decoration-color: #7fbfbf\">                    </span><span style=\"color: #000080; text-decoration-color: #000080\">INFO    </span> Found <span style=\"color: #008080; text-decoration-color: #008080; font-weight: bold\">1254</span> original examples in test_superfamily            <a href=\"file:///home/zhang/Projects/3d/ProteinWorkshop/proteinworkshop/datasets/fold_classification.py\" target=\"_blank\"><span style=\"color: #7f7f7f; text-decoration-color: #7f7f7f\">fold_classification.py</span></a><span style=\"color: #7f7f7f; text-decoration-color: #7f7f7f\">:</span><a href=\"file:///home/zhang/Projects/3d/ProteinWorkshop/proteinworkshop/datasets/fold_classification.py#234\" target=\"_blank\"><span style=\"color: #7f7f7f; text-decoration-color: #7f7f7f\">234</span></a>\n",
       "</pre>\n"
      ],
      "text/plain": [
       "\u001b[2;36m                   \u001b[0m\u001b[2;36m \u001b[0m\u001b[34mINFO    \u001b[0m Found \u001b[1;36m1254\u001b[0m original examples in test_superfamily            \u001b]8;id=519744;file:///home/zhang/Projects/3d/ProteinWorkshop/proteinworkshop/datasets/fold_classification.py\u001b\\\u001b[2mfold_classification.py\u001b[0m\u001b]8;;\u001b\\\u001b[2m:\u001b[0m\u001b]8;id=508156;file:///home/zhang/Projects/3d/ProteinWorkshop/proteinworkshop/datasets/fold_classification.py#234\u001b\\\u001b[2m234\u001b[0m\u001b]8;;\u001b\\\n"
      ]
     },
     "metadata": {},
     "output_type": "display_data"
    },
    {
     "data": {
      "text/html": [
       "<pre style=\"white-space:pre;overflow-x:auto;line-height:normal;font-family:Menlo,'DejaVu Sans Mono',consolas,'Courier New',monospace\"><span style=\"color: #7fbfbf; text-decoration-color: #7fbfbf\">                    </span><span style=\"color: #000080; text-decoration-color: #000080\">INFO    </span> Identified <span style=\"color: #008080; text-decoration-color: #008080; font-weight: bold\">362</span> classes                                      <a href=\"file:///home/zhang/Projects/3d/ProteinWorkshop/proteinworkshop/datasets/fold_classification.py\" target=\"_blank\"><span style=\"color: #7f7f7f; text-decoration-color: #7f7f7f\">fold_classification.py</span></a><span style=\"color: #7f7f7f; text-decoration-color: #7f7f7f\">:</span><a href=\"file:///home/zhang/Projects/3d/ProteinWorkshop/proteinworkshop/datasets/fold_classification.py#247\" target=\"_blank\"><span style=\"color: #7f7f7f; text-decoration-color: #7f7f7f\">247</span></a>\n",
       "</pre>\n"
      ],
      "text/plain": [
       "\u001b[2;36m                   \u001b[0m\u001b[2;36m \u001b[0m\u001b[34mINFO    \u001b[0m Identified \u001b[1;36m362\u001b[0m classes                                      \u001b]8;id=72801;file:///home/zhang/Projects/3d/ProteinWorkshop/proteinworkshop/datasets/fold_classification.py\u001b\\\u001b[2mfold_classification.py\u001b[0m\u001b]8;;\u001b\\\u001b[2m:\u001b[0m\u001b]8;id=332427;file:///home/zhang/Projects/3d/ProteinWorkshop/proteinworkshop/datasets/fold_classification.py#247\u001b\\\u001b[2m247\u001b[0m\u001b]8;;\u001b\\\n"
      ]
     },
     "metadata": {},
     "output_type": "display_data"
    },
    {
     "data": {
      "text/html": [
       "<pre style=\"white-space:pre;overflow-x:auto;line-height:normal;font-family:Menlo,'DejaVu Sans Mono',consolas,'Courier New',monospace\"><span style=\"color: #7fbfbf; text-decoration-color: #7fbfbf\">                    </span><span style=\"color: #000080; text-decoration-color: #000080\">INFO    </span> All structures already processed and <span style=\"color: #808000; text-decoration-color: #808000\">overwrite</span>=<span style=\"color: #ff0000; text-decoration-color: #ff0000; font-style: italic\">False</span>. Skipping download.   <a href=\"file:///home/zhang/Projects/3d/ProteinWorkshop/proteinworkshop/datasets/base.py\" target=\"_blank\"><span style=\"color: #7f7f7f; text-decoration-color: #7f7f7f\">base.py</span></a><span style=\"color: #7f7f7f; text-decoration-color: #7f7f7f\">:</span><a href=\"file:///home/zhang/Projects/3d/ProteinWorkshop/proteinworkshop/datasets/base.py#327\" target=\"_blank\"><span style=\"color: #7f7f7f; text-decoration-color: #7f7f7f\">327</span></a>\n",
       "</pre>\n"
      ],
      "text/plain": [
       "\u001b[2;36m                   \u001b[0m\u001b[2;36m \u001b[0m\u001b[34mINFO    \u001b[0m All structures already processed and \u001b[33moverwrite\u001b[0m=\u001b[3;91mFalse\u001b[0m. Skipping download.   \u001b]8;id=15524;file:///home/zhang/Projects/3d/ProteinWorkshop/proteinworkshop/datasets/base.py\u001b\\\u001b[2mbase.py\u001b[0m\u001b]8;;\u001b\\\u001b[2m:\u001b[0m\u001b]8;id=581791;file:///home/zhang/Projects/3d/ProteinWorkshop/proteinworkshop/datasets/base.py#327\u001b\\\u001b[2m327\u001b[0m\u001b]8;;\u001b\\\n"
      ]
     },
     "metadata": {},
     "output_type": "display_data"
    },
    {
     "data": {
      "text/html": [
       "<pre style=\"white-space:pre;overflow-x:auto;line-height:normal;font-family:Menlo,'DejaVu Sans Mono',consolas,'Courier New',monospace\"><span style=\"color: #7fbfbf; text-decoration-color: #7fbfbf\">                    </span><span style=\"color: #800000; text-decoration-color: #800000\">WARNING </span> Downloads in .ent format are assumed to be from ASTRAL. These data should  <a href=\"file:///home/zhang/Projects/3d/ProteinWorkshop/proteinworkshop/datasets/base.py\" target=\"_blank\"><span style=\"color: #7f7f7f; text-decoration-color: #7f7f7f\">base.py</span></a><span style=\"color: #7f7f7f; text-decoration-color: #7f7f7f\">:</span><a href=\"file:///home/zhang/Projects/3d/ProteinWorkshop/proteinworkshop/datasets/base.py#357\" target=\"_blank\"><span style=\"color: #7f7f7f; text-decoration-color: #7f7f7f\">357</span></a>\n",
       "<span style=\"color: #7fbfbf; text-decoration-color: #7fbfbf\">                    </span>         have already been downloaded                                               <span style=\"color: #7f7f7f; text-decoration-color: #7f7f7f\">           </span>\n",
       "</pre>\n"
      ],
      "text/plain": [
       "\u001b[2;36m                   \u001b[0m\u001b[2;36m \u001b[0m\u001b[31mWARNING \u001b[0m Downloads in .ent format are assumed to be from ASTRAL. These data should  \u001b]8;id=458587;file:///home/zhang/Projects/3d/ProteinWorkshop/proteinworkshop/datasets/base.py\u001b\\\u001b[2mbase.py\u001b[0m\u001b]8;;\u001b\\\u001b[2m:\u001b[0m\u001b]8;id=293884;file:///home/zhang/Projects/3d/ProteinWorkshop/proteinworkshop/datasets/base.py#357\u001b\\\u001b[2m357\u001b[0m\u001b]8;;\u001b\\\n",
       "\u001b[2;36m                    \u001b[0m         have already been downloaded                                               \u001b[2m           \u001b[0m\n"
      ]
     },
     "metadata": {},
     "output_type": "display_data"
    },
    {
     "data": {
      "text/html": [
       "<pre style=\"white-space:pre;overflow-x:auto;line-height:normal;font-family:Menlo,'DejaVu Sans Mono',consolas,'Courier New',monospace\"><span style=\"color: #7fbfbf; text-decoration-color: #7fbfbf\">                    </span><span style=\"color: #000080; text-decoration-color: #000080\">INFO    </span> Reading data into memory                                                   <a href=\"file:///home/zhang/Projects/3d/ProteinWorkshop/proteinworkshop/datasets/base.py\" target=\"_blank\"><span style=\"color: #7f7f7f; text-decoration-color: #7f7f7f\">base.py</span></a><span style=\"color: #7f7f7f; text-decoration-color: #7f7f7f\">:</span><a href=\"file:///home/zhang/Projects/3d/ProteinWorkshop/proteinworkshop/datasets/base.py#337\" target=\"_blank\"><span style=\"color: #7f7f7f; text-decoration-color: #7f7f7f\">337</span></a>\n",
       "</pre>\n"
      ],
      "text/plain": [
       "\u001b[2;36m                   \u001b[0m\u001b[2;36m \u001b[0m\u001b[34mINFO    \u001b[0m Reading data into memory                                                   \u001b]8;id=660976;file:///home/zhang/Projects/3d/ProteinWorkshop/proteinworkshop/datasets/base.py\u001b\\\u001b[2mbase.py\u001b[0m\u001b]8;;\u001b\\\u001b[2m:\u001b[0m\u001b]8;id=559755;file:///home/zhang/Projects/3d/ProteinWorkshop/proteinworkshop/datasets/base.py#337\u001b\\\u001b[2m337\u001b[0m\u001b]8;;\u001b\\\n"
      ]
     },
     "metadata": {},
     "output_type": "display_data"
    },
    {
     "name": "stderr",
     "output_type": "stream",
     "text": [
      "100%|██████████| 1254/1254 [00:00<00:00, 2285.10it/s]\n",
      "Restoring states from the checkpoint path at /home/zhang/Projects/3d/ProteinWorkshop/notebooks/outputs/checkpoints/epoch_021.ckpt\n",
      "LOCAL_RANK: 0 - CUDA_VISIBLE_DEVICES: [0]\n",
      "Loaded model weights from the checkpoint at /home/zhang/Projects/3d/ProteinWorkshop/notebooks/outputs/checkpoints/epoch_021.ckpt\n"
     ]
    },
    {
     "data": {
      "application/vnd.jupyter.widget-view+json": {
       "model_id": "517ef9b187a24d898dd2db4c976c6697",
       "version_major": 2,
       "version_minor": 0
      },
      "text/plain": [
       "Output()"
      ]
     },
     "metadata": {},
     "output_type": "display_data"
    },
    {
     "data": {
      "text/html": [
       "<pre style=\"white-space:pre;overflow-x:auto;line-height:normal;font-family:Menlo,'DejaVu Sans Mono',consolas,'Courier New',monospace\">/home/zhang/miniconda3/envs/3d/lib/python3.10/site-packages/lightning/pytorch/utilities/data.py:78: UserWarning:\n",
       "\n",
       "Trying to infer the `batch_size` from an ambiguous collection. The batch size we found is 6474. To avoid any \n",
       "miscalculations, use `self.log(..., batch_size=batch_size)`.\n",
       "\n",
       "</pre>\n"
      ],
      "text/plain": [
       "/home/zhang/miniconda3/envs/3d/lib/python3.10/site-packages/lightning/pytorch/utilities/data.py:78: UserWarning:\n",
       "\n",
       "Trying to infer the `batch_size` from an ambiguous collection. The batch size we found is 6474. To avoid any \n",
       "miscalculations, use `self.log(..., batch_size=batch_size)`.\n",
       "\n"
      ]
     },
     "metadata": {},
     "output_type": "display_data"
    },
    {
     "data": {
      "text/html": [
       "<pre style=\"white-space:pre;overflow-x:auto;line-height:normal;font-family:Menlo,'DejaVu Sans Mono',consolas,'Courier New',monospace\">/home/zhang/miniconda3/envs/3d/lib/python3.10/site-packages/lightning/pytorch/utilities/data.py:78: UserWarning:\n",
       "\n",
       "Trying to infer the `batch_size` from an ambiguous collection. The batch size we found is 2893. To avoid any \n",
       "miscalculations, use `self.log(..., batch_size=batch_size)`.\n",
       "\n",
       "</pre>\n"
      ],
      "text/plain": [
       "/home/zhang/miniconda3/envs/3d/lib/python3.10/site-packages/lightning/pytorch/utilities/data.py:78: UserWarning:\n",
       "\n",
       "Trying to infer the `batch_size` from an ambiguous collection. The batch size we found is 2893. To avoid any \n",
       "miscalculations, use `self.log(..., batch_size=batch_size)`.\n",
       "\n"
      ]
     },
     "metadata": {},
     "output_type": "display_data"
    },
    {
     "data": {
      "text/html": [
       "<pre style=\"white-space:pre;overflow-x:auto;line-height:normal;font-family:Menlo,'DejaVu Sans Mono',consolas,'Courier New',monospace\">/home/zhang/miniconda3/envs/3d/lib/python3.10/site-packages/lightning/pytorch/utilities/data.py:78: UserWarning:\n",
       "\n",
       "Trying to infer the `batch_size` from an ambiguous collection. The batch size we found is 3526. To avoid any \n",
       "miscalculations, use `self.log(..., batch_size=batch_size)`.\n",
       "\n",
       "</pre>\n"
      ],
      "text/plain": [
       "/home/zhang/miniconda3/envs/3d/lib/python3.10/site-packages/lightning/pytorch/utilities/data.py:78: UserWarning:\n",
       "\n",
       "Trying to infer the `batch_size` from an ambiguous collection. The batch size we found is 3526. To avoid any \n",
       "miscalculations, use `self.log(..., batch_size=batch_size)`.\n",
       "\n"
      ]
     },
     "metadata": {},
     "output_type": "display_data"
    },
    {
     "data": {
      "text/html": [
       "<pre style=\"white-space:pre;overflow-x:auto;line-height:normal;font-family:Menlo,'DejaVu Sans Mono',consolas,'Courier New',monospace\">/home/zhang/miniconda3/envs/3d/lib/python3.10/site-packages/lightning/pytorch/utilities/data.py:78: UserWarning:\n",
       "\n",
       "Trying to infer the `batch_size` from an ambiguous collection. The batch size we found is 3251. To avoid any \n",
       "miscalculations, use `self.log(..., batch_size=batch_size)`.\n",
       "\n",
       "</pre>\n"
      ],
      "text/plain": [
       "/home/zhang/miniconda3/envs/3d/lib/python3.10/site-packages/lightning/pytorch/utilities/data.py:78: UserWarning:\n",
       "\n",
       "Trying to infer the `batch_size` from an ambiguous collection. The batch size we found is 3251. To avoid any \n",
       "miscalculations, use `self.log(..., batch_size=batch_size)`.\n",
       "\n"
      ]
     },
     "metadata": {},
     "output_type": "display_data"
    },
    {
     "data": {
      "text/html": [
       "<pre style=\"white-space:pre;overflow-x:auto;line-height:normal;font-family:Menlo,'DejaVu Sans Mono',consolas,'Courier New',monospace\">/home/zhang/miniconda3/envs/3d/lib/python3.10/site-packages/lightning/pytorch/utilities/data.py:78: UserWarning:\n",
       "\n",
       "Trying to infer the `batch_size` from an ambiguous collection. The batch size we found is 3034. To avoid any \n",
       "miscalculations, use `self.log(..., batch_size=batch_size)`.\n",
       "\n",
       "</pre>\n"
      ],
      "text/plain": [
       "/home/zhang/miniconda3/envs/3d/lib/python3.10/site-packages/lightning/pytorch/utilities/data.py:78: UserWarning:\n",
       "\n",
       "Trying to infer the `batch_size` from an ambiguous collection. The batch size we found is 3034. To avoid any \n",
       "miscalculations, use `self.log(..., batch_size=batch_size)`.\n",
       "\n"
      ]
     },
     "metadata": {},
     "output_type": "display_data"
    },
    {
     "data": {
      "text/html": [
       "<pre style=\"white-space:pre;overflow-x:auto;line-height:normal;font-family:Menlo,'DejaVu Sans Mono',consolas,'Courier New',monospace\">/home/zhang/miniconda3/envs/3d/lib/python3.10/site-packages/lightning/pytorch/utilities/data.py:78: UserWarning:\n",
       "\n",
       "Trying to infer the `batch_size` from an ambiguous collection. The batch size we found is 3949. To avoid any \n",
       "miscalculations, use `self.log(..., batch_size=batch_size)`.\n",
       "\n",
       "</pre>\n"
      ],
      "text/plain": [
       "/home/zhang/miniconda3/envs/3d/lib/python3.10/site-packages/lightning/pytorch/utilities/data.py:78: UserWarning:\n",
       "\n",
       "Trying to infer the `batch_size` from an ambiguous collection. The batch size we found is 3949. To avoid any \n",
       "miscalculations, use `self.log(..., batch_size=batch_size)`.\n",
       "\n"
      ]
     },
     "metadata": {},
     "output_type": "display_data"
    },
    {
     "data": {
      "text/html": [
       "<pre style=\"white-space:pre;overflow-x:auto;line-height:normal;font-family:Menlo,'DejaVu Sans Mono',consolas,'Courier New',monospace\">/home/zhang/miniconda3/envs/3d/lib/python3.10/site-packages/lightning/pytorch/utilities/data.py:78: UserWarning:\n",
       "\n",
       "Trying to infer the `batch_size` from an ambiguous collection. The batch size we found is 6569. To avoid any \n",
       "miscalculations, use `self.log(..., batch_size=batch_size)`.\n",
       "\n",
       "</pre>\n"
      ],
      "text/plain": [
       "/home/zhang/miniconda3/envs/3d/lib/python3.10/site-packages/lightning/pytorch/utilities/data.py:78: UserWarning:\n",
       "\n",
       "Trying to infer the `batch_size` from an ambiguous collection. The batch size we found is 6569. To avoid any \n",
       "miscalculations, use `self.log(..., batch_size=batch_size)`.\n",
       "\n"
      ]
     },
     "metadata": {},
     "output_type": "display_data"
    },
    {
     "data": {
      "text/html": [
       "<pre style=\"white-space:pre;overflow-x:auto;line-height:normal;font-family:Menlo,'DejaVu Sans Mono',consolas,'Courier New',monospace\">/home/zhang/miniconda3/envs/3d/lib/python3.10/site-packages/lightning/pytorch/utilities/data.py:78: UserWarning:\n",
       "\n",
       "Trying to infer the `batch_size` from an ambiguous collection. The batch size we found is 3426. To avoid any \n",
       "miscalculations, use `self.log(..., batch_size=batch_size)`.\n",
       "\n",
       "</pre>\n"
      ],
      "text/plain": [
       "/home/zhang/miniconda3/envs/3d/lib/python3.10/site-packages/lightning/pytorch/utilities/data.py:78: UserWarning:\n",
       "\n",
       "Trying to infer the `batch_size` from an ambiguous collection. The batch size we found is 3426. To avoid any \n",
       "miscalculations, use `self.log(..., batch_size=batch_size)`.\n",
       "\n"
      ]
     },
     "metadata": {},
     "output_type": "display_data"
    },
    {
     "data": {
      "text/html": [
       "<pre style=\"white-space:pre;overflow-x:auto;line-height:normal;font-family:Menlo,'DejaVu Sans Mono',consolas,'Courier New',monospace\">/home/zhang/miniconda3/envs/3d/lib/python3.10/site-packages/lightning/pytorch/utilities/data.py:78: UserWarning:\n",
       "\n",
       "Trying to infer the `batch_size` from an ambiguous collection. The batch size we found is 3987. To avoid any \n",
       "miscalculations, use `self.log(..., batch_size=batch_size)`.\n",
       "\n",
       "</pre>\n"
      ],
      "text/plain": [
       "/home/zhang/miniconda3/envs/3d/lib/python3.10/site-packages/lightning/pytorch/utilities/data.py:78: UserWarning:\n",
       "\n",
       "Trying to infer the `batch_size` from an ambiguous collection. The batch size we found is 3987. To avoid any \n",
       "miscalculations, use `self.log(..., batch_size=batch_size)`.\n",
       "\n"
      ]
     },
     "metadata": {},
     "output_type": "display_data"
    },
    {
     "data": {
      "text/html": [
       "<pre style=\"white-space:pre;overflow-x:auto;line-height:normal;font-family:Menlo,'DejaVu Sans Mono',consolas,'Courier New',monospace\">/home/zhang/miniconda3/envs/3d/lib/python3.10/site-packages/lightning/pytorch/utilities/data.py:78: UserWarning:\n",
       "\n",
       "Trying to infer the `batch_size` from an ambiguous collection. The batch size we found is 8411. To avoid any \n",
       "miscalculations, use `self.log(..., batch_size=batch_size)`.\n",
       "\n",
       "</pre>\n"
      ],
      "text/plain": [
       "/home/zhang/miniconda3/envs/3d/lib/python3.10/site-packages/lightning/pytorch/utilities/data.py:78: UserWarning:\n",
       "\n",
       "Trying to infer the `batch_size` from an ambiguous collection. The batch size we found is 8411. To avoid any \n",
       "miscalculations, use `self.log(..., batch_size=batch_size)`.\n",
       "\n"
      ]
     },
     "metadata": {},
     "output_type": "display_data"
    },
    {
     "data": {
      "text/html": [
       "<pre style=\"white-space:pre;overflow-x:auto;line-height:normal;font-family:Menlo,'DejaVu Sans Mono',consolas,'Courier New',monospace\">/home/zhang/miniconda3/envs/3d/lib/python3.10/site-packages/lightning/pytorch/utilities/data.py:78: UserWarning:\n",
       "\n",
       "Trying to infer the `batch_size` from an ambiguous collection. The batch size we found is 3732. To avoid any \n",
       "miscalculations, use `self.log(..., batch_size=batch_size)`.\n",
       "\n",
       "</pre>\n"
      ],
      "text/plain": [
       "/home/zhang/miniconda3/envs/3d/lib/python3.10/site-packages/lightning/pytorch/utilities/data.py:78: UserWarning:\n",
       "\n",
       "Trying to infer the `batch_size` from an ambiguous collection. The batch size we found is 3732. To avoid any \n",
       "miscalculations, use `self.log(..., batch_size=batch_size)`.\n",
       "\n"
      ]
     },
     "metadata": {},
     "output_type": "display_data"
    },
    {
     "data": {
      "text/html": [
       "<pre style=\"white-space:pre;overflow-x:auto;line-height:normal;font-family:Menlo,'DejaVu Sans Mono',consolas,'Courier New',monospace\">/home/zhang/miniconda3/envs/3d/lib/python3.10/site-packages/lightning/pytorch/utilities/data.py:78: UserWarning:\n",
       "\n",
       "Trying to infer the `batch_size` from an ambiguous collection. The batch size we found is 10321. To avoid any \n",
       "miscalculations, use `self.log(..., batch_size=batch_size)`.\n",
       "\n",
       "</pre>\n"
      ],
      "text/plain": [
       "/home/zhang/miniconda3/envs/3d/lib/python3.10/site-packages/lightning/pytorch/utilities/data.py:78: UserWarning:\n",
       "\n",
       "Trying to infer the `batch_size` from an ambiguous collection. The batch size we found is 10321. To avoid any \n",
       "miscalculations, use `self.log(..., batch_size=batch_size)`.\n",
       "\n"
      ]
     },
     "metadata": {},
     "output_type": "display_data"
    },
    {
     "data": {
      "text/html": [
       "<pre style=\"white-space:pre;overflow-x:auto;line-height:normal;font-family:Menlo,'DejaVu Sans Mono',consolas,'Courier New',monospace\">/home/zhang/miniconda3/envs/3d/lib/python3.10/site-packages/lightning/pytorch/utilities/data.py:78: UserWarning:\n",
       "\n",
       "Trying to infer the `batch_size` from an ambiguous collection. The batch size we found is 7845. To avoid any \n",
       "miscalculations, use `self.log(..., batch_size=batch_size)`.\n",
       "\n",
       "</pre>\n"
      ],
      "text/plain": [
       "/home/zhang/miniconda3/envs/3d/lib/python3.10/site-packages/lightning/pytorch/utilities/data.py:78: UserWarning:\n",
       "\n",
       "Trying to infer the `batch_size` from an ambiguous collection. The batch size we found is 7845. To avoid any \n",
       "miscalculations, use `self.log(..., batch_size=batch_size)`.\n",
       "\n"
      ]
     },
     "metadata": {},
     "output_type": "display_data"
    },
    {
     "data": {
      "text/html": [
       "<pre style=\"white-space:pre;overflow-x:auto;line-height:normal;font-family:Menlo,'DejaVu Sans Mono',consolas,'Courier New',monospace\">/home/zhang/miniconda3/envs/3d/lib/python3.10/site-packages/lightning/pytorch/utilities/data.py:78: UserWarning:\n",
       "\n",
       "Trying to infer the `batch_size` from an ambiguous collection. The batch size we found is 5477. To avoid any \n",
       "miscalculations, use `self.log(..., batch_size=batch_size)`.\n",
       "\n",
       "</pre>\n"
      ],
      "text/plain": [
       "/home/zhang/miniconda3/envs/3d/lib/python3.10/site-packages/lightning/pytorch/utilities/data.py:78: UserWarning:\n",
       "\n",
       "Trying to infer the `batch_size` from an ambiguous collection. The batch size we found is 5477. To avoid any \n",
       "miscalculations, use `self.log(..., batch_size=batch_size)`.\n",
       "\n"
      ]
     },
     "metadata": {},
     "output_type": "display_data"
    },
    {
     "data": {
      "text/html": [
       "<pre style=\"white-space:pre;overflow-x:auto;line-height:normal;font-family:Menlo,'DejaVu Sans Mono',consolas,'Courier New',monospace\">/home/zhang/miniconda3/envs/3d/lib/python3.10/site-packages/lightning/pytorch/utilities/data.py:78: UserWarning:\n",
       "\n",
       "Trying to infer the `batch_size` from an ambiguous collection. The batch size we found is 6728. To avoid any \n",
       "miscalculations, use `self.log(..., batch_size=batch_size)`.\n",
       "\n",
       "</pre>\n"
      ],
      "text/plain": [
       "/home/zhang/miniconda3/envs/3d/lib/python3.10/site-packages/lightning/pytorch/utilities/data.py:78: UserWarning:\n",
       "\n",
       "Trying to infer the `batch_size` from an ambiguous collection. The batch size we found is 6728. To avoid any \n",
       "miscalculations, use `self.log(..., batch_size=batch_size)`.\n",
       "\n"
      ]
     },
     "metadata": {},
     "output_type": "display_data"
    },
    {
     "data": {
      "text/html": [
       "<pre style=\"white-space:pre;overflow-x:auto;line-height:normal;font-family:Menlo,'DejaVu Sans Mono',consolas,'Courier New',monospace\">/home/zhang/miniconda3/envs/3d/lib/python3.10/site-packages/lightning/pytorch/utilities/data.py:78: UserWarning:\n",
       "\n",
       "Trying to infer the `batch_size` from an ambiguous collection. The batch size we found is 5986. To avoid any \n",
       "miscalculations, use `self.log(..., batch_size=batch_size)`.\n",
       "\n",
       "</pre>\n"
      ],
      "text/plain": [
       "/home/zhang/miniconda3/envs/3d/lib/python3.10/site-packages/lightning/pytorch/utilities/data.py:78: UserWarning:\n",
       "\n",
       "Trying to infer the `batch_size` from an ambiguous collection. The batch size we found is 5986. To avoid any \n",
       "miscalculations, use `self.log(..., batch_size=batch_size)`.\n",
       "\n"
      ]
     },
     "metadata": {},
     "output_type": "display_data"
    },
    {
     "data": {
      "text/html": [
       "<pre style=\"white-space:pre;overflow-x:auto;line-height:normal;font-family:Menlo,'DejaVu Sans Mono',consolas,'Courier New',monospace\">/home/zhang/miniconda3/envs/3d/lib/python3.10/site-packages/lightning/pytorch/utilities/data.py:78: UserWarning:\n",
       "\n",
       "Trying to infer the `batch_size` from an ambiguous collection. The batch size we found is 3457. To avoid any \n",
       "miscalculations, use `self.log(..., batch_size=batch_size)`.\n",
       "\n",
       "</pre>\n"
      ],
      "text/plain": [
       "/home/zhang/miniconda3/envs/3d/lib/python3.10/site-packages/lightning/pytorch/utilities/data.py:78: UserWarning:\n",
       "\n",
       "Trying to infer the `batch_size` from an ambiguous collection. The batch size we found is 3457. To avoid any \n",
       "miscalculations, use `self.log(..., batch_size=batch_size)`.\n",
       "\n"
      ]
     },
     "metadata": {},
     "output_type": "display_data"
    },
    {
     "data": {
      "text/html": [
       "<pre style=\"white-space:pre;overflow-x:auto;line-height:normal;font-family:Menlo,'DejaVu Sans Mono',consolas,'Courier New',monospace\">/home/zhang/miniconda3/envs/3d/lib/python3.10/site-packages/lightning/pytorch/utilities/data.py:78: UserWarning:\n",
       "\n",
       "Trying to infer the `batch_size` from an ambiguous collection. The batch size we found is 3036. To avoid any \n",
       "miscalculations, use `self.log(..., batch_size=batch_size)`.\n",
       "\n",
       "</pre>\n"
      ],
      "text/plain": [
       "/home/zhang/miniconda3/envs/3d/lib/python3.10/site-packages/lightning/pytorch/utilities/data.py:78: UserWarning:\n",
       "\n",
       "Trying to infer the `batch_size` from an ambiguous collection. The batch size we found is 3036. To avoid any \n",
       "miscalculations, use `self.log(..., batch_size=batch_size)`.\n",
       "\n"
      ]
     },
     "metadata": {},
     "output_type": "display_data"
    },
    {
     "data": {
      "text/html": [
       "<pre style=\"white-space:pre;overflow-x:auto;line-height:normal;font-family:Menlo,'DejaVu Sans Mono',consolas,'Courier New',monospace\">/home/zhang/miniconda3/envs/3d/lib/python3.10/site-packages/lightning/pytorch/utilities/data.py:78: UserWarning:\n",
       "\n",
       "Trying to infer the `batch_size` from an ambiguous collection. The batch size we found is 3632. To avoid any \n",
       "miscalculations, use `self.log(..., batch_size=batch_size)`.\n",
       "\n",
       "</pre>\n"
      ],
      "text/plain": [
       "/home/zhang/miniconda3/envs/3d/lib/python3.10/site-packages/lightning/pytorch/utilities/data.py:78: UserWarning:\n",
       "\n",
       "Trying to infer the `batch_size` from an ambiguous collection. The batch size we found is 3632. To avoid any \n",
       "miscalculations, use `self.log(..., batch_size=batch_size)`.\n",
       "\n"
      ]
     },
     "metadata": {},
     "output_type": "display_data"
    },
    {
     "data": {
      "text/html": [
       "<pre style=\"white-space:pre;overflow-x:auto;line-height:normal;font-family:Menlo,'DejaVu Sans Mono',consolas,'Courier New',monospace\">/home/zhang/miniconda3/envs/3d/lib/python3.10/site-packages/lightning/pytorch/utilities/data.py:78: UserWarning:\n",
       "\n",
       "Trying to infer the `batch_size` from an ambiguous collection. The batch size we found is 3767. To avoid any \n",
       "miscalculations, use `self.log(..., batch_size=batch_size)`.\n",
       "\n",
       "</pre>\n"
      ],
      "text/plain": [
       "/home/zhang/miniconda3/envs/3d/lib/python3.10/site-packages/lightning/pytorch/utilities/data.py:78: UserWarning:\n",
       "\n",
       "Trying to infer the `batch_size` from an ambiguous collection. The batch size we found is 3767. To avoid any \n",
       "miscalculations, use `self.log(..., batch_size=batch_size)`.\n",
       "\n"
      ]
     },
     "metadata": {},
     "output_type": "display_data"
    },
    {
     "data": {
      "text/html": [
       "<pre style=\"white-space:pre;overflow-x:auto;line-height:normal;font-family:Menlo,'DejaVu Sans Mono',consolas,'Courier New',monospace\">/home/zhang/miniconda3/envs/3d/lib/python3.10/site-packages/lightning/pytorch/utilities/data.py:78: UserWarning:\n",
       "\n",
       "Trying to infer the `batch_size` from an ambiguous collection. The batch size we found is 4354. To avoid any \n",
       "miscalculations, use `self.log(..., batch_size=batch_size)`.\n",
       "\n",
       "</pre>\n"
      ],
      "text/plain": [
       "/home/zhang/miniconda3/envs/3d/lib/python3.10/site-packages/lightning/pytorch/utilities/data.py:78: UserWarning:\n",
       "\n",
       "Trying to infer the `batch_size` from an ambiguous collection. The batch size we found is 4354. To avoid any \n",
       "miscalculations, use `self.log(..., batch_size=batch_size)`.\n",
       "\n"
      ]
     },
     "metadata": {},
     "output_type": "display_data"
    },
    {
     "data": {
      "text/html": [
       "<pre style=\"white-space:pre;overflow-x:auto;line-height:normal;font-family:Menlo,'DejaVu Sans Mono',consolas,'Courier New',monospace\">/home/zhang/miniconda3/envs/3d/lib/python3.10/site-packages/lightning/pytorch/utilities/data.py:78: UserWarning:\n",
       "\n",
       "Trying to infer the `batch_size` from an ambiguous collection. The batch size we found is 2052. To avoid any \n",
       "miscalculations, use `self.log(..., batch_size=batch_size)`.\n",
       "\n",
       "</pre>\n"
      ],
      "text/plain": [
       "/home/zhang/miniconda3/envs/3d/lib/python3.10/site-packages/lightning/pytorch/utilities/data.py:78: UserWarning:\n",
       "\n",
       "Trying to infer the `batch_size` from an ambiguous collection. The batch size we found is 2052. To avoid any \n",
       "miscalculations, use `self.log(..., batch_size=batch_size)`.\n",
       "\n"
      ]
     },
     "metadata": {},
     "output_type": "display_data"
    },
    {
     "data": {
      "text/html": [
       "<pre style=\"white-space:pre;overflow-x:auto;line-height:normal;font-family:Menlo,'DejaVu Sans Mono',consolas,'Courier New',monospace\">/home/zhang/miniconda3/envs/3d/lib/python3.10/site-packages/lightning/pytorch/utilities/data.py:78: UserWarning:\n",
       "\n",
       "Trying to infer the `batch_size` from an ambiguous collection. The batch size we found is 992. To avoid any \n",
       "miscalculations, use `self.log(..., batch_size=batch_size)`.\n",
       "\n",
       "</pre>\n"
      ],
      "text/plain": [
       "/home/zhang/miniconda3/envs/3d/lib/python3.10/site-packages/lightning/pytorch/utilities/data.py:78: UserWarning:\n",
       "\n",
       "Trying to infer the `batch_size` from an ambiguous collection. The batch size we found is 992. To avoid any \n",
       "miscalculations, use `self.log(..., batch_size=batch_size)`.\n",
       "\n"
      ]
     },
     "metadata": {},
     "output_type": "display_data"
    },
    {
     "data": {
      "text/html": [
       "<pre style=\"white-space:pre;overflow-x:auto;line-height:normal;font-family:Menlo,'DejaVu Sans Mono',consolas,'Courier New',monospace\">┏━━━━━━━━━━━━━━━━━━━━━━━━━━━┳━━━━━━━━━━━━━━━━━━━━━━━━━━━┓\n",
       "┃<span style=\"font-weight: bold\">        Test metric        </span>┃<span style=\"font-weight: bold\">       DataLoader 0        </span>┃\n",
       "┡━━━━━━━━━━━━━━━━━━━━━━━━━━━╇━━━━━━━━━━━━━━━━━━━━━━━━━━━┩\n",
       "│<span style=\"color: #008080; text-decoration-color: #008080\"> test/graph_label/accuracy </span>│<span style=\"color: #800080; text-decoration-color: #800080\">    0.20888128876686096    </span>│\n",
       "│<span style=\"color: #008080; text-decoration-color: #008080\">  test/graph_label/f1_max  </span>│<span style=\"color: #800080; text-decoration-color: #800080\">     0.270117849111557     </span>│\n",
       "│<span style=\"color: #008080; text-decoration-color: #008080\"> test/graph_label/f1_score </span>│<span style=\"color: #800080; text-decoration-color: #800080\">   0.048771925270557404    </span>│\n",
       "│<span style=\"color: #008080; text-decoration-color: #008080\">   test/loss/graph_label   </span>│<span style=\"color: #800080; text-decoration-color: #800080\">     15.64771556854248     </span>│\n",
       "│<span style=\"color: #008080; text-decoration-color: #008080\">      test/loss/total      </span>│<span style=\"color: #800080; text-decoration-color: #800080\">     15.64771556854248     </span>│\n",
       "└───────────────────────────┴───────────────────────────┘\n",
       "</pre>\n"
      ],
      "text/plain": [
       "┏━━━━━━━━━━━━━━━━━━━━━━━━━━━┳━━━━━━━━━━━━━━━━━━━━━━━━━━━┓\n",
       "┃\u001b[1m \u001b[0m\u001b[1m       Test metric       \u001b[0m\u001b[1m \u001b[0m┃\u001b[1m \u001b[0m\u001b[1m      DataLoader 0       \u001b[0m\u001b[1m \u001b[0m┃\n",
       "┡━━━━━━━━━━━━━━━━━━━━━━━━━━━╇━━━━━━━━━━━━━━━━━━━━━━━━━━━┩\n",
       "│\u001b[36m \u001b[0m\u001b[36mtest/graph_label/accuracy\u001b[0m\u001b[36m \u001b[0m│\u001b[35m \u001b[0m\u001b[35m   0.20888128876686096   \u001b[0m\u001b[35m \u001b[0m│\n",
       "│\u001b[36m \u001b[0m\u001b[36m test/graph_label/f1_max \u001b[0m\u001b[36m \u001b[0m│\u001b[35m \u001b[0m\u001b[35m    0.270117849111557    \u001b[0m\u001b[35m \u001b[0m│\n",
       "│\u001b[36m \u001b[0m\u001b[36mtest/graph_label/f1_score\u001b[0m\u001b[36m \u001b[0m│\u001b[35m \u001b[0m\u001b[35m  0.048771925270557404   \u001b[0m\u001b[35m \u001b[0m│\n",
       "│\u001b[36m \u001b[0m\u001b[36m  test/loss/graph_label  \u001b[0m\u001b[36m \u001b[0m│\u001b[35m \u001b[0m\u001b[35m    15.64771556854248    \u001b[0m\u001b[35m \u001b[0m│\n",
       "│\u001b[36m \u001b[0m\u001b[36m     test/loss/total     \u001b[0m\u001b[36m \u001b[0m│\u001b[35m \u001b[0m\u001b[35m    15.64771556854248    \u001b[0m\u001b[35m \u001b[0m│\n",
       "└───────────────────────────┴───────────────────────────┘\n"
      ]
     },
     "metadata": {},
     "output_type": "display_data"
    },
    {
     "data": {
      "text/html": [
       "<pre style=\"white-space:pre;overflow-x:auto;line-height:normal;font-family:Menlo,'DejaVu Sans Mono',consolas,'Courier New',monospace\"></pre>\n"
      ],
      "text/plain": []
     },
     "metadata": {},
     "output_type": "display_data"
    },
    {
     "data": {
      "text/html": [
       "<pre style=\"white-space:pre;overflow-x:auto;line-height:normal;font-family:Menlo,'DejaVu Sans Mono',consolas,'Courier New',monospace\">\n",
       "</pre>\n"
      ],
      "text/plain": [
       "\n"
      ]
     },
     "metadata": {},
     "output_type": "display_data"
    },
    {
     "data": {
      "text/html": [
       "<pre style=\"white-space:pre;overflow-x:auto;line-height:normal;font-family:Menlo,'DejaVu Sans Mono',consolas,'Courier New',monospace\"><span style=\"color: #7fbfbf; text-decoration-color: #7fbfbf\">[07/25/24 17:49:34] </span><span style=\"color: #000080; text-decoration-color: #000080\">INFO    </span> fold: <span style=\"font-weight: bold\">{</span><span style=\"color: #008000; text-decoration-color: #008000\">'test/loss/graph_label/fold'</span>: <span style=\"color: #008080; text-decoration-color: #008080; font-weight: bold\">15.64771556854248</span>,                <a href=\"file:///home/zhang/Projects/3d/ProteinWorkshop/proteinworkshop/finetune.py\" target=\"_blank\"><span style=\"color: #7f7f7f; text-decoration-color: #7f7f7f\">finetune.py</span></a><span style=\"color: #7f7f7f; text-decoration-color: #7f7f7f\">:</span><a href=\"file:///home/zhang/Projects/3d/ProteinWorkshop/proteinworkshop/finetune.py#220\" target=\"_blank\"><span style=\"color: #7f7f7f; text-decoration-color: #7f7f7f\">220</span></a>\n",
       "<span style=\"color: #7fbfbf; text-decoration-color: #7fbfbf\">                    </span>         <span style=\"color: #008000; text-decoration-color: #008000\">'test/loss/total/fold'</span>: <span style=\"color: #008080; text-decoration-color: #008080; font-weight: bold\">15.64771556854248</span>,                             <span style=\"color: #7f7f7f; text-decoration-color: #7f7f7f\">               </span>\n",
       "<span style=\"color: #7fbfbf; text-decoration-color: #7fbfbf\">                    </span>         <span style=\"color: #008000; text-decoration-color: #008000\">'test/graph_label/accuracy/fold'</span>: <span style=\"color: #008080; text-decoration-color: #008080; font-weight: bold\">0.20888128876686096</span>,                 <span style=\"color: #7f7f7f; text-decoration-color: #7f7f7f\">               </span>\n",
       "<span style=\"color: #7fbfbf; text-decoration-color: #7fbfbf\">                    </span>         <span style=\"color: #008000; text-decoration-color: #008000\">'test/graph_label/f1_score/fold'</span>: <span style=\"color: #008080; text-decoration-color: #008080; font-weight: bold\">0.048771925270557404</span>,                <span style=\"color: #7f7f7f; text-decoration-color: #7f7f7f\">               </span>\n",
       "<span style=\"color: #7fbfbf; text-decoration-color: #7fbfbf\">                    </span>         <span style=\"color: #008000; text-decoration-color: #008000\">'test/graph_label/f1_max/fold'</span>: <span style=\"color: #008080; text-decoration-color: #008080; font-weight: bold\">0.270117849111557</span><span style=\"font-weight: bold\">}</span>                     <span style=\"color: #7f7f7f; text-decoration-color: #7f7f7f\">               </span>\n",
       "</pre>\n"
      ],
      "text/plain": [
       "\u001b[2;36m[07/25/24 17:49:34]\u001b[0m\u001b[2;36m \u001b[0m\u001b[34mINFO    \u001b[0m fold: \u001b[1m{\u001b[0m\u001b[32m'test/loss/graph_label/fold'\u001b[0m: \u001b[1;36m15.64771556854248\u001b[0m,                \u001b]8;id=509161;file:///home/zhang/Projects/3d/ProteinWorkshop/proteinworkshop/finetune.py\u001b\\\u001b[2mfinetune.py\u001b[0m\u001b]8;;\u001b\\\u001b[2m:\u001b[0m\u001b]8;id=374427;file:///home/zhang/Projects/3d/ProteinWorkshop/proteinworkshop/finetune.py#220\u001b\\\u001b[2m220\u001b[0m\u001b]8;;\u001b\\\n",
       "\u001b[2;36m                    \u001b[0m         \u001b[32m'test/loss/total/fold'\u001b[0m: \u001b[1;36m15.64771556854248\u001b[0m,                             \u001b[2m               \u001b[0m\n",
       "\u001b[2;36m                    \u001b[0m         \u001b[32m'test/graph_label/accuracy/fold'\u001b[0m: \u001b[1;36m0.20888128876686096\u001b[0m,                 \u001b[2m               \u001b[0m\n",
       "\u001b[2;36m                    \u001b[0m         \u001b[32m'test/graph_label/f1_score/fold'\u001b[0m: \u001b[1;36m0.048771925270557404\u001b[0m,                \u001b[2m               \u001b[0m\n",
       "\u001b[2;36m                    \u001b[0m         \u001b[32m'test/graph_label/f1_max/fold'\u001b[0m: \u001b[1;36m0.270117849111557\u001b[0m\u001b[1m}\u001b[0m                     \u001b[2m               \u001b[0m\n"
      ]
     },
     "metadata": {},
     "output_type": "display_data"
    },
    {
     "data": {
      "text/html": [
       "<pre style=\"white-space:pre;overflow-x:auto;line-height:normal;font-family:Menlo,'DejaVu Sans Mono',consolas,'Courier New',monospace\"><span style=\"color: #7fbfbf; text-decoration-color: #7fbfbf\">                    </span><span style=\"color: #000080; text-decoration-color: #000080\">INFO    </span> Testing on family <span style=\"font-weight: bold\">(</span><span style=\"color: #008080; text-decoration-color: #008080; font-weight: bold\">2</span> <span style=\"color: #800080; text-decoration-color: #800080\">/</span> <span style=\"color: #008080; text-decoration-color: #008080; font-weight: bold\">3</span><span style=\"font-weight: bold\">)</span><span style=\"color: #808000; text-decoration-color: #808000\">...</span>                                           <a href=\"file:///home/zhang/Projects/3d/ProteinWorkshop/proteinworkshop/finetune.py\" target=\"_blank\"><span style=\"color: #7f7f7f; text-decoration-color: #7f7f7f\">finetune.py</span></a><span style=\"color: #7f7f7f; text-decoration-color: #7f7f7f\">:</span><a href=\"file:///home/zhang/Projects/3d/ProteinWorkshop/proteinworkshop/finetune.py#210\" target=\"_blank\"><span style=\"color: #7f7f7f; text-decoration-color: #7f7f7f\">210</span></a>\n",
       "</pre>\n"
      ],
      "text/plain": [
       "\u001b[2;36m                   \u001b[0m\u001b[2;36m \u001b[0m\u001b[34mINFO    \u001b[0m Testing on family \u001b[1m(\u001b[0m\u001b[1;36m2\u001b[0m \u001b[35m/\u001b[0m \u001b[1;36m3\u001b[0m\u001b[1m)\u001b[0m\u001b[33m...\u001b[0m                                           \u001b]8;id=27338;file:///home/zhang/Projects/3d/ProteinWorkshop/proteinworkshop/finetune.py\u001b\\\u001b[2mfinetune.py\u001b[0m\u001b]8;;\u001b\\\u001b[2m:\u001b[0m\u001b]8;id=221047;file:///home/zhang/Projects/3d/ProteinWorkshop/proteinworkshop/finetune.py#210\u001b\\\u001b[2m210\u001b[0m\u001b]8;;\u001b\\\n"
      ]
     },
     "metadata": {},
     "output_type": "display_data"
    },
    {
     "data": {
      "text/html": [
       "<pre style=\"white-space:pre;overflow-x:auto;line-height:normal;font-family:Menlo,'DejaVu Sans Mono',consolas,'Courier New',monospace\"><span style=\"color: #7fbfbf; text-decoration-color: #7fbfbf\">                    </span><span style=\"color: #000080; text-decoration-color: #000080\">INFO    </span> Downloading Protein Function. Fraction <span style=\"color: #008080; text-decoration-color: #008080; font-weight: bold\">1.0</span>                   <a href=\"file:///home/zhang/Projects/3d/ProteinWorkshop/proteinworkshop/datasets/fold_classification.py\" target=\"_blank\"><span style=\"color: #7f7f7f; text-decoration-color: #7f7f7f\">fold_classification.py</span></a><span style=\"color: #7f7f7f; text-decoration-color: #7f7f7f\">:</span><a href=\"file:///home/zhang/Projects/3d/ProteinWorkshop/proteinworkshop/datasets/fold_classification.py#86\" target=\"_blank\"><span style=\"color: #7f7f7f; text-decoration-color: #7f7f7f\">86</span></a>\n",
       "</pre>\n"
      ],
      "text/plain": [
       "\u001b[2;36m                   \u001b[0m\u001b[2;36m \u001b[0m\u001b[34mINFO    \u001b[0m Downloading Protein Function. Fraction \u001b[1;36m1.0\u001b[0m                   \u001b]8;id=796450;file:///home/zhang/Projects/3d/ProteinWorkshop/proteinworkshop/datasets/fold_classification.py\u001b\\\u001b[2mfold_classification.py\u001b[0m\u001b]8;;\u001b\\\u001b[2m:\u001b[0m\u001b]8;id=225888;file:///home/zhang/Projects/3d/ProteinWorkshop/proteinworkshop/datasets/fold_classification.py#86\u001b\\\u001b[2m86\u001b[0m\u001b]8;;\u001b\\\n"
      ]
     },
     "metadata": {},
     "output_type": "display_data"
    },
    {
     "data": {
      "text/html": [
       "<pre style=\"white-space:pre;overflow-x:auto;line-height:normal;font-family:Menlo,'DejaVu Sans Mono',consolas,'Courier New',monospace\"><span style=\"color: #7fbfbf; text-decoration-color: #7fbfbf\">                    </span><span style=\"color: #000080; text-decoration-color: #000080\">INFO    </span> Found SCOP structure tarfile in:                            <a href=\"file:///home/zhang/Projects/3d/ProteinWorkshop/proteinworkshop/datasets/fold_classification.py\" target=\"_blank\"><span style=\"color: #7f7f7f; text-decoration-color: #7f7f7f\">fold_classification.py</span></a><span style=\"color: #7f7f7f; text-decoration-color: #7f7f7f\">:</span><a href=\"file:///home/zhang/Projects/3d/ProteinWorkshop/proteinworkshop/datasets/fold_classification.py#138\" target=\"_blank\"><span style=\"color: #7f7f7f; text-decoration-color: #7f7f7f\">138</span></a>\n",
       "<span style=\"color: #7fbfbf; text-decoration-color: #7fbfbf\">                    </span>         <span style=\"color: #800080; text-decoration-color: #800080\">/home/zhang/Projects/3d/ProteinWorkshop/proteinworkshop/dat</span> <span style=\"color: #7f7f7f; text-decoration-color: #7f7f7f\">                          </span>\n",
       "<span style=\"color: #7fbfbf; text-decoration-color: #7fbfbf\">                    </span>         <span style=\"color: #800080; text-decoration-color: #800080\">a/FoldClassification/</span><span style=\"color: #ff00ff; text-decoration-color: #ff00ff\">pdbstyle-sel-gs-bib-95-1.75.tgz</span>        <span style=\"color: #7f7f7f; text-decoration-color: #7f7f7f\">                          </span>\n",
       "</pre>\n"
      ],
      "text/plain": [
       "\u001b[2;36m                   \u001b[0m\u001b[2;36m \u001b[0m\u001b[34mINFO    \u001b[0m Found SCOP structure tarfile in:                            \u001b]8;id=943431;file:///home/zhang/Projects/3d/ProteinWorkshop/proteinworkshop/datasets/fold_classification.py\u001b\\\u001b[2mfold_classification.py\u001b[0m\u001b]8;;\u001b\\\u001b[2m:\u001b[0m\u001b]8;id=260525;file:///home/zhang/Projects/3d/ProteinWorkshop/proteinworkshop/datasets/fold_classification.py#138\u001b\\\u001b[2m138\u001b[0m\u001b]8;;\u001b\\\n",
       "\u001b[2;36m                    \u001b[0m         \u001b[35m/home/zhang/Projects/3d/ProteinWorkshop/proteinworkshop/dat\u001b[0m \u001b[2m                          \u001b[0m\n",
       "\u001b[2;36m                    \u001b[0m         \u001b[35ma/FoldClassification/\u001b[0m\u001b[95mpdbstyle-sel-gs-bib-95-1.75.tgz\u001b[0m        \u001b[2m                          \u001b[0m\n"
      ]
     },
     "metadata": {},
     "output_type": "display_data"
    },
    {
     "data": {
      "text/html": [
       "<pre style=\"white-space:pre;overflow-x:auto;line-height:normal;font-family:Menlo,'DejaVu Sans Mono',consolas,'Courier New',monospace\"><span style=\"color: #7fbfbf; text-decoration-color: #7fbfbf\">                    </span><span style=\"color: #000080; text-decoration-color: #000080\">INFO    </span> Found SCOPe structures in:                                  <a href=\"file:///home/zhang/Projects/3d/ProteinWorkshop/proteinworkshop/datasets/fold_classification.py\" target=\"_blank\"><span style=\"color: #7f7f7f; text-decoration-color: #7f7f7f\">fold_classification.py</span></a><span style=\"color: #7f7f7f; text-decoration-color: #7f7f7f\">:</span><a href=\"file:///home/zhang/Projects/3d/ProteinWorkshop/proteinworkshop/datasets/fold_classification.py#151\" target=\"_blank\"><span style=\"color: #7f7f7f; text-decoration-color: #7f7f7f\">151</span></a>\n",
       "</pre>\n"
      ],
      "text/plain": [
       "\u001b[2;36m                   \u001b[0m\u001b[2;36m \u001b[0m\u001b[34mINFO    \u001b[0m Found SCOPe structures in:                                  \u001b]8;id=932345;file:///home/zhang/Projects/3d/ProteinWorkshop/proteinworkshop/datasets/fold_classification.py\u001b\\\u001b[2mfold_classification.py\u001b[0m\u001b]8;;\u001b\\\u001b[2m:\u001b[0m\u001b]8;id=302465;file:///home/zhang/Projects/3d/ProteinWorkshop/proteinworkshop/datasets/fold_classification.py#151\u001b\\\u001b[2m151\u001b[0m\u001b]8;;\u001b\\\n"
      ]
     },
     "metadata": {},
     "output_type": "display_data"
    },
    {
     "data": {
      "text/html": [
       "<pre style=\"white-space:pre;overflow-x:auto;line-height:normal;font-family:Menlo,'DejaVu Sans Mono',consolas,'Courier New',monospace\"><span style=\"color: #7fbfbf; text-decoration-color: #7fbfbf\">                    </span><span style=\"color: #000080; text-decoration-color: #000080\">INFO    </span> Preprocessing test data                                                     <a href=\"file:///home/zhang/Projects/3d/ProteinWorkshop/proteinworkshop/datasets/base.py\" target=\"_blank\"><span style=\"color: #7f7f7f; text-decoration-color: #7f7f7f\">base.py</span></a><span style=\"color: #7f7f7f; text-decoration-color: #7f7f7f\">:</span><a href=\"file:///home/zhang/Projects/3d/ProteinWorkshop/proteinworkshop/datasets/base.py#92\" target=\"_blank\"><span style=\"color: #7f7f7f; text-decoration-color: #7f7f7f\">92</span></a>\n",
       "</pre>\n"
      ],
      "text/plain": [
       "\u001b[2;36m                   \u001b[0m\u001b[2;36m \u001b[0m\u001b[34mINFO    \u001b[0m Preprocessing test data                                                     \u001b]8;id=229208;file:///home/zhang/Projects/3d/ProteinWorkshop/proteinworkshop/datasets/base.py\u001b\\\u001b[2mbase.py\u001b[0m\u001b]8;;\u001b\\\u001b[2m:\u001b[0m\u001b]8;id=225898;file:///home/zhang/Projects/3d/ProteinWorkshop/proteinworkshop/datasets/base.py#92\u001b\\\u001b[2m92\u001b[0m\u001b]8;;\u001b\\\n"
      ]
     },
     "metadata": {},
     "output_type": "display_data"
    },
    {
     "name": "stderr",
     "output_type": "stream",
     "text": [
      "Restoring states from the checkpoint path at /home/zhang/Projects/3d/ProteinWorkshop/notebooks/outputs/checkpoints/epoch_021.ckpt\n",
      "LOCAL_RANK: 0 - CUDA_VISIBLE_DEVICES: [0]\n",
      "Loaded model weights from the checkpoint at /home/zhang/Projects/3d/ProteinWorkshop/notebooks/outputs/checkpoints/epoch_021.ckpt\n"
     ]
    },
    {
     "data": {
      "application/vnd.jupyter.widget-view+json": {
       "model_id": "5b79f9a72dee452bafbcff8d919ea1ec",
       "version_major": 2,
       "version_minor": 0
      },
      "text/plain": [
       "Output()"
      ]
     },
     "metadata": {},
     "output_type": "display_data"
    },
    {
     "data": {
      "text/html": [
       "<pre style=\"white-space:pre;overflow-x:auto;line-height:normal;font-family:Menlo,'DejaVu Sans Mono',consolas,'Courier New',monospace\">/home/zhang/miniconda3/envs/3d/lib/python3.10/site-packages/lightning/pytorch/utilities/data.py:78: UserWarning:\n",
       "\n",
       "Trying to infer the `batch_size` from an ambiguous collection. The batch size we found is 6985. To avoid any \n",
       "miscalculations, use `self.log(..., batch_size=batch_size)`.\n",
       "\n",
       "</pre>\n"
      ],
      "text/plain": [
       "/home/zhang/miniconda3/envs/3d/lib/python3.10/site-packages/lightning/pytorch/utilities/data.py:78: UserWarning:\n",
       "\n",
       "Trying to infer the `batch_size` from an ambiguous collection. The batch size we found is 6985. To avoid any \n",
       "miscalculations, use `self.log(..., batch_size=batch_size)`.\n",
       "\n"
      ]
     },
     "metadata": {},
     "output_type": "display_data"
    },
    {
     "data": {
      "text/html": [
       "<pre style=\"white-space:pre;overflow-x:auto;line-height:normal;font-family:Menlo,'DejaVu Sans Mono',consolas,'Courier New',monospace\">/home/zhang/miniconda3/envs/3d/lib/python3.10/site-packages/lightning/pytorch/utilities/data.py:78: UserWarning:\n",
       "\n",
       "Trying to infer the `batch_size` from an ambiguous collection. The batch size we found is 5486. To avoid any \n",
       "miscalculations, use `self.log(..., batch_size=batch_size)`.\n",
       "\n",
       "</pre>\n"
      ],
      "text/plain": [
       "/home/zhang/miniconda3/envs/3d/lib/python3.10/site-packages/lightning/pytorch/utilities/data.py:78: UserWarning:\n",
       "\n",
       "Trying to infer the `batch_size` from an ambiguous collection. The batch size we found is 5486. To avoid any \n",
       "miscalculations, use `self.log(..., batch_size=batch_size)`.\n",
       "\n"
      ]
     },
     "metadata": {},
     "output_type": "display_data"
    },
    {
     "data": {
      "text/html": [
       "<pre style=\"white-space:pre;overflow-x:auto;line-height:normal;font-family:Menlo,'DejaVu Sans Mono',consolas,'Courier New',monospace\">/home/zhang/miniconda3/envs/3d/lib/python3.10/site-packages/lightning/pytorch/utilities/data.py:78: UserWarning:\n",
       "\n",
       "Trying to infer the `batch_size` from an ambiguous collection. The batch size we found is 4816. To avoid any \n",
       "miscalculations, use `self.log(..., batch_size=batch_size)`.\n",
       "\n",
       "</pre>\n"
      ],
      "text/plain": [
       "/home/zhang/miniconda3/envs/3d/lib/python3.10/site-packages/lightning/pytorch/utilities/data.py:78: UserWarning:\n",
       "\n",
       "Trying to infer the `batch_size` from an ambiguous collection. The batch size we found is 4816. To avoid any \n",
       "miscalculations, use `self.log(..., batch_size=batch_size)`.\n",
       "\n"
      ]
     },
     "metadata": {},
     "output_type": "display_data"
    },
    {
     "data": {
      "text/html": [
       "<pre style=\"white-space:pre;overflow-x:auto;line-height:normal;font-family:Menlo,'DejaVu Sans Mono',consolas,'Courier New',monospace\">/home/zhang/miniconda3/envs/3d/lib/python3.10/site-packages/lightning/pytorch/utilities/data.py:78: UserWarning:\n",
       "\n",
       "Trying to infer the `batch_size` from an ambiguous collection. The batch size we found is 3102. To avoid any \n",
       "miscalculations, use `self.log(..., batch_size=batch_size)`.\n",
       "\n",
       "</pre>\n"
      ],
      "text/plain": [
       "/home/zhang/miniconda3/envs/3d/lib/python3.10/site-packages/lightning/pytorch/utilities/data.py:78: UserWarning:\n",
       "\n",
       "Trying to infer the `batch_size` from an ambiguous collection. The batch size we found is 3102. To avoid any \n",
       "miscalculations, use `self.log(..., batch_size=batch_size)`.\n",
       "\n"
      ]
     },
     "metadata": {},
     "output_type": "display_data"
    },
    {
     "data": {
      "text/html": [
       "<pre style=\"white-space:pre;overflow-x:auto;line-height:normal;font-family:Menlo,'DejaVu Sans Mono',consolas,'Courier New',monospace\">/home/zhang/miniconda3/envs/3d/lib/python3.10/site-packages/lightning/pytorch/utilities/data.py:78: UserWarning:\n",
       "\n",
       "Trying to infer the `batch_size` from an ambiguous collection. The batch size we found is 3682. To avoid any \n",
       "miscalculations, use `self.log(..., batch_size=batch_size)`.\n",
       "\n",
       "</pre>\n"
      ],
      "text/plain": [
       "/home/zhang/miniconda3/envs/3d/lib/python3.10/site-packages/lightning/pytorch/utilities/data.py:78: UserWarning:\n",
       "\n",
       "Trying to infer the `batch_size` from an ambiguous collection. The batch size we found is 3682. To avoid any \n",
       "miscalculations, use `self.log(..., batch_size=batch_size)`.\n",
       "\n"
      ]
     },
     "metadata": {},
     "output_type": "display_data"
    },
    {
     "data": {
      "text/html": [
       "<pre style=\"white-space:pre;overflow-x:auto;line-height:normal;font-family:Menlo,'DejaVu Sans Mono',consolas,'Courier New',monospace\">/home/zhang/miniconda3/envs/3d/lib/python3.10/site-packages/lightning/pytorch/utilities/data.py:78: UserWarning:\n",
       "\n",
       "Trying to infer the `batch_size` from an ambiguous collection. The batch size we found is 4160. To avoid any \n",
       "miscalculations, use `self.log(..., batch_size=batch_size)`.\n",
       "\n",
       "</pre>\n"
      ],
      "text/plain": [
       "/home/zhang/miniconda3/envs/3d/lib/python3.10/site-packages/lightning/pytorch/utilities/data.py:78: UserWarning:\n",
       "\n",
       "Trying to infer the `batch_size` from an ambiguous collection. The batch size we found is 4160. To avoid any \n",
       "miscalculations, use `self.log(..., batch_size=batch_size)`.\n",
       "\n"
      ]
     },
     "metadata": {},
     "output_type": "display_data"
    },
    {
     "data": {
      "text/html": [
       "<pre style=\"white-space:pre;overflow-x:auto;line-height:normal;font-family:Menlo,'DejaVu Sans Mono',consolas,'Courier New',monospace\">/home/zhang/miniconda3/envs/3d/lib/python3.10/site-packages/lightning/pytorch/utilities/data.py:78: UserWarning:\n",
       "\n",
       "Trying to infer the `batch_size` from an ambiguous collection. The batch size we found is 3617. To avoid any \n",
       "miscalculations, use `self.log(..., batch_size=batch_size)`.\n",
       "\n",
       "</pre>\n"
      ],
      "text/plain": [
       "/home/zhang/miniconda3/envs/3d/lib/python3.10/site-packages/lightning/pytorch/utilities/data.py:78: UserWarning:\n",
       "\n",
       "Trying to infer the `batch_size` from an ambiguous collection. The batch size we found is 3617. To avoid any \n",
       "miscalculations, use `self.log(..., batch_size=batch_size)`.\n",
       "\n"
      ]
     },
     "metadata": {},
     "output_type": "display_data"
    },
    {
     "data": {
      "text/html": [
       "<pre style=\"white-space:pre;overflow-x:auto;line-height:normal;font-family:Menlo,'DejaVu Sans Mono',consolas,'Courier New',monospace\">/home/zhang/miniconda3/envs/3d/lib/python3.10/site-packages/lightning/pytorch/utilities/data.py:78: UserWarning:\n",
       "\n",
       "Trying to infer the `batch_size` from an ambiguous collection. The batch size we found is 3657. To avoid any \n",
       "miscalculations, use `self.log(..., batch_size=batch_size)`.\n",
       "\n",
       "</pre>\n"
      ],
      "text/plain": [
       "/home/zhang/miniconda3/envs/3d/lib/python3.10/site-packages/lightning/pytorch/utilities/data.py:78: UserWarning:\n",
       "\n",
       "Trying to infer the `batch_size` from an ambiguous collection. The batch size we found is 3657. To avoid any \n",
       "miscalculations, use `self.log(..., batch_size=batch_size)`.\n",
       "\n"
      ]
     },
     "metadata": {},
     "output_type": "display_data"
    },
    {
     "data": {
      "text/html": [
       "<pre style=\"white-space:pre;overflow-x:auto;line-height:normal;font-family:Menlo,'DejaVu Sans Mono',consolas,'Courier New',monospace\">/home/zhang/miniconda3/envs/3d/lib/python3.10/site-packages/lightning/pytorch/utilities/data.py:78: UserWarning:\n",
       "\n",
       "Trying to infer the `batch_size` from an ambiguous collection. The batch size we found is 3453. To avoid any \n",
       "miscalculations, use `self.log(..., batch_size=batch_size)`.\n",
       "\n",
       "</pre>\n"
      ],
      "text/plain": [
       "/home/zhang/miniconda3/envs/3d/lib/python3.10/site-packages/lightning/pytorch/utilities/data.py:78: UserWarning:\n",
       "\n",
       "Trying to infer the `batch_size` from an ambiguous collection. The batch size we found is 3453. To avoid any \n",
       "miscalculations, use `self.log(..., batch_size=batch_size)`.\n",
       "\n"
      ]
     },
     "metadata": {},
     "output_type": "display_data"
    },
    {
     "data": {
      "text/html": [
       "<pre style=\"white-space:pre;overflow-x:auto;line-height:normal;font-family:Menlo,'DejaVu Sans Mono',consolas,'Courier New',monospace\">/home/zhang/miniconda3/envs/3d/lib/python3.10/site-packages/lightning/pytorch/utilities/data.py:78: UserWarning:\n",
       "\n",
       "Trying to infer the `batch_size` from an ambiguous collection. The batch size we found is 3035. To avoid any \n",
       "miscalculations, use `self.log(..., batch_size=batch_size)`.\n",
       "\n",
       "</pre>\n"
      ],
      "text/plain": [
       "/home/zhang/miniconda3/envs/3d/lib/python3.10/site-packages/lightning/pytorch/utilities/data.py:78: UserWarning:\n",
       "\n",
       "Trying to infer the `batch_size` from an ambiguous collection. The batch size we found is 3035. To avoid any \n",
       "miscalculations, use `self.log(..., batch_size=batch_size)`.\n",
       "\n"
      ]
     },
     "metadata": {},
     "output_type": "display_data"
    },
    {
     "data": {
      "text/html": [
       "<pre style=\"white-space:pre;overflow-x:auto;line-height:normal;font-family:Menlo,'DejaVu Sans Mono',consolas,'Courier New',monospace\">/home/zhang/miniconda3/envs/3d/lib/python3.10/site-packages/lightning/pytorch/utilities/data.py:78: UserWarning:\n",
       "\n",
       "Trying to infer the `batch_size` from an ambiguous collection. The batch size we found is 3296. To avoid any \n",
       "miscalculations, use `self.log(..., batch_size=batch_size)`.\n",
       "\n",
       "</pre>\n"
      ],
      "text/plain": [
       "/home/zhang/miniconda3/envs/3d/lib/python3.10/site-packages/lightning/pytorch/utilities/data.py:78: UserWarning:\n",
       "\n",
       "Trying to infer the `batch_size` from an ambiguous collection. The batch size we found is 3296. To avoid any \n",
       "miscalculations, use `self.log(..., batch_size=batch_size)`.\n",
       "\n"
      ]
     },
     "metadata": {},
     "output_type": "display_data"
    },
    {
     "data": {
      "text/html": [
       "<pre style=\"white-space:pre;overflow-x:auto;line-height:normal;font-family:Menlo,'DejaVu Sans Mono',consolas,'Courier New',monospace\">/home/zhang/miniconda3/envs/3d/lib/python3.10/site-packages/lightning/pytorch/utilities/data.py:78: UserWarning:\n",
       "\n",
       "Trying to infer the `batch_size` from an ambiguous collection. The batch size we found is 6068. To avoid any \n",
       "miscalculations, use `self.log(..., batch_size=batch_size)`.\n",
       "\n",
       "</pre>\n"
      ],
      "text/plain": [
       "/home/zhang/miniconda3/envs/3d/lib/python3.10/site-packages/lightning/pytorch/utilities/data.py:78: UserWarning:\n",
       "\n",
       "Trying to infer the `batch_size` from an ambiguous collection. The batch size we found is 6068. To avoid any \n",
       "miscalculations, use `self.log(..., batch_size=batch_size)`.\n",
       "\n"
      ]
     },
     "metadata": {},
     "output_type": "display_data"
    },
    {
     "data": {
      "text/html": [
       "<pre style=\"white-space:pre;overflow-x:auto;line-height:normal;font-family:Menlo,'DejaVu Sans Mono',consolas,'Courier New',monospace\">/home/zhang/miniconda3/envs/3d/lib/python3.10/site-packages/lightning/pytorch/utilities/data.py:78: UserWarning:\n",
       "\n",
       "Trying to infer the `batch_size` from an ambiguous collection. The batch size we found is 3935. To avoid any \n",
       "miscalculations, use `self.log(..., batch_size=batch_size)`.\n",
       "\n",
       "</pre>\n"
      ],
      "text/plain": [
       "/home/zhang/miniconda3/envs/3d/lib/python3.10/site-packages/lightning/pytorch/utilities/data.py:78: UserWarning:\n",
       "\n",
       "Trying to infer the `batch_size` from an ambiguous collection. The batch size we found is 3935. To avoid any \n",
       "miscalculations, use `self.log(..., batch_size=batch_size)`.\n",
       "\n"
      ]
     },
     "metadata": {},
     "output_type": "display_data"
    },
    {
     "data": {
      "text/html": [
       "<pre style=\"white-space:pre;overflow-x:auto;line-height:normal;font-family:Menlo,'DejaVu Sans Mono',consolas,'Courier New',monospace\">/home/zhang/miniconda3/envs/3d/lib/python3.10/site-packages/lightning/pytorch/utilities/data.py:78: UserWarning:\n",
       "\n",
       "Trying to infer the `batch_size` from an ambiguous collection. The batch size we found is 3696. To avoid any \n",
       "miscalculations, use `self.log(..., batch_size=batch_size)`.\n",
       "\n",
       "</pre>\n"
      ],
      "text/plain": [
       "/home/zhang/miniconda3/envs/3d/lib/python3.10/site-packages/lightning/pytorch/utilities/data.py:78: UserWarning:\n",
       "\n",
       "Trying to infer the `batch_size` from an ambiguous collection. The batch size we found is 3696. To avoid any \n",
       "miscalculations, use `self.log(..., batch_size=batch_size)`.\n",
       "\n"
      ]
     },
     "metadata": {},
     "output_type": "display_data"
    },
    {
     "data": {
      "text/html": [
       "<pre style=\"white-space:pre;overflow-x:auto;line-height:normal;font-family:Menlo,'DejaVu Sans Mono',consolas,'Courier New',monospace\">/home/zhang/miniconda3/envs/3d/lib/python3.10/site-packages/lightning/pytorch/utilities/data.py:78: UserWarning:\n",
       "\n",
       "Trying to infer the `batch_size` from an ambiguous collection. The batch size we found is 4250. To avoid any \n",
       "miscalculations, use `self.log(..., batch_size=batch_size)`.\n",
       "\n",
       "</pre>\n"
      ],
      "text/plain": [
       "/home/zhang/miniconda3/envs/3d/lib/python3.10/site-packages/lightning/pytorch/utilities/data.py:78: UserWarning:\n",
       "\n",
       "Trying to infer the `batch_size` from an ambiguous collection. The batch size we found is 4250. To avoid any \n",
       "miscalculations, use `self.log(..., batch_size=batch_size)`.\n",
       "\n"
      ]
     },
     "metadata": {},
     "output_type": "display_data"
    },
    {
     "data": {
      "text/html": [
       "<pre style=\"white-space:pre;overflow-x:auto;line-height:normal;font-family:Menlo,'DejaVu Sans Mono',consolas,'Courier New',monospace\">/home/zhang/miniconda3/envs/3d/lib/python3.10/site-packages/lightning/pytorch/utilities/data.py:78: UserWarning:\n",
       "\n",
       "Trying to infer the `batch_size` from an ambiguous collection. The batch size we found is 5739. To avoid any \n",
       "miscalculations, use `self.log(..., batch_size=batch_size)`.\n",
       "\n",
       "</pre>\n"
      ],
      "text/plain": [
       "/home/zhang/miniconda3/envs/3d/lib/python3.10/site-packages/lightning/pytorch/utilities/data.py:78: UserWarning:\n",
       "\n",
       "Trying to infer the `batch_size` from an ambiguous collection. The batch size we found is 5739. To avoid any \n",
       "miscalculations, use `self.log(..., batch_size=batch_size)`.\n",
       "\n"
      ]
     },
     "metadata": {},
     "output_type": "display_data"
    },
    {
     "data": {
      "text/html": [
       "<pre style=\"white-space:pre;overflow-x:auto;line-height:normal;font-family:Menlo,'DejaVu Sans Mono',consolas,'Courier New',monospace\">/home/zhang/miniconda3/envs/3d/lib/python3.10/site-packages/lightning/pytorch/utilities/data.py:78: UserWarning:\n",
       "\n",
       "Trying to infer the `batch_size` from an ambiguous collection. The batch size we found is 5699. To avoid any \n",
       "miscalculations, use `self.log(..., batch_size=batch_size)`.\n",
       "\n",
       "</pre>\n"
      ],
      "text/plain": [
       "/home/zhang/miniconda3/envs/3d/lib/python3.10/site-packages/lightning/pytorch/utilities/data.py:78: UserWarning:\n",
       "\n",
       "Trying to infer the `batch_size` from an ambiguous collection. The batch size we found is 5699. To avoid any \n",
       "miscalculations, use `self.log(..., batch_size=batch_size)`.\n",
       "\n"
      ]
     },
     "metadata": {},
     "output_type": "display_data"
    },
    {
     "data": {
      "text/html": [
       "<pre style=\"white-space:pre;overflow-x:auto;line-height:normal;font-family:Menlo,'DejaVu Sans Mono',consolas,'Courier New',monospace\">/home/zhang/miniconda3/envs/3d/lib/python3.10/site-packages/lightning/pytorch/utilities/data.py:78: UserWarning:\n",
       "\n",
       "Trying to infer the `batch_size` from an ambiguous collection. The batch size we found is 5274. To avoid any \n",
       "miscalculations, use `self.log(..., batch_size=batch_size)`.\n",
       "\n",
       "</pre>\n"
      ],
      "text/plain": [
       "/home/zhang/miniconda3/envs/3d/lib/python3.10/site-packages/lightning/pytorch/utilities/data.py:78: UserWarning:\n",
       "\n",
       "Trying to infer the `batch_size` from an ambiguous collection. The batch size we found is 5274. To avoid any \n",
       "miscalculations, use `self.log(..., batch_size=batch_size)`.\n",
       "\n"
      ]
     },
     "metadata": {},
     "output_type": "display_data"
    },
    {
     "data": {
      "text/html": [
       "<pre style=\"white-space:pre;overflow-x:auto;line-height:normal;font-family:Menlo,'DejaVu Sans Mono',consolas,'Courier New',monospace\">/home/zhang/miniconda3/envs/3d/lib/python3.10/site-packages/lightning/pytorch/utilities/data.py:78: UserWarning:\n",
       "\n",
       "Trying to infer the `batch_size` from an ambiguous collection. The batch size we found is 11619. To avoid any \n",
       "miscalculations, use `self.log(..., batch_size=batch_size)`.\n",
       "\n",
       "</pre>\n"
      ],
      "text/plain": [
       "/home/zhang/miniconda3/envs/3d/lib/python3.10/site-packages/lightning/pytorch/utilities/data.py:78: UserWarning:\n",
       "\n",
       "Trying to infer the `batch_size` from an ambiguous collection. The batch size we found is 11619. To avoid any \n",
       "miscalculations, use `self.log(..., batch_size=batch_size)`.\n",
       "\n"
      ]
     },
     "metadata": {},
     "output_type": "display_data"
    },
    {
     "data": {
      "text/html": [
       "<pre style=\"white-space:pre;overflow-x:auto;line-height:normal;font-family:Menlo,'DejaVu Sans Mono',consolas,'Courier New',monospace\">/home/zhang/miniconda3/envs/3d/lib/python3.10/site-packages/lightning/pytorch/utilities/data.py:78: UserWarning:\n",
       "\n",
       "Trying to infer the `batch_size` from an ambiguous collection. The batch size we found is 8532. To avoid any \n",
       "miscalculations, use `self.log(..., batch_size=batch_size)`.\n",
       "\n",
       "</pre>\n"
      ],
      "text/plain": [
       "/home/zhang/miniconda3/envs/3d/lib/python3.10/site-packages/lightning/pytorch/utilities/data.py:78: UserWarning:\n",
       "\n",
       "Trying to infer the `batch_size` from an ambiguous collection. The batch size we found is 8532. To avoid any \n",
       "miscalculations, use `self.log(..., batch_size=batch_size)`.\n",
       "\n"
      ]
     },
     "metadata": {},
     "output_type": "display_data"
    },
    {
     "data": {
      "text/html": [
       "<pre style=\"white-space:pre;overflow-x:auto;line-height:normal;font-family:Menlo,'DejaVu Sans Mono',consolas,'Courier New',monospace\">/home/zhang/miniconda3/envs/3d/lib/python3.10/site-packages/lightning/pytorch/utilities/data.py:78: UserWarning:\n",
       "\n",
       "Trying to infer the `batch_size` from an ambiguous collection. The batch size we found is 5868. To avoid any \n",
       "miscalculations, use `self.log(..., batch_size=batch_size)`.\n",
       "\n",
       "</pre>\n"
      ],
      "text/plain": [
       "/home/zhang/miniconda3/envs/3d/lib/python3.10/site-packages/lightning/pytorch/utilities/data.py:78: UserWarning:\n",
       "\n",
       "Trying to infer the `batch_size` from an ambiguous collection. The batch size we found is 5868. To avoid any \n",
       "miscalculations, use `self.log(..., batch_size=batch_size)`.\n",
       "\n"
      ]
     },
     "metadata": {},
     "output_type": "display_data"
    },
    {
     "data": {
      "text/html": [
       "<pre style=\"white-space:pre;overflow-x:auto;line-height:normal;font-family:Menlo,'DejaVu Sans Mono',consolas,'Courier New',monospace\">/home/zhang/miniconda3/envs/3d/lib/python3.10/site-packages/lightning/pytorch/utilities/data.py:78: UserWarning:\n",
       "\n",
       "Trying to infer the `batch_size` from an ambiguous collection. The batch size we found is 7453. To avoid any \n",
       "miscalculations, use `self.log(..., batch_size=batch_size)`.\n",
       "\n",
       "</pre>\n"
      ],
      "text/plain": [
       "/home/zhang/miniconda3/envs/3d/lib/python3.10/site-packages/lightning/pytorch/utilities/data.py:78: UserWarning:\n",
       "\n",
       "Trying to infer the `batch_size` from an ambiguous collection. The batch size we found is 7453. To avoid any \n",
       "miscalculations, use `self.log(..., batch_size=batch_size)`.\n",
       "\n"
      ]
     },
     "metadata": {},
     "output_type": "display_data"
    },
    {
     "data": {
      "text/html": [
       "<pre style=\"white-space:pre;overflow-x:auto;line-height:normal;font-family:Menlo,'DejaVu Sans Mono',consolas,'Courier New',monospace\">/home/zhang/miniconda3/envs/3d/lib/python3.10/site-packages/lightning/pytorch/utilities/data.py:78: UserWarning:\n",
       "\n",
       "Trying to infer the `batch_size` from an ambiguous collection. The batch size we found is 8056. To avoid any \n",
       "miscalculations, use `self.log(..., batch_size=batch_size)`.\n",
       "\n",
       "</pre>\n"
      ],
      "text/plain": [
       "/home/zhang/miniconda3/envs/3d/lib/python3.10/site-packages/lightning/pytorch/utilities/data.py:78: UserWarning:\n",
       "\n",
       "Trying to infer the `batch_size` from an ambiguous collection. The batch size we found is 8056. To avoid any \n",
       "miscalculations, use `self.log(..., batch_size=batch_size)`.\n",
       "\n"
      ]
     },
     "metadata": {},
     "output_type": "display_data"
    },
    {
     "data": {
      "text/html": [
       "<pre style=\"white-space:pre;overflow-x:auto;line-height:normal;font-family:Menlo,'DejaVu Sans Mono',consolas,'Courier New',monospace\">/home/zhang/miniconda3/envs/3d/lib/python3.10/site-packages/lightning/pytorch/utilities/data.py:78: UserWarning:\n",
       "\n",
       "Trying to infer the `batch_size` from an ambiguous collection. The batch size we found is 8114. To avoid any \n",
       "miscalculations, use `self.log(..., batch_size=batch_size)`.\n",
       "\n",
       "</pre>\n"
      ],
      "text/plain": [
       "/home/zhang/miniconda3/envs/3d/lib/python3.10/site-packages/lightning/pytorch/utilities/data.py:78: UserWarning:\n",
       "\n",
       "Trying to infer the `batch_size` from an ambiguous collection. The batch size we found is 8114. To avoid any \n",
       "miscalculations, use `self.log(..., batch_size=batch_size)`.\n",
       "\n"
      ]
     },
     "metadata": {},
     "output_type": "display_data"
    },
    {
     "data": {
      "text/html": [
       "<pre style=\"white-space:pre;overflow-x:auto;line-height:normal;font-family:Menlo,'DejaVu Sans Mono',consolas,'Courier New',monospace\">/home/zhang/miniconda3/envs/3d/lib/python3.10/site-packages/lightning/pytorch/utilities/data.py:78: UserWarning:\n",
       "\n",
       "Trying to infer the `batch_size` from an ambiguous collection. The batch size we found is 4037. To avoid any \n",
       "miscalculations, use `self.log(..., batch_size=batch_size)`.\n",
       "\n",
       "</pre>\n"
      ],
      "text/plain": [
       "/home/zhang/miniconda3/envs/3d/lib/python3.10/site-packages/lightning/pytorch/utilities/data.py:78: UserWarning:\n",
       "\n",
       "Trying to infer the `batch_size` from an ambiguous collection. The batch size we found is 4037. To avoid any \n",
       "miscalculations, use `self.log(..., batch_size=batch_size)`.\n",
       "\n"
      ]
     },
     "metadata": {},
     "output_type": "display_data"
    },
    {
     "data": {
      "text/html": [
       "<pre style=\"white-space:pre;overflow-x:auto;line-height:normal;font-family:Menlo,'DejaVu Sans Mono',consolas,'Courier New',monospace\">/home/zhang/miniconda3/envs/3d/lib/python3.10/site-packages/lightning/pytorch/utilities/data.py:78: UserWarning:\n",
       "\n",
       "Trying to infer the `batch_size` from an ambiguous collection. The batch size we found is 8059. To avoid any \n",
       "miscalculations, use `self.log(..., batch_size=batch_size)`.\n",
       "\n",
       "</pre>\n"
      ],
      "text/plain": [
       "/home/zhang/miniconda3/envs/3d/lib/python3.10/site-packages/lightning/pytorch/utilities/data.py:78: UserWarning:\n",
       "\n",
       "Trying to infer the `batch_size` from an ambiguous collection. The batch size we found is 8059. To avoid any \n",
       "miscalculations, use `self.log(..., batch_size=batch_size)`.\n",
       "\n"
      ]
     },
     "metadata": {},
     "output_type": "display_data"
    },
    {
     "data": {
      "text/html": [
       "<pre style=\"white-space:pre;overflow-x:auto;line-height:normal;font-family:Menlo,'DejaVu Sans Mono',consolas,'Courier New',monospace\">/home/zhang/miniconda3/envs/3d/lib/python3.10/site-packages/lightning/pytorch/utilities/data.py:78: UserWarning:\n",
       "\n",
       "Trying to infer the `batch_size` from an ambiguous collection. The batch size we found is 10638. To avoid any \n",
       "miscalculations, use `self.log(..., batch_size=batch_size)`.\n",
       "\n",
       "</pre>\n"
      ],
      "text/plain": [
       "/home/zhang/miniconda3/envs/3d/lib/python3.10/site-packages/lightning/pytorch/utilities/data.py:78: UserWarning:\n",
       "\n",
       "Trying to infer the `batch_size` from an ambiguous collection. The batch size we found is 10638. To avoid any \n",
       "miscalculations, use `self.log(..., batch_size=batch_size)`.\n",
       "\n"
      ]
     },
     "metadata": {},
     "output_type": "display_data"
    },
    {
     "data": {
      "text/html": [
       "<pre style=\"white-space:pre;overflow-x:auto;line-height:normal;font-family:Menlo,'DejaVu Sans Mono',consolas,'Courier New',monospace\">/home/zhang/miniconda3/envs/3d/lib/python3.10/site-packages/lightning/pytorch/utilities/data.py:78: UserWarning:\n",
       "\n",
       "Trying to infer the `batch_size` from an ambiguous collection. The batch size we found is 7341. To avoid any \n",
       "miscalculations, use `self.log(..., batch_size=batch_size)`.\n",
       "\n",
       "</pre>\n"
      ],
      "text/plain": [
       "/home/zhang/miniconda3/envs/3d/lib/python3.10/site-packages/lightning/pytorch/utilities/data.py:78: UserWarning:\n",
       "\n",
       "Trying to infer the `batch_size` from an ambiguous collection. The batch size we found is 7341. To avoid any \n",
       "miscalculations, use `self.log(..., batch_size=batch_size)`.\n",
       "\n"
      ]
     },
     "metadata": {},
     "output_type": "display_data"
    },
    {
     "data": {
      "text/html": [
       "<pre style=\"white-space:pre;overflow-x:auto;line-height:normal;font-family:Menlo,'DejaVu Sans Mono',consolas,'Courier New',monospace\">/home/zhang/miniconda3/envs/3d/lib/python3.10/site-packages/lightning/pytorch/utilities/data.py:78: UserWarning:\n",
       "\n",
       "Trying to infer the `batch_size` from an ambiguous collection. The batch size we found is 5955. To avoid any \n",
       "miscalculations, use `self.log(..., batch_size=batch_size)`.\n",
       "\n",
       "</pre>\n"
      ],
      "text/plain": [
       "/home/zhang/miniconda3/envs/3d/lib/python3.10/site-packages/lightning/pytorch/utilities/data.py:78: UserWarning:\n",
       "\n",
       "Trying to infer the `batch_size` from an ambiguous collection. The batch size we found is 5955. To avoid any \n",
       "miscalculations, use `self.log(..., batch_size=batch_size)`.\n",
       "\n"
      ]
     },
     "metadata": {},
     "output_type": "display_data"
    },
    {
     "data": {
      "text/html": [
       "<pre style=\"white-space:pre;overflow-x:auto;line-height:normal;font-family:Menlo,'DejaVu Sans Mono',consolas,'Courier New',monospace\">/home/zhang/miniconda3/envs/3d/lib/python3.10/site-packages/lightning/pytorch/utilities/data.py:78: UserWarning:\n",
       "\n",
       "Trying to infer the `batch_size` from an ambiguous collection. The batch size we found is 3796. To avoid any \n",
       "miscalculations, use `self.log(..., batch_size=batch_size)`.\n",
       "\n",
       "</pre>\n"
      ],
      "text/plain": [
       "/home/zhang/miniconda3/envs/3d/lib/python3.10/site-packages/lightning/pytorch/utilities/data.py:78: UserWarning:\n",
       "\n",
       "Trying to infer the `batch_size` from an ambiguous collection. The batch size we found is 3796. To avoid any \n",
       "miscalculations, use `self.log(..., batch_size=batch_size)`.\n",
       "\n"
      ]
     },
     "metadata": {},
     "output_type": "display_data"
    },
    {
     "data": {
      "text/html": [
       "<pre style=\"white-space:pre;overflow-x:auto;line-height:normal;font-family:Menlo,'DejaVu Sans Mono',consolas,'Courier New',monospace\">/home/zhang/miniconda3/envs/3d/lib/python3.10/site-packages/lightning/pytorch/utilities/data.py:78: UserWarning:\n",
       "\n",
       "Trying to infer the `batch_size` from an ambiguous collection. The batch size we found is 5703. To avoid any \n",
       "miscalculations, use `self.log(..., batch_size=batch_size)`.\n",
       "\n",
       "</pre>\n"
      ],
      "text/plain": [
       "/home/zhang/miniconda3/envs/3d/lib/python3.10/site-packages/lightning/pytorch/utilities/data.py:78: UserWarning:\n",
       "\n",
       "Trying to infer the `batch_size` from an ambiguous collection. The batch size we found is 5703. To avoid any \n",
       "miscalculations, use `self.log(..., batch_size=batch_size)`.\n",
       "\n"
      ]
     },
     "metadata": {},
     "output_type": "display_data"
    },
    {
     "data": {
      "text/html": [
       "<pre style=\"white-space:pre;overflow-x:auto;line-height:normal;font-family:Menlo,'DejaVu Sans Mono',consolas,'Courier New',monospace\">/home/zhang/miniconda3/envs/3d/lib/python3.10/site-packages/lightning/pytorch/utilities/data.py:78: UserWarning:\n",
       "\n",
       "Trying to infer the `batch_size` from an ambiguous collection. The batch size we found is 4532. To avoid any \n",
       "miscalculations, use `self.log(..., batch_size=batch_size)`.\n",
       "\n",
       "</pre>\n"
      ],
      "text/plain": [
       "/home/zhang/miniconda3/envs/3d/lib/python3.10/site-packages/lightning/pytorch/utilities/data.py:78: UserWarning:\n",
       "\n",
       "Trying to infer the `batch_size` from an ambiguous collection. The batch size we found is 4532. To avoid any \n",
       "miscalculations, use `self.log(..., batch_size=batch_size)`.\n",
       "\n"
      ]
     },
     "metadata": {},
     "output_type": "display_data"
    },
    {
     "data": {
      "text/html": [
       "<pre style=\"white-space:pre;overflow-x:auto;line-height:normal;font-family:Menlo,'DejaVu Sans Mono',consolas,'Courier New',monospace\">/home/zhang/miniconda3/envs/3d/lib/python3.10/site-packages/lightning/pytorch/utilities/data.py:78: UserWarning:\n",
       "\n",
       "Trying to infer the `batch_size` from an ambiguous collection. The batch size we found is 5031. To avoid any \n",
       "miscalculations, use `self.log(..., batch_size=batch_size)`.\n",
       "\n",
       "</pre>\n"
      ],
      "text/plain": [
       "/home/zhang/miniconda3/envs/3d/lib/python3.10/site-packages/lightning/pytorch/utilities/data.py:78: UserWarning:\n",
       "\n",
       "Trying to infer the `batch_size` from an ambiguous collection. The batch size we found is 5031. To avoid any \n",
       "miscalculations, use `self.log(..., batch_size=batch_size)`.\n",
       "\n"
      ]
     },
     "metadata": {},
     "output_type": "display_data"
    },
    {
     "data": {
      "text/html": [
       "<pre style=\"white-space:pre;overflow-x:auto;line-height:normal;font-family:Menlo,'DejaVu Sans Mono',consolas,'Courier New',monospace\">/home/zhang/miniconda3/envs/3d/lib/python3.10/site-packages/lightning/pytorch/utilities/data.py:78: UserWarning:\n",
       "\n",
       "Trying to infer the `batch_size` from an ambiguous collection. The batch size we found is 3522. To avoid any \n",
       "miscalculations, use `self.log(..., batch_size=batch_size)`.\n",
       "\n",
       "</pre>\n"
      ],
      "text/plain": [
       "/home/zhang/miniconda3/envs/3d/lib/python3.10/site-packages/lightning/pytorch/utilities/data.py:78: UserWarning:\n",
       "\n",
       "Trying to infer the `batch_size` from an ambiguous collection. The batch size we found is 3522. To avoid any \n",
       "miscalculations, use `self.log(..., batch_size=batch_size)`.\n",
       "\n"
      ]
     },
     "metadata": {},
     "output_type": "display_data"
    },
    {
     "data": {
      "text/html": [
       "<pre style=\"white-space:pre;overflow-x:auto;line-height:normal;font-family:Menlo,'DejaVu Sans Mono',consolas,'Courier New',monospace\">/home/zhang/miniconda3/envs/3d/lib/python3.10/site-packages/lightning/pytorch/utilities/data.py:78: UserWarning:\n",
       "\n",
       "Trying to infer the `batch_size` from an ambiguous collection. The batch size we found is 3759. To avoid any \n",
       "miscalculations, use `self.log(..., batch_size=batch_size)`.\n",
       "\n",
       "</pre>\n"
      ],
      "text/plain": [
       "/home/zhang/miniconda3/envs/3d/lib/python3.10/site-packages/lightning/pytorch/utilities/data.py:78: UserWarning:\n",
       "\n",
       "Trying to infer the `batch_size` from an ambiguous collection. The batch size we found is 3759. To avoid any \n",
       "miscalculations, use `self.log(..., batch_size=batch_size)`.\n",
       "\n"
      ]
     },
     "metadata": {},
     "output_type": "display_data"
    },
    {
     "data": {
      "text/html": [
       "<pre style=\"white-space:pre;overflow-x:auto;line-height:normal;font-family:Menlo,'DejaVu Sans Mono',consolas,'Courier New',monospace\">/home/zhang/miniconda3/envs/3d/lib/python3.10/site-packages/lightning/pytorch/utilities/data.py:78: UserWarning:\n",
       "\n",
       "Trying to infer the `batch_size` from an ambiguous collection. The batch size we found is 6268. To avoid any \n",
       "miscalculations, use `self.log(..., batch_size=batch_size)`.\n",
       "\n",
       "</pre>\n"
      ],
      "text/plain": [
       "/home/zhang/miniconda3/envs/3d/lib/python3.10/site-packages/lightning/pytorch/utilities/data.py:78: UserWarning:\n",
       "\n",
       "Trying to infer the `batch_size` from an ambiguous collection. The batch size we found is 6268. To avoid any \n",
       "miscalculations, use `self.log(..., batch_size=batch_size)`.\n",
       "\n"
      ]
     },
     "metadata": {},
     "output_type": "display_data"
    },
    {
     "data": {
      "text/html": [
       "<pre style=\"white-space:pre;overflow-x:auto;line-height:normal;font-family:Menlo,'DejaVu Sans Mono',consolas,'Courier New',monospace\">/home/zhang/miniconda3/envs/3d/lib/python3.10/site-packages/lightning/pytorch/utilities/data.py:78: UserWarning:\n",
       "\n",
       "Trying to infer the `batch_size` from an ambiguous collection. The batch size we found is 3677. To avoid any \n",
       "miscalculations, use `self.log(..., batch_size=batch_size)`.\n",
       "\n",
       "</pre>\n"
      ],
      "text/plain": [
       "/home/zhang/miniconda3/envs/3d/lib/python3.10/site-packages/lightning/pytorch/utilities/data.py:78: UserWarning:\n",
       "\n",
       "Trying to infer the `batch_size` from an ambiguous collection. The batch size we found is 3677. To avoid any \n",
       "miscalculations, use `self.log(..., batch_size=batch_size)`.\n",
       "\n"
      ]
     },
     "metadata": {},
     "output_type": "display_data"
    },
    {
     "data": {
      "text/html": [
       "<pre style=\"white-space:pre;overflow-x:auto;line-height:normal;font-family:Menlo,'DejaVu Sans Mono',consolas,'Courier New',monospace\">/home/zhang/miniconda3/envs/3d/lib/python3.10/site-packages/lightning/pytorch/utilities/data.py:78: UserWarning:\n",
       "\n",
       "Trying to infer the `batch_size` from an ambiguous collection. The batch size we found is 1581. To avoid any \n",
       "miscalculations, use `self.log(..., batch_size=batch_size)`.\n",
       "\n",
       "</pre>\n"
      ],
      "text/plain": [
       "/home/zhang/miniconda3/envs/3d/lib/python3.10/site-packages/lightning/pytorch/utilities/data.py:78: UserWarning:\n",
       "\n",
       "Trying to infer the `batch_size` from an ambiguous collection. The batch size we found is 1581. To avoid any \n",
       "miscalculations, use `self.log(..., batch_size=batch_size)`.\n",
       "\n"
      ]
     },
     "metadata": {},
     "output_type": "display_data"
    },
    {
     "data": {
      "text/html": [
       "<pre style=\"white-space:pre;overflow-x:auto;line-height:normal;font-family:Menlo,'DejaVu Sans Mono',consolas,'Courier New',monospace\">/home/zhang/miniconda3/envs/3d/lib/python3.10/site-packages/lightning/pytorch/utilities/data.py:78: UserWarning:\n",
       "\n",
       "Trying to infer the `batch_size` from an ambiguous collection. The batch size we found is 1307. To avoid any \n",
       "miscalculations, use `self.log(..., batch_size=batch_size)`.\n",
       "\n",
       "</pre>\n"
      ],
      "text/plain": [
       "/home/zhang/miniconda3/envs/3d/lib/python3.10/site-packages/lightning/pytorch/utilities/data.py:78: UserWarning:\n",
       "\n",
       "Trying to infer the `batch_size` from an ambiguous collection. The batch size we found is 1307. To avoid any \n",
       "miscalculations, use `self.log(..., batch_size=batch_size)`.\n",
       "\n"
      ]
     },
     "metadata": {},
     "output_type": "display_data"
    },
    {
     "data": {
      "text/html": [
       "<pre style=\"white-space:pre;overflow-x:auto;line-height:normal;font-family:Menlo,'DejaVu Sans Mono',consolas,'Courier New',monospace\">/home/zhang/miniconda3/envs/3d/lib/python3.10/site-packages/lightning/pytorch/utilities/data.py:78: UserWarning:\n",
       "\n",
       "Trying to infer the `batch_size` from an ambiguous collection. The batch size we found is 1459. To avoid any \n",
       "miscalculations, use `self.log(..., batch_size=batch_size)`.\n",
       "\n",
       "</pre>\n"
      ],
      "text/plain": [
       "/home/zhang/miniconda3/envs/3d/lib/python3.10/site-packages/lightning/pytorch/utilities/data.py:78: UserWarning:\n",
       "\n",
       "Trying to infer the `batch_size` from an ambiguous collection. The batch size we found is 1459. To avoid any \n",
       "miscalculations, use `self.log(..., batch_size=batch_size)`.\n",
       "\n"
      ]
     },
     "metadata": {},
     "output_type": "display_data"
    },
    {
     "data": {
      "text/html": [
       "<pre style=\"white-space:pre;overflow-x:auto;line-height:normal;font-family:Menlo,'DejaVu Sans Mono',consolas,'Courier New',monospace\">┏━━━━━━━━━━━━━━━━━━━━━━━━━━━┳━━━━━━━━━━━━━━━━━━━━━━━━━━━┓\n",
       "┃<span style=\"font-weight: bold\">        Test metric        </span>┃<span style=\"font-weight: bold\">       DataLoader 0        </span>┃\n",
       "┡━━━━━━━━━━━━━━━━━━━━━━━━━━━╇━━━━━━━━━━━━━━━━━━━━━━━━━━━┩\n",
       "│<span style=\"color: #008080; text-decoration-color: #008080\"> test/graph_label/accuracy </span>│<span style=\"color: #800080; text-decoration-color: #800080\">    0.7722514271736145     </span>│\n",
       "│<span style=\"color: #008080; text-decoration-color: #008080\">  test/graph_label/f1_max  </span>│<span style=\"color: #800080; text-decoration-color: #800080\">    0.8186780214309692     </span>│\n",
       "│<span style=\"color: #008080; text-decoration-color: #008080\"> test/graph_label/f1_score </span>│<span style=\"color: #800080; text-decoration-color: #800080\">    0.41755518317222595    </span>│\n",
       "│<span style=\"color: #008080; text-decoration-color: #008080\">   test/loss/graph_label   </span>│<span style=\"color: #800080; text-decoration-color: #800080\">    1.5442746877670288     </span>│\n",
       "│<span style=\"color: #008080; text-decoration-color: #008080\">      test/loss/total      </span>│<span style=\"color: #800080; text-decoration-color: #800080\">    1.5442746877670288     </span>│\n",
       "└───────────────────────────┴───────────────────────────┘\n",
       "</pre>\n"
      ],
      "text/plain": [
       "┏━━━━━━━━━━━━━━━━━━━━━━━━━━━┳━━━━━━━━━━━━━━━━━━━━━━━━━━━┓\n",
       "┃\u001b[1m \u001b[0m\u001b[1m       Test metric       \u001b[0m\u001b[1m \u001b[0m┃\u001b[1m \u001b[0m\u001b[1m      DataLoader 0       \u001b[0m\u001b[1m \u001b[0m┃\n",
       "┡━━━━━━━━━━━━━━━━━━━━━━━━━━━╇━━━━━━━━━━━━━━━━━━━━━━━━━━━┩\n",
       "│\u001b[36m \u001b[0m\u001b[36mtest/graph_label/accuracy\u001b[0m\u001b[36m \u001b[0m│\u001b[35m \u001b[0m\u001b[35m   0.7722514271736145    \u001b[0m\u001b[35m \u001b[0m│\n",
       "│\u001b[36m \u001b[0m\u001b[36m test/graph_label/f1_max \u001b[0m\u001b[36m \u001b[0m│\u001b[35m \u001b[0m\u001b[35m   0.8186780214309692    \u001b[0m\u001b[35m \u001b[0m│\n",
       "│\u001b[36m \u001b[0m\u001b[36mtest/graph_label/f1_score\u001b[0m\u001b[36m \u001b[0m│\u001b[35m \u001b[0m\u001b[35m   0.41755518317222595   \u001b[0m\u001b[35m \u001b[0m│\n",
       "│\u001b[36m \u001b[0m\u001b[36m  test/loss/graph_label  \u001b[0m\u001b[36m \u001b[0m│\u001b[35m \u001b[0m\u001b[35m   1.5442746877670288    \u001b[0m\u001b[35m \u001b[0m│\n",
       "│\u001b[36m \u001b[0m\u001b[36m     test/loss/total     \u001b[0m\u001b[36m \u001b[0m│\u001b[35m \u001b[0m\u001b[35m   1.5442746877670288    \u001b[0m\u001b[35m \u001b[0m│\n",
       "└───────────────────────────┴───────────────────────────┘\n"
      ]
     },
     "metadata": {},
     "output_type": "display_data"
    },
    {
     "data": {
      "text/html": [
       "<pre style=\"white-space:pre;overflow-x:auto;line-height:normal;font-family:Menlo,'DejaVu Sans Mono',consolas,'Courier New',monospace\"></pre>\n"
      ],
      "text/plain": []
     },
     "metadata": {},
     "output_type": "display_data"
    },
    {
     "data": {
      "text/html": [
       "<pre style=\"white-space:pre;overflow-x:auto;line-height:normal;font-family:Menlo,'DejaVu Sans Mono',consolas,'Courier New',monospace\">\n",
       "</pre>\n"
      ],
      "text/plain": [
       "\n"
      ]
     },
     "metadata": {},
     "output_type": "display_data"
    },
    {
     "data": {
      "text/html": [
       "<pre style=\"white-space:pre;overflow-x:auto;line-height:normal;font-family:Menlo,'DejaVu Sans Mono',consolas,'Courier New',monospace\"><span style=\"color: #7fbfbf; text-decoration-color: #7fbfbf\">[07/25/24 17:49:38] </span><span style=\"color: #000080; text-decoration-color: #000080\">INFO    </span> family: <span style=\"font-weight: bold\">{</span><span style=\"color: #008000; text-decoration-color: #008000\">'test/loss/graph_label/family'</span>: <span style=\"color: #008080; text-decoration-color: #008080; font-weight: bold\">1.5442746877670288</span>,           <a href=\"file:///home/zhang/Projects/3d/ProteinWorkshop/proteinworkshop/finetune.py\" target=\"_blank\"><span style=\"color: #7f7f7f; text-decoration-color: #7f7f7f\">finetune.py</span></a><span style=\"color: #7f7f7f; text-decoration-color: #7f7f7f\">:</span><a href=\"file:///home/zhang/Projects/3d/ProteinWorkshop/proteinworkshop/finetune.py#220\" target=\"_blank\"><span style=\"color: #7f7f7f; text-decoration-color: #7f7f7f\">220</span></a>\n",
       "<span style=\"color: #7fbfbf; text-decoration-color: #7fbfbf\">                    </span>         <span style=\"color: #008000; text-decoration-color: #008000\">'test/loss/total/family'</span>: <span style=\"color: #008080; text-decoration-color: #008080; font-weight: bold\">1.5442746877670288</span>,                          <span style=\"color: #7f7f7f; text-decoration-color: #7f7f7f\">               </span>\n",
       "<span style=\"color: #7fbfbf; text-decoration-color: #7fbfbf\">                    </span>         <span style=\"color: #008000; text-decoration-color: #008000\">'test/graph_label/accuracy/family'</span>: <span style=\"color: #008080; text-decoration-color: #008080; font-weight: bold\">0.7722514271736145</span>,                <span style=\"color: #7f7f7f; text-decoration-color: #7f7f7f\">               </span>\n",
       "<span style=\"color: #7fbfbf; text-decoration-color: #7fbfbf\">                    </span>         <span style=\"color: #008000; text-decoration-color: #008000\">'test/graph_label/f1_score/family'</span>: <span style=\"color: #008080; text-decoration-color: #008080; font-weight: bold\">0.41755518317222595</span>,               <span style=\"color: #7f7f7f; text-decoration-color: #7f7f7f\">               </span>\n",
       "<span style=\"color: #7fbfbf; text-decoration-color: #7fbfbf\">                    </span>         <span style=\"color: #008000; text-decoration-color: #008000\">'test/graph_label/f1_max/family'</span>: <span style=\"color: #008080; text-decoration-color: #008080; font-weight: bold\">0.8186780214309692</span><span style=\"font-weight: bold\">}</span>                  <span style=\"color: #7f7f7f; text-decoration-color: #7f7f7f\">               </span>\n",
       "</pre>\n"
      ],
      "text/plain": [
       "\u001b[2;36m[07/25/24 17:49:38]\u001b[0m\u001b[2;36m \u001b[0m\u001b[34mINFO    \u001b[0m family: \u001b[1m{\u001b[0m\u001b[32m'test/loss/graph_label/family'\u001b[0m: \u001b[1;36m1.5442746877670288\u001b[0m,           \u001b]8;id=952574;file:///home/zhang/Projects/3d/ProteinWorkshop/proteinworkshop/finetune.py\u001b\\\u001b[2mfinetune.py\u001b[0m\u001b]8;;\u001b\\\u001b[2m:\u001b[0m\u001b]8;id=921381;file:///home/zhang/Projects/3d/ProteinWorkshop/proteinworkshop/finetune.py#220\u001b\\\u001b[2m220\u001b[0m\u001b]8;;\u001b\\\n",
       "\u001b[2;36m                    \u001b[0m         \u001b[32m'test/loss/total/family'\u001b[0m: \u001b[1;36m1.5442746877670288\u001b[0m,                          \u001b[2m               \u001b[0m\n",
       "\u001b[2;36m                    \u001b[0m         \u001b[32m'test/graph_label/accuracy/family'\u001b[0m: \u001b[1;36m0.7722514271736145\u001b[0m,                \u001b[2m               \u001b[0m\n",
       "\u001b[2;36m                    \u001b[0m         \u001b[32m'test/graph_label/f1_score/family'\u001b[0m: \u001b[1;36m0.41755518317222595\u001b[0m,               \u001b[2m               \u001b[0m\n",
       "\u001b[2;36m                    \u001b[0m         \u001b[32m'test/graph_label/f1_max/family'\u001b[0m: \u001b[1;36m0.8186780214309692\u001b[0m\u001b[1m}\u001b[0m                  \u001b[2m               \u001b[0m\n"
      ]
     },
     "metadata": {},
     "output_type": "display_data"
    },
    {
     "data": {
      "text/html": [
       "<pre style=\"white-space:pre;overflow-x:auto;line-height:normal;font-family:Menlo,'DejaVu Sans Mono',consolas,'Courier New',monospace\"><span style=\"color: #7fbfbf; text-decoration-color: #7fbfbf\">                    </span><span style=\"color: #000080; text-decoration-color: #000080\">INFO    </span> Testing on superfamily <span style=\"font-weight: bold\">(</span><span style=\"color: #008080; text-decoration-color: #008080; font-weight: bold\">3</span> <span style=\"color: #800080; text-decoration-color: #800080\">/</span> <span style=\"color: #008080; text-decoration-color: #008080; font-weight: bold\">3</span><span style=\"font-weight: bold\">)</span><span style=\"color: #808000; text-decoration-color: #808000\">...</span>                                      <a href=\"file:///home/zhang/Projects/3d/ProteinWorkshop/proteinworkshop/finetune.py\" target=\"_blank\"><span style=\"color: #7f7f7f; text-decoration-color: #7f7f7f\">finetune.py</span></a><span style=\"color: #7f7f7f; text-decoration-color: #7f7f7f\">:</span><a href=\"file:///home/zhang/Projects/3d/ProteinWorkshop/proteinworkshop/finetune.py#210\" target=\"_blank\"><span style=\"color: #7f7f7f; text-decoration-color: #7f7f7f\">210</span></a>\n",
       "</pre>\n"
      ],
      "text/plain": [
       "\u001b[2;36m                   \u001b[0m\u001b[2;36m \u001b[0m\u001b[34mINFO    \u001b[0m Testing on superfamily \u001b[1m(\u001b[0m\u001b[1;36m3\u001b[0m \u001b[35m/\u001b[0m \u001b[1;36m3\u001b[0m\u001b[1m)\u001b[0m\u001b[33m...\u001b[0m                                      \u001b]8;id=36111;file:///home/zhang/Projects/3d/ProteinWorkshop/proteinworkshop/finetune.py\u001b\\\u001b[2mfinetune.py\u001b[0m\u001b]8;;\u001b\\\u001b[2m:\u001b[0m\u001b]8;id=641605;file:///home/zhang/Projects/3d/ProteinWorkshop/proteinworkshop/finetune.py#210\u001b\\\u001b[2m210\u001b[0m\u001b]8;;\u001b\\\n"
      ]
     },
     "metadata": {},
     "output_type": "display_data"
    },
    {
     "data": {
      "text/html": [
       "<pre style=\"white-space:pre;overflow-x:auto;line-height:normal;font-family:Menlo,'DejaVu Sans Mono',consolas,'Courier New',monospace\"><span style=\"color: #7fbfbf; text-decoration-color: #7fbfbf\">                    </span><span style=\"color: #000080; text-decoration-color: #000080\">INFO    </span> Downloading Protein Function. Fraction <span style=\"color: #008080; text-decoration-color: #008080; font-weight: bold\">1.0</span>                   <a href=\"file:///home/zhang/Projects/3d/ProteinWorkshop/proteinworkshop/datasets/fold_classification.py\" target=\"_blank\"><span style=\"color: #7f7f7f; text-decoration-color: #7f7f7f\">fold_classification.py</span></a><span style=\"color: #7f7f7f; text-decoration-color: #7f7f7f\">:</span><a href=\"file:///home/zhang/Projects/3d/ProteinWorkshop/proteinworkshop/datasets/fold_classification.py#86\" target=\"_blank\"><span style=\"color: #7f7f7f; text-decoration-color: #7f7f7f\">86</span></a>\n",
       "</pre>\n"
      ],
      "text/plain": [
       "\u001b[2;36m                   \u001b[0m\u001b[2;36m \u001b[0m\u001b[34mINFO    \u001b[0m Downloading Protein Function. Fraction \u001b[1;36m1.0\u001b[0m                   \u001b]8;id=684619;file:///home/zhang/Projects/3d/ProteinWorkshop/proteinworkshop/datasets/fold_classification.py\u001b\\\u001b[2mfold_classification.py\u001b[0m\u001b]8;;\u001b\\\u001b[2m:\u001b[0m\u001b]8;id=848373;file:///home/zhang/Projects/3d/ProteinWorkshop/proteinworkshop/datasets/fold_classification.py#86\u001b\\\u001b[2m86\u001b[0m\u001b]8;;\u001b\\\n"
      ]
     },
     "metadata": {},
     "output_type": "display_data"
    },
    {
     "data": {
      "text/html": [
       "<pre style=\"white-space:pre;overflow-x:auto;line-height:normal;font-family:Menlo,'DejaVu Sans Mono',consolas,'Courier New',monospace\"><span style=\"color: #7fbfbf; text-decoration-color: #7fbfbf\">                    </span><span style=\"color: #000080; text-decoration-color: #000080\">INFO    </span> Found SCOP structure tarfile in:                            <a href=\"file:///home/zhang/Projects/3d/ProteinWorkshop/proteinworkshop/datasets/fold_classification.py\" target=\"_blank\"><span style=\"color: #7f7f7f; text-decoration-color: #7f7f7f\">fold_classification.py</span></a><span style=\"color: #7f7f7f; text-decoration-color: #7f7f7f\">:</span><a href=\"file:///home/zhang/Projects/3d/ProteinWorkshop/proteinworkshop/datasets/fold_classification.py#138\" target=\"_blank\"><span style=\"color: #7f7f7f; text-decoration-color: #7f7f7f\">138</span></a>\n",
       "<span style=\"color: #7fbfbf; text-decoration-color: #7fbfbf\">                    </span>         <span style=\"color: #800080; text-decoration-color: #800080\">/home/zhang/Projects/3d/ProteinWorkshop/proteinworkshop/dat</span> <span style=\"color: #7f7f7f; text-decoration-color: #7f7f7f\">                          </span>\n",
       "<span style=\"color: #7fbfbf; text-decoration-color: #7fbfbf\">                    </span>         <span style=\"color: #800080; text-decoration-color: #800080\">a/FoldClassification/</span><span style=\"color: #ff00ff; text-decoration-color: #ff00ff\">pdbstyle-sel-gs-bib-95-1.75.tgz</span>        <span style=\"color: #7f7f7f; text-decoration-color: #7f7f7f\">                          </span>\n",
       "</pre>\n"
      ],
      "text/plain": [
       "\u001b[2;36m                   \u001b[0m\u001b[2;36m \u001b[0m\u001b[34mINFO    \u001b[0m Found SCOP structure tarfile in:                            \u001b]8;id=4405;file:///home/zhang/Projects/3d/ProteinWorkshop/proteinworkshop/datasets/fold_classification.py\u001b\\\u001b[2mfold_classification.py\u001b[0m\u001b]8;;\u001b\\\u001b[2m:\u001b[0m\u001b]8;id=87670;file:///home/zhang/Projects/3d/ProteinWorkshop/proteinworkshop/datasets/fold_classification.py#138\u001b\\\u001b[2m138\u001b[0m\u001b]8;;\u001b\\\n",
       "\u001b[2;36m                    \u001b[0m         \u001b[35m/home/zhang/Projects/3d/ProteinWorkshop/proteinworkshop/dat\u001b[0m \u001b[2m                          \u001b[0m\n",
       "\u001b[2;36m                    \u001b[0m         \u001b[35ma/FoldClassification/\u001b[0m\u001b[95mpdbstyle-sel-gs-bib-95-1.75.tgz\u001b[0m        \u001b[2m                          \u001b[0m\n"
      ]
     },
     "metadata": {},
     "output_type": "display_data"
    },
    {
     "data": {
      "text/html": [
       "<pre style=\"white-space:pre;overflow-x:auto;line-height:normal;font-family:Menlo,'DejaVu Sans Mono',consolas,'Courier New',monospace\"><span style=\"color: #7fbfbf; text-decoration-color: #7fbfbf\">                    </span><span style=\"color: #000080; text-decoration-color: #000080\">INFO    </span> Found SCOPe structures in:                                  <a href=\"file:///home/zhang/Projects/3d/ProteinWorkshop/proteinworkshop/datasets/fold_classification.py\" target=\"_blank\"><span style=\"color: #7f7f7f; text-decoration-color: #7f7f7f\">fold_classification.py</span></a><span style=\"color: #7f7f7f; text-decoration-color: #7f7f7f\">:</span><a href=\"file:///home/zhang/Projects/3d/ProteinWorkshop/proteinworkshop/datasets/fold_classification.py#151\" target=\"_blank\"><span style=\"color: #7f7f7f; text-decoration-color: #7f7f7f\">151</span></a>\n",
       "</pre>\n"
      ],
      "text/plain": [
       "\u001b[2;36m                   \u001b[0m\u001b[2;36m \u001b[0m\u001b[34mINFO    \u001b[0m Found SCOPe structures in:                                  \u001b]8;id=885874;file:///home/zhang/Projects/3d/ProteinWorkshop/proteinworkshop/datasets/fold_classification.py\u001b\\\u001b[2mfold_classification.py\u001b[0m\u001b]8;;\u001b\\\u001b[2m:\u001b[0m\u001b]8;id=783514;file:///home/zhang/Projects/3d/ProteinWorkshop/proteinworkshop/datasets/fold_classification.py#151\u001b\\\u001b[2m151\u001b[0m\u001b]8;;\u001b\\\n"
      ]
     },
     "metadata": {},
     "output_type": "display_data"
    },
    {
     "data": {
      "text/html": [
       "<pre style=\"white-space:pre;overflow-x:auto;line-height:normal;font-family:Menlo,'DejaVu Sans Mono',consolas,'Courier New',monospace\"><span style=\"color: #7fbfbf; text-decoration-color: #7fbfbf\">                    </span><span style=\"color: #000080; text-decoration-color: #000080\">INFO    </span> Preprocessing test data                                                     <a href=\"file:///home/zhang/Projects/3d/ProteinWorkshop/proteinworkshop/datasets/base.py\" target=\"_blank\"><span style=\"color: #7f7f7f; text-decoration-color: #7f7f7f\">base.py</span></a><span style=\"color: #7f7f7f; text-decoration-color: #7f7f7f\">:</span><a href=\"file:///home/zhang/Projects/3d/ProteinWorkshop/proteinworkshop/datasets/base.py#92\" target=\"_blank\"><span style=\"color: #7f7f7f; text-decoration-color: #7f7f7f\">92</span></a>\n",
       "</pre>\n"
      ],
      "text/plain": [
       "\u001b[2;36m                   \u001b[0m\u001b[2;36m \u001b[0m\u001b[34mINFO    \u001b[0m Preprocessing test data                                                     \u001b]8;id=201252;file:///home/zhang/Projects/3d/ProteinWorkshop/proteinworkshop/datasets/base.py\u001b\\\u001b[2mbase.py\u001b[0m\u001b]8;;\u001b\\\u001b[2m:\u001b[0m\u001b]8;id=346880;file:///home/zhang/Projects/3d/ProteinWorkshop/proteinworkshop/datasets/base.py#92\u001b\\\u001b[2m92\u001b[0m\u001b]8;;\u001b\\\n"
      ]
     },
     "metadata": {},
     "output_type": "display_data"
    },
    {
     "name": "stderr",
     "output_type": "stream",
     "text": [
      "Restoring states from the checkpoint path at /home/zhang/Projects/3d/ProteinWorkshop/notebooks/outputs/checkpoints/epoch_021.ckpt\n",
      "LOCAL_RANK: 0 - CUDA_VISIBLE_DEVICES: [0]\n",
      "Loaded model weights from the checkpoint at /home/zhang/Projects/3d/ProteinWorkshop/notebooks/outputs/checkpoints/epoch_021.ckpt\n"
     ]
    },
    {
     "data": {
      "application/vnd.jupyter.widget-view+json": {
       "model_id": "0b74bfcab0244b2eb655551688e81d28",
       "version_major": 2,
       "version_minor": 0
      },
      "text/plain": [
       "Output()"
      ]
     },
     "metadata": {},
     "output_type": "display_data"
    },
    {
     "data": {
      "text/html": [
       "<pre style=\"white-space:pre;overflow-x:auto;line-height:normal;font-family:Menlo,'DejaVu Sans Mono',consolas,'Courier New',monospace\">/home/zhang/miniconda3/envs/3d/lib/python3.10/site-packages/lightning/pytorch/utilities/data.py:78: UserWarning:\n",
       "\n",
       "Trying to infer the `batch_size` from an ambiguous collection. The batch size we found is 7891. To avoid any \n",
       "miscalculations, use `self.log(..., batch_size=batch_size)`.\n",
       "\n",
       "</pre>\n"
      ],
      "text/plain": [
       "/home/zhang/miniconda3/envs/3d/lib/python3.10/site-packages/lightning/pytorch/utilities/data.py:78: UserWarning:\n",
       "\n",
       "Trying to infer the `batch_size` from an ambiguous collection. The batch size we found is 7891. To avoid any \n",
       "miscalculations, use `self.log(..., batch_size=batch_size)`.\n",
       "\n"
      ]
     },
     "metadata": {},
     "output_type": "display_data"
    },
    {
     "data": {
      "text/html": [
       "<pre style=\"white-space:pre;overflow-x:auto;line-height:normal;font-family:Menlo,'DejaVu Sans Mono',consolas,'Courier New',monospace\">/home/zhang/miniconda3/envs/3d/lib/python3.10/site-packages/lightning/pytorch/utilities/data.py:78: UserWarning:\n",
       "\n",
       "Trying to infer the `batch_size` from an ambiguous collection. The batch size we found is 8542. To avoid any \n",
       "miscalculations, use `self.log(..., batch_size=batch_size)`.\n",
       "\n",
       "</pre>\n"
      ],
      "text/plain": [
       "/home/zhang/miniconda3/envs/3d/lib/python3.10/site-packages/lightning/pytorch/utilities/data.py:78: UserWarning:\n",
       "\n",
       "Trying to infer the `batch_size` from an ambiguous collection. The batch size we found is 8542. To avoid any \n",
       "miscalculations, use `self.log(..., batch_size=batch_size)`.\n",
       "\n"
      ]
     },
     "metadata": {},
     "output_type": "display_data"
    },
    {
     "data": {
      "text/html": [
       "<pre style=\"white-space:pre;overflow-x:auto;line-height:normal;font-family:Menlo,'DejaVu Sans Mono',consolas,'Courier New',monospace\">/home/zhang/miniconda3/envs/3d/lib/python3.10/site-packages/lightning/pytorch/utilities/data.py:78: UserWarning:\n",
       "\n",
       "Trying to infer the `batch_size` from an ambiguous collection. The batch size we found is 4098. To avoid any \n",
       "miscalculations, use `self.log(..., batch_size=batch_size)`.\n",
       "\n",
       "</pre>\n"
      ],
      "text/plain": [
       "/home/zhang/miniconda3/envs/3d/lib/python3.10/site-packages/lightning/pytorch/utilities/data.py:78: UserWarning:\n",
       "\n",
       "Trying to infer the `batch_size` from an ambiguous collection. The batch size we found is 4098. To avoid any \n",
       "miscalculations, use `self.log(..., batch_size=batch_size)`.\n",
       "\n"
      ]
     },
     "metadata": {},
     "output_type": "display_data"
    },
    {
     "data": {
      "text/html": [
       "<pre style=\"white-space:pre;overflow-x:auto;line-height:normal;font-family:Menlo,'DejaVu Sans Mono',consolas,'Courier New',monospace\">/home/zhang/miniconda3/envs/3d/lib/python3.10/site-packages/lightning/pytorch/utilities/data.py:78: UserWarning:\n",
       "\n",
       "Trying to infer the `batch_size` from an ambiguous collection. The batch size we found is 4170. To avoid any \n",
       "miscalculations, use `self.log(..., batch_size=batch_size)`.\n",
       "\n",
       "</pre>\n"
      ],
      "text/plain": [
       "/home/zhang/miniconda3/envs/3d/lib/python3.10/site-packages/lightning/pytorch/utilities/data.py:78: UserWarning:\n",
       "\n",
       "Trying to infer the `batch_size` from an ambiguous collection. The batch size we found is 4170. To avoid any \n",
       "miscalculations, use `self.log(..., batch_size=batch_size)`.\n",
       "\n"
      ]
     },
     "metadata": {},
     "output_type": "display_data"
    },
    {
     "data": {
      "text/html": [
       "<pre style=\"white-space:pre;overflow-x:auto;line-height:normal;font-family:Menlo,'DejaVu Sans Mono',consolas,'Courier New',monospace\">/home/zhang/miniconda3/envs/3d/lib/python3.10/site-packages/lightning/pytorch/utilities/data.py:78: UserWarning:\n",
       "\n",
       "Trying to infer the `batch_size` from an ambiguous collection. The batch size we found is 2948. To avoid any \n",
       "miscalculations, use `self.log(..., batch_size=batch_size)`.\n",
       "\n",
       "</pre>\n"
      ],
      "text/plain": [
       "/home/zhang/miniconda3/envs/3d/lib/python3.10/site-packages/lightning/pytorch/utilities/data.py:78: UserWarning:\n",
       "\n",
       "Trying to infer the `batch_size` from an ambiguous collection. The batch size we found is 2948. To avoid any \n",
       "miscalculations, use `self.log(..., batch_size=batch_size)`.\n",
       "\n"
      ]
     },
     "metadata": {},
     "output_type": "display_data"
    },
    {
     "data": {
      "text/html": [
       "<pre style=\"white-space:pre;overflow-x:auto;line-height:normal;font-family:Menlo,'DejaVu Sans Mono',consolas,'Courier New',monospace\">/home/zhang/miniconda3/envs/3d/lib/python3.10/site-packages/lightning/pytorch/utilities/data.py:78: UserWarning:\n",
       "\n",
       "Trying to infer the `batch_size` from an ambiguous collection. The batch size we found is 2960. To avoid any \n",
       "miscalculations, use `self.log(..., batch_size=batch_size)`.\n",
       "\n",
       "</pre>\n"
      ],
      "text/plain": [
       "/home/zhang/miniconda3/envs/3d/lib/python3.10/site-packages/lightning/pytorch/utilities/data.py:78: UserWarning:\n",
       "\n",
       "Trying to infer the `batch_size` from an ambiguous collection. The batch size we found is 2960. To avoid any \n",
       "miscalculations, use `self.log(..., batch_size=batch_size)`.\n",
       "\n"
      ]
     },
     "metadata": {},
     "output_type": "display_data"
    },
    {
     "data": {
      "text/html": [
       "<pre style=\"white-space:pre;overflow-x:auto;line-height:normal;font-family:Menlo,'DejaVu Sans Mono',consolas,'Courier New',monospace\">/home/zhang/miniconda3/envs/3d/lib/python3.10/site-packages/lightning/pytorch/utilities/data.py:78: UserWarning:\n",
       "\n",
       "Trying to infer the `batch_size` from an ambiguous collection. The batch size we found is 3027. To avoid any \n",
       "miscalculations, use `self.log(..., batch_size=batch_size)`.\n",
       "\n",
       "</pre>\n"
      ],
      "text/plain": [
       "/home/zhang/miniconda3/envs/3d/lib/python3.10/site-packages/lightning/pytorch/utilities/data.py:78: UserWarning:\n",
       "\n",
       "Trying to infer the `batch_size` from an ambiguous collection. The batch size we found is 3027. To avoid any \n",
       "miscalculations, use `self.log(..., batch_size=batch_size)`.\n",
       "\n"
      ]
     },
     "metadata": {},
     "output_type": "display_data"
    },
    {
     "data": {
      "text/html": [
       "<pre style=\"white-space:pre;overflow-x:auto;line-height:normal;font-family:Menlo,'DejaVu Sans Mono',consolas,'Courier New',monospace\">/home/zhang/miniconda3/envs/3d/lib/python3.10/site-packages/lightning/pytorch/utilities/data.py:78: UserWarning:\n",
       "\n",
       "Trying to infer the `batch_size` from an ambiguous collection. The batch size we found is 6613. To avoid any \n",
       "miscalculations, use `self.log(..., batch_size=batch_size)`.\n",
       "\n",
       "</pre>\n"
      ],
      "text/plain": [
       "/home/zhang/miniconda3/envs/3d/lib/python3.10/site-packages/lightning/pytorch/utilities/data.py:78: UserWarning:\n",
       "\n",
       "Trying to infer the `batch_size` from an ambiguous collection. The batch size we found is 6613. To avoid any \n",
       "miscalculations, use `self.log(..., batch_size=batch_size)`.\n",
       "\n"
      ]
     },
     "metadata": {},
     "output_type": "display_data"
    },
    {
     "data": {
      "text/html": [
       "<pre style=\"white-space:pre;overflow-x:auto;line-height:normal;font-family:Menlo,'DejaVu Sans Mono',consolas,'Courier New',monospace\">/home/zhang/miniconda3/envs/3d/lib/python3.10/site-packages/lightning/pytorch/utilities/data.py:78: UserWarning:\n",
       "\n",
       "Trying to infer the `batch_size` from an ambiguous collection. The batch size we found is 4839. To avoid any \n",
       "miscalculations, use `self.log(..., batch_size=batch_size)`.\n",
       "\n",
       "</pre>\n"
      ],
      "text/plain": [
       "/home/zhang/miniconda3/envs/3d/lib/python3.10/site-packages/lightning/pytorch/utilities/data.py:78: UserWarning:\n",
       "\n",
       "Trying to infer the `batch_size` from an ambiguous collection. The batch size we found is 4839. To avoid any \n",
       "miscalculations, use `self.log(..., batch_size=batch_size)`.\n",
       "\n"
      ]
     },
     "metadata": {},
     "output_type": "display_data"
    },
    {
     "data": {
      "text/html": [
       "<pre style=\"white-space:pre;overflow-x:auto;line-height:normal;font-family:Menlo,'DejaVu Sans Mono',consolas,'Courier New',monospace\">/home/zhang/miniconda3/envs/3d/lib/python3.10/site-packages/lightning/pytorch/utilities/data.py:78: UserWarning:\n",
       "\n",
       "Trying to infer the `batch_size` from an ambiguous collection. The batch size we found is 5158. To avoid any \n",
       "miscalculations, use `self.log(..., batch_size=batch_size)`.\n",
       "\n",
       "</pre>\n"
      ],
      "text/plain": [
       "/home/zhang/miniconda3/envs/3d/lib/python3.10/site-packages/lightning/pytorch/utilities/data.py:78: UserWarning:\n",
       "\n",
       "Trying to infer the `batch_size` from an ambiguous collection. The batch size we found is 5158. To avoid any \n",
       "miscalculations, use `self.log(..., batch_size=batch_size)`.\n",
       "\n"
      ]
     },
     "metadata": {},
     "output_type": "display_data"
    },
    {
     "data": {
      "text/html": [
       "<pre style=\"white-space:pre;overflow-x:auto;line-height:normal;font-family:Menlo,'DejaVu Sans Mono',consolas,'Courier New',monospace\">/home/zhang/miniconda3/envs/3d/lib/python3.10/site-packages/lightning/pytorch/utilities/data.py:78: UserWarning:\n",
       "\n",
       "Trying to infer the `batch_size` from an ambiguous collection. The batch size we found is 4688. To avoid any \n",
       "miscalculations, use `self.log(..., batch_size=batch_size)`.\n",
       "\n",
       "</pre>\n"
      ],
      "text/plain": [
       "/home/zhang/miniconda3/envs/3d/lib/python3.10/site-packages/lightning/pytorch/utilities/data.py:78: UserWarning:\n",
       "\n",
       "Trying to infer the `batch_size` from an ambiguous collection. The batch size we found is 4688. To avoid any \n",
       "miscalculations, use `self.log(..., batch_size=batch_size)`.\n",
       "\n"
      ]
     },
     "metadata": {},
     "output_type": "display_data"
    },
    {
     "data": {
      "text/html": [
       "<pre style=\"white-space:pre;overflow-x:auto;line-height:normal;font-family:Menlo,'DejaVu Sans Mono',consolas,'Courier New',monospace\">/home/zhang/miniconda3/envs/3d/lib/python3.10/site-packages/lightning/pytorch/utilities/data.py:78: UserWarning:\n",
       "\n",
       "Trying to infer the `batch_size` from an ambiguous collection. The batch size we found is 3917. To avoid any \n",
       "miscalculations, use `self.log(..., batch_size=batch_size)`.\n",
       "\n",
       "</pre>\n"
      ],
      "text/plain": [
       "/home/zhang/miniconda3/envs/3d/lib/python3.10/site-packages/lightning/pytorch/utilities/data.py:78: UserWarning:\n",
       "\n",
       "Trying to infer the `batch_size` from an ambiguous collection. The batch size we found is 3917. To avoid any \n",
       "miscalculations, use `self.log(..., batch_size=batch_size)`.\n",
       "\n"
      ]
     },
     "metadata": {},
     "output_type": "display_data"
    },
    {
     "data": {
      "text/html": [
       "<pre style=\"white-space:pre;overflow-x:auto;line-height:normal;font-family:Menlo,'DejaVu Sans Mono',consolas,'Courier New',monospace\">/home/zhang/miniconda3/envs/3d/lib/python3.10/site-packages/lightning/pytorch/utilities/data.py:78: UserWarning:\n",
       "\n",
       "Trying to infer the `batch_size` from an ambiguous collection. The batch size we found is 5558. To avoid any \n",
       "miscalculations, use `self.log(..., batch_size=batch_size)`.\n",
       "\n",
       "</pre>\n"
      ],
      "text/plain": [
       "/home/zhang/miniconda3/envs/3d/lib/python3.10/site-packages/lightning/pytorch/utilities/data.py:78: UserWarning:\n",
       "\n",
       "Trying to infer the `batch_size` from an ambiguous collection. The batch size we found is 5558. To avoid any \n",
       "miscalculations, use `self.log(..., batch_size=batch_size)`.\n",
       "\n"
      ]
     },
     "metadata": {},
     "output_type": "display_data"
    },
    {
     "data": {
      "text/html": [
       "<pre style=\"white-space:pre;overflow-x:auto;line-height:normal;font-family:Menlo,'DejaVu Sans Mono',consolas,'Courier New',monospace\">/home/zhang/miniconda3/envs/3d/lib/python3.10/site-packages/lightning/pytorch/utilities/data.py:78: UserWarning:\n",
       "\n",
       "Trying to infer the `batch_size` from an ambiguous collection. The batch size we found is 6438. To avoid any \n",
       "miscalculations, use `self.log(..., batch_size=batch_size)`.\n",
       "\n",
       "</pre>\n"
      ],
      "text/plain": [
       "/home/zhang/miniconda3/envs/3d/lib/python3.10/site-packages/lightning/pytorch/utilities/data.py:78: UserWarning:\n",
       "\n",
       "Trying to infer the `batch_size` from an ambiguous collection. The batch size we found is 6438. To avoid any \n",
       "miscalculations, use `self.log(..., batch_size=batch_size)`.\n",
       "\n"
      ]
     },
     "metadata": {},
     "output_type": "display_data"
    },
    {
     "data": {
      "text/html": [
       "<pre style=\"white-space:pre;overflow-x:auto;line-height:normal;font-family:Menlo,'DejaVu Sans Mono',consolas,'Courier New',monospace\">/home/zhang/miniconda3/envs/3d/lib/python3.10/site-packages/lightning/pytorch/utilities/data.py:78: UserWarning:\n",
       "\n",
       "Trying to infer the `batch_size` from an ambiguous collection. The batch size we found is 7553. To avoid any \n",
       "miscalculations, use `self.log(..., batch_size=batch_size)`.\n",
       "\n",
       "</pre>\n"
      ],
      "text/plain": [
       "/home/zhang/miniconda3/envs/3d/lib/python3.10/site-packages/lightning/pytorch/utilities/data.py:78: UserWarning:\n",
       "\n",
       "Trying to infer the `batch_size` from an ambiguous collection. The batch size we found is 7553. To avoid any \n",
       "miscalculations, use `self.log(..., batch_size=batch_size)`.\n",
       "\n"
      ]
     },
     "metadata": {},
     "output_type": "display_data"
    },
    {
     "data": {
      "text/html": [
       "<pre style=\"white-space:pre;overflow-x:auto;line-height:normal;font-family:Menlo,'DejaVu Sans Mono',consolas,'Courier New',monospace\">/home/zhang/miniconda3/envs/3d/lib/python3.10/site-packages/lightning/pytorch/utilities/data.py:78: UserWarning:\n",
       "\n",
       "Trying to infer the `batch_size` from an ambiguous collection. The batch size we found is 9687. To avoid any \n",
       "miscalculations, use `self.log(..., batch_size=batch_size)`.\n",
       "\n",
       "</pre>\n"
      ],
      "text/plain": [
       "/home/zhang/miniconda3/envs/3d/lib/python3.10/site-packages/lightning/pytorch/utilities/data.py:78: UserWarning:\n",
       "\n",
       "Trying to infer the `batch_size` from an ambiguous collection. The batch size we found is 9687. To avoid any \n",
       "miscalculations, use `self.log(..., batch_size=batch_size)`.\n",
       "\n"
      ]
     },
     "metadata": {},
     "output_type": "display_data"
    },
    {
     "data": {
      "text/html": [
       "<pre style=\"white-space:pre;overflow-x:auto;line-height:normal;font-family:Menlo,'DejaVu Sans Mono',consolas,'Courier New',monospace\">/home/zhang/miniconda3/envs/3d/lib/python3.10/site-packages/lightning/pytorch/utilities/data.py:78: UserWarning:\n",
       "\n",
       "Trying to infer the `batch_size` from an ambiguous collection. The batch size we found is 6315. To avoid any \n",
       "miscalculations, use `self.log(..., batch_size=batch_size)`.\n",
       "\n",
       "</pre>\n"
      ],
      "text/plain": [
       "/home/zhang/miniconda3/envs/3d/lib/python3.10/site-packages/lightning/pytorch/utilities/data.py:78: UserWarning:\n",
       "\n",
       "Trying to infer the `batch_size` from an ambiguous collection. The batch size we found is 6315. To avoid any \n",
       "miscalculations, use `self.log(..., batch_size=batch_size)`.\n",
       "\n"
      ]
     },
     "metadata": {},
     "output_type": "display_data"
    },
    {
     "data": {
      "text/html": [
       "<pre style=\"white-space:pre;overflow-x:auto;line-height:normal;font-family:Menlo,'DejaVu Sans Mono',consolas,'Courier New',monospace\">/home/zhang/miniconda3/envs/3d/lib/python3.10/site-packages/lightning/pytorch/utilities/data.py:78: UserWarning:\n",
       "\n",
       "Trying to infer the `batch_size` from an ambiguous collection. The batch size we found is 6054. To avoid any \n",
       "miscalculations, use `self.log(..., batch_size=batch_size)`.\n",
       "\n",
       "</pre>\n"
      ],
      "text/plain": [
       "/home/zhang/miniconda3/envs/3d/lib/python3.10/site-packages/lightning/pytorch/utilities/data.py:78: UserWarning:\n",
       "\n",
       "Trying to infer the `batch_size` from an ambiguous collection. The batch size we found is 6054. To avoid any \n",
       "miscalculations, use `self.log(..., batch_size=batch_size)`.\n",
       "\n"
      ]
     },
     "metadata": {},
     "output_type": "display_data"
    },
    {
     "data": {
      "text/html": [
       "<pre style=\"white-space:pre;overflow-x:auto;line-height:normal;font-family:Menlo,'DejaVu Sans Mono',consolas,'Courier New',monospace\">/home/zhang/miniconda3/envs/3d/lib/python3.10/site-packages/lightning/pytorch/utilities/data.py:78: UserWarning:\n",
       "\n",
       "Trying to infer the `batch_size` from an ambiguous collection. The batch size we found is 7259. To avoid any \n",
       "miscalculations, use `self.log(..., batch_size=batch_size)`.\n",
       "\n",
       "</pre>\n"
      ],
      "text/plain": [
       "/home/zhang/miniconda3/envs/3d/lib/python3.10/site-packages/lightning/pytorch/utilities/data.py:78: UserWarning:\n",
       "\n",
       "Trying to infer the `batch_size` from an ambiguous collection. The batch size we found is 7259. To avoid any \n",
       "miscalculations, use `self.log(..., batch_size=batch_size)`.\n",
       "\n"
      ]
     },
     "metadata": {},
     "output_type": "display_data"
    },
    {
     "data": {
      "text/html": [
       "<pre style=\"white-space:pre;overflow-x:auto;line-height:normal;font-family:Menlo,'DejaVu Sans Mono',consolas,'Courier New',monospace\">/home/zhang/miniconda3/envs/3d/lib/python3.10/site-packages/lightning/pytorch/utilities/data.py:78: UserWarning:\n",
       "\n",
       "Trying to infer the `batch_size` from an ambiguous collection. The batch size we found is 6959. To avoid any \n",
       "miscalculations, use `self.log(..., batch_size=batch_size)`.\n",
       "\n",
       "</pre>\n"
      ],
      "text/plain": [
       "/home/zhang/miniconda3/envs/3d/lib/python3.10/site-packages/lightning/pytorch/utilities/data.py:78: UserWarning:\n",
       "\n",
       "Trying to infer the `batch_size` from an ambiguous collection. The batch size we found is 6959. To avoid any \n",
       "miscalculations, use `self.log(..., batch_size=batch_size)`.\n",
       "\n"
      ]
     },
     "metadata": {},
     "output_type": "display_data"
    },
    {
     "data": {
      "text/html": [
       "<pre style=\"white-space:pre;overflow-x:auto;line-height:normal;font-family:Menlo,'DejaVu Sans Mono',consolas,'Courier New',monospace\">/home/zhang/miniconda3/envs/3d/lib/python3.10/site-packages/lightning/pytorch/utilities/data.py:78: UserWarning:\n",
       "\n",
       "Trying to infer the `batch_size` from an ambiguous collection. The batch size we found is 5540. To avoid any \n",
       "miscalculations, use `self.log(..., batch_size=batch_size)`.\n",
       "\n",
       "</pre>\n"
      ],
      "text/plain": [
       "/home/zhang/miniconda3/envs/3d/lib/python3.10/site-packages/lightning/pytorch/utilities/data.py:78: UserWarning:\n",
       "\n",
       "Trying to infer the `batch_size` from an ambiguous collection. The batch size we found is 5540. To avoid any \n",
       "miscalculations, use `self.log(..., batch_size=batch_size)`.\n",
       "\n"
      ]
     },
     "metadata": {},
     "output_type": "display_data"
    },
    {
     "data": {
      "text/html": [
       "<pre style=\"white-space:pre;overflow-x:auto;line-height:normal;font-family:Menlo,'DejaVu Sans Mono',consolas,'Courier New',monospace\">/home/zhang/miniconda3/envs/3d/lib/python3.10/site-packages/lightning/pytorch/utilities/data.py:78: UserWarning:\n",
       "\n",
       "Trying to infer the `batch_size` from an ambiguous collection. The batch size we found is 7708. To avoid any \n",
       "miscalculations, use `self.log(..., batch_size=batch_size)`.\n",
       "\n",
       "</pre>\n"
      ],
      "text/plain": [
       "/home/zhang/miniconda3/envs/3d/lib/python3.10/site-packages/lightning/pytorch/utilities/data.py:78: UserWarning:\n",
       "\n",
       "Trying to infer the `batch_size` from an ambiguous collection. The batch size we found is 7708. To avoid any \n",
       "miscalculations, use `self.log(..., batch_size=batch_size)`.\n",
       "\n"
      ]
     },
     "metadata": {},
     "output_type": "display_data"
    },
    {
     "data": {
      "text/html": [
       "<pre style=\"white-space:pre;overflow-x:auto;line-height:normal;font-family:Menlo,'DejaVu Sans Mono',consolas,'Courier New',monospace\">/home/zhang/miniconda3/envs/3d/lib/python3.10/site-packages/lightning/pytorch/utilities/data.py:78: UserWarning:\n",
       "\n",
       "Trying to infer the `batch_size` from an ambiguous collection. The batch size we found is 8667. To avoid any \n",
       "miscalculations, use `self.log(..., batch_size=batch_size)`.\n",
       "\n",
       "</pre>\n"
      ],
      "text/plain": [
       "/home/zhang/miniconda3/envs/3d/lib/python3.10/site-packages/lightning/pytorch/utilities/data.py:78: UserWarning:\n",
       "\n",
       "Trying to infer the `batch_size` from an ambiguous collection. The batch size we found is 8667. To avoid any \n",
       "miscalculations, use `self.log(..., batch_size=batch_size)`.\n",
       "\n"
      ]
     },
     "metadata": {},
     "output_type": "display_data"
    },
    {
     "data": {
      "text/html": [
       "<pre style=\"white-space:pre;overflow-x:auto;line-height:normal;font-family:Menlo,'DejaVu Sans Mono',consolas,'Courier New',monospace\">/home/zhang/miniconda3/envs/3d/lib/python3.10/site-packages/lightning/pytorch/utilities/data.py:78: UserWarning:\n",
       "\n",
       "Trying to infer the `batch_size` from an ambiguous collection. The batch size we found is 8445. To avoid any \n",
       "miscalculations, use `self.log(..., batch_size=batch_size)`.\n",
       "\n",
       "</pre>\n"
      ],
      "text/plain": [
       "/home/zhang/miniconda3/envs/3d/lib/python3.10/site-packages/lightning/pytorch/utilities/data.py:78: UserWarning:\n",
       "\n",
       "Trying to infer the `batch_size` from an ambiguous collection. The batch size we found is 8445. To avoid any \n",
       "miscalculations, use `self.log(..., batch_size=batch_size)`.\n",
       "\n"
      ]
     },
     "metadata": {},
     "output_type": "display_data"
    },
    {
     "data": {
      "text/html": [
       "<pre style=\"white-space:pre;overflow-x:auto;line-height:normal;font-family:Menlo,'DejaVu Sans Mono',consolas,'Courier New',monospace\">/home/zhang/miniconda3/envs/3d/lib/python3.10/site-packages/lightning/pytorch/utilities/data.py:78: UserWarning:\n",
       "\n",
       "Trying to infer the `batch_size` from an ambiguous collection. The batch size we found is 11088. To avoid any \n",
       "miscalculations, use `self.log(..., batch_size=batch_size)`.\n",
       "\n",
       "</pre>\n"
      ],
      "text/plain": [
       "/home/zhang/miniconda3/envs/3d/lib/python3.10/site-packages/lightning/pytorch/utilities/data.py:78: UserWarning:\n",
       "\n",
       "Trying to infer the `batch_size` from an ambiguous collection. The batch size we found is 11088. To avoid any \n",
       "miscalculations, use `self.log(..., batch_size=batch_size)`.\n",
       "\n"
      ]
     },
     "metadata": {},
     "output_type": "display_data"
    },
    {
     "data": {
      "text/html": [
       "<pre style=\"white-space:pre;overflow-x:auto;line-height:normal;font-family:Menlo,'DejaVu Sans Mono',consolas,'Courier New',monospace\">/home/zhang/miniconda3/envs/3d/lib/python3.10/site-packages/lightning/pytorch/utilities/data.py:78: UserWarning:\n",
       "\n",
       "Trying to infer the `batch_size` from an ambiguous collection. The batch size we found is 6321. To avoid any \n",
       "miscalculations, use `self.log(..., batch_size=batch_size)`.\n",
       "\n",
       "</pre>\n"
      ],
      "text/plain": [
       "/home/zhang/miniconda3/envs/3d/lib/python3.10/site-packages/lightning/pytorch/utilities/data.py:78: UserWarning:\n",
       "\n",
       "Trying to infer the `batch_size` from an ambiguous collection. The batch size we found is 6321. To avoid any \n",
       "miscalculations, use `self.log(..., batch_size=batch_size)`.\n",
       "\n"
      ]
     },
     "metadata": {},
     "output_type": "display_data"
    },
    {
     "data": {
      "text/html": [
       "<pre style=\"white-space:pre;overflow-x:auto;line-height:normal;font-family:Menlo,'DejaVu Sans Mono',consolas,'Courier New',monospace\">/home/zhang/miniconda3/envs/3d/lib/python3.10/site-packages/lightning/pytorch/utilities/data.py:78: UserWarning:\n",
       "\n",
       "Trying to infer the `batch_size` from an ambiguous collection. The batch size we found is 4995. To avoid any \n",
       "miscalculations, use `self.log(..., batch_size=batch_size)`.\n",
       "\n",
       "</pre>\n"
      ],
      "text/plain": [
       "/home/zhang/miniconda3/envs/3d/lib/python3.10/site-packages/lightning/pytorch/utilities/data.py:78: UserWarning:\n",
       "\n",
       "Trying to infer the `batch_size` from an ambiguous collection. The batch size we found is 4995. To avoid any \n",
       "miscalculations, use `self.log(..., batch_size=batch_size)`.\n",
       "\n"
      ]
     },
     "metadata": {},
     "output_type": "display_data"
    },
    {
     "data": {
      "text/html": [
       "<pre style=\"white-space:pre;overflow-x:auto;line-height:normal;font-family:Menlo,'DejaVu Sans Mono',consolas,'Courier New',monospace\">/home/zhang/miniconda3/envs/3d/lib/python3.10/site-packages/lightning/pytorch/utilities/data.py:78: UserWarning:\n",
       "\n",
       "Trying to infer the `batch_size` from an ambiguous collection. The batch size we found is 5907. To avoid any \n",
       "miscalculations, use `self.log(..., batch_size=batch_size)`.\n",
       "\n",
       "</pre>\n"
      ],
      "text/plain": [
       "/home/zhang/miniconda3/envs/3d/lib/python3.10/site-packages/lightning/pytorch/utilities/data.py:78: UserWarning:\n",
       "\n",
       "Trying to infer the `batch_size` from an ambiguous collection. The batch size we found is 5907. To avoid any \n",
       "miscalculations, use `self.log(..., batch_size=batch_size)`.\n",
       "\n"
      ]
     },
     "metadata": {},
     "output_type": "display_data"
    },
    {
     "data": {
      "text/html": [
       "<pre style=\"white-space:pre;overflow-x:auto;line-height:normal;font-family:Menlo,'DejaVu Sans Mono',consolas,'Courier New',monospace\">/home/zhang/miniconda3/envs/3d/lib/python3.10/site-packages/lightning/pytorch/utilities/data.py:78: UserWarning:\n",
       "\n",
       "Trying to infer the `batch_size` from an ambiguous collection. The batch size we found is 7441. To avoid any \n",
       "miscalculations, use `self.log(..., batch_size=batch_size)`.\n",
       "\n",
       "</pre>\n"
      ],
      "text/plain": [
       "/home/zhang/miniconda3/envs/3d/lib/python3.10/site-packages/lightning/pytorch/utilities/data.py:78: UserWarning:\n",
       "\n",
       "Trying to infer the `batch_size` from an ambiguous collection. The batch size we found is 7441. To avoid any \n",
       "miscalculations, use `self.log(..., batch_size=batch_size)`.\n",
       "\n"
      ]
     },
     "metadata": {},
     "output_type": "display_data"
    },
    {
     "data": {
      "text/html": [
       "<pre style=\"white-space:pre;overflow-x:auto;line-height:normal;font-family:Menlo,'DejaVu Sans Mono',consolas,'Courier New',monospace\">/home/zhang/miniconda3/envs/3d/lib/python3.10/site-packages/lightning/pytorch/utilities/data.py:78: UserWarning:\n",
       "\n",
       "Trying to infer the `batch_size` from an ambiguous collection. The batch size we found is 7265. To avoid any \n",
       "miscalculations, use `self.log(..., batch_size=batch_size)`.\n",
       "\n",
       "</pre>\n"
      ],
      "text/plain": [
       "/home/zhang/miniconda3/envs/3d/lib/python3.10/site-packages/lightning/pytorch/utilities/data.py:78: UserWarning:\n",
       "\n",
       "Trying to infer the `batch_size` from an ambiguous collection. The batch size we found is 7265. To avoid any \n",
       "miscalculations, use `self.log(..., batch_size=batch_size)`.\n",
       "\n"
      ]
     },
     "metadata": {},
     "output_type": "display_data"
    },
    {
     "data": {
      "text/html": [
       "<pre style=\"white-space:pre;overflow-x:auto;line-height:normal;font-family:Menlo,'DejaVu Sans Mono',consolas,'Courier New',monospace\">/home/zhang/miniconda3/envs/3d/lib/python3.10/site-packages/lightning/pytorch/utilities/data.py:78: UserWarning:\n",
       "\n",
       "Trying to infer the `batch_size` from an ambiguous collection. The batch size we found is 4729. To avoid any \n",
       "miscalculations, use `self.log(..., batch_size=batch_size)`.\n",
       "\n",
       "</pre>\n"
      ],
      "text/plain": [
       "/home/zhang/miniconda3/envs/3d/lib/python3.10/site-packages/lightning/pytorch/utilities/data.py:78: UserWarning:\n",
       "\n",
       "Trying to infer the `batch_size` from an ambiguous collection. The batch size we found is 4729. To avoid any \n",
       "miscalculations, use `self.log(..., batch_size=batch_size)`.\n",
       "\n"
      ]
     },
     "metadata": {},
     "output_type": "display_data"
    },
    {
     "data": {
      "text/html": [
       "<pre style=\"white-space:pre;overflow-x:auto;line-height:normal;font-family:Menlo,'DejaVu Sans Mono',consolas,'Courier New',monospace\">/home/zhang/miniconda3/envs/3d/lib/python3.10/site-packages/lightning/pytorch/utilities/data.py:78: UserWarning:\n",
       "\n",
       "Trying to infer the `batch_size` from an ambiguous collection. The batch size we found is 4738. To avoid any \n",
       "miscalculations, use `self.log(..., batch_size=batch_size)`.\n",
       "\n",
       "</pre>\n"
      ],
      "text/plain": [
       "/home/zhang/miniconda3/envs/3d/lib/python3.10/site-packages/lightning/pytorch/utilities/data.py:78: UserWarning:\n",
       "\n",
       "Trying to infer the `batch_size` from an ambiguous collection. The batch size we found is 4738. To avoid any \n",
       "miscalculations, use `self.log(..., batch_size=batch_size)`.\n",
       "\n"
      ]
     },
     "metadata": {},
     "output_type": "display_data"
    },
    {
     "data": {
      "text/html": [
       "<pre style=\"white-space:pre;overflow-x:auto;line-height:normal;font-family:Menlo,'DejaVu Sans Mono',consolas,'Courier New',monospace\">/home/zhang/miniconda3/envs/3d/lib/python3.10/site-packages/lightning/pytorch/utilities/data.py:78: UserWarning:\n",
       "\n",
       "Trying to infer the `batch_size` from an ambiguous collection. The batch size we found is 4559. To avoid any \n",
       "miscalculations, use `self.log(..., batch_size=batch_size)`.\n",
       "\n",
       "</pre>\n"
      ],
      "text/plain": [
       "/home/zhang/miniconda3/envs/3d/lib/python3.10/site-packages/lightning/pytorch/utilities/data.py:78: UserWarning:\n",
       "\n",
       "Trying to infer the `batch_size` from an ambiguous collection. The batch size we found is 4559. To avoid any \n",
       "miscalculations, use `self.log(..., batch_size=batch_size)`.\n",
       "\n"
      ]
     },
     "metadata": {},
     "output_type": "display_data"
    },
    {
     "data": {
      "text/html": [
       "<pre style=\"white-space:pre;overflow-x:auto;line-height:normal;font-family:Menlo,'DejaVu Sans Mono',consolas,'Courier New',monospace\">/home/zhang/miniconda3/envs/3d/lib/python3.10/site-packages/lightning/pytorch/utilities/data.py:78: UserWarning:\n",
       "\n",
       "Trying to infer the `batch_size` from an ambiguous collection. The batch size we found is 3324. To avoid any \n",
       "miscalculations, use `self.log(..., batch_size=batch_size)`.\n",
       "\n",
       "</pre>\n"
      ],
      "text/plain": [
       "/home/zhang/miniconda3/envs/3d/lib/python3.10/site-packages/lightning/pytorch/utilities/data.py:78: UserWarning:\n",
       "\n",
       "Trying to infer the `batch_size` from an ambiguous collection. The batch size we found is 3324. To avoid any \n",
       "miscalculations, use `self.log(..., batch_size=batch_size)`.\n",
       "\n"
      ]
     },
     "metadata": {},
     "output_type": "display_data"
    },
    {
     "data": {
      "text/html": [
       "<pre style=\"white-space:pre;overflow-x:auto;line-height:normal;font-family:Menlo,'DejaVu Sans Mono',consolas,'Courier New',monospace\">/home/zhang/miniconda3/envs/3d/lib/python3.10/site-packages/lightning/pytorch/utilities/data.py:78: UserWarning:\n",
       "\n",
       "Trying to infer the `batch_size` from an ambiguous collection. The batch size we found is 4523. To avoid any \n",
       "miscalculations, use `self.log(..., batch_size=batch_size)`.\n",
       "\n",
       "</pre>\n"
      ],
      "text/plain": [
       "/home/zhang/miniconda3/envs/3d/lib/python3.10/site-packages/lightning/pytorch/utilities/data.py:78: UserWarning:\n",
       "\n",
       "Trying to infer the `batch_size` from an ambiguous collection. The batch size we found is 4523. To avoid any \n",
       "miscalculations, use `self.log(..., batch_size=batch_size)`.\n",
       "\n"
      ]
     },
     "metadata": {},
     "output_type": "display_data"
    },
    {
     "data": {
      "text/html": [
       "<pre style=\"white-space:pre;overflow-x:auto;line-height:normal;font-family:Menlo,'DejaVu Sans Mono',consolas,'Courier New',monospace\">/home/zhang/miniconda3/envs/3d/lib/python3.10/site-packages/lightning/pytorch/utilities/data.py:78: UserWarning:\n",
       "\n",
       "Trying to infer the `batch_size` from an ambiguous collection. The batch size we found is 11093. To avoid any \n",
       "miscalculations, use `self.log(..., batch_size=batch_size)`.\n",
       "\n",
       "</pre>\n"
      ],
      "text/plain": [
       "/home/zhang/miniconda3/envs/3d/lib/python3.10/site-packages/lightning/pytorch/utilities/data.py:78: UserWarning:\n",
       "\n",
       "Trying to infer the `batch_size` from an ambiguous collection. The batch size we found is 11093. To avoid any \n",
       "miscalculations, use `self.log(..., batch_size=batch_size)`.\n",
       "\n"
      ]
     },
     "metadata": {},
     "output_type": "display_data"
    },
    {
     "data": {
      "text/html": [
       "<pre style=\"white-space:pre;overflow-x:auto;line-height:normal;font-family:Menlo,'DejaVu Sans Mono',consolas,'Courier New',monospace\">/home/zhang/miniconda3/envs/3d/lib/python3.10/site-packages/lightning/pytorch/utilities/data.py:78: UserWarning:\n",
       "\n",
       "Trying to infer the `batch_size` from an ambiguous collection. The batch size we found is 7611. To avoid any \n",
       "miscalculations, use `self.log(..., batch_size=batch_size)`.\n",
       "\n",
       "</pre>\n"
      ],
      "text/plain": [
       "/home/zhang/miniconda3/envs/3d/lib/python3.10/site-packages/lightning/pytorch/utilities/data.py:78: UserWarning:\n",
       "\n",
       "Trying to infer the `batch_size` from an ambiguous collection. The batch size we found is 7611. To avoid any \n",
       "miscalculations, use `self.log(..., batch_size=batch_size)`.\n",
       "\n"
      ]
     },
     "metadata": {},
     "output_type": "display_data"
    },
    {
     "data": {
      "text/html": [
       "<pre style=\"white-space:pre;overflow-x:auto;line-height:normal;font-family:Menlo,'DejaVu Sans Mono',consolas,'Courier New',monospace\">/home/zhang/miniconda3/envs/3d/lib/python3.10/site-packages/lightning/pytorch/utilities/data.py:78: UserWarning:\n",
       "\n",
       "Trying to infer the `batch_size` from an ambiguous collection. The batch size we found is 1608. To avoid any \n",
       "miscalculations, use `self.log(..., batch_size=batch_size)`.\n",
       "\n",
       "</pre>\n"
      ],
      "text/plain": [
       "/home/zhang/miniconda3/envs/3d/lib/python3.10/site-packages/lightning/pytorch/utilities/data.py:78: UserWarning:\n",
       "\n",
       "Trying to infer the `batch_size` from an ambiguous collection. The batch size we found is 1608. To avoid any \n",
       "miscalculations, use `self.log(..., batch_size=batch_size)`.\n",
       "\n"
      ]
     },
     "metadata": {},
     "output_type": "display_data"
    },
    {
     "data": {
      "text/html": [
       "<pre style=\"white-space:pre;overflow-x:auto;line-height:normal;font-family:Menlo,'DejaVu Sans Mono',consolas,'Courier New',monospace\">/home/zhang/miniconda3/envs/3d/lib/python3.10/site-packages/lightning/pytorch/utilities/data.py:78: UserWarning:\n",
       "\n",
       "Trying to infer the `batch_size` from an ambiguous collection. The batch size we found is 2552. To avoid any \n",
       "miscalculations, use `self.log(..., batch_size=batch_size)`.\n",
       "\n",
       "</pre>\n"
      ],
      "text/plain": [
       "/home/zhang/miniconda3/envs/3d/lib/python3.10/site-packages/lightning/pytorch/utilities/data.py:78: UserWarning:\n",
       "\n",
       "Trying to infer the `batch_size` from an ambiguous collection. The batch size we found is 2552. To avoid any \n",
       "miscalculations, use `self.log(..., batch_size=batch_size)`.\n",
       "\n"
      ]
     },
     "metadata": {},
     "output_type": "display_data"
    },
    {
     "data": {
      "text/html": [
       "<pre style=\"white-space:pre;overflow-x:auto;line-height:normal;font-family:Menlo,'DejaVu Sans Mono',consolas,'Courier New',monospace\">/home/zhang/miniconda3/envs/3d/lib/python3.10/site-packages/lightning/pytorch/utilities/data.py:78: UserWarning:\n",
       "\n",
       "Trying to infer the `batch_size` from an ambiguous collection. The batch size we found is 300. To avoid any \n",
       "miscalculations, use `self.log(..., batch_size=batch_size)`.\n",
       "\n",
       "</pre>\n"
      ],
      "text/plain": [
       "/home/zhang/miniconda3/envs/3d/lib/python3.10/site-packages/lightning/pytorch/utilities/data.py:78: UserWarning:\n",
       "\n",
       "Trying to infer the `batch_size` from an ambiguous collection. The batch size we found is 300. To avoid any \n",
       "miscalculations, use `self.log(..., batch_size=batch_size)`.\n",
       "\n"
      ]
     },
     "metadata": {},
     "output_type": "display_data"
    },
    {
     "data": {
      "text/html": [
       "<pre style=\"white-space:pre;overflow-x:auto;line-height:normal;font-family:Menlo,'DejaVu Sans Mono',consolas,'Courier New',monospace\">┏━━━━━━━━━━━━━━━━━━━━━━━━━━━┳━━━━━━━━━━━━━━━━━━━━━━━━━━━┓\n",
       "┃<span style=\"font-weight: bold\">        Test metric        </span>┃<span style=\"font-weight: bold\">       DataLoader 0        </span>┃\n",
       "┡━━━━━━━━━━━━━━━━━━━━━━━━━━━╇━━━━━━━━━━━━━━━━━━━━━━━━━━━┩\n",
       "│<span style=\"color: #008080; text-decoration-color: #008080\"> test/graph_label/accuracy </span>│<span style=\"color: #800080; text-decoration-color: #800080\">    0.24271251261234283    </span>│\n",
       "│<span style=\"color: #008080; text-decoration-color: #008080\">  test/graph_label/f1_max  </span>│<span style=\"color: #800080; text-decoration-color: #800080\">    0.2989802360534668     </span>│\n",
       "│<span style=\"color: #008080; text-decoration-color: #008080\"> test/graph_label/f1_score </span>│<span style=\"color: #800080; text-decoration-color: #800080\">    0.0709996372461319     </span>│\n",
       "│<span style=\"color: #008080; text-decoration-color: #008080\">   test/loss/graph_label   </span>│<span style=\"color: #800080; text-decoration-color: #800080\">     14.48537826538086     </span>│\n",
       "│<span style=\"color: #008080; text-decoration-color: #008080\">      test/loss/total      </span>│<span style=\"color: #800080; text-decoration-color: #800080\">     14.48537826538086     </span>│\n",
       "└───────────────────────────┴───────────────────────────┘\n",
       "</pre>\n"
      ],
      "text/plain": [
       "┏━━━━━━━━━━━━━━━━━━━━━━━━━━━┳━━━━━━━━━━━━━━━━━━━━━━━━━━━┓\n",
       "┃\u001b[1m \u001b[0m\u001b[1m       Test metric       \u001b[0m\u001b[1m \u001b[0m┃\u001b[1m \u001b[0m\u001b[1m      DataLoader 0       \u001b[0m\u001b[1m \u001b[0m┃\n",
       "┡━━━━━━━━━━━━━━━━━━━━━━━━━━━╇━━━━━━━━━━━━━━━━━━━━━━━━━━━┩\n",
       "│\u001b[36m \u001b[0m\u001b[36mtest/graph_label/accuracy\u001b[0m\u001b[36m \u001b[0m│\u001b[35m \u001b[0m\u001b[35m   0.24271251261234283   \u001b[0m\u001b[35m \u001b[0m│\n",
       "│\u001b[36m \u001b[0m\u001b[36m test/graph_label/f1_max \u001b[0m\u001b[36m \u001b[0m│\u001b[35m \u001b[0m\u001b[35m   0.2989802360534668    \u001b[0m\u001b[35m \u001b[0m│\n",
       "│\u001b[36m \u001b[0m\u001b[36mtest/graph_label/f1_score\u001b[0m\u001b[36m \u001b[0m│\u001b[35m \u001b[0m\u001b[35m   0.0709996372461319    \u001b[0m\u001b[35m \u001b[0m│\n",
       "│\u001b[36m \u001b[0m\u001b[36m  test/loss/graph_label  \u001b[0m\u001b[36m \u001b[0m│\u001b[35m \u001b[0m\u001b[35m    14.48537826538086    \u001b[0m\u001b[35m \u001b[0m│\n",
       "│\u001b[36m \u001b[0m\u001b[36m     test/loss/total     \u001b[0m\u001b[36m \u001b[0m│\u001b[35m \u001b[0m\u001b[35m    14.48537826538086    \u001b[0m\u001b[35m \u001b[0m│\n",
       "└───────────────────────────┴───────────────────────────┘\n"
      ]
     },
     "metadata": {},
     "output_type": "display_data"
    },
    {
     "data": {
      "text/html": [
       "<pre style=\"white-space:pre;overflow-x:auto;line-height:normal;font-family:Menlo,'DejaVu Sans Mono',consolas,'Courier New',monospace\"></pre>\n"
      ],
      "text/plain": []
     },
     "metadata": {},
     "output_type": "display_data"
    },
    {
     "data": {
      "text/html": [
       "<pre style=\"white-space:pre;overflow-x:auto;line-height:normal;font-family:Menlo,'DejaVu Sans Mono',consolas,'Courier New',monospace\">\n",
       "</pre>\n"
      ],
      "text/plain": [
       "\n"
      ]
     },
     "metadata": {},
     "output_type": "display_data"
    },
    {
     "data": {
      "text/html": [
       "<pre style=\"white-space:pre;overflow-x:auto;line-height:normal;font-family:Menlo,'DejaVu Sans Mono',consolas,'Courier New',monospace\"><span style=\"color: #7fbfbf; text-decoration-color: #7fbfbf\">[07/25/24 17:49:42] </span><span style=\"color: #000080; text-decoration-color: #000080\">INFO    </span> superfamily: <span style=\"font-weight: bold\">{</span><span style=\"color: #008000; text-decoration-color: #008000\">'test/loss/graph_label/superfamily'</span>: <span style=\"color: #008080; text-decoration-color: #008080; font-weight: bold\">14.48537826538086</span>,  <a href=\"file:///home/zhang/Projects/3d/ProteinWorkshop/proteinworkshop/finetune.py\" target=\"_blank\"><span style=\"color: #7f7f7f; text-decoration-color: #7f7f7f\">finetune.py</span></a><span style=\"color: #7f7f7f; text-decoration-color: #7f7f7f\">:</span><a href=\"file:///home/zhang/Projects/3d/ProteinWorkshop/proteinworkshop/finetune.py#220\" target=\"_blank\"><span style=\"color: #7f7f7f; text-decoration-color: #7f7f7f\">220</span></a>\n",
       "<span style=\"color: #7fbfbf; text-decoration-color: #7fbfbf\">                    </span>         <span style=\"color: #008000; text-decoration-color: #008000\">'test/loss/total/superfamily'</span>: <span style=\"color: #008080; text-decoration-color: #008080; font-weight: bold\">14.48537826538086</span>,                      <span style=\"color: #7f7f7f; text-decoration-color: #7f7f7f\">               </span>\n",
       "<span style=\"color: #7fbfbf; text-decoration-color: #7fbfbf\">                    </span>         <span style=\"color: #008000; text-decoration-color: #008000\">'test/graph_label/accuracy/superfamily'</span>: <span style=\"color: #008080; text-decoration-color: #008080; font-weight: bold\">0.24271251261234283</span>,          <span style=\"color: #7f7f7f; text-decoration-color: #7f7f7f\">               </span>\n",
       "<span style=\"color: #7fbfbf; text-decoration-color: #7fbfbf\">                    </span>         <span style=\"color: #008000; text-decoration-color: #008000\">'test/graph_label/f1_score/superfamily'</span>: <span style=\"color: #008080; text-decoration-color: #008080; font-weight: bold\">0.0709996372461319</span>,           <span style=\"color: #7f7f7f; text-decoration-color: #7f7f7f\">               </span>\n",
       "<span style=\"color: #7fbfbf; text-decoration-color: #7fbfbf\">                    </span>         <span style=\"color: #008000; text-decoration-color: #008000\">'test/graph_label/f1_max/superfamily'</span>: <span style=\"color: #008080; text-decoration-color: #008080; font-weight: bold\">0.2989802360534668</span><span style=\"font-weight: bold\">}</span>             <span style=\"color: #7f7f7f; text-decoration-color: #7f7f7f\">               </span>\n",
       "</pre>\n"
      ],
      "text/plain": [
       "\u001b[2;36m[07/25/24 17:49:42]\u001b[0m\u001b[2;36m \u001b[0m\u001b[34mINFO    \u001b[0m superfamily: \u001b[1m{\u001b[0m\u001b[32m'test/loss/graph_label/superfamily'\u001b[0m: \u001b[1;36m14.48537826538086\u001b[0m,  \u001b]8;id=859223;file:///home/zhang/Projects/3d/ProteinWorkshop/proteinworkshop/finetune.py\u001b\\\u001b[2mfinetune.py\u001b[0m\u001b]8;;\u001b\\\u001b[2m:\u001b[0m\u001b]8;id=217120;file:///home/zhang/Projects/3d/ProteinWorkshop/proteinworkshop/finetune.py#220\u001b\\\u001b[2m220\u001b[0m\u001b]8;;\u001b\\\n",
       "\u001b[2;36m                    \u001b[0m         \u001b[32m'test/loss/total/superfamily'\u001b[0m: \u001b[1;36m14.48537826538086\u001b[0m,                      \u001b[2m               \u001b[0m\n",
       "\u001b[2;36m                    \u001b[0m         \u001b[32m'test/graph_label/accuracy/superfamily'\u001b[0m: \u001b[1;36m0.24271251261234283\u001b[0m,          \u001b[2m               \u001b[0m\n",
       "\u001b[2;36m                    \u001b[0m         \u001b[32m'test/graph_label/f1_score/superfamily'\u001b[0m: \u001b[1;36m0.0709996372461319\u001b[0m,           \u001b[2m               \u001b[0m\n",
       "\u001b[2;36m                    \u001b[0m         \u001b[32m'test/graph_label/f1_max/superfamily'\u001b[0m: \u001b[1;36m0.2989802360534668\u001b[0m\u001b[1m}\u001b[0m             \u001b[2m               \u001b[0m\n"
      ]
     },
     "metadata": {},
     "output_type": "display_data"
    }
   ],
   "source": [
    "from proteinworkshop.finetune import train_model\n",
    "\n",
    "train_model(cfg)"
   ]
  },
  {
   "cell_type": "markdown",
   "metadata": {},
   "source": [
    "### 4. Wrapping up\n",
    "\n",
    "Have any additional questions about using the components provided in the `ProteinWorkshop`? [Create a new issue](https://github.com/a-r-j/ProteinWorkshop/issues/new/choose) on our [GitHub repository](https://github.com/a-r-j/ProteinWorkshop). We would be happy to work with you to leverage the full power of the repository!"
   ]
  },
  {
   "cell_type": "markdown",
   "metadata": {},
   "source": [
    "/home/yang/anaconda3/envs/3d/lib/python3.10/site-packages/lightning/pytorch/utilities/data.py"
   ]
  }
 ],
 "metadata": {
  "kernelspec": {
   "display_name": "Python 3",
   "language": "python",
   "name": "python3"
  },
  "language_info": {
   "codemirror_mode": {
    "name": "ipython",
    "version": 3
   },
   "file_extension": ".py",
   "mimetype": "text/x-python",
   "name": "python",
   "nbconvert_exporter": "python",
   "pygments_lexer": "ipython3",
   "version": "3.10.14"
  },
  "orig_nbformat": 4
 },
 "nbformat": 4,
 "nbformat_minor": 2
}
