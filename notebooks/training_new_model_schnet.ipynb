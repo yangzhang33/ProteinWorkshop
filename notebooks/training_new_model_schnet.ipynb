{
 "cells": [
  {
   "cell_type": "markdown",
   "metadata": {},
   "source": [
    "# `ProteinWorkshop` Tutorial, Part 1 - Training a New Model\n",
    "![Models](../docs/source/_static/box_models.png)"
   ]
  },
  {
   "cell_type": "markdown",
   "metadata": {},
   "source": [
    "## Train a new model using the `ProteinWorkshop`"
   ]
  },
  {
   "cell_type": "code",
   "execution_count": 1,
   "metadata": {},
   "outputs": [],
   "source": [
    "%load_ext autoreload\n",
    "%autoreload 2\n",
    "# %load_ext blackcellmagic"
   ]
  },
  {
   "cell_type": "markdown",
   "metadata": {},
   "source": [
    "Welcome to the tutorial series for the `ProteinWorkshop`! \n",
    "\n",
    "In the `ProteinWorkshop`, we implement numerous [featurisation](https://www.proteins.sh/configs/features) schemes, [datasets](https://www.proteins.sh/configs/dataset) for [self-supervised pre-training](https://proteins.sh/quickstart_component/pretrain.html) and [downstream evaluation](https://proteins.sh/quickstart_component/downstream.html), [pre-training](https://proteins.sh/configs/task) tasks, and [auxiliary tasks](https://proteins.sh/configs/task.html#auxiliary-tasks).\n",
    "\n",
    "[Processed datasets](https://drive.google.com/drive/folders/18i8rLST6ZICTBu6Q67ClT0KqN9AHeqoW?usp=sharing) and [pre-trained weights](https://drive.google.com/drive/folders/1zK1r8FpmGaqV_QwUJuvDacwSL0RW-Vw9?usp=sharing) are made available. Downloading datasets is not required; upon first run all datasets will be downloaded and processed from their respective source.\n",
    "\n",
    "The `ProteinWorkshop` encompasses several models as well as pre-trained weights for them so that you can readily use them.\n",
    "\n",
    "In this tutorial, we show you how you can use what is already available in the protein workshop to train and use models for specific tasks. The `ProteinWorkshop` is structured as a very modular package; we will therefore talk about how to change the different parts of it, like the model, training task, dataset, featurization scheme, etc. in this tutorial. \n",
    "\n",
    "Besides using all the different options we provide, you can make use of the modular nature of the `ProteinWorkshop` to add your own models, datasets, featurization schemes, and training tasks. We will show you how to do this in the next tutorials."
   ]
  },
  {
   "cell_type": "markdown",
   "metadata": {},
   "source": [
    "To train a new model, you can follow the following 3-step procedure:\n",
    "\n",
    "1. Choose the parts you want to consider: model, training task, dataset, featurization scheme and auxiliary tasks\n",
    "2. Validate the designed training config\n",
    "3. Use the designed config to train a new model"
   ]
  },
  {
   "cell_type": "markdown",
   "metadata": {},
   "source": [
    "### 1. Choose the parts you want to consider: model, training task, dataset, featurization scheme and auxiliary tasks\n",
    "\n",
    "You can switch out any of these for another available option by replacing the corresponding argument's value in `overrides`:\n",
    "\n",
    "`cfg = hydra.compose(\"template\", overrides=[\"encoder=schnet\", \"task=inverse_folding\", \"dataset=afdb_swissprot_v4\", \"features=ca_base\", \"+aux_task=none\"], return_hydra_config=True)`"
   ]
  },
  {
   "cell_type": "code",
   "execution_count": 2,
   "metadata": {},
   "outputs": [
    {
     "name": "stdout",
     "output_type": "stream",
     "text": [
      "Visible GPUs for PyTorch: 1\n"
     ]
    }
   ],
   "source": [
    "import os\n",
    "\n",
    "# Set the environment variable to make only GPU 0 visible\n",
    "os.environ[\"CUDA_VISIBLE_DEVICES\"] = \"0\"\n",
    "\n",
    "# Now import the necessary librarie\n",
    "import torch\n",
    "# Verify GPUs visible to PyTorch\n",
    "torch_visible_gpus = torch.cuda.device_count()\n",
    "print(\"Visible GPUs for PyTorch:\", torch_visible_gpus)"
   ]
  },
  {
   "cell_type": "code",
   "execution_count": 3,
   "metadata": {},
   "outputs": [
    {
     "data": {
      "text/html": [
       "<pre style=\"white-space:pre;overflow-x:auto;line-height:normal;font-family:Menlo,'DejaVu Sans Mono',consolas,'Courier New',monospace\"><span style=\"color: #7fbfbf; text-decoration-color: #7fbfbf\">[07/30/24 02:23:19] </span><span style=\"color: #008000; text-decoration-color: #008000\">DEBUG   </span> No `.env` file found in project root. Checking for env vars<span style=\"color: #808000; text-decoration-color: #808000\">...</span>         <a href=\"file:///home/zhang/Projects/3d/ProteinWorkshop/proteinworkshop/constants.py\" target=\"_blank\"><span style=\"color: #7f7f7f; text-decoration-color: #7f7f7f\">constants.py</span></a><span style=\"color: #7f7f7f; text-decoration-color: #7f7f7f\">:</span><a href=\"file:///home/zhang/Projects/3d/ProteinWorkshop/proteinworkshop/constants.py#22\" target=\"_blank\"><span style=\"color: #7f7f7f; text-decoration-color: #7f7f7f\">22</span></a>\n",
       "</pre>\n"
      ],
      "text/plain": [
       "\u001b[2;36m[07/30/24 02:23:19]\u001b[0m\u001b[2;36m \u001b[0m\u001b[32mDEBUG   \u001b[0m No `.env` file found in project root. Checking for env vars\u001b[33m...\u001b[0m         \u001b]8;id=375770;file:///home/zhang/Projects/3d/ProteinWorkshop/proteinworkshop/constants.py\u001b\\\u001b[2mconstants.py\u001b[0m\u001b]8;;\u001b\\\u001b[2m:\u001b[0m\u001b]8;id=2729;file:///home/zhang/Projects/3d/ProteinWorkshop/proteinworkshop/constants.py#22\u001b\\\u001b[2m22\u001b[0m\u001b]8;;\u001b\\\n"
      ]
     },
     "metadata": {},
     "output_type": "display_data"
    },
    {
     "data": {
      "text/html": [
       "<pre style=\"white-space:pre;overflow-x:auto;line-height:normal;font-family:Menlo,'DejaVu Sans Mono',consolas,'Courier New',monospace\"><span style=\"color: #7fbfbf; text-decoration-color: #7fbfbf\">                    </span><span style=\"color: #008000; text-decoration-color: #008000\">DEBUG   </span> No env var `DATA_PATH` found. Setting default<span style=\"color: #808000; text-decoration-color: #808000\">...</span>                       <a href=\"file:///home/zhang/Projects/3d/ProteinWorkshop/proteinworkshop/constants.py\" target=\"_blank\"><span style=\"color: #7f7f7f; text-decoration-color: #7f7f7f\">constants.py</span></a><span style=\"color: #7f7f7f; text-decoration-color: #7f7f7f\">:</span><a href=\"file:///home/zhang/Projects/3d/ProteinWorkshop/proteinworkshop/constants.py#28\" target=\"_blank\"><span style=\"color: #7f7f7f; text-decoration-color: #7f7f7f\">28</span></a>\n",
       "</pre>\n"
      ],
      "text/plain": [
       "\u001b[2;36m                   \u001b[0m\u001b[2;36m \u001b[0m\u001b[32mDEBUG   \u001b[0m No env var `DATA_PATH` found. Setting default\u001b[33m...\u001b[0m                       \u001b]8;id=390722;file:///home/zhang/Projects/3d/ProteinWorkshop/proteinworkshop/constants.py\u001b\\\u001b[2mconstants.py\u001b[0m\u001b]8;;\u001b\\\u001b[2m:\u001b[0m\u001b]8;id=17984;file:///home/zhang/Projects/3d/ProteinWorkshop/proteinworkshop/constants.py#28\u001b\\\u001b[2m28\u001b[0m\u001b]8;;\u001b\\\n"
      ]
     },
     "metadata": {},
     "output_type": "display_data"
    },
    {
     "data": {
      "text/html": [
       "<pre style=\"white-space:pre;overflow-x:auto;line-height:normal;font-family:Menlo,'DejaVu Sans Mono',consolas,'Courier New',monospace\"><span style=\"color: #7fbfbf; text-decoration-color: #7fbfbf\">                    </span><span style=\"color: #000080; text-decoration-color: #000080\">INFO    </span> DATA_PATH:                                                             <a href=\"file:///home/zhang/Projects/3d/ProteinWorkshop/proteinworkshop/constants.py\" target=\"_blank\"><span style=\"color: #7f7f7f; text-decoration-color: #7f7f7f\">constants.py</span></a><span style=\"color: #7f7f7f; text-decoration-color: #7f7f7f\">:</span><a href=\"file:///home/zhang/Projects/3d/ProteinWorkshop/proteinworkshop/constants.py#39\" target=\"_blank\"><span style=\"color: #7f7f7f; text-decoration-color: #7f7f7f\">39</span></a>\n",
       "<span style=\"color: #7fbfbf; text-decoration-color: #7fbfbf\">                    </span>         <span style=\"color: #800080; text-decoration-color: #800080\">/home/zhang/Projects/3d/ProteinWorkshop/proteinworkshop/</span><span style=\"color: #ff00ff; text-decoration-color: #ff00ff\">data</span>           <span style=\"color: #7f7f7f; text-decoration-color: #7f7f7f\">               </span>\n",
       "</pre>\n"
      ],
      "text/plain": [
       "\u001b[2;36m                   \u001b[0m\u001b[2;36m \u001b[0m\u001b[34mINFO    \u001b[0m DATA_PATH:                                                             \u001b]8;id=329389;file:///home/zhang/Projects/3d/ProteinWorkshop/proteinworkshop/constants.py\u001b\\\u001b[2mconstants.py\u001b[0m\u001b]8;;\u001b\\\u001b[2m:\u001b[0m\u001b]8;id=29926;file:///home/zhang/Projects/3d/ProteinWorkshop/proteinworkshop/constants.py#39\u001b\\\u001b[2m39\u001b[0m\u001b]8;;\u001b\\\n",
       "\u001b[2;36m                    \u001b[0m         \u001b[35m/home/zhang/Projects/3d/ProteinWorkshop/proteinworkshop/\u001b[0m\u001b[95mdata\u001b[0m           \u001b[2m               \u001b[0m\n"
      ]
     },
     "metadata": {},
     "output_type": "display_data"
    },
    {
     "data": {
      "text/html": [
       "<pre style=\"white-space:pre;overflow-x:auto;line-height:normal;font-family:Menlo,'DejaVu Sans Mono',consolas,'Courier New',monospace\"><span style=\"color: #7fbfbf; text-decoration-color: #7fbfbf\">[07/30/24 02:23:20] </span><span style=\"color: #000080; text-decoration-color: #000080\">INFO    </span> Hydra initialised at                                                    <a href=\"file:///home/zhang/Projects/3d/ProteinWorkshop/proteinworkshop/utils/notebook.py\" target=\"_blank\"><span style=\"color: #7f7f7f; text-decoration-color: #7f7f7f\">notebook.py</span></a><span style=\"color: #7f7f7f; text-decoration-color: #7f7f7f\">:</span><a href=\"file:///home/zhang/Projects/3d/ProteinWorkshop/proteinworkshop/utils/notebook.py#53\" target=\"_blank\"><span style=\"color: #7f7f7f; text-decoration-color: #7f7f7f\">53</span></a>\n",
       "<span style=\"color: #7fbfbf; text-decoration-color: #7fbfbf\">                    </span>         <span style=\"color: #800080; text-decoration-color: #800080\">/home/zhang/Projects/3d/ProteinWorkshop/proteinworkshop/</span><span style=\"color: #ff00ff; text-decoration-color: #ff00ff\">config.</span>         <span style=\"color: #7f7f7f; text-decoration-color: #7f7f7f\">              </span>\n",
       "</pre>\n"
      ],
      "text/plain": [
       "\u001b[2;36m[07/30/24 02:23:20]\u001b[0m\u001b[2;36m \u001b[0m\u001b[34mINFO    \u001b[0m Hydra initialised at                                                    \u001b]8;id=897046;file:///home/zhang/Projects/3d/ProteinWorkshop/proteinworkshop/utils/notebook.py\u001b\\\u001b[2mnotebook.py\u001b[0m\u001b]8;;\u001b\\\u001b[2m:\u001b[0m\u001b]8;id=59396;file:///home/zhang/Projects/3d/ProteinWorkshop/proteinworkshop/utils/notebook.py#53\u001b\\\u001b[2m53\u001b[0m\u001b]8;;\u001b\\\n",
       "\u001b[2;36m                    \u001b[0m         \u001b[35m/home/zhang/Projects/3d/ProteinWorkshop/proteinworkshop/\u001b[0m\u001b[95mconfig.\u001b[0m         \u001b[2m              \u001b[0m\n"
      ]
     },
     "metadata": {},
     "output_type": "display_data"
    },
    {
     "ename": "OverrideParseException",
     "evalue": "mismatched input '=' expecting <EOF>\nSee https://hydra.cc/docs/1.2/advanced/override_grammar/basic for details",
     "output_type": "error",
     "traceback": [
      "\u001b[0;31m---------------------------------------------------------------------------\u001b[0m",
      "\u001b[0;31mOverrideParseException\u001b[0m                    Traceback (most recent call last)",
      "Cell \u001b[0;32mIn[3], line 22\u001b[0m\n\u001b[1;32m     19\u001b[0m GlobalHydra\u001b[38;5;241m.\u001b[39minstance()\u001b[38;5;241m.\u001b[39mclear()\n\u001b[1;32m     20\u001b[0m hydra\u001b[38;5;241m.\u001b[39minitialize(rel_path, version_base\u001b[38;5;241m=\u001b[39mversion_base)\n\u001b[0;32m---> 22\u001b[0m cfg \u001b[38;5;241m=\u001b[39m \u001b[43mhydra\u001b[49m\u001b[38;5;241;43m.\u001b[39;49m\u001b[43mcompose\u001b[49m\u001b[43m(\u001b[49m\n\u001b[1;32m     23\u001b[0m \u001b[43m    \u001b[49m\u001b[43mconfig_name\u001b[49m\u001b[38;5;241;43m=\u001b[39;49m\u001b[38;5;124;43m\"\u001b[39;49m\u001b[38;5;124;43mtrain\u001b[39;49m\u001b[38;5;124;43m\"\u001b[39;49m\u001b[43m,\u001b[49m\n\u001b[1;32m     24\u001b[0m \u001b[43m    \u001b[49m\u001b[43moverrides\u001b[49m\u001b[38;5;241;43m=\u001b[39;49m\u001b[43m[\u001b[49m\n\u001b[1;32m     25\u001b[0m \u001b[43m        \u001b[49m\u001b[38;5;124;43m\"\u001b[39;49m\u001b[38;5;124;43mencoder=schnet\u001b[39;49m\u001b[38;5;124;43m\"\u001b[39;49m\u001b[43m,\u001b[49m\n\u001b[1;32m     26\u001b[0m \u001b[43m        \u001b[49m\u001b[38;5;124;43m\"\u001b[39;49m\u001b[38;5;124;43mencoder.hidden_channels=512\u001b[39;49m\u001b[38;5;124;43m\"\u001b[39;49m\u001b[43m,\u001b[49m\u001b[43m \u001b[49m\u001b[38;5;66;43;03m# Number of channels in the hidden layers\u001b[39;49;00m\n\u001b[1;32m     27\u001b[0m \u001b[43m        \u001b[49m\u001b[38;5;124;43m\"\u001b[39;49m\u001b[38;5;124;43mencoder.out_dim=32\u001b[39;49m\u001b[38;5;124;43m\"\u001b[39;49m\u001b[43m,\u001b[49m\u001b[43m \u001b[49m\u001b[38;5;66;43;03m# Output dimension of the model\u001b[39;49;00m\n\u001b[1;32m     28\u001b[0m \u001b[43m        \u001b[49m\u001b[38;5;124;43m\"\u001b[39;49m\u001b[38;5;124;43mencoder.num_layers=6\u001b[39;49m\u001b[38;5;124;43m\"\u001b[39;49m\u001b[43m,\u001b[49m\u001b[43m \u001b[49m\u001b[38;5;66;43;03m# Number of filters used in convolutional layers\u001b[39;49;00m\n\u001b[1;32m     29\u001b[0m \u001b[43m        \u001b[49m\u001b[38;5;124;43m\"\u001b[39;49m\u001b[38;5;124;43mencoder.num_filters=128\u001b[39;49m\u001b[38;5;124;43m\"\u001b[39;49m\u001b[43m,\u001b[49m\u001b[43m \u001b[49m\u001b[38;5;66;43;03m# Number of convolutional layers in the model\u001b[39;49;00m\n\u001b[1;32m     30\u001b[0m \u001b[43m        \u001b[49m\u001b[38;5;124;43m\"\u001b[39;49m\u001b[38;5;124;43mencoder.num_gaussians=50\u001b[39;49m\u001b[38;5;124;43m\"\u001b[39;49m\u001b[43m,\u001b[49m\u001b[43m \u001b[49m\u001b[38;5;66;43;03m# Number of Gaussian functions used for radial filters\u001b[39;49;00m\n\u001b[1;32m     31\u001b[0m \u001b[43m        \u001b[49m\u001b[38;5;124;43m\"\u001b[39;49m\u001b[38;5;124;43mencoder.cutoff=10.0\u001b[39;49m\u001b[38;5;124;43m\"\u001b[39;49m\u001b[43m,\u001b[49m\u001b[43m \u001b[49m\u001b[38;5;66;43;03m# Cutoff distance for interactions\u001b[39;49;00m\n\u001b[1;32m     32\u001b[0m \u001b[43m        \u001b[49m\u001b[38;5;124;43m\"\u001b[39;49m\u001b[38;5;124;43mencoder.max_num_neighbors=32\u001b[39;49m\u001b[38;5;124;43m\"\u001b[39;49m\u001b[43m,\u001b[49m\u001b[43m \u001b[49m\u001b[38;5;66;43;03m# Maximum number of neighboring atoms to consider\u001b[39;49;00m\n\u001b[1;32m     33\u001b[0m \u001b[43m        \u001b[49m\u001b[38;5;124;43m\"\u001b[39;49m\u001b[38;5;124;43mencoder.readout=add\u001b[39;49m\u001b[38;5;124;43m\"\u001b[39;49m\u001b[43m,\u001b[49m\u001b[43m \u001b[49m\u001b[38;5;66;43;03m# Global pooling method to be used\u001b[39;49;00m\n\u001b[1;32m     34\u001b[0m \u001b[43m        \u001b[49m\u001b[38;5;124;43m\"\u001b[39;49m\u001b[38;5;124;43mencoder.dipole=False\u001b[39;49m\u001b[38;5;124;43m\"\u001b[39;49m\u001b[43m,\u001b[49m\n\u001b[1;32m     35\u001b[0m \u001b[43m        \u001b[49m\u001b[38;5;124;43m\"\u001b[39;49m\u001b[38;5;124;43mencoder.mean=null\u001b[39;49m\u001b[38;5;124;43m\"\u001b[39;49m\u001b[43m,\u001b[49m\n\u001b[1;32m     36\u001b[0m \u001b[43m        \u001b[49m\u001b[38;5;124;43m\"\u001b[39;49m\u001b[38;5;124;43mencoder.std=null\u001b[39;49m\u001b[38;5;124;43m\"\u001b[39;49m\u001b[43m,\u001b[49m\n\u001b[1;32m     37\u001b[0m \u001b[43m        \u001b[49m\u001b[38;5;124;43m\"\u001b[39;49m\u001b[38;5;124;43mencoder.atomref=null\u001b[39;49m\u001b[38;5;124;43m\"\u001b[39;49m\u001b[43m,\u001b[49m\n\u001b[1;32m     38\u001b[0m \u001b[43m        \u001b[49m\u001b[38;5;124;43m\"\u001b[39;49m\u001b[38;5;124;43mencoder.pretraining=False\u001b[39;49m\u001b[38;5;124;43m\"\u001b[39;49m\u001b[43m,\u001b[49m\n\u001b[1;32m     39\u001b[0m \n\u001b[1;32m     40\u001b[0m \u001b[43m        \u001b[49m\u001b[38;5;124;43m\"\u001b[39;49m\u001b[38;5;124;43mtask=multiclass_graph_classification\u001b[39;49m\u001b[38;5;124;43m\"\u001b[39;49m\u001b[43m,\u001b[49m\n\u001b[1;32m     41\u001b[0m \u001b[43m        \u001b[49m\u001b[38;5;124;43m\"\u001b[39;49m\u001b[38;5;124;43mdataset=ec_reaction\u001b[39;49m\u001b[38;5;124;43m\"\u001b[39;49m\u001b[43m,\u001b[49m\n\u001b[1;32m     42\u001b[0m \u001b[43m        \u001b[49m\u001b[38;5;124;43m\"\u001b[39;49m\u001b[38;5;124;43mdataset.datamodule.batch_size=32\u001b[39;49m\u001b[38;5;124;43m\"\u001b[39;49m\u001b[43m,\u001b[49m\n\u001b[1;32m     43\u001b[0m \u001b[43m        \u001b[49m\u001b[38;5;124;43m\"\u001b[39;49m\u001b[38;5;124;43mfeatures=ca_angles\u001b[39;49m\u001b[38;5;124;43m\"\u001b[39;49m\u001b[43m,\u001b[49m\u001b[43m  \u001b[49m\u001b[38;5;66;43;03m# here\u001b[39;49;00m\n\u001b[1;32m     44\u001b[0m \u001b[43m        \u001b[49m\u001b[38;5;124;43m\"\u001b[39;49m\u001b[38;5;124;43m+aux_task=none\u001b[39;49m\u001b[38;5;124;43m\"\u001b[39;49m\u001b[43m,\u001b[49m\n\u001b[1;32m     45\u001b[0m \u001b[43m        \u001b[49m\u001b[38;5;124;43m\"\u001b[39;49m\u001b[38;5;124;43mcallbacks.model_checkpoint.save_top_k=-1\u001b[39;49m\u001b[38;5;124;43m\"\u001b[39;49m\n\u001b[1;32m     46\u001b[0m \u001b[43m        \u001b[49m\u001b[38;5;124;43m\"\u001b[39;49m\u001b[38;5;124;43mtrainer.max_epochs=150\u001b[39;49m\u001b[38;5;124;43m\"\u001b[39;49m\u001b[43m,\u001b[49m\n\u001b[1;32m     47\u001b[0m \u001b[43m        \u001b[49m\u001b[38;5;124;43m\"\u001b[39;49m\u001b[38;5;124;43moptimiser=adam\u001b[39;49m\u001b[38;5;124;43m\"\u001b[39;49m\u001b[43m,\u001b[49m\n\u001b[1;32m     48\u001b[0m \u001b[43m        \u001b[49m\u001b[38;5;124;43m\"\u001b[39;49m\u001b[38;5;124;43moptimiser.optimizer.lr=3e-4\u001b[39;49m\u001b[38;5;124;43m\"\u001b[39;49m\u001b[43m,\u001b[49m\n\u001b[1;32m     49\u001b[0m \u001b[43m        \u001b[49m\u001b[38;5;124;43m\"\u001b[39;49m\u001b[38;5;124;43mcallbacks.early_stopping.patience=10\u001b[39;49m\u001b[38;5;124;43m\"\u001b[39;49m\u001b[43m,\u001b[49m\n\u001b[1;32m     50\u001b[0m \u001b[43m        \u001b[49m\u001b[38;5;124;43m\"\u001b[39;49m\u001b[38;5;124;43mtest=True\u001b[39;49m\u001b[38;5;124;43m\"\u001b[39;49m\u001b[43m,\u001b[49m\n\u001b[1;32m     51\u001b[0m \u001b[43m        \u001b[49m\u001b[38;5;124;43m\"\u001b[39;49m\u001b[38;5;124;43mscheduler=plateau\u001b[39;49m\u001b[38;5;124;43m\"\u001b[39;49m\u001b[43m,\u001b[49m\u001b[43m \u001b[49m\u001b[38;5;66;43;03m# 5 epochs - 0.6 default\u001b[39;49;00m\n\u001b[1;32m     52\u001b[0m \u001b[43m        \u001b[49m\u001b[38;5;66;43;03m# \"+ckpt_path=/home/zhang/Projects/3d/proteinworkshop_checkpoints/outputs_schnet_pretraining_best@0/checkpoints/last.ckpt\", # continue training\u001b[39;49;00m\n\u001b[1;32m     53\u001b[0m \u001b[43m        \u001b[49m\u001b[38;5;66;43;03m## for test ONLY\u001b[39;49;00m\n\u001b[1;32m     54\u001b[0m \u001b[43m        \u001b[49m\u001b[38;5;66;43;03m# \"task_name=test\",  # here\u001b[39;49;00m\n\u001b[1;32m     55\u001b[0m \u001b[43m        \u001b[49m\u001b[38;5;66;43;03m# \"ckpt_path_test=/home/zhang/Projects/3d/ProteinWorkshop/notebooks/outputs/checkpoints/epoch_016.ckpt\", # here\u001b[39;49;00m\n\u001b[1;32m     56\u001b[0m \u001b[43m        \u001b[49m\u001b[38;5;66;43;03m# \"optimizer.weight_decay=0.5\"\u001b[39;49;00m\n\u001b[1;32m     57\u001b[0m \u001b[43m        \u001b[49m\u001b[38;5;124;43m\"\u001b[39;49m\u001b[38;5;124;43mseed=66\u001b[39;49m\u001b[38;5;124;43m\"\u001b[39;49m\u001b[43m,\u001b[49m\n\u001b[1;32m     58\u001b[0m \u001b[43m    \u001b[49m\u001b[43m]\u001b[49m\u001b[43m,\u001b[49m\n\u001b[1;32m     59\u001b[0m \u001b[43m    \u001b[49m\u001b[43mreturn_hydra_config\u001b[49m\u001b[38;5;241;43m=\u001b[39;49m\u001b[38;5;28;43;01mTrue\u001b[39;49;00m\u001b[43m,\u001b[49m\n\u001b[1;32m     60\u001b[0m \u001b[43m)\u001b[49m\n\u001b[1;32m     62\u001b[0m \u001b[38;5;66;03m# Note: Customize as needed e.g., when running a sweep\u001b[39;00m\n\u001b[1;32m     63\u001b[0m cfg\u001b[38;5;241m.\u001b[39mhydra\u001b[38;5;241m.\u001b[39mjob\u001b[38;5;241m.\u001b[39mnum \u001b[38;5;241m=\u001b[39m \u001b[38;5;241m0\u001b[39m\n",
      "File \u001b[0;32m~/miniconda3/envs/3d/lib/python3.10/site-packages/hydra/compose.py:38\u001b[0m, in \u001b[0;36mcompose\u001b[0;34m(config_name, overrides, return_hydra_config, strict)\u001b[0m\n\u001b[1;32m     36\u001b[0m gh \u001b[38;5;241m=\u001b[39m GlobalHydra\u001b[38;5;241m.\u001b[39minstance()\n\u001b[1;32m     37\u001b[0m \u001b[38;5;28;01massert\u001b[39;00m gh\u001b[38;5;241m.\u001b[39mhydra \u001b[38;5;129;01mis\u001b[39;00m \u001b[38;5;129;01mnot\u001b[39;00m \u001b[38;5;28;01mNone\u001b[39;00m\n\u001b[0;32m---> 38\u001b[0m cfg \u001b[38;5;241m=\u001b[39m \u001b[43mgh\u001b[49m\u001b[38;5;241;43m.\u001b[39;49m\u001b[43mhydra\u001b[49m\u001b[38;5;241;43m.\u001b[39;49m\u001b[43mcompose_config\u001b[49m\u001b[43m(\u001b[49m\n\u001b[1;32m     39\u001b[0m \u001b[43m    \u001b[49m\u001b[43mconfig_name\u001b[49m\u001b[38;5;241;43m=\u001b[39;49m\u001b[43mconfig_name\u001b[49m\u001b[43m,\u001b[49m\n\u001b[1;32m     40\u001b[0m \u001b[43m    \u001b[49m\u001b[43moverrides\u001b[49m\u001b[38;5;241;43m=\u001b[39;49m\u001b[43moverrides\u001b[49m\u001b[43m,\u001b[49m\n\u001b[1;32m     41\u001b[0m \u001b[43m    \u001b[49m\u001b[43mrun_mode\u001b[49m\u001b[38;5;241;43m=\u001b[39;49m\u001b[43mRunMode\u001b[49m\u001b[38;5;241;43m.\u001b[39;49m\u001b[43mRUN\u001b[49m\u001b[43m,\u001b[49m\n\u001b[1;32m     42\u001b[0m \u001b[43m    \u001b[49m\u001b[43mfrom_shell\u001b[49m\u001b[38;5;241;43m=\u001b[39;49m\u001b[38;5;28;43;01mFalse\u001b[39;49;00m\u001b[43m,\u001b[49m\n\u001b[1;32m     43\u001b[0m \u001b[43m    \u001b[49m\u001b[43mwith_log_configuration\u001b[49m\u001b[38;5;241;43m=\u001b[39;49m\u001b[38;5;28;43;01mFalse\u001b[39;49;00m\u001b[43m,\u001b[49m\n\u001b[1;32m     44\u001b[0m \u001b[43m\u001b[49m\u001b[43m)\u001b[49m\n\u001b[1;32m     45\u001b[0m \u001b[38;5;28;01massert\u001b[39;00m \u001b[38;5;28misinstance\u001b[39m(cfg, DictConfig)\n\u001b[1;32m     47\u001b[0m \u001b[38;5;28;01mif\u001b[39;00m \u001b[38;5;129;01mnot\u001b[39;00m return_hydra_config:\n",
      "File \u001b[0;32m~/miniconda3/envs/3d/lib/python3.10/site-packages/hydra/_internal/hydra.py:594\u001b[0m, in \u001b[0;36mHydra.compose_config\u001b[0;34m(self, config_name, overrides, run_mode, with_log_configuration, from_shell, validate_sweep_overrides)\u001b[0m\n\u001b[1;32m    576\u001b[0m \u001b[38;5;28;01mdef\u001b[39;00m \u001b[38;5;21mcompose_config\u001b[39m(\n\u001b[1;32m    577\u001b[0m     \u001b[38;5;28mself\u001b[39m,\n\u001b[1;32m    578\u001b[0m     config_name: Optional[\u001b[38;5;28mstr\u001b[39m],\n\u001b[0;32m   (...)\u001b[0m\n\u001b[1;32m    583\u001b[0m     validate_sweep_overrides: \u001b[38;5;28mbool\u001b[39m \u001b[38;5;241m=\u001b[39m \u001b[38;5;28;01mTrue\u001b[39;00m,\n\u001b[1;32m    584\u001b[0m ) \u001b[38;5;241m-\u001b[39m\u001b[38;5;241m>\u001b[39m DictConfig:\n\u001b[1;32m    585\u001b[0m \u001b[38;5;250m    \u001b[39m\u001b[38;5;124;03m\"\"\"\u001b[39;00m\n\u001b[1;32m    586\u001b[0m \u001b[38;5;124;03m    :param config_name:\u001b[39;00m\n\u001b[1;32m    587\u001b[0m \u001b[38;5;124;03m    :param overrides:\u001b[39;00m\n\u001b[0;32m   (...)\u001b[0m\n\u001b[1;32m    591\u001b[0m \u001b[38;5;124;03m    :return:\u001b[39;00m\n\u001b[1;32m    592\u001b[0m \u001b[38;5;124;03m    \"\"\"\u001b[39;00m\n\u001b[0;32m--> 594\u001b[0m     cfg \u001b[38;5;241m=\u001b[39m \u001b[38;5;28;43mself\u001b[39;49m\u001b[38;5;241;43m.\u001b[39;49m\u001b[43mconfig_loader\u001b[49m\u001b[38;5;241;43m.\u001b[39;49m\u001b[43mload_configuration\u001b[49m\u001b[43m(\u001b[49m\n\u001b[1;32m    595\u001b[0m \u001b[43m        \u001b[49m\u001b[43mconfig_name\u001b[49m\u001b[38;5;241;43m=\u001b[39;49m\u001b[43mconfig_name\u001b[49m\u001b[43m,\u001b[49m\n\u001b[1;32m    596\u001b[0m \u001b[43m        \u001b[49m\u001b[43moverrides\u001b[49m\u001b[38;5;241;43m=\u001b[39;49m\u001b[43moverrides\u001b[49m\u001b[43m,\u001b[49m\n\u001b[1;32m    597\u001b[0m \u001b[43m        \u001b[49m\u001b[43mrun_mode\u001b[49m\u001b[38;5;241;43m=\u001b[39;49m\u001b[43mrun_mode\u001b[49m\u001b[43m,\u001b[49m\n\u001b[1;32m    598\u001b[0m \u001b[43m        \u001b[49m\u001b[43mfrom_shell\u001b[49m\u001b[38;5;241;43m=\u001b[39;49m\u001b[43mfrom_shell\u001b[49m\u001b[43m,\u001b[49m\n\u001b[1;32m    599\u001b[0m \u001b[43m        \u001b[49m\u001b[43mvalidate_sweep_overrides\u001b[49m\u001b[38;5;241;43m=\u001b[39;49m\u001b[43mvalidate_sweep_overrides\u001b[49m\u001b[43m,\u001b[49m\n\u001b[1;32m    600\u001b[0m \u001b[43m    \u001b[49m\u001b[43m)\u001b[49m\n\u001b[1;32m    601\u001b[0m     \u001b[38;5;28;01mif\u001b[39;00m with_log_configuration:\n\u001b[1;32m    602\u001b[0m         configure_log(cfg\u001b[38;5;241m.\u001b[39mhydra\u001b[38;5;241m.\u001b[39mhydra_logging, cfg\u001b[38;5;241m.\u001b[39mhydra\u001b[38;5;241m.\u001b[39mverbose)\n",
      "File \u001b[0;32m~/miniconda3/envs/3d/lib/python3.10/site-packages/hydra/_internal/config_loader_impl.py:142\u001b[0m, in \u001b[0;36mConfigLoaderImpl.load_configuration\u001b[0;34m(self, config_name, overrides, run_mode, from_shell, validate_sweep_overrides)\u001b[0m\n\u001b[1;32m    133\u001b[0m \u001b[38;5;28;01mdef\u001b[39;00m \u001b[38;5;21mload_configuration\u001b[39m(\n\u001b[1;32m    134\u001b[0m     \u001b[38;5;28mself\u001b[39m,\n\u001b[1;32m    135\u001b[0m     config_name: Optional[\u001b[38;5;28mstr\u001b[39m],\n\u001b[0;32m   (...)\u001b[0m\n\u001b[1;32m    139\u001b[0m     validate_sweep_overrides: \u001b[38;5;28mbool\u001b[39m \u001b[38;5;241m=\u001b[39m \u001b[38;5;28;01mTrue\u001b[39;00m,\n\u001b[1;32m    140\u001b[0m ) \u001b[38;5;241m-\u001b[39m\u001b[38;5;241m>\u001b[39m DictConfig:\n\u001b[1;32m    141\u001b[0m     \u001b[38;5;28;01mtry\u001b[39;00m:\n\u001b[0;32m--> 142\u001b[0m         \u001b[38;5;28;01mreturn\u001b[39;00m \u001b[38;5;28;43mself\u001b[39;49m\u001b[38;5;241;43m.\u001b[39;49m\u001b[43m_load_configuration_impl\u001b[49m\u001b[43m(\u001b[49m\n\u001b[1;32m    143\u001b[0m \u001b[43m            \u001b[49m\u001b[43mconfig_name\u001b[49m\u001b[38;5;241;43m=\u001b[39;49m\u001b[43mconfig_name\u001b[49m\u001b[43m,\u001b[49m\n\u001b[1;32m    144\u001b[0m \u001b[43m            \u001b[49m\u001b[43moverrides\u001b[49m\u001b[38;5;241;43m=\u001b[39;49m\u001b[43moverrides\u001b[49m\u001b[43m,\u001b[49m\n\u001b[1;32m    145\u001b[0m \u001b[43m            \u001b[49m\u001b[43mrun_mode\u001b[49m\u001b[38;5;241;43m=\u001b[39;49m\u001b[43mrun_mode\u001b[49m\u001b[43m,\u001b[49m\n\u001b[1;32m    146\u001b[0m \u001b[43m            \u001b[49m\u001b[43mfrom_shell\u001b[49m\u001b[38;5;241;43m=\u001b[39;49m\u001b[43mfrom_shell\u001b[49m\u001b[43m,\u001b[49m\n\u001b[1;32m    147\u001b[0m \u001b[43m            \u001b[49m\u001b[43mvalidate_sweep_overrides\u001b[49m\u001b[38;5;241;43m=\u001b[39;49m\u001b[43mvalidate_sweep_overrides\u001b[49m\u001b[43m,\u001b[49m\n\u001b[1;32m    148\u001b[0m \u001b[43m        \u001b[49m\u001b[43m)\u001b[49m\n\u001b[1;32m    149\u001b[0m     \u001b[38;5;28;01mexcept\u001b[39;00m OmegaConfBaseException \u001b[38;5;28;01mas\u001b[39;00m e:\n\u001b[1;32m    150\u001b[0m         \u001b[38;5;28;01mraise\u001b[39;00m ConfigCompositionException()\u001b[38;5;241m.\u001b[39mwith_traceback(sys\u001b[38;5;241m.\u001b[39mexc_info()[\u001b[38;5;241m2\u001b[39m]) \u001b[38;5;28;01mfrom\u001b[39;00m \u001b[38;5;21;01me\u001b[39;00m\n",
      "File \u001b[0;32m~/miniconda3/envs/3d/lib/python3.10/site-packages/hydra/_internal/config_loader_impl.py:244\u001b[0m, in \u001b[0;36mConfigLoaderImpl._load_configuration_impl\u001b[0;34m(self, config_name, overrides, run_mode, from_shell, validate_sweep_overrides)\u001b[0m\n\u001b[1;32m    241\u001b[0m \u001b[38;5;28;01mfrom\u001b[39;00m \u001b[38;5;21;01mhydra\u001b[39;00m \u001b[38;5;28;01mimport\u001b[39;00m __version__, version\n\u001b[1;32m    243\u001b[0m \u001b[38;5;28mself\u001b[39m\u001b[38;5;241m.\u001b[39mensure_main_config_source_available()\n\u001b[0;32m--> 244\u001b[0m parsed_overrides, caching_repo \u001b[38;5;241m=\u001b[39m \u001b[38;5;28;43mself\u001b[39;49m\u001b[38;5;241;43m.\u001b[39;49m\u001b[43m_parse_overrides_and_create_caching_repo\u001b[49m\u001b[43m(\u001b[49m\n\u001b[1;32m    245\u001b[0m \u001b[43m    \u001b[49m\u001b[43mconfig_name\u001b[49m\u001b[43m,\u001b[49m\u001b[43m \u001b[49m\u001b[43moverrides\u001b[49m\n\u001b[1;32m    246\u001b[0m \u001b[43m\u001b[49m\u001b[43m)\u001b[49m\n\u001b[1;32m    248\u001b[0m \u001b[38;5;28;01mif\u001b[39;00m validate_sweep_overrides:\n\u001b[1;32m    249\u001b[0m     \u001b[38;5;28mself\u001b[39m\u001b[38;5;241m.\u001b[39mvalidate_sweep_overrides_legal(\n\u001b[1;32m    250\u001b[0m         overrides\u001b[38;5;241m=\u001b[39mparsed_overrides, run_mode\u001b[38;5;241m=\u001b[39mrun_mode, from_shell\u001b[38;5;241m=\u001b[39mfrom_shell\n\u001b[1;32m    251\u001b[0m     )\n",
      "File \u001b[0;32m~/miniconda3/envs/3d/lib/python3.10/site-packages/hydra/_internal/config_loader_impl.py:228\u001b[0m, in \u001b[0;36mConfigLoaderImpl._parse_overrides_and_create_caching_repo\u001b[0;34m(self, config_name, overrides)\u001b[0m\n\u001b[1;32m    224\u001b[0m \u001b[38;5;28;01mdef\u001b[39;00m \u001b[38;5;21m_parse_overrides_and_create_caching_repo\u001b[39m(\n\u001b[1;32m    225\u001b[0m     \u001b[38;5;28mself\u001b[39m, config_name: Optional[\u001b[38;5;28mstr\u001b[39m], overrides: List[\u001b[38;5;28mstr\u001b[39m]\n\u001b[1;32m    226\u001b[0m ) \u001b[38;5;241m-\u001b[39m\u001b[38;5;241m>\u001b[39m Tuple[List[Override], CachingConfigRepository]:\n\u001b[1;32m    227\u001b[0m     parser \u001b[38;5;241m=\u001b[39m OverridesParser\u001b[38;5;241m.\u001b[39mcreate()\n\u001b[0;32m--> 228\u001b[0m     parsed_overrides \u001b[38;5;241m=\u001b[39m \u001b[43mparser\u001b[49m\u001b[38;5;241;43m.\u001b[39;49m\u001b[43mparse_overrides\u001b[49m\u001b[43m(\u001b[49m\u001b[43moverrides\u001b[49m\u001b[38;5;241;43m=\u001b[39;49m\u001b[43moverrides\u001b[49m\u001b[43m)\u001b[49m\n\u001b[1;32m    229\u001b[0m     caching_repo \u001b[38;5;241m=\u001b[39m CachingConfigRepository(\u001b[38;5;28mself\u001b[39m\u001b[38;5;241m.\u001b[39mrepository)\n\u001b[1;32m    230\u001b[0m     \u001b[38;5;28mself\u001b[39m\u001b[38;5;241m.\u001b[39m_process_config_searchpath(config_name, parsed_overrides, caching_repo)\n",
      "File \u001b[0;32m~/miniconda3/envs/3d/lib/python3.10/site-packages/hydra/core/override_parser/overrides_parser.py:96\u001b[0m, in \u001b[0;36mOverridesParser.parse_overrides\u001b[0;34m(self, overrides)\u001b[0m\n\u001b[1;32m     94\u001b[0m     \u001b[38;5;28;01melse\u001b[39;00m:\n\u001b[1;32m     95\u001b[0m         msg \u001b[38;5;241m=\u001b[39m \u001b[38;5;124mf\u001b[39m\u001b[38;5;124m\"\u001b[39m\u001b[38;5;124mError parsing override \u001b[39m\u001b[38;5;124m'\u001b[39m\u001b[38;5;132;01m{\u001b[39;00moverride\u001b[38;5;132;01m}\u001b[39;00m\u001b[38;5;124m'\u001b[39m\u001b[38;5;124m\"\u001b[39m \u001b[38;5;124mf\u001b[39m\u001b[38;5;124m\"\u001b[39m\u001b[38;5;130;01m\\n\u001b[39;00m\u001b[38;5;132;01m{\u001b[39;00me\u001b[38;5;132;01m}\u001b[39;00m\u001b[38;5;124m\"\u001b[39m\n\u001b[0;32m---> 96\u001b[0m     \u001b[38;5;28;01mraise\u001b[39;00m OverrideParseException(\n\u001b[1;32m     97\u001b[0m         override\u001b[38;5;241m=\u001b[39moverride,\n\u001b[1;32m     98\u001b[0m         message\u001b[38;5;241m=\u001b[39m\u001b[38;5;124mf\u001b[39m\u001b[38;5;124m\"\u001b[39m\u001b[38;5;132;01m{\u001b[39;00mmsg\u001b[38;5;132;01m}\u001b[39;00m\u001b[38;5;124m\"\u001b[39m\n\u001b[1;32m     99\u001b[0m         \u001b[38;5;124mf\u001b[39m\u001b[38;5;124m\"\u001b[39m\u001b[38;5;130;01m\\n\u001b[39;00m\u001b[38;5;124mSee https://hydra.cc/docs/1.2/advanced/override_grammar/basic for details\u001b[39m\u001b[38;5;124m\"\u001b[39m,\n\u001b[1;32m    100\u001b[0m     ) \u001b[38;5;28;01mfrom\u001b[39;00m \u001b[38;5;21;01me\u001b[39;00m\u001b[38;5;21;01m.\u001b[39;00m\u001b[38;5;21;01m__cause__\u001b[39;00m\n\u001b[1;32m    101\u001b[0m \u001b[38;5;28;01massert\u001b[39;00m \u001b[38;5;28misinstance\u001b[39m(parsed, Override)\n\u001b[1;32m    102\u001b[0m parsed\u001b[38;5;241m.\u001b[39mconfig_loader \u001b[38;5;241m=\u001b[39m \u001b[38;5;28mself\u001b[39m\u001b[38;5;241m.\u001b[39mconfig_loader\n",
      "\u001b[0;31mOverrideParseException\u001b[0m: mismatched input '=' expecting <EOF>\nSee https://hydra.cc/docs/1.2/advanced/override_grammar/basic for details"
     ]
    }
   ],
   "source": [
    "# Misc. tools\n",
    "import os\n",
    "\n",
    "# Hydra tools\n",
    "import hydra\n",
    "\n",
    "from hydra.compose import GlobalHydra\n",
    "from hydra.core.hydra_config import HydraConfig\n",
    "\n",
    "from proteinworkshop.constants import HYDRA_CONFIG_PATH\n",
    "from proteinworkshop.utils.notebook import init_hydra_singleton\n",
    "\n",
    "version_base = \"1.2\"  # Note: Need to update whenever Hydra is upgraded\n",
    "init_hydra_singleton(reload=True, version_base=version_base)\n",
    "\n",
    "path = HYDRA_CONFIG_PATH\n",
    "rel_path = os.path.relpath(path, start=\".\")\n",
    "# print(rel_path)\n",
    "GlobalHydra.instance().clear()\n",
    "hydra.initialize(rel_path, version_base=version_base)\n",
    "\n",
    "cfg = hydra.compose(\n",
    "    config_name=\"train\",\n",
    "    overrides=[\n",
    "        \"encoder=schnet\",\n",
    "        \"encoder.hidden_channels=512\", # Number of channels in the hidden layers\n",
    "        \"encoder.out_dim=32\", # Output dimension of the model\n",
    "        \"encoder.num_layers=6\", # Number of filters used in convolutional layers\n",
    "        \"encoder.num_filters=128\", # Number of convolutional layers in the model\n",
    "        \"encoder.num_gaussians=50\", # Number of Gaussian functions used for radial filters\n",
    "        \"encoder.cutoff=10.0\", # Cutoff distance for interactions\n",
    "        \"encoder.max_num_neighbors=32\", # Maximum number of neighboring atoms to consider\n",
    "        \"encoder.readout=add\", # Global pooling method to be used\n",
    "        \"encoder.dipole=False\",\n",
    "        \"encoder.mean=null\",\n",
    "        \"encoder.std=null\",\n",
    "        \"encoder.atomref=null\",\n",
    "        \"encoder.pretraining=False\",\n",
    "\n",
    "        \"task=multiclass_graph_classification\",\n",
    "        \"dataset=fold_family\",\n",
    "        \"dataset.datamodule.batch_size=32\",\n",
    "        \"features=ca_angles\",  # here\n",
    "        \"+aux_task=none\",\n",
    "        \"callbacks.model_checkpoint.save_top_k=-1\",\n",
    "        \"trainer.max_epochs=150\",\n",
    "        \"optimiser=adam\",\n",
    "        \"optimiser.optimizer.lr=3e-4\",\n",
    "        \"callbacks.early_stopping.patience=10\",\n",
    "        \"test=True\",\n",
    "        \"scheduler=plateau\", # 5 epochs - 0.6 default\n",
    "        # \"+ckpt_path=/home/zhang/Projects/3d/proteinworkshop_checkpoints/outputs_schnet_pretraining_best@0/checkpoints/last.ckpt\", # continue training\n",
    "        ## for test ONLY\n",
    "        # \"task_name=test\",  # here\n",
    "        # \"ckpt_path_test=/home/zhang/Projects/3d/ProteinWorkshop/notebooks/outputs/checkpoints/epoch_016.ckpt\", # here\n",
    "        # \"optimizer.weight_decay=0.5\"\n",
    "        \"seed=66\",\n",
    "    ],\n",
    "    return_hydra_config=True,\n",
    ")\n",
    "\n",
    "# Note: Customize as needed e.g., when running a sweep\n",
    "cfg.hydra.job.num = 0\n",
    "cfg.hydra.job.id = 0\n",
    "cfg.hydra.hydra_help.hydra_help = False\n",
    "cfg.hydra.runtime.output_dir = \"outputs\"\n",
    "\n",
    "HydraConfig.instance().set_config(cfg)"
   ]
  },
  {
   "cell_type": "markdown",
   "metadata": {},
   "source": [
    "### 2. Validate the designed training config"
   ]
  },
  {
   "cell_type": "markdown",
   "metadata": {},
   "source": [
    "This is not strictly necessary, but it is a good idea to validate the config before training. This will check that all the arguments you have provided are valid and that the config is complete."
   ]
  },
  {
   "cell_type": "code",
   "execution_count": null,
   "metadata": {},
   "outputs": [
    {
     "data": {
      "text/html": [
       "<pre style=\"white-space:pre;overflow-x:auto;line-height:normal;font-family:Menlo,'DejaVu Sans Mono',consolas,'Courier New',monospace\"><span style=\"color: #7fbfbf; text-decoration-color: #7fbfbf\">                    </span><span style=\"color: #008000; text-decoration-color: #008000\">DEBUG   </span> CUDA available: <span style=\"color: #00ff00; text-decoration-color: #00ff00; font-style: italic\">True</span>                                                     <a href=\"file:///home/zhang/Projects/3d/ProteinWorkshop/proteinworkshop/configs/config.py\" target=\"_blank\"><span style=\"color: #7f7f7f; text-decoration-color: #7f7f7f\">config.py</span></a><span style=\"color: #7f7f7f; text-decoration-color: #7f7f7f\">:</span><a href=\"file:///home/zhang/Projects/3d/ProteinWorkshop/proteinworkshop/configs/config.py#249\" target=\"_blank\"><span style=\"color: #7f7f7f; text-decoration-color: #7f7f7f\">249</span></a>\n",
       "</pre>\n"
      ],
      "text/plain": [
       "\u001b[2;36m                   \u001b[0m\u001b[2;36m \u001b[0m\u001b[32mDEBUG   \u001b[0m CUDA available: \u001b[3;92mTrue\u001b[0m                                                     \u001b]8;id=505185;file:///home/zhang/Projects/3d/ProteinWorkshop/proteinworkshop/configs/config.py\u001b\\\u001b[2mconfig.py\u001b[0m\u001b]8;;\u001b\\\u001b[2m:\u001b[0m\u001b]8;id=786614;file:///home/zhang/Projects/3d/ProteinWorkshop/proteinworkshop/configs/config.py#249\u001b\\\u001b[2m249\u001b[0m\u001b]8;;\u001b\\\n"
      ]
     },
     "metadata": {},
     "output_type": "display_data"
    },
    {
     "data": {
      "text/html": [
       "<pre style=\"white-space:pre;overflow-x:auto;line-height:normal;font-family:Menlo,'DejaVu Sans Mono',consolas,'Courier New',monospace\"><span style=\"color: #7fbfbf; text-decoration-color: #7fbfbf\">                    </span><span style=\"color: #008000; text-decoration-color: #008000\">DEBUG   </span> Requested GPUs: <span style=\"color: #008080; text-decoration-color: #008080; font-weight: bold\">1</span>.                                                       <a href=\"file:///home/zhang/Projects/3d/ProteinWorkshop/proteinworkshop/configs/config.py\" target=\"_blank\"><span style=\"color: #7f7f7f; text-decoration-color: #7f7f7f\">config.py</span></a><span style=\"color: #7f7f7f; text-decoration-color: #7f7f7f\">:</span><a href=\"file:///home/zhang/Projects/3d/ProteinWorkshop/proteinworkshop/configs/config.py#250\" target=\"_blank\"><span style=\"color: #7f7f7f; text-decoration-color: #7f7f7f\">250</span></a>\n",
       "</pre>\n"
      ],
      "text/plain": [
       "\u001b[2;36m                   \u001b[0m\u001b[2;36m \u001b[0m\u001b[32mDEBUG   \u001b[0m Requested GPUs: \u001b[1;36m1\u001b[0m.                                                       \u001b]8;id=173370;file:///home/zhang/Projects/3d/ProteinWorkshop/proteinworkshop/configs/config.py\u001b\\\u001b[2mconfig.py\u001b[0m\u001b]8;;\u001b\\\u001b[2m:\u001b[0m\u001b]8;id=194629;file:///home/zhang/Projects/3d/ProteinWorkshop/proteinworkshop/configs/config.py#250\u001b\\\u001b[2m250\u001b[0m\u001b]8;;\u001b\\\n"
      ]
     },
     "metadata": {},
     "output_type": "display_data"
    },
    {
     "data": {
      "text/html": [
       "<pre style=\"white-space:pre;overflow-x:auto;line-height:normal;font-family:Menlo,'DejaVu Sans Mono',consolas,'Courier New',monospace\"><span style=\"color: #7fbfbf; text-decoration-color: #7fbfbf\">                    </span><span style=\"color: #008000; text-decoration-color: #008000\">DEBUG   </span> GPU count set to: <span style=\"color: #008080; text-decoration-color: #008080; font-weight: bold\">1</span>                                                      <a href=\"file:///home/zhang/Projects/3d/ProteinWorkshop/proteinworkshop/configs/config.py\" target=\"_blank\"><span style=\"color: #7f7f7f; text-decoration-color: #7f7f7f\">config.py</span></a><span style=\"color: #7f7f7f; text-decoration-color: #7f7f7f\">:</span><a href=\"file:///home/zhang/Projects/3d/ProteinWorkshop/proteinworkshop/configs/config.py#255\" target=\"_blank\"><span style=\"color: #7f7f7f; text-decoration-color: #7f7f7f\">255</span></a>\n",
       "</pre>\n"
      ],
      "text/plain": [
       "\u001b[2;36m                   \u001b[0m\u001b[2;36m \u001b[0m\u001b[32mDEBUG   \u001b[0m GPU count set to: \u001b[1;36m1\u001b[0m                                                      \u001b]8;id=982041;file:///home/zhang/Projects/3d/ProteinWorkshop/proteinworkshop/configs/config.py\u001b\\\u001b[2mconfig.py\u001b[0m\u001b]8;;\u001b\\\u001b[2m:\u001b[0m\u001b]8;id=880076;file:///home/zhang/Projects/3d/ProteinWorkshop/proteinworkshop/configs/config.py#255\u001b\\\u001b[2m255\u001b[0m\u001b]8;;\u001b\\\n"
      ]
     },
     "metadata": {},
     "output_type": "display_data"
    },
    {
     "data": {
      "text/html": [
       "<pre style=\"white-space:pre;overflow-x:auto;line-height:normal;font-family:Menlo,'DejaVu Sans Mono',consolas,'Courier New',monospace\"><span style=\"color: #7fbfbf; text-decoration-color: #7fbfbf\">                    </span><span style=\"color: #800000; text-decoration-color: #800000\">WARNING </span> You are not using early stopping.                                        <a href=\"file:///home/zhang/Projects/3d/ProteinWorkshop/proteinworkshop/configs/config.py\" target=\"_blank\"><span style=\"color: #7f7f7f; text-decoration-color: #7f7f7f\">config.py</span></a><span style=\"color: #7f7f7f; text-decoration-color: #7f7f7f\">:</span><a href=\"file:///home/zhang/Projects/3d/ProteinWorkshop/proteinworkshop/configs/config.py#165\" target=\"_blank\"><span style=\"color: #7f7f7f; text-decoration-color: #7f7f7f\">165</span></a>\n",
       "</pre>\n"
      ],
      "text/plain": [
       "\u001b[2;36m                   \u001b[0m\u001b[2;36m \u001b[0m\u001b[31mWARNING \u001b[0m You are not using early stopping.                                        \u001b]8;id=618808;file:///home/zhang/Projects/3d/ProteinWorkshop/proteinworkshop/configs/config.py\u001b\\\u001b[2mconfig.py\u001b[0m\u001b]8;;\u001b\\\u001b[2m:\u001b[0m\u001b]8;id=585041;file:///home/zhang/Projects/3d/ProteinWorkshop/proteinworkshop/configs/config.py#165\u001b\\\u001b[2m165\u001b[0m\u001b]8;;\u001b\\\n"
      ]
     },
     "metadata": {},
     "output_type": "display_data"
    }
   ],
   "source": [
    "from proteinworkshop.configs import config\n",
    "\n",
    "cfg = config.validate_config(cfg)"
   ]
  },
  {
   "cell_type": "code",
   "execution_count": null,
   "metadata": {},
   "outputs": [
    {
     "name": "stdout",
     "output_type": "stream",
     "text": [
      "dict_keys(['hydra', 'env', 'dataset', 'features', 'encoder', 'decoder', 'transforms', 'callbacks', 'optimiser', 'scheduler', 'trainer', 'extras', 'metrics', 'task', 'logger', 'hparams', 'name', 'seed', 'num_workers', 'task_name', 'ckpt_path_test', 'test', 'aux_task'])\n",
      "hydra\n",
      "{'run': {'dir': '${env.paths.log_dir}/${task_name}/runs/${now:%Y-%m-%d}_${now:%H-%M-%S}'}, 'sweep': {'dir': '${env.paths.log_dir}/${task_name}/multiruns/${now:%Y-%m-%d}_${now:%H-%M-%S}', 'subdir': '${hydra.job.num}'}, 'launcher': {'_target_': 'hydra._internal.core_plugins.basic_launcher.BasicLauncher'}, 'sweeper': {'_target_': 'hydra._internal.core_plugins.basic_sweeper.BasicSweeper', 'max_batch_size': None, 'params': None}, 'help': {'app_name': '${hydra.job.name}', 'header': '${hydra.help.app_name} is powered by Hydra.\\n', 'footer': 'Powered by Hydra (https://hydra.cc)\\nUse --hydra-help to view Hydra specific help\\n', 'template': '${hydra.help.header}\\n== Configuration groups ==\\nCompose your configuration from those groups (group=option)\\n\\n$APP_CONFIG_GROUPS\\n\\n== Config ==\\nOverride anything in the config (foo.bar=value)\\n\\n$CONFIG\\n\\n${hydra.help.footer}\\n'}, 'hydra_help': {'template': \"Hydra (${hydra.runtime.version})\\nSee https://hydra.cc for more info.\\n\\n== Flags ==\\n$FLAGS_HELP\\n\\n== Configuration groups ==\\nCompose your configuration from those groups (For example, append hydra/job_logging=disabled to command line)\\n\\n$HYDRA_CONFIG_GROUPS\\n\\nUse '--cfg hydra' to Show the Hydra config.\\n\", 'hydra_help': 'False'}, 'hydra_logging': {'version': 1, 'formatters': {'colorlog': {'()': 'colorlog.ColoredFormatter', 'format': '[%(cyan)s%(asctime)s%(reset)s][%(purple)sHYDRA%(reset)s] %(message)s'}}, 'handlers': {'console': {'class': 'logging.StreamHandler', 'formatter': 'colorlog', 'stream': 'ext://sys.stdout'}}, 'root': {'level': 'INFO', 'handlers': ['console']}, 'disable_existing_loggers': False}, 'job_logging': {'version': 1, 'formatters': {'simple': {'format': '[%(asctime)s][%(name)s][%(levelname)s] - %(message)s'}, 'colorlog': {'()': 'colorlog.ColoredFormatter', 'format': '[%(cyan)s%(asctime)s%(reset)s][%(blue)s%(name)s%(reset)s][%(log_color)s%(levelname)s%(reset)s] - %(message)s', 'log_colors': {'DEBUG': 'purple', 'INFO': 'green', 'WARNING': 'yellow', 'ERROR': 'red', 'CRITICAL': 'red'}}}, 'handlers': {'console': {'class': 'logging.StreamHandler', 'formatter': 'colorlog', 'stream': 'ext://sys.stdout'}, 'file': {'class': 'logging.FileHandler', 'formatter': 'simple', 'filename': '${hydra.runtime.output_dir}/${hydra.job.name}.log'}}, 'root': {'level': 'INFO', 'handlers': ['console', 'file']}, 'disable_existing_loggers': False}, 'env': {}, 'mode': None, 'searchpath': [], 'callbacks': {}, 'output_subdir': '.hydra', 'overrides': {'hydra': [], 'task': ['encoder=schnet', 'encoder.hidden_channels=512', 'encoder.out_dim=32', 'encoder.num_layers=6', 'encoder.num_filters=128', 'encoder.num_gaussians=50', 'encoder.cutoff=10.0', 'encoder.max_num_neighbors=32', 'encoder.readout=add', 'encoder.dipole=False', 'encoder.mean=null', 'encoder.std=null', 'encoder.atomref=null', 'encoder.pretraining=False', 'task=multiclass_graph_classification', 'dataset=fold_family', 'dataset.datamodule.batch_size=32', 'features=ca_angles', '+aux_task=none', 'trainer.max_epochs=150', 'optimiser=adam', 'optimiser.optimizer.lr=3e-4', 'callbacks.early_stopping.patience=10', 'test=True', 'scheduler=plateau', 'seed=43']}, 'job': {'name': 'notebook', 'chdir': None, 'override_dirname': '+aux_task=none,callbacks.early_stopping.patience=10,dataset.datamodule.batch_size=32,dataset=fold_family,encoder.atomref=null,encoder.cutoff=10.0,encoder.dipole=False,encoder.hidden_channels=512,encoder.max_num_neighbors=32,encoder.mean=null,encoder.num_filters=128,encoder.num_gaussians=50,encoder.num_layers=6,encoder.out_dim=32,encoder.pretraining=False,encoder.readout=add,encoder.std=null,encoder=schnet,features=ca_angles,optimiser.optimizer.lr=3e-4,optimiser=adam,scheduler=plateau,seed=43,task=multiclass_graph_classification,test=True,trainer.max_epochs=150', 'id': '0', 'num': 0, 'config_name': 'train', 'env_set': {}, 'env_copy': [], 'config': {'override_dirname': {'kv_sep': '=', 'item_sep': ',', 'exclude_keys': []}}}, 'runtime': {'version': '1.3.2', 'version_base': '1.2', 'cwd': '/home/zhang/Projects/3d/ProteinWorkshop/notebooks', 'config_sources': [{'path': 'hydra.conf', 'schema': 'pkg', 'provider': 'hydra'}, {'path': '/home/zhang/Projects/3d/ProteinWorkshop/proteinworkshop/config', 'schema': 'file', 'provider': 'main'}, {'path': 'hydra_plugins.hydra_colorlog.conf', 'schema': 'pkg', 'provider': 'hydra-colorlog'}, {'path': '', 'schema': 'structured', 'provider': 'schema'}], 'output_dir': 'outputs', 'choices': {'aux_task': 'none', 'debug': None, 'logger': 'csv', 'task': 'multiclass_graph_classification', 'hydra': 'default', 'extras': 'default', 'trainer': 'gpu', 'scheduler': 'plateau', 'optimiser': 'adam', 'callbacks': 'default', 'transforms': 'default', 'encoder': 'schnet', 'features': 'ca_angles', 'dataset': 'fold_family', 'env': 'default', 'hparams': 'schnet_ca_angles', 'hydra/env': 'default', 'hydra/callbacks': None, 'hydra/job_logging': 'colorlog', 'hydra/hydra_logging': 'colorlog', 'hydra/hydra_help': 'default', 'hydra/help': 'default', 'hydra/sweeper': 'basic', 'hydra/launcher': 'basic', 'hydra/output': 'default'}}, 'verbose': False}\n",
      "env\n",
      "{'paths': {'root_dir': '${oc.env:ROOT_DIR}', 'data': '${oc.env:DATA_PATH}', 'output_dir': '${hydra:runtime.output_dir}', 'work_dir': '${hydra:runtime.cwd}', 'log_dir': '${oc.env:RUNS_PATH}', 'runs': '${oc.env:RUNS_PATH}', 'run_dir': '${env.paths.runs}/${name}/${env.init_time}'}, 'python': {'version': '${python_version:micro}'}, 'init_time': '${now:%y-%m-%d_%H:%M:%S}'}\n",
      "dataset\n",
      "{'datamodule': {'_target_': 'proteinworkshop.datasets.fold_classification.FoldClassificationDataModule', 'path': '${env.paths.data}/FoldClassification/', 'split': 'family', 'batch_size': 32, 'pin_memory': True, 'num_workers': 4, 'dataset_fraction': 1.0, 'shuffle_labels': False, 'transforms': '${transforms}', 'overwrite': False, 'in_memory': True}, 'num_classes': 1195}\n",
      "features\n",
      "{'_target_': 'proteinworkshop.features.factory.ProteinFeaturiser', 'representation': 'CA', 'scalar_node_features': ['amino_acid_one_hot', 'sequence_positional_encoding', 'alpha', 'kappa'], 'vector_node_features': [], 'edge_types': ['knn_16'], 'scalar_edge_features': ['edge_distance'], 'vector_edge_features': []}\n",
      "encoder\n",
      "{'_target_': 'proteinworkshop.models.graph_encoders.schnet.SchNetModel', 'hidden_channels': 512, 'out_dim': 32, 'num_layers': 6, 'num_filters': 128, 'num_gaussians': 50, 'cutoff': 10.0, 'max_num_neighbors': 32, 'readout': 'add', 'dipole': False, 'mean': None, 'std': None, 'atomref': None, 'pretraining': False}\n",
      "decoder\n",
      "{'graph_label': {'_target_': 'proteinworkshop.models.decoders.mlp_decoder.MLPDecoder', 'hidden_dim': [512, 512, 512], 'dropout': 0.0, 'activations': ['relu', 'relu', 'relu', 'none'], 'skip': 'concat', 'out_dim': '${dataset.num_classes}', 'input': 'graph_embedding', 'dummy': False}}\n",
      "transforms\n",
      "{'remove_missing_ca': {'_target_': 'proteinworkshop.tasks.remove_missing_ca.RemoveMissingCa', 'fill_value': 1e-05, 'ca_idx': 1}}\n",
      "callbacks\n",
      "{'model_checkpoint': {'_target_': 'lightning.pytorch.callbacks.ModelCheckpoint', 'dirpath': '${env.paths.output_dir}/checkpoints', 'filename': 'epoch_{epoch:03d}', 'monitor': 'val/graph_label/accuracy', 'verbose': True, 'save_last': True, 'save_top_k': 1, 'mode': 'max', 'auto_insert_metric_name': False, 'save_weights_only': False, 'every_n_train_steps': None, 'train_time_interval': None, 'every_n_epochs': None, 'save_on_train_epoch_end': None}, 'early_stopping': {'_target_': 'lightning.pytorch.callbacks.EarlyStopping', 'monitor': 'val/graph_label/accuracy', 'min_delta': 0.0, 'patience': 10, 'verbose': True, 'mode': 'max', 'strict': True, 'check_finite': True, 'stopping_threshold': None, 'divergence_threshold': None, 'check_on_train_epoch_end': False}, 'model_summary': {'_target_': 'lightning.pytorch.callbacks.RichModelSummary', 'max_depth': -1}, 'rich_progress_bar': {'_target_': 'lightning.pytorch.callbacks.RichProgressBar'}, 'learning_rate_monitor': {'_target_': 'lightning.pytorch.callbacks.LearningRateMonitor'}, 'stop_on_nan': {'_target_': 'lightning.pytorch.callbacks.EarlyStopping', 'monitor': 'train/loss/total', 'min_delta': 0.0, 'patience': 10000000, 'verbose': True, 'mode': 'min', 'strict': True, 'check_finite': True, 'stopping_threshold': None, 'divergence_threshold': None, 'check_on_train_epoch_end': None}}\n",
      "optimiser\n",
      "{'optimizer': {'_target_': 'torch.optim.Adam', '_partial_': True, 'lr': 0.0003, 'weight_decay': 0.0}}\n",
      "scheduler\n",
      "{'scheduler': {'_target_': 'torch.optim.lr_scheduler.ReduceLROnPlateau', '_partial_': True, 'mode': 'min', 'factor': 0.6, 'patience': 5, 'verbose': True}, 'interval': 'epoch', 'frequency': 1, 'monitor': 'val/loss/total', 'strict': True, 'name': 'learning_rate'}\n",
      "trainer\n",
      "{'_target_': 'lightning.pytorch.trainer.Trainer', 'default_root_dir': '${env.paths.output_dir}', 'min_epochs': 1, 'max_epochs': 150, 'accelerator': 'gpu', 'check_val_every_n_epoch': 1, 'deterministic': False, 'num_sanity_val_steps': 2, 'devices': 1}\n",
      "extras\n",
      "{'ignore_warnings': True, 'enforce_tags': False, 'print_config': True}\n",
      "metrics\n",
      "{'accuracy': {'_target_': 'torchmetrics.Accuracy', 'task': '${task.classification_type}', 'average': '${task.metric_average}', 'num_classes': '${dataset.num_classes}', 'top_k': 1}, 'f1_score': {'_target_': 'torchmetrics.F1Score', 'average': 'macro', 'num_classes': '${dataset.num_classes}', 'task': '${task.classification_type}'}, 'f1_max': {'_target_': 'proteinworkshop.metrics.f1_max.F1Max', 'num_classes': '${dataset.num_classes}'}}\n",
      "task\n",
      "{'task': 'classification', 'classification_type': 'multiclass', 'metric_average': 'micro', 'losses': {'graph_label': 'cross_entropy'}, 'label_smoothing': 0.0, 'output': ['graph_label'], 'supervise_on': ['graph_label']}\n",
      "logger\n",
      "{'csv': {'_target_': 'lightning.pytorch.loggers.csv_logs.CSVLogger', 'save_dir': '${env.paths.output_dir}', 'name': 'csv/', 'prefix': ''}}\n",
      "hparams\n",
      "{'hparams': {'lr': 0.001, 'decoder_dropout': 0.1}}\n",
      "name\n",
      "\n",
      "seed\n",
      "43\n",
      "num_workers\n",
      "16\n",
      "task_name\n",
      "train\n",
      "ckpt_path_test\n",
      "\n",
      "test\n",
      "True\n",
      "aux_task\n",
      "{}\n"
     ]
    }
   ],
   "source": [
    "print(cfg.keys())\n",
    "for key in cfg.keys():\n",
    "    print(key)\n",
    "    print(cfg[key])"
   ]
  },
  {
   "cell_type": "markdown",
   "metadata": {},
   "source": [
    "### 3. Use the designed config to train a new model"
   ]
  },
  {
   "cell_type": "markdown",
   "metadata": {},
   "source": [
    "Now with the config you have designed, you can train a new model. You can also use the `ProteinWorkshop` to evaluate the model on a downstream task."
   ]
  },
  {
   "cell_type": "code",
   "execution_count": null,
   "metadata": {},
   "outputs": [
    {
     "name": "stderr",
     "output_type": "stream",
     "text": [
      "Seed set to 43\n"
     ]
    },
    {
     "data": {
      "text/html": [
       "<pre style=\"white-space:pre;overflow-x:auto;line-height:normal;font-family:Menlo,'DejaVu Sans Mono',consolas,'Courier New',monospace\"><span style=\"color: #7fbfbf; text-decoration-color: #7fbfbf\">[07/28/24 16:31:14] </span><span style=\"color: #000080; text-decoration-color: #000080\">INFO    </span> Instantiating datamodule:                                                  <a href=\"file:///home/zhang/Projects/3d/ProteinWorkshop/proteinworkshop/train.py\" target=\"_blank\"><span style=\"color: #7f7f7f; text-decoration-color: #7f7f7f\">train.py</span></a><span style=\"color: #7f7f7f; text-decoration-color: #7f7f7f\">:</span><a href=\"file:///home/zhang/Projects/3d/ProteinWorkshop/proteinworkshop/train.py#99\" target=\"_blank\"><span style=\"color: #7f7f7f; text-decoration-color: #7f7f7f\">99</span></a>\n",
       "<span style=\"color: #7fbfbf; text-decoration-color: #7fbfbf\">                    </span>         &lt;proteinworkshop.datasets.fold_classification.FoldClassificationDataModule <span style=\"color: #7f7f7f; text-decoration-color: #7f7f7f\">           </span>\n",
       "<span style=\"color: #7fbfbf; text-decoration-color: #7fbfbf\">                    </span>         <span style=\"color: #808000; text-decoration-color: #808000\">...</span>                                                                        <span style=\"color: #7f7f7f; text-decoration-color: #7f7f7f\">           </span>\n",
       "</pre>\n"
      ],
      "text/plain": [
       "\u001b[2;36m[07/28/24 16:31:14]\u001b[0m\u001b[2;36m \u001b[0m\u001b[34mINFO    \u001b[0m Instantiating datamodule:                                                  \u001b]8;id=387844;file:///home/zhang/Projects/3d/ProteinWorkshop/proteinworkshop/train.py\u001b\\\u001b[2mtrain.py\u001b[0m\u001b]8;;\u001b\\\u001b[2m:\u001b[0m\u001b]8;id=704272;file:///home/zhang/Projects/3d/ProteinWorkshop/proteinworkshop/train.py#99\u001b\\\u001b[2m99\u001b[0m\u001b]8;;\u001b\\\n",
       "\u001b[2;36m                    \u001b[0m         <proteinworkshop.datasets.fold_classification.FoldClassificationDataModule \u001b[2m           \u001b[0m\n",
       "\u001b[2;36m                    \u001b[0m         \u001b[33m...\u001b[0m                                                                        \u001b[2m           \u001b[0m\n"
      ]
     },
     "metadata": {},
     "output_type": "display_data"
    },
    {
     "data": {
      "text/html": [
       "<pre style=\"white-space:pre;overflow-x:auto;line-height:normal;font-family:Menlo,'DejaVu Sans Mono',consolas,'Courier New',monospace\"><span style=\"color: #7fbfbf; text-decoration-color: #7fbfbf\">                    </span><span style=\"color: #000080; text-decoration-color: #000080\">INFO    </span> Instantiating callbacks<span style=\"color: #808000; text-decoration-color: #808000\">...</span>                                                <a href=\"file:///home/zhang/Projects/3d/ProteinWorkshop/proteinworkshop/train.py\" target=\"_blank\"><span style=\"color: #7f7f7f; text-decoration-color: #7f7f7f\">train.py</span></a><span style=\"color: #7f7f7f; text-decoration-color: #7f7f7f\">:</span><a href=\"file:///home/zhang/Projects/3d/ProteinWorkshop/proteinworkshop/train.py#106\" target=\"_blank\"><span style=\"color: #7f7f7f; text-decoration-color: #7f7f7f\">106</span></a>\n",
       "</pre>\n"
      ],
      "text/plain": [
       "\u001b[2;36m                   \u001b[0m\u001b[2;36m \u001b[0m\u001b[34mINFO    \u001b[0m Instantiating callbacks\u001b[33m...\u001b[0m                                                \u001b]8;id=522476;file:///home/zhang/Projects/3d/ProteinWorkshop/proteinworkshop/train.py\u001b\\\u001b[2mtrain.py\u001b[0m\u001b]8;;\u001b\\\u001b[2m:\u001b[0m\u001b]8;id=638570;file:///home/zhang/Projects/3d/ProteinWorkshop/proteinworkshop/train.py#106\u001b\\\u001b[2m106\u001b[0m\u001b]8;;\u001b\\\n"
      ]
     },
     "metadata": {},
     "output_type": "display_data"
    },
    {
     "data": {
      "text/html": [
       "<pre style=\"white-space:pre;overflow-x:auto;line-height:normal;font-family:Menlo,'DejaVu Sans Mono',consolas,'Courier New',monospace\"><span style=\"color: #7fbfbf; text-decoration-color: #7fbfbf\">                    </span><span style=\"color: #000080; text-decoration-color: #000080\">INFO    </span> Instantiating callback <span style=\"font-weight: bold\">&lt;</span><span style=\"color: #ff00ff; text-decoration-color: #ff00ff; font-weight: bold\">lightning.pytorch.callbacks.ModelCheckpoint</span><span style=\"font-weight: bold\">&gt;</span>   <a href=\"file:///home/zhang/Projects/3d/ProteinWorkshop/proteinworkshop/utils/callbacks.py\" target=\"_blank\"><span style=\"color: #7f7f7f; text-decoration-color: #7f7f7f\">callbacks.py</span></a><span style=\"color: #7f7f7f; text-decoration-color: #7f7f7f\">:</span><a href=\"file:///home/zhang/Projects/3d/ProteinWorkshop/proteinworkshop/utils/callbacks.py#31\" target=\"_blank\"><span style=\"color: #7f7f7f; text-decoration-color: #7f7f7f\">31</span></a>\n",
       "</pre>\n"
      ],
      "text/plain": [
       "\u001b[2;36m                   \u001b[0m\u001b[2;36m \u001b[0m\u001b[34mINFO    \u001b[0m Instantiating callback \u001b[1m<\u001b[0m\u001b[1;95mlightning.pytorch.callbacks.ModelCheckpoint\u001b[0m\u001b[1m>\u001b[0m   \u001b]8;id=893689;file:///home/zhang/Projects/3d/ProteinWorkshop/proteinworkshop/utils/callbacks.py\u001b\\\u001b[2mcallbacks.py\u001b[0m\u001b]8;;\u001b\\\u001b[2m:\u001b[0m\u001b]8;id=993108;file:///home/zhang/Projects/3d/ProteinWorkshop/proteinworkshop/utils/callbacks.py#31\u001b\\\u001b[2m31\u001b[0m\u001b]8;;\u001b\\\n"
      ]
     },
     "metadata": {},
     "output_type": "display_data"
    },
    {
     "data": {
      "text/html": [
       "<pre style=\"white-space:pre;overflow-x:auto;line-height:normal;font-family:Menlo,'DejaVu Sans Mono',consolas,'Courier New',monospace\"><span style=\"color: #7fbfbf; text-decoration-color: #7fbfbf\">                    </span><span style=\"color: #000080; text-decoration-color: #000080\">INFO    </span> Instantiating callback <span style=\"font-weight: bold\">&lt;</span><span style=\"color: #ff00ff; text-decoration-color: #ff00ff; font-weight: bold\">lightning.pytorch.callbacks.EarlyStopping</span><span style=\"font-weight: bold\">&gt;</span>     <a href=\"file:///home/zhang/Projects/3d/ProteinWorkshop/proteinworkshop/utils/callbacks.py\" target=\"_blank\"><span style=\"color: #7f7f7f; text-decoration-color: #7f7f7f\">callbacks.py</span></a><span style=\"color: #7f7f7f; text-decoration-color: #7f7f7f\">:</span><a href=\"file:///home/zhang/Projects/3d/ProteinWorkshop/proteinworkshop/utils/callbacks.py#31\" target=\"_blank\"><span style=\"color: #7f7f7f; text-decoration-color: #7f7f7f\">31</span></a>\n",
       "</pre>\n"
      ],
      "text/plain": [
       "\u001b[2;36m                   \u001b[0m\u001b[2;36m \u001b[0m\u001b[34mINFO    \u001b[0m Instantiating callback \u001b[1m<\u001b[0m\u001b[1;95mlightning.pytorch.callbacks.EarlyStopping\u001b[0m\u001b[1m>\u001b[0m     \u001b]8;id=455153;file:///home/zhang/Projects/3d/ProteinWorkshop/proteinworkshop/utils/callbacks.py\u001b\\\u001b[2mcallbacks.py\u001b[0m\u001b]8;;\u001b\\\u001b[2m:\u001b[0m\u001b]8;id=413071;file:///home/zhang/Projects/3d/ProteinWorkshop/proteinworkshop/utils/callbacks.py#31\u001b\\\u001b[2m31\u001b[0m\u001b]8;;\u001b\\\n"
      ]
     },
     "metadata": {},
     "output_type": "display_data"
    },
    {
     "data": {
      "text/html": [
       "<pre style=\"white-space:pre;overflow-x:auto;line-height:normal;font-family:Menlo,'DejaVu Sans Mono',consolas,'Courier New',monospace\"><span style=\"color: #7fbfbf; text-decoration-color: #7fbfbf\">                    </span><span style=\"color: #000080; text-decoration-color: #000080\">INFO    </span> Instantiating callback <span style=\"font-weight: bold\">&lt;</span><span style=\"color: #ff00ff; text-decoration-color: #ff00ff; font-weight: bold\">lightning.pytorch.callbacks.RichModelSummary</span><span style=\"font-weight: bold\">&gt;</span>  <a href=\"file:///home/zhang/Projects/3d/ProteinWorkshop/proteinworkshop/utils/callbacks.py\" target=\"_blank\"><span style=\"color: #7f7f7f; text-decoration-color: #7f7f7f\">callbacks.py</span></a><span style=\"color: #7f7f7f; text-decoration-color: #7f7f7f\">:</span><a href=\"file:///home/zhang/Projects/3d/ProteinWorkshop/proteinworkshop/utils/callbacks.py#31\" target=\"_blank\"><span style=\"color: #7f7f7f; text-decoration-color: #7f7f7f\">31</span></a>\n",
       "</pre>\n"
      ],
      "text/plain": [
       "\u001b[2;36m                   \u001b[0m\u001b[2;36m \u001b[0m\u001b[34mINFO    \u001b[0m Instantiating callback \u001b[1m<\u001b[0m\u001b[1;95mlightning.pytorch.callbacks.RichModelSummary\u001b[0m\u001b[1m>\u001b[0m  \u001b]8;id=860062;file:///home/zhang/Projects/3d/ProteinWorkshop/proteinworkshop/utils/callbacks.py\u001b\\\u001b[2mcallbacks.py\u001b[0m\u001b]8;;\u001b\\\u001b[2m:\u001b[0m\u001b]8;id=130602;file:///home/zhang/Projects/3d/ProteinWorkshop/proteinworkshop/utils/callbacks.py#31\u001b\\\u001b[2m31\u001b[0m\u001b]8;;\u001b\\\n"
      ]
     },
     "metadata": {},
     "output_type": "display_data"
    },
    {
     "data": {
      "text/html": [
       "<pre style=\"white-space:pre;overflow-x:auto;line-height:normal;font-family:Menlo,'DejaVu Sans Mono',consolas,'Courier New',monospace\"><span style=\"color: #7fbfbf; text-decoration-color: #7fbfbf\">                    </span><span style=\"color: #000080; text-decoration-color: #000080\">INFO    </span> Instantiating callback <span style=\"font-weight: bold\">&lt;</span><span style=\"color: #ff00ff; text-decoration-color: #ff00ff; font-weight: bold\">lightning.pytorch.callbacks.RichProgressBar</span><span style=\"font-weight: bold\">&gt;</span>   <a href=\"file:///home/zhang/Projects/3d/ProteinWorkshop/proteinworkshop/utils/callbacks.py\" target=\"_blank\"><span style=\"color: #7f7f7f; text-decoration-color: #7f7f7f\">callbacks.py</span></a><span style=\"color: #7f7f7f; text-decoration-color: #7f7f7f\">:</span><a href=\"file:///home/zhang/Projects/3d/ProteinWorkshop/proteinworkshop/utils/callbacks.py#31\" target=\"_blank\"><span style=\"color: #7f7f7f; text-decoration-color: #7f7f7f\">31</span></a>\n",
       "</pre>\n"
      ],
      "text/plain": [
       "\u001b[2;36m                   \u001b[0m\u001b[2;36m \u001b[0m\u001b[34mINFO    \u001b[0m Instantiating callback \u001b[1m<\u001b[0m\u001b[1;95mlightning.pytorch.callbacks.RichProgressBar\u001b[0m\u001b[1m>\u001b[0m   \u001b]8;id=537322;file:///home/zhang/Projects/3d/ProteinWorkshop/proteinworkshop/utils/callbacks.py\u001b\\\u001b[2mcallbacks.py\u001b[0m\u001b]8;;\u001b\\\u001b[2m:\u001b[0m\u001b]8;id=875045;file:///home/zhang/Projects/3d/ProteinWorkshop/proteinworkshop/utils/callbacks.py#31\u001b\\\u001b[2m31\u001b[0m\u001b]8;;\u001b\\\n"
      ]
     },
     "metadata": {},
     "output_type": "display_data"
    },
    {
     "data": {
      "text/html": [
       "<pre style=\"white-space:pre;overflow-x:auto;line-height:normal;font-family:Menlo,'DejaVu Sans Mono',consolas,'Courier New',monospace\"><span style=\"color: #7fbfbf; text-decoration-color: #7fbfbf\">                    </span><span style=\"color: #000080; text-decoration-color: #000080\">INFO    </span> Instantiating callback                                                 <a href=\"file:///home/zhang/Projects/3d/ProteinWorkshop/proteinworkshop/utils/callbacks.py\" target=\"_blank\"><span style=\"color: #7f7f7f; text-decoration-color: #7f7f7f\">callbacks.py</span></a><span style=\"color: #7f7f7f; text-decoration-color: #7f7f7f\">:</span><a href=\"file:///home/zhang/Projects/3d/ProteinWorkshop/proteinworkshop/utils/callbacks.py#31\" target=\"_blank\"><span style=\"color: #7f7f7f; text-decoration-color: #7f7f7f\">31</span></a>\n",
       "<span style=\"color: #7fbfbf; text-decoration-color: #7fbfbf\">                    </span>         <span style=\"font-weight: bold\">&lt;</span><span style=\"color: #ff00ff; text-decoration-color: #ff00ff; font-weight: bold\">lightning.pytorch.callbacks.LearningRateMonitor</span><span style=\"font-weight: bold\">&gt;</span>                      <span style=\"color: #7f7f7f; text-decoration-color: #7f7f7f\">               </span>\n",
       "</pre>\n"
      ],
      "text/plain": [
       "\u001b[2;36m                   \u001b[0m\u001b[2;36m \u001b[0m\u001b[34mINFO    \u001b[0m Instantiating callback                                                 \u001b]8;id=626227;file:///home/zhang/Projects/3d/ProteinWorkshop/proteinworkshop/utils/callbacks.py\u001b\\\u001b[2mcallbacks.py\u001b[0m\u001b]8;;\u001b\\\u001b[2m:\u001b[0m\u001b]8;id=531288;file:///home/zhang/Projects/3d/ProteinWorkshop/proteinworkshop/utils/callbacks.py#31\u001b\\\u001b[2m31\u001b[0m\u001b]8;;\u001b\\\n",
       "\u001b[2;36m                    \u001b[0m         \u001b[1m<\u001b[0m\u001b[1;95mlightning.pytorch.callbacks.LearningRateMonitor\u001b[0m\u001b[1m>\u001b[0m                      \u001b[2m               \u001b[0m\n"
      ]
     },
     "metadata": {},
     "output_type": "display_data"
    },
    {
     "data": {
      "text/html": [
       "<pre style=\"white-space:pre;overflow-x:auto;line-height:normal;font-family:Menlo,'DejaVu Sans Mono',consolas,'Courier New',monospace\"><span style=\"color: #7fbfbf; text-decoration-color: #7fbfbf\">                    </span><span style=\"color: #000080; text-decoration-color: #000080\">INFO    </span> Instantiating callback <span style=\"font-weight: bold\">&lt;</span><span style=\"color: #ff00ff; text-decoration-color: #ff00ff; font-weight: bold\">lightning.pytorch.callbacks.EarlyStopping</span><span style=\"font-weight: bold\">&gt;</span>     <a href=\"file:///home/zhang/Projects/3d/ProteinWorkshop/proteinworkshop/utils/callbacks.py\" target=\"_blank\"><span style=\"color: #7f7f7f; text-decoration-color: #7f7f7f\">callbacks.py</span></a><span style=\"color: #7f7f7f; text-decoration-color: #7f7f7f\">:</span><a href=\"file:///home/zhang/Projects/3d/ProteinWorkshop/proteinworkshop/utils/callbacks.py#31\" target=\"_blank\"><span style=\"color: #7f7f7f; text-decoration-color: #7f7f7f\">31</span></a>\n",
       "</pre>\n"
      ],
      "text/plain": [
       "\u001b[2;36m                   \u001b[0m\u001b[2;36m \u001b[0m\u001b[34mINFO    \u001b[0m Instantiating callback \u001b[1m<\u001b[0m\u001b[1;95mlightning.pytorch.callbacks.EarlyStopping\u001b[0m\u001b[1m>\u001b[0m     \u001b]8;id=66617;file:///home/zhang/Projects/3d/ProteinWorkshop/proteinworkshop/utils/callbacks.py\u001b\\\u001b[2mcallbacks.py\u001b[0m\u001b]8;;\u001b\\\u001b[2m:\u001b[0m\u001b]8;id=51296;file:///home/zhang/Projects/3d/ProteinWorkshop/proteinworkshop/utils/callbacks.py#31\u001b\\\u001b[2m31\u001b[0m\u001b]8;;\u001b\\\n"
      ]
     },
     "metadata": {},
     "output_type": "display_data"
    },
    {
     "data": {
      "text/html": [
       "<pre style=\"white-space:pre;overflow-x:auto;line-height:normal;font-family:Menlo,'DejaVu Sans Mono',consolas,'Courier New',monospace\"><span style=\"color: #7fbfbf; text-decoration-color: #7fbfbf\">                    </span><span style=\"color: #000080; text-decoration-color: #000080\">INFO    </span> Instantiating loggers<span style=\"color: #808000; text-decoration-color: #808000\">...</span>                                                  <a href=\"file:///home/zhang/Projects/3d/ProteinWorkshop/proteinworkshop/train.py\" target=\"_blank\"><span style=\"color: #7f7f7f; text-decoration-color: #7f7f7f\">train.py</span></a><span style=\"color: #7f7f7f; text-decoration-color: #7f7f7f\">:</span><a href=\"file:///home/zhang/Projects/3d/ProteinWorkshop/proteinworkshop/train.py#111\" target=\"_blank\"><span style=\"color: #7f7f7f; text-decoration-color: #7f7f7f\">111</span></a>\n",
       "</pre>\n"
      ],
      "text/plain": [
       "\u001b[2;36m                   \u001b[0m\u001b[2;36m \u001b[0m\u001b[34mINFO    \u001b[0m Instantiating loggers\u001b[33m...\u001b[0m                                                  \u001b]8;id=879858;file:///home/zhang/Projects/3d/ProteinWorkshop/proteinworkshop/train.py\u001b\\\u001b[2mtrain.py\u001b[0m\u001b]8;;\u001b\\\u001b[2m:\u001b[0m\u001b]8;id=173776;file:///home/zhang/Projects/3d/ProteinWorkshop/proteinworkshop/train.py#111\u001b\\\u001b[2m111\u001b[0m\u001b]8;;\u001b\\\n"
      ]
     },
     "metadata": {},
     "output_type": "display_data"
    },
    {
     "data": {
      "text/html": [
       "<pre style=\"white-space:pre;overflow-x:auto;line-height:normal;font-family:Menlo,'DejaVu Sans Mono',consolas,'Courier New',monospace\"><span style=\"color: #7fbfbf; text-decoration-color: #7fbfbf\">                    </span><span style=\"color: #000080; text-decoration-color: #000080\">INFO    </span> Instantiating logger <span style=\"font-weight: bold\">&lt;</span><span style=\"color: #ff00ff; text-decoration-color: #ff00ff; font-weight: bold\">lightning.pytorch.loggers.csv_logs.CSVLogger</span><span style=\"font-weight: bold\">&gt;</span>      <a href=\"file:///home/zhang/Projects/3d/ProteinWorkshop/proteinworkshop/utils/loggers.py\" target=\"_blank\"><span style=\"color: #7f7f7f; text-decoration-color: #7f7f7f\">loggers.py</span></a><span style=\"color: #7f7f7f; text-decoration-color: #7f7f7f\">:</span><a href=\"file:///home/zhang/Projects/3d/ProteinWorkshop/proteinworkshop/utils/loggers.py#31\" target=\"_blank\"><span style=\"color: #7f7f7f; text-decoration-color: #7f7f7f\">31</span></a>\n",
       "</pre>\n"
      ],
      "text/plain": [
       "\u001b[2;36m                   \u001b[0m\u001b[2;36m \u001b[0m\u001b[34mINFO    \u001b[0m Instantiating logger \u001b[1m<\u001b[0m\u001b[1;95mlightning.pytorch.loggers.csv_logs.CSVLogger\u001b[0m\u001b[1m>\u001b[0m      \u001b]8;id=108046;file:///home/zhang/Projects/3d/ProteinWorkshop/proteinworkshop/utils/loggers.py\u001b\\\u001b[2mloggers.py\u001b[0m\u001b]8;;\u001b\\\u001b[2m:\u001b[0m\u001b]8;id=897253;file:///home/zhang/Projects/3d/ProteinWorkshop/proteinworkshop/utils/loggers.py#31\u001b\\\u001b[2m31\u001b[0m\u001b]8;;\u001b\\\n"
      ]
     },
     "metadata": {},
     "output_type": "display_data"
    },
    {
     "data": {
      "text/html": [
       "<pre style=\"white-space:pre;overflow-x:auto;line-height:normal;font-family:Menlo,'DejaVu Sans Mono',consolas,'Courier New',monospace\"><span style=\"color: #7fbfbf; text-decoration-color: #7fbfbf\">                    </span><span style=\"color: #000080; text-decoration-color: #000080\">INFO    </span> Instantiating trainer<span style=\"color: #808000; text-decoration-color: #808000\">...</span>                                                  <a href=\"file:///home/zhang/Projects/3d/ProteinWorkshop/proteinworkshop/train.py\" target=\"_blank\"><span style=\"color: #7f7f7f; text-decoration-color: #7f7f7f\">train.py</span></a><span style=\"color: #7f7f7f; text-decoration-color: #7f7f7f\">:</span><a href=\"file:///home/zhang/Projects/3d/ProteinWorkshop/proteinworkshop/train.py#114\" target=\"_blank\"><span style=\"color: #7f7f7f; text-decoration-color: #7f7f7f\">114</span></a>\n",
       "</pre>\n"
      ],
      "text/plain": [
       "\u001b[2;36m                   \u001b[0m\u001b[2;36m \u001b[0m\u001b[34mINFO    \u001b[0m Instantiating trainer\u001b[33m...\u001b[0m                                                  \u001b]8;id=712247;file:///home/zhang/Projects/3d/ProteinWorkshop/proteinworkshop/train.py\u001b\\\u001b[2mtrain.py\u001b[0m\u001b]8;;\u001b\\\u001b[2m:\u001b[0m\u001b]8;id=64004;file:///home/zhang/Projects/3d/ProteinWorkshop/proteinworkshop/train.py#114\u001b\\\u001b[2m114\u001b[0m\u001b]8;;\u001b\\\n"
      ]
     },
     "metadata": {},
     "output_type": "display_data"
    },
    {
     "name": "stderr",
     "output_type": "stream",
     "text": [
      "Trainer already configured with model summary callbacks: [<class 'lightning.pytorch.callbacks.rich_model_summary.RichModelSummary'>]. Skipping setting a default `ModelSummary` callback.\n",
      "GPU available: True (cuda), used: True\n",
      "TPU available: False, using: 0 TPU cores\n",
      "HPU available: False, using: 0 HPUs\n"
     ]
    },
    {
     "data": {
      "text/html": [
       "<pre style=\"white-space:pre;overflow-x:auto;line-height:normal;font-family:Menlo,'DejaVu Sans Mono',consolas,'Courier New',monospace\"><span style=\"color: #7fbfbf; text-decoration-color: #7fbfbf\">                    </span><span style=\"color: #000080; text-decoration-color: #000080\">INFO    </span> Instantiating model<span style=\"color: #808000; text-decoration-color: #808000\">...</span>                                                    <a href=\"file:///home/zhang/Projects/3d/ProteinWorkshop/proteinworkshop/train.py\" target=\"_blank\"><span style=\"color: #7f7f7f; text-decoration-color: #7f7f7f\">train.py</span></a><span style=\"color: #7f7f7f; text-decoration-color: #7f7f7f\">:</span><a href=\"file:///home/zhang/Projects/3d/ProteinWorkshop/proteinworkshop/train.py#138\" target=\"_blank\"><span style=\"color: #7f7f7f; text-decoration-color: #7f7f7f\">138</span></a>\n",
       "</pre>\n"
      ],
      "text/plain": [
       "\u001b[2;36m                   \u001b[0m\u001b[2;36m \u001b[0m\u001b[34mINFO    \u001b[0m Instantiating model\u001b[33m...\u001b[0m                                                    \u001b]8;id=678580;file:///home/zhang/Projects/3d/ProteinWorkshop/proteinworkshop/train.py\u001b\\\u001b[2mtrain.py\u001b[0m\u001b]8;;\u001b\\\u001b[2m:\u001b[0m\u001b]8;id=942578;file:///home/zhang/Projects/3d/ProteinWorkshop/proteinworkshop/train.py#138\u001b\\\u001b[2m138\u001b[0m\u001b]8;;\u001b\\\n"
      ]
     },
     "metadata": {},
     "output_type": "display_data"
    },
    {
     "data": {
      "text/html": [
       "<pre style=\"white-space:pre;overflow-x:auto;line-height:normal;font-family:Menlo,'DejaVu Sans Mono',consolas,'Courier New',monospace\"><span style=\"color: #7fbfbf; text-decoration-color: #7fbfbf\">                    </span><span style=\"color: #000080; text-decoration-color: #000080\">INFO    </span> Instantiating encoder<span style=\"color: #808000; text-decoration-color: #808000\">...</span>                                                   <a href=\"file:///home/zhang/Projects/3d/ProteinWorkshop/proteinworkshop/models/base.py\" target=\"_blank\"><span style=\"color: #7f7f7f; text-decoration-color: #7f7f7f\">base.py</span></a><span style=\"color: #7f7f7f; text-decoration-color: #7f7f7f\">:</span><a href=\"file:///home/zhang/Projects/3d/ProteinWorkshop/proteinworkshop/models/base.py#413\" target=\"_blank\"><span style=\"color: #7f7f7f; text-decoration-color: #7f7f7f\">413</span></a>\n",
       "</pre>\n"
      ],
      "text/plain": [
       "\u001b[2;36m                   \u001b[0m\u001b[2;36m \u001b[0m\u001b[34mINFO    \u001b[0m Instantiating encoder\u001b[33m...\u001b[0m                                                   \u001b]8;id=460103;file:///home/zhang/Projects/3d/ProteinWorkshop/proteinworkshop/models/base.py\u001b\\\u001b[2mbase.py\u001b[0m\u001b]8;;\u001b\\\u001b[2m:\u001b[0m\u001b]8;id=174921;file:///home/zhang/Projects/3d/ProteinWorkshop/proteinworkshop/models/base.py#413\u001b\\\u001b[2m413\u001b[0m\u001b]8;;\u001b\\\n"
      ]
     },
     "metadata": {},
     "output_type": "display_data"
    },
    {
     "name": "stderr",
     "output_type": "stream",
     "text": [
      "/home/zhang/miniconda3/envs/3d/lib/python3.10/site-packages/torch/nn/modules/lazy.py:180: UserWarning:\n",
      "\n",
      "Lazy modules are a new feature under heavy development so changes to the API or functionality can happen at any moment.\n",
      "\n"
     ]
    },
    {
     "data": {
      "text/html": [
       "<pre style=\"white-space:pre;overflow-x:auto;line-height:normal;font-family:Menlo,'DejaVu Sans Mono',consolas,'Courier New',monospace\"><span style=\"color: #7fbfbf; text-decoration-color: #7fbfbf\">                    </span><span style=\"color: #000080; text-decoration-color: #000080\">INFO    </span> <span style=\"color: #800080; text-decoration-color: #800080; font-weight: bold\">SchNetModel</span><span style=\"font-weight: bold\">(</span><span style=\"color: #808000; text-decoration-color: #808000\">hidden_channels</span>=<span style=\"color: #008080; text-decoration-color: #008080; font-weight: bold\">512</span>, <span style=\"color: #808000; text-decoration-color: #808000\">num_filters</span>=<span style=\"color: #008080; text-decoration-color: #008080; font-weight: bold\">128</span>, <span style=\"color: #808000; text-decoration-color: #808000\">num_interactions</span>=<span style=\"color: #008080; text-decoration-color: #008080; font-weight: bold\">6</span>,      <a href=\"file:///home/zhang/Projects/3d/ProteinWorkshop/proteinworkshop/models/base.py\" target=\"_blank\"><span style=\"color: #7f7f7f; text-decoration-color: #7f7f7f\">base.py</span></a><span style=\"color: #7f7f7f; text-decoration-color: #7f7f7f\">:</span><a href=\"file:///home/zhang/Projects/3d/ProteinWorkshop/proteinworkshop/models/base.py#415\" target=\"_blank\"><span style=\"color: #7f7f7f; text-decoration-color: #7f7f7f\">415</span></a>\n",
       "<span style=\"color: #7fbfbf; text-decoration-color: #7fbfbf\">                    </span>         <span style=\"color: #808000; text-decoration-color: #808000\">num_gaussians</span>=<span style=\"color: #008080; text-decoration-color: #008080; font-weight: bold\">50</span>, <span style=\"color: #808000; text-decoration-color: #808000\">cutoff</span>=<span style=\"color: #008080; text-decoration-color: #008080; font-weight: bold\">10.0</span><span style=\"font-weight: bold\">)</span>                                             <span style=\"color: #7f7f7f; text-decoration-color: #7f7f7f\">           </span>\n",
       "</pre>\n"
      ],
      "text/plain": [
       "\u001b[2;36m                   \u001b[0m\u001b[2;36m \u001b[0m\u001b[34mINFO    \u001b[0m \u001b[1;35mSchNetModel\u001b[0m\u001b[1m(\u001b[0m\u001b[33mhidden_channels\u001b[0m=\u001b[1;36m512\u001b[0m, \u001b[33mnum_filters\u001b[0m=\u001b[1;36m128\u001b[0m, \u001b[33mnum_interactions\u001b[0m=\u001b[1;36m6\u001b[0m,      \u001b]8;id=52530;file:///home/zhang/Projects/3d/ProteinWorkshop/proteinworkshop/models/base.py\u001b\\\u001b[2mbase.py\u001b[0m\u001b]8;;\u001b\\\u001b[2m:\u001b[0m\u001b]8;id=918957;file:///home/zhang/Projects/3d/ProteinWorkshop/proteinworkshop/models/base.py#415\u001b\\\u001b[2m415\u001b[0m\u001b]8;;\u001b\\\n",
       "\u001b[2;36m                    \u001b[0m         \u001b[33mnum_gaussians\u001b[0m=\u001b[1;36m50\u001b[0m, \u001b[33mcutoff\u001b[0m=\u001b[1;36m10\u001b[0m\u001b[1;36m.0\u001b[0m\u001b[1m)\u001b[0m                                             \u001b[2m           \u001b[0m\n"
      ]
     },
     "metadata": {},
     "output_type": "display_data"
    },
    {
     "data": {
      "text/html": [
       "<pre style=\"white-space:pre;overflow-x:auto;line-height:normal;font-family:Menlo,'DejaVu Sans Mono',consolas,'Courier New',monospace\"><span style=\"color: #7fbfbf; text-decoration-color: #7fbfbf\">                    </span><span style=\"color: #000080; text-decoration-color: #000080\">INFO    </span> Instantiating decoders<span style=\"color: #808000; text-decoration-color: #808000\">...</span>                                                  <a href=\"file:///home/zhang/Projects/3d/ProteinWorkshop/proteinworkshop/models/base.py\" target=\"_blank\"><span style=\"color: #7f7f7f; text-decoration-color: #7f7f7f\">base.py</span></a><span style=\"color: #7f7f7f; text-decoration-color: #7f7f7f\">:</span><a href=\"file:///home/zhang/Projects/3d/ProteinWorkshop/proteinworkshop/models/base.py#417\" target=\"_blank\"><span style=\"color: #7f7f7f; text-decoration-color: #7f7f7f\">417</span></a>\n",
       "</pre>\n"
      ],
      "text/plain": [
       "\u001b[2;36m                   \u001b[0m\u001b[2;36m \u001b[0m\u001b[34mINFO    \u001b[0m Instantiating decoders\u001b[33m...\u001b[0m                                                  \u001b]8;id=704519;file:///home/zhang/Projects/3d/ProteinWorkshop/proteinworkshop/models/base.py\u001b\\\u001b[2mbase.py\u001b[0m\u001b]8;;\u001b\\\u001b[2m:\u001b[0m\u001b]8;id=633843;file:///home/zhang/Projects/3d/ProteinWorkshop/proteinworkshop/models/base.py#417\u001b\\\u001b[2m417\u001b[0m\u001b]8;;\u001b\\\n"
      ]
     },
     "metadata": {},
     "output_type": "display_data"
    },
    {
     "data": {
      "text/html": [
       "<pre style=\"white-space:pre;overflow-x:auto;line-height:normal;font-family:Menlo,'DejaVu Sans Mono',consolas,'Courier New',monospace\"><span style=\"color: #7fbfbf; text-decoration-color: #7fbfbf\">                    </span><span style=\"color: #000080; text-decoration-color: #000080\">INFO    </span> Building graph_label decoder. Output dim <span style=\"color: #008080; text-decoration-color: #008080; font-weight: bold\">1195</span>                              <a href=\"file:///home/zhang/Projects/3d/ProteinWorkshop/proteinworkshop/models/base.py\" target=\"_blank\"><span style=\"color: #7f7f7f; text-decoration-color: #7f7f7f\">base.py</span></a><span style=\"color: #7f7f7f; text-decoration-color: #7f7f7f\">:</span><a href=\"file:///home/zhang/Projects/3d/ProteinWorkshop/proteinworkshop/models/base.py#252\" target=\"_blank\"><span style=\"color: #7f7f7f; text-decoration-color: #7f7f7f\">252</span></a>\n",
       "</pre>\n"
      ],
      "text/plain": [
       "\u001b[2;36m                   \u001b[0m\u001b[2;36m \u001b[0m\u001b[34mINFO    \u001b[0m Building graph_label decoder. Output dim \u001b[1;36m1195\u001b[0m                              \u001b]8;id=518969;file:///home/zhang/Projects/3d/ProteinWorkshop/proteinworkshop/models/base.py\u001b\\\u001b[2mbase.py\u001b[0m\u001b]8;;\u001b\\\u001b[2m:\u001b[0m\u001b]8;id=943054;file:///home/zhang/Projects/3d/ProteinWorkshop/proteinworkshop/models/base.py#252\u001b\\\u001b[2m252\u001b[0m\u001b]8;;\u001b\\\n"
      ]
     },
     "metadata": {},
     "output_type": "display_data"
    },
    {
     "data": {
      "text/html": [
       "<pre style=\"white-space:pre;overflow-x:auto;line-height:normal;font-family:Menlo,'DejaVu Sans Mono',consolas,'Courier New',monospace\"><span style=\"color: #7fbfbf; text-decoration-color: #7fbfbf\">                    </span><span style=\"color: #000080; text-decoration-color: #000080\">INFO    </span> <span style=\"font-weight: bold\">{</span><span style=\"color: #008000; text-decoration-color: #008000\">'_target_'</span>: <span style=\"color: #008000; text-decoration-color: #008000\">'proteinworkshop.models.decoders.mlp_decoder.MLPDecoder'</span>,     <a href=\"file:///home/zhang/Projects/3d/ProteinWorkshop/proteinworkshop/models/base.py\" target=\"_blank\"><span style=\"color: #7f7f7f; text-decoration-color: #7f7f7f\">base.py</span></a><span style=\"color: #7f7f7f; text-decoration-color: #7f7f7f\">:</span><a href=\"file:///home/zhang/Projects/3d/ProteinWorkshop/proteinworkshop/models/base.py#255\" target=\"_blank\"><span style=\"color: #7f7f7f; text-decoration-color: #7f7f7f\">255</span></a>\n",
       "<span style=\"color: #7fbfbf; text-decoration-color: #7fbfbf\">                    </span>         <span style=\"color: #008000; text-decoration-color: #008000\">'hidden_dim'</span>: <span style=\"font-weight: bold\">[</span><span style=\"color: #008080; text-decoration-color: #008080; font-weight: bold\">512</span>, <span style=\"color: #008080; text-decoration-color: #008080; font-weight: bold\">512</span>, <span style=\"color: #008080; text-decoration-color: #008080; font-weight: bold\">512</span><span style=\"font-weight: bold\">]</span>, <span style=\"color: #008000; text-decoration-color: #008000\">'dropout'</span>: <span style=\"color: #008080; text-decoration-color: #008080; font-weight: bold\">0.0</span>, <span style=\"color: #008000; text-decoration-color: #008000\">'activations'</span>: <span style=\"font-weight: bold\">[</span><span style=\"color: #008000; text-decoration-color: #008000\">'relu'</span>,     <span style=\"color: #7f7f7f; text-decoration-color: #7f7f7f\">           </span>\n",
       "<span style=\"color: #7fbfbf; text-decoration-color: #7fbfbf\">                    </span>         <span style=\"color: #008000; text-decoration-color: #008000\">'relu'</span>, <span style=\"color: #008000; text-decoration-color: #008000\">'relu'</span>, <span style=\"color: #008000; text-decoration-color: #008000\">'none'</span><span style=\"font-weight: bold\">]</span>, <span style=\"color: #008000; text-decoration-color: #008000\">'skip'</span>: <span style=\"color: #008000; text-decoration-color: #008000\">'concat'</span>, <span style=\"color: #008000; text-decoration-color: #008000\">'out_dim'</span>:                      <span style=\"color: #7f7f7f; text-decoration-color: #7f7f7f\">           </span>\n",
       "<span style=\"color: #7fbfbf; text-decoration-color: #7fbfbf\">                    </span>         <span style=\"color: #008000; text-decoration-color: #008000\">'${dataset.num_classes}'</span>, <span style=\"color: #008000; text-decoration-color: #008000\">'input'</span>: <span style=\"color: #008000; text-decoration-color: #008000\">'graph_embedding'</span>, <span style=\"color: #008000; text-decoration-color: #008000\">'dummy'</span>: <span style=\"color: #ff0000; text-decoration-color: #ff0000; font-style: italic\">False</span><span style=\"font-weight: bold\">}</span>      <span style=\"color: #7f7f7f; text-decoration-color: #7f7f7f\">           </span>\n",
       "</pre>\n"
      ],
      "text/plain": [
       "\u001b[2;36m                   \u001b[0m\u001b[2;36m \u001b[0m\u001b[34mINFO    \u001b[0m \u001b[1m{\u001b[0m\u001b[32m'_target_'\u001b[0m: \u001b[32m'proteinworkshop.models.decoders.mlp_decoder.MLPDecoder'\u001b[0m,     \u001b]8;id=43351;file:///home/zhang/Projects/3d/ProteinWorkshop/proteinworkshop/models/base.py\u001b\\\u001b[2mbase.py\u001b[0m\u001b]8;;\u001b\\\u001b[2m:\u001b[0m\u001b]8;id=496042;file:///home/zhang/Projects/3d/ProteinWorkshop/proteinworkshop/models/base.py#255\u001b\\\u001b[2m255\u001b[0m\u001b]8;;\u001b\\\n",
       "\u001b[2;36m                    \u001b[0m         \u001b[32m'hidden_dim'\u001b[0m: \u001b[1m[\u001b[0m\u001b[1;36m512\u001b[0m, \u001b[1;36m512\u001b[0m, \u001b[1;36m512\u001b[0m\u001b[1m]\u001b[0m, \u001b[32m'dropout'\u001b[0m: \u001b[1;36m0.0\u001b[0m, \u001b[32m'activations'\u001b[0m: \u001b[1m[\u001b[0m\u001b[32m'relu'\u001b[0m,     \u001b[2m           \u001b[0m\n",
       "\u001b[2;36m                    \u001b[0m         \u001b[32m'relu'\u001b[0m, \u001b[32m'relu'\u001b[0m, \u001b[32m'none'\u001b[0m\u001b[1m]\u001b[0m, \u001b[32m'skip'\u001b[0m: \u001b[32m'concat'\u001b[0m, \u001b[32m'out_dim'\u001b[0m:                      \u001b[2m           \u001b[0m\n",
       "\u001b[2;36m                    \u001b[0m         \u001b[32m'$\u001b[0m\u001b[32m{\u001b[0m\u001b[32mdataset.num_classes\u001b[0m\u001b[32m}\u001b[0m\u001b[32m'\u001b[0m, \u001b[32m'input'\u001b[0m: \u001b[32m'graph_embedding'\u001b[0m, \u001b[32m'dummy'\u001b[0m: \u001b[3;91mFalse\u001b[0m\u001b[1m}\u001b[0m      \u001b[2m           \u001b[0m\n"
      ]
     },
     "metadata": {},
     "output_type": "display_data"
    },
    {
     "data": {
      "text/html": [
       "<pre style=\"white-space:pre;overflow-x:auto;line-height:normal;font-family:Menlo,'DejaVu Sans Mono',consolas,'Courier New',monospace\"><span style=\"color: #7fbfbf; text-decoration-color: #7fbfbf\">                    </span><span style=\"color: #000080; text-decoration-color: #000080\">INFO    </span> Using skip connection in decoder.                                   <a href=\"file:///home/zhang/Projects/3d/ProteinWorkshop/proteinworkshop/models/decoders/mlp_decoder.py\" target=\"_blank\"><span style=\"color: #7f7f7f; text-decoration-color: #7f7f7f\">mlp_decoder.py</span></a><span style=\"color: #7f7f7f; text-decoration-color: #7f7f7f\">:</span><a href=\"file:///home/zhang/Projects/3d/ProteinWorkshop/proteinworkshop/models/decoders/mlp_decoder.py#125\" target=\"_blank\"><span style=\"color: #7f7f7f; text-decoration-color: #7f7f7f\">125</span></a>\n",
       "</pre>\n"
      ],
      "text/plain": [
       "\u001b[2;36m                   \u001b[0m\u001b[2;36m \u001b[0m\u001b[34mINFO    \u001b[0m Using skip connection in decoder.                                   \u001b]8;id=676294;file:///home/zhang/Projects/3d/ProteinWorkshop/proteinworkshop/models/decoders/mlp_decoder.py\u001b\\\u001b[2mmlp_decoder.py\u001b[0m\u001b]8;;\u001b\\\u001b[2m:\u001b[0m\u001b]8;id=90416;file:///home/zhang/Projects/3d/ProteinWorkshop/proteinworkshop/models/decoders/mlp_decoder.py#125\u001b\\\u001b[2m125\u001b[0m\u001b]8;;\u001b\\\n"
      ]
     },
     "metadata": {},
     "output_type": "display_data"
    },
    {
     "data": {
      "text/html": [
       "<pre style=\"white-space:pre;overflow-x:auto;line-height:normal;font-family:Menlo,'DejaVu Sans Mono',consolas,'Courier New',monospace\"><span style=\"color: #7fbfbf; text-decoration-color: #7fbfbf\">                    </span><span style=\"color: #000080; text-decoration-color: #000080\">INFO    </span> <span style=\"color: #800080; text-decoration-color: #800080; font-weight: bold\">ModuleDict</span><span style=\"font-weight: bold\">(</span>                                                                <a href=\"file:///home/zhang/Projects/3d/ProteinWorkshop/proteinworkshop/models/base.py\" target=\"_blank\"><span style=\"color: #7f7f7f; text-decoration-color: #7f7f7f\">base.py</span></a><span style=\"color: #7f7f7f; text-decoration-color: #7f7f7f\">:</span><a href=\"file:///home/zhang/Projects/3d/ProteinWorkshop/proteinworkshop/models/base.py#419\" target=\"_blank\"><span style=\"color: #7f7f7f; text-decoration-color: #7f7f7f\">419</span></a>\n",
       "<span style=\"color: #7fbfbf; text-decoration-color: #7fbfbf\">                    </span>           <span style=\"font-weight: bold\">(</span>graph_label<span style=\"font-weight: bold\">)</span>: <span style=\"color: #800080; text-decoration-color: #800080; font-weight: bold\">MLPDecoder</span><span style=\"font-weight: bold\">(</span>                                               <span style=\"color: #7f7f7f; text-decoration-color: #7f7f7f\">           </span>\n",
       "<span style=\"color: #7fbfbf; text-decoration-color: #7fbfbf\">                    </span>             <span style=\"font-weight: bold\">(</span>layers<span style=\"font-weight: bold\">)</span>: <span style=\"color: #800080; text-decoration-color: #800080; font-weight: bold\">LinearSkipBlock</span><span style=\"font-weight: bold\">(</span>                                             <span style=\"color: #7f7f7f; text-decoration-color: #7f7f7f\">           </span>\n",
       "<span style=\"color: #7fbfbf; text-decoration-color: #7fbfbf\">                    </span>               <span style=\"font-weight: bold\">(</span>layers<span style=\"font-weight: bold\">)</span>: <span style=\"color: #800080; text-decoration-color: #800080; font-weight: bold\">ModuleList</span><span style=\"font-weight: bold\">(</span>                                                <span style=\"color: #7f7f7f; text-decoration-color: #7f7f7f\">           </span>\n",
       "<span style=\"color: #7fbfbf; text-decoration-color: #7fbfbf\">                    </span>                 <span style=\"font-weight: bold\">(</span><span style=\"color: #008080; text-decoration-color: #008080; font-weight: bold\">0</span>-<span style=\"color: #008080; text-decoration-color: #008080; font-weight: bold\">2</span><span style=\"font-weight: bold\">)</span>: <span style=\"color: #008080; text-decoration-color: #008080; font-weight: bold\">3</span> x <span style=\"color: #800080; text-decoration-color: #800080; font-weight: bold\">LazyLinear</span><span style=\"font-weight: bold\">(</span><span style=\"color: #808000; text-decoration-color: #808000\">in_features</span>=<span style=\"color: #008080; text-decoration-color: #008080; font-weight: bold\">0</span>, <span style=\"color: #808000; text-decoration-color: #808000\">out_features</span>=<span style=\"color: #008080; text-decoration-color: #008080; font-weight: bold\">512</span>, <span style=\"color: #808000; text-decoration-color: #808000\">bias</span>=<span style=\"color: #00ff00; text-decoration-color: #00ff00; font-style: italic\">True</span><span style=\"font-weight: bold\">)</span>  <span style=\"color: #7f7f7f; text-decoration-color: #7f7f7f\">           </span>\n",
       "<span style=\"color: #7fbfbf; text-decoration-color: #7fbfbf\">                    </span>                 <span style=\"font-weight: bold\">(</span><span style=\"color: #008080; text-decoration-color: #008080; font-weight: bold\">3</span><span style=\"font-weight: bold\">)</span>: <span style=\"color: #800080; text-decoration-color: #800080; font-weight: bold\">LazyLinear</span><span style=\"font-weight: bold\">(</span><span style=\"color: #808000; text-decoration-color: #808000\">in_features</span>=<span style=\"color: #008080; text-decoration-color: #008080; font-weight: bold\">0</span>, <span style=\"color: #808000; text-decoration-color: #808000\">out_features</span>=<span style=\"color: #008080; text-decoration-color: #008080; font-weight: bold\">1195</span>, <span style=\"color: #808000; text-decoration-color: #808000\">bias</span>=<span style=\"color: #00ff00; text-decoration-color: #00ff00; font-style: italic\">True</span><span style=\"font-weight: bold\">)</span>       <span style=\"color: #7f7f7f; text-decoration-color: #7f7f7f\">           </span>\n",
       "<span style=\"color: #7fbfbf; text-decoration-color: #7fbfbf\">                    </span>               <span style=\"font-weight: bold\">)</span>                                                                    <span style=\"color: #7f7f7f; text-decoration-color: #7f7f7f\">           </span>\n",
       "<span style=\"color: #7fbfbf; text-decoration-color: #7fbfbf\">                    </span>               <span style=\"font-weight: bold\">(</span>activations<span style=\"font-weight: bold\">)</span>: <span style=\"color: #800080; text-decoration-color: #800080; font-weight: bold\">ModuleList</span><span style=\"font-weight: bold\">(</span>                                           <span style=\"color: #7f7f7f; text-decoration-color: #7f7f7f\">           </span>\n",
       "<span style=\"color: #7fbfbf; text-decoration-color: #7fbfbf\">                    </span>                 <span style=\"font-weight: bold\">(</span><span style=\"color: #008080; text-decoration-color: #008080; font-weight: bold\">0</span>-<span style=\"color: #008080; text-decoration-color: #008080; font-weight: bold\">2</span><span style=\"font-weight: bold\">)</span>: <span style=\"color: #008080; text-decoration-color: #008080; font-weight: bold\">3</span> x <span style=\"color: #800080; text-decoration-color: #800080; font-weight: bold\">ReLU</span><span style=\"font-weight: bold\">()</span>                                                  <span style=\"color: #7f7f7f; text-decoration-color: #7f7f7f\">           </span>\n",
       "<span style=\"color: #7fbfbf; text-decoration-color: #7fbfbf\">                    </span>                 <span style=\"font-weight: bold\">(</span><span style=\"color: #008080; text-decoration-color: #008080; font-weight: bold\">3</span><span style=\"font-weight: bold\">)</span>: <span style=\"color: #800080; text-decoration-color: #800080; font-weight: bold\">Identity</span><span style=\"font-weight: bold\">()</span>                                                    <span style=\"color: #7f7f7f; text-decoration-color: #7f7f7f\">           </span>\n",
       "<span style=\"color: #7fbfbf; text-decoration-color: #7fbfbf\">                    </span>               <span style=\"font-weight: bold\">)</span>                                                                    <span style=\"color: #7f7f7f; text-decoration-color: #7f7f7f\">           </span>\n",
       "<span style=\"color: #7fbfbf; text-decoration-color: #7fbfbf\">                    </span>               <span style=\"font-weight: bold\">(</span>dropout_layers<span style=\"font-weight: bold\">)</span>: <span style=\"color: #800080; text-decoration-color: #800080; font-weight: bold\">ModuleList</span><span style=\"font-weight: bold\">(</span>                                        <span style=\"color: #7f7f7f; text-decoration-color: #7f7f7f\">           </span>\n",
       "<span style=\"color: #7fbfbf; text-decoration-color: #7fbfbf\">                    </span>                 <span style=\"font-weight: bold\">(</span><span style=\"color: #008080; text-decoration-color: #008080; font-weight: bold\">0</span>-<span style=\"color: #008080; text-decoration-color: #008080; font-weight: bold\">2</span><span style=\"font-weight: bold\">)</span>: <span style=\"color: #008080; text-decoration-color: #008080; font-weight: bold\">3</span> x <span style=\"color: #800080; text-decoration-color: #800080; font-weight: bold\">Dropout</span><span style=\"font-weight: bold\">(</span><span style=\"color: #808000; text-decoration-color: #808000\">p</span>=<span style=\"color: #008080; text-decoration-color: #008080; font-weight: bold\">0.0</span>, <span style=\"color: #808000; text-decoration-color: #808000\">inplace</span>=<span style=\"color: #ff0000; text-decoration-color: #ff0000; font-style: italic\">False</span><span style=\"font-weight: bold\">)</span>                           <span style=\"color: #7f7f7f; text-decoration-color: #7f7f7f\">           </span>\n",
       "<span style=\"color: #7fbfbf; text-decoration-color: #7fbfbf\">                    </span>               <span style=\"font-weight: bold\">)</span>                                                                    <span style=\"color: #7f7f7f; text-decoration-color: #7f7f7f\">           </span>\n",
       "<span style=\"color: #7fbfbf; text-decoration-color: #7fbfbf\">                    </span>             <span style=\"font-weight: bold\">)</span>                                                                      <span style=\"color: #7f7f7f; text-decoration-color: #7f7f7f\">           </span>\n",
       "<span style=\"color: #7fbfbf; text-decoration-color: #7fbfbf\">                    </span>           <span style=\"font-weight: bold\">)</span>                                                                        <span style=\"color: #7f7f7f; text-decoration-color: #7f7f7f\">           </span>\n",
       "<span style=\"color: #7fbfbf; text-decoration-color: #7fbfbf\">                    </span>         <span style=\"font-weight: bold\">)</span>                                                                          <span style=\"color: #7f7f7f; text-decoration-color: #7f7f7f\">           </span>\n",
       "</pre>\n"
      ],
      "text/plain": [
       "\u001b[2;36m                   \u001b[0m\u001b[2;36m \u001b[0m\u001b[34mINFO    \u001b[0m \u001b[1;35mModuleDict\u001b[0m\u001b[1m(\u001b[0m                                                                \u001b]8;id=846692;file:///home/zhang/Projects/3d/ProteinWorkshop/proteinworkshop/models/base.py\u001b\\\u001b[2mbase.py\u001b[0m\u001b]8;;\u001b\\\u001b[2m:\u001b[0m\u001b]8;id=322461;file:///home/zhang/Projects/3d/ProteinWorkshop/proteinworkshop/models/base.py#419\u001b\\\u001b[2m419\u001b[0m\u001b]8;;\u001b\\\n",
       "\u001b[2;36m                    \u001b[0m           \u001b[1m(\u001b[0mgraph_label\u001b[1m)\u001b[0m: \u001b[1;35mMLPDecoder\u001b[0m\u001b[1m(\u001b[0m                                               \u001b[2m           \u001b[0m\n",
       "\u001b[2;36m                    \u001b[0m             \u001b[1m(\u001b[0mlayers\u001b[1m)\u001b[0m: \u001b[1;35mLinearSkipBlock\u001b[0m\u001b[1m(\u001b[0m                                             \u001b[2m           \u001b[0m\n",
       "\u001b[2;36m                    \u001b[0m               \u001b[1m(\u001b[0mlayers\u001b[1m)\u001b[0m: \u001b[1;35mModuleList\u001b[0m\u001b[1m(\u001b[0m                                                \u001b[2m           \u001b[0m\n",
       "\u001b[2;36m                    \u001b[0m                 \u001b[1m(\u001b[0m\u001b[1;36m0\u001b[0m-\u001b[1;36m2\u001b[0m\u001b[1m)\u001b[0m: \u001b[1;36m3\u001b[0m x \u001b[1;35mLazyLinear\u001b[0m\u001b[1m(\u001b[0m\u001b[33min_features\u001b[0m=\u001b[1;36m0\u001b[0m, \u001b[33mout_features\u001b[0m=\u001b[1;36m512\u001b[0m, \u001b[33mbias\u001b[0m=\u001b[3;92mTrue\u001b[0m\u001b[1m)\u001b[0m  \u001b[2m           \u001b[0m\n",
       "\u001b[2;36m                    \u001b[0m                 \u001b[1m(\u001b[0m\u001b[1;36m3\u001b[0m\u001b[1m)\u001b[0m: \u001b[1;35mLazyLinear\u001b[0m\u001b[1m(\u001b[0m\u001b[33min_features\u001b[0m=\u001b[1;36m0\u001b[0m, \u001b[33mout_features\u001b[0m=\u001b[1;36m1195\u001b[0m, \u001b[33mbias\u001b[0m=\u001b[3;92mTrue\u001b[0m\u001b[1m)\u001b[0m       \u001b[2m           \u001b[0m\n",
       "\u001b[2;36m                    \u001b[0m               \u001b[1m)\u001b[0m                                                                    \u001b[2m           \u001b[0m\n",
       "\u001b[2;36m                    \u001b[0m               \u001b[1m(\u001b[0mactivations\u001b[1m)\u001b[0m: \u001b[1;35mModuleList\u001b[0m\u001b[1m(\u001b[0m                                           \u001b[2m           \u001b[0m\n",
       "\u001b[2;36m                    \u001b[0m                 \u001b[1m(\u001b[0m\u001b[1;36m0\u001b[0m-\u001b[1;36m2\u001b[0m\u001b[1m)\u001b[0m: \u001b[1;36m3\u001b[0m x \u001b[1;35mReLU\u001b[0m\u001b[1m(\u001b[0m\u001b[1m)\u001b[0m                                                  \u001b[2m           \u001b[0m\n",
       "\u001b[2;36m                    \u001b[0m                 \u001b[1m(\u001b[0m\u001b[1;36m3\u001b[0m\u001b[1m)\u001b[0m: \u001b[1;35mIdentity\u001b[0m\u001b[1m(\u001b[0m\u001b[1m)\u001b[0m                                                    \u001b[2m           \u001b[0m\n",
       "\u001b[2;36m                    \u001b[0m               \u001b[1m)\u001b[0m                                                                    \u001b[2m           \u001b[0m\n",
       "\u001b[2;36m                    \u001b[0m               \u001b[1m(\u001b[0mdropout_layers\u001b[1m)\u001b[0m: \u001b[1;35mModuleList\u001b[0m\u001b[1m(\u001b[0m                                        \u001b[2m           \u001b[0m\n",
       "\u001b[2;36m                    \u001b[0m                 \u001b[1m(\u001b[0m\u001b[1;36m0\u001b[0m-\u001b[1;36m2\u001b[0m\u001b[1m)\u001b[0m: \u001b[1;36m3\u001b[0m x \u001b[1;35mDropout\u001b[0m\u001b[1m(\u001b[0m\u001b[33mp\u001b[0m=\u001b[1;36m0\u001b[0m\u001b[1;36m.0\u001b[0m, \u001b[33minplace\u001b[0m=\u001b[3;91mFalse\u001b[0m\u001b[1m)\u001b[0m                           \u001b[2m           \u001b[0m\n",
       "\u001b[2;36m                    \u001b[0m               \u001b[1m)\u001b[0m                                                                    \u001b[2m           \u001b[0m\n",
       "\u001b[2;36m                    \u001b[0m             \u001b[1m)\u001b[0m                                                                      \u001b[2m           \u001b[0m\n",
       "\u001b[2;36m                    \u001b[0m           \u001b[1m)\u001b[0m                                                                        \u001b[2m           \u001b[0m\n",
       "\u001b[2;36m                    \u001b[0m         \u001b[1m)\u001b[0m                                                                          \u001b[2m           \u001b[0m\n"
      ]
     },
     "metadata": {},
     "output_type": "display_data"
    },
    {
     "data": {
      "text/html": [
       "<pre style=\"white-space:pre;overflow-x:auto;line-height:normal;font-family:Menlo,'DejaVu Sans Mono',consolas,'Courier New',monospace\"><span style=\"color: #7fbfbf; text-decoration-color: #7fbfbf\">                    </span><span style=\"color: #000080; text-decoration-color: #000080\">INFO    </span> Instantiating losses<span style=\"color: #808000; text-decoration-color: #808000\">...</span>                                                    <a href=\"file:///home/zhang/Projects/3d/ProteinWorkshop/proteinworkshop/models/base.py\" target=\"_blank\"><span style=\"color: #7f7f7f; text-decoration-color: #7f7f7f\">base.py</span></a><span style=\"color: #7f7f7f; text-decoration-color: #7f7f7f\">:</span><a href=\"file:///home/zhang/Projects/3d/ProteinWorkshop/proteinworkshop/models/base.py#421\" target=\"_blank\"><span style=\"color: #7f7f7f; text-decoration-color: #7f7f7f\">421</span></a>\n",
       "</pre>\n"
      ],
      "text/plain": [
       "\u001b[2;36m                   \u001b[0m\u001b[2;36m \u001b[0m\u001b[34mINFO    \u001b[0m Instantiating losses\u001b[33m...\u001b[0m                                                    \u001b]8;id=615662;file:///home/zhang/Projects/3d/ProteinWorkshop/proteinworkshop/models/base.py\u001b\\\u001b[2mbase.py\u001b[0m\u001b]8;;\u001b\\\u001b[2m:\u001b[0m\u001b]8;id=39818;file:///home/zhang/Projects/3d/ProteinWorkshop/proteinworkshop/models/base.py#421\u001b\\\u001b[2m421\u001b[0m\u001b]8;;\u001b\\\n"
      ]
     },
     "metadata": {},
     "output_type": "display_data"
    },
    {
     "data": {
      "text/html": [
       "<pre style=\"white-space:pre;overflow-x:auto;line-height:normal;font-family:Menlo,'DejaVu Sans Mono',consolas,'Courier New',monospace\"><span style=\"color: #7fbfbf; text-decoration-color: #7fbfbf\">                    </span><span style=\"color: #000080; text-decoration-color: #000080\">INFO    </span> Using losses: <span style=\"font-weight: bold\">{</span><span style=\"color: #008000; text-decoration-color: #008000\">'graph_label'</span>: <span style=\"color: #800080; text-decoration-color: #800080; font-weight: bold\">CrossEntropyLoss</span><span style=\"font-weight: bold\">()}</span>                          <a href=\"file:///home/zhang/Projects/3d/ProteinWorkshop/proteinworkshop/models/base.py\" target=\"_blank\"><span style=\"color: #7f7f7f; text-decoration-color: #7f7f7f\">base.py</span></a><span style=\"color: #7f7f7f; text-decoration-color: #7f7f7f\">:</span><a href=\"file:///home/zhang/Projects/3d/ProteinWorkshop/proteinworkshop/models/base.py#423\" target=\"_blank\"><span style=\"color: #7f7f7f; text-decoration-color: #7f7f7f\">423</span></a>\n",
       "</pre>\n"
      ],
      "text/plain": [
       "\u001b[2;36m                   \u001b[0m\u001b[2;36m \u001b[0m\u001b[34mINFO    \u001b[0m Using losses: \u001b[1m{\u001b[0m\u001b[32m'graph_label'\u001b[0m: \u001b[1;35mCrossEntropyLoss\u001b[0m\u001b[1m(\u001b[0m\u001b[1m)\u001b[0m\u001b[1m}\u001b[0m                          \u001b]8;id=868316;file:///home/zhang/Projects/3d/ProteinWorkshop/proteinworkshop/models/base.py\u001b\\\u001b[2mbase.py\u001b[0m\u001b]8;;\u001b\\\u001b[2m:\u001b[0m\u001b]8;id=130358;file:///home/zhang/Projects/3d/ProteinWorkshop/proteinworkshop/models/base.py#423\u001b\\\u001b[2m423\u001b[0m\u001b]8;;\u001b\\\n"
      ]
     },
     "metadata": {},
     "output_type": "display_data"
    },
    {
     "data": {
      "text/html": [
       "<pre style=\"white-space:pre;overflow-x:auto;line-height:normal;font-family:Menlo,'DejaVu Sans Mono',consolas,'Courier New',monospace\"><span style=\"color: #7fbfbf; text-decoration-color: #7fbfbf\">                    </span><span style=\"color: #000080; text-decoration-color: #000080\">INFO    </span> Not using aux loss scaling                                                 <a href=\"file:///home/zhang/Projects/3d/ProteinWorkshop/proteinworkshop/models/base.py\" target=\"_blank\"><span style=\"color: #7f7f7f; text-decoration-color: #7f7f7f\">base.py</span></a><span style=\"color: #7f7f7f; text-decoration-color: #7f7f7f\">:</span><a href=\"file:///home/zhang/Projects/3d/ProteinWorkshop/proteinworkshop/models/base.py#430\" target=\"_blank\"><span style=\"color: #7f7f7f; text-decoration-color: #7f7f7f\">430</span></a>\n",
       "</pre>\n"
      ],
      "text/plain": [
       "\u001b[2;36m                   \u001b[0m\u001b[2;36m \u001b[0m\u001b[34mINFO    \u001b[0m Not using aux loss scaling                                                 \u001b]8;id=861625;file:///home/zhang/Projects/3d/ProteinWorkshop/proteinworkshop/models/base.py\u001b\\\u001b[2mbase.py\u001b[0m\u001b]8;;\u001b\\\u001b[2m:\u001b[0m\u001b]8;id=928030;file:///home/zhang/Projects/3d/ProteinWorkshop/proteinworkshop/models/base.py#430\u001b\\\u001b[2m430\u001b[0m\u001b]8;;\u001b\\\n"
      ]
     },
     "metadata": {},
     "output_type": "display_data"
    },
    {
     "data": {
      "text/html": [
       "<pre style=\"white-space:pre;overflow-x:auto;line-height:normal;font-family:Menlo,'DejaVu Sans Mono',consolas,'Courier New',monospace\"><span style=\"color: #7fbfbf; text-decoration-color: #7fbfbf\">                    </span><span style=\"color: #000080; text-decoration-color: #000080\">INFO    </span> Configuring metrics<span style=\"color: #808000; text-decoration-color: #808000\">...</span>                                                     <a href=\"file:///home/zhang/Projects/3d/ProteinWorkshop/proteinworkshop/models/base.py\" target=\"_blank\"><span style=\"color: #7f7f7f; text-decoration-color: #7f7f7f\">base.py</span></a><span style=\"color: #7f7f7f; text-decoration-color: #7f7f7f\">:</span><a href=\"file:///home/zhang/Projects/3d/ProteinWorkshop/proteinworkshop/models/base.py#432\" target=\"_blank\"><span style=\"color: #7f7f7f; text-decoration-color: #7f7f7f\">432</span></a>\n",
       "</pre>\n"
      ],
      "text/plain": [
       "\u001b[2;36m                   \u001b[0m\u001b[2;36m \u001b[0m\u001b[34mINFO    \u001b[0m Configuring metrics\u001b[33m...\u001b[0m                                                     \u001b]8;id=522307;file:///home/zhang/Projects/3d/ProteinWorkshop/proteinworkshop/models/base.py\u001b\\\u001b[2mbase.py\u001b[0m\u001b]8;;\u001b\\\u001b[2m:\u001b[0m\u001b]8;id=271566;file:///home/zhang/Projects/3d/ProteinWorkshop/proteinworkshop/models/base.py#432\u001b\\\u001b[2m432\u001b[0m\u001b]8;;\u001b\\\n"
      ]
     },
     "metadata": {},
     "output_type": "display_data"
    },
    {
     "data": {
      "text/html": [
       "<pre style=\"white-space:pre;overflow-x:auto;line-height:normal;font-family:Menlo,'DejaVu Sans Mono',consolas,'Courier New',monospace\"><span style=\"color: #7fbfbf; text-decoration-color: #7fbfbf\">                    </span><span style=\"color: #000080; text-decoration-color: #000080\">INFO    </span> <span style=\"font-weight: bold\">[</span><span style=\"color: #008000; text-decoration-color: #008000\">'accuracy'</span>, <span style=\"color: #008000; text-decoration-color: #008000\">'f1_score'</span>, <span style=\"color: #008000; text-decoration-color: #008000\">'f1_max'</span><span style=\"font-weight: bold\">]</span>                                         <a href=\"file:///home/zhang/Projects/3d/ProteinWorkshop/proteinworkshop/models/base.py\" target=\"_blank\"><span style=\"color: #7f7f7f; text-decoration-color: #7f7f7f\">base.py</span></a><span style=\"color: #7f7f7f; text-decoration-color: #7f7f7f\">:</span><a href=\"file:///home/zhang/Projects/3d/ProteinWorkshop/proteinworkshop/models/base.py#434\" target=\"_blank\"><span style=\"color: #7f7f7f; text-decoration-color: #7f7f7f\">434</span></a>\n",
       "</pre>\n"
      ],
      "text/plain": [
       "\u001b[2;36m                   \u001b[0m\u001b[2;36m \u001b[0m\u001b[34mINFO    \u001b[0m \u001b[1m[\u001b[0m\u001b[32m'accuracy'\u001b[0m, \u001b[32m'f1_score'\u001b[0m, \u001b[32m'f1_max'\u001b[0m\u001b[1m]\u001b[0m                                         \u001b]8;id=356527;file:///home/zhang/Projects/3d/ProteinWorkshop/proteinworkshop/models/base.py\u001b\\\u001b[2mbase.py\u001b[0m\u001b]8;;\u001b\\\u001b[2m:\u001b[0m\u001b]8;id=898851;file:///home/zhang/Projects/3d/ProteinWorkshop/proteinworkshop/models/base.py#434\u001b\\\u001b[2m434\u001b[0m\u001b]8;;\u001b\\\n"
      ]
     },
     "metadata": {},
     "output_type": "display_data"
    },
    {
     "data": {
      "text/html": [
       "<pre style=\"white-space:pre;overflow-x:auto;line-height:normal;font-family:Menlo,'DejaVu Sans Mono',consolas,'Courier New',monospace\"><span style=\"color: #7fbfbf; text-decoration-color: #7fbfbf\">                    </span><span style=\"color: #000080; text-decoration-color: #000080\">INFO    </span> Instantiating featuriser<span style=\"color: #808000; text-decoration-color: #808000\">...</span>                                                <a href=\"file:///home/zhang/Projects/3d/ProteinWorkshop/proteinworkshop/models/base.py\" target=\"_blank\"><span style=\"color: #7f7f7f; text-decoration-color: #7f7f7f\">base.py</span></a><span style=\"color: #7f7f7f; text-decoration-color: #7f7f7f\">:</span><a href=\"file:///home/zhang/Projects/3d/ProteinWorkshop/proteinworkshop/models/base.py#436\" target=\"_blank\"><span style=\"color: #7f7f7f; text-decoration-color: #7f7f7f\">436</span></a>\n",
       "</pre>\n"
      ],
      "text/plain": [
       "\u001b[2;36m                   \u001b[0m\u001b[2;36m \u001b[0m\u001b[34mINFO    \u001b[0m Instantiating featuriser\u001b[33m...\u001b[0m                                                \u001b]8;id=97468;file:///home/zhang/Projects/3d/ProteinWorkshop/proteinworkshop/models/base.py\u001b\\\u001b[2mbase.py\u001b[0m\u001b]8;;\u001b\\\u001b[2m:\u001b[0m\u001b]8;id=752600;file:///home/zhang/Projects/3d/ProteinWorkshop/proteinworkshop/models/base.py#436\u001b\\\u001b[2m436\u001b[0m\u001b]8;;\u001b\\\n"
      ]
     },
     "metadata": {},
     "output_type": "display_data"
    },
    {
     "data": {
      "text/html": [
       "<pre style=\"white-space:pre;overflow-x:auto;line-height:normal;font-family:Menlo,'DejaVu Sans Mono',consolas,'Courier New',monospace\"><span style=\"color: #7fbfbf; text-decoration-color: #7fbfbf\">                    </span><span style=\"color: #000080; text-decoration-color: #000080\">INFO    </span> <span style=\"color: #800080; text-decoration-color: #800080; font-weight: bold\">ProteinFeaturiser</span><span style=\"font-weight: bold\">(</span><span style=\"color: #808000; text-decoration-color: #808000\">representation</span>=<span style=\"color: #800080; text-decoration-color: #800080\">CA</span>,                                       <a href=\"file:///home/zhang/Projects/3d/ProteinWorkshop/proteinworkshop/models/base.py\" target=\"_blank\"><span style=\"color: #7f7f7f; text-decoration-color: #7f7f7f\">base.py</span></a><span style=\"color: #7f7f7f; text-decoration-color: #7f7f7f\">:</span><a href=\"file:///home/zhang/Projects/3d/ProteinWorkshop/proteinworkshop/models/base.py#438\" target=\"_blank\"><span style=\"color: #7f7f7f; text-decoration-color: #7f7f7f\">438</span></a>\n",
       "<span style=\"color: #7fbfbf; text-decoration-color: #7fbfbf\">                    </span>         <span style=\"color: #808000; text-decoration-color: #808000\">scalar_node_features</span>=<span style=\"font-weight: bold\">[</span><span style=\"color: #008000; text-decoration-color: #008000\">'amino_acid_one_hot'</span>,                                <span style=\"color: #7f7f7f; text-decoration-color: #7f7f7f\">           </span>\n",
       "<span style=\"color: #7fbfbf; text-decoration-color: #7fbfbf\">                    </span>         <span style=\"color: #008000; text-decoration-color: #008000\">'sequence_positional_encoding'</span>, <span style=\"color: #008000; text-decoration-color: #008000\">'alpha'</span>, <span style=\"color: #008000; text-decoration-color: #008000\">'kappa'</span><span style=\"font-weight: bold\">]</span>,                         <span style=\"color: #7f7f7f; text-decoration-color: #7f7f7f\">           </span>\n",
       "<span style=\"color: #7fbfbf; text-decoration-color: #7fbfbf\">                    </span>         <span style=\"color: #808000; text-decoration-color: #808000\">vector_node_features</span>=<span style=\"font-weight: bold\">[]</span>, <span style=\"color: #808000; text-decoration-color: #808000\">edge_types</span>=<span style=\"font-weight: bold\">[</span><span style=\"color: #008000; text-decoration-color: #008000\">'knn_16'</span><span style=\"font-weight: bold\">]</span>,                            <span style=\"color: #7f7f7f; text-decoration-color: #7f7f7f\">           </span>\n",
       "<span style=\"color: #7fbfbf; text-decoration-color: #7fbfbf\">                    </span>         <span style=\"color: #808000; text-decoration-color: #808000\">scalar_edge_features</span>=<span style=\"font-weight: bold\">[</span><span style=\"color: #008000; text-decoration-color: #008000\">'edge_distance'</span><span style=\"font-weight: bold\">]</span>, <span style=\"color: #808000; text-decoration-color: #808000\">vector_edge_features</span>=<span style=\"font-weight: bold\">[])</span>           <span style=\"color: #7f7f7f; text-decoration-color: #7f7f7f\">           </span>\n",
       "</pre>\n"
      ],
      "text/plain": [
       "\u001b[2;36m                   \u001b[0m\u001b[2;36m \u001b[0m\u001b[34mINFO    \u001b[0m \u001b[1;35mProteinFeaturiser\u001b[0m\u001b[1m(\u001b[0m\u001b[33mrepresentation\u001b[0m=\u001b[35mCA\u001b[0m,                                       \u001b]8;id=203411;file:///home/zhang/Projects/3d/ProteinWorkshop/proteinworkshop/models/base.py\u001b\\\u001b[2mbase.py\u001b[0m\u001b]8;;\u001b\\\u001b[2m:\u001b[0m\u001b]8;id=718323;file:///home/zhang/Projects/3d/ProteinWorkshop/proteinworkshop/models/base.py#438\u001b\\\u001b[2m438\u001b[0m\u001b]8;;\u001b\\\n",
       "\u001b[2;36m                    \u001b[0m         \u001b[33mscalar_node_features\u001b[0m=\u001b[1m[\u001b[0m\u001b[32m'amino_acid_one_hot'\u001b[0m,                                \u001b[2m           \u001b[0m\n",
       "\u001b[2;36m                    \u001b[0m         \u001b[32m'sequence_positional_encoding'\u001b[0m, \u001b[32m'alpha'\u001b[0m, \u001b[32m'kappa'\u001b[0m\u001b[1m]\u001b[0m,                         \u001b[2m           \u001b[0m\n",
       "\u001b[2;36m                    \u001b[0m         \u001b[33mvector_node_features\u001b[0m=\u001b[1m[\u001b[0m\u001b[1m]\u001b[0m, \u001b[33medge_types\u001b[0m=\u001b[1m[\u001b[0m\u001b[32m'knn_16'\u001b[0m\u001b[1m]\u001b[0m,                            \u001b[2m           \u001b[0m\n",
       "\u001b[2;36m                    \u001b[0m         \u001b[33mscalar_edge_features\u001b[0m=\u001b[1m[\u001b[0m\u001b[32m'edge_distance'\u001b[0m\u001b[1m]\u001b[0m, \u001b[33mvector_edge_features\u001b[0m=\u001b[1m[\u001b[0m\u001b[1m]\u001b[0m\u001b[1m)\u001b[0m           \u001b[2m           \u001b[0m\n"
      ]
     },
     "metadata": {},
     "output_type": "display_data"
    },
    {
     "data": {
      "text/html": [
       "<pre style=\"white-space:pre;overflow-x:auto;line-height:normal;font-family:Menlo,'DejaVu Sans Mono',consolas,'Courier New',monospace\"><span style=\"color: #7fbfbf; text-decoration-color: #7fbfbf\">                    </span><span style=\"color: #000080; text-decoration-color: #000080\">INFO    </span> Instantiating task transform<span style=\"color: #808000; text-decoration-color: #808000\">...</span>                                            <a href=\"file:///home/zhang/Projects/3d/ProteinWorkshop/proteinworkshop/models/base.py\" target=\"_blank\"><span style=\"color: #7f7f7f; text-decoration-color: #7f7f7f\">base.py</span></a><span style=\"color: #7f7f7f; text-decoration-color: #7f7f7f\">:</span><a href=\"file:///home/zhang/Projects/3d/ProteinWorkshop/proteinworkshop/models/base.py#440\" target=\"_blank\"><span style=\"color: #7f7f7f; text-decoration-color: #7f7f7f\">440</span></a>\n",
       "</pre>\n"
      ],
      "text/plain": [
       "\u001b[2;36m                   \u001b[0m\u001b[2;36m \u001b[0m\u001b[34mINFO    \u001b[0m Instantiating task transform\u001b[33m...\u001b[0m                                            \u001b]8;id=614805;file:///home/zhang/Projects/3d/ProteinWorkshop/proteinworkshop/models/base.py\u001b\\\u001b[2mbase.py\u001b[0m\u001b]8;;\u001b\\\u001b[2m:\u001b[0m\u001b]8;id=428555;file:///home/zhang/Projects/3d/ProteinWorkshop/proteinworkshop/models/base.py#440\u001b\\\u001b[2m440\u001b[0m\u001b]8;;\u001b\\\n"
      ]
     },
     "metadata": {},
     "output_type": "display_data"
    },
    {
     "data": {
      "text/html": [
       "<pre style=\"white-space:pre;overflow-x:auto;line-height:normal;font-family:Menlo,'DejaVu Sans Mono',consolas,'Courier New',monospace\"><span style=\"color: #7fbfbf; text-decoration-color: #7fbfbf\">                    </span><span style=\"color: #000080; text-decoration-color: #000080\">INFO    </span> <span style=\"color: #800080; text-decoration-color: #800080; font-style: italic\">None</span>                                                                       <a href=\"file:///home/zhang/Projects/3d/ProteinWorkshop/proteinworkshop/models/base.py\" target=\"_blank\"><span style=\"color: #7f7f7f; text-decoration-color: #7f7f7f\">base.py</span></a><span style=\"color: #7f7f7f; text-decoration-color: #7f7f7f\">:</span><a href=\"file:///home/zhang/Projects/3d/ProteinWorkshop/proteinworkshop/models/base.py#444\" target=\"_blank\"><span style=\"color: #7f7f7f; text-decoration-color: #7f7f7f\">444</span></a>\n",
       "</pre>\n"
      ],
      "text/plain": [
       "\u001b[2;36m                   \u001b[0m\u001b[2;36m \u001b[0m\u001b[34mINFO    \u001b[0m \u001b[3;35mNone\u001b[0m                                                                       \u001b]8;id=54359;file:///home/zhang/Projects/3d/ProteinWorkshop/proteinworkshop/models/base.py\u001b\\\u001b[2mbase.py\u001b[0m\u001b]8;;\u001b\\\u001b[2m:\u001b[0m\u001b]8;id=194830;file:///home/zhang/Projects/3d/ProteinWorkshop/proteinworkshop/models/base.py#444\u001b\\\u001b[2m444\u001b[0m\u001b]8;;\u001b\\\n"
      ]
     },
     "metadata": {},
     "output_type": "display_data"
    },
    {
     "data": {
      "text/html": [
       "<pre style=\"white-space:pre;overflow-x:auto;line-height:normal;font-family:Menlo,'DejaVu Sans Mono',consolas,'Courier New',monospace\"><span style=\"color: #7fbfbf; text-decoration-color: #7fbfbf\">[07/28/24 16:31:35] </span><span style=\"color: #000080; text-decoration-color: #000080\">INFO    </span> Initializing lazy layers<span style=\"color: #808000; text-decoration-color: #808000\">...</span>                                               <a href=\"file:///home/zhang/Projects/3d/ProteinWorkshop/proteinworkshop/train.py\" target=\"_blank\"><span style=\"color: #7f7f7f; text-decoration-color: #7f7f7f\">train.py</span></a><span style=\"color: #7f7f7f; text-decoration-color: #7f7f7f\">:</span><a href=\"file:///home/zhang/Projects/3d/ProteinWorkshop/proteinworkshop/train.py#145\" target=\"_blank\"><span style=\"color: #7f7f7f; text-decoration-color: #7f7f7f\">145</span></a>\n",
       "</pre>\n"
      ],
      "text/plain": [
       "\u001b[2;36m[07/28/24 16:31:35]\u001b[0m\u001b[2;36m \u001b[0m\u001b[34mINFO    \u001b[0m Initializing lazy layers\u001b[33m...\u001b[0m                                               \u001b]8;id=273823;file:///home/zhang/Projects/3d/ProteinWorkshop/proteinworkshop/train.py\u001b\\\u001b[2mtrain.py\u001b[0m\u001b]8;;\u001b\\\u001b[2m:\u001b[0m\u001b]8;id=564354;file:///home/zhang/Projects/3d/ProteinWorkshop/proteinworkshop/train.py#145\u001b\\\u001b[2m145\u001b[0m\u001b]8;;\u001b\\\n"
      ]
     },
     "metadata": {},
     "output_type": "display_data"
    },
    {
     "data": {
      "text/html": [
       "<pre style=\"white-space:pre;overflow-x:auto;line-height:normal;font-family:Menlo,'DejaVu Sans Mono',consolas,'Courier New',monospace\"><span style=\"color: #7fbfbf; text-decoration-color: #7fbfbf\">                    </span><span style=\"color: #000080; text-decoration-color: #000080\">INFO    </span> Downloading Protein Function. Fraction <span style=\"color: #008080; text-decoration-color: #008080; font-weight: bold\">1.0</span>                   <a href=\"file:///home/zhang/Projects/3d/ProteinWorkshop/proteinworkshop/datasets/fold_classification.py\" target=\"_blank\"><span style=\"color: #7f7f7f; text-decoration-color: #7f7f7f\">fold_classification.py</span></a><span style=\"color: #7f7f7f; text-decoration-color: #7f7f7f\">:</span><a href=\"file:///home/zhang/Projects/3d/ProteinWorkshop/proteinworkshop/datasets/fold_classification.py#86\" target=\"_blank\"><span style=\"color: #7f7f7f; text-decoration-color: #7f7f7f\">86</span></a>\n",
       "</pre>\n"
      ],
      "text/plain": [
       "\u001b[2;36m                   \u001b[0m\u001b[2;36m \u001b[0m\u001b[34mINFO    \u001b[0m Downloading Protein Function. Fraction \u001b[1;36m1.0\u001b[0m                   \u001b]8;id=209392;file:///home/zhang/Projects/3d/ProteinWorkshop/proteinworkshop/datasets/fold_classification.py\u001b\\\u001b[2mfold_classification.py\u001b[0m\u001b]8;;\u001b\\\u001b[2m:\u001b[0m\u001b]8;id=247986;file:///home/zhang/Projects/3d/ProteinWorkshop/proteinworkshop/datasets/fold_classification.py#86\u001b\\\u001b[2m86\u001b[0m\u001b]8;;\u001b\\\n"
      ]
     },
     "metadata": {},
     "output_type": "display_data"
    },
    {
     "data": {
      "text/html": [
       "<pre style=\"white-space:pre;overflow-x:auto;line-height:normal;font-family:Menlo,'DejaVu Sans Mono',consolas,'Courier New',monospace\"><span style=\"color: #7fbfbf; text-decoration-color: #7fbfbf\">                    </span><span style=\"color: #000080; text-decoration-color: #000080\">INFO    </span> Found SCOP structure tarfile in:                            <a href=\"file:///home/zhang/Projects/3d/ProteinWorkshop/proteinworkshop/datasets/fold_classification.py\" target=\"_blank\"><span style=\"color: #7f7f7f; text-decoration-color: #7f7f7f\">fold_classification.py</span></a><span style=\"color: #7f7f7f; text-decoration-color: #7f7f7f\">:</span><a href=\"file:///home/zhang/Projects/3d/ProteinWorkshop/proteinworkshop/datasets/fold_classification.py#138\" target=\"_blank\"><span style=\"color: #7f7f7f; text-decoration-color: #7f7f7f\">138</span></a>\n",
       "<span style=\"color: #7fbfbf; text-decoration-color: #7fbfbf\">                    </span>         <span style=\"color: #800080; text-decoration-color: #800080\">/home/zhang/Projects/3d/ProteinWorkshop/proteinworkshop/dat</span> <span style=\"color: #7f7f7f; text-decoration-color: #7f7f7f\">                          </span>\n",
       "<span style=\"color: #7fbfbf; text-decoration-color: #7fbfbf\">                    </span>         <span style=\"color: #800080; text-decoration-color: #800080\">a/FoldClassification/</span><span style=\"color: #ff00ff; text-decoration-color: #ff00ff\">pdbstyle-sel-gs-bib-95-1.75.tgz</span>        <span style=\"color: #7f7f7f; text-decoration-color: #7f7f7f\">                          </span>\n",
       "</pre>\n"
      ],
      "text/plain": [
       "\u001b[2;36m                   \u001b[0m\u001b[2;36m \u001b[0m\u001b[34mINFO    \u001b[0m Found SCOP structure tarfile in:                            \u001b]8;id=981427;file:///home/zhang/Projects/3d/ProteinWorkshop/proteinworkshop/datasets/fold_classification.py\u001b\\\u001b[2mfold_classification.py\u001b[0m\u001b]8;;\u001b\\\u001b[2m:\u001b[0m\u001b]8;id=286556;file:///home/zhang/Projects/3d/ProteinWorkshop/proteinworkshop/datasets/fold_classification.py#138\u001b\\\u001b[2m138\u001b[0m\u001b]8;;\u001b\\\n",
       "\u001b[2;36m                    \u001b[0m         \u001b[35m/home/zhang/Projects/3d/ProteinWorkshop/proteinworkshop/dat\u001b[0m \u001b[2m                          \u001b[0m\n",
       "\u001b[2;36m                    \u001b[0m         \u001b[35ma/FoldClassification/\u001b[0m\u001b[95mpdbstyle-sel-gs-bib-95-1.75.tgz\u001b[0m        \u001b[2m                          \u001b[0m\n"
      ]
     },
     "metadata": {},
     "output_type": "display_data"
    },
    {
     "data": {
      "text/html": [
       "<pre style=\"white-space:pre;overflow-x:auto;line-height:normal;font-family:Menlo,'DejaVu Sans Mono',consolas,'Courier New',monospace\"><span style=\"color: #7fbfbf; text-decoration-color: #7fbfbf\">                    </span><span style=\"color: #000080; text-decoration-color: #000080\">INFO    </span> Found SCOPe structures in:                                  <a href=\"file:///home/zhang/Projects/3d/ProteinWorkshop/proteinworkshop/datasets/fold_classification.py\" target=\"_blank\"><span style=\"color: #7f7f7f; text-decoration-color: #7f7f7f\">fold_classification.py</span></a><span style=\"color: #7f7f7f; text-decoration-color: #7f7f7f\">:</span><a href=\"file:///home/zhang/Projects/3d/ProteinWorkshop/proteinworkshop/datasets/fold_classification.py#151\" target=\"_blank\"><span style=\"color: #7f7f7f; text-decoration-color: #7f7f7f\">151</span></a>\n",
       "</pre>\n"
      ],
      "text/plain": [
       "\u001b[2;36m                   \u001b[0m\u001b[2;36m \u001b[0m\u001b[34mINFO    \u001b[0m Found SCOPe structures in:                                  \u001b]8;id=737503;file:///home/zhang/Projects/3d/ProteinWorkshop/proteinworkshop/datasets/fold_classification.py\u001b\\\u001b[2mfold_classification.py\u001b[0m\u001b]8;;\u001b\\\u001b[2m:\u001b[0m\u001b]8;id=356150;file:///home/zhang/Projects/3d/ProteinWorkshop/proteinworkshop/datasets/fold_classification.py#151\u001b\\\u001b[2m151\u001b[0m\u001b]8;;\u001b\\\n"
      ]
     },
     "metadata": {},
     "output_type": "display_data"
    },
    {
     "data": {
      "text/html": [
       "<pre style=\"white-space:pre;overflow-x:auto;line-height:normal;font-family:Menlo,'DejaVu Sans Mono',consolas,'Courier New',monospace\"><span style=\"color: #7fbfbf; text-decoration-color: #7fbfbf\">                    </span><span style=\"color: #000080; text-decoration-color: #000080\">INFO    </span> Preprocessing validation data                                               <a href=\"file:///home/zhang/Projects/3d/ProteinWorkshop/proteinworkshop/datasets/base.py\" target=\"_blank\"><span style=\"color: #7f7f7f; text-decoration-color: #7f7f7f\">base.py</span></a><span style=\"color: #7f7f7f; text-decoration-color: #7f7f7f\">:</span><a href=\"file:///home/zhang/Projects/3d/ProteinWorkshop/proteinworkshop/datasets/base.py#99\" target=\"_blank\"><span style=\"color: #7f7f7f; text-decoration-color: #7f7f7f\">99</span></a>\n",
       "</pre>\n"
      ],
      "text/plain": [
       "\u001b[2;36m                   \u001b[0m\u001b[2;36m \u001b[0m\u001b[34mINFO    \u001b[0m Preprocessing validation data                                               \u001b]8;id=498126;file:///home/zhang/Projects/3d/ProteinWorkshop/proteinworkshop/datasets/base.py\u001b\\\u001b[2mbase.py\u001b[0m\u001b]8;;\u001b\\\u001b[2m:\u001b[0m\u001b]8;id=671480;file:///home/zhang/Projects/3d/ProteinWorkshop/proteinworkshop/datasets/base.py#99\u001b\\\u001b[2m99\u001b[0m\u001b]8;;\u001b\\\n"
      ]
     },
     "metadata": {},
     "output_type": "display_data"
    },
    {
     "data": {
      "text/html": [
       "<pre style=\"white-space:pre;overflow-x:auto;line-height:normal;font-family:Menlo,'DejaVu Sans Mono',consolas,'Courier New',monospace\"><span style=\"color: #7fbfbf; text-decoration-color: #7fbfbf\">                    </span><span style=\"color: #000080; text-decoration-color: #000080\">INFO    </span> Reading labels from:                                        <a href=\"file:///home/zhang/Projects/3d/ProteinWorkshop/proteinworkshop/datasets/fold_classification.py\" target=\"_blank\"><span style=\"color: #7f7f7f; text-decoration-color: #7f7f7f\">fold_classification.py</span></a><span style=\"color: #7f7f7f; text-decoration-color: #7f7f7f\">:</span><a href=\"file:///home/zhang/Projects/3d/ProteinWorkshop/proteinworkshop/datasets/fold_classification.py#154\" target=\"_blank\"><span style=\"color: #7f7f7f; text-decoration-color: #7f7f7f\">154</span></a>\n",
       "<span style=\"color: #7fbfbf; text-decoration-color: #7fbfbf\">                    </span>         <span style=\"color: #800080; text-decoration-color: #800080\">/home/zhang/Projects/3d/ProteinWorkshop/proteinworkshop/dat</span> <span style=\"color: #7f7f7f; text-decoration-color: #7f7f7f\">                          </span>\n",
       "<span style=\"color: #7fbfbf; text-decoration-color: #7fbfbf\">                    </span>         <span style=\"color: #800080; text-decoration-color: #800080\">a/FoldClassification/</span><span style=\"color: #ff00ff; text-decoration-color: #ff00ff\">class_map.txt</span>                          <span style=\"color: #7f7f7f; text-decoration-color: #7f7f7f\">                          </span>\n",
       "</pre>\n"
      ],
      "text/plain": [
       "\u001b[2;36m                   \u001b[0m\u001b[2;36m \u001b[0m\u001b[34mINFO    \u001b[0m Reading labels from:                                        \u001b]8;id=313552;file:///home/zhang/Projects/3d/ProteinWorkshop/proteinworkshop/datasets/fold_classification.py\u001b\\\u001b[2mfold_classification.py\u001b[0m\u001b]8;;\u001b\\\u001b[2m:\u001b[0m\u001b]8;id=757781;file:///home/zhang/Projects/3d/ProteinWorkshop/proteinworkshop/datasets/fold_classification.py#154\u001b\\\u001b[2m154\u001b[0m\u001b]8;;\u001b\\\n",
       "\u001b[2;36m                    \u001b[0m         \u001b[35m/home/zhang/Projects/3d/ProteinWorkshop/proteinworkshop/dat\u001b[0m \u001b[2m                          \u001b[0m\n",
       "\u001b[2;36m                    \u001b[0m         \u001b[35ma/FoldClassification/\u001b[0m\u001b[95mclass_map.txt\u001b[0m                          \u001b[2m                          \u001b[0m\n"
      ]
     },
     "metadata": {},
     "output_type": "display_data"
    },
    {
     "data": {
      "text/html": [
       "<pre style=\"white-space:pre;overflow-x:auto;line-height:normal;font-family:Menlo,'DejaVu Sans Mono',consolas,'Courier New',monospace\"><span style=\"color: #7fbfbf; text-decoration-color: #7fbfbf\">                    </span><span style=\"color: #000080; text-decoration-color: #000080\">INFO    </span> Found <span style=\"color: #008080; text-decoration-color: #008080; font-weight: bold\">736</span> original examples in validation                   <a href=\"file:///home/zhang/Projects/3d/ProteinWorkshop/proteinworkshop/datasets/fold_classification.py\" target=\"_blank\"><span style=\"color: #7f7f7f; text-decoration-color: #7f7f7f\">fold_classification.py</span></a><span style=\"color: #7f7f7f; text-decoration-color: #7f7f7f\">:</span><a href=\"file:///home/zhang/Projects/3d/ProteinWorkshop/proteinworkshop/datasets/fold_classification.py#234\" target=\"_blank\"><span style=\"color: #7f7f7f; text-decoration-color: #7f7f7f\">234</span></a>\n",
       "</pre>\n"
      ],
      "text/plain": [
       "\u001b[2;36m                   \u001b[0m\u001b[2;36m \u001b[0m\u001b[34mINFO    \u001b[0m Found \u001b[1;36m736\u001b[0m original examples in validation                   \u001b]8;id=782913;file:///home/zhang/Projects/3d/ProteinWorkshop/proteinworkshop/datasets/fold_classification.py\u001b\\\u001b[2mfold_classification.py\u001b[0m\u001b]8;;\u001b\\\u001b[2m:\u001b[0m\u001b]8;id=575154;file:///home/zhang/Projects/3d/ProteinWorkshop/proteinworkshop/datasets/fold_classification.py#234\u001b\\\u001b[2m234\u001b[0m\u001b]8;;\u001b\\\n"
      ]
     },
     "metadata": {},
     "output_type": "display_data"
    },
    {
     "data": {
      "text/html": [
       "<pre style=\"white-space:pre;overflow-x:auto;line-height:normal;font-family:Menlo,'DejaVu Sans Mono',consolas,'Courier New',monospace\"><span style=\"color: #7fbfbf; text-decoration-color: #7fbfbf\">                    </span><span style=\"color: #000080; text-decoration-color: #000080\">INFO    </span> Identified <span style=\"color: #008080; text-decoration-color: #008080; font-weight: bold\">319</span> classes                                      <a href=\"file:///home/zhang/Projects/3d/ProteinWorkshop/proteinworkshop/datasets/fold_classification.py\" target=\"_blank\"><span style=\"color: #7f7f7f; text-decoration-color: #7f7f7f\">fold_classification.py</span></a><span style=\"color: #7f7f7f; text-decoration-color: #7f7f7f\">:</span><a href=\"file:///home/zhang/Projects/3d/ProteinWorkshop/proteinworkshop/datasets/fold_classification.py#247\" target=\"_blank\"><span style=\"color: #7f7f7f; text-decoration-color: #7f7f7f\">247</span></a>\n",
       "</pre>\n"
      ],
      "text/plain": [
       "\u001b[2;36m                   \u001b[0m\u001b[2;36m \u001b[0m\u001b[34mINFO    \u001b[0m Identified \u001b[1;36m319\u001b[0m classes                                      \u001b]8;id=758961;file:///home/zhang/Projects/3d/ProteinWorkshop/proteinworkshop/datasets/fold_classification.py\u001b\\\u001b[2mfold_classification.py\u001b[0m\u001b]8;;\u001b\\\u001b[2m:\u001b[0m\u001b]8;id=454700;file:///home/zhang/Projects/3d/ProteinWorkshop/proteinworkshop/datasets/fold_classification.py#247\u001b\\\u001b[2m247\u001b[0m\u001b]8;;\u001b\\\n"
      ]
     },
     "metadata": {},
     "output_type": "display_data"
    },
    {
     "data": {
      "text/html": [
       "<pre style=\"white-space:pre;overflow-x:auto;line-height:normal;font-family:Menlo,'DejaVu Sans Mono',consolas,'Courier New',monospace\"><span style=\"color: #7fbfbf; text-decoration-color: #7fbfbf\">                    </span><span style=\"color: #000080; text-decoration-color: #000080\">INFO    </span> All structures already processed and <span style=\"color: #808000; text-decoration-color: #808000\">overwrite</span>=<span style=\"color: #ff0000; text-decoration-color: #ff0000; font-style: italic\">False</span>. Skipping download.   <a href=\"file:///home/zhang/Projects/3d/ProteinWorkshop/proteinworkshop/datasets/base.py\" target=\"_blank\"><span style=\"color: #7f7f7f; text-decoration-color: #7f7f7f\">base.py</span></a><span style=\"color: #7f7f7f; text-decoration-color: #7f7f7f\">:</span><a href=\"file:///home/zhang/Projects/3d/ProteinWorkshop/proteinworkshop/datasets/base.py#327\" target=\"_blank\"><span style=\"color: #7f7f7f; text-decoration-color: #7f7f7f\">327</span></a>\n",
       "</pre>\n"
      ],
      "text/plain": [
       "\u001b[2;36m                   \u001b[0m\u001b[2;36m \u001b[0m\u001b[34mINFO    \u001b[0m All structures already processed and \u001b[33moverwrite\u001b[0m=\u001b[3;91mFalse\u001b[0m. Skipping download.   \u001b]8;id=643741;file:///home/zhang/Projects/3d/ProteinWorkshop/proteinworkshop/datasets/base.py\u001b\\\u001b[2mbase.py\u001b[0m\u001b]8;;\u001b\\\u001b[2m:\u001b[0m\u001b]8;id=975927;file:///home/zhang/Projects/3d/ProteinWorkshop/proteinworkshop/datasets/base.py#327\u001b\\\u001b[2m327\u001b[0m\u001b]8;;\u001b\\\n"
      ]
     },
     "metadata": {},
     "output_type": "display_data"
    },
    {
     "data": {
      "text/html": [
       "<pre style=\"white-space:pre;overflow-x:auto;line-height:normal;font-family:Menlo,'DejaVu Sans Mono',consolas,'Courier New',monospace\"><span style=\"color: #7fbfbf; text-decoration-color: #7fbfbf\">                    </span><span style=\"color: #800000; text-decoration-color: #800000\">WARNING </span> Downloads in .ent format are assumed to be from ASTRAL. These data should  <a href=\"file:///home/zhang/Projects/3d/ProteinWorkshop/proteinworkshop/datasets/base.py\" target=\"_blank\"><span style=\"color: #7f7f7f; text-decoration-color: #7f7f7f\">base.py</span></a><span style=\"color: #7f7f7f; text-decoration-color: #7f7f7f\">:</span><a href=\"file:///home/zhang/Projects/3d/ProteinWorkshop/proteinworkshop/datasets/base.py#357\" target=\"_blank\"><span style=\"color: #7f7f7f; text-decoration-color: #7f7f7f\">357</span></a>\n",
       "<span style=\"color: #7fbfbf; text-decoration-color: #7fbfbf\">                    </span>         have already been downloaded                                               <span style=\"color: #7f7f7f; text-decoration-color: #7f7f7f\">           </span>\n",
       "</pre>\n"
      ],
      "text/plain": [
       "\u001b[2;36m                   \u001b[0m\u001b[2;36m \u001b[0m\u001b[31mWARNING \u001b[0m Downloads in .ent format are assumed to be from ASTRAL. These data should  \u001b]8;id=635824;file:///home/zhang/Projects/3d/ProteinWorkshop/proteinworkshop/datasets/base.py\u001b\\\u001b[2mbase.py\u001b[0m\u001b]8;;\u001b\\\u001b[2m:\u001b[0m\u001b]8;id=781796;file:///home/zhang/Projects/3d/ProteinWorkshop/proteinworkshop/datasets/base.py#357\u001b\\\u001b[2m357\u001b[0m\u001b]8;;\u001b\\\n",
       "\u001b[2;36m                    \u001b[0m         have already been downloaded                                               \u001b[2m           \u001b[0m\n"
      ]
     },
     "metadata": {},
     "output_type": "display_data"
    },
    {
     "data": {
      "text/html": [
       "<pre style=\"white-space:pre;overflow-x:auto;line-height:normal;font-family:Menlo,'DejaVu Sans Mono',consolas,'Courier New',monospace\"><span style=\"color: #7fbfbf; text-decoration-color: #7fbfbf\">                    </span><span style=\"color: #000080; text-decoration-color: #000080\">INFO    </span> Reading data into memory                                                   <a href=\"file:///home/zhang/Projects/3d/ProteinWorkshop/proteinworkshop/datasets/base.py\" target=\"_blank\"><span style=\"color: #7f7f7f; text-decoration-color: #7f7f7f\">base.py</span></a><span style=\"color: #7f7f7f; text-decoration-color: #7f7f7f\">:</span><a href=\"file:///home/zhang/Projects/3d/ProteinWorkshop/proteinworkshop/datasets/base.py#337\" target=\"_blank\"><span style=\"color: #7f7f7f; text-decoration-color: #7f7f7f\">337</span></a>\n",
       "</pre>\n"
      ],
      "text/plain": [
       "\u001b[2;36m                   \u001b[0m\u001b[2;36m \u001b[0m\u001b[34mINFO    \u001b[0m Reading data into memory                                                   \u001b]8;id=668801;file:///home/zhang/Projects/3d/ProteinWorkshop/proteinworkshop/datasets/base.py\u001b\\\u001b[2mbase.py\u001b[0m\u001b]8;;\u001b\\\u001b[2m:\u001b[0m\u001b]8;id=733631;file:///home/zhang/Projects/3d/ProteinWorkshop/proteinworkshop/datasets/base.py#337\u001b\\\u001b[2m337\u001b[0m\u001b]8;;\u001b\\\n"
      ]
     },
     "metadata": {},
     "output_type": "display_data"
    },
    {
     "name": "stderr",
     "output_type": "stream",
     "text": [
      "100%|██████████| 736/736 [00:00<00:00, 4547.96it/s]\n"
     ]
    },
    {
     "data": {
      "text/html": [
       "<pre style=\"white-space:pre;overflow-x:auto;line-height:normal;font-family:Menlo,'DejaVu Sans Mono',consolas,'Courier New',monospace\"><span style=\"color: #7fbfbf; text-decoration-color: #7fbfbf\">[07/28/24 16:31:36] </span><span style=\"color: #000080; text-decoration-color: #000080\">INFO    </span> Unfeaturized batch: <span style=\"color: #800080; text-decoration-color: #800080; font-weight: bold\">DataProteinBatch</span><span style=\"font-weight: bold\">(</span><span style=\"color: #808000; text-decoration-color: #808000\">fill_value</span>=<span style=\"color: #008080; text-decoration-color: #008080; font-weight: bold\">1e-05</span>, <span style=\"color: #808000; text-decoration-color: #808000\">atom_list</span>=<span style=\"font-weight: bold\">[</span><span style=\"color: #008080; text-decoration-color: #008080; font-weight: bold\">37</span><span style=\"font-weight: bold\">]</span>,    <a href=\"file:///home/zhang/Projects/3d/ProteinWorkshop/proteinworkshop/train.py\" target=\"_blank\"><span style=\"color: #7f7f7f; text-decoration-color: #7f7f7f\">train.py</span></a><span style=\"color: #7f7f7f; text-decoration-color: #7f7f7f\">:</span><a href=\"file:///home/zhang/Projects/3d/ProteinWorkshop/proteinworkshop/train.py#149\" target=\"_blank\"><span style=\"color: #7f7f7f; text-decoration-color: #7f7f7f\">149</span></a>\n",
       "<span style=\"color: #7fbfbf; text-decoration-color: #7fbfbf\">                    </span>         <span style=\"color: #808000; text-decoration-color: #808000\">coords</span>=<span style=\"font-weight: bold\">[</span><span style=\"color: #008080; text-decoration-color: #008080; font-weight: bold\">7747</span>, <span style=\"color: #008080; text-decoration-color: #008080; font-weight: bold\">37</span>, <span style=\"color: #008080; text-decoration-color: #008080; font-weight: bold\">3</span><span style=\"font-weight: bold\">]</span>, <span style=\"color: #808000; text-decoration-color: #808000\">residues</span>=<span style=\"font-weight: bold\">[</span><span style=\"color: #008080; text-decoration-color: #008080; font-weight: bold\">32</span><span style=\"font-weight: bold\">]</span>, <span style=\"color: #808000; text-decoration-color: #808000\">id</span>=<span style=\"font-weight: bold\">[</span><span style=\"color: #008080; text-decoration-color: #008080; font-weight: bold\">32</span><span style=\"font-weight: bold\">]</span>, <span style=\"color: #808000; text-decoration-color: #808000\">residue_id</span>=<span style=\"font-weight: bold\">[</span><span style=\"color: #008080; text-decoration-color: #008080; font-weight: bold\">32</span><span style=\"font-weight: bold\">]</span>,            <span style=\"color: #7f7f7f; text-decoration-color: #7f7f7f\">            </span>\n",
       "<span style=\"color: #7fbfbf; text-decoration-color: #7fbfbf\">                    </span>         <span style=\"color: #808000; text-decoration-color: #808000\">residue_type</span>=<span style=\"font-weight: bold\">[</span><span style=\"color: #008080; text-decoration-color: #008080; font-weight: bold\">7747</span><span style=\"font-weight: bold\">]</span>, <span style=\"color: #808000; text-decoration-color: #808000\">chains</span>=<span style=\"font-weight: bold\">[</span><span style=\"color: #008080; text-decoration-color: #008080; font-weight: bold\">7747</span><span style=\"font-weight: bold\">]</span>, <span style=\"color: #808000; text-decoration-color: #808000\">graph_y</span>=<span style=\"font-weight: bold\">[</span><span style=\"color: #008080; text-decoration-color: #008080; font-weight: bold\">32</span><span style=\"font-weight: bold\">]</span>, <span style=\"color: #808000; text-decoration-color: #808000\">x</span>=<span style=\"font-weight: bold\">[</span><span style=\"color: #008080; text-decoration-color: #008080; font-weight: bold\">7747</span><span style=\"font-weight: bold\">]</span>,               <span style=\"color: #7f7f7f; text-decoration-color: #7f7f7f\">            </span>\n",
       "<span style=\"color: #7fbfbf; text-decoration-color: #7fbfbf\">                    </span>         <span style=\"color: #808000; text-decoration-color: #808000\">amino_acid_one_hot</span>=<span style=\"font-weight: bold\">[</span><span style=\"color: #008080; text-decoration-color: #008080; font-weight: bold\">7747</span>, <span style=\"color: #008080; text-decoration-color: #008080; font-weight: bold\">23</span><span style=\"font-weight: bold\">]</span>, <span style=\"color: #808000; text-decoration-color: #808000\">seq_pos</span>=<span style=\"font-weight: bold\">[</span><span style=\"color: #008080; text-decoration-color: #008080; font-weight: bold\">7747</span>, <span style=\"color: #008080; text-decoration-color: #008080; font-weight: bold\">1</span><span style=\"font-weight: bold\">]</span>, <span style=\"color: #808000; text-decoration-color: #808000\">batch</span>=<span style=\"font-weight: bold\">[</span><span style=\"color: #008080; text-decoration-color: #008080; font-weight: bold\">7747</span><span style=\"font-weight: bold\">]</span>, <span style=\"color: #808000; text-decoration-color: #808000\">ptr</span>=<span style=\"font-weight: bold\">[</span><span style=\"color: #008080; text-decoration-color: #008080; font-weight: bold\">33</span><span style=\"font-weight: bold\">])</span> <span style=\"color: #7f7f7f; text-decoration-color: #7f7f7f\">            </span>\n",
       "</pre>\n"
      ],
      "text/plain": [
       "\u001b[2;36m[07/28/24 16:31:36]\u001b[0m\u001b[2;36m \u001b[0m\u001b[34mINFO    \u001b[0m Unfeaturized batch: \u001b[1;35mDataProteinBatch\u001b[0m\u001b[1m(\u001b[0m\u001b[33mfill_value\u001b[0m=\u001b[1;36m1e\u001b[0m\u001b[1;36m-05\u001b[0m, \u001b[33matom_list\u001b[0m=\u001b[1m[\u001b[0m\u001b[1;36m37\u001b[0m\u001b[1m]\u001b[0m,    \u001b]8;id=242607;file:///home/zhang/Projects/3d/ProteinWorkshop/proteinworkshop/train.py\u001b\\\u001b[2mtrain.py\u001b[0m\u001b]8;;\u001b\\\u001b[2m:\u001b[0m\u001b]8;id=197116;file:///home/zhang/Projects/3d/ProteinWorkshop/proteinworkshop/train.py#149\u001b\\\u001b[2m149\u001b[0m\u001b]8;;\u001b\\\n",
       "\u001b[2;36m                    \u001b[0m         \u001b[33mcoords\u001b[0m=\u001b[1m[\u001b[0m\u001b[1;36m7747\u001b[0m, \u001b[1;36m37\u001b[0m, \u001b[1;36m3\u001b[0m\u001b[1m]\u001b[0m, \u001b[33mresidues\u001b[0m=\u001b[1m[\u001b[0m\u001b[1;36m32\u001b[0m\u001b[1m]\u001b[0m, \u001b[33mid\u001b[0m=\u001b[1m[\u001b[0m\u001b[1;36m32\u001b[0m\u001b[1m]\u001b[0m, \u001b[33mresidue_id\u001b[0m=\u001b[1m[\u001b[0m\u001b[1;36m32\u001b[0m\u001b[1m]\u001b[0m,            \u001b[2m            \u001b[0m\n",
       "\u001b[2;36m                    \u001b[0m         \u001b[33mresidue_type\u001b[0m=\u001b[1m[\u001b[0m\u001b[1;36m7747\u001b[0m\u001b[1m]\u001b[0m, \u001b[33mchains\u001b[0m=\u001b[1m[\u001b[0m\u001b[1;36m7747\u001b[0m\u001b[1m]\u001b[0m, \u001b[33mgraph_y\u001b[0m=\u001b[1m[\u001b[0m\u001b[1;36m32\u001b[0m\u001b[1m]\u001b[0m, \u001b[33mx\u001b[0m=\u001b[1m[\u001b[0m\u001b[1;36m7747\u001b[0m\u001b[1m]\u001b[0m,               \u001b[2m            \u001b[0m\n",
       "\u001b[2;36m                    \u001b[0m         \u001b[33mamino_acid_one_hot\u001b[0m=\u001b[1m[\u001b[0m\u001b[1;36m7747\u001b[0m, \u001b[1;36m23\u001b[0m\u001b[1m]\u001b[0m, \u001b[33mseq_pos\u001b[0m=\u001b[1m[\u001b[0m\u001b[1;36m7747\u001b[0m, \u001b[1;36m1\u001b[0m\u001b[1m]\u001b[0m, \u001b[33mbatch\u001b[0m=\u001b[1m[\u001b[0m\u001b[1;36m7747\u001b[0m\u001b[1m]\u001b[0m, \u001b[33mptr\u001b[0m=\u001b[1m[\u001b[0m\u001b[1;36m33\u001b[0m\u001b[1m]\u001b[0m\u001b[1m)\u001b[0m \u001b[2m            \u001b[0m\n"
      ]
     },
     "metadata": {},
     "output_type": "display_data"
    },
    {
     "data": {
      "text/html": [
       "<pre style=\"white-space:pre;overflow-x:auto;line-height:normal;font-family:Menlo,'DejaVu Sans Mono',consolas,'Courier New',monospace\"><span style=\"color: #7fbfbf; text-decoration-color: #7fbfbf\">                    </span><span style=\"color: #000080; text-decoration-color: #000080\">INFO    </span> Featurized batch: <span style=\"color: #800080; text-decoration-color: #800080; font-weight: bold\">DataProteinBatch</span><span style=\"font-weight: bold\">(</span><span style=\"color: #808000; text-decoration-color: #808000\">fill_value</span>=<span style=\"color: #008080; text-decoration-color: #008080; font-weight: bold\">1e-05</span>, <span style=\"color: #808000; text-decoration-color: #808000\">atom_list</span>=<span style=\"font-weight: bold\">[</span><span style=\"color: #008080; text-decoration-color: #008080; font-weight: bold\">37</span><span style=\"font-weight: bold\">]</span>,      <a href=\"file:///home/zhang/Projects/3d/ProteinWorkshop/proteinworkshop/train.py\" target=\"_blank\"><span style=\"color: #7f7f7f; text-decoration-color: #7f7f7f\">train.py</span></a><span style=\"color: #7f7f7f; text-decoration-color: #7f7f7f\">:</span><a href=\"file:///home/zhang/Projects/3d/ProteinWorkshop/proteinworkshop/train.py#151\" target=\"_blank\"><span style=\"color: #7f7f7f; text-decoration-color: #7f7f7f\">151</span></a>\n",
       "<span style=\"color: #7fbfbf; text-decoration-color: #7fbfbf\">                    </span>         <span style=\"color: #808000; text-decoration-color: #808000\">coords</span>=<span style=\"font-weight: bold\">[</span><span style=\"color: #008080; text-decoration-color: #008080; font-weight: bold\">7747</span>, <span style=\"color: #008080; text-decoration-color: #008080; font-weight: bold\">37</span>, <span style=\"color: #008080; text-decoration-color: #008080; font-weight: bold\">3</span><span style=\"font-weight: bold\">]</span>, <span style=\"color: #808000; text-decoration-color: #808000\">residues</span>=<span style=\"font-weight: bold\">[</span><span style=\"color: #008080; text-decoration-color: #008080; font-weight: bold\">32</span><span style=\"font-weight: bold\">]</span>, <span style=\"color: #808000; text-decoration-color: #808000\">id</span>=<span style=\"font-weight: bold\">[</span><span style=\"color: #008080; text-decoration-color: #008080; font-weight: bold\">32</span><span style=\"font-weight: bold\">]</span>, <span style=\"color: #808000; text-decoration-color: #808000\">residue_id</span>=<span style=\"font-weight: bold\">[</span><span style=\"color: #008080; text-decoration-color: #008080; font-weight: bold\">32</span><span style=\"font-weight: bold\">]</span>,            <span style=\"color: #7f7f7f; text-decoration-color: #7f7f7f\">            </span>\n",
       "<span style=\"color: #7fbfbf; text-decoration-color: #7fbfbf\">                    </span>         <span style=\"color: #808000; text-decoration-color: #808000\">residue_type</span>=<span style=\"font-weight: bold\">[</span><span style=\"color: #008080; text-decoration-color: #008080; font-weight: bold\">7747</span><span style=\"font-weight: bold\">]</span>, <span style=\"color: #808000; text-decoration-color: #808000\">chains</span>=<span style=\"font-weight: bold\">[</span><span style=\"color: #008080; text-decoration-color: #008080; font-weight: bold\">7747</span><span style=\"font-weight: bold\">]</span>, <span style=\"color: #808000; text-decoration-color: #808000\">graph_y</span>=<span style=\"font-weight: bold\">[</span><span style=\"color: #008080; text-decoration-color: #008080; font-weight: bold\">32</span><span style=\"font-weight: bold\">]</span>, <span style=\"color: #808000; text-decoration-color: #808000\">x</span>=<span style=\"font-weight: bold\">[</span><span style=\"color: #008080; text-decoration-color: #008080; font-weight: bold\">7747</span>, <span style=\"color: #008080; text-decoration-color: #008080; font-weight: bold\">43</span><span style=\"font-weight: bold\">]</span>,           <span style=\"color: #7f7f7f; text-decoration-color: #7f7f7f\">            </span>\n",
       "<span style=\"color: #7fbfbf; text-decoration-color: #7fbfbf\">                    </span>         <span style=\"color: #808000; text-decoration-color: #808000\">amino_acid_one_hot</span>=<span style=\"font-weight: bold\">[</span><span style=\"color: #008080; text-decoration-color: #008080; font-weight: bold\">7747</span>, <span style=\"color: #008080; text-decoration-color: #008080; font-weight: bold\">23</span><span style=\"font-weight: bold\">]</span>, <span style=\"color: #808000; text-decoration-color: #808000\">seq_pos</span>=<span style=\"font-weight: bold\">[</span><span style=\"color: #008080; text-decoration-color: #008080; font-weight: bold\">7747</span>, <span style=\"color: #008080; text-decoration-color: #008080; font-weight: bold\">1</span><span style=\"font-weight: bold\">]</span>, <span style=\"color: #808000; text-decoration-color: #808000\">batch</span>=<span style=\"font-weight: bold\">[</span><span style=\"color: #008080; text-decoration-color: #008080; font-weight: bold\">7747</span><span style=\"font-weight: bold\">]</span>, <span style=\"color: #808000; text-decoration-color: #808000\">ptr</span>=<span style=\"font-weight: bold\">[</span><span style=\"color: #008080; text-decoration-color: #008080; font-weight: bold\">33</span><span style=\"font-weight: bold\">]</span>, <span style=\"color: #7f7f7f; text-decoration-color: #7f7f7f\">            </span>\n",
       "<span style=\"color: #7fbfbf; text-decoration-color: #7fbfbf\">                    </span>         <span style=\"color: #808000; text-decoration-color: #808000\">pos</span>=<span style=\"font-weight: bold\">[</span><span style=\"color: #008080; text-decoration-color: #008080; font-weight: bold\">7747</span>, <span style=\"color: #008080; text-decoration-color: #008080; font-weight: bold\">3</span><span style=\"font-weight: bold\">]</span>, <span style=\"color: #808000; text-decoration-color: #808000\">edge_index</span>=<span style=\"font-weight: bold\">[</span><span style=\"color: #008080; text-decoration-color: #008080; font-weight: bold\">2</span>, <span style=\"color: #008080; text-decoration-color: #008080; font-weight: bold\">123952</span><span style=\"font-weight: bold\">]</span>, <span style=\"color: #808000; text-decoration-color: #808000\">edge_type</span>=<span style=\"font-weight: bold\">[</span><span style=\"color: #008080; text-decoration-color: #008080; font-weight: bold\">1</span>, <span style=\"color: #008080; text-decoration-color: #008080; font-weight: bold\">123952</span><span style=\"font-weight: bold\">]</span>,             <span style=\"color: #7f7f7f; text-decoration-color: #7f7f7f\">            </span>\n",
       "<span style=\"color: #7fbfbf; text-decoration-color: #7fbfbf\">                    </span>         <span style=\"color: #808000; text-decoration-color: #808000\">num_relation</span>=<span style=\"color: #008080; text-decoration-color: #008080; font-weight: bold\">1</span>, <span style=\"color: #808000; text-decoration-color: #808000\">edge_attr</span>=<span style=\"font-weight: bold\">[</span><span style=\"color: #008080; text-decoration-color: #008080; font-weight: bold\">123952</span>, <span style=\"color: #008080; text-decoration-color: #008080; font-weight: bold\">1</span><span style=\"font-weight: bold\">])</span>                                    <span style=\"color: #7f7f7f; text-decoration-color: #7f7f7f\">            </span>\n",
       "</pre>\n"
      ],
      "text/plain": [
       "\u001b[2;36m                   \u001b[0m\u001b[2;36m \u001b[0m\u001b[34mINFO    \u001b[0m Featurized batch: \u001b[1;35mDataProteinBatch\u001b[0m\u001b[1m(\u001b[0m\u001b[33mfill_value\u001b[0m=\u001b[1;36m1e\u001b[0m\u001b[1;36m-05\u001b[0m, \u001b[33matom_list\u001b[0m=\u001b[1m[\u001b[0m\u001b[1;36m37\u001b[0m\u001b[1m]\u001b[0m,      \u001b]8;id=509635;file:///home/zhang/Projects/3d/ProteinWorkshop/proteinworkshop/train.py\u001b\\\u001b[2mtrain.py\u001b[0m\u001b]8;;\u001b\\\u001b[2m:\u001b[0m\u001b]8;id=484505;file:///home/zhang/Projects/3d/ProteinWorkshop/proteinworkshop/train.py#151\u001b\\\u001b[2m151\u001b[0m\u001b]8;;\u001b\\\n",
       "\u001b[2;36m                    \u001b[0m         \u001b[33mcoords\u001b[0m=\u001b[1m[\u001b[0m\u001b[1;36m7747\u001b[0m, \u001b[1;36m37\u001b[0m, \u001b[1;36m3\u001b[0m\u001b[1m]\u001b[0m, \u001b[33mresidues\u001b[0m=\u001b[1m[\u001b[0m\u001b[1;36m32\u001b[0m\u001b[1m]\u001b[0m, \u001b[33mid\u001b[0m=\u001b[1m[\u001b[0m\u001b[1;36m32\u001b[0m\u001b[1m]\u001b[0m, \u001b[33mresidue_id\u001b[0m=\u001b[1m[\u001b[0m\u001b[1;36m32\u001b[0m\u001b[1m]\u001b[0m,            \u001b[2m            \u001b[0m\n",
       "\u001b[2;36m                    \u001b[0m         \u001b[33mresidue_type\u001b[0m=\u001b[1m[\u001b[0m\u001b[1;36m7747\u001b[0m\u001b[1m]\u001b[0m, \u001b[33mchains\u001b[0m=\u001b[1m[\u001b[0m\u001b[1;36m7747\u001b[0m\u001b[1m]\u001b[0m, \u001b[33mgraph_y\u001b[0m=\u001b[1m[\u001b[0m\u001b[1;36m32\u001b[0m\u001b[1m]\u001b[0m, \u001b[33mx\u001b[0m=\u001b[1m[\u001b[0m\u001b[1;36m7747\u001b[0m, \u001b[1;36m43\u001b[0m\u001b[1m]\u001b[0m,           \u001b[2m            \u001b[0m\n",
       "\u001b[2;36m                    \u001b[0m         \u001b[33mamino_acid_one_hot\u001b[0m=\u001b[1m[\u001b[0m\u001b[1;36m7747\u001b[0m, \u001b[1;36m23\u001b[0m\u001b[1m]\u001b[0m, \u001b[33mseq_pos\u001b[0m=\u001b[1m[\u001b[0m\u001b[1;36m7747\u001b[0m, \u001b[1;36m1\u001b[0m\u001b[1m]\u001b[0m, \u001b[33mbatch\u001b[0m=\u001b[1m[\u001b[0m\u001b[1;36m7747\u001b[0m\u001b[1m]\u001b[0m, \u001b[33mptr\u001b[0m=\u001b[1m[\u001b[0m\u001b[1;36m33\u001b[0m\u001b[1m]\u001b[0m, \u001b[2m            \u001b[0m\n",
       "\u001b[2;36m                    \u001b[0m         \u001b[33mpos\u001b[0m=\u001b[1m[\u001b[0m\u001b[1;36m7747\u001b[0m, \u001b[1;36m3\u001b[0m\u001b[1m]\u001b[0m, \u001b[33medge_index\u001b[0m=\u001b[1m[\u001b[0m\u001b[1;36m2\u001b[0m, \u001b[1;36m123952\u001b[0m\u001b[1m]\u001b[0m, \u001b[33medge_type\u001b[0m=\u001b[1m[\u001b[0m\u001b[1;36m1\u001b[0m, \u001b[1;36m123952\u001b[0m\u001b[1m]\u001b[0m,             \u001b[2m            \u001b[0m\n",
       "\u001b[2;36m                    \u001b[0m         \u001b[33mnum_relation\u001b[0m=\u001b[1;36m1\u001b[0m, \u001b[33medge_attr\u001b[0m=\u001b[1m[\u001b[0m\u001b[1;36m123952\u001b[0m, \u001b[1;36m1\u001b[0m\u001b[1m]\u001b[0m\u001b[1m)\u001b[0m                                    \u001b[2m            \u001b[0m\n"
      ]
     },
     "metadata": {},
     "output_type": "display_data"
    },
    {
     "data": {
      "text/html": [
       "<pre style=\"white-space:pre;overflow-x:auto;line-height:normal;font-family:Menlo,'DejaVu Sans Mono',consolas,'Courier New',monospace\"><span style=\"color: #7fbfbf; text-decoration-color: #7fbfbf\">                    </span><span style=\"color: #000080; text-decoration-color: #000080\">INFO    </span> Example labels: <span style=\"font-weight: bold\">{</span><span style=\"color: #008000; text-decoration-color: #008000\">'graph_label'</span>: tensor<span style=\"font-weight: bold\">[</span><span style=\"color: #008080; text-decoration-color: #008080; font-weight: bold\">32</span><span style=\"font-weight: bold\">]</span> i64 x∈<span style=\"font-weight: bold\">[</span><span style=\"color: #008080; text-decoration-color: #008080; font-weight: bold\">0</span>, <span style=\"color: #008080; text-decoration-color: #008080; font-weight: bold\">128</span><span style=\"font-weight: bold\">]</span> <span style=\"color: #808000; text-decoration-color: #808000\">μ</span>=<span style=\"color: #008080; text-decoration-color: #008080; font-weight: bold\">103.312</span>       <a href=\"file:///home/zhang/Projects/3d/ProteinWorkshop/proteinworkshop/train.py\" target=\"_blank\"><span style=\"color: #7f7f7f; text-decoration-color: #7f7f7f\">train.py</span></a><span style=\"color: #7f7f7f; text-decoration-color: #7f7f7f\">:</span><a href=\"file:///home/zhang/Projects/3d/ProteinWorkshop/proteinworkshop/train.py#152\" target=\"_blank\"><span style=\"color: #7f7f7f; text-decoration-color: #7f7f7f\">152</span></a>\n",
       "<span style=\"color: #7fbfbf; text-decoration-color: #7fbfbf\">                    </span>         <span style=\"color: #808000; text-decoration-color: #808000\">σ</span>=<span style=\"color: #008080; text-decoration-color: #008080; font-weight: bold\">34.218</span><span style=\"font-weight: bold\">}</span>                                                                 <span style=\"color: #7f7f7f; text-decoration-color: #7f7f7f\">            </span>\n",
       "</pre>\n"
      ],
      "text/plain": [
       "\u001b[2;36m                   \u001b[0m\u001b[2;36m \u001b[0m\u001b[34mINFO    \u001b[0m Example labels: \u001b[1m{\u001b[0m\u001b[32m'graph_label'\u001b[0m: tensor\u001b[1m[\u001b[0m\u001b[1;36m32\u001b[0m\u001b[1m]\u001b[0m i64 x∈\u001b[1m[\u001b[0m\u001b[1;36m0\u001b[0m, \u001b[1;36m128\u001b[0m\u001b[1m]\u001b[0m \u001b[33mμ\u001b[0m=\u001b[1;36m103\u001b[0m\u001b[1;36m.312\u001b[0m       \u001b]8;id=464342;file:///home/zhang/Projects/3d/ProteinWorkshop/proteinworkshop/train.py\u001b\\\u001b[2mtrain.py\u001b[0m\u001b]8;;\u001b\\\u001b[2m:\u001b[0m\u001b]8;id=727722;file:///home/zhang/Projects/3d/ProteinWorkshop/proteinworkshop/train.py#152\u001b\\\u001b[2m152\u001b[0m\u001b]8;;\u001b\\\n",
       "\u001b[2;36m                    \u001b[0m         \u001b[33mσ\u001b[0m=\u001b[1;36m34\u001b[0m\u001b[1;36m.218\u001b[0m\u001b[1m}\u001b[0m                                                                 \u001b[2m            \u001b[0m\n"
      ]
     },
     "metadata": {},
     "output_type": "display_data"
    },
    {
     "data": {
      "text/html": [
       "<pre style=\"white-space:pre;overflow-x:auto;line-height:normal;font-family:Menlo,'DejaVu Sans Mono',consolas,'Courier New',monospace\"><span style=\"color: #7fbfbf; text-decoration-color: #7fbfbf\">                    </span><span style=\"color: #000080; text-decoration-color: #000080\">INFO    </span> Model output: <span style=\"font-weight: bold\">{</span><span style=\"color: #008000; text-decoration-color: #008000\">'node_embedding'</span>: tensor<span style=\"font-weight: bold\">[</span><span style=\"color: #008080; text-decoration-color: #008080; font-weight: bold\">7747</span>, <span style=\"color: #008080; text-decoration-color: #008080; font-weight: bold\">32</span><span style=\"font-weight: bold\">]</span> <span style=\"color: #808000; text-decoration-color: #808000\">n</span>=<span style=\"color: #008080; text-decoration-color: #008080; font-weight: bold\">247904</span> <span style=\"font-weight: bold\">(</span><span style=\"color: #008080; text-decoration-color: #008080; font-weight: bold\">0.</span>9Mb<span style=\"font-weight: bold\">)</span>        <a href=\"file:///home/zhang/Projects/3d/ProteinWorkshop/proteinworkshop/train.py\" target=\"_blank\"><span style=\"color: #7f7f7f; text-decoration-color: #7f7f7f\">train.py</span></a><span style=\"color: #7f7f7f; text-decoration-color: #7f7f7f\">:</span><a href=\"file:///home/zhang/Projects/3d/ProteinWorkshop/proteinworkshop/train.py#160\" target=\"_blank\"><span style=\"color: #7f7f7f; text-decoration-color: #7f7f7f\">160</span></a>\n",
       "<span style=\"color: #7fbfbf; text-decoration-color: #7fbfbf\">                    </span>         x∈<span style=\"font-weight: bold\">[</span><span style=\"color: #008080; text-decoration-color: #008080; font-weight: bold\">-0.418</span>, <span style=\"color: #008080; text-decoration-color: #008080; font-weight: bold\">0.472</span><span style=\"font-weight: bold\">]</span> <span style=\"color: #808000; text-decoration-color: #808000\">μ</span>=<span style=\"color: #008080; text-decoration-color: #008080; font-weight: bold\">-0.012</span> <span style=\"color: #808000; text-decoration-color: #808000\">σ</span>=<span style=\"color: #008080; text-decoration-color: #008080; font-weight: bold\">0.110</span>, <span style=\"color: #008000; text-decoration-color: #008000\">'graph_embedding'</span>: tensor<span style=\"font-weight: bold\">[</span><span style=\"color: #008080; text-decoration-color: #008080; font-weight: bold\">32</span>, <span style=\"color: #008080; text-decoration-color: #008080; font-weight: bold\">32</span><span style=\"font-weight: bold\">]</span>     <span style=\"color: #7f7f7f; text-decoration-color: #7f7f7f\">            </span>\n",
       "<span style=\"color: #7fbfbf; text-decoration-color: #7fbfbf\">                    </span>         <span style=\"color: #808000; text-decoration-color: #808000\">n</span>=<span style=\"color: #008080; text-decoration-color: #008080; font-weight: bold\">1024</span> <span style=\"font-weight: bold\">(</span>4Kb<span style=\"font-weight: bold\">)</span> x∈<span style=\"font-weight: bold\">[</span><span style=\"color: #008080; text-decoration-color: #008080; font-weight: bold\">-80.666</span>, <span style=\"color: #008080; text-decoration-color: #008080; font-weight: bold\">77.640</span><span style=\"font-weight: bold\">]</span> <span style=\"color: #808000; text-decoration-color: #808000\">μ</span>=<span style=\"color: #008080; text-decoration-color: #008080; font-weight: bold\">-2.890</span> <span style=\"color: #808000; text-decoration-color: #808000\">σ</span>=<span style=\"color: #008080; text-decoration-color: #008080; font-weight: bold\">21.860</span>, <span style=\"color: #008000; text-decoration-color: #008000\">'graph_label'</span>:        <span style=\"color: #7f7f7f; text-decoration-color: #7f7f7f\">            </span>\n",
       "<span style=\"color: #7fbfbf; text-decoration-color: #7fbfbf\">                    </span>         tensor<span style=\"font-weight: bold\">[</span><span style=\"color: #008080; text-decoration-color: #008080; font-weight: bold\">32</span>, <span style=\"color: #008080; text-decoration-color: #008080; font-weight: bold\">1195</span><span style=\"font-weight: bold\">]</span> <span style=\"color: #808000; text-decoration-color: #808000\">n</span>=<span style=\"color: #008080; text-decoration-color: #008080; font-weight: bold\">38240</span> <span style=\"font-weight: bold\">(</span><span style=\"color: #008080; text-decoration-color: #008080; font-weight: bold\">0.</span>1Mb<span style=\"font-weight: bold\">)</span> x∈<span style=\"font-weight: bold\">[</span><span style=\"color: #008080; text-decoration-color: #008080; font-weight: bold\">-23.965</span>, <span style=\"color: #008080; text-decoration-color: #008080; font-weight: bold\">24.667</span><span style=\"font-weight: bold\">]</span> <span style=\"color: #808000; text-decoration-color: #808000\">μ</span>=<span style=\"color: #008080; text-decoration-color: #008080; font-weight: bold\">0.069</span> <span style=\"color: #808000; text-decoration-color: #808000\">σ</span>=<span style=\"color: #008080; text-decoration-color: #008080; font-weight: bold\">3.907</span><span style=\"font-weight: bold\">}</span>     <span style=\"color: #7f7f7f; text-decoration-color: #7f7f7f\">            </span>\n",
       "</pre>\n"
      ],
      "text/plain": [
       "\u001b[2;36m                   \u001b[0m\u001b[2;36m \u001b[0m\u001b[34mINFO    \u001b[0m Model output: \u001b[1m{\u001b[0m\u001b[32m'node_embedding'\u001b[0m: tensor\u001b[1m[\u001b[0m\u001b[1;36m7747\u001b[0m, \u001b[1;36m32\u001b[0m\u001b[1m]\u001b[0m \u001b[33mn\u001b[0m=\u001b[1;36m247904\u001b[0m \u001b[1m(\u001b[0m\u001b[1;36m0.\u001b[0m9Mb\u001b[1m)\u001b[0m        \u001b]8;id=336972;file:///home/zhang/Projects/3d/ProteinWorkshop/proteinworkshop/train.py\u001b\\\u001b[2mtrain.py\u001b[0m\u001b]8;;\u001b\\\u001b[2m:\u001b[0m\u001b]8;id=375568;file:///home/zhang/Projects/3d/ProteinWorkshop/proteinworkshop/train.py#160\u001b\\\u001b[2m160\u001b[0m\u001b]8;;\u001b\\\n",
       "\u001b[2;36m                    \u001b[0m         x∈\u001b[1m[\u001b[0m\u001b[1;36m-0.418\u001b[0m, \u001b[1;36m0.472\u001b[0m\u001b[1m]\u001b[0m \u001b[33mμ\u001b[0m=\u001b[1;36m-0.012\u001b[0m \u001b[33mσ\u001b[0m=\u001b[1;36m0\u001b[0m\u001b[1;36m.110\u001b[0m, \u001b[32m'graph_embedding'\u001b[0m: tensor\u001b[1m[\u001b[0m\u001b[1;36m32\u001b[0m, \u001b[1;36m32\u001b[0m\u001b[1m]\u001b[0m     \u001b[2m            \u001b[0m\n",
       "\u001b[2;36m                    \u001b[0m         \u001b[33mn\u001b[0m=\u001b[1;36m1024\u001b[0m \u001b[1m(\u001b[0m4Kb\u001b[1m)\u001b[0m x∈\u001b[1m[\u001b[0m\u001b[1;36m-80.666\u001b[0m, \u001b[1;36m77.640\u001b[0m\u001b[1m]\u001b[0m \u001b[33mμ\u001b[0m=\u001b[1;36m-2.890\u001b[0m \u001b[33mσ\u001b[0m=\u001b[1;36m21\u001b[0m\u001b[1;36m.860\u001b[0m, \u001b[32m'graph_label'\u001b[0m:        \u001b[2m            \u001b[0m\n",
       "\u001b[2;36m                    \u001b[0m         tensor\u001b[1m[\u001b[0m\u001b[1;36m32\u001b[0m, \u001b[1;36m1195\u001b[0m\u001b[1m]\u001b[0m \u001b[33mn\u001b[0m=\u001b[1;36m38240\u001b[0m \u001b[1m(\u001b[0m\u001b[1;36m0.\u001b[0m1Mb\u001b[1m)\u001b[0m x∈\u001b[1m[\u001b[0m\u001b[1;36m-23.965\u001b[0m, \u001b[1;36m24.667\u001b[0m\u001b[1m]\u001b[0m \u001b[33mμ\u001b[0m=\u001b[1;36m0\u001b[0m\u001b[1;36m.069\u001b[0m \u001b[33mσ\u001b[0m=\u001b[1;36m3\u001b[0m\u001b[1;36m.907\u001b[0m\u001b[1m}\u001b[0m     \u001b[2m            \u001b[0m\n"
      ]
     },
     "metadata": {},
     "output_type": "display_data"
    },
    {
     "data": {
      "text/html": [
       "<pre style=\"white-space:pre;overflow-x:auto;line-height:normal;font-family:Menlo,'DejaVu Sans Mono',consolas,'Courier New',monospace\"><span style=\"color: #7fbfbf; text-decoration-color: #7fbfbf\">                    </span><span style=\"color: #000080; text-decoration-color: #000080\">INFO    </span> Logging hyperparameters!                                                  <a href=\"file:///home/zhang/Projects/3d/ProteinWorkshop/proteinworkshop/train.py\" target=\"_blank\"><span style=\"color: #7f7f7f; text-decoration-color: #7f7f7f\">train.py</span></a><span style=\"color: #7f7f7f; text-decoration-color: #7f7f7f\">:</span><a href=\"file:///home/zhang/Projects/3d/ProteinWorkshop/proteinworkshop/train.py#173\" target=\"_blank\"><span style=\"color: #7f7f7f; text-decoration-color: #7f7f7f\">173</span></a>\n",
       "</pre>\n"
      ],
      "text/plain": [
       "\u001b[2;36m                   \u001b[0m\u001b[2;36m \u001b[0m\u001b[34mINFO    \u001b[0m Logging hyperparameters!                                                  \u001b]8;id=732170;file:///home/zhang/Projects/3d/ProteinWorkshop/proteinworkshop/train.py\u001b\\\u001b[2mtrain.py\u001b[0m\u001b]8;;\u001b\\\u001b[2m:\u001b[0m\u001b]8;id=469224;file:///home/zhang/Projects/3d/ProteinWorkshop/proteinworkshop/train.py#173\u001b\\\u001b[2m173\u001b[0m\u001b]8;;\u001b\\\n"
      ]
     },
     "metadata": {},
     "output_type": "display_data"
    },
    {
     "data": {
      "text/html": [
       "<pre style=\"white-space:pre;overflow-x:auto;line-height:normal;font-family:Menlo,'DejaVu Sans Mono',consolas,'Courier New',monospace\"><span style=\"color: #7fbfbf; text-decoration-color: #7fbfbf\">                    </span><span style=\"color: #000080; text-decoration-color: #000080\">INFO    </span> Starting training!                                                        <a href=\"file:///home/zhang/Projects/3d/ProteinWorkshop/proteinworkshop/train.py\" target=\"_blank\"><span style=\"color: #7f7f7f; text-decoration-color: #7f7f7f\">train.py</span></a><span style=\"color: #7f7f7f; text-decoration-color: #7f7f7f\">:</span><a href=\"file:///home/zhang/Projects/3d/ProteinWorkshop/proteinworkshop/train.py#181\" target=\"_blank\"><span style=\"color: #7f7f7f; text-decoration-color: #7f7f7f\">181</span></a>\n",
       "</pre>\n"
      ],
      "text/plain": [
       "\u001b[2;36m                   \u001b[0m\u001b[2;36m \u001b[0m\u001b[34mINFO    \u001b[0m Starting training!                                                        \u001b]8;id=248123;file:///home/zhang/Projects/3d/ProteinWorkshop/proteinworkshop/train.py\u001b\\\u001b[2mtrain.py\u001b[0m\u001b]8;;\u001b\\\u001b[2m:\u001b[0m\u001b]8;id=829731;file:///home/zhang/Projects/3d/ProteinWorkshop/proteinworkshop/train.py#181\u001b\\\u001b[2m181\u001b[0m\u001b]8;;\u001b\\\n"
      ]
     },
     "metadata": {},
     "output_type": "display_data"
    },
    {
     "name": "stderr",
     "output_type": "stream",
     "text": [
      "You are using a CUDA device ('NVIDIA GeForce RTX 4090') that has Tensor Cores. To properly utilize them, you should set `torch.set_float32_matmul_precision('medium' | 'high')` which will trade-off precision for performance. For more details, read https://pytorch.org/docs/stable/generated/torch.set_float32_matmul_precision.html#torch.set_float32_matmul_precision\n"
     ]
    },
    {
     "data": {
      "text/html": [
       "<pre style=\"white-space:pre;overflow-x:auto;line-height:normal;font-family:Menlo,'DejaVu Sans Mono',consolas,'Courier New',monospace\"><span style=\"color: #7fbfbf; text-decoration-color: #7fbfbf\">                    </span><span style=\"color: #000080; text-decoration-color: #000080\">INFO    </span> Downloading Protein Function. Fraction <span style=\"color: #008080; text-decoration-color: #008080; font-weight: bold\">1.0</span>                   <a href=\"file:///home/zhang/Projects/3d/ProteinWorkshop/proteinworkshop/datasets/fold_classification.py\" target=\"_blank\"><span style=\"color: #7f7f7f; text-decoration-color: #7f7f7f\">fold_classification.py</span></a><span style=\"color: #7f7f7f; text-decoration-color: #7f7f7f\">:</span><a href=\"file:///home/zhang/Projects/3d/ProteinWorkshop/proteinworkshop/datasets/fold_classification.py#86\" target=\"_blank\"><span style=\"color: #7f7f7f; text-decoration-color: #7f7f7f\">86</span></a>\n",
       "</pre>\n"
      ],
      "text/plain": [
       "\u001b[2;36m                   \u001b[0m\u001b[2;36m \u001b[0m\u001b[34mINFO    \u001b[0m Downloading Protein Function. Fraction \u001b[1;36m1.0\u001b[0m                   \u001b]8;id=455637;file:///home/zhang/Projects/3d/ProteinWorkshop/proteinworkshop/datasets/fold_classification.py\u001b\\\u001b[2mfold_classification.py\u001b[0m\u001b]8;;\u001b\\\u001b[2m:\u001b[0m\u001b]8;id=251564;file:///home/zhang/Projects/3d/ProteinWorkshop/proteinworkshop/datasets/fold_classification.py#86\u001b\\\u001b[2m86\u001b[0m\u001b]8;;\u001b\\\n"
      ]
     },
     "metadata": {},
     "output_type": "display_data"
    },
    {
     "data": {
      "text/html": [
       "<pre style=\"white-space:pre;overflow-x:auto;line-height:normal;font-family:Menlo,'DejaVu Sans Mono',consolas,'Courier New',monospace\"><span style=\"color: #7fbfbf; text-decoration-color: #7fbfbf\">                    </span><span style=\"color: #000080; text-decoration-color: #000080\">INFO    </span> Found SCOP structure tarfile in:                            <a href=\"file:///home/zhang/Projects/3d/ProteinWorkshop/proteinworkshop/datasets/fold_classification.py\" target=\"_blank\"><span style=\"color: #7f7f7f; text-decoration-color: #7f7f7f\">fold_classification.py</span></a><span style=\"color: #7f7f7f; text-decoration-color: #7f7f7f\">:</span><a href=\"file:///home/zhang/Projects/3d/ProteinWorkshop/proteinworkshop/datasets/fold_classification.py#138\" target=\"_blank\"><span style=\"color: #7f7f7f; text-decoration-color: #7f7f7f\">138</span></a>\n",
       "<span style=\"color: #7fbfbf; text-decoration-color: #7fbfbf\">                    </span>         <span style=\"color: #800080; text-decoration-color: #800080\">/home/zhang/Projects/3d/ProteinWorkshop/proteinworkshop/dat</span> <span style=\"color: #7f7f7f; text-decoration-color: #7f7f7f\">                          </span>\n",
       "<span style=\"color: #7fbfbf; text-decoration-color: #7fbfbf\">                    </span>         <span style=\"color: #800080; text-decoration-color: #800080\">a/FoldClassification/</span><span style=\"color: #ff00ff; text-decoration-color: #ff00ff\">pdbstyle-sel-gs-bib-95-1.75.tgz</span>        <span style=\"color: #7f7f7f; text-decoration-color: #7f7f7f\">                          </span>\n",
       "</pre>\n"
      ],
      "text/plain": [
       "\u001b[2;36m                   \u001b[0m\u001b[2;36m \u001b[0m\u001b[34mINFO    \u001b[0m Found SCOP structure tarfile in:                            \u001b]8;id=668410;file:///home/zhang/Projects/3d/ProteinWorkshop/proteinworkshop/datasets/fold_classification.py\u001b\\\u001b[2mfold_classification.py\u001b[0m\u001b]8;;\u001b\\\u001b[2m:\u001b[0m\u001b]8;id=50997;file:///home/zhang/Projects/3d/ProteinWorkshop/proteinworkshop/datasets/fold_classification.py#138\u001b\\\u001b[2m138\u001b[0m\u001b]8;;\u001b\\\n",
       "\u001b[2;36m                    \u001b[0m         \u001b[35m/home/zhang/Projects/3d/ProteinWorkshop/proteinworkshop/dat\u001b[0m \u001b[2m                          \u001b[0m\n",
       "\u001b[2;36m                    \u001b[0m         \u001b[35ma/FoldClassification/\u001b[0m\u001b[95mpdbstyle-sel-gs-bib-95-1.75.tgz\u001b[0m        \u001b[2m                          \u001b[0m\n"
      ]
     },
     "metadata": {},
     "output_type": "display_data"
    },
    {
     "data": {
      "text/html": [
       "<pre style=\"white-space:pre;overflow-x:auto;line-height:normal;font-family:Menlo,'DejaVu Sans Mono',consolas,'Courier New',monospace\"><span style=\"color: #7fbfbf; text-decoration-color: #7fbfbf\">                    </span><span style=\"color: #000080; text-decoration-color: #000080\">INFO    </span> Found SCOPe structures in:                                  <a href=\"file:///home/zhang/Projects/3d/ProteinWorkshop/proteinworkshop/datasets/fold_classification.py\" target=\"_blank\"><span style=\"color: #7f7f7f; text-decoration-color: #7f7f7f\">fold_classification.py</span></a><span style=\"color: #7f7f7f; text-decoration-color: #7f7f7f\">:</span><a href=\"file:///home/zhang/Projects/3d/ProteinWorkshop/proteinworkshop/datasets/fold_classification.py#151\" target=\"_blank\"><span style=\"color: #7f7f7f; text-decoration-color: #7f7f7f\">151</span></a>\n",
       "</pre>\n"
      ],
      "text/plain": [
       "\u001b[2;36m                   \u001b[0m\u001b[2;36m \u001b[0m\u001b[34mINFO    \u001b[0m Found SCOPe structures in:                                  \u001b]8;id=137207;file:///home/zhang/Projects/3d/ProteinWorkshop/proteinworkshop/datasets/fold_classification.py\u001b\\\u001b[2mfold_classification.py\u001b[0m\u001b]8;;\u001b\\\u001b[2m:\u001b[0m\u001b]8;id=827020;file:///home/zhang/Projects/3d/ProteinWorkshop/proteinworkshop/datasets/fold_classification.py#151\u001b\\\u001b[2m151\u001b[0m\u001b]8;;\u001b\\\n"
      ]
     },
     "metadata": {},
     "output_type": "display_data"
    },
    {
     "data": {
      "text/html": [
       "<pre style=\"white-space:pre;overflow-x:auto;line-height:normal;font-family:Menlo,'DejaVu Sans Mono',consolas,'Courier New',monospace\"><span style=\"color: #7fbfbf; text-decoration-color: #7fbfbf\">                    </span><span style=\"color: #000080; text-decoration-color: #000080\">INFO    </span> Preprocessing training data                                                 <a href=\"file:///home/zhang/Projects/3d/ProteinWorkshop/proteinworkshop/datasets/base.py\" target=\"_blank\"><span style=\"color: #7f7f7f; text-decoration-color: #7f7f7f\">base.py</span></a><span style=\"color: #7f7f7f; text-decoration-color: #7f7f7f\">:</span><a href=\"file:///home/zhang/Projects/3d/ProteinWorkshop/proteinworkshop/datasets/base.py#87\" target=\"_blank\"><span style=\"color: #7f7f7f; text-decoration-color: #7f7f7f\">87</span></a>\n",
       "</pre>\n"
      ],
      "text/plain": [
       "\u001b[2;36m                   \u001b[0m\u001b[2;36m \u001b[0m\u001b[34mINFO    \u001b[0m Preprocessing training data                                                 \u001b]8;id=983974;file:///home/zhang/Projects/3d/ProteinWorkshop/proteinworkshop/datasets/base.py\u001b\\\u001b[2mbase.py\u001b[0m\u001b]8;;\u001b\\\u001b[2m:\u001b[0m\u001b]8;id=673198;file:///home/zhang/Projects/3d/ProteinWorkshop/proteinworkshop/datasets/base.py#87\u001b\\\u001b[2m87\u001b[0m\u001b]8;;\u001b\\\n"
      ]
     },
     "metadata": {},
     "output_type": "display_data"
    },
    {
     "data": {
      "text/html": [
       "<pre style=\"white-space:pre;overflow-x:auto;line-height:normal;font-family:Menlo,'DejaVu Sans Mono',consolas,'Courier New',monospace\"><span style=\"color: #7fbfbf; text-decoration-color: #7fbfbf\">                    </span><span style=\"color: #000080; text-decoration-color: #000080\">INFO    </span> Reading labels from:                                        <a href=\"file:///home/zhang/Projects/3d/ProteinWorkshop/proteinworkshop/datasets/fold_classification.py\" target=\"_blank\"><span style=\"color: #7f7f7f; text-decoration-color: #7f7f7f\">fold_classification.py</span></a><span style=\"color: #7f7f7f; text-decoration-color: #7f7f7f\">:</span><a href=\"file:///home/zhang/Projects/3d/ProteinWorkshop/proteinworkshop/datasets/fold_classification.py#154\" target=\"_blank\"><span style=\"color: #7f7f7f; text-decoration-color: #7f7f7f\">154</span></a>\n",
       "<span style=\"color: #7fbfbf; text-decoration-color: #7fbfbf\">                    </span>         <span style=\"color: #800080; text-decoration-color: #800080\">/home/zhang/Projects/3d/ProteinWorkshop/proteinworkshop/dat</span> <span style=\"color: #7f7f7f; text-decoration-color: #7f7f7f\">                          </span>\n",
       "<span style=\"color: #7fbfbf; text-decoration-color: #7fbfbf\">                    </span>         <span style=\"color: #800080; text-decoration-color: #800080\">a/FoldClassification/</span><span style=\"color: #ff00ff; text-decoration-color: #ff00ff\">class_map.txt</span>                          <span style=\"color: #7f7f7f; text-decoration-color: #7f7f7f\">                          </span>\n",
       "</pre>\n"
      ],
      "text/plain": [
       "\u001b[2;36m                   \u001b[0m\u001b[2;36m \u001b[0m\u001b[34mINFO    \u001b[0m Reading labels from:                                        \u001b]8;id=951167;file:///home/zhang/Projects/3d/ProteinWorkshop/proteinworkshop/datasets/fold_classification.py\u001b\\\u001b[2mfold_classification.py\u001b[0m\u001b]8;;\u001b\\\u001b[2m:\u001b[0m\u001b]8;id=198973;file:///home/zhang/Projects/3d/ProteinWorkshop/proteinworkshop/datasets/fold_classification.py#154\u001b\\\u001b[2m154\u001b[0m\u001b]8;;\u001b\\\n",
       "\u001b[2;36m                    \u001b[0m         \u001b[35m/home/zhang/Projects/3d/ProteinWorkshop/proteinworkshop/dat\u001b[0m \u001b[2m                          \u001b[0m\n",
       "\u001b[2;36m                    \u001b[0m         \u001b[35ma/FoldClassification/\u001b[0m\u001b[95mclass_map.txt\u001b[0m                          \u001b[2m                          \u001b[0m\n"
      ]
     },
     "metadata": {},
     "output_type": "display_data"
    },
    {
     "data": {
      "text/html": [
       "<pre style=\"white-space:pre;overflow-x:auto;line-height:normal;font-family:Menlo,'DejaVu Sans Mono',consolas,'Courier New',monospace\"><span style=\"color: #7fbfbf; text-decoration-color: #7fbfbf\">                    </span><span style=\"color: #000080; text-decoration-color: #000080\">INFO    </span> Found <span style=\"color: #008080; text-decoration-color: #008080; font-weight: bold\">12312</span> original examples in training                   <a href=\"file:///home/zhang/Projects/3d/ProteinWorkshop/proteinworkshop/datasets/fold_classification.py\" target=\"_blank\"><span style=\"color: #7f7f7f; text-decoration-color: #7f7f7f\">fold_classification.py</span></a><span style=\"color: #7f7f7f; text-decoration-color: #7f7f7f\">:</span><a href=\"file:///home/zhang/Projects/3d/ProteinWorkshop/proteinworkshop/datasets/fold_classification.py#234\" target=\"_blank\"><span style=\"color: #7f7f7f; text-decoration-color: #7f7f7f\">234</span></a>\n",
       "</pre>\n"
      ],
      "text/plain": [
       "\u001b[2;36m                   \u001b[0m\u001b[2;36m \u001b[0m\u001b[34mINFO    \u001b[0m Found \u001b[1;36m12312\u001b[0m original examples in training                   \u001b]8;id=958114;file:///home/zhang/Projects/3d/ProteinWorkshop/proteinworkshop/datasets/fold_classification.py\u001b\\\u001b[2mfold_classification.py\u001b[0m\u001b]8;;\u001b\\\u001b[2m:\u001b[0m\u001b]8;id=556601;file:///home/zhang/Projects/3d/ProteinWorkshop/proteinworkshop/datasets/fold_classification.py#234\u001b\\\u001b[2m234\u001b[0m\u001b]8;;\u001b\\\n"
      ]
     },
     "metadata": {},
     "output_type": "display_data"
    },
    {
     "data": {
      "text/html": [
       "<pre style=\"white-space:pre;overflow-x:auto;line-height:normal;font-family:Menlo,'DejaVu Sans Mono',consolas,'Courier New',monospace\"><span style=\"color: #7fbfbf; text-decoration-color: #7fbfbf\">                    </span><span style=\"color: #000080; text-decoration-color: #000080\">INFO    </span> Identified <span style=\"color: #008080; text-decoration-color: #008080; font-weight: bold\">1195</span> classes                                     <a href=\"file:///home/zhang/Projects/3d/ProteinWorkshop/proteinworkshop/datasets/fold_classification.py\" target=\"_blank\"><span style=\"color: #7f7f7f; text-decoration-color: #7f7f7f\">fold_classification.py</span></a><span style=\"color: #7f7f7f; text-decoration-color: #7f7f7f\">:</span><a href=\"file:///home/zhang/Projects/3d/ProteinWorkshop/proteinworkshop/datasets/fold_classification.py#247\" target=\"_blank\"><span style=\"color: #7f7f7f; text-decoration-color: #7f7f7f\">247</span></a>\n",
       "</pre>\n"
      ],
      "text/plain": [
       "\u001b[2;36m                   \u001b[0m\u001b[2;36m \u001b[0m\u001b[34mINFO    \u001b[0m Identified \u001b[1;36m1195\u001b[0m classes                                     \u001b]8;id=111135;file:///home/zhang/Projects/3d/ProteinWorkshop/proteinworkshop/datasets/fold_classification.py\u001b\\\u001b[2mfold_classification.py\u001b[0m\u001b]8;;\u001b\\\u001b[2m:\u001b[0m\u001b]8;id=882482;file:///home/zhang/Projects/3d/ProteinWorkshop/proteinworkshop/datasets/fold_classification.py#247\u001b\\\u001b[2m247\u001b[0m\u001b]8;;\u001b\\\n"
      ]
     },
     "metadata": {},
     "output_type": "display_data"
    },
    {
     "data": {
      "text/html": [
       "<pre style=\"white-space:pre;overflow-x:auto;line-height:normal;font-family:Menlo,'DejaVu Sans Mono',consolas,'Courier New',monospace\"><span style=\"color: #7fbfbf; text-decoration-color: #7fbfbf\">[07/28/24 16:31:37] </span><span style=\"color: #000080; text-decoration-color: #000080\">INFO    </span> All structures already processed and <span style=\"color: #808000; text-decoration-color: #808000\">overwrite</span>=<span style=\"color: #ff0000; text-decoration-color: #ff0000; font-style: italic\">False</span>. Skipping download.   <a href=\"file:///home/zhang/Projects/3d/ProteinWorkshop/proteinworkshop/datasets/base.py\" target=\"_blank\"><span style=\"color: #7f7f7f; text-decoration-color: #7f7f7f\">base.py</span></a><span style=\"color: #7f7f7f; text-decoration-color: #7f7f7f\">:</span><a href=\"file:///home/zhang/Projects/3d/ProteinWorkshop/proteinworkshop/datasets/base.py#327\" target=\"_blank\"><span style=\"color: #7f7f7f; text-decoration-color: #7f7f7f\">327</span></a>\n",
       "</pre>\n"
      ],
      "text/plain": [
       "\u001b[2;36m[07/28/24 16:31:37]\u001b[0m\u001b[2;36m \u001b[0m\u001b[34mINFO    \u001b[0m All structures already processed and \u001b[33moverwrite\u001b[0m=\u001b[3;91mFalse\u001b[0m. Skipping download.   \u001b]8;id=108437;file:///home/zhang/Projects/3d/ProteinWorkshop/proteinworkshop/datasets/base.py\u001b\\\u001b[2mbase.py\u001b[0m\u001b]8;;\u001b\\\u001b[2m:\u001b[0m\u001b]8;id=873735;file:///home/zhang/Projects/3d/ProteinWorkshop/proteinworkshop/datasets/base.py#327\u001b\\\u001b[2m327\u001b[0m\u001b]8;;\u001b\\\n"
      ]
     },
     "metadata": {},
     "output_type": "display_data"
    },
    {
     "data": {
      "text/html": [
       "<pre style=\"white-space:pre;overflow-x:auto;line-height:normal;font-family:Menlo,'DejaVu Sans Mono',consolas,'Courier New',monospace\"><span style=\"color: #7fbfbf; text-decoration-color: #7fbfbf\">                    </span><span style=\"color: #800000; text-decoration-color: #800000\">WARNING </span> Downloads in .ent format are assumed to be from ASTRAL. These data should  <a href=\"file:///home/zhang/Projects/3d/ProteinWorkshop/proteinworkshop/datasets/base.py\" target=\"_blank\"><span style=\"color: #7f7f7f; text-decoration-color: #7f7f7f\">base.py</span></a><span style=\"color: #7f7f7f; text-decoration-color: #7f7f7f\">:</span><a href=\"file:///home/zhang/Projects/3d/ProteinWorkshop/proteinworkshop/datasets/base.py#357\" target=\"_blank\"><span style=\"color: #7f7f7f; text-decoration-color: #7f7f7f\">357</span></a>\n",
       "<span style=\"color: #7fbfbf; text-decoration-color: #7fbfbf\">                    </span>         have already been downloaded                                               <span style=\"color: #7f7f7f; text-decoration-color: #7f7f7f\">           </span>\n",
       "</pre>\n"
      ],
      "text/plain": [
       "\u001b[2;36m                   \u001b[0m\u001b[2;36m \u001b[0m\u001b[31mWARNING \u001b[0m Downloads in .ent format are assumed to be from ASTRAL. These data should  \u001b]8;id=267204;file:///home/zhang/Projects/3d/ProteinWorkshop/proteinworkshop/datasets/base.py\u001b\\\u001b[2mbase.py\u001b[0m\u001b]8;;\u001b\\\u001b[2m:\u001b[0m\u001b]8;id=100322;file:///home/zhang/Projects/3d/ProteinWorkshop/proteinworkshop/datasets/base.py#357\u001b\\\u001b[2m357\u001b[0m\u001b]8;;\u001b\\\n",
       "\u001b[2;36m                    \u001b[0m         have already been downloaded                                               \u001b[2m           \u001b[0m\n"
      ]
     },
     "metadata": {},
     "output_type": "display_data"
    },
    {
     "data": {
      "text/html": [
       "<pre style=\"white-space:pre;overflow-x:auto;line-height:normal;font-family:Menlo,'DejaVu Sans Mono',consolas,'Courier New',monospace\"><span style=\"color: #7fbfbf; text-decoration-color: #7fbfbf\">                    </span><span style=\"color: #000080; text-decoration-color: #000080\">INFO    </span> Reading data into memory                                                   <a href=\"file:///home/zhang/Projects/3d/ProteinWorkshop/proteinworkshop/datasets/base.py\" target=\"_blank\"><span style=\"color: #7f7f7f; text-decoration-color: #7f7f7f\">base.py</span></a><span style=\"color: #7f7f7f; text-decoration-color: #7f7f7f\">:</span><a href=\"file:///home/zhang/Projects/3d/ProteinWorkshop/proteinworkshop/datasets/base.py#337\" target=\"_blank\"><span style=\"color: #7f7f7f; text-decoration-color: #7f7f7f\">337</span></a>\n",
       "</pre>\n"
      ],
      "text/plain": [
       "\u001b[2;36m                   \u001b[0m\u001b[2;36m \u001b[0m\u001b[34mINFO    \u001b[0m Reading data into memory                                                   \u001b]8;id=412234;file:///home/zhang/Projects/3d/ProteinWorkshop/proteinworkshop/datasets/base.py\u001b\\\u001b[2mbase.py\u001b[0m\u001b]8;;\u001b\\\u001b[2m:\u001b[0m\u001b]8;id=53774;file:///home/zhang/Projects/3d/ProteinWorkshop/proteinworkshop/datasets/base.py#337\u001b\\\u001b[2m337\u001b[0m\u001b]8;;\u001b\\\n"
      ]
     },
     "metadata": {},
     "output_type": "display_data"
    },
    {
     "name": "stderr",
     "output_type": "stream",
     "text": [
      "100%|██████████| 12312/12312 [00:03<00:00, 4030.10it/s]\n"
     ]
    },
    {
     "data": {
      "text/html": [
       "<pre style=\"white-space:pre;overflow-x:auto;line-height:normal;font-family:Menlo,'DejaVu Sans Mono',consolas,'Courier New',monospace\"><span style=\"color: #7fbfbf; text-decoration-color: #7fbfbf\">[07/28/24 16:31:40] </span><span style=\"color: #000080; text-decoration-color: #000080\">INFO    </span> Preprocessing validation data                                               <a href=\"file:///home/zhang/Projects/3d/ProteinWorkshop/proteinworkshop/datasets/base.py\" target=\"_blank\"><span style=\"color: #7f7f7f; text-decoration-color: #7f7f7f\">base.py</span></a><span style=\"color: #7f7f7f; text-decoration-color: #7f7f7f\">:</span><a href=\"file:///home/zhang/Projects/3d/ProteinWorkshop/proteinworkshop/datasets/base.py#89\" target=\"_blank\"><span style=\"color: #7f7f7f; text-decoration-color: #7f7f7f\">89</span></a>\n",
       "</pre>\n"
      ],
      "text/plain": [
       "\u001b[2;36m[07/28/24 16:31:40]\u001b[0m\u001b[2;36m \u001b[0m\u001b[34mINFO    \u001b[0m Preprocessing validation data                                               \u001b]8;id=589161;file:///home/zhang/Projects/3d/ProteinWorkshop/proteinworkshop/datasets/base.py\u001b\\\u001b[2mbase.py\u001b[0m\u001b]8;;\u001b\\\u001b[2m:\u001b[0m\u001b]8;id=493656;file:///home/zhang/Projects/3d/ProteinWorkshop/proteinworkshop/datasets/base.py#89\u001b\\\u001b[2m89\u001b[0m\u001b]8;;\u001b\\\n"
      ]
     },
     "metadata": {},
     "output_type": "display_data"
    },
    {
     "name": "stderr",
     "output_type": "stream",
     "text": [
      "LOCAL_RANK: 0 - CUDA_VISIBLE_DEVICES: [0]\n"
     ]
    },
    {
     "data": {
      "text/html": [
       "<pre style=\"white-space:pre;overflow-x:auto;line-height:normal;font-family:Menlo,'DejaVu Sans Mono',consolas,'Courier New',monospace\"><span style=\"color: #7fbfbf; text-decoration-color: #7fbfbf\">                    </span><span style=\"color: #000080; text-decoration-color: #000080\">INFO    </span> Instantiating optimiser<span style=\"color: #808000; text-decoration-color: #808000\">...</span>                                                 <a href=\"file:///home/zhang/Projects/3d/ProteinWorkshop/proteinworkshop/models/base.py\" target=\"_blank\"><span style=\"color: #7f7f7f; text-decoration-color: #7f7f7f\">base.py</span></a><span style=\"color: #7f7f7f; text-decoration-color: #7f7f7f\">:</span><a href=\"file:///home/zhang/Projects/3d/ProteinWorkshop/proteinworkshop/models/base.py#215\" target=\"_blank\"><span style=\"color: #7f7f7f; text-decoration-color: #7f7f7f\">215</span></a>\n",
       "</pre>\n"
      ],
      "text/plain": [
       "\u001b[2;36m                   \u001b[0m\u001b[2;36m \u001b[0m\u001b[34mINFO    \u001b[0m Instantiating optimiser\u001b[33m...\u001b[0m                                                 \u001b]8;id=708162;file:///home/zhang/Projects/3d/ProteinWorkshop/proteinworkshop/models/base.py\u001b\\\u001b[2mbase.py\u001b[0m\u001b]8;;\u001b\\\u001b[2m:\u001b[0m\u001b]8;id=752460;file:///home/zhang/Projects/3d/ProteinWorkshop/proteinworkshop/models/base.py#215\u001b\\\u001b[2m215\u001b[0m\u001b]8;;\u001b\\\n"
      ]
     },
     "metadata": {},
     "output_type": "display_data"
    },
    {
     "data": {
      "text/html": [
       "<pre style=\"white-space:pre;overflow-x:auto;line-height:normal;font-family:Menlo,'DejaVu Sans Mono',consolas,'Courier New',monospace\"><span style=\"color: #7fbfbf; text-decoration-color: #7fbfbf\">                    </span><span style=\"color: #000080; text-decoration-color: #000080\">INFO    </span> <span style=\"color: #800080; text-decoration-color: #800080; font-weight: bold\">functools.partial</span><span style=\"font-weight: bold\">(&lt;</span><span style=\"color: #ff00ff; text-decoration-color: #ff00ff; font-weight: bold\">class</span><span style=\"color: #000000; text-decoration-color: #000000\"> </span><span style=\"color: #008000; text-decoration-color: #008000\">'torch.optim.adam.Adam'</span><span style=\"font-weight: bold\">&gt;</span>, <span style=\"color: #808000; text-decoration-color: #808000\">lr</span>=<span style=\"color: #008080; text-decoration-color: #008080; font-weight: bold\">0.0003</span>,              <a href=\"file:///home/zhang/Projects/3d/ProteinWorkshop/proteinworkshop/models/base.py\" target=\"_blank\"><span style=\"color: #7f7f7f; text-decoration-color: #7f7f7f\">base.py</span></a><span style=\"color: #7f7f7f; text-decoration-color: #7f7f7f\">:</span><a href=\"file:///home/zhang/Projects/3d/ProteinWorkshop/proteinworkshop/models/base.py#217\" target=\"_blank\"><span style=\"color: #7f7f7f; text-decoration-color: #7f7f7f\">217</span></a>\n",
       "<span style=\"color: #7fbfbf; text-decoration-color: #7fbfbf\">                    </span>         <span style=\"color: #808000; text-decoration-color: #808000\">weight_decay</span>=<span style=\"color: #008080; text-decoration-color: #008080; font-weight: bold\">0.0</span><span style=\"font-weight: bold\">)</span>                                                          <span style=\"color: #7f7f7f; text-decoration-color: #7f7f7f\">           </span>\n",
       "</pre>\n"
      ],
      "text/plain": [
       "\u001b[2;36m                   \u001b[0m\u001b[2;36m \u001b[0m\u001b[34mINFO    \u001b[0m \u001b[1;35mfunctools.partial\u001b[0m\u001b[1m(\u001b[0m\u001b[1m<\u001b[0m\u001b[1;95mclass\u001b[0m\u001b[39m \u001b[0m\u001b[32m'torch.optim.adam.Adam'\u001b[0m\u001b[1m>\u001b[0m, \u001b[33mlr\u001b[0m=\u001b[1;36m0\u001b[0m\u001b[1;36m.0003\u001b[0m,              \u001b]8;id=112881;file:///home/zhang/Projects/3d/ProteinWorkshop/proteinworkshop/models/base.py\u001b\\\u001b[2mbase.py\u001b[0m\u001b]8;;\u001b\\\u001b[2m:\u001b[0m\u001b]8;id=699287;file:///home/zhang/Projects/3d/ProteinWorkshop/proteinworkshop/models/base.py#217\u001b\\\u001b[2m217\u001b[0m\u001b]8;;\u001b\\\n",
       "\u001b[2;36m                    \u001b[0m         \u001b[33mweight_decay\u001b[0m=\u001b[1;36m0\u001b[0m\u001b[1;36m.0\u001b[0m\u001b[1m)\u001b[0m                                                          \u001b[2m           \u001b[0m\n"
      ]
     },
     "metadata": {},
     "output_type": "display_data"
    },
    {
     "data": {
      "text/html": [
       "<pre style=\"white-space:pre;overflow-x:auto;line-height:normal;font-family:Menlo,'DejaVu Sans Mono',consolas,'Courier New',monospace\"><span style=\"color: #7fbfbf; text-decoration-color: #7fbfbf\">                    </span><span style=\"color: #000080; text-decoration-color: #000080\">INFO    </span> Instantiating scheduler<span style=\"color: #808000; text-decoration-color: #808000\">...</span>                                                 <a href=\"file:///home/zhang/Projects/3d/ProteinWorkshop/proteinworkshop/models/base.py\" target=\"_blank\"><span style=\"color: #7f7f7f; text-decoration-color: #7f7f7f\">base.py</span></a><span style=\"color: #7f7f7f; text-decoration-color: #7f7f7f\">:</span><a href=\"file:///home/zhang/Projects/3d/ProteinWorkshop/proteinworkshop/models/base.py#221\" target=\"_blank\"><span style=\"color: #7f7f7f; text-decoration-color: #7f7f7f\">221</span></a>\n",
       "</pre>\n"
      ],
      "text/plain": [
       "\u001b[2;36m                   \u001b[0m\u001b[2;36m \u001b[0m\u001b[34mINFO    \u001b[0m Instantiating scheduler\u001b[33m...\u001b[0m                                                 \u001b]8;id=713885;file:///home/zhang/Projects/3d/ProteinWorkshop/proteinworkshop/models/base.py\u001b\\\u001b[2mbase.py\u001b[0m\u001b]8;;\u001b\\\u001b[2m:\u001b[0m\u001b]8;id=707803;file:///home/zhang/Projects/3d/ProteinWorkshop/proteinworkshop/models/base.py#221\u001b\\\u001b[2m221\u001b[0m\u001b]8;;\u001b\\\n"
      ]
     },
     "metadata": {},
     "output_type": "display_data"
    },
    {
     "data": {
      "text/html": [
       "<pre style=\"white-space:pre;overflow-x:auto;line-height:normal;font-family:Menlo,'DejaVu Sans Mono',consolas,'Courier New',monospace\"><span style=\"color: #7fbfbf; text-decoration-color: #7fbfbf\">                    </span><span style=\"color: #000080; text-decoration-color: #000080\">INFO    </span> Optimiser configuration: <span style=\"font-weight: bold\">{</span><span style=\"color: #008000; text-decoration-color: #008000\">'optimizer'</span>: Adam <span style=\"font-weight: bold\">(</span>                              <a href=\"file:///home/zhang/Projects/3d/ProteinWorkshop/proteinworkshop/models/base.py\" target=\"_blank\"><span style=\"color: #7f7f7f; text-decoration-color: #7f7f7f\">base.py</span></a><span style=\"color: #7f7f7f; text-decoration-color: #7f7f7f\">:</span><a href=\"file:///home/zhang/Projects/3d/ProteinWorkshop/proteinworkshop/models/base.py#233\" target=\"_blank\"><span style=\"color: #7f7f7f; text-decoration-color: #7f7f7f\">233</span></a>\n",
       "<span style=\"color: #7fbfbf; text-decoration-color: #7fbfbf\">                    </span>         Parameter Group <span style=\"color: #008080; text-decoration-color: #008080; font-weight: bold\">0</span>                                                          <span style=\"color: #7f7f7f; text-decoration-color: #7f7f7f\">           </span>\n",
       "<span style=\"color: #7fbfbf; text-decoration-color: #7fbfbf\">                    </span>             amsgrad: <span style=\"color: #ff0000; text-decoration-color: #ff0000; font-style: italic\">False</span>                                                         <span style=\"color: #7f7f7f; text-decoration-color: #7f7f7f\">           </span>\n",
       "<span style=\"color: #7fbfbf; text-decoration-color: #7fbfbf\">                    </span>             betas: <span style=\"font-weight: bold\">(</span><span style=\"color: #008080; text-decoration-color: #008080; font-weight: bold\">0.9</span>, <span style=\"color: #008080; text-decoration-color: #008080; font-weight: bold\">0.999</span><span style=\"font-weight: bold\">)</span>                                                    <span style=\"color: #7f7f7f; text-decoration-color: #7f7f7f\">           </span>\n",
       "<span style=\"color: #7fbfbf; text-decoration-color: #7fbfbf\">                    </span>             capturable: <span style=\"color: #ff0000; text-decoration-color: #ff0000; font-style: italic\">False</span>                                                      <span style=\"color: #7f7f7f; text-decoration-color: #7f7f7f\">           </span>\n",
       "<span style=\"color: #7fbfbf; text-decoration-color: #7fbfbf\">                    </span>             differentiable: <span style=\"color: #ff0000; text-decoration-color: #ff0000; font-style: italic\">False</span>                                                  <span style=\"color: #7f7f7f; text-decoration-color: #7f7f7f\">           </span>\n",
       "<span style=\"color: #7fbfbf; text-decoration-color: #7fbfbf\">                    </span>             eps: <span style=\"color: #008080; text-decoration-color: #008080; font-weight: bold\">1e-08</span>                                                             <span style=\"color: #7f7f7f; text-decoration-color: #7f7f7f\">           </span>\n",
       "<span style=\"color: #7fbfbf; text-decoration-color: #7fbfbf\">                    </span>             foreach: <span style=\"color: #800080; text-decoration-color: #800080; font-style: italic\">None</span>                                                          <span style=\"color: #7f7f7f; text-decoration-color: #7f7f7f\">           </span>\n",
       "<span style=\"color: #7fbfbf; text-decoration-color: #7fbfbf\">                    </span>             fused: <span style=\"color: #800080; text-decoration-color: #800080; font-style: italic\">None</span>                                                            <span style=\"color: #7f7f7f; text-decoration-color: #7f7f7f\">           </span>\n",
       "<span style=\"color: #7fbfbf; text-decoration-color: #7fbfbf\">                    </span>             lr: <span style=\"color: #008080; text-decoration-color: #008080; font-weight: bold\">0.0003</span>                                                             <span style=\"color: #7f7f7f; text-decoration-color: #7f7f7f\">           </span>\n",
       "<span style=\"color: #7fbfbf; text-decoration-color: #7fbfbf\">                    </span>             maximize: <span style=\"color: #ff0000; text-decoration-color: #ff0000; font-style: italic\">False</span>                                                        <span style=\"color: #7f7f7f; text-decoration-color: #7f7f7f\">           </span>\n",
       "<span style=\"color: #7fbfbf; text-decoration-color: #7fbfbf\">                    </span>             weight_decay: <span style=\"color: #008080; text-decoration-color: #008080; font-weight: bold\">0.0</span>                                                      <span style=\"color: #7f7f7f; text-decoration-color: #7f7f7f\">           </span>\n",
       "<span style=\"color: #7fbfbf; text-decoration-color: #7fbfbf\">                    </span>         <span style=\"font-weight: bold\">)</span>, <span style=\"color: #008000; text-decoration-color: #008000\">'lr_scheduler'</span>: <span style=\"font-weight: bold\">{</span><span style=\"color: #008000; text-decoration-color: #008000\">'scheduler'</span>:                                           <span style=\"color: #7f7f7f; text-decoration-color: #7f7f7f\">           </span>\n",
       "<span style=\"color: #7fbfbf; text-decoration-color: #7fbfbf\">                    </span>         <span style=\"font-weight: bold\">&lt;</span><span style=\"color: #ff00ff; text-decoration-color: #ff00ff; font-weight: bold\">torch.optim.lr_scheduler.ReduceLROnPlateau</span><span style=\"color: #000000; text-decoration-color: #000000\"> object at </span><span style=\"color: #008080; text-decoration-color: #008080; font-weight: bold\">0x70f85cf3f1f0</span><span style=\"font-weight: bold\">&gt;</span>,     <span style=\"color: #7f7f7f; text-decoration-color: #7f7f7f\">           </span>\n",
       "<span style=\"color: #7fbfbf; text-decoration-color: #7fbfbf\">                    </span>         <span style=\"color: #008000; text-decoration-color: #008000\">'interval'</span>: <span style=\"color: #008000; text-decoration-color: #008000\">'epoch'</span>, <span style=\"color: #008000; text-decoration-color: #008000\">'frequency'</span>: <span style=\"color: #008080; text-decoration-color: #008080; font-weight: bold\">1</span>, <span style=\"color: #008000; text-decoration-color: #008000\">'monitor'</span>: <span style=\"color: #008000; text-decoration-color: #008000\">'val/loss/total'</span>,          <span style=\"color: #7f7f7f; text-decoration-color: #7f7f7f\">           </span>\n",
       "<span style=\"color: #7fbfbf; text-decoration-color: #7fbfbf\">                    </span>         <span style=\"color: #008000; text-decoration-color: #008000\">'strict'</span>: <span style=\"color: #00ff00; text-decoration-color: #00ff00; font-style: italic\">True</span>, <span style=\"color: #008000; text-decoration-color: #008000\">'name'</span>: <span style=\"color: #008000; text-decoration-color: #008000\">'learning_rate'</span><span style=\"font-weight: bold\">}}</span>                                  <span style=\"color: #7f7f7f; text-decoration-color: #7f7f7f\">           </span>\n",
       "</pre>\n"
      ],
      "text/plain": [
       "\u001b[2;36m                   \u001b[0m\u001b[2;36m \u001b[0m\u001b[34mINFO    \u001b[0m Optimiser configuration: \u001b[1m{\u001b[0m\u001b[32m'optimizer'\u001b[0m: Adam \u001b[1m(\u001b[0m                              \u001b]8;id=195258;file:///home/zhang/Projects/3d/ProteinWorkshop/proteinworkshop/models/base.py\u001b\\\u001b[2mbase.py\u001b[0m\u001b]8;;\u001b\\\u001b[2m:\u001b[0m\u001b]8;id=376133;file:///home/zhang/Projects/3d/ProteinWorkshop/proteinworkshop/models/base.py#233\u001b\\\u001b[2m233\u001b[0m\u001b]8;;\u001b\\\n",
       "\u001b[2;36m                    \u001b[0m         Parameter Group \u001b[1;36m0\u001b[0m                                                          \u001b[2m           \u001b[0m\n",
       "\u001b[2;36m                    \u001b[0m             amsgrad: \u001b[3;91mFalse\u001b[0m                                                         \u001b[2m           \u001b[0m\n",
       "\u001b[2;36m                    \u001b[0m             betas: \u001b[1m(\u001b[0m\u001b[1;36m0.9\u001b[0m, \u001b[1;36m0.999\u001b[0m\u001b[1m)\u001b[0m                                                    \u001b[2m           \u001b[0m\n",
       "\u001b[2;36m                    \u001b[0m             capturable: \u001b[3;91mFalse\u001b[0m                                                      \u001b[2m           \u001b[0m\n",
       "\u001b[2;36m                    \u001b[0m             differentiable: \u001b[3;91mFalse\u001b[0m                                                  \u001b[2m           \u001b[0m\n",
       "\u001b[2;36m                    \u001b[0m             eps: \u001b[1;36m1e-08\u001b[0m                                                             \u001b[2m           \u001b[0m\n",
       "\u001b[2;36m                    \u001b[0m             foreach: \u001b[3;35mNone\u001b[0m                                                          \u001b[2m           \u001b[0m\n",
       "\u001b[2;36m                    \u001b[0m             fused: \u001b[3;35mNone\u001b[0m                                                            \u001b[2m           \u001b[0m\n",
       "\u001b[2;36m                    \u001b[0m             lr: \u001b[1;36m0.0003\u001b[0m                                                             \u001b[2m           \u001b[0m\n",
       "\u001b[2;36m                    \u001b[0m             maximize: \u001b[3;91mFalse\u001b[0m                                                        \u001b[2m           \u001b[0m\n",
       "\u001b[2;36m                    \u001b[0m             weight_decay: \u001b[1;36m0.0\u001b[0m                                                      \u001b[2m           \u001b[0m\n",
       "\u001b[2;36m                    \u001b[0m         \u001b[1m)\u001b[0m, \u001b[32m'lr_scheduler'\u001b[0m: \u001b[1m{\u001b[0m\u001b[32m'scheduler'\u001b[0m:                                           \u001b[2m           \u001b[0m\n",
       "\u001b[2;36m                    \u001b[0m         \u001b[1m<\u001b[0m\u001b[1;95mtorch.optim.lr_scheduler.ReduceLROnPlateau\u001b[0m\u001b[39m object at \u001b[0m\u001b[1;36m0x70f85cf3f1f0\u001b[0m\u001b[1m>\u001b[0m,     \u001b[2m           \u001b[0m\n",
       "\u001b[2;36m                    \u001b[0m         \u001b[32m'interval'\u001b[0m: \u001b[32m'epoch'\u001b[0m, \u001b[32m'frequency'\u001b[0m: \u001b[1;36m1\u001b[0m, \u001b[32m'monitor'\u001b[0m: \u001b[32m'val/loss/total'\u001b[0m,          \u001b[2m           \u001b[0m\n",
       "\u001b[2;36m                    \u001b[0m         \u001b[32m'strict'\u001b[0m: \u001b[3;92mTrue\u001b[0m, \u001b[32m'name'\u001b[0m: \u001b[32m'learning_rate'\u001b[0m\u001b[1m}\u001b[0m\u001b[1m}\u001b[0m                                  \u001b[2m           \u001b[0m\n"
      ]
     },
     "metadata": {},
     "output_type": "display_data"
    },
    {
     "name": "stderr",
     "output_type": "stream",
     "text": [
      "/home/zhang/miniconda3/envs/3d/lib/python3.10/site-packages/lightning/pytorch/trainer/connectors/data_connector.py:368: UserWarning:\n",
      "\n",
      "You have overridden `on_after_batch_transfer` in `LightningModule` but have passed in a `LightningDataModule`. It will use the implementation from `LightningModule` instance.\n",
      "\n"
     ]
    },
    {
     "data": {
      "text/html": [
       "<pre style=\"white-space:pre;overflow-x:auto;line-height:normal;font-family:Menlo,'DejaVu Sans Mono',consolas,'Courier New',monospace\">┏━━━━━┳━━━━━━━━━━━━━━━━━━━━━━━━━━━━━━━━━━━━━━━━━━━━━┳━━━━━━━━━━━━━━┳━━━━━━━━┳━━━━━━━┳━━━━━━━━━━━━━━┳━━━━━━━━━━━━━━┓\n",
       "┃<span style=\"color: #800080; text-decoration-color: #800080; font-weight: bold\">     </span>┃<span style=\"color: #800080; text-decoration-color: #800080; font-weight: bold\"> Name                                        </span>┃<span style=\"color: #800080; text-decoration-color: #800080; font-weight: bold\"> Type         </span>┃<span style=\"color: #800080; text-decoration-color: #800080; font-weight: bold\"> Params </span>┃<span style=\"color: #800080; text-decoration-color: #800080; font-weight: bold\"> Mode  </span>┃<span style=\"color: #800080; text-decoration-color: #800080; font-weight: bold\">     In sizes </span>┃<span style=\"color: #800080; text-decoration-color: #800080; font-weight: bold\">    Out sizes </span>┃\n",
       "┡━━━━━╇━━━━━━━━━━━━━━━━━━━━━━━━━━━━━━━━━━━━━━━━━━━━━╇━━━━━━━━━━━━━━╇━━━━━━━━╇━━━━━━━╇━━━━━━━━━━━━━━╇━━━━━━━━━━━━━━┩\n",
       "│<span style=\"color: #7f7f7f; text-decoration-color: #7f7f7f\"> 0   </span>│ encoder                                     │ SchNetModel  │  2.7 M │ train │<span style=\"color: #c0c0c0; text-decoration-color: #c0c0c0\">            ? </span>│<span style=\"color: #c0c0c0; text-decoration-color: #c0c0c0\">            ? </span>│\n",
       "│<span style=\"color: #7f7f7f; text-decoration-color: #7f7f7f\"> 1   </span>│ encoder.sum_aggr                            │ SumAggregat… │      0 │ train │<span style=\"color: #c0c0c0; text-decoration-color: #c0c0c0\">            ? </span>│<span style=\"color: #c0c0c0; text-decoration-color: #c0c0c0\">            ? </span>│\n",
       "│<span style=\"color: #7f7f7f; text-decoration-color: #7f7f7f\"> 2   </span>│ encoder.embedding                           │ Linear       │ 22.5 K │ train │<span style=\"color: #c0c0c0; text-decoration-color: #c0c0c0\">  [11442, 43] </span>│<span style=\"color: #c0c0c0; text-decoration-color: #c0c0c0\"> [11442, 512] </span>│\n",
       "│<span style=\"color: #7f7f7f; text-decoration-color: #7f7f7f\"> 3   </span>│ encoder.distance_expansion                  │ GaussianSme… │      0 │ train │<span style=\"color: #c0c0c0; text-decoration-color: #c0c0c0\">     [183072] </span>│<span style=\"color: #c0c0c0; text-decoration-color: #c0c0c0\"> [183072, 50] </span>│\n",
       "│<span style=\"color: #7f7f7f; text-decoration-color: #7f7f7f\"> 4   </span>│ encoder.interactions                        │ ModuleList   │  2.5 M │ train │<span style=\"color: #c0c0c0; text-decoration-color: #c0c0c0\">            ? </span>│<span style=\"color: #c0c0c0; text-decoration-color: #c0c0c0\">            ? </span>│\n",
       "│<span style=\"color: #7f7f7f; text-decoration-color: #7f7f7f\"> 5   </span>│ encoder.interactions.0                      │ Interaction… │  417 K │ train │<span style=\"color: #c0c0c0; text-decoration-color: #c0c0c0\">     [[11442, </span>│<span style=\"color: #c0c0c0; text-decoration-color: #c0c0c0\"> [11442, 512] </span>│\n",
       "│<span style=\"color: #7f7f7f; text-decoration-color: #7f7f7f\">     </span>│                                             │              │        │       │<span style=\"color: #c0c0c0; text-decoration-color: #c0c0c0\">    512], [2, </span>│<span style=\"color: #c0c0c0; text-decoration-color: #c0c0c0\">              </span>│\n",
       "│<span style=\"color: #7f7f7f; text-decoration-color: #7f7f7f\">     </span>│                                             │              │        │       │<span style=\"color: #c0c0c0; text-decoration-color: #c0c0c0\">     183072], </span>│<span style=\"color: #c0c0c0; text-decoration-color: #c0c0c0\">              </span>│\n",
       "│<span style=\"color: #7f7f7f; text-decoration-color: #7f7f7f\">     </span>│                                             │              │        │       │<span style=\"color: #c0c0c0; text-decoration-color: #c0c0c0\">    [183072], </span>│<span style=\"color: #c0c0c0; text-decoration-color: #c0c0c0\">              </span>│\n",
       "│<span style=\"color: #7f7f7f; text-decoration-color: #7f7f7f\">     </span>│                                             │              │        │       │<span style=\"color: #c0c0c0; text-decoration-color: #c0c0c0\">     [183072, </span>│<span style=\"color: #c0c0c0; text-decoration-color: #c0c0c0\">              </span>│\n",
       "│<span style=\"color: #7f7f7f; text-decoration-color: #7f7f7f\">     </span>│                                             │              │        │       │<span style=\"color: #c0c0c0; text-decoration-color: #c0c0c0\">         50]] </span>│<span style=\"color: #c0c0c0; text-decoration-color: #c0c0c0\">              </span>│\n",
       "│<span style=\"color: #7f7f7f; text-decoration-color: #7f7f7f\"> 6   </span>│ encoder.interactions.0.mlp                  │ Sequential   │ 23.0 K │ train │<span style=\"color: #c0c0c0; text-decoration-color: #c0c0c0\"> [183072, 50] </span>│<span style=\"color: #c0c0c0; text-decoration-color: #c0c0c0\">     [183072, </span>│\n",
       "│<span style=\"color: #7f7f7f; text-decoration-color: #7f7f7f\">     </span>│                                             │              │        │       │<span style=\"color: #c0c0c0; text-decoration-color: #c0c0c0\">              </span>│<span style=\"color: #c0c0c0; text-decoration-color: #c0c0c0\">         128] </span>│\n",
       "│<span style=\"color: #7f7f7f; text-decoration-color: #7f7f7f\"> 7   </span>│ encoder.interactions.0.mlp.0                │ Linear       │  6.5 K │ train │<span style=\"color: #c0c0c0; text-decoration-color: #c0c0c0\"> [183072, 50] </span>│<span style=\"color: #c0c0c0; text-decoration-color: #c0c0c0\">     [183072, </span>│\n",
       "│<span style=\"color: #7f7f7f; text-decoration-color: #7f7f7f\">     </span>│                                             │              │        │       │<span style=\"color: #c0c0c0; text-decoration-color: #c0c0c0\">              </span>│<span style=\"color: #c0c0c0; text-decoration-color: #c0c0c0\">         128] </span>│\n",
       "│<span style=\"color: #7f7f7f; text-decoration-color: #7f7f7f\"> 8   </span>│ encoder.interactions.0.mlp.1                │ ShiftedSoft… │      0 │ train │<span style=\"color: #c0c0c0; text-decoration-color: #c0c0c0\">     [183072, </span>│<span style=\"color: #c0c0c0; text-decoration-color: #c0c0c0\">     [183072, </span>│\n",
       "│<span style=\"color: #7f7f7f; text-decoration-color: #7f7f7f\">     </span>│                                             │              │        │       │<span style=\"color: #c0c0c0; text-decoration-color: #c0c0c0\">         128] </span>│<span style=\"color: #c0c0c0; text-decoration-color: #c0c0c0\">         128] </span>│\n",
       "│<span style=\"color: #7f7f7f; text-decoration-color: #7f7f7f\"> 9   </span>│ encoder.interactions.0.mlp.2                │ Linear       │ 16.5 K │ train │<span style=\"color: #c0c0c0; text-decoration-color: #c0c0c0\">     [183072, </span>│<span style=\"color: #c0c0c0; text-decoration-color: #c0c0c0\">     [183072, </span>│\n",
       "│<span style=\"color: #7f7f7f; text-decoration-color: #7f7f7f\">     </span>│                                             │              │        │       │<span style=\"color: #c0c0c0; text-decoration-color: #c0c0c0\">         128] </span>│<span style=\"color: #c0c0c0; text-decoration-color: #c0c0c0\">         128] </span>│\n",
       "│<span style=\"color: #7f7f7f; text-decoration-color: #7f7f7f\"> 10  </span>│ encoder.interactions.0.conv                 │ CFConv       │  154 K │ train │<span style=\"color: #c0c0c0; text-decoration-color: #c0c0c0\">     [[11442, </span>│<span style=\"color: #c0c0c0; text-decoration-color: #c0c0c0\"> [11442, 512] </span>│\n",
       "│<span style=\"color: #7f7f7f; text-decoration-color: #7f7f7f\">     </span>│                                             │              │        │       │<span style=\"color: #c0c0c0; text-decoration-color: #c0c0c0\">    512], [2, </span>│<span style=\"color: #c0c0c0; text-decoration-color: #c0c0c0\">              </span>│\n",
       "│<span style=\"color: #7f7f7f; text-decoration-color: #7f7f7f\">     </span>│                                             │              │        │       │<span style=\"color: #c0c0c0; text-decoration-color: #c0c0c0\">     183072], </span>│<span style=\"color: #c0c0c0; text-decoration-color: #c0c0c0\">              </span>│\n",
       "│<span style=\"color: #7f7f7f; text-decoration-color: #7f7f7f\">     </span>│                                             │              │        │       │<span style=\"color: #c0c0c0; text-decoration-color: #c0c0c0\">    [183072], </span>│<span style=\"color: #c0c0c0; text-decoration-color: #c0c0c0\">              </span>│\n",
       "│<span style=\"color: #7f7f7f; text-decoration-color: #7f7f7f\">     </span>│                                             │              │        │       │<span style=\"color: #c0c0c0; text-decoration-color: #c0c0c0\">     [183072, </span>│<span style=\"color: #c0c0c0; text-decoration-color: #c0c0c0\">              </span>│\n",
       "│<span style=\"color: #7f7f7f; text-decoration-color: #7f7f7f\">     </span>│                                             │              │        │       │<span style=\"color: #c0c0c0; text-decoration-color: #c0c0c0\">         50]] </span>│<span style=\"color: #c0c0c0; text-decoration-color: #c0c0c0\">              </span>│\n",
       "│<span style=\"color: #7f7f7f; text-decoration-color: #7f7f7f\"> 11  </span>│ encoder.interactions.0.conv.aggr_module     │ SumAggregat… │      0 │ train │<span style=\"color: #c0c0c0; text-decoration-color: #c0c0c0\">    [[183072, </span>│<span style=\"color: #c0c0c0; text-decoration-color: #c0c0c0\"> [11442, 128] </span>│\n",
       "│<span style=\"color: #7f7f7f; text-decoration-color: #7f7f7f\">     </span>│                                             │              │        │       │<span style=\"color: #c0c0c0; text-decoration-color: #c0c0c0\">        128], </span>│<span style=\"color: #c0c0c0; text-decoration-color: #c0c0c0\">              </span>│\n",
       "│<span style=\"color: #7f7f7f; text-decoration-color: #7f7f7f\">     </span>│                                             │              │        │       │<span style=\"color: #c0c0c0; text-decoration-color: #c0c0c0\">    [183072], </span>│<span style=\"color: #c0c0c0; text-decoration-color: #c0c0c0\">              </span>│\n",
       "│<span style=\"color: #7f7f7f; text-decoration-color: #7f7f7f\">     </span>│                                             │              │        │       │<span style=\"color: #c0c0c0; text-decoration-color: #c0c0c0\">    '?', '?', </span>│<span style=\"color: #c0c0c0; text-decoration-color: #c0c0c0\">              </span>│\n",
       "│<span style=\"color: #7f7f7f; text-decoration-color: #7f7f7f\">     </span>│                                             │              │        │       │<span style=\"color: #c0c0c0; text-decoration-color: #c0c0c0\">         '?'] </span>│<span style=\"color: #c0c0c0; text-decoration-color: #c0c0c0\">              </span>│\n",
       "│<span style=\"color: #7f7f7f; text-decoration-color: #7f7f7f\"> 12  </span>│ encoder.interactions.0.conv.lin1            │ Linear       │ 65.5 K │ train │<span style=\"color: #c0c0c0; text-decoration-color: #c0c0c0\"> [11442, 512] </span>│<span style=\"color: #c0c0c0; text-decoration-color: #c0c0c0\"> [11442, 128] </span>│\n",
       "│<span style=\"color: #7f7f7f; text-decoration-color: #7f7f7f\"> 13  </span>│ encoder.interactions.0.conv.lin2            │ Linear       │ 66.0 K │ train │<span style=\"color: #c0c0c0; text-decoration-color: #c0c0c0\"> [11442, 128] </span>│<span style=\"color: #c0c0c0; text-decoration-color: #c0c0c0\"> [11442, 512] </span>│\n",
       "│<span style=\"color: #7f7f7f; text-decoration-color: #7f7f7f\"> 14  </span>│ encoder.interactions.0.act                  │ ShiftedSoft… │      0 │ train │<span style=\"color: #c0c0c0; text-decoration-color: #c0c0c0\"> [11442, 512] </span>│<span style=\"color: #c0c0c0; text-decoration-color: #c0c0c0\"> [11442, 512] </span>│\n",
       "│<span style=\"color: #7f7f7f; text-decoration-color: #7f7f7f\"> 15  </span>│ encoder.interactions.0.lin                  │ Linear       │  262 K │ train │<span style=\"color: #c0c0c0; text-decoration-color: #c0c0c0\"> [11442, 512] </span>│<span style=\"color: #c0c0c0; text-decoration-color: #c0c0c0\"> [11442, 512] </span>│\n",
       "│<span style=\"color: #7f7f7f; text-decoration-color: #7f7f7f\"> 16  </span>│ encoder.interactions.1                      │ Interaction… │  417 K │ train │<span style=\"color: #c0c0c0; text-decoration-color: #c0c0c0\">     [[11442, </span>│<span style=\"color: #c0c0c0; text-decoration-color: #c0c0c0\"> [11442, 512] </span>│\n",
       "│<span style=\"color: #7f7f7f; text-decoration-color: #7f7f7f\">     </span>│                                             │              │        │       │<span style=\"color: #c0c0c0; text-decoration-color: #c0c0c0\">    512], [2, </span>│<span style=\"color: #c0c0c0; text-decoration-color: #c0c0c0\">              </span>│\n",
       "│<span style=\"color: #7f7f7f; text-decoration-color: #7f7f7f\">     </span>│                                             │              │        │       │<span style=\"color: #c0c0c0; text-decoration-color: #c0c0c0\">     183072], </span>│<span style=\"color: #c0c0c0; text-decoration-color: #c0c0c0\">              </span>│\n",
       "│<span style=\"color: #7f7f7f; text-decoration-color: #7f7f7f\">     </span>│                                             │              │        │       │<span style=\"color: #c0c0c0; text-decoration-color: #c0c0c0\">    [183072], </span>│<span style=\"color: #c0c0c0; text-decoration-color: #c0c0c0\">              </span>│\n",
       "│<span style=\"color: #7f7f7f; text-decoration-color: #7f7f7f\">     </span>│                                             │              │        │       │<span style=\"color: #c0c0c0; text-decoration-color: #c0c0c0\">     [183072, </span>│<span style=\"color: #c0c0c0; text-decoration-color: #c0c0c0\">              </span>│\n",
       "│<span style=\"color: #7f7f7f; text-decoration-color: #7f7f7f\">     </span>│                                             │              │        │       │<span style=\"color: #c0c0c0; text-decoration-color: #c0c0c0\">         50]] </span>│<span style=\"color: #c0c0c0; text-decoration-color: #c0c0c0\">              </span>│\n",
       "│<span style=\"color: #7f7f7f; text-decoration-color: #7f7f7f\"> 17  </span>│ encoder.interactions.1.mlp                  │ Sequential   │ 23.0 K │ train │<span style=\"color: #c0c0c0; text-decoration-color: #c0c0c0\"> [183072, 50] </span>│<span style=\"color: #c0c0c0; text-decoration-color: #c0c0c0\">     [183072, </span>│\n",
       "│<span style=\"color: #7f7f7f; text-decoration-color: #7f7f7f\">     </span>│                                             │              │        │       │<span style=\"color: #c0c0c0; text-decoration-color: #c0c0c0\">              </span>│<span style=\"color: #c0c0c0; text-decoration-color: #c0c0c0\">         128] </span>│\n",
       "│<span style=\"color: #7f7f7f; text-decoration-color: #7f7f7f\"> 18  </span>│ encoder.interactions.1.mlp.0                │ Linear       │  6.5 K │ train │<span style=\"color: #c0c0c0; text-decoration-color: #c0c0c0\"> [183072, 50] </span>│<span style=\"color: #c0c0c0; text-decoration-color: #c0c0c0\">     [183072, </span>│\n",
       "│<span style=\"color: #7f7f7f; text-decoration-color: #7f7f7f\">     </span>│                                             │              │        │       │<span style=\"color: #c0c0c0; text-decoration-color: #c0c0c0\">              </span>│<span style=\"color: #c0c0c0; text-decoration-color: #c0c0c0\">         128] </span>│\n",
       "│<span style=\"color: #7f7f7f; text-decoration-color: #7f7f7f\"> 19  </span>│ encoder.interactions.1.mlp.1                │ ShiftedSoft… │      0 │ train │<span style=\"color: #c0c0c0; text-decoration-color: #c0c0c0\">     [183072, </span>│<span style=\"color: #c0c0c0; text-decoration-color: #c0c0c0\">     [183072, </span>│\n",
       "│<span style=\"color: #7f7f7f; text-decoration-color: #7f7f7f\">     </span>│                                             │              │        │       │<span style=\"color: #c0c0c0; text-decoration-color: #c0c0c0\">         128] </span>│<span style=\"color: #c0c0c0; text-decoration-color: #c0c0c0\">         128] </span>│\n",
       "│<span style=\"color: #7f7f7f; text-decoration-color: #7f7f7f\"> 20  </span>│ encoder.interactions.1.mlp.2                │ Linear       │ 16.5 K │ train │<span style=\"color: #c0c0c0; text-decoration-color: #c0c0c0\">     [183072, </span>│<span style=\"color: #c0c0c0; text-decoration-color: #c0c0c0\">     [183072, </span>│\n",
       "│<span style=\"color: #7f7f7f; text-decoration-color: #7f7f7f\">     </span>│                                             │              │        │       │<span style=\"color: #c0c0c0; text-decoration-color: #c0c0c0\">         128] </span>│<span style=\"color: #c0c0c0; text-decoration-color: #c0c0c0\">         128] </span>│\n",
       "│<span style=\"color: #7f7f7f; text-decoration-color: #7f7f7f\"> 21  </span>│ encoder.interactions.1.conv                 │ CFConv       │  154 K │ train │<span style=\"color: #c0c0c0; text-decoration-color: #c0c0c0\">     [[11442, </span>│<span style=\"color: #c0c0c0; text-decoration-color: #c0c0c0\"> [11442, 512] </span>│\n",
       "│<span style=\"color: #7f7f7f; text-decoration-color: #7f7f7f\">     </span>│                                             │              │        │       │<span style=\"color: #c0c0c0; text-decoration-color: #c0c0c0\">    512], [2, </span>│<span style=\"color: #c0c0c0; text-decoration-color: #c0c0c0\">              </span>│\n",
       "│<span style=\"color: #7f7f7f; text-decoration-color: #7f7f7f\">     </span>│                                             │              │        │       │<span style=\"color: #c0c0c0; text-decoration-color: #c0c0c0\">     183072], </span>│<span style=\"color: #c0c0c0; text-decoration-color: #c0c0c0\">              </span>│\n",
       "│<span style=\"color: #7f7f7f; text-decoration-color: #7f7f7f\">     </span>│                                             │              │        │       │<span style=\"color: #c0c0c0; text-decoration-color: #c0c0c0\">    [183072], </span>│<span style=\"color: #c0c0c0; text-decoration-color: #c0c0c0\">              </span>│\n",
       "│<span style=\"color: #7f7f7f; text-decoration-color: #7f7f7f\">     </span>│                                             │              │        │       │<span style=\"color: #c0c0c0; text-decoration-color: #c0c0c0\">     [183072, </span>│<span style=\"color: #c0c0c0; text-decoration-color: #c0c0c0\">              </span>│\n",
       "│<span style=\"color: #7f7f7f; text-decoration-color: #7f7f7f\">     </span>│                                             │              │        │       │<span style=\"color: #c0c0c0; text-decoration-color: #c0c0c0\">         50]] </span>│<span style=\"color: #c0c0c0; text-decoration-color: #c0c0c0\">              </span>│\n",
       "│<span style=\"color: #7f7f7f; text-decoration-color: #7f7f7f\"> 22  </span>│ encoder.interactions.1.conv.aggr_module     │ SumAggregat… │      0 │ train │<span style=\"color: #c0c0c0; text-decoration-color: #c0c0c0\">    [[183072, </span>│<span style=\"color: #c0c0c0; text-decoration-color: #c0c0c0\"> [11442, 128] </span>│\n",
       "│<span style=\"color: #7f7f7f; text-decoration-color: #7f7f7f\">     </span>│                                             │              │        │       │<span style=\"color: #c0c0c0; text-decoration-color: #c0c0c0\">        128], </span>│<span style=\"color: #c0c0c0; text-decoration-color: #c0c0c0\">              </span>│\n",
       "│<span style=\"color: #7f7f7f; text-decoration-color: #7f7f7f\">     </span>│                                             │              │        │       │<span style=\"color: #c0c0c0; text-decoration-color: #c0c0c0\">    [183072], </span>│<span style=\"color: #c0c0c0; text-decoration-color: #c0c0c0\">              </span>│\n",
       "│<span style=\"color: #7f7f7f; text-decoration-color: #7f7f7f\">     </span>│                                             │              │        │       │<span style=\"color: #c0c0c0; text-decoration-color: #c0c0c0\">    '?', '?', </span>│<span style=\"color: #c0c0c0; text-decoration-color: #c0c0c0\">              </span>│\n",
       "│<span style=\"color: #7f7f7f; text-decoration-color: #7f7f7f\">     </span>│                                             │              │        │       │<span style=\"color: #c0c0c0; text-decoration-color: #c0c0c0\">         '?'] </span>│<span style=\"color: #c0c0c0; text-decoration-color: #c0c0c0\">              </span>│\n",
       "│<span style=\"color: #7f7f7f; text-decoration-color: #7f7f7f\"> 23  </span>│ encoder.interactions.1.conv.lin1            │ Linear       │ 65.5 K │ train │<span style=\"color: #c0c0c0; text-decoration-color: #c0c0c0\"> [11442, 512] </span>│<span style=\"color: #c0c0c0; text-decoration-color: #c0c0c0\"> [11442, 128] </span>│\n",
       "│<span style=\"color: #7f7f7f; text-decoration-color: #7f7f7f\"> 24  </span>│ encoder.interactions.1.conv.lin2            │ Linear       │ 66.0 K │ train │<span style=\"color: #c0c0c0; text-decoration-color: #c0c0c0\"> [11442, 128] </span>│<span style=\"color: #c0c0c0; text-decoration-color: #c0c0c0\"> [11442, 512] </span>│\n",
       "│<span style=\"color: #7f7f7f; text-decoration-color: #7f7f7f\"> 25  </span>│ encoder.interactions.1.act                  │ ShiftedSoft… │      0 │ train │<span style=\"color: #c0c0c0; text-decoration-color: #c0c0c0\"> [11442, 512] </span>│<span style=\"color: #c0c0c0; text-decoration-color: #c0c0c0\"> [11442, 512] </span>│\n",
       "│<span style=\"color: #7f7f7f; text-decoration-color: #7f7f7f\"> 26  </span>│ encoder.interactions.1.lin                  │ Linear       │  262 K │ train │<span style=\"color: #c0c0c0; text-decoration-color: #c0c0c0\"> [11442, 512] </span>│<span style=\"color: #c0c0c0; text-decoration-color: #c0c0c0\"> [11442, 512] </span>│\n",
       "│<span style=\"color: #7f7f7f; text-decoration-color: #7f7f7f\"> 27  </span>│ encoder.interactions.2                      │ Interaction… │  417 K │ train │<span style=\"color: #c0c0c0; text-decoration-color: #c0c0c0\">     [[11442, </span>│<span style=\"color: #c0c0c0; text-decoration-color: #c0c0c0\"> [11442, 512] </span>│\n",
       "│<span style=\"color: #7f7f7f; text-decoration-color: #7f7f7f\">     </span>│                                             │              │        │       │<span style=\"color: #c0c0c0; text-decoration-color: #c0c0c0\">    512], [2, </span>│<span style=\"color: #c0c0c0; text-decoration-color: #c0c0c0\">              </span>│\n",
       "│<span style=\"color: #7f7f7f; text-decoration-color: #7f7f7f\">     </span>│                                             │              │        │       │<span style=\"color: #c0c0c0; text-decoration-color: #c0c0c0\">     183072], </span>│<span style=\"color: #c0c0c0; text-decoration-color: #c0c0c0\">              </span>│\n",
       "│<span style=\"color: #7f7f7f; text-decoration-color: #7f7f7f\">     </span>│                                             │              │        │       │<span style=\"color: #c0c0c0; text-decoration-color: #c0c0c0\">    [183072], </span>│<span style=\"color: #c0c0c0; text-decoration-color: #c0c0c0\">              </span>│\n",
       "│<span style=\"color: #7f7f7f; text-decoration-color: #7f7f7f\">     </span>│                                             │              │        │       │<span style=\"color: #c0c0c0; text-decoration-color: #c0c0c0\">     [183072, </span>│<span style=\"color: #c0c0c0; text-decoration-color: #c0c0c0\">              </span>│\n",
       "│<span style=\"color: #7f7f7f; text-decoration-color: #7f7f7f\">     </span>│                                             │              │        │       │<span style=\"color: #c0c0c0; text-decoration-color: #c0c0c0\">         50]] </span>│<span style=\"color: #c0c0c0; text-decoration-color: #c0c0c0\">              </span>│\n",
       "│<span style=\"color: #7f7f7f; text-decoration-color: #7f7f7f\"> 28  </span>│ encoder.interactions.2.mlp                  │ Sequential   │ 23.0 K │ train │<span style=\"color: #c0c0c0; text-decoration-color: #c0c0c0\"> [183072, 50] </span>│<span style=\"color: #c0c0c0; text-decoration-color: #c0c0c0\">     [183072, </span>│\n",
       "│<span style=\"color: #7f7f7f; text-decoration-color: #7f7f7f\">     </span>│                                             │              │        │       │<span style=\"color: #c0c0c0; text-decoration-color: #c0c0c0\">              </span>│<span style=\"color: #c0c0c0; text-decoration-color: #c0c0c0\">         128] </span>│\n",
       "│<span style=\"color: #7f7f7f; text-decoration-color: #7f7f7f\"> 29  </span>│ encoder.interactions.2.mlp.0                │ Linear       │  6.5 K │ train │<span style=\"color: #c0c0c0; text-decoration-color: #c0c0c0\"> [183072, 50] </span>│<span style=\"color: #c0c0c0; text-decoration-color: #c0c0c0\">     [183072, </span>│\n",
       "│<span style=\"color: #7f7f7f; text-decoration-color: #7f7f7f\">     </span>│                                             │              │        │       │<span style=\"color: #c0c0c0; text-decoration-color: #c0c0c0\">              </span>│<span style=\"color: #c0c0c0; text-decoration-color: #c0c0c0\">         128] </span>│\n",
       "│<span style=\"color: #7f7f7f; text-decoration-color: #7f7f7f\"> 30  </span>│ encoder.interactions.2.mlp.1                │ ShiftedSoft… │      0 │ train │<span style=\"color: #c0c0c0; text-decoration-color: #c0c0c0\">     [183072, </span>│<span style=\"color: #c0c0c0; text-decoration-color: #c0c0c0\">     [183072, </span>│\n",
       "│<span style=\"color: #7f7f7f; text-decoration-color: #7f7f7f\">     </span>│                                             │              │        │       │<span style=\"color: #c0c0c0; text-decoration-color: #c0c0c0\">         128] </span>│<span style=\"color: #c0c0c0; text-decoration-color: #c0c0c0\">         128] </span>│\n",
       "│<span style=\"color: #7f7f7f; text-decoration-color: #7f7f7f\"> 31  </span>│ encoder.interactions.2.mlp.2                │ Linear       │ 16.5 K │ train │<span style=\"color: #c0c0c0; text-decoration-color: #c0c0c0\">     [183072, </span>│<span style=\"color: #c0c0c0; text-decoration-color: #c0c0c0\">     [183072, </span>│\n",
       "│<span style=\"color: #7f7f7f; text-decoration-color: #7f7f7f\">     </span>│                                             │              │        │       │<span style=\"color: #c0c0c0; text-decoration-color: #c0c0c0\">         128] </span>│<span style=\"color: #c0c0c0; text-decoration-color: #c0c0c0\">         128] </span>│\n",
       "│<span style=\"color: #7f7f7f; text-decoration-color: #7f7f7f\"> 32  </span>│ encoder.interactions.2.conv                 │ CFConv       │  154 K │ train │<span style=\"color: #c0c0c0; text-decoration-color: #c0c0c0\">     [[11442, </span>│<span style=\"color: #c0c0c0; text-decoration-color: #c0c0c0\"> [11442, 512] </span>│\n",
       "│<span style=\"color: #7f7f7f; text-decoration-color: #7f7f7f\">     </span>│                                             │              │        │       │<span style=\"color: #c0c0c0; text-decoration-color: #c0c0c0\">    512], [2, </span>│<span style=\"color: #c0c0c0; text-decoration-color: #c0c0c0\">              </span>│\n",
       "│<span style=\"color: #7f7f7f; text-decoration-color: #7f7f7f\">     </span>│                                             │              │        │       │<span style=\"color: #c0c0c0; text-decoration-color: #c0c0c0\">     183072], </span>│<span style=\"color: #c0c0c0; text-decoration-color: #c0c0c0\">              </span>│\n",
       "│<span style=\"color: #7f7f7f; text-decoration-color: #7f7f7f\">     </span>│                                             │              │        │       │<span style=\"color: #c0c0c0; text-decoration-color: #c0c0c0\">    [183072], </span>│<span style=\"color: #c0c0c0; text-decoration-color: #c0c0c0\">              </span>│\n",
       "│<span style=\"color: #7f7f7f; text-decoration-color: #7f7f7f\">     </span>│                                             │              │        │       │<span style=\"color: #c0c0c0; text-decoration-color: #c0c0c0\">     [183072, </span>│<span style=\"color: #c0c0c0; text-decoration-color: #c0c0c0\">              </span>│\n",
       "│<span style=\"color: #7f7f7f; text-decoration-color: #7f7f7f\">     </span>│                                             │              │        │       │<span style=\"color: #c0c0c0; text-decoration-color: #c0c0c0\">         50]] </span>│<span style=\"color: #c0c0c0; text-decoration-color: #c0c0c0\">              </span>│\n",
       "│<span style=\"color: #7f7f7f; text-decoration-color: #7f7f7f\"> 33  </span>│ encoder.interactions.2.conv.aggr_module     │ SumAggregat… │      0 │ train │<span style=\"color: #c0c0c0; text-decoration-color: #c0c0c0\">    [[183072, </span>│<span style=\"color: #c0c0c0; text-decoration-color: #c0c0c0\"> [11442, 128] </span>│\n",
       "│<span style=\"color: #7f7f7f; text-decoration-color: #7f7f7f\">     </span>│                                             │              │        │       │<span style=\"color: #c0c0c0; text-decoration-color: #c0c0c0\">        128], </span>│<span style=\"color: #c0c0c0; text-decoration-color: #c0c0c0\">              </span>│\n",
       "│<span style=\"color: #7f7f7f; text-decoration-color: #7f7f7f\">     </span>│                                             │              │        │       │<span style=\"color: #c0c0c0; text-decoration-color: #c0c0c0\">    [183072], </span>│<span style=\"color: #c0c0c0; text-decoration-color: #c0c0c0\">              </span>│\n",
       "│<span style=\"color: #7f7f7f; text-decoration-color: #7f7f7f\">     </span>│                                             │              │        │       │<span style=\"color: #c0c0c0; text-decoration-color: #c0c0c0\">    '?', '?', </span>│<span style=\"color: #c0c0c0; text-decoration-color: #c0c0c0\">              </span>│\n",
       "│<span style=\"color: #7f7f7f; text-decoration-color: #7f7f7f\">     </span>│                                             │              │        │       │<span style=\"color: #c0c0c0; text-decoration-color: #c0c0c0\">         '?'] </span>│<span style=\"color: #c0c0c0; text-decoration-color: #c0c0c0\">              </span>│\n",
       "│<span style=\"color: #7f7f7f; text-decoration-color: #7f7f7f\"> 34  </span>│ encoder.interactions.2.conv.lin1            │ Linear       │ 65.5 K │ train │<span style=\"color: #c0c0c0; text-decoration-color: #c0c0c0\"> [11442, 512] </span>│<span style=\"color: #c0c0c0; text-decoration-color: #c0c0c0\"> [11442, 128] </span>│\n",
       "│<span style=\"color: #7f7f7f; text-decoration-color: #7f7f7f\"> 35  </span>│ encoder.interactions.2.conv.lin2            │ Linear       │ 66.0 K │ train │<span style=\"color: #c0c0c0; text-decoration-color: #c0c0c0\"> [11442, 128] </span>│<span style=\"color: #c0c0c0; text-decoration-color: #c0c0c0\"> [11442, 512] </span>│\n",
       "│<span style=\"color: #7f7f7f; text-decoration-color: #7f7f7f\"> 36  </span>│ encoder.interactions.2.act                  │ ShiftedSoft… │      0 │ train │<span style=\"color: #c0c0c0; text-decoration-color: #c0c0c0\"> [11442, 512] </span>│<span style=\"color: #c0c0c0; text-decoration-color: #c0c0c0\"> [11442, 512] </span>│\n",
       "│<span style=\"color: #7f7f7f; text-decoration-color: #7f7f7f\"> 37  </span>│ encoder.interactions.2.lin                  │ Linear       │  262 K │ train │<span style=\"color: #c0c0c0; text-decoration-color: #c0c0c0\"> [11442, 512] </span>│<span style=\"color: #c0c0c0; text-decoration-color: #c0c0c0\"> [11442, 512] </span>│\n",
       "│<span style=\"color: #7f7f7f; text-decoration-color: #7f7f7f\"> 38  </span>│ encoder.interactions.3                      │ Interaction… │  417 K │ train │<span style=\"color: #c0c0c0; text-decoration-color: #c0c0c0\">     [[11442, </span>│<span style=\"color: #c0c0c0; text-decoration-color: #c0c0c0\"> [11442, 512] </span>│\n",
       "│<span style=\"color: #7f7f7f; text-decoration-color: #7f7f7f\">     </span>│                                             │              │        │       │<span style=\"color: #c0c0c0; text-decoration-color: #c0c0c0\">    512], [2, </span>│<span style=\"color: #c0c0c0; text-decoration-color: #c0c0c0\">              </span>│\n",
       "│<span style=\"color: #7f7f7f; text-decoration-color: #7f7f7f\">     </span>│                                             │              │        │       │<span style=\"color: #c0c0c0; text-decoration-color: #c0c0c0\">     183072], </span>│<span style=\"color: #c0c0c0; text-decoration-color: #c0c0c0\">              </span>│\n",
       "│<span style=\"color: #7f7f7f; text-decoration-color: #7f7f7f\">     </span>│                                             │              │        │       │<span style=\"color: #c0c0c0; text-decoration-color: #c0c0c0\">    [183072], </span>│<span style=\"color: #c0c0c0; text-decoration-color: #c0c0c0\">              </span>│\n",
       "│<span style=\"color: #7f7f7f; text-decoration-color: #7f7f7f\">     </span>│                                             │              │        │       │<span style=\"color: #c0c0c0; text-decoration-color: #c0c0c0\">     [183072, </span>│<span style=\"color: #c0c0c0; text-decoration-color: #c0c0c0\">              </span>│\n",
       "│<span style=\"color: #7f7f7f; text-decoration-color: #7f7f7f\">     </span>│                                             │              │        │       │<span style=\"color: #c0c0c0; text-decoration-color: #c0c0c0\">         50]] </span>│<span style=\"color: #c0c0c0; text-decoration-color: #c0c0c0\">              </span>│\n",
       "│<span style=\"color: #7f7f7f; text-decoration-color: #7f7f7f\"> 39  </span>│ encoder.interactions.3.mlp                  │ Sequential   │ 23.0 K │ train │<span style=\"color: #c0c0c0; text-decoration-color: #c0c0c0\"> [183072, 50] </span>│<span style=\"color: #c0c0c0; text-decoration-color: #c0c0c0\">     [183072, </span>│\n",
       "│<span style=\"color: #7f7f7f; text-decoration-color: #7f7f7f\">     </span>│                                             │              │        │       │<span style=\"color: #c0c0c0; text-decoration-color: #c0c0c0\">              </span>│<span style=\"color: #c0c0c0; text-decoration-color: #c0c0c0\">         128] </span>│\n",
       "│<span style=\"color: #7f7f7f; text-decoration-color: #7f7f7f\"> 40  </span>│ encoder.interactions.3.mlp.0                │ Linear       │  6.5 K │ train │<span style=\"color: #c0c0c0; text-decoration-color: #c0c0c0\"> [183072, 50] </span>│<span style=\"color: #c0c0c0; text-decoration-color: #c0c0c0\">     [183072, </span>│\n",
       "│<span style=\"color: #7f7f7f; text-decoration-color: #7f7f7f\">     </span>│                                             │              │        │       │<span style=\"color: #c0c0c0; text-decoration-color: #c0c0c0\">              </span>│<span style=\"color: #c0c0c0; text-decoration-color: #c0c0c0\">         128] </span>│\n",
       "│<span style=\"color: #7f7f7f; text-decoration-color: #7f7f7f\"> 41  </span>│ encoder.interactions.3.mlp.1                │ ShiftedSoft… │      0 │ train │<span style=\"color: #c0c0c0; text-decoration-color: #c0c0c0\">     [183072, </span>│<span style=\"color: #c0c0c0; text-decoration-color: #c0c0c0\">     [183072, </span>│\n",
       "│<span style=\"color: #7f7f7f; text-decoration-color: #7f7f7f\">     </span>│                                             │              │        │       │<span style=\"color: #c0c0c0; text-decoration-color: #c0c0c0\">         128] </span>│<span style=\"color: #c0c0c0; text-decoration-color: #c0c0c0\">         128] </span>│\n",
       "│<span style=\"color: #7f7f7f; text-decoration-color: #7f7f7f\"> 42  </span>│ encoder.interactions.3.mlp.2                │ Linear       │ 16.5 K │ train │<span style=\"color: #c0c0c0; text-decoration-color: #c0c0c0\">     [183072, </span>│<span style=\"color: #c0c0c0; text-decoration-color: #c0c0c0\">     [183072, </span>│\n",
       "│<span style=\"color: #7f7f7f; text-decoration-color: #7f7f7f\">     </span>│                                             │              │        │       │<span style=\"color: #c0c0c0; text-decoration-color: #c0c0c0\">         128] </span>│<span style=\"color: #c0c0c0; text-decoration-color: #c0c0c0\">         128] </span>│\n",
       "│<span style=\"color: #7f7f7f; text-decoration-color: #7f7f7f\"> 43  </span>│ encoder.interactions.3.conv                 │ CFConv       │  154 K │ train │<span style=\"color: #c0c0c0; text-decoration-color: #c0c0c0\">     [[11442, </span>│<span style=\"color: #c0c0c0; text-decoration-color: #c0c0c0\"> [11442, 512] </span>│\n",
       "│<span style=\"color: #7f7f7f; text-decoration-color: #7f7f7f\">     </span>│                                             │              │        │       │<span style=\"color: #c0c0c0; text-decoration-color: #c0c0c0\">    512], [2, </span>│<span style=\"color: #c0c0c0; text-decoration-color: #c0c0c0\">              </span>│\n",
       "│<span style=\"color: #7f7f7f; text-decoration-color: #7f7f7f\">     </span>│                                             │              │        │       │<span style=\"color: #c0c0c0; text-decoration-color: #c0c0c0\">     183072], </span>│<span style=\"color: #c0c0c0; text-decoration-color: #c0c0c0\">              </span>│\n",
       "│<span style=\"color: #7f7f7f; text-decoration-color: #7f7f7f\">     </span>│                                             │              │        │       │<span style=\"color: #c0c0c0; text-decoration-color: #c0c0c0\">    [183072], </span>│<span style=\"color: #c0c0c0; text-decoration-color: #c0c0c0\">              </span>│\n",
       "│<span style=\"color: #7f7f7f; text-decoration-color: #7f7f7f\">     </span>│                                             │              │        │       │<span style=\"color: #c0c0c0; text-decoration-color: #c0c0c0\">     [183072, </span>│<span style=\"color: #c0c0c0; text-decoration-color: #c0c0c0\">              </span>│\n",
       "│<span style=\"color: #7f7f7f; text-decoration-color: #7f7f7f\">     </span>│                                             │              │        │       │<span style=\"color: #c0c0c0; text-decoration-color: #c0c0c0\">         50]] </span>│<span style=\"color: #c0c0c0; text-decoration-color: #c0c0c0\">              </span>│\n",
       "│<span style=\"color: #7f7f7f; text-decoration-color: #7f7f7f\"> 44  </span>│ encoder.interactions.3.conv.aggr_module     │ SumAggregat… │      0 │ train │<span style=\"color: #c0c0c0; text-decoration-color: #c0c0c0\">    [[183072, </span>│<span style=\"color: #c0c0c0; text-decoration-color: #c0c0c0\"> [11442, 128] </span>│\n",
       "│<span style=\"color: #7f7f7f; text-decoration-color: #7f7f7f\">     </span>│                                             │              │        │       │<span style=\"color: #c0c0c0; text-decoration-color: #c0c0c0\">        128], </span>│<span style=\"color: #c0c0c0; text-decoration-color: #c0c0c0\">              </span>│\n",
       "│<span style=\"color: #7f7f7f; text-decoration-color: #7f7f7f\">     </span>│                                             │              │        │       │<span style=\"color: #c0c0c0; text-decoration-color: #c0c0c0\">    [183072], </span>│<span style=\"color: #c0c0c0; text-decoration-color: #c0c0c0\">              </span>│\n",
       "│<span style=\"color: #7f7f7f; text-decoration-color: #7f7f7f\">     </span>│                                             │              │        │       │<span style=\"color: #c0c0c0; text-decoration-color: #c0c0c0\">    '?', '?', </span>│<span style=\"color: #c0c0c0; text-decoration-color: #c0c0c0\">              </span>│\n",
       "│<span style=\"color: #7f7f7f; text-decoration-color: #7f7f7f\">     </span>│                                             │              │        │       │<span style=\"color: #c0c0c0; text-decoration-color: #c0c0c0\">         '?'] </span>│<span style=\"color: #c0c0c0; text-decoration-color: #c0c0c0\">              </span>│\n",
       "│<span style=\"color: #7f7f7f; text-decoration-color: #7f7f7f\"> 45  </span>│ encoder.interactions.3.conv.lin1            │ Linear       │ 65.5 K │ train │<span style=\"color: #c0c0c0; text-decoration-color: #c0c0c0\"> [11442, 512] </span>│<span style=\"color: #c0c0c0; text-decoration-color: #c0c0c0\"> [11442, 128] </span>│\n",
       "│<span style=\"color: #7f7f7f; text-decoration-color: #7f7f7f\"> 46  </span>│ encoder.interactions.3.conv.lin2            │ Linear       │ 66.0 K │ train │<span style=\"color: #c0c0c0; text-decoration-color: #c0c0c0\"> [11442, 128] </span>│<span style=\"color: #c0c0c0; text-decoration-color: #c0c0c0\"> [11442, 512] </span>│\n",
       "│<span style=\"color: #7f7f7f; text-decoration-color: #7f7f7f\"> 47  </span>│ encoder.interactions.3.act                  │ ShiftedSoft… │      0 │ train │<span style=\"color: #c0c0c0; text-decoration-color: #c0c0c0\"> [11442, 512] </span>│<span style=\"color: #c0c0c0; text-decoration-color: #c0c0c0\"> [11442, 512] </span>│\n",
       "│<span style=\"color: #7f7f7f; text-decoration-color: #7f7f7f\"> 48  </span>│ encoder.interactions.3.lin                  │ Linear       │  262 K │ train │<span style=\"color: #c0c0c0; text-decoration-color: #c0c0c0\"> [11442, 512] </span>│<span style=\"color: #c0c0c0; text-decoration-color: #c0c0c0\"> [11442, 512] </span>│\n",
       "│<span style=\"color: #7f7f7f; text-decoration-color: #7f7f7f\"> 49  </span>│ encoder.interactions.4                      │ Interaction… │  417 K │ train │<span style=\"color: #c0c0c0; text-decoration-color: #c0c0c0\">     [[11442, </span>│<span style=\"color: #c0c0c0; text-decoration-color: #c0c0c0\"> [11442, 512] </span>│\n",
       "│<span style=\"color: #7f7f7f; text-decoration-color: #7f7f7f\">     </span>│                                             │              │        │       │<span style=\"color: #c0c0c0; text-decoration-color: #c0c0c0\">    512], [2, </span>│<span style=\"color: #c0c0c0; text-decoration-color: #c0c0c0\">              </span>│\n",
       "│<span style=\"color: #7f7f7f; text-decoration-color: #7f7f7f\">     </span>│                                             │              │        │       │<span style=\"color: #c0c0c0; text-decoration-color: #c0c0c0\">     183072], </span>│<span style=\"color: #c0c0c0; text-decoration-color: #c0c0c0\">              </span>│\n",
       "│<span style=\"color: #7f7f7f; text-decoration-color: #7f7f7f\">     </span>│                                             │              │        │       │<span style=\"color: #c0c0c0; text-decoration-color: #c0c0c0\">    [183072], </span>│<span style=\"color: #c0c0c0; text-decoration-color: #c0c0c0\">              </span>│\n",
       "│<span style=\"color: #7f7f7f; text-decoration-color: #7f7f7f\">     </span>│                                             │              │        │       │<span style=\"color: #c0c0c0; text-decoration-color: #c0c0c0\">     [183072, </span>│<span style=\"color: #c0c0c0; text-decoration-color: #c0c0c0\">              </span>│\n",
       "│<span style=\"color: #7f7f7f; text-decoration-color: #7f7f7f\">     </span>│                                             │              │        │       │<span style=\"color: #c0c0c0; text-decoration-color: #c0c0c0\">         50]] </span>│<span style=\"color: #c0c0c0; text-decoration-color: #c0c0c0\">              </span>│\n",
       "│<span style=\"color: #7f7f7f; text-decoration-color: #7f7f7f\"> 50  </span>│ encoder.interactions.4.mlp                  │ Sequential   │ 23.0 K │ train │<span style=\"color: #c0c0c0; text-decoration-color: #c0c0c0\"> [183072, 50] </span>│<span style=\"color: #c0c0c0; text-decoration-color: #c0c0c0\">     [183072, </span>│\n",
       "│<span style=\"color: #7f7f7f; text-decoration-color: #7f7f7f\">     </span>│                                             │              │        │       │<span style=\"color: #c0c0c0; text-decoration-color: #c0c0c0\">              </span>│<span style=\"color: #c0c0c0; text-decoration-color: #c0c0c0\">         128] </span>│\n",
       "│<span style=\"color: #7f7f7f; text-decoration-color: #7f7f7f\"> 51  </span>│ encoder.interactions.4.mlp.0                │ Linear       │  6.5 K │ train │<span style=\"color: #c0c0c0; text-decoration-color: #c0c0c0\"> [183072, 50] </span>│<span style=\"color: #c0c0c0; text-decoration-color: #c0c0c0\">     [183072, </span>│\n",
       "│<span style=\"color: #7f7f7f; text-decoration-color: #7f7f7f\">     </span>│                                             │              │        │       │<span style=\"color: #c0c0c0; text-decoration-color: #c0c0c0\">              </span>│<span style=\"color: #c0c0c0; text-decoration-color: #c0c0c0\">         128] </span>│\n",
       "│<span style=\"color: #7f7f7f; text-decoration-color: #7f7f7f\"> 52  </span>│ encoder.interactions.4.mlp.1                │ ShiftedSoft… │      0 │ train │<span style=\"color: #c0c0c0; text-decoration-color: #c0c0c0\">     [183072, </span>│<span style=\"color: #c0c0c0; text-decoration-color: #c0c0c0\">     [183072, </span>│\n",
       "│<span style=\"color: #7f7f7f; text-decoration-color: #7f7f7f\">     </span>│                                             │              │        │       │<span style=\"color: #c0c0c0; text-decoration-color: #c0c0c0\">         128] </span>│<span style=\"color: #c0c0c0; text-decoration-color: #c0c0c0\">         128] </span>│\n",
       "│<span style=\"color: #7f7f7f; text-decoration-color: #7f7f7f\"> 53  </span>│ encoder.interactions.4.mlp.2                │ Linear       │ 16.5 K │ train │<span style=\"color: #c0c0c0; text-decoration-color: #c0c0c0\">     [183072, </span>│<span style=\"color: #c0c0c0; text-decoration-color: #c0c0c0\">     [183072, </span>│\n",
       "│<span style=\"color: #7f7f7f; text-decoration-color: #7f7f7f\">     </span>│                                             │              │        │       │<span style=\"color: #c0c0c0; text-decoration-color: #c0c0c0\">         128] </span>│<span style=\"color: #c0c0c0; text-decoration-color: #c0c0c0\">         128] </span>│\n",
       "│<span style=\"color: #7f7f7f; text-decoration-color: #7f7f7f\"> 54  </span>│ encoder.interactions.4.conv                 │ CFConv       │  154 K │ train │<span style=\"color: #c0c0c0; text-decoration-color: #c0c0c0\">     [[11442, </span>│<span style=\"color: #c0c0c0; text-decoration-color: #c0c0c0\"> [11442, 512] </span>│\n",
       "│<span style=\"color: #7f7f7f; text-decoration-color: #7f7f7f\">     </span>│                                             │              │        │       │<span style=\"color: #c0c0c0; text-decoration-color: #c0c0c0\">    512], [2, </span>│<span style=\"color: #c0c0c0; text-decoration-color: #c0c0c0\">              </span>│\n",
       "│<span style=\"color: #7f7f7f; text-decoration-color: #7f7f7f\">     </span>│                                             │              │        │       │<span style=\"color: #c0c0c0; text-decoration-color: #c0c0c0\">     183072], </span>│<span style=\"color: #c0c0c0; text-decoration-color: #c0c0c0\">              </span>│\n",
       "│<span style=\"color: #7f7f7f; text-decoration-color: #7f7f7f\">     </span>│                                             │              │        │       │<span style=\"color: #c0c0c0; text-decoration-color: #c0c0c0\">    [183072], </span>│<span style=\"color: #c0c0c0; text-decoration-color: #c0c0c0\">              </span>│\n",
       "│<span style=\"color: #7f7f7f; text-decoration-color: #7f7f7f\">     </span>│                                             │              │        │       │<span style=\"color: #c0c0c0; text-decoration-color: #c0c0c0\">     [183072, </span>│<span style=\"color: #c0c0c0; text-decoration-color: #c0c0c0\">              </span>│\n",
       "│<span style=\"color: #7f7f7f; text-decoration-color: #7f7f7f\">     </span>│                                             │              │        │       │<span style=\"color: #c0c0c0; text-decoration-color: #c0c0c0\">         50]] </span>│<span style=\"color: #c0c0c0; text-decoration-color: #c0c0c0\">              </span>│\n",
       "│<span style=\"color: #7f7f7f; text-decoration-color: #7f7f7f\"> 55  </span>│ encoder.interactions.4.conv.aggr_module     │ SumAggregat… │      0 │ train │<span style=\"color: #c0c0c0; text-decoration-color: #c0c0c0\">    [[183072, </span>│<span style=\"color: #c0c0c0; text-decoration-color: #c0c0c0\"> [11442, 128] </span>│\n",
       "│<span style=\"color: #7f7f7f; text-decoration-color: #7f7f7f\">     </span>│                                             │              │        │       │<span style=\"color: #c0c0c0; text-decoration-color: #c0c0c0\">        128], </span>│<span style=\"color: #c0c0c0; text-decoration-color: #c0c0c0\">              </span>│\n",
       "│<span style=\"color: #7f7f7f; text-decoration-color: #7f7f7f\">     </span>│                                             │              │        │       │<span style=\"color: #c0c0c0; text-decoration-color: #c0c0c0\">    [183072], </span>│<span style=\"color: #c0c0c0; text-decoration-color: #c0c0c0\">              </span>│\n",
       "│<span style=\"color: #7f7f7f; text-decoration-color: #7f7f7f\">     </span>│                                             │              │        │       │<span style=\"color: #c0c0c0; text-decoration-color: #c0c0c0\">    '?', '?', </span>│<span style=\"color: #c0c0c0; text-decoration-color: #c0c0c0\">              </span>│\n",
       "│<span style=\"color: #7f7f7f; text-decoration-color: #7f7f7f\">     </span>│                                             │              │        │       │<span style=\"color: #c0c0c0; text-decoration-color: #c0c0c0\">         '?'] </span>│<span style=\"color: #c0c0c0; text-decoration-color: #c0c0c0\">              </span>│\n",
       "│<span style=\"color: #7f7f7f; text-decoration-color: #7f7f7f\"> 56  </span>│ encoder.interactions.4.conv.lin1            │ Linear       │ 65.5 K │ train │<span style=\"color: #c0c0c0; text-decoration-color: #c0c0c0\"> [11442, 512] </span>│<span style=\"color: #c0c0c0; text-decoration-color: #c0c0c0\"> [11442, 128] </span>│\n",
       "│<span style=\"color: #7f7f7f; text-decoration-color: #7f7f7f\"> 57  </span>│ encoder.interactions.4.conv.lin2            │ Linear       │ 66.0 K │ train │<span style=\"color: #c0c0c0; text-decoration-color: #c0c0c0\"> [11442, 128] </span>│<span style=\"color: #c0c0c0; text-decoration-color: #c0c0c0\"> [11442, 512] </span>│\n",
       "│<span style=\"color: #7f7f7f; text-decoration-color: #7f7f7f\"> 58  </span>│ encoder.interactions.4.act                  │ ShiftedSoft… │      0 │ train │<span style=\"color: #c0c0c0; text-decoration-color: #c0c0c0\"> [11442, 512] </span>│<span style=\"color: #c0c0c0; text-decoration-color: #c0c0c0\"> [11442, 512] </span>│\n",
       "│<span style=\"color: #7f7f7f; text-decoration-color: #7f7f7f\"> 59  </span>│ encoder.interactions.4.lin                  │ Linear       │  262 K │ train │<span style=\"color: #c0c0c0; text-decoration-color: #c0c0c0\"> [11442, 512] </span>│<span style=\"color: #c0c0c0; text-decoration-color: #c0c0c0\"> [11442, 512] </span>│\n",
       "│<span style=\"color: #7f7f7f; text-decoration-color: #7f7f7f\"> 60  </span>│ encoder.interactions.5                      │ Interaction… │  417 K │ train │<span style=\"color: #c0c0c0; text-decoration-color: #c0c0c0\">     [[11442, </span>│<span style=\"color: #c0c0c0; text-decoration-color: #c0c0c0\"> [11442, 512] </span>│\n",
       "│<span style=\"color: #7f7f7f; text-decoration-color: #7f7f7f\">     </span>│                                             │              │        │       │<span style=\"color: #c0c0c0; text-decoration-color: #c0c0c0\">    512], [2, </span>│<span style=\"color: #c0c0c0; text-decoration-color: #c0c0c0\">              </span>│\n",
       "│<span style=\"color: #7f7f7f; text-decoration-color: #7f7f7f\">     </span>│                                             │              │        │       │<span style=\"color: #c0c0c0; text-decoration-color: #c0c0c0\">     183072], </span>│<span style=\"color: #c0c0c0; text-decoration-color: #c0c0c0\">              </span>│\n",
       "│<span style=\"color: #7f7f7f; text-decoration-color: #7f7f7f\">     </span>│                                             │              │        │       │<span style=\"color: #c0c0c0; text-decoration-color: #c0c0c0\">    [183072], </span>│<span style=\"color: #c0c0c0; text-decoration-color: #c0c0c0\">              </span>│\n",
       "│<span style=\"color: #7f7f7f; text-decoration-color: #7f7f7f\">     </span>│                                             │              │        │       │<span style=\"color: #c0c0c0; text-decoration-color: #c0c0c0\">     [183072, </span>│<span style=\"color: #c0c0c0; text-decoration-color: #c0c0c0\">              </span>│\n",
       "│<span style=\"color: #7f7f7f; text-decoration-color: #7f7f7f\">     </span>│                                             │              │        │       │<span style=\"color: #c0c0c0; text-decoration-color: #c0c0c0\">         50]] </span>│<span style=\"color: #c0c0c0; text-decoration-color: #c0c0c0\">              </span>│\n",
       "│<span style=\"color: #7f7f7f; text-decoration-color: #7f7f7f\"> 61  </span>│ encoder.interactions.5.mlp                  │ Sequential   │ 23.0 K │ train │<span style=\"color: #c0c0c0; text-decoration-color: #c0c0c0\"> [183072, 50] </span>│<span style=\"color: #c0c0c0; text-decoration-color: #c0c0c0\">     [183072, </span>│\n",
       "│<span style=\"color: #7f7f7f; text-decoration-color: #7f7f7f\">     </span>│                                             │              │        │       │<span style=\"color: #c0c0c0; text-decoration-color: #c0c0c0\">              </span>│<span style=\"color: #c0c0c0; text-decoration-color: #c0c0c0\">         128] </span>│\n",
       "│<span style=\"color: #7f7f7f; text-decoration-color: #7f7f7f\"> 62  </span>│ encoder.interactions.5.mlp.0                │ Linear       │  6.5 K │ train │<span style=\"color: #c0c0c0; text-decoration-color: #c0c0c0\"> [183072, 50] </span>│<span style=\"color: #c0c0c0; text-decoration-color: #c0c0c0\">     [183072, </span>│\n",
       "│<span style=\"color: #7f7f7f; text-decoration-color: #7f7f7f\">     </span>│                                             │              │        │       │<span style=\"color: #c0c0c0; text-decoration-color: #c0c0c0\">              </span>│<span style=\"color: #c0c0c0; text-decoration-color: #c0c0c0\">         128] </span>│\n",
       "│<span style=\"color: #7f7f7f; text-decoration-color: #7f7f7f\"> 63  </span>│ encoder.interactions.5.mlp.1                │ ShiftedSoft… │      0 │ train │<span style=\"color: #c0c0c0; text-decoration-color: #c0c0c0\">     [183072, </span>│<span style=\"color: #c0c0c0; text-decoration-color: #c0c0c0\">     [183072, </span>│\n",
       "│<span style=\"color: #7f7f7f; text-decoration-color: #7f7f7f\">     </span>│                                             │              │        │       │<span style=\"color: #c0c0c0; text-decoration-color: #c0c0c0\">         128] </span>│<span style=\"color: #c0c0c0; text-decoration-color: #c0c0c0\">         128] </span>│\n",
       "│<span style=\"color: #7f7f7f; text-decoration-color: #7f7f7f\"> 64  </span>│ encoder.interactions.5.mlp.2                │ Linear       │ 16.5 K │ train │<span style=\"color: #c0c0c0; text-decoration-color: #c0c0c0\">     [183072, </span>│<span style=\"color: #c0c0c0; text-decoration-color: #c0c0c0\">     [183072, </span>│\n",
       "│<span style=\"color: #7f7f7f; text-decoration-color: #7f7f7f\">     </span>│                                             │              │        │       │<span style=\"color: #c0c0c0; text-decoration-color: #c0c0c0\">         128] </span>│<span style=\"color: #c0c0c0; text-decoration-color: #c0c0c0\">         128] </span>│\n",
       "│<span style=\"color: #7f7f7f; text-decoration-color: #7f7f7f\"> 65  </span>│ encoder.interactions.5.conv                 │ CFConv       │  154 K │ train │<span style=\"color: #c0c0c0; text-decoration-color: #c0c0c0\">     [[11442, </span>│<span style=\"color: #c0c0c0; text-decoration-color: #c0c0c0\"> [11442, 512] </span>│\n",
       "│<span style=\"color: #7f7f7f; text-decoration-color: #7f7f7f\">     </span>│                                             │              │        │       │<span style=\"color: #c0c0c0; text-decoration-color: #c0c0c0\">    512], [2, </span>│<span style=\"color: #c0c0c0; text-decoration-color: #c0c0c0\">              </span>│\n",
       "│<span style=\"color: #7f7f7f; text-decoration-color: #7f7f7f\">     </span>│                                             │              │        │       │<span style=\"color: #c0c0c0; text-decoration-color: #c0c0c0\">     183072], </span>│<span style=\"color: #c0c0c0; text-decoration-color: #c0c0c0\">              </span>│\n",
       "│<span style=\"color: #7f7f7f; text-decoration-color: #7f7f7f\">     </span>│                                             │              │        │       │<span style=\"color: #c0c0c0; text-decoration-color: #c0c0c0\">    [183072], </span>│<span style=\"color: #c0c0c0; text-decoration-color: #c0c0c0\">              </span>│\n",
       "│<span style=\"color: #7f7f7f; text-decoration-color: #7f7f7f\">     </span>│                                             │              │        │       │<span style=\"color: #c0c0c0; text-decoration-color: #c0c0c0\">     [183072, </span>│<span style=\"color: #c0c0c0; text-decoration-color: #c0c0c0\">              </span>│\n",
       "│<span style=\"color: #7f7f7f; text-decoration-color: #7f7f7f\">     </span>│                                             │              │        │       │<span style=\"color: #c0c0c0; text-decoration-color: #c0c0c0\">         50]] </span>│<span style=\"color: #c0c0c0; text-decoration-color: #c0c0c0\">              </span>│\n",
       "│<span style=\"color: #7f7f7f; text-decoration-color: #7f7f7f\"> 66  </span>│ encoder.interactions.5.conv.aggr_module     │ SumAggregat… │      0 │ train │<span style=\"color: #c0c0c0; text-decoration-color: #c0c0c0\">    [[183072, </span>│<span style=\"color: #c0c0c0; text-decoration-color: #c0c0c0\"> [11442, 128] </span>│\n",
       "│<span style=\"color: #7f7f7f; text-decoration-color: #7f7f7f\">     </span>│                                             │              │        │       │<span style=\"color: #c0c0c0; text-decoration-color: #c0c0c0\">        128], </span>│<span style=\"color: #c0c0c0; text-decoration-color: #c0c0c0\">              </span>│\n",
       "│<span style=\"color: #7f7f7f; text-decoration-color: #7f7f7f\">     </span>│                                             │              │        │       │<span style=\"color: #c0c0c0; text-decoration-color: #c0c0c0\">    [183072], </span>│<span style=\"color: #c0c0c0; text-decoration-color: #c0c0c0\">              </span>│\n",
       "│<span style=\"color: #7f7f7f; text-decoration-color: #7f7f7f\">     </span>│                                             │              │        │       │<span style=\"color: #c0c0c0; text-decoration-color: #c0c0c0\">    '?', '?', </span>│<span style=\"color: #c0c0c0; text-decoration-color: #c0c0c0\">              </span>│\n",
       "│<span style=\"color: #7f7f7f; text-decoration-color: #7f7f7f\">     </span>│                                             │              │        │       │<span style=\"color: #c0c0c0; text-decoration-color: #c0c0c0\">         '?'] </span>│<span style=\"color: #c0c0c0; text-decoration-color: #c0c0c0\">              </span>│\n",
       "│<span style=\"color: #7f7f7f; text-decoration-color: #7f7f7f\"> 67  </span>│ encoder.interactions.5.conv.lin1            │ Linear       │ 65.5 K │ train │<span style=\"color: #c0c0c0; text-decoration-color: #c0c0c0\"> [11442, 512] </span>│<span style=\"color: #c0c0c0; text-decoration-color: #c0c0c0\"> [11442, 128] </span>│\n",
       "│<span style=\"color: #7f7f7f; text-decoration-color: #7f7f7f\"> 68  </span>│ encoder.interactions.5.conv.lin2            │ Linear       │ 66.0 K │ train │<span style=\"color: #c0c0c0; text-decoration-color: #c0c0c0\"> [11442, 128] </span>│<span style=\"color: #c0c0c0; text-decoration-color: #c0c0c0\"> [11442, 512] </span>│\n",
       "│<span style=\"color: #7f7f7f; text-decoration-color: #7f7f7f\"> 69  </span>│ encoder.interactions.5.act                  │ ShiftedSoft… │      0 │ train │<span style=\"color: #c0c0c0; text-decoration-color: #c0c0c0\"> [11442, 512] </span>│<span style=\"color: #c0c0c0; text-decoration-color: #c0c0c0\"> [11442, 512] </span>│\n",
       "│<span style=\"color: #7f7f7f; text-decoration-color: #7f7f7f\"> 70  </span>│ encoder.interactions.5.lin                  │ Linear       │  262 K │ train │<span style=\"color: #c0c0c0; text-decoration-color: #c0c0c0\"> [11442, 512] </span>│<span style=\"color: #c0c0c0; text-decoration-color: #c0c0c0\"> [11442, 512] </span>│\n",
       "│<span style=\"color: #7f7f7f; text-decoration-color: #7f7f7f\"> 71  </span>│ encoder.lin1                                │ Linear       │  131 K │ train │<span style=\"color: #c0c0c0; text-decoration-color: #c0c0c0\"> [11442, 512] </span>│<span style=\"color: #c0c0c0; text-decoration-color: #c0c0c0\"> [11442, 256] </span>│\n",
       "│<span style=\"color: #7f7f7f; text-decoration-color: #7f7f7f\"> 72  </span>│ encoder.act                                 │ ShiftedSoft… │      0 │ train │<span style=\"color: #c0c0c0; text-decoration-color: #c0c0c0\"> [11442, 256] </span>│<span style=\"color: #c0c0c0; text-decoration-color: #c0c0c0\"> [11442, 256] </span>│\n",
       "│<span style=\"color: #7f7f7f; text-decoration-color: #7f7f7f\"> 73  </span>│ encoder.lin2                                │ Linear       │  8.2 K │ train │<span style=\"color: #c0c0c0; text-decoration-color: #c0c0c0\"> [11442, 256] </span>│<span style=\"color: #c0c0c0; text-decoration-color: #c0c0c0\">  [11442, 32] </span>│\n",
       "│<span style=\"color: #7f7f7f; text-decoration-color: #7f7f7f\"> 74  </span>│ decoder                                     │ ModuleDict   │  2.7 M │ train │<span style=\"color: #c0c0c0; text-decoration-color: #c0c0c0\">            ? </span>│<span style=\"color: #c0c0c0; text-decoration-color: #c0c0c0\">            ? </span>│\n",
       "│<span style=\"color: #7f7f7f; text-decoration-color: #7f7f7f\"> 75  </span>│ decoder.graph_label                         │ MLPDecoder   │  2.7 M │ train │<span style=\"color: #c0c0c0; text-decoration-color: #c0c0c0\">     [32, 32] </span>│<span style=\"color: #c0c0c0; text-decoration-color: #c0c0c0\">   [32, 1195] </span>│\n",
       "│<span style=\"color: #7f7f7f; text-decoration-color: #7f7f7f\"> 76  </span>│ decoder.graph_label.layers                  │ LinearSkipB… │  2.7 M │ train │<span style=\"color: #c0c0c0; text-decoration-color: #c0c0c0\">     [32, 32] </span>│<span style=\"color: #c0c0c0; text-decoration-color: #c0c0c0\">   [32, 1195] </span>│\n",
       "│<span style=\"color: #7f7f7f; text-decoration-color: #7f7f7f\"> 77  </span>│ decoder.graph_label.layers.layers           │ ModuleList   │  2.7 M │ train │<span style=\"color: #c0c0c0; text-decoration-color: #c0c0c0\">            ? </span>│<span style=\"color: #c0c0c0; text-decoration-color: #c0c0c0\">            ? </span>│\n",
       "│<span style=\"color: #7f7f7f; text-decoration-color: #7f7f7f\"> 78  </span>│ decoder.graph_label.layers.layers.0         │ Linear       │ 16.9 K │ train │<span style=\"color: #c0c0c0; text-decoration-color: #c0c0c0\">     [32, 32] </span>│<span style=\"color: #c0c0c0; text-decoration-color: #c0c0c0\">    [32, 512] </span>│\n",
       "│<span style=\"color: #7f7f7f; text-decoration-color: #7f7f7f\"> 79  </span>│ decoder.graph_label.layers.layers.1         │ Linear       │  279 K │ train │<span style=\"color: #c0c0c0; text-decoration-color: #c0c0c0\">    [32, 544] </span>│<span style=\"color: #c0c0c0; text-decoration-color: #c0c0c0\">    [32, 512] </span>│\n",
       "│<span style=\"color: #7f7f7f; text-decoration-color: #7f7f7f\"> 80  </span>│ decoder.graph_label.layers.layers.2         │ Linear       │  541 K │ train │<span style=\"color: #c0c0c0; text-decoration-color: #c0c0c0\">   [32, 1056] </span>│<span style=\"color: #c0c0c0; text-decoration-color: #c0c0c0\">    [32, 512] </span>│\n",
       "│<span style=\"color: #7f7f7f; text-decoration-color: #7f7f7f\"> 81  </span>│ decoder.graph_label.layers.layers.3         │ Linear       │  1.9 M │ train │<span style=\"color: #c0c0c0; text-decoration-color: #c0c0c0\">   [32, 1568] </span>│<span style=\"color: #c0c0c0; text-decoration-color: #c0c0c0\">   [32, 1195] </span>│\n",
       "│<span style=\"color: #7f7f7f; text-decoration-color: #7f7f7f\"> 82  </span>│ decoder.graph_label.layers.activations      │ ModuleList   │      0 │ train │<span style=\"color: #c0c0c0; text-decoration-color: #c0c0c0\">            ? </span>│<span style=\"color: #c0c0c0; text-decoration-color: #c0c0c0\">            ? </span>│\n",
       "│<span style=\"color: #7f7f7f; text-decoration-color: #7f7f7f\"> 83  </span>│ decoder.graph_label.layers.activations.0    │ ReLU         │      0 │ train │<span style=\"color: #c0c0c0; text-decoration-color: #c0c0c0\">    [32, 512] </span>│<span style=\"color: #c0c0c0; text-decoration-color: #c0c0c0\">    [32, 512] </span>│\n",
       "│<span style=\"color: #7f7f7f; text-decoration-color: #7f7f7f\"> 84  </span>│ decoder.graph_label.layers.activations.1    │ ReLU         │      0 │ train │<span style=\"color: #c0c0c0; text-decoration-color: #c0c0c0\">    [32, 512] </span>│<span style=\"color: #c0c0c0; text-decoration-color: #c0c0c0\">    [32, 512] </span>│\n",
       "│<span style=\"color: #7f7f7f; text-decoration-color: #7f7f7f\"> 85  </span>│ decoder.graph_label.layers.activations.2    │ ReLU         │      0 │ train │<span style=\"color: #c0c0c0; text-decoration-color: #c0c0c0\">    [32, 512] </span>│<span style=\"color: #c0c0c0; text-decoration-color: #c0c0c0\">    [32, 512] </span>│\n",
       "│<span style=\"color: #7f7f7f; text-decoration-color: #7f7f7f\"> 86  </span>│ decoder.graph_label.layers.activations.3    │ Identity     │      0 │ train │<span style=\"color: #c0c0c0; text-decoration-color: #c0c0c0\">   [32, 1195] </span>│<span style=\"color: #c0c0c0; text-decoration-color: #c0c0c0\">   [32, 1195] </span>│\n",
       "│<span style=\"color: #7f7f7f; text-decoration-color: #7f7f7f\"> 87  </span>│ decoder.graph_label.layers.dropout_layers   │ ModuleList   │      0 │ train │<span style=\"color: #c0c0c0; text-decoration-color: #c0c0c0\">            ? </span>│<span style=\"color: #c0c0c0; text-decoration-color: #c0c0c0\">            ? </span>│\n",
       "│<span style=\"color: #7f7f7f; text-decoration-color: #7f7f7f\"> 88  </span>│ decoder.graph_label.layers.dropout_layers.0 │ Dropout      │      0 │ train │<span style=\"color: #c0c0c0; text-decoration-color: #c0c0c0\">    [32, 512] </span>│<span style=\"color: #c0c0c0; text-decoration-color: #c0c0c0\">    [32, 512] </span>│\n",
       "│<span style=\"color: #7f7f7f; text-decoration-color: #7f7f7f\"> 89  </span>│ decoder.graph_label.layers.dropout_layers.1 │ Dropout      │      0 │ train │<span style=\"color: #c0c0c0; text-decoration-color: #c0c0c0\">    [32, 512] </span>│<span style=\"color: #c0c0c0; text-decoration-color: #c0c0c0\">    [32, 512] </span>│\n",
       "│<span style=\"color: #7f7f7f; text-decoration-color: #7f7f7f\"> 90  </span>│ decoder.graph_label.layers.dropout_layers.2 │ Dropout      │      0 │ train │<span style=\"color: #c0c0c0; text-decoration-color: #c0c0c0\">    [32, 512] </span>│<span style=\"color: #c0c0c0; text-decoration-color: #c0c0c0\">    [32, 512] </span>│\n",
       "│<span style=\"color: #7f7f7f; text-decoration-color: #7f7f7f\"> 91  </span>│ test_graph_label_accuracy                   │ MulticlassA… │      0 │ train │<span style=\"color: #c0c0c0; text-decoration-color: #c0c0c0\">            ? </span>│<span style=\"color: #c0c0c0; text-decoration-color: #c0c0c0\">            ? </span>│\n",
       "│<span style=\"color: #7f7f7f; text-decoration-color: #7f7f7f\"> 92  </span>│ val_graph_label_accuracy                    │ MulticlassA… │      0 │ train │<span style=\"color: #c0c0c0; text-decoration-color: #c0c0c0\">            ? </span>│<span style=\"color: #c0c0c0; text-decoration-color: #c0c0c0\">            ? </span>│\n",
       "│<span style=\"color: #7f7f7f; text-decoration-color: #7f7f7f\"> 93  </span>│ train_graph_label_accuracy                  │ MulticlassA… │      0 │ train │<span style=\"color: #c0c0c0; text-decoration-color: #c0c0c0\">            ? </span>│<span style=\"color: #c0c0c0; text-decoration-color: #c0c0c0\">            ? </span>│\n",
       "│<span style=\"color: #7f7f7f; text-decoration-color: #7f7f7f\"> 94  </span>│ test_graph_label_f1_score                   │ MulticlassF… │      0 │ train │<span style=\"color: #c0c0c0; text-decoration-color: #c0c0c0\">            ? </span>│<span style=\"color: #c0c0c0; text-decoration-color: #c0c0c0\">            ? </span>│\n",
       "│<span style=\"color: #7f7f7f; text-decoration-color: #7f7f7f\"> 95  </span>│ val_graph_label_f1_score                    │ MulticlassF… │      0 │ train │<span style=\"color: #c0c0c0; text-decoration-color: #c0c0c0\">            ? </span>│<span style=\"color: #c0c0c0; text-decoration-color: #c0c0c0\">            ? </span>│\n",
       "│<span style=\"color: #7f7f7f; text-decoration-color: #7f7f7f\"> 96  </span>│ train_graph_label_f1_score                  │ MulticlassF… │      0 │ train │<span style=\"color: #c0c0c0; text-decoration-color: #c0c0c0\">            ? </span>│<span style=\"color: #c0c0c0; text-decoration-color: #c0c0c0\">            ? </span>│\n",
       "│<span style=\"color: #7f7f7f; text-decoration-color: #7f7f7f\"> 97  </span>│ test_graph_label_f1_max                     │ F1Max        │      0 │ train │<span style=\"color: #c0c0c0; text-decoration-color: #c0c0c0\">            ? </span>│<span style=\"color: #c0c0c0; text-decoration-color: #c0c0c0\">            ? </span>│\n",
       "│<span style=\"color: #7f7f7f; text-decoration-color: #7f7f7f\"> 98  </span>│ val_graph_label_f1_max                      │ F1Max        │      0 │ train │<span style=\"color: #c0c0c0; text-decoration-color: #c0c0c0\">            ? </span>│<span style=\"color: #c0c0c0; text-decoration-color: #c0c0c0\">            ? </span>│\n",
       "│<span style=\"color: #7f7f7f; text-decoration-color: #7f7f7f\"> 99  </span>│ train_graph_label_f1_max                    │ F1Max        │      0 │ train │<span style=\"color: #c0c0c0; text-decoration-color: #c0c0c0\">            ? </span>│<span style=\"color: #c0c0c0; text-decoration-color: #c0c0c0\">            ? </span>│\n",
       "│<span style=\"color: #7f7f7f; text-decoration-color: #7f7f7f\"> 100 </span>│ featuriser                                  │ ProteinFeat… │      0 │ train │<span style=\"color: #c0c0c0; text-decoration-color: #c0c0c0\">            ? </span>│<span style=\"color: #c0c0c0; text-decoration-color: #c0c0c0\">            ? </span>│\n",
       "│<span style=\"color: #7f7f7f; text-decoration-color: #7f7f7f\"> 101 </span>│ featuriser.positional_encoding              │ PositionalE… │      0 │ train │<span style=\"color: #c0c0c0; text-decoration-color: #c0c0c0\">   [11442, 1] </span>│<span style=\"color: #c0c0c0; text-decoration-color: #c0c0c0\">  [11442, 16] </span>│\n",
       "└─────┴─────────────────────────────────────────────┴──────────────┴────────┴───────┴──────────────┴──────────────┘\n",
       "</pre>\n"
      ],
      "text/plain": [
       "┏━━━━━┳━━━━━━━━━━━━━━━━━━━━━━━━━━━━━━━━━━━━━━━━━━━━━┳━━━━━━━━━━━━━━┳━━━━━━━━┳━━━━━━━┳━━━━━━━━━━━━━━┳━━━━━━━━━━━━━━┓\n",
       "┃\u001b[1;35m \u001b[0m\u001b[1;35m   \u001b[0m\u001b[1;35m \u001b[0m┃\u001b[1;35m \u001b[0m\u001b[1;35mName                                       \u001b[0m\u001b[1;35m \u001b[0m┃\u001b[1;35m \u001b[0m\u001b[1;35mType        \u001b[0m\u001b[1;35m \u001b[0m┃\u001b[1;35m \u001b[0m\u001b[1;35mParams\u001b[0m\u001b[1;35m \u001b[0m┃\u001b[1;35m \u001b[0m\u001b[1;35mMode \u001b[0m\u001b[1;35m \u001b[0m┃\u001b[1;35m \u001b[0m\u001b[1;35m    In sizes\u001b[0m\u001b[1;35m \u001b[0m┃\u001b[1;35m \u001b[0m\u001b[1;35m   Out sizes\u001b[0m\u001b[1;35m \u001b[0m┃\n",
       "┡━━━━━╇━━━━━━━━━━━━━━━━━━━━━━━━━━━━━━━━━━━━━━━━━━━━━╇━━━━━━━━━━━━━━╇━━━━━━━━╇━━━━━━━╇━━━━━━━━━━━━━━╇━━━━━━━━━━━━━━┩\n",
       "│\u001b[2m \u001b[0m\u001b[2m0  \u001b[0m\u001b[2m \u001b[0m│ encoder                                     │ SchNetModel  │  2.7 M │ train │\u001b[37m \u001b[0m\u001b[37m           ?\u001b[0m\u001b[37m \u001b[0m│\u001b[37m \u001b[0m\u001b[37m           ?\u001b[0m\u001b[37m \u001b[0m│\n",
       "│\u001b[2m \u001b[0m\u001b[2m1  \u001b[0m\u001b[2m \u001b[0m│ encoder.sum_aggr                            │ SumAggregat… │      0 │ train │\u001b[37m \u001b[0m\u001b[37m           ?\u001b[0m\u001b[37m \u001b[0m│\u001b[37m \u001b[0m\u001b[37m           ?\u001b[0m\u001b[37m \u001b[0m│\n",
       "│\u001b[2m \u001b[0m\u001b[2m2  \u001b[0m\u001b[2m \u001b[0m│ encoder.embedding                           │ Linear       │ 22.5 K │ train │\u001b[37m \u001b[0m\u001b[37m [11442, 43]\u001b[0m\u001b[37m \u001b[0m│\u001b[37m \u001b[0m\u001b[37m[11442, 512]\u001b[0m\u001b[37m \u001b[0m│\n",
       "│\u001b[2m \u001b[0m\u001b[2m3  \u001b[0m\u001b[2m \u001b[0m│ encoder.distance_expansion                  │ GaussianSme… │      0 │ train │\u001b[37m \u001b[0m\u001b[37m    [183072]\u001b[0m\u001b[37m \u001b[0m│\u001b[37m \u001b[0m\u001b[37m[183072, 50]\u001b[0m\u001b[37m \u001b[0m│\n",
       "│\u001b[2m \u001b[0m\u001b[2m4  \u001b[0m\u001b[2m \u001b[0m│ encoder.interactions                        │ ModuleList   │  2.5 M │ train │\u001b[37m \u001b[0m\u001b[37m           ?\u001b[0m\u001b[37m \u001b[0m│\u001b[37m \u001b[0m\u001b[37m           ?\u001b[0m\u001b[37m \u001b[0m│\n",
       "│\u001b[2m \u001b[0m\u001b[2m5  \u001b[0m\u001b[2m \u001b[0m│ encoder.interactions.0                      │ Interaction… │  417 K │ train │\u001b[37m \u001b[0m\u001b[37m    [[11442,\u001b[0m\u001b[37m \u001b[0m│\u001b[37m \u001b[0m\u001b[37m[11442, 512]\u001b[0m\u001b[37m \u001b[0m│\n",
       "│\u001b[2m     \u001b[0m│                                             │              │        │       │\u001b[37m \u001b[0m\u001b[37m   512], [2,\u001b[0m\u001b[37m \u001b[0m│\u001b[37m              \u001b[0m│\n",
       "│\u001b[2m     \u001b[0m│                                             │              │        │       │\u001b[37m \u001b[0m\u001b[37m    183072],\u001b[0m\u001b[37m \u001b[0m│\u001b[37m              \u001b[0m│\n",
       "│\u001b[2m     \u001b[0m│                                             │              │        │       │\u001b[37m \u001b[0m\u001b[37m   [183072],\u001b[0m\u001b[37m \u001b[0m│\u001b[37m              \u001b[0m│\n",
       "│\u001b[2m     \u001b[0m│                                             │              │        │       │\u001b[37m \u001b[0m\u001b[37m    [183072,\u001b[0m\u001b[37m \u001b[0m│\u001b[37m              \u001b[0m│\n",
       "│\u001b[2m     \u001b[0m│                                             │              │        │       │\u001b[37m \u001b[0m\u001b[37m        50]]\u001b[0m\u001b[37m \u001b[0m│\u001b[37m              \u001b[0m│\n",
       "│\u001b[2m \u001b[0m\u001b[2m6  \u001b[0m\u001b[2m \u001b[0m│ encoder.interactions.0.mlp                  │ Sequential   │ 23.0 K │ train │\u001b[37m \u001b[0m\u001b[37m[183072, 50]\u001b[0m\u001b[37m \u001b[0m│\u001b[37m \u001b[0m\u001b[37m    [183072,\u001b[0m\u001b[37m \u001b[0m│\n",
       "│\u001b[2m     \u001b[0m│                                             │              │        │       │\u001b[37m              \u001b[0m│\u001b[37m \u001b[0m\u001b[37m        128]\u001b[0m\u001b[37m \u001b[0m│\n",
       "│\u001b[2m \u001b[0m\u001b[2m7  \u001b[0m\u001b[2m \u001b[0m│ encoder.interactions.0.mlp.0                │ Linear       │  6.5 K │ train │\u001b[37m \u001b[0m\u001b[37m[183072, 50]\u001b[0m\u001b[37m \u001b[0m│\u001b[37m \u001b[0m\u001b[37m    [183072,\u001b[0m\u001b[37m \u001b[0m│\n",
       "│\u001b[2m     \u001b[0m│                                             │              │        │       │\u001b[37m              \u001b[0m│\u001b[37m \u001b[0m\u001b[37m        128]\u001b[0m\u001b[37m \u001b[0m│\n",
       "│\u001b[2m \u001b[0m\u001b[2m8  \u001b[0m\u001b[2m \u001b[0m│ encoder.interactions.0.mlp.1                │ ShiftedSoft… │      0 │ train │\u001b[37m \u001b[0m\u001b[37m    [183072,\u001b[0m\u001b[37m \u001b[0m│\u001b[37m \u001b[0m\u001b[37m    [183072,\u001b[0m\u001b[37m \u001b[0m│\n",
       "│\u001b[2m     \u001b[0m│                                             │              │        │       │\u001b[37m \u001b[0m\u001b[37m        128]\u001b[0m\u001b[37m \u001b[0m│\u001b[37m \u001b[0m\u001b[37m        128]\u001b[0m\u001b[37m \u001b[0m│\n",
       "│\u001b[2m \u001b[0m\u001b[2m9  \u001b[0m\u001b[2m \u001b[0m│ encoder.interactions.0.mlp.2                │ Linear       │ 16.5 K │ train │\u001b[37m \u001b[0m\u001b[37m    [183072,\u001b[0m\u001b[37m \u001b[0m│\u001b[37m \u001b[0m\u001b[37m    [183072,\u001b[0m\u001b[37m \u001b[0m│\n",
       "│\u001b[2m     \u001b[0m│                                             │              │        │       │\u001b[37m \u001b[0m\u001b[37m        128]\u001b[0m\u001b[37m \u001b[0m│\u001b[37m \u001b[0m\u001b[37m        128]\u001b[0m\u001b[37m \u001b[0m│\n",
       "│\u001b[2m \u001b[0m\u001b[2m10 \u001b[0m\u001b[2m \u001b[0m│ encoder.interactions.0.conv                 │ CFConv       │  154 K │ train │\u001b[37m \u001b[0m\u001b[37m    [[11442,\u001b[0m\u001b[37m \u001b[0m│\u001b[37m \u001b[0m\u001b[37m[11442, 512]\u001b[0m\u001b[37m \u001b[0m│\n",
       "│\u001b[2m     \u001b[0m│                                             │              │        │       │\u001b[37m \u001b[0m\u001b[37m   512], [2,\u001b[0m\u001b[37m \u001b[0m│\u001b[37m              \u001b[0m│\n",
       "│\u001b[2m     \u001b[0m│                                             │              │        │       │\u001b[37m \u001b[0m\u001b[37m    183072],\u001b[0m\u001b[37m \u001b[0m│\u001b[37m              \u001b[0m│\n",
       "│\u001b[2m     \u001b[0m│                                             │              │        │       │\u001b[37m \u001b[0m\u001b[37m   [183072],\u001b[0m\u001b[37m \u001b[0m│\u001b[37m              \u001b[0m│\n",
       "│\u001b[2m     \u001b[0m│                                             │              │        │       │\u001b[37m \u001b[0m\u001b[37m    [183072,\u001b[0m\u001b[37m \u001b[0m│\u001b[37m              \u001b[0m│\n",
       "│\u001b[2m     \u001b[0m│                                             │              │        │       │\u001b[37m \u001b[0m\u001b[37m        50]]\u001b[0m\u001b[37m \u001b[0m│\u001b[37m              \u001b[0m│\n",
       "│\u001b[2m \u001b[0m\u001b[2m11 \u001b[0m\u001b[2m \u001b[0m│ encoder.interactions.0.conv.aggr_module     │ SumAggregat… │      0 │ train │\u001b[37m \u001b[0m\u001b[37m   [[183072,\u001b[0m\u001b[37m \u001b[0m│\u001b[37m \u001b[0m\u001b[37m[11442, 128]\u001b[0m\u001b[37m \u001b[0m│\n",
       "│\u001b[2m     \u001b[0m│                                             │              │        │       │\u001b[37m \u001b[0m\u001b[37m       128],\u001b[0m\u001b[37m \u001b[0m│\u001b[37m              \u001b[0m│\n",
       "│\u001b[2m     \u001b[0m│                                             │              │        │       │\u001b[37m \u001b[0m\u001b[37m   [183072],\u001b[0m\u001b[37m \u001b[0m│\u001b[37m              \u001b[0m│\n",
       "│\u001b[2m     \u001b[0m│                                             │              │        │       │\u001b[37m \u001b[0m\u001b[37m   '?', '?',\u001b[0m\u001b[37m \u001b[0m│\u001b[37m              \u001b[0m│\n",
       "│\u001b[2m     \u001b[0m│                                             │              │        │       │\u001b[37m \u001b[0m\u001b[37m        '?']\u001b[0m\u001b[37m \u001b[0m│\u001b[37m              \u001b[0m│\n",
       "│\u001b[2m \u001b[0m\u001b[2m12 \u001b[0m\u001b[2m \u001b[0m│ encoder.interactions.0.conv.lin1            │ Linear       │ 65.5 K │ train │\u001b[37m \u001b[0m\u001b[37m[11442, 512]\u001b[0m\u001b[37m \u001b[0m│\u001b[37m \u001b[0m\u001b[37m[11442, 128]\u001b[0m\u001b[37m \u001b[0m│\n",
       "│\u001b[2m \u001b[0m\u001b[2m13 \u001b[0m\u001b[2m \u001b[0m│ encoder.interactions.0.conv.lin2            │ Linear       │ 66.0 K │ train │\u001b[37m \u001b[0m\u001b[37m[11442, 128]\u001b[0m\u001b[37m \u001b[0m│\u001b[37m \u001b[0m\u001b[37m[11442, 512]\u001b[0m\u001b[37m \u001b[0m│\n",
       "│\u001b[2m \u001b[0m\u001b[2m14 \u001b[0m\u001b[2m \u001b[0m│ encoder.interactions.0.act                  │ ShiftedSoft… │      0 │ train │\u001b[37m \u001b[0m\u001b[37m[11442, 512]\u001b[0m\u001b[37m \u001b[0m│\u001b[37m \u001b[0m\u001b[37m[11442, 512]\u001b[0m\u001b[37m \u001b[0m│\n",
       "│\u001b[2m \u001b[0m\u001b[2m15 \u001b[0m\u001b[2m \u001b[0m│ encoder.interactions.0.lin                  │ Linear       │  262 K │ train │\u001b[37m \u001b[0m\u001b[37m[11442, 512]\u001b[0m\u001b[37m \u001b[0m│\u001b[37m \u001b[0m\u001b[37m[11442, 512]\u001b[0m\u001b[37m \u001b[0m│\n",
       "│\u001b[2m \u001b[0m\u001b[2m16 \u001b[0m\u001b[2m \u001b[0m│ encoder.interactions.1                      │ Interaction… │  417 K │ train │\u001b[37m \u001b[0m\u001b[37m    [[11442,\u001b[0m\u001b[37m \u001b[0m│\u001b[37m \u001b[0m\u001b[37m[11442, 512]\u001b[0m\u001b[37m \u001b[0m│\n",
       "│\u001b[2m     \u001b[0m│                                             │              │        │       │\u001b[37m \u001b[0m\u001b[37m   512], [2,\u001b[0m\u001b[37m \u001b[0m│\u001b[37m              \u001b[0m│\n",
       "│\u001b[2m     \u001b[0m│                                             │              │        │       │\u001b[37m \u001b[0m\u001b[37m    183072],\u001b[0m\u001b[37m \u001b[0m│\u001b[37m              \u001b[0m│\n",
       "│\u001b[2m     \u001b[0m│                                             │              │        │       │\u001b[37m \u001b[0m\u001b[37m   [183072],\u001b[0m\u001b[37m \u001b[0m│\u001b[37m              \u001b[0m│\n",
       "│\u001b[2m     \u001b[0m│                                             │              │        │       │\u001b[37m \u001b[0m\u001b[37m    [183072,\u001b[0m\u001b[37m \u001b[0m│\u001b[37m              \u001b[0m│\n",
       "│\u001b[2m     \u001b[0m│                                             │              │        │       │\u001b[37m \u001b[0m\u001b[37m        50]]\u001b[0m\u001b[37m \u001b[0m│\u001b[37m              \u001b[0m│\n",
       "│\u001b[2m \u001b[0m\u001b[2m17 \u001b[0m\u001b[2m \u001b[0m│ encoder.interactions.1.mlp                  │ Sequential   │ 23.0 K │ train │\u001b[37m \u001b[0m\u001b[37m[183072, 50]\u001b[0m\u001b[37m \u001b[0m│\u001b[37m \u001b[0m\u001b[37m    [183072,\u001b[0m\u001b[37m \u001b[0m│\n",
       "│\u001b[2m     \u001b[0m│                                             │              │        │       │\u001b[37m              \u001b[0m│\u001b[37m \u001b[0m\u001b[37m        128]\u001b[0m\u001b[37m \u001b[0m│\n",
       "│\u001b[2m \u001b[0m\u001b[2m18 \u001b[0m\u001b[2m \u001b[0m│ encoder.interactions.1.mlp.0                │ Linear       │  6.5 K │ train │\u001b[37m \u001b[0m\u001b[37m[183072, 50]\u001b[0m\u001b[37m \u001b[0m│\u001b[37m \u001b[0m\u001b[37m    [183072,\u001b[0m\u001b[37m \u001b[0m│\n",
       "│\u001b[2m     \u001b[0m│                                             │              │        │       │\u001b[37m              \u001b[0m│\u001b[37m \u001b[0m\u001b[37m        128]\u001b[0m\u001b[37m \u001b[0m│\n",
       "│\u001b[2m \u001b[0m\u001b[2m19 \u001b[0m\u001b[2m \u001b[0m│ encoder.interactions.1.mlp.1                │ ShiftedSoft… │      0 │ train │\u001b[37m \u001b[0m\u001b[37m    [183072,\u001b[0m\u001b[37m \u001b[0m│\u001b[37m \u001b[0m\u001b[37m    [183072,\u001b[0m\u001b[37m \u001b[0m│\n",
       "│\u001b[2m     \u001b[0m│                                             │              │        │       │\u001b[37m \u001b[0m\u001b[37m        128]\u001b[0m\u001b[37m \u001b[0m│\u001b[37m \u001b[0m\u001b[37m        128]\u001b[0m\u001b[37m \u001b[0m│\n",
       "│\u001b[2m \u001b[0m\u001b[2m20 \u001b[0m\u001b[2m \u001b[0m│ encoder.interactions.1.mlp.2                │ Linear       │ 16.5 K │ train │\u001b[37m \u001b[0m\u001b[37m    [183072,\u001b[0m\u001b[37m \u001b[0m│\u001b[37m \u001b[0m\u001b[37m    [183072,\u001b[0m\u001b[37m \u001b[0m│\n",
       "│\u001b[2m     \u001b[0m│                                             │              │        │       │\u001b[37m \u001b[0m\u001b[37m        128]\u001b[0m\u001b[37m \u001b[0m│\u001b[37m \u001b[0m\u001b[37m        128]\u001b[0m\u001b[37m \u001b[0m│\n",
       "│\u001b[2m \u001b[0m\u001b[2m21 \u001b[0m\u001b[2m \u001b[0m│ encoder.interactions.1.conv                 │ CFConv       │  154 K │ train │\u001b[37m \u001b[0m\u001b[37m    [[11442,\u001b[0m\u001b[37m \u001b[0m│\u001b[37m \u001b[0m\u001b[37m[11442, 512]\u001b[0m\u001b[37m \u001b[0m│\n",
       "│\u001b[2m     \u001b[0m│                                             │              │        │       │\u001b[37m \u001b[0m\u001b[37m   512], [2,\u001b[0m\u001b[37m \u001b[0m│\u001b[37m              \u001b[0m│\n",
       "│\u001b[2m     \u001b[0m│                                             │              │        │       │\u001b[37m \u001b[0m\u001b[37m    183072],\u001b[0m\u001b[37m \u001b[0m│\u001b[37m              \u001b[0m│\n",
       "│\u001b[2m     \u001b[0m│                                             │              │        │       │\u001b[37m \u001b[0m\u001b[37m   [183072],\u001b[0m\u001b[37m \u001b[0m│\u001b[37m              \u001b[0m│\n",
       "│\u001b[2m     \u001b[0m│                                             │              │        │       │\u001b[37m \u001b[0m\u001b[37m    [183072,\u001b[0m\u001b[37m \u001b[0m│\u001b[37m              \u001b[0m│\n",
       "│\u001b[2m     \u001b[0m│                                             │              │        │       │\u001b[37m \u001b[0m\u001b[37m        50]]\u001b[0m\u001b[37m \u001b[0m│\u001b[37m              \u001b[0m│\n",
       "│\u001b[2m \u001b[0m\u001b[2m22 \u001b[0m\u001b[2m \u001b[0m│ encoder.interactions.1.conv.aggr_module     │ SumAggregat… │      0 │ train │\u001b[37m \u001b[0m\u001b[37m   [[183072,\u001b[0m\u001b[37m \u001b[0m│\u001b[37m \u001b[0m\u001b[37m[11442, 128]\u001b[0m\u001b[37m \u001b[0m│\n",
       "│\u001b[2m     \u001b[0m│                                             │              │        │       │\u001b[37m \u001b[0m\u001b[37m       128],\u001b[0m\u001b[37m \u001b[0m│\u001b[37m              \u001b[0m│\n",
       "│\u001b[2m     \u001b[0m│                                             │              │        │       │\u001b[37m \u001b[0m\u001b[37m   [183072],\u001b[0m\u001b[37m \u001b[0m│\u001b[37m              \u001b[0m│\n",
       "│\u001b[2m     \u001b[0m│                                             │              │        │       │\u001b[37m \u001b[0m\u001b[37m   '?', '?',\u001b[0m\u001b[37m \u001b[0m│\u001b[37m              \u001b[0m│\n",
       "│\u001b[2m     \u001b[0m│                                             │              │        │       │\u001b[37m \u001b[0m\u001b[37m        '?']\u001b[0m\u001b[37m \u001b[0m│\u001b[37m              \u001b[0m│\n",
       "│\u001b[2m \u001b[0m\u001b[2m23 \u001b[0m\u001b[2m \u001b[0m│ encoder.interactions.1.conv.lin1            │ Linear       │ 65.5 K │ train │\u001b[37m \u001b[0m\u001b[37m[11442, 512]\u001b[0m\u001b[37m \u001b[0m│\u001b[37m \u001b[0m\u001b[37m[11442, 128]\u001b[0m\u001b[37m \u001b[0m│\n",
       "│\u001b[2m \u001b[0m\u001b[2m24 \u001b[0m\u001b[2m \u001b[0m│ encoder.interactions.1.conv.lin2            │ Linear       │ 66.0 K │ train │\u001b[37m \u001b[0m\u001b[37m[11442, 128]\u001b[0m\u001b[37m \u001b[0m│\u001b[37m \u001b[0m\u001b[37m[11442, 512]\u001b[0m\u001b[37m \u001b[0m│\n",
       "│\u001b[2m \u001b[0m\u001b[2m25 \u001b[0m\u001b[2m \u001b[0m│ encoder.interactions.1.act                  │ ShiftedSoft… │      0 │ train │\u001b[37m \u001b[0m\u001b[37m[11442, 512]\u001b[0m\u001b[37m \u001b[0m│\u001b[37m \u001b[0m\u001b[37m[11442, 512]\u001b[0m\u001b[37m \u001b[0m│\n",
       "│\u001b[2m \u001b[0m\u001b[2m26 \u001b[0m\u001b[2m \u001b[0m│ encoder.interactions.1.lin                  │ Linear       │  262 K │ train │\u001b[37m \u001b[0m\u001b[37m[11442, 512]\u001b[0m\u001b[37m \u001b[0m│\u001b[37m \u001b[0m\u001b[37m[11442, 512]\u001b[0m\u001b[37m \u001b[0m│\n",
       "│\u001b[2m \u001b[0m\u001b[2m27 \u001b[0m\u001b[2m \u001b[0m│ encoder.interactions.2                      │ Interaction… │  417 K │ train │\u001b[37m \u001b[0m\u001b[37m    [[11442,\u001b[0m\u001b[37m \u001b[0m│\u001b[37m \u001b[0m\u001b[37m[11442, 512]\u001b[0m\u001b[37m \u001b[0m│\n",
       "│\u001b[2m     \u001b[0m│                                             │              │        │       │\u001b[37m \u001b[0m\u001b[37m   512], [2,\u001b[0m\u001b[37m \u001b[0m│\u001b[37m              \u001b[0m│\n",
       "│\u001b[2m     \u001b[0m│                                             │              │        │       │\u001b[37m \u001b[0m\u001b[37m    183072],\u001b[0m\u001b[37m \u001b[0m│\u001b[37m              \u001b[0m│\n",
       "│\u001b[2m     \u001b[0m│                                             │              │        │       │\u001b[37m \u001b[0m\u001b[37m   [183072],\u001b[0m\u001b[37m \u001b[0m│\u001b[37m              \u001b[0m│\n",
       "│\u001b[2m     \u001b[0m│                                             │              │        │       │\u001b[37m \u001b[0m\u001b[37m    [183072,\u001b[0m\u001b[37m \u001b[0m│\u001b[37m              \u001b[0m│\n",
       "│\u001b[2m     \u001b[0m│                                             │              │        │       │\u001b[37m \u001b[0m\u001b[37m        50]]\u001b[0m\u001b[37m \u001b[0m│\u001b[37m              \u001b[0m│\n",
       "│\u001b[2m \u001b[0m\u001b[2m28 \u001b[0m\u001b[2m \u001b[0m│ encoder.interactions.2.mlp                  │ Sequential   │ 23.0 K │ train │\u001b[37m \u001b[0m\u001b[37m[183072, 50]\u001b[0m\u001b[37m \u001b[0m│\u001b[37m \u001b[0m\u001b[37m    [183072,\u001b[0m\u001b[37m \u001b[0m│\n",
       "│\u001b[2m     \u001b[0m│                                             │              │        │       │\u001b[37m              \u001b[0m│\u001b[37m \u001b[0m\u001b[37m        128]\u001b[0m\u001b[37m \u001b[0m│\n",
       "│\u001b[2m \u001b[0m\u001b[2m29 \u001b[0m\u001b[2m \u001b[0m│ encoder.interactions.2.mlp.0                │ Linear       │  6.5 K │ train │\u001b[37m \u001b[0m\u001b[37m[183072, 50]\u001b[0m\u001b[37m \u001b[0m│\u001b[37m \u001b[0m\u001b[37m    [183072,\u001b[0m\u001b[37m \u001b[0m│\n",
       "│\u001b[2m     \u001b[0m│                                             │              │        │       │\u001b[37m              \u001b[0m│\u001b[37m \u001b[0m\u001b[37m        128]\u001b[0m\u001b[37m \u001b[0m│\n",
       "│\u001b[2m \u001b[0m\u001b[2m30 \u001b[0m\u001b[2m \u001b[0m│ encoder.interactions.2.mlp.1                │ ShiftedSoft… │      0 │ train │\u001b[37m \u001b[0m\u001b[37m    [183072,\u001b[0m\u001b[37m \u001b[0m│\u001b[37m \u001b[0m\u001b[37m    [183072,\u001b[0m\u001b[37m \u001b[0m│\n",
       "│\u001b[2m     \u001b[0m│                                             │              │        │       │\u001b[37m \u001b[0m\u001b[37m        128]\u001b[0m\u001b[37m \u001b[0m│\u001b[37m \u001b[0m\u001b[37m        128]\u001b[0m\u001b[37m \u001b[0m│\n",
       "│\u001b[2m \u001b[0m\u001b[2m31 \u001b[0m\u001b[2m \u001b[0m│ encoder.interactions.2.mlp.2                │ Linear       │ 16.5 K │ train │\u001b[37m \u001b[0m\u001b[37m    [183072,\u001b[0m\u001b[37m \u001b[0m│\u001b[37m \u001b[0m\u001b[37m    [183072,\u001b[0m\u001b[37m \u001b[0m│\n",
       "│\u001b[2m     \u001b[0m│                                             │              │        │       │\u001b[37m \u001b[0m\u001b[37m        128]\u001b[0m\u001b[37m \u001b[0m│\u001b[37m \u001b[0m\u001b[37m        128]\u001b[0m\u001b[37m \u001b[0m│\n",
       "│\u001b[2m \u001b[0m\u001b[2m32 \u001b[0m\u001b[2m \u001b[0m│ encoder.interactions.2.conv                 │ CFConv       │  154 K │ train │\u001b[37m \u001b[0m\u001b[37m    [[11442,\u001b[0m\u001b[37m \u001b[0m│\u001b[37m \u001b[0m\u001b[37m[11442, 512]\u001b[0m\u001b[37m \u001b[0m│\n",
       "│\u001b[2m     \u001b[0m│                                             │              │        │       │\u001b[37m \u001b[0m\u001b[37m   512], [2,\u001b[0m\u001b[37m \u001b[0m│\u001b[37m              \u001b[0m│\n",
       "│\u001b[2m     \u001b[0m│                                             │              │        │       │\u001b[37m \u001b[0m\u001b[37m    183072],\u001b[0m\u001b[37m \u001b[0m│\u001b[37m              \u001b[0m│\n",
       "│\u001b[2m     \u001b[0m│                                             │              │        │       │\u001b[37m \u001b[0m\u001b[37m   [183072],\u001b[0m\u001b[37m \u001b[0m│\u001b[37m              \u001b[0m│\n",
       "│\u001b[2m     \u001b[0m│                                             │              │        │       │\u001b[37m \u001b[0m\u001b[37m    [183072,\u001b[0m\u001b[37m \u001b[0m│\u001b[37m              \u001b[0m│\n",
       "│\u001b[2m     \u001b[0m│                                             │              │        │       │\u001b[37m \u001b[0m\u001b[37m        50]]\u001b[0m\u001b[37m \u001b[0m│\u001b[37m              \u001b[0m│\n",
       "│\u001b[2m \u001b[0m\u001b[2m33 \u001b[0m\u001b[2m \u001b[0m│ encoder.interactions.2.conv.aggr_module     │ SumAggregat… │      0 │ train │\u001b[37m \u001b[0m\u001b[37m   [[183072,\u001b[0m\u001b[37m \u001b[0m│\u001b[37m \u001b[0m\u001b[37m[11442, 128]\u001b[0m\u001b[37m \u001b[0m│\n",
       "│\u001b[2m     \u001b[0m│                                             │              │        │       │\u001b[37m \u001b[0m\u001b[37m       128],\u001b[0m\u001b[37m \u001b[0m│\u001b[37m              \u001b[0m│\n",
       "│\u001b[2m     \u001b[0m│                                             │              │        │       │\u001b[37m \u001b[0m\u001b[37m   [183072],\u001b[0m\u001b[37m \u001b[0m│\u001b[37m              \u001b[0m│\n",
       "│\u001b[2m     \u001b[0m│                                             │              │        │       │\u001b[37m \u001b[0m\u001b[37m   '?', '?',\u001b[0m\u001b[37m \u001b[0m│\u001b[37m              \u001b[0m│\n",
       "│\u001b[2m     \u001b[0m│                                             │              │        │       │\u001b[37m \u001b[0m\u001b[37m        '?']\u001b[0m\u001b[37m \u001b[0m│\u001b[37m              \u001b[0m│\n",
       "│\u001b[2m \u001b[0m\u001b[2m34 \u001b[0m\u001b[2m \u001b[0m│ encoder.interactions.2.conv.lin1            │ Linear       │ 65.5 K │ train │\u001b[37m \u001b[0m\u001b[37m[11442, 512]\u001b[0m\u001b[37m \u001b[0m│\u001b[37m \u001b[0m\u001b[37m[11442, 128]\u001b[0m\u001b[37m \u001b[0m│\n",
       "│\u001b[2m \u001b[0m\u001b[2m35 \u001b[0m\u001b[2m \u001b[0m│ encoder.interactions.2.conv.lin2            │ Linear       │ 66.0 K │ train │\u001b[37m \u001b[0m\u001b[37m[11442, 128]\u001b[0m\u001b[37m \u001b[0m│\u001b[37m \u001b[0m\u001b[37m[11442, 512]\u001b[0m\u001b[37m \u001b[0m│\n",
       "│\u001b[2m \u001b[0m\u001b[2m36 \u001b[0m\u001b[2m \u001b[0m│ encoder.interactions.2.act                  │ ShiftedSoft… │      0 │ train │\u001b[37m \u001b[0m\u001b[37m[11442, 512]\u001b[0m\u001b[37m \u001b[0m│\u001b[37m \u001b[0m\u001b[37m[11442, 512]\u001b[0m\u001b[37m \u001b[0m│\n",
       "│\u001b[2m \u001b[0m\u001b[2m37 \u001b[0m\u001b[2m \u001b[0m│ encoder.interactions.2.lin                  │ Linear       │  262 K │ train │\u001b[37m \u001b[0m\u001b[37m[11442, 512]\u001b[0m\u001b[37m \u001b[0m│\u001b[37m \u001b[0m\u001b[37m[11442, 512]\u001b[0m\u001b[37m \u001b[0m│\n",
       "│\u001b[2m \u001b[0m\u001b[2m38 \u001b[0m\u001b[2m \u001b[0m│ encoder.interactions.3                      │ Interaction… │  417 K │ train │\u001b[37m \u001b[0m\u001b[37m    [[11442,\u001b[0m\u001b[37m \u001b[0m│\u001b[37m \u001b[0m\u001b[37m[11442, 512]\u001b[0m\u001b[37m \u001b[0m│\n",
       "│\u001b[2m     \u001b[0m│                                             │              │        │       │\u001b[37m \u001b[0m\u001b[37m   512], [2,\u001b[0m\u001b[37m \u001b[0m│\u001b[37m              \u001b[0m│\n",
       "│\u001b[2m     \u001b[0m│                                             │              │        │       │\u001b[37m \u001b[0m\u001b[37m    183072],\u001b[0m\u001b[37m \u001b[0m│\u001b[37m              \u001b[0m│\n",
       "│\u001b[2m     \u001b[0m│                                             │              │        │       │\u001b[37m \u001b[0m\u001b[37m   [183072],\u001b[0m\u001b[37m \u001b[0m│\u001b[37m              \u001b[0m│\n",
       "│\u001b[2m     \u001b[0m│                                             │              │        │       │\u001b[37m \u001b[0m\u001b[37m    [183072,\u001b[0m\u001b[37m \u001b[0m│\u001b[37m              \u001b[0m│\n",
       "│\u001b[2m     \u001b[0m│                                             │              │        │       │\u001b[37m \u001b[0m\u001b[37m        50]]\u001b[0m\u001b[37m \u001b[0m│\u001b[37m              \u001b[0m│\n",
       "│\u001b[2m \u001b[0m\u001b[2m39 \u001b[0m\u001b[2m \u001b[0m│ encoder.interactions.3.mlp                  │ Sequential   │ 23.0 K │ train │\u001b[37m \u001b[0m\u001b[37m[183072, 50]\u001b[0m\u001b[37m \u001b[0m│\u001b[37m \u001b[0m\u001b[37m    [183072,\u001b[0m\u001b[37m \u001b[0m│\n",
       "│\u001b[2m     \u001b[0m│                                             │              │        │       │\u001b[37m              \u001b[0m│\u001b[37m \u001b[0m\u001b[37m        128]\u001b[0m\u001b[37m \u001b[0m│\n",
       "│\u001b[2m \u001b[0m\u001b[2m40 \u001b[0m\u001b[2m \u001b[0m│ encoder.interactions.3.mlp.0                │ Linear       │  6.5 K │ train │\u001b[37m \u001b[0m\u001b[37m[183072, 50]\u001b[0m\u001b[37m \u001b[0m│\u001b[37m \u001b[0m\u001b[37m    [183072,\u001b[0m\u001b[37m \u001b[0m│\n",
       "│\u001b[2m     \u001b[0m│                                             │              │        │       │\u001b[37m              \u001b[0m│\u001b[37m \u001b[0m\u001b[37m        128]\u001b[0m\u001b[37m \u001b[0m│\n",
       "│\u001b[2m \u001b[0m\u001b[2m41 \u001b[0m\u001b[2m \u001b[0m│ encoder.interactions.3.mlp.1                │ ShiftedSoft… │      0 │ train │\u001b[37m \u001b[0m\u001b[37m    [183072,\u001b[0m\u001b[37m \u001b[0m│\u001b[37m \u001b[0m\u001b[37m    [183072,\u001b[0m\u001b[37m \u001b[0m│\n",
       "│\u001b[2m     \u001b[0m│                                             │              │        │       │\u001b[37m \u001b[0m\u001b[37m        128]\u001b[0m\u001b[37m \u001b[0m│\u001b[37m \u001b[0m\u001b[37m        128]\u001b[0m\u001b[37m \u001b[0m│\n",
       "│\u001b[2m \u001b[0m\u001b[2m42 \u001b[0m\u001b[2m \u001b[0m│ encoder.interactions.3.mlp.2                │ Linear       │ 16.5 K │ train │\u001b[37m \u001b[0m\u001b[37m    [183072,\u001b[0m\u001b[37m \u001b[0m│\u001b[37m \u001b[0m\u001b[37m    [183072,\u001b[0m\u001b[37m \u001b[0m│\n",
       "│\u001b[2m     \u001b[0m│                                             │              │        │       │\u001b[37m \u001b[0m\u001b[37m        128]\u001b[0m\u001b[37m \u001b[0m│\u001b[37m \u001b[0m\u001b[37m        128]\u001b[0m\u001b[37m \u001b[0m│\n",
       "│\u001b[2m \u001b[0m\u001b[2m43 \u001b[0m\u001b[2m \u001b[0m│ encoder.interactions.3.conv                 │ CFConv       │  154 K │ train │\u001b[37m \u001b[0m\u001b[37m    [[11442,\u001b[0m\u001b[37m \u001b[0m│\u001b[37m \u001b[0m\u001b[37m[11442, 512]\u001b[0m\u001b[37m \u001b[0m│\n",
       "│\u001b[2m     \u001b[0m│                                             │              │        │       │\u001b[37m \u001b[0m\u001b[37m   512], [2,\u001b[0m\u001b[37m \u001b[0m│\u001b[37m              \u001b[0m│\n",
       "│\u001b[2m     \u001b[0m│                                             │              │        │       │\u001b[37m \u001b[0m\u001b[37m    183072],\u001b[0m\u001b[37m \u001b[0m│\u001b[37m              \u001b[0m│\n",
       "│\u001b[2m     \u001b[0m│                                             │              │        │       │\u001b[37m \u001b[0m\u001b[37m   [183072],\u001b[0m\u001b[37m \u001b[0m│\u001b[37m              \u001b[0m│\n",
       "│\u001b[2m     \u001b[0m│                                             │              │        │       │\u001b[37m \u001b[0m\u001b[37m    [183072,\u001b[0m\u001b[37m \u001b[0m│\u001b[37m              \u001b[0m│\n",
       "│\u001b[2m     \u001b[0m│                                             │              │        │       │\u001b[37m \u001b[0m\u001b[37m        50]]\u001b[0m\u001b[37m \u001b[0m│\u001b[37m              \u001b[0m│\n",
       "│\u001b[2m \u001b[0m\u001b[2m44 \u001b[0m\u001b[2m \u001b[0m│ encoder.interactions.3.conv.aggr_module     │ SumAggregat… │      0 │ train │\u001b[37m \u001b[0m\u001b[37m   [[183072,\u001b[0m\u001b[37m \u001b[0m│\u001b[37m \u001b[0m\u001b[37m[11442, 128]\u001b[0m\u001b[37m \u001b[0m│\n",
       "│\u001b[2m     \u001b[0m│                                             │              │        │       │\u001b[37m \u001b[0m\u001b[37m       128],\u001b[0m\u001b[37m \u001b[0m│\u001b[37m              \u001b[0m│\n",
       "│\u001b[2m     \u001b[0m│                                             │              │        │       │\u001b[37m \u001b[0m\u001b[37m   [183072],\u001b[0m\u001b[37m \u001b[0m│\u001b[37m              \u001b[0m│\n",
       "│\u001b[2m     \u001b[0m│                                             │              │        │       │\u001b[37m \u001b[0m\u001b[37m   '?', '?',\u001b[0m\u001b[37m \u001b[0m│\u001b[37m              \u001b[0m│\n",
       "│\u001b[2m     \u001b[0m│                                             │              │        │       │\u001b[37m \u001b[0m\u001b[37m        '?']\u001b[0m\u001b[37m \u001b[0m│\u001b[37m              \u001b[0m│\n",
       "│\u001b[2m \u001b[0m\u001b[2m45 \u001b[0m\u001b[2m \u001b[0m│ encoder.interactions.3.conv.lin1            │ Linear       │ 65.5 K │ train │\u001b[37m \u001b[0m\u001b[37m[11442, 512]\u001b[0m\u001b[37m \u001b[0m│\u001b[37m \u001b[0m\u001b[37m[11442, 128]\u001b[0m\u001b[37m \u001b[0m│\n",
       "│\u001b[2m \u001b[0m\u001b[2m46 \u001b[0m\u001b[2m \u001b[0m│ encoder.interactions.3.conv.lin2            │ Linear       │ 66.0 K │ train │\u001b[37m \u001b[0m\u001b[37m[11442, 128]\u001b[0m\u001b[37m \u001b[0m│\u001b[37m \u001b[0m\u001b[37m[11442, 512]\u001b[0m\u001b[37m \u001b[0m│\n",
       "│\u001b[2m \u001b[0m\u001b[2m47 \u001b[0m\u001b[2m \u001b[0m│ encoder.interactions.3.act                  │ ShiftedSoft… │      0 │ train │\u001b[37m \u001b[0m\u001b[37m[11442, 512]\u001b[0m\u001b[37m \u001b[0m│\u001b[37m \u001b[0m\u001b[37m[11442, 512]\u001b[0m\u001b[37m \u001b[0m│\n",
       "│\u001b[2m \u001b[0m\u001b[2m48 \u001b[0m\u001b[2m \u001b[0m│ encoder.interactions.3.lin                  │ Linear       │  262 K │ train │\u001b[37m \u001b[0m\u001b[37m[11442, 512]\u001b[0m\u001b[37m \u001b[0m│\u001b[37m \u001b[0m\u001b[37m[11442, 512]\u001b[0m\u001b[37m \u001b[0m│\n",
       "│\u001b[2m \u001b[0m\u001b[2m49 \u001b[0m\u001b[2m \u001b[0m│ encoder.interactions.4                      │ Interaction… │  417 K │ train │\u001b[37m \u001b[0m\u001b[37m    [[11442,\u001b[0m\u001b[37m \u001b[0m│\u001b[37m \u001b[0m\u001b[37m[11442, 512]\u001b[0m\u001b[37m \u001b[0m│\n",
       "│\u001b[2m     \u001b[0m│                                             │              │        │       │\u001b[37m \u001b[0m\u001b[37m   512], [2,\u001b[0m\u001b[37m \u001b[0m│\u001b[37m              \u001b[0m│\n",
       "│\u001b[2m     \u001b[0m│                                             │              │        │       │\u001b[37m \u001b[0m\u001b[37m    183072],\u001b[0m\u001b[37m \u001b[0m│\u001b[37m              \u001b[0m│\n",
       "│\u001b[2m     \u001b[0m│                                             │              │        │       │\u001b[37m \u001b[0m\u001b[37m   [183072],\u001b[0m\u001b[37m \u001b[0m│\u001b[37m              \u001b[0m│\n",
       "│\u001b[2m     \u001b[0m│                                             │              │        │       │\u001b[37m \u001b[0m\u001b[37m    [183072,\u001b[0m\u001b[37m \u001b[0m│\u001b[37m              \u001b[0m│\n",
       "│\u001b[2m     \u001b[0m│                                             │              │        │       │\u001b[37m \u001b[0m\u001b[37m        50]]\u001b[0m\u001b[37m \u001b[0m│\u001b[37m              \u001b[0m│\n",
       "│\u001b[2m \u001b[0m\u001b[2m50 \u001b[0m\u001b[2m \u001b[0m│ encoder.interactions.4.mlp                  │ Sequential   │ 23.0 K │ train │\u001b[37m \u001b[0m\u001b[37m[183072, 50]\u001b[0m\u001b[37m \u001b[0m│\u001b[37m \u001b[0m\u001b[37m    [183072,\u001b[0m\u001b[37m \u001b[0m│\n",
       "│\u001b[2m     \u001b[0m│                                             │              │        │       │\u001b[37m              \u001b[0m│\u001b[37m \u001b[0m\u001b[37m        128]\u001b[0m\u001b[37m \u001b[0m│\n",
       "│\u001b[2m \u001b[0m\u001b[2m51 \u001b[0m\u001b[2m \u001b[0m│ encoder.interactions.4.mlp.0                │ Linear       │  6.5 K │ train │\u001b[37m \u001b[0m\u001b[37m[183072, 50]\u001b[0m\u001b[37m \u001b[0m│\u001b[37m \u001b[0m\u001b[37m    [183072,\u001b[0m\u001b[37m \u001b[0m│\n",
       "│\u001b[2m     \u001b[0m│                                             │              │        │       │\u001b[37m              \u001b[0m│\u001b[37m \u001b[0m\u001b[37m        128]\u001b[0m\u001b[37m \u001b[0m│\n",
       "│\u001b[2m \u001b[0m\u001b[2m52 \u001b[0m\u001b[2m \u001b[0m│ encoder.interactions.4.mlp.1                │ ShiftedSoft… │      0 │ train │\u001b[37m \u001b[0m\u001b[37m    [183072,\u001b[0m\u001b[37m \u001b[0m│\u001b[37m \u001b[0m\u001b[37m    [183072,\u001b[0m\u001b[37m \u001b[0m│\n",
       "│\u001b[2m     \u001b[0m│                                             │              │        │       │\u001b[37m \u001b[0m\u001b[37m        128]\u001b[0m\u001b[37m \u001b[0m│\u001b[37m \u001b[0m\u001b[37m        128]\u001b[0m\u001b[37m \u001b[0m│\n",
       "│\u001b[2m \u001b[0m\u001b[2m53 \u001b[0m\u001b[2m \u001b[0m│ encoder.interactions.4.mlp.2                │ Linear       │ 16.5 K │ train │\u001b[37m \u001b[0m\u001b[37m    [183072,\u001b[0m\u001b[37m \u001b[0m│\u001b[37m \u001b[0m\u001b[37m    [183072,\u001b[0m\u001b[37m \u001b[0m│\n",
       "│\u001b[2m     \u001b[0m│                                             │              │        │       │\u001b[37m \u001b[0m\u001b[37m        128]\u001b[0m\u001b[37m \u001b[0m│\u001b[37m \u001b[0m\u001b[37m        128]\u001b[0m\u001b[37m \u001b[0m│\n",
       "│\u001b[2m \u001b[0m\u001b[2m54 \u001b[0m\u001b[2m \u001b[0m│ encoder.interactions.4.conv                 │ CFConv       │  154 K │ train │\u001b[37m \u001b[0m\u001b[37m    [[11442,\u001b[0m\u001b[37m \u001b[0m│\u001b[37m \u001b[0m\u001b[37m[11442, 512]\u001b[0m\u001b[37m \u001b[0m│\n",
       "│\u001b[2m     \u001b[0m│                                             │              │        │       │\u001b[37m \u001b[0m\u001b[37m   512], [2,\u001b[0m\u001b[37m \u001b[0m│\u001b[37m              \u001b[0m│\n",
       "│\u001b[2m     \u001b[0m│                                             │              │        │       │\u001b[37m \u001b[0m\u001b[37m    183072],\u001b[0m\u001b[37m \u001b[0m│\u001b[37m              \u001b[0m│\n",
       "│\u001b[2m     \u001b[0m│                                             │              │        │       │\u001b[37m \u001b[0m\u001b[37m   [183072],\u001b[0m\u001b[37m \u001b[0m│\u001b[37m              \u001b[0m│\n",
       "│\u001b[2m     \u001b[0m│                                             │              │        │       │\u001b[37m \u001b[0m\u001b[37m    [183072,\u001b[0m\u001b[37m \u001b[0m│\u001b[37m              \u001b[0m│\n",
       "│\u001b[2m     \u001b[0m│                                             │              │        │       │\u001b[37m \u001b[0m\u001b[37m        50]]\u001b[0m\u001b[37m \u001b[0m│\u001b[37m              \u001b[0m│\n",
       "│\u001b[2m \u001b[0m\u001b[2m55 \u001b[0m\u001b[2m \u001b[0m│ encoder.interactions.4.conv.aggr_module     │ SumAggregat… │      0 │ train │\u001b[37m \u001b[0m\u001b[37m   [[183072,\u001b[0m\u001b[37m \u001b[0m│\u001b[37m \u001b[0m\u001b[37m[11442, 128]\u001b[0m\u001b[37m \u001b[0m│\n",
       "│\u001b[2m     \u001b[0m│                                             │              │        │       │\u001b[37m \u001b[0m\u001b[37m       128],\u001b[0m\u001b[37m \u001b[0m│\u001b[37m              \u001b[0m│\n",
       "│\u001b[2m     \u001b[0m│                                             │              │        │       │\u001b[37m \u001b[0m\u001b[37m   [183072],\u001b[0m\u001b[37m \u001b[0m│\u001b[37m              \u001b[0m│\n",
       "│\u001b[2m     \u001b[0m│                                             │              │        │       │\u001b[37m \u001b[0m\u001b[37m   '?', '?',\u001b[0m\u001b[37m \u001b[0m│\u001b[37m              \u001b[0m│\n",
       "│\u001b[2m     \u001b[0m│                                             │              │        │       │\u001b[37m \u001b[0m\u001b[37m        '?']\u001b[0m\u001b[37m \u001b[0m│\u001b[37m              \u001b[0m│\n",
       "│\u001b[2m \u001b[0m\u001b[2m56 \u001b[0m\u001b[2m \u001b[0m│ encoder.interactions.4.conv.lin1            │ Linear       │ 65.5 K │ train │\u001b[37m \u001b[0m\u001b[37m[11442, 512]\u001b[0m\u001b[37m \u001b[0m│\u001b[37m \u001b[0m\u001b[37m[11442, 128]\u001b[0m\u001b[37m \u001b[0m│\n",
       "│\u001b[2m \u001b[0m\u001b[2m57 \u001b[0m\u001b[2m \u001b[0m│ encoder.interactions.4.conv.lin2            │ Linear       │ 66.0 K │ train │\u001b[37m \u001b[0m\u001b[37m[11442, 128]\u001b[0m\u001b[37m \u001b[0m│\u001b[37m \u001b[0m\u001b[37m[11442, 512]\u001b[0m\u001b[37m \u001b[0m│\n",
       "│\u001b[2m \u001b[0m\u001b[2m58 \u001b[0m\u001b[2m \u001b[0m│ encoder.interactions.4.act                  │ ShiftedSoft… │      0 │ train │\u001b[37m \u001b[0m\u001b[37m[11442, 512]\u001b[0m\u001b[37m \u001b[0m│\u001b[37m \u001b[0m\u001b[37m[11442, 512]\u001b[0m\u001b[37m \u001b[0m│\n",
       "│\u001b[2m \u001b[0m\u001b[2m59 \u001b[0m\u001b[2m \u001b[0m│ encoder.interactions.4.lin                  │ Linear       │  262 K │ train │\u001b[37m \u001b[0m\u001b[37m[11442, 512]\u001b[0m\u001b[37m \u001b[0m│\u001b[37m \u001b[0m\u001b[37m[11442, 512]\u001b[0m\u001b[37m \u001b[0m│\n",
       "│\u001b[2m \u001b[0m\u001b[2m60 \u001b[0m\u001b[2m \u001b[0m│ encoder.interactions.5                      │ Interaction… │  417 K │ train │\u001b[37m \u001b[0m\u001b[37m    [[11442,\u001b[0m\u001b[37m \u001b[0m│\u001b[37m \u001b[0m\u001b[37m[11442, 512]\u001b[0m\u001b[37m \u001b[0m│\n",
       "│\u001b[2m     \u001b[0m│                                             │              │        │       │\u001b[37m \u001b[0m\u001b[37m   512], [2,\u001b[0m\u001b[37m \u001b[0m│\u001b[37m              \u001b[0m│\n",
       "│\u001b[2m     \u001b[0m│                                             │              │        │       │\u001b[37m \u001b[0m\u001b[37m    183072],\u001b[0m\u001b[37m \u001b[0m│\u001b[37m              \u001b[0m│\n",
       "│\u001b[2m     \u001b[0m│                                             │              │        │       │\u001b[37m \u001b[0m\u001b[37m   [183072],\u001b[0m\u001b[37m \u001b[0m│\u001b[37m              \u001b[0m│\n",
       "│\u001b[2m     \u001b[0m│                                             │              │        │       │\u001b[37m \u001b[0m\u001b[37m    [183072,\u001b[0m\u001b[37m \u001b[0m│\u001b[37m              \u001b[0m│\n",
       "│\u001b[2m     \u001b[0m│                                             │              │        │       │\u001b[37m \u001b[0m\u001b[37m        50]]\u001b[0m\u001b[37m \u001b[0m│\u001b[37m              \u001b[0m│\n",
       "│\u001b[2m \u001b[0m\u001b[2m61 \u001b[0m\u001b[2m \u001b[0m│ encoder.interactions.5.mlp                  │ Sequential   │ 23.0 K │ train │\u001b[37m \u001b[0m\u001b[37m[183072, 50]\u001b[0m\u001b[37m \u001b[0m│\u001b[37m \u001b[0m\u001b[37m    [183072,\u001b[0m\u001b[37m \u001b[0m│\n",
       "│\u001b[2m     \u001b[0m│                                             │              │        │       │\u001b[37m              \u001b[0m│\u001b[37m \u001b[0m\u001b[37m        128]\u001b[0m\u001b[37m \u001b[0m│\n",
       "│\u001b[2m \u001b[0m\u001b[2m62 \u001b[0m\u001b[2m \u001b[0m│ encoder.interactions.5.mlp.0                │ Linear       │  6.5 K │ train │\u001b[37m \u001b[0m\u001b[37m[183072, 50]\u001b[0m\u001b[37m \u001b[0m│\u001b[37m \u001b[0m\u001b[37m    [183072,\u001b[0m\u001b[37m \u001b[0m│\n",
       "│\u001b[2m     \u001b[0m│                                             │              │        │       │\u001b[37m              \u001b[0m│\u001b[37m \u001b[0m\u001b[37m        128]\u001b[0m\u001b[37m \u001b[0m│\n",
       "│\u001b[2m \u001b[0m\u001b[2m63 \u001b[0m\u001b[2m \u001b[0m│ encoder.interactions.5.mlp.1                │ ShiftedSoft… │      0 │ train │\u001b[37m \u001b[0m\u001b[37m    [183072,\u001b[0m\u001b[37m \u001b[0m│\u001b[37m \u001b[0m\u001b[37m    [183072,\u001b[0m\u001b[37m \u001b[0m│\n",
       "│\u001b[2m     \u001b[0m│                                             │              │        │       │\u001b[37m \u001b[0m\u001b[37m        128]\u001b[0m\u001b[37m \u001b[0m│\u001b[37m \u001b[0m\u001b[37m        128]\u001b[0m\u001b[37m \u001b[0m│\n",
       "│\u001b[2m \u001b[0m\u001b[2m64 \u001b[0m\u001b[2m \u001b[0m│ encoder.interactions.5.mlp.2                │ Linear       │ 16.5 K │ train │\u001b[37m \u001b[0m\u001b[37m    [183072,\u001b[0m\u001b[37m \u001b[0m│\u001b[37m \u001b[0m\u001b[37m    [183072,\u001b[0m\u001b[37m \u001b[0m│\n",
       "│\u001b[2m     \u001b[0m│                                             │              │        │       │\u001b[37m \u001b[0m\u001b[37m        128]\u001b[0m\u001b[37m \u001b[0m│\u001b[37m \u001b[0m\u001b[37m        128]\u001b[0m\u001b[37m \u001b[0m│\n",
       "│\u001b[2m \u001b[0m\u001b[2m65 \u001b[0m\u001b[2m \u001b[0m│ encoder.interactions.5.conv                 │ CFConv       │  154 K │ train │\u001b[37m \u001b[0m\u001b[37m    [[11442,\u001b[0m\u001b[37m \u001b[0m│\u001b[37m \u001b[0m\u001b[37m[11442, 512]\u001b[0m\u001b[37m \u001b[0m│\n",
       "│\u001b[2m     \u001b[0m│                                             │              │        │       │\u001b[37m \u001b[0m\u001b[37m   512], [2,\u001b[0m\u001b[37m \u001b[0m│\u001b[37m              \u001b[0m│\n",
       "│\u001b[2m     \u001b[0m│                                             │              │        │       │\u001b[37m \u001b[0m\u001b[37m    183072],\u001b[0m\u001b[37m \u001b[0m│\u001b[37m              \u001b[0m│\n",
       "│\u001b[2m     \u001b[0m│                                             │              │        │       │\u001b[37m \u001b[0m\u001b[37m   [183072],\u001b[0m\u001b[37m \u001b[0m│\u001b[37m              \u001b[0m│\n",
       "│\u001b[2m     \u001b[0m│                                             │              │        │       │\u001b[37m \u001b[0m\u001b[37m    [183072,\u001b[0m\u001b[37m \u001b[0m│\u001b[37m              \u001b[0m│\n",
       "│\u001b[2m     \u001b[0m│                                             │              │        │       │\u001b[37m \u001b[0m\u001b[37m        50]]\u001b[0m\u001b[37m \u001b[0m│\u001b[37m              \u001b[0m│\n",
       "│\u001b[2m \u001b[0m\u001b[2m66 \u001b[0m\u001b[2m \u001b[0m│ encoder.interactions.5.conv.aggr_module     │ SumAggregat… │      0 │ train │\u001b[37m \u001b[0m\u001b[37m   [[183072,\u001b[0m\u001b[37m \u001b[0m│\u001b[37m \u001b[0m\u001b[37m[11442, 128]\u001b[0m\u001b[37m \u001b[0m│\n",
       "│\u001b[2m     \u001b[0m│                                             │              │        │       │\u001b[37m \u001b[0m\u001b[37m       128],\u001b[0m\u001b[37m \u001b[0m│\u001b[37m              \u001b[0m│\n",
       "│\u001b[2m     \u001b[0m│                                             │              │        │       │\u001b[37m \u001b[0m\u001b[37m   [183072],\u001b[0m\u001b[37m \u001b[0m│\u001b[37m              \u001b[0m│\n",
       "│\u001b[2m     \u001b[0m│                                             │              │        │       │\u001b[37m \u001b[0m\u001b[37m   '?', '?',\u001b[0m\u001b[37m \u001b[0m│\u001b[37m              \u001b[0m│\n",
       "│\u001b[2m     \u001b[0m│                                             │              │        │       │\u001b[37m \u001b[0m\u001b[37m        '?']\u001b[0m\u001b[37m \u001b[0m│\u001b[37m              \u001b[0m│\n",
       "│\u001b[2m \u001b[0m\u001b[2m67 \u001b[0m\u001b[2m \u001b[0m│ encoder.interactions.5.conv.lin1            │ Linear       │ 65.5 K │ train │\u001b[37m \u001b[0m\u001b[37m[11442, 512]\u001b[0m\u001b[37m \u001b[0m│\u001b[37m \u001b[0m\u001b[37m[11442, 128]\u001b[0m\u001b[37m \u001b[0m│\n",
       "│\u001b[2m \u001b[0m\u001b[2m68 \u001b[0m\u001b[2m \u001b[0m│ encoder.interactions.5.conv.lin2            │ Linear       │ 66.0 K │ train │\u001b[37m \u001b[0m\u001b[37m[11442, 128]\u001b[0m\u001b[37m \u001b[0m│\u001b[37m \u001b[0m\u001b[37m[11442, 512]\u001b[0m\u001b[37m \u001b[0m│\n",
       "│\u001b[2m \u001b[0m\u001b[2m69 \u001b[0m\u001b[2m \u001b[0m│ encoder.interactions.5.act                  │ ShiftedSoft… │      0 │ train │\u001b[37m \u001b[0m\u001b[37m[11442, 512]\u001b[0m\u001b[37m \u001b[0m│\u001b[37m \u001b[0m\u001b[37m[11442, 512]\u001b[0m\u001b[37m \u001b[0m│\n",
       "│\u001b[2m \u001b[0m\u001b[2m70 \u001b[0m\u001b[2m \u001b[0m│ encoder.interactions.5.lin                  │ Linear       │  262 K │ train │\u001b[37m \u001b[0m\u001b[37m[11442, 512]\u001b[0m\u001b[37m \u001b[0m│\u001b[37m \u001b[0m\u001b[37m[11442, 512]\u001b[0m\u001b[37m \u001b[0m│\n",
       "│\u001b[2m \u001b[0m\u001b[2m71 \u001b[0m\u001b[2m \u001b[0m│ encoder.lin1                                │ Linear       │  131 K │ train │\u001b[37m \u001b[0m\u001b[37m[11442, 512]\u001b[0m\u001b[37m \u001b[0m│\u001b[37m \u001b[0m\u001b[37m[11442, 256]\u001b[0m\u001b[37m \u001b[0m│\n",
       "│\u001b[2m \u001b[0m\u001b[2m72 \u001b[0m\u001b[2m \u001b[0m│ encoder.act                                 │ ShiftedSoft… │      0 │ train │\u001b[37m \u001b[0m\u001b[37m[11442, 256]\u001b[0m\u001b[37m \u001b[0m│\u001b[37m \u001b[0m\u001b[37m[11442, 256]\u001b[0m\u001b[37m \u001b[0m│\n",
       "│\u001b[2m \u001b[0m\u001b[2m73 \u001b[0m\u001b[2m \u001b[0m│ encoder.lin2                                │ Linear       │  8.2 K │ train │\u001b[37m \u001b[0m\u001b[37m[11442, 256]\u001b[0m\u001b[37m \u001b[0m│\u001b[37m \u001b[0m\u001b[37m [11442, 32]\u001b[0m\u001b[37m \u001b[0m│\n",
       "│\u001b[2m \u001b[0m\u001b[2m74 \u001b[0m\u001b[2m \u001b[0m│ decoder                                     │ ModuleDict   │  2.7 M │ train │\u001b[37m \u001b[0m\u001b[37m           ?\u001b[0m\u001b[37m \u001b[0m│\u001b[37m \u001b[0m\u001b[37m           ?\u001b[0m\u001b[37m \u001b[0m│\n",
       "│\u001b[2m \u001b[0m\u001b[2m75 \u001b[0m\u001b[2m \u001b[0m│ decoder.graph_label                         │ MLPDecoder   │  2.7 M │ train │\u001b[37m \u001b[0m\u001b[37m    [32, 32]\u001b[0m\u001b[37m \u001b[0m│\u001b[37m \u001b[0m\u001b[37m  [32, 1195]\u001b[0m\u001b[37m \u001b[0m│\n",
       "│\u001b[2m \u001b[0m\u001b[2m76 \u001b[0m\u001b[2m \u001b[0m│ decoder.graph_label.layers                  │ LinearSkipB… │  2.7 M │ train │\u001b[37m \u001b[0m\u001b[37m    [32, 32]\u001b[0m\u001b[37m \u001b[0m│\u001b[37m \u001b[0m\u001b[37m  [32, 1195]\u001b[0m\u001b[37m \u001b[0m│\n",
       "│\u001b[2m \u001b[0m\u001b[2m77 \u001b[0m\u001b[2m \u001b[0m│ decoder.graph_label.layers.layers           │ ModuleList   │  2.7 M │ train │\u001b[37m \u001b[0m\u001b[37m           ?\u001b[0m\u001b[37m \u001b[0m│\u001b[37m \u001b[0m\u001b[37m           ?\u001b[0m\u001b[37m \u001b[0m│\n",
       "│\u001b[2m \u001b[0m\u001b[2m78 \u001b[0m\u001b[2m \u001b[0m│ decoder.graph_label.layers.layers.0         │ Linear       │ 16.9 K │ train │\u001b[37m \u001b[0m\u001b[37m    [32, 32]\u001b[0m\u001b[37m \u001b[0m│\u001b[37m \u001b[0m\u001b[37m   [32, 512]\u001b[0m\u001b[37m \u001b[0m│\n",
       "│\u001b[2m \u001b[0m\u001b[2m79 \u001b[0m\u001b[2m \u001b[0m│ decoder.graph_label.layers.layers.1         │ Linear       │  279 K │ train │\u001b[37m \u001b[0m\u001b[37m   [32, 544]\u001b[0m\u001b[37m \u001b[0m│\u001b[37m \u001b[0m\u001b[37m   [32, 512]\u001b[0m\u001b[37m \u001b[0m│\n",
       "│\u001b[2m \u001b[0m\u001b[2m80 \u001b[0m\u001b[2m \u001b[0m│ decoder.graph_label.layers.layers.2         │ Linear       │  541 K │ train │\u001b[37m \u001b[0m\u001b[37m  [32, 1056]\u001b[0m\u001b[37m \u001b[0m│\u001b[37m \u001b[0m\u001b[37m   [32, 512]\u001b[0m\u001b[37m \u001b[0m│\n",
       "│\u001b[2m \u001b[0m\u001b[2m81 \u001b[0m\u001b[2m \u001b[0m│ decoder.graph_label.layers.layers.3         │ Linear       │  1.9 M │ train │\u001b[37m \u001b[0m\u001b[37m  [32, 1568]\u001b[0m\u001b[37m \u001b[0m│\u001b[37m \u001b[0m\u001b[37m  [32, 1195]\u001b[0m\u001b[37m \u001b[0m│\n",
       "│\u001b[2m \u001b[0m\u001b[2m82 \u001b[0m\u001b[2m \u001b[0m│ decoder.graph_label.layers.activations      │ ModuleList   │      0 │ train │\u001b[37m \u001b[0m\u001b[37m           ?\u001b[0m\u001b[37m \u001b[0m│\u001b[37m \u001b[0m\u001b[37m           ?\u001b[0m\u001b[37m \u001b[0m│\n",
       "│\u001b[2m \u001b[0m\u001b[2m83 \u001b[0m\u001b[2m \u001b[0m│ decoder.graph_label.layers.activations.0    │ ReLU         │      0 │ train │\u001b[37m \u001b[0m\u001b[37m   [32, 512]\u001b[0m\u001b[37m \u001b[0m│\u001b[37m \u001b[0m\u001b[37m   [32, 512]\u001b[0m\u001b[37m \u001b[0m│\n",
       "│\u001b[2m \u001b[0m\u001b[2m84 \u001b[0m\u001b[2m \u001b[0m│ decoder.graph_label.layers.activations.1    │ ReLU         │      0 │ train │\u001b[37m \u001b[0m\u001b[37m   [32, 512]\u001b[0m\u001b[37m \u001b[0m│\u001b[37m \u001b[0m\u001b[37m   [32, 512]\u001b[0m\u001b[37m \u001b[0m│\n",
       "│\u001b[2m \u001b[0m\u001b[2m85 \u001b[0m\u001b[2m \u001b[0m│ decoder.graph_label.layers.activations.2    │ ReLU         │      0 │ train │\u001b[37m \u001b[0m\u001b[37m   [32, 512]\u001b[0m\u001b[37m \u001b[0m│\u001b[37m \u001b[0m\u001b[37m   [32, 512]\u001b[0m\u001b[37m \u001b[0m│\n",
       "│\u001b[2m \u001b[0m\u001b[2m86 \u001b[0m\u001b[2m \u001b[0m│ decoder.graph_label.layers.activations.3    │ Identity     │      0 │ train │\u001b[37m \u001b[0m\u001b[37m  [32, 1195]\u001b[0m\u001b[37m \u001b[0m│\u001b[37m \u001b[0m\u001b[37m  [32, 1195]\u001b[0m\u001b[37m \u001b[0m│\n",
       "│\u001b[2m \u001b[0m\u001b[2m87 \u001b[0m\u001b[2m \u001b[0m│ decoder.graph_label.layers.dropout_layers   │ ModuleList   │      0 │ train │\u001b[37m \u001b[0m\u001b[37m           ?\u001b[0m\u001b[37m \u001b[0m│\u001b[37m \u001b[0m\u001b[37m           ?\u001b[0m\u001b[37m \u001b[0m│\n",
       "│\u001b[2m \u001b[0m\u001b[2m88 \u001b[0m\u001b[2m \u001b[0m│ decoder.graph_label.layers.dropout_layers.0 │ Dropout      │      0 │ train │\u001b[37m \u001b[0m\u001b[37m   [32, 512]\u001b[0m\u001b[37m \u001b[0m│\u001b[37m \u001b[0m\u001b[37m   [32, 512]\u001b[0m\u001b[37m \u001b[0m│\n",
       "│\u001b[2m \u001b[0m\u001b[2m89 \u001b[0m\u001b[2m \u001b[0m│ decoder.graph_label.layers.dropout_layers.1 │ Dropout      │      0 │ train │\u001b[37m \u001b[0m\u001b[37m   [32, 512]\u001b[0m\u001b[37m \u001b[0m│\u001b[37m \u001b[0m\u001b[37m   [32, 512]\u001b[0m\u001b[37m \u001b[0m│\n",
       "│\u001b[2m \u001b[0m\u001b[2m90 \u001b[0m\u001b[2m \u001b[0m│ decoder.graph_label.layers.dropout_layers.2 │ Dropout      │      0 │ train │\u001b[37m \u001b[0m\u001b[37m   [32, 512]\u001b[0m\u001b[37m \u001b[0m│\u001b[37m \u001b[0m\u001b[37m   [32, 512]\u001b[0m\u001b[37m \u001b[0m│\n",
       "│\u001b[2m \u001b[0m\u001b[2m91 \u001b[0m\u001b[2m \u001b[0m│ test_graph_label_accuracy                   │ MulticlassA… │      0 │ train │\u001b[37m \u001b[0m\u001b[37m           ?\u001b[0m\u001b[37m \u001b[0m│\u001b[37m \u001b[0m\u001b[37m           ?\u001b[0m\u001b[37m \u001b[0m│\n",
       "│\u001b[2m \u001b[0m\u001b[2m92 \u001b[0m\u001b[2m \u001b[0m│ val_graph_label_accuracy                    │ MulticlassA… │      0 │ train │\u001b[37m \u001b[0m\u001b[37m           ?\u001b[0m\u001b[37m \u001b[0m│\u001b[37m \u001b[0m\u001b[37m           ?\u001b[0m\u001b[37m \u001b[0m│\n",
       "│\u001b[2m \u001b[0m\u001b[2m93 \u001b[0m\u001b[2m \u001b[0m│ train_graph_label_accuracy                  │ MulticlassA… │      0 │ train │\u001b[37m \u001b[0m\u001b[37m           ?\u001b[0m\u001b[37m \u001b[0m│\u001b[37m \u001b[0m\u001b[37m           ?\u001b[0m\u001b[37m \u001b[0m│\n",
       "│\u001b[2m \u001b[0m\u001b[2m94 \u001b[0m\u001b[2m \u001b[0m│ test_graph_label_f1_score                   │ MulticlassF… │      0 │ train │\u001b[37m \u001b[0m\u001b[37m           ?\u001b[0m\u001b[37m \u001b[0m│\u001b[37m \u001b[0m\u001b[37m           ?\u001b[0m\u001b[37m \u001b[0m│\n",
       "│\u001b[2m \u001b[0m\u001b[2m95 \u001b[0m\u001b[2m \u001b[0m│ val_graph_label_f1_score                    │ MulticlassF… │      0 │ train │\u001b[37m \u001b[0m\u001b[37m           ?\u001b[0m\u001b[37m \u001b[0m│\u001b[37m \u001b[0m\u001b[37m           ?\u001b[0m\u001b[37m \u001b[0m│\n",
       "│\u001b[2m \u001b[0m\u001b[2m96 \u001b[0m\u001b[2m \u001b[0m│ train_graph_label_f1_score                  │ MulticlassF… │      0 │ train │\u001b[37m \u001b[0m\u001b[37m           ?\u001b[0m\u001b[37m \u001b[0m│\u001b[37m \u001b[0m\u001b[37m           ?\u001b[0m\u001b[37m \u001b[0m│\n",
       "│\u001b[2m \u001b[0m\u001b[2m97 \u001b[0m\u001b[2m \u001b[0m│ test_graph_label_f1_max                     │ F1Max        │      0 │ train │\u001b[37m \u001b[0m\u001b[37m           ?\u001b[0m\u001b[37m \u001b[0m│\u001b[37m \u001b[0m\u001b[37m           ?\u001b[0m\u001b[37m \u001b[0m│\n",
       "│\u001b[2m \u001b[0m\u001b[2m98 \u001b[0m\u001b[2m \u001b[0m│ val_graph_label_f1_max                      │ F1Max        │      0 │ train │\u001b[37m \u001b[0m\u001b[37m           ?\u001b[0m\u001b[37m \u001b[0m│\u001b[37m \u001b[0m\u001b[37m           ?\u001b[0m\u001b[37m \u001b[0m│\n",
       "│\u001b[2m \u001b[0m\u001b[2m99 \u001b[0m\u001b[2m \u001b[0m│ train_graph_label_f1_max                    │ F1Max        │      0 │ train │\u001b[37m \u001b[0m\u001b[37m           ?\u001b[0m\u001b[37m \u001b[0m│\u001b[37m \u001b[0m\u001b[37m           ?\u001b[0m\u001b[37m \u001b[0m│\n",
       "│\u001b[2m \u001b[0m\u001b[2m100\u001b[0m\u001b[2m \u001b[0m│ featuriser                                  │ ProteinFeat… │      0 │ train │\u001b[37m \u001b[0m\u001b[37m           ?\u001b[0m\u001b[37m \u001b[0m│\u001b[37m \u001b[0m\u001b[37m           ?\u001b[0m\u001b[37m \u001b[0m│\n",
       "│\u001b[2m \u001b[0m\u001b[2m101\u001b[0m\u001b[2m \u001b[0m│ featuriser.positional_encoding              │ PositionalE… │      0 │ train │\u001b[37m \u001b[0m\u001b[37m  [11442, 1]\u001b[0m\u001b[37m \u001b[0m│\u001b[37m \u001b[0m\u001b[37m [11442, 16]\u001b[0m\u001b[37m \u001b[0m│\n",
       "└─────┴─────────────────────────────────────────────┴──────────────┴────────┴───────┴──────────────┴──────────────┘\n"
      ]
     },
     "metadata": {},
     "output_type": "display_data"
    },
    {
     "data": {
      "text/html": [
       "<pre style=\"white-space:pre;overflow-x:auto;line-height:normal;font-family:Menlo,'DejaVu Sans Mono',consolas,'Courier New',monospace\"><span style=\"font-weight: bold\">Trainable params</span>: 5.4 M                                                                                            \n",
       "<span style=\"font-weight: bold\">Non-trainable params</span>: 0                                                                                            \n",
       "<span style=\"font-weight: bold\">Total params</span>: 5.4 M                                                                                                \n",
       "<span style=\"font-weight: bold\">Total estimated model params size (MB)</span>: 21                                                                         \n",
       "</pre>\n"
      ],
      "text/plain": [
       "\u001b[1mTrainable params\u001b[0m: 5.4 M                                                                                            \n",
       "\u001b[1mNon-trainable params\u001b[0m: 0                                                                                            \n",
       "\u001b[1mTotal params\u001b[0m: 5.4 M                                                                                                \n",
       "\u001b[1mTotal estimated model params size (MB)\u001b[0m: 21                                                                         \n"
      ]
     },
     "metadata": {},
     "output_type": "display_data"
    },
    {
     "data": {
      "application/vnd.jupyter.widget-view+json": {
       "model_id": "a5982171433d4fbcabeaaba2289de993",
       "version_major": 2,
       "version_minor": 0
      },
      "text/plain": [
       "Output()"
      ]
     },
     "metadata": {},
     "output_type": "display_data"
    },
    {
     "data": {
      "text/html": [
       "<pre style=\"white-space:pre;overflow-x:auto;line-height:normal;font-family:Menlo,'DejaVu Sans Mono',consolas,'Courier New',monospace\">/home/zhang/miniconda3/envs/3d/lib/python3.10/site-packages/lightning/pytorch/utilities/data.py:78: UserWarning:\n",
       "\n",
       "Trying to infer the `batch_size` from an ambiguous collection. The batch size we found is 7747. To avoid any \n",
       "miscalculations, use `self.log(..., batch_size=batch_size)`.\n",
       "\n",
       "</pre>\n"
      ],
      "text/plain": [
       "/home/zhang/miniconda3/envs/3d/lib/python3.10/site-packages/lightning/pytorch/utilities/data.py:78: UserWarning:\n",
       "\n",
       "Trying to infer the `batch_size` from an ambiguous collection. The batch size we found is 7747. To avoid any \n",
       "miscalculations, use `self.log(..., batch_size=batch_size)`.\n",
       "\n"
      ]
     },
     "metadata": {},
     "output_type": "display_data"
    },
    {
     "data": {
      "text/html": [
       "<pre style=\"white-space:pre;overflow-x:auto;line-height:normal;font-family:Menlo,'DejaVu Sans Mono',consolas,'Courier New',monospace\">/home/zhang/miniconda3/envs/3d/lib/python3.10/site-packages/lightning/pytorch/utilities/data.py:78: UserWarning:\n",
       "\n",
       "Trying to infer the `batch_size` from an ambiguous collection. The batch size we found is 3294. To avoid any \n",
       "miscalculations, use `self.log(..., batch_size=batch_size)`.\n",
       "\n",
       "</pre>\n"
      ],
      "text/plain": [
       "/home/zhang/miniconda3/envs/3d/lib/python3.10/site-packages/lightning/pytorch/utilities/data.py:78: UserWarning:\n",
       "\n",
       "Trying to infer the `batch_size` from an ambiguous collection. The batch size we found is 3294. To avoid any \n",
       "miscalculations, use `self.log(..., batch_size=batch_size)`.\n",
       "\n"
      ]
     },
     "metadata": {},
     "output_type": "display_data"
    },
    {
     "data": {
      "text/html": [
       "<pre style=\"white-space:pre;overflow-x:auto;line-height:normal;font-family:Menlo,'DejaVu Sans Mono',consolas,'Courier New',monospace\">/home/zhang/miniconda3/envs/3d/lib/python3.10/site-packages/lightning/pytorch/utilities/data.py:78: UserWarning:\n",
       "\n",
       "Trying to infer the `batch_size` from an ambiguous collection. The batch size we found is 3653. To avoid any \n",
       "miscalculations, use `self.log(..., batch_size=batch_size)`.\n",
       "\n",
       "</pre>\n"
      ],
      "text/plain": [
       "/home/zhang/miniconda3/envs/3d/lib/python3.10/site-packages/lightning/pytorch/utilities/data.py:78: UserWarning:\n",
       "\n",
       "Trying to infer the `batch_size` from an ambiguous collection. The batch size we found is 3653. To avoid any \n",
       "miscalculations, use `self.log(..., batch_size=batch_size)`.\n",
       "\n"
      ]
     },
     "metadata": {},
     "output_type": "display_data"
    },
    {
     "data": {
      "text/html": [
       "<pre style=\"white-space:pre;overflow-x:auto;line-height:normal;font-family:Menlo,'DejaVu Sans Mono',consolas,'Courier New',monospace\">/home/zhang/miniconda3/envs/3d/lib/python3.10/site-packages/lightning/pytorch/utilities/data.py:78: UserWarning:\n",
       "\n",
       "Trying to infer the `batch_size` from an ambiguous collection. The batch size we found is 3318. To avoid any \n",
       "miscalculations, use `self.log(..., batch_size=batch_size)`.\n",
       "\n",
       "</pre>\n"
      ],
      "text/plain": [
       "/home/zhang/miniconda3/envs/3d/lib/python3.10/site-packages/lightning/pytorch/utilities/data.py:78: UserWarning:\n",
       "\n",
       "Trying to infer the `batch_size` from an ambiguous collection. The batch size we found is 3318. To avoid any \n",
       "miscalculations, use `self.log(..., batch_size=batch_size)`.\n",
       "\n"
      ]
     },
     "metadata": {},
     "output_type": "display_data"
    },
    {
     "data": {
      "text/html": [
       "<pre style=\"white-space:pre;overflow-x:auto;line-height:normal;font-family:Menlo,'DejaVu Sans Mono',consolas,'Courier New',monospace\">/home/zhang/miniconda3/envs/3d/lib/python3.10/site-packages/lightning/pytorch/utilities/data.py:78: UserWarning:\n",
       "\n",
       "Trying to infer the `batch_size` from an ambiguous collection. The batch size we found is 4735. To avoid any \n",
       "miscalculations, use `self.log(..., batch_size=batch_size)`.\n",
       "\n",
       "</pre>\n"
      ],
      "text/plain": [
       "/home/zhang/miniconda3/envs/3d/lib/python3.10/site-packages/lightning/pytorch/utilities/data.py:78: UserWarning:\n",
       "\n",
       "Trying to infer the `batch_size` from an ambiguous collection. The batch size we found is 4735. To avoid any \n",
       "miscalculations, use `self.log(..., batch_size=batch_size)`.\n",
       "\n"
      ]
     },
     "metadata": {},
     "output_type": "display_data"
    },
    {
     "data": {
      "text/html": [
       "<pre style=\"white-space:pre;overflow-x:auto;line-height:normal;font-family:Menlo,'DejaVu Sans Mono',consolas,'Courier New',monospace\">/home/zhang/miniconda3/envs/3d/lib/python3.10/site-packages/lightning/pytorch/utilities/data.py:78: UserWarning:\n",
       "\n",
       "Trying to infer the `batch_size` from an ambiguous collection. The batch size we found is 5111. To avoid any \n",
       "miscalculations, use `self.log(..., batch_size=batch_size)`.\n",
       "\n",
       "</pre>\n"
      ],
      "text/plain": [
       "/home/zhang/miniconda3/envs/3d/lib/python3.10/site-packages/lightning/pytorch/utilities/data.py:78: UserWarning:\n",
       "\n",
       "Trying to infer the `batch_size` from an ambiguous collection. The batch size we found is 5111. To avoid any \n",
       "miscalculations, use `self.log(..., batch_size=batch_size)`.\n",
       "\n"
      ]
     },
     "metadata": {},
     "output_type": "display_data"
    },
    {
     "data": {
      "text/html": [
       "<pre style=\"white-space:pre;overflow-x:auto;line-height:normal;font-family:Menlo,'DejaVu Sans Mono',consolas,'Courier New',monospace\">/home/zhang/miniconda3/envs/3d/lib/python3.10/site-packages/lightning/pytorch/utilities/data.py:78: UserWarning:\n",
       "\n",
       "Trying to infer the `batch_size` from an ambiguous collection. The batch size we found is 5273. To avoid any \n",
       "miscalculations, use `self.log(..., batch_size=batch_size)`.\n",
       "\n",
       "</pre>\n"
      ],
      "text/plain": [
       "/home/zhang/miniconda3/envs/3d/lib/python3.10/site-packages/lightning/pytorch/utilities/data.py:78: UserWarning:\n",
       "\n",
       "Trying to infer the `batch_size` from an ambiguous collection. The batch size we found is 5273. To avoid any \n",
       "miscalculations, use `self.log(..., batch_size=batch_size)`.\n",
       "\n"
      ]
     },
     "metadata": {},
     "output_type": "display_data"
    },
    {
     "data": {
      "text/html": [
       "<pre style=\"white-space:pre;overflow-x:auto;line-height:normal;font-family:Menlo,'DejaVu Sans Mono',consolas,'Courier New',monospace\">/home/zhang/miniconda3/envs/3d/lib/python3.10/site-packages/lightning/pytorch/utilities/data.py:78: UserWarning:\n",
       "\n",
       "Trying to infer the `batch_size` from an ambiguous collection. The batch size we found is 4600. To avoid any \n",
       "miscalculations, use `self.log(..., batch_size=batch_size)`.\n",
       "\n",
       "</pre>\n"
      ],
      "text/plain": [
       "/home/zhang/miniconda3/envs/3d/lib/python3.10/site-packages/lightning/pytorch/utilities/data.py:78: UserWarning:\n",
       "\n",
       "Trying to infer the `batch_size` from an ambiguous collection. The batch size we found is 4600. To avoid any \n",
       "miscalculations, use `self.log(..., batch_size=batch_size)`.\n",
       "\n"
      ]
     },
     "metadata": {},
     "output_type": "display_data"
    },
    {
     "data": {
      "text/html": [
       "<pre style=\"white-space:pre;overflow-x:auto;line-height:normal;font-family:Menlo,'DejaVu Sans Mono',consolas,'Courier New',monospace\">/home/zhang/miniconda3/envs/3d/lib/python3.10/site-packages/lightning/pytorch/utilities/data.py:78: UserWarning:\n",
       "\n",
       "Trying to infer the `batch_size` from an ambiguous collection. The batch size we found is 6333. To avoid any \n",
       "miscalculations, use `self.log(..., batch_size=batch_size)`.\n",
       "\n",
       "</pre>\n"
      ],
      "text/plain": [
       "/home/zhang/miniconda3/envs/3d/lib/python3.10/site-packages/lightning/pytorch/utilities/data.py:78: UserWarning:\n",
       "\n",
       "Trying to infer the `batch_size` from an ambiguous collection. The batch size we found is 6333. To avoid any \n",
       "miscalculations, use `self.log(..., batch_size=batch_size)`.\n",
       "\n"
      ]
     },
     "metadata": {},
     "output_type": "display_data"
    },
    {
     "data": {
      "text/html": [
       "<pre style=\"white-space:pre;overflow-x:auto;line-height:normal;font-family:Menlo,'DejaVu Sans Mono',consolas,'Courier New',monospace\">/home/zhang/miniconda3/envs/3d/lib/python3.10/site-packages/lightning/pytorch/utilities/data.py:78: UserWarning:\n",
       "\n",
       "Trying to infer the `batch_size` from an ambiguous collection. The batch size we found is 5666. To avoid any \n",
       "miscalculations, use `self.log(..., batch_size=batch_size)`.\n",
       "\n",
       "</pre>\n"
      ],
      "text/plain": [
       "/home/zhang/miniconda3/envs/3d/lib/python3.10/site-packages/lightning/pytorch/utilities/data.py:78: UserWarning:\n",
       "\n",
       "Trying to infer the `batch_size` from an ambiguous collection. The batch size we found is 5666. To avoid any \n",
       "miscalculations, use `self.log(..., batch_size=batch_size)`.\n",
       "\n"
      ]
     },
     "metadata": {},
     "output_type": "display_data"
    },
    {
     "data": {
      "text/html": [
       "<pre style=\"white-space:pre;overflow-x:auto;line-height:normal;font-family:Menlo,'DejaVu Sans Mono',consolas,'Courier New',monospace\">/home/zhang/miniconda3/envs/3d/lib/python3.10/site-packages/lightning/pytorch/utilities/data.py:78: UserWarning:\n",
       "\n",
       "Trying to infer the `batch_size` from an ambiguous collection. The batch size we found is 7748. To avoid any \n",
       "miscalculations, use `self.log(..., batch_size=batch_size)`.\n",
       "\n",
       "</pre>\n"
      ],
      "text/plain": [
       "/home/zhang/miniconda3/envs/3d/lib/python3.10/site-packages/lightning/pytorch/utilities/data.py:78: UserWarning:\n",
       "\n",
       "Trying to infer the `batch_size` from an ambiguous collection. The batch size we found is 7748. To avoid any \n",
       "miscalculations, use `self.log(..., batch_size=batch_size)`.\n",
       "\n"
      ]
     },
     "metadata": {},
     "output_type": "display_data"
    },
    {
     "data": {
      "text/html": [
       "<pre style=\"white-space:pre;overflow-x:auto;line-height:normal;font-family:Menlo,'DejaVu Sans Mono',consolas,'Courier New',monospace\">/home/zhang/miniconda3/envs/3d/lib/python3.10/site-packages/lightning/pytorch/utilities/data.py:78: UserWarning:\n",
       "\n",
       "Trying to infer the `batch_size` from an ambiguous collection. The batch size we found is 5948. To avoid any \n",
       "miscalculations, use `self.log(..., batch_size=batch_size)`.\n",
       "\n",
       "</pre>\n"
      ],
      "text/plain": [
       "/home/zhang/miniconda3/envs/3d/lib/python3.10/site-packages/lightning/pytorch/utilities/data.py:78: UserWarning:\n",
       "\n",
       "Trying to infer the `batch_size` from an ambiguous collection. The batch size we found is 5948. To avoid any \n",
       "miscalculations, use `self.log(..., batch_size=batch_size)`.\n",
       "\n"
      ]
     },
     "metadata": {},
     "output_type": "display_data"
    },
    {
     "data": {
      "text/html": [
       "<pre style=\"white-space:pre;overflow-x:auto;line-height:normal;font-family:Menlo,'DejaVu Sans Mono',consolas,'Courier New',monospace\">/home/zhang/miniconda3/envs/3d/lib/python3.10/site-packages/lightning/pytorch/utilities/data.py:78: UserWarning:\n",
       "\n",
       "Trying to infer the `batch_size` from an ambiguous collection. The batch size we found is 6651. To avoid any \n",
       "miscalculations, use `self.log(..., batch_size=batch_size)`.\n",
       "\n",
       "</pre>\n"
      ],
      "text/plain": [
       "/home/zhang/miniconda3/envs/3d/lib/python3.10/site-packages/lightning/pytorch/utilities/data.py:78: UserWarning:\n",
       "\n",
       "Trying to infer the `batch_size` from an ambiguous collection. The batch size we found is 6651. To avoid any \n",
       "miscalculations, use `self.log(..., batch_size=batch_size)`.\n",
       "\n"
      ]
     },
     "metadata": {},
     "output_type": "display_data"
    },
    {
     "data": {
      "text/html": [
       "<pre style=\"white-space:pre;overflow-x:auto;line-height:normal;font-family:Menlo,'DejaVu Sans Mono',consolas,'Courier New',monospace\">/home/zhang/miniconda3/envs/3d/lib/python3.10/site-packages/lightning/pytorch/utilities/data.py:78: UserWarning:\n",
       "\n",
       "Trying to infer the `batch_size` from an ambiguous collection. The batch size we found is 6680. To avoid any \n",
       "miscalculations, use `self.log(..., batch_size=batch_size)`.\n",
       "\n",
       "</pre>\n"
      ],
      "text/plain": [
       "/home/zhang/miniconda3/envs/3d/lib/python3.10/site-packages/lightning/pytorch/utilities/data.py:78: UserWarning:\n",
       "\n",
       "Trying to infer the `batch_size` from an ambiguous collection. The batch size we found is 6680. To avoid any \n",
       "miscalculations, use `self.log(..., batch_size=batch_size)`.\n",
       "\n"
      ]
     },
     "metadata": {},
     "output_type": "display_data"
    },
    {
     "data": {
      "text/html": [
       "<pre style=\"white-space:pre;overflow-x:auto;line-height:normal;font-family:Menlo,'DejaVu Sans Mono',consolas,'Courier New',monospace\">/home/zhang/miniconda3/envs/3d/lib/python3.10/site-packages/lightning/pytorch/utilities/data.py:78: UserWarning:\n",
       "\n",
       "Trying to infer the `batch_size` from an ambiguous collection. The batch size we found is 9395. To avoid any \n",
       "miscalculations, use `self.log(..., batch_size=batch_size)`.\n",
       "\n",
       "</pre>\n"
      ],
      "text/plain": [
       "/home/zhang/miniconda3/envs/3d/lib/python3.10/site-packages/lightning/pytorch/utilities/data.py:78: UserWarning:\n",
       "\n",
       "Trying to infer the `batch_size` from an ambiguous collection. The batch size we found is 9395. To avoid any \n",
       "miscalculations, use `self.log(..., batch_size=batch_size)`.\n",
       "\n"
      ]
     },
     "metadata": {},
     "output_type": "display_data"
    },
    {
     "data": {
      "text/html": [
       "<pre style=\"white-space:pre;overflow-x:auto;line-height:normal;font-family:Menlo,'DejaVu Sans Mono',consolas,'Courier New',monospace\">/home/zhang/miniconda3/envs/3d/lib/python3.10/site-packages/lightning/pytorch/utilities/data.py:78: UserWarning:\n",
       "\n",
       "Trying to infer the `batch_size` from an ambiguous collection. The batch size we found is 5048. To avoid any \n",
       "miscalculations, use `self.log(..., batch_size=batch_size)`.\n",
       "\n",
       "</pre>\n"
      ],
      "text/plain": [
       "/home/zhang/miniconda3/envs/3d/lib/python3.10/site-packages/lightning/pytorch/utilities/data.py:78: UserWarning:\n",
       "\n",
       "Trying to infer the `batch_size` from an ambiguous collection. The batch size we found is 5048. To avoid any \n",
       "miscalculations, use `self.log(..., batch_size=batch_size)`.\n",
       "\n"
      ]
     },
     "metadata": {},
     "output_type": "display_data"
    },
    {
     "data": {
      "text/html": [
       "<pre style=\"white-space:pre;overflow-x:auto;line-height:normal;font-family:Menlo,'DejaVu Sans Mono',consolas,'Courier New',monospace\">/home/zhang/miniconda3/envs/3d/lib/python3.10/site-packages/lightning/pytorch/utilities/data.py:78: UserWarning:\n",
       "\n",
       "Trying to infer the `batch_size` from an ambiguous collection. The batch size we found is 5921. To avoid any \n",
       "miscalculations, use `self.log(..., batch_size=batch_size)`.\n",
       "\n",
       "</pre>\n"
      ],
      "text/plain": [
       "/home/zhang/miniconda3/envs/3d/lib/python3.10/site-packages/lightning/pytorch/utilities/data.py:78: UserWarning:\n",
       "\n",
       "Trying to infer the `batch_size` from an ambiguous collection. The batch size we found is 5921. To avoid any \n",
       "miscalculations, use `self.log(..., batch_size=batch_size)`.\n",
       "\n"
      ]
     },
     "metadata": {},
     "output_type": "display_data"
    },
    {
     "data": {
      "text/html": [
       "<pre style=\"white-space:pre;overflow-x:auto;line-height:normal;font-family:Menlo,'DejaVu Sans Mono',consolas,'Courier New',monospace\">/home/zhang/miniconda3/envs/3d/lib/python3.10/site-packages/lightning/pytorch/utilities/data.py:78: UserWarning:\n",
       "\n",
       "Trying to infer the `batch_size` from an ambiguous collection. The batch size we found is 5500. To avoid any \n",
       "miscalculations, use `self.log(..., batch_size=batch_size)`.\n",
       "\n",
       "</pre>\n"
      ],
      "text/plain": [
       "/home/zhang/miniconda3/envs/3d/lib/python3.10/site-packages/lightning/pytorch/utilities/data.py:78: UserWarning:\n",
       "\n",
       "Trying to infer the `batch_size` from an ambiguous collection. The batch size we found is 5500. To avoid any \n",
       "miscalculations, use `self.log(..., batch_size=batch_size)`.\n",
       "\n"
      ]
     },
     "metadata": {},
     "output_type": "display_data"
    },
    {
     "data": {
      "text/html": [
       "<pre style=\"white-space:pre;overflow-x:auto;line-height:normal;font-family:Menlo,'DejaVu Sans Mono',consolas,'Courier New',monospace\">/home/zhang/miniconda3/envs/3d/lib/python3.10/site-packages/lightning/pytorch/utilities/data.py:78: UserWarning:\n",
       "\n",
       "Trying to infer the `batch_size` from an ambiguous collection. The batch size we found is 4186. To avoid any \n",
       "miscalculations, use `self.log(..., batch_size=batch_size)`.\n",
       "\n",
       "</pre>\n"
      ],
      "text/plain": [
       "/home/zhang/miniconda3/envs/3d/lib/python3.10/site-packages/lightning/pytorch/utilities/data.py:78: UserWarning:\n",
       "\n",
       "Trying to infer the `batch_size` from an ambiguous collection. The batch size we found is 4186. To avoid any \n",
       "miscalculations, use `self.log(..., batch_size=batch_size)`.\n",
       "\n"
      ]
     },
     "metadata": {},
     "output_type": "display_data"
    },
    {
     "data": {
      "text/html": [
       "<pre style=\"white-space:pre;overflow-x:auto;line-height:normal;font-family:Menlo,'DejaVu Sans Mono',consolas,'Courier New',monospace\">/home/zhang/miniconda3/envs/3d/lib/python3.10/site-packages/lightning/pytorch/utilities/data.py:78: UserWarning:\n",
       "\n",
       "Trying to infer the `batch_size` from an ambiguous collection. The batch size we found is 3942. To avoid any \n",
       "miscalculations, use `self.log(..., batch_size=batch_size)`.\n",
       "\n",
       "</pre>\n"
      ],
      "text/plain": [
       "/home/zhang/miniconda3/envs/3d/lib/python3.10/site-packages/lightning/pytorch/utilities/data.py:78: UserWarning:\n",
       "\n",
       "Trying to infer the `batch_size` from an ambiguous collection. The batch size we found is 3942. To avoid any \n",
       "miscalculations, use `self.log(..., batch_size=batch_size)`.\n",
       "\n"
      ]
     },
     "metadata": {},
     "output_type": "display_data"
    },
    {
     "data": {
      "text/html": [
       "<pre style=\"white-space:pre;overflow-x:auto;line-height:normal;font-family:Menlo,'DejaVu Sans Mono',consolas,'Courier New',monospace\">/home/zhang/miniconda3/envs/3d/lib/python3.10/site-packages/lightning/pytorch/utilities/data.py:78: UserWarning:\n",
       "\n",
       "Trying to infer the `batch_size` from an ambiguous collection. The batch size we found is 4805. To avoid any \n",
       "miscalculations, use `self.log(..., batch_size=batch_size)`.\n",
       "\n",
       "</pre>\n"
      ],
      "text/plain": [
       "/home/zhang/miniconda3/envs/3d/lib/python3.10/site-packages/lightning/pytorch/utilities/data.py:78: UserWarning:\n",
       "\n",
       "Trying to infer the `batch_size` from an ambiguous collection. The batch size we found is 4805. To avoid any \n",
       "miscalculations, use `self.log(..., batch_size=batch_size)`.\n",
       "\n"
      ]
     },
     "metadata": {},
     "output_type": "display_data"
    },
    {
     "data": {
      "text/html": [
       "<pre style=\"white-space:pre;overflow-x:auto;line-height:normal;font-family:Menlo,'DejaVu Sans Mono',consolas,'Courier New',monospace\">/home/zhang/miniconda3/envs/3d/lib/python3.10/site-packages/lightning/pytorch/utilities/data.py:78: UserWarning:\n",
       "\n",
       "Trying to infer the `batch_size` from an ambiguous collection. The batch size we found is 7231. To avoid any \n",
       "miscalculations, use `self.log(..., batch_size=batch_size)`.\n",
       "\n",
       "</pre>\n"
      ],
      "text/plain": [
       "/home/zhang/miniconda3/envs/3d/lib/python3.10/site-packages/lightning/pytorch/utilities/data.py:78: UserWarning:\n",
       "\n",
       "Trying to infer the `batch_size` from an ambiguous collection. The batch size we found is 7231. To avoid any \n",
       "miscalculations, use `self.log(..., batch_size=batch_size)`.\n",
       "\n"
      ]
     },
     "metadata": {},
     "output_type": "display_data"
    },
    {
     "data": {
      "text/html": [
       "<pre style=\"white-space:pre;overflow-x:auto;line-height:normal;font-family:Menlo,'DejaVu Sans Mono',consolas,'Courier New',monospace\">/home/zhang/miniconda3/envs/3d/lib/python3.10/site-packages/lightning/pytorch/utilities/data.py:78: UserWarning:\n",
       "\n",
       "Trying to infer the `batch_size` from an ambiguous collection. The batch size we found is 1617. To avoid any \n",
       "miscalculations, use `self.log(..., batch_size=batch_size)`.\n",
       "\n",
       "</pre>\n"
      ],
      "text/plain": [
       "/home/zhang/miniconda3/envs/3d/lib/python3.10/site-packages/lightning/pytorch/utilities/data.py:78: UserWarning:\n",
       "\n",
       "Trying to infer the `batch_size` from an ambiguous collection. The batch size we found is 1617. To avoid any \n",
       "miscalculations, use `self.log(..., batch_size=batch_size)`.\n",
       "\n"
      ]
     },
     "metadata": {},
     "output_type": "display_data"
    },
    {
     "name": "stderr",
     "output_type": "stream",
     "text": [
      "Metric val/graph_label/accuracy improved. New best score: 0.095\n",
      "Metric train/loss/total improved. New best score: 5.141\n",
      "Epoch 0, global step 385: 'val/graph_label/accuracy' reached 0.09518 (best 0.09518), saving model to '/home/zhang/Projects/3d/ProteinWorkshop/notebooks/outputs/checkpoints/epoch_000.ckpt' as top 1\n"
     ]
    },
    {
     "name": "stderr",
     "output_type": "stream",
     "text": [
      "Metric val/graph_label/accuracy improved by 0.050 >= min_delta = 0.0. New best score: 0.145\n",
      "Metric train/loss/total improved by 2.063 >= min_delta = 0.0. New best score: 3.078\n",
      "Epoch 1, global step 770: 'val/graph_label/accuracy' reached 0.14497 (best 0.14497), saving model to '/home/zhang/Projects/3d/ProteinWorkshop/notebooks/outputs/checkpoints/epoch_001.ckpt' as top 1\n"
     ]
    },
    {
     "name": "stderr",
     "output_type": "stream",
     "text": [
      "Metric val/graph_label/accuracy improved by 0.040 >= min_delta = 0.0. New best score: 0.185\n",
      "Metric train/loss/total improved by 0.242 >= min_delta = 0.0. New best score: 2.836\n",
      "Epoch 2, global step 1155: 'val/graph_label/accuracy' reached 0.18484 (best 0.18484), saving model to '/home/zhang/Projects/3d/ProteinWorkshop/notebooks/outputs/checkpoints/epoch_002.ckpt' as top 1\n"
     ]
    },
    {
     "name": "stderr",
     "output_type": "stream",
     "text": [
      "Metric val/graph_label/accuracy improved by 0.011 >= min_delta = 0.0. New best score: 0.196\n",
      "Metric train/loss/total improved by 1.035 >= min_delta = 0.0. New best score: 1.801\n",
      "Epoch 3, global step 1540: 'val/graph_label/accuracy' reached 0.19601 (best 0.19601), saving model to '/home/zhang/Projects/3d/ProteinWorkshop/notebooks/outputs/checkpoints/epoch_003.ckpt' as top 1\n"
     ]
    },
    {
     "name": "stderr",
     "output_type": "stream",
     "text": [
      "Metric val/graph_label/accuracy improved by 0.012 >= min_delta = 0.0. New best score: 0.208\n",
      "Metric train/loss/total improved by 0.207 >= min_delta = 0.0. New best score: 1.594\n",
      "Epoch 4, global step 1925: 'val/graph_label/accuracy' reached 0.20845 (best 0.20845), saving model to '/home/zhang/Projects/3d/ProteinWorkshop/notebooks/outputs/checkpoints/epoch_004.ckpt' as top 1\n"
     ]
    },
    {
     "name": "stderr",
     "output_type": "stream",
     "text": [
      "Metric val/graph_label/accuracy improved by 0.007 >= min_delta = 0.0. New best score: 0.215\n",
      "Metric train/loss/total improved by 0.338 >= min_delta = 0.0. New best score: 1.256\n",
      "Epoch 5, global step 2310: 'val/graph_label/accuracy' reached 0.21504 (best 0.21504), saving model to '/home/zhang/Projects/3d/ProteinWorkshop/notebooks/outputs/checkpoints/epoch_005.ckpt' as top 1\n"
     ]
    },
    {
     "name": "stderr",
     "output_type": "stream",
     "text": [
      "Metric val/graph_label/accuracy improved by 0.034 >= min_delta = 0.0. New best score: 0.249\n",
      "Metric train/loss/total improved by 0.490 >= min_delta = 0.0. New best score: 0.766\n",
      "Epoch 6, global step 2695: 'val/graph_label/accuracy' reached 0.24929 (best 0.24929), saving model to '/home/zhang/Projects/3d/ProteinWorkshop/notebooks/outputs/checkpoints/epoch_006.ckpt' as top 1\n"
     ]
    },
    {
     "name": "stderr",
     "output_type": "stream",
     "text": [
      "Epoch 7, global step 3080: 'val/graph_label/accuracy' was not in top 1\n"
     ]
    },
    {
     "data": {
      "text/html": [
       "<pre style=\"white-space:pre;overflow-x:auto;line-height:normal;font-family:Menlo,'DejaVu Sans Mono',consolas,'Courier New',monospace\">Epoch 00008: reducing learning rate of group 0 to 1.8000e-04.\n",
       "</pre>\n"
      ],
      "text/plain": [
       "Epoch 00008: reducing learning rate of group 0 to 1.8000e-04.\n"
      ]
     },
     "metadata": {},
     "output_type": "display_data"
    },
    {
     "name": "stderr",
     "output_type": "stream",
     "text": [
      "Metric val/graph_label/accuracy improved by 0.030 >= min_delta = 0.0. New best score: 0.279\n",
      "Metric train/loss/total improved by 0.494 >= min_delta = 0.0. New best score: 0.271\n",
      "Epoch 8, global step 3465: 'val/graph_label/accuracy' reached 0.27898 (best 0.27898), saving model to '/home/zhang/Projects/3d/ProteinWorkshop/notebooks/outputs/checkpoints/epoch_008.ckpt' as top 1\n"
     ]
    },
    {
     "name": "stderr",
     "output_type": "stream",
     "text": [
      "Metric val/graph_label/accuracy improved by 0.004 >= min_delta = 0.0. New best score: 0.283\n",
      "Metric train/loss/total improved by 0.117 >= min_delta = 0.0. New best score: 0.154\n",
      "Epoch 9, global step 3850: 'val/graph_label/accuracy' reached 0.28251 (best 0.28251), saving model to '/home/zhang/Projects/3d/ProteinWorkshop/notebooks/outputs/checkpoints/epoch_009.ckpt' as top 1\n"
     ]
    },
    {
     "name": "stderr",
     "output_type": "stream",
     "text": [
      "Metric val/graph_label/accuracy improved by 0.001 >= min_delta = 0.0. New best score: 0.284\n",
      "Metric train/loss/total improved by 0.126 >= min_delta = 0.0. New best score: 0.028\n",
      "Epoch 10, global step 4235: 'val/graph_label/accuracy' reached 0.28388 (best 0.28388), saving model to '/home/zhang/Projects/3d/ProteinWorkshop/notebooks/outputs/checkpoints/epoch_010.ckpt' as top 1\n"
     ]
    },
    {
     "name": "stderr",
     "output_type": "stream",
     "text": [
      "Metric val/graph_label/accuracy improved by 0.000 >= min_delta = 0.0. New best score: 0.284\n",
      "Epoch 11, global step 4620: 'val/graph_label/accuracy' reached 0.28427 (best 0.28427), saving model to '/home/zhang/Projects/3d/ProteinWorkshop/notebooks/outputs/checkpoints/epoch_011.ckpt' as top 1\n"
     ]
    },
    {
     "name": "stderr",
     "output_type": "stream",
     "text": [
      "Metric val/graph_label/accuracy improved by 0.004 >= min_delta = 0.0. New best score: 0.288\n",
      "Epoch 12, global step 5005: 'val/graph_label/accuracy' reached 0.28837 (best 0.28837), saving model to '/home/zhang/Projects/3d/ProteinWorkshop/notebooks/outputs/checkpoints/epoch_012.ckpt' as top 1\n"
     ]
    },
    {
     "name": "stderr",
     "output_type": "stream",
     "text": [
      "Epoch 13, global step 5390: 'val/graph_label/accuracy' was not in top 1\n"
     ]
    },
    {
     "data": {
      "text/html": [
       "<pre style=\"white-space:pre;overflow-x:auto;line-height:normal;font-family:Menlo,'DejaVu Sans Mono',consolas,'Courier New',monospace\">Epoch 00014: reducing learning rate of group 0 to 1.0800e-04.\n",
       "</pre>\n"
      ],
      "text/plain": [
       "Epoch 00014: reducing learning rate of group 0 to 1.0800e-04.\n"
      ]
     },
     "metadata": {},
     "output_type": "display_data"
    },
    {
     "name": "stderr",
     "output_type": "stream",
     "text": [
      "Metric val/graph_label/accuracy improved by 0.007 >= min_delta = 0.0. New best score: 0.296\n",
      "Epoch 14, global step 5775: 'val/graph_label/accuracy' reached 0.29564 (best 0.29564), saving model to '/home/zhang/Projects/3d/ProteinWorkshop/notebooks/outputs/checkpoints/epoch_014.ckpt' as top 1\n"
     ]
    },
    {
     "name": "stderr",
     "output_type": "stream",
     "text": [
      "Metric val/graph_label/accuracy improved by 0.010 >= min_delta = 0.0. New best score: 0.305\n",
      "Metric train/loss/total improved by 0.026 >= min_delta = 0.0. New best score: 0.003\n",
      "Epoch 15, global step 6160: 'val/graph_label/accuracy' reached 0.30548 (best 0.30548), saving model to '/home/zhang/Projects/3d/ProteinWorkshop/notebooks/outputs/checkpoints/epoch_015.ckpt' as top 1\n"
     ]
    },
    {
     "name": "stderr",
     "output_type": "stream",
     "text": [
      "Metric val/graph_label/accuracy improved by 0.005 >= min_delta = 0.0. New best score: 0.311\n",
      "Epoch 16, global step 6545: 'val/graph_label/accuracy' reached 0.31072 (best 0.31072), saving model to '/home/zhang/Projects/3d/ProteinWorkshop/notebooks/outputs/checkpoints/epoch_016.ckpt' as top 1\n"
     ]
    },
    {
     "name": "stderr",
     "output_type": "stream",
     "text": [
      "Metric val/graph_label/accuracy improved by 0.002 >= min_delta = 0.0. New best score: 0.313\n",
      "Epoch 17, global step 6930: 'val/graph_label/accuracy' reached 0.31256 (best 0.31256), saving model to '/home/zhang/Projects/3d/ProteinWorkshop/notebooks/outputs/checkpoints/epoch_017.ckpt' as top 1\n"
     ]
    },
    {
     "name": "stderr",
     "output_type": "stream",
     "text": [
      "Metric val/graph_label/accuracy improved by 0.000 >= min_delta = 0.0. New best score: 0.313\n",
      "Epoch 18, global step 7315: 'val/graph_label/accuracy' reached 0.31305 (best 0.31305), saving model to '/home/zhang/Projects/3d/ProteinWorkshop/notebooks/outputs/checkpoints/epoch_018.ckpt' as top 1\n"
     ]
    },
    {
     "name": "stderr",
     "output_type": "stream",
     "text": [
      "Epoch 19, global step 7700: 'val/graph_label/accuracy' was not in top 1\n"
     ]
    },
    {
     "data": {
      "text/html": [
       "<pre style=\"white-space:pre;overflow-x:auto;line-height:normal;font-family:Menlo,'DejaVu Sans Mono',consolas,'Courier New',monospace\">Epoch 00020: reducing learning rate of group 0 to 6.4800e-05.\n",
       "</pre>\n"
      ],
      "text/plain": [
       "Epoch 00020: reducing learning rate of group 0 to 6.4800e-05.\n"
      ]
     },
     "metadata": {},
     "output_type": "display_data"
    },
    {
     "name": "stderr",
     "output_type": "stream",
     "text": [
      "Epoch 20, global step 8085: 'val/graph_label/accuracy' was not in top 1\n"
     ]
    },
    {
     "name": "stderr",
     "output_type": "stream",
     "text": [
      "Metric val/graph_label/accuracy improved by 0.007 >= min_delta = 0.0. New best score: 0.320\n",
      "Metric train/loss/total improved by 0.000 >= min_delta = 0.0. New best score: 0.002\n",
      "Epoch 21, global step 8470: 'val/graph_label/accuracy' reached 0.32026 (best 0.32026), saving model to '/home/zhang/Projects/3d/ProteinWorkshop/notebooks/outputs/checkpoints/epoch_021.ckpt' as top 1\n"
     ]
    },
    {
     "name": "stderr",
     "output_type": "stream",
     "text": [
      "Metric val/graph_label/accuracy improved by 0.001 >= min_delta = 0.0. New best score: 0.322\n",
      "Metric train/loss/total improved by 0.002 >= min_delta = 0.0. New best score: 0.000\n",
      "Epoch 22, global step 8855: 'val/graph_label/accuracy' reached 0.32170 (best 0.32170), saving model to '/home/zhang/Projects/3d/ProteinWorkshop/notebooks/outputs/checkpoints/epoch_022.ckpt' as top 1\n"
     ]
    },
    {
     "name": "stderr",
     "output_type": "stream",
     "text": [
      "Epoch 23, global step 9240: 'val/graph_label/accuracy' was not in top 1\n"
     ]
    },
    {
     "name": "stderr",
     "output_type": "stream",
     "text": [
      "Metric val/graph_label/accuracy improved by 0.001 >= min_delta = 0.0. New best score: 0.322\n",
      "Metric train/loss/total improved by 0.000 >= min_delta = 0.0. New best score: 0.000\n",
      "Epoch 24, global step 9625: 'val/graph_label/accuracy' reached 0.32233 (best 0.32233), saving model to '/home/zhang/Projects/3d/ProteinWorkshop/notebooks/outputs/checkpoints/epoch_024.ckpt' as top 1\n"
     ]
    },
    {
     "name": "stderr",
     "output_type": "stream",
     "text": [
      "Epoch 25, global step 10010: 'val/graph_label/accuracy' was not in top 1\n"
     ]
    },
    {
     "data": {
      "text/html": [
       "<pre style=\"white-space:pre;overflow-x:auto;line-height:normal;font-family:Menlo,'DejaVu Sans Mono',consolas,'Courier New',monospace\">Epoch 00026: reducing learning rate of group 0 to 3.8880e-05.\n",
       "</pre>\n"
      ],
      "text/plain": [
       "Epoch 00026: reducing learning rate of group 0 to 3.8880e-05.\n"
      ]
     },
     "metadata": {},
     "output_type": "display_data"
    },
    {
     "name": "stderr",
     "output_type": "stream",
     "text": [
      "Metric val/graph_label/accuracy improved by 0.003 >= min_delta = 0.0. New best score: 0.325\n",
      "Epoch 26, global step 10395: 'val/graph_label/accuracy' reached 0.32513 (best 0.32513), saving model to '/home/zhang/Projects/3d/ProteinWorkshop/notebooks/outputs/checkpoints/epoch_026.ckpt' as top 1\n"
     ]
    },
    {
     "name": "stderr",
     "output_type": "stream",
     "text": [
      "Metric train/loss/total improved by 0.000 >= min_delta = 0.0. New best score: 0.000\n",
      "Epoch 27, global step 10780: 'val/graph_label/accuracy' was not in top 1\n"
     ]
    },
    {
     "name": "stderr",
     "output_type": "stream",
     "text": [
      "Epoch 28, global step 11165: 'val/graph_label/accuracy' was not in top 1\n"
     ]
    },
    {
     "name": "stderr",
     "output_type": "stream",
     "text": [
      "Metric val/graph_label/accuracy improved by 0.000 >= min_delta = 0.0. New best score: 0.325\n",
      "Epoch 29, global step 11550: 'val/graph_label/accuracy' reached 0.32525 (best 0.32525), saving model to '/home/zhang/Projects/3d/ProteinWorkshop/notebooks/outputs/checkpoints/epoch_029.ckpt' as top 1\n"
     ]
    },
    {
     "name": "stderr",
     "output_type": "stream",
     "text": [
      "Metric val/graph_label/accuracy improved by 0.003 >= min_delta = 0.0. New best score: 0.329\n",
      "Epoch 30, global step 11935: 'val/graph_label/accuracy' reached 0.32856 (best 0.32856), saving model to '/home/zhang/Projects/3d/ProteinWorkshop/notebooks/outputs/checkpoints/epoch_030.ckpt' as top 1\n"
     ]
    },
    {
     "name": "stderr",
     "output_type": "stream",
     "text": [
      "Epoch 31, global step 12320: 'val/graph_label/accuracy' was not in top 1\n"
     ]
    },
    {
     "data": {
      "text/html": [
       "<pre style=\"white-space:pre;overflow-x:auto;line-height:normal;font-family:Menlo,'DejaVu Sans Mono',consolas,'Courier New',monospace\">Epoch 00032: reducing learning rate of group 0 to 2.3328e-05.\n",
       "</pre>\n"
      ],
      "text/plain": [
       "Epoch 00032: reducing learning rate of group 0 to 2.3328e-05.\n"
      ]
     },
     "metadata": {},
     "output_type": "display_data"
    },
    {
     "name": "stderr",
     "output_type": "stream",
     "text": [
      "Metric val/graph_label/accuracy improved by 0.005 >= min_delta = 0.0. New best score: 0.333\n",
      "Epoch 32, global step 12705: 'val/graph_label/accuracy' reached 0.33310 (best 0.33310), saving model to '/home/zhang/Projects/3d/ProteinWorkshop/notebooks/outputs/checkpoints/epoch_032.ckpt' as top 1\n"
     ]
    },
    {
     "name": "stderr",
     "output_type": "stream",
     "text": [
      "Epoch 33, global step 13090: 'val/graph_label/accuracy' was not in top 1\n"
     ]
    },
    {
     "name": "stderr",
     "output_type": "stream",
     "text": [
      "Epoch 34, global step 13475: 'val/graph_label/accuracy' was not in top 1\n"
     ]
    },
    {
     "name": "stderr",
     "output_type": "stream",
     "text": [
      "Epoch 35, global step 13860: 'val/graph_label/accuracy' was not in top 1\n"
     ]
    },
    {
     "name": "stderr",
     "output_type": "stream",
     "text": [
      "Epoch 36, global step 14245: 'val/graph_label/accuracy' was not in top 1\n"
     ]
    },
    {
     "name": "stderr",
     "output_type": "stream",
     "text": [
      "Epoch 37, global step 14630: 'val/graph_label/accuracy' was not in top 1\n"
     ]
    },
    {
     "data": {
      "text/html": [
       "<pre style=\"white-space:pre;overflow-x:auto;line-height:normal;font-family:Menlo,'DejaVu Sans Mono',consolas,'Courier New',monospace\">Epoch 00038: reducing learning rate of group 0 to 1.3997e-05.\n",
       "</pre>\n"
      ],
      "text/plain": [
       "Epoch 00038: reducing learning rate of group 0 to 1.3997e-05.\n"
      ]
     },
     "metadata": {},
     "output_type": "display_data"
    },
    {
     "name": "stderr",
     "output_type": "stream",
     "text": [
      "Epoch 38, global step 15015: 'val/graph_label/accuracy' was not in top 1\n"
     ]
    },
    {
     "name": "stderr",
     "output_type": "stream",
     "text": [
      "Metric train/loss/total improved by 0.000 >= min_delta = 0.0. New best score: 0.000\n",
      "Epoch 39, global step 15400: 'val/graph_label/accuracy' was not in top 1\n"
     ]
    },
    {
     "name": "stderr",
     "output_type": "stream",
     "text": [
      "Epoch 40, global step 15785: 'val/graph_label/accuracy' was not in top 1\n"
     ]
    },
    {
     "name": "stderr",
     "output_type": "stream",
     "text": [
      "Metric train/loss/total improved by 0.000 >= min_delta = 0.0. New best score: 0.000\n",
      "Epoch 41, global step 16170: 'val/graph_label/accuracy' was not in top 1\n"
     ]
    },
    {
     "name": "stderr",
     "output_type": "stream",
     "text": [
      "Monitored metric val/graph_label/accuracy did not improve in the last 10 records. Best score: 0.333. Signaling Trainer to stop.\n",
      "Epoch 42, global step 16555: 'val/graph_label/accuracy' was not in top 1\n"
     ]
    },
    {
     "data": {
      "text/html": [
       "<pre style=\"white-space:pre;overflow-x:auto;line-height:normal;font-family:Menlo,'DejaVu Sans Mono',consolas,'Courier New',monospace\"></pre>\n"
      ],
      "text/plain": []
     },
     "metadata": {},
     "output_type": "display_data"
    },
    {
     "data": {
      "text/html": [
       "<pre style=\"white-space:pre;overflow-x:auto;line-height:normal;font-family:Menlo,'DejaVu Sans Mono',consolas,'Courier New',monospace\">\n",
       "</pre>\n"
      ],
      "text/plain": [
       "\n"
      ]
     },
     "metadata": {},
     "output_type": "display_data"
    },
    {
     "data": {
      "text/html": [
       "<pre style=\"white-space:pre;overflow-x:auto;line-height:normal;font-family:Menlo,'DejaVu Sans Mono',consolas,'Courier New',monospace\"><span style=\"color: #7fbfbf; text-decoration-color: #7fbfbf\">[07/28/24 17:55:46] </span><span style=\"color: #000080; text-decoration-color: #000080\">INFO    </span> Starting testing!                                                         <a href=\"file:///home/zhang/Projects/3d/ProteinWorkshop/proteinworkshop/train.py\" target=\"_blank\"><span style=\"color: #7f7f7f; text-decoration-color: #7f7f7f\">train.py</span></a><span style=\"color: #7f7f7f; text-decoration-color: #7f7f7f\">:</span><a href=\"file:///home/zhang/Projects/3d/ProteinWorkshop/proteinworkshop/train.py#187\" target=\"_blank\"><span style=\"color: #7f7f7f; text-decoration-color: #7f7f7f\">187</span></a>\n",
       "</pre>\n"
      ],
      "text/plain": [
       "\u001b[2;36m[07/28/24 17:55:46]\u001b[0m\u001b[2;36m \u001b[0m\u001b[34mINFO    \u001b[0m Starting testing!                                                         \u001b]8;id=389658;file:///home/zhang/Projects/3d/ProteinWorkshop/proteinworkshop/train.py\u001b\\\u001b[2mtrain.py\u001b[0m\u001b]8;;\u001b\\\u001b[2m:\u001b[0m\u001b]8;id=115749;file:///home/zhang/Projects/3d/ProteinWorkshop/proteinworkshop/train.py#187\u001b\\\u001b[2m187\u001b[0m\u001b]8;;\u001b\\\n"
      ]
     },
     "metadata": {},
     "output_type": "display_data"
    },
    {
     "data": {
      "text/html": [
       "<pre style=\"white-space:pre;overflow-x:auto;line-height:normal;font-family:Menlo,'DejaVu Sans Mono',consolas,'Courier New',monospace\"><span style=\"color: #7fbfbf; text-decoration-color: #7fbfbf\">                    </span><span style=\"color: #000080; text-decoration-color: #000080\">INFO    </span> Reading labels from:                                        <a href=\"file:///home/zhang/Projects/3d/ProteinWorkshop/proteinworkshop/datasets/fold_classification.py\" target=\"_blank\"><span style=\"color: #7f7f7f; text-decoration-color: #7f7f7f\">fold_classification.py</span></a><span style=\"color: #7f7f7f; text-decoration-color: #7f7f7f\">:</span><a href=\"file:///home/zhang/Projects/3d/ProteinWorkshop/proteinworkshop/datasets/fold_classification.py#154\" target=\"_blank\"><span style=\"color: #7f7f7f; text-decoration-color: #7f7f7f\">154</span></a>\n",
       "<span style=\"color: #7fbfbf; text-decoration-color: #7fbfbf\">                    </span>         <span style=\"color: #800080; text-decoration-color: #800080\">/home/zhang/Projects/3d/ProteinWorkshop/proteinworkshop/dat</span> <span style=\"color: #7f7f7f; text-decoration-color: #7f7f7f\">                          </span>\n",
       "<span style=\"color: #7fbfbf; text-decoration-color: #7fbfbf\">                    </span>         <span style=\"color: #800080; text-decoration-color: #800080\">a/FoldClassification/</span><span style=\"color: #ff00ff; text-decoration-color: #ff00ff\">class_map.txt</span>                          <span style=\"color: #7f7f7f; text-decoration-color: #7f7f7f\">                          </span>\n",
       "</pre>\n"
      ],
      "text/plain": [
       "\u001b[2;36m                   \u001b[0m\u001b[2;36m \u001b[0m\u001b[34mINFO    \u001b[0m Reading labels from:                                        \u001b]8;id=311892;file:///home/zhang/Projects/3d/ProteinWorkshop/proteinworkshop/datasets/fold_classification.py\u001b\\\u001b[2mfold_classification.py\u001b[0m\u001b]8;;\u001b\\\u001b[2m:\u001b[0m\u001b]8;id=798659;file:///home/zhang/Projects/3d/ProteinWorkshop/proteinworkshop/datasets/fold_classification.py#154\u001b\\\u001b[2m154\u001b[0m\u001b]8;;\u001b\\\n",
       "\u001b[2;36m                    \u001b[0m         \u001b[35m/home/zhang/Projects/3d/ProteinWorkshop/proteinworkshop/dat\u001b[0m \u001b[2m                          \u001b[0m\n",
       "\u001b[2;36m                    \u001b[0m         \u001b[35ma/FoldClassification/\u001b[0m\u001b[95mclass_map.txt\u001b[0m                          \u001b[2m                          \u001b[0m\n"
      ]
     },
     "metadata": {},
     "output_type": "display_data"
    },
    {
     "data": {
      "text/html": [
       "<pre style=\"white-space:pre;overflow-x:auto;line-height:normal;font-family:Menlo,'DejaVu Sans Mono',consolas,'Courier New',monospace\"><span style=\"color: #7fbfbf; text-decoration-color: #7fbfbf\">                    </span><span style=\"color: #000080; text-decoration-color: #000080\">INFO    </span> Found <span style=\"color: #008080; text-decoration-color: #008080; font-weight: bold\">718</span> original examples in test_fold                    <a href=\"file:///home/zhang/Projects/3d/ProteinWorkshop/proteinworkshop/datasets/fold_classification.py\" target=\"_blank\"><span style=\"color: #7f7f7f; text-decoration-color: #7f7f7f\">fold_classification.py</span></a><span style=\"color: #7f7f7f; text-decoration-color: #7f7f7f\">:</span><a href=\"file:///home/zhang/Projects/3d/ProteinWorkshop/proteinworkshop/datasets/fold_classification.py#234\" target=\"_blank\"><span style=\"color: #7f7f7f; text-decoration-color: #7f7f7f\">234</span></a>\n",
       "</pre>\n"
      ],
      "text/plain": [
       "\u001b[2;36m                   \u001b[0m\u001b[2;36m \u001b[0m\u001b[34mINFO    \u001b[0m Found \u001b[1;36m718\u001b[0m original examples in test_fold                    \u001b]8;id=550212;file:///home/zhang/Projects/3d/ProteinWorkshop/proteinworkshop/datasets/fold_classification.py\u001b\\\u001b[2mfold_classification.py\u001b[0m\u001b]8;;\u001b\\\u001b[2m:\u001b[0m\u001b]8;id=874809;file:///home/zhang/Projects/3d/ProteinWorkshop/proteinworkshop/datasets/fold_classification.py#234\u001b\\\u001b[2m234\u001b[0m\u001b]8;;\u001b\\\n"
      ]
     },
     "metadata": {},
     "output_type": "display_data"
    },
    {
     "data": {
      "text/html": [
       "<pre style=\"white-space:pre;overflow-x:auto;line-height:normal;font-family:Menlo,'DejaVu Sans Mono',consolas,'Courier New',monospace\"><span style=\"color: #7fbfbf; text-decoration-color: #7fbfbf\">                    </span><span style=\"color: #000080; text-decoration-color: #000080\">INFO    </span> Identified <span style=\"color: #008080; text-decoration-color: #008080; font-weight: bold\">136</span> classes                                      <a href=\"file:///home/zhang/Projects/3d/ProteinWorkshop/proteinworkshop/datasets/fold_classification.py\" target=\"_blank\"><span style=\"color: #7f7f7f; text-decoration-color: #7f7f7f\">fold_classification.py</span></a><span style=\"color: #7f7f7f; text-decoration-color: #7f7f7f\">:</span><a href=\"file:///home/zhang/Projects/3d/ProteinWorkshop/proteinworkshop/datasets/fold_classification.py#247\" target=\"_blank\"><span style=\"color: #7f7f7f; text-decoration-color: #7f7f7f\">247</span></a>\n",
       "</pre>\n"
      ],
      "text/plain": [
       "\u001b[2;36m                   \u001b[0m\u001b[2;36m \u001b[0m\u001b[34mINFO    \u001b[0m Identified \u001b[1;36m136\u001b[0m classes                                      \u001b]8;id=254667;file:///home/zhang/Projects/3d/ProteinWorkshop/proteinworkshop/datasets/fold_classification.py\u001b\\\u001b[2mfold_classification.py\u001b[0m\u001b]8;;\u001b\\\u001b[2m:\u001b[0m\u001b]8;id=883128;file:///home/zhang/Projects/3d/ProteinWorkshop/proteinworkshop/datasets/fold_classification.py#247\u001b\\\u001b[2m247\u001b[0m\u001b]8;;\u001b\\\n"
      ]
     },
     "metadata": {},
     "output_type": "display_data"
    },
    {
     "data": {
      "text/html": [
       "<pre style=\"white-space:pre;overflow-x:auto;line-height:normal;font-family:Menlo,'DejaVu Sans Mono',consolas,'Courier New',monospace\"><span style=\"color: #7fbfbf; text-decoration-color: #7fbfbf\">                    </span><span style=\"color: #000080; text-decoration-color: #000080\">INFO    </span> All structures already processed and <span style=\"color: #808000; text-decoration-color: #808000\">overwrite</span>=<span style=\"color: #ff0000; text-decoration-color: #ff0000; font-style: italic\">False</span>. Skipping download.   <a href=\"file:///home/zhang/Projects/3d/ProteinWorkshop/proteinworkshop/datasets/base.py\" target=\"_blank\"><span style=\"color: #7f7f7f; text-decoration-color: #7f7f7f\">base.py</span></a><span style=\"color: #7f7f7f; text-decoration-color: #7f7f7f\">:</span><a href=\"file:///home/zhang/Projects/3d/ProteinWorkshop/proteinworkshop/datasets/base.py#327\" target=\"_blank\"><span style=\"color: #7f7f7f; text-decoration-color: #7f7f7f\">327</span></a>\n",
       "</pre>\n"
      ],
      "text/plain": [
       "\u001b[2;36m                   \u001b[0m\u001b[2;36m \u001b[0m\u001b[34mINFO    \u001b[0m All structures already processed and \u001b[33moverwrite\u001b[0m=\u001b[3;91mFalse\u001b[0m. Skipping download.   \u001b]8;id=992265;file:///home/zhang/Projects/3d/ProteinWorkshop/proteinworkshop/datasets/base.py\u001b\\\u001b[2mbase.py\u001b[0m\u001b]8;;\u001b\\\u001b[2m:\u001b[0m\u001b]8;id=387765;file:///home/zhang/Projects/3d/ProteinWorkshop/proteinworkshop/datasets/base.py#327\u001b\\\u001b[2m327\u001b[0m\u001b]8;;\u001b\\\n"
      ]
     },
     "metadata": {},
     "output_type": "display_data"
    },
    {
     "data": {
      "text/html": [
       "<pre style=\"white-space:pre;overflow-x:auto;line-height:normal;font-family:Menlo,'DejaVu Sans Mono',consolas,'Courier New',monospace\"><span style=\"color: #7fbfbf; text-decoration-color: #7fbfbf\">                    </span><span style=\"color: #800000; text-decoration-color: #800000\">WARNING </span> Downloads in .ent format are assumed to be from ASTRAL. These data should  <a href=\"file:///home/zhang/Projects/3d/ProteinWorkshop/proteinworkshop/datasets/base.py\" target=\"_blank\"><span style=\"color: #7f7f7f; text-decoration-color: #7f7f7f\">base.py</span></a><span style=\"color: #7f7f7f; text-decoration-color: #7f7f7f\">:</span><a href=\"file:///home/zhang/Projects/3d/ProteinWorkshop/proteinworkshop/datasets/base.py#357\" target=\"_blank\"><span style=\"color: #7f7f7f; text-decoration-color: #7f7f7f\">357</span></a>\n",
       "<span style=\"color: #7fbfbf; text-decoration-color: #7fbfbf\">                    </span>         have already been downloaded                                               <span style=\"color: #7f7f7f; text-decoration-color: #7f7f7f\">           </span>\n",
       "</pre>\n"
      ],
      "text/plain": [
       "\u001b[2;36m                   \u001b[0m\u001b[2;36m \u001b[0m\u001b[31mWARNING \u001b[0m Downloads in .ent format are assumed to be from ASTRAL. These data should  \u001b]8;id=953167;file:///home/zhang/Projects/3d/ProteinWorkshop/proteinworkshop/datasets/base.py\u001b\\\u001b[2mbase.py\u001b[0m\u001b]8;;\u001b\\\u001b[2m:\u001b[0m\u001b]8;id=315369;file:///home/zhang/Projects/3d/ProteinWorkshop/proteinworkshop/datasets/base.py#357\u001b\\\u001b[2m357\u001b[0m\u001b]8;;\u001b\\\n",
       "\u001b[2;36m                    \u001b[0m         have already been downloaded                                               \u001b[2m           \u001b[0m\n"
      ]
     },
     "metadata": {},
     "output_type": "display_data"
    },
    {
     "data": {
      "text/html": [
       "<pre style=\"white-space:pre;overflow-x:auto;line-height:normal;font-family:Menlo,'DejaVu Sans Mono',consolas,'Courier New',monospace\"><span style=\"color: #7fbfbf; text-decoration-color: #7fbfbf\">                    </span><span style=\"color: #000080; text-decoration-color: #000080\">INFO    </span> Reading data into memory                                                   <a href=\"file:///home/zhang/Projects/3d/ProteinWorkshop/proteinworkshop/datasets/base.py\" target=\"_blank\"><span style=\"color: #7f7f7f; text-decoration-color: #7f7f7f\">base.py</span></a><span style=\"color: #7f7f7f; text-decoration-color: #7f7f7f\">:</span><a href=\"file:///home/zhang/Projects/3d/ProteinWorkshop/proteinworkshop/datasets/base.py#337\" target=\"_blank\"><span style=\"color: #7f7f7f; text-decoration-color: #7f7f7f\">337</span></a>\n",
       "</pre>\n"
      ],
      "text/plain": [
       "\u001b[2;36m                   \u001b[0m\u001b[2;36m \u001b[0m\u001b[34mINFO    \u001b[0m Reading data into memory                                                   \u001b]8;id=648871;file:///home/zhang/Projects/3d/ProteinWorkshop/proteinworkshop/datasets/base.py\u001b\\\u001b[2mbase.py\u001b[0m\u001b]8;;\u001b\\\u001b[2m:\u001b[0m\u001b]8;id=329764;file:///home/zhang/Projects/3d/ProteinWorkshop/proteinworkshop/datasets/base.py#337\u001b\\\u001b[2m337\u001b[0m\u001b]8;;\u001b\\\n"
      ]
     },
     "metadata": {},
     "output_type": "display_data"
    },
    {
     "name": "stderr",
     "output_type": "stream",
     "text": [
      "100%|██████████| 718/718 [00:00<00:00, 4861.42it/s]\n"
     ]
    },
    {
     "data": {
      "text/html": [
       "<pre style=\"white-space:pre;overflow-x:auto;line-height:normal;font-family:Menlo,'DejaVu Sans Mono',consolas,'Courier New',monospace\"><span style=\"color: #7fbfbf; text-decoration-color: #7fbfbf\">                    </span><span style=\"color: #000080; text-decoration-color: #000080\">INFO    </span> Testing on fold <span style=\"font-weight: bold\">(</span><span style=\"color: #008080; text-decoration-color: #008080; font-weight: bold\">1</span> <span style=\"color: #800080; text-decoration-color: #800080\">/</span> <span style=\"color: #008080; text-decoration-color: #008080; font-weight: bold\">3</span><span style=\"font-weight: bold\">)</span><span style=\"color: #808000; text-decoration-color: #808000\">...</span>                                                <a href=\"file:///home/zhang/Projects/3d/ProteinWorkshop/proteinworkshop/train.py\" target=\"_blank\"><span style=\"color: #7f7f7f; text-decoration-color: #7f7f7f\">train.py</span></a><span style=\"color: #7f7f7f; text-decoration-color: #7f7f7f\">:</span><a href=\"file:///home/zhang/Projects/3d/ProteinWorkshop/proteinworkshop/train.py#194\" target=\"_blank\"><span style=\"color: #7f7f7f; text-decoration-color: #7f7f7f\">194</span></a>\n",
       "</pre>\n"
      ],
      "text/plain": [
       "\u001b[2;36m                   \u001b[0m\u001b[2;36m \u001b[0m\u001b[34mINFO    \u001b[0m Testing on fold \u001b[1m(\u001b[0m\u001b[1;36m1\u001b[0m \u001b[35m/\u001b[0m \u001b[1;36m3\u001b[0m\u001b[1m)\u001b[0m\u001b[33m...\u001b[0m                                                \u001b]8;id=47365;file:///home/zhang/Projects/3d/ProteinWorkshop/proteinworkshop/train.py\u001b\\\u001b[2mtrain.py\u001b[0m\u001b]8;;\u001b\\\u001b[2m:\u001b[0m\u001b]8;id=987942;file:///home/zhang/Projects/3d/ProteinWorkshop/proteinworkshop/train.py#194\u001b\\\u001b[2m194\u001b[0m\u001b]8;;\u001b\\\n"
      ]
     },
     "metadata": {},
     "output_type": "display_data"
    },
    {
     "data": {
      "text/html": [
       "<pre style=\"white-space:pre;overflow-x:auto;line-height:normal;font-family:Menlo,'DejaVu Sans Mono',consolas,'Courier New',monospace\"><span style=\"color: #7fbfbf; text-decoration-color: #7fbfbf\">                    </span><span style=\"color: #000080; text-decoration-color: #000080\">INFO    </span> Downloading Protein Function. Fraction <span style=\"color: #008080; text-decoration-color: #008080; font-weight: bold\">1.0</span>                   <a href=\"file:///home/zhang/Projects/3d/ProteinWorkshop/proteinworkshop/datasets/fold_classification.py\" target=\"_blank\"><span style=\"color: #7f7f7f; text-decoration-color: #7f7f7f\">fold_classification.py</span></a><span style=\"color: #7f7f7f; text-decoration-color: #7f7f7f\">:</span><a href=\"file:///home/zhang/Projects/3d/ProteinWorkshop/proteinworkshop/datasets/fold_classification.py#86\" target=\"_blank\"><span style=\"color: #7f7f7f; text-decoration-color: #7f7f7f\">86</span></a>\n",
       "</pre>\n"
      ],
      "text/plain": [
       "\u001b[2;36m                   \u001b[0m\u001b[2;36m \u001b[0m\u001b[34mINFO    \u001b[0m Downloading Protein Function. Fraction \u001b[1;36m1.0\u001b[0m                   \u001b]8;id=149346;file:///home/zhang/Projects/3d/ProteinWorkshop/proteinworkshop/datasets/fold_classification.py\u001b\\\u001b[2mfold_classification.py\u001b[0m\u001b]8;;\u001b\\\u001b[2m:\u001b[0m\u001b]8;id=775396;file:///home/zhang/Projects/3d/ProteinWorkshop/proteinworkshop/datasets/fold_classification.py#86\u001b\\\u001b[2m86\u001b[0m\u001b]8;;\u001b\\\n"
      ]
     },
     "metadata": {},
     "output_type": "display_data"
    },
    {
     "data": {
      "text/html": [
       "<pre style=\"white-space:pre;overflow-x:auto;line-height:normal;font-family:Menlo,'DejaVu Sans Mono',consolas,'Courier New',monospace\"><span style=\"color: #7fbfbf; text-decoration-color: #7fbfbf\">                    </span><span style=\"color: #000080; text-decoration-color: #000080\">INFO    </span> Found SCOP structure tarfile in:                            <a href=\"file:///home/zhang/Projects/3d/ProteinWorkshop/proteinworkshop/datasets/fold_classification.py\" target=\"_blank\"><span style=\"color: #7f7f7f; text-decoration-color: #7f7f7f\">fold_classification.py</span></a><span style=\"color: #7f7f7f; text-decoration-color: #7f7f7f\">:</span><a href=\"file:///home/zhang/Projects/3d/ProteinWorkshop/proteinworkshop/datasets/fold_classification.py#138\" target=\"_blank\"><span style=\"color: #7f7f7f; text-decoration-color: #7f7f7f\">138</span></a>\n",
       "<span style=\"color: #7fbfbf; text-decoration-color: #7fbfbf\">                    </span>         <span style=\"color: #800080; text-decoration-color: #800080\">/home/zhang/Projects/3d/ProteinWorkshop/proteinworkshop/dat</span> <span style=\"color: #7f7f7f; text-decoration-color: #7f7f7f\">                          </span>\n",
       "<span style=\"color: #7fbfbf; text-decoration-color: #7fbfbf\">                    </span>         <span style=\"color: #800080; text-decoration-color: #800080\">a/FoldClassification/</span><span style=\"color: #ff00ff; text-decoration-color: #ff00ff\">pdbstyle-sel-gs-bib-95-1.75.tgz</span>        <span style=\"color: #7f7f7f; text-decoration-color: #7f7f7f\">                          </span>\n",
       "</pre>\n"
      ],
      "text/plain": [
       "\u001b[2;36m                   \u001b[0m\u001b[2;36m \u001b[0m\u001b[34mINFO    \u001b[0m Found SCOP structure tarfile in:                            \u001b]8;id=315728;file:///home/zhang/Projects/3d/ProteinWorkshop/proteinworkshop/datasets/fold_classification.py\u001b\\\u001b[2mfold_classification.py\u001b[0m\u001b]8;;\u001b\\\u001b[2m:\u001b[0m\u001b]8;id=233003;file:///home/zhang/Projects/3d/ProteinWorkshop/proteinworkshop/datasets/fold_classification.py#138\u001b\\\u001b[2m138\u001b[0m\u001b]8;;\u001b\\\n",
       "\u001b[2;36m                    \u001b[0m         \u001b[35m/home/zhang/Projects/3d/ProteinWorkshop/proteinworkshop/dat\u001b[0m \u001b[2m                          \u001b[0m\n",
       "\u001b[2;36m                    \u001b[0m         \u001b[35ma/FoldClassification/\u001b[0m\u001b[95mpdbstyle-sel-gs-bib-95-1.75.tgz\u001b[0m        \u001b[2m                          \u001b[0m\n"
      ]
     },
     "metadata": {},
     "output_type": "display_data"
    },
    {
     "data": {
      "text/html": [
       "<pre style=\"white-space:pre;overflow-x:auto;line-height:normal;font-family:Menlo,'DejaVu Sans Mono',consolas,'Courier New',monospace\"><span style=\"color: #7fbfbf; text-decoration-color: #7fbfbf\">                    </span><span style=\"color: #000080; text-decoration-color: #000080\">INFO    </span> Found SCOPe structures in:                                  <a href=\"file:///home/zhang/Projects/3d/ProteinWorkshop/proteinworkshop/datasets/fold_classification.py\" target=\"_blank\"><span style=\"color: #7f7f7f; text-decoration-color: #7f7f7f\">fold_classification.py</span></a><span style=\"color: #7f7f7f; text-decoration-color: #7f7f7f\">:</span><a href=\"file:///home/zhang/Projects/3d/ProteinWorkshop/proteinworkshop/datasets/fold_classification.py#151\" target=\"_blank\"><span style=\"color: #7f7f7f; text-decoration-color: #7f7f7f\">151</span></a>\n",
       "</pre>\n"
      ],
      "text/plain": [
       "\u001b[2;36m                   \u001b[0m\u001b[2;36m \u001b[0m\u001b[34mINFO    \u001b[0m Found SCOPe structures in:                                  \u001b]8;id=71026;file:///home/zhang/Projects/3d/ProteinWorkshop/proteinworkshop/datasets/fold_classification.py\u001b\\\u001b[2mfold_classification.py\u001b[0m\u001b]8;;\u001b\\\u001b[2m:\u001b[0m\u001b]8;id=776318;file:///home/zhang/Projects/3d/ProteinWorkshop/proteinworkshop/datasets/fold_classification.py#151\u001b\\\u001b[2m151\u001b[0m\u001b]8;;\u001b\\\n"
      ]
     },
     "metadata": {},
     "output_type": "display_data"
    },
    {
     "data": {
      "text/html": [
       "<pre style=\"white-space:pre;overflow-x:auto;line-height:normal;font-family:Menlo,'DejaVu Sans Mono',consolas,'Courier New',monospace\"><span style=\"color: #7fbfbf; text-decoration-color: #7fbfbf\">                    </span><span style=\"color: #000080; text-decoration-color: #000080\">INFO    </span> Preprocessing test data                                                     <a href=\"file:///home/zhang/Projects/3d/ProteinWorkshop/proteinworkshop/datasets/base.py\" target=\"_blank\"><span style=\"color: #7f7f7f; text-decoration-color: #7f7f7f\">base.py</span></a><span style=\"color: #7f7f7f; text-decoration-color: #7f7f7f\">:</span><a href=\"file:///home/zhang/Projects/3d/ProteinWorkshop/proteinworkshop/datasets/base.py#92\" target=\"_blank\"><span style=\"color: #7f7f7f; text-decoration-color: #7f7f7f\">92</span></a>\n",
       "</pre>\n"
      ],
      "text/plain": [
       "\u001b[2;36m                   \u001b[0m\u001b[2;36m \u001b[0m\u001b[34mINFO    \u001b[0m Preprocessing test data                                                     \u001b]8;id=641080;file:///home/zhang/Projects/3d/ProteinWorkshop/proteinworkshop/datasets/base.py\u001b\\\u001b[2mbase.py\u001b[0m\u001b]8;;\u001b\\\u001b[2m:\u001b[0m\u001b]8;id=124226;file:///home/zhang/Projects/3d/ProteinWorkshop/proteinworkshop/datasets/base.py#92\u001b\\\u001b[2m92\u001b[0m\u001b]8;;\u001b\\\n"
      ]
     },
     "metadata": {},
     "output_type": "display_data"
    },
    {
     "data": {
      "text/html": [
       "<pre style=\"white-space:pre;overflow-x:auto;line-height:normal;font-family:Menlo,'DejaVu Sans Mono',consolas,'Courier New',monospace\"><span style=\"color: #7fbfbf; text-decoration-color: #7fbfbf\">                    </span><span style=\"color: #000080; text-decoration-color: #000080\">INFO    </span> Reading labels from:                                        <a href=\"file:///home/zhang/Projects/3d/ProteinWorkshop/proteinworkshop/datasets/fold_classification.py\" target=\"_blank\"><span style=\"color: #7f7f7f; text-decoration-color: #7f7f7f\">fold_classification.py</span></a><span style=\"color: #7f7f7f; text-decoration-color: #7f7f7f\">:</span><a href=\"file:///home/zhang/Projects/3d/ProteinWorkshop/proteinworkshop/datasets/fold_classification.py#154\" target=\"_blank\"><span style=\"color: #7f7f7f; text-decoration-color: #7f7f7f\">154</span></a>\n",
       "<span style=\"color: #7fbfbf; text-decoration-color: #7fbfbf\">                    </span>         <span style=\"color: #800080; text-decoration-color: #800080\">/home/zhang/Projects/3d/ProteinWorkshop/proteinworkshop/dat</span> <span style=\"color: #7f7f7f; text-decoration-color: #7f7f7f\">                          </span>\n",
       "<span style=\"color: #7fbfbf; text-decoration-color: #7fbfbf\">                    </span>         <span style=\"color: #800080; text-decoration-color: #800080\">a/FoldClassification/</span><span style=\"color: #ff00ff; text-decoration-color: #ff00ff\">class_map.txt</span>                          <span style=\"color: #7f7f7f; text-decoration-color: #7f7f7f\">                          </span>\n",
       "</pre>\n"
      ],
      "text/plain": [
       "\u001b[2;36m                   \u001b[0m\u001b[2;36m \u001b[0m\u001b[34mINFO    \u001b[0m Reading labels from:                                        \u001b]8;id=851776;file:///home/zhang/Projects/3d/ProteinWorkshop/proteinworkshop/datasets/fold_classification.py\u001b\\\u001b[2mfold_classification.py\u001b[0m\u001b]8;;\u001b\\\u001b[2m:\u001b[0m\u001b]8;id=270563;file:///home/zhang/Projects/3d/ProteinWorkshop/proteinworkshop/datasets/fold_classification.py#154\u001b\\\u001b[2m154\u001b[0m\u001b]8;;\u001b\\\n",
       "\u001b[2;36m                    \u001b[0m         \u001b[35m/home/zhang/Projects/3d/ProteinWorkshop/proteinworkshop/dat\u001b[0m \u001b[2m                          \u001b[0m\n",
       "\u001b[2;36m                    \u001b[0m         \u001b[35ma/FoldClassification/\u001b[0m\u001b[95mclass_map.txt\u001b[0m                          \u001b[2m                          \u001b[0m\n"
      ]
     },
     "metadata": {},
     "output_type": "display_data"
    },
    {
     "data": {
      "text/html": [
       "<pre style=\"white-space:pre;overflow-x:auto;line-height:normal;font-family:Menlo,'DejaVu Sans Mono',consolas,'Courier New',monospace\"><span style=\"color: #7fbfbf; text-decoration-color: #7fbfbf\">                    </span><span style=\"color: #000080; text-decoration-color: #000080\">INFO    </span> Found <span style=\"color: #008080; text-decoration-color: #008080; font-weight: bold\">1272</span> original examples in test_family                 <a href=\"file:///home/zhang/Projects/3d/ProteinWorkshop/proteinworkshop/datasets/fold_classification.py\" target=\"_blank\"><span style=\"color: #7f7f7f; text-decoration-color: #7f7f7f\">fold_classification.py</span></a><span style=\"color: #7f7f7f; text-decoration-color: #7f7f7f\">:</span><a href=\"file:///home/zhang/Projects/3d/ProteinWorkshop/proteinworkshop/datasets/fold_classification.py#234\" target=\"_blank\"><span style=\"color: #7f7f7f; text-decoration-color: #7f7f7f\">234</span></a>\n",
       "</pre>\n"
      ],
      "text/plain": [
       "\u001b[2;36m                   \u001b[0m\u001b[2;36m \u001b[0m\u001b[34mINFO    \u001b[0m Found \u001b[1;36m1272\u001b[0m original examples in test_family                 \u001b]8;id=507716;file:///home/zhang/Projects/3d/ProteinWorkshop/proteinworkshop/datasets/fold_classification.py\u001b\\\u001b[2mfold_classification.py\u001b[0m\u001b]8;;\u001b\\\u001b[2m:\u001b[0m\u001b]8;id=654229;file:///home/zhang/Projects/3d/ProteinWorkshop/proteinworkshop/datasets/fold_classification.py#234\u001b\\\u001b[2m234\u001b[0m\u001b]8;;\u001b\\\n"
      ]
     },
     "metadata": {},
     "output_type": "display_data"
    },
    {
     "data": {
      "text/html": [
       "<pre style=\"white-space:pre;overflow-x:auto;line-height:normal;font-family:Menlo,'DejaVu Sans Mono',consolas,'Courier New',monospace\"><span style=\"color: #7fbfbf; text-decoration-color: #7fbfbf\">                    </span><span style=\"color: #000080; text-decoration-color: #000080\">INFO    </span> Identified <span style=\"color: #008080; text-decoration-color: #008080; font-weight: bold\">189</span> classes                                      <a href=\"file:///home/zhang/Projects/3d/ProteinWorkshop/proteinworkshop/datasets/fold_classification.py\" target=\"_blank\"><span style=\"color: #7f7f7f; text-decoration-color: #7f7f7f\">fold_classification.py</span></a><span style=\"color: #7f7f7f; text-decoration-color: #7f7f7f\">:</span><a href=\"file:///home/zhang/Projects/3d/ProteinWorkshop/proteinworkshop/datasets/fold_classification.py#247\" target=\"_blank\"><span style=\"color: #7f7f7f; text-decoration-color: #7f7f7f\">247</span></a>\n",
       "</pre>\n"
      ],
      "text/plain": [
       "\u001b[2;36m                   \u001b[0m\u001b[2;36m \u001b[0m\u001b[34mINFO    \u001b[0m Identified \u001b[1;36m189\u001b[0m classes                                      \u001b]8;id=162727;file:///home/zhang/Projects/3d/ProteinWorkshop/proteinworkshop/datasets/fold_classification.py\u001b\\\u001b[2mfold_classification.py\u001b[0m\u001b]8;;\u001b\\\u001b[2m:\u001b[0m\u001b]8;id=765694;file:///home/zhang/Projects/3d/ProteinWorkshop/proteinworkshop/datasets/fold_classification.py#247\u001b\\\u001b[2m247\u001b[0m\u001b]8;;\u001b\\\n"
      ]
     },
     "metadata": {},
     "output_type": "display_data"
    },
    {
     "data": {
      "text/html": [
       "<pre style=\"white-space:pre;overflow-x:auto;line-height:normal;font-family:Menlo,'DejaVu Sans Mono',consolas,'Courier New',monospace\"><span style=\"color: #7fbfbf; text-decoration-color: #7fbfbf\">                    </span><span style=\"color: #000080; text-decoration-color: #000080\">INFO    </span> All structures already processed and <span style=\"color: #808000; text-decoration-color: #808000\">overwrite</span>=<span style=\"color: #ff0000; text-decoration-color: #ff0000; font-style: italic\">False</span>. Skipping download.   <a href=\"file:///home/zhang/Projects/3d/ProteinWorkshop/proteinworkshop/datasets/base.py\" target=\"_blank\"><span style=\"color: #7f7f7f; text-decoration-color: #7f7f7f\">base.py</span></a><span style=\"color: #7f7f7f; text-decoration-color: #7f7f7f\">:</span><a href=\"file:///home/zhang/Projects/3d/ProteinWorkshop/proteinworkshop/datasets/base.py#327\" target=\"_blank\"><span style=\"color: #7f7f7f; text-decoration-color: #7f7f7f\">327</span></a>\n",
       "</pre>\n"
      ],
      "text/plain": [
       "\u001b[2;36m                   \u001b[0m\u001b[2;36m \u001b[0m\u001b[34mINFO    \u001b[0m All structures already processed and \u001b[33moverwrite\u001b[0m=\u001b[3;91mFalse\u001b[0m. Skipping download.   \u001b]8;id=863645;file:///home/zhang/Projects/3d/ProteinWorkshop/proteinworkshop/datasets/base.py\u001b\\\u001b[2mbase.py\u001b[0m\u001b]8;;\u001b\\\u001b[2m:\u001b[0m\u001b]8;id=467740;file:///home/zhang/Projects/3d/ProteinWorkshop/proteinworkshop/datasets/base.py#327\u001b\\\u001b[2m327\u001b[0m\u001b]8;;\u001b\\\n"
      ]
     },
     "metadata": {},
     "output_type": "display_data"
    },
    {
     "data": {
      "text/html": [
       "<pre style=\"white-space:pre;overflow-x:auto;line-height:normal;font-family:Menlo,'DejaVu Sans Mono',consolas,'Courier New',monospace\"><span style=\"color: #7fbfbf; text-decoration-color: #7fbfbf\">                    </span><span style=\"color: #800000; text-decoration-color: #800000\">WARNING </span> Downloads in .ent format are assumed to be from ASTRAL. These data should  <a href=\"file:///home/zhang/Projects/3d/ProteinWorkshop/proteinworkshop/datasets/base.py\" target=\"_blank\"><span style=\"color: #7f7f7f; text-decoration-color: #7f7f7f\">base.py</span></a><span style=\"color: #7f7f7f; text-decoration-color: #7f7f7f\">:</span><a href=\"file:///home/zhang/Projects/3d/ProteinWorkshop/proteinworkshop/datasets/base.py#357\" target=\"_blank\"><span style=\"color: #7f7f7f; text-decoration-color: #7f7f7f\">357</span></a>\n",
       "<span style=\"color: #7fbfbf; text-decoration-color: #7fbfbf\">                    </span>         have already been downloaded                                               <span style=\"color: #7f7f7f; text-decoration-color: #7f7f7f\">           </span>\n",
       "</pre>\n"
      ],
      "text/plain": [
       "\u001b[2;36m                   \u001b[0m\u001b[2;36m \u001b[0m\u001b[31mWARNING \u001b[0m Downloads in .ent format are assumed to be from ASTRAL. These data should  \u001b]8;id=451897;file:///home/zhang/Projects/3d/ProteinWorkshop/proteinworkshop/datasets/base.py\u001b\\\u001b[2mbase.py\u001b[0m\u001b]8;;\u001b\\\u001b[2m:\u001b[0m\u001b]8;id=875948;file:///home/zhang/Projects/3d/ProteinWorkshop/proteinworkshop/datasets/base.py#357\u001b\\\u001b[2m357\u001b[0m\u001b]8;;\u001b\\\n",
       "\u001b[2;36m                    \u001b[0m         have already been downloaded                                               \u001b[2m           \u001b[0m\n"
      ]
     },
     "metadata": {},
     "output_type": "display_data"
    },
    {
     "data": {
      "text/html": [
       "<pre style=\"white-space:pre;overflow-x:auto;line-height:normal;font-family:Menlo,'DejaVu Sans Mono',consolas,'Courier New',monospace\"><span style=\"color: #7fbfbf; text-decoration-color: #7fbfbf\">                    </span><span style=\"color: #000080; text-decoration-color: #000080\">INFO    </span> Reading data into memory                                                   <a href=\"file:///home/zhang/Projects/3d/ProteinWorkshop/proteinworkshop/datasets/base.py\" target=\"_blank\"><span style=\"color: #7f7f7f; text-decoration-color: #7f7f7f\">base.py</span></a><span style=\"color: #7f7f7f; text-decoration-color: #7f7f7f\">:</span><a href=\"file:///home/zhang/Projects/3d/ProteinWorkshop/proteinworkshop/datasets/base.py#337\" target=\"_blank\"><span style=\"color: #7f7f7f; text-decoration-color: #7f7f7f\">337</span></a>\n",
       "</pre>\n"
      ],
      "text/plain": [
       "\u001b[2;36m                   \u001b[0m\u001b[2;36m \u001b[0m\u001b[34mINFO    \u001b[0m Reading data into memory                                                   \u001b]8;id=317218;file:///home/zhang/Projects/3d/ProteinWorkshop/proteinworkshop/datasets/base.py\u001b\\\u001b[2mbase.py\u001b[0m\u001b]8;;\u001b\\\u001b[2m:\u001b[0m\u001b]8;id=183154;file:///home/zhang/Projects/3d/ProteinWorkshop/proteinworkshop/datasets/base.py#337\u001b\\\u001b[2m337\u001b[0m\u001b]8;;\u001b\\\n"
      ]
     },
     "metadata": {},
     "output_type": "display_data"
    },
    {
     "name": "stderr",
     "output_type": "stream",
     "text": [
      "100%|██████████| 1272/1272 [00:00<00:00, 4863.75it/s]\n"
     ]
    },
    {
     "data": {
      "text/html": [
       "<pre style=\"white-space:pre;overflow-x:auto;line-height:normal;font-family:Menlo,'DejaVu Sans Mono',consolas,'Courier New',monospace\"><span style=\"color: #7fbfbf; text-decoration-color: #7fbfbf\">                    </span><span style=\"color: #000080; text-decoration-color: #000080\">INFO    </span> Reading labels from:                                        <a href=\"file:///home/zhang/Projects/3d/ProteinWorkshop/proteinworkshop/datasets/fold_classification.py\" target=\"_blank\"><span style=\"color: #7f7f7f; text-decoration-color: #7f7f7f\">fold_classification.py</span></a><span style=\"color: #7f7f7f; text-decoration-color: #7f7f7f\">:</span><a href=\"file:///home/zhang/Projects/3d/ProteinWorkshop/proteinworkshop/datasets/fold_classification.py#154\" target=\"_blank\"><span style=\"color: #7f7f7f; text-decoration-color: #7f7f7f\">154</span></a>\n",
       "<span style=\"color: #7fbfbf; text-decoration-color: #7fbfbf\">                    </span>         <span style=\"color: #800080; text-decoration-color: #800080\">/home/zhang/Projects/3d/ProteinWorkshop/proteinworkshop/dat</span> <span style=\"color: #7f7f7f; text-decoration-color: #7f7f7f\">                          </span>\n",
       "<span style=\"color: #7fbfbf; text-decoration-color: #7fbfbf\">                    </span>         <span style=\"color: #800080; text-decoration-color: #800080\">a/FoldClassification/</span><span style=\"color: #ff00ff; text-decoration-color: #ff00ff\">class_map.txt</span>                          <span style=\"color: #7f7f7f; text-decoration-color: #7f7f7f\">                          </span>\n",
       "</pre>\n"
      ],
      "text/plain": [
       "\u001b[2;36m                   \u001b[0m\u001b[2;36m \u001b[0m\u001b[34mINFO    \u001b[0m Reading labels from:                                        \u001b]8;id=900841;file:///home/zhang/Projects/3d/ProteinWorkshop/proteinworkshop/datasets/fold_classification.py\u001b\\\u001b[2mfold_classification.py\u001b[0m\u001b]8;;\u001b\\\u001b[2m:\u001b[0m\u001b]8;id=118151;file:///home/zhang/Projects/3d/ProteinWorkshop/proteinworkshop/datasets/fold_classification.py#154\u001b\\\u001b[2m154\u001b[0m\u001b]8;;\u001b\\\n",
       "\u001b[2;36m                    \u001b[0m         \u001b[35m/home/zhang/Projects/3d/ProteinWorkshop/proteinworkshop/dat\u001b[0m \u001b[2m                          \u001b[0m\n",
       "\u001b[2;36m                    \u001b[0m         \u001b[35ma/FoldClassification/\u001b[0m\u001b[95mclass_map.txt\u001b[0m                          \u001b[2m                          \u001b[0m\n"
      ]
     },
     "metadata": {},
     "output_type": "display_data"
    },
    {
     "data": {
      "text/html": [
       "<pre style=\"white-space:pre;overflow-x:auto;line-height:normal;font-family:Menlo,'DejaVu Sans Mono',consolas,'Courier New',monospace\"><span style=\"color: #7fbfbf; text-decoration-color: #7fbfbf\">                    </span><span style=\"color: #000080; text-decoration-color: #000080\">INFO    </span> Found <span style=\"color: #008080; text-decoration-color: #008080; font-weight: bold\">1254</span> original examples in test_superfamily            <a href=\"file:///home/zhang/Projects/3d/ProteinWorkshop/proteinworkshop/datasets/fold_classification.py\" target=\"_blank\"><span style=\"color: #7f7f7f; text-decoration-color: #7f7f7f\">fold_classification.py</span></a><span style=\"color: #7f7f7f; text-decoration-color: #7f7f7f\">:</span><a href=\"file:///home/zhang/Projects/3d/ProteinWorkshop/proteinworkshop/datasets/fold_classification.py#234\" target=\"_blank\"><span style=\"color: #7f7f7f; text-decoration-color: #7f7f7f\">234</span></a>\n",
       "</pre>\n"
      ],
      "text/plain": [
       "\u001b[2;36m                   \u001b[0m\u001b[2;36m \u001b[0m\u001b[34mINFO    \u001b[0m Found \u001b[1;36m1254\u001b[0m original examples in test_superfamily            \u001b]8;id=109418;file:///home/zhang/Projects/3d/ProteinWorkshop/proteinworkshop/datasets/fold_classification.py\u001b\\\u001b[2mfold_classification.py\u001b[0m\u001b]8;;\u001b\\\u001b[2m:\u001b[0m\u001b]8;id=216672;file:///home/zhang/Projects/3d/ProteinWorkshop/proteinworkshop/datasets/fold_classification.py#234\u001b\\\u001b[2m234\u001b[0m\u001b]8;;\u001b\\\n"
      ]
     },
     "metadata": {},
     "output_type": "display_data"
    },
    {
     "data": {
      "text/html": [
       "<pre style=\"white-space:pre;overflow-x:auto;line-height:normal;font-family:Menlo,'DejaVu Sans Mono',consolas,'Courier New',monospace\"><span style=\"color: #7fbfbf; text-decoration-color: #7fbfbf\">                    </span><span style=\"color: #000080; text-decoration-color: #000080\">INFO    </span> Identified <span style=\"color: #008080; text-decoration-color: #008080; font-weight: bold\">362</span> classes                                      <a href=\"file:///home/zhang/Projects/3d/ProteinWorkshop/proteinworkshop/datasets/fold_classification.py\" target=\"_blank\"><span style=\"color: #7f7f7f; text-decoration-color: #7f7f7f\">fold_classification.py</span></a><span style=\"color: #7f7f7f; text-decoration-color: #7f7f7f\">:</span><a href=\"file:///home/zhang/Projects/3d/ProteinWorkshop/proteinworkshop/datasets/fold_classification.py#247\" target=\"_blank\"><span style=\"color: #7f7f7f; text-decoration-color: #7f7f7f\">247</span></a>\n",
       "</pre>\n"
      ],
      "text/plain": [
       "\u001b[2;36m                   \u001b[0m\u001b[2;36m \u001b[0m\u001b[34mINFO    \u001b[0m Identified \u001b[1;36m362\u001b[0m classes                                      \u001b]8;id=632760;file:///home/zhang/Projects/3d/ProteinWorkshop/proteinworkshop/datasets/fold_classification.py\u001b\\\u001b[2mfold_classification.py\u001b[0m\u001b]8;;\u001b\\\u001b[2m:\u001b[0m\u001b]8;id=169677;file:///home/zhang/Projects/3d/ProteinWorkshop/proteinworkshop/datasets/fold_classification.py#247\u001b\\\u001b[2m247\u001b[0m\u001b]8;;\u001b\\\n"
      ]
     },
     "metadata": {},
     "output_type": "display_data"
    },
    {
     "data": {
      "text/html": [
       "<pre style=\"white-space:pre;overflow-x:auto;line-height:normal;font-family:Menlo,'DejaVu Sans Mono',consolas,'Courier New',monospace\"><span style=\"color: #7fbfbf; text-decoration-color: #7fbfbf\">                    </span><span style=\"color: #000080; text-decoration-color: #000080\">INFO    </span> All structures already processed and <span style=\"color: #808000; text-decoration-color: #808000\">overwrite</span>=<span style=\"color: #ff0000; text-decoration-color: #ff0000; font-style: italic\">False</span>. Skipping download.   <a href=\"file:///home/zhang/Projects/3d/ProteinWorkshop/proteinworkshop/datasets/base.py\" target=\"_blank\"><span style=\"color: #7f7f7f; text-decoration-color: #7f7f7f\">base.py</span></a><span style=\"color: #7f7f7f; text-decoration-color: #7f7f7f\">:</span><a href=\"file:///home/zhang/Projects/3d/ProteinWorkshop/proteinworkshop/datasets/base.py#327\" target=\"_blank\"><span style=\"color: #7f7f7f; text-decoration-color: #7f7f7f\">327</span></a>\n",
       "</pre>\n"
      ],
      "text/plain": [
       "\u001b[2;36m                   \u001b[0m\u001b[2;36m \u001b[0m\u001b[34mINFO    \u001b[0m All structures already processed and \u001b[33moverwrite\u001b[0m=\u001b[3;91mFalse\u001b[0m. Skipping download.   \u001b]8;id=802036;file:///home/zhang/Projects/3d/ProteinWorkshop/proteinworkshop/datasets/base.py\u001b\\\u001b[2mbase.py\u001b[0m\u001b]8;;\u001b\\\u001b[2m:\u001b[0m\u001b]8;id=448555;file:///home/zhang/Projects/3d/ProteinWorkshop/proteinworkshop/datasets/base.py#327\u001b\\\u001b[2m327\u001b[0m\u001b]8;;\u001b\\\n"
      ]
     },
     "metadata": {},
     "output_type": "display_data"
    },
    {
     "data": {
      "text/html": [
       "<pre style=\"white-space:pre;overflow-x:auto;line-height:normal;font-family:Menlo,'DejaVu Sans Mono',consolas,'Courier New',monospace\"><span style=\"color: #7fbfbf; text-decoration-color: #7fbfbf\">                    </span><span style=\"color: #800000; text-decoration-color: #800000\">WARNING </span> Downloads in .ent format are assumed to be from ASTRAL. These data should  <a href=\"file:///home/zhang/Projects/3d/ProteinWorkshop/proteinworkshop/datasets/base.py\" target=\"_blank\"><span style=\"color: #7f7f7f; text-decoration-color: #7f7f7f\">base.py</span></a><span style=\"color: #7f7f7f; text-decoration-color: #7f7f7f\">:</span><a href=\"file:///home/zhang/Projects/3d/ProteinWorkshop/proteinworkshop/datasets/base.py#357\" target=\"_blank\"><span style=\"color: #7f7f7f; text-decoration-color: #7f7f7f\">357</span></a>\n",
       "<span style=\"color: #7fbfbf; text-decoration-color: #7fbfbf\">                    </span>         have already been downloaded                                               <span style=\"color: #7f7f7f; text-decoration-color: #7f7f7f\">           </span>\n",
       "</pre>\n"
      ],
      "text/plain": [
       "\u001b[2;36m                   \u001b[0m\u001b[2;36m \u001b[0m\u001b[31mWARNING \u001b[0m Downloads in .ent format are assumed to be from ASTRAL. These data should  \u001b]8;id=733111;file:///home/zhang/Projects/3d/ProteinWorkshop/proteinworkshop/datasets/base.py\u001b\\\u001b[2mbase.py\u001b[0m\u001b]8;;\u001b\\\u001b[2m:\u001b[0m\u001b]8;id=924146;file:///home/zhang/Projects/3d/ProteinWorkshop/proteinworkshop/datasets/base.py#357\u001b\\\u001b[2m357\u001b[0m\u001b]8;;\u001b\\\n",
       "\u001b[2;36m                    \u001b[0m         have already been downloaded                                               \u001b[2m           \u001b[0m\n"
      ]
     },
     "metadata": {},
     "output_type": "display_data"
    },
    {
     "data": {
      "text/html": [
       "<pre style=\"white-space:pre;overflow-x:auto;line-height:normal;font-family:Menlo,'DejaVu Sans Mono',consolas,'Courier New',monospace\"><span style=\"color: #7fbfbf; text-decoration-color: #7fbfbf\">                    </span><span style=\"color: #000080; text-decoration-color: #000080\">INFO    </span> Reading data into memory                                                   <a href=\"file:///home/zhang/Projects/3d/ProteinWorkshop/proteinworkshop/datasets/base.py\" target=\"_blank\"><span style=\"color: #7f7f7f; text-decoration-color: #7f7f7f\">base.py</span></a><span style=\"color: #7f7f7f; text-decoration-color: #7f7f7f\">:</span><a href=\"file:///home/zhang/Projects/3d/ProteinWorkshop/proteinworkshop/datasets/base.py#337\" target=\"_blank\"><span style=\"color: #7f7f7f; text-decoration-color: #7f7f7f\">337</span></a>\n",
       "</pre>\n"
      ],
      "text/plain": [
       "\u001b[2;36m                   \u001b[0m\u001b[2;36m \u001b[0m\u001b[34mINFO    \u001b[0m Reading data into memory                                                   \u001b]8;id=715021;file:///home/zhang/Projects/3d/ProteinWorkshop/proteinworkshop/datasets/base.py\u001b\\\u001b[2mbase.py\u001b[0m\u001b]8;;\u001b\\\u001b[2m:\u001b[0m\u001b]8;id=715287;file:///home/zhang/Projects/3d/ProteinWorkshop/proteinworkshop/datasets/base.py#337\u001b\\\u001b[2m337\u001b[0m\u001b]8;;\u001b\\\n"
      ]
     },
     "metadata": {},
     "output_type": "display_data"
    },
    {
     "name": "stderr",
     "output_type": "stream",
     "text": [
      "100%|██████████| 1254/1254 [00:00<00:00, 4489.21it/s]\n",
      "Restoring states from the checkpoint path at /home/zhang/Projects/3d/ProteinWorkshop/notebooks/outputs/checkpoints/epoch_032.ckpt\n",
      "LOCAL_RANK: 0 - CUDA_VISIBLE_DEVICES: [0]\n",
      "Loaded model weights from the checkpoint at /home/zhang/Projects/3d/ProteinWorkshop/notebooks/outputs/checkpoints/epoch_032.ckpt\n"
     ]
    },
    {
     "data": {
      "application/vnd.jupyter.widget-view+json": {
       "model_id": "fa3917d568a14615b92e9ed52a238d77",
       "version_major": 2,
       "version_minor": 0
      },
      "text/plain": [
       "Output()"
      ]
     },
     "metadata": {},
     "output_type": "display_data"
    },
    {
     "data": {
      "text/html": [
       "<pre style=\"white-space:pre;overflow-x:auto;line-height:normal;font-family:Menlo,'DejaVu Sans Mono',consolas,'Courier New',monospace\">/home/zhang/miniconda3/envs/3d/lib/python3.10/site-packages/lightning/pytorch/utilities/data.py:78: UserWarning:\n",
       "\n",
       "Trying to infer the `batch_size` from an ambiguous collection. The batch size we found is 6474. To avoid any \n",
       "miscalculations, use `self.log(..., batch_size=batch_size)`.\n",
       "\n",
       "</pre>\n"
      ],
      "text/plain": [
       "/home/zhang/miniconda3/envs/3d/lib/python3.10/site-packages/lightning/pytorch/utilities/data.py:78: UserWarning:\n",
       "\n",
       "Trying to infer the `batch_size` from an ambiguous collection. The batch size we found is 6474. To avoid any \n",
       "miscalculations, use `self.log(..., batch_size=batch_size)`.\n",
       "\n"
      ]
     },
     "metadata": {},
     "output_type": "display_data"
    },
    {
     "data": {
      "text/html": [
       "<pre style=\"white-space:pre;overflow-x:auto;line-height:normal;font-family:Menlo,'DejaVu Sans Mono',consolas,'Courier New',monospace\">/home/zhang/miniconda3/envs/3d/lib/python3.10/site-packages/lightning/pytorch/utilities/data.py:78: UserWarning:\n",
       "\n",
       "Trying to infer the `batch_size` from an ambiguous collection. The batch size we found is 2893. To avoid any \n",
       "miscalculations, use `self.log(..., batch_size=batch_size)`.\n",
       "\n",
       "</pre>\n"
      ],
      "text/plain": [
       "/home/zhang/miniconda3/envs/3d/lib/python3.10/site-packages/lightning/pytorch/utilities/data.py:78: UserWarning:\n",
       "\n",
       "Trying to infer the `batch_size` from an ambiguous collection. The batch size we found is 2893. To avoid any \n",
       "miscalculations, use `self.log(..., batch_size=batch_size)`.\n",
       "\n"
      ]
     },
     "metadata": {},
     "output_type": "display_data"
    },
    {
     "data": {
      "text/html": [
       "<pre style=\"white-space:pre;overflow-x:auto;line-height:normal;font-family:Menlo,'DejaVu Sans Mono',consolas,'Courier New',monospace\">/home/zhang/miniconda3/envs/3d/lib/python3.10/site-packages/lightning/pytorch/utilities/data.py:78: UserWarning:\n",
       "\n",
       "Trying to infer the `batch_size` from an ambiguous collection. The batch size we found is 3526. To avoid any \n",
       "miscalculations, use `self.log(..., batch_size=batch_size)`.\n",
       "\n",
       "</pre>\n"
      ],
      "text/plain": [
       "/home/zhang/miniconda3/envs/3d/lib/python3.10/site-packages/lightning/pytorch/utilities/data.py:78: UserWarning:\n",
       "\n",
       "Trying to infer the `batch_size` from an ambiguous collection. The batch size we found is 3526. To avoid any \n",
       "miscalculations, use `self.log(..., batch_size=batch_size)`.\n",
       "\n"
      ]
     },
     "metadata": {},
     "output_type": "display_data"
    },
    {
     "data": {
      "text/html": [
       "<pre style=\"white-space:pre;overflow-x:auto;line-height:normal;font-family:Menlo,'DejaVu Sans Mono',consolas,'Courier New',monospace\">/home/zhang/miniconda3/envs/3d/lib/python3.10/site-packages/lightning/pytorch/utilities/data.py:78: UserWarning:\n",
       "\n",
       "Trying to infer the `batch_size` from an ambiguous collection. The batch size we found is 3251. To avoid any \n",
       "miscalculations, use `self.log(..., batch_size=batch_size)`.\n",
       "\n",
       "</pre>\n"
      ],
      "text/plain": [
       "/home/zhang/miniconda3/envs/3d/lib/python3.10/site-packages/lightning/pytorch/utilities/data.py:78: UserWarning:\n",
       "\n",
       "Trying to infer the `batch_size` from an ambiguous collection. The batch size we found is 3251. To avoid any \n",
       "miscalculations, use `self.log(..., batch_size=batch_size)`.\n",
       "\n"
      ]
     },
     "metadata": {},
     "output_type": "display_data"
    },
    {
     "data": {
      "text/html": [
       "<pre style=\"white-space:pre;overflow-x:auto;line-height:normal;font-family:Menlo,'DejaVu Sans Mono',consolas,'Courier New',monospace\">/home/zhang/miniconda3/envs/3d/lib/python3.10/site-packages/lightning/pytorch/utilities/data.py:78: UserWarning:\n",
       "\n",
       "Trying to infer the `batch_size` from an ambiguous collection. The batch size we found is 3034. To avoid any \n",
       "miscalculations, use `self.log(..., batch_size=batch_size)`.\n",
       "\n",
       "</pre>\n"
      ],
      "text/plain": [
       "/home/zhang/miniconda3/envs/3d/lib/python3.10/site-packages/lightning/pytorch/utilities/data.py:78: UserWarning:\n",
       "\n",
       "Trying to infer the `batch_size` from an ambiguous collection. The batch size we found is 3034. To avoid any \n",
       "miscalculations, use `self.log(..., batch_size=batch_size)`.\n",
       "\n"
      ]
     },
     "metadata": {},
     "output_type": "display_data"
    },
    {
     "data": {
      "text/html": [
       "<pre style=\"white-space:pre;overflow-x:auto;line-height:normal;font-family:Menlo,'DejaVu Sans Mono',consolas,'Courier New',monospace\">/home/zhang/miniconda3/envs/3d/lib/python3.10/site-packages/lightning/pytorch/utilities/data.py:78: UserWarning:\n",
       "\n",
       "Trying to infer the `batch_size` from an ambiguous collection. The batch size we found is 3949. To avoid any \n",
       "miscalculations, use `self.log(..., batch_size=batch_size)`.\n",
       "\n",
       "</pre>\n"
      ],
      "text/plain": [
       "/home/zhang/miniconda3/envs/3d/lib/python3.10/site-packages/lightning/pytorch/utilities/data.py:78: UserWarning:\n",
       "\n",
       "Trying to infer the `batch_size` from an ambiguous collection. The batch size we found is 3949. To avoid any \n",
       "miscalculations, use `self.log(..., batch_size=batch_size)`.\n",
       "\n"
      ]
     },
     "metadata": {},
     "output_type": "display_data"
    },
    {
     "data": {
      "text/html": [
       "<pre style=\"white-space:pre;overflow-x:auto;line-height:normal;font-family:Menlo,'DejaVu Sans Mono',consolas,'Courier New',monospace\">/home/zhang/miniconda3/envs/3d/lib/python3.10/site-packages/lightning/pytorch/utilities/data.py:78: UserWarning:\n",
       "\n",
       "Trying to infer the `batch_size` from an ambiguous collection. The batch size we found is 6569. To avoid any \n",
       "miscalculations, use `self.log(..., batch_size=batch_size)`.\n",
       "\n",
       "</pre>\n"
      ],
      "text/plain": [
       "/home/zhang/miniconda3/envs/3d/lib/python3.10/site-packages/lightning/pytorch/utilities/data.py:78: UserWarning:\n",
       "\n",
       "Trying to infer the `batch_size` from an ambiguous collection. The batch size we found is 6569. To avoid any \n",
       "miscalculations, use `self.log(..., batch_size=batch_size)`.\n",
       "\n"
      ]
     },
     "metadata": {},
     "output_type": "display_data"
    },
    {
     "data": {
      "text/html": [
       "<pre style=\"white-space:pre;overflow-x:auto;line-height:normal;font-family:Menlo,'DejaVu Sans Mono',consolas,'Courier New',monospace\">/home/zhang/miniconda3/envs/3d/lib/python3.10/site-packages/lightning/pytorch/utilities/data.py:78: UserWarning:\n",
       "\n",
       "Trying to infer the `batch_size` from an ambiguous collection. The batch size we found is 3426. To avoid any \n",
       "miscalculations, use `self.log(..., batch_size=batch_size)`.\n",
       "\n",
       "</pre>\n"
      ],
      "text/plain": [
       "/home/zhang/miniconda3/envs/3d/lib/python3.10/site-packages/lightning/pytorch/utilities/data.py:78: UserWarning:\n",
       "\n",
       "Trying to infer the `batch_size` from an ambiguous collection. The batch size we found is 3426. To avoid any \n",
       "miscalculations, use `self.log(..., batch_size=batch_size)`.\n",
       "\n"
      ]
     },
     "metadata": {},
     "output_type": "display_data"
    },
    {
     "data": {
      "text/html": [
       "<pre style=\"white-space:pre;overflow-x:auto;line-height:normal;font-family:Menlo,'DejaVu Sans Mono',consolas,'Courier New',monospace\">/home/zhang/miniconda3/envs/3d/lib/python3.10/site-packages/lightning/pytorch/utilities/data.py:78: UserWarning:\n",
       "\n",
       "Trying to infer the `batch_size` from an ambiguous collection. The batch size we found is 3987. To avoid any \n",
       "miscalculations, use `self.log(..., batch_size=batch_size)`.\n",
       "\n",
       "</pre>\n"
      ],
      "text/plain": [
       "/home/zhang/miniconda3/envs/3d/lib/python3.10/site-packages/lightning/pytorch/utilities/data.py:78: UserWarning:\n",
       "\n",
       "Trying to infer the `batch_size` from an ambiguous collection. The batch size we found is 3987. To avoid any \n",
       "miscalculations, use `self.log(..., batch_size=batch_size)`.\n",
       "\n"
      ]
     },
     "metadata": {},
     "output_type": "display_data"
    },
    {
     "data": {
      "text/html": [
       "<pre style=\"white-space:pre;overflow-x:auto;line-height:normal;font-family:Menlo,'DejaVu Sans Mono',consolas,'Courier New',monospace\">/home/zhang/miniconda3/envs/3d/lib/python3.10/site-packages/lightning/pytorch/utilities/data.py:78: UserWarning:\n",
       "\n",
       "Trying to infer the `batch_size` from an ambiguous collection. The batch size we found is 8411. To avoid any \n",
       "miscalculations, use `self.log(..., batch_size=batch_size)`.\n",
       "\n",
       "</pre>\n"
      ],
      "text/plain": [
       "/home/zhang/miniconda3/envs/3d/lib/python3.10/site-packages/lightning/pytorch/utilities/data.py:78: UserWarning:\n",
       "\n",
       "Trying to infer the `batch_size` from an ambiguous collection. The batch size we found is 8411. To avoid any \n",
       "miscalculations, use `self.log(..., batch_size=batch_size)`.\n",
       "\n"
      ]
     },
     "metadata": {},
     "output_type": "display_data"
    },
    {
     "data": {
      "text/html": [
       "<pre style=\"white-space:pre;overflow-x:auto;line-height:normal;font-family:Menlo,'DejaVu Sans Mono',consolas,'Courier New',monospace\">/home/zhang/miniconda3/envs/3d/lib/python3.10/site-packages/lightning/pytorch/utilities/data.py:78: UserWarning:\n",
       "\n",
       "Trying to infer the `batch_size` from an ambiguous collection. The batch size we found is 3732. To avoid any \n",
       "miscalculations, use `self.log(..., batch_size=batch_size)`.\n",
       "\n",
       "</pre>\n"
      ],
      "text/plain": [
       "/home/zhang/miniconda3/envs/3d/lib/python3.10/site-packages/lightning/pytorch/utilities/data.py:78: UserWarning:\n",
       "\n",
       "Trying to infer the `batch_size` from an ambiguous collection. The batch size we found is 3732. To avoid any \n",
       "miscalculations, use `self.log(..., batch_size=batch_size)`.\n",
       "\n"
      ]
     },
     "metadata": {},
     "output_type": "display_data"
    },
    {
     "data": {
      "text/html": [
       "<pre style=\"white-space:pre;overflow-x:auto;line-height:normal;font-family:Menlo,'DejaVu Sans Mono',consolas,'Courier New',monospace\">/home/zhang/miniconda3/envs/3d/lib/python3.10/site-packages/lightning/pytorch/utilities/data.py:78: UserWarning:\n",
       "\n",
       "Trying to infer the `batch_size` from an ambiguous collection. The batch size we found is 10321. To avoid any \n",
       "miscalculations, use `self.log(..., batch_size=batch_size)`.\n",
       "\n",
       "</pre>\n"
      ],
      "text/plain": [
       "/home/zhang/miniconda3/envs/3d/lib/python3.10/site-packages/lightning/pytorch/utilities/data.py:78: UserWarning:\n",
       "\n",
       "Trying to infer the `batch_size` from an ambiguous collection. The batch size we found is 10321. To avoid any \n",
       "miscalculations, use `self.log(..., batch_size=batch_size)`.\n",
       "\n"
      ]
     },
     "metadata": {},
     "output_type": "display_data"
    },
    {
     "data": {
      "text/html": [
       "<pre style=\"white-space:pre;overflow-x:auto;line-height:normal;font-family:Menlo,'DejaVu Sans Mono',consolas,'Courier New',monospace\">/home/zhang/miniconda3/envs/3d/lib/python3.10/site-packages/lightning/pytorch/utilities/data.py:78: UserWarning:\n",
       "\n",
       "Trying to infer the `batch_size` from an ambiguous collection. The batch size we found is 7845. To avoid any \n",
       "miscalculations, use `self.log(..., batch_size=batch_size)`.\n",
       "\n",
       "</pre>\n"
      ],
      "text/plain": [
       "/home/zhang/miniconda3/envs/3d/lib/python3.10/site-packages/lightning/pytorch/utilities/data.py:78: UserWarning:\n",
       "\n",
       "Trying to infer the `batch_size` from an ambiguous collection. The batch size we found is 7845. To avoid any \n",
       "miscalculations, use `self.log(..., batch_size=batch_size)`.\n",
       "\n"
      ]
     },
     "metadata": {},
     "output_type": "display_data"
    },
    {
     "data": {
      "text/html": [
       "<pre style=\"white-space:pre;overflow-x:auto;line-height:normal;font-family:Menlo,'DejaVu Sans Mono',consolas,'Courier New',monospace\">/home/zhang/miniconda3/envs/3d/lib/python3.10/site-packages/lightning/pytorch/utilities/data.py:78: UserWarning:\n",
       "\n",
       "Trying to infer the `batch_size` from an ambiguous collection. The batch size we found is 5477. To avoid any \n",
       "miscalculations, use `self.log(..., batch_size=batch_size)`.\n",
       "\n",
       "</pre>\n"
      ],
      "text/plain": [
       "/home/zhang/miniconda3/envs/3d/lib/python3.10/site-packages/lightning/pytorch/utilities/data.py:78: UserWarning:\n",
       "\n",
       "Trying to infer the `batch_size` from an ambiguous collection. The batch size we found is 5477. To avoid any \n",
       "miscalculations, use `self.log(..., batch_size=batch_size)`.\n",
       "\n"
      ]
     },
     "metadata": {},
     "output_type": "display_data"
    },
    {
     "data": {
      "text/html": [
       "<pre style=\"white-space:pre;overflow-x:auto;line-height:normal;font-family:Menlo,'DejaVu Sans Mono',consolas,'Courier New',monospace\">/home/zhang/miniconda3/envs/3d/lib/python3.10/site-packages/lightning/pytorch/utilities/data.py:78: UserWarning:\n",
       "\n",
       "Trying to infer the `batch_size` from an ambiguous collection. The batch size we found is 6728. To avoid any \n",
       "miscalculations, use `self.log(..., batch_size=batch_size)`.\n",
       "\n",
       "</pre>\n"
      ],
      "text/plain": [
       "/home/zhang/miniconda3/envs/3d/lib/python3.10/site-packages/lightning/pytorch/utilities/data.py:78: UserWarning:\n",
       "\n",
       "Trying to infer the `batch_size` from an ambiguous collection. The batch size we found is 6728. To avoid any \n",
       "miscalculations, use `self.log(..., batch_size=batch_size)`.\n",
       "\n"
      ]
     },
     "metadata": {},
     "output_type": "display_data"
    },
    {
     "data": {
      "text/html": [
       "<pre style=\"white-space:pre;overflow-x:auto;line-height:normal;font-family:Menlo,'DejaVu Sans Mono',consolas,'Courier New',monospace\">/home/zhang/miniconda3/envs/3d/lib/python3.10/site-packages/lightning/pytorch/utilities/data.py:78: UserWarning:\n",
       "\n",
       "Trying to infer the `batch_size` from an ambiguous collection. The batch size we found is 5986. To avoid any \n",
       "miscalculations, use `self.log(..., batch_size=batch_size)`.\n",
       "\n",
       "</pre>\n"
      ],
      "text/plain": [
       "/home/zhang/miniconda3/envs/3d/lib/python3.10/site-packages/lightning/pytorch/utilities/data.py:78: UserWarning:\n",
       "\n",
       "Trying to infer the `batch_size` from an ambiguous collection. The batch size we found is 5986. To avoid any \n",
       "miscalculations, use `self.log(..., batch_size=batch_size)`.\n",
       "\n"
      ]
     },
     "metadata": {},
     "output_type": "display_data"
    },
    {
     "data": {
      "text/html": [
       "<pre style=\"white-space:pre;overflow-x:auto;line-height:normal;font-family:Menlo,'DejaVu Sans Mono',consolas,'Courier New',monospace\">/home/zhang/miniconda3/envs/3d/lib/python3.10/site-packages/lightning/pytorch/utilities/data.py:78: UserWarning:\n",
       "\n",
       "Trying to infer the `batch_size` from an ambiguous collection. The batch size we found is 3457. To avoid any \n",
       "miscalculations, use `self.log(..., batch_size=batch_size)`.\n",
       "\n",
       "</pre>\n"
      ],
      "text/plain": [
       "/home/zhang/miniconda3/envs/3d/lib/python3.10/site-packages/lightning/pytorch/utilities/data.py:78: UserWarning:\n",
       "\n",
       "Trying to infer the `batch_size` from an ambiguous collection. The batch size we found is 3457. To avoid any \n",
       "miscalculations, use `self.log(..., batch_size=batch_size)`.\n",
       "\n"
      ]
     },
     "metadata": {},
     "output_type": "display_data"
    },
    {
     "data": {
      "text/html": [
       "<pre style=\"white-space:pre;overflow-x:auto;line-height:normal;font-family:Menlo,'DejaVu Sans Mono',consolas,'Courier New',monospace\">/home/zhang/miniconda3/envs/3d/lib/python3.10/site-packages/lightning/pytorch/utilities/data.py:78: UserWarning:\n",
       "\n",
       "Trying to infer the `batch_size` from an ambiguous collection. The batch size we found is 3036. To avoid any \n",
       "miscalculations, use `self.log(..., batch_size=batch_size)`.\n",
       "\n",
       "</pre>\n"
      ],
      "text/plain": [
       "/home/zhang/miniconda3/envs/3d/lib/python3.10/site-packages/lightning/pytorch/utilities/data.py:78: UserWarning:\n",
       "\n",
       "Trying to infer the `batch_size` from an ambiguous collection. The batch size we found is 3036. To avoid any \n",
       "miscalculations, use `self.log(..., batch_size=batch_size)`.\n",
       "\n"
      ]
     },
     "metadata": {},
     "output_type": "display_data"
    },
    {
     "data": {
      "text/html": [
       "<pre style=\"white-space:pre;overflow-x:auto;line-height:normal;font-family:Menlo,'DejaVu Sans Mono',consolas,'Courier New',monospace\">/home/zhang/miniconda3/envs/3d/lib/python3.10/site-packages/lightning/pytorch/utilities/data.py:78: UserWarning:\n",
       "\n",
       "Trying to infer the `batch_size` from an ambiguous collection. The batch size we found is 3632. To avoid any \n",
       "miscalculations, use `self.log(..., batch_size=batch_size)`.\n",
       "\n",
       "</pre>\n"
      ],
      "text/plain": [
       "/home/zhang/miniconda3/envs/3d/lib/python3.10/site-packages/lightning/pytorch/utilities/data.py:78: UserWarning:\n",
       "\n",
       "Trying to infer the `batch_size` from an ambiguous collection. The batch size we found is 3632. To avoid any \n",
       "miscalculations, use `self.log(..., batch_size=batch_size)`.\n",
       "\n"
      ]
     },
     "metadata": {},
     "output_type": "display_data"
    },
    {
     "data": {
      "text/html": [
       "<pre style=\"white-space:pre;overflow-x:auto;line-height:normal;font-family:Menlo,'DejaVu Sans Mono',consolas,'Courier New',monospace\">/home/zhang/miniconda3/envs/3d/lib/python3.10/site-packages/lightning/pytorch/utilities/data.py:78: UserWarning:\n",
       "\n",
       "Trying to infer the `batch_size` from an ambiguous collection. The batch size we found is 3767. To avoid any \n",
       "miscalculations, use `self.log(..., batch_size=batch_size)`.\n",
       "\n",
       "</pre>\n"
      ],
      "text/plain": [
       "/home/zhang/miniconda3/envs/3d/lib/python3.10/site-packages/lightning/pytorch/utilities/data.py:78: UserWarning:\n",
       "\n",
       "Trying to infer the `batch_size` from an ambiguous collection. The batch size we found is 3767. To avoid any \n",
       "miscalculations, use `self.log(..., batch_size=batch_size)`.\n",
       "\n"
      ]
     },
     "metadata": {},
     "output_type": "display_data"
    },
    {
     "data": {
      "text/html": [
       "<pre style=\"white-space:pre;overflow-x:auto;line-height:normal;font-family:Menlo,'DejaVu Sans Mono',consolas,'Courier New',monospace\">/home/zhang/miniconda3/envs/3d/lib/python3.10/site-packages/lightning/pytorch/utilities/data.py:78: UserWarning:\n",
       "\n",
       "Trying to infer the `batch_size` from an ambiguous collection. The batch size we found is 4354. To avoid any \n",
       "miscalculations, use `self.log(..., batch_size=batch_size)`.\n",
       "\n",
       "</pre>\n"
      ],
      "text/plain": [
       "/home/zhang/miniconda3/envs/3d/lib/python3.10/site-packages/lightning/pytorch/utilities/data.py:78: UserWarning:\n",
       "\n",
       "Trying to infer the `batch_size` from an ambiguous collection. The batch size we found is 4354. To avoid any \n",
       "miscalculations, use `self.log(..., batch_size=batch_size)`.\n",
       "\n"
      ]
     },
     "metadata": {},
     "output_type": "display_data"
    },
    {
     "data": {
      "text/html": [
       "<pre style=\"white-space:pre;overflow-x:auto;line-height:normal;font-family:Menlo,'DejaVu Sans Mono',consolas,'Courier New',monospace\">/home/zhang/miniconda3/envs/3d/lib/python3.10/site-packages/lightning/pytorch/utilities/data.py:78: UserWarning:\n",
       "\n",
       "Trying to infer the `batch_size` from an ambiguous collection. The batch size we found is 2052. To avoid any \n",
       "miscalculations, use `self.log(..., batch_size=batch_size)`.\n",
       "\n",
       "</pre>\n"
      ],
      "text/plain": [
       "/home/zhang/miniconda3/envs/3d/lib/python3.10/site-packages/lightning/pytorch/utilities/data.py:78: UserWarning:\n",
       "\n",
       "Trying to infer the `batch_size` from an ambiguous collection. The batch size we found is 2052. To avoid any \n",
       "miscalculations, use `self.log(..., batch_size=batch_size)`.\n",
       "\n"
      ]
     },
     "metadata": {},
     "output_type": "display_data"
    },
    {
     "data": {
      "text/html": [
       "<pre style=\"white-space:pre;overflow-x:auto;line-height:normal;font-family:Menlo,'DejaVu Sans Mono',consolas,'Courier New',monospace\">/home/zhang/miniconda3/envs/3d/lib/python3.10/site-packages/lightning/pytorch/utilities/data.py:78: UserWarning:\n",
       "\n",
       "Trying to infer the `batch_size` from an ambiguous collection. The batch size we found is 992. To avoid any \n",
       "miscalculations, use `self.log(..., batch_size=batch_size)`.\n",
       "\n",
       "</pre>\n"
      ],
      "text/plain": [
       "/home/zhang/miniconda3/envs/3d/lib/python3.10/site-packages/lightning/pytorch/utilities/data.py:78: UserWarning:\n",
       "\n",
       "Trying to infer the `batch_size` from an ambiguous collection. The batch size we found is 992. To avoid any \n",
       "miscalculations, use `self.log(..., batch_size=batch_size)`.\n",
       "\n"
      ]
     },
     "metadata": {},
     "output_type": "display_data"
    },
    {
     "data": {
      "text/html": [
       "<pre style=\"white-space:pre;overflow-x:auto;line-height:normal;font-family:Menlo,'DejaVu Sans Mono',consolas,'Courier New',monospace\">┏━━━━━━━━━━━━━━━━━━━━━━━━━━━┳━━━━━━━━━━━━━━━━━━━━━━━━━━━┓\n",
       "┃<span style=\"font-weight: bold\">        Test metric        </span>┃<span style=\"font-weight: bold\">       DataLoader 0        </span>┃\n",
       "┡━━━━━━━━━━━━━━━━━━━━━━━━━━━╇━━━━━━━━━━━━━━━━━━━━━━━━━━━┩\n",
       "│<span style=\"color: #008080; text-decoration-color: #008080\"> test/graph_label/accuracy </span>│<span style=\"color: #800080; text-decoration-color: #800080\">    0.2537887990474701     </span>│\n",
       "│<span style=\"color: #008080; text-decoration-color: #008080\">  test/graph_label/f1_max  </span>│<span style=\"color: #800080; text-decoration-color: #800080\">    0.3141167163848877     </span>│\n",
       "│<span style=\"color: #008080; text-decoration-color: #008080\"> test/graph_label/f1_score </span>│<span style=\"color: #800080; text-decoration-color: #800080\">    0.06338430196046829    </span>│\n",
       "│<span style=\"color: #008080; text-decoration-color: #008080\">   test/loss/graph_label   </span>│<span style=\"color: #800080; text-decoration-color: #800080\">     14.93702507019043     </span>│\n",
       "│<span style=\"color: #008080; text-decoration-color: #008080\">      test/loss/total      </span>│<span style=\"color: #800080; text-decoration-color: #800080\">     14.93702507019043     </span>│\n",
       "└───────────────────────────┴───────────────────────────┘\n",
       "</pre>\n"
      ],
      "text/plain": [
       "┏━━━━━━━━━━━━━━━━━━━━━━━━━━━┳━━━━━━━━━━━━━━━━━━━━━━━━━━━┓\n",
       "┃\u001b[1m \u001b[0m\u001b[1m       Test metric       \u001b[0m\u001b[1m \u001b[0m┃\u001b[1m \u001b[0m\u001b[1m      DataLoader 0       \u001b[0m\u001b[1m \u001b[0m┃\n",
       "┡━━━━━━━━━━━━━━━━━━━━━━━━━━━╇━━━━━━━━━━━━━━━━━━━━━━━━━━━┩\n",
       "│\u001b[36m \u001b[0m\u001b[36mtest/graph_label/accuracy\u001b[0m\u001b[36m \u001b[0m│\u001b[35m \u001b[0m\u001b[35m   0.2537887990474701    \u001b[0m\u001b[35m \u001b[0m│\n",
       "│\u001b[36m \u001b[0m\u001b[36m test/graph_label/f1_max \u001b[0m\u001b[36m \u001b[0m│\u001b[35m \u001b[0m\u001b[35m   0.3141167163848877    \u001b[0m\u001b[35m \u001b[0m│\n",
       "│\u001b[36m \u001b[0m\u001b[36mtest/graph_label/f1_score\u001b[0m\u001b[36m \u001b[0m│\u001b[35m \u001b[0m\u001b[35m   0.06338430196046829   \u001b[0m\u001b[35m \u001b[0m│\n",
       "│\u001b[36m \u001b[0m\u001b[36m  test/loss/graph_label  \u001b[0m\u001b[36m \u001b[0m│\u001b[35m \u001b[0m\u001b[35m    14.93702507019043    \u001b[0m\u001b[35m \u001b[0m│\n",
       "│\u001b[36m \u001b[0m\u001b[36m     test/loss/total     \u001b[0m\u001b[36m \u001b[0m│\u001b[35m \u001b[0m\u001b[35m    14.93702507019043    \u001b[0m\u001b[35m \u001b[0m│\n",
       "└───────────────────────────┴───────────────────────────┘\n"
      ]
     },
     "metadata": {},
     "output_type": "display_data"
    },
    {
     "data": {
      "text/html": [
       "<pre style=\"white-space:pre;overflow-x:auto;line-height:normal;font-family:Menlo,'DejaVu Sans Mono',consolas,'Courier New',monospace\"></pre>\n"
      ],
      "text/plain": []
     },
     "metadata": {},
     "output_type": "display_data"
    },
    {
     "data": {
      "text/html": [
       "<pre style=\"white-space:pre;overflow-x:auto;line-height:normal;font-family:Menlo,'DejaVu Sans Mono',consolas,'Courier New',monospace\">\n",
       "</pre>\n"
      ],
      "text/plain": [
       "\n"
      ]
     },
     "metadata": {},
     "output_type": "display_data"
    },
    {
     "data": {
      "text/html": [
       "<pre style=\"white-space:pre;overflow-x:auto;line-height:normal;font-family:Menlo,'DejaVu Sans Mono',consolas,'Courier New',monospace\"><span style=\"color: #7fbfbf; text-decoration-color: #7fbfbf\">[07/28/24 17:55:51] </span><span style=\"color: #000080; text-decoration-color: #000080\">INFO    </span> fold: <span style=\"font-weight: bold\">{</span><span style=\"color: #008000; text-decoration-color: #008000\">'test/loss/graph_label/fold'</span>: <span style=\"color: #008080; text-decoration-color: #008080; font-weight: bold\">14.93702507019043</span>,                   <a href=\"file:///home/zhang/Projects/3d/ProteinWorkshop/proteinworkshop/train.py\" target=\"_blank\"><span style=\"color: #7f7f7f; text-decoration-color: #7f7f7f\">train.py</span></a><span style=\"color: #7f7f7f; text-decoration-color: #7f7f7f\">:</span><a href=\"file:///home/zhang/Projects/3d/ProteinWorkshop/proteinworkshop/train.py#204\" target=\"_blank\"><span style=\"color: #7f7f7f; text-decoration-color: #7f7f7f\">204</span></a>\n",
       "<span style=\"color: #7fbfbf; text-decoration-color: #7fbfbf\">                    </span>         <span style=\"color: #008000; text-decoration-color: #008000\">'test/loss/total/fold'</span>: <span style=\"color: #008080; text-decoration-color: #008080; font-weight: bold\">14.93702507019043</span>,                                <span style=\"color: #7f7f7f; text-decoration-color: #7f7f7f\">            </span>\n",
       "<span style=\"color: #7fbfbf; text-decoration-color: #7fbfbf\">                    </span>         <span style=\"color: #008000; text-decoration-color: #008000\">'test/graph_label/accuracy/fold'</span>: <span style=\"color: #008080; text-decoration-color: #008080; font-weight: bold\">0.2537887990474701</span>,                     <span style=\"color: #7f7f7f; text-decoration-color: #7f7f7f\">            </span>\n",
       "<span style=\"color: #7fbfbf; text-decoration-color: #7fbfbf\">                    </span>         <span style=\"color: #008000; text-decoration-color: #008000\">'test/graph_label/f1_score/fold'</span>: <span style=\"color: #008080; text-decoration-color: #008080; font-weight: bold\">0.06338430196046829</span>,                    <span style=\"color: #7f7f7f; text-decoration-color: #7f7f7f\">            </span>\n",
       "<span style=\"color: #7fbfbf; text-decoration-color: #7fbfbf\">                    </span>         <span style=\"color: #008000; text-decoration-color: #008000\">'test/graph_label/f1_max/fold'</span>: <span style=\"color: #008080; text-decoration-color: #008080; font-weight: bold\">0.3141167163848877</span><span style=\"font-weight: bold\">}</span>                       <span style=\"color: #7f7f7f; text-decoration-color: #7f7f7f\">            </span>\n",
       "</pre>\n"
      ],
      "text/plain": [
       "\u001b[2;36m[07/28/24 17:55:51]\u001b[0m\u001b[2;36m \u001b[0m\u001b[34mINFO    \u001b[0m fold: \u001b[1m{\u001b[0m\u001b[32m'test/loss/graph_label/fold'\u001b[0m: \u001b[1;36m14.93702507019043\u001b[0m,                   \u001b]8;id=829829;file:///home/zhang/Projects/3d/ProteinWorkshop/proteinworkshop/train.py\u001b\\\u001b[2mtrain.py\u001b[0m\u001b]8;;\u001b\\\u001b[2m:\u001b[0m\u001b]8;id=52779;file:///home/zhang/Projects/3d/ProteinWorkshop/proteinworkshop/train.py#204\u001b\\\u001b[2m204\u001b[0m\u001b]8;;\u001b\\\n",
       "\u001b[2;36m                    \u001b[0m         \u001b[32m'test/loss/total/fold'\u001b[0m: \u001b[1;36m14.93702507019043\u001b[0m,                                \u001b[2m            \u001b[0m\n",
       "\u001b[2;36m                    \u001b[0m         \u001b[32m'test/graph_label/accuracy/fold'\u001b[0m: \u001b[1;36m0.2537887990474701\u001b[0m,                     \u001b[2m            \u001b[0m\n",
       "\u001b[2;36m                    \u001b[0m         \u001b[32m'test/graph_label/f1_score/fold'\u001b[0m: \u001b[1;36m0.06338430196046829\u001b[0m,                    \u001b[2m            \u001b[0m\n",
       "\u001b[2;36m                    \u001b[0m         \u001b[32m'test/graph_label/f1_max/fold'\u001b[0m: \u001b[1;36m0.3141167163848877\u001b[0m\u001b[1m}\u001b[0m                       \u001b[2m            \u001b[0m\n"
      ]
     },
     "metadata": {},
     "output_type": "display_data"
    },
    {
     "data": {
      "text/html": [
       "<pre style=\"white-space:pre;overflow-x:auto;line-height:normal;font-family:Menlo,'DejaVu Sans Mono',consolas,'Courier New',monospace\"><span style=\"color: #7fbfbf; text-decoration-color: #7fbfbf\">                    </span><span style=\"color: #000080; text-decoration-color: #000080\">INFO    </span> Testing on family <span style=\"font-weight: bold\">(</span><span style=\"color: #008080; text-decoration-color: #008080; font-weight: bold\">2</span> <span style=\"color: #800080; text-decoration-color: #800080\">/</span> <span style=\"color: #008080; text-decoration-color: #008080; font-weight: bold\">3</span><span style=\"font-weight: bold\">)</span><span style=\"color: #808000; text-decoration-color: #808000\">...</span>                                              <a href=\"file:///home/zhang/Projects/3d/ProteinWorkshop/proteinworkshop/train.py\" target=\"_blank\"><span style=\"color: #7f7f7f; text-decoration-color: #7f7f7f\">train.py</span></a><span style=\"color: #7f7f7f; text-decoration-color: #7f7f7f\">:</span><a href=\"file:///home/zhang/Projects/3d/ProteinWorkshop/proteinworkshop/train.py#194\" target=\"_blank\"><span style=\"color: #7f7f7f; text-decoration-color: #7f7f7f\">194</span></a>\n",
       "</pre>\n"
      ],
      "text/plain": [
       "\u001b[2;36m                   \u001b[0m\u001b[2;36m \u001b[0m\u001b[34mINFO    \u001b[0m Testing on family \u001b[1m(\u001b[0m\u001b[1;36m2\u001b[0m \u001b[35m/\u001b[0m \u001b[1;36m3\u001b[0m\u001b[1m)\u001b[0m\u001b[33m...\u001b[0m                                              \u001b]8;id=932936;file:///home/zhang/Projects/3d/ProteinWorkshop/proteinworkshop/train.py\u001b\\\u001b[2mtrain.py\u001b[0m\u001b]8;;\u001b\\\u001b[2m:\u001b[0m\u001b]8;id=79225;file:///home/zhang/Projects/3d/ProteinWorkshop/proteinworkshop/train.py#194\u001b\\\u001b[2m194\u001b[0m\u001b]8;;\u001b\\\n"
      ]
     },
     "metadata": {},
     "output_type": "display_data"
    },
    {
     "data": {
      "text/html": [
       "<pre style=\"white-space:pre;overflow-x:auto;line-height:normal;font-family:Menlo,'DejaVu Sans Mono',consolas,'Courier New',monospace\"><span style=\"color: #7fbfbf; text-decoration-color: #7fbfbf\">                    </span><span style=\"color: #000080; text-decoration-color: #000080\">INFO    </span> Downloading Protein Function. Fraction <span style=\"color: #008080; text-decoration-color: #008080; font-weight: bold\">1.0</span>                   <a href=\"file:///home/zhang/Projects/3d/ProteinWorkshop/proteinworkshop/datasets/fold_classification.py\" target=\"_blank\"><span style=\"color: #7f7f7f; text-decoration-color: #7f7f7f\">fold_classification.py</span></a><span style=\"color: #7f7f7f; text-decoration-color: #7f7f7f\">:</span><a href=\"file:///home/zhang/Projects/3d/ProteinWorkshop/proteinworkshop/datasets/fold_classification.py#86\" target=\"_blank\"><span style=\"color: #7f7f7f; text-decoration-color: #7f7f7f\">86</span></a>\n",
       "</pre>\n"
      ],
      "text/plain": [
       "\u001b[2;36m                   \u001b[0m\u001b[2;36m \u001b[0m\u001b[34mINFO    \u001b[0m Downloading Protein Function. Fraction \u001b[1;36m1.0\u001b[0m                   \u001b]8;id=161764;file:///home/zhang/Projects/3d/ProteinWorkshop/proteinworkshop/datasets/fold_classification.py\u001b\\\u001b[2mfold_classification.py\u001b[0m\u001b]8;;\u001b\\\u001b[2m:\u001b[0m\u001b]8;id=696582;file:///home/zhang/Projects/3d/ProteinWorkshop/proteinworkshop/datasets/fold_classification.py#86\u001b\\\u001b[2m86\u001b[0m\u001b]8;;\u001b\\\n"
      ]
     },
     "metadata": {},
     "output_type": "display_data"
    },
    {
     "data": {
      "text/html": [
       "<pre style=\"white-space:pre;overflow-x:auto;line-height:normal;font-family:Menlo,'DejaVu Sans Mono',consolas,'Courier New',monospace\"><span style=\"color: #7fbfbf; text-decoration-color: #7fbfbf\">                    </span><span style=\"color: #000080; text-decoration-color: #000080\">INFO    </span> Found SCOP structure tarfile in:                            <a href=\"file:///home/zhang/Projects/3d/ProteinWorkshop/proteinworkshop/datasets/fold_classification.py\" target=\"_blank\"><span style=\"color: #7f7f7f; text-decoration-color: #7f7f7f\">fold_classification.py</span></a><span style=\"color: #7f7f7f; text-decoration-color: #7f7f7f\">:</span><a href=\"file:///home/zhang/Projects/3d/ProteinWorkshop/proteinworkshop/datasets/fold_classification.py#138\" target=\"_blank\"><span style=\"color: #7f7f7f; text-decoration-color: #7f7f7f\">138</span></a>\n",
       "<span style=\"color: #7fbfbf; text-decoration-color: #7fbfbf\">                    </span>         <span style=\"color: #800080; text-decoration-color: #800080\">/home/zhang/Projects/3d/ProteinWorkshop/proteinworkshop/dat</span> <span style=\"color: #7f7f7f; text-decoration-color: #7f7f7f\">                          </span>\n",
       "<span style=\"color: #7fbfbf; text-decoration-color: #7fbfbf\">                    </span>         <span style=\"color: #800080; text-decoration-color: #800080\">a/FoldClassification/</span><span style=\"color: #ff00ff; text-decoration-color: #ff00ff\">pdbstyle-sel-gs-bib-95-1.75.tgz</span>        <span style=\"color: #7f7f7f; text-decoration-color: #7f7f7f\">                          </span>\n",
       "</pre>\n"
      ],
      "text/plain": [
       "\u001b[2;36m                   \u001b[0m\u001b[2;36m \u001b[0m\u001b[34mINFO    \u001b[0m Found SCOP structure tarfile in:                            \u001b]8;id=335072;file:///home/zhang/Projects/3d/ProteinWorkshop/proteinworkshop/datasets/fold_classification.py\u001b\\\u001b[2mfold_classification.py\u001b[0m\u001b]8;;\u001b\\\u001b[2m:\u001b[0m\u001b]8;id=848667;file:///home/zhang/Projects/3d/ProteinWorkshop/proteinworkshop/datasets/fold_classification.py#138\u001b\\\u001b[2m138\u001b[0m\u001b]8;;\u001b\\\n",
       "\u001b[2;36m                    \u001b[0m         \u001b[35m/home/zhang/Projects/3d/ProteinWorkshop/proteinworkshop/dat\u001b[0m \u001b[2m                          \u001b[0m\n",
       "\u001b[2;36m                    \u001b[0m         \u001b[35ma/FoldClassification/\u001b[0m\u001b[95mpdbstyle-sel-gs-bib-95-1.75.tgz\u001b[0m        \u001b[2m                          \u001b[0m\n"
      ]
     },
     "metadata": {},
     "output_type": "display_data"
    },
    {
     "data": {
      "text/html": [
       "<pre style=\"white-space:pre;overflow-x:auto;line-height:normal;font-family:Menlo,'DejaVu Sans Mono',consolas,'Courier New',monospace\"><span style=\"color: #7fbfbf; text-decoration-color: #7fbfbf\">                    </span><span style=\"color: #000080; text-decoration-color: #000080\">INFO    </span> Found SCOPe structures in:                                  <a href=\"file:///home/zhang/Projects/3d/ProteinWorkshop/proteinworkshop/datasets/fold_classification.py\" target=\"_blank\"><span style=\"color: #7f7f7f; text-decoration-color: #7f7f7f\">fold_classification.py</span></a><span style=\"color: #7f7f7f; text-decoration-color: #7f7f7f\">:</span><a href=\"file:///home/zhang/Projects/3d/ProteinWorkshop/proteinworkshop/datasets/fold_classification.py#151\" target=\"_blank\"><span style=\"color: #7f7f7f; text-decoration-color: #7f7f7f\">151</span></a>\n",
       "</pre>\n"
      ],
      "text/plain": [
       "\u001b[2;36m                   \u001b[0m\u001b[2;36m \u001b[0m\u001b[34mINFO    \u001b[0m Found SCOPe structures in:                                  \u001b]8;id=451195;file:///home/zhang/Projects/3d/ProteinWorkshop/proteinworkshop/datasets/fold_classification.py\u001b\\\u001b[2mfold_classification.py\u001b[0m\u001b]8;;\u001b\\\u001b[2m:\u001b[0m\u001b]8;id=230915;file:///home/zhang/Projects/3d/ProteinWorkshop/proteinworkshop/datasets/fold_classification.py#151\u001b\\\u001b[2m151\u001b[0m\u001b]8;;\u001b\\\n"
      ]
     },
     "metadata": {},
     "output_type": "display_data"
    },
    {
     "data": {
      "text/html": [
       "<pre style=\"white-space:pre;overflow-x:auto;line-height:normal;font-family:Menlo,'DejaVu Sans Mono',consolas,'Courier New',monospace\"><span style=\"color: #7fbfbf; text-decoration-color: #7fbfbf\">                    </span><span style=\"color: #000080; text-decoration-color: #000080\">INFO    </span> Preprocessing test data                                                     <a href=\"file:///home/zhang/Projects/3d/ProteinWorkshop/proteinworkshop/datasets/base.py\" target=\"_blank\"><span style=\"color: #7f7f7f; text-decoration-color: #7f7f7f\">base.py</span></a><span style=\"color: #7f7f7f; text-decoration-color: #7f7f7f\">:</span><a href=\"file:///home/zhang/Projects/3d/ProteinWorkshop/proteinworkshop/datasets/base.py#92\" target=\"_blank\"><span style=\"color: #7f7f7f; text-decoration-color: #7f7f7f\">92</span></a>\n",
       "</pre>\n"
      ],
      "text/plain": [
       "\u001b[2;36m                   \u001b[0m\u001b[2;36m \u001b[0m\u001b[34mINFO    \u001b[0m Preprocessing test data                                                     \u001b]8;id=793277;file:///home/zhang/Projects/3d/ProteinWorkshop/proteinworkshop/datasets/base.py\u001b\\\u001b[2mbase.py\u001b[0m\u001b]8;;\u001b\\\u001b[2m:\u001b[0m\u001b]8;id=211644;file:///home/zhang/Projects/3d/ProteinWorkshop/proteinworkshop/datasets/base.py#92\u001b\\\u001b[2m92\u001b[0m\u001b]8;;\u001b\\\n"
      ]
     },
     "metadata": {},
     "output_type": "display_data"
    },
    {
     "name": "stderr",
     "output_type": "stream",
     "text": [
      "Restoring states from the checkpoint path at /home/zhang/Projects/3d/ProteinWorkshop/notebooks/outputs/checkpoints/epoch_032.ckpt\n",
      "LOCAL_RANK: 0 - CUDA_VISIBLE_DEVICES: [0]\n",
      "Loaded model weights from the checkpoint at /home/zhang/Projects/3d/ProteinWorkshop/notebooks/outputs/checkpoints/epoch_032.ckpt\n"
     ]
    },
    {
     "data": {
      "application/vnd.jupyter.widget-view+json": {
       "model_id": "a89d5826dfc94a04a2c15ca40ad6435f",
       "version_major": 2,
       "version_minor": 0
      },
      "text/plain": [
       "Output()"
      ]
     },
     "metadata": {},
     "output_type": "display_data"
    },
    {
     "data": {
      "text/html": [
       "<pre style=\"white-space:pre;overflow-x:auto;line-height:normal;font-family:Menlo,'DejaVu Sans Mono',consolas,'Courier New',monospace\">/home/zhang/miniconda3/envs/3d/lib/python3.10/site-packages/lightning/pytorch/utilities/data.py:78: UserWarning:\n",
       "\n",
       "Trying to infer the `batch_size` from an ambiguous collection. The batch size we found is 6985. To avoid any \n",
       "miscalculations, use `self.log(..., batch_size=batch_size)`.\n",
       "\n",
       "</pre>\n"
      ],
      "text/plain": [
       "/home/zhang/miniconda3/envs/3d/lib/python3.10/site-packages/lightning/pytorch/utilities/data.py:78: UserWarning:\n",
       "\n",
       "Trying to infer the `batch_size` from an ambiguous collection. The batch size we found is 6985. To avoid any \n",
       "miscalculations, use `self.log(..., batch_size=batch_size)`.\n",
       "\n"
      ]
     },
     "metadata": {},
     "output_type": "display_data"
    },
    {
     "data": {
      "text/html": [
       "<pre style=\"white-space:pre;overflow-x:auto;line-height:normal;font-family:Menlo,'DejaVu Sans Mono',consolas,'Courier New',monospace\">/home/zhang/miniconda3/envs/3d/lib/python3.10/site-packages/lightning/pytorch/utilities/data.py:78: UserWarning:\n",
       "\n",
       "Trying to infer the `batch_size` from an ambiguous collection. The batch size we found is 5486. To avoid any \n",
       "miscalculations, use `self.log(..., batch_size=batch_size)`.\n",
       "\n",
       "</pre>\n"
      ],
      "text/plain": [
       "/home/zhang/miniconda3/envs/3d/lib/python3.10/site-packages/lightning/pytorch/utilities/data.py:78: UserWarning:\n",
       "\n",
       "Trying to infer the `batch_size` from an ambiguous collection. The batch size we found is 5486. To avoid any \n",
       "miscalculations, use `self.log(..., batch_size=batch_size)`.\n",
       "\n"
      ]
     },
     "metadata": {},
     "output_type": "display_data"
    },
    {
     "data": {
      "text/html": [
       "<pre style=\"white-space:pre;overflow-x:auto;line-height:normal;font-family:Menlo,'DejaVu Sans Mono',consolas,'Courier New',monospace\">/home/zhang/miniconda3/envs/3d/lib/python3.10/site-packages/lightning/pytorch/utilities/data.py:78: UserWarning:\n",
       "\n",
       "Trying to infer the `batch_size` from an ambiguous collection. The batch size we found is 4816. To avoid any \n",
       "miscalculations, use `self.log(..., batch_size=batch_size)`.\n",
       "\n",
       "</pre>\n"
      ],
      "text/plain": [
       "/home/zhang/miniconda3/envs/3d/lib/python3.10/site-packages/lightning/pytorch/utilities/data.py:78: UserWarning:\n",
       "\n",
       "Trying to infer the `batch_size` from an ambiguous collection. The batch size we found is 4816. To avoid any \n",
       "miscalculations, use `self.log(..., batch_size=batch_size)`.\n",
       "\n"
      ]
     },
     "metadata": {},
     "output_type": "display_data"
    },
    {
     "data": {
      "text/html": [
       "<pre style=\"white-space:pre;overflow-x:auto;line-height:normal;font-family:Menlo,'DejaVu Sans Mono',consolas,'Courier New',monospace\">/home/zhang/miniconda3/envs/3d/lib/python3.10/site-packages/lightning/pytorch/utilities/data.py:78: UserWarning:\n",
       "\n",
       "Trying to infer the `batch_size` from an ambiguous collection. The batch size we found is 3102. To avoid any \n",
       "miscalculations, use `self.log(..., batch_size=batch_size)`.\n",
       "\n",
       "</pre>\n"
      ],
      "text/plain": [
       "/home/zhang/miniconda3/envs/3d/lib/python3.10/site-packages/lightning/pytorch/utilities/data.py:78: UserWarning:\n",
       "\n",
       "Trying to infer the `batch_size` from an ambiguous collection. The batch size we found is 3102. To avoid any \n",
       "miscalculations, use `self.log(..., batch_size=batch_size)`.\n",
       "\n"
      ]
     },
     "metadata": {},
     "output_type": "display_data"
    },
    {
     "data": {
      "text/html": [
       "<pre style=\"white-space:pre;overflow-x:auto;line-height:normal;font-family:Menlo,'DejaVu Sans Mono',consolas,'Courier New',monospace\">/home/zhang/miniconda3/envs/3d/lib/python3.10/site-packages/lightning/pytorch/utilities/data.py:78: UserWarning:\n",
       "\n",
       "Trying to infer the `batch_size` from an ambiguous collection. The batch size we found is 3682. To avoid any \n",
       "miscalculations, use `self.log(..., batch_size=batch_size)`.\n",
       "\n",
       "</pre>\n"
      ],
      "text/plain": [
       "/home/zhang/miniconda3/envs/3d/lib/python3.10/site-packages/lightning/pytorch/utilities/data.py:78: UserWarning:\n",
       "\n",
       "Trying to infer the `batch_size` from an ambiguous collection. The batch size we found is 3682. To avoid any \n",
       "miscalculations, use `self.log(..., batch_size=batch_size)`.\n",
       "\n"
      ]
     },
     "metadata": {},
     "output_type": "display_data"
    },
    {
     "data": {
      "text/html": [
       "<pre style=\"white-space:pre;overflow-x:auto;line-height:normal;font-family:Menlo,'DejaVu Sans Mono',consolas,'Courier New',monospace\">/home/zhang/miniconda3/envs/3d/lib/python3.10/site-packages/lightning/pytorch/utilities/data.py:78: UserWarning:\n",
       "\n",
       "Trying to infer the `batch_size` from an ambiguous collection. The batch size we found is 4160. To avoid any \n",
       "miscalculations, use `self.log(..., batch_size=batch_size)`.\n",
       "\n",
       "</pre>\n"
      ],
      "text/plain": [
       "/home/zhang/miniconda3/envs/3d/lib/python3.10/site-packages/lightning/pytorch/utilities/data.py:78: UserWarning:\n",
       "\n",
       "Trying to infer the `batch_size` from an ambiguous collection. The batch size we found is 4160. To avoid any \n",
       "miscalculations, use `self.log(..., batch_size=batch_size)`.\n",
       "\n"
      ]
     },
     "metadata": {},
     "output_type": "display_data"
    },
    {
     "data": {
      "text/html": [
       "<pre style=\"white-space:pre;overflow-x:auto;line-height:normal;font-family:Menlo,'DejaVu Sans Mono',consolas,'Courier New',monospace\">/home/zhang/miniconda3/envs/3d/lib/python3.10/site-packages/lightning/pytorch/utilities/data.py:78: UserWarning:\n",
       "\n",
       "Trying to infer the `batch_size` from an ambiguous collection. The batch size we found is 3617. To avoid any \n",
       "miscalculations, use `self.log(..., batch_size=batch_size)`.\n",
       "\n",
       "</pre>\n"
      ],
      "text/plain": [
       "/home/zhang/miniconda3/envs/3d/lib/python3.10/site-packages/lightning/pytorch/utilities/data.py:78: UserWarning:\n",
       "\n",
       "Trying to infer the `batch_size` from an ambiguous collection. The batch size we found is 3617. To avoid any \n",
       "miscalculations, use `self.log(..., batch_size=batch_size)`.\n",
       "\n"
      ]
     },
     "metadata": {},
     "output_type": "display_data"
    },
    {
     "data": {
      "text/html": [
       "<pre style=\"white-space:pre;overflow-x:auto;line-height:normal;font-family:Menlo,'DejaVu Sans Mono',consolas,'Courier New',monospace\">/home/zhang/miniconda3/envs/3d/lib/python3.10/site-packages/lightning/pytorch/utilities/data.py:78: UserWarning:\n",
       "\n",
       "Trying to infer the `batch_size` from an ambiguous collection. The batch size we found is 3657. To avoid any \n",
       "miscalculations, use `self.log(..., batch_size=batch_size)`.\n",
       "\n",
       "</pre>\n"
      ],
      "text/plain": [
       "/home/zhang/miniconda3/envs/3d/lib/python3.10/site-packages/lightning/pytorch/utilities/data.py:78: UserWarning:\n",
       "\n",
       "Trying to infer the `batch_size` from an ambiguous collection. The batch size we found is 3657. To avoid any \n",
       "miscalculations, use `self.log(..., batch_size=batch_size)`.\n",
       "\n"
      ]
     },
     "metadata": {},
     "output_type": "display_data"
    },
    {
     "data": {
      "text/html": [
       "<pre style=\"white-space:pre;overflow-x:auto;line-height:normal;font-family:Menlo,'DejaVu Sans Mono',consolas,'Courier New',monospace\">/home/zhang/miniconda3/envs/3d/lib/python3.10/site-packages/lightning/pytorch/utilities/data.py:78: UserWarning:\n",
       "\n",
       "Trying to infer the `batch_size` from an ambiguous collection. The batch size we found is 3453. To avoid any \n",
       "miscalculations, use `self.log(..., batch_size=batch_size)`.\n",
       "\n",
       "</pre>\n"
      ],
      "text/plain": [
       "/home/zhang/miniconda3/envs/3d/lib/python3.10/site-packages/lightning/pytorch/utilities/data.py:78: UserWarning:\n",
       "\n",
       "Trying to infer the `batch_size` from an ambiguous collection. The batch size we found is 3453. To avoid any \n",
       "miscalculations, use `self.log(..., batch_size=batch_size)`.\n",
       "\n"
      ]
     },
     "metadata": {},
     "output_type": "display_data"
    },
    {
     "data": {
      "text/html": [
       "<pre style=\"white-space:pre;overflow-x:auto;line-height:normal;font-family:Menlo,'DejaVu Sans Mono',consolas,'Courier New',monospace\">/home/zhang/miniconda3/envs/3d/lib/python3.10/site-packages/lightning/pytorch/utilities/data.py:78: UserWarning:\n",
       "\n",
       "Trying to infer the `batch_size` from an ambiguous collection. The batch size we found is 3035. To avoid any \n",
       "miscalculations, use `self.log(..., batch_size=batch_size)`.\n",
       "\n",
       "</pre>\n"
      ],
      "text/plain": [
       "/home/zhang/miniconda3/envs/3d/lib/python3.10/site-packages/lightning/pytorch/utilities/data.py:78: UserWarning:\n",
       "\n",
       "Trying to infer the `batch_size` from an ambiguous collection. The batch size we found is 3035. To avoid any \n",
       "miscalculations, use `self.log(..., batch_size=batch_size)`.\n",
       "\n"
      ]
     },
     "metadata": {},
     "output_type": "display_data"
    },
    {
     "data": {
      "text/html": [
       "<pre style=\"white-space:pre;overflow-x:auto;line-height:normal;font-family:Menlo,'DejaVu Sans Mono',consolas,'Courier New',monospace\">/home/zhang/miniconda3/envs/3d/lib/python3.10/site-packages/lightning/pytorch/utilities/data.py:78: UserWarning:\n",
       "\n",
       "Trying to infer the `batch_size` from an ambiguous collection. The batch size we found is 3296. To avoid any \n",
       "miscalculations, use `self.log(..., batch_size=batch_size)`.\n",
       "\n",
       "</pre>\n"
      ],
      "text/plain": [
       "/home/zhang/miniconda3/envs/3d/lib/python3.10/site-packages/lightning/pytorch/utilities/data.py:78: UserWarning:\n",
       "\n",
       "Trying to infer the `batch_size` from an ambiguous collection. The batch size we found is 3296. To avoid any \n",
       "miscalculations, use `self.log(..., batch_size=batch_size)`.\n",
       "\n"
      ]
     },
     "metadata": {},
     "output_type": "display_data"
    },
    {
     "data": {
      "text/html": [
       "<pre style=\"white-space:pre;overflow-x:auto;line-height:normal;font-family:Menlo,'DejaVu Sans Mono',consolas,'Courier New',monospace\">/home/zhang/miniconda3/envs/3d/lib/python3.10/site-packages/lightning/pytorch/utilities/data.py:78: UserWarning:\n",
       "\n",
       "Trying to infer the `batch_size` from an ambiguous collection. The batch size we found is 6068. To avoid any \n",
       "miscalculations, use `self.log(..., batch_size=batch_size)`.\n",
       "\n",
       "</pre>\n"
      ],
      "text/plain": [
       "/home/zhang/miniconda3/envs/3d/lib/python3.10/site-packages/lightning/pytorch/utilities/data.py:78: UserWarning:\n",
       "\n",
       "Trying to infer the `batch_size` from an ambiguous collection. The batch size we found is 6068. To avoid any \n",
       "miscalculations, use `self.log(..., batch_size=batch_size)`.\n",
       "\n"
      ]
     },
     "metadata": {},
     "output_type": "display_data"
    },
    {
     "data": {
      "text/html": [
       "<pre style=\"white-space:pre;overflow-x:auto;line-height:normal;font-family:Menlo,'DejaVu Sans Mono',consolas,'Courier New',monospace\">/home/zhang/miniconda3/envs/3d/lib/python3.10/site-packages/lightning/pytorch/utilities/data.py:78: UserWarning:\n",
       "\n",
       "Trying to infer the `batch_size` from an ambiguous collection. The batch size we found is 3935. To avoid any \n",
       "miscalculations, use `self.log(..., batch_size=batch_size)`.\n",
       "\n",
       "</pre>\n"
      ],
      "text/plain": [
       "/home/zhang/miniconda3/envs/3d/lib/python3.10/site-packages/lightning/pytorch/utilities/data.py:78: UserWarning:\n",
       "\n",
       "Trying to infer the `batch_size` from an ambiguous collection. The batch size we found is 3935. To avoid any \n",
       "miscalculations, use `self.log(..., batch_size=batch_size)`.\n",
       "\n"
      ]
     },
     "metadata": {},
     "output_type": "display_data"
    },
    {
     "data": {
      "text/html": [
       "<pre style=\"white-space:pre;overflow-x:auto;line-height:normal;font-family:Menlo,'DejaVu Sans Mono',consolas,'Courier New',monospace\">/home/zhang/miniconda3/envs/3d/lib/python3.10/site-packages/lightning/pytorch/utilities/data.py:78: UserWarning:\n",
       "\n",
       "Trying to infer the `batch_size` from an ambiguous collection. The batch size we found is 3696. To avoid any \n",
       "miscalculations, use `self.log(..., batch_size=batch_size)`.\n",
       "\n",
       "</pre>\n"
      ],
      "text/plain": [
       "/home/zhang/miniconda3/envs/3d/lib/python3.10/site-packages/lightning/pytorch/utilities/data.py:78: UserWarning:\n",
       "\n",
       "Trying to infer the `batch_size` from an ambiguous collection. The batch size we found is 3696. To avoid any \n",
       "miscalculations, use `self.log(..., batch_size=batch_size)`.\n",
       "\n"
      ]
     },
     "metadata": {},
     "output_type": "display_data"
    },
    {
     "data": {
      "text/html": [
       "<pre style=\"white-space:pre;overflow-x:auto;line-height:normal;font-family:Menlo,'DejaVu Sans Mono',consolas,'Courier New',monospace\">/home/zhang/miniconda3/envs/3d/lib/python3.10/site-packages/lightning/pytorch/utilities/data.py:78: UserWarning:\n",
       "\n",
       "Trying to infer the `batch_size` from an ambiguous collection. The batch size we found is 4250. To avoid any \n",
       "miscalculations, use `self.log(..., batch_size=batch_size)`.\n",
       "\n",
       "</pre>\n"
      ],
      "text/plain": [
       "/home/zhang/miniconda3/envs/3d/lib/python3.10/site-packages/lightning/pytorch/utilities/data.py:78: UserWarning:\n",
       "\n",
       "Trying to infer the `batch_size` from an ambiguous collection. The batch size we found is 4250. To avoid any \n",
       "miscalculations, use `self.log(..., batch_size=batch_size)`.\n",
       "\n"
      ]
     },
     "metadata": {},
     "output_type": "display_data"
    },
    {
     "data": {
      "text/html": [
       "<pre style=\"white-space:pre;overflow-x:auto;line-height:normal;font-family:Menlo,'DejaVu Sans Mono',consolas,'Courier New',monospace\">/home/zhang/miniconda3/envs/3d/lib/python3.10/site-packages/lightning/pytorch/utilities/data.py:78: UserWarning:\n",
       "\n",
       "Trying to infer the `batch_size` from an ambiguous collection. The batch size we found is 5739. To avoid any \n",
       "miscalculations, use `self.log(..., batch_size=batch_size)`.\n",
       "\n",
       "</pre>\n"
      ],
      "text/plain": [
       "/home/zhang/miniconda3/envs/3d/lib/python3.10/site-packages/lightning/pytorch/utilities/data.py:78: UserWarning:\n",
       "\n",
       "Trying to infer the `batch_size` from an ambiguous collection. The batch size we found is 5739. To avoid any \n",
       "miscalculations, use `self.log(..., batch_size=batch_size)`.\n",
       "\n"
      ]
     },
     "metadata": {},
     "output_type": "display_data"
    },
    {
     "data": {
      "text/html": [
       "<pre style=\"white-space:pre;overflow-x:auto;line-height:normal;font-family:Menlo,'DejaVu Sans Mono',consolas,'Courier New',monospace\">/home/zhang/miniconda3/envs/3d/lib/python3.10/site-packages/lightning/pytorch/utilities/data.py:78: UserWarning:\n",
       "\n",
       "Trying to infer the `batch_size` from an ambiguous collection. The batch size we found is 5699. To avoid any \n",
       "miscalculations, use `self.log(..., batch_size=batch_size)`.\n",
       "\n",
       "</pre>\n"
      ],
      "text/plain": [
       "/home/zhang/miniconda3/envs/3d/lib/python3.10/site-packages/lightning/pytorch/utilities/data.py:78: UserWarning:\n",
       "\n",
       "Trying to infer the `batch_size` from an ambiguous collection. The batch size we found is 5699. To avoid any \n",
       "miscalculations, use `self.log(..., batch_size=batch_size)`.\n",
       "\n"
      ]
     },
     "metadata": {},
     "output_type": "display_data"
    },
    {
     "data": {
      "text/html": [
       "<pre style=\"white-space:pre;overflow-x:auto;line-height:normal;font-family:Menlo,'DejaVu Sans Mono',consolas,'Courier New',monospace\">/home/zhang/miniconda3/envs/3d/lib/python3.10/site-packages/lightning/pytorch/utilities/data.py:78: UserWarning:\n",
       "\n",
       "Trying to infer the `batch_size` from an ambiguous collection. The batch size we found is 5274. To avoid any \n",
       "miscalculations, use `self.log(..., batch_size=batch_size)`.\n",
       "\n",
       "</pre>\n"
      ],
      "text/plain": [
       "/home/zhang/miniconda3/envs/3d/lib/python3.10/site-packages/lightning/pytorch/utilities/data.py:78: UserWarning:\n",
       "\n",
       "Trying to infer the `batch_size` from an ambiguous collection. The batch size we found is 5274. To avoid any \n",
       "miscalculations, use `self.log(..., batch_size=batch_size)`.\n",
       "\n"
      ]
     },
     "metadata": {},
     "output_type": "display_data"
    },
    {
     "data": {
      "text/html": [
       "<pre style=\"white-space:pre;overflow-x:auto;line-height:normal;font-family:Menlo,'DejaVu Sans Mono',consolas,'Courier New',monospace\">/home/zhang/miniconda3/envs/3d/lib/python3.10/site-packages/lightning/pytorch/utilities/data.py:78: UserWarning:\n",
       "\n",
       "Trying to infer the `batch_size` from an ambiguous collection. The batch size we found is 11619. To avoid any \n",
       "miscalculations, use `self.log(..., batch_size=batch_size)`.\n",
       "\n",
       "</pre>\n"
      ],
      "text/plain": [
       "/home/zhang/miniconda3/envs/3d/lib/python3.10/site-packages/lightning/pytorch/utilities/data.py:78: UserWarning:\n",
       "\n",
       "Trying to infer the `batch_size` from an ambiguous collection. The batch size we found is 11619. To avoid any \n",
       "miscalculations, use `self.log(..., batch_size=batch_size)`.\n",
       "\n"
      ]
     },
     "metadata": {},
     "output_type": "display_data"
    },
    {
     "data": {
      "text/html": [
       "<pre style=\"white-space:pre;overflow-x:auto;line-height:normal;font-family:Menlo,'DejaVu Sans Mono',consolas,'Courier New',monospace\">/home/zhang/miniconda3/envs/3d/lib/python3.10/site-packages/lightning/pytorch/utilities/data.py:78: UserWarning:\n",
       "\n",
       "Trying to infer the `batch_size` from an ambiguous collection. The batch size we found is 8532. To avoid any \n",
       "miscalculations, use `self.log(..., batch_size=batch_size)`.\n",
       "\n",
       "</pre>\n"
      ],
      "text/plain": [
       "/home/zhang/miniconda3/envs/3d/lib/python3.10/site-packages/lightning/pytorch/utilities/data.py:78: UserWarning:\n",
       "\n",
       "Trying to infer the `batch_size` from an ambiguous collection. The batch size we found is 8532. To avoid any \n",
       "miscalculations, use `self.log(..., batch_size=batch_size)`.\n",
       "\n"
      ]
     },
     "metadata": {},
     "output_type": "display_data"
    },
    {
     "data": {
      "text/html": [
       "<pre style=\"white-space:pre;overflow-x:auto;line-height:normal;font-family:Menlo,'DejaVu Sans Mono',consolas,'Courier New',monospace\">/home/zhang/miniconda3/envs/3d/lib/python3.10/site-packages/lightning/pytorch/utilities/data.py:78: UserWarning:\n",
       "\n",
       "Trying to infer the `batch_size` from an ambiguous collection. The batch size we found is 5868. To avoid any \n",
       "miscalculations, use `self.log(..., batch_size=batch_size)`.\n",
       "\n",
       "</pre>\n"
      ],
      "text/plain": [
       "/home/zhang/miniconda3/envs/3d/lib/python3.10/site-packages/lightning/pytorch/utilities/data.py:78: UserWarning:\n",
       "\n",
       "Trying to infer the `batch_size` from an ambiguous collection. The batch size we found is 5868. To avoid any \n",
       "miscalculations, use `self.log(..., batch_size=batch_size)`.\n",
       "\n"
      ]
     },
     "metadata": {},
     "output_type": "display_data"
    },
    {
     "data": {
      "text/html": [
       "<pre style=\"white-space:pre;overflow-x:auto;line-height:normal;font-family:Menlo,'DejaVu Sans Mono',consolas,'Courier New',monospace\">/home/zhang/miniconda3/envs/3d/lib/python3.10/site-packages/lightning/pytorch/utilities/data.py:78: UserWarning:\n",
       "\n",
       "Trying to infer the `batch_size` from an ambiguous collection. The batch size we found is 7453. To avoid any \n",
       "miscalculations, use `self.log(..., batch_size=batch_size)`.\n",
       "\n",
       "</pre>\n"
      ],
      "text/plain": [
       "/home/zhang/miniconda3/envs/3d/lib/python3.10/site-packages/lightning/pytorch/utilities/data.py:78: UserWarning:\n",
       "\n",
       "Trying to infer the `batch_size` from an ambiguous collection. The batch size we found is 7453. To avoid any \n",
       "miscalculations, use `self.log(..., batch_size=batch_size)`.\n",
       "\n"
      ]
     },
     "metadata": {},
     "output_type": "display_data"
    },
    {
     "data": {
      "text/html": [
       "<pre style=\"white-space:pre;overflow-x:auto;line-height:normal;font-family:Menlo,'DejaVu Sans Mono',consolas,'Courier New',monospace\">/home/zhang/miniconda3/envs/3d/lib/python3.10/site-packages/lightning/pytorch/utilities/data.py:78: UserWarning:\n",
       "\n",
       "Trying to infer the `batch_size` from an ambiguous collection. The batch size we found is 8056. To avoid any \n",
       "miscalculations, use `self.log(..., batch_size=batch_size)`.\n",
       "\n",
       "</pre>\n"
      ],
      "text/plain": [
       "/home/zhang/miniconda3/envs/3d/lib/python3.10/site-packages/lightning/pytorch/utilities/data.py:78: UserWarning:\n",
       "\n",
       "Trying to infer the `batch_size` from an ambiguous collection. The batch size we found is 8056. To avoid any \n",
       "miscalculations, use `self.log(..., batch_size=batch_size)`.\n",
       "\n"
      ]
     },
     "metadata": {},
     "output_type": "display_data"
    },
    {
     "data": {
      "text/html": [
       "<pre style=\"white-space:pre;overflow-x:auto;line-height:normal;font-family:Menlo,'DejaVu Sans Mono',consolas,'Courier New',monospace\">/home/zhang/miniconda3/envs/3d/lib/python3.10/site-packages/lightning/pytorch/utilities/data.py:78: UserWarning:\n",
       "\n",
       "Trying to infer the `batch_size` from an ambiguous collection. The batch size we found is 8114. To avoid any \n",
       "miscalculations, use `self.log(..., batch_size=batch_size)`.\n",
       "\n",
       "</pre>\n"
      ],
      "text/plain": [
       "/home/zhang/miniconda3/envs/3d/lib/python3.10/site-packages/lightning/pytorch/utilities/data.py:78: UserWarning:\n",
       "\n",
       "Trying to infer the `batch_size` from an ambiguous collection. The batch size we found is 8114. To avoid any \n",
       "miscalculations, use `self.log(..., batch_size=batch_size)`.\n",
       "\n"
      ]
     },
     "metadata": {},
     "output_type": "display_data"
    },
    {
     "data": {
      "text/html": [
       "<pre style=\"white-space:pre;overflow-x:auto;line-height:normal;font-family:Menlo,'DejaVu Sans Mono',consolas,'Courier New',monospace\">/home/zhang/miniconda3/envs/3d/lib/python3.10/site-packages/lightning/pytorch/utilities/data.py:78: UserWarning:\n",
       "\n",
       "Trying to infer the `batch_size` from an ambiguous collection. The batch size we found is 4037. To avoid any \n",
       "miscalculations, use `self.log(..., batch_size=batch_size)`.\n",
       "\n",
       "</pre>\n"
      ],
      "text/plain": [
       "/home/zhang/miniconda3/envs/3d/lib/python3.10/site-packages/lightning/pytorch/utilities/data.py:78: UserWarning:\n",
       "\n",
       "Trying to infer the `batch_size` from an ambiguous collection. The batch size we found is 4037. To avoid any \n",
       "miscalculations, use `self.log(..., batch_size=batch_size)`.\n",
       "\n"
      ]
     },
     "metadata": {},
     "output_type": "display_data"
    },
    {
     "data": {
      "text/html": [
       "<pre style=\"white-space:pre;overflow-x:auto;line-height:normal;font-family:Menlo,'DejaVu Sans Mono',consolas,'Courier New',monospace\">/home/zhang/miniconda3/envs/3d/lib/python3.10/site-packages/lightning/pytorch/utilities/data.py:78: UserWarning:\n",
       "\n",
       "Trying to infer the `batch_size` from an ambiguous collection. The batch size we found is 8059. To avoid any \n",
       "miscalculations, use `self.log(..., batch_size=batch_size)`.\n",
       "\n",
       "</pre>\n"
      ],
      "text/plain": [
       "/home/zhang/miniconda3/envs/3d/lib/python3.10/site-packages/lightning/pytorch/utilities/data.py:78: UserWarning:\n",
       "\n",
       "Trying to infer the `batch_size` from an ambiguous collection. The batch size we found is 8059. To avoid any \n",
       "miscalculations, use `self.log(..., batch_size=batch_size)`.\n",
       "\n"
      ]
     },
     "metadata": {},
     "output_type": "display_data"
    },
    {
     "data": {
      "text/html": [
       "<pre style=\"white-space:pre;overflow-x:auto;line-height:normal;font-family:Menlo,'DejaVu Sans Mono',consolas,'Courier New',monospace\">/home/zhang/miniconda3/envs/3d/lib/python3.10/site-packages/lightning/pytorch/utilities/data.py:78: UserWarning:\n",
       "\n",
       "Trying to infer the `batch_size` from an ambiguous collection. The batch size we found is 10638. To avoid any \n",
       "miscalculations, use `self.log(..., batch_size=batch_size)`.\n",
       "\n",
       "</pre>\n"
      ],
      "text/plain": [
       "/home/zhang/miniconda3/envs/3d/lib/python3.10/site-packages/lightning/pytorch/utilities/data.py:78: UserWarning:\n",
       "\n",
       "Trying to infer the `batch_size` from an ambiguous collection. The batch size we found is 10638. To avoid any \n",
       "miscalculations, use `self.log(..., batch_size=batch_size)`.\n",
       "\n"
      ]
     },
     "metadata": {},
     "output_type": "display_data"
    },
    {
     "data": {
      "text/html": [
       "<pre style=\"white-space:pre;overflow-x:auto;line-height:normal;font-family:Menlo,'DejaVu Sans Mono',consolas,'Courier New',monospace\">/home/zhang/miniconda3/envs/3d/lib/python3.10/site-packages/lightning/pytorch/utilities/data.py:78: UserWarning:\n",
       "\n",
       "Trying to infer the `batch_size` from an ambiguous collection. The batch size we found is 7341. To avoid any \n",
       "miscalculations, use `self.log(..., batch_size=batch_size)`.\n",
       "\n",
       "</pre>\n"
      ],
      "text/plain": [
       "/home/zhang/miniconda3/envs/3d/lib/python3.10/site-packages/lightning/pytorch/utilities/data.py:78: UserWarning:\n",
       "\n",
       "Trying to infer the `batch_size` from an ambiguous collection. The batch size we found is 7341. To avoid any \n",
       "miscalculations, use `self.log(..., batch_size=batch_size)`.\n",
       "\n"
      ]
     },
     "metadata": {},
     "output_type": "display_data"
    },
    {
     "data": {
      "text/html": [
       "<pre style=\"white-space:pre;overflow-x:auto;line-height:normal;font-family:Menlo,'DejaVu Sans Mono',consolas,'Courier New',monospace\">/home/zhang/miniconda3/envs/3d/lib/python3.10/site-packages/lightning/pytorch/utilities/data.py:78: UserWarning:\n",
       "\n",
       "Trying to infer the `batch_size` from an ambiguous collection. The batch size we found is 5955. To avoid any \n",
       "miscalculations, use `self.log(..., batch_size=batch_size)`.\n",
       "\n",
       "</pre>\n"
      ],
      "text/plain": [
       "/home/zhang/miniconda3/envs/3d/lib/python3.10/site-packages/lightning/pytorch/utilities/data.py:78: UserWarning:\n",
       "\n",
       "Trying to infer the `batch_size` from an ambiguous collection. The batch size we found is 5955. To avoid any \n",
       "miscalculations, use `self.log(..., batch_size=batch_size)`.\n",
       "\n"
      ]
     },
     "metadata": {},
     "output_type": "display_data"
    },
    {
     "data": {
      "text/html": [
       "<pre style=\"white-space:pre;overflow-x:auto;line-height:normal;font-family:Menlo,'DejaVu Sans Mono',consolas,'Courier New',monospace\">/home/zhang/miniconda3/envs/3d/lib/python3.10/site-packages/lightning/pytorch/utilities/data.py:78: UserWarning:\n",
       "\n",
       "Trying to infer the `batch_size` from an ambiguous collection. The batch size we found is 3796. To avoid any \n",
       "miscalculations, use `self.log(..., batch_size=batch_size)`.\n",
       "\n",
       "</pre>\n"
      ],
      "text/plain": [
       "/home/zhang/miniconda3/envs/3d/lib/python3.10/site-packages/lightning/pytorch/utilities/data.py:78: UserWarning:\n",
       "\n",
       "Trying to infer the `batch_size` from an ambiguous collection. The batch size we found is 3796. To avoid any \n",
       "miscalculations, use `self.log(..., batch_size=batch_size)`.\n",
       "\n"
      ]
     },
     "metadata": {},
     "output_type": "display_data"
    },
    {
     "data": {
      "text/html": [
       "<pre style=\"white-space:pre;overflow-x:auto;line-height:normal;font-family:Menlo,'DejaVu Sans Mono',consolas,'Courier New',monospace\">/home/zhang/miniconda3/envs/3d/lib/python3.10/site-packages/lightning/pytorch/utilities/data.py:78: UserWarning:\n",
       "\n",
       "Trying to infer the `batch_size` from an ambiguous collection. The batch size we found is 5703. To avoid any \n",
       "miscalculations, use `self.log(..., batch_size=batch_size)`.\n",
       "\n",
       "</pre>\n"
      ],
      "text/plain": [
       "/home/zhang/miniconda3/envs/3d/lib/python3.10/site-packages/lightning/pytorch/utilities/data.py:78: UserWarning:\n",
       "\n",
       "Trying to infer the `batch_size` from an ambiguous collection. The batch size we found is 5703. To avoid any \n",
       "miscalculations, use `self.log(..., batch_size=batch_size)`.\n",
       "\n"
      ]
     },
     "metadata": {},
     "output_type": "display_data"
    },
    {
     "data": {
      "text/html": [
       "<pre style=\"white-space:pre;overflow-x:auto;line-height:normal;font-family:Menlo,'DejaVu Sans Mono',consolas,'Courier New',monospace\">/home/zhang/miniconda3/envs/3d/lib/python3.10/site-packages/lightning/pytorch/utilities/data.py:78: UserWarning:\n",
       "\n",
       "Trying to infer the `batch_size` from an ambiguous collection. The batch size we found is 4532. To avoid any \n",
       "miscalculations, use `self.log(..., batch_size=batch_size)`.\n",
       "\n",
       "</pre>\n"
      ],
      "text/plain": [
       "/home/zhang/miniconda3/envs/3d/lib/python3.10/site-packages/lightning/pytorch/utilities/data.py:78: UserWarning:\n",
       "\n",
       "Trying to infer the `batch_size` from an ambiguous collection. The batch size we found is 4532. To avoid any \n",
       "miscalculations, use `self.log(..., batch_size=batch_size)`.\n",
       "\n"
      ]
     },
     "metadata": {},
     "output_type": "display_data"
    },
    {
     "data": {
      "text/html": [
       "<pre style=\"white-space:pre;overflow-x:auto;line-height:normal;font-family:Menlo,'DejaVu Sans Mono',consolas,'Courier New',monospace\">/home/zhang/miniconda3/envs/3d/lib/python3.10/site-packages/lightning/pytorch/utilities/data.py:78: UserWarning:\n",
       "\n",
       "Trying to infer the `batch_size` from an ambiguous collection. The batch size we found is 5031. To avoid any \n",
       "miscalculations, use `self.log(..., batch_size=batch_size)`.\n",
       "\n",
       "</pre>\n"
      ],
      "text/plain": [
       "/home/zhang/miniconda3/envs/3d/lib/python3.10/site-packages/lightning/pytorch/utilities/data.py:78: UserWarning:\n",
       "\n",
       "Trying to infer the `batch_size` from an ambiguous collection. The batch size we found is 5031. To avoid any \n",
       "miscalculations, use `self.log(..., batch_size=batch_size)`.\n",
       "\n"
      ]
     },
     "metadata": {},
     "output_type": "display_data"
    },
    {
     "data": {
      "text/html": [
       "<pre style=\"white-space:pre;overflow-x:auto;line-height:normal;font-family:Menlo,'DejaVu Sans Mono',consolas,'Courier New',monospace\">/home/zhang/miniconda3/envs/3d/lib/python3.10/site-packages/lightning/pytorch/utilities/data.py:78: UserWarning:\n",
       "\n",
       "Trying to infer the `batch_size` from an ambiguous collection. The batch size we found is 3522. To avoid any \n",
       "miscalculations, use `self.log(..., batch_size=batch_size)`.\n",
       "\n",
       "</pre>\n"
      ],
      "text/plain": [
       "/home/zhang/miniconda3/envs/3d/lib/python3.10/site-packages/lightning/pytorch/utilities/data.py:78: UserWarning:\n",
       "\n",
       "Trying to infer the `batch_size` from an ambiguous collection. The batch size we found is 3522. To avoid any \n",
       "miscalculations, use `self.log(..., batch_size=batch_size)`.\n",
       "\n"
      ]
     },
     "metadata": {},
     "output_type": "display_data"
    },
    {
     "data": {
      "text/html": [
       "<pre style=\"white-space:pre;overflow-x:auto;line-height:normal;font-family:Menlo,'DejaVu Sans Mono',consolas,'Courier New',monospace\">/home/zhang/miniconda3/envs/3d/lib/python3.10/site-packages/lightning/pytorch/utilities/data.py:78: UserWarning:\n",
       "\n",
       "Trying to infer the `batch_size` from an ambiguous collection. The batch size we found is 3759. To avoid any \n",
       "miscalculations, use `self.log(..., batch_size=batch_size)`.\n",
       "\n",
       "</pre>\n"
      ],
      "text/plain": [
       "/home/zhang/miniconda3/envs/3d/lib/python3.10/site-packages/lightning/pytorch/utilities/data.py:78: UserWarning:\n",
       "\n",
       "Trying to infer the `batch_size` from an ambiguous collection. The batch size we found is 3759. To avoid any \n",
       "miscalculations, use `self.log(..., batch_size=batch_size)`.\n",
       "\n"
      ]
     },
     "metadata": {},
     "output_type": "display_data"
    },
    {
     "data": {
      "text/html": [
       "<pre style=\"white-space:pre;overflow-x:auto;line-height:normal;font-family:Menlo,'DejaVu Sans Mono',consolas,'Courier New',monospace\">/home/zhang/miniconda3/envs/3d/lib/python3.10/site-packages/lightning/pytorch/utilities/data.py:78: UserWarning:\n",
       "\n",
       "Trying to infer the `batch_size` from an ambiguous collection. The batch size we found is 6268. To avoid any \n",
       "miscalculations, use `self.log(..., batch_size=batch_size)`.\n",
       "\n",
       "</pre>\n"
      ],
      "text/plain": [
       "/home/zhang/miniconda3/envs/3d/lib/python3.10/site-packages/lightning/pytorch/utilities/data.py:78: UserWarning:\n",
       "\n",
       "Trying to infer the `batch_size` from an ambiguous collection. The batch size we found is 6268. To avoid any \n",
       "miscalculations, use `self.log(..., batch_size=batch_size)`.\n",
       "\n"
      ]
     },
     "metadata": {},
     "output_type": "display_data"
    },
    {
     "data": {
      "text/html": [
       "<pre style=\"white-space:pre;overflow-x:auto;line-height:normal;font-family:Menlo,'DejaVu Sans Mono',consolas,'Courier New',monospace\">/home/zhang/miniconda3/envs/3d/lib/python3.10/site-packages/lightning/pytorch/utilities/data.py:78: UserWarning:\n",
       "\n",
       "Trying to infer the `batch_size` from an ambiguous collection. The batch size we found is 3677. To avoid any \n",
       "miscalculations, use `self.log(..., batch_size=batch_size)`.\n",
       "\n",
       "</pre>\n"
      ],
      "text/plain": [
       "/home/zhang/miniconda3/envs/3d/lib/python3.10/site-packages/lightning/pytorch/utilities/data.py:78: UserWarning:\n",
       "\n",
       "Trying to infer the `batch_size` from an ambiguous collection. The batch size we found is 3677. To avoid any \n",
       "miscalculations, use `self.log(..., batch_size=batch_size)`.\n",
       "\n"
      ]
     },
     "metadata": {},
     "output_type": "display_data"
    },
    {
     "data": {
      "text/html": [
       "<pre style=\"white-space:pre;overflow-x:auto;line-height:normal;font-family:Menlo,'DejaVu Sans Mono',consolas,'Courier New',monospace\">/home/zhang/miniconda3/envs/3d/lib/python3.10/site-packages/lightning/pytorch/utilities/data.py:78: UserWarning:\n",
       "\n",
       "Trying to infer the `batch_size` from an ambiguous collection. The batch size we found is 1581. To avoid any \n",
       "miscalculations, use `self.log(..., batch_size=batch_size)`.\n",
       "\n",
       "</pre>\n"
      ],
      "text/plain": [
       "/home/zhang/miniconda3/envs/3d/lib/python3.10/site-packages/lightning/pytorch/utilities/data.py:78: UserWarning:\n",
       "\n",
       "Trying to infer the `batch_size` from an ambiguous collection. The batch size we found is 1581. To avoid any \n",
       "miscalculations, use `self.log(..., batch_size=batch_size)`.\n",
       "\n"
      ]
     },
     "metadata": {},
     "output_type": "display_data"
    },
    {
     "data": {
      "text/html": [
       "<pre style=\"white-space:pre;overflow-x:auto;line-height:normal;font-family:Menlo,'DejaVu Sans Mono',consolas,'Courier New',monospace\">/home/zhang/miniconda3/envs/3d/lib/python3.10/site-packages/lightning/pytorch/utilities/data.py:78: UserWarning:\n",
       "\n",
       "Trying to infer the `batch_size` from an ambiguous collection. The batch size we found is 1307. To avoid any \n",
       "miscalculations, use `self.log(..., batch_size=batch_size)`.\n",
       "\n",
       "</pre>\n"
      ],
      "text/plain": [
       "/home/zhang/miniconda3/envs/3d/lib/python3.10/site-packages/lightning/pytorch/utilities/data.py:78: UserWarning:\n",
       "\n",
       "Trying to infer the `batch_size` from an ambiguous collection. The batch size we found is 1307. To avoid any \n",
       "miscalculations, use `self.log(..., batch_size=batch_size)`.\n",
       "\n"
      ]
     },
     "metadata": {},
     "output_type": "display_data"
    },
    {
     "data": {
      "text/html": [
       "<pre style=\"white-space:pre;overflow-x:auto;line-height:normal;font-family:Menlo,'DejaVu Sans Mono',consolas,'Courier New',monospace\">/home/zhang/miniconda3/envs/3d/lib/python3.10/site-packages/lightning/pytorch/utilities/data.py:78: UserWarning:\n",
       "\n",
       "Trying to infer the `batch_size` from an ambiguous collection. The batch size we found is 1459. To avoid any \n",
       "miscalculations, use `self.log(..., batch_size=batch_size)`.\n",
       "\n",
       "</pre>\n"
      ],
      "text/plain": [
       "/home/zhang/miniconda3/envs/3d/lib/python3.10/site-packages/lightning/pytorch/utilities/data.py:78: UserWarning:\n",
       "\n",
       "Trying to infer the `batch_size` from an ambiguous collection. The batch size we found is 1459. To avoid any \n",
       "miscalculations, use `self.log(..., batch_size=batch_size)`.\n",
       "\n"
      ]
     },
     "metadata": {},
     "output_type": "display_data"
    },
    {
     "data": {
      "text/html": [
       "<pre style=\"white-space:pre;overflow-x:auto;line-height:normal;font-family:Menlo,'DejaVu Sans Mono',consolas,'Courier New',monospace\">┏━━━━━━━━━━━━━━━━━━━━━━━━━━━┳━━━━━━━━━━━━━━━━━━━━━━━━━━━┓\n",
       "┃<span style=\"font-weight: bold\">        Test metric        </span>┃<span style=\"font-weight: bold\">       DataLoader 0        </span>┃\n",
       "┡━━━━━━━━━━━━━━━━━━━━━━━━━━━╇━━━━━━━━━━━━━━━━━━━━━━━━━━━┩\n",
       "│<span style=\"color: #008080; text-decoration-color: #008080\"> test/graph_label/accuracy </span>│<span style=\"color: #800080; text-decoration-color: #800080\">    0.8975228071212769     </span>│\n",
       "│<span style=\"color: #008080; text-decoration-color: #008080\">  test/graph_label/f1_max  </span>│<span style=\"color: #800080; text-decoration-color: #800080\">     0.925422728061676     </span>│\n",
       "│<span style=\"color: #008080; text-decoration-color: #008080\"> test/graph_label/f1_score </span>│<span style=\"color: #800080; text-decoration-color: #800080\">    0.6145564913749695     </span>│\n",
       "│<span style=\"color: #008080; text-decoration-color: #008080\">   test/loss/graph_label   </span>│<span style=\"color: #800080; text-decoration-color: #800080\">    0.6891413927078247     </span>│\n",
       "│<span style=\"color: #008080; text-decoration-color: #008080\">      test/loss/total      </span>│<span style=\"color: #800080; text-decoration-color: #800080\">    0.6891413927078247     </span>│\n",
       "└───────────────────────────┴───────────────────────────┘\n",
       "</pre>\n"
      ],
      "text/plain": [
       "┏━━━━━━━━━━━━━━━━━━━━━━━━━━━┳━━━━━━━━━━━━━━━━━━━━━━━━━━━┓\n",
       "┃\u001b[1m \u001b[0m\u001b[1m       Test metric       \u001b[0m\u001b[1m \u001b[0m┃\u001b[1m \u001b[0m\u001b[1m      DataLoader 0       \u001b[0m\u001b[1m \u001b[0m┃\n",
       "┡━━━━━━━━━━━━━━━━━━━━━━━━━━━╇━━━━━━━━━━━━━━━━━━━━━━━━━━━┩\n",
       "│\u001b[36m \u001b[0m\u001b[36mtest/graph_label/accuracy\u001b[0m\u001b[36m \u001b[0m│\u001b[35m \u001b[0m\u001b[35m   0.8975228071212769    \u001b[0m\u001b[35m \u001b[0m│\n",
       "│\u001b[36m \u001b[0m\u001b[36m test/graph_label/f1_max \u001b[0m\u001b[36m \u001b[0m│\u001b[35m \u001b[0m\u001b[35m    0.925422728061676    \u001b[0m\u001b[35m \u001b[0m│\n",
       "│\u001b[36m \u001b[0m\u001b[36mtest/graph_label/f1_score\u001b[0m\u001b[36m \u001b[0m│\u001b[35m \u001b[0m\u001b[35m   0.6145564913749695    \u001b[0m\u001b[35m \u001b[0m│\n",
       "│\u001b[36m \u001b[0m\u001b[36m  test/loss/graph_label  \u001b[0m\u001b[36m \u001b[0m│\u001b[35m \u001b[0m\u001b[35m   0.6891413927078247    \u001b[0m\u001b[35m \u001b[0m│\n",
       "│\u001b[36m \u001b[0m\u001b[36m     test/loss/total     \u001b[0m\u001b[36m \u001b[0m│\u001b[35m \u001b[0m\u001b[35m   0.6891413927078247    \u001b[0m\u001b[35m \u001b[0m│\n",
       "└───────────────────────────┴───────────────────────────┘\n"
      ]
     },
     "metadata": {},
     "output_type": "display_data"
    },
    {
     "data": {
      "text/html": [
       "<pre style=\"white-space:pre;overflow-x:auto;line-height:normal;font-family:Menlo,'DejaVu Sans Mono',consolas,'Courier New',monospace\"></pre>\n"
      ],
      "text/plain": []
     },
     "metadata": {},
     "output_type": "display_data"
    },
    {
     "data": {
      "text/html": [
       "<pre style=\"white-space:pre;overflow-x:auto;line-height:normal;font-family:Menlo,'DejaVu Sans Mono',consolas,'Courier New',monospace\">\n",
       "</pre>\n"
      ],
      "text/plain": [
       "\n"
      ]
     },
     "metadata": {},
     "output_type": "display_data"
    },
    {
     "data": {
      "text/html": [
       "<pre style=\"white-space:pre;overflow-x:auto;line-height:normal;font-family:Menlo,'DejaVu Sans Mono',consolas,'Courier New',monospace\"><span style=\"color: #7fbfbf; text-decoration-color: #7fbfbf\">[07/28/24 17:55:56] </span><span style=\"color: #000080; text-decoration-color: #000080\">INFO    </span> family: <span style=\"font-weight: bold\">{</span><span style=\"color: #008000; text-decoration-color: #008000\">'test/loss/graph_label/family'</span>: <span style=\"color: #008080; text-decoration-color: #008080; font-weight: bold\">0.6891413927078247</span>,              <a href=\"file:///home/zhang/Projects/3d/ProteinWorkshop/proteinworkshop/train.py\" target=\"_blank\"><span style=\"color: #7f7f7f; text-decoration-color: #7f7f7f\">train.py</span></a><span style=\"color: #7f7f7f; text-decoration-color: #7f7f7f\">:</span><a href=\"file:///home/zhang/Projects/3d/ProteinWorkshop/proteinworkshop/train.py#204\" target=\"_blank\"><span style=\"color: #7f7f7f; text-decoration-color: #7f7f7f\">204</span></a>\n",
       "<span style=\"color: #7fbfbf; text-decoration-color: #7fbfbf\">                    </span>         <span style=\"color: #008000; text-decoration-color: #008000\">'test/loss/total/family'</span>: <span style=\"color: #008080; text-decoration-color: #008080; font-weight: bold\">0.6891413927078247</span>,                             <span style=\"color: #7f7f7f; text-decoration-color: #7f7f7f\">            </span>\n",
       "<span style=\"color: #7fbfbf; text-decoration-color: #7fbfbf\">                    </span>         <span style=\"color: #008000; text-decoration-color: #008000\">'test/graph_label/accuracy/family'</span>: <span style=\"color: #008080; text-decoration-color: #008080; font-weight: bold\">0.8975228071212769</span>,                   <span style=\"color: #7f7f7f; text-decoration-color: #7f7f7f\">            </span>\n",
       "<span style=\"color: #7fbfbf; text-decoration-color: #7fbfbf\">                    </span>         <span style=\"color: #008000; text-decoration-color: #008000\">'test/graph_label/f1_score/family'</span>: <span style=\"color: #008080; text-decoration-color: #008080; font-weight: bold\">0.6145564913749695</span>,                   <span style=\"color: #7f7f7f; text-decoration-color: #7f7f7f\">            </span>\n",
       "<span style=\"color: #7fbfbf; text-decoration-color: #7fbfbf\">                    </span>         <span style=\"color: #008000; text-decoration-color: #008000\">'test/graph_label/f1_max/family'</span>: <span style=\"color: #008080; text-decoration-color: #008080; font-weight: bold\">0.925422728061676</span><span style=\"font-weight: bold\">}</span>                      <span style=\"color: #7f7f7f; text-decoration-color: #7f7f7f\">            </span>\n",
       "</pre>\n"
      ],
      "text/plain": [
       "\u001b[2;36m[07/28/24 17:55:56]\u001b[0m\u001b[2;36m \u001b[0m\u001b[34mINFO    \u001b[0m family: \u001b[1m{\u001b[0m\u001b[32m'test/loss/graph_label/family'\u001b[0m: \u001b[1;36m0.6891413927078247\u001b[0m,              \u001b]8;id=670876;file:///home/zhang/Projects/3d/ProteinWorkshop/proteinworkshop/train.py\u001b\\\u001b[2mtrain.py\u001b[0m\u001b]8;;\u001b\\\u001b[2m:\u001b[0m\u001b]8;id=422607;file:///home/zhang/Projects/3d/ProteinWorkshop/proteinworkshop/train.py#204\u001b\\\u001b[2m204\u001b[0m\u001b]8;;\u001b\\\n",
       "\u001b[2;36m                    \u001b[0m         \u001b[32m'test/loss/total/family'\u001b[0m: \u001b[1;36m0.6891413927078247\u001b[0m,                             \u001b[2m            \u001b[0m\n",
       "\u001b[2;36m                    \u001b[0m         \u001b[32m'test/graph_label/accuracy/family'\u001b[0m: \u001b[1;36m0.8975228071212769\u001b[0m,                   \u001b[2m            \u001b[0m\n",
       "\u001b[2;36m                    \u001b[0m         \u001b[32m'test/graph_label/f1_score/family'\u001b[0m: \u001b[1;36m0.6145564913749695\u001b[0m,                   \u001b[2m            \u001b[0m\n",
       "\u001b[2;36m                    \u001b[0m         \u001b[32m'test/graph_label/f1_max/family'\u001b[0m: \u001b[1;36m0.925422728061676\u001b[0m\u001b[1m}\u001b[0m                      \u001b[2m            \u001b[0m\n"
      ]
     },
     "metadata": {},
     "output_type": "display_data"
    },
    {
     "data": {
      "text/html": [
       "<pre style=\"white-space:pre;overflow-x:auto;line-height:normal;font-family:Menlo,'DejaVu Sans Mono',consolas,'Courier New',monospace\"><span style=\"color: #7fbfbf; text-decoration-color: #7fbfbf\">                    </span><span style=\"color: #000080; text-decoration-color: #000080\">INFO    </span> Testing on superfamily <span style=\"font-weight: bold\">(</span><span style=\"color: #008080; text-decoration-color: #008080; font-weight: bold\">3</span> <span style=\"color: #800080; text-decoration-color: #800080\">/</span> <span style=\"color: #008080; text-decoration-color: #008080; font-weight: bold\">3</span><span style=\"font-weight: bold\">)</span><span style=\"color: #808000; text-decoration-color: #808000\">...</span>                                         <a href=\"file:///home/zhang/Projects/3d/ProteinWorkshop/proteinworkshop/train.py\" target=\"_blank\"><span style=\"color: #7f7f7f; text-decoration-color: #7f7f7f\">train.py</span></a><span style=\"color: #7f7f7f; text-decoration-color: #7f7f7f\">:</span><a href=\"file:///home/zhang/Projects/3d/ProteinWorkshop/proteinworkshop/train.py#194\" target=\"_blank\"><span style=\"color: #7f7f7f; text-decoration-color: #7f7f7f\">194</span></a>\n",
       "</pre>\n"
      ],
      "text/plain": [
       "\u001b[2;36m                   \u001b[0m\u001b[2;36m \u001b[0m\u001b[34mINFO    \u001b[0m Testing on superfamily \u001b[1m(\u001b[0m\u001b[1;36m3\u001b[0m \u001b[35m/\u001b[0m \u001b[1;36m3\u001b[0m\u001b[1m)\u001b[0m\u001b[33m...\u001b[0m                                         \u001b]8;id=804634;file:///home/zhang/Projects/3d/ProteinWorkshop/proteinworkshop/train.py\u001b\\\u001b[2mtrain.py\u001b[0m\u001b]8;;\u001b\\\u001b[2m:\u001b[0m\u001b]8;id=83661;file:///home/zhang/Projects/3d/ProteinWorkshop/proteinworkshop/train.py#194\u001b\\\u001b[2m194\u001b[0m\u001b]8;;\u001b\\\n"
      ]
     },
     "metadata": {},
     "output_type": "display_data"
    },
    {
     "data": {
      "text/html": [
       "<pre style=\"white-space:pre;overflow-x:auto;line-height:normal;font-family:Menlo,'DejaVu Sans Mono',consolas,'Courier New',monospace\"><span style=\"color: #7fbfbf; text-decoration-color: #7fbfbf\">                    </span><span style=\"color: #000080; text-decoration-color: #000080\">INFO    </span> Downloading Protein Function. Fraction <span style=\"color: #008080; text-decoration-color: #008080; font-weight: bold\">1.0</span>                   <a href=\"file:///home/zhang/Projects/3d/ProteinWorkshop/proteinworkshop/datasets/fold_classification.py\" target=\"_blank\"><span style=\"color: #7f7f7f; text-decoration-color: #7f7f7f\">fold_classification.py</span></a><span style=\"color: #7f7f7f; text-decoration-color: #7f7f7f\">:</span><a href=\"file:///home/zhang/Projects/3d/ProteinWorkshop/proteinworkshop/datasets/fold_classification.py#86\" target=\"_blank\"><span style=\"color: #7f7f7f; text-decoration-color: #7f7f7f\">86</span></a>\n",
       "</pre>\n"
      ],
      "text/plain": [
       "\u001b[2;36m                   \u001b[0m\u001b[2;36m \u001b[0m\u001b[34mINFO    \u001b[0m Downloading Protein Function. Fraction \u001b[1;36m1.0\u001b[0m                   \u001b]8;id=644375;file:///home/zhang/Projects/3d/ProteinWorkshop/proteinworkshop/datasets/fold_classification.py\u001b\\\u001b[2mfold_classification.py\u001b[0m\u001b]8;;\u001b\\\u001b[2m:\u001b[0m\u001b]8;id=8345;file:///home/zhang/Projects/3d/ProteinWorkshop/proteinworkshop/datasets/fold_classification.py#86\u001b\\\u001b[2m86\u001b[0m\u001b]8;;\u001b\\\n"
      ]
     },
     "metadata": {},
     "output_type": "display_data"
    },
    {
     "data": {
      "text/html": [
       "<pre style=\"white-space:pre;overflow-x:auto;line-height:normal;font-family:Menlo,'DejaVu Sans Mono',consolas,'Courier New',monospace\"><span style=\"color: #7fbfbf; text-decoration-color: #7fbfbf\">                    </span><span style=\"color: #000080; text-decoration-color: #000080\">INFO    </span> Found SCOP structure tarfile in:                            <a href=\"file:///home/zhang/Projects/3d/ProteinWorkshop/proteinworkshop/datasets/fold_classification.py\" target=\"_blank\"><span style=\"color: #7f7f7f; text-decoration-color: #7f7f7f\">fold_classification.py</span></a><span style=\"color: #7f7f7f; text-decoration-color: #7f7f7f\">:</span><a href=\"file:///home/zhang/Projects/3d/ProteinWorkshop/proteinworkshop/datasets/fold_classification.py#138\" target=\"_blank\"><span style=\"color: #7f7f7f; text-decoration-color: #7f7f7f\">138</span></a>\n",
       "<span style=\"color: #7fbfbf; text-decoration-color: #7fbfbf\">                    </span>         <span style=\"color: #800080; text-decoration-color: #800080\">/home/zhang/Projects/3d/ProteinWorkshop/proteinworkshop/dat</span> <span style=\"color: #7f7f7f; text-decoration-color: #7f7f7f\">                          </span>\n",
       "<span style=\"color: #7fbfbf; text-decoration-color: #7fbfbf\">                    </span>         <span style=\"color: #800080; text-decoration-color: #800080\">a/FoldClassification/</span><span style=\"color: #ff00ff; text-decoration-color: #ff00ff\">pdbstyle-sel-gs-bib-95-1.75.tgz</span>        <span style=\"color: #7f7f7f; text-decoration-color: #7f7f7f\">                          </span>\n",
       "</pre>\n"
      ],
      "text/plain": [
       "\u001b[2;36m                   \u001b[0m\u001b[2;36m \u001b[0m\u001b[34mINFO    \u001b[0m Found SCOP structure tarfile in:                            \u001b]8;id=403720;file:///home/zhang/Projects/3d/ProteinWorkshop/proteinworkshop/datasets/fold_classification.py\u001b\\\u001b[2mfold_classification.py\u001b[0m\u001b]8;;\u001b\\\u001b[2m:\u001b[0m\u001b]8;id=43345;file:///home/zhang/Projects/3d/ProteinWorkshop/proteinworkshop/datasets/fold_classification.py#138\u001b\\\u001b[2m138\u001b[0m\u001b]8;;\u001b\\\n",
       "\u001b[2;36m                    \u001b[0m         \u001b[35m/home/zhang/Projects/3d/ProteinWorkshop/proteinworkshop/dat\u001b[0m \u001b[2m                          \u001b[0m\n",
       "\u001b[2;36m                    \u001b[0m         \u001b[35ma/FoldClassification/\u001b[0m\u001b[95mpdbstyle-sel-gs-bib-95-1.75.tgz\u001b[0m        \u001b[2m                          \u001b[0m\n"
      ]
     },
     "metadata": {},
     "output_type": "display_data"
    },
    {
     "data": {
      "text/html": [
       "<pre style=\"white-space:pre;overflow-x:auto;line-height:normal;font-family:Menlo,'DejaVu Sans Mono',consolas,'Courier New',monospace\"><span style=\"color: #7fbfbf; text-decoration-color: #7fbfbf\">                    </span><span style=\"color: #000080; text-decoration-color: #000080\">INFO    </span> Found SCOPe structures in:                                  <a href=\"file:///home/zhang/Projects/3d/ProteinWorkshop/proteinworkshop/datasets/fold_classification.py\" target=\"_blank\"><span style=\"color: #7f7f7f; text-decoration-color: #7f7f7f\">fold_classification.py</span></a><span style=\"color: #7f7f7f; text-decoration-color: #7f7f7f\">:</span><a href=\"file:///home/zhang/Projects/3d/ProteinWorkshop/proteinworkshop/datasets/fold_classification.py#151\" target=\"_blank\"><span style=\"color: #7f7f7f; text-decoration-color: #7f7f7f\">151</span></a>\n",
       "</pre>\n"
      ],
      "text/plain": [
       "\u001b[2;36m                   \u001b[0m\u001b[2;36m \u001b[0m\u001b[34mINFO    \u001b[0m Found SCOPe structures in:                                  \u001b]8;id=598098;file:///home/zhang/Projects/3d/ProteinWorkshop/proteinworkshop/datasets/fold_classification.py\u001b\\\u001b[2mfold_classification.py\u001b[0m\u001b]8;;\u001b\\\u001b[2m:\u001b[0m\u001b]8;id=659846;file:///home/zhang/Projects/3d/ProteinWorkshop/proteinworkshop/datasets/fold_classification.py#151\u001b\\\u001b[2m151\u001b[0m\u001b]8;;\u001b\\\n"
      ]
     },
     "metadata": {},
     "output_type": "display_data"
    },
    {
     "data": {
      "text/html": [
       "<pre style=\"white-space:pre;overflow-x:auto;line-height:normal;font-family:Menlo,'DejaVu Sans Mono',consolas,'Courier New',monospace\"><span style=\"color: #7fbfbf; text-decoration-color: #7fbfbf\">                    </span><span style=\"color: #000080; text-decoration-color: #000080\">INFO    </span> Preprocessing test data                                                     <a href=\"file:///home/zhang/Projects/3d/ProteinWorkshop/proteinworkshop/datasets/base.py\" target=\"_blank\"><span style=\"color: #7f7f7f; text-decoration-color: #7f7f7f\">base.py</span></a><span style=\"color: #7f7f7f; text-decoration-color: #7f7f7f\">:</span><a href=\"file:///home/zhang/Projects/3d/ProteinWorkshop/proteinworkshop/datasets/base.py#92\" target=\"_blank\"><span style=\"color: #7f7f7f; text-decoration-color: #7f7f7f\">92</span></a>\n",
       "</pre>\n"
      ],
      "text/plain": [
       "\u001b[2;36m                   \u001b[0m\u001b[2;36m \u001b[0m\u001b[34mINFO    \u001b[0m Preprocessing test data                                                     \u001b]8;id=850329;file:///home/zhang/Projects/3d/ProteinWorkshop/proteinworkshop/datasets/base.py\u001b\\\u001b[2mbase.py\u001b[0m\u001b]8;;\u001b\\\u001b[2m:\u001b[0m\u001b]8;id=897174;file:///home/zhang/Projects/3d/ProteinWorkshop/proteinworkshop/datasets/base.py#92\u001b\\\u001b[2m92\u001b[0m\u001b]8;;\u001b\\\n"
      ]
     },
     "metadata": {},
     "output_type": "display_data"
    },
    {
     "name": "stderr",
     "output_type": "stream",
     "text": [
      "Restoring states from the checkpoint path at /home/zhang/Projects/3d/ProteinWorkshop/notebooks/outputs/checkpoints/epoch_032.ckpt\n",
      "LOCAL_RANK: 0 - CUDA_VISIBLE_DEVICES: [0]\n",
      "Loaded model weights from the checkpoint at /home/zhang/Projects/3d/ProteinWorkshop/notebooks/outputs/checkpoints/epoch_032.ckpt\n"
     ]
    },
    {
     "data": {
      "application/vnd.jupyter.widget-view+json": {
       "model_id": "41fde9185b0d40ae8777e42e4c6862e9",
       "version_major": 2,
       "version_minor": 0
      },
      "text/plain": [
       "Output()"
      ]
     },
     "metadata": {},
     "output_type": "display_data"
    },
    {
     "data": {
      "text/html": [
       "<pre style=\"white-space:pre;overflow-x:auto;line-height:normal;font-family:Menlo,'DejaVu Sans Mono',consolas,'Courier New',monospace\">/home/zhang/miniconda3/envs/3d/lib/python3.10/site-packages/lightning/pytorch/utilities/data.py:78: UserWarning:\n",
       "\n",
       "Trying to infer the `batch_size` from an ambiguous collection. The batch size we found is 7891. To avoid any \n",
       "miscalculations, use `self.log(..., batch_size=batch_size)`.\n",
       "\n",
       "</pre>\n"
      ],
      "text/plain": [
       "/home/zhang/miniconda3/envs/3d/lib/python3.10/site-packages/lightning/pytorch/utilities/data.py:78: UserWarning:\n",
       "\n",
       "Trying to infer the `batch_size` from an ambiguous collection. The batch size we found is 7891. To avoid any \n",
       "miscalculations, use `self.log(..., batch_size=batch_size)`.\n",
       "\n"
      ]
     },
     "metadata": {},
     "output_type": "display_data"
    },
    {
     "data": {
      "text/html": [
       "<pre style=\"white-space:pre;overflow-x:auto;line-height:normal;font-family:Menlo,'DejaVu Sans Mono',consolas,'Courier New',monospace\">/home/zhang/miniconda3/envs/3d/lib/python3.10/site-packages/lightning/pytorch/utilities/data.py:78: UserWarning:\n",
       "\n",
       "Trying to infer the `batch_size` from an ambiguous collection. The batch size we found is 8542. To avoid any \n",
       "miscalculations, use `self.log(..., batch_size=batch_size)`.\n",
       "\n",
       "</pre>\n"
      ],
      "text/plain": [
       "/home/zhang/miniconda3/envs/3d/lib/python3.10/site-packages/lightning/pytorch/utilities/data.py:78: UserWarning:\n",
       "\n",
       "Trying to infer the `batch_size` from an ambiguous collection. The batch size we found is 8542. To avoid any \n",
       "miscalculations, use `self.log(..., batch_size=batch_size)`.\n",
       "\n"
      ]
     },
     "metadata": {},
     "output_type": "display_data"
    },
    {
     "data": {
      "text/html": [
       "<pre style=\"white-space:pre;overflow-x:auto;line-height:normal;font-family:Menlo,'DejaVu Sans Mono',consolas,'Courier New',monospace\">/home/zhang/miniconda3/envs/3d/lib/python3.10/site-packages/lightning/pytorch/utilities/data.py:78: UserWarning:\n",
       "\n",
       "Trying to infer the `batch_size` from an ambiguous collection. The batch size we found is 4098. To avoid any \n",
       "miscalculations, use `self.log(..., batch_size=batch_size)`.\n",
       "\n",
       "</pre>\n"
      ],
      "text/plain": [
       "/home/zhang/miniconda3/envs/3d/lib/python3.10/site-packages/lightning/pytorch/utilities/data.py:78: UserWarning:\n",
       "\n",
       "Trying to infer the `batch_size` from an ambiguous collection. The batch size we found is 4098. To avoid any \n",
       "miscalculations, use `self.log(..., batch_size=batch_size)`.\n",
       "\n"
      ]
     },
     "metadata": {},
     "output_type": "display_data"
    },
    {
     "data": {
      "text/html": [
       "<pre style=\"white-space:pre;overflow-x:auto;line-height:normal;font-family:Menlo,'DejaVu Sans Mono',consolas,'Courier New',monospace\">/home/zhang/miniconda3/envs/3d/lib/python3.10/site-packages/lightning/pytorch/utilities/data.py:78: UserWarning:\n",
       "\n",
       "Trying to infer the `batch_size` from an ambiguous collection. The batch size we found is 4170. To avoid any \n",
       "miscalculations, use `self.log(..., batch_size=batch_size)`.\n",
       "\n",
       "</pre>\n"
      ],
      "text/plain": [
       "/home/zhang/miniconda3/envs/3d/lib/python3.10/site-packages/lightning/pytorch/utilities/data.py:78: UserWarning:\n",
       "\n",
       "Trying to infer the `batch_size` from an ambiguous collection. The batch size we found is 4170. To avoid any \n",
       "miscalculations, use `self.log(..., batch_size=batch_size)`.\n",
       "\n"
      ]
     },
     "metadata": {},
     "output_type": "display_data"
    },
    {
     "data": {
      "text/html": [
       "<pre style=\"white-space:pre;overflow-x:auto;line-height:normal;font-family:Menlo,'DejaVu Sans Mono',consolas,'Courier New',monospace\">/home/zhang/miniconda3/envs/3d/lib/python3.10/site-packages/lightning/pytorch/utilities/data.py:78: UserWarning:\n",
       "\n",
       "Trying to infer the `batch_size` from an ambiguous collection. The batch size we found is 2948. To avoid any \n",
       "miscalculations, use `self.log(..., batch_size=batch_size)`.\n",
       "\n",
       "</pre>\n"
      ],
      "text/plain": [
       "/home/zhang/miniconda3/envs/3d/lib/python3.10/site-packages/lightning/pytorch/utilities/data.py:78: UserWarning:\n",
       "\n",
       "Trying to infer the `batch_size` from an ambiguous collection. The batch size we found is 2948. To avoid any \n",
       "miscalculations, use `self.log(..., batch_size=batch_size)`.\n",
       "\n"
      ]
     },
     "metadata": {},
     "output_type": "display_data"
    },
    {
     "data": {
      "text/html": [
       "<pre style=\"white-space:pre;overflow-x:auto;line-height:normal;font-family:Menlo,'DejaVu Sans Mono',consolas,'Courier New',monospace\">/home/zhang/miniconda3/envs/3d/lib/python3.10/site-packages/lightning/pytorch/utilities/data.py:78: UserWarning:\n",
       "\n",
       "Trying to infer the `batch_size` from an ambiguous collection. The batch size we found is 2960. To avoid any \n",
       "miscalculations, use `self.log(..., batch_size=batch_size)`.\n",
       "\n",
       "</pre>\n"
      ],
      "text/plain": [
       "/home/zhang/miniconda3/envs/3d/lib/python3.10/site-packages/lightning/pytorch/utilities/data.py:78: UserWarning:\n",
       "\n",
       "Trying to infer the `batch_size` from an ambiguous collection. The batch size we found is 2960. To avoid any \n",
       "miscalculations, use `self.log(..., batch_size=batch_size)`.\n",
       "\n"
      ]
     },
     "metadata": {},
     "output_type": "display_data"
    },
    {
     "data": {
      "text/html": [
       "<pre style=\"white-space:pre;overflow-x:auto;line-height:normal;font-family:Menlo,'DejaVu Sans Mono',consolas,'Courier New',monospace\">/home/zhang/miniconda3/envs/3d/lib/python3.10/site-packages/lightning/pytorch/utilities/data.py:78: UserWarning:\n",
       "\n",
       "Trying to infer the `batch_size` from an ambiguous collection. The batch size we found is 3027. To avoid any \n",
       "miscalculations, use `self.log(..., batch_size=batch_size)`.\n",
       "\n",
       "</pre>\n"
      ],
      "text/plain": [
       "/home/zhang/miniconda3/envs/3d/lib/python3.10/site-packages/lightning/pytorch/utilities/data.py:78: UserWarning:\n",
       "\n",
       "Trying to infer the `batch_size` from an ambiguous collection. The batch size we found is 3027. To avoid any \n",
       "miscalculations, use `self.log(..., batch_size=batch_size)`.\n",
       "\n"
      ]
     },
     "metadata": {},
     "output_type": "display_data"
    },
    {
     "data": {
      "text/html": [
       "<pre style=\"white-space:pre;overflow-x:auto;line-height:normal;font-family:Menlo,'DejaVu Sans Mono',consolas,'Courier New',monospace\">/home/zhang/miniconda3/envs/3d/lib/python3.10/site-packages/lightning/pytorch/utilities/data.py:78: UserWarning:\n",
       "\n",
       "Trying to infer the `batch_size` from an ambiguous collection. The batch size we found is 6613. To avoid any \n",
       "miscalculations, use `self.log(..., batch_size=batch_size)`.\n",
       "\n",
       "</pre>\n"
      ],
      "text/plain": [
       "/home/zhang/miniconda3/envs/3d/lib/python3.10/site-packages/lightning/pytorch/utilities/data.py:78: UserWarning:\n",
       "\n",
       "Trying to infer the `batch_size` from an ambiguous collection. The batch size we found is 6613. To avoid any \n",
       "miscalculations, use `self.log(..., batch_size=batch_size)`.\n",
       "\n"
      ]
     },
     "metadata": {},
     "output_type": "display_data"
    },
    {
     "data": {
      "text/html": [
       "<pre style=\"white-space:pre;overflow-x:auto;line-height:normal;font-family:Menlo,'DejaVu Sans Mono',consolas,'Courier New',monospace\">/home/zhang/miniconda3/envs/3d/lib/python3.10/site-packages/lightning/pytorch/utilities/data.py:78: UserWarning:\n",
       "\n",
       "Trying to infer the `batch_size` from an ambiguous collection. The batch size we found is 4839. To avoid any \n",
       "miscalculations, use `self.log(..., batch_size=batch_size)`.\n",
       "\n",
       "</pre>\n"
      ],
      "text/plain": [
       "/home/zhang/miniconda3/envs/3d/lib/python3.10/site-packages/lightning/pytorch/utilities/data.py:78: UserWarning:\n",
       "\n",
       "Trying to infer the `batch_size` from an ambiguous collection. The batch size we found is 4839. To avoid any \n",
       "miscalculations, use `self.log(..., batch_size=batch_size)`.\n",
       "\n"
      ]
     },
     "metadata": {},
     "output_type": "display_data"
    },
    {
     "data": {
      "text/html": [
       "<pre style=\"white-space:pre;overflow-x:auto;line-height:normal;font-family:Menlo,'DejaVu Sans Mono',consolas,'Courier New',monospace\">/home/zhang/miniconda3/envs/3d/lib/python3.10/site-packages/lightning/pytorch/utilities/data.py:78: UserWarning:\n",
       "\n",
       "Trying to infer the `batch_size` from an ambiguous collection. The batch size we found is 5158. To avoid any \n",
       "miscalculations, use `self.log(..., batch_size=batch_size)`.\n",
       "\n",
       "</pre>\n"
      ],
      "text/plain": [
       "/home/zhang/miniconda3/envs/3d/lib/python3.10/site-packages/lightning/pytorch/utilities/data.py:78: UserWarning:\n",
       "\n",
       "Trying to infer the `batch_size` from an ambiguous collection. The batch size we found is 5158. To avoid any \n",
       "miscalculations, use `self.log(..., batch_size=batch_size)`.\n",
       "\n"
      ]
     },
     "metadata": {},
     "output_type": "display_data"
    },
    {
     "data": {
      "text/html": [
       "<pre style=\"white-space:pre;overflow-x:auto;line-height:normal;font-family:Menlo,'DejaVu Sans Mono',consolas,'Courier New',monospace\">/home/zhang/miniconda3/envs/3d/lib/python3.10/site-packages/lightning/pytorch/utilities/data.py:78: UserWarning:\n",
       "\n",
       "Trying to infer the `batch_size` from an ambiguous collection. The batch size we found is 4688. To avoid any \n",
       "miscalculations, use `self.log(..., batch_size=batch_size)`.\n",
       "\n",
       "</pre>\n"
      ],
      "text/plain": [
       "/home/zhang/miniconda3/envs/3d/lib/python3.10/site-packages/lightning/pytorch/utilities/data.py:78: UserWarning:\n",
       "\n",
       "Trying to infer the `batch_size` from an ambiguous collection. The batch size we found is 4688. To avoid any \n",
       "miscalculations, use `self.log(..., batch_size=batch_size)`.\n",
       "\n"
      ]
     },
     "metadata": {},
     "output_type": "display_data"
    },
    {
     "data": {
      "text/html": [
       "<pre style=\"white-space:pre;overflow-x:auto;line-height:normal;font-family:Menlo,'DejaVu Sans Mono',consolas,'Courier New',monospace\">/home/zhang/miniconda3/envs/3d/lib/python3.10/site-packages/lightning/pytorch/utilities/data.py:78: UserWarning:\n",
       "\n",
       "Trying to infer the `batch_size` from an ambiguous collection. The batch size we found is 3917. To avoid any \n",
       "miscalculations, use `self.log(..., batch_size=batch_size)`.\n",
       "\n",
       "</pre>\n"
      ],
      "text/plain": [
       "/home/zhang/miniconda3/envs/3d/lib/python3.10/site-packages/lightning/pytorch/utilities/data.py:78: UserWarning:\n",
       "\n",
       "Trying to infer the `batch_size` from an ambiguous collection. The batch size we found is 3917. To avoid any \n",
       "miscalculations, use `self.log(..., batch_size=batch_size)`.\n",
       "\n"
      ]
     },
     "metadata": {},
     "output_type": "display_data"
    },
    {
     "data": {
      "text/html": [
       "<pre style=\"white-space:pre;overflow-x:auto;line-height:normal;font-family:Menlo,'DejaVu Sans Mono',consolas,'Courier New',monospace\">/home/zhang/miniconda3/envs/3d/lib/python3.10/site-packages/lightning/pytorch/utilities/data.py:78: UserWarning:\n",
       "\n",
       "Trying to infer the `batch_size` from an ambiguous collection. The batch size we found is 5558. To avoid any \n",
       "miscalculations, use `self.log(..., batch_size=batch_size)`.\n",
       "\n",
       "</pre>\n"
      ],
      "text/plain": [
       "/home/zhang/miniconda3/envs/3d/lib/python3.10/site-packages/lightning/pytorch/utilities/data.py:78: UserWarning:\n",
       "\n",
       "Trying to infer the `batch_size` from an ambiguous collection. The batch size we found is 5558. To avoid any \n",
       "miscalculations, use `self.log(..., batch_size=batch_size)`.\n",
       "\n"
      ]
     },
     "metadata": {},
     "output_type": "display_data"
    },
    {
     "data": {
      "text/html": [
       "<pre style=\"white-space:pre;overflow-x:auto;line-height:normal;font-family:Menlo,'DejaVu Sans Mono',consolas,'Courier New',monospace\">/home/zhang/miniconda3/envs/3d/lib/python3.10/site-packages/lightning/pytorch/utilities/data.py:78: UserWarning:\n",
       "\n",
       "Trying to infer the `batch_size` from an ambiguous collection. The batch size we found is 6438. To avoid any \n",
       "miscalculations, use `self.log(..., batch_size=batch_size)`.\n",
       "\n",
       "</pre>\n"
      ],
      "text/plain": [
       "/home/zhang/miniconda3/envs/3d/lib/python3.10/site-packages/lightning/pytorch/utilities/data.py:78: UserWarning:\n",
       "\n",
       "Trying to infer the `batch_size` from an ambiguous collection. The batch size we found is 6438. To avoid any \n",
       "miscalculations, use `self.log(..., batch_size=batch_size)`.\n",
       "\n"
      ]
     },
     "metadata": {},
     "output_type": "display_data"
    },
    {
     "data": {
      "text/html": [
       "<pre style=\"white-space:pre;overflow-x:auto;line-height:normal;font-family:Menlo,'DejaVu Sans Mono',consolas,'Courier New',monospace\">/home/zhang/miniconda3/envs/3d/lib/python3.10/site-packages/lightning/pytorch/utilities/data.py:78: UserWarning:\n",
       "\n",
       "Trying to infer the `batch_size` from an ambiguous collection. The batch size we found is 7553. To avoid any \n",
       "miscalculations, use `self.log(..., batch_size=batch_size)`.\n",
       "\n",
       "</pre>\n"
      ],
      "text/plain": [
       "/home/zhang/miniconda3/envs/3d/lib/python3.10/site-packages/lightning/pytorch/utilities/data.py:78: UserWarning:\n",
       "\n",
       "Trying to infer the `batch_size` from an ambiguous collection. The batch size we found is 7553. To avoid any \n",
       "miscalculations, use `self.log(..., batch_size=batch_size)`.\n",
       "\n"
      ]
     },
     "metadata": {},
     "output_type": "display_data"
    },
    {
     "data": {
      "text/html": [
       "<pre style=\"white-space:pre;overflow-x:auto;line-height:normal;font-family:Menlo,'DejaVu Sans Mono',consolas,'Courier New',monospace\">/home/zhang/miniconda3/envs/3d/lib/python3.10/site-packages/lightning/pytorch/utilities/data.py:78: UserWarning:\n",
       "\n",
       "Trying to infer the `batch_size` from an ambiguous collection. The batch size we found is 9687. To avoid any \n",
       "miscalculations, use `self.log(..., batch_size=batch_size)`.\n",
       "\n",
       "</pre>\n"
      ],
      "text/plain": [
       "/home/zhang/miniconda3/envs/3d/lib/python3.10/site-packages/lightning/pytorch/utilities/data.py:78: UserWarning:\n",
       "\n",
       "Trying to infer the `batch_size` from an ambiguous collection. The batch size we found is 9687. To avoid any \n",
       "miscalculations, use `self.log(..., batch_size=batch_size)`.\n",
       "\n"
      ]
     },
     "metadata": {},
     "output_type": "display_data"
    },
    {
     "data": {
      "text/html": [
       "<pre style=\"white-space:pre;overflow-x:auto;line-height:normal;font-family:Menlo,'DejaVu Sans Mono',consolas,'Courier New',monospace\">/home/zhang/miniconda3/envs/3d/lib/python3.10/site-packages/lightning/pytorch/utilities/data.py:78: UserWarning:\n",
       "\n",
       "Trying to infer the `batch_size` from an ambiguous collection. The batch size we found is 6315. To avoid any \n",
       "miscalculations, use `self.log(..., batch_size=batch_size)`.\n",
       "\n",
       "</pre>\n"
      ],
      "text/plain": [
       "/home/zhang/miniconda3/envs/3d/lib/python3.10/site-packages/lightning/pytorch/utilities/data.py:78: UserWarning:\n",
       "\n",
       "Trying to infer the `batch_size` from an ambiguous collection. The batch size we found is 6315. To avoid any \n",
       "miscalculations, use `self.log(..., batch_size=batch_size)`.\n",
       "\n"
      ]
     },
     "metadata": {},
     "output_type": "display_data"
    },
    {
     "data": {
      "text/html": [
       "<pre style=\"white-space:pre;overflow-x:auto;line-height:normal;font-family:Menlo,'DejaVu Sans Mono',consolas,'Courier New',monospace\">/home/zhang/miniconda3/envs/3d/lib/python3.10/site-packages/lightning/pytorch/utilities/data.py:78: UserWarning:\n",
       "\n",
       "Trying to infer the `batch_size` from an ambiguous collection. The batch size we found is 6054. To avoid any \n",
       "miscalculations, use `self.log(..., batch_size=batch_size)`.\n",
       "\n",
       "</pre>\n"
      ],
      "text/plain": [
       "/home/zhang/miniconda3/envs/3d/lib/python3.10/site-packages/lightning/pytorch/utilities/data.py:78: UserWarning:\n",
       "\n",
       "Trying to infer the `batch_size` from an ambiguous collection. The batch size we found is 6054. To avoid any \n",
       "miscalculations, use `self.log(..., batch_size=batch_size)`.\n",
       "\n"
      ]
     },
     "metadata": {},
     "output_type": "display_data"
    },
    {
     "data": {
      "text/html": [
       "<pre style=\"white-space:pre;overflow-x:auto;line-height:normal;font-family:Menlo,'DejaVu Sans Mono',consolas,'Courier New',monospace\">/home/zhang/miniconda3/envs/3d/lib/python3.10/site-packages/lightning/pytorch/utilities/data.py:78: UserWarning:\n",
       "\n",
       "Trying to infer the `batch_size` from an ambiguous collection. The batch size we found is 7259. To avoid any \n",
       "miscalculations, use `self.log(..., batch_size=batch_size)`.\n",
       "\n",
       "</pre>\n"
      ],
      "text/plain": [
       "/home/zhang/miniconda3/envs/3d/lib/python3.10/site-packages/lightning/pytorch/utilities/data.py:78: UserWarning:\n",
       "\n",
       "Trying to infer the `batch_size` from an ambiguous collection. The batch size we found is 7259. To avoid any \n",
       "miscalculations, use `self.log(..., batch_size=batch_size)`.\n",
       "\n"
      ]
     },
     "metadata": {},
     "output_type": "display_data"
    },
    {
     "data": {
      "text/html": [
       "<pre style=\"white-space:pre;overflow-x:auto;line-height:normal;font-family:Menlo,'DejaVu Sans Mono',consolas,'Courier New',monospace\">/home/zhang/miniconda3/envs/3d/lib/python3.10/site-packages/lightning/pytorch/utilities/data.py:78: UserWarning:\n",
       "\n",
       "Trying to infer the `batch_size` from an ambiguous collection. The batch size we found is 6959. To avoid any \n",
       "miscalculations, use `self.log(..., batch_size=batch_size)`.\n",
       "\n",
       "</pre>\n"
      ],
      "text/plain": [
       "/home/zhang/miniconda3/envs/3d/lib/python3.10/site-packages/lightning/pytorch/utilities/data.py:78: UserWarning:\n",
       "\n",
       "Trying to infer the `batch_size` from an ambiguous collection. The batch size we found is 6959. To avoid any \n",
       "miscalculations, use `self.log(..., batch_size=batch_size)`.\n",
       "\n"
      ]
     },
     "metadata": {},
     "output_type": "display_data"
    },
    {
     "data": {
      "text/html": [
       "<pre style=\"white-space:pre;overflow-x:auto;line-height:normal;font-family:Menlo,'DejaVu Sans Mono',consolas,'Courier New',monospace\">/home/zhang/miniconda3/envs/3d/lib/python3.10/site-packages/lightning/pytorch/utilities/data.py:78: UserWarning:\n",
       "\n",
       "Trying to infer the `batch_size` from an ambiguous collection. The batch size we found is 5540. To avoid any \n",
       "miscalculations, use `self.log(..., batch_size=batch_size)`.\n",
       "\n",
       "</pre>\n"
      ],
      "text/plain": [
       "/home/zhang/miniconda3/envs/3d/lib/python3.10/site-packages/lightning/pytorch/utilities/data.py:78: UserWarning:\n",
       "\n",
       "Trying to infer the `batch_size` from an ambiguous collection. The batch size we found is 5540. To avoid any \n",
       "miscalculations, use `self.log(..., batch_size=batch_size)`.\n",
       "\n"
      ]
     },
     "metadata": {},
     "output_type": "display_data"
    },
    {
     "data": {
      "text/html": [
       "<pre style=\"white-space:pre;overflow-x:auto;line-height:normal;font-family:Menlo,'DejaVu Sans Mono',consolas,'Courier New',monospace\">/home/zhang/miniconda3/envs/3d/lib/python3.10/site-packages/lightning/pytorch/utilities/data.py:78: UserWarning:\n",
       "\n",
       "Trying to infer the `batch_size` from an ambiguous collection. The batch size we found is 7708. To avoid any \n",
       "miscalculations, use `self.log(..., batch_size=batch_size)`.\n",
       "\n",
       "</pre>\n"
      ],
      "text/plain": [
       "/home/zhang/miniconda3/envs/3d/lib/python3.10/site-packages/lightning/pytorch/utilities/data.py:78: UserWarning:\n",
       "\n",
       "Trying to infer the `batch_size` from an ambiguous collection. The batch size we found is 7708. To avoid any \n",
       "miscalculations, use `self.log(..., batch_size=batch_size)`.\n",
       "\n"
      ]
     },
     "metadata": {},
     "output_type": "display_data"
    },
    {
     "data": {
      "text/html": [
       "<pre style=\"white-space:pre;overflow-x:auto;line-height:normal;font-family:Menlo,'DejaVu Sans Mono',consolas,'Courier New',monospace\">/home/zhang/miniconda3/envs/3d/lib/python3.10/site-packages/lightning/pytorch/utilities/data.py:78: UserWarning:\n",
       "\n",
       "Trying to infer the `batch_size` from an ambiguous collection. The batch size we found is 8667. To avoid any \n",
       "miscalculations, use `self.log(..., batch_size=batch_size)`.\n",
       "\n",
       "</pre>\n"
      ],
      "text/plain": [
       "/home/zhang/miniconda3/envs/3d/lib/python3.10/site-packages/lightning/pytorch/utilities/data.py:78: UserWarning:\n",
       "\n",
       "Trying to infer the `batch_size` from an ambiguous collection. The batch size we found is 8667. To avoid any \n",
       "miscalculations, use `self.log(..., batch_size=batch_size)`.\n",
       "\n"
      ]
     },
     "metadata": {},
     "output_type": "display_data"
    },
    {
     "data": {
      "text/html": [
       "<pre style=\"white-space:pre;overflow-x:auto;line-height:normal;font-family:Menlo,'DejaVu Sans Mono',consolas,'Courier New',monospace\">/home/zhang/miniconda3/envs/3d/lib/python3.10/site-packages/lightning/pytorch/utilities/data.py:78: UserWarning:\n",
       "\n",
       "Trying to infer the `batch_size` from an ambiguous collection. The batch size we found is 8445. To avoid any \n",
       "miscalculations, use `self.log(..., batch_size=batch_size)`.\n",
       "\n",
       "</pre>\n"
      ],
      "text/plain": [
       "/home/zhang/miniconda3/envs/3d/lib/python3.10/site-packages/lightning/pytorch/utilities/data.py:78: UserWarning:\n",
       "\n",
       "Trying to infer the `batch_size` from an ambiguous collection. The batch size we found is 8445. To avoid any \n",
       "miscalculations, use `self.log(..., batch_size=batch_size)`.\n",
       "\n"
      ]
     },
     "metadata": {},
     "output_type": "display_data"
    },
    {
     "data": {
      "text/html": [
       "<pre style=\"white-space:pre;overflow-x:auto;line-height:normal;font-family:Menlo,'DejaVu Sans Mono',consolas,'Courier New',monospace\">/home/zhang/miniconda3/envs/3d/lib/python3.10/site-packages/lightning/pytorch/utilities/data.py:78: UserWarning:\n",
       "\n",
       "Trying to infer the `batch_size` from an ambiguous collection. The batch size we found is 11088. To avoid any \n",
       "miscalculations, use `self.log(..., batch_size=batch_size)`.\n",
       "\n",
       "</pre>\n"
      ],
      "text/plain": [
       "/home/zhang/miniconda3/envs/3d/lib/python3.10/site-packages/lightning/pytorch/utilities/data.py:78: UserWarning:\n",
       "\n",
       "Trying to infer the `batch_size` from an ambiguous collection. The batch size we found is 11088. To avoid any \n",
       "miscalculations, use `self.log(..., batch_size=batch_size)`.\n",
       "\n"
      ]
     },
     "metadata": {},
     "output_type": "display_data"
    },
    {
     "data": {
      "text/html": [
       "<pre style=\"white-space:pre;overflow-x:auto;line-height:normal;font-family:Menlo,'DejaVu Sans Mono',consolas,'Courier New',monospace\">/home/zhang/miniconda3/envs/3d/lib/python3.10/site-packages/lightning/pytorch/utilities/data.py:78: UserWarning:\n",
       "\n",
       "Trying to infer the `batch_size` from an ambiguous collection. The batch size we found is 6321. To avoid any \n",
       "miscalculations, use `self.log(..., batch_size=batch_size)`.\n",
       "\n",
       "</pre>\n"
      ],
      "text/plain": [
       "/home/zhang/miniconda3/envs/3d/lib/python3.10/site-packages/lightning/pytorch/utilities/data.py:78: UserWarning:\n",
       "\n",
       "Trying to infer the `batch_size` from an ambiguous collection. The batch size we found is 6321. To avoid any \n",
       "miscalculations, use `self.log(..., batch_size=batch_size)`.\n",
       "\n"
      ]
     },
     "metadata": {},
     "output_type": "display_data"
    },
    {
     "data": {
      "text/html": [
       "<pre style=\"white-space:pre;overflow-x:auto;line-height:normal;font-family:Menlo,'DejaVu Sans Mono',consolas,'Courier New',monospace\">/home/zhang/miniconda3/envs/3d/lib/python3.10/site-packages/lightning/pytorch/utilities/data.py:78: UserWarning:\n",
       "\n",
       "Trying to infer the `batch_size` from an ambiguous collection. The batch size we found is 4995. To avoid any \n",
       "miscalculations, use `self.log(..., batch_size=batch_size)`.\n",
       "\n",
       "</pre>\n"
      ],
      "text/plain": [
       "/home/zhang/miniconda3/envs/3d/lib/python3.10/site-packages/lightning/pytorch/utilities/data.py:78: UserWarning:\n",
       "\n",
       "Trying to infer the `batch_size` from an ambiguous collection. The batch size we found is 4995. To avoid any \n",
       "miscalculations, use `self.log(..., batch_size=batch_size)`.\n",
       "\n"
      ]
     },
     "metadata": {},
     "output_type": "display_data"
    },
    {
     "data": {
      "text/html": [
       "<pre style=\"white-space:pre;overflow-x:auto;line-height:normal;font-family:Menlo,'DejaVu Sans Mono',consolas,'Courier New',monospace\">/home/zhang/miniconda3/envs/3d/lib/python3.10/site-packages/lightning/pytorch/utilities/data.py:78: UserWarning:\n",
       "\n",
       "Trying to infer the `batch_size` from an ambiguous collection. The batch size we found is 5907. To avoid any \n",
       "miscalculations, use `self.log(..., batch_size=batch_size)`.\n",
       "\n",
       "</pre>\n"
      ],
      "text/plain": [
       "/home/zhang/miniconda3/envs/3d/lib/python3.10/site-packages/lightning/pytorch/utilities/data.py:78: UserWarning:\n",
       "\n",
       "Trying to infer the `batch_size` from an ambiguous collection. The batch size we found is 5907. To avoid any \n",
       "miscalculations, use `self.log(..., batch_size=batch_size)`.\n",
       "\n"
      ]
     },
     "metadata": {},
     "output_type": "display_data"
    },
    {
     "data": {
      "text/html": [
       "<pre style=\"white-space:pre;overflow-x:auto;line-height:normal;font-family:Menlo,'DejaVu Sans Mono',consolas,'Courier New',monospace\">/home/zhang/miniconda3/envs/3d/lib/python3.10/site-packages/lightning/pytorch/utilities/data.py:78: UserWarning:\n",
       "\n",
       "Trying to infer the `batch_size` from an ambiguous collection. The batch size we found is 7441. To avoid any \n",
       "miscalculations, use `self.log(..., batch_size=batch_size)`.\n",
       "\n",
       "</pre>\n"
      ],
      "text/plain": [
       "/home/zhang/miniconda3/envs/3d/lib/python3.10/site-packages/lightning/pytorch/utilities/data.py:78: UserWarning:\n",
       "\n",
       "Trying to infer the `batch_size` from an ambiguous collection. The batch size we found is 7441. To avoid any \n",
       "miscalculations, use `self.log(..., batch_size=batch_size)`.\n",
       "\n"
      ]
     },
     "metadata": {},
     "output_type": "display_data"
    },
    {
     "data": {
      "text/html": [
       "<pre style=\"white-space:pre;overflow-x:auto;line-height:normal;font-family:Menlo,'DejaVu Sans Mono',consolas,'Courier New',monospace\">/home/zhang/miniconda3/envs/3d/lib/python3.10/site-packages/lightning/pytorch/utilities/data.py:78: UserWarning:\n",
       "\n",
       "Trying to infer the `batch_size` from an ambiguous collection. The batch size we found is 7265. To avoid any \n",
       "miscalculations, use `self.log(..., batch_size=batch_size)`.\n",
       "\n",
       "</pre>\n"
      ],
      "text/plain": [
       "/home/zhang/miniconda3/envs/3d/lib/python3.10/site-packages/lightning/pytorch/utilities/data.py:78: UserWarning:\n",
       "\n",
       "Trying to infer the `batch_size` from an ambiguous collection. The batch size we found is 7265. To avoid any \n",
       "miscalculations, use `self.log(..., batch_size=batch_size)`.\n",
       "\n"
      ]
     },
     "metadata": {},
     "output_type": "display_data"
    },
    {
     "data": {
      "text/html": [
       "<pre style=\"white-space:pre;overflow-x:auto;line-height:normal;font-family:Menlo,'DejaVu Sans Mono',consolas,'Courier New',monospace\">/home/zhang/miniconda3/envs/3d/lib/python3.10/site-packages/lightning/pytorch/utilities/data.py:78: UserWarning:\n",
       "\n",
       "Trying to infer the `batch_size` from an ambiguous collection. The batch size we found is 4729. To avoid any \n",
       "miscalculations, use `self.log(..., batch_size=batch_size)`.\n",
       "\n",
       "</pre>\n"
      ],
      "text/plain": [
       "/home/zhang/miniconda3/envs/3d/lib/python3.10/site-packages/lightning/pytorch/utilities/data.py:78: UserWarning:\n",
       "\n",
       "Trying to infer the `batch_size` from an ambiguous collection. The batch size we found is 4729. To avoid any \n",
       "miscalculations, use `self.log(..., batch_size=batch_size)`.\n",
       "\n"
      ]
     },
     "metadata": {},
     "output_type": "display_data"
    },
    {
     "data": {
      "text/html": [
       "<pre style=\"white-space:pre;overflow-x:auto;line-height:normal;font-family:Menlo,'DejaVu Sans Mono',consolas,'Courier New',monospace\">/home/zhang/miniconda3/envs/3d/lib/python3.10/site-packages/lightning/pytorch/utilities/data.py:78: UserWarning:\n",
       "\n",
       "Trying to infer the `batch_size` from an ambiguous collection. The batch size we found is 4738. To avoid any \n",
       "miscalculations, use `self.log(..., batch_size=batch_size)`.\n",
       "\n",
       "</pre>\n"
      ],
      "text/plain": [
       "/home/zhang/miniconda3/envs/3d/lib/python3.10/site-packages/lightning/pytorch/utilities/data.py:78: UserWarning:\n",
       "\n",
       "Trying to infer the `batch_size` from an ambiguous collection. The batch size we found is 4738. To avoid any \n",
       "miscalculations, use `self.log(..., batch_size=batch_size)`.\n",
       "\n"
      ]
     },
     "metadata": {},
     "output_type": "display_data"
    },
    {
     "data": {
      "text/html": [
       "<pre style=\"white-space:pre;overflow-x:auto;line-height:normal;font-family:Menlo,'DejaVu Sans Mono',consolas,'Courier New',monospace\">/home/zhang/miniconda3/envs/3d/lib/python3.10/site-packages/lightning/pytorch/utilities/data.py:78: UserWarning:\n",
       "\n",
       "Trying to infer the `batch_size` from an ambiguous collection. The batch size we found is 4559. To avoid any \n",
       "miscalculations, use `self.log(..., batch_size=batch_size)`.\n",
       "\n",
       "</pre>\n"
      ],
      "text/plain": [
       "/home/zhang/miniconda3/envs/3d/lib/python3.10/site-packages/lightning/pytorch/utilities/data.py:78: UserWarning:\n",
       "\n",
       "Trying to infer the `batch_size` from an ambiguous collection. The batch size we found is 4559. To avoid any \n",
       "miscalculations, use `self.log(..., batch_size=batch_size)`.\n",
       "\n"
      ]
     },
     "metadata": {},
     "output_type": "display_data"
    },
    {
     "data": {
      "text/html": [
       "<pre style=\"white-space:pre;overflow-x:auto;line-height:normal;font-family:Menlo,'DejaVu Sans Mono',consolas,'Courier New',monospace\">/home/zhang/miniconda3/envs/3d/lib/python3.10/site-packages/lightning/pytorch/utilities/data.py:78: UserWarning:\n",
       "\n",
       "Trying to infer the `batch_size` from an ambiguous collection. The batch size we found is 3324. To avoid any \n",
       "miscalculations, use `self.log(..., batch_size=batch_size)`.\n",
       "\n",
       "</pre>\n"
      ],
      "text/plain": [
       "/home/zhang/miniconda3/envs/3d/lib/python3.10/site-packages/lightning/pytorch/utilities/data.py:78: UserWarning:\n",
       "\n",
       "Trying to infer the `batch_size` from an ambiguous collection. The batch size we found is 3324. To avoid any \n",
       "miscalculations, use `self.log(..., batch_size=batch_size)`.\n",
       "\n"
      ]
     },
     "metadata": {},
     "output_type": "display_data"
    },
    {
     "data": {
      "text/html": [
       "<pre style=\"white-space:pre;overflow-x:auto;line-height:normal;font-family:Menlo,'DejaVu Sans Mono',consolas,'Courier New',monospace\">/home/zhang/miniconda3/envs/3d/lib/python3.10/site-packages/lightning/pytorch/utilities/data.py:78: UserWarning:\n",
       "\n",
       "Trying to infer the `batch_size` from an ambiguous collection. The batch size we found is 4523. To avoid any \n",
       "miscalculations, use `self.log(..., batch_size=batch_size)`.\n",
       "\n",
       "</pre>\n"
      ],
      "text/plain": [
       "/home/zhang/miniconda3/envs/3d/lib/python3.10/site-packages/lightning/pytorch/utilities/data.py:78: UserWarning:\n",
       "\n",
       "Trying to infer the `batch_size` from an ambiguous collection. The batch size we found is 4523. To avoid any \n",
       "miscalculations, use `self.log(..., batch_size=batch_size)`.\n",
       "\n"
      ]
     },
     "metadata": {},
     "output_type": "display_data"
    },
    {
     "data": {
      "text/html": [
       "<pre style=\"white-space:pre;overflow-x:auto;line-height:normal;font-family:Menlo,'DejaVu Sans Mono',consolas,'Courier New',monospace\">/home/zhang/miniconda3/envs/3d/lib/python3.10/site-packages/lightning/pytorch/utilities/data.py:78: UserWarning:\n",
       "\n",
       "Trying to infer the `batch_size` from an ambiguous collection. The batch size we found is 11093. To avoid any \n",
       "miscalculations, use `self.log(..., batch_size=batch_size)`.\n",
       "\n",
       "</pre>\n"
      ],
      "text/plain": [
       "/home/zhang/miniconda3/envs/3d/lib/python3.10/site-packages/lightning/pytorch/utilities/data.py:78: UserWarning:\n",
       "\n",
       "Trying to infer the `batch_size` from an ambiguous collection. The batch size we found is 11093. To avoid any \n",
       "miscalculations, use `self.log(..., batch_size=batch_size)`.\n",
       "\n"
      ]
     },
     "metadata": {},
     "output_type": "display_data"
    },
    {
     "data": {
      "text/html": [
       "<pre style=\"white-space:pre;overflow-x:auto;line-height:normal;font-family:Menlo,'DejaVu Sans Mono',consolas,'Courier New',monospace\">/home/zhang/miniconda3/envs/3d/lib/python3.10/site-packages/lightning/pytorch/utilities/data.py:78: UserWarning:\n",
       "\n",
       "Trying to infer the `batch_size` from an ambiguous collection. The batch size we found is 7611. To avoid any \n",
       "miscalculations, use `self.log(..., batch_size=batch_size)`.\n",
       "\n",
       "</pre>\n"
      ],
      "text/plain": [
       "/home/zhang/miniconda3/envs/3d/lib/python3.10/site-packages/lightning/pytorch/utilities/data.py:78: UserWarning:\n",
       "\n",
       "Trying to infer the `batch_size` from an ambiguous collection. The batch size we found is 7611. To avoid any \n",
       "miscalculations, use `self.log(..., batch_size=batch_size)`.\n",
       "\n"
      ]
     },
     "metadata": {},
     "output_type": "display_data"
    },
    {
     "data": {
      "text/html": [
       "<pre style=\"white-space:pre;overflow-x:auto;line-height:normal;font-family:Menlo,'DejaVu Sans Mono',consolas,'Courier New',monospace\">/home/zhang/miniconda3/envs/3d/lib/python3.10/site-packages/lightning/pytorch/utilities/data.py:78: UserWarning:\n",
       "\n",
       "Trying to infer the `batch_size` from an ambiguous collection. The batch size we found is 1608. To avoid any \n",
       "miscalculations, use `self.log(..., batch_size=batch_size)`.\n",
       "\n",
       "</pre>\n"
      ],
      "text/plain": [
       "/home/zhang/miniconda3/envs/3d/lib/python3.10/site-packages/lightning/pytorch/utilities/data.py:78: UserWarning:\n",
       "\n",
       "Trying to infer the `batch_size` from an ambiguous collection. The batch size we found is 1608. To avoid any \n",
       "miscalculations, use `self.log(..., batch_size=batch_size)`.\n",
       "\n"
      ]
     },
     "metadata": {},
     "output_type": "display_data"
    },
    {
     "data": {
      "text/html": [
       "<pre style=\"white-space:pre;overflow-x:auto;line-height:normal;font-family:Menlo,'DejaVu Sans Mono',consolas,'Courier New',monospace\">/home/zhang/miniconda3/envs/3d/lib/python3.10/site-packages/lightning/pytorch/utilities/data.py:78: UserWarning:\n",
       "\n",
       "Trying to infer the `batch_size` from an ambiguous collection. The batch size we found is 2552. To avoid any \n",
       "miscalculations, use `self.log(..., batch_size=batch_size)`.\n",
       "\n",
       "</pre>\n"
      ],
      "text/plain": [
       "/home/zhang/miniconda3/envs/3d/lib/python3.10/site-packages/lightning/pytorch/utilities/data.py:78: UserWarning:\n",
       "\n",
       "Trying to infer the `batch_size` from an ambiguous collection. The batch size we found is 2552. To avoid any \n",
       "miscalculations, use `self.log(..., batch_size=batch_size)`.\n",
       "\n"
      ]
     },
     "metadata": {},
     "output_type": "display_data"
    },
    {
     "data": {
      "text/html": [
       "<pre style=\"white-space:pre;overflow-x:auto;line-height:normal;font-family:Menlo,'DejaVu Sans Mono',consolas,'Courier New',monospace\">/home/zhang/miniconda3/envs/3d/lib/python3.10/site-packages/lightning/pytorch/utilities/data.py:78: UserWarning:\n",
       "\n",
       "Trying to infer the `batch_size` from an ambiguous collection. The batch size we found is 300. To avoid any \n",
       "miscalculations, use `self.log(..., batch_size=batch_size)`.\n",
       "\n",
       "</pre>\n"
      ],
      "text/plain": [
       "/home/zhang/miniconda3/envs/3d/lib/python3.10/site-packages/lightning/pytorch/utilities/data.py:78: UserWarning:\n",
       "\n",
       "Trying to infer the `batch_size` from an ambiguous collection. The batch size we found is 300. To avoid any \n",
       "miscalculations, use `self.log(..., batch_size=batch_size)`.\n",
       "\n"
      ]
     },
     "metadata": {},
     "output_type": "display_data"
    },
    {
     "data": {
      "text/html": [
       "<pre style=\"white-space:pre;overflow-x:auto;line-height:normal;font-family:Menlo,'DejaVu Sans Mono',consolas,'Courier New',monospace\">┏━━━━━━━━━━━━━━━━━━━━━━━━━━━┳━━━━━━━━━━━━━━━━━━━━━━━━━━━┓\n",
       "┃<span style=\"font-weight: bold\">        Test metric        </span>┃<span style=\"font-weight: bold\">       DataLoader 0        </span>┃\n",
       "┡━━━━━━━━━━━━━━━━━━━━━━━━━━━╇━━━━━━━━━━━━━━━━━━━━━━━━━━━┩\n",
       "│<span style=\"color: #008080; text-decoration-color: #008080\"> test/graph_label/accuracy </span>│<span style=\"color: #800080; text-decoration-color: #800080\">    0.33140623569488525    </span>│\n",
       "│<span style=\"color: #008080; text-decoration-color: #008080\">  test/graph_label/f1_max  </span>│<span style=\"color: #800080; text-decoration-color: #800080\">    0.4003984034061432     </span>│\n",
       "│<span style=\"color: #008080; text-decoration-color: #008080\"> test/graph_label/f1_score </span>│<span style=\"color: #800080; text-decoration-color: #800080\">    0.11053196340799332    </span>│\n",
       "│<span style=\"color: #008080; text-decoration-color: #008080\">   test/loss/graph_label   </span>│<span style=\"color: #800080; text-decoration-color: #800080\">    12.169452667236328     </span>│\n",
       "│<span style=\"color: #008080; text-decoration-color: #008080\">      test/loss/total      </span>│<span style=\"color: #800080; text-decoration-color: #800080\">    12.169452667236328     </span>│\n",
       "└───────────────────────────┴───────────────────────────┘\n",
       "</pre>\n"
      ],
      "text/plain": [
       "┏━━━━━━━━━━━━━━━━━━━━━━━━━━━┳━━━━━━━━━━━━━━━━━━━━━━━━━━━┓\n",
       "┃\u001b[1m \u001b[0m\u001b[1m       Test metric       \u001b[0m\u001b[1m \u001b[0m┃\u001b[1m \u001b[0m\u001b[1m      DataLoader 0       \u001b[0m\u001b[1m \u001b[0m┃\n",
       "┡━━━━━━━━━━━━━━━━━━━━━━━━━━━╇━━━━━━━━━━━━━━━━━━━━━━━━━━━┩\n",
       "│\u001b[36m \u001b[0m\u001b[36mtest/graph_label/accuracy\u001b[0m\u001b[36m \u001b[0m│\u001b[35m \u001b[0m\u001b[35m   0.33140623569488525   \u001b[0m\u001b[35m \u001b[0m│\n",
       "│\u001b[36m \u001b[0m\u001b[36m test/graph_label/f1_max \u001b[0m\u001b[36m \u001b[0m│\u001b[35m \u001b[0m\u001b[35m   0.4003984034061432    \u001b[0m\u001b[35m \u001b[0m│\n",
       "│\u001b[36m \u001b[0m\u001b[36mtest/graph_label/f1_score\u001b[0m\u001b[36m \u001b[0m│\u001b[35m \u001b[0m\u001b[35m   0.11053196340799332   \u001b[0m\u001b[35m \u001b[0m│\n",
       "│\u001b[36m \u001b[0m\u001b[36m  test/loss/graph_label  \u001b[0m\u001b[36m \u001b[0m│\u001b[35m \u001b[0m\u001b[35m   12.169452667236328    \u001b[0m\u001b[35m \u001b[0m│\n",
       "│\u001b[36m \u001b[0m\u001b[36m     test/loss/total     \u001b[0m\u001b[36m \u001b[0m│\u001b[35m \u001b[0m\u001b[35m   12.169452667236328    \u001b[0m\u001b[35m \u001b[0m│\n",
       "└───────────────────────────┴───────────────────────────┘\n"
      ]
     },
     "metadata": {},
     "output_type": "display_data"
    },
    {
     "data": {
      "text/html": [
       "<pre style=\"white-space:pre;overflow-x:auto;line-height:normal;font-family:Menlo,'DejaVu Sans Mono',consolas,'Courier New',monospace\"></pre>\n"
      ],
      "text/plain": []
     },
     "metadata": {},
     "output_type": "display_data"
    },
    {
     "data": {
      "text/html": [
       "<pre style=\"white-space:pre;overflow-x:auto;line-height:normal;font-family:Menlo,'DejaVu Sans Mono',consolas,'Courier New',monospace\">\n",
       "</pre>\n"
      ],
      "text/plain": [
       "\n"
      ]
     },
     "metadata": {},
     "output_type": "display_data"
    },
    {
     "data": {
      "text/html": [
       "<pre style=\"white-space:pre;overflow-x:auto;line-height:normal;font-family:Menlo,'DejaVu Sans Mono',consolas,'Courier New',monospace\"><span style=\"color: #7fbfbf; text-decoration-color: #7fbfbf\">[07/28/24 17:56:02] </span><span style=\"color: #000080; text-decoration-color: #000080\">INFO    </span> superfamily: <span style=\"font-weight: bold\">{</span><span style=\"color: #008000; text-decoration-color: #008000\">'test/loss/graph_label/superfamily'</span>: <span style=\"color: #008080; text-decoration-color: #008080; font-weight: bold\">12.169452667236328</span>,    <a href=\"file:///home/zhang/Projects/3d/ProteinWorkshop/proteinworkshop/train.py\" target=\"_blank\"><span style=\"color: #7f7f7f; text-decoration-color: #7f7f7f\">train.py</span></a><span style=\"color: #7f7f7f; text-decoration-color: #7f7f7f\">:</span><a href=\"file:///home/zhang/Projects/3d/ProteinWorkshop/proteinworkshop/train.py#204\" target=\"_blank\"><span style=\"color: #7f7f7f; text-decoration-color: #7f7f7f\">204</span></a>\n",
       "<span style=\"color: #7fbfbf; text-decoration-color: #7fbfbf\">                    </span>         <span style=\"color: #008000; text-decoration-color: #008000\">'test/loss/total/superfamily'</span>: <span style=\"color: #008080; text-decoration-color: #008080; font-weight: bold\">12.169452667236328</span>,                        <span style=\"color: #7f7f7f; text-decoration-color: #7f7f7f\">            </span>\n",
       "<span style=\"color: #7fbfbf; text-decoration-color: #7fbfbf\">                    </span>         <span style=\"color: #008000; text-decoration-color: #008000\">'test/graph_label/accuracy/superfamily'</span>: <span style=\"color: #008080; text-decoration-color: #008080; font-weight: bold\">0.33140623569488525</span>,             <span style=\"color: #7f7f7f; text-decoration-color: #7f7f7f\">            </span>\n",
       "<span style=\"color: #7fbfbf; text-decoration-color: #7fbfbf\">                    </span>         <span style=\"color: #008000; text-decoration-color: #008000\">'test/graph_label/f1_score/superfamily'</span>: <span style=\"color: #008080; text-decoration-color: #008080; font-weight: bold\">0.11053196340799332</span>,             <span style=\"color: #7f7f7f; text-decoration-color: #7f7f7f\">            </span>\n",
       "<span style=\"color: #7fbfbf; text-decoration-color: #7fbfbf\">                    </span>         <span style=\"color: #008000; text-decoration-color: #008000\">'test/graph_label/f1_max/superfamily'</span>: <span style=\"color: #008080; text-decoration-color: #008080; font-weight: bold\">0.4003984034061432</span><span style=\"font-weight: bold\">}</span>                <span style=\"color: #7f7f7f; text-decoration-color: #7f7f7f\">            </span>\n",
       "</pre>\n"
      ],
      "text/plain": [
       "\u001b[2;36m[07/28/24 17:56:02]\u001b[0m\u001b[2;36m \u001b[0m\u001b[34mINFO    \u001b[0m superfamily: \u001b[1m{\u001b[0m\u001b[32m'test/loss/graph_label/superfamily'\u001b[0m: \u001b[1;36m12.169452667236328\u001b[0m,    \u001b]8;id=85046;file:///home/zhang/Projects/3d/ProteinWorkshop/proteinworkshop/train.py\u001b\\\u001b[2mtrain.py\u001b[0m\u001b]8;;\u001b\\\u001b[2m:\u001b[0m\u001b]8;id=759789;file:///home/zhang/Projects/3d/ProteinWorkshop/proteinworkshop/train.py#204\u001b\\\u001b[2m204\u001b[0m\u001b]8;;\u001b\\\n",
       "\u001b[2;36m                    \u001b[0m         \u001b[32m'test/loss/total/superfamily'\u001b[0m: \u001b[1;36m12.169452667236328\u001b[0m,                        \u001b[2m            \u001b[0m\n",
       "\u001b[2;36m                    \u001b[0m         \u001b[32m'test/graph_label/accuracy/superfamily'\u001b[0m: \u001b[1;36m0.33140623569488525\u001b[0m,             \u001b[2m            \u001b[0m\n",
       "\u001b[2;36m                    \u001b[0m         \u001b[32m'test/graph_label/f1_score/superfamily'\u001b[0m: \u001b[1;36m0.11053196340799332\u001b[0m,             \u001b[2m            \u001b[0m\n",
       "\u001b[2;36m                    \u001b[0m         \u001b[32m'test/graph_label/f1_max/superfamily'\u001b[0m: \u001b[1;36m0.4003984034061432\u001b[0m\u001b[1m}\u001b[0m                \u001b[2m            \u001b[0m\n"
      ]
     },
     "metadata": {},
     "output_type": "display_data"
    }
   ],
   "source": [
    "from proteinworkshop.train import train_model\n",
    "\n",
    "train_model(cfg)"
   ]
  },
  {
   "cell_type": "markdown",
   "metadata": {},
   "source": [
    "### 4. Wrapping up\n",
    "\n",
    "Have any additional questions about using the components provided in the `ProteinWorkshop`? [Create a new issue](https://github.com/a-r-j/ProteinWorkshop/issues/new/choose) on our [GitHub repository](https://github.com/a-r-j/ProteinWorkshop). We would be happy to work with you to leverage the full power of the repository!"
   ]
  },
  {
   "cell_type": "markdown",
   "metadata": {},
   "source": [
    "/home/yang/anaconda3/envs/3d/lib/python3.10/site-packages/lightning/pytorch/utilities/data.py"
   ]
  }
 ],
 "metadata": {
  "kernelspec": {
   "display_name": "Python 3",
   "language": "python",
   "name": "python3"
  },
  "language_info": {
   "codemirror_mode": {
    "name": "ipython",
    "version": 3
   },
   "file_extension": ".py",
   "mimetype": "text/x-python",
   "name": "python",
   "nbconvert_exporter": "python",
   "pygments_lexer": "ipython3",
   "version": "3.10.14"
  },
  "orig_nbformat": 4
 },
 "nbformat": 4,
 "nbformat_minor": 2
}
