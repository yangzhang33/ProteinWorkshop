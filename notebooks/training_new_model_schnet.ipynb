{
 "cells": [
  {
   "cell_type": "markdown",
   "metadata": {},
   "source": [
    "# `ProteinWorkshop` Tutorial, Part 1 - Training a New Model\n",
    "![Models](../docs/source/_static/box_models.png)"
   ]
  },
  {
   "cell_type": "markdown",
   "metadata": {},
   "source": [
    "## Train a new model using the `ProteinWorkshop`"
   ]
  },
  {
   "cell_type": "code",
   "execution_count": 1,
   "metadata": {},
   "outputs": [],
   "source": [
    "%load_ext autoreload\n",
    "%autoreload 2\n",
    "# %load_ext blackcellmagic"
   ]
  },
  {
   "cell_type": "markdown",
   "metadata": {},
   "source": [
    "Welcome to the tutorial series for the `ProteinWorkshop`! \n",
    "\n",
    "In the `ProteinWorkshop`, we implement numerous [featurisation](https://www.proteins.sh/configs/features) schemes, [datasets](https://www.proteins.sh/configs/dataset) for [self-supervised pre-training](https://proteins.sh/quickstart_component/pretrain.html) and [downstream evaluation](https://proteins.sh/quickstart_component/downstream.html), [pre-training](https://proteins.sh/configs/task) tasks, and [auxiliary tasks](https://proteins.sh/configs/task.html#auxiliary-tasks).\n",
    "\n",
    "[Processed datasets](https://drive.google.com/drive/folders/18i8rLST6ZICTBu6Q67ClT0KqN9AHeqoW?usp=sharing) and [pre-trained weights](https://drive.google.com/drive/folders/1zK1r8FpmGaqV_QwUJuvDacwSL0RW-Vw9?usp=sharing) are made available. Downloading datasets is not required; upon first run all datasets will be downloaded and processed from their respective source.\n",
    "\n",
    "The `ProteinWorkshop` encompasses several models as well as pre-trained weights for them so that you can readily use them.\n",
    "\n",
    "In this tutorial, we show you how you can use what is already available in the protein workshop to train and use models for specific tasks. The `ProteinWorkshop` is structured as a very modular package; we will therefore talk about how to change the different parts of it, like the model, training task, dataset, featurization scheme, etc. in this tutorial. \n",
    "\n",
    "Besides using all the different options we provide, you can make use of the modular nature of the `ProteinWorkshop` to add your own models, datasets, featurization schemes, and training tasks. We will show you how to do this in the next tutorials."
   ]
  },
  {
   "cell_type": "markdown",
   "metadata": {},
   "source": [
    "To train a new model, you can follow the following 3-step procedure:\n",
    "\n",
    "1. Choose the parts you want to consider: model, training task, dataset, featurization scheme and auxiliary tasks\n",
    "2. Validate the designed training config\n",
    "3. Use the designed config to train a new model"
   ]
  },
  {
   "cell_type": "markdown",
   "metadata": {},
   "source": [
    "### 1. Choose the parts you want to consider: model, training task, dataset, featurization scheme and auxiliary tasks\n",
    "\n",
    "You can switch out any of these for another available option by replacing the corresponding argument's value in `overrides`:\n",
    "\n",
    "`cfg = hydra.compose(\"template\", overrides=[\"encoder=schnet\", \"task=inverse_folding\", \"dataset=afdb_swissprot_v4\", \"features=ca_base\", \"+aux_task=none\"], return_hydra_config=True)`"
   ]
  },
  {
   "cell_type": "code",
   "execution_count": 2,
   "metadata": {},
   "outputs": [
    {
     "data": {
      "text/html": [
       "<pre style=\"white-space:pre;overflow-x:auto;line-height:normal;font-family:Menlo,'DejaVu Sans Mono',consolas,'Courier New',monospace\"><span style=\"color: #7fbfbf; text-decoration-color: #7fbfbf\">[07/23/24 17:12:48] </span><span style=\"color: #008000; text-decoration-color: #008000\">DEBUG   </span> No `.env` file found in project root. Checking for env vars<span style=\"color: #808000; text-decoration-color: #808000\">...</span>         <a href=\"file:///home/zhang/Projects/3d/ProteinWorkshop/proteinworkshop/constants.py\" target=\"_blank\"><span style=\"color: #7f7f7f; text-decoration-color: #7f7f7f\">constants.py</span></a><span style=\"color: #7f7f7f; text-decoration-color: #7f7f7f\">:</span><a href=\"file:///home/zhang/Projects/3d/ProteinWorkshop/proteinworkshop/constants.py#22\" target=\"_blank\"><span style=\"color: #7f7f7f; text-decoration-color: #7f7f7f\">22</span></a>\n",
       "</pre>\n"
      ],
      "text/plain": [
       "\u001b[2;36m[07/23/24 17:12:48]\u001b[0m\u001b[2;36m \u001b[0m\u001b[32mDEBUG   \u001b[0m No `.env` file found in project root. Checking for env vars\u001b[33m...\u001b[0m         \u001b]8;id=552683;file:///home/zhang/Projects/3d/ProteinWorkshop/proteinworkshop/constants.py\u001b\\\u001b[2mconstants.py\u001b[0m\u001b]8;;\u001b\\\u001b[2m:\u001b[0m\u001b]8;id=87487;file:///home/zhang/Projects/3d/ProteinWorkshop/proteinworkshop/constants.py#22\u001b\\\u001b[2m22\u001b[0m\u001b]8;;\u001b\\\n"
      ]
     },
     "metadata": {},
     "output_type": "display_data"
    },
    {
     "data": {
      "text/html": [
       "<pre style=\"white-space:pre;overflow-x:auto;line-height:normal;font-family:Menlo,'DejaVu Sans Mono',consolas,'Courier New',monospace\"><span style=\"color: #7fbfbf; text-decoration-color: #7fbfbf\">                    </span><span style=\"color: #008000; text-decoration-color: #008000\">DEBUG   </span> No env var `DATA_PATH` found. Setting default<span style=\"color: #808000; text-decoration-color: #808000\">...</span>                       <a href=\"file:///home/zhang/Projects/3d/ProteinWorkshop/proteinworkshop/constants.py\" target=\"_blank\"><span style=\"color: #7f7f7f; text-decoration-color: #7f7f7f\">constants.py</span></a><span style=\"color: #7f7f7f; text-decoration-color: #7f7f7f\">:</span><a href=\"file:///home/zhang/Projects/3d/ProteinWorkshop/proteinworkshop/constants.py#28\" target=\"_blank\"><span style=\"color: #7f7f7f; text-decoration-color: #7f7f7f\">28</span></a>\n",
       "</pre>\n"
      ],
      "text/plain": [
       "\u001b[2;36m                   \u001b[0m\u001b[2;36m \u001b[0m\u001b[32mDEBUG   \u001b[0m No env var `DATA_PATH` found. Setting default\u001b[33m...\u001b[0m                       \u001b]8;id=603407;file:///home/zhang/Projects/3d/ProteinWorkshop/proteinworkshop/constants.py\u001b\\\u001b[2mconstants.py\u001b[0m\u001b]8;;\u001b\\\u001b[2m:\u001b[0m\u001b]8;id=537434;file:///home/zhang/Projects/3d/ProteinWorkshop/proteinworkshop/constants.py#28\u001b\\\u001b[2m28\u001b[0m\u001b]8;;\u001b\\\n"
      ]
     },
     "metadata": {},
     "output_type": "display_data"
    },
    {
     "data": {
      "text/html": [
       "<pre style=\"white-space:pre;overflow-x:auto;line-height:normal;font-family:Menlo,'DejaVu Sans Mono',consolas,'Courier New',monospace\"><span style=\"color: #7fbfbf; text-decoration-color: #7fbfbf\">                    </span><span style=\"color: #000080; text-decoration-color: #000080\">INFO    </span> DATA_PATH:                                                             <a href=\"file:///home/zhang/Projects/3d/ProteinWorkshop/proteinworkshop/constants.py\" target=\"_blank\"><span style=\"color: #7f7f7f; text-decoration-color: #7f7f7f\">constants.py</span></a><span style=\"color: #7f7f7f; text-decoration-color: #7f7f7f\">:</span><a href=\"file:///home/zhang/Projects/3d/ProteinWorkshop/proteinworkshop/constants.py#39\" target=\"_blank\"><span style=\"color: #7f7f7f; text-decoration-color: #7f7f7f\">39</span></a>\n",
       "<span style=\"color: #7fbfbf; text-decoration-color: #7fbfbf\">                    </span>         <span style=\"color: #800080; text-decoration-color: #800080\">/home/zhang/Projects/3d/ProteinWorkshop/proteinworkshop/</span><span style=\"color: #ff00ff; text-decoration-color: #ff00ff\">data</span>           <span style=\"color: #7f7f7f; text-decoration-color: #7f7f7f\">               </span>\n",
       "</pre>\n"
      ],
      "text/plain": [
       "\u001b[2;36m                   \u001b[0m\u001b[2;36m \u001b[0m\u001b[34mINFO    \u001b[0m DATA_PATH:                                                             \u001b]8;id=911334;file:///home/zhang/Projects/3d/ProteinWorkshop/proteinworkshop/constants.py\u001b\\\u001b[2mconstants.py\u001b[0m\u001b]8;;\u001b\\\u001b[2m:\u001b[0m\u001b]8;id=244990;file:///home/zhang/Projects/3d/ProteinWorkshop/proteinworkshop/constants.py#39\u001b\\\u001b[2m39\u001b[0m\u001b]8;;\u001b\\\n",
       "\u001b[2;36m                    \u001b[0m         \u001b[35m/home/zhang/Projects/3d/ProteinWorkshop/proteinworkshop/\u001b[0m\u001b[95mdata\u001b[0m           \u001b[2m               \u001b[0m\n"
      ]
     },
     "metadata": {},
     "output_type": "display_data"
    },
    {
     "data": {
      "text/html": [
       "<pre style=\"white-space:pre;overflow-x:auto;line-height:normal;font-family:Menlo,'DejaVu Sans Mono',consolas,'Courier New',monospace\"><span style=\"color: #7fbfbf; text-decoration-color: #7fbfbf\">[07/23/24 17:12:49] </span><span style=\"color: #000080; text-decoration-color: #000080\">INFO    </span> Hydra initialised at                                                    <a href=\"file:///home/zhang/Projects/3d/ProteinWorkshop/proteinworkshop/utils/notebook.py\" target=\"_blank\"><span style=\"color: #7f7f7f; text-decoration-color: #7f7f7f\">notebook.py</span></a><span style=\"color: #7f7f7f; text-decoration-color: #7f7f7f\">:</span><a href=\"file:///home/zhang/Projects/3d/ProteinWorkshop/proteinworkshop/utils/notebook.py#53\" target=\"_blank\"><span style=\"color: #7f7f7f; text-decoration-color: #7f7f7f\">53</span></a>\n",
       "<span style=\"color: #7fbfbf; text-decoration-color: #7fbfbf\">                    </span>         <span style=\"color: #800080; text-decoration-color: #800080\">/home/zhang/Projects/3d/ProteinWorkshop/proteinworkshop/</span><span style=\"color: #ff00ff; text-decoration-color: #ff00ff\">config.</span>         <span style=\"color: #7f7f7f; text-decoration-color: #7f7f7f\">              </span>\n",
       "</pre>\n"
      ],
      "text/plain": [
       "\u001b[2;36m[07/23/24 17:12:49]\u001b[0m\u001b[2;36m \u001b[0m\u001b[34mINFO    \u001b[0m Hydra initialised at                                                    \u001b]8;id=942874;file:///home/zhang/Projects/3d/ProteinWorkshop/proteinworkshop/utils/notebook.py\u001b\\\u001b[2mnotebook.py\u001b[0m\u001b]8;;\u001b\\\u001b[2m:\u001b[0m\u001b]8;id=250764;file:///home/zhang/Projects/3d/ProteinWorkshop/proteinworkshop/utils/notebook.py#53\u001b\\\u001b[2m53\u001b[0m\u001b]8;;\u001b\\\n",
       "\u001b[2;36m                    \u001b[0m         \u001b[35m/home/zhang/Projects/3d/ProteinWorkshop/proteinworkshop/\u001b[0m\u001b[95mconfig.\u001b[0m         \u001b[2m              \u001b[0m\n"
      ]
     },
     "metadata": {},
     "output_type": "display_data"
    }
   ],
   "source": [
    "# Misc. tools\n",
    "import os\n",
    "\n",
    "# Hydra tools\n",
    "import hydra\n",
    "\n",
    "from hydra.compose import GlobalHydra\n",
    "from hydra.core.hydra_config import HydraConfig\n",
    "\n",
    "from proteinworkshop.constants import HYDRA_CONFIG_PATH\n",
    "from proteinworkshop.utils.notebook import init_hydra_singleton\n",
    "\n",
    "version_base = \"1.2\"  # Note: Need to update whenever Hydra is upgraded\n",
    "init_hydra_singleton(reload=True, version_base=version_base)\n",
    "\n",
    "path = HYDRA_CONFIG_PATH\n",
    "rel_path = os.path.relpath(path, start=\".\")\n",
    "# print(rel_path)\n",
    "GlobalHydra.instance().clear()\n",
    "hydra.initialize(rel_path, version_base=version_base)\n",
    "\n",
    "cfg = hydra.compose(\n",
    "    config_name=\"train\",\n",
    "    overrides=[\n",
    "        \"encoder=schnet\",\n",
    "        \"encoder.hidden_channels=512\", # Number of channels in the hidden layers\n",
    "        \"encoder.out_dim=32\", # Output dimension of the model\n",
    "        \"encoder.num_layers=6\", # Number of filters used in convolutional layers\n",
    "        \"encoder.num_filters=128\", # Number of convolutional layers in the model\n",
    "        \"encoder.num_gaussians=50\", # Number of Gaussian functions used for radial filters\n",
    "        \"encoder.cutoff=10.0\", # Cutoff distance for interactions\n",
    "        \"encoder.max_num_neighbors=32\", # Maximum number of neighboring atoms to consider\n",
    "        \"encoder.readout=add\", # Global pooling method to be used\n",
    "        \"encoder.dipole=False\",\n",
    "        \"encoder.mean=null\",\n",
    "        \"encoder.std=null\",\n",
    "        \"encoder.atomref=null\",\n",
    "        \"encoder.pretraining=False\",\n",
    "\n",
    "        \"task=multiclass_graph_classification\",\n",
    "        \"dataset=fold_family\",\n",
    "        \"dataset.datamodule.batch_size=32\",\n",
    "        \"features=ca_base\", \n",
    "        \"+aux_task=none\",\n",
    "        \n",
    "        \"trainer.max_epochs=150\",\n",
    "        \"optimiser=adam\",\n",
    "        \"optimiser.optimizer.lr=3e-4\",\n",
    "        \"callbacks.early_stopping.patience=10\",\n",
    "        \"test=True\",\n",
    "        \"scheduler=plateau\", # 5 epochs - 0.6 default\n",
    "\n",
    "        ## for test ONLY\n",
    "        # \"task_name=test\",  # here\n",
    "        # \"ckpt_path_test=/home/zhang/Projects/3d/ProteinWorkshop/notebooks/outputs/checkpoints/epoch_016.ckpt\", # here\n",
    "        # \"optimizer.weight_decay=0.5\"\n",
    "        \"seed=66\",\n",
    "    ],\n",
    "    return_hydra_config=True,\n",
    ")\n",
    "\n",
    "# Note: Customize as needed e.g., when running a sweep\n",
    "cfg.hydra.job.num = 0\n",
    "cfg.hydra.job.id = 0\n",
    "cfg.hydra.hydra_help.hydra_help = False\n",
    "cfg.hydra.runtime.output_dir = \"outputs\"\n",
    "\n",
    "HydraConfig.instance().set_config(cfg)"
   ]
  },
  {
   "cell_type": "markdown",
   "metadata": {},
   "source": [
    "### 2. Validate the designed training config"
   ]
  },
  {
   "cell_type": "markdown",
   "metadata": {},
   "source": [
    "This is not strictly necessary, but it is a good idea to validate the config before training. This will check that all the arguments you have provided are valid and that the config is complete."
   ]
  },
  {
   "cell_type": "code",
   "execution_count": 3,
   "metadata": {},
   "outputs": [
    {
     "data": {
      "text/html": [
       "<pre style=\"white-space:pre;overflow-x:auto;line-height:normal;font-family:Menlo,'DejaVu Sans Mono',consolas,'Courier New',monospace\"><span style=\"color: #7fbfbf; text-decoration-color: #7fbfbf\">[07/23/24 17:12:50] </span><span style=\"color: #008000; text-decoration-color: #008000\">DEBUG   </span> CUDA available: <span style=\"color: #00ff00; text-decoration-color: #00ff00; font-style: italic\">True</span>                                                     <a href=\"file:///home/zhang/Projects/3d/ProteinWorkshop/proteinworkshop/configs/config.py\" target=\"_blank\"><span style=\"color: #7f7f7f; text-decoration-color: #7f7f7f\">config.py</span></a><span style=\"color: #7f7f7f; text-decoration-color: #7f7f7f\">:</span><a href=\"file:///home/zhang/Projects/3d/ProteinWorkshop/proteinworkshop/configs/config.py#249\" target=\"_blank\"><span style=\"color: #7f7f7f; text-decoration-color: #7f7f7f\">249</span></a>\n",
       "</pre>\n"
      ],
      "text/plain": [
       "\u001b[2;36m[07/23/24 17:12:50]\u001b[0m\u001b[2;36m \u001b[0m\u001b[32mDEBUG   \u001b[0m CUDA available: \u001b[3;92mTrue\u001b[0m                                                     \u001b]8;id=812094;file:///home/zhang/Projects/3d/ProteinWorkshop/proteinworkshop/configs/config.py\u001b\\\u001b[2mconfig.py\u001b[0m\u001b]8;;\u001b\\\u001b[2m:\u001b[0m\u001b]8;id=30634;file:///home/zhang/Projects/3d/ProteinWorkshop/proteinworkshop/configs/config.py#249\u001b\\\u001b[2m249\u001b[0m\u001b]8;;\u001b\\\n"
      ]
     },
     "metadata": {},
     "output_type": "display_data"
    },
    {
     "data": {
      "text/html": [
       "<pre style=\"white-space:pre;overflow-x:auto;line-height:normal;font-family:Menlo,'DejaVu Sans Mono',consolas,'Courier New',monospace\"><span style=\"color: #7fbfbf; text-decoration-color: #7fbfbf\">                    </span><span style=\"color: #008000; text-decoration-color: #008000\">DEBUG   </span> Requested GPUs: <span style=\"color: #008080; text-decoration-color: #008080; font-weight: bold\">1</span>.                                                       <a href=\"file:///home/zhang/Projects/3d/ProteinWorkshop/proteinworkshop/configs/config.py\" target=\"_blank\"><span style=\"color: #7f7f7f; text-decoration-color: #7f7f7f\">config.py</span></a><span style=\"color: #7f7f7f; text-decoration-color: #7f7f7f\">:</span><a href=\"file:///home/zhang/Projects/3d/ProteinWorkshop/proteinworkshop/configs/config.py#250\" target=\"_blank\"><span style=\"color: #7f7f7f; text-decoration-color: #7f7f7f\">250</span></a>\n",
       "</pre>\n"
      ],
      "text/plain": [
       "\u001b[2;36m                   \u001b[0m\u001b[2;36m \u001b[0m\u001b[32mDEBUG   \u001b[0m Requested GPUs: \u001b[1;36m1\u001b[0m.                                                       \u001b]8;id=197167;file:///home/zhang/Projects/3d/ProteinWorkshop/proteinworkshop/configs/config.py\u001b\\\u001b[2mconfig.py\u001b[0m\u001b]8;;\u001b\\\u001b[2m:\u001b[0m\u001b]8;id=2409;file:///home/zhang/Projects/3d/ProteinWorkshop/proteinworkshop/configs/config.py#250\u001b\\\u001b[2m250\u001b[0m\u001b]8;;\u001b\\\n"
      ]
     },
     "metadata": {},
     "output_type": "display_data"
    },
    {
     "data": {
      "text/html": [
       "<pre style=\"white-space:pre;overflow-x:auto;line-height:normal;font-family:Menlo,'DejaVu Sans Mono',consolas,'Courier New',monospace\"><span style=\"color: #7fbfbf; text-decoration-color: #7fbfbf\">                    </span><span style=\"color: #008000; text-decoration-color: #008000\">DEBUG   </span> GPU count set to: <span style=\"color: #008080; text-decoration-color: #008080; font-weight: bold\">1</span>                                                      <a href=\"file:///home/zhang/Projects/3d/ProteinWorkshop/proteinworkshop/configs/config.py\" target=\"_blank\"><span style=\"color: #7f7f7f; text-decoration-color: #7f7f7f\">config.py</span></a><span style=\"color: #7f7f7f; text-decoration-color: #7f7f7f\">:</span><a href=\"file:///home/zhang/Projects/3d/ProteinWorkshop/proteinworkshop/configs/config.py#255\" target=\"_blank\"><span style=\"color: #7f7f7f; text-decoration-color: #7f7f7f\">255</span></a>\n",
       "</pre>\n"
      ],
      "text/plain": [
       "\u001b[2;36m                   \u001b[0m\u001b[2;36m \u001b[0m\u001b[32mDEBUG   \u001b[0m GPU count set to: \u001b[1;36m1\u001b[0m                                                      \u001b]8;id=179794;file:///home/zhang/Projects/3d/ProteinWorkshop/proteinworkshop/configs/config.py\u001b\\\u001b[2mconfig.py\u001b[0m\u001b]8;;\u001b\\\u001b[2m:\u001b[0m\u001b]8;id=900460;file:///home/zhang/Projects/3d/ProteinWorkshop/proteinworkshop/configs/config.py#255\u001b\\\u001b[2m255\u001b[0m\u001b]8;;\u001b\\\n"
      ]
     },
     "metadata": {},
     "output_type": "display_data"
    },
    {
     "data": {
      "text/html": [
       "<pre style=\"white-space:pre;overflow-x:auto;line-height:normal;font-family:Menlo,'DejaVu Sans Mono',consolas,'Courier New',monospace\"><span style=\"color: #7fbfbf; text-decoration-color: #7fbfbf\">                    </span><span style=\"color: #800000; text-decoration-color: #800000\">WARNING </span> You are not using early stopping.                                        <a href=\"file:///home/zhang/Projects/3d/ProteinWorkshop/proteinworkshop/configs/config.py\" target=\"_blank\"><span style=\"color: #7f7f7f; text-decoration-color: #7f7f7f\">config.py</span></a><span style=\"color: #7f7f7f; text-decoration-color: #7f7f7f\">:</span><a href=\"file:///home/zhang/Projects/3d/ProteinWorkshop/proteinworkshop/configs/config.py#165\" target=\"_blank\"><span style=\"color: #7f7f7f; text-decoration-color: #7f7f7f\">165</span></a>\n",
       "</pre>\n"
      ],
      "text/plain": [
       "\u001b[2;36m                   \u001b[0m\u001b[2;36m \u001b[0m\u001b[31mWARNING \u001b[0m You are not using early stopping.                                        \u001b]8;id=751846;file:///home/zhang/Projects/3d/ProteinWorkshop/proteinworkshop/configs/config.py\u001b\\\u001b[2mconfig.py\u001b[0m\u001b]8;;\u001b\\\u001b[2m:\u001b[0m\u001b]8;id=843779;file:///home/zhang/Projects/3d/ProteinWorkshop/proteinworkshop/configs/config.py#165\u001b\\\u001b[2m165\u001b[0m\u001b]8;;\u001b\\\n"
      ]
     },
     "metadata": {},
     "output_type": "display_data"
    }
   ],
   "source": [
    "from proteinworkshop.configs import config\n",
    "\n",
    "cfg = config.validate_config(cfg)"
   ]
  },
  {
   "cell_type": "code",
   "execution_count": 4,
   "metadata": {},
   "outputs": [
    {
     "name": "stdout",
     "output_type": "stream",
     "text": [
      "dict_keys(['hydra', 'env', 'dataset', 'features', 'encoder', 'decoder', 'transforms', 'callbacks', 'optimiser', 'scheduler', 'trainer', 'extras', 'metrics', 'task', 'logger', 'hparams', 'name', 'seed', 'num_workers', 'task_name', 'ckpt_path_test', 'test', 'aux_task'])\n",
      "hydra\n",
      "{'run': {'dir': '${env.paths.log_dir}/${task_name}/runs/${now:%Y-%m-%d}_${now:%H-%M-%S}'}, 'sweep': {'dir': '${env.paths.log_dir}/${task_name}/multiruns/${now:%Y-%m-%d}_${now:%H-%M-%S}', 'subdir': '${hydra.job.num}'}, 'launcher': {'_target_': 'hydra._internal.core_plugins.basic_launcher.BasicLauncher'}, 'sweeper': {'_target_': 'hydra._internal.core_plugins.basic_sweeper.BasicSweeper', 'max_batch_size': None, 'params': None}, 'help': {'app_name': '${hydra.job.name}', 'header': '${hydra.help.app_name} is powered by Hydra.\\n', 'footer': 'Powered by Hydra (https://hydra.cc)\\nUse --hydra-help to view Hydra specific help\\n', 'template': '${hydra.help.header}\\n== Configuration groups ==\\nCompose your configuration from those groups (group=option)\\n\\n$APP_CONFIG_GROUPS\\n\\n== Config ==\\nOverride anything in the config (foo.bar=value)\\n\\n$CONFIG\\n\\n${hydra.help.footer}\\n'}, 'hydra_help': {'template': \"Hydra (${hydra.runtime.version})\\nSee https://hydra.cc for more info.\\n\\n== Flags ==\\n$FLAGS_HELP\\n\\n== Configuration groups ==\\nCompose your configuration from those groups (For example, append hydra/job_logging=disabled to command line)\\n\\n$HYDRA_CONFIG_GROUPS\\n\\nUse '--cfg hydra' to Show the Hydra config.\\n\", 'hydra_help': 'False'}, 'hydra_logging': {'version': 1, 'formatters': {'colorlog': {'()': 'colorlog.ColoredFormatter', 'format': '[%(cyan)s%(asctime)s%(reset)s][%(purple)sHYDRA%(reset)s] %(message)s'}}, 'handlers': {'console': {'class': 'logging.StreamHandler', 'formatter': 'colorlog', 'stream': 'ext://sys.stdout'}}, 'root': {'level': 'INFO', 'handlers': ['console']}, 'disable_existing_loggers': False}, 'job_logging': {'version': 1, 'formatters': {'simple': {'format': '[%(asctime)s][%(name)s][%(levelname)s] - %(message)s'}, 'colorlog': {'()': 'colorlog.ColoredFormatter', 'format': '[%(cyan)s%(asctime)s%(reset)s][%(blue)s%(name)s%(reset)s][%(log_color)s%(levelname)s%(reset)s] - %(message)s', 'log_colors': {'DEBUG': 'purple', 'INFO': 'green', 'WARNING': 'yellow', 'ERROR': 'red', 'CRITICAL': 'red'}}}, 'handlers': {'console': {'class': 'logging.StreamHandler', 'formatter': 'colorlog', 'stream': 'ext://sys.stdout'}, 'file': {'class': 'logging.FileHandler', 'formatter': 'simple', 'filename': '${hydra.runtime.output_dir}/${hydra.job.name}.log'}}, 'root': {'level': 'INFO', 'handlers': ['console', 'file']}, 'disable_existing_loggers': False}, 'env': {}, 'mode': None, 'searchpath': [], 'callbacks': {}, 'output_subdir': '.hydra', 'overrides': {'hydra': [], 'task': ['encoder=schnet', 'encoder.hidden_channels=512', 'encoder.out_dim=32', 'encoder.num_layers=6', 'encoder.num_filters=128', 'encoder.num_gaussians=50', 'encoder.cutoff=10.0', 'encoder.max_num_neighbors=32', 'encoder.readout=add', 'encoder.dipole=False', 'encoder.mean=null', 'encoder.std=null', 'encoder.atomref=null', 'encoder.pretraining=False', 'task=multiclass_graph_classification', 'dataset=fold_family', 'dataset.datamodule.batch_size=32', 'features=ca_base', '+aux_task=none', 'trainer.max_epochs=400', 'optimiser=adam', 'optimiser.optimizer.lr=5e-4', 'callbacks.early_stopping.patience=200', 'test=True', 'scheduler=steplr', 'task_name=test', 'ckpt_path_test=/home/zhang/Projects/3d/ProteinWorkshop/notebooks/outputs/checkpoints/epoch_016.ckpt']}, 'job': {'name': 'notebook', 'chdir': None, 'override_dirname': '+aux_task=none,callbacks.early_stopping.patience=200,ckpt_path_test=/home/zhang/Projects/3d/ProteinWorkshop/notebooks/outputs/checkpoints/epoch_016.ckpt,dataset.datamodule.batch_size=32,dataset=fold_family,encoder.atomref=null,encoder.cutoff=10.0,encoder.dipole=False,encoder.hidden_channels=512,encoder.max_num_neighbors=32,encoder.mean=null,encoder.num_filters=128,encoder.num_gaussians=50,encoder.num_layers=6,encoder.out_dim=32,encoder.pretraining=False,encoder.readout=add,encoder.std=null,encoder=schnet,features=ca_base,optimiser.optimizer.lr=5e-4,optimiser=adam,scheduler=steplr,task=multiclass_graph_classification,task_name=test,test=True,trainer.max_epochs=400', 'id': '0', 'num': 0, 'config_name': 'train', 'env_set': {}, 'env_copy': [], 'config': {'override_dirname': {'kv_sep': '=', 'item_sep': ',', 'exclude_keys': []}}}, 'runtime': {'version': '1.3.2', 'version_base': '1.2', 'cwd': '/home/zhang/Projects/3d/ProteinWorkshop/notebooks', 'config_sources': [{'path': 'hydra.conf', 'schema': 'pkg', 'provider': 'hydra'}, {'path': '/home/zhang/Projects/3d/ProteinWorkshop/proteinworkshop/config', 'schema': 'file', 'provider': 'main'}, {'path': 'hydra_plugins.hydra_colorlog.conf', 'schema': 'pkg', 'provider': 'hydra-colorlog'}, {'path': '', 'schema': 'structured', 'provider': 'schema'}], 'output_dir': 'outputs', 'choices': {'aux_task': 'none', 'debug': None, 'logger': 'csv', 'task': 'multiclass_graph_classification', 'hydra': 'default', 'extras': 'default', 'trainer': 'gpu', 'scheduler': 'steplr', 'optimiser': 'adam', 'callbacks': 'default', 'transforms': 'default', 'encoder': 'schnet', 'features': 'ca_base', 'dataset': 'fold_family', 'env': 'default', 'hparams': 'schnet_ca_base', 'hydra/env': 'default', 'hydra/callbacks': None, 'hydra/job_logging': 'colorlog', 'hydra/hydra_logging': 'colorlog', 'hydra/hydra_help': 'default', 'hydra/help': 'default', 'hydra/sweeper': 'basic', 'hydra/launcher': 'basic', 'hydra/output': 'default'}}, 'verbose': False}\n",
      "env\n",
      "{'paths': {'root_dir': '${oc.env:ROOT_DIR}', 'data': '${oc.env:DATA_PATH}', 'output_dir': '${hydra:runtime.output_dir}', 'work_dir': '${hydra:runtime.cwd}', 'log_dir': '${oc.env:RUNS_PATH}', 'runs': '${oc.env:RUNS_PATH}', 'run_dir': '${env.paths.runs}/${name}/${env.init_time}'}, 'python': {'version': '${python_version:micro}'}, 'init_time': '${now:%y-%m-%d_%H:%M:%S}'}\n",
      "dataset\n",
      "{'datamodule': {'_target_': 'proteinworkshop.datasets.fold_classification.FoldClassificationDataModule', 'path': '${env.paths.data}/FoldClassification/', 'split': 'family', 'batch_size': 32, 'pin_memory': True, 'num_workers': 4, 'dataset_fraction': 1.0, 'shuffle_labels': False, 'transforms': '${transforms}', 'overwrite': False, 'in_memory': True}, 'num_classes': 1195}\n",
      "features\n",
      "{'_target_': 'proteinworkshop.features.factory.ProteinFeaturiser', 'representation': 'CA', 'scalar_node_features': ['amino_acid_one_hot'], 'vector_node_features': [], 'edge_types': ['knn_16'], 'scalar_edge_features': ['edge_distance'], 'vector_edge_features': []}\n",
      "encoder\n",
      "{'_target_': 'proteinworkshop.models.graph_encoders.schnet.SchNetModel', 'hidden_channels': 512, 'out_dim': 32, 'num_layers': 6, 'num_filters': 128, 'num_gaussians': 50, 'cutoff': 10.0, 'max_num_neighbors': 32, 'readout': 'add', 'dipole': False, 'mean': None, 'std': None, 'atomref': None, 'pretraining': False}\n",
      "decoder\n",
      "{'graph_label': {'_target_': 'proteinworkshop.models.decoders.mlp_decoder.MLPDecoder', 'hidden_dim': [512, 512, 512], 'dropout': 0.0, 'activations': ['relu', 'relu', 'relu', 'none'], 'skip': 'concat', 'out_dim': '${dataset.num_classes}', 'input': 'graph_embedding', 'dummy': False}}\n",
      "transforms\n",
      "{'remove_missing_ca': {'_target_': 'proteinworkshop.tasks.remove_missing_ca.RemoveMissingCa', 'fill_value': 1e-05, 'ca_idx': 1}}\n",
      "callbacks\n",
      "{'model_checkpoint': {'_target_': 'lightning.pytorch.callbacks.ModelCheckpoint', 'dirpath': '${env.paths.output_dir}/checkpoints', 'filename': 'epoch_{epoch:03d}', 'monitor': 'val/graph_label/accuracy', 'verbose': True, 'save_last': True, 'save_top_k': 1, 'mode': 'max', 'auto_insert_metric_name': False, 'save_weights_only': False, 'every_n_train_steps': None, 'train_time_interval': None, 'every_n_epochs': None, 'save_on_train_epoch_end': None}, 'early_stopping': {'_target_': 'lightning.pytorch.callbacks.EarlyStopping', 'monitor': 'val/graph_label/accuracy', 'min_delta': 0.0, 'patience': 200, 'verbose': True, 'mode': 'max', 'strict': True, 'check_finite': True, 'stopping_threshold': None, 'divergence_threshold': None, 'check_on_train_epoch_end': False}, 'model_summary': {'_target_': 'lightning.pytorch.callbacks.RichModelSummary', 'max_depth': -1}, 'rich_progress_bar': {'_target_': 'lightning.pytorch.callbacks.RichProgressBar'}, 'learning_rate_monitor': {'_target_': 'lightning.pytorch.callbacks.LearningRateMonitor'}, 'stop_on_nan': {'_target_': 'lightning.pytorch.callbacks.EarlyStopping', 'monitor': 'train/loss/total', 'min_delta': 0.0, 'patience': 10000000, 'verbose': True, 'mode': 'min', 'strict': True, 'check_finite': True, 'stopping_threshold': None, 'divergence_threshold': None, 'check_on_train_epoch_end': None}}\n",
      "optimiser\n",
      "{'optimizer': {'_target_': 'torch.optim.Adam', '_partial_': True, 'lr': 0.0005, 'weight_decay': 0.0}}\n",
      "scheduler\n",
      "{'scheduler': {'_target_': 'torch.optim.lr_scheduler.StepLR', '_partial_': True, 'step_size': 150, 'gamma': 0.3}, 'interval': 'epoch', 'frequency': 1, 'name': 'learning_rate'}\n",
      "trainer\n",
      "{'_target_': 'lightning.pytorch.trainer.Trainer', 'default_root_dir': '${env.paths.output_dir}', 'min_epochs': 1, 'max_epochs': 400, 'accelerator': 'gpu', 'check_val_every_n_epoch': 1, 'deterministic': False, 'num_sanity_val_steps': 2, 'devices': 1}\n",
      "extras\n",
      "{'ignore_warnings': True, 'enforce_tags': False, 'print_config': True}\n",
      "metrics\n",
      "{'accuracy': {'_target_': 'torchmetrics.Accuracy', 'task': '${task.classification_type}', 'average': '${task.metric_average}', 'num_classes': '${dataset.num_classes}', 'top_k': 1}, 'f1_score': {'_target_': 'torchmetrics.F1Score', 'average': 'macro', 'num_classes': '${dataset.num_classes}', 'task': '${task.classification_type}'}, 'f1_max': {'_target_': 'proteinworkshop.metrics.f1_max.F1Max', 'num_classes': '${dataset.num_classes}'}}\n",
      "task\n",
      "{'task': 'classification', 'classification_type': 'multiclass', 'metric_average': 'micro', 'losses': {'graph_label': 'cross_entropy'}, 'label_smoothing': 0.0, 'output': ['graph_label'], 'supervise_on': ['graph_label']}\n",
      "logger\n",
      "{'csv': {'_target_': 'lightning.pytorch.loggers.csv_logs.CSVLogger', 'save_dir': '${env.paths.output_dir}', 'name': 'csv/', 'prefix': ''}}\n",
      "hparams\n",
      "{'hparams': {'lr': 0.0003, 'decoder_dropout': 0.5}}\n",
      "name\n",
      "\n",
      "seed\n",
      "52\n",
      "num_workers\n",
      "16\n",
      "task_name\n",
      "test\n",
      "ckpt_path_test\n",
      "/home/zhang/Projects/3d/ProteinWorkshop/notebooks/outputs/checkpoints/epoch_016.ckpt\n",
      "test\n",
      "True\n",
      "aux_task\n",
      "{}\n"
     ]
    }
   ],
   "source": [
    "print(cfg.keys())\n",
    "for key in cfg.keys():\n",
    "    print(key)\n",
    "    print(cfg[key])"
   ]
  },
  {
   "cell_type": "markdown",
   "metadata": {},
   "source": [
    "### 3. Use the designed config to train a new model"
   ]
  },
  {
   "cell_type": "markdown",
   "metadata": {},
   "source": [
    "Now with the config you have designed, you can train a new model. You can also use the `ProteinWorkshop` to evaluate the model on a downstream task."
   ]
  },
  {
   "cell_type": "code",
   "execution_count": 5,
   "metadata": {},
   "outputs": [
    {
     "name": "stderr",
     "output_type": "stream",
     "text": [
      "Seed set to 52\n"
     ]
    },
    {
     "data": {
      "text/html": [
       "<pre style=\"white-space:pre;overflow-x:auto;line-height:normal;font-family:Menlo,'DejaVu Sans Mono',consolas,'Courier New',monospace\"><span style=\"color: #7fbfbf; text-decoration-color: #7fbfbf\">[07/23/24 17:12:51] </span><span style=\"color: #000080; text-decoration-color: #000080\">INFO    </span> Instantiating datamodule:                                                  <a href=\"file:///home/zhang/Projects/3d/ProteinWorkshop/proteinworkshop/train.py\" target=\"_blank\"><span style=\"color: #7f7f7f; text-decoration-color: #7f7f7f\">train.py</span></a><span style=\"color: #7f7f7f; text-decoration-color: #7f7f7f\">:</span><a href=\"file:///home/zhang/Projects/3d/ProteinWorkshop/proteinworkshop/train.py#99\" target=\"_blank\"><span style=\"color: #7f7f7f; text-decoration-color: #7f7f7f\">99</span></a>\n",
       "<span style=\"color: #7fbfbf; text-decoration-color: #7fbfbf\">                    </span>         &lt;proteinworkshop.datasets.fold_classification.FoldClassificationDataModule <span style=\"color: #7f7f7f; text-decoration-color: #7f7f7f\">           </span>\n",
       "<span style=\"color: #7fbfbf; text-decoration-color: #7fbfbf\">                    </span>         <span style=\"color: #808000; text-decoration-color: #808000\">...</span>                                                                        <span style=\"color: #7f7f7f; text-decoration-color: #7f7f7f\">           </span>\n",
       "</pre>\n"
      ],
      "text/plain": [
       "\u001b[2;36m[07/23/24 17:12:51]\u001b[0m\u001b[2;36m \u001b[0m\u001b[34mINFO    \u001b[0m Instantiating datamodule:                                                  \u001b]8;id=896664;file:///home/zhang/Projects/3d/ProteinWorkshop/proteinworkshop/train.py\u001b\\\u001b[2mtrain.py\u001b[0m\u001b]8;;\u001b\\\u001b[2m:\u001b[0m\u001b]8;id=987468;file:///home/zhang/Projects/3d/ProteinWorkshop/proteinworkshop/train.py#99\u001b\\\u001b[2m99\u001b[0m\u001b]8;;\u001b\\\n",
       "\u001b[2;36m                    \u001b[0m         <proteinworkshop.datasets.fold_classification.FoldClassificationDataModule \u001b[2m           \u001b[0m\n",
       "\u001b[2;36m                    \u001b[0m         \u001b[33m...\u001b[0m                                                                        \u001b[2m           \u001b[0m\n"
      ]
     },
     "metadata": {},
     "output_type": "display_data"
    },
    {
     "data": {
      "text/html": [
       "<pre style=\"white-space:pre;overflow-x:auto;line-height:normal;font-family:Menlo,'DejaVu Sans Mono',consolas,'Courier New',monospace\"><span style=\"color: #7fbfbf; text-decoration-color: #7fbfbf\">                    </span><span style=\"color: #000080; text-decoration-color: #000080\">INFO    </span> Instantiating callbacks<span style=\"color: #808000; text-decoration-color: #808000\">...</span>                                                <a href=\"file:///home/zhang/Projects/3d/ProteinWorkshop/proteinworkshop/train.py\" target=\"_blank\"><span style=\"color: #7f7f7f; text-decoration-color: #7f7f7f\">train.py</span></a><span style=\"color: #7f7f7f; text-decoration-color: #7f7f7f\">:</span><a href=\"file:///home/zhang/Projects/3d/ProteinWorkshop/proteinworkshop/train.py#106\" target=\"_blank\"><span style=\"color: #7f7f7f; text-decoration-color: #7f7f7f\">106</span></a>\n",
       "</pre>\n"
      ],
      "text/plain": [
       "\u001b[2;36m                   \u001b[0m\u001b[2;36m \u001b[0m\u001b[34mINFO    \u001b[0m Instantiating callbacks\u001b[33m...\u001b[0m                                                \u001b]8;id=166878;file:///home/zhang/Projects/3d/ProteinWorkshop/proteinworkshop/train.py\u001b\\\u001b[2mtrain.py\u001b[0m\u001b]8;;\u001b\\\u001b[2m:\u001b[0m\u001b]8;id=837528;file:///home/zhang/Projects/3d/ProteinWorkshop/proteinworkshop/train.py#106\u001b\\\u001b[2m106\u001b[0m\u001b]8;;\u001b\\\n"
      ]
     },
     "metadata": {},
     "output_type": "display_data"
    },
    {
     "data": {
      "text/html": [
       "<pre style=\"white-space:pre;overflow-x:auto;line-height:normal;font-family:Menlo,'DejaVu Sans Mono',consolas,'Courier New',monospace\"><span style=\"color: #7fbfbf; text-decoration-color: #7fbfbf\">                    </span><span style=\"color: #000080; text-decoration-color: #000080\">INFO    </span> Instantiating callback <span style=\"font-weight: bold\">&lt;</span><span style=\"color: #ff00ff; text-decoration-color: #ff00ff; font-weight: bold\">lightning.pytorch.callbacks.ModelCheckpoint</span><span style=\"font-weight: bold\">&gt;</span>   <a href=\"file:///home/zhang/Projects/3d/ProteinWorkshop/proteinworkshop/utils/callbacks.py\" target=\"_blank\"><span style=\"color: #7f7f7f; text-decoration-color: #7f7f7f\">callbacks.py</span></a><span style=\"color: #7f7f7f; text-decoration-color: #7f7f7f\">:</span><a href=\"file:///home/zhang/Projects/3d/ProteinWorkshop/proteinworkshop/utils/callbacks.py#31\" target=\"_blank\"><span style=\"color: #7f7f7f; text-decoration-color: #7f7f7f\">31</span></a>\n",
       "</pre>\n"
      ],
      "text/plain": [
       "\u001b[2;36m                   \u001b[0m\u001b[2;36m \u001b[0m\u001b[34mINFO    \u001b[0m Instantiating callback \u001b[1m<\u001b[0m\u001b[1;95mlightning.pytorch.callbacks.ModelCheckpoint\u001b[0m\u001b[1m>\u001b[0m   \u001b]8;id=1185;file:///home/zhang/Projects/3d/ProteinWorkshop/proteinworkshop/utils/callbacks.py\u001b\\\u001b[2mcallbacks.py\u001b[0m\u001b]8;;\u001b\\\u001b[2m:\u001b[0m\u001b]8;id=35855;file:///home/zhang/Projects/3d/ProteinWorkshop/proteinworkshop/utils/callbacks.py#31\u001b\\\u001b[2m31\u001b[0m\u001b]8;;\u001b\\\n"
      ]
     },
     "metadata": {},
     "output_type": "display_data"
    },
    {
     "data": {
      "text/html": [
       "<pre style=\"white-space:pre;overflow-x:auto;line-height:normal;font-family:Menlo,'DejaVu Sans Mono',consolas,'Courier New',monospace\"><span style=\"color: #7fbfbf; text-decoration-color: #7fbfbf\">                    </span><span style=\"color: #000080; text-decoration-color: #000080\">INFO    </span> Instantiating callback <span style=\"font-weight: bold\">&lt;</span><span style=\"color: #ff00ff; text-decoration-color: #ff00ff; font-weight: bold\">lightning.pytorch.callbacks.EarlyStopping</span><span style=\"font-weight: bold\">&gt;</span>     <a href=\"file:///home/zhang/Projects/3d/ProteinWorkshop/proteinworkshop/utils/callbacks.py\" target=\"_blank\"><span style=\"color: #7f7f7f; text-decoration-color: #7f7f7f\">callbacks.py</span></a><span style=\"color: #7f7f7f; text-decoration-color: #7f7f7f\">:</span><a href=\"file:///home/zhang/Projects/3d/ProteinWorkshop/proteinworkshop/utils/callbacks.py#31\" target=\"_blank\"><span style=\"color: #7f7f7f; text-decoration-color: #7f7f7f\">31</span></a>\n",
       "</pre>\n"
      ],
      "text/plain": [
       "\u001b[2;36m                   \u001b[0m\u001b[2;36m \u001b[0m\u001b[34mINFO    \u001b[0m Instantiating callback \u001b[1m<\u001b[0m\u001b[1;95mlightning.pytorch.callbacks.EarlyStopping\u001b[0m\u001b[1m>\u001b[0m     \u001b]8;id=248769;file:///home/zhang/Projects/3d/ProteinWorkshop/proteinworkshop/utils/callbacks.py\u001b\\\u001b[2mcallbacks.py\u001b[0m\u001b]8;;\u001b\\\u001b[2m:\u001b[0m\u001b]8;id=72738;file:///home/zhang/Projects/3d/ProteinWorkshop/proteinworkshop/utils/callbacks.py#31\u001b\\\u001b[2m31\u001b[0m\u001b]8;;\u001b\\\n"
      ]
     },
     "metadata": {},
     "output_type": "display_data"
    },
    {
     "data": {
      "text/html": [
       "<pre style=\"white-space:pre;overflow-x:auto;line-height:normal;font-family:Menlo,'DejaVu Sans Mono',consolas,'Courier New',monospace\"><span style=\"color: #7fbfbf; text-decoration-color: #7fbfbf\">                    </span><span style=\"color: #000080; text-decoration-color: #000080\">INFO    </span> Instantiating callback <span style=\"font-weight: bold\">&lt;</span><span style=\"color: #ff00ff; text-decoration-color: #ff00ff; font-weight: bold\">lightning.pytorch.callbacks.RichModelSummary</span><span style=\"font-weight: bold\">&gt;</span>  <a href=\"file:///home/zhang/Projects/3d/ProteinWorkshop/proteinworkshop/utils/callbacks.py\" target=\"_blank\"><span style=\"color: #7f7f7f; text-decoration-color: #7f7f7f\">callbacks.py</span></a><span style=\"color: #7f7f7f; text-decoration-color: #7f7f7f\">:</span><a href=\"file:///home/zhang/Projects/3d/ProteinWorkshop/proteinworkshop/utils/callbacks.py#31\" target=\"_blank\"><span style=\"color: #7f7f7f; text-decoration-color: #7f7f7f\">31</span></a>\n",
       "</pre>\n"
      ],
      "text/plain": [
       "\u001b[2;36m                   \u001b[0m\u001b[2;36m \u001b[0m\u001b[34mINFO    \u001b[0m Instantiating callback \u001b[1m<\u001b[0m\u001b[1;95mlightning.pytorch.callbacks.RichModelSummary\u001b[0m\u001b[1m>\u001b[0m  \u001b]8;id=655443;file:///home/zhang/Projects/3d/ProteinWorkshop/proteinworkshop/utils/callbacks.py\u001b\\\u001b[2mcallbacks.py\u001b[0m\u001b]8;;\u001b\\\u001b[2m:\u001b[0m\u001b]8;id=287690;file:///home/zhang/Projects/3d/ProteinWorkshop/proteinworkshop/utils/callbacks.py#31\u001b\\\u001b[2m31\u001b[0m\u001b]8;;\u001b\\\n"
      ]
     },
     "metadata": {},
     "output_type": "display_data"
    },
    {
     "data": {
      "text/html": [
       "<pre style=\"white-space:pre;overflow-x:auto;line-height:normal;font-family:Menlo,'DejaVu Sans Mono',consolas,'Courier New',monospace\"><span style=\"color: #7fbfbf; text-decoration-color: #7fbfbf\">                    </span><span style=\"color: #000080; text-decoration-color: #000080\">INFO    </span> Instantiating callback <span style=\"font-weight: bold\">&lt;</span><span style=\"color: #ff00ff; text-decoration-color: #ff00ff; font-weight: bold\">lightning.pytorch.callbacks.RichProgressBar</span><span style=\"font-weight: bold\">&gt;</span>   <a href=\"file:///home/zhang/Projects/3d/ProteinWorkshop/proteinworkshop/utils/callbacks.py\" target=\"_blank\"><span style=\"color: #7f7f7f; text-decoration-color: #7f7f7f\">callbacks.py</span></a><span style=\"color: #7f7f7f; text-decoration-color: #7f7f7f\">:</span><a href=\"file:///home/zhang/Projects/3d/ProteinWorkshop/proteinworkshop/utils/callbacks.py#31\" target=\"_blank\"><span style=\"color: #7f7f7f; text-decoration-color: #7f7f7f\">31</span></a>\n",
       "</pre>\n"
      ],
      "text/plain": [
       "\u001b[2;36m                   \u001b[0m\u001b[2;36m \u001b[0m\u001b[34mINFO    \u001b[0m Instantiating callback \u001b[1m<\u001b[0m\u001b[1;95mlightning.pytorch.callbacks.RichProgressBar\u001b[0m\u001b[1m>\u001b[0m   \u001b]8;id=128786;file:///home/zhang/Projects/3d/ProteinWorkshop/proteinworkshop/utils/callbacks.py\u001b\\\u001b[2mcallbacks.py\u001b[0m\u001b]8;;\u001b\\\u001b[2m:\u001b[0m\u001b]8;id=899088;file:///home/zhang/Projects/3d/ProteinWorkshop/proteinworkshop/utils/callbacks.py#31\u001b\\\u001b[2m31\u001b[0m\u001b]8;;\u001b\\\n"
      ]
     },
     "metadata": {},
     "output_type": "display_data"
    },
    {
     "data": {
      "text/html": [
       "<pre style=\"white-space:pre;overflow-x:auto;line-height:normal;font-family:Menlo,'DejaVu Sans Mono',consolas,'Courier New',monospace\"><span style=\"color: #7fbfbf; text-decoration-color: #7fbfbf\">                    </span><span style=\"color: #000080; text-decoration-color: #000080\">INFO    </span> Instantiating callback                                                 <a href=\"file:///home/zhang/Projects/3d/ProteinWorkshop/proteinworkshop/utils/callbacks.py\" target=\"_blank\"><span style=\"color: #7f7f7f; text-decoration-color: #7f7f7f\">callbacks.py</span></a><span style=\"color: #7f7f7f; text-decoration-color: #7f7f7f\">:</span><a href=\"file:///home/zhang/Projects/3d/ProteinWorkshop/proteinworkshop/utils/callbacks.py#31\" target=\"_blank\"><span style=\"color: #7f7f7f; text-decoration-color: #7f7f7f\">31</span></a>\n",
       "<span style=\"color: #7fbfbf; text-decoration-color: #7fbfbf\">                    </span>         <span style=\"font-weight: bold\">&lt;</span><span style=\"color: #ff00ff; text-decoration-color: #ff00ff; font-weight: bold\">lightning.pytorch.callbacks.LearningRateMonitor</span><span style=\"font-weight: bold\">&gt;</span>                      <span style=\"color: #7f7f7f; text-decoration-color: #7f7f7f\">               </span>\n",
       "</pre>\n"
      ],
      "text/plain": [
       "\u001b[2;36m                   \u001b[0m\u001b[2;36m \u001b[0m\u001b[34mINFO    \u001b[0m Instantiating callback                                                 \u001b]8;id=396582;file:///home/zhang/Projects/3d/ProteinWorkshop/proteinworkshop/utils/callbacks.py\u001b\\\u001b[2mcallbacks.py\u001b[0m\u001b]8;;\u001b\\\u001b[2m:\u001b[0m\u001b]8;id=993710;file:///home/zhang/Projects/3d/ProteinWorkshop/proteinworkshop/utils/callbacks.py#31\u001b\\\u001b[2m31\u001b[0m\u001b]8;;\u001b\\\n",
       "\u001b[2;36m                    \u001b[0m         \u001b[1m<\u001b[0m\u001b[1;95mlightning.pytorch.callbacks.LearningRateMonitor\u001b[0m\u001b[1m>\u001b[0m                      \u001b[2m               \u001b[0m\n"
      ]
     },
     "metadata": {},
     "output_type": "display_data"
    },
    {
     "data": {
      "text/html": [
       "<pre style=\"white-space:pre;overflow-x:auto;line-height:normal;font-family:Menlo,'DejaVu Sans Mono',consolas,'Courier New',monospace\"><span style=\"color: #7fbfbf; text-decoration-color: #7fbfbf\">                    </span><span style=\"color: #000080; text-decoration-color: #000080\">INFO    </span> Instantiating callback <span style=\"font-weight: bold\">&lt;</span><span style=\"color: #ff00ff; text-decoration-color: #ff00ff; font-weight: bold\">lightning.pytorch.callbacks.EarlyStopping</span><span style=\"font-weight: bold\">&gt;</span>     <a href=\"file:///home/zhang/Projects/3d/ProteinWorkshop/proteinworkshop/utils/callbacks.py\" target=\"_blank\"><span style=\"color: #7f7f7f; text-decoration-color: #7f7f7f\">callbacks.py</span></a><span style=\"color: #7f7f7f; text-decoration-color: #7f7f7f\">:</span><a href=\"file:///home/zhang/Projects/3d/ProteinWorkshop/proteinworkshop/utils/callbacks.py#31\" target=\"_blank\"><span style=\"color: #7f7f7f; text-decoration-color: #7f7f7f\">31</span></a>\n",
       "</pre>\n"
      ],
      "text/plain": [
       "\u001b[2;36m                   \u001b[0m\u001b[2;36m \u001b[0m\u001b[34mINFO    \u001b[0m Instantiating callback \u001b[1m<\u001b[0m\u001b[1;95mlightning.pytorch.callbacks.EarlyStopping\u001b[0m\u001b[1m>\u001b[0m     \u001b]8;id=935800;file:///home/zhang/Projects/3d/ProteinWorkshop/proteinworkshop/utils/callbacks.py\u001b\\\u001b[2mcallbacks.py\u001b[0m\u001b]8;;\u001b\\\u001b[2m:\u001b[0m\u001b]8;id=924324;file:///home/zhang/Projects/3d/ProteinWorkshop/proteinworkshop/utils/callbacks.py#31\u001b\\\u001b[2m31\u001b[0m\u001b]8;;\u001b\\\n"
      ]
     },
     "metadata": {},
     "output_type": "display_data"
    },
    {
     "data": {
      "text/html": [
       "<pre style=\"white-space:pre;overflow-x:auto;line-height:normal;font-family:Menlo,'DejaVu Sans Mono',consolas,'Courier New',monospace\"><span style=\"color: #7fbfbf; text-decoration-color: #7fbfbf\">                    </span><span style=\"color: #000080; text-decoration-color: #000080\">INFO    </span> Instantiating loggers<span style=\"color: #808000; text-decoration-color: #808000\">...</span>                                                  <a href=\"file:///home/zhang/Projects/3d/ProteinWorkshop/proteinworkshop/train.py\" target=\"_blank\"><span style=\"color: #7f7f7f; text-decoration-color: #7f7f7f\">train.py</span></a><span style=\"color: #7f7f7f; text-decoration-color: #7f7f7f\">:</span><a href=\"file:///home/zhang/Projects/3d/ProteinWorkshop/proteinworkshop/train.py#111\" target=\"_blank\"><span style=\"color: #7f7f7f; text-decoration-color: #7f7f7f\">111</span></a>\n",
       "</pre>\n"
      ],
      "text/plain": [
       "\u001b[2;36m                   \u001b[0m\u001b[2;36m \u001b[0m\u001b[34mINFO    \u001b[0m Instantiating loggers\u001b[33m...\u001b[0m                                                  \u001b]8;id=545720;file:///home/zhang/Projects/3d/ProteinWorkshop/proteinworkshop/train.py\u001b\\\u001b[2mtrain.py\u001b[0m\u001b]8;;\u001b\\\u001b[2m:\u001b[0m\u001b]8;id=702368;file:///home/zhang/Projects/3d/ProteinWorkshop/proteinworkshop/train.py#111\u001b\\\u001b[2m111\u001b[0m\u001b]8;;\u001b\\\n"
      ]
     },
     "metadata": {},
     "output_type": "display_data"
    },
    {
     "data": {
      "text/html": [
       "<pre style=\"white-space:pre;overflow-x:auto;line-height:normal;font-family:Menlo,'DejaVu Sans Mono',consolas,'Courier New',monospace\"><span style=\"color: #7fbfbf; text-decoration-color: #7fbfbf\">                    </span><span style=\"color: #000080; text-decoration-color: #000080\">INFO    </span> Instantiating logger <span style=\"font-weight: bold\">&lt;</span><span style=\"color: #ff00ff; text-decoration-color: #ff00ff; font-weight: bold\">lightning.pytorch.loggers.csv_logs.CSVLogger</span><span style=\"font-weight: bold\">&gt;</span>      <a href=\"file:///home/zhang/Projects/3d/ProteinWorkshop/proteinworkshop/utils/loggers.py\" target=\"_blank\"><span style=\"color: #7f7f7f; text-decoration-color: #7f7f7f\">loggers.py</span></a><span style=\"color: #7f7f7f; text-decoration-color: #7f7f7f\">:</span><a href=\"file:///home/zhang/Projects/3d/ProteinWorkshop/proteinworkshop/utils/loggers.py#31\" target=\"_blank\"><span style=\"color: #7f7f7f; text-decoration-color: #7f7f7f\">31</span></a>\n",
       "</pre>\n"
      ],
      "text/plain": [
       "\u001b[2;36m                   \u001b[0m\u001b[2;36m \u001b[0m\u001b[34mINFO    \u001b[0m Instantiating logger \u001b[1m<\u001b[0m\u001b[1;95mlightning.pytorch.loggers.csv_logs.CSVLogger\u001b[0m\u001b[1m>\u001b[0m      \u001b]8;id=193480;file:///home/zhang/Projects/3d/ProteinWorkshop/proteinworkshop/utils/loggers.py\u001b\\\u001b[2mloggers.py\u001b[0m\u001b]8;;\u001b\\\u001b[2m:\u001b[0m\u001b]8;id=825667;file:///home/zhang/Projects/3d/ProteinWorkshop/proteinworkshop/utils/loggers.py#31\u001b\\\u001b[2m31\u001b[0m\u001b]8;;\u001b\\\n"
      ]
     },
     "metadata": {},
     "output_type": "display_data"
    },
    {
     "data": {
      "text/html": [
       "<pre style=\"white-space:pre;overflow-x:auto;line-height:normal;font-family:Menlo,'DejaVu Sans Mono',consolas,'Courier New',monospace\"><span style=\"color: #7fbfbf; text-decoration-color: #7fbfbf\">                    </span><span style=\"color: #000080; text-decoration-color: #000080\">INFO    </span> Instantiating trainer<span style=\"color: #808000; text-decoration-color: #808000\">...</span>                                                  <a href=\"file:///home/zhang/Projects/3d/ProteinWorkshop/proteinworkshop/train.py\" target=\"_blank\"><span style=\"color: #7f7f7f; text-decoration-color: #7f7f7f\">train.py</span></a><span style=\"color: #7f7f7f; text-decoration-color: #7f7f7f\">:</span><a href=\"file:///home/zhang/Projects/3d/ProteinWorkshop/proteinworkshop/train.py#114\" target=\"_blank\"><span style=\"color: #7f7f7f; text-decoration-color: #7f7f7f\">114</span></a>\n",
       "</pre>\n"
      ],
      "text/plain": [
       "\u001b[2;36m                   \u001b[0m\u001b[2;36m \u001b[0m\u001b[34mINFO    \u001b[0m Instantiating trainer\u001b[33m...\u001b[0m                                                  \u001b]8;id=750405;file:///home/zhang/Projects/3d/ProteinWorkshop/proteinworkshop/train.py\u001b\\\u001b[2mtrain.py\u001b[0m\u001b]8;;\u001b\\\u001b[2m:\u001b[0m\u001b]8;id=447387;file:///home/zhang/Projects/3d/ProteinWorkshop/proteinworkshop/train.py#114\u001b\\\u001b[2m114\u001b[0m\u001b]8;;\u001b\\\n"
      ]
     },
     "metadata": {},
     "output_type": "display_data"
    },
    {
     "name": "stderr",
     "output_type": "stream",
     "text": [
      "Trainer already configured with model summary callbacks: [<class 'lightning.pytorch.callbacks.rich_model_summary.RichModelSummary'>]. Skipping setting a default `ModelSummary` callback.\n",
      "GPU available: True (cuda), used: True\n",
      "TPU available: False, using: 0 TPU cores\n",
      "HPU available: False, using: 0 HPUs\n"
     ]
    },
    {
     "data": {
      "text/html": [
       "<pre style=\"white-space:pre;overflow-x:auto;line-height:normal;font-family:Menlo,'DejaVu Sans Mono',consolas,'Courier New',monospace\"><span style=\"color: #7fbfbf; text-decoration-color: #7fbfbf\">                    </span><span style=\"color: #000080; text-decoration-color: #000080\">INFO    </span> Instantiating model<span style=\"color: #808000; text-decoration-color: #808000\">...</span>                                                    <a href=\"file:///home/zhang/Projects/3d/ProteinWorkshop/proteinworkshop/train.py\" target=\"_blank\"><span style=\"color: #7f7f7f; text-decoration-color: #7f7f7f\">train.py</span></a><span style=\"color: #7f7f7f; text-decoration-color: #7f7f7f\">:</span><a href=\"file:///home/zhang/Projects/3d/ProteinWorkshop/proteinworkshop/train.py#138\" target=\"_blank\"><span style=\"color: #7f7f7f; text-decoration-color: #7f7f7f\">138</span></a>\n",
       "</pre>\n"
      ],
      "text/plain": [
       "\u001b[2;36m                   \u001b[0m\u001b[2;36m \u001b[0m\u001b[34mINFO    \u001b[0m Instantiating model\u001b[33m...\u001b[0m                                                    \u001b]8;id=686681;file:///home/zhang/Projects/3d/ProteinWorkshop/proteinworkshop/train.py\u001b\\\u001b[2mtrain.py\u001b[0m\u001b]8;;\u001b\\\u001b[2m:\u001b[0m\u001b]8;id=755744;file:///home/zhang/Projects/3d/ProteinWorkshop/proteinworkshop/train.py#138\u001b\\\u001b[2m138\u001b[0m\u001b]8;;\u001b\\\n"
      ]
     },
     "metadata": {},
     "output_type": "display_data"
    },
    {
     "data": {
      "text/html": [
       "<pre style=\"white-space:pre;overflow-x:auto;line-height:normal;font-family:Menlo,'DejaVu Sans Mono',consolas,'Courier New',monospace\"><span style=\"color: #7fbfbf; text-decoration-color: #7fbfbf\">                    </span><span style=\"color: #000080; text-decoration-color: #000080\">INFO    </span> Instantiating encoder<span style=\"color: #808000; text-decoration-color: #808000\">...</span>                                                   <a href=\"file:///home/zhang/Projects/3d/ProteinWorkshop/proteinworkshop/models/base.py\" target=\"_blank\"><span style=\"color: #7f7f7f; text-decoration-color: #7f7f7f\">base.py</span></a><span style=\"color: #7f7f7f; text-decoration-color: #7f7f7f\">:</span><a href=\"file:///home/zhang/Projects/3d/ProteinWorkshop/proteinworkshop/models/base.py#413\" target=\"_blank\"><span style=\"color: #7f7f7f; text-decoration-color: #7f7f7f\">413</span></a>\n",
       "</pre>\n"
      ],
      "text/plain": [
       "\u001b[2;36m                   \u001b[0m\u001b[2;36m \u001b[0m\u001b[34mINFO    \u001b[0m Instantiating encoder\u001b[33m...\u001b[0m                                                   \u001b]8;id=129291;file:///home/zhang/Projects/3d/ProteinWorkshop/proteinworkshop/models/base.py\u001b\\\u001b[2mbase.py\u001b[0m\u001b]8;;\u001b\\\u001b[2m:\u001b[0m\u001b]8;id=799115;file:///home/zhang/Projects/3d/ProteinWorkshop/proteinworkshop/models/base.py#413\u001b\\\u001b[2m413\u001b[0m\u001b]8;;\u001b\\\n"
      ]
     },
     "metadata": {},
     "output_type": "display_data"
    },
    {
     "name": "stderr",
     "output_type": "stream",
     "text": [
      "/home/zhang/miniconda3/envs/3d/lib/python3.10/site-packages/torch/nn/modules/lazy.py:180: UserWarning:\n",
      "\n",
      "Lazy modules are a new feature under heavy development so changes to the API or functionality can happen at any moment.\n",
      "\n"
     ]
    },
    {
     "data": {
      "text/html": [
       "<pre style=\"white-space:pre;overflow-x:auto;line-height:normal;font-family:Menlo,'DejaVu Sans Mono',consolas,'Courier New',monospace\"><span style=\"color: #7fbfbf; text-decoration-color: #7fbfbf\">                    </span><span style=\"color: #000080; text-decoration-color: #000080\">INFO    </span> <span style=\"color: #800080; text-decoration-color: #800080; font-weight: bold\">SchNetModel</span><span style=\"font-weight: bold\">(</span><span style=\"color: #808000; text-decoration-color: #808000\">hidden_channels</span>=<span style=\"color: #008080; text-decoration-color: #008080; font-weight: bold\">512</span>, <span style=\"color: #808000; text-decoration-color: #808000\">num_filters</span>=<span style=\"color: #008080; text-decoration-color: #008080; font-weight: bold\">128</span>, <span style=\"color: #808000; text-decoration-color: #808000\">num_interactions</span>=<span style=\"color: #008080; text-decoration-color: #008080; font-weight: bold\">6</span>,      <a href=\"file:///home/zhang/Projects/3d/ProteinWorkshop/proteinworkshop/models/base.py\" target=\"_blank\"><span style=\"color: #7f7f7f; text-decoration-color: #7f7f7f\">base.py</span></a><span style=\"color: #7f7f7f; text-decoration-color: #7f7f7f\">:</span><a href=\"file:///home/zhang/Projects/3d/ProteinWorkshop/proteinworkshop/models/base.py#415\" target=\"_blank\"><span style=\"color: #7f7f7f; text-decoration-color: #7f7f7f\">415</span></a>\n",
       "<span style=\"color: #7fbfbf; text-decoration-color: #7fbfbf\">                    </span>         <span style=\"color: #808000; text-decoration-color: #808000\">num_gaussians</span>=<span style=\"color: #008080; text-decoration-color: #008080; font-weight: bold\">50</span>, <span style=\"color: #808000; text-decoration-color: #808000\">cutoff</span>=<span style=\"color: #008080; text-decoration-color: #008080; font-weight: bold\">10.0</span><span style=\"font-weight: bold\">)</span>                                             <span style=\"color: #7f7f7f; text-decoration-color: #7f7f7f\">           </span>\n",
       "</pre>\n"
      ],
      "text/plain": [
       "\u001b[2;36m                   \u001b[0m\u001b[2;36m \u001b[0m\u001b[34mINFO    \u001b[0m \u001b[1;35mSchNetModel\u001b[0m\u001b[1m(\u001b[0m\u001b[33mhidden_channels\u001b[0m=\u001b[1;36m512\u001b[0m, \u001b[33mnum_filters\u001b[0m=\u001b[1;36m128\u001b[0m, \u001b[33mnum_interactions\u001b[0m=\u001b[1;36m6\u001b[0m,      \u001b]8;id=228665;file:///home/zhang/Projects/3d/ProteinWorkshop/proteinworkshop/models/base.py\u001b\\\u001b[2mbase.py\u001b[0m\u001b]8;;\u001b\\\u001b[2m:\u001b[0m\u001b]8;id=322007;file:///home/zhang/Projects/3d/ProteinWorkshop/proteinworkshop/models/base.py#415\u001b\\\u001b[2m415\u001b[0m\u001b]8;;\u001b\\\n",
       "\u001b[2;36m                    \u001b[0m         \u001b[33mnum_gaussians\u001b[0m=\u001b[1;36m50\u001b[0m, \u001b[33mcutoff\u001b[0m=\u001b[1;36m10\u001b[0m\u001b[1;36m.0\u001b[0m\u001b[1m)\u001b[0m                                             \u001b[2m           \u001b[0m\n"
      ]
     },
     "metadata": {},
     "output_type": "display_data"
    },
    {
     "data": {
      "text/html": [
       "<pre style=\"white-space:pre;overflow-x:auto;line-height:normal;font-family:Menlo,'DejaVu Sans Mono',consolas,'Courier New',monospace\"><span style=\"color: #7fbfbf; text-decoration-color: #7fbfbf\">                    </span><span style=\"color: #000080; text-decoration-color: #000080\">INFO    </span> Instantiating decoders<span style=\"color: #808000; text-decoration-color: #808000\">...</span>                                                  <a href=\"file:///home/zhang/Projects/3d/ProteinWorkshop/proteinworkshop/models/base.py\" target=\"_blank\"><span style=\"color: #7f7f7f; text-decoration-color: #7f7f7f\">base.py</span></a><span style=\"color: #7f7f7f; text-decoration-color: #7f7f7f\">:</span><a href=\"file:///home/zhang/Projects/3d/ProteinWorkshop/proteinworkshop/models/base.py#417\" target=\"_blank\"><span style=\"color: #7f7f7f; text-decoration-color: #7f7f7f\">417</span></a>\n",
       "</pre>\n"
      ],
      "text/plain": [
       "\u001b[2;36m                   \u001b[0m\u001b[2;36m \u001b[0m\u001b[34mINFO    \u001b[0m Instantiating decoders\u001b[33m...\u001b[0m                                                  \u001b]8;id=574499;file:///home/zhang/Projects/3d/ProteinWorkshop/proteinworkshop/models/base.py\u001b\\\u001b[2mbase.py\u001b[0m\u001b]8;;\u001b\\\u001b[2m:\u001b[0m\u001b]8;id=177305;file:///home/zhang/Projects/3d/ProteinWorkshop/proteinworkshop/models/base.py#417\u001b\\\u001b[2m417\u001b[0m\u001b]8;;\u001b\\\n"
      ]
     },
     "metadata": {},
     "output_type": "display_data"
    },
    {
     "data": {
      "text/html": [
       "<pre style=\"white-space:pre;overflow-x:auto;line-height:normal;font-family:Menlo,'DejaVu Sans Mono',consolas,'Courier New',monospace\"><span style=\"color: #7fbfbf; text-decoration-color: #7fbfbf\">                    </span><span style=\"color: #000080; text-decoration-color: #000080\">INFO    </span> Building graph_label decoder. Output dim <span style=\"color: #008080; text-decoration-color: #008080; font-weight: bold\">1195</span>                              <a href=\"file:///home/zhang/Projects/3d/ProteinWorkshop/proteinworkshop/models/base.py\" target=\"_blank\"><span style=\"color: #7f7f7f; text-decoration-color: #7f7f7f\">base.py</span></a><span style=\"color: #7f7f7f; text-decoration-color: #7f7f7f\">:</span><a href=\"file:///home/zhang/Projects/3d/ProteinWorkshop/proteinworkshop/models/base.py#252\" target=\"_blank\"><span style=\"color: #7f7f7f; text-decoration-color: #7f7f7f\">252</span></a>\n",
       "</pre>\n"
      ],
      "text/plain": [
       "\u001b[2;36m                   \u001b[0m\u001b[2;36m \u001b[0m\u001b[34mINFO    \u001b[0m Building graph_label decoder. Output dim \u001b[1;36m1195\u001b[0m                              \u001b]8;id=527713;file:///home/zhang/Projects/3d/ProteinWorkshop/proteinworkshop/models/base.py\u001b\\\u001b[2mbase.py\u001b[0m\u001b]8;;\u001b\\\u001b[2m:\u001b[0m\u001b]8;id=872434;file:///home/zhang/Projects/3d/ProteinWorkshop/proteinworkshop/models/base.py#252\u001b\\\u001b[2m252\u001b[0m\u001b]8;;\u001b\\\n"
      ]
     },
     "metadata": {},
     "output_type": "display_data"
    },
    {
     "data": {
      "text/html": [
       "<pre style=\"white-space:pre;overflow-x:auto;line-height:normal;font-family:Menlo,'DejaVu Sans Mono',consolas,'Courier New',monospace\"><span style=\"color: #7fbfbf; text-decoration-color: #7fbfbf\">                    </span><span style=\"color: #000080; text-decoration-color: #000080\">INFO    </span> <span style=\"font-weight: bold\">{</span><span style=\"color: #008000; text-decoration-color: #008000\">'_target_'</span>: <span style=\"color: #008000; text-decoration-color: #008000\">'proteinworkshop.models.decoders.mlp_decoder.MLPDecoder'</span>,     <a href=\"file:///home/zhang/Projects/3d/ProteinWorkshop/proteinworkshop/models/base.py\" target=\"_blank\"><span style=\"color: #7f7f7f; text-decoration-color: #7f7f7f\">base.py</span></a><span style=\"color: #7f7f7f; text-decoration-color: #7f7f7f\">:</span><a href=\"file:///home/zhang/Projects/3d/ProteinWorkshop/proteinworkshop/models/base.py#255\" target=\"_blank\"><span style=\"color: #7f7f7f; text-decoration-color: #7f7f7f\">255</span></a>\n",
       "<span style=\"color: #7fbfbf; text-decoration-color: #7fbfbf\">                    </span>         <span style=\"color: #008000; text-decoration-color: #008000\">'hidden_dim'</span>: <span style=\"font-weight: bold\">[</span><span style=\"color: #008080; text-decoration-color: #008080; font-weight: bold\">512</span>, <span style=\"color: #008080; text-decoration-color: #008080; font-weight: bold\">512</span>, <span style=\"color: #008080; text-decoration-color: #008080; font-weight: bold\">512</span><span style=\"font-weight: bold\">]</span>, <span style=\"color: #008000; text-decoration-color: #008000\">'dropout'</span>: <span style=\"color: #008080; text-decoration-color: #008080; font-weight: bold\">0.0</span>, <span style=\"color: #008000; text-decoration-color: #008000\">'activations'</span>: <span style=\"font-weight: bold\">[</span><span style=\"color: #008000; text-decoration-color: #008000\">'relu'</span>,     <span style=\"color: #7f7f7f; text-decoration-color: #7f7f7f\">           </span>\n",
       "<span style=\"color: #7fbfbf; text-decoration-color: #7fbfbf\">                    </span>         <span style=\"color: #008000; text-decoration-color: #008000\">'relu'</span>, <span style=\"color: #008000; text-decoration-color: #008000\">'relu'</span>, <span style=\"color: #008000; text-decoration-color: #008000\">'none'</span><span style=\"font-weight: bold\">]</span>, <span style=\"color: #008000; text-decoration-color: #008000\">'skip'</span>: <span style=\"color: #008000; text-decoration-color: #008000\">'concat'</span>, <span style=\"color: #008000; text-decoration-color: #008000\">'out_dim'</span>:                      <span style=\"color: #7f7f7f; text-decoration-color: #7f7f7f\">           </span>\n",
       "<span style=\"color: #7fbfbf; text-decoration-color: #7fbfbf\">                    </span>         <span style=\"color: #008000; text-decoration-color: #008000\">'${dataset.num_classes}'</span>, <span style=\"color: #008000; text-decoration-color: #008000\">'input'</span>: <span style=\"color: #008000; text-decoration-color: #008000\">'graph_embedding'</span>, <span style=\"color: #008000; text-decoration-color: #008000\">'dummy'</span>: <span style=\"color: #ff0000; text-decoration-color: #ff0000; font-style: italic\">False</span><span style=\"font-weight: bold\">}</span>      <span style=\"color: #7f7f7f; text-decoration-color: #7f7f7f\">           </span>\n",
       "</pre>\n"
      ],
      "text/plain": [
       "\u001b[2;36m                   \u001b[0m\u001b[2;36m \u001b[0m\u001b[34mINFO    \u001b[0m \u001b[1m{\u001b[0m\u001b[32m'_target_'\u001b[0m: \u001b[32m'proteinworkshop.models.decoders.mlp_decoder.MLPDecoder'\u001b[0m,     \u001b]8;id=626430;file:///home/zhang/Projects/3d/ProteinWorkshop/proteinworkshop/models/base.py\u001b\\\u001b[2mbase.py\u001b[0m\u001b]8;;\u001b\\\u001b[2m:\u001b[0m\u001b]8;id=998192;file:///home/zhang/Projects/3d/ProteinWorkshop/proteinworkshop/models/base.py#255\u001b\\\u001b[2m255\u001b[0m\u001b]8;;\u001b\\\n",
       "\u001b[2;36m                    \u001b[0m         \u001b[32m'hidden_dim'\u001b[0m: \u001b[1m[\u001b[0m\u001b[1;36m512\u001b[0m, \u001b[1;36m512\u001b[0m, \u001b[1;36m512\u001b[0m\u001b[1m]\u001b[0m, \u001b[32m'dropout'\u001b[0m: \u001b[1;36m0.0\u001b[0m, \u001b[32m'activations'\u001b[0m: \u001b[1m[\u001b[0m\u001b[32m'relu'\u001b[0m,     \u001b[2m           \u001b[0m\n",
       "\u001b[2;36m                    \u001b[0m         \u001b[32m'relu'\u001b[0m, \u001b[32m'relu'\u001b[0m, \u001b[32m'none'\u001b[0m\u001b[1m]\u001b[0m, \u001b[32m'skip'\u001b[0m: \u001b[32m'concat'\u001b[0m, \u001b[32m'out_dim'\u001b[0m:                      \u001b[2m           \u001b[0m\n",
       "\u001b[2;36m                    \u001b[0m         \u001b[32m'$\u001b[0m\u001b[32m{\u001b[0m\u001b[32mdataset.num_classes\u001b[0m\u001b[32m}\u001b[0m\u001b[32m'\u001b[0m, \u001b[32m'input'\u001b[0m: \u001b[32m'graph_embedding'\u001b[0m, \u001b[32m'dummy'\u001b[0m: \u001b[3;91mFalse\u001b[0m\u001b[1m}\u001b[0m      \u001b[2m           \u001b[0m\n"
      ]
     },
     "metadata": {},
     "output_type": "display_data"
    },
    {
     "data": {
      "text/html": [
       "<pre style=\"white-space:pre;overflow-x:auto;line-height:normal;font-family:Menlo,'DejaVu Sans Mono',consolas,'Courier New',monospace\"><span style=\"color: #7fbfbf; text-decoration-color: #7fbfbf\">                    </span><span style=\"color: #000080; text-decoration-color: #000080\">INFO    </span> Using skip connection in decoder.                                   <a href=\"file:///home/zhang/Projects/3d/ProteinWorkshop/proteinworkshop/models/decoders/mlp_decoder.py\" target=\"_blank\"><span style=\"color: #7f7f7f; text-decoration-color: #7f7f7f\">mlp_decoder.py</span></a><span style=\"color: #7f7f7f; text-decoration-color: #7f7f7f\">:</span><a href=\"file:///home/zhang/Projects/3d/ProteinWorkshop/proteinworkshop/models/decoders/mlp_decoder.py#125\" target=\"_blank\"><span style=\"color: #7f7f7f; text-decoration-color: #7f7f7f\">125</span></a>\n",
       "</pre>\n"
      ],
      "text/plain": [
       "\u001b[2;36m                   \u001b[0m\u001b[2;36m \u001b[0m\u001b[34mINFO    \u001b[0m Using skip connection in decoder.                                   \u001b]8;id=865757;file:///home/zhang/Projects/3d/ProteinWorkshop/proteinworkshop/models/decoders/mlp_decoder.py\u001b\\\u001b[2mmlp_decoder.py\u001b[0m\u001b]8;;\u001b\\\u001b[2m:\u001b[0m\u001b]8;id=890422;file:///home/zhang/Projects/3d/ProteinWorkshop/proteinworkshop/models/decoders/mlp_decoder.py#125\u001b\\\u001b[2m125\u001b[0m\u001b]8;;\u001b\\\n"
      ]
     },
     "metadata": {},
     "output_type": "display_data"
    },
    {
     "data": {
      "text/html": [
       "<pre style=\"white-space:pre;overflow-x:auto;line-height:normal;font-family:Menlo,'DejaVu Sans Mono',consolas,'Courier New',monospace\"><span style=\"color: #7fbfbf; text-decoration-color: #7fbfbf\">                    </span><span style=\"color: #000080; text-decoration-color: #000080\">INFO    </span> <span style=\"color: #800080; text-decoration-color: #800080; font-weight: bold\">ModuleDict</span><span style=\"font-weight: bold\">(</span>                                                                <a href=\"file:///home/zhang/Projects/3d/ProteinWorkshop/proteinworkshop/models/base.py\" target=\"_blank\"><span style=\"color: #7f7f7f; text-decoration-color: #7f7f7f\">base.py</span></a><span style=\"color: #7f7f7f; text-decoration-color: #7f7f7f\">:</span><a href=\"file:///home/zhang/Projects/3d/ProteinWorkshop/proteinworkshop/models/base.py#419\" target=\"_blank\"><span style=\"color: #7f7f7f; text-decoration-color: #7f7f7f\">419</span></a>\n",
       "<span style=\"color: #7fbfbf; text-decoration-color: #7fbfbf\">                    </span>           <span style=\"font-weight: bold\">(</span>graph_label<span style=\"font-weight: bold\">)</span>: <span style=\"color: #800080; text-decoration-color: #800080; font-weight: bold\">MLPDecoder</span><span style=\"font-weight: bold\">(</span>                                               <span style=\"color: #7f7f7f; text-decoration-color: #7f7f7f\">           </span>\n",
       "<span style=\"color: #7fbfbf; text-decoration-color: #7fbfbf\">                    </span>             <span style=\"font-weight: bold\">(</span>layers<span style=\"font-weight: bold\">)</span>: <span style=\"color: #800080; text-decoration-color: #800080; font-weight: bold\">LinearSkipBlock</span><span style=\"font-weight: bold\">(</span>                                             <span style=\"color: #7f7f7f; text-decoration-color: #7f7f7f\">           </span>\n",
       "<span style=\"color: #7fbfbf; text-decoration-color: #7fbfbf\">                    </span>               <span style=\"font-weight: bold\">(</span>layers<span style=\"font-weight: bold\">)</span>: <span style=\"color: #800080; text-decoration-color: #800080; font-weight: bold\">ModuleList</span><span style=\"font-weight: bold\">(</span>                                                <span style=\"color: #7f7f7f; text-decoration-color: #7f7f7f\">           </span>\n",
       "<span style=\"color: #7fbfbf; text-decoration-color: #7fbfbf\">                    </span>                 <span style=\"font-weight: bold\">(</span><span style=\"color: #008080; text-decoration-color: #008080; font-weight: bold\">0</span>-<span style=\"color: #008080; text-decoration-color: #008080; font-weight: bold\">2</span><span style=\"font-weight: bold\">)</span>: <span style=\"color: #008080; text-decoration-color: #008080; font-weight: bold\">3</span> x <span style=\"color: #800080; text-decoration-color: #800080; font-weight: bold\">LazyLinear</span><span style=\"font-weight: bold\">(</span><span style=\"color: #808000; text-decoration-color: #808000\">in_features</span>=<span style=\"color: #008080; text-decoration-color: #008080; font-weight: bold\">0</span>, <span style=\"color: #808000; text-decoration-color: #808000\">out_features</span>=<span style=\"color: #008080; text-decoration-color: #008080; font-weight: bold\">512</span>, <span style=\"color: #808000; text-decoration-color: #808000\">bias</span>=<span style=\"color: #00ff00; text-decoration-color: #00ff00; font-style: italic\">True</span><span style=\"font-weight: bold\">)</span>  <span style=\"color: #7f7f7f; text-decoration-color: #7f7f7f\">           </span>\n",
       "<span style=\"color: #7fbfbf; text-decoration-color: #7fbfbf\">                    </span>                 <span style=\"font-weight: bold\">(</span><span style=\"color: #008080; text-decoration-color: #008080; font-weight: bold\">3</span><span style=\"font-weight: bold\">)</span>: <span style=\"color: #800080; text-decoration-color: #800080; font-weight: bold\">LazyLinear</span><span style=\"font-weight: bold\">(</span><span style=\"color: #808000; text-decoration-color: #808000\">in_features</span>=<span style=\"color: #008080; text-decoration-color: #008080; font-weight: bold\">0</span>, <span style=\"color: #808000; text-decoration-color: #808000\">out_features</span>=<span style=\"color: #008080; text-decoration-color: #008080; font-weight: bold\">1195</span>, <span style=\"color: #808000; text-decoration-color: #808000\">bias</span>=<span style=\"color: #00ff00; text-decoration-color: #00ff00; font-style: italic\">True</span><span style=\"font-weight: bold\">)</span>       <span style=\"color: #7f7f7f; text-decoration-color: #7f7f7f\">           </span>\n",
       "<span style=\"color: #7fbfbf; text-decoration-color: #7fbfbf\">                    </span>               <span style=\"font-weight: bold\">)</span>                                                                    <span style=\"color: #7f7f7f; text-decoration-color: #7f7f7f\">           </span>\n",
       "<span style=\"color: #7fbfbf; text-decoration-color: #7fbfbf\">                    </span>               <span style=\"font-weight: bold\">(</span>activations<span style=\"font-weight: bold\">)</span>: <span style=\"color: #800080; text-decoration-color: #800080; font-weight: bold\">ModuleList</span><span style=\"font-weight: bold\">(</span>                                           <span style=\"color: #7f7f7f; text-decoration-color: #7f7f7f\">           </span>\n",
       "<span style=\"color: #7fbfbf; text-decoration-color: #7fbfbf\">                    </span>                 <span style=\"font-weight: bold\">(</span><span style=\"color: #008080; text-decoration-color: #008080; font-weight: bold\">0</span>-<span style=\"color: #008080; text-decoration-color: #008080; font-weight: bold\">2</span><span style=\"font-weight: bold\">)</span>: <span style=\"color: #008080; text-decoration-color: #008080; font-weight: bold\">3</span> x <span style=\"color: #800080; text-decoration-color: #800080; font-weight: bold\">ReLU</span><span style=\"font-weight: bold\">()</span>                                                  <span style=\"color: #7f7f7f; text-decoration-color: #7f7f7f\">           </span>\n",
       "<span style=\"color: #7fbfbf; text-decoration-color: #7fbfbf\">                    </span>                 <span style=\"font-weight: bold\">(</span><span style=\"color: #008080; text-decoration-color: #008080; font-weight: bold\">3</span><span style=\"font-weight: bold\">)</span>: <span style=\"color: #800080; text-decoration-color: #800080; font-weight: bold\">Identity</span><span style=\"font-weight: bold\">()</span>                                                    <span style=\"color: #7f7f7f; text-decoration-color: #7f7f7f\">           </span>\n",
       "<span style=\"color: #7fbfbf; text-decoration-color: #7fbfbf\">                    </span>               <span style=\"font-weight: bold\">)</span>                                                                    <span style=\"color: #7f7f7f; text-decoration-color: #7f7f7f\">           </span>\n",
       "<span style=\"color: #7fbfbf; text-decoration-color: #7fbfbf\">                    </span>               <span style=\"font-weight: bold\">(</span>dropout_layers<span style=\"font-weight: bold\">)</span>: <span style=\"color: #800080; text-decoration-color: #800080; font-weight: bold\">ModuleList</span><span style=\"font-weight: bold\">(</span>                                        <span style=\"color: #7f7f7f; text-decoration-color: #7f7f7f\">           </span>\n",
       "<span style=\"color: #7fbfbf; text-decoration-color: #7fbfbf\">                    </span>                 <span style=\"font-weight: bold\">(</span><span style=\"color: #008080; text-decoration-color: #008080; font-weight: bold\">0</span>-<span style=\"color: #008080; text-decoration-color: #008080; font-weight: bold\">2</span><span style=\"font-weight: bold\">)</span>: <span style=\"color: #008080; text-decoration-color: #008080; font-weight: bold\">3</span> x <span style=\"color: #800080; text-decoration-color: #800080; font-weight: bold\">Dropout</span><span style=\"font-weight: bold\">(</span><span style=\"color: #808000; text-decoration-color: #808000\">p</span>=<span style=\"color: #008080; text-decoration-color: #008080; font-weight: bold\">0.0</span>, <span style=\"color: #808000; text-decoration-color: #808000\">inplace</span>=<span style=\"color: #ff0000; text-decoration-color: #ff0000; font-style: italic\">False</span><span style=\"font-weight: bold\">)</span>                           <span style=\"color: #7f7f7f; text-decoration-color: #7f7f7f\">           </span>\n",
       "<span style=\"color: #7fbfbf; text-decoration-color: #7fbfbf\">                    </span>               <span style=\"font-weight: bold\">)</span>                                                                    <span style=\"color: #7f7f7f; text-decoration-color: #7f7f7f\">           </span>\n",
       "<span style=\"color: #7fbfbf; text-decoration-color: #7fbfbf\">                    </span>             <span style=\"font-weight: bold\">)</span>                                                                      <span style=\"color: #7f7f7f; text-decoration-color: #7f7f7f\">           </span>\n",
       "<span style=\"color: #7fbfbf; text-decoration-color: #7fbfbf\">                    </span>           <span style=\"font-weight: bold\">)</span>                                                                        <span style=\"color: #7f7f7f; text-decoration-color: #7f7f7f\">           </span>\n",
       "<span style=\"color: #7fbfbf; text-decoration-color: #7fbfbf\">                    </span>         <span style=\"font-weight: bold\">)</span>                                                                          <span style=\"color: #7f7f7f; text-decoration-color: #7f7f7f\">           </span>\n",
       "</pre>\n"
      ],
      "text/plain": [
       "\u001b[2;36m                   \u001b[0m\u001b[2;36m \u001b[0m\u001b[34mINFO    \u001b[0m \u001b[1;35mModuleDict\u001b[0m\u001b[1m(\u001b[0m                                                                \u001b]8;id=554767;file:///home/zhang/Projects/3d/ProteinWorkshop/proteinworkshop/models/base.py\u001b\\\u001b[2mbase.py\u001b[0m\u001b]8;;\u001b\\\u001b[2m:\u001b[0m\u001b]8;id=963043;file:///home/zhang/Projects/3d/ProteinWorkshop/proteinworkshop/models/base.py#419\u001b\\\u001b[2m419\u001b[0m\u001b]8;;\u001b\\\n",
       "\u001b[2;36m                    \u001b[0m           \u001b[1m(\u001b[0mgraph_label\u001b[1m)\u001b[0m: \u001b[1;35mMLPDecoder\u001b[0m\u001b[1m(\u001b[0m                                               \u001b[2m           \u001b[0m\n",
       "\u001b[2;36m                    \u001b[0m             \u001b[1m(\u001b[0mlayers\u001b[1m)\u001b[0m: \u001b[1;35mLinearSkipBlock\u001b[0m\u001b[1m(\u001b[0m                                             \u001b[2m           \u001b[0m\n",
       "\u001b[2;36m                    \u001b[0m               \u001b[1m(\u001b[0mlayers\u001b[1m)\u001b[0m: \u001b[1;35mModuleList\u001b[0m\u001b[1m(\u001b[0m                                                \u001b[2m           \u001b[0m\n",
       "\u001b[2;36m                    \u001b[0m                 \u001b[1m(\u001b[0m\u001b[1;36m0\u001b[0m-\u001b[1;36m2\u001b[0m\u001b[1m)\u001b[0m: \u001b[1;36m3\u001b[0m x \u001b[1;35mLazyLinear\u001b[0m\u001b[1m(\u001b[0m\u001b[33min_features\u001b[0m=\u001b[1;36m0\u001b[0m, \u001b[33mout_features\u001b[0m=\u001b[1;36m512\u001b[0m, \u001b[33mbias\u001b[0m=\u001b[3;92mTrue\u001b[0m\u001b[1m)\u001b[0m  \u001b[2m           \u001b[0m\n",
       "\u001b[2;36m                    \u001b[0m                 \u001b[1m(\u001b[0m\u001b[1;36m3\u001b[0m\u001b[1m)\u001b[0m: \u001b[1;35mLazyLinear\u001b[0m\u001b[1m(\u001b[0m\u001b[33min_features\u001b[0m=\u001b[1;36m0\u001b[0m, \u001b[33mout_features\u001b[0m=\u001b[1;36m1195\u001b[0m, \u001b[33mbias\u001b[0m=\u001b[3;92mTrue\u001b[0m\u001b[1m)\u001b[0m       \u001b[2m           \u001b[0m\n",
       "\u001b[2;36m                    \u001b[0m               \u001b[1m)\u001b[0m                                                                    \u001b[2m           \u001b[0m\n",
       "\u001b[2;36m                    \u001b[0m               \u001b[1m(\u001b[0mactivations\u001b[1m)\u001b[0m: \u001b[1;35mModuleList\u001b[0m\u001b[1m(\u001b[0m                                           \u001b[2m           \u001b[0m\n",
       "\u001b[2;36m                    \u001b[0m                 \u001b[1m(\u001b[0m\u001b[1;36m0\u001b[0m-\u001b[1;36m2\u001b[0m\u001b[1m)\u001b[0m: \u001b[1;36m3\u001b[0m x \u001b[1;35mReLU\u001b[0m\u001b[1m(\u001b[0m\u001b[1m)\u001b[0m                                                  \u001b[2m           \u001b[0m\n",
       "\u001b[2;36m                    \u001b[0m                 \u001b[1m(\u001b[0m\u001b[1;36m3\u001b[0m\u001b[1m)\u001b[0m: \u001b[1;35mIdentity\u001b[0m\u001b[1m(\u001b[0m\u001b[1m)\u001b[0m                                                    \u001b[2m           \u001b[0m\n",
       "\u001b[2;36m                    \u001b[0m               \u001b[1m)\u001b[0m                                                                    \u001b[2m           \u001b[0m\n",
       "\u001b[2;36m                    \u001b[0m               \u001b[1m(\u001b[0mdropout_layers\u001b[1m)\u001b[0m: \u001b[1;35mModuleList\u001b[0m\u001b[1m(\u001b[0m                                        \u001b[2m           \u001b[0m\n",
       "\u001b[2;36m                    \u001b[0m                 \u001b[1m(\u001b[0m\u001b[1;36m0\u001b[0m-\u001b[1;36m2\u001b[0m\u001b[1m)\u001b[0m: \u001b[1;36m3\u001b[0m x \u001b[1;35mDropout\u001b[0m\u001b[1m(\u001b[0m\u001b[33mp\u001b[0m=\u001b[1;36m0\u001b[0m\u001b[1;36m.0\u001b[0m, \u001b[33minplace\u001b[0m=\u001b[3;91mFalse\u001b[0m\u001b[1m)\u001b[0m                           \u001b[2m           \u001b[0m\n",
       "\u001b[2;36m                    \u001b[0m               \u001b[1m)\u001b[0m                                                                    \u001b[2m           \u001b[0m\n",
       "\u001b[2;36m                    \u001b[0m             \u001b[1m)\u001b[0m                                                                      \u001b[2m           \u001b[0m\n",
       "\u001b[2;36m                    \u001b[0m           \u001b[1m)\u001b[0m                                                                        \u001b[2m           \u001b[0m\n",
       "\u001b[2;36m                    \u001b[0m         \u001b[1m)\u001b[0m                                                                          \u001b[2m           \u001b[0m\n"
      ]
     },
     "metadata": {},
     "output_type": "display_data"
    },
    {
     "data": {
      "text/html": [
       "<pre style=\"white-space:pre;overflow-x:auto;line-height:normal;font-family:Menlo,'DejaVu Sans Mono',consolas,'Courier New',monospace\"><span style=\"color: #7fbfbf; text-decoration-color: #7fbfbf\">                    </span><span style=\"color: #000080; text-decoration-color: #000080\">INFO    </span> Instantiating losses<span style=\"color: #808000; text-decoration-color: #808000\">...</span>                                                    <a href=\"file:///home/zhang/Projects/3d/ProteinWorkshop/proteinworkshop/models/base.py\" target=\"_blank\"><span style=\"color: #7f7f7f; text-decoration-color: #7f7f7f\">base.py</span></a><span style=\"color: #7f7f7f; text-decoration-color: #7f7f7f\">:</span><a href=\"file:///home/zhang/Projects/3d/ProteinWorkshop/proteinworkshop/models/base.py#421\" target=\"_blank\"><span style=\"color: #7f7f7f; text-decoration-color: #7f7f7f\">421</span></a>\n",
       "</pre>\n"
      ],
      "text/plain": [
       "\u001b[2;36m                   \u001b[0m\u001b[2;36m \u001b[0m\u001b[34mINFO    \u001b[0m Instantiating losses\u001b[33m...\u001b[0m                                                    \u001b]8;id=859992;file:///home/zhang/Projects/3d/ProteinWorkshop/proteinworkshop/models/base.py\u001b\\\u001b[2mbase.py\u001b[0m\u001b]8;;\u001b\\\u001b[2m:\u001b[0m\u001b]8;id=153359;file:///home/zhang/Projects/3d/ProteinWorkshop/proteinworkshop/models/base.py#421\u001b\\\u001b[2m421\u001b[0m\u001b]8;;\u001b\\\n"
      ]
     },
     "metadata": {},
     "output_type": "display_data"
    },
    {
     "data": {
      "text/html": [
       "<pre style=\"white-space:pre;overflow-x:auto;line-height:normal;font-family:Menlo,'DejaVu Sans Mono',consolas,'Courier New',monospace\"><span style=\"color: #7fbfbf; text-decoration-color: #7fbfbf\">                    </span><span style=\"color: #000080; text-decoration-color: #000080\">INFO    </span> Using losses: <span style=\"font-weight: bold\">{</span><span style=\"color: #008000; text-decoration-color: #008000\">'graph_label'</span>: <span style=\"color: #800080; text-decoration-color: #800080; font-weight: bold\">CrossEntropyLoss</span><span style=\"font-weight: bold\">()}</span>                          <a href=\"file:///home/zhang/Projects/3d/ProteinWorkshop/proteinworkshop/models/base.py\" target=\"_blank\"><span style=\"color: #7f7f7f; text-decoration-color: #7f7f7f\">base.py</span></a><span style=\"color: #7f7f7f; text-decoration-color: #7f7f7f\">:</span><a href=\"file:///home/zhang/Projects/3d/ProteinWorkshop/proteinworkshop/models/base.py#423\" target=\"_blank\"><span style=\"color: #7f7f7f; text-decoration-color: #7f7f7f\">423</span></a>\n",
       "</pre>\n"
      ],
      "text/plain": [
       "\u001b[2;36m                   \u001b[0m\u001b[2;36m \u001b[0m\u001b[34mINFO    \u001b[0m Using losses: \u001b[1m{\u001b[0m\u001b[32m'graph_label'\u001b[0m: \u001b[1;35mCrossEntropyLoss\u001b[0m\u001b[1m(\u001b[0m\u001b[1m)\u001b[0m\u001b[1m}\u001b[0m                          \u001b]8;id=389621;file:///home/zhang/Projects/3d/ProteinWorkshop/proteinworkshop/models/base.py\u001b\\\u001b[2mbase.py\u001b[0m\u001b]8;;\u001b\\\u001b[2m:\u001b[0m\u001b]8;id=274607;file:///home/zhang/Projects/3d/ProteinWorkshop/proteinworkshop/models/base.py#423\u001b\\\u001b[2m423\u001b[0m\u001b]8;;\u001b\\\n"
      ]
     },
     "metadata": {},
     "output_type": "display_data"
    },
    {
     "data": {
      "text/html": [
       "<pre style=\"white-space:pre;overflow-x:auto;line-height:normal;font-family:Menlo,'DejaVu Sans Mono',consolas,'Courier New',monospace\"><span style=\"color: #7fbfbf; text-decoration-color: #7fbfbf\">                    </span><span style=\"color: #000080; text-decoration-color: #000080\">INFO    </span> Not using aux loss scaling                                                 <a href=\"file:///home/zhang/Projects/3d/ProteinWorkshop/proteinworkshop/models/base.py\" target=\"_blank\"><span style=\"color: #7f7f7f; text-decoration-color: #7f7f7f\">base.py</span></a><span style=\"color: #7f7f7f; text-decoration-color: #7f7f7f\">:</span><a href=\"file:///home/zhang/Projects/3d/ProteinWorkshop/proteinworkshop/models/base.py#430\" target=\"_blank\"><span style=\"color: #7f7f7f; text-decoration-color: #7f7f7f\">430</span></a>\n",
       "</pre>\n"
      ],
      "text/plain": [
       "\u001b[2;36m                   \u001b[0m\u001b[2;36m \u001b[0m\u001b[34mINFO    \u001b[0m Not using aux loss scaling                                                 \u001b]8;id=967905;file:///home/zhang/Projects/3d/ProteinWorkshop/proteinworkshop/models/base.py\u001b\\\u001b[2mbase.py\u001b[0m\u001b]8;;\u001b\\\u001b[2m:\u001b[0m\u001b]8;id=163499;file:///home/zhang/Projects/3d/ProteinWorkshop/proteinworkshop/models/base.py#430\u001b\\\u001b[2m430\u001b[0m\u001b]8;;\u001b\\\n"
      ]
     },
     "metadata": {},
     "output_type": "display_data"
    },
    {
     "data": {
      "text/html": [
       "<pre style=\"white-space:pre;overflow-x:auto;line-height:normal;font-family:Menlo,'DejaVu Sans Mono',consolas,'Courier New',monospace\"><span style=\"color: #7fbfbf; text-decoration-color: #7fbfbf\">                    </span><span style=\"color: #000080; text-decoration-color: #000080\">INFO    </span> Configuring metrics<span style=\"color: #808000; text-decoration-color: #808000\">...</span>                                                     <a href=\"file:///home/zhang/Projects/3d/ProteinWorkshop/proteinworkshop/models/base.py\" target=\"_blank\"><span style=\"color: #7f7f7f; text-decoration-color: #7f7f7f\">base.py</span></a><span style=\"color: #7f7f7f; text-decoration-color: #7f7f7f\">:</span><a href=\"file:///home/zhang/Projects/3d/ProteinWorkshop/proteinworkshop/models/base.py#432\" target=\"_blank\"><span style=\"color: #7f7f7f; text-decoration-color: #7f7f7f\">432</span></a>\n",
       "</pre>\n"
      ],
      "text/plain": [
       "\u001b[2;36m                   \u001b[0m\u001b[2;36m \u001b[0m\u001b[34mINFO    \u001b[0m Configuring metrics\u001b[33m...\u001b[0m                                                     \u001b]8;id=524486;file:///home/zhang/Projects/3d/ProteinWorkshop/proteinworkshop/models/base.py\u001b\\\u001b[2mbase.py\u001b[0m\u001b]8;;\u001b\\\u001b[2m:\u001b[0m\u001b]8;id=888859;file:///home/zhang/Projects/3d/ProteinWorkshop/proteinworkshop/models/base.py#432\u001b\\\u001b[2m432\u001b[0m\u001b]8;;\u001b\\\n"
      ]
     },
     "metadata": {},
     "output_type": "display_data"
    },
    {
     "data": {
      "text/html": [
       "<pre style=\"white-space:pre;overflow-x:auto;line-height:normal;font-family:Menlo,'DejaVu Sans Mono',consolas,'Courier New',monospace\"><span style=\"color: #7fbfbf; text-decoration-color: #7fbfbf\">                    </span><span style=\"color: #000080; text-decoration-color: #000080\">INFO    </span> <span style=\"font-weight: bold\">[</span><span style=\"color: #008000; text-decoration-color: #008000\">'accuracy'</span>, <span style=\"color: #008000; text-decoration-color: #008000\">'f1_score'</span>, <span style=\"color: #008000; text-decoration-color: #008000\">'f1_max'</span><span style=\"font-weight: bold\">]</span>                                         <a href=\"file:///home/zhang/Projects/3d/ProteinWorkshop/proteinworkshop/models/base.py\" target=\"_blank\"><span style=\"color: #7f7f7f; text-decoration-color: #7f7f7f\">base.py</span></a><span style=\"color: #7f7f7f; text-decoration-color: #7f7f7f\">:</span><a href=\"file:///home/zhang/Projects/3d/ProteinWorkshop/proteinworkshop/models/base.py#434\" target=\"_blank\"><span style=\"color: #7f7f7f; text-decoration-color: #7f7f7f\">434</span></a>\n",
       "</pre>\n"
      ],
      "text/plain": [
       "\u001b[2;36m                   \u001b[0m\u001b[2;36m \u001b[0m\u001b[34mINFO    \u001b[0m \u001b[1m[\u001b[0m\u001b[32m'accuracy'\u001b[0m, \u001b[32m'f1_score'\u001b[0m, \u001b[32m'f1_max'\u001b[0m\u001b[1m]\u001b[0m                                         \u001b]8;id=48437;file:///home/zhang/Projects/3d/ProteinWorkshop/proteinworkshop/models/base.py\u001b\\\u001b[2mbase.py\u001b[0m\u001b]8;;\u001b\\\u001b[2m:\u001b[0m\u001b]8;id=195127;file:///home/zhang/Projects/3d/ProteinWorkshop/proteinworkshop/models/base.py#434\u001b\\\u001b[2m434\u001b[0m\u001b]8;;\u001b\\\n"
      ]
     },
     "metadata": {},
     "output_type": "display_data"
    },
    {
     "data": {
      "text/html": [
       "<pre style=\"white-space:pre;overflow-x:auto;line-height:normal;font-family:Menlo,'DejaVu Sans Mono',consolas,'Courier New',monospace\"><span style=\"color: #7fbfbf; text-decoration-color: #7fbfbf\">                    </span><span style=\"color: #000080; text-decoration-color: #000080\">INFO    </span> Instantiating featuriser<span style=\"color: #808000; text-decoration-color: #808000\">...</span>                                                <a href=\"file:///home/zhang/Projects/3d/ProteinWorkshop/proteinworkshop/models/base.py\" target=\"_blank\"><span style=\"color: #7f7f7f; text-decoration-color: #7f7f7f\">base.py</span></a><span style=\"color: #7f7f7f; text-decoration-color: #7f7f7f\">:</span><a href=\"file:///home/zhang/Projects/3d/ProteinWorkshop/proteinworkshop/models/base.py#436\" target=\"_blank\"><span style=\"color: #7f7f7f; text-decoration-color: #7f7f7f\">436</span></a>\n",
       "</pre>\n"
      ],
      "text/plain": [
       "\u001b[2;36m                   \u001b[0m\u001b[2;36m \u001b[0m\u001b[34mINFO    \u001b[0m Instantiating featuriser\u001b[33m...\u001b[0m                                                \u001b]8;id=93378;file:///home/zhang/Projects/3d/ProteinWorkshop/proteinworkshop/models/base.py\u001b\\\u001b[2mbase.py\u001b[0m\u001b]8;;\u001b\\\u001b[2m:\u001b[0m\u001b]8;id=721993;file:///home/zhang/Projects/3d/ProteinWorkshop/proteinworkshop/models/base.py#436\u001b\\\u001b[2m436\u001b[0m\u001b]8;;\u001b\\\n"
      ]
     },
     "metadata": {},
     "output_type": "display_data"
    },
    {
     "data": {
      "text/html": [
       "<pre style=\"white-space:pre;overflow-x:auto;line-height:normal;font-family:Menlo,'DejaVu Sans Mono',consolas,'Courier New',monospace\"><span style=\"color: #7fbfbf; text-decoration-color: #7fbfbf\">                    </span><span style=\"color: #000080; text-decoration-color: #000080\">INFO    </span> <span style=\"color: #800080; text-decoration-color: #800080; font-weight: bold\">ProteinFeaturiser</span><span style=\"font-weight: bold\">(</span><span style=\"color: #808000; text-decoration-color: #808000\">representation</span>=<span style=\"color: #800080; text-decoration-color: #800080\">CA</span>,                                       <a href=\"file:///home/zhang/Projects/3d/ProteinWorkshop/proteinworkshop/models/base.py\" target=\"_blank\"><span style=\"color: #7f7f7f; text-decoration-color: #7f7f7f\">base.py</span></a><span style=\"color: #7f7f7f; text-decoration-color: #7f7f7f\">:</span><a href=\"file:///home/zhang/Projects/3d/ProteinWorkshop/proteinworkshop/models/base.py#438\" target=\"_blank\"><span style=\"color: #7f7f7f; text-decoration-color: #7f7f7f\">438</span></a>\n",
       "<span style=\"color: #7fbfbf; text-decoration-color: #7fbfbf\">                    </span>         <span style=\"color: #808000; text-decoration-color: #808000\">scalar_node_features</span>=<span style=\"font-weight: bold\">[</span><span style=\"color: #008000; text-decoration-color: #008000\">'amino_acid_one_hot'</span><span style=\"font-weight: bold\">]</span>, <span style=\"color: #808000; text-decoration-color: #808000\">vector_node_features</span>=<span style=\"font-weight: bold\">[]</span>,      <span style=\"color: #7f7f7f; text-decoration-color: #7f7f7f\">           </span>\n",
       "<span style=\"color: #7fbfbf; text-decoration-color: #7fbfbf\">                    </span>         <span style=\"color: #808000; text-decoration-color: #808000\">edge_types</span>=<span style=\"font-weight: bold\">[</span><span style=\"color: #008000; text-decoration-color: #008000\">'knn_16'</span><span style=\"font-weight: bold\">]</span>, <span style=\"color: #808000; text-decoration-color: #808000\">scalar_edge_features</span>=<span style=\"font-weight: bold\">[</span><span style=\"color: #008000; text-decoration-color: #008000\">'edge_distance'</span><span style=\"font-weight: bold\">]</span>,             <span style=\"color: #7f7f7f; text-decoration-color: #7f7f7f\">           </span>\n",
       "<span style=\"color: #7fbfbf; text-decoration-color: #7fbfbf\">                    </span>         <span style=\"color: #808000; text-decoration-color: #808000\">vector_edge_features</span>=<span style=\"font-weight: bold\">[])</span>                                                   <span style=\"color: #7f7f7f; text-decoration-color: #7f7f7f\">           </span>\n",
       "</pre>\n"
      ],
      "text/plain": [
       "\u001b[2;36m                   \u001b[0m\u001b[2;36m \u001b[0m\u001b[34mINFO    \u001b[0m \u001b[1;35mProteinFeaturiser\u001b[0m\u001b[1m(\u001b[0m\u001b[33mrepresentation\u001b[0m=\u001b[35mCA\u001b[0m,                                       \u001b]8;id=383269;file:///home/zhang/Projects/3d/ProteinWorkshop/proteinworkshop/models/base.py\u001b\\\u001b[2mbase.py\u001b[0m\u001b]8;;\u001b\\\u001b[2m:\u001b[0m\u001b]8;id=264664;file:///home/zhang/Projects/3d/ProteinWorkshop/proteinworkshop/models/base.py#438\u001b\\\u001b[2m438\u001b[0m\u001b]8;;\u001b\\\n",
       "\u001b[2;36m                    \u001b[0m         \u001b[33mscalar_node_features\u001b[0m=\u001b[1m[\u001b[0m\u001b[32m'amino_acid_one_hot'\u001b[0m\u001b[1m]\u001b[0m, \u001b[33mvector_node_features\u001b[0m=\u001b[1m[\u001b[0m\u001b[1m]\u001b[0m,      \u001b[2m           \u001b[0m\n",
       "\u001b[2;36m                    \u001b[0m         \u001b[33medge_types\u001b[0m=\u001b[1m[\u001b[0m\u001b[32m'knn_16'\u001b[0m\u001b[1m]\u001b[0m, \u001b[33mscalar_edge_features\u001b[0m=\u001b[1m[\u001b[0m\u001b[32m'edge_distance'\u001b[0m\u001b[1m]\u001b[0m,             \u001b[2m           \u001b[0m\n",
       "\u001b[2;36m                    \u001b[0m         \u001b[33mvector_edge_features\u001b[0m=\u001b[1m[\u001b[0m\u001b[1m]\u001b[0m\u001b[1m)\u001b[0m                                                   \u001b[2m           \u001b[0m\n"
      ]
     },
     "metadata": {},
     "output_type": "display_data"
    },
    {
     "data": {
      "text/html": [
       "<pre style=\"white-space:pre;overflow-x:auto;line-height:normal;font-family:Menlo,'DejaVu Sans Mono',consolas,'Courier New',monospace\"><span style=\"color: #7fbfbf; text-decoration-color: #7fbfbf\">                    </span><span style=\"color: #000080; text-decoration-color: #000080\">INFO    </span> Instantiating task transform<span style=\"color: #808000; text-decoration-color: #808000\">...</span>                                            <a href=\"file:///home/zhang/Projects/3d/ProteinWorkshop/proteinworkshop/models/base.py\" target=\"_blank\"><span style=\"color: #7f7f7f; text-decoration-color: #7f7f7f\">base.py</span></a><span style=\"color: #7f7f7f; text-decoration-color: #7f7f7f\">:</span><a href=\"file:///home/zhang/Projects/3d/ProteinWorkshop/proteinworkshop/models/base.py#440\" target=\"_blank\"><span style=\"color: #7f7f7f; text-decoration-color: #7f7f7f\">440</span></a>\n",
       "</pre>\n"
      ],
      "text/plain": [
       "\u001b[2;36m                   \u001b[0m\u001b[2;36m \u001b[0m\u001b[34mINFO    \u001b[0m Instantiating task transform\u001b[33m...\u001b[0m                                            \u001b]8;id=813633;file:///home/zhang/Projects/3d/ProteinWorkshop/proteinworkshop/models/base.py\u001b\\\u001b[2mbase.py\u001b[0m\u001b]8;;\u001b\\\u001b[2m:\u001b[0m\u001b]8;id=984955;file:///home/zhang/Projects/3d/ProteinWorkshop/proteinworkshop/models/base.py#440\u001b\\\u001b[2m440\u001b[0m\u001b]8;;\u001b\\\n"
      ]
     },
     "metadata": {},
     "output_type": "display_data"
    },
    {
     "data": {
      "text/html": [
       "<pre style=\"white-space:pre;overflow-x:auto;line-height:normal;font-family:Menlo,'DejaVu Sans Mono',consolas,'Courier New',monospace\"><span style=\"color: #7fbfbf; text-decoration-color: #7fbfbf\">                    </span><span style=\"color: #000080; text-decoration-color: #000080\">INFO    </span> <span style=\"color: #800080; text-decoration-color: #800080; font-style: italic\">None</span>                                                                       <a href=\"file:///home/zhang/Projects/3d/ProteinWorkshop/proteinworkshop/models/base.py\" target=\"_blank\"><span style=\"color: #7f7f7f; text-decoration-color: #7f7f7f\">base.py</span></a><span style=\"color: #7f7f7f; text-decoration-color: #7f7f7f\">:</span><a href=\"file:///home/zhang/Projects/3d/ProteinWorkshop/proteinworkshop/models/base.py#444\" target=\"_blank\"><span style=\"color: #7f7f7f; text-decoration-color: #7f7f7f\">444</span></a>\n",
       "</pre>\n"
      ],
      "text/plain": [
       "\u001b[2;36m                   \u001b[0m\u001b[2;36m \u001b[0m\u001b[34mINFO    \u001b[0m \u001b[3;35mNone\u001b[0m                                                                       \u001b]8;id=717060;file:///home/zhang/Projects/3d/ProteinWorkshop/proteinworkshop/models/base.py\u001b\\\u001b[2mbase.py\u001b[0m\u001b]8;;\u001b\\\u001b[2m:\u001b[0m\u001b]8;id=888669;file:///home/zhang/Projects/3d/ProteinWorkshop/proteinworkshop/models/base.py#444\u001b\\\u001b[2m444\u001b[0m\u001b]8;;\u001b\\\n"
      ]
     },
     "metadata": {},
     "output_type": "display_data"
    },
    {
     "data": {
      "text/html": [
       "<pre style=\"white-space:pre;overflow-x:auto;line-height:normal;font-family:Menlo,'DejaVu Sans Mono',consolas,'Courier New',monospace\"><span style=\"color: #7fbfbf; text-decoration-color: #7fbfbf\">[07/23/24 17:13:15] </span><span style=\"color: #000080; text-decoration-color: #000080\">INFO    </span> Initializing lazy layers<span style=\"color: #808000; text-decoration-color: #808000\">...</span>                                               <a href=\"file:///home/zhang/Projects/3d/ProteinWorkshop/proteinworkshop/train.py\" target=\"_blank\"><span style=\"color: #7f7f7f; text-decoration-color: #7f7f7f\">train.py</span></a><span style=\"color: #7f7f7f; text-decoration-color: #7f7f7f\">:</span><a href=\"file:///home/zhang/Projects/3d/ProteinWorkshop/proteinworkshop/train.py#145\" target=\"_blank\"><span style=\"color: #7f7f7f; text-decoration-color: #7f7f7f\">145</span></a>\n",
       "</pre>\n"
      ],
      "text/plain": [
       "\u001b[2;36m[07/23/24 17:13:15]\u001b[0m\u001b[2;36m \u001b[0m\u001b[34mINFO    \u001b[0m Initializing lazy layers\u001b[33m...\u001b[0m                                               \u001b]8;id=889536;file:///home/zhang/Projects/3d/ProteinWorkshop/proteinworkshop/train.py\u001b\\\u001b[2mtrain.py\u001b[0m\u001b]8;;\u001b\\\u001b[2m:\u001b[0m\u001b]8;id=276138;file:///home/zhang/Projects/3d/ProteinWorkshop/proteinworkshop/train.py#145\u001b\\\u001b[2m145\u001b[0m\u001b]8;;\u001b\\\n"
      ]
     },
     "metadata": {},
     "output_type": "display_data"
    },
    {
     "data": {
      "text/html": [
       "<pre style=\"white-space:pre;overflow-x:auto;line-height:normal;font-family:Menlo,'DejaVu Sans Mono',consolas,'Courier New',monospace\"><span style=\"color: #7fbfbf; text-decoration-color: #7fbfbf\">                    </span><span style=\"color: #000080; text-decoration-color: #000080\">INFO    </span> Downloading Protein Function. Fraction <span style=\"color: #008080; text-decoration-color: #008080; font-weight: bold\">1.0</span>                   <a href=\"file:///home/zhang/Projects/3d/ProteinWorkshop/proteinworkshop/datasets/fold_classification.py\" target=\"_blank\"><span style=\"color: #7f7f7f; text-decoration-color: #7f7f7f\">fold_classification.py</span></a><span style=\"color: #7f7f7f; text-decoration-color: #7f7f7f\">:</span><a href=\"file:///home/zhang/Projects/3d/ProteinWorkshop/proteinworkshop/datasets/fold_classification.py#86\" target=\"_blank\"><span style=\"color: #7f7f7f; text-decoration-color: #7f7f7f\">86</span></a>\n",
       "</pre>\n"
      ],
      "text/plain": [
       "\u001b[2;36m                   \u001b[0m\u001b[2;36m \u001b[0m\u001b[34mINFO    \u001b[0m Downloading Protein Function. Fraction \u001b[1;36m1.0\u001b[0m                   \u001b]8;id=533883;file:///home/zhang/Projects/3d/ProteinWorkshop/proteinworkshop/datasets/fold_classification.py\u001b\\\u001b[2mfold_classification.py\u001b[0m\u001b]8;;\u001b\\\u001b[2m:\u001b[0m\u001b]8;id=255940;file:///home/zhang/Projects/3d/ProteinWorkshop/proteinworkshop/datasets/fold_classification.py#86\u001b\\\u001b[2m86\u001b[0m\u001b]8;;\u001b\\\n"
      ]
     },
     "metadata": {},
     "output_type": "display_data"
    },
    {
     "data": {
      "text/html": [
       "<pre style=\"white-space:pre;overflow-x:auto;line-height:normal;font-family:Menlo,'DejaVu Sans Mono',consolas,'Courier New',monospace\"><span style=\"color: #7fbfbf; text-decoration-color: #7fbfbf\">                    </span><span style=\"color: #000080; text-decoration-color: #000080\">INFO    </span> Found SCOP structure tarfile in:                            <a href=\"file:///home/zhang/Projects/3d/ProteinWorkshop/proteinworkshop/datasets/fold_classification.py\" target=\"_blank\"><span style=\"color: #7f7f7f; text-decoration-color: #7f7f7f\">fold_classification.py</span></a><span style=\"color: #7f7f7f; text-decoration-color: #7f7f7f\">:</span><a href=\"file:///home/zhang/Projects/3d/ProteinWorkshop/proteinworkshop/datasets/fold_classification.py#138\" target=\"_blank\"><span style=\"color: #7f7f7f; text-decoration-color: #7f7f7f\">138</span></a>\n",
       "<span style=\"color: #7fbfbf; text-decoration-color: #7fbfbf\">                    </span>         <span style=\"color: #800080; text-decoration-color: #800080\">/home/zhang/Projects/3d/ProteinWorkshop/proteinworkshop/dat</span> <span style=\"color: #7f7f7f; text-decoration-color: #7f7f7f\">                          </span>\n",
       "<span style=\"color: #7fbfbf; text-decoration-color: #7fbfbf\">                    </span>         <span style=\"color: #800080; text-decoration-color: #800080\">a/FoldClassification/</span><span style=\"color: #ff00ff; text-decoration-color: #ff00ff\">pdbstyle-sel-gs-bib-95-1.75.tgz</span>        <span style=\"color: #7f7f7f; text-decoration-color: #7f7f7f\">                          </span>\n",
       "</pre>\n"
      ],
      "text/plain": [
       "\u001b[2;36m                   \u001b[0m\u001b[2;36m \u001b[0m\u001b[34mINFO    \u001b[0m Found SCOP structure tarfile in:                            \u001b]8;id=107015;file:///home/zhang/Projects/3d/ProteinWorkshop/proteinworkshop/datasets/fold_classification.py\u001b\\\u001b[2mfold_classification.py\u001b[0m\u001b]8;;\u001b\\\u001b[2m:\u001b[0m\u001b]8;id=241394;file:///home/zhang/Projects/3d/ProteinWorkshop/proteinworkshop/datasets/fold_classification.py#138\u001b\\\u001b[2m138\u001b[0m\u001b]8;;\u001b\\\n",
       "\u001b[2;36m                    \u001b[0m         \u001b[35m/home/zhang/Projects/3d/ProteinWorkshop/proteinworkshop/dat\u001b[0m \u001b[2m                          \u001b[0m\n",
       "\u001b[2;36m                    \u001b[0m         \u001b[35ma/FoldClassification/\u001b[0m\u001b[95mpdbstyle-sel-gs-bib-95-1.75.tgz\u001b[0m        \u001b[2m                          \u001b[0m\n"
      ]
     },
     "metadata": {},
     "output_type": "display_data"
    },
    {
     "data": {
      "text/html": [
       "<pre style=\"white-space:pre;overflow-x:auto;line-height:normal;font-family:Menlo,'DejaVu Sans Mono',consolas,'Courier New',monospace\"><span style=\"color: #7fbfbf; text-decoration-color: #7fbfbf\">                    </span><span style=\"color: #000080; text-decoration-color: #000080\">INFO    </span> Found SCOPe structures in:                                  <a href=\"file:///home/zhang/Projects/3d/ProteinWorkshop/proteinworkshop/datasets/fold_classification.py\" target=\"_blank\"><span style=\"color: #7f7f7f; text-decoration-color: #7f7f7f\">fold_classification.py</span></a><span style=\"color: #7f7f7f; text-decoration-color: #7f7f7f\">:</span><a href=\"file:///home/zhang/Projects/3d/ProteinWorkshop/proteinworkshop/datasets/fold_classification.py#151\" target=\"_blank\"><span style=\"color: #7f7f7f; text-decoration-color: #7f7f7f\">151</span></a>\n",
       "</pre>\n"
      ],
      "text/plain": [
       "\u001b[2;36m                   \u001b[0m\u001b[2;36m \u001b[0m\u001b[34mINFO    \u001b[0m Found SCOPe structures in:                                  \u001b]8;id=80640;file:///home/zhang/Projects/3d/ProteinWorkshop/proteinworkshop/datasets/fold_classification.py\u001b\\\u001b[2mfold_classification.py\u001b[0m\u001b]8;;\u001b\\\u001b[2m:\u001b[0m\u001b]8;id=553243;file:///home/zhang/Projects/3d/ProteinWorkshop/proteinworkshop/datasets/fold_classification.py#151\u001b\\\u001b[2m151\u001b[0m\u001b]8;;\u001b\\\n"
      ]
     },
     "metadata": {},
     "output_type": "display_data"
    },
    {
     "data": {
      "text/html": [
       "<pre style=\"white-space:pre;overflow-x:auto;line-height:normal;font-family:Menlo,'DejaVu Sans Mono',consolas,'Courier New',monospace\"><span style=\"color: #7fbfbf; text-decoration-color: #7fbfbf\">                    </span><span style=\"color: #000080; text-decoration-color: #000080\">INFO    </span> Preprocessing validation data                                               <a href=\"file:///home/zhang/Projects/3d/ProteinWorkshop/proteinworkshop/datasets/base.py\" target=\"_blank\"><span style=\"color: #7f7f7f; text-decoration-color: #7f7f7f\">base.py</span></a><span style=\"color: #7f7f7f; text-decoration-color: #7f7f7f\">:</span><a href=\"file:///home/zhang/Projects/3d/ProteinWorkshop/proteinworkshop/datasets/base.py#99\" target=\"_blank\"><span style=\"color: #7f7f7f; text-decoration-color: #7f7f7f\">99</span></a>\n",
       "</pre>\n"
      ],
      "text/plain": [
       "\u001b[2;36m                   \u001b[0m\u001b[2;36m \u001b[0m\u001b[34mINFO    \u001b[0m Preprocessing validation data                                               \u001b]8;id=791515;file:///home/zhang/Projects/3d/ProteinWorkshop/proteinworkshop/datasets/base.py\u001b\\\u001b[2mbase.py\u001b[0m\u001b]8;;\u001b\\\u001b[2m:\u001b[0m\u001b]8;id=555822;file:///home/zhang/Projects/3d/ProteinWorkshop/proteinworkshop/datasets/base.py#99\u001b\\\u001b[2m99\u001b[0m\u001b]8;;\u001b\\\n"
      ]
     },
     "metadata": {},
     "output_type": "display_data"
    },
    {
     "data": {
      "text/html": [
       "<pre style=\"white-space:pre;overflow-x:auto;line-height:normal;font-family:Menlo,'DejaVu Sans Mono',consolas,'Courier New',monospace\"><span style=\"color: #7fbfbf; text-decoration-color: #7fbfbf\">                    </span><span style=\"color: #000080; text-decoration-color: #000080\">INFO    </span> Reading labels from:                                        <a href=\"file:///home/zhang/Projects/3d/ProteinWorkshop/proteinworkshop/datasets/fold_classification.py\" target=\"_blank\"><span style=\"color: #7f7f7f; text-decoration-color: #7f7f7f\">fold_classification.py</span></a><span style=\"color: #7f7f7f; text-decoration-color: #7f7f7f\">:</span><a href=\"file:///home/zhang/Projects/3d/ProteinWorkshop/proteinworkshop/datasets/fold_classification.py#154\" target=\"_blank\"><span style=\"color: #7f7f7f; text-decoration-color: #7f7f7f\">154</span></a>\n",
       "<span style=\"color: #7fbfbf; text-decoration-color: #7fbfbf\">                    </span>         <span style=\"color: #800080; text-decoration-color: #800080\">/home/zhang/Projects/3d/ProteinWorkshop/proteinworkshop/dat</span> <span style=\"color: #7f7f7f; text-decoration-color: #7f7f7f\">                          </span>\n",
       "<span style=\"color: #7fbfbf; text-decoration-color: #7fbfbf\">                    </span>         <span style=\"color: #800080; text-decoration-color: #800080\">a/FoldClassification/</span><span style=\"color: #ff00ff; text-decoration-color: #ff00ff\">class_map.txt</span>                          <span style=\"color: #7f7f7f; text-decoration-color: #7f7f7f\">                          </span>\n",
       "</pre>\n"
      ],
      "text/plain": [
       "\u001b[2;36m                   \u001b[0m\u001b[2;36m \u001b[0m\u001b[34mINFO    \u001b[0m Reading labels from:                                        \u001b]8;id=449411;file:///home/zhang/Projects/3d/ProteinWorkshop/proteinworkshop/datasets/fold_classification.py\u001b\\\u001b[2mfold_classification.py\u001b[0m\u001b]8;;\u001b\\\u001b[2m:\u001b[0m\u001b]8;id=954709;file:///home/zhang/Projects/3d/ProteinWorkshop/proteinworkshop/datasets/fold_classification.py#154\u001b\\\u001b[2m154\u001b[0m\u001b]8;;\u001b\\\n",
       "\u001b[2;36m                    \u001b[0m         \u001b[35m/home/zhang/Projects/3d/ProteinWorkshop/proteinworkshop/dat\u001b[0m \u001b[2m                          \u001b[0m\n",
       "\u001b[2;36m                    \u001b[0m         \u001b[35ma/FoldClassification/\u001b[0m\u001b[95mclass_map.txt\u001b[0m                          \u001b[2m                          \u001b[0m\n"
      ]
     },
     "metadata": {},
     "output_type": "display_data"
    },
    {
     "data": {
      "text/html": [
       "<pre style=\"white-space:pre;overflow-x:auto;line-height:normal;font-family:Menlo,'DejaVu Sans Mono',consolas,'Courier New',monospace\"><span style=\"color: #7fbfbf; text-decoration-color: #7fbfbf\">                    </span><span style=\"color: #000080; text-decoration-color: #000080\">INFO    </span> Found <span style=\"color: #008080; text-decoration-color: #008080; font-weight: bold\">736</span> original examples in validation                   <a href=\"file:///home/zhang/Projects/3d/ProteinWorkshop/proteinworkshop/datasets/fold_classification.py\" target=\"_blank\"><span style=\"color: #7f7f7f; text-decoration-color: #7f7f7f\">fold_classification.py</span></a><span style=\"color: #7f7f7f; text-decoration-color: #7f7f7f\">:</span><a href=\"file:///home/zhang/Projects/3d/ProteinWorkshop/proteinworkshop/datasets/fold_classification.py#234\" target=\"_blank\"><span style=\"color: #7f7f7f; text-decoration-color: #7f7f7f\">234</span></a>\n",
       "</pre>\n"
      ],
      "text/plain": [
       "\u001b[2;36m                   \u001b[0m\u001b[2;36m \u001b[0m\u001b[34mINFO    \u001b[0m Found \u001b[1;36m736\u001b[0m original examples in validation                   \u001b]8;id=365924;file:///home/zhang/Projects/3d/ProteinWorkshop/proteinworkshop/datasets/fold_classification.py\u001b\\\u001b[2mfold_classification.py\u001b[0m\u001b]8;;\u001b\\\u001b[2m:\u001b[0m\u001b]8;id=618395;file:///home/zhang/Projects/3d/ProteinWorkshop/proteinworkshop/datasets/fold_classification.py#234\u001b\\\u001b[2m234\u001b[0m\u001b]8;;\u001b\\\n"
      ]
     },
     "metadata": {},
     "output_type": "display_data"
    },
    {
     "data": {
      "text/html": [
       "<pre style=\"white-space:pre;overflow-x:auto;line-height:normal;font-family:Menlo,'DejaVu Sans Mono',consolas,'Courier New',monospace\"><span style=\"color: #7fbfbf; text-decoration-color: #7fbfbf\">                    </span><span style=\"color: #000080; text-decoration-color: #000080\">INFO    </span> Identified <span style=\"color: #008080; text-decoration-color: #008080; font-weight: bold\">319</span> classes                                      <a href=\"file:///home/zhang/Projects/3d/ProteinWorkshop/proteinworkshop/datasets/fold_classification.py\" target=\"_blank\"><span style=\"color: #7f7f7f; text-decoration-color: #7f7f7f\">fold_classification.py</span></a><span style=\"color: #7f7f7f; text-decoration-color: #7f7f7f\">:</span><a href=\"file:///home/zhang/Projects/3d/ProteinWorkshop/proteinworkshop/datasets/fold_classification.py#247\" target=\"_blank\"><span style=\"color: #7f7f7f; text-decoration-color: #7f7f7f\">247</span></a>\n",
       "</pre>\n"
      ],
      "text/plain": [
       "\u001b[2;36m                   \u001b[0m\u001b[2;36m \u001b[0m\u001b[34mINFO    \u001b[0m Identified \u001b[1;36m319\u001b[0m classes                                      \u001b]8;id=255198;file:///home/zhang/Projects/3d/ProteinWorkshop/proteinworkshop/datasets/fold_classification.py\u001b\\\u001b[2mfold_classification.py\u001b[0m\u001b]8;;\u001b\\\u001b[2m:\u001b[0m\u001b]8;id=824350;file:///home/zhang/Projects/3d/ProteinWorkshop/proteinworkshop/datasets/fold_classification.py#247\u001b\\\u001b[2m247\u001b[0m\u001b]8;;\u001b\\\n"
      ]
     },
     "metadata": {},
     "output_type": "display_data"
    },
    {
     "data": {
      "text/html": [
       "<pre style=\"white-space:pre;overflow-x:auto;line-height:normal;font-family:Menlo,'DejaVu Sans Mono',consolas,'Courier New',monospace\"><span style=\"color: #7fbfbf; text-decoration-color: #7fbfbf\">                    </span><span style=\"color: #000080; text-decoration-color: #000080\">INFO    </span> All structures already processed and <span style=\"color: #808000; text-decoration-color: #808000\">overwrite</span>=<span style=\"color: #ff0000; text-decoration-color: #ff0000; font-style: italic\">False</span>. Skipping download.   <a href=\"file:///home/zhang/Projects/3d/ProteinWorkshop/proteinworkshop/datasets/base.py\" target=\"_blank\"><span style=\"color: #7f7f7f; text-decoration-color: #7f7f7f\">base.py</span></a><span style=\"color: #7f7f7f; text-decoration-color: #7f7f7f\">:</span><a href=\"file:///home/zhang/Projects/3d/ProteinWorkshop/proteinworkshop/datasets/base.py#327\" target=\"_blank\"><span style=\"color: #7f7f7f; text-decoration-color: #7f7f7f\">327</span></a>\n",
       "</pre>\n"
      ],
      "text/plain": [
       "\u001b[2;36m                   \u001b[0m\u001b[2;36m \u001b[0m\u001b[34mINFO    \u001b[0m All structures already processed and \u001b[33moverwrite\u001b[0m=\u001b[3;91mFalse\u001b[0m. Skipping download.   \u001b]8;id=128792;file:///home/zhang/Projects/3d/ProteinWorkshop/proteinworkshop/datasets/base.py\u001b\\\u001b[2mbase.py\u001b[0m\u001b]8;;\u001b\\\u001b[2m:\u001b[0m\u001b]8;id=695597;file:///home/zhang/Projects/3d/ProteinWorkshop/proteinworkshop/datasets/base.py#327\u001b\\\u001b[2m327\u001b[0m\u001b]8;;\u001b\\\n"
      ]
     },
     "metadata": {},
     "output_type": "display_data"
    },
    {
     "data": {
      "text/html": [
       "<pre style=\"white-space:pre;overflow-x:auto;line-height:normal;font-family:Menlo,'DejaVu Sans Mono',consolas,'Courier New',monospace\"><span style=\"color: #7fbfbf; text-decoration-color: #7fbfbf\">                    </span><span style=\"color: #800000; text-decoration-color: #800000\">WARNING </span> Downloads in .ent format are assumed to be from ASTRAL. These data should  <a href=\"file:///home/zhang/Projects/3d/ProteinWorkshop/proteinworkshop/datasets/base.py\" target=\"_blank\"><span style=\"color: #7f7f7f; text-decoration-color: #7f7f7f\">base.py</span></a><span style=\"color: #7f7f7f; text-decoration-color: #7f7f7f\">:</span><a href=\"file:///home/zhang/Projects/3d/ProteinWorkshop/proteinworkshop/datasets/base.py#357\" target=\"_blank\"><span style=\"color: #7f7f7f; text-decoration-color: #7f7f7f\">357</span></a>\n",
       "<span style=\"color: #7fbfbf; text-decoration-color: #7fbfbf\">                    </span>         have already been downloaded                                               <span style=\"color: #7f7f7f; text-decoration-color: #7f7f7f\">           </span>\n",
       "</pre>\n"
      ],
      "text/plain": [
       "\u001b[2;36m                   \u001b[0m\u001b[2;36m \u001b[0m\u001b[31mWARNING \u001b[0m Downloads in .ent format are assumed to be from ASTRAL. These data should  \u001b]8;id=167356;file:///home/zhang/Projects/3d/ProteinWorkshop/proteinworkshop/datasets/base.py\u001b\\\u001b[2mbase.py\u001b[0m\u001b]8;;\u001b\\\u001b[2m:\u001b[0m\u001b]8;id=995289;file:///home/zhang/Projects/3d/ProteinWorkshop/proteinworkshop/datasets/base.py#357\u001b\\\u001b[2m357\u001b[0m\u001b]8;;\u001b\\\n",
       "\u001b[2;36m                    \u001b[0m         have already been downloaded                                               \u001b[2m           \u001b[0m\n"
      ]
     },
     "metadata": {},
     "output_type": "display_data"
    },
    {
     "data": {
      "text/html": [
       "<pre style=\"white-space:pre;overflow-x:auto;line-height:normal;font-family:Menlo,'DejaVu Sans Mono',consolas,'Courier New',monospace\"><span style=\"color: #7fbfbf; text-decoration-color: #7fbfbf\">                    </span><span style=\"color: #000080; text-decoration-color: #000080\">INFO    </span> Reading data into memory                                                   <a href=\"file:///home/zhang/Projects/3d/ProteinWorkshop/proteinworkshop/datasets/base.py\" target=\"_blank\"><span style=\"color: #7f7f7f; text-decoration-color: #7f7f7f\">base.py</span></a><span style=\"color: #7f7f7f; text-decoration-color: #7f7f7f\">:</span><a href=\"file:///home/zhang/Projects/3d/ProteinWorkshop/proteinworkshop/datasets/base.py#337\" target=\"_blank\"><span style=\"color: #7f7f7f; text-decoration-color: #7f7f7f\">337</span></a>\n",
       "</pre>\n"
      ],
      "text/plain": [
       "\u001b[2;36m                   \u001b[0m\u001b[2;36m \u001b[0m\u001b[34mINFO    \u001b[0m Reading data into memory                                                   \u001b]8;id=431674;file:///home/zhang/Projects/3d/ProteinWorkshop/proteinworkshop/datasets/base.py\u001b\\\u001b[2mbase.py\u001b[0m\u001b]8;;\u001b\\\u001b[2m:\u001b[0m\u001b]8;id=560449;file:///home/zhang/Projects/3d/ProteinWorkshop/proteinworkshop/datasets/base.py#337\u001b\\\u001b[2m337\u001b[0m\u001b]8;;\u001b\\\n"
      ]
     },
     "metadata": {},
     "output_type": "display_data"
    },
    {
     "name": "stderr",
     "output_type": "stream",
     "text": [
      "100%|██████████| 736/736 [00:00<00:00, 4769.72it/s]\n"
     ]
    },
    {
     "data": {
      "text/html": [
       "<pre style=\"white-space:pre;overflow-x:auto;line-height:normal;font-family:Menlo,'DejaVu Sans Mono',consolas,'Courier New',monospace\"><span style=\"color: #7fbfbf; text-decoration-color: #7fbfbf\">[07/23/24 17:13:16] </span><span style=\"color: #000080; text-decoration-color: #000080\">INFO    </span> Unfeaturized batch: <span style=\"color: #800080; text-decoration-color: #800080; font-weight: bold\">DataProteinBatch</span><span style=\"font-weight: bold\">(</span><span style=\"color: #808000; text-decoration-color: #808000\">fill_value</span>=<span style=\"color: #008080; text-decoration-color: #008080; font-weight: bold\">1e-05</span>, <span style=\"color: #808000; text-decoration-color: #808000\">atom_list</span>=<span style=\"font-weight: bold\">[</span><span style=\"color: #008080; text-decoration-color: #008080; font-weight: bold\">37</span><span style=\"font-weight: bold\">]</span>,    <a href=\"file:///home/zhang/Projects/3d/ProteinWorkshop/proteinworkshop/train.py\" target=\"_blank\"><span style=\"color: #7f7f7f; text-decoration-color: #7f7f7f\">train.py</span></a><span style=\"color: #7f7f7f; text-decoration-color: #7f7f7f\">:</span><a href=\"file:///home/zhang/Projects/3d/ProteinWorkshop/proteinworkshop/train.py#149\" target=\"_blank\"><span style=\"color: #7f7f7f; text-decoration-color: #7f7f7f\">149</span></a>\n",
       "<span style=\"color: #7fbfbf; text-decoration-color: #7fbfbf\">                    </span>         <span style=\"color: #808000; text-decoration-color: #808000\">coords</span>=<span style=\"font-weight: bold\">[</span><span style=\"color: #008080; text-decoration-color: #008080; font-weight: bold\">7747</span>, <span style=\"color: #008080; text-decoration-color: #008080; font-weight: bold\">37</span>, <span style=\"color: #008080; text-decoration-color: #008080; font-weight: bold\">3</span><span style=\"font-weight: bold\">]</span>, <span style=\"color: #808000; text-decoration-color: #808000\">residues</span>=<span style=\"font-weight: bold\">[</span><span style=\"color: #008080; text-decoration-color: #008080; font-weight: bold\">32</span><span style=\"font-weight: bold\">]</span>, <span style=\"color: #808000; text-decoration-color: #808000\">id</span>=<span style=\"font-weight: bold\">[</span><span style=\"color: #008080; text-decoration-color: #008080; font-weight: bold\">32</span><span style=\"font-weight: bold\">]</span>, <span style=\"color: #808000; text-decoration-color: #808000\">residue_id</span>=<span style=\"font-weight: bold\">[</span><span style=\"color: #008080; text-decoration-color: #008080; font-weight: bold\">32</span><span style=\"font-weight: bold\">]</span>,            <span style=\"color: #7f7f7f; text-decoration-color: #7f7f7f\">            </span>\n",
       "<span style=\"color: #7fbfbf; text-decoration-color: #7fbfbf\">                    </span>         <span style=\"color: #808000; text-decoration-color: #808000\">residue_type</span>=<span style=\"font-weight: bold\">[</span><span style=\"color: #008080; text-decoration-color: #008080; font-weight: bold\">7747</span><span style=\"font-weight: bold\">]</span>, <span style=\"color: #808000; text-decoration-color: #808000\">chains</span>=<span style=\"font-weight: bold\">[</span><span style=\"color: #008080; text-decoration-color: #008080; font-weight: bold\">7747</span><span style=\"font-weight: bold\">]</span>, <span style=\"color: #808000; text-decoration-color: #808000\">graph_y</span>=<span style=\"font-weight: bold\">[</span><span style=\"color: #008080; text-decoration-color: #008080; font-weight: bold\">32</span><span style=\"font-weight: bold\">]</span>, <span style=\"color: #808000; text-decoration-color: #808000\">x</span>=<span style=\"font-weight: bold\">[</span><span style=\"color: #008080; text-decoration-color: #008080; font-weight: bold\">7747</span><span style=\"font-weight: bold\">]</span>,               <span style=\"color: #7f7f7f; text-decoration-color: #7f7f7f\">            </span>\n",
       "<span style=\"color: #7fbfbf; text-decoration-color: #7fbfbf\">                    </span>         <span style=\"color: #808000; text-decoration-color: #808000\">amino_acid_one_hot</span>=<span style=\"font-weight: bold\">[</span><span style=\"color: #008080; text-decoration-color: #008080; font-weight: bold\">7747</span>, <span style=\"color: #008080; text-decoration-color: #008080; font-weight: bold\">23</span><span style=\"font-weight: bold\">]</span>, <span style=\"color: #808000; text-decoration-color: #808000\">seq_pos</span>=<span style=\"font-weight: bold\">[</span><span style=\"color: #008080; text-decoration-color: #008080; font-weight: bold\">7747</span>, <span style=\"color: #008080; text-decoration-color: #008080; font-weight: bold\">1</span><span style=\"font-weight: bold\">]</span>, <span style=\"color: #808000; text-decoration-color: #808000\">batch</span>=<span style=\"font-weight: bold\">[</span><span style=\"color: #008080; text-decoration-color: #008080; font-weight: bold\">7747</span><span style=\"font-weight: bold\">]</span>, <span style=\"color: #808000; text-decoration-color: #808000\">ptr</span>=<span style=\"font-weight: bold\">[</span><span style=\"color: #008080; text-decoration-color: #008080; font-weight: bold\">33</span><span style=\"font-weight: bold\">])</span> <span style=\"color: #7f7f7f; text-decoration-color: #7f7f7f\">            </span>\n",
       "</pre>\n"
      ],
      "text/plain": [
       "\u001b[2;36m[07/23/24 17:13:16]\u001b[0m\u001b[2;36m \u001b[0m\u001b[34mINFO    \u001b[0m Unfeaturized batch: \u001b[1;35mDataProteinBatch\u001b[0m\u001b[1m(\u001b[0m\u001b[33mfill_value\u001b[0m=\u001b[1;36m1e\u001b[0m\u001b[1;36m-05\u001b[0m, \u001b[33matom_list\u001b[0m=\u001b[1m[\u001b[0m\u001b[1;36m37\u001b[0m\u001b[1m]\u001b[0m,    \u001b]8;id=746616;file:///home/zhang/Projects/3d/ProteinWorkshop/proteinworkshop/train.py\u001b\\\u001b[2mtrain.py\u001b[0m\u001b]8;;\u001b\\\u001b[2m:\u001b[0m\u001b]8;id=85776;file:///home/zhang/Projects/3d/ProteinWorkshop/proteinworkshop/train.py#149\u001b\\\u001b[2m149\u001b[0m\u001b]8;;\u001b\\\n",
       "\u001b[2;36m                    \u001b[0m         \u001b[33mcoords\u001b[0m=\u001b[1m[\u001b[0m\u001b[1;36m7747\u001b[0m, \u001b[1;36m37\u001b[0m, \u001b[1;36m3\u001b[0m\u001b[1m]\u001b[0m, \u001b[33mresidues\u001b[0m=\u001b[1m[\u001b[0m\u001b[1;36m32\u001b[0m\u001b[1m]\u001b[0m, \u001b[33mid\u001b[0m=\u001b[1m[\u001b[0m\u001b[1;36m32\u001b[0m\u001b[1m]\u001b[0m, \u001b[33mresidue_id\u001b[0m=\u001b[1m[\u001b[0m\u001b[1;36m32\u001b[0m\u001b[1m]\u001b[0m,            \u001b[2m            \u001b[0m\n",
       "\u001b[2;36m                    \u001b[0m         \u001b[33mresidue_type\u001b[0m=\u001b[1m[\u001b[0m\u001b[1;36m7747\u001b[0m\u001b[1m]\u001b[0m, \u001b[33mchains\u001b[0m=\u001b[1m[\u001b[0m\u001b[1;36m7747\u001b[0m\u001b[1m]\u001b[0m, \u001b[33mgraph_y\u001b[0m=\u001b[1m[\u001b[0m\u001b[1;36m32\u001b[0m\u001b[1m]\u001b[0m, \u001b[33mx\u001b[0m=\u001b[1m[\u001b[0m\u001b[1;36m7747\u001b[0m\u001b[1m]\u001b[0m,               \u001b[2m            \u001b[0m\n",
       "\u001b[2;36m                    \u001b[0m         \u001b[33mamino_acid_one_hot\u001b[0m=\u001b[1m[\u001b[0m\u001b[1;36m7747\u001b[0m, \u001b[1;36m23\u001b[0m\u001b[1m]\u001b[0m, \u001b[33mseq_pos\u001b[0m=\u001b[1m[\u001b[0m\u001b[1;36m7747\u001b[0m, \u001b[1;36m1\u001b[0m\u001b[1m]\u001b[0m, \u001b[33mbatch\u001b[0m=\u001b[1m[\u001b[0m\u001b[1;36m7747\u001b[0m\u001b[1m]\u001b[0m, \u001b[33mptr\u001b[0m=\u001b[1m[\u001b[0m\u001b[1;36m33\u001b[0m\u001b[1m]\u001b[0m\u001b[1m)\u001b[0m \u001b[2m            \u001b[0m\n"
      ]
     },
     "metadata": {},
     "output_type": "display_data"
    },
    {
     "data": {
      "text/html": [
       "<pre style=\"white-space:pre;overflow-x:auto;line-height:normal;font-family:Menlo,'DejaVu Sans Mono',consolas,'Courier New',monospace\"><span style=\"color: #7fbfbf; text-decoration-color: #7fbfbf\">                    </span><span style=\"color: #000080; text-decoration-color: #000080\">INFO    </span> Featurized batch: <span style=\"color: #800080; text-decoration-color: #800080; font-weight: bold\">DataProteinBatch</span><span style=\"font-weight: bold\">(</span><span style=\"color: #808000; text-decoration-color: #808000\">fill_value</span>=<span style=\"color: #008080; text-decoration-color: #008080; font-weight: bold\">1e-05</span>, <span style=\"color: #808000; text-decoration-color: #808000\">atom_list</span>=<span style=\"font-weight: bold\">[</span><span style=\"color: #008080; text-decoration-color: #008080; font-weight: bold\">37</span><span style=\"font-weight: bold\">]</span>,      <a href=\"file:///home/zhang/Projects/3d/ProteinWorkshop/proteinworkshop/train.py\" target=\"_blank\"><span style=\"color: #7f7f7f; text-decoration-color: #7f7f7f\">train.py</span></a><span style=\"color: #7f7f7f; text-decoration-color: #7f7f7f\">:</span><a href=\"file:///home/zhang/Projects/3d/ProteinWorkshop/proteinworkshop/train.py#151\" target=\"_blank\"><span style=\"color: #7f7f7f; text-decoration-color: #7f7f7f\">151</span></a>\n",
       "<span style=\"color: #7fbfbf; text-decoration-color: #7fbfbf\">                    </span>         <span style=\"color: #808000; text-decoration-color: #808000\">coords</span>=<span style=\"font-weight: bold\">[</span><span style=\"color: #008080; text-decoration-color: #008080; font-weight: bold\">7747</span>, <span style=\"color: #008080; text-decoration-color: #008080; font-weight: bold\">37</span>, <span style=\"color: #008080; text-decoration-color: #008080; font-weight: bold\">3</span><span style=\"font-weight: bold\">]</span>, <span style=\"color: #808000; text-decoration-color: #808000\">residues</span>=<span style=\"font-weight: bold\">[</span><span style=\"color: #008080; text-decoration-color: #008080; font-weight: bold\">32</span><span style=\"font-weight: bold\">]</span>, <span style=\"color: #808000; text-decoration-color: #808000\">id</span>=<span style=\"font-weight: bold\">[</span><span style=\"color: #008080; text-decoration-color: #008080; font-weight: bold\">32</span><span style=\"font-weight: bold\">]</span>, <span style=\"color: #808000; text-decoration-color: #808000\">residue_id</span>=<span style=\"font-weight: bold\">[</span><span style=\"color: #008080; text-decoration-color: #008080; font-weight: bold\">32</span><span style=\"font-weight: bold\">]</span>,            <span style=\"color: #7f7f7f; text-decoration-color: #7f7f7f\">            </span>\n",
       "<span style=\"color: #7fbfbf; text-decoration-color: #7fbfbf\">                    </span>         <span style=\"color: #808000; text-decoration-color: #808000\">residue_type</span>=<span style=\"font-weight: bold\">[</span><span style=\"color: #008080; text-decoration-color: #008080; font-weight: bold\">7747</span><span style=\"font-weight: bold\">]</span>, <span style=\"color: #808000; text-decoration-color: #808000\">chains</span>=<span style=\"font-weight: bold\">[</span><span style=\"color: #008080; text-decoration-color: #008080; font-weight: bold\">7747</span><span style=\"font-weight: bold\">]</span>, <span style=\"color: #808000; text-decoration-color: #808000\">graph_y</span>=<span style=\"font-weight: bold\">[</span><span style=\"color: #008080; text-decoration-color: #008080; font-weight: bold\">32</span><span style=\"font-weight: bold\">]</span>, <span style=\"color: #808000; text-decoration-color: #808000\">x</span>=<span style=\"font-weight: bold\">[</span><span style=\"color: #008080; text-decoration-color: #008080; font-weight: bold\">7747</span>, <span style=\"color: #008080; text-decoration-color: #008080; font-weight: bold\">23</span><span style=\"font-weight: bold\">]</span>,           <span style=\"color: #7f7f7f; text-decoration-color: #7f7f7f\">            </span>\n",
       "<span style=\"color: #7fbfbf; text-decoration-color: #7fbfbf\">                    </span>         <span style=\"color: #808000; text-decoration-color: #808000\">amino_acid_one_hot</span>=<span style=\"font-weight: bold\">[</span><span style=\"color: #008080; text-decoration-color: #008080; font-weight: bold\">7747</span>, <span style=\"color: #008080; text-decoration-color: #008080; font-weight: bold\">23</span><span style=\"font-weight: bold\">]</span>, <span style=\"color: #808000; text-decoration-color: #808000\">seq_pos</span>=<span style=\"font-weight: bold\">[</span><span style=\"color: #008080; text-decoration-color: #008080; font-weight: bold\">7747</span>, <span style=\"color: #008080; text-decoration-color: #008080; font-weight: bold\">1</span><span style=\"font-weight: bold\">]</span>, <span style=\"color: #808000; text-decoration-color: #808000\">batch</span>=<span style=\"font-weight: bold\">[</span><span style=\"color: #008080; text-decoration-color: #008080; font-weight: bold\">7747</span><span style=\"font-weight: bold\">]</span>, <span style=\"color: #808000; text-decoration-color: #808000\">ptr</span>=<span style=\"font-weight: bold\">[</span><span style=\"color: #008080; text-decoration-color: #008080; font-weight: bold\">33</span><span style=\"font-weight: bold\">]</span>, <span style=\"color: #7f7f7f; text-decoration-color: #7f7f7f\">            </span>\n",
       "<span style=\"color: #7fbfbf; text-decoration-color: #7fbfbf\">                    </span>         <span style=\"color: #808000; text-decoration-color: #808000\">pos</span>=<span style=\"font-weight: bold\">[</span><span style=\"color: #008080; text-decoration-color: #008080; font-weight: bold\">7747</span>, <span style=\"color: #008080; text-decoration-color: #008080; font-weight: bold\">3</span><span style=\"font-weight: bold\">]</span>, <span style=\"color: #808000; text-decoration-color: #808000\">edge_index</span>=<span style=\"font-weight: bold\">[</span><span style=\"color: #008080; text-decoration-color: #008080; font-weight: bold\">2</span>, <span style=\"color: #008080; text-decoration-color: #008080; font-weight: bold\">123952</span><span style=\"font-weight: bold\">]</span>, <span style=\"color: #808000; text-decoration-color: #808000\">edge_type</span>=<span style=\"font-weight: bold\">[</span><span style=\"color: #008080; text-decoration-color: #008080; font-weight: bold\">1</span>, <span style=\"color: #008080; text-decoration-color: #008080; font-weight: bold\">123952</span><span style=\"font-weight: bold\">]</span>,             <span style=\"color: #7f7f7f; text-decoration-color: #7f7f7f\">            </span>\n",
       "<span style=\"color: #7fbfbf; text-decoration-color: #7fbfbf\">                    </span>         <span style=\"color: #808000; text-decoration-color: #808000\">num_relation</span>=<span style=\"color: #008080; text-decoration-color: #008080; font-weight: bold\">1</span>, <span style=\"color: #808000; text-decoration-color: #808000\">edge_attr</span>=<span style=\"font-weight: bold\">[</span><span style=\"color: #008080; text-decoration-color: #008080; font-weight: bold\">123952</span>, <span style=\"color: #008080; text-decoration-color: #008080; font-weight: bold\">1</span><span style=\"font-weight: bold\">])</span>                                    <span style=\"color: #7f7f7f; text-decoration-color: #7f7f7f\">            </span>\n",
       "</pre>\n"
      ],
      "text/plain": [
       "\u001b[2;36m                   \u001b[0m\u001b[2;36m \u001b[0m\u001b[34mINFO    \u001b[0m Featurized batch: \u001b[1;35mDataProteinBatch\u001b[0m\u001b[1m(\u001b[0m\u001b[33mfill_value\u001b[0m=\u001b[1;36m1e\u001b[0m\u001b[1;36m-05\u001b[0m, \u001b[33matom_list\u001b[0m=\u001b[1m[\u001b[0m\u001b[1;36m37\u001b[0m\u001b[1m]\u001b[0m,      \u001b]8;id=405975;file:///home/zhang/Projects/3d/ProteinWorkshop/proteinworkshop/train.py\u001b\\\u001b[2mtrain.py\u001b[0m\u001b]8;;\u001b\\\u001b[2m:\u001b[0m\u001b]8;id=843316;file:///home/zhang/Projects/3d/ProteinWorkshop/proteinworkshop/train.py#151\u001b\\\u001b[2m151\u001b[0m\u001b]8;;\u001b\\\n",
       "\u001b[2;36m                    \u001b[0m         \u001b[33mcoords\u001b[0m=\u001b[1m[\u001b[0m\u001b[1;36m7747\u001b[0m, \u001b[1;36m37\u001b[0m, \u001b[1;36m3\u001b[0m\u001b[1m]\u001b[0m, \u001b[33mresidues\u001b[0m=\u001b[1m[\u001b[0m\u001b[1;36m32\u001b[0m\u001b[1m]\u001b[0m, \u001b[33mid\u001b[0m=\u001b[1m[\u001b[0m\u001b[1;36m32\u001b[0m\u001b[1m]\u001b[0m, \u001b[33mresidue_id\u001b[0m=\u001b[1m[\u001b[0m\u001b[1;36m32\u001b[0m\u001b[1m]\u001b[0m,            \u001b[2m            \u001b[0m\n",
       "\u001b[2;36m                    \u001b[0m         \u001b[33mresidue_type\u001b[0m=\u001b[1m[\u001b[0m\u001b[1;36m7747\u001b[0m\u001b[1m]\u001b[0m, \u001b[33mchains\u001b[0m=\u001b[1m[\u001b[0m\u001b[1;36m7747\u001b[0m\u001b[1m]\u001b[0m, \u001b[33mgraph_y\u001b[0m=\u001b[1m[\u001b[0m\u001b[1;36m32\u001b[0m\u001b[1m]\u001b[0m, \u001b[33mx\u001b[0m=\u001b[1m[\u001b[0m\u001b[1;36m7747\u001b[0m, \u001b[1;36m23\u001b[0m\u001b[1m]\u001b[0m,           \u001b[2m            \u001b[0m\n",
       "\u001b[2;36m                    \u001b[0m         \u001b[33mamino_acid_one_hot\u001b[0m=\u001b[1m[\u001b[0m\u001b[1;36m7747\u001b[0m, \u001b[1;36m23\u001b[0m\u001b[1m]\u001b[0m, \u001b[33mseq_pos\u001b[0m=\u001b[1m[\u001b[0m\u001b[1;36m7747\u001b[0m, \u001b[1;36m1\u001b[0m\u001b[1m]\u001b[0m, \u001b[33mbatch\u001b[0m=\u001b[1m[\u001b[0m\u001b[1;36m7747\u001b[0m\u001b[1m]\u001b[0m, \u001b[33mptr\u001b[0m=\u001b[1m[\u001b[0m\u001b[1;36m33\u001b[0m\u001b[1m]\u001b[0m, \u001b[2m            \u001b[0m\n",
       "\u001b[2;36m                    \u001b[0m         \u001b[33mpos\u001b[0m=\u001b[1m[\u001b[0m\u001b[1;36m7747\u001b[0m, \u001b[1;36m3\u001b[0m\u001b[1m]\u001b[0m, \u001b[33medge_index\u001b[0m=\u001b[1m[\u001b[0m\u001b[1;36m2\u001b[0m, \u001b[1;36m123952\u001b[0m\u001b[1m]\u001b[0m, \u001b[33medge_type\u001b[0m=\u001b[1m[\u001b[0m\u001b[1;36m1\u001b[0m, \u001b[1;36m123952\u001b[0m\u001b[1m]\u001b[0m,             \u001b[2m            \u001b[0m\n",
       "\u001b[2;36m                    \u001b[0m         \u001b[33mnum_relation\u001b[0m=\u001b[1;36m1\u001b[0m, \u001b[33medge_attr\u001b[0m=\u001b[1m[\u001b[0m\u001b[1;36m123952\u001b[0m, \u001b[1;36m1\u001b[0m\u001b[1m]\u001b[0m\u001b[1m)\u001b[0m                                    \u001b[2m            \u001b[0m\n"
      ]
     },
     "metadata": {},
     "output_type": "display_data"
    },
    {
     "data": {
      "text/html": [
       "<pre style=\"white-space:pre;overflow-x:auto;line-height:normal;font-family:Menlo,'DejaVu Sans Mono',consolas,'Courier New',monospace\"><span style=\"color: #7fbfbf; text-decoration-color: #7fbfbf\">                    </span><span style=\"color: #000080; text-decoration-color: #000080\">INFO    </span> Example labels: <span style=\"font-weight: bold\">{</span><span style=\"color: #008000; text-decoration-color: #008000\">'graph_label'</span>: tensor<span style=\"font-weight: bold\">[</span><span style=\"color: #008080; text-decoration-color: #008080; font-weight: bold\">32</span><span style=\"font-weight: bold\">]</span> i64 x∈<span style=\"font-weight: bold\">[</span><span style=\"color: #008080; text-decoration-color: #008080; font-weight: bold\">0</span>, <span style=\"color: #008080; text-decoration-color: #008080; font-weight: bold\">128</span><span style=\"font-weight: bold\">]</span> <span style=\"color: #808000; text-decoration-color: #808000\">μ</span>=<span style=\"color: #008080; text-decoration-color: #008080; font-weight: bold\">103.312</span>       <a href=\"file:///home/zhang/Projects/3d/ProteinWorkshop/proteinworkshop/train.py\" target=\"_blank\"><span style=\"color: #7f7f7f; text-decoration-color: #7f7f7f\">train.py</span></a><span style=\"color: #7f7f7f; text-decoration-color: #7f7f7f\">:</span><a href=\"file:///home/zhang/Projects/3d/ProteinWorkshop/proteinworkshop/train.py#152\" target=\"_blank\"><span style=\"color: #7f7f7f; text-decoration-color: #7f7f7f\">152</span></a>\n",
       "<span style=\"color: #7fbfbf; text-decoration-color: #7fbfbf\">                    </span>         <span style=\"color: #808000; text-decoration-color: #808000\">σ</span>=<span style=\"color: #008080; text-decoration-color: #008080; font-weight: bold\">34.218</span><span style=\"font-weight: bold\">}</span>                                                                 <span style=\"color: #7f7f7f; text-decoration-color: #7f7f7f\">            </span>\n",
       "</pre>\n"
      ],
      "text/plain": [
       "\u001b[2;36m                   \u001b[0m\u001b[2;36m \u001b[0m\u001b[34mINFO    \u001b[0m Example labels: \u001b[1m{\u001b[0m\u001b[32m'graph_label'\u001b[0m: tensor\u001b[1m[\u001b[0m\u001b[1;36m32\u001b[0m\u001b[1m]\u001b[0m i64 x∈\u001b[1m[\u001b[0m\u001b[1;36m0\u001b[0m, \u001b[1;36m128\u001b[0m\u001b[1m]\u001b[0m \u001b[33mμ\u001b[0m=\u001b[1;36m103\u001b[0m\u001b[1;36m.312\u001b[0m       \u001b]8;id=83953;file:///home/zhang/Projects/3d/ProteinWorkshop/proteinworkshop/train.py\u001b\\\u001b[2mtrain.py\u001b[0m\u001b]8;;\u001b\\\u001b[2m:\u001b[0m\u001b]8;id=315852;file:///home/zhang/Projects/3d/ProteinWorkshop/proteinworkshop/train.py#152\u001b\\\u001b[2m152\u001b[0m\u001b]8;;\u001b\\\n",
       "\u001b[2;36m                    \u001b[0m         \u001b[33mσ\u001b[0m=\u001b[1;36m34\u001b[0m\u001b[1;36m.218\u001b[0m\u001b[1m}\u001b[0m                                                                 \u001b[2m            \u001b[0m\n"
      ]
     },
     "metadata": {},
     "output_type": "display_data"
    },
    {
     "data": {
      "text/html": [
       "<pre style=\"white-space:pre;overflow-x:auto;line-height:normal;font-family:Menlo,'DejaVu Sans Mono',consolas,'Courier New',monospace\"><span style=\"color: #7fbfbf; text-decoration-color: #7fbfbf\">[07/23/24 17:13:17] </span><span style=\"color: #000080; text-decoration-color: #000080\">INFO    </span> Model output: <span style=\"font-weight: bold\">{</span><span style=\"color: #008000; text-decoration-color: #008000\">'node_embedding'</span>: tensor<span style=\"font-weight: bold\">[</span><span style=\"color: #008080; text-decoration-color: #008080; font-weight: bold\">7747</span>, <span style=\"color: #008080; text-decoration-color: #008080; font-weight: bold\">32</span><span style=\"font-weight: bold\">]</span> <span style=\"color: #808000; text-decoration-color: #808000\">n</span>=<span style=\"color: #008080; text-decoration-color: #008080; font-weight: bold\">247904</span> <span style=\"font-weight: bold\">(</span><span style=\"color: #008080; text-decoration-color: #008080; font-weight: bold\">0.</span>9Mb<span style=\"font-weight: bold\">)</span>        <a href=\"file:///home/zhang/Projects/3d/ProteinWorkshop/proteinworkshop/train.py\" target=\"_blank\"><span style=\"color: #7f7f7f; text-decoration-color: #7f7f7f\">train.py</span></a><span style=\"color: #7f7f7f; text-decoration-color: #7f7f7f\">:</span><a href=\"file:///home/zhang/Projects/3d/ProteinWorkshop/proteinworkshop/train.py#160\" target=\"_blank\"><span style=\"color: #7f7f7f; text-decoration-color: #7f7f7f\">160</span></a>\n",
       "<span style=\"color: #7fbfbf; text-decoration-color: #7fbfbf\">                    </span>         x∈<span style=\"font-weight: bold\">[</span><span style=\"color: #008080; text-decoration-color: #008080; font-weight: bold\">-0.252</span>, <span style=\"color: #008080; text-decoration-color: #008080; font-weight: bold\">0.205</span><span style=\"font-weight: bold\">]</span> <span style=\"color: #808000; text-decoration-color: #808000\">μ</span>=<span style=\"color: #008080; text-decoration-color: #008080; font-weight: bold\">0.007</span> <span style=\"color: #808000; text-decoration-color: #808000\">σ</span>=<span style=\"color: #008080; text-decoration-color: #008080; font-weight: bold\">0.071</span>, <span style=\"color: #008000; text-decoration-color: #008000\">'graph_embedding'</span>: tensor<span style=\"font-weight: bold\">[</span><span style=\"color: #008080; text-decoration-color: #008080; font-weight: bold\">32</span>, <span style=\"color: #008080; text-decoration-color: #008080; font-weight: bold\">32</span><span style=\"font-weight: bold\">]</span>      <span style=\"color: #7f7f7f; text-decoration-color: #7f7f7f\">            </span>\n",
       "<span style=\"color: #7fbfbf; text-decoration-color: #7fbfbf\">                    </span>         <span style=\"color: #808000; text-decoration-color: #808000\">n</span>=<span style=\"color: #008080; text-decoration-color: #008080; font-weight: bold\">1024</span> <span style=\"font-weight: bold\">(</span>4Kb<span style=\"font-weight: bold\">)</span> x∈<span style=\"font-weight: bold\">[</span><span style=\"color: #008080; text-decoration-color: #008080; font-weight: bold\">-71.904</span>, <span style=\"color: #008080; text-decoration-color: #008080; font-weight: bold\">60.559</span><span style=\"font-weight: bold\">]</span> <span style=\"color: #808000; text-decoration-color: #808000\">μ</span>=<span style=\"color: #008080; text-decoration-color: #008080; font-weight: bold\">1.721</span> <span style=\"color: #808000; text-decoration-color: #808000\">σ</span>=<span style=\"color: #008080; text-decoration-color: #008080; font-weight: bold\">16.532</span>, <span style=\"color: #008000; text-decoration-color: #008000\">'graph_label'</span>:         <span style=\"color: #7f7f7f; text-decoration-color: #7f7f7f\">            </span>\n",
       "<span style=\"color: #7fbfbf; text-decoration-color: #7fbfbf\">                    </span>         tensor<span style=\"font-weight: bold\">[</span><span style=\"color: #008080; text-decoration-color: #008080; font-weight: bold\">32</span>, <span style=\"color: #008080; text-decoration-color: #008080; font-weight: bold\">1195</span><span style=\"font-weight: bold\">]</span> <span style=\"color: #808000; text-decoration-color: #808000\">n</span>=<span style=\"color: #008080; text-decoration-color: #008080; font-weight: bold\">38240</span> <span style=\"font-weight: bold\">(</span><span style=\"color: #008080; text-decoration-color: #008080; font-weight: bold\">0.</span>1Mb<span style=\"font-weight: bold\">)</span> x∈<span style=\"font-weight: bold\">[</span><span style=\"color: #008080; text-decoration-color: #008080; font-weight: bold\">-19.820</span>, <span style=\"color: #008080; text-decoration-color: #008080; font-weight: bold\">20.555</span><span style=\"font-weight: bold\">]</span> <span style=\"color: #808000; text-decoration-color: #808000\">μ</span>=<span style=\"color: #008080; text-decoration-color: #008080; font-weight: bold\">0.068</span> <span style=\"color: #808000; text-decoration-color: #808000\">σ</span>=<span style=\"color: #008080; text-decoration-color: #008080; font-weight: bold\">3.082</span><span style=\"font-weight: bold\">}</span>     <span style=\"color: #7f7f7f; text-decoration-color: #7f7f7f\">            </span>\n",
       "</pre>\n"
      ],
      "text/plain": [
       "\u001b[2;36m[07/23/24 17:13:17]\u001b[0m\u001b[2;36m \u001b[0m\u001b[34mINFO    \u001b[0m Model output: \u001b[1m{\u001b[0m\u001b[32m'node_embedding'\u001b[0m: tensor\u001b[1m[\u001b[0m\u001b[1;36m7747\u001b[0m, \u001b[1;36m32\u001b[0m\u001b[1m]\u001b[0m \u001b[33mn\u001b[0m=\u001b[1;36m247904\u001b[0m \u001b[1m(\u001b[0m\u001b[1;36m0.\u001b[0m9Mb\u001b[1m)\u001b[0m        \u001b]8;id=561031;file:///home/zhang/Projects/3d/ProteinWorkshop/proteinworkshop/train.py\u001b\\\u001b[2mtrain.py\u001b[0m\u001b]8;;\u001b\\\u001b[2m:\u001b[0m\u001b]8;id=123257;file:///home/zhang/Projects/3d/ProteinWorkshop/proteinworkshop/train.py#160\u001b\\\u001b[2m160\u001b[0m\u001b]8;;\u001b\\\n",
       "\u001b[2;36m                    \u001b[0m         x∈\u001b[1m[\u001b[0m\u001b[1;36m-0.252\u001b[0m, \u001b[1;36m0.205\u001b[0m\u001b[1m]\u001b[0m \u001b[33mμ\u001b[0m=\u001b[1;36m0\u001b[0m\u001b[1;36m.007\u001b[0m \u001b[33mσ\u001b[0m=\u001b[1;36m0\u001b[0m\u001b[1;36m.071\u001b[0m, \u001b[32m'graph_embedding'\u001b[0m: tensor\u001b[1m[\u001b[0m\u001b[1;36m32\u001b[0m, \u001b[1;36m32\u001b[0m\u001b[1m]\u001b[0m      \u001b[2m            \u001b[0m\n",
       "\u001b[2;36m                    \u001b[0m         \u001b[33mn\u001b[0m=\u001b[1;36m1024\u001b[0m \u001b[1m(\u001b[0m4Kb\u001b[1m)\u001b[0m x∈\u001b[1m[\u001b[0m\u001b[1;36m-71.904\u001b[0m, \u001b[1;36m60.559\u001b[0m\u001b[1m]\u001b[0m \u001b[33mμ\u001b[0m=\u001b[1;36m1\u001b[0m\u001b[1;36m.721\u001b[0m \u001b[33mσ\u001b[0m=\u001b[1;36m16\u001b[0m\u001b[1;36m.532\u001b[0m, \u001b[32m'graph_label'\u001b[0m:         \u001b[2m            \u001b[0m\n",
       "\u001b[2;36m                    \u001b[0m         tensor\u001b[1m[\u001b[0m\u001b[1;36m32\u001b[0m, \u001b[1;36m1195\u001b[0m\u001b[1m]\u001b[0m \u001b[33mn\u001b[0m=\u001b[1;36m38240\u001b[0m \u001b[1m(\u001b[0m\u001b[1;36m0.\u001b[0m1Mb\u001b[1m)\u001b[0m x∈\u001b[1m[\u001b[0m\u001b[1;36m-19.820\u001b[0m, \u001b[1;36m20.555\u001b[0m\u001b[1m]\u001b[0m \u001b[33mμ\u001b[0m=\u001b[1;36m0\u001b[0m\u001b[1;36m.068\u001b[0m \u001b[33mσ\u001b[0m=\u001b[1;36m3\u001b[0m\u001b[1;36m.082\u001b[0m\u001b[1m}\u001b[0m     \u001b[2m            \u001b[0m\n"
      ]
     },
     "metadata": {},
     "output_type": "display_data"
    },
    {
     "data": {
      "text/html": [
       "<pre style=\"white-space:pre;overflow-x:auto;line-height:normal;font-family:Menlo,'DejaVu Sans Mono',consolas,'Courier New',monospace\"><span style=\"color: #7fbfbf; text-decoration-color: #7fbfbf\">                    </span><span style=\"color: #000080; text-decoration-color: #000080\">INFO    </span> Logging hyperparameters!                                                  <a href=\"file:///home/zhang/Projects/3d/ProteinWorkshop/proteinworkshop/train.py\" target=\"_blank\"><span style=\"color: #7f7f7f; text-decoration-color: #7f7f7f\">train.py</span></a><span style=\"color: #7f7f7f; text-decoration-color: #7f7f7f\">:</span><a href=\"file:///home/zhang/Projects/3d/ProteinWorkshop/proteinworkshop/train.py#173\" target=\"_blank\"><span style=\"color: #7f7f7f; text-decoration-color: #7f7f7f\">173</span></a>\n",
       "</pre>\n"
      ],
      "text/plain": [
       "\u001b[2;36m                   \u001b[0m\u001b[2;36m \u001b[0m\u001b[34mINFO    \u001b[0m Logging hyperparameters!                                                  \u001b]8;id=403619;file:///home/zhang/Projects/3d/ProteinWorkshop/proteinworkshop/train.py\u001b\\\u001b[2mtrain.py\u001b[0m\u001b]8;;\u001b\\\u001b[2m:\u001b[0m\u001b]8;id=824081;file:///home/zhang/Projects/3d/ProteinWorkshop/proteinworkshop/train.py#173\u001b\\\u001b[2m173\u001b[0m\u001b]8;;\u001b\\\n"
      ]
     },
     "metadata": {},
     "output_type": "display_data"
    },
    {
     "data": {
      "text/html": [
       "<pre style=\"white-space:pre;overflow-x:auto;line-height:normal;font-family:Menlo,'DejaVu Sans Mono',consolas,'Courier New',monospace\"><span style=\"color: #7fbfbf; text-decoration-color: #7fbfbf\">                    </span><span style=\"color: #000080; text-decoration-color: #000080\">INFO    </span> Starting testing!                                                         <a href=\"file:///home/zhang/Projects/3d/ProteinWorkshop/proteinworkshop/train.py\" target=\"_blank\"><span style=\"color: #7f7f7f; text-decoration-color: #7f7f7f\">train.py</span></a><span style=\"color: #7f7f7f; text-decoration-color: #7f7f7f\">:</span><a href=\"file:///home/zhang/Projects/3d/ProteinWorkshop/proteinworkshop/train.py#187\" target=\"_blank\"><span style=\"color: #7f7f7f; text-decoration-color: #7f7f7f\">187</span></a>\n",
       "</pre>\n"
      ],
      "text/plain": [
       "\u001b[2;36m                   \u001b[0m\u001b[2;36m \u001b[0m\u001b[34mINFO    \u001b[0m Starting testing!                                                         \u001b]8;id=667350;file:///home/zhang/Projects/3d/ProteinWorkshop/proteinworkshop/train.py\u001b\\\u001b[2mtrain.py\u001b[0m\u001b]8;;\u001b\\\u001b[2m:\u001b[0m\u001b]8;id=561773;file:///home/zhang/Projects/3d/ProteinWorkshop/proteinworkshop/train.py#187\u001b\\\u001b[2m187\u001b[0m\u001b]8;;\u001b\\\n"
      ]
     },
     "metadata": {},
     "output_type": "display_data"
    },
    {
     "data": {
      "text/html": [
       "<pre style=\"white-space:pre;overflow-x:auto;line-height:normal;font-family:Menlo,'DejaVu Sans Mono',consolas,'Courier New',monospace\"><span style=\"color: #7fbfbf; text-decoration-color: #7fbfbf\">                    </span><span style=\"color: #000080; text-decoration-color: #000080\">INFO    </span> Reading labels from:                                        <a href=\"file:///home/zhang/Projects/3d/ProteinWorkshop/proteinworkshop/datasets/fold_classification.py\" target=\"_blank\"><span style=\"color: #7f7f7f; text-decoration-color: #7f7f7f\">fold_classification.py</span></a><span style=\"color: #7f7f7f; text-decoration-color: #7f7f7f\">:</span><a href=\"file:///home/zhang/Projects/3d/ProteinWorkshop/proteinworkshop/datasets/fold_classification.py#154\" target=\"_blank\"><span style=\"color: #7f7f7f; text-decoration-color: #7f7f7f\">154</span></a>\n",
       "<span style=\"color: #7fbfbf; text-decoration-color: #7fbfbf\">                    </span>         <span style=\"color: #800080; text-decoration-color: #800080\">/home/zhang/Projects/3d/ProteinWorkshop/proteinworkshop/dat</span> <span style=\"color: #7f7f7f; text-decoration-color: #7f7f7f\">                          </span>\n",
       "<span style=\"color: #7fbfbf; text-decoration-color: #7fbfbf\">                    </span>         <span style=\"color: #800080; text-decoration-color: #800080\">a/FoldClassification/</span><span style=\"color: #ff00ff; text-decoration-color: #ff00ff\">class_map.txt</span>                          <span style=\"color: #7f7f7f; text-decoration-color: #7f7f7f\">                          </span>\n",
       "</pre>\n"
      ],
      "text/plain": [
       "\u001b[2;36m                   \u001b[0m\u001b[2;36m \u001b[0m\u001b[34mINFO    \u001b[0m Reading labels from:                                        \u001b]8;id=287828;file:///home/zhang/Projects/3d/ProteinWorkshop/proteinworkshop/datasets/fold_classification.py\u001b\\\u001b[2mfold_classification.py\u001b[0m\u001b]8;;\u001b\\\u001b[2m:\u001b[0m\u001b]8;id=767030;file:///home/zhang/Projects/3d/ProteinWorkshop/proteinworkshop/datasets/fold_classification.py#154\u001b\\\u001b[2m154\u001b[0m\u001b]8;;\u001b\\\n",
       "\u001b[2;36m                    \u001b[0m         \u001b[35m/home/zhang/Projects/3d/ProteinWorkshop/proteinworkshop/dat\u001b[0m \u001b[2m                          \u001b[0m\n",
       "\u001b[2;36m                    \u001b[0m         \u001b[35ma/FoldClassification/\u001b[0m\u001b[95mclass_map.txt\u001b[0m                          \u001b[2m                          \u001b[0m\n"
      ]
     },
     "metadata": {},
     "output_type": "display_data"
    },
    {
     "data": {
      "text/html": [
       "<pre style=\"white-space:pre;overflow-x:auto;line-height:normal;font-family:Menlo,'DejaVu Sans Mono',consolas,'Courier New',monospace\"><span style=\"color: #7fbfbf; text-decoration-color: #7fbfbf\">                    </span><span style=\"color: #000080; text-decoration-color: #000080\">INFO    </span> Found <span style=\"color: #008080; text-decoration-color: #008080; font-weight: bold\">718</span> original examples in test_fold                    <a href=\"file:///home/zhang/Projects/3d/ProteinWorkshop/proteinworkshop/datasets/fold_classification.py\" target=\"_blank\"><span style=\"color: #7f7f7f; text-decoration-color: #7f7f7f\">fold_classification.py</span></a><span style=\"color: #7f7f7f; text-decoration-color: #7f7f7f\">:</span><a href=\"file:///home/zhang/Projects/3d/ProteinWorkshop/proteinworkshop/datasets/fold_classification.py#234\" target=\"_blank\"><span style=\"color: #7f7f7f; text-decoration-color: #7f7f7f\">234</span></a>\n",
       "</pre>\n"
      ],
      "text/plain": [
       "\u001b[2;36m                   \u001b[0m\u001b[2;36m \u001b[0m\u001b[34mINFO    \u001b[0m Found \u001b[1;36m718\u001b[0m original examples in test_fold                    \u001b]8;id=187425;file:///home/zhang/Projects/3d/ProteinWorkshop/proteinworkshop/datasets/fold_classification.py\u001b\\\u001b[2mfold_classification.py\u001b[0m\u001b]8;;\u001b\\\u001b[2m:\u001b[0m\u001b]8;id=890704;file:///home/zhang/Projects/3d/ProteinWorkshop/proteinworkshop/datasets/fold_classification.py#234\u001b\\\u001b[2m234\u001b[0m\u001b]8;;\u001b\\\n"
      ]
     },
     "metadata": {},
     "output_type": "display_data"
    },
    {
     "data": {
      "text/html": [
       "<pre style=\"white-space:pre;overflow-x:auto;line-height:normal;font-family:Menlo,'DejaVu Sans Mono',consolas,'Courier New',monospace\"><span style=\"color: #7fbfbf; text-decoration-color: #7fbfbf\">                    </span><span style=\"color: #000080; text-decoration-color: #000080\">INFO    </span> Identified <span style=\"color: #008080; text-decoration-color: #008080; font-weight: bold\">136</span> classes                                      <a href=\"file:///home/zhang/Projects/3d/ProteinWorkshop/proteinworkshop/datasets/fold_classification.py\" target=\"_blank\"><span style=\"color: #7f7f7f; text-decoration-color: #7f7f7f\">fold_classification.py</span></a><span style=\"color: #7f7f7f; text-decoration-color: #7f7f7f\">:</span><a href=\"file:///home/zhang/Projects/3d/ProteinWorkshop/proteinworkshop/datasets/fold_classification.py#247\" target=\"_blank\"><span style=\"color: #7f7f7f; text-decoration-color: #7f7f7f\">247</span></a>\n",
       "</pre>\n"
      ],
      "text/plain": [
       "\u001b[2;36m                   \u001b[0m\u001b[2;36m \u001b[0m\u001b[34mINFO    \u001b[0m Identified \u001b[1;36m136\u001b[0m classes                                      \u001b]8;id=181113;file:///home/zhang/Projects/3d/ProteinWorkshop/proteinworkshop/datasets/fold_classification.py\u001b\\\u001b[2mfold_classification.py\u001b[0m\u001b]8;;\u001b\\\u001b[2m:\u001b[0m\u001b]8;id=353870;file:///home/zhang/Projects/3d/ProteinWorkshop/proteinworkshop/datasets/fold_classification.py#247\u001b\\\u001b[2m247\u001b[0m\u001b]8;;\u001b\\\n"
      ]
     },
     "metadata": {},
     "output_type": "display_data"
    },
    {
     "data": {
      "text/html": [
       "<pre style=\"white-space:pre;overflow-x:auto;line-height:normal;font-family:Menlo,'DejaVu Sans Mono',consolas,'Courier New',monospace\"><span style=\"color: #7fbfbf; text-decoration-color: #7fbfbf\">                    </span><span style=\"color: #000080; text-decoration-color: #000080\">INFO    </span> All structures already processed and <span style=\"color: #808000; text-decoration-color: #808000\">overwrite</span>=<span style=\"color: #ff0000; text-decoration-color: #ff0000; font-style: italic\">False</span>. Skipping download.   <a href=\"file:///home/zhang/Projects/3d/ProteinWorkshop/proteinworkshop/datasets/base.py\" target=\"_blank\"><span style=\"color: #7f7f7f; text-decoration-color: #7f7f7f\">base.py</span></a><span style=\"color: #7f7f7f; text-decoration-color: #7f7f7f\">:</span><a href=\"file:///home/zhang/Projects/3d/ProteinWorkshop/proteinworkshop/datasets/base.py#327\" target=\"_blank\"><span style=\"color: #7f7f7f; text-decoration-color: #7f7f7f\">327</span></a>\n",
       "</pre>\n"
      ],
      "text/plain": [
       "\u001b[2;36m                   \u001b[0m\u001b[2;36m \u001b[0m\u001b[34mINFO    \u001b[0m All structures already processed and \u001b[33moverwrite\u001b[0m=\u001b[3;91mFalse\u001b[0m. Skipping download.   \u001b]8;id=695996;file:///home/zhang/Projects/3d/ProteinWorkshop/proteinworkshop/datasets/base.py\u001b\\\u001b[2mbase.py\u001b[0m\u001b]8;;\u001b\\\u001b[2m:\u001b[0m\u001b]8;id=967045;file:///home/zhang/Projects/3d/ProteinWorkshop/proteinworkshop/datasets/base.py#327\u001b\\\u001b[2m327\u001b[0m\u001b]8;;\u001b\\\n"
      ]
     },
     "metadata": {},
     "output_type": "display_data"
    },
    {
     "data": {
      "text/html": [
       "<pre style=\"white-space:pre;overflow-x:auto;line-height:normal;font-family:Menlo,'DejaVu Sans Mono',consolas,'Courier New',monospace\"><span style=\"color: #7fbfbf; text-decoration-color: #7fbfbf\">                    </span><span style=\"color: #800000; text-decoration-color: #800000\">WARNING </span> Downloads in .ent format are assumed to be from ASTRAL. These data should  <a href=\"file:///home/zhang/Projects/3d/ProteinWorkshop/proteinworkshop/datasets/base.py\" target=\"_blank\"><span style=\"color: #7f7f7f; text-decoration-color: #7f7f7f\">base.py</span></a><span style=\"color: #7f7f7f; text-decoration-color: #7f7f7f\">:</span><a href=\"file:///home/zhang/Projects/3d/ProteinWorkshop/proteinworkshop/datasets/base.py#357\" target=\"_blank\"><span style=\"color: #7f7f7f; text-decoration-color: #7f7f7f\">357</span></a>\n",
       "<span style=\"color: #7fbfbf; text-decoration-color: #7fbfbf\">                    </span>         have already been downloaded                                               <span style=\"color: #7f7f7f; text-decoration-color: #7f7f7f\">           </span>\n",
       "</pre>\n"
      ],
      "text/plain": [
       "\u001b[2;36m                   \u001b[0m\u001b[2;36m \u001b[0m\u001b[31mWARNING \u001b[0m Downloads in .ent format are assumed to be from ASTRAL. These data should  \u001b]8;id=285672;file:///home/zhang/Projects/3d/ProteinWorkshop/proteinworkshop/datasets/base.py\u001b\\\u001b[2mbase.py\u001b[0m\u001b]8;;\u001b\\\u001b[2m:\u001b[0m\u001b]8;id=491556;file:///home/zhang/Projects/3d/ProteinWorkshop/proteinworkshop/datasets/base.py#357\u001b\\\u001b[2m357\u001b[0m\u001b]8;;\u001b\\\n",
       "\u001b[2;36m                    \u001b[0m         have already been downloaded                                               \u001b[2m           \u001b[0m\n"
      ]
     },
     "metadata": {},
     "output_type": "display_data"
    },
    {
     "data": {
      "text/html": [
       "<pre style=\"white-space:pre;overflow-x:auto;line-height:normal;font-family:Menlo,'DejaVu Sans Mono',consolas,'Courier New',monospace\"><span style=\"color: #7fbfbf; text-decoration-color: #7fbfbf\">                    </span><span style=\"color: #000080; text-decoration-color: #000080\">INFO    </span> Reading data into memory                                                   <a href=\"file:///home/zhang/Projects/3d/ProteinWorkshop/proteinworkshop/datasets/base.py\" target=\"_blank\"><span style=\"color: #7f7f7f; text-decoration-color: #7f7f7f\">base.py</span></a><span style=\"color: #7f7f7f; text-decoration-color: #7f7f7f\">:</span><a href=\"file:///home/zhang/Projects/3d/ProteinWorkshop/proteinworkshop/datasets/base.py#337\" target=\"_blank\"><span style=\"color: #7f7f7f; text-decoration-color: #7f7f7f\">337</span></a>\n",
       "</pre>\n"
      ],
      "text/plain": [
       "\u001b[2;36m                   \u001b[0m\u001b[2;36m \u001b[0m\u001b[34mINFO    \u001b[0m Reading data into memory                                                   \u001b]8;id=348092;file:///home/zhang/Projects/3d/ProteinWorkshop/proteinworkshop/datasets/base.py\u001b\\\u001b[2mbase.py\u001b[0m\u001b]8;;\u001b\\\u001b[2m:\u001b[0m\u001b]8;id=440552;file:///home/zhang/Projects/3d/ProteinWorkshop/proteinworkshop/datasets/base.py#337\u001b\\\u001b[2m337\u001b[0m\u001b]8;;\u001b\\\n"
      ]
     },
     "metadata": {},
     "output_type": "display_data"
    },
    {
     "name": "stderr",
     "output_type": "stream",
     "text": [
      "100%|██████████| 718/718 [00:00<00:00, 2416.43it/s]\n"
     ]
    },
    {
     "data": {
      "text/html": [
       "<pre style=\"white-space:pre;overflow-x:auto;line-height:normal;font-family:Menlo,'DejaVu Sans Mono',consolas,'Courier New',monospace\"><span style=\"color: #7fbfbf; text-decoration-color: #7fbfbf\">                    </span><span style=\"color: #000080; text-decoration-color: #000080\">INFO    </span> Testing on fold <span style=\"font-weight: bold\">(</span><span style=\"color: #008080; text-decoration-color: #008080; font-weight: bold\">1</span> <span style=\"color: #800080; text-decoration-color: #800080\">/</span> <span style=\"color: #008080; text-decoration-color: #008080; font-weight: bold\">3</span><span style=\"font-weight: bold\">)</span><span style=\"color: #808000; text-decoration-color: #808000\">...</span>                                                <a href=\"file:///home/zhang/Projects/3d/ProteinWorkshop/proteinworkshop/train.py\" target=\"_blank\"><span style=\"color: #7f7f7f; text-decoration-color: #7f7f7f\">train.py</span></a><span style=\"color: #7f7f7f; text-decoration-color: #7f7f7f\">:</span><a href=\"file:///home/zhang/Projects/3d/ProteinWorkshop/proteinworkshop/train.py#194\" target=\"_blank\"><span style=\"color: #7f7f7f; text-decoration-color: #7f7f7f\">194</span></a>\n",
       "</pre>\n"
      ],
      "text/plain": [
       "\u001b[2;36m                   \u001b[0m\u001b[2;36m \u001b[0m\u001b[34mINFO    \u001b[0m Testing on fold \u001b[1m(\u001b[0m\u001b[1;36m1\u001b[0m \u001b[35m/\u001b[0m \u001b[1;36m3\u001b[0m\u001b[1m)\u001b[0m\u001b[33m...\u001b[0m                                                \u001b]8;id=314192;file:///home/zhang/Projects/3d/ProteinWorkshop/proteinworkshop/train.py\u001b\\\u001b[2mtrain.py\u001b[0m\u001b]8;;\u001b\\\u001b[2m:\u001b[0m\u001b]8;id=133651;file:///home/zhang/Projects/3d/ProteinWorkshop/proteinworkshop/train.py#194\u001b\\\u001b[2m194\u001b[0m\u001b]8;;\u001b\\\n"
      ]
     },
     "metadata": {},
     "output_type": "display_data"
    },
    {
     "name": "stderr",
     "output_type": "stream",
     "text": [
      "You are using a CUDA device ('NVIDIA GeForce RTX 4090') that has Tensor Cores. To properly utilize them, you should set `torch.set_float32_matmul_precision('medium' | 'high')` which will trade-off precision for performance. For more details, read https://pytorch.org/docs/stable/generated/torch.set_float32_matmul_precision.html#torch.set_float32_matmul_precision\n",
      "Restoring states from the checkpoint path at /home/zhang/Projects/3d/ProteinWorkshop/notebooks/outputs/checkpoints/epoch_016.ckpt\n",
      "LOCAL_RANK: 0 - CUDA_VISIBLE_DEVICES: [0]\n",
      "Loaded model weights from the checkpoint at /home/zhang/Projects/3d/ProteinWorkshop/notebooks/outputs/checkpoints/epoch_016.ckpt\n"
     ]
    },
    {
     "data": {
      "application/vnd.jupyter.widget-view+json": {
       "model_id": "71d07d7f8463422b987addb8ab3d3b01",
       "version_major": 2,
       "version_minor": 0
      },
      "text/plain": [
       "Output()"
      ]
     },
     "metadata": {},
     "output_type": "display_data"
    },
    {
     "data": {
      "text/html": [
       "<pre style=\"white-space:pre;overflow-x:auto;line-height:normal;font-family:Menlo,'DejaVu Sans Mono',consolas,'Courier New',monospace\">┏━━━━━━━━━━━━━━━━━━━━━━━━━━━┳━━━━━━━━━━━━━━━━━━━━━━━━━━━┓\n",
       "┃<span style=\"font-weight: bold\">        Test metric        </span>┃<span style=\"font-weight: bold\">       DataLoader 0        </span>┃\n",
       "┡━━━━━━━━━━━━━━━━━━━━━━━━━━━╇━━━━━━━━━━━━━━━━━━━━━━━━━━━┩\n",
       "│<span style=\"color: #008080; text-decoration-color: #008080\"> test/graph_label/accuracy </span>│<span style=\"color: #800080; text-decoration-color: #800080\">    0.20865683257579803    </span>│\n",
       "│<span style=\"color: #008080; text-decoration-color: #008080\">  test/graph_label/f1_max  </span>│<span style=\"color: #800080; text-decoration-color: #800080\">    0.27235499024391174    </span>│\n",
       "│<span style=\"color: #008080; text-decoration-color: #008080\"> test/graph_label/f1_score </span>│<span style=\"color: #800080; text-decoration-color: #800080\">   0.053955502808094025    </span>│\n",
       "│<span style=\"color: #008080; text-decoration-color: #008080\">   test/loss/graph_label   </span>│<span style=\"color: #800080; text-decoration-color: #800080\">     9.39870548248291      </span>│\n",
       "│<span style=\"color: #008080; text-decoration-color: #008080\">      test/loss/total      </span>│<span style=\"color: #800080; text-decoration-color: #800080\">     9.39870548248291      </span>│\n",
       "└───────────────────────────┴───────────────────────────┘\n",
       "</pre>\n"
      ],
      "text/plain": [
       "┏━━━━━━━━━━━━━━━━━━━━━━━━━━━┳━━━━━━━━━━━━━━━━━━━━━━━━━━━┓\n",
       "┃\u001b[1m \u001b[0m\u001b[1m       Test metric       \u001b[0m\u001b[1m \u001b[0m┃\u001b[1m \u001b[0m\u001b[1m      DataLoader 0       \u001b[0m\u001b[1m \u001b[0m┃\n",
       "┡━━━━━━━━━━━━━━━━━━━━━━━━━━━╇━━━━━━━━━━━━━━━━━━━━━━━━━━━┩\n",
       "│\u001b[36m \u001b[0m\u001b[36mtest/graph_label/accuracy\u001b[0m\u001b[36m \u001b[0m│\u001b[35m \u001b[0m\u001b[35m   0.20865683257579803   \u001b[0m\u001b[35m \u001b[0m│\n",
       "│\u001b[36m \u001b[0m\u001b[36m test/graph_label/f1_max \u001b[0m\u001b[36m \u001b[0m│\u001b[35m \u001b[0m\u001b[35m   0.27235499024391174   \u001b[0m\u001b[35m \u001b[0m│\n",
       "│\u001b[36m \u001b[0m\u001b[36mtest/graph_label/f1_score\u001b[0m\u001b[36m \u001b[0m│\u001b[35m \u001b[0m\u001b[35m  0.053955502808094025   \u001b[0m\u001b[35m \u001b[0m│\n",
       "│\u001b[36m \u001b[0m\u001b[36m  test/loss/graph_label  \u001b[0m\u001b[36m \u001b[0m│\u001b[35m \u001b[0m\u001b[35m    9.39870548248291     \u001b[0m\u001b[35m \u001b[0m│\n",
       "│\u001b[36m \u001b[0m\u001b[36m     test/loss/total     \u001b[0m\u001b[36m \u001b[0m│\u001b[35m \u001b[0m\u001b[35m    9.39870548248291     \u001b[0m\u001b[35m \u001b[0m│\n",
       "└───────────────────────────┴───────────────────────────┘\n"
      ]
     },
     "metadata": {},
     "output_type": "display_data"
    },
    {
     "data": {
      "text/html": [
       "<pre style=\"white-space:pre;overflow-x:auto;line-height:normal;font-family:Menlo,'DejaVu Sans Mono',consolas,'Courier New',monospace\"></pre>\n"
      ],
      "text/plain": []
     },
     "metadata": {},
     "output_type": "display_data"
    },
    {
     "data": {
      "text/html": [
       "<pre style=\"white-space:pre;overflow-x:auto;line-height:normal;font-family:Menlo,'DejaVu Sans Mono',consolas,'Courier New',monospace\">\n",
       "</pre>\n"
      ],
      "text/plain": [
       "\n"
      ]
     },
     "metadata": {},
     "output_type": "display_data"
    },
    {
     "data": {
      "text/html": [
       "<pre style=\"white-space:pre;overflow-x:auto;line-height:normal;font-family:Menlo,'DejaVu Sans Mono',consolas,'Courier New',monospace\"><span style=\"color: #7fbfbf; text-decoration-color: #7fbfbf\">[07/23/24 17:13:18] </span><span style=\"color: #000080; text-decoration-color: #000080\">INFO    </span> fold: <span style=\"font-weight: bold\">{</span><span style=\"color: #008000; text-decoration-color: #008000\">'test/loss/graph_label/fold'</span>: <span style=\"color: #008080; text-decoration-color: #008080; font-weight: bold\">9.39870548248291</span>,                    <a href=\"file:///home/zhang/Projects/3d/ProteinWorkshop/proteinworkshop/train.py\" target=\"_blank\"><span style=\"color: #7f7f7f; text-decoration-color: #7f7f7f\">train.py</span></a><span style=\"color: #7f7f7f; text-decoration-color: #7f7f7f\">:</span><a href=\"file:///home/zhang/Projects/3d/ProteinWorkshop/proteinworkshop/train.py#204\" target=\"_blank\"><span style=\"color: #7f7f7f; text-decoration-color: #7f7f7f\">204</span></a>\n",
       "<span style=\"color: #7fbfbf; text-decoration-color: #7fbfbf\">                    </span>         <span style=\"color: #008000; text-decoration-color: #008000\">'test/loss/total/fold'</span>: <span style=\"color: #008080; text-decoration-color: #008080; font-weight: bold\">9.39870548248291</span>,                                 <span style=\"color: #7f7f7f; text-decoration-color: #7f7f7f\">            </span>\n",
       "<span style=\"color: #7fbfbf; text-decoration-color: #7fbfbf\">                    </span>         <span style=\"color: #008000; text-decoration-color: #008000\">'test/graph_label/accuracy/fold'</span>: <span style=\"color: #008080; text-decoration-color: #008080; font-weight: bold\">0.20865683257579803</span>,                    <span style=\"color: #7f7f7f; text-decoration-color: #7f7f7f\">            </span>\n",
       "<span style=\"color: #7fbfbf; text-decoration-color: #7fbfbf\">                    </span>         <span style=\"color: #008000; text-decoration-color: #008000\">'test/graph_label/f1_score/fold'</span>: <span style=\"color: #008080; text-decoration-color: #008080; font-weight: bold\">0.053955502808094025</span>,                   <span style=\"color: #7f7f7f; text-decoration-color: #7f7f7f\">            </span>\n",
       "<span style=\"color: #7fbfbf; text-decoration-color: #7fbfbf\">                    </span>         <span style=\"color: #008000; text-decoration-color: #008000\">'test/graph_label/f1_max/fold'</span>: <span style=\"color: #008080; text-decoration-color: #008080; font-weight: bold\">0.27235499024391174</span><span style=\"font-weight: bold\">}</span>                      <span style=\"color: #7f7f7f; text-decoration-color: #7f7f7f\">            </span>\n",
       "</pre>\n"
      ],
      "text/plain": [
       "\u001b[2;36m[07/23/24 17:13:18]\u001b[0m\u001b[2;36m \u001b[0m\u001b[34mINFO    \u001b[0m fold: \u001b[1m{\u001b[0m\u001b[32m'test/loss/graph_label/fold'\u001b[0m: \u001b[1;36m9.39870548248291\u001b[0m,                    \u001b]8;id=38168;file:///home/zhang/Projects/3d/ProteinWorkshop/proteinworkshop/train.py\u001b\\\u001b[2mtrain.py\u001b[0m\u001b]8;;\u001b\\\u001b[2m:\u001b[0m\u001b]8;id=397808;file:///home/zhang/Projects/3d/ProteinWorkshop/proteinworkshop/train.py#204\u001b\\\u001b[2m204\u001b[0m\u001b]8;;\u001b\\\n",
       "\u001b[2;36m                    \u001b[0m         \u001b[32m'test/loss/total/fold'\u001b[0m: \u001b[1;36m9.39870548248291\u001b[0m,                                 \u001b[2m            \u001b[0m\n",
       "\u001b[2;36m                    \u001b[0m         \u001b[32m'test/graph_label/accuracy/fold'\u001b[0m: \u001b[1;36m0.20865683257579803\u001b[0m,                    \u001b[2m            \u001b[0m\n",
       "\u001b[2;36m                    \u001b[0m         \u001b[32m'test/graph_label/f1_score/fold'\u001b[0m: \u001b[1;36m0.053955502808094025\u001b[0m,                   \u001b[2m            \u001b[0m\n",
       "\u001b[2;36m                    \u001b[0m         \u001b[32m'test/graph_label/f1_max/fold'\u001b[0m: \u001b[1;36m0.27235499024391174\u001b[0m\u001b[1m}\u001b[0m                      \u001b[2m            \u001b[0m\n"
      ]
     },
     "metadata": {},
     "output_type": "display_data"
    },
    {
     "data": {
      "text/html": [
       "<pre style=\"white-space:pre;overflow-x:auto;line-height:normal;font-family:Menlo,'DejaVu Sans Mono',consolas,'Courier New',monospace\"><span style=\"color: #7fbfbf; text-decoration-color: #7fbfbf\">                    </span><span style=\"color: #000080; text-decoration-color: #000080\">INFO    </span> Reading labels from:                                        <a href=\"file:///home/zhang/Projects/3d/ProteinWorkshop/proteinworkshop/datasets/fold_classification.py\" target=\"_blank\"><span style=\"color: #7f7f7f; text-decoration-color: #7f7f7f\">fold_classification.py</span></a><span style=\"color: #7f7f7f; text-decoration-color: #7f7f7f\">:</span><a href=\"file:///home/zhang/Projects/3d/ProteinWorkshop/proteinworkshop/datasets/fold_classification.py#154\" target=\"_blank\"><span style=\"color: #7f7f7f; text-decoration-color: #7f7f7f\">154</span></a>\n",
       "<span style=\"color: #7fbfbf; text-decoration-color: #7fbfbf\">                    </span>         <span style=\"color: #800080; text-decoration-color: #800080\">/home/zhang/Projects/3d/ProteinWorkshop/proteinworkshop/dat</span> <span style=\"color: #7f7f7f; text-decoration-color: #7f7f7f\">                          </span>\n",
       "<span style=\"color: #7fbfbf; text-decoration-color: #7fbfbf\">                    </span>         <span style=\"color: #800080; text-decoration-color: #800080\">a/FoldClassification/</span><span style=\"color: #ff00ff; text-decoration-color: #ff00ff\">class_map.txt</span>                          <span style=\"color: #7f7f7f; text-decoration-color: #7f7f7f\">                          </span>\n",
       "</pre>\n"
      ],
      "text/plain": [
       "\u001b[2;36m                   \u001b[0m\u001b[2;36m \u001b[0m\u001b[34mINFO    \u001b[0m Reading labels from:                                        \u001b]8;id=547927;file:///home/zhang/Projects/3d/ProteinWorkshop/proteinworkshop/datasets/fold_classification.py\u001b\\\u001b[2mfold_classification.py\u001b[0m\u001b]8;;\u001b\\\u001b[2m:\u001b[0m\u001b]8;id=124062;file:///home/zhang/Projects/3d/ProteinWorkshop/proteinworkshop/datasets/fold_classification.py#154\u001b\\\u001b[2m154\u001b[0m\u001b]8;;\u001b\\\n",
       "\u001b[2;36m                    \u001b[0m         \u001b[35m/home/zhang/Projects/3d/ProteinWorkshop/proteinworkshop/dat\u001b[0m \u001b[2m                          \u001b[0m\n",
       "\u001b[2;36m                    \u001b[0m         \u001b[35ma/FoldClassification/\u001b[0m\u001b[95mclass_map.txt\u001b[0m                          \u001b[2m                          \u001b[0m\n"
      ]
     },
     "metadata": {},
     "output_type": "display_data"
    },
    {
     "data": {
      "text/html": [
       "<pre style=\"white-space:pre;overflow-x:auto;line-height:normal;font-family:Menlo,'DejaVu Sans Mono',consolas,'Courier New',monospace\"><span style=\"color: #7fbfbf; text-decoration-color: #7fbfbf\">                    </span><span style=\"color: #000080; text-decoration-color: #000080\">INFO    </span> Found <span style=\"color: #008080; text-decoration-color: #008080; font-weight: bold\">1272</span> original examples in test_family                 <a href=\"file:///home/zhang/Projects/3d/ProteinWorkshop/proteinworkshop/datasets/fold_classification.py\" target=\"_blank\"><span style=\"color: #7f7f7f; text-decoration-color: #7f7f7f\">fold_classification.py</span></a><span style=\"color: #7f7f7f; text-decoration-color: #7f7f7f\">:</span><a href=\"file:///home/zhang/Projects/3d/ProteinWorkshop/proteinworkshop/datasets/fold_classification.py#234\" target=\"_blank\"><span style=\"color: #7f7f7f; text-decoration-color: #7f7f7f\">234</span></a>\n",
       "</pre>\n"
      ],
      "text/plain": [
       "\u001b[2;36m                   \u001b[0m\u001b[2;36m \u001b[0m\u001b[34mINFO    \u001b[0m Found \u001b[1;36m1272\u001b[0m original examples in test_family                 \u001b]8;id=172900;file:///home/zhang/Projects/3d/ProteinWorkshop/proteinworkshop/datasets/fold_classification.py\u001b\\\u001b[2mfold_classification.py\u001b[0m\u001b]8;;\u001b\\\u001b[2m:\u001b[0m\u001b]8;id=324580;file:///home/zhang/Projects/3d/ProteinWorkshop/proteinworkshop/datasets/fold_classification.py#234\u001b\\\u001b[2m234\u001b[0m\u001b]8;;\u001b\\\n"
      ]
     },
     "metadata": {},
     "output_type": "display_data"
    },
    {
     "data": {
      "text/html": [
       "<pre style=\"white-space:pre;overflow-x:auto;line-height:normal;font-family:Menlo,'DejaVu Sans Mono',consolas,'Courier New',monospace\"><span style=\"color: #7fbfbf; text-decoration-color: #7fbfbf\">                    </span><span style=\"color: #000080; text-decoration-color: #000080\">INFO    </span> Identified <span style=\"color: #008080; text-decoration-color: #008080; font-weight: bold\">189</span> classes                                      <a href=\"file:///home/zhang/Projects/3d/ProteinWorkshop/proteinworkshop/datasets/fold_classification.py\" target=\"_blank\"><span style=\"color: #7f7f7f; text-decoration-color: #7f7f7f\">fold_classification.py</span></a><span style=\"color: #7f7f7f; text-decoration-color: #7f7f7f\">:</span><a href=\"file:///home/zhang/Projects/3d/ProteinWorkshop/proteinworkshop/datasets/fold_classification.py#247\" target=\"_blank\"><span style=\"color: #7f7f7f; text-decoration-color: #7f7f7f\">247</span></a>\n",
       "</pre>\n"
      ],
      "text/plain": [
       "\u001b[2;36m                   \u001b[0m\u001b[2;36m \u001b[0m\u001b[34mINFO    \u001b[0m Identified \u001b[1;36m189\u001b[0m classes                                      \u001b]8;id=275641;file:///home/zhang/Projects/3d/ProteinWorkshop/proteinworkshop/datasets/fold_classification.py\u001b\\\u001b[2mfold_classification.py\u001b[0m\u001b]8;;\u001b\\\u001b[2m:\u001b[0m\u001b]8;id=204675;file:///home/zhang/Projects/3d/ProteinWorkshop/proteinworkshop/datasets/fold_classification.py#247\u001b\\\u001b[2m247\u001b[0m\u001b]8;;\u001b\\\n"
      ]
     },
     "metadata": {},
     "output_type": "display_data"
    },
    {
     "data": {
      "text/html": [
       "<pre style=\"white-space:pre;overflow-x:auto;line-height:normal;font-family:Menlo,'DejaVu Sans Mono',consolas,'Courier New',monospace\"><span style=\"color: #7fbfbf; text-decoration-color: #7fbfbf\">                    </span><span style=\"color: #000080; text-decoration-color: #000080\">INFO    </span> All structures already processed and <span style=\"color: #808000; text-decoration-color: #808000\">overwrite</span>=<span style=\"color: #ff0000; text-decoration-color: #ff0000; font-style: italic\">False</span>. Skipping download.   <a href=\"file:///home/zhang/Projects/3d/ProteinWorkshop/proteinworkshop/datasets/base.py\" target=\"_blank\"><span style=\"color: #7f7f7f; text-decoration-color: #7f7f7f\">base.py</span></a><span style=\"color: #7f7f7f; text-decoration-color: #7f7f7f\">:</span><a href=\"file:///home/zhang/Projects/3d/ProteinWorkshop/proteinworkshop/datasets/base.py#327\" target=\"_blank\"><span style=\"color: #7f7f7f; text-decoration-color: #7f7f7f\">327</span></a>\n",
       "</pre>\n"
      ],
      "text/plain": [
       "\u001b[2;36m                   \u001b[0m\u001b[2;36m \u001b[0m\u001b[34mINFO    \u001b[0m All structures already processed and \u001b[33moverwrite\u001b[0m=\u001b[3;91mFalse\u001b[0m. Skipping download.   \u001b]8;id=392725;file:///home/zhang/Projects/3d/ProteinWorkshop/proteinworkshop/datasets/base.py\u001b\\\u001b[2mbase.py\u001b[0m\u001b]8;;\u001b\\\u001b[2m:\u001b[0m\u001b]8;id=800552;file:///home/zhang/Projects/3d/ProteinWorkshop/proteinworkshop/datasets/base.py#327\u001b\\\u001b[2m327\u001b[0m\u001b]8;;\u001b\\\n"
      ]
     },
     "metadata": {},
     "output_type": "display_data"
    },
    {
     "data": {
      "text/html": [
       "<pre style=\"white-space:pre;overflow-x:auto;line-height:normal;font-family:Menlo,'DejaVu Sans Mono',consolas,'Courier New',monospace\"><span style=\"color: #7fbfbf; text-decoration-color: #7fbfbf\">                    </span><span style=\"color: #800000; text-decoration-color: #800000\">WARNING </span> Downloads in .ent format are assumed to be from ASTRAL. These data should  <a href=\"file:///home/zhang/Projects/3d/ProteinWorkshop/proteinworkshop/datasets/base.py\" target=\"_blank\"><span style=\"color: #7f7f7f; text-decoration-color: #7f7f7f\">base.py</span></a><span style=\"color: #7f7f7f; text-decoration-color: #7f7f7f\">:</span><a href=\"file:///home/zhang/Projects/3d/ProteinWorkshop/proteinworkshop/datasets/base.py#357\" target=\"_blank\"><span style=\"color: #7f7f7f; text-decoration-color: #7f7f7f\">357</span></a>\n",
       "<span style=\"color: #7fbfbf; text-decoration-color: #7fbfbf\">                    </span>         have already been downloaded                                               <span style=\"color: #7f7f7f; text-decoration-color: #7f7f7f\">           </span>\n",
       "</pre>\n"
      ],
      "text/plain": [
       "\u001b[2;36m                   \u001b[0m\u001b[2;36m \u001b[0m\u001b[31mWARNING \u001b[0m Downloads in .ent format are assumed to be from ASTRAL. These data should  \u001b]8;id=846932;file:///home/zhang/Projects/3d/ProteinWorkshop/proteinworkshop/datasets/base.py\u001b\\\u001b[2mbase.py\u001b[0m\u001b]8;;\u001b\\\u001b[2m:\u001b[0m\u001b]8;id=478326;file:///home/zhang/Projects/3d/ProteinWorkshop/proteinworkshop/datasets/base.py#357\u001b\\\u001b[2m357\u001b[0m\u001b]8;;\u001b\\\n",
       "\u001b[2;36m                    \u001b[0m         have already been downloaded                                               \u001b[2m           \u001b[0m\n"
      ]
     },
     "metadata": {},
     "output_type": "display_data"
    },
    {
     "data": {
      "text/html": [
       "<pre style=\"white-space:pre;overflow-x:auto;line-height:normal;font-family:Menlo,'DejaVu Sans Mono',consolas,'Courier New',monospace\"><span style=\"color: #7fbfbf; text-decoration-color: #7fbfbf\">                    </span><span style=\"color: #000080; text-decoration-color: #000080\">INFO    </span> Reading data into memory                                                   <a href=\"file:///home/zhang/Projects/3d/ProteinWorkshop/proteinworkshop/datasets/base.py\" target=\"_blank\"><span style=\"color: #7f7f7f; text-decoration-color: #7f7f7f\">base.py</span></a><span style=\"color: #7f7f7f; text-decoration-color: #7f7f7f\">:</span><a href=\"file:///home/zhang/Projects/3d/ProteinWorkshop/proteinworkshop/datasets/base.py#337\" target=\"_blank\"><span style=\"color: #7f7f7f; text-decoration-color: #7f7f7f\">337</span></a>\n",
       "</pre>\n"
      ],
      "text/plain": [
       "\u001b[2;36m                   \u001b[0m\u001b[2;36m \u001b[0m\u001b[34mINFO    \u001b[0m Reading data into memory                                                   \u001b]8;id=776335;file:///home/zhang/Projects/3d/ProteinWorkshop/proteinworkshop/datasets/base.py\u001b\\\u001b[2mbase.py\u001b[0m\u001b]8;;\u001b\\\u001b[2m:\u001b[0m\u001b]8;id=945545;file:///home/zhang/Projects/3d/ProteinWorkshop/proteinworkshop/datasets/base.py#337\u001b\\\u001b[2m337\u001b[0m\u001b]8;;\u001b\\\n"
      ]
     },
     "metadata": {},
     "output_type": "display_data"
    },
    {
     "name": "stderr",
     "output_type": "stream",
     "text": [
      "100%|██████████| 1272/1272 [00:00<00:00, 4727.19it/s]\n"
     ]
    },
    {
     "data": {
      "text/html": [
       "<pre style=\"white-space:pre;overflow-x:auto;line-height:normal;font-family:Menlo,'DejaVu Sans Mono',consolas,'Courier New',monospace\"><span style=\"color: #7fbfbf; text-decoration-color: #7fbfbf\">[07/23/24 17:13:19] </span><span style=\"color: #000080; text-decoration-color: #000080\">INFO    </span> Testing on family <span style=\"font-weight: bold\">(</span><span style=\"color: #008080; text-decoration-color: #008080; font-weight: bold\">2</span> <span style=\"color: #800080; text-decoration-color: #800080\">/</span> <span style=\"color: #008080; text-decoration-color: #008080; font-weight: bold\">3</span><span style=\"font-weight: bold\">)</span><span style=\"color: #808000; text-decoration-color: #808000\">...</span>                                              <a href=\"file:///home/zhang/Projects/3d/ProteinWorkshop/proteinworkshop/train.py\" target=\"_blank\"><span style=\"color: #7f7f7f; text-decoration-color: #7f7f7f\">train.py</span></a><span style=\"color: #7f7f7f; text-decoration-color: #7f7f7f\">:</span><a href=\"file:///home/zhang/Projects/3d/ProteinWorkshop/proteinworkshop/train.py#194\" target=\"_blank\"><span style=\"color: #7f7f7f; text-decoration-color: #7f7f7f\">194</span></a>\n",
       "</pre>\n"
      ],
      "text/plain": [
       "\u001b[2;36m[07/23/24 17:13:19]\u001b[0m\u001b[2;36m \u001b[0m\u001b[34mINFO    \u001b[0m Testing on family \u001b[1m(\u001b[0m\u001b[1;36m2\u001b[0m \u001b[35m/\u001b[0m \u001b[1;36m3\u001b[0m\u001b[1m)\u001b[0m\u001b[33m...\u001b[0m                                              \u001b]8;id=549161;file:///home/zhang/Projects/3d/ProteinWorkshop/proteinworkshop/train.py\u001b\\\u001b[2mtrain.py\u001b[0m\u001b]8;;\u001b\\\u001b[2m:\u001b[0m\u001b]8;id=119740;file:///home/zhang/Projects/3d/ProteinWorkshop/proteinworkshop/train.py#194\u001b\\\u001b[2m194\u001b[0m\u001b]8;;\u001b\\\n"
      ]
     },
     "metadata": {},
     "output_type": "display_data"
    },
    {
     "name": "stderr",
     "output_type": "stream",
     "text": [
      "Restoring states from the checkpoint path at /home/zhang/Projects/3d/ProteinWorkshop/notebooks/outputs/checkpoints/epoch_016.ckpt\n",
      "LOCAL_RANK: 0 - CUDA_VISIBLE_DEVICES: [0]\n",
      "Loaded model weights from the checkpoint at /home/zhang/Projects/3d/ProteinWorkshop/notebooks/outputs/checkpoints/epoch_016.ckpt\n"
     ]
    },
    {
     "data": {
      "application/vnd.jupyter.widget-view+json": {
       "model_id": "cd1ca15aa7314d57aa3cc2ce31c23abe",
       "version_major": 2,
       "version_minor": 0
      },
      "text/plain": [
       "Output()"
      ]
     },
     "metadata": {},
     "output_type": "display_data"
    },
    {
     "data": {
      "text/html": [
       "<pre style=\"white-space:pre;overflow-x:auto;line-height:normal;font-family:Menlo,'DejaVu Sans Mono',consolas,'Courier New',monospace\">┏━━━━━━━━━━━━━━━━━━━━━━━━━━━┳━━━━━━━━━━━━━━━━━━━━━━━━━━━┓\n",
       "┃<span style=\"font-weight: bold\">        Test metric        </span>┃<span style=\"font-weight: bold\">       DataLoader 0        </span>┃\n",
       "┡━━━━━━━━━━━━━━━━━━━━━━━━━━━╇━━━━━━━━━━━━━━━━━━━━━━━━━━━┩\n",
       "│<span style=\"color: #008080; text-decoration-color: #008080\"> test/graph_label/accuracy </span>│<span style=\"color: #800080; text-decoration-color: #800080\">    0.6763021349906921     </span>│\n",
       "│<span style=\"color: #008080; text-decoration-color: #008080\">  test/graph_label/f1_max  </span>│<span style=\"color: #800080; text-decoration-color: #800080\">    0.7460164427757263     </span>│\n",
       "│<span style=\"color: #008080; text-decoration-color: #008080\"> test/graph_label/f1_score </span>│<span style=\"color: #800080; text-decoration-color: #800080\">    0.33277711272239685    </span>│\n",
       "│<span style=\"color: #008080; text-decoration-color: #008080\">   test/loss/graph_label   </span>│<span style=\"color: #800080; text-decoration-color: #800080\">     1.517082691192627     </span>│\n",
       "│<span style=\"color: #008080; text-decoration-color: #008080\">      test/loss/total      </span>│<span style=\"color: #800080; text-decoration-color: #800080\">     1.517082691192627     </span>│\n",
       "└───────────────────────────┴───────────────────────────┘\n",
       "</pre>\n"
      ],
      "text/plain": [
       "┏━━━━━━━━━━━━━━━━━━━━━━━━━━━┳━━━━━━━━━━━━━━━━━━━━━━━━━━━┓\n",
       "┃\u001b[1m \u001b[0m\u001b[1m       Test metric       \u001b[0m\u001b[1m \u001b[0m┃\u001b[1m \u001b[0m\u001b[1m      DataLoader 0       \u001b[0m\u001b[1m \u001b[0m┃\n",
       "┡━━━━━━━━━━━━━━━━━━━━━━━━━━━╇━━━━━━━━━━━━━━━━━━━━━━━━━━━┩\n",
       "│\u001b[36m \u001b[0m\u001b[36mtest/graph_label/accuracy\u001b[0m\u001b[36m \u001b[0m│\u001b[35m \u001b[0m\u001b[35m   0.6763021349906921    \u001b[0m\u001b[35m \u001b[0m│\n",
       "│\u001b[36m \u001b[0m\u001b[36m test/graph_label/f1_max \u001b[0m\u001b[36m \u001b[0m│\u001b[35m \u001b[0m\u001b[35m   0.7460164427757263    \u001b[0m\u001b[35m \u001b[0m│\n",
       "│\u001b[36m \u001b[0m\u001b[36mtest/graph_label/f1_score\u001b[0m\u001b[36m \u001b[0m│\u001b[35m \u001b[0m\u001b[35m   0.33277711272239685   \u001b[0m\u001b[35m \u001b[0m│\n",
       "│\u001b[36m \u001b[0m\u001b[36m  test/loss/graph_label  \u001b[0m\u001b[36m \u001b[0m│\u001b[35m \u001b[0m\u001b[35m    1.517082691192627    \u001b[0m\u001b[35m \u001b[0m│\n",
       "│\u001b[36m \u001b[0m\u001b[36m     test/loss/total     \u001b[0m\u001b[36m \u001b[0m│\u001b[35m \u001b[0m\u001b[35m    1.517082691192627    \u001b[0m\u001b[35m \u001b[0m│\n",
       "└───────────────────────────┴───────────────────────────┘\n"
      ]
     },
     "metadata": {},
     "output_type": "display_data"
    },
    {
     "data": {
      "text/html": [
       "<pre style=\"white-space:pre;overflow-x:auto;line-height:normal;font-family:Menlo,'DejaVu Sans Mono',consolas,'Courier New',monospace\"></pre>\n"
      ],
      "text/plain": []
     },
     "metadata": {},
     "output_type": "display_data"
    },
    {
     "data": {
      "text/html": [
       "<pre style=\"white-space:pre;overflow-x:auto;line-height:normal;font-family:Menlo,'DejaVu Sans Mono',consolas,'Courier New',monospace\">\n",
       "</pre>\n"
      ],
      "text/plain": [
       "\n"
      ]
     },
     "metadata": {},
     "output_type": "display_data"
    },
    {
     "data": {
      "text/html": [
       "<pre style=\"white-space:pre;overflow-x:auto;line-height:normal;font-family:Menlo,'DejaVu Sans Mono',consolas,'Courier New',monospace\"><span style=\"color: #7fbfbf; text-decoration-color: #7fbfbf\">[07/23/24 17:13:20] </span><span style=\"color: #000080; text-decoration-color: #000080\">INFO    </span> family: <span style=\"font-weight: bold\">{</span><span style=\"color: #008000; text-decoration-color: #008000\">'test/loss/graph_label/family'</span>: <span style=\"color: #008080; text-decoration-color: #008080; font-weight: bold\">1.517082691192627</span>,               <a href=\"file:///home/zhang/Projects/3d/ProteinWorkshop/proteinworkshop/train.py\" target=\"_blank\"><span style=\"color: #7f7f7f; text-decoration-color: #7f7f7f\">train.py</span></a><span style=\"color: #7f7f7f; text-decoration-color: #7f7f7f\">:</span><a href=\"file:///home/zhang/Projects/3d/ProteinWorkshop/proteinworkshop/train.py#204\" target=\"_blank\"><span style=\"color: #7f7f7f; text-decoration-color: #7f7f7f\">204</span></a>\n",
       "<span style=\"color: #7fbfbf; text-decoration-color: #7fbfbf\">                    </span>         <span style=\"color: #008000; text-decoration-color: #008000\">'test/loss/total/family'</span>: <span style=\"color: #008080; text-decoration-color: #008080; font-weight: bold\">1.517082691192627</span>,                              <span style=\"color: #7f7f7f; text-decoration-color: #7f7f7f\">            </span>\n",
       "<span style=\"color: #7fbfbf; text-decoration-color: #7fbfbf\">                    </span>         <span style=\"color: #008000; text-decoration-color: #008000\">'test/graph_label/accuracy/family'</span>: <span style=\"color: #008080; text-decoration-color: #008080; font-weight: bold\">0.6763021349906921</span>,                   <span style=\"color: #7f7f7f; text-decoration-color: #7f7f7f\">            </span>\n",
       "<span style=\"color: #7fbfbf; text-decoration-color: #7fbfbf\">                    </span>         <span style=\"color: #008000; text-decoration-color: #008000\">'test/graph_label/f1_score/family'</span>: <span style=\"color: #008080; text-decoration-color: #008080; font-weight: bold\">0.33277711272239685</span>,                  <span style=\"color: #7f7f7f; text-decoration-color: #7f7f7f\">            </span>\n",
       "<span style=\"color: #7fbfbf; text-decoration-color: #7fbfbf\">                    </span>         <span style=\"color: #008000; text-decoration-color: #008000\">'test/graph_label/f1_max/family'</span>: <span style=\"color: #008080; text-decoration-color: #008080; font-weight: bold\">0.7460164427757263</span><span style=\"font-weight: bold\">}</span>                     <span style=\"color: #7f7f7f; text-decoration-color: #7f7f7f\">            </span>\n",
       "</pre>\n"
      ],
      "text/plain": [
       "\u001b[2;36m[07/23/24 17:13:20]\u001b[0m\u001b[2;36m \u001b[0m\u001b[34mINFO    \u001b[0m family: \u001b[1m{\u001b[0m\u001b[32m'test/loss/graph_label/family'\u001b[0m: \u001b[1;36m1.517082691192627\u001b[0m,               \u001b]8;id=495258;file:///home/zhang/Projects/3d/ProteinWorkshop/proteinworkshop/train.py\u001b\\\u001b[2mtrain.py\u001b[0m\u001b]8;;\u001b\\\u001b[2m:\u001b[0m\u001b]8;id=405765;file:///home/zhang/Projects/3d/ProteinWorkshop/proteinworkshop/train.py#204\u001b\\\u001b[2m204\u001b[0m\u001b]8;;\u001b\\\n",
       "\u001b[2;36m                    \u001b[0m         \u001b[32m'test/loss/total/family'\u001b[0m: \u001b[1;36m1.517082691192627\u001b[0m,                              \u001b[2m            \u001b[0m\n",
       "\u001b[2;36m                    \u001b[0m         \u001b[32m'test/graph_label/accuracy/family'\u001b[0m: \u001b[1;36m0.6763021349906921\u001b[0m,                   \u001b[2m            \u001b[0m\n",
       "\u001b[2;36m                    \u001b[0m         \u001b[32m'test/graph_label/f1_score/family'\u001b[0m: \u001b[1;36m0.33277711272239685\u001b[0m,                  \u001b[2m            \u001b[0m\n",
       "\u001b[2;36m                    \u001b[0m         \u001b[32m'test/graph_label/f1_max/family'\u001b[0m: \u001b[1;36m0.7460164427757263\u001b[0m\u001b[1m}\u001b[0m                     \u001b[2m            \u001b[0m\n"
      ]
     },
     "metadata": {},
     "output_type": "display_data"
    },
    {
     "data": {
      "text/html": [
       "<pre style=\"white-space:pre;overflow-x:auto;line-height:normal;font-family:Menlo,'DejaVu Sans Mono',consolas,'Courier New',monospace\"><span style=\"color: #7fbfbf; text-decoration-color: #7fbfbf\">                    </span><span style=\"color: #000080; text-decoration-color: #000080\">INFO    </span> Reading labels from:                                        <a href=\"file:///home/zhang/Projects/3d/ProteinWorkshop/proteinworkshop/datasets/fold_classification.py\" target=\"_blank\"><span style=\"color: #7f7f7f; text-decoration-color: #7f7f7f\">fold_classification.py</span></a><span style=\"color: #7f7f7f; text-decoration-color: #7f7f7f\">:</span><a href=\"file:///home/zhang/Projects/3d/ProteinWorkshop/proteinworkshop/datasets/fold_classification.py#154\" target=\"_blank\"><span style=\"color: #7f7f7f; text-decoration-color: #7f7f7f\">154</span></a>\n",
       "<span style=\"color: #7fbfbf; text-decoration-color: #7fbfbf\">                    </span>         <span style=\"color: #800080; text-decoration-color: #800080\">/home/zhang/Projects/3d/ProteinWorkshop/proteinworkshop/dat</span> <span style=\"color: #7f7f7f; text-decoration-color: #7f7f7f\">                          </span>\n",
       "<span style=\"color: #7fbfbf; text-decoration-color: #7fbfbf\">                    </span>         <span style=\"color: #800080; text-decoration-color: #800080\">a/FoldClassification/</span><span style=\"color: #ff00ff; text-decoration-color: #ff00ff\">class_map.txt</span>                          <span style=\"color: #7f7f7f; text-decoration-color: #7f7f7f\">                          </span>\n",
       "</pre>\n"
      ],
      "text/plain": [
       "\u001b[2;36m                   \u001b[0m\u001b[2;36m \u001b[0m\u001b[34mINFO    \u001b[0m Reading labels from:                                        \u001b]8;id=868827;file:///home/zhang/Projects/3d/ProteinWorkshop/proteinworkshop/datasets/fold_classification.py\u001b\\\u001b[2mfold_classification.py\u001b[0m\u001b]8;;\u001b\\\u001b[2m:\u001b[0m\u001b]8;id=301639;file:///home/zhang/Projects/3d/ProteinWorkshop/proteinworkshop/datasets/fold_classification.py#154\u001b\\\u001b[2m154\u001b[0m\u001b]8;;\u001b\\\n",
       "\u001b[2;36m                    \u001b[0m         \u001b[35m/home/zhang/Projects/3d/ProteinWorkshop/proteinworkshop/dat\u001b[0m \u001b[2m                          \u001b[0m\n",
       "\u001b[2;36m                    \u001b[0m         \u001b[35ma/FoldClassification/\u001b[0m\u001b[95mclass_map.txt\u001b[0m                          \u001b[2m                          \u001b[0m\n"
      ]
     },
     "metadata": {},
     "output_type": "display_data"
    },
    {
     "data": {
      "text/html": [
       "<pre style=\"white-space:pre;overflow-x:auto;line-height:normal;font-family:Menlo,'DejaVu Sans Mono',consolas,'Courier New',monospace\"><span style=\"color: #7fbfbf; text-decoration-color: #7fbfbf\">                    </span><span style=\"color: #000080; text-decoration-color: #000080\">INFO    </span> Found <span style=\"color: #008080; text-decoration-color: #008080; font-weight: bold\">1254</span> original examples in test_superfamily            <a href=\"file:///home/zhang/Projects/3d/ProteinWorkshop/proteinworkshop/datasets/fold_classification.py\" target=\"_blank\"><span style=\"color: #7f7f7f; text-decoration-color: #7f7f7f\">fold_classification.py</span></a><span style=\"color: #7f7f7f; text-decoration-color: #7f7f7f\">:</span><a href=\"file:///home/zhang/Projects/3d/ProteinWorkshop/proteinworkshop/datasets/fold_classification.py#234\" target=\"_blank\"><span style=\"color: #7f7f7f; text-decoration-color: #7f7f7f\">234</span></a>\n",
       "</pre>\n"
      ],
      "text/plain": [
       "\u001b[2;36m                   \u001b[0m\u001b[2;36m \u001b[0m\u001b[34mINFO    \u001b[0m Found \u001b[1;36m1254\u001b[0m original examples in test_superfamily            \u001b]8;id=857657;file:///home/zhang/Projects/3d/ProteinWorkshop/proteinworkshop/datasets/fold_classification.py\u001b\\\u001b[2mfold_classification.py\u001b[0m\u001b]8;;\u001b\\\u001b[2m:\u001b[0m\u001b]8;id=390098;file:///home/zhang/Projects/3d/ProteinWorkshop/proteinworkshop/datasets/fold_classification.py#234\u001b\\\u001b[2m234\u001b[0m\u001b]8;;\u001b\\\n"
      ]
     },
     "metadata": {},
     "output_type": "display_data"
    },
    {
     "data": {
      "text/html": [
       "<pre style=\"white-space:pre;overflow-x:auto;line-height:normal;font-family:Menlo,'DejaVu Sans Mono',consolas,'Courier New',monospace\"><span style=\"color: #7fbfbf; text-decoration-color: #7fbfbf\">                    </span><span style=\"color: #000080; text-decoration-color: #000080\">INFO    </span> Identified <span style=\"color: #008080; text-decoration-color: #008080; font-weight: bold\">362</span> classes                                      <a href=\"file:///home/zhang/Projects/3d/ProteinWorkshop/proteinworkshop/datasets/fold_classification.py\" target=\"_blank\"><span style=\"color: #7f7f7f; text-decoration-color: #7f7f7f\">fold_classification.py</span></a><span style=\"color: #7f7f7f; text-decoration-color: #7f7f7f\">:</span><a href=\"file:///home/zhang/Projects/3d/ProteinWorkshop/proteinworkshop/datasets/fold_classification.py#247\" target=\"_blank\"><span style=\"color: #7f7f7f; text-decoration-color: #7f7f7f\">247</span></a>\n",
       "</pre>\n"
      ],
      "text/plain": [
       "\u001b[2;36m                   \u001b[0m\u001b[2;36m \u001b[0m\u001b[34mINFO    \u001b[0m Identified \u001b[1;36m362\u001b[0m classes                                      \u001b]8;id=670561;file:///home/zhang/Projects/3d/ProteinWorkshop/proteinworkshop/datasets/fold_classification.py\u001b\\\u001b[2mfold_classification.py\u001b[0m\u001b]8;;\u001b\\\u001b[2m:\u001b[0m\u001b]8;id=396179;file:///home/zhang/Projects/3d/ProteinWorkshop/proteinworkshop/datasets/fold_classification.py#247\u001b\\\u001b[2m247\u001b[0m\u001b]8;;\u001b\\\n"
      ]
     },
     "metadata": {},
     "output_type": "display_data"
    },
    {
     "data": {
      "text/html": [
       "<pre style=\"white-space:pre;overflow-x:auto;line-height:normal;font-family:Menlo,'DejaVu Sans Mono',consolas,'Courier New',monospace\"><span style=\"color: #7fbfbf; text-decoration-color: #7fbfbf\">                    </span><span style=\"color: #000080; text-decoration-color: #000080\">INFO    </span> All structures already processed and <span style=\"color: #808000; text-decoration-color: #808000\">overwrite</span>=<span style=\"color: #ff0000; text-decoration-color: #ff0000; font-style: italic\">False</span>. Skipping download.   <a href=\"file:///home/zhang/Projects/3d/ProteinWorkshop/proteinworkshop/datasets/base.py\" target=\"_blank\"><span style=\"color: #7f7f7f; text-decoration-color: #7f7f7f\">base.py</span></a><span style=\"color: #7f7f7f; text-decoration-color: #7f7f7f\">:</span><a href=\"file:///home/zhang/Projects/3d/ProteinWorkshop/proteinworkshop/datasets/base.py#327\" target=\"_blank\"><span style=\"color: #7f7f7f; text-decoration-color: #7f7f7f\">327</span></a>\n",
       "</pre>\n"
      ],
      "text/plain": [
       "\u001b[2;36m                   \u001b[0m\u001b[2;36m \u001b[0m\u001b[34mINFO    \u001b[0m All structures already processed and \u001b[33moverwrite\u001b[0m=\u001b[3;91mFalse\u001b[0m. Skipping download.   \u001b]8;id=95459;file:///home/zhang/Projects/3d/ProteinWorkshop/proteinworkshop/datasets/base.py\u001b\\\u001b[2mbase.py\u001b[0m\u001b]8;;\u001b\\\u001b[2m:\u001b[0m\u001b]8;id=9570;file:///home/zhang/Projects/3d/ProteinWorkshop/proteinworkshop/datasets/base.py#327\u001b\\\u001b[2m327\u001b[0m\u001b]8;;\u001b\\\n"
      ]
     },
     "metadata": {},
     "output_type": "display_data"
    },
    {
     "data": {
      "text/html": [
       "<pre style=\"white-space:pre;overflow-x:auto;line-height:normal;font-family:Menlo,'DejaVu Sans Mono',consolas,'Courier New',monospace\"><span style=\"color: #7fbfbf; text-decoration-color: #7fbfbf\">                    </span><span style=\"color: #800000; text-decoration-color: #800000\">WARNING </span> Downloads in .ent format are assumed to be from ASTRAL. These data should  <a href=\"file:///home/zhang/Projects/3d/ProteinWorkshop/proteinworkshop/datasets/base.py\" target=\"_blank\"><span style=\"color: #7f7f7f; text-decoration-color: #7f7f7f\">base.py</span></a><span style=\"color: #7f7f7f; text-decoration-color: #7f7f7f\">:</span><a href=\"file:///home/zhang/Projects/3d/ProteinWorkshop/proteinworkshop/datasets/base.py#357\" target=\"_blank\"><span style=\"color: #7f7f7f; text-decoration-color: #7f7f7f\">357</span></a>\n",
       "<span style=\"color: #7fbfbf; text-decoration-color: #7fbfbf\">                    </span>         have already been downloaded                                               <span style=\"color: #7f7f7f; text-decoration-color: #7f7f7f\">           </span>\n",
       "</pre>\n"
      ],
      "text/plain": [
       "\u001b[2;36m                   \u001b[0m\u001b[2;36m \u001b[0m\u001b[31mWARNING \u001b[0m Downloads in .ent format are assumed to be from ASTRAL. These data should  \u001b]8;id=343896;file:///home/zhang/Projects/3d/ProteinWorkshop/proteinworkshop/datasets/base.py\u001b\\\u001b[2mbase.py\u001b[0m\u001b]8;;\u001b\\\u001b[2m:\u001b[0m\u001b]8;id=742372;file:///home/zhang/Projects/3d/ProteinWorkshop/proteinworkshop/datasets/base.py#357\u001b\\\u001b[2m357\u001b[0m\u001b]8;;\u001b\\\n",
       "\u001b[2;36m                    \u001b[0m         have already been downloaded                                               \u001b[2m           \u001b[0m\n"
      ]
     },
     "metadata": {},
     "output_type": "display_data"
    },
    {
     "data": {
      "text/html": [
       "<pre style=\"white-space:pre;overflow-x:auto;line-height:normal;font-family:Menlo,'DejaVu Sans Mono',consolas,'Courier New',monospace\"><span style=\"color: #7fbfbf; text-decoration-color: #7fbfbf\">                    </span><span style=\"color: #000080; text-decoration-color: #000080\">INFO    </span> Reading data into memory                                                   <a href=\"file:///home/zhang/Projects/3d/ProteinWorkshop/proteinworkshop/datasets/base.py\" target=\"_blank\"><span style=\"color: #7f7f7f; text-decoration-color: #7f7f7f\">base.py</span></a><span style=\"color: #7f7f7f; text-decoration-color: #7f7f7f\">:</span><a href=\"file:///home/zhang/Projects/3d/ProteinWorkshop/proteinworkshop/datasets/base.py#337\" target=\"_blank\"><span style=\"color: #7f7f7f; text-decoration-color: #7f7f7f\">337</span></a>\n",
       "</pre>\n"
      ],
      "text/plain": [
       "\u001b[2;36m                   \u001b[0m\u001b[2;36m \u001b[0m\u001b[34mINFO    \u001b[0m Reading data into memory                                                   \u001b]8;id=648991;file:///home/zhang/Projects/3d/ProteinWorkshop/proteinworkshop/datasets/base.py\u001b\\\u001b[2mbase.py\u001b[0m\u001b]8;;\u001b\\\u001b[2m:\u001b[0m\u001b]8;id=719303;file:///home/zhang/Projects/3d/ProteinWorkshop/proteinworkshop/datasets/base.py#337\u001b\\\u001b[2m337\u001b[0m\u001b]8;;\u001b\\\n"
      ]
     },
     "metadata": {},
     "output_type": "display_data"
    },
    {
     "name": "stderr",
     "output_type": "stream",
     "text": [
      "100%|██████████| 1254/1254 [00:00<00:00, 4601.95it/s]\n"
     ]
    },
    {
     "data": {
      "text/html": [
       "<pre style=\"white-space:pre;overflow-x:auto;line-height:normal;font-family:Menlo,'DejaVu Sans Mono',consolas,'Courier New',monospace\"><span style=\"color: #7fbfbf; text-decoration-color: #7fbfbf\">[07/23/24 17:13:21] </span><span style=\"color: #000080; text-decoration-color: #000080\">INFO    </span> Testing on superfamily <span style=\"font-weight: bold\">(</span><span style=\"color: #008080; text-decoration-color: #008080; font-weight: bold\">3</span> <span style=\"color: #800080; text-decoration-color: #800080\">/</span> <span style=\"color: #008080; text-decoration-color: #008080; font-weight: bold\">3</span><span style=\"font-weight: bold\">)</span><span style=\"color: #808000; text-decoration-color: #808000\">...</span>                                         <a href=\"file:///home/zhang/Projects/3d/ProteinWorkshop/proteinworkshop/train.py\" target=\"_blank\"><span style=\"color: #7f7f7f; text-decoration-color: #7f7f7f\">train.py</span></a><span style=\"color: #7f7f7f; text-decoration-color: #7f7f7f\">:</span><a href=\"file:///home/zhang/Projects/3d/ProteinWorkshop/proteinworkshop/train.py#194\" target=\"_blank\"><span style=\"color: #7f7f7f; text-decoration-color: #7f7f7f\">194</span></a>\n",
       "</pre>\n"
      ],
      "text/plain": [
       "\u001b[2;36m[07/23/24 17:13:21]\u001b[0m\u001b[2;36m \u001b[0m\u001b[34mINFO    \u001b[0m Testing on superfamily \u001b[1m(\u001b[0m\u001b[1;36m3\u001b[0m \u001b[35m/\u001b[0m \u001b[1;36m3\u001b[0m\u001b[1m)\u001b[0m\u001b[33m...\u001b[0m                                         \u001b]8;id=265298;file:///home/zhang/Projects/3d/ProteinWorkshop/proteinworkshop/train.py\u001b\\\u001b[2mtrain.py\u001b[0m\u001b]8;;\u001b\\\u001b[2m:\u001b[0m\u001b]8;id=286561;file:///home/zhang/Projects/3d/ProteinWorkshop/proteinworkshop/train.py#194\u001b\\\u001b[2m194\u001b[0m\u001b]8;;\u001b\\\n"
      ]
     },
     "metadata": {},
     "output_type": "display_data"
    },
    {
     "name": "stderr",
     "output_type": "stream",
     "text": [
      "Restoring states from the checkpoint path at /home/zhang/Projects/3d/ProteinWorkshop/notebooks/outputs/checkpoints/epoch_016.ckpt\n",
      "LOCAL_RANK: 0 - CUDA_VISIBLE_DEVICES: [0]\n",
      "Loaded model weights from the checkpoint at /home/zhang/Projects/3d/ProteinWorkshop/notebooks/outputs/checkpoints/epoch_016.ckpt\n"
     ]
    },
    {
     "data": {
      "application/vnd.jupyter.widget-view+json": {
       "model_id": "d7441b97763e4c25a76c0fdefca8e7d1",
       "version_major": 2,
       "version_minor": 0
      },
      "text/plain": [
       "Output()"
      ]
     },
     "metadata": {},
     "output_type": "display_data"
    },
    {
     "data": {
      "text/html": [
       "<pre style=\"white-space:pre;overflow-x:auto;line-height:normal;font-family:Menlo,'DejaVu Sans Mono',consolas,'Courier New',monospace\">┏━━━━━━━━━━━━━━━━━━━━━━━━━━━┳━━━━━━━━━━━━━━━━━━━━━━━━━━━┓\n",
       "┃<span style=\"font-weight: bold\">        Test metric        </span>┃<span style=\"font-weight: bold\">       DataLoader 0        </span>┃\n",
       "┡━━━━━━━━━━━━━━━━━━━━━━━━━━━╇━━━━━━━━━━━━━━━━━━━━━━━━━━━┩\n",
       "│<span style=\"color: #008080; text-decoration-color: #008080\"> test/graph_label/accuracy </span>│<span style=\"color: #800080; text-decoration-color: #800080\">        0.19921875         </span>│\n",
       "│<span style=\"color: #008080; text-decoration-color: #008080\">  test/graph_label/f1_max  </span>│<span style=\"color: #800080; text-decoration-color: #800080\">    0.2600874602794647     </span>│\n",
       "│<span style=\"color: #008080; text-decoration-color: #008080\"> test/graph_label/f1_score </span>│<span style=\"color: #800080; text-decoration-color: #800080\">    0.05317850038409233    </span>│\n",
       "│<span style=\"color: #008080; text-decoration-color: #008080\">   test/loss/graph_label   </span>│<span style=\"color: #800080; text-decoration-color: #800080\">     9.43954086303711      </span>│\n",
       "│<span style=\"color: #008080; text-decoration-color: #008080\">      test/loss/total      </span>│<span style=\"color: #800080; text-decoration-color: #800080\">     9.43954086303711      </span>│\n",
       "└───────────────────────────┴───────────────────────────┘\n",
       "</pre>\n"
      ],
      "text/plain": [
       "┏━━━━━━━━━━━━━━━━━━━━━━━━━━━┳━━━━━━━━━━━━━━━━━━━━━━━━━━━┓\n",
       "┃\u001b[1m \u001b[0m\u001b[1m       Test metric       \u001b[0m\u001b[1m \u001b[0m┃\u001b[1m \u001b[0m\u001b[1m      DataLoader 0       \u001b[0m\u001b[1m \u001b[0m┃\n",
       "┡━━━━━━━━━━━━━━━━━━━━━━━━━━━╇━━━━━━━━━━━━━━━━━━━━━━━━━━━┩\n",
       "│\u001b[36m \u001b[0m\u001b[36mtest/graph_label/accuracy\u001b[0m\u001b[36m \u001b[0m│\u001b[35m \u001b[0m\u001b[35m       0.19921875        \u001b[0m\u001b[35m \u001b[0m│\n",
       "│\u001b[36m \u001b[0m\u001b[36m test/graph_label/f1_max \u001b[0m\u001b[36m \u001b[0m│\u001b[35m \u001b[0m\u001b[35m   0.2600874602794647    \u001b[0m\u001b[35m \u001b[0m│\n",
       "│\u001b[36m \u001b[0m\u001b[36mtest/graph_label/f1_score\u001b[0m\u001b[36m \u001b[0m│\u001b[35m \u001b[0m\u001b[35m   0.05317850038409233   \u001b[0m\u001b[35m \u001b[0m│\n",
       "│\u001b[36m \u001b[0m\u001b[36m  test/loss/graph_label  \u001b[0m\u001b[36m \u001b[0m│\u001b[35m \u001b[0m\u001b[35m    9.43954086303711     \u001b[0m\u001b[35m \u001b[0m│\n",
       "│\u001b[36m \u001b[0m\u001b[36m     test/loss/total     \u001b[0m\u001b[36m \u001b[0m│\u001b[35m \u001b[0m\u001b[35m    9.43954086303711     \u001b[0m\u001b[35m \u001b[0m│\n",
       "└───────────────────────────┴───────────────────────────┘\n"
      ]
     },
     "metadata": {},
     "output_type": "display_data"
    },
    {
     "data": {
      "text/html": [
       "<pre style=\"white-space:pre;overflow-x:auto;line-height:normal;font-family:Menlo,'DejaVu Sans Mono',consolas,'Courier New',monospace\"></pre>\n"
      ],
      "text/plain": []
     },
     "metadata": {},
     "output_type": "display_data"
    },
    {
     "data": {
      "text/html": [
       "<pre style=\"white-space:pre;overflow-x:auto;line-height:normal;font-family:Menlo,'DejaVu Sans Mono',consolas,'Courier New',monospace\">\n",
       "</pre>\n"
      ],
      "text/plain": [
       "\n"
      ]
     },
     "metadata": {},
     "output_type": "display_data"
    },
    {
     "data": {
      "text/html": [
       "<pre style=\"white-space:pre;overflow-x:auto;line-height:normal;font-family:Menlo,'DejaVu Sans Mono',consolas,'Courier New',monospace\"><span style=\"color: #7fbfbf; text-decoration-color: #7fbfbf\">[07/23/24 17:13:23] </span><span style=\"color: #000080; text-decoration-color: #000080\">INFO    </span> superfamily: <span style=\"font-weight: bold\">{</span><span style=\"color: #008000; text-decoration-color: #008000\">'test/loss/graph_label/superfamily'</span>: <span style=\"color: #008080; text-decoration-color: #008080; font-weight: bold\">9.43954086303711</span>,      <a href=\"file:///home/zhang/Projects/3d/ProteinWorkshop/proteinworkshop/train.py\" target=\"_blank\"><span style=\"color: #7f7f7f; text-decoration-color: #7f7f7f\">train.py</span></a><span style=\"color: #7f7f7f; text-decoration-color: #7f7f7f\">:</span><a href=\"file:///home/zhang/Projects/3d/ProteinWorkshop/proteinworkshop/train.py#204\" target=\"_blank\"><span style=\"color: #7f7f7f; text-decoration-color: #7f7f7f\">204</span></a>\n",
       "<span style=\"color: #7fbfbf; text-decoration-color: #7fbfbf\">                    </span>         <span style=\"color: #008000; text-decoration-color: #008000\">'test/loss/total/superfamily'</span>: <span style=\"color: #008080; text-decoration-color: #008080; font-weight: bold\">9.43954086303711</span>,                          <span style=\"color: #7f7f7f; text-decoration-color: #7f7f7f\">            </span>\n",
       "<span style=\"color: #7fbfbf; text-decoration-color: #7fbfbf\">                    </span>         <span style=\"color: #008000; text-decoration-color: #008000\">'test/graph_label/accuracy/superfamily'</span>: <span style=\"color: #008080; text-decoration-color: #008080; font-weight: bold\">0.19921875</span>,                      <span style=\"color: #7f7f7f; text-decoration-color: #7f7f7f\">            </span>\n",
       "<span style=\"color: #7fbfbf; text-decoration-color: #7fbfbf\">                    </span>         <span style=\"color: #008000; text-decoration-color: #008000\">'test/graph_label/f1_score/superfamily'</span>: <span style=\"color: #008080; text-decoration-color: #008080; font-weight: bold\">0.05317850038409233</span>,             <span style=\"color: #7f7f7f; text-decoration-color: #7f7f7f\">            </span>\n",
       "<span style=\"color: #7fbfbf; text-decoration-color: #7fbfbf\">                    </span>         <span style=\"color: #008000; text-decoration-color: #008000\">'test/graph_label/f1_max/superfamily'</span>: <span style=\"color: #008080; text-decoration-color: #008080; font-weight: bold\">0.2600874602794647</span><span style=\"font-weight: bold\">}</span>                <span style=\"color: #7f7f7f; text-decoration-color: #7f7f7f\">            </span>\n",
       "</pre>\n"
      ],
      "text/plain": [
       "\u001b[2;36m[07/23/24 17:13:23]\u001b[0m\u001b[2;36m \u001b[0m\u001b[34mINFO    \u001b[0m superfamily: \u001b[1m{\u001b[0m\u001b[32m'test/loss/graph_label/superfamily'\u001b[0m: \u001b[1;36m9.43954086303711\u001b[0m,      \u001b]8;id=633914;file:///home/zhang/Projects/3d/ProteinWorkshop/proteinworkshop/train.py\u001b\\\u001b[2mtrain.py\u001b[0m\u001b]8;;\u001b\\\u001b[2m:\u001b[0m\u001b]8;id=707994;file:///home/zhang/Projects/3d/ProteinWorkshop/proteinworkshop/train.py#204\u001b\\\u001b[2m204\u001b[0m\u001b]8;;\u001b\\\n",
       "\u001b[2;36m                    \u001b[0m         \u001b[32m'test/loss/total/superfamily'\u001b[0m: \u001b[1;36m9.43954086303711\u001b[0m,                          \u001b[2m            \u001b[0m\n",
       "\u001b[2;36m                    \u001b[0m         \u001b[32m'test/graph_label/accuracy/superfamily'\u001b[0m: \u001b[1;36m0.19921875\u001b[0m,                      \u001b[2m            \u001b[0m\n",
       "\u001b[2;36m                    \u001b[0m         \u001b[32m'test/graph_label/f1_score/superfamily'\u001b[0m: \u001b[1;36m0.05317850038409233\u001b[0m,             \u001b[2m            \u001b[0m\n",
       "\u001b[2;36m                    \u001b[0m         \u001b[32m'test/graph_label/f1_max/superfamily'\u001b[0m: \u001b[1;36m0.2600874602794647\u001b[0m\u001b[1m}\u001b[0m                \u001b[2m            \u001b[0m\n"
      ]
     },
     "metadata": {},
     "output_type": "display_data"
    },
    {
     "ename": "",
     "evalue": "",
     "output_type": "error",
     "traceback": [
      "\u001b[1;31m在当前单元格或上一个单元格中执行代码时 Kernel 崩溃。\n",
      "\u001b[1;31m请查看单元格中的代码，以确定故障的可能原因。\n",
      "\u001b[1;31m单击<a href='https://aka.ms/vscodeJupyterKernelCrash'>此处</a>了解详细信息。\n",
      "\u001b[1;31m有关更多详细信息，请查看 Jupyter <a href='command:jupyter.viewOutput'>log</a>。"
     ]
    }
   ],
   "source": [
    "from proteinworkshop.train import train_model\n",
    "\n",
    "train_model(cfg)"
   ]
  },
  {
   "cell_type": "markdown",
   "metadata": {},
   "source": [
    "### 4. Wrapping up\n",
    "\n",
    "Have any additional questions about using the components provided in the `ProteinWorkshop`? [Create a new issue](https://github.com/a-r-j/ProteinWorkshop/issues/new/choose) on our [GitHub repository](https://github.com/a-r-j/ProteinWorkshop). We would be happy to work with you to leverage the full power of the repository!"
   ]
  },
  {
   "cell_type": "markdown",
   "metadata": {},
   "source": [
    "/home/yang/anaconda3/envs/3d/lib/python3.10/site-packages/lightning/pytorch/utilities/data.py"
   ]
  }
 ],
 "metadata": {
  "kernelspec": {
   "display_name": "Python 3",
   "language": "python",
   "name": "python3"
  },
  "language_info": {
   "codemirror_mode": {
    "name": "ipython",
    "version": 3
   },
   "file_extension": ".py",
   "mimetype": "text/x-python",
   "name": "python",
   "nbconvert_exporter": "python",
   "pygments_lexer": "ipython3",
   "version": "3.10.14"
  },
  "orig_nbformat": 4
 },
 "nbformat": 4,
 "nbformat_minor": 2
}
