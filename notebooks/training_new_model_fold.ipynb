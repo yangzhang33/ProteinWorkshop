{
 "cells": [
  {
   "cell_type": "markdown",
   "metadata": {},
   "source": [
    "# `ProteinWorkshop` Tutorial, Part 1 - Training a New Model\n",
    "![Models](../docs/source/_static/box_models.png)"
   ]
  },
  {
   "cell_type": "markdown",
   "metadata": {},
   "source": [
    "## Train a new model using the `ProteinWorkshop`"
   ]
  },
  {
   "cell_type": "code",
   "execution_count": 1,
   "metadata": {},
   "outputs": [],
   "source": [
    "%load_ext autoreload\n",
    "%autoreload 2\n",
    "# %load_ext blackcellmagic"
   ]
  },
  {
   "cell_type": "markdown",
   "metadata": {},
   "source": [
    "Welcome to the tutorial series for the `ProteinWorkshop`! \n",
    "\n",
    "In the `ProteinWorkshop`, we implement numerous [featurisation](https://www.proteins.sh/configs/features) schemes, [datasets](https://www.proteins.sh/configs/dataset) for [self-supervised pre-training](https://proteins.sh/quickstart_component/pretrain.html) and [downstream evaluation](https://proteins.sh/quickstart_component/downstream.html), [pre-training](https://proteins.sh/configs/task) tasks, and [auxiliary tasks](https://proteins.sh/configs/task.html#auxiliary-tasks).\n",
    "\n",
    "[Processed datasets](https://drive.google.com/drive/folders/18i8rLST6ZICTBu6Q67ClT0KqN9AHeqoW?usp=sharing) and [pre-trained weights](https://drive.google.com/drive/folders/1zK1r8FpmGaqV_QwUJuvDacwSL0RW-Vw9?usp=sharing) are made available. Downloading datasets is not required; upon first run all datasets will be downloaded and processed from their respective source.\n",
    "\n",
    "The `ProteinWorkshop` encompasses several models as well as pre-trained weights for them so that you can readily use them.\n",
    "\n",
    "In this tutorial, we show you how you can use what is already available in the protein workshop to train and use models for specific tasks. The `ProteinWorkshop` is structured as a very modular package; we will therefore talk about how to change the different parts of it, like the model, training task, dataset, featurization scheme, etc. in this tutorial. \n",
    "\n",
    "Besides using all the different options we provide, you can make use of the modular nature of the `ProteinWorkshop` to add your own models, datasets, featurization schemes, and training tasks. We will show you how to do this in the next tutorials."
   ]
  },
  {
   "cell_type": "markdown",
   "metadata": {},
   "source": [
    "To train a new model, you can follow the following 3-step procedure:\n",
    "\n",
    "1. Choose the parts you want to consider: model, training task, dataset, featurization scheme and auxiliary tasks\n",
    "2. Validate the designed training config\n",
    "3. Use the designed config to train a new model"
   ]
  },
  {
   "cell_type": "markdown",
   "metadata": {},
   "source": [
    "### 1. Choose the parts you want to consider: model, training task, dataset, featurization scheme and auxiliary tasks\n",
    "\n",
    "You can switch out any of these for another available option by replacing the corresponding argument's value in `overrides`:\n",
    "\n",
    "`cfg = hydra.compose(\"template\", overrides=[\"encoder=schnet\", \"task=inverse_folding\", \"dataset=afdb_swissprot_v4\", \"features=ca_base\", \"+aux_task=none\"], return_hydra_config=True)`"
   ]
  },
  {
   "cell_type": "code",
   "execution_count": 7,
   "metadata": {},
   "outputs": [
    {
     "data": {
      "text/html": [
       "<pre style=\"white-space:pre;overflow-x:auto;line-height:normal;font-family:Menlo,'DejaVu Sans Mono',consolas,'Courier New',monospace\"><span style=\"color: #7fbfbf; text-decoration-color: #7fbfbf\">[07/19/24 12:42:39] </span><span style=\"color: #000080; text-decoration-color: #000080\">INFO    </span> Hydra singleton cleared and ready to re-initialise.                     <a href=\"file:///home/zhang/Projects/3d/ProteinWorkshop/proteinworkshop/utils/notebook.py\" target=\"_blank\"><span style=\"color: #7f7f7f; text-decoration-color: #7f7f7f\">notebook.py</span></a><span style=\"color: #7f7f7f; text-decoration-color: #7f7f7f\">:</span><a href=\"file:///home/zhang/Projects/3d/ProteinWorkshop/proteinworkshop/utils/notebook.py#66\" target=\"_blank\"><span style=\"color: #7f7f7f; text-decoration-color: #7f7f7f\">66</span></a>\n",
       "</pre>\n"
      ],
      "text/plain": [
       "\u001b[2;36m[07/19/24 12:42:39]\u001b[0m\u001b[2;36m \u001b[0m\u001b[34mINFO    \u001b[0m Hydra singleton cleared and ready to re-initialise.                     \u001b]8;id=902376;file:///home/zhang/Projects/3d/ProteinWorkshop/proteinworkshop/utils/notebook.py\u001b\\\u001b[2mnotebook.py\u001b[0m\u001b]8;;\u001b\\\u001b[2m:\u001b[0m\u001b]8;id=12797;file:///home/zhang/Projects/3d/ProteinWorkshop/proteinworkshop/utils/notebook.py#66\u001b\\\u001b[2m66\u001b[0m\u001b]8;;\u001b\\\n"
      ]
     },
     "metadata": {},
     "output_type": "display_data"
    },
    {
     "data": {
      "text/html": [
       "<pre style=\"white-space:pre;overflow-x:auto;line-height:normal;font-family:Menlo,'DejaVu Sans Mono',consolas,'Courier New',monospace\"><span style=\"color: #7fbfbf; text-decoration-color: #7fbfbf\">                    </span><span style=\"color: #000080; text-decoration-color: #000080\">INFO    </span> Hydra initialised at                                                    <a href=\"file:///home/zhang/Projects/3d/ProteinWorkshop/proteinworkshop/utils/notebook.py\" target=\"_blank\"><span style=\"color: #7f7f7f; text-decoration-color: #7f7f7f\">notebook.py</span></a><span style=\"color: #7f7f7f; text-decoration-color: #7f7f7f\">:</span><a href=\"file:///home/zhang/Projects/3d/ProteinWorkshop/proteinworkshop/utils/notebook.py#53\" target=\"_blank\"><span style=\"color: #7f7f7f; text-decoration-color: #7f7f7f\">53</span></a>\n",
       "<span style=\"color: #7fbfbf; text-decoration-color: #7fbfbf\">                    </span>         <span style=\"color: #800080; text-decoration-color: #800080\">/home/zhang/Projects/3d/ProteinWorkshop/proteinworkshop/</span><span style=\"color: #ff00ff; text-decoration-color: #ff00ff\">config.</span>         <span style=\"color: #7f7f7f; text-decoration-color: #7f7f7f\">              </span>\n",
       "</pre>\n"
      ],
      "text/plain": [
       "\u001b[2;36m                   \u001b[0m\u001b[2;36m \u001b[0m\u001b[34mINFO    \u001b[0m Hydra initialised at                                                    \u001b]8;id=720914;file:///home/zhang/Projects/3d/ProteinWorkshop/proteinworkshop/utils/notebook.py\u001b\\\u001b[2mnotebook.py\u001b[0m\u001b]8;;\u001b\\\u001b[2m:\u001b[0m\u001b]8;id=971079;file:///home/zhang/Projects/3d/ProteinWorkshop/proteinworkshop/utils/notebook.py#53\u001b\\\u001b[2m53\u001b[0m\u001b]8;;\u001b\\\n",
       "\u001b[2;36m                    \u001b[0m         \u001b[35m/home/zhang/Projects/3d/ProteinWorkshop/proteinworkshop/\u001b[0m\u001b[95mconfig.\u001b[0m         \u001b[2m              \u001b[0m\n"
      ]
     },
     "metadata": {},
     "output_type": "display_data"
    }
   ],
   "source": [
    "# Misc. tools\n",
    "import os\n",
    "\n",
    "# Hydra tools\n",
    "import hydra\n",
    "\n",
    "from hydra.compose import GlobalHydra\n",
    "from hydra.core.hydra_config import HydraConfig\n",
    "\n",
    "from proteinworkshop.constants import HYDRA_CONFIG_PATH\n",
    "from proteinworkshop.utils.notebook import init_hydra_singleton\n",
    "\n",
    "version_base = \"1.2\"  # Note: Need to update whenever Hydra is upgraded\n",
    "init_hydra_singleton(reload=True, version_base=version_base)\n",
    "\n",
    "path = HYDRA_CONFIG_PATH\n",
    "rel_path = os.path.relpath(path, start=\".\")\n",
    "# print(rel_path)\n",
    "GlobalHydra.instance().clear()\n",
    "hydra.initialize(rel_path, version_base=version_base)\n",
    "\n",
    "cfg = hydra.compose(\n",
    "    config_name=\"train\",\n",
    "    overrides=[\n",
    "        \"encoder=pronet\",\n",
    "        \"encoder.level='aminoacid'\",\n",
    "        \"encoder.num_blocks=4\",\n",
    "        \"encoder.hidden_channels=128\",\n",
    "        \"encoder.out_channels=1195\",\n",
    "        \"encoder.mid_emb=64\",\n",
    "        \"encoder.num_radial=6\",\n",
    "        \"encoder.num_spherical=2\",\n",
    "        \"encoder.cutoff=10.0\",\n",
    "        \"encoder.max_num_neighbors=32\",\n",
    "        \"encoder.int_emb_layers=3\",\n",
    "        \"encoder.out_layers=2\",\n",
    "        \"encoder.num_pos_emb=16\",\n",
    "        \"encoder.dropout=0.3\",\n",
    "        \"encoder.data_augment_eachlayer=True\",\n",
    "        \"encoder.euler_noise=False\",\n",
    "        \"encoder.pretraining=False\",\n",
    "        \"encoder.node_embedding=False\",\n",
    "\n",
    "        \"decoder.graph_label.dummy=True\",\n",
    "\n",
    "        \"task=multiclass_graph_classification\",\n",
    "        \"dataset=fold_family\",\n",
    "        \"dataset.datamodule.batch_size=32\",\n",
    "        \"features=ca_base\", \n",
    "        \"+aux_task=none\",\n",
    "        \n",
    "        \"trainer.max_epochs=1000\",\n",
    "        \"optimiser=adam\",\n",
    "        \"optimiser.optimizer.lr=5e-4\",\n",
    "        \"callbacks.early_stopping.patience=20\",\n",
    "        \"test=True\",\n",
    "        \"scheduler=steplr\",\n",
    "\n",
    "        ## for test ONLY\n",
    "        \"task_name=train\"  # here\n",
    "        \"ckpt_path=None\"\n",
    "        # \"optimizer.weight_decay=0.5\"\n",
    "    ],\n",
    "    return_hydra_config=True,\n",
    ")\n",
    "\n",
    "# Note: Customize as needed e.g., when running a sweep\n",
    "cfg.hydra.job.num = 0\n",
    "cfg.hydra.job.id = 0\n",
    "cfg.hydra.hydra_help.hydra_help = False\n",
    "cfg.hydra.runtime.output_dir = \"outputs\"\n",
    "\n",
    "HydraConfig.instance().set_config(cfg)"
   ]
  },
  {
   "cell_type": "markdown",
   "metadata": {},
   "source": [
    "### 2. Validate the designed training config"
   ]
  },
  {
   "cell_type": "markdown",
   "metadata": {},
   "source": [
    "This is not strictly necessary, but it is a good idea to validate the config before training. This will check that all the arguments you have provided are valid and that the config is complete."
   ]
  },
  {
   "cell_type": "code",
   "execution_count": 8,
   "metadata": {},
   "outputs": [
    {
     "data": {
      "text/html": [
       "<pre style=\"white-space:pre;overflow-x:auto;line-height:normal;font-family:Menlo,'DejaVu Sans Mono',consolas,'Courier New',monospace\"><span style=\"color: #7fbfbf; text-decoration-color: #7fbfbf\">[07/19/24 12:42:41] </span><span style=\"color: #008000; text-decoration-color: #008000\">DEBUG   </span> CUDA available: <span style=\"color: #00ff00; text-decoration-color: #00ff00; font-style: italic\">True</span>                                                     <a href=\"file:///home/zhang/Projects/3d/ProteinWorkshop/proteinworkshop/configs/config.py\" target=\"_blank\"><span style=\"color: #7f7f7f; text-decoration-color: #7f7f7f\">config.py</span></a><span style=\"color: #7f7f7f; text-decoration-color: #7f7f7f\">:</span><a href=\"file:///home/zhang/Projects/3d/ProteinWorkshop/proteinworkshop/configs/config.py#249\" target=\"_blank\"><span style=\"color: #7f7f7f; text-decoration-color: #7f7f7f\">249</span></a>\n",
       "</pre>\n"
      ],
      "text/plain": [
       "\u001b[2;36m[07/19/24 12:42:41]\u001b[0m\u001b[2;36m \u001b[0m\u001b[32mDEBUG   \u001b[0m CUDA available: \u001b[3;92mTrue\u001b[0m                                                     \u001b]8;id=222851;file:///home/zhang/Projects/3d/ProteinWorkshop/proteinworkshop/configs/config.py\u001b\\\u001b[2mconfig.py\u001b[0m\u001b]8;;\u001b\\\u001b[2m:\u001b[0m\u001b]8;id=401606;file:///home/zhang/Projects/3d/ProteinWorkshop/proteinworkshop/configs/config.py#249\u001b\\\u001b[2m249\u001b[0m\u001b]8;;\u001b\\\n"
      ]
     },
     "metadata": {},
     "output_type": "display_data"
    },
    {
     "data": {
      "text/html": [
       "<pre style=\"white-space:pre;overflow-x:auto;line-height:normal;font-family:Menlo,'DejaVu Sans Mono',consolas,'Courier New',monospace\"><span style=\"color: #7fbfbf; text-decoration-color: #7fbfbf\">                    </span><span style=\"color: #008000; text-decoration-color: #008000\">DEBUG   </span> Requested GPUs: <span style=\"color: #008080; text-decoration-color: #008080; font-weight: bold\">1</span>.                                                       <a href=\"file:///home/zhang/Projects/3d/ProteinWorkshop/proteinworkshop/configs/config.py\" target=\"_blank\"><span style=\"color: #7f7f7f; text-decoration-color: #7f7f7f\">config.py</span></a><span style=\"color: #7f7f7f; text-decoration-color: #7f7f7f\">:</span><a href=\"file:///home/zhang/Projects/3d/ProteinWorkshop/proteinworkshop/configs/config.py#250\" target=\"_blank\"><span style=\"color: #7f7f7f; text-decoration-color: #7f7f7f\">250</span></a>\n",
       "</pre>\n"
      ],
      "text/plain": [
       "\u001b[2;36m                   \u001b[0m\u001b[2;36m \u001b[0m\u001b[32mDEBUG   \u001b[0m Requested GPUs: \u001b[1;36m1\u001b[0m.                                                       \u001b]8;id=51796;file:///home/zhang/Projects/3d/ProteinWorkshop/proteinworkshop/configs/config.py\u001b\\\u001b[2mconfig.py\u001b[0m\u001b]8;;\u001b\\\u001b[2m:\u001b[0m\u001b]8;id=831831;file:///home/zhang/Projects/3d/ProteinWorkshop/proteinworkshop/configs/config.py#250\u001b\\\u001b[2m250\u001b[0m\u001b]8;;\u001b\\\n"
      ]
     },
     "metadata": {},
     "output_type": "display_data"
    },
    {
     "data": {
      "text/html": [
       "<pre style=\"white-space:pre;overflow-x:auto;line-height:normal;font-family:Menlo,'DejaVu Sans Mono',consolas,'Courier New',monospace\"><span style=\"color: #7fbfbf; text-decoration-color: #7fbfbf\">                    </span><span style=\"color: #008000; text-decoration-color: #008000\">DEBUG   </span> GPU count set to: <span style=\"color: #008080; text-decoration-color: #008080; font-weight: bold\">1</span>                                                      <a href=\"file:///home/zhang/Projects/3d/ProteinWorkshop/proteinworkshop/configs/config.py\" target=\"_blank\"><span style=\"color: #7f7f7f; text-decoration-color: #7f7f7f\">config.py</span></a><span style=\"color: #7f7f7f; text-decoration-color: #7f7f7f\">:</span><a href=\"file:///home/zhang/Projects/3d/ProteinWorkshop/proteinworkshop/configs/config.py#255\" target=\"_blank\"><span style=\"color: #7f7f7f; text-decoration-color: #7f7f7f\">255</span></a>\n",
       "</pre>\n"
      ],
      "text/plain": [
       "\u001b[2;36m                   \u001b[0m\u001b[2;36m \u001b[0m\u001b[32mDEBUG   \u001b[0m GPU count set to: \u001b[1;36m1\u001b[0m                                                      \u001b]8;id=584953;file:///home/zhang/Projects/3d/ProteinWorkshop/proteinworkshop/configs/config.py\u001b\\\u001b[2mconfig.py\u001b[0m\u001b]8;;\u001b\\\u001b[2m:\u001b[0m\u001b]8;id=834580;file:///home/zhang/Projects/3d/ProteinWorkshop/proteinworkshop/configs/config.py#255\u001b\\\u001b[2m255\u001b[0m\u001b]8;;\u001b\\\n"
      ]
     },
     "metadata": {},
     "output_type": "display_data"
    },
    {
     "data": {
      "text/html": [
       "<pre style=\"white-space:pre;overflow-x:auto;line-height:normal;font-family:Menlo,'DejaVu Sans Mono',consolas,'Courier New',monospace\"><span style=\"color: #7fbfbf; text-decoration-color: #7fbfbf\">                    </span><span style=\"color: #800000; text-decoration-color: #800000\">WARNING </span> You are not using early stopping.                                        <a href=\"file:///home/zhang/Projects/3d/ProteinWorkshop/proteinworkshop/configs/config.py\" target=\"_blank\"><span style=\"color: #7f7f7f; text-decoration-color: #7f7f7f\">config.py</span></a><span style=\"color: #7f7f7f; text-decoration-color: #7f7f7f\">:</span><a href=\"file:///home/zhang/Projects/3d/ProteinWorkshop/proteinworkshop/configs/config.py#165\" target=\"_blank\"><span style=\"color: #7f7f7f; text-decoration-color: #7f7f7f\">165</span></a>\n",
       "</pre>\n"
      ],
      "text/plain": [
       "\u001b[2;36m                   \u001b[0m\u001b[2;36m \u001b[0m\u001b[31mWARNING \u001b[0m You are not using early stopping.                                        \u001b]8;id=359994;file:///home/zhang/Projects/3d/ProteinWorkshop/proteinworkshop/configs/config.py\u001b\\\u001b[2mconfig.py\u001b[0m\u001b]8;;\u001b\\\u001b[2m:\u001b[0m\u001b]8;id=265354;file:///home/zhang/Projects/3d/ProteinWorkshop/proteinworkshop/configs/config.py#165\u001b\\\u001b[2m165\u001b[0m\u001b]8;;\u001b\\\n"
      ]
     },
     "metadata": {},
     "output_type": "display_data"
    }
   ],
   "source": [
    "from proteinworkshop.configs import config\n",
    "\n",
    "cfg = config.validate_config(cfg)"
   ]
  },
  {
   "cell_type": "code",
   "execution_count": 4,
   "metadata": {},
   "outputs": [
    {
     "name": "stdout",
     "output_type": "stream",
     "text": [
      "dict_keys(['hydra', 'env', 'dataset', 'features', 'encoder', 'decoder', 'transforms', 'callbacks', 'optimiser', 'scheduler', 'trainer', 'extras', 'metrics', 'task', 'logger', 'name', 'seed', 'num_workers', 'task_name', 'test', 'aux_task'])\n",
      "hydra\n",
      "{'run': {'dir': '${env.paths.log_dir}/${task_name}/runs/${now:%Y-%m-%d}_${now:%H-%M-%S}'}, 'sweep': {'dir': '${env.paths.log_dir}/${task_name}/multiruns/${now:%Y-%m-%d}_${now:%H-%M-%S}', 'subdir': '${hydra.job.num}'}, 'launcher': {'_target_': 'hydra._internal.core_plugins.basic_launcher.BasicLauncher'}, 'sweeper': {'_target_': 'hydra._internal.core_plugins.basic_sweeper.BasicSweeper', 'max_batch_size': None, 'params': None}, 'help': {'app_name': '${hydra.job.name}', 'header': '${hydra.help.app_name} is powered by Hydra.\\n', 'footer': 'Powered by Hydra (https://hydra.cc)\\nUse --hydra-help to view Hydra specific help\\n', 'template': '${hydra.help.header}\\n== Configuration groups ==\\nCompose your configuration from those groups (group=option)\\n\\n$APP_CONFIG_GROUPS\\n\\n== Config ==\\nOverride anything in the config (foo.bar=value)\\n\\n$CONFIG\\n\\n${hydra.help.footer}\\n'}, 'hydra_help': {'template': \"Hydra (${hydra.runtime.version})\\nSee https://hydra.cc for more info.\\n\\n== Flags ==\\n$FLAGS_HELP\\n\\n== Configuration groups ==\\nCompose your configuration from those groups (For example, append hydra/job_logging=disabled to command line)\\n\\n$HYDRA_CONFIG_GROUPS\\n\\nUse '--cfg hydra' to Show the Hydra config.\\n\", 'hydra_help': 'False'}, 'hydra_logging': {'version': 1, 'formatters': {'colorlog': {'()': 'colorlog.ColoredFormatter', 'format': '[%(cyan)s%(asctime)s%(reset)s][%(purple)sHYDRA%(reset)s] %(message)s'}}, 'handlers': {'console': {'class': 'logging.StreamHandler', 'formatter': 'colorlog', 'stream': 'ext://sys.stdout'}}, 'root': {'level': 'INFO', 'handlers': ['console']}, 'disable_existing_loggers': False}, 'job_logging': {'version': 1, 'formatters': {'simple': {'format': '[%(asctime)s][%(name)s][%(levelname)s] - %(message)s'}, 'colorlog': {'()': 'colorlog.ColoredFormatter', 'format': '[%(cyan)s%(asctime)s%(reset)s][%(blue)s%(name)s%(reset)s][%(log_color)s%(levelname)s%(reset)s] - %(message)s', 'log_colors': {'DEBUG': 'purple', 'INFO': 'green', 'WARNING': 'yellow', 'ERROR': 'red', 'CRITICAL': 'red'}}}, 'handlers': {'console': {'class': 'logging.StreamHandler', 'formatter': 'colorlog', 'stream': 'ext://sys.stdout'}, 'file': {'class': 'logging.FileHandler', 'formatter': 'simple', 'filename': '${hydra.runtime.output_dir}/${hydra.job.name}.log'}}, 'root': {'level': 'INFO', 'handlers': ['console', 'file']}, 'disable_existing_loggers': False}, 'env': {}, 'mode': None, 'searchpath': [], 'callbacks': {}, 'output_subdir': '.hydra', 'overrides': {'hydra': [], 'task': ['encoder=pronet', \"encoder.level='aminoacid'\", 'encoder.num_blocks=4', 'encoder.hidden_channels=128', 'encoder.out_channels=1195', 'encoder.mid_emb=64', 'encoder.num_radial=6', 'encoder.num_spherical=2', 'encoder.cutoff=10.0', 'encoder.max_num_neighbors=32', 'encoder.int_emb_layers=3', 'encoder.out_layers=2', 'encoder.num_pos_emb=16', 'encoder.dropout=0.3', 'encoder.data_augment_eachlayer=True', 'encoder.euler_noise=False', 'encoder.pretraining=False', 'encoder.node_embedding=False', 'decoder.graph_label.dummy=True', 'task=multiclass_graph_classification', 'dataset=fold_family', 'dataset.datamodule.batch_size=32', 'features=ca_base', '+aux_task=none', 'trainer.max_epochs=1000', 'optimiser=adam', 'optimiser.optimizer.lr=5e-4', 'callbacks.early_stopping.patience=20', 'test=True', 'scheduler=steplr']}, 'job': {'name': 'notebook', 'chdir': None, 'override_dirname': \"+aux_task=none,callbacks.early_stopping.patience=20,dataset.datamodule.batch_size=32,dataset=fold_family,decoder.graph_label.dummy=True,encoder.cutoff=10.0,encoder.data_augment_eachlayer=True,encoder.dropout=0.3,encoder.euler_noise=False,encoder.hidden_channels=128,encoder.int_emb_layers=3,encoder.level='aminoacid',encoder.max_num_neighbors=32,encoder.mid_emb=64,encoder.node_embedding=False,encoder.num_blocks=4,encoder.num_pos_emb=16,encoder.num_radial=6,encoder.num_spherical=2,encoder.out_channels=1195,encoder.out_layers=2,encoder.pretraining=False,encoder=pronet,features=ca_base,optimiser.optimizer.lr=5e-4,optimiser=adam,scheduler=steplr,task=multiclass_graph_classification,test=True,trainer.max_epochs=1000\", 'id': '0', 'num': 0, 'config_name': 'train1', 'env_set': {}, 'env_copy': [], 'config': {'override_dirname': {'kv_sep': '=', 'item_sep': ',', 'exclude_keys': []}}}, 'runtime': {'version': '1.3.2', 'version_base': '1.2', 'cwd': '/home/zhang/Projects/3d/ProteinWorkshop/notebooks', 'config_sources': [{'path': 'hydra.conf', 'schema': 'pkg', 'provider': 'hydra'}, {'path': '/home/zhang/Projects/3d/ProteinWorkshop/proteinworkshop/config', 'schema': 'file', 'provider': 'main'}, {'path': 'hydra_plugins.hydra_colorlog.conf', 'schema': 'pkg', 'provider': 'hydra-colorlog'}, {'path': '', 'schema': 'structured', 'provider': 'schema'}], 'output_dir': 'outputs', 'choices': {'aux_task': 'none', 'debug': None, 'logger': 'csv', 'task': 'multiclass_graph_classification', 'hydra': 'default', 'extras': 'default', 'trainer': 'gpu', 'scheduler': 'steplr', 'optimiser': 'adam', 'callbacks': 'default', 'transforms': 'default', 'encoder': 'pronet', 'features': 'ca_base', 'dataset': 'fold_family', 'env': 'default', 'hparams': 'pronet_ca_base', 'hydra/env': 'default', 'hydra/callbacks': None, 'hydra/job_logging': 'colorlog', 'hydra/hydra_logging': 'colorlog', 'hydra/hydra_help': 'default', 'hydra/help': 'default', 'hydra/sweeper': 'basic', 'hydra/launcher': 'basic', 'hydra/output': 'default'}}, 'verbose': False}\n",
      "env\n",
      "{'paths': {'root_dir': '${oc.env:ROOT_DIR}', 'data': '${oc.env:DATA_PATH}', 'output_dir': '${hydra:runtime.output_dir}', 'work_dir': '${hydra:runtime.cwd}', 'log_dir': '${oc.env:RUNS_PATH}', 'runs': '${oc.env:RUNS_PATH}', 'run_dir': '${env.paths.runs}/${name}/${env.init_time}'}, 'python': {'version': '${python_version:micro}'}, 'init_time': '${now:%y-%m-%d_%H:%M:%S}'}\n",
      "dataset\n",
      "{'datamodule': {'_target_': 'proteinworkshop.datasets.fold_classification.FoldClassificationDataModule', 'path': '${env.paths.data}/FoldClassification/', 'split': 'family', 'batch_size': 32, 'pin_memory': True, 'num_workers': 4, 'dataset_fraction': 1.0, 'shuffle_labels': False, 'transforms': '${transforms}', 'overwrite': False, 'in_memory': True}, 'num_classes': 1195}\n",
      "features\n",
      "{'_target_': 'proteinworkshop.features.factory.ProteinFeaturiser', 'representation': 'CA', 'scalar_node_features': ['amino_acid_one_hot'], 'vector_node_features': [], 'edge_types': ['knn_16'], 'scalar_edge_features': ['edge_distance'], 'vector_edge_features': []}\n",
      "encoder\n",
      "{'_target_': 'proteinworkshop.models.graph_encoders.pronet.ProNet', 'level': 'aminoacid', 'num_blocks': 4, 'hidden_channels': 128, 'out_channels': 1195, 'mid_emb': 64, 'num_radial': 6, 'num_spherical': 2, 'cutoff': 10.0, 'max_num_neighbors': 32, 'int_emb_layers': 3, 'out_layers': 2, 'num_pos_emb': 16, 'dropout': 0.3, 'data_augment_eachlayer': True, 'euler_noise': False, 'pretraining': False, 'node_embedding': False}\n",
      "decoder\n",
      "{'graph_label': {'_target_': 'proteinworkshop.models.decoders.mlp_decoder.MLPDecoder', 'hidden_dim': [512, 512, 512], 'dropout': 0.0, 'activations': ['relu', 'relu', 'relu', 'none'], 'skip': 'concat', 'out_dim': '${dataset.num_classes}', 'input': 'graph_embedding', 'dummy': True}}\n",
      "transforms\n",
      "{'remove_missing_ca': {'_target_': 'proteinworkshop.tasks.remove_missing_ca.RemoveMissingCa', 'fill_value': 1e-05, 'ca_idx': 1}}\n",
      "callbacks\n",
      "{'model_checkpoint': {'_target_': 'lightning.pytorch.callbacks.ModelCheckpoint', 'dirpath': '${env.paths.output_dir}/checkpoints', 'filename': 'epoch_{epoch:03d}', 'monitor': 'val/graph_label/accuracy', 'verbose': True, 'save_last': True, 'save_top_k': 1, 'mode': 'max', 'auto_insert_metric_name': False, 'save_weights_only': False, 'every_n_train_steps': None, 'train_time_interval': None, 'every_n_epochs': None, 'save_on_train_epoch_end': None}, 'early_stopping': {'_target_': 'lightning.pytorch.callbacks.EarlyStopping', 'monitor': 'val/graph_label/accuracy', 'min_delta': 0.0, 'patience': 20, 'verbose': True, 'mode': 'max', 'strict': True, 'check_finite': True, 'stopping_threshold': None, 'divergence_threshold': None, 'check_on_train_epoch_end': False}, 'model_summary': {'_target_': 'lightning.pytorch.callbacks.RichModelSummary', 'max_depth': -1}, 'rich_progress_bar': {'_target_': 'lightning.pytorch.callbacks.RichProgressBar'}, 'learning_rate_monitor': {'_target_': 'lightning.pytorch.callbacks.LearningRateMonitor'}, 'stop_on_nan': {'_target_': 'lightning.pytorch.callbacks.EarlyStopping', 'monitor': 'train/loss/total', 'min_delta': 0.0, 'patience': 10000000, 'verbose': True, 'mode': 'min', 'strict': True, 'check_finite': True, 'stopping_threshold': None, 'divergence_threshold': None, 'check_on_train_epoch_end': None}}\n",
      "optimiser\n",
      "{'optimizer': {'_target_': 'torch.optim.Adam', '_partial_': True, 'lr': 0.0005, 'weight_decay': 0.0}}\n",
      "scheduler\n",
      "{'scheduler': {'_target_': 'torch.optim.lr_scheduler.StepLR', '_partial_': True, 'step_size': 150, 'gamma': 0.3}, 'interval': 'epoch', 'frequency': 1, 'name': 'learning_rate'}\n",
      "trainer\n",
      "{'_target_': 'lightning.pytorch.trainer.Trainer', 'default_root_dir': '${env.paths.output_dir}', 'min_epochs': 1, 'max_epochs': 1000, 'accelerator': 'gpu', 'check_val_every_n_epoch': 1, 'deterministic': False, 'num_sanity_val_steps': 2, 'devices': 1}\n",
      "extras\n",
      "{'ignore_warnings': True, 'enforce_tags': False, 'print_config': True}\n",
      "metrics\n",
      "{'accuracy': {'_target_': 'torchmetrics.Accuracy', 'task': '${task.classification_type}', 'average': '${task.metric_average}', 'num_classes': '${dataset.num_classes}', 'top_k': 1}, 'f1_score': {'_target_': 'torchmetrics.F1Score', 'average': 'macro', 'num_classes': '${dataset.num_classes}', 'task': '${task.classification_type}'}, 'f1_max': {'_target_': 'proteinworkshop.metrics.f1_max.F1Max', 'num_classes': '${dataset.num_classes}'}}\n",
      "task\n",
      "{'task': 'classification', 'classification_type': 'multiclass', 'metric_average': 'micro', 'losses': {'graph_label': 'cross_entropy'}, 'label_smoothing': 0.0, 'output': ['graph_label'], 'supervise_on': ['graph_label']}\n",
      "logger\n",
      "{'csv': {'_target_': 'lightning.pytorch.loggers.csv_logs.CSVLogger', 'save_dir': '${env.paths.output_dir}', 'name': 'csv/', 'prefix': ''}}\n",
      "name\n",
      "\n",
      "seed\n",
      "52\n",
      "num_workers\n",
      "16\n",
      "task_name\n",
      "train\n",
      "test\n",
      "True\n",
      "aux_task\n",
      "{}\n"
     ]
    }
   ],
   "source": [
    "print(cfg.keys())\n",
    "for key in cfg.keys():\n",
    "    print(key)\n",
    "    print(cfg[key])"
   ]
  },
  {
   "cell_type": "markdown",
   "metadata": {},
   "source": [
    "### 3. Use the designed config to train a new model"
   ]
  },
  {
   "cell_type": "markdown",
   "metadata": {},
   "source": [
    "Now with the config you have designed, you can train a new model. You can also use the `ProteinWorkshop` to evaluate the model on a downstream task."
   ]
  },
  {
   "cell_type": "code",
   "execution_count": 5,
   "metadata": {},
   "outputs": [
    {
     "name": "stderr",
     "output_type": "stream",
     "text": [
      "Seed set to 52\n"
     ]
    },
    {
     "data": {
      "text/html": [
       "<pre style=\"white-space:pre;overflow-x:auto;line-height:normal;font-family:Menlo,'DejaVu Sans Mono',consolas,'Courier New',monospace\"><span style=\"color: #7fbfbf; text-decoration-color: #7fbfbf\">[07/11/24 18:04:30] </span><span style=\"color: #000080; text-decoration-color: #000080\">INFO    </span> Instantiating datamodule:                                                  <a href=\"file:///home/yang/Yang_ZHANG/Projects/3d/ProteinWorkshop/proteinworkshop/train.py\" target=\"_blank\"><span style=\"color: #7f7f7f; text-decoration-color: #7f7f7f\">train.py</span></a><span style=\"color: #7f7f7f; text-decoration-color: #7f7f7f\">:</span><a href=\"file:///home/yang/Yang_ZHANG/Projects/3d/ProteinWorkshop/proteinworkshop/train.py#99\" target=\"_blank\"><span style=\"color: #7f7f7f; text-decoration-color: #7f7f7f\">99</span></a>\n",
       "<span style=\"color: #7fbfbf; text-decoration-color: #7fbfbf\">                    </span>         &lt;proteinworkshop.datasets.fold_classification.FoldClassificationDataModule <span style=\"color: #7f7f7f; text-decoration-color: #7f7f7f\">           </span>\n",
       "<span style=\"color: #7fbfbf; text-decoration-color: #7fbfbf\">                    </span>         <span style=\"color: #808000; text-decoration-color: #808000\">...</span>                                                                        <span style=\"color: #7f7f7f; text-decoration-color: #7f7f7f\">           </span>\n",
       "</pre>\n"
      ],
      "text/plain": [
       "\u001b[2;36m[07/11/24 18:04:30]\u001b[0m\u001b[2;36m \u001b[0m\u001b[34mINFO    \u001b[0m Instantiating datamodule:                                                  \u001b]8;id=896664;file:///home/yang/Yang_ZHANG/Projects/3d/ProteinWorkshop/proteinworkshop/train.py\u001b\\\u001b[2mtrain.py\u001b[0m\u001b]8;;\u001b\\\u001b[2m:\u001b[0m\u001b]8;id=987468;file:///home/yang/Yang_ZHANG/Projects/3d/ProteinWorkshop/proteinworkshop/train.py#99\u001b\\\u001b[2m99\u001b[0m\u001b]8;;\u001b\\\n",
       "\u001b[2;36m                    \u001b[0m         <proteinworkshop.datasets.fold_classification.FoldClassificationDataModule \u001b[2m           \u001b[0m\n",
       "\u001b[2;36m                    \u001b[0m         \u001b[33m...\u001b[0m                                                                        \u001b[2m           \u001b[0m\n"
      ]
     },
     "metadata": {},
     "output_type": "display_data"
    },
    {
     "data": {
      "text/html": [
       "<pre style=\"white-space:pre;overflow-x:auto;line-height:normal;font-family:Menlo,'DejaVu Sans Mono',consolas,'Courier New',monospace\"><span style=\"color: #7fbfbf; text-decoration-color: #7fbfbf\">                    </span><span style=\"color: #000080; text-decoration-color: #000080\">INFO    </span> Instantiating callbacks<span style=\"color: #808000; text-decoration-color: #808000\">...</span>                                                <a href=\"file:///home/yang/Yang_ZHANG/Projects/3d/ProteinWorkshop/proteinworkshop/train.py\" target=\"_blank\"><span style=\"color: #7f7f7f; text-decoration-color: #7f7f7f\">train.py</span></a><span style=\"color: #7f7f7f; text-decoration-color: #7f7f7f\">:</span><a href=\"file:///home/yang/Yang_ZHANG/Projects/3d/ProteinWorkshop/proteinworkshop/train.py#106\" target=\"_blank\"><span style=\"color: #7f7f7f; text-decoration-color: #7f7f7f\">106</span></a>\n",
       "</pre>\n"
      ],
      "text/plain": [
       "\u001b[2;36m                   \u001b[0m\u001b[2;36m \u001b[0m\u001b[34mINFO    \u001b[0m Instantiating callbacks\u001b[33m...\u001b[0m                                                \u001b]8;id=166878;file:///home/yang/Yang_ZHANG/Projects/3d/ProteinWorkshop/proteinworkshop/train.py\u001b\\\u001b[2mtrain.py\u001b[0m\u001b]8;;\u001b\\\u001b[2m:\u001b[0m\u001b]8;id=837528;file:///home/yang/Yang_ZHANG/Projects/3d/ProteinWorkshop/proteinworkshop/train.py#106\u001b\\\u001b[2m106\u001b[0m\u001b]8;;\u001b\\\n"
      ]
     },
     "metadata": {},
     "output_type": "display_data"
    },
    {
     "data": {
      "text/html": [
       "<pre style=\"white-space:pre;overflow-x:auto;line-height:normal;font-family:Menlo,'DejaVu Sans Mono',consolas,'Courier New',monospace\"><span style=\"color: #7fbfbf; text-decoration-color: #7fbfbf\">                    </span><span style=\"color: #000080; text-decoration-color: #000080\">INFO    </span> Instantiating callback <span style=\"font-weight: bold\">&lt;</span><span style=\"color: #ff00ff; text-decoration-color: #ff00ff; font-weight: bold\">lightning.pytorch.callbacks.ModelCheckpoint</span><span style=\"font-weight: bold\">&gt;</span>   <a href=\"file:///home/yang/Yang_ZHANG/Projects/3d/ProteinWorkshop/proteinworkshop/utils/callbacks.py\" target=\"_blank\"><span style=\"color: #7f7f7f; text-decoration-color: #7f7f7f\">callbacks.py</span></a><span style=\"color: #7f7f7f; text-decoration-color: #7f7f7f\">:</span><a href=\"file:///home/yang/Yang_ZHANG/Projects/3d/ProteinWorkshop/proteinworkshop/utils/callbacks.py#31\" target=\"_blank\"><span style=\"color: #7f7f7f; text-decoration-color: #7f7f7f\">31</span></a>\n",
       "</pre>\n"
      ],
      "text/plain": [
       "\u001b[2;36m                   \u001b[0m\u001b[2;36m \u001b[0m\u001b[34mINFO    \u001b[0m Instantiating callback \u001b[1m<\u001b[0m\u001b[1;95mlightning.pytorch.callbacks.ModelCheckpoint\u001b[0m\u001b[1m>\u001b[0m   \u001b]8;id=1185;file:///home/yang/Yang_ZHANG/Projects/3d/ProteinWorkshop/proteinworkshop/utils/callbacks.py\u001b\\\u001b[2mcallbacks.py\u001b[0m\u001b]8;;\u001b\\\u001b[2m:\u001b[0m\u001b]8;id=35855;file:///home/yang/Yang_ZHANG/Projects/3d/ProteinWorkshop/proteinworkshop/utils/callbacks.py#31\u001b\\\u001b[2m31\u001b[0m\u001b]8;;\u001b\\\n"
      ]
     },
     "metadata": {},
     "output_type": "display_data"
    },
    {
     "data": {
      "text/html": [
       "<pre style=\"white-space:pre;overflow-x:auto;line-height:normal;font-family:Menlo,'DejaVu Sans Mono',consolas,'Courier New',monospace\"><span style=\"color: #7fbfbf; text-decoration-color: #7fbfbf\">                    </span><span style=\"color: #000080; text-decoration-color: #000080\">INFO    </span> Instantiating callback <span style=\"font-weight: bold\">&lt;</span><span style=\"color: #ff00ff; text-decoration-color: #ff00ff; font-weight: bold\">lightning.pytorch.callbacks.EarlyStopping</span><span style=\"font-weight: bold\">&gt;</span>     <a href=\"file:///home/yang/Yang_ZHANG/Projects/3d/ProteinWorkshop/proteinworkshop/utils/callbacks.py\" target=\"_blank\"><span style=\"color: #7f7f7f; text-decoration-color: #7f7f7f\">callbacks.py</span></a><span style=\"color: #7f7f7f; text-decoration-color: #7f7f7f\">:</span><a href=\"file:///home/yang/Yang_ZHANG/Projects/3d/ProteinWorkshop/proteinworkshop/utils/callbacks.py#31\" target=\"_blank\"><span style=\"color: #7f7f7f; text-decoration-color: #7f7f7f\">31</span></a>\n",
       "</pre>\n"
      ],
      "text/plain": [
       "\u001b[2;36m                   \u001b[0m\u001b[2;36m \u001b[0m\u001b[34mINFO    \u001b[0m Instantiating callback \u001b[1m<\u001b[0m\u001b[1;95mlightning.pytorch.callbacks.EarlyStopping\u001b[0m\u001b[1m>\u001b[0m     \u001b]8;id=248769;file:///home/yang/Yang_ZHANG/Projects/3d/ProteinWorkshop/proteinworkshop/utils/callbacks.py\u001b\\\u001b[2mcallbacks.py\u001b[0m\u001b]8;;\u001b\\\u001b[2m:\u001b[0m\u001b]8;id=72738;file:///home/yang/Yang_ZHANG/Projects/3d/ProteinWorkshop/proteinworkshop/utils/callbacks.py#31\u001b\\\u001b[2m31\u001b[0m\u001b]8;;\u001b\\\n"
      ]
     },
     "metadata": {},
     "output_type": "display_data"
    },
    {
     "data": {
      "text/html": [
       "<pre style=\"white-space:pre;overflow-x:auto;line-height:normal;font-family:Menlo,'DejaVu Sans Mono',consolas,'Courier New',monospace\"><span style=\"color: #7fbfbf; text-decoration-color: #7fbfbf\">                    </span><span style=\"color: #000080; text-decoration-color: #000080\">INFO    </span> Instantiating callback <span style=\"font-weight: bold\">&lt;</span><span style=\"color: #ff00ff; text-decoration-color: #ff00ff; font-weight: bold\">lightning.pytorch.callbacks.RichModelSummary</span><span style=\"font-weight: bold\">&gt;</span>  <a href=\"file:///home/yang/Yang_ZHANG/Projects/3d/ProteinWorkshop/proteinworkshop/utils/callbacks.py\" target=\"_blank\"><span style=\"color: #7f7f7f; text-decoration-color: #7f7f7f\">callbacks.py</span></a><span style=\"color: #7f7f7f; text-decoration-color: #7f7f7f\">:</span><a href=\"file:///home/yang/Yang_ZHANG/Projects/3d/ProteinWorkshop/proteinworkshop/utils/callbacks.py#31\" target=\"_blank\"><span style=\"color: #7f7f7f; text-decoration-color: #7f7f7f\">31</span></a>\n",
       "</pre>\n"
      ],
      "text/plain": [
       "\u001b[2;36m                   \u001b[0m\u001b[2;36m \u001b[0m\u001b[34mINFO    \u001b[0m Instantiating callback \u001b[1m<\u001b[0m\u001b[1;95mlightning.pytorch.callbacks.RichModelSummary\u001b[0m\u001b[1m>\u001b[0m  \u001b]8;id=655443;file:///home/yang/Yang_ZHANG/Projects/3d/ProteinWorkshop/proteinworkshop/utils/callbacks.py\u001b\\\u001b[2mcallbacks.py\u001b[0m\u001b]8;;\u001b\\\u001b[2m:\u001b[0m\u001b]8;id=287690;file:///home/yang/Yang_ZHANG/Projects/3d/ProteinWorkshop/proteinworkshop/utils/callbacks.py#31\u001b\\\u001b[2m31\u001b[0m\u001b]8;;\u001b\\\n"
      ]
     },
     "metadata": {},
     "output_type": "display_data"
    },
    {
     "data": {
      "text/html": [
       "<pre style=\"white-space:pre;overflow-x:auto;line-height:normal;font-family:Menlo,'DejaVu Sans Mono',consolas,'Courier New',monospace\"><span style=\"color: #7fbfbf; text-decoration-color: #7fbfbf\">                    </span><span style=\"color: #000080; text-decoration-color: #000080\">INFO    </span> Instantiating callback <span style=\"font-weight: bold\">&lt;</span><span style=\"color: #ff00ff; text-decoration-color: #ff00ff; font-weight: bold\">lightning.pytorch.callbacks.RichProgressBar</span><span style=\"font-weight: bold\">&gt;</span>   <a href=\"file:///home/yang/Yang_ZHANG/Projects/3d/ProteinWorkshop/proteinworkshop/utils/callbacks.py\" target=\"_blank\"><span style=\"color: #7f7f7f; text-decoration-color: #7f7f7f\">callbacks.py</span></a><span style=\"color: #7f7f7f; text-decoration-color: #7f7f7f\">:</span><a href=\"file:///home/yang/Yang_ZHANG/Projects/3d/ProteinWorkshop/proteinworkshop/utils/callbacks.py#31\" target=\"_blank\"><span style=\"color: #7f7f7f; text-decoration-color: #7f7f7f\">31</span></a>\n",
       "</pre>\n"
      ],
      "text/plain": [
       "\u001b[2;36m                   \u001b[0m\u001b[2;36m \u001b[0m\u001b[34mINFO    \u001b[0m Instantiating callback \u001b[1m<\u001b[0m\u001b[1;95mlightning.pytorch.callbacks.RichProgressBar\u001b[0m\u001b[1m>\u001b[0m   \u001b]8;id=128786;file:///home/yang/Yang_ZHANG/Projects/3d/ProteinWorkshop/proteinworkshop/utils/callbacks.py\u001b\\\u001b[2mcallbacks.py\u001b[0m\u001b]8;;\u001b\\\u001b[2m:\u001b[0m\u001b]8;id=899088;file:///home/yang/Yang_ZHANG/Projects/3d/ProteinWorkshop/proteinworkshop/utils/callbacks.py#31\u001b\\\u001b[2m31\u001b[0m\u001b]8;;\u001b\\\n"
      ]
     },
     "metadata": {},
     "output_type": "display_data"
    },
    {
     "data": {
      "text/html": [
       "<pre style=\"white-space:pre;overflow-x:auto;line-height:normal;font-family:Menlo,'DejaVu Sans Mono',consolas,'Courier New',monospace\"><span style=\"color: #7fbfbf; text-decoration-color: #7fbfbf\">                    </span><span style=\"color: #000080; text-decoration-color: #000080\">INFO    </span> Instantiating callback                                                 <a href=\"file:///home/yang/Yang_ZHANG/Projects/3d/ProteinWorkshop/proteinworkshop/utils/callbacks.py\" target=\"_blank\"><span style=\"color: #7f7f7f; text-decoration-color: #7f7f7f\">callbacks.py</span></a><span style=\"color: #7f7f7f; text-decoration-color: #7f7f7f\">:</span><a href=\"file:///home/yang/Yang_ZHANG/Projects/3d/ProteinWorkshop/proteinworkshop/utils/callbacks.py#31\" target=\"_blank\"><span style=\"color: #7f7f7f; text-decoration-color: #7f7f7f\">31</span></a>\n",
       "<span style=\"color: #7fbfbf; text-decoration-color: #7fbfbf\">                    </span>         <span style=\"font-weight: bold\">&lt;</span><span style=\"color: #ff00ff; text-decoration-color: #ff00ff; font-weight: bold\">lightning.pytorch.callbacks.LearningRateMonitor</span><span style=\"font-weight: bold\">&gt;</span>                      <span style=\"color: #7f7f7f; text-decoration-color: #7f7f7f\">               </span>\n",
       "</pre>\n"
      ],
      "text/plain": [
       "\u001b[2;36m                   \u001b[0m\u001b[2;36m \u001b[0m\u001b[34mINFO    \u001b[0m Instantiating callback                                                 \u001b]8;id=396582;file:///home/yang/Yang_ZHANG/Projects/3d/ProteinWorkshop/proteinworkshop/utils/callbacks.py\u001b\\\u001b[2mcallbacks.py\u001b[0m\u001b]8;;\u001b\\\u001b[2m:\u001b[0m\u001b]8;id=993710;file:///home/yang/Yang_ZHANG/Projects/3d/ProteinWorkshop/proteinworkshop/utils/callbacks.py#31\u001b\\\u001b[2m31\u001b[0m\u001b]8;;\u001b\\\n",
       "\u001b[2;36m                    \u001b[0m         \u001b[1m<\u001b[0m\u001b[1;95mlightning.pytorch.callbacks.LearningRateMonitor\u001b[0m\u001b[1m>\u001b[0m                      \u001b[2m               \u001b[0m\n"
      ]
     },
     "metadata": {},
     "output_type": "display_data"
    },
    {
     "data": {
      "text/html": [
       "<pre style=\"white-space:pre;overflow-x:auto;line-height:normal;font-family:Menlo,'DejaVu Sans Mono',consolas,'Courier New',monospace\"><span style=\"color: #7fbfbf; text-decoration-color: #7fbfbf\">                    </span><span style=\"color: #000080; text-decoration-color: #000080\">INFO    </span> Instantiating callback <span style=\"font-weight: bold\">&lt;</span><span style=\"color: #ff00ff; text-decoration-color: #ff00ff; font-weight: bold\">lightning.pytorch.callbacks.EarlyStopping</span><span style=\"font-weight: bold\">&gt;</span>     <a href=\"file:///home/yang/Yang_ZHANG/Projects/3d/ProteinWorkshop/proteinworkshop/utils/callbacks.py\" target=\"_blank\"><span style=\"color: #7f7f7f; text-decoration-color: #7f7f7f\">callbacks.py</span></a><span style=\"color: #7f7f7f; text-decoration-color: #7f7f7f\">:</span><a href=\"file:///home/yang/Yang_ZHANG/Projects/3d/ProteinWorkshop/proteinworkshop/utils/callbacks.py#31\" target=\"_blank\"><span style=\"color: #7f7f7f; text-decoration-color: #7f7f7f\">31</span></a>\n",
       "</pre>\n"
      ],
      "text/plain": [
       "\u001b[2;36m                   \u001b[0m\u001b[2;36m \u001b[0m\u001b[34mINFO    \u001b[0m Instantiating callback \u001b[1m<\u001b[0m\u001b[1;95mlightning.pytorch.callbacks.EarlyStopping\u001b[0m\u001b[1m>\u001b[0m     \u001b]8;id=935800;file:///home/yang/Yang_ZHANG/Projects/3d/ProteinWorkshop/proteinworkshop/utils/callbacks.py\u001b\\\u001b[2mcallbacks.py\u001b[0m\u001b]8;;\u001b\\\u001b[2m:\u001b[0m\u001b]8;id=924324;file:///home/yang/Yang_ZHANG/Projects/3d/ProteinWorkshop/proteinworkshop/utils/callbacks.py#31\u001b\\\u001b[2m31\u001b[0m\u001b]8;;\u001b\\\n"
      ]
     },
     "metadata": {},
     "output_type": "display_data"
    },
    {
     "data": {
      "text/html": [
       "<pre style=\"white-space:pre;overflow-x:auto;line-height:normal;font-family:Menlo,'DejaVu Sans Mono',consolas,'Courier New',monospace\"><span style=\"color: #7fbfbf; text-decoration-color: #7fbfbf\">                    </span><span style=\"color: #000080; text-decoration-color: #000080\">INFO    </span> Instantiating loggers<span style=\"color: #808000; text-decoration-color: #808000\">...</span>                                                  <a href=\"file:///home/yang/Yang_ZHANG/Projects/3d/ProteinWorkshop/proteinworkshop/train.py\" target=\"_blank\"><span style=\"color: #7f7f7f; text-decoration-color: #7f7f7f\">train.py</span></a><span style=\"color: #7f7f7f; text-decoration-color: #7f7f7f\">:</span><a href=\"file:///home/yang/Yang_ZHANG/Projects/3d/ProteinWorkshop/proteinworkshop/train.py#111\" target=\"_blank\"><span style=\"color: #7f7f7f; text-decoration-color: #7f7f7f\">111</span></a>\n",
       "</pre>\n"
      ],
      "text/plain": [
       "\u001b[2;36m                   \u001b[0m\u001b[2;36m \u001b[0m\u001b[34mINFO    \u001b[0m Instantiating loggers\u001b[33m...\u001b[0m                                                  \u001b]8;id=545720;file:///home/yang/Yang_ZHANG/Projects/3d/ProteinWorkshop/proteinworkshop/train.py\u001b\\\u001b[2mtrain.py\u001b[0m\u001b]8;;\u001b\\\u001b[2m:\u001b[0m\u001b]8;id=702368;file:///home/yang/Yang_ZHANG/Projects/3d/ProteinWorkshop/proteinworkshop/train.py#111\u001b\\\u001b[2m111\u001b[0m\u001b]8;;\u001b\\\n"
      ]
     },
     "metadata": {},
     "output_type": "display_data"
    },
    {
     "data": {
      "text/html": [
       "<pre style=\"white-space:pre;overflow-x:auto;line-height:normal;font-family:Menlo,'DejaVu Sans Mono',consolas,'Courier New',monospace\"><span style=\"color: #7fbfbf; text-decoration-color: #7fbfbf\">                    </span><span style=\"color: #000080; text-decoration-color: #000080\">INFO    </span> Instantiating logger <span style=\"font-weight: bold\">&lt;</span><span style=\"color: #ff00ff; text-decoration-color: #ff00ff; font-weight: bold\">lightning.pytorch.loggers.csv_logs.CSVLogger</span><span style=\"font-weight: bold\">&gt;</span>      <a href=\"file:///home/yang/Yang_ZHANG/Projects/3d/ProteinWorkshop/proteinworkshop/utils/loggers.py\" target=\"_blank\"><span style=\"color: #7f7f7f; text-decoration-color: #7f7f7f\">loggers.py</span></a><span style=\"color: #7f7f7f; text-decoration-color: #7f7f7f\">:</span><a href=\"file:///home/yang/Yang_ZHANG/Projects/3d/ProteinWorkshop/proteinworkshop/utils/loggers.py#31\" target=\"_blank\"><span style=\"color: #7f7f7f; text-decoration-color: #7f7f7f\">31</span></a>\n",
       "</pre>\n"
      ],
      "text/plain": [
       "\u001b[2;36m                   \u001b[0m\u001b[2;36m \u001b[0m\u001b[34mINFO    \u001b[0m Instantiating logger \u001b[1m<\u001b[0m\u001b[1;95mlightning.pytorch.loggers.csv_logs.CSVLogger\u001b[0m\u001b[1m>\u001b[0m      \u001b]8;id=193480;file:///home/yang/Yang_ZHANG/Projects/3d/ProteinWorkshop/proteinworkshop/utils/loggers.py\u001b\\\u001b[2mloggers.py\u001b[0m\u001b]8;;\u001b\\\u001b[2m:\u001b[0m\u001b]8;id=825667;file:///home/yang/Yang_ZHANG/Projects/3d/ProteinWorkshop/proteinworkshop/utils/loggers.py#31\u001b\\\u001b[2m31\u001b[0m\u001b]8;;\u001b\\\n"
      ]
     },
     "metadata": {},
     "output_type": "display_data"
    },
    {
     "data": {
      "text/html": [
       "<pre style=\"white-space:pre;overflow-x:auto;line-height:normal;font-family:Menlo,'DejaVu Sans Mono',consolas,'Courier New',monospace\"><span style=\"color: #7fbfbf; text-decoration-color: #7fbfbf\">                    </span><span style=\"color: #000080; text-decoration-color: #000080\">INFO    </span> Instantiating trainer<span style=\"color: #808000; text-decoration-color: #808000\">...</span>                                                  <a href=\"file:///home/yang/Yang_ZHANG/Projects/3d/ProteinWorkshop/proteinworkshop/train.py\" target=\"_blank\"><span style=\"color: #7f7f7f; text-decoration-color: #7f7f7f\">train.py</span></a><span style=\"color: #7f7f7f; text-decoration-color: #7f7f7f\">:</span><a href=\"file:///home/yang/Yang_ZHANG/Projects/3d/ProteinWorkshop/proteinworkshop/train.py#114\" target=\"_blank\"><span style=\"color: #7f7f7f; text-decoration-color: #7f7f7f\">114</span></a>\n",
       "</pre>\n"
      ],
      "text/plain": [
       "\u001b[2;36m                   \u001b[0m\u001b[2;36m \u001b[0m\u001b[34mINFO    \u001b[0m Instantiating trainer\u001b[33m...\u001b[0m                                                  \u001b]8;id=750405;file:///home/yang/Yang_ZHANG/Projects/3d/ProteinWorkshop/proteinworkshop/train.py\u001b\\\u001b[2mtrain.py\u001b[0m\u001b]8;;\u001b\\\u001b[2m:\u001b[0m\u001b]8;id=447387;file:///home/yang/Yang_ZHANG/Projects/3d/ProteinWorkshop/proteinworkshop/train.py#114\u001b\\\u001b[2m114\u001b[0m\u001b]8;;\u001b\\\n"
      ]
     },
     "metadata": {},
     "output_type": "display_data"
    },
    {
     "name": "stderr",
     "output_type": "stream",
     "text": [
      "Trainer already configured with model summary callbacks: [<class 'lightning.pytorch.callbacks.rich_model_summary.RichModelSummary'>]. Skipping setting a default `ModelSummary` callback.\n",
      "GPU available: True (cuda), used: True\n",
      "TPU available: False, using: 0 TPU cores\n",
      "HPU available: False, using: 0 HPUs\n"
     ]
    },
    {
     "data": {
      "text/html": [
       "<pre style=\"white-space:pre;overflow-x:auto;line-height:normal;font-family:Menlo,'DejaVu Sans Mono',consolas,'Courier New',monospace\"><span style=\"color: #7fbfbf; text-decoration-color: #7fbfbf\">                    </span><span style=\"color: #000080; text-decoration-color: #000080\">INFO    </span> Instantiating model<span style=\"color: #808000; text-decoration-color: #808000\">...</span>                                                    <a href=\"file:///home/yang/Yang_ZHANG/Projects/3d/ProteinWorkshop/proteinworkshop/train.py\" target=\"_blank\"><span style=\"color: #7f7f7f; text-decoration-color: #7f7f7f\">train.py</span></a><span style=\"color: #7f7f7f; text-decoration-color: #7f7f7f\">:</span><a href=\"file:///home/yang/Yang_ZHANG/Projects/3d/ProteinWorkshop/proteinworkshop/train.py#138\" target=\"_blank\"><span style=\"color: #7f7f7f; text-decoration-color: #7f7f7f\">138</span></a>\n",
       "</pre>\n"
      ],
      "text/plain": [
       "\u001b[2;36m                   \u001b[0m\u001b[2;36m \u001b[0m\u001b[34mINFO    \u001b[0m Instantiating model\u001b[33m...\u001b[0m                                                    \u001b]8;id=686681;file:///home/yang/Yang_ZHANG/Projects/3d/ProteinWorkshop/proteinworkshop/train.py\u001b\\\u001b[2mtrain.py\u001b[0m\u001b]8;;\u001b\\\u001b[2m:\u001b[0m\u001b]8;id=755744;file:///home/yang/Yang_ZHANG/Projects/3d/ProteinWorkshop/proteinworkshop/train.py#138\u001b\\\u001b[2m138\u001b[0m\u001b]8;;\u001b\\\n"
      ]
     },
     "metadata": {},
     "output_type": "display_data"
    },
    {
     "data": {
      "text/html": [
       "<pre style=\"white-space:pre;overflow-x:auto;line-height:normal;font-family:Menlo,'DejaVu Sans Mono',consolas,'Courier New',monospace\"><span style=\"color: #7fbfbf; text-decoration-color: #7fbfbf\">                    </span><span style=\"color: #000080; text-decoration-color: #000080\">INFO    </span> Instantiating encoder<span style=\"color: #808000; text-decoration-color: #808000\">...</span>                                                   <a href=\"file:///home/yang/Yang_ZHANG/Projects/3d/ProteinWorkshop/proteinworkshop/models/base.py\" target=\"_blank\"><span style=\"color: #7f7f7f; text-decoration-color: #7f7f7f\">base.py</span></a><span style=\"color: #7f7f7f; text-decoration-color: #7f7f7f\">:</span><a href=\"file:///home/yang/Yang_ZHANG/Projects/3d/ProteinWorkshop/proteinworkshop/models/base.py#413\" target=\"_blank\"><span style=\"color: #7f7f7f; text-decoration-color: #7f7f7f\">413</span></a>\n",
       "</pre>\n"
      ],
      "text/plain": [
       "\u001b[2;36m                   \u001b[0m\u001b[2;36m \u001b[0m\u001b[34mINFO    \u001b[0m Instantiating encoder\u001b[33m...\u001b[0m                                                   \u001b]8;id=129291;file:///home/yang/Yang_ZHANG/Projects/3d/ProteinWorkshop/proteinworkshop/models/base.py\u001b\\\u001b[2mbase.py\u001b[0m\u001b]8;;\u001b\\\u001b[2m:\u001b[0m\u001b]8;id=799115;file:///home/yang/Yang_ZHANG/Projects/3d/ProteinWorkshop/proteinworkshop/models/base.py#413\u001b\\\u001b[2m413\u001b[0m\u001b]8;;\u001b\\\n"
      ]
     },
     "metadata": {},
     "output_type": "display_data"
    },
    {
     "data": {
      "text/html": [
       "<pre style=\"white-space:pre;overflow-x:auto;line-height:normal;font-family:Menlo,'DejaVu Sans Mono',consolas,'Courier New',monospace\"><span style=\"color: #7fbfbf; text-decoration-color: #7fbfbf\">[07/11/24 18:04:32] </span><span style=\"color: #000080; text-decoration-color: #000080\">INFO    </span> <span style=\"color: #800080; text-decoration-color: #800080; font-weight: bold\">ProNet</span><span style=\"font-weight: bold\">(</span>                                                                    <a href=\"file:///home/yang/Yang_ZHANG/Projects/3d/ProteinWorkshop/proteinworkshop/models/base.py\" target=\"_blank\"><span style=\"color: #7f7f7f; text-decoration-color: #7f7f7f\">base.py</span></a><span style=\"color: #7f7f7f; text-decoration-color: #7f7f7f\">:</span><a href=\"file:///home/yang/Yang_ZHANG/Projects/3d/ProteinWorkshop/proteinworkshop/models/base.py#415\" target=\"_blank\"><span style=\"color: #7f7f7f; text-decoration-color: #7f7f7f\">415</span></a>\n",
       "<span style=\"color: #7fbfbf; text-decoration-color: #7fbfbf\">                    </span>           <span style=\"font-weight: bold\">(</span>feature0<span style=\"font-weight: bold\">)</span>: <span style=\"color: #800080; text-decoration-color: #800080; font-weight: bold\">d_theta_phi_emb</span><span style=\"font-weight: bold\">()</span>                                            <span style=\"color: #7f7f7f; text-decoration-color: #7f7f7f\">           </span>\n",
       "<span style=\"color: #7fbfbf; text-decoration-color: #7fbfbf\">                    </span>           <span style=\"font-weight: bold\">(</span>feature1<span style=\"font-weight: bold\">)</span>: <span style=\"color: #800080; text-decoration-color: #800080; font-weight: bold\">d_angle_emb</span><span style=\"font-weight: bold\">()</span>                                                <span style=\"color: #7f7f7f; text-decoration-color: #7f7f7f\">           </span>\n",
       "<span style=\"color: #7fbfbf; text-decoration-color: #7fbfbf\">                    </span>           <span style=\"font-weight: bold\">(</span>embedding<span style=\"font-weight: bold\">)</span>: <span style=\"color: #800080; text-decoration-color: #800080; font-weight: bold\">Embedding</span><span style=\"font-weight: bold\">(</span><span style=\"color: #008080; text-decoration-color: #008080; font-weight: bold\">26</span>, <span style=\"color: #008080; text-decoration-color: #008080; font-weight: bold\">128</span><span style=\"font-weight: bold\">)</span>                                          <span style=\"color: #7f7f7f; text-decoration-color: #7f7f7f\">           </span>\n",
       "<span style=\"color: #7fbfbf; text-decoration-color: #7fbfbf\">                    </span>           <span style=\"font-weight: bold\">(</span>interaction_blocks<span style=\"font-weight: bold\">)</span>: <span style=\"color: #800080; text-decoration-color: #800080; font-weight: bold\">ModuleList</span><span style=\"font-weight: bold\">(</span>                                        <span style=\"color: #7f7f7f; text-decoration-color: #7f7f7f\">           </span>\n",
       "<span style=\"color: #7fbfbf; text-decoration-color: #7fbfbf\">                    </span>             <span style=\"font-weight: bold\">(</span><span style=\"color: #008080; text-decoration-color: #008080; font-weight: bold\">0</span>-<span style=\"color: #008080; text-decoration-color: #008080; font-weight: bold\">3</span><span style=\"font-weight: bold\">)</span>: <span style=\"color: #008080; text-decoration-color: #008080; font-weight: bold\">4</span> x <span style=\"color: #800080; text-decoration-color: #800080; font-weight: bold\">InteractionBlock</span><span style=\"font-weight: bold\">(</span>                                           <span style=\"color: #7f7f7f; text-decoration-color: #7f7f7f\">           </span>\n",
       "<span style=\"color: #7fbfbf; text-decoration-color: #7fbfbf\">                    </span>               <span style=\"font-weight: bold\">(</span>dropout<span style=\"font-weight: bold\">)</span>: <span style=\"color: #800080; text-decoration-color: #800080; font-weight: bold\">Dropout</span><span style=\"font-weight: bold\">(</span><span style=\"color: #808000; text-decoration-color: #808000\">p</span>=<span style=\"color: #008080; text-decoration-color: #008080; font-weight: bold\">0.3</span>, <span style=\"color: #808000; text-decoration-color: #808000\">inplace</span>=<span style=\"color: #ff0000; text-decoration-color: #ff0000; font-style: italic\">False</span><span style=\"font-weight: bold\">)</span>                             <span style=\"color: #7f7f7f; text-decoration-color: #7f7f7f\">           </span>\n",
       "<span style=\"color: #7fbfbf; text-decoration-color: #7fbfbf\">                    </span>               <span style=\"font-weight: bold\">(</span>conv0<span style=\"font-weight: bold\">)</span>: <span style=\"color: #800080; text-decoration-color: #800080; font-weight: bold\">EdgeGraphConv</span><span style=\"font-weight: bold\">(</span><span style=\"color: #008080; text-decoration-color: #008080; font-weight: bold\">128</span>, <span style=\"color: #008080; text-decoration-color: #008080; font-weight: bold\">128</span><span style=\"font-weight: bold\">)</span>                                     <span style=\"color: #7f7f7f; text-decoration-color: #7f7f7f\">           </span>\n",
       "<span style=\"color: #7fbfbf; text-decoration-color: #7fbfbf\">                    </span>               <span style=\"font-weight: bold\">(</span>conv1<span style=\"font-weight: bold\">)</span>: <span style=\"color: #800080; text-decoration-color: #800080; font-weight: bold\">EdgeGraphConv</span><span style=\"font-weight: bold\">(</span><span style=\"color: #008080; text-decoration-color: #008080; font-weight: bold\">128</span>, <span style=\"color: #008080; text-decoration-color: #008080; font-weight: bold\">128</span><span style=\"font-weight: bold\">)</span>                                     <span style=\"color: #7f7f7f; text-decoration-color: #7f7f7f\">           </span>\n",
       "<span style=\"color: #7fbfbf; text-decoration-color: #7fbfbf\">                    </span>               <span style=\"font-weight: bold\">(</span>conv2<span style=\"font-weight: bold\">)</span>: <span style=\"color: #800080; text-decoration-color: #800080; font-weight: bold\">EdgeGraphConv</span><span style=\"font-weight: bold\">(</span><span style=\"color: #008080; text-decoration-color: #008080; font-weight: bold\">128</span>, <span style=\"color: #008080; text-decoration-color: #008080; font-weight: bold\">128</span><span style=\"font-weight: bold\">)</span>                                     <span style=\"color: #7f7f7f; text-decoration-color: #7f7f7f\">           </span>\n",
       "<span style=\"color: #7fbfbf; text-decoration-color: #7fbfbf\">                    </span>               <span style=\"font-weight: bold\">(</span>lin_feature0<span style=\"font-weight: bold\">)</span>: <span style=\"color: #800080; text-decoration-color: #800080; font-weight: bold\">TwoLinear</span><span style=\"font-weight: bold\">(</span>                                           <span style=\"color: #7f7f7f; text-decoration-color: #7f7f7f\">           </span>\n",
       "<span style=\"color: #7fbfbf; text-decoration-color: #7fbfbf\">                    </span>                 <span style=\"font-weight: bold\">(</span>lin1<span style=\"font-weight: bold\">)</span>: <span style=\"color: #800080; text-decoration-color: #800080; font-weight: bold\">Linear</span><span style=\"font-weight: bold\">()</span>                                                   <span style=\"color: #7f7f7f; text-decoration-color: #7f7f7f\">           </span>\n",
       "<span style=\"color: #7fbfbf; text-decoration-color: #7fbfbf\">                    </span>                 <span style=\"font-weight: bold\">(</span>lin2<span style=\"font-weight: bold\">)</span>: <span style=\"color: #800080; text-decoration-color: #800080; font-weight: bold\">Linear</span><span style=\"font-weight: bold\">()</span>                                                   <span style=\"color: #7f7f7f; text-decoration-color: #7f7f7f\">           </span>\n",
       "<span style=\"color: #7fbfbf; text-decoration-color: #7fbfbf\">                    </span>               <span style=\"font-weight: bold\">)</span>                                                                    <span style=\"color: #7f7f7f; text-decoration-color: #7f7f7f\">           </span>\n",
       "<span style=\"color: #7fbfbf; text-decoration-color: #7fbfbf\">                    </span>               <span style=\"font-weight: bold\">(</span>lin_feature1<span style=\"font-weight: bold\">)</span>: <span style=\"color: #800080; text-decoration-color: #800080; font-weight: bold\">TwoLinear</span><span style=\"font-weight: bold\">(</span>                                           <span style=\"color: #7f7f7f; text-decoration-color: #7f7f7f\">           </span>\n",
       "<span style=\"color: #7fbfbf; text-decoration-color: #7fbfbf\">                    </span>                 <span style=\"font-weight: bold\">(</span>lin1<span style=\"font-weight: bold\">)</span>: <span style=\"color: #800080; text-decoration-color: #800080; font-weight: bold\">Linear</span><span style=\"font-weight: bold\">()</span>                                                   <span style=\"color: #7f7f7f; text-decoration-color: #7f7f7f\">           </span>\n",
       "<span style=\"color: #7fbfbf; text-decoration-color: #7fbfbf\">                    </span>                 <span style=\"font-weight: bold\">(</span>lin2<span style=\"font-weight: bold\">)</span>: <span style=\"color: #800080; text-decoration-color: #800080; font-weight: bold\">Linear</span><span style=\"font-weight: bold\">()</span>                                                   <span style=\"color: #7f7f7f; text-decoration-color: #7f7f7f\">           </span>\n",
       "<span style=\"color: #7fbfbf; text-decoration-color: #7fbfbf\">                    </span>               <span style=\"font-weight: bold\">)</span>                                                                    <span style=\"color: #7f7f7f; text-decoration-color: #7f7f7f\">           </span>\n",
       "<span style=\"color: #7fbfbf; text-decoration-color: #7fbfbf\">                    </span>               <span style=\"font-weight: bold\">(</span>lin_feature2<span style=\"font-weight: bold\">)</span>: <span style=\"color: #800080; text-decoration-color: #800080; font-weight: bold\">TwoLinear</span><span style=\"font-weight: bold\">(</span>                                           <span style=\"color: #7f7f7f; text-decoration-color: #7f7f7f\">           </span>\n",
       "<span style=\"color: #7fbfbf; text-decoration-color: #7fbfbf\">                    </span>                 <span style=\"font-weight: bold\">(</span>lin1<span style=\"font-weight: bold\">)</span>: <span style=\"color: #800080; text-decoration-color: #800080; font-weight: bold\">Linear</span><span style=\"font-weight: bold\">()</span>                                                   <span style=\"color: #7f7f7f; text-decoration-color: #7f7f7f\">           </span>\n",
       "<span style=\"color: #7fbfbf; text-decoration-color: #7fbfbf\">                    </span>                 <span style=\"font-weight: bold\">(</span>lin2<span style=\"font-weight: bold\">)</span>: <span style=\"color: #800080; text-decoration-color: #800080; font-weight: bold\">Linear</span><span style=\"font-weight: bold\">()</span>                                                   <span style=\"color: #7f7f7f; text-decoration-color: #7f7f7f\">           </span>\n",
       "<span style=\"color: #7fbfbf; text-decoration-color: #7fbfbf\">                    </span>               <span style=\"font-weight: bold\">)</span>                                                                    <span style=\"color: #7f7f7f; text-decoration-color: #7f7f7f\">           </span>\n",
       "<span style=\"color: #7fbfbf; text-decoration-color: #7fbfbf\">                    </span>               <span style=\"font-weight: bold\">(</span>lin_1<span style=\"font-weight: bold\">)</span>: <span style=\"color: #800080; text-decoration-color: #800080; font-weight: bold\">Linear</span><span style=\"font-weight: bold\">()</span>                                                    <span style=\"color: #7f7f7f; text-decoration-color: #7f7f7f\">           </span>\n",
       "<span style=\"color: #7fbfbf; text-decoration-color: #7fbfbf\">                    </span>               <span style=\"font-weight: bold\">(</span>lin_2<span style=\"font-weight: bold\">)</span>: <span style=\"color: #800080; text-decoration-color: #800080; font-weight: bold\">Linear</span><span style=\"font-weight: bold\">()</span>                                                    <span style=\"color: #7f7f7f; text-decoration-color: #7f7f7f\">           </span>\n",
       "<span style=\"color: #7fbfbf; text-decoration-color: #7fbfbf\">                    </span>               <span style=\"font-weight: bold\">(</span>lin0<span style=\"font-weight: bold\">)</span>: <span style=\"color: #800080; text-decoration-color: #800080; font-weight: bold\">Linear</span><span style=\"font-weight: bold\">()</span>                                                     <span style=\"color: #7f7f7f; text-decoration-color: #7f7f7f\">           </span>\n",
       "<span style=\"color: #7fbfbf; text-decoration-color: #7fbfbf\">                    </span>               <span style=\"font-weight: bold\">(</span>lin1<span style=\"font-weight: bold\">)</span>: <span style=\"color: #800080; text-decoration-color: #800080; font-weight: bold\">Linear</span><span style=\"font-weight: bold\">()</span>                                                     <span style=\"color: #7f7f7f; text-decoration-color: #7f7f7f\">           </span>\n",
       "<span style=\"color: #7fbfbf; text-decoration-color: #7fbfbf\">                    </span>               <span style=\"font-weight: bold\">(</span>lin2<span style=\"font-weight: bold\">)</span>: <span style=\"color: #800080; text-decoration-color: #800080; font-weight: bold\">Linear</span><span style=\"font-weight: bold\">()</span>                                                     <span style=\"color: #7f7f7f; text-decoration-color: #7f7f7f\">           </span>\n",
       "<span style=\"color: #7fbfbf; text-decoration-color: #7fbfbf\">                    </span>               <span style=\"font-weight: bold\">(</span>lins_cat<span style=\"font-weight: bold\">)</span>: <span style=\"color: #800080; text-decoration-color: #800080; font-weight: bold\">ModuleList</span><span style=\"font-weight: bold\">(</span>                                              <span style=\"color: #7f7f7f; text-decoration-color: #7f7f7f\">           </span>\n",
       "<span style=\"color: #7fbfbf; text-decoration-color: #7fbfbf\">                    </span>                 <span style=\"font-weight: bold\">(</span><span style=\"color: #008080; text-decoration-color: #008080; font-weight: bold\">0</span>-<span style=\"color: #008080; text-decoration-color: #008080; font-weight: bold\">2</span><span style=\"font-weight: bold\">)</span>: <span style=\"color: #008080; text-decoration-color: #008080; font-weight: bold\">3</span> x <span style=\"color: #800080; text-decoration-color: #800080; font-weight: bold\">Linear</span><span style=\"font-weight: bold\">()</span>                                                <span style=\"color: #7f7f7f; text-decoration-color: #7f7f7f\">           </span>\n",
       "<span style=\"color: #7fbfbf; text-decoration-color: #7fbfbf\">                    </span>               <span style=\"font-weight: bold\">)</span>                                                                    <span style=\"color: #7f7f7f; text-decoration-color: #7f7f7f\">           </span>\n",
       "<span style=\"color: #7fbfbf; text-decoration-color: #7fbfbf\">                    </span>               <span style=\"font-weight: bold\">(</span>lins<span style=\"font-weight: bold\">)</span>: <span style=\"color: #800080; text-decoration-color: #800080; font-weight: bold\">ModuleList</span><span style=\"font-weight: bold\">(</span>                                                  <span style=\"color: #7f7f7f; text-decoration-color: #7f7f7f\">           </span>\n",
       "<span style=\"color: #7fbfbf; text-decoration-color: #7fbfbf\">                    </span>                 <span style=\"font-weight: bold\">(</span><span style=\"color: #008080; text-decoration-color: #008080; font-weight: bold\">0</span>-<span style=\"color: #008080; text-decoration-color: #008080; font-weight: bold\">1</span><span style=\"font-weight: bold\">)</span>: <span style=\"color: #008080; text-decoration-color: #008080; font-weight: bold\">2</span> x <span style=\"color: #800080; text-decoration-color: #800080; font-weight: bold\">Linear</span><span style=\"font-weight: bold\">()</span>                                                <span style=\"color: #7f7f7f; text-decoration-color: #7f7f7f\">           </span>\n",
       "<span style=\"color: #7fbfbf; text-decoration-color: #7fbfbf\">                    </span>               <span style=\"font-weight: bold\">)</span>                                                                    <span style=\"color: #7f7f7f; text-decoration-color: #7f7f7f\">           </span>\n",
       "<span style=\"color: #7fbfbf; text-decoration-color: #7fbfbf\">                    </span>               <span style=\"font-weight: bold\">(</span>final<span style=\"font-weight: bold\">)</span>: <span style=\"color: #800080; text-decoration-color: #800080; font-weight: bold\">Linear</span><span style=\"font-weight: bold\">()</span>                                                    <span style=\"color: #7f7f7f; text-decoration-color: #7f7f7f\">           </span>\n",
       "<span style=\"color: #7fbfbf; text-decoration-color: #7fbfbf\">                    </span>             <span style=\"font-weight: bold\">)</span>                                                                      <span style=\"color: #7f7f7f; text-decoration-color: #7f7f7f\">           </span>\n",
       "<span style=\"color: #7fbfbf; text-decoration-color: #7fbfbf\">                    </span>           <span style=\"font-weight: bold\">)</span>                                                                        <span style=\"color: #7f7f7f; text-decoration-color: #7f7f7f\">           </span>\n",
       "<span style=\"color: #7fbfbf; text-decoration-color: #7fbfbf\">                    </span>           <span style=\"font-weight: bold\">(</span>lins_out<span style=\"font-weight: bold\">)</span>: <span style=\"color: #800080; text-decoration-color: #800080; font-weight: bold\">ModuleList</span><span style=\"font-weight: bold\">(</span>                                                  <span style=\"color: #7f7f7f; text-decoration-color: #7f7f7f\">           </span>\n",
       "<span style=\"color: #7fbfbf; text-decoration-color: #7fbfbf\">                    </span>             <span style=\"font-weight: bold\">(</span><span style=\"color: #008080; text-decoration-color: #008080; font-weight: bold\">0</span><span style=\"font-weight: bold\">)</span>: <span style=\"color: #800080; text-decoration-color: #800080; font-weight: bold\">Linear</span><span style=\"font-weight: bold\">()</span>                                                          <span style=\"color: #7f7f7f; text-decoration-color: #7f7f7f\">           </span>\n",
       "<span style=\"color: #7fbfbf; text-decoration-color: #7fbfbf\">                    </span>           <span style=\"font-weight: bold\">)</span>                                                                        <span style=\"color: #7f7f7f; text-decoration-color: #7f7f7f\">           </span>\n",
       "<span style=\"color: #7fbfbf; text-decoration-color: #7fbfbf\">                    </span>           <span style=\"font-weight: bold\">(</span>lin_out<span style=\"font-weight: bold\">)</span>: <span style=\"color: #800080; text-decoration-color: #800080; font-weight: bold\">Linear</span><span style=\"font-weight: bold\">()</span>                                                      <span style=\"color: #7f7f7f; text-decoration-color: #7f7f7f\">           </span>\n",
       "<span style=\"color: #7fbfbf; text-decoration-color: #7fbfbf\">                    </span>           <span style=\"font-weight: bold\">(</span>relu<span style=\"font-weight: bold\">)</span>: <span style=\"color: #800080; text-decoration-color: #800080; font-weight: bold\">ReLU</span><span style=\"font-weight: bold\">()</span>                                                           <span style=\"color: #7f7f7f; text-decoration-color: #7f7f7f\">           </span>\n",
       "<span style=\"color: #7fbfbf; text-decoration-color: #7fbfbf\">                    </span>           <span style=\"font-weight: bold\">(</span>dropout<span style=\"font-weight: bold\">)</span>: <span style=\"color: #800080; text-decoration-color: #800080; font-weight: bold\">Dropout</span><span style=\"font-weight: bold\">(</span><span style=\"color: #808000; text-decoration-color: #808000\">p</span>=<span style=\"color: #008080; text-decoration-color: #008080; font-weight: bold\">0.3</span>, <span style=\"color: #808000; text-decoration-color: #808000\">inplace</span>=<span style=\"color: #ff0000; text-decoration-color: #ff0000; font-style: italic\">False</span><span style=\"font-weight: bold\">)</span>                                 <span style=\"color: #7f7f7f; text-decoration-color: #7f7f7f\">           </span>\n",
       "<span style=\"color: #7fbfbf; text-decoration-color: #7fbfbf\">                    </span>         <span style=\"font-weight: bold\">)</span>                                                                          <span style=\"color: #7f7f7f; text-decoration-color: #7f7f7f\">           </span>\n",
       "</pre>\n"
      ],
      "text/plain": [
       "\u001b[2;36m[07/11/24 18:04:32]\u001b[0m\u001b[2;36m \u001b[0m\u001b[34mINFO    \u001b[0m \u001b[1;35mProNet\u001b[0m\u001b[1m(\u001b[0m                                                                    \u001b]8;id=228665;file:///home/yang/Yang_ZHANG/Projects/3d/ProteinWorkshop/proteinworkshop/models/base.py\u001b\\\u001b[2mbase.py\u001b[0m\u001b]8;;\u001b\\\u001b[2m:\u001b[0m\u001b]8;id=322007;file:///home/yang/Yang_ZHANG/Projects/3d/ProteinWorkshop/proteinworkshop/models/base.py#415\u001b\\\u001b[2m415\u001b[0m\u001b]8;;\u001b\\\n",
       "\u001b[2;36m                    \u001b[0m           \u001b[1m(\u001b[0mfeature0\u001b[1m)\u001b[0m: \u001b[1;35md_theta_phi_emb\u001b[0m\u001b[1m(\u001b[0m\u001b[1m)\u001b[0m                                            \u001b[2m           \u001b[0m\n",
       "\u001b[2;36m                    \u001b[0m           \u001b[1m(\u001b[0mfeature1\u001b[1m)\u001b[0m: \u001b[1;35md_angle_emb\u001b[0m\u001b[1m(\u001b[0m\u001b[1m)\u001b[0m                                                \u001b[2m           \u001b[0m\n",
       "\u001b[2;36m                    \u001b[0m           \u001b[1m(\u001b[0membedding\u001b[1m)\u001b[0m: \u001b[1;35mEmbedding\u001b[0m\u001b[1m(\u001b[0m\u001b[1;36m26\u001b[0m, \u001b[1;36m128\u001b[0m\u001b[1m)\u001b[0m                                          \u001b[2m           \u001b[0m\n",
       "\u001b[2;36m                    \u001b[0m           \u001b[1m(\u001b[0minteraction_blocks\u001b[1m)\u001b[0m: \u001b[1;35mModuleList\u001b[0m\u001b[1m(\u001b[0m                                        \u001b[2m           \u001b[0m\n",
       "\u001b[2;36m                    \u001b[0m             \u001b[1m(\u001b[0m\u001b[1;36m0\u001b[0m-\u001b[1;36m3\u001b[0m\u001b[1m)\u001b[0m: \u001b[1;36m4\u001b[0m x \u001b[1;35mInteractionBlock\u001b[0m\u001b[1m(\u001b[0m                                           \u001b[2m           \u001b[0m\n",
       "\u001b[2;36m                    \u001b[0m               \u001b[1m(\u001b[0mdropout\u001b[1m)\u001b[0m: \u001b[1;35mDropout\u001b[0m\u001b[1m(\u001b[0m\u001b[33mp\u001b[0m=\u001b[1;36m0\u001b[0m\u001b[1;36m.3\u001b[0m, \u001b[33minplace\u001b[0m=\u001b[3;91mFalse\u001b[0m\u001b[1m)\u001b[0m                             \u001b[2m           \u001b[0m\n",
       "\u001b[2;36m                    \u001b[0m               \u001b[1m(\u001b[0mconv0\u001b[1m)\u001b[0m: \u001b[1;35mEdgeGraphConv\u001b[0m\u001b[1m(\u001b[0m\u001b[1;36m128\u001b[0m, \u001b[1;36m128\u001b[0m\u001b[1m)\u001b[0m                                     \u001b[2m           \u001b[0m\n",
       "\u001b[2;36m                    \u001b[0m               \u001b[1m(\u001b[0mconv1\u001b[1m)\u001b[0m: \u001b[1;35mEdgeGraphConv\u001b[0m\u001b[1m(\u001b[0m\u001b[1;36m128\u001b[0m, \u001b[1;36m128\u001b[0m\u001b[1m)\u001b[0m                                     \u001b[2m           \u001b[0m\n",
       "\u001b[2;36m                    \u001b[0m               \u001b[1m(\u001b[0mconv2\u001b[1m)\u001b[0m: \u001b[1;35mEdgeGraphConv\u001b[0m\u001b[1m(\u001b[0m\u001b[1;36m128\u001b[0m, \u001b[1;36m128\u001b[0m\u001b[1m)\u001b[0m                                     \u001b[2m           \u001b[0m\n",
       "\u001b[2;36m                    \u001b[0m               \u001b[1m(\u001b[0mlin_feature0\u001b[1m)\u001b[0m: \u001b[1;35mTwoLinear\u001b[0m\u001b[1m(\u001b[0m                                           \u001b[2m           \u001b[0m\n",
       "\u001b[2;36m                    \u001b[0m                 \u001b[1m(\u001b[0mlin1\u001b[1m)\u001b[0m: \u001b[1;35mLinear\u001b[0m\u001b[1m(\u001b[0m\u001b[1m)\u001b[0m                                                   \u001b[2m           \u001b[0m\n",
       "\u001b[2;36m                    \u001b[0m                 \u001b[1m(\u001b[0mlin2\u001b[1m)\u001b[0m: \u001b[1;35mLinear\u001b[0m\u001b[1m(\u001b[0m\u001b[1m)\u001b[0m                                                   \u001b[2m           \u001b[0m\n",
       "\u001b[2;36m                    \u001b[0m               \u001b[1m)\u001b[0m                                                                    \u001b[2m           \u001b[0m\n",
       "\u001b[2;36m                    \u001b[0m               \u001b[1m(\u001b[0mlin_feature1\u001b[1m)\u001b[0m: \u001b[1;35mTwoLinear\u001b[0m\u001b[1m(\u001b[0m                                           \u001b[2m           \u001b[0m\n",
       "\u001b[2;36m                    \u001b[0m                 \u001b[1m(\u001b[0mlin1\u001b[1m)\u001b[0m: \u001b[1;35mLinear\u001b[0m\u001b[1m(\u001b[0m\u001b[1m)\u001b[0m                                                   \u001b[2m           \u001b[0m\n",
       "\u001b[2;36m                    \u001b[0m                 \u001b[1m(\u001b[0mlin2\u001b[1m)\u001b[0m: \u001b[1;35mLinear\u001b[0m\u001b[1m(\u001b[0m\u001b[1m)\u001b[0m                                                   \u001b[2m           \u001b[0m\n",
       "\u001b[2;36m                    \u001b[0m               \u001b[1m)\u001b[0m                                                                    \u001b[2m           \u001b[0m\n",
       "\u001b[2;36m                    \u001b[0m               \u001b[1m(\u001b[0mlin_feature2\u001b[1m)\u001b[0m: \u001b[1;35mTwoLinear\u001b[0m\u001b[1m(\u001b[0m                                           \u001b[2m           \u001b[0m\n",
       "\u001b[2;36m                    \u001b[0m                 \u001b[1m(\u001b[0mlin1\u001b[1m)\u001b[0m: \u001b[1;35mLinear\u001b[0m\u001b[1m(\u001b[0m\u001b[1m)\u001b[0m                                                   \u001b[2m           \u001b[0m\n",
       "\u001b[2;36m                    \u001b[0m                 \u001b[1m(\u001b[0mlin2\u001b[1m)\u001b[0m: \u001b[1;35mLinear\u001b[0m\u001b[1m(\u001b[0m\u001b[1m)\u001b[0m                                                   \u001b[2m           \u001b[0m\n",
       "\u001b[2;36m                    \u001b[0m               \u001b[1m)\u001b[0m                                                                    \u001b[2m           \u001b[0m\n",
       "\u001b[2;36m                    \u001b[0m               \u001b[1m(\u001b[0mlin_1\u001b[1m)\u001b[0m: \u001b[1;35mLinear\u001b[0m\u001b[1m(\u001b[0m\u001b[1m)\u001b[0m                                                    \u001b[2m           \u001b[0m\n",
       "\u001b[2;36m                    \u001b[0m               \u001b[1m(\u001b[0mlin_2\u001b[1m)\u001b[0m: \u001b[1;35mLinear\u001b[0m\u001b[1m(\u001b[0m\u001b[1m)\u001b[0m                                                    \u001b[2m           \u001b[0m\n",
       "\u001b[2;36m                    \u001b[0m               \u001b[1m(\u001b[0mlin0\u001b[1m)\u001b[0m: \u001b[1;35mLinear\u001b[0m\u001b[1m(\u001b[0m\u001b[1m)\u001b[0m                                                     \u001b[2m           \u001b[0m\n",
       "\u001b[2;36m                    \u001b[0m               \u001b[1m(\u001b[0mlin1\u001b[1m)\u001b[0m: \u001b[1;35mLinear\u001b[0m\u001b[1m(\u001b[0m\u001b[1m)\u001b[0m                                                     \u001b[2m           \u001b[0m\n",
       "\u001b[2;36m                    \u001b[0m               \u001b[1m(\u001b[0mlin2\u001b[1m)\u001b[0m: \u001b[1;35mLinear\u001b[0m\u001b[1m(\u001b[0m\u001b[1m)\u001b[0m                                                     \u001b[2m           \u001b[0m\n",
       "\u001b[2;36m                    \u001b[0m               \u001b[1m(\u001b[0mlins_cat\u001b[1m)\u001b[0m: \u001b[1;35mModuleList\u001b[0m\u001b[1m(\u001b[0m                                              \u001b[2m           \u001b[0m\n",
       "\u001b[2;36m                    \u001b[0m                 \u001b[1m(\u001b[0m\u001b[1;36m0\u001b[0m-\u001b[1;36m2\u001b[0m\u001b[1m)\u001b[0m: \u001b[1;36m3\u001b[0m x \u001b[1;35mLinear\u001b[0m\u001b[1m(\u001b[0m\u001b[1m)\u001b[0m                                                \u001b[2m           \u001b[0m\n",
       "\u001b[2;36m                    \u001b[0m               \u001b[1m)\u001b[0m                                                                    \u001b[2m           \u001b[0m\n",
       "\u001b[2;36m                    \u001b[0m               \u001b[1m(\u001b[0mlins\u001b[1m)\u001b[0m: \u001b[1;35mModuleList\u001b[0m\u001b[1m(\u001b[0m                                                  \u001b[2m           \u001b[0m\n",
       "\u001b[2;36m                    \u001b[0m                 \u001b[1m(\u001b[0m\u001b[1;36m0\u001b[0m-\u001b[1;36m1\u001b[0m\u001b[1m)\u001b[0m: \u001b[1;36m2\u001b[0m x \u001b[1;35mLinear\u001b[0m\u001b[1m(\u001b[0m\u001b[1m)\u001b[0m                                                \u001b[2m           \u001b[0m\n",
       "\u001b[2;36m                    \u001b[0m               \u001b[1m)\u001b[0m                                                                    \u001b[2m           \u001b[0m\n",
       "\u001b[2;36m                    \u001b[0m               \u001b[1m(\u001b[0mfinal\u001b[1m)\u001b[0m: \u001b[1;35mLinear\u001b[0m\u001b[1m(\u001b[0m\u001b[1m)\u001b[0m                                                    \u001b[2m           \u001b[0m\n",
       "\u001b[2;36m                    \u001b[0m             \u001b[1m)\u001b[0m                                                                      \u001b[2m           \u001b[0m\n",
       "\u001b[2;36m                    \u001b[0m           \u001b[1m)\u001b[0m                                                                        \u001b[2m           \u001b[0m\n",
       "\u001b[2;36m                    \u001b[0m           \u001b[1m(\u001b[0mlins_out\u001b[1m)\u001b[0m: \u001b[1;35mModuleList\u001b[0m\u001b[1m(\u001b[0m                                                  \u001b[2m           \u001b[0m\n",
       "\u001b[2;36m                    \u001b[0m             \u001b[1m(\u001b[0m\u001b[1;36m0\u001b[0m\u001b[1m)\u001b[0m: \u001b[1;35mLinear\u001b[0m\u001b[1m(\u001b[0m\u001b[1m)\u001b[0m                                                          \u001b[2m           \u001b[0m\n",
       "\u001b[2;36m                    \u001b[0m           \u001b[1m)\u001b[0m                                                                        \u001b[2m           \u001b[0m\n",
       "\u001b[2;36m                    \u001b[0m           \u001b[1m(\u001b[0mlin_out\u001b[1m)\u001b[0m: \u001b[1;35mLinear\u001b[0m\u001b[1m(\u001b[0m\u001b[1m)\u001b[0m                                                      \u001b[2m           \u001b[0m\n",
       "\u001b[2;36m                    \u001b[0m           \u001b[1m(\u001b[0mrelu\u001b[1m)\u001b[0m: \u001b[1;35mReLU\u001b[0m\u001b[1m(\u001b[0m\u001b[1m)\u001b[0m                                                           \u001b[2m           \u001b[0m\n",
       "\u001b[2;36m                    \u001b[0m           \u001b[1m(\u001b[0mdropout\u001b[1m)\u001b[0m: \u001b[1;35mDropout\u001b[0m\u001b[1m(\u001b[0m\u001b[33mp\u001b[0m=\u001b[1;36m0\u001b[0m\u001b[1;36m.3\u001b[0m, \u001b[33minplace\u001b[0m=\u001b[3;91mFalse\u001b[0m\u001b[1m)\u001b[0m                                 \u001b[2m           \u001b[0m\n",
       "\u001b[2;36m                    \u001b[0m         \u001b[1m)\u001b[0m                                                                          \u001b[2m           \u001b[0m\n"
      ]
     },
     "metadata": {},
     "output_type": "display_data"
    },
    {
     "data": {
      "text/html": [
       "<pre style=\"white-space:pre;overflow-x:auto;line-height:normal;font-family:Menlo,'DejaVu Sans Mono',consolas,'Courier New',monospace\"><span style=\"color: #7fbfbf; text-decoration-color: #7fbfbf\">                    </span><span style=\"color: #000080; text-decoration-color: #000080\">INFO    </span> Instantiating decoders<span style=\"color: #808000; text-decoration-color: #808000\">...</span>                                                  <a href=\"file:///home/yang/Yang_ZHANG/Projects/3d/ProteinWorkshop/proteinworkshop/models/base.py\" target=\"_blank\"><span style=\"color: #7f7f7f; text-decoration-color: #7f7f7f\">base.py</span></a><span style=\"color: #7f7f7f; text-decoration-color: #7f7f7f\">:</span><a href=\"file:///home/yang/Yang_ZHANG/Projects/3d/ProteinWorkshop/proteinworkshop/models/base.py#417\" target=\"_blank\"><span style=\"color: #7f7f7f; text-decoration-color: #7f7f7f\">417</span></a>\n",
       "</pre>\n"
      ],
      "text/plain": [
       "\u001b[2;36m                   \u001b[0m\u001b[2;36m \u001b[0m\u001b[34mINFO    \u001b[0m Instantiating decoders\u001b[33m...\u001b[0m                                                  \u001b]8;id=574499;file:///home/yang/Yang_ZHANG/Projects/3d/ProteinWorkshop/proteinworkshop/models/base.py\u001b\\\u001b[2mbase.py\u001b[0m\u001b]8;;\u001b\\\u001b[2m:\u001b[0m\u001b]8;id=177305;file:///home/yang/Yang_ZHANG/Projects/3d/ProteinWorkshop/proteinworkshop/models/base.py#417\u001b\\\u001b[2m417\u001b[0m\u001b]8;;\u001b\\\n"
      ]
     },
     "metadata": {},
     "output_type": "display_data"
    },
    {
     "data": {
      "text/html": [
       "<pre style=\"white-space:pre;overflow-x:auto;line-height:normal;font-family:Menlo,'DejaVu Sans Mono',consolas,'Courier New',monospace\"><span style=\"color: #7fbfbf; text-decoration-color: #7fbfbf\">                    </span><span style=\"color: #000080; text-decoration-color: #000080\">INFO    </span> Building graph_label decoder. Output dim <span style=\"color: #008080; text-decoration-color: #008080; font-weight: bold\">1195</span>                              <a href=\"file:///home/yang/Yang_ZHANG/Projects/3d/ProteinWorkshop/proteinworkshop/models/base.py\" target=\"_blank\"><span style=\"color: #7f7f7f; text-decoration-color: #7f7f7f\">base.py</span></a><span style=\"color: #7f7f7f; text-decoration-color: #7f7f7f\">:</span><a href=\"file:///home/yang/Yang_ZHANG/Projects/3d/ProteinWorkshop/proteinworkshop/models/base.py#252\" target=\"_blank\"><span style=\"color: #7f7f7f; text-decoration-color: #7f7f7f\">252</span></a>\n",
       "</pre>\n"
      ],
      "text/plain": [
       "\u001b[2;36m                   \u001b[0m\u001b[2;36m \u001b[0m\u001b[34mINFO    \u001b[0m Building graph_label decoder. Output dim \u001b[1;36m1195\u001b[0m                              \u001b]8;id=527713;file:///home/yang/Yang_ZHANG/Projects/3d/ProteinWorkshop/proteinworkshop/models/base.py\u001b\\\u001b[2mbase.py\u001b[0m\u001b]8;;\u001b\\\u001b[2m:\u001b[0m\u001b]8;id=872434;file:///home/yang/Yang_ZHANG/Projects/3d/ProteinWorkshop/proteinworkshop/models/base.py#252\u001b\\\u001b[2m252\u001b[0m\u001b]8;;\u001b\\\n"
      ]
     },
     "metadata": {},
     "output_type": "display_data"
    },
    {
     "data": {
      "text/html": [
       "<pre style=\"white-space:pre;overflow-x:auto;line-height:normal;font-family:Menlo,'DejaVu Sans Mono',consolas,'Courier New',monospace\"><span style=\"color: #7fbfbf; text-decoration-color: #7fbfbf\">                    </span><span style=\"color: #000080; text-decoration-color: #000080\">INFO    </span> <span style=\"font-weight: bold\">{</span><span style=\"color: #008000; text-decoration-color: #008000\">'_target_'</span>: <span style=\"color: #008000; text-decoration-color: #008000\">'proteinworkshop.models.decoders.mlp_decoder.MLPDecoder'</span>,     <a href=\"file:///home/yang/Yang_ZHANG/Projects/3d/ProteinWorkshop/proteinworkshop/models/base.py\" target=\"_blank\"><span style=\"color: #7f7f7f; text-decoration-color: #7f7f7f\">base.py</span></a><span style=\"color: #7f7f7f; text-decoration-color: #7f7f7f\">:</span><a href=\"file:///home/yang/Yang_ZHANG/Projects/3d/ProteinWorkshop/proteinworkshop/models/base.py#255\" target=\"_blank\"><span style=\"color: #7f7f7f; text-decoration-color: #7f7f7f\">255</span></a>\n",
       "<span style=\"color: #7fbfbf; text-decoration-color: #7fbfbf\">                    </span>         <span style=\"color: #008000; text-decoration-color: #008000\">'hidden_dim'</span>: <span style=\"font-weight: bold\">[</span><span style=\"color: #008080; text-decoration-color: #008080; font-weight: bold\">512</span>, <span style=\"color: #008080; text-decoration-color: #008080; font-weight: bold\">512</span>, <span style=\"color: #008080; text-decoration-color: #008080; font-weight: bold\">512</span><span style=\"font-weight: bold\">]</span>, <span style=\"color: #008000; text-decoration-color: #008000\">'dropout'</span>: <span style=\"color: #008080; text-decoration-color: #008080; font-weight: bold\">0.0</span>, <span style=\"color: #008000; text-decoration-color: #008000\">'activations'</span>: <span style=\"font-weight: bold\">[</span><span style=\"color: #008000; text-decoration-color: #008000\">'relu'</span>,     <span style=\"color: #7f7f7f; text-decoration-color: #7f7f7f\">           </span>\n",
       "<span style=\"color: #7fbfbf; text-decoration-color: #7fbfbf\">                    </span>         <span style=\"color: #008000; text-decoration-color: #008000\">'relu'</span>, <span style=\"color: #008000; text-decoration-color: #008000\">'relu'</span>, <span style=\"color: #008000; text-decoration-color: #008000\">'none'</span><span style=\"font-weight: bold\">]</span>, <span style=\"color: #008000; text-decoration-color: #008000\">'skip'</span>: <span style=\"color: #008000; text-decoration-color: #008000\">'concat'</span>, <span style=\"color: #008000; text-decoration-color: #008000\">'out_dim'</span>:                      <span style=\"color: #7f7f7f; text-decoration-color: #7f7f7f\">           </span>\n",
       "<span style=\"color: #7fbfbf; text-decoration-color: #7fbfbf\">                    </span>         <span style=\"color: #008000; text-decoration-color: #008000\">'${dataset.num_classes}'</span>, <span style=\"color: #008000; text-decoration-color: #008000\">'input'</span>: <span style=\"color: #008000; text-decoration-color: #008000\">'graph_embedding'</span>, <span style=\"color: #008000; text-decoration-color: #008000\">'dummy'</span>: <span style=\"color: #00ff00; text-decoration-color: #00ff00; font-style: italic\">True</span><span style=\"font-weight: bold\">}</span>       <span style=\"color: #7f7f7f; text-decoration-color: #7f7f7f\">           </span>\n",
       "</pre>\n"
      ],
      "text/plain": [
       "\u001b[2;36m                   \u001b[0m\u001b[2;36m \u001b[0m\u001b[34mINFO    \u001b[0m \u001b[1m{\u001b[0m\u001b[32m'_target_'\u001b[0m: \u001b[32m'proteinworkshop.models.decoders.mlp_decoder.MLPDecoder'\u001b[0m,     \u001b]8;id=626430;file:///home/yang/Yang_ZHANG/Projects/3d/ProteinWorkshop/proteinworkshop/models/base.py\u001b\\\u001b[2mbase.py\u001b[0m\u001b]8;;\u001b\\\u001b[2m:\u001b[0m\u001b]8;id=998192;file:///home/yang/Yang_ZHANG/Projects/3d/ProteinWorkshop/proteinworkshop/models/base.py#255\u001b\\\u001b[2m255\u001b[0m\u001b]8;;\u001b\\\n",
       "\u001b[2;36m                    \u001b[0m         \u001b[32m'hidden_dim'\u001b[0m: \u001b[1m[\u001b[0m\u001b[1;36m512\u001b[0m, \u001b[1;36m512\u001b[0m, \u001b[1;36m512\u001b[0m\u001b[1m]\u001b[0m, \u001b[32m'dropout'\u001b[0m: \u001b[1;36m0.0\u001b[0m, \u001b[32m'activations'\u001b[0m: \u001b[1m[\u001b[0m\u001b[32m'relu'\u001b[0m,     \u001b[2m           \u001b[0m\n",
       "\u001b[2;36m                    \u001b[0m         \u001b[32m'relu'\u001b[0m, \u001b[32m'relu'\u001b[0m, \u001b[32m'none'\u001b[0m\u001b[1m]\u001b[0m, \u001b[32m'skip'\u001b[0m: \u001b[32m'concat'\u001b[0m, \u001b[32m'out_dim'\u001b[0m:                      \u001b[2m           \u001b[0m\n",
       "\u001b[2;36m                    \u001b[0m         \u001b[32m'$\u001b[0m\u001b[32m{\u001b[0m\u001b[32mdataset.num_classes\u001b[0m\u001b[32m}\u001b[0m\u001b[32m'\u001b[0m, \u001b[32m'input'\u001b[0m: \u001b[32m'graph_embedding'\u001b[0m, \u001b[32m'dummy'\u001b[0m: \u001b[3;92mTrue\u001b[0m\u001b[1m}\u001b[0m       \u001b[2m           \u001b[0m\n"
      ]
     },
     "metadata": {},
     "output_type": "display_data"
    },
    {
     "data": {
      "text/html": [
       "<pre style=\"white-space:pre;overflow-x:auto;line-height:normal;font-family:Menlo,'DejaVu Sans Mono',consolas,'Courier New',monospace\"><span style=\"color: #7fbfbf; text-decoration-color: #7fbfbf\">                    </span><span style=\"color: #000080; text-decoration-color: #000080\">INFO    </span> <span style=\"color: #800080; text-decoration-color: #800080; font-weight: bold\">ModuleDict</span><span style=\"font-weight: bold\">(</span>                                                                <a href=\"file:///home/yang/Yang_ZHANG/Projects/3d/ProteinWorkshop/proteinworkshop/models/base.py\" target=\"_blank\"><span style=\"color: #7f7f7f; text-decoration-color: #7f7f7f\">base.py</span></a><span style=\"color: #7f7f7f; text-decoration-color: #7f7f7f\">:</span><a href=\"file:///home/yang/Yang_ZHANG/Projects/3d/ProteinWorkshop/proteinworkshop/models/base.py#419\" target=\"_blank\"><span style=\"color: #7f7f7f; text-decoration-color: #7f7f7f\">419</span></a>\n",
       "<span style=\"color: #7fbfbf; text-decoration-color: #7fbfbf\">                    </span>           <span style=\"font-weight: bold\">(</span>graph_label<span style=\"font-weight: bold\">)</span>: <span style=\"color: #800080; text-decoration-color: #800080; font-weight: bold\">MLPDecoder</span><span style=\"font-weight: bold\">()</span>                                              <span style=\"color: #7f7f7f; text-decoration-color: #7f7f7f\">           </span>\n",
       "<span style=\"color: #7fbfbf; text-decoration-color: #7fbfbf\">                    </span>         <span style=\"font-weight: bold\">)</span>                                                                          <span style=\"color: #7f7f7f; text-decoration-color: #7f7f7f\">           </span>\n",
       "</pre>\n"
      ],
      "text/plain": [
       "\u001b[2;36m                   \u001b[0m\u001b[2;36m \u001b[0m\u001b[34mINFO    \u001b[0m \u001b[1;35mModuleDict\u001b[0m\u001b[1m(\u001b[0m                                                                \u001b]8;id=720284;file:///home/yang/Yang_ZHANG/Projects/3d/ProteinWorkshop/proteinworkshop/models/base.py\u001b\\\u001b[2mbase.py\u001b[0m\u001b]8;;\u001b\\\u001b[2m:\u001b[0m\u001b]8;id=865757;file:///home/yang/Yang_ZHANG/Projects/3d/ProteinWorkshop/proteinworkshop/models/base.py#419\u001b\\\u001b[2m419\u001b[0m\u001b]8;;\u001b\\\n",
       "\u001b[2;36m                    \u001b[0m           \u001b[1m(\u001b[0mgraph_label\u001b[1m)\u001b[0m: \u001b[1;35mMLPDecoder\u001b[0m\u001b[1m(\u001b[0m\u001b[1m)\u001b[0m                                              \u001b[2m           \u001b[0m\n",
       "\u001b[2;36m                    \u001b[0m         \u001b[1m)\u001b[0m                                                                          \u001b[2m           \u001b[0m\n"
      ]
     },
     "metadata": {},
     "output_type": "display_data"
    },
    {
     "data": {
      "text/html": [
       "<pre style=\"white-space:pre;overflow-x:auto;line-height:normal;font-family:Menlo,'DejaVu Sans Mono',consolas,'Courier New',monospace\"><span style=\"color: #7fbfbf; text-decoration-color: #7fbfbf\">                    </span><span style=\"color: #000080; text-decoration-color: #000080\">INFO    </span> Instantiating losses<span style=\"color: #808000; text-decoration-color: #808000\">...</span>                                                    <a href=\"file:///home/yang/Yang_ZHANG/Projects/3d/ProteinWorkshop/proteinworkshop/models/base.py\" target=\"_blank\"><span style=\"color: #7f7f7f; text-decoration-color: #7f7f7f\">base.py</span></a><span style=\"color: #7f7f7f; text-decoration-color: #7f7f7f\">:</span><a href=\"file:///home/yang/Yang_ZHANG/Projects/3d/ProteinWorkshop/proteinworkshop/models/base.py#421\" target=\"_blank\"><span style=\"color: #7f7f7f; text-decoration-color: #7f7f7f\">421</span></a>\n",
       "</pre>\n"
      ],
      "text/plain": [
       "\u001b[2;36m                   \u001b[0m\u001b[2;36m \u001b[0m\u001b[34mINFO    \u001b[0m Instantiating losses\u001b[33m...\u001b[0m                                                    \u001b]8;id=409412;file:///home/yang/Yang_ZHANG/Projects/3d/ProteinWorkshop/proteinworkshop/models/base.py\u001b\\\u001b[2mbase.py\u001b[0m\u001b]8;;\u001b\\\u001b[2m:\u001b[0m\u001b]8;id=554767;file:///home/yang/Yang_ZHANG/Projects/3d/ProteinWorkshop/proteinworkshop/models/base.py#421\u001b\\\u001b[2m421\u001b[0m\u001b]8;;\u001b\\\n"
      ]
     },
     "metadata": {},
     "output_type": "display_data"
    },
    {
     "data": {
      "text/html": [
       "<pre style=\"white-space:pre;overflow-x:auto;line-height:normal;font-family:Menlo,'DejaVu Sans Mono',consolas,'Courier New',monospace\"><span style=\"color: #7fbfbf; text-decoration-color: #7fbfbf\">                    </span><span style=\"color: #000080; text-decoration-color: #000080\">INFO    </span> Using losses: <span style=\"font-weight: bold\">{</span><span style=\"color: #008000; text-decoration-color: #008000\">'graph_label'</span>: <span style=\"color: #800080; text-decoration-color: #800080; font-weight: bold\">CrossEntropyLoss</span><span style=\"font-weight: bold\">()}</span>                          <a href=\"file:///home/yang/Yang_ZHANG/Projects/3d/ProteinWorkshop/proteinworkshop/models/base.py\" target=\"_blank\"><span style=\"color: #7f7f7f; text-decoration-color: #7f7f7f\">base.py</span></a><span style=\"color: #7f7f7f; text-decoration-color: #7f7f7f\">:</span><a href=\"file:///home/yang/Yang_ZHANG/Projects/3d/ProteinWorkshop/proteinworkshop/models/base.py#423\" target=\"_blank\"><span style=\"color: #7f7f7f; text-decoration-color: #7f7f7f\">423</span></a>\n",
       "</pre>\n"
      ],
      "text/plain": [
       "\u001b[2;36m                   \u001b[0m\u001b[2;36m \u001b[0m\u001b[34mINFO    \u001b[0m Using losses: \u001b[1m{\u001b[0m\u001b[32m'graph_label'\u001b[0m: \u001b[1;35mCrossEntropyLoss\u001b[0m\u001b[1m(\u001b[0m\u001b[1m)\u001b[0m\u001b[1m}\u001b[0m                          \u001b]8;id=696268;file:///home/yang/Yang_ZHANG/Projects/3d/ProteinWorkshop/proteinworkshop/models/base.py\u001b\\\u001b[2mbase.py\u001b[0m\u001b]8;;\u001b\\\u001b[2m:\u001b[0m\u001b]8;id=859992;file:///home/yang/Yang_ZHANG/Projects/3d/ProteinWorkshop/proteinworkshop/models/base.py#423\u001b\\\u001b[2m423\u001b[0m\u001b]8;;\u001b\\\n"
      ]
     },
     "metadata": {},
     "output_type": "display_data"
    },
    {
     "data": {
      "text/html": [
       "<pre style=\"white-space:pre;overflow-x:auto;line-height:normal;font-family:Menlo,'DejaVu Sans Mono',consolas,'Courier New',monospace\"><span style=\"color: #7fbfbf; text-decoration-color: #7fbfbf\">                    </span><span style=\"color: #000080; text-decoration-color: #000080\">INFO    </span> Not using aux loss scaling                                                 <a href=\"file:///home/yang/Yang_ZHANG/Projects/3d/ProteinWorkshop/proteinworkshop/models/base.py\" target=\"_blank\"><span style=\"color: #7f7f7f; text-decoration-color: #7f7f7f\">base.py</span></a><span style=\"color: #7f7f7f; text-decoration-color: #7f7f7f\">:</span><a href=\"file:///home/yang/Yang_ZHANG/Projects/3d/ProteinWorkshop/proteinworkshop/models/base.py#430\" target=\"_blank\"><span style=\"color: #7f7f7f; text-decoration-color: #7f7f7f\">430</span></a>\n",
       "</pre>\n"
      ],
      "text/plain": [
       "\u001b[2;36m                   \u001b[0m\u001b[2;36m \u001b[0m\u001b[34mINFO    \u001b[0m Not using aux loss scaling                                                 \u001b]8;id=4231;file:///home/yang/Yang_ZHANG/Projects/3d/ProteinWorkshop/proteinworkshop/models/base.py\u001b\\\u001b[2mbase.py\u001b[0m\u001b]8;;\u001b\\\u001b[2m:\u001b[0m\u001b]8;id=389621;file:///home/yang/Yang_ZHANG/Projects/3d/ProteinWorkshop/proteinworkshop/models/base.py#430\u001b\\\u001b[2m430\u001b[0m\u001b]8;;\u001b\\\n"
      ]
     },
     "metadata": {},
     "output_type": "display_data"
    },
    {
     "data": {
      "text/html": [
       "<pre style=\"white-space:pre;overflow-x:auto;line-height:normal;font-family:Menlo,'DejaVu Sans Mono',consolas,'Courier New',monospace\"><span style=\"color: #7fbfbf; text-decoration-color: #7fbfbf\">                    </span><span style=\"color: #000080; text-decoration-color: #000080\">INFO    </span> Configuring metrics<span style=\"color: #808000; text-decoration-color: #808000\">...</span>                                                     <a href=\"file:///home/yang/Yang_ZHANG/Projects/3d/ProteinWorkshop/proteinworkshop/models/base.py\" target=\"_blank\"><span style=\"color: #7f7f7f; text-decoration-color: #7f7f7f\">base.py</span></a><span style=\"color: #7f7f7f; text-decoration-color: #7f7f7f\">:</span><a href=\"file:///home/yang/Yang_ZHANG/Projects/3d/ProteinWorkshop/proteinworkshop/models/base.py#432\" target=\"_blank\"><span style=\"color: #7f7f7f; text-decoration-color: #7f7f7f\">432</span></a>\n",
       "</pre>\n"
      ],
      "text/plain": [
       "\u001b[2;36m                   \u001b[0m\u001b[2;36m \u001b[0m\u001b[34mINFO    \u001b[0m Configuring metrics\u001b[33m...\u001b[0m                                                     \u001b]8;id=541804;file:///home/yang/Yang_ZHANG/Projects/3d/ProteinWorkshop/proteinworkshop/models/base.py\u001b\\\u001b[2mbase.py\u001b[0m\u001b]8;;\u001b\\\u001b[2m:\u001b[0m\u001b]8;id=967905;file:///home/yang/Yang_ZHANG/Projects/3d/ProteinWorkshop/proteinworkshop/models/base.py#432\u001b\\\u001b[2m432\u001b[0m\u001b]8;;\u001b\\\n"
      ]
     },
     "metadata": {},
     "output_type": "display_data"
    },
    {
     "data": {
      "text/html": [
       "<pre style=\"white-space:pre;overflow-x:auto;line-height:normal;font-family:Menlo,'DejaVu Sans Mono',consolas,'Courier New',monospace\"><span style=\"color: #7fbfbf; text-decoration-color: #7fbfbf\">                    </span><span style=\"color: #000080; text-decoration-color: #000080\">INFO    </span> <span style=\"font-weight: bold\">[</span><span style=\"color: #008000; text-decoration-color: #008000\">'accuracy'</span>, <span style=\"color: #008000; text-decoration-color: #008000\">'f1_score'</span>, <span style=\"color: #008000; text-decoration-color: #008000\">'f1_max'</span><span style=\"font-weight: bold\">]</span>                                         <a href=\"file:///home/yang/Yang_ZHANG/Projects/3d/ProteinWorkshop/proteinworkshop/models/base.py\" target=\"_blank\"><span style=\"color: #7f7f7f; text-decoration-color: #7f7f7f\">base.py</span></a><span style=\"color: #7f7f7f; text-decoration-color: #7f7f7f\">:</span><a href=\"file:///home/yang/Yang_ZHANG/Projects/3d/ProteinWorkshop/proteinworkshop/models/base.py#434\" target=\"_blank\"><span style=\"color: #7f7f7f; text-decoration-color: #7f7f7f\">434</span></a>\n",
       "</pre>\n"
      ],
      "text/plain": [
       "\u001b[2;36m                   \u001b[0m\u001b[2;36m \u001b[0m\u001b[34mINFO    \u001b[0m \u001b[1m[\u001b[0m\u001b[32m'accuracy'\u001b[0m, \u001b[32m'f1_score'\u001b[0m, \u001b[32m'f1_max'\u001b[0m\u001b[1m]\u001b[0m                                         \u001b]8;id=393865;file:///home/yang/Yang_ZHANG/Projects/3d/ProteinWorkshop/proteinworkshop/models/base.py\u001b\\\u001b[2mbase.py\u001b[0m\u001b]8;;\u001b\\\u001b[2m:\u001b[0m\u001b]8;id=524486;file:///home/yang/Yang_ZHANG/Projects/3d/ProteinWorkshop/proteinworkshop/models/base.py#434\u001b\\\u001b[2m434\u001b[0m\u001b]8;;\u001b\\\n"
      ]
     },
     "metadata": {},
     "output_type": "display_data"
    },
    {
     "data": {
      "text/html": [
       "<pre style=\"white-space:pre;overflow-x:auto;line-height:normal;font-family:Menlo,'DejaVu Sans Mono',consolas,'Courier New',monospace\"><span style=\"color: #7fbfbf; text-decoration-color: #7fbfbf\">                    </span><span style=\"color: #000080; text-decoration-color: #000080\">INFO    </span> Instantiating featuriser<span style=\"color: #808000; text-decoration-color: #808000\">...</span>                                                <a href=\"file:///home/yang/Yang_ZHANG/Projects/3d/ProteinWorkshop/proteinworkshop/models/base.py\" target=\"_blank\"><span style=\"color: #7f7f7f; text-decoration-color: #7f7f7f\">base.py</span></a><span style=\"color: #7f7f7f; text-decoration-color: #7f7f7f\">:</span><a href=\"file:///home/yang/Yang_ZHANG/Projects/3d/ProteinWorkshop/proteinworkshop/models/base.py#436\" target=\"_blank\"><span style=\"color: #7f7f7f; text-decoration-color: #7f7f7f\">436</span></a>\n",
       "</pre>\n"
      ],
      "text/plain": [
       "\u001b[2;36m                   \u001b[0m\u001b[2;36m \u001b[0m\u001b[34mINFO    \u001b[0m Instantiating featuriser\u001b[33m...\u001b[0m                                                \u001b]8;id=480575;file:///home/yang/Yang_ZHANG/Projects/3d/ProteinWorkshop/proteinworkshop/models/base.py\u001b\\\u001b[2mbase.py\u001b[0m\u001b]8;;\u001b\\\u001b[2m:\u001b[0m\u001b]8;id=48437;file:///home/yang/Yang_ZHANG/Projects/3d/ProteinWorkshop/proteinworkshop/models/base.py#436\u001b\\\u001b[2m436\u001b[0m\u001b]8;;\u001b\\\n"
      ]
     },
     "metadata": {},
     "output_type": "display_data"
    },
    {
     "data": {
      "text/html": [
       "<pre style=\"white-space:pre;overflow-x:auto;line-height:normal;font-family:Menlo,'DejaVu Sans Mono',consolas,'Courier New',monospace\"><span style=\"color: #7fbfbf; text-decoration-color: #7fbfbf\">                    </span><span style=\"color: #000080; text-decoration-color: #000080\">INFO    </span> <span style=\"color: #800080; text-decoration-color: #800080; font-weight: bold\">ProteinFeaturiser</span><span style=\"font-weight: bold\">(</span><span style=\"color: #808000; text-decoration-color: #808000\">representation</span>=<span style=\"color: #800080; text-decoration-color: #800080\">CA</span>,                                       <a href=\"file:///home/yang/Yang_ZHANG/Projects/3d/ProteinWorkshop/proteinworkshop/models/base.py\" target=\"_blank\"><span style=\"color: #7f7f7f; text-decoration-color: #7f7f7f\">base.py</span></a><span style=\"color: #7f7f7f; text-decoration-color: #7f7f7f\">:</span><a href=\"file:///home/yang/Yang_ZHANG/Projects/3d/ProteinWorkshop/proteinworkshop/models/base.py#438\" target=\"_blank\"><span style=\"color: #7f7f7f; text-decoration-color: #7f7f7f\">438</span></a>\n",
       "<span style=\"color: #7fbfbf; text-decoration-color: #7fbfbf\">                    </span>         <span style=\"color: #808000; text-decoration-color: #808000\">scalar_node_features</span>=<span style=\"font-weight: bold\">[</span><span style=\"color: #008000; text-decoration-color: #008000\">'amino_acid_one_hot'</span><span style=\"font-weight: bold\">]</span>, <span style=\"color: #808000; text-decoration-color: #808000\">vector_node_features</span>=<span style=\"font-weight: bold\">[]</span>,      <span style=\"color: #7f7f7f; text-decoration-color: #7f7f7f\">           </span>\n",
       "<span style=\"color: #7fbfbf; text-decoration-color: #7fbfbf\">                    </span>         <span style=\"color: #808000; text-decoration-color: #808000\">edge_types</span>=<span style=\"font-weight: bold\">[</span><span style=\"color: #008000; text-decoration-color: #008000\">'knn_16'</span><span style=\"font-weight: bold\">]</span>, <span style=\"color: #808000; text-decoration-color: #808000\">scalar_edge_features</span>=<span style=\"font-weight: bold\">[</span><span style=\"color: #008000; text-decoration-color: #008000\">'edge_distance'</span><span style=\"font-weight: bold\">]</span>,             <span style=\"color: #7f7f7f; text-decoration-color: #7f7f7f\">           </span>\n",
       "<span style=\"color: #7fbfbf; text-decoration-color: #7fbfbf\">                    </span>         <span style=\"color: #808000; text-decoration-color: #808000\">vector_edge_features</span>=<span style=\"font-weight: bold\">[])</span>                                                   <span style=\"color: #7f7f7f; text-decoration-color: #7f7f7f\">           </span>\n",
       "</pre>\n"
      ],
      "text/plain": [
       "\u001b[2;36m                   \u001b[0m\u001b[2;36m \u001b[0m\u001b[34mINFO    \u001b[0m \u001b[1;35mProteinFeaturiser\u001b[0m\u001b[1m(\u001b[0m\u001b[33mrepresentation\u001b[0m=\u001b[35mCA\u001b[0m,                                       \u001b]8;id=161608;file:///home/yang/Yang_ZHANG/Projects/3d/ProteinWorkshop/proteinworkshop/models/base.py\u001b\\\u001b[2mbase.py\u001b[0m\u001b]8;;\u001b\\\u001b[2m:\u001b[0m\u001b]8;id=93378;file:///home/yang/Yang_ZHANG/Projects/3d/ProteinWorkshop/proteinworkshop/models/base.py#438\u001b\\\u001b[2m438\u001b[0m\u001b]8;;\u001b\\\n",
       "\u001b[2;36m                    \u001b[0m         \u001b[33mscalar_node_features\u001b[0m=\u001b[1m[\u001b[0m\u001b[32m'amino_acid_one_hot'\u001b[0m\u001b[1m]\u001b[0m, \u001b[33mvector_node_features\u001b[0m=\u001b[1m[\u001b[0m\u001b[1m]\u001b[0m,      \u001b[2m           \u001b[0m\n",
       "\u001b[2;36m                    \u001b[0m         \u001b[33medge_types\u001b[0m=\u001b[1m[\u001b[0m\u001b[32m'knn_16'\u001b[0m\u001b[1m]\u001b[0m, \u001b[33mscalar_edge_features\u001b[0m=\u001b[1m[\u001b[0m\u001b[32m'edge_distance'\u001b[0m\u001b[1m]\u001b[0m,             \u001b[2m           \u001b[0m\n",
       "\u001b[2;36m                    \u001b[0m         \u001b[33mvector_edge_features\u001b[0m=\u001b[1m[\u001b[0m\u001b[1m]\u001b[0m\u001b[1m)\u001b[0m                                                   \u001b[2m           \u001b[0m\n"
      ]
     },
     "metadata": {},
     "output_type": "display_data"
    },
    {
     "data": {
      "text/html": [
       "<pre style=\"white-space:pre;overflow-x:auto;line-height:normal;font-family:Menlo,'DejaVu Sans Mono',consolas,'Courier New',monospace\"><span style=\"color: #7fbfbf; text-decoration-color: #7fbfbf\">                    </span><span style=\"color: #000080; text-decoration-color: #000080\">INFO    </span> Instantiating task transform<span style=\"color: #808000; text-decoration-color: #808000\">...</span>                                            <a href=\"file:///home/yang/Yang_ZHANG/Projects/3d/ProteinWorkshop/proteinworkshop/models/base.py\" target=\"_blank\"><span style=\"color: #7f7f7f; text-decoration-color: #7f7f7f\">base.py</span></a><span style=\"color: #7f7f7f; text-decoration-color: #7f7f7f\">:</span><a href=\"file:///home/yang/Yang_ZHANG/Projects/3d/ProteinWorkshop/proteinworkshop/models/base.py#440\" target=\"_blank\"><span style=\"color: #7f7f7f; text-decoration-color: #7f7f7f\">440</span></a>\n",
       "</pre>\n"
      ],
      "text/plain": [
       "\u001b[2;36m                   \u001b[0m\u001b[2;36m \u001b[0m\u001b[34mINFO    \u001b[0m Instantiating task transform\u001b[33m...\u001b[0m                                            \u001b]8;id=218428;file:///home/yang/Yang_ZHANG/Projects/3d/ProteinWorkshop/proteinworkshop/models/base.py\u001b\\\u001b[2mbase.py\u001b[0m\u001b]8;;\u001b\\\u001b[2m:\u001b[0m\u001b]8;id=383269;file:///home/yang/Yang_ZHANG/Projects/3d/ProteinWorkshop/proteinworkshop/models/base.py#440\u001b\\\u001b[2m440\u001b[0m\u001b]8;;\u001b\\\n"
      ]
     },
     "metadata": {},
     "output_type": "display_data"
    },
    {
     "data": {
      "text/html": [
       "<pre style=\"white-space:pre;overflow-x:auto;line-height:normal;font-family:Menlo,'DejaVu Sans Mono',consolas,'Courier New',monospace\"><span style=\"color: #7fbfbf; text-decoration-color: #7fbfbf\">                    </span><span style=\"color: #000080; text-decoration-color: #000080\">INFO    </span> <span style=\"color: #800080; text-decoration-color: #800080; font-style: italic\">None</span>                                                                       <a href=\"file:///home/yang/Yang_ZHANG/Projects/3d/ProteinWorkshop/proteinworkshop/models/base.py\" target=\"_blank\"><span style=\"color: #7f7f7f; text-decoration-color: #7f7f7f\">base.py</span></a><span style=\"color: #7f7f7f; text-decoration-color: #7f7f7f\">:</span><a href=\"file:///home/yang/Yang_ZHANG/Projects/3d/ProteinWorkshop/proteinworkshop/models/base.py#444\" target=\"_blank\"><span style=\"color: #7f7f7f; text-decoration-color: #7f7f7f\">444</span></a>\n",
       "</pre>\n"
      ],
      "text/plain": [
       "\u001b[2;36m                   \u001b[0m\u001b[2;36m \u001b[0m\u001b[34mINFO    \u001b[0m \u001b[3;35mNone\u001b[0m                                                                       \u001b]8;id=792713;file:///home/yang/Yang_ZHANG/Projects/3d/ProteinWorkshop/proteinworkshop/models/base.py\u001b\\\u001b[2mbase.py\u001b[0m\u001b]8;;\u001b\\\u001b[2m:\u001b[0m\u001b]8;id=813633;file:///home/yang/Yang_ZHANG/Projects/3d/ProteinWorkshop/proteinworkshop/models/base.py#444\u001b\\\u001b[2m444\u001b[0m\u001b]8;;\u001b\\\n"
      ]
     },
     "metadata": {},
     "output_type": "display_data"
    },
    {
     "data": {
      "text/html": [
       "<pre style=\"white-space:pre;overflow-x:auto;line-height:normal;font-family:Menlo,'DejaVu Sans Mono',consolas,'Courier New',monospace\"><span style=\"color: #7fbfbf; text-decoration-color: #7fbfbf\">[07/11/24 18:04:58] </span><span style=\"color: #000080; text-decoration-color: #000080\">INFO    </span> Initializing lazy layers<span style=\"color: #808000; text-decoration-color: #808000\">...</span>                                               <a href=\"file:///home/yang/Yang_ZHANG/Projects/3d/ProteinWorkshop/proteinworkshop/train.py\" target=\"_blank\"><span style=\"color: #7f7f7f; text-decoration-color: #7f7f7f\">train.py</span></a><span style=\"color: #7f7f7f; text-decoration-color: #7f7f7f\">:</span><a href=\"file:///home/yang/Yang_ZHANG/Projects/3d/ProteinWorkshop/proteinworkshop/train.py#145\" target=\"_blank\"><span style=\"color: #7f7f7f; text-decoration-color: #7f7f7f\">145</span></a>\n",
       "</pre>\n"
      ],
      "text/plain": [
       "\u001b[2;36m[07/11/24 18:04:58]\u001b[0m\u001b[2;36m \u001b[0m\u001b[34mINFO    \u001b[0m Initializing lazy layers\u001b[33m...\u001b[0m                                               \u001b]8;id=638616;file:///home/yang/Yang_ZHANG/Projects/3d/ProteinWorkshop/proteinworkshop/train.py\u001b\\\u001b[2mtrain.py\u001b[0m\u001b]8;;\u001b\\\u001b[2m:\u001b[0m\u001b]8;id=962522;file:///home/yang/Yang_ZHANG/Projects/3d/ProteinWorkshop/proteinworkshop/train.py#145\u001b\\\u001b[2m145\u001b[0m\u001b]8;;\u001b\\\n"
      ]
     },
     "metadata": {},
     "output_type": "display_data"
    },
    {
     "data": {
      "text/html": [
       "<pre style=\"white-space:pre;overflow-x:auto;line-height:normal;font-family:Menlo,'DejaVu Sans Mono',consolas,'Courier New',monospace\"><span style=\"color: #7fbfbf; text-decoration-color: #7fbfbf\">                    </span><span style=\"color: #000080; text-decoration-color: #000080\">INFO    </span> Downloading Protein Function. Fraction <span style=\"color: #008080; text-decoration-color: #008080; font-weight: bold\">1.0</span>                   <a href=\"file:///home/yang/Yang_ZHANG/Projects/3d/ProteinWorkshop/proteinworkshop/datasets/fold_classification.py\" target=\"_blank\"><span style=\"color: #7f7f7f; text-decoration-color: #7f7f7f\">fold_classification.py</span></a><span style=\"color: #7f7f7f; text-decoration-color: #7f7f7f\">:</span><a href=\"file:///home/yang/Yang_ZHANG/Projects/3d/ProteinWorkshop/proteinworkshop/datasets/fold_classification.py#86\" target=\"_blank\"><span style=\"color: #7f7f7f; text-decoration-color: #7f7f7f\">86</span></a>\n",
       "</pre>\n"
      ],
      "text/plain": [
       "\u001b[2;36m                   \u001b[0m\u001b[2;36m \u001b[0m\u001b[34mINFO    \u001b[0m Downloading Protein Function. Fraction \u001b[1;36m1.0\u001b[0m                   \u001b]8;id=543546;file:///home/yang/Yang_ZHANG/Projects/3d/ProteinWorkshop/proteinworkshop/datasets/fold_classification.py\u001b\\\u001b[2mfold_classification.py\u001b[0m\u001b]8;;\u001b\\\u001b[2m:\u001b[0m\u001b]8;id=179767;file:///home/yang/Yang_ZHANG/Projects/3d/ProteinWorkshop/proteinworkshop/datasets/fold_classification.py#86\u001b\\\u001b[2m86\u001b[0m\u001b]8;;\u001b\\\n"
      ]
     },
     "metadata": {},
     "output_type": "display_data"
    },
    {
     "data": {
      "text/html": [
       "<pre style=\"white-space:pre;overflow-x:auto;line-height:normal;font-family:Menlo,'DejaVu Sans Mono',consolas,'Courier New',monospace\"><span style=\"color: #7fbfbf; text-decoration-color: #7fbfbf\">                    </span><span style=\"color: #000080; text-decoration-color: #000080\">INFO    </span> Found SCOP structure tarfile in:                            <a href=\"file:///home/yang/Yang_ZHANG/Projects/3d/ProteinWorkshop/proteinworkshop/datasets/fold_classification.py\" target=\"_blank\"><span style=\"color: #7f7f7f; text-decoration-color: #7f7f7f\">fold_classification.py</span></a><span style=\"color: #7f7f7f; text-decoration-color: #7f7f7f\">:</span><a href=\"file:///home/yang/Yang_ZHANG/Projects/3d/ProteinWorkshop/proteinworkshop/datasets/fold_classification.py#138\" target=\"_blank\"><span style=\"color: #7f7f7f; text-decoration-color: #7f7f7f\">138</span></a>\n",
       "<span style=\"color: #7fbfbf; text-decoration-color: #7fbfbf\">                    </span>         <span style=\"color: #800080; text-decoration-color: #800080\">/home/yang/Yang_ZHANG/Projects/3d/ProteinWorkshop/proteinwo</span> <span style=\"color: #7f7f7f; text-decoration-color: #7f7f7f\">                          </span>\n",
       "<span style=\"color: #7fbfbf; text-decoration-color: #7fbfbf\">                    </span>         <span style=\"color: #800080; text-decoration-color: #800080\">rkshop/data/FoldClassification/</span><span style=\"color: #ff00ff; text-decoration-color: #ff00ff\">pdbstyle-sel-gs-bib-95-1.75.</span> <span style=\"color: #7f7f7f; text-decoration-color: #7f7f7f\">                          </span>\n",
       "<span style=\"color: #7fbfbf; text-decoration-color: #7fbfbf\">                    </span>         <span style=\"color: #ff00ff; text-decoration-color: #ff00ff\">tgz</span>                                                         <span style=\"color: #7f7f7f; text-decoration-color: #7f7f7f\">                          </span>\n",
       "</pre>\n"
      ],
      "text/plain": [
       "\u001b[2;36m                   \u001b[0m\u001b[2;36m \u001b[0m\u001b[34mINFO    \u001b[0m Found SCOP structure tarfile in:                            \u001b]8;id=219166;file:///home/yang/Yang_ZHANG/Projects/3d/ProteinWorkshop/proteinworkshop/datasets/fold_classification.py\u001b\\\u001b[2mfold_classification.py\u001b[0m\u001b]8;;\u001b\\\u001b[2m:\u001b[0m\u001b]8;id=122395;file:///home/yang/Yang_ZHANG/Projects/3d/ProteinWorkshop/proteinworkshop/datasets/fold_classification.py#138\u001b\\\u001b[2m138\u001b[0m\u001b]8;;\u001b\\\n",
       "\u001b[2;36m                    \u001b[0m         \u001b[35m/home/yang/Yang_ZHANG/Projects/3d/ProteinWorkshop/proteinwo\u001b[0m \u001b[2m                          \u001b[0m\n",
       "\u001b[2;36m                    \u001b[0m         \u001b[35mrkshop/data/FoldClassification/\u001b[0m\u001b[95mpdbstyle-sel-gs-bib-95-1.75.\u001b[0m \u001b[2m                          \u001b[0m\n",
       "\u001b[2;36m                    \u001b[0m         \u001b[95mtgz\u001b[0m                                                         \u001b[2m                          \u001b[0m\n"
      ]
     },
     "metadata": {},
     "output_type": "display_data"
    },
    {
     "data": {
      "text/html": [
       "<pre style=\"white-space:pre;overflow-x:auto;line-height:normal;font-family:Menlo,'DejaVu Sans Mono',consolas,'Courier New',monospace\"><span style=\"color: #7fbfbf; text-decoration-color: #7fbfbf\">                    </span><span style=\"color: #000080; text-decoration-color: #000080\">INFO    </span> Found SCOPe structures in:                                  <a href=\"file:///home/yang/Yang_ZHANG/Projects/3d/ProteinWorkshop/proteinworkshop/datasets/fold_classification.py\" target=\"_blank\"><span style=\"color: #7f7f7f; text-decoration-color: #7f7f7f\">fold_classification.py</span></a><span style=\"color: #7f7f7f; text-decoration-color: #7f7f7f\">:</span><a href=\"file:///home/yang/Yang_ZHANG/Projects/3d/ProteinWorkshop/proteinworkshop/datasets/fold_classification.py#151\" target=\"_blank\"><span style=\"color: #7f7f7f; text-decoration-color: #7f7f7f\">151</span></a>\n",
       "</pre>\n"
      ],
      "text/plain": [
       "\u001b[2;36m                   \u001b[0m\u001b[2;36m \u001b[0m\u001b[34mINFO    \u001b[0m Found SCOPe structures in:                                  \u001b]8;id=728349;file:///home/yang/Yang_ZHANG/Projects/3d/ProteinWorkshop/proteinworkshop/datasets/fold_classification.py\u001b\\\u001b[2mfold_classification.py\u001b[0m\u001b]8;;\u001b\\\u001b[2m:\u001b[0m\u001b]8;id=374873;file:///home/yang/Yang_ZHANG/Projects/3d/ProteinWorkshop/proteinworkshop/datasets/fold_classification.py#151\u001b\\\u001b[2m151\u001b[0m\u001b]8;;\u001b\\\n"
      ]
     },
     "metadata": {},
     "output_type": "display_data"
    },
    {
     "data": {
      "text/html": [
       "<pre style=\"white-space:pre;overflow-x:auto;line-height:normal;font-family:Menlo,'DejaVu Sans Mono',consolas,'Courier New',monospace\"><span style=\"color: #7fbfbf; text-decoration-color: #7fbfbf\">                    </span><span style=\"color: #000080; text-decoration-color: #000080\">INFO    </span> Preprocessing validation data                                               <a href=\"file:///home/yang/Yang_ZHANG/Projects/3d/ProteinWorkshop/proteinworkshop/datasets/base.py\" target=\"_blank\"><span style=\"color: #7f7f7f; text-decoration-color: #7f7f7f\">base.py</span></a><span style=\"color: #7f7f7f; text-decoration-color: #7f7f7f\">:</span><a href=\"file:///home/yang/Yang_ZHANG/Projects/3d/ProteinWorkshop/proteinworkshop/datasets/base.py#99\" target=\"_blank\"><span style=\"color: #7f7f7f; text-decoration-color: #7f7f7f\">99</span></a>\n",
       "</pre>\n"
      ],
      "text/plain": [
       "\u001b[2;36m                   \u001b[0m\u001b[2;36m \u001b[0m\u001b[34mINFO    \u001b[0m Preprocessing validation data                                               \u001b]8;id=830622;file:///home/yang/Yang_ZHANG/Projects/3d/ProteinWorkshop/proteinworkshop/datasets/base.py\u001b\\\u001b[2mbase.py\u001b[0m\u001b]8;;\u001b\\\u001b[2m:\u001b[0m\u001b]8;id=530123;file:///home/yang/Yang_ZHANG/Projects/3d/ProteinWorkshop/proteinworkshop/datasets/base.py#99\u001b\\\u001b[2m99\u001b[0m\u001b]8;;\u001b\\\n"
      ]
     },
     "metadata": {},
     "output_type": "display_data"
    },
    {
     "data": {
      "text/html": [
       "<pre style=\"white-space:pre;overflow-x:auto;line-height:normal;font-family:Menlo,'DejaVu Sans Mono',consolas,'Courier New',monospace\"><span style=\"color: #7fbfbf; text-decoration-color: #7fbfbf\">                    </span><span style=\"color: #000080; text-decoration-color: #000080\">INFO    </span> Reading labels from:                                        <a href=\"file:///home/yang/Yang_ZHANG/Projects/3d/ProteinWorkshop/proteinworkshop/datasets/fold_classification.py\" target=\"_blank\"><span style=\"color: #7f7f7f; text-decoration-color: #7f7f7f\">fold_classification.py</span></a><span style=\"color: #7f7f7f; text-decoration-color: #7f7f7f\">:</span><a href=\"file:///home/yang/Yang_ZHANG/Projects/3d/ProteinWorkshop/proteinworkshop/datasets/fold_classification.py#154\" target=\"_blank\"><span style=\"color: #7f7f7f; text-decoration-color: #7f7f7f\">154</span></a>\n",
       "<span style=\"color: #7fbfbf; text-decoration-color: #7fbfbf\">                    </span>         <span style=\"color: #800080; text-decoration-color: #800080\">/home/yang/Yang_ZHANG/Projects/3d/ProteinWorkshop/proteinwo</span> <span style=\"color: #7f7f7f; text-decoration-color: #7f7f7f\">                          </span>\n",
       "<span style=\"color: #7fbfbf; text-decoration-color: #7fbfbf\">                    </span>         <span style=\"color: #800080; text-decoration-color: #800080\">rkshop/data/FoldClassification/</span><span style=\"color: #ff00ff; text-decoration-color: #ff00ff\">class_map.txt</span>                <span style=\"color: #7f7f7f; text-decoration-color: #7f7f7f\">                          </span>\n",
       "</pre>\n"
      ],
      "text/plain": [
       "\u001b[2;36m                   \u001b[0m\u001b[2;36m \u001b[0m\u001b[34mINFO    \u001b[0m Reading labels from:                                        \u001b]8;id=748191;file:///home/yang/Yang_ZHANG/Projects/3d/ProteinWorkshop/proteinworkshop/datasets/fold_classification.py\u001b\\\u001b[2mfold_classification.py\u001b[0m\u001b]8;;\u001b\\\u001b[2m:\u001b[0m\u001b]8;id=715527;file:///home/yang/Yang_ZHANG/Projects/3d/ProteinWorkshop/proteinworkshop/datasets/fold_classification.py#154\u001b\\\u001b[2m154\u001b[0m\u001b]8;;\u001b\\\n",
       "\u001b[2;36m                    \u001b[0m         \u001b[35m/home/yang/Yang_ZHANG/Projects/3d/ProteinWorkshop/proteinwo\u001b[0m \u001b[2m                          \u001b[0m\n",
       "\u001b[2;36m                    \u001b[0m         \u001b[35mrkshop/data/FoldClassification/\u001b[0m\u001b[95mclass_map.txt\u001b[0m                \u001b[2m                          \u001b[0m\n"
      ]
     },
     "metadata": {},
     "output_type": "display_data"
    },
    {
     "data": {
      "text/html": [
       "<pre style=\"white-space:pre;overflow-x:auto;line-height:normal;font-family:Menlo,'DejaVu Sans Mono',consolas,'Courier New',monospace\"><span style=\"color: #7fbfbf; text-decoration-color: #7fbfbf\">                    </span><span style=\"color: #000080; text-decoration-color: #000080\">INFO    </span> Found <span style=\"color: #008080; text-decoration-color: #008080; font-weight: bold\">736</span> original examples in validation                   <a href=\"file:///home/yang/Yang_ZHANG/Projects/3d/ProteinWorkshop/proteinworkshop/datasets/fold_classification.py\" target=\"_blank\"><span style=\"color: #7f7f7f; text-decoration-color: #7f7f7f\">fold_classification.py</span></a><span style=\"color: #7f7f7f; text-decoration-color: #7f7f7f\">:</span><a href=\"file:///home/yang/Yang_ZHANG/Projects/3d/ProteinWorkshop/proteinworkshop/datasets/fold_classification.py#234\" target=\"_blank\"><span style=\"color: #7f7f7f; text-decoration-color: #7f7f7f\">234</span></a>\n",
       "</pre>\n"
      ],
      "text/plain": [
       "\u001b[2;36m                   \u001b[0m\u001b[2;36m \u001b[0m\u001b[34mINFO    \u001b[0m Found \u001b[1;36m736\u001b[0m original examples in validation                   \u001b]8;id=84764;file:///home/yang/Yang_ZHANG/Projects/3d/ProteinWorkshop/proteinworkshop/datasets/fold_classification.py\u001b\\\u001b[2mfold_classification.py\u001b[0m\u001b]8;;\u001b\\\u001b[2m:\u001b[0m\u001b]8;id=477583;file:///home/yang/Yang_ZHANG/Projects/3d/ProteinWorkshop/proteinworkshop/datasets/fold_classification.py#234\u001b\\\u001b[2m234\u001b[0m\u001b]8;;\u001b\\\n"
      ]
     },
     "metadata": {},
     "output_type": "display_data"
    },
    {
     "data": {
      "text/html": [
       "<pre style=\"white-space:pre;overflow-x:auto;line-height:normal;font-family:Menlo,'DejaVu Sans Mono',consolas,'Courier New',monospace\"><span style=\"color: #7fbfbf; text-decoration-color: #7fbfbf\">                    </span><span style=\"color: #000080; text-decoration-color: #000080\">INFO    </span> Identified <span style=\"color: #008080; text-decoration-color: #008080; font-weight: bold\">319</span> classes                                      <a href=\"file:///home/yang/Yang_ZHANG/Projects/3d/ProteinWorkshop/proteinworkshop/datasets/fold_classification.py\" target=\"_blank\"><span style=\"color: #7f7f7f; text-decoration-color: #7f7f7f\">fold_classification.py</span></a><span style=\"color: #7f7f7f; text-decoration-color: #7f7f7f\">:</span><a href=\"file:///home/yang/Yang_ZHANG/Projects/3d/ProteinWorkshop/proteinworkshop/datasets/fold_classification.py#247\" target=\"_blank\"><span style=\"color: #7f7f7f; text-decoration-color: #7f7f7f\">247</span></a>\n",
       "</pre>\n"
      ],
      "text/plain": [
       "\u001b[2;36m                   \u001b[0m\u001b[2;36m \u001b[0m\u001b[34mINFO    \u001b[0m Identified \u001b[1;36m319\u001b[0m classes                                      \u001b]8;id=795079;file:///home/yang/Yang_ZHANG/Projects/3d/ProteinWorkshop/proteinworkshop/datasets/fold_classification.py\u001b\\\u001b[2mfold_classification.py\u001b[0m\u001b]8;;\u001b\\\u001b[2m:\u001b[0m\u001b]8;id=606915;file:///home/yang/Yang_ZHANG/Projects/3d/ProteinWorkshop/proteinworkshop/datasets/fold_classification.py#247\u001b\\\u001b[2m247\u001b[0m\u001b]8;;\u001b\\\n"
      ]
     },
     "metadata": {},
     "output_type": "display_data"
    },
    {
     "data": {
      "text/html": [
       "<pre style=\"white-space:pre;overflow-x:auto;line-height:normal;font-family:Menlo,'DejaVu Sans Mono',consolas,'Courier New',monospace\"><span style=\"color: #7fbfbf; text-decoration-color: #7fbfbf\">                    </span><span style=\"color: #000080; text-decoration-color: #000080\">INFO    </span> All structures already processed and <span style=\"color: #808000; text-decoration-color: #808000\">overwrite</span>=<span style=\"color: #ff0000; text-decoration-color: #ff0000; font-style: italic\">False</span>. Skipping download.   <a href=\"file:///home/yang/Yang_ZHANG/Projects/3d/ProteinWorkshop/proteinworkshop/datasets/base.py\" target=\"_blank\"><span style=\"color: #7f7f7f; text-decoration-color: #7f7f7f\">base.py</span></a><span style=\"color: #7f7f7f; text-decoration-color: #7f7f7f\">:</span><a href=\"file:///home/yang/Yang_ZHANG/Projects/3d/ProteinWorkshop/proteinworkshop/datasets/base.py#327\" target=\"_blank\"><span style=\"color: #7f7f7f; text-decoration-color: #7f7f7f\">327</span></a>\n",
       "</pre>\n"
      ],
      "text/plain": [
       "\u001b[2;36m                   \u001b[0m\u001b[2;36m \u001b[0m\u001b[34mINFO    \u001b[0m All structures already processed and \u001b[33moverwrite\u001b[0m=\u001b[3;91mFalse\u001b[0m. Skipping download.   \u001b]8;id=793095;file:///home/yang/Yang_ZHANG/Projects/3d/ProteinWorkshop/proteinworkshop/datasets/base.py\u001b\\\u001b[2mbase.py\u001b[0m\u001b]8;;\u001b\\\u001b[2m:\u001b[0m\u001b]8;id=835029;file:///home/yang/Yang_ZHANG/Projects/3d/ProteinWorkshop/proteinworkshop/datasets/base.py#327\u001b\\\u001b[2m327\u001b[0m\u001b]8;;\u001b\\\n"
      ]
     },
     "metadata": {},
     "output_type": "display_data"
    },
    {
     "data": {
      "text/html": [
       "<pre style=\"white-space:pre;overflow-x:auto;line-height:normal;font-family:Menlo,'DejaVu Sans Mono',consolas,'Courier New',monospace\"><span style=\"color: #7fbfbf; text-decoration-color: #7fbfbf\">                    </span><span style=\"color: #800000; text-decoration-color: #800000\">WARNING </span> Downloads in .ent format are assumed to be from ASTRAL. These data should  <a href=\"file:///home/yang/Yang_ZHANG/Projects/3d/ProteinWorkshop/proteinworkshop/datasets/base.py\" target=\"_blank\"><span style=\"color: #7f7f7f; text-decoration-color: #7f7f7f\">base.py</span></a><span style=\"color: #7f7f7f; text-decoration-color: #7f7f7f\">:</span><a href=\"file:///home/yang/Yang_ZHANG/Projects/3d/ProteinWorkshop/proteinworkshop/datasets/base.py#357\" target=\"_blank\"><span style=\"color: #7f7f7f; text-decoration-color: #7f7f7f\">357</span></a>\n",
       "<span style=\"color: #7fbfbf; text-decoration-color: #7fbfbf\">                    </span>         have already been downloaded                                               <span style=\"color: #7f7f7f; text-decoration-color: #7f7f7f\">           </span>\n",
       "</pre>\n"
      ],
      "text/plain": [
       "\u001b[2;36m                   \u001b[0m\u001b[2;36m \u001b[0m\u001b[31mWARNING \u001b[0m Downloads in .ent format are assumed to be from ASTRAL. These data should  \u001b]8;id=754579;file:///home/yang/Yang_ZHANG/Projects/3d/ProteinWorkshop/proteinworkshop/datasets/base.py\u001b\\\u001b[2mbase.py\u001b[0m\u001b]8;;\u001b\\\u001b[2m:\u001b[0m\u001b]8;id=495310;file:///home/yang/Yang_ZHANG/Projects/3d/ProteinWorkshop/proteinworkshop/datasets/base.py#357\u001b\\\u001b[2m357\u001b[0m\u001b]8;;\u001b\\\n",
       "\u001b[2;36m                    \u001b[0m         have already been downloaded                                               \u001b[2m           \u001b[0m\n"
      ]
     },
     "metadata": {},
     "output_type": "display_data"
    },
    {
     "data": {
      "text/html": [
       "<pre style=\"white-space:pre;overflow-x:auto;line-height:normal;font-family:Menlo,'DejaVu Sans Mono',consolas,'Courier New',monospace\"><span style=\"color: #7fbfbf; text-decoration-color: #7fbfbf\">                    </span><span style=\"color: #000080; text-decoration-color: #000080\">INFO    </span> Reading data into memory                                                   <a href=\"file:///home/yang/Yang_ZHANG/Projects/3d/ProteinWorkshop/proteinworkshop/datasets/base.py\" target=\"_blank\"><span style=\"color: #7f7f7f; text-decoration-color: #7f7f7f\">base.py</span></a><span style=\"color: #7f7f7f; text-decoration-color: #7f7f7f\">:</span><a href=\"file:///home/yang/Yang_ZHANG/Projects/3d/ProteinWorkshop/proteinworkshop/datasets/base.py#337\" target=\"_blank\"><span style=\"color: #7f7f7f; text-decoration-color: #7f7f7f\">337</span></a>\n",
       "</pre>\n"
      ],
      "text/plain": [
       "\u001b[2;36m                   \u001b[0m\u001b[2;36m \u001b[0m\u001b[34mINFO    \u001b[0m Reading data into memory                                                   \u001b]8;id=444954;file:///home/yang/Yang_ZHANG/Projects/3d/ProteinWorkshop/proteinworkshop/datasets/base.py\u001b\\\u001b[2mbase.py\u001b[0m\u001b]8;;\u001b\\\u001b[2m:\u001b[0m\u001b]8;id=345589;file:///home/yang/Yang_ZHANG/Projects/3d/ProteinWorkshop/proteinworkshop/datasets/base.py#337\u001b\\\u001b[2m337\u001b[0m\u001b]8;;\u001b\\\n"
      ]
     },
     "metadata": {},
     "output_type": "display_data"
    },
    {
     "name": "stderr",
     "output_type": "stream",
     "text": [
      "100%|██████████| 736/736 [00:00<00:00, 1735.32it/s]\n"
     ]
    },
    {
     "data": {
      "text/html": [
       "<pre style=\"white-space:pre;overflow-x:auto;line-height:normal;font-family:Menlo,'DejaVu Sans Mono',consolas,'Courier New',monospace\"><span style=\"color: #7fbfbf; text-decoration-color: #7fbfbf\">[07/11/24 18:05:00] </span><span style=\"color: #000080; text-decoration-color: #000080\">INFO    </span> Unfeaturized batch: <span style=\"color: #800080; text-decoration-color: #800080; font-weight: bold\">DataProteinBatch</span><span style=\"font-weight: bold\">(</span><span style=\"color: #808000; text-decoration-color: #808000\">fill_value</span>=<span style=\"color: #008080; text-decoration-color: #008080; font-weight: bold\">1e-05</span>, <span style=\"color: #808000; text-decoration-color: #808000\">atom_list</span>=<span style=\"font-weight: bold\">[</span><span style=\"color: #008080; text-decoration-color: #008080; font-weight: bold\">37</span><span style=\"font-weight: bold\">]</span>,    <a href=\"file:///home/yang/Yang_ZHANG/Projects/3d/ProteinWorkshop/proteinworkshop/train.py\" target=\"_blank\"><span style=\"color: #7f7f7f; text-decoration-color: #7f7f7f\">train.py</span></a><span style=\"color: #7f7f7f; text-decoration-color: #7f7f7f\">:</span><a href=\"file:///home/yang/Yang_ZHANG/Projects/3d/ProteinWorkshop/proteinworkshop/train.py#149\" target=\"_blank\"><span style=\"color: #7f7f7f; text-decoration-color: #7f7f7f\">149</span></a>\n",
       "<span style=\"color: #7fbfbf; text-decoration-color: #7fbfbf\">                    </span>         <span style=\"color: #808000; text-decoration-color: #808000\">coords</span>=<span style=\"font-weight: bold\">[</span><span style=\"color: #008080; text-decoration-color: #008080; font-weight: bold\">7747</span>, <span style=\"color: #008080; text-decoration-color: #008080; font-weight: bold\">37</span>, <span style=\"color: #008080; text-decoration-color: #008080; font-weight: bold\">3</span><span style=\"font-weight: bold\">]</span>, <span style=\"color: #808000; text-decoration-color: #808000\">residues</span>=<span style=\"font-weight: bold\">[</span><span style=\"color: #008080; text-decoration-color: #008080; font-weight: bold\">32</span><span style=\"font-weight: bold\">]</span>, <span style=\"color: #808000; text-decoration-color: #808000\">id</span>=<span style=\"font-weight: bold\">[</span><span style=\"color: #008080; text-decoration-color: #008080; font-weight: bold\">32</span><span style=\"font-weight: bold\">]</span>, <span style=\"color: #808000; text-decoration-color: #808000\">residue_id</span>=<span style=\"font-weight: bold\">[</span><span style=\"color: #008080; text-decoration-color: #008080; font-weight: bold\">32</span><span style=\"font-weight: bold\">]</span>,            <span style=\"color: #7f7f7f; text-decoration-color: #7f7f7f\">            </span>\n",
       "<span style=\"color: #7fbfbf; text-decoration-color: #7fbfbf\">                    </span>         <span style=\"color: #808000; text-decoration-color: #808000\">residue_type</span>=<span style=\"font-weight: bold\">[</span><span style=\"color: #008080; text-decoration-color: #008080; font-weight: bold\">7747</span><span style=\"font-weight: bold\">]</span>, <span style=\"color: #808000; text-decoration-color: #808000\">chains</span>=<span style=\"font-weight: bold\">[</span><span style=\"color: #008080; text-decoration-color: #008080; font-weight: bold\">7747</span><span style=\"font-weight: bold\">]</span>, <span style=\"color: #808000; text-decoration-color: #808000\">graph_y</span>=<span style=\"font-weight: bold\">[</span><span style=\"color: #008080; text-decoration-color: #008080; font-weight: bold\">32</span><span style=\"font-weight: bold\">]</span>, <span style=\"color: #808000; text-decoration-color: #808000\">x</span>=<span style=\"font-weight: bold\">[</span><span style=\"color: #008080; text-decoration-color: #008080; font-weight: bold\">7747</span><span style=\"font-weight: bold\">]</span>,               <span style=\"color: #7f7f7f; text-decoration-color: #7f7f7f\">            </span>\n",
       "<span style=\"color: #7fbfbf; text-decoration-color: #7fbfbf\">                    </span>         <span style=\"color: #808000; text-decoration-color: #808000\">amino_acid_one_hot</span>=<span style=\"font-weight: bold\">[</span><span style=\"color: #008080; text-decoration-color: #008080; font-weight: bold\">7747</span>, <span style=\"color: #008080; text-decoration-color: #008080; font-weight: bold\">23</span><span style=\"font-weight: bold\">]</span>, <span style=\"color: #808000; text-decoration-color: #808000\">seq_pos</span>=<span style=\"font-weight: bold\">[</span><span style=\"color: #008080; text-decoration-color: #008080; font-weight: bold\">7747</span>, <span style=\"color: #008080; text-decoration-color: #008080; font-weight: bold\">1</span><span style=\"font-weight: bold\">]</span>, <span style=\"color: #808000; text-decoration-color: #808000\">batch</span>=<span style=\"font-weight: bold\">[</span><span style=\"color: #008080; text-decoration-color: #008080; font-weight: bold\">7747</span><span style=\"font-weight: bold\">]</span>, <span style=\"color: #808000; text-decoration-color: #808000\">ptr</span>=<span style=\"font-weight: bold\">[</span><span style=\"color: #008080; text-decoration-color: #008080; font-weight: bold\">33</span><span style=\"font-weight: bold\">])</span> <span style=\"color: #7f7f7f; text-decoration-color: #7f7f7f\">            </span>\n",
       "</pre>\n"
      ],
      "text/plain": [
       "\u001b[2;36m[07/11/24 18:05:00]\u001b[0m\u001b[2;36m \u001b[0m\u001b[34mINFO    \u001b[0m Unfeaturized batch: \u001b[1;35mDataProteinBatch\u001b[0m\u001b[1m(\u001b[0m\u001b[33mfill_value\u001b[0m=\u001b[1;36m1e\u001b[0m\u001b[1;36m-05\u001b[0m, \u001b[33matom_list\u001b[0m=\u001b[1m[\u001b[0m\u001b[1;36m37\u001b[0m\u001b[1m]\u001b[0m,    \u001b]8;id=425605;file:///home/yang/Yang_ZHANG/Projects/3d/ProteinWorkshop/proteinworkshop/train.py\u001b\\\u001b[2mtrain.py\u001b[0m\u001b]8;;\u001b\\\u001b[2m:\u001b[0m\u001b]8;id=491485;file:///home/yang/Yang_ZHANG/Projects/3d/ProteinWorkshop/proteinworkshop/train.py#149\u001b\\\u001b[2m149\u001b[0m\u001b]8;;\u001b\\\n",
       "\u001b[2;36m                    \u001b[0m         \u001b[33mcoords\u001b[0m=\u001b[1m[\u001b[0m\u001b[1;36m7747\u001b[0m, \u001b[1;36m37\u001b[0m, \u001b[1;36m3\u001b[0m\u001b[1m]\u001b[0m, \u001b[33mresidues\u001b[0m=\u001b[1m[\u001b[0m\u001b[1;36m32\u001b[0m\u001b[1m]\u001b[0m, \u001b[33mid\u001b[0m=\u001b[1m[\u001b[0m\u001b[1;36m32\u001b[0m\u001b[1m]\u001b[0m, \u001b[33mresidue_id\u001b[0m=\u001b[1m[\u001b[0m\u001b[1;36m32\u001b[0m\u001b[1m]\u001b[0m,            \u001b[2m            \u001b[0m\n",
       "\u001b[2;36m                    \u001b[0m         \u001b[33mresidue_type\u001b[0m=\u001b[1m[\u001b[0m\u001b[1;36m7747\u001b[0m\u001b[1m]\u001b[0m, \u001b[33mchains\u001b[0m=\u001b[1m[\u001b[0m\u001b[1;36m7747\u001b[0m\u001b[1m]\u001b[0m, \u001b[33mgraph_y\u001b[0m=\u001b[1m[\u001b[0m\u001b[1;36m32\u001b[0m\u001b[1m]\u001b[0m, \u001b[33mx\u001b[0m=\u001b[1m[\u001b[0m\u001b[1;36m7747\u001b[0m\u001b[1m]\u001b[0m,               \u001b[2m            \u001b[0m\n",
       "\u001b[2;36m                    \u001b[0m         \u001b[33mamino_acid_one_hot\u001b[0m=\u001b[1m[\u001b[0m\u001b[1;36m7747\u001b[0m, \u001b[1;36m23\u001b[0m\u001b[1m]\u001b[0m, \u001b[33mseq_pos\u001b[0m=\u001b[1m[\u001b[0m\u001b[1;36m7747\u001b[0m, \u001b[1;36m1\u001b[0m\u001b[1m]\u001b[0m, \u001b[33mbatch\u001b[0m=\u001b[1m[\u001b[0m\u001b[1;36m7747\u001b[0m\u001b[1m]\u001b[0m, \u001b[33mptr\u001b[0m=\u001b[1m[\u001b[0m\u001b[1;36m33\u001b[0m\u001b[1m]\u001b[0m\u001b[1m)\u001b[0m \u001b[2m            \u001b[0m\n"
      ]
     },
     "metadata": {},
     "output_type": "display_data"
    },
    {
     "data": {
      "text/html": [
       "<pre style=\"white-space:pre;overflow-x:auto;line-height:normal;font-family:Menlo,'DejaVu Sans Mono',consolas,'Courier New',monospace\"><span style=\"color: #7fbfbf; text-decoration-color: #7fbfbf\">                    </span><span style=\"color: #000080; text-decoration-color: #000080\">INFO    </span> Featurized batch: <span style=\"color: #800080; text-decoration-color: #800080; font-weight: bold\">DataProteinBatch</span><span style=\"font-weight: bold\">(</span><span style=\"color: #808000; text-decoration-color: #808000\">fill_value</span>=<span style=\"color: #008080; text-decoration-color: #008080; font-weight: bold\">1e-05</span>, <span style=\"color: #808000; text-decoration-color: #808000\">atom_list</span>=<span style=\"font-weight: bold\">[</span><span style=\"color: #008080; text-decoration-color: #008080; font-weight: bold\">37</span><span style=\"font-weight: bold\">]</span>,      <a href=\"file:///home/yang/Yang_ZHANG/Projects/3d/ProteinWorkshop/proteinworkshop/train.py\" target=\"_blank\"><span style=\"color: #7f7f7f; text-decoration-color: #7f7f7f\">train.py</span></a><span style=\"color: #7f7f7f; text-decoration-color: #7f7f7f\">:</span><a href=\"file:///home/yang/Yang_ZHANG/Projects/3d/ProteinWorkshop/proteinworkshop/train.py#151\" target=\"_blank\"><span style=\"color: #7f7f7f; text-decoration-color: #7f7f7f\">151</span></a>\n",
       "<span style=\"color: #7fbfbf; text-decoration-color: #7fbfbf\">                    </span>         <span style=\"color: #808000; text-decoration-color: #808000\">coords</span>=<span style=\"font-weight: bold\">[</span><span style=\"color: #008080; text-decoration-color: #008080; font-weight: bold\">7747</span>, <span style=\"color: #008080; text-decoration-color: #008080; font-weight: bold\">37</span>, <span style=\"color: #008080; text-decoration-color: #008080; font-weight: bold\">3</span><span style=\"font-weight: bold\">]</span>, <span style=\"color: #808000; text-decoration-color: #808000\">residues</span>=<span style=\"font-weight: bold\">[</span><span style=\"color: #008080; text-decoration-color: #008080; font-weight: bold\">32</span><span style=\"font-weight: bold\">]</span>, <span style=\"color: #808000; text-decoration-color: #808000\">id</span>=<span style=\"font-weight: bold\">[</span><span style=\"color: #008080; text-decoration-color: #008080; font-weight: bold\">32</span><span style=\"font-weight: bold\">]</span>, <span style=\"color: #808000; text-decoration-color: #808000\">residue_id</span>=<span style=\"font-weight: bold\">[</span><span style=\"color: #008080; text-decoration-color: #008080; font-weight: bold\">32</span><span style=\"font-weight: bold\">]</span>,            <span style=\"color: #7f7f7f; text-decoration-color: #7f7f7f\">            </span>\n",
       "<span style=\"color: #7fbfbf; text-decoration-color: #7fbfbf\">                    </span>         <span style=\"color: #808000; text-decoration-color: #808000\">residue_type</span>=<span style=\"font-weight: bold\">[</span><span style=\"color: #008080; text-decoration-color: #008080; font-weight: bold\">7747</span><span style=\"font-weight: bold\">]</span>, <span style=\"color: #808000; text-decoration-color: #808000\">chains</span>=<span style=\"font-weight: bold\">[</span><span style=\"color: #008080; text-decoration-color: #008080; font-weight: bold\">7747</span><span style=\"font-weight: bold\">]</span>, <span style=\"color: #808000; text-decoration-color: #808000\">graph_y</span>=<span style=\"font-weight: bold\">[</span><span style=\"color: #008080; text-decoration-color: #008080; font-weight: bold\">32</span><span style=\"font-weight: bold\">]</span>, <span style=\"color: #808000; text-decoration-color: #808000\">x</span>=<span style=\"font-weight: bold\">[</span><span style=\"color: #008080; text-decoration-color: #008080; font-weight: bold\">7747</span>, <span style=\"color: #008080; text-decoration-color: #008080; font-weight: bold\">23</span><span style=\"font-weight: bold\">]</span>,           <span style=\"color: #7f7f7f; text-decoration-color: #7f7f7f\">            </span>\n",
       "<span style=\"color: #7fbfbf; text-decoration-color: #7fbfbf\">                    </span>         <span style=\"color: #808000; text-decoration-color: #808000\">amino_acid_one_hot</span>=<span style=\"font-weight: bold\">[</span><span style=\"color: #008080; text-decoration-color: #008080; font-weight: bold\">7747</span>, <span style=\"color: #008080; text-decoration-color: #008080; font-weight: bold\">23</span><span style=\"font-weight: bold\">]</span>, <span style=\"color: #808000; text-decoration-color: #808000\">seq_pos</span>=<span style=\"font-weight: bold\">[</span><span style=\"color: #008080; text-decoration-color: #008080; font-weight: bold\">7747</span>, <span style=\"color: #008080; text-decoration-color: #008080; font-weight: bold\">1</span><span style=\"font-weight: bold\">]</span>, <span style=\"color: #808000; text-decoration-color: #808000\">batch</span>=<span style=\"font-weight: bold\">[</span><span style=\"color: #008080; text-decoration-color: #008080; font-weight: bold\">7747</span><span style=\"font-weight: bold\">]</span>, <span style=\"color: #808000; text-decoration-color: #808000\">ptr</span>=<span style=\"font-weight: bold\">[</span><span style=\"color: #008080; text-decoration-color: #008080; font-weight: bold\">33</span><span style=\"font-weight: bold\">]</span>, <span style=\"color: #7f7f7f; text-decoration-color: #7f7f7f\">            </span>\n",
       "<span style=\"color: #7fbfbf; text-decoration-color: #7fbfbf\">                    </span>         <span style=\"color: #808000; text-decoration-color: #808000\">pos</span>=<span style=\"font-weight: bold\">[</span><span style=\"color: #008080; text-decoration-color: #008080; font-weight: bold\">7747</span>, <span style=\"color: #008080; text-decoration-color: #008080; font-weight: bold\">3</span><span style=\"font-weight: bold\">]</span>, <span style=\"color: #808000; text-decoration-color: #808000\">edge_index</span>=<span style=\"font-weight: bold\">[</span><span style=\"color: #008080; text-decoration-color: #008080; font-weight: bold\">2</span>, <span style=\"color: #008080; text-decoration-color: #008080; font-weight: bold\">123952</span><span style=\"font-weight: bold\">]</span>, <span style=\"color: #808000; text-decoration-color: #808000\">edge_type</span>=<span style=\"font-weight: bold\">[</span><span style=\"color: #008080; text-decoration-color: #008080; font-weight: bold\">1</span>, <span style=\"color: #008080; text-decoration-color: #008080; font-weight: bold\">123952</span><span style=\"font-weight: bold\">]</span>,             <span style=\"color: #7f7f7f; text-decoration-color: #7f7f7f\">            </span>\n",
       "<span style=\"color: #7fbfbf; text-decoration-color: #7fbfbf\">                    </span>         <span style=\"color: #808000; text-decoration-color: #808000\">num_relation</span>=<span style=\"color: #008080; text-decoration-color: #008080; font-weight: bold\">1</span>, <span style=\"color: #808000; text-decoration-color: #808000\">edge_attr</span>=<span style=\"font-weight: bold\">[</span><span style=\"color: #008080; text-decoration-color: #008080; font-weight: bold\">123952</span>, <span style=\"color: #008080; text-decoration-color: #008080; font-weight: bold\">1</span><span style=\"font-weight: bold\">])</span>                                    <span style=\"color: #7f7f7f; text-decoration-color: #7f7f7f\">            </span>\n",
       "</pre>\n"
      ],
      "text/plain": [
       "\u001b[2;36m                   \u001b[0m\u001b[2;36m \u001b[0m\u001b[34mINFO    \u001b[0m Featurized batch: \u001b[1;35mDataProteinBatch\u001b[0m\u001b[1m(\u001b[0m\u001b[33mfill_value\u001b[0m=\u001b[1;36m1e\u001b[0m\u001b[1;36m-05\u001b[0m, \u001b[33matom_list\u001b[0m=\u001b[1m[\u001b[0m\u001b[1;36m37\u001b[0m\u001b[1m]\u001b[0m,      \u001b]8;id=509948;file:///home/yang/Yang_ZHANG/Projects/3d/ProteinWorkshop/proteinworkshop/train.py\u001b\\\u001b[2mtrain.py\u001b[0m\u001b]8;;\u001b\\\u001b[2m:\u001b[0m\u001b]8;id=989628;file:///home/yang/Yang_ZHANG/Projects/3d/ProteinWorkshop/proteinworkshop/train.py#151\u001b\\\u001b[2m151\u001b[0m\u001b]8;;\u001b\\\n",
       "\u001b[2;36m                    \u001b[0m         \u001b[33mcoords\u001b[0m=\u001b[1m[\u001b[0m\u001b[1;36m7747\u001b[0m, \u001b[1;36m37\u001b[0m, \u001b[1;36m3\u001b[0m\u001b[1m]\u001b[0m, \u001b[33mresidues\u001b[0m=\u001b[1m[\u001b[0m\u001b[1;36m32\u001b[0m\u001b[1m]\u001b[0m, \u001b[33mid\u001b[0m=\u001b[1m[\u001b[0m\u001b[1;36m32\u001b[0m\u001b[1m]\u001b[0m, \u001b[33mresidue_id\u001b[0m=\u001b[1m[\u001b[0m\u001b[1;36m32\u001b[0m\u001b[1m]\u001b[0m,            \u001b[2m            \u001b[0m\n",
       "\u001b[2;36m                    \u001b[0m         \u001b[33mresidue_type\u001b[0m=\u001b[1m[\u001b[0m\u001b[1;36m7747\u001b[0m\u001b[1m]\u001b[0m, \u001b[33mchains\u001b[0m=\u001b[1m[\u001b[0m\u001b[1;36m7747\u001b[0m\u001b[1m]\u001b[0m, \u001b[33mgraph_y\u001b[0m=\u001b[1m[\u001b[0m\u001b[1;36m32\u001b[0m\u001b[1m]\u001b[0m, \u001b[33mx\u001b[0m=\u001b[1m[\u001b[0m\u001b[1;36m7747\u001b[0m, \u001b[1;36m23\u001b[0m\u001b[1m]\u001b[0m,           \u001b[2m            \u001b[0m\n",
       "\u001b[2;36m                    \u001b[0m         \u001b[33mamino_acid_one_hot\u001b[0m=\u001b[1m[\u001b[0m\u001b[1;36m7747\u001b[0m, \u001b[1;36m23\u001b[0m\u001b[1m]\u001b[0m, \u001b[33mseq_pos\u001b[0m=\u001b[1m[\u001b[0m\u001b[1;36m7747\u001b[0m, \u001b[1;36m1\u001b[0m\u001b[1m]\u001b[0m, \u001b[33mbatch\u001b[0m=\u001b[1m[\u001b[0m\u001b[1;36m7747\u001b[0m\u001b[1m]\u001b[0m, \u001b[33mptr\u001b[0m=\u001b[1m[\u001b[0m\u001b[1;36m33\u001b[0m\u001b[1m]\u001b[0m, \u001b[2m            \u001b[0m\n",
       "\u001b[2;36m                    \u001b[0m         \u001b[33mpos\u001b[0m=\u001b[1m[\u001b[0m\u001b[1;36m7747\u001b[0m, \u001b[1;36m3\u001b[0m\u001b[1m]\u001b[0m, \u001b[33medge_index\u001b[0m=\u001b[1m[\u001b[0m\u001b[1;36m2\u001b[0m, \u001b[1;36m123952\u001b[0m\u001b[1m]\u001b[0m, \u001b[33medge_type\u001b[0m=\u001b[1m[\u001b[0m\u001b[1;36m1\u001b[0m, \u001b[1;36m123952\u001b[0m\u001b[1m]\u001b[0m,             \u001b[2m            \u001b[0m\n",
       "\u001b[2;36m                    \u001b[0m         \u001b[33mnum_relation\u001b[0m=\u001b[1;36m1\u001b[0m, \u001b[33medge_attr\u001b[0m=\u001b[1m[\u001b[0m\u001b[1;36m123952\u001b[0m, \u001b[1;36m1\u001b[0m\u001b[1m]\u001b[0m\u001b[1m)\u001b[0m                                    \u001b[2m            \u001b[0m\n"
      ]
     },
     "metadata": {},
     "output_type": "display_data"
    },
    {
     "data": {
      "text/html": [
       "<pre style=\"white-space:pre;overflow-x:auto;line-height:normal;font-family:Menlo,'DejaVu Sans Mono',consolas,'Courier New',monospace\"><span style=\"color: #7fbfbf; text-decoration-color: #7fbfbf\">                    </span><span style=\"color: #000080; text-decoration-color: #000080\">INFO    </span> Example labels: <span style=\"font-weight: bold\">{</span><span style=\"color: #008000; text-decoration-color: #008000\">'graph_label'</span>: tensor<span style=\"font-weight: bold\">[</span><span style=\"color: #008080; text-decoration-color: #008080; font-weight: bold\">32</span><span style=\"font-weight: bold\">]</span> i64 x∈<span style=\"font-weight: bold\">[</span><span style=\"color: #008080; text-decoration-color: #008080; font-weight: bold\">0</span>, <span style=\"color: #008080; text-decoration-color: #008080; font-weight: bold\">128</span><span style=\"font-weight: bold\">]</span> <span style=\"color: #808000; text-decoration-color: #808000\">μ</span>=<span style=\"color: #008080; text-decoration-color: #008080; font-weight: bold\">103.312</span>       <a href=\"file:///home/yang/Yang_ZHANG/Projects/3d/ProteinWorkshop/proteinworkshop/train.py\" target=\"_blank\"><span style=\"color: #7f7f7f; text-decoration-color: #7f7f7f\">train.py</span></a><span style=\"color: #7f7f7f; text-decoration-color: #7f7f7f\">:</span><a href=\"file:///home/yang/Yang_ZHANG/Projects/3d/ProteinWorkshop/proteinworkshop/train.py#152\" target=\"_blank\"><span style=\"color: #7f7f7f; text-decoration-color: #7f7f7f\">152</span></a>\n",
       "<span style=\"color: #7fbfbf; text-decoration-color: #7fbfbf\">                    </span>         <span style=\"color: #808000; text-decoration-color: #808000\">σ</span>=<span style=\"color: #008080; text-decoration-color: #008080; font-weight: bold\">34.218</span><span style=\"font-weight: bold\">}</span>                                                                 <span style=\"color: #7f7f7f; text-decoration-color: #7f7f7f\">            </span>\n",
       "</pre>\n"
      ],
      "text/plain": [
       "\u001b[2;36m                   \u001b[0m\u001b[2;36m \u001b[0m\u001b[34mINFO    \u001b[0m Example labels: \u001b[1m{\u001b[0m\u001b[32m'graph_label'\u001b[0m: tensor\u001b[1m[\u001b[0m\u001b[1;36m32\u001b[0m\u001b[1m]\u001b[0m i64 x∈\u001b[1m[\u001b[0m\u001b[1;36m0\u001b[0m, \u001b[1;36m128\u001b[0m\u001b[1m]\u001b[0m \u001b[33mμ\u001b[0m=\u001b[1;36m103\u001b[0m\u001b[1;36m.312\u001b[0m       \u001b]8;id=230935;file:///home/yang/Yang_ZHANG/Projects/3d/ProteinWorkshop/proteinworkshop/train.py\u001b\\\u001b[2mtrain.py\u001b[0m\u001b]8;;\u001b\\\u001b[2m:\u001b[0m\u001b]8;id=682590;file:///home/yang/Yang_ZHANG/Projects/3d/ProteinWorkshop/proteinworkshop/train.py#152\u001b\\\u001b[2m152\u001b[0m\u001b]8;;\u001b\\\n",
       "\u001b[2;36m                    \u001b[0m         \u001b[33mσ\u001b[0m=\u001b[1;36m34\u001b[0m\u001b[1;36m.218\u001b[0m\u001b[1m}\u001b[0m                                                                 \u001b[2m            \u001b[0m\n"
      ]
     },
     "metadata": {},
     "output_type": "display_data"
    },
    {
     "data": {
      "text/html": [
       "<pre style=\"white-space:pre;overflow-x:auto;line-height:normal;font-family:Menlo,'DejaVu Sans Mono',consolas,'Courier New',monospace\"><span style=\"color: #7fbfbf; text-decoration-color: #7fbfbf\">[07/11/24 18:05:01] </span><span style=\"color: #000080; text-decoration-color: #000080\">INFO    </span> Model output: <span style=\"font-weight: bold\">{</span><span style=\"color: #008000; text-decoration-color: #008000\">'graph_embedding'</span>: tensor<span style=\"font-weight: bold\">[</span><span style=\"color: #008080; text-decoration-color: #008080; font-weight: bold\">32</span>, <span style=\"color: #008080; text-decoration-color: #008080; font-weight: bold\">1195</span><span style=\"font-weight: bold\">]</span> <span style=\"color: #808000; text-decoration-color: #808000\">n</span>=<span style=\"color: #008080; text-decoration-color: #008080; font-weight: bold\">38240</span> <span style=\"font-weight: bold\">(</span><span style=\"color: #008080; text-decoration-color: #008080; font-weight: bold\">0.</span>1Mb<span style=\"font-weight: bold\">)</span>        <a href=\"file:///home/yang/Yang_ZHANG/Projects/3d/ProteinWorkshop/proteinworkshop/train.py\" target=\"_blank\"><span style=\"color: #7f7f7f; text-decoration-color: #7f7f7f\">train.py</span></a><span style=\"color: #7f7f7f; text-decoration-color: #7f7f7f\">:</span><a href=\"file:///home/yang/Yang_ZHANG/Projects/3d/ProteinWorkshop/proteinworkshop/train.py#160\" target=\"_blank\"><span style=\"color: #7f7f7f; text-decoration-color: #7f7f7f\">160</span></a>\n",
       "<span style=\"color: #7fbfbf; text-decoration-color: #7fbfbf\">                    </span>         x∈<span style=\"font-weight: bold\">[</span><span style=\"color: #008080; text-decoration-color: #008080; font-weight: bold\">-0.132</span>, <span style=\"color: #008080; text-decoration-color: #008080; font-weight: bold\">0.151</span><span style=\"font-weight: bold\">]</span> <span style=\"color: #808000; text-decoration-color: #808000\">μ</span>=<span style=\"color: #008080; text-decoration-color: #008080; font-weight: bold\">-0.000</span> <span style=\"color: #808000; text-decoration-color: #808000\">σ</span>=<span style=\"color: #008080; text-decoration-color: #008080; font-weight: bold\">0.022</span>, <span style=\"color: #008000; text-decoration-color: #008000\">'graph_label'</span>: tensor<span style=\"font-weight: bold\">[</span><span style=\"color: #008080; text-decoration-color: #008080; font-weight: bold\">32</span>, <span style=\"color: #008080; text-decoration-color: #008080; font-weight: bold\">1195</span><span style=\"font-weight: bold\">]</span>       <span style=\"color: #7f7f7f; text-decoration-color: #7f7f7f\">            </span>\n",
       "<span style=\"color: #7fbfbf; text-decoration-color: #7fbfbf\">                    </span>         <span style=\"color: #808000; text-decoration-color: #808000\">n</span>=<span style=\"color: #008080; text-decoration-color: #008080; font-weight: bold\">38240</span> <span style=\"font-weight: bold\">(</span><span style=\"color: #008080; text-decoration-color: #008080; font-weight: bold\">0.</span>1Mb<span style=\"font-weight: bold\">)</span> x∈<span style=\"font-weight: bold\">[</span><span style=\"color: #008080; text-decoration-color: #008080; font-weight: bold\">-0.132</span>, <span style=\"color: #008080; text-decoration-color: #008080; font-weight: bold\">0.151</span><span style=\"font-weight: bold\">]</span> <span style=\"color: #808000; text-decoration-color: #808000\">μ</span>=<span style=\"color: #008080; text-decoration-color: #008080; font-weight: bold\">-0.000</span> <span style=\"color: #808000; text-decoration-color: #808000\">σ</span>=<span style=\"color: #008080; text-decoration-color: #008080; font-weight: bold\">0.022</span><span style=\"font-weight: bold\">}</span>                       <span style=\"color: #7f7f7f; text-decoration-color: #7f7f7f\">            </span>\n",
       "</pre>\n"
      ],
      "text/plain": [
       "\u001b[2;36m[07/11/24 18:05:01]\u001b[0m\u001b[2;36m \u001b[0m\u001b[34mINFO    \u001b[0m Model output: \u001b[1m{\u001b[0m\u001b[32m'graph_embedding'\u001b[0m: tensor\u001b[1m[\u001b[0m\u001b[1;36m32\u001b[0m, \u001b[1;36m1195\u001b[0m\u001b[1m]\u001b[0m \u001b[33mn\u001b[0m=\u001b[1;36m38240\u001b[0m \u001b[1m(\u001b[0m\u001b[1;36m0.\u001b[0m1Mb\u001b[1m)\u001b[0m        \u001b]8;id=595341;file:///home/yang/Yang_ZHANG/Projects/3d/ProteinWorkshop/proteinworkshop/train.py\u001b\\\u001b[2mtrain.py\u001b[0m\u001b]8;;\u001b\\\u001b[2m:\u001b[0m\u001b]8;id=321054;file:///home/yang/Yang_ZHANG/Projects/3d/ProteinWorkshop/proteinworkshop/train.py#160\u001b\\\u001b[2m160\u001b[0m\u001b]8;;\u001b\\\n",
       "\u001b[2;36m                    \u001b[0m         x∈\u001b[1m[\u001b[0m\u001b[1;36m-0.132\u001b[0m, \u001b[1;36m0.151\u001b[0m\u001b[1m]\u001b[0m \u001b[33mμ\u001b[0m=\u001b[1;36m-0.000\u001b[0m \u001b[33mσ\u001b[0m=\u001b[1;36m0\u001b[0m\u001b[1;36m.022\u001b[0m, \u001b[32m'graph_label'\u001b[0m: tensor\u001b[1m[\u001b[0m\u001b[1;36m32\u001b[0m, \u001b[1;36m1195\u001b[0m\u001b[1m]\u001b[0m       \u001b[2m            \u001b[0m\n",
       "\u001b[2;36m                    \u001b[0m         \u001b[33mn\u001b[0m=\u001b[1;36m38240\u001b[0m \u001b[1m(\u001b[0m\u001b[1;36m0.\u001b[0m1Mb\u001b[1m)\u001b[0m x∈\u001b[1m[\u001b[0m\u001b[1;36m-0.132\u001b[0m, \u001b[1;36m0.151\u001b[0m\u001b[1m]\u001b[0m \u001b[33mμ\u001b[0m=\u001b[1;36m-0.000\u001b[0m \u001b[33mσ\u001b[0m=\u001b[1;36m0\u001b[0m\u001b[1;36m.022\u001b[0m\u001b[1m}\u001b[0m                       \u001b[2m            \u001b[0m\n"
      ]
     },
     "metadata": {},
     "output_type": "display_data"
    },
    {
     "data": {
      "text/html": [
       "<pre style=\"white-space:pre;overflow-x:auto;line-height:normal;font-family:Menlo,'DejaVu Sans Mono',consolas,'Courier New',monospace\"><span style=\"color: #7fbfbf; text-decoration-color: #7fbfbf\">                    </span><span style=\"color: #000080; text-decoration-color: #000080\">INFO    </span> Logging hyperparameters!                                                  <a href=\"file:///home/yang/Yang_ZHANG/Projects/3d/ProteinWorkshop/proteinworkshop/train.py\" target=\"_blank\"><span style=\"color: #7f7f7f; text-decoration-color: #7f7f7f\">train.py</span></a><span style=\"color: #7f7f7f; text-decoration-color: #7f7f7f\">:</span><a href=\"file:///home/yang/Yang_ZHANG/Projects/3d/ProteinWorkshop/proteinworkshop/train.py#173\" target=\"_blank\"><span style=\"color: #7f7f7f; text-decoration-color: #7f7f7f\">173</span></a>\n",
       "</pre>\n"
      ],
      "text/plain": [
       "\u001b[2;36m                   \u001b[0m\u001b[2;36m \u001b[0m\u001b[34mINFO    \u001b[0m Logging hyperparameters!                                                  \u001b]8;id=808210;file:///home/yang/Yang_ZHANG/Projects/3d/ProteinWorkshop/proteinworkshop/train.py\u001b\\\u001b[2mtrain.py\u001b[0m\u001b]8;;\u001b\\\u001b[2m:\u001b[0m\u001b]8;id=976498;file:///home/yang/Yang_ZHANG/Projects/3d/ProteinWorkshop/proteinworkshop/train.py#173\u001b\\\u001b[2m173\u001b[0m\u001b]8;;\u001b\\\n"
      ]
     },
     "metadata": {},
     "output_type": "display_data"
    },
    {
     "data": {
      "text/html": [
       "<pre style=\"white-space:pre;overflow-x:auto;line-height:normal;font-family:Menlo,'DejaVu Sans Mono',consolas,'Courier New',monospace\"><span style=\"color: #7fbfbf; text-decoration-color: #7fbfbf\">                    </span><span style=\"color: #000080; text-decoration-color: #000080\">INFO    </span> Starting training!                                                        <a href=\"file:///home/yang/Yang_ZHANG/Projects/3d/ProteinWorkshop/proteinworkshop/train.py\" target=\"_blank\"><span style=\"color: #7f7f7f; text-decoration-color: #7f7f7f\">train.py</span></a><span style=\"color: #7f7f7f; text-decoration-color: #7f7f7f\">:</span><a href=\"file:///home/yang/Yang_ZHANG/Projects/3d/ProteinWorkshop/proteinworkshop/train.py#181\" target=\"_blank\"><span style=\"color: #7f7f7f; text-decoration-color: #7f7f7f\">181</span></a>\n",
       "</pre>\n"
      ],
      "text/plain": [
       "\u001b[2;36m                   \u001b[0m\u001b[2;36m \u001b[0m\u001b[34mINFO    \u001b[0m Starting training!                                                        \u001b]8;id=877882;file:///home/yang/Yang_ZHANG/Projects/3d/ProteinWorkshop/proteinworkshop/train.py\u001b\\\u001b[2mtrain.py\u001b[0m\u001b]8;;\u001b\\\u001b[2m:\u001b[0m\u001b]8;id=678011;file:///home/yang/Yang_ZHANG/Projects/3d/ProteinWorkshop/proteinworkshop/train.py#181\u001b\\\u001b[2m181\u001b[0m\u001b]8;;\u001b\\\n"
      ]
     },
     "metadata": {},
     "output_type": "display_data"
    },
    {
     "name": "stderr",
     "output_type": "stream",
     "text": [
      "You are using a CUDA device ('NVIDIA RTX A5000') that has Tensor Cores. To properly utilize them, you should set `torch.set_float32_matmul_precision('medium' | 'high')` which will trade-off precision for performance. For more details, read https://pytorch.org/docs/stable/generated/torch.set_float32_matmul_precision.html#torch.set_float32_matmul_precision\n"
     ]
    },
    {
     "data": {
      "text/html": [
       "<pre style=\"white-space:pre;overflow-x:auto;line-height:normal;font-family:Menlo,'DejaVu Sans Mono',consolas,'Courier New',monospace\"><span style=\"color: #7fbfbf; text-decoration-color: #7fbfbf\">                    </span><span style=\"color: #000080; text-decoration-color: #000080\">INFO    </span> Downloading Protein Function. Fraction <span style=\"color: #008080; text-decoration-color: #008080; font-weight: bold\">1.0</span>                   <a href=\"file:///home/yang/Yang_ZHANG/Projects/3d/ProteinWorkshop/proteinworkshop/datasets/fold_classification.py\" target=\"_blank\"><span style=\"color: #7f7f7f; text-decoration-color: #7f7f7f\">fold_classification.py</span></a><span style=\"color: #7f7f7f; text-decoration-color: #7f7f7f\">:</span><a href=\"file:///home/yang/Yang_ZHANG/Projects/3d/ProteinWorkshop/proteinworkshop/datasets/fold_classification.py#86\" target=\"_blank\"><span style=\"color: #7f7f7f; text-decoration-color: #7f7f7f\">86</span></a>\n",
       "</pre>\n"
      ],
      "text/plain": [
       "\u001b[2;36m                   \u001b[0m\u001b[2;36m \u001b[0m\u001b[34mINFO    \u001b[0m Downloading Protein Function. Fraction \u001b[1;36m1.0\u001b[0m                   \u001b]8;id=561773;file:///home/yang/Yang_ZHANG/Projects/3d/ProteinWorkshop/proteinworkshop/datasets/fold_classification.py\u001b\\\u001b[2mfold_classification.py\u001b[0m\u001b]8;;\u001b\\\u001b[2m:\u001b[0m\u001b]8;id=525234;file:///home/yang/Yang_ZHANG/Projects/3d/ProteinWorkshop/proteinworkshop/datasets/fold_classification.py#86\u001b\\\u001b[2m86\u001b[0m\u001b]8;;\u001b\\\n"
      ]
     },
     "metadata": {},
     "output_type": "display_data"
    },
    {
     "data": {
      "text/html": [
       "<pre style=\"white-space:pre;overflow-x:auto;line-height:normal;font-family:Menlo,'DejaVu Sans Mono',consolas,'Courier New',monospace\"><span style=\"color: #7fbfbf; text-decoration-color: #7fbfbf\">                    </span><span style=\"color: #000080; text-decoration-color: #000080\">INFO    </span> Found SCOP structure tarfile in:                            <a href=\"file:///home/yang/Yang_ZHANG/Projects/3d/ProteinWorkshop/proteinworkshop/datasets/fold_classification.py\" target=\"_blank\"><span style=\"color: #7f7f7f; text-decoration-color: #7f7f7f\">fold_classification.py</span></a><span style=\"color: #7f7f7f; text-decoration-color: #7f7f7f\">:</span><a href=\"file:///home/yang/Yang_ZHANG/Projects/3d/ProteinWorkshop/proteinworkshop/datasets/fold_classification.py#138\" target=\"_blank\"><span style=\"color: #7f7f7f; text-decoration-color: #7f7f7f\">138</span></a>\n",
       "<span style=\"color: #7fbfbf; text-decoration-color: #7fbfbf\">                    </span>         <span style=\"color: #800080; text-decoration-color: #800080\">/home/yang/Yang_ZHANG/Projects/3d/ProteinWorkshop/proteinwo</span> <span style=\"color: #7f7f7f; text-decoration-color: #7f7f7f\">                          </span>\n",
       "<span style=\"color: #7fbfbf; text-decoration-color: #7fbfbf\">                    </span>         <span style=\"color: #800080; text-decoration-color: #800080\">rkshop/data/FoldClassification/</span><span style=\"color: #ff00ff; text-decoration-color: #ff00ff\">pdbstyle-sel-gs-bib-95-1.75.</span> <span style=\"color: #7f7f7f; text-decoration-color: #7f7f7f\">                          </span>\n",
       "<span style=\"color: #7fbfbf; text-decoration-color: #7fbfbf\">                    </span>         <span style=\"color: #ff00ff; text-decoration-color: #ff00ff\">tgz</span>                                                         <span style=\"color: #7f7f7f; text-decoration-color: #7f7f7f\">                          </span>\n",
       "</pre>\n"
      ],
      "text/plain": [
       "\u001b[2;36m                   \u001b[0m\u001b[2;36m \u001b[0m\u001b[34mINFO    \u001b[0m Found SCOP structure tarfile in:                            \u001b]8;id=767030;file:///home/yang/Yang_ZHANG/Projects/3d/ProteinWorkshop/proteinworkshop/datasets/fold_classification.py\u001b\\\u001b[2mfold_classification.py\u001b[0m\u001b]8;;\u001b\\\u001b[2m:\u001b[0m\u001b]8;id=831225;file:///home/yang/Yang_ZHANG/Projects/3d/ProteinWorkshop/proteinworkshop/datasets/fold_classification.py#138\u001b\\\u001b[2m138\u001b[0m\u001b]8;;\u001b\\\n",
       "\u001b[2;36m                    \u001b[0m         \u001b[35m/home/yang/Yang_ZHANG/Projects/3d/ProteinWorkshop/proteinwo\u001b[0m \u001b[2m                          \u001b[0m\n",
       "\u001b[2;36m                    \u001b[0m         \u001b[35mrkshop/data/FoldClassification/\u001b[0m\u001b[95mpdbstyle-sel-gs-bib-95-1.75.\u001b[0m \u001b[2m                          \u001b[0m\n",
       "\u001b[2;36m                    \u001b[0m         \u001b[95mtgz\u001b[0m                                                         \u001b[2m                          \u001b[0m\n"
      ]
     },
     "metadata": {},
     "output_type": "display_data"
    },
    {
     "data": {
      "text/html": [
       "<pre style=\"white-space:pre;overflow-x:auto;line-height:normal;font-family:Menlo,'DejaVu Sans Mono',consolas,'Courier New',monospace\"><span style=\"color: #7fbfbf; text-decoration-color: #7fbfbf\">                    </span><span style=\"color: #000080; text-decoration-color: #000080\">INFO    </span> Found SCOPe structures in:                                  <a href=\"file:///home/yang/Yang_ZHANG/Projects/3d/ProteinWorkshop/proteinworkshop/datasets/fold_classification.py\" target=\"_blank\"><span style=\"color: #7f7f7f; text-decoration-color: #7f7f7f\">fold_classification.py</span></a><span style=\"color: #7f7f7f; text-decoration-color: #7f7f7f\">:</span><a href=\"file:///home/yang/Yang_ZHANG/Projects/3d/ProteinWorkshop/proteinworkshop/datasets/fold_classification.py#151\" target=\"_blank\"><span style=\"color: #7f7f7f; text-decoration-color: #7f7f7f\">151</span></a>\n",
       "</pre>\n"
      ],
      "text/plain": [
       "\u001b[2;36m                   \u001b[0m\u001b[2;36m \u001b[0m\u001b[34mINFO    \u001b[0m Found SCOPe structures in:                                  \u001b]8;id=890704;file:///home/yang/Yang_ZHANG/Projects/3d/ProteinWorkshop/proteinworkshop/datasets/fold_classification.py\u001b\\\u001b[2mfold_classification.py\u001b[0m\u001b]8;;\u001b\\\u001b[2m:\u001b[0m\u001b]8;id=983912;file:///home/yang/Yang_ZHANG/Projects/3d/ProteinWorkshop/proteinworkshop/datasets/fold_classification.py#151\u001b\\\u001b[2m151\u001b[0m\u001b]8;;\u001b\\\n"
      ]
     },
     "metadata": {},
     "output_type": "display_data"
    },
    {
     "data": {
      "text/html": [
       "<pre style=\"white-space:pre;overflow-x:auto;line-height:normal;font-family:Menlo,'DejaVu Sans Mono',consolas,'Courier New',monospace\"><span style=\"color: #7fbfbf; text-decoration-color: #7fbfbf\">                    </span><span style=\"color: #000080; text-decoration-color: #000080\">INFO    </span> Preprocessing training data                                                 <a href=\"file:///home/yang/Yang_ZHANG/Projects/3d/ProteinWorkshop/proteinworkshop/datasets/base.py\" target=\"_blank\"><span style=\"color: #7f7f7f; text-decoration-color: #7f7f7f\">base.py</span></a><span style=\"color: #7f7f7f; text-decoration-color: #7f7f7f\">:</span><a href=\"file:///home/yang/Yang_ZHANG/Projects/3d/ProteinWorkshop/proteinworkshop/datasets/base.py#87\" target=\"_blank\"><span style=\"color: #7f7f7f; text-decoration-color: #7f7f7f\">87</span></a>\n",
       "</pre>\n"
      ],
      "text/plain": [
       "\u001b[2;36m                   \u001b[0m\u001b[2;36m \u001b[0m\u001b[34mINFO    \u001b[0m Preprocessing training data                                                 \u001b]8;id=207443;file:///home/yang/Yang_ZHANG/Projects/3d/ProteinWorkshop/proteinworkshop/datasets/base.py\u001b\\\u001b[2mbase.py\u001b[0m\u001b]8;;\u001b\\\u001b[2m:\u001b[0m\u001b]8;id=405697;file:///home/yang/Yang_ZHANG/Projects/3d/ProteinWorkshop/proteinworkshop/datasets/base.py#87\u001b\\\u001b[2m87\u001b[0m\u001b]8;;\u001b\\\n"
      ]
     },
     "metadata": {},
     "output_type": "display_data"
    },
    {
     "data": {
      "text/html": [
       "<pre style=\"white-space:pre;overflow-x:auto;line-height:normal;font-family:Menlo,'DejaVu Sans Mono',consolas,'Courier New',monospace\"><span style=\"color: #7fbfbf; text-decoration-color: #7fbfbf\">                    </span><span style=\"color: #000080; text-decoration-color: #000080\">INFO    </span> Reading labels from:                                        <a href=\"file:///home/yang/Yang_ZHANG/Projects/3d/ProteinWorkshop/proteinworkshop/datasets/fold_classification.py\" target=\"_blank\"><span style=\"color: #7f7f7f; text-decoration-color: #7f7f7f\">fold_classification.py</span></a><span style=\"color: #7f7f7f; text-decoration-color: #7f7f7f\">:</span><a href=\"file:///home/yang/Yang_ZHANG/Projects/3d/ProteinWorkshop/proteinworkshop/datasets/fold_classification.py#154\" target=\"_blank\"><span style=\"color: #7f7f7f; text-decoration-color: #7f7f7f\">154</span></a>\n",
       "<span style=\"color: #7fbfbf; text-decoration-color: #7fbfbf\">                    </span>         <span style=\"color: #800080; text-decoration-color: #800080\">/home/yang/Yang_ZHANG/Projects/3d/ProteinWorkshop/proteinwo</span> <span style=\"color: #7f7f7f; text-decoration-color: #7f7f7f\">                          </span>\n",
       "<span style=\"color: #7fbfbf; text-decoration-color: #7fbfbf\">                    </span>         <span style=\"color: #800080; text-decoration-color: #800080\">rkshop/data/FoldClassification/</span><span style=\"color: #ff00ff; text-decoration-color: #ff00ff\">class_map.txt</span>                <span style=\"color: #7f7f7f; text-decoration-color: #7f7f7f\">                          </span>\n",
       "</pre>\n"
      ],
      "text/plain": [
       "\u001b[2;36m                   \u001b[0m\u001b[2;36m \u001b[0m\u001b[34mINFO    \u001b[0m Reading labels from:                                        \u001b]8;id=655925;file:///home/yang/Yang_ZHANG/Projects/3d/ProteinWorkshop/proteinworkshop/datasets/fold_classification.py\u001b\\\u001b[2mfold_classification.py\u001b[0m\u001b]8;;\u001b\\\u001b[2m:\u001b[0m\u001b]8;id=492292;file:///home/yang/Yang_ZHANG/Projects/3d/ProteinWorkshop/proteinworkshop/datasets/fold_classification.py#154\u001b\\\u001b[2m154\u001b[0m\u001b]8;;\u001b\\\n",
       "\u001b[2;36m                    \u001b[0m         \u001b[35m/home/yang/Yang_ZHANG/Projects/3d/ProteinWorkshop/proteinwo\u001b[0m \u001b[2m                          \u001b[0m\n",
       "\u001b[2;36m                    \u001b[0m         \u001b[35mrkshop/data/FoldClassification/\u001b[0m\u001b[95mclass_map.txt\u001b[0m                \u001b[2m                          \u001b[0m\n"
      ]
     },
     "metadata": {},
     "output_type": "display_data"
    },
    {
     "data": {
      "text/html": [
       "<pre style=\"white-space:pre;overflow-x:auto;line-height:normal;font-family:Menlo,'DejaVu Sans Mono',consolas,'Courier New',monospace\"><span style=\"color: #7fbfbf; text-decoration-color: #7fbfbf\">                    </span><span style=\"color: #000080; text-decoration-color: #000080\">INFO    </span> Found <span style=\"color: #008080; text-decoration-color: #008080; font-weight: bold\">12312</span> original examples in training                   <a href=\"file:///home/yang/Yang_ZHANG/Projects/3d/ProteinWorkshop/proteinworkshop/datasets/fold_classification.py\" target=\"_blank\"><span style=\"color: #7f7f7f; text-decoration-color: #7f7f7f\">fold_classification.py</span></a><span style=\"color: #7f7f7f; text-decoration-color: #7f7f7f\">:</span><a href=\"file:///home/yang/Yang_ZHANG/Projects/3d/ProteinWorkshop/proteinworkshop/datasets/fold_classification.py#234\" target=\"_blank\"><span style=\"color: #7f7f7f; text-decoration-color: #7f7f7f\">234</span></a>\n",
       "</pre>\n"
      ],
      "text/plain": [
       "\u001b[2;36m                   \u001b[0m\u001b[2;36m \u001b[0m\u001b[34mINFO    \u001b[0m Found \u001b[1;36m12312\u001b[0m original examples in training                   \u001b]8;id=98809;file:///home/yang/Yang_ZHANG/Projects/3d/ProteinWorkshop/proteinworkshop/datasets/fold_classification.py\u001b\\\u001b[2mfold_classification.py\u001b[0m\u001b]8;;\u001b\\\u001b[2m:\u001b[0m\u001b]8;id=128290;file:///home/yang/Yang_ZHANG/Projects/3d/ProteinWorkshop/proteinworkshop/datasets/fold_classification.py#234\u001b\\\u001b[2m234\u001b[0m\u001b]8;;\u001b\\\n"
      ]
     },
     "metadata": {},
     "output_type": "display_data"
    },
    {
     "data": {
      "text/html": [
       "<pre style=\"white-space:pre;overflow-x:auto;line-height:normal;font-family:Menlo,'DejaVu Sans Mono',consolas,'Courier New',monospace\"><span style=\"color: #7fbfbf; text-decoration-color: #7fbfbf\">                    </span><span style=\"color: #000080; text-decoration-color: #000080\">INFO    </span> Identified <span style=\"color: #008080; text-decoration-color: #008080; font-weight: bold\">1195</span> classes                                     <a href=\"file:///home/yang/Yang_ZHANG/Projects/3d/ProteinWorkshop/proteinworkshop/datasets/fold_classification.py\" target=\"_blank\"><span style=\"color: #7f7f7f; text-decoration-color: #7f7f7f\">fold_classification.py</span></a><span style=\"color: #7f7f7f; text-decoration-color: #7f7f7f\">:</span><a href=\"file:///home/yang/Yang_ZHANG/Projects/3d/ProteinWorkshop/proteinworkshop/datasets/fold_classification.py#247\" target=\"_blank\"><span style=\"color: #7f7f7f; text-decoration-color: #7f7f7f\">247</span></a>\n",
       "</pre>\n"
      ],
      "text/plain": [
       "\u001b[2;36m                   \u001b[0m\u001b[2;36m \u001b[0m\u001b[34mINFO    \u001b[0m Identified \u001b[1;36m1195\u001b[0m classes                                     \u001b]8;id=448328;file:///home/yang/Yang_ZHANG/Projects/3d/ProteinWorkshop/proteinworkshop/datasets/fold_classification.py\u001b\\\u001b[2mfold_classification.py\u001b[0m\u001b]8;;\u001b\\\u001b[2m:\u001b[0m\u001b]8;id=27946;file:///home/yang/Yang_ZHANG/Projects/3d/ProteinWorkshop/proteinworkshop/datasets/fold_classification.py#247\u001b\\\u001b[2m247\u001b[0m\u001b]8;;\u001b\\\n"
      ]
     },
     "metadata": {},
     "output_type": "display_data"
    },
    {
     "data": {
      "text/html": [
       "<pre style=\"white-space:pre;overflow-x:auto;line-height:normal;font-family:Menlo,'DejaVu Sans Mono',consolas,'Courier New',monospace\"><span style=\"color: #7fbfbf; text-decoration-color: #7fbfbf\">                    </span><span style=\"color: #000080; text-decoration-color: #000080\">INFO    </span> All structures already processed and <span style=\"color: #808000; text-decoration-color: #808000\">overwrite</span>=<span style=\"color: #ff0000; text-decoration-color: #ff0000; font-style: italic\">False</span>. Skipping download.   <a href=\"file:///home/yang/Yang_ZHANG/Projects/3d/ProteinWorkshop/proteinworkshop/datasets/base.py\" target=\"_blank\"><span style=\"color: #7f7f7f; text-decoration-color: #7f7f7f\">base.py</span></a><span style=\"color: #7f7f7f; text-decoration-color: #7f7f7f\">:</span><a href=\"file:///home/yang/Yang_ZHANG/Projects/3d/ProteinWorkshop/proteinworkshop/datasets/base.py#327\" target=\"_blank\"><span style=\"color: #7f7f7f; text-decoration-color: #7f7f7f\">327</span></a>\n",
       "</pre>\n"
      ],
      "text/plain": [
       "\u001b[2;36m                   \u001b[0m\u001b[2;36m \u001b[0m\u001b[34mINFO    \u001b[0m All structures already processed and \u001b[33moverwrite\u001b[0m=\u001b[3;91mFalse\u001b[0m. Skipping download.   \u001b]8;id=133651;file:///home/yang/Yang_ZHANG/Projects/3d/ProteinWorkshop/proteinworkshop/datasets/base.py\u001b\\\u001b[2mbase.py\u001b[0m\u001b]8;;\u001b\\\u001b[2m:\u001b[0m\u001b]8;id=823874;file:///home/yang/Yang_ZHANG/Projects/3d/ProteinWorkshop/proteinworkshop/datasets/base.py#327\u001b\\\u001b[2m327\u001b[0m\u001b]8;;\u001b\\\n"
      ]
     },
     "metadata": {},
     "output_type": "display_data"
    },
    {
     "data": {
      "text/html": [
       "<pre style=\"white-space:pre;overflow-x:auto;line-height:normal;font-family:Menlo,'DejaVu Sans Mono',consolas,'Courier New',monospace\"><span style=\"color: #7fbfbf; text-decoration-color: #7fbfbf\">                    </span><span style=\"color: #800000; text-decoration-color: #800000\">WARNING </span> Downloads in .ent format are assumed to be from ASTRAL. These data should  <a href=\"file:///home/yang/Yang_ZHANG/Projects/3d/ProteinWorkshop/proteinworkshop/datasets/base.py\" target=\"_blank\"><span style=\"color: #7f7f7f; text-decoration-color: #7f7f7f\">base.py</span></a><span style=\"color: #7f7f7f; text-decoration-color: #7f7f7f\">:</span><a href=\"file:///home/yang/Yang_ZHANG/Projects/3d/ProteinWorkshop/proteinworkshop/datasets/base.py#357\" target=\"_blank\"><span style=\"color: #7f7f7f; text-decoration-color: #7f7f7f\">357</span></a>\n",
       "<span style=\"color: #7fbfbf; text-decoration-color: #7fbfbf\">                    </span>         have already been downloaded                                               <span style=\"color: #7f7f7f; text-decoration-color: #7f7f7f\">           </span>\n",
       "</pre>\n"
      ],
      "text/plain": [
       "\u001b[2;36m                   \u001b[0m\u001b[2;36m \u001b[0m\u001b[31mWARNING \u001b[0m Downloads in .ent format are assumed to be from ASTRAL. These data should  \u001b]8;id=723890;file:///home/yang/Yang_ZHANG/Projects/3d/ProteinWorkshop/proteinworkshop/datasets/base.py\u001b\\\u001b[2mbase.py\u001b[0m\u001b]8;;\u001b\\\u001b[2m:\u001b[0m\u001b]8;id=946975;file:///home/yang/Yang_ZHANG/Projects/3d/ProteinWorkshop/proteinworkshop/datasets/base.py#357\u001b\\\u001b[2m357\u001b[0m\u001b]8;;\u001b\\\n",
       "\u001b[2;36m                    \u001b[0m         have already been downloaded                                               \u001b[2m           \u001b[0m\n"
      ]
     },
     "metadata": {},
     "output_type": "display_data"
    },
    {
     "data": {
      "text/html": [
       "<pre style=\"white-space:pre;overflow-x:auto;line-height:normal;font-family:Menlo,'DejaVu Sans Mono',consolas,'Courier New',monospace\"><span style=\"color: #7fbfbf; text-decoration-color: #7fbfbf\">                    </span><span style=\"color: #000080; text-decoration-color: #000080\">INFO    </span> Reading data into memory                                                   <a href=\"file:///home/yang/Yang_ZHANG/Projects/3d/ProteinWorkshop/proteinworkshop/datasets/base.py\" target=\"_blank\"><span style=\"color: #7f7f7f; text-decoration-color: #7f7f7f\">base.py</span></a><span style=\"color: #7f7f7f; text-decoration-color: #7f7f7f\">:</span><a href=\"file:///home/yang/Yang_ZHANG/Projects/3d/ProteinWorkshop/proteinworkshop/datasets/base.py#337\" target=\"_blank\"><span style=\"color: #7f7f7f; text-decoration-color: #7f7f7f\">337</span></a>\n",
       "</pre>\n"
      ],
      "text/plain": [
       "\u001b[2;36m                   \u001b[0m\u001b[2;36m \u001b[0m\u001b[34mINFO    \u001b[0m Reading data into memory                                                   \u001b]8;id=442275;file:///home/yang/Yang_ZHANG/Projects/3d/ProteinWorkshop/proteinworkshop/datasets/base.py\u001b\\\u001b[2mbase.py\u001b[0m\u001b]8;;\u001b\\\u001b[2m:\u001b[0m\u001b]8;id=10693;file:///home/yang/Yang_ZHANG/Projects/3d/ProteinWorkshop/proteinworkshop/datasets/base.py#337\u001b\\\u001b[2m337\u001b[0m\u001b]8;;\u001b\\\n"
      ]
     },
     "metadata": {},
     "output_type": "display_data"
    },
    {
     "name": "stderr",
     "output_type": "stream",
     "text": [
      "100%|██████████| 12312/12312 [00:05<00:00, 2445.05it/s]\n"
     ]
    },
    {
     "data": {
      "text/html": [
       "<pre style=\"white-space:pre;overflow-x:auto;line-height:normal;font-family:Menlo,'DejaVu Sans Mono',consolas,'Courier New',monospace\"><span style=\"color: #7fbfbf; text-decoration-color: #7fbfbf\">[07/11/24 18:05:06] </span><span style=\"color: #000080; text-decoration-color: #000080\">INFO    </span> Preprocessing validation data                                               <a href=\"file:///home/yang/Yang_ZHANG/Projects/3d/ProteinWorkshop/proteinworkshop/datasets/base.py\" target=\"_blank\"><span style=\"color: #7f7f7f; text-decoration-color: #7f7f7f\">base.py</span></a><span style=\"color: #7f7f7f; text-decoration-color: #7f7f7f\">:</span><a href=\"file:///home/yang/Yang_ZHANG/Projects/3d/ProteinWorkshop/proteinworkshop/datasets/base.py#89\" target=\"_blank\"><span style=\"color: #7f7f7f; text-decoration-color: #7f7f7f\">89</span></a>\n",
       "</pre>\n"
      ],
      "text/plain": [
       "\u001b[2;36m[07/11/24 18:05:06]\u001b[0m\u001b[2;36m \u001b[0m\u001b[34mINFO    \u001b[0m Preprocessing validation data                                               \u001b]8;id=409727;file:///home/yang/Yang_ZHANG/Projects/3d/ProteinWorkshop/proteinworkshop/datasets/base.py\u001b\\\u001b[2mbase.py\u001b[0m\u001b]8;;\u001b\\\u001b[2m:\u001b[0m\u001b]8;id=217365;file:///home/yang/Yang_ZHANG/Projects/3d/ProteinWorkshop/proteinworkshop/datasets/base.py#89\u001b\\\u001b[2m89\u001b[0m\u001b]8;;\u001b\\\n"
      ]
     },
     "metadata": {},
     "output_type": "display_data"
    },
    {
     "name": "stderr",
     "output_type": "stream",
     "text": [
      "LOCAL_RANK: 0 - CUDA_VISIBLE_DEVICES: [0,1]\n"
     ]
    },
    {
     "data": {
      "text/html": [
       "<pre style=\"white-space:pre;overflow-x:auto;line-height:normal;font-family:Menlo,'DejaVu Sans Mono',consolas,'Courier New',monospace\"><span style=\"color: #7fbfbf; text-decoration-color: #7fbfbf\">                    </span><span style=\"color: #000080; text-decoration-color: #000080\">INFO    </span> Instantiating optimiser<span style=\"color: #808000; text-decoration-color: #808000\">...</span>                                                 <a href=\"file:///home/yang/Yang_ZHANG/Projects/3d/ProteinWorkshop/proteinworkshop/models/base.py\" target=\"_blank\"><span style=\"color: #7f7f7f; text-decoration-color: #7f7f7f\">base.py</span></a><span style=\"color: #7f7f7f; text-decoration-color: #7f7f7f\">:</span><a href=\"file:///home/yang/Yang_ZHANG/Projects/3d/ProteinWorkshop/proteinworkshop/models/base.py#215\" target=\"_blank\"><span style=\"color: #7f7f7f; text-decoration-color: #7f7f7f\">215</span></a>\n",
       "</pre>\n"
      ],
      "text/plain": [
       "\u001b[2;36m                   \u001b[0m\u001b[2;36m \u001b[0m\u001b[34mINFO    \u001b[0m Instantiating optimiser\u001b[33m...\u001b[0m                                                 \u001b]8;id=990088;file:///home/yang/Yang_ZHANG/Projects/3d/ProteinWorkshop/proteinworkshop/models/base.py\u001b\\\u001b[2mbase.py\u001b[0m\u001b]8;;\u001b\\\u001b[2m:\u001b[0m\u001b]8;id=616901;file:///home/yang/Yang_ZHANG/Projects/3d/ProteinWorkshop/proteinworkshop/models/base.py#215\u001b\\\u001b[2m215\u001b[0m\u001b]8;;\u001b\\\n"
      ]
     },
     "metadata": {},
     "output_type": "display_data"
    },
    {
     "data": {
      "text/html": [
       "<pre style=\"white-space:pre;overflow-x:auto;line-height:normal;font-family:Menlo,'DejaVu Sans Mono',consolas,'Courier New',monospace\"><span style=\"color: #7fbfbf; text-decoration-color: #7fbfbf\">                    </span><span style=\"color: #000080; text-decoration-color: #000080\">INFO    </span> <span style=\"color: #800080; text-decoration-color: #800080; font-weight: bold\">functools.partial</span><span style=\"font-weight: bold\">(&lt;</span><span style=\"color: #ff00ff; text-decoration-color: #ff00ff; font-weight: bold\">class</span><span style=\"color: #000000; text-decoration-color: #000000\"> </span><span style=\"color: #008000; text-decoration-color: #008000\">'torch.optim.adam.Adam'</span><span style=\"font-weight: bold\">&gt;</span>, <span style=\"color: #808000; text-decoration-color: #808000\">lr</span>=<span style=\"color: #008080; text-decoration-color: #008080; font-weight: bold\">0.0005</span>,              <a href=\"file:///home/yang/Yang_ZHANG/Projects/3d/ProteinWorkshop/proteinworkshop/models/base.py\" target=\"_blank\"><span style=\"color: #7f7f7f; text-decoration-color: #7f7f7f\">base.py</span></a><span style=\"color: #7f7f7f; text-decoration-color: #7f7f7f\">:</span><a href=\"file:///home/yang/Yang_ZHANG/Projects/3d/ProteinWorkshop/proteinworkshop/models/base.py#217\" target=\"_blank\"><span style=\"color: #7f7f7f; text-decoration-color: #7f7f7f\">217</span></a>\n",
       "<span style=\"color: #7fbfbf; text-decoration-color: #7fbfbf\">                    </span>         <span style=\"color: #808000; text-decoration-color: #808000\">weight_decay</span>=<span style=\"color: #008080; text-decoration-color: #008080; font-weight: bold\">0.0</span><span style=\"font-weight: bold\">)</span>                                                          <span style=\"color: #7f7f7f; text-decoration-color: #7f7f7f\">           </span>\n",
       "</pre>\n"
      ],
      "text/plain": [
       "\u001b[2;36m                   \u001b[0m\u001b[2;36m \u001b[0m\u001b[34mINFO    \u001b[0m \u001b[1;35mfunctools.partial\u001b[0m\u001b[1m(\u001b[0m\u001b[1m<\u001b[0m\u001b[1;95mclass\u001b[0m\u001b[39m \u001b[0m\u001b[32m'torch.optim.adam.Adam'\u001b[0m\u001b[1m>\u001b[0m, \u001b[33mlr\u001b[0m=\u001b[1;36m0\u001b[0m\u001b[1;36m.0005\u001b[0m,              \u001b]8;id=772683;file:///home/yang/Yang_ZHANG/Projects/3d/ProteinWorkshop/proteinworkshop/models/base.py\u001b\\\u001b[2mbase.py\u001b[0m\u001b]8;;\u001b\\\u001b[2m:\u001b[0m\u001b]8;id=614913;file:///home/yang/Yang_ZHANG/Projects/3d/ProteinWorkshop/proteinworkshop/models/base.py#217\u001b\\\u001b[2m217\u001b[0m\u001b]8;;\u001b\\\n",
       "\u001b[2;36m                    \u001b[0m         \u001b[33mweight_decay\u001b[0m=\u001b[1;36m0\u001b[0m\u001b[1;36m.0\u001b[0m\u001b[1m)\u001b[0m                                                          \u001b[2m           \u001b[0m\n"
      ]
     },
     "metadata": {},
     "output_type": "display_data"
    },
    {
     "data": {
      "text/html": [
       "<pre style=\"white-space:pre;overflow-x:auto;line-height:normal;font-family:Menlo,'DejaVu Sans Mono',consolas,'Courier New',monospace\"><span style=\"color: #7fbfbf; text-decoration-color: #7fbfbf\">                    </span><span style=\"color: #000080; text-decoration-color: #000080\">INFO    </span> Instantiating scheduler<span style=\"color: #808000; text-decoration-color: #808000\">...</span>                                                 <a href=\"file:///home/yang/Yang_ZHANG/Projects/3d/ProteinWorkshop/proteinworkshop/models/base.py\" target=\"_blank\"><span style=\"color: #7f7f7f; text-decoration-color: #7f7f7f\">base.py</span></a><span style=\"color: #7f7f7f; text-decoration-color: #7f7f7f\">:</span><a href=\"file:///home/yang/Yang_ZHANG/Projects/3d/ProteinWorkshop/proteinworkshop/models/base.py#221\" target=\"_blank\"><span style=\"color: #7f7f7f; text-decoration-color: #7f7f7f\">221</span></a>\n",
       "</pre>\n"
      ],
      "text/plain": [
       "\u001b[2;36m                   \u001b[0m\u001b[2;36m \u001b[0m\u001b[34mINFO    \u001b[0m Instantiating scheduler\u001b[33m...\u001b[0m                                                 \u001b]8;id=51193;file:///home/yang/Yang_ZHANG/Projects/3d/ProteinWorkshop/proteinworkshop/models/base.py\u001b\\\u001b[2mbase.py\u001b[0m\u001b]8;;\u001b\\\u001b[2m:\u001b[0m\u001b]8;id=147125;file:///home/yang/Yang_ZHANG/Projects/3d/ProteinWorkshop/proteinworkshop/models/base.py#221\u001b\\\u001b[2m221\u001b[0m\u001b]8;;\u001b\\\n"
      ]
     },
     "metadata": {},
     "output_type": "display_data"
    },
    {
     "data": {
      "text/html": [
       "<pre style=\"white-space:pre;overflow-x:auto;line-height:normal;font-family:Menlo,'DejaVu Sans Mono',consolas,'Courier New',monospace\"><span style=\"color: #7fbfbf; text-decoration-color: #7fbfbf\">                    </span><span style=\"color: #000080; text-decoration-color: #000080\">INFO    </span> Optimiser configuration: <span style=\"font-weight: bold\">{</span><span style=\"color: #008000; text-decoration-color: #008000\">'optimizer'</span>: Adam <span style=\"font-weight: bold\">(</span>                              <a href=\"file:///home/yang/Yang_ZHANG/Projects/3d/ProteinWorkshop/proteinworkshop/models/base.py\" target=\"_blank\"><span style=\"color: #7f7f7f; text-decoration-color: #7f7f7f\">base.py</span></a><span style=\"color: #7f7f7f; text-decoration-color: #7f7f7f\">:</span><a href=\"file:///home/yang/Yang_ZHANG/Projects/3d/ProteinWorkshop/proteinworkshop/models/base.py#233\" target=\"_blank\"><span style=\"color: #7f7f7f; text-decoration-color: #7f7f7f\">233</span></a>\n",
       "<span style=\"color: #7fbfbf; text-decoration-color: #7fbfbf\">                    </span>         Parameter Group <span style=\"color: #008080; text-decoration-color: #008080; font-weight: bold\">0</span>                                                          <span style=\"color: #7f7f7f; text-decoration-color: #7f7f7f\">           </span>\n",
       "<span style=\"color: #7fbfbf; text-decoration-color: #7fbfbf\">                    </span>             amsgrad: <span style=\"color: #ff0000; text-decoration-color: #ff0000; font-style: italic\">False</span>                                                         <span style=\"color: #7f7f7f; text-decoration-color: #7f7f7f\">           </span>\n",
       "<span style=\"color: #7fbfbf; text-decoration-color: #7fbfbf\">                    </span>             betas: <span style=\"font-weight: bold\">(</span><span style=\"color: #008080; text-decoration-color: #008080; font-weight: bold\">0.9</span>, <span style=\"color: #008080; text-decoration-color: #008080; font-weight: bold\">0.999</span><span style=\"font-weight: bold\">)</span>                                                    <span style=\"color: #7f7f7f; text-decoration-color: #7f7f7f\">           </span>\n",
       "<span style=\"color: #7fbfbf; text-decoration-color: #7fbfbf\">                    </span>             capturable: <span style=\"color: #ff0000; text-decoration-color: #ff0000; font-style: italic\">False</span>                                                      <span style=\"color: #7f7f7f; text-decoration-color: #7f7f7f\">           </span>\n",
       "<span style=\"color: #7fbfbf; text-decoration-color: #7fbfbf\">                    </span>             differentiable: <span style=\"color: #ff0000; text-decoration-color: #ff0000; font-style: italic\">False</span>                                                  <span style=\"color: #7f7f7f; text-decoration-color: #7f7f7f\">           </span>\n",
       "<span style=\"color: #7fbfbf; text-decoration-color: #7fbfbf\">                    </span>             eps: <span style=\"color: #008080; text-decoration-color: #008080; font-weight: bold\">1e-08</span>                                                             <span style=\"color: #7f7f7f; text-decoration-color: #7f7f7f\">           </span>\n",
       "<span style=\"color: #7fbfbf; text-decoration-color: #7fbfbf\">                    </span>             foreach: <span style=\"color: #800080; text-decoration-color: #800080; font-style: italic\">None</span>                                                          <span style=\"color: #7f7f7f; text-decoration-color: #7f7f7f\">           </span>\n",
       "<span style=\"color: #7fbfbf; text-decoration-color: #7fbfbf\">                    </span>             fused: <span style=\"color: #800080; text-decoration-color: #800080; font-style: italic\">None</span>                                                            <span style=\"color: #7f7f7f; text-decoration-color: #7f7f7f\">           </span>\n",
       "<span style=\"color: #7fbfbf; text-decoration-color: #7fbfbf\">                    </span>             initial_lr: <span style=\"color: #008080; text-decoration-color: #008080; font-weight: bold\">0.0005</span>                                                     <span style=\"color: #7f7f7f; text-decoration-color: #7f7f7f\">           </span>\n",
       "<span style=\"color: #7fbfbf; text-decoration-color: #7fbfbf\">                    </span>             lr: <span style=\"color: #008080; text-decoration-color: #008080; font-weight: bold\">0.0005</span>                                                             <span style=\"color: #7f7f7f; text-decoration-color: #7f7f7f\">           </span>\n",
       "<span style=\"color: #7fbfbf; text-decoration-color: #7fbfbf\">                    </span>             maximize: <span style=\"color: #ff0000; text-decoration-color: #ff0000; font-style: italic\">False</span>                                                        <span style=\"color: #7f7f7f; text-decoration-color: #7f7f7f\">           </span>\n",
       "<span style=\"color: #7fbfbf; text-decoration-color: #7fbfbf\">                    </span>             weight_decay: <span style=\"color: #008080; text-decoration-color: #008080; font-weight: bold\">0.0</span>                                                      <span style=\"color: #7f7f7f; text-decoration-color: #7f7f7f\">           </span>\n",
       "<span style=\"color: #7fbfbf; text-decoration-color: #7fbfbf\">                    </span>         <span style=\"font-weight: bold\">)</span>, <span style=\"color: #008000; text-decoration-color: #008000\">'lr_scheduler'</span>: <span style=\"font-weight: bold\">{</span><span style=\"color: #008000; text-decoration-color: #008000\">'scheduler'</span>: <span style=\"font-weight: bold\">&lt;</span><span style=\"color: #ff00ff; text-decoration-color: #ff00ff; font-weight: bold\">torch.optim.lr_scheduler.StepLR</span><span style=\"color: #000000; text-decoration-color: #000000\"> object </span>  <span style=\"color: #7f7f7f; text-decoration-color: #7f7f7f\">           </span>\n",
       "<span style=\"color: #7fbfbf; text-decoration-color: #7fbfbf\">                    </span>         <span style=\"color: #000000; text-decoration-color: #000000\">at </span><span style=\"color: #008080; text-decoration-color: #008080; font-weight: bold\">0x7f7efc6cf580</span><span style=\"font-weight: bold\">&gt;</span>, <span style=\"color: #008000; text-decoration-color: #008000\">'interval'</span>: <span style=\"color: #008000; text-decoration-color: #008000\">'epoch'</span>, <span style=\"color: #008000; text-decoration-color: #008000\">'frequency'</span>: <span style=\"color: #008080; text-decoration-color: #008080; font-weight: bold\">1</span>, <span style=\"color: #008000; text-decoration-color: #008000\">'name'</span>:           <span style=\"color: #7f7f7f; text-decoration-color: #7f7f7f\">           </span>\n",
       "<span style=\"color: #7fbfbf; text-decoration-color: #7fbfbf\">                    </span>         <span style=\"color: #008000; text-decoration-color: #008000\">'learning_rate'</span><span style=\"font-weight: bold\">}}</span>                                                          <span style=\"color: #7f7f7f; text-decoration-color: #7f7f7f\">           </span>\n",
       "</pre>\n"
      ],
      "text/plain": [
       "\u001b[2;36m                   \u001b[0m\u001b[2;36m \u001b[0m\u001b[34mINFO    \u001b[0m Optimiser configuration: \u001b[1m{\u001b[0m\u001b[32m'optimizer'\u001b[0m: Adam \u001b[1m(\u001b[0m                              \u001b]8;id=718543;file:///home/yang/Yang_ZHANG/Projects/3d/ProteinWorkshop/proteinworkshop/models/base.py\u001b\\\u001b[2mbase.py\u001b[0m\u001b]8;;\u001b\\\u001b[2m:\u001b[0m\u001b]8;id=178590;file:///home/yang/Yang_ZHANG/Projects/3d/ProteinWorkshop/proteinworkshop/models/base.py#233\u001b\\\u001b[2m233\u001b[0m\u001b]8;;\u001b\\\n",
       "\u001b[2;36m                    \u001b[0m         Parameter Group \u001b[1;36m0\u001b[0m                                                          \u001b[2m           \u001b[0m\n",
       "\u001b[2;36m                    \u001b[0m             amsgrad: \u001b[3;91mFalse\u001b[0m                                                         \u001b[2m           \u001b[0m\n",
       "\u001b[2;36m                    \u001b[0m             betas: \u001b[1m(\u001b[0m\u001b[1;36m0.9\u001b[0m, \u001b[1;36m0.999\u001b[0m\u001b[1m)\u001b[0m                                                    \u001b[2m           \u001b[0m\n",
       "\u001b[2;36m                    \u001b[0m             capturable: \u001b[3;91mFalse\u001b[0m                                                      \u001b[2m           \u001b[0m\n",
       "\u001b[2;36m                    \u001b[0m             differentiable: \u001b[3;91mFalse\u001b[0m                                                  \u001b[2m           \u001b[0m\n",
       "\u001b[2;36m                    \u001b[0m             eps: \u001b[1;36m1e-08\u001b[0m                                                             \u001b[2m           \u001b[0m\n",
       "\u001b[2;36m                    \u001b[0m             foreach: \u001b[3;35mNone\u001b[0m                                                          \u001b[2m           \u001b[0m\n",
       "\u001b[2;36m                    \u001b[0m             fused: \u001b[3;35mNone\u001b[0m                                                            \u001b[2m           \u001b[0m\n",
       "\u001b[2;36m                    \u001b[0m             initial_lr: \u001b[1;36m0.0005\u001b[0m                                                     \u001b[2m           \u001b[0m\n",
       "\u001b[2;36m                    \u001b[0m             lr: \u001b[1;36m0.0005\u001b[0m                                                             \u001b[2m           \u001b[0m\n",
       "\u001b[2;36m                    \u001b[0m             maximize: \u001b[3;91mFalse\u001b[0m                                                        \u001b[2m           \u001b[0m\n",
       "\u001b[2;36m                    \u001b[0m             weight_decay: \u001b[1;36m0.0\u001b[0m                                                      \u001b[2m           \u001b[0m\n",
       "\u001b[2;36m                    \u001b[0m         \u001b[1m)\u001b[0m, \u001b[32m'lr_scheduler'\u001b[0m: \u001b[1m{\u001b[0m\u001b[32m'scheduler'\u001b[0m: \u001b[1m<\u001b[0m\u001b[1;95mtorch.optim.lr_scheduler.StepLR\u001b[0m\u001b[39m object \u001b[0m  \u001b[2m           \u001b[0m\n",
       "\u001b[2;36m                    \u001b[0m         \u001b[39mat \u001b[0m\u001b[1;36m0x7f7efc6cf580\u001b[0m\u001b[1m>\u001b[0m, \u001b[32m'interval'\u001b[0m: \u001b[32m'epoch'\u001b[0m, \u001b[32m'frequency'\u001b[0m: \u001b[1;36m1\u001b[0m, \u001b[32m'name'\u001b[0m:           \u001b[2m           \u001b[0m\n",
       "\u001b[2;36m                    \u001b[0m         \u001b[32m'learning_rate'\u001b[0m\u001b[1m}\u001b[0m\u001b[1m}\u001b[0m                                                          \u001b[2m           \u001b[0m\n"
      ]
     },
     "metadata": {},
     "output_type": "display_data"
    },
    {
     "name": "stderr",
     "output_type": "stream",
     "text": [
      "/home/yang/anaconda3/envs/3d/lib/python3.10/site-packages/lightning/pytorch/trainer/connectors/data_connector.py:368: UserWarning:\n",
      "\n",
      "You have overridden `on_after_batch_transfer` in `LightningModule` but have passed in a `LightningDataModule`. It will use the implementation from `LightningModule` instance.\n",
      "\n"
     ]
    },
    {
     "data": {
      "text/html": [
       "<pre style=\"white-space:pre;overflow-x:auto;line-height:normal;font-family:Menlo,'DejaVu Sans Mono',consolas,'Courier New',monospace\">┏━━━━━┳━━━━━━━━━━━━━━━━━━━━━━━━━━━━━━━━━━━━━━━━━━━━━━━━┳━━━━━━━━━━━━━┳━━━━━━━━┳━━━━━━━┳━━━━━━━━━━━━━┳━━━━━━━━━━━━━┓\n",
       "┃<span style=\"color: #800080; text-decoration-color: #800080; font-weight: bold\">     </span>┃<span style=\"color: #800080; text-decoration-color: #800080; font-weight: bold\"> Name                                           </span>┃<span style=\"color: #800080; text-decoration-color: #800080; font-weight: bold\"> Type        </span>┃<span style=\"color: #800080; text-decoration-color: #800080; font-weight: bold\"> Params </span>┃<span style=\"color: #800080; text-decoration-color: #800080; font-weight: bold\"> Mode  </span>┃<span style=\"color: #800080; text-decoration-color: #800080; font-weight: bold\">    In sizes </span>┃<span style=\"color: #800080; text-decoration-color: #800080; font-weight: bold\">   Out sizes </span>┃\n",
       "┡━━━━━╇━━━━━━━━━━━━━━━━━━━━━━━━━━━━━━━━━━━━━━━━━━━━━━━━╇━━━━━━━━━━━━━╇━━━━━━━━╇━━━━━━━╇━━━━━━━━━━━━━╇━━━━━━━━━━━━━┩\n",
       "│<span style=\"color: #7f7f7f; text-decoration-color: #7f7f7f\"> 0   </span>│ encoder                                        │ ProNet      │  1.5 M │ train │<span style=\"color: #c0c0c0; text-decoration-color: #c0c0c0\">           ? </span>│<span style=\"color: #c0c0c0; text-decoration-color: #c0c0c0\">           ? </span>│\n",
       "│<span style=\"color: #7f7f7f; text-decoration-color: #7f7f7f\"> 1   </span>│ encoder.feature0                               │ d_theta_ph… │      0 │ train │<span style=\"color: #c0c0c0; text-decoration-color: #c0c0c0\">  [[187624], </span>│<span style=\"color: #c0c0c0; text-decoration-color: #c0c0c0\">    [187624, </span>│\n",
       "│<span style=\"color: #7f7f7f; text-decoration-color: #7f7f7f\">     </span>│                                                │             │        │       │<span style=\"color: #c0c0c0; text-decoration-color: #c0c0c0\">   [187624], </span>│<span style=\"color: #c0c0c0; text-decoration-color: #c0c0c0\">         24] </span>│\n",
       "│<span style=\"color: #7f7f7f; text-decoration-color: #7f7f7f\">     </span>│                                                │             │        │       │<span style=\"color: #c0c0c0; text-decoration-color: #c0c0c0\">   [187624]] </span>│<span style=\"color: #c0c0c0; text-decoration-color: #c0c0c0\">             </span>│\n",
       "│<span style=\"color: #7f7f7f; text-decoration-color: #7f7f7f\"> 2   </span>│ encoder.feature1                               │ d_angle_emb │      0 │ train │<span style=\"color: #c0c0c0; text-decoration-color: #c0c0c0\">  [[187624], </span>│<span style=\"color: #c0c0c0; text-decoration-color: #c0c0c0\">    [187624, </span>│\n",
       "│<span style=\"color: #7f7f7f; text-decoration-color: #7f7f7f\">     </span>│                                                │             │        │       │<span style=\"color: #c0c0c0; text-decoration-color: #c0c0c0\">   [187624]] </span>│<span style=\"color: #c0c0c0; text-decoration-color: #c0c0c0\">         12] </span>│\n",
       "│<span style=\"color: #7f7f7f; text-decoration-color: #7f7f7f\"> 3   </span>│ encoder.embedding                              │ Embedding   │  3.3 K │ train │<span style=\"color: #c0c0c0; text-decoration-color: #c0c0c0\">     [10538] </span>│<span style=\"color: #c0c0c0; text-decoration-color: #c0c0c0\">     [10538, </span>│\n",
       "│<span style=\"color: #7f7f7f; text-decoration-color: #7f7f7f\">     </span>│                                                │             │        │       │<span style=\"color: #c0c0c0; text-decoration-color: #c0c0c0\">             </span>│<span style=\"color: #c0c0c0; text-decoration-color: #c0c0c0\">        128] </span>│\n",
       "│<span style=\"color: #7f7f7f; text-decoration-color: #7f7f7f\"> 4   </span>│ encoder.interaction_blocks                     │ ModuleList  │  1.4 M │ train │<span style=\"color: #c0c0c0; text-decoration-color: #c0c0c0\">           ? </span>│<span style=\"color: #c0c0c0; text-decoration-color: #c0c0c0\">           ? </span>│\n",
       "│<span style=\"color: #7f7f7f; text-decoration-color: #7f7f7f\"> 5   </span>│ encoder.interaction_blocks.0                   │ Interactio… │  340 K │ train │<span style=\"color: #c0c0c0; text-decoration-color: #c0c0c0\">    [[10538, </span>│<span style=\"color: #c0c0c0; text-decoration-color: #c0c0c0\">     [10538, </span>│\n",
       "│<span style=\"color: #7f7f7f; text-decoration-color: #7f7f7f\">     </span>│                                                │             │        │       │<span style=\"color: #c0c0c0; text-decoration-color: #c0c0c0\">       128], </span>│<span style=\"color: #c0c0c0; text-decoration-color: #c0c0c0\">        128] </span>│\n",
       "│<span style=\"color: #7f7f7f; text-decoration-color: #7f7f7f\">     </span>│                                                │             │        │       │<span style=\"color: #c0c0c0; text-decoration-color: #c0c0c0\">    [187624, </span>│<span style=\"color: #c0c0c0; text-decoration-color: #c0c0c0\">             </span>│\n",
       "│<span style=\"color: #7f7f7f; text-decoration-color: #7f7f7f\">     </span>│                                                │             │        │       │<span style=\"color: #c0c0c0; text-decoration-color: #c0c0c0\">        24], </span>│<span style=\"color: #c0c0c0; text-decoration-color: #c0c0c0\">             </span>│\n",
       "│<span style=\"color: #7f7f7f; text-decoration-color: #7f7f7f\">     </span>│                                                │             │        │       │<span style=\"color: #c0c0c0; text-decoration-color: #c0c0c0\">    [187624, </span>│<span style=\"color: #c0c0c0; text-decoration-color: #c0c0c0\">             </span>│\n",
       "│<span style=\"color: #7f7f7f; text-decoration-color: #7f7f7f\">     </span>│                                                │             │        │       │<span style=\"color: #c0c0c0; text-decoration-color: #c0c0c0\">        12], </span>│<span style=\"color: #c0c0c0; text-decoration-color: #c0c0c0\">             </span>│\n",
       "│<span style=\"color: #7f7f7f; text-decoration-color: #7f7f7f\">     </span>│                                                │             │        │       │<span style=\"color: #c0c0c0; text-decoration-color: #c0c0c0\">    [187624, </span>│<span style=\"color: #c0c0c0; text-decoration-color: #c0c0c0\">             </span>│\n",
       "│<span style=\"color: #7f7f7f; text-decoration-color: #7f7f7f\">     </span>│                                                │             │        │       │<span style=\"color: #c0c0c0; text-decoration-color: #c0c0c0\">    16], [2, </span>│<span style=\"color: #c0c0c0; text-decoration-color: #c0c0c0\">             </span>│\n",
       "│<span style=\"color: #7f7f7f; text-decoration-color: #7f7f7f\">     </span>│                                                │             │        │       │<span style=\"color: #c0c0c0; text-decoration-color: #c0c0c0\">    187624], </span>│<span style=\"color: #c0c0c0; text-decoration-color: #c0c0c0\">             </span>│\n",
       "│<span style=\"color: #7f7f7f; text-decoration-color: #7f7f7f\">     </span>│                                                │             │        │       │<span style=\"color: #c0c0c0; text-decoration-color: #c0c0c0\">    [10538]] </span>│<span style=\"color: #c0c0c0; text-decoration-color: #c0c0c0\">             </span>│\n",
       "│<span style=\"color: #7f7f7f; text-decoration-color: #7f7f7f\"> 6   </span>│ encoder.interaction_blocks.0.dropout           │ Dropout     │      0 │ train │<span style=\"color: #c0c0c0; text-decoration-color: #c0c0c0\">     [10538, </span>│<span style=\"color: #c0c0c0; text-decoration-color: #c0c0c0\">     [10538, </span>│\n",
       "│<span style=\"color: #7f7f7f; text-decoration-color: #7f7f7f\">     </span>│                                                │             │        │       │<span style=\"color: #c0c0c0; text-decoration-color: #c0c0c0\">        128] </span>│<span style=\"color: #c0c0c0; text-decoration-color: #c0c0c0\">        128] </span>│\n",
       "│<span style=\"color: #7f7f7f; text-decoration-color: #7f7f7f\"> 7   </span>│ encoder.interaction_blocks.0.conv0             │ EdgeGraphC… │ 32.9 K │ train │<span style=\"color: #c0c0c0; text-decoration-color: #c0c0c0\">    [[10538, </span>│<span style=\"color: #c0c0c0; text-decoration-color: #c0c0c0\">     [10538, </span>│\n",
       "│<span style=\"color: #7f7f7f; text-decoration-color: #7f7f7f\">     </span>│                                                │             │        │       │<span style=\"color: #c0c0c0; text-decoration-color: #c0c0c0\">   128], [2, </span>│<span style=\"color: #c0c0c0; text-decoration-color: #c0c0c0\">        128] </span>│\n",
       "│<span style=\"color: #7f7f7f; text-decoration-color: #7f7f7f\">     </span>│                                                │             │        │       │<span style=\"color: #c0c0c0; text-decoration-color: #c0c0c0\">    187624], </span>│<span style=\"color: #c0c0c0; text-decoration-color: #c0c0c0\">             </span>│\n",
       "│<span style=\"color: #7f7f7f; text-decoration-color: #7f7f7f\">     </span>│                                                │             │        │       │<span style=\"color: #c0c0c0; text-decoration-color: #c0c0c0\">    [187624, </span>│<span style=\"color: #c0c0c0; text-decoration-color: #c0c0c0\">             </span>│\n",
       "│<span style=\"color: #7f7f7f; text-decoration-color: #7f7f7f\">     </span>│                                                │             │        │       │<span style=\"color: #c0c0c0; text-decoration-color: #c0c0c0\">       128]] </span>│<span style=\"color: #c0c0c0; text-decoration-color: #c0c0c0\">             </span>│\n",
       "│<span style=\"color: #7f7f7f; text-decoration-color: #7f7f7f\"> 8   </span>│ encoder.interaction_blocks.0.conv0.aggr_module │ SumAggrega… │      0 │ train │<span style=\"color: #c0c0c0; text-decoration-color: #c0c0c0\">   [[187624, </span>│<span style=\"color: #c0c0c0; text-decoration-color: #c0c0c0\">     [10538, </span>│\n",
       "│<span style=\"color: #7f7f7f; text-decoration-color: #7f7f7f\">     </span>│                                                │             │        │       │<span style=\"color: #c0c0c0; text-decoration-color: #c0c0c0\">       128], </span>│<span style=\"color: #c0c0c0; text-decoration-color: #c0c0c0\">        128] </span>│\n",
       "│<span style=\"color: #7f7f7f; text-decoration-color: #7f7f7f\">     </span>│                                                │             │        │       │<span style=\"color: #c0c0c0; text-decoration-color: #c0c0c0\">   [187624], </span>│<span style=\"color: #c0c0c0; text-decoration-color: #c0c0c0\">             </span>│\n",
       "│<span style=\"color: #7f7f7f; text-decoration-color: #7f7f7f\">     </span>│                                                │             │        │       │<span style=\"color: #c0c0c0; text-decoration-color: #c0c0c0\">   '?', '?', </span>│<span style=\"color: #c0c0c0; text-decoration-color: #c0c0c0\">             </span>│\n",
       "│<span style=\"color: #7f7f7f; text-decoration-color: #7f7f7f\">     </span>│                                                │             │        │       │<span style=\"color: #c0c0c0; text-decoration-color: #c0c0c0\">        '?'] </span>│<span style=\"color: #c0c0c0; text-decoration-color: #c0c0c0\">             </span>│\n",
       "│<span style=\"color: #7f7f7f; text-decoration-color: #7f7f7f\"> 9   </span>│ encoder.interaction_blocks.0.conv0.lin_l       │ Linear      │ 16.5 K │ train │<span style=\"color: #c0c0c0; text-decoration-color: #c0c0c0\">     [10538, </span>│<span style=\"color: #c0c0c0; text-decoration-color: #c0c0c0\">     [10538, </span>│\n",
       "│<span style=\"color: #7f7f7f; text-decoration-color: #7f7f7f\">     </span>│                                                │             │        │       │<span style=\"color: #c0c0c0; text-decoration-color: #c0c0c0\">        128] </span>│<span style=\"color: #c0c0c0; text-decoration-color: #c0c0c0\">        128] </span>│\n",
       "│<span style=\"color: #7f7f7f; text-decoration-color: #7f7f7f\"> 10  </span>│ encoder.interaction_blocks.0.conv0.lin_r       │ Linear      │ 16.4 K │ train │<span style=\"color: #c0c0c0; text-decoration-color: #c0c0c0\">     [10538, </span>│<span style=\"color: #c0c0c0; text-decoration-color: #c0c0c0\">     [10538, </span>│\n",
       "│<span style=\"color: #7f7f7f; text-decoration-color: #7f7f7f\">     </span>│                                                │             │        │       │<span style=\"color: #c0c0c0; text-decoration-color: #c0c0c0\">        128] </span>│<span style=\"color: #c0c0c0; text-decoration-color: #c0c0c0\">        128] </span>│\n",
       "│<span style=\"color: #7f7f7f; text-decoration-color: #7f7f7f\"> 11  </span>│ encoder.interaction_blocks.0.conv1             │ EdgeGraphC… │ 32.9 K │ train │<span style=\"color: #c0c0c0; text-decoration-color: #c0c0c0\">    [[10538, </span>│<span style=\"color: #c0c0c0; text-decoration-color: #c0c0c0\">     [10538, </span>│\n",
       "│<span style=\"color: #7f7f7f; text-decoration-color: #7f7f7f\">     </span>│                                                │             │        │       │<span style=\"color: #c0c0c0; text-decoration-color: #c0c0c0\">   128], [2, </span>│<span style=\"color: #c0c0c0; text-decoration-color: #c0c0c0\">        128] </span>│\n",
       "│<span style=\"color: #7f7f7f; text-decoration-color: #7f7f7f\">     </span>│                                                │             │        │       │<span style=\"color: #c0c0c0; text-decoration-color: #c0c0c0\">    187624], </span>│<span style=\"color: #c0c0c0; text-decoration-color: #c0c0c0\">             </span>│\n",
       "│<span style=\"color: #7f7f7f; text-decoration-color: #7f7f7f\">     </span>│                                                │             │        │       │<span style=\"color: #c0c0c0; text-decoration-color: #c0c0c0\">    [187624, </span>│<span style=\"color: #c0c0c0; text-decoration-color: #c0c0c0\">             </span>│\n",
       "│<span style=\"color: #7f7f7f; text-decoration-color: #7f7f7f\">     </span>│                                                │             │        │       │<span style=\"color: #c0c0c0; text-decoration-color: #c0c0c0\">       128]] </span>│<span style=\"color: #c0c0c0; text-decoration-color: #c0c0c0\">             </span>│\n",
       "│<span style=\"color: #7f7f7f; text-decoration-color: #7f7f7f\"> 12  </span>│ encoder.interaction_blocks.0.conv1.aggr_module │ SumAggrega… │      0 │ train │<span style=\"color: #c0c0c0; text-decoration-color: #c0c0c0\">   [[187624, </span>│<span style=\"color: #c0c0c0; text-decoration-color: #c0c0c0\">     [10538, </span>│\n",
       "│<span style=\"color: #7f7f7f; text-decoration-color: #7f7f7f\">     </span>│                                                │             │        │       │<span style=\"color: #c0c0c0; text-decoration-color: #c0c0c0\">       128], </span>│<span style=\"color: #c0c0c0; text-decoration-color: #c0c0c0\">        128] </span>│\n",
       "│<span style=\"color: #7f7f7f; text-decoration-color: #7f7f7f\">     </span>│                                                │             │        │       │<span style=\"color: #c0c0c0; text-decoration-color: #c0c0c0\">   [187624], </span>│<span style=\"color: #c0c0c0; text-decoration-color: #c0c0c0\">             </span>│\n",
       "│<span style=\"color: #7f7f7f; text-decoration-color: #7f7f7f\">     </span>│                                                │             │        │       │<span style=\"color: #c0c0c0; text-decoration-color: #c0c0c0\">   '?', '?', </span>│<span style=\"color: #c0c0c0; text-decoration-color: #c0c0c0\">             </span>│\n",
       "│<span style=\"color: #7f7f7f; text-decoration-color: #7f7f7f\">     </span>│                                                │             │        │       │<span style=\"color: #c0c0c0; text-decoration-color: #c0c0c0\">        '?'] </span>│<span style=\"color: #c0c0c0; text-decoration-color: #c0c0c0\">             </span>│\n",
       "│<span style=\"color: #7f7f7f; text-decoration-color: #7f7f7f\"> 13  </span>│ encoder.interaction_blocks.0.conv1.lin_l       │ Linear      │ 16.5 K │ train │<span style=\"color: #c0c0c0; text-decoration-color: #c0c0c0\">     [10538, </span>│<span style=\"color: #c0c0c0; text-decoration-color: #c0c0c0\">     [10538, </span>│\n",
       "│<span style=\"color: #7f7f7f; text-decoration-color: #7f7f7f\">     </span>│                                                │             │        │       │<span style=\"color: #c0c0c0; text-decoration-color: #c0c0c0\">        128] </span>│<span style=\"color: #c0c0c0; text-decoration-color: #c0c0c0\">        128] </span>│\n",
       "│<span style=\"color: #7f7f7f; text-decoration-color: #7f7f7f\"> 14  </span>│ encoder.interaction_blocks.0.conv1.lin_r       │ Linear      │ 16.4 K │ train │<span style=\"color: #c0c0c0; text-decoration-color: #c0c0c0\">     [10538, </span>│<span style=\"color: #c0c0c0; text-decoration-color: #c0c0c0\">     [10538, </span>│\n",
       "│<span style=\"color: #7f7f7f; text-decoration-color: #7f7f7f\">     </span>│                                                │             │        │       │<span style=\"color: #c0c0c0; text-decoration-color: #c0c0c0\">        128] </span>│<span style=\"color: #c0c0c0; text-decoration-color: #c0c0c0\">        128] </span>│\n",
       "│<span style=\"color: #7f7f7f; text-decoration-color: #7f7f7f\"> 15  </span>│ encoder.interaction_blocks.0.conv2             │ EdgeGraphC… │ 32.9 K │ train │<span style=\"color: #c0c0c0; text-decoration-color: #c0c0c0\">    [[10538, </span>│<span style=\"color: #c0c0c0; text-decoration-color: #c0c0c0\">     [10538, </span>│\n",
       "│<span style=\"color: #7f7f7f; text-decoration-color: #7f7f7f\">     </span>│                                                │             │        │       │<span style=\"color: #c0c0c0; text-decoration-color: #c0c0c0\">   128], [2, </span>│<span style=\"color: #c0c0c0; text-decoration-color: #c0c0c0\">        128] </span>│\n",
       "│<span style=\"color: #7f7f7f; text-decoration-color: #7f7f7f\">     </span>│                                                │             │        │       │<span style=\"color: #c0c0c0; text-decoration-color: #c0c0c0\">    187624], </span>│<span style=\"color: #c0c0c0; text-decoration-color: #c0c0c0\">             </span>│\n",
       "│<span style=\"color: #7f7f7f; text-decoration-color: #7f7f7f\">     </span>│                                                │             │        │       │<span style=\"color: #c0c0c0; text-decoration-color: #c0c0c0\">    [187624, </span>│<span style=\"color: #c0c0c0; text-decoration-color: #c0c0c0\">             </span>│\n",
       "│<span style=\"color: #7f7f7f; text-decoration-color: #7f7f7f\">     </span>│                                                │             │        │       │<span style=\"color: #c0c0c0; text-decoration-color: #c0c0c0\">       128]] </span>│<span style=\"color: #c0c0c0; text-decoration-color: #c0c0c0\">             </span>│\n",
       "│<span style=\"color: #7f7f7f; text-decoration-color: #7f7f7f\"> 16  </span>│ encoder.interaction_blocks.0.conv2.aggr_module │ SumAggrega… │      0 │ train │<span style=\"color: #c0c0c0; text-decoration-color: #c0c0c0\">   [[187624, </span>│<span style=\"color: #c0c0c0; text-decoration-color: #c0c0c0\">     [10538, </span>│\n",
       "│<span style=\"color: #7f7f7f; text-decoration-color: #7f7f7f\">     </span>│                                                │             │        │       │<span style=\"color: #c0c0c0; text-decoration-color: #c0c0c0\">       128], </span>│<span style=\"color: #c0c0c0; text-decoration-color: #c0c0c0\">        128] </span>│\n",
       "│<span style=\"color: #7f7f7f; text-decoration-color: #7f7f7f\">     </span>│                                                │             │        │       │<span style=\"color: #c0c0c0; text-decoration-color: #c0c0c0\">   [187624], </span>│<span style=\"color: #c0c0c0; text-decoration-color: #c0c0c0\">             </span>│\n",
       "│<span style=\"color: #7f7f7f; text-decoration-color: #7f7f7f\">     </span>│                                                │             │        │       │<span style=\"color: #c0c0c0; text-decoration-color: #c0c0c0\">   '?', '?', </span>│<span style=\"color: #c0c0c0; text-decoration-color: #c0c0c0\">             </span>│\n",
       "│<span style=\"color: #7f7f7f; text-decoration-color: #7f7f7f\">     </span>│                                                │             │        │       │<span style=\"color: #c0c0c0; text-decoration-color: #c0c0c0\">        '?'] </span>│<span style=\"color: #c0c0c0; text-decoration-color: #c0c0c0\">             </span>│\n",
       "│<span style=\"color: #7f7f7f; text-decoration-color: #7f7f7f\"> 17  </span>│ encoder.interaction_blocks.0.conv2.lin_l       │ Linear      │ 16.5 K │ train │<span style=\"color: #c0c0c0; text-decoration-color: #c0c0c0\">     [10538, </span>│<span style=\"color: #c0c0c0; text-decoration-color: #c0c0c0\">     [10538, </span>│\n",
       "│<span style=\"color: #7f7f7f; text-decoration-color: #7f7f7f\">     </span>│                                                │             │        │       │<span style=\"color: #c0c0c0; text-decoration-color: #c0c0c0\">        128] </span>│<span style=\"color: #c0c0c0; text-decoration-color: #c0c0c0\">        128] </span>│\n",
       "│<span style=\"color: #7f7f7f; text-decoration-color: #7f7f7f\"> 18  </span>│ encoder.interaction_blocks.0.conv2.lin_r       │ Linear      │ 16.4 K │ train │<span style=\"color: #c0c0c0; text-decoration-color: #c0c0c0\">     [10538, </span>│<span style=\"color: #c0c0c0; text-decoration-color: #c0c0c0\">     [10538, </span>│\n",
       "│<span style=\"color: #7f7f7f; text-decoration-color: #7f7f7f\">     </span>│                                                │             │        │       │<span style=\"color: #c0c0c0; text-decoration-color: #c0c0c0\">        128] </span>│<span style=\"color: #c0c0c0; text-decoration-color: #c0c0c0\">        128] </span>│\n",
       "│<span style=\"color: #7f7f7f; text-decoration-color: #7f7f7f\"> 19  </span>│ encoder.interaction_blocks.0.lin_feature0      │ TwoLinear   │  9.7 K │ train │<span style=\"color: #c0c0c0; text-decoration-color: #c0c0c0\">    [187624, </span>│<span style=\"color: #c0c0c0; text-decoration-color: #c0c0c0\">    [187624, </span>│\n",
       "│<span style=\"color: #7f7f7f; text-decoration-color: #7f7f7f\">     </span>│                                                │             │        │       │<span style=\"color: #c0c0c0; text-decoration-color: #c0c0c0\">         24] </span>│<span style=\"color: #c0c0c0; text-decoration-color: #c0c0c0\">        128] </span>│\n",
       "│<span style=\"color: #7f7f7f; text-decoration-color: #7f7f7f\"> 20  </span>│ encoder.interaction_blocks.0.lin_feature0.lin1 │ Linear      │  1.5 K │ train │<span style=\"color: #c0c0c0; text-decoration-color: #c0c0c0\">    [187624, </span>│<span style=\"color: #c0c0c0; text-decoration-color: #c0c0c0\">    [187624, </span>│\n",
       "│<span style=\"color: #7f7f7f; text-decoration-color: #7f7f7f\">     </span>│                                                │             │        │       │<span style=\"color: #c0c0c0; text-decoration-color: #c0c0c0\">         24] </span>│<span style=\"color: #c0c0c0; text-decoration-color: #c0c0c0\">         64] </span>│\n",
       "│<span style=\"color: #7f7f7f; text-decoration-color: #7f7f7f\"> 21  </span>│ encoder.interaction_blocks.0.lin_feature0.lin2 │ Linear      │  8.2 K │ train │<span style=\"color: #c0c0c0; text-decoration-color: #c0c0c0\">    [187624, </span>│<span style=\"color: #c0c0c0; text-decoration-color: #c0c0c0\">    [187624, </span>│\n",
       "│<span style=\"color: #7f7f7f; text-decoration-color: #7f7f7f\">     </span>│                                                │             │        │       │<span style=\"color: #c0c0c0; text-decoration-color: #c0c0c0\">         64] </span>│<span style=\"color: #c0c0c0; text-decoration-color: #c0c0c0\">        128] </span>│\n",
       "│<span style=\"color: #7f7f7f; text-decoration-color: #7f7f7f\"> 22  </span>│ encoder.interaction_blocks.0.lin_feature1      │ TwoLinear   │  9.0 K │ train │<span style=\"color: #c0c0c0; text-decoration-color: #c0c0c0\">    [187624, </span>│<span style=\"color: #c0c0c0; text-decoration-color: #c0c0c0\">    [187624, </span>│\n",
       "│<span style=\"color: #7f7f7f; text-decoration-color: #7f7f7f\">     </span>│                                                │             │        │       │<span style=\"color: #c0c0c0; text-decoration-color: #c0c0c0\">         12] </span>│<span style=\"color: #c0c0c0; text-decoration-color: #c0c0c0\">        128] </span>│\n",
       "│<span style=\"color: #7f7f7f; text-decoration-color: #7f7f7f\"> 23  </span>│ encoder.interaction_blocks.0.lin_feature1.lin1 │ Linear      │    768 │ train │<span style=\"color: #c0c0c0; text-decoration-color: #c0c0c0\">    [187624, </span>│<span style=\"color: #c0c0c0; text-decoration-color: #c0c0c0\">    [187624, </span>│\n",
       "│<span style=\"color: #7f7f7f; text-decoration-color: #7f7f7f\">     </span>│                                                │             │        │       │<span style=\"color: #c0c0c0; text-decoration-color: #c0c0c0\">         12] </span>│<span style=\"color: #c0c0c0; text-decoration-color: #c0c0c0\">         64] </span>│\n",
       "│<span style=\"color: #7f7f7f; text-decoration-color: #7f7f7f\"> 24  </span>│ encoder.interaction_blocks.0.lin_feature1.lin2 │ Linear      │  8.2 K │ train │<span style=\"color: #c0c0c0; text-decoration-color: #c0c0c0\">    [187624, </span>│<span style=\"color: #c0c0c0; text-decoration-color: #c0c0c0\">    [187624, </span>│\n",
       "│<span style=\"color: #7f7f7f; text-decoration-color: #7f7f7f\">     </span>│                                                │             │        │       │<span style=\"color: #c0c0c0; text-decoration-color: #c0c0c0\">         64] </span>│<span style=\"color: #c0c0c0; text-decoration-color: #c0c0c0\">        128] </span>│\n",
       "│<span style=\"color: #7f7f7f; text-decoration-color: #7f7f7f\"> 25  </span>│ encoder.interaction_blocks.0.lin_feature2      │ TwoLinear   │  9.2 K │ train │<span style=\"color: #c0c0c0; text-decoration-color: #c0c0c0\">    [187624, </span>│<span style=\"color: #c0c0c0; text-decoration-color: #c0c0c0\">    [187624, </span>│\n",
       "│<span style=\"color: #7f7f7f; text-decoration-color: #7f7f7f\">     </span>│                                                │             │        │       │<span style=\"color: #c0c0c0; text-decoration-color: #c0c0c0\">         16] </span>│<span style=\"color: #c0c0c0; text-decoration-color: #c0c0c0\">        128] </span>│\n",
       "│<span style=\"color: #7f7f7f; text-decoration-color: #7f7f7f\"> 26  </span>│ encoder.interaction_blocks.0.lin_feature2.lin1 │ Linear      │  1.0 K │ train │<span style=\"color: #c0c0c0; text-decoration-color: #c0c0c0\">    [187624, </span>│<span style=\"color: #c0c0c0; text-decoration-color: #c0c0c0\">    [187624, </span>│\n",
       "│<span style=\"color: #7f7f7f; text-decoration-color: #7f7f7f\">     </span>│                                                │             │        │       │<span style=\"color: #c0c0c0; text-decoration-color: #c0c0c0\">         16] </span>│<span style=\"color: #c0c0c0; text-decoration-color: #c0c0c0\">         64] </span>│\n",
       "│<span style=\"color: #7f7f7f; text-decoration-color: #7f7f7f\"> 27  </span>│ encoder.interaction_blocks.0.lin_feature2.lin2 │ Linear      │  8.2 K │ train │<span style=\"color: #c0c0c0; text-decoration-color: #c0c0c0\">    [187624, </span>│<span style=\"color: #c0c0c0; text-decoration-color: #c0c0c0\">    [187624, </span>│\n",
       "│<span style=\"color: #7f7f7f; text-decoration-color: #7f7f7f\">     </span>│                                                │             │        │       │<span style=\"color: #c0c0c0; text-decoration-color: #c0c0c0\">         64] </span>│<span style=\"color: #c0c0c0; text-decoration-color: #c0c0c0\">        128] </span>│\n",
       "│<span style=\"color: #7f7f7f; text-decoration-color: #7f7f7f\"> 28  </span>│ encoder.interaction_blocks.0.lin_1             │ Linear      │ 16.5 K │ train │<span style=\"color: #c0c0c0; text-decoration-color: #c0c0c0\">     [10538, </span>│<span style=\"color: #c0c0c0; text-decoration-color: #c0c0c0\">     [10538, </span>│\n",
       "│<span style=\"color: #7f7f7f; text-decoration-color: #7f7f7f\">     </span>│                                                │             │        │       │<span style=\"color: #c0c0c0; text-decoration-color: #c0c0c0\">        128] </span>│<span style=\"color: #c0c0c0; text-decoration-color: #c0c0c0\">        128] </span>│\n",
       "│<span style=\"color: #7f7f7f; text-decoration-color: #7f7f7f\"> 29  </span>│ encoder.interaction_blocks.0.lin_2             │ Linear      │ 16.5 K │ train │<span style=\"color: #c0c0c0; text-decoration-color: #c0c0c0\">     [10538, </span>│<span style=\"color: #c0c0c0; text-decoration-color: #c0c0c0\">     [10538, </span>│\n",
       "│<span style=\"color: #7f7f7f; text-decoration-color: #7f7f7f\">     </span>│                                                │             │        │       │<span style=\"color: #c0c0c0; text-decoration-color: #c0c0c0\">        128] </span>│<span style=\"color: #c0c0c0; text-decoration-color: #c0c0c0\">        128] </span>│\n",
       "│<span style=\"color: #7f7f7f; text-decoration-color: #7f7f7f\"> 30  </span>│ encoder.interaction_blocks.0.lin0              │ Linear      │ 16.5 K │ train │<span style=\"color: #c0c0c0; text-decoration-color: #c0c0c0\">     [10538, </span>│<span style=\"color: #c0c0c0; text-decoration-color: #c0c0c0\">     [10538, </span>│\n",
       "│<span style=\"color: #7f7f7f; text-decoration-color: #7f7f7f\">     </span>│                                                │             │        │       │<span style=\"color: #c0c0c0; text-decoration-color: #c0c0c0\">        128] </span>│<span style=\"color: #c0c0c0; text-decoration-color: #c0c0c0\">        128] </span>│\n",
       "│<span style=\"color: #7f7f7f; text-decoration-color: #7f7f7f\"> 31  </span>│ encoder.interaction_blocks.0.lin1              │ Linear      │ 16.5 K │ train │<span style=\"color: #c0c0c0; text-decoration-color: #c0c0c0\">     [10538, </span>│<span style=\"color: #c0c0c0; text-decoration-color: #c0c0c0\">     [10538, </span>│\n",
       "│<span style=\"color: #7f7f7f; text-decoration-color: #7f7f7f\">     </span>│                                                │             │        │       │<span style=\"color: #c0c0c0; text-decoration-color: #c0c0c0\">        128] </span>│<span style=\"color: #c0c0c0; text-decoration-color: #c0c0c0\">        128] </span>│\n",
       "│<span style=\"color: #7f7f7f; text-decoration-color: #7f7f7f\"> 32  </span>│ encoder.interaction_blocks.0.lin2              │ Linear      │ 16.5 K │ train │<span style=\"color: #c0c0c0; text-decoration-color: #c0c0c0\">     [10538, </span>│<span style=\"color: #c0c0c0; text-decoration-color: #c0c0c0\">     [10538, </span>│\n",
       "│<span style=\"color: #7f7f7f; text-decoration-color: #7f7f7f\">     </span>│                                                │             │        │       │<span style=\"color: #c0c0c0; text-decoration-color: #c0c0c0\">        128] </span>│<span style=\"color: #c0c0c0; text-decoration-color: #c0c0c0\">        128] </span>│\n",
       "│<span style=\"color: #7f7f7f; text-decoration-color: #7f7f7f\"> 33  </span>│ encoder.interaction_blocks.0.lins_cat          │ ModuleList  │ 82.3 K │ train │<span style=\"color: #c0c0c0; text-decoration-color: #c0c0c0\">           ? </span>│<span style=\"color: #c0c0c0; text-decoration-color: #c0c0c0\">           ? </span>│\n",
       "│<span style=\"color: #7f7f7f; text-decoration-color: #7f7f7f\"> 34  </span>│ encoder.interaction_blocks.0.lins_cat.0        │ Linear      │ 49.3 K │ train │<span style=\"color: #c0c0c0; text-decoration-color: #c0c0c0\">     [10538, </span>│<span style=\"color: #c0c0c0; text-decoration-color: #c0c0c0\">     [10538, </span>│\n",
       "│<span style=\"color: #7f7f7f; text-decoration-color: #7f7f7f\">     </span>│                                                │             │        │       │<span style=\"color: #c0c0c0; text-decoration-color: #c0c0c0\">        384] </span>│<span style=\"color: #c0c0c0; text-decoration-color: #c0c0c0\">        128] </span>│\n",
       "│<span style=\"color: #7f7f7f; text-decoration-color: #7f7f7f\"> 35  </span>│ encoder.interaction_blocks.0.lins_cat.1        │ Linear      │ 16.5 K │ train │<span style=\"color: #c0c0c0; text-decoration-color: #c0c0c0\">     [10538, </span>│<span style=\"color: #c0c0c0; text-decoration-color: #c0c0c0\">     [10538, </span>│\n",
       "│<span style=\"color: #7f7f7f; text-decoration-color: #7f7f7f\">     </span>│                                                │             │        │       │<span style=\"color: #c0c0c0; text-decoration-color: #c0c0c0\">        128] </span>│<span style=\"color: #c0c0c0; text-decoration-color: #c0c0c0\">        128] </span>│\n",
       "│<span style=\"color: #7f7f7f; text-decoration-color: #7f7f7f\"> 36  </span>│ encoder.interaction_blocks.0.lins_cat.2        │ Linear      │ 16.5 K │ train │<span style=\"color: #c0c0c0; text-decoration-color: #c0c0c0\">     [10538, </span>│<span style=\"color: #c0c0c0; text-decoration-color: #c0c0c0\">     [10538, </span>│\n",
       "│<span style=\"color: #7f7f7f; text-decoration-color: #7f7f7f\">     </span>│                                                │             │        │       │<span style=\"color: #c0c0c0; text-decoration-color: #c0c0c0\">        128] </span>│<span style=\"color: #c0c0c0; text-decoration-color: #c0c0c0\">        128] </span>│\n",
       "│<span style=\"color: #7f7f7f; text-decoration-color: #7f7f7f\"> 37  </span>│ encoder.interaction_blocks.0.lins              │ ModuleList  │ 33.0 K │ train │<span style=\"color: #c0c0c0; text-decoration-color: #c0c0c0\">           ? </span>│<span style=\"color: #c0c0c0; text-decoration-color: #c0c0c0\">           ? </span>│\n",
       "│<span style=\"color: #7f7f7f; text-decoration-color: #7f7f7f\"> 38  </span>│ encoder.interaction_blocks.0.lins.0            │ Linear      │ 16.5 K │ train │<span style=\"color: #c0c0c0; text-decoration-color: #c0c0c0\">     [10538, </span>│<span style=\"color: #c0c0c0; text-decoration-color: #c0c0c0\">     [10538, </span>│\n",
       "│<span style=\"color: #7f7f7f; text-decoration-color: #7f7f7f\">     </span>│                                                │             │        │       │<span style=\"color: #c0c0c0; text-decoration-color: #c0c0c0\">        128] </span>│<span style=\"color: #c0c0c0; text-decoration-color: #c0c0c0\">        128] </span>│\n",
       "│<span style=\"color: #7f7f7f; text-decoration-color: #7f7f7f\"> 39  </span>│ encoder.interaction_blocks.0.lins.1            │ Linear      │ 16.5 K │ train │<span style=\"color: #c0c0c0; text-decoration-color: #c0c0c0\">     [10538, </span>│<span style=\"color: #c0c0c0; text-decoration-color: #c0c0c0\">     [10538, </span>│\n",
       "│<span style=\"color: #7f7f7f; text-decoration-color: #7f7f7f\">     </span>│                                                │             │        │       │<span style=\"color: #c0c0c0; text-decoration-color: #c0c0c0\">        128] </span>│<span style=\"color: #c0c0c0; text-decoration-color: #c0c0c0\">        128] </span>│\n",
       "│<span style=\"color: #7f7f7f; text-decoration-color: #7f7f7f\"> 40  </span>│ encoder.interaction_blocks.0.final             │ Linear      │ 16.5 K │ train │<span style=\"color: #c0c0c0; text-decoration-color: #c0c0c0\">     [10538, </span>│<span style=\"color: #c0c0c0; text-decoration-color: #c0c0c0\">     [10538, </span>│\n",
       "│<span style=\"color: #7f7f7f; text-decoration-color: #7f7f7f\">     </span>│                                                │             │        │       │<span style=\"color: #c0c0c0; text-decoration-color: #c0c0c0\">        128] </span>│<span style=\"color: #c0c0c0; text-decoration-color: #c0c0c0\">        128] </span>│\n",
       "│<span style=\"color: #7f7f7f; text-decoration-color: #7f7f7f\"> 41  </span>│ encoder.interaction_blocks.1                   │ Interactio… │  340 K │ train │<span style=\"color: #c0c0c0; text-decoration-color: #c0c0c0\">    [[10538, </span>│<span style=\"color: #c0c0c0; text-decoration-color: #c0c0c0\">     [10538, </span>│\n",
       "│<span style=\"color: #7f7f7f; text-decoration-color: #7f7f7f\">     </span>│                                                │             │        │       │<span style=\"color: #c0c0c0; text-decoration-color: #c0c0c0\">       128], </span>│<span style=\"color: #c0c0c0; text-decoration-color: #c0c0c0\">        128] </span>│\n",
       "│<span style=\"color: #7f7f7f; text-decoration-color: #7f7f7f\">     </span>│                                                │             │        │       │<span style=\"color: #c0c0c0; text-decoration-color: #c0c0c0\">    [187624, </span>│<span style=\"color: #c0c0c0; text-decoration-color: #c0c0c0\">             </span>│\n",
       "│<span style=\"color: #7f7f7f; text-decoration-color: #7f7f7f\">     </span>│                                                │             │        │       │<span style=\"color: #c0c0c0; text-decoration-color: #c0c0c0\">        24], </span>│<span style=\"color: #c0c0c0; text-decoration-color: #c0c0c0\">             </span>│\n",
       "│<span style=\"color: #7f7f7f; text-decoration-color: #7f7f7f\">     </span>│                                                │             │        │       │<span style=\"color: #c0c0c0; text-decoration-color: #c0c0c0\">    [187624, </span>│<span style=\"color: #c0c0c0; text-decoration-color: #c0c0c0\">             </span>│\n",
       "│<span style=\"color: #7f7f7f; text-decoration-color: #7f7f7f\">     </span>│                                                │             │        │       │<span style=\"color: #c0c0c0; text-decoration-color: #c0c0c0\">        12], </span>│<span style=\"color: #c0c0c0; text-decoration-color: #c0c0c0\">             </span>│\n",
       "│<span style=\"color: #7f7f7f; text-decoration-color: #7f7f7f\">     </span>│                                                │             │        │       │<span style=\"color: #c0c0c0; text-decoration-color: #c0c0c0\">    [187624, </span>│<span style=\"color: #c0c0c0; text-decoration-color: #c0c0c0\">             </span>│\n",
       "│<span style=\"color: #7f7f7f; text-decoration-color: #7f7f7f\">     </span>│                                                │             │        │       │<span style=\"color: #c0c0c0; text-decoration-color: #c0c0c0\">    16], [2, </span>│<span style=\"color: #c0c0c0; text-decoration-color: #c0c0c0\">             </span>│\n",
       "│<span style=\"color: #7f7f7f; text-decoration-color: #7f7f7f\">     </span>│                                                │             │        │       │<span style=\"color: #c0c0c0; text-decoration-color: #c0c0c0\">    187624], </span>│<span style=\"color: #c0c0c0; text-decoration-color: #c0c0c0\">             </span>│\n",
       "│<span style=\"color: #7f7f7f; text-decoration-color: #7f7f7f\">     </span>│                                                │             │        │       │<span style=\"color: #c0c0c0; text-decoration-color: #c0c0c0\">    [10538]] </span>│<span style=\"color: #c0c0c0; text-decoration-color: #c0c0c0\">             </span>│\n",
       "│<span style=\"color: #7f7f7f; text-decoration-color: #7f7f7f\"> 42  </span>│ encoder.interaction_blocks.1.dropout           │ Dropout     │      0 │ train │<span style=\"color: #c0c0c0; text-decoration-color: #c0c0c0\">     [10538, </span>│<span style=\"color: #c0c0c0; text-decoration-color: #c0c0c0\">     [10538, </span>│\n",
       "│<span style=\"color: #7f7f7f; text-decoration-color: #7f7f7f\">     </span>│                                                │             │        │       │<span style=\"color: #c0c0c0; text-decoration-color: #c0c0c0\">        128] </span>│<span style=\"color: #c0c0c0; text-decoration-color: #c0c0c0\">        128] </span>│\n",
       "│<span style=\"color: #7f7f7f; text-decoration-color: #7f7f7f\"> 43  </span>│ encoder.interaction_blocks.1.conv0             │ EdgeGraphC… │ 32.9 K │ train │<span style=\"color: #c0c0c0; text-decoration-color: #c0c0c0\">    [[10538, </span>│<span style=\"color: #c0c0c0; text-decoration-color: #c0c0c0\">     [10538, </span>│\n",
       "│<span style=\"color: #7f7f7f; text-decoration-color: #7f7f7f\">     </span>│                                                │             │        │       │<span style=\"color: #c0c0c0; text-decoration-color: #c0c0c0\">   128], [2, </span>│<span style=\"color: #c0c0c0; text-decoration-color: #c0c0c0\">        128] </span>│\n",
       "│<span style=\"color: #7f7f7f; text-decoration-color: #7f7f7f\">     </span>│                                                │             │        │       │<span style=\"color: #c0c0c0; text-decoration-color: #c0c0c0\">    187624], </span>│<span style=\"color: #c0c0c0; text-decoration-color: #c0c0c0\">             </span>│\n",
       "│<span style=\"color: #7f7f7f; text-decoration-color: #7f7f7f\">     </span>│                                                │             │        │       │<span style=\"color: #c0c0c0; text-decoration-color: #c0c0c0\">    [187624, </span>│<span style=\"color: #c0c0c0; text-decoration-color: #c0c0c0\">             </span>│\n",
       "│<span style=\"color: #7f7f7f; text-decoration-color: #7f7f7f\">     </span>│                                                │             │        │       │<span style=\"color: #c0c0c0; text-decoration-color: #c0c0c0\">       128]] </span>│<span style=\"color: #c0c0c0; text-decoration-color: #c0c0c0\">             </span>│\n",
       "│<span style=\"color: #7f7f7f; text-decoration-color: #7f7f7f\"> 44  </span>│ encoder.interaction_blocks.1.conv0.aggr_module │ SumAggrega… │      0 │ train │<span style=\"color: #c0c0c0; text-decoration-color: #c0c0c0\">   [[187624, </span>│<span style=\"color: #c0c0c0; text-decoration-color: #c0c0c0\">     [10538, </span>│\n",
       "│<span style=\"color: #7f7f7f; text-decoration-color: #7f7f7f\">     </span>│                                                │             │        │       │<span style=\"color: #c0c0c0; text-decoration-color: #c0c0c0\">       128], </span>│<span style=\"color: #c0c0c0; text-decoration-color: #c0c0c0\">        128] </span>│\n",
       "│<span style=\"color: #7f7f7f; text-decoration-color: #7f7f7f\">     </span>│                                                │             │        │       │<span style=\"color: #c0c0c0; text-decoration-color: #c0c0c0\">   [187624], </span>│<span style=\"color: #c0c0c0; text-decoration-color: #c0c0c0\">             </span>│\n",
       "│<span style=\"color: #7f7f7f; text-decoration-color: #7f7f7f\">     </span>│                                                │             │        │       │<span style=\"color: #c0c0c0; text-decoration-color: #c0c0c0\">   '?', '?', </span>│<span style=\"color: #c0c0c0; text-decoration-color: #c0c0c0\">             </span>│\n",
       "│<span style=\"color: #7f7f7f; text-decoration-color: #7f7f7f\">     </span>│                                                │             │        │       │<span style=\"color: #c0c0c0; text-decoration-color: #c0c0c0\">        '?'] </span>│<span style=\"color: #c0c0c0; text-decoration-color: #c0c0c0\">             </span>│\n",
       "│<span style=\"color: #7f7f7f; text-decoration-color: #7f7f7f\"> 45  </span>│ encoder.interaction_blocks.1.conv0.lin_l       │ Linear      │ 16.5 K │ train │<span style=\"color: #c0c0c0; text-decoration-color: #c0c0c0\">     [10538, </span>│<span style=\"color: #c0c0c0; text-decoration-color: #c0c0c0\">     [10538, </span>│\n",
       "│<span style=\"color: #7f7f7f; text-decoration-color: #7f7f7f\">     </span>│                                                │             │        │       │<span style=\"color: #c0c0c0; text-decoration-color: #c0c0c0\">        128] </span>│<span style=\"color: #c0c0c0; text-decoration-color: #c0c0c0\">        128] </span>│\n",
       "│<span style=\"color: #7f7f7f; text-decoration-color: #7f7f7f\"> 46  </span>│ encoder.interaction_blocks.1.conv0.lin_r       │ Linear      │ 16.4 K │ train │<span style=\"color: #c0c0c0; text-decoration-color: #c0c0c0\">     [10538, </span>│<span style=\"color: #c0c0c0; text-decoration-color: #c0c0c0\">     [10538, </span>│\n",
       "│<span style=\"color: #7f7f7f; text-decoration-color: #7f7f7f\">     </span>│                                                │             │        │       │<span style=\"color: #c0c0c0; text-decoration-color: #c0c0c0\">        128] </span>│<span style=\"color: #c0c0c0; text-decoration-color: #c0c0c0\">        128] </span>│\n",
       "│<span style=\"color: #7f7f7f; text-decoration-color: #7f7f7f\"> 47  </span>│ encoder.interaction_blocks.1.conv1             │ EdgeGraphC… │ 32.9 K │ train │<span style=\"color: #c0c0c0; text-decoration-color: #c0c0c0\">    [[10538, </span>│<span style=\"color: #c0c0c0; text-decoration-color: #c0c0c0\">     [10538, </span>│\n",
       "│<span style=\"color: #7f7f7f; text-decoration-color: #7f7f7f\">     </span>│                                                │             │        │       │<span style=\"color: #c0c0c0; text-decoration-color: #c0c0c0\">   128], [2, </span>│<span style=\"color: #c0c0c0; text-decoration-color: #c0c0c0\">        128] </span>│\n",
       "│<span style=\"color: #7f7f7f; text-decoration-color: #7f7f7f\">     </span>│                                                │             │        │       │<span style=\"color: #c0c0c0; text-decoration-color: #c0c0c0\">    187624], </span>│<span style=\"color: #c0c0c0; text-decoration-color: #c0c0c0\">             </span>│\n",
       "│<span style=\"color: #7f7f7f; text-decoration-color: #7f7f7f\">     </span>│                                                │             │        │       │<span style=\"color: #c0c0c0; text-decoration-color: #c0c0c0\">    [187624, </span>│<span style=\"color: #c0c0c0; text-decoration-color: #c0c0c0\">             </span>│\n",
       "│<span style=\"color: #7f7f7f; text-decoration-color: #7f7f7f\">     </span>│                                                │             │        │       │<span style=\"color: #c0c0c0; text-decoration-color: #c0c0c0\">       128]] </span>│<span style=\"color: #c0c0c0; text-decoration-color: #c0c0c0\">             </span>│\n",
       "│<span style=\"color: #7f7f7f; text-decoration-color: #7f7f7f\"> 48  </span>│ encoder.interaction_blocks.1.conv1.aggr_module │ SumAggrega… │      0 │ train │<span style=\"color: #c0c0c0; text-decoration-color: #c0c0c0\">   [[187624, </span>│<span style=\"color: #c0c0c0; text-decoration-color: #c0c0c0\">     [10538, </span>│\n",
       "│<span style=\"color: #7f7f7f; text-decoration-color: #7f7f7f\">     </span>│                                                │             │        │       │<span style=\"color: #c0c0c0; text-decoration-color: #c0c0c0\">       128], </span>│<span style=\"color: #c0c0c0; text-decoration-color: #c0c0c0\">        128] </span>│\n",
       "│<span style=\"color: #7f7f7f; text-decoration-color: #7f7f7f\">     </span>│                                                │             │        │       │<span style=\"color: #c0c0c0; text-decoration-color: #c0c0c0\">   [187624], </span>│<span style=\"color: #c0c0c0; text-decoration-color: #c0c0c0\">             </span>│\n",
       "│<span style=\"color: #7f7f7f; text-decoration-color: #7f7f7f\">     </span>│                                                │             │        │       │<span style=\"color: #c0c0c0; text-decoration-color: #c0c0c0\">   '?', '?', </span>│<span style=\"color: #c0c0c0; text-decoration-color: #c0c0c0\">             </span>│\n",
       "│<span style=\"color: #7f7f7f; text-decoration-color: #7f7f7f\">     </span>│                                                │             │        │       │<span style=\"color: #c0c0c0; text-decoration-color: #c0c0c0\">        '?'] </span>│<span style=\"color: #c0c0c0; text-decoration-color: #c0c0c0\">             </span>│\n",
       "│<span style=\"color: #7f7f7f; text-decoration-color: #7f7f7f\"> 49  </span>│ encoder.interaction_blocks.1.conv1.lin_l       │ Linear      │ 16.5 K │ train │<span style=\"color: #c0c0c0; text-decoration-color: #c0c0c0\">     [10538, </span>│<span style=\"color: #c0c0c0; text-decoration-color: #c0c0c0\">     [10538, </span>│\n",
       "│<span style=\"color: #7f7f7f; text-decoration-color: #7f7f7f\">     </span>│                                                │             │        │       │<span style=\"color: #c0c0c0; text-decoration-color: #c0c0c0\">        128] </span>│<span style=\"color: #c0c0c0; text-decoration-color: #c0c0c0\">        128] </span>│\n",
       "│<span style=\"color: #7f7f7f; text-decoration-color: #7f7f7f\"> 50  </span>│ encoder.interaction_blocks.1.conv1.lin_r       │ Linear      │ 16.4 K │ train │<span style=\"color: #c0c0c0; text-decoration-color: #c0c0c0\">     [10538, </span>│<span style=\"color: #c0c0c0; text-decoration-color: #c0c0c0\">     [10538, </span>│\n",
       "│<span style=\"color: #7f7f7f; text-decoration-color: #7f7f7f\">     </span>│                                                │             │        │       │<span style=\"color: #c0c0c0; text-decoration-color: #c0c0c0\">        128] </span>│<span style=\"color: #c0c0c0; text-decoration-color: #c0c0c0\">        128] </span>│\n",
       "│<span style=\"color: #7f7f7f; text-decoration-color: #7f7f7f\"> 51  </span>│ encoder.interaction_blocks.1.conv2             │ EdgeGraphC… │ 32.9 K │ train │<span style=\"color: #c0c0c0; text-decoration-color: #c0c0c0\">    [[10538, </span>│<span style=\"color: #c0c0c0; text-decoration-color: #c0c0c0\">     [10538, </span>│\n",
       "│<span style=\"color: #7f7f7f; text-decoration-color: #7f7f7f\">     </span>│                                                │             │        │       │<span style=\"color: #c0c0c0; text-decoration-color: #c0c0c0\">   128], [2, </span>│<span style=\"color: #c0c0c0; text-decoration-color: #c0c0c0\">        128] </span>│\n",
       "│<span style=\"color: #7f7f7f; text-decoration-color: #7f7f7f\">     </span>│                                                │             │        │       │<span style=\"color: #c0c0c0; text-decoration-color: #c0c0c0\">    187624], </span>│<span style=\"color: #c0c0c0; text-decoration-color: #c0c0c0\">             </span>│\n",
       "│<span style=\"color: #7f7f7f; text-decoration-color: #7f7f7f\">     </span>│                                                │             │        │       │<span style=\"color: #c0c0c0; text-decoration-color: #c0c0c0\">    [187624, </span>│<span style=\"color: #c0c0c0; text-decoration-color: #c0c0c0\">             </span>│\n",
       "│<span style=\"color: #7f7f7f; text-decoration-color: #7f7f7f\">     </span>│                                                │             │        │       │<span style=\"color: #c0c0c0; text-decoration-color: #c0c0c0\">       128]] </span>│<span style=\"color: #c0c0c0; text-decoration-color: #c0c0c0\">             </span>│\n",
       "│<span style=\"color: #7f7f7f; text-decoration-color: #7f7f7f\"> 52  </span>│ encoder.interaction_blocks.1.conv2.aggr_module │ SumAggrega… │      0 │ train │<span style=\"color: #c0c0c0; text-decoration-color: #c0c0c0\">   [[187624, </span>│<span style=\"color: #c0c0c0; text-decoration-color: #c0c0c0\">     [10538, </span>│\n",
       "│<span style=\"color: #7f7f7f; text-decoration-color: #7f7f7f\">     </span>│                                                │             │        │       │<span style=\"color: #c0c0c0; text-decoration-color: #c0c0c0\">       128], </span>│<span style=\"color: #c0c0c0; text-decoration-color: #c0c0c0\">        128] </span>│\n",
       "│<span style=\"color: #7f7f7f; text-decoration-color: #7f7f7f\">     </span>│                                                │             │        │       │<span style=\"color: #c0c0c0; text-decoration-color: #c0c0c0\">   [187624], </span>│<span style=\"color: #c0c0c0; text-decoration-color: #c0c0c0\">             </span>│\n",
       "│<span style=\"color: #7f7f7f; text-decoration-color: #7f7f7f\">     </span>│                                                │             │        │       │<span style=\"color: #c0c0c0; text-decoration-color: #c0c0c0\">   '?', '?', </span>│<span style=\"color: #c0c0c0; text-decoration-color: #c0c0c0\">             </span>│\n",
       "│<span style=\"color: #7f7f7f; text-decoration-color: #7f7f7f\">     </span>│                                                │             │        │       │<span style=\"color: #c0c0c0; text-decoration-color: #c0c0c0\">        '?'] </span>│<span style=\"color: #c0c0c0; text-decoration-color: #c0c0c0\">             </span>│\n",
       "│<span style=\"color: #7f7f7f; text-decoration-color: #7f7f7f\"> 53  </span>│ encoder.interaction_blocks.1.conv2.lin_l       │ Linear      │ 16.5 K │ train │<span style=\"color: #c0c0c0; text-decoration-color: #c0c0c0\">     [10538, </span>│<span style=\"color: #c0c0c0; text-decoration-color: #c0c0c0\">     [10538, </span>│\n",
       "│<span style=\"color: #7f7f7f; text-decoration-color: #7f7f7f\">     </span>│                                                │             │        │       │<span style=\"color: #c0c0c0; text-decoration-color: #c0c0c0\">        128] </span>│<span style=\"color: #c0c0c0; text-decoration-color: #c0c0c0\">        128] </span>│\n",
       "│<span style=\"color: #7f7f7f; text-decoration-color: #7f7f7f\"> 54  </span>│ encoder.interaction_blocks.1.conv2.lin_r       │ Linear      │ 16.4 K │ train │<span style=\"color: #c0c0c0; text-decoration-color: #c0c0c0\">     [10538, </span>│<span style=\"color: #c0c0c0; text-decoration-color: #c0c0c0\">     [10538, </span>│\n",
       "│<span style=\"color: #7f7f7f; text-decoration-color: #7f7f7f\">     </span>│                                                │             │        │       │<span style=\"color: #c0c0c0; text-decoration-color: #c0c0c0\">        128] </span>│<span style=\"color: #c0c0c0; text-decoration-color: #c0c0c0\">        128] </span>│\n",
       "│<span style=\"color: #7f7f7f; text-decoration-color: #7f7f7f\"> 55  </span>│ encoder.interaction_blocks.1.lin_feature0      │ TwoLinear   │  9.7 K │ train │<span style=\"color: #c0c0c0; text-decoration-color: #c0c0c0\">    [187624, </span>│<span style=\"color: #c0c0c0; text-decoration-color: #c0c0c0\">    [187624, </span>│\n",
       "│<span style=\"color: #7f7f7f; text-decoration-color: #7f7f7f\">     </span>│                                                │             │        │       │<span style=\"color: #c0c0c0; text-decoration-color: #c0c0c0\">         24] </span>│<span style=\"color: #c0c0c0; text-decoration-color: #c0c0c0\">        128] </span>│\n",
       "│<span style=\"color: #7f7f7f; text-decoration-color: #7f7f7f\"> 56  </span>│ encoder.interaction_blocks.1.lin_feature0.lin1 │ Linear      │  1.5 K │ train │<span style=\"color: #c0c0c0; text-decoration-color: #c0c0c0\">    [187624, </span>│<span style=\"color: #c0c0c0; text-decoration-color: #c0c0c0\">    [187624, </span>│\n",
       "│<span style=\"color: #7f7f7f; text-decoration-color: #7f7f7f\">     </span>│                                                │             │        │       │<span style=\"color: #c0c0c0; text-decoration-color: #c0c0c0\">         24] </span>│<span style=\"color: #c0c0c0; text-decoration-color: #c0c0c0\">         64] </span>│\n",
       "│<span style=\"color: #7f7f7f; text-decoration-color: #7f7f7f\"> 57  </span>│ encoder.interaction_blocks.1.lin_feature0.lin2 │ Linear      │  8.2 K │ train │<span style=\"color: #c0c0c0; text-decoration-color: #c0c0c0\">    [187624, </span>│<span style=\"color: #c0c0c0; text-decoration-color: #c0c0c0\">    [187624, </span>│\n",
       "│<span style=\"color: #7f7f7f; text-decoration-color: #7f7f7f\">     </span>│                                                │             │        │       │<span style=\"color: #c0c0c0; text-decoration-color: #c0c0c0\">         64] </span>│<span style=\"color: #c0c0c0; text-decoration-color: #c0c0c0\">        128] </span>│\n",
       "│<span style=\"color: #7f7f7f; text-decoration-color: #7f7f7f\"> 58  </span>│ encoder.interaction_blocks.1.lin_feature1      │ TwoLinear   │  9.0 K │ train │<span style=\"color: #c0c0c0; text-decoration-color: #c0c0c0\">    [187624, </span>│<span style=\"color: #c0c0c0; text-decoration-color: #c0c0c0\">    [187624, </span>│\n",
       "│<span style=\"color: #7f7f7f; text-decoration-color: #7f7f7f\">     </span>│                                                │             │        │       │<span style=\"color: #c0c0c0; text-decoration-color: #c0c0c0\">         12] </span>│<span style=\"color: #c0c0c0; text-decoration-color: #c0c0c0\">        128] </span>│\n",
       "│<span style=\"color: #7f7f7f; text-decoration-color: #7f7f7f\"> 59  </span>│ encoder.interaction_blocks.1.lin_feature1.lin1 │ Linear      │    768 │ train │<span style=\"color: #c0c0c0; text-decoration-color: #c0c0c0\">    [187624, </span>│<span style=\"color: #c0c0c0; text-decoration-color: #c0c0c0\">    [187624, </span>│\n",
       "│<span style=\"color: #7f7f7f; text-decoration-color: #7f7f7f\">     </span>│                                                │             │        │       │<span style=\"color: #c0c0c0; text-decoration-color: #c0c0c0\">         12] </span>│<span style=\"color: #c0c0c0; text-decoration-color: #c0c0c0\">         64] </span>│\n",
       "│<span style=\"color: #7f7f7f; text-decoration-color: #7f7f7f\"> 60  </span>│ encoder.interaction_blocks.1.lin_feature1.lin2 │ Linear      │  8.2 K │ train │<span style=\"color: #c0c0c0; text-decoration-color: #c0c0c0\">    [187624, </span>│<span style=\"color: #c0c0c0; text-decoration-color: #c0c0c0\">    [187624, </span>│\n",
       "│<span style=\"color: #7f7f7f; text-decoration-color: #7f7f7f\">     </span>│                                                │             │        │       │<span style=\"color: #c0c0c0; text-decoration-color: #c0c0c0\">         64] </span>│<span style=\"color: #c0c0c0; text-decoration-color: #c0c0c0\">        128] </span>│\n",
       "│<span style=\"color: #7f7f7f; text-decoration-color: #7f7f7f\"> 61  </span>│ encoder.interaction_blocks.1.lin_feature2      │ TwoLinear   │  9.2 K │ train │<span style=\"color: #c0c0c0; text-decoration-color: #c0c0c0\">    [187624, </span>│<span style=\"color: #c0c0c0; text-decoration-color: #c0c0c0\">    [187624, </span>│\n",
       "│<span style=\"color: #7f7f7f; text-decoration-color: #7f7f7f\">     </span>│                                                │             │        │       │<span style=\"color: #c0c0c0; text-decoration-color: #c0c0c0\">         16] </span>│<span style=\"color: #c0c0c0; text-decoration-color: #c0c0c0\">        128] </span>│\n",
       "│<span style=\"color: #7f7f7f; text-decoration-color: #7f7f7f\"> 62  </span>│ encoder.interaction_blocks.1.lin_feature2.lin1 │ Linear      │  1.0 K │ train │<span style=\"color: #c0c0c0; text-decoration-color: #c0c0c0\">    [187624, </span>│<span style=\"color: #c0c0c0; text-decoration-color: #c0c0c0\">    [187624, </span>│\n",
       "│<span style=\"color: #7f7f7f; text-decoration-color: #7f7f7f\">     </span>│                                                │             │        │       │<span style=\"color: #c0c0c0; text-decoration-color: #c0c0c0\">         16] </span>│<span style=\"color: #c0c0c0; text-decoration-color: #c0c0c0\">         64] </span>│\n",
       "│<span style=\"color: #7f7f7f; text-decoration-color: #7f7f7f\"> 63  </span>│ encoder.interaction_blocks.1.lin_feature2.lin2 │ Linear      │  8.2 K │ train │<span style=\"color: #c0c0c0; text-decoration-color: #c0c0c0\">    [187624, </span>│<span style=\"color: #c0c0c0; text-decoration-color: #c0c0c0\">    [187624, </span>│\n",
       "│<span style=\"color: #7f7f7f; text-decoration-color: #7f7f7f\">     </span>│                                                │             │        │       │<span style=\"color: #c0c0c0; text-decoration-color: #c0c0c0\">         64] </span>│<span style=\"color: #c0c0c0; text-decoration-color: #c0c0c0\">        128] </span>│\n",
       "│<span style=\"color: #7f7f7f; text-decoration-color: #7f7f7f\"> 64  </span>│ encoder.interaction_blocks.1.lin_1             │ Linear      │ 16.5 K │ train │<span style=\"color: #c0c0c0; text-decoration-color: #c0c0c0\">     [10538, </span>│<span style=\"color: #c0c0c0; text-decoration-color: #c0c0c0\">     [10538, </span>│\n",
       "│<span style=\"color: #7f7f7f; text-decoration-color: #7f7f7f\">     </span>│                                                │             │        │       │<span style=\"color: #c0c0c0; text-decoration-color: #c0c0c0\">        128] </span>│<span style=\"color: #c0c0c0; text-decoration-color: #c0c0c0\">        128] </span>│\n",
       "│<span style=\"color: #7f7f7f; text-decoration-color: #7f7f7f\"> 65  </span>│ encoder.interaction_blocks.1.lin_2             │ Linear      │ 16.5 K │ train │<span style=\"color: #c0c0c0; text-decoration-color: #c0c0c0\">     [10538, </span>│<span style=\"color: #c0c0c0; text-decoration-color: #c0c0c0\">     [10538, </span>│\n",
       "│<span style=\"color: #7f7f7f; text-decoration-color: #7f7f7f\">     </span>│                                                │             │        │       │<span style=\"color: #c0c0c0; text-decoration-color: #c0c0c0\">        128] </span>│<span style=\"color: #c0c0c0; text-decoration-color: #c0c0c0\">        128] </span>│\n",
       "│<span style=\"color: #7f7f7f; text-decoration-color: #7f7f7f\"> 66  </span>│ encoder.interaction_blocks.1.lin0              │ Linear      │ 16.5 K │ train │<span style=\"color: #c0c0c0; text-decoration-color: #c0c0c0\">     [10538, </span>│<span style=\"color: #c0c0c0; text-decoration-color: #c0c0c0\">     [10538, </span>│\n",
       "│<span style=\"color: #7f7f7f; text-decoration-color: #7f7f7f\">     </span>│                                                │             │        │       │<span style=\"color: #c0c0c0; text-decoration-color: #c0c0c0\">        128] </span>│<span style=\"color: #c0c0c0; text-decoration-color: #c0c0c0\">        128] </span>│\n",
       "│<span style=\"color: #7f7f7f; text-decoration-color: #7f7f7f\"> 67  </span>│ encoder.interaction_blocks.1.lin1              │ Linear      │ 16.5 K │ train │<span style=\"color: #c0c0c0; text-decoration-color: #c0c0c0\">     [10538, </span>│<span style=\"color: #c0c0c0; text-decoration-color: #c0c0c0\">     [10538, </span>│\n",
       "│<span style=\"color: #7f7f7f; text-decoration-color: #7f7f7f\">     </span>│                                                │             │        │       │<span style=\"color: #c0c0c0; text-decoration-color: #c0c0c0\">        128] </span>│<span style=\"color: #c0c0c0; text-decoration-color: #c0c0c0\">        128] </span>│\n",
       "│<span style=\"color: #7f7f7f; text-decoration-color: #7f7f7f\"> 68  </span>│ encoder.interaction_blocks.1.lin2              │ Linear      │ 16.5 K │ train │<span style=\"color: #c0c0c0; text-decoration-color: #c0c0c0\">     [10538, </span>│<span style=\"color: #c0c0c0; text-decoration-color: #c0c0c0\">     [10538, </span>│\n",
       "│<span style=\"color: #7f7f7f; text-decoration-color: #7f7f7f\">     </span>│                                                │             │        │       │<span style=\"color: #c0c0c0; text-decoration-color: #c0c0c0\">        128] </span>│<span style=\"color: #c0c0c0; text-decoration-color: #c0c0c0\">        128] </span>│\n",
       "│<span style=\"color: #7f7f7f; text-decoration-color: #7f7f7f\"> 69  </span>│ encoder.interaction_blocks.1.lins_cat          │ ModuleList  │ 82.3 K │ train │<span style=\"color: #c0c0c0; text-decoration-color: #c0c0c0\">           ? </span>│<span style=\"color: #c0c0c0; text-decoration-color: #c0c0c0\">           ? </span>│\n",
       "│<span style=\"color: #7f7f7f; text-decoration-color: #7f7f7f\"> 70  </span>│ encoder.interaction_blocks.1.lins_cat.0        │ Linear      │ 49.3 K │ train │<span style=\"color: #c0c0c0; text-decoration-color: #c0c0c0\">     [10538, </span>│<span style=\"color: #c0c0c0; text-decoration-color: #c0c0c0\">     [10538, </span>│\n",
       "│<span style=\"color: #7f7f7f; text-decoration-color: #7f7f7f\">     </span>│                                                │             │        │       │<span style=\"color: #c0c0c0; text-decoration-color: #c0c0c0\">        384] </span>│<span style=\"color: #c0c0c0; text-decoration-color: #c0c0c0\">        128] </span>│\n",
       "│<span style=\"color: #7f7f7f; text-decoration-color: #7f7f7f\"> 71  </span>│ encoder.interaction_blocks.1.lins_cat.1        │ Linear      │ 16.5 K │ train │<span style=\"color: #c0c0c0; text-decoration-color: #c0c0c0\">     [10538, </span>│<span style=\"color: #c0c0c0; text-decoration-color: #c0c0c0\">     [10538, </span>│\n",
       "│<span style=\"color: #7f7f7f; text-decoration-color: #7f7f7f\">     </span>│                                                │             │        │       │<span style=\"color: #c0c0c0; text-decoration-color: #c0c0c0\">        128] </span>│<span style=\"color: #c0c0c0; text-decoration-color: #c0c0c0\">        128] </span>│\n",
       "│<span style=\"color: #7f7f7f; text-decoration-color: #7f7f7f\"> 72  </span>│ encoder.interaction_blocks.1.lins_cat.2        │ Linear      │ 16.5 K │ train │<span style=\"color: #c0c0c0; text-decoration-color: #c0c0c0\">     [10538, </span>│<span style=\"color: #c0c0c0; text-decoration-color: #c0c0c0\">     [10538, </span>│\n",
       "│<span style=\"color: #7f7f7f; text-decoration-color: #7f7f7f\">     </span>│                                                │             │        │       │<span style=\"color: #c0c0c0; text-decoration-color: #c0c0c0\">        128] </span>│<span style=\"color: #c0c0c0; text-decoration-color: #c0c0c0\">        128] </span>│\n",
       "│<span style=\"color: #7f7f7f; text-decoration-color: #7f7f7f\"> 73  </span>│ encoder.interaction_blocks.1.lins              │ ModuleList  │ 33.0 K │ train │<span style=\"color: #c0c0c0; text-decoration-color: #c0c0c0\">           ? </span>│<span style=\"color: #c0c0c0; text-decoration-color: #c0c0c0\">           ? </span>│\n",
       "│<span style=\"color: #7f7f7f; text-decoration-color: #7f7f7f\"> 74  </span>│ encoder.interaction_blocks.1.lins.0            │ Linear      │ 16.5 K │ train │<span style=\"color: #c0c0c0; text-decoration-color: #c0c0c0\">     [10538, </span>│<span style=\"color: #c0c0c0; text-decoration-color: #c0c0c0\">     [10538, </span>│\n",
       "│<span style=\"color: #7f7f7f; text-decoration-color: #7f7f7f\">     </span>│                                                │             │        │       │<span style=\"color: #c0c0c0; text-decoration-color: #c0c0c0\">        128] </span>│<span style=\"color: #c0c0c0; text-decoration-color: #c0c0c0\">        128] </span>│\n",
       "│<span style=\"color: #7f7f7f; text-decoration-color: #7f7f7f\"> 75  </span>│ encoder.interaction_blocks.1.lins.1            │ Linear      │ 16.5 K │ train │<span style=\"color: #c0c0c0; text-decoration-color: #c0c0c0\">     [10538, </span>│<span style=\"color: #c0c0c0; text-decoration-color: #c0c0c0\">     [10538, </span>│\n",
       "│<span style=\"color: #7f7f7f; text-decoration-color: #7f7f7f\">     </span>│                                                │             │        │       │<span style=\"color: #c0c0c0; text-decoration-color: #c0c0c0\">        128] </span>│<span style=\"color: #c0c0c0; text-decoration-color: #c0c0c0\">        128] </span>│\n",
       "│<span style=\"color: #7f7f7f; text-decoration-color: #7f7f7f\"> 76  </span>│ encoder.interaction_blocks.1.final             │ Linear      │ 16.5 K │ train │<span style=\"color: #c0c0c0; text-decoration-color: #c0c0c0\">     [10538, </span>│<span style=\"color: #c0c0c0; text-decoration-color: #c0c0c0\">     [10538, </span>│\n",
       "│<span style=\"color: #7f7f7f; text-decoration-color: #7f7f7f\">     </span>│                                                │             │        │       │<span style=\"color: #c0c0c0; text-decoration-color: #c0c0c0\">        128] </span>│<span style=\"color: #c0c0c0; text-decoration-color: #c0c0c0\">        128] </span>│\n",
       "│<span style=\"color: #7f7f7f; text-decoration-color: #7f7f7f\"> 77  </span>│ encoder.interaction_blocks.2                   │ Interactio… │  340 K │ train │<span style=\"color: #c0c0c0; text-decoration-color: #c0c0c0\">    [[10538, </span>│<span style=\"color: #c0c0c0; text-decoration-color: #c0c0c0\">     [10538, </span>│\n",
       "│<span style=\"color: #7f7f7f; text-decoration-color: #7f7f7f\">     </span>│                                                │             │        │       │<span style=\"color: #c0c0c0; text-decoration-color: #c0c0c0\">       128], </span>│<span style=\"color: #c0c0c0; text-decoration-color: #c0c0c0\">        128] </span>│\n",
       "│<span style=\"color: #7f7f7f; text-decoration-color: #7f7f7f\">     </span>│                                                │             │        │       │<span style=\"color: #c0c0c0; text-decoration-color: #c0c0c0\">    [187624, </span>│<span style=\"color: #c0c0c0; text-decoration-color: #c0c0c0\">             </span>│\n",
       "│<span style=\"color: #7f7f7f; text-decoration-color: #7f7f7f\">     </span>│                                                │             │        │       │<span style=\"color: #c0c0c0; text-decoration-color: #c0c0c0\">        24], </span>│<span style=\"color: #c0c0c0; text-decoration-color: #c0c0c0\">             </span>│\n",
       "│<span style=\"color: #7f7f7f; text-decoration-color: #7f7f7f\">     </span>│                                                │             │        │       │<span style=\"color: #c0c0c0; text-decoration-color: #c0c0c0\">    [187624, </span>│<span style=\"color: #c0c0c0; text-decoration-color: #c0c0c0\">             </span>│\n",
       "│<span style=\"color: #7f7f7f; text-decoration-color: #7f7f7f\">     </span>│                                                │             │        │       │<span style=\"color: #c0c0c0; text-decoration-color: #c0c0c0\">        12], </span>│<span style=\"color: #c0c0c0; text-decoration-color: #c0c0c0\">             </span>│\n",
       "│<span style=\"color: #7f7f7f; text-decoration-color: #7f7f7f\">     </span>│                                                │             │        │       │<span style=\"color: #c0c0c0; text-decoration-color: #c0c0c0\">    [187624, </span>│<span style=\"color: #c0c0c0; text-decoration-color: #c0c0c0\">             </span>│\n",
       "│<span style=\"color: #7f7f7f; text-decoration-color: #7f7f7f\">     </span>│                                                │             │        │       │<span style=\"color: #c0c0c0; text-decoration-color: #c0c0c0\">    16], [2, </span>│<span style=\"color: #c0c0c0; text-decoration-color: #c0c0c0\">             </span>│\n",
       "│<span style=\"color: #7f7f7f; text-decoration-color: #7f7f7f\">     </span>│                                                │             │        │       │<span style=\"color: #c0c0c0; text-decoration-color: #c0c0c0\">    187624], </span>│<span style=\"color: #c0c0c0; text-decoration-color: #c0c0c0\">             </span>│\n",
       "│<span style=\"color: #7f7f7f; text-decoration-color: #7f7f7f\">     </span>│                                                │             │        │       │<span style=\"color: #c0c0c0; text-decoration-color: #c0c0c0\">    [10538]] </span>│<span style=\"color: #c0c0c0; text-decoration-color: #c0c0c0\">             </span>│\n",
       "│<span style=\"color: #7f7f7f; text-decoration-color: #7f7f7f\"> 78  </span>│ encoder.interaction_blocks.2.dropout           │ Dropout     │      0 │ train │<span style=\"color: #c0c0c0; text-decoration-color: #c0c0c0\">     [10538, </span>│<span style=\"color: #c0c0c0; text-decoration-color: #c0c0c0\">     [10538, </span>│\n",
       "│<span style=\"color: #7f7f7f; text-decoration-color: #7f7f7f\">     </span>│                                                │             │        │       │<span style=\"color: #c0c0c0; text-decoration-color: #c0c0c0\">        128] </span>│<span style=\"color: #c0c0c0; text-decoration-color: #c0c0c0\">        128] </span>│\n",
       "│<span style=\"color: #7f7f7f; text-decoration-color: #7f7f7f\"> 79  </span>│ encoder.interaction_blocks.2.conv0             │ EdgeGraphC… │ 32.9 K │ train │<span style=\"color: #c0c0c0; text-decoration-color: #c0c0c0\">    [[10538, </span>│<span style=\"color: #c0c0c0; text-decoration-color: #c0c0c0\">     [10538, </span>│\n",
       "│<span style=\"color: #7f7f7f; text-decoration-color: #7f7f7f\">     </span>│                                                │             │        │       │<span style=\"color: #c0c0c0; text-decoration-color: #c0c0c0\">   128], [2, </span>│<span style=\"color: #c0c0c0; text-decoration-color: #c0c0c0\">        128] </span>│\n",
       "│<span style=\"color: #7f7f7f; text-decoration-color: #7f7f7f\">     </span>│                                                │             │        │       │<span style=\"color: #c0c0c0; text-decoration-color: #c0c0c0\">    187624], </span>│<span style=\"color: #c0c0c0; text-decoration-color: #c0c0c0\">             </span>│\n",
       "│<span style=\"color: #7f7f7f; text-decoration-color: #7f7f7f\">     </span>│                                                │             │        │       │<span style=\"color: #c0c0c0; text-decoration-color: #c0c0c0\">    [187624, </span>│<span style=\"color: #c0c0c0; text-decoration-color: #c0c0c0\">             </span>│\n",
       "│<span style=\"color: #7f7f7f; text-decoration-color: #7f7f7f\">     </span>│                                                │             │        │       │<span style=\"color: #c0c0c0; text-decoration-color: #c0c0c0\">       128]] </span>│<span style=\"color: #c0c0c0; text-decoration-color: #c0c0c0\">             </span>│\n",
       "│<span style=\"color: #7f7f7f; text-decoration-color: #7f7f7f\"> 80  </span>│ encoder.interaction_blocks.2.conv0.aggr_module │ SumAggrega… │      0 │ train │<span style=\"color: #c0c0c0; text-decoration-color: #c0c0c0\">   [[187624, </span>│<span style=\"color: #c0c0c0; text-decoration-color: #c0c0c0\">     [10538, </span>│\n",
       "│<span style=\"color: #7f7f7f; text-decoration-color: #7f7f7f\">     </span>│                                                │             │        │       │<span style=\"color: #c0c0c0; text-decoration-color: #c0c0c0\">       128], </span>│<span style=\"color: #c0c0c0; text-decoration-color: #c0c0c0\">        128] </span>│\n",
       "│<span style=\"color: #7f7f7f; text-decoration-color: #7f7f7f\">     </span>│                                                │             │        │       │<span style=\"color: #c0c0c0; text-decoration-color: #c0c0c0\">   [187624], </span>│<span style=\"color: #c0c0c0; text-decoration-color: #c0c0c0\">             </span>│\n",
       "│<span style=\"color: #7f7f7f; text-decoration-color: #7f7f7f\">     </span>│                                                │             │        │       │<span style=\"color: #c0c0c0; text-decoration-color: #c0c0c0\">   '?', '?', </span>│<span style=\"color: #c0c0c0; text-decoration-color: #c0c0c0\">             </span>│\n",
       "│<span style=\"color: #7f7f7f; text-decoration-color: #7f7f7f\">     </span>│                                                │             │        │       │<span style=\"color: #c0c0c0; text-decoration-color: #c0c0c0\">        '?'] </span>│<span style=\"color: #c0c0c0; text-decoration-color: #c0c0c0\">             </span>│\n",
       "│<span style=\"color: #7f7f7f; text-decoration-color: #7f7f7f\"> 81  </span>│ encoder.interaction_blocks.2.conv0.lin_l       │ Linear      │ 16.5 K │ train │<span style=\"color: #c0c0c0; text-decoration-color: #c0c0c0\">     [10538, </span>│<span style=\"color: #c0c0c0; text-decoration-color: #c0c0c0\">     [10538, </span>│\n",
       "│<span style=\"color: #7f7f7f; text-decoration-color: #7f7f7f\">     </span>│                                                │             │        │       │<span style=\"color: #c0c0c0; text-decoration-color: #c0c0c0\">        128] </span>│<span style=\"color: #c0c0c0; text-decoration-color: #c0c0c0\">        128] </span>│\n",
       "│<span style=\"color: #7f7f7f; text-decoration-color: #7f7f7f\"> 82  </span>│ encoder.interaction_blocks.2.conv0.lin_r       │ Linear      │ 16.4 K │ train │<span style=\"color: #c0c0c0; text-decoration-color: #c0c0c0\">     [10538, </span>│<span style=\"color: #c0c0c0; text-decoration-color: #c0c0c0\">     [10538, </span>│\n",
       "│<span style=\"color: #7f7f7f; text-decoration-color: #7f7f7f\">     </span>│                                                │             │        │       │<span style=\"color: #c0c0c0; text-decoration-color: #c0c0c0\">        128] </span>│<span style=\"color: #c0c0c0; text-decoration-color: #c0c0c0\">        128] </span>│\n",
       "│<span style=\"color: #7f7f7f; text-decoration-color: #7f7f7f\"> 83  </span>│ encoder.interaction_blocks.2.conv1             │ EdgeGraphC… │ 32.9 K │ train │<span style=\"color: #c0c0c0; text-decoration-color: #c0c0c0\">    [[10538, </span>│<span style=\"color: #c0c0c0; text-decoration-color: #c0c0c0\">     [10538, </span>│\n",
       "│<span style=\"color: #7f7f7f; text-decoration-color: #7f7f7f\">     </span>│                                                │             │        │       │<span style=\"color: #c0c0c0; text-decoration-color: #c0c0c0\">   128], [2, </span>│<span style=\"color: #c0c0c0; text-decoration-color: #c0c0c0\">        128] </span>│\n",
       "│<span style=\"color: #7f7f7f; text-decoration-color: #7f7f7f\">     </span>│                                                │             │        │       │<span style=\"color: #c0c0c0; text-decoration-color: #c0c0c0\">    187624], </span>│<span style=\"color: #c0c0c0; text-decoration-color: #c0c0c0\">             </span>│\n",
       "│<span style=\"color: #7f7f7f; text-decoration-color: #7f7f7f\">     </span>│                                                │             │        │       │<span style=\"color: #c0c0c0; text-decoration-color: #c0c0c0\">    [187624, </span>│<span style=\"color: #c0c0c0; text-decoration-color: #c0c0c0\">             </span>│\n",
       "│<span style=\"color: #7f7f7f; text-decoration-color: #7f7f7f\">     </span>│                                                │             │        │       │<span style=\"color: #c0c0c0; text-decoration-color: #c0c0c0\">       128]] </span>│<span style=\"color: #c0c0c0; text-decoration-color: #c0c0c0\">             </span>│\n",
       "│<span style=\"color: #7f7f7f; text-decoration-color: #7f7f7f\"> 84  </span>│ encoder.interaction_blocks.2.conv1.aggr_module │ SumAggrega… │      0 │ train │<span style=\"color: #c0c0c0; text-decoration-color: #c0c0c0\">   [[187624, </span>│<span style=\"color: #c0c0c0; text-decoration-color: #c0c0c0\">     [10538, </span>│\n",
       "│<span style=\"color: #7f7f7f; text-decoration-color: #7f7f7f\">     </span>│                                                │             │        │       │<span style=\"color: #c0c0c0; text-decoration-color: #c0c0c0\">       128], </span>│<span style=\"color: #c0c0c0; text-decoration-color: #c0c0c0\">        128] </span>│\n",
       "│<span style=\"color: #7f7f7f; text-decoration-color: #7f7f7f\">     </span>│                                                │             │        │       │<span style=\"color: #c0c0c0; text-decoration-color: #c0c0c0\">   [187624], </span>│<span style=\"color: #c0c0c0; text-decoration-color: #c0c0c0\">             </span>│\n",
       "│<span style=\"color: #7f7f7f; text-decoration-color: #7f7f7f\">     </span>│                                                │             │        │       │<span style=\"color: #c0c0c0; text-decoration-color: #c0c0c0\">   '?', '?', </span>│<span style=\"color: #c0c0c0; text-decoration-color: #c0c0c0\">             </span>│\n",
       "│<span style=\"color: #7f7f7f; text-decoration-color: #7f7f7f\">     </span>│                                                │             │        │       │<span style=\"color: #c0c0c0; text-decoration-color: #c0c0c0\">        '?'] </span>│<span style=\"color: #c0c0c0; text-decoration-color: #c0c0c0\">             </span>│\n",
       "│<span style=\"color: #7f7f7f; text-decoration-color: #7f7f7f\"> 85  </span>│ encoder.interaction_blocks.2.conv1.lin_l       │ Linear      │ 16.5 K │ train │<span style=\"color: #c0c0c0; text-decoration-color: #c0c0c0\">     [10538, </span>│<span style=\"color: #c0c0c0; text-decoration-color: #c0c0c0\">     [10538, </span>│\n",
       "│<span style=\"color: #7f7f7f; text-decoration-color: #7f7f7f\">     </span>│                                                │             │        │       │<span style=\"color: #c0c0c0; text-decoration-color: #c0c0c0\">        128] </span>│<span style=\"color: #c0c0c0; text-decoration-color: #c0c0c0\">        128] </span>│\n",
       "│<span style=\"color: #7f7f7f; text-decoration-color: #7f7f7f\"> 86  </span>│ encoder.interaction_blocks.2.conv1.lin_r       │ Linear      │ 16.4 K │ train │<span style=\"color: #c0c0c0; text-decoration-color: #c0c0c0\">     [10538, </span>│<span style=\"color: #c0c0c0; text-decoration-color: #c0c0c0\">     [10538, </span>│\n",
       "│<span style=\"color: #7f7f7f; text-decoration-color: #7f7f7f\">     </span>│                                                │             │        │       │<span style=\"color: #c0c0c0; text-decoration-color: #c0c0c0\">        128] </span>│<span style=\"color: #c0c0c0; text-decoration-color: #c0c0c0\">        128] </span>│\n",
       "│<span style=\"color: #7f7f7f; text-decoration-color: #7f7f7f\"> 87  </span>│ encoder.interaction_blocks.2.conv2             │ EdgeGraphC… │ 32.9 K │ train │<span style=\"color: #c0c0c0; text-decoration-color: #c0c0c0\">    [[10538, </span>│<span style=\"color: #c0c0c0; text-decoration-color: #c0c0c0\">     [10538, </span>│\n",
       "│<span style=\"color: #7f7f7f; text-decoration-color: #7f7f7f\">     </span>│                                                │             │        │       │<span style=\"color: #c0c0c0; text-decoration-color: #c0c0c0\">   128], [2, </span>│<span style=\"color: #c0c0c0; text-decoration-color: #c0c0c0\">        128] </span>│\n",
       "│<span style=\"color: #7f7f7f; text-decoration-color: #7f7f7f\">     </span>│                                                │             │        │       │<span style=\"color: #c0c0c0; text-decoration-color: #c0c0c0\">    187624], </span>│<span style=\"color: #c0c0c0; text-decoration-color: #c0c0c0\">             </span>│\n",
       "│<span style=\"color: #7f7f7f; text-decoration-color: #7f7f7f\">     </span>│                                                │             │        │       │<span style=\"color: #c0c0c0; text-decoration-color: #c0c0c0\">    [187624, </span>│<span style=\"color: #c0c0c0; text-decoration-color: #c0c0c0\">             </span>│\n",
       "│<span style=\"color: #7f7f7f; text-decoration-color: #7f7f7f\">     </span>│                                                │             │        │       │<span style=\"color: #c0c0c0; text-decoration-color: #c0c0c0\">       128]] </span>│<span style=\"color: #c0c0c0; text-decoration-color: #c0c0c0\">             </span>│\n",
       "│<span style=\"color: #7f7f7f; text-decoration-color: #7f7f7f\"> 88  </span>│ encoder.interaction_blocks.2.conv2.aggr_module │ SumAggrega… │      0 │ train │<span style=\"color: #c0c0c0; text-decoration-color: #c0c0c0\">   [[187624, </span>│<span style=\"color: #c0c0c0; text-decoration-color: #c0c0c0\">     [10538, </span>│\n",
       "│<span style=\"color: #7f7f7f; text-decoration-color: #7f7f7f\">     </span>│                                                │             │        │       │<span style=\"color: #c0c0c0; text-decoration-color: #c0c0c0\">       128], </span>│<span style=\"color: #c0c0c0; text-decoration-color: #c0c0c0\">        128] </span>│\n",
       "│<span style=\"color: #7f7f7f; text-decoration-color: #7f7f7f\">     </span>│                                                │             │        │       │<span style=\"color: #c0c0c0; text-decoration-color: #c0c0c0\">   [187624], </span>│<span style=\"color: #c0c0c0; text-decoration-color: #c0c0c0\">             </span>│\n",
       "│<span style=\"color: #7f7f7f; text-decoration-color: #7f7f7f\">     </span>│                                                │             │        │       │<span style=\"color: #c0c0c0; text-decoration-color: #c0c0c0\">   '?', '?', </span>│<span style=\"color: #c0c0c0; text-decoration-color: #c0c0c0\">             </span>│\n",
       "│<span style=\"color: #7f7f7f; text-decoration-color: #7f7f7f\">     </span>│                                                │             │        │       │<span style=\"color: #c0c0c0; text-decoration-color: #c0c0c0\">        '?'] </span>│<span style=\"color: #c0c0c0; text-decoration-color: #c0c0c0\">             </span>│\n",
       "│<span style=\"color: #7f7f7f; text-decoration-color: #7f7f7f\"> 89  </span>│ encoder.interaction_blocks.2.conv2.lin_l       │ Linear      │ 16.5 K │ train │<span style=\"color: #c0c0c0; text-decoration-color: #c0c0c0\">     [10538, </span>│<span style=\"color: #c0c0c0; text-decoration-color: #c0c0c0\">     [10538, </span>│\n",
       "│<span style=\"color: #7f7f7f; text-decoration-color: #7f7f7f\">     </span>│                                                │             │        │       │<span style=\"color: #c0c0c0; text-decoration-color: #c0c0c0\">        128] </span>│<span style=\"color: #c0c0c0; text-decoration-color: #c0c0c0\">        128] </span>│\n",
       "│<span style=\"color: #7f7f7f; text-decoration-color: #7f7f7f\"> 90  </span>│ encoder.interaction_blocks.2.conv2.lin_r       │ Linear      │ 16.4 K │ train │<span style=\"color: #c0c0c0; text-decoration-color: #c0c0c0\">     [10538, </span>│<span style=\"color: #c0c0c0; text-decoration-color: #c0c0c0\">     [10538, </span>│\n",
       "│<span style=\"color: #7f7f7f; text-decoration-color: #7f7f7f\">     </span>│                                                │             │        │       │<span style=\"color: #c0c0c0; text-decoration-color: #c0c0c0\">        128] </span>│<span style=\"color: #c0c0c0; text-decoration-color: #c0c0c0\">        128] </span>│\n",
       "│<span style=\"color: #7f7f7f; text-decoration-color: #7f7f7f\"> 91  </span>│ encoder.interaction_blocks.2.lin_feature0      │ TwoLinear   │  9.7 K │ train │<span style=\"color: #c0c0c0; text-decoration-color: #c0c0c0\">    [187624, </span>│<span style=\"color: #c0c0c0; text-decoration-color: #c0c0c0\">    [187624, </span>│\n",
       "│<span style=\"color: #7f7f7f; text-decoration-color: #7f7f7f\">     </span>│                                                │             │        │       │<span style=\"color: #c0c0c0; text-decoration-color: #c0c0c0\">         24] </span>│<span style=\"color: #c0c0c0; text-decoration-color: #c0c0c0\">        128] </span>│\n",
       "│<span style=\"color: #7f7f7f; text-decoration-color: #7f7f7f\"> 92  </span>│ encoder.interaction_blocks.2.lin_feature0.lin1 │ Linear      │  1.5 K │ train │<span style=\"color: #c0c0c0; text-decoration-color: #c0c0c0\">    [187624, </span>│<span style=\"color: #c0c0c0; text-decoration-color: #c0c0c0\">    [187624, </span>│\n",
       "│<span style=\"color: #7f7f7f; text-decoration-color: #7f7f7f\">     </span>│                                                │             │        │       │<span style=\"color: #c0c0c0; text-decoration-color: #c0c0c0\">         24] </span>│<span style=\"color: #c0c0c0; text-decoration-color: #c0c0c0\">         64] </span>│\n",
       "│<span style=\"color: #7f7f7f; text-decoration-color: #7f7f7f\"> 93  </span>│ encoder.interaction_blocks.2.lin_feature0.lin2 │ Linear      │  8.2 K │ train │<span style=\"color: #c0c0c0; text-decoration-color: #c0c0c0\">    [187624, </span>│<span style=\"color: #c0c0c0; text-decoration-color: #c0c0c0\">    [187624, </span>│\n",
       "│<span style=\"color: #7f7f7f; text-decoration-color: #7f7f7f\">     </span>│                                                │             │        │       │<span style=\"color: #c0c0c0; text-decoration-color: #c0c0c0\">         64] </span>│<span style=\"color: #c0c0c0; text-decoration-color: #c0c0c0\">        128] </span>│\n",
       "│<span style=\"color: #7f7f7f; text-decoration-color: #7f7f7f\"> 94  </span>│ encoder.interaction_blocks.2.lin_feature1      │ TwoLinear   │  9.0 K │ train │<span style=\"color: #c0c0c0; text-decoration-color: #c0c0c0\">    [187624, </span>│<span style=\"color: #c0c0c0; text-decoration-color: #c0c0c0\">    [187624, </span>│\n",
       "│<span style=\"color: #7f7f7f; text-decoration-color: #7f7f7f\">     </span>│                                                │             │        │       │<span style=\"color: #c0c0c0; text-decoration-color: #c0c0c0\">         12] </span>│<span style=\"color: #c0c0c0; text-decoration-color: #c0c0c0\">        128] </span>│\n",
       "│<span style=\"color: #7f7f7f; text-decoration-color: #7f7f7f\"> 95  </span>│ encoder.interaction_blocks.2.lin_feature1.lin1 │ Linear      │    768 │ train │<span style=\"color: #c0c0c0; text-decoration-color: #c0c0c0\">    [187624, </span>│<span style=\"color: #c0c0c0; text-decoration-color: #c0c0c0\">    [187624, </span>│\n",
       "│<span style=\"color: #7f7f7f; text-decoration-color: #7f7f7f\">     </span>│                                                │             │        │       │<span style=\"color: #c0c0c0; text-decoration-color: #c0c0c0\">         12] </span>│<span style=\"color: #c0c0c0; text-decoration-color: #c0c0c0\">         64] </span>│\n",
       "│<span style=\"color: #7f7f7f; text-decoration-color: #7f7f7f\"> 96  </span>│ encoder.interaction_blocks.2.lin_feature1.lin2 │ Linear      │  8.2 K │ train │<span style=\"color: #c0c0c0; text-decoration-color: #c0c0c0\">    [187624, </span>│<span style=\"color: #c0c0c0; text-decoration-color: #c0c0c0\">    [187624, </span>│\n",
       "│<span style=\"color: #7f7f7f; text-decoration-color: #7f7f7f\">     </span>│                                                │             │        │       │<span style=\"color: #c0c0c0; text-decoration-color: #c0c0c0\">         64] </span>│<span style=\"color: #c0c0c0; text-decoration-color: #c0c0c0\">        128] </span>│\n",
       "│<span style=\"color: #7f7f7f; text-decoration-color: #7f7f7f\"> 97  </span>│ encoder.interaction_blocks.2.lin_feature2      │ TwoLinear   │  9.2 K │ train │<span style=\"color: #c0c0c0; text-decoration-color: #c0c0c0\">    [187624, </span>│<span style=\"color: #c0c0c0; text-decoration-color: #c0c0c0\">    [187624, </span>│\n",
       "│<span style=\"color: #7f7f7f; text-decoration-color: #7f7f7f\">     </span>│                                                │             │        │       │<span style=\"color: #c0c0c0; text-decoration-color: #c0c0c0\">         16] </span>│<span style=\"color: #c0c0c0; text-decoration-color: #c0c0c0\">        128] </span>│\n",
       "│<span style=\"color: #7f7f7f; text-decoration-color: #7f7f7f\"> 98  </span>│ encoder.interaction_blocks.2.lin_feature2.lin1 │ Linear      │  1.0 K │ train │<span style=\"color: #c0c0c0; text-decoration-color: #c0c0c0\">    [187624, </span>│<span style=\"color: #c0c0c0; text-decoration-color: #c0c0c0\">    [187624, </span>│\n",
       "│<span style=\"color: #7f7f7f; text-decoration-color: #7f7f7f\">     </span>│                                                │             │        │       │<span style=\"color: #c0c0c0; text-decoration-color: #c0c0c0\">         16] </span>│<span style=\"color: #c0c0c0; text-decoration-color: #c0c0c0\">         64] </span>│\n",
       "│<span style=\"color: #7f7f7f; text-decoration-color: #7f7f7f\"> 99  </span>│ encoder.interaction_blocks.2.lin_feature2.lin2 │ Linear      │  8.2 K │ train │<span style=\"color: #c0c0c0; text-decoration-color: #c0c0c0\">    [187624, </span>│<span style=\"color: #c0c0c0; text-decoration-color: #c0c0c0\">    [187624, </span>│\n",
       "│<span style=\"color: #7f7f7f; text-decoration-color: #7f7f7f\">     </span>│                                                │             │        │       │<span style=\"color: #c0c0c0; text-decoration-color: #c0c0c0\">         64] </span>│<span style=\"color: #c0c0c0; text-decoration-color: #c0c0c0\">        128] </span>│\n",
       "│<span style=\"color: #7f7f7f; text-decoration-color: #7f7f7f\"> 100 </span>│ encoder.interaction_blocks.2.lin_1             │ Linear      │ 16.5 K │ train │<span style=\"color: #c0c0c0; text-decoration-color: #c0c0c0\">     [10538, </span>│<span style=\"color: #c0c0c0; text-decoration-color: #c0c0c0\">     [10538, </span>│\n",
       "│<span style=\"color: #7f7f7f; text-decoration-color: #7f7f7f\">     </span>│                                                │             │        │       │<span style=\"color: #c0c0c0; text-decoration-color: #c0c0c0\">        128] </span>│<span style=\"color: #c0c0c0; text-decoration-color: #c0c0c0\">        128] </span>│\n",
       "│<span style=\"color: #7f7f7f; text-decoration-color: #7f7f7f\"> 101 </span>│ encoder.interaction_blocks.2.lin_2             │ Linear      │ 16.5 K │ train │<span style=\"color: #c0c0c0; text-decoration-color: #c0c0c0\">     [10538, </span>│<span style=\"color: #c0c0c0; text-decoration-color: #c0c0c0\">     [10538, </span>│\n",
       "│<span style=\"color: #7f7f7f; text-decoration-color: #7f7f7f\">     </span>│                                                │             │        │       │<span style=\"color: #c0c0c0; text-decoration-color: #c0c0c0\">        128] </span>│<span style=\"color: #c0c0c0; text-decoration-color: #c0c0c0\">        128] </span>│\n",
       "│<span style=\"color: #7f7f7f; text-decoration-color: #7f7f7f\"> 102 </span>│ encoder.interaction_blocks.2.lin0              │ Linear      │ 16.5 K │ train │<span style=\"color: #c0c0c0; text-decoration-color: #c0c0c0\">     [10538, </span>│<span style=\"color: #c0c0c0; text-decoration-color: #c0c0c0\">     [10538, </span>│\n",
       "│<span style=\"color: #7f7f7f; text-decoration-color: #7f7f7f\">     </span>│                                                │             │        │       │<span style=\"color: #c0c0c0; text-decoration-color: #c0c0c0\">        128] </span>│<span style=\"color: #c0c0c0; text-decoration-color: #c0c0c0\">        128] </span>│\n",
       "│<span style=\"color: #7f7f7f; text-decoration-color: #7f7f7f\"> 103 </span>│ encoder.interaction_blocks.2.lin1              │ Linear      │ 16.5 K │ train │<span style=\"color: #c0c0c0; text-decoration-color: #c0c0c0\">     [10538, </span>│<span style=\"color: #c0c0c0; text-decoration-color: #c0c0c0\">     [10538, </span>│\n",
       "│<span style=\"color: #7f7f7f; text-decoration-color: #7f7f7f\">     </span>│                                                │             │        │       │<span style=\"color: #c0c0c0; text-decoration-color: #c0c0c0\">        128] </span>│<span style=\"color: #c0c0c0; text-decoration-color: #c0c0c0\">        128] </span>│\n",
       "│<span style=\"color: #7f7f7f; text-decoration-color: #7f7f7f\"> 104 </span>│ encoder.interaction_blocks.2.lin2              │ Linear      │ 16.5 K │ train │<span style=\"color: #c0c0c0; text-decoration-color: #c0c0c0\">     [10538, </span>│<span style=\"color: #c0c0c0; text-decoration-color: #c0c0c0\">     [10538, </span>│\n",
       "│<span style=\"color: #7f7f7f; text-decoration-color: #7f7f7f\">     </span>│                                                │             │        │       │<span style=\"color: #c0c0c0; text-decoration-color: #c0c0c0\">        128] </span>│<span style=\"color: #c0c0c0; text-decoration-color: #c0c0c0\">        128] </span>│\n",
       "│<span style=\"color: #7f7f7f; text-decoration-color: #7f7f7f\"> 105 </span>│ encoder.interaction_blocks.2.lins_cat          │ ModuleList  │ 82.3 K │ train │<span style=\"color: #c0c0c0; text-decoration-color: #c0c0c0\">           ? </span>│<span style=\"color: #c0c0c0; text-decoration-color: #c0c0c0\">           ? </span>│\n",
       "│<span style=\"color: #7f7f7f; text-decoration-color: #7f7f7f\"> 106 </span>│ encoder.interaction_blocks.2.lins_cat.0        │ Linear      │ 49.3 K │ train │<span style=\"color: #c0c0c0; text-decoration-color: #c0c0c0\">     [10538, </span>│<span style=\"color: #c0c0c0; text-decoration-color: #c0c0c0\">     [10538, </span>│\n",
       "│<span style=\"color: #7f7f7f; text-decoration-color: #7f7f7f\">     </span>│                                                │             │        │       │<span style=\"color: #c0c0c0; text-decoration-color: #c0c0c0\">        384] </span>│<span style=\"color: #c0c0c0; text-decoration-color: #c0c0c0\">        128] </span>│\n",
       "│<span style=\"color: #7f7f7f; text-decoration-color: #7f7f7f\"> 107 </span>│ encoder.interaction_blocks.2.lins_cat.1        │ Linear      │ 16.5 K │ train │<span style=\"color: #c0c0c0; text-decoration-color: #c0c0c0\">     [10538, </span>│<span style=\"color: #c0c0c0; text-decoration-color: #c0c0c0\">     [10538, </span>│\n",
       "│<span style=\"color: #7f7f7f; text-decoration-color: #7f7f7f\">     </span>│                                                │             │        │       │<span style=\"color: #c0c0c0; text-decoration-color: #c0c0c0\">        128] </span>│<span style=\"color: #c0c0c0; text-decoration-color: #c0c0c0\">        128] </span>│\n",
       "│<span style=\"color: #7f7f7f; text-decoration-color: #7f7f7f\"> 108 </span>│ encoder.interaction_blocks.2.lins_cat.2        │ Linear      │ 16.5 K │ train │<span style=\"color: #c0c0c0; text-decoration-color: #c0c0c0\">     [10538, </span>│<span style=\"color: #c0c0c0; text-decoration-color: #c0c0c0\">     [10538, </span>│\n",
       "│<span style=\"color: #7f7f7f; text-decoration-color: #7f7f7f\">     </span>│                                                │             │        │       │<span style=\"color: #c0c0c0; text-decoration-color: #c0c0c0\">        128] </span>│<span style=\"color: #c0c0c0; text-decoration-color: #c0c0c0\">        128] </span>│\n",
       "│<span style=\"color: #7f7f7f; text-decoration-color: #7f7f7f\"> 109 </span>│ encoder.interaction_blocks.2.lins              │ ModuleList  │ 33.0 K │ train │<span style=\"color: #c0c0c0; text-decoration-color: #c0c0c0\">           ? </span>│<span style=\"color: #c0c0c0; text-decoration-color: #c0c0c0\">           ? </span>│\n",
       "│<span style=\"color: #7f7f7f; text-decoration-color: #7f7f7f\"> 110 </span>│ encoder.interaction_blocks.2.lins.0            │ Linear      │ 16.5 K │ train │<span style=\"color: #c0c0c0; text-decoration-color: #c0c0c0\">     [10538, </span>│<span style=\"color: #c0c0c0; text-decoration-color: #c0c0c0\">     [10538, </span>│\n",
       "│<span style=\"color: #7f7f7f; text-decoration-color: #7f7f7f\">     </span>│                                                │             │        │       │<span style=\"color: #c0c0c0; text-decoration-color: #c0c0c0\">        128] </span>│<span style=\"color: #c0c0c0; text-decoration-color: #c0c0c0\">        128] </span>│\n",
       "│<span style=\"color: #7f7f7f; text-decoration-color: #7f7f7f\"> 111 </span>│ encoder.interaction_blocks.2.lins.1            │ Linear      │ 16.5 K │ train │<span style=\"color: #c0c0c0; text-decoration-color: #c0c0c0\">     [10538, </span>│<span style=\"color: #c0c0c0; text-decoration-color: #c0c0c0\">     [10538, </span>│\n",
       "│<span style=\"color: #7f7f7f; text-decoration-color: #7f7f7f\">     </span>│                                                │             │        │       │<span style=\"color: #c0c0c0; text-decoration-color: #c0c0c0\">        128] </span>│<span style=\"color: #c0c0c0; text-decoration-color: #c0c0c0\">        128] </span>│\n",
       "│<span style=\"color: #7f7f7f; text-decoration-color: #7f7f7f\"> 112 </span>│ encoder.interaction_blocks.2.final             │ Linear      │ 16.5 K │ train │<span style=\"color: #c0c0c0; text-decoration-color: #c0c0c0\">     [10538, </span>│<span style=\"color: #c0c0c0; text-decoration-color: #c0c0c0\">     [10538, </span>│\n",
       "│<span style=\"color: #7f7f7f; text-decoration-color: #7f7f7f\">     </span>│                                                │             │        │       │<span style=\"color: #c0c0c0; text-decoration-color: #c0c0c0\">        128] </span>│<span style=\"color: #c0c0c0; text-decoration-color: #c0c0c0\">        128] </span>│\n",
       "│<span style=\"color: #7f7f7f; text-decoration-color: #7f7f7f\"> 113 </span>│ encoder.interaction_blocks.3                   │ Interactio… │  340 K │ train │<span style=\"color: #c0c0c0; text-decoration-color: #c0c0c0\">    [[10538, </span>│<span style=\"color: #c0c0c0; text-decoration-color: #c0c0c0\">     [10538, </span>│\n",
       "│<span style=\"color: #7f7f7f; text-decoration-color: #7f7f7f\">     </span>│                                                │             │        │       │<span style=\"color: #c0c0c0; text-decoration-color: #c0c0c0\">       128], </span>│<span style=\"color: #c0c0c0; text-decoration-color: #c0c0c0\">        128] </span>│\n",
       "│<span style=\"color: #7f7f7f; text-decoration-color: #7f7f7f\">     </span>│                                                │             │        │       │<span style=\"color: #c0c0c0; text-decoration-color: #c0c0c0\">    [187624, </span>│<span style=\"color: #c0c0c0; text-decoration-color: #c0c0c0\">             </span>│\n",
       "│<span style=\"color: #7f7f7f; text-decoration-color: #7f7f7f\">     </span>│                                                │             │        │       │<span style=\"color: #c0c0c0; text-decoration-color: #c0c0c0\">        24], </span>│<span style=\"color: #c0c0c0; text-decoration-color: #c0c0c0\">             </span>│\n",
       "│<span style=\"color: #7f7f7f; text-decoration-color: #7f7f7f\">     </span>│                                                │             │        │       │<span style=\"color: #c0c0c0; text-decoration-color: #c0c0c0\">    [187624, </span>│<span style=\"color: #c0c0c0; text-decoration-color: #c0c0c0\">             </span>│\n",
       "│<span style=\"color: #7f7f7f; text-decoration-color: #7f7f7f\">     </span>│                                                │             │        │       │<span style=\"color: #c0c0c0; text-decoration-color: #c0c0c0\">        12], </span>│<span style=\"color: #c0c0c0; text-decoration-color: #c0c0c0\">             </span>│\n",
       "│<span style=\"color: #7f7f7f; text-decoration-color: #7f7f7f\">     </span>│                                                │             │        │       │<span style=\"color: #c0c0c0; text-decoration-color: #c0c0c0\">    [187624, </span>│<span style=\"color: #c0c0c0; text-decoration-color: #c0c0c0\">             </span>│\n",
       "│<span style=\"color: #7f7f7f; text-decoration-color: #7f7f7f\">     </span>│                                                │             │        │       │<span style=\"color: #c0c0c0; text-decoration-color: #c0c0c0\">    16], [2, </span>│<span style=\"color: #c0c0c0; text-decoration-color: #c0c0c0\">             </span>│\n",
       "│<span style=\"color: #7f7f7f; text-decoration-color: #7f7f7f\">     </span>│                                                │             │        │       │<span style=\"color: #c0c0c0; text-decoration-color: #c0c0c0\">    187624], </span>│<span style=\"color: #c0c0c0; text-decoration-color: #c0c0c0\">             </span>│\n",
       "│<span style=\"color: #7f7f7f; text-decoration-color: #7f7f7f\">     </span>│                                                │             │        │       │<span style=\"color: #c0c0c0; text-decoration-color: #c0c0c0\">    [10538]] </span>│<span style=\"color: #c0c0c0; text-decoration-color: #c0c0c0\">             </span>│\n",
       "│<span style=\"color: #7f7f7f; text-decoration-color: #7f7f7f\"> 114 </span>│ encoder.interaction_blocks.3.dropout           │ Dropout     │      0 │ train │<span style=\"color: #c0c0c0; text-decoration-color: #c0c0c0\">     [10538, </span>│<span style=\"color: #c0c0c0; text-decoration-color: #c0c0c0\">     [10538, </span>│\n",
       "│<span style=\"color: #7f7f7f; text-decoration-color: #7f7f7f\">     </span>│                                                │             │        │       │<span style=\"color: #c0c0c0; text-decoration-color: #c0c0c0\">        128] </span>│<span style=\"color: #c0c0c0; text-decoration-color: #c0c0c0\">        128] </span>│\n",
       "│<span style=\"color: #7f7f7f; text-decoration-color: #7f7f7f\"> 115 </span>│ encoder.interaction_blocks.3.conv0             │ EdgeGraphC… │ 32.9 K │ train │<span style=\"color: #c0c0c0; text-decoration-color: #c0c0c0\">    [[10538, </span>│<span style=\"color: #c0c0c0; text-decoration-color: #c0c0c0\">     [10538, </span>│\n",
       "│<span style=\"color: #7f7f7f; text-decoration-color: #7f7f7f\">     </span>│                                                │             │        │       │<span style=\"color: #c0c0c0; text-decoration-color: #c0c0c0\">   128], [2, </span>│<span style=\"color: #c0c0c0; text-decoration-color: #c0c0c0\">        128] </span>│\n",
       "│<span style=\"color: #7f7f7f; text-decoration-color: #7f7f7f\">     </span>│                                                │             │        │       │<span style=\"color: #c0c0c0; text-decoration-color: #c0c0c0\">    187624], </span>│<span style=\"color: #c0c0c0; text-decoration-color: #c0c0c0\">             </span>│\n",
       "│<span style=\"color: #7f7f7f; text-decoration-color: #7f7f7f\">     </span>│                                                │             │        │       │<span style=\"color: #c0c0c0; text-decoration-color: #c0c0c0\">    [187624, </span>│<span style=\"color: #c0c0c0; text-decoration-color: #c0c0c0\">             </span>│\n",
       "│<span style=\"color: #7f7f7f; text-decoration-color: #7f7f7f\">     </span>│                                                │             │        │       │<span style=\"color: #c0c0c0; text-decoration-color: #c0c0c0\">       128]] </span>│<span style=\"color: #c0c0c0; text-decoration-color: #c0c0c0\">             </span>│\n",
       "│<span style=\"color: #7f7f7f; text-decoration-color: #7f7f7f\"> 116 </span>│ encoder.interaction_blocks.3.conv0.aggr_module │ SumAggrega… │      0 │ train │<span style=\"color: #c0c0c0; text-decoration-color: #c0c0c0\">   [[187624, </span>│<span style=\"color: #c0c0c0; text-decoration-color: #c0c0c0\">     [10538, </span>│\n",
       "│<span style=\"color: #7f7f7f; text-decoration-color: #7f7f7f\">     </span>│                                                │             │        │       │<span style=\"color: #c0c0c0; text-decoration-color: #c0c0c0\">       128], </span>│<span style=\"color: #c0c0c0; text-decoration-color: #c0c0c0\">        128] </span>│\n",
       "│<span style=\"color: #7f7f7f; text-decoration-color: #7f7f7f\">     </span>│                                                │             │        │       │<span style=\"color: #c0c0c0; text-decoration-color: #c0c0c0\">   [187624], </span>│<span style=\"color: #c0c0c0; text-decoration-color: #c0c0c0\">             </span>│\n",
       "│<span style=\"color: #7f7f7f; text-decoration-color: #7f7f7f\">     </span>│                                                │             │        │       │<span style=\"color: #c0c0c0; text-decoration-color: #c0c0c0\">   '?', '?', </span>│<span style=\"color: #c0c0c0; text-decoration-color: #c0c0c0\">             </span>│\n",
       "│<span style=\"color: #7f7f7f; text-decoration-color: #7f7f7f\">     </span>│                                                │             │        │       │<span style=\"color: #c0c0c0; text-decoration-color: #c0c0c0\">        '?'] </span>│<span style=\"color: #c0c0c0; text-decoration-color: #c0c0c0\">             </span>│\n",
       "│<span style=\"color: #7f7f7f; text-decoration-color: #7f7f7f\"> 117 </span>│ encoder.interaction_blocks.3.conv0.lin_l       │ Linear      │ 16.5 K │ train │<span style=\"color: #c0c0c0; text-decoration-color: #c0c0c0\">     [10538, </span>│<span style=\"color: #c0c0c0; text-decoration-color: #c0c0c0\">     [10538, </span>│\n",
       "│<span style=\"color: #7f7f7f; text-decoration-color: #7f7f7f\">     </span>│                                                │             │        │       │<span style=\"color: #c0c0c0; text-decoration-color: #c0c0c0\">        128] </span>│<span style=\"color: #c0c0c0; text-decoration-color: #c0c0c0\">        128] </span>│\n",
       "│<span style=\"color: #7f7f7f; text-decoration-color: #7f7f7f\"> 118 </span>│ encoder.interaction_blocks.3.conv0.lin_r       │ Linear      │ 16.4 K │ train │<span style=\"color: #c0c0c0; text-decoration-color: #c0c0c0\">     [10538, </span>│<span style=\"color: #c0c0c0; text-decoration-color: #c0c0c0\">     [10538, </span>│\n",
       "│<span style=\"color: #7f7f7f; text-decoration-color: #7f7f7f\">     </span>│                                                │             │        │       │<span style=\"color: #c0c0c0; text-decoration-color: #c0c0c0\">        128] </span>│<span style=\"color: #c0c0c0; text-decoration-color: #c0c0c0\">        128] </span>│\n",
       "│<span style=\"color: #7f7f7f; text-decoration-color: #7f7f7f\"> 119 </span>│ encoder.interaction_blocks.3.conv1             │ EdgeGraphC… │ 32.9 K │ train │<span style=\"color: #c0c0c0; text-decoration-color: #c0c0c0\">    [[10538, </span>│<span style=\"color: #c0c0c0; text-decoration-color: #c0c0c0\">     [10538, </span>│\n",
       "│<span style=\"color: #7f7f7f; text-decoration-color: #7f7f7f\">     </span>│                                                │             │        │       │<span style=\"color: #c0c0c0; text-decoration-color: #c0c0c0\">   128], [2, </span>│<span style=\"color: #c0c0c0; text-decoration-color: #c0c0c0\">        128] </span>│\n",
       "│<span style=\"color: #7f7f7f; text-decoration-color: #7f7f7f\">     </span>│                                                │             │        │       │<span style=\"color: #c0c0c0; text-decoration-color: #c0c0c0\">    187624], </span>│<span style=\"color: #c0c0c0; text-decoration-color: #c0c0c0\">             </span>│\n",
       "│<span style=\"color: #7f7f7f; text-decoration-color: #7f7f7f\">     </span>│                                                │             │        │       │<span style=\"color: #c0c0c0; text-decoration-color: #c0c0c0\">    [187624, </span>│<span style=\"color: #c0c0c0; text-decoration-color: #c0c0c0\">             </span>│\n",
       "│<span style=\"color: #7f7f7f; text-decoration-color: #7f7f7f\">     </span>│                                                │             │        │       │<span style=\"color: #c0c0c0; text-decoration-color: #c0c0c0\">       128]] </span>│<span style=\"color: #c0c0c0; text-decoration-color: #c0c0c0\">             </span>│\n",
       "│<span style=\"color: #7f7f7f; text-decoration-color: #7f7f7f\"> 120 </span>│ encoder.interaction_blocks.3.conv1.aggr_module │ SumAggrega… │      0 │ train │<span style=\"color: #c0c0c0; text-decoration-color: #c0c0c0\">   [[187624, </span>│<span style=\"color: #c0c0c0; text-decoration-color: #c0c0c0\">     [10538, </span>│\n",
       "│<span style=\"color: #7f7f7f; text-decoration-color: #7f7f7f\">     </span>│                                                │             │        │       │<span style=\"color: #c0c0c0; text-decoration-color: #c0c0c0\">       128], </span>│<span style=\"color: #c0c0c0; text-decoration-color: #c0c0c0\">        128] </span>│\n",
       "│<span style=\"color: #7f7f7f; text-decoration-color: #7f7f7f\">     </span>│                                                │             │        │       │<span style=\"color: #c0c0c0; text-decoration-color: #c0c0c0\">   [187624], </span>│<span style=\"color: #c0c0c0; text-decoration-color: #c0c0c0\">             </span>│\n",
       "│<span style=\"color: #7f7f7f; text-decoration-color: #7f7f7f\">     </span>│                                                │             │        │       │<span style=\"color: #c0c0c0; text-decoration-color: #c0c0c0\">   '?', '?', </span>│<span style=\"color: #c0c0c0; text-decoration-color: #c0c0c0\">             </span>│\n",
       "│<span style=\"color: #7f7f7f; text-decoration-color: #7f7f7f\">     </span>│                                                │             │        │       │<span style=\"color: #c0c0c0; text-decoration-color: #c0c0c0\">        '?'] </span>│<span style=\"color: #c0c0c0; text-decoration-color: #c0c0c0\">             </span>│\n",
       "│<span style=\"color: #7f7f7f; text-decoration-color: #7f7f7f\"> 121 </span>│ encoder.interaction_blocks.3.conv1.lin_l       │ Linear      │ 16.5 K │ train │<span style=\"color: #c0c0c0; text-decoration-color: #c0c0c0\">     [10538, </span>│<span style=\"color: #c0c0c0; text-decoration-color: #c0c0c0\">     [10538, </span>│\n",
       "│<span style=\"color: #7f7f7f; text-decoration-color: #7f7f7f\">     </span>│                                                │             │        │       │<span style=\"color: #c0c0c0; text-decoration-color: #c0c0c0\">        128] </span>│<span style=\"color: #c0c0c0; text-decoration-color: #c0c0c0\">        128] </span>│\n",
       "│<span style=\"color: #7f7f7f; text-decoration-color: #7f7f7f\"> 122 </span>│ encoder.interaction_blocks.3.conv1.lin_r       │ Linear      │ 16.4 K │ train │<span style=\"color: #c0c0c0; text-decoration-color: #c0c0c0\">     [10538, </span>│<span style=\"color: #c0c0c0; text-decoration-color: #c0c0c0\">     [10538, </span>│\n",
       "│<span style=\"color: #7f7f7f; text-decoration-color: #7f7f7f\">     </span>│                                                │             │        │       │<span style=\"color: #c0c0c0; text-decoration-color: #c0c0c0\">        128] </span>│<span style=\"color: #c0c0c0; text-decoration-color: #c0c0c0\">        128] </span>│\n",
       "│<span style=\"color: #7f7f7f; text-decoration-color: #7f7f7f\"> 123 </span>│ encoder.interaction_blocks.3.conv2             │ EdgeGraphC… │ 32.9 K │ train │<span style=\"color: #c0c0c0; text-decoration-color: #c0c0c0\">    [[10538, </span>│<span style=\"color: #c0c0c0; text-decoration-color: #c0c0c0\">     [10538, </span>│\n",
       "│<span style=\"color: #7f7f7f; text-decoration-color: #7f7f7f\">     </span>│                                                │             │        │       │<span style=\"color: #c0c0c0; text-decoration-color: #c0c0c0\">   128], [2, </span>│<span style=\"color: #c0c0c0; text-decoration-color: #c0c0c0\">        128] </span>│\n",
       "│<span style=\"color: #7f7f7f; text-decoration-color: #7f7f7f\">     </span>│                                                │             │        │       │<span style=\"color: #c0c0c0; text-decoration-color: #c0c0c0\">    187624], </span>│<span style=\"color: #c0c0c0; text-decoration-color: #c0c0c0\">             </span>│\n",
       "│<span style=\"color: #7f7f7f; text-decoration-color: #7f7f7f\">     </span>│                                                │             │        │       │<span style=\"color: #c0c0c0; text-decoration-color: #c0c0c0\">    [187624, </span>│<span style=\"color: #c0c0c0; text-decoration-color: #c0c0c0\">             </span>│\n",
       "│<span style=\"color: #7f7f7f; text-decoration-color: #7f7f7f\">     </span>│                                                │             │        │       │<span style=\"color: #c0c0c0; text-decoration-color: #c0c0c0\">       128]] </span>│<span style=\"color: #c0c0c0; text-decoration-color: #c0c0c0\">             </span>│\n",
       "│<span style=\"color: #7f7f7f; text-decoration-color: #7f7f7f\"> 124 </span>│ encoder.interaction_blocks.3.conv2.aggr_module │ SumAggrega… │      0 │ train │<span style=\"color: #c0c0c0; text-decoration-color: #c0c0c0\">   [[187624, </span>│<span style=\"color: #c0c0c0; text-decoration-color: #c0c0c0\">     [10538, </span>│\n",
       "│<span style=\"color: #7f7f7f; text-decoration-color: #7f7f7f\">     </span>│                                                │             │        │       │<span style=\"color: #c0c0c0; text-decoration-color: #c0c0c0\">       128], </span>│<span style=\"color: #c0c0c0; text-decoration-color: #c0c0c0\">        128] </span>│\n",
       "│<span style=\"color: #7f7f7f; text-decoration-color: #7f7f7f\">     </span>│                                                │             │        │       │<span style=\"color: #c0c0c0; text-decoration-color: #c0c0c0\">   [187624], </span>│<span style=\"color: #c0c0c0; text-decoration-color: #c0c0c0\">             </span>│\n",
       "│<span style=\"color: #7f7f7f; text-decoration-color: #7f7f7f\">     </span>│                                                │             │        │       │<span style=\"color: #c0c0c0; text-decoration-color: #c0c0c0\">   '?', '?', </span>│<span style=\"color: #c0c0c0; text-decoration-color: #c0c0c0\">             </span>│\n",
       "│<span style=\"color: #7f7f7f; text-decoration-color: #7f7f7f\">     </span>│                                                │             │        │       │<span style=\"color: #c0c0c0; text-decoration-color: #c0c0c0\">        '?'] </span>│<span style=\"color: #c0c0c0; text-decoration-color: #c0c0c0\">             </span>│\n",
       "│<span style=\"color: #7f7f7f; text-decoration-color: #7f7f7f\"> 125 </span>│ encoder.interaction_blocks.3.conv2.lin_l       │ Linear      │ 16.5 K │ train │<span style=\"color: #c0c0c0; text-decoration-color: #c0c0c0\">     [10538, </span>│<span style=\"color: #c0c0c0; text-decoration-color: #c0c0c0\">     [10538, </span>│\n",
       "│<span style=\"color: #7f7f7f; text-decoration-color: #7f7f7f\">     </span>│                                                │             │        │       │<span style=\"color: #c0c0c0; text-decoration-color: #c0c0c0\">        128] </span>│<span style=\"color: #c0c0c0; text-decoration-color: #c0c0c0\">        128] </span>│\n",
       "│<span style=\"color: #7f7f7f; text-decoration-color: #7f7f7f\"> 126 </span>│ encoder.interaction_blocks.3.conv2.lin_r       │ Linear      │ 16.4 K │ train │<span style=\"color: #c0c0c0; text-decoration-color: #c0c0c0\">     [10538, </span>│<span style=\"color: #c0c0c0; text-decoration-color: #c0c0c0\">     [10538, </span>│\n",
       "│<span style=\"color: #7f7f7f; text-decoration-color: #7f7f7f\">     </span>│                                                │             │        │       │<span style=\"color: #c0c0c0; text-decoration-color: #c0c0c0\">        128] </span>│<span style=\"color: #c0c0c0; text-decoration-color: #c0c0c0\">        128] </span>│\n",
       "│<span style=\"color: #7f7f7f; text-decoration-color: #7f7f7f\"> 127 </span>│ encoder.interaction_blocks.3.lin_feature0      │ TwoLinear   │  9.7 K │ train │<span style=\"color: #c0c0c0; text-decoration-color: #c0c0c0\">    [187624, </span>│<span style=\"color: #c0c0c0; text-decoration-color: #c0c0c0\">    [187624, </span>│\n",
       "│<span style=\"color: #7f7f7f; text-decoration-color: #7f7f7f\">     </span>│                                                │             │        │       │<span style=\"color: #c0c0c0; text-decoration-color: #c0c0c0\">         24] </span>│<span style=\"color: #c0c0c0; text-decoration-color: #c0c0c0\">        128] </span>│\n",
       "│<span style=\"color: #7f7f7f; text-decoration-color: #7f7f7f\"> 128 </span>│ encoder.interaction_blocks.3.lin_feature0.lin1 │ Linear      │  1.5 K │ train │<span style=\"color: #c0c0c0; text-decoration-color: #c0c0c0\">    [187624, </span>│<span style=\"color: #c0c0c0; text-decoration-color: #c0c0c0\">    [187624, </span>│\n",
       "│<span style=\"color: #7f7f7f; text-decoration-color: #7f7f7f\">     </span>│                                                │             │        │       │<span style=\"color: #c0c0c0; text-decoration-color: #c0c0c0\">         24] </span>│<span style=\"color: #c0c0c0; text-decoration-color: #c0c0c0\">         64] </span>│\n",
       "│<span style=\"color: #7f7f7f; text-decoration-color: #7f7f7f\"> 129 </span>│ encoder.interaction_blocks.3.lin_feature0.lin2 │ Linear      │  8.2 K │ train │<span style=\"color: #c0c0c0; text-decoration-color: #c0c0c0\">    [187624, </span>│<span style=\"color: #c0c0c0; text-decoration-color: #c0c0c0\">    [187624, </span>│\n",
       "│<span style=\"color: #7f7f7f; text-decoration-color: #7f7f7f\">     </span>│                                                │             │        │       │<span style=\"color: #c0c0c0; text-decoration-color: #c0c0c0\">         64] </span>│<span style=\"color: #c0c0c0; text-decoration-color: #c0c0c0\">        128] </span>│\n",
       "│<span style=\"color: #7f7f7f; text-decoration-color: #7f7f7f\"> 130 </span>│ encoder.interaction_blocks.3.lin_feature1      │ TwoLinear   │  9.0 K │ train │<span style=\"color: #c0c0c0; text-decoration-color: #c0c0c0\">    [187624, </span>│<span style=\"color: #c0c0c0; text-decoration-color: #c0c0c0\">    [187624, </span>│\n",
       "│<span style=\"color: #7f7f7f; text-decoration-color: #7f7f7f\">     </span>│                                                │             │        │       │<span style=\"color: #c0c0c0; text-decoration-color: #c0c0c0\">         12] </span>│<span style=\"color: #c0c0c0; text-decoration-color: #c0c0c0\">        128] </span>│\n",
       "│<span style=\"color: #7f7f7f; text-decoration-color: #7f7f7f\"> 131 </span>│ encoder.interaction_blocks.3.lin_feature1.lin1 │ Linear      │    768 │ train │<span style=\"color: #c0c0c0; text-decoration-color: #c0c0c0\">    [187624, </span>│<span style=\"color: #c0c0c0; text-decoration-color: #c0c0c0\">    [187624, </span>│\n",
       "│<span style=\"color: #7f7f7f; text-decoration-color: #7f7f7f\">     </span>│                                                │             │        │       │<span style=\"color: #c0c0c0; text-decoration-color: #c0c0c0\">         12] </span>│<span style=\"color: #c0c0c0; text-decoration-color: #c0c0c0\">         64] </span>│\n",
       "│<span style=\"color: #7f7f7f; text-decoration-color: #7f7f7f\"> 132 </span>│ encoder.interaction_blocks.3.lin_feature1.lin2 │ Linear      │  8.2 K │ train │<span style=\"color: #c0c0c0; text-decoration-color: #c0c0c0\">    [187624, </span>│<span style=\"color: #c0c0c0; text-decoration-color: #c0c0c0\">    [187624, </span>│\n",
       "│<span style=\"color: #7f7f7f; text-decoration-color: #7f7f7f\">     </span>│                                                │             │        │       │<span style=\"color: #c0c0c0; text-decoration-color: #c0c0c0\">         64] </span>│<span style=\"color: #c0c0c0; text-decoration-color: #c0c0c0\">        128] </span>│\n",
       "│<span style=\"color: #7f7f7f; text-decoration-color: #7f7f7f\"> 133 </span>│ encoder.interaction_blocks.3.lin_feature2      │ TwoLinear   │  9.2 K │ train │<span style=\"color: #c0c0c0; text-decoration-color: #c0c0c0\">    [187624, </span>│<span style=\"color: #c0c0c0; text-decoration-color: #c0c0c0\">    [187624, </span>│\n",
       "│<span style=\"color: #7f7f7f; text-decoration-color: #7f7f7f\">     </span>│                                                │             │        │       │<span style=\"color: #c0c0c0; text-decoration-color: #c0c0c0\">         16] </span>│<span style=\"color: #c0c0c0; text-decoration-color: #c0c0c0\">        128] </span>│\n",
       "│<span style=\"color: #7f7f7f; text-decoration-color: #7f7f7f\"> 134 </span>│ encoder.interaction_blocks.3.lin_feature2.lin1 │ Linear      │  1.0 K │ train │<span style=\"color: #c0c0c0; text-decoration-color: #c0c0c0\">    [187624, </span>│<span style=\"color: #c0c0c0; text-decoration-color: #c0c0c0\">    [187624, </span>│\n",
       "│<span style=\"color: #7f7f7f; text-decoration-color: #7f7f7f\">     </span>│                                                │             │        │       │<span style=\"color: #c0c0c0; text-decoration-color: #c0c0c0\">         16] </span>│<span style=\"color: #c0c0c0; text-decoration-color: #c0c0c0\">         64] </span>│\n",
       "│<span style=\"color: #7f7f7f; text-decoration-color: #7f7f7f\"> 135 </span>│ encoder.interaction_blocks.3.lin_feature2.lin2 │ Linear      │  8.2 K │ train │<span style=\"color: #c0c0c0; text-decoration-color: #c0c0c0\">    [187624, </span>│<span style=\"color: #c0c0c0; text-decoration-color: #c0c0c0\">    [187624, </span>│\n",
       "│<span style=\"color: #7f7f7f; text-decoration-color: #7f7f7f\">     </span>│                                                │             │        │       │<span style=\"color: #c0c0c0; text-decoration-color: #c0c0c0\">         64] </span>│<span style=\"color: #c0c0c0; text-decoration-color: #c0c0c0\">        128] </span>│\n",
       "│<span style=\"color: #7f7f7f; text-decoration-color: #7f7f7f\"> 136 </span>│ encoder.interaction_blocks.3.lin_1             │ Linear      │ 16.5 K │ train │<span style=\"color: #c0c0c0; text-decoration-color: #c0c0c0\">     [10538, </span>│<span style=\"color: #c0c0c0; text-decoration-color: #c0c0c0\">     [10538, </span>│\n",
       "│<span style=\"color: #7f7f7f; text-decoration-color: #7f7f7f\">     </span>│                                                │             │        │       │<span style=\"color: #c0c0c0; text-decoration-color: #c0c0c0\">        128] </span>│<span style=\"color: #c0c0c0; text-decoration-color: #c0c0c0\">        128] </span>│\n",
       "│<span style=\"color: #7f7f7f; text-decoration-color: #7f7f7f\"> 137 </span>│ encoder.interaction_blocks.3.lin_2             │ Linear      │ 16.5 K │ train │<span style=\"color: #c0c0c0; text-decoration-color: #c0c0c0\">     [10538, </span>│<span style=\"color: #c0c0c0; text-decoration-color: #c0c0c0\">     [10538, </span>│\n",
       "│<span style=\"color: #7f7f7f; text-decoration-color: #7f7f7f\">     </span>│                                                │             │        │       │<span style=\"color: #c0c0c0; text-decoration-color: #c0c0c0\">        128] </span>│<span style=\"color: #c0c0c0; text-decoration-color: #c0c0c0\">        128] </span>│\n",
       "│<span style=\"color: #7f7f7f; text-decoration-color: #7f7f7f\"> 138 </span>│ encoder.interaction_blocks.3.lin0              │ Linear      │ 16.5 K │ train │<span style=\"color: #c0c0c0; text-decoration-color: #c0c0c0\">     [10538, </span>│<span style=\"color: #c0c0c0; text-decoration-color: #c0c0c0\">     [10538, </span>│\n",
       "│<span style=\"color: #7f7f7f; text-decoration-color: #7f7f7f\">     </span>│                                                │             │        │       │<span style=\"color: #c0c0c0; text-decoration-color: #c0c0c0\">        128] </span>│<span style=\"color: #c0c0c0; text-decoration-color: #c0c0c0\">        128] </span>│\n",
       "│<span style=\"color: #7f7f7f; text-decoration-color: #7f7f7f\"> 139 </span>│ encoder.interaction_blocks.3.lin1              │ Linear      │ 16.5 K │ train │<span style=\"color: #c0c0c0; text-decoration-color: #c0c0c0\">     [10538, </span>│<span style=\"color: #c0c0c0; text-decoration-color: #c0c0c0\">     [10538, </span>│\n",
       "│<span style=\"color: #7f7f7f; text-decoration-color: #7f7f7f\">     </span>│                                                │             │        │       │<span style=\"color: #c0c0c0; text-decoration-color: #c0c0c0\">        128] </span>│<span style=\"color: #c0c0c0; text-decoration-color: #c0c0c0\">        128] </span>│\n",
       "│<span style=\"color: #7f7f7f; text-decoration-color: #7f7f7f\"> 140 </span>│ encoder.interaction_blocks.3.lin2              │ Linear      │ 16.5 K │ train │<span style=\"color: #c0c0c0; text-decoration-color: #c0c0c0\">     [10538, </span>│<span style=\"color: #c0c0c0; text-decoration-color: #c0c0c0\">     [10538, </span>│\n",
       "│<span style=\"color: #7f7f7f; text-decoration-color: #7f7f7f\">     </span>│                                                │             │        │       │<span style=\"color: #c0c0c0; text-decoration-color: #c0c0c0\">        128] </span>│<span style=\"color: #c0c0c0; text-decoration-color: #c0c0c0\">        128] </span>│\n",
       "│<span style=\"color: #7f7f7f; text-decoration-color: #7f7f7f\"> 141 </span>│ encoder.interaction_blocks.3.lins_cat          │ ModuleList  │ 82.3 K │ train │<span style=\"color: #c0c0c0; text-decoration-color: #c0c0c0\">           ? </span>│<span style=\"color: #c0c0c0; text-decoration-color: #c0c0c0\">           ? </span>│\n",
       "│<span style=\"color: #7f7f7f; text-decoration-color: #7f7f7f\"> 142 </span>│ encoder.interaction_blocks.3.lins_cat.0        │ Linear      │ 49.3 K │ train │<span style=\"color: #c0c0c0; text-decoration-color: #c0c0c0\">     [10538, </span>│<span style=\"color: #c0c0c0; text-decoration-color: #c0c0c0\">     [10538, </span>│\n",
       "│<span style=\"color: #7f7f7f; text-decoration-color: #7f7f7f\">     </span>│                                                │             │        │       │<span style=\"color: #c0c0c0; text-decoration-color: #c0c0c0\">        384] </span>│<span style=\"color: #c0c0c0; text-decoration-color: #c0c0c0\">        128] </span>│\n",
       "│<span style=\"color: #7f7f7f; text-decoration-color: #7f7f7f\"> 143 </span>│ encoder.interaction_blocks.3.lins_cat.1        │ Linear      │ 16.5 K │ train │<span style=\"color: #c0c0c0; text-decoration-color: #c0c0c0\">     [10538, </span>│<span style=\"color: #c0c0c0; text-decoration-color: #c0c0c0\">     [10538, </span>│\n",
       "│<span style=\"color: #7f7f7f; text-decoration-color: #7f7f7f\">     </span>│                                                │             │        │       │<span style=\"color: #c0c0c0; text-decoration-color: #c0c0c0\">        128] </span>│<span style=\"color: #c0c0c0; text-decoration-color: #c0c0c0\">        128] </span>│\n",
       "│<span style=\"color: #7f7f7f; text-decoration-color: #7f7f7f\"> 144 </span>│ encoder.interaction_blocks.3.lins_cat.2        │ Linear      │ 16.5 K │ train │<span style=\"color: #c0c0c0; text-decoration-color: #c0c0c0\">     [10538, </span>│<span style=\"color: #c0c0c0; text-decoration-color: #c0c0c0\">     [10538, </span>│\n",
       "│<span style=\"color: #7f7f7f; text-decoration-color: #7f7f7f\">     </span>│                                                │             │        │       │<span style=\"color: #c0c0c0; text-decoration-color: #c0c0c0\">        128] </span>│<span style=\"color: #c0c0c0; text-decoration-color: #c0c0c0\">        128] </span>│\n",
       "│<span style=\"color: #7f7f7f; text-decoration-color: #7f7f7f\"> 145 </span>│ encoder.interaction_blocks.3.lins              │ ModuleList  │ 33.0 K │ train │<span style=\"color: #c0c0c0; text-decoration-color: #c0c0c0\">           ? </span>│<span style=\"color: #c0c0c0; text-decoration-color: #c0c0c0\">           ? </span>│\n",
       "│<span style=\"color: #7f7f7f; text-decoration-color: #7f7f7f\"> 146 </span>│ encoder.interaction_blocks.3.lins.0            │ Linear      │ 16.5 K │ train │<span style=\"color: #c0c0c0; text-decoration-color: #c0c0c0\">     [10538, </span>│<span style=\"color: #c0c0c0; text-decoration-color: #c0c0c0\">     [10538, </span>│\n",
       "│<span style=\"color: #7f7f7f; text-decoration-color: #7f7f7f\">     </span>│                                                │             │        │       │<span style=\"color: #c0c0c0; text-decoration-color: #c0c0c0\">        128] </span>│<span style=\"color: #c0c0c0; text-decoration-color: #c0c0c0\">        128] </span>│\n",
       "│<span style=\"color: #7f7f7f; text-decoration-color: #7f7f7f\"> 147 </span>│ encoder.interaction_blocks.3.lins.1            │ Linear      │ 16.5 K │ train │<span style=\"color: #c0c0c0; text-decoration-color: #c0c0c0\">     [10538, </span>│<span style=\"color: #c0c0c0; text-decoration-color: #c0c0c0\">     [10538, </span>│\n",
       "│<span style=\"color: #7f7f7f; text-decoration-color: #7f7f7f\">     </span>│                                                │             │        │       │<span style=\"color: #c0c0c0; text-decoration-color: #c0c0c0\">        128] </span>│<span style=\"color: #c0c0c0; text-decoration-color: #c0c0c0\">        128] </span>│\n",
       "│<span style=\"color: #7f7f7f; text-decoration-color: #7f7f7f\"> 148 </span>│ encoder.interaction_blocks.3.final             │ Linear      │ 16.5 K │ train │<span style=\"color: #c0c0c0; text-decoration-color: #c0c0c0\">     [10538, </span>│<span style=\"color: #c0c0c0; text-decoration-color: #c0c0c0\">     [10538, </span>│\n",
       "│<span style=\"color: #7f7f7f; text-decoration-color: #7f7f7f\">     </span>│                                                │             │        │       │<span style=\"color: #c0c0c0; text-decoration-color: #c0c0c0\">        128] </span>│<span style=\"color: #c0c0c0; text-decoration-color: #c0c0c0\">        128] </span>│\n",
       "│<span style=\"color: #7f7f7f; text-decoration-color: #7f7f7f\"> 149 </span>│ encoder.lins_out                               │ ModuleList  │ 16.5 K │ train │<span style=\"color: #c0c0c0; text-decoration-color: #c0c0c0\">           ? </span>│<span style=\"color: #c0c0c0; text-decoration-color: #c0c0c0\">           ? </span>│\n",
       "│<span style=\"color: #7f7f7f; text-decoration-color: #7f7f7f\"> 150 </span>│ encoder.lins_out.0                             │ Linear      │ 16.5 K │ train │<span style=\"color: #c0c0c0; text-decoration-color: #c0c0c0\">   [32, 128] </span>│<span style=\"color: #c0c0c0; text-decoration-color: #c0c0c0\">   [32, 128] </span>│\n",
       "│<span style=\"color: #7f7f7f; text-decoration-color: #7f7f7f\"> 151 </span>│ encoder.lin_out                                │ Linear      │  154 K │ train │<span style=\"color: #c0c0c0; text-decoration-color: #c0c0c0\">   [32, 128] </span>│<span style=\"color: #c0c0c0; text-decoration-color: #c0c0c0\">  [32, 1195] </span>│\n",
       "│<span style=\"color: #7f7f7f; text-decoration-color: #7f7f7f\"> 152 </span>│ encoder.relu                                   │ ReLU        │      0 │ train │<span style=\"color: #c0c0c0; text-decoration-color: #c0c0c0\">   [32, 128] </span>│<span style=\"color: #c0c0c0; text-decoration-color: #c0c0c0\">   [32, 128] </span>│\n",
       "│<span style=\"color: #7f7f7f; text-decoration-color: #7f7f7f\"> 153 </span>│ encoder.dropout                                │ Dropout     │      0 │ train │<span style=\"color: #c0c0c0; text-decoration-color: #c0c0c0\">   [32, 128] </span>│<span style=\"color: #c0c0c0; text-decoration-color: #c0c0c0\">   [32, 128] </span>│\n",
       "│<span style=\"color: #7f7f7f; text-decoration-color: #7f7f7f\"> 154 </span>│ decoder                                        │ ModuleDict  │      0 │ train │<span style=\"color: #c0c0c0; text-decoration-color: #c0c0c0\">           ? </span>│<span style=\"color: #c0c0c0; text-decoration-color: #c0c0c0\">           ? </span>│\n",
       "│<span style=\"color: #7f7f7f; text-decoration-color: #7f7f7f\"> 155 </span>│ decoder.graph_label                            │ MLPDecoder  │      0 │ train │<span style=\"color: #c0c0c0; text-decoration-color: #c0c0c0\">  [32, 1195] </span>│<span style=\"color: #c0c0c0; text-decoration-color: #c0c0c0\">  [32, 1195] </span>│\n",
       "│<span style=\"color: #7f7f7f; text-decoration-color: #7f7f7f\"> 156 </span>│ test_graph_label_accuracy                      │ Multiclass… │      0 │ train │<span style=\"color: #c0c0c0; text-decoration-color: #c0c0c0\">           ? </span>│<span style=\"color: #c0c0c0; text-decoration-color: #c0c0c0\">           ? </span>│\n",
       "│<span style=\"color: #7f7f7f; text-decoration-color: #7f7f7f\"> 157 </span>│ val_graph_label_accuracy                       │ Multiclass… │      0 │ train │<span style=\"color: #c0c0c0; text-decoration-color: #c0c0c0\">           ? </span>│<span style=\"color: #c0c0c0; text-decoration-color: #c0c0c0\">           ? </span>│\n",
       "│<span style=\"color: #7f7f7f; text-decoration-color: #7f7f7f\"> 158 </span>│ train_graph_label_accuracy                     │ Multiclass… │      0 │ train │<span style=\"color: #c0c0c0; text-decoration-color: #c0c0c0\">           ? </span>│<span style=\"color: #c0c0c0; text-decoration-color: #c0c0c0\">           ? </span>│\n",
       "│<span style=\"color: #7f7f7f; text-decoration-color: #7f7f7f\"> 159 </span>│ test_graph_label_f1_score                      │ Multiclass… │      0 │ train │<span style=\"color: #c0c0c0; text-decoration-color: #c0c0c0\">           ? </span>│<span style=\"color: #c0c0c0; text-decoration-color: #c0c0c0\">           ? </span>│\n",
       "│<span style=\"color: #7f7f7f; text-decoration-color: #7f7f7f\"> 160 </span>│ val_graph_label_f1_score                       │ Multiclass… │      0 │ train │<span style=\"color: #c0c0c0; text-decoration-color: #c0c0c0\">           ? </span>│<span style=\"color: #c0c0c0; text-decoration-color: #c0c0c0\">           ? </span>│\n",
       "│<span style=\"color: #7f7f7f; text-decoration-color: #7f7f7f\"> 161 </span>│ train_graph_label_f1_score                     │ Multiclass… │      0 │ train │<span style=\"color: #c0c0c0; text-decoration-color: #c0c0c0\">           ? </span>│<span style=\"color: #c0c0c0; text-decoration-color: #c0c0c0\">           ? </span>│\n",
       "│<span style=\"color: #7f7f7f; text-decoration-color: #7f7f7f\"> 162 </span>│ test_graph_label_f1_max                        │ F1Max       │      0 │ train │<span style=\"color: #c0c0c0; text-decoration-color: #c0c0c0\">           ? </span>│<span style=\"color: #c0c0c0; text-decoration-color: #c0c0c0\">           ? </span>│\n",
       "│<span style=\"color: #7f7f7f; text-decoration-color: #7f7f7f\"> 163 </span>│ val_graph_label_f1_max                         │ F1Max       │      0 │ train │<span style=\"color: #c0c0c0; text-decoration-color: #c0c0c0\">           ? </span>│<span style=\"color: #c0c0c0; text-decoration-color: #c0c0c0\">           ? </span>│\n",
       "│<span style=\"color: #7f7f7f; text-decoration-color: #7f7f7f\"> 164 </span>│ train_graph_label_f1_max                       │ F1Max       │      0 │ train │<span style=\"color: #c0c0c0; text-decoration-color: #c0c0c0\">           ? </span>│<span style=\"color: #c0c0c0; text-decoration-color: #c0c0c0\">           ? </span>│\n",
       "│<span style=\"color: #7f7f7f; text-decoration-color: #7f7f7f\"> 165 </span>│ featuriser                                     │ ProteinFea… │      0 │ train │<span style=\"color: #c0c0c0; text-decoration-color: #c0c0c0\">           ? </span>│<span style=\"color: #c0c0c0; text-decoration-color: #c0c0c0\">           ? </span>│\n",
       "└─────┴────────────────────────────────────────────────┴─────────────┴────────┴───────┴─────────────┴─────────────┘\n",
       "</pre>\n"
      ],
      "text/plain": [
       "┏━━━━━┳━━━━━━━━━━━━━━━━━━━━━━━━━━━━━━━━━━━━━━━━━━━━━━━━┳━━━━━━━━━━━━━┳━━━━━━━━┳━━━━━━━┳━━━━━━━━━━━━━┳━━━━━━━━━━━━━┓\n",
       "┃\u001b[1;35m \u001b[0m\u001b[1;35m   \u001b[0m\u001b[1;35m \u001b[0m┃\u001b[1;35m \u001b[0m\u001b[1;35mName                                          \u001b[0m\u001b[1;35m \u001b[0m┃\u001b[1;35m \u001b[0m\u001b[1;35mType       \u001b[0m\u001b[1;35m \u001b[0m┃\u001b[1;35m \u001b[0m\u001b[1;35mParams\u001b[0m\u001b[1;35m \u001b[0m┃\u001b[1;35m \u001b[0m\u001b[1;35mMode \u001b[0m\u001b[1;35m \u001b[0m┃\u001b[1;35m \u001b[0m\u001b[1;35m   In sizes\u001b[0m\u001b[1;35m \u001b[0m┃\u001b[1;35m \u001b[0m\u001b[1;35m  Out sizes\u001b[0m\u001b[1;35m \u001b[0m┃\n",
       "┡━━━━━╇━━━━━━━━━━━━━━━━━━━━━━━━━━━━━━━━━━━━━━━━━━━━━━━━╇━━━━━━━━━━━━━╇━━━━━━━━╇━━━━━━━╇━━━━━━━━━━━━━╇━━━━━━━━━━━━━┩\n",
       "│\u001b[2m \u001b[0m\u001b[2m0  \u001b[0m\u001b[2m \u001b[0m│ encoder                                        │ ProNet      │  1.5 M │ train │\u001b[37m \u001b[0m\u001b[37m          ?\u001b[0m\u001b[37m \u001b[0m│\u001b[37m \u001b[0m\u001b[37m          ?\u001b[0m\u001b[37m \u001b[0m│\n",
       "│\u001b[2m \u001b[0m\u001b[2m1  \u001b[0m\u001b[2m \u001b[0m│ encoder.feature0                               │ d_theta_ph… │      0 │ train │\u001b[37m \u001b[0m\u001b[37m [[187624],\u001b[0m\u001b[37m \u001b[0m│\u001b[37m \u001b[0m\u001b[37m   [187624,\u001b[0m\u001b[37m \u001b[0m│\n",
       "│\u001b[2m     \u001b[0m│                                                │             │        │       │\u001b[37m \u001b[0m\u001b[37m  [187624],\u001b[0m\u001b[37m \u001b[0m│\u001b[37m \u001b[0m\u001b[37m        24]\u001b[0m\u001b[37m \u001b[0m│\n",
       "│\u001b[2m     \u001b[0m│                                                │             │        │       │\u001b[37m \u001b[0m\u001b[37m  [187624]]\u001b[0m\u001b[37m \u001b[0m│\u001b[37m             \u001b[0m│\n",
       "│\u001b[2m \u001b[0m\u001b[2m2  \u001b[0m\u001b[2m \u001b[0m│ encoder.feature1                               │ d_angle_emb │      0 │ train │\u001b[37m \u001b[0m\u001b[37m [[187624],\u001b[0m\u001b[37m \u001b[0m│\u001b[37m \u001b[0m\u001b[37m   [187624,\u001b[0m\u001b[37m \u001b[0m│\n",
       "│\u001b[2m     \u001b[0m│                                                │             │        │       │\u001b[37m \u001b[0m\u001b[37m  [187624]]\u001b[0m\u001b[37m \u001b[0m│\u001b[37m \u001b[0m\u001b[37m        12]\u001b[0m\u001b[37m \u001b[0m│\n",
       "│\u001b[2m \u001b[0m\u001b[2m3  \u001b[0m\u001b[2m \u001b[0m│ encoder.embedding                              │ Embedding   │  3.3 K │ train │\u001b[37m \u001b[0m\u001b[37m    [10538]\u001b[0m\u001b[37m \u001b[0m│\u001b[37m \u001b[0m\u001b[37m    [10538,\u001b[0m\u001b[37m \u001b[0m│\n",
       "│\u001b[2m     \u001b[0m│                                                │             │        │       │\u001b[37m             \u001b[0m│\u001b[37m \u001b[0m\u001b[37m       128]\u001b[0m\u001b[37m \u001b[0m│\n",
       "│\u001b[2m \u001b[0m\u001b[2m4  \u001b[0m\u001b[2m \u001b[0m│ encoder.interaction_blocks                     │ ModuleList  │  1.4 M │ train │\u001b[37m \u001b[0m\u001b[37m          ?\u001b[0m\u001b[37m \u001b[0m│\u001b[37m \u001b[0m\u001b[37m          ?\u001b[0m\u001b[37m \u001b[0m│\n",
       "│\u001b[2m \u001b[0m\u001b[2m5  \u001b[0m\u001b[2m \u001b[0m│ encoder.interaction_blocks.0                   │ Interactio… │  340 K │ train │\u001b[37m \u001b[0m\u001b[37m   [[10538,\u001b[0m\u001b[37m \u001b[0m│\u001b[37m \u001b[0m\u001b[37m    [10538,\u001b[0m\u001b[37m \u001b[0m│\n",
       "│\u001b[2m     \u001b[0m│                                                │             │        │       │\u001b[37m \u001b[0m\u001b[37m      128],\u001b[0m\u001b[37m \u001b[0m│\u001b[37m \u001b[0m\u001b[37m       128]\u001b[0m\u001b[37m \u001b[0m│\n",
       "│\u001b[2m     \u001b[0m│                                                │             │        │       │\u001b[37m \u001b[0m\u001b[37m   [187624,\u001b[0m\u001b[37m \u001b[0m│\u001b[37m             \u001b[0m│\n",
       "│\u001b[2m     \u001b[0m│                                                │             │        │       │\u001b[37m \u001b[0m\u001b[37m       24],\u001b[0m\u001b[37m \u001b[0m│\u001b[37m             \u001b[0m│\n",
       "│\u001b[2m     \u001b[0m│                                                │             │        │       │\u001b[37m \u001b[0m\u001b[37m   [187624,\u001b[0m\u001b[37m \u001b[0m│\u001b[37m             \u001b[0m│\n",
       "│\u001b[2m     \u001b[0m│                                                │             │        │       │\u001b[37m \u001b[0m\u001b[37m       12],\u001b[0m\u001b[37m \u001b[0m│\u001b[37m             \u001b[0m│\n",
       "│\u001b[2m     \u001b[0m│                                                │             │        │       │\u001b[37m \u001b[0m\u001b[37m   [187624,\u001b[0m\u001b[37m \u001b[0m│\u001b[37m             \u001b[0m│\n",
       "│\u001b[2m     \u001b[0m│                                                │             │        │       │\u001b[37m \u001b[0m\u001b[37m   16], [2,\u001b[0m\u001b[37m \u001b[0m│\u001b[37m             \u001b[0m│\n",
       "│\u001b[2m     \u001b[0m│                                                │             │        │       │\u001b[37m \u001b[0m\u001b[37m   187624],\u001b[0m\u001b[37m \u001b[0m│\u001b[37m             \u001b[0m│\n",
       "│\u001b[2m     \u001b[0m│                                                │             │        │       │\u001b[37m \u001b[0m\u001b[37m   [10538]]\u001b[0m\u001b[37m \u001b[0m│\u001b[37m             \u001b[0m│\n",
       "│\u001b[2m \u001b[0m\u001b[2m6  \u001b[0m\u001b[2m \u001b[0m│ encoder.interaction_blocks.0.dropout           │ Dropout     │      0 │ train │\u001b[37m \u001b[0m\u001b[37m    [10538,\u001b[0m\u001b[37m \u001b[0m│\u001b[37m \u001b[0m\u001b[37m    [10538,\u001b[0m\u001b[37m \u001b[0m│\n",
       "│\u001b[2m     \u001b[0m│                                                │             │        │       │\u001b[37m \u001b[0m\u001b[37m       128]\u001b[0m\u001b[37m \u001b[0m│\u001b[37m \u001b[0m\u001b[37m       128]\u001b[0m\u001b[37m \u001b[0m│\n",
       "│\u001b[2m \u001b[0m\u001b[2m7  \u001b[0m\u001b[2m \u001b[0m│ encoder.interaction_blocks.0.conv0             │ EdgeGraphC… │ 32.9 K │ train │\u001b[37m \u001b[0m\u001b[37m   [[10538,\u001b[0m\u001b[37m \u001b[0m│\u001b[37m \u001b[0m\u001b[37m    [10538,\u001b[0m\u001b[37m \u001b[0m│\n",
       "│\u001b[2m     \u001b[0m│                                                │             │        │       │\u001b[37m \u001b[0m\u001b[37m  128], [2,\u001b[0m\u001b[37m \u001b[0m│\u001b[37m \u001b[0m\u001b[37m       128]\u001b[0m\u001b[37m \u001b[0m│\n",
       "│\u001b[2m     \u001b[0m│                                                │             │        │       │\u001b[37m \u001b[0m\u001b[37m   187624],\u001b[0m\u001b[37m \u001b[0m│\u001b[37m             \u001b[0m│\n",
       "│\u001b[2m     \u001b[0m│                                                │             │        │       │\u001b[37m \u001b[0m\u001b[37m   [187624,\u001b[0m\u001b[37m \u001b[0m│\u001b[37m             \u001b[0m│\n",
       "│\u001b[2m     \u001b[0m│                                                │             │        │       │\u001b[37m \u001b[0m\u001b[37m      128]]\u001b[0m\u001b[37m \u001b[0m│\u001b[37m             \u001b[0m│\n",
       "│\u001b[2m \u001b[0m\u001b[2m8  \u001b[0m\u001b[2m \u001b[0m│ encoder.interaction_blocks.0.conv0.aggr_module │ SumAggrega… │      0 │ train │\u001b[37m \u001b[0m\u001b[37m  [[187624,\u001b[0m\u001b[37m \u001b[0m│\u001b[37m \u001b[0m\u001b[37m    [10538,\u001b[0m\u001b[37m \u001b[0m│\n",
       "│\u001b[2m     \u001b[0m│                                                │             │        │       │\u001b[37m \u001b[0m\u001b[37m      128],\u001b[0m\u001b[37m \u001b[0m│\u001b[37m \u001b[0m\u001b[37m       128]\u001b[0m\u001b[37m \u001b[0m│\n",
       "│\u001b[2m     \u001b[0m│                                                │             │        │       │\u001b[37m \u001b[0m\u001b[37m  [187624],\u001b[0m\u001b[37m \u001b[0m│\u001b[37m             \u001b[0m│\n",
       "│\u001b[2m     \u001b[0m│                                                │             │        │       │\u001b[37m \u001b[0m\u001b[37m  '?', '?',\u001b[0m\u001b[37m \u001b[0m│\u001b[37m             \u001b[0m│\n",
       "│\u001b[2m     \u001b[0m│                                                │             │        │       │\u001b[37m \u001b[0m\u001b[37m       '?']\u001b[0m\u001b[37m \u001b[0m│\u001b[37m             \u001b[0m│\n",
       "│\u001b[2m \u001b[0m\u001b[2m9  \u001b[0m\u001b[2m \u001b[0m│ encoder.interaction_blocks.0.conv0.lin_l       │ Linear      │ 16.5 K │ train │\u001b[37m \u001b[0m\u001b[37m    [10538,\u001b[0m\u001b[37m \u001b[0m│\u001b[37m \u001b[0m\u001b[37m    [10538,\u001b[0m\u001b[37m \u001b[0m│\n",
       "│\u001b[2m     \u001b[0m│                                                │             │        │       │\u001b[37m \u001b[0m\u001b[37m       128]\u001b[0m\u001b[37m \u001b[0m│\u001b[37m \u001b[0m\u001b[37m       128]\u001b[0m\u001b[37m \u001b[0m│\n",
       "│\u001b[2m \u001b[0m\u001b[2m10 \u001b[0m\u001b[2m \u001b[0m│ encoder.interaction_blocks.0.conv0.lin_r       │ Linear      │ 16.4 K │ train │\u001b[37m \u001b[0m\u001b[37m    [10538,\u001b[0m\u001b[37m \u001b[0m│\u001b[37m \u001b[0m\u001b[37m    [10538,\u001b[0m\u001b[37m \u001b[0m│\n",
       "│\u001b[2m     \u001b[0m│                                                │             │        │       │\u001b[37m \u001b[0m\u001b[37m       128]\u001b[0m\u001b[37m \u001b[0m│\u001b[37m \u001b[0m\u001b[37m       128]\u001b[0m\u001b[37m \u001b[0m│\n",
       "│\u001b[2m \u001b[0m\u001b[2m11 \u001b[0m\u001b[2m \u001b[0m│ encoder.interaction_blocks.0.conv1             │ EdgeGraphC… │ 32.9 K │ train │\u001b[37m \u001b[0m\u001b[37m   [[10538,\u001b[0m\u001b[37m \u001b[0m│\u001b[37m \u001b[0m\u001b[37m    [10538,\u001b[0m\u001b[37m \u001b[0m│\n",
       "│\u001b[2m     \u001b[0m│                                                │             │        │       │\u001b[37m \u001b[0m\u001b[37m  128], [2,\u001b[0m\u001b[37m \u001b[0m│\u001b[37m \u001b[0m\u001b[37m       128]\u001b[0m\u001b[37m \u001b[0m│\n",
       "│\u001b[2m     \u001b[0m│                                                │             │        │       │\u001b[37m \u001b[0m\u001b[37m   187624],\u001b[0m\u001b[37m \u001b[0m│\u001b[37m             \u001b[0m│\n",
       "│\u001b[2m     \u001b[0m│                                                │             │        │       │\u001b[37m \u001b[0m\u001b[37m   [187624,\u001b[0m\u001b[37m \u001b[0m│\u001b[37m             \u001b[0m│\n",
       "│\u001b[2m     \u001b[0m│                                                │             │        │       │\u001b[37m \u001b[0m\u001b[37m      128]]\u001b[0m\u001b[37m \u001b[0m│\u001b[37m             \u001b[0m│\n",
       "│\u001b[2m \u001b[0m\u001b[2m12 \u001b[0m\u001b[2m \u001b[0m│ encoder.interaction_blocks.0.conv1.aggr_module │ SumAggrega… │      0 │ train │\u001b[37m \u001b[0m\u001b[37m  [[187624,\u001b[0m\u001b[37m \u001b[0m│\u001b[37m \u001b[0m\u001b[37m    [10538,\u001b[0m\u001b[37m \u001b[0m│\n",
       "│\u001b[2m     \u001b[0m│                                                │             │        │       │\u001b[37m \u001b[0m\u001b[37m      128],\u001b[0m\u001b[37m \u001b[0m│\u001b[37m \u001b[0m\u001b[37m       128]\u001b[0m\u001b[37m \u001b[0m│\n",
       "│\u001b[2m     \u001b[0m│                                                │             │        │       │\u001b[37m \u001b[0m\u001b[37m  [187624],\u001b[0m\u001b[37m \u001b[0m│\u001b[37m             \u001b[0m│\n",
       "│\u001b[2m     \u001b[0m│                                                │             │        │       │\u001b[37m \u001b[0m\u001b[37m  '?', '?',\u001b[0m\u001b[37m \u001b[0m│\u001b[37m             \u001b[0m│\n",
       "│\u001b[2m     \u001b[0m│                                                │             │        │       │\u001b[37m \u001b[0m\u001b[37m       '?']\u001b[0m\u001b[37m \u001b[0m│\u001b[37m             \u001b[0m│\n",
       "│\u001b[2m \u001b[0m\u001b[2m13 \u001b[0m\u001b[2m \u001b[0m│ encoder.interaction_blocks.0.conv1.lin_l       │ Linear      │ 16.5 K │ train │\u001b[37m \u001b[0m\u001b[37m    [10538,\u001b[0m\u001b[37m \u001b[0m│\u001b[37m \u001b[0m\u001b[37m    [10538,\u001b[0m\u001b[37m \u001b[0m│\n",
       "│\u001b[2m     \u001b[0m│                                                │             │        │       │\u001b[37m \u001b[0m\u001b[37m       128]\u001b[0m\u001b[37m \u001b[0m│\u001b[37m \u001b[0m\u001b[37m       128]\u001b[0m\u001b[37m \u001b[0m│\n",
       "│\u001b[2m \u001b[0m\u001b[2m14 \u001b[0m\u001b[2m \u001b[0m│ encoder.interaction_blocks.0.conv1.lin_r       │ Linear      │ 16.4 K │ train │\u001b[37m \u001b[0m\u001b[37m    [10538,\u001b[0m\u001b[37m \u001b[0m│\u001b[37m \u001b[0m\u001b[37m    [10538,\u001b[0m\u001b[37m \u001b[0m│\n",
       "│\u001b[2m     \u001b[0m│                                                │             │        │       │\u001b[37m \u001b[0m\u001b[37m       128]\u001b[0m\u001b[37m \u001b[0m│\u001b[37m \u001b[0m\u001b[37m       128]\u001b[0m\u001b[37m \u001b[0m│\n",
       "│\u001b[2m \u001b[0m\u001b[2m15 \u001b[0m\u001b[2m \u001b[0m│ encoder.interaction_blocks.0.conv2             │ EdgeGraphC… │ 32.9 K │ train │\u001b[37m \u001b[0m\u001b[37m   [[10538,\u001b[0m\u001b[37m \u001b[0m│\u001b[37m \u001b[0m\u001b[37m    [10538,\u001b[0m\u001b[37m \u001b[0m│\n",
       "│\u001b[2m     \u001b[0m│                                                │             │        │       │\u001b[37m \u001b[0m\u001b[37m  128], [2,\u001b[0m\u001b[37m \u001b[0m│\u001b[37m \u001b[0m\u001b[37m       128]\u001b[0m\u001b[37m \u001b[0m│\n",
       "│\u001b[2m     \u001b[0m│                                                │             │        │       │\u001b[37m \u001b[0m\u001b[37m   187624],\u001b[0m\u001b[37m \u001b[0m│\u001b[37m             \u001b[0m│\n",
       "│\u001b[2m     \u001b[0m│                                                │             │        │       │\u001b[37m \u001b[0m\u001b[37m   [187624,\u001b[0m\u001b[37m \u001b[0m│\u001b[37m             \u001b[0m│\n",
       "│\u001b[2m     \u001b[0m│                                                │             │        │       │\u001b[37m \u001b[0m\u001b[37m      128]]\u001b[0m\u001b[37m \u001b[0m│\u001b[37m             \u001b[0m│\n",
       "│\u001b[2m \u001b[0m\u001b[2m16 \u001b[0m\u001b[2m \u001b[0m│ encoder.interaction_blocks.0.conv2.aggr_module │ SumAggrega… │      0 │ train │\u001b[37m \u001b[0m\u001b[37m  [[187624,\u001b[0m\u001b[37m \u001b[0m│\u001b[37m \u001b[0m\u001b[37m    [10538,\u001b[0m\u001b[37m \u001b[0m│\n",
       "│\u001b[2m     \u001b[0m│                                                │             │        │       │\u001b[37m \u001b[0m\u001b[37m      128],\u001b[0m\u001b[37m \u001b[0m│\u001b[37m \u001b[0m\u001b[37m       128]\u001b[0m\u001b[37m \u001b[0m│\n",
       "│\u001b[2m     \u001b[0m│                                                │             │        │       │\u001b[37m \u001b[0m\u001b[37m  [187624],\u001b[0m\u001b[37m \u001b[0m│\u001b[37m             \u001b[0m│\n",
       "│\u001b[2m     \u001b[0m│                                                │             │        │       │\u001b[37m \u001b[0m\u001b[37m  '?', '?',\u001b[0m\u001b[37m \u001b[0m│\u001b[37m             \u001b[0m│\n",
       "│\u001b[2m     \u001b[0m│                                                │             │        │       │\u001b[37m \u001b[0m\u001b[37m       '?']\u001b[0m\u001b[37m \u001b[0m│\u001b[37m             \u001b[0m│\n",
       "│\u001b[2m \u001b[0m\u001b[2m17 \u001b[0m\u001b[2m \u001b[0m│ encoder.interaction_blocks.0.conv2.lin_l       │ Linear      │ 16.5 K │ train │\u001b[37m \u001b[0m\u001b[37m    [10538,\u001b[0m\u001b[37m \u001b[0m│\u001b[37m \u001b[0m\u001b[37m    [10538,\u001b[0m\u001b[37m \u001b[0m│\n",
       "│\u001b[2m     \u001b[0m│                                                │             │        │       │\u001b[37m \u001b[0m\u001b[37m       128]\u001b[0m\u001b[37m \u001b[0m│\u001b[37m \u001b[0m\u001b[37m       128]\u001b[0m\u001b[37m \u001b[0m│\n",
       "│\u001b[2m \u001b[0m\u001b[2m18 \u001b[0m\u001b[2m \u001b[0m│ encoder.interaction_blocks.0.conv2.lin_r       │ Linear      │ 16.4 K │ train │\u001b[37m \u001b[0m\u001b[37m    [10538,\u001b[0m\u001b[37m \u001b[0m│\u001b[37m \u001b[0m\u001b[37m    [10538,\u001b[0m\u001b[37m \u001b[0m│\n",
       "│\u001b[2m     \u001b[0m│                                                │             │        │       │\u001b[37m \u001b[0m\u001b[37m       128]\u001b[0m\u001b[37m \u001b[0m│\u001b[37m \u001b[0m\u001b[37m       128]\u001b[0m\u001b[37m \u001b[0m│\n",
       "│\u001b[2m \u001b[0m\u001b[2m19 \u001b[0m\u001b[2m \u001b[0m│ encoder.interaction_blocks.0.lin_feature0      │ TwoLinear   │  9.7 K │ train │\u001b[37m \u001b[0m\u001b[37m   [187624,\u001b[0m\u001b[37m \u001b[0m│\u001b[37m \u001b[0m\u001b[37m   [187624,\u001b[0m\u001b[37m \u001b[0m│\n",
       "│\u001b[2m     \u001b[0m│                                                │             │        │       │\u001b[37m \u001b[0m\u001b[37m        24]\u001b[0m\u001b[37m \u001b[0m│\u001b[37m \u001b[0m\u001b[37m       128]\u001b[0m\u001b[37m \u001b[0m│\n",
       "│\u001b[2m \u001b[0m\u001b[2m20 \u001b[0m\u001b[2m \u001b[0m│ encoder.interaction_blocks.0.lin_feature0.lin1 │ Linear      │  1.5 K │ train │\u001b[37m \u001b[0m\u001b[37m   [187624,\u001b[0m\u001b[37m \u001b[0m│\u001b[37m \u001b[0m\u001b[37m   [187624,\u001b[0m\u001b[37m \u001b[0m│\n",
       "│\u001b[2m     \u001b[0m│                                                │             │        │       │\u001b[37m \u001b[0m\u001b[37m        24]\u001b[0m\u001b[37m \u001b[0m│\u001b[37m \u001b[0m\u001b[37m        64]\u001b[0m\u001b[37m \u001b[0m│\n",
       "│\u001b[2m \u001b[0m\u001b[2m21 \u001b[0m\u001b[2m \u001b[0m│ encoder.interaction_blocks.0.lin_feature0.lin2 │ Linear      │  8.2 K │ train │\u001b[37m \u001b[0m\u001b[37m   [187624,\u001b[0m\u001b[37m \u001b[0m│\u001b[37m \u001b[0m\u001b[37m   [187624,\u001b[0m\u001b[37m \u001b[0m│\n",
       "│\u001b[2m     \u001b[0m│                                                │             │        │       │\u001b[37m \u001b[0m\u001b[37m        64]\u001b[0m\u001b[37m \u001b[0m│\u001b[37m \u001b[0m\u001b[37m       128]\u001b[0m\u001b[37m \u001b[0m│\n",
       "│\u001b[2m \u001b[0m\u001b[2m22 \u001b[0m\u001b[2m \u001b[0m│ encoder.interaction_blocks.0.lin_feature1      │ TwoLinear   │  9.0 K │ train │\u001b[37m \u001b[0m\u001b[37m   [187624,\u001b[0m\u001b[37m \u001b[0m│\u001b[37m \u001b[0m\u001b[37m   [187624,\u001b[0m\u001b[37m \u001b[0m│\n",
       "│\u001b[2m     \u001b[0m│                                                │             │        │       │\u001b[37m \u001b[0m\u001b[37m        12]\u001b[0m\u001b[37m \u001b[0m│\u001b[37m \u001b[0m\u001b[37m       128]\u001b[0m\u001b[37m \u001b[0m│\n",
       "│\u001b[2m \u001b[0m\u001b[2m23 \u001b[0m\u001b[2m \u001b[0m│ encoder.interaction_blocks.0.lin_feature1.lin1 │ Linear      │    768 │ train │\u001b[37m \u001b[0m\u001b[37m   [187624,\u001b[0m\u001b[37m \u001b[0m│\u001b[37m \u001b[0m\u001b[37m   [187624,\u001b[0m\u001b[37m \u001b[0m│\n",
       "│\u001b[2m     \u001b[0m│                                                │             │        │       │\u001b[37m \u001b[0m\u001b[37m        12]\u001b[0m\u001b[37m \u001b[0m│\u001b[37m \u001b[0m\u001b[37m        64]\u001b[0m\u001b[37m \u001b[0m│\n",
       "│\u001b[2m \u001b[0m\u001b[2m24 \u001b[0m\u001b[2m \u001b[0m│ encoder.interaction_blocks.0.lin_feature1.lin2 │ Linear      │  8.2 K │ train │\u001b[37m \u001b[0m\u001b[37m   [187624,\u001b[0m\u001b[37m \u001b[0m│\u001b[37m \u001b[0m\u001b[37m   [187624,\u001b[0m\u001b[37m \u001b[0m│\n",
       "│\u001b[2m     \u001b[0m│                                                │             │        │       │\u001b[37m \u001b[0m\u001b[37m        64]\u001b[0m\u001b[37m \u001b[0m│\u001b[37m \u001b[0m\u001b[37m       128]\u001b[0m\u001b[37m \u001b[0m│\n",
       "│\u001b[2m \u001b[0m\u001b[2m25 \u001b[0m\u001b[2m \u001b[0m│ encoder.interaction_blocks.0.lin_feature2      │ TwoLinear   │  9.2 K │ train │\u001b[37m \u001b[0m\u001b[37m   [187624,\u001b[0m\u001b[37m \u001b[0m│\u001b[37m \u001b[0m\u001b[37m   [187624,\u001b[0m\u001b[37m \u001b[0m│\n",
       "│\u001b[2m     \u001b[0m│                                                │             │        │       │\u001b[37m \u001b[0m\u001b[37m        16]\u001b[0m\u001b[37m \u001b[0m│\u001b[37m \u001b[0m\u001b[37m       128]\u001b[0m\u001b[37m \u001b[0m│\n",
       "│\u001b[2m \u001b[0m\u001b[2m26 \u001b[0m\u001b[2m \u001b[0m│ encoder.interaction_blocks.0.lin_feature2.lin1 │ Linear      │  1.0 K │ train │\u001b[37m \u001b[0m\u001b[37m   [187624,\u001b[0m\u001b[37m \u001b[0m│\u001b[37m \u001b[0m\u001b[37m   [187624,\u001b[0m\u001b[37m \u001b[0m│\n",
       "│\u001b[2m     \u001b[0m│                                                │             │        │       │\u001b[37m \u001b[0m\u001b[37m        16]\u001b[0m\u001b[37m \u001b[0m│\u001b[37m \u001b[0m\u001b[37m        64]\u001b[0m\u001b[37m \u001b[0m│\n",
       "│\u001b[2m \u001b[0m\u001b[2m27 \u001b[0m\u001b[2m \u001b[0m│ encoder.interaction_blocks.0.lin_feature2.lin2 │ Linear      │  8.2 K │ train │\u001b[37m \u001b[0m\u001b[37m   [187624,\u001b[0m\u001b[37m \u001b[0m│\u001b[37m \u001b[0m\u001b[37m   [187624,\u001b[0m\u001b[37m \u001b[0m│\n",
       "│\u001b[2m     \u001b[0m│                                                │             │        │       │\u001b[37m \u001b[0m\u001b[37m        64]\u001b[0m\u001b[37m \u001b[0m│\u001b[37m \u001b[0m\u001b[37m       128]\u001b[0m\u001b[37m \u001b[0m│\n",
       "│\u001b[2m \u001b[0m\u001b[2m28 \u001b[0m\u001b[2m \u001b[0m│ encoder.interaction_blocks.0.lin_1             │ Linear      │ 16.5 K │ train │\u001b[37m \u001b[0m\u001b[37m    [10538,\u001b[0m\u001b[37m \u001b[0m│\u001b[37m \u001b[0m\u001b[37m    [10538,\u001b[0m\u001b[37m \u001b[0m│\n",
       "│\u001b[2m     \u001b[0m│                                                │             │        │       │\u001b[37m \u001b[0m\u001b[37m       128]\u001b[0m\u001b[37m \u001b[0m│\u001b[37m \u001b[0m\u001b[37m       128]\u001b[0m\u001b[37m \u001b[0m│\n",
       "│\u001b[2m \u001b[0m\u001b[2m29 \u001b[0m\u001b[2m \u001b[0m│ encoder.interaction_blocks.0.lin_2             │ Linear      │ 16.5 K │ train │\u001b[37m \u001b[0m\u001b[37m    [10538,\u001b[0m\u001b[37m \u001b[0m│\u001b[37m \u001b[0m\u001b[37m    [10538,\u001b[0m\u001b[37m \u001b[0m│\n",
       "│\u001b[2m     \u001b[0m│                                                │             │        │       │\u001b[37m \u001b[0m\u001b[37m       128]\u001b[0m\u001b[37m \u001b[0m│\u001b[37m \u001b[0m\u001b[37m       128]\u001b[0m\u001b[37m \u001b[0m│\n",
       "│\u001b[2m \u001b[0m\u001b[2m30 \u001b[0m\u001b[2m \u001b[0m│ encoder.interaction_blocks.0.lin0              │ Linear      │ 16.5 K │ train │\u001b[37m \u001b[0m\u001b[37m    [10538,\u001b[0m\u001b[37m \u001b[0m│\u001b[37m \u001b[0m\u001b[37m    [10538,\u001b[0m\u001b[37m \u001b[0m│\n",
       "│\u001b[2m     \u001b[0m│                                                │             │        │       │\u001b[37m \u001b[0m\u001b[37m       128]\u001b[0m\u001b[37m \u001b[0m│\u001b[37m \u001b[0m\u001b[37m       128]\u001b[0m\u001b[37m \u001b[0m│\n",
       "│\u001b[2m \u001b[0m\u001b[2m31 \u001b[0m\u001b[2m \u001b[0m│ encoder.interaction_blocks.0.lin1              │ Linear      │ 16.5 K │ train │\u001b[37m \u001b[0m\u001b[37m    [10538,\u001b[0m\u001b[37m \u001b[0m│\u001b[37m \u001b[0m\u001b[37m    [10538,\u001b[0m\u001b[37m \u001b[0m│\n",
       "│\u001b[2m     \u001b[0m│                                                │             │        │       │\u001b[37m \u001b[0m\u001b[37m       128]\u001b[0m\u001b[37m \u001b[0m│\u001b[37m \u001b[0m\u001b[37m       128]\u001b[0m\u001b[37m \u001b[0m│\n",
       "│\u001b[2m \u001b[0m\u001b[2m32 \u001b[0m\u001b[2m \u001b[0m│ encoder.interaction_blocks.0.lin2              │ Linear      │ 16.5 K │ train │\u001b[37m \u001b[0m\u001b[37m    [10538,\u001b[0m\u001b[37m \u001b[0m│\u001b[37m \u001b[0m\u001b[37m    [10538,\u001b[0m\u001b[37m \u001b[0m│\n",
       "│\u001b[2m     \u001b[0m│                                                │             │        │       │\u001b[37m \u001b[0m\u001b[37m       128]\u001b[0m\u001b[37m \u001b[0m│\u001b[37m \u001b[0m\u001b[37m       128]\u001b[0m\u001b[37m \u001b[0m│\n",
       "│\u001b[2m \u001b[0m\u001b[2m33 \u001b[0m\u001b[2m \u001b[0m│ encoder.interaction_blocks.0.lins_cat          │ ModuleList  │ 82.3 K │ train │\u001b[37m \u001b[0m\u001b[37m          ?\u001b[0m\u001b[37m \u001b[0m│\u001b[37m \u001b[0m\u001b[37m          ?\u001b[0m\u001b[37m \u001b[0m│\n",
       "│\u001b[2m \u001b[0m\u001b[2m34 \u001b[0m\u001b[2m \u001b[0m│ encoder.interaction_blocks.0.lins_cat.0        │ Linear      │ 49.3 K │ train │\u001b[37m \u001b[0m\u001b[37m    [10538,\u001b[0m\u001b[37m \u001b[0m│\u001b[37m \u001b[0m\u001b[37m    [10538,\u001b[0m\u001b[37m \u001b[0m│\n",
       "│\u001b[2m     \u001b[0m│                                                │             │        │       │\u001b[37m \u001b[0m\u001b[37m       384]\u001b[0m\u001b[37m \u001b[0m│\u001b[37m \u001b[0m\u001b[37m       128]\u001b[0m\u001b[37m \u001b[0m│\n",
       "│\u001b[2m \u001b[0m\u001b[2m35 \u001b[0m\u001b[2m \u001b[0m│ encoder.interaction_blocks.0.lins_cat.1        │ Linear      │ 16.5 K │ train │\u001b[37m \u001b[0m\u001b[37m    [10538,\u001b[0m\u001b[37m \u001b[0m│\u001b[37m \u001b[0m\u001b[37m    [10538,\u001b[0m\u001b[37m \u001b[0m│\n",
       "│\u001b[2m     \u001b[0m│                                                │             │        │       │\u001b[37m \u001b[0m\u001b[37m       128]\u001b[0m\u001b[37m \u001b[0m│\u001b[37m \u001b[0m\u001b[37m       128]\u001b[0m\u001b[37m \u001b[0m│\n",
       "│\u001b[2m \u001b[0m\u001b[2m36 \u001b[0m\u001b[2m \u001b[0m│ encoder.interaction_blocks.0.lins_cat.2        │ Linear      │ 16.5 K │ train │\u001b[37m \u001b[0m\u001b[37m    [10538,\u001b[0m\u001b[37m \u001b[0m│\u001b[37m \u001b[0m\u001b[37m    [10538,\u001b[0m\u001b[37m \u001b[0m│\n",
       "│\u001b[2m     \u001b[0m│                                                │             │        │       │\u001b[37m \u001b[0m\u001b[37m       128]\u001b[0m\u001b[37m \u001b[0m│\u001b[37m \u001b[0m\u001b[37m       128]\u001b[0m\u001b[37m \u001b[0m│\n",
       "│\u001b[2m \u001b[0m\u001b[2m37 \u001b[0m\u001b[2m \u001b[0m│ encoder.interaction_blocks.0.lins              │ ModuleList  │ 33.0 K │ train │\u001b[37m \u001b[0m\u001b[37m          ?\u001b[0m\u001b[37m \u001b[0m│\u001b[37m \u001b[0m\u001b[37m          ?\u001b[0m\u001b[37m \u001b[0m│\n",
       "│\u001b[2m \u001b[0m\u001b[2m38 \u001b[0m\u001b[2m \u001b[0m│ encoder.interaction_blocks.0.lins.0            │ Linear      │ 16.5 K │ train │\u001b[37m \u001b[0m\u001b[37m    [10538,\u001b[0m\u001b[37m \u001b[0m│\u001b[37m \u001b[0m\u001b[37m    [10538,\u001b[0m\u001b[37m \u001b[0m│\n",
       "│\u001b[2m     \u001b[0m│                                                │             │        │       │\u001b[37m \u001b[0m\u001b[37m       128]\u001b[0m\u001b[37m \u001b[0m│\u001b[37m \u001b[0m\u001b[37m       128]\u001b[0m\u001b[37m \u001b[0m│\n",
       "│\u001b[2m \u001b[0m\u001b[2m39 \u001b[0m\u001b[2m \u001b[0m│ encoder.interaction_blocks.0.lins.1            │ Linear      │ 16.5 K │ train │\u001b[37m \u001b[0m\u001b[37m    [10538,\u001b[0m\u001b[37m \u001b[0m│\u001b[37m \u001b[0m\u001b[37m    [10538,\u001b[0m\u001b[37m \u001b[0m│\n",
       "│\u001b[2m     \u001b[0m│                                                │             │        │       │\u001b[37m \u001b[0m\u001b[37m       128]\u001b[0m\u001b[37m \u001b[0m│\u001b[37m \u001b[0m\u001b[37m       128]\u001b[0m\u001b[37m \u001b[0m│\n",
       "│\u001b[2m \u001b[0m\u001b[2m40 \u001b[0m\u001b[2m \u001b[0m│ encoder.interaction_blocks.0.final             │ Linear      │ 16.5 K │ train │\u001b[37m \u001b[0m\u001b[37m    [10538,\u001b[0m\u001b[37m \u001b[0m│\u001b[37m \u001b[0m\u001b[37m    [10538,\u001b[0m\u001b[37m \u001b[0m│\n",
       "│\u001b[2m     \u001b[0m│                                                │             │        │       │\u001b[37m \u001b[0m\u001b[37m       128]\u001b[0m\u001b[37m \u001b[0m│\u001b[37m \u001b[0m\u001b[37m       128]\u001b[0m\u001b[37m \u001b[0m│\n",
       "│\u001b[2m \u001b[0m\u001b[2m41 \u001b[0m\u001b[2m \u001b[0m│ encoder.interaction_blocks.1                   │ Interactio… │  340 K │ train │\u001b[37m \u001b[0m\u001b[37m   [[10538,\u001b[0m\u001b[37m \u001b[0m│\u001b[37m \u001b[0m\u001b[37m    [10538,\u001b[0m\u001b[37m \u001b[0m│\n",
       "│\u001b[2m     \u001b[0m│                                                │             │        │       │\u001b[37m \u001b[0m\u001b[37m      128],\u001b[0m\u001b[37m \u001b[0m│\u001b[37m \u001b[0m\u001b[37m       128]\u001b[0m\u001b[37m \u001b[0m│\n",
       "│\u001b[2m     \u001b[0m│                                                │             │        │       │\u001b[37m \u001b[0m\u001b[37m   [187624,\u001b[0m\u001b[37m \u001b[0m│\u001b[37m             \u001b[0m│\n",
       "│\u001b[2m     \u001b[0m│                                                │             │        │       │\u001b[37m \u001b[0m\u001b[37m       24],\u001b[0m\u001b[37m \u001b[0m│\u001b[37m             \u001b[0m│\n",
       "│\u001b[2m     \u001b[0m│                                                │             │        │       │\u001b[37m \u001b[0m\u001b[37m   [187624,\u001b[0m\u001b[37m \u001b[0m│\u001b[37m             \u001b[0m│\n",
       "│\u001b[2m     \u001b[0m│                                                │             │        │       │\u001b[37m \u001b[0m\u001b[37m       12],\u001b[0m\u001b[37m \u001b[0m│\u001b[37m             \u001b[0m│\n",
       "│\u001b[2m     \u001b[0m│                                                │             │        │       │\u001b[37m \u001b[0m\u001b[37m   [187624,\u001b[0m\u001b[37m \u001b[0m│\u001b[37m             \u001b[0m│\n",
       "│\u001b[2m     \u001b[0m│                                                │             │        │       │\u001b[37m \u001b[0m\u001b[37m   16], [2,\u001b[0m\u001b[37m \u001b[0m│\u001b[37m             \u001b[0m│\n",
       "│\u001b[2m     \u001b[0m│                                                │             │        │       │\u001b[37m \u001b[0m\u001b[37m   187624],\u001b[0m\u001b[37m \u001b[0m│\u001b[37m             \u001b[0m│\n",
       "│\u001b[2m     \u001b[0m│                                                │             │        │       │\u001b[37m \u001b[0m\u001b[37m   [10538]]\u001b[0m\u001b[37m \u001b[0m│\u001b[37m             \u001b[0m│\n",
       "│\u001b[2m \u001b[0m\u001b[2m42 \u001b[0m\u001b[2m \u001b[0m│ encoder.interaction_blocks.1.dropout           │ Dropout     │      0 │ train │\u001b[37m \u001b[0m\u001b[37m    [10538,\u001b[0m\u001b[37m \u001b[0m│\u001b[37m \u001b[0m\u001b[37m    [10538,\u001b[0m\u001b[37m \u001b[0m│\n",
       "│\u001b[2m     \u001b[0m│                                                │             │        │       │\u001b[37m \u001b[0m\u001b[37m       128]\u001b[0m\u001b[37m \u001b[0m│\u001b[37m \u001b[0m\u001b[37m       128]\u001b[0m\u001b[37m \u001b[0m│\n",
       "│\u001b[2m \u001b[0m\u001b[2m43 \u001b[0m\u001b[2m \u001b[0m│ encoder.interaction_blocks.1.conv0             │ EdgeGraphC… │ 32.9 K │ train │\u001b[37m \u001b[0m\u001b[37m   [[10538,\u001b[0m\u001b[37m \u001b[0m│\u001b[37m \u001b[0m\u001b[37m    [10538,\u001b[0m\u001b[37m \u001b[0m│\n",
       "│\u001b[2m     \u001b[0m│                                                │             │        │       │\u001b[37m \u001b[0m\u001b[37m  128], [2,\u001b[0m\u001b[37m \u001b[0m│\u001b[37m \u001b[0m\u001b[37m       128]\u001b[0m\u001b[37m \u001b[0m│\n",
       "│\u001b[2m     \u001b[0m│                                                │             │        │       │\u001b[37m \u001b[0m\u001b[37m   187624],\u001b[0m\u001b[37m \u001b[0m│\u001b[37m             \u001b[0m│\n",
       "│\u001b[2m     \u001b[0m│                                                │             │        │       │\u001b[37m \u001b[0m\u001b[37m   [187624,\u001b[0m\u001b[37m \u001b[0m│\u001b[37m             \u001b[0m│\n",
       "│\u001b[2m     \u001b[0m│                                                │             │        │       │\u001b[37m \u001b[0m\u001b[37m      128]]\u001b[0m\u001b[37m \u001b[0m│\u001b[37m             \u001b[0m│\n",
       "│\u001b[2m \u001b[0m\u001b[2m44 \u001b[0m\u001b[2m \u001b[0m│ encoder.interaction_blocks.1.conv0.aggr_module │ SumAggrega… │      0 │ train │\u001b[37m \u001b[0m\u001b[37m  [[187624,\u001b[0m\u001b[37m \u001b[0m│\u001b[37m \u001b[0m\u001b[37m    [10538,\u001b[0m\u001b[37m \u001b[0m│\n",
       "│\u001b[2m     \u001b[0m│                                                │             │        │       │\u001b[37m \u001b[0m\u001b[37m      128],\u001b[0m\u001b[37m \u001b[0m│\u001b[37m \u001b[0m\u001b[37m       128]\u001b[0m\u001b[37m \u001b[0m│\n",
       "│\u001b[2m     \u001b[0m│                                                │             │        │       │\u001b[37m \u001b[0m\u001b[37m  [187624],\u001b[0m\u001b[37m \u001b[0m│\u001b[37m             \u001b[0m│\n",
       "│\u001b[2m     \u001b[0m│                                                │             │        │       │\u001b[37m \u001b[0m\u001b[37m  '?', '?',\u001b[0m\u001b[37m \u001b[0m│\u001b[37m             \u001b[0m│\n",
       "│\u001b[2m     \u001b[0m│                                                │             │        │       │\u001b[37m \u001b[0m\u001b[37m       '?']\u001b[0m\u001b[37m \u001b[0m│\u001b[37m             \u001b[0m│\n",
       "│\u001b[2m \u001b[0m\u001b[2m45 \u001b[0m\u001b[2m \u001b[0m│ encoder.interaction_blocks.1.conv0.lin_l       │ Linear      │ 16.5 K │ train │\u001b[37m \u001b[0m\u001b[37m    [10538,\u001b[0m\u001b[37m \u001b[0m│\u001b[37m \u001b[0m\u001b[37m    [10538,\u001b[0m\u001b[37m \u001b[0m│\n",
       "│\u001b[2m     \u001b[0m│                                                │             │        │       │\u001b[37m \u001b[0m\u001b[37m       128]\u001b[0m\u001b[37m \u001b[0m│\u001b[37m \u001b[0m\u001b[37m       128]\u001b[0m\u001b[37m \u001b[0m│\n",
       "│\u001b[2m \u001b[0m\u001b[2m46 \u001b[0m\u001b[2m \u001b[0m│ encoder.interaction_blocks.1.conv0.lin_r       │ Linear      │ 16.4 K │ train │\u001b[37m \u001b[0m\u001b[37m    [10538,\u001b[0m\u001b[37m \u001b[0m│\u001b[37m \u001b[0m\u001b[37m    [10538,\u001b[0m\u001b[37m \u001b[0m│\n",
       "│\u001b[2m     \u001b[0m│                                                │             │        │       │\u001b[37m \u001b[0m\u001b[37m       128]\u001b[0m\u001b[37m \u001b[0m│\u001b[37m \u001b[0m\u001b[37m       128]\u001b[0m\u001b[37m \u001b[0m│\n",
       "│\u001b[2m \u001b[0m\u001b[2m47 \u001b[0m\u001b[2m \u001b[0m│ encoder.interaction_blocks.1.conv1             │ EdgeGraphC… │ 32.9 K │ train │\u001b[37m \u001b[0m\u001b[37m   [[10538,\u001b[0m\u001b[37m \u001b[0m│\u001b[37m \u001b[0m\u001b[37m    [10538,\u001b[0m\u001b[37m \u001b[0m│\n",
       "│\u001b[2m     \u001b[0m│                                                │             │        │       │\u001b[37m \u001b[0m\u001b[37m  128], [2,\u001b[0m\u001b[37m \u001b[0m│\u001b[37m \u001b[0m\u001b[37m       128]\u001b[0m\u001b[37m \u001b[0m│\n",
       "│\u001b[2m     \u001b[0m│                                                │             │        │       │\u001b[37m \u001b[0m\u001b[37m   187624],\u001b[0m\u001b[37m \u001b[0m│\u001b[37m             \u001b[0m│\n",
       "│\u001b[2m     \u001b[0m│                                                │             │        │       │\u001b[37m \u001b[0m\u001b[37m   [187624,\u001b[0m\u001b[37m \u001b[0m│\u001b[37m             \u001b[0m│\n",
       "│\u001b[2m     \u001b[0m│                                                │             │        │       │\u001b[37m \u001b[0m\u001b[37m      128]]\u001b[0m\u001b[37m \u001b[0m│\u001b[37m             \u001b[0m│\n",
       "│\u001b[2m \u001b[0m\u001b[2m48 \u001b[0m\u001b[2m \u001b[0m│ encoder.interaction_blocks.1.conv1.aggr_module │ SumAggrega… │      0 │ train │\u001b[37m \u001b[0m\u001b[37m  [[187624,\u001b[0m\u001b[37m \u001b[0m│\u001b[37m \u001b[0m\u001b[37m    [10538,\u001b[0m\u001b[37m \u001b[0m│\n",
       "│\u001b[2m     \u001b[0m│                                                │             │        │       │\u001b[37m \u001b[0m\u001b[37m      128],\u001b[0m\u001b[37m \u001b[0m│\u001b[37m \u001b[0m\u001b[37m       128]\u001b[0m\u001b[37m \u001b[0m│\n",
       "│\u001b[2m     \u001b[0m│                                                │             │        │       │\u001b[37m \u001b[0m\u001b[37m  [187624],\u001b[0m\u001b[37m \u001b[0m│\u001b[37m             \u001b[0m│\n",
       "│\u001b[2m     \u001b[0m│                                                │             │        │       │\u001b[37m \u001b[0m\u001b[37m  '?', '?',\u001b[0m\u001b[37m \u001b[0m│\u001b[37m             \u001b[0m│\n",
       "│\u001b[2m     \u001b[0m│                                                │             │        │       │\u001b[37m \u001b[0m\u001b[37m       '?']\u001b[0m\u001b[37m \u001b[0m│\u001b[37m             \u001b[0m│\n",
       "│\u001b[2m \u001b[0m\u001b[2m49 \u001b[0m\u001b[2m \u001b[0m│ encoder.interaction_blocks.1.conv1.lin_l       │ Linear      │ 16.5 K │ train │\u001b[37m \u001b[0m\u001b[37m    [10538,\u001b[0m\u001b[37m \u001b[0m│\u001b[37m \u001b[0m\u001b[37m    [10538,\u001b[0m\u001b[37m \u001b[0m│\n",
       "│\u001b[2m     \u001b[0m│                                                │             │        │       │\u001b[37m \u001b[0m\u001b[37m       128]\u001b[0m\u001b[37m \u001b[0m│\u001b[37m \u001b[0m\u001b[37m       128]\u001b[0m\u001b[37m \u001b[0m│\n",
       "│\u001b[2m \u001b[0m\u001b[2m50 \u001b[0m\u001b[2m \u001b[0m│ encoder.interaction_blocks.1.conv1.lin_r       │ Linear      │ 16.4 K │ train │\u001b[37m \u001b[0m\u001b[37m    [10538,\u001b[0m\u001b[37m \u001b[0m│\u001b[37m \u001b[0m\u001b[37m    [10538,\u001b[0m\u001b[37m \u001b[0m│\n",
       "│\u001b[2m     \u001b[0m│                                                │             │        │       │\u001b[37m \u001b[0m\u001b[37m       128]\u001b[0m\u001b[37m \u001b[0m│\u001b[37m \u001b[0m\u001b[37m       128]\u001b[0m\u001b[37m \u001b[0m│\n",
       "│\u001b[2m \u001b[0m\u001b[2m51 \u001b[0m\u001b[2m \u001b[0m│ encoder.interaction_blocks.1.conv2             │ EdgeGraphC… │ 32.9 K │ train │\u001b[37m \u001b[0m\u001b[37m   [[10538,\u001b[0m\u001b[37m \u001b[0m│\u001b[37m \u001b[0m\u001b[37m    [10538,\u001b[0m\u001b[37m \u001b[0m│\n",
       "│\u001b[2m     \u001b[0m│                                                │             │        │       │\u001b[37m \u001b[0m\u001b[37m  128], [2,\u001b[0m\u001b[37m \u001b[0m│\u001b[37m \u001b[0m\u001b[37m       128]\u001b[0m\u001b[37m \u001b[0m│\n",
       "│\u001b[2m     \u001b[0m│                                                │             │        │       │\u001b[37m \u001b[0m\u001b[37m   187624],\u001b[0m\u001b[37m \u001b[0m│\u001b[37m             \u001b[0m│\n",
       "│\u001b[2m     \u001b[0m│                                                │             │        │       │\u001b[37m \u001b[0m\u001b[37m   [187624,\u001b[0m\u001b[37m \u001b[0m│\u001b[37m             \u001b[0m│\n",
       "│\u001b[2m     \u001b[0m│                                                │             │        │       │\u001b[37m \u001b[0m\u001b[37m      128]]\u001b[0m\u001b[37m \u001b[0m│\u001b[37m             \u001b[0m│\n",
       "│\u001b[2m \u001b[0m\u001b[2m52 \u001b[0m\u001b[2m \u001b[0m│ encoder.interaction_blocks.1.conv2.aggr_module │ SumAggrega… │      0 │ train │\u001b[37m \u001b[0m\u001b[37m  [[187624,\u001b[0m\u001b[37m \u001b[0m│\u001b[37m \u001b[0m\u001b[37m    [10538,\u001b[0m\u001b[37m \u001b[0m│\n",
       "│\u001b[2m     \u001b[0m│                                                │             │        │       │\u001b[37m \u001b[0m\u001b[37m      128],\u001b[0m\u001b[37m \u001b[0m│\u001b[37m \u001b[0m\u001b[37m       128]\u001b[0m\u001b[37m \u001b[0m│\n",
       "│\u001b[2m     \u001b[0m│                                                │             │        │       │\u001b[37m \u001b[0m\u001b[37m  [187624],\u001b[0m\u001b[37m \u001b[0m│\u001b[37m             \u001b[0m│\n",
       "│\u001b[2m     \u001b[0m│                                                │             │        │       │\u001b[37m \u001b[0m\u001b[37m  '?', '?',\u001b[0m\u001b[37m \u001b[0m│\u001b[37m             \u001b[0m│\n",
       "│\u001b[2m     \u001b[0m│                                                │             │        │       │\u001b[37m \u001b[0m\u001b[37m       '?']\u001b[0m\u001b[37m \u001b[0m│\u001b[37m             \u001b[0m│\n",
       "│\u001b[2m \u001b[0m\u001b[2m53 \u001b[0m\u001b[2m \u001b[0m│ encoder.interaction_blocks.1.conv2.lin_l       │ Linear      │ 16.5 K │ train │\u001b[37m \u001b[0m\u001b[37m    [10538,\u001b[0m\u001b[37m \u001b[0m│\u001b[37m \u001b[0m\u001b[37m    [10538,\u001b[0m\u001b[37m \u001b[0m│\n",
       "│\u001b[2m     \u001b[0m│                                                │             │        │       │\u001b[37m \u001b[0m\u001b[37m       128]\u001b[0m\u001b[37m \u001b[0m│\u001b[37m \u001b[0m\u001b[37m       128]\u001b[0m\u001b[37m \u001b[0m│\n",
       "│\u001b[2m \u001b[0m\u001b[2m54 \u001b[0m\u001b[2m \u001b[0m│ encoder.interaction_blocks.1.conv2.lin_r       │ Linear      │ 16.4 K │ train │\u001b[37m \u001b[0m\u001b[37m    [10538,\u001b[0m\u001b[37m \u001b[0m│\u001b[37m \u001b[0m\u001b[37m    [10538,\u001b[0m\u001b[37m \u001b[0m│\n",
       "│\u001b[2m     \u001b[0m│                                                │             │        │       │\u001b[37m \u001b[0m\u001b[37m       128]\u001b[0m\u001b[37m \u001b[0m│\u001b[37m \u001b[0m\u001b[37m       128]\u001b[0m\u001b[37m \u001b[0m│\n",
       "│\u001b[2m \u001b[0m\u001b[2m55 \u001b[0m\u001b[2m \u001b[0m│ encoder.interaction_blocks.1.lin_feature0      │ TwoLinear   │  9.7 K │ train │\u001b[37m \u001b[0m\u001b[37m   [187624,\u001b[0m\u001b[37m \u001b[0m│\u001b[37m \u001b[0m\u001b[37m   [187624,\u001b[0m\u001b[37m \u001b[0m│\n",
       "│\u001b[2m     \u001b[0m│                                                │             │        │       │\u001b[37m \u001b[0m\u001b[37m        24]\u001b[0m\u001b[37m \u001b[0m│\u001b[37m \u001b[0m\u001b[37m       128]\u001b[0m\u001b[37m \u001b[0m│\n",
       "│\u001b[2m \u001b[0m\u001b[2m56 \u001b[0m\u001b[2m \u001b[0m│ encoder.interaction_blocks.1.lin_feature0.lin1 │ Linear      │  1.5 K │ train │\u001b[37m \u001b[0m\u001b[37m   [187624,\u001b[0m\u001b[37m \u001b[0m│\u001b[37m \u001b[0m\u001b[37m   [187624,\u001b[0m\u001b[37m \u001b[0m│\n",
       "│\u001b[2m     \u001b[0m│                                                │             │        │       │\u001b[37m \u001b[0m\u001b[37m        24]\u001b[0m\u001b[37m \u001b[0m│\u001b[37m \u001b[0m\u001b[37m        64]\u001b[0m\u001b[37m \u001b[0m│\n",
       "│\u001b[2m \u001b[0m\u001b[2m57 \u001b[0m\u001b[2m \u001b[0m│ encoder.interaction_blocks.1.lin_feature0.lin2 │ Linear      │  8.2 K │ train │\u001b[37m \u001b[0m\u001b[37m   [187624,\u001b[0m\u001b[37m \u001b[0m│\u001b[37m \u001b[0m\u001b[37m   [187624,\u001b[0m\u001b[37m \u001b[0m│\n",
       "│\u001b[2m     \u001b[0m│                                                │             │        │       │\u001b[37m \u001b[0m\u001b[37m        64]\u001b[0m\u001b[37m \u001b[0m│\u001b[37m \u001b[0m\u001b[37m       128]\u001b[0m\u001b[37m \u001b[0m│\n",
       "│\u001b[2m \u001b[0m\u001b[2m58 \u001b[0m\u001b[2m \u001b[0m│ encoder.interaction_blocks.1.lin_feature1      │ TwoLinear   │  9.0 K │ train │\u001b[37m \u001b[0m\u001b[37m   [187624,\u001b[0m\u001b[37m \u001b[0m│\u001b[37m \u001b[0m\u001b[37m   [187624,\u001b[0m\u001b[37m \u001b[0m│\n",
       "│\u001b[2m     \u001b[0m│                                                │             │        │       │\u001b[37m \u001b[0m\u001b[37m        12]\u001b[0m\u001b[37m \u001b[0m│\u001b[37m \u001b[0m\u001b[37m       128]\u001b[0m\u001b[37m \u001b[0m│\n",
       "│\u001b[2m \u001b[0m\u001b[2m59 \u001b[0m\u001b[2m \u001b[0m│ encoder.interaction_blocks.1.lin_feature1.lin1 │ Linear      │    768 │ train │\u001b[37m \u001b[0m\u001b[37m   [187624,\u001b[0m\u001b[37m \u001b[0m│\u001b[37m \u001b[0m\u001b[37m   [187624,\u001b[0m\u001b[37m \u001b[0m│\n",
       "│\u001b[2m     \u001b[0m│                                                │             │        │       │\u001b[37m \u001b[0m\u001b[37m        12]\u001b[0m\u001b[37m \u001b[0m│\u001b[37m \u001b[0m\u001b[37m        64]\u001b[0m\u001b[37m \u001b[0m│\n",
       "│\u001b[2m \u001b[0m\u001b[2m60 \u001b[0m\u001b[2m \u001b[0m│ encoder.interaction_blocks.1.lin_feature1.lin2 │ Linear      │  8.2 K │ train │\u001b[37m \u001b[0m\u001b[37m   [187624,\u001b[0m\u001b[37m \u001b[0m│\u001b[37m \u001b[0m\u001b[37m   [187624,\u001b[0m\u001b[37m \u001b[0m│\n",
       "│\u001b[2m     \u001b[0m│                                                │             │        │       │\u001b[37m \u001b[0m\u001b[37m        64]\u001b[0m\u001b[37m \u001b[0m│\u001b[37m \u001b[0m\u001b[37m       128]\u001b[0m\u001b[37m \u001b[0m│\n",
       "│\u001b[2m \u001b[0m\u001b[2m61 \u001b[0m\u001b[2m \u001b[0m│ encoder.interaction_blocks.1.lin_feature2      │ TwoLinear   │  9.2 K │ train │\u001b[37m \u001b[0m\u001b[37m   [187624,\u001b[0m\u001b[37m \u001b[0m│\u001b[37m \u001b[0m\u001b[37m   [187624,\u001b[0m\u001b[37m \u001b[0m│\n",
       "│\u001b[2m     \u001b[0m│                                                │             │        │       │\u001b[37m \u001b[0m\u001b[37m        16]\u001b[0m\u001b[37m \u001b[0m│\u001b[37m \u001b[0m\u001b[37m       128]\u001b[0m\u001b[37m \u001b[0m│\n",
       "│\u001b[2m \u001b[0m\u001b[2m62 \u001b[0m\u001b[2m \u001b[0m│ encoder.interaction_blocks.1.lin_feature2.lin1 │ Linear      │  1.0 K │ train │\u001b[37m \u001b[0m\u001b[37m   [187624,\u001b[0m\u001b[37m \u001b[0m│\u001b[37m \u001b[0m\u001b[37m   [187624,\u001b[0m\u001b[37m \u001b[0m│\n",
       "│\u001b[2m     \u001b[0m│                                                │             │        │       │\u001b[37m \u001b[0m\u001b[37m        16]\u001b[0m\u001b[37m \u001b[0m│\u001b[37m \u001b[0m\u001b[37m        64]\u001b[0m\u001b[37m \u001b[0m│\n",
       "│\u001b[2m \u001b[0m\u001b[2m63 \u001b[0m\u001b[2m \u001b[0m│ encoder.interaction_blocks.1.lin_feature2.lin2 │ Linear      │  8.2 K │ train │\u001b[37m \u001b[0m\u001b[37m   [187624,\u001b[0m\u001b[37m \u001b[0m│\u001b[37m \u001b[0m\u001b[37m   [187624,\u001b[0m\u001b[37m \u001b[0m│\n",
       "│\u001b[2m     \u001b[0m│                                                │             │        │       │\u001b[37m \u001b[0m\u001b[37m        64]\u001b[0m\u001b[37m \u001b[0m│\u001b[37m \u001b[0m\u001b[37m       128]\u001b[0m\u001b[37m \u001b[0m│\n",
       "│\u001b[2m \u001b[0m\u001b[2m64 \u001b[0m\u001b[2m \u001b[0m│ encoder.interaction_blocks.1.lin_1             │ Linear      │ 16.5 K │ train │\u001b[37m \u001b[0m\u001b[37m    [10538,\u001b[0m\u001b[37m \u001b[0m│\u001b[37m \u001b[0m\u001b[37m    [10538,\u001b[0m\u001b[37m \u001b[0m│\n",
       "│\u001b[2m     \u001b[0m│                                                │             │        │       │\u001b[37m \u001b[0m\u001b[37m       128]\u001b[0m\u001b[37m \u001b[0m│\u001b[37m \u001b[0m\u001b[37m       128]\u001b[0m\u001b[37m \u001b[0m│\n",
       "│\u001b[2m \u001b[0m\u001b[2m65 \u001b[0m\u001b[2m \u001b[0m│ encoder.interaction_blocks.1.lin_2             │ Linear      │ 16.5 K │ train │\u001b[37m \u001b[0m\u001b[37m    [10538,\u001b[0m\u001b[37m \u001b[0m│\u001b[37m \u001b[0m\u001b[37m    [10538,\u001b[0m\u001b[37m \u001b[0m│\n",
       "│\u001b[2m     \u001b[0m│                                                │             │        │       │\u001b[37m \u001b[0m\u001b[37m       128]\u001b[0m\u001b[37m \u001b[0m│\u001b[37m \u001b[0m\u001b[37m       128]\u001b[0m\u001b[37m \u001b[0m│\n",
       "│\u001b[2m \u001b[0m\u001b[2m66 \u001b[0m\u001b[2m \u001b[0m│ encoder.interaction_blocks.1.lin0              │ Linear      │ 16.5 K │ train │\u001b[37m \u001b[0m\u001b[37m    [10538,\u001b[0m\u001b[37m \u001b[0m│\u001b[37m \u001b[0m\u001b[37m    [10538,\u001b[0m\u001b[37m \u001b[0m│\n",
       "│\u001b[2m     \u001b[0m│                                                │             │        │       │\u001b[37m \u001b[0m\u001b[37m       128]\u001b[0m\u001b[37m \u001b[0m│\u001b[37m \u001b[0m\u001b[37m       128]\u001b[0m\u001b[37m \u001b[0m│\n",
       "│\u001b[2m \u001b[0m\u001b[2m67 \u001b[0m\u001b[2m \u001b[0m│ encoder.interaction_blocks.1.lin1              │ Linear      │ 16.5 K │ train │\u001b[37m \u001b[0m\u001b[37m    [10538,\u001b[0m\u001b[37m \u001b[0m│\u001b[37m \u001b[0m\u001b[37m    [10538,\u001b[0m\u001b[37m \u001b[0m│\n",
       "│\u001b[2m     \u001b[0m│                                                │             │        │       │\u001b[37m \u001b[0m\u001b[37m       128]\u001b[0m\u001b[37m \u001b[0m│\u001b[37m \u001b[0m\u001b[37m       128]\u001b[0m\u001b[37m \u001b[0m│\n",
       "│\u001b[2m \u001b[0m\u001b[2m68 \u001b[0m\u001b[2m \u001b[0m│ encoder.interaction_blocks.1.lin2              │ Linear      │ 16.5 K │ train │\u001b[37m \u001b[0m\u001b[37m    [10538,\u001b[0m\u001b[37m \u001b[0m│\u001b[37m \u001b[0m\u001b[37m    [10538,\u001b[0m\u001b[37m \u001b[0m│\n",
       "│\u001b[2m     \u001b[0m│                                                │             │        │       │\u001b[37m \u001b[0m\u001b[37m       128]\u001b[0m\u001b[37m \u001b[0m│\u001b[37m \u001b[0m\u001b[37m       128]\u001b[0m\u001b[37m \u001b[0m│\n",
       "│\u001b[2m \u001b[0m\u001b[2m69 \u001b[0m\u001b[2m \u001b[0m│ encoder.interaction_blocks.1.lins_cat          │ ModuleList  │ 82.3 K │ train │\u001b[37m \u001b[0m\u001b[37m          ?\u001b[0m\u001b[37m \u001b[0m│\u001b[37m \u001b[0m\u001b[37m          ?\u001b[0m\u001b[37m \u001b[0m│\n",
       "│\u001b[2m \u001b[0m\u001b[2m70 \u001b[0m\u001b[2m \u001b[0m│ encoder.interaction_blocks.1.lins_cat.0        │ Linear      │ 49.3 K │ train │\u001b[37m \u001b[0m\u001b[37m    [10538,\u001b[0m\u001b[37m \u001b[0m│\u001b[37m \u001b[0m\u001b[37m    [10538,\u001b[0m\u001b[37m \u001b[0m│\n",
       "│\u001b[2m     \u001b[0m│                                                │             │        │       │\u001b[37m \u001b[0m\u001b[37m       384]\u001b[0m\u001b[37m \u001b[0m│\u001b[37m \u001b[0m\u001b[37m       128]\u001b[0m\u001b[37m \u001b[0m│\n",
       "│\u001b[2m \u001b[0m\u001b[2m71 \u001b[0m\u001b[2m \u001b[0m│ encoder.interaction_blocks.1.lins_cat.1        │ Linear      │ 16.5 K │ train │\u001b[37m \u001b[0m\u001b[37m    [10538,\u001b[0m\u001b[37m \u001b[0m│\u001b[37m \u001b[0m\u001b[37m    [10538,\u001b[0m\u001b[37m \u001b[0m│\n",
       "│\u001b[2m     \u001b[0m│                                                │             │        │       │\u001b[37m \u001b[0m\u001b[37m       128]\u001b[0m\u001b[37m \u001b[0m│\u001b[37m \u001b[0m\u001b[37m       128]\u001b[0m\u001b[37m \u001b[0m│\n",
       "│\u001b[2m \u001b[0m\u001b[2m72 \u001b[0m\u001b[2m \u001b[0m│ encoder.interaction_blocks.1.lins_cat.2        │ Linear      │ 16.5 K │ train │\u001b[37m \u001b[0m\u001b[37m    [10538,\u001b[0m\u001b[37m \u001b[0m│\u001b[37m \u001b[0m\u001b[37m    [10538,\u001b[0m\u001b[37m \u001b[0m│\n",
       "│\u001b[2m     \u001b[0m│                                                │             │        │       │\u001b[37m \u001b[0m\u001b[37m       128]\u001b[0m\u001b[37m \u001b[0m│\u001b[37m \u001b[0m\u001b[37m       128]\u001b[0m\u001b[37m \u001b[0m│\n",
       "│\u001b[2m \u001b[0m\u001b[2m73 \u001b[0m\u001b[2m \u001b[0m│ encoder.interaction_blocks.1.lins              │ ModuleList  │ 33.0 K │ train │\u001b[37m \u001b[0m\u001b[37m          ?\u001b[0m\u001b[37m \u001b[0m│\u001b[37m \u001b[0m\u001b[37m          ?\u001b[0m\u001b[37m \u001b[0m│\n",
       "│\u001b[2m \u001b[0m\u001b[2m74 \u001b[0m\u001b[2m \u001b[0m│ encoder.interaction_blocks.1.lins.0            │ Linear      │ 16.5 K │ train │\u001b[37m \u001b[0m\u001b[37m    [10538,\u001b[0m\u001b[37m \u001b[0m│\u001b[37m \u001b[0m\u001b[37m    [10538,\u001b[0m\u001b[37m \u001b[0m│\n",
       "│\u001b[2m     \u001b[0m│                                                │             │        │       │\u001b[37m \u001b[0m\u001b[37m       128]\u001b[0m\u001b[37m \u001b[0m│\u001b[37m \u001b[0m\u001b[37m       128]\u001b[0m\u001b[37m \u001b[0m│\n",
       "│\u001b[2m \u001b[0m\u001b[2m75 \u001b[0m\u001b[2m \u001b[0m│ encoder.interaction_blocks.1.lins.1            │ Linear      │ 16.5 K │ train │\u001b[37m \u001b[0m\u001b[37m    [10538,\u001b[0m\u001b[37m \u001b[0m│\u001b[37m \u001b[0m\u001b[37m    [10538,\u001b[0m\u001b[37m \u001b[0m│\n",
       "│\u001b[2m     \u001b[0m│                                                │             │        │       │\u001b[37m \u001b[0m\u001b[37m       128]\u001b[0m\u001b[37m \u001b[0m│\u001b[37m \u001b[0m\u001b[37m       128]\u001b[0m\u001b[37m \u001b[0m│\n",
       "│\u001b[2m \u001b[0m\u001b[2m76 \u001b[0m\u001b[2m \u001b[0m│ encoder.interaction_blocks.1.final             │ Linear      │ 16.5 K │ train │\u001b[37m \u001b[0m\u001b[37m    [10538,\u001b[0m\u001b[37m \u001b[0m│\u001b[37m \u001b[0m\u001b[37m    [10538,\u001b[0m\u001b[37m \u001b[0m│\n",
       "│\u001b[2m     \u001b[0m│                                                │             │        │       │\u001b[37m \u001b[0m\u001b[37m       128]\u001b[0m\u001b[37m \u001b[0m│\u001b[37m \u001b[0m\u001b[37m       128]\u001b[0m\u001b[37m \u001b[0m│\n",
       "│\u001b[2m \u001b[0m\u001b[2m77 \u001b[0m\u001b[2m \u001b[0m│ encoder.interaction_blocks.2                   │ Interactio… │  340 K │ train │\u001b[37m \u001b[0m\u001b[37m   [[10538,\u001b[0m\u001b[37m \u001b[0m│\u001b[37m \u001b[0m\u001b[37m    [10538,\u001b[0m\u001b[37m \u001b[0m│\n",
       "│\u001b[2m     \u001b[0m│                                                │             │        │       │\u001b[37m \u001b[0m\u001b[37m      128],\u001b[0m\u001b[37m \u001b[0m│\u001b[37m \u001b[0m\u001b[37m       128]\u001b[0m\u001b[37m \u001b[0m│\n",
       "│\u001b[2m     \u001b[0m│                                                │             │        │       │\u001b[37m \u001b[0m\u001b[37m   [187624,\u001b[0m\u001b[37m \u001b[0m│\u001b[37m             \u001b[0m│\n",
       "│\u001b[2m     \u001b[0m│                                                │             │        │       │\u001b[37m \u001b[0m\u001b[37m       24],\u001b[0m\u001b[37m \u001b[0m│\u001b[37m             \u001b[0m│\n",
       "│\u001b[2m     \u001b[0m│                                                │             │        │       │\u001b[37m \u001b[0m\u001b[37m   [187624,\u001b[0m\u001b[37m \u001b[0m│\u001b[37m             \u001b[0m│\n",
       "│\u001b[2m     \u001b[0m│                                                │             │        │       │\u001b[37m \u001b[0m\u001b[37m       12],\u001b[0m\u001b[37m \u001b[0m│\u001b[37m             \u001b[0m│\n",
       "│\u001b[2m     \u001b[0m│                                                │             │        │       │\u001b[37m \u001b[0m\u001b[37m   [187624,\u001b[0m\u001b[37m \u001b[0m│\u001b[37m             \u001b[0m│\n",
       "│\u001b[2m     \u001b[0m│                                                │             │        │       │\u001b[37m \u001b[0m\u001b[37m   16], [2,\u001b[0m\u001b[37m \u001b[0m│\u001b[37m             \u001b[0m│\n",
       "│\u001b[2m     \u001b[0m│                                                │             │        │       │\u001b[37m \u001b[0m\u001b[37m   187624],\u001b[0m\u001b[37m \u001b[0m│\u001b[37m             \u001b[0m│\n",
       "│\u001b[2m     \u001b[0m│                                                │             │        │       │\u001b[37m \u001b[0m\u001b[37m   [10538]]\u001b[0m\u001b[37m \u001b[0m│\u001b[37m             \u001b[0m│\n",
       "│\u001b[2m \u001b[0m\u001b[2m78 \u001b[0m\u001b[2m \u001b[0m│ encoder.interaction_blocks.2.dropout           │ Dropout     │      0 │ train │\u001b[37m \u001b[0m\u001b[37m    [10538,\u001b[0m\u001b[37m \u001b[0m│\u001b[37m \u001b[0m\u001b[37m    [10538,\u001b[0m\u001b[37m \u001b[0m│\n",
       "│\u001b[2m     \u001b[0m│                                                │             │        │       │\u001b[37m \u001b[0m\u001b[37m       128]\u001b[0m\u001b[37m \u001b[0m│\u001b[37m \u001b[0m\u001b[37m       128]\u001b[0m\u001b[37m \u001b[0m│\n",
       "│\u001b[2m \u001b[0m\u001b[2m79 \u001b[0m\u001b[2m \u001b[0m│ encoder.interaction_blocks.2.conv0             │ EdgeGraphC… │ 32.9 K │ train │\u001b[37m \u001b[0m\u001b[37m   [[10538,\u001b[0m\u001b[37m \u001b[0m│\u001b[37m \u001b[0m\u001b[37m    [10538,\u001b[0m\u001b[37m \u001b[0m│\n",
       "│\u001b[2m     \u001b[0m│                                                │             │        │       │\u001b[37m \u001b[0m\u001b[37m  128], [2,\u001b[0m\u001b[37m \u001b[0m│\u001b[37m \u001b[0m\u001b[37m       128]\u001b[0m\u001b[37m \u001b[0m│\n",
       "│\u001b[2m     \u001b[0m│                                                │             │        │       │\u001b[37m \u001b[0m\u001b[37m   187624],\u001b[0m\u001b[37m \u001b[0m│\u001b[37m             \u001b[0m│\n",
       "│\u001b[2m     \u001b[0m│                                                │             │        │       │\u001b[37m \u001b[0m\u001b[37m   [187624,\u001b[0m\u001b[37m \u001b[0m│\u001b[37m             \u001b[0m│\n",
       "│\u001b[2m     \u001b[0m│                                                │             │        │       │\u001b[37m \u001b[0m\u001b[37m      128]]\u001b[0m\u001b[37m \u001b[0m│\u001b[37m             \u001b[0m│\n",
       "│\u001b[2m \u001b[0m\u001b[2m80 \u001b[0m\u001b[2m \u001b[0m│ encoder.interaction_blocks.2.conv0.aggr_module │ SumAggrega… │      0 │ train │\u001b[37m \u001b[0m\u001b[37m  [[187624,\u001b[0m\u001b[37m \u001b[0m│\u001b[37m \u001b[0m\u001b[37m    [10538,\u001b[0m\u001b[37m \u001b[0m│\n",
       "│\u001b[2m     \u001b[0m│                                                │             │        │       │\u001b[37m \u001b[0m\u001b[37m      128],\u001b[0m\u001b[37m \u001b[0m│\u001b[37m \u001b[0m\u001b[37m       128]\u001b[0m\u001b[37m \u001b[0m│\n",
       "│\u001b[2m     \u001b[0m│                                                │             │        │       │\u001b[37m \u001b[0m\u001b[37m  [187624],\u001b[0m\u001b[37m \u001b[0m│\u001b[37m             \u001b[0m│\n",
       "│\u001b[2m     \u001b[0m│                                                │             │        │       │\u001b[37m \u001b[0m\u001b[37m  '?', '?',\u001b[0m\u001b[37m \u001b[0m│\u001b[37m             \u001b[0m│\n",
       "│\u001b[2m     \u001b[0m│                                                │             │        │       │\u001b[37m \u001b[0m\u001b[37m       '?']\u001b[0m\u001b[37m \u001b[0m│\u001b[37m             \u001b[0m│\n",
       "│\u001b[2m \u001b[0m\u001b[2m81 \u001b[0m\u001b[2m \u001b[0m│ encoder.interaction_blocks.2.conv0.lin_l       │ Linear      │ 16.5 K │ train │\u001b[37m \u001b[0m\u001b[37m    [10538,\u001b[0m\u001b[37m \u001b[0m│\u001b[37m \u001b[0m\u001b[37m    [10538,\u001b[0m\u001b[37m \u001b[0m│\n",
       "│\u001b[2m     \u001b[0m│                                                │             │        │       │\u001b[37m \u001b[0m\u001b[37m       128]\u001b[0m\u001b[37m \u001b[0m│\u001b[37m \u001b[0m\u001b[37m       128]\u001b[0m\u001b[37m \u001b[0m│\n",
       "│\u001b[2m \u001b[0m\u001b[2m82 \u001b[0m\u001b[2m \u001b[0m│ encoder.interaction_blocks.2.conv0.lin_r       │ Linear      │ 16.4 K │ train │\u001b[37m \u001b[0m\u001b[37m    [10538,\u001b[0m\u001b[37m \u001b[0m│\u001b[37m \u001b[0m\u001b[37m    [10538,\u001b[0m\u001b[37m \u001b[0m│\n",
       "│\u001b[2m     \u001b[0m│                                                │             │        │       │\u001b[37m \u001b[0m\u001b[37m       128]\u001b[0m\u001b[37m \u001b[0m│\u001b[37m \u001b[0m\u001b[37m       128]\u001b[0m\u001b[37m \u001b[0m│\n",
       "│\u001b[2m \u001b[0m\u001b[2m83 \u001b[0m\u001b[2m \u001b[0m│ encoder.interaction_blocks.2.conv1             │ EdgeGraphC… │ 32.9 K │ train │\u001b[37m \u001b[0m\u001b[37m   [[10538,\u001b[0m\u001b[37m \u001b[0m│\u001b[37m \u001b[0m\u001b[37m    [10538,\u001b[0m\u001b[37m \u001b[0m│\n",
       "│\u001b[2m     \u001b[0m│                                                │             │        │       │\u001b[37m \u001b[0m\u001b[37m  128], [2,\u001b[0m\u001b[37m \u001b[0m│\u001b[37m \u001b[0m\u001b[37m       128]\u001b[0m\u001b[37m \u001b[0m│\n",
       "│\u001b[2m     \u001b[0m│                                                │             │        │       │\u001b[37m \u001b[0m\u001b[37m   187624],\u001b[0m\u001b[37m \u001b[0m│\u001b[37m             \u001b[0m│\n",
       "│\u001b[2m     \u001b[0m│                                                │             │        │       │\u001b[37m \u001b[0m\u001b[37m   [187624,\u001b[0m\u001b[37m \u001b[0m│\u001b[37m             \u001b[0m│\n",
       "│\u001b[2m     \u001b[0m│                                                │             │        │       │\u001b[37m \u001b[0m\u001b[37m      128]]\u001b[0m\u001b[37m \u001b[0m│\u001b[37m             \u001b[0m│\n",
       "│\u001b[2m \u001b[0m\u001b[2m84 \u001b[0m\u001b[2m \u001b[0m│ encoder.interaction_blocks.2.conv1.aggr_module │ SumAggrega… │      0 │ train │\u001b[37m \u001b[0m\u001b[37m  [[187624,\u001b[0m\u001b[37m \u001b[0m│\u001b[37m \u001b[0m\u001b[37m    [10538,\u001b[0m\u001b[37m \u001b[0m│\n",
       "│\u001b[2m     \u001b[0m│                                                │             │        │       │\u001b[37m \u001b[0m\u001b[37m      128],\u001b[0m\u001b[37m \u001b[0m│\u001b[37m \u001b[0m\u001b[37m       128]\u001b[0m\u001b[37m \u001b[0m│\n",
       "│\u001b[2m     \u001b[0m│                                                │             │        │       │\u001b[37m \u001b[0m\u001b[37m  [187624],\u001b[0m\u001b[37m \u001b[0m│\u001b[37m             \u001b[0m│\n",
       "│\u001b[2m     \u001b[0m│                                                │             │        │       │\u001b[37m \u001b[0m\u001b[37m  '?', '?',\u001b[0m\u001b[37m \u001b[0m│\u001b[37m             \u001b[0m│\n",
       "│\u001b[2m     \u001b[0m│                                                │             │        │       │\u001b[37m \u001b[0m\u001b[37m       '?']\u001b[0m\u001b[37m \u001b[0m│\u001b[37m             \u001b[0m│\n",
       "│\u001b[2m \u001b[0m\u001b[2m85 \u001b[0m\u001b[2m \u001b[0m│ encoder.interaction_blocks.2.conv1.lin_l       │ Linear      │ 16.5 K │ train │\u001b[37m \u001b[0m\u001b[37m    [10538,\u001b[0m\u001b[37m \u001b[0m│\u001b[37m \u001b[0m\u001b[37m    [10538,\u001b[0m\u001b[37m \u001b[0m│\n",
       "│\u001b[2m     \u001b[0m│                                                │             │        │       │\u001b[37m \u001b[0m\u001b[37m       128]\u001b[0m\u001b[37m \u001b[0m│\u001b[37m \u001b[0m\u001b[37m       128]\u001b[0m\u001b[37m \u001b[0m│\n",
       "│\u001b[2m \u001b[0m\u001b[2m86 \u001b[0m\u001b[2m \u001b[0m│ encoder.interaction_blocks.2.conv1.lin_r       │ Linear      │ 16.4 K │ train │\u001b[37m \u001b[0m\u001b[37m    [10538,\u001b[0m\u001b[37m \u001b[0m│\u001b[37m \u001b[0m\u001b[37m    [10538,\u001b[0m\u001b[37m \u001b[0m│\n",
       "│\u001b[2m     \u001b[0m│                                                │             │        │       │\u001b[37m \u001b[0m\u001b[37m       128]\u001b[0m\u001b[37m \u001b[0m│\u001b[37m \u001b[0m\u001b[37m       128]\u001b[0m\u001b[37m \u001b[0m│\n",
       "│\u001b[2m \u001b[0m\u001b[2m87 \u001b[0m\u001b[2m \u001b[0m│ encoder.interaction_blocks.2.conv2             │ EdgeGraphC… │ 32.9 K │ train │\u001b[37m \u001b[0m\u001b[37m   [[10538,\u001b[0m\u001b[37m \u001b[0m│\u001b[37m \u001b[0m\u001b[37m    [10538,\u001b[0m\u001b[37m \u001b[0m│\n",
       "│\u001b[2m     \u001b[0m│                                                │             │        │       │\u001b[37m \u001b[0m\u001b[37m  128], [2,\u001b[0m\u001b[37m \u001b[0m│\u001b[37m \u001b[0m\u001b[37m       128]\u001b[0m\u001b[37m \u001b[0m│\n",
       "│\u001b[2m     \u001b[0m│                                                │             │        │       │\u001b[37m \u001b[0m\u001b[37m   187624],\u001b[0m\u001b[37m \u001b[0m│\u001b[37m             \u001b[0m│\n",
       "│\u001b[2m     \u001b[0m│                                                │             │        │       │\u001b[37m \u001b[0m\u001b[37m   [187624,\u001b[0m\u001b[37m \u001b[0m│\u001b[37m             \u001b[0m│\n",
       "│\u001b[2m     \u001b[0m│                                                │             │        │       │\u001b[37m \u001b[0m\u001b[37m      128]]\u001b[0m\u001b[37m \u001b[0m│\u001b[37m             \u001b[0m│\n",
       "│\u001b[2m \u001b[0m\u001b[2m88 \u001b[0m\u001b[2m \u001b[0m│ encoder.interaction_blocks.2.conv2.aggr_module │ SumAggrega… │      0 │ train │\u001b[37m \u001b[0m\u001b[37m  [[187624,\u001b[0m\u001b[37m \u001b[0m│\u001b[37m \u001b[0m\u001b[37m    [10538,\u001b[0m\u001b[37m \u001b[0m│\n",
       "│\u001b[2m     \u001b[0m│                                                │             │        │       │\u001b[37m \u001b[0m\u001b[37m      128],\u001b[0m\u001b[37m \u001b[0m│\u001b[37m \u001b[0m\u001b[37m       128]\u001b[0m\u001b[37m \u001b[0m│\n",
       "│\u001b[2m     \u001b[0m│                                                │             │        │       │\u001b[37m \u001b[0m\u001b[37m  [187624],\u001b[0m\u001b[37m \u001b[0m│\u001b[37m             \u001b[0m│\n",
       "│\u001b[2m     \u001b[0m│                                                │             │        │       │\u001b[37m \u001b[0m\u001b[37m  '?', '?',\u001b[0m\u001b[37m \u001b[0m│\u001b[37m             \u001b[0m│\n",
       "│\u001b[2m     \u001b[0m│                                                │             │        │       │\u001b[37m \u001b[0m\u001b[37m       '?']\u001b[0m\u001b[37m \u001b[0m│\u001b[37m             \u001b[0m│\n",
       "│\u001b[2m \u001b[0m\u001b[2m89 \u001b[0m\u001b[2m \u001b[0m│ encoder.interaction_blocks.2.conv2.lin_l       │ Linear      │ 16.5 K │ train │\u001b[37m \u001b[0m\u001b[37m    [10538,\u001b[0m\u001b[37m \u001b[0m│\u001b[37m \u001b[0m\u001b[37m    [10538,\u001b[0m\u001b[37m \u001b[0m│\n",
       "│\u001b[2m     \u001b[0m│                                                │             │        │       │\u001b[37m \u001b[0m\u001b[37m       128]\u001b[0m\u001b[37m \u001b[0m│\u001b[37m \u001b[0m\u001b[37m       128]\u001b[0m\u001b[37m \u001b[0m│\n",
       "│\u001b[2m \u001b[0m\u001b[2m90 \u001b[0m\u001b[2m \u001b[0m│ encoder.interaction_blocks.2.conv2.lin_r       │ Linear      │ 16.4 K │ train │\u001b[37m \u001b[0m\u001b[37m    [10538,\u001b[0m\u001b[37m \u001b[0m│\u001b[37m \u001b[0m\u001b[37m    [10538,\u001b[0m\u001b[37m \u001b[0m│\n",
       "│\u001b[2m     \u001b[0m│                                                │             │        │       │\u001b[37m \u001b[0m\u001b[37m       128]\u001b[0m\u001b[37m \u001b[0m│\u001b[37m \u001b[0m\u001b[37m       128]\u001b[0m\u001b[37m \u001b[0m│\n",
       "│\u001b[2m \u001b[0m\u001b[2m91 \u001b[0m\u001b[2m \u001b[0m│ encoder.interaction_blocks.2.lin_feature0      │ TwoLinear   │  9.7 K │ train │\u001b[37m \u001b[0m\u001b[37m   [187624,\u001b[0m\u001b[37m \u001b[0m│\u001b[37m \u001b[0m\u001b[37m   [187624,\u001b[0m\u001b[37m \u001b[0m│\n",
       "│\u001b[2m     \u001b[0m│                                                │             │        │       │\u001b[37m \u001b[0m\u001b[37m        24]\u001b[0m\u001b[37m \u001b[0m│\u001b[37m \u001b[0m\u001b[37m       128]\u001b[0m\u001b[37m \u001b[0m│\n",
       "│\u001b[2m \u001b[0m\u001b[2m92 \u001b[0m\u001b[2m \u001b[0m│ encoder.interaction_blocks.2.lin_feature0.lin1 │ Linear      │  1.5 K │ train │\u001b[37m \u001b[0m\u001b[37m   [187624,\u001b[0m\u001b[37m \u001b[0m│\u001b[37m \u001b[0m\u001b[37m   [187624,\u001b[0m\u001b[37m \u001b[0m│\n",
       "│\u001b[2m     \u001b[0m│                                                │             │        │       │\u001b[37m \u001b[0m\u001b[37m        24]\u001b[0m\u001b[37m \u001b[0m│\u001b[37m \u001b[0m\u001b[37m        64]\u001b[0m\u001b[37m \u001b[0m│\n",
       "│\u001b[2m \u001b[0m\u001b[2m93 \u001b[0m\u001b[2m \u001b[0m│ encoder.interaction_blocks.2.lin_feature0.lin2 │ Linear      │  8.2 K │ train │\u001b[37m \u001b[0m\u001b[37m   [187624,\u001b[0m\u001b[37m \u001b[0m│\u001b[37m \u001b[0m\u001b[37m   [187624,\u001b[0m\u001b[37m \u001b[0m│\n",
       "│\u001b[2m     \u001b[0m│                                                │             │        │       │\u001b[37m \u001b[0m\u001b[37m        64]\u001b[0m\u001b[37m \u001b[0m│\u001b[37m \u001b[0m\u001b[37m       128]\u001b[0m\u001b[37m \u001b[0m│\n",
       "│\u001b[2m \u001b[0m\u001b[2m94 \u001b[0m\u001b[2m \u001b[0m│ encoder.interaction_blocks.2.lin_feature1      │ TwoLinear   │  9.0 K │ train │\u001b[37m \u001b[0m\u001b[37m   [187624,\u001b[0m\u001b[37m \u001b[0m│\u001b[37m \u001b[0m\u001b[37m   [187624,\u001b[0m\u001b[37m \u001b[0m│\n",
       "│\u001b[2m     \u001b[0m│                                                │             │        │       │\u001b[37m \u001b[0m\u001b[37m        12]\u001b[0m\u001b[37m \u001b[0m│\u001b[37m \u001b[0m\u001b[37m       128]\u001b[0m\u001b[37m \u001b[0m│\n",
       "│\u001b[2m \u001b[0m\u001b[2m95 \u001b[0m\u001b[2m \u001b[0m│ encoder.interaction_blocks.2.lin_feature1.lin1 │ Linear      │    768 │ train │\u001b[37m \u001b[0m\u001b[37m   [187624,\u001b[0m\u001b[37m \u001b[0m│\u001b[37m \u001b[0m\u001b[37m   [187624,\u001b[0m\u001b[37m \u001b[0m│\n",
       "│\u001b[2m     \u001b[0m│                                                │             │        │       │\u001b[37m \u001b[0m\u001b[37m        12]\u001b[0m\u001b[37m \u001b[0m│\u001b[37m \u001b[0m\u001b[37m        64]\u001b[0m\u001b[37m \u001b[0m│\n",
       "│\u001b[2m \u001b[0m\u001b[2m96 \u001b[0m\u001b[2m \u001b[0m│ encoder.interaction_blocks.2.lin_feature1.lin2 │ Linear      │  8.2 K │ train │\u001b[37m \u001b[0m\u001b[37m   [187624,\u001b[0m\u001b[37m \u001b[0m│\u001b[37m \u001b[0m\u001b[37m   [187624,\u001b[0m\u001b[37m \u001b[0m│\n",
       "│\u001b[2m     \u001b[0m│                                                │             │        │       │\u001b[37m \u001b[0m\u001b[37m        64]\u001b[0m\u001b[37m \u001b[0m│\u001b[37m \u001b[0m\u001b[37m       128]\u001b[0m\u001b[37m \u001b[0m│\n",
       "│\u001b[2m \u001b[0m\u001b[2m97 \u001b[0m\u001b[2m \u001b[0m│ encoder.interaction_blocks.2.lin_feature2      │ TwoLinear   │  9.2 K │ train │\u001b[37m \u001b[0m\u001b[37m   [187624,\u001b[0m\u001b[37m \u001b[0m│\u001b[37m \u001b[0m\u001b[37m   [187624,\u001b[0m\u001b[37m \u001b[0m│\n",
       "│\u001b[2m     \u001b[0m│                                                │             │        │       │\u001b[37m \u001b[0m\u001b[37m        16]\u001b[0m\u001b[37m \u001b[0m│\u001b[37m \u001b[0m\u001b[37m       128]\u001b[0m\u001b[37m \u001b[0m│\n",
       "│\u001b[2m \u001b[0m\u001b[2m98 \u001b[0m\u001b[2m \u001b[0m│ encoder.interaction_blocks.2.lin_feature2.lin1 │ Linear      │  1.0 K │ train │\u001b[37m \u001b[0m\u001b[37m   [187624,\u001b[0m\u001b[37m \u001b[0m│\u001b[37m \u001b[0m\u001b[37m   [187624,\u001b[0m\u001b[37m \u001b[0m│\n",
       "│\u001b[2m     \u001b[0m│                                                │             │        │       │\u001b[37m \u001b[0m\u001b[37m        16]\u001b[0m\u001b[37m \u001b[0m│\u001b[37m \u001b[0m\u001b[37m        64]\u001b[0m\u001b[37m \u001b[0m│\n",
       "│\u001b[2m \u001b[0m\u001b[2m99 \u001b[0m\u001b[2m \u001b[0m│ encoder.interaction_blocks.2.lin_feature2.lin2 │ Linear      │  8.2 K │ train │\u001b[37m \u001b[0m\u001b[37m   [187624,\u001b[0m\u001b[37m \u001b[0m│\u001b[37m \u001b[0m\u001b[37m   [187624,\u001b[0m\u001b[37m \u001b[0m│\n",
       "│\u001b[2m     \u001b[0m│                                                │             │        │       │\u001b[37m \u001b[0m\u001b[37m        64]\u001b[0m\u001b[37m \u001b[0m│\u001b[37m \u001b[0m\u001b[37m       128]\u001b[0m\u001b[37m \u001b[0m│\n",
       "│\u001b[2m \u001b[0m\u001b[2m100\u001b[0m\u001b[2m \u001b[0m│ encoder.interaction_blocks.2.lin_1             │ Linear      │ 16.5 K │ train │\u001b[37m \u001b[0m\u001b[37m    [10538,\u001b[0m\u001b[37m \u001b[0m│\u001b[37m \u001b[0m\u001b[37m    [10538,\u001b[0m\u001b[37m \u001b[0m│\n",
       "│\u001b[2m     \u001b[0m│                                                │             │        │       │\u001b[37m \u001b[0m\u001b[37m       128]\u001b[0m\u001b[37m \u001b[0m│\u001b[37m \u001b[0m\u001b[37m       128]\u001b[0m\u001b[37m \u001b[0m│\n",
       "│\u001b[2m \u001b[0m\u001b[2m101\u001b[0m\u001b[2m \u001b[0m│ encoder.interaction_blocks.2.lin_2             │ Linear      │ 16.5 K │ train │\u001b[37m \u001b[0m\u001b[37m    [10538,\u001b[0m\u001b[37m \u001b[0m│\u001b[37m \u001b[0m\u001b[37m    [10538,\u001b[0m\u001b[37m \u001b[0m│\n",
       "│\u001b[2m     \u001b[0m│                                                │             │        │       │\u001b[37m \u001b[0m\u001b[37m       128]\u001b[0m\u001b[37m \u001b[0m│\u001b[37m \u001b[0m\u001b[37m       128]\u001b[0m\u001b[37m \u001b[0m│\n",
       "│\u001b[2m \u001b[0m\u001b[2m102\u001b[0m\u001b[2m \u001b[0m│ encoder.interaction_blocks.2.lin0              │ Linear      │ 16.5 K │ train │\u001b[37m \u001b[0m\u001b[37m    [10538,\u001b[0m\u001b[37m \u001b[0m│\u001b[37m \u001b[0m\u001b[37m    [10538,\u001b[0m\u001b[37m \u001b[0m│\n",
       "│\u001b[2m     \u001b[0m│                                                │             │        │       │\u001b[37m \u001b[0m\u001b[37m       128]\u001b[0m\u001b[37m \u001b[0m│\u001b[37m \u001b[0m\u001b[37m       128]\u001b[0m\u001b[37m \u001b[0m│\n",
       "│\u001b[2m \u001b[0m\u001b[2m103\u001b[0m\u001b[2m \u001b[0m│ encoder.interaction_blocks.2.lin1              │ Linear      │ 16.5 K │ train │\u001b[37m \u001b[0m\u001b[37m    [10538,\u001b[0m\u001b[37m \u001b[0m│\u001b[37m \u001b[0m\u001b[37m    [10538,\u001b[0m\u001b[37m \u001b[0m│\n",
       "│\u001b[2m     \u001b[0m│                                                │             │        │       │\u001b[37m \u001b[0m\u001b[37m       128]\u001b[0m\u001b[37m \u001b[0m│\u001b[37m \u001b[0m\u001b[37m       128]\u001b[0m\u001b[37m \u001b[0m│\n",
       "│\u001b[2m \u001b[0m\u001b[2m104\u001b[0m\u001b[2m \u001b[0m│ encoder.interaction_blocks.2.lin2              │ Linear      │ 16.5 K │ train │\u001b[37m \u001b[0m\u001b[37m    [10538,\u001b[0m\u001b[37m \u001b[0m│\u001b[37m \u001b[0m\u001b[37m    [10538,\u001b[0m\u001b[37m \u001b[0m│\n",
       "│\u001b[2m     \u001b[0m│                                                │             │        │       │\u001b[37m \u001b[0m\u001b[37m       128]\u001b[0m\u001b[37m \u001b[0m│\u001b[37m \u001b[0m\u001b[37m       128]\u001b[0m\u001b[37m \u001b[0m│\n",
       "│\u001b[2m \u001b[0m\u001b[2m105\u001b[0m\u001b[2m \u001b[0m│ encoder.interaction_blocks.2.lins_cat          │ ModuleList  │ 82.3 K │ train │\u001b[37m \u001b[0m\u001b[37m          ?\u001b[0m\u001b[37m \u001b[0m│\u001b[37m \u001b[0m\u001b[37m          ?\u001b[0m\u001b[37m \u001b[0m│\n",
       "│\u001b[2m \u001b[0m\u001b[2m106\u001b[0m\u001b[2m \u001b[0m│ encoder.interaction_blocks.2.lins_cat.0        │ Linear      │ 49.3 K │ train │\u001b[37m \u001b[0m\u001b[37m    [10538,\u001b[0m\u001b[37m \u001b[0m│\u001b[37m \u001b[0m\u001b[37m    [10538,\u001b[0m\u001b[37m \u001b[0m│\n",
       "│\u001b[2m     \u001b[0m│                                                │             │        │       │\u001b[37m \u001b[0m\u001b[37m       384]\u001b[0m\u001b[37m \u001b[0m│\u001b[37m \u001b[0m\u001b[37m       128]\u001b[0m\u001b[37m \u001b[0m│\n",
       "│\u001b[2m \u001b[0m\u001b[2m107\u001b[0m\u001b[2m \u001b[0m│ encoder.interaction_blocks.2.lins_cat.1        │ Linear      │ 16.5 K │ train │\u001b[37m \u001b[0m\u001b[37m    [10538,\u001b[0m\u001b[37m \u001b[0m│\u001b[37m \u001b[0m\u001b[37m    [10538,\u001b[0m\u001b[37m \u001b[0m│\n",
       "│\u001b[2m     \u001b[0m│                                                │             │        │       │\u001b[37m \u001b[0m\u001b[37m       128]\u001b[0m\u001b[37m \u001b[0m│\u001b[37m \u001b[0m\u001b[37m       128]\u001b[0m\u001b[37m \u001b[0m│\n",
       "│\u001b[2m \u001b[0m\u001b[2m108\u001b[0m\u001b[2m \u001b[0m│ encoder.interaction_blocks.2.lins_cat.2        │ Linear      │ 16.5 K │ train │\u001b[37m \u001b[0m\u001b[37m    [10538,\u001b[0m\u001b[37m \u001b[0m│\u001b[37m \u001b[0m\u001b[37m    [10538,\u001b[0m\u001b[37m \u001b[0m│\n",
       "│\u001b[2m     \u001b[0m│                                                │             │        │       │\u001b[37m \u001b[0m\u001b[37m       128]\u001b[0m\u001b[37m \u001b[0m│\u001b[37m \u001b[0m\u001b[37m       128]\u001b[0m\u001b[37m \u001b[0m│\n",
       "│\u001b[2m \u001b[0m\u001b[2m109\u001b[0m\u001b[2m \u001b[0m│ encoder.interaction_blocks.2.lins              │ ModuleList  │ 33.0 K │ train │\u001b[37m \u001b[0m\u001b[37m          ?\u001b[0m\u001b[37m \u001b[0m│\u001b[37m \u001b[0m\u001b[37m          ?\u001b[0m\u001b[37m \u001b[0m│\n",
       "│\u001b[2m \u001b[0m\u001b[2m110\u001b[0m\u001b[2m \u001b[0m│ encoder.interaction_blocks.2.lins.0            │ Linear      │ 16.5 K │ train │\u001b[37m \u001b[0m\u001b[37m    [10538,\u001b[0m\u001b[37m \u001b[0m│\u001b[37m \u001b[0m\u001b[37m    [10538,\u001b[0m\u001b[37m \u001b[0m│\n",
       "│\u001b[2m     \u001b[0m│                                                │             │        │       │\u001b[37m \u001b[0m\u001b[37m       128]\u001b[0m\u001b[37m \u001b[0m│\u001b[37m \u001b[0m\u001b[37m       128]\u001b[0m\u001b[37m \u001b[0m│\n",
       "│\u001b[2m \u001b[0m\u001b[2m111\u001b[0m\u001b[2m \u001b[0m│ encoder.interaction_blocks.2.lins.1            │ Linear      │ 16.5 K │ train │\u001b[37m \u001b[0m\u001b[37m    [10538,\u001b[0m\u001b[37m \u001b[0m│\u001b[37m \u001b[0m\u001b[37m    [10538,\u001b[0m\u001b[37m \u001b[0m│\n",
       "│\u001b[2m     \u001b[0m│                                                │             │        │       │\u001b[37m \u001b[0m\u001b[37m       128]\u001b[0m\u001b[37m \u001b[0m│\u001b[37m \u001b[0m\u001b[37m       128]\u001b[0m\u001b[37m \u001b[0m│\n",
       "│\u001b[2m \u001b[0m\u001b[2m112\u001b[0m\u001b[2m \u001b[0m│ encoder.interaction_blocks.2.final             │ Linear      │ 16.5 K │ train │\u001b[37m \u001b[0m\u001b[37m    [10538,\u001b[0m\u001b[37m \u001b[0m│\u001b[37m \u001b[0m\u001b[37m    [10538,\u001b[0m\u001b[37m \u001b[0m│\n",
       "│\u001b[2m     \u001b[0m│                                                │             │        │       │\u001b[37m \u001b[0m\u001b[37m       128]\u001b[0m\u001b[37m \u001b[0m│\u001b[37m \u001b[0m\u001b[37m       128]\u001b[0m\u001b[37m \u001b[0m│\n",
       "│\u001b[2m \u001b[0m\u001b[2m113\u001b[0m\u001b[2m \u001b[0m│ encoder.interaction_blocks.3                   │ Interactio… │  340 K │ train │\u001b[37m \u001b[0m\u001b[37m   [[10538,\u001b[0m\u001b[37m \u001b[0m│\u001b[37m \u001b[0m\u001b[37m    [10538,\u001b[0m\u001b[37m \u001b[0m│\n",
       "│\u001b[2m     \u001b[0m│                                                │             │        │       │\u001b[37m \u001b[0m\u001b[37m      128],\u001b[0m\u001b[37m \u001b[0m│\u001b[37m \u001b[0m\u001b[37m       128]\u001b[0m\u001b[37m \u001b[0m│\n",
       "│\u001b[2m     \u001b[0m│                                                │             │        │       │\u001b[37m \u001b[0m\u001b[37m   [187624,\u001b[0m\u001b[37m \u001b[0m│\u001b[37m             \u001b[0m│\n",
       "│\u001b[2m     \u001b[0m│                                                │             │        │       │\u001b[37m \u001b[0m\u001b[37m       24],\u001b[0m\u001b[37m \u001b[0m│\u001b[37m             \u001b[0m│\n",
       "│\u001b[2m     \u001b[0m│                                                │             │        │       │\u001b[37m \u001b[0m\u001b[37m   [187624,\u001b[0m\u001b[37m \u001b[0m│\u001b[37m             \u001b[0m│\n",
       "│\u001b[2m     \u001b[0m│                                                │             │        │       │\u001b[37m \u001b[0m\u001b[37m       12],\u001b[0m\u001b[37m \u001b[0m│\u001b[37m             \u001b[0m│\n",
       "│\u001b[2m     \u001b[0m│                                                │             │        │       │\u001b[37m \u001b[0m\u001b[37m   [187624,\u001b[0m\u001b[37m \u001b[0m│\u001b[37m             \u001b[0m│\n",
       "│\u001b[2m     \u001b[0m│                                                │             │        │       │\u001b[37m \u001b[0m\u001b[37m   16], [2,\u001b[0m\u001b[37m \u001b[0m│\u001b[37m             \u001b[0m│\n",
       "│\u001b[2m     \u001b[0m│                                                │             │        │       │\u001b[37m \u001b[0m\u001b[37m   187624],\u001b[0m\u001b[37m \u001b[0m│\u001b[37m             \u001b[0m│\n",
       "│\u001b[2m     \u001b[0m│                                                │             │        │       │\u001b[37m \u001b[0m\u001b[37m   [10538]]\u001b[0m\u001b[37m \u001b[0m│\u001b[37m             \u001b[0m│\n",
       "│\u001b[2m \u001b[0m\u001b[2m114\u001b[0m\u001b[2m \u001b[0m│ encoder.interaction_blocks.3.dropout           │ Dropout     │      0 │ train │\u001b[37m \u001b[0m\u001b[37m    [10538,\u001b[0m\u001b[37m \u001b[0m│\u001b[37m \u001b[0m\u001b[37m    [10538,\u001b[0m\u001b[37m \u001b[0m│\n",
       "│\u001b[2m     \u001b[0m│                                                │             │        │       │\u001b[37m \u001b[0m\u001b[37m       128]\u001b[0m\u001b[37m \u001b[0m│\u001b[37m \u001b[0m\u001b[37m       128]\u001b[0m\u001b[37m \u001b[0m│\n",
       "│\u001b[2m \u001b[0m\u001b[2m115\u001b[0m\u001b[2m \u001b[0m│ encoder.interaction_blocks.3.conv0             │ EdgeGraphC… │ 32.9 K │ train │\u001b[37m \u001b[0m\u001b[37m   [[10538,\u001b[0m\u001b[37m \u001b[0m│\u001b[37m \u001b[0m\u001b[37m    [10538,\u001b[0m\u001b[37m \u001b[0m│\n",
       "│\u001b[2m     \u001b[0m│                                                │             │        │       │\u001b[37m \u001b[0m\u001b[37m  128], [2,\u001b[0m\u001b[37m \u001b[0m│\u001b[37m \u001b[0m\u001b[37m       128]\u001b[0m\u001b[37m \u001b[0m│\n",
       "│\u001b[2m     \u001b[0m│                                                │             │        │       │\u001b[37m \u001b[0m\u001b[37m   187624],\u001b[0m\u001b[37m \u001b[0m│\u001b[37m             \u001b[0m│\n",
       "│\u001b[2m     \u001b[0m│                                                │             │        │       │\u001b[37m \u001b[0m\u001b[37m   [187624,\u001b[0m\u001b[37m \u001b[0m│\u001b[37m             \u001b[0m│\n",
       "│\u001b[2m     \u001b[0m│                                                │             │        │       │\u001b[37m \u001b[0m\u001b[37m      128]]\u001b[0m\u001b[37m \u001b[0m│\u001b[37m             \u001b[0m│\n",
       "│\u001b[2m \u001b[0m\u001b[2m116\u001b[0m\u001b[2m \u001b[0m│ encoder.interaction_blocks.3.conv0.aggr_module │ SumAggrega… │      0 │ train │\u001b[37m \u001b[0m\u001b[37m  [[187624,\u001b[0m\u001b[37m \u001b[0m│\u001b[37m \u001b[0m\u001b[37m    [10538,\u001b[0m\u001b[37m \u001b[0m│\n",
       "│\u001b[2m     \u001b[0m│                                                │             │        │       │\u001b[37m \u001b[0m\u001b[37m      128],\u001b[0m\u001b[37m \u001b[0m│\u001b[37m \u001b[0m\u001b[37m       128]\u001b[0m\u001b[37m \u001b[0m│\n",
       "│\u001b[2m     \u001b[0m│                                                │             │        │       │\u001b[37m \u001b[0m\u001b[37m  [187624],\u001b[0m\u001b[37m \u001b[0m│\u001b[37m             \u001b[0m│\n",
       "│\u001b[2m     \u001b[0m│                                                │             │        │       │\u001b[37m \u001b[0m\u001b[37m  '?', '?',\u001b[0m\u001b[37m \u001b[0m│\u001b[37m             \u001b[0m│\n",
       "│\u001b[2m     \u001b[0m│                                                │             │        │       │\u001b[37m \u001b[0m\u001b[37m       '?']\u001b[0m\u001b[37m \u001b[0m│\u001b[37m             \u001b[0m│\n",
       "│\u001b[2m \u001b[0m\u001b[2m117\u001b[0m\u001b[2m \u001b[0m│ encoder.interaction_blocks.3.conv0.lin_l       │ Linear      │ 16.5 K │ train │\u001b[37m \u001b[0m\u001b[37m    [10538,\u001b[0m\u001b[37m \u001b[0m│\u001b[37m \u001b[0m\u001b[37m    [10538,\u001b[0m\u001b[37m \u001b[0m│\n",
       "│\u001b[2m     \u001b[0m│                                                │             │        │       │\u001b[37m \u001b[0m\u001b[37m       128]\u001b[0m\u001b[37m \u001b[0m│\u001b[37m \u001b[0m\u001b[37m       128]\u001b[0m\u001b[37m \u001b[0m│\n",
       "│\u001b[2m \u001b[0m\u001b[2m118\u001b[0m\u001b[2m \u001b[0m│ encoder.interaction_blocks.3.conv0.lin_r       │ Linear      │ 16.4 K │ train │\u001b[37m \u001b[0m\u001b[37m    [10538,\u001b[0m\u001b[37m \u001b[0m│\u001b[37m \u001b[0m\u001b[37m    [10538,\u001b[0m\u001b[37m \u001b[0m│\n",
       "│\u001b[2m     \u001b[0m│                                                │             │        │       │\u001b[37m \u001b[0m\u001b[37m       128]\u001b[0m\u001b[37m \u001b[0m│\u001b[37m \u001b[0m\u001b[37m       128]\u001b[0m\u001b[37m \u001b[0m│\n",
       "│\u001b[2m \u001b[0m\u001b[2m119\u001b[0m\u001b[2m \u001b[0m│ encoder.interaction_blocks.3.conv1             │ EdgeGraphC… │ 32.9 K │ train │\u001b[37m \u001b[0m\u001b[37m   [[10538,\u001b[0m\u001b[37m \u001b[0m│\u001b[37m \u001b[0m\u001b[37m    [10538,\u001b[0m\u001b[37m \u001b[0m│\n",
       "│\u001b[2m     \u001b[0m│                                                │             │        │       │\u001b[37m \u001b[0m\u001b[37m  128], [2,\u001b[0m\u001b[37m \u001b[0m│\u001b[37m \u001b[0m\u001b[37m       128]\u001b[0m\u001b[37m \u001b[0m│\n",
       "│\u001b[2m     \u001b[0m│                                                │             │        │       │\u001b[37m \u001b[0m\u001b[37m   187624],\u001b[0m\u001b[37m \u001b[0m│\u001b[37m             \u001b[0m│\n",
       "│\u001b[2m     \u001b[0m│                                                │             │        │       │\u001b[37m \u001b[0m\u001b[37m   [187624,\u001b[0m\u001b[37m \u001b[0m│\u001b[37m             \u001b[0m│\n",
       "│\u001b[2m     \u001b[0m│                                                │             │        │       │\u001b[37m \u001b[0m\u001b[37m      128]]\u001b[0m\u001b[37m \u001b[0m│\u001b[37m             \u001b[0m│\n",
       "│\u001b[2m \u001b[0m\u001b[2m120\u001b[0m\u001b[2m \u001b[0m│ encoder.interaction_blocks.3.conv1.aggr_module │ SumAggrega… │      0 │ train │\u001b[37m \u001b[0m\u001b[37m  [[187624,\u001b[0m\u001b[37m \u001b[0m│\u001b[37m \u001b[0m\u001b[37m    [10538,\u001b[0m\u001b[37m \u001b[0m│\n",
       "│\u001b[2m     \u001b[0m│                                                │             │        │       │\u001b[37m \u001b[0m\u001b[37m      128],\u001b[0m\u001b[37m \u001b[0m│\u001b[37m \u001b[0m\u001b[37m       128]\u001b[0m\u001b[37m \u001b[0m│\n",
       "│\u001b[2m     \u001b[0m│                                                │             │        │       │\u001b[37m \u001b[0m\u001b[37m  [187624],\u001b[0m\u001b[37m \u001b[0m│\u001b[37m             \u001b[0m│\n",
       "│\u001b[2m     \u001b[0m│                                                │             │        │       │\u001b[37m \u001b[0m\u001b[37m  '?', '?',\u001b[0m\u001b[37m \u001b[0m│\u001b[37m             \u001b[0m│\n",
       "│\u001b[2m     \u001b[0m│                                                │             │        │       │\u001b[37m \u001b[0m\u001b[37m       '?']\u001b[0m\u001b[37m \u001b[0m│\u001b[37m             \u001b[0m│\n",
       "│\u001b[2m \u001b[0m\u001b[2m121\u001b[0m\u001b[2m \u001b[0m│ encoder.interaction_blocks.3.conv1.lin_l       │ Linear      │ 16.5 K │ train │\u001b[37m \u001b[0m\u001b[37m    [10538,\u001b[0m\u001b[37m \u001b[0m│\u001b[37m \u001b[0m\u001b[37m    [10538,\u001b[0m\u001b[37m \u001b[0m│\n",
       "│\u001b[2m     \u001b[0m│                                                │             │        │       │\u001b[37m \u001b[0m\u001b[37m       128]\u001b[0m\u001b[37m \u001b[0m│\u001b[37m \u001b[0m\u001b[37m       128]\u001b[0m\u001b[37m \u001b[0m│\n",
       "│\u001b[2m \u001b[0m\u001b[2m122\u001b[0m\u001b[2m \u001b[0m│ encoder.interaction_blocks.3.conv1.lin_r       │ Linear      │ 16.4 K │ train │\u001b[37m \u001b[0m\u001b[37m    [10538,\u001b[0m\u001b[37m \u001b[0m│\u001b[37m \u001b[0m\u001b[37m    [10538,\u001b[0m\u001b[37m \u001b[0m│\n",
       "│\u001b[2m     \u001b[0m│                                                │             │        │       │\u001b[37m \u001b[0m\u001b[37m       128]\u001b[0m\u001b[37m \u001b[0m│\u001b[37m \u001b[0m\u001b[37m       128]\u001b[0m\u001b[37m \u001b[0m│\n",
       "│\u001b[2m \u001b[0m\u001b[2m123\u001b[0m\u001b[2m \u001b[0m│ encoder.interaction_blocks.3.conv2             │ EdgeGraphC… │ 32.9 K │ train │\u001b[37m \u001b[0m\u001b[37m   [[10538,\u001b[0m\u001b[37m \u001b[0m│\u001b[37m \u001b[0m\u001b[37m    [10538,\u001b[0m\u001b[37m \u001b[0m│\n",
       "│\u001b[2m     \u001b[0m│                                                │             │        │       │\u001b[37m \u001b[0m\u001b[37m  128], [2,\u001b[0m\u001b[37m \u001b[0m│\u001b[37m \u001b[0m\u001b[37m       128]\u001b[0m\u001b[37m \u001b[0m│\n",
       "│\u001b[2m     \u001b[0m│                                                │             │        │       │\u001b[37m \u001b[0m\u001b[37m   187624],\u001b[0m\u001b[37m \u001b[0m│\u001b[37m             \u001b[0m│\n",
       "│\u001b[2m     \u001b[0m│                                                │             │        │       │\u001b[37m \u001b[0m\u001b[37m   [187624,\u001b[0m\u001b[37m \u001b[0m│\u001b[37m             \u001b[0m│\n",
       "│\u001b[2m     \u001b[0m│                                                │             │        │       │\u001b[37m \u001b[0m\u001b[37m      128]]\u001b[0m\u001b[37m \u001b[0m│\u001b[37m             \u001b[0m│\n",
       "│\u001b[2m \u001b[0m\u001b[2m124\u001b[0m\u001b[2m \u001b[0m│ encoder.interaction_blocks.3.conv2.aggr_module │ SumAggrega… │      0 │ train │\u001b[37m \u001b[0m\u001b[37m  [[187624,\u001b[0m\u001b[37m \u001b[0m│\u001b[37m \u001b[0m\u001b[37m    [10538,\u001b[0m\u001b[37m \u001b[0m│\n",
       "│\u001b[2m     \u001b[0m│                                                │             │        │       │\u001b[37m \u001b[0m\u001b[37m      128],\u001b[0m\u001b[37m \u001b[0m│\u001b[37m \u001b[0m\u001b[37m       128]\u001b[0m\u001b[37m \u001b[0m│\n",
       "│\u001b[2m     \u001b[0m│                                                │             │        │       │\u001b[37m \u001b[0m\u001b[37m  [187624],\u001b[0m\u001b[37m \u001b[0m│\u001b[37m             \u001b[0m│\n",
       "│\u001b[2m     \u001b[0m│                                                │             │        │       │\u001b[37m \u001b[0m\u001b[37m  '?', '?',\u001b[0m\u001b[37m \u001b[0m│\u001b[37m             \u001b[0m│\n",
       "│\u001b[2m     \u001b[0m│                                                │             │        │       │\u001b[37m \u001b[0m\u001b[37m       '?']\u001b[0m\u001b[37m \u001b[0m│\u001b[37m             \u001b[0m│\n",
       "│\u001b[2m \u001b[0m\u001b[2m125\u001b[0m\u001b[2m \u001b[0m│ encoder.interaction_blocks.3.conv2.lin_l       │ Linear      │ 16.5 K │ train │\u001b[37m \u001b[0m\u001b[37m    [10538,\u001b[0m\u001b[37m \u001b[0m│\u001b[37m \u001b[0m\u001b[37m    [10538,\u001b[0m\u001b[37m \u001b[0m│\n",
       "│\u001b[2m     \u001b[0m│                                                │             │        │       │\u001b[37m \u001b[0m\u001b[37m       128]\u001b[0m\u001b[37m \u001b[0m│\u001b[37m \u001b[0m\u001b[37m       128]\u001b[0m\u001b[37m \u001b[0m│\n",
       "│\u001b[2m \u001b[0m\u001b[2m126\u001b[0m\u001b[2m \u001b[0m│ encoder.interaction_blocks.3.conv2.lin_r       │ Linear      │ 16.4 K │ train │\u001b[37m \u001b[0m\u001b[37m    [10538,\u001b[0m\u001b[37m \u001b[0m│\u001b[37m \u001b[0m\u001b[37m    [10538,\u001b[0m\u001b[37m \u001b[0m│\n",
       "│\u001b[2m     \u001b[0m│                                                │             │        │       │\u001b[37m \u001b[0m\u001b[37m       128]\u001b[0m\u001b[37m \u001b[0m│\u001b[37m \u001b[0m\u001b[37m       128]\u001b[0m\u001b[37m \u001b[0m│\n",
       "│\u001b[2m \u001b[0m\u001b[2m127\u001b[0m\u001b[2m \u001b[0m│ encoder.interaction_blocks.3.lin_feature0      │ TwoLinear   │  9.7 K │ train │\u001b[37m \u001b[0m\u001b[37m   [187624,\u001b[0m\u001b[37m \u001b[0m│\u001b[37m \u001b[0m\u001b[37m   [187624,\u001b[0m\u001b[37m \u001b[0m│\n",
       "│\u001b[2m     \u001b[0m│                                                │             │        │       │\u001b[37m \u001b[0m\u001b[37m        24]\u001b[0m\u001b[37m \u001b[0m│\u001b[37m \u001b[0m\u001b[37m       128]\u001b[0m\u001b[37m \u001b[0m│\n",
       "│\u001b[2m \u001b[0m\u001b[2m128\u001b[0m\u001b[2m \u001b[0m│ encoder.interaction_blocks.3.lin_feature0.lin1 │ Linear      │  1.5 K │ train │\u001b[37m \u001b[0m\u001b[37m   [187624,\u001b[0m\u001b[37m \u001b[0m│\u001b[37m \u001b[0m\u001b[37m   [187624,\u001b[0m\u001b[37m \u001b[0m│\n",
       "│\u001b[2m     \u001b[0m│                                                │             │        │       │\u001b[37m \u001b[0m\u001b[37m        24]\u001b[0m\u001b[37m \u001b[0m│\u001b[37m \u001b[0m\u001b[37m        64]\u001b[0m\u001b[37m \u001b[0m│\n",
       "│\u001b[2m \u001b[0m\u001b[2m129\u001b[0m\u001b[2m \u001b[0m│ encoder.interaction_blocks.3.lin_feature0.lin2 │ Linear      │  8.2 K │ train │\u001b[37m \u001b[0m\u001b[37m   [187624,\u001b[0m\u001b[37m \u001b[0m│\u001b[37m \u001b[0m\u001b[37m   [187624,\u001b[0m\u001b[37m \u001b[0m│\n",
       "│\u001b[2m     \u001b[0m│                                                │             │        │       │\u001b[37m \u001b[0m\u001b[37m        64]\u001b[0m\u001b[37m \u001b[0m│\u001b[37m \u001b[0m\u001b[37m       128]\u001b[0m\u001b[37m \u001b[0m│\n",
       "│\u001b[2m \u001b[0m\u001b[2m130\u001b[0m\u001b[2m \u001b[0m│ encoder.interaction_blocks.3.lin_feature1      │ TwoLinear   │  9.0 K │ train │\u001b[37m \u001b[0m\u001b[37m   [187624,\u001b[0m\u001b[37m \u001b[0m│\u001b[37m \u001b[0m\u001b[37m   [187624,\u001b[0m\u001b[37m \u001b[0m│\n",
       "│\u001b[2m     \u001b[0m│                                                │             │        │       │\u001b[37m \u001b[0m\u001b[37m        12]\u001b[0m\u001b[37m \u001b[0m│\u001b[37m \u001b[0m\u001b[37m       128]\u001b[0m\u001b[37m \u001b[0m│\n",
       "│\u001b[2m \u001b[0m\u001b[2m131\u001b[0m\u001b[2m \u001b[0m│ encoder.interaction_blocks.3.lin_feature1.lin1 │ Linear      │    768 │ train │\u001b[37m \u001b[0m\u001b[37m   [187624,\u001b[0m\u001b[37m \u001b[0m│\u001b[37m \u001b[0m\u001b[37m   [187624,\u001b[0m\u001b[37m \u001b[0m│\n",
       "│\u001b[2m     \u001b[0m│                                                │             │        │       │\u001b[37m \u001b[0m\u001b[37m        12]\u001b[0m\u001b[37m \u001b[0m│\u001b[37m \u001b[0m\u001b[37m        64]\u001b[0m\u001b[37m \u001b[0m│\n",
       "│\u001b[2m \u001b[0m\u001b[2m132\u001b[0m\u001b[2m \u001b[0m│ encoder.interaction_blocks.3.lin_feature1.lin2 │ Linear      │  8.2 K │ train │\u001b[37m \u001b[0m\u001b[37m   [187624,\u001b[0m\u001b[37m \u001b[0m│\u001b[37m \u001b[0m\u001b[37m   [187624,\u001b[0m\u001b[37m \u001b[0m│\n",
       "│\u001b[2m     \u001b[0m│                                                │             │        │       │\u001b[37m \u001b[0m\u001b[37m        64]\u001b[0m\u001b[37m \u001b[0m│\u001b[37m \u001b[0m\u001b[37m       128]\u001b[0m\u001b[37m \u001b[0m│\n",
       "│\u001b[2m \u001b[0m\u001b[2m133\u001b[0m\u001b[2m \u001b[0m│ encoder.interaction_blocks.3.lin_feature2      │ TwoLinear   │  9.2 K │ train │\u001b[37m \u001b[0m\u001b[37m   [187624,\u001b[0m\u001b[37m \u001b[0m│\u001b[37m \u001b[0m\u001b[37m   [187624,\u001b[0m\u001b[37m \u001b[0m│\n",
       "│\u001b[2m     \u001b[0m│                                                │             │        │       │\u001b[37m \u001b[0m\u001b[37m        16]\u001b[0m\u001b[37m \u001b[0m│\u001b[37m \u001b[0m\u001b[37m       128]\u001b[0m\u001b[37m \u001b[0m│\n",
       "│\u001b[2m \u001b[0m\u001b[2m134\u001b[0m\u001b[2m \u001b[0m│ encoder.interaction_blocks.3.lin_feature2.lin1 │ Linear      │  1.0 K │ train │\u001b[37m \u001b[0m\u001b[37m   [187624,\u001b[0m\u001b[37m \u001b[0m│\u001b[37m \u001b[0m\u001b[37m   [187624,\u001b[0m\u001b[37m \u001b[0m│\n",
       "│\u001b[2m     \u001b[0m│                                                │             │        │       │\u001b[37m \u001b[0m\u001b[37m        16]\u001b[0m\u001b[37m \u001b[0m│\u001b[37m \u001b[0m\u001b[37m        64]\u001b[0m\u001b[37m \u001b[0m│\n",
       "│\u001b[2m \u001b[0m\u001b[2m135\u001b[0m\u001b[2m \u001b[0m│ encoder.interaction_blocks.3.lin_feature2.lin2 │ Linear      │  8.2 K │ train │\u001b[37m \u001b[0m\u001b[37m   [187624,\u001b[0m\u001b[37m \u001b[0m│\u001b[37m \u001b[0m\u001b[37m   [187624,\u001b[0m\u001b[37m \u001b[0m│\n",
       "│\u001b[2m     \u001b[0m│                                                │             │        │       │\u001b[37m \u001b[0m\u001b[37m        64]\u001b[0m\u001b[37m \u001b[0m│\u001b[37m \u001b[0m\u001b[37m       128]\u001b[0m\u001b[37m \u001b[0m│\n",
       "│\u001b[2m \u001b[0m\u001b[2m136\u001b[0m\u001b[2m \u001b[0m│ encoder.interaction_blocks.3.lin_1             │ Linear      │ 16.5 K │ train │\u001b[37m \u001b[0m\u001b[37m    [10538,\u001b[0m\u001b[37m \u001b[0m│\u001b[37m \u001b[0m\u001b[37m    [10538,\u001b[0m\u001b[37m \u001b[0m│\n",
       "│\u001b[2m     \u001b[0m│                                                │             │        │       │\u001b[37m \u001b[0m\u001b[37m       128]\u001b[0m\u001b[37m \u001b[0m│\u001b[37m \u001b[0m\u001b[37m       128]\u001b[0m\u001b[37m \u001b[0m│\n",
       "│\u001b[2m \u001b[0m\u001b[2m137\u001b[0m\u001b[2m \u001b[0m│ encoder.interaction_blocks.3.lin_2             │ Linear      │ 16.5 K │ train │\u001b[37m \u001b[0m\u001b[37m    [10538,\u001b[0m\u001b[37m \u001b[0m│\u001b[37m \u001b[0m\u001b[37m    [10538,\u001b[0m\u001b[37m \u001b[0m│\n",
       "│\u001b[2m     \u001b[0m│                                                │             │        │       │\u001b[37m \u001b[0m\u001b[37m       128]\u001b[0m\u001b[37m \u001b[0m│\u001b[37m \u001b[0m\u001b[37m       128]\u001b[0m\u001b[37m \u001b[0m│\n",
       "│\u001b[2m \u001b[0m\u001b[2m138\u001b[0m\u001b[2m \u001b[0m│ encoder.interaction_blocks.3.lin0              │ Linear      │ 16.5 K │ train │\u001b[37m \u001b[0m\u001b[37m    [10538,\u001b[0m\u001b[37m \u001b[0m│\u001b[37m \u001b[0m\u001b[37m    [10538,\u001b[0m\u001b[37m \u001b[0m│\n",
       "│\u001b[2m     \u001b[0m│                                                │             │        │       │\u001b[37m \u001b[0m\u001b[37m       128]\u001b[0m\u001b[37m \u001b[0m│\u001b[37m \u001b[0m\u001b[37m       128]\u001b[0m\u001b[37m \u001b[0m│\n",
       "│\u001b[2m \u001b[0m\u001b[2m139\u001b[0m\u001b[2m \u001b[0m│ encoder.interaction_blocks.3.lin1              │ Linear      │ 16.5 K │ train │\u001b[37m \u001b[0m\u001b[37m    [10538,\u001b[0m\u001b[37m \u001b[0m│\u001b[37m \u001b[0m\u001b[37m    [10538,\u001b[0m\u001b[37m \u001b[0m│\n",
       "│\u001b[2m     \u001b[0m│                                                │             │        │       │\u001b[37m \u001b[0m\u001b[37m       128]\u001b[0m\u001b[37m \u001b[0m│\u001b[37m \u001b[0m\u001b[37m       128]\u001b[0m\u001b[37m \u001b[0m│\n",
       "│\u001b[2m \u001b[0m\u001b[2m140\u001b[0m\u001b[2m \u001b[0m│ encoder.interaction_blocks.3.lin2              │ Linear      │ 16.5 K │ train │\u001b[37m \u001b[0m\u001b[37m    [10538,\u001b[0m\u001b[37m \u001b[0m│\u001b[37m \u001b[0m\u001b[37m    [10538,\u001b[0m\u001b[37m \u001b[0m│\n",
       "│\u001b[2m     \u001b[0m│                                                │             │        │       │\u001b[37m \u001b[0m\u001b[37m       128]\u001b[0m\u001b[37m \u001b[0m│\u001b[37m \u001b[0m\u001b[37m       128]\u001b[0m\u001b[37m \u001b[0m│\n",
       "│\u001b[2m \u001b[0m\u001b[2m141\u001b[0m\u001b[2m \u001b[0m│ encoder.interaction_blocks.3.lins_cat          │ ModuleList  │ 82.3 K │ train │\u001b[37m \u001b[0m\u001b[37m          ?\u001b[0m\u001b[37m \u001b[0m│\u001b[37m \u001b[0m\u001b[37m          ?\u001b[0m\u001b[37m \u001b[0m│\n",
       "│\u001b[2m \u001b[0m\u001b[2m142\u001b[0m\u001b[2m \u001b[0m│ encoder.interaction_blocks.3.lins_cat.0        │ Linear      │ 49.3 K │ train │\u001b[37m \u001b[0m\u001b[37m    [10538,\u001b[0m\u001b[37m \u001b[0m│\u001b[37m \u001b[0m\u001b[37m    [10538,\u001b[0m\u001b[37m \u001b[0m│\n",
       "│\u001b[2m     \u001b[0m│                                                │             │        │       │\u001b[37m \u001b[0m\u001b[37m       384]\u001b[0m\u001b[37m \u001b[0m│\u001b[37m \u001b[0m\u001b[37m       128]\u001b[0m\u001b[37m \u001b[0m│\n",
       "│\u001b[2m \u001b[0m\u001b[2m143\u001b[0m\u001b[2m \u001b[0m│ encoder.interaction_blocks.3.lins_cat.1        │ Linear      │ 16.5 K │ train │\u001b[37m \u001b[0m\u001b[37m    [10538,\u001b[0m\u001b[37m \u001b[0m│\u001b[37m \u001b[0m\u001b[37m    [10538,\u001b[0m\u001b[37m \u001b[0m│\n",
       "│\u001b[2m     \u001b[0m│                                                │             │        │       │\u001b[37m \u001b[0m\u001b[37m       128]\u001b[0m\u001b[37m \u001b[0m│\u001b[37m \u001b[0m\u001b[37m       128]\u001b[0m\u001b[37m \u001b[0m│\n",
       "│\u001b[2m \u001b[0m\u001b[2m144\u001b[0m\u001b[2m \u001b[0m│ encoder.interaction_blocks.3.lins_cat.2        │ Linear      │ 16.5 K │ train │\u001b[37m \u001b[0m\u001b[37m    [10538,\u001b[0m\u001b[37m \u001b[0m│\u001b[37m \u001b[0m\u001b[37m    [10538,\u001b[0m\u001b[37m \u001b[0m│\n",
       "│\u001b[2m     \u001b[0m│                                                │             │        │       │\u001b[37m \u001b[0m\u001b[37m       128]\u001b[0m\u001b[37m \u001b[0m│\u001b[37m \u001b[0m\u001b[37m       128]\u001b[0m\u001b[37m \u001b[0m│\n",
       "│\u001b[2m \u001b[0m\u001b[2m145\u001b[0m\u001b[2m \u001b[0m│ encoder.interaction_blocks.3.lins              │ ModuleList  │ 33.0 K │ train │\u001b[37m \u001b[0m\u001b[37m          ?\u001b[0m\u001b[37m \u001b[0m│\u001b[37m \u001b[0m\u001b[37m          ?\u001b[0m\u001b[37m \u001b[0m│\n",
       "│\u001b[2m \u001b[0m\u001b[2m146\u001b[0m\u001b[2m \u001b[0m│ encoder.interaction_blocks.3.lins.0            │ Linear      │ 16.5 K │ train │\u001b[37m \u001b[0m\u001b[37m    [10538,\u001b[0m\u001b[37m \u001b[0m│\u001b[37m \u001b[0m\u001b[37m    [10538,\u001b[0m\u001b[37m \u001b[0m│\n",
       "│\u001b[2m     \u001b[0m│                                                │             │        │       │\u001b[37m \u001b[0m\u001b[37m       128]\u001b[0m\u001b[37m \u001b[0m│\u001b[37m \u001b[0m\u001b[37m       128]\u001b[0m\u001b[37m \u001b[0m│\n",
       "│\u001b[2m \u001b[0m\u001b[2m147\u001b[0m\u001b[2m \u001b[0m│ encoder.interaction_blocks.3.lins.1            │ Linear      │ 16.5 K │ train │\u001b[37m \u001b[0m\u001b[37m    [10538,\u001b[0m\u001b[37m \u001b[0m│\u001b[37m \u001b[0m\u001b[37m    [10538,\u001b[0m\u001b[37m \u001b[0m│\n",
       "│\u001b[2m     \u001b[0m│                                                │             │        │       │\u001b[37m \u001b[0m\u001b[37m       128]\u001b[0m\u001b[37m \u001b[0m│\u001b[37m \u001b[0m\u001b[37m       128]\u001b[0m\u001b[37m \u001b[0m│\n",
       "│\u001b[2m \u001b[0m\u001b[2m148\u001b[0m\u001b[2m \u001b[0m│ encoder.interaction_blocks.3.final             │ Linear      │ 16.5 K │ train │\u001b[37m \u001b[0m\u001b[37m    [10538,\u001b[0m\u001b[37m \u001b[0m│\u001b[37m \u001b[0m\u001b[37m    [10538,\u001b[0m\u001b[37m \u001b[0m│\n",
       "│\u001b[2m     \u001b[0m│                                                │             │        │       │\u001b[37m \u001b[0m\u001b[37m       128]\u001b[0m\u001b[37m \u001b[0m│\u001b[37m \u001b[0m\u001b[37m       128]\u001b[0m\u001b[37m \u001b[0m│\n",
       "│\u001b[2m \u001b[0m\u001b[2m149\u001b[0m\u001b[2m \u001b[0m│ encoder.lins_out                               │ ModuleList  │ 16.5 K │ train │\u001b[37m \u001b[0m\u001b[37m          ?\u001b[0m\u001b[37m \u001b[0m│\u001b[37m \u001b[0m\u001b[37m          ?\u001b[0m\u001b[37m \u001b[0m│\n",
       "│\u001b[2m \u001b[0m\u001b[2m150\u001b[0m\u001b[2m \u001b[0m│ encoder.lins_out.0                             │ Linear      │ 16.5 K │ train │\u001b[37m \u001b[0m\u001b[37m  [32, 128]\u001b[0m\u001b[37m \u001b[0m│\u001b[37m \u001b[0m\u001b[37m  [32, 128]\u001b[0m\u001b[37m \u001b[0m│\n",
       "│\u001b[2m \u001b[0m\u001b[2m151\u001b[0m\u001b[2m \u001b[0m│ encoder.lin_out                                │ Linear      │  154 K │ train │\u001b[37m \u001b[0m\u001b[37m  [32, 128]\u001b[0m\u001b[37m \u001b[0m│\u001b[37m \u001b[0m\u001b[37m [32, 1195]\u001b[0m\u001b[37m \u001b[0m│\n",
       "│\u001b[2m \u001b[0m\u001b[2m152\u001b[0m\u001b[2m \u001b[0m│ encoder.relu                                   │ ReLU        │      0 │ train │\u001b[37m \u001b[0m\u001b[37m  [32, 128]\u001b[0m\u001b[37m \u001b[0m│\u001b[37m \u001b[0m\u001b[37m  [32, 128]\u001b[0m\u001b[37m \u001b[0m│\n",
       "│\u001b[2m \u001b[0m\u001b[2m153\u001b[0m\u001b[2m \u001b[0m│ encoder.dropout                                │ Dropout     │      0 │ train │\u001b[37m \u001b[0m\u001b[37m  [32, 128]\u001b[0m\u001b[37m \u001b[0m│\u001b[37m \u001b[0m\u001b[37m  [32, 128]\u001b[0m\u001b[37m \u001b[0m│\n",
       "│\u001b[2m \u001b[0m\u001b[2m154\u001b[0m\u001b[2m \u001b[0m│ decoder                                        │ ModuleDict  │      0 │ train │\u001b[37m \u001b[0m\u001b[37m          ?\u001b[0m\u001b[37m \u001b[0m│\u001b[37m \u001b[0m\u001b[37m          ?\u001b[0m\u001b[37m \u001b[0m│\n",
       "│\u001b[2m \u001b[0m\u001b[2m155\u001b[0m\u001b[2m \u001b[0m│ decoder.graph_label                            │ MLPDecoder  │      0 │ train │\u001b[37m \u001b[0m\u001b[37m [32, 1195]\u001b[0m\u001b[37m \u001b[0m│\u001b[37m \u001b[0m\u001b[37m [32, 1195]\u001b[0m\u001b[37m \u001b[0m│\n",
       "│\u001b[2m \u001b[0m\u001b[2m156\u001b[0m\u001b[2m \u001b[0m│ test_graph_label_accuracy                      │ Multiclass… │      0 │ train │\u001b[37m \u001b[0m\u001b[37m          ?\u001b[0m\u001b[37m \u001b[0m│\u001b[37m \u001b[0m\u001b[37m          ?\u001b[0m\u001b[37m \u001b[0m│\n",
       "│\u001b[2m \u001b[0m\u001b[2m157\u001b[0m\u001b[2m \u001b[0m│ val_graph_label_accuracy                       │ Multiclass… │      0 │ train │\u001b[37m \u001b[0m\u001b[37m          ?\u001b[0m\u001b[37m \u001b[0m│\u001b[37m \u001b[0m\u001b[37m          ?\u001b[0m\u001b[37m \u001b[0m│\n",
       "│\u001b[2m \u001b[0m\u001b[2m158\u001b[0m\u001b[2m \u001b[0m│ train_graph_label_accuracy                     │ Multiclass… │      0 │ train │\u001b[37m \u001b[0m\u001b[37m          ?\u001b[0m\u001b[37m \u001b[0m│\u001b[37m \u001b[0m\u001b[37m          ?\u001b[0m\u001b[37m \u001b[0m│\n",
       "│\u001b[2m \u001b[0m\u001b[2m159\u001b[0m\u001b[2m \u001b[0m│ test_graph_label_f1_score                      │ Multiclass… │      0 │ train │\u001b[37m \u001b[0m\u001b[37m          ?\u001b[0m\u001b[37m \u001b[0m│\u001b[37m \u001b[0m\u001b[37m          ?\u001b[0m\u001b[37m \u001b[0m│\n",
       "│\u001b[2m \u001b[0m\u001b[2m160\u001b[0m\u001b[2m \u001b[0m│ val_graph_label_f1_score                       │ Multiclass… │      0 │ train │\u001b[37m \u001b[0m\u001b[37m          ?\u001b[0m\u001b[37m \u001b[0m│\u001b[37m \u001b[0m\u001b[37m          ?\u001b[0m\u001b[37m \u001b[0m│\n",
       "│\u001b[2m \u001b[0m\u001b[2m161\u001b[0m\u001b[2m \u001b[0m│ train_graph_label_f1_score                     │ Multiclass… │      0 │ train │\u001b[37m \u001b[0m\u001b[37m          ?\u001b[0m\u001b[37m \u001b[0m│\u001b[37m \u001b[0m\u001b[37m          ?\u001b[0m\u001b[37m \u001b[0m│\n",
       "│\u001b[2m \u001b[0m\u001b[2m162\u001b[0m\u001b[2m \u001b[0m│ test_graph_label_f1_max                        │ F1Max       │      0 │ train │\u001b[37m \u001b[0m\u001b[37m          ?\u001b[0m\u001b[37m \u001b[0m│\u001b[37m \u001b[0m\u001b[37m          ?\u001b[0m\u001b[37m \u001b[0m│\n",
       "│\u001b[2m \u001b[0m\u001b[2m163\u001b[0m\u001b[2m \u001b[0m│ val_graph_label_f1_max                         │ F1Max       │      0 │ train │\u001b[37m \u001b[0m\u001b[37m          ?\u001b[0m\u001b[37m \u001b[0m│\u001b[37m \u001b[0m\u001b[37m          ?\u001b[0m\u001b[37m \u001b[0m│\n",
       "│\u001b[2m \u001b[0m\u001b[2m164\u001b[0m\u001b[2m \u001b[0m│ train_graph_label_f1_max                       │ F1Max       │      0 │ train │\u001b[37m \u001b[0m\u001b[37m          ?\u001b[0m\u001b[37m \u001b[0m│\u001b[37m \u001b[0m\u001b[37m          ?\u001b[0m\u001b[37m \u001b[0m│\n",
       "│\u001b[2m \u001b[0m\u001b[2m165\u001b[0m\u001b[2m \u001b[0m│ featuriser                                     │ ProteinFea… │      0 │ train │\u001b[37m \u001b[0m\u001b[37m          ?\u001b[0m\u001b[37m \u001b[0m│\u001b[37m \u001b[0m\u001b[37m          ?\u001b[0m\u001b[37m \u001b[0m│\n",
       "└─────┴────────────────────────────────────────────────┴─────────────┴────────┴───────┴─────────────┴─────────────┘\n"
      ]
     },
     "metadata": {},
     "output_type": "display_data"
    },
    {
     "data": {
      "text/html": [
       "<pre style=\"white-space:pre;overflow-x:auto;line-height:normal;font-family:Menlo,'DejaVu Sans Mono',consolas,'Courier New',monospace\"><span style=\"font-weight: bold\">Trainable params</span>: 1.5 M                                                                                            \n",
       "<span style=\"font-weight: bold\">Non-trainable params</span>: 0                                                                                            \n",
       "<span style=\"font-weight: bold\">Total params</span>: 1.5 M                                                                                                \n",
       "<span style=\"font-weight: bold\">Total estimated model params size (MB)</span>: 6                                                                          \n",
       "</pre>\n"
      ],
      "text/plain": [
       "\u001b[1mTrainable params\u001b[0m: 1.5 M                                                                                            \n",
       "\u001b[1mNon-trainable params\u001b[0m: 0                                                                                            \n",
       "\u001b[1mTotal params\u001b[0m: 1.5 M                                                                                                \n",
       "\u001b[1mTotal estimated model params size (MB)\u001b[0m: 6                                                                          \n"
      ]
     },
     "metadata": {},
     "output_type": "display_data"
    },
    {
     "data": {
      "application/vnd.jupyter.widget-view+json": {
       "model_id": "ed053f9af13b4f12bd1ee5c3b24dd969",
       "version_major": 2,
       "version_minor": 0
      },
      "text/plain": [
       "Output()"
      ]
     },
     "metadata": {},
     "output_type": "display_data"
    },
    {
     "name": "stderr",
     "output_type": "stream",
     "text": [
      "Metric val/graph_label/accuracy improved. New best score: 0.064\n",
      "Metric train/loss/total improved. New best score: 5.761\n",
      "Epoch 0, global step 385: 'val/graph_label/accuracy' reached 0.06386 (best 0.06386), saving model to '/home/yang/Yang_ZHANG/Projects/3d/ProteinWorkshop/notebooks/outputs/checkpoints/epoch_000.ckpt' as top 1\n"
     ]
    },
    {
     "name": "stderr",
     "output_type": "stream",
     "text": [
      "Metric val/graph_label/accuracy improved by 0.043 >= min_delta = 0.0. New best score: 0.107\n",
      "Metric train/loss/total improved by 0.628 >= min_delta = 0.0. New best score: 5.133\n",
      "Epoch 1, global step 770: 'val/graph_label/accuracy' reached 0.10734 (best 0.10734), saving model to '/home/yang/Yang_ZHANG/Projects/3d/ProteinWorkshop/notebooks/outputs/checkpoints/epoch_001.ckpt' as top 1\n"
     ]
    },
    {
     "name": "stderr",
     "output_type": "stream",
     "text": [
      "Metric val/graph_label/accuracy improved by 0.001 >= min_delta = 0.0. New best score: 0.109\n",
      "Metric train/loss/total improved by 0.630 >= min_delta = 0.0. New best score: 4.503\n",
      "Epoch 2, global step 1155: 'val/graph_label/accuracy' reached 0.10870 (best 0.10870), saving model to '/home/yang/Yang_ZHANG/Projects/3d/ProteinWorkshop/notebooks/outputs/checkpoints/epoch_002.ckpt' as top 1\n"
     ]
    },
    {
     "name": "stderr",
     "output_type": "stream",
     "text": [
      "Metric val/graph_label/accuracy improved by 0.010 >= min_delta = 0.0. New best score: 0.118\n",
      "Metric train/loss/total improved by 0.007 >= min_delta = 0.0. New best score: 4.497\n",
      "Epoch 3, global step 1540: 'val/graph_label/accuracy' reached 0.11821 (best 0.11821), saving model to '/home/yang/Yang_ZHANG/Projects/3d/ProteinWorkshop/notebooks/outputs/checkpoints/epoch_003.ckpt' as top 1\n"
     ]
    },
    {
     "name": "stderr",
     "output_type": "stream",
     "text": [
      "Metric val/graph_label/accuracy improved by 0.012 >= min_delta = 0.0. New best score: 0.130\n",
      "Metric train/loss/total improved by 1.124 >= min_delta = 0.0. New best score: 3.373\n",
      "Epoch 4, global step 1925: 'val/graph_label/accuracy' reached 0.13043 (best 0.13043), saving model to '/home/yang/Yang_ZHANG/Projects/3d/ProteinWorkshop/notebooks/outputs/checkpoints/epoch_004.ckpt' as top 1\n"
     ]
    },
    {
     "name": "stderr",
     "output_type": "stream",
     "text": [
      "Metric val/graph_label/accuracy improved by 0.034 >= min_delta = 0.0. New best score: 0.164\n",
      "Epoch 5, global step 2310: 'val/graph_label/accuracy' reached 0.16440 (best 0.16440), saving model to '/home/yang/Yang_ZHANG/Projects/3d/ProteinWorkshop/notebooks/outputs/checkpoints/epoch_005.ckpt' as top 1\n"
     ]
    },
    {
     "name": "stderr",
     "output_type": "stream",
     "text": [
      "Metric val/graph_label/accuracy improved by 0.035 >= min_delta = 0.0. New best score: 0.200\n",
      "Metric train/loss/total improved by 0.270 >= min_delta = 0.0. New best score: 3.103\n",
      "Epoch 6, global step 2695: 'val/graph_label/accuracy' reached 0.19973 (best 0.19973), saving model to '/home/yang/Yang_ZHANG/Projects/3d/ProteinWorkshop/notebooks/outputs/checkpoints/epoch_006.ckpt' as top 1\n"
     ]
    },
    {
     "name": "stderr",
     "output_type": "stream",
     "text": [
      "Metric val/graph_label/accuracy improved by 0.010 >= min_delta = 0.0. New best score: 0.209\n",
      "Epoch 7, global step 3080: 'val/graph_label/accuracy' reached 0.20924 (best 0.20924), saving model to '/home/yang/Yang_ZHANG/Projects/3d/ProteinWorkshop/notebooks/outputs/checkpoints/epoch_007.ckpt' as top 1\n"
     ]
    },
    {
     "name": "stderr",
     "output_type": "stream",
     "text": [
      "Metric val/graph_label/accuracy improved by 0.015 >= min_delta = 0.0. New best score: 0.224\n",
      "Metric train/loss/total improved by 0.800 >= min_delta = 0.0. New best score: 2.303\n",
      "Epoch 8, global step 3465: 'val/graph_label/accuracy' reached 0.22418 (best 0.22418), saving model to '/home/yang/Yang_ZHANG/Projects/3d/ProteinWorkshop/notebooks/outputs/checkpoints/epoch_008.ckpt' as top 1\n"
     ]
    },
    {
     "name": "stderr",
     "output_type": "stream",
     "text": [
      "Metric val/graph_label/accuracy improved by 0.014 >= min_delta = 0.0. New best score: 0.238\n",
      "Epoch 9, global step 3850: 'val/graph_label/accuracy' reached 0.23777 (best 0.23777), saving model to '/home/yang/Yang_ZHANG/Projects/3d/ProteinWorkshop/notebooks/outputs/checkpoints/epoch_009.ckpt' as top 1\n"
     ]
    },
    {
     "name": "stderr",
     "output_type": "stream",
     "text": [
      "Metric val/graph_label/accuracy improved by 0.019 >= min_delta = 0.0. New best score: 0.257\n",
      "Epoch 10, global step 4235: 'val/graph_label/accuracy' reached 0.25679 (best 0.25679), saving model to '/home/yang/Yang_ZHANG/Projects/3d/ProteinWorkshop/notebooks/outputs/checkpoints/epoch_010.ckpt' as top 1\n"
     ]
    },
    {
     "name": "stderr",
     "output_type": "stream",
     "text": [
      "Metric train/loss/total improved by 0.710 >= min_delta = 0.0. New best score: 1.592\n",
      "Epoch 11, global step 4620: 'val/graph_label/accuracy' was not in top 1\n"
     ]
    },
    {
     "name": "stderr",
     "output_type": "stream",
     "text": [
      "Metric val/graph_label/accuracy improved by 0.048 >= min_delta = 0.0. New best score: 0.304\n",
      "Epoch 12, global step 5005: 'val/graph_label/accuracy' reached 0.30435 (best 0.30435), saving model to '/home/yang/Yang_ZHANG/Projects/3d/ProteinWorkshop/notebooks/outputs/checkpoints/epoch_012.ckpt' as top 1\n"
     ]
    },
    {
     "name": "stderr",
     "output_type": "stream",
     "text": [
      "Epoch 13, global step 5390: 'val/graph_label/accuracy' was not in top 1\n"
     ]
    },
    {
     "name": "stderr",
     "output_type": "stream",
     "text": [
      "Metric val/graph_label/accuracy improved by 0.016 >= min_delta = 0.0. New best score: 0.321\n",
      "Epoch 14, global step 5775: 'val/graph_label/accuracy' reached 0.32065 (best 0.32065), saving model to '/home/yang/Yang_ZHANG/Projects/3d/ProteinWorkshop/notebooks/outputs/checkpoints/epoch_014.ckpt' as top 1\n"
     ]
    },
    {
     "name": "stderr",
     "output_type": "stream",
     "text": [
      "Metric train/loss/total improved by 0.396 >= min_delta = 0.0. New best score: 1.196\n",
      "Epoch 15, global step 6160: 'val/graph_label/accuracy' was not in top 1\n"
     ]
    },
    {
     "name": "stderr",
     "output_type": "stream",
     "text": [
      "Metric val/graph_label/accuracy improved by 0.015 >= min_delta = 0.0. New best score: 0.336\n",
      "Epoch 16, global step 6545: 'val/graph_label/accuracy' reached 0.33560 (best 0.33560), saving model to '/home/yang/Yang_ZHANG/Projects/3d/ProteinWorkshop/notebooks/outputs/checkpoints/epoch_016.ckpt' as top 1\n"
     ]
    },
    {
     "name": "stderr",
     "output_type": "stream",
     "text": [
      "Metric train/loss/total improved by 0.214 >= min_delta = 0.0. New best score: 0.982\n",
      "Epoch 17, global step 6930: 'val/graph_label/accuracy' was not in top 1\n"
     ]
    },
    {
     "name": "stderr",
     "output_type": "stream",
     "text": [
      "Metric val/graph_label/accuracy improved by 0.026 >= min_delta = 0.0. New best score: 0.361\n",
      "Metric train/loss/total improved by 0.218 >= min_delta = 0.0. New best score: 0.764\n",
      "Epoch 18, global step 7315: 'val/graph_label/accuracy' reached 0.36141 (best 0.36141), saving model to '/home/yang/Yang_ZHANG/Projects/3d/ProteinWorkshop/notebooks/outputs/checkpoints/epoch_018.ckpt' as top 1\n"
     ]
    },
    {
     "name": "stderr",
     "output_type": "stream",
     "text": [
      "Epoch 19, global step 7700: 'val/graph_label/accuracy' was not in top 1\n"
     ]
    },
    {
     "name": "stderr",
     "output_type": "stream",
     "text": [
      "Epoch 20, global step 8085: 'val/graph_label/accuracy' was not in top 1\n"
     ]
    },
    {
     "name": "stderr",
     "output_type": "stream",
     "text": [
      "Epoch 21, global step 8470: 'val/graph_label/accuracy' was not in top 1\n"
     ]
    },
    {
     "name": "stderr",
     "output_type": "stream",
     "text": [
      "Epoch 22, global step 8855: 'val/graph_label/accuracy' was not in top 1\n"
     ]
    },
    {
     "name": "stderr",
     "output_type": "stream",
     "text": [
      "Epoch 23, global step 9240: 'val/graph_label/accuracy' was not in top 1\n"
     ]
    },
    {
     "name": "stderr",
     "output_type": "stream",
     "text": [
      "Epoch 24, global step 9625: 'val/graph_label/accuracy' was not in top 1\n"
     ]
    },
    {
     "name": "stderr",
     "output_type": "stream",
     "text": [
      "Metric val/graph_label/accuracy improved by 0.008 >= min_delta = 0.0. New best score: 0.370\n",
      "Metric train/loss/total improved by 0.013 >= min_delta = 0.0. New best score: 0.751\n",
      "Epoch 25, global step 10010: 'val/graph_label/accuracy' reached 0.36957 (best 0.36957), saving model to '/home/yang/Yang_ZHANG/Projects/3d/ProteinWorkshop/notebooks/outputs/checkpoints/epoch_025.ckpt' as top 1\n"
     ]
    },
    {
     "name": "stderr",
     "output_type": "stream",
     "text": [
      "Metric val/graph_label/accuracy improved by 0.015 >= min_delta = 0.0. New best score: 0.385\n",
      "Epoch 26, global step 10395: 'val/graph_label/accuracy' reached 0.38451 (best 0.38451), saving model to '/home/yang/Yang_ZHANG/Projects/3d/ProteinWorkshop/notebooks/outputs/checkpoints/epoch_026.ckpt' as top 1\n"
     ]
    },
    {
     "name": "stderr",
     "output_type": "stream",
     "text": [
      "Metric val/graph_label/accuracy improved by 0.003 >= min_delta = 0.0. New best score: 0.387\n",
      "Epoch 27, global step 10780: 'val/graph_label/accuracy' reached 0.38723 (best 0.38723), saving model to '/home/yang/Yang_ZHANG/Projects/3d/ProteinWorkshop/notebooks/outputs/checkpoints/epoch_027.ckpt' as top 1\n"
     ]
    },
    {
     "name": "stderr",
     "output_type": "stream",
     "text": [
      "Metric val/graph_label/accuracy improved by 0.003 >= min_delta = 0.0. New best score: 0.390\n",
      "Epoch 28, global step 11165: 'val/graph_label/accuracy' reached 0.38995 (best 0.38995), saving model to '/home/yang/Yang_ZHANG/Projects/3d/ProteinWorkshop/notebooks/outputs/checkpoints/epoch_028.ckpt' as top 1\n"
     ]
    },
    {
     "name": "stderr",
     "output_type": "stream",
     "text": [
      "Metric val/graph_label/accuracy improved by 0.003 >= min_delta = 0.0. New best score: 0.393\n",
      "Epoch 29, global step 11550: 'val/graph_label/accuracy' reached 0.39266 (best 0.39266), saving model to '/home/yang/Yang_ZHANG/Projects/3d/ProteinWorkshop/notebooks/outputs/checkpoints/epoch_029.ckpt' as top 1\n"
     ]
    },
    {
     "name": "stderr",
     "output_type": "stream",
     "text": [
      "Epoch 30, global step 11935: 'val/graph_label/accuracy' was not in top 1\n"
     ]
    },
    {
     "name": "stderr",
     "output_type": "stream",
     "text": [
      "Metric val/graph_label/accuracy improved by 0.018 >= min_delta = 0.0. New best score: 0.410\n",
      "Epoch 31, global step 12320: 'val/graph_label/accuracy' reached 0.41033 (best 0.41033), saving model to '/home/yang/Yang_ZHANG/Projects/3d/ProteinWorkshop/notebooks/outputs/checkpoints/epoch_031.ckpt' as top 1\n"
     ]
    },
    {
     "name": "stderr",
     "output_type": "stream",
     "text": [
      "Metric train/loss/total improved by 0.222 >= min_delta = 0.0. New best score: 0.530\n",
      "Epoch 32, global step 12705: 'val/graph_label/accuracy' was not in top 1\n"
     ]
    },
    {
     "name": "stderr",
     "output_type": "stream",
     "text": [
      "Epoch 33, global step 13090: 'val/graph_label/accuracy' was not in top 1\n"
     ]
    },
    {
     "name": "stderr",
     "output_type": "stream",
     "text": [
      "Metric val/graph_label/accuracy improved by 0.011 >= min_delta = 0.0. New best score: 0.421\n",
      "Epoch 34, global step 13475: 'val/graph_label/accuracy' reached 0.42120 (best 0.42120), saving model to '/home/yang/Yang_ZHANG/Projects/3d/ProteinWorkshop/notebooks/outputs/checkpoints/epoch_034.ckpt' as top 1\n"
     ]
    },
    {
     "name": "stderr",
     "output_type": "stream",
     "text": [
      "Metric val/graph_label/accuracy improved by 0.004 >= min_delta = 0.0. New best score: 0.425\n",
      "Epoch 35, global step 13860: 'val/graph_label/accuracy' reached 0.42527 (best 0.42527), saving model to '/home/yang/Yang_ZHANG/Projects/3d/ProteinWorkshop/notebooks/outputs/checkpoints/epoch_035.ckpt' as top 1\n"
     ]
    },
    {
     "name": "stderr",
     "output_type": "stream",
     "text": [
      "Metric val/graph_label/accuracy improved by 0.005 >= min_delta = 0.0. New best score: 0.431\n",
      "Epoch 36, global step 14245: 'val/graph_label/accuracy' reached 0.43071 (best 0.43071), saving model to '/home/yang/Yang_ZHANG/Projects/3d/ProteinWorkshop/notebooks/outputs/checkpoints/epoch_036.ckpt' as top 1\n"
     ]
    },
    {
     "name": "stderr",
     "output_type": "stream",
     "text": [
      "Epoch 37, global step 14630: 'val/graph_label/accuracy' was not in top 1\n"
     ]
    },
    {
     "name": "stderr",
     "output_type": "stream",
     "text": [
      "Epoch 38, global step 15015: 'val/graph_label/accuracy' was not in top 1\n"
     ]
    },
    {
     "name": "stderr",
     "output_type": "stream",
     "text": [
      "Metric val/graph_label/accuracy improved by 0.003 >= min_delta = 0.0. New best score: 0.433\n",
      "Epoch 39, global step 15400: 'val/graph_label/accuracy' reached 0.43342 (best 0.43342), saving model to '/home/yang/Yang_ZHANG/Projects/3d/ProteinWorkshop/notebooks/outputs/checkpoints/epoch_039.ckpt' as top 1\n"
     ]
    },
    {
     "name": "stderr",
     "output_type": "stream",
     "text": [
      "Metric val/graph_label/accuracy improved by 0.008 >= min_delta = 0.0. New best score: 0.442\n",
      "Epoch 40, global step 15785: 'val/graph_label/accuracy' reached 0.44158 (best 0.44158), saving model to '/home/yang/Yang_ZHANG/Projects/3d/ProteinWorkshop/notebooks/outputs/checkpoints/epoch_040.ckpt' as top 1\n"
     ]
    },
    {
     "name": "stderr",
     "output_type": "stream",
     "text": [
      "Epoch 41, global step 16170: 'val/graph_label/accuracy' was not in top 1\n"
     ]
    },
    {
     "name": "stderr",
     "output_type": "stream",
     "text": [
      "Epoch 42, global step 16555: 'val/graph_label/accuracy' was not in top 1\n"
     ]
    },
    {
     "name": "stderr",
     "output_type": "stream",
     "text": [
      "Epoch 43, global step 16940: 'val/graph_label/accuracy' was not in top 1\n"
     ]
    },
    {
     "name": "stderr",
     "output_type": "stream",
     "text": [
      "Metric train/loss/total improved by 0.190 >= min_delta = 0.0. New best score: 0.340\n",
      "Epoch 44, global step 17325: 'val/graph_label/accuracy' was not in top 1\n"
     ]
    },
    {
     "name": "stderr",
     "output_type": "stream",
     "text": [
      "Metric train/loss/total improved by 0.216 >= min_delta = 0.0. New best score: 0.124\n",
      "Epoch 45, global step 17710: 'val/graph_label/accuracy' was not in top 1\n"
     ]
    },
    {
     "name": "stderr",
     "output_type": "stream",
     "text": [
      "Metric val/graph_label/accuracy improved by 0.007 >= min_delta = 0.0. New best score: 0.448\n",
      "Epoch 46, global step 18095: 'val/graph_label/accuracy' reached 0.44837 (best 0.44837), saving model to '/home/yang/Yang_ZHANG/Projects/3d/ProteinWorkshop/notebooks/outputs/checkpoints/epoch_046.ckpt' as top 1\n"
     ]
    },
    {
     "name": "stderr",
     "output_type": "stream",
     "text": [
      "Epoch 47, global step 18480: 'val/graph_label/accuracy' was not in top 1\n"
     ]
    },
    {
     "name": "stderr",
     "output_type": "stream",
     "text": [
      "Epoch 48, global step 18865: 'val/graph_label/accuracy' was not in top 1\n"
     ]
    },
    {
     "name": "stderr",
     "output_type": "stream",
     "text": [
      "Epoch 49, global step 19250: 'val/graph_label/accuracy' was not in top 1\n"
     ]
    },
    {
     "name": "stderr",
     "output_type": "stream",
     "text": [
      "Epoch 50, global step 19635: 'val/graph_label/accuracy' was not in top 1\n"
     ]
    },
    {
     "name": "stderr",
     "output_type": "stream",
     "text": [
      "Epoch 51, global step 20020: 'val/graph_label/accuracy' was not in top 1\n"
     ]
    },
    {
     "name": "stderr",
     "output_type": "stream",
     "text": [
      "Epoch 52, global step 20405: 'val/graph_label/accuracy' was not in top 1\n"
     ]
    },
    {
     "name": "stderr",
     "output_type": "stream",
     "text": [
      "Epoch 53, global step 20790: 'val/graph_label/accuracy' was not in top 1\n"
     ]
    },
    {
     "name": "stderr",
     "output_type": "stream",
     "text": [
      "Epoch 54, global step 21175: 'val/graph_label/accuracy' was not in top 1\n"
     ]
    },
    {
     "name": "stderr",
     "output_type": "stream",
     "text": [
      "Epoch 55, global step 21560: 'val/graph_label/accuracy' was not in top 1\n"
     ]
    },
    {
     "name": "stderr",
     "output_type": "stream",
     "text": [
      "Epoch 56, global step 21945: 'val/graph_label/accuracy' was not in top 1\n"
     ]
    },
    {
     "name": "stderr",
     "output_type": "stream",
     "text": [
      "Metric val/graph_label/accuracy improved by 0.003 >= min_delta = 0.0. New best score: 0.451\n",
      "Epoch 57, global step 22330: 'val/graph_label/accuracy' reached 0.45109 (best 0.45109), saving model to '/home/yang/Yang_ZHANG/Projects/3d/ProteinWorkshop/notebooks/outputs/checkpoints/epoch_057.ckpt' as top 1\n"
     ]
    },
    {
     "name": "stderr",
     "output_type": "stream",
     "text": [
      "Metric val/graph_label/accuracy improved by 0.014 >= min_delta = 0.0. New best score: 0.465\n",
      "Epoch 58, global step 22715: 'val/graph_label/accuracy' reached 0.46467 (best 0.46467), saving model to '/home/yang/Yang_ZHANG/Projects/3d/ProteinWorkshop/notebooks/outputs/checkpoints/epoch_058.ckpt' as top 1\n"
     ]
    },
    {
     "name": "stderr",
     "output_type": "stream",
     "text": [
      "Epoch 59, global step 23100: 'val/graph_label/accuracy' was not in top 1\n"
     ]
    },
    {
     "name": "stderr",
     "output_type": "stream",
     "text": [
      "Epoch 60, global step 23485: 'val/graph_label/accuracy' was not in top 1\n"
     ]
    },
    {
     "name": "stderr",
     "output_type": "stream",
     "text": [
      "Epoch 61, global step 23870: 'val/graph_label/accuracy' was not in top 1\n"
     ]
    },
    {
     "name": "stderr",
     "output_type": "stream",
     "text": [
      "Epoch 62, global step 24255: 'val/graph_label/accuracy' was not in top 1\n"
     ]
    },
    {
     "name": "stderr",
     "output_type": "stream",
     "text": [
      "Metric val/graph_label/accuracy improved by 0.003 >= min_delta = 0.0. New best score: 0.467\n",
      "Epoch 63, global step 24640: 'val/graph_label/accuracy' reached 0.46739 (best 0.46739), saving model to '/home/yang/Yang_ZHANG/Projects/3d/ProteinWorkshop/notebooks/outputs/checkpoints/epoch_063.ckpt' as top 1\n"
     ]
    },
    {
     "name": "stderr",
     "output_type": "stream",
     "text": [
      "Epoch 64, global step 25025: 'val/graph_label/accuracy' was not in top 1\n"
     ]
    },
    {
     "name": "stderr",
     "output_type": "stream",
     "text": [
      "Metric val/graph_label/accuracy improved by 0.004 >= min_delta = 0.0. New best score: 0.471\n",
      "Epoch 65, global step 25410: 'val/graph_label/accuracy' reached 0.47147 (best 0.47147), saving model to '/home/yang/Yang_ZHANG/Projects/3d/ProteinWorkshop/notebooks/outputs/checkpoints/epoch_065.ckpt' as top 1\n"
     ]
    },
    {
     "name": "stderr",
     "output_type": "stream",
     "text": [
      "Epoch 66, global step 25795: 'val/graph_label/accuracy' was not in top 1\n"
     ]
    },
    {
     "name": "stderr",
     "output_type": "stream",
     "text": [
      "Epoch 67, global step 26180: 'val/graph_label/accuracy' was not in top 1\n"
     ]
    },
    {
     "name": "stderr",
     "output_type": "stream",
     "text": [
      "Epoch 68, global step 26565: 'val/graph_label/accuracy' was not in top 1\n"
     ]
    },
    {
     "name": "stderr",
     "output_type": "stream",
     "text": [
      "Epoch 69, global step 26950: 'val/graph_label/accuracy' was not in top 1\n"
     ]
    },
    {
     "name": "stderr",
     "output_type": "stream",
     "text": [
      "Epoch 70, global step 27335: 'val/graph_label/accuracy' was not in top 1\n"
     ]
    },
    {
     "name": "stderr",
     "output_type": "stream",
     "text": [
      "Epoch 71, global step 27720: 'val/graph_label/accuracy' was not in top 1\n"
     ]
    },
    {
     "name": "stderr",
     "output_type": "stream",
     "text": [
      "Metric val/graph_label/accuracy improved by 0.008 >= min_delta = 0.0. New best score: 0.480\n",
      "Epoch 72, global step 28105: 'val/graph_label/accuracy' reached 0.47962 (best 0.47962), saving model to '/home/yang/Yang_ZHANG/Projects/3d/ProteinWorkshop/notebooks/outputs/checkpoints/epoch_072.ckpt' as top 1\n"
     ]
    },
    {
     "name": "stderr",
     "output_type": "stream",
     "text": [
      "Epoch 73, global step 28490: 'val/graph_label/accuracy' was not in top 1\n"
     ]
    },
    {
     "name": "stderr",
     "output_type": "stream",
     "text": [
      "Epoch 74, global step 28875: 'val/graph_label/accuracy' was not in top 1\n"
     ]
    },
    {
     "name": "stderr",
     "output_type": "stream",
     "text": [
      "Epoch 75, global step 29260: 'val/graph_label/accuracy' was not in top 1\n"
     ]
    },
    {
     "name": "stderr",
     "output_type": "stream",
     "text": [
      "Epoch 76, global step 29645: 'val/graph_label/accuracy' was not in top 1\n"
     ]
    },
    {
     "name": "stderr",
     "output_type": "stream",
     "text": [
      "Epoch 77, global step 30030: 'val/graph_label/accuracy' was not in top 1\n"
     ]
    },
    {
     "name": "stderr",
     "output_type": "stream",
     "text": [
      "Epoch 78, global step 30415: 'val/graph_label/accuracy' was not in top 1\n"
     ]
    },
    {
     "name": "stderr",
     "output_type": "stream",
     "text": [
      "Epoch 79, global step 30800: 'val/graph_label/accuracy' was not in top 1\n"
     ]
    },
    {
     "name": "stderr",
     "output_type": "stream",
     "text": [
      "Epoch 80, global step 31185: 'val/graph_label/accuracy' was not in top 1\n"
     ]
    },
    {
     "name": "stderr",
     "output_type": "stream",
     "text": [
      "Epoch 81, global step 31570: 'val/graph_label/accuracy' was not in top 1\n"
     ]
    },
    {
     "name": "stderr",
     "output_type": "stream",
     "text": [
      "Epoch 82, global step 31955: 'val/graph_label/accuracy' was not in top 1\n"
     ]
    },
    {
     "name": "stderr",
     "output_type": "stream",
     "text": [
      "Epoch 83, global step 32340: 'val/graph_label/accuracy' was not in top 1\n"
     ]
    },
    {
     "name": "stderr",
     "output_type": "stream",
     "text": [
      "Metric val/graph_label/accuracy improved by 0.018 >= min_delta = 0.0. New best score: 0.497\n",
      "Epoch 84, global step 32725: 'val/graph_label/accuracy' reached 0.49728 (best 0.49728), saving model to '/home/yang/Yang_ZHANG/Projects/3d/ProteinWorkshop/notebooks/outputs/checkpoints/epoch_084.ckpt' as top 1\n"
     ]
    },
    {
     "name": "stderr",
     "output_type": "stream",
     "text": [
      "Epoch 85, global step 33110: 'val/graph_label/accuracy' was not in top 1\n"
     ]
    },
    {
     "name": "stderr",
     "output_type": "stream",
     "text": [
      "Metric val/graph_label/accuracy improved by 0.004 >= min_delta = 0.0. New best score: 0.501\n",
      "Epoch 86, global step 33495: 'val/graph_label/accuracy' reached 0.50136 (best 0.50136), saving model to '/home/yang/Yang_ZHANG/Projects/3d/ProteinWorkshop/notebooks/outputs/checkpoints/epoch_086.ckpt' as top 1\n"
     ]
    },
    {
     "name": "stderr",
     "output_type": "stream",
     "text": [
      "Epoch 87, global step 33880: 'val/graph_label/accuracy' was not in top 1\n"
     ]
    },
    {
     "name": "stderr",
     "output_type": "stream",
     "text": [
      "Epoch 88, global step 34265: 'val/graph_label/accuracy' was not in top 1\n"
     ]
    },
    {
     "name": "stderr",
     "output_type": "stream",
     "text": [
      "Epoch 89, global step 34650: 'val/graph_label/accuracy' was not in top 1\n"
     ]
    },
    {
     "name": "stderr",
     "output_type": "stream",
     "text": [
      "Epoch 90, global step 35035: 'val/graph_label/accuracy' was not in top 1\n"
     ]
    },
    {
     "name": "stderr",
     "output_type": "stream",
     "text": [
      "Metric train/loss/total improved by 0.013 >= min_delta = 0.0. New best score: 0.111\n",
      "Epoch 91, global step 35420: 'val/graph_label/accuracy' was not in top 1\n"
     ]
    },
    {
     "name": "stderr",
     "output_type": "stream",
     "text": [
      "Epoch 92, global step 35805: 'val/graph_label/accuracy' was not in top 1\n"
     ]
    },
    {
     "name": "stderr",
     "output_type": "stream",
     "text": [
      "Epoch 93, global step 36190: 'val/graph_label/accuracy' was not in top 1\n"
     ]
    },
    {
     "name": "stderr",
     "output_type": "stream",
     "text": [
      "Epoch 94, global step 36575: 'val/graph_label/accuracy' was not in top 1\n"
     ]
    },
    {
     "name": "stderr",
     "output_type": "stream",
     "text": [
      "Metric train/loss/total improved by 0.033 >= min_delta = 0.0. New best score: 0.078\n",
      "Epoch 95, global step 36960: 'val/graph_label/accuracy' was not in top 1\n"
     ]
    },
    {
     "name": "stderr",
     "output_type": "stream",
     "text": [
      "Epoch 96, global step 37345: 'val/graph_label/accuracy' was not in top 1\n"
     ]
    },
    {
     "name": "stderr",
     "output_type": "stream",
     "text": [
      "Epoch 97, global step 37730: 'val/graph_label/accuracy' was not in top 1\n"
     ]
    },
    {
     "name": "stderr",
     "output_type": "stream",
     "text": [
      "Epoch 98, global step 38115: 'val/graph_label/accuracy' was not in top 1\n"
     ]
    },
    {
     "name": "stderr",
     "output_type": "stream",
     "text": [
      "Metric val/graph_label/accuracy improved by 0.008 >= min_delta = 0.0. New best score: 0.510\n",
      "Epoch 99, global step 38500: 'val/graph_label/accuracy' reached 0.50951 (best 0.50951), saving model to '/home/yang/Yang_ZHANG/Projects/3d/ProteinWorkshop/notebooks/outputs/checkpoints/epoch_099.ckpt' as top 1\n"
     ]
    },
    {
     "name": "stderr",
     "output_type": "stream",
     "text": [
      "Epoch 100, global step 38885: 'val/graph_label/accuracy' was not in top 1\n"
     ]
    },
    {
     "name": "stderr",
     "output_type": "stream",
     "text": [
      "Epoch 101, global step 39270: 'val/graph_label/accuracy' was not in top 1\n"
     ]
    },
    {
     "name": "stderr",
     "output_type": "stream",
     "text": [
      "Metric val/graph_label/accuracy improved by 0.010 >= min_delta = 0.0. New best score: 0.519\n",
      "Epoch 102, global step 39655: 'val/graph_label/accuracy' reached 0.51902 (best 0.51902), saving model to '/home/yang/Yang_ZHANG/Projects/3d/ProteinWorkshop/notebooks/outputs/checkpoints/epoch_102.ckpt' as top 1\n"
     ]
    },
    {
     "name": "stderr",
     "output_type": "stream",
     "text": [
      "Epoch 103, global step 40040: 'val/graph_label/accuracy' was not in top 1\n"
     ]
    },
    {
     "name": "stderr",
     "output_type": "stream",
     "text": [
      "Epoch 104, global step 40425: 'val/graph_label/accuracy' was not in top 1\n"
     ]
    },
    {
     "name": "stderr",
     "output_type": "stream",
     "text": [
      "Metric train/loss/total improved by 0.002 >= min_delta = 0.0. New best score: 0.076\n",
      "Epoch 105, global step 40810: 'val/graph_label/accuracy' was not in top 1\n"
     ]
    },
    {
     "name": "stderr",
     "output_type": "stream",
     "text": [
      "Epoch 106, global step 41195: 'val/graph_label/accuracy' was not in top 1\n"
     ]
    },
    {
     "name": "stderr",
     "output_type": "stream",
     "text": [
      "Epoch 107, global step 41580: 'val/graph_label/accuracy' was not in top 1\n"
     ]
    },
    {
     "name": "stderr",
     "output_type": "stream",
     "text": [
      "Epoch 108, global step 41965: 'val/graph_label/accuracy' was not in top 1\n"
     ]
    },
    {
     "name": "stderr",
     "output_type": "stream",
     "text": [
      "Epoch 109, global step 42350: 'val/graph_label/accuracy' was not in top 1\n"
     ]
    },
    {
     "name": "stderr",
     "output_type": "stream",
     "text": [
      "Epoch 110, global step 42735: 'val/graph_label/accuracy' was not in top 1\n"
     ]
    },
    {
     "name": "stderr",
     "output_type": "stream",
     "text": [
      "Epoch 111, global step 43120: 'val/graph_label/accuracy' was not in top 1\n"
     ]
    },
    {
     "name": "stderr",
     "output_type": "stream",
     "text": [
      "Epoch 112, global step 43505: 'val/graph_label/accuracy' was not in top 1\n"
     ]
    },
    {
     "name": "stderr",
     "output_type": "stream",
     "text": [
      "Metric train/loss/total improved by 0.003 >= min_delta = 0.0. New best score: 0.073\n",
      "Epoch 113, global step 43890: 'val/graph_label/accuracy' was not in top 1\n"
     ]
    },
    {
     "name": "stderr",
     "output_type": "stream",
     "text": [
      "Epoch 114, global step 44275: 'val/graph_label/accuracy' was not in top 1\n"
     ]
    },
    {
     "name": "stderr",
     "output_type": "stream",
     "text": [
      "Epoch 115, global step 44660: 'val/graph_label/accuracy' was not in top 1\n"
     ]
    },
    {
     "name": "stderr",
     "output_type": "stream",
     "text": [
      "Epoch 116, global step 45045: 'val/graph_label/accuracy' was not in top 1\n"
     ]
    },
    {
     "name": "stderr",
     "output_type": "stream",
     "text": [
      "Epoch 117, global step 45430: 'val/graph_label/accuracy' was not in top 1\n"
     ]
    },
    {
     "name": "stderr",
     "output_type": "stream",
     "text": [
      "Epoch 118, global step 45815: 'val/graph_label/accuracy' was not in top 1\n"
     ]
    },
    {
     "name": "stderr",
     "output_type": "stream",
     "text": [
      "Epoch 119, global step 46200: 'val/graph_label/accuracy' was not in top 1\n"
     ]
    },
    {
     "name": "stderr",
     "output_type": "stream",
     "text": [
      "Epoch 120, global step 46585: 'val/graph_label/accuracy' was not in top 1\n"
     ]
    },
    {
     "name": "stderr",
     "output_type": "stream",
     "text": [
      "Epoch 121, global step 46970: 'val/graph_label/accuracy' was not in top 1\n"
     ]
    },
    {
     "name": "stderr",
     "output_type": "stream",
     "text": [
      "Monitored metric val/graph_label/accuracy did not improve in the last 20 records. Best score: 0.519. Signaling Trainer to stop.\n",
      "Epoch 122, global step 47355: 'val/graph_label/accuracy' was not in top 1\n"
     ]
    },
    {
     "data": {
      "text/html": [
       "<pre style=\"white-space:pre;overflow-x:auto;line-height:normal;font-family:Menlo,'DejaVu Sans Mono',consolas,'Courier New',monospace\"></pre>\n"
      ],
      "text/plain": []
     },
     "metadata": {},
     "output_type": "display_data"
    },
    {
     "data": {
      "text/html": [
       "<pre style=\"white-space:pre;overflow-x:auto;line-height:normal;font-family:Menlo,'DejaVu Sans Mono',consolas,'Courier New',monospace\">\n",
       "</pre>\n"
      ],
      "text/plain": [
       "\n"
      ]
     },
     "metadata": {},
     "output_type": "display_data"
    },
    {
     "data": {
      "text/html": [
       "<pre style=\"white-space:pre;overflow-x:auto;line-height:normal;font-family:Menlo,'DejaVu Sans Mono',consolas,'Courier New',monospace\"><span style=\"color: #7fbfbf; text-decoration-color: #7fbfbf\">[07/12/24 07:00:36] </span><span style=\"color: #000080; text-decoration-color: #000080\">INFO    </span> Starting testing!                                                         <a href=\"file:///home/yang/Yang_ZHANG/Projects/3d/ProteinWorkshop/proteinworkshop/train.py\" target=\"_blank\"><span style=\"color: #7f7f7f; text-decoration-color: #7f7f7f\">train.py</span></a><span style=\"color: #7f7f7f; text-decoration-color: #7f7f7f\">:</span><a href=\"file:///home/yang/Yang_ZHANG/Projects/3d/ProteinWorkshop/proteinworkshop/train.py#187\" target=\"_blank\"><span style=\"color: #7f7f7f; text-decoration-color: #7f7f7f\">187</span></a>\n",
       "</pre>\n"
      ],
      "text/plain": [
       "\u001b[2;36m[07/12/24 07:00:36]\u001b[0m\u001b[2;36m \u001b[0m\u001b[34mINFO    \u001b[0m Starting testing!                                                         \u001b]8;id=190577;file:///home/yang/Yang_ZHANG/Projects/3d/ProteinWorkshop/proteinworkshop/train.py\u001b\\\u001b[2mtrain.py\u001b[0m\u001b]8;;\u001b\\\u001b[2m:\u001b[0m\u001b]8;id=711137;file:///home/yang/Yang_ZHANG/Projects/3d/ProteinWorkshop/proteinworkshop/train.py#187\u001b\\\u001b[2m187\u001b[0m\u001b]8;;\u001b\\\n"
      ]
     },
     "metadata": {},
     "output_type": "display_data"
    },
    {
     "data": {
      "text/html": [
       "<pre style=\"white-space:pre;overflow-x:auto;line-height:normal;font-family:Menlo,'DejaVu Sans Mono',consolas,'Courier New',monospace\"><span style=\"color: #7fbfbf; text-decoration-color: #7fbfbf\">                    </span><span style=\"color: #000080; text-decoration-color: #000080\">INFO    </span> Reading labels from:                                        <a href=\"file:///home/yang/Yang_ZHANG/Projects/3d/ProteinWorkshop/proteinworkshop/datasets/fold_classification.py\" target=\"_blank\"><span style=\"color: #7f7f7f; text-decoration-color: #7f7f7f\">fold_classification.py</span></a><span style=\"color: #7f7f7f; text-decoration-color: #7f7f7f\">:</span><a href=\"file:///home/yang/Yang_ZHANG/Projects/3d/ProteinWorkshop/proteinworkshop/datasets/fold_classification.py#154\" target=\"_blank\"><span style=\"color: #7f7f7f; text-decoration-color: #7f7f7f\">154</span></a>\n",
       "<span style=\"color: #7fbfbf; text-decoration-color: #7fbfbf\">                    </span>         <span style=\"color: #800080; text-decoration-color: #800080\">/home/yang/Yang_ZHANG/Projects/3d/ProteinWorkshop/proteinwo</span> <span style=\"color: #7f7f7f; text-decoration-color: #7f7f7f\">                          </span>\n",
       "<span style=\"color: #7fbfbf; text-decoration-color: #7fbfbf\">                    </span>         <span style=\"color: #800080; text-decoration-color: #800080\">rkshop/data/FoldClassification/</span><span style=\"color: #ff00ff; text-decoration-color: #ff00ff\">class_map.txt</span>                <span style=\"color: #7f7f7f; text-decoration-color: #7f7f7f\">                          </span>\n",
       "</pre>\n"
      ],
      "text/plain": [
       "\u001b[2;36m                   \u001b[0m\u001b[2;36m \u001b[0m\u001b[34mINFO    \u001b[0m Reading labels from:                                        \u001b]8;id=396006;file:///home/yang/Yang_ZHANG/Projects/3d/ProteinWorkshop/proteinworkshop/datasets/fold_classification.py\u001b\\\u001b[2mfold_classification.py\u001b[0m\u001b]8;;\u001b\\\u001b[2m:\u001b[0m\u001b]8;id=613379;file:///home/yang/Yang_ZHANG/Projects/3d/ProteinWorkshop/proteinworkshop/datasets/fold_classification.py#154\u001b\\\u001b[2m154\u001b[0m\u001b]8;;\u001b\\\n",
       "\u001b[2;36m                    \u001b[0m         \u001b[35m/home/yang/Yang_ZHANG/Projects/3d/ProteinWorkshop/proteinwo\u001b[0m \u001b[2m                          \u001b[0m\n",
       "\u001b[2;36m                    \u001b[0m         \u001b[35mrkshop/data/FoldClassification/\u001b[0m\u001b[95mclass_map.txt\u001b[0m                \u001b[2m                          \u001b[0m\n"
      ]
     },
     "metadata": {},
     "output_type": "display_data"
    },
    {
     "data": {
      "text/html": [
       "<pre style=\"white-space:pre;overflow-x:auto;line-height:normal;font-family:Menlo,'DejaVu Sans Mono',consolas,'Courier New',monospace\"><span style=\"color: #7fbfbf; text-decoration-color: #7fbfbf\">                    </span><span style=\"color: #000080; text-decoration-color: #000080\">INFO    </span> Found <span style=\"color: #008080; text-decoration-color: #008080; font-weight: bold\">718</span> original examples in test_fold                    <a href=\"file:///home/yang/Yang_ZHANG/Projects/3d/ProteinWorkshop/proteinworkshop/datasets/fold_classification.py\" target=\"_blank\"><span style=\"color: #7f7f7f; text-decoration-color: #7f7f7f\">fold_classification.py</span></a><span style=\"color: #7f7f7f; text-decoration-color: #7f7f7f\">:</span><a href=\"file:///home/yang/Yang_ZHANG/Projects/3d/ProteinWorkshop/proteinworkshop/datasets/fold_classification.py#234\" target=\"_blank\"><span style=\"color: #7f7f7f; text-decoration-color: #7f7f7f\">234</span></a>\n",
       "</pre>\n"
      ],
      "text/plain": [
       "\u001b[2;36m                   \u001b[0m\u001b[2;36m \u001b[0m\u001b[34mINFO    \u001b[0m Found \u001b[1;36m718\u001b[0m original examples in test_fold                    \u001b]8;id=983723;file:///home/yang/Yang_ZHANG/Projects/3d/ProteinWorkshop/proteinworkshop/datasets/fold_classification.py\u001b\\\u001b[2mfold_classification.py\u001b[0m\u001b]8;;\u001b\\\u001b[2m:\u001b[0m\u001b]8;id=736791;file:///home/yang/Yang_ZHANG/Projects/3d/ProteinWorkshop/proteinworkshop/datasets/fold_classification.py#234\u001b\\\u001b[2m234\u001b[0m\u001b]8;;\u001b\\\n"
      ]
     },
     "metadata": {},
     "output_type": "display_data"
    },
    {
     "data": {
      "text/html": [
       "<pre style=\"white-space:pre;overflow-x:auto;line-height:normal;font-family:Menlo,'DejaVu Sans Mono',consolas,'Courier New',monospace\"><span style=\"color: #7fbfbf; text-decoration-color: #7fbfbf\">                    </span><span style=\"color: #000080; text-decoration-color: #000080\">INFO    </span> Identified <span style=\"color: #008080; text-decoration-color: #008080; font-weight: bold\">136</span> classes                                      <a href=\"file:///home/yang/Yang_ZHANG/Projects/3d/ProteinWorkshop/proteinworkshop/datasets/fold_classification.py\" target=\"_blank\"><span style=\"color: #7f7f7f; text-decoration-color: #7f7f7f\">fold_classification.py</span></a><span style=\"color: #7f7f7f; text-decoration-color: #7f7f7f\">:</span><a href=\"file:///home/yang/Yang_ZHANG/Projects/3d/ProteinWorkshop/proteinworkshop/datasets/fold_classification.py#247\" target=\"_blank\"><span style=\"color: #7f7f7f; text-decoration-color: #7f7f7f\">247</span></a>\n",
       "</pre>\n"
      ],
      "text/plain": [
       "\u001b[2;36m                   \u001b[0m\u001b[2;36m \u001b[0m\u001b[34mINFO    \u001b[0m Identified \u001b[1;36m136\u001b[0m classes                                      \u001b]8;id=6852;file:///home/yang/Yang_ZHANG/Projects/3d/ProteinWorkshop/proteinworkshop/datasets/fold_classification.py\u001b\\\u001b[2mfold_classification.py\u001b[0m\u001b]8;;\u001b\\\u001b[2m:\u001b[0m\u001b]8;id=727546;file:///home/yang/Yang_ZHANG/Projects/3d/ProteinWorkshop/proteinworkshop/datasets/fold_classification.py#247\u001b\\\u001b[2m247\u001b[0m\u001b]8;;\u001b\\\n"
      ]
     },
     "metadata": {},
     "output_type": "display_data"
    },
    {
     "data": {
      "text/html": [
       "<pre style=\"white-space:pre;overflow-x:auto;line-height:normal;font-family:Menlo,'DejaVu Sans Mono',consolas,'Courier New',monospace\"><span style=\"color: #7fbfbf; text-decoration-color: #7fbfbf\">                    </span><span style=\"color: #000080; text-decoration-color: #000080\">INFO    </span> All structures already processed and <span style=\"color: #808000; text-decoration-color: #808000\">overwrite</span>=<span style=\"color: #ff0000; text-decoration-color: #ff0000; font-style: italic\">False</span>. Skipping download.   <a href=\"file:///home/yang/Yang_ZHANG/Projects/3d/ProteinWorkshop/proteinworkshop/datasets/base.py\" target=\"_blank\"><span style=\"color: #7f7f7f; text-decoration-color: #7f7f7f\">base.py</span></a><span style=\"color: #7f7f7f; text-decoration-color: #7f7f7f\">:</span><a href=\"file:///home/yang/Yang_ZHANG/Projects/3d/ProteinWorkshop/proteinworkshop/datasets/base.py#327\" target=\"_blank\"><span style=\"color: #7f7f7f; text-decoration-color: #7f7f7f\">327</span></a>\n",
       "</pre>\n"
      ],
      "text/plain": [
       "\u001b[2;36m                   \u001b[0m\u001b[2;36m \u001b[0m\u001b[34mINFO    \u001b[0m All structures already processed and \u001b[33moverwrite\u001b[0m=\u001b[3;91mFalse\u001b[0m. Skipping download.   \u001b]8;id=416013;file:///home/yang/Yang_ZHANG/Projects/3d/ProteinWorkshop/proteinworkshop/datasets/base.py\u001b\\\u001b[2mbase.py\u001b[0m\u001b]8;;\u001b\\\u001b[2m:\u001b[0m\u001b]8;id=730416;file:///home/yang/Yang_ZHANG/Projects/3d/ProteinWorkshop/proteinworkshop/datasets/base.py#327\u001b\\\u001b[2m327\u001b[0m\u001b]8;;\u001b\\\n"
      ]
     },
     "metadata": {},
     "output_type": "display_data"
    },
    {
     "data": {
      "text/html": [
       "<pre style=\"white-space:pre;overflow-x:auto;line-height:normal;font-family:Menlo,'DejaVu Sans Mono',consolas,'Courier New',monospace\"><span style=\"color: #7fbfbf; text-decoration-color: #7fbfbf\">                    </span><span style=\"color: #800000; text-decoration-color: #800000\">WARNING </span> Downloads in .ent format are assumed to be from ASTRAL. These data should  <a href=\"file:///home/yang/Yang_ZHANG/Projects/3d/ProteinWorkshop/proteinworkshop/datasets/base.py\" target=\"_blank\"><span style=\"color: #7f7f7f; text-decoration-color: #7f7f7f\">base.py</span></a><span style=\"color: #7f7f7f; text-decoration-color: #7f7f7f\">:</span><a href=\"file:///home/yang/Yang_ZHANG/Projects/3d/ProteinWorkshop/proteinworkshop/datasets/base.py#357\" target=\"_blank\"><span style=\"color: #7f7f7f; text-decoration-color: #7f7f7f\">357</span></a>\n",
       "<span style=\"color: #7fbfbf; text-decoration-color: #7fbfbf\">                    </span>         have already been downloaded                                               <span style=\"color: #7f7f7f; text-decoration-color: #7f7f7f\">           </span>\n",
       "</pre>\n"
      ],
      "text/plain": [
       "\u001b[2;36m                   \u001b[0m\u001b[2;36m \u001b[0m\u001b[31mWARNING \u001b[0m Downloads in .ent format are assumed to be from ASTRAL. These data should  \u001b]8;id=134008;file:///home/yang/Yang_ZHANG/Projects/3d/ProteinWorkshop/proteinworkshop/datasets/base.py\u001b\\\u001b[2mbase.py\u001b[0m\u001b]8;;\u001b\\\u001b[2m:\u001b[0m\u001b]8;id=440140;file:///home/yang/Yang_ZHANG/Projects/3d/ProteinWorkshop/proteinworkshop/datasets/base.py#357\u001b\\\u001b[2m357\u001b[0m\u001b]8;;\u001b\\\n",
       "\u001b[2;36m                    \u001b[0m         have already been downloaded                                               \u001b[2m           \u001b[0m\n"
      ]
     },
     "metadata": {},
     "output_type": "display_data"
    },
    {
     "data": {
      "text/html": [
       "<pre style=\"white-space:pre;overflow-x:auto;line-height:normal;font-family:Menlo,'DejaVu Sans Mono',consolas,'Courier New',monospace\"><span style=\"color: #7fbfbf; text-decoration-color: #7fbfbf\">                    </span><span style=\"color: #000080; text-decoration-color: #000080\">INFO    </span> Reading data into memory                                                   <a href=\"file:///home/yang/Yang_ZHANG/Projects/3d/ProteinWorkshop/proteinworkshop/datasets/base.py\" target=\"_blank\"><span style=\"color: #7f7f7f; text-decoration-color: #7f7f7f\">base.py</span></a><span style=\"color: #7f7f7f; text-decoration-color: #7f7f7f\">:</span><a href=\"file:///home/yang/Yang_ZHANG/Projects/3d/ProteinWorkshop/proteinworkshop/datasets/base.py#337\" target=\"_blank\"><span style=\"color: #7f7f7f; text-decoration-color: #7f7f7f\">337</span></a>\n",
       "</pre>\n"
      ],
      "text/plain": [
       "\u001b[2;36m                   \u001b[0m\u001b[2;36m \u001b[0m\u001b[34mINFO    \u001b[0m Reading data into memory                                                   \u001b]8;id=805445;file:///home/yang/Yang_ZHANG/Projects/3d/ProteinWorkshop/proteinworkshop/datasets/base.py\u001b\\\u001b[2mbase.py\u001b[0m\u001b]8;;\u001b\\\u001b[2m:\u001b[0m\u001b]8;id=846539;file:///home/yang/Yang_ZHANG/Projects/3d/ProteinWorkshop/proteinworkshop/datasets/base.py#337\u001b\\\u001b[2m337\u001b[0m\u001b]8;;\u001b\\\n"
      ]
     },
     "metadata": {},
     "output_type": "display_data"
    },
    {
     "name": "stderr",
     "output_type": "stream",
     "text": [
      "100%|██████████| 718/718 [00:00<00:00, 2413.28it/s]\n"
     ]
    },
    {
     "data": {
      "text/html": [
       "<pre style=\"white-space:pre;overflow-x:auto;line-height:normal;font-family:Menlo,'DejaVu Sans Mono',consolas,'Courier New',monospace\"><span style=\"color: #7fbfbf; text-decoration-color: #7fbfbf\">[07/12/24 07:00:37] </span><span style=\"color: #000080; text-decoration-color: #000080\">INFO    </span> Testing on fold <span style=\"font-weight: bold\">(</span><span style=\"color: #008080; text-decoration-color: #008080; font-weight: bold\">1</span> <span style=\"color: #800080; text-decoration-color: #800080\">/</span> <span style=\"color: #008080; text-decoration-color: #008080; font-weight: bold\">3</span><span style=\"font-weight: bold\">)</span><span style=\"color: #808000; text-decoration-color: #808000\">...</span>                                                <a href=\"file:///home/yang/Yang_ZHANG/Projects/3d/ProteinWorkshop/proteinworkshop/train.py\" target=\"_blank\"><span style=\"color: #7f7f7f; text-decoration-color: #7f7f7f\">train.py</span></a><span style=\"color: #7f7f7f; text-decoration-color: #7f7f7f\">:</span><a href=\"file:///home/yang/Yang_ZHANG/Projects/3d/ProteinWorkshop/proteinworkshop/train.py#194\" target=\"_blank\"><span style=\"color: #7f7f7f; text-decoration-color: #7f7f7f\">194</span></a>\n",
       "</pre>\n"
      ],
      "text/plain": [
       "\u001b[2;36m[07/12/24 07:00:37]\u001b[0m\u001b[2;36m \u001b[0m\u001b[34mINFO    \u001b[0m Testing on fold \u001b[1m(\u001b[0m\u001b[1;36m1\u001b[0m \u001b[35m/\u001b[0m \u001b[1;36m3\u001b[0m\u001b[1m)\u001b[0m\u001b[33m...\u001b[0m                                                \u001b]8;id=803649;file:///home/yang/Yang_ZHANG/Projects/3d/ProteinWorkshop/proteinworkshop/train.py\u001b\\\u001b[2mtrain.py\u001b[0m\u001b]8;;\u001b\\\u001b[2m:\u001b[0m\u001b]8;id=932074;file:///home/yang/Yang_ZHANG/Projects/3d/ProteinWorkshop/proteinworkshop/train.py#194\u001b\\\u001b[2m194\u001b[0m\u001b]8;;\u001b\\\n"
      ]
     },
     "metadata": {},
     "output_type": "display_data"
    },
    {
     "data": {
      "text/html": [
       "<pre style=\"white-space:pre;overflow-x:auto;line-height:normal;font-family:Menlo,'DejaVu Sans Mono',consolas,'Courier New',monospace\"><span style=\"color: #7fbfbf; text-decoration-color: #7fbfbf\">                    </span><span style=\"color: #000080; text-decoration-color: #000080\">INFO    </span> Downloading Protein Function. Fraction <span style=\"color: #008080; text-decoration-color: #008080; font-weight: bold\">1.0</span>                   <a href=\"file:///home/yang/Yang_ZHANG/Projects/3d/ProteinWorkshop/proteinworkshop/datasets/fold_classification.py\" target=\"_blank\"><span style=\"color: #7f7f7f; text-decoration-color: #7f7f7f\">fold_classification.py</span></a><span style=\"color: #7f7f7f; text-decoration-color: #7f7f7f\">:</span><a href=\"file:///home/yang/Yang_ZHANG/Projects/3d/ProteinWorkshop/proteinworkshop/datasets/fold_classification.py#86\" target=\"_blank\"><span style=\"color: #7f7f7f; text-decoration-color: #7f7f7f\">86</span></a>\n",
       "</pre>\n"
      ],
      "text/plain": [
       "\u001b[2;36m                   \u001b[0m\u001b[2;36m \u001b[0m\u001b[34mINFO    \u001b[0m Downloading Protein Function. Fraction \u001b[1;36m1.0\u001b[0m                   \u001b]8;id=501914;file:///home/yang/Yang_ZHANG/Projects/3d/ProteinWorkshop/proteinworkshop/datasets/fold_classification.py\u001b\\\u001b[2mfold_classification.py\u001b[0m\u001b]8;;\u001b\\\u001b[2m:\u001b[0m\u001b]8;id=923541;file:///home/yang/Yang_ZHANG/Projects/3d/ProteinWorkshop/proteinworkshop/datasets/fold_classification.py#86\u001b\\\u001b[2m86\u001b[0m\u001b]8;;\u001b\\\n"
      ]
     },
     "metadata": {},
     "output_type": "display_data"
    },
    {
     "data": {
      "text/html": [
       "<pre style=\"white-space:pre;overflow-x:auto;line-height:normal;font-family:Menlo,'DejaVu Sans Mono',consolas,'Courier New',monospace\"><span style=\"color: #7fbfbf; text-decoration-color: #7fbfbf\">                    </span><span style=\"color: #000080; text-decoration-color: #000080\">INFO    </span> Found SCOP structure tarfile in:                            <a href=\"file:///home/yang/Yang_ZHANG/Projects/3d/ProteinWorkshop/proteinworkshop/datasets/fold_classification.py\" target=\"_blank\"><span style=\"color: #7f7f7f; text-decoration-color: #7f7f7f\">fold_classification.py</span></a><span style=\"color: #7f7f7f; text-decoration-color: #7f7f7f\">:</span><a href=\"file:///home/yang/Yang_ZHANG/Projects/3d/ProteinWorkshop/proteinworkshop/datasets/fold_classification.py#138\" target=\"_blank\"><span style=\"color: #7f7f7f; text-decoration-color: #7f7f7f\">138</span></a>\n",
       "<span style=\"color: #7fbfbf; text-decoration-color: #7fbfbf\">                    </span>         <span style=\"color: #800080; text-decoration-color: #800080\">/home/yang/Yang_ZHANG/Projects/3d/ProteinWorkshop/proteinwo</span> <span style=\"color: #7f7f7f; text-decoration-color: #7f7f7f\">                          </span>\n",
       "<span style=\"color: #7fbfbf; text-decoration-color: #7fbfbf\">                    </span>         <span style=\"color: #800080; text-decoration-color: #800080\">rkshop/data/FoldClassification/</span><span style=\"color: #ff00ff; text-decoration-color: #ff00ff\">pdbstyle-sel-gs-bib-95-1.75.</span> <span style=\"color: #7f7f7f; text-decoration-color: #7f7f7f\">                          </span>\n",
       "<span style=\"color: #7fbfbf; text-decoration-color: #7fbfbf\">                    </span>         <span style=\"color: #ff00ff; text-decoration-color: #ff00ff\">tgz</span>                                                         <span style=\"color: #7f7f7f; text-decoration-color: #7f7f7f\">                          </span>\n",
       "</pre>\n"
      ],
      "text/plain": [
       "\u001b[2;36m                   \u001b[0m\u001b[2;36m \u001b[0m\u001b[34mINFO    \u001b[0m Found SCOP structure tarfile in:                            \u001b]8;id=595090;file:///home/yang/Yang_ZHANG/Projects/3d/ProteinWorkshop/proteinworkshop/datasets/fold_classification.py\u001b\\\u001b[2mfold_classification.py\u001b[0m\u001b]8;;\u001b\\\u001b[2m:\u001b[0m\u001b]8;id=751729;file:///home/yang/Yang_ZHANG/Projects/3d/ProteinWorkshop/proteinworkshop/datasets/fold_classification.py#138\u001b\\\u001b[2m138\u001b[0m\u001b]8;;\u001b\\\n",
       "\u001b[2;36m                    \u001b[0m         \u001b[35m/home/yang/Yang_ZHANG/Projects/3d/ProteinWorkshop/proteinwo\u001b[0m \u001b[2m                          \u001b[0m\n",
       "\u001b[2;36m                    \u001b[0m         \u001b[35mrkshop/data/FoldClassification/\u001b[0m\u001b[95mpdbstyle-sel-gs-bib-95-1.75.\u001b[0m \u001b[2m                          \u001b[0m\n",
       "\u001b[2;36m                    \u001b[0m         \u001b[95mtgz\u001b[0m                                                         \u001b[2m                          \u001b[0m\n"
      ]
     },
     "metadata": {},
     "output_type": "display_data"
    },
    {
     "data": {
      "text/html": [
       "<pre style=\"white-space:pre;overflow-x:auto;line-height:normal;font-family:Menlo,'DejaVu Sans Mono',consolas,'Courier New',monospace\"><span style=\"color: #7fbfbf; text-decoration-color: #7fbfbf\">                    </span><span style=\"color: #000080; text-decoration-color: #000080\">INFO    </span> Found SCOPe structures in:                                  <a href=\"file:///home/yang/Yang_ZHANG/Projects/3d/ProteinWorkshop/proteinworkshop/datasets/fold_classification.py\" target=\"_blank\"><span style=\"color: #7f7f7f; text-decoration-color: #7f7f7f\">fold_classification.py</span></a><span style=\"color: #7f7f7f; text-decoration-color: #7f7f7f\">:</span><a href=\"file:///home/yang/Yang_ZHANG/Projects/3d/ProteinWorkshop/proteinworkshop/datasets/fold_classification.py#151\" target=\"_blank\"><span style=\"color: #7f7f7f; text-decoration-color: #7f7f7f\">151</span></a>\n",
       "</pre>\n"
      ],
      "text/plain": [
       "\u001b[2;36m                   \u001b[0m\u001b[2;36m \u001b[0m\u001b[34mINFO    \u001b[0m Found SCOPe structures in:                                  \u001b]8;id=410216;file:///home/yang/Yang_ZHANG/Projects/3d/ProteinWorkshop/proteinworkshop/datasets/fold_classification.py\u001b\\\u001b[2mfold_classification.py\u001b[0m\u001b]8;;\u001b\\\u001b[2m:\u001b[0m\u001b]8;id=795334;file:///home/yang/Yang_ZHANG/Projects/3d/ProteinWorkshop/proteinworkshop/datasets/fold_classification.py#151\u001b\\\u001b[2m151\u001b[0m\u001b]8;;\u001b\\\n"
      ]
     },
     "metadata": {},
     "output_type": "display_data"
    },
    {
     "data": {
      "text/html": [
       "<pre style=\"white-space:pre;overflow-x:auto;line-height:normal;font-family:Menlo,'DejaVu Sans Mono',consolas,'Courier New',monospace\"><span style=\"color: #7fbfbf; text-decoration-color: #7fbfbf\">                    </span><span style=\"color: #000080; text-decoration-color: #000080\">INFO    </span> Preprocessing test data                                                     <a href=\"file:///home/yang/Yang_ZHANG/Projects/3d/ProteinWorkshop/proteinworkshop/datasets/base.py\" target=\"_blank\"><span style=\"color: #7f7f7f; text-decoration-color: #7f7f7f\">base.py</span></a><span style=\"color: #7f7f7f; text-decoration-color: #7f7f7f\">:</span><a href=\"file:///home/yang/Yang_ZHANG/Projects/3d/ProteinWorkshop/proteinworkshop/datasets/base.py#92\" target=\"_blank\"><span style=\"color: #7f7f7f; text-decoration-color: #7f7f7f\">92</span></a>\n",
       "</pre>\n"
      ],
      "text/plain": [
       "\u001b[2;36m                   \u001b[0m\u001b[2;36m \u001b[0m\u001b[34mINFO    \u001b[0m Preprocessing test data                                                     \u001b]8;id=775999;file:///home/yang/Yang_ZHANG/Projects/3d/ProteinWorkshop/proteinworkshop/datasets/base.py\u001b\\\u001b[2mbase.py\u001b[0m\u001b]8;;\u001b\\\u001b[2m:\u001b[0m\u001b]8;id=132736;file:///home/yang/Yang_ZHANG/Projects/3d/ProteinWorkshop/proteinworkshop/datasets/base.py#92\u001b\\\u001b[2m92\u001b[0m\u001b]8;;\u001b\\\n"
      ]
     },
     "metadata": {},
     "output_type": "display_data"
    },
    {
     "data": {
      "text/html": [
       "<pre style=\"white-space:pre;overflow-x:auto;line-height:normal;font-family:Menlo,'DejaVu Sans Mono',consolas,'Courier New',monospace\"><span style=\"color: #7fbfbf; text-decoration-color: #7fbfbf\">                    </span><span style=\"color: #000080; text-decoration-color: #000080\">INFO    </span> Reading labels from:                                        <a href=\"file:///home/yang/Yang_ZHANG/Projects/3d/ProteinWorkshop/proteinworkshop/datasets/fold_classification.py\" target=\"_blank\"><span style=\"color: #7f7f7f; text-decoration-color: #7f7f7f\">fold_classification.py</span></a><span style=\"color: #7f7f7f; text-decoration-color: #7f7f7f\">:</span><a href=\"file:///home/yang/Yang_ZHANG/Projects/3d/ProteinWorkshop/proteinworkshop/datasets/fold_classification.py#154\" target=\"_blank\"><span style=\"color: #7f7f7f; text-decoration-color: #7f7f7f\">154</span></a>\n",
       "<span style=\"color: #7fbfbf; text-decoration-color: #7fbfbf\">                    </span>         <span style=\"color: #800080; text-decoration-color: #800080\">/home/yang/Yang_ZHANG/Projects/3d/ProteinWorkshop/proteinwo</span> <span style=\"color: #7f7f7f; text-decoration-color: #7f7f7f\">                          </span>\n",
       "<span style=\"color: #7fbfbf; text-decoration-color: #7fbfbf\">                    </span>         <span style=\"color: #800080; text-decoration-color: #800080\">rkshop/data/FoldClassification/</span><span style=\"color: #ff00ff; text-decoration-color: #ff00ff\">class_map.txt</span>                <span style=\"color: #7f7f7f; text-decoration-color: #7f7f7f\">                          </span>\n",
       "</pre>\n"
      ],
      "text/plain": [
       "\u001b[2;36m                   \u001b[0m\u001b[2;36m \u001b[0m\u001b[34mINFO    \u001b[0m Reading labels from:                                        \u001b]8;id=54598;file:///home/yang/Yang_ZHANG/Projects/3d/ProteinWorkshop/proteinworkshop/datasets/fold_classification.py\u001b\\\u001b[2mfold_classification.py\u001b[0m\u001b]8;;\u001b\\\u001b[2m:\u001b[0m\u001b]8;id=866765;file:///home/yang/Yang_ZHANG/Projects/3d/ProteinWorkshop/proteinworkshop/datasets/fold_classification.py#154\u001b\\\u001b[2m154\u001b[0m\u001b]8;;\u001b\\\n",
       "\u001b[2;36m                    \u001b[0m         \u001b[35m/home/yang/Yang_ZHANG/Projects/3d/ProteinWorkshop/proteinwo\u001b[0m \u001b[2m                          \u001b[0m\n",
       "\u001b[2;36m                    \u001b[0m         \u001b[35mrkshop/data/FoldClassification/\u001b[0m\u001b[95mclass_map.txt\u001b[0m                \u001b[2m                          \u001b[0m\n"
      ]
     },
     "metadata": {},
     "output_type": "display_data"
    },
    {
     "data": {
      "text/html": [
       "<pre style=\"white-space:pre;overflow-x:auto;line-height:normal;font-family:Menlo,'DejaVu Sans Mono',consolas,'Courier New',monospace\"><span style=\"color: #7fbfbf; text-decoration-color: #7fbfbf\">                    </span><span style=\"color: #000080; text-decoration-color: #000080\">INFO    </span> Found <span style=\"color: #008080; text-decoration-color: #008080; font-weight: bold\">1272</span> original examples in test_family                 <a href=\"file:///home/yang/Yang_ZHANG/Projects/3d/ProteinWorkshop/proteinworkshop/datasets/fold_classification.py\" target=\"_blank\"><span style=\"color: #7f7f7f; text-decoration-color: #7f7f7f\">fold_classification.py</span></a><span style=\"color: #7f7f7f; text-decoration-color: #7f7f7f\">:</span><a href=\"file:///home/yang/Yang_ZHANG/Projects/3d/ProteinWorkshop/proteinworkshop/datasets/fold_classification.py#234\" target=\"_blank\"><span style=\"color: #7f7f7f; text-decoration-color: #7f7f7f\">234</span></a>\n",
       "</pre>\n"
      ],
      "text/plain": [
       "\u001b[2;36m                   \u001b[0m\u001b[2;36m \u001b[0m\u001b[34mINFO    \u001b[0m Found \u001b[1;36m1272\u001b[0m original examples in test_family                 \u001b]8;id=191309;file:///home/yang/Yang_ZHANG/Projects/3d/ProteinWorkshop/proteinworkshop/datasets/fold_classification.py\u001b\\\u001b[2mfold_classification.py\u001b[0m\u001b]8;;\u001b\\\u001b[2m:\u001b[0m\u001b]8;id=895959;file:///home/yang/Yang_ZHANG/Projects/3d/ProteinWorkshop/proteinworkshop/datasets/fold_classification.py#234\u001b\\\u001b[2m234\u001b[0m\u001b]8;;\u001b\\\n"
      ]
     },
     "metadata": {},
     "output_type": "display_data"
    },
    {
     "data": {
      "text/html": [
       "<pre style=\"white-space:pre;overflow-x:auto;line-height:normal;font-family:Menlo,'DejaVu Sans Mono',consolas,'Courier New',monospace\"><span style=\"color: #7fbfbf; text-decoration-color: #7fbfbf\">                    </span><span style=\"color: #000080; text-decoration-color: #000080\">INFO    </span> Identified <span style=\"color: #008080; text-decoration-color: #008080; font-weight: bold\">189</span> classes                                      <a href=\"file:///home/yang/Yang_ZHANG/Projects/3d/ProteinWorkshop/proteinworkshop/datasets/fold_classification.py\" target=\"_blank\"><span style=\"color: #7f7f7f; text-decoration-color: #7f7f7f\">fold_classification.py</span></a><span style=\"color: #7f7f7f; text-decoration-color: #7f7f7f\">:</span><a href=\"file:///home/yang/Yang_ZHANG/Projects/3d/ProteinWorkshop/proteinworkshop/datasets/fold_classification.py#247\" target=\"_blank\"><span style=\"color: #7f7f7f; text-decoration-color: #7f7f7f\">247</span></a>\n",
       "</pre>\n"
      ],
      "text/plain": [
       "\u001b[2;36m                   \u001b[0m\u001b[2;36m \u001b[0m\u001b[34mINFO    \u001b[0m Identified \u001b[1;36m189\u001b[0m classes                                      \u001b]8;id=285570;file:///home/yang/Yang_ZHANG/Projects/3d/ProteinWorkshop/proteinworkshop/datasets/fold_classification.py\u001b\\\u001b[2mfold_classification.py\u001b[0m\u001b]8;;\u001b\\\u001b[2m:\u001b[0m\u001b]8;id=759063;file:///home/yang/Yang_ZHANG/Projects/3d/ProteinWorkshop/proteinworkshop/datasets/fold_classification.py#247\u001b\\\u001b[2m247\u001b[0m\u001b]8;;\u001b\\\n"
      ]
     },
     "metadata": {},
     "output_type": "display_data"
    },
    {
     "data": {
      "text/html": [
       "<pre style=\"white-space:pre;overflow-x:auto;line-height:normal;font-family:Menlo,'DejaVu Sans Mono',consolas,'Courier New',monospace\"><span style=\"color: #7fbfbf; text-decoration-color: #7fbfbf\">                    </span><span style=\"color: #000080; text-decoration-color: #000080\">INFO    </span> All structures already processed and <span style=\"color: #808000; text-decoration-color: #808000\">overwrite</span>=<span style=\"color: #ff0000; text-decoration-color: #ff0000; font-style: italic\">False</span>. Skipping download.   <a href=\"file:///home/yang/Yang_ZHANG/Projects/3d/ProteinWorkshop/proteinworkshop/datasets/base.py\" target=\"_blank\"><span style=\"color: #7f7f7f; text-decoration-color: #7f7f7f\">base.py</span></a><span style=\"color: #7f7f7f; text-decoration-color: #7f7f7f\">:</span><a href=\"file:///home/yang/Yang_ZHANG/Projects/3d/ProteinWorkshop/proteinworkshop/datasets/base.py#327\" target=\"_blank\"><span style=\"color: #7f7f7f; text-decoration-color: #7f7f7f\">327</span></a>\n",
       "</pre>\n"
      ],
      "text/plain": [
       "\u001b[2;36m                   \u001b[0m\u001b[2;36m \u001b[0m\u001b[34mINFO    \u001b[0m All structures already processed and \u001b[33moverwrite\u001b[0m=\u001b[3;91mFalse\u001b[0m. Skipping download.   \u001b]8;id=704205;file:///home/yang/Yang_ZHANG/Projects/3d/ProteinWorkshop/proteinworkshop/datasets/base.py\u001b\\\u001b[2mbase.py\u001b[0m\u001b]8;;\u001b\\\u001b[2m:\u001b[0m\u001b]8;id=877003;file:///home/yang/Yang_ZHANG/Projects/3d/ProteinWorkshop/proteinworkshop/datasets/base.py#327\u001b\\\u001b[2m327\u001b[0m\u001b]8;;\u001b\\\n"
      ]
     },
     "metadata": {},
     "output_type": "display_data"
    },
    {
     "data": {
      "text/html": [
       "<pre style=\"white-space:pre;overflow-x:auto;line-height:normal;font-family:Menlo,'DejaVu Sans Mono',consolas,'Courier New',monospace\"><span style=\"color: #7fbfbf; text-decoration-color: #7fbfbf\">                    </span><span style=\"color: #800000; text-decoration-color: #800000\">WARNING </span> Downloads in .ent format are assumed to be from ASTRAL. These data should  <a href=\"file:///home/yang/Yang_ZHANG/Projects/3d/ProteinWorkshop/proteinworkshop/datasets/base.py\" target=\"_blank\"><span style=\"color: #7f7f7f; text-decoration-color: #7f7f7f\">base.py</span></a><span style=\"color: #7f7f7f; text-decoration-color: #7f7f7f\">:</span><a href=\"file:///home/yang/Yang_ZHANG/Projects/3d/ProteinWorkshop/proteinworkshop/datasets/base.py#357\" target=\"_blank\"><span style=\"color: #7f7f7f; text-decoration-color: #7f7f7f\">357</span></a>\n",
       "<span style=\"color: #7fbfbf; text-decoration-color: #7fbfbf\">                    </span>         have already been downloaded                                               <span style=\"color: #7f7f7f; text-decoration-color: #7f7f7f\">           </span>\n",
       "</pre>\n"
      ],
      "text/plain": [
       "\u001b[2;36m                   \u001b[0m\u001b[2;36m \u001b[0m\u001b[31mWARNING \u001b[0m Downloads in .ent format are assumed to be from ASTRAL. These data should  \u001b]8;id=211917;file:///home/yang/Yang_ZHANG/Projects/3d/ProteinWorkshop/proteinworkshop/datasets/base.py\u001b\\\u001b[2mbase.py\u001b[0m\u001b]8;;\u001b\\\u001b[2m:\u001b[0m\u001b]8;id=249238;file:///home/yang/Yang_ZHANG/Projects/3d/ProteinWorkshop/proteinworkshop/datasets/base.py#357\u001b\\\u001b[2m357\u001b[0m\u001b]8;;\u001b\\\n",
       "\u001b[2;36m                    \u001b[0m         have already been downloaded                                               \u001b[2m           \u001b[0m\n"
      ]
     },
     "metadata": {},
     "output_type": "display_data"
    },
    {
     "data": {
      "text/html": [
       "<pre style=\"white-space:pre;overflow-x:auto;line-height:normal;font-family:Menlo,'DejaVu Sans Mono',consolas,'Courier New',monospace\"><span style=\"color: #7fbfbf; text-decoration-color: #7fbfbf\">                    </span><span style=\"color: #000080; text-decoration-color: #000080\">INFO    </span> Reading data into memory                                                   <a href=\"file:///home/yang/Yang_ZHANG/Projects/3d/ProteinWorkshop/proteinworkshop/datasets/base.py\" target=\"_blank\"><span style=\"color: #7f7f7f; text-decoration-color: #7f7f7f\">base.py</span></a><span style=\"color: #7f7f7f; text-decoration-color: #7f7f7f\">:</span><a href=\"file:///home/yang/Yang_ZHANG/Projects/3d/ProteinWorkshop/proteinworkshop/datasets/base.py#337\" target=\"_blank\"><span style=\"color: #7f7f7f; text-decoration-color: #7f7f7f\">337</span></a>\n",
       "</pre>\n"
      ],
      "text/plain": [
       "\u001b[2;36m                   \u001b[0m\u001b[2;36m \u001b[0m\u001b[34mINFO    \u001b[0m Reading data into memory                                                   \u001b]8;id=626479;file:///home/yang/Yang_ZHANG/Projects/3d/ProteinWorkshop/proteinworkshop/datasets/base.py\u001b\\\u001b[2mbase.py\u001b[0m\u001b]8;;\u001b\\\u001b[2m:\u001b[0m\u001b]8;id=153894;file:///home/yang/Yang_ZHANG/Projects/3d/ProteinWorkshop/proteinworkshop/datasets/base.py#337\u001b\\\u001b[2m337\u001b[0m\u001b]8;;\u001b\\\n"
      ]
     },
     "metadata": {},
     "output_type": "display_data"
    },
    {
     "name": "stderr",
     "output_type": "stream",
     "text": [
      "100%|██████████| 1272/1272 [00:00<00:00, 2251.48it/s]\n"
     ]
    },
    {
     "data": {
      "text/html": [
       "<pre style=\"white-space:pre;overflow-x:auto;line-height:normal;font-family:Menlo,'DejaVu Sans Mono',consolas,'Courier New',monospace\"><span style=\"color: #7fbfbf; text-decoration-color: #7fbfbf\">                    </span><span style=\"color: #000080; text-decoration-color: #000080\">INFO    </span> Reading labels from:                                        <a href=\"file:///home/yang/Yang_ZHANG/Projects/3d/ProteinWorkshop/proteinworkshop/datasets/fold_classification.py\" target=\"_blank\"><span style=\"color: #7f7f7f; text-decoration-color: #7f7f7f\">fold_classification.py</span></a><span style=\"color: #7f7f7f; text-decoration-color: #7f7f7f\">:</span><a href=\"file:///home/yang/Yang_ZHANG/Projects/3d/ProteinWorkshop/proteinworkshop/datasets/fold_classification.py#154\" target=\"_blank\"><span style=\"color: #7f7f7f; text-decoration-color: #7f7f7f\">154</span></a>\n",
       "<span style=\"color: #7fbfbf; text-decoration-color: #7fbfbf\">                    </span>         <span style=\"color: #800080; text-decoration-color: #800080\">/home/yang/Yang_ZHANG/Projects/3d/ProteinWorkshop/proteinwo</span> <span style=\"color: #7f7f7f; text-decoration-color: #7f7f7f\">                          </span>\n",
       "<span style=\"color: #7fbfbf; text-decoration-color: #7fbfbf\">                    </span>         <span style=\"color: #800080; text-decoration-color: #800080\">rkshop/data/FoldClassification/</span><span style=\"color: #ff00ff; text-decoration-color: #ff00ff\">class_map.txt</span>                <span style=\"color: #7f7f7f; text-decoration-color: #7f7f7f\">                          </span>\n",
       "</pre>\n"
      ],
      "text/plain": [
       "\u001b[2;36m                   \u001b[0m\u001b[2;36m \u001b[0m\u001b[34mINFO    \u001b[0m Reading labels from:                                        \u001b]8;id=430897;file:///home/yang/Yang_ZHANG/Projects/3d/ProteinWorkshop/proteinworkshop/datasets/fold_classification.py\u001b\\\u001b[2mfold_classification.py\u001b[0m\u001b]8;;\u001b\\\u001b[2m:\u001b[0m\u001b]8;id=739671;file:///home/yang/Yang_ZHANG/Projects/3d/ProteinWorkshop/proteinworkshop/datasets/fold_classification.py#154\u001b\\\u001b[2m154\u001b[0m\u001b]8;;\u001b\\\n",
       "\u001b[2;36m                    \u001b[0m         \u001b[35m/home/yang/Yang_ZHANG/Projects/3d/ProteinWorkshop/proteinwo\u001b[0m \u001b[2m                          \u001b[0m\n",
       "\u001b[2;36m                    \u001b[0m         \u001b[35mrkshop/data/FoldClassification/\u001b[0m\u001b[95mclass_map.txt\u001b[0m                \u001b[2m                          \u001b[0m\n"
      ]
     },
     "metadata": {},
     "output_type": "display_data"
    },
    {
     "data": {
      "text/html": [
       "<pre style=\"white-space:pre;overflow-x:auto;line-height:normal;font-family:Menlo,'DejaVu Sans Mono',consolas,'Courier New',monospace\"><span style=\"color: #7fbfbf; text-decoration-color: #7fbfbf\">                    </span><span style=\"color: #000080; text-decoration-color: #000080\">INFO    </span> Found <span style=\"color: #008080; text-decoration-color: #008080; font-weight: bold\">1254</span> original examples in test_superfamily            <a href=\"file:///home/yang/Yang_ZHANG/Projects/3d/ProteinWorkshop/proteinworkshop/datasets/fold_classification.py\" target=\"_blank\"><span style=\"color: #7f7f7f; text-decoration-color: #7f7f7f\">fold_classification.py</span></a><span style=\"color: #7f7f7f; text-decoration-color: #7f7f7f\">:</span><a href=\"file:///home/yang/Yang_ZHANG/Projects/3d/ProteinWorkshop/proteinworkshop/datasets/fold_classification.py#234\" target=\"_blank\"><span style=\"color: #7f7f7f; text-decoration-color: #7f7f7f\">234</span></a>\n",
       "</pre>\n"
      ],
      "text/plain": [
       "\u001b[2;36m                   \u001b[0m\u001b[2;36m \u001b[0m\u001b[34mINFO    \u001b[0m Found \u001b[1;36m1254\u001b[0m original examples in test_superfamily            \u001b]8;id=735150;file:///home/yang/Yang_ZHANG/Projects/3d/ProteinWorkshop/proteinworkshop/datasets/fold_classification.py\u001b\\\u001b[2mfold_classification.py\u001b[0m\u001b]8;;\u001b\\\u001b[2m:\u001b[0m\u001b]8;id=842824;file:///home/yang/Yang_ZHANG/Projects/3d/ProteinWorkshop/proteinworkshop/datasets/fold_classification.py#234\u001b\\\u001b[2m234\u001b[0m\u001b]8;;\u001b\\\n"
      ]
     },
     "metadata": {},
     "output_type": "display_data"
    },
    {
     "data": {
      "text/html": [
       "<pre style=\"white-space:pre;overflow-x:auto;line-height:normal;font-family:Menlo,'DejaVu Sans Mono',consolas,'Courier New',monospace\"><span style=\"color: #7fbfbf; text-decoration-color: #7fbfbf\">                    </span><span style=\"color: #000080; text-decoration-color: #000080\">INFO    </span> Identified <span style=\"color: #008080; text-decoration-color: #008080; font-weight: bold\">362</span> classes                                      <a href=\"file:///home/yang/Yang_ZHANG/Projects/3d/ProteinWorkshop/proteinworkshop/datasets/fold_classification.py\" target=\"_blank\"><span style=\"color: #7f7f7f; text-decoration-color: #7f7f7f\">fold_classification.py</span></a><span style=\"color: #7f7f7f; text-decoration-color: #7f7f7f\">:</span><a href=\"file:///home/yang/Yang_ZHANG/Projects/3d/ProteinWorkshop/proteinworkshop/datasets/fold_classification.py#247\" target=\"_blank\"><span style=\"color: #7f7f7f; text-decoration-color: #7f7f7f\">247</span></a>\n",
       "</pre>\n"
      ],
      "text/plain": [
       "\u001b[2;36m                   \u001b[0m\u001b[2;36m \u001b[0m\u001b[34mINFO    \u001b[0m Identified \u001b[1;36m362\u001b[0m classes                                      \u001b]8;id=680200;file:///home/yang/Yang_ZHANG/Projects/3d/ProteinWorkshop/proteinworkshop/datasets/fold_classification.py\u001b\\\u001b[2mfold_classification.py\u001b[0m\u001b]8;;\u001b\\\u001b[2m:\u001b[0m\u001b]8;id=336106;file:///home/yang/Yang_ZHANG/Projects/3d/ProteinWorkshop/proteinworkshop/datasets/fold_classification.py#247\u001b\\\u001b[2m247\u001b[0m\u001b]8;;\u001b\\\n"
      ]
     },
     "metadata": {},
     "output_type": "display_data"
    },
    {
     "data": {
      "text/html": [
       "<pre style=\"white-space:pre;overflow-x:auto;line-height:normal;font-family:Menlo,'DejaVu Sans Mono',consolas,'Courier New',monospace\"><span style=\"color: #7fbfbf; text-decoration-color: #7fbfbf\">                    </span><span style=\"color: #000080; text-decoration-color: #000080\">INFO    </span> All structures already processed and <span style=\"color: #808000; text-decoration-color: #808000\">overwrite</span>=<span style=\"color: #ff0000; text-decoration-color: #ff0000; font-style: italic\">False</span>. Skipping download.   <a href=\"file:///home/yang/Yang_ZHANG/Projects/3d/ProteinWorkshop/proteinworkshop/datasets/base.py\" target=\"_blank\"><span style=\"color: #7f7f7f; text-decoration-color: #7f7f7f\">base.py</span></a><span style=\"color: #7f7f7f; text-decoration-color: #7f7f7f\">:</span><a href=\"file:///home/yang/Yang_ZHANG/Projects/3d/ProteinWorkshop/proteinworkshop/datasets/base.py#327\" target=\"_blank\"><span style=\"color: #7f7f7f; text-decoration-color: #7f7f7f\">327</span></a>\n",
       "</pre>\n"
      ],
      "text/plain": [
       "\u001b[2;36m                   \u001b[0m\u001b[2;36m \u001b[0m\u001b[34mINFO    \u001b[0m All structures already processed and \u001b[33moverwrite\u001b[0m=\u001b[3;91mFalse\u001b[0m. Skipping download.   \u001b]8;id=915204;file:///home/yang/Yang_ZHANG/Projects/3d/ProteinWorkshop/proteinworkshop/datasets/base.py\u001b\\\u001b[2mbase.py\u001b[0m\u001b]8;;\u001b\\\u001b[2m:\u001b[0m\u001b]8;id=329781;file:///home/yang/Yang_ZHANG/Projects/3d/ProteinWorkshop/proteinworkshop/datasets/base.py#327\u001b\\\u001b[2m327\u001b[0m\u001b]8;;\u001b\\\n"
      ]
     },
     "metadata": {},
     "output_type": "display_data"
    },
    {
     "data": {
      "text/html": [
       "<pre style=\"white-space:pre;overflow-x:auto;line-height:normal;font-family:Menlo,'DejaVu Sans Mono',consolas,'Courier New',monospace\"><span style=\"color: #7fbfbf; text-decoration-color: #7fbfbf\">                    </span><span style=\"color: #800000; text-decoration-color: #800000\">WARNING </span> Downloads in .ent format are assumed to be from ASTRAL. These data should  <a href=\"file:///home/yang/Yang_ZHANG/Projects/3d/ProteinWorkshop/proteinworkshop/datasets/base.py\" target=\"_blank\"><span style=\"color: #7f7f7f; text-decoration-color: #7f7f7f\">base.py</span></a><span style=\"color: #7f7f7f; text-decoration-color: #7f7f7f\">:</span><a href=\"file:///home/yang/Yang_ZHANG/Projects/3d/ProteinWorkshop/proteinworkshop/datasets/base.py#357\" target=\"_blank\"><span style=\"color: #7f7f7f; text-decoration-color: #7f7f7f\">357</span></a>\n",
       "<span style=\"color: #7fbfbf; text-decoration-color: #7fbfbf\">                    </span>         have already been downloaded                                               <span style=\"color: #7f7f7f; text-decoration-color: #7f7f7f\">           </span>\n",
       "</pre>\n"
      ],
      "text/plain": [
       "\u001b[2;36m                   \u001b[0m\u001b[2;36m \u001b[0m\u001b[31mWARNING \u001b[0m Downloads in .ent format are assumed to be from ASTRAL. These data should  \u001b]8;id=96640;file:///home/yang/Yang_ZHANG/Projects/3d/ProteinWorkshop/proteinworkshop/datasets/base.py\u001b\\\u001b[2mbase.py\u001b[0m\u001b]8;;\u001b\\\u001b[2m:\u001b[0m\u001b]8;id=769405;file:///home/yang/Yang_ZHANG/Projects/3d/ProteinWorkshop/proteinworkshop/datasets/base.py#357\u001b\\\u001b[2m357\u001b[0m\u001b]8;;\u001b\\\n",
       "\u001b[2;36m                    \u001b[0m         have already been downloaded                                               \u001b[2m           \u001b[0m\n"
      ]
     },
     "metadata": {},
     "output_type": "display_data"
    },
    {
     "data": {
      "text/html": [
       "<pre style=\"white-space:pre;overflow-x:auto;line-height:normal;font-family:Menlo,'DejaVu Sans Mono',consolas,'Courier New',monospace\"><span style=\"color: #7fbfbf; text-decoration-color: #7fbfbf\">                    </span><span style=\"color: #000080; text-decoration-color: #000080\">INFO    </span> Reading data into memory                                                   <a href=\"file:///home/yang/Yang_ZHANG/Projects/3d/ProteinWorkshop/proteinworkshop/datasets/base.py\" target=\"_blank\"><span style=\"color: #7f7f7f; text-decoration-color: #7f7f7f\">base.py</span></a><span style=\"color: #7f7f7f; text-decoration-color: #7f7f7f\">:</span><a href=\"file:///home/yang/Yang_ZHANG/Projects/3d/ProteinWorkshop/proteinworkshop/datasets/base.py#337\" target=\"_blank\"><span style=\"color: #7f7f7f; text-decoration-color: #7f7f7f\">337</span></a>\n",
       "</pre>\n"
      ],
      "text/plain": [
       "\u001b[2;36m                   \u001b[0m\u001b[2;36m \u001b[0m\u001b[34mINFO    \u001b[0m Reading data into memory                                                   \u001b]8;id=603576;file:///home/yang/Yang_ZHANG/Projects/3d/ProteinWorkshop/proteinworkshop/datasets/base.py\u001b\\\u001b[2mbase.py\u001b[0m\u001b]8;;\u001b\\\u001b[2m:\u001b[0m\u001b]8;id=744755;file:///home/yang/Yang_ZHANG/Projects/3d/ProteinWorkshop/proteinworkshop/datasets/base.py#337\u001b\\\u001b[2m337\u001b[0m\u001b]8;;\u001b\\\n"
      ]
     },
     "metadata": {},
     "output_type": "display_data"
    },
    {
     "name": "stderr",
     "output_type": "stream",
     "text": [
      "100%|██████████| 1254/1254 [00:01<00:00, 1147.54it/s]\n",
      "Restoring states from the checkpoint path at /home/yang/Yang_ZHANG/Projects/3d/ProteinWorkshop/notebooks/outputs/checkpoints/epoch_102.ckpt\n",
      "LOCAL_RANK: 0 - CUDA_VISIBLE_DEVICES: [0,1]\n",
      "Loaded model weights from the checkpoint at /home/yang/Yang_ZHANG/Projects/3d/ProteinWorkshop/notebooks/outputs/checkpoints/epoch_102.ckpt\n"
     ]
    },
    {
     "data": {
      "application/vnd.jupyter.widget-view+json": {
       "model_id": "71c8d61362844072ab3e771d448f3723",
       "version_major": 2,
       "version_minor": 0
      },
      "text/plain": [
       "Output()"
      ]
     },
     "metadata": {},
     "output_type": "display_data"
    },
    {
     "data": {
      "text/html": [
       "<pre style=\"white-space:pre;overflow-x:auto;line-height:normal;font-family:Menlo,'DejaVu Sans Mono',consolas,'Courier New',monospace\">┏━━━━━━━━━━━━━━━━━━━━━━━━━━━┳━━━━━━━━━━━━━━━━━━━━━━━━━━━┓\n",
       "┃<span style=\"font-weight: bold\">        Test metric        </span>┃<span style=\"font-weight: bold\">       DataLoader 0        </span>┃\n",
       "┡━━━━━━━━━━━━━━━━━━━━━━━━━━━╇━━━━━━━━━━━━━━━━━━━━━━━━━━━┩\n",
       "│<span style=\"color: #008080; text-decoration-color: #008080\"> test/graph_label/accuracy </span>│<span style=\"color: #800080; text-decoration-color: #800080\">    0.4241071343421936     </span>│\n",
       "│<span style=\"color: #008080; text-decoration-color: #008080\">  test/graph_label/f1_max  </span>│<span style=\"color: #800080; text-decoration-color: #800080\">    0.49547654390335083    </span>│\n",
       "│<span style=\"color: #008080; text-decoration-color: #008080\"> test/graph_label/f1_score </span>│<span style=\"color: #800080; text-decoration-color: #800080\">    0.1510702222585678     </span>│\n",
       "│<span style=\"color: #008080; text-decoration-color: #008080\">   test/loss/graph_label   </span>│<span style=\"color: #800080; text-decoration-color: #800080\">     8.627304077148438     </span>│\n",
       "│<span style=\"color: #008080; text-decoration-color: #008080\">      test/loss/total      </span>│<span style=\"color: #800080; text-decoration-color: #800080\">     8.627304077148438     </span>│\n",
       "└───────────────────────────┴───────────────────────────┘\n",
       "</pre>\n"
      ],
      "text/plain": [
       "┏━━━━━━━━━━━━━━━━━━━━━━━━━━━┳━━━━━━━━━━━━━━━━━━━━━━━━━━━┓\n",
       "┃\u001b[1m \u001b[0m\u001b[1m       Test metric       \u001b[0m\u001b[1m \u001b[0m┃\u001b[1m \u001b[0m\u001b[1m      DataLoader 0       \u001b[0m\u001b[1m \u001b[0m┃\n",
       "┡━━━━━━━━━━━━━━━━━━━━━━━━━━━╇━━━━━━━━━━━━━━━━━━━━━━━━━━━┩\n",
       "│\u001b[36m \u001b[0m\u001b[36mtest/graph_label/accuracy\u001b[0m\u001b[36m \u001b[0m│\u001b[35m \u001b[0m\u001b[35m   0.4241071343421936    \u001b[0m\u001b[35m \u001b[0m│\n",
       "│\u001b[36m \u001b[0m\u001b[36m test/graph_label/f1_max \u001b[0m\u001b[36m \u001b[0m│\u001b[35m \u001b[0m\u001b[35m   0.49547654390335083   \u001b[0m\u001b[35m \u001b[0m│\n",
       "│\u001b[36m \u001b[0m\u001b[36mtest/graph_label/f1_score\u001b[0m\u001b[36m \u001b[0m│\u001b[35m \u001b[0m\u001b[35m   0.1510702222585678    \u001b[0m\u001b[35m \u001b[0m│\n",
       "│\u001b[36m \u001b[0m\u001b[36m  test/loss/graph_label  \u001b[0m\u001b[36m \u001b[0m│\u001b[35m \u001b[0m\u001b[35m    8.627304077148438    \u001b[0m\u001b[35m \u001b[0m│\n",
       "│\u001b[36m \u001b[0m\u001b[36m     test/loss/total     \u001b[0m\u001b[36m \u001b[0m│\u001b[35m \u001b[0m\u001b[35m    8.627304077148438    \u001b[0m\u001b[35m \u001b[0m│\n",
       "└───────────────────────────┴───────────────────────────┘\n"
      ]
     },
     "metadata": {},
     "output_type": "display_data"
    },
    {
     "data": {
      "text/html": [
       "<pre style=\"white-space:pre;overflow-x:auto;line-height:normal;font-family:Menlo,'DejaVu Sans Mono',consolas,'Courier New',monospace\"></pre>\n"
      ],
      "text/plain": []
     },
     "metadata": {},
     "output_type": "display_data"
    },
    {
     "data": {
      "text/html": [
       "<pre style=\"white-space:pre;overflow-x:auto;line-height:normal;font-family:Menlo,'DejaVu Sans Mono',consolas,'Courier New',monospace\">\n",
       "</pre>\n"
      ],
      "text/plain": [
       "\n"
      ]
     },
     "metadata": {},
     "output_type": "display_data"
    },
    {
     "data": {
      "text/html": [
       "<pre style=\"white-space:pre;overflow-x:auto;line-height:normal;font-family:Menlo,'DejaVu Sans Mono',consolas,'Courier New',monospace\"><span style=\"color: #7fbfbf; text-decoration-color: #7fbfbf\">[07/12/24 07:00:53] </span><span style=\"color: #000080; text-decoration-color: #000080\">INFO    </span> fold: <span style=\"font-weight: bold\">{</span><span style=\"color: #008000; text-decoration-color: #008000\">'test/loss/graph_label/fold'</span>: <span style=\"color: #008080; text-decoration-color: #008080; font-weight: bold\">8.627304077148438</span>,                   <a href=\"file:///home/yang/Yang_ZHANG/Projects/3d/ProteinWorkshop/proteinworkshop/train.py\" target=\"_blank\"><span style=\"color: #7f7f7f; text-decoration-color: #7f7f7f\">train.py</span></a><span style=\"color: #7f7f7f; text-decoration-color: #7f7f7f\">:</span><a href=\"file:///home/yang/Yang_ZHANG/Projects/3d/ProteinWorkshop/proteinworkshop/train.py#199\" target=\"_blank\"><span style=\"color: #7f7f7f; text-decoration-color: #7f7f7f\">199</span></a>\n",
       "<span style=\"color: #7fbfbf; text-decoration-color: #7fbfbf\">                    </span>         <span style=\"color: #008000; text-decoration-color: #008000\">'test/loss/total/fold'</span>: <span style=\"color: #008080; text-decoration-color: #008080; font-weight: bold\">8.627304077148438</span>,                                <span style=\"color: #7f7f7f; text-decoration-color: #7f7f7f\">            </span>\n",
       "<span style=\"color: #7fbfbf; text-decoration-color: #7fbfbf\">                    </span>         <span style=\"color: #008000; text-decoration-color: #008000\">'test/graph_label/accuracy/fold'</span>: <span style=\"color: #008080; text-decoration-color: #008080; font-weight: bold\">0.4241071343421936</span>,                     <span style=\"color: #7f7f7f; text-decoration-color: #7f7f7f\">            </span>\n",
       "<span style=\"color: #7fbfbf; text-decoration-color: #7fbfbf\">                    </span>         <span style=\"color: #008000; text-decoration-color: #008000\">'test/graph_label/f1_score/fold'</span>: <span style=\"color: #008080; text-decoration-color: #008080; font-weight: bold\">0.1510702222585678</span>,                     <span style=\"color: #7f7f7f; text-decoration-color: #7f7f7f\">            </span>\n",
       "<span style=\"color: #7fbfbf; text-decoration-color: #7fbfbf\">                    </span>         <span style=\"color: #008000; text-decoration-color: #008000\">'test/graph_label/f1_max/fold'</span>: <span style=\"color: #008080; text-decoration-color: #008080; font-weight: bold\">0.49547654390335083</span><span style=\"font-weight: bold\">}</span>                      <span style=\"color: #7f7f7f; text-decoration-color: #7f7f7f\">            </span>\n",
       "</pre>\n"
      ],
      "text/plain": [
       "\u001b[2;36m[07/12/24 07:00:53]\u001b[0m\u001b[2;36m \u001b[0m\u001b[34mINFO    \u001b[0m fold: \u001b[1m{\u001b[0m\u001b[32m'test/loss/graph_label/fold'\u001b[0m: \u001b[1;36m8.627304077148438\u001b[0m,                   \u001b]8;id=490999;file:///home/yang/Yang_ZHANG/Projects/3d/ProteinWorkshop/proteinworkshop/train.py\u001b\\\u001b[2mtrain.py\u001b[0m\u001b]8;;\u001b\\\u001b[2m:\u001b[0m\u001b]8;id=410113;file:///home/yang/Yang_ZHANG/Projects/3d/ProteinWorkshop/proteinworkshop/train.py#199\u001b\\\u001b[2m199\u001b[0m\u001b]8;;\u001b\\\n",
       "\u001b[2;36m                    \u001b[0m         \u001b[32m'test/loss/total/fold'\u001b[0m: \u001b[1;36m8.627304077148438\u001b[0m,                                \u001b[2m            \u001b[0m\n",
       "\u001b[2;36m                    \u001b[0m         \u001b[32m'test/graph_label/accuracy/fold'\u001b[0m: \u001b[1;36m0.4241071343421936\u001b[0m,                     \u001b[2m            \u001b[0m\n",
       "\u001b[2;36m                    \u001b[0m         \u001b[32m'test/graph_label/f1_score/fold'\u001b[0m: \u001b[1;36m0.1510702222585678\u001b[0m,                     \u001b[2m            \u001b[0m\n",
       "\u001b[2;36m                    \u001b[0m         \u001b[32m'test/graph_label/f1_max/fold'\u001b[0m: \u001b[1;36m0.49547654390335083\u001b[0m\u001b[1m}\u001b[0m                      \u001b[2m            \u001b[0m\n"
      ]
     },
     "metadata": {},
     "output_type": "display_data"
    },
    {
     "data": {
      "text/html": [
       "<pre style=\"white-space:pre;overflow-x:auto;line-height:normal;font-family:Menlo,'DejaVu Sans Mono',consolas,'Courier New',monospace\"><span style=\"color: #7fbfbf; text-decoration-color: #7fbfbf\">                    </span><span style=\"color: #000080; text-decoration-color: #000080\">INFO    </span> Testing on family <span style=\"font-weight: bold\">(</span><span style=\"color: #008080; text-decoration-color: #008080; font-weight: bold\">2</span> <span style=\"color: #800080; text-decoration-color: #800080\">/</span> <span style=\"color: #008080; text-decoration-color: #008080; font-weight: bold\">3</span><span style=\"font-weight: bold\">)</span><span style=\"color: #808000; text-decoration-color: #808000\">...</span>                                              <a href=\"file:///home/yang/Yang_ZHANG/Projects/3d/ProteinWorkshop/proteinworkshop/train.py\" target=\"_blank\"><span style=\"color: #7f7f7f; text-decoration-color: #7f7f7f\">train.py</span></a><span style=\"color: #7f7f7f; text-decoration-color: #7f7f7f\">:</span><a href=\"file:///home/yang/Yang_ZHANG/Projects/3d/ProteinWorkshop/proteinworkshop/train.py#194\" target=\"_blank\"><span style=\"color: #7f7f7f; text-decoration-color: #7f7f7f\">194</span></a>\n",
       "</pre>\n"
      ],
      "text/plain": [
       "\u001b[2;36m                   \u001b[0m\u001b[2;36m \u001b[0m\u001b[34mINFO    \u001b[0m Testing on family \u001b[1m(\u001b[0m\u001b[1;36m2\u001b[0m \u001b[35m/\u001b[0m \u001b[1;36m3\u001b[0m\u001b[1m)\u001b[0m\u001b[33m...\u001b[0m                                              \u001b]8;id=330019;file:///home/yang/Yang_ZHANG/Projects/3d/ProteinWorkshop/proteinworkshop/train.py\u001b\\\u001b[2mtrain.py\u001b[0m\u001b]8;;\u001b\\\u001b[2m:\u001b[0m\u001b]8;id=377318;file:///home/yang/Yang_ZHANG/Projects/3d/ProteinWorkshop/proteinworkshop/train.py#194\u001b\\\u001b[2m194\u001b[0m\u001b]8;;\u001b\\\n"
      ]
     },
     "metadata": {},
     "output_type": "display_data"
    },
    {
     "data": {
      "text/html": [
       "<pre style=\"white-space:pre;overflow-x:auto;line-height:normal;font-family:Menlo,'DejaVu Sans Mono',consolas,'Courier New',monospace\"><span style=\"color: #7fbfbf; text-decoration-color: #7fbfbf\">                    </span><span style=\"color: #000080; text-decoration-color: #000080\">INFO    </span> Downloading Protein Function. Fraction <span style=\"color: #008080; text-decoration-color: #008080; font-weight: bold\">1.0</span>                   <a href=\"file:///home/yang/Yang_ZHANG/Projects/3d/ProteinWorkshop/proteinworkshop/datasets/fold_classification.py\" target=\"_blank\"><span style=\"color: #7f7f7f; text-decoration-color: #7f7f7f\">fold_classification.py</span></a><span style=\"color: #7f7f7f; text-decoration-color: #7f7f7f\">:</span><a href=\"file:///home/yang/Yang_ZHANG/Projects/3d/ProteinWorkshop/proteinworkshop/datasets/fold_classification.py#86\" target=\"_blank\"><span style=\"color: #7f7f7f; text-decoration-color: #7f7f7f\">86</span></a>\n",
       "</pre>\n"
      ],
      "text/plain": [
       "\u001b[2;36m                   \u001b[0m\u001b[2;36m \u001b[0m\u001b[34mINFO    \u001b[0m Downloading Protein Function. Fraction \u001b[1;36m1.0\u001b[0m                   \u001b]8;id=381989;file:///home/yang/Yang_ZHANG/Projects/3d/ProteinWorkshop/proteinworkshop/datasets/fold_classification.py\u001b\\\u001b[2mfold_classification.py\u001b[0m\u001b]8;;\u001b\\\u001b[2m:\u001b[0m\u001b]8;id=341247;file:///home/yang/Yang_ZHANG/Projects/3d/ProteinWorkshop/proteinworkshop/datasets/fold_classification.py#86\u001b\\\u001b[2m86\u001b[0m\u001b]8;;\u001b\\\n"
      ]
     },
     "metadata": {},
     "output_type": "display_data"
    },
    {
     "data": {
      "text/html": [
       "<pre style=\"white-space:pre;overflow-x:auto;line-height:normal;font-family:Menlo,'DejaVu Sans Mono',consolas,'Courier New',monospace\"><span style=\"color: #7fbfbf; text-decoration-color: #7fbfbf\">                    </span><span style=\"color: #000080; text-decoration-color: #000080\">INFO    </span> Found SCOP structure tarfile in:                            <a href=\"file:///home/yang/Yang_ZHANG/Projects/3d/ProteinWorkshop/proteinworkshop/datasets/fold_classification.py\" target=\"_blank\"><span style=\"color: #7f7f7f; text-decoration-color: #7f7f7f\">fold_classification.py</span></a><span style=\"color: #7f7f7f; text-decoration-color: #7f7f7f\">:</span><a href=\"file:///home/yang/Yang_ZHANG/Projects/3d/ProteinWorkshop/proteinworkshop/datasets/fold_classification.py#138\" target=\"_blank\"><span style=\"color: #7f7f7f; text-decoration-color: #7f7f7f\">138</span></a>\n",
       "<span style=\"color: #7fbfbf; text-decoration-color: #7fbfbf\">                    </span>         <span style=\"color: #800080; text-decoration-color: #800080\">/home/yang/Yang_ZHANG/Projects/3d/ProteinWorkshop/proteinwo</span> <span style=\"color: #7f7f7f; text-decoration-color: #7f7f7f\">                          </span>\n",
       "<span style=\"color: #7fbfbf; text-decoration-color: #7fbfbf\">                    </span>         <span style=\"color: #800080; text-decoration-color: #800080\">rkshop/data/FoldClassification/</span><span style=\"color: #ff00ff; text-decoration-color: #ff00ff\">pdbstyle-sel-gs-bib-95-1.75.</span> <span style=\"color: #7f7f7f; text-decoration-color: #7f7f7f\">                          </span>\n",
       "<span style=\"color: #7fbfbf; text-decoration-color: #7fbfbf\">                    </span>         <span style=\"color: #ff00ff; text-decoration-color: #ff00ff\">tgz</span>                                                         <span style=\"color: #7f7f7f; text-decoration-color: #7f7f7f\">                          </span>\n",
       "</pre>\n"
      ],
      "text/plain": [
       "\u001b[2;36m                   \u001b[0m\u001b[2;36m \u001b[0m\u001b[34mINFO    \u001b[0m Found SCOP structure tarfile in:                            \u001b]8;id=486049;file:///home/yang/Yang_ZHANG/Projects/3d/ProteinWorkshop/proteinworkshop/datasets/fold_classification.py\u001b\\\u001b[2mfold_classification.py\u001b[0m\u001b]8;;\u001b\\\u001b[2m:\u001b[0m\u001b]8;id=973574;file:///home/yang/Yang_ZHANG/Projects/3d/ProteinWorkshop/proteinworkshop/datasets/fold_classification.py#138\u001b\\\u001b[2m138\u001b[0m\u001b]8;;\u001b\\\n",
       "\u001b[2;36m                    \u001b[0m         \u001b[35m/home/yang/Yang_ZHANG/Projects/3d/ProteinWorkshop/proteinwo\u001b[0m \u001b[2m                          \u001b[0m\n",
       "\u001b[2;36m                    \u001b[0m         \u001b[35mrkshop/data/FoldClassification/\u001b[0m\u001b[95mpdbstyle-sel-gs-bib-95-1.75.\u001b[0m \u001b[2m                          \u001b[0m\n",
       "\u001b[2;36m                    \u001b[0m         \u001b[95mtgz\u001b[0m                                                         \u001b[2m                          \u001b[0m\n"
      ]
     },
     "metadata": {},
     "output_type": "display_data"
    },
    {
     "data": {
      "text/html": [
       "<pre style=\"white-space:pre;overflow-x:auto;line-height:normal;font-family:Menlo,'DejaVu Sans Mono',consolas,'Courier New',monospace\"><span style=\"color: #7fbfbf; text-decoration-color: #7fbfbf\">                    </span><span style=\"color: #000080; text-decoration-color: #000080\">INFO    </span> Found SCOPe structures in:                                  <a href=\"file:///home/yang/Yang_ZHANG/Projects/3d/ProteinWorkshop/proteinworkshop/datasets/fold_classification.py\" target=\"_blank\"><span style=\"color: #7f7f7f; text-decoration-color: #7f7f7f\">fold_classification.py</span></a><span style=\"color: #7f7f7f; text-decoration-color: #7f7f7f\">:</span><a href=\"file:///home/yang/Yang_ZHANG/Projects/3d/ProteinWorkshop/proteinworkshop/datasets/fold_classification.py#151\" target=\"_blank\"><span style=\"color: #7f7f7f; text-decoration-color: #7f7f7f\">151</span></a>\n",
       "</pre>\n"
      ],
      "text/plain": [
       "\u001b[2;36m                   \u001b[0m\u001b[2;36m \u001b[0m\u001b[34mINFO    \u001b[0m Found SCOPe structures in:                                  \u001b]8;id=107442;file:///home/yang/Yang_ZHANG/Projects/3d/ProteinWorkshop/proteinworkshop/datasets/fold_classification.py\u001b\\\u001b[2mfold_classification.py\u001b[0m\u001b]8;;\u001b\\\u001b[2m:\u001b[0m\u001b]8;id=299907;file:///home/yang/Yang_ZHANG/Projects/3d/ProteinWorkshop/proteinworkshop/datasets/fold_classification.py#151\u001b\\\u001b[2m151\u001b[0m\u001b]8;;\u001b\\\n"
      ]
     },
     "metadata": {},
     "output_type": "display_data"
    },
    {
     "data": {
      "text/html": [
       "<pre style=\"white-space:pre;overflow-x:auto;line-height:normal;font-family:Menlo,'DejaVu Sans Mono',consolas,'Courier New',monospace\"><span style=\"color: #7fbfbf; text-decoration-color: #7fbfbf\">                    </span><span style=\"color: #000080; text-decoration-color: #000080\">INFO    </span> Preprocessing test data                                                     <a href=\"file:///home/yang/Yang_ZHANG/Projects/3d/ProteinWorkshop/proteinworkshop/datasets/base.py\" target=\"_blank\"><span style=\"color: #7f7f7f; text-decoration-color: #7f7f7f\">base.py</span></a><span style=\"color: #7f7f7f; text-decoration-color: #7f7f7f\">:</span><a href=\"file:///home/yang/Yang_ZHANG/Projects/3d/ProteinWorkshop/proteinworkshop/datasets/base.py#92\" target=\"_blank\"><span style=\"color: #7f7f7f; text-decoration-color: #7f7f7f\">92</span></a>\n",
       "</pre>\n"
      ],
      "text/plain": [
       "\u001b[2;36m                   \u001b[0m\u001b[2;36m \u001b[0m\u001b[34mINFO    \u001b[0m Preprocessing test data                                                     \u001b]8;id=433062;file:///home/yang/Yang_ZHANG/Projects/3d/ProteinWorkshop/proteinworkshop/datasets/base.py\u001b\\\u001b[2mbase.py\u001b[0m\u001b]8;;\u001b\\\u001b[2m:\u001b[0m\u001b]8;id=689680;file:///home/yang/Yang_ZHANG/Projects/3d/ProteinWorkshop/proteinworkshop/datasets/base.py#92\u001b\\\u001b[2m92\u001b[0m\u001b]8;;\u001b\\\n"
      ]
     },
     "metadata": {},
     "output_type": "display_data"
    },
    {
     "name": "stderr",
     "output_type": "stream",
     "text": [
      "Restoring states from the checkpoint path at /home/yang/Yang_ZHANG/Projects/3d/ProteinWorkshop/notebooks/outputs/checkpoints/epoch_102.ckpt\n",
      "LOCAL_RANK: 0 - CUDA_VISIBLE_DEVICES: [0,1]\n",
      "Loaded model weights from the checkpoint at /home/yang/Yang_ZHANG/Projects/3d/ProteinWorkshop/notebooks/outputs/checkpoints/epoch_102.ckpt\n"
     ]
    },
    {
     "data": {
      "application/vnd.jupyter.widget-view+json": {
       "model_id": "b8c89328265c4c159d8a135fbd893ff7",
       "version_major": 2,
       "version_minor": 0
      },
      "text/plain": [
       "Output()"
      ]
     },
     "metadata": {},
     "output_type": "display_data"
    },
    {
     "data": {
      "text/html": [
       "<pre style=\"white-space:pre;overflow-x:auto;line-height:normal;font-family:Menlo,'DejaVu Sans Mono',consolas,'Courier New',monospace\">┏━━━━━━━━━━━━━━━━━━━━━━━━━━━┳━━━━━━━━━━━━━━━━━━━━━━━━━━━┓\n",
       "┃<span style=\"font-weight: bold\">        Test metric        </span>┃<span style=\"font-weight: bold\">       DataLoader 0        </span>┃\n",
       "┡━━━━━━━━━━━━━━━━━━━━━━━━━━━╇━━━━━━━━━━━━━━━━━━━━━━━━━━━┩\n",
       "│<span style=\"color: #008080; text-decoration-color: #008080\"> test/graph_label/accuracy </span>│<span style=\"color: #800080; text-decoration-color: #800080\">    0.9583333134651184     </span>│\n",
       "│<span style=\"color: #008080; text-decoration-color: #008080\">  test/graph_label/f1_max  </span>│<span style=\"color: #800080; text-decoration-color: #800080\">    0.9741988182067871     </span>│\n",
       "│<span style=\"color: #008080; text-decoration-color: #008080\"> test/graph_label/f1_score </span>│<span style=\"color: #800080; text-decoration-color: #800080\">    0.8232339024543762     </span>│\n",
       "│<span style=\"color: #008080; text-decoration-color: #008080\">   test/loss/graph_label   </span>│<span style=\"color: #800080; text-decoration-color: #800080\">    0.20202183723449707    </span>│\n",
       "│<span style=\"color: #008080; text-decoration-color: #008080\">      test/loss/total      </span>│<span style=\"color: #800080; text-decoration-color: #800080\">    0.20202183723449707    </span>│\n",
       "└───────────────────────────┴───────────────────────────┘\n",
       "</pre>\n"
      ],
      "text/plain": [
       "┏━━━━━━━━━━━━━━━━━━━━━━━━━━━┳━━━━━━━━━━━━━━━━━━━━━━━━━━━┓\n",
       "┃\u001b[1m \u001b[0m\u001b[1m       Test metric       \u001b[0m\u001b[1m \u001b[0m┃\u001b[1m \u001b[0m\u001b[1m      DataLoader 0       \u001b[0m\u001b[1m \u001b[0m┃\n",
       "┡━━━━━━━━━━━━━━━━━━━━━━━━━━━╇━━━━━━━━━━━━━━━━━━━━━━━━━━━┩\n",
       "│\u001b[36m \u001b[0m\u001b[36mtest/graph_label/accuracy\u001b[0m\u001b[36m \u001b[0m│\u001b[35m \u001b[0m\u001b[35m   0.9583333134651184    \u001b[0m\u001b[35m \u001b[0m│\n",
       "│\u001b[36m \u001b[0m\u001b[36m test/graph_label/f1_max \u001b[0m\u001b[36m \u001b[0m│\u001b[35m \u001b[0m\u001b[35m   0.9741988182067871    \u001b[0m\u001b[35m \u001b[0m│\n",
       "│\u001b[36m \u001b[0m\u001b[36mtest/graph_label/f1_score\u001b[0m\u001b[36m \u001b[0m│\u001b[35m \u001b[0m\u001b[35m   0.8232339024543762    \u001b[0m\u001b[35m \u001b[0m│\n",
       "│\u001b[36m \u001b[0m\u001b[36m  test/loss/graph_label  \u001b[0m\u001b[36m \u001b[0m│\u001b[35m \u001b[0m\u001b[35m   0.20202183723449707   \u001b[0m\u001b[35m \u001b[0m│\n",
       "│\u001b[36m \u001b[0m\u001b[36m     test/loss/total     \u001b[0m\u001b[36m \u001b[0m│\u001b[35m \u001b[0m\u001b[35m   0.20202183723449707   \u001b[0m\u001b[35m \u001b[0m│\n",
       "└───────────────────────────┴───────────────────────────┘\n"
      ]
     },
     "metadata": {},
     "output_type": "display_data"
    },
    {
     "data": {
      "text/html": [
       "<pre style=\"white-space:pre;overflow-x:auto;line-height:normal;font-family:Menlo,'DejaVu Sans Mono',consolas,'Courier New',monospace\"></pre>\n"
      ],
      "text/plain": []
     },
     "metadata": {},
     "output_type": "display_data"
    },
    {
     "data": {
      "text/html": [
       "<pre style=\"white-space:pre;overflow-x:auto;line-height:normal;font-family:Menlo,'DejaVu Sans Mono',consolas,'Courier New',monospace\">\n",
       "</pre>\n"
      ],
      "text/plain": [
       "\n"
      ]
     },
     "metadata": {},
     "output_type": "display_data"
    },
    {
     "data": {
      "text/html": [
       "<pre style=\"white-space:pre;overflow-x:auto;line-height:normal;font-family:Menlo,'DejaVu Sans Mono',consolas,'Courier New',monospace\"><span style=\"color: #7fbfbf; text-decoration-color: #7fbfbf\">[07/12/24 07:01:11] </span><span style=\"color: #000080; text-decoration-color: #000080\">INFO    </span> family: <span style=\"font-weight: bold\">{</span><span style=\"color: #008000; text-decoration-color: #008000\">'test/loss/graph_label/family'</span>: <span style=\"color: #008080; text-decoration-color: #008080; font-weight: bold\">0.20202183723449707</span>,             <a href=\"file:///home/yang/Yang_ZHANG/Projects/3d/ProteinWorkshop/proteinworkshop/train.py\" target=\"_blank\"><span style=\"color: #7f7f7f; text-decoration-color: #7f7f7f\">train.py</span></a><span style=\"color: #7f7f7f; text-decoration-color: #7f7f7f\">:</span><a href=\"file:///home/yang/Yang_ZHANG/Projects/3d/ProteinWorkshop/proteinworkshop/train.py#199\" target=\"_blank\"><span style=\"color: #7f7f7f; text-decoration-color: #7f7f7f\">199</span></a>\n",
       "<span style=\"color: #7fbfbf; text-decoration-color: #7fbfbf\">                    </span>         <span style=\"color: #008000; text-decoration-color: #008000\">'test/loss/total/family'</span>: <span style=\"color: #008080; text-decoration-color: #008080; font-weight: bold\">0.20202183723449707</span>,                            <span style=\"color: #7f7f7f; text-decoration-color: #7f7f7f\">            </span>\n",
       "<span style=\"color: #7fbfbf; text-decoration-color: #7fbfbf\">                    </span>         <span style=\"color: #008000; text-decoration-color: #008000\">'test/graph_label/accuracy/family'</span>: <span style=\"color: #008080; text-decoration-color: #008080; font-weight: bold\">0.9583333134651184</span>,                   <span style=\"color: #7f7f7f; text-decoration-color: #7f7f7f\">            </span>\n",
       "<span style=\"color: #7fbfbf; text-decoration-color: #7fbfbf\">                    </span>         <span style=\"color: #008000; text-decoration-color: #008000\">'test/graph_label/f1_score/family'</span>: <span style=\"color: #008080; text-decoration-color: #008080; font-weight: bold\">0.8232339024543762</span>,                   <span style=\"color: #7f7f7f; text-decoration-color: #7f7f7f\">            </span>\n",
       "<span style=\"color: #7fbfbf; text-decoration-color: #7fbfbf\">                    </span>         <span style=\"color: #008000; text-decoration-color: #008000\">'test/graph_label/f1_max/family'</span>: <span style=\"color: #008080; text-decoration-color: #008080; font-weight: bold\">0.9741988182067871</span><span style=\"font-weight: bold\">}</span>                     <span style=\"color: #7f7f7f; text-decoration-color: #7f7f7f\">            </span>\n",
       "</pre>\n"
      ],
      "text/plain": [
       "\u001b[2;36m[07/12/24 07:01:11]\u001b[0m\u001b[2;36m \u001b[0m\u001b[34mINFO    \u001b[0m family: \u001b[1m{\u001b[0m\u001b[32m'test/loss/graph_label/family'\u001b[0m: \u001b[1;36m0.20202183723449707\u001b[0m,             \u001b]8;id=726532;file:///home/yang/Yang_ZHANG/Projects/3d/ProteinWorkshop/proteinworkshop/train.py\u001b\\\u001b[2mtrain.py\u001b[0m\u001b]8;;\u001b\\\u001b[2m:\u001b[0m\u001b]8;id=776673;file:///home/yang/Yang_ZHANG/Projects/3d/ProteinWorkshop/proteinworkshop/train.py#199\u001b\\\u001b[2m199\u001b[0m\u001b]8;;\u001b\\\n",
       "\u001b[2;36m                    \u001b[0m         \u001b[32m'test/loss/total/family'\u001b[0m: \u001b[1;36m0.20202183723449707\u001b[0m,                            \u001b[2m            \u001b[0m\n",
       "\u001b[2;36m                    \u001b[0m         \u001b[32m'test/graph_label/accuracy/family'\u001b[0m: \u001b[1;36m0.9583333134651184\u001b[0m,                   \u001b[2m            \u001b[0m\n",
       "\u001b[2;36m                    \u001b[0m         \u001b[32m'test/graph_label/f1_score/family'\u001b[0m: \u001b[1;36m0.8232339024543762\u001b[0m,                   \u001b[2m            \u001b[0m\n",
       "\u001b[2;36m                    \u001b[0m         \u001b[32m'test/graph_label/f1_max/family'\u001b[0m: \u001b[1;36m0.9741988182067871\u001b[0m\u001b[1m}\u001b[0m                     \u001b[2m            \u001b[0m\n"
      ]
     },
     "metadata": {},
     "output_type": "display_data"
    },
    {
     "data": {
      "text/html": [
       "<pre style=\"white-space:pre;overflow-x:auto;line-height:normal;font-family:Menlo,'DejaVu Sans Mono',consolas,'Courier New',monospace\"><span style=\"color: #7fbfbf; text-decoration-color: #7fbfbf\">                    </span><span style=\"color: #000080; text-decoration-color: #000080\">INFO    </span> Testing on superfamily <span style=\"font-weight: bold\">(</span><span style=\"color: #008080; text-decoration-color: #008080; font-weight: bold\">3</span> <span style=\"color: #800080; text-decoration-color: #800080\">/</span> <span style=\"color: #008080; text-decoration-color: #008080; font-weight: bold\">3</span><span style=\"font-weight: bold\">)</span><span style=\"color: #808000; text-decoration-color: #808000\">...</span>                                         <a href=\"file:///home/yang/Yang_ZHANG/Projects/3d/ProteinWorkshop/proteinworkshop/train.py\" target=\"_blank\"><span style=\"color: #7f7f7f; text-decoration-color: #7f7f7f\">train.py</span></a><span style=\"color: #7f7f7f; text-decoration-color: #7f7f7f\">:</span><a href=\"file:///home/yang/Yang_ZHANG/Projects/3d/ProteinWorkshop/proteinworkshop/train.py#194\" target=\"_blank\"><span style=\"color: #7f7f7f; text-decoration-color: #7f7f7f\">194</span></a>\n",
       "</pre>\n"
      ],
      "text/plain": [
       "\u001b[2;36m                   \u001b[0m\u001b[2;36m \u001b[0m\u001b[34mINFO    \u001b[0m Testing on superfamily \u001b[1m(\u001b[0m\u001b[1;36m3\u001b[0m \u001b[35m/\u001b[0m \u001b[1;36m3\u001b[0m\u001b[1m)\u001b[0m\u001b[33m...\u001b[0m                                         \u001b]8;id=832263;file:///home/yang/Yang_ZHANG/Projects/3d/ProteinWorkshop/proteinworkshop/train.py\u001b\\\u001b[2mtrain.py\u001b[0m\u001b]8;;\u001b\\\u001b[2m:\u001b[0m\u001b]8;id=748585;file:///home/yang/Yang_ZHANG/Projects/3d/ProteinWorkshop/proteinworkshop/train.py#194\u001b\\\u001b[2m194\u001b[0m\u001b]8;;\u001b\\\n"
      ]
     },
     "metadata": {},
     "output_type": "display_data"
    },
    {
     "data": {
      "text/html": [
       "<pre style=\"white-space:pre;overflow-x:auto;line-height:normal;font-family:Menlo,'DejaVu Sans Mono',consolas,'Courier New',monospace\"><span style=\"color: #7fbfbf; text-decoration-color: #7fbfbf\">                    </span><span style=\"color: #000080; text-decoration-color: #000080\">INFO    </span> Downloading Protein Function. Fraction <span style=\"color: #008080; text-decoration-color: #008080; font-weight: bold\">1.0</span>                   <a href=\"file:///home/yang/Yang_ZHANG/Projects/3d/ProteinWorkshop/proteinworkshop/datasets/fold_classification.py\" target=\"_blank\"><span style=\"color: #7f7f7f; text-decoration-color: #7f7f7f\">fold_classification.py</span></a><span style=\"color: #7f7f7f; text-decoration-color: #7f7f7f\">:</span><a href=\"file:///home/yang/Yang_ZHANG/Projects/3d/ProteinWorkshop/proteinworkshop/datasets/fold_classification.py#86\" target=\"_blank\"><span style=\"color: #7f7f7f; text-decoration-color: #7f7f7f\">86</span></a>\n",
       "</pre>\n"
      ],
      "text/plain": [
       "\u001b[2;36m                   \u001b[0m\u001b[2;36m \u001b[0m\u001b[34mINFO    \u001b[0m Downloading Protein Function. Fraction \u001b[1;36m1.0\u001b[0m                   \u001b]8;id=893816;file:///home/yang/Yang_ZHANG/Projects/3d/ProteinWorkshop/proteinworkshop/datasets/fold_classification.py\u001b\\\u001b[2mfold_classification.py\u001b[0m\u001b]8;;\u001b\\\u001b[2m:\u001b[0m\u001b]8;id=325165;file:///home/yang/Yang_ZHANG/Projects/3d/ProteinWorkshop/proteinworkshop/datasets/fold_classification.py#86\u001b\\\u001b[2m86\u001b[0m\u001b]8;;\u001b\\\n"
      ]
     },
     "metadata": {},
     "output_type": "display_data"
    },
    {
     "data": {
      "text/html": [
       "<pre style=\"white-space:pre;overflow-x:auto;line-height:normal;font-family:Menlo,'DejaVu Sans Mono',consolas,'Courier New',monospace\"><span style=\"color: #7fbfbf; text-decoration-color: #7fbfbf\">                    </span><span style=\"color: #000080; text-decoration-color: #000080\">INFO    </span> Found SCOP structure tarfile in:                            <a href=\"file:///home/yang/Yang_ZHANG/Projects/3d/ProteinWorkshop/proteinworkshop/datasets/fold_classification.py\" target=\"_blank\"><span style=\"color: #7f7f7f; text-decoration-color: #7f7f7f\">fold_classification.py</span></a><span style=\"color: #7f7f7f; text-decoration-color: #7f7f7f\">:</span><a href=\"file:///home/yang/Yang_ZHANG/Projects/3d/ProteinWorkshop/proteinworkshop/datasets/fold_classification.py#138\" target=\"_blank\"><span style=\"color: #7f7f7f; text-decoration-color: #7f7f7f\">138</span></a>\n",
       "<span style=\"color: #7fbfbf; text-decoration-color: #7fbfbf\">                    </span>         <span style=\"color: #800080; text-decoration-color: #800080\">/home/yang/Yang_ZHANG/Projects/3d/ProteinWorkshop/proteinwo</span> <span style=\"color: #7f7f7f; text-decoration-color: #7f7f7f\">                          </span>\n",
       "<span style=\"color: #7fbfbf; text-decoration-color: #7fbfbf\">                    </span>         <span style=\"color: #800080; text-decoration-color: #800080\">rkshop/data/FoldClassification/</span><span style=\"color: #ff00ff; text-decoration-color: #ff00ff\">pdbstyle-sel-gs-bib-95-1.75.</span> <span style=\"color: #7f7f7f; text-decoration-color: #7f7f7f\">                          </span>\n",
       "<span style=\"color: #7fbfbf; text-decoration-color: #7fbfbf\">                    </span>         <span style=\"color: #ff00ff; text-decoration-color: #ff00ff\">tgz</span>                                                         <span style=\"color: #7f7f7f; text-decoration-color: #7f7f7f\">                          </span>\n",
       "</pre>\n"
      ],
      "text/plain": [
       "\u001b[2;36m                   \u001b[0m\u001b[2;36m \u001b[0m\u001b[34mINFO    \u001b[0m Found SCOP structure tarfile in:                            \u001b]8;id=559685;file:///home/yang/Yang_ZHANG/Projects/3d/ProteinWorkshop/proteinworkshop/datasets/fold_classification.py\u001b\\\u001b[2mfold_classification.py\u001b[0m\u001b]8;;\u001b\\\u001b[2m:\u001b[0m\u001b]8;id=156267;file:///home/yang/Yang_ZHANG/Projects/3d/ProteinWorkshop/proteinworkshop/datasets/fold_classification.py#138\u001b\\\u001b[2m138\u001b[0m\u001b]8;;\u001b\\\n",
       "\u001b[2;36m                    \u001b[0m         \u001b[35m/home/yang/Yang_ZHANG/Projects/3d/ProteinWorkshop/proteinwo\u001b[0m \u001b[2m                          \u001b[0m\n",
       "\u001b[2;36m                    \u001b[0m         \u001b[35mrkshop/data/FoldClassification/\u001b[0m\u001b[95mpdbstyle-sel-gs-bib-95-1.75.\u001b[0m \u001b[2m                          \u001b[0m\n",
       "\u001b[2;36m                    \u001b[0m         \u001b[95mtgz\u001b[0m                                                         \u001b[2m                          \u001b[0m\n"
      ]
     },
     "metadata": {},
     "output_type": "display_data"
    },
    {
     "data": {
      "text/html": [
       "<pre style=\"white-space:pre;overflow-x:auto;line-height:normal;font-family:Menlo,'DejaVu Sans Mono',consolas,'Courier New',monospace\"><span style=\"color: #7fbfbf; text-decoration-color: #7fbfbf\">                    </span><span style=\"color: #000080; text-decoration-color: #000080\">INFO    </span> Found SCOPe structures in:                                  <a href=\"file:///home/yang/Yang_ZHANG/Projects/3d/ProteinWorkshop/proteinworkshop/datasets/fold_classification.py\" target=\"_blank\"><span style=\"color: #7f7f7f; text-decoration-color: #7f7f7f\">fold_classification.py</span></a><span style=\"color: #7f7f7f; text-decoration-color: #7f7f7f\">:</span><a href=\"file:///home/yang/Yang_ZHANG/Projects/3d/ProteinWorkshop/proteinworkshop/datasets/fold_classification.py#151\" target=\"_blank\"><span style=\"color: #7f7f7f; text-decoration-color: #7f7f7f\">151</span></a>\n",
       "</pre>\n"
      ],
      "text/plain": [
       "\u001b[2;36m                   \u001b[0m\u001b[2;36m \u001b[0m\u001b[34mINFO    \u001b[0m Found SCOPe structures in:                                  \u001b]8;id=357838;file:///home/yang/Yang_ZHANG/Projects/3d/ProteinWorkshop/proteinworkshop/datasets/fold_classification.py\u001b\\\u001b[2mfold_classification.py\u001b[0m\u001b]8;;\u001b\\\u001b[2m:\u001b[0m\u001b]8;id=300765;file:///home/yang/Yang_ZHANG/Projects/3d/ProteinWorkshop/proteinworkshop/datasets/fold_classification.py#151\u001b\\\u001b[2m151\u001b[0m\u001b]8;;\u001b\\\n"
      ]
     },
     "metadata": {},
     "output_type": "display_data"
    },
    {
     "data": {
      "text/html": [
       "<pre style=\"white-space:pre;overflow-x:auto;line-height:normal;font-family:Menlo,'DejaVu Sans Mono',consolas,'Courier New',monospace\"><span style=\"color: #7fbfbf; text-decoration-color: #7fbfbf\">                    </span><span style=\"color: #000080; text-decoration-color: #000080\">INFO    </span> Preprocessing test data                                                     <a href=\"file:///home/yang/Yang_ZHANG/Projects/3d/ProteinWorkshop/proteinworkshop/datasets/base.py\" target=\"_blank\"><span style=\"color: #7f7f7f; text-decoration-color: #7f7f7f\">base.py</span></a><span style=\"color: #7f7f7f; text-decoration-color: #7f7f7f\">:</span><a href=\"file:///home/yang/Yang_ZHANG/Projects/3d/ProteinWorkshop/proteinworkshop/datasets/base.py#92\" target=\"_blank\"><span style=\"color: #7f7f7f; text-decoration-color: #7f7f7f\">92</span></a>\n",
       "</pre>\n"
      ],
      "text/plain": [
       "\u001b[2;36m                   \u001b[0m\u001b[2;36m \u001b[0m\u001b[34mINFO    \u001b[0m Preprocessing test data                                                     \u001b]8;id=210855;file:///home/yang/Yang_ZHANG/Projects/3d/ProteinWorkshop/proteinworkshop/datasets/base.py\u001b\\\u001b[2mbase.py\u001b[0m\u001b]8;;\u001b\\\u001b[2m:\u001b[0m\u001b]8;id=989097;file:///home/yang/Yang_ZHANG/Projects/3d/ProteinWorkshop/proteinworkshop/datasets/base.py#92\u001b\\\u001b[2m92\u001b[0m\u001b]8;;\u001b\\\n"
      ]
     },
     "metadata": {},
     "output_type": "display_data"
    },
    {
     "name": "stderr",
     "output_type": "stream",
     "text": [
      "Restoring states from the checkpoint path at /home/yang/Yang_ZHANG/Projects/3d/ProteinWorkshop/notebooks/outputs/checkpoints/epoch_102.ckpt\n",
      "LOCAL_RANK: 0 - CUDA_VISIBLE_DEVICES: [0,1]\n",
      "Loaded model weights from the checkpoint at /home/yang/Yang_ZHANG/Projects/3d/ProteinWorkshop/notebooks/outputs/checkpoints/epoch_102.ckpt\n"
     ]
    },
    {
     "data": {
      "application/vnd.jupyter.widget-view+json": {
       "model_id": "58923846632d44a9bc3638a811f5f8f3",
       "version_major": 2,
       "version_minor": 0
      },
      "text/plain": [
       "Output()"
      ]
     },
     "metadata": {},
     "output_type": "display_data"
    },
    {
     "data": {
      "text/html": [
       "<pre style=\"white-space:pre;overflow-x:auto;line-height:normal;font-family:Menlo,'DejaVu Sans Mono',consolas,'Courier New',monospace\">┏━━━━━━━━━━━━━━━━━━━━━━━━━━━┳━━━━━━━━━━━━━━━━━━━━━━━━━━━┓\n",
       "┃<span style=\"font-weight: bold\">        Test metric        </span>┃<span style=\"font-weight: bold\">       DataLoader 0        </span>┃\n",
       "┡━━━━━━━━━━━━━━━━━━━━━━━━━━━╇━━━━━━━━━━━━━━━━━━━━━━━━━━━┩\n",
       "│<span style=\"color: #008080; text-decoration-color: #008080\"> test/graph_label/accuracy </span>│<span style=\"color: #800080; text-decoration-color: #800080\">    0.5549479126930237     </span>│\n",
       "│<span style=\"color: #008080; text-decoration-color: #008080\">  test/graph_label/f1_max  </span>│<span style=\"color: #800080; text-decoration-color: #800080\">     0.620840847492218     </span>│\n",
       "│<span style=\"color: #008080; text-decoration-color: #008080\"> test/graph_label/f1_score </span>│<span style=\"color: #800080; text-decoration-color: #800080\">    0.23342247307300568    </span>│\n",
       "│<span style=\"color: #008080; text-decoration-color: #008080\">   test/loss/graph_label   </span>│<span style=\"color: #800080; text-decoration-color: #800080\">     6.051417827606201     </span>│\n",
       "│<span style=\"color: #008080; text-decoration-color: #008080\">      test/loss/total      </span>│<span style=\"color: #800080; text-decoration-color: #800080\">     6.051417827606201     </span>│\n",
       "└───────────────────────────┴───────────────────────────┘\n",
       "</pre>\n"
      ],
      "text/plain": [
       "┏━━━━━━━━━━━━━━━━━━━━━━━━━━━┳━━━━━━━━━━━━━━━━━━━━━━━━━━━┓\n",
       "┃\u001b[1m \u001b[0m\u001b[1m       Test metric       \u001b[0m\u001b[1m \u001b[0m┃\u001b[1m \u001b[0m\u001b[1m      DataLoader 0       \u001b[0m\u001b[1m \u001b[0m┃\n",
       "┡━━━━━━━━━━━━━━━━━━━━━━━━━━━╇━━━━━━━━━━━━━━━━━━━━━━━━━━━┩\n",
       "│\u001b[36m \u001b[0m\u001b[36mtest/graph_label/accuracy\u001b[0m\u001b[36m \u001b[0m│\u001b[35m \u001b[0m\u001b[35m   0.5549479126930237    \u001b[0m\u001b[35m \u001b[0m│\n",
       "│\u001b[36m \u001b[0m\u001b[36m test/graph_label/f1_max \u001b[0m\u001b[36m \u001b[0m│\u001b[35m \u001b[0m\u001b[35m    0.620840847492218    \u001b[0m\u001b[35m \u001b[0m│\n",
       "│\u001b[36m \u001b[0m\u001b[36mtest/graph_label/f1_score\u001b[0m\u001b[36m \u001b[0m│\u001b[35m \u001b[0m\u001b[35m   0.23342247307300568   \u001b[0m\u001b[35m \u001b[0m│\n",
       "│\u001b[36m \u001b[0m\u001b[36m  test/loss/graph_label  \u001b[0m\u001b[36m \u001b[0m│\u001b[35m \u001b[0m\u001b[35m    6.051417827606201    \u001b[0m\u001b[35m \u001b[0m│\n",
       "│\u001b[36m \u001b[0m\u001b[36m     test/loss/total     \u001b[0m\u001b[36m \u001b[0m│\u001b[35m \u001b[0m\u001b[35m    6.051417827606201    \u001b[0m\u001b[35m \u001b[0m│\n",
       "└───────────────────────────┴───────────────────────────┘\n"
      ]
     },
     "metadata": {},
     "output_type": "display_data"
    },
    {
     "data": {
      "text/html": [
       "<pre style=\"white-space:pre;overflow-x:auto;line-height:normal;font-family:Menlo,'DejaVu Sans Mono',consolas,'Courier New',monospace\"></pre>\n"
      ],
      "text/plain": []
     },
     "metadata": {},
     "output_type": "display_data"
    },
    {
     "data": {
      "text/html": [
       "<pre style=\"white-space:pre;overflow-x:auto;line-height:normal;font-family:Menlo,'DejaVu Sans Mono',consolas,'Courier New',monospace\">\n",
       "</pre>\n"
      ],
      "text/plain": [
       "\n"
      ]
     },
     "metadata": {},
     "output_type": "display_data"
    },
    {
     "data": {
      "text/html": [
       "<pre style=\"white-space:pre;overflow-x:auto;line-height:normal;font-family:Menlo,'DejaVu Sans Mono',consolas,'Courier New',monospace\"><span style=\"color: #7fbfbf; text-decoration-color: #7fbfbf\">[07/12/24 07:01:29] </span><span style=\"color: #000080; text-decoration-color: #000080\">INFO    </span> superfamily: <span style=\"font-weight: bold\">{</span><span style=\"color: #008000; text-decoration-color: #008000\">'test/loss/graph_label/superfamily'</span>: <span style=\"color: #008080; text-decoration-color: #008080; font-weight: bold\">6.051417827606201</span>,     <a href=\"file:///home/yang/Yang_ZHANG/Projects/3d/ProteinWorkshop/proteinworkshop/train.py\" target=\"_blank\"><span style=\"color: #7f7f7f; text-decoration-color: #7f7f7f\">train.py</span></a><span style=\"color: #7f7f7f; text-decoration-color: #7f7f7f\">:</span><a href=\"file:///home/yang/Yang_ZHANG/Projects/3d/ProteinWorkshop/proteinworkshop/train.py#199\" target=\"_blank\"><span style=\"color: #7f7f7f; text-decoration-color: #7f7f7f\">199</span></a>\n",
       "<span style=\"color: #7fbfbf; text-decoration-color: #7fbfbf\">                    </span>         <span style=\"color: #008000; text-decoration-color: #008000\">'test/loss/total/superfamily'</span>: <span style=\"color: #008080; text-decoration-color: #008080; font-weight: bold\">6.051417827606201</span>,                         <span style=\"color: #7f7f7f; text-decoration-color: #7f7f7f\">            </span>\n",
       "<span style=\"color: #7fbfbf; text-decoration-color: #7fbfbf\">                    </span>         <span style=\"color: #008000; text-decoration-color: #008000\">'test/graph_label/accuracy/superfamily'</span>: <span style=\"color: #008080; text-decoration-color: #008080; font-weight: bold\">0.5549479126930237</span>,              <span style=\"color: #7f7f7f; text-decoration-color: #7f7f7f\">            </span>\n",
       "<span style=\"color: #7fbfbf; text-decoration-color: #7fbfbf\">                    </span>         <span style=\"color: #008000; text-decoration-color: #008000\">'test/graph_label/f1_score/superfamily'</span>: <span style=\"color: #008080; text-decoration-color: #008080; font-weight: bold\">0.23342247307300568</span>,             <span style=\"color: #7f7f7f; text-decoration-color: #7f7f7f\">            </span>\n",
       "<span style=\"color: #7fbfbf; text-decoration-color: #7fbfbf\">                    </span>         <span style=\"color: #008000; text-decoration-color: #008000\">'test/graph_label/f1_max/superfamily'</span>: <span style=\"color: #008080; text-decoration-color: #008080; font-weight: bold\">0.620840847492218</span><span style=\"font-weight: bold\">}</span>                 <span style=\"color: #7f7f7f; text-decoration-color: #7f7f7f\">            </span>\n",
       "</pre>\n"
      ],
      "text/plain": [
       "\u001b[2;36m[07/12/24 07:01:29]\u001b[0m\u001b[2;36m \u001b[0m\u001b[34mINFO    \u001b[0m superfamily: \u001b[1m{\u001b[0m\u001b[32m'test/loss/graph_label/superfamily'\u001b[0m: \u001b[1;36m6.051417827606201\u001b[0m,     \u001b]8;id=771467;file:///home/yang/Yang_ZHANG/Projects/3d/ProteinWorkshop/proteinworkshop/train.py\u001b\\\u001b[2mtrain.py\u001b[0m\u001b]8;;\u001b\\\u001b[2m:\u001b[0m\u001b]8;id=226117;file:///home/yang/Yang_ZHANG/Projects/3d/ProteinWorkshop/proteinworkshop/train.py#199\u001b\\\u001b[2m199\u001b[0m\u001b]8;;\u001b\\\n",
       "\u001b[2;36m                    \u001b[0m         \u001b[32m'test/loss/total/superfamily'\u001b[0m: \u001b[1;36m6.051417827606201\u001b[0m,                         \u001b[2m            \u001b[0m\n",
       "\u001b[2;36m                    \u001b[0m         \u001b[32m'test/graph_label/accuracy/superfamily'\u001b[0m: \u001b[1;36m0.5549479126930237\u001b[0m,              \u001b[2m            \u001b[0m\n",
       "\u001b[2;36m                    \u001b[0m         \u001b[32m'test/graph_label/f1_score/superfamily'\u001b[0m: \u001b[1;36m0.23342247307300568\u001b[0m,             \u001b[2m            \u001b[0m\n",
       "\u001b[2;36m                    \u001b[0m         \u001b[32m'test/graph_label/f1_max/superfamily'\u001b[0m: \u001b[1;36m0.620840847492218\u001b[0m\u001b[1m}\u001b[0m                 \u001b[2m            \u001b[0m\n"
      ]
     },
     "metadata": {},
     "output_type": "display_data"
    }
   ],
   "source": [
    "from proteinworkshop.train import train_model\n",
    "\n",
    "train_model(cfg)"
   ]
  },
  {
   "cell_type": "markdown",
   "metadata": {},
   "source": [
    "### 4. Wrapping up\n",
    "\n",
    "Have any additional questions about using the components provided in the `ProteinWorkshop`? [Create a new issue](https://github.com/a-r-j/ProteinWorkshop/issues/new/choose) on our [GitHub repository](https://github.com/a-r-j/ProteinWorkshop). We would be happy to work with you to leverage the full power of the repository!"
   ]
  },
  {
   "cell_type": "markdown",
   "metadata": {},
   "source": [
    "/home/yang/anaconda3/envs/3d/lib/python3.10/site-packages/lightning/pytorch/utilities/data.py"
   ]
  }
 ],
 "metadata": {
  "kernelspec": {
   "display_name": "Python 3",
   "language": "python",
   "name": "python3"
  },
  "language_info": {
   "codemirror_mode": {
    "name": "ipython",
    "version": 3
   },
   "file_extension": ".py",
   "mimetype": "text/x-python",
   "name": "python",
   "nbconvert_exporter": "python",
   "pygments_lexer": "ipython3",
   "version": "3.10.14"
  },
  "orig_nbformat": 4
 },
 "nbformat": 4,
 "nbformat_minor": 2
}
