{
 "cells": [
  {
   "cell_type": "markdown",
   "metadata": {},
   "source": [
    "# `ProteinWorkshop` Tutorial, Part 1 - Training a New Model\n",
    "![Models](../docs/source/_static/box_models.png)"
   ]
  },
  {
   "cell_type": "markdown",
   "metadata": {},
   "source": [
    "## Train a new model using the `ProteinWorkshop`"
   ]
  },
  {
   "cell_type": "code",
   "execution_count": 1,
   "metadata": {},
   "outputs": [],
   "source": [
    "%load_ext autoreload\n",
    "%autoreload 2\n",
    "# %load_ext blackcellmagic"
   ]
  },
  {
   "cell_type": "markdown",
   "metadata": {},
   "source": [
    "Welcome to the tutorial series for the `ProteinWorkshop`! \n",
    "\n",
    "In the `ProteinWorkshop`, we implement numerous [featurisation](https://www.proteins.sh/configs/features) schemes, [datasets](https://www.proteins.sh/configs/dataset) for [self-supervised pre-training](https://proteins.sh/quickstart_component/pretrain.html) and [downstream evaluation](https://proteins.sh/quickstart_component/downstream.html), [pre-training](https://proteins.sh/configs/task) tasks, and [auxiliary tasks](https://proteins.sh/configs/task.html#auxiliary-tasks).\n",
    "\n",
    "[Processed datasets](https://drive.google.com/drive/folders/18i8rLST6ZICTBu6Q67ClT0KqN9AHeqoW?usp=sharing) and [pre-trained weights](https://drive.google.com/drive/folders/1zK1r8FpmGaqV_QwUJuvDacwSL0RW-Vw9?usp=sharing) are made available. Downloading datasets is not required; upon first run all datasets will be downloaded and processed from their respective source.\n",
    "\n",
    "The `ProteinWorkshop` encompasses several models as well as pre-trained weights for them so that you can readily use them.\n",
    "\n",
    "In this tutorial, we show you how you can use what is already available in the protein workshop to train and use models for specific tasks. The `ProteinWorkshop` is structured as a very modular package; we will therefore talk about how to change the different parts of it, like the model, training task, dataset, featurization scheme, etc. in this tutorial. \n",
    "\n",
    "Besides using all the different options we provide, you can make use of the modular nature of the `ProteinWorkshop` to add your own models, datasets, featurization schemes, and training tasks. We will show you how to do this in the next tutorials."
   ]
  },
  {
   "cell_type": "markdown",
   "metadata": {},
   "source": [
    "To train a new model, you can follow the following 3-step procedure:\n",
    "\n",
    "1. Choose the parts you want to consider: model, training task, dataset, featurization scheme and auxiliary tasks\n",
    "2. Validate the designed training config\n",
    "3. Use the designed config to train a new model"
   ]
  },
  {
   "cell_type": "markdown",
   "metadata": {},
   "source": [
    "### 1. Choose the parts you want to consider: model, training task, dataset, featurization scheme and auxiliary tasks\n",
    "\n",
    "You can switch out any of these for another available option by replacing the corresponding argument's value in `overrides`:\n",
    "\n",
    "`cfg = hydra.compose(\"template\", overrides=[\"encoder=schnet\", \"task=inverse_folding\", \"dataset=afdb_swissprot_v4\", \"features=ca_base\", \"+aux_task=none\"], return_hydra_config=True)`"
   ]
  },
  {
   "cell_type": "code",
   "execution_count": 2,
   "metadata": {},
   "outputs": [
    {
     "data": {
      "text/html": [
       "<pre style=\"white-space:pre;overflow-x:auto;line-height:normal;font-family:Menlo,'DejaVu Sans Mono',consolas,'Courier New',monospace\"><span style=\"color: #7fbfbf; text-decoration-color: #7fbfbf\">[07/19/24 18:08:31] </span><span style=\"color: #008000; text-decoration-color: #008000\">DEBUG   </span> No `.env` file found in project root. Checking for env vars<span style=\"color: #808000; text-decoration-color: #808000\">...</span>         <a href=\"file:///home/zhang/Projects/3d/ProteinWorkshop/proteinworkshop/constants.py\" target=\"_blank\"><span style=\"color: #7f7f7f; text-decoration-color: #7f7f7f\">constants.py</span></a><span style=\"color: #7f7f7f; text-decoration-color: #7f7f7f\">:</span><a href=\"file:///home/zhang/Projects/3d/ProteinWorkshop/proteinworkshop/constants.py#22\" target=\"_blank\"><span style=\"color: #7f7f7f; text-decoration-color: #7f7f7f\">22</span></a>\n",
       "</pre>\n"
      ],
      "text/plain": [
       "\u001b[2;36m[07/19/24 18:08:31]\u001b[0m\u001b[2;36m \u001b[0m\u001b[32mDEBUG   \u001b[0m No `.env` file found in project root. Checking for env vars\u001b[33m...\u001b[0m         \u001b]8;id=4234;file:///home/zhang/Projects/3d/ProteinWorkshop/proteinworkshop/constants.py\u001b\\\u001b[2mconstants.py\u001b[0m\u001b]8;;\u001b\\\u001b[2m:\u001b[0m\u001b]8;id=977139;file:///home/zhang/Projects/3d/ProteinWorkshop/proteinworkshop/constants.py#22\u001b\\\u001b[2m22\u001b[0m\u001b]8;;\u001b\\\n"
      ]
     },
     "metadata": {},
     "output_type": "display_data"
    },
    {
     "data": {
      "text/html": [
       "<pre style=\"white-space:pre;overflow-x:auto;line-height:normal;font-family:Menlo,'DejaVu Sans Mono',consolas,'Courier New',monospace\"><span style=\"color: #7fbfbf; text-decoration-color: #7fbfbf\">                    </span><span style=\"color: #008000; text-decoration-color: #008000\">DEBUG   </span> No env var `DATA_PATH` found. Setting default<span style=\"color: #808000; text-decoration-color: #808000\">...</span>                       <a href=\"file:///home/zhang/Projects/3d/ProteinWorkshop/proteinworkshop/constants.py\" target=\"_blank\"><span style=\"color: #7f7f7f; text-decoration-color: #7f7f7f\">constants.py</span></a><span style=\"color: #7f7f7f; text-decoration-color: #7f7f7f\">:</span><a href=\"file:///home/zhang/Projects/3d/ProteinWorkshop/proteinworkshop/constants.py#28\" target=\"_blank\"><span style=\"color: #7f7f7f; text-decoration-color: #7f7f7f\">28</span></a>\n",
       "</pre>\n"
      ],
      "text/plain": [
       "\u001b[2;36m                   \u001b[0m\u001b[2;36m \u001b[0m\u001b[32mDEBUG   \u001b[0m No env var `DATA_PATH` found. Setting default\u001b[33m...\u001b[0m                       \u001b]8;id=308352;file:///home/zhang/Projects/3d/ProteinWorkshop/proteinworkshop/constants.py\u001b\\\u001b[2mconstants.py\u001b[0m\u001b]8;;\u001b\\\u001b[2m:\u001b[0m\u001b]8;id=593159;file:///home/zhang/Projects/3d/ProteinWorkshop/proteinworkshop/constants.py#28\u001b\\\u001b[2m28\u001b[0m\u001b]8;;\u001b\\\n"
      ]
     },
     "metadata": {},
     "output_type": "display_data"
    },
    {
     "data": {
      "text/html": [
       "<pre style=\"white-space:pre;overflow-x:auto;line-height:normal;font-family:Menlo,'DejaVu Sans Mono',consolas,'Courier New',monospace\"><span style=\"color: #7fbfbf; text-decoration-color: #7fbfbf\">                    </span><span style=\"color: #000080; text-decoration-color: #000080\">INFO    </span> DATA_PATH:                                                             <a href=\"file:///home/zhang/Projects/3d/ProteinWorkshop/proteinworkshop/constants.py\" target=\"_blank\"><span style=\"color: #7f7f7f; text-decoration-color: #7f7f7f\">constants.py</span></a><span style=\"color: #7f7f7f; text-decoration-color: #7f7f7f\">:</span><a href=\"file:///home/zhang/Projects/3d/ProteinWorkshop/proteinworkshop/constants.py#39\" target=\"_blank\"><span style=\"color: #7f7f7f; text-decoration-color: #7f7f7f\">39</span></a>\n",
       "<span style=\"color: #7fbfbf; text-decoration-color: #7fbfbf\">                    </span>         <span style=\"color: #800080; text-decoration-color: #800080\">/home/zhang/Projects/3d/ProteinWorkshop/proteinworkshop/</span><span style=\"color: #ff00ff; text-decoration-color: #ff00ff\">data</span>           <span style=\"color: #7f7f7f; text-decoration-color: #7f7f7f\">               </span>\n",
       "</pre>\n"
      ],
      "text/plain": [
       "\u001b[2;36m                   \u001b[0m\u001b[2;36m \u001b[0m\u001b[34mINFO    \u001b[0m DATA_PATH:                                                             \u001b]8;id=22926;file:///home/zhang/Projects/3d/ProteinWorkshop/proteinworkshop/constants.py\u001b\\\u001b[2mconstants.py\u001b[0m\u001b]8;;\u001b\\\u001b[2m:\u001b[0m\u001b]8;id=50005;file:///home/zhang/Projects/3d/ProteinWorkshop/proteinworkshop/constants.py#39\u001b\\\u001b[2m39\u001b[0m\u001b]8;;\u001b\\\n",
       "\u001b[2;36m                    \u001b[0m         \u001b[35m/home/zhang/Projects/3d/ProteinWorkshop/proteinworkshop/\u001b[0m\u001b[95mdata\u001b[0m           \u001b[2m               \u001b[0m\n"
      ]
     },
     "metadata": {},
     "output_type": "display_data"
    },
    {
     "data": {
      "text/html": [
       "<pre style=\"white-space:pre;overflow-x:auto;line-height:normal;font-family:Menlo,'DejaVu Sans Mono',consolas,'Courier New',monospace\"><span style=\"color: #7fbfbf; text-decoration-color: #7fbfbf\">[07/19/24 18:08:33] </span><span style=\"color: #000080; text-decoration-color: #000080\">INFO    </span> Hydra initialised at                                                    <a href=\"file:///home/zhang/Projects/3d/ProteinWorkshop/proteinworkshop/utils/notebook.py\" target=\"_blank\"><span style=\"color: #7f7f7f; text-decoration-color: #7f7f7f\">notebook.py</span></a><span style=\"color: #7f7f7f; text-decoration-color: #7f7f7f\">:</span><a href=\"file:///home/zhang/Projects/3d/ProteinWorkshop/proteinworkshop/utils/notebook.py#53\" target=\"_blank\"><span style=\"color: #7f7f7f; text-decoration-color: #7f7f7f\">53</span></a>\n",
       "<span style=\"color: #7fbfbf; text-decoration-color: #7fbfbf\">                    </span>         <span style=\"color: #800080; text-decoration-color: #800080\">/home/zhang/Projects/3d/ProteinWorkshop/proteinworkshop/</span><span style=\"color: #ff00ff; text-decoration-color: #ff00ff\">config.</span>         <span style=\"color: #7f7f7f; text-decoration-color: #7f7f7f\">              </span>\n",
       "</pre>\n"
      ],
      "text/plain": [
       "\u001b[2;36m[07/19/24 18:08:33]\u001b[0m\u001b[2;36m \u001b[0m\u001b[34mINFO    \u001b[0m Hydra initialised at                                                    \u001b]8;id=810474;file:///home/zhang/Projects/3d/ProteinWorkshop/proteinworkshop/utils/notebook.py\u001b\\\u001b[2mnotebook.py\u001b[0m\u001b]8;;\u001b\\\u001b[2m:\u001b[0m\u001b]8;id=631875;file:///home/zhang/Projects/3d/ProteinWorkshop/proteinworkshop/utils/notebook.py#53\u001b\\\u001b[2m53\u001b[0m\u001b]8;;\u001b\\\n",
       "\u001b[2;36m                    \u001b[0m         \u001b[35m/home/zhang/Projects/3d/ProteinWorkshop/proteinworkshop/\u001b[0m\u001b[95mconfig.\u001b[0m         \u001b[2m              \u001b[0m\n"
      ]
     },
     "metadata": {},
     "output_type": "display_data"
    }
   ],
   "source": [
    "# Misc. tools\n",
    "import os\n",
    "\n",
    "# Hydra tools\n",
    "import hydra\n",
    "\n",
    "from hydra.compose import GlobalHydra\n",
    "from hydra.core.hydra_config import HydraConfig\n",
    "\n",
    "from proteinworkshop.constants import HYDRA_CONFIG_PATH\n",
    "from proteinworkshop.utils.notebook import init_hydra_singleton\n",
    "\n",
    "version_base = \"1.2\"  # Note: Need to update whenever Hydra is upgraded\n",
    "init_hydra_singleton(reload=True, version_base=version_base)\n",
    "\n",
    "path = HYDRA_CONFIG_PATH\n",
    "rel_path = os.path.relpath(path, start=\".\")\n",
    "# print(rel_path)\n",
    "GlobalHydra.instance().clear()\n",
    "hydra.initialize(rel_path, version_base=version_base)\n",
    "\n",
    "cfg = hydra.compose(\n",
    "    config_name=\"train\",\n",
    "    overrides=[\n",
    "        \"encoder=pronet\",\n",
    "        \"encoder.level='aminoacid'\",\n",
    "        \"encoder.num_blocks=4\",\n",
    "        \"encoder.hidden_channels=128\",\n",
    "        \"encoder.out_channels=1195\",\n",
    "        \"encoder.mid_emb=64\",\n",
    "        \"encoder.num_radial=6\",\n",
    "        \"encoder.num_spherical=2\",\n",
    "        \"encoder.cutoff=10.0\",\n",
    "        \"encoder.max_num_neighbors=32\",\n",
    "        \"encoder.int_emb_layers=3\",\n",
    "        \"encoder.out_layers=2\",\n",
    "        \"encoder.num_pos_emb=16\",\n",
    "        \"encoder.dropout=0.3\",\n",
    "        \"encoder.data_augment_eachlayer=True\",\n",
    "        \"encoder.euler_noise=False\",\n",
    "        \"encoder.pretraining=False\",\n",
    "        \"encoder.node_embedding=False\",\n",
    "\n",
    "        \"decoder.graph_label.dummy=True\",\n",
    "\n",
    "        \"task=multiclass_graph_classification\",\n",
    "        \"dataset=fold_family\",\n",
    "        \"dataset.datamodule.batch_size=32\",\n",
    "        \"features=ca_base\", \n",
    "        \"+aux_task=none\",\n",
    "        \n",
    "        \"trainer.max_epochs=1000\",\n",
    "        \"optimiser=adam\",\n",
    "        \"optimiser.optimizer.lr=5e-4\",\n",
    "        \"callbacks.early_stopping.patience=20\",\n",
    "        \"test=True\",\n",
    "        \"scheduler=steplr\",\n",
    "\n",
    "        ## for test ONLY\n",
    "        # \"task_name=test\",  # here\n",
    "        # \"ckpt_path_test=/home/zhang/Projects/3d/proteinworkshop_checkpoints/outputs_pronet_fold_400epochs/checkpoints/epoch_273.ckpt\", # here\n",
    "        # \"optimizer.weight_decay=0.5\"\n",
    "    ],\n",
    "    return_hydra_config=True,\n",
    ")\n",
    "\n",
    "# Note: Customize as needed e.g., when running a sweep\n",
    "cfg.hydra.job.num = 0\n",
    "cfg.hydra.job.id = 0\n",
    "cfg.hydra.hydra_help.hydra_help = False\n",
    "cfg.hydra.runtime.output_dir = \"outputs\"\n",
    "\n",
    "HydraConfig.instance().set_config(cfg)"
   ]
  },
  {
   "cell_type": "markdown",
   "metadata": {},
   "source": [
    "### 2. Validate the designed training config"
   ]
  },
  {
   "cell_type": "markdown",
   "metadata": {},
   "source": [
    "This is not strictly necessary, but it is a good idea to validate the config before training. This will check that all the arguments you have provided are valid and that the config is complete."
   ]
  },
  {
   "cell_type": "code",
   "execution_count": 3,
   "metadata": {},
   "outputs": [
    {
     "data": {
      "text/html": [
       "<pre style=\"white-space:pre;overflow-x:auto;line-height:normal;font-family:Menlo,'DejaVu Sans Mono',consolas,'Courier New',monospace\"><span style=\"color: #7fbfbf; text-decoration-color: #7fbfbf\">                    </span><span style=\"color: #008000; text-decoration-color: #008000\">DEBUG   </span> CUDA available: <span style=\"color: #00ff00; text-decoration-color: #00ff00; font-style: italic\">True</span>                                                     <a href=\"file:///home/zhang/Projects/3d/ProteinWorkshop/proteinworkshop/configs/config.py\" target=\"_blank\"><span style=\"color: #7f7f7f; text-decoration-color: #7f7f7f\">config.py</span></a><span style=\"color: #7f7f7f; text-decoration-color: #7f7f7f\">:</span><a href=\"file:///home/zhang/Projects/3d/ProteinWorkshop/proteinworkshop/configs/config.py#249\" target=\"_blank\"><span style=\"color: #7f7f7f; text-decoration-color: #7f7f7f\">249</span></a>\n",
       "</pre>\n"
      ],
      "text/plain": [
       "\u001b[2;36m                   \u001b[0m\u001b[2;36m \u001b[0m\u001b[32mDEBUG   \u001b[0m CUDA available: \u001b[3;92mTrue\u001b[0m                                                     \u001b]8;id=443087;file:///home/zhang/Projects/3d/ProteinWorkshop/proteinworkshop/configs/config.py\u001b\\\u001b[2mconfig.py\u001b[0m\u001b]8;;\u001b\\\u001b[2m:\u001b[0m\u001b]8;id=259770;file:///home/zhang/Projects/3d/ProteinWorkshop/proteinworkshop/configs/config.py#249\u001b\\\u001b[2m249\u001b[0m\u001b]8;;\u001b\\\n"
      ]
     },
     "metadata": {},
     "output_type": "display_data"
    },
    {
     "data": {
      "text/html": [
       "<pre style=\"white-space:pre;overflow-x:auto;line-height:normal;font-family:Menlo,'DejaVu Sans Mono',consolas,'Courier New',monospace\"><span style=\"color: #7fbfbf; text-decoration-color: #7fbfbf\">                    </span><span style=\"color: #008000; text-decoration-color: #008000\">DEBUG   </span> Requested GPUs: <span style=\"color: #008080; text-decoration-color: #008080; font-weight: bold\">1</span>.                                                       <a href=\"file:///home/zhang/Projects/3d/ProteinWorkshop/proteinworkshop/configs/config.py\" target=\"_blank\"><span style=\"color: #7f7f7f; text-decoration-color: #7f7f7f\">config.py</span></a><span style=\"color: #7f7f7f; text-decoration-color: #7f7f7f\">:</span><a href=\"file:///home/zhang/Projects/3d/ProteinWorkshop/proteinworkshop/configs/config.py#250\" target=\"_blank\"><span style=\"color: #7f7f7f; text-decoration-color: #7f7f7f\">250</span></a>\n",
       "</pre>\n"
      ],
      "text/plain": [
       "\u001b[2;36m                   \u001b[0m\u001b[2;36m \u001b[0m\u001b[32mDEBUG   \u001b[0m Requested GPUs: \u001b[1;36m1\u001b[0m.                                                       \u001b]8;id=559962;file:///home/zhang/Projects/3d/ProteinWorkshop/proteinworkshop/configs/config.py\u001b\\\u001b[2mconfig.py\u001b[0m\u001b]8;;\u001b\\\u001b[2m:\u001b[0m\u001b]8;id=993771;file:///home/zhang/Projects/3d/ProteinWorkshop/proteinworkshop/configs/config.py#250\u001b\\\u001b[2m250\u001b[0m\u001b]8;;\u001b\\\n"
      ]
     },
     "metadata": {},
     "output_type": "display_data"
    },
    {
     "data": {
      "text/html": [
       "<pre style=\"white-space:pre;overflow-x:auto;line-height:normal;font-family:Menlo,'DejaVu Sans Mono',consolas,'Courier New',monospace\"><span style=\"color: #7fbfbf; text-decoration-color: #7fbfbf\">                    </span><span style=\"color: #008000; text-decoration-color: #008000\">DEBUG   </span> GPU count set to: <span style=\"color: #008080; text-decoration-color: #008080; font-weight: bold\">1</span>                                                      <a href=\"file:///home/zhang/Projects/3d/ProteinWorkshop/proteinworkshop/configs/config.py\" target=\"_blank\"><span style=\"color: #7f7f7f; text-decoration-color: #7f7f7f\">config.py</span></a><span style=\"color: #7f7f7f; text-decoration-color: #7f7f7f\">:</span><a href=\"file:///home/zhang/Projects/3d/ProteinWorkshop/proteinworkshop/configs/config.py#255\" target=\"_blank\"><span style=\"color: #7f7f7f; text-decoration-color: #7f7f7f\">255</span></a>\n",
       "</pre>\n"
      ],
      "text/plain": [
       "\u001b[2;36m                   \u001b[0m\u001b[2;36m \u001b[0m\u001b[32mDEBUG   \u001b[0m GPU count set to: \u001b[1;36m1\u001b[0m                                                      \u001b]8;id=752352;file:///home/zhang/Projects/3d/ProteinWorkshop/proteinworkshop/configs/config.py\u001b\\\u001b[2mconfig.py\u001b[0m\u001b]8;;\u001b\\\u001b[2m:\u001b[0m\u001b]8;id=937702;file:///home/zhang/Projects/3d/ProteinWorkshop/proteinworkshop/configs/config.py#255\u001b\\\u001b[2m255\u001b[0m\u001b]8;;\u001b\\\n"
      ]
     },
     "metadata": {},
     "output_type": "display_data"
    },
    {
     "data": {
      "text/html": [
       "<pre style=\"white-space:pre;overflow-x:auto;line-height:normal;font-family:Menlo,'DejaVu Sans Mono',consolas,'Courier New',monospace\"><span style=\"color: #7fbfbf; text-decoration-color: #7fbfbf\">                    </span><span style=\"color: #800000; text-decoration-color: #800000\">WARNING </span> You are not using early stopping.                                        <a href=\"file:///home/zhang/Projects/3d/ProteinWorkshop/proteinworkshop/configs/config.py\" target=\"_blank\"><span style=\"color: #7f7f7f; text-decoration-color: #7f7f7f\">config.py</span></a><span style=\"color: #7f7f7f; text-decoration-color: #7f7f7f\">:</span><a href=\"file:///home/zhang/Projects/3d/ProteinWorkshop/proteinworkshop/configs/config.py#165\" target=\"_blank\"><span style=\"color: #7f7f7f; text-decoration-color: #7f7f7f\">165</span></a>\n",
       "</pre>\n"
      ],
      "text/plain": [
       "\u001b[2;36m                   \u001b[0m\u001b[2;36m \u001b[0m\u001b[31mWARNING \u001b[0m You are not using early stopping.                                        \u001b]8;id=770;file:///home/zhang/Projects/3d/ProteinWorkshop/proteinworkshop/configs/config.py\u001b\\\u001b[2mconfig.py\u001b[0m\u001b]8;;\u001b\\\u001b[2m:\u001b[0m\u001b]8;id=763272;file:///home/zhang/Projects/3d/ProteinWorkshop/proteinworkshop/configs/config.py#165\u001b\\\u001b[2m165\u001b[0m\u001b]8;;\u001b\\\n"
      ]
     },
     "metadata": {},
     "output_type": "display_data"
    }
   ],
   "source": [
    "from proteinworkshop.configs import config\n",
    "\n",
    "cfg = config.validate_config(cfg)"
   ]
  },
  {
   "cell_type": "code",
   "execution_count": 4,
   "metadata": {},
   "outputs": [
    {
     "name": "stdout",
     "output_type": "stream",
     "text": [
      "dict_keys(['hydra', 'env', 'dataset', 'features', 'encoder', 'decoder', 'transforms', 'callbacks', 'optimiser', 'scheduler', 'trainer', 'extras', 'metrics', 'task', 'logger', 'name', 'seed', 'num_workers', 'task_name', 'ckpt_path_test', 'test', 'aux_task'])\n",
      "hydra\n",
      "{'run': {'dir': '${env.paths.log_dir}/${task_name}/runs/${now:%Y-%m-%d}_${now:%H-%M-%S}'}, 'sweep': {'dir': '${env.paths.log_dir}/${task_name}/multiruns/${now:%Y-%m-%d}_${now:%H-%M-%S}', 'subdir': '${hydra.job.num}'}, 'launcher': {'_target_': 'hydra._internal.core_plugins.basic_launcher.BasicLauncher'}, 'sweeper': {'_target_': 'hydra._internal.core_plugins.basic_sweeper.BasicSweeper', 'max_batch_size': None, 'params': None}, 'help': {'app_name': '${hydra.job.name}', 'header': '${hydra.help.app_name} is powered by Hydra.\\n', 'footer': 'Powered by Hydra (https://hydra.cc)\\nUse --hydra-help to view Hydra specific help\\n', 'template': '${hydra.help.header}\\n== Configuration groups ==\\nCompose your configuration from those groups (group=option)\\n\\n$APP_CONFIG_GROUPS\\n\\n== Config ==\\nOverride anything in the config (foo.bar=value)\\n\\n$CONFIG\\n\\n${hydra.help.footer}\\n'}, 'hydra_help': {'template': \"Hydra (${hydra.runtime.version})\\nSee https://hydra.cc for more info.\\n\\n== Flags ==\\n$FLAGS_HELP\\n\\n== Configuration groups ==\\nCompose your configuration from those groups (For example, append hydra/job_logging=disabled to command line)\\n\\n$HYDRA_CONFIG_GROUPS\\n\\nUse '--cfg hydra' to Show the Hydra config.\\n\", 'hydra_help': 'False'}, 'hydra_logging': {'version': 1, 'formatters': {'colorlog': {'()': 'colorlog.ColoredFormatter', 'format': '[%(cyan)s%(asctime)s%(reset)s][%(purple)sHYDRA%(reset)s] %(message)s'}}, 'handlers': {'console': {'class': 'logging.StreamHandler', 'formatter': 'colorlog', 'stream': 'ext://sys.stdout'}}, 'root': {'level': 'INFO', 'handlers': ['console']}, 'disable_existing_loggers': False}, 'job_logging': {'version': 1, 'formatters': {'simple': {'format': '[%(asctime)s][%(name)s][%(levelname)s] - %(message)s'}, 'colorlog': {'()': 'colorlog.ColoredFormatter', 'format': '[%(cyan)s%(asctime)s%(reset)s][%(blue)s%(name)s%(reset)s][%(log_color)s%(levelname)s%(reset)s] - %(message)s', 'log_colors': {'DEBUG': 'purple', 'INFO': 'green', 'WARNING': 'yellow', 'ERROR': 'red', 'CRITICAL': 'red'}}}, 'handlers': {'console': {'class': 'logging.StreamHandler', 'formatter': 'colorlog', 'stream': 'ext://sys.stdout'}, 'file': {'class': 'logging.FileHandler', 'formatter': 'simple', 'filename': '${hydra.runtime.output_dir}/${hydra.job.name}.log'}}, 'root': {'level': 'INFO', 'handlers': ['console', 'file']}, 'disable_existing_loggers': False}, 'env': {}, 'mode': None, 'searchpath': [], 'callbacks': {}, 'output_subdir': '.hydra', 'overrides': {'hydra': [], 'task': ['encoder=pronet', \"encoder.level='aminoacid'\", 'encoder.num_blocks=4', 'encoder.hidden_channels=128', 'encoder.out_channels=1195', 'encoder.mid_emb=64', 'encoder.num_radial=6', 'encoder.num_spherical=2', 'encoder.cutoff=10.0', 'encoder.max_num_neighbors=32', 'encoder.int_emb_layers=3', 'encoder.out_layers=2', 'encoder.num_pos_emb=16', 'encoder.dropout=0.3', 'encoder.data_augment_eachlayer=True', 'encoder.euler_noise=False', 'encoder.pretraining=False', 'encoder.node_embedding=False', 'decoder.graph_label.dummy=True', 'task=multiclass_graph_classification', 'dataset=fold_family', 'dataset.datamodule.batch_size=32', 'features=ca_base', '+aux_task=none', 'trainer.max_epochs=1000', 'optimiser=adam', 'optimiser.optimizer.lr=5e-4', 'callbacks.early_stopping.patience=20', 'test=True', 'scheduler=steplr']}, 'job': {'name': 'notebook', 'chdir': None, 'override_dirname': \"+aux_task=none,callbacks.early_stopping.patience=20,dataset.datamodule.batch_size=32,dataset=fold_family,decoder.graph_label.dummy=True,encoder.cutoff=10.0,encoder.data_augment_eachlayer=True,encoder.dropout=0.3,encoder.euler_noise=False,encoder.hidden_channels=128,encoder.int_emb_layers=3,encoder.level='aminoacid',encoder.max_num_neighbors=32,encoder.mid_emb=64,encoder.node_embedding=False,encoder.num_blocks=4,encoder.num_pos_emb=16,encoder.num_radial=6,encoder.num_spherical=2,encoder.out_channels=1195,encoder.out_layers=2,encoder.pretraining=False,encoder=pronet,features=ca_base,optimiser.optimizer.lr=5e-4,optimiser=adam,scheduler=steplr,task=multiclass_graph_classification,test=True,trainer.max_epochs=1000\", 'id': '0', 'num': 0, 'config_name': 'train', 'env_set': {}, 'env_copy': [], 'config': {'override_dirname': {'kv_sep': '=', 'item_sep': ',', 'exclude_keys': []}}}, 'runtime': {'version': '1.3.2', 'version_base': '1.2', 'cwd': '/home/zhang/Projects/3d/ProteinWorkshop/notebooks', 'config_sources': [{'path': 'hydra.conf', 'schema': 'pkg', 'provider': 'hydra'}, {'path': '/home/zhang/Projects/3d/ProteinWorkshop/proteinworkshop/config', 'schema': 'file', 'provider': 'main'}, {'path': 'hydra_plugins.hydra_colorlog.conf', 'schema': 'pkg', 'provider': 'hydra-colorlog'}, {'path': '', 'schema': 'structured', 'provider': 'schema'}], 'output_dir': 'outputs', 'choices': {'aux_task': 'none', 'debug': None, 'logger': 'csv', 'task': 'multiclass_graph_classification', 'hydra': 'default', 'extras': 'default', 'trainer': 'gpu', 'scheduler': 'steplr', 'optimiser': 'adam', 'callbacks': 'default', 'transforms': 'default', 'encoder': 'pronet', 'features': 'ca_base', 'dataset': 'fold_family', 'env': 'default', 'hparams': 'pronet_ca_base', 'hydra/env': 'default', 'hydra/callbacks': None, 'hydra/job_logging': 'colorlog', 'hydra/hydra_logging': 'colorlog', 'hydra/hydra_help': 'default', 'hydra/help': 'default', 'hydra/sweeper': 'basic', 'hydra/launcher': 'basic', 'hydra/output': 'default'}}, 'verbose': False}\n",
      "env\n",
      "{'paths': {'root_dir': '${oc.env:ROOT_DIR}', 'data': '${oc.env:DATA_PATH}', 'output_dir': '${hydra:runtime.output_dir}', 'work_dir': '${hydra:runtime.cwd}', 'log_dir': '${oc.env:RUNS_PATH}', 'runs': '${oc.env:RUNS_PATH}', 'run_dir': '${env.paths.runs}/${name}/${env.init_time}'}, 'python': {'version': '${python_version:micro}'}, 'init_time': '${now:%y-%m-%d_%H:%M:%S}'}\n",
      "dataset\n",
      "{'datamodule': {'_target_': 'proteinworkshop.datasets.fold_classification.FoldClassificationDataModule', 'path': '${env.paths.data}/FoldClassification/', 'split': 'family', 'batch_size': 32, 'pin_memory': True, 'num_workers': 4, 'dataset_fraction': 1.0, 'shuffle_labels': False, 'transforms': '${transforms}', 'overwrite': False, 'in_memory': True}, 'num_classes': 1195}\n",
      "features\n",
      "{'_target_': 'proteinworkshop.features.factory.ProteinFeaturiser', 'representation': 'CA', 'scalar_node_features': ['amino_acid_one_hot'], 'vector_node_features': [], 'edge_types': ['knn_16'], 'scalar_edge_features': ['edge_distance'], 'vector_edge_features': []}\n",
      "encoder\n",
      "{'_target_': 'proteinworkshop.models.graph_encoders.pronet.ProNet', 'level': 'aminoacid', 'num_blocks': 4, 'hidden_channels': 128, 'out_channels': 1195, 'mid_emb': 64, 'num_radial': 6, 'num_spherical': 2, 'cutoff': 10.0, 'max_num_neighbors': 32, 'int_emb_layers': 3, 'out_layers': 2, 'num_pos_emb': 16, 'dropout': 0.3, 'data_augment_eachlayer': True, 'euler_noise': False, 'pretraining': False, 'node_embedding': False}\n",
      "decoder\n",
      "{'graph_label': {'_target_': 'proteinworkshop.models.decoders.mlp_decoder.MLPDecoder', 'hidden_dim': [512, 512, 512], 'dropout': 0.0, 'activations': ['relu', 'relu', 'relu', 'none'], 'skip': 'concat', 'out_dim': '${dataset.num_classes}', 'input': 'graph_embedding', 'dummy': True}}\n",
      "transforms\n",
      "{'remove_missing_ca': {'_target_': 'proteinworkshop.tasks.remove_missing_ca.RemoveMissingCa', 'fill_value': 1e-05, 'ca_idx': 1}}\n",
      "callbacks\n",
      "{'model_checkpoint': {'_target_': 'lightning.pytorch.callbacks.ModelCheckpoint', 'dirpath': '${env.paths.output_dir}/checkpoints', 'filename': 'epoch_{epoch:03d}', 'monitor': 'val/graph_label/accuracy', 'verbose': True, 'save_last': True, 'save_top_k': 1, 'mode': 'max', 'auto_insert_metric_name': False, 'save_weights_only': False, 'every_n_train_steps': None, 'train_time_interval': None, 'every_n_epochs': None, 'save_on_train_epoch_end': None}, 'early_stopping': {'_target_': 'lightning.pytorch.callbacks.EarlyStopping', 'monitor': 'val/graph_label/accuracy', 'min_delta': 0.0, 'patience': 20, 'verbose': True, 'mode': 'max', 'strict': True, 'check_finite': True, 'stopping_threshold': None, 'divergence_threshold': None, 'check_on_train_epoch_end': False}, 'model_summary': {'_target_': 'lightning.pytorch.callbacks.RichModelSummary', 'max_depth': -1}, 'rich_progress_bar': {'_target_': 'lightning.pytorch.callbacks.RichProgressBar'}, 'learning_rate_monitor': {'_target_': 'lightning.pytorch.callbacks.LearningRateMonitor'}, 'stop_on_nan': {'_target_': 'lightning.pytorch.callbacks.EarlyStopping', 'monitor': 'train/loss/total', 'min_delta': 0.0, 'patience': 10000000, 'verbose': True, 'mode': 'min', 'strict': True, 'check_finite': True, 'stopping_threshold': None, 'divergence_threshold': None, 'check_on_train_epoch_end': None}, 'gradient_nan_check': {'_target_': 'proteinworkshop.config.callbacks.my_callbacks.GradientCheckCallback'}}\n",
      "optimiser\n",
      "{'optimizer': {'_target_': 'torch.optim.Adam', '_partial_': True, 'lr': 0.0005, 'weight_decay': 0.0}}\n",
      "scheduler\n",
      "{'scheduler': {'_target_': 'torch.optim.lr_scheduler.StepLR', '_partial_': True, 'step_size': 150, 'gamma': 0.3}, 'interval': 'epoch', 'frequency': 1, 'name': 'learning_rate'}\n",
      "trainer\n",
      "{'_target_': 'lightning.pytorch.trainer.Trainer', 'default_root_dir': '${env.paths.output_dir}', 'min_epochs': 1, 'max_epochs': 1000, 'accelerator': 'gpu', 'check_val_every_n_epoch': 1, 'deterministic': False, 'num_sanity_val_steps': 2, 'devices': 1}\n",
      "extras\n",
      "{'ignore_warnings': True, 'enforce_tags': False, 'print_config': True}\n",
      "metrics\n",
      "{'accuracy': {'_target_': 'torchmetrics.Accuracy', 'task': '${task.classification_type}', 'average': '${task.metric_average}', 'num_classes': '${dataset.num_classes}', 'top_k': 1}, 'f1_score': {'_target_': 'torchmetrics.F1Score', 'average': 'macro', 'num_classes': '${dataset.num_classes}', 'task': '${task.classification_type}'}, 'f1_max': {'_target_': 'proteinworkshop.metrics.f1_max.F1Max', 'num_classes': '${dataset.num_classes}'}}\n",
      "task\n",
      "{'task': 'classification', 'classification_type': 'multiclass', 'metric_average': 'micro', 'losses': {'graph_label': 'cross_entropy'}, 'label_smoothing': 0.0, 'output': ['graph_label'], 'supervise_on': ['graph_label']}\n",
      "logger\n",
      "{'csv': {'_target_': 'lightning.pytorch.loggers.csv_logs.CSVLogger', 'save_dir': '${env.paths.output_dir}', 'name': 'csv/', 'prefix': ''}}\n",
      "name\n",
      "\n",
      "seed\n",
      "52\n",
      "num_workers\n",
      "16\n",
      "task_name\n",
      "train\n",
      "ckpt_path_test\n",
      "\n",
      "test\n",
      "True\n",
      "aux_task\n",
      "{}\n"
     ]
    }
   ],
   "source": [
    "print(cfg.keys())\n",
    "for key in cfg.keys():\n",
    "    print(key)\n",
    "    print(cfg[key])"
   ]
  },
  {
   "cell_type": "markdown",
   "metadata": {},
   "source": [
    "### 3. Use the designed config to train a new model"
   ]
  },
  {
   "cell_type": "markdown",
   "metadata": {},
   "source": [
    "Now with the config you have designed, you can train a new model. You can also use the `ProteinWorkshop` to evaluate the model on a downstream task."
   ]
  },
  {
   "cell_type": "code",
   "execution_count": 5,
   "metadata": {},
   "outputs": [
    {
     "name": "stderr",
     "output_type": "stream",
     "text": [
      "Seed set to 52\n"
     ]
    },
    {
     "data": {
      "text/html": [
       "<pre style=\"white-space:pre;overflow-x:auto;line-height:normal;font-family:Menlo,'DejaVu Sans Mono',consolas,'Courier New',monospace\"><span style=\"color: #7fbfbf; text-decoration-color: #7fbfbf\">[07/19/24 18:08:34] </span><span style=\"color: #000080; text-decoration-color: #000080\">INFO    </span> Instantiating datamodule:                                                  <a href=\"file:///home/zhang/Projects/3d/ProteinWorkshop/proteinworkshop/train.py\" target=\"_blank\"><span style=\"color: #7f7f7f; text-decoration-color: #7f7f7f\">train.py</span></a><span style=\"color: #7f7f7f; text-decoration-color: #7f7f7f\">:</span><a href=\"file:///home/zhang/Projects/3d/ProteinWorkshop/proteinworkshop/train.py#99\" target=\"_blank\"><span style=\"color: #7f7f7f; text-decoration-color: #7f7f7f\">99</span></a>\n",
       "<span style=\"color: #7fbfbf; text-decoration-color: #7fbfbf\">                    </span>         &lt;proteinworkshop.datasets.fold_classification.FoldClassificationDataModule <span style=\"color: #7f7f7f; text-decoration-color: #7f7f7f\">           </span>\n",
       "<span style=\"color: #7fbfbf; text-decoration-color: #7fbfbf\">                    </span>         <span style=\"color: #808000; text-decoration-color: #808000\">...</span>                                                                        <span style=\"color: #7f7f7f; text-decoration-color: #7f7f7f\">           </span>\n",
       "</pre>\n"
      ],
      "text/plain": [
       "\u001b[2;36m[07/19/24 18:08:34]\u001b[0m\u001b[2;36m \u001b[0m\u001b[34mINFO    \u001b[0m Instantiating datamodule:                                                  \u001b]8;id=896664;file:///home/zhang/Projects/3d/ProteinWorkshop/proteinworkshop/train.py\u001b\\\u001b[2mtrain.py\u001b[0m\u001b]8;;\u001b\\\u001b[2m:\u001b[0m\u001b]8;id=987468;file:///home/zhang/Projects/3d/ProteinWorkshop/proteinworkshop/train.py#99\u001b\\\u001b[2m99\u001b[0m\u001b]8;;\u001b\\\n",
       "\u001b[2;36m                    \u001b[0m         <proteinworkshop.datasets.fold_classification.FoldClassificationDataModule \u001b[2m           \u001b[0m\n",
       "\u001b[2;36m                    \u001b[0m         \u001b[33m...\u001b[0m                                                                        \u001b[2m           \u001b[0m\n"
      ]
     },
     "metadata": {},
     "output_type": "display_data"
    },
    {
     "data": {
      "text/html": [
       "<pre style=\"white-space:pre;overflow-x:auto;line-height:normal;font-family:Menlo,'DejaVu Sans Mono',consolas,'Courier New',monospace\"><span style=\"color: #7fbfbf; text-decoration-color: #7fbfbf\">                    </span><span style=\"color: #000080; text-decoration-color: #000080\">INFO    </span> Instantiating callbacks<span style=\"color: #808000; text-decoration-color: #808000\">...</span>                                                <a href=\"file:///home/zhang/Projects/3d/ProteinWorkshop/proteinworkshop/train.py\" target=\"_blank\"><span style=\"color: #7f7f7f; text-decoration-color: #7f7f7f\">train.py</span></a><span style=\"color: #7f7f7f; text-decoration-color: #7f7f7f\">:</span><a href=\"file:///home/zhang/Projects/3d/ProteinWorkshop/proteinworkshop/train.py#106\" target=\"_blank\"><span style=\"color: #7f7f7f; text-decoration-color: #7f7f7f\">106</span></a>\n",
       "</pre>\n"
      ],
      "text/plain": [
       "\u001b[2;36m                   \u001b[0m\u001b[2;36m \u001b[0m\u001b[34mINFO    \u001b[0m Instantiating callbacks\u001b[33m...\u001b[0m                                                \u001b]8;id=166878;file:///home/zhang/Projects/3d/ProteinWorkshop/proteinworkshop/train.py\u001b\\\u001b[2mtrain.py\u001b[0m\u001b]8;;\u001b\\\u001b[2m:\u001b[0m\u001b]8;id=837528;file:///home/zhang/Projects/3d/ProteinWorkshop/proteinworkshop/train.py#106\u001b\\\u001b[2m106\u001b[0m\u001b]8;;\u001b\\\n"
      ]
     },
     "metadata": {},
     "output_type": "display_data"
    },
    {
     "data": {
      "text/html": [
       "<pre style=\"white-space:pre;overflow-x:auto;line-height:normal;font-family:Menlo,'DejaVu Sans Mono',consolas,'Courier New',monospace\"><span style=\"color: #7fbfbf; text-decoration-color: #7fbfbf\">                    </span><span style=\"color: #000080; text-decoration-color: #000080\">INFO    </span> Instantiating callback <span style=\"font-weight: bold\">&lt;</span><span style=\"color: #ff00ff; text-decoration-color: #ff00ff; font-weight: bold\">lightning.pytorch.callbacks.ModelCheckpoint</span><span style=\"font-weight: bold\">&gt;</span>   <a href=\"file:///home/zhang/Projects/3d/ProteinWorkshop/proteinworkshop/utils/callbacks.py\" target=\"_blank\"><span style=\"color: #7f7f7f; text-decoration-color: #7f7f7f\">callbacks.py</span></a><span style=\"color: #7f7f7f; text-decoration-color: #7f7f7f\">:</span><a href=\"file:///home/zhang/Projects/3d/ProteinWorkshop/proteinworkshop/utils/callbacks.py#31\" target=\"_blank\"><span style=\"color: #7f7f7f; text-decoration-color: #7f7f7f\">31</span></a>\n",
       "</pre>\n"
      ],
      "text/plain": [
       "\u001b[2;36m                   \u001b[0m\u001b[2;36m \u001b[0m\u001b[34mINFO    \u001b[0m Instantiating callback \u001b[1m<\u001b[0m\u001b[1;95mlightning.pytorch.callbacks.ModelCheckpoint\u001b[0m\u001b[1m>\u001b[0m   \u001b]8;id=1185;file:///home/zhang/Projects/3d/ProteinWorkshop/proteinworkshop/utils/callbacks.py\u001b\\\u001b[2mcallbacks.py\u001b[0m\u001b]8;;\u001b\\\u001b[2m:\u001b[0m\u001b]8;id=35855;file:///home/zhang/Projects/3d/ProteinWorkshop/proteinworkshop/utils/callbacks.py#31\u001b\\\u001b[2m31\u001b[0m\u001b]8;;\u001b\\\n"
      ]
     },
     "metadata": {},
     "output_type": "display_data"
    },
    {
     "data": {
      "text/html": [
       "<pre style=\"white-space:pre;overflow-x:auto;line-height:normal;font-family:Menlo,'DejaVu Sans Mono',consolas,'Courier New',monospace\"><span style=\"color: #7fbfbf; text-decoration-color: #7fbfbf\">                    </span><span style=\"color: #000080; text-decoration-color: #000080\">INFO    </span> Instantiating callback <span style=\"font-weight: bold\">&lt;</span><span style=\"color: #ff00ff; text-decoration-color: #ff00ff; font-weight: bold\">lightning.pytorch.callbacks.EarlyStopping</span><span style=\"font-weight: bold\">&gt;</span>     <a href=\"file:///home/zhang/Projects/3d/ProteinWorkshop/proteinworkshop/utils/callbacks.py\" target=\"_blank\"><span style=\"color: #7f7f7f; text-decoration-color: #7f7f7f\">callbacks.py</span></a><span style=\"color: #7f7f7f; text-decoration-color: #7f7f7f\">:</span><a href=\"file:///home/zhang/Projects/3d/ProteinWorkshop/proteinworkshop/utils/callbacks.py#31\" target=\"_blank\"><span style=\"color: #7f7f7f; text-decoration-color: #7f7f7f\">31</span></a>\n",
       "</pre>\n"
      ],
      "text/plain": [
       "\u001b[2;36m                   \u001b[0m\u001b[2;36m \u001b[0m\u001b[34mINFO    \u001b[0m Instantiating callback \u001b[1m<\u001b[0m\u001b[1;95mlightning.pytorch.callbacks.EarlyStopping\u001b[0m\u001b[1m>\u001b[0m     \u001b]8;id=248769;file:///home/zhang/Projects/3d/ProteinWorkshop/proteinworkshop/utils/callbacks.py\u001b\\\u001b[2mcallbacks.py\u001b[0m\u001b]8;;\u001b\\\u001b[2m:\u001b[0m\u001b]8;id=72738;file:///home/zhang/Projects/3d/ProteinWorkshop/proteinworkshop/utils/callbacks.py#31\u001b\\\u001b[2m31\u001b[0m\u001b]8;;\u001b\\\n"
      ]
     },
     "metadata": {},
     "output_type": "display_data"
    },
    {
     "data": {
      "text/html": [
       "<pre style=\"white-space:pre;overflow-x:auto;line-height:normal;font-family:Menlo,'DejaVu Sans Mono',consolas,'Courier New',monospace\"><span style=\"color: #7fbfbf; text-decoration-color: #7fbfbf\">                    </span><span style=\"color: #000080; text-decoration-color: #000080\">INFO    </span> Instantiating callback <span style=\"font-weight: bold\">&lt;</span><span style=\"color: #ff00ff; text-decoration-color: #ff00ff; font-weight: bold\">lightning.pytorch.callbacks.RichModelSummary</span><span style=\"font-weight: bold\">&gt;</span>  <a href=\"file:///home/zhang/Projects/3d/ProteinWorkshop/proteinworkshop/utils/callbacks.py\" target=\"_blank\"><span style=\"color: #7f7f7f; text-decoration-color: #7f7f7f\">callbacks.py</span></a><span style=\"color: #7f7f7f; text-decoration-color: #7f7f7f\">:</span><a href=\"file:///home/zhang/Projects/3d/ProteinWorkshop/proteinworkshop/utils/callbacks.py#31\" target=\"_blank\"><span style=\"color: #7f7f7f; text-decoration-color: #7f7f7f\">31</span></a>\n",
       "</pre>\n"
      ],
      "text/plain": [
       "\u001b[2;36m                   \u001b[0m\u001b[2;36m \u001b[0m\u001b[34mINFO    \u001b[0m Instantiating callback \u001b[1m<\u001b[0m\u001b[1;95mlightning.pytorch.callbacks.RichModelSummary\u001b[0m\u001b[1m>\u001b[0m  \u001b]8;id=655443;file:///home/zhang/Projects/3d/ProteinWorkshop/proteinworkshop/utils/callbacks.py\u001b\\\u001b[2mcallbacks.py\u001b[0m\u001b]8;;\u001b\\\u001b[2m:\u001b[0m\u001b]8;id=287690;file:///home/zhang/Projects/3d/ProteinWorkshop/proteinworkshop/utils/callbacks.py#31\u001b\\\u001b[2m31\u001b[0m\u001b]8;;\u001b\\\n"
      ]
     },
     "metadata": {},
     "output_type": "display_data"
    },
    {
     "data": {
      "text/html": [
       "<pre style=\"white-space:pre;overflow-x:auto;line-height:normal;font-family:Menlo,'DejaVu Sans Mono',consolas,'Courier New',monospace\"><span style=\"color: #7fbfbf; text-decoration-color: #7fbfbf\">                    </span><span style=\"color: #000080; text-decoration-color: #000080\">INFO    </span> Instantiating callback <span style=\"font-weight: bold\">&lt;</span><span style=\"color: #ff00ff; text-decoration-color: #ff00ff; font-weight: bold\">lightning.pytorch.callbacks.RichProgressBar</span><span style=\"font-weight: bold\">&gt;</span>   <a href=\"file:///home/zhang/Projects/3d/ProteinWorkshop/proteinworkshop/utils/callbacks.py\" target=\"_blank\"><span style=\"color: #7f7f7f; text-decoration-color: #7f7f7f\">callbacks.py</span></a><span style=\"color: #7f7f7f; text-decoration-color: #7f7f7f\">:</span><a href=\"file:///home/zhang/Projects/3d/ProteinWorkshop/proteinworkshop/utils/callbacks.py#31\" target=\"_blank\"><span style=\"color: #7f7f7f; text-decoration-color: #7f7f7f\">31</span></a>\n",
       "</pre>\n"
      ],
      "text/plain": [
       "\u001b[2;36m                   \u001b[0m\u001b[2;36m \u001b[0m\u001b[34mINFO    \u001b[0m Instantiating callback \u001b[1m<\u001b[0m\u001b[1;95mlightning.pytorch.callbacks.RichProgressBar\u001b[0m\u001b[1m>\u001b[0m   \u001b]8;id=128786;file:///home/zhang/Projects/3d/ProteinWorkshop/proteinworkshop/utils/callbacks.py\u001b\\\u001b[2mcallbacks.py\u001b[0m\u001b]8;;\u001b\\\u001b[2m:\u001b[0m\u001b]8;id=899088;file:///home/zhang/Projects/3d/ProteinWorkshop/proteinworkshop/utils/callbacks.py#31\u001b\\\u001b[2m31\u001b[0m\u001b]8;;\u001b\\\n"
      ]
     },
     "metadata": {},
     "output_type": "display_data"
    },
    {
     "data": {
      "text/html": [
       "<pre style=\"white-space:pre;overflow-x:auto;line-height:normal;font-family:Menlo,'DejaVu Sans Mono',consolas,'Courier New',monospace\"><span style=\"color: #7fbfbf; text-decoration-color: #7fbfbf\">                    </span><span style=\"color: #000080; text-decoration-color: #000080\">INFO    </span> Instantiating callback                                                 <a href=\"file:///home/zhang/Projects/3d/ProteinWorkshop/proteinworkshop/utils/callbacks.py\" target=\"_blank\"><span style=\"color: #7f7f7f; text-decoration-color: #7f7f7f\">callbacks.py</span></a><span style=\"color: #7f7f7f; text-decoration-color: #7f7f7f\">:</span><a href=\"file:///home/zhang/Projects/3d/ProteinWorkshop/proteinworkshop/utils/callbacks.py#31\" target=\"_blank\"><span style=\"color: #7f7f7f; text-decoration-color: #7f7f7f\">31</span></a>\n",
       "<span style=\"color: #7fbfbf; text-decoration-color: #7fbfbf\">                    </span>         <span style=\"font-weight: bold\">&lt;</span><span style=\"color: #ff00ff; text-decoration-color: #ff00ff; font-weight: bold\">lightning.pytorch.callbacks.LearningRateMonitor</span><span style=\"font-weight: bold\">&gt;</span>                      <span style=\"color: #7f7f7f; text-decoration-color: #7f7f7f\">               </span>\n",
       "</pre>\n"
      ],
      "text/plain": [
       "\u001b[2;36m                   \u001b[0m\u001b[2;36m \u001b[0m\u001b[34mINFO    \u001b[0m Instantiating callback                                                 \u001b]8;id=396582;file:///home/zhang/Projects/3d/ProteinWorkshop/proteinworkshop/utils/callbacks.py\u001b\\\u001b[2mcallbacks.py\u001b[0m\u001b]8;;\u001b\\\u001b[2m:\u001b[0m\u001b]8;id=993710;file:///home/zhang/Projects/3d/ProteinWorkshop/proteinworkshop/utils/callbacks.py#31\u001b\\\u001b[2m31\u001b[0m\u001b]8;;\u001b\\\n",
       "\u001b[2;36m                    \u001b[0m         \u001b[1m<\u001b[0m\u001b[1;95mlightning.pytorch.callbacks.LearningRateMonitor\u001b[0m\u001b[1m>\u001b[0m                      \u001b[2m               \u001b[0m\n"
      ]
     },
     "metadata": {},
     "output_type": "display_data"
    },
    {
     "data": {
      "text/html": [
       "<pre style=\"white-space:pre;overflow-x:auto;line-height:normal;font-family:Menlo,'DejaVu Sans Mono',consolas,'Courier New',monospace\"><span style=\"color: #7fbfbf; text-decoration-color: #7fbfbf\">                    </span><span style=\"color: #000080; text-decoration-color: #000080\">INFO    </span> Instantiating callback <span style=\"font-weight: bold\">&lt;</span><span style=\"color: #ff00ff; text-decoration-color: #ff00ff; font-weight: bold\">lightning.pytorch.callbacks.EarlyStopping</span><span style=\"font-weight: bold\">&gt;</span>     <a href=\"file:///home/zhang/Projects/3d/ProteinWorkshop/proteinworkshop/utils/callbacks.py\" target=\"_blank\"><span style=\"color: #7f7f7f; text-decoration-color: #7f7f7f\">callbacks.py</span></a><span style=\"color: #7f7f7f; text-decoration-color: #7f7f7f\">:</span><a href=\"file:///home/zhang/Projects/3d/ProteinWorkshop/proteinworkshop/utils/callbacks.py#31\" target=\"_blank\"><span style=\"color: #7f7f7f; text-decoration-color: #7f7f7f\">31</span></a>\n",
       "</pre>\n"
      ],
      "text/plain": [
       "\u001b[2;36m                   \u001b[0m\u001b[2;36m \u001b[0m\u001b[34mINFO    \u001b[0m Instantiating callback \u001b[1m<\u001b[0m\u001b[1;95mlightning.pytorch.callbacks.EarlyStopping\u001b[0m\u001b[1m>\u001b[0m     \u001b]8;id=935800;file:///home/zhang/Projects/3d/ProteinWorkshop/proteinworkshop/utils/callbacks.py\u001b\\\u001b[2mcallbacks.py\u001b[0m\u001b]8;;\u001b\\\u001b[2m:\u001b[0m\u001b]8;id=924324;file:///home/zhang/Projects/3d/ProteinWorkshop/proteinworkshop/utils/callbacks.py#31\u001b\\\u001b[2m31\u001b[0m\u001b]8;;\u001b\\\n"
      ]
     },
     "metadata": {},
     "output_type": "display_data"
    },
    {
     "data": {
      "text/html": [
       "<pre style=\"white-space:pre;overflow-x:auto;line-height:normal;font-family:Menlo,'DejaVu Sans Mono',consolas,'Courier New',monospace\"><span style=\"color: #7fbfbf; text-decoration-color: #7fbfbf\">                    </span><span style=\"color: #000080; text-decoration-color: #000080\">INFO    </span> Instantiating callback                                                 <a href=\"file:///home/zhang/Projects/3d/ProteinWorkshop/proteinworkshop/utils/callbacks.py\" target=\"_blank\"><span style=\"color: #7f7f7f; text-decoration-color: #7f7f7f\">callbacks.py</span></a><span style=\"color: #7f7f7f; text-decoration-color: #7f7f7f\">:</span><a href=\"file:///home/zhang/Projects/3d/ProteinWorkshop/proteinworkshop/utils/callbacks.py#31\" target=\"_blank\"><span style=\"color: #7f7f7f; text-decoration-color: #7f7f7f\">31</span></a>\n",
       "<span style=\"color: #7fbfbf; text-decoration-color: #7fbfbf\">                    </span>         <span style=\"font-weight: bold\">&lt;</span><span style=\"color: #ff00ff; text-decoration-color: #ff00ff; font-weight: bold\">proteinworkshop.config.callbacks.my_callbacks.GradientCheckCallback</span><span style=\"font-weight: bold\">&gt;</span>  <span style=\"color: #7f7f7f; text-decoration-color: #7f7f7f\">               </span>\n",
       "</pre>\n"
      ],
      "text/plain": [
       "\u001b[2;36m                   \u001b[0m\u001b[2;36m \u001b[0m\u001b[34mINFO    \u001b[0m Instantiating callback                                                 \u001b]8;id=416293;file:///home/zhang/Projects/3d/ProteinWorkshop/proteinworkshop/utils/callbacks.py\u001b\\\u001b[2mcallbacks.py\u001b[0m\u001b]8;;\u001b\\\u001b[2m:\u001b[0m\u001b]8;id=545720;file:///home/zhang/Projects/3d/ProteinWorkshop/proteinworkshop/utils/callbacks.py#31\u001b\\\u001b[2m31\u001b[0m\u001b]8;;\u001b\\\n",
       "\u001b[2;36m                    \u001b[0m         \u001b[1m<\u001b[0m\u001b[1;95mproteinworkshop.config.callbacks.my_callbacks.GradientCheckCallback\u001b[0m\u001b[1m>\u001b[0m  \u001b[2m               \u001b[0m\n"
      ]
     },
     "metadata": {},
     "output_type": "display_data"
    },
    {
     "data": {
      "text/html": [
       "<pre style=\"white-space:pre;overflow-x:auto;line-height:normal;font-family:Menlo,'DejaVu Sans Mono',consolas,'Courier New',monospace\"><span style=\"color: #7fbfbf; text-decoration-color: #7fbfbf\">                    </span><span style=\"color: #000080; text-decoration-color: #000080\">INFO    </span> Instantiating loggers<span style=\"color: #808000; text-decoration-color: #808000\">...</span>                                                  <a href=\"file:///home/zhang/Projects/3d/ProteinWorkshop/proteinworkshop/train.py\" target=\"_blank\"><span style=\"color: #7f7f7f; text-decoration-color: #7f7f7f\">train.py</span></a><span style=\"color: #7f7f7f; text-decoration-color: #7f7f7f\">:</span><a href=\"file:///home/zhang/Projects/3d/ProteinWorkshop/proteinworkshop/train.py#111\" target=\"_blank\"><span style=\"color: #7f7f7f; text-decoration-color: #7f7f7f\">111</span></a>\n",
       "</pre>\n"
      ],
      "text/plain": [
       "\u001b[2;36m                   \u001b[0m\u001b[2;36m \u001b[0m\u001b[34mINFO    \u001b[0m Instantiating loggers\u001b[33m...\u001b[0m                                                  \u001b]8;id=97214;file:///home/zhang/Projects/3d/ProteinWorkshop/proteinworkshop/train.py\u001b\\\u001b[2mtrain.py\u001b[0m\u001b]8;;\u001b\\\u001b[2m:\u001b[0m\u001b]8;id=337801;file:///home/zhang/Projects/3d/ProteinWorkshop/proteinworkshop/train.py#111\u001b\\\u001b[2m111\u001b[0m\u001b]8;;\u001b\\\n"
      ]
     },
     "metadata": {},
     "output_type": "display_data"
    },
    {
     "data": {
      "text/html": [
       "<pre style=\"white-space:pre;overflow-x:auto;line-height:normal;font-family:Menlo,'DejaVu Sans Mono',consolas,'Courier New',monospace\"><span style=\"color: #7fbfbf; text-decoration-color: #7fbfbf\">                    </span><span style=\"color: #000080; text-decoration-color: #000080\">INFO    </span> Instantiating logger <span style=\"font-weight: bold\">&lt;</span><span style=\"color: #ff00ff; text-decoration-color: #ff00ff; font-weight: bold\">lightning.pytorch.loggers.csv_logs.CSVLogger</span><span style=\"font-weight: bold\">&gt;</span>      <a href=\"file:///home/zhang/Projects/3d/ProteinWorkshop/proteinworkshop/utils/loggers.py\" target=\"_blank\"><span style=\"color: #7f7f7f; text-decoration-color: #7f7f7f\">loggers.py</span></a><span style=\"color: #7f7f7f; text-decoration-color: #7f7f7f\">:</span><a href=\"file:///home/zhang/Projects/3d/ProteinWorkshop/proteinworkshop/utils/loggers.py#31\" target=\"_blank\"><span style=\"color: #7f7f7f; text-decoration-color: #7f7f7f\">31</span></a>\n",
       "</pre>\n"
      ],
      "text/plain": [
       "\u001b[2;36m                   \u001b[0m\u001b[2;36m \u001b[0m\u001b[34mINFO    \u001b[0m Instantiating logger \u001b[1m<\u001b[0m\u001b[1;95mlightning.pytorch.loggers.csv_logs.CSVLogger\u001b[0m\u001b[1m>\u001b[0m      \u001b]8;id=688457;file:///home/zhang/Projects/3d/ProteinWorkshop/proteinworkshop/utils/loggers.py\u001b\\\u001b[2mloggers.py\u001b[0m\u001b]8;;\u001b\\\u001b[2m:\u001b[0m\u001b]8;id=750405;file:///home/zhang/Projects/3d/ProteinWorkshop/proteinworkshop/utils/loggers.py#31\u001b\\\u001b[2m31\u001b[0m\u001b]8;;\u001b\\\n"
      ]
     },
     "metadata": {},
     "output_type": "display_data"
    },
    {
     "data": {
      "text/html": [
       "<pre style=\"white-space:pre;overflow-x:auto;line-height:normal;font-family:Menlo,'DejaVu Sans Mono',consolas,'Courier New',monospace\"><span style=\"color: #7fbfbf; text-decoration-color: #7fbfbf\">                    </span><span style=\"color: #000080; text-decoration-color: #000080\">INFO    </span> Instantiating trainer<span style=\"color: #808000; text-decoration-color: #808000\">...</span>                                                  <a href=\"file:///home/zhang/Projects/3d/ProteinWorkshop/proteinworkshop/train.py\" target=\"_blank\"><span style=\"color: #7f7f7f; text-decoration-color: #7f7f7f\">train.py</span></a><span style=\"color: #7f7f7f; text-decoration-color: #7f7f7f\">:</span><a href=\"file:///home/zhang/Projects/3d/ProteinWorkshop/proteinworkshop/train.py#114\" target=\"_blank\"><span style=\"color: #7f7f7f; text-decoration-color: #7f7f7f\">114</span></a>\n",
       "</pre>\n"
      ],
      "text/plain": [
       "\u001b[2;36m                   \u001b[0m\u001b[2;36m \u001b[0m\u001b[34mINFO    \u001b[0m Instantiating trainer\u001b[33m...\u001b[0m                                                  \u001b]8;id=214273;file:///home/zhang/Projects/3d/ProteinWorkshop/proteinworkshop/train.py\u001b\\\u001b[2mtrain.py\u001b[0m\u001b]8;;\u001b\\\u001b[2m:\u001b[0m\u001b]8;id=686681;file:///home/zhang/Projects/3d/ProteinWorkshop/proteinworkshop/train.py#114\u001b\\\u001b[2m114\u001b[0m\u001b]8;;\u001b\\\n"
      ]
     },
     "metadata": {},
     "output_type": "display_data"
    },
    {
     "name": "stderr",
     "output_type": "stream",
     "text": [
      "Trainer already configured with model summary callbacks: [<class 'lightning.pytorch.callbacks.rich_model_summary.RichModelSummary'>]. Skipping setting a default `ModelSummary` callback.\n",
      "GPU available: True (cuda), used: True\n",
      "TPU available: False, using: 0 TPU cores\n",
      "HPU available: False, using: 0 HPUs\n"
     ]
    },
    {
     "data": {
      "text/html": [
       "<pre style=\"white-space:pre;overflow-x:auto;line-height:normal;font-family:Menlo,'DejaVu Sans Mono',consolas,'Courier New',monospace\"><span style=\"color: #7fbfbf; text-decoration-color: #7fbfbf\">                    </span><span style=\"color: #000080; text-decoration-color: #000080\">INFO    </span> Instantiating model<span style=\"color: #808000; text-decoration-color: #808000\">...</span>                                                    <a href=\"file:///home/zhang/Projects/3d/ProteinWorkshop/proteinworkshop/train.py\" target=\"_blank\"><span style=\"color: #7f7f7f; text-decoration-color: #7f7f7f\">train.py</span></a><span style=\"color: #7f7f7f; text-decoration-color: #7f7f7f\">:</span><a href=\"file:///home/zhang/Projects/3d/ProteinWorkshop/proteinworkshop/train.py#138\" target=\"_blank\"><span style=\"color: #7f7f7f; text-decoration-color: #7f7f7f\">138</span></a>\n",
       "</pre>\n"
      ],
      "text/plain": [
       "\u001b[2;36m                   \u001b[0m\u001b[2;36m \u001b[0m\u001b[34mINFO    \u001b[0m Instantiating model\u001b[33m...\u001b[0m                                                    \u001b]8;id=179886;file:///home/zhang/Projects/3d/ProteinWorkshop/proteinworkshop/train.py\u001b\\\u001b[2mtrain.py\u001b[0m\u001b]8;;\u001b\\\u001b[2m:\u001b[0m\u001b]8;id=758411;file:///home/zhang/Projects/3d/ProteinWorkshop/proteinworkshop/train.py#138\u001b\\\u001b[2m138\u001b[0m\u001b]8;;\u001b\\\n"
      ]
     },
     "metadata": {},
     "output_type": "display_data"
    },
    {
     "data": {
      "text/html": [
       "<pre style=\"white-space:pre;overflow-x:auto;line-height:normal;font-family:Menlo,'DejaVu Sans Mono',consolas,'Courier New',monospace\"><span style=\"color: #7fbfbf; text-decoration-color: #7fbfbf\">                    </span><span style=\"color: #000080; text-decoration-color: #000080\">INFO    </span> Instantiating encoder<span style=\"color: #808000; text-decoration-color: #808000\">...</span>                                                   <a href=\"file:///home/zhang/Projects/3d/ProteinWorkshop/proteinworkshop/models/base.py\" target=\"_blank\"><span style=\"color: #7f7f7f; text-decoration-color: #7f7f7f\">base.py</span></a><span style=\"color: #7f7f7f; text-decoration-color: #7f7f7f\">:</span><a href=\"file:///home/zhang/Projects/3d/ProteinWorkshop/proteinworkshop/models/base.py#413\" target=\"_blank\"><span style=\"color: #7f7f7f; text-decoration-color: #7f7f7f\">413</span></a>\n",
       "</pre>\n"
      ],
      "text/plain": [
       "\u001b[2;36m                   \u001b[0m\u001b[2;36m \u001b[0m\u001b[34mINFO    \u001b[0m Instantiating encoder\u001b[33m...\u001b[0m                                                   \u001b]8;id=628522;file:///home/zhang/Projects/3d/ProteinWorkshop/proteinworkshop/models/base.py\u001b\\\u001b[2mbase.py\u001b[0m\u001b]8;;\u001b\\\u001b[2m:\u001b[0m\u001b]8;id=228665;file:///home/zhang/Projects/3d/ProteinWorkshop/proteinworkshop/models/base.py#413\u001b\\\u001b[2m413\u001b[0m\u001b]8;;\u001b\\\n"
      ]
     },
     "metadata": {},
     "output_type": "display_data"
    },
    {
     "data": {
      "text/html": [
       "<pre style=\"white-space:pre;overflow-x:auto;line-height:normal;font-family:Menlo,'DejaVu Sans Mono',consolas,'Courier New',monospace\"><span style=\"color: #7fbfbf; text-decoration-color: #7fbfbf\">[07/19/24 18:08:35] </span><span style=\"color: #000080; text-decoration-color: #000080\">INFO    </span> <span style=\"color: #800080; text-decoration-color: #800080; font-weight: bold\">ProNet</span><span style=\"font-weight: bold\">(</span>                                                                    <a href=\"file:///home/zhang/Projects/3d/ProteinWorkshop/proteinworkshop/models/base.py\" target=\"_blank\"><span style=\"color: #7f7f7f; text-decoration-color: #7f7f7f\">base.py</span></a><span style=\"color: #7f7f7f; text-decoration-color: #7f7f7f\">:</span><a href=\"file:///home/zhang/Projects/3d/ProteinWorkshop/proteinworkshop/models/base.py#415\" target=\"_blank\"><span style=\"color: #7f7f7f; text-decoration-color: #7f7f7f\">415</span></a>\n",
       "<span style=\"color: #7fbfbf; text-decoration-color: #7fbfbf\">                    </span>           <span style=\"font-weight: bold\">(</span>feature0<span style=\"font-weight: bold\">)</span>: <span style=\"color: #800080; text-decoration-color: #800080; font-weight: bold\">d_theta_phi_emb</span><span style=\"font-weight: bold\">()</span>                                            <span style=\"color: #7f7f7f; text-decoration-color: #7f7f7f\">           </span>\n",
       "<span style=\"color: #7fbfbf; text-decoration-color: #7fbfbf\">                    </span>           <span style=\"font-weight: bold\">(</span>feature1<span style=\"font-weight: bold\">)</span>: <span style=\"color: #800080; text-decoration-color: #800080; font-weight: bold\">d_angle_emb</span><span style=\"font-weight: bold\">()</span>                                                <span style=\"color: #7f7f7f; text-decoration-color: #7f7f7f\">           </span>\n",
       "<span style=\"color: #7fbfbf; text-decoration-color: #7fbfbf\">                    </span>           <span style=\"font-weight: bold\">(</span>embedding<span style=\"font-weight: bold\">)</span>: <span style=\"color: #800080; text-decoration-color: #800080; font-weight: bold\">Embedding</span><span style=\"font-weight: bold\">(</span><span style=\"color: #008080; text-decoration-color: #008080; font-weight: bold\">26</span>, <span style=\"color: #008080; text-decoration-color: #008080; font-weight: bold\">128</span><span style=\"font-weight: bold\">)</span>                                          <span style=\"color: #7f7f7f; text-decoration-color: #7f7f7f\">           </span>\n",
       "<span style=\"color: #7fbfbf; text-decoration-color: #7fbfbf\">                    </span>           <span style=\"font-weight: bold\">(</span>interaction_blocks<span style=\"font-weight: bold\">)</span>: <span style=\"color: #800080; text-decoration-color: #800080; font-weight: bold\">ModuleList</span><span style=\"font-weight: bold\">(</span>                                        <span style=\"color: #7f7f7f; text-decoration-color: #7f7f7f\">           </span>\n",
       "<span style=\"color: #7fbfbf; text-decoration-color: #7fbfbf\">                    </span>             <span style=\"font-weight: bold\">(</span><span style=\"color: #008080; text-decoration-color: #008080; font-weight: bold\">0</span>-<span style=\"color: #008080; text-decoration-color: #008080; font-weight: bold\">3</span><span style=\"font-weight: bold\">)</span>: <span style=\"color: #008080; text-decoration-color: #008080; font-weight: bold\">4</span> x <span style=\"color: #800080; text-decoration-color: #800080; font-weight: bold\">InteractionBlock</span><span style=\"font-weight: bold\">(</span>                                           <span style=\"color: #7f7f7f; text-decoration-color: #7f7f7f\">           </span>\n",
       "<span style=\"color: #7fbfbf; text-decoration-color: #7fbfbf\">                    </span>               <span style=\"font-weight: bold\">(</span>dropout<span style=\"font-weight: bold\">)</span>: <span style=\"color: #800080; text-decoration-color: #800080; font-weight: bold\">Dropout</span><span style=\"font-weight: bold\">(</span><span style=\"color: #808000; text-decoration-color: #808000\">p</span>=<span style=\"color: #008080; text-decoration-color: #008080; font-weight: bold\">0.3</span>, <span style=\"color: #808000; text-decoration-color: #808000\">inplace</span>=<span style=\"color: #ff0000; text-decoration-color: #ff0000; font-style: italic\">False</span><span style=\"font-weight: bold\">)</span>                             <span style=\"color: #7f7f7f; text-decoration-color: #7f7f7f\">           </span>\n",
       "<span style=\"color: #7fbfbf; text-decoration-color: #7fbfbf\">                    </span>               <span style=\"font-weight: bold\">(</span>conv0<span style=\"font-weight: bold\">)</span>: <span style=\"color: #800080; text-decoration-color: #800080; font-weight: bold\">EdgeGraphConv</span><span style=\"font-weight: bold\">(</span><span style=\"color: #008080; text-decoration-color: #008080; font-weight: bold\">128</span>, <span style=\"color: #008080; text-decoration-color: #008080; font-weight: bold\">128</span><span style=\"font-weight: bold\">)</span>                                     <span style=\"color: #7f7f7f; text-decoration-color: #7f7f7f\">           </span>\n",
       "<span style=\"color: #7fbfbf; text-decoration-color: #7fbfbf\">                    </span>               <span style=\"font-weight: bold\">(</span>conv1<span style=\"font-weight: bold\">)</span>: <span style=\"color: #800080; text-decoration-color: #800080; font-weight: bold\">EdgeGraphConv</span><span style=\"font-weight: bold\">(</span><span style=\"color: #008080; text-decoration-color: #008080; font-weight: bold\">128</span>, <span style=\"color: #008080; text-decoration-color: #008080; font-weight: bold\">128</span><span style=\"font-weight: bold\">)</span>                                     <span style=\"color: #7f7f7f; text-decoration-color: #7f7f7f\">           </span>\n",
       "<span style=\"color: #7fbfbf; text-decoration-color: #7fbfbf\">                    </span>               <span style=\"font-weight: bold\">(</span>conv2<span style=\"font-weight: bold\">)</span>: <span style=\"color: #800080; text-decoration-color: #800080; font-weight: bold\">EdgeGraphConv</span><span style=\"font-weight: bold\">(</span><span style=\"color: #008080; text-decoration-color: #008080; font-weight: bold\">128</span>, <span style=\"color: #008080; text-decoration-color: #008080; font-weight: bold\">128</span><span style=\"font-weight: bold\">)</span>                                     <span style=\"color: #7f7f7f; text-decoration-color: #7f7f7f\">           </span>\n",
       "<span style=\"color: #7fbfbf; text-decoration-color: #7fbfbf\">                    </span>               <span style=\"font-weight: bold\">(</span>lin_feature0<span style=\"font-weight: bold\">)</span>: <span style=\"color: #800080; text-decoration-color: #800080; font-weight: bold\">TwoLinear</span><span style=\"font-weight: bold\">(</span>                                           <span style=\"color: #7f7f7f; text-decoration-color: #7f7f7f\">           </span>\n",
       "<span style=\"color: #7fbfbf; text-decoration-color: #7fbfbf\">                    </span>                 <span style=\"font-weight: bold\">(</span>lin1<span style=\"font-weight: bold\">)</span>: <span style=\"color: #800080; text-decoration-color: #800080; font-weight: bold\">Linear</span><span style=\"font-weight: bold\">()</span>                                                   <span style=\"color: #7f7f7f; text-decoration-color: #7f7f7f\">           </span>\n",
       "<span style=\"color: #7fbfbf; text-decoration-color: #7fbfbf\">                    </span>                 <span style=\"font-weight: bold\">(</span>lin2<span style=\"font-weight: bold\">)</span>: <span style=\"color: #800080; text-decoration-color: #800080; font-weight: bold\">Linear</span><span style=\"font-weight: bold\">()</span>                                                   <span style=\"color: #7f7f7f; text-decoration-color: #7f7f7f\">           </span>\n",
       "<span style=\"color: #7fbfbf; text-decoration-color: #7fbfbf\">                    </span>               <span style=\"font-weight: bold\">)</span>                                                                    <span style=\"color: #7f7f7f; text-decoration-color: #7f7f7f\">           </span>\n",
       "<span style=\"color: #7fbfbf; text-decoration-color: #7fbfbf\">                    </span>               <span style=\"font-weight: bold\">(</span>lin_feature1<span style=\"font-weight: bold\">)</span>: <span style=\"color: #800080; text-decoration-color: #800080; font-weight: bold\">TwoLinear</span><span style=\"font-weight: bold\">(</span>                                           <span style=\"color: #7f7f7f; text-decoration-color: #7f7f7f\">           </span>\n",
       "<span style=\"color: #7fbfbf; text-decoration-color: #7fbfbf\">                    </span>                 <span style=\"font-weight: bold\">(</span>lin1<span style=\"font-weight: bold\">)</span>: <span style=\"color: #800080; text-decoration-color: #800080; font-weight: bold\">Linear</span><span style=\"font-weight: bold\">()</span>                                                   <span style=\"color: #7f7f7f; text-decoration-color: #7f7f7f\">           </span>\n",
       "<span style=\"color: #7fbfbf; text-decoration-color: #7fbfbf\">                    </span>                 <span style=\"font-weight: bold\">(</span>lin2<span style=\"font-weight: bold\">)</span>: <span style=\"color: #800080; text-decoration-color: #800080; font-weight: bold\">Linear</span><span style=\"font-weight: bold\">()</span>                                                   <span style=\"color: #7f7f7f; text-decoration-color: #7f7f7f\">           </span>\n",
       "<span style=\"color: #7fbfbf; text-decoration-color: #7fbfbf\">                    </span>               <span style=\"font-weight: bold\">)</span>                                                                    <span style=\"color: #7f7f7f; text-decoration-color: #7f7f7f\">           </span>\n",
       "<span style=\"color: #7fbfbf; text-decoration-color: #7fbfbf\">                    </span>               <span style=\"font-weight: bold\">(</span>lin_feature2<span style=\"font-weight: bold\">)</span>: <span style=\"color: #800080; text-decoration-color: #800080; font-weight: bold\">TwoLinear</span><span style=\"font-weight: bold\">(</span>                                           <span style=\"color: #7f7f7f; text-decoration-color: #7f7f7f\">           </span>\n",
       "<span style=\"color: #7fbfbf; text-decoration-color: #7fbfbf\">                    </span>                 <span style=\"font-weight: bold\">(</span>lin1<span style=\"font-weight: bold\">)</span>: <span style=\"color: #800080; text-decoration-color: #800080; font-weight: bold\">Linear</span><span style=\"font-weight: bold\">()</span>                                                   <span style=\"color: #7f7f7f; text-decoration-color: #7f7f7f\">           </span>\n",
       "<span style=\"color: #7fbfbf; text-decoration-color: #7fbfbf\">                    </span>                 <span style=\"font-weight: bold\">(</span>lin2<span style=\"font-weight: bold\">)</span>: <span style=\"color: #800080; text-decoration-color: #800080; font-weight: bold\">Linear</span><span style=\"font-weight: bold\">()</span>                                                   <span style=\"color: #7f7f7f; text-decoration-color: #7f7f7f\">           </span>\n",
       "<span style=\"color: #7fbfbf; text-decoration-color: #7fbfbf\">                    </span>               <span style=\"font-weight: bold\">)</span>                                                                    <span style=\"color: #7f7f7f; text-decoration-color: #7f7f7f\">           </span>\n",
       "<span style=\"color: #7fbfbf; text-decoration-color: #7fbfbf\">                    </span>               <span style=\"font-weight: bold\">(</span>lin_1<span style=\"font-weight: bold\">)</span>: <span style=\"color: #800080; text-decoration-color: #800080; font-weight: bold\">Linear</span><span style=\"font-weight: bold\">()</span>                                                    <span style=\"color: #7f7f7f; text-decoration-color: #7f7f7f\">           </span>\n",
       "<span style=\"color: #7fbfbf; text-decoration-color: #7fbfbf\">                    </span>               <span style=\"font-weight: bold\">(</span>lin_2<span style=\"font-weight: bold\">)</span>: <span style=\"color: #800080; text-decoration-color: #800080; font-weight: bold\">Linear</span><span style=\"font-weight: bold\">()</span>                                                    <span style=\"color: #7f7f7f; text-decoration-color: #7f7f7f\">           </span>\n",
       "<span style=\"color: #7fbfbf; text-decoration-color: #7fbfbf\">                    </span>               <span style=\"font-weight: bold\">(</span>lin0<span style=\"font-weight: bold\">)</span>: <span style=\"color: #800080; text-decoration-color: #800080; font-weight: bold\">Linear</span><span style=\"font-weight: bold\">()</span>                                                     <span style=\"color: #7f7f7f; text-decoration-color: #7f7f7f\">           </span>\n",
       "<span style=\"color: #7fbfbf; text-decoration-color: #7fbfbf\">                    </span>               <span style=\"font-weight: bold\">(</span>lin1<span style=\"font-weight: bold\">)</span>: <span style=\"color: #800080; text-decoration-color: #800080; font-weight: bold\">Linear</span><span style=\"font-weight: bold\">()</span>                                                     <span style=\"color: #7f7f7f; text-decoration-color: #7f7f7f\">           </span>\n",
       "<span style=\"color: #7fbfbf; text-decoration-color: #7fbfbf\">                    </span>               <span style=\"font-weight: bold\">(</span>lin2<span style=\"font-weight: bold\">)</span>: <span style=\"color: #800080; text-decoration-color: #800080; font-weight: bold\">Linear</span><span style=\"font-weight: bold\">()</span>                                                     <span style=\"color: #7f7f7f; text-decoration-color: #7f7f7f\">           </span>\n",
       "<span style=\"color: #7fbfbf; text-decoration-color: #7fbfbf\">                    </span>               <span style=\"font-weight: bold\">(</span>lins_cat<span style=\"font-weight: bold\">)</span>: <span style=\"color: #800080; text-decoration-color: #800080; font-weight: bold\">ModuleList</span><span style=\"font-weight: bold\">(</span>                                              <span style=\"color: #7f7f7f; text-decoration-color: #7f7f7f\">           </span>\n",
       "<span style=\"color: #7fbfbf; text-decoration-color: #7fbfbf\">                    </span>                 <span style=\"font-weight: bold\">(</span><span style=\"color: #008080; text-decoration-color: #008080; font-weight: bold\">0</span>-<span style=\"color: #008080; text-decoration-color: #008080; font-weight: bold\">2</span><span style=\"font-weight: bold\">)</span>: <span style=\"color: #008080; text-decoration-color: #008080; font-weight: bold\">3</span> x <span style=\"color: #800080; text-decoration-color: #800080; font-weight: bold\">Linear</span><span style=\"font-weight: bold\">()</span>                                                <span style=\"color: #7f7f7f; text-decoration-color: #7f7f7f\">           </span>\n",
       "<span style=\"color: #7fbfbf; text-decoration-color: #7fbfbf\">                    </span>               <span style=\"font-weight: bold\">)</span>                                                                    <span style=\"color: #7f7f7f; text-decoration-color: #7f7f7f\">           </span>\n",
       "<span style=\"color: #7fbfbf; text-decoration-color: #7fbfbf\">                    </span>               <span style=\"font-weight: bold\">(</span>lins<span style=\"font-weight: bold\">)</span>: <span style=\"color: #800080; text-decoration-color: #800080; font-weight: bold\">ModuleList</span><span style=\"font-weight: bold\">(</span>                                                  <span style=\"color: #7f7f7f; text-decoration-color: #7f7f7f\">           </span>\n",
       "<span style=\"color: #7fbfbf; text-decoration-color: #7fbfbf\">                    </span>                 <span style=\"font-weight: bold\">(</span><span style=\"color: #008080; text-decoration-color: #008080; font-weight: bold\">0</span>-<span style=\"color: #008080; text-decoration-color: #008080; font-weight: bold\">1</span><span style=\"font-weight: bold\">)</span>: <span style=\"color: #008080; text-decoration-color: #008080; font-weight: bold\">2</span> x <span style=\"color: #800080; text-decoration-color: #800080; font-weight: bold\">Linear</span><span style=\"font-weight: bold\">()</span>                                                <span style=\"color: #7f7f7f; text-decoration-color: #7f7f7f\">           </span>\n",
       "<span style=\"color: #7fbfbf; text-decoration-color: #7fbfbf\">                    </span>               <span style=\"font-weight: bold\">)</span>                                                                    <span style=\"color: #7f7f7f; text-decoration-color: #7f7f7f\">           </span>\n",
       "<span style=\"color: #7fbfbf; text-decoration-color: #7fbfbf\">                    </span>               <span style=\"font-weight: bold\">(</span>final<span style=\"font-weight: bold\">)</span>: <span style=\"color: #800080; text-decoration-color: #800080; font-weight: bold\">Linear</span><span style=\"font-weight: bold\">()</span>                                                    <span style=\"color: #7f7f7f; text-decoration-color: #7f7f7f\">           </span>\n",
       "<span style=\"color: #7fbfbf; text-decoration-color: #7fbfbf\">                    </span>             <span style=\"font-weight: bold\">)</span>                                                                      <span style=\"color: #7f7f7f; text-decoration-color: #7f7f7f\">           </span>\n",
       "<span style=\"color: #7fbfbf; text-decoration-color: #7fbfbf\">                    </span>           <span style=\"font-weight: bold\">)</span>                                                                        <span style=\"color: #7f7f7f; text-decoration-color: #7f7f7f\">           </span>\n",
       "<span style=\"color: #7fbfbf; text-decoration-color: #7fbfbf\">                    </span>           <span style=\"font-weight: bold\">(</span>lins_out<span style=\"font-weight: bold\">)</span>: <span style=\"color: #800080; text-decoration-color: #800080; font-weight: bold\">ModuleList</span><span style=\"font-weight: bold\">(</span>                                                  <span style=\"color: #7f7f7f; text-decoration-color: #7f7f7f\">           </span>\n",
       "<span style=\"color: #7fbfbf; text-decoration-color: #7fbfbf\">                    </span>             <span style=\"font-weight: bold\">(</span><span style=\"color: #008080; text-decoration-color: #008080; font-weight: bold\">0</span><span style=\"font-weight: bold\">)</span>: <span style=\"color: #800080; text-decoration-color: #800080; font-weight: bold\">Linear</span><span style=\"font-weight: bold\">()</span>                                                          <span style=\"color: #7f7f7f; text-decoration-color: #7f7f7f\">           </span>\n",
       "<span style=\"color: #7fbfbf; text-decoration-color: #7fbfbf\">                    </span>           <span style=\"font-weight: bold\">)</span>                                                                        <span style=\"color: #7f7f7f; text-decoration-color: #7f7f7f\">           </span>\n",
       "<span style=\"color: #7fbfbf; text-decoration-color: #7fbfbf\">                    </span>           <span style=\"font-weight: bold\">(</span>lin_out<span style=\"font-weight: bold\">)</span>: <span style=\"color: #800080; text-decoration-color: #800080; font-weight: bold\">Linear</span><span style=\"font-weight: bold\">()</span>                                                      <span style=\"color: #7f7f7f; text-decoration-color: #7f7f7f\">           </span>\n",
       "<span style=\"color: #7fbfbf; text-decoration-color: #7fbfbf\">                    </span>           <span style=\"font-weight: bold\">(</span>relu<span style=\"font-weight: bold\">)</span>: <span style=\"color: #800080; text-decoration-color: #800080; font-weight: bold\">ReLU</span><span style=\"font-weight: bold\">()</span>                                                           <span style=\"color: #7f7f7f; text-decoration-color: #7f7f7f\">           </span>\n",
       "<span style=\"color: #7fbfbf; text-decoration-color: #7fbfbf\">                    </span>           <span style=\"font-weight: bold\">(</span>dropout<span style=\"font-weight: bold\">)</span>: <span style=\"color: #800080; text-decoration-color: #800080; font-weight: bold\">Dropout</span><span style=\"font-weight: bold\">(</span><span style=\"color: #808000; text-decoration-color: #808000\">p</span>=<span style=\"color: #008080; text-decoration-color: #008080; font-weight: bold\">0.3</span>, <span style=\"color: #808000; text-decoration-color: #808000\">inplace</span>=<span style=\"color: #ff0000; text-decoration-color: #ff0000; font-style: italic\">False</span><span style=\"font-weight: bold\">)</span>                                 <span style=\"color: #7f7f7f; text-decoration-color: #7f7f7f\">           </span>\n",
       "<span style=\"color: #7fbfbf; text-decoration-color: #7fbfbf\">                    </span>         <span style=\"font-weight: bold\">)</span>                                                                          <span style=\"color: #7f7f7f; text-decoration-color: #7f7f7f\">           </span>\n",
       "</pre>\n"
      ],
      "text/plain": [
       "\u001b[2;36m[07/19/24 18:08:35]\u001b[0m\u001b[2;36m \u001b[0m\u001b[34mINFO    \u001b[0m \u001b[1;35mProNet\u001b[0m\u001b[1m(\u001b[0m                                                                    \u001b]8;id=76060;file:///home/zhang/Projects/3d/ProteinWorkshop/proteinworkshop/models/base.py\u001b\\\u001b[2mbase.py\u001b[0m\u001b]8;;\u001b\\\u001b[2m:\u001b[0m\u001b]8;id=574499;file:///home/zhang/Projects/3d/ProteinWorkshop/proteinworkshop/models/base.py#415\u001b\\\u001b[2m415\u001b[0m\u001b]8;;\u001b\\\n",
       "\u001b[2;36m                    \u001b[0m           \u001b[1m(\u001b[0mfeature0\u001b[1m)\u001b[0m: \u001b[1;35md_theta_phi_emb\u001b[0m\u001b[1m(\u001b[0m\u001b[1m)\u001b[0m                                            \u001b[2m           \u001b[0m\n",
       "\u001b[2;36m                    \u001b[0m           \u001b[1m(\u001b[0mfeature1\u001b[1m)\u001b[0m: \u001b[1;35md_angle_emb\u001b[0m\u001b[1m(\u001b[0m\u001b[1m)\u001b[0m                                                \u001b[2m           \u001b[0m\n",
       "\u001b[2;36m                    \u001b[0m           \u001b[1m(\u001b[0membedding\u001b[1m)\u001b[0m: \u001b[1;35mEmbedding\u001b[0m\u001b[1m(\u001b[0m\u001b[1;36m26\u001b[0m, \u001b[1;36m128\u001b[0m\u001b[1m)\u001b[0m                                          \u001b[2m           \u001b[0m\n",
       "\u001b[2;36m                    \u001b[0m           \u001b[1m(\u001b[0minteraction_blocks\u001b[1m)\u001b[0m: \u001b[1;35mModuleList\u001b[0m\u001b[1m(\u001b[0m                                        \u001b[2m           \u001b[0m\n",
       "\u001b[2;36m                    \u001b[0m             \u001b[1m(\u001b[0m\u001b[1;36m0\u001b[0m-\u001b[1;36m3\u001b[0m\u001b[1m)\u001b[0m: \u001b[1;36m4\u001b[0m x \u001b[1;35mInteractionBlock\u001b[0m\u001b[1m(\u001b[0m                                           \u001b[2m           \u001b[0m\n",
       "\u001b[2;36m                    \u001b[0m               \u001b[1m(\u001b[0mdropout\u001b[1m)\u001b[0m: \u001b[1;35mDropout\u001b[0m\u001b[1m(\u001b[0m\u001b[33mp\u001b[0m=\u001b[1;36m0\u001b[0m\u001b[1;36m.3\u001b[0m, \u001b[33minplace\u001b[0m=\u001b[3;91mFalse\u001b[0m\u001b[1m)\u001b[0m                             \u001b[2m           \u001b[0m\n",
       "\u001b[2;36m                    \u001b[0m               \u001b[1m(\u001b[0mconv0\u001b[1m)\u001b[0m: \u001b[1;35mEdgeGraphConv\u001b[0m\u001b[1m(\u001b[0m\u001b[1;36m128\u001b[0m, \u001b[1;36m128\u001b[0m\u001b[1m)\u001b[0m                                     \u001b[2m           \u001b[0m\n",
       "\u001b[2;36m                    \u001b[0m               \u001b[1m(\u001b[0mconv1\u001b[1m)\u001b[0m: \u001b[1;35mEdgeGraphConv\u001b[0m\u001b[1m(\u001b[0m\u001b[1;36m128\u001b[0m, \u001b[1;36m128\u001b[0m\u001b[1m)\u001b[0m                                     \u001b[2m           \u001b[0m\n",
       "\u001b[2;36m                    \u001b[0m               \u001b[1m(\u001b[0mconv2\u001b[1m)\u001b[0m: \u001b[1;35mEdgeGraphConv\u001b[0m\u001b[1m(\u001b[0m\u001b[1;36m128\u001b[0m, \u001b[1;36m128\u001b[0m\u001b[1m)\u001b[0m                                     \u001b[2m           \u001b[0m\n",
       "\u001b[2;36m                    \u001b[0m               \u001b[1m(\u001b[0mlin_feature0\u001b[1m)\u001b[0m: \u001b[1;35mTwoLinear\u001b[0m\u001b[1m(\u001b[0m                                           \u001b[2m           \u001b[0m\n",
       "\u001b[2;36m                    \u001b[0m                 \u001b[1m(\u001b[0mlin1\u001b[1m)\u001b[0m: \u001b[1;35mLinear\u001b[0m\u001b[1m(\u001b[0m\u001b[1m)\u001b[0m                                                   \u001b[2m           \u001b[0m\n",
       "\u001b[2;36m                    \u001b[0m                 \u001b[1m(\u001b[0mlin2\u001b[1m)\u001b[0m: \u001b[1;35mLinear\u001b[0m\u001b[1m(\u001b[0m\u001b[1m)\u001b[0m                                                   \u001b[2m           \u001b[0m\n",
       "\u001b[2;36m                    \u001b[0m               \u001b[1m)\u001b[0m                                                                    \u001b[2m           \u001b[0m\n",
       "\u001b[2;36m                    \u001b[0m               \u001b[1m(\u001b[0mlin_feature1\u001b[1m)\u001b[0m: \u001b[1;35mTwoLinear\u001b[0m\u001b[1m(\u001b[0m                                           \u001b[2m           \u001b[0m\n",
       "\u001b[2;36m                    \u001b[0m                 \u001b[1m(\u001b[0mlin1\u001b[1m)\u001b[0m: \u001b[1;35mLinear\u001b[0m\u001b[1m(\u001b[0m\u001b[1m)\u001b[0m                                                   \u001b[2m           \u001b[0m\n",
       "\u001b[2;36m                    \u001b[0m                 \u001b[1m(\u001b[0mlin2\u001b[1m)\u001b[0m: \u001b[1;35mLinear\u001b[0m\u001b[1m(\u001b[0m\u001b[1m)\u001b[0m                                                   \u001b[2m           \u001b[0m\n",
       "\u001b[2;36m                    \u001b[0m               \u001b[1m)\u001b[0m                                                                    \u001b[2m           \u001b[0m\n",
       "\u001b[2;36m                    \u001b[0m               \u001b[1m(\u001b[0mlin_feature2\u001b[1m)\u001b[0m: \u001b[1;35mTwoLinear\u001b[0m\u001b[1m(\u001b[0m                                           \u001b[2m           \u001b[0m\n",
       "\u001b[2;36m                    \u001b[0m                 \u001b[1m(\u001b[0mlin1\u001b[1m)\u001b[0m: \u001b[1;35mLinear\u001b[0m\u001b[1m(\u001b[0m\u001b[1m)\u001b[0m                                                   \u001b[2m           \u001b[0m\n",
       "\u001b[2;36m                    \u001b[0m                 \u001b[1m(\u001b[0mlin2\u001b[1m)\u001b[0m: \u001b[1;35mLinear\u001b[0m\u001b[1m(\u001b[0m\u001b[1m)\u001b[0m                                                   \u001b[2m           \u001b[0m\n",
       "\u001b[2;36m                    \u001b[0m               \u001b[1m)\u001b[0m                                                                    \u001b[2m           \u001b[0m\n",
       "\u001b[2;36m                    \u001b[0m               \u001b[1m(\u001b[0mlin_1\u001b[1m)\u001b[0m: \u001b[1;35mLinear\u001b[0m\u001b[1m(\u001b[0m\u001b[1m)\u001b[0m                                                    \u001b[2m           \u001b[0m\n",
       "\u001b[2;36m                    \u001b[0m               \u001b[1m(\u001b[0mlin_2\u001b[1m)\u001b[0m: \u001b[1;35mLinear\u001b[0m\u001b[1m(\u001b[0m\u001b[1m)\u001b[0m                                                    \u001b[2m           \u001b[0m\n",
       "\u001b[2;36m                    \u001b[0m               \u001b[1m(\u001b[0mlin0\u001b[1m)\u001b[0m: \u001b[1;35mLinear\u001b[0m\u001b[1m(\u001b[0m\u001b[1m)\u001b[0m                                                     \u001b[2m           \u001b[0m\n",
       "\u001b[2;36m                    \u001b[0m               \u001b[1m(\u001b[0mlin1\u001b[1m)\u001b[0m: \u001b[1;35mLinear\u001b[0m\u001b[1m(\u001b[0m\u001b[1m)\u001b[0m                                                     \u001b[2m           \u001b[0m\n",
       "\u001b[2;36m                    \u001b[0m               \u001b[1m(\u001b[0mlin2\u001b[1m)\u001b[0m: \u001b[1;35mLinear\u001b[0m\u001b[1m(\u001b[0m\u001b[1m)\u001b[0m                                                     \u001b[2m           \u001b[0m\n",
       "\u001b[2;36m                    \u001b[0m               \u001b[1m(\u001b[0mlins_cat\u001b[1m)\u001b[0m: \u001b[1;35mModuleList\u001b[0m\u001b[1m(\u001b[0m                                              \u001b[2m           \u001b[0m\n",
       "\u001b[2;36m                    \u001b[0m                 \u001b[1m(\u001b[0m\u001b[1;36m0\u001b[0m-\u001b[1;36m2\u001b[0m\u001b[1m)\u001b[0m: \u001b[1;36m3\u001b[0m x \u001b[1;35mLinear\u001b[0m\u001b[1m(\u001b[0m\u001b[1m)\u001b[0m                                                \u001b[2m           \u001b[0m\n",
       "\u001b[2;36m                    \u001b[0m               \u001b[1m)\u001b[0m                                                                    \u001b[2m           \u001b[0m\n",
       "\u001b[2;36m                    \u001b[0m               \u001b[1m(\u001b[0mlins\u001b[1m)\u001b[0m: \u001b[1;35mModuleList\u001b[0m\u001b[1m(\u001b[0m                                                  \u001b[2m           \u001b[0m\n",
       "\u001b[2;36m                    \u001b[0m                 \u001b[1m(\u001b[0m\u001b[1;36m0\u001b[0m-\u001b[1;36m1\u001b[0m\u001b[1m)\u001b[0m: \u001b[1;36m2\u001b[0m x \u001b[1;35mLinear\u001b[0m\u001b[1m(\u001b[0m\u001b[1m)\u001b[0m                                                \u001b[2m           \u001b[0m\n",
       "\u001b[2;36m                    \u001b[0m               \u001b[1m)\u001b[0m                                                                    \u001b[2m           \u001b[0m\n",
       "\u001b[2;36m                    \u001b[0m               \u001b[1m(\u001b[0mfinal\u001b[1m)\u001b[0m: \u001b[1;35mLinear\u001b[0m\u001b[1m(\u001b[0m\u001b[1m)\u001b[0m                                                    \u001b[2m           \u001b[0m\n",
       "\u001b[2;36m                    \u001b[0m             \u001b[1m)\u001b[0m                                                                      \u001b[2m           \u001b[0m\n",
       "\u001b[2;36m                    \u001b[0m           \u001b[1m)\u001b[0m                                                                        \u001b[2m           \u001b[0m\n",
       "\u001b[2;36m                    \u001b[0m           \u001b[1m(\u001b[0mlins_out\u001b[1m)\u001b[0m: \u001b[1;35mModuleList\u001b[0m\u001b[1m(\u001b[0m                                                  \u001b[2m           \u001b[0m\n",
       "\u001b[2;36m                    \u001b[0m             \u001b[1m(\u001b[0m\u001b[1;36m0\u001b[0m\u001b[1m)\u001b[0m: \u001b[1;35mLinear\u001b[0m\u001b[1m(\u001b[0m\u001b[1m)\u001b[0m                                                          \u001b[2m           \u001b[0m\n",
       "\u001b[2;36m                    \u001b[0m           \u001b[1m)\u001b[0m                                                                        \u001b[2m           \u001b[0m\n",
       "\u001b[2;36m                    \u001b[0m           \u001b[1m(\u001b[0mlin_out\u001b[1m)\u001b[0m: \u001b[1;35mLinear\u001b[0m\u001b[1m(\u001b[0m\u001b[1m)\u001b[0m                                                      \u001b[2m           \u001b[0m\n",
       "\u001b[2;36m                    \u001b[0m           \u001b[1m(\u001b[0mrelu\u001b[1m)\u001b[0m: \u001b[1;35mReLU\u001b[0m\u001b[1m(\u001b[0m\u001b[1m)\u001b[0m                                                           \u001b[2m           \u001b[0m\n",
       "\u001b[2;36m                    \u001b[0m           \u001b[1m(\u001b[0mdropout\u001b[1m)\u001b[0m: \u001b[1;35mDropout\u001b[0m\u001b[1m(\u001b[0m\u001b[33mp\u001b[0m=\u001b[1;36m0\u001b[0m\u001b[1;36m.3\u001b[0m, \u001b[33minplace\u001b[0m=\u001b[3;91mFalse\u001b[0m\u001b[1m)\u001b[0m                                 \u001b[2m           \u001b[0m\n",
       "\u001b[2;36m                    \u001b[0m         \u001b[1m)\u001b[0m                                                                          \u001b[2m           \u001b[0m\n"
      ]
     },
     "metadata": {},
     "output_type": "display_data"
    },
    {
     "data": {
      "text/html": [
       "<pre style=\"white-space:pre;overflow-x:auto;line-height:normal;font-family:Menlo,'DejaVu Sans Mono',consolas,'Courier New',monospace\"><span style=\"color: #7fbfbf; text-decoration-color: #7fbfbf\">                    </span><span style=\"color: #000080; text-decoration-color: #000080\">INFO    </span> Instantiating decoders<span style=\"color: #808000; text-decoration-color: #808000\">...</span>                                                  <a href=\"file:///home/zhang/Projects/3d/ProteinWorkshop/proteinworkshop/models/base.py\" target=\"_blank\"><span style=\"color: #7f7f7f; text-decoration-color: #7f7f7f\">base.py</span></a><span style=\"color: #7f7f7f; text-decoration-color: #7f7f7f\">:</span><a href=\"file:///home/zhang/Projects/3d/ProteinWorkshop/proteinworkshop/models/base.py#417\" target=\"_blank\"><span style=\"color: #7f7f7f; text-decoration-color: #7f7f7f\">417</span></a>\n",
       "</pre>\n"
      ],
      "text/plain": [
       "\u001b[2;36m                   \u001b[0m\u001b[2;36m \u001b[0m\u001b[34mINFO    \u001b[0m Instantiating decoders\u001b[33m...\u001b[0m                                                  \u001b]8;id=156994;file:///home/zhang/Projects/3d/ProteinWorkshop/proteinworkshop/models/base.py\u001b\\\u001b[2mbase.py\u001b[0m\u001b]8;;\u001b\\\u001b[2m:\u001b[0m\u001b]8;id=527713;file:///home/zhang/Projects/3d/ProteinWorkshop/proteinworkshop/models/base.py#417\u001b\\\u001b[2m417\u001b[0m\u001b]8;;\u001b\\\n"
      ]
     },
     "metadata": {},
     "output_type": "display_data"
    },
    {
     "data": {
      "text/html": [
       "<pre style=\"white-space:pre;overflow-x:auto;line-height:normal;font-family:Menlo,'DejaVu Sans Mono',consolas,'Courier New',monospace\"><span style=\"color: #7fbfbf; text-decoration-color: #7fbfbf\">                    </span><span style=\"color: #000080; text-decoration-color: #000080\">INFO    </span> Building graph_label decoder. Output dim <span style=\"color: #008080; text-decoration-color: #008080; font-weight: bold\">1195</span>                              <a href=\"file:///home/zhang/Projects/3d/ProteinWorkshop/proteinworkshop/models/base.py\" target=\"_blank\"><span style=\"color: #7f7f7f; text-decoration-color: #7f7f7f\">base.py</span></a><span style=\"color: #7f7f7f; text-decoration-color: #7f7f7f\">:</span><a href=\"file:///home/zhang/Projects/3d/ProteinWorkshop/proteinworkshop/models/base.py#252\" target=\"_blank\"><span style=\"color: #7f7f7f; text-decoration-color: #7f7f7f\">252</span></a>\n",
       "</pre>\n"
      ],
      "text/plain": [
       "\u001b[2;36m                   \u001b[0m\u001b[2;36m \u001b[0m\u001b[34mINFO    \u001b[0m Building graph_label decoder. Output dim \u001b[1;36m1195\u001b[0m                              \u001b]8;id=475027;file:///home/zhang/Projects/3d/ProteinWorkshop/proteinworkshop/models/base.py\u001b\\\u001b[2mbase.py\u001b[0m\u001b]8;;\u001b\\\u001b[2m:\u001b[0m\u001b]8;id=626430;file:///home/zhang/Projects/3d/ProteinWorkshop/proteinworkshop/models/base.py#252\u001b\\\u001b[2m252\u001b[0m\u001b]8;;\u001b\\\n"
      ]
     },
     "metadata": {},
     "output_type": "display_data"
    },
    {
     "data": {
      "text/html": [
       "<pre style=\"white-space:pre;overflow-x:auto;line-height:normal;font-family:Menlo,'DejaVu Sans Mono',consolas,'Courier New',monospace\"><span style=\"color: #7fbfbf; text-decoration-color: #7fbfbf\">                    </span><span style=\"color: #000080; text-decoration-color: #000080\">INFO    </span> <span style=\"font-weight: bold\">{</span><span style=\"color: #008000; text-decoration-color: #008000\">'_target_'</span>: <span style=\"color: #008000; text-decoration-color: #008000\">'proteinworkshop.models.decoders.mlp_decoder.MLPDecoder'</span>,     <a href=\"file:///home/zhang/Projects/3d/ProteinWorkshop/proteinworkshop/models/base.py\" target=\"_blank\"><span style=\"color: #7f7f7f; text-decoration-color: #7f7f7f\">base.py</span></a><span style=\"color: #7f7f7f; text-decoration-color: #7f7f7f\">:</span><a href=\"file:///home/zhang/Projects/3d/ProteinWorkshop/proteinworkshop/models/base.py#255\" target=\"_blank\"><span style=\"color: #7f7f7f; text-decoration-color: #7f7f7f\">255</span></a>\n",
       "<span style=\"color: #7fbfbf; text-decoration-color: #7fbfbf\">                    </span>         <span style=\"color: #008000; text-decoration-color: #008000\">'hidden_dim'</span>: <span style=\"font-weight: bold\">[</span><span style=\"color: #008080; text-decoration-color: #008080; font-weight: bold\">512</span>, <span style=\"color: #008080; text-decoration-color: #008080; font-weight: bold\">512</span>, <span style=\"color: #008080; text-decoration-color: #008080; font-weight: bold\">512</span><span style=\"font-weight: bold\">]</span>, <span style=\"color: #008000; text-decoration-color: #008000\">'dropout'</span>: <span style=\"color: #008080; text-decoration-color: #008080; font-weight: bold\">0.0</span>, <span style=\"color: #008000; text-decoration-color: #008000\">'activations'</span>: <span style=\"font-weight: bold\">[</span><span style=\"color: #008000; text-decoration-color: #008000\">'relu'</span>,     <span style=\"color: #7f7f7f; text-decoration-color: #7f7f7f\">           </span>\n",
       "<span style=\"color: #7fbfbf; text-decoration-color: #7fbfbf\">                    </span>         <span style=\"color: #008000; text-decoration-color: #008000\">'relu'</span>, <span style=\"color: #008000; text-decoration-color: #008000\">'relu'</span>, <span style=\"color: #008000; text-decoration-color: #008000\">'none'</span><span style=\"font-weight: bold\">]</span>, <span style=\"color: #008000; text-decoration-color: #008000\">'skip'</span>: <span style=\"color: #008000; text-decoration-color: #008000\">'concat'</span>, <span style=\"color: #008000; text-decoration-color: #008000\">'out_dim'</span>:                      <span style=\"color: #7f7f7f; text-decoration-color: #7f7f7f\">           </span>\n",
       "<span style=\"color: #7fbfbf; text-decoration-color: #7fbfbf\">                    </span>         <span style=\"color: #008000; text-decoration-color: #008000\">'${dataset.num_classes}'</span>, <span style=\"color: #008000; text-decoration-color: #008000\">'input'</span>: <span style=\"color: #008000; text-decoration-color: #008000\">'graph_embedding'</span>, <span style=\"color: #008000; text-decoration-color: #008000\">'dummy'</span>: <span style=\"color: #00ff00; text-decoration-color: #00ff00; font-style: italic\">True</span><span style=\"font-weight: bold\">}</span>       <span style=\"color: #7f7f7f; text-decoration-color: #7f7f7f\">           </span>\n",
       "</pre>\n"
      ],
      "text/plain": [
       "\u001b[2;36m                   \u001b[0m\u001b[2;36m \u001b[0m\u001b[34mINFO    \u001b[0m \u001b[1m{\u001b[0m\u001b[32m'_target_'\u001b[0m: \u001b[32m'proteinworkshop.models.decoders.mlp_decoder.MLPDecoder'\u001b[0m,     \u001b]8;id=552201;file:///home/zhang/Projects/3d/ProteinWorkshop/proteinworkshop/models/base.py\u001b\\\u001b[2mbase.py\u001b[0m\u001b]8;;\u001b\\\u001b[2m:\u001b[0m\u001b]8;id=720284;file:///home/zhang/Projects/3d/ProteinWorkshop/proteinworkshop/models/base.py#255\u001b\\\u001b[2m255\u001b[0m\u001b]8;;\u001b\\\n",
       "\u001b[2;36m                    \u001b[0m         \u001b[32m'hidden_dim'\u001b[0m: \u001b[1m[\u001b[0m\u001b[1;36m512\u001b[0m, \u001b[1;36m512\u001b[0m, \u001b[1;36m512\u001b[0m\u001b[1m]\u001b[0m, \u001b[32m'dropout'\u001b[0m: \u001b[1;36m0.0\u001b[0m, \u001b[32m'activations'\u001b[0m: \u001b[1m[\u001b[0m\u001b[32m'relu'\u001b[0m,     \u001b[2m           \u001b[0m\n",
       "\u001b[2;36m                    \u001b[0m         \u001b[32m'relu'\u001b[0m, \u001b[32m'relu'\u001b[0m, \u001b[32m'none'\u001b[0m\u001b[1m]\u001b[0m, \u001b[32m'skip'\u001b[0m: \u001b[32m'concat'\u001b[0m, \u001b[32m'out_dim'\u001b[0m:                      \u001b[2m           \u001b[0m\n",
       "\u001b[2;36m                    \u001b[0m         \u001b[32m'$\u001b[0m\u001b[32m{\u001b[0m\u001b[32mdataset.num_classes\u001b[0m\u001b[32m}\u001b[0m\u001b[32m'\u001b[0m, \u001b[32m'input'\u001b[0m: \u001b[32m'graph_embedding'\u001b[0m, \u001b[32m'dummy'\u001b[0m: \u001b[3;92mTrue\u001b[0m\u001b[1m}\u001b[0m       \u001b[2m           \u001b[0m\n"
      ]
     },
     "metadata": {},
     "output_type": "display_data"
    },
    {
     "data": {
      "text/html": [
       "<pre style=\"white-space:pre;overflow-x:auto;line-height:normal;font-family:Menlo,'DejaVu Sans Mono',consolas,'Courier New',monospace\"><span style=\"color: #7fbfbf; text-decoration-color: #7fbfbf\">                    </span><span style=\"color: #000080; text-decoration-color: #000080\">INFO    </span> <span style=\"color: #800080; text-decoration-color: #800080; font-weight: bold\">ModuleDict</span><span style=\"font-weight: bold\">(</span>                                                                <a href=\"file:///home/zhang/Projects/3d/ProteinWorkshop/proteinworkshop/models/base.py\" target=\"_blank\"><span style=\"color: #7f7f7f; text-decoration-color: #7f7f7f\">base.py</span></a><span style=\"color: #7f7f7f; text-decoration-color: #7f7f7f\">:</span><a href=\"file:///home/zhang/Projects/3d/ProteinWorkshop/proteinworkshop/models/base.py#419\" target=\"_blank\"><span style=\"color: #7f7f7f; text-decoration-color: #7f7f7f\">419</span></a>\n",
       "<span style=\"color: #7fbfbf; text-decoration-color: #7fbfbf\">                    </span>           <span style=\"font-weight: bold\">(</span>graph_label<span style=\"font-weight: bold\">)</span>: <span style=\"color: #800080; text-decoration-color: #800080; font-weight: bold\">MLPDecoder</span><span style=\"font-weight: bold\">()</span>                                              <span style=\"color: #7f7f7f; text-decoration-color: #7f7f7f\">           </span>\n",
       "<span style=\"color: #7fbfbf; text-decoration-color: #7fbfbf\">                    </span>         <span style=\"font-weight: bold\">)</span>                                                                          <span style=\"color: #7f7f7f; text-decoration-color: #7f7f7f\">           </span>\n",
       "</pre>\n"
      ],
      "text/plain": [
       "\u001b[2;36m                   \u001b[0m\u001b[2;36m \u001b[0m\u001b[34mINFO    \u001b[0m \u001b[1;35mModuleDict\u001b[0m\u001b[1m(\u001b[0m                                                                \u001b]8;id=943336;file:///home/zhang/Projects/3d/ProteinWorkshop/proteinworkshop/models/base.py\u001b\\\u001b[2mbase.py\u001b[0m\u001b]8;;\u001b\\\u001b[2m:\u001b[0m\u001b]8;id=409412;file:///home/zhang/Projects/3d/ProteinWorkshop/proteinworkshop/models/base.py#419\u001b\\\u001b[2m419\u001b[0m\u001b]8;;\u001b\\\n",
       "\u001b[2;36m                    \u001b[0m           \u001b[1m(\u001b[0mgraph_label\u001b[1m)\u001b[0m: \u001b[1;35mMLPDecoder\u001b[0m\u001b[1m(\u001b[0m\u001b[1m)\u001b[0m                                              \u001b[2m           \u001b[0m\n",
       "\u001b[2;36m                    \u001b[0m         \u001b[1m)\u001b[0m                                                                          \u001b[2m           \u001b[0m\n"
      ]
     },
     "metadata": {},
     "output_type": "display_data"
    },
    {
     "data": {
      "text/html": [
       "<pre style=\"white-space:pre;overflow-x:auto;line-height:normal;font-family:Menlo,'DejaVu Sans Mono',consolas,'Courier New',monospace\"><span style=\"color: #7fbfbf; text-decoration-color: #7fbfbf\">                    </span><span style=\"color: #000080; text-decoration-color: #000080\">INFO    </span> Instantiating losses<span style=\"color: #808000; text-decoration-color: #808000\">...</span>                                                    <a href=\"file:///home/zhang/Projects/3d/ProteinWorkshop/proteinworkshop/models/base.py\" target=\"_blank\"><span style=\"color: #7f7f7f; text-decoration-color: #7f7f7f\">base.py</span></a><span style=\"color: #7f7f7f; text-decoration-color: #7f7f7f\">:</span><a href=\"file:///home/zhang/Projects/3d/ProteinWorkshop/proteinworkshop/models/base.py#421\" target=\"_blank\"><span style=\"color: #7f7f7f; text-decoration-color: #7f7f7f\">421</span></a>\n",
       "</pre>\n"
      ],
      "text/plain": [
       "\u001b[2;36m                   \u001b[0m\u001b[2;36m \u001b[0m\u001b[34mINFO    \u001b[0m Instantiating losses\u001b[33m...\u001b[0m                                                    \u001b]8;id=703396;file:///home/zhang/Projects/3d/ProteinWorkshop/proteinworkshop/models/base.py\u001b\\\u001b[2mbase.py\u001b[0m\u001b]8;;\u001b\\\u001b[2m:\u001b[0m\u001b]8;id=696268;file:///home/zhang/Projects/3d/ProteinWorkshop/proteinworkshop/models/base.py#421\u001b\\\u001b[2m421\u001b[0m\u001b]8;;\u001b\\\n"
      ]
     },
     "metadata": {},
     "output_type": "display_data"
    },
    {
     "data": {
      "text/html": [
       "<pre style=\"white-space:pre;overflow-x:auto;line-height:normal;font-family:Menlo,'DejaVu Sans Mono',consolas,'Courier New',monospace\"><span style=\"color: #7fbfbf; text-decoration-color: #7fbfbf\">                    </span><span style=\"color: #000080; text-decoration-color: #000080\">INFO    </span> Using losses: <span style=\"font-weight: bold\">{</span><span style=\"color: #008000; text-decoration-color: #008000\">'graph_label'</span>: <span style=\"color: #800080; text-decoration-color: #800080; font-weight: bold\">CrossEntropyLoss</span><span style=\"font-weight: bold\">()}</span>                          <a href=\"file:///home/zhang/Projects/3d/ProteinWorkshop/proteinworkshop/models/base.py\" target=\"_blank\"><span style=\"color: #7f7f7f; text-decoration-color: #7f7f7f\">base.py</span></a><span style=\"color: #7f7f7f; text-decoration-color: #7f7f7f\">:</span><a href=\"file:///home/zhang/Projects/3d/ProteinWorkshop/proteinworkshop/models/base.py#423\" target=\"_blank\"><span style=\"color: #7f7f7f; text-decoration-color: #7f7f7f\">423</span></a>\n",
       "</pre>\n"
      ],
      "text/plain": [
       "\u001b[2;36m                   \u001b[0m\u001b[2;36m \u001b[0m\u001b[34mINFO    \u001b[0m Using losses: \u001b[1m{\u001b[0m\u001b[32m'graph_label'\u001b[0m: \u001b[1;35mCrossEntropyLoss\u001b[0m\u001b[1m(\u001b[0m\u001b[1m)\u001b[0m\u001b[1m}\u001b[0m                          \u001b]8;id=946173;file:///home/zhang/Projects/3d/ProteinWorkshop/proteinworkshop/models/base.py\u001b\\\u001b[2mbase.py\u001b[0m\u001b]8;;\u001b\\\u001b[2m:\u001b[0m\u001b]8;id=4231;file:///home/zhang/Projects/3d/ProteinWorkshop/proteinworkshop/models/base.py#423\u001b\\\u001b[2m423\u001b[0m\u001b]8;;\u001b\\\n"
      ]
     },
     "metadata": {},
     "output_type": "display_data"
    },
    {
     "data": {
      "text/html": [
       "<pre style=\"white-space:pre;overflow-x:auto;line-height:normal;font-family:Menlo,'DejaVu Sans Mono',consolas,'Courier New',monospace\"><span style=\"color: #7fbfbf; text-decoration-color: #7fbfbf\">                    </span><span style=\"color: #000080; text-decoration-color: #000080\">INFO    </span> Not using aux loss scaling                                                 <a href=\"file:///home/zhang/Projects/3d/ProteinWorkshop/proteinworkshop/models/base.py\" target=\"_blank\"><span style=\"color: #7f7f7f; text-decoration-color: #7f7f7f\">base.py</span></a><span style=\"color: #7f7f7f; text-decoration-color: #7f7f7f\">:</span><a href=\"file:///home/zhang/Projects/3d/ProteinWorkshop/proteinworkshop/models/base.py#430\" target=\"_blank\"><span style=\"color: #7f7f7f; text-decoration-color: #7f7f7f\">430</span></a>\n",
       "</pre>\n"
      ],
      "text/plain": [
       "\u001b[2;36m                   \u001b[0m\u001b[2;36m \u001b[0m\u001b[34mINFO    \u001b[0m Not using aux loss scaling                                                 \u001b]8;id=135095;file:///home/zhang/Projects/3d/ProteinWorkshop/proteinworkshop/models/base.py\u001b\\\u001b[2mbase.py\u001b[0m\u001b]8;;\u001b\\\u001b[2m:\u001b[0m\u001b]8;id=541804;file:///home/zhang/Projects/3d/ProteinWorkshop/proteinworkshop/models/base.py#430\u001b\\\u001b[2m430\u001b[0m\u001b]8;;\u001b\\\n"
      ]
     },
     "metadata": {},
     "output_type": "display_data"
    },
    {
     "data": {
      "text/html": [
       "<pre style=\"white-space:pre;overflow-x:auto;line-height:normal;font-family:Menlo,'DejaVu Sans Mono',consolas,'Courier New',monospace\"><span style=\"color: #7fbfbf; text-decoration-color: #7fbfbf\">                    </span><span style=\"color: #000080; text-decoration-color: #000080\">INFO    </span> Configuring metrics<span style=\"color: #808000; text-decoration-color: #808000\">...</span>                                                     <a href=\"file:///home/zhang/Projects/3d/ProteinWorkshop/proteinworkshop/models/base.py\" target=\"_blank\"><span style=\"color: #7f7f7f; text-decoration-color: #7f7f7f\">base.py</span></a><span style=\"color: #7f7f7f; text-decoration-color: #7f7f7f\">:</span><a href=\"file:///home/zhang/Projects/3d/ProteinWorkshop/proteinworkshop/models/base.py#432\" target=\"_blank\"><span style=\"color: #7f7f7f; text-decoration-color: #7f7f7f\">432</span></a>\n",
       "</pre>\n"
      ],
      "text/plain": [
       "\u001b[2;36m                   \u001b[0m\u001b[2;36m \u001b[0m\u001b[34mINFO    \u001b[0m Configuring metrics\u001b[33m...\u001b[0m                                                     \u001b]8;id=639299;file:///home/zhang/Projects/3d/ProteinWorkshop/proteinworkshop/models/base.py\u001b\\\u001b[2mbase.py\u001b[0m\u001b]8;;\u001b\\\u001b[2m:\u001b[0m\u001b]8;id=393865;file:///home/zhang/Projects/3d/ProteinWorkshop/proteinworkshop/models/base.py#432\u001b\\\u001b[2m432\u001b[0m\u001b]8;;\u001b\\\n"
      ]
     },
     "metadata": {},
     "output_type": "display_data"
    },
    {
     "data": {
      "text/html": [
       "<pre style=\"white-space:pre;overflow-x:auto;line-height:normal;font-family:Menlo,'DejaVu Sans Mono',consolas,'Courier New',monospace\"><span style=\"color: #7fbfbf; text-decoration-color: #7fbfbf\">                    </span><span style=\"color: #000080; text-decoration-color: #000080\">INFO    </span> <span style=\"font-weight: bold\">[</span><span style=\"color: #008000; text-decoration-color: #008000\">'accuracy'</span>, <span style=\"color: #008000; text-decoration-color: #008000\">'f1_score'</span>, <span style=\"color: #008000; text-decoration-color: #008000\">'f1_max'</span><span style=\"font-weight: bold\">]</span>                                         <a href=\"file:///home/zhang/Projects/3d/ProteinWorkshop/proteinworkshop/models/base.py\" target=\"_blank\"><span style=\"color: #7f7f7f; text-decoration-color: #7f7f7f\">base.py</span></a><span style=\"color: #7f7f7f; text-decoration-color: #7f7f7f\">:</span><a href=\"file:///home/zhang/Projects/3d/ProteinWorkshop/proteinworkshop/models/base.py#434\" target=\"_blank\"><span style=\"color: #7f7f7f; text-decoration-color: #7f7f7f\">434</span></a>\n",
       "</pre>\n"
      ],
      "text/plain": [
       "\u001b[2;36m                   \u001b[0m\u001b[2;36m \u001b[0m\u001b[34mINFO    \u001b[0m \u001b[1m[\u001b[0m\u001b[32m'accuracy'\u001b[0m, \u001b[32m'f1_score'\u001b[0m, \u001b[32m'f1_max'\u001b[0m\u001b[1m]\u001b[0m                                         \u001b]8;id=315379;file:///home/zhang/Projects/3d/ProteinWorkshop/proteinworkshop/models/base.py\u001b\\\u001b[2mbase.py\u001b[0m\u001b]8;;\u001b\\\u001b[2m:\u001b[0m\u001b]8;id=480575;file:///home/zhang/Projects/3d/ProteinWorkshop/proteinworkshop/models/base.py#434\u001b\\\u001b[2m434\u001b[0m\u001b]8;;\u001b\\\n"
      ]
     },
     "metadata": {},
     "output_type": "display_data"
    },
    {
     "data": {
      "text/html": [
       "<pre style=\"white-space:pre;overflow-x:auto;line-height:normal;font-family:Menlo,'DejaVu Sans Mono',consolas,'Courier New',monospace\"><span style=\"color: #7fbfbf; text-decoration-color: #7fbfbf\">                    </span><span style=\"color: #000080; text-decoration-color: #000080\">INFO    </span> Instantiating featuriser<span style=\"color: #808000; text-decoration-color: #808000\">...</span>                                                <a href=\"file:///home/zhang/Projects/3d/ProteinWorkshop/proteinworkshop/models/base.py\" target=\"_blank\"><span style=\"color: #7f7f7f; text-decoration-color: #7f7f7f\">base.py</span></a><span style=\"color: #7f7f7f; text-decoration-color: #7f7f7f\">:</span><a href=\"file:///home/zhang/Projects/3d/ProteinWorkshop/proteinworkshop/models/base.py#436\" target=\"_blank\"><span style=\"color: #7f7f7f; text-decoration-color: #7f7f7f\">436</span></a>\n",
       "</pre>\n"
      ],
      "text/plain": [
       "\u001b[2;36m                   \u001b[0m\u001b[2;36m \u001b[0m\u001b[34mINFO    \u001b[0m Instantiating featuriser\u001b[33m...\u001b[0m                                                \u001b]8;id=157892;file:///home/zhang/Projects/3d/ProteinWorkshop/proteinworkshop/models/base.py\u001b\\\u001b[2mbase.py\u001b[0m\u001b]8;;\u001b\\\u001b[2m:\u001b[0m\u001b]8;id=161608;file:///home/zhang/Projects/3d/ProteinWorkshop/proteinworkshop/models/base.py#436\u001b\\\u001b[2m436\u001b[0m\u001b]8;;\u001b\\\n"
      ]
     },
     "metadata": {},
     "output_type": "display_data"
    },
    {
     "data": {
      "text/html": [
       "<pre style=\"white-space:pre;overflow-x:auto;line-height:normal;font-family:Menlo,'DejaVu Sans Mono',consolas,'Courier New',monospace\"><span style=\"color: #7fbfbf; text-decoration-color: #7fbfbf\">                    </span><span style=\"color: #000080; text-decoration-color: #000080\">INFO    </span> <span style=\"color: #800080; text-decoration-color: #800080; font-weight: bold\">ProteinFeaturiser</span><span style=\"font-weight: bold\">(</span><span style=\"color: #808000; text-decoration-color: #808000\">representation</span>=<span style=\"color: #800080; text-decoration-color: #800080\">CA</span>,                                       <a href=\"file:///home/zhang/Projects/3d/ProteinWorkshop/proteinworkshop/models/base.py\" target=\"_blank\"><span style=\"color: #7f7f7f; text-decoration-color: #7f7f7f\">base.py</span></a><span style=\"color: #7f7f7f; text-decoration-color: #7f7f7f\">:</span><a href=\"file:///home/zhang/Projects/3d/ProteinWorkshop/proteinworkshop/models/base.py#438\" target=\"_blank\"><span style=\"color: #7f7f7f; text-decoration-color: #7f7f7f\">438</span></a>\n",
       "<span style=\"color: #7fbfbf; text-decoration-color: #7fbfbf\">                    </span>         <span style=\"color: #808000; text-decoration-color: #808000\">scalar_node_features</span>=<span style=\"font-weight: bold\">[</span><span style=\"color: #008000; text-decoration-color: #008000\">'amino_acid_one_hot'</span><span style=\"font-weight: bold\">]</span>, <span style=\"color: #808000; text-decoration-color: #808000\">vector_node_features</span>=<span style=\"font-weight: bold\">[]</span>,      <span style=\"color: #7f7f7f; text-decoration-color: #7f7f7f\">           </span>\n",
       "<span style=\"color: #7fbfbf; text-decoration-color: #7fbfbf\">                    </span>         <span style=\"color: #808000; text-decoration-color: #808000\">edge_types</span>=<span style=\"font-weight: bold\">[</span><span style=\"color: #008000; text-decoration-color: #008000\">'knn_16'</span><span style=\"font-weight: bold\">]</span>, <span style=\"color: #808000; text-decoration-color: #808000\">scalar_edge_features</span>=<span style=\"font-weight: bold\">[</span><span style=\"color: #008000; text-decoration-color: #008000\">'edge_distance'</span><span style=\"font-weight: bold\">]</span>,             <span style=\"color: #7f7f7f; text-decoration-color: #7f7f7f\">           </span>\n",
       "<span style=\"color: #7fbfbf; text-decoration-color: #7fbfbf\">                    </span>         <span style=\"color: #808000; text-decoration-color: #808000\">vector_edge_features</span>=<span style=\"font-weight: bold\">[])</span>                                                   <span style=\"color: #7f7f7f; text-decoration-color: #7f7f7f\">           </span>\n",
       "</pre>\n"
      ],
      "text/plain": [
       "\u001b[2;36m                   \u001b[0m\u001b[2;36m \u001b[0m\u001b[34mINFO    \u001b[0m \u001b[1;35mProteinFeaturiser\u001b[0m\u001b[1m(\u001b[0m\u001b[33mrepresentation\u001b[0m=\u001b[35mCA\u001b[0m,                                       \u001b]8;id=678895;file:///home/zhang/Projects/3d/ProteinWorkshop/proteinworkshop/models/base.py\u001b\\\u001b[2mbase.py\u001b[0m\u001b]8;;\u001b\\\u001b[2m:\u001b[0m\u001b]8;id=218428;file:///home/zhang/Projects/3d/ProteinWorkshop/proteinworkshop/models/base.py#438\u001b\\\u001b[2m438\u001b[0m\u001b]8;;\u001b\\\n",
       "\u001b[2;36m                    \u001b[0m         \u001b[33mscalar_node_features\u001b[0m=\u001b[1m[\u001b[0m\u001b[32m'amino_acid_one_hot'\u001b[0m\u001b[1m]\u001b[0m, \u001b[33mvector_node_features\u001b[0m=\u001b[1m[\u001b[0m\u001b[1m]\u001b[0m,      \u001b[2m           \u001b[0m\n",
       "\u001b[2;36m                    \u001b[0m         \u001b[33medge_types\u001b[0m=\u001b[1m[\u001b[0m\u001b[32m'knn_16'\u001b[0m\u001b[1m]\u001b[0m, \u001b[33mscalar_edge_features\u001b[0m=\u001b[1m[\u001b[0m\u001b[32m'edge_distance'\u001b[0m\u001b[1m]\u001b[0m,             \u001b[2m           \u001b[0m\n",
       "\u001b[2;36m                    \u001b[0m         \u001b[33mvector_edge_features\u001b[0m=\u001b[1m[\u001b[0m\u001b[1m]\u001b[0m\u001b[1m)\u001b[0m                                                   \u001b[2m           \u001b[0m\n"
      ]
     },
     "metadata": {},
     "output_type": "display_data"
    },
    {
     "data": {
      "text/html": [
       "<pre style=\"white-space:pre;overflow-x:auto;line-height:normal;font-family:Menlo,'DejaVu Sans Mono',consolas,'Courier New',monospace\"><span style=\"color: #7fbfbf; text-decoration-color: #7fbfbf\">                    </span><span style=\"color: #000080; text-decoration-color: #000080\">INFO    </span> Instantiating task transform<span style=\"color: #808000; text-decoration-color: #808000\">...</span>                                            <a href=\"file:///home/zhang/Projects/3d/ProteinWorkshop/proteinworkshop/models/base.py\" target=\"_blank\"><span style=\"color: #7f7f7f; text-decoration-color: #7f7f7f\">base.py</span></a><span style=\"color: #7f7f7f; text-decoration-color: #7f7f7f\">:</span><a href=\"file:///home/zhang/Projects/3d/ProteinWorkshop/proteinworkshop/models/base.py#440\" target=\"_blank\"><span style=\"color: #7f7f7f; text-decoration-color: #7f7f7f\">440</span></a>\n",
       "</pre>\n"
      ],
      "text/plain": [
       "\u001b[2;36m                   \u001b[0m\u001b[2;36m \u001b[0m\u001b[34mINFO    \u001b[0m Instantiating task transform\u001b[33m...\u001b[0m                                            \u001b]8;id=84482;file:///home/zhang/Projects/3d/ProteinWorkshop/proteinworkshop/models/base.py\u001b\\\u001b[2mbase.py\u001b[0m\u001b]8;;\u001b\\\u001b[2m:\u001b[0m\u001b]8;id=792713;file:///home/zhang/Projects/3d/ProteinWorkshop/proteinworkshop/models/base.py#440\u001b\\\u001b[2m440\u001b[0m\u001b]8;;\u001b\\\n"
      ]
     },
     "metadata": {},
     "output_type": "display_data"
    },
    {
     "data": {
      "text/html": [
       "<pre style=\"white-space:pre;overflow-x:auto;line-height:normal;font-family:Menlo,'DejaVu Sans Mono',consolas,'Courier New',monospace\"><span style=\"color: #7fbfbf; text-decoration-color: #7fbfbf\">                    </span><span style=\"color: #000080; text-decoration-color: #000080\">INFO    </span> <span style=\"color: #800080; text-decoration-color: #800080; font-style: italic\">None</span>                                                                       <a href=\"file:///home/zhang/Projects/3d/ProteinWorkshop/proteinworkshop/models/base.py\" target=\"_blank\"><span style=\"color: #7f7f7f; text-decoration-color: #7f7f7f\">base.py</span></a><span style=\"color: #7f7f7f; text-decoration-color: #7f7f7f\">:</span><a href=\"file:///home/zhang/Projects/3d/ProteinWorkshop/proteinworkshop/models/base.py#444\" target=\"_blank\"><span style=\"color: #7f7f7f; text-decoration-color: #7f7f7f\">444</span></a>\n",
       "</pre>\n"
      ],
      "text/plain": [
       "\u001b[2;36m                   \u001b[0m\u001b[2;36m \u001b[0m\u001b[34mINFO    \u001b[0m \u001b[3;35mNone\u001b[0m                                                                       \u001b]8;id=95266;file:///home/zhang/Projects/3d/ProteinWorkshop/proteinworkshop/models/base.py\u001b\\\u001b[2mbase.py\u001b[0m\u001b]8;;\u001b\\\u001b[2m:\u001b[0m\u001b]8;id=930156;file:///home/zhang/Projects/3d/ProteinWorkshop/proteinworkshop/models/base.py#444\u001b\\\u001b[2m444\u001b[0m\u001b]8;;\u001b\\\n"
      ]
     },
     "metadata": {},
     "output_type": "display_data"
    },
    {
     "data": {
      "text/html": [
       "<pre style=\"white-space:pre;overflow-x:auto;line-height:normal;font-family:Menlo,'DejaVu Sans Mono',consolas,'Courier New',monospace\"><span style=\"color: #7fbfbf; text-decoration-color: #7fbfbf\">[07/19/24 18:09:36] </span><span style=\"color: #000080; text-decoration-color: #000080\">INFO    </span> Initializing lazy layers<span style=\"color: #808000; text-decoration-color: #808000\">...</span>                                               <a href=\"file:///home/zhang/Projects/3d/ProteinWorkshop/proteinworkshop/train.py\" target=\"_blank\"><span style=\"color: #7f7f7f; text-decoration-color: #7f7f7f\">train.py</span></a><span style=\"color: #7f7f7f; text-decoration-color: #7f7f7f\">:</span><a href=\"file:///home/zhang/Projects/3d/ProteinWorkshop/proteinworkshop/train.py#145\" target=\"_blank\"><span style=\"color: #7f7f7f; text-decoration-color: #7f7f7f\">145</span></a>\n",
       "</pre>\n"
      ],
      "text/plain": [
       "\u001b[2;36m[07/19/24 18:09:36]\u001b[0m\u001b[2;36m \u001b[0m\u001b[34mINFO    \u001b[0m Initializing lazy layers\u001b[33m...\u001b[0m                                               \u001b]8;id=889536;file:///home/zhang/Projects/3d/ProteinWorkshop/proteinworkshop/train.py\u001b\\\u001b[2mtrain.py\u001b[0m\u001b]8;;\u001b\\\u001b[2m:\u001b[0m\u001b]8;id=276138;file:///home/zhang/Projects/3d/ProteinWorkshop/proteinworkshop/train.py#145\u001b\\\u001b[2m145\u001b[0m\u001b]8;;\u001b\\\n"
      ]
     },
     "metadata": {},
     "output_type": "display_data"
    },
    {
     "data": {
      "text/html": [
       "<pre style=\"white-space:pre;overflow-x:auto;line-height:normal;font-family:Menlo,'DejaVu Sans Mono',consolas,'Courier New',monospace\"><span style=\"color: #7fbfbf; text-decoration-color: #7fbfbf\">                    </span><span style=\"color: #000080; text-decoration-color: #000080\">INFO    </span> Downloading Protein Function. Fraction <span style=\"color: #008080; text-decoration-color: #008080; font-weight: bold\">1.0</span>                   <a href=\"file:///home/zhang/Projects/3d/ProteinWorkshop/proteinworkshop/datasets/fold_classification.py\" target=\"_blank\"><span style=\"color: #7f7f7f; text-decoration-color: #7f7f7f\">fold_classification.py</span></a><span style=\"color: #7f7f7f; text-decoration-color: #7f7f7f\">:</span><a href=\"file:///home/zhang/Projects/3d/ProteinWorkshop/proteinworkshop/datasets/fold_classification.py#86\" target=\"_blank\"><span style=\"color: #7f7f7f; text-decoration-color: #7f7f7f\">86</span></a>\n",
       "</pre>\n"
      ],
      "text/plain": [
       "\u001b[2;36m                   \u001b[0m\u001b[2;36m \u001b[0m\u001b[34mINFO    \u001b[0m Downloading Protein Function. Fraction \u001b[1;36m1.0\u001b[0m                   \u001b]8;id=533883;file:///home/zhang/Projects/3d/ProteinWorkshop/proteinworkshop/datasets/fold_classification.py\u001b\\\u001b[2mfold_classification.py\u001b[0m\u001b]8;;\u001b\\\u001b[2m:\u001b[0m\u001b]8;id=255940;file:///home/zhang/Projects/3d/ProteinWorkshop/proteinworkshop/datasets/fold_classification.py#86\u001b\\\u001b[2m86\u001b[0m\u001b]8;;\u001b\\\n"
      ]
     },
     "metadata": {},
     "output_type": "display_data"
    },
    {
     "data": {
      "text/html": [
       "<pre style=\"white-space:pre;overflow-x:auto;line-height:normal;font-family:Menlo,'DejaVu Sans Mono',consolas,'Courier New',monospace\"><span style=\"color: #7fbfbf; text-decoration-color: #7fbfbf\">                    </span><span style=\"color: #000080; text-decoration-color: #000080\">INFO    </span> Found SCOP structure tarfile in:                            <a href=\"file:///home/zhang/Projects/3d/ProteinWorkshop/proteinworkshop/datasets/fold_classification.py\" target=\"_blank\"><span style=\"color: #7f7f7f; text-decoration-color: #7f7f7f\">fold_classification.py</span></a><span style=\"color: #7f7f7f; text-decoration-color: #7f7f7f\">:</span><a href=\"file:///home/zhang/Projects/3d/ProteinWorkshop/proteinworkshop/datasets/fold_classification.py#138\" target=\"_blank\"><span style=\"color: #7f7f7f; text-decoration-color: #7f7f7f\">138</span></a>\n",
       "<span style=\"color: #7fbfbf; text-decoration-color: #7fbfbf\">                    </span>         <span style=\"color: #800080; text-decoration-color: #800080\">/home/zhang/Projects/3d/ProteinWorkshop/proteinworkshop/dat</span> <span style=\"color: #7f7f7f; text-decoration-color: #7f7f7f\">                          </span>\n",
       "<span style=\"color: #7fbfbf; text-decoration-color: #7fbfbf\">                    </span>         <span style=\"color: #800080; text-decoration-color: #800080\">a/FoldClassification/</span><span style=\"color: #ff00ff; text-decoration-color: #ff00ff\">pdbstyle-sel-gs-bib-95-1.75.tgz</span>        <span style=\"color: #7f7f7f; text-decoration-color: #7f7f7f\">                          </span>\n",
       "</pre>\n"
      ],
      "text/plain": [
       "\u001b[2;36m                   \u001b[0m\u001b[2;36m \u001b[0m\u001b[34mINFO    \u001b[0m Found SCOP structure tarfile in:                            \u001b]8;id=107015;file:///home/zhang/Projects/3d/ProteinWorkshop/proteinworkshop/datasets/fold_classification.py\u001b\\\u001b[2mfold_classification.py\u001b[0m\u001b]8;;\u001b\\\u001b[2m:\u001b[0m\u001b]8;id=241394;file:///home/zhang/Projects/3d/ProteinWorkshop/proteinworkshop/datasets/fold_classification.py#138\u001b\\\u001b[2m138\u001b[0m\u001b]8;;\u001b\\\n",
       "\u001b[2;36m                    \u001b[0m         \u001b[35m/home/zhang/Projects/3d/ProteinWorkshop/proteinworkshop/dat\u001b[0m \u001b[2m                          \u001b[0m\n",
       "\u001b[2;36m                    \u001b[0m         \u001b[35ma/FoldClassification/\u001b[0m\u001b[95mpdbstyle-sel-gs-bib-95-1.75.tgz\u001b[0m        \u001b[2m                          \u001b[0m\n"
      ]
     },
     "metadata": {},
     "output_type": "display_data"
    },
    {
     "data": {
      "text/html": [
       "<pre style=\"white-space:pre;overflow-x:auto;line-height:normal;font-family:Menlo,'DejaVu Sans Mono',consolas,'Courier New',monospace\"><span style=\"color: #7fbfbf; text-decoration-color: #7fbfbf\">                    </span><span style=\"color: #000080; text-decoration-color: #000080\">INFO    </span> Found SCOPe structures in:                                  <a href=\"file:///home/zhang/Projects/3d/ProteinWorkshop/proteinworkshop/datasets/fold_classification.py\" target=\"_blank\"><span style=\"color: #7f7f7f; text-decoration-color: #7f7f7f\">fold_classification.py</span></a><span style=\"color: #7f7f7f; text-decoration-color: #7f7f7f\">:</span><a href=\"file:///home/zhang/Projects/3d/ProteinWorkshop/proteinworkshop/datasets/fold_classification.py#151\" target=\"_blank\"><span style=\"color: #7f7f7f; text-decoration-color: #7f7f7f\">151</span></a>\n",
       "</pre>\n"
      ],
      "text/plain": [
       "\u001b[2;36m                   \u001b[0m\u001b[2;36m \u001b[0m\u001b[34mINFO    \u001b[0m Found SCOPe structures in:                                  \u001b]8;id=80640;file:///home/zhang/Projects/3d/ProteinWorkshop/proteinworkshop/datasets/fold_classification.py\u001b\\\u001b[2mfold_classification.py\u001b[0m\u001b]8;;\u001b\\\u001b[2m:\u001b[0m\u001b]8;id=553243;file:///home/zhang/Projects/3d/ProteinWorkshop/proteinworkshop/datasets/fold_classification.py#151\u001b\\\u001b[2m151\u001b[0m\u001b]8;;\u001b\\\n"
      ]
     },
     "metadata": {},
     "output_type": "display_data"
    },
    {
     "data": {
      "text/html": [
       "<pre style=\"white-space:pre;overflow-x:auto;line-height:normal;font-family:Menlo,'DejaVu Sans Mono',consolas,'Courier New',monospace\"><span style=\"color: #7fbfbf; text-decoration-color: #7fbfbf\">                    </span><span style=\"color: #000080; text-decoration-color: #000080\">INFO    </span> Preprocessing validation data                                               <a href=\"file:///home/zhang/Projects/3d/ProteinWorkshop/proteinworkshop/datasets/base.py\" target=\"_blank\"><span style=\"color: #7f7f7f; text-decoration-color: #7f7f7f\">base.py</span></a><span style=\"color: #7f7f7f; text-decoration-color: #7f7f7f\">:</span><a href=\"file:///home/zhang/Projects/3d/ProteinWorkshop/proteinworkshop/datasets/base.py#99\" target=\"_blank\"><span style=\"color: #7f7f7f; text-decoration-color: #7f7f7f\">99</span></a>\n",
       "</pre>\n"
      ],
      "text/plain": [
       "\u001b[2;36m                   \u001b[0m\u001b[2;36m \u001b[0m\u001b[34mINFO    \u001b[0m Preprocessing validation data                                               \u001b]8;id=791515;file:///home/zhang/Projects/3d/ProteinWorkshop/proteinworkshop/datasets/base.py\u001b\\\u001b[2mbase.py\u001b[0m\u001b]8;;\u001b\\\u001b[2m:\u001b[0m\u001b]8;id=555822;file:///home/zhang/Projects/3d/ProteinWorkshop/proteinworkshop/datasets/base.py#99\u001b\\\u001b[2m99\u001b[0m\u001b]8;;\u001b\\\n"
      ]
     },
     "metadata": {},
     "output_type": "display_data"
    },
    {
     "data": {
      "text/html": [
       "<pre style=\"white-space:pre;overflow-x:auto;line-height:normal;font-family:Menlo,'DejaVu Sans Mono',consolas,'Courier New',monospace\"><span style=\"color: #7fbfbf; text-decoration-color: #7fbfbf\">                    </span><span style=\"color: #000080; text-decoration-color: #000080\">INFO    </span> Reading labels from:                                        <a href=\"file:///home/zhang/Projects/3d/ProteinWorkshop/proteinworkshop/datasets/fold_classification.py\" target=\"_blank\"><span style=\"color: #7f7f7f; text-decoration-color: #7f7f7f\">fold_classification.py</span></a><span style=\"color: #7f7f7f; text-decoration-color: #7f7f7f\">:</span><a href=\"file:///home/zhang/Projects/3d/ProteinWorkshop/proteinworkshop/datasets/fold_classification.py#154\" target=\"_blank\"><span style=\"color: #7f7f7f; text-decoration-color: #7f7f7f\">154</span></a>\n",
       "<span style=\"color: #7fbfbf; text-decoration-color: #7fbfbf\">                    </span>         <span style=\"color: #800080; text-decoration-color: #800080\">/home/zhang/Projects/3d/ProteinWorkshop/proteinworkshop/dat</span> <span style=\"color: #7f7f7f; text-decoration-color: #7f7f7f\">                          </span>\n",
       "<span style=\"color: #7fbfbf; text-decoration-color: #7fbfbf\">                    </span>         <span style=\"color: #800080; text-decoration-color: #800080\">a/FoldClassification/</span><span style=\"color: #ff00ff; text-decoration-color: #ff00ff\">class_map.txt</span>                          <span style=\"color: #7f7f7f; text-decoration-color: #7f7f7f\">                          </span>\n",
       "</pre>\n"
      ],
      "text/plain": [
       "\u001b[2;36m                   \u001b[0m\u001b[2;36m \u001b[0m\u001b[34mINFO    \u001b[0m Reading labels from:                                        \u001b]8;id=449411;file:///home/zhang/Projects/3d/ProteinWorkshop/proteinworkshop/datasets/fold_classification.py\u001b\\\u001b[2mfold_classification.py\u001b[0m\u001b]8;;\u001b\\\u001b[2m:\u001b[0m\u001b]8;id=954709;file:///home/zhang/Projects/3d/ProteinWorkshop/proteinworkshop/datasets/fold_classification.py#154\u001b\\\u001b[2m154\u001b[0m\u001b]8;;\u001b\\\n",
       "\u001b[2;36m                    \u001b[0m         \u001b[35m/home/zhang/Projects/3d/ProteinWorkshop/proteinworkshop/dat\u001b[0m \u001b[2m                          \u001b[0m\n",
       "\u001b[2;36m                    \u001b[0m         \u001b[35ma/FoldClassification/\u001b[0m\u001b[95mclass_map.txt\u001b[0m                          \u001b[2m                          \u001b[0m\n"
      ]
     },
     "metadata": {},
     "output_type": "display_data"
    },
    {
     "data": {
      "text/html": [
       "<pre style=\"white-space:pre;overflow-x:auto;line-height:normal;font-family:Menlo,'DejaVu Sans Mono',consolas,'Courier New',monospace\"><span style=\"color: #7fbfbf; text-decoration-color: #7fbfbf\">                    </span><span style=\"color: #000080; text-decoration-color: #000080\">INFO    </span> Found <span style=\"color: #008080; text-decoration-color: #008080; font-weight: bold\">736</span> original examples in validation                   <a href=\"file:///home/zhang/Projects/3d/ProteinWorkshop/proteinworkshop/datasets/fold_classification.py\" target=\"_blank\"><span style=\"color: #7f7f7f; text-decoration-color: #7f7f7f\">fold_classification.py</span></a><span style=\"color: #7f7f7f; text-decoration-color: #7f7f7f\">:</span><a href=\"file:///home/zhang/Projects/3d/ProteinWorkshop/proteinworkshop/datasets/fold_classification.py#234\" target=\"_blank\"><span style=\"color: #7f7f7f; text-decoration-color: #7f7f7f\">234</span></a>\n",
       "</pre>\n"
      ],
      "text/plain": [
       "\u001b[2;36m                   \u001b[0m\u001b[2;36m \u001b[0m\u001b[34mINFO    \u001b[0m Found \u001b[1;36m736\u001b[0m original examples in validation                   \u001b]8;id=365924;file:///home/zhang/Projects/3d/ProteinWorkshop/proteinworkshop/datasets/fold_classification.py\u001b\\\u001b[2mfold_classification.py\u001b[0m\u001b]8;;\u001b\\\u001b[2m:\u001b[0m\u001b]8;id=618395;file:///home/zhang/Projects/3d/ProteinWorkshop/proteinworkshop/datasets/fold_classification.py#234\u001b\\\u001b[2m234\u001b[0m\u001b]8;;\u001b\\\n"
      ]
     },
     "metadata": {},
     "output_type": "display_data"
    },
    {
     "data": {
      "text/html": [
       "<pre style=\"white-space:pre;overflow-x:auto;line-height:normal;font-family:Menlo,'DejaVu Sans Mono',consolas,'Courier New',monospace\"><span style=\"color: #7fbfbf; text-decoration-color: #7fbfbf\">                    </span><span style=\"color: #000080; text-decoration-color: #000080\">INFO    </span> Identified <span style=\"color: #008080; text-decoration-color: #008080; font-weight: bold\">319</span> classes                                      <a href=\"file:///home/zhang/Projects/3d/ProteinWorkshop/proteinworkshop/datasets/fold_classification.py\" target=\"_blank\"><span style=\"color: #7f7f7f; text-decoration-color: #7f7f7f\">fold_classification.py</span></a><span style=\"color: #7f7f7f; text-decoration-color: #7f7f7f\">:</span><a href=\"file:///home/zhang/Projects/3d/ProteinWorkshop/proteinworkshop/datasets/fold_classification.py#247\" target=\"_blank\"><span style=\"color: #7f7f7f; text-decoration-color: #7f7f7f\">247</span></a>\n",
       "</pre>\n"
      ],
      "text/plain": [
       "\u001b[2;36m                   \u001b[0m\u001b[2;36m \u001b[0m\u001b[34mINFO    \u001b[0m Identified \u001b[1;36m319\u001b[0m classes                                      \u001b]8;id=255198;file:///home/zhang/Projects/3d/ProteinWorkshop/proteinworkshop/datasets/fold_classification.py\u001b\\\u001b[2mfold_classification.py\u001b[0m\u001b]8;;\u001b\\\u001b[2m:\u001b[0m\u001b]8;id=824350;file:///home/zhang/Projects/3d/ProteinWorkshop/proteinworkshop/datasets/fold_classification.py#247\u001b\\\u001b[2m247\u001b[0m\u001b]8;;\u001b\\\n"
      ]
     },
     "metadata": {},
     "output_type": "display_data"
    },
    {
     "data": {
      "text/html": [
       "<pre style=\"white-space:pre;overflow-x:auto;line-height:normal;font-family:Menlo,'DejaVu Sans Mono',consolas,'Courier New',monospace\"><span style=\"color: #7fbfbf; text-decoration-color: #7fbfbf\">                    </span><span style=\"color: #000080; text-decoration-color: #000080\">INFO    </span> All structures already processed and <span style=\"color: #808000; text-decoration-color: #808000\">overwrite</span>=<span style=\"color: #ff0000; text-decoration-color: #ff0000; font-style: italic\">False</span>. Skipping download.   <a href=\"file:///home/zhang/Projects/3d/ProteinWorkshop/proteinworkshop/datasets/base.py\" target=\"_blank\"><span style=\"color: #7f7f7f; text-decoration-color: #7f7f7f\">base.py</span></a><span style=\"color: #7f7f7f; text-decoration-color: #7f7f7f\">:</span><a href=\"file:///home/zhang/Projects/3d/ProteinWorkshop/proteinworkshop/datasets/base.py#327\" target=\"_blank\"><span style=\"color: #7f7f7f; text-decoration-color: #7f7f7f\">327</span></a>\n",
       "</pre>\n"
      ],
      "text/plain": [
       "\u001b[2;36m                   \u001b[0m\u001b[2;36m \u001b[0m\u001b[34mINFO    \u001b[0m All structures already processed and \u001b[33moverwrite\u001b[0m=\u001b[3;91mFalse\u001b[0m. Skipping download.   \u001b]8;id=128792;file:///home/zhang/Projects/3d/ProteinWorkshop/proteinworkshop/datasets/base.py\u001b\\\u001b[2mbase.py\u001b[0m\u001b]8;;\u001b\\\u001b[2m:\u001b[0m\u001b]8;id=695597;file:///home/zhang/Projects/3d/ProteinWorkshop/proteinworkshop/datasets/base.py#327\u001b\\\u001b[2m327\u001b[0m\u001b]8;;\u001b\\\n"
      ]
     },
     "metadata": {},
     "output_type": "display_data"
    },
    {
     "data": {
      "text/html": [
       "<pre style=\"white-space:pre;overflow-x:auto;line-height:normal;font-family:Menlo,'DejaVu Sans Mono',consolas,'Courier New',monospace\"><span style=\"color: #7fbfbf; text-decoration-color: #7fbfbf\">                    </span><span style=\"color: #800000; text-decoration-color: #800000\">WARNING </span> Downloads in .ent format are assumed to be from ASTRAL. These data should  <a href=\"file:///home/zhang/Projects/3d/ProteinWorkshop/proteinworkshop/datasets/base.py\" target=\"_blank\"><span style=\"color: #7f7f7f; text-decoration-color: #7f7f7f\">base.py</span></a><span style=\"color: #7f7f7f; text-decoration-color: #7f7f7f\">:</span><a href=\"file:///home/zhang/Projects/3d/ProteinWorkshop/proteinworkshop/datasets/base.py#357\" target=\"_blank\"><span style=\"color: #7f7f7f; text-decoration-color: #7f7f7f\">357</span></a>\n",
       "<span style=\"color: #7fbfbf; text-decoration-color: #7fbfbf\">                    </span>         have already been downloaded                                               <span style=\"color: #7f7f7f; text-decoration-color: #7f7f7f\">           </span>\n",
       "</pre>\n"
      ],
      "text/plain": [
       "\u001b[2;36m                   \u001b[0m\u001b[2;36m \u001b[0m\u001b[31mWARNING \u001b[0m Downloads in .ent format are assumed to be from ASTRAL. These data should  \u001b]8;id=167356;file:///home/zhang/Projects/3d/ProteinWorkshop/proteinworkshop/datasets/base.py\u001b\\\u001b[2mbase.py\u001b[0m\u001b]8;;\u001b\\\u001b[2m:\u001b[0m\u001b]8;id=995289;file:///home/zhang/Projects/3d/ProteinWorkshop/proteinworkshop/datasets/base.py#357\u001b\\\u001b[2m357\u001b[0m\u001b]8;;\u001b\\\n",
       "\u001b[2;36m                    \u001b[0m         have already been downloaded                                               \u001b[2m           \u001b[0m\n"
      ]
     },
     "metadata": {},
     "output_type": "display_data"
    },
    {
     "data": {
      "text/html": [
       "<pre style=\"white-space:pre;overflow-x:auto;line-height:normal;font-family:Menlo,'DejaVu Sans Mono',consolas,'Courier New',monospace\"><span style=\"color: #7fbfbf; text-decoration-color: #7fbfbf\">                    </span><span style=\"color: #000080; text-decoration-color: #000080\">INFO    </span> Reading data into memory                                                   <a href=\"file:///home/zhang/Projects/3d/ProteinWorkshop/proteinworkshop/datasets/base.py\" target=\"_blank\"><span style=\"color: #7f7f7f; text-decoration-color: #7f7f7f\">base.py</span></a><span style=\"color: #7f7f7f; text-decoration-color: #7f7f7f\">:</span><a href=\"file:///home/zhang/Projects/3d/ProteinWorkshop/proteinworkshop/datasets/base.py#337\" target=\"_blank\"><span style=\"color: #7f7f7f; text-decoration-color: #7f7f7f\">337</span></a>\n",
       "</pre>\n"
      ],
      "text/plain": [
       "\u001b[2;36m                   \u001b[0m\u001b[2;36m \u001b[0m\u001b[34mINFO    \u001b[0m Reading data into memory                                                   \u001b]8;id=431674;file:///home/zhang/Projects/3d/ProteinWorkshop/proteinworkshop/datasets/base.py\u001b\\\u001b[2mbase.py\u001b[0m\u001b]8;;\u001b\\\u001b[2m:\u001b[0m\u001b]8;id=560449;file:///home/zhang/Projects/3d/ProteinWorkshop/proteinworkshop/datasets/base.py#337\u001b\\\u001b[2m337\u001b[0m\u001b]8;;\u001b\\\n"
      ]
     },
     "metadata": {},
     "output_type": "display_data"
    },
    {
     "name": "stderr",
     "output_type": "stream",
     "text": [
      "100%|██████████| 736/736 [00:00<00:00, 2532.25it/s]\n"
     ]
    },
    {
     "data": {
      "text/html": [
       "<pre style=\"white-space:pre;overflow-x:auto;line-height:normal;font-family:Menlo,'DejaVu Sans Mono',consolas,'Courier New',monospace\"><span style=\"color: #7fbfbf; text-decoration-color: #7fbfbf\">[07/19/24 18:09:37] </span><span style=\"color: #000080; text-decoration-color: #000080\">INFO    </span> Unfeaturized batch: <span style=\"color: #800080; text-decoration-color: #800080; font-weight: bold\">DataProteinBatch</span><span style=\"font-weight: bold\">(</span><span style=\"color: #808000; text-decoration-color: #808000\">fill_value</span>=<span style=\"color: #008080; text-decoration-color: #008080; font-weight: bold\">1e-05</span>, <span style=\"color: #808000; text-decoration-color: #808000\">atom_list</span>=<span style=\"font-weight: bold\">[</span><span style=\"color: #008080; text-decoration-color: #008080; font-weight: bold\">37</span><span style=\"font-weight: bold\">]</span>,    <a href=\"file:///home/zhang/Projects/3d/ProteinWorkshop/proteinworkshop/train.py\" target=\"_blank\"><span style=\"color: #7f7f7f; text-decoration-color: #7f7f7f\">train.py</span></a><span style=\"color: #7f7f7f; text-decoration-color: #7f7f7f\">:</span><a href=\"file:///home/zhang/Projects/3d/ProteinWorkshop/proteinworkshop/train.py#149\" target=\"_blank\"><span style=\"color: #7f7f7f; text-decoration-color: #7f7f7f\">149</span></a>\n",
       "<span style=\"color: #7fbfbf; text-decoration-color: #7fbfbf\">                    </span>         <span style=\"color: #808000; text-decoration-color: #808000\">coords</span>=<span style=\"font-weight: bold\">[</span><span style=\"color: #008080; text-decoration-color: #008080; font-weight: bold\">7747</span>, <span style=\"color: #008080; text-decoration-color: #008080; font-weight: bold\">37</span>, <span style=\"color: #008080; text-decoration-color: #008080; font-weight: bold\">3</span><span style=\"font-weight: bold\">]</span>, <span style=\"color: #808000; text-decoration-color: #808000\">residues</span>=<span style=\"font-weight: bold\">[</span><span style=\"color: #008080; text-decoration-color: #008080; font-weight: bold\">32</span><span style=\"font-weight: bold\">]</span>, <span style=\"color: #808000; text-decoration-color: #808000\">id</span>=<span style=\"font-weight: bold\">[</span><span style=\"color: #008080; text-decoration-color: #008080; font-weight: bold\">32</span><span style=\"font-weight: bold\">]</span>, <span style=\"color: #808000; text-decoration-color: #808000\">residue_id</span>=<span style=\"font-weight: bold\">[</span><span style=\"color: #008080; text-decoration-color: #008080; font-weight: bold\">32</span><span style=\"font-weight: bold\">]</span>,            <span style=\"color: #7f7f7f; text-decoration-color: #7f7f7f\">            </span>\n",
       "<span style=\"color: #7fbfbf; text-decoration-color: #7fbfbf\">                    </span>         <span style=\"color: #808000; text-decoration-color: #808000\">residue_type</span>=<span style=\"font-weight: bold\">[</span><span style=\"color: #008080; text-decoration-color: #008080; font-weight: bold\">7747</span><span style=\"font-weight: bold\">]</span>, <span style=\"color: #808000; text-decoration-color: #808000\">chains</span>=<span style=\"font-weight: bold\">[</span><span style=\"color: #008080; text-decoration-color: #008080; font-weight: bold\">7747</span><span style=\"font-weight: bold\">]</span>, <span style=\"color: #808000; text-decoration-color: #808000\">graph_y</span>=<span style=\"font-weight: bold\">[</span><span style=\"color: #008080; text-decoration-color: #008080; font-weight: bold\">32</span><span style=\"font-weight: bold\">]</span>, <span style=\"color: #808000; text-decoration-color: #808000\">x</span>=<span style=\"font-weight: bold\">[</span><span style=\"color: #008080; text-decoration-color: #008080; font-weight: bold\">7747</span><span style=\"font-weight: bold\">]</span>,               <span style=\"color: #7f7f7f; text-decoration-color: #7f7f7f\">            </span>\n",
       "<span style=\"color: #7fbfbf; text-decoration-color: #7fbfbf\">                    </span>         <span style=\"color: #808000; text-decoration-color: #808000\">amino_acid_one_hot</span>=<span style=\"font-weight: bold\">[</span><span style=\"color: #008080; text-decoration-color: #008080; font-weight: bold\">7747</span>, <span style=\"color: #008080; text-decoration-color: #008080; font-weight: bold\">23</span><span style=\"font-weight: bold\">]</span>, <span style=\"color: #808000; text-decoration-color: #808000\">seq_pos</span>=<span style=\"font-weight: bold\">[</span><span style=\"color: #008080; text-decoration-color: #008080; font-weight: bold\">7747</span>, <span style=\"color: #008080; text-decoration-color: #008080; font-weight: bold\">1</span><span style=\"font-weight: bold\">]</span>, <span style=\"color: #808000; text-decoration-color: #808000\">batch</span>=<span style=\"font-weight: bold\">[</span><span style=\"color: #008080; text-decoration-color: #008080; font-weight: bold\">7747</span><span style=\"font-weight: bold\">]</span>, <span style=\"color: #808000; text-decoration-color: #808000\">ptr</span>=<span style=\"font-weight: bold\">[</span><span style=\"color: #008080; text-decoration-color: #008080; font-weight: bold\">33</span><span style=\"font-weight: bold\">])</span> <span style=\"color: #7f7f7f; text-decoration-color: #7f7f7f\">            </span>\n",
       "</pre>\n"
      ],
      "text/plain": [
       "\u001b[2;36m[07/19/24 18:09:37]\u001b[0m\u001b[2;36m \u001b[0m\u001b[34mINFO    \u001b[0m Unfeaturized batch: \u001b[1;35mDataProteinBatch\u001b[0m\u001b[1m(\u001b[0m\u001b[33mfill_value\u001b[0m=\u001b[1;36m1e\u001b[0m\u001b[1;36m-05\u001b[0m, \u001b[33matom_list\u001b[0m=\u001b[1m[\u001b[0m\u001b[1;36m37\u001b[0m\u001b[1m]\u001b[0m,    \u001b]8;id=746616;file:///home/zhang/Projects/3d/ProteinWorkshop/proteinworkshop/train.py\u001b\\\u001b[2mtrain.py\u001b[0m\u001b]8;;\u001b\\\u001b[2m:\u001b[0m\u001b]8;id=85776;file:///home/zhang/Projects/3d/ProteinWorkshop/proteinworkshop/train.py#149\u001b\\\u001b[2m149\u001b[0m\u001b]8;;\u001b\\\n",
       "\u001b[2;36m                    \u001b[0m         \u001b[33mcoords\u001b[0m=\u001b[1m[\u001b[0m\u001b[1;36m7747\u001b[0m, \u001b[1;36m37\u001b[0m, \u001b[1;36m3\u001b[0m\u001b[1m]\u001b[0m, \u001b[33mresidues\u001b[0m=\u001b[1m[\u001b[0m\u001b[1;36m32\u001b[0m\u001b[1m]\u001b[0m, \u001b[33mid\u001b[0m=\u001b[1m[\u001b[0m\u001b[1;36m32\u001b[0m\u001b[1m]\u001b[0m, \u001b[33mresidue_id\u001b[0m=\u001b[1m[\u001b[0m\u001b[1;36m32\u001b[0m\u001b[1m]\u001b[0m,            \u001b[2m            \u001b[0m\n",
       "\u001b[2;36m                    \u001b[0m         \u001b[33mresidue_type\u001b[0m=\u001b[1m[\u001b[0m\u001b[1;36m7747\u001b[0m\u001b[1m]\u001b[0m, \u001b[33mchains\u001b[0m=\u001b[1m[\u001b[0m\u001b[1;36m7747\u001b[0m\u001b[1m]\u001b[0m, \u001b[33mgraph_y\u001b[0m=\u001b[1m[\u001b[0m\u001b[1;36m32\u001b[0m\u001b[1m]\u001b[0m, \u001b[33mx\u001b[0m=\u001b[1m[\u001b[0m\u001b[1;36m7747\u001b[0m\u001b[1m]\u001b[0m,               \u001b[2m            \u001b[0m\n",
       "\u001b[2;36m                    \u001b[0m         \u001b[33mamino_acid_one_hot\u001b[0m=\u001b[1m[\u001b[0m\u001b[1;36m7747\u001b[0m, \u001b[1;36m23\u001b[0m\u001b[1m]\u001b[0m, \u001b[33mseq_pos\u001b[0m=\u001b[1m[\u001b[0m\u001b[1;36m7747\u001b[0m, \u001b[1;36m1\u001b[0m\u001b[1m]\u001b[0m, \u001b[33mbatch\u001b[0m=\u001b[1m[\u001b[0m\u001b[1;36m7747\u001b[0m\u001b[1m]\u001b[0m, \u001b[33mptr\u001b[0m=\u001b[1m[\u001b[0m\u001b[1;36m33\u001b[0m\u001b[1m]\u001b[0m\u001b[1m)\u001b[0m \u001b[2m            \u001b[0m\n"
      ]
     },
     "metadata": {},
     "output_type": "display_data"
    },
    {
     "data": {
      "text/html": [
       "<pre style=\"white-space:pre;overflow-x:auto;line-height:normal;font-family:Menlo,'DejaVu Sans Mono',consolas,'Courier New',monospace\"><span style=\"color: #7fbfbf; text-decoration-color: #7fbfbf\">                    </span><span style=\"color: #000080; text-decoration-color: #000080\">INFO    </span> Featurized batch: <span style=\"color: #800080; text-decoration-color: #800080; font-weight: bold\">DataProteinBatch</span><span style=\"font-weight: bold\">(</span><span style=\"color: #808000; text-decoration-color: #808000\">fill_value</span>=<span style=\"color: #008080; text-decoration-color: #008080; font-weight: bold\">1e-05</span>, <span style=\"color: #808000; text-decoration-color: #808000\">atom_list</span>=<span style=\"font-weight: bold\">[</span><span style=\"color: #008080; text-decoration-color: #008080; font-weight: bold\">37</span><span style=\"font-weight: bold\">]</span>,      <a href=\"file:///home/zhang/Projects/3d/ProteinWorkshop/proteinworkshop/train.py\" target=\"_blank\"><span style=\"color: #7f7f7f; text-decoration-color: #7f7f7f\">train.py</span></a><span style=\"color: #7f7f7f; text-decoration-color: #7f7f7f\">:</span><a href=\"file:///home/zhang/Projects/3d/ProteinWorkshop/proteinworkshop/train.py#151\" target=\"_blank\"><span style=\"color: #7f7f7f; text-decoration-color: #7f7f7f\">151</span></a>\n",
       "<span style=\"color: #7fbfbf; text-decoration-color: #7fbfbf\">                    </span>         <span style=\"color: #808000; text-decoration-color: #808000\">coords</span>=<span style=\"font-weight: bold\">[</span><span style=\"color: #008080; text-decoration-color: #008080; font-weight: bold\">7747</span>, <span style=\"color: #008080; text-decoration-color: #008080; font-weight: bold\">37</span>, <span style=\"color: #008080; text-decoration-color: #008080; font-weight: bold\">3</span><span style=\"font-weight: bold\">]</span>, <span style=\"color: #808000; text-decoration-color: #808000\">residues</span>=<span style=\"font-weight: bold\">[</span><span style=\"color: #008080; text-decoration-color: #008080; font-weight: bold\">32</span><span style=\"font-weight: bold\">]</span>, <span style=\"color: #808000; text-decoration-color: #808000\">id</span>=<span style=\"font-weight: bold\">[</span><span style=\"color: #008080; text-decoration-color: #008080; font-weight: bold\">32</span><span style=\"font-weight: bold\">]</span>, <span style=\"color: #808000; text-decoration-color: #808000\">residue_id</span>=<span style=\"font-weight: bold\">[</span><span style=\"color: #008080; text-decoration-color: #008080; font-weight: bold\">32</span><span style=\"font-weight: bold\">]</span>,            <span style=\"color: #7f7f7f; text-decoration-color: #7f7f7f\">            </span>\n",
       "<span style=\"color: #7fbfbf; text-decoration-color: #7fbfbf\">                    </span>         <span style=\"color: #808000; text-decoration-color: #808000\">residue_type</span>=<span style=\"font-weight: bold\">[</span><span style=\"color: #008080; text-decoration-color: #008080; font-weight: bold\">7747</span><span style=\"font-weight: bold\">]</span>, <span style=\"color: #808000; text-decoration-color: #808000\">chains</span>=<span style=\"font-weight: bold\">[</span><span style=\"color: #008080; text-decoration-color: #008080; font-weight: bold\">7747</span><span style=\"font-weight: bold\">]</span>, <span style=\"color: #808000; text-decoration-color: #808000\">graph_y</span>=<span style=\"font-weight: bold\">[</span><span style=\"color: #008080; text-decoration-color: #008080; font-weight: bold\">32</span><span style=\"font-weight: bold\">]</span>, <span style=\"color: #808000; text-decoration-color: #808000\">x</span>=<span style=\"font-weight: bold\">[</span><span style=\"color: #008080; text-decoration-color: #008080; font-weight: bold\">7747</span>, <span style=\"color: #008080; text-decoration-color: #008080; font-weight: bold\">23</span><span style=\"font-weight: bold\">]</span>,           <span style=\"color: #7f7f7f; text-decoration-color: #7f7f7f\">            </span>\n",
       "<span style=\"color: #7fbfbf; text-decoration-color: #7fbfbf\">                    </span>         <span style=\"color: #808000; text-decoration-color: #808000\">amino_acid_one_hot</span>=<span style=\"font-weight: bold\">[</span><span style=\"color: #008080; text-decoration-color: #008080; font-weight: bold\">7747</span>, <span style=\"color: #008080; text-decoration-color: #008080; font-weight: bold\">23</span><span style=\"font-weight: bold\">]</span>, <span style=\"color: #808000; text-decoration-color: #808000\">seq_pos</span>=<span style=\"font-weight: bold\">[</span><span style=\"color: #008080; text-decoration-color: #008080; font-weight: bold\">7747</span>, <span style=\"color: #008080; text-decoration-color: #008080; font-weight: bold\">1</span><span style=\"font-weight: bold\">]</span>, <span style=\"color: #808000; text-decoration-color: #808000\">batch</span>=<span style=\"font-weight: bold\">[</span><span style=\"color: #008080; text-decoration-color: #008080; font-weight: bold\">7747</span><span style=\"font-weight: bold\">]</span>, <span style=\"color: #808000; text-decoration-color: #808000\">ptr</span>=<span style=\"font-weight: bold\">[</span><span style=\"color: #008080; text-decoration-color: #008080; font-weight: bold\">33</span><span style=\"font-weight: bold\">]</span>, <span style=\"color: #7f7f7f; text-decoration-color: #7f7f7f\">            </span>\n",
       "<span style=\"color: #7fbfbf; text-decoration-color: #7fbfbf\">                    </span>         <span style=\"color: #808000; text-decoration-color: #808000\">pos</span>=<span style=\"font-weight: bold\">[</span><span style=\"color: #008080; text-decoration-color: #008080; font-weight: bold\">7747</span>, <span style=\"color: #008080; text-decoration-color: #008080; font-weight: bold\">3</span><span style=\"font-weight: bold\">]</span>, <span style=\"color: #808000; text-decoration-color: #808000\">edge_index</span>=<span style=\"font-weight: bold\">[</span><span style=\"color: #008080; text-decoration-color: #008080; font-weight: bold\">2</span>, <span style=\"color: #008080; text-decoration-color: #008080; font-weight: bold\">123952</span><span style=\"font-weight: bold\">]</span>, <span style=\"color: #808000; text-decoration-color: #808000\">edge_type</span>=<span style=\"font-weight: bold\">[</span><span style=\"color: #008080; text-decoration-color: #008080; font-weight: bold\">1</span>, <span style=\"color: #008080; text-decoration-color: #008080; font-weight: bold\">123952</span><span style=\"font-weight: bold\">]</span>,             <span style=\"color: #7f7f7f; text-decoration-color: #7f7f7f\">            </span>\n",
       "<span style=\"color: #7fbfbf; text-decoration-color: #7fbfbf\">                    </span>         <span style=\"color: #808000; text-decoration-color: #808000\">num_relation</span>=<span style=\"color: #008080; text-decoration-color: #008080; font-weight: bold\">1</span>, <span style=\"color: #808000; text-decoration-color: #808000\">edge_attr</span>=<span style=\"font-weight: bold\">[</span><span style=\"color: #008080; text-decoration-color: #008080; font-weight: bold\">123952</span>, <span style=\"color: #008080; text-decoration-color: #008080; font-weight: bold\">1</span><span style=\"font-weight: bold\">])</span>                                    <span style=\"color: #7f7f7f; text-decoration-color: #7f7f7f\">            </span>\n",
       "</pre>\n"
      ],
      "text/plain": [
       "\u001b[2;36m                   \u001b[0m\u001b[2;36m \u001b[0m\u001b[34mINFO    \u001b[0m Featurized batch: \u001b[1;35mDataProteinBatch\u001b[0m\u001b[1m(\u001b[0m\u001b[33mfill_value\u001b[0m=\u001b[1;36m1e\u001b[0m\u001b[1;36m-05\u001b[0m, \u001b[33matom_list\u001b[0m=\u001b[1m[\u001b[0m\u001b[1;36m37\u001b[0m\u001b[1m]\u001b[0m,      \u001b]8;id=405975;file:///home/zhang/Projects/3d/ProteinWorkshop/proteinworkshop/train.py\u001b\\\u001b[2mtrain.py\u001b[0m\u001b]8;;\u001b\\\u001b[2m:\u001b[0m\u001b]8;id=843316;file:///home/zhang/Projects/3d/ProteinWorkshop/proteinworkshop/train.py#151\u001b\\\u001b[2m151\u001b[0m\u001b]8;;\u001b\\\n",
       "\u001b[2;36m                    \u001b[0m         \u001b[33mcoords\u001b[0m=\u001b[1m[\u001b[0m\u001b[1;36m7747\u001b[0m, \u001b[1;36m37\u001b[0m, \u001b[1;36m3\u001b[0m\u001b[1m]\u001b[0m, \u001b[33mresidues\u001b[0m=\u001b[1m[\u001b[0m\u001b[1;36m32\u001b[0m\u001b[1m]\u001b[0m, \u001b[33mid\u001b[0m=\u001b[1m[\u001b[0m\u001b[1;36m32\u001b[0m\u001b[1m]\u001b[0m, \u001b[33mresidue_id\u001b[0m=\u001b[1m[\u001b[0m\u001b[1;36m32\u001b[0m\u001b[1m]\u001b[0m,            \u001b[2m            \u001b[0m\n",
       "\u001b[2;36m                    \u001b[0m         \u001b[33mresidue_type\u001b[0m=\u001b[1m[\u001b[0m\u001b[1;36m7747\u001b[0m\u001b[1m]\u001b[0m, \u001b[33mchains\u001b[0m=\u001b[1m[\u001b[0m\u001b[1;36m7747\u001b[0m\u001b[1m]\u001b[0m, \u001b[33mgraph_y\u001b[0m=\u001b[1m[\u001b[0m\u001b[1;36m32\u001b[0m\u001b[1m]\u001b[0m, \u001b[33mx\u001b[0m=\u001b[1m[\u001b[0m\u001b[1;36m7747\u001b[0m, \u001b[1;36m23\u001b[0m\u001b[1m]\u001b[0m,           \u001b[2m            \u001b[0m\n",
       "\u001b[2;36m                    \u001b[0m         \u001b[33mamino_acid_one_hot\u001b[0m=\u001b[1m[\u001b[0m\u001b[1;36m7747\u001b[0m, \u001b[1;36m23\u001b[0m\u001b[1m]\u001b[0m, \u001b[33mseq_pos\u001b[0m=\u001b[1m[\u001b[0m\u001b[1;36m7747\u001b[0m, \u001b[1;36m1\u001b[0m\u001b[1m]\u001b[0m, \u001b[33mbatch\u001b[0m=\u001b[1m[\u001b[0m\u001b[1;36m7747\u001b[0m\u001b[1m]\u001b[0m, \u001b[33mptr\u001b[0m=\u001b[1m[\u001b[0m\u001b[1;36m33\u001b[0m\u001b[1m]\u001b[0m, \u001b[2m            \u001b[0m\n",
       "\u001b[2;36m                    \u001b[0m         \u001b[33mpos\u001b[0m=\u001b[1m[\u001b[0m\u001b[1;36m7747\u001b[0m, \u001b[1;36m3\u001b[0m\u001b[1m]\u001b[0m, \u001b[33medge_index\u001b[0m=\u001b[1m[\u001b[0m\u001b[1;36m2\u001b[0m, \u001b[1;36m123952\u001b[0m\u001b[1m]\u001b[0m, \u001b[33medge_type\u001b[0m=\u001b[1m[\u001b[0m\u001b[1;36m1\u001b[0m, \u001b[1;36m123952\u001b[0m\u001b[1m]\u001b[0m,             \u001b[2m            \u001b[0m\n",
       "\u001b[2;36m                    \u001b[0m         \u001b[33mnum_relation\u001b[0m=\u001b[1;36m1\u001b[0m, \u001b[33medge_attr\u001b[0m=\u001b[1m[\u001b[0m\u001b[1;36m123952\u001b[0m, \u001b[1;36m1\u001b[0m\u001b[1m]\u001b[0m\u001b[1m)\u001b[0m                                    \u001b[2m            \u001b[0m\n"
      ]
     },
     "metadata": {},
     "output_type": "display_data"
    },
    {
     "data": {
      "text/html": [
       "<pre style=\"white-space:pre;overflow-x:auto;line-height:normal;font-family:Menlo,'DejaVu Sans Mono',consolas,'Courier New',monospace\"><span style=\"color: #7fbfbf; text-decoration-color: #7fbfbf\">                    </span><span style=\"color: #000080; text-decoration-color: #000080\">INFO    </span> Example labels: <span style=\"font-weight: bold\">{</span><span style=\"color: #008000; text-decoration-color: #008000\">'graph_label'</span>: tensor<span style=\"font-weight: bold\">[</span><span style=\"color: #008080; text-decoration-color: #008080; font-weight: bold\">32</span><span style=\"font-weight: bold\">]</span> i64 x∈<span style=\"font-weight: bold\">[</span><span style=\"color: #008080; text-decoration-color: #008080; font-weight: bold\">0</span>, <span style=\"color: #008080; text-decoration-color: #008080; font-weight: bold\">128</span><span style=\"font-weight: bold\">]</span> <span style=\"color: #808000; text-decoration-color: #808000\">μ</span>=<span style=\"color: #008080; text-decoration-color: #008080; font-weight: bold\">103.312</span>       <a href=\"file:///home/zhang/Projects/3d/ProteinWorkshop/proteinworkshop/train.py\" target=\"_blank\"><span style=\"color: #7f7f7f; text-decoration-color: #7f7f7f\">train.py</span></a><span style=\"color: #7f7f7f; text-decoration-color: #7f7f7f\">:</span><a href=\"file:///home/zhang/Projects/3d/ProteinWorkshop/proteinworkshop/train.py#152\" target=\"_blank\"><span style=\"color: #7f7f7f; text-decoration-color: #7f7f7f\">152</span></a>\n",
       "<span style=\"color: #7fbfbf; text-decoration-color: #7fbfbf\">                    </span>         <span style=\"color: #808000; text-decoration-color: #808000\">σ</span>=<span style=\"color: #008080; text-decoration-color: #008080; font-weight: bold\">34.218</span><span style=\"font-weight: bold\">}</span>                                                                 <span style=\"color: #7f7f7f; text-decoration-color: #7f7f7f\">            </span>\n",
       "</pre>\n"
      ],
      "text/plain": [
       "\u001b[2;36m                   \u001b[0m\u001b[2;36m \u001b[0m\u001b[34mINFO    \u001b[0m Example labels: \u001b[1m{\u001b[0m\u001b[32m'graph_label'\u001b[0m: tensor\u001b[1m[\u001b[0m\u001b[1;36m32\u001b[0m\u001b[1m]\u001b[0m i64 x∈\u001b[1m[\u001b[0m\u001b[1;36m0\u001b[0m, \u001b[1;36m128\u001b[0m\u001b[1m]\u001b[0m \u001b[33mμ\u001b[0m=\u001b[1;36m103\u001b[0m\u001b[1;36m.312\u001b[0m       \u001b]8;id=83953;file:///home/zhang/Projects/3d/ProteinWorkshop/proteinworkshop/train.py\u001b\\\u001b[2mtrain.py\u001b[0m\u001b]8;;\u001b\\\u001b[2m:\u001b[0m\u001b]8;id=315852;file:///home/zhang/Projects/3d/ProteinWorkshop/proteinworkshop/train.py#152\u001b\\\u001b[2m152\u001b[0m\u001b]8;;\u001b\\\n",
       "\u001b[2;36m                    \u001b[0m         \u001b[33mσ\u001b[0m=\u001b[1;36m34\u001b[0m\u001b[1;36m.218\u001b[0m\u001b[1m}\u001b[0m                                                                 \u001b[2m            \u001b[0m\n"
      ]
     },
     "metadata": {},
     "output_type": "display_data"
    },
    {
     "name": "stdout",
     "output_type": "stream",
     "text": [
      "===== New ========================\n",
      "DataProteinBatch(fill_value=1e-05, atom_list=[37], coords=[7747, 37, 3], residues=[32], id=[32], residue_id=[32], residue_type=[7747], chains=[7747], graph_y=[32], x=[7747, 23], amino_acid_one_hot=[7747, 23], seq_pos=[7747, 1], batch=[7747], ptr=[33], pos=[7747, 3], edge_index=[2, 123952], edge_type=[1, 123952], num_relation=1, edge_attr=[123952, 1])\n",
      "z - min: 0, max: 22, NaNs: 0\n",
      "pos - min: -49.060001373291016, max: 286.5480041503906, NaNs: 0\n",
      "x - min: -3.771965265274048, max: 3.211082935333252, NaNs: 0\n",
      "pos_emb - min: -1.0, max: 0.9999999403953552, NaNs: 0\n",
      "edge_index tensor[2, 123952] i64 n=247904 (1.9Mb) x∈[0, 7746] μ=3.873e+03 σ=2.236e+03\n",
      "j: tensor[123952] i64 0.9Mb x∈[0, 7746] μ=3.873e+03 σ=2.237e+03\n",
      "i: tensor[123952] i64 0.9Mb x∈[0, 7746] μ=3.873e+03 σ=2.236e+03\n",
      "False\n",
      "dist - min: 2.8557522296905518, max: 41.765926361083984, NaNs: 0\n",
      "theta - min: 5.017964667917985e-13, max: 3.138577699661255, NaNs: 0\n",
      "phi - min: -3.141557216644287, max: 3.141563892364502, NaNs: 0\n",
      "feature0 - min: -2.385986328125, max: 2.4504315853118896, NaNs: 0\n",
      "feature1 - min: -2.343778133392334, max: 2.3604960441589355, NaNs: 0\n",
      "interaction_block - min: -0.01818559318780899, max: 0.0171130932867527, NaNs: 0\n",
      "y - min: 0.0, max: 0.38357415795326233, NaNs: 0\n",
      "lin_out - min: -0.12245180457830429, max: 0.14421723783016205, NaNs: 0\n"
     ]
    },
    {
     "data": {
      "text/html": [
       "<pre style=\"white-space:pre;overflow-x:auto;line-height:normal;font-family:Menlo,'DejaVu Sans Mono',consolas,'Courier New',monospace\"><span style=\"color: #7fbfbf; text-decoration-color: #7fbfbf\">                    </span><span style=\"color: #000080; text-decoration-color: #000080\">INFO    </span> Model output: <span style=\"font-weight: bold\">{</span><span style=\"color: #008000; text-decoration-color: #008000\">'graph_embedding'</span>: tensor<span style=\"font-weight: bold\">[</span><span style=\"color: #008080; text-decoration-color: #008080; font-weight: bold\">32</span>, <span style=\"color: #008080; text-decoration-color: #008080; font-weight: bold\">1195</span><span style=\"font-weight: bold\">]</span> <span style=\"color: #808000; text-decoration-color: #808000\">n</span>=<span style=\"color: #008080; text-decoration-color: #008080; font-weight: bold\">38240</span> <span style=\"font-weight: bold\">(</span><span style=\"color: #008080; text-decoration-color: #008080; font-weight: bold\">0.</span>1Mb<span style=\"font-weight: bold\">)</span>        <a href=\"file:///home/zhang/Projects/3d/ProteinWorkshop/proteinworkshop/train.py\" target=\"_blank\"><span style=\"color: #7f7f7f; text-decoration-color: #7f7f7f\">train.py</span></a><span style=\"color: #7f7f7f; text-decoration-color: #7f7f7f\">:</span><a href=\"file:///home/zhang/Projects/3d/ProteinWorkshop/proteinworkshop/train.py#160\" target=\"_blank\"><span style=\"color: #7f7f7f; text-decoration-color: #7f7f7f\">160</span></a>\n",
       "<span style=\"color: #7fbfbf; text-decoration-color: #7fbfbf\">                    </span>         x∈<span style=\"font-weight: bold\">[</span><span style=\"color: #008080; text-decoration-color: #008080; font-weight: bold\">-0.122</span>, <span style=\"color: #008080; text-decoration-color: #008080; font-weight: bold\">0.144</span><span style=\"font-weight: bold\">]</span> <span style=\"color: #808000; text-decoration-color: #808000\">μ</span>=<span style=\"color: #008080; text-decoration-color: #008080; font-weight: bold\">-0.000</span> <span style=\"color: #808000; text-decoration-color: #808000\">σ</span>=<span style=\"color: #008080; text-decoration-color: #008080; font-weight: bold\">0.022</span>, <span style=\"color: #008000; text-decoration-color: #008000\">'graph_label'</span>: tensor<span style=\"font-weight: bold\">[</span><span style=\"color: #008080; text-decoration-color: #008080; font-weight: bold\">32</span>, <span style=\"color: #008080; text-decoration-color: #008080; font-weight: bold\">1195</span><span style=\"font-weight: bold\">]</span>       <span style=\"color: #7f7f7f; text-decoration-color: #7f7f7f\">            </span>\n",
       "<span style=\"color: #7fbfbf; text-decoration-color: #7fbfbf\">                    </span>         <span style=\"color: #808000; text-decoration-color: #808000\">n</span>=<span style=\"color: #008080; text-decoration-color: #008080; font-weight: bold\">38240</span> <span style=\"font-weight: bold\">(</span><span style=\"color: #008080; text-decoration-color: #008080; font-weight: bold\">0.</span>1Mb<span style=\"font-weight: bold\">)</span> x∈<span style=\"font-weight: bold\">[</span><span style=\"color: #008080; text-decoration-color: #008080; font-weight: bold\">-0.122</span>, <span style=\"color: #008080; text-decoration-color: #008080; font-weight: bold\">0.144</span><span style=\"font-weight: bold\">]</span> <span style=\"color: #808000; text-decoration-color: #808000\">μ</span>=<span style=\"color: #008080; text-decoration-color: #008080; font-weight: bold\">-0.000</span> <span style=\"color: #808000; text-decoration-color: #808000\">σ</span>=<span style=\"color: #008080; text-decoration-color: #008080; font-weight: bold\">0.022</span><span style=\"font-weight: bold\">}</span>                       <span style=\"color: #7f7f7f; text-decoration-color: #7f7f7f\">            </span>\n",
       "</pre>\n"
      ],
      "text/plain": [
       "\u001b[2;36m                   \u001b[0m\u001b[2;36m \u001b[0m\u001b[34mINFO    \u001b[0m Model output: \u001b[1m{\u001b[0m\u001b[32m'graph_embedding'\u001b[0m: tensor\u001b[1m[\u001b[0m\u001b[1;36m32\u001b[0m, \u001b[1;36m1195\u001b[0m\u001b[1m]\u001b[0m \u001b[33mn\u001b[0m=\u001b[1;36m38240\u001b[0m \u001b[1m(\u001b[0m\u001b[1;36m0.\u001b[0m1Mb\u001b[1m)\u001b[0m        \u001b]8;id=561031;file:///home/zhang/Projects/3d/ProteinWorkshop/proteinworkshop/train.py\u001b\\\u001b[2mtrain.py\u001b[0m\u001b]8;;\u001b\\\u001b[2m:\u001b[0m\u001b]8;id=123257;file:///home/zhang/Projects/3d/ProteinWorkshop/proteinworkshop/train.py#160\u001b\\\u001b[2m160\u001b[0m\u001b]8;;\u001b\\\n",
       "\u001b[2;36m                    \u001b[0m         x∈\u001b[1m[\u001b[0m\u001b[1;36m-0.122\u001b[0m, \u001b[1;36m0.144\u001b[0m\u001b[1m]\u001b[0m \u001b[33mμ\u001b[0m=\u001b[1;36m-0.000\u001b[0m \u001b[33mσ\u001b[0m=\u001b[1;36m0\u001b[0m\u001b[1;36m.022\u001b[0m, \u001b[32m'graph_label'\u001b[0m: tensor\u001b[1m[\u001b[0m\u001b[1;36m32\u001b[0m, \u001b[1;36m1195\u001b[0m\u001b[1m]\u001b[0m       \u001b[2m            \u001b[0m\n",
       "\u001b[2;36m                    \u001b[0m         \u001b[33mn\u001b[0m=\u001b[1;36m38240\u001b[0m \u001b[1m(\u001b[0m\u001b[1;36m0.\u001b[0m1Mb\u001b[1m)\u001b[0m x∈\u001b[1m[\u001b[0m\u001b[1;36m-0.122\u001b[0m, \u001b[1;36m0.144\u001b[0m\u001b[1m]\u001b[0m \u001b[33mμ\u001b[0m=\u001b[1;36m-0.000\u001b[0m \u001b[33mσ\u001b[0m=\u001b[1;36m0\u001b[0m\u001b[1;36m.022\u001b[0m\u001b[1m}\u001b[0m                       \u001b[2m            \u001b[0m\n"
      ]
     },
     "metadata": {},
     "output_type": "display_data"
    },
    {
     "data": {
      "text/html": [
       "<pre style=\"white-space:pre;overflow-x:auto;line-height:normal;font-family:Menlo,'DejaVu Sans Mono',consolas,'Courier New',monospace\"><span style=\"color: #7fbfbf; text-decoration-color: #7fbfbf\">                    </span><span style=\"color: #000080; text-decoration-color: #000080\">INFO    </span> Logging hyperparameters!                                                  <a href=\"file:///home/zhang/Projects/3d/ProteinWorkshop/proteinworkshop/train.py\" target=\"_blank\"><span style=\"color: #7f7f7f; text-decoration-color: #7f7f7f\">train.py</span></a><span style=\"color: #7f7f7f; text-decoration-color: #7f7f7f\">:</span><a href=\"file:///home/zhang/Projects/3d/ProteinWorkshop/proteinworkshop/train.py#173\" target=\"_blank\"><span style=\"color: #7f7f7f; text-decoration-color: #7f7f7f\">173</span></a>\n",
       "</pre>\n"
      ],
      "text/plain": [
       "\u001b[2;36m                   \u001b[0m\u001b[2;36m \u001b[0m\u001b[34mINFO    \u001b[0m Logging hyperparameters!                                                  \u001b]8;id=403619;file:///home/zhang/Projects/3d/ProteinWorkshop/proteinworkshop/train.py\u001b\\\u001b[2mtrain.py\u001b[0m\u001b]8;;\u001b\\\u001b[2m:\u001b[0m\u001b]8;id=824081;file:///home/zhang/Projects/3d/ProteinWorkshop/proteinworkshop/train.py#173\u001b\\\u001b[2m173\u001b[0m\u001b]8;;\u001b\\\n"
      ]
     },
     "metadata": {},
     "output_type": "display_data"
    },
    {
     "data": {
      "text/html": [
       "<pre style=\"white-space:pre;overflow-x:auto;line-height:normal;font-family:Menlo,'DejaVu Sans Mono',consolas,'Courier New',monospace\"><span style=\"color: #7fbfbf; text-decoration-color: #7fbfbf\">                    </span><span style=\"color: #000080; text-decoration-color: #000080\">INFO    </span> Starting training!                                                        <a href=\"file:///home/zhang/Projects/3d/ProteinWorkshop/proteinworkshop/train.py\" target=\"_blank\"><span style=\"color: #7f7f7f; text-decoration-color: #7f7f7f\">train.py</span></a><span style=\"color: #7f7f7f; text-decoration-color: #7f7f7f\">:</span><a href=\"file:///home/zhang/Projects/3d/ProteinWorkshop/proteinworkshop/train.py#181\" target=\"_blank\"><span style=\"color: #7f7f7f; text-decoration-color: #7f7f7f\">181</span></a>\n",
       "</pre>\n"
      ],
      "text/plain": [
       "\u001b[2;36m                   \u001b[0m\u001b[2;36m \u001b[0m\u001b[34mINFO    \u001b[0m Starting training!                                                        \u001b]8;id=667350;file:///home/zhang/Projects/3d/ProteinWorkshop/proteinworkshop/train.py\u001b\\\u001b[2mtrain.py\u001b[0m\u001b]8;;\u001b\\\u001b[2m:\u001b[0m\u001b]8;id=561773;file:///home/zhang/Projects/3d/ProteinWorkshop/proteinworkshop/train.py#181\u001b\\\u001b[2m181\u001b[0m\u001b]8;;\u001b\\\n"
      ]
     },
     "metadata": {},
     "output_type": "display_data"
    },
    {
     "name": "stderr",
     "output_type": "stream",
     "text": [
      "You are using a CUDA device ('NVIDIA GeForce RTX 4090') that has Tensor Cores. To properly utilize them, you should set `torch.set_float32_matmul_precision('medium' | 'high')` which will trade-off precision for performance. For more details, read https://pytorch.org/docs/stable/generated/torch.set_float32_matmul_precision.html#torch.set_float32_matmul_precision\n"
     ]
    },
    {
     "data": {
      "text/html": [
       "<pre style=\"white-space:pre;overflow-x:auto;line-height:normal;font-family:Menlo,'DejaVu Sans Mono',consolas,'Courier New',monospace\"><span style=\"color: #7fbfbf; text-decoration-color: #7fbfbf\">                    </span><span style=\"color: #000080; text-decoration-color: #000080\">INFO    </span> Downloading Protein Function. Fraction <span style=\"color: #008080; text-decoration-color: #008080; font-weight: bold\">1.0</span>                   <a href=\"file:///home/zhang/Projects/3d/ProteinWorkshop/proteinworkshop/datasets/fold_classification.py\" target=\"_blank\"><span style=\"color: #7f7f7f; text-decoration-color: #7f7f7f\">fold_classification.py</span></a><span style=\"color: #7f7f7f; text-decoration-color: #7f7f7f\">:</span><a href=\"file:///home/zhang/Projects/3d/ProteinWorkshop/proteinworkshop/datasets/fold_classification.py#86\" target=\"_blank\"><span style=\"color: #7f7f7f; text-decoration-color: #7f7f7f\">86</span></a>\n",
       "</pre>\n"
      ],
      "text/plain": [
       "\u001b[2;36m                   \u001b[0m\u001b[2;36m \u001b[0m\u001b[34mINFO    \u001b[0m Downloading Protein Function. Fraction \u001b[1;36m1.0\u001b[0m                   \u001b]8;id=287828;file:///home/zhang/Projects/3d/ProteinWorkshop/proteinworkshop/datasets/fold_classification.py\u001b\\\u001b[2mfold_classification.py\u001b[0m\u001b]8;;\u001b\\\u001b[2m:\u001b[0m\u001b]8;id=767030;file:///home/zhang/Projects/3d/ProteinWorkshop/proteinworkshop/datasets/fold_classification.py#86\u001b\\\u001b[2m86\u001b[0m\u001b]8;;\u001b\\\n"
      ]
     },
     "metadata": {},
     "output_type": "display_data"
    },
    {
     "data": {
      "text/html": [
       "<pre style=\"white-space:pre;overflow-x:auto;line-height:normal;font-family:Menlo,'DejaVu Sans Mono',consolas,'Courier New',monospace\"><span style=\"color: #7fbfbf; text-decoration-color: #7fbfbf\">                    </span><span style=\"color: #000080; text-decoration-color: #000080\">INFO    </span> Found SCOP structure tarfile in:                            <a href=\"file:///home/zhang/Projects/3d/ProteinWorkshop/proteinworkshop/datasets/fold_classification.py\" target=\"_blank\"><span style=\"color: #7f7f7f; text-decoration-color: #7f7f7f\">fold_classification.py</span></a><span style=\"color: #7f7f7f; text-decoration-color: #7f7f7f\">:</span><a href=\"file:///home/zhang/Projects/3d/ProteinWorkshop/proteinworkshop/datasets/fold_classification.py#138\" target=\"_blank\"><span style=\"color: #7f7f7f; text-decoration-color: #7f7f7f\">138</span></a>\n",
       "<span style=\"color: #7fbfbf; text-decoration-color: #7fbfbf\">                    </span>         <span style=\"color: #800080; text-decoration-color: #800080\">/home/zhang/Projects/3d/ProteinWorkshop/proteinworkshop/dat</span> <span style=\"color: #7f7f7f; text-decoration-color: #7f7f7f\">                          </span>\n",
       "<span style=\"color: #7fbfbf; text-decoration-color: #7fbfbf\">                    </span>         <span style=\"color: #800080; text-decoration-color: #800080\">a/FoldClassification/</span><span style=\"color: #ff00ff; text-decoration-color: #ff00ff\">pdbstyle-sel-gs-bib-95-1.75.tgz</span>        <span style=\"color: #7f7f7f; text-decoration-color: #7f7f7f\">                          </span>\n",
       "</pre>\n"
      ],
      "text/plain": [
       "\u001b[2;36m                   \u001b[0m\u001b[2;36m \u001b[0m\u001b[34mINFO    \u001b[0m Found SCOP structure tarfile in:                            \u001b]8;id=187425;file:///home/zhang/Projects/3d/ProteinWorkshop/proteinworkshop/datasets/fold_classification.py\u001b\\\u001b[2mfold_classification.py\u001b[0m\u001b]8;;\u001b\\\u001b[2m:\u001b[0m\u001b]8;id=890704;file:///home/zhang/Projects/3d/ProteinWorkshop/proteinworkshop/datasets/fold_classification.py#138\u001b\\\u001b[2m138\u001b[0m\u001b]8;;\u001b\\\n",
       "\u001b[2;36m                    \u001b[0m         \u001b[35m/home/zhang/Projects/3d/ProteinWorkshop/proteinworkshop/dat\u001b[0m \u001b[2m                          \u001b[0m\n",
       "\u001b[2;36m                    \u001b[0m         \u001b[35ma/FoldClassification/\u001b[0m\u001b[95mpdbstyle-sel-gs-bib-95-1.75.tgz\u001b[0m        \u001b[2m                          \u001b[0m\n"
      ]
     },
     "metadata": {},
     "output_type": "display_data"
    },
    {
     "data": {
      "text/html": [
       "<pre style=\"white-space:pre;overflow-x:auto;line-height:normal;font-family:Menlo,'DejaVu Sans Mono',consolas,'Courier New',monospace\"><span style=\"color: #7fbfbf; text-decoration-color: #7fbfbf\">                    </span><span style=\"color: #000080; text-decoration-color: #000080\">INFO    </span> Found SCOPe structures in:                                  <a href=\"file:///home/zhang/Projects/3d/ProteinWorkshop/proteinworkshop/datasets/fold_classification.py\" target=\"_blank\"><span style=\"color: #7f7f7f; text-decoration-color: #7f7f7f\">fold_classification.py</span></a><span style=\"color: #7f7f7f; text-decoration-color: #7f7f7f\">:</span><a href=\"file:///home/zhang/Projects/3d/ProteinWorkshop/proteinworkshop/datasets/fold_classification.py#151\" target=\"_blank\"><span style=\"color: #7f7f7f; text-decoration-color: #7f7f7f\">151</span></a>\n",
       "</pre>\n"
      ],
      "text/plain": [
       "\u001b[2;36m                   \u001b[0m\u001b[2;36m \u001b[0m\u001b[34mINFO    \u001b[0m Found SCOPe structures in:                                  \u001b]8;id=181113;file:///home/zhang/Projects/3d/ProteinWorkshop/proteinworkshop/datasets/fold_classification.py\u001b\\\u001b[2mfold_classification.py\u001b[0m\u001b]8;;\u001b\\\u001b[2m:\u001b[0m\u001b]8;id=353870;file:///home/zhang/Projects/3d/ProteinWorkshop/proteinworkshop/datasets/fold_classification.py#151\u001b\\\u001b[2m151\u001b[0m\u001b]8;;\u001b\\\n"
      ]
     },
     "metadata": {},
     "output_type": "display_data"
    },
    {
     "data": {
      "text/html": [
       "<pre style=\"white-space:pre;overflow-x:auto;line-height:normal;font-family:Menlo,'DejaVu Sans Mono',consolas,'Courier New',monospace\"><span style=\"color: #7fbfbf; text-decoration-color: #7fbfbf\">                    </span><span style=\"color: #000080; text-decoration-color: #000080\">INFO    </span> Preprocessing training data                                                 <a href=\"file:///home/zhang/Projects/3d/ProteinWorkshop/proteinworkshop/datasets/base.py\" target=\"_blank\"><span style=\"color: #7f7f7f; text-decoration-color: #7f7f7f\">base.py</span></a><span style=\"color: #7f7f7f; text-decoration-color: #7f7f7f\">:</span><a href=\"file:///home/zhang/Projects/3d/ProteinWorkshop/proteinworkshop/datasets/base.py#87\" target=\"_blank\"><span style=\"color: #7f7f7f; text-decoration-color: #7f7f7f\">87</span></a>\n",
       "</pre>\n"
      ],
      "text/plain": [
       "\u001b[2;36m                   \u001b[0m\u001b[2;36m \u001b[0m\u001b[34mINFO    \u001b[0m Preprocessing training data                                                 \u001b]8;id=967045;file:///home/zhang/Projects/3d/ProteinWorkshop/proteinworkshop/datasets/base.py\u001b\\\u001b[2mbase.py\u001b[0m\u001b]8;;\u001b\\\u001b[2m:\u001b[0m\u001b]8;id=655925;file:///home/zhang/Projects/3d/ProteinWorkshop/proteinworkshop/datasets/base.py#87\u001b\\\u001b[2m87\u001b[0m\u001b]8;;\u001b\\\n"
      ]
     },
     "metadata": {},
     "output_type": "display_data"
    },
    {
     "data": {
      "text/html": [
       "<pre style=\"white-space:pre;overflow-x:auto;line-height:normal;font-family:Menlo,'DejaVu Sans Mono',consolas,'Courier New',monospace\"><span style=\"color: #7fbfbf; text-decoration-color: #7fbfbf\">                    </span><span style=\"color: #000080; text-decoration-color: #000080\">INFO    </span> Reading labels from:                                        <a href=\"file:///home/zhang/Projects/3d/ProteinWorkshop/proteinworkshop/datasets/fold_classification.py\" target=\"_blank\"><span style=\"color: #7f7f7f; text-decoration-color: #7f7f7f\">fold_classification.py</span></a><span style=\"color: #7f7f7f; text-decoration-color: #7f7f7f\">:</span><a href=\"file:///home/zhang/Projects/3d/ProteinWorkshop/proteinworkshop/datasets/fold_classification.py#154\" target=\"_blank\"><span style=\"color: #7f7f7f; text-decoration-color: #7f7f7f\">154</span></a>\n",
       "<span style=\"color: #7fbfbf; text-decoration-color: #7fbfbf\">                    </span>         <span style=\"color: #800080; text-decoration-color: #800080\">/home/zhang/Projects/3d/ProteinWorkshop/proteinworkshop/dat</span> <span style=\"color: #7f7f7f; text-decoration-color: #7f7f7f\">                          </span>\n",
       "<span style=\"color: #7fbfbf; text-decoration-color: #7fbfbf\">                    </span>         <span style=\"color: #800080; text-decoration-color: #800080\">a/FoldClassification/</span><span style=\"color: #ff00ff; text-decoration-color: #ff00ff\">class_map.txt</span>                          <span style=\"color: #7f7f7f; text-decoration-color: #7f7f7f\">                          </span>\n",
       "</pre>\n"
      ],
      "text/plain": [
       "\u001b[2;36m                   \u001b[0m\u001b[2;36m \u001b[0m\u001b[34mINFO    \u001b[0m Reading labels from:                                        \u001b]8;id=491556;file:///home/zhang/Projects/3d/ProteinWorkshop/proteinworkshop/datasets/fold_classification.py\u001b\\\u001b[2mfold_classification.py\u001b[0m\u001b]8;;\u001b\\\u001b[2m:\u001b[0m\u001b]8;id=98809;file:///home/zhang/Projects/3d/ProteinWorkshop/proteinworkshop/datasets/fold_classification.py#154\u001b\\\u001b[2m154\u001b[0m\u001b]8;;\u001b\\\n",
       "\u001b[2;36m                    \u001b[0m         \u001b[35m/home/zhang/Projects/3d/ProteinWorkshop/proteinworkshop/dat\u001b[0m \u001b[2m                          \u001b[0m\n",
       "\u001b[2;36m                    \u001b[0m         \u001b[35ma/FoldClassification/\u001b[0m\u001b[95mclass_map.txt\u001b[0m                          \u001b[2m                          \u001b[0m\n"
      ]
     },
     "metadata": {},
     "output_type": "display_data"
    },
    {
     "data": {
      "text/html": [
       "<pre style=\"white-space:pre;overflow-x:auto;line-height:normal;font-family:Menlo,'DejaVu Sans Mono',consolas,'Courier New',monospace\"><span style=\"color: #7fbfbf; text-decoration-color: #7fbfbf\">                    </span><span style=\"color: #000080; text-decoration-color: #000080\">INFO    </span> Found <span style=\"color: #008080; text-decoration-color: #008080; font-weight: bold\">12312</span> original examples in training                   <a href=\"file:///home/zhang/Projects/3d/ProteinWorkshop/proteinworkshop/datasets/fold_classification.py\" target=\"_blank\"><span style=\"color: #7f7f7f; text-decoration-color: #7f7f7f\">fold_classification.py</span></a><span style=\"color: #7f7f7f; text-decoration-color: #7f7f7f\">:</span><a href=\"file:///home/zhang/Projects/3d/ProteinWorkshop/proteinworkshop/datasets/fold_classification.py#234\" target=\"_blank\"><span style=\"color: #7f7f7f; text-decoration-color: #7f7f7f\">234</span></a>\n",
       "</pre>\n"
      ],
      "text/plain": [
       "\u001b[2;36m                   \u001b[0m\u001b[2;36m \u001b[0m\u001b[34mINFO    \u001b[0m Found \u001b[1;36m12312\u001b[0m original examples in training                   \u001b]8;id=440552;file:///home/zhang/Projects/3d/ProteinWorkshop/proteinworkshop/datasets/fold_classification.py\u001b\\\u001b[2mfold_classification.py\u001b[0m\u001b]8;;\u001b\\\u001b[2m:\u001b[0m\u001b]8;id=448328;file:///home/zhang/Projects/3d/ProteinWorkshop/proteinworkshop/datasets/fold_classification.py#234\u001b\\\u001b[2m234\u001b[0m\u001b]8;;\u001b\\\n"
      ]
     },
     "metadata": {},
     "output_type": "display_data"
    },
    {
     "data": {
      "text/html": [
       "<pre style=\"white-space:pre;overflow-x:auto;line-height:normal;font-family:Menlo,'DejaVu Sans Mono',consolas,'Courier New',monospace\"><span style=\"color: #7fbfbf; text-decoration-color: #7fbfbf\">                    </span><span style=\"color: #000080; text-decoration-color: #000080\">INFO    </span> Identified <span style=\"color: #008080; text-decoration-color: #008080; font-weight: bold\">1195</span> classes                                     <a href=\"file:///home/zhang/Projects/3d/ProteinWorkshop/proteinworkshop/datasets/fold_classification.py\" target=\"_blank\"><span style=\"color: #7f7f7f; text-decoration-color: #7f7f7f\">fold_classification.py</span></a><span style=\"color: #7f7f7f; text-decoration-color: #7f7f7f\">:</span><a href=\"file:///home/zhang/Projects/3d/ProteinWorkshop/proteinworkshop/datasets/fold_classification.py#247\" target=\"_blank\"><span style=\"color: #7f7f7f; text-decoration-color: #7f7f7f\">247</span></a>\n",
       "</pre>\n"
      ],
      "text/plain": [
       "\u001b[2;36m                   \u001b[0m\u001b[2;36m \u001b[0m\u001b[34mINFO    \u001b[0m Identified \u001b[1;36m1195\u001b[0m classes                                     \u001b]8;id=314192;file:///home/zhang/Projects/3d/ProteinWorkshop/proteinworkshop/datasets/fold_classification.py\u001b\\\u001b[2mfold_classification.py\u001b[0m\u001b]8;;\u001b\\\u001b[2m:\u001b[0m\u001b]8;id=133651;file:///home/zhang/Projects/3d/ProteinWorkshop/proteinworkshop/datasets/fold_classification.py#247\u001b\\\u001b[2m247\u001b[0m\u001b]8;;\u001b\\\n"
      ]
     },
     "metadata": {},
     "output_type": "display_data"
    },
    {
     "data": {
      "text/html": [
       "<pre style=\"white-space:pre;overflow-x:auto;line-height:normal;font-family:Menlo,'DejaVu Sans Mono',consolas,'Courier New',monospace\"><span style=\"color: #7fbfbf; text-decoration-color: #7fbfbf\">                    </span><span style=\"color: #000080; text-decoration-color: #000080\">INFO    </span> All structures already processed and <span style=\"color: #808000; text-decoration-color: #808000\">overwrite</span>=<span style=\"color: #ff0000; text-decoration-color: #ff0000; font-style: italic\">False</span>. Skipping download.   <a href=\"file:///home/zhang/Projects/3d/ProteinWorkshop/proteinworkshop/datasets/base.py\" target=\"_blank\"><span style=\"color: #7f7f7f; text-decoration-color: #7f7f7f\">base.py</span></a><span style=\"color: #7f7f7f; text-decoration-color: #7f7f7f\">:</span><a href=\"file:///home/zhang/Projects/3d/ProteinWorkshop/proteinworkshop/datasets/base.py#327\" target=\"_blank\"><span style=\"color: #7f7f7f; text-decoration-color: #7f7f7f\">327</span></a>\n",
       "</pre>\n"
      ],
      "text/plain": [
       "\u001b[2;36m                   \u001b[0m\u001b[2;36m \u001b[0m\u001b[34mINFO    \u001b[0m All structures already processed and \u001b[33moverwrite\u001b[0m=\u001b[3;91mFalse\u001b[0m. Skipping download.   \u001b]8;id=164653;file:///home/zhang/Projects/3d/ProteinWorkshop/proteinworkshop/datasets/base.py\u001b\\\u001b[2mbase.py\u001b[0m\u001b]8;;\u001b\\\u001b[2m:\u001b[0m\u001b]8;id=723890;file:///home/zhang/Projects/3d/ProteinWorkshop/proteinworkshop/datasets/base.py#327\u001b\\\u001b[2m327\u001b[0m\u001b]8;;\u001b\\\n"
      ]
     },
     "metadata": {},
     "output_type": "display_data"
    },
    {
     "data": {
      "text/html": [
       "<pre style=\"white-space:pre;overflow-x:auto;line-height:normal;font-family:Menlo,'DejaVu Sans Mono',consolas,'Courier New',monospace\"><span style=\"color: #7fbfbf; text-decoration-color: #7fbfbf\">                    </span><span style=\"color: #800000; text-decoration-color: #800000\">WARNING </span> Downloads in .ent format are assumed to be from ASTRAL. These data should  <a href=\"file:///home/zhang/Projects/3d/ProteinWorkshop/proteinworkshop/datasets/base.py\" target=\"_blank\"><span style=\"color: #7f7f7f; text-decoration-color: #7f7f7f\">base.py</span></a><span style=\"color: #7f7f7f; text-decoration-color: #7f7f7f\">:</span><a href=\"file:///home/zhang/Projects/3d/ProteinWorkshop/proteinworkshop/datasets/base.py#357\" target=\"_blank\"><span style=\"color: #7f7f7f; text-decoration-color: #7f7f7f\">357</span></a>\n",
       "<span style=\"color: #7fbfbf; text-decoration-color: #7fbfbf\">                    </span>         have already been downloaded                                               <span style=\"color: #7f7f7f; text-decoration-color: #7f7f7f\">           </span>\n",
       "</pre>\n"
      ],
      "text/plain": [
       "\u001b[2;36m                   \u001b[0m\u001b[2;36m \u001b[0m\u001b[31mWARNING \u001b[0m Downloads in .ent format are assumed to be from ASTRAL. These data should  \u001b]8;id=976023;file:///home/zhang/Projects/3d/ProteinWorkshop/proteinworkshop/datasets/base.py\u001b\\\u001b[2mbase.py\u001b[0m\u001b]8;;\u001b\\\u001b[2m:\u001b[0m\u001b]8;id=442275;file:///home/zhang/Projects/3d/ProteinWorkshop/proteinworkshop/datasets/base.py#357\u001b\\\u001b[2m357\u001b[0m\u001b]8;;\u001b\\\n",
       "\u001b[2;36m                    \u001b[0m         have already been downloaded                                               \u001b[2m           \u001b[0m\n"
      ]
     },
     "metadata": {},
     "output_type": "display_data"
    },
    {
     "data": {
      "text/html": [
       "<pre style=\"white-space:pre;overflow-x:auto;line-height:normal;font-family:Menlo,'DejaVu Sans Mono',consolas,'Courier New',monospace\"><span style=\"color: #7fbfbf; text-decoration-color: #7fbfbf\">                    </span><span style=\"color: #000080; text-decoration-color: #000080\">INFO    </span> Reading data into memory                                                   <a href=\"file:///home/zhang/Projects/3d/ProteinWorkshop/proteinworkshop/datasets/base.py\" target=\"_blank\"><span style=\"color: #7f7f7f; text-decoration-color: #7f7f7f\">base.py</span></a><span style=\"color: #7f7f7f; text-decoration-color: #7f7f7f\">:</span><a href=\"file:///home/zhang/Projects/3d/ProteinWorkshop/proteinworkshop/datasets/base.py#337\" target=\"_blank\"><span style=\"color: #7f7f7f; text-decoration-color: #7f7f7f\">337</span></a>\n",
       "</pre>\n"
      ],
      "text/plain": [
       "\u001b[2;36m                   \u001b[0m\u001b[2;36m \u001b[0m\u001b[34mINFO    \u001b[0m Reading data into memory                                                   \u001b]8;id=220465;file:///home/zhang/Projects/3d/ProteinWorkshop/proteinworkshop/datasets/base.py\u001b\\\u001b[2mbase.py\u001b[0m\u001b]8;;\u001b\\\u001b[2m:\u001b[0m\u001b]8;id=264837;file:///home/zhang/Projects/3d/ProteinWorkshop/proteinworkshop/datasets/base.py#337\u001b\\\u001b[2m337\u001b[0m\u001b]8;;\u001b\\\n"
      ]
     },
     "metadata": {},
     "output_type": "display_data"
    },
    {
     "name": "stderr",
     "output_type": "stream",
     "text": [
      "100%|██████████| 12312/12312 [00:02<00:00, 4441.32it/s]\n"
     ]
    },
    {
     "data": {
      "text/html": [
       "<pre style=\"white-space:pre;overflow-x:auto;line-height:normal;font-family:Menlo,'DejaVu Sans Mono',consolas,'Courier New',monospace\"><span style=\"color: #7fbfbf; text-decoration-color: #7fbfbf\">[07/19/24 18:09:40] </span><span style=\"color: #000080; text-decoration-color: #000080\">INFO    </span> Preprocessing validation data                                               <a href=\"file:///home/zhang/Projects/3d/ProteinWorkshop/proteinworkshop/datasets/base.py\" target=\"_blank\"><span style=\"color: #7f7f7f; text-decoration-color: #7f7f7f\">base.py</span></a><span style=\"color: #7f7f7f; text-decoration-color: #7f7f7f\">:</span><a href=\"file:///home/zhang/Projects/3d/ProteinWorkshop/proteinworkshop/datasets/base.py#89\" target=\"_blank\"><span style=\"color: #7f7f7f; text-decoration-color: #7f7f7f\">89</span></a>\n",
       "</pre>\n"
      ],
      "text/plain": [
       "\u001b[2;36m[07/19/24 18:09:40]\u001b[0m\u001b[2;36m \u001b[0m\u001b[34mINFO    \u001b[0m Preprocessing validation data                                               \u001b]8;id=911509;file:///home/zhang/Projects/3d/ProteinWorkshop/proteinworkshop/datasets/base.py\u001b\\\u001b[2mbase.py\u001b[0m\u001b]8;;\u001b\\\u001b[2m:\u001b[0m\u001b]8;id=217036;file:///home/zhang/Projects/3d/ProteinWorkshop/proteinworkshop/datasets/base.py#89\u001b\\\u001b[2m89\u001b[0m\u001b]8;;\u001b\\\n"
      ]
     },
     "metadata": {},
     "output_type": "display_data"
    },
    {
     "name": "stderr",
     "output_type": "stream",
     "text": [
      "/home/zhang/miniconda3/envs/3d/lib/python3.10/site-packages/lightning/pytorch/callbacks/model_checkpoint.py:652: UserWarning:\n",
      "\n",
      "Checkpoint directory /home/zhang/Projects/3d/ProteinWorkshop/notebooks/outputs/checkpoints exists and is not empty.\n",
      "\n",
      "LOCAL_RANK: 0 - CUDA_VISIBLE_DEVICES: [0]\n"
     ]
    },
    {
     "data": {
      "text/html": [
       "<pre style=\"white-space:pre;overflow-x:auto;line-height:normal;font-family:Menlo,'DejaVu Sans Mono',consolas,'Courier New',monospace\"><span style=\"color: #7fbfbf; text-decoration-color: #7fbfbf\">                    </span><span style=\"color: #000080; text-decoration-color: #000080\">INFO    </span> Instantiating optimiser<span style=\"color: #808000; text-decoration-color: #808000\">...</span>                                                 <a href=\"file:///home/zhang/Projects/3d/ProteinWorkshop/proteinworkshop/models/base.py\" target=\"_blank\"><span style=\"color: #7f7f7f; text-decoration-color: #7f7f7f\">base.py</span></a><span style=\"color: #7f7f7f; text-decoration-color: #7f7f7f\">:</span><a href=\"file:///home/zhang/Projects/3d/ProteinWorkshop/proteinworkshop/models/base.py#215\" target=\"_blank\"><span style=\"color: #7f7f7f; text-decoration-color: #7f7f7f\">215</span></a>\n",
       "</pre>\n"
      ],
      "text/plain": [
       "\u001b[2;36m                   \u001b[0m\u001b[2;36m \u001b[0m\u001b[34mINFO    \u001b[0m Instantiating optimiser\u001b[33m...\u001b[0m                                                 \u001b]8;id=903545;file:///home/zhang/Projects/3d/ProteinWorkshop/proteinworkshop/models/base.py\u001b\\\u001b[2mbase.py\u001b[0m\u001b]8;;\u001b\\\u001b[2m:\u001b[0m\u001b]8;id=115265;file:///home/zhang/Projects/3d/ProteinWorkshop/proteinworkshop/models/base.py#215\u001b\\\u001b[2m215\u001b[0m\u001b]8;;\u001b\\\n"
      ]
     },
     "metadata": {},
     "output_type": "display_data"
    },
    {
     "data": {
      "text/html": [
       "<pre style=\"white-space:pre;overflow-x:auto;line-height:normal;font-family:Menlo,'DejaVu Sans Mono',consolas,'Courier New',monospace\"><span style=\"color: #7fbfbf; text-decoration-color: #7fbfbf\">                    </span><span style=\"color: #000080; text-decoration-color: #000080\">INFO    </span> <span style=\"color: #800080; text-decoration-color: #800080; font-weight: bold\">functools.partial</span><span style=\"font-weight: bold\">(&lt;</span><span style=\"color: #ff00ff; text-decoration-color: #ff00ff; font-weight: bold\">class</span><span style=\"color: #000000; text-decoration-color: #000000\"> </span><span style=\"color: #008000; text-decoration-color: #008000\">'torch.optim.adam.Adam'</span><span style=\"font-weight: bold\">&gt;</span>, <span style=\"color: #808000; text-decoration-color: #808000\">lr</span>=<span style=\"color: #008080; text-decoration-color: #008080; font-weight: bold\">0.0005</span>,              <a href=\"file:///home/zhang/Projects/3d/ProteinWorkshop/proteinworkshop/models/base.py\" target=\"_blank\"><span style=\"color: #7f7f7f; text-decoration-color: #7f7f7f\">base.py</span></a><span style=\"color: #7f7f7f; text-decoration-color: #7f7f7f\">:</span><a href=\"file:///home/zhang/Projects/3d/ProteinWorkshop/proteinworkshop/models/base.py#217\" target=\"_blank\"><span style=\"color: #7f7f7f; text-decoration-color: #7f7f7f\">217</span></a>\n",
       "<span style=\"color: #7fbfbf; text-decoration-color: #7fbfbf\">                    </span>         <span style=\"color: #808000; text-decoration-color: #808000\">weight_decay</span>=<span style=\"color: #008080; text-decoration-color: #008080; font-weight: bold\">0.0</span><span style=\"font-weight: bold\">)</span>                                                          <span style=\"color: #7f7f7f; text-decoration-color: #7f7f7f\">           </span>\n",
       "</pre>\n"
      ],
      "text/plain": [
       "\u001b[2;36m                   \u001b[0m\u001b[2;36m \u001b[0m\u001b[34mINFO    \u001b[0m \u001b[1;35mfunctools.partial\u001b[0m\u001b[1m(\u001b[0m\u001b[1m<\u001b[0m\u001b[1;95mclass\u001b[0m\u001b[39m \u001b[0m\u001b[32m'torch.optim.adam.Adam'\u001b[0m\u001b[1m>\u001b[0m, \u001b[33mlr\u001b[0m=\u001b[1;36m0\u001b[0m\u001b[1;36m.0005\u001b[0m,              \u001b]8;id=594718;file:///home/zhang/Projects/3d/ProteinWorkshop/proteinworkshop/models/base.py\u001b\\\u001b[2mbase.py\u001b[0m\u001b]8;;\u001b\\\u001b[2m:\u001b[0m\u001b]8;id=643699;file:///home/zhang/Projects/3d/ProteinWorkshop/proteinworkshop/models/base.py#217\u001b\\\u001b[2m217\u001b[0m\u001b]8;;\u001b\\\n",
       "\u001b[2;36m                    \u001b[0m         \u001b[33mweight_decay\u001b[0m=\u001b[1;36m0\u001b[0m\u001b[1;36m.0\u001b[0m\u001b[1m)\u001b[0m                                                          \u001b[2m           \u001b[0m\n"
      ]
     },
     "metadata": {},
     "output_type": "display_data"
    },
    {
     "data": {
      "text/html": [
       "<pre style=\"white-space:pre;overflow-x:auto;line-height:normal;font-family:Menlo,'DejaVu Sans Mono',consolas,'Courier New',monospace\"><span style=\"color: #7fbfbf; text-decoration-color: #7fbfbf\">                    </span><span style=\"color: #000080; text-decoration-color: #000080\">INFO    </span> Instantiating scheduler<span style=\"color: #808000; text-decoration-color: #808000\">...</span>                                                 <a href=\"file:///home/zhang/Projects/3d/ProteinWorkshop/proteinworkshop/models/base.py\" target=\"_blank\"><span style=\"color: #7f7f7f; text-decoration-color: #7f7f7f\">base.py</span></a><span style=\"color: #7f7f7f; text-decoration-color: #7f7f7f\">:</span><a href=\"file:///home/zhang/Projects/3d/ProteinWorkshop/proteinworkshop/models/base.py#221\" target=\"_blank\"><span style=\"color: #7f7f7f; text-decoration-color: #7f7f7f\">221</span></a>\n",
       "</pre>\n"
      ],
      "text/plain": [
       "\u001b[2;36m                   \u001b[0m\u001b[2;36m \u001b[0m\u001b[34mINFO    \u001b[0m Instantiating scheduler\u001b[33m...\u001b[0m                                                 \u001b]8;id=413983;file:///home/zhang/Projects/3d/ProteinWorkshop/proteinworkshop/models/base.py\u001b\\\u001b[2mbase.py\u001b[0m\u001b]8;;\u001b\\\u001b[2m:\u001b[0m\u001b]8;id=778764;file:///home/zhang/Projects/3d/ProteinWorkshop/proteinworkshop/models/base.py#221\u001b\\\u001b[2m221\u001b[0m\u001b]8;;\u001b\\\n"
      ]
     },
     "metadata": {},
     "output_type": "display_data"
    },
    {
     "data": {
      "text/html": [
       "<pre style=\"white-space:pre;overflow-x:auto;line-height:normal;font-family:Menlo,'DejaVu Sans Mono',consolas,'Courier New',monospace\"><span style=\"color: #7fbfbf; text-decoration-color: #7fbfbf\">                    </span><span style=\"color: #000080; text-decoration-color: #000080\">INFO    </span> Optimiser configuration: <span style=\"font-weight: bold\">{</span><span style=\"color: #008000; text-decoration-color: #008000\">'optimizer'</span>: Adam <span style=\"font-weight: bold\">(</span>                              <a href=\"file:///home/zhang/Projects/3d/ProteinWorkshop/proteinworkshop/models/base.py\" target=\"_blank\"><span style=\"color: #7f7f7f; text-decoration-color: #7f7f7f\">base.py</span></a><span style=\"color: #7f7f7f; text-decoration-color: #7f7f7f\">:</span><a href=\"file:///home/zhang/Projects/3d/ProteinWorkshop/proteinworkshop/models/base.py#233\" target=\"_blank\"><span style=\"color: #7f7f7f; text-decoration-color: #7f7f7f\">233</span></a>\n",
       "<span style=\"color: #7fbfbf; text-decoration-color: #7fbfbf\">                    </span>         Parameter Group <span style=\"color: #008080; text-decoration-color: #008080; font-weight: bold\">0</span>                                                          <span style=\"color: #7f7f7f; text-decoration-color: #7f7f7f\">           </span>\n",
       "<span style=\"color: #7fbfbf; text-decoration-color: #7fbfbf\">                    </span>             amsgrad: <span style=\"color: #ff0000; text-decoration-color: #ff0000; font-style: italic\">False</span>                                                         <span style=\"color: #7f7f7f; text-decoration-color: #7f7f7f\">           </span>\n",
       "<span style=\"color: #7fbfbf; text-decoration-color: #7fbfbf\">                    </span>             betas: <span style=\"font-weight: bold\">(</span><span style=\"color: #008080; text-decoration-color: #008080; font-weight: bold\">0.9</span>, <span style=\"color: #008080; text-decoration-color: #008080; font-weight: bold\">0.999</span><span style=\"font-weight: bold\">)</span>                                                    <span style=\"color: #7f7f7f; text-decoration-color: #7f7f7f\">           </span>\n",
       "<span style=\"color: #7fbfbf; text-decoration-color: #7fbfbf\">                    </span>             capturable: <span style=\"color: #ff0000; text-decoration-color: #ff0000; font-style: italic\">False</span>                                                      <span style=\"color: #7f7f7f; text-decoration-color: #7f7f7f\">           </span>\n",
       "<span style=\"color: #7fbfbf; text-decoration-color: #7fbfbf\">                    </span>             differentiable: <span style=\"color: #ff0000; text-decoration-color: #ff0000; font-style: italic\">False</span>                                                  <span style=\"color: #7f7f7f; text-decoration-color: #7f7f7f\">           </span>\n",
       "<span style=\"color: #7fbfbf; text-decoration-color: #7fbfbf\">                    </span>             eps: <span style=\"color: #008080; text-decoration-color: #008080; font-weight: bold\">1e-08</span>                                                             <span style=\"color: #7f7f7f; text-decoration-color: #7f7f7f\">           </span>\n",
       "<span style=\"color: #7fbfbf; text-decoration-color: #7fbfbf\">                    </span>             foreach: <span style=\"color: #800080; text-decoration-color: #800080; font-style: italic\">None</span>                                                          <span style=\"color: #7f7f7f; text-decoration-color: #7f7f7f\">           </span>\n",
       "<span style=\"color: #7fbfbf; text-decoration-color: #7fbfbf\">                    </span>             fused: <span style=\"color: #800080; text-decoration-color: #800080; font-style: italic\">None</span>                                                            <span style=\"color: #7f7f7f; text-decoration-color: #7f7f7f\">           </span>\n",
       "<span style=\"color: #7fbfbf; text-decoration-color: #7fbfbf\">                    </span>             initial_lr: <span style=\"color: #008080; text-decoration-color: #008080; font-weight: bold\">0.0005</span>                                                     <span style=\"color: #7f7f7f; text-decoration-color: #7f7f7f\">           </span>\n",
       "<span style=\"color: #7fbfbf; text-decoration-color: #7fbfbf\">                    </span>             lr: <span style=\"color: #008080; text-decoration-color: #008080; font-weight: bold\">0.0005</span>                                                             <span style=\"color: #7f7f7f; text-decoration-color: #7f7f7f\">           </span>\n",
       "<span style=\"color: #7fbfbf; text-decoration-color: #7fbfbf\">                    </span>             maximize: <span style=\"color: #ff0000; text-decoration-color: #ff0000; font-style: italic\">False</span>                                                        <span style=\"color: #7f7f7f; text-decoration-color: #7f7f7f\">           </span>\n",
       "<span style=\"color: #7fbfbf; text-decoration-color: #7fbfbf\">                    </span>             weight_decay: <span style=\"color: #008080; text-decoration-color: #008080; font-weight: bold\">0.0</span>                                                      <span style=\"color: #7f7f7f; text-decoration-color: #7f7f7f\">           </span>\n",
       "<span style=\"color: #7fbfbf; text-decoration-color: #7fbfbf\">                    </span>         <span style=\"font-weight: bold\">)</span>, <span style=\"color: #008000; text-decoration-color: #008000\">'lr_scheduler'</span>: <span style=\"font-weight: bold\">{</span><span style=\"color: #008000; text-decoration-color: #008000\">'scheduler'</span>: <span style=\"font-weight: bold\">&lt;</span><span style=\"color: #ff00ff; text-decoration-color: #ff00ff; font-weight: bold\">torch.optim.lr_scheduler.StepLR</span><span style=\"color: #000000; text-decoration-color: #000000\"> object </span>  <span style=\"color: #7f7f7f; text-decoration-color: #7f7f7f\">           </span>\n",
       "<span style=\"color: #7fbfbf; text-decoration-color: #7fbfbf\">                    </span>         <span style=\"color: #000000; text-decoration-color: #000000\">at </span><span style=\"color: #008080; text-decoration-color: #008080; font-weight: bold\">0x7b5233dbf430</span><span style=\"font-weight: bold\">&gt;</span>, <span style=\"color: #008000; text-decoration-color: #008000\">'interval'</span>: <span style=\"color: #008000; text-decoration-color: #008000\">'epoch'</span>, <span style=\"color: #008000; text-decoration-color: #008000\">'frequency'</span>: <span style=\"color: #008080; text-decoration-color: #008080; font-weight: bold\">1</span>, <span style=\"color: #008000; text-decoration-color: #008000\">'name'</span>:           <span style=\"color: #7f7f7f; text-decoration-color: #7f7f7f\">           </span>\n",
       "<span style=\"color: #7fbfbf; text-decoration-color: #7fbfbf\">                    </span>         <span style=\"color: #008000; text-decoration-color: #008000\">'learning_rate'</span><span style=\"font-weight: bold\">}}</span>                                                          <span style=\"color: #7f7f7f; text-decoration-color: #7f7f7f\">           </span>\n",
       "</pre>\n"
      ],
      "text/plain": [
       "\u001b[2;36m                   \u001b[0m\u001b[2;36m \u001b[0m\u001b[34mINFO    \u001b[0m Optimiser configuration: \u001b[1m{\u001b[0m\u001b[32m'optimizer'\u001b[0m: Adam \u001b[1m(\u001b[0m                              \u001b]8;id=697363;file:///home/zhang/Projects/3d/ProteinWorkshop/proteinworkshop/models/base.py\u001b\\\u001b[2mbase.py\u001b[0m\u001b]8;;\u001b\\\u001b[2m:\u001b[0m\u001b]8;id=401297;file:///home/zhang/Projects/3d/ProteinWorkshop/proteinworkshop/models/base.py#233\u001b\\\u001b[2m233\u001b[0m\u001b]8;;\u001b\\\n",
       "\u001b[2;36m                    \u001b[0m         Parameter Group \u001b[1;36m0\u001b[0m                                                          \u001b[2m           \u001b[0m\n",
       "\u001b[2;36m                    \u001b[0m             amsgrad: \u001b[3;91mFalse\u001b[0m                                                         \u001b[2m           \u001b[0m\n",
       "\u001b[2;36m                    \u001b[0m             betas: \u001b[1m(\u001b[0m\u001b[1;36m0.9\u001b[0m, \u001b[1;36m0.999\u001b[0m\u001b[1m)\u001b[0m                                                    \u001b[2m           \u001b[0m\n",
       "\u001b[2;36m                    \u001b[0m             capturable: \u001b[3;91mFalse\u001b[0m                                                      \u001b[2m           \u001b[0m\n",
       "\u001b[2;36m                    \u001b[0m             differentiable: \u001b[3;91mFalse\u001b[0m                                                  \u001b[2m           \u001b[0m\n",
       "\u001b[2;36m                    \u001b[0m             eps: \u001b[1;36m1e-08\u001b[0m                                                             \u001b[2m           \u001b[0m\n",
       "\u001b[2;36m                    \u001b[0m             foreach: \u001b[3;35mNone\u001b[0m                                                          \u001b[2m           \u001b[0m\n",
       "\u001b[2;36m                    \u001b[0m             fused: \u001b[3;35mNone\u001b[0m                                                            \u001b[2m           \u001b[0m\n",
       "\u001b[2;36m                    \u001b[0m             initial_lr: \u001b[1;36m0.0005\u001b[0m                                                     \u001b[2m           \u001b[0m\n",
       "\u001b[2;36m                    \u001b[0m             lr: \u001b[1;36m0.0005\u001b[0m                                                             \u001b[2m           \u001b[0m\n",
       "\u001b[2;36m                    \u001b[0m             maximize: \u001b[3;91mFalse\u001b[0m                                                        \u001b[2m           \u001b[0m\n",
       "\u001b[2;36m                    \u001b[0m             weight_decay: \u001b[1;36m0.0\u001b[0m                                                      \u001b[2m           \u001b[0m\n",
       "\u001b[2;36m                    \u001b[0m         \u001b[1m)\u001b[0m, \u001b[32m'lr_scheduler'\u001b[0m: \u001b[1m{\u001b[0m\u001b[32m'scheduler'\u001b[0m: \u001b[1m<\u001b[0m\u001b[1;95mtorch.optim.lr_scheduler.StepLR\u001b[0m\u001b[39m object \u001b[0m  \u001b[2m           \u001b[0m\n",
       "\u001b[2;36m                    \u001b[0m         \u001b[39mat \u001b[0m\u001b[1;36m0x7b5233dbf430\u001b[0m\u001b[1m>\u001b[0m, \u001b[32m'interval'\u001b[0m: \u001b[32m'epoch'\u001b[0m, \u001b[32m'frequency'\u001b[0m: \u001b[1;36m1\u001b[0m, \u001b[32m'name'\u001b[0m:           \u001b[2m           \u001b[0m\n",
       "\u001b[2;36m                    \u001b[0m         \u001b[32m'learning_rate'\u001b[0m\u001b[1m}\u001b[0m\u001b[1m}\u001b[0m                                                          \u001b[2m           \u001b[0m\n"
      ]
     },
     "metadata": {},
     "output_type": "display_data"
    },
    {
     "name": "stderr",
     "output_type": "stream",
     "text": [
      "/home/zhang/miniconda3/envs/3d/lib/python3.10/site-packages/lightning/pytorch/trainer/connectors/data_connector.py:368: UserWarning:\n",
      "\n",
      "You have overridden `on_after_batch_transfer` in `LightningModule` but have passed in a `LightningDataModule`. It will use the implementation from `LightningModule` instance.\n",
      "\n"
     ]
    },
    {
     "name": "stdout",
     "output_type": "stream",
     "text": [
      "===== New ========================\n",
      "ProteinProteinBatch(fill_value=[32], atom_list=[32], residue_id=[32], residue_type=[10722], chains=[10722], residues=[32], coords=[10722, 37, 3], id=[32], x=[10722, 23], seq_pos=[10722, 1], batch=[10722], ptr=[33], pos=[10722, 3], edge_index=[2, 171552], edge_type=[1, 171552], num_relation=1, edge_attr=[171552, 1])\n",
      "z - min: 0, max: 22, NaNs: 0\n",
      "pos - min: -35.426998138427734, max: 68.61599731445312, NaNs: 0\n",
      "x - min: -3.771965265274048, max: 3.211082935333252, NaNs: 0\n",
      "pos_emb - min: -0.9999998211860657, max: 0.9999999403953552, NaNs: 0\n",
      "edge_index tensor[2, 171552] i64 n=343104 (2.6Mb) x∈[0, 10721] μ=5.361e+03 σ=3.095e+03 cuda:0\n",
      "j: tensor[171552] i64 1.3Mb x∈[0, 10721] μ=5.361e+03 σ=3.095e+03 cuda:0\n",
      "i: tensor[171552] i64 1.3Mb x∈[0, 10721] μ=5.360e+03 σ=3.095e+03 cuda:0\n",
      "False\n",
      "dist - min: 2.9007694721221924, max: 16.78297996520996, NaNs: 0\n",
      "theta - min: 5.256612506387981e-11, max: 3.1334612369537354, NaNs: 0\n",
      "phi - min: -3.1415634155273438, max: 3.140479803085327, NaNs: 0\n",
      "feature0 - min: -2.367601156234741, max: 2.3753185272216797, NaNs: 0\n",
      "feature1 - min: -2.3575074672698975, max: 2.3169593811035156, NaNs: 0\n",
      "interaction_block - min: -0.019265837967395782, max: 0.016668671742081642, NaNs: 0\n",
      "y - min: 0.0, max: 0.3336552083492279, NaNs: 0\n",
      "lin_out - min: -0.1386062502861023, max: 0.12507110834121704, NaNs: 0\n"
     ]
    },
    {
     "data": {
      "text/html": [
       "<pre style=\"white-space:pre;overflow-x:auto;line-height:normal;font-family:Menlo,'DejaVu Sans Mono',consolas,'Courier New',monospace\">┏━━━━━┳━━━━━━━━━━━━━━━━━━━━━━━━━━━━━━━━━━━━━━━━━━━━━━━━┳━━━━━━━━━━━━━┳━━━━━━━━┳━━━━━━━┳━━━━━━━━━━━━━┳━━━━━━━━━━━━━┓\n",
       "┃<span style=\"color: #800080; text-decoration-color: #800080; font-weight: bold\">     </span>┃<span style=\"color: #800080; text-decoration-color: #800080; font-weight: bold\"> Name                                           </span>┃<span style=\"color: #800080; text-decoration-color: #800080; font-weight: bold\"> Type        </span>┃<span style=\"color: #800080; text-decoration-color: #800080; font-weight: bold\"> Params </span>┃<span style=\"color: #800080; text-decoration-color: #800080; font-weight: bold\"> Mode  </span>┃<span style=\"color: #800080; text-decoration-color: #800080; font-weight: bold\">    In sizes </span>┃<span style=\"color: #800080; text-decoration-color: #800080; font-weight: bold\">   Out sizes </span>┃\n",
       "┡━━━━━╇━━━━━━━━━━━━━━━━━━━━━━━━━━━━━━━━━━━━━━━━━━━━━━━━╇━━━━━━━━━━━━━╇━━━━━━━━╇━━━━━━━╇━━━━━━━━━━━━━╇━━━━━━━━━━━━━┩\n",
       "│<span style=\"color: #7f7f7f; text-decoration-color: #7f7f7f\"> 0   </span>│ encoder                                        │ ProNet      │  1.5 M │ train │<span style=\"color: #c0c0c0; text-decoration-color: #c0c0c0\">           ? </span>│<span style=\"color: #c0c0c0; text-decoration-color: #c0c0c0\">           ? </span>│\n",
       "│<span style=\"color: #7f7f7f; text-decoration-color: #7f7f7f\"> 1   </span>│ encoder.feature0                               │ d_theta_ph… │      0 │ train │<span style=\"color: #c0c0c0; text-decoration-color: #c0c0c0\">  [[171552], </span>│<span style=\"color: #c0c0c0; text-decoration-color: #c0c0c0\">    [171552, </span>│\n",
       "│<span style=\"color: #7f7f7f; text-decoration-color: #7f7f7f\">     </span>│                                                │             │        │       │<span style=\"color: #c0c0c0; text-decoration-color: #c0c0c0\">   [171552], </span>│<span style=\"color: #c0c0c0; text-decoration-color: #c0c0c0\">         24] </span>│\n",
       "│<span style=\"color: #7f7f7f; text-decoration-color: #7f7f7f\">     </span>│                                                │             │        │       │<span style=\"color: #c0c0c0; text-decoration-color: #c0c0c0\">   [171552]] </span>│<span style=\"color: #c0c0c0; text-decoration-color: #c0c0c0\">             </span>│\n",
       "│<span style=\"color: #7f7f7f; text-decoration-color: #7f7f7f\"> 2   </span>│ encoder.feature1                               │ d_angle_emb │      0 │ train │<span style=\"color: #c0c0c0; text-decoration-color: #c0c0c0\">  [[171552], </span>│<span style=\"color: #c0c0c0; text-decoration-color: #c0c0c0\">    [171552, </span>│\n",
       "│<span style=\"color: #7f7f7f; text-decoration-color: #7f7f7f\">     </span>│                                                │             │        │       │<span style=\"color: #c0c0c0; text-decoration-color: #c0c0c0\">   [171552]] </span>│<span style=\"color: #c0c0c0; text-decoration-color: #c0c0c0\">         12] </span>│\n",
       "│<span style=\"color: #7f7f7f; text-decoration-color: #7f7f7f\"> 3   </span>│ encoder.embedding                              │ Embedding   │  3.3 K │ train │<span style=\"color: #c0c0c0; text-decoration-color: #c0c0c0\">     [10722] </span>│<span style=\"color: #c0c0c0; text-decoration-color: #c0c0c0\">     [10722, </span>│\n",
       "│<span style=\"color: #7f7f7f; text-decoration-color: #7f7f7f\">     </span>│                                                │             │        │       │<span style=\"color: #c0c0c0; text-decoration-color: #c0c0c0\">             </span>│<span style=\"color: #c0c0c0; text-decoration-color: #c0c0c0\">        128] </span>│\n",
       "│<span style=\"color: #7f7f7f; text-decoration-color: #7f7f7f\"> 4   </span>│ encoder.interaction_blocks                     │ ModuleList  │  1.4 M │ train │<span style=\"color: #c0c0c0; text-decoration-color: #c0c0c0\">           ? </span>│<span style=\"color: #c0c0c0; text-decoration-color: #c0c0c0\">           ? </span>│\n",
       "│<span style=\"color: #7f7f7f; text-decoration-color: #7f7f7f\"> 5   </span>│ encoder.interaction_blocks.0                   │ Interactio… │  340 K │ train │<span style=\"color: #c0c0c0; text-decoration-color: #c0c0c0\">    [[10722, </span>│<span style=\"color: #c0c0c0; text-decoration-color: #c0c0c0\">     [10722, </span>│\n",
       "│<span style=\"color: #7f7f7f; text-decoration-color: #7f7f7f\">     </span>│                                                │             │        │       │<span style=\"color: #c0c0c0; text-decoration-color: #c0c0c0\">       128], </span>│<span style=\"color: #c0c0c0; text-decoration-color: #c0c0c0\">        128] </span>│\n",
       "│<span style=\"color: #7f7f7f; text-decoration-color: #7f7f7f\">     </span>│                                                │             │        │       │<span style=\"color: #c0c0c0; text-decoration-color: #c0c0c0\">    [171552, </span>│<span style=\"color: #c0c0c0; text-decoration-color: #c0c0c0\">             </span>│\n",
       "│<span style=\"color: #7f7f7f; text-decoration-color: #7f7f7f\">     </span>│                                                │             │        │       │<span style=\"color: #c0c0c0; text-decoration-color: #c0c0c0\">        24], </span>│<span style=\"color: #c0c0c0; text-decoration-color: #c0c0c0\">             </span>│\n",
       "│<span style=\"color: #7f7f7f; text-decoration-color: #7f7f7f\">     </span>│                                                │             │        │       │<span style=\"color: #c0c0c0; text-decoration-color: #c0c0c0\">    [171552, </span>│<span style=\"color: #c0c0c0; text-decoration-color: #c0c0c0\">             </span>│\n",
       "│<span style=\"color: #7f7f7f; text-decoration-color: #7f7f7f\">     </span>│                                                │             │        │       │<span style=\"color: #c0c0c0; text-decoration-color: #c0c0c0\">        12], </span>│<span style=\"color: #c0c0c0; text-decoration-color: #c0c0c0\">             </span>│\n",
       "│<span style=\"color: #7f7f7f; text-decoration-color: #7f7f7f\">     </span>│                                                │             │        │       │<span style=\"color: #c0c0c0; text-decoration-color: #c0c0c0\">    [171552, </span>│<span style=\"color: #c0c0c0; text-decoration-color: #c0c0c0\">             </span>│\n",
       "│<span style=\"color: #7f7f7f; text-decoration-color: #7f7f7f\">     </span>│                                                │             │        │       │<span style=\"color: #c0c0c0; text-decoration-color: #c0c0c0\">    16], [2, </span>│<span style=\"color: #c0c0c0; text-decoration-color: #c0c0c0\">             </span>│\n",
       "│<span style=\"color: #7f7f7f; text-decoration-color: #7f7f7f\">     </span>│                                                │             │        │       │<span style=\"color: #c0c0c0; text-decoration-color: #c0c0c0\">    171552], </span>│<span style=\"color: #c0c0c0; text-decoration-color: #c0c0c0\">             </span>│\n",
       "│<span style=\"color: #7f7f7f; text-decoration-color: #7f7f7f\">     </span>│                                                │             │        │       │<span style=\"color: #c0c0c0; text-decoration-color: #c0c0c0\">    [10722]] </span>│<span style=\"color: #c0c0c0; text-decoration-color: #c0c0c0\">             </span>│\n",
       "│<span style=\"color: #7f7f7f; text-decoration-color: #7f7f7f\"> 6   </span>│ encoder.interaction_blocks.0.dropout           │ Dropout     │      0 │ train │<span style=\"color: #c0c0c0; text-decoration-color: #c0c0c0\">     [10722, </span>│<span style=\"color: #c0c0c0; text-decoration-color: #c0c0c0\">     [10722, </span>│\n",
       "│<span style=\"color: #7f7f7f; text-decoration-color: #7f7f7f\">     </span>│                                                │             │        │       │<span style=\"color: #c0c0c0; text-decoration-color: #c0c0c0\">        128] </span>│<span style=\"color: #c0c0c0; text-decoration-color: #c0c0c0\">        128] </span>│\n",
       "│<span style=\"color: #7f7f7f; text-decoration-color: #7f7f7f\"> 7   </span>│ encoder.interaction_blocks.0.conv0             │ EdgeGraphC… │ 32.9 K │ train │<span style=\"color: #c0c0c0; text-decoration-color: #c0c0c0\">    [[10722, </span>│<span style=\"color: #c0c0c0; text-decoration-color: #c0c0c0\">     [10722, </span>│\n",
       "│<span style=\"color: #7f7f7f; text-decoration-color: #7f7f7f\">     </span>│                                                │             │        │       │<span style=\"color: #c0c0c0; text-decoration-color: #c0c0c0\">   128], [2, </span>│<span style=\"color: #c0c0c0; text-decoration-color: #c0c0c0\">        128] </span>│\n",
       "│<span style=\"color: #7f7f7f; text-decoration-color: #7f7f7f\">     </span>│                                                │             │        │       │<span style=\"color: #c0c0c0; text-decoration-color: #c0c0c0\">    171552], </span>│<span style=\"color: #c0c0c0; text-decoration-color: #c0c0c0\">             </span>│\n",
       "│<span style=\"color: #7f7f7f; text-decoration-color: #7f7f7f\">     </span>│                                                │             │        │       │<span style=\"color: #c0c0c0; text-decoration-color: #c0c0c0\">    [171552, </span>│<span style=\"color: #c0c0c0; text-decoration-color: #c0c0c0\">             </span>│\n",
       "│<span style=\"color: #7f7f7f; text-decoration-color: #7f7f7f\">     </span>│                                                │             │        │       │<span style=\"color: #c0c0c0; text-decoration-color: #c0c0c0\">       128]] </span>│<span style=\"color: #c0c0c0; text-decoration-color: #c0c0c0\">             </span>│\n",
       "│<span style=\"color: #7f7f7f; text-decoration-color: #7f7f7f\"> 8   </span>│ encoder.interaction_blocks.0.conv0.aggr_module │ SumAggrega… │      0 │ train │<span style=\"color: #c0c0c0; text-decoration-color: #c0c0c0\">   [[171552, </span>│<span style=\"color: #c0c0c0; text-decoration-color: #c0c0c0\">     [10722, </span>│\n",
       "│<span style=\"color: #7f7f7f; text-decoration-color: #7f7f7f\">     </span>│                                                │             │        │       │<span style=\"color: #c0c0c0; text-decoration-color: #c0c0c0\">       128], </span>│<span style=\"color: #c0c0c0; text-decoration-color: #c0c0c0\">        128] </span>│\n",
       "│<span style=\"color: #7f7f7f; text-decoration-color: #7f7f7f\">     </span>│                                                │             │        │       │<span style=\"color: #c0c0c0; text-decoration-color: #c0c0c0\">   [171552], </span>│<span style=\"color: #c0c0c0; text-decoration-color: #c0c0c0\">             </span>│\n",
       "│<span style=\"color: #7f7f7f; text-decoration-color: #7f7f7f\">     </span>│                                                │             │        │       │<span style=\"color: #c0c0c0; text-decoration-color: #c0c0c0\">   '?', '?', </span>│<span style=\"color: #c0c0c0; text-decoration-color: #c0c0c0\">             </span>│\n",
       "│<span style=\"color: #7f7f7f; text-decoration-color: #7f7f7f\">     </span>│                                                │             │        │       │<span style=\"color: #c0c0c0; text-decoration-color: #c0c0c0\">        '?'] </span>│<span style=\"color: #c0c0c0; text-decoration-color: #c0c0c0\">             </span>│\n",
       "│<span style=\"color: #7f7f7f; text-decoration-color: #7f7f7f\"> 9   </span>│ encoder.interaction_blocks.0.conv0.lin_l       │ Linear      │ 16.5 K │ train │<span style=\"color: #c0c0c0; text-decoration-color: #c0c0c0\">     [10722, </span>│<span style=\"color: #c0c0c0; text-decoration-color: #c0c0c0\">     [10722, </span>│\n",
       "│<span style=\"color: #7f7f7f; text-decoration-color: #7f7f7f\">     </span>│                                                │             │        │       │<span style=\"color: #c0c0c0; text-decoration-color: #c0c0c0\">        128] </span>│<span style=\"color: #c0c0c0; text-decoration-color: #c0c0c0\">        128] </span>│\n",
       "│<span style=\"color: #7f7f7f; text-decoration-color: #7f7f7f\"> 10  </span>│ encoder.interaction_blocks.0.conv0.lin_r       │ Linear      │ 16.4 K │ train │<span style=\"color: #c0c0c0; text-decoration-color: #c0c0c0\">     [10722, </span>│<span style=\"color: #c0c0c0; text-decoration-color: #c0c0c0\">     [10722, </span>│\n",
       "│<span style=\"color: #7f7f7f; text-decoration-color: #7f7f7f\">     </span>│                                                │             │        │       │<span style=\"color: #c0c0c0; text-decoration-color: #c0c0c0\">        128] </span>│<span style=\"color: #c0c0c0; text-decoration-color: #c0c0c0\">        128] </span>│\n",
       "│<span style=\"color: #7f7f7f; text-decoration-color: #7f7f7f\"> 11  </span>│ encoder.interaction_blocks.0.conv1             │ EdgeGraphC… │ 32.9 K │ train │<span style=\"color: #c0c0c0; text-decoration-color: #c0c0c0\">    [[10722, </span>│<span style=\"color: #c0c0c0; text-decoration-color: #c0c0c0\">     [10722, </span>│\n",
       "│<span style=\"color: #7f7f7f; text-decoration-color: #7f7f7f\">     </span>│                                                │             │        │       │<span style=\"color: #c0c0c0; text-decoration-color: #c0c0c0\">   128], [2, </span>│<span style=\"color: #c0c0c0; text-decoration-color: #c0c0c0\">        128] </span>│\n",
       "│<span style=\"color: #7f7f7f; text-decoration-color: #7f7f7f\">     </span>│                                                │             │        │       │<span style=\"color: #c0c0c0; text-decoration-color: #c0c0c0\">    171552], </span>│<span style=\"color: #c0c0c0; text-decoration-color: #c0c0c0\">             </span>│\n",
       "│<span style=\"color: #7f7f7f; text-decoration-color: #7f7f7f\">     </span>│                                                │             │        │       │<span style=\"color: #c0c0c0; text-decoration-color: #c0c0c0\">    [171552, </span>│<span style=\"color: #c0c0c0; text-decoration-color: #c0c0c0\">             </span>│\n",
       "│<span style=\"color: #7f7f7f; text-decoration-color: #7f7f7f\">     </span>│                                                │             │        │       │<span style=\"color: #c0c0c0; text-decoration-color: #c0c0c0\">       128]] </span>│<span style=\"color: #c0c0c0; text-decoration-color: #c0c0c0\">             </span>│\n",
       "│<span style=\"color: #7f7f7f; text-decoration-color: #7f7f7f\"> 12  </span>│ encoder.interaction_blocks.0.conv1.aggr_module │ SumAggrega… │      0 │ train │<span style=\"color: #c0c0c0; text-decoration-color: #c0c0c0\">   [[171552, </span>│<span style=\"color: #c0c0c0; text-decoration-color: #c0c0c0\">     [10722, </span>│\n",
       "│<span style=\"color: #7f7f7f; text-decoration-color: #7f7f7f\">     </span>│                                                │             │        │       │<span style=\"color: #c0c0c0; text-decoration-color: #c0c0c0\">       128], </span>│<span style=\"color: #c0c0c0; text-decoration-color: #c0c0c0\">        128] </span>│\n",
       "│<span style=\"color: #7f7f7f; text-decoration-color: #7f7f7f\">     </span>│                                                │             │        │       │<span style=\"color: #c0c0c0; text-decoration-color: #c0c0c0\">   [171552], </span>│<span style=\"color: #c0c0c0; text-decoration-color: #c0c0c0\">             </span>│\n",
       "│<span style=\"color: #7f7f7f; text-decoration-color: #7f7f7f\">     </span>│                                                │             │        │       │<span style=\"color: #c0c0c0; text-decoration-color: #c0c0c0\">   '?', '?', </span>│<span style=\"color: #c0c0c0; text-decoration-color: #c0c0c0\">             </span>│\n",
       "│<span style=\"color: #7f7f7f; text-decoration-color: #7f7f7f\">     </span>│                                                │             │        │       │<span style=\"color: #c0c0c0; text-decoration-color: #c0c0c0\">        '?'] </span>│<span style=\"color: #c0c0c0; text-decoration-color: #c0c0c0\">             </span>│\n",
       "│<span style=\"color: #7f7f7f; text-decoration-color: #7f7f7f\"> 13  </span>│ encoder.interaction_blocks.0.conv1.lin_l       │ Linear      │ 16.5 K │ train │<span style=\"color: #c0c0c0; text-decoration-color: #c0c0c0\">     [10722, </span>│<span style=\"color: #c0c0c0; text-decoration-color: #c0c0c0\">     [10722, </span>│\n",
       "│<span style=\"color: #7f7f7f; text-decoration-color: #7f7f7f\">     </span>│                                                │             │        │       │<span style=\"color: #c0c0c0; text-decoration-color: #c0c0c0\">        128] </span>│<span style=\"color: #c0c0c0; text-decoration-color: #c0c0c0\">        128] </span>│\n",
       "│<span style=\"color: #7f7f7f; text-decoration-color: #7f7f7f\"> 14  </span>│ encoder.interaction_blocks.0.conv1.lin_r       │ Linear      │ 16.4 K │ train │<span style=\"color: #c0c0c0; text-decoration-color: #c0c0c0\">     [10722, </span>│<span style=\"color: #c0c0c0; text-decoration-color: #c0c0c0\">     [10722, </span>│\n",
       "│<span style=\"color: #7f7f7f; text-decoration-color: #7f7f7f\">     </span>│                                                │             │        │       │<span style=\"color: #c0c0c0; text-decoration-color: #c0c0c0\">        128] </span>│<span style=\"color: #c0c0c0; text-decoration-color: #c0c0c0\">        128] </span>│\n",
       "│<span style=\"color: #7f7f7f; text-decoration-color: #7f7f7f\"> 15  </span>│ encoder.interaction_blocks.0.conv2             │ EdgeGraphC… │ 32.9 K │ train │<span style=\"color: #c0c0c0; text-decoration-color: #c0c0c0\">    [[10722, </span>│<span style=\"color: #c0c0c0; text-decoration-color: #c0c0c0\">     [10722, </span>│\n",
       "│<span style=\"color: #7f7f7f; text-decoration-color: #7f7f7f\">     </span>│                                                │             │        │       │<span style=\"color: #c0c0c0; text-decoration-color: #c0c0c0\">   128], [2, </span>│<span style=\"color: #c0c0c0; text-decoration-color: #c0c0c0\">        128] </span>│\n",
       "│<span style=\"color: #7f7f7f; text-decoration-color: #7f7f7f\">     </span>│                                                │             │        │       │<span style=\"color: #c0c0c0; text-decoration-color: #c0c0c0\">    171552], </span>│<span style=\"color: #c0c0c0; text-decoration-color: #c0c0c0\">             </span>│\n",
       "│<span style=\"color: #7f7f7f; text-decoration-color: #7f7f7f\">     </span>│                                                │             │        │       │<span style=\"color: #c0c0c0; text-decoration-color: #c0c0c0\">    [171552, </span>│<span style=\"color: #c0c0c0; text-decoration-color: #c0c0c0\">             </span>│\n",
       "│<span style=\"color: #7f7f7f; text-decoration-color: #7f7f7f\">     </span>│                                                │             │        │       │<span style=\"color: #c0c0c0; text-decoration-color: #c0c0c0\">       128]] </span>│<span style=\"color: #c0c0c0; text-decoration-color: #c0c0c0\">             </span>│\n",
       "│<span style=\"color: #7f7f7f; text-decoration-color: #7f7f7f\"> 16  </span>│ encoder.interaction_blocks.0.conv2.aggr_module │ SumAggrega… │      0 │ train │<span style=\"color: #c0c0c0; text-decoration-color: #c0c0c0\">   [[171552, </span>│<span style=\"color: #c0c0c0; text-decoration-color: #c0c0c0\">     [10722, </span>│\n",
       "│<span style=\"color: #7f7f7f; text-decoration-color: #7f7f7f\">     </span>│                                                │             │        │       │<span style=\"color: #c0c0c0; text-decoration-color: #c0c0c0\">       128], </span>│<span style=\"color: #c0c0c0; text-decoration-color: #c0c0c0\">        128] </span>│\n",
       "│<span style=\"color: #7f7f7f; text-decoration-color: #7f7f7f\">     </span>│                                                │             │        │       │<span style=\"color: #c0c0c0; text-decoration-color: #c0c0c0\">   [171552], </span>│<span style=\"color: #c0c0c0; text-decoration-color: #c0c0c0\">             </span>│\n",
       "│<span style=\"color: #7f7f7f; text-decoration-color: #7f7f7f\">     </span>│                                                │             │        │       │<span style=\"color: #c0c0c0; text-decoration-color: #c0c0c0\">   '?', '?', </span>│<span style=\"color: #c0c0c0; text-decoration-color: #c0c0c0\">             </span>│\n",
       "│<span style=\"color: #7f7f7f; text-decoration-color: #7f7f7f\">     </span>│                                                │             │        │       │<span style=\"color: #c0c0c0; text-decoration-color: #c0c0c0\">        '?'] </span>│<span style=\"color: #c0c0c0; text-decoration-color: #c0c0c0\">             </span>│\n",
       "│<span style=\"color: #7f7f7f; text-decoration-color: #7f7f7f\"> 17  </span>│ encoder.interaction_blocks.0.conv2.lin_l       │ Linear      │ 16.5 K │ train │<span style=\"color: #c0c0c0; text-decoration-color: #c0c0c0\">     [10722, </span>│<span style=\"color: #c0c0c0; text-decoration-color: #c0c0c0\">     [10722, </span>│\n",
       "│<span style=\"color: #7f7f7f; text-decoration-color: #7f7f7f\">     </span>│                                                │             │        │       │<span style=\"color: #c0c0c0; text-decoration-color: #c0c0c0\">        128] </span>│<span style=\"color: #c0c0c0; text-decoration-color: #c0c0c0\">        128] </span>│\n",
       "│<span style=\"color: #7f7f7f; text-decoration-color: #7f7f7f\"> 18  </span>│ encoder.interaction_blocks.0.conv2.lin_r       │ Linear      │ 16.4 K │ train │<span style=\"color: #c0c0c0; text-decoration-color: #c0c0c0\">     [10722, </span>│<span style=\"color: #c0c0c0; text-decoration-color: #c0c0c0\">     [10722, </span>│\n",
       "│<span style=\"color: #7f7f7f; text-decoration-color: #7f7f7f\">     </span>│                                                │             │        │       │<span style=\"color: #c0c0c0; text-decoration-color: #c0c0c0\">        128] </span>│<span style=\"color: #c0c0c0; text-decoration-color: #c0c0c0\">        128] </span>│\n",
       "│<span style=\"color: #7f7f7f; text-decoration-color: #7f7f7f\"> 19  </span>│ encoder.interaction_blocks.0.lin_feature0      │ TwoLinear   │  9.7 K │ train │<span style=\"color: #c0c0c0; text-decoration-color: #c0c0c0\">    [171552, </span>│<span style=\"color: #c0c0c0; text-decoration-color: #c0c0c0\">    [171552, </span>│\n",
       "│<span style=\"color: #7f7f7f; text-decoration-color: #7f7f7f\">     </span>│                                                │             │        │       │<span style=\"color: #c0c0c0; text-decoration-color: #c0c0c0\">         24] </span>│<span style=\"color: #c0c0c0; text-decoration-color: #c0c0c0\">        128] </span>│\n",
       "│<span style=\"color: #7f7f7f; text-decoration-color: #7f7f7f\"> 20  </span>│ encoder.interaction_blocks.0.lin_feature0.lin1 │ Linear      │  1.5 K │ train │<span style=\"color: #c0c0c0; text-decoration-color: #c0c0c0\">    [171552, </span>│<span style=\"color: #c0c0c0; text-decoration-color: #c0c0c0\">    [171552, </span>│\n",
       "│<span style=\"color: #7f7f7f; text-decoration-color: #7f7f7f\">     </span>│                                                │             │        │       │<span style=\"color: #c0c0c0; text-decoration-color: #c0c0c0\">         24] </span>│<span style=\"color: #c0c0c0; text-decoration-color: #c0c0c0\">         64] </span>│\n",
       "│<span style=\"color: #7f7f7f; text-decoration-color: #7f7f7f\"> 21  </span>│ encoder.interaction_blocks.0.lin_feature0.lin2 │ Linear      │  8.2 K │ train │<span style=\"color: #c0c0c0; text-decoration-color: #c0c0c0\">    [171552, </span>│<span style=\"color: #c0c0c0; text-decoration-color: #c0c0c0\">    [171552, </span>│\n",
       "│<span style=\"color: #7f7f7f; text-decoration-color: #7f7f7f\">     </span>│                                                │             │        │       │<span style=\"color: #c0c0c0; text-decoration-color: #c0c0c0\">         64] </span>│<span style=\"color: #c0c0c0; text-decoration-color: #c0c0c0\">        128] </span>│\n",
       "│<span style=\"color: #7f7f7f; text-decoration-color: #7f7f7f\"> 22  </span>│ encoder.interaction_blocks.0.lin_feature1      │ TwoLinear   │  9.0 K │ train │<span style=\"color: #c0c0c0; text-decoration-color: #c0c0c0\">    [171552, </span>│<span style=\"color: #c0c0c0; text-decoration-color: #c0c0c0\">    [171552, </span>│\n",
       "│<span style=\"color: #7f7f7f; text-decoration-color: #7f7f7f\">     </span>│                                                │             │        │       │<span style=\"color: #c0c0c0; text-decoration-color: #c0c0c0\">         12] </span>│<span style=\"color: #c0c0c0; text-decoration-color: #c0c0c0\">        128] </span>│\n",
       "│<span style=\"color: #7f7f7f; text-decoration-color: #7f7f7f\"> 23  </span>│ encoder.interaction_blocks.0.lin_feature1.lin1 │ Linear      │    768 │ train │<span style=\"color: #c0c0c0; text-decoration-color: #c0c0c0\">    [171552, </span>│<span style=\"color: #c0c0c0; text-decoration-color: #c0c0c0\">    [171552, </span>│\n",
       "│<span style=\"color: #7f7f7f; text-decoration-color: #7f7f7f\">     </span>│                                                │             │        │       │<span style=\"color: #c0c0c0; text-decoration-color: #c0c0c0\">         12] </span>│<span style=\"color: #c0c0c0; text-decoration-color: #c0c0c0\">         64] </span>│\n",
       "│<span style=\"color: #7f7f7f; text-decoration-color: #7f7f7f\"> 24  </span>│ encoder.interaction_blocks.0.lin_feature1.lin2 │ Linear      │  8.2 K │ train │<span style=\"color: #c0c0c0; text-decoration-color: #c0c0c0\">    [171552, </span>│<span style=\"color: #c0c0c0; text-decoration-color: #c0c0c0\">    [171552, </span>│\n",
       "│<span style=\"color: #7f7f7f; text-decoration-color: #7f7f7f\">     </span>│                                                │             │        │       │<span style=\"color: #c0c0c0; text-decoration-color: #c0c0c0\">         64] </span>│<span style=\"color: #c0c0c0; text-decoration-color: #c0c0c0\">        128] </span>│\n",
       "│<span style=\"color: #7f7f7f; text-decoration-color: #7f7f7f\"> 25  </span>│ encoder.interaction_blocks.0.lin_feature2      │ TwoLinear   │  9.2 K │ train │<span style=\"color: #c0c0c0; text-decoration-color: #c0c0c0\">    [171552, </span>│<span style=\"color: #c0c0c0; text-decoration-color: #c0c0c0\">    [171552, </span>│\n",
       "│<span style=\"color: #7f7f7f; text-decoration-color: #7f7f7f\">     </span>│                                                │             │        │       │<span style=\"color: #c0c0c0; text-decoration-color: #c0c0c0\">         16] </span>│<span style=\"color: #c0c0c0; text-decoration-color: #c0c0c0\">        128] </span>│\n",
       "│<span style=\"color: #7f7f7f; text-decoration-color: #7f7f7f\"> 26  </span>│ encoder.interaction_blocks.0.lin_feature2.lin1 │ Linear      │  1.0 K │ train │<span style=\"color: #c0c0c0; text-decoration-color: #c0c0c0\">    [171552, </span>│<span style=\"color: #c0c0c0; text-decoration-color: #c0c0c0\">    [171552, </span>│\n",
       "│<span style=\"color: #7f7f7f; text-decoration-color: #7f7f7f\">     </span>│                                                │             │        │       │<span style=\"color: #c0c0c0; text-decoration-color: #c0c0c0\">         16] </span>│<span style=\"color: #c0c0c0; text-decoration-color: #c0c0c0\">         64] </span>│\n",
       "│<span style=\"color: #7f7f7f; text-decoration-color: #7f7f7f\"> 27  </span>│ encoder.interaction_blocks.0.lin_feature2.lin2 │ Linear      │  8.2 K │ train │<span style=\"color: #c0c0c0; text-decoration-color: #c0c0c0\">    [171552, </span>│<span style=\"color: #c0c0c0; text-decoration-color: #c0c0c0\">    [171552, </span>│\n",
       "│<span style=\"color: #7f7f7f; text-decoration-color: #7f7f7f\">     </span>│                                                │             │        │       │<span style=\"color: #c0c0c0; text-decoration-color: #c0c0c0\">         64] </span>│<span style=\"color: #c0c0c0; text-decoration-color: #c0c0c0\">        128] </span>│\n",
       "│<span style=\"color: #7f7f7f; text-decoration-color: #7f7f7f\"> 28  </span>│ encoder.interaction_blocks.0.lin_1             │ Linear      │ 16.5 K │ train │<span style=\"color: #c0c0c0; text-decoration-color: #c0c0c0\">     [10722, </span>│<span style=\"color: #c0c0c0; text-decoration-color: #c0c0c0\">     [10722, </span>│\n",
       "│<span style=\"color: #7f7f7f; text-decoration-color: #7f7f7f\">     </span>│                                                │             │        │       │<span style=\"color: #c0c0c0; text-decoration-color: #c0c0c0\">        128] </span>│<span style=\"color: #c0c0c0; text-decoration-color: #c0c0c0\">        128] </span>│\n",
       "│<span style=\"color: #7f7f7f; text-decoration-color: #7f7f7f\"> 29  </span>│ encoder.interaction_blocks.0.lin_2             │ Linear      │ 16.5 K │ train │<span style=\"color: #c0c0c0; text-decoration-color: #c0c0c0\">     [10722, </span>│<span style=\"color: #c0c0c0; text-decoration-color: #c0c0c0\">     [10722, </span>│\n",
       "│<span style=\"color: #7f7f7f; text-decoration-color: #7f7f7f\">     </span>│                                                │             │        │       │<span style=\"color: #c0c0c0; text-decoration-color: #c0c0c0\">        128] </span>│<span style=\"color: #c0c0c0; text-decoration-color: #c0c0c0\">        128] </span>│\n",
       "│<span style=\"color: #7f7f7f; text-decoration-color: #7f7f7f\"> 30  </span>│ encoder.interaction_blocks.0.lin0              │ Linear      │ 16.5 K │ train │<span style=\"color: #c0c0c0; text-decoration-color: #c0c0c0\">     [10722, </span>│<span style=\"color: #c0c0c0; text-decoration-color: #c0c0c0\">     [10722, </span>│\n",
       "│<span style=\"color: #7f7f7f; text-decoration-color: #7f7f7f\">     </span>│                                                │             │        │       │<span style=\"color: #c0c0c0; text-decoration-color: #c0c0c0\">        128] </span>│<span style=\"color: #c0c0c0; text-decoration-color: #c0c0c0\">        128] </span>│\n",
       "│<span style=\"color: #7f7f7f; text-decoration-color: #7f7f7f\"> 31  </span>│ encoder.interaction_blocks.0.lin1              │ Linear      │ 16.5 K │ train │<span style=\"color: #c0c0c0; text-decoration-color: #c0c0c0\">     [10722, </span>│<span style=\"color: #c0c0c0; text-decoration-color: #c0c0c0\">     [10722, </span>│\n",
       "│<span style=\"color: #7f7f7f; text-decoration-color: #7f7f7f\">     </span>│                                                │             │        │       │<span style=\"color: #c0c0c0; text-decoration-color: #c0c0c0\">        128] </span>│<span style=\"color: #c0c0c0; text-decoration-color: #c0c0c0\">        128] </span>│\n",
       "│<span style=\"color: #7f7f7f; text-decoration-color: #7f7f7f\"> 32  </span>│ encoder.interaction_blocks.0.lin2              │ Linear      │ 16.5 K │ train │<span style=\"color: #c0c0c0; text-decoration-color: #c0c0c0\">     [10722, </span>│<span style=\"color: #c0c0c0; text-decoration-color: #c0c0c0\">     [10722, </span>│\n",
       "│<span style=\"color: #7f7f7f; text-decoration-color: #7f7f7f\">     </span>│                                                │             │        │       │<span style=\"color: #c0c0c0; text-decoration-color: #c0c0c0\">        128] </span>│<span style=\"color: #c0c0c0; text-decoration-color: #c0c0c0\">        128] </span>│\n",
       "│<span style=\"color: #7f7f7f; text-decoration-color: #7f7f7f\"> 33  </span>│ encoder.interaction_blocks.0.lins_cat          │ ModuleList  │ 82.3 K │ train │<span style=\"color: #c0c0c0; text-decoration-color: #c0c0c0\">           ? </span>│<span style=\"color: #c0c0c0; text-decoration-color: #c0c0c0\">           ? </span>│\n",
       "│<span style=\"color: #7f7f7f; text-decoration-color: #7f7f7f\"> 34  </span>│ encoder.interaction_blocks.0.lins_cat.0        │ Linear      │ 49.3 K │ train │<span style=\"color: #c0c0c0; text-decoration-color: #c0c0c0\">     [10722, </span>│<span style=\"color: #c0c0c0; text-decoration-color: #c0c0c0\">     [10722, </span>│\n",
       "│<span style=\"color: #7f7f7f; text-decoration-color: #7f7f7f\">     </span>│                                                │             │        │       │<span style=\"color: #c0c0c0; text-decoration-color: #c0c0c0\">        384] </span>│<span style=\"color: #c0c0c0; text-decoration-color: #c0c0c0\">        128] </span>│\n",
       "│<span style=\"color: #7f7f7f; text-decoration-color: #7f7f7f\"> 35  </span>│ encoder.interaction_blocks.0.lins_cat.1        │ Linear      │ 16.5 K │ train │<span style=\"color: #c0c0c0; text-decoration-color: #c0c0c0\">     [10722, </span>│<span style=\"color: #c0c0c0; text-decoration-color: #c0c0c0\">     [10722, </span>│\n",
       "│<span style=\"color: #7f7f7f; text-decoration-color: #7f7f7f\">     </span>│                                                │             │        │       │<span style=\"color: #c0c0c0; text-decoration-color: #c0c0c0\">        128] </span>│<span style=\"color: #c0c0c0; text-decoration-color: #c0c0c0\">        128] </span>│\n",
       "│<span style=\"color: #7f7f7f; text-decoration-color: #7f7f7f\"> 36  </span>│ encoder.interaction_blocks.0.lins_cat.2        │ Linear      │ 16.5 K │ train │<span style=\"color: #c0c0c0; text-decoration-color: #c0c0c0\">     [10722, </span>│<span style=\"color: #c0c0c0; text-decoration-color: #c0c0c0\">     [10722, </span>│\n",
       "│<span style=\"color: #7f7f7f; text-decoration-color: #7f7f7f\">     </span>│                                                │             │        │       │<span style=\"color: #c0c0c0; text-decoration-color: #c0c0c0\">        128] </span>│<span style=\"color: #c0c0c0; text-decoration-color: #c0c0c0\">        128] </span>│\n",
       "│<span style=\"color: #7f7f7f; text-decoration-color: #7f7f7f\"> 37  </span>│ encoder.interaction_blocks.0.lins              │ ModuleList  │ 33.0 K │ train │<span style=\"color: #c0c0c0; text-decoration-color: #c0c0c0\">           ? </span>│<span style=\"color: #c0c0c0; text-decoration-color: #c0c0c0\">           ? </span>│\n",
       "│<span style=\"color: #7f7f7f; text-decoration-color: #7f7f7f\"> 38  </span>│ encoder.interaction_blocks.0.lins.0            │ Linear      │ 16.5 K │ train │<span style=\"color: #c0c0c0; text-decoration-color: #c0c0c0\">     [10722, </span>│<span style=\"color: #c0c0c0; text-decoration-color: #c0c0c0\">     [10722, </span>│\n",
       "│<span style=\"color: #7f7f7f; text-decoration-color: #7f7f7f\">     </span>│                                                │             │        │       │<span style=\"color: #c0c0c0; text-decoration-color: #c0c0c0\">        128] </span>│<span style=\"color: #c0c0c0; text-decoration-color: #c0c0c0\">        128] </span>│\n",
       "│<span style=\"color: #7f7f7f; text-decoration-color: #7f7f7f\"> 39  </span>│ encoder.interaction_blocks.0.lins.1            │ Linear      │ 16.5 K │ train │<span style=\"color: #c0c0c0; text-decoration-color: #c0c0c0\">     [10722, </span>│<span style=\"color: #c0c0c0; text-decoration-color: #c0c0c0\">     [10722, </span>│\n",
       "│<span style=\"color: #7f7f7f; text-decoration-color: #7f7f7f\">     </span>│                                                │             │        │       │<span style=\"color: #c0c0c0; text-decoration-color: #c0c0c0\">        128] </span>│<span style=\"color: #c0c0c0; text-decoration-color: #c0c0c0\">        128] </span>│\n",
       "│<span style=\"color: #7f7f7f; text-decoration-color: #7f7f7f\"> 40  </span>│ encoder.interaction_blocks.0.final             │ Linear      │ 16.5 K │ train │<span style=\"color: #c0c0c0; text-decoration-color: #c0c0c0\">     [10722, </span>│<span style=\"color: #c0c0c0; text-decoration-color: #c0c0c0\">     [10722, </span>│\n",
       "│<span style=\"color: #7f7f7f; text-decoration-color: #7f7f7f\">     </span>│                                                │             │        │       │<span style=\"color: #c0c0c0; text-decoration-color: #c0c0c0\">        128] </span>│<span style=\"color: #c0c0c0; text-decoration-color: #c0c0c0\">        128] </span>│\n",
       "│<span style=\"color: #7f7f7f; text-decoration-color: #7f7f7f\"> 41  </span>│ encoder.interaction_blocks.1                   │ Interactio… │  340 K │ train │<span style=\"color: #c0c0c0; text-decoration-color: #c0c0c0\">    [[10722, </span>│<span style=\"color: #c0c0c0; text-decoration-color: #c0c0c0\">     [10722, </span>│\n",
       "│<span style=\"color: #7f7f7f; text-decoration-color: #7f7f7f\">     </span>│                                                │             │        │       │<span style=\"color: #c0c0c0; text-decoration-color: #c0c0c0\">       128], </span>│<span style=\"color: #c0c0c0; text-decoration-color: #c0c0c0\">        128] </span>│\n",
       "│<span style=\"color: #7f7f7f; text-decoration-color: #7f7f7f\">     </span>│                                                │             │        │       │<span style=\"color: #c0c0c0; text-decoration-color: #c0c0c0\">    [171552, </span>│<span style=\"color: #c0c0c0; text-decoration-color: #c0c0c0\">             </span>│\n",
       "│<span style=\"color: #7f7f7f; text-decoration-color: #7f7f7f\">     </span>│                                                │             │        │       │<span style=\"color: #c0c0c0; text-decoration-color: #c0c0c0\">        24], </span>│<span style=\"color: #c0c0c0; text-decoration-color: #c0c0c0\">             </span>│\n",
       "│<span style=\"color: #7f7f7f; text-decoration-color: #7f7f7f\">     </span>│                                                │             │        │       │<span style=\"color: #c0c0c0; text-decoration-color: #c0c0c0\">    [171552, </span>│<span style=\"color: #c0c0c0; text-decoration-color: #c0c0c0\">             </span>│\n",
       "│<span style=\"color: #7f7f7f; text-decoration-color: #7f7f7f\">     </span>│                                                │             │        │       │<span style=\"color: #c0c0c0; text-decoration-color: #c0c0c0\">        12], </span>│<span style=\"color: #c0c0c0; text-decoration-color: #c0c0c0\">             </span>│\n",
       "│<span style=\"color: #7f7f7f; text-decoration-color: #7f7f7f\">     </span>│                                                │             │        │       │<span style=\"color: #c0c0c0; text-decoration-color: #c0c0c0\">    [171552, </span>│<span style=\"color: #c0c0c0; text-decoration-color: #c0c0c0\">             </span>│\n",
       "│<span style=\"color: #7f7f7f; text-decoration-color: #7f7f7f\">     </span>│                                                │             │        │       │<span style=\"color: #c0c0c0; text-decoration-color: #c0c0c0\">    16], [2, </span>│<span style=\"color: #c0c0c0; text-decoration-color: #c0c0c0\">             </span>│\n",
       "│<span style=\"color: #7f7f7f; text-decoration-color: #7f7f7f\">     </span>│                                                │             │        │       │<span style=\"color: #c0c0c0; text-decoration-color: #c0c0c0\">    171552], </span>│<span style=\"color: #c0c0c0; text-decoration-color: #c0c0c0\">             </span>│\n",
       "│<span style=\"color: #7f7f7f; text-decoration-color: #7f7f7f\">     </span>│                                                │             │        │       │<span style=\"color: #c0c0c0; text-decoration-color: #c0c0c0\">    [10722]] </span>│<span style=\"color: #c0c0c0; text-decoration-color: #c0c0c0\">             </span>│\n",
       "│<span style=\"color: #7f7f7f; text-decoration-color: #7f7f7f\"> 42  </span>│ encoder.interaction_blocks.1.dropout           │ Dropout     │      0 │ train │<span style=\"color: #c0c0c0; text-decoration-color: #c0c0c0\">     [10722, </span>│<span style=\"color: #c0c0c0; text-decoration-color: #c0c0c0\">     [10722, </span>│\n",
       "│<span style=\"color: #7f7f7f; text-decoration-color: #7f7f7f\">     </span>│                                                │             │        │       │<span style=\"color: #c0c0c0; text-decoration-color: #c0c0c0\">        128] </span>│<span style=\"color: #c0c0c0; text-decoration-color: #c0c0c0\">        128] </span>│\n",
       "│<span style=\"color: #7f7f7f; text-decoration-color: #7f7f7f\"> 43  </span>│ encoder.interaction_blocks.1.conv0             │ EdgeGraphC… │ 32.9 K │ train │<span style=\"color: #c0c0c0; text-decoration-color: #c0c0c0\">    [[10722, </span>│<span style=\"color: #c0c0c0; text-decoration-color: #c0c0c0\">     [10722, </span>│\n",
       "│<span style=\"color: #7f7f7f; text-decoration-color: #7f7f7f\">     </span>│                                                │             │        │       │<span style=\"color: #c0c0c0; text-decoration-color: #c0c0c0\">   128], [2, </span>│<span style=\"color: #c0c0c0; text-decoration-color: #c0c0c0\">        128] </span>│\n",
       "│<span style=\"color: #7f7f7f; text-decoration-color: #7f7f7f\">     </span>│                                                │             │        │       │<span style=\"color: #c0c0c0; text-decoration-color: #c0c0c0\">    171552], </span>│<span style=\"color: #c0c0c0; text-decoration-color: #c0c0c0\">             </span>│\n",
       "│<span style=\"color: #7f7f7f; text-decoration-color: #7f7f7f\">     </span>│                                                │             │        │       │<span style=\"color: #c0c0c0; text-decoration-color: #c0c0c0\">    [171552, </span>│<span style=\"color: #c0c0c0; text-decoration-color: #c0c0c0\">             </span>│\n",
       "│<span style=\"color: #7f7f7f; text-decoration-color: #7f7f7f\">     </span>│                                                │             │        │       │<span style=\"color: #c0c0c0; text-decoration-color: #c0c0c0\">       128]] </span>│<span style=\"color: #c0c0c0; text-decoration-color: #c0c0c0\">             </span>│\n",
       "│<span style=\"color: #7f7f7f; text-decoration-color: #7f7f7f\"> 44  </span>│ encoder.interaction_blocks.1.conv0.aggr_module │ SumAggrega… │      0 │ train │<span style=\"color: #c0c0c0; text-decoration-color: #c0c0c0\">   [[171552, </span>│<span style=\"color: #c0c0c0; text-decoration-color: #c0c0c0\">     [10722, </span>│\n",
       "│<span style=\"color: #7f7f7f; text-decoration-color: #7f7f7f\">     </span>│                                                │             │        │       │<span style=\"color: #c0c0c0; text-decoration-color: #c0c0c0\">       128], </span>│<span style=\"color: #c0c0c0; text-decoration-color: #c0c0c0\">        128] </span>│\n",
       "│<span style=\"color: #7f7f7f; text-decoration-color: #7f7f7f\">     </span>│                                                │             │        │       │<span style=\"color: #c0c0c0; text-decoration-color: #c0c0c0\">   [171552], </span>│<span style=\"color: #c0c0c0; text-decoration-color: #c0c0c0\">             </span>│\n",
       "│<span style=\"color: #7f7f7f; text-decoration-color: #7f7f7f\">     </span>│                                                │             │        │       │<span style=\"color: #c0c0c0; text-decoration-color: #c0c0c0\">   '?', '?', </span>│<span style=\"color: #c0c0c0; text-decoration-color: #c0c0c0\">             </span>│\n",
       "│<span style=\"color: #7f7f7f; text-decoration-color: #7f7f7f\">     </span>│                                                │             │        │       │<span style=\"color: #c0c0c0; text-decoration-color: #c0c0c0\">        '?'] </span>│<span style=\"color: #c0c0c0; text-decoration-color: #c0c0c0\">             </span>│\n",
       "│<span style=\"color: #7f7f7f; text-decoration-color: #7f7f7f\"> 45  </span>│ encoder.interaction_blocks.1.conv0.lin_l       │ Linear      │ 16.5 K │ train │<span style=\"color: #c0c0c0; text-decoration-color: #c0c0c0\">     [10722, </span>│<span style=\"color: #c0c0c0; text-decoration-color: #c0c0c0\">     [10722, </span>│\n",
       "│<span style=\"color: #7f7f7f; text-decoration-color: #7f7f7f\">     </span>│                                                │             │        │       │<span style=\"color: #c0c0c0; text-decoration-color: #c0c0c0\">        128] </span>│<span style=\"color: #c0c0c0; text-decoration-color: #c0c0c0\">        128] </span>│\n",
       "│<span style=\"color: #7f7f7f; text-decoration-color: #7f7f7f\"> 46  </span>│ encoder.interaction_blocks.1.conv0.lin_r       │ Linear      │ 16.4 K │ train │<span style=\"color: #c0c0c0; text-decoration-color: #c0c0c0\">     [10722, </span>│<span style=\"color: #c0c0c0; text-decoration-color: #c0c0c0\">     [10722, </span>│\n",
       "│<span style=\"color: #7f7f7f; text-decoration-color: #7f7f7f\">     </span>│                                                │             │        │       │<span style=\"color: #c0c0c0; text-decoration-color: #c0c0c0\">        128] </span>│<span style=\"color: #c0c0c0; text-decoration-color: #c0c0c0\">        128] </span>│\n",
       "│<span style=\"color: #7f7f7f; text-decoration-color: #7f7f7f\"> 47  </span>│ encoder.interaction_blocks.1.conv1             │ EdgeGraphC… │ 32.9 K │ train │<span style=\"color: #c0c0c0; text-decoration-color: #c0c0c0\">    [[10722, </span>│<span style=\"color: #c0c0c0; text-decoration-color: #c0c0c0\">     [10722, </span>│\n",
       "│<span style=\"color: #7f7f7f; text-decoration-color: #7f7f7f\">     </span>│                                                │             │        │       │<span style=\"color: #c0c0c0; text-decoration-color: #c0c0c0\">   128], [2, </span>│<span style=\"color: #c0c0c0; text-decoration-color: #c0c0c0\">        128] </span>│\n",
       "│<span style=\"color: #7f7f7f; text-decoration-color: #7f7f7f\">     </span>│                                                │             │        │       │<span style=\"color: #c0c0c0; text-decoration-color: #c0c0c0\">    171552], </span>│<span style=\"color: #c0c0c0; text-decoration-color: #c0c0c0\">             </span>│\n",
       "│<span style=\"color: #7f7f7f; text-decoration-color: #7f7f7f\">     </span>│                                                │             │        │       │<span style=\"color: #c0c0c0; text-decoration-color: #c0c0c0\">    [171552, </span>│<span style=\"color: #c0c0c0; text-decoration-color: #c0c0c0\">             </span>│\n",
       "│<span style=\"color: #7f7f7f; text-decoration-color: #7f7f7f\">     </span>│                                                │             │        │       │<span style=\"color: #c0c0c0; text-decoration-color: #c0c0c0\">       128]] </span>│<span style=\"color: #c0c0c0; text-decoration-color: #c0c0c0\">             </span>│\n",
       "│<span style=\"color: #7f7f7f; text-decoration-color: #7f7f7f\"> 48  </span>│ encoder.interaction_blocks.1.conv1.aggr_module │ SumAggrega… │      0 │ train │<span style=\"color: #c0c0c0; text-decoration-color: #c0c0c0\">   [[171552, </span>│<span style=\"color: #c0c0c0; text-decoration-color: #c0c0c0\">     [10722, </span>│\n",
       "│<span style=\"color: #7f7f7f; text-decoration-color: #7f7f7f\">     </span>│                                                │             │        │       │<span style=\"color: #c0c0c0; text-decoration-color: #c0c0c0\">       128], </span>│<span style=\"color: #c0c0c0; text-decoration-color: #c0c0c0\">        128] </span>│\n",
       "│<span style=\"color: #7f7f7f; text-decoration-color: #7f7f7f\">     </span>│                                                │             │        │       │<span style=\"color: #c0c0c0; text-decoration-color: #c0c0c0\">   [171552], </span>│<span style=\"color: #c0c0c0; text-decoration-color: #c0c0c0\">             </span>│\n",
       "│<span style=\"color: #7f7f7f; text-decoration-color: #7f7f7f\">     </span>│                                                │             │        │       │<span style=\"color: #c0c0c0; text-decoration-color: #c0c0c0\">   '?', '?', </span>│<span style=\"color: #c0c0c0; text-decoration-color: #c0c0c0\">             </span>│\n",
       "│<span style=\"color: #7f7f7f; text-decoration-color: #7f7f7f\">     </span>│                                                │             │        │       │<span style=\"color: #c0c0c0; text-decoration-color: #c0c0c0\">        '?'] </span>│<span style=\"color: #c0c0c0; text-decoration-color: #c0c0c0\">             </span>│\n",
       "│<span style=\"color: #7f7f7f; text-decoration-color: #7f7f7f\"> 49  </span>│ encoder.interaction_blocks.1.conv1.lin_l       │ Linear      │ 16.5 K │ train │<span style=\"color: #c0c0c0; text-decoration-color: #c0c0c0\">     [10722, </span>│<span style=\"color: #c0c0c0; text-decoration-color: #c0c0c0\">     [10722, </span>│\n",
       "│<span style=\"color: #7f7f7f; text-decoration-color: #7f7f7f\">     </span>│                                                │             │        │       │<span style=\"color: #c0c0c0; text-decoration-color: #c0c0c0\">        128] </span>│<span style=\"color: #c0c0c0; text-decoration-color: #c0c0c0\">        128] </span>│\n",
       "│<span style=\"color: #7f7f7f; text-decoration-color: #7f7f7f\"> 50  </span>│ encoder.interaction_blocks.1.conv1.lin_r       │ Linear      │ 16.4 K │ train │<span style=\"color: #c0c0c0; text-decoration-color: #c0c0c0\">     [10722, </span>│<span style=\"color: #c0c0c0; text-decoration-color: #c0c0c0\">     [10722, </span>│\n",
       "│<span style=\"color: #7f7f7f; text-decoration-color: #7f7f7f\">     </span>│                                                │             │        │       │<span style=\"color: #c0c0c0; text-decoration-color: #c0c0c0\">        128] </span>│<span style=\"color: #c0c0c0; text-decoration-color: #c0c0c0\">        128] </span>│\n",
       "│<span style=\"color: #7f7f7f; text-decoration-color: #7f7f7f\"> 51  </span>│ encoder.interaction_blocks.1.conv2             │ EdgeGraphC… │ 32.9 K │ train │<span style=\"color: #c0c0c0; text-decoration-color: #c0c0c0\">    [[10722, </span>│<span style=\"color: #c0c0c0; text-decoration-color: #c0c0c0\">     [10722, </span>│\n",
       "│<span style=\"color: #7f7f7f; text-decoration-color: #7f7f7f\">     </span>│                                                │             │        │       │<span style=\"color: #c0c0c0; text-decoration-color: #c0c0c0\">   128], [2, </span>│<span style=\"color: #c0c0c0; text-decoration-color: #c0c0c0\">        128] </span>│\n",
       "│<span style=\"color: #7f7f7f; text-decoration-color: #7f7f7f\">     </span>│                                                │             │        │       │<span style=\"color: #c0c0c0; text-decoration-color: #c0c0c0\">    171552], </span>│<span style=\"color: #c0c0c0; text-decoration-color: #c0c0c0\">             </span>│\n",
       "│<span style=\"color: #7f7f7f; text-decoration-color: #7f7f7f\">     </span>│                                                │             │        │       │<span style=\"color: #c0c0c0; text-decoration-color: #c0c0c0\">    [171552, </span>│<span style=\"color: #c0c0c0; text-decoration-color: #c0c0c0\">             </span>│\n",
       "│<span style=\"color: #7f7f7f; text-decoration-color: #7f7f7f\">     </span>│                                                │             │        │       │<span style=\"color: #c0c0c0; text-decoration-color: #c0c0c0\">       128]] </span>│<span style=\"color: #c0c0c0; text-decoration-color: #c0c0c0\">             </span>│\n",
       "│<span style=\"color: #7f7f7f; text-decoration-color: #7f7f7f\"> 52  </span>│ encoder.interaction_blocks.1.conv2.aggr_module │ SumAggrega… │      0 │ train │<span style=\"color: #c0c0c0; text-decoration-color: #c0c0c0\">   [[171552, </span>│<span style=\"color: #c0c0c0; text-decoration-color: #c0c0c0\">     [10722, </span>│\n",
       "│<span style=\"color: #7f7f7f; text-decoration-color: #7f7f7f\">     </span>│                                                │             │        │       │<span style=\"color: #c0c0c0; text-decoration-color: #c0c0c0\">       128], </span>│<span style=\"color: #c0c0c0; text-decoration-color: #c0c0c0\">        128] </span>│\n",
       "│<span style=\"color: #7f7f7f; text-decoration-color: #7f7f7f\">     </span>│                                                │             │        │       │<span style=\"color: #c0c0c0; text-decoration-color: #c0c0c0\">   [171552], </span>│<span style=\"color: #c0c0c0; text-decoration-color: #c0c0c0\">             </span>│\n",
       "│<span style=\"color: #7f7f7f; text-decoration-color: #7f7f7f\">     </span>│                                                │             │        │       │<span style=\"color: #c0c0c0; text-decoration-color: #c0c0c0\">   '?', '?', </span>│<span style=\"color: #c0c0c0; text-decoration-color: #c0c0c0\">             </span>│\n",
       "│<span style=\"color: #7f7f7f; text-decoration-color: #7f7f7f\">     </span>│                                                │             │        │       │<span style=\"color: #c0c0c0; text-decoration-color: #c0c0c0\">        '?'] </span>│<span style=\"color: #c0c0c0; text-decoration-color: #c0c0c0\">             </span>│\n",
       "│<span style=\"color: #7f7f7f; text-decoration-color: #7f7f7f\"> 53  </span>│ encoder.interaction_blocks.1.conv2.lin_l       │ Linear      │ 16.5 K │ train │<span style=\"color: #c0c0c0; text-decoration-color: #c0c0c0\">     [10722, </span>│<span style=\"color: #c0c0c0; text-decoration-color: #c0c0c0\">     [10722, </span>│\n",
       "│<span style=\"color: #7f7f7f; text-decoration-color: #7f7f7f\">     </span>│                                                │             │        │       │<span style=\"color: #c0c0c0; text-decoration-color: #c0c0c0\">        128] </span>│<span style=\"color: #c0c0c0; text-decoration-color: #c0c0c0\">        128] </span>│\n",
       "│<span style=\"color: #7f7f7f; text-decoration-color: #7f7f7f\"> 54  </span>│ encoder.interaction_blocks.1.conv2.lin_r       │ Linear      │ 16.4 K │ train │<span style=\"color: #c0c0c0; text-decoration-color: #c0c0c0\">     [10722, </span>│<span style=\"color: #c0c0c0; text-decoration-color: #c0c0c0\">     [10722, </span>│\n",
       "│<span style=\"color: #7f7f7f; text-decoration-color: #7f7f7f\">     </span>│                                                │             │        │       │<span style=\"color: #c0c0c0; text-decoration-color: #c0c0c0\">        128] </span>│<span style=\"color: #c0c0c0; text-decoration-color: #c0c0c0\">        128] </span>│\n",
       "│<span style=\"color: #7f7f7f; text-decoration-color: #7f7f7f\"> 55  </span>│ encoder.interaction_blocks.1.lin_feature0      │ TwoLinear   │  9.7 K │ train │<span style=\"color: #c0c0c0; text-decoration-color: #c0c0c0\">    [171552, </span>│<span style=\"color: #c0c0c0; text-decoration-color: #c0c0c0\">    [171552, </span>│\n",
       "│<span style=\"color: #7f7f7f; text-decoration-color: #7f7f7f\">     </span>│                                                │             │        │       │<span style=\"color: #c0c0c0; text-decoration-color: #c0c0c0\">         24] </span>│<span style=\"color: #c0c0c0; text-decoration-color: #c0c0c0\">        128] </span>│\n",
       "│<span style=\"color: #7f7f7f; text-decoration-color: #7f7f7f\"> 56  </span>│ encoder.interaction_blocks.1.lin_feature0.lin1 │ Linear      │  1.5 K │ train │<span style=\"color: #c0c0c0; text-decoration-color: #c0c0c0\">    [171552, </span>│<span style=\"color: #c0c0c0; text-decoration-color: #c0c0c0\">    [171552, </span>│\n",
       "│<span style=\"color: #7f7f7f; text-decoration-color: #7f7f7f\">     </span>│                                                │             │        │       │<span style=\"color: #c0c0c0; text-decoration-color: #c0c0c0\">         24] </span>│<span style=\"color: #c0c0c0; text-decoration-color: #c0c0c0\">         64] </span>│\n",
       "│<span style=\"color: #7f7f7f; text-decoration-color: #7f7f7f\"> 57  </span>│ encoder.interaction_blocks.1.lin_feature0.lin2 │ Linear      │  8.2 K │ train │<span style=\"color: #c0c0c0; text-decoration-color: #c0c0c0\">    [171552, </span>│<span style=\"color: #c0c0c0; text-decoration-color: #c0c0c0\">    [171552, </span>│\n",
       "│<span style=\"color: #7f7f7f; text-decoration-color: #7f7f7f\">     </span>│                                                │             │        │       │<span style=\"color: #c0c0c0; text-decoration-color: #c0c0c0\">         64] </span>│<span style=\"color: #c0c0c0; text-decoration-color: #c0c0c0\">        128] </span>│\n",
       "│<span style=\"color: #7f7f7f; text-decoration-color: #7f7f7f\"> 58  </span>│ encoder.interaction_blocks.1.lin_feature1      │ TwoLinear   │  9.0 K │ train │<span style=\"color: #c0c0c0; text-decoration-color: #c0c0c0\">    [171552, </span>│<span style=\"color: #c0c0c0; text-decoration-color: #c0c0c0\">    [171552, </span>│\n",
       "│<span style=\"color: #7f7f7f; text-decoration-color: #7f7f7f\">     </span>│                                                │             │        │       │<span style=\"color: #c0c0c0; text-decoration-color: #c0c0c0\">         12] </span>│<span style=\"color: #c0c0c0; text-decoration-color: #c0c0c0\">        128] </span>│\n",
       "│<span style=\"color: #7f7f7f; text-decoration-color: #7f7f7f\"> 59  </span>│ encoder.interaction_blocks.1.lin_feature1.lin1 │ Linear      │    768 │ train │<span style=\"color: #c0c0c0; text-decoration-color: #c0c0c0\">    [171552, </span>│<span style=\"color: #c0c0c0; text-decoration-color: #c0c0c0\">    [171552, </span>│\n",
       "│<span style=\"color: #7f7f7f; text-decoration-color: #7f7f7f\">     </span>│                                                │             │        │       │<span style=\"color: #c0c0c0; text-decoration-color: #c0c0c0\">         12] </span>│<span style=\"color: #c0c0c0; text-decoration-color: #c0c0c0\">         64] </span>│\n",
       "│<span style=\"color: #7f7f7f; text-decoration-color: #7f7f7f\"> 60  </span>│ encoder.interaction_blocks.1.lin_feature1.lin2 │ Linear      │  8.2 K │ train │<span style=\"color: #c0c0c0; text-decoration-color: #c0c0c0\">    [171552, </span>│<span style=\"color: #c0c0c0; text-decoration-color: #c0c0c0\">    [171552, </span>│\n",
       "│<span style=\"color: #7f7f7f; text-decoration-color: #7f7f7f\">     </span>│                                                │             │        │       │<span style=\"color: #c0c0c0; text-decoration-color: #c0c0c0\">         64] </span>│<span style=\"color: #c0c0c0; text-decoration-color: #c0c0c0\">        128] </span>│\n",
       "│<span style=\"color: #7f7f7f; text-decoration-color: #7f7f7f\"> 61  </span>│ encoder.interaction_blocks.1.lin_feature2      │ TwoLinear   │  9.2 K │ train │<span style=\"color: #c0c0c0; text-decoration-color: #c0c0c0\">    [171552, </span>│<span style=\"color: #c0c0c0; text-decoration-color: #c0c0c0\">    [171552, </span>│\n",
       "│<span style=\"color: #7f7f7f; text-decoration-color: #7f7f7f\">     </span>│                                                │             │        │       │<span style=\"color: #c0c0c0; text-decoration-color: #c0c0c0\">         16] </span>│<span style=\"color: #c0c0c0; text-decoration-color: #c0c0c0\">        128] </span>│\n",
       "│<span style=\"color: #7f7f7f; text-decoration-color: #7f7f7f\"> 62  </span>│ encoder.interaction_blocks.1.lin_feature2.lin1 │ Linear      │  1.0 K │ train │<span style=\"color: #c0c0c0; text-decoration-color: #c0c0c0\">    [171552, </span>│<span style=\"color: #c0c0c0; text-decoration-color: #c0c0c0\">    [171552, </span>│\n",
       "│<span style=\"color: #7f7f7f; text-decoration-color: #7f7f7f\">     </span>│                                                │             │        │       │<span style=\"color: #c0c0c0; text-decoration-color: #c0c0c0\">         16] </span>│<span style=\"color: #c0c0c0; text-decoration-color: #c0c0c0\">         64] </span>│\n",
       "│<span style=\"color: #7f7f7f; text-decoration-color: #7f7f7f\"> 63  </span>│ encoder.interaction_blocks.1.lin_feature2.lin2 │ Linear      │  8.2 K │ train │<span style=\"color: #c0c0c0; text-decoration-color: #c0c0c0\">    [171552, </span>│<span style=\"color: #c0c0c0; text-decoration-color: #c0c0c0\">    [171552, </span>│\n",
       "│<span style=\"color: #7f7f7f; text-decoration-color: #7f7f7f\">     </span>│                                                │             │        │       │<span style=\"color: #c0c0c0; text-decoration-color: #c0c0c0\">         64] </span>│<span style=\"color: #c0c0c0; text-decoration-color: #c0c0c0\">        128] </span>│\n",
       "│<span style=\"color: #7f7f7f; text-decoration-color: #7f7f7f\"> 64  </span>│ encoder.interaction_blocks.1.lin_1             │ Linear      │ 16.5 K │ train │<span style=\"color: #c0c0c0; text-decoration-color: #c0c0c0\">     [10722, </span>│<span style=\"color: #c0c0c0; text-decoration-color: #c0c0c0\">     [10722, </span>│\n",
       "│<span style=\"color: #7f7f7f; text-decoration-color: #7f7f7f\">     </span>│                                                │             │        │       │<span style=\"color: #c0c0c0; text-decoration-color: #c0c0c0\">        128] </span>│<span style=\"color: #c0c0c0; text-decoration-color: #c0c0c0\">        128] </span>│\n",
       "│<span style=\"color: #7f7f7f; text-decoration-color: #7f7f7f\"> 65  </span>│ encoder.interaction_blocks.1.lin_2             │ Linear      │ 16.5 K │ train │<span style=\"color: #c0c0c0; text-decoration-color: #c0c0c0\">     [10722, </span>│<span style=\"color: #c0c0c0; text-decoration-color: #c0c0c0\">     [10722, </span>│\n",
       "│<span style=\"color: #7f7f7f; text-decoration-color: #7f7f7f\">     </span>│                                                │             │        │       │<span style=\"color: #c0c0c0; text-decoration-color: #c0c0c0\">        128] </span>│<span style=\"color: #c0c0c0; text-decoration-color: #c0c0c0\">        128] </span>│\n",
       "│<span style=\"color: #7f7f7f; text-decoration-color: #7f7f7f\"> 66  </span>│ encoder.interaction_blocks.1.lin0              │ Linear      │ 16.5 K │ train │<span style=\"color: #c0c0c0; text-decoration-color: #c0c0c0\">     [10722, </span>│<span style=\"color: #c0c0c0; text-decoration-color: #c0c0c0\">     [10722, </span>│\n",
       "│<span style=\"color: #7f7f7f; text-decoration-color: #7f7f7f\">     </span>│                                                │             │        │       │<span style=\"color: #c0c0c0; text-decoration-color: #c0c0c0\">        128] </span>│<span style=\"color: #c0c0c0; text-decoration-color: #c0c0c0\">        128] </span>│\n",
       "│<span style=\"color: #7f7f7f; text-decoration-color: #7f7f7f\"> 67  </span>│ encoder.interaction_blocks.1.lin1              │ Linear      │ 16.5 K │ train │<span style=\"color: #c0c0c0; text-decoration-color: #c0c0c0\">     [10722, </span>│<span style=\"color: #c0c0c0; text-decoration-color: #c0c0c0\">     [10722, </span>│\n",
       "│<span style=\"color: #7f7f7f; text-decoration-color: #7f7f7f\">     </span>│                                                │             │        │       │<span style=\"color: #c0c0c0; text-decoration-color: #c0c0c0\">        128] </span>│<span style=\"color: #c0c0c0; text-decoration-color: #c0c0c0\">        128] </span>│\n",
       "│<span style=\"color: #7f7f7f; text-decoration-color: #7f7f7f\"> 68  </span>│ encoder.interaction_blocks.1.lin2              │ Linear      │ 16.5 K │ train │<span style=\"color: #c0c0c0; text-decoration-color: #c0c0c0\">     [10722, </span>│<span style=\"color: #c0c0c0; text-decoration-color: #c0c0c0\">     [10722, </span>│\n",
       "│<span style=\"color: #7f7f7f; text-decoration-color: #7f7f7f\">     </span>│                                                │             │        │       │<span style=\"color: #c0c0c0; text-decoration-color: #c0c0c0\">        128] </span>│<span style=\"color: #c0c0c0; text-decoration-color: #c0c0c0\">        128] </span>│\n",
       "│<span style=\"color: #7f7f7f; text-decoration-color: #7f7f7f\"> 69  </span>│ encoder.interaction_blocks.1.lins_cat          │ ModuleList  │ 82.3 K │ train │<span style=\"color: #c0c0c0; text-decoration-color: #c0c0c0\">           ? </span>│<span style=\"color: #c0c0c0; text-decoration-color: #c0c0c0\">           ? </span>│\n",
       "│<span style=\"color: #7f7f7f; text-decoration-color: #7f7f7f\"> 70  </span>│ encoder.interaction_blocks.1.lins_cat.0        │ Linear      │ 49.3 K │ train │<span style=\"color: #c0c0c0; text-decoration-color: #c0c0c0\">     [10722, </span>│<span style=\"color: #c0c0c0; text-decoration-color: #c0c0c0\">     [10722, </span>│\n",
       "│<span style=\"color: #7f7f7f; text-decoration-color: #7f7f7f\">     </span>│                                                │             │        │       │<span style=\"color: #c0c0c0; text-decoration-color: #c0c0c0\">        384] </span>│<span style=\"color: #c0c0c0; text-decoration-color: #c0c0c0\">        128] </span>│\n",
       "│<span style=\"color: #7f7f7f; text-decoration-color: #7f7f7f\"> 71  </span>│ encoder.interaction_blocks.1.lins_cat.1        │ Linear      │ 16.5 K │ train │<span style=\"color: #c0c0c0; text-decoration-color: #c0c0c0\">     [10722, </span>│<span style=\"color: #c0c0c0; text-decoration-color: #c0c0c0\">     [10722, </span>│\n",
       "│<span style=\"color: #7f7f7f; text-decoration-color: #7f7f7f\">     </span>│                                                │             │        │       │<span style=\"color: #c0c0c0; text-decoration-color: #c0c0c0\">        128] </span>│<span style=\"color: #c0c0c0; text-decoration-color: #c0c0c0\">        128] </span>│\n",
       "│<span style=\"color: #7f7f7f; text-decoration-color: #7f7f7f\"> 72  </span>│ encoder.interaction_blocks.1.lins_cat.2        │ Linear      │ 16.5 K │ train │<span style=\"color: #c0c0c0; text-decoration-color: #c0c0c0\">     [10722, </span>│<span style=\"color: #c0c0c0; text-decoration-color: #c0c0c0\">     [10722, </span>│\n",
       "│<span style=\"color: #7f7f7f; text-decoration-color: #7f7f7f\">     </span>│                                                │             │        │       │<span style=\"color: #c0c0c0; text-decoration-color: #c0c0c0\">        128] </span>│<span style=\"color: #c0c0c0; text-decoration-color: #c0c0c0\">        128] </span>│\n",
       "│<span style=\"color: #7f7f7f; text-decoration-color: #7f7f7f\"> 73  </span>│ encoder.interaction_blocks.1.lins              │ ModuleList  │ 33.0 K │ train │<span style=\"color: #c0c0c0; text-decoration-color: #c0c0c0\">           ? </span>│<span style=\"color: #c0c0c0; text-decoration-color: #c0c0c0\">           ? </span>│\n",
       "│<span style=\"color: #7f7f7f; text-decoration-color: #7f7f7f\"> 74  </span>│ encoder.interaction_blocks.1.lins.0            │ Linear      │ 16.5 K │ train │<span style=\"color: #c0c0c0; text-decoration-color: #c0c0c0\">     [10722, </span>│<span style=\"color: #c0c0c0; text-decoration-color: #c0c0c0\">     [10722, </span>│\n",
       "│<span style=\"color: #7f7f7f; text-decoration-color: #7f7f7f\">     </span>│                                                │             │        │       │<span style=\"color: #c0c0c0; text-decoration-color: #c0c0c0\">        128] </span>│<span style=\"color: #c0c0c0; text-decoration-color: #c0c0c0\">        128] </span>│\n",
       "│<span style=\"color: #7f7f7f; text-decoration-color: #7f7f7f\"> 75  </span>│ encoder.interaction_blocks.1.lins.1            │ Linear      │ 16.5 K │ train │<span style=\"color: #c0c0c0; text-decoration-color: #c0c0c0\">     [10722, </span>│<span style=\"color: #c0c0c0; text-decoration-color: #c0c0c0\">     [10722, </span>│\n",
       "│<span style=\"color: #7f7f7f; text-decoration-color: #7f7f7f\">     </span>│                                                │             │        │       │<span style=\"color: #c0c0c0; text-decoration-color: #c0c0c0\">        128] </span>│<span style=\"color: #c0c0c0; text-decoration-color: #c0c0c0\">        128] </span>│\n",
       "│<span style=\"color: #7f7f7f; text-decoration-color: #7f7f7f\"> 76  </span>│ encoder.interaction_blocks.1.final             │ Linear      │ 16.5 K │ train │<span style=\"color: #c0c0c0; text-decoration-color: #c0c0c0\">     [10722, </span>│<span style=\"color: #c0c0c0; text-decoration-color: #c0c0c0\">     [10722, </span>│\n",
       "│<span style=\"color: #7f7f7f; text-decoration-color: #7f7f7f\">     </span>│                                                │             │        │       │<span style=\"color: #c0c0c0; text-decoration-color: #c0c0c0\">        128] </span>│<span style=\"color: #c0c0c0; text-decoration-color: #c0c0c0\">        128] </span>│\n",
       "│<span style=\"color: #7f7f7f; text-decoration-color: #7f7f7f\"> 77  </span>│ encoder.interaction_blocks.2                   │ Interactio… │  340 K │ train │<span style=\"color: #c0c0c0; text-decoration-color: #c0c0c0\">    [[10722, </span>│<span style=\"color: #c0c0c0; text-decoration-color: #c0c0c0\">     [10722, </span>│\n",
       "│<span style=\"color: #7f7f7f; text-decoration-color: #7f7f7f\">     </span>│                                                │             │        │       │<span style=\"color: #c0c0c0; text-decoration-color: #c0c0c0\">       128], </span>│<span style=\"color: #c0c0c0; text-decoration-color: #c0c0c0\">        128] </span>│\n",
       "│<span style=\"color: #7f7f7f; text-decoration-color: #7f7f7f\">     </span>│                                                │             │        │       │<span style=\"color: #c0c0c0; text-decoration-color: #c0c0c0\">    [171552, </span>│<span style=\"color: #c0c0c0; text-decoration-color: #c0c0c0\">             </span>│\n",
       "│<span style=\"color: #7f7f7f; text-decoration-color: #7f7f7f\">     </span>│                                                │             │        │       │<span style=\"color: #c0c0c0; text-decoration-color: #c0c0c0\">        24], </span>│<span style=\"color: #c0c0c0; text-decoration-color: #c0c0c0\">             </span>│\n",
       "│<span style=\"color: #7f7f7f; text-decoration-color: #7f7f7f\">     </span>│                                                │             │        │       │<span style=\"color: #c0c0c0; text-decoration-color: #c0c0c0\">    [171552, </span>│<span style=\"color: #c0c0c0; text-decoration-color: #c0c0c0\">             </span>│\n",
       "│<span style=\"color: #7f7f7f; text-decoration-color: #7f7f7f\">     </span>│                                                │             │        │       │<span style=\"color: #c0c0c0; text-decoration-color: #c0c0c0\">        12], </span>│<span style=\"color: #c0c0c0; text-decoration-color: #c0c0c0\">             </span>│\n",
       "│<span style=\"color: #7f7f7f; text-decoration-color: #7f7f7f\">     </span>│                                                │             │        │       │<span style=\"color: #c0c0c0; text-decoration-color: #c0c0c0\">    [171552, </span>│<span style=\"color: #c0c0c0; text-decoration-color: #c0c0c0\">             </span>│\n",
       "│<span style=\"color: #7f7f7f; text-decoration-color: #7f7f7f\">     </span>│                                                │             │        │       │<span style=\"color: #c0c0c0; text-decoration-color: #c0c0c0\">    16], [2, </span>│<span style=\"color: #c0c0c0; text-decoration-color: #c0c0c0\">             </span>│\n",
       "│<span style=\"color: #7f7f7f; text-decoration-color: #7f7f7f\">     </span>│                                                │             │        │       │<span style=\"color: #c0c0c0; text-decoration-color: #c0c0c0\">    171552], </span>│<span style=\"color: #c0c0c0; text-decoration-color: #c0c0c0\">             </span>│\n",
       "│<span style=\"color: #7f7f7f; text-decoration-color: #7f7f7f\">     </span>│                                                │             │        │       │<span style=\"color: #c0c0c0; text-decoration-color: #c0c0c0\">    [10722]] </span>│<span style=\"color: #c0c0c0; text-decoration-color: #c0c0c0\">             </span>│\n",
       "│<span style=\"color: #7f7f7f; text-decoration-color: #7f7f7f\"> 78  </span>│ encoder.interaction_blocks.2.dropout           │ Dropout     │      0 │ train │<span style=\"color: #c0c0c0; text-decoration-color: #c0c0c0\">     [10722, </span>│<span style=\"color: #c0c0c0; text-decoration-color: #c0c0c0\">     [10722, </span>│\n",
       "│<span style=\"color: #7f7f7f; text-decoration-color: #7f7f7f\">     </span>│                                                │             │        │       │<span style=\"color: #c0c0c0; text-decoration-color: #c0c0c0\">        128] </span>│<span style=\"color: #c0c0c0; text-decoration-color: #c0c0c0\">        128] </span>│\n",
       "│<span style=\"color: #7f7f7f; text-decoration-color: #7f7f7f\"> 79  </span>│ encoder.interaction_blocks.2.conv0             │ EdgeGraphC… │ 32.9 K │ train │<span style=\"color: #c0c0c0; text-decoration-color: #c0c0c0\">    [[10722, </span>│<span style=\"color: #c0c0c0; text-decoration-color: #c0c0c0\">     [10722, </span>│\n",
       "│<span style=\"color: #7f7f7f; text-decoration-color: #7f7f7f\">     </span>│                                                │             │        │       │<span style=\"color: #c0c0c0; text-decoration-color: #c0c0c0\">   128], [2, </span>│<span style=\"color: #c0c0c0; text-decoration-color: #c0c0c0\">        128] </span>│\n",
       "│<span style=\"color: #7f7f7f; text-decoration-color: #7f7f7f\">     </span>│                                                │             │        │       │<span style=\"color: #c0c0c0; text-decoration-color: #c0c0c0\">    171552], </span>│<span style=\"color: #c0c0c0; text-decoration-color: #c0c0c0\">             </span>│\n",
       "│<span style=\"color: #7f7f7f; text-decoration-color: #7f7f7f\">     </span>│                                                │             │        │       │<span style=\"color: #c0c0c0; text-decoration-color: #c0c0c0\">    [171552, </span>│<span style=\"color: #c0c0c0; text-decoration-color: #c0c0c0\">             </span>│\n",
       "│<span style=\"color: #7f7f7f; text-decoration-color: #7f7f7f\">     </span>│                                                │             │        │       │<span style=\"color: #c0c0c0; text-decoration-color: #c0c0c0\">       128]] </span>│<span style=\"color: #c0c0c0; text-decoration-color: #c0c0c0\">             </span>│\n",
       "│<span style=\"color: #7f7f7f; text-decoration-color: #7f7f7f\"> 80  </span>│ encoder.interaction_blocks.2.conv0.aggr_module │ SumAggrega… │      0 │ train │<span style=\"color: #c0c0c0; text-decoration-color: #c0c0c0\">   [[171552, </span>│<span style=\"color: #c0c0c0; text-decoration-color: #c0c0c0\">     [10722, </span>│\n",
       "│<span style=\"color: #7f7f7f; text-decoration-color: #7f7f7f\">     </span>│                                                │             │        │       │<span style=\"color: #c0c0c0; text-decoration-color: #c0c0c0\">       128], </span>│<span style=\"color: #c0c0c0; text-decoration-color: #c0c0c0\">        128] </span>│\n",
       "│<span style=\"color: #7f7f7f; text-decoration-color: #7f7f7f\">     </span>│                                                │             │        │       │<span style=\"color: #c0c0c0; text-decoration-color: #c0c0c0\">   [171552], </span>│<span style=\"color: #c0c0c0; text-decoration-color: #c0c0c0\">             </span>│\n",
       "│<span style=\"color: #7f7f7f; text-decoration-color: #7f7f7f\">     </span>│                                                │             │        │       │<span style=\"color: #c0c0c0; text-decoration-color: #c0c0c0\">   '?', '?', </span>│<span style=\"color: #c0c0c0; text-decoration-color: #c0c0c0\">             </span>│\n",
       "│<span style=\"color: #7f7f7f; text-decoration-color: #7f7f7f\">     </span>│                                                │             │        │       │<span style=\"color: #c0c0c0; text-decoration-color: #c0c0c0\">        '?'] </span>│<span style=\"color: #c0c0c0; text-decoration-color: #c0c0c0\">             </span>│\n",
       "│<span style=\"color: #7f7f7f; text-decoration-color: #7f7f7f\"> 81  </span>│ encoder.interaction_blocks.2.conv0.lin_l       │ Linear      │ 16.5 K │ train │<span style=\"color: #c0c0c0; text-decoration-color: #c0c0c0\">     [10722, </span>│<span style=\"color: #c0c0c0; text-decoration-color: #c0c0c0\">     [10722, </span>│\n",
       "│<span style=\"color: #7f7f7f; text-decoration-color: #7f7f7f\">     </span>│                                                │             │        │       │<span style=\"color: #c0c0c0; text-decoration-color: #c0c0c0\">        128] </span>│<span style=\"color: #c0c0c0; text-decoration-color: #c0c0c0\">        128] </span>│\n",
       "│<span style=\"color: #7f7f7f; text-decoration-color: #7f7f7f\"> 82  </span>│ encoder.interaction_blocks.2.conv0.lin_r       │ Linear      │ 16.4 K │ train │<span style=\"color: #c0c0c0; text-decoration-color: #c0c0c0\">     [10722, </span>│<span style=\"color: #c0c0c0; text-decoration-color: #c0c0c0\">     [10722, </span>│\n",
       "│<span style=\"color: #7f7f7f; text-decoration-color: #7f7f7f\">     </span>│                                                │             │        │       │<span style=\"color: #c0c0c0; text-decoration-color: #c0c0c0\">        128] </span>│<span style=\"color: #c0c0c0; text-decoration-color: #c0c0c0\">        128] </span>│\n",
       "│<span style=\"color: #7f7f7f; text-decoration-color: #7f7f7f\"> 83  </span>│ encoder.interaction_blocks.2.conv1             │ EdgeGraphC… │ 32.9 K │ train │<span style=\"color: #c0c0c0; text-decoration-color: #c0c0c0\">    [[10722, </span>│<span style=\"color: #c0c0c0; text-decoration-color: #c0c0c0\">     [10722, </span>│\n",
       "│<span style=\"color: #7f7f7f; text-decoration-color: #7f7f7f\">     </span>│                                                │             │        │       │<span style=\"color: #c0c0c0; text-decoration-color: #c0c0c0\">   128], [2, </span>│<span style=\"color: #c0c0c0; text-decoration-color: #c0c0c0\">        128] </span>│\n",
       "│<span style=\"color: #7f7f7f; text-decoration-color: #7f7f7f\">     </span>│                                                │             │        │       │<span style=\"color: #c0c0c0; text-decoration-color: #c0c0c0\">    171552], </span>│<span style=\"color: #c0c0c0; text-decoration-color: #c0c0c0\">             </span>│\n",
       "│<span style=\"color: #7f7f7f; text-decoration-color: #7f7f7f\">     </span>│                                                │             │        │       │<span style=\"color: #c0c0c0; text-decoration-color: #c0c0c0\">    [171552, </span>│<span style=\"color: #c0c0c0; text-decoration-color: #c0c0c0\">             </span>│\n",
       "│<span style=\"color: #7f7f7f; text-decoration-color: #7f7f7f\">     </span>│                                                │             │        │       │<span style=\"color: #c0c0c0; text-decoration-color: #c0c0c0\">       128]] </span>│<span style=\"color: #c0c0c0; text-decoration-color: #c0c0c0\">             </span>│\n",
       "│<span style=\"color: #7f7f7f; text-decoration-color: #7f7f7f\"> 84  </span>│ encoder.interaction_blocks.2.conv1.aggr_module │ SumAggrega… │      0 │ train │<span style=\"color: #c0c0c0; text-decoration-color: #c0c0c0\">   [[171552, </span>│<span style=\"color: #c0c0c0; text-decoration-color: #c0c0c0\">     [10722, </span>│\n",
       "│<span style=\"color: #7f7f7f; text-decoration-color: #7f7f7f\">     </span>│                                                │             │        │       │<span style=\"color: #c0c0c0; text-decoration-color: #c0c0c0\">       128], </span>│<span style=\"color: #c0c0c0; text-decoration-color: #c0c0c0\">        128] </span>│\n",
       "│<span style=\"color: #7f7f7f; text-decoration-color: #7f7f7f\">     </span>│                                                │             │        │       │<span style=\"color: #c0c0c0; text-decoration-color: #c0c0c0\">   [171552], </span>│<span style=\"color: #c0c0c0; text-decoration-color: #c0c0c0\">             </span>│\n",
       "│<span style=\"color: #7f7f7f; text-decoration-color: #7f7f7f\">     </span>│                                                │             │        │       │<span style=\"color: #c0c0c0; text-decoration-color: #c0c0c0\">   '?', '?', </span>│<span style=\"color: #c0c0c0; text-decoration-color: #c0c0c0\">             </span>│\n",
       "│<span style=\"color: #7f7f7f; text-decoration-color: #7f7f7f\">     </span>│                                                │             │        │       │<span style=\"color: #c0c0c0; text-decoration-color: #c0c0c0\">        '?'] </span>│<span style=\"color: #c0c0c0; text-decoration-color: #c0c0c0\">             </span>│\n",
       "│<span style=\"color: #7f7f7f; text-decoration-color: #7f7f7f\"> 85  </span>│ encoder.interaction_blocks.2.conv1.lin_l       │ Linear      │ 16.5 K │ train │<span style=\"color: #c0c0c0; text-decoration-color: #c0c0c0\">     [10722, </span>│<span style=\"color: #c0c0c0; text-decoration-color: #c0c0c0\">     [10722, </span>│\n",
       "│<span style=\"color: #7f7f7f; text-decoration-color: #7f7f7f\">     </span>│                                                │             │        │       │<span style=\"color: #c0c0c0; text-decoration-color: #c0c0c0\">        128] </span>│<span style=\"color: #c0c0c0; text-decoration-color: #c0c0c0\">        128] </span>│\n",
       "│<span style=\"color: #7f7f7f; text-decoration-color: #7f7f7f\"> 86  </span>│ encoder.interaction_blocks.2.conv1.lin_r       │ Linear      │ 16.4 K │ train │<span style=\"color: #c0c0c0; text-decoration-color: #c0c0c0\">     [10722, </span>│<span style=\"color: #c0c0c0; text-decoration-color: #c0c0c0\">     [10722, </span>│\n",
       "│<span style=\"color: #7f7f7f; text-decoration-color: #7f7f7f\">     </span>│                                                │             │        │       │<span style=\"color: #c0c0c0; text-decoration-color: #c0c0c0\">        128] </span>│<span style=\"color: #c0c0c0; text-decoration-color: #c0c0c0\">        128] </span>│\n",
       "│<span style=\"color: #7f7f7f; text-decoration-color: #7f7f7f\"> 87  </span>│ encoder.interaction_blocks.2.conv2             │ EdgeGraphC… │ 32.9 K │ train │<span style=\"color: #c0c0c0; text-decoration-color: #c0c0c0\">    [[10722, </span>│<span style=\"color: #c0c0c0; text-decoration-color: #c0c0c0\">     [10722, </span>│\n",
       "│<span style=\"color: #7f7f7f; text-decoration-color: #7f7f7f\">     </span>│                                                │             │        │       │<span style=\"color: #c0c0c0; text-decoration-color: #c0c0c0\">   128], [2, </span>│<span style=\"color: #c0c0c0; text-decoration-color: #c0c0c0\">        128] </span>│\n",
       "│<span style=\"color: #7f7f7f; text-decoration-color: #7f7f7f\">     </span>│                                                │             │        │       │<span style=\"color: #c0c0c0; text-decoration-color: #c0c0c0\">    171552], </span>│<span style=\"color: #c0c0c0; text-decoration-color: #c0c0c0\">             </span>│\n",
       "│<span style=\"color: #7f7f7f; text-decoration-color: #7f7f7f\">     </span>│                                                │             │        │       │<span style=\"color: #c0c0c0; text-decoration-color: #c0c0c0\">    [171552, </span>│<span style=\"color: #c0c0c0; text-decoration-color: #c0c0c0\">             </span>│\n",
       "│<span style=\"color: #7f7f7f; text-decoration-color: #7f7f7f\">     </span>│                                                │             │        │       │<span style=\"color: #c0c0c0; text-decoration-color: #c0c0c0\">       128]] </span>│<span style=\"color: #c0c0c0; text-decoration-color: #c0c0c0\">             </span>│\n",
       "│<span style=\"color: #7f7f7f; text-decoration-color: #7f7f7f\"> 88  </span>│ encoder.interaction_blocks.2.conv2.aggr_module │ SumAggrega… │      0 │ train │<span style=\"color: #c0c0c0; text-decoration-color: #c0c0c0\">   [[171552, </span>│<span style=\"color: #c0c0c0; text-decoration-color: #c0c0c0\">     [10722, </span>│\n",
       "│<span style=\"color: #7f7f7f; text-decoration-color: #7f7f7f\">     </span>│                                                │             │        │       │<span style=\"color: #c0c0c0; text-decoration-color: #c0c0c0\">       128], </span>│<span style=\"color: #c0c0c0; text-decoration-color: #c0c0c0\">        128] </span>│\n",
       "│<span style=\"color: #7f7f7f; text-decoration-color: #7f7f7f\">     </span>│                                                │             │        │       │<span style=\"color: #c0c0c0; text-decoration-color: #c0c0c0\">   [171552], </span>│<span style=\"color: #c0c0c0; text-decoration-color: #c0c0c0\">             </span>│\n",
       "│<span style=\"color: #7f7f7f; text-decoration-color: #7f7f7f\">     </span>│                                                │             │        │       │<span style=\"color: #c0c0c0; text-decoration-color: #c0c0c0\">   '?', '?', </span>│<span style=\"color: #c0c0c0; text-decoration-color: #c0c0c0\">             </span>│\n",
       "│<span style=\"color: #7f7f7f; text-decoration-color: #7f7f7f\">     </span>│                                                │             │        │       │<span style=\"color: #c0c0c0; text-decoration-color: #c0c0c0\">        '?'] </span>│<span style=\"color: #c0c0c0; text-decoration-color: #c0c0c0\">             </span>│\n",
       "│<span style=\"color: #7f7f7f; text-decoration-color: #7f7f7f\"> 89  </span>│ encoder.interaction_blocks.2.conv2.lin_l       │ Linear      │ 16.5 K │ train │<span style=\"color: #c0c0c0; text-decoration-color: #c0c0c0\">     [10722, </span>│<span style=\"color: #c0c0c0; text-decoration-color: #c0c0c0\">     [10722, </span>│\n",
       "│<span style=\"color: #7f7f7f; text-decoration-color: #7f7f7f\">     </span>│                                                │             │        │       │<span style=\"color: #c0c0c0; text-decoration-color: #c0c0c0\">        128] </span>│<span style=\"color: #c0c0c0; text-decoration-color: #c0c0c0\">        128] </span>│\n",
       "│<span style=\"color: #7f7f7f; text-decoration-color: #7f7f7f\"> 90  </span>│ encoder.interaction_blocks.2.conv2.lin_r       │ Linear      │ 16.4 K │ train │<span style=\"color: #c0c0c0; text-decoration-color: #c0c0c0\">     [10722, </span>│<span style=\"color: #c0c0c0; text-decoration-color: #c0c0c0\">     [10722, </span>│\n",
       "│<span style=\"color: #7f7f7f; text-decoration-color: #7f7f7f\">     </span>│                                                │             │        │       │<span style=\"color: #c0c0c0; text-decoration-color: #c0c0c0\">        128] </span>│<span style=\"color: #c0c0c0; text-decoration-color: #c0c0c0\">        128] </span>│\n",
       "│<span style=\"color: #7f7f7f; text-decoration-color: #7f7f7f\"> 91  </span>│ encoder.interaction_blocks.2.lin_feature0      │ TwoLinear   │  9.7 K │ train │<span style=\"color: #c0c0c0; text-decoration-color: #c0c0c0\">    [171552, </span>│<span style=\"color: #c0c0c0; text-decoration-color: #c0c0c0\">    [171552, </span>│\n",
       "│<span style=\"color: #7f7f7f; text-decoration-color: #7f7f7f\">     </span>│                                                │             │        │       │<span style=\"color: #c0c0c0; text-decoration-color: #c0c0c0\">         24] </span>│<span style=\"color: #c0c0c0; text-decoration-color: #c0c0c0\">        128] </span>│\n",
       "│<span style=\"color: #7f7f7f; text-decoration-color: #7f7f7f\"> 92  </span>│ encoder.interaction_blocks.2.lin_feature0.lin1 │ Linear      │  1.5 K │ train │<span style=\"color: #c0c0c0; text-decoration-color: #c0c0c0\">    [171552, </span>│<span style=\"color: #c0c0c0; text-decoration-color: #c0c0c0\">    [171552, </span>│\n",
       "│<span style=\"color: #7f7f7f; text-decoration-color: #7f7f7f\">     </span>│                                                │             │        │       │<span style=\"color: #c0c0c0; text-decoration-color: #c0c0c0\">         24] </span>│<span style=\"color: #c0c0c0; text-decoration-color: #c0c0c0\">         64] </span>│\n",
       "│<span style=\"color: #7f7f7f; text-decoration-color: #7f7f7f\"> 93  </span>│ encoder.interaction_blocks.2.lin_feature0.lin2 │ Linear      │  8.2 K │ train │<span style=\"color: #c0c0c0; text-decoration-color: #c0c0c0\">    [171552, </span>│<span style=\"color: #c0c0c0; text-decoration-color: #c0c0c0\">    [171552, </span>│\n",
       "│<span style=\"color: #7f7f7f; text-decoration-color: #7f7f7f\">     </span>│                                                │             │        │       │<span style=\"color: #c0c0c0; text-decoration-color: #c0c0c0\">         64] </span>│<span style=\"color: #c0c0c0; text-decoration-color: #c0c0c0\">        128] </span>│\n",
       "│<span style=\"color: #7f7f7f; text-decoration-color: #7f7f7f\"> 94  </span>│ encoder.interaction_blocks.2.lin_feature1      │ TwoLinear   │  9.0 K │ train │<span style=\"color: #c0c0c0; text-decoration-color: #c0c0c0\">    [171552, </span>│<span style=\"color: #c0c0c0; text-decoration-color: #c0c0c0\">    [171552, </span>│\n",
       "│<span style=\"color: #7f7f7f; text-decoration-color: #7f7f7f\">     </span>│                                                │             │        │       │<span style=\"color: #c0c0c0; text-decoration-color: #c0c0c0\">         12] </span>│<span style=\"color: #c0c0c0; text-decoration-color: #c0c0c0\">        128] </span>│\n",
       "│<span style=\"color: #7f7f7f; text-decoration-color: #7f7f7f\"> 95  </span>│ encoder.interaction_blocks.2.lin_feature1.lin1 │ Linear      │    768 │ train │<span style=\"color: #c0c0c0; text-decoration-color: #c0c0c0\">    [171552, </span>│<span style=\"color: #c0c0c0; text-decoration-color: #c0c0c0\">    [171552, </span>│\n",
       "│<span style=\"color: #7f7f7f; text-decoration-color: #7f7f7f\">     </span>│                                                │             │        │       │<span style=\"color: #c0c0c0; text-decoration-color: #c0c0c0\">         12] </span>│<span style=\"color: #c0c0c0; text-decoration-color: #c0c0c0\">         64] </span>│\n",
       "│<span style=\"color: #7f7f7f; text-decoration-color: #7f7f7f\"> 96  </span>│ encoder.interaction_blocks.2.lin_feature1.lin2 │ Linear      │  8.2 K │ train │<span style=\"color: #c0c0c0; text-decoration-color: #c0c0c0\">    [171552, </span>│<span style=\"color: #c0c0c0; text-decoration-color: #c0c0c0\">    [171552, </span>│\n",
       "│<span style=\"color: #7f7f7f; text-decoration-color: #7f7f7f\">     </span>│                                                │             │        │       │<span style=\"color: #c0c0c0; text-decoration-color: #c0c0c0\">         64] </span>│<span style=\"color: #c0c0c0; text-decoration-color: #c0c0c0\">        128] </span>│\n",
       "│<span style=\"color: #7f7f7f; text-decoration-color: #7f7f7f\"> 97  </span>│ encoder.interaction_blocks.2.lin_feature2      │ TwoLinear   │  9.2 K │ train │<span style=\"color: #c0c0c0; text-decoration-color: #c0c0c0\">    [171552, </span>│<span style=\"color: #c0c0c0; text-decoration-color: #c0c0c0\">    [171552, </span>│\n",
       "│<span style=\"color: #7f7f7f; text-decoration-color: #7f7f7f\">     </span>│                                                │             │        │       │<span style=\"color: #c0c0c0; text-decoration-color: #c0c0c0\">         16] </span>│<span style=\"color: #c0c0c0; text-decoration-color: #c0c0c0\">        128] </span>│\n",
       "│<span style=\"color: #7f7f7f; text-decoration-color: #7f7f7f\"> 98  </span>│ encoder.interaction_blocks.2.lin_feature2.lin1 │ Linear      │  1.0 K │ train │<span style=\"color: #c0c0c0; text-decoration-color: #c0c0c0\">    [171552, </span>│<span style=\"color: #c0c0c0; text-decoration-color: #c0c0c0\">    [171552, </span>│\n",
       "│<span style=\"color: #7f7f7f; text-decoration-color: #7f7f7f\">     </span>│                                                │             │        │       │<span style=\"color: #c0c0c0; text-decoration-color: #c0c0c0\">         16] </span>│<span style=\"color: #c0c0c0; text-decoration-color: #c0c0c0\">         64] </span>│\n",
       "│<span style=\"color: #7f7f7f; text-decoration-color: #7f7f7f\"> 99  </span>│ encoder.interaction_blocks.2.lin_feature2.lin2 │ Linear      │  8.2 K │ train │<span style=\"color: #c0c0c0; text-decoration-color: #c0c0c0\">    [171552, </span>│<span style=\"color: #c0c0c0; text-decoration-color: #c0c0c0\">    [171552, </span>│\n",
       "│<span style=\"color: #7f7f7f; text-decoration-color: #7f7f7f\">     </span>│                                                │             │        │       │<span style=\"color: #c0c0c0; text-decoration-color: #c0c0c0\">         64] </span>│<span style=\"color: #c0c0c0; text-decoration-color: #c0c0c0\">        128] </span>│\n",
       "│<span style=\"color: #7f7f7f; text-decoration-color: #7f7f7f\"> 100 </span>│ encoder.interaction_blocks.2.lin_1             │ Linear      │ 16.5 K │ train │<span style=\"color: #c0c0c0; text-decoration-color: #c0c0c0\">     [10722, </span>│<span style=\"color: #c0c0c0; text-decoration-color: #c0c0c0\">     [10722, </span>│\n",
       "│<span style=\"color: #7f7f7f; text-decoration-color: #7f7f7f\">     </span>│                                                │             │        │       │<span style=\"color: #c0c0c0; text-decoration-color: #c0c0c0\">        128] </span>│<span style=\"color: #c0c0c0; text-decoration-color: #c0c0c0\">        128] </span>│\n",
       "│<span style=\"color: #7f7f7f; text-decoration-color: #7f7f7f\"> 101 </span>│ encoder.interaction_blocks.2.lin_2             │ Linear      │ 16.5 K │ train │<span style=\"color: #c0c0c0; text-decoration-color: #c0c0c0\">     [10722, </span>│<span style=\"color: #c0c0c0; text-decoration-color: #c0c0c0\">     [10722, </span>│\n",
       "│<span style=\"color: #7f7f7f; text-decoration-color: #7f7f7f\">     </span>│                                                │             │        │       │<span style=\"color: #c0c0c0; text-decoration-color: #c0c0c0\">        128] </span>│<span style=\"color: #c0c0c0; text-decoration-color: #c0c0c0\">        128] </span>│\n",
       "│<span style=\"color: #7f7f7f; text-decoration-color: #7f7f7f\"> 102 </span>│ encoder.interaction_blocks.2.lin0              │ Linear      │ 16.5 K │ train │<span style=\"color: #c0c0c0; text-decoration-color: #c0c0c0\">     [10722, </span>│<span style=\"color: #c0c0c0; text-decoration-color: #c0c0c0\">     [10722, </span>│\n",
       "│<span style=\"color: #7f7f7f; text-decoration-color: #7f7f7f\">     </span>│                                                │             │        │       │<span style=\"color: #c0c0c0; text-decoration-color: #c0c0c0\">        128] </span>│<span style=\"color: #c0c0c0; text-decoration-color: #c0c0c0\">        128] </span>│\n",
       "│<span style=\"color: #7f7f7f; text-decoration-color: #7f7f7f\"> 103 </span>│ encoder.interaction_blocks.2.lin1              │ Linear      │ 16.5 K │ train │<span style=\"color: #c0c0c0; text-decoration-color: #c0c0c0\">     [10722, </span>│<span style=\"color: #c0c0c0; text-decoration-color: #c0c0c0\">     [10722, </span>│\n",
       "│<span style=\"color: #7f7f7f; text-decoration-color: #7f7f7f\">     </span>│                                                │             │        │       │<span style=\"color: #c0c0c0; text-decoration-color: #c0c0c0\">        128] </span>│<span style=\"color: #c0c0c0; text-decoration-color: #c0c0c0\">        128] </span>│\n",
       "│<span style=\"color: #7f7f7f; text-decoration-color: #7f7f7f\"> 104 </span>│ encoder.interaction_blocks.2.lin2              │ Linear      │ 16.5 K │ train │<span style=\"color: #c0c0c0; text-decoration-color: #c0c0c0\">     [10722, </span>│<span style=\"color: #c0c0c0; text-decoration-color: #c0c0c0\">     [10722, </span>│\n",
       "│<span style=\"color: #7f7f7f; text-decoration-color: #7f7f7f\">     </span>│                                                │             │        │       │<span style=\"color: #c0c0c0; text-decoration-color: #c0c0c0\">        128] </span>│<span style=\"color: #c0c0c0; text-decoration-color: #c0c0c0\">        128] </span>│\n",
       "│<span style=\"color: #7f7f7f; text-decoration-color: #7f7f7f\"> 105 </span>│ encoder.interaction_blocks.2.lins_cat          │ ModuleList  │ 82.3 K │ train │<span style=\"color: #c0c0c0; text-decoration-color: #c0c0c0\">           ? </span>│<span style=\"color: #c0c0c0; text-decoration-color: #c0c0c0\">           ? </span>│\n",
       "│<span style=\"color: #7f7f7f; text-decoration-color: #7f7f7f\"> 106 </span>│ encoder.interaction_blocks.2.lins_cat.0        │ Linear      │ 49.3 K │ train │<span style=\"color: #c0c0c0; text-decoration-color: #c0c0c0\">     [10722, </span>│<span style=\"color: #c0c0c0; text-decoration-color: #c0c0c0\">     [10722, </span>│\n",
       "│<span style=\"color: #7f7f7f; text-decoration-color: #7f7f7f\">     </span>│                                                │             │        │       │<span style=\"color: #c0c0c0; text-decoration-color: #c0c0c0\">        384] </span>│<span style=\"color: #c0c0c0; text-decoration-color: #c0c0c0\">        128] </span>│\n",
       "│<span style=\"color: #7f7f7f; text-decoration-color: #7f7f7f\"> 107 </span>│ encoder.interaction_blocks.2.lins_cat.1        │ Linear      │ 16.5 K │ train │<span style=\"color: #c0c0c0; text-decoration-color: #c0c0c0\">     [10722, </span>│<span style=\"color: #c0c0c0; text-decoration-color: #c0c0c0\">     [10722, </span>│\n",
       "│<span style=\"color: #7f7f7f; text-decoration-color: #7f7f7f\">     </span>│                                                │             │        │       │<span style=\"color: #c0c0c0; text-decoration-color: #c0c0c0\">        128] </span>│<span style=\"color: #c0c0c0; text-decoration-color: #c0c0c0\">        128] </span>│\n",
       "│<span style=\"color: #7f7f7f; text-decoration-color: #7f7f7f\"> 108 </span>│ encoder.interaction_blocks.2.lins_cat.2        │ Linear      │ 16.5 K │ train │<span style=\"color: #c0c0c0; text-decoration-color: #c0c0c0\">     [10722, </span>│<span style=\"color: #c0c0c0; text-decoration-color: #c0c0c0\">     [10722, </span>│\n",
       "│<span style=\"color: #7f7f7f; text-decoration-color: #7f7f7f\">     </span>│                                                │             │        │       │<span style=\"color: #c0c0c0; text-decoration-color: #c0c0c0\">        128] </span>│<span style=\"color: #c0c0c0; text-decoration-color: #c0c0c0\">        128] </span>│\n",
       "│<span style=\"color: #7f7f7f; text-decoration-color: #7f7f7f\"> 109 </span>│ encoder.interaction_blocks.2.lins              │ ModuleList  │ 33.0 K │ train │<span style=\"color: #c0c0c0; text-decoration-color: #c0c0c0\">           ? </span>│<span style=\"color: #c0c0c0; text-decoration-color: #c0c0c0\">           ? </span>│\n",
       "│<span style=\"color: #7f7f7f; text-decoration-color: #7f7f7f\"> 110 </span>│ encoder.interaction_blocks.2.lins.0            │ Linear      │ 16.5 K │ train │<span style=\"color: #c0c0c0; text-decoration-color: #c0c0c0\">     [10722, </span>│<span style=\"color: #c0c0c0; text-decoration-color: #c0c0c0\">     [10722, </span>│\n",
       "│<span style=\"color: #7f7f7f; text-decoration-color: #7f7f7f\">     </span>│                                                │             │        │       │<span style=\"color: #c0c0c0; text-decoration-color: #c0c0c0\">        128] </span>│<span style=\"color: #c0c0c0; text-decoration-color: #c0c0c0\">        128] </span>│\n",
       "│<span style=\"color: #7f7f7f; text-decoration-color: #7f7f7f\"> 111 </span>│ encoder.interaction_blocks.2.lins.1            │ Linear      │ 16.5 K │ train │<span style=\"color: #c0c0c0; text-decoration-color: #c0c0c0\">     [10722, </span>│<span style=\"color: #c0c0c0; text-decoration-color: #c0c0c0\">     [10722, </span>│\n",
       "│<span style=\"color: #7f7f7f; text-decoration-color: #7f7f7f\">     </span>│                                                │             │        │       │<span style=\"color: #c0c0c0; text-decoration-color: #c0c0c0\">        128] </span>│<span style=\"color: #c0c0c0; text-decoration-color: #c0c0c0\">        128] </span>│\n",
       "│<span style=\"color: #7f7f7f; text-decoration-color: #7f7f7f\"> 112 </span>│ encoder.interaction_blocks.2.final             │ Linear      │ 16.5 K │ train │<span style=\"color: #c0c0c0; text-decoration-color: #c0c0c0\">     [10722, </span>│<span style=\"color: #c0c0c0; text-decoration-color: #c0c0c0\">     [10722, </span>│\n",
       "│<span style=\"color: #7f7f7f; text-decoration-color: #7f7f7f\">     </span>│                                                │             │        │       │<span style=\"color: #c0c0c0; text-decoration-color: #c0c0c0\">        128] </span>│<span style=\"color: #c0c0c0; text-decoration-color: #c0c0c0\">        128] </span>│\n",
       "│<span style=\"color: #7f7f7f; text-decoration-color: #7f7f7f\"> 113 </span>│ encoder.interaction_blocks.3                   │ Interactio… │  340 K │ train │<span style=\"color: #c0c0c0; text-decoration-color: #c0c0c0\">    [[10722, </span>│<span style=\"color: #c0c0c0; text-decoration-color: #c0c0c0\">     [10722, </span>│\n",
       "│<span style=\"color: #7f7f7f; text-decoration-color: #7f7f7f\">     </span>│                                                │             │        │       │<span style=\"color: #c0c0c0; text-decoration-color: #c0c0c0\">       128], </span>│<span style=\"color: #c0c0c0; text-decoration-color: #c0c0c0\">        128] </span>│\n",
       "│<span style=\"color: #7f7f7f; text-decoration-color: #7f7f7f\">     </span>│                                                │             │        │       │<span style=\"color: #c0c0c0; text-decoration-color: #c0c0c0\">    [171552, </span>│<span style=\"color: #c0c0c0; text-decoration-color: #c0c0c0\">             </span>│\n",
       "│<span style=\"color: #7f7f7f; text-decoration-color: #7f7f7f\">     </span>│                                                │             │        │       │<span style=\"color: #c0c0c0; text-decoration-color: #c0c0c0\">        24], </span>│<span style=\"color: #c0c0c0; text-decoration-color: #c0c0c0\">             </span>│\n",
       "│<span style=\"color: #7f7f7f; text-decoration-color: #7f7f7f\">     </span>│                                                │             │        │       │<span style=\"color: #c0c0c0; text-decoration-color: #c0c0c0\">    [171552, </span>│<span style=\"color: #c0c0c0; text-decoration-color: #c0c0c0\">             </span>│\n",
       "│<span style=\"color: #7f7f7f; text-decoration-color: #7f7f7f\">     </span>│                                                │             │        │       │<span style=\"color: #c0c0c0; text-decoration-color: #c0c0c0\">        12], </span>│<span style=\"color: #c0c0c0; text-decoration-color: #c0c0c0\">             </span>│\n",
       "│<span style=\"color: #7f7f7f; text-decoration-color: #7f7f7f\">     </span>│                                                │             │        │       │<span style=\"color: #c0c0c0; text-decoration-color: #c0c0c0\">    [171552, </span>│<span style=\"color: #c0c0c0; text-decoration-color: #c0c0c0\">             </span>│\n",
       "│<span style=\"color: #7f7f7f; text-decoration-color: #7f7f7f\">     </span>│                                                │             │        │       │<span style=\"color: #c0c0c0; text-decoration-color: #c0c0c0\">    16], [2, </span>│<span style=\"color: #c0c0c0; text-decoration-color: #c0c0c0\">             </span>│\n",
       "│<span style=\"color: #7f7f7f; text-decoration-color: #7f7f7f\">     </span>│                                                │             │        │       │<span style=\"color: #c0c0c0; text-decoration-color: #c0c0c0\">    171552], </span>│<span style=\"color: #c0c0c0; text-decoration-color: #c0c0c0\">             </span>│\n",
       "│<span style=\"color: #7f7f7f; text-decoration-color: #7f7f7f\">     </span>│                                                │             │        │       │<span style=\"color: #c0c0c0; text-decoration-color: #c0c0c0\">    [10722]] </span>│<span style=\"color: #c0c0c0; text-decoration-color: #c0c0c0\">             </span>│\n",
       "│<span style=\"color: #7f7f7f; text-decoration-color: #7f7f7f\"> 114 </span>│ encoder.interaction_blocks.3.dropout           │ Dropout     │      0 │ train │<span style=\"color: #c0c0c0; text-decoration-color: #c0c0c0\">     [10722, </span>│<span style=\"color: #c0c0c0; text-decoration-color: #c0c0c0\">     [10722, </span>│\n",
       "│<span style=\"color: #7f7f7f; text-decoration-color: #7f7f7f\">     </span>│                                                │             │        │       │<span style=\"color: #c0c0c0; text-decoration-color: #c0c0c0\">        128] </span>│<span style=\"color: #c0c0c0; text-decoration-color: #c0c0c0\">        128] </span>│\n",
       "│<span style=\"color: #7f7f7f; text-decoration-color: #7f7f7f\"> 115 </span>│ encoder.interaction_blocks.3.conv0             │ EdgeGraphC… │ 32.9 K │ train │<span style=\"color: #c0c0c0; text-decoration-color: #c0c0c0\">    [[10722, </span>│<span style=\"color: #c0c0c0; text-decoration-color: #c0c0c0\">     [10722, </span>│\n",
       "│<span style=\"color: #7f7f7f; text-decoration-color: #7f7f7f\">     </span>│                                                │             │        │       │<span style=\"color: #c0c0c0; text-decoration-color: #c0c0c0\">   128], [2, </span>│<span style=\"color: #c0c0c0; text-decoration-color: #c0c0c0\">        128] </span>│\n",
       "│<span style=\"color: #7f7f7f; text-decoration-color: #7f7f7f\">     </span>│                                                │             │        │       │<span style=\"color: #c0c0c0; text-decoration-color: #c0c0c0\">    171552], </span>│<span style=\"color: #c0c0c0; text-decoration-color: #c0c0c0\">             </span>│\n",
       "│<span style=\"color: #7f7f7f; text-decoration-color: #7f7f7f\">     </span>│                                                │             │        │       │<span style=\"color: #c0c0c0; text-decoration-color: #c0c0c0\">    [171552, </span>│<span style=\"color: #c0c0c0; text-decoration-color: #c0c0c0\">             </span>│\n",
       "│<span style=\"color: #7f7f7f; text-decoration-color: #7f7f7f\">     </span>│                                                │             │        │       │<span style=\"color: #c0c0c0; text-decoration-color: #c0c0c0\">       128]] </span>│<span style=\"color: #c0c0c0; text-decoration-color: #c0c0c0\">             </span>│\n",
       "│<span style=\"color: #7f7f7f; text-decoration-color: #7f7f7f\"> 116 </span>│ encoder.interaction_blocks.3.conv0.aggr_module │ SumAggrega… │      0 │ train │<span style=\"color: #c0c0c0; text-decoration-color: #c0c0c0\">   [[171552, </span>│<span style=\"color: #c0c0c0; text-decoration-color: #c0c0c0\">     [10722, </span>│\n",
       "│<span style=\"color: #7f7f7f; text-decoration-color: #7f7f7f\">     </span>│                                                │             │        │       │<span style=\"color: #c0c0c0; text-decoration-color: #c0c0c0\">       128], </span>│<span style=\"color: #c0c0c0; text-decoration-color: #c0c0c0\">        128] </span>│\n",
       "│<span style=\"color: #7f7f7f; text-decoration-color: #7f7f7f\">     </span>│                                                │             │        │       │<span style=\"color: #c0c0c0; text-decoration-color: #c0c0c0\">   [171552], </span>│<span style=\"color: #c0c0c0; text-decoration-color: #c0c0c0\">             </span>│\n",
       "│<span style=\"color: #7f7f7f; text-decoration-color: #7f7f7f\">     </span>│                                                │             │        │       │<span style=\"color: #c0c0c0; text-decoration-color: #c0c0c0\">   '?', '?', </span>│<span style=\"color: #c0c0c0; text-decoration-color: #c0c0c0\">             </span>│\n",
       "│<span style=\"color: #7f7f7f; text-decoration-color: #7f7f7f\">     </span>│                                                │             │        │       │<span style=\"color: #c0c0c0; text-decoration-color: #c0c0c0\">        '?'] </span>│<span style=\"color: #c0c0c0; text-decoration-color: #c0c0c0\">             </span>│\n",
       "│<span style=\"color: #7f7f7f; text-decoration-color: #7f7f7f\"> 117 </span>│ encoder.interaction_blocks.3.conv0.lin_l       │ Linear      │ 16.5 K │ train │<span style=\"color: #c0c0c0; text-decoration-color: #c0c0c0\">     [10722, </span>│<span style=\"color: #c0c0c0; text-decoration-color: #c0c0c0\">     [10722, </span>│\n",
       "│<span style=\"color: #7f7f7f; text-decoration-color: #7f7f7f\">     </span>│                                                │             │        │       │<span style=\"color: #c0c0c0; text-decoration-color: #c0c0c0\">        128] </span>│<span style=\"color: #c0c0c0; text-decoration-color: #c0c0c0\">        128] </span>│\n",
       "│<span style=\"color: #7f7f7f; text-decoration-color: #7f7f7f\"> 118 </span>│ encoder.interaction_blocks.3.conv0.lin_r       │ Linear      │ 16.4 K │ train │<span style=\"color: #c0c0c0; text-decoration-color: #c0c0c0\">     [10722, </span>│<span style=\"color: #c0c0c0; text-decoration-color: #c0c0c0\">     [10722, </span>│\n",
       "│<span style=\"color: #7f7f7f; text-decoration-color: #7f7f7f\">     </span>│                                                │             │        │       │<span style=\"color: #c0c0c0; text-decoration-color: #c0c0c0\">        128] </span>│<span style=\"color: #c0c0c0; text-decoration-color: #c0c0c0\">        128] </span>│\n",
       "│<span style=\"color: #7f7f7f; text-decoration-color: #7f7f7f\"> 119 </span>│ encoder.interaction_blocks.3.conv1             │ EdgeGraphC… │ 32.9 K │ train │<span style=\"color: #c0c0c0; text-decoration-color: #c0c0c0\">    [[10722, </span>│<span style=\"color: #c0c0c0; text-decoration-color: #c0c0c0\">     [10722, </span>│\n",
       "│<span style=\"color: #7f7f7f; text-decoration-color: #7f7f7f\">     </span>│                                                │             │        │       │<span style=\"color: #c0c0c0; text-decoration-color: #c0c0c0\">   128], [2, </span>│<span style=\"color: #c0c0c0; text-decoration-color: #c0c0c0\">        128] </span>│\n",
       "│<span style=\"color: #7f7f7f; text-decoration-color: #7f7f7f\">     </span>│                                                │             │        │       │<span style=\"color: #c0c0c0; text-decoration-color: #c0c0c0\">    171552], </span>│<span style=\"color: #c0c0c0; text-decoration-color: #c0c0c0\">             </span>│\n",
       "│<span style=\"color: #7f7f7f; text-decoration-color: #7f7f7f\">     </span>│                                                │             │        │       │<span style=\"color: #c0c0c0; text-decoration-color: #c0c0c0\">    [171552, </span>│<span style=\"color: #c0c0c0; text-decoration-color: #c0c0c0\">             </span>│\n",
       "│<span style=\"color: #7f7f7f; text-decoration-color: #7f7f7f\">     </span>│                                                │             │        │       │<span style=\"color: #c0c0c0; text-decoration-color: #c0c0c0\">       128]] </span>│<span style=\"color: #c0c0c0; text-decoration-color: #c0c0c0\">             </span>│\n",
       "│<span style=\"color: #7f7f7f; text-decoration-color: #7f7f7f\"> 120 </span>│ encoder.interaction_blocks.3.conv1.aggr_module │ SumAggrega… │      0 │ train │<span style=\"color: #c0c0c0; text-decoration-color: #c0c0c0\">   [[171552, </span>│<span style=\"color: #c0c0c0; text-decoration-color: #c0c0c0\">     [10722, </span>│\n",
       "│<span style=\"color: #7f7f7f; text-decoration-color: #7f7f7f\">     </span>│                                                │             │        │       │<span style=\"color: #c0c0c0; text-decoration-color: #c0c0c0\">       128], </span>│<span style=\"color: #c0c0c0; text-decoration-color: #c0c0c0\">        128] </span>│\n",
       "│<span style=\"color: #7f7f7f; text-decoration-color: #7f7f7f\">     </span>│                                                │             │        │       │<span style=\"color: #c0c0c0; text-decoration-color: #c0c0c0\">   [171552], </span>│<span style=\"color: #c0c0c0; text-decoration-color: #c0c0c0\">             </span>│\n",
       "│<span style=\"color: #7f7f7f; text-decoration-color: #7f7f7f\">     </span>│                                                │             │        │       │<span style=\"color: #c0c0c0; text-decoration-color: #c0c0c0\">   '?', '?', </span>│<span style=\"color: #c0c0c0; text-decoration-color: #c0c0c0\">             </span>│\n",
       "│<span style=\"color: #7f7f7f; text-decoration-color: #7f7f7f\">     </span>│                                                │             │        │       │<span style=\"color: #c0c0c0; text-decoration-color: #c0c0c0\">        '?'] </span>│<span style=\"color: #c0c0c0; text-decoration-color: #c0c0c0\">             </span>│\n",
       "│<span style=\"color: #7f7f7f; text-decoration-color: #7f7f7f\"> 121 </span>│ encoder.interaction_blocks.3.conv1.lin_l       │ Linear      │ 16.5 K │ train │<span style=\"color: #c0c0c0; text-decoration-color: #c0c0c0\">     [10722, </span>│<span style=\"color: #c0c0c0; text-decoration-color: #c0c0c0\">     [10722, </span>│\n",
       "│<span style=\"color: #7f7f7f; text-decoration-color: #7f7f7f\">     </span>│                                                │             │        │       │<span style=\"color: #c0c0c0; text-decoration-color: #c0c0c0\">        128] </span>│<span style=\"color: #c0c0c0; text-decoration-color: #c0c0c0\">        128] </span>│\n",
       "│<span style=\"color: #7f7f7f; text-decoration-color: #7f7f7f\"> 122 </span>│ encoder.interaction_blocks.3.conv1.lin_r       │ Linear      │ 16.4 K │ train │<span style=\"color: #c0c0c0; text-decoration-color: #c0c0c0\">     [10722, </span>│<span style=\"color: #c0c0c0; text-decoration-color: #c0c0c0\">     [10722, </span>│\n",
       "│<span style=\"color: #7f7f7f; text-decoration-color: #7f7f7f\">     </span>│                                                │             │        │       │<span style=\"color: #c0c0c0; text-decoration-color: #c0c0c0\">        128] </span>│<span style=\"color: #c0c0c0; text-decoration-color: #c0c0c0\">        128] </span>│\n",
       "│<span style=\"color: #7f7f7f; text-decoration-color: #7f7f7f\"> 123 </span>│ encoder.interaction_blocks.3.conv2             │ EdgeGraphC… │ 32.9 K │ train │<span style=\"color: #c0c0c0; text-decoration-color: #c0c0c0\">    [[10722, </span>│<span style=\"color: #c0c0c0; text-decoration-color: #c0c0c0\">     [10722, </span>│\n",
       "│<span style=\"color: #7f7f7f; text-decoration-color: #7f7f7f\">     </span>│                                                │             │        │       │<span style=\"color: #c0c0c0; text-decoration-color: #c0c0c0\">   128], [2, </span>│<span style=\"color: #c0c0c0; text-decoration-color: #c0c0c0\">        128] </span>│\n",
       "│<span style=\"color: #7f7f7f; text-decoration-color: #7f7f7f\">     </span>│                                                │             │        │       │<span style=\"color: #c0c0c0; text-decoration-color: #c0c0c0\">    171552], </span>│<span style=\"color: #c0c0c0; text-decoration-color: #c0c0c0\">             </span>│\n",
       "│<span style=\"color: #7f7f7f; text-decoration-color: #7f7f7f\">     </span>│                                                │             │        │       │<span style=\"color: #c0c0c0; text-decoration-color: #c0c0c0\">    [171552, </span>│<span style=\"color: #c0c0c0; text-decoration-color: #c0c0c0\">             </span>│\n",
       "│<span style=\"color: #7f7f7f; text-decoration-color: #7f7f7f\">     </span>│                                                │             │        │       │<span style=\"color: #c0c0c0; text-decoration-color: #c0c0c0\">       128]] </span>│<span style=\"color: #c0c0c0; text-decoration-color: #c0c0c0\">             </span>│\n",
       "│<span style=\"color: #7f7f7f; text-decoration-color: #7f7f7f\"> 124 </span>│ encoder.interaction_blocks.3.conv2.aggr_module │ SumAggrega… │      0 │ train │<span style=\"color: #c0c0c0; text-decoration-color: #c0c0c0\">   [[171552, </span>│<span style=\"color: #c0c0c0; text-decoration-color: #c0c0c0\">     [10722, </span>│\n",
       "│<span style=\"color: #7f7f7f; text-decoration-color: #7f7f7f\">     </span>│                                                │             │        │       │<span style=\"color: #c0c0c0; text-decoration-color: #c0c0c0\">       128], </span>│<span style=\"color: #c0c0c0; text-decoration-color: #c0c0c0\">        128] </span>│\n",
       "│<span style=\"color: #7f7f7f; text-decoration-color: #7f7f7f\">     </span>│                                                │             │        │       │<span style=\"color: #c0c0c0; text-decoration-color: #c0c0c0\">   [171552], </span>│<span style=\"color: #c0c0c0; text-decoration-color: #c0c0c0\">             </span>│\n",
       "│<span style=\"color: #7f7f7f; text-decoration-color: #7f7f7f\">     </span>│                                                │             │        │       │<span style=\"color: #c0c0c0; text-decoration-color: #c0c0c0\">   '?', '?', </span>│<span style=\"color: #c0c0c0; text-decoration-color: #c0c0c0\">             </span>│\n",
       "│<span style=\"color: #7f7f7f; text-decoration-color: #7f7f7f\">     </span>│                                                │             │        │       │<span style=\"color: #c0c0c0; text-decoration-color: #c0c0c0\">        '?'] </span>│<span style=\"color: #c0c0c0; text-decoration-color: #c0c0c0\">             </span>│\n",
       "│<span style=\"color: #7f7f7f; text-decoration-color: #7f7f7f\"> 125 </span>│ encoder.interaction_blocks.3.conv2.lin_l       │ Linear      │ 16.5 K │ train │<span style=\"color: #c0c0c0; text-decoration-color: #c0c0c0\">     [10722, </span>│<span style=\"color: #c0c0c0; text-decoration-color: #c0c0c0\">     [10722, </span>│\n",
       "│<span style=\"color: #7f7f7f; text-decoration-color: #7f7f7f\">     </span>│                                                │             │        │       │<span style=\"color: #c0c0c0; text-decoration-color: #c0c0c0\">        128] </span>│<span style=\"color: #c0c0c0; text-decoration-color: #c0c0c0\">        128] </span>│\n",
       "│<span style=\"color: #7f7f7f; text-decoration-color: #7f7f7f\"> 126 </span>│ encoder.interaction_blocks.3.conv2.lin_r       │ Linear      │ 16.4 K │ train │<span style=\"color: #c0c0c0; text-decoration-color: #c0c0c0\">     [10722, </span>│<span style=\"color: #c0c0c0; text-decoration-color: #c0c0c0\">     [10722, </span>│\n",
       "│<span style=\"color: #7f7f7f; text-decoration-color: #7f7f7f\">     </span>│                                                │             │        │       │<span style=\"color: #c0c0c0; text-decoration-color: #c0c0c0\">        128] </span>│<span style=\"color: #c0c0c0; text-decoration-color: #c0c0c0\">        128] </span>│\n",
       "│<span style=\"color: #7f7f7f; text-decoration-color: #7f7f7f\"> 127 </span>│ encoder.interaction_blocks.3.lin_feature0      │ TwoLinear   │  9.7 K │ train │<span style=\"color: #c0c0c0; text-decoration-color: #c0c0c0\">    [171552, </span>│<span style=\"color: #c0c0c0; text-decoration-color: #c0c0c0\">    [171552, </span>│\n",
       "│<span style=\"color: #7f7f7f; text-decoration-color: #7f7f7f\">     </span>│                                                │             │        │       │<span style=\"color: #c0c0c0; text-decoration-color: #c0c0c0\">         24] </span>│<span style=\"color: #c0c0c0; text-decoration-color: #c0c0c0\">        128] </span>│\n",
       "│<span style=\"color: #7f7f7f; text-decoration-color: #7f7f7f\"> 128 </span>│ encoder.interaction_blocks.3.lin_feature0.lin1 │ Linear      │  1.5 K │ train │<span style=\"color: #c0c0c0; text-decoration-color: #c0c0c0\">    [171552, </span>│<span style=\"color: #c0c0c0; text-decoration-color: #c0c0c0\">    [171552, </span>│\n",
       "│<span style=\"color: #7f7f7f; text-decoration-color: #7f7f7f\">     </span>│                                                │             │        │       │<span style=\"color: #c0c0c0; text-decoration-color: #c0c0c0\">         24] </span>│<span style=\"color: #c0c0c0; text-decoration-color: #c0c0c0\">         64] </span>│\n",
       "│<span style=\"color: #7f7f7f; text-decoration-color: #7f7f7f\"> 129 </span>│ encoder.interaction_blocks.3.lin_feature0.lin2 │ Linear      │  8.2 K │ train │<span style=\"color: #c0c0c0; text-decoration-color: #c0c0c0\">    [171552, </span>│<span style=\"color: #c0c0c0; text-decoration-color: #c0c0c0\">    [171552, </span>│\n",
       "│<span style=\"color: #7f7f7f; text-decoration-color: #7f7f7f\">     </span>│                                                │             │        │       │<span style=\"color: #c0c0c0; text-decoration-color: #c0c0c0\">         64] </span>│<span style=\"color: #c0c0c0; text-decoration-color: #c0c0c0\">        128] </span>│\n",
       "│<span style=\"color: #7f7f7f; text-decoration-color: #7f7f7f\"> 130 </span>│ encoder.interaction_blocks.3.lin_feature1      │ TwoLinear   │  9.0 K │ train │<span style=\"color: #c0c0c0; text-decoration-color: #c0c0c0\">    [171552, </span>│<span style=\"color: #c0c0c0; text-decoration-color: #c0c0c0\">    [171552, </span>│\n",
       "│<span style=\"color: #7f7f7f; text-decoration-color: #7f7f7f\">     </span>│                                                │             │        │       │<span style=\"color: #c0c0c0; text-decoration-color: #c0c0c0\">         12] </span>│<span style=\"color: #c0c0c0; text-decoration-color: #c0c0c0\">        128] </span>│\n",
       "│<span style=\"color: #7f7f7f; text-decoration-color: #7f7f7f\"> 131 </span>│ encoder.interaction_blocks.3.lin_feature1.lin1 │ Linear      │    768 │ train │<span style=\"color: #c0c0c0; text-decoration-color: #c0c0c0\">    [171552, </span>│<span style=\"color: #c0c0c0; text-decoration-color: #c0c0c0\">    [171552, </span>│\n",
       "│<span style=\"color: #7f7f7f; text-decoration-color: #7f7f7f\">     </span>│                                                │             │        │       │<span style=\"color: #c0c0c0; text-decoration-color: #c0c0c0\">         12] </span>│<span style=\"color: #c0c0c0; text-decoration-color: #c0c0c0\">         64] </span>│\n",
       "│<span style=\"color: #7f7f7f; text-decoration-color: #7f7f7f\"> 132 </span>│ encoder.interaction_blocks.3.lin_feature1.lin2 │ Linear      │  8.2 K │ train │<span style=\"color: #c0c0c0; text-decoration-color: #c0c0c0\">    [171552, </span>│<span style=\"color: #c0c0c0; text-decoration-color: #c0c0c0\">    [171552, </span>│\n",
       "│<span style=\"color: #7f7f7f; text-decoration-color: #7f7f7f\">     </span>│                                                │             │        │       │<span style=\"color: #c0c0c0; text-decoration-color: #c0c0c0\">         64] </span>│<span style=\"color: #c0c0c0; text-decoration-color: #c0c0c0\">        128] </span>│\n",
       "│<span style=\"color: #7f7f7f; text-decoration-color: #7f7f7f\"> 133 </span>│ encoder.interaction_blocks.3.lin_feature2      │ TwoLinear   │  9.2 K │ train │<span style=\"color: #c0c0c0; text-decoration-color: #c0c0c0\">    [171552, </span>│<span style=\"color: #c0c0c0; text-decoration-color: #c0c0c0\">    [171552, </span>│\n",
       "│<span style=\"color: #7f7f7f; text-decoration-color: #7f7f7f\">     </span>│                                                │             │        │       │<span style=\"color: #c0c0c0; text-decoration-color: #c0c0c0\">         16] </span>│<span style=\"color: #c0c0c0; text-decoration-color: #c0c0c0\">        128] </span>│\n",
       "│<span style=\"color: #7f7f7f; text-decoration-color: #7f7f7f\"> 134 </span>│ encoder.interaction_blocks.3.lin_feature2.lin1 │ Linear      │  1.0 K │ train │<span style=\"color: #c0c0c0; text-decoration-color: #c0c0c0\">    [171552, </span>│<span style=\"color: #c0c0c0; text-decoration-color: #c0c0c0\">    [171552, </span>│\n",
       "│<span style=\"color: #7f7f7f; text-decoration-color: #7f7f7f\">     </span>│                                                │             │        │       │<span style=\"color: #c0c0c0; text-decoration-color: #c0c0c0\">         16] </span>│<span style=\"color: #c0c0c0; text-decoration-color: #c0c0c0\">         64] </span>│\n",
       "│<span style=\"color: #7f7f7f; text-decoration-color: #7f7f7f\"> 135 </span>│ encoder.interaction_blocks.3.lin_feature2.lin2 │ Linear      │  8.2 K │ train │<span style=\"color: #c0c0c0; text-decoration-color: #c0c0c0\">    [171552, </span>│<span style=\"color: #c0c0c0; text-decoration-color: #c0c0c0\">    [171552, </span>│\n",
       "│<span style=\"color: #7f7f7f; text-decoration-color: #7f7f7f\">     </span>│                                                │             │        │       │<span style=\"color: #c0c0c0; text-decoration-color: #c0c0c0\">         64] </span>│<span style=\"color: #c0c0c0; text-decoration-color: #c0c0c0\">        128] </span>│\n",
       "│<span style=\"color: #7f7f7f; text-decoration-color: #7f7f7f\"> 136 </span>│ encoder.interaction_blocks.3.lin_1             │ Linear      │ 16.5 K │ train │<span style=\"color: #c0c0c0; text-decoration-color: #c0c0c0\">     [10722, </span>│<span style=\"color: #c0c0c0; text-decoration-color: #c0c0c0\">     [10722, </span>│\n",
       "│<span style=\"color: #7f7f7f; text-decoration-color: #7f7f7f\">     </span>│                                                │             │        │       │<span style=\"color: #c0c0c0; text-decoration-color: #c0c0c0\">        128] </span>│<span style=\"color: #c0c0c0; text-decoration-color: #c0c0c0\">        128] </span>│\n",
       "│<span style=\"color: #7f7f7f; text-decoration-color: #7f7f7f\"> 137 </span>│ encoder.interaction_blocks.3.lin_2             │ Linear      │ 16.5 K │ train │<span style=\"color: #c0c0c0; text-decoration-color: #c0c0c0\">     [10722, </span>│<span style=\"color: #c0c0c0; text-decoration-color: #c0c0c0\">     [10722, </span>│\n",
       "│<span style=\"color: #7f7f7f; text-decoration-color: #7f7f7f\">     </span>│                                                │             │        │       │<span style=\"color: #c0c0c0; text-decoration-color: #c0c0c0\">        128] </span>│<span style=\"color: #c0c0c0; text-decoration-color: #c0c0c0\">        128] </span>│\n",
       "│<span style=\"color: #7f7f7f; text-decoration-color: #7f7f7f\"> 138 </span>│ encoder.interaction_blocks.3.lin0              │ Linear      │ 16.5 K │ train │<span style=\"color: #c0c0c0; text-decoration-color: #c0c0c0\">     [10722, </span>│<span style=\"color: #c0c0c0; text-decoration-color: #c0c0c0\">     [10722, </span>│\n",
       "│<span style=\"color: #7f7f7f; text-decoration-color: #7f7f7f\">     </span>│                                                │             │        │       │<span style=\"color: #c0c0c0; text-decoration-color: #c0c0c0\">        128] </span>│<span style=\"color: #c0c0c0; text-decoration-color: #c0c0c0\">        128] </span>│\n",
       "│<span style=\"color: #7f7f7f; text-decoration-color: #7f7f7f\"> 139 </span>│ encoder.interaction_blocks.3.lin1              │ Linear      │ 16.5 K │ train │<span style=\"color: #c0c0c0; text-decoration-color: #c0c0c0\">     [10722, </span>│<span style=\"color: #c0c0c0; text-decoration-color: #c0c0c0\">     [10722, </span>│\n",
       "│<span style=\"color: #7f7f7f; text-decoration-color: #7f7f7f\">     </span>│                                                │             │        │       │<span style=\"color: #c0c0c0; text-decoration-color: #c0c0c0\">        128] </span>│<span style=\"color: #c0c0c0; text-decoration-color: #c0c0c0\">        128] </span>│\n",
       "│<span style=\"color: #7f7f7f; text-decoration-color: #7f7f7f\"> 140 </span>│ encoder.interaction_blocks.3.lin2              │ Linear      │ 16.5 K │ train │<span style=\"color: #c0c0c0; text-decoration-color: #c0c0c0\">     [10722, </span>│<span style=\"color: #c0c0c0; text-decoration-color: #c0c0c0\">     [10722, </span>│\n",
       "│<span style=\"color: #7f7f7f; text-decoration-color: #7f7f7f\">     </span>│                                                │             │        │       │<span style=\"color: #c0c0c0; text-decoration-color: #c0c0c0\">        128] </span>│<span style=\"color: #c0c0c0; text-decoration-color: #c0c0c0\">        128] </span>│\n",
       "│<span style=\"color: #7f7f7f; text-decoration-color: #7f7f7f\"> 141 </span>│ encoder.interaction_blocks.3.lins_cat          │ ModuleList  │ 82.3 K │ train │<span style=\"color: #c0c0c0; text-decoration-color: #c0c0c0\">           ? </span>│<span style=\"color: #c0c0c0; text-decoration-color: #c0c0c0\">           ? </span>│\n",
       "│<span style=\"color: #7f7f7f; text-decoration-color: #7f7f7f\"> 142 </span>│ encoder.interaction_blocks.3.lins_cat.0        │ Linear      │ 49.3 K │ train │<span style=\"color: #c0c0c0; text-decoration-color: #c0c0c0\">     [10722, </span>│<span style=\"color: #c0c0c0; text-decoration-color: #c0c0c0\">     [10722, </span>│\n",
       "│<span style=\"color: #7f7f7f; text-decoration-color: #7f7f7f\">     </span>│                                                │             │        │       │<span style=\"color: #c0c0c0; text-decoration-color: #c0c0c0\">        384] </span>│<span style=\"color: #c0c0c0; text-decoration-color: #c0c0c0\">        128] </span>│\n",
       "│<span style=\"color: #7f7f7f; text-decoration-color: #7f7f7f\"> 143 </span>│ encoder.interaction_blocks.3.lins_cat.1        │ Linear      │ 16.5 K │ train │<span style=\"color: #c0c0c0; text-decoration-color: #c0c0c0\">     [10722, </span>│<span style=\"color: #c0c0c0; text-decoration-color: #c0c0c0\">     [10722, </span>│\n",
       "│<span style=\"color: #7f7f7f; text-decoration-color: #7f7f7f\">     </span>│                                                │             │        │       │<span style=\"color: #c0c0c0; text-decoration-color: #c0c0c0\">        128] </span>│<span style=\"color: #c0c0c0; text-decoration-color: #c0c0c0\">        128] </span>│\n",
       "│<span style=\"color: #7f7f7f; text-decoration-color: #7f7f7f\"> 144 </span>│ encoder.interaction_blocks.3.lins_cat.2        │ Linear      │ 16.5 K │ train │<span style=\"color: #c0c0c0; text-decoration-color: #c0c0c0\">     [10722, </span>│<span style=\"color: #c0c0c0; text-decoration-color: #c0c0c0\">     [10722, </span>│\n",
       "│<span style=\"color: #7f7f7f; text-decoration-color: #7f7f7f\">     </span>│                                                │             │        │       │<span style=\"color: #c0c0c0; text-decoration-color: #c0c0c0\">        128] </span>│<span style=\"color: #c0c0c0; text-decoration-color: #c0c0c0\">        128] </span>│\n",
       "│<span style=\"color: #7f7f7f; text-decoration-color: #7f7f7f\"> 145 </span>│ encoder.interaction_blocks.3.lins              │ ModuleList  │ 33.0 K │ train │<span style=\"color: #c0c0c0; text-decoration-color: #c0c0c0\">           ? </span>│<span style=\"color: #c0c0c0; text-decoration-color: #c0c0c0\">           ? </span>│\n",
       "│<span style=\"color: #7f7f7f; text-decoration-color: #7f7f7f\"> 146 </span>│ encoder.interaction_blocks.3.lins.0            │ Linear      │ 16.5 K │ train │<span style=\"color: #c0c0c0; text-decoration-color: #c0c0c0\">     [10722, </span>│<span style=\"color: #c0c0c0; text-decoration-color: #c0c0c0\">     [10722, </span>│\n",
       "│<span style=\"color: #7f7f7f; text-decoration-color: #7f7f7f\">     </span>│                                                │             │        │       │<span style=\"color: #c0c0c0; text-decoration-color: #c0c0c0\">        128] </span>│<span style=\"color: #c0c0c0; text-decoration-color: #c0c0c0\">        128] </span>│\n",
       "│<span style=\"color: #7f7f7f; text-decoration-color: #7f7f7f\"> 147 </span>│ encoder.interaction_blocks.3.lins.1            │ Linear      │ 16.5 K │ train │<span style=\"color: #c0c0c0; text-decoration-color: #c0c0c0\">     [10722, </span>│<span style=\"color: #c0c0c0; text-decoration-color: #c0c0c0\">     [10722, </span>│\n",
       "│<span style=\"color: #7f7f7f; text-decoration-color: #7f7f7f\">     </span>│                                                │             │        │       │<span style=\"color: #c0c0c0; text-decoration-color: #c0c0c0\">        128] </span>│<span style=\"color: #c0c0c0; text-decoration-color: #c0c0c0\">        128] </span>│\n",
       "│<span style=\"color: #7f7f7f; text-decoration-color: #7f7f7f\"> 148 </span>│ encoder.interaction_blocks.3.final             │ Linear      │ 16.5 K │ train │<span style=\"color: #c0c0c0; text-decoration-color: #c0c0c0\">     [10722, </span>│<span style=\"color: #c0c0c0; text-decoration-color: #c0c0c0\">     [10722, </span>│\n",
       "│<span style=\"color: #7f7f7f; text-decoration-color: #7f7f7f\">     </span>│                                                │             │        │       │<span style=\"color: #c0c0c0; text-decoration-color: #c0c0c0\">        128] </span>│<span style=\"color: #c0c0c0; text-decoration-color: #c0c0c0\">        128] </span>│\n",
       "│<span style=\"color: #7f7f7f; text-decoration-color: #7f7f7f\"> 149 </span>│ encoder.lins_out                               │ ModuleList  │ 16.5 K │ train │<span style=\"color: #c0c0c0; text-decoration-color: #c0c0c0\">           ? </span>│<span style=\"color: #c0c0c0; text-decoration-color: #c0c0c0\">           ? </span>│\n",
       "│<span style=\"color: #7f7f7f; text-decoration-color: #7f7f7f\"> 150 </span>│ encoder.lins_out.0                             │ Linear      │ 16.5 K │ train │<span style=\"color: #c0c0c0; text-decoration-color: #c0c0c0\">   [32, 128] </span>│<span style=\"color: #c0c0c0; text-decoration-color: #c0c0c0\">   [32, 128] </span>│\n",
       "│<span style=\"color: #7f7f7f; text-decoration-color: #7f7f7f\"> 151 </span>│ encoder.lin_out                                │ Linear      │  154 K │ train │<span style=\"color: #c0c0c0; text-decoration-color: #c0c0c0\">   [32, 128] </span>│<span style=\"color: #c0c0c0; text-decoration-color: #c0c0c0\">  [32, 1195] </span>│\n",
       "│<span style=\"color: #7f7f7f; text-decoration-color: #7f7f7f\"> 152 </span>│ encoder.relu                                   │ ReLU        │      0 │ train │<span style=\"color: #c0c0c0; text-decoration-color: #c0c0c0\">   [32, 128] </span>│<span style=\"color: #c0c0c0; text-decoration-color: #c0c0c0\">   [32, 128] </span>│\n",
       "│<span style=\"color: #7f7f7f; text-decoration-color: #7f7f7f\"> 153 </span>│ encoder.dropout                                │ Dropout     │      0 │ train │<span style=\"color: #c0c0c0; text-decoration-color: #c0c0c0\">   [32, 128] </span>│<span style=\"color: #c0c0c0; text-decoration-color: #c0c0c0\">   [32, 128] </span>│\n",
       "│<span style=\"color: #7f7f7f; text-decoration-color: #7f7f7f\"> 154 </span>│ decoder                                        │ ModuleDict  │      0 │ train │<span style=\"color: #c0c0c0; text-decoration-color: #c0c0c0\">           ? </span>│<span style=\"color: #c0c0c0; text-decoration-color: #c0c0c0\">           ? </span>│\n",
       "│<span style=\"color: #7f7f7f; text-decoration-color: #7f7f7f\"> 155 </span>│ decoder.graph_label                            │ MLPDecoder  │      0 │ train │<span style=\"color: #c0c0c0; text-decoration-color: #c0c0c0\">  [32, 1195] </span>│<span style=\"color: #c0c0c0; text-decoration-color: #c0c0c0\">  [32, 1195] </span>│\n",
       "│<span style=\"color: #7f7f7f; text-decoration-color: #7f7f7f\"> 156 </span>│ val_graph_label_accuracy                       │ Multiclass… │      0 │ train │<span style=\"color: #c0c0c0; text-decoration-color: #c0c0c0\">           ? </span>│<span style=\"color: #c0c0c0; text-decoration-color: #c0c0c0\">           ? </span>│\n",
       "│<span style=\"color: #7f7f7f; text-decoration-color: #7f7f7f\"> 157 </span>│ test_graph_label_accuracy                      │ Multiclass… │      0 │ train │<span style=\"color: #c0c0c0; text-decoration-color: #c0c0c0\">           ? </span>│<span style=\"color: #c0c0c0; text-decoration-color: #c0c0c0\">           ? </span>│\n",
       "│<span style=\"color: #7f7f7f; text-decoration-color: #7f7f7f\"> 158 </span>│ train_graph_label_accuracy                     │ Multiclass… │      0 │ train │<span style=\"color: #c0c0c0; text-decoration-color: #c0c0c0\">           ? </span>│<span style=\"color: #c0c0c0; text-decoration-color: #c0c0c0\">           ? </span>│\n",
       "│<span style=\"color: #7f7f7f; text-decoration-color: #7f7f7f\"> 159 </span>│ val_graph_label_f1_score                       │ Multiclass… │      0 │ train │<span style=\"color: #c0c0c0; text-decoration-color: #c0c0c0\">           ? </span>│<span style=\"color: #c0c0c0; text-decoration-color: #c0c0c0\">           ? </span>│\n",
       "│<span style=\"color: #7f7f7f; text-decoration-color: #7f7f7f\"> 160 </span>│ test_graph_label_f1_score                      │ Multiclass… │      0 │ train │<span style=\"color: #c0c0c0; text-decoration-color: #c0c0c0\">           ? </span>│<span style=\"color: #c0c0c0; text-decoration-color: #c0c0c0\">           ? </span>│\n",
       "│<span style=\"color: #7f7f7f; text-decoration-color: #7f7f7f\"> 161 </span>│ train_graph_label_f1_score                     │ Multiclass… │      0 │ train │<span style=\"color: #c0c0c0; text-decoration-color: #c0c0c0\">           ? </span>│<span style=\"color: #c0c0c0; text-decoration-color: #c0c0c0\">           ? </span>│\n",
       "│<span style=\"color: #7f7f7f; text-decoration-color: #7f7f7f\"> 162 </span>│ val_graph_label_f1_max                         │ F1Max       │      0 │ train │<span style=\"color: #c0c0c0; text-decoration-color: #c0c0c0\">           ? </span>│<span style=\"color: #c0c0c0; text-decoration-color: #c0c0c0\">           ? </span>│\n",
       "│<span style=\"color: #7f7f7f; text-decoration-color: #7f7f7f\"> 163 </span>│ test_graph_label_f1_max                        │ F1Max       │      0 │ train │<span style=\"color: #c0c0c0; text-decoration-color: #c0c0c0\">           ? </span>│<span style=\"color: #c0c0c0; text-decoration-color: #c0c0c0\">           ? </span>│\n",
       "│<span style=\"color: #7f7f7f; text-decoration-color: #7f7f7f\"> 164 </span>│ train_graph_label_f1_max                       │ F1Max       │      0 │ train │<span style=\"color: #c0c0c0; text-decoration-color: #c0c0c0\">           ? </span>│<span style=\"color: #c0c0c0; text-decoration-color: #c0c0c0\">           ? </span>│\n",
       "│<span style=\"color: #7f7f7f; text-decoration-color: #7f7f7f\"> 165 </span>│ featuriser                                     │ ProteinFea… │      0 │ train │<span style=\"color: #c0c0c0; text-decoration-color: #c0c0c0\">           ? </span>│<span style=\"color: #c0c0c0; text-decoration-color: #c0c0c0\">           ? </span>│\n",
       "└─────┴────────────────────────────────────────────────┴─────────────┴────────┴───────┴─────────────┴─────────────┘\n",
       "</pre>\n"
      ],
      "text/plain": [
       "┏━━━━━┳━━━━━━━━━━━━━━━━━━━━━━━━━━━━━━━━━━━━━━━━━━━━━━━━┳━━━━━━━━━━━━━┳━━━━━━━━┳━━━━━━━┳━━━━━━━━━━━━━┳━━━━━━━━━━━━━┓\n",
       "┃\u001b[1;35m \u001b[0m\u001b[1;35m   \u001b[0m\u001b[1;35m \u001b[0m┃\u001b[1;35m \u001b[0m\u001b[1;35mName                                          \u001b[0m\u001b[1;35m \u001b[0m┃\u001b[1;35m \u001b[0m\u001b[1;35mType       \u001b[0m\u001b[1;35m \u001b[0m┃\u001b[1;35m \u001b[0m\u001b[1;35mParams\u001b[0m\u001b[1;35m \u001b[0m┃\u001b[1;35m \u001b[0m\u001b[1;35mMode \u001b[0m\u001b[1;35m \u001b[0m┃\u001b[1;35m \u001b[0m\u001b[1;35m   In sizes\u001b[0m\u001b[1;35m \u001b[0m┃\u001b[1;35m \u001b[0m\u001b[1;35m  Out sizes\u001b[0m\u001b[1;35m \u001b[0m┃\n",
       "┡━━━━━╇━━━━━━━━━━━━━━━━━━━━━━━━━━━━━━━━━━━━━━━━━━━━━━━━╇━━━━━━━━━━━━━╇━━━━━━━━╇━━━━━━━╇━━━━━━━━━━━━━╇━━━━━━━━━━━━━┩\n",
       "│\u001b[2m \u001b[0m\u001b[2m0  \u001b[0m\u001b[2m \u001b[0m│ encoder                                        │ ProNet      │  1.5 M │ train │\u001b[37m \u001b[0m\u001b[37m          ?\u001b[0m\u001b[37m \u001b[0m│\u001b[37m \u001b[0m\u001b[37m          ?\u001b[0m\u001b[37m \u001b[0m│\n",
       "│\u001b[2m \u001b[0m\u001b[2m1  \u001b[0m\u001b[2m \u001b[0m│ encoder.feature0                               │ d_theta_ph… │      0 │ train │\u001b[37m \u001b[0m\u001b[37m [[171552],\u001b[0m\u001b[37m \u001b[0m│\u001b[37m \u001b[0m\u001b[37m   [171552,\u001b[0m\u001b[37m \u001b[0m│\n",
       "│\u001b[2m     \u001b[0m│                                                │             │        │       │\u001b[37m \u001b[0m\u001b[37m  [171552],\u001b[0m\u001b[37m \u001b[0m│\u001b[37m \u001b[0m\u001b[37m        24]\u001b[0m\u001b[37m \u001b[0m│\n",
       "│\u001b[2m     \u001b[0m│                                                │             │        │       │\u001b[37m \u001b[0m\u001b[37m  [171552]]\u001b[0m\u001b[37m \u001b[0m│\u001b[37m             \u001b[0m│\n",
       "│\u001b[2m \u001b[0m\u001b[2m2  \u001b[0m\u001b[2m \u001b[0m│ encoder.feature1                               │ d_angle_emb │      0 │ train │\u001b[37m \u001b[0m\u001b[37m [[171552],\u001b[0m\u001b[37m \u001b[0m│\u001b[37m \u001b[0m\u001b[37m   [171552,\u001b[0m\u001b[37m \u001b[0m│\n",
       "│\u001b[2m     \u001b[0m│                                                │             │        │       │\u001b[37m \u001b[0m\u001b[37m  [171552]]\u001b[0m\u001b[37m \u001b[0m│\u001b[37m \u001b[0m\u001b[37m        12]\u001b[0m\u001b[37m \u001b[0m│\n",
       "│\u001b[2m \u001b[0m\u001b[2m3  \u001b[0m\u001b[2m \u001b[0m│ encoder.embedding                              │ Embedding   │  3.3 K │ train │\u001b[37m \u001b[0m\u001b[37m    [10722]\u001b[0m\u001b[37m \u001b[0m│\u001b[37m \u001b[0m\u001b[37m    [10722,\u001b[0m\u001b[37m \u001b[0m│\n",
       "│\u001b[2m     \u001b[0m│                                                │             │        │       │\u001b[37m             \u001b[0m│\u001b[37m \u001b[0m\u001b[37m       128]\u001b[0m\u001b[37m \u001b[0m│\n",
       "│\u001b[2m \u001b[0m\u001b[2m4  \u001b[0m\u001b[2m \u001b[0m│ encoder.interaction_blocks                     │ ModuleList  │  1.4 M │ train │\u001b[37m \u001b[0m\u001b[37m          ?\u001b[0m\u001b[37m \u001b[0m│\u001b[37m \u001b[0m\u001b[37m          ?\u001b[0m\u001b[37m \u001b[0m│\n",
       "│\u001b[2m \u001b[0m\u001b[2m5  \u001b[0m\u001b[2m \u001b[0m│ encoder.interaction_blocks.0                   │ Interactio… │  340 K │ train │\u001b[37m \u001b[0m\u001b[37m   [[10722,\u001b[0m\u001b[37m \u001b[0m│\u001b[37m \u001b[0m\u001b[37m    [10722,\u001b[0m\u001b[37m \u001b[0m│\n",
       "│\u001b[2m     \u001b[0m│                                                │             │        │       │\u001b[37m \u001b[0m\u001b[37m      128],\u001b[0m\u001b[37m \u001b[0m│\u001b[37m \u001b[0m\u001b[37m       128]\u001b[0m\u001b[37m \u001b[0m│\n",
       "│\u001b[2m     \u001b[0m│                                                │             │        │       │\u001b[37m \u001b[0m\u001b[37m   [171552,\u001b[0m\u001b[37m \u001b[0m│\u001b[37m             \u001b[0m│\n",
       "│\u001b[2m     \u001b[0m│                                                │             │        │       │\u001b[37m \u001b[0m\u001b[37m       24],\u001b[0m\u001b[37m \u001b[0m│\u001b[37m             \u001b[0m│\n",
       "│\u001b[2m     \u001b[0m│                                                │             │        │       │\u001b[37m \u001b[0m\u001b[37m   [171552,\u001b[0m\u001b[37m \u001b[0m│\u001b[37m             \u001b[0m│\n",
       "│\u001b[2m     \u001b[0m│                                                │             │        │       │\u001b[37m \u001b[0m\u001b[37m       12],\u001b[0m\u001b[37m \u001b[0m│\u001b[37m             \u001b[0m│\n",
       "│\u001b[2m     \u001b[0m│                                                │             │        │       │\u001b[37m \u001b[0m\u001b[37m   [171552,\u001b[0m\u001b[37m \u001b[0m│\u001b[37m             \u001b[0m│\n",
       "│\u001b[2m     \u001b[0m│                                                │             │        │       │\u001b[37m \u001b[0m\u001b[37m   16], [2,\u001b[0m\u001b[37m \u001b[0m│\u001b[37m             \u001b[0m│\n",
       "│\u001b[2m     \u001b[0m│                                                │             │        │       │\u001b[37m \u001b[0m\u001b[37m   171552],\u001b[0m\u001b[37m \u001b[0m│\u001b[37m             \u001b[0m│\n",
       "│\u001b[2m     \u001b[0m│                                                │             │        │       │\u001b[37m \u001b[0m\u001b[37m   [10722]]\u001b[0m\u001b[37m \u001b[0m│\u001b[37m             \u001b[0m│\n",
       "│\u001b[2m \u001b[0m\u001b[2m6  \u001b[0m\u001b[2m \u001b[0m│ encoder.interaction_blocks.0.dropout           │ Dropout     │      0 │ train │\u001b[37m \u001b[0m\u001b[37m    [10722,\u001b[0m\u001b[37m \u001b[0m│\u001b[37m \u001b[0m\u001b[37m    [10722,\u001b[0m\u001b[37m \u001b[0m│\n",
       "│\u001b[2m     \u001b[0m│                                                │             │        │       │\u001b[37m \u001b[0m\u001b[37m       128]\u001b[0m\u001b[37m \u001b[0m│\u001b[37m \u001b[0m\u001b[37m       128]\u001b[0m\u001b[37m \u001b[0m│\n",
       "│\u001b[2m \u001b[0m\u001b[2m7  \u001b[0m\u001b[2m \u001b[0m│ encoder.interaction_blocks.0.conv0             │ EdgeGraphC… │ 32.9 K │ train │\u001b[37m \u001b[0m\u001b[37m   [[10722,\u001b[0m\u001b[37m \u001b[0m│\u001b[37m \u001b[0m\u001b[37m    [10722,\u001b[0m\u001b[37m \u001b[0m│\n",
       "│\u001b[2m     \u001b[0m│                                                │             │        │       │\u001b[37m \u001b[0m\u001b[37m  128], [2,\u001b[0m\u001b[37m \u001b[0m│\u001b[37m \u001b[0m\u001b[37m       128]\u001b[0m\u001b[37m \u001b[0m│\n",
       "│\u001b[2m     \u001b[0m│                                                │             │        │       │\u001b[37m \u001b[0m\u001b[37m   171552],\u001b[0m\u001b[37m \u001b[0m│\u001b[37m             \u001b[0m│\n",
       "│\u001b[2m     \u001b[0m│                                                │             │        │       │\u001b[37m \u001b[0m\u001b[37m   [171552,\u001b[0m\u001b[37m \u001b[0m│\u001b[37m             \u001b[0m│\n",
       "│\u001b[2m     \u001b[0m│                                                │             │        │       │\u001b[37m \u001b[0m\u001b[37m      128]]\u001b[0m\u001b[37m \u001b[0m│\u001b[37m             \u001b[0m│\n",
       "│\u001b[2m \u001b[0m\u001b[2m8  \u001b[0m\u001b[2m \u001b[0m│ encoder.interaction_blocks.0.conv0.aggr_module │ SumAggrega… │      0 │ train │\u001b[37m \u001b[0m\u001b[37m  [[171552,\u001b[0m\u001b[37m \u001b[0m│\u001b[37m \u001b[0m\u001b[37m    [10722,\u001b[0m\u001b[37m \u001b[0m│\n",
       "│\u001b[2m     \u001b[0m│                                                │             │        │       │\u001b[37m \u001b[0m\u001b[37m      128],\u001b[0m\u001b[37m \u001b[0m│\u001b[37m \u001b[0m\u001b[37m       128]\u001b[0m\u001b[37m \u001b[0m│\n",
       "│\u001b[2m     \u001b[0m│                                                │             │        │       │\u001b[37m \u001b[0m\u001b[37m  [171552],\u001b[0m\u001b[37m \u001b[0m│\u001b[37m             \u001b[0m│\n",
       "│\u001b[2m     \u001b[0m│                                                │             │        │       │\u001b[37m \u001b[0m\u001b[37m  '?', '?',\u001b[0m\u001b[37m \u001b[0m│\u001b[37m             \u001b[0m│\n",
       "│\u001b[2m     \u001b[0m│                                                │             │        │       │\u001b[37m \u001b[0m\u001b[37m       '?']\u001b[0m\u001b[37m \u001b[0m│\u001b[37m             \u001b[0m│\n",
       "│\u001b[2m \u001b[0m\u001b[2m9  \u001b[0m\u001b[2m \u001b[0m│ encoder.interaction_blocks.0.conv0.lin_l       │ Linear      │ 16.5 K │ train │\u001b[37m \u001b[0m\u001b[37m    [10722,\u001b[0m\u001b[37m \u001b[0m│\u001b[37m \u001b[0m\u001b[37m    [10722,\u001b[0m\u001b[37m \u001b[0m│\n",
       "│\u001b[2m     \u001b[0m│                                                │             │        │       │\u001b[37m \u001b[0m\u001b[37m       128]\u001b[0m\u001b[37m \u001b[0m│\u001b[37m \u001b[0m\u001b[37m       128]\u001b[0m\u001b[37m \u001b[0m│\n",
       "│\u001b[2m \u001b[0m\u001b[2m10 \u001b[0m\u001b[2m \u001b[0m│ encoder.interaction_blocks.0.conv0.lin_r       │ Linear      │ 16.4 K │ train │\u001b[37m \u001b[0m\u001b[37m    [10722,\u001b[0m\u001b[37m \u001b[0m│\u001b[37m \u001b[0m\u001b[37m    [10722,\u001b[0m\u001b[37m \u001b[0m│\n",
       "│\u001b[2m     \u001b[0m│                                                │             │        │       │\u001b[37m \u001b[0m\u001b[37m       128]\u001b[0m\u001b[37m \u001b[0m│\u001b[37m \u001b[0m\u001b[37m       128]\u001b[0m\u001b[37m \u001b[0m│\n",
       "│\u001b[2m \u001b[0m\u001b[2m11 \u001b[0m\u001b[2m \u001b[0m│ encoder.interaction_blocks.0.conv1             │ EdgeGraphC… │ 32.9 K │ train │\u001b[37m \u001b[0m\u001b[37m   [[10722,\u001b[0m\u001b[37m \u001b[0m│\u001b[37m \u001b[0m\u001b[37m    [10722,\u001b[0m\u001b[37m \u001b[0m│\n",
       "│\u001b[2m     \u001b[0m│                                                │             │        │       │\u001b[37m \u001b[0m\u001b[37m  128], [2,\u001b[0m\u001b[37m \u001b[0m│\u001b[37m \u001b[0m\u001b[37m       128]\u001b[0m\u001b[37m \u001b[0m│\n",
       "│\u001b[2m     \u001b[0m│                                                │             │        │       │\u001b[37m \u001b[0m\u001b[37m   171552],\u001b[0m\u001b[37m \u001b[0m│\u001b[37m             \u001b[0m│\n",
       "│\u001b[2m     \u001b[0m│                                                │             │        │       │\u001b[37m \u001b[0m\u001b[37m   [171552,\u001b[0m\u001b[37m \u001b[0m│\u001b[37m             \u001b[0m│\n",
       "│\u001b[2m     \u001b[0m│                                                │             │        │       │\u001b[37m \u001b[0m\u001b[37m      128]]\u001b[0m\u001b[37m \u001b[0m│\u001b[37m             \u001b[0m│\n",
       "│\u001b[2m \u001b[0m\u001b[2m12 \u001b[0m\u001b[2m \u001b[0m│ encoder.interaction_blocks.0.conv1.aggr_module │ SumAggrega… │      0 │ train │\u001b[37m \u001b[0m\u001b[37m  [[171552,\u001b[0m\u001b[37m \u001b[0m│\u001b[37m \u001b[0m\u001b[37m    [10722,\u001b[0m\u001b[37m \u001b[0m│\n",
       "│\u001b[2m     \u001b[0m│                                                │             │        │       │\u001b[37m \u001b[0m\u001b[37m      128],\u001b[0m\u001b[37m \u001b[0m│\u001b[37m \u001b[0m\u001b[37m       128]\u001b[0m\u001b[37m \u001b[0m│\n",
       "│\u001b[2m     \u001b[0m│                                                │             │        │       │\u001b[37m \u001b[0m\u001b[37m  [171552],\u001b[0m\u001b[37m \u001b[0m│\u001b[37m             \u001b[0m│\n",
       "│\u001b[2m     \u001b[0m│                                                │             │        │       │\u001b[37m \u001b[0m\u001b[37m  '?', '?',\u001b[0m\u001b[37m \u001b[0m│\u001b[37m             \u001b[0m│\n",
       "│\u001b[2m     \u001b[0m│                                                │             │        │       │\u001b[37m \u001b[0m\u001b[37m       '?']\u001b[0m\u001b[37m \u001b[0m│\u001b[37m             \u001b[0m│\n",
       "│\u001b[2m \u001b[0m\u001b[2m13 \u001b[0m\u001b[2m \u001b[0m│ encoder.interaction_blocks.0.conv1.lin_l       │ Linear      │ 16.5 K │ train │\u001b[37m \u001b[0m\u001b[37m    [10722,\u001b[0m\u001b[37m \u001b[0m│\u001b[37m \u001b[0m\u001b[37m    [10722,\u001b[0m\u001b[37m \u001b[0m│\n",
       "│\u001b[2m     \u001b[0m│                                                │             │        │       │\u001b[37m \u001b[0m\u001b[37m       128]\u001b[0m\u001b[37m \u001b[0m│\u001b[37m \u001b[0m\u001b[37m       128]\u001b[0m\u001b[37m \u001b[0m│\n",
       "│\u001b[2m \u001b[0m\u001b[2m14 \u001b[0m\u001b[2m \u001b[0m│ encoder.interaction_blocks.0.conv1.lin_r       │ Linear      │ 16.4 K │ train │\u001b[37m \u001b[0m\u001b[37m    [10722,\u001b[0m\u001b[37m \u001b[0m│\u001b[37m \u001b[0m\u001b[37m    [10722,\u001b[0m\u001b[37m \u001b[0m│\n",
       "│\u001b[2m     \u001b[0m│                                                │             │        │       │\u001b[37m \u001b[0m\u001b[37m       128]\u001b[0m\u001b[37m \u001b[0m│\u001b[37m \u001b[0m\u001b[37m       128]\u001b[0m\u001b[37m \u001b[0m│\n",
       "│\u001b[2m \u001b[0m\u001b[2m15 \u001b[0m\u001b[2m \u001b[0m│ encoder.interaction_blocks.0.conv2             │ EdgeGraphC… │ 32.9 K │ train │\u001b[37m \u001b[0m\u001b[37m   [[10722,\u001b[0m\u001b[37m \u001b[0m│\u001b[37m \u001b[0m\u001b[37m    [10722,\u001b[0m\u001b[37m \u001b[0m│\n",
       "│\u001b[2m     \u001b[0m│                                                │             │        │       │\u001b[37m \u001b[0m\u001b[37m  128], [2,\u001b[0m\u001b[37m \u001b[0m│\u001b[37m \u001b[0m\u001b[37m       128]\u001b[0m\u001b[37m \u001b[0m│\n",
       "│\u001b[2m     \u001b[0m│                                                │             │        │       │\u001b[37m \u001b[0m\u001b[37m   171552],\u001b[0m\u001b[37m \u001b[0m│\u001b[37m             \u001b[0m│\n",
       "│\u001b[2m     \u001b[0m│                                                │             │        │       │\u001b[37m \u001b[0m\u001b[37m   [171552,\u001b[0m\u001b[37m \u001b[0m│\u001b[37m             \u001b[0m│\n",
       "│\u001b[2m     \u001b[0m│                                                │             │        │       │\u001b[37m \u001b[0m\u001b[37m      128]]\u001b[0m\u001b[37m \u001b[0m│\u001b[37m             \u001b[0m│\n",
       "│\u001b[2m \u001b[0m\u001b[2m16 \u001b[0m\u001b[2m \u001b[0m│ encoder.interaction_blocks.0.conv2.aggr_module │ SumAggrega… │      0 │ train │\u001b[37m \u001b[0m\u001b[37m  [[171552,\u001b[0m\u001b[37m \u001b[0m│\u001b[37m \u001b[0m\u001b[37m    [10722,\u001b[0m\u001b[37m \u001b[0m│\n",
       "│\u001b[2m     \u001b[0m│                                                │             │        │       │\u001b[37m \u001b[0m\u001b[37m      128],\u001b[0m\u001b[37m \u001b[0m│\u001b[37m \u001b[0m\u001b[37m       128]\u001b[0m\u001b[37m \u001b[0m│\n",
       "│\u001b[2m     \u001b[0m│                                                │             │        │       │\u001b[37m \u001b[0m\u001b[37m  [171552],\u001b[0m\u001b[37m \u001b[0m│\u001b[37m             \u001b[0m│\n",
       "│\u001b[2m     \u001b[0m│                                                │             │        │       │\u001b[37m \u001b[0m\u001b[37m  '?', '?',\u001b[0m\u001b[37m \u001b[0m│\u001b[37m             \u001b[0m│\n",
       "│\u001b[2m     \u001b[0m│                                                │             │        │       │\u001b[37m \u001b[0m\u001b[37m       '?']\u001b[0m\u001b[37m \u001b[0m│\u001b[37m             \u001b[0m│\n",
       "│\u001b[2m \u001b[0m\u001b[2m17 \u001b[0m\u001b[2m \u001b[0m│ encoder.interaction_blocks.0.conv2.lin_l       │ Linear      │ 16.5 K │ train │\u001b[37m \u001b[0m\u001b[37m    [10722,\u001b[0m\u001b[37m \u001b[0m│\u001b[37m \u001b[0m\u001b[37m    [10722,\u001b[0m\u001b[37m \u001b[0m│\n",
       "│\u001b[2m     \u001b[0m│                                                │             │        │       │\u001b[37m \u001b[0m\u001b[37m       128]\u001b[0m\u001b[37m \u001b[0m│\u001b[37m \u001b[0m\u001b[37m       128]\u001b[0m\u001b[37m \u001b[0m│\n",
       "│\u001b[2m \u001b[0m\u001b[2m18 \u001b[0m\u001b[2m \u001b[0m│ encoder.interaction_blocks.0.conv2.lin_r       │ Linear      │ 16.4 K │ train │\u001b[37m \u001b[0m\u001b[37m    [10722,\u001b[0m\u001b[37m \u001b[0m│\u001b[37m \u001b[0m\u001b[37m    [10722,\u001b[0m\u001b[37m \u001b[0m│\n",
       "│\u001b[2m     \u001b[0m│                                                │             │        │       │\u001b[37m \u001b[0m\u001b[37m       128]\u001b[0m\u001b[37m \u001b[0m│\u001b[37m \u001b[0m\u001b[37m       128]\u001b[0m\u001b[37m \u001b[0m│\n",
       "│\u001b[2m \u001b[0m\u001b[2m19 \u001b[0m\u001b[2m \u001b[0m│ encoder.interaction_blocks.0.lin_feature0      │ TwoLinear   │  9.7 K │ train │\u001b[37m \u001b[0m\u001b[37m   [171552,\u001b[0m\u001b[37m \u001b[0m│\u001b[37m \u001b[0m\u001b[37m   [171552,\u001b[0m\u001b[37m \u001b[0m│\n",
       "│\u001b[2m     \u001b[0m│                                                │             │        │       │\u001b[37m \u001b[0m\u001b[37m        24]\u001b[0m\u001b[37m \u001b[0m│\u001b[37m \u001b[0m\u001b[37m       128]\u001b[0m\u001b[37m \u001b[0m│\n",
       "│\u001b[2m \u001b[0m\u001b[2m20 \u001b[0m\u001b[2m \u001b[0m│ encoder.interaction_blocks.0.lin_feature0.lin1 │ Linear      │  1.5 K │ train │\u001b[37m \u001b[0m\u001b[37m   [171552,\u001b[0m\u001b[37m \u001b[0m│\u001b[37m \u001b[0m\u001b[37m   [171552,\u001b[0m\u001b[37m \u001b[0m│\n",
       "│\u001b[2m     \u001b[0m│                                                │             │        │       │\u001b[37m \u001b[0m\u001b[37m        24]\u001b[0m\u001b[37m \u001b[0m│\u001b[37m \u001b[0m\u001b[37m        64]\u001b[0m\u001b[37m \u001b[0m│\n",
       "│\u001b[2m \u001b[0m\u001b[2m21 \u001b[0m\u001b[2m \u001b[0m│ encoder.interaction_blocks.0.lin_feature0.lin2 │ Linear      │  8.2 K │ train │\u001b[37m \u001b[0m\u001b[37m   [171552,\u001b[0m\u001b[37m \u001b[0m│\u001b[37m \u001b[0m\u001b[37m   [171552,\u001b[0m\u001b[37m \u001b[0m│\n",
       "│\u001b[2m     \u001b[0m│                                                │             │        │       │\u001b[37m \u001b[0m\u001b[37m        64]\u001b[0m\u001b[37m \u001b[0m│\u001b[37m \u001b[0m\u001b[37m       128]\u001b[0m\u001b[37m \u001b[0m│\n",
       "│\u001b[2m \u001b[0m\u001b[2m22 \u001b[0m\u001b[2m \u001b[0m│ encoder.interaction_blocks.0.lin_feature1      │ TwoLinear   │  9.0 K │ train │\u001b[37m \u001b[0m\u001b[37m   [171552,\u001b[0m\u001b[37m \u001b[0m│\u001b[37m \u001b[0m\u001b[37m   [171552,\u001b[0m\u001b[37m \u001b[0m│\n",
       "│\u001b[2m     \u001b[0m│                                                │             │        │       │\u001b[37m \u001b[0m\u001b[37m        12]\u001b[0m\u001b[37m \u001b[0m│\u001b[37m \u001b[0m\u001b[37m       128]\u001b[0m\u001b[37m \u001b[0m│\n",
       "│\u001b[2m \u001b[0m\u001b[2m23 \u001b[0m\u001b[2m \u001b[0m│ encoder.interaction_blocks.0.lin_feature1.lin1 │ Linear      │    768 │ train │\u001b[37m \u001b[0m\u001b[37m   [171552,\u001b[0m\u001b[37m \u001b[0m│\u001b[37m \u001b[0m\u001b[37m   [171552,\u001b[0m\u001b[37m \u001b[0m│\n",
       "│\u001b[2m     \u001b[0m│                                                │             │        │       │\u001b[37m \u001b[0m\u001b[37m        12]\u001b[0m\u001b[37m \u001b[0m│\u001b[37m \u001b[0m\u001b[37m        64]\u001b[0m\u001b[37m \u001b[0m│\n",
       "│\u001b[2m \u001b[0m\u001b[2m24 \u001b[0m\u001b[2m \u001b[0m│ encoder.interaction_blocks.0.lin_feature1.lin2 │ Linear      │  8.2 K │ train │\u001b[37m \u001b[0m\u001b[37m   [171552,\u001b[0m\u001b[37m \u001b[0m│\u001b[37m \u001b[0m\u001b[37m   [171552,\u001b[0m\u001b[37m \u001b[0m│\n",
       "│\u001b[2m     \u001b[0m│                                                │             │        │       │\u001b[37m \u001b[0m\u001b[37m        64]\u001b[0m\u001b[37m \u001b[0m│\u001b[37m \u001b[0m\u001b[37m       128]\u001b[0m\u001b[37m \u001b[0m│\n",
       "│\u001b[2m \u001b[0m\u001b[2m25 \u001b[0m\u001b[2m \u001b[0m│ encoder.interaction_blocks.0.lin_feature2      │ TwoLinear   │  9.2 K │ train │\u001b[37m \u001b[0m\u001b[37m   [171552,\u001b[0m\u001b[37m \u001b[0m│\u001b[37m \u001b[0m\u001b[37m   [171552,\u001b[0m\u001b[37m \u001b[0m│\n",
       "│\u001b[2m     \u001b[0m│                                                │             │        │       │\u001b[37m \u001b[0m\u001b[37m        16]\u001b[0m\u001b[37m \u001b[0m│\u001b[37m \u001b[0m\u001b[37m       128]\u001b[0m\u001b[37m \u001b[0m│\n",
       "│\u001b[2m \u001b[0m\u001b[2m26 \u001b[0m\u001b[2m \u001b[0m│ encoder.interaction_blocks.0.lin_feature2.lin1 │ Linear      │  1.0 K │ train │\u001b[37m \u001b[0m\u001b[37m   [171552,\u001b[0m\u001b[37m \u001b[0m│\u001b[37m \u001b[0m\u001b[37m   [171552,\u001b[0m\u001b[37m \u001b[0m│\n",
       "│\u001b[2m     \u001b[0m│                                                │             │        │       │\u001b[37m \u001b[0m\u001b[37m        16]\u001b[0m\u001b[37m \u001b[0m│\u001b[37m \u001b[0m\u001b[37m        64]\u001b[0m\u001b[37m \u001b[0m│\n",
       "│\u001b[2m \u001b[0m\u001b[2m27 \u001b[0m\u001b[2m \u001b[0m│ encoder.interaction_blocks.0.lin_feature2.lin2 │ Linear      │  8.2 K │ train │\u001b[37m \u001b[0m\u001b[37m   [171552,\u001b[0m\u001b[37m \u001b[0m│\u001b[37m \u001b[0m\u001b[37m   [171552,\u001b[0m\u001b[37m \u001b[0m│\n",
       "│\u001b[2m     \u001b[0m│                                                │             │        │       │\u001b[37m \u001b[0m\u001b[37m        64]\u001b[0m\u001b[37m \u001b[0m│\u001b[37m \u001b[0m\u001b[37m       128]\u001b[0m\u001b[37m \u001b[0m│\n",
       "│\u001b[2m \u001b[0m\u001b[2m28 \u001b[0m\u001b[2m \u001b[0m│ encoder.interaction_blocks.0.lin_1             │ Linear      │ 16.5 K │ train │\u001b[37m \u001b[0m\u001b[37m    [10722,\u001b[0m\u001b[37m \u001b[0m│\u001b[37m \u001b[0m\u001b[37m    [10722,\u001b[0m\u001b[37m \u001b[0m│\n",
       "│\u001b[2m     \u001b[0m│                                                │             │        │       │\u001b[37m \u001b[0m\u001b[37m       128]\u001b[0m\u001b[37m \u001b[0m│\u001b[37m \u001b[0m\u001b[37m       128]\u001b[0m\u001b[37m \u001b[0m│\n",
       "│\u001b[2m \u001b[0m\u001b[2m29 \u001b[0m\u001b[2m \u001b[0m│ encoder.interaction_blocks.0.lin_2             │ Linear      │ 16.5 K │ train │\u001b[37m \u001b[0m\u001b[37m    [10722,\u001b[0m\u001b[37m \u001b[0m│\u001b[37m \u001b[0m\u001b[37m    [10722,\u001b[0m\u001b[37m \u001b[0m│\n",
       "│\u001b[2m     \u001b[0m│                                                │             │        │       │\u001b[37m \u001b[0m\u001b[37m       128]\u001b[0m\u001b[37m \u001b[0m│\u001b[37m \u001b[0m\u001b[37m       128]\u001b[0m\u001b[37m \u001b[0m│\n",
       "│\u001b[2m \u001b[0m\u001b[2m30 \u001b[0m\u001b[2m \u001b[0m│ encoder.interaction_blocks.0.lin0              │ Linear      │ 16.5 K │ train │\u001b[37m \u001b[0m\u001b[37m    [10722,\u001b[0m\u001b[37m \u001b[0m│\u001b[37m \u001b[0m\u001b[37m    [10722,\u001b[0m\u001b[37m \u001b[0m│\n",
       "│\u001b[2m     \u001b[0m│                                                │             │        │       │\u001b[37m \u001b[0m\u001b[37m       128]\u001b[0m\u001b[37m \u001b[0m│\u001b[37m \u001b[0m\u001b[37m       128]\u001b[0m\u001b[37m \u001b[0m│\n",
       "│\u001b[2m \u001b[0m\u001b[2m31 \u001b[0m\u001b[2m \u001b[0m│ encoder.interaction_blocks.0.lin1              │ Linear      │ 16.5 K │ train │\u001b[37m \u001b[0m\u001b[37m    [10722,\u001b[0m\u001b[37m \u001b[0m│\u001b[37m \u001b[0m\u001b[37m    [10722,\u001b[0m\u001b[37m \u001b[0m│\n",
       "│\u001b[2m     \u001b[0m│                                                │             │        │       │\u001b[37m \u001b[0m\u001b[37m       128]\u001b[0m\u001b[37m \u001b[0m│\u001b[37m \u001b[0m\u001b[37m       128]\u001b[0m\u001b[37m \u001b[0m│\n",
       "│\u001b[2m \u001b[0m\u001b[2m32 \u001b[0m\u001b[2m \u001b[0m│ encoder.interaction_blocks.0.lin2              │ Linear      │ 16.5 K │ train │\u001b[37m \u001b[0m\u001b[37m    [10722,\u001b[0m\u001b[37m \u001b[0m│\u001b[37m \u001b[0m\u001b[37m    [10722,\u001b[0m\u001b[37m \u001b[0m│\n",
       "│\u001b[2m     \u001b[0m│                                                │             │        │       │\u001b[37m \u001b[0m\u001b[37m       128]\u001b[0m\u001b[37m \u001b[0m│\u001b[37m \u001b[0m\u001b[37m       128]\u001b[0m\u001b[37m \u001b[0m│\n",
       "│\u001b[2m \u001b[0m\u001b[2m33 \u001b[0m\u001b[2m \u001b[0m│ encoder.interaction_blocks.0.lins_cat          │ ModuleList  │ 82.3 K │ train │\u001b[37m \u001b[0m\u001b[37m          ?\u001b[0m\u001b[37m \u001b[0m│\u001b[37m \u001b[0m\u001b[37m          ?\u001b[0m\u001b[37m \u001b[0m│\n",
       "│\u001b[2m \u001b[0m\u001b[2m34 \u001b[0m\u001b[2m \u001b[0m│ encoder.interaction_blocks.0.lins_cat.0        │ Linear      │ 49.3 K │ train │\u001b[37m \u001b[0m\u001b[37m    [10722,\u001b[0m\u001b[37m \u001b[0m│\u001b[37m \u001b[0m\u001b[37m    [10722,\u001b[0m\u001b[37m \u001b[0m│\n",
       "│\u001b[2m     \u001b[0m│                                                │             │        │       │\u001b[37m \u001b[0m\u001b[37m       384]\u001b[0m\u001b[37m \u001b[0m│\u001b[37m \u001b[0m\u001b[37m       128]\u001b[0m\u001b[37m \u001b[0m│\n",
       "│\u001b[2m \u001b[0m\u001b[2m35 \u001b[0m\u001b[2m \u001b[0m│ encoder.interaction_blocks.0.lins_cat.1        │ Linear      │ 16.5 K │ train │\u001b[37m \u001b[0m\u001b[37m    [10722,\u001b[0m\u001b[37m \u001b[0m│\u001b[37m \u001b[0m\u001b[37m    [10722,\u001b[0m\u001b[37m \u001b[0m│\n",
       "│\u001b[2m     \u001b[0m│                                                │             │        │       │\u001b[37m \u001b[0m\u001b[37m       128]\u001b[0m\u001b[37m \u001b[0m│\u001b[37m \u001b[0m\u001b[37m       128]\u001b[0m\u001b[37m \u001b[0m│\n",
       "│\u001b[2m \u001b[0m\u001b[2m36 \u001b[0m\u001b[2m \u001b[0m│ encoder.interaction_blocks.0.lins_cat.2        │ Linear      │ 16.5 K │ train │\u001b[37m \u001b[0m\u001b[37m    [10722,\u001b[0m\u001b[37m \u001b[0m│\u001b[37m \u001b[0m\u001b[37m    [10722,\u001b[0m\u001b[37m \u001b[0m│\n",
       "│\u001b[2m     \u001b[0m│                                                │             │        │       │\u001b[37m \u001b[0m\u001b[37m       128]\u001b[0m\u001b[37m \u001b[0m│\u001b[37m \u001b[0m\u001b[37m       128]\u001b[0m\u001b[37m \u001b[0m│\n",
       "│\u001b[2m \u001b[0m\u001b[2m37 \u001b[0m\u001b[2m \u001b[0m│ encoder.interaction_blocks.0.lins              │ ModuleList  │ 33.0 K │ train │\u001b[37m \u001b[0m\u001b[37m          ?\u001b[0m\u001b[37m \u001b[0m│\u001b[37m \u001b[0m\u001b[37m          ?\u001b[0m\u001b[37m \u001b[0m│\n",
       "│\u001b[2m \u001b[0m\u001b[2m38 \u001b[0m\u001b[2m \u001b[0m│ encoder.interaction_blocks.0.lins.0            │ Linear      │ 16.5 K │ train │\u001b[37m \u001b[0m\u001b[37m    [10722,\u001b[0m\u001b[37m \u001b[0m│\u001b[37m \u001b[0m\u001b[37m    [10722,\u001b[0m\u001b[37m \u001b[0m│\n",
       "│\u001b[2m     \u001b[0m│                                                │             │        │       │\u001b[37m \u001b[0m\u001b[37m       128]\u001b[0m\u001b[37m \u001b[0m│\u001b[37m \u001b[0m\u001b[37m       128]\u001b[0m\u001b[37m \u001b[0m│\n",
       "│\u001b[2m \u001b[0m\u001b[2m39 \u001b[0m\u001b[2m \u001b[0m│ encoder.interaction_blocks.0.lins.1            │ Linear      │ 16.5 K │ train │\u001b[37m \u001b[0m\u001b[37m    [10722,\u001b[0m\u001b[37m \u001b[0m│\u001b[37m \u001b[0m\u001b[37m    [10722,\u001b[0m\u001b[37m \u001b[0m│\n",
       "│\u001b[2m     \u001b[0m│                                                │             │        │       │\u001b[37m \u001b[0m\u001b[37m       128]\u001b[0m\u001b[37m \u001b[0m│\u001b[37m \u001b[0m\u001b[37m       128]\u001b[0m\u001b[37m \u001b[0m│\n",
       "│\u001b[2m \u001b[0m\u001b[2m40 \u001b[0m\u001b[2m \u001b[0m│ encoder.interaction_blocks.0.final             │ Linear      │ 16.5 K │ train │\u001b[37m \u001b[0m\u001b[37m    [10722,\u001b[0m\u001b[37m \u001b[0m│\u001b[37m \u001b[0m\u001b[37m    [10722,\u001b[0m\u001b[37m \u001b[0m│\n",
       "│\u001b[2m     \u001b[0m│                                                │             │        │       │\u001b[37m \u001b[0m\u001b[37m       128]\u001b[0m\u001b[37m \u001b[0m│\u001b[37m \u001b[0m\u001b[37m       128]\u001b[0m\u001b[37m \u001b[0m│\n",
       "│\u001b[2m \u001b[0m\u001b[2m41 \u001b[0m\u001b[2m \u001b[0m│ encoder.interaction_blocks.1                   │ Interactio… │  340 K │ train │\u001b[37m \u001b[0m\u001b[37m   [[10722,\u001b[0m\u001b[37m \u001b[0m│\u001b[37m \u001b[0m\u001b[37m    [10722,\u001b[0m\u001b[37m \u001b[0m│\n",
       "│\u001b[2m     \u001b[0m│                                                │             │        │       │\u001b[37m \u001b[0m\u001b[37m      128],\u001b[0m\u001b[37m \u001b[0m│\u001b[37m \u001b[0m\u001b[37m       128]\u001b[0m\u001b[37m \u001b[0m│\n",
       "│\u001b[2m     \u001b[0m│                                                │             │        │       │\u001b[37m \u001b[0m\u001b[37m   [171552,\u001b[0m\u001b[37m \u001b[0m│\u001b[37m             \u001b[0m│\n",
       "│\u001b[2m     \u001b[0m│                                                │             │        │       │\u001b[37m \u001b[0m\u001b[37m       24],\u001b[0m\u001b[37m \u001b[0m│\u001b[37m             \u001b[0m│\n",
       "│\u001b[2m     \u001b[0m│                                                │             │        │       │\u001b[37m \u001b[0m\u001b[37m   [171552,\u001b[0m\u001b[37m \u001b[0m│\u001b[37m             \u001b[0m│\n",
       "│\u001b[2m     \u001b[0m│                                                │             │        │       │\u001b[37m \u001b[0m\u001b[37m       12],\u001b[0m\u001b[37m \u001b[0m│\u001b[37m             \u001b[0m│\n",
       "│\u001b[2m     \u001b[0m│                                                │             │        │       │\u001b[37m \u001b[0m\u001b[37m   [171552,\u001b[0m\u001b[37m \u001b[0m│\u001b[37m             \u001b[0m│\n",
       "│\u001b[2m     \u001b[0m│                                                │             │        │       │\u001b[37m \u001b[0m\u001b[37m   16], [2,\u001b[0m\u001b[37m \u001b[0m│\u001b[37m             \u001b[0m│\n",
       "│\u001b[2m     \u001b[0m│                                                │             │        │       │\u001b[37m \u001b[0m\u001b[37m   171552],\u001b[0m\u001b[37m \u001b[0m│\u001b[37m             \u001b[0m│\n",
       "│\u001b[2m     \u001b[0m│                                                │             │        │       │\u001b[37m \u001b[0m\u001b[37m   [10722]]\u001b[0m\u001b[37m \u001b[0m│\u001b[37m             \u001b[0m│\n",
       "│\u001b[2m \u001b[0m\u001b[2m42 \u001b[0m\u001b[2m \u001b[0m│ encoder.interaction_blocks.1.dropout           │ Dropout     │      0 │ train │\u001b[37m \u001b[0m\u001b[37m    [10722,\u001b[0m\u001b[37m \u001b[0m│\u001b[37m \u001b[0m\u001b[37m    [10722,\u001b[0m\u001b[37m \u001b[0m│\n",
       "│\u001b[2m     \u001b[0m│                                                │             │        │       │\u001b[37m \u001b[0m\u001b[37m       128]\u001b[0m\u001b[37m \u001b[0m│\u001b[37m \u001b[0m\u001b[37m       128]\u001b[0m\u001b[37m \u001b[0m│\n",
       "│\u001b[2m \u001b[0m\u001b[2m43 \u001b[0m\u001b[2m \u001b[0m│ encoder.interaction_blocks.1.conv0             │ EdgeGraphC… │ 32.9 K │ train │\u001b[37m \u001b[0m\u001b[37m   [[10722,\u001b[0m\u001b[37m \u001b[0m│\u001b[37m \u001b[0m\u001b[37m    [10722,\u001b[0m\u001b[37m \u001b[0m│\n",
       "│\u001b[2m     \u001b[0m│                                                │             │        │       │\u001b[37m \u001b[0m\u001b[37m  128], [2,\u001b[0m\u001b[37m \u001b[0m│\u001b[37m \u001b[0m\u001b[37m       128]\u001b[0m\u001b[37m \u001b[0m│\n",
       "│\u001b[2m     \u001b[0m│                                                │             │        │       │\u001b[37m \u001b[0m\u001b[37m   171552],\u001b[0m\u001b[37m \u001b[0m│\u001b[37m             \u001b[0m│\n",
       "│\u001b[2m     \u001b[0m│                                                │             │        │       │\u001b[37m \u001b[0m\u001b[37m   [171552,\u001b[0m\u001b[37m \u001b[0m│\u001b[37m             \u001b[0m│\n",
       "│\u001b[2m     \u001b[0m│                                                │             │        │       │\u001b[37m \u001b[0m\u001b[37m      128]]\u001b[0m\u001b[37m \u001b[0m│\u001b[37m             \u001b[0m│\n",
       "│\u001b[2m \u001b[0m\u001b[2m44 \u001b[0m\u001b[2m \u001b[0m│ encoder.interaction_blocks.1.conv0.aggr_module │ SumAggrega… │      0 │ train │\u001b[37m \u001b[0m\u001b[37m  [[171552,\u001b[0m\u001b[37m \u001b[0m│\u001b[37m \u001b[0m\u001b[37m    [10722,\u001b[0m\u001b[37m \u001b[0m│\n",
       "│\u001b[2m     \u001b[0m│                                                │             │        │       │\u001b[37m \u001b[0m\u001b[37m      128],\u001b[0m\u001b[37m \u001b[0m│\u001b[37m \u001b[0m\u001b[37m       128]\u001b[0m\u001b[37m \u001b[0m│\n",
       "│\u001b[2m     \u001b[0m│                                                │             │        │       │\u001b[37m \u001b[0m\u001b[37m  [171552],\u001b[0m\u001b[37m \u001b[0m│\u001b[37m             \u001b[0m│\n",
       "│\u001b[2m     \u001b[0m│                                                │             │        │       │\u001b[37m \u001b[0m\u001b[37m  '?', '?',\u001b[0m\u001b[37m \u001b[0m│\u001b[37m             \u001b[0m│\n",
       "│\u001b[2m     \u001b[0m│                                                │             │        │       │\u001b[37m \u001b[0m\u001b[37m       '?']\u001b[0m\u001b[37m \u001b[0m│\u001b[37m             \u001b[0m│\n",
       "│\u001b[2m \u001b[0m\u001b[2m45 \u001b[0m\u001b[2m \u001b[0m│ encoder.interaction_blocks.1.conv0.lin_l       │ Linear      │ 16.5 K │ train │\u001b[37m \u001b[0m\u001b[37m    [10722,\u001b[0m\u001b[37m \u001b[0m│\u001b[37m \u001b[0m\u001b[37m    [10722,\u001b[0m\u001b[37m \u001b[0m│\n",
       "│\u001b[2m     \u001b[0m│                                                │             │        │       │\u001b[37m \u001b[0m\u001b[37m       128]\u001b[0m\u001b[37m \u001b[0m│\u001b[37m \u001b[0m\u001b[37m       128]\u001b[0m\u001b[37m \u001b[0m│\n",
       "│\u001b[2m \u001b[0m\u001b[2m46 \u001b[0m\u001b[2m \u001b[0m│ encoder.interaction_blocks.1.conv0.lin_r       │ Linear      │ 16.4 K │ train │\u001b[37m \u001b[0m\u001b[37m    [10722,\u001b[0m\u001b[37m \u001b[0m│\u001b[37m \u001b[0m\u001b[37m    [10722,\u001b[0m\u001b[37m \u001b[0m│\n",
       "│\u001b[2m     \u001b[0m│                                                │             │        │       │\u001b[37m \u001b[0m\u001b[37m       128]\u001b[0m\u001b[37m \u001b[0m│\u001b[37m \u001b[0m\u001b[37m       128]\u001b[0m\u001b[37m \u001b[0m│\n",
       "│\u001b[2m \u001b[0m\u001b[2m47 \u001b[0m\u001b[2m \u001b[0m│ encoder.interaction_blocks.1.conv1             │ EdgeGraphC… │ 32.9 K │ train │\u001b[37m \u001b[0m\u001b[37m   [[10722,\u001b[0m\u001b[37m \u001b[0m│\u001b[37m \u001b[0m\u001b[37m    [10722,\u001b[0m\u001b[37m \u001b[0m│\n",
       "│\u001b[2m     \u001b[0m│                                                │             │        │       │\u001b[37m \u001b[0m\u001b[37m  128], [2,\u001b[0m\u001b[37m \u001b[0m│\u001b[37m \u001b[0m\u001b[37m       128]\u001b[0m\u001b[37m \u001b[0m│\n",
       "│\u001b[2m     \u001b[0m│                                                │             │        │       │\u001b[37m \u001b[0m\u001b[37m   171552],\u001b[0m\u001b[37m \u001b[0m│\u001b[37m             \u001b[0m│\n",
       "│\u001b[2m     \u001b[0m│                                                │             │        │       │\u001b[37m \u001b[0m\u001b[37m   [171552,\u001b[0m\u001b[37m \u001b[0m│\u001b[37m             \u001b[0m│\n",
       "│\u001b[2m     \u001b[0m│                                                │             │        │       │\u001b[37m \u001b[0m\u001b[37m      128]]\u001b[0m\u001b[37m \u001b[0m│\u001b[37m             \u001b[0m│\n",
       "│\u001b[2m \u001b[0m\u001b[2m48 \u001b[0m\u001b[2m \u001b[0m│ encoder.interaction_blocks.1.conv1.aggr_module │ SumAggrega… │      0 │ train │\u001b[37m \u001b[0m\u001b[37m  [[171552,\u001b[0m\u001b[37m \u001b[0m│\u001b[37m \u001b[0m\u001b[37m    [10722,\u001b[0m\u001b[37m \u001b[0m│\n",
       "│\u001b[2m     \u001b[0m│                                                │             │        │       │\u001b[37m \u001b[0m\u001b[37m      128],\u001b[0m\u001b[37m \u001b[0m│\u001b[37m \u001b[0m\u001b[37m       128]\u001b[0m\u001b[37m \u001b[0m│\n",
       "│\u001b[2m     \u001b[0m│                                                │             │        │       │\u001b[37m \u001b[0m\u001b[37m  [171552],\u001b[0m\u001b[37m \u001b[0m│\u001b[37m             \u001b[0m│\n",
       "│\u001b[2m     \u001b[0m│                                                │             │        │       │\u001b[37m \u001b[0m\u001b[37m  '?', '?',\u001b[0m\u001b[37m \u001b[0m│\u001b[37m             \u001b[0m│\n",
       "│\u001b[2m     \u001b[0m│                                                │             │        │       │\u001b[37m \u001b[0m\u001b[37m       '?']\u001b[0m\u001b[37m \u001b[0m│\u001b[37m             \u001b[0m│\n",
       "│\u001b[2m \u001b[0m\u001b[2m49 \u001b[0m\u001b[2m \u001b[0m│ encoder.interaction_blocks.1.conv1.lin_l       │ Linear      │ 16.5 K │ train │\u001b[37m \u001b[0m\u001b[37m    [10722,\u001b[0m\u001b[37m \u001b[0m│\u001b[37m \u001b[0m\u001b[37m    [10722,\u001b[0m\u001b[37m \u001b[0m│\n",
       "│\u001b[2m     \u001b[0m│                                                │             │        │       │\u001b[37m \u001b[0m\u001b[37m       128]\u001b[0m\u001b[37m \u001b[0m│\u001b[37m \u001b[0m\u001b[37m       128]\u001b[0m\u001b[37m \u001b[0m│\n",
       "│\u001b[2m \u001b[0m\u001b[2m50 \u001b[0m\u001b[2m \u001b[0m│ encoder.interaction_blocks.1.conv1.lin_r       │ Linear      │ 16.4 K │ train │\u001b[37m \u001b[0m\u001b[37m    [10722,\u001b[0m\u001b[37m \u001b[0m│\u001b[37m \u001b[0m\u001b[37m    [10722,\u001b[0m\u001b[37m \u001b[0m│\n",
       "│\u001b[2m     \u001b[0m│                                                │             │        │       │\u001b[37m \u001b[0m\u001b[37m       128]\u001b[0m\u001b[37m \u001b[0m│\u001b[37m \u001b[0m\u001b[37m       128]\u001b[0m\u001b[37m \u001b[0m│\n",
       "│\u001b[2m \u001b[0m\u001b[2m51 \u001b[0m\u001b[2m \u001b[0m│ encoder.interaction_blocks.1.conv2             │ EdgeGraphC… │ 32.9 K │ train │\u001b[37m \u001b[0m\u001b[37m   [[10722,\u001b[0m\u001b[37m \u001b[0m│\u001b[37m \u001b[0m\u001b[37m    [10722,\u001b[0m\u001b[37m \u001b[0m│\n",
       "│\u001b[2m     \u001b[0m│                                                │             │        │       │\u001b[37m \u001b[0m\u001b[37m  128], [2,\u001b[0m\u001b[37m \u001b[0m│\u001b[37m \u001b[0m\u001b[37m       128]\u001b[0m\u001b[37m \u001b[0m│\n",
       "│\u001b[2m     \u001b[0m│                                                │             │        │       │\u001b[37m \u001b[0m\u001b[37m   171552],\u001b[0m\u001b[37m \u001b[0m│\u001b[37m             \u001b[0m│\n",
       "│\u001b[2m     \u001b[0m│                                                │             │        │       │\u001b[37m \u001b[0m\u001b[37m   [171552,\u001b[0m\u001b[37m \u001b[0m│\u001b[37m             \u001b[0m│\n",
       "│\u001b[2m     \u001b[0m│                                                │             │        │       │\u001b[37m \u001b[0m\u001b[37m      128]]\u001b[0m\u001b[37m \u001b[0m│\u001b[37m             \u001b[0m│\n",
       "│\u001b[2m \u001b[0m\u001b[2m52 \u001b[0m\u001b[2m \u001b[0m│ encoder.interaction_blocks.1.conv2.aggr_module │ SumAggrega… │      0 │ train │\u001b[37m \u001b[0m\u001b[37m  [[171552,\u001b[0m\u001b[37m \u001b[0m│\u001b[37m \u001b[0m\u001b[37m    [10722,\u001b[0m\u001b[37m \u001b[0m│\n",
       "│\u001b[2m     \u001b[0m│                                                │             │        │       │\u001b[37m \u001b[0m\u001b[37m      128],\u001b[0m\u001b[37m \u001b[0m│\u001b[37m \u001b[0m\u001b[37m       128]\u001b[0m\u001b[37m \u001b[0m│\n",
       "│\u001b[2m     \u001b[0m│                                                │             │        │       │\u001b[37m \u001b[0m\u001b[37m  [171552],\u001b[0m\u001b[37m \u001b[0m│\u001b[37m             \u001b[0m│\n",
       "│\u001b[2m     \u001b[0m│                                                │             │        │       │\u001b[37m \u001b[0m\u001b[37m  '?', '?',\u001b[0m\u001b[37m \u001b[0m│\u001b[37m             \u001b[0m│\n",
       "│\u001b[2m     \u001b[0m│                                                │             │        │       │\u001b[37m \u001b[0m\u001b[37m       '?']\u001b[0m\u001b[37m \u001b[0m│\u001b[37m             \u001b[0m│\n",
       "│\u001b[2m \u001b[0m\u001b[2m53 \u001b[0m\u001b[2m \u001b[0m│ encoder.interaction_blocks.1.conv2.lin_l       │ Linear      │ 16.5 K │ train │\u001b[37m \u001b[0m\u001b[37m    [10722,\u001b[0m\u001b[37m \u001b[0m│\u001b[37m \u001b[0m\u001b[37m    [10722,\u001b[0m\u001b[37m \u001b[0m│\n",
       "│\u001b[2m     \u001b[0m│                                                │             │        │       │\u001b[37m \u001b[0m\u001b[37m       128]\u001b[0m\u001b[37m \u001b[0m│\u001b[37m \u001b[0m\u001b[37m       128]\u001b[0m\u001b[37m \u001b[0m│\n",
       "│\u001b[2m \u001b[0m\u001b[2m54 \u001b[0m\u001b[2m \u001b[0m│ encoder.interaction_blocks.1.conv2.lin_r       │ Linear      │ 16.4 K │ train │\u001b[37m \u001b[0m\u001b[37m    [10722,\u001b[0m\u001b[37m \u001b[0m│\u001b[37m \u001b[0m\u001b[37m    [10722,\u001b[0m\u001b[37m \u001b[0m│\n",
       "│\u001b[2m     \u001b[0m│                                                │             │        │       │\u001b[37m \u001b[0m\u001b[37m       128]\u001b[0m\u001b[37m \u001b[0m│\u001b[37m \u001b[0m\u001b[37m       128]\u001b[0m\u001b[37m \u001b[0m│\n",
       "│\u001b[2m \u001b[0m\u001b[2m55 \u001b[0m\u001b[2m \u001b[0m│ encoder.interaction_blocks.1.lin_feature0      │ TwoLinear   │  9.7 K │ train │\u001b[37m \u001b[0m\u001b[37m   [171552,\u001b[0m\u001b[37m \u001b[0m│\u001b[37m \u001b[0m\u001b[37m   [171552,\u001b[0m\u001b[37m \u001b[0m│\n",
       "│\u001b[2m     \u001b[0m│                                                │             │        │       │\u001b[37m \u001b[0m\u001b[37m        24]\u001b[0m\u001b[37m \u001b[0m│\u001b[37m \u001b[0m\u001b[37m       128]\u001b[0m\u001b[37m \u001b[0m│\n",
       "│\u001b[2m \u001b[0m\u001b[2m56 \u001b[0m\u001b[2m \u001b[0m│ encoder.interaction_blocks.1.lin_feature0.lin1 │ Linear      │  1.5 K │ train │\u001b[37m \u001b[0m\u001b[37m   [171552,\u001b[0m\u001b[37m \u001b[0m│\u001b[37m \u001b[0m\u001b[37m   [171552,\u001b[0m\u001b[37m \u001b[0m│\n",
       "│\u001b[2m     \u001b[0m│                                                │             │        │       │\u001b[37m \u001b[0m\u001b[37m        24]\u001b[0m\u001b[37m \u001b[0m│\u001b[37m \u001b[0m\u001b[37m        64]\u001b[0m\u001b[37m \u001b[0m│\n",
       "│\u001b[2m \u001b[0m\u001b[2m57 \u001b[0m\u001b[2m \u001b[0m│ encoder.interaction_blocks.1.lin_feature0.lin2 │ Linear      │  8.2 K │ train │\u001b[37m \u001b[0m\u001b[37m   [171552,\u001b[0m\u001b[37m \u001b[0m│\u001b[37m \u001b[0m\u001b[37m   [171552,\u001b[0m\u001b[37m \u001b[0m│\n",
       "│\u001b[2m     \u001b[0m│                                                │             │        │       │\u001b[37m \u001b[0m\u001b[37m        64]\u001b[0m\u001b[37m \u001b[0m│\u001b[37m \u001b[0m\u001b[37m       128]\u001b[0m\u001b[37m \u001b[0m│\n",
       "│\u001b[2m \u001b[0m\u001b[2m58 \u001b[0m\u001b[2m \u001b[0m│ encoder.interaction_blocks.1.lin_feature1      │ TwoLinear   │  9.0 K │ train │\u001b[37m \u001b[0m\u001b[37m   [171552,\u001b[0m\u001b[37m \u001b[0m│\u001b[37m \u001b[0m\u001b[37m   [171552,\u001b[0m\u001b[37m \u001b[0m│\n",
       "│\u001b[2m     \u001b[0m│                                                │             │        │       │\u001b[37m \u001b[0m\u001b[37m        12]\u001b[0m\u001b[37m \u001b[0m│\u001b[37m \u001b[0m\u001b[37m       128]\u001b[0m\u001b[37m \u001b[0m│\n",
       "│\u001b[2m \u001b[0m\u001b[2m59 \u001b[0m\u001b[2m \u001b[0m│ encoder.interaction_blocks.1.lin_feature1.lin1 │ Linear      │    768 │ train │\u001b[37m \u001b[0m\u001b[37m   [171552,\u001b[0m\u001b[37m \u001b[0m│\u001b[37m \u001b[0m\u001b[37m   [171552,\u001b[0m\u001b[37m \u001b[0m│\n",
       "│\u001b[2m     \u001b[0m│                                                │             │        │       │\u001b[37m \u001b[0m\u001b[37m        12]\u001b[0m\u001b[37m \u001b[0m│\u001b[37m \u001b[0m\u001b[37m        64]\u001b[0m\u001b[37m \u001b[0m│\n",
       "│\u001b[2m \u001b[0m\u001b[2m60 \u001b[0m\u001b[2m \u001b[0m│ encoder.interaction_blocks.1.lin_feature1.lin2 │ Linear      │  8.2 K │ train │\u001b[37m \u001b[0m\u001b[37m   [171552,\u001b[0m\u001b[37m \u001b[0m│\u001b[37m \u001b[0m\u001b[37m   [171552,\u001b[0m\u001b[37m \u001b[0m│\n",
       "│\u001b[2m     \u001b[0m│                                                │             │        │       │\u001b[37m \u001b[0m\u001b[37m        64]\u001b[0m\u001b[37m \u001b[0m│\u001b[37m \u001b[0m\u001b[37m       128]\u001b[0m\u001b[37m \u001b[0m│\n",
       "│\u001b[2m \u001b[0m\u001b[2m61 \u001b[0m\u001b[2m \u001b[0m│ encoder.interaction_blocks.1.lin_feature2      │ TwoLinear   │  9.2 K │ train │\u001b[37m \u001b[0m\u001b[37m   [171552,\u001b[0m\u001b[37m \u001b[0m│\u001b[37m \u001b[0m\u001b[37m   [171552,\u001b[0m\u001b[37m \u001b[0m│\n",
       "│\u001b[2m     \u001b[0m│                                                │             │        │       │\u001b[37m \u001b[0m\u001b[37m        16]\u001b[0m\u001b[37m \u001b[0m│\u001b[37m \u001b[0m\u001b[37m       128]\u001b[0m\u001b[37m \u001b[0m│\n",
       "│\u001b[2m \u001b[0m\u001b[2m62 \u001b[0m\u001b[2m \u001b[0m│ encoder.interaction_blocks.1.lin_feature2.lin1 │ Linear      │  1.0 K │ train │\u001b[37m \u001b[0m\u001b[37m   [171552,\u001b[0m\u001b[37m \u001b[0m│\u001b[37m \u001b[0m\u001b[37m   [171552,\u001b[0m\u001b[37m \u001b[0m│\n",
       "│\u001b[2m     \u001b[0m│                                                │             │        │       │\u001b[37m \u001b[0m\u001b[37m        16]\u001b[0m\u001b[37m \u001b[0m│\u001b[37m \u001b[0m\u001b[37m        64]\u001b[0m\u001b[37m \u001b[0m│\n",
       "│\u001b[2m \u001b[0m\u001b[2m63 \u001b[0m\u001b[2m \u001b[0m│ encoder.interaction_blocks.1.lin_feature2.lin2 │ Linear      │  8.2 K │ train │\u001b[37m \u001b[0m\u001b[37m   [171552,\u001b[0m\u001b[37m \u001b[0m│\u001b[37m \u001b[0m\u001b[37m   [171552,\u001b[0m\u001b[37m \u001b[0m│\n",
       "│\u001b[2m     \u001b[0m│                                                │             │        │       │\u001b[37m \u001b[0m\u001b[37m        64]\u001b[0m\u001b[37m \u001b[0m│\u001b[37m \u001b[0m\u001b[37m       128]\u001b[0m\u001b[37m \u001b[0m│\n",
       "│\u001b[2m \u001b[0m\u001b[2m64 \u001b[0m\u001b[2m \u001b[0m│ encoder.interaction_blocks.1.lin_1             │ Linear      │ 16.5 K │ train │\u001b[37m \u001b[0m\u001b[37m    [10722,\u001b[0m\u001b[37m \u001b[0m│\u001b[37m \u001b[0m\u001b[37m    [10722,\u001b[0m\u001b[37m \u001b[0m│\n",
       "│\u001b[2m     \u001b[0m│                                                │             │        │       │\u001b[37m \u001b[0m\u001b[37m       128]\u001b[0m\u001b[37m \u001b[0m│\u001b[37m \u001b[0m\u001b[37m       128]\u001b[0m\u001b[37m \u001b[0m│\n",
       "│\u001b[2m \u001b[0m\u001b[2m65 \u001b[0m\u001b[2m \u001b[0m│ encoder.interaction_blocks.1.lin_2             │ Linear      │ 16.5 K │ train │\u001b[37m \u001b[0m\u001b[37m    [10722,\u001b[0m\u001b[37m \u001b[0m│\u001b[37m \u001b[0m\u001b[37m    [10722,\u001b[0m\u001b[37m \u001b[0m│\n",
       "│\u001b[2m     \u001b[0m│                                                │             │        │       │\u001b[37m \u001b[0m\u001b[37m       128]\u001b[0m\u001b[37m \u001b[0m│\u001b[37m \u001b[0m\u001b[37m       128]\u001b[0m\u001b[37m \u001b[0m│\n",
       "│\u001b[2m \u001b[0m\u001b[2m66 \u001b[0m\u001b[2m \u001b[0m│ encoder.interaction_blocks.1.lin0              │ Linear      │ 16.5 K │ train │\u001b[37m \u001b[0m\u001b[37m    [10722,\u001b[0m\u001b[37m \u001b[0m│\u001b[37m \u001b[0m\u001b[37m    [10722,\u001b[0m\u001b[37m \u001b[0m│\n",
       "│\u001b[2m     \u001b[0m│                                                │             │        │       │\u001b[37m \u001b[0m\u001b[37m       128]\u001b[0m\u001b[37m \u001b[0m│\u001b[37m \u001b[0m\u001b[37m       128]\u001b[0m\u001b[37m \u001b[0m│\n",
       "│\u001b[2m \u001b[0m\u001b[2m67 \u001b[0m\u001b[2m \u001b[0m│ encoder.interaction_blocks.1.lin1              │ Linear      │ 16.5 K │ train │\u001b[37m \u001b[0m\u001b[37m    [10722,\u001b[0m\u001b[37m \u001b[0m│\u001b[37m \u001b[0m\u001b[37m    [10722,\u001b[0m\u001b[37m \u001b[0m│\n",
       "│\u001b[2m     \u001b[0m│                                                │             │        │       │\u001b[37m \u001b[0m\u001b[37m       128]\u001b[0m\u001b[37m \u001b[0m│\u001b[37m \u001b[0m\u001b[37m       128]\u001b[0m\u001b[37m \u001b[0m│\n",
       "│\u001b[2m \u001b[0m\u001b[2m68 \u001b[0m\u001b[2m \u001b[0m│ encoder.interaction_blocks.1.lin2              │ Linear      │ 16.5 K │ train │\u001b[37m \u001b[0m\u001b[37m    [10722,\u001b[0m\u001b[37m \u001b[0m│\u001b[37m \u001b[0m\u001b[37m    [10722,\u001b[0m\u001b[37m \u001b[0m│\n",
       "│\u001b[2m     \u001b[0m│                                                │             │        │       │\u001b[37m \u001b[0m\u001b[37m       128]\u001b[0m\u001b[37m \u001b[0m│\u001b[37m \u001b[0m\u001b[37m       128]\u001b[0m\u001b[37m \u001b[0m│\n",
       "│\u001b[2m \u001b[0m\u001b[2m69 \u001b[0m\u001b[2m \u001b[0m│ encoder.interaction_blocks.1.lins_cat          │ ModuleList  │ 82.3 K │ train │\u001b[37m \u001b[0m\u001b[37m          ?\u001b[0m\u001b[37m \u001b[0m│\u001b[37m \u001b[0m\u001b[37m          ?\u001b[0m\u001b[37m \u001b[0m│\n",
       "│\u001b[2m \u001b[0m\u001b[2m70 \u001b[0m\u001b[2m \u001b[0m│ encoder.interaction_blocks.1.lins_cat.0        │ Linear      │ 49.3 K │ train │\u001b[37m \u001b[0m\u001b[37m    [10722,\u001b[0m\u001b[37m \u001b[0m│\u001b[37m \u001b[0m\u001b[37m    [10722,\u001b[0m\u001b[37m \u001b[0m│\n",
       "│\u001b[2m     \u001b[0m│                                                │             │        │       │\u001b[37m \u001b[0m\u001b[37m       384]\u001b[0m\u001b[37m \u001b[0m│\u001b[37m \u001b[0m\u001b[37m       128]\u001b[0m\u001b[37m \u001b[0m│\n",
       "│\u001b[2m \u001b[0m\u001b[2m71 \u001b[0m\u001b[2m \u001b[0m│ encoder.interaction_blocks.1.lins_cat.1        │ Linear      │ 16.5 K │ train │\u001b[37m \u001b[0m\u001b[37m    [10722,\u001b[0m\u001b[37m \u001b[0m│\u001b[37m \u001b[0m\u001b[37m    [10722,\u001b[0m\u001b[37m \u001b[0m│\n",
       "│\u001b[2m     \u001b[0m│                                                │             │        │       │\u001b[37m \u001b[0m\u001b[37m       128]\u001b[0m\u001b[37m \u001b[0m│\u001b[37m \u001b[0m\u001b[37m       128]\u001b[0m\u001b[37m \u001b[0m│\n",
       "│\u001b[2m \u001b[0m\u001b[2m72 \u001b[0m\u001b[2m \u001b[0m│ encoder.interaction_blocks.1.lins_cat.2        │ Linear      │ 16.5 K │ train │\u001b[37m \u001b[0m\u001b[37m    [10722,\u001b[0m\u001b[37m \u001b[0m│\u001b[37m \u001b[0m\u001b[37m    [10722,\u001b[0m\u001b[37m \u001b[0m│\n",
       "│\u001b[2m     \u001b[0m│                                                │             │        │       │\u001b[37m \u001b[0m\u001b[37m       128]\u001b[0m\u001b[37m \u001b[0m│\u001b[37m \u001b[0m\u001b[37m       128]\u001b[0m\u001b[37m \u001b[0m│\n",
       "│\u001b[2m \u001b[0m\u001b[2m73 \u001b[0m\u001b[2m \u001b[0m│ encoder.interaction_blocks.1.lins              │ ModuleList  │ 33.0 K │ train │\u001b[37m \u001b[0m\u001b[37m          ?\u001b[0m\u001b[37m \u001b[0m│\u001b[37m \u001b[0m\u001b[37m          ?\u001b[0m\u001b[37m \u001b[0m│\n",
       "│\u001b[2m \u001b[0m\u001b[2m74 \u001b[0m\u001b[2m \u001b[0m│ encoder.interaction_blocks.1.lins.0            │ Linear      │ 16.5 K │ train │\u001b[37m \u001b[0m\u001b[37m    [10722,\u001b[0m\u001b[37m \u001b[0m│\u001b[37m \u001b[0m\u001b[37m    [10722,\u001b[0m\u001b[37m \u001b[0m│\n",
       "│\u001b[2m     \u001b[0m│                                                │             │        │       │\u001b[37m \u001b[0m\u001b[37m       128]\u001b[0m\u001b[37m \u001b[0m│\u001b[37m \u001b[0m\u001b[37m       128]\u001b[0m\u001b[37m \u001b[0m│\n",
       "│\u001b[2m \u001b[0m\u001b[2m75 \u001b[0m\u001b[2m \u001b[0m│ encoder.interaction_blocks.1.lins.1            │ Linear      │ 16.5 K │ train │\u001b[37m \u001b[0m\u001b[37m    [10722,\u001b[0m\u001b[37m \u001b[0m│\u001b[37m \u001b[0m\u001b[37m    [10722,\u001b[0m\u001b[37m \u001b[0m│\n",
       "│\u001b[2m     \u001b[0m│                                                │             │        │       │\u001b[37m \u001b[0m\u001b[37m       128]\u001b[0m\u001b[37m \u001b[0m│\u001b[37m \u001b[0m\u001b[37m       128]\u001b[0m\u001b[37m \u001b[0m│\n",
       "│\u001b[2m \u001b[0m\u001b[2m76 \u001b[0m\u001b[2m \u001b[0m│ encoder.interaction_blocks.1.final             │ Linear      │ 16.5 K │ train │\u001b[37m \u001b[0m\u001b[37m    [10722,\u001b[0m\u001b[37m \u001b[0m│\u001b[37m \u001b[0m\u001b[37m    [10722,\u001b[0m\u001b[37m \u001b[0m│\n",
       "│\u001b[2m     \u001b[0m│                                                │             │        │       │\u001b[37m \u001b[0m\u001b[37m       128]\u001b[0m\u001b[37m \u001b[0m│\u001b[37m \u001b[0m\u001b[37m       128]\u001b[0m\u001b[37m \u001b[0m│\n",
       "│\u001b[2m \u001b[0m\u001b[2m77 \u001b[0m\u001b[2m \u001b[0m│ encoder.interaction_blocks.2                   │ Interactio… │  340 K │ train │\u001b[37m \u001b[0m\u001b[37m   [[10722,\u001b[0m\u001b[37m \u001b[0m│\u001b[37m \u001b[0m\u001b[37m    [10722,\u001b[0m\u001b[37m \u001b[0m│\n",
       "│\u001b[2m     \u001b[0m│                                                │             │        │       │\u001b[37m \u001b[0m\u001b[37m      128],\u001b[0m\u001b[37m \u001b[0m│\u001b[37m \u001b[0m\u001b[37m       128]\u001b[0m\u001b[37m \u001b[0m│\n",
       "│\u001b[2m     \u001b[0m│                                                │             │        │       │\u001b[37m \u001b[0m\u001b[37m   [171552,\u001b[0m\u001b[37m \u001b[0m│\u001b[37m             \u001b[0m│\n",
       "│\u001b[2m     \u001b[0m│                                                │             │        │       │\u001b[37m \u001b[0m\u001b[37m       24],\u001b[0m\u001b[37m \u001b[0m│\u001b[37m             \u001b[0m│\n",
       "│\u001b[2m     \u001b[0m│                                                │             │        │       │\u001b[37m \u001b[0m\u001b[37m   [171552,\u001b[0m\u001b[37m \u001b[0m│\u001b[37m             \u001b[0m│\n",
       "│\u001b[2m     \u001b[0m│                                                │             │        │       │\u001b[37m \u001b[0m\u001b[37m       12],\u001b[0m\u001b[37m \u001b[0m│\u001b[37m             \u001b[0m│\n",
       "│\u001b[2m     \u001b[0m│                                                │             │        │       │\u001b[37m \u001b[0m\u001b[37m   [171552,\u001b[0m\u001b[37m \u001b[0m│\u001b[37m             \u001b[0m│\n",
       "│\u001b[2m     \u001b[0m│                                                │             │        │       │\u001b[37m \u001b[0m\u001b[37m   16], [2,\u001b[0m\u001b[37m \u001b[0m│\u001b[37m             \u001b[0m│\n",
       "│\u001b[2m     \u001b[0m│                                                │             │        │       │\u001b[37m \u001b[0m\u001b[37m   171552],\u001b[0m\u001b[37m \u001b[0m│\u001b[37m             \u001b[0m│\n",
       "│\u001b[2m     \u001b[0m│                                                │             │        │       │\u001b[37m \u001b[0m\u001b[37m   [10722]]\u001b[0m\u001b[37m \u001b[0m│\u001b[37m             \u001b[0m│\n",
       "│\u001b[2m \u001b[0m\u001b[2m78 \u001b[0m\u001b[2m \u001b[0m│ encoder.interaction_blocks.2.dropout           │ Dropout     │      0 │ train │\u001b[37m \u001b[0m\u001b[37m    [10722,\u001b[0m\u001b[37m \u001b[0m│\u001b[37m \u001b[0m\u001b[37m    [10722,\u001b[0m\u001b[37m \u001b[0m│\n",
       "│\u001b[2m     \u001b[0m│                                                │             │        │       │\u001b[37m \u001b[0m\u001b[37m       128]\u001b[0m\u001b[37m \u001b[0m│\u001b[37m \u001b[0m\u001b[37m       128]\u001b[0m\u001b[37m \u001b[0m│\n",
       "│\u001b[2m \u001b[0m\u001b[2m79 \u001b[0m\u001b[2m \u001b[0m│ encoder.interaction_blocks.2.conv0             │ EdgeGraphC… │ 32.9 K │ train │\u001b[37m \u001b[0m\u001b[37m   [[10722,\u001b[0m\u001b[37m \u001b[0m│\u001b[37m \u001b[0m\u001b[37m    [10722,\u001b[0m\u001b[37m \u001b[0m│\n",
       "│\u001b[2m     \u001b[0m│                                                │             │        │       │\u001b[37m \u001b[0m\u001b[37m  128], [2,\u001b[0m\u001b[37m \u001b[0m│\u001b[37m \u001b[0m\u001b[37m       128]\u001b[0m\u001b[37m \u001b[0m│\n",
       "│\u001b[2m     \u001b[0m│                                                │             │        │       │\u001b[37m \u001b[0m\u001b[37m   171552],\u001b[0m\u001b[37m \u001b[0m│\u001b[37m             \u001b[0m│\n",
       "│\u001b[2m     \u001b[0m│                                                │             │        │       │\u001b[37m \u001b[0m\u001b[37m   [171552,\u001b[0m\u001b[37m \u001b[0m│\u001b[37m             \u001b[0m│\n",
       "│\u001b[2m     \u001b[0m│                                                │             │        │       │\u001b[37m \u001b[0m\u001b[37m      128]]\u001b[0m\u001b[37m \u001b[0m│\u001b[37m             \u001b[0m│\n",
       "│\u001b[2m \u001b[0m\u001b[2m80 \u001b[0m\u001b[2m \u001b[0m│ encoder.interaction_blocks.2.conv0.aggr_module │ SumAggrega… │      0 │ train │\u001b[37m \u001b[0m\u001b[37m  [[171552,\u001b[0m\u001b[37m \u001b[0m│\u001b[37m \u001b[0m\u001b[37m    [10722,\u001b[0m\u001b[37m \u001b[0m│\n",
       "│\u001b[2m     \u001b[0m│                                                │             │        │       │\u001b[37m \u001b[0m\u001b[37m      128],\u001b[0m\u001b[37m \u001b[0m│\u001b[37m \u001b[0m\u001b[37m       128]\u001b[0m\u001b[37m \u001b[0m│\n",
       "│\u001b[2m     \u001b[0m│                                                │             │        │       │\u001b[37m \u001b[0m\u001b[37m  [171552],\u001b[0m\u001b[37m \u001b[0m│\u001b[37m             \u001b[0m│\n",
       "│\u001b[2m     \u001b[0m│                                                │             │        │       │\u001b[37m \u001b[0m\u001b[37m  '?', '?',\u001b[0m\u001b[37m \u001b[0m│\u001b[37m             \u001b[0m│\n",
       "│\u001b[2m     \u001b[0m│                                                │             │        │       │\u001b[37m \u001b[0m\u001b[37m       '?']\u001b[0m\u001b[37m \u001b[0m│\u001b[37m             \u001b[0m│\n",
       "│\u001b[2m \u001b[0m\u001b[2m81 \u001b[0m\u001b[2m \u001b[0m│ encoder.interaction_blocks.2.conv0.lin_l       │ Linear      │ 16.5 K │ train │\u001b[37m \u001b[0m\u001b[37m    [10722,\u001b[0m\u001b[37m \u001b[0m│\u001b[37m \u001b[0m\u001b[37m    [10722,\u001b[0m\u001b[37m \u001b[0m│\n",
       "│\u001b[2m     \u001b[0m│                                                │             │        │       │\u001b[37m \u001b[0m\u001b[37m       128]\u001b[0m\u001b[37m \u001b[0m│\u001b[37m \u001b[0m\u001b[37m       128]\u001b[0m\u001b[37m \u001b[0m│\n",
       "│\u001b[2m \u001b[0m\u001b[2m82 \u001b[0m\u001b[2m \u001b[0m│ encoder.interaction_blocks.2.conv0.lin_r       │ Linear      │ 16.4 K │ train │\u001b[37m \u001b[0m\u001b[37m    [10722,\u001b[0m\u001b[37m \u001b[0m│\u001b[37m \u001b[0m\u001b[37m    [10722,\u001b[0m\u001b[37m \u001b[0m│\n",
       "│\u001b[2m     \u001b[0m│                                                │             │        │       │\u001b[37m \u001b[0m\u001b[37m       128]\u001b[0m\u001b[37m \u001b[0m│\u001b[37m \u001b[0m\u001b[37m       128]\u001b[0m\u001b[37m \u001b[0m│\n",
       "│\u001b[2m \u001b[0m\u001b[2m83 \u001b[0m\u001b[2m \u001b[0m│ encoder.interaction_blocks.2.conv1             │ EdgeGraphC… │ 32.9 K │ train │\u001b[37m \u001b[0m\u001b[37m   [[10722,\u001b[0m\u001b[37m \u001b[0m│\u001b[37m \u001b[0m\u001b[37m    [10722,\u001b[0m\u001b[37m \u001b[0m│\n",
       "│\u001b[2m     \u001b[0m│                                                │             │        │       │\u001b[37m \u001b[0m\u001b[37m  128], [2,\u001b[0m\u001b[37m \u001b[0m│\u001b[37m \u001b[0m\u001b[37m       128]\u001b[0m\u001b[37m \u001b[0m│\n",
       "│\u001b[2m     \u001b[0m│                                                │             │        │       │\u001b[37m \u001b[0m\u001b[37m   171552],\u001b[0m\u001b[37m \u001b[0m│\u001b[37m             \u001b[0m│\n",
       "│\u001b[2m     \u001b[0m│                                                │             │        │       │\u001b[37m \u001b[0m\u001b[37m   [171552,\u001b[0m\u001b[37m \u001b[0m│\u001b[37m             \u001b[0m│\n",
       "│\u001b[2m     \u001b[0m│                                                │             │        │       │\u001b[37m \u001b[0m\u001b[37m      128]]\u001b[0m\u001b[37m \u001b[0m│\u001b[37m             \u001b[0m│\n",
       "│\u001b[2m \u001b[0m\u001b[2m84 \u001b[0m\u001b[2m \u001b[0m│ encoder.interaction_blocks.2.conv1.aggr_module │ SumAggrega… │      0 │ train │\u001b[37m \u001b[0m\u001b[37m  [[171552,\u001b[0m\u001b[37m \u001b[0m│\u001b[37m \u001b[0m\u001b[37m    [10722,\u001b[0m\u001b[37m \u001b[0m│\n",
       "│\u001b[2m     \u001b[0m│                                                │             │        │       │\u001b[37m \u001b[0m\u001b[37m      128],\u001b[0m\u001b[37m \u001b[0m│\u001b[37m \u001b[0m\u001b[37m       128]\u001b[0m\u001b[37m \u001b[0m│\n",
       "│\u001b[2m     \u001b[0m│                                                │             │        │       │\u001b[37m \u001b[0m\u001b[37m  [171552],\u001b[0m\u001b[37m \u001b[0m│\u001b[37m             \u001b[0m│\n",
       "│\u001b[2m     \u001b[0m│                                                │             │        │       │\u001b[37m \u001b[0m\u001b[37m  '?', '?',\u001b[0m\u001b[37m \u001b[0m│\u001b[37m             \u001b[0m│\n",
       "│\u001b[2m     \u001b[0m│                                                │             │        │       │\u001b[37m \u001b[0m\u001b[37m       '?']\u001b[0m\u001b[37m \u001b[0m│\u001b[37m             \u001b[0m│\n",
       "│\u001b[2m \u001b[0m\u001b[2m85 \u001b[0m\u001b[2m \u001b[0m│ encoder.interaction_blocks.2.conv1.lin_l       │ Linear      │ 16.5 K │ train │\u001b[37m \u001b[0m\u001b[37m    [10722,\u001b[0m\u001b[37m \u001b[0m│\u001b[37m \u001b[0m\u001b[37m    [10722,\u001b[0m\u001b[37m \u001b[0m│\n",
       "│\u001b[2m     \u001b[0m│                                                │             │        │       │\u001b[37m \u001b[0m\u001b[37m       128]\u001b[0m\u001b[37m \u001b[0m│\u001b[37m \u001b[0m\u001b[37m       128]\u001b[0m\u001b[37m \u001b[0m│\n",
       "│\u001b[2m \u001b[0m\u001b[2m86 \u001b[0m\u001b[2m \u001b[0m│ encoder.interaction_blocks.2.conv1.lin_r       │ Linear      │ 16.4 K │ train │\u001b[37m \u001b[0m\u001b[37m    [10722,\u001b[0m\u001b[37m \u001b[0m│\u001b[37m \u001b[0m\u001b[37m    [10722,\u001b[0m\u001b[37m \u001b[0m│\n",
       "│\u001b[2m     \u001b[0m│                                                │             │        │       │\u001b[37m \u001b[0m\u001b[37m       128]\u001b[0m\u001b[37m \u001b[0m│\u001b[37m \u001b[0m\u001b[37m       128]\u001b[0m\u001b[37m \u001b[0m│\n",
       "│\u001b[2m \u001b[0m\u001b[2m87 \u001b[0m\u001b[2m \u001b[0m│ encoder.interaction_blocks.2.conv2             │ EdgeGraphC… │ 32.9 K │ train │\u001b[37m \u001b[0m\u001b[37m   [[10722,\u001b[0m\u001b[37m \u001b[0m│\u001b[37m \u001b[0m\u001b[37m    [10722,\u001b[0m\u001b[37m \u001b[0m│\n",
       "│\u001b[2m     \u001b[0m│                                                │             │        │       │\u001b[37m \u001b[0m\u001b[37m  128], [2,\u001b[0m\u001b[37m \u001b[0m│\u001b[37m \u001b[0m\u001b[37m       128]\u001b[0m\u001b[37m \u001b[0m│\n",
       "│\u001b[2m     \u001b[0m│                                                │             │        │       │\u001b[37m \u001b[0m\u001b[37m   171552],\u001b[0m\u001b[37m \u001b[0m│\u001b[37m             \u001b[0m│\n",
       "│\u001b[2m     \u001b[0m│                                                │             │        │       │\u001b[37m \u001b[0m\u001b[37m   [171552,\u001b[0m\u001b[37m \u001b[0m│\u001b[37m             \u001b[0m│\n",
       "│\u001b[2m     \u001b[0m│                                                │             │        │       │\u001b[37m \u001b[0m\u001b[37m      128]]\u001b[0m\u001b[37m \u001b[0m│\u001b[37m             \u001b[0m│\n",
       "│\u001b[2m \u001b[0m\u001b[2m88 \u001b[0m\u001b[2m \u001b[0m│ encoder.interaction_blocks.2.conv2.aggr_module │ SumAggrega… │      0 │ train │\u001b[37m \u001b[0m\u001b[37m  [[171552,\u001b[0m\u001b[37m \u001b[0m│\u001b[37m \u001b[0m\u001b[37m    [10722,\u001b[0m\u001b[37m \u001b[0m│\n",
       "│\u001b[2m     \u001b[0m│                                                │             │        │       │\u001b[37m \u001b[0m\u001b[37m      128],\u001b[0m\u001b[37m \u001b[0m│\u001b[37m \u001b[0m\u001b[37m       128]\u001b[0m\u001b[37m \u001b[0m│\n",
       "│\u001b[2m     \u001b[0m│                                                │             │        │       │\u001b[37m \u001b[0m\u001b[37m  [171552],\u001b[0m\u001b[37m \u001b[0m│\u001b[37m             \u001b[0m│\n",
       "│\u001b[2m     \u001b[0m│                                                │             │        │       │\u001b[37m \u001b[0m\u001b[37m  '?', '?',\u001b[0m\u001b[37m \u001b[0m│\u001b[37m             \u001b[0m│\n",
       "│\u001b[2m     \u001b[0m│                                                │             │        │       │\u001b[37m \u001b[0m\u001b[37m       '?']\u001b[0m\u001b[37m \u001b[0m│\u001b[37m             \u001b[0m│\n",
       "│\u001b[2m \u001b[0m\u001b[2m89 \u001b[0m\u001b[2m \u001b[0m│ encoder.interaction_blocks.2.conv2.lin_l       │ Linear      │ 16.5 K │ train │\u001b[37m \u001b[0m\u001b[37m    [10722,\u001b[0m\u001b[37m \u001b[0m│\u001b[37m \u001b[0m\u001b[37m    [10722,\u001b[0m\u001b[37m \u001b[0m│\n",
       "│\u001b[2m     \u001b[0m│                                                │             │        │       │\u001b[37m \u001b[0m\u001b[37m       128]\u001b[0m\u001b[37m \u001b[0m│\u001b[37m \u001b[0m\u001b[37m       128]\u001b[0m\u001b[37m \u001b[0m│\n",
       "│\u001b[2m \u001b[0m\u001b[2m90 \u001b[0m\u001b[2m \u001b[0m│ encoder.interaction_blocks.2.conv2.lin_r       │ Linear      │ 16.4 K │ train │\u001b[37m \u001b[0m\u001b[37m    [10722,\u001b[0m\u001b[37m \u001b[0m│\u001b[37m \u001b[0m\u001b[37m    [10722,\u001b[0m\u001b[37m \u001b[0m│\n",
       "│\u001b[2m     \u001b[0m│                                                │             │        │       │\u001b[37m \u001b[0m\u001b[37m       128]\u001b[0m\u001b[37m \u001b[0m│\u001b[37m \u001b[0m\u001b[37m       128]\u001b[0m\u001b[37m \u001b[0m│\n",
       "│\u001b[2m \u001b[0m\u001b[2m91 \u001b[0m\u001b[2m \u001b[0m│ encoder.interaction_blocks.2.lin_feature0      │ TwoLinear   │  9.7 K │ train │\u001b[37m \u001b[0m\u001b[37m   [171552,\u001b[0m\u001b[37m \u001b[0m│\u001b[37m \u001b[0m\u001b[37m   [171552,\u001b[0m\u001b[37m \u001b[0m│\n",
       "│\u001b[2m     \u001b[0m│                                                │             │        │       │\u001b[37m \u001b[0m\u001b[37m        24]\u001b[0m\u001b[37m \u001b[0m│\u001b[37m \u001b[0m\u001b[37m       128]\u001b[0m\u001b[37m \u001b[0m│\n",
       "│\u001b[2m \u001b[0m\u001b[2m92 \u001b[0m\u001b[2m \u001b[0m│ encoder.interaction_blocks.2.lin_feature0.lin1 │ Linear      │  1.5 K │ train │\u001b[37m \u001b[0m\u001b[37m   [171552,\u001b[0m\u001b[37m \u001b[0m│\u001b[37m \u001b[0m\u001b[37m   [171552,\u001b[0m\u001b[37m \u001b[0m│\n",
       "│\u001b[2m     \u001b[0m│                                                │             │        │       │\u001b[37m \u001b[0m\u001b[37m        24]\u001b[0m\u001b[37m \u001b[0m│\u001b[37m \u001b[0m\u001b[37m        64]\u001b[0m\u001b[37m \u001b[0m│\n",
       "│\u001b[2m \u001b[0m\u001b[2m93 \u001b[0m\u001b[2m \u001b[0m│ encoder.interaction_blocks.2.lin_feature0.lin2 │ Linear      │  8.2 K │ train │\u001b[37m \u001b[0m\u001b[37m   [171552,\u001b[0m\u001b[37m \u001b[0m│\u001b[37m \u001b[0m\u001b[37m   [171552,\u001b[0m\u001b[37m \u001b[0m│\n",
       "│\u001b[2m     \u001b[0m│                                                │             │        │       │\u001b[37m \u001b[0m\u001b[37m        64]\u001b[0m\u001b[37m \u001b[0m│\u001b[37m \u001b[0m\u001b[37m       128]\u001b[0m\u001b[37m \u001b[0m│\n",
       "│\u001b[2m \u001b[0m\u001b[2m94 \u001b[0m\u001b[2m \u001b[0m│ encoder.interaction_blocks.2.lin_feature1      │ TwoLinear   │  9.0 K │ train │\u001b[37m \u001b[0m\u001b[37m   [171552,\u001b[0m\u001b[37m \u001b[0m│\u001b[37m \u001b[0m\u001b[37m   [171552,\u001b[0m\u001b[37m \u001b[0m│\n",
       "│\u001b[2m     \u001b[0m│                                                │             │        │       │\u001b[37m \u001b[0m\u001b[37m        12]\u001b[0m\u001b[37m \u001b[0m│\u001b[37m \u001b[0m\u001b[37m       128]\u001b[0m\u001b[37m \u001b[0m│\n",
       "│\u001b[2m \u001b[0m\u001b[2m95 \u001b[0m\u001b[2m \u001b[0m│ encoder.interaction_blocks.2.lin_feature1.lin1 │ Linear      │    768 │ train │\u001b[37m \u001b[0m\u001b[37m   [171552,\u001b[0m\u001b[37m \u001b[0m│\u001b[37m \u001b[0m\u001b[37m   [171552,\u001b[0m\u001b[37m \u001b[0m│\n",
       "│\u001b[2m     \u001b[0m│                                                │             │        │       │\u001b[37m \u001b[0m\u001b[37m        12]\u001b[0m\u001b[37m \u001b[0m│\u001b[37m \u001b[0m\u001b[37m        64]\u001b[0m\u001b[37m \u001b[0m│\n",
       "│\u001b[2m \u001b[0m\u001b[2m96 \u001b[0m\u001b[2m \u001b[0m│ encoder.interaction_blocks.2.lin_feature1.lin2 │ Linear      │  8.2 K │ train │\u001b[37m \u001b[0m\u001b[37m   [171552,\u001b[0m\u001b[37m \u001b[0m│\u001b[37m \u001b[0m\u001b[37m   [171552,\u001b[0m\u001b[37m \u001b[0m│\n",
       "│\u001b[2m     \u001b[0m│                                                │             │        │       │\u001b[37m \u001b[0m\u001b[37m        64]\u001b[0m\u001b[37m \u001b[0m│\u001b[37m \u001b[0m\u001b[37m       128]\u001b[0m\u001b[37m \u001b[0m│\n",
       "│\u001b[2m \u001b[0m\u001b[2m97 \u001b[0m\u001b[2m \u001b[0m│ encoder.interaction_blocks.2.lin_feature2      │ TwoLinear   │  9.2 K │ train │\u001b[37m \u001b[0m\u001b[37m   [171552,\u001b[0m\u001b[37m \u001b[0m│\u001b[37m \u001b[0m\u001b[37m   [171552,\u001b[0m\u001b[37m \u001b[0m│\n",
       "│\u001b[2m     \u001b[0m│                                                │             │        │       │\u001b[37m \u001b[0m\u001b[37m        16]\u001b[0m\u001b[37m \u001b[0m│\u001b[37m \u001b[0m\u001b[37m       128]\u001b[0m\u001b[37m \u001b[0m│\n",
       "│\u001b[2m \u001b[0m\u001b[2m98 \u001b[0m\u001b[2m \u001b[0m│ encoder.interaction_blocks.2.lin_feature2.lin1 │ Linear      │  1.0 K │ train │\u001b[37m \u001b[0m\u001b[37m   [171552,\u001b[0m\u001b[37m \u001b[0m│\u001b[37m \u001b[0m\u001b[37m   [171552,\u001b[0m\u001b[37m \u001b[0m│\n",
       "│\u001b[2m     \u001b[0m│                                                │             │        │       │\u001b[37m \u001b[0m\u001b[37m        16]\u001b[0m\u001b[37m \u001b[0m│\u001b[37m \u001b[0m\u001b[37m        64]\u001b[0m\u001b[37m \u001b[0m│\n",
       "│\u001b[2m \u001b[0m\u001b[2m99 \u001b[0m\u001b[2m \u001b[0m│ encoder.interaction_blocks.2.lin_feature2.lin2 │ Linear      │  8.2 K │ train │\u001b[37m \u001b[0m\u001b[37m   [171552,\u001b[0m\u001b[37m \u001b[0m│\u001b[37m \u001b[0m\u001b[37m   [171552,\u001b[0m\u001b[37m \u001b[0m│\n",
       "│\u001b[2m     \u001b[0m│                                                │             │        │       │\u001b[37m \u001b[0m\u001b[37m        64]\u001b[0m\u001b[37m \u001b[0m│\u001b[37m \u001b[0m\u001b[37m       128]\u001b[0m\u001b[37m \u001b[0m│\n",
       "│\u001b[2m \u001b[0m\u001b[2m100\u001b[0m\u001b[2m \u001b[0m│ encoder.interaction_blocks.2.lin_1             │ Linear      │ 16.5 K │ train │\u001b[37m \u001b[0m\u001b[37m    [10722,\u001b[0m\u001b[37m \u001b[0m│\u001b[37m \u001b[0m\u001b[37m    [10722,\u001b[0m\u001b[37m \u001b[0m│\n",
       "│\u001b[2m     \u001b[0m│                                                │             │        │       │\u001b[37m \u001b[0m\u001b[37m       128]\u001b[0m\u001b[37m \u001b[0m│\u001b[37m \u001b[0m\u001b[37m       128]\u001b[0m\u001b[37m \u001b[0m│\n",
       "│\u001b[2m \u001b[0m\u001b[2m101\u001b[0m\u001b[2m \u001b[0m│ encoder.interaction_blocks.2.lin_2             │ Linear      │ 16.5 K │ train │\u001b[37m \u001b[0m\u001b[37m    [10722,\u001b[0m\u001b[37m \u001b[0m│\u001b[37m \u001b[0m\u001b[37m    [10722,\u001b[0m\u001b[37m \u001b[0m│\n",
       "│\u001b[2m     \u001b[0m│                                                │             │        │       │\u001b[37m \u001b[0m\u001b[37m       128]\u001b[0m\u001b[37m \u001b[0m│\u001b[37m \u001b[0m\u001b[37m       128]\u001b[0m\u001b[37m \u001b[0m│\n",
       "│\u001b[2m \u001b[0m\u001b[2m102\u001b[0m\u001b[2m \u001b[0m│ encoder.interaction_blocks.2.lin0              │ Linear      │ 16.5 K │ train │\u001b[37m \u001b[0m\u001b[37m    [10722,\u001b[0m\u001b[37m \u001b[0m│\u001b[37m \u001b[0m\u001b[37m    [10722,\u001b[0m\u001b[37m \u001b[0m│\n",
       "│\u001b[2m     \u001b[0m│                                                │             │        │       │\u001b[37m \u001b[0m\u001b[37m       128]\u001b[0m\u001b[37m \u001b[0m│\u001b[37m \u001b[0m\u001b[37m       128]\u001b[0m\u001b[37m \u001b[0m│\n",
       "│\u001b[2m \u001b[0m\u001b[2m103\u001b[0m\u001b[2m \u001b[0m│ encoder.interaction_blocks.2.lin1              │ Linear      │ 16.5 K │ train │\u001b[37m \u001b[0m\u001b[37m    [10722,\u001b[0m\u001b[37m \u001b[0m│\u001b[37m \u001b[0m\u001b[37m    [10722,\u001b[0m\u001b[37m \u001b[0m│\n",
       "│\u001b[2m     \u001b[0m│                                                │             │        │       │\u001b[37m \u001b[0m\u001b[37m       128]\u001b[0m\u001b[37m \u001b[0m│\u001b[37m \u001b[0m\u001b[37m       128]\u001b[0m\u001b[37m \u001b[0m│\n",
       "│\u001b[2m \u001b[0m\u001b[2m104\u001b[0m\u001b[2m \u001b[0m│ encoder.interaction_blocks.2.lin2              │ Linear      │ 16.5 K │ train │\u001b[37m \u001b[0m\u001b[37m    [10722,\u001b[0m\u001b[37m \u001b[0m│\u001b[37m \u001b[0m\u001b[37m    [10722,\u001b[0m\u001b[37m \u001b[0m│\n",
       "│\u001b[2m     \u001b[0m│                                                │             │        │       │\u001b[37m \u001b[0m\u001b[37m       128]\u001b[0m\u001b[37m \u001b[0m│\u001b[37m \u001b[0m\u001b[37m       128]\u001b[0m\u001b[37m \u001b[0m│\n",
       "│\u001b[2m \u001b[0m\u001b[2m105\u001b[0m\u001b[2m \u001b[0m│ encoder.interaction_blocks.2.lins_cat          │ ModuleList  │ 82.3 K │ train │\u001b[37m \u001b[0m\u001b[37m          ?\u001b[0m\u001b[37m \u001b[0m│\u001b[37m \u001b[0m\u001b[37m          ?\u001b[0m\u001b[37m \u001b[0m│\n",
       "│\u001b[2m \u001b[0m\u001b[2m106\u001b[0m\u001b[2m \u001b[0m│ encoder.interaction_blocks.2.lins_cat.0        │ Linear      │ 49.3 K │ train │\u001b[37m \u001b[0m\u001b[37m    [10722,\u001b[0m\u001b[37m \u001b[0m│\u001b[37m \u001b[0m\u001b[37m    [10722,\u001b[0m\u001b[37m \u001b[0m│\n",
       "│\u001b[2m     \u001b[0m│                                                │             │        │       │\u001b[37m \u001b[0m\u001b[37m       384]\u001b[0m\u001b[37m \u001b[0m│\u001b[37m \u001b[0m\u001b[37m       128]\u001b[0m\u001b[37m \u001b[0m│\n",
       "│\u001b[2m \u001b[0m\u001b[2m107\u001b[0m\u001b[2m \u001b[0m│ encoder.interaction_blocks.2.lins_cat.1        │ Linear      │ 16.5 K │ train │\u001b[37m \u001b[0m\u001b[37m    [10722,\u001b[0m\u001b[37m \u001b[0m│\u001b[37m \u001b[0m\u001b[37m    [10722,\u001b[0m\u001b[37m \u001b[0m│\n",
       "│\u001b[2m     \u001b[0m│                                                │             │        │       │\u001b[37m \u001b[0m\u001b[37m       128]\u001b[0m\u001b[37m \u001b[0m│\u001b[37m \u001b[0m\u001b[37m       128]\u001b[0m\u001b[37m \u001b[0m│\n",
       "│\u001b[2m \u001b[0m\u001b[2m108\u001b[0m\u001b[2m \u001b[0m│ encoder.interaction_blocks.2.lins_cat.2        │ Linear      │ 16.5 K │ train │\u001b[37m \u001b[0m\u001b[37m    [10722,\u001b[0m\u001b[37m \u001b[0m│\u001b[37m \u001b[0m\u001b[37m    [10722,\u001b[0m\u001b[37m \u001b[0m│\n",
       "│\u001b[2m     \u001b[0m│                                                │             │        │       │\u001b[37m \u001b[0m\u001b[37m       128]\u001b[0m\u001b[37m \u001b[0m│\u001b[37m \u001b[0m\u001b[37m       128]\u001b[0m\u001b[37m \u001b[0m│\n",
       "│\u001b[2m \u001b[0m\u001b[2m109\u001b[0m\u001b[2m \u001b[0m│ encoder.interaction_blocks.2.lins              │ ModuleList  │ 33.0 K │ train │\u001b[37m \u001b[0m\u001b[37m          ?\u001b[0m\u001b[37m \u001b[0m│\u001b[37m \u001b[0m\u001b[37m          ?\u001b[0m\u001b[37m \u001b[0m│\n",
       "│\u001b[2m \u001b[0m\u001b[2m110\u001b[0m\u001b[2m \u001b[0m│ encoder.interaction_blocks.2.lins.0            │ Linear      │ 16.5 K │ train │\u001b[37m \u001b[0m\u001b[37m    [10722,\u001b[0m\u001b[37m \u001b[0m│\u001b[37m \u001b[0m\u001b[37m    [10722,\u001b[0m\u001b[37m \u001b[0m│\n",
       "│\u001b[2m     \u001b[0m│                                                │             │        │       │\u001b[37m \u001b[0m\u001b[37m       128]\u001b[0m\u001b[37m \u001b[0m│\u001b[37m \u001b[0m\u001b[37m       128]\u001b[0m\u001b[37m \u001b[0m│\n",
       "│\u001b[2m \u001b[0m\u001b[2m111\u001b[0m\u001b[2m \u001b[0m│ encoder.interaction_blocks.2.lins.1            │ Linear      │ 16.5 K │ train │\u001b[37m \u001b[0m\u001b[37m    [10722,\u001b[0m\u001b[37m \u001b[0m│\u001b[37m \u001b[0m\u001b[37m    [10722,\u001b[0m\u001b[37m \u001b[0m│\n",
       "│\u001b[2m     \u001b[0m│                                                │             │        │       │\u001b[37m \u001b[0m\u001b[37m       128]\u001b[0m\u001b[37m \u001b[0m│\u001b[37m \u001b[0m\u001b[37m       128]\u001b[0m\u001b[37m \u001b[0m│\n",
       "│\u001b[2m \u001b[0m\u001b[2m112\u001b[0m\u001b[2m \u001b[0m│ encoder.interaction_blocks.2.final             │ Linear      │ 16.5 K │ train │\u001b[37m \u001b[0m\u001b[37m    [10722,\u001b[0m\u001b[37m \u001b[0m│\u001b[37m \u001b[0m\u001b[37m    [10722,\u001b[0m\u001b[37m \u001b[0m│\n",
       "│\u001b[2m     \u001b[0m│                                                │             │        │       │\u001b[37m \u001b[0m\u001b[37m       128]\u001b[0m\u001b[37m \u001b[0m│\u001b[37m \u001b[0m\u001b[37m       128]\u001b[0m\u001b[37m \u001b[0m│\n",
       "│\u001b[2m \u001b[0m\u001b[2m113\u001b[0m\u001b[2m \u001b[0m│ encoder.interaction_blocks.3                   │ Interactio… │  340 K │ train │\u001b[37m \u001b[0m\u001b[37m   [[10722,\u001b[0m\u001b[37m \u001b[0m│\u001b[37m \u001b[0m\u001b[37m    [10722,\u001b[0m\u001b[37m \u001b[0m│\n",
       "│\u001b[2m     \u001b[0m│                                                │             │        │       │\u001b[37m \u001b[0m\u001b[37m      128],\u001b[0m\u001b[37m \u001b[0m│\u001b[37m \u001b[0m\u001b[37m       128]\u001b[0m\u001b[37m \u001b[0m│\n",
       "│\u001b[2m     \u001b[0m│                                                │             │        │       │\u001b[37m \u001b[0m\u001b[37m   [171552,\u001b[0m\u001b[37m \u001b[0m│\u001b[37m             \u001b[0m│\n",
       "│\u001b[2m     \u001b[0m│                                                │             │        │       │\u001b[37m \u001b[0m\u001b[37m       24],\u001b[0m\u001b[37m \u001b[0m│\u001b[37m             \u001b[0m│\n",
       "│\u001b[2m     \u001b[0m│                                                │             │        │       │\u001b[37m \u001b[0m\u001b[37m   [171552,\u001b[0m\u001b[37m \u001b[0m│\u001b[37m             \u001b[0m│\n",
       "│\u001b[2m     \u001b[0m│                                                │             │        │       │\u001b[37m \u001b[0m\u001b[37m       12],\u001b[0m\u001b[37m \u001b[0m│\u001b[37m             \u001b[0m│\n",
       "│\u001b[2m     \u001b[0m│                                                │             │        │       │\u001b[37m \u001b[0m\u001b[37m   [171552,\u001b[0m\u001b[37m \u001b[0m│\u001b[37m             \u001b[0m│\n",
       "│\u001b[2m     \u001b[0m│                                                │             │        │       │\u001b[37m \u001b[0m\u001b[37m   16], [2,\u001b[0m\u001b[37m \u001b[0m│\u001b[37m             \u001b[0m│\n",
       "│\u001b[2m     \u001b[0m│                                                │             │        │       │\u001b[37m \u001b[0m\u001b[37m   171552],\u001b[0m\u001b[37m \u001b[0m│\u001b[37m             \u001b[0m│\n",
       "│\u001b[2m     \u001b[0m│                                                │             │        │       │\u001b[37m \u001b[0m\u001b[37m   [10722]]\u001b[0m\u001b[37m \u001b[0m│\u001b[37m             \u001b[0m│\n",
       "│\u001b[2m \u001b[0m\u001b[2m114\u001b[0m\u001b[2m \u001b[0m│ encoder.interaction_blocks.3.dropout           │ Dropout     │      0 │ train │\u001b[37m \u001b[0m\u001b[37m    [10722,\u001b[0m\u001b[37m \u001b[0m│\u001b[37m \u001b[0m\u001b[37m    [10722,\u001b[0m\u001b[37m \u001b[0m│\n",
       "│\u001b[2m     \u001b[0m│                                                │             │        │       │\u001b[37m \u001b[0m\u001b[37m       128]\u001b[0m\u001b[37m \u001b[0m│\u001b[37m \u001b[0m\u001b[37m       128]\u001b[0m\u001b[37m \u001b[0m│\n",
       "│\u001b[2m \u001b[0m\u001b[2m115\u001b[0m\u001b[2m \u001b[0m│ encoder.interaction_blocks.3.conv0             │ EdgeGraphC… │ 32.9 K │ train │\u001b[37m \u001b[0m\u001b[37m   [[10722,\u001b[0m\u001b[37m \u001b[0m│\u001b[37m \u001b[0m\u001b[37m    [10722,\u001b[0m\u001b[37m \u001b[0m│\n",
       "│\u001b[2m     \u001b[0m│                                                │             │        │       │\u001b[37m \u001b[0m\u001b[37m  128], [2,\u001b[0m\u001b[37m \u001b[0m│\u001b[37m \u001b[0m\u001b[37m       128]\u001b[0m\u001b[37m \u001b[0m│\n",
       "│\u001b[2m     \u001b[0m│                                                │             │        │       │\u001b[37m \u001b[0m\u001b[37m   171552],\u001b[0m\u001b[37m \u001b[0m│\u001b[37m             \u001b[0m│\n",
       "│\u001b[2m     \u001b[0m│                                                │             │        │       │\u001b[37m \u001b[0m\u001b[37m   [171552,\u001b[0m\u001b[37m \u001b[0m│\u001b[37m             \u001b[0m│\n",
       "│\u001b[2m     \u001b[0m│                                                │             │        │       │\u001b[37m \u001b[0m\u001b[37m      128]]\u001b[0m\u001b[37m \u001b[0m│\u001b[37m             \u001b[0m│\n",
       "│\u001b[2m \u001b[0m\u001b[2m116\u001b[0m\u001b[2m \u001b[0m│ encoder.interaction_blocks.3.conv0.aggr_module │ SumAggrega… │      0 │ train │\u001b[37m \u001b[0m\u001b[37m  [[171552,\u001b[0m\u001b[37m \u001b[0m│\u001b[37m \u001b[0m\u001b[37m    [10722,\u001b[0m\u001b[37m \u001b[0m│\n",
       "│\u001b[2m     \u001b[0m│                                                │             │        │       │\u001b[37m \u001b[0m\u001b[37m      128],\u001b[0m\u001b[37m \u001b[0m│\u001b[37m \u001b[0m\u001b[37m       128]\u001b[0m\u001b[37m \u001b[0m│\n",
       "│\u001b[2m     \u001b[0m│                                                │             │        │       │\u001b[37m \u001b[0m\u001b[37m  [171552],\u001b[0m\u001b[37m \u001b[0m│\u001b[37m             \u001b[0m│\n",
       "│\u001b[2m     \u001b[0m│                                                │             │        │       │\u001b[37m \u001b[0m\u001b[37m  '?', '?',\u001b[0m\u001b[37m \u001b[0m│\u001b[37m             \u001b[0m│\n",
       "│\u001b[2m     \u001b[0m│                                                │             │        │       │\u001b[37m \u001b[0m\u001b[37m       '?']\u001b[0m\u001b[37m \u001b[0m│\u001b[37m             \u001b[0m│\n",
       "│\u001b[2m \u001b[0m\u001b[2m117\u001b[0m\u001b[2m \u001b[0m│ encoder.interaction_blocks.3.conv0.lin_l       │ Linear      │ 16.5 K │ train │\u001b[37m \u001b[0m\u001b[37m    [10722,\u001b[0m\u001b[37m \u001b[0m│\u001b[37m \u001b[0m\u001b[37m    [10722,\u001b[0m\u001b[37m \u001b[0m│\n",
       "│\u001b[2m     \u001b[0m│                                                │             │        │       │\u001b[37m \u001b[0m\u001b[37m       128]\u001b[0m\u001b[37m \u001b[0m│\u001b[37m \u001b[0m\u001b[37m       128]\u001b[0m\u001b[37m \u001b[0m│\n",
       "│\u001b[2m \u001b[0m\u001b[2m118\u001b[0m\u001b[2m \u001b[0m│ encoder.interaction_blocks.3.conv0.lin_r       │ Linear      │ 16.4 K │ train │\u001b[37m \u001b[0m\u001b[37m    [10722,\u001b[0m\u001b[37m \u001b[0m│\u001b[37m \u001b[0m\u001b[37m    [10722,\u001b[0m\u001b[37m \u001b[0m│\n",
       "│\u001b[2m     \u001b[0m│                                                │             │        │       │\u001b[37m \u001b[0m\u001b[37m       128]\u001b[0m\u001b[37m \u001b[0m│\u001b[37m \u001b[0m\u001b[37m       128]\u001b[0m\u001b[37m \u001b[0m│\n",
       "│\u001b[2m \u001b[0m\u001b[2m119\u001b[0m\u001b[2m \u001b[0m│ encoder.interaction_blocks.3.conv1             │ EdgeGraphC… │ 32.9 K │ train │\u001b[37m \u001b[0m\u001b[37m   [[10722,\u001b[0m\u001b[37m \u001b[0m│\u001b[37m \u001b[0m\u001b[37m    [10722,\u001b[0m\u001b[37m \u001b[0m│\n",
       "│\u001b[2m     \u001b[0m│                                                │             │        │       │\u001b[37m \u001b[0m\u001b[37m  128], [2,\u001b[0m\u001b[37m \u001b[0m│\u001b[37m \u001b[0m\u001b[37m       128]\u001b[0m\u001b[37m \u001b[0m│\n",
       "│\u001b[2m     \u001b[0m│                                                │             │        │       │\u001b[37m \u001b[0m\u001b[37m   171552],\u001b[0m\u001b[37m \u001b[0m│\u001b[37m             \u001b[0m│\n",
       "│\u001b[2m     \u001b[0m│                                                │             │        │       │\u001b[37m \u001b[0m\u001b[37m   [171552,\u001b[0m\u001b[37m \u001b[0m│\u001b[37m             \u001b[0m│\n",
       "│\u001b[2m     \u001b[0m│                                                │             │        │       │\u001b[37m \u001b[0m\u001b[37m      128]]\u001b[0m\u001b[37m \u001b[0m│\u001b[37m             \u001b[0m│\n",
       "│\u001b[2m \u001b[0m\u001b[2m120\u001b[0m\u001b[2m \u001b[0m│ encoder.interaction_blocks.3.conv1.aggr_module │ SumAggrega… │      0 │ train │\u001b[37m \u001b[0m\u001b[37m  [[171552,\u001b[0m\u001b[37m \u001b[0m│\u001b[37m \u001b[0m\u001b[37m    [10722,\u001b[0m\u001b[37m \u001b[0m│\n",
       "│\u001b[2m     \u001b[0m│                                                │             │        │       │\u001b[37m \u001b[0m\u001b[37m      128],\u001b[0m\u001b[37m \u001b[0m│\u001b[37m \u001b[0m\u001b[37m       128]\u001b[0m\u001b[37m \u001b[0m│\n",
       "│\u001b[2m     \u001b[0m│                                                │             │        │       │\u001b[37m \u001b[0m\u001b[37m  [171552],\u001b[0m\u001b[37m \u001b[0m│\u001b[37m             \u001b[0m│\n",
       "│\u001b[2m     \u001b[0m│                                                │             │        │       │\u001b[37m \u001b[0m\u001b[37m  '?', '?',\u001b[0m\u001b[37m \u001b[0m│\u001b[37m             \u001b[0m│\n",
       "│\u001b[2m     \u001b[0m│                                                │             │        │       │\u001b[37m \u001b[0m\u001b[37m       '?']\u001b[0m\u001b[37m \u001b[0m│\u001b[37m             \u001b[0m│\n",
       "│\u001b[2m \u001b[0m\u001b[2m121\u001b[0m\u001b[2m \u001b[0m│ encoder.interaction_blocks.3.conv1.lin_l       │ Linear      │ 16.5 K │ train │\u001b[37m \u001b[0m\u001b[37m    [10722,\u001b[0m\u001b[37m \u001b[0m│\u001b[37m \u001b[0m\u001b[37m    [10722,\u001b[0m\u001b[37m \u001b[0m│\n",
       "│\u001b[2m     \u001b[0m│                                                │             │        │       │\u001b[37m \u001b[0m\u001b[37m       128]\u001b[0m\u001b[37m \u001b[0m│\u001b[37m \u001b[0m\u001b[37m       128]\u001b[0m\u001b[37m \u001b[0m│\n",
       "│\u001b[2m \u001b[0m\u001b[2m122\u001b[0m\u001b[2m \u001b[0m│ encoder.interaction_blocks.3.conv1.lin_r       │ Linear      │ 16.4 K │ train │\u001b[37m \u001b[0m\u001b[37m    [10722,\u001b[0m\u001b[37m \u001b[0m│\u001b[37m \u001b[0m\u001b[37m    [10722,\u001b[0m\u001b[37m \u001b[0m│\n",
       "│\u001b[2m     \u001b[0m│                                                │             │        │       │\u001b[37m \u001b[0m\u001b[37m       128]\u001b[0m\u001b[37m \u001b[0m│\u001b[37m \u001b[0m\u001b[37m       128]\u001b[0m\u001b[37m \u001b[0m│\n",
       "│\u001b[2m \u001b[0m\u001b[2m123\u001b[0m\u001b[2m \u001b[0m│ encoder.interaction_blocks.3.conv2             │ EdgeGraphC… │ 32.9 K │ train │\u001b[37m \u001b[0m\u001b[37m   [[10722,\u001b[0m\u001b[37m \u001b[0m│\u001b[37m \u001b[0m\u001b[37m    [10722,\u001b[0m\u001b[37m \u001b[0m│\n",
       "│\u001b[2m     \u001b[0m│                                                │             │        │       │\u001b[37m \u001b[0m\u001b[37m  128], [2,\u001b[0m\u001b[37m \u001b[0m│\u001b[37m \u001b[0m\u001b[37m       128]\u001b[0m\u001b[37m \u001b[0m│\n",
       "│\u001b[2m     \u001b[0m│                                                │             │        │       │\u001b[37m \u001b[0m\u001b[37m   171552],\u001b[0m\u001b[37m \u001b[0m│\u001b[37m             \u001b[0m│\n",
       "│\u001b[2m     \u001b[0m│                                                │             │        │       │\u001b[37m \u001b[0m\u001b[37m   [171552,\u001b[0m\u001b[37m \u001b[0m│\u001b[37m             \u001b[0m│\n",
       "│\u001b[2m     \u001b[0m│                                                │             │        │       │\u001b[37m \u001b[0m\u001b[37m      128]]\u001b[0m\u001b[37m \u001b[0m│\u001b[37m             \u001b[0m│\n",
       "│\u001b[2m \u001b[0m\u001b[2m124\u001b[0m\u001b[2m \u001b[0m│ encoder.interaction_blocks.3.conv2.aggr_module │ SumAggrega… │      0 │ train │\u001b[37m \u001b[0m\u001b[37m  [[171552,\u001b[0m\u001b[37m \u001b[0m│\u001b[37m \u001b[0m\u001b[37m    [10722,\u001b[0m\u001b[37m \u001b[0m│\n",
       "│\u001b[2m     \u001b[0m│                                                │             │        │       │\u001b[37m \u001b[0m\u001b[37m      128],\u001b[0m\u001b[37m \u001b[0m│\u001b[37m \u001b[0m\u001b[37m       128]\u001b[0m\u001b[37m \u001b[0m│\n",
       "│\u001b[2m     \u001b[0m│                                                │             │        │       │\u001b[37m \u001b[0m\u001b[37m  [171552],\u001b[0m\u001b[37m \u001b[0m│\u001b[37m             \u001b[0m│\n",
       "│\u001b[2m     \u001b[0m│                                                │             │        │       │\u001b[37m \u001b[0m\u001b[37m  '?', '?',\u001b[0m\u001b[37m \u001b[0m│\u001b[37m             \u001b[0m│\n",
       "│\u001b[2m     \u001b[0m│                                                │             │        │       │\u001b[37m \u001b[0m\u001b[37m       '?']\u001b[0m\u001b[37m \u001b[0m│\u001b[37m             \u001b[0m│\n",
       "│\u001b[2m \u001b[0m\u001b[2m125\u001b[0m\u001b[2m \u001b[0m│ encoder.interaction_blocks.3.conv2.lin_l       │ Linear      │ 16.5 K │ train │\u001b[37m \u001b[0m\u001b[37m    [10722,\u001b[0m\u001b[37m \u001b[0m│\u001b[37m \u001b[0m\u001b[37m    [10722,\u001b[0m\u001b[37m \u001b[0m│\n",
       "│\u001b[2m     \u001b[0m│                                                │             │        │       │\u001b[37m \u001b[0m\u001b[37m       128]\u001b[0m\u001b[37m \u001b[0m│\u001b[37m \u001b[0m\u001b[37m       128]\u001b[0m\u001b[37m \u001b[0m│\n",
       "│\u001b[2m \u001b[0m\u001b[2m126\u001b[0m\u001b[2m \u001b[0m│ encoder.interaction_blocks.3.conv2.lin_r       │ Linear      │ 16.4 K │ train │\u001b[37m \u001b[0m\u001b[37m    [10722,\u001b[0m\u001b[37m \u001b[0m│\u001b[37m \u001b[0m\u001b[37m    [10722,\u001b[0m\u001b[37m \u001b[0m│\n",
       "│\u001b[2m     \u001b[0m│                                                │             │        │       │\u001b[37m \u001b[0m\u001b[37m       128]\u001b[0m\u001b[37m \u001b[0m│\u001b[37m \u001b[0m\u001b[37m       128]\u001b[0m\u001b[37m \u001b[0m│\n",
       "│\u001b[2m \u001b[0m\u001b[2m127\u001b[0m\u001b[2m \u001b[0m│ encoder.interaction_blocks.3.lin_feature0      │ TwoLinear   │  9.7 K │ train │\u001b[37m \u001b[0m\u001b[37m   [171552,\u001b[0m\u001b[37m \u001b[0m│\u001b[37m \u001b[0m\u001b[37m   [171552,\u001b[0m\u001b[37m \u001b[0m│\n",
       "│\u001b[2m     \u001b[0m│                                                │             │        │       │\u001b[37m \u001b[0m\u001b[37m        24]\u001b[0m\u001b[37m \u001b[0m│\u001b[37m \u001b[0m\u001b[37m       128]\u001b[0m\u001b[37m \u001b[0m│\n",
       "│\u001b[2m \u001b[0m\u001b[2m128\u001b[0m\u001b[2m \u001b[0m│ encoder.interaction_blocks.3.lin_feature0.lin1 │ Linear      │  1.5 K │ train │\u001b[37m \u001b[0m\u001b[37m   [171552,\u001b[0m\u001b[37m \u001b[0m│\u001b[37m \u001b[0m\u001b[37m   [171552,\u001b[0m\u001b[37m \u001b[0m│\n",
       "│\u001b[2m     \u001b[0m│                                                │             │        │       │\u001b[37m \u001b[0m\u001b[37m        24]\u001b[0m\u001b[37m \u001b[0m│\u001b[37m \u001b[0m\u001b[37m        64]\u001b[0m\u001b[37m \u001b[0m│\n",
       "│\u001b[2m \u001b[0m\u001b[2m129\u001b[0m\u001b[2m \u001b[0m│ encoder.interaction_blocks.3.lin_feature0.lin2 │ Linear      │  8.2 K │ train │\u001b[37m \u001b[0m\u001b[37m   [171552,\u001b[0m\u001b[37m \u001b[0m│\u001b[37m \u001b[0m\u001b[37m   [171552,\u001b[0m\u001b[37m \u001b[0m│\n",
       "│\u001b[2m     \u001b[0m│                                                │             │        │       │\u001b[37m \u001b[0m\u001b[37m        64]\u001b[0m\u001b[37m \u001b[0m│\u001b[37m \u001b[0m\u001b[37m       128]\u001b[0m\u001b[37m \u001b[0m│\n",
       "│\u001b[2m \u001b[0m\u001b[2m130\u001b[0m\u001b[2m \u001b[0m│ encoder.interaction_blocks.3.lin_feature1      │ TwoLinear   │  9.0 K │ train │\u001b[37m \u001b[0m\u001b[37m   [171552,\u001b[0m\u001b[37m \u001b[0m│\u001b[37m \u001b[0m\u001b[37m   [171552,\u001b[0m\u001b[37m \u001b[0m│\n",
       "│\u001b[2m     \u001b[0m│                                                │             │        │       │\u001b[37m \u001b[0m\u001b[37m        12]\u001b[0m\u001b[37m \u001b[0m│\u001b[37m \u001b[0m\u001b[37m       128]\u001b[0m\u001b[37m \u001b[0m│\n",
       "│\u001b[2m \u001b[0m\u001b[2m131\u001b[0m\u001b[2m \u001b[0m│ encoder.interaction_blocks.3.lin_feature1.lin1 │ Linear      │    768 │ train │\u001b[37m \u001b[0m\u001b[37m   [171552,\u001b[0m\u001b[37m \u001b[0m│\u001b[37m \u001b[0m\u001b[37m   [171552,\u001b[0m\u001b[37m \u001b[0m│\n",
       "│\u001b[2m     \u001b[0m│                                                │             │        │       │\u001b[37m \u001b[0m\u001b[37m        12]\u001b[0m\u001b[37m \u001b[0m│\u001b[37m \u001b[0m\u001b[37m        64]\u001b[0m\u001b[37m \u001b[0m│\n",
       "│\u001b[2m \u001b[0m\u001b[2m132\u001b[0m\u001b[2m \u001b[0m│ encoder.interaction_blocks.3.lin_feature1.lin2 │ Linear      │  8.2 K │ train │\u001b[37m \u001b[0m\u001b[37m   [171552,\u001b[0m\u001b[37m \u001b[0m│\u001b[37m \u001b[0m\u001b[37m   [171552,\u001b[0m\u001b[37m \u001b[0m│\n",
       "│\u001b[2m     \u001b[0m│                                                │             │        │       │\u001b[37m \u001b[0m\u001b[37m        64]\u001b[0m\u001b[37m \u001b[0m│\u001b[37m \u001b[0m\u001b[37m       128]\u001b[0m\u001b[37m \u001b[0m│\n",
       "│\u001b[2m \u001b[0m\u001b[2m133\u001b[0m\u001b[2m \u001b[0m│ encoder.interaction_blocks.3.lin_feature2      │ TwoLinear   │  9.2 K │ train │\u001b[37m \u001b[0m\u001b[37m   [171552,\u001b[0m\u001b[37m \u001b[0m│\u001b[37m \u001b[0m\u001b[37m   [171552,\u001b[0m\u001b[37m \u001b[0m│\n",
       "│\u001b[2m     \u001b[0m│                                                │             │        │       │\u001b[37m \u001b[0m\u001b[37m        16]\u001b[0m\u001b[37m \u001b[0m│\u001b[37m \u001b[0m\u001b[37m       128]\u001b[0m\u001b[37m \u001b[0m│\n",
       "│\u001b[2m \u001b[0m\u001b[2m134\u001b[0m\u001b[2m \u001b[0m│ encoder.interaction_blocks.3.lin_feature2.lin1 │ Linear      │  1.0 K │ train │\u001b[37m \u001b[0m\u001b[37m   [171552,\u001b[0m\u001b[37m \u001b[0m│\u001b[37m \u001b[0m\u001b[37m   [171552,\u001b[0m\u001b[37m \u001b[0m│\n",
       "│\u001b[2m     \u001b[0m│                                                │             │        │       │\u001b[37m \u001b[0m\u001b[37m        16]\u001b[0m\u001b[37m \u001b[0m│\u001b[37m \u001b[0m\u001b[37m        64]\u001b[0m\u001b[37m \u001b[0m│\n",
       "│\u001b[2m \u001b[0m\u001b[2m135\u001b[0m\u001b[2m \u001b[0m│ encoder.interaction_blocks.3.lin_feature2.lin2 │ Linear      │  8.2 K │ train │\u001b[37m \u001b[0m\u001b[37m   [171552,\u001b[0m\u001b[37m \u001b[0m│\u001b[37m \u001b[0m\u001b[37m   [171552,\u001b[0m\u001b[37m \u001b[0m│\n",
       "│\u001b[2m     \u001b[0m│                                                │             │        │       │\u001b[37m \u001b[0m\u001b[37m        64]\u001b[0m\u001b[37m \u001b[0m│\u001b[37m \u001b[0m\u001b[37m       128]\u001b[0m\u001b[37m \u001b[0m│\n",
       "│\u001b[2m \u001b[0m\u001b[2m136\u001b[0m\u001b[2m \u001b[0m│ encoder.interaction_blocks.3.lin_1             │ Linear      │ 16.5 K │ train │\u001b[37m \u001b[0m\u001b[37m    [10722,\u001b[0m\u001b[37m \u001b[0m│\u001b[37m \u001b[0m\u001b[37m    [10722,\u001b[0m\u001b[37m \u001b[0m│\n",
       "│\u001b[2m     \u001b[0m│                                                │             │        │       │\u001b[37m \u001b[0m\u001b[37m       128]\u001b[0m\u001b[37m \u001b[0m│\u001b[37m \u001b[0m\u001b[37m       128]\u001b[0m\u001b[37m \u001b[0m│\n",
       "│\u001b[2m \u001b[0m\u001b[2m137\u001b[0m\u001b[2m \u001b[0m│ encoder.interaction_blocks.3.lin_2             │ Linear      │ 16.5 K │ train │\u001b[37m \u001b[0m\u001b[37m    [10722,\u001b[0m\u001b[37m \u001b[0m│\u001b[37m \u001b[0m\u001b[37m    [10722,\u001b[0m\u001b[37m \u001b[0m│\n",
       "│\u001b[2m     \u001b[0m│                                                │             │        │       │\u001b[37m \u001b[0m\u001b[37m       128]\u001b[0m\u001b[37m \u001b[0m│\u001b[37m \u001b[0m\u001b[37m       128]\u001b[0m\u001b[37m \u001b[0m│\n",
       "│\u001b[2m \u001b[0m\u001b[2m138\u001b[0m\u001b[2m \u001b[0m│ encoder.interaction_blocks.3.lin0              │ Linear      │ 16.5 K │ train │\u001b[37m \u001b[0m\u001b[37m    [10722,\u001b[0m\u001b[37m \u001b[0m│\u001b[37m \u001b[0m\u001b[37m    [10722,\u001b[0m\u001b[37m \u001b[0m│\n",
       "│\u001b[2m     \u001b[0m│                                                │             │        │       │\u001b[37m \u001b[0m\u001b[37m       128]\u001b[0m\u001b[37m \u001b[0m│\u001b[37m \u001b[0m\u001b[37m       128]\u001b[0m\u001b[37m \u001b[0m│\n",
       "│\u001b[2m \u001b[0m\u001b[2m139\u001b[0m\u001b[2m \u001b[0m│ encoder.interaction_blocks.3.lin1              │ Linear      │ 16.5 K │ train │\u001b[37m \u001b[0m\u001b[37m    [10722,\u001b[0m\u001b[37m \u001b[0m│\u001b[37m \u001b[0m\u001b[37m    [10722,\u001b[0m\u001b[37m \u001b[0m│\n",
       "│\u001b[2m     \u001b[0m│                                                │             │        │       │\u001b[37m \u001b[0m\u001b[37m       128]\u001b[0m\u001b[37m \u001b[0m│\u001b[37m \u001b[0m\u001b[37m       128]\u001b[0m\u001b[37m \u001b[0m│\n",
       "│\u001b[2m \u001b[0m\u001b[2m140\u001b[0m\u001b[2m \u001b[0m│ encoder.interaction_blocks.3.lin2              │ Linear      │ 16.5 K │ train │\u001b[37m \u001b[0m\u001b[37m    [10722,\u001b[0m\u001b[37m \u001b[0m│\u001b[37m \u001b[0m\u001b[37m    [10722,\u001b[0m\u001b[37m \u001b[0m│\n",
       "│\u001b[2m     \u001b[0m│                                                │             │        │       │\u001b[37m \u001b[0m\u001b[37m       128]\u001b[0m\u001b[37m \u001b[0m│\u001b[37m \u001b[0m\u001b[37m       128]\u001b[0m\u001b[37m \u001b[0m│\n",
       "│\u001b[2m \u001b[0m\u001b[2m141\u001b[0m\u001b[2m \u001b[0m│ encoder.interaction_blocks.3.lins_cat          │ ModuleList  │ 82.3 K │ train │\u001b[37m \u001b[0m\u001b[37m          ?\u001b[0m\u001b[37m \u001b[0m│\u001b[37m \u001b[0m\u001b[37m          ?\u001b[0m\u001b[37m \u001b[0m│\n",
       "│\u001b[2m \u001b[0m\u001b[2m142\u001b[0m\u001b[2m \u001b[0m│ encoder.interaction_blocks.3.lins_cat.0        │ Linear      │ 49.3 K │ train │\u001b[37m \u001b[0m\u001b[37m    [10722,\u001b[0m\u001b[37m \u001b[0m│\u001b[37m \u001b[0m\u001b[37m    [10722,\u001b[0m\u001b[37m \u001b[0m│\n",
       "│\u001b[2m     \u001b[0m│                                                │             │        │       │\u001b[37m \u001b[0m\u001b[37m       384]\u001b[0m\u001b[37m \u001b[0m│\u001b[37m \u001b[0m\u001b[37m       128]\u001b[0m\u001b[37m \u001b[0m│\n",
       "│\u001b[2m \u001b[0m\u001b[2m143\u001b[0m\u001b[2m \u001b[0m│ encoder.interaction_blocks.3.lins_cat.1        │ Linear      │ 16.5 K │ train │\u001b[37m \u001b[0m\u001b[37m    [10722,\u001b[0m\u001b[37m \u001b[0m│\u001b[37m \u001b[0m\u001b[37m    [10722,\u001b[0m\u001b[37m \u001b[0m│\n",
       "│\u001b[2m     \u001b[0m│                                                │             │        │       │\u001b[37m \u001b[0m\u001b[37m       128]\u001b[0m\u001b[37m \u001b[0m│\u001b[37m \u001b[0m\u001b[37m       128]\u001b[0m\u001b[37m \u001b[0m│\n",
       "│\u001b[2m \u001b[0m\u001b[2m144\u001b[0m\u001b[2m \u001b[0m│ encoder.interaction_blocks.3.lins_cat.2        │ Linear      │ 16.5 K │ train │\u001b[37m \u001b[0m\u001b[37m    [10722,\u001b[0m\u001b[37m \u001b[0m│\u001b[37m \u001b[0m\u001b[37m    [10722,\u001b[0m\u001b[37m \u001b[0m│\n",
       "│\u001b[2m     \u001b[0m│                                                │             │        │       │\u001b[37m \u001b[0m\u001b[37m       128]\u001b[0m\u001b[37m \u001b[0m│\u001b[37m \u001b[0m\u001b[37m       128]\u001b[0m\u001b[37m \u001b[0m│\n",
       "│\u001b[2m \u001b[0m\u001b[2m145\u001b[0m\u001b[2m \u001b[0m│ encoder.interaction_blocks.3.lins              │ ModuleList  │ 33.0 K │ train │\u001b[37m \u001b[0m\u001b[37m          ?\u001b[0m\u001b[37m \u001b[0m│\u001b[37m \u001b[0m\u001b[37m          ?\u001b[0m\u001b[37m \u001b[0m│\n",
       "│\u001b[2m \u001b[0m\u001b[2m146\u001b[0m\u001b[2m \u001b[0m│ encoder.interaction_blocks.3.lins.0            │ Linear      │ 16.5 K │ train │\u001b[37m \u001b[0m\u001b[37m    [10722,\u001b[0m\u001b[37m \u001b[0m│\u001b[37m \u001b[0m\u001b[37m    [10722,\u001b[0m\u001b[37m \u001b[0m│\n",
       "│\u001b[2m     \u001b[0m│                                                │             │        │       │\u001b[37m \u001b[0m\u001b[37m       128]\u001b[0m\u001b[37m \u001b[0m│\u001b[37m \u001b[0m\u001b[37m       128]\u001b[0m\u001b[37m \u001b[0m│\n",
       "│\u001b[2m \u001b[0m\u001b[2m147\u001b[0m\u001b[2m \u001b[0m│ encoder.interaction_blocks.3.lins.1            │ Linear      │ 16.5 K │ train │\u001b[37m \u001b[0m\u001b[37m    [10722,\u001b[0m\u001b[37m \u001b[0m│\u001b[37m \u001b[0m\u001b[37m    [10722,\u001b[0m\u001b[37m \u001b[0m│\n",
       "│\u001b[2m     \u001b[0m│                                                │             │        │       │\u001b[37m \u001b[0m\u001b[37m       128]\u001b[0m\u001b[37m \u001b[0m│\u001b[37m \u001b[0m\u001b[37m       128]\u001b[0m\u001b[37m \u001b[0m│\n",
       "│\u001b[2m \u001b[0m\u001b[2m148\u001b[0m\u001b[2m \u001b[0m│ encoder.interaction_blocks.3.final             │ Linear      │ 16.5 K │ train │\u001b[37m \u001b[0m\u001b[37m    [10722,\u001b[0m\u001b[37m \u001b[0m│\u001b[37m \u001b[0m\u001b[37m    [10722,\u001b[0m\u001b[37m \u001b[0m│\n",
       "│\u001b[2m     \u001b[0m│                                                │             │        │       │\u001b[37m \u001b[0m\u001b[37m       128]\u001b[0m\u001b[37m \u001b[0m│\u001b[37m \u001b[0m\u001b[37m       128]\u001b[0m\u001b[37m \u001b[0m│\n",
       "│\u001b[2m \u001b[0m\u001b[2m149\u001b[0m\u001b[2m \u001b[0m│ encoder.lins_out                               │ ModuleList  │ 16.5 K │ train │\u001b[37m \u001b[0m\u001b[37m          ?\u001b[0m\u001b[37m \u001b[0m│\u001b[37m \u001b[0m\u001b[37m          ?\u001b[0m\u001b[37m \u001b[0m│\n",
       "│\u001b[2m \u001b[0m\u001b[2m150\u001b[0m\u001b[2m \u001b[0m│ encoder.lins_out.0                             │ Linear      │ 16.5 K │ train │\u001b[37m \u001b[0m\u001b[37m  [32, 128]\u001b[0m\u001b[37m \u001b[0m│\u001b[37m \u001b[0m\u001b[37m  [32, 128]\u001b[0m\u001b[37m \u001b[0m│\n",
       "│\u001b[2m \u001b[0m\u001b[2m151\u001b[0m\u001b[2m \u001b[0m│ encoder.lin_out                                │ Linear      │  154 K │ train │\u001b[37m \u001b[0m\u001b[37m  [32, 128]\u001b[0m\u001b[37m \u001b[0m│\u001b[37m \u001b[0m\u001b[37m [32, 1195]\u001b[0m\u001b[37m \u001b[0m│\n",
       "│\u001b[2m \u001b[0m\u001b[2m152\u001b[0m\u001b[2m \u001b[0m│ encoder.relu                                   │ ReLU        │      0 │ train │\u001b[37m \u001b[0m\u001b[37m  [32, 128]\u001b[0m\u001b[37m \u001b[0m│\u001b[37m \u001b[0m\u001b[37m  [32, 128]\u001b[0m\u001b[37m \u001b[0m│\n",
       "│\u001b[2m \u001b[0m\u001b[2m153\u001b[0m\u001b[2m \u001b[0m│ encoder.dropout                                │ Dropout     │      0 │ train │\u001b[37m \u001b[0m\u001b[37m  [32, 128]\u001b[0m\u001b[37m \u001b[0m│\u001b[37m \u001b[0m\u001b[37m  [32, 128]\u001b[0m\u001b[37m \u001b[0m│\n",
       "│\u001b[2m \u001b[0m\u001b[2m154\u001b[0m\u001b[2m \u001b[0m│ decoder                                        │ ModuleDict  │      0 │ train │\u001b[37m \u001b[0m\u001b[37m          ?\u001b[0m\u001b[37m \u001b[0m│\u001b[37m \u001b[0m\u001b[37m          ?\u001b[0m\u001b[37m \u001b[0m│\n",
       "│\u001b[2m \u001b[0m\u001b[2m155\u001b[0m\u001b[2m \u001b[0m│ decoder.graph_label                            │ MLPDecoder  │      0 │ train │\u001b[37m \u001b[0m\u001b[37m [32, 1195]\u001b[0m\u001b[37m \u001b[0m│\u001b[37m \u001b[0m\u001b[37m [32, 1195]\u001b[0m\u001b[37m \u001b[0m│\n",
       "│\u001b[2m \u001b[0m\u001b[2m156\u001b[0m\u001b[2m \u001b[0m│ val_graph_label_accuracy                       │ Multiclass… │      0 │ train │\u001b[37m \u001b[0m\u001b[37m          ?\u001b[0m\u001b[37m \u001b[0m│\u001b[37m \u001b[0m\u001b[37m          ?\u001b[0m\u001b[37m \u001b[0m│\n",
       "│\u001b[2m \u001b[0m\u001b[2m157\u001b[0m\u001b[2m \u001b[0m│ test_graph_label_accuracy                      │ Multiclass… │      0 │ train │\u001b[37m \u001b[0m\u001b[37m          ?\u001b[0m\u001b[37m \u001b[0m│\u001b[37m \u001b[0m\u001b[37m          ?\u001b[0m\u001b[37m \u001b[0m│\n",
       "│\u001b[2m \u001b[0m\u001b[2m158\u001b[0m\u001b[2m \u001b[0m│ train_graph_label_accuracy                     │ Multiclass… │      0 │ train │\u001b[37m \u001b[0m\u001b[37m          ?\u001b[0m\u001b[37m \u001b[0m│\u001b[37m \u001b[0m\u001b[37m          ?\u001b[0m\u001b[37m \u001b[0m│\n",
       "│\u001b[2m \u001b[0m\u001b[2m159\u001b[0m\u001b[2m \u001b[0m│ val_graph_label_f1_score                       │ Multiclass… │      0 │ train │\u001b[37m \u001b[0m\u001b[37m          ?\u001b[0m\u001b[37m \u001b[0m│\u001b[37m \u001b[0m\u001b[37m          ?\u001b[0m\u001b[37m \u001b[0m│\n",
       "│\u001b[2m \u001b[0m\u001b[2m160\u001b[0m\u001b[2m \u001b[0m│ test_graph_label_f1_score                      │ Multiclass… │      0 │ train │\u001b[37m \u001b[0m\u001b[37m          ?\u001b[0m\u001b[37m \u001b[0m│\u001b[37m \u001b[0m\u001b[37m          ?\u001b[0m\u001b[37m \u001b[0m│\n",
       "│\u001b[2m \u001b[0m\u001b[2m161\u001b[0m\u001b[2m \u001b[0m│ train_graph_label_f1_score                     │ Multiclass… │      0 │ train │\u001b[37m \u001b[0m\u001b[37m          ?\u001b[0m\u001b[37m \u001b[0m│\u001b[37m \u001b[0m\u001b[37m          ?\u001b[0m\u001b[37m \u001b[0m│\n",
       "│\u001b[2m \u001b[0m\u001b[2m162\u001b[0m\u001b[2m \u001b[0m│ val_graph_label_f1_max                         │ F1Max       │      0 │ train │\u001b[37m \u001b[0m\u001b[37m          ?\u001b[0m\u001b[37m \u001b[0m│\u001b[37m \u001b[0m\u001b[37m          ?\u001b[0m\u001b[37m \u001b[0m│\n",
       "│\u001b[2m \u001b[0m\u001b[2m163\u001b[0m\u001b[2m \u001b[0m│ test_graph_label_f1_max                        │ F1Max       │      0 │ train │\u001b[37m \u001b[0m\u001b[37m          ?\u001b[0m\u001b[37m \u001b[0m│\u001b[37m \u001b[0m\u001b[37m          ?\u001b[0m\u001b[37m \u001b[0m│\n",
       "│\u001b[2m \u001b[0m\u001b[2m164\u001b[0m\u001b[2m \u001b[0m│ train_graph_label_f1_max                       │ F1Max       │      0 │ train │\u001b[37m \u001b[0m\u001b[37m          ?\u001b[0m\u001b[37m \u001b[0m│\u001b[37m \u001b[0m\u001b[37m          ?\u001b[0m\u001b[37m \u001b[0m│\n",
       "│\u001b[2m \u001b[0m\u001b[2m165\u001b[0m\u001b[2m \u001b[0m│ featuriser                                     │ ProteinFea… │      0 │ train │\u001b[37m \u001b[0m\u001b[37m          ?\u001b[0m\u001b[37m \u001b[0m│\u001b[37m \u001b[0m\u001b[37m          ?\u001b[0m\u001b[37m \u001b[0m│\n",
       "└─────┴────────────────────────────────────────────────┴─────────────┴────────┴───────┴─────────────┴─────────────┘\n"
      ]
     },
     "metadata": {},
     "output_type": "display_data"
    },
    {
     "data": {
      "text/html": [
       "<pre style=\"white-space:pre;overflow-x:auto;line-height:normal;font-family:Menlo,'DejaVu Sans Mono',consolas,'Courier New',monospace\"><span style=\"font-weight: bold\">Trainable params</span>: 1.5 M                                                                                            \n",
       "<span style=\"font-weight: bold\">Non-trainable params</span>: 0                                                                                            \n",
       "<span style=\"font-weight: bold\">Total params</span>: 1.5 M                                                                                                \n",
       "<span style=\"font-weight: bold\">Total estimated model params size (MB)</span>: 6                                                                          \n",
       "</pre>\n"
      ],
      "text/plain": [
       "\u001b[1mTrainable params\u001b[0m: 1.5 M                                                                                            \n",
       "\u001b[1mNon-trainable params\u001b[0m: 0                                                                                            \n",
       "\u001b[1mTotal params\u001b[0m: 1.5 M                                                                                                \n",
       "\u001b[1mTotal estimated model params size (MB)\u001b[0m: 6                                                                          \n"
      ]
     },
     "metadata": {},
     "output_type": "display_data"
    },
    {
     "data": {
      "application/vnd.jupyter.widget-view+json": {
       "model_id": "074373ef85d4428198908011de8c5d4d",
       "version_major": 2,
       "version_minor": 0
      },
      "text/plain": [
       "Output()"
      ]
     },
     "metadata": {},
     "output_type": "display_data"
    },
    {
     "data": {
      "text/html": [
       "<pre style=\"white-space:pre;overflow-x:auto;line-height:normal;font-family:Menlo,'DejaVu Sans Mono',consolas,'Courier New',monospace\">===== New ========================\n",
       "</pre>\n"
      ],
      "text/plain": [
       "===== New ========================\n"
      ]
     },
     "metadata": {},
     "output_type": "display_data"
    },
    {
     "data": {
      "text/html": [
       "<pre style=\"white-space:pre;overflow-x:auto;line-height:normal;font-family:Menlo,'DejaVu Sans Mono',consolas,'Courier New',monospace\">DataProteinBatch(fill_value=1e-05, atom_list=[37], coords=[7747, 37, 3], residues=[32], id=[32], residue_id=[32], \n",
       "residue_type=[7747], chains=[7747], graph_y=[32], x=[7747, 23], amino_acid_one_hot=[7747, 23], seq_pos=[7747, 1], \n",
       "batch=[7747], ptr=[33], pos=[7747, 3], edge_index=[2, 123952], edge_type=[1, 123952], num_relation=1, \n",
       "edge_attr=[123952, 1])\n",
       "</pre>\n"
      ],
      "text/plain": [
       "DataProteinBatch(fill_value=1e-05, atom_list=[37], coords=[7747, 37, 3], residues=[32], id=[32], residue_id=[32], \n",
       "residue_type=[7747], chains=[7747], graph_y=[32], x=[7747, 23], amino_acid_one_hot=[7747, 23], seq_pos=[7747, 1], \n",
       "batch=[7747], ptr=[33], pos=[7747, 3], edge_index=[2, 123952], edge_type=[1, 123952], num_relation=1, \n",
       "edge_attr=[123952, 1])\n"
      ]
     },
     "metadata": {},
     "output_type": "display_data"
    },
    {
     "data": {
      "text/html": [
       "<pre style=\"white-space:pre;overflow-x:auto;line-height:normal;font-family:Menlo,'DejaVu Sans Mono',consolas,'Courier New',monospace\">z - min: 0, max: 22, NaNs: 0\n",
       "</pre>\n"
      ],
      "text/plain": [
       "z - min: 0, max: 22, NaNs: 0\n"
      ]
     },
     "metadata": {},
     "output_type": "display_data"
    },
    {
     "data": {
      "text/html": [
       "<pre style=\"white-space:pre;overflow-x:auto;line-height:normal;font-family:Menlo,'DejaVu Sans Mono',consolas,'Courier New',monospace\">pos - min: -49.060001373291016, max: 286.5480041503906, NaNs: 0\n",
       "</pre>\n"
      ],
      "text/plain": [
       "pos - min: -49.060001373291016, max: 286.5480041503906, NaNs: 0\n"
      ]
     },
     "metadata": {},
     "output_type": "display_data"
    },
    {
     "data": {
      "text/html": [
       "<pre style=\"white-space:pre;overflow-x:auto;line-height:normal;font-family:Menlo,'DejaVu Sans Mono',consolas,'Courier New',monospace\">x - min: -3.771965265274048, max: 3.211082935333252, NaNs: 0\n",
       "</pre>\n"
      ],
      "text/plain": [
       "x - min: -3.771965265274048, max: 3.211082935333252, NaNs: 0\n"
      ]
     },
     "metadata": {},
     "output_type": "display_data"
    },
    {
     "data": {
      "text/html": [
       "<pre style=\"white-space:pre;overflow-x:auto;line-height:normal;font-family:Menlo,'DejaVu Sans Mono',consolas,'Courier New',monospace\">pos_emb - min: -1.0, max: 0.9999999403953552, NaNs: 0\n",
       "</pre>\n"
      ],
      "text/plain": [
       "pos_emb - min: -1.0, max: 0.9999999403953552, NaNs: 0\n"
      ]
     },
     "metadata": {},
     "output_type": "display_data"
    },
    {
     "data": {
      "text/html": [
       "<pre style=\"white-space:pre;overflow-x:auto;line-height:normal;font-family:Menlo,'DejaVu Sans Mono',consolas,'Courier New',monospace\">edge_index tensor[2, 123952] i64 n=247904 (1.9Mb) x∈[0, 7746] μ=3.873e+03 σ=2.236e+03 cuda:0\n",
       "</pre>\n"
      ],
      "text/plain": [
       "edge_index tensor[2, 123952] i64 n=247904 (1.9Mb) x∈[0, 7746] μ=3.873e+03 σ=2.236e+03 cuda:0\n"
      ]
     },
     "metadata": {},
     "output_type": "display_data"
    },
    {
     "data": {
      "text/html": [
       "<pre style=\"white-space:pre;overflow-x:auto;line-height:normal;font-family:Menlo,'DejaVu Sans Mono',consolas,'Courier New',monospace\">j: tensor[123952] i64 0.9Mb x∈[0, 7746] μ=3.873e+03 σ=2.237e+03 cuda:0\n",
       "</pre>\n"
      ],
      "text/plain": [
       "j: tensor[123952] i64 0.9Mb x∈[0, 7746] μ=3.873e+03 σ=2.237e+03 cuda:0\n"
      ]
     },
     "metadata": {},
     "output_type": "display_data"
    },
    {
     "data": {
      "text/html": [
       "<pre style=\"white-space:pre;overflow-x:auto;line-height:normal;font-family:Menlo,'DejaVu Sans Mono',consolas,'Courier New',monospace\">i: tensor[123952] i64 0.9Mb x∈[0, 7746] μ=3.873e+03 σ=2.236e+03 cuda:0\n",
       "</pre>\n"
      ],
      "text/plain": [
       "i: tensor[123952] i64 0.9Mb x∈[0, 7746] μ=3.873e+03 σ=2.236e+03 cuda:0\n"
      ]
     },
     "metadata": {},
     "output_type": "display_data"
    },
    {
     "data": {
      "text/html": [
       "<pre style=\"white-space:pre;overflow-x:auto;line-height:normal;font-family:Menlo,'DejaVu Sans Mono',consolas,'Courier New',monospace\">False\n",
       "</pre>\n"
      ],
      "text/plain": [
       "False\n"
      ]
     },
     "metadata": {},
     "output_type": "display_data"
    },
    {
     "data": {
      "text/html": [
       "<pre style=\"white-space:pre;overflow-x:auto;line-height:normal;font-family:Menlo,'DejaVu Sans Mono',consolas,'Courier New',monospace\">dist - min: 2.8557522296905518, max: 41.765926361083984, NaNs: 0\n",
       "</pre>\n"
      ],
      "text/plain": [
       "dist - min: 2.8557522296905518, max: 41.765926361083984, NaNs: 0\n"
      ]
     },
     "metadata": {},
     "output_type": "display_data"
    },
    {
     "data": {
      "text/html": [
       "<pre style=\"white-space:pre;overflow-x:auto;line-height:normal;font-family:Menlo,'DejaVu Sans Mono',consolas,'Courier New',monospace\">theta - min: 5.017964125816898e-13, max: 3.138577699661255, NaNs: 0\n",
       "</pre>\n"
      ],
      "text/plain": [
       "theta - min: 5.017964125816898e-13, max: 3.138577699661255, NaNs: 0\n"
      ]
     },
     "metadata": {},
     "output_type": "display_data"
    },
    {
     "data": {
      "text/html": [
       "<pre style=\"white-space:pre;overflow-x:auto;line-height:normal;font-family:Menlo,'DejaVu Sans Mono',consolas,'Courier New',monospace\">phi - min: -3.141557455062866, max: 3.141563892364502, NaNs: 0\n",
       "</pre>\n"
      ],
      "text/plain": [
       "phi - min: -3.141557455062866, max: 3.141563892364502, NaNs: 0\n"
      ]
     },
     "metadata": {},
     "output_type": "display_data"
    },
    {
     "data": {
      "text/html": [
       "<pre style=\"white-space:pre;overflow-x:auto;line-height:normal;font-family:Menlo,'DejaVu Sans Mono',consolas,'Courier New',monospace\">feature0 - min: -2.385986328125, max: 2.4504308700561523, NaNs: 0\n",
       "</pre>\n"
      ],
      "text/plain": [
       "feature0 - min: -2.385986328125, max: 2.4504308700561523, NaNs: 0\n"
      ]
     },
     "metadata": {},
     "output_type": "display_data"
    },
    {
     "data": {
      "text/html": [
       "<pre style=\"white-space:pre;overflow-x:auto;line-height:normal;font-family:Menlo,'DejaVu Sans Mono',consolas,'Courier New',monospace\">feature1 - min: -2.343778133392334, max: 2.3604953289031982, NaNs: 0\n",
       "</pre>\n"
      ],
      "text/plain": [
       "feature1 - min: -2.343778133392334, max: 2.3604953289031982, NaNs: 0\n"
      ]
     },
     "metadata": {},
     "output_type": "display_data"
    },
    {
     "data": {
      "text/html": [
       "<pre style=\"white-space:pre;overflow-x:auto;line-height:normal;font-family:Menlo,'DejaVu Sans Mono',consolas,'Courier New',monospace\">interaction_block - min: -0.02168515883386135, max: 0.019481956958770752, NaNs: 0\n",
       "</pre>\n"
      ],
      "text/plain": [
       "interaction_block - min: -0.02168515883386135, max: 0.019481956958770752, NaNs: 0\n"
      ]
     },
     "metadata": {},
     "output_type": "display_data"
    },
    {
     "data": {
      "text/html": [
       "<pre style=\"white-space:pre;overflow-x:auto;line-height:normal;font-family:Menlo,'DejaVu Sans Mono',consolas,'Courier New',monospace\">y - min: 0.0, max: 0.22905702888965607, NaNs: 0\n",
       "</pre>\n"
      ],
      "text/plain": [
       "y - min: 0.0, max: 0.22905702888965607, NaNs: 0\n"
      ]
     },
     "metadata": {},
     "output_type": "display_data"
    },
    {
     "data": {
      "text/html": [
       "<pre style=\"white-space:pre;overflow-x:auto;line-height:normal;font-family:Menlo,'DejaVu Sans Mono',consolas,'Courier New',monospace\">lin_out - min: -0.10002867132425308, max: 0.0978647843003273, NaNs: 0\n",
       "</pre>\n"
      ],
      "text/plain": [
       "lin_out - min: -0.10002867132425308, max: 0.0978647843003273, NaNs: 0\n"
      ]
     },
     "metadata": {},
     "output_type": "display_data"
    },
    {
     "data": {
      "text/html": [
       "<pre style=\"white-space:pre;overflow-x:auto;line-height:normal;font-family:Menlo,'DejaVu Sans Mono',consolas,'Courier New',monospace\">/home/zhang/miniconda3/envs/3d/lib/python3.10/site-packages/lightning/pytorch/utilities/data.py:78: UserWarning:\n",
       "\n",
       "Trying to infer the `batch_size` from an ambiguous collection. The batch size we found is 7747. To avoid any \n",
       "miscalculations, use `self.log(..., batch_size=batch_size)`.\n",
       "\n",
       "</pre>\n"
      ],
      "text/plain": [
       "/home/zhang/miniconda3/envs/3d/lib/python3.10/site-packages/lightning/pytorch/utilities/data.py:78: UserWarning:\n",
       "\n",
       "Trying to infer the `batch_size` from an ambiguous collection. The batch size we found is 7747. To avoid any \n",
       "miscalculations, use `self.log(..., batch_size=batch_size)`.\n",
       "\n"
      ]
     },
     "metadata": {},
     "output_type": "display_data"
    },
    {
     "data": {
      "text/html": [
       "<pre style=\"white-space:pre;overflow-x:auto;line-height:normal;font-family:Menlo,'DejaVu Sans Mono',consolas,'Courier New',monospace\">===== New ========================\n",
       "</pre>\n"
      ],
      "text/plain": [
       "===== New ========================\n"
      ]
     },
     "metadata": {},
     "output_type": "display_data"
    },
    {
     "data": {
      "text/html": [
       "<pre style=\"white-space:pre;overflow-x:auto;line-height:normal;font-family:Menlo,'DejaVu Sans Mono',consolas,'Courier New',monospace\">DataProteinBatch(fill_value=1e-05, atom_list=[37], coords=[3294, 37, 3], residues=[32], id=[32], residue_id=[32], \n",
       "residue_type=[3294], chains=[3294], graph_y=[32], x=[3294, 23], amino_acid_one_hot=[3294, 23], seq_pos=[3294, 1], \n",
       "batch=[3294], ptr=[33], pos=[3294, 3], edge_index=[2, 52704], edge_type=[1, 52704], num_relation=1, \n",
       "edge_attr=[52704, 1])\n",
       "</pre>\n"
      ],
      "text/plain": [
       "DataProteinBatch(fill_value=1e-05, atom_list=[37], coords=[3294, 37, 3], residues=[32], id=[32], residue_id=[32], \n",
       "residue_type=[3294], chains=[3294], graph_y=[32], x=[3294, 23], amino_acid_one_hot=[3294, 23], seq_pos=[3294, 1], \n",
       "batch=[3294], ptr=[33], pos=[3294, 3], edge_index=[2, 52704], edge_type=[1, 52704], num_relation=1, \n",
       "edge_attr=[52704, 1])\n"
      ]
     },
     "metadata": {},
     "output_type": "display_data"
    },
    {
     "data": {
      "text/html": [
       "<pre style=\"white-space:pre;overflow-x:auto;line-height:normal;font-family:Menlo,'DejaVu Sans Mono',consolas,'Courier New',monospace\">z - min: 0, max: 22, NaNs: 0\n",
       "</pre>\n"
      ],
      "text/plain": [
       "z - min: 0, max: 22, NaNs: 0\n"
      ]
     },
     "metadata": {},
     "output_type": "display_data"
    },
    {
     "data": {
      "text/html": [
       "<pre style=\"white-space:pre;overflow-x:auto;line-height:normal;font-family:Menlo,'DejaVu Sans Mono',consolas,'Courier New',monospace\">pos - min: -49.6349983215332, max: 168.26499938964844, NaNs: 0\n",
       "</pre>\n"
      ],
      "text/plain": [
       "pos - min: -49.6349983215332, max: 168.26499938964844, NaNs: 0\n"
      ]
     },
     "metadata": {},
     "output_type": "display_data"
    },
    {
     "data": {
      "text/html": [
       "<pre style=\"white-space:pre;overflow-x:auto;line-height:normal;font-family:Menlo,'DejaVu Sans Mono',consolas,'Courier New',monospace\">x - min: -3.771965265274048, max: 3.211082935333252, NaNs: 0\n",
       "</pre>\n"
      ],
      "text/plain": [
       "x - min: -3.771965265274048, max: 3.211082935333252, NaNs: 0\n"
      ]
     },
     "metadata": {},
     "output_type": "display_data"
    },
    {
     "data": {
      "text/html": [
       "<pre style=\"white-space:pre;overflow-x:auto;line-height:normal;font-family:Menlo,'DejaVu Sans Mono',consolas,'Courier New',monospace\">pos_emb - min: -0.9999998211860657, max: 0.9999999403953552, NaNs: 0\n",
       "</pre>\n"
      ],
      "text/plain": [
       "pos_emb - min: -0.9999998211860657, max: 0.9999999403953552, NaNs: 0\n"
      ]
     },
     "metadata": {},
     "output_type": "display_data"
    },
    {
     "data": {
      "text/html": [
       "<pre style=\"white-space:pre;overflow-x:auto;line-height:normal;font-family:Menlo,'DejaVu Sans Mono',consolas,'Courier New',monospace\">edge_index tensor[2, 52704] i64 n=105408 (0.8Mb) x∈[0, 3293] μ=1.646e+03 σ=950.755 cuda:0\n",
       "</pre>\n"
      ],
      "text/plain": [
       "edge_index tensor[2, 52704] i64 n=105408 (0.8Mb) x∈[0, 3293] μ=1.646e+03 σ=950.755 cuda:0\n"
      ]
     },
     "metadata": {},
     "output_type": "display_data"
    },
    {
     "data": {
      "text/html": [
       "<pre style=\"white-space:pre;overflow-x:auto;line-height:normal;font-family:Menlo,'DejaVu Sans Mono',consolas,'Courier New',monospace\">j: tensor[52704] i64 0.4Mb x∈[0, 3293] μ=1.646e+03 σ=950.614 cuda:0\n",
       "</pre>\n"
      ],
      "text/plain": [
       "j: tensor[52704] i64 0.4Mb x∈[0, 3293] μ=1.646e+03 σ=950.614 cuda:0\n"
      ]
     },
     "metadata": {},
     "output_type": "display_data"
    },
    {
     "data": {
      "text/html": [
       "<pre style=\"white-space:pre;overflow-x:auto;line-height:normal;font-family:Menlo,'DejaVu Sans Mono',consolas,'Courier New',monospace\">i: tensor[52704] i64 0.4Mb x∈[0, 3293] μ=1.646e+03 σ=950.905 cuda:0\n",
       "</pre>\n"
      ],
      "text/plain": [
       "i: tensor[52704] i64 0.4Mb x∈[0, 3293] μ=1.646e+03 σ=950.905 cuda:0\n"
      ]
     },
     "metadata": {},
     "output_type": "display_data"
    },
    {
     "data": {
      "text/html": [
       "<pre style=\"white-space:pre;overflow-x:auto;line-height:normal;font-family:Menlo,'DejaVu Sans Mono',consolas,'Courier New',monospace\">False\n",
       "</pre>\n"
      ],
      "text/plain": [
       "False\n"
      ]
     },
     "metadata": {},
     "output_type": "display_data"
    },
    {
     "data": {
      "text/html": [
       "<pre style=\"white-space:pre;overflow-x:auto;line-height:normal;font-family:Menlo,'DejaVu Sans Mono',consolas,'Courier New',monospace\">dist - min: 2.896206855773926, max: 30.01291847229004, NaNs: 0\n",
       "</pre>\n"
      ],
      "text/plain": [
       "dist - min: 2.896206855773926, max: 30.01291847229004, NaNs: 0\n"
      ]
     },
     "metadata": {},
     "output_type": "display_data"
    },
    {
     "data": {
      "text/html": [
       "<pre style=\"white-space:pre;overflow-x:auto;line-height:normal;font-family:Menlo,'DejaVu Sans Mono',consolas,'Courier New',monospace\">theta - min: 0.0, max: 3.124131202697754, NaNs: 0\n",
       "</pre>\n"
      ],
      "text/plain": [
       "theta - min: 0.0, max: 3.124131202697754, NaNs: 0\n"
      ]
     },
     "metadata": {},
     "output_type": "display_data"
    },
    {
     "data": {
      "text/html": [
       "<pre style=\"white-space:pre;overflow-x:auto;line-height:normal;font-family:Menlo,'DejaVu Sans Mono',consolas,'Courier New',monospace\">phi - min: -3.1415481567382812, max: 3.1415483951568604, NaNs: 0\n",
       "</pre>\n"
      ],
      "text/plain": [
       "phi - min: -3.1415481567382812, max: 3.1415483951568604, NaNs: 0\n"
      ]
     },
     "metadata": {},
     "output_type": "display_data"
    },
    {
     "data": {
      "text/html": [
       "<pre style=\"white-space:pre;overflow-x:auto;line-height:normal;font-family:Menlo,'DejaVu Sans Mono',consolas,'Courier New',monospace\">feature0 - min: -2.3668246269226074, max: 2.3830342292785645, NaNs: 0\n",
       "</pre>\n"
      ],
      "text/plain": [
       "feature0 - min: -2.3668246269226074, max: 2.3830342292785645, NaNs: 0\n"
      ]
     },
     "metadata": {},
     "output_type": "display_data"
    },
    {
     "data": {
      "text/html": [
       "<pre style=\"white-space:pre;overflow-x:auto;line-height:normal;font-family:Menlo,'DejaVu Sans Mono',consolas,'Courier New',monospace\">feature1 - min: -2.291559934616089, max: 2.2581710815429688, NaNs: 0\n",
       "</pre>\n"
      ],
      "text/plain": [
       "feature1 - min: -2.291559934616089, max: 2.2581710815429688, NaNs: 0\n"
      ]
     },
     "metadata": {},
     "output_type": "display_data"
    },
    {
     "data": {
      "text/html": [
       "<pre style=\"white-space:pre;overflow-x:auto;line-height:normal;font-family:Menlo,'DejaVu Sans Mono',consolas,'Courier New',monospace\">interaction_block - min: -0.015511407516896725, max: 0.01659548468887806, NaNs: 0\n",
       "</pre>\n"
      ],
      "text/plain": [
       "interaction_block - min: -0.015511407516896725, max: 0.01659548468887806, NaNs: 0\n"
      ]
     },
     "metadata": {},
     "output_type": "display_data"
    },
    {
     "data": {
      "text/html": [
       "<pre style=\"white-space:pre;overflow-x:auto;line-height:normal;font-family:Menlo,'DejaVu Sans Mono',consolas,'Courier New',monospace\">y - min: 0.0, max: 0.13773217797279358, NaNs: 0\n",
       "</pre>\n"
      ],
      "text/plain": [
       "y - min: 0.0, max: 0.13773217797279358, NaNs: 0\n"
      ]
     },
     "metadata": {},
     "output_type": "display_data"
    },
    {
     "data": {
      "text/html": [
       "<pre style=\"white-space:pre;overflow-x:auto;line-height:normal;font-family:Menlo,'DejaVu Sans Mono',consolas,'Courier New',monospace\">lin_out - min: -0.05110538750886917, max: 0.058184124529361725, NaNs: 0\n",
       "</pre>\n"
      ],
      "text/plain": [
       "lin_out - min: -0.05110538750886917, max: 0.058184124529361725, NaNs: 0\n"
      ]
     },
     "metadata": {},
     "output_type": "display_data"
    },
    {
     "data": {
      "text/html": [
       "<pre style=\"white-space:pre;overflow-x:auto;line-height:normal;font-family:Menlo,'DejaVu Sans Mono',consolas,'Courier New',monospace\">/home/zhang/miniconda3/envs/3d/lib/python3.10/site-packages/lightning/pytorch/utilities/data.py:78: UserWarning:\n",
       "\n",
       "Trying to infer the `batch_size` from an ambiguous collection. The batch size we found is 3294. To avoid any \n",
       "miscalculations, use `self.log(..., batch_size=batch_size)`.\n",
       "\n",
       "</pre>\n"
      ],
      "text/plain": [
       "/home/zhang/miniconda3/envs/3d/lib/python3.10/site-packages/lightning/pytorch/utilities/data.py:78: UserWarning:\n",
       "\n",
       "Trying to infer the `batch_size` from an ambiguous collection. The batch size we found is 3294. To avoid any \n",
       "miscalculations, use `self.log(..., batch_size=batch_size)`.\n",
       "\n"
      ]
     },
     "metadata": {},
     "output_type": "display_data"
    },
    {
     "data": {
      "text/html": [
       "<pre style=\"white-space:pre;overflow-x:auto;line-height:normal;font-family:Menlo,'DejaVu Sans Mono',consolas,'Courier New',monospace\">===== New ========================\n",
       "</pre>\n"
      ],
      "text/plain": [
       "===== New ========================\n"
      ]
     },
     "metadata": {},
     "output_type": "display_data"
    },
    {
     "data": {
      "text/html": [
       "<pre style=\"white-space:pre;overflow-x:auto;line-height:normal;font-family:Menlo,'DejaVu Sans Mono',consolas,'Courier New',monospace\">DataProteinBatch(fill_value=1e-05, atom_list=[37], coords=[4648, 37, 3], residues=[32], id=[32], residue_id=[32], \n",
       "residue_type=[4648], chains=[4648], graph_y=[32], x=[4648, 23], amino_acid_one_hot=[4648, 23], seq_pos=[4648, 1], \n",
       "batch=[4648], ptr=[33], pos=[4648, 3], edge_index=[2, 74368], edge_type=[1, 74368], num_relation=1, \n",
       "edge_attr=[74368, 1])\n",
       "</pre>\n"
      ],
      "text/plain": [
       "DataProteinBatch(fill_value=1e-05, atom_list=[37], coords=[4648, 37, 3], residues=[32], id=[32], residue_id=[32], \n",
       "residue_type=[4648], chains=[4648], graph_y=[32], x=[4648, 23], amino_acid_one_hot=[4648, 23], seq_pos=[4648, 1], \n",
       "batch=[4648], ptr=[33], pos=[4648, 3], edge_index=[2, 74368], edge_type=[1, 74368], num_relation=1, \n",
       "edge_attr=[74368, 1])\n"
      ]
     },
     "metadata": {},
     "output_type": "display_data"
    },
    {
     "data": {
      "text/html": [
       "<pre style=\"white-space:pre;overflow-x:auto;line-height:normal;font-family:Menlo,'DejaVu Sans Mono',consolas,'Courier New',monospace\">z - min: 0, max: 22, NaNs: 0\n",
       "</pre>\n"
      ],
      "text/plain": [
       "z - min: 0, max: 22, NaNs: 0\n"
      ]
     },
     "metadata": {},
     "output_type": "display_data"
    },
    {
     "data": {
      "text/html": [
       "<pre style=\"white-space:pre;overflow-x:auto;line-height:normal;font-family:Menlo,'DejaVu Sans Mono',consolas,'Courier New',monospace\">pos - min: -53.731998443603516, max: 204.98800659179688, NaNs: 0\n",
       "</pre>\n"
      ],
      "text/plain": [
       "pos - min: -53.731998443603516, max: 204.98800659179688, NaNs: 0\n"
      ]
     },
     "metadata": {},
     "output_type": "display_data"
    },
    {
     "data": {
      "text/html": [
       "<pre style=\"white-space:pre;overflow-x:auto;line-height:normal;font-family:Menlo,'DejaVu Sans Mono',consolas,'Courier New',monospace\">x - min: -3.771965265274048, max: 3.211082935333252, NaNs: 0\n",
       "</pre>\n"
      ],
      "text/plain": [
       "x - min: -3.771965265274048, max: 3.211082935333252, NaNs: 0\n"
      ]
     },
     "metadata": {},
     "output_type": "display_data"
    },
    {
     "data": {
      "text/html": [
       "<pre style=\"white-space:pre;overflow-x:auto;line-height:normal;font-family:Menlo,'DejaVu Sans Mono',consolas,'Courier New',monospace\">pos_emb - min: -0.9999998211860657, max: 0.9999999403953552, NaNs: 0\n",
       "</pre>\n"
      ],
      "text/plain": [
       "pos_emb - min: -0.9999998211860657, max: 0.9999999403953552, NaNs: 0\n"
      ]
     },
     "metadata": {},
     "output_type": "display_data"
    },
    {
     "data": {
      "text/html": [
       "<pre style=\"white-space:pre;overflow-x:auto;line-height:normal;font-family:Menlo,'DejaVu Sans Mono',consolas,'Courier New',monospace\">edge_index tensor[2, 74368] i64 n=148736 (1.1Mb) x∈[0, 4647] μ=2.324e+03 σ=1.342e+03 cuda:0\n",
       "</pre>\n"
      ],
      "text/plain": [
       "edge_index tensor[2, 74368] i64 n=148736 (1.1Mb) x∈[0, 4647] μ=2.324e+03 σ=1.342e+03 cuda:0\n"
      ]
     },
     "metadata": {},
     "output_type": "display_data"
    },
    {
     "data": {
      "text/html": [
       "<pre style=\"white-space:pre;overflow-x:auto;line-height:normal;font-family:Menlo,'DejaVu Sans Mono',consolas,'Courier New',monospace\">j: tensor[74368] i64 0.6Mb x∈[0, 4647] μ=2.324e+03 σ=1.342e+03 cuda:0\n",
       "</pre>\n"
      ],
      "text/plain": [
       "j: tensor[74368] i64 0.6Mb x∈[0, 4647] μ=2.324e+03 σ=1.342e+03 cuda:0\n"
      ]
     },
     "metadata": {},
     "output_type": "display_data"
    },
    {
     "data": {
      "text/html": [
       "<pre style=\"white-space:pre;overflow-x:auto;line-height:normal;font-family:Menlo,'DejaVu Sans Mono',consolas,'Courier New',monospace\">i: tensor[74368] i64 0.6Mb x∈[0, 4647] μ=2.324e+03 σ=1.342e+03 cuda:0\n",
       "</pre>\n"
      ],
      "text/plain": [
       "i: tensor[74368] i64 0.6Mb x∈[0, 4647] μ=2.324e+03 σ=1.342e+03 cuda:0\n"
      ]
     },
     "metadata": {},
     "output_type": "display_data"
    },
    {
     "data": {
      "text/html": [
       "<pre style=\"white-space:pre;overflow-x:auto;line-height:normal;font-family:Menlo,'DejaVu Sans Mono',consolas,'Courier New',monospace\">False\n",
       "</pre>\n"
      ],
      "text/plain": [
       "False\n"
      ]
     },
     "metadata": {},
     "output_type": "display_data"
    },
    {
     "data": {
      "text/html": [
       "<pre style=\"white-space:pre;overflow-x:auto;line-height:normal;font-family:Menlo,'DejaVu Sans Mono',consolas,'Courier New',monospace\">dist - min: 2.9808316230773926, max: 17.427534103393555, NaNs: 0\n",
       "</pre>\n"
      ],
      "text/plain": [
       "dist - min: 2.9808316230773926, max: 17.427534103393555, NaNs: 0\n"
      ]
     },
     "metadata": {},
     "output_type": "display_data"
    },
    {
     "data": {
      "text/html": [
       "<pre style=\"white-space:pre;overflow-x:auto;line-height:normal;font-family:Menlo,'DejaVu Sans Mono',consolas,'Courier New',monospace\">theta - min: 3.618532903870708e-11, max: 3.130850315093994, NaNs: 0\n",
       "</pre>\n"
      ],
      "text/plain": [
       "theta - min: 3.618532903870708e-11, max: 3.130850315093994, NaNs: 0\n"
      ]
     },
     "metadata": {},
     "output_type": "display_data"
    },
    {
     "data": {
      "text/html": [
       "<pre style=\"white-space:pre;overflow-x:auto;line-height:normal;font-family:Menlo,'DejaVu Sans Mono',consolas,'Courier New',monospace\">phi - min: -3.1414546966552734, max: 3.1413698196411133, NaNs: 0\n",
       "</pre>\n"
      ],
      "text/plain": [
       "phi - min: -3.1414546966552734, max: 3.1413698196411133, NaNs: 0\n"
      ]
     },
     "metadata": {},
     "output_type": "display_data"
    },
    {
     "data": {
      "text/html": [
       "<pre style=\"white-space:pre;overflow-x:auto;line-height:normal;font-family:Menlo,'DejaVu Sans Mono',consolas,'Courier New',monospace\">feature0 - min: -2.3494906425476074, max: 2.317262887954712, NaNs: 0\n",
       "</pre>\n"
      ],
      "text/plain": [
       "feature0 - min: -2.3494906425476074, max: 2.317262887954712, NaNs: 0\n"
      ]
     },
     "metadata": {},
     "output_type": "display_data"
    },
    {
     "data": {
      "text/html": [
       "<pre style=\"white-space:pre;overflow-x:auto;line-height:normal;font-family:Menlo,'DejaVu Sans Mono',consolas,'Courier New',monospace\">feature1 - min: -2.0712296962738037, max: 2.1564860343933105, NaNs: 0\n",
       "</pre>\n"
      ],
      "text/plain": [
       "feature1 - min: -2.0712296962738037, max: 2.1564860343933105, NaNs: 0\n"
      ]
     },
     "metadata": {},
     "output_type": "display_data"
    },
    {
     "data": {
      "text/html": [
       "<pre style=\"white-space:pre;overflow-x:auto;line-height:normal;font-family:Menlo,'DejaVu Sans Mono',consolas,'Courier New',monospace\">interaction_block - min: -0.016536841168999672, max: 0.015370219945907593, NaNs: 0\n",
       "</pre>\n"
      ],
      "text/plain": [
       "interaction_block - min: -0.016536841168999672, max: 0.015370219945907593, NaNs: 0\n"
      ]
     },
     "metadata": {},
     "output_type": "display_data"
    },
    {
     "data": {
      "text/html": [
       "<pre style=\"white-space:pre;overflow-x:auto;line-height:normal;font-family:Menlo,'DejaVu Sans Mono',consolas,'Courier New',monospace\">y - min: 0.0, max: 0.23075518012046814, NaNs: 0\n",
       "</pre>\n"
      ],
      "text/plain": [
       "y - min: 0.0, max: 0.23075518012046814, NaNs: 0\n"
      ]
     },
     "metadata": {},
     "output_type": "display_data"
    },
    {
     "data": {
      "text/html": [
       "<pre style=\"white-space:pre;overflow-x:auto;line-height:normal;font-family:Menlo,'DejaVu Sans Mono',consolas,'Courier New',monospace\">lin_out - min: -0.07958467304706573, max: 0.08061137795448303, NaNs: 0\n",
       "</pre>\n"
      ],
      "text/plain": [
       "lin_out - min: -0.07958467304706573, max: 0.08061137795448303, NaNs: 0\n"
      ]
     },
     "metadata": {},
     "output_type": "display_data"
    },
    {
     "data": {
      "text/html": [
       "<pre style=\"white-space:pre;overflow-x:auto;line-height:normal;font-family:Menlo,'DejaVu Sans Mono',consolas,'Courier New',monospace\">===== New ========================\n",
       "</pre>\n"
      ],
      "text/plain": [
       "===== New ========================\n"
      ]
     },
     "metadata": {},
     "output_type": "display_data"
    },
    {
     "data": {
      "text/html": [
       "<pre style=\"white-space:pre;overflow-x:auto;line-height:normal;font-family:Menlo,'DejaVu Sans Mono',consolas,'Courier New',monospace\">DataProteinBatch(fill_value=1e-05, atom_list=[37], coords=[4708, 37, 3], residues=[32], id=[32], residue_id=[32], \n",
       "residue_type=[4708], chains=[4708], graph_y=[32], x=[4708, 23], amino_acid_one_hot=[4708, 23], seq_pos=[4708, 1], \n",
       "batch=[4708], ptr=[33], pos=[4708, 3], edge_index=[2, 75328], edge_type=[1, 75328], num_relation=1, \n",
       "edge_attr=[75328, 1])\n",
       "</pre>\n"
      ],
      "text/plain": [
       "DataProteinBatch(fill_value=1e-05, atom_list=[37], coords=[4708, 37, 3], residues=[32], id=[32], residue_id=[32], \n",
       "residue_type=[4708], chains=[4708], graph_y=[32], x=[4708, 23], amino_acid_one_hot=[4708, 23], seq_pos=[4708, 1], \n",
       "batch=[4708], ptr=[33], pos=[4708, 3], edge_index=[2, 75328], edge_type=[1, 75328], num_relation=1, \n",
       "edge_attr=[75328, 1])\n"
      ]
     },
     "metadata": {},
     "output_type": "display_data"
    },
    {
     "data": {
      "text/html": [
       "<pre style=\"white-space:pre;overflow-x:auto;line-height:normal;font-family:Menlo,'DejaVu Sans Mono',consolas,'Courier New',monospace\">z - min: 0, max: 22, NaNs: 0\n",
       "</pre>\n"
      ],
      "text/plain": [
       "z - min: 0, max: 22, NaNs: 0\n"
      ]
     },
     "metadata": {},
     "output_type": "display_data"
    },
    {
     "data": {
      "text/html": [
       "<pre style=\"white-space:pre;overflow-x:auto;line-height:normal;font-family:Menlo,'DejaVu Sans Mono',consolas,'Courier New',monospace\">pos - min: -74.98899841308594, max: 215.1300048828125, NaNs: 0\n",
       "</pre>\n"
      ],
      "text/plain": [
       "pos - min: -74.98899841308594, max: 215.1300048828125, NaNs: 0\n"
      ]
     },
     "metadata": {},
     "output_type": "display_data"
    },
    {
     "data": {
      "text/html": [
       "<pre style=\"white-space:pre;overflow-x:auto;line-height:normal;font-family:Menlo,'DejaVu Sans Mono',consolas,'Courier New',monospace\">x - min: -3.7724647521972656, max: 3.210582971572876, NaNs: 0\n",
       "</pre>\n"
      ],
      "text/plain": [
       "x - min: -3.7724647521972656, max: 3.210582971572876, NaNs: 0\n"
      ]
     },
     "metadata": {},
     "output_type": "display_data"
    },
    {
     "data": {
      "text/html": [
       "<pre style=\"white-space:pre;overflow-x:auto;line-height:normal;font-family:Menlo,'DejaVu Sans Mono',consolas,'Courier New',monospace\">pos_emb - min: -0.9999998211860657, max: 0.9999999403953552, NaNs: 0\n",
       "</pre>\n"
      ],
      "text/plain": [
       "pos_emb - min: -0.9999998211860657, max: 0.9999999403953552, NaNs: 0\n"
      ]
     },
     "metadata": {},
     "output_type": "display_data"
    },
    {
     "data": {
      "text/html": [
       "<pre style=\"white-space:pre;overflow-x:auto;line-height:normal;font-family:Menlo,'DejaVu Sans Mono',consolas,'Courier New',monospace\">edge_index tensor[2, 75328] i64 n=150656 (1.1Mb) x∈[0, 4707] μ=2.354e+03 σ=1.359e+03 cuda:0\n",
       "</pre>\n"
      ],
      "text/plain": [
       "edge_index tensor[2, 75328] i64 n=150656 (1.1Mb) x∈[0, 4707] μ=2.354e+03 σ=1.359e+03 cuda:0\n"
      ]
     },
     "metadata": {},
     "output_type": "display_data"
    },
    {
     "data": {
      "text/html": [
       "<pre style=\"white-space:pre;overflow-x:auto;line-height:normal;font-family:Menlo,'DejaVu Sans Mono',consolas,'Courier New',monospace\">j: tensor[75328] i64 0.6Mb x∈[0, 4707] μ=2.354e+03 σ=1.359e+03 cuda:0\n",
       "</pre>\n"
      ],
      "text/plain": [
       "j: tensor[75328] i64 0.6Mb x∈[0, 4707] μ=2.354e+03 σ=1.359e+03 cuda:0\n"
      ]
     },
     "metadata": {},
     "output_type": "display_data"
    },
    {
     "data": {
      "text/html": [
       "<pre style=\"white-space:pre;overflow-x:auto;line-height:normal;font-family:Menlo,'DejaVu Sans Mono',consolas,'Courier New',monospace\">i: tensor[75328] i64 0.6Mb x∈[0, 4707] μ=2.354e+03 σ=1.359e+03 cuda:0\n",
       "</pre>\n"
      ],
      "text/plain": [
       "i: tensor[75328] i64 0.6Mb x∈[0, 4707] μ=2.354e+03 σ=1.359e+03 cuda:0\n"
      ]
     },
     "metadata": {},
     "output_type": "display_data"
    },
    {
     "data": {
      "text/html": [
       "<pre style=\"white-space:pre;overflow-x:auto;line-height:normal;font-family:Menlo,'DejaVu Sans Mono',consolas,'Courier New',monospace\">False\n",
       "</pre>\n"
      ],
      "text/plain": [
       "False\n"
      ]
     },
     "metadata": {},
     "output_type": "display_data"
    },
    {
     "data": {
      "text/html": [
       "<pre style=\"white-space:pre;overflow-x:auto;line-height:normal;font-family:Menlo,'DejaVu Sans Mono',consolas,'Courier New',monospace\">dist - min: 3.4785547256469727, max: 20.583358764648438, NaNs: 0\n",
       "</pre>\n"
      ],
      "text/plain": [
       "dist - min: 3.4785547256469727, max: 20.583358764648438, NaNs: 0\n"
      ]
     },
     "metadata": {},
     "output_type": "display_data"
    },
    {
     "data": {
      "text/html": [
       "<pre style=\"white-space:pre;overflow-x:auto;line-height:normal;font-family:Menlo,'DejaVu Sans Mono',consolas,'Courier New',monospace\">theta - min: 0.0, max: 3.1355533599853516, NaNs: 0\n",
       "</pre>\n"
      ],
      "text/plain": [
       "theta - min: 0.0, max: 3.1355533599853516, NaNs: 0\n"
      ]
     },
     "metadata": {},
     "output_type": "display_data"
    },
    {
     "data": {
      "text/html": [
       "<pre style=\"white-space:pre;overflow-x:auto;line-height:normal;font-family:Menlo,'DejaVu Sans Mono',consolas,'Courier New',monospace\">phi - min: -3.1414103507995605, max: 3.1415107250213623, NaNs: 0\n",
       "</pre>\n"
      ],
      "text/plain": [
       "phi - min: -3.1414103507995605, max: 3.1415107250213623, NaNs: 0\n"
      ]
     },
     "metadata": {},
     "output_type": "display_data"
    },
    {
     "data": {
      "text/html": [
       "<pre style=\"white-space:pre;overflow-x:auto;line-height:normal;font-family:Menlo,'DejaVu Sans Mono',consolas,'Courier New',monospace\">feature0 - min: -2.0330002307891846, max: 2.126915693283081, NaNs: 0\n",
       "</pre>\n"
      ],
      "text/plain": [
       "feature0 - min: -2.0330002307891846, max: 2.126915693283081, NaNs: 0\n"
      ]
     },
     "metadata": {},
     "output_type": "display_data"
    },
    {
     "data": {
      "text/html": [
       "<pre style=\"white-space:pre;overflow-x:auto;line-height:normal;font-family:Menlo,'DejaVu Sans Mono',consolas,'Courier New',monospace\">feature1 - min: -2.020836591720581, max: 1.9359160661697388, NaNs: 0\n",
       "</pre>\n"
      ],
      "text/plain": [
       "feature1 - min: -2.020836591720581, max: 1.9359160661697388, NaNs: 0\n"
      ]
     },
     "metadata": {},
     "output_type": "display_data"
    },
    {
     "data": {
      "text/html": [
       "<pre style=\"white-space:pre;overflow-x:auto;line-height:normal;font-family:Menlo,'DejaVu Sans Mono',consolas,'Courier New',monospace\">interaction_block - min: -0.0166473388671875, max: 0.01959785260260105, NaNs: 0\n",
       "</pre>\n"
      ],
      "text/plain": [
       "interaction_block - min: -0.0166473388671875, max: 0.01959785260260105, NaNs: 0\n"
      ]
     },
     "metadata": {},
     "output_type": "display_data"
    },
    {
     "data": {
      "text/html": [
       "<pre style=\"white-space:pre;overflow-x:auto;line-height:normal;font-family:Menlo,'DejaVu Sans Mono',consolas,'Courier New',monospace\">y - min: 0.0, max: 1.3500233888626099, NaNs: 0\n",
       "</pre>\n"
      ],
      "text/plain": [
       "y - min: 0.0, max: 1.3500233888626099, NaNs: 0\n"
      ]
     },
     "metadata": {},
     "output_type": "display_data"
    },
    {
     "data": {
      "text/html": [
       "<pre style=\"white-space:pre;overflow-x:auto;line-height:normal;font-family:Menlo,'DejaVu Sans Mono',consolas,'Courier New',monospace\">lin_out - min: -0.4088759124279022, max: 0.4506426155567169, NaNs: 0\n",
       "</pre>\n"
      ],
      "text/plain": [
       "lin_out - min: -0.4088759124279022, max: 0.4506426155567169, NaNs: 0\n"
      ]
     },
     "metadata": {},
     "output_type": "display_data"
    },
    {
     "data": {
      "text/html": [
       "<pre style=\"white-space:pre;overflow-x:auto;line-height:normal;font-family:Menlo,'DejaVu Sans Mono',consolas,'Courier New',monospace\">===== New ========================\n",
       "</pre>\n"
      ],
      "text/plain": [
       "===== New ========================\n"
      ]
     },
     "metadata": {},
     "output_type": "display_data"
    },
    {
     "data": {
      "text/html": [
       "<pre style=\"white-space:pre;overflow-x:auto;line-height:normal;font-family:Menlo,'DejaVu Sans Mono',consolas,'Courier New',monospace\">DataProteinBatch(fill_value=1e-05, atom_list=[37], coords=[4535, 37, 3], residues=[32], id=[32], residue_id=[32], \n",
       "residue_type=[4535], chains=[4535], graph_y=[32], x=[4535, 23], amino_acid_one_hot=[4535, 23], seq_pos=[4535, 1], \n",
       "batch=[4535], ptr=[33], pos=[4535, 3], edge_index=[2, 72560], edge_type=[1, 72560], num_relation=1, \n",
       "edge_attr=[72560, 1])\n",
       "</pre>\n"
      ],
      "text/plain": [
       "DataProteinBatch(fill_value=1e-05, atom_list=[37], coords=[4535, 37, 3], residues=[32], id=[32], residue_id=[32], \n",
       "residue_type=[4535], chains=[4535], graph_y=[32], x=[4535, 23], amino_acid_one_hot=[4535, 23], seq_pos=[4535, 1], \n",
       "batch=[4535], ptr=[33], pos=[4535, 3], edge_index=[2, 72560], edge_type=[1, 72560], num_relation=1, \n",
       "edge_attr=[72560, 1])\n"
      ]
     },
     "metadata": {},
     "output_type": "display_data"
    },
    {
     "data": {
      "text/html": [
       "<pre style=\"white-space:pre;overflow-x:auto;line-height:normal;font-family:Menlo,'DejaVu Sans Mono',consolas,'Courier New',monospace\">z - min: 0, max: 22, NaNs: 0\n",
       "</pre>\n"
      ],
      "text/plain": [
       "z - min: 0, max: 22, NaNs: 0\n"
      ]
     },
     "metadata": {},
     "output_type": "display_data"
    },
    {
     "data": {
      "text/html": [
       "<pre style=\"white-space:pre;overflow-x:auto;line-height:normal;font-family:Menlo,'DejaVu Sans Mono',consolas,'Courier New',monospace\">pos - min: -55.474998474121094, max: 147.49200439453125, NaNs: 0\n",
       "</pre>\n"
      ],
      "text/plain": [
       "pos - min: -55.474998474121094, max: 147.49200439453125, NaNs: 0\n"
      ]
     },
     "metadata": {},
     "output_type": "display_data"
    },
    {
     "data": {
      "text/html": [
       "<pre style=\"white-space:pre;overflow-x:auto;line-height:normal;font-family:Menlo,'DejaVu Sans Mono',consolas,'Courier New',monospace\">x - min: -3.7728817462921143, max: 3.2104926109313965, NaNs: 0\n",
       "</pre>\n"
      ],
      "text/plain": [
       "x - min: -3.7728817462921143, max: 3.2104926109313965, NaNs: 0\n"
      ]
     },
     "metadata": {},
     "output_type": "display_data"
    },
    {
     "data": {
      "text/html": [
       "<pre style=\"white-space:pre;overflow-x:auto;line-height:normal;font-family:Menlo,'DejaVu Sans Mono',consolas,'Courier New',monospace\">pos_emb - min: -0.9999998211860657, max: 0.9999999403953552, NaNs: 0\n",
       "</pre>\n"
      ],
      "text/plain": [
       "pos_emb - min: -0.9999998211860657, max: 0.9999999403953552, NaNs: 0\n"
      ]
     },
     "metadata": {},
     "output_type": "display_data"
    },
    {
     "data": {
      "text/html": [
       "<pre style=\"white-space:pre;overflow-x:auto;line-height:normal;font-family:Menlo,'DejaVu Sans Mono',consolas,'Courier New',monospace\">edge_index tensor[2, 72560] i64 n=145120 (1.1Mb) x∈[0, 4534] μ=2.267e+03 σ=1.309e+03 cuda:0\n",
       "</pre>\n"
      ],
      "text/plain": [
       "edge_index tensor[2, 72560] i64 n=145120 (1.1Mb) x∈[0, 4534] μ=2.267e+03 σ=1.309e+03 cuda:0\n"
      ]
     },
     "metadata": {},
     "output_type": "display_data"
    },
    {
     "data": {
      "text/html": [
       "<pre style=\"white-space:pre;overflow-x:auto;line-height:normal;font-family:Menlo,'DejaVu Sans Mono',consolas,'Courier New',monospace\">j: tensor[72560] i64 0.6Mb x∈[0, 4534] μ=2.267e+03 σ=1.309e+03 cuda:0\n",
       "</pre>\n"
      ],
      "text/plain": [
       "j: tensor[72560] i64 0.6Mb x∈[0, 4534] μ=2.267e+03 σ=1.309e+03 cuda:0\n"
      ]
     },
     "metadata": {},
     "output_type": "display_data"
    },
    {
     "data": {
      "text/html": [
       "<pre style=\"white-space:pre;overflow-x:auto;line-height:normal;font-family:Menlo,'DejaVu Sans Mono',consolas,'Courier New',monospace\">i: tensor[72560] i64 0.6Mb x∈[0, 4534] μ=2.267e+03 σ=1.309e+03 cuda:0\n",
       "</pre>\n"
      ],
      "text/plain": [
       "i: tensor[72560] i64 0.6Mb x∈[0, 4534] μ=2.267e+03 σ=1.309e+03 cuda:0\n"
      ]
     },
     "metadata": {},
     "output_type": "display_data"
    },
    {
     "data": {
      "text/html": [
       "<pre style=\"white-space:pre;overflow-x:auto;line-height:normal;font-family:Menlo,'DejaVu Sans Mono',consolas,'Courier New',monospace\">False\n",
       "</pre>\n"
      ],
      "text/plain": [
       "False\n"
      ]
     },
     "metadata": {},
     "output_type": "display_data"
    },
    {
     "data": {
      "text/html": [
       "<pre style=\"white-space:pre;overflow-x:auto;line-height:normal;font-family:Menlo,'DejaVu Sans Mono',consolas,'Courier New',monospace\">dist - min: 2.8732290267944336, max: 22.77785301208496, NaNs: 0\n",
       "</pre>\n"
      ],
      "text/plain": [
       "dist - min: 2.8732290267944336, max: 22.77785301208496, NaNs: 0\n"
      ]
     },
     "metadata": {},
     "output_type": "display_data"
    },
    {
     "data": {
      "text/html": [
       "<pre style=\"white-space:pre;overflow-x:auto;line-height:normal;font-family:Menlo,'DejaVu Sans Mono',consolas,'Courier New',monospace\">theta - min: 2.1114460874160912e-11, max: 3.133584976196289, NaNs: 0\n",
       "</pre>\n"
      ],
      "text/plain": [
       "theta - min: 2.1114460874160912e-11, max: 3.133584976196289, NaNs: 0\n"
      ]
     },
     "metadata": {},
     "output_type": "display_data"
    },
    {
     "data": {
      "text/html": [
       "<pre style=\"white-space:pre;overflow-x:auto;line-height:normal;font-family:Menlo,'DejaVu Sans Mono',consolas,'Courier New',monospace\">phi - min: -3.1415045261383057, max: 3.1415328979492188, NaNs: 0\n",
       "</pre>\n"
      ],
      "text/plain": [
       "phi - min: -3.1415045261383057, max: 3.1415328979492188, NaNs: 0\n"
      ]
     },
     "metadata": {},
     "output_type": "display_data"
    },
    {
     "data": {
      "text/html": [
       "<pre style=\"white-space:pre;overflow-x:auto;line-height:normal;font-family:Menlo,'DejaVu Sans Mono',consolas,'Courier New',monospace\">feature0 - min: -2.3634204864501953, max: 2.421542167663574, NaNs: 0\n",
       "</pre>\n"
      ],
      "text/plain": [
       "feature0 - min: -2.3634204864501953, max: 2.421542167663574, NaNs: 0\n"
      ]
     },
     "metadata": {},
     "output_type": "display_data"
    },
    {
     "data": {
      "text/html": [
       "<pre style=\"white-space:pre;overflow-x:auto;line-height:normal;font-family:Menlo,'DejaVu Sans Mono',consolas,'Courier New',monospace\">feature1 - min: -2.3158044815063477, max: 2.3070900440216064, NaNs: 0\n",
       "</pre>\n"
      ],
      "text/plain": [
       "feature1 - min: -2.3158044815063477, max: 2.3070900440216064, NaNs: 0\n"
      ]
     },
     "metadata": {},
     "output_type": "display_data"
    },
    {
     "data": {
      "text/html": [
       "<pre style=\"white-space:pre;overflow-x:auto;line-height:normal;font-family:Menlo,'DejaVu Sans Mono',consolas,'Courier New',monospace\">interaction_block - min: -0.02413175255060196, max: 0.02120061218738556, NaNs: 0\n",
       "</pre>\n"
      ],
      "text/plain": [
       "interaction_block - min: -0.02413175255060196, max: 0.02120061218738556, NaNs: 0\n"
      ]
     },
     "metadata": {},
     "output_type": "display_data"
    },
    {
     "data": {
      "text/html": [
       "<pre style=\"white-space:pre;overflow-x:auto;line-height:normal;font-family:Menlo,'DejaVu Sans Mono',consolas,'Courier New',monospace\">y - min: 0.0, max: 4.137544631958008, NaNs: 0\n",
       "</pre>\n"
      ],
      "text/plain": [
       "y - min: 0.0, max: 4.137544631958008, NaNs: 0\n"
      ]
     },
     "metadata": {},
     "output_type": "display_data"
    },
    {
     "data": {
      "text/html": [
       "<pre style=\"white-space:pre;overflow-x:auto;line-height:normal;font-family:Menlo,'DejaVu Sans Mono',consolas,'Courier New',monospace\">lin_out - min: -1.721924066543579, max: 2.379338502883911, NaNs: 0\n",
       "</pre>\n"
      ],
      "text/plain": [
       "lin_out - min: -1.721924066543579, max: 2.379338502883911, NaNs: 0\n"
      ]
     },
     "metadata": {},
     "output_type": "display_data"
    },
    {
     "data": {
      "text/html": [
       "<pre style=\"white-space:pre;overflow-x:auto;line-height:normal;font-family:Menlo,'DejaVu Sans Mono',consolas,'Courier New',monospace\">===== New ========================\n",
       "</pre>\n"
      ],
      "text/plain": [
       "===== New ========================\n"
      ]
     },
     "metadata": {},
     "output_type": "display_data"
    },
    {
     "data": {
      "text/html": [
       "<pre style=\"white-space:pre;overflow-x:auto;line-height:normal;font-family:Menlo,'DejaVu Sans Mono',consolas,'Courier New',monospace\">DataProteinBatch(fill_value=1e-05, atom_list=[37], coords=[8803, 37, 3], residues=[32], id=[32], residue_id=[32], \n",
       "residue_type=[8803], chains=[8803], graph_y=[32], x=[8803, 23], amino_acid_one_hot=[8803, 23], seq_pos=[8803, 1], \n",
       "batch=[8803], ptr=[33], pos=[8803, 3], edge_index=[2, 140848], edge_type=[1, 140848], num_relation=1, \n",
       "edge_attr=[140848, 1])\n",
       "</pre>\n"
      ],
      "text/plain": [
       "DataProteinBatch(fill_value=1e-05, atom_list=[37], coords=[8803, 37, 3], residues=[32], id=[32], residue_id=[32], \n",
       "residue_type=[8803], chains=[8803], graph_y=[32], x=[8803, 23], amino_acid_one_hot=[8803, 23], seq_pos=[8803, 1], \n",
       "batch=[8803], ptr=[33], pos=[8803, 3], edge_index=[2, 140848], edge_type=[1, 140848], num_relation=1, \n",
       "edge_attr=[140848, 1])\n"
      ]
     },
     "metadata": {},
     "output_type": "display_data"
    },
    {
     "data": {
      "text/html": [
       "<pre style=\"white-space:pre;overflow-x:auto;line-height:normal;font-family:Menlo,'DejaVu Sans Mono',consolas,'Courier New',monospace\">z - min: 0, max: 22, NaNs: 0\n",
       "</pre>\n"
      ],
      "text/plain": [
       "z - min: 0, max: 22, NaNs: 0\n"
      ]
     },
     "metadata": {},
     "output_type": "display_data"
    },
    {
     "data": {
      "text/html": [
       "<pre style=\"white-space:pre;overflow-x:auto;line-height:normal;font-family:Menlo,'DejaVu Sans Mono',consolas,'Courier New',monospace\">pos - min: -92.71199798583984, max: 127.58200073242188, NaNs: 0\n",
       "</pre>\n"
      ],
      "text/plain": [
       "pos - min: -92.71199798583984, max: 127.58200073242188, NaNs: 0\n"
      ]
     },
     "metadata": {},
     "output_type": "display_data"
    },
    {
     "data": {
      "text/html": [
       "<pre style=\"white-space:pre;overflow-x:auto;line-height:normal;font-family:Menlo,'DejaVu Sans Mono',consolas,'Courier New',monospace\">x - min: -3.773289442062378, max: 3.210784673690796, NaNs: 0\n",
       "</pre>\n"
      ],
      "text/plain": [
       "x - min: -3.773289442062378, max: 3.210784673690796, NaNs: 0\n"
      ]
     },
     "metadata": {},
     "output_type": "display_data"
    },
    {
     "data": {
      "text/html": [
       "<pre style=\"white-space:pre;overflow-x:auto;line-height:normal;font-family:Menlo,'DejaVu Sans Mono',consolas,'Courier New',monospace\">pos_emb - min: -1.0, max: 0.9999999403953552, NaNs: 0\n",
       "</pre>\n"
      ],
      "text/plain": [
       "pos_emb - min: -1.0, max: 0.9999999403953552, NaNs: 0\n"
      ]
     },
     "metadata": {},
     "output_type": "display_data"
    },
    {
     "data": {
      "text/html": [
       "<pre style=\"white-space:pre;overflow-x:auto;line-height:normal;font-family:Menlo,'DejaVu Sans Mono',consolas,'Courier New',monospace\">edge_index tensor[2, 140848] i64 n=281696 (2.1Mb) x∈[0, 8802] μ=4.401e+03 σ=2.541e+03 cuda:0\n",
       "</pre>\n"
      ],
      "text/plain": [
       "edge_index tensor[2, 140848] i64 n=281696 (2.1Mb) x∈[0, 8802] μ=4.401e+03 σ=2.541e+03 cuda:0\n"
      ]
     },
     "metadata": {},
     "output_type": "display_data"
    },
    {
     "data": {
      "text/html": [
       "<pre style=\"white-space:pre;overflow-x:auto;line-height:normal;font-family:Menlo,'DejaVu Sans Mono',consolas,'Courier New',monospace\">j: tensor[140848] i64 1.1Mb x∈[0, 8802] μ=4.401e+03 σ=2.542e+03 cuda:0\n",
       "</pre>\n"
      ],
      "text/plain": [
       "j: tensor[140848] i64 1.1Mb x∈[0, 8802] μ=4.401e+03 σ=2.542e+03 cuda:0\n"
      ]
     },
     "metadata": {},
     "output_type": "display_data"
    },
    {
     "data": {
      "text/html": [
       "<pre style=\"white-space:pre;overflow-x:auto;line-height:normal;font-family:Menlo,'DejaVu Sans Mono',consolas,'Courier New',monospace\">i: tensor[140848] i64 1.1Mb x∈[0, 8802] μ=4.401e+03 σ=2.541e+03 cuda:0\n",
       "</pre>\n"
      ],
      "text/plain": [
       "i: tensor[140848] i64 1.1Mb x∈[0, 8802] μ=4.401e+03 σ=2.541e+03 cuda:0\n"
      ]
     },
     "metadata": {},
     "output_type": "display_data"
    },
    {
     "data": {
      "text/html": [
       "<pre style=\"white-space:pre;overflow-x:auto;line-height:normal;font-family:Menlo,'DejaVu Sans Mono',consolas,'Courier New',monospace\">False\n",
       "</pre>\n"
      ],
      "text/plain": [
       "False\n"
      ]
     },
     "metadata": {},
     "output_type": "display_data"
    },
    {
     "data": {
      "text/html": [
       "<pre style=\"white-space:pre;overflow-x:auto;line-height:normal;font-family:Menlo,'DejaVu Sans Mono',consolas,'Courier New',monospace\">dist - min: 2.847970485687256, max: 23.409334182739258, NaNs: 0\n",
       "</pre>\n"
      ],
      "text/plain": [
       "dist - min: 2.847970485687256, max: 23.409334182739258, NaNs: 0\n"
      ]
     },
     "metadata": {},
     "output_type": "display_data"
    },
    {
     "data": {
      "text/html": [
       "<pre style=\"white-space:pre;overflow-x:auto;line-height:normal;font-family:Menlo,'DejaVu Sans Mono',consolas,'Courier New',monospace\">theta - min: 0.0, max: 3.1371424198150635, NaNs: 0\n",
       "</pre>\n"
      ],
      "text/plain": [
       "theta - min: 0.0, max: 3.1371424198150635, NaNs: 0\n"
      ]
     },
     "metadata": {},
     "output_type": "display_data"
    },
    {
     "data": {
      "text/html": [
       "<pre style=\"white-space:pre;overflow-x:auto;line-height:normal;font-family:Menlo,'DejaVu Sans Mono',consolas,'Courier New',monospace\">phi - min: -3.141538381576538, max: 3.1415860652923584, NaNs: 0\n",
       "</pre>\n"
      ],
      "text/plain": [
       "phi - min: -3.141538381576538, max: 3.1415860652923584, NaNs: 0\n"
      ]
     },
     "metadata": {},
     "output_type": "display_data"
    },
    {
     "data": {
      "text/html": [
       "<pre style=\"white-space:pre;overflow-x:auto;line-height:normal;font-family:Menlo,'DejaVu Sans Mono',consolas,'Courier New',monospace\">feature0 - min: -2.429414987564087, max: 2.4631803035736084, NaNs: 0\n",
       "</pre>\n"
      ],
      "text/plain": [
       "feature0 - min: -2.429414987564087, max: 2.4631803035736084, NaNs: 0\n"
      ]
     },
     "metadata": {},
     "output_type": "display_data"
    },
    {
     "data": {
      "text/html": [
       "<pre style=\"white-space:pre;overflow-x:auto;line-height:normal;font-family:Menlo,'DejaVu Sans Mono',consolas,'Courier New',monospace\">feature1 - min: -2.3647356033325195, max: 2.4022228717803955, NaNs: 0\n",
       "</pre>\n"
      ],
      "text/plain": [
       "feature1 - min: -2.3647356033325195, max: 2.4022228717803955, NaNs: 0\n"
      ]
     },
     "metadata": {},
     "output_type": "display_data"
    },
    {
     "data": {
      "text/html": [
       "<pre style=\"white-space:pre;overflow-x:auto;line-height:normal;font-family:Menlo,'DejaVu Sans Mono',consolas,'Courier New',monospace\">interaction_block - min: -0.02863054722547531, max: 0.031013116240501404, NaNs: 0\n",
       "</pre>\n"
      ],
      "text/plain": [
       "interaction_block - min: -0.02863054722547531, max: 0.031013116240501404, NaNs: 0\n"
      ]
     },
     "metadata": {},
     "output_type": "display_data"
    },
    {
     "data": {
      "text/html": [
       "<pre style=\"white-space:pre;overflow-x:auto;line-height:normal;font-family:Menlo,'DejaVu Sans Mono',consolas,'Courier New',monospace\">y - min: 0.0, max: 18.403039932250977, NaNs: 0\n",
       "</pre>\n"
      ],
      "text/plain": [
       "y - min: 0.0, max: 18.403039932250977, NaNs: 0\n"
      ]
     },
     "metadata": {},
     "output_type": "display_data"
    },
    {
     "data": {
      "text/html": [
       "<pre style=\"white-space:pre;overflow-x:auto;line-height:normal;font-family:Menlo,'DejaVu Sans Mono',consolas,'Courier New',monospace\">lin_out - min: -6.506444931030273, max: 8.902654647827148, NaNs: 0\n",
       "</pre>\n"
      ],
      "text/plain": [
       "lin_out - min: -6.506444931030273, max: 8.902654647827148, NaNs: 0\n"
      ]
     },
     "metadata": {},
     "output_type": "display_data"
    },
    {
     "data": {
      "text/html": [
       "<pre style=\"white-space:pre;overflow-x:auto;line-height:normal;font-family:Menlo,'DejaVu Sans Mono',consolas,'Courier New',monospace\">===== New ========================\n",
       "</pre>\n"
      ],
      "text/plain": [
       "===== New ========================\n"
      ]
     },
     "metadata": {},
     "output_type": "display_data"
    },
    {
     "data": {
      "text/html": [
       "<pre style=\"white-space:pre;overflow-x:auto;line-height:normal;font-family:Menlo,'DejaVu Sans Mono',consolas,'Courier New',monospace\">DataProteinBatch(fill_value=1e-05, atom_list=[37], coords=[11584, 37, 3], residues=[32], id=[32], residue_id=[32], \n",
       "residue_type=[11584], chains=[11584], graph_y=[32], x=[11584, 23], amino_acid_one_hot=[11584, 23], seq_pos=[11584, \n",
       "1], batch=[11584], ptr=[33], pos=[11584, 3], edge_index=[2, 185344], edge_type=[1, 185344], num_relation=1, \n",
       "edge_attr=[185344, 1])\n",
       "</pre>\n"
      ],
      "text/plain": [
       "DataProteinBatch(fill_value=1e-05, atom_list=[37], coords=[11584, 37, 3], residues=[32], id=[32], residue_id=[32], \n",
       "residue_type=[11584], chains=[11584], graph_y=[32], x=[11584, 23], amino_acid_one_hot=[11584, 23], seq_pos=[11584, \n",
       "1], batch=[11584], ptr=[33], pos=[11584, 3], edge_index=[2, 185344], edge_type=[1, 185344], num_relation=1, \n",
       "edge_attr=[185344, 1])\n"
      ]
     },
     "metadata": {},
     "output_type": "display_data"
    },
    {
     "data": {
      "text/html": [
       "<pre style=\"white-space:pre;overflow-x:auto;line-height:normal;font-family:Menlo,'DejaVu Sans Mono',consolas,'Courier New',monospace\">z - min: 0, max: 22, NaNs: 0\n",
       "</pre>\n"
      ],
      "text/plain": [
       "z - min: 0, max: 22, NaNs: 0\n"
      ]
     },
     "metadata": {},
     "output_type": "display_data"
    },
    {
     "data": {
      "text/html": [
       "<pre style=\"white-space:pre;overflow-x:auto;line-height:normal;font-family:Menlo,'DejaVu Sans Mono',consolas,'Courier New',monospace\">pos - min: -67.33899688720703, max: 151.03599548339844, NaNs: 0\n",
       "</pre>\n"
      ],
      "text/plain": [
       "pos - min: -67.33899688720703, max: 151.03599548339844, NaNs: 0\n"
      ]
     },
     "metadata": {},
     "output_type": "display_data"
    },
    {
     "data": {
      "text/html": [
       "<pre style=\"white-space:pre;overflow-x:auto;line-height:normal;font-family:Menlo,'DejaVu Sans Mono',consolas,'Courier New',monospace\">x - min: -3.7730207443237305, max: 3.2105462551116943, NaNs: 0\n",
       "</pre>\n"
      ],
      "text/plain": [
       "x - min: -3.7730207443237305, max: 3.2105462551116943, NaNs: 0\n"
      ]
     },
     "metadata": {},
     "output_type": "display_data"
    },
    {
     "data": {
      "text/html": [
       "<pre style=\"white-space:pre;overflow-x:auto;line-height:normal;font-family:Menlo,'DejaVu Sans Mono',consolas,'Courier New',monospace\">pos_emb - min: -1.0, max: 0.9999999403953552, NaNs: 0\n",
       "</pre>\n"
      ],
      "text/plain": [
       "pos_emb - min: -1.0, max: 0.9999999403953552, NaNs: 0\n"
      ]
     },
     "metadata": {},
     "output_type": "display_data"
    },
    {
     "data": {
      "text/html": [
       "<pre style=\"white-space:pre;overflow-x:auto;line-height:normal;font-family:Menlo,'DejaVu Sans Mono',consolas,'Courier New',monospace\">edge_index tensor[2, 185344] i64 n=370688 (2.8Mb) x∈[0, 11583] μ=5.792e+03 σ=3.344e+03 cuda:0\n",
       "</pre>\n"
      ],
      "text/plain": [
       "edge_index tensor[2, 185344] i64 n=370688 (2.8Mb) x∈[0, 11583] μ=5.792e+03 σ=3.344e+03 cuda:0\n"
      ]
     },
     "metadata": {},
     "output_type": "display_data"
    },
    {
     "data": {
      "text/html": [
       "<pre style=\"white-space:pre;overflow-x:auto;line-height:normal;font-family:Menlo,'DejaVu Sans Mono',consolas,'Courier New',monospace\">j: tensor[185344] i64 1.4Mb x∈[0, 11583] μ=5.792e+03 σ=3.344e+03 cuda:0\n",
       "</pre>\n"
      ],
      "text/plain": [
       "j: tensor[185344] i64 1.4Mb x∈[0, 11583] μ=5.792e+03 σ=3.344e+03 cuda:0\n"
      ]
     },
     "metadata": {},
     "output_type": "display_data"
    },
    {
     "data": {
      "text/html": [
       "<pre style=\"white-space:pre;overflow-x:auto;line-height:normal;font-family:Menlo,'DejaVu Sans Mono',consolas,'Courier New',monospace\">i: tensor[185344] i64 1.4Mb x∈[0, 11583] μ=5.792e+03 σ=3.344e+03 cuda:0\n",
       "</pre>\n"
      ],
      "text/plain": [
       "i: tensor[185344] i64 1.4Mb x∈[0, 11583] μ=5.792e+03 σ=3.344e+03 cuda:0\n"
      ]
     },
     "metadata": {},
     "output_type": "display_data"
    },
    {
     "data": {
      "text/html": [
       "<pre style=\"white-space:pre;overflow-x:auto;line-height:normal;font-family:Menlo,'DejaVu Sans Mono',consolas,'Courier New',monospace\">False\n",
       "</pre>\n"
      ],
      "text/plain": [
       "False\n"
      ]
     },
     "metadata": {},
     "output_type": "display_data"
    },
    {
     "data": {
      "text/html": [
       "<pre style=\"white-space:pre;overflow-x:auto;line-height:normal;font-family:Menlo,'DejaVu Sans Mono',consolas,'Courier New',monospace\">dist - min: 2.82566237449646, max: 34.72251510620117, NaNs: 0\n",
       "</pre>\n"
      ],
      "text/plain": [
       "dist - min: 2.82566237449646, max: 34.72251510620117, NaNs: 0\n"
      ]
     },
     "metadata": {},
     "output_type": "display_data"
    },
    {
     "data": {
      "text/html": [
       "<pre style=\"white-space:pre;overflow-x:auto;line-height:normal;font-family:Menlo,'DejaVu Sans Mono',consolas,'Courier New',monospace\">theta - min: 0.0, max: 3.1374614238739014, NaNs: 0\n",
       "</pre>\n"
      ],
      "text/plain": [
       "theta - min: 0.0, max: 3.1374614238739014, NaNs: 0\n"
      ]
     },
     "metadata": {},
     "output_type": "display_data"
    },
    {
     "data": {
      "text/html": [
       "<pre style=\"white-space:pre;overflow-x:auto;line-height:normal;font-family:Menlo,'DejaVu Sans Mono',consolas,'Courier New',monospace\">phi - min: -3.141592025756836, max: 3.1415903568267822, NaNs: 0\n",
       "</pre>\n"
      ],
      "text/plain": [
       "phi - min: -3.141592025756836, max: 3.1415903568267822, NaNs: 0\n"
      ]
     },
     "metadata": {},
     "output_type": "display_data"
    },
    {
     "data": {
      "text/html": [
       "<pre style=\"white-space:pre;overflow-x:auto;line-height:normal;font-family:Menlo,'DejaVu Sans Mono',consolas,'Courier New',monospace\">feature0 - min: -2.3686556816101074, max: 2.4993326663970947, NaNs: 0\n",
       "</pre>\n"
      ],
      "text/plain": [
       "feature0 - min: -2.3686556816101074, max: 2.4993326663970947, NaNs: 0\n"
      ]
     },
     "metadata": {},
     "output_type": "display_data"
    },
    {
     "data": {
      "text/html": [
       "<pre style=\"white-space:pre;overflow-x:auto;line-height:normal;font-family:Menlo,'DejaVu Sans Mono',consolas,'Courier New',monospace\">feature1 - min: -2.294188976287842, max: 2.2797505855560303, NaNs: 0\n",
       "</pre>\n"
      ],
      "text/plain": [
       "feature1 - min: -2.294188976287842, max: 2.2797505855560303, NaNs: 0\n"
      ]
     },
     "metadata": {},
     "output_type": "display_data"
    },
    {
     "data": {
      "text/html": [
       "<pre style=\"white-space:pre;overflow-x:auto;line-height:normal;font-family:Menlo,'DejaVu Sans Mono',consolas,'Courier New',monospace\">interaction_block - min: -0.029108405113220215, max: 0.02691013365983963, NaNs: 0\n",
       "</pre>\n"
      ],
      "text/plain": [
       "interaction_block - min: -0.029108405113220215, max: 0.02691013365983963, NaNs: 0\n"
      ]
     },
     "metadata": {},
     "output_type": "display_data"
    },
    {
     "data": {
      "text/html": [
       "<pre style=\"white-space:pre;overflow-x:auto;line-height:normal;font-family:Menlo,'DejaVu Sans Mono',consolas,'Courier New',monospace\">y - min: 0.0, max: 11.857410430908203, NaNs: 0\n",
       "</pre>\n"
      ],
      "text/plain": [
       "y - min: 0.0, max: 11.857410430908203, NaNs: 0\n"
      ]
     },
     "metadata": {},
     "output_type": "display_data"
    },
    {
     "data": {
      "text/html": [
       "<pre style=\"white-space:pre;overflow-x:auto;line-height:normal;font-family:Menlo,'DejaVu Sans Mono',consolas,'Courier New',monospace\">lin_out - min: -5.487563610076904, max: 6.959399223327637, NaNs: 0\n",
       "</pre>\n"
      ],
      "text/plain": [
       "lin_out - min: -5.487563610076904, max: 6.959399223327637, NaNs: 0\n"
      ]
     },
     "metadata": {},
     "output_type": "display_data"
    },
    {
     "data": {
      "text/html": [
       "<pre style=\"white-space:pre;overflow-x:auto;line-height:normal;font-family:Menlo,'DejaVu Sans Mono',consolas,'Courier New',monospace\">===== New ========================\n",
       "</pre>\n"
      ],
      "text/plain": [
       "===== New ========================\n"
      ]
     },
     "metadata": {},
     "output_type": "display_data"
    },
    {
     "data": {
      "text/html": [
       "<pre style=\"white-space:pre;overflow-x:auto;line-height:normal;font-family:Menlo,'DejaVu Sans Mono',consolas,'Courier New',monospace\">DataProteinBatch(fill_value=1e-05, atom_list=[37], coords=[7527, 37, 3], residues=[32], id=[32], residue_id=[32], \n",
       "residue_type=[7527], chains=[7527], graph_y=[32], x=[7527, 23], amino_acid_one_hot=[7527, 23], seq_pos=[7527, 1], \n",
       "batch=[7527], ptr=[33], pos=[7527, 3], edge_index=[2, 120432], edge_type=[1, 120432], num_relation=1, \n",
       "edge_attr=[120432, 1])\n",
       "</pre>\n"
      ],
      "text/plain": [
       "DataProteinBatch(fill_value=1e-05, atom_list=[37], coords=[7527, 37, 3], residues=[32], id=[32], residue_id=[32], \n",
       "residue_type=[7527], chains=[7527], graph_y=[32], x=[7527, 23], amino_acid_one_hot=[7527, 23], seq_pos=[7527, 1], \n",
       "batch=[7527], ptr=[33], pos=[7527, 3], edge_index=[2, 120432], edge_type=[1, 120432], num_relation=1, \n",
       "edge_attr=[120432, 1])\n"
      ]
     },
     "metadata": {},
     "output_type": "display_data"
    },
    {
     "data": {
      "text/html": [
       "<pre style=\"white-space:pre;overflow-x:auto;line-height:normal;font-family:Menlo,'DejaVu Sans Mono',consolas,'Courier New',monospace\">z - min: 0, max: 22, NaNs: 0\n",
       "</pre>\n"
      ],
      "text/plain": [
       "z - min: 0, max: 22, NaNs: 0\n"
      ]
     },
     "metadata": {},
     "output_type": "display_data"
    },
    {
     "data": {
      "text/html": [
       "<pre style=\"white-space:pre;overflow-x:auto;line-height:normal;font-family:Menlo,'DejaVu Sans Mono',consolas,'Courier New',monospace\">pos - min: -147.76100158691406, max: 158.7740020751953, NaNs: 0\n",
       "</pre>\n"
      ],
      "text/plain": [
       "pos - min: -147.76100158691406, max: 158.7740020751953, NaNs: 0\n"
      ]
     },
     "metadata": {},
     "output_type": "display_data"
    },
    {
     "data": {
      "text/html": [
       "<pre style=\"white-space:pre;overflow-x:auto;line-height:normal;font-family:Menlo,'DejaVu Sans Mono',consolas,'Courier New',monospace\">x - min: -3.772714138031006, max: 3.210230827331543, NaNs: 0\n",
       "</pre>\n"
      ],
      "text/plain": [
       "x - min: -3.772714138031006, max: 3.210230827331543, NaNs: 0\n"
      ]
     },
     "metadata": {},
     "output_type": "display_data"
    },
    {
     "data": {
      "text/html": [
       "<pre style=\"white-space:pre;overflow-x:auto;line-height:normal;font-family:Menlo,'DejaVu Sans Mono',consolas,'Courier New',monospace\">pos_emb - min: -1.0, max: 0.9999999403953552, NaNs: 0\n",
       "</pre>\n"
      ],
      "text/plain": [
       "pos_emb - min: -1.0, max: 0.9999999403953552, NaNs: 0\n"
      ]
     },
     "metadata": {},
     "output_type": "display_data"
    },
    {
     "data": {
      "text/html": [
       "<pre style=\"white-space:pre;overflow-x:auto;line-height:normal;font-family:Menlo,'DejaVu Sans Mono',consolas,'Courier New',monospace\">edge_index tensor[2, 120432] i64 n=240864 (1.8Mb) x∈[0, 7526] μ=3.763e+03 σ=2.173e+03 cuda:0\n",
       "</pre>\n"
      ],
      "text/plain": [
       "edge_index tensor[2, 120432] i64 n=240864 (1.8Mb) x∈[0, 7526] μ=3.763e+03 σ=2.173e+03 cuda:0\n"
      ]
     },
     "metadata": {},
     "output_type": "display_data"
    },
    {
     "data": {
      "text/html": [
       "<pre style=\"white-space:pre;overflow-x:auto;line-height:normal;font-family:Menlo,'DejaVu Sans Mono',consolas,'Courier New',monospace\">j: tensor[120432] i64 0.9Mb x∈[0, 7526] μ=3.764e+03 σ=2.173e+03 cuda:0\n",
       "</pre>\n"
      ],
      "text/plain": [
       "j: tensor[120432] i64 0.9Mb x∈[0, 7526] μ=3.764e+03 σ=2.173e+03 cuda:0\n"
      ]
     },
     "metadata": {},
     "output_type": "display_data"
    },
    {
     "data": {
      "text/html": [
       "<pre style=\"white-space:pre;overflow-x:auto;line-height:normal;font-family:Menlo,'DejaVu Sans Mono',consolas,'Courier New',monospace\">i: tensor[120432] i64 0.9Mb x∈[0, 7526] μ=3.763e+03 σ=2.173e+03 cuda:0\n",
       "</pre>\n"
      ],
      "text/plain": [
       "i: tensor[120432] i64 0.9Mb x∈[0, 7526] μ=3.763e+03 σ=2.173e+03 cuda:0\n"
      ]
     },
     "metadata": {},
     "output_type": "display_data"
    },
    {
     "data": {
      "text/html": [
       "<pre style=\"white-space:pre;overflow-x:auto;line-height:normal;font-family:Menlo,'DejaVu Sans Mono',consolas,'Courier New',monospace\">False\n",
       "</pre>\n"
      ],
      "text/plain": [
       "False\n"
      ]
     },
     "metadata": {},
     "output_type": "display_data"
    },
    {
     "data": {
      "text/html": [
       "<pre style=\"white-space:pre;overflow-x:auto;line-height:normal;font-family:Menlo,'DejaVu Sans Mono',consolas,'Courier New',monospace\">dist - min: 2.847888708114624, max: 33.865196228027344, NaNs: 0\n",
       "</pre>\n"
      ],
      "text/plain": [
       "dist - min: 2.847888708114624, max: 33.865196228027344, NaNs: 0\n"
      ]
     },
     "metadata": {},
     "output_type": "display_data"
    },
    {
     "data": {
      "text/html": [
       "<pre style=\"white-space:pre;overflow-x:auto;line-height:normal;font-family:Menlo,'DejaVu Sans Mono',consolas,'Courier New',monospace\">theta - min: 8.164530683474336e-12, max: 3.1318891048431396, NaNs: 0\n",
       "</pre>\n"
      ],
      "text/plain": [
       "theta - min: 8.164530683474336e-12, max: 3.1318891048431396, NaNs: 0\n"
      ]
     },
     "metadata": {},
     "output_type": "display_data"
    },
    {
     "data": {
      "text/html": [
       "<pre style=\"white-space:pre;overflow-x:auto;line-height:normal;font-family:Menlo,'DejaVu Sans Mono',consolas,'Courier New',monospace\">phi - min: -3.1415796279907227, max: 3.141437292098999, NaNs: 0\n",
       "</pre>\n"
      ],
      "text/plain": [
       "phi - min: -3.1415796279907227, max: 3.141437292098999, NaNs: 0\n"
      ]
     },
     "metadata": {},
     "output_type": "display_data"
    },
    {
     "data": {
      "text/html": [
       "<pre style=\"white-space:pre;overflow-x:auto;line-height:normal;font-family:Menlo,'DejaVu Sans Mono',consolas,'Courier New',monospace\">feature0 - min: -2.3684725761413574, max: 2.4633138179779053, NaNs: 0\n",
       "</pre>\n"
      ],
      "text/plain": [
       "feature0 - min: -2.3684725761413574, max: 2.4633138179779053, NaNs: 0\n"
      ]
     },
     "metadata": {},
     "output_type": "display_data"
    },
    {
     "data": {
      "text/html": [
       "<pre style=\"white-space:pre;overflow-x:auto;line-height:normal;font-family:Menlo,'DejaVu Sans Mono',consolas,'Courier New',monospace\">feature1 - min: -2.3096230030059814, max: 2.4021217823028564, NaNs: 0\n",
       "</pre>\n"
      ],
      "text/plain": [
       "feature1 - min: -2.3096230030059814, max: 2.4021217823028564, NaNs: 0\n"
      ]
     },
     "metadata": {},
     "output_type": "display_data"
    },
    {
     "data": {
      "text/html": [
       "<pre style=\"white-space:pre;overflow-x:auto;line-height:normal;font-family:Menlo,'DejaVu Sans Mono',consolas,'Courier New',monospace\">interaction_block - min: -0.02707766368985176, max: 0.026491152122616768, NaNs: 0\n",
       "</pre>\n"
      ],
      "text/plain": [
       "interaction_block - min: -0.02707766368985176, max: 0.026491152122616768, NaNs: 0\n"
      ]
     },
     "metadata": {},
     "output_type": "display_data"
    },
    {
     "data": {
      "text/html": [
       "<pre style=\"white-space:pre;overflow-x:auto;line-height:normal;font-family:Menlo,'DejaVu Sans Mono',consolas,'Courier New',monospace\">y - min: 0.0, max: 10.498210906982422, NaNs: 0\n",
       "</pre>\n"
      ],
      "text/plain": [
       "y - min: 0.0, max: 10.498210906982422, NaNs: 0\n"
      ]
     },
     "metadata": {},
     "output_type": "display_data"
    },
    {
     "data": {
      "text/html": [
       "<pre style=\"white-space:pre;overflow-x:auto;line-height:normal;font-family:Menlo,'DejaVu Sans Mono',consolas,'Courier New',monospace\">lin_out - min: -4.47336483001709, max: 6.207159042358398, NaNs: 0\n",
       "</pre>\n"
      ],
      "text/plain": [
       "lin_out - min: -4.47336483001709, max: 6.207159042358398, NaNs: 0\n"
      ]
     },
     "metadata": {},
     "output_type": "display_data"
    },
    {
     "data": {
      "text/html": [
       "<pre style=\"white-space:pre;overflow-x:auto;line-height:normal;font-family:Menlo,'DejaVu Sans Mono',consolas,'Courier New',monospace\">===== New ========================\n",
       "</pre>\n"
      ],
      "text/plain": [
       "===== New ========================\n"
      ]
     },
     "metadata": {},
     "output_type": "display_data"
    },
    {
     "data": {
      "text/html": [
       "<pre style=\"white-space:pre;overflow-x:auto;line-height:normal;font-family:Menlo,'DejaVu Sans Mono',consolas,'Courier New',monospace\">DataProteinBatch(fill_value=1e-05, atom_list=[37], coords=[11216, 37, 3], residues=[32], id=[32], residue_id=[32], \n",
       "residue_type=[11216], chains=[11216], graph_y=[32], x=[11216, 23], amino_acid_one_hot=[11216, 23], seq_pos=[11216, \n",
       "1], batch=[11216], ptr=[33], pos=[11216, 3], edge_index=[2, 179456], edge_type=[1, 179456], num_relation=1, \n",
       "edge_attr=[179456, 1])\n",
       "</pre>\n"
      ],
      "text/plain": [
       "DataProteinBatch(fill_value=1e-05, atom_list=[37], coords=[11216, 37, 3], residues=[32], id=[32], residue_id=[32], \n",
       "residue_type=[11216], chains=[11216], graph_y=[32], x=[11216, 23], amino_acid_one_hot=[11216, 23], seq_pos=[11216, \n",
       "1], batch=[11216], ptr=[33], pos=[11216, 3], edge_index=[2, 179456], edge_type=[1, 179456], num_relation=1, \n",
       "edge_attr=[179456, 1])\n"
      ]
     },
     "metadata": {},
     "output_type": "display_data"
    },
    {
     "data": {
      "text/html": [
       "<pre style=\"white-space:pre;overflow-x:auto;line-height:normal;font-family:Menlo,'DejaVu Sans Mono',consolas,'Courier New',monospace\">z - min: 0, max: 22, NaNs: 0\n",
       "</pre>\n"
      ],
      "text/plain": [
       "z - min: 0, max: 22, NaNs: 0\n"
      ]
     },
     "metadata": {},
     "output_type": "display_data"
    },
    {
     "data": {
      "text/html": [
       "<pre style=\"white-space:pre;overflow-x:auto;line-height:normal;font-family:Menlo,'DejaVu Sans Mono',consolas,'Courier New',monospace\">pos - min: -93.16699981689453, max: 184.00999450683594, NaNs: 0\n",
       "</pre>\n"
      ],
      "text/plain": [
       "pos - min: -93.16699981689453, max: 184.00999450683594, NaNs: 0\n"
      ]
     },
     "metadata": {},
     "output_type": "display_data"
    },
    {
     "data": {
      "text/html": [
       "<pre style=\"white-space:pre;overflow-x:auto;line-height:normal;font-family:Menlo,'DejaVu Sans Mono',consolas,'Courier New',monospace\">x - min: -3.772435426712036, max: 3.209928274154663, NaNs: 0\n",
       "</pre>\n"
      ],
      "text/plain": [
       "x - min: -3.772435426712036, max: 3.209928274154663, NaNs: 0\n"
      ]
     },
     "metadata": {},
     "output_type": "display_data"
    },
    {
     "data": {
      "text/html": [
       "<pre style=\"white-space:pre;overflow-x:auto;line-height:normal;font-family:Menlo,'DejaVu Sans Mono',consolas,'Courier New',monospace\">pos_emb - min: -1.0, max: 0.9999999403953552, NaNs: 0\n",
       "</pre>\n"
      ],
      "text/plain": [
       "pos_emb - min: -1.0, max: 0.9999999403953552, NaNs: 0\n"
      ]
     },
     "metadata": {},
     "output_type": "display_data"
    },
    {
     "data": {
      "text/html": [
       "<pre style=\"white-space:pre;overflow-x:auto;line-height:normal;font-family:Menlo,'DejaVu Sans Mono',consolas,'Courier New',monospace\">edge_index tensor[2, 179456] i64 n=358912 (2.7Mb) x∈[0, 11215] μ=5.608e+03 σ=3.238e+03 cuda:0\n",
       "</pre>\n"
      ],
      "text/plain": [
       "edge_index tensor[2, 179456] i64 n=358912 (2.7Mb) x∈[0, 11215] μ=5.608e+03 σ=3.238e+03 cuda:0\n"
      ]
     },
     "metadata": {},
     "output_type": "display_data"
    },
    {
     "data": {
      "text/html": [
       "<pre style=\"white-space:pre;overflow-x:auto;line-height:normal;font-family:Menlo,'DejaVu Sans Mono',consolas,'Courier New',monospace\">j: tensor[179456] i64 1.4Mb x∈[0, 11215] μ=5.609e+03 σ=3.238e+03 cuda:0\n",
       "</pre>\n"
      ],
      "text/plain": [
       "j: tensor[179456] i64 1.4Mb x∈[0, 11215] μ=5.609e+03 σ=3.238e+03 cuda:0\n"
      ]
     },
     "metadata": {},
     "output_type": "display_data"
    },
    {
     "data": {
      "text/html": [
       "<pre style=\"white-space:pre;overflow-x:auto;line-height:normal;font-family:Menlo,'DejaVu Sans Mono',consolas,'Courier New',monospace\">i: tensor[179456] i64 1.4Mb x∈[0, 11215] μ=5.608e+03 σ=3.238e+03 cuda:0\n",
       "</pre>\n"
      ],
      "text/plain": [
       "i: tensor[179456] i64 1.4Mb x∈[0, 11215] μ=5.608e+03 σ=3.238e+03 cuda:0\n"
      ]
     },
     "metadata": {},
     "output_type": "display_data"
    },
    {
     "data": {
      "text/html": [
       "<pre style=\"white-space:pre;overflow-x:auto;line-height:normal;font-family:Menlo,'DejaVu Sans Mono',consolas,'Courier New',monospace\">False\n",
       "</pre>\n"
      ],
      "text/plain": [
       "False\n"
      ]
     },
     "metadata": {},
     "output_type": "display_data"
    },
    {
     "data": {
      "text/html": [
       "<pre style=\"white-space:pre;overflow-x:auto;line-height:normal;font-family:Menlo,'DejaVu Sans Mono',consolas,'Courier New',monospace\">dist - min: 2.7707529067993164, max: 28.764921188354492, NaNs: 0\n",
       "</pre>\n"
      ],
      "text/plain": [
       "dist - min: 2.7707529067993164, max: 28.764921188354492, NaNs: 0\n"
      ]
     },
     "metadata": {},
     "output_type": "display_data"
    },
    {
     "data": {
      "text/html": [
       "<pre style=\"white-space:pre;overflow-x:auto;line-height:normal;font-family:Menlo,'DejaVu Sans Mono',consolas,'Courier New',monospace\">theta - min: 0.0, max: 3.1387336254119873, NaNs: 0\n",
       "</pre>\n"
      ],
      "text/plain": [
       "theta - min: 0.0, max: 3.1387336254119873, NaNs: 0\n"
      ]
     },
     "metadata": {},
     "output_type": "display_data"
    },
    {
     "data": {
      "text/html": [
       "<pre style=\"white-space:pre;overflow-x:auto;line-height:normal;font-family:Menlo,'DejaVu Sans Mono',consolas,'Courier New',monospace\">phi - min: -3.1415891647338867, max: 3.1415717601776123, NaNs: 0\n",
       "</pre>\n"
      ],
      "text/plain": [
       "phi - min: -3.1415891647338867, max: 3.1415717601776123, NaNs: 0\n"
      ]
     },
     "metadata": {},
     "output_type": "display_data"
    },
    {
     "data": {
      "text/html": [
       "<pre style=\"white-space:pre;overflow-x:auto;line-height:normal;font-family:Menlo,'DejaVu Sans Mono',consolas,'Courier New',monospace\">feature0 - min: -2.368655204772949, max: 2.5857226848602295, NaNs: 0\n",
       "</pre>\n"
      ],
      "text/plain": [
       "feature0 - min: -2.368655204772949, max: 2.5857226848602295, NaNs: 0\n"
      ]
     },
     "metadata": {},
     "output_type": "display_data"
    },
    {
     "data": {
      "text/html": [
       "<pre style=\"white-space:pre;overflow-x:auto;line-height:normal;font-family:Menlo,'DejaVu Sans Mono',consolas,'Courier New',monospace\">feature1 - min: -2.523930072784424, max: 2.492980718612671, NaNs: 0\n",
       "</pre>\n"
      ],
      "text/plain": [
       "feature1 - min: -2.523930072784424, max: 2.492980718612671, NaNs: 0\n"
      ]
     },
     "metadata": {},
     "output_type": "display_data"
    },
    {
     "data": {
      "text/html": [
       "<pre style=\"white-space:pre;overflow-x:auto;line-height:normal;font-family:Menlo,'DejaVu Sans Mono',consolas,'Courier New',monospace\">interaction_block - min: -0.025128914043307304, max: 0.025602571666240692, NaNs: 0\n",
       "</pre>\n"
      ],
      "text/plain": [
       "interaction_block - min: -0.025128914043307304, max: 0.025602571666240692, NaNs: 0\n"
      ]
     },
     "metadata": {},
     "output_type": "display_data"
    },
    {
     "data": {
      "text/html": [
       "<pre style=\"white-space:pre;overflow-x:auto;line-height:normal;font-family:Menlo,'DejaVu Sans Mono',consolas,'Courier New',monospace\">y - min: 0.0, max: 18.677215576171875, NaNs: 0\n",
       "</pre>\n"
      ],
      "text/plain": [
       "y - min: 0.0, max: 18.677215576171875, NaNs: 0\n"
      ]
     },
     "metadata": {},
     "output_type": "display_data"
    },
    {
     "data": {
      "text/html": [
       "<pre style=\"white-space:pre;overflow-x:auto;line-height:normal;font-family:Menlo,'DejaVu Sans Mono',consolas,'Courier New',monospace\">lin_out - min: -5.934497356414795, max: 8.069609642028809, NaNs: 0\n",
       "</pre>\n"
      ],
      "text/plain": [
       "lin_out - min: -5.934497356414795, max: 8.069609642028809, NaNs: 0\n"
      ]
     },
     "metadata": {},
     "output_type": "display_data"
    },
    {
     "data": {
      "text/html": [
       "<pre style=\"white-space:pre;overflow-x:auto;line-height:normal;font-family:Menlo,'DejaVu Sans Mono',consolas,'Courier New',monospace\">===== New ========================\n",
       "</pre>\n"
      ],
      "text/plain": [
       "===== New ========================\n"
      ]
     },
     "metadata": {},
     "output_type": "display_data"
    },
    {
     "data": {
      "text/html": [
       "<pre style=\"white-space:pre;overflow-x:auto;line-height:normal;font-family:Menlo,'DejaVu Sans Mono',consolas,'Courier New',monospace\">DataProteinBatch(fill_value=1e-05, atom_list=[37], coords=[8165, 37, 3], residues=[32], id=[32], residue_id=[32], \n",
       "residue_type=[8165], chains=[8165], graph_y=[32], x=[8165, 23], amino_acid_one_hot=[8165, 23], seq_pos=[8165, 1], \n",
       "batch=[8165], ptr=[33], pos=[8165, 3], edge_index=[2, 130640], edge_type=[1, 130640], num_relation=1, \n",
       "edge_attr=[130640, 1])\n",
       "</pre>\n"
      ],
      "text/plain": [
       "DataProteinBatch(fill_value=1e-05, atom_list=[37], coords=[8165, 37, 3], residues=[32], id=[32], residue_id=[32], \n",
       "residue_type=[8165], chains=[8165], graph_y=[32], x=[8165, 23], amino_acid_one_hot=[8165, 23], seq_pos=[8165, 1], \n",
       "batch=[8165], ptr=[33], pos=[8165, 3], edge_index=[2, 130640], edge_type=[1, 130640], num_relation=1, \n",
       "edge_attr=[130640, 1])\n"
      ]
     },
     "metadata": {},
     "output_type": "display_data"
    },
    {
     "data": {
      "text/html": [
       "<pre style=\"white-space:pre;overflow-x:auto;line-height:normal;font-family:Menlo,'DejaVu Sans Mono',consolas,'Courier New',monospace\">z - min: 0, max: 22, NaNs: 0\n",
       "</pre>\n"
      ],
      "text/plain": [
       "z - min: 0, max: 22, NaNs: 0\n"
      ]
     },
     "metadata": {},
     "output_type": "display_data"
    },
    {
     "data": {
      "text/html": [
       "<pre style=\"white-space:pre;overflow-x:auto;line-height:normal;font-family:Menlo,'DejaVu Sans Mono',consolas,'Courier New',monospace\">pos - min: -200.02699279785156, max: 210.02000427246094, NaNs: 0\n",
       "</pre>\n"
      ],
      "text/plain": [
       "pos - min: -200.02699279785156, max: 210.02000427246094, NaNs: 0\n"
      ]
     },
     "metadata": {},
     "output_type": "display_data"
    },
    {
     "data": {
      "text/html": [
       "<pre style=\"white-space:pre;overflow-x:auto;line-height:normal;font-family:Menlo,'DejaVu Sans Mono',consolas,'Courier New',monospace\">x - min: -3.7721736431121826, max: 3.2096216678619385, NaNs: 0\n",
       "</pre>\n"
      ],
      "text/plain": [
       "x - min: -3.7721736431121826, max: 3.2096216678619385, NaNs: 0\n"
      ]
     },
     "metadata": {},
     "output_type": "display_data"
    },
    {
     "data": {
      "text/html": [
       "<pre style=\"white-space:pre;overflow-x:auto;line-height:normal;font-family:Menlo,'DejaVu Sans Mono',consolas,'Courier New',monospace\">pos_emb - min: -0.9999902248382568, max: 0.9999999403953552, NaNs: 0\n",
       "</pre>\n"
      ],
      "text/plain": [
       "pos_emb - min: -0.9999902248382568, max: 0.9999999403953552, NaNs: 0\n"
      ]
     },
     "metadata": {},
     "output_type": "display_data"
    },
    {
     "data": {
      "text/html": [
       "<pre style=\"white-space:pre;overflow-x:auto;line-height:normal;font-family:Menlo,'DejaVu Sans Mono',consolas,'Courier New',monospace\">edge_index tensor[2, 130640] i64 n=261280 (2.0Mb) x∈[0, 8164] μ=4.082e+03 σ=2.357e+03 cuda:0\n",
       "</pre>\n"
      ],
      "text/plain": [
       "edge_index tensor[2, 130640] i64 n=261280 (2.0Mb) x∈[0, 8164] μ=4.082e+03 σ=2.357e+03 cuda:0\n"
      ]
     },
     "metadata": {},
     "output_type": "display_data"
    },
    {
     "data": {
      "text/html": [
       "<pre style=\"white-space:pre;overflow-x:auto;line-height:normal;font-family:Menlo,'DejaVu Sans Mono',consolas,'Courier New',monospace\">j: tensor[130640] i64 1.0Mb x∈[0, 8164] μ=4.082e+03 σ=2.357e+03 cuda:0\n",
       "</pre>\n"
      ],
      "text/plain": [
       "j: tensor[130640] i64 1.0Mb x∈[0, 8164] μ=4.082e+03 σ=2.357e+03 cuda:0\n"
      ]
     },
     "metadata": {},
     "output_type": "display_data"
    },
    {
     "data": {
      "text/html": [
       "<pre style=\"white-space:pre;overflow-x:auto;line-height:normal;font-family:Menlo,'DejaVu Sans Mono',consolas,'Courier New',monospace\">i: tensor[130640] i64 1.0Mb x∈[0, 8164] μ=4.082e+03 σ=2.357e+03 cuda:0\n",
       "</pre>\n"
      ],
      "text/plain": [
       "i: tensor[130640] i64 1.0Mb x∈[0, 8164] μ=4.082e+03 σ=2.357e+03 cuda:0\n"
      ]
     },
     "metadata": {},
     "output_type": "display_data"
    },
    {
     "data": {
      "text/html": [
       "<pre style=\"white-space:pre;overflow-x:auto;line-height:normal;font-family:Menlo,'DejaVu Sans Mono',consolas,'Courier New',monospace\">False\n",
       "</pre>\n"
      ],
      "text/plain": [
       "False\n"
      ]
     },
     "metadata": {},
     "output_type": "display_data"
    },
    {
     "data": {
      "text/html": [
       "<pre style=\"white-space:pre;overflow-x:auto;line-height:normal;font-family:Menlo,'DejaVu Sans Mono',consolas,'Courier New',monospace\">dist - min: 2.4799954891204834, max: 40.739044189453125, NaNs: 0\n",
       "</pre>\n"
      ],
      "text/plain": [
       "dist - min: 2.4799954891204834, max: 40.739044189453125, NaNs: 0\n"
      ]
     },
     "metadata": {},
     "output_type": "display_data"
    },
    {
     "data": {
      "text/html": [
       "<pre style=\"white-space:pre;overflow-x:auto;line-height:normal;font-family:Menlo,'DejaVu Sans Mono',consolas,'Courier New',monospace\">theta - min: 0.0, max: 3.1353671550750732, NaNs: 0\n",
       "</pre>\n"
      ],
      "text/plain": [
       "theta - min: 0.0, max: 3.1353671550750732, NaNs: 0\n"
      ]
     },
     "metadata": {},
     "output_type": "display_data"
    },
    {
     "data": {
      "text/html": [
       "<pre style=\"white-space:pre;overflow-x:auto;line-height:normal;font-family:Menlo,'DejaVu Sans Mono',consolas,'Courier New',monospace\">phi - min: -3.1415748596191406, max: 3.141510486602783, NaNs: 0\n",
       "</pre>\n"
      ],
      "text/plain": [
       "phi - min: -3.1415748596191406, max: 3.141510486602783, NaNs: 0\n"
      ]
     },
     "metadata": {},
     "output_type": "display_data"
    },
    {
     "data": {
      "text/html": [
       "<pre style=\"white-space:pre;overflow-x:auto;line-height:normal;font-family:Menlo,'DejaVu Sans Mono',consolas,'Courier New',monospace\">feature0 - min: -2.3632824420928955, max: 2.9728035926818848, NaNs: 0\n",
       "</pre>\n"
      ],
      "text/plain": [
       "feature0 - min: -2.3632824420928955, max: 2.9728035926818848, NaNs: 0\n"
      ]
     },
     "metadata": {},
     "output_type": "display_data"
    },
    {
     "data": {
      "text/html": [
       "<pre style=\"white-space:pre;overflow-x:auto;line-height:normal;font-family:Menlo,'DejaVu Sans Mono',consolas,'Courier New',monospace\">feature1 - min: -2.100548028945923, max: 2.347672700881958, NaNs: 0\n",
       "</pre>\n"
      ],
      "text/plain": [
       "feature1 - min: -2.100548028945923, max: 2.347672700881958, NaNs: 0\n"
      ]
     },
     "metadata": {},
     "output_type": "display_data"
    },
    {
     "data": {
      "text/html": [
       "<pre style=\"white-space:pre;overflow-x:auto;line-height:normal;font-family:Menlo,'DejaVu Sans Mono',consolas,'Courier New',monospace\">interaction_block - min: -0.021937847137451172, max: 0.02425042726099491, NaNs: 0\n",
       "</pre>\n"
      ],
      "text/plain": [
       "interaction_block - min: -0.021937847137451172, max: 0.02425042726099491, NaNs: 0\n"
      ]
     },
     "metadata": {},
     "output_type": "display_data"
    },
    {
     "data": {
      "text/html": [
       "<pre style=\"white-space:pre;overflow-x:auto;line-height:normal;font-family:Menlo,'DejaVu Sans Mono',consolas,'Courier New',monospace\">y - min: 0.0, max: 23.457775115966797, NaNs: 0\n",
       "</pre>\n"
      ],
      "text/plain": [
       "y - min: 0.0, max: 23.457775115966797, NaNs: 0\n"
      ]
     },
     "metadata": {},
     "output_type": "display_data"
    },
    {
     "data": {
      "text/html": [
       "<pre style=\"white-space:pre;overflow-x:auto;line-height:normal;font-family:Menlo,'DejaVu Sans Mono',consolas,'Courier New',monospace\">lin_out - min: -8.109040260314941, max: 8.546339988708496, NaNs: 0\n",
       "</pre>\n"
      ],
      "text/plain": [
       "lin_out - min: -8.109040260314941, max: 8.546339988708496, NaNs: 0\n"
      ]
     },
     "metadata": {},
     "output_type": "display_data"
    },
    {
     "data": {
      "text/html": [
       "<pre style=\"white-space:pre;overflow-x:auto;line-height:normal;font-family:Menlo,'DejaVu Sans Mono',consolas,'Courier New',monospace\">===== New ========================\n",
       "</pre>\n"
      ],
      "text/plain": [
       "===== New ========================\n"
      ]
     },
     "metadata": {},
     "output_type": "display_data"
    },
    {
     "data": {
      "text/html": [
       "<pre style=\"white-space:pre;overflow-x:auto;line-height:normal;font-family:Menlo,'DejaVu Sans Mono',consolas,'Courier New',monospace\">DataProteinBatch(fill_value=1e-05, atom_list=[37], coords=[6515, 37, 3], residues=[32], id=[32], residue_id=[32], \n",
       "residue_type=[6515], chains=[6515], graph_y=[32], x=[6515, 23], amino_acid_one_hot=[6515, 23], seq_pos=[6515, 1], \n",
       "batch=[6515], ptr=[33], pos=[6515, 3], edge_index=[2, 104240], edge_type=[1, 104240], num_relation=1, \n",
       "edge_attr=[104240, 1])\n",
       "</pre>\n"
      ],
      "text/plain": [
       "DataProteinBatch(fill_value=1e-05, atom_list=[37], coords=[6515, 37, 3], residues=[32], id=[32], residue_id=[32], \n",
       "residue_type=[6515], chains=[6515], graph_y=[32], x=[6515, 23], amino_acid_one_hot=[6515, 23], seq_pos=[6515, 1], \n",
       "batch=[6515], ptr=[33], pos=[6515, 3], edge_index=[2, 104240], edge_type=[1, 104240], num_relation=1, \n",
       "edge_attr=[104240, 1])\n"
      ]
     },
     "metadata": {},
     "output_type": "display_data"
    },
    {
     "data": {
      "text/html": [
       "<pre style=\"white-space:pre;overflow-x:auto;line-height:normal;font-family:Menlo,'DejaVu Sans Mono',consolas,'Courier New',monospace\">z - min: 0, max: 22, NaNs: 0\n",
       "</pre>\n"
      ],
      "text/plain": [
       "z - min: 0, max: 22, NaNs: 0\n"
      ]
     },
     "metadata": {},
     "output_type": "display_data"
    },
    {
     "data": {
      "text/html": [
       "<pre style=\"white-space:pre;overflow-x:auto;line-height:normal;font-family:Menlo,'DejaVu Sans Mono',consolas,'Courier New',monospace\">pos - min: -63.547000885009766, max: 168.02499389648438, NaNs: 0\n",
       "</pre>\n"
      ],
      "text/plain": [
       "pos - min: -63.547000885009766, max: 168.02499389648438, NaNs: 0\n"
      ]
     },
     "metadata": {},
     "output_type": "display_data"
    },
    {
     "data": {
      "text/html": [
       "<pre style=\"white-space:pre;overflow-x:auto;line-height:normal;font-family:Menlo,'DejaVu Sans Mono',consolas,'Courier New',monospace\">x - min: -3.7719414234161377, max: 3.209320306777954, NaNs: 0\n",
       "</pre>\n"
      ],
      "text/plain": [
       "x - min: -3.7719414234161377, max: 3.209320306777954, NaNs: 0\n"
      ]
     },
     "metadata": {},
     "output_type": "display_data"
    },
    {
     "data": {
      "text/html": [
       "<pre style=\"white-space:pre;overflow-x:auto;line-height:normal;font-family:Menlo,'DejaVu Sans Mono',consolas,'Courier New',monospace\">pos_emb - min: -0.9999997019767761, max: 0.9999999403953552, NaNs: 0\n",
       "</pre>\n"
      ],
      "text/plain": [
       "pos_emb - min: -0.9999997019767761, max: 0.9999999403953552, NaNs: 0\n"
      ]
     },
     "metadata": {},
     "output_type": "display_data"
    },
    {
     "data": {
      "text/html": [
       "<pre style=\"white-space:pre;overflow-x:auto;line-height:normal;font-family:Menlo,'DejaVu Sans Mono',consolas,'Courier New',monospace\">edge_index tensor[2, 104240] i64 n=208480 (1.6Mb) x∈[0, 6514] μ=3.257e+03 σ=1.881e+03 cuda:0\n",
       "</pre>\n"
      ],
      "text/plain": [
       "edge_index tensor[2, 104240] i64 n=208480 (1.6Mb) x∈[0, 6514] μ=3.257e+03 σ=1.881e+03 cuda:0\n"
      ]
     },
     "metadata": {},
     "output_type": "display_data"
    },
    {
     "data": {
      "text/html": [
       "<pre style=\"white-space:pre;overflow-x:auto;line-height:normal;font-family:Menlo,'DejaVu Sans Mono',consolas,'Courier New',monospace\">j: tensor[104240] i64 0.8Mb x∈[0, 6514] μ=3.257e+03 σ=1.881e+03 cuda:0\n",
       "</pre>\n"
      ],
      "text/plain": [
       "j: tensor[104240] i64 0.8Mb x∈[0, 6514] μ=3.257e+03 σ=1.881e+03 cuda:0\n"
      ]
     },
     "metadata": {},
     "output_type": "display_data"
    },
    {
     "data": {
      "text/html": [
       "<pre style=\"white-space:pre;overflow-x:auto;line-height:normal;font-family:Menlo,'DejaVu Sans Mono',consolas,'Courier New',monospace\">i: tensor[104240] i64 0.8Mb x∈[0, 6514] μ=3.257e+03 σ=1.881e+03 cuda:0\n",
       "</pre>\n"
      ],
      "text/plain": [
       "i: tensor[104240] i64 0.8Mb x∈[0, 6514] μ=3.257e+03 σ=1.881e+03 cuda:0\n"
      ]
     },
     "metadata": {},
     "output_type": "display_data"
    },
    {
     "data": {
      "text/html": [
       "<pre style=\"white-space:pre;overflow-x:auto;line-height:normal;font-family:Menlo,'DejaVu Sans Mono',consolas,'Courier New',monospace\">False\n",
       "</pre>\n"
      ],
      "text/plain": [
       "False\n"
      ]
     },
     "metadata": {},
     "output_type": "display_data"
    },
    {
     "data": {
      "text/html": [
       "<pre style=\"white-space:pre;overflow-x:auto;line-height:normal;font-family:Menlo,'DejaVu Sans Mono',consolas,'Courier New',monospace\">dist - min: 3.107677459716797, max: 27.558300018310547, NaNs: 0\n",
       "</pre>\n"
      ],
      "text/plain": [
       "dist - min: 3.107677459716797, max: 27.558300018310547, NaNs: 0\n"
      ]
     },
     "metadata": {},
     "output_type": "display_data"
    },
    {
     "data": {
      "text/html": [
       "<pre style=\"white-space:pre;overflow-x:auto;line-height:normal;font-family:Menlo,'DejaVu Sans Mono',consolas,'Courier New',monospace\">theta - min: 0.0, max: 3.1291282176971436, NaNs: 0\n",
       "</pre>\n"
      ],
      "text/plain": [
       "theta - min: 0.0, max: 3.1291282176971436, NaNs: 0\n"
      ]
     },
     "metadata": {},
     "output_type": "display_data"
    },
    {
     "data": {
      "text/html": [
       "<pre style=\"white-space:pre;overflow-x:auto;line-height:normal;font-family:Menlo,'DejaVu Sans Mono',consolas,'Courier New',monospace\">phi - min: -3.1415271759033203, max: 3.141517400741577, NaNs: 0\n",
       "</pre>\n"
      ],
      "text/plain": [
       "phi - min: -3.1415271759033203, max: 3.141517400741577, NaNs: 0\n"
      ]
     },
     "metadata": {},
     "output_type": "display_data"
    },
    {
     "data": {
      "text/html": [
       "<pre style=\"white-space:pre;overflow-x:auto;line-height:normal;font-family:Menlo,'DejaVu Sans Mono',consolas,'Courier New',monospace\">feature0 - min: -2.2069308757781982, max: 2.284698009490967, NaNs: 0\n",
       "</pre>\n"
      ],
      "text/plain": [
       "feature0 - min: -2.2069308757781982, max: 2.284698009490967, NaNs: 0\n"
      ]
     },
     "metadata": {},
     "output_type": "display_data"
    },
    {
     "data": {
      "text/html": [
       "<pre style=\"white-space:pre;overflow-x:auto;line-height:normal;font-family:Menlo,'DejaVu Sans Mono',consolas,'Courier New',monospace\">feature1 - min: -2.0114784240722656, max: 1.9711956977844238, NaNs: 0\n",
       "</pre>\n"
      ],
      "text/plain": [
       "feature1 - min: -2.0114784240722656, max: 1.9711956977844238, NaNs: 0\n"
      ]
     },
     "metadata": {},
     "output_type": "display_data"
    },
    {
     "data": {
      "text/html": [
       "<pre style=\"white-space:pre;overflow-x:auto;line-height:normal;font-family:Menlo,'DejaVu Sans Mono',consolas,'Courier New',monospace\">interaction_block - min: -0.019962318241596222, max: 0.023809997364878654, NaNs: 0\n",
       "</pre>\n"
      ],
      "text/plain": [
       "interaction_block - min: -0.019962318241596222, max: 0.023809997364878654, NaNs: 0\n"
      ]
     },
     "metadata": {},
     "output_type": "display_data"
    },
    {
     "data": {
      "text/html": [
       "<pre style=\"white-space:pre;overflow-x:auto;line-height:normal;font-family:Menlo,'DejaVu Sans Mono',consolas,'Courier New',monospace\">y - min: 0.0, max: 8.696122169494629, NaNs: 0\n",
       "</pre>\n"
      ],
      "text/plain": [
       "y - min: 0.0, max: 8.696122169494629, NaNs: 0\n"
      ]
     },
     "metadata": {},
     "output_type": "display_data"
    },
    {
     "data": {
      "text/html": [
       "<pre style=\"white-space:pre;overflow-x:auto;line-height:normal;font-family:Menlo,'DejaVu Sans Mono',consolas,'Courier New',monospace\">lin_out - min: -4.119460105895996, max: 2.6836228370666504, NaNs: 0\n",
       "</pre>\n"
      ],
      "text/plain": [
       "lin_out - min: -4.119460105895996, max: 2.6836228370666504, NaNs: 0\n"
      ]
     },
     "metadata": {},
     "output_type": "display_data"
    },
    {
     "data": {
      "text/html": [
       "<pre style=\"white-space:pre;overflow-x:auto;line-height:normal;font-family:Menlo,'DejaVu Sans Mono',consolas,'Courier New',monospace\">===== New ========================\n",
       "</pre>\n"
      ],
      "text/plain": [
       "===== New ========================\n"
      ]
     },
     "metadata": {},
     "output_type": "display_data"
    },
    {
     "data": {
      "text/html": [
       "<pre style=\"white-space:pre;overflow-x:auto;line-height:normal;font-family:Menlo,'DejaVu Sans Mono',consolas,'Courier New',monospace\">DataProteinBatch(fill_value=1e-05, atom_list=[37], coords=[6977, 37, 3], residues=[32], id=[32], residue_id=[32], \n",
       "residue_type=[6977], chains=[6977], graph_y=[32], x=[6977, 23], amino_acid_one_hot=[6977, 23], seq_pos=[6977, 1], \n",
       "batch=[6977], ptr=[33], pos=[6977, 3], edge_index=[2, 111632], edge_type=[1, 111632], num_relation=1, \n",
       "edge_attr=[111632, 1])\n",
       "</pre>\n"
      ],
      "text/plain": [
       "DataProteinBatch(fill_value=1e-05, atom_list=[37], coords=[6977, 37, 3], residues=[32], id=[32], residue_id=[32], \n",
       "residue_type=[6977], chains=[6977], graph_y=[32], x=[6977, 23], amino_acid_one_hot=[6977, 23], seq_pos=[6977, 1], \n",
       "batch=[6977], ptr=[33], pos=[6977, 3], edge_index=[2, 111632], edge_type=[1, 111632], num_relation=1, \n",
       "edge_attr=[111632, 1])\n"
      ]
     },
     "metadata": {},
     "output_type": "display_data"
    },
    {
     "data": {
      "text/html": [
       "<pre style=\"white-space:pre;overflow-x:auto;line-height:normal;font-family:Menlo,'DejaVu Sans Mono',consolas,'Courier New',monospace\">z - min: 0, max: 22, NaNs: 0\n",
       "</pre>\n"
      ],
      "text/plain": [
       "z - min: 0, max: 22, NaNs: 0\n"
      ]
     },
     "metadata": {},
     "output_type": "display_data"
    },
    {
     "data": {
      "text/html": [
       "<pre style=\"white-space:pre;overflow-x:auto;line-height:normal;font-family:Menlo,'DejaVu Sans Mono',consolas,'Courier New',monospace\">pos - min: -85.69200134277344, max: 148.2259979248047, NaNs: 0\n",
       "</pre>\n"
      ],
      "text/plain": [
       "pos - min: -85.69200134277344, max: 148.2259979248047, NaNs: 0\n"
      ]
     },
     "metadata": {},
     "output_type": "display_data"
    },
    {
     "data": {
      "text/html": [
       "<pre style=\"white-space:pre;overflow-x:auto;line-height:normal;font-family:Menlo,'DejaVu Sans Mono',consolas,'Courier New',monospace\">x - min: -3.7717461585998535, max: 3.209038734436035, NaNs: 0\n",
       "</pre>\n"
      ],
      "text/plain": [
       "x - min: -3.7717461585998535, max: 3.209038734436035, NaNs: 0\n"
      ]
     },
     "metadata": {},
     "output_type": "display_data"
    },
    {
     "data": {
      "text/html": [
       "<pre style=\"white-space:pre;overflow-x:auto;line-height:normal;font-family:Menlo,'DejaVu Sans Mono',consolas,'Courier New',monospace\">pos_emb - min: -1.0, max: 0.9999999403953552, NaNs: 0\n",
       "</pre>\n"
      ],
      "text/plain": [
       "pos_emb - min: -1.0, max: 0.9999999403953552, NaNs: 0\n"
      ]
     },
     "metadata": {},
     "output_type": "display_data"
    },
    {
     "data": {
      "text/html": [
       "<pre style=\"white-space:pre;overflow-x:auto;line-height:normal;font-family:Menlo,'DejaVu Sans Mono',consolas,'Courier New',monospace\">edge_index tensor[2, 111632] i64 n=223264 (1.7Mb) x∈[0, 6976] μ=3.488e+03 σ=2.015e+03 cuda:0\n",
       "</pre>\n"
      ],
      "text/plain": [
       "edge_index tensor[2, 111632] i64 n=223264 (1.7Mb) x∈[0, 6976] μ=3.488e+03 σ=2.015e+03 cuda:0\n"
      ]
     },
     "metadata": {},
     "output_type": "display_data"
    },
    {
     "data": {
      "text/html": [
       "<pre style=\"white-space:pre;overflow-x:auto;line-height:normal;font-family:Menlo,'DejaVu Sans Mono',consolas,'Courier New',monospace\">j: tensor[111632] i64 0.9Mb x∈[0, 6976] μ=3.488e+03 σ=2.015e+03 cuda:0\n",
       "</pre>\n"
      ],
      "text/plain": [
       "j: tensor[111632] i64 0.9Mb x∈[0, 6976] μ=3.488e+03 σ=2.015e+03 cuda:0\n"
      ]
     },
     "metadata": {},
     "output_type": "display_data"
    },
    {
     "data": {
      "text/html": [
       "<pre style=\"white-space:pre;overflow-x:auto;line-height:normal;font-family:Menlo,'DejaVu Sans Mono',consolas,'Courier New',monospace\">i: tensor[111632] i64 0.9Mb x∈[0, 6976] μ=3.488e+03 σ=2.014e+03 cuda:0\n",
       "</pre>\n"
      ],
      "text/plain": [
       "i: tensor[111632] i64 0.9Mb x∈[0, 6976] μ=3.488e+03 σ=2.014e+03 cuda:0\n"
      ]
     },
     "metadata": {},
     "output_type": "display_data"
    },
    {
     "data": {
      "text/html": [
       "<pre style=\"white-space:pre;overflow-x:auto;line-height:normal;font-family:Menlo,'DejaVu Sans Mono',consolas,'Courier New',monospace\">False\n",
       "</pre>\n"
      ],
      "text/plain": [
       "False\n"
      ]
     },
     "metadata": {},
     "output_type": "display_data"
    },
    {
     "data": {
      "text/html": [
       "<pre style=\"white-space:pre;overflow-x:auto;line-height:normal;font-family:Menlo,'DejaVu Sans Mono',consolas,'Courier New',monospace\">dist - min: 2.907139539718628, max: 33.59153747558594, NaNs: 0\n",
       "</pre>\n"
      ],
      "text/plain": [
       "dist - min: 2.907139539718628, max: 33.59153747558594, NaNs: 0\n"
      ]
     },
     "metadata": {},
     "output_type": "display_data"
    },
    {
     "data": {
      "text/html": [
       "<pre style=\"white-space:pre;overflow-x:auto;line-height:normal;font-family:Menlo,'DejaVu Sans Mono',consolas,'Courier New',monospace\">theta - min: 6.009005099061326e-11, max: 3.136970043182373, NaNs: 0\n",
       "</pre>\n"
      ],
      "text/plain": [
       "theta - min: 6.009005099061326e-11, max: 3.136970043182373, NaNs: 0\n"
      ]
     },
     "metadata": {},
     "output_type": "display_data"
    },
    {
     "data": {
      "text/html": [
       "<pre style=\"white-space:pre;overflow-x:auto;line-height:normal;font-family:Menlo,'DejaVu Sans Mono',consolas,'Courier New',monospace\">phi - min: -3.1413843631744385, max: 3.141552209854126, NaNs: 0\n",
       "</pre>\n"
      ],
      "text/plain": [
       "phi - min: -3.1413843631744385, max: 3.141552209854126, NaNs: 0\n"
      ]
     },
     "metadata": {},
     "output_type": "display_data"
    },
    {
     "data": {
      "text/html": [
       "<pre style=\"white-space:pre;overflow-x:auto;line-height:normal;font-family:Menlo,'DejaVu Sans Mono',consolas,'Courier New',monospace\">feature0 - min: -2.3684751987457275, max: 2.3645071983337402, NaNs: 0\n",
       "</pre>\n"
      ],
      "text/plain": [
       "feature0 - min: -2.3684751987457275, max: 2.3645071983337402, NaNs: 0\n"
      ]
     },
     "metadata": {},
     "output_type": "display_data"
    },
    {
     "data": {
      "text/html": [
       "<pre style=\"white-space:pre;overflow-x:auto;line-height:normal;font-family:Menlo,'DejaVu Sans Mono',consolas,'Courier New',monospace\">feature1 - min: -2.304805278778076, max: 2.2652578353881836, NaNs: 0\n",
       "</pre>\n"
      ],
      "text/plain": [
       "feature1 - min: -2.304805278778076, max: 2.2652578353881836, NaNs: 0\n"
      ]
     },
     "metadata": {},
     "output_type": "display_data"
    },
    {
     "data": {
      "text/html": [
       "<pre style=\"white-space:pre;overflow-x:auto;line-height:normal;font-family:Menlo,'DejaVu Sans Mono',consolas,'Courier New',monospace\">interaction_block - min: -0.020905600860714912, max: 0.021507369354367256, NaNs: 0\n",
       "</pre>\n"
      ],
      "text/plain": [
       "interaction_block - min: -0.020905600860714912, max: 0.021507369354367256, NaNs: 0\n"
      ]
     },
     "metadata": {},
     "output_type": "display_data"
    },
    {
     "data": {
      "text/html": [
       "<pre style=\"white-space:pre;overflow-x:auto;line-height:normal;font-family:Menlo,'DejaVu Sans Mono',consolas,'Courier New',monospace\">y - min: 0.0, max: 13.769088745117188, NaNs: 0\n",
       "</pre>\n"
      ],
      "text/plain": [
       "y - min: 0.0, max: 13.769088745117188, NaNs: 0\n"
      ]
     },
     "metadata": {},
     "output_type": "display_data"
    },
    {
     "data": {
      "text/html": [
       "<pre style=\"white-space:pre;overflow-x:auto;line-height:normal;font-family:Menlo,'DejaVu Sans Mono',consolas,'Courier New',monospace\">lin_out - min: -5.542235374450684, max: 3.823700428009033, NaNs: 0\n",
       "</pre>\n"
      ],
      "text/plain": [
       "lin_out - min: -5.542235374450684, max: 3.823700428009033, NaNs: 0\n"
      ]
     },
     "metadata": {},
     "output_type": "display_data"
    },
    {
     "data": {
      "text/html": [
       "<pre style=\"white-space:pre;overflow-x:auto;line-height:normal;font-family:Menlo,'DejaVu Sans Mono',consolas,'Courier New',monospace\">===== New ========================\n",
       "</pre>\n"
      ],
      "text/plain": [
       "===== New ========================\n"
      ]
     },
     "metadata": {},
     "output_type": "display_data"
    },
    {
     "data": {
      "text/html": [
       "<pre style=\"white-space:pre;overflow-x:auto;line-height:normal;font-family:Menlo,'DejaVu Sans Mono',consolas,'Courier New',monospace\">DataProteinBatch(fill_value=1e-05, atom_list=[37], coords=[5821, 37, 3], residues=[32], id=[32], residue_id=[32], \n",
       "residue_type=[5821], chains=[5821], graph_y=[32], x=[5821, 23], amino_acid_one_hot=[5821, 23], seq_pos=[5821, 1], \n",
       "batch=[5821], ptr=[33], pos=[5821, 3], edge_index=[2, 93136], edge_type=[1, 93136], num_relation=1, \n",
       "edge_attr=[93136, 1])\n",
       "</pre>\n"
      ],
      "text/plain": [
       "DataProteinBatch(fill_value=1e-05, atom_list=[37], coords=[5821, 37, 3], residues=[32], id=[32], residue_id=[32], \n",
       "residue_type=[5821], chains=[5821], graph_y=[32], x=[5821, 23], amino_acid_one_hot=[5821, 23], seq_pos=[5821, 1], \n",
       "batch=[5821], ptr=[33], pos=[5821, 3], edge_index=[2, 93136], edge_type=[1, 93136], num_relation=1, \n",
       "edge_attr=[93136, 1])\n"
      ]
     },
     "metadata": {},
     "output_type": "display_data"
    },
    {
     "data": {
      "text/html": [
       "<pre style=\"white-space:pre;overflow-x:auto;line-height:normal;font-family:Menlo,'DejaVu Sans Mono',consolas,'Courier New',monospace\">z - min: 0, max: 22, NaNs: 0\n",
       "</pre>\n"
      ],
      "text/plain": [
       "z - min: 0, max: 22, NaNs: 0\n"
      ]
     },
     "metadata": {},
     "output_type": "display_data"
    },
    {
     "data": {
      "text/html": [
       "<pre style=\"white-space:pre;overflow-x:auto;line-height:normal;font-family:Menlo,'DejaVu Sans Mono',consolas,'Courier New',monospace\">pos - min: -83.46700286865234, max: 149.55799865722656, NaNs: 0\n",
       "</pre>\n"
      ],
      "text/plain": [
       "pos - min: -83.46700286865234, max: 149.55799865722656, NaNs: 0\n"
      ]
     },
     "metadata": {},
     "output_type": "display_data"
    },
    {
     "data": {
      "text/html": [
       "<pre style=\"white-space:pre;overflow-x:auto;line-height:normal;font-family:Menlo,'DejaVu Sans Mono',consolas,'Courier New',monospace\">x - min: -3.7715818881988525, max: 3.208779811859131, NaNs: 0\n",
       "</pre>\n"
      ],
      "text/plain": [
       "x - min: -3.7715818881988525, max: 3.208779811859131, NaNs: 0\n"
      ]
     },
     "metadata": {},
     "output_type": "display_data"
    },
    {
     "data": {
      "text/html": [
       "<pre style=\"white-space:pre;overflow-x:auto;line-height:normal;font-family:Menlo,'DejaVu Sans Mono',consolas,'Courier New',monospace\">pos_emb - min: -0.9999998211860657, max: 0.9999999403953552, NaNs: 0\n",
       "</pre>\n"
      ],
      "text/plain": [
       "pos_emb - min: -0.9999998211860657, max: 0.9999999403953552, NaNs: 0\n"
      ]
     },
     "metadata": {},
     "output_type": "display_data"
    },
    {
     "data": {
      "text/html": [
       "<pre style=\"white-space:pre;overflow-x:auto;line-height:normal;font-family:Menlo,'DejaVu Sans Mono',consolas,'Courier New',monospace\">edge_index tensor[2, 93136] i64 n=186272 (1.4Mb) x∈[0, 5820] μ=2.910e+03 σ=1.680e+03 cuda:0\n",
       "</pre>\n"
      ],
      "text/plain": [
       "edge_index tensor[2, 93136] i64 n=186272 (1.4Mb) x∈[0, 5820] μ=2.910e+03 σ=1.680e+03 cuda:0\n"
      ]
     },
     "metadata": {},
     "output_type": "display_data"
    },
    {
     "data": {
      "text/html": [
       "<pre style=\"white-space:pre;overflow-x:auto;line-height:normal;font-family:Menlo,'DejaVu Sans Mono',consolas,'Courier New',monospace\">j: tensor[93136] i64 0.7Mb x∈[0, 5820] μ=2.910e+03 σ=1.680e+03 cuda:0\n",
       "</pre>\n"
      ],
      "text/plain": [
       "j: tensor[93136] i64 0.7Mb x∈[0, 5820] μ=2.910e+03 σ=1.680e+03 cuda:0\n"
      ]
     },
     "metadata": {},
     "output_type": "display_data"
    },
    {
     "data": {
      "text/html": [
       "<pre style=\"white-space:pre;overflow-x:auto;line-height:normal;font-family:Menlo,'DejaVu Sans Mono',consolas,'Courier New',monospace\">i: tensor[93136] i64 0.7Mb x∈[0, 5820] μ=2.910e+03 σ=1.680e+03 cuda:0\n",
       "</pre>\n"
      ],
      "text/plain": [
       "i: tensor[93136] i64 0.7Mb x∈[0, 5820] μ=2.910e+03 σ=1.680e+03 cuda:0\n"
      ]
     },
     "metadata": {},
     "output_type": "display_data"
    },
    {
     "data": {
      "text/html": [
       "<pre style=\"white-space:pre;overflow-x:auto;line-height:normal;font-family:Menlo,'DejaVu Sans Mono',consolas,'Courier New',monospace\">False\n",
       "</pre>\n"
      ],
      "text/plain": [
       "False\n"
      ]
     },
     "metadata": {},
     "output_type": "display_data"
    },
    {
     "data": {
      "text/html": [
       "<pre style=\"white-space:pre;overflow-x:auto;line-height:normal;font-family:Menlo,'DejaVu Sans Mono',consolas,'Courier New',monospace\">dist - min: 2.9815752506256104, max: 23.218021392822266, NaNs: 0\n",
       "</pre>\n"
      ],
      "text/plain": [
       "dist - min: 2.9815752506256104, max: 23.218021392822266, NaNs: 0\n"
      ]
     },
     "metadata": {},
     "output_type": "display_data"
    },
    {
     "data": {
      "text/html": [
       "<pre style=\"white-space:pre;overflow-x:auto;line-height:normal;font-family:Menlo,'DejaVu Sans Mono',consolas,'Courier New',monospace\">theta - min: 0.0, max: 3.1319873332977295, NaNs: 0\n",
       "</pre>\n"
      ],
      "text/plain": [
       "theta - min: 0.0, max: 3.1319873332977295, NaNs: 0\n"
      ]
     },
     "metadata": {},
     "output_type": "display_data"
    },
    {
     "data": {
      "text/html": [
       "<pre style=\"white-space:pre;overflow-x:auto;line-height:normal;font-family:Menlo,'DejaVu Sans Mono',consolas,'Courier New',monospace\">phi - min: -3.1414942741394043, max: 3.141554355621338, NaNs: 0\n",
       "</pre>\n"
      ],
      "text/plain": [
       "phi - min: -3.1414942741394043, max: 3.141554355621338, NaNs: 0\n"
      ]
     },
     "metadata": {},
     "output_type": "display_data"
    },
    {
     "data": {
      "text/html": [
       "<pre style=\"white-space:pre;overflow-x:auto;line-height:normal;font-family:Menlo,'DejaVu Sans Mono',consolas,'Courier New',monospace\">feature0 - min: -2.3490514755249023, max: 2.3171050548553467, NaNs: 0\n",
       "</pre>\n"
      ],
      "text/plain": [
       "feature0 - min: -2.3490514755249023, max: 2.3171050548553467, NaNs: 0\n"
      ]
     },
     "metadata": {},
     "output_type": "display_data"
    },
    {
     "data": {
      "text/html": [
       "<pre style=\"white-space:pre;overflow-x:auto;line-height:normal;font-family:Menlo,'DejaVu Sans Mono',consolas,'Courier New',monospace\">feature1 - min: -2.215066909790039, max: 2.1849427223205566, NaNs: 0\n",
       "</pre>\n"
      ],
      "text/plain": [
       "feature1 - min: -2.215066909790039, max: 2.1849427223205566, NaNs: 0\n"
      ]
     },
     "metadata": {},
     "output_type": "display_data"
    },
    {
     "data": {
      "text/html": [
       "<pre style=\"white-space:pre;overflow-x:auto;line-height:normal;font-family:Menlo,'DejaVu Sans Mono',consolas,'Courier New',monospace\">interaction_block - min: -0.02413739636540413, max: 0.022087877616286278, NaNs: 0\n",
       "</pre>\n"
      ],
      "text/plain": [
       "interaction_block - min: -0.02413739636540413, max: 0.022087877616286278, NaNs: 0\n"
      ]
     },
     "metadata": {},
     "output_type": "display_data"
    },
    {
     "data": {
      "text/html": [
       "<pre style=\"white-space:pre;overflow-x:auto;line-height:normal;font-family:Menlo,'DejaVu Sans Mono',consolas,'Courier New',monospace\">y - min: 0.0, max: 6.683927536010742, NaNs: 0\n",
       "</pre>\n"
      ],
      "text/plain": [
       "y - min: 0.0, max: 6.683927536010742, NaNs: 0\n"
      ]
     },
     "metadata": {},
     "output_type": "display_data"
    },
    {
     "data": {
      "text/html": [
       "<pre style=\"white-space:pre;overflow-x:auto;line-height:normal;font-family:Menlo,'DejaVu Sans Mono',consolas,'Courier New',monospace\">lin_out - min: -2.480196714401245, max: 1.759803295135498, NaNs: 0\n",
       "</pre>\n"
      ],
      "text/plain": [
       "lin_out - min: -2.480196714401245, max: 1.759803295135498, NaNs: 0\n"
      ]
     },
     "metadata": {},
     "output_type": "display_data"
    },
    {
     "data": {
      "text/html": [
       "<pre style=\"white-space:pre;overflow-x:auto;line-height:normal;font-family:Menlo,'DejaVu Sans Mono',consolas,'Courier New',monospace\">===== New ========================\n",
       "</pre>\n"
      ],
      "text/plain": [
       "===== New ========================\n"
      ]
     },
     "metadata": {},
     "output_type": "display_data"
    },
    {
     "data": {
      "text/html": [
       "<pre style=\"white-space:pre;overflow-x:auto;line-height:normal;font-family:Menlo,'DejaVu Sans Mono',consolas,'Courier New',monospace\">DataProteinBatch(fill_value=1e-05, atom_list=[37], coords=[8875, 37, 3], residues=[32], id=[32], residue_id=[32], \n",
       "residue_type=[8875], chains=[8875], graph_y=[32], x=[8875, 23], amino_acid_one_hot=[8875, 23], seq_pos=[8875, 1], \n",
       "batch=[8875], ptr=[33], pos=[8875, 3], edge_index=[2, 142000], edge_type=[1, 142000], num_relation=1, \n",
       "edge_attr=[142000, 1])\n",
       "</pre>\n"
      ],
      "text/plain": [
       "DataProteinBatch(fill_value=1e-05, atom_list=[37], coords=[8875, 37, 3], residues=[32], id=[32], residue_id=[32], \n",
       "residue_type=[8875], chains=[8875], graph_y=[32], x=[8875, 23], amino_acid_one_hot=[8875, 23], seq_pos=[8875, 1], \n",
       "batch=[8875], ptr=[33], pos=[8875, 3], edge_index=[2, 142000], edge_type=[1, 142000], num_relation=1, \n",
       "edge_attr=[142000, 1])\n"
      ]
     },
     "metadata": {},
     "output_type": "display_data"
    },
    {
     "data": {
      "text/html": [
       "<pre style=\"white-space:pre;overflow-x:auto;line-height:normal;font-family:Menlo,'DejaVu Sans Mono',consolas,'Courier New',monospace\">z - min: 0, max: 22, NaNs: 0\n",
       "</pre>\n"
      ],
      "text/plain": [
       "z - min: 0, max: 22, NaNs: 0\n"
      ]
     },
     "metadata": {},
     "output_type": "display_data"
    },
    {
     "data": {
      "text/html": [
       "<pre style=\"white-space:pre;overflow-x:auto;line-height:normal;font-family:Menlo,'DejaVu Sans Mono',consolas,'Courier New',monospace\">pos - min: -106.11399841308594, max: 196.0030059814453, NaNs: 0\n",
       "</pre>\n"
      ],
      "text/plain": [
       "pos - min: -106.11399841308594, max: 196.0030059814453, NaNs: 0\n"
      ]
     },
     "metadata": {},
     "output_type": "display_data"
    },
    {
     "data": {
      "text/html": [
       "<pre style=\"white-space:pre;overflow-x:auto;line-height:normal;font-family:Menlo,'DejaVu Sans Mono',consolas,'Courier New',monospace\">x - min: -3.7714219093322754, max: 3.208550453186035, NaNs: 0\n",
       "</pre>\n"
      ],
      "text/plain": [
       "x - min: -3.7714219093322754, max: 3.208550453186035, NaNs: 0\n"
      ]
     },
     "metadata": {},
     "output_type": "display_data"
    },
    {
     "data": {
      "text/html": [
       "<pre style=\"white-space:pre;overflow-x:auto;line-height:normal;font-family:Menlo,'DejaVu Sans Mono',consolas,'Courier New',monospace\">pos_emb - min: -0.9999998211860657, max: 0.9999999403953552, NaNs: 0\n",
       "</pre>\n"
      ],
      "text/plain": [
       "pos_emb - min: -0.9999998211860657, max: 0.9999999403953552, NaNs: 0\n"
      ]
     },
     "metadata": {},
     "output_type": "display_data"
    },
    {
     "data": {
      "text/html": [
       "<pre style=\"white-space:pre;overflow-x:auto;line-height:normal;font-family:Menlo,'DejaVu Sans Mono',consolas,'Courier New',monospace\">edge_index tensor[2, 142000] i64 n=284000 (2.2Mb) x∈[0, 8874] μ=4.437e+03 σ=2.562e+03 cuda:0\n",
       "</pre>\n"
      ],
      "text/plain": [
       "edge_index tensor[2, 142000] i64 n=284000 (2.2Mb) x∈[0, 8874] μ=4.437e+03 σ=2.562e+03 cuda:0\n"
      ]
     },
     "metadata": {},
     "output_type": "display_data"
    },
    {
     "data": {
      "text/html": [
       "<pre style=\"white-space:pre;overflow-x:auto;line-height:normal;font-family:Menlo,'DejaVu Sans Mono',consolas,'Courier New',monospace\">j: tensor[142000] i64 1.1Mb x∈[0, 8874] μ=4.436e+03 σ=2.561e+03 cuda:0\n",
       "</pre>\n"
      ],
      "text/plain": [
       "j: tensor[142000] i64 1.1Mb x∈[0, 8874] μ=4.436e+03 σ=2.561e+03 cuda:0\n"
      ]
     },
     "metadata": {},
     "output_type": "display_data"
    },
    {
     "data": {
      "text/html": [
       "<pre style=\"white-space:pre;overflow-x:auto;line-height:normal;font-family:Menlo,'DejaVu Sans Mono',consolas,'Courier New',monospace\">i: tensor[142000] i64 1.1Mb x∈[0, 8874] μ=4.437e+03 σ=2.562e+03 cuda:0\n",
       "</pre>\n"
      ],
      "text/plain": [
       "i: tensor[142000] i64 1.1Mb x∈[0, 8874] μ=4.437e+03 σ=2.562e+03 cuda:0\n"
      ]
     },
     "metadata": {},
     "output_type": "display_data"
    },
    {
     "data": {
      "text/html": [
       "<pre style=\"white-space:pre;overflow-x:auto;line-height:normal;font-family:Menlo,'DejaVu Sans Mono',consolas,'Courier New',monospace\">False\n",
       "</pre>\n"
      ],
      "text/plain": [
       "False\n"
      ]
     },
     "metadata": {},
     "output_type": "display_data"
    },
    {
     "data": {
      "text/html": [
       "<pre style=\"white-space:pre;overflow-x:auto;line-height:normal;font-family:Menlo,'DejaVu Sans Mono',consolas,'Courier New',monospace\">dist - min: 2.819802761077881, max: 23.220792770385742, NaNs: 0\n",
       "</pre>\n"
      ],
      "text/plain": [
       "dist - min: 2.819802761077881, max: 23.220792770385742, NaNs: 0\n"
      ]
     },
     "metadata": {},
     "output_type": "display_data"
    },
    {
     "data": {
      "text/html": [
       "<pre style=\"white-space:pre;overflow-x:auto;line-height:normal;font-family:Menlo,'DejaVu Sans Mono',consolas,'Courier New',monospace\">theta - min: 0.0, max: 3.1364307403564453, NaNs: 0\n",
       "</pre>\n"
      ],
      "text/plain": [
       "theta - min: 0.0, max: 3.1364307403564453, NaNs: 0\n"
      ]
     },
     "metadata": {},
     "output_type": "display_data"
    },
    {
     "data": {
      "text/html": [
       "<pre style=\"white-space:pre;overflow-x:auto;line-height:normal;font-family:Menlo,'DejaVu Sans Mono',consolas,'Courier New',monospace\">phi - min: -3.141479015350342, max: 3.141573905944824, NaNs: 0\n",
       "</pre>\n"
      ],
      "text/plain": [
       "phi - min: -3.141479015350342, max: 3.141573905944824, NaNs: 0\n"
      ]
     },
     "metadata": {},
     "output_type": "display_data"
    },
    {
     "data": {
      "text/html": [
       "<pre style=\"white-space:pre;overflow-x:auto;line-height:normal;font-family:Menlo,'DejaVu Sans Mono',consolas,'Courier New',monospace\">feature0 - min: -2.36799955368042, max: 2.5087296962738037, NaNs: 0\n",
       "</pre>\n"
      ],
      "text/plain": [
       "feature0 - min: -2.36799955368042, max: 2.5087296962738037, NaNs: 0\n"
      ]
     },
     "metadata": {},
     "output_type": "display_data"
    },
    {
     "data": {
      "text/html": [
       "<pre style=\"white-space:pre;overflow-x:auto;line-height:normal;font-family:Menlo,'DejaVu Sans Mono',consolas,'Courier New',monospace\">feature1 - min: -2.3312206268310547, max: 2.508624315261841, NaNs: 0\n",
       "</pre>\n"
      ],
      "text/plain": [
       "feature1 - min: -2.3312206268310547, max: 2.508624315261841, NaNs: 0\n"
      ]
     },
     "metadata": {},
     "output_type": "display_data"
    },
    {
     "data": {
      "text/html": [
       "<pre style=\"white-space:pre;overflow-x:auto;line-height:normal;font-family:Menlo,'DejaVu Sans Mono',consolas,'Courier New',monospace\">interaction_block - min: -0.026763176545500755, max: 0.024192597717046738, NaNs: 0\n",
       "</pre>\n"
      ],
      "text/plain": [
       "interaction_block - min: -0.026763176545500755, max: 0.024192597717046738, NaNs: 0\n"
      ]
     },
     "metadata": {},
     "output_type": "display_data"
    },
    {
     "data": {
      "text/html": [
       "<pre style=\"white-space:pre;overflow-x:auto;line-height:normal;font-family:Menlo,'DejaVu Sans Mono',consolas,'Courier New',monospace\">y - min: 0.0, max: 13.60586166381836, NaNs: 0\n",
       "</pre>\n"
      ],
      "text/plain": [
       "y - min: 0.0, max: 13.60586166381836, NaNs: 0\n"
      ]
     },
     "metadata": {},
     "output_type": "display_data"
    },
    {
     "data": {
      "text/html": [
       "<pre style=\"white-space:pre;overflow-x:auto;line-height:normal;font-family:Menlo,'DejaVu Sans Mono',consolas,'Courier New',monospace\">lin_out - min: -4.919397354125977, max: 3.9303340911865234, NaNs: 0\n",
       "</pre>\n"
      ],
      "text/plain": [
       "lin_out - min: -4.919397354125977, max: 3.9303340911865234, NaNs: 0\n"
      ]
     },
     "metadata": {},
     "output_type": "display_data"
    },
    {
     "data": {
      "text/html": [
       "<pre style=\"white-space:pre;overflow-x:auto;line-height:normal;font-family:Menlo,'DejaVu Sans Mono',consolas,'Courier New',monospace\">===== New ========================\n",
       "</pre>\n"
      ],
      "text/plain": [
       "===== New ========================\n"
      ]
     },
     "metadata": {},
     "output_type": "display_data"
    },
    {
     "data": {
      "text/html": [
       "<pre style=\"white-space:pre;overflow-x:auto;line-height:normal;font-family:Menlo,'DejaVu Sans Mono',consolas,'Courier New',monospace\">DataProteinBatch(fill_value=1e-05, atom_list=[37], coords=[7636, 37, 3], residues=[32], id=[32], residue_id=[32], \n",
       "residue_type=[7636], chains=[7636], graph_y=[32], x=[7636, 23], amino_acid_one_hot=[7636, 23], seq_pos=[7636, 1], \n",
       "batch=[7636], ptr=[33], pos=[7636, 3], edge_index=[2, 122176], edge_type=[1, 122176], num_relation=1, \n",
       "edge_attr=[122176, 1])\n",
       "</pre>\n"
      ],
      "text/plain": [
       "DataProteinBatch(fill_value=1e-05, atom_list=[37], coords=[7636, 37, 3], residues=[32], id=[32], residue_id=[32], \n",
       "residue_type=[7636], chains=[7636], graph_y=[32], x=[7636, 23], amino_acid_one_hot=[7636, 23], seq_pos=[7636, 1], \n",
       "batch=[7636], ptr=[33], pos=[7636, 3], edge_index=[2, 122176], edge_type=[1, 122176], num_relation=1, \n",
       "edge_attr=[122176, 1])\n"
      ]
     },
     "metadata": {},
     "output_type": "display_data"
    },
    {
     "data": {
      "text/html": [
       "<pre style=\"white-space:pre;overflow-x:auto;line-height:normal;font-family:Menlo,'DejaVu Sans Mono',consolas,'Courier New',monospace\">z - min: 0, max: 22, NaNs: 0\n",
       "</pre>\n"
      ],
      "text/plain": [
       "z - min: 0, max: 22, NaNs: 0\n"
      ]
     },
     "metadata": {},
     "output_type": "display_data"
    },
    {
     "data": {
      "text/html": [
       "<pre style=\"white-space:pre;overflow-x:auto;line-height:normal;font-family:Menlo,'DejaVu Sans Mono',consolas,'Courier New',monospace\">pos - min: -147.6439971923828, max: 146.91299438476562, NaNs: 0\n",
       "</pre>\n"
      ],
      "text/plain": [
       "pos - min: -147.6439971923828, max: 146.91299438476562, NaNs: 0\n"
      ]
     },
     "metadata": {},
     "output_type": "display_data"
    },
    {
     "data": {
      "text/html": [
       "<pre style=\"white-space:pre;overflow-x:auto;line-height:normal;font-family:Menlo,'DejaVu Sans Mono',consolas,'Courier New',monospace\">x - min: -3.7712674140930176, max: 3.208332061767578, NaNs: 0\n",
       "</pre>\n"
      ],
      "text/plain": [
       "x - min: -3.7712674140930176, max: 3.208332061767578, NaNs: 0\n"
      ]
     },
     "metadata": {},
     "output_type": "display_data"
    },
    {
     "data": {
      "text/html": [
       "<pre style=\"white-space:pre;overflow-x:auto;line-height:normal;font-family:Menlo,'DejaVu Sans Mono',consolas,'Courier New',monospace\">pos_emb - min: -0.9999998211860657, max: 0.9999999403953552, NaNs: 0\n",
       "</pre>\n"
      ],
      "text/plain": [
       "pos_emb - min: -0.9999998211860657, max: 0.9999999403953552, NaNs: 0\n"
      ]
     },
     "metadata": {},
     "output_type": "display_data"
    },
    {
     "data": {
      "text/html": [
       "<pre style=\"white-space:pre;overflow-x:auto;line-height:normal;font-family:Menlo,'DejaVu Sans Mono',consolas,'Courier New',monospace\">edge_index tensor[2, 122176] i64 n=244352 (1.9Mb) x∈[0, 7635] μ=3.817e+03 σ=2.204e+03 cuda:0\n",
       "</pre>\n"
      ],
      "text/plain": [
       "edge_index tensor[2, 122176] i64 n=244352 (1.9Mb) x∈[0, 7635] μ=3.817e+03 σ=2.204e+03 cuda:0\n"
      ]
     },
     "metadata": {},
     "output_type": "display_data"
    },
    {
     "data": {
      "text/html": [
       "<pre style=\"white-space:pre;overflow-x:auto;line-height:normal;font-family:Menlo,'DejaVu Sans Mono',consolas,'Courier New',monospace\">j: tensor[122176] i64 0.9Mb x∈[0, 7635] μ=3.817e+03 σ=2.204e+03 cuda:0\n",
       "</pre>\n"
      ],
      "text/plain": [
       "j: tensor[122176] i64 0.9Mb x∈[0, 7635] μ=3.817e+03 σ=2.204e+03 cuda:0\n"
      ]
     },
     "metadata": {},
     "output_type": "display_data"
    },
    {
     "data": {
      "text/html": [
       "<pre style=\"white-space:pre;overflow-x:auto;line-height:normal;font-family:Menlo,'DejaVu Sans Mono',consolas,'Courier New',monospace\">i: tensor[122176] i64 0.9Mb x∈[0, 7635] μ=3.818e+03 σ=2.204e+03 cuda:0\n",
       "</pre>\n"
      ],
      "text/plain": [
       "i: tensor[122176] i64 0.9Mb x∈[0, 7635] μ=3.818e+03 σ=2.204e+03 cuda:0\n"
      ]
     },
     "metadata": {},
     "output_type": "display_data"
    },
    {
     "data": {
      "text/html": [
       "<pre style=\"white-space:pre;overflow-x:auto;line-height:normal;font-family:Menlo,'DejaVu Sans Mono',consolas,'Courier New',monospace\">False\n",
       "</pre>\n"
      ],
      "text/plain": [
       "False\n"
      ]
     },
     "metadata": {},
     "output_type": "display_data"
    },
    {
     "data": {
      "text/html": [
       "<pre style=\"white-space:pre;overflow-x:auto;line-height:normal;font-family:Menlo,'DejaVu Sans Mono',consolas,'Courier New',monospace\">dist - min: 2.8741071224212646, max: 25.574913024902344, NaNs: 0\n",
       "</pre>\n"
      ],
      "text/plain": [
       "dist - min: 2.8741071224212646, max: 25.574913024902344, NaNs: 0\n"
      ]
     },
     "metadata": {},
     "output_type": "display_data"
    },
    {
     "data": {
      "text/html": [
       "<pre style=\"white-space:pre;overflow-x:auto;line-height:normal;font-family:Menlo,'DejaVu Sans Mono',consolas,'Courier New',monospace\">theta - min: 0.0, max: 3.1346142292022705, NaNs: 0\n",
       "</pre>\n"
      ],
      "text/plain": [
       "theta - min: 0.0, max: 3.1346142292022705, NaNs: 0\n"
      ]
     },
     "metadata": {},
     "output_type": "display_data"
    },
    {
     "data": {
      "text/html": [
       "<pre style=\"white-space:pre;overflow-x:auto;line-height:normal;font-family:Menlo,'DejaVu Sans Mono',consolas,'Courier New',monospace\">phi - min: -3.141549825668335, max: 3.1413638591766357, NaNs: 0\n",
       "</pre>\n"
      ],
      "text/plain": [
       "phi - min: -3.141549825668335, max: 3.1413638591766357, NaNs: 0\n"
      ]
     },
     "metadata": {},
     "output_type": "display_data"
    },
    {
     "data": {
      "text/html": [
       "<pre style=\"white-space:pre;overflow-x:auto;line-height:normal;font-family:Menlo,'DejaVu Sans Mono',consolas,'Courier New',monospace\">feature0 - min: -2.3659024238586426, max: 2.420081615447998, NaNs: 0\n",
       "</pre>\n"
      ],
      "text/plain": [
       "feature0 - min: -2.3659024238586426, max: 2.420081615447998, NaNs: 0\n"
      ]
     },
     "metadata": {},
     "output_type": "display_data"
    },
    {
     "data": {
      "text/html": [
       "<pre style=\"white-space:pre;overflow-x:auto;line-height:normal;font-family:Menlo,'DejaVu Sans Mono',consolas,'Courier New',monospace\">feature1 - min: -2.357762575149536, max: 2.400379180908203, NaNs: 0\n",
       "</pre>\n"
      ],
      "text/plain": [
       "feature1 - min: -2.357762575149536, max: 2.400379180908203, NaNs: 0\n"
      ]
     },
     "metadata": {},
     "output_type": "display_data"
    },
    {
     "data": {
      "text/html": [
       "<pre style=\"white-space:pre;overflow-x:auto;line-height:normal;font-family:Menlo,'DejaVu Sans Mono',consolas,'Courier New',monospace\">interaction_block - min: -0.028344471007585526, max: 0.02582789584994316, NaNs: 0\n",
       "</pre>\n"
      ],
      "text/plain": [
       "interaction_block - min: -0.028344471007585526, max: 0.02582789584994316, NaNs: 0\n"
      ]
     },
     "metadata": {},
     "output_type": "display_data"
    },
    {
     "data": {
      "text/html": [
       "<pre style=\"white-space:pre;overflow-x:auto;line-height:normal;font-family:Menlo,'DejaVu Sans Mono',consolas,'Courier New',monospace\">y - min: 0.0, max: 13.379548072814941, NaNs: 0\n",
       "</pre>\n"
      ],
      "text/plain": [
       "y - min: 0.0, max: 13.379548072814941, NaNs: 0\n"
      ]
     },
     "metadata": {},
     "output_type": "display_data"
    },
    {
     "data": {
      "text/html": [
       "<pre style=\"white-space:pre;overflow-x:auto;line-height:normal;font-family:Menlo,'DejaVu Sans Mono',consolas,'Courier New',monospace\">lin_out - min: -4.544612884521484, max: 4.114816665649414, NaNs: 0\n",
       "</pre>\n"
      ],
      "text/plain": [
       "lin_out - min: -4.544612884521484, max: 4.114816665649414, NaNs: 0\n"
      ]
     },
     "metadata": {},
     "output_type": "display_data"
    }
   ],
   "source": [
    "from proteinworkshop.train import train_model\n",
    "\n",
    "train_model(cfg)"
   ]
  },
  {
   "cell_type": "markdown",
   "metadata": {},
   "source": [
    "### 4. Wrapping up\n",
    "\n",
    "Have any additional questions about using the components provided in the `ProteinWorkshop`? [Create a new issue](https://github.com/a-r-j/ProteinWorkshop/issues/new/choose) on our [GitHub repository](https://github.com/a-r-j/ProteinWorkshop). We would be happy to work with you to leverage the full power of the repository!"
   ]
  },
  {
   "cell_type": "markdown",
   "metadata": {},
   "source": [
    "/home/yang/anaconda3/envs/3d/lib/python3.10/site-packages/lightning/pytorch/utilities/data.py"
   ]
  }
 ],
 "metadata": {
  "kernelspec": {
   "display_name": "Python 3",
   "language": "python",
   "name": "python3"
  },
  "language_info": {
   "codemirror_mode": {
    "name": "ipython",
    "version": 3
   },
   "file_extension": ".py",
   "mimetype": "text/x-python",
   "name": "python",
   "nbconvert_exporter": "python",
   "pygments_lexer": "ipython3",
   "version": "3.10.14"
  },
  "orig_nbformat": 4
 },
 "nbformat": 4,
 "nbformat_minor": 2
}
