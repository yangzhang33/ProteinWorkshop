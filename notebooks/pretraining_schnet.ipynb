{
 "cells": [
  {
   "cell_type": "markdown",
   "metadata": {},
   "source": [
    "# `ProteinWorkshop` Tutorial, Part 1 - Training a New Model\n",
    "![Models](../docs/source/_static/box_models.png)"
   ]
  },
  {
   "cell_type": "markdown",
   "metadata": {},
   "source": [
    "## Train a new model using the `ProteinWorkshop`"
   ]
  },
  {
   "cell_type": "code",
   "execution_count": 1,
   "metadata": {},
   "outputs": [],
   "source": [
    "%load_ext autoreload\n",
    "%autoreload 2\n",
    "# %load_ext blackcellmagic"
   ]
  },
  {
   "cell_type": "markdown",
   "metadata": {},
   "source": [
    "Welcome to the tutorial series for the `ProteinWorkshop`! \n",
    "\n",
    "In the `ProteinWorkshop`, we implement numerous [featurisation](https://www.proteins.sh/configs/features) schemes, [datasets](https://www.proteins.sh/configs/dataset) for [self-supervised pre-training](https://proteins.sh/quickstart_component/pretrain.html) and [downstream evaluation](https://proteins.sh/quickstart_component/downstream.html), [pre-training](https://proteins.sh/configs/task) tasks, and [auxiliary tasks](https://proteins.sh/configs/task.html#auxiliary-tasks).\n",
    "\n",
    "[Processed datasets](https://drive.google.com/drive/folders/18i8rLST6ZICTBu6Q67ClT0KqN9AHeqoW?usp=sharing) and [pre-trained weights](https://drive.google.com/drive/folders/1zK1r8FpmGaqV_QwUJuvDacwSL0RW-Vw9?usp=sharing) are made available. Downloading datasets is not required; upon first run all datasets will be downloaded and processed from their respective source.\n",
    "\n",
    "The `ProteinWorkshop` encompasses several models as well as pre-trained weights for them so that you can readily use them.\n",
    "\n",
    "In this tutorial, we show you how you can use what is already available in the protein workshop to train and use models for specific tasks. The `ProteinWorkshop` is structured as a very modular package; we will therefore talk about how to change the different parts of it, like the model, training task, dataset, featurization scheme, etc. in this tutorial. \n",
    "\n",
    "Besides using all the different options we provide, you can make use of the modular nature of the `ProteinWorkshop` to add your own models, datasets, featurization schemes, and training tasks. We will show you how to do this in the next tutorials."
   ]
  },
  {
   "cell_type": "markdown",
   "metadata": {},
   "source": [
    "To train a new model, you can follow the following 3-step procedure:\n",
    "\n",
    "1. Choose the parts you want to consider: model, training task, dataset, featurization scheme and auxiliary tasks\n",
    "2. Validate the designed training config\n",
    "3. Use the designed config to train a new model"
   ]
  },
  {
   "cell_type": "markdown",
   "metadata": {},
   "source": [
    "### 1. Choose the parts you want to consider: model, training task, dataset, featurization scheme and auxiliary tasks\n",
    "\n",
    "You can switch out any of these for another available option by replacing the corresponding argument's value in `overrides`:\n",
    "\n",
    "`cfg = hydra.compose(\"template\", overrides=[\"encoder=schnet\", \"task=inverse_folding\", \"dataset=afdb_swissprot_v4\", \"features=ca_base\", \"+aux_task=none\"], return_hydra_config=True)`"
   ]
  },
  {
   "cell_type": "code",
   "execution_count": 2,
   "metadata": {},
   "outputs": [],
   "source": [
    "import os\n",
    "\n",
    "os.environ['HYDRA_FULL_ERROR'] = '1'"
   ]
  },
  {
   "cell_type": "code",
   "execution_count": 3,
   "metadata": {},
   "outputs": [
    {
     "data": {
      "text/html": [
       "<pre style=\"white-space:pre;overflow-x:auto;line-height:normal;font-family:Menlo,'DejaVu Sans Mono',consolas,'Courier New',monospace\"><span style=\"color: #7fbfbf; text-decoration-color: #7fbfbf\">[07/30/24 02:26:31] </span><span style=\"color: #008000; text-decoration-color: #008000\">DEBUG   </span> No `.env` file found in project root. Checking for env vars<span style=\"color: #808000; text-decoration-color: #808000\">...</span>         <a href=\"file:///home/zhang/Projects/3d/ProteinWorkshop/proteinworkshop/constants.py\" target=\"_blank\"><span style=\"color: #7f7f7f; text-decoration-color: #7f7f7f\">constants.py</span></a><span style=\"color: #7f7f7f; text-decoration-color: #7f7f7f\">:</span><a href=\"file:///home/zhang/Projects/3d/ProteinWorkshop/proteinworkshop/constants.py#22\" target=\"_blank\"><span style=\"color: #7f7f7f; text-decoration-color: #7f7f7f\">22</span></a>\n",
       "</pre>\n"
      ],
      "text/plain": [
       "\u001b[2;36m[07/30/24 02:26:31]\u001b[0m\u001b[2;36m \u001b[0m\u001b[32mDEBUG   \u001b[0m No `.env` file found in project root. Checking for env vars\u001b[33m...\u001b[0m         \u001b]8;id=845799;file:///home/zhang/Projects/3d/ProteinWorkshop/proteinworkshop/constants.py\u001b\\\u001b[2mconstants.py\u001b[0m\u001b]8;;\u001b\\\u001b[2m:\u001b[0m\u001b]8;id=352948;file:///home/zhang/Projects/3d/ProteinWorkshop/proteinworkshop/constants.py#22\u001b\\\u001b[2m22\u001b[0m\u001b]8;;\u001b\\\n"
      ]
     },
     "metadata": {},
     "output_type": "display_data"
    },
    {
     "data": {
      "text/html": [
       "<pre style=\"white-space:pre;overflow-x:auto;line-height:normal;font-family:Menlo,'DejaVu Sans Mono',consolas,'Courier New',monospace\"><span style=\"color: #7fbfbf; text-decoration-color: #7fbfbf\">                    </span><span style=\"color: #008000; text-decoration-color: #008000\">DEBUG   </span> No env var `DATA_PATH` found. Setting default<span style=\"color: #808000; text-decoration-color: #808000\">...</span>                       <a href=\"file:///home/zhang/Projects/3d/ProteinWorkshop/proteinworkshop/constants.py\" target=\"_blank\"><span style=\"color: #7f7f7f; text-decoration-color: #7f7f7f\">constants.py</span></a><span style=\"color: #7f7f7f; text-decoration-color: #7f7f7f\">:</span><a href=\"file:///home/zhang/Projects/3d/ProteinWorkshop/proteinworkshop/constants.py#28\" target=\"_blank\"><span style=\"color: #7f7f7f; text-decoration-color: #7f7f7f\">28</span></a>\n",
       "</pre>\n"
      ],
      "text/plain": [
       "\u001b[2;36m                   \u001b[0m\u001b[2;36m \u001b[0m\u001b[32mDEBUG   \u001b[0m No env var `DATA_PATH` found. Setting default\u001b[33m...\u001b[0m                       \u001b]8;id=625539;file:///home/zhang/Projects/3d/ProteinWorkshop/proteinworkshop/constants.py\u001b\\\u001b[2mconstants.py\u001b[0m\u001b]8;;\u001b\\\u001b[2m:\u001b[0m\u001b]8;id=610234;file:///home/zhang/Projects/3d/ProteinWorkshop/proteinworkshop/constants.py#28\u001b\\\u001b[2m28\u001b[0m\u001b]8;;\u001b\\\n"
      ]
     },
     "metadata": {},
     "output_type": "display_data"
    },
    {
     "data": {
      "text/html": [
       "<pre style=\"white-space:pre;overflow-x:auto;line-height:normal;font-family:Menlo,'DejaVu Sans Mono',consolas,'Courier New',monospace\"><span style=\"color: #7fbfbf; text-decoration-color: #7fbfbf\">                    </span><span style=\"color: #000080; text-decoration-color: #000080\">INFO    </span> DATA_PATH:                                                             <a href=\"file:///home/zhang/Projects/3d/ProteinWorkshop/proteinworkshop/constants.py\" target=\"_blank\"><span style=\"color: #7f7f7f; text-decoration-color: #7f7f7f\">constants.py</span></a><span style=\"color: #7f7f7f; text-decoration-color: #7f7f7f\">:</span><a href=\"file:///home/zhang/Projects/3d/ProteinWorkshop/proteinworkshop/constants.py#39\" target=\"_blank\"><span style=\"color: #7f7f7f; text-decoration-color: #7f7f7f\">39</span></a>\n",
       "<span style=\"color: #7fbfbf; text-decoration-color: #7fbfbf\">                    </span>         <span style=\"color: #800080; text-decoration-color: #800080\">/home/zhang/Projects/3d/ProteinWorkshop/proteinworkshop/</span><span style=\"color: #ff00ff; text-decoration-color: #ff00ff\">data</span>           <span style=\"color: #7f7f7f; text-decoration-color: #7f7f7f\">               </span>\n",
       "</pre>\n"
      ],
      "text/plain": [
       "\u001b[2;36m                   \u001b[0m\u001b[2;36m \u001b[0m\u001b[34mINFO    \u001b[0m DATA_PATH:                                                             \u001b]8;id=538225;file:///home/zhang/Projects/3d/ProteinWorkshop/proteinworkshop/constants.py\u001b\\\u001b[2mconstants.py\u001b[0m\u001b]8;;\u001b\\\u001b[2m:\u001b[0m\u001b]8;id=12623;file:///home/zhang/Projects/3d/ProteinWorkshop/proteinworkshop/constants.py#39\u001b\\\u001b[2m39\u001b[0m\u001b]8;;\u001b\\\n",
       "\u001b[2;36m                    \u001b[0m         \u001b[35m/home/zhang/Projects/3d/ProteinWorkshop/proteinworkshop/\u001b[0m\u001b[95mdata\u001b[0m           \u001b[2m               \u001b[0m\n"
      ]
     },
     "metadata": {},
     "output_type": "display_data"
    },
    {
     "data": {
      "text/html": [
       "<pre style=\"white-space:pre;overflow-x:auto;line-height:normal;font-family:Menlo,'DejaVu Sans Mono',consolas,'Courier New',monospace\"><span style=\"color: #7fbfbf; text-decoration-color: #7fbfbf\">[07/30/24 02:26:33] </span><span style=\"color: #000080; text-decoration-color: #000080\">INFO    </span> Hydra initialised at                                                    <a href=\"file:///home/zhang/Projects/3d/ProteinWorkshop/proteinworkshop/utils/notebook.py\" target=\"_blank\"><span style=\"color: #7f7f7f; text-decoration-color: #7f7f7f\">notebook.py</span></a><span style=\"color: #7f7f7f; text-decoration-color: #7f7f7f\">:</span><a href=\"file:///home/zhang/Projects/3d/ProteinWorkshop/proteinworkshop/utils/notebook.py#53\" target=\"_blank\"><span style=\"color: #7f7f7f; text-decoration-color: #7f7f7f\">53</span></a>\n",
       "<span style=\"color: #7fbfbf; text-decoration-color: #7fbfbf\">                    </span>         <span style=\"color: #800080; text-decoration-color: #800080\">/home/zhang/Projects/3d/ProteinWorkshop/proteinworkshop/</span><span style=\"color: #ff00ff; text-decoration-color: #ff00ff\">config.</span>         <span style=\"color: #7f7f7f; text-decoration-color: #7f7f7f\">              </span>\n",
       "</pre>\n"
      ],
      "text/plain": [
       "\u001b[2;36m[07/30/24 02:26:33]\u001b[0m\u001b[2;36m \u001b[0m\u001b[34mINFO    \u001b[0m Hydra initialised at                                                    \u001b]8;id=955035;file:///home/zhang/Projects/3d/ProteinWorkshop/proteinworkshop/utils/notebook.py\u001b\\\u001b[2mnotebook.py\u001b[0m\u001b]8;;\u001b\\\u001b[2m:\u001b[0m\u001b]8;id=276806;file:///home/zhang/Projects/3d/ProteinWorkshop/proteinworkshop/utils/notebook.py#53\u001b\\\u001b[2m53\u001b[0m\u001b]8;;\u001b\\\n",
       "\u001b[2;36m                    \u001b[0m         \u001b[35m/home/zhang/Projects/3d/ProteinWorkshop/proteinworkshop/\u001b[0m\u001b[95mconfig.\u001b[0m         \u001b[2m              \u001b[0m\n"
      ]
     },
     "metadata": {},
     "output_type": "display_data"
    }
   ],
   "source": [
    "# Misc. tools\n",
    "import os\n",
    "\n",
    "# Hydra tools\n",
    "import hydra\n",
    "\n",
    "from hydra.compose import GlobalHydra\n",
    "from hydra.core.hydra_config import HydraConfig\n",
    "\n",
    "from proteinworkshop.constants import HYDRA_CONFIG_PATH\n",
    "from proteinworkshop.utils.notebook import init_hydra_singleton\n",
    "\n",
    "version_base = \"1.2\"  # Note: Need to update whenever Hydra is upgraded\n",
    "init_hydra_singleton(reload=True, version_base=version_base)\n",
    "\n",
    "path = HYDRA_CONFIG_PATH\n",
    "rel_path = os.path.relpath(path, start=\".\")\n",
    "# print(rel_path)\n",
    "GlobalHydra.instance().clear()\n",
    "hydra.initialize(rel_path, version_base=version_base)\n",
    "\n",
    "cfg = hydra.compose(\n",
    "    config_name=\"train\",\n",
    "    overrides=[\n",
    "        \"encoder=schnet\",\n",
    "        \"encoder.hidden_channels=512\", # Number of channels in the hidden layers\n",
    "        \"encoder.out_dim=32\", # Output dimension of the model\n",
    "        \"encoder.num_layers=6\", # Number of filters used in convolutional layers\n",
    "        \"encoder.num_filters=128\", # Number of convolutional layers in the model\n",
    "        \"encoder.num_gaussians=50\", # Number of Gaussian functions used for radial filters\n",
    "        \"encoder.cutoff=10.0\", # Cutoff distance for interactions\n",
    "        \"encoder.max_num_neighbors=32\", # Maximum number of neighboring atoms to consider\n",
    "        \"encoder.readout=add\", # Global pooling method to be used\n",
    "        \"encoder.dipole=False\",\n",
    "        \"encoder.mean=null\",\n",
    "        \"encoder.std=null\",\n",
    "        \"encoder.atomref=null\",\n",
    "        \"encoder.pretraining=True\",\n",
    "\n",
    "        # \"decoder.graph_label.dummy=True\",\n",
    "        \"decoder=subgraph_distances\", # here\n",
    "        \"decoder.subgraph_distances.hidden_channels=32\", # here\n",
    "\n",
    "        \"task=subgraph_distance_prediction\", # here\n",
    "        \"dataset=afdb_swissprot_v4\", # here\n",
    "        \"dataset.datamodule.batch_size=32\", # here\n",
    "        # \"dataset.datamodule.train_split=0.05\", # here\n",
    "        # \"dataset.datamodule.val_split=0.005\", # here\n",
    "        \"features=fe_subgraph_ca_angles_pos\",  # here\n",
    "        \"+aux_task=none\",\n",
    "        \n",
    "        \"trainer.max_epochs=10\",\n",
    "        \"optimiser=adam\",\n",
    "        \"optimiser.optimizer.lr=3e-4\",\n",
    "        \"callbacks.early_stopping.patience=10\", # to change, don't comment this\n",
    "        \"callbacks.model_checkpoint.save_top_k=-1\", # here\n",
    "        \"test=True\",\n",
    "        \"scheduler=linear_warmup_cosine_decay\", # to set parameters in yaml\n",
    "        # \"+ckpt_path=/home/zhang/Projects/3d/ProteinWorkshop/notebooks/outputs_schnet_pretrained_subgraph_ca_angles_pos_res/checkpoints/last.ckpt\", # continue training\n",
    "        # \"optimizer.weight_decay=0.5\"\n",
    "    ],\n",
    "    return_hydra_config=True,\n",
    ")\n",
    "\n",
    "# Note: Customize as needed e.g., when running a sweep\n",
    "cfg.hydra.job.num = 0\n",
    "cfg.hydra.job.id = 0\n",
    "cfg.hydra.hydra_help.hydra_help = False\n",
    "cfg.hydra.runtime.output_dir = \"outputs\"\n",
    "\n",
    "HydraConfig.instance().set_config(cfg)"
   ]
  },
  {
   "cell_type": "markdown",
   "metadata": {},
   "source": [
    "### 2. Validate the designed training config"
   ]
  },
  {
   "cell_type": "markdown",
   "metadata": {},
   "source": [
    "This is not strictly necessary, but it is a good idea to validate the config before training. This will check that all the arguments you have provided are valid and that the config is complete."
   ]
  },
  {
   "cell_type": "code",
   "execution_count": 4,
   "metadata": {},
   "outputs": [
    {
     "data": {
      "text/html": [
       "<pre style=\"white-space:pre;overflow-x:auto;line-height:normal;font-family:Menlo,'DejaVu Sans Mono',consolas,'Courier New',monospace\"><span style=\"color: #7fbfbf; text-decoration-color: #7fbfbf\">                    </span><span style=\"color: #008000; text-decoration-color: #008000\">DEBUG   </span> CUDA available: <span style=\"color: #00ff00; text-decoration-color: #00ff00; font-style: italic\">True</span>                                                     <a href=\"file:///home/zhang/Projects/3d/ProteinWorkshop/proteinworkshop/configs/config.py\" target=\"_blank\"><span style=\"color: #7f7f7f; text-decoration-color: #7f7f7f\">config.py</span></a><span style=\"color: #7f7f7f; text-decoration-color: #7f7f7f\">:</span><a href=\"file:///home/zhang/Projects/3d/ProteinWorkshop/proteinworkshop/configs/config.py#249\" target=\"_blank\"><span style=\"color: #7f7f7f; text-decoration-color: #7f7f7f\">249</span></a>\n",
       "</pre>\n"
      ],
      "text/plain": [
       "\u001b[2;36m                   \u001b[0m\u001b[2;36m \u001b[0m\u001b[32mDEBUG   \u001b[0m CUDA available: \u001b[3;92mTrue\u001b[0m                                                     \u001b]8;id=848650;file:///home/zhang/Projects/3d/ProteinWorkshop/proteinworkshop/configs/config.py\u001b\\\u001b[2mconfig.py\u001b[0m\u001b]8;;\u001b\\\u001b[2m:\u001b[0m\u001b]8;id=748517;file:///home/zhang/Projects/3d/ProteinWorkshop/proteinworkshop/configs/config.py#249\u001b\\\u001b[2m249\u001b[0m\u001b]8;;\u001b\\\n"
      ]
     },
     "metadata": {},
     "output_type": "display_data"
    },
    {
     "data": {
      "text/html": [
       "<pre style=\"white-space:pre;overflow-x:auto;line-height:normal;font-family:Menlo,'DejaVu Sans Mono',consolas,'Courier New',monospace\"><span style=\"color: #7fbfbf; text-decoration-color: #7fbfbf\">                    </span><span style=\"color: #008000; text-decoration-color: #008000\">DEBUG   </span> Requested GPUs: <span style=\"color: #008080; text-decoration-color: #008080; font-weight: bold\">1</span>.                                                       <a href=\"file:///home/zhang/Projects/3d/ProteinWorkshop/proteinworkshop/configs/config.py\" target=\"_blank\"><span style=\"color: #7f7f7f; text-decoration-color: #7f7f7f\">config.py</span></a><span style=\"color: #7f7f7f; text-decoration-color: #7f7f7f\">:</span><a href=\"file:///home/zhang/Projects/3d/ProteinWorkshop/proteinworkshop/configs/config.py#250\" target=\"_blank\"><span style=\"color: #7f7f7f; text-decoration-color: #7f7f7f\">250</span></a>\n",
       "</pre>\n"
      ],
      "text/plain": [
       "\u001b[2;36m                   \u001b[0m\u001b[2;36m \u001b[0m\u001b[32mDEBUG   \u001b[0m Requested GPUs: \u001b[1;36m1\u001b[0m.                                                       \u001b]8;id=51512;file:///home/zhang/Projects/3d/ProteinWorkshop/proteinworkshop/configs/config.py\u001b\\\u001b[2mconfig.py\u001b[0m\u001b]8;;\u001b\\\u001b[2m:\u001b[0m\u001b]8;id=267372;file:///home/zhang/Projects/3d/ProteinWorkshop/proteinworkshop/configs/config.py#250\u001b\\\u001b[2m250\u001b[0m\u001b]8;;\u001b\\\n"
      ]
     },
     "metadata": {},
     "output_type": "display_data"
    },
    {
     "data": {
      "text/html": [
       "<pre style=\"white-space:pre;overflow-x:auto;line-height:normal;font-family:Menlo,'DejaVu Sans Mono',consolas,'Courier New',monospace\"><span style=\"color: #7fbfbf; text-decoration-color: #7fbfbf\">                    </span><span style=\"color: #008000; text-decoration-color: #008000\">DEBUG   </span> GPU count set to: <span style=\"color: #008080; text-decoration-color: #008080; font-weight: bold\">1</span>                                                      <a href=\"file:///home/zhang/Projects/3d/ProteinWorkshop/proteinworkshop/configs/config.py\" target=\"_blank\"><span style=\"color: #7f7f7f; text-decoration-color: #7f7f7f\">config.py</span></a><span style=\"color: #7f7f7f; text-decoration-color: #7f7f7f\">:</span><a href=\"file:///home/zhang/Projects/3d/ProteinWorkshop/proteinworkshop/configs/config.py#255\" target=\"_blank\"><span style=\"color: #7f7f7f; text-decoration-color: #7f7f7f\">255</span></a>\n",
       "</pre>\n"
      ],
      "text/plain": [
       "\u001b[2;36m                   \u001b[0m\u001b[2;36m \u001b[0m\u001b[32mDEBUG   \u001b[0m GPU count set to: \u001b[1;36m1\u001b[0m                                                      \u001b]8;id=241363;file:///home/zhang/Projects/3d/ProteinWorkshop/proteinworkshop/configs/config.py\u001b\\\u001b[2mconfig.py\u001b[0m\u001b]8;;\u001b\\\u001b[2m:\u001b[0m\u001b]8;id=599256;file:///home/zhang/Projects/3d/ProteinWorkshop/proteinworkshop/configs/config.py#255\u001b\\\u001b[2m255\u001b[0m\u001b]8;;\u001b\\\n"
      ]
     },
     "metadata": {},
     "output_type": "display_data"
    },
    {
     "data": {
      "text/html": [
       "<pre style=\"white-space:pre;overflow-x:auto;line-height:normal;font-family:Menlo,'DejaVu Sans Mono',consolas,'Courier New',monospace\"><span style=\"color: #7fbfbf; text-decoration-color: #7fbfbf\">                    </span><span style=\"color: #800000; text-decoration-color: #800000\">WARNING </span> You are not using early stopping.                                        <a href=\"file:///home/zhang/Projects/3d/ProteinWorkshop/proteinworkshop/configs/config.py\" target=\"_blank\"><span style=\"color: #7f7f7f; text-decoration-color: #7f7f7f\">config.py</span></a><span style=\"color: #7f7f7f; text-decoration-color: #7f7f7f\">:</span><a href=\"file:///home/zhang/Projects/3d/ProteinWorkshop/proteinworkshop/configs/config.py#165\" target=\"_blank\"><span style=\"color: #7f7f7f; text-decoration-color: #7f7f7f\">165</span></a>\n",
       "</pre>\n"
      ],
      "text/plain": [
       "\u001b[2;36m                   \u001b[0m\u001b[2;36m \u001b[0m\u001b[31mWARNING \u001b[0m You are not using early stopping.                                        \u001b]8;id=456003;file:///home/zhang/Projects/3d/ProteinWorkshop/proteinworkshop/configs/config.py\u001b\\\u001b[2mconfig.py\u001b[0m\u001b]8;;\u001b\\\u001b[2m:\u001b[0m\u001b]8;id=431368;file:///home/zhang/Projects/3d/ProteinWorkshop/proteinworkshop/configs/config.py#165\u001b\\\u001b[2m165\u001b[0m\u001b]8;;\u001b\\\n"
      ]
     },
     "metadata": {},
     "output_type": "display_data"
    }
   ],
   "source": [
    "from proteinworkshop.configs import config\n",
    "\n",
    "cfg = config.validate_config(cfg)"
   ]
  },
  {
   "cell_type": "code",
   "execution_count": 5,
   "metadata": {},
   "outputs": [
    {
     "name": "stdout",
     "output_type": "stream",
     "text": [
      "dict_keys(['hydra', 'env', 'dataset', 'features', 'encoder', 'decoder', 'transforms', 'callbacks', 'optimiser', 'scheduler', 'trainer', 'extras', 'metrics', 'task', 'logger', 'name', 'seed', 'num_workers', 'task_name', 'ckpt_path_test', 'test', 'aux_task'])\n",
      "hydra\n",
      "{'run': {'dir': '${env.paths.log_dir}/${task_name}/runs/${now:%Y-%m-%d}_${now:%H-%M-%S}'}, 'sweep': {'dir': '${env.paths.log_dir}/${task_name}/multiruns/${now:%Y-%m-%d}_${now:%H-%M-%S}', 'subdir': '${hydra.job.num}'}, 'launcher': {'_target_': 'hydra._internal.core_plugins.basic_launcher.BasicLauncher'}, 'sweeper': {'_target_': 'hydra._internal.core_plugins.basic_sweeper.BasicSweeper', 'max_batch_size': None, 'params': None}, 'help': {'app_name': '${hydra.job.name}', 'header': '${hydra.help.app_name} is powered by Hydra.\\n', 'footer': 'Powered by Hydra (https://hydra.cc)\\nUse --hydra-help to view Hydra specific help\\n', 'template': '${hydra.help.header}\\n== Configuration groups ==\\nCompose your configuration from those groups (group=option)\\n\\n$APP_CONFIG_GROUPS\\n\\n== Config ==\\nOverride anything in the config (foo.bar=value)\\n\\n$CONFIG\\n\\n${hydra.help.footer}\\n'}, 'hydra_help': {'template': \"Hydra (${hydra.runtime.version})\\nSee https://hydra.cc for more info.\\n\\n== Flags ==\\n$FLAGS_HELP\\n\\n== Configuration groups ==\\nCompose your configuration from those groups (For example, append hydra/job_logging=disabled to command line)\\n\\n$HYDRA_CONFIG_GROUPS\\n\\nUse '--cfg hydra' to Show the Hydra config.\\n\", 'hydra_help': 'False'}, 'hydra_logging': {'version': 1, 'formatters': {'colorlog': {'()': 'colorlog.ColoredFormatter', 'format': '[%(cyan)s%(asctime)s%(reset)s][%(purple)sHYDRA%(reset)s] %(message)s'}}, 'handlers': {'console': {'class': 'logging.StreamHandler', 'formatter': 'colorlog', 'stream': 'ext://sys.stdout'}}, 'root': {'level': 'INFO', 'handlers': ['console']}, 'disable_existing_loggers': False}, 'job_logging': {'version': 1, 'formatters': {'simple': {'format': '[%(asctime)s][%(name)s][%(levelname)s] - %(message)s'}, 'colorlog': {'()': 'colorlog.ColoredFormatter', 'format': '[%(cyan)s%(asctime)s%(reset)s][%(blue)s%(name)s%(reset)s][%(log_color)s%(levelname)s%(reset)s] - %(message)s', 'log_colors': {'DEBUG': 'purple', 'INFO': 'green', 'WARNING': 'yellow', 'ERROR': 'red', 'CRITICAL': 'red'}}}, 'handlers': {'console': {'class': 'logging.StreamHandler', 'formatter': 'colorlog', 'stream': 'ext://sys.stdout'}, 'file': {'class': 'logging.FileHandler', 'formatter': 'simple', 'filename': '${hydra.runtime.output_dir}/${hydra.job.name}.log'}}, 'root': {'level': 'INFO', 'handlers': ['console', 'file']}, 'disable_existing_loggers': False}, 'env': {}, 'mode': None, 'searchpath': [], 'callbacks': {}, 'output_subdir': '.hydra', 'overrides': {'hydra': [], 'task': ['encoder=schnet', 'encoder.hidden_channels=512', 'encoder.out_dim=32', 'encoder.num_layers=6', 'encoder.num_filters=128', 'encoder.num_gaussians=50', 'encoder.cutoff=10.0', 'encoder.max_num_neighbors=32', 'encoder.readout=add', 'encoder.dipole=False', 'encoder.mean=null', 'encoder.std=null', 'encoder.atomref=null', 'encoder.pretraining=True', 'decoder=subgraph_distances', 'decoder.subgraph_distances.hidden_channels=32', 'task=subgraph_distance_prediction', 'dataset=afdb_swissprot_v4', 'dataset.datamodule.batch_size=32', 'features=fe_subgraph_ca_angles_pos', '+aux_task=none', 'trainer.max_epochs=10', 'optimiser=adam', 'optimiser.optimizer.lr=3e-4', 'callbacks.early_stopping.patience=10', 'callbacks.model_checkpoint.save_top_k=-1', 'test=True', 'scheduler=linear_warmup_cosine_decay']}, 'job': {'name': 'notebook', 'chdir': None, 'override_dirname': '+aux_task=none,callbacks.early_stopping.patience=10,callbacks.model_checkpoint.save_top_k=-1,dataset.datamodule.batch_size=32,dataset=afdb_swissprot_v4,decoder.subgraph_distances.hidden_channels=32,decoder=subgraph_distances,encoder.atomref=null,encoder.cutoff=10.0,encoder.dipole=False,encoder.hidden_channels=512,encoder.max_num_neighbors=32,encoder.mean=null,encoder.num_filters=128,encoder.num_gaussians=50,encoder.num_layers=6,encoder.out_dim=32,encoder.pretraining=True,encoder.readout=add,encoder.std=null,encoder=schnet,features=fe_subgraph_ca_angles_pos,optimiser.optimizer.lr=3e-4,optimiser=adam,scheduler=linear_warmup_cosine_decay,task=subgraph_distance_prediction,test=True,trainer.max_epochs=10', 'id': '0', 'num': 0, 'config_name': 'train', 'env_set': {}, 'env_copy': [], 'config': {'override_dirname': {'kv_sep': '=', 'item_sep': ',', 'exclude_keys': []}}}, 'runtime': {'version': '1.3.2', 'version_base': '1.2', 'cwd': '/home/zhang/Projects/3d/ProteinWorkshop/notebooks', 'config_sources': [{'path': 'hydra.conf', 'schema': 'pkg', 'provider': 'hydra'}, {'path': '/home/zhang/Projects/3d/ProteinWorkshop/proteinworkshop/config', 'schema': 'file', 'provider': 'main'}, {'path': 'hydra_plugins.hydra_colorlog.conf', 'schema': 'pkg', 'provider': 'hydra-colorlog'}, {'path': '', 'schema': 'structured', 'provider': 'schema'}], 'output_dir': 'outputs', 'choices': {'aux_task': 'none', 'debug': None, 'logger': 'csv', 'task': 'subgraph_distance_prediction', 'hydra': 'default', 'extras': 'default', 'trainer': 'gpu', 'scheduler': 'linear_warmup_cosine_decay', 'optimiser': 'adam', 'callbacks': 'default', 'decoder': 'subgraph_distances', 'encoder': 'schnet', 'features': 'fe_subgraph_ca_angles_pos', 'dataset': 'afdb_swissprot_v4', 'env': 'default', 'hparams': 'schnet_fe_subgraph_ca_angles_pos', 'hydra/env': 'default', 'hydra/callbacks': None, 'hydra/job_logging': 'colorlog', 'hydra/hydra_logging': 'colorlog', 'hydra/hydra_help': 'default', 'hydra/help': 'default', 'hydra/sweeper': 'basic', 'hydra/launcher': 'basic', 'hydra/output': 'default'}}, 'verbose': False}\n",
      "env\n",
      "{'paths': {'root_dir': '${oc.env:ROOT_DIR}', 'data': '${oc.env:DATA_PATH}', 'output_dir': '${hydra:runtime.output_dir}', 'work_dir': '${hydra:runtime.cwd}', 'log_dir': '${oc.env:RUNS_PATH}', 'runs': '${oc.env:RUNS_PATH}', 'run_dir': '${env.paths.runs}/${name}/${env.init_time}'}, 'python': {'version': '${python_version:micro}'}, 'init_time': '${now:%y-%m-%d_%H:%M:%S}'}\n",
      "dataset\n",
      "{'datamodule': {'_target_': 'graphein.ml.datasets.foldcomp_dataset.FoldCompLightningDataModule', 'data_dir': '${env.paths.data}/afdb_swissprot_v4/', 'database': 'afdb_swissprot_v4', 'batch_size': 32, 'num_workers': 32, 'train_split': 0.8, 'val_split': 0.1, 'test_split': 0.1, 'pin_memory': True, 'use_graphein': True, 'transform': '${transforms}'}, 'dataset_name': 'afdb_swissprot_v4', 'num_classes': 'None'}\n",
      "features\n",
      "{'_target_': 'proteinworkshop.features.factory.ProteinFeaturiser', 'representation': 'CA', 'scalar_node_features': ['amino_acid_one_hot', 'sequence_positional_encoding', 'alpha', 'kappa'], 'vector_node_features': [], 'edge_types': [], 'scalar_edge_features': [], 'vector_edge_features': [], 'subgraph_pretraining_edges': [10.0, 32], 'compute_subgraphs': [2, 0.1]}\n",
      "encoder\n",
      "{'_target_': 'proteinworkshop.models.graph_encoders.schnet.SchNetModel', 'hidden_channels': 512, 'out_dim': 32, 'num_layers': 6, 'num_filters': 128, 'num_gaussians': 50, 'cutoff': 10.0, 'max_num_neighbors': 32, 'readout': 'add', 'dipole': False, 'mean': None, 'std': None, 'atomref': None, 'pretraining': True}\n",
      "decoder\n",
      "{'subgraph_distances': {'_target_': 'proteinworkshop.models.decoders.mlp_dist.MLP_Pred_Dist', 'hidden_channels': 32, 'input': 'fused_repr'}}\n",
      "transforms\n",
      "{'remove_missing_ca': {'_target_': 'proteinworkshop.tasks.remove_missing_ca.RemoveMissingCa', 'fill_value': 1e-05, 'ca_idx': 1}}\n",
      "callbacks\n",
      "{'model_checkpoint': {'_target_': 'lightning.pytorch.callbacks.ModelCheckpoint', 'dirpath': '${env.paths.output_dir}/checkpoints', 'filename': 'epoch_{epoch:03d}', 'monitor': 'val/subgraph_distances/mse', 'verbose': True, 'save_last': True, 'save_top_k': -1, 'mode': 'min', 'auto_insert_metric_name': False, 'save_weights_only': False, 'every_n_train_steps': None, 'train_time_interval': None, 'every_n_epochs': None, 'save_on_train_epoch_end': None}, 'early_stopping': {'_target_': 'lightning.pytorch.callbacks.EarlyStopping', 'monitor': 'val/subgraph_distances/mse', 'min_delta': 0.0, 'patience': 10, 'verbose': True, 'mode': 'min', 'strict': True, 'check_finite': True, 'stopping_threshold': None, 'divergence_threshold': None, 'check_on_train_epoch_end': False}, 'model_summary': {'_target_': 'lightning.pytorch.callbacks.RichModelSummary', 'max_depth': -1}, 'rich_progress_bar': {'_target_': 'lightning.pytorch.callbacks.RichProgressBar'}, 'learning_rate_monitor': {'_target_': 'lightning.pytorch.callbacks.LearningRateMonitor'}, 'stop_on_nan': {'_target_': 'lightning.pytorch.callbacks.EarlyStopping', 'monitor': 'train/loss/total', 'min_delta': 0.0, 'patience': 10000000, 'verbose': True, 'mode': 'min', 'strict': True, 'check_finite': True, 'stopping_threshold': None, 'divergence_threshold': None, 'check_on_train_epoch_end': None}}\n",
      "optimiser\n",
      "{'optimizer': {'_target_': 'torch.optim.Adam', '_partial_': True, 'lr': 0.0003, 'weight_decay': 0.0}}\n",
      "scheduler\n",
      "{'scheduler': {'_target_': 'flash.core.optimizers.LinearWarmupCosineAnnealingLR', '_partial_': True, 'warmup_epochs': 1, 'warmup_start_lr': 0.0, 'max_epochs': '${trainer.max_epochs}'}, 'interval': 'step', 'frequency': 1, 'monitor': 'val/loss/total', 'strict': True, 'name': 'learning_rate'}\n",
      "trainer\n",
      "{'_target_': 'lightning.pytorch.trainer.Trainer', 'default_root_dir': '${env.paths.output_dir}', 'min_epochs': 1, 'max_epochs': 10, 'accelerator': 'gpu', 'check_val_every_n_epoch': 1, 'deterministic': False, 'num_sanity_val_steps': 2, 'devices': 1}\n",
      "extras\n",
      "{'ignore_warnings': True, 'enforce_tags': False, 'print_config': True}\n",
      "metrics\n",
      "{'mse': {'_target_': 'torchmetrics.MeanSquaredError'}}\n",
      "task\n",
      "{'task': 'subgraph_distance_prediction', 'losses': {'subgraph_distances': 'mse_loss'}, 'label_smoothing': 0.0, 'output': ['subgraph_distances'], 'supervise_on': ['subgraph_distances']}\n",
      "logger\n",
      "{'csv': {'_target_': 'lightning.pytorch.loggers.csv_logs.CSVLogger', 'save_dir': '${env.paths.output_dir}', 'name': 'csv/', 'prefix': ''}}\n",
      "name\n",
      "\n",
      "seed\n",
      "52\n",
      "num_workers\n",
      "16\n",
      "task_name\n",
      "train\n",
      "ckpt_path_test\n",
      "\n",
      "test\n",
      "True\n",
      "aux_task\n",
      "{}\n"
     ]
    }
   ],
   "source": [
    "print(cfg.keys())\n",
    "for key in cfg.keys():\n",
    "    print(key)\n",
    "    print(cfg[key])"
   ]
  },
  {
   "cell_type": "markdown",
   "metadata": {},
   "source": [
    "### 3. Use the designed config to train a new model"
   ]
  },
  {
   "cell_type": "markdown",
   "metadata": {},
   "source": [
    "Now with the config you have designed, you can train a new model. You can also use the `ProteinWorkshop` to evaluate the model on a downstream task."
   ]
  },
  {
   "cell_type": "markdown",
   "metadata": {},
   "source": [
    "In training:\n",
    "\n",
    "ProteinBatch(fill_value=[32], atom_list=[32], coords=[15602, 37, 3], residues=[32], residue_id=[32], \n",
    "chains=[15602], residue_type=[15602], b_factor=[15602], id=[32], x=[15602, 23], seq_pos=[15602, 1], batch=[15602], \n",
    "ptr=[33], pos=[15602, 3], edge_index=[2, 247543], subgraphs=[1548, 149], subgraph_distances=[1548], \n",
    "subgraph_lengths=[1548])\n"
   ]
  },
  {
   "cell_type": "code",
   "execution_count": 6,
   "metadata": {},
   "outputs": [
    {
     "name": "stderr",
     "output_type": "stream",
     "text": [
      "Seed set to 52\n"
     ]
    },
    {
     "data": {
      "text/html": [
       "<pre style=\"white-space:pre;overflow-x:auto;line-height:normal;font-family:Menlo,'DejaVu Sans Mono',consolas,'Courier New',monospace\"><span style=\"color: #7fbfbf; text-decoration-color: #7fbfbf\">[07/30/24 02:26:34] </span><span style=\"color: #000080; text-decoration-color: #000080\">INFO    </span> Instantiating datamodule:                                                  <a href=\"file:///home/zhang/Projects/3d/ProteinWorkshop/proteinworkshop/train.py\" target=\"_blank\"><span style=\"color: #7f7f7f; text-decoration-color: #7f7f7f\">train.py</span></a><span style=\"color: #7f7f7f; text-decoration-color: #7f7f7f\">:</span><a href=\"file:///home/zhang/Projects/3d/ProteinWorkshop/proteinworkshop/train.py#99\" target=\"_blank\"><span style=\"color: #7f7f7f; text-decoration-color: #7f7f7f\">99</span></a>\n",
       "<span style=\"color: #7fbfbf; text-decoration-color: #7fbfbf\">                    </span>         &lt;graphein.ml.datasets.foldcomp_dataset.FoldCompLightningDataModule<span style=\"color: #808000; text-decoration-color: #808000\">...</span>      <span style=\"color: #7f7f7f; text-decoration-color: #7f7f7f\">           </span>\n",
       "</pre>\n"
      ],
      "text/plain": [
       "\u001b[2;36m[07/30/24 02:26:34]\u001b[0m\u001b[2;36m \u001b[0m\u001b[34mINFO    \u001b[0m Instantiating datamodule:                                                  \u001b]8;id=896664;file:///home/zhang/Projects/3d/ProteinWorkshop/proteinworkshop/train.py\u001b\\\u001b[2mtrain.py\u001b[0m\u001b]8;;\u001b\\\u001b[2m:\u001b[0m\u001b]8;id=987468;file:///home/zhang/Projects/3d/ProteinWorkshop/proteinworkshop/train.py#99\u001b\\\u001b[2m99\u001b[0m\u001b]8;;\u001b\\\n",
       "\u001b[2;36m                    \u001b[0m         <graphein.ml.datasets.foldcomp_dataset.FoldCompLightningDataModule\u001b[33m...\u001b[0m      \u001b[2m           \u001b[0m\n"
      ]
     },
     "metadata": {},
     "output_type": "display_data"
    },
    {
     "name": "stderr",
     "output_type": "stream",
     "text": [
      "100%|██████████| 542378/542378 [00:00<00:00, 4630675.81it/s]\n",
      "Processing...\n",
      "Done!\n"
     ]
    },
    {
     "data": {
      "text/html": [
       "<pre style=\"white-space:pre;overflow-x:auto;line-height:normal;font-family:Menlo,'DejaVu Sans Mono',consolas,'Courier New',monospace\"><span style=\"color: #7fbfbf; text-decoration-color: #7fbfbf\">[07/30/24 02:26:35] </span><span style=\"color: #000080; text-decoration-color: #000080\">INFO    </span> Instantiating callbacks<span style=\"color: #808000; text-decoration-color: #808000\">...</span>                                                <a href=\"file:///home/zhang/Projects/3d/ProteinWorkshop/proteinworkshop/train.py\" target=\"_blank\"><span style=\"color: #7f7f7f; text-decoration-color: #7f7f7f\">train.py</span></a><span style=\"color: #7f7f7f; text-decoration-color: #7f7f7f\">:</span><a href=\"file:///home/zhang/Projects/3d/ProteinWorkshop/proteinworkshop/train.py#106\" target=\"_blank\"><span style=\"color: #7f7f7f; text-decoration-color: #7f7f7f\">106</span></a>\n",
       "</pre>\n"
      ],
      "text/plain": [
       "\u001b[2;36m[07/30/24 02:26:35]\u001b[0m\u001b[2;36m \u001b[0m\u001b[34mINFO    \u001b[0m Instantiating callbacks\u001b[33m...\u001b[0m                                                \u001b]8;id=990167;file:///home/zhang/Projects/3d/ProteinWorkshop/proteinworkshop/train.py\u001b\\\u001b[2mtrain.py\u001b[0m\u001b]8;;\u001b\\\u001b[2m:\u001b[0m\u001b]8;id=446377;file:///home/zhang/Projects/3d/ProteinWorkshop/proteinworkshop/train.py#106\u001b\\\u001b[2m106\u001b[0m\u001b]8;;\u001b\\\n"
      ]
     },
     "metadata": {},
     "output_type": "display_data"
    },
    {
     "data": {
      "text/html": [
       "<pre style=\"white-space:pre;overflow-x:auto;line-height:normal;font-family:Menlo,'DejaVu Sans Mono',consolas,'Courier New',monospace\"><span style=\"color: #7fbfbf; text-decoration-color: #7fbfbf\">                    </span><span style=\"color: #000080; text-decoration-color: #000080\">INFO    </span> Instantiating callback <span style=\"font-weight: bold\">&lt;</span><span style=\"color: #ff00ff; text-decoration-color: #ff00ff; font-weight: bold\">lightning.pytorch.callbacks.ModelCheckpoint</span><span style=\"font-weight: bold\">&gt;</span>   <a href=\"file:///home/zhang/Projects/3d/ProteinWorkshop/proteinworkshop/utils/callbacks.py\" target=\"_blank\"><span style=\"color: #7f7f7f; text-decoration-color: #7f7f7f\">callbacks.py</span></a><span style=\"color: #7f7f7f; text-decoration-color: #7f7f7f\">:</span><a href=\"file:///home/zhang/Projects/3d/ProteinWorkshop/proteinworkshop/utils/callbacks.py#31\" target=\"_blank\"><span style=\"color: #7f7f7f; text-decoration-color: #7f7f7f\">31</span></a>\n",
       "</pre>\n"
      ],
      "text/plain": [
       "\u001b[2;36m                   \u001b[0m\u001b[2;36m \u001b[0m\u001b[34mINFO    \u001b[0m Instantiating callback \u001b[1m<\u001b[0m\u001b[1;95mlightning.pytorch.callbacks.ModelCheckpoint\u001b[0m\u001b[1m>\u001b[0m   \u001b]8;id=440939;file:///home/zhang/Projects/3d/ProteinWorkshop/proteinworkshop/utils/callbacks.py\u001b\\\u001b[2mcallbacks.py\u001b[0m\u001b]8;;\u001b\\\u001b[2m:\u001b[0m\u001b]8;id=690437;file:///home/zhang/Projects/3d/ProteinWorkshop/proteinworkshop/utils/callbacks.py#31\u001b\\\u001b[2m31\u001b[0m\u001b]8;;\u001b\\\n"
      ]
     },
     "metadata": {},
     "output_type": "display_data"
    },
    {
     "data": {
      "text/html": [
       "<pre style=\"white-space:pre;overflow-x:auto;line-height:normal;font-family:Menlo,'DejaVu Sans Mono',consolas,'Courier New',monospace\"><span style=\"color: #7fbfbf; text-decoration-color: #7fbfbf\">                    </span><span style=\"color: #000080; text-decoration-color: #000080\">INFO    </span> Instantiating callback <span style=\"font-weight: bold\">&lt;</span><span style=\"color: #ff00ff; text-decoration-color: #ff00ff; font-weight: bold\">lightning.pytorch.callbacks.EarlyStopping</span><span style=\"font-weight: bold\">&gt;</span>     <a href=\"file:///home/zhang/Projects/3d/ProteinWorkshop/proteinworkshop/utils/callbacks.py\" target=\"_blank\"><span style=\"color: #7f7f7f; text-decoration-color: #7f7f7f\">callbacks.py</span></a><span style=\"color: #7f7f7f; text-decoration-color: #7f7f7f\">:</span><a href=\"file:///home/zhang/Projects/3d/ProteinWorkshop/proteinworkshop/utils/callbacks.py#31\" target=\"_blank\"><span style=\"color: #7f7f7f; text-decoration-color: #7f7f7f\">31</span></a>\n",
       "</pre>\n"
      ],
      "text/plain": [
       "\u001b[2;36m                   \u001b[0m\u001b[2;36m \u001b[0m\u001b[34mINFO    \u001b[0m Instantiating callback \u001b[1m<\u001b[0m\u001b[1;95mlightning.pytorch.callbacks.EarlyStopping\u001b[0m\u001b[1m>\u001b[0m     \u001b]8;id=455671;file:///home/zhang/Projects/3d/ProteinWorkshop/proteinworkshop/utils/callbacks.py\u001b\\\u001b[2mcallbacks.py\u001b[0m\u001b]8;;\u001b\\\u001b[2m:\u001b[0m\u001b]8;id=440281;file:///home/zhang/Projects/3d/ProteinWorkshop/proteinworkshop/utils/callbacks.py#31\u001b\\\u001b[2m31\u001b[0m\u001b]8;;\u001b\\\n"
      ]
     },
     "metadata": {},
     "output_type": "display_data"
    },
    {
     "data": {
      "text/html": [
       "<pre style=\"white-space:pre;overflow-x:auto;line-height:normal;font-family:Menlo,'DejaVu Sans Mono',consolas,'Courier New',monospace\"><span style=\"color: #7fbfbf; text-decoration-color: #7fbfbf\">                    </span><span style=\"color: #000080; text-decoration-color: #000080\">INFO    </span> Instantiating callback <span style=\"font-weight: bold\">&lt;</span><span style=\"color: #ff00ff; text-decoration-color: #ff00ff; font-weight: bold\">lightning.pytorch.callbacks.RichModelSummary</span><span style=\"font-weight: bold\">&gt;</span>  <a href=\"file:///home/zhang/Projects/3d/ProteinWorkshop/proteinworkshop/utils/callbacks.py\" target=\"_blank\"><span style=\"color: #7f7f7f; text-decoration-color: #7f7f7f\">callbacks.py</span></a><span style=\"color: #7f7f7f; text-decoration-color: #7f7f7f\">:</span><a href=\"file:///home/zhang/Projects/3d/ProteinWorkshop/proteinworkshop/utils/callbacks.py#31\" target=\"_blank\"><span style=\"color: #7f7f7f; text-decoration-color: #7f7f7f\">31</span></a>\n",
       "</pre>\n"
      ],
      "text/plain": [
       "\u001b[2;36m                   \u001b[0m\u001b[2;36m \u001b[0m\u001b[34mINFO    \u001b[0m Instantiating callback \u001b[1m<\u001b[0m\u001b[1;95mlightning.pytorch.callbacks.RichModelSummary\u001b[0m\u001b[1m>\u001b[0m  \u001b]8;id=536001;file:///home/zhang/Projects/3d/ProteinWorkshop/proteinworkshop/utils/callbacks.py\u001b\\\u001b[2mcallbacks.py\u001b[0m\u001b]8;;\u001b\\\u001b[2m:\u001b[0m\u001b]8;id=332255;file:///home/zhang/Projects/3d/ProteinWorkshop/proteinworkshop/utils/callbacks.py#31\u001b\\\u001b[2m31\u001b[0m\u001b]8;;\u001b\\\n"
      ]
     },
     "metadata": {},
     "output_type": "display_data"
    },
    {
     "data": {
      "text/html": [
       "<pre style=\"white-space:pre;overflow-x:auto;line-height:normal;font-family:Menlo,'DejaVu Sans Mono',consolas,'Courier New',monospace\"><span style=\"color: #7fbfbf; text-decoration-color: #7fbfbf\">                    </span><span style=\"color: #000080; text-decoration-color: #000080\">INFO    </span> Instantiating callback <span style=\"font-weight: bold\">&lt;</span><span style=\"color: #ff00ff; text-decoration-color: #ff00ff; font-weight: bold\">lightning.pytorch.callbacks.RichProgressBar</span><span style=\"font-weight: bold\">&gt;</span>   <a href=\"file:///home/zhang/Projects/3d/ProteinWorkshop/proteinworkshop/utils/callbacks.py\" target=\"_blank\"><span style=\"color: #7f7f7f; text-decoration-color: #7f7f7f\">callbacks.py</span></a><span style=\"color: #7f7f7f; text-decoration-color: #7f7f7f\">:</span><a href=\"file:///home/zhang/Projects/3d/ProteinWorkshop/proteinworkshop/utils/callbacks.py#31\" target=\"_blank\"><span style=\"color: #7f7f7f; text-decoration-color: #7f7f7f\">31</span></a>\n",
       "</pre>\n"
      ],
      "text/plain": [
       "\u001b[2;36m                   \u001b[0m\u001b[2;36m \u001b[0m\u001b[34mINFO    \u001b[0m Instantiating callback \u001b[1m<\u001b[0m\u001b[1;95mlightning.pytorch.callbacks.RichProgressBar\u001b[0m\u001b[1m>\u001b[0m   \u001b]8;id=647089;file:///home/zhang/Projects/3d/ProteinWorkshop/proteinworkshop/utils/callbacks.py\u001b\\\u001b[2mcallbacks.py\u001b[0m\u001b]8;;\u001b\\\u001b[2m:\u001b[0m\u001b]8;id=934617;file:///home/zhang/Projects/3d/ProteinWorkshop/proteinworkshop/utils/callbacks.py#31\u001b\\\u001b[2m31\u001b[0m\u001b]8;;\u001b\\\n"
      ]
     },
     "metadata": {},
     "output_type": "display_data"
    },
    {
     "data": {
      "text/html": [
       "<pre style=\"white-space:pre;overflow-x:auto;line-height:normal;font-family:Menlo,'DejaVu Sans Mono',consolas,'Courier New',monospace\"><span style=\"color: #7fbfbf; text-decoration-color: #7fbfbf\">                    </span><span style=\"color: #000080; text-decoration-color: #000080\">INFO    </span> Instantiating callback                                                 <a href=\"file:///home/zhang/Projects/3d/ProteinWorkshop/proteinworkshop/utils/callbacks.py\" target=\"_blank\"><span style=\"color: #7f7f7f; text-decoration-color: #7f7f7f\">callbacks.py</span></a><span style=\"color: #7f7f7f; text-decoration-color: #7f7f7f\">:</span><a href=\"file:///home/zhang/Projects/3d/ProteinWorkshop/proteinworkshop/utils/callbacks.py#31\" target=\"_blank\"><span style=\"color: #7f7f7f; text-decoration-color: #7f7f7f\">31</span></a>\n",
       "<span style=\"color: #7fbfbf; text-decoration-color: #7fbfbf\">                    </span>         <span style=\"font-weight: bold\">&lt;</span><span style=\"color: #ff00ff; text-decoration-color: #ff00ff; font-weight: bold\">lightning.pytorch.callbacks.LearningRateMonitor</span><span style=\"font-weight: bold\">&gt;</span>                      <span style=\"color: #7f7f7f; text-decoration-color: #7f7f7f\">               </span>\n",
       "</pre>\n"
      ],
      "text/plain": [
       "\u001b[2;36m                   \u001b[0m\u001b[2;36m \u001b[0m\u001b[34mINFO    \u001b[0m Instantiating callback                                                 \u001b]8;id=12708;file:///home/zhang/Projects/3d/ProteinWorkshop/proteinworkshop/utils/callbacks.py\u001b\\\u001b[2mcallbacks.py\u001b[0m\u001b]8;;\u001b\\\u001b[2m:\u001b[0m\u001b]8;id=945747;file:///home/zhang/Projects/3d/ProteinWorkshop/proteinworkshop/utils/callbacks.py#31\u001b\\\u001b[2m31\u001b[0m\u001b]8;;\u001b\\\n",
       "\u001b[2;36m                    \u001b[0m         \u001b[1m<\u001b[0m\u001b[1;95mlightning.pytorch.callbacks.LearningRateMonitor\u001b[0m\u001b[1m>\u001b[0m                      \u001b[2m               \u001b[0m\n"
      ]
     },
     "metadata": {},
     "output_type": "display_data"
    },
    {
     "data": {
      "text/html": [
       "<pre style=\"white-space:pre;overflow-x:auto;line-height:normal;font-family:Menlo,'DejaVu Sans Mono',consolas,'Courier New',monospace\"><span style=\"color: #7fbfbf; text-decoration-color: #7fbfbf\">                    </span><span style=\"color: #000080; text-decoration-color: #000080\">INFO    </span> Instantiating callback <span style=\"font-weight: bold\">&lt;</span><span style=\"color: #ff00ff; text-decoration-color: #ff00ff; font-weight: bold\">lightning.pytorch.callbacks.EarlyStopping</span><span style=\"font-weight: bold\">&gt;</span>     <a href=\"file:///home/zhang/Projects/3d/ProteinWorkshop/proteinworkshop/utils/callbacks.py\" target=\"_blank\"><span style=\"color: #7f7f7f; text-decoration-color: #7f7f7f\">callbacks.py</span></a><span style=\"color: #7f7f7f; text-decoration-color: #7f7f7f\">:</span><a href=\"file:///home/zhang/Projects/3d/ProteinWorkshop/proteinworkshop/utils/callbacks.py#31\" target=\"_blank\"><span style=\"color: #7f7f7f; text-decoration-color: #7f7f7f\">31</span></a>\n",
       "</pre>\n"
      ],
      "text/plain": [
       "\u001b[2;36m                   \u001b[0m\u001b[2;36m \u001b[0m\u001b[34mINFO    \u001b[0m Instantiating callback \u001b[1m<\u001b[0m\u001b[1;95mlightning.pytorch.callbacks.EarlyStopping\u001b[0m\u001b[1m>\u001b[0m     \u001b]8;id=126038;file:///home/zhang/Projects/3d/ProteinWorkshop/proteinworkshop/utils/callbacks.py\u001b\\\u001b[2mcallbacks.py\u001b[0m\u001b]8;;\u001b\\\u001b[2m:\u001b[0m\u001b]8;id=348790;file:///home/zhang/Projects/3d/ProteinWorkshop/proteinworkshop/utils/callbacks.py#31\u001b\\\u001b[2m31\u001b[0m\u001b]8;;\u001b\\\n"
      ]
     },
     "metadata": {},
     "output_type": "display_data"
    },
    {
     "data": {
      "text/html": [
       "<pre style=\"white-space:pre;overflow-x:auto;line-height:normal;font-family:Menlo,'DejaVu Sans Mono',consolas,'Courier New',monospace\"><span style=\"color: #7fbfbf; text-decoration-color: #7fbfbf\">                    </span><span style=\"color: #000080; text-decoration-color: #000080\">INFO    </span> Instantiating loggers<span style=\"color: #808000; text-decoration-color: #808000\">...</span>                                                  <a href=\"file:///home/zhang/Projects/3d/ProteinWorkshop/proteinworkshop/train.py\" target=\"_blank\"><span style=\"color: #7f7f7f; text-decoration-color: #7f7f7f\">train.py</span></a><span style=\"color: #7f7f7f; text-decoration-color: #7f7f7f\">:</span><a href=\"file:///home/zhang/Projects/3d/ProteinWorkshop/proteinworkshop/train.py#111\" target=\"_blank\"><span style=\"color: #7f7f7f; text-decoration-color: #7f7f7f\">111</span></a>\n",
       "</pre>\n"
      ],
      "text/plain": [
       "\u001b[2;36m                   \u001b[0m\u001b[2;36m \u001b[0m\u001b[34mINFO    \u001b[0m Instantiating loggers\u001b[33m...\u001b[0m                                                  \u001b]8;id=901064;file:///home/zhang/Projects/3d/ProteinWorkshop/proteinworkshop/train.py\u001b\\\u001b[2mtrain.py\u001b[0m\u001b]8;;\u001b\\\u001b[2m:\u001b[0m\u001b]8;id=461819;file:///home/zhang/Projects/3d/ProteinWorkshop/proteinworkshop/train.py#111\u001b\\\u001b[2m111\u001b[0m\u001b]8;;\u001b\\\n"
      ]
     },
     "metadata": {},
     "output_type": "display_data"
    },
    {
     "data": {
      "text/html": [
       "<pre style=\"white-space:pre;overflow-x:auto;line-height:normal;font-family:Menlo,'DejaVu Sans Mono',consolas,'Courier New',monospace\"><span style=\"color: #7fbfbf; text-decoration-color: #7fbfbf\">                    </span><span style=\"color: #000080; text-decoration-color: #000080\">INFO    </span> Instantiating logger <span style=\"font-weight: bold\">&lt;</span><span style=\"color: #ff00ff; text-decoration-color: #ff00ff; font-weight: bold\">lightning.pytorch.loggers.csv_logs.CSVLogger</span><span style=\"font-weight: bold\">&gt;</span>      <a href=\"file:///home/zhang/Projects/3d/ProteinWorkshop/proteinworkshop/utils/loggers.py\" target=\"_blank\"><span style=\"color: #7f7f7f; text-decoration-color: #7f7f7f\">loggers.py</span></a><span style=\"color: #7f7f7f; text-decoration-color: #7f7f7f\">:</span><a href=\"file:///home/zhang/Projects/3d/ProteinWorkshop/proteinworkshop/utils/loggers.py#31\" target=\"_blank\"><span style=\"color: #7f7f7f; text-decoration-color: #7f7f7f\">31</span></a>\n",
       "</pre>\n"
      ],
      "text/plain": [
       "\u001b[2;36m                   \u001b[0m\u001b[2;36m \u001b[0m\u001b[34mINFO    \u001b[0m Instantiating logger \u001b[1m<\u001b[0m\u001b[1;95mlightning.pytorch.loggers.csv_logs.CSVLogger\u001b[0m\u001b[1m>\u001b[0m      \u001b]8;id=91422;file:///home/zhang/Projects/3d/ProteinWorkshop/proteinworkshop/utils/loggers.py\u001b\\\u001b[2mloggers.py\u001b[0m\u001b]8;;\u001b\\\u001b[2m:\u001b[0m\u001b]8;id=921129;file:///home/zhang/Projects/3d/ProteinWorkshop/proteinworkshop/utils/loggers.py#31\u001b\\\u001b[2m31\u001b[0m\u001b]8;;\u001b\\\n"
      ]
     },
     "metadata": {},
     "output_type": "display_data"
    },
    {
     "data": {
      "text/html": [
       "<pre style=\"white-space:pre;overflow-x:auto;line-height:normal;font-family:Menlo,'DejaVu Sans Mono',consolas,'Courier New',monospace\"><span style=\"color: #7fbfbf; text-decoration-color: #7fbfbf\">                    </span><span style=\"color: #000080; text-decoration-color: #000080\">INFO    </span> Instantiating trainer<span style=\"color: #808000; text-decoration-color: #808000\">...</span>                                                  <a href=\"file:///home/zhang/Projects/3d/ProteinWorkshop/proteinworkshop/train.py\" target=\"_blank\"><span style=\"color: #7f7f7f; text-decoration-color: #7f7f7f\">train.py</span></a><span style=\"color: #7f7f7f; text-decoration-color: #7f7f7f\">:</span><a href=\"file:///home/zhang/Projects/3d/ProteinWorkshop/proteinworkshop/train.py#114\" target=\"_blank\"><span style=\"color: #7f7f7f; text-decoration-color: #7f7f7f\">114</span></a>\n",
       "</pre>\n"
      ],
      "text/plain": [
       "\u001b[2;36m                   \u001b[0m\u001b[2;36m \u001b[0m\u001b[34mINFO    \u001b[0m Instantiating trainer\u001b[33m...\u001b[0m                                                  \u001b]8;id=688148;file:///home/zhang/Projects/3d/ProteinWorkshop/proteinworkshop/train.py\u001b\\\u001b[2mtrain.py\u001b[0m\u001b]8;;\u001b\\\u001b[2m:\u001b[0m\u001b]8;id=232630;file:///home/zhang/Projects/3d/ProteinWorkshop/proteinworkshop/train.py#114\u001b\\\u001b[2m114\u001b[0m\u001b]8;;\u001b\\\n"
      ]
     },
     "metadata": {},
     "output_type": "display_data"
    },
    {
     "name": "stderr",
     "output_type": "stream",
     "text": [
      "Trainer already configured with model summary callbacks: [<class 'lightning.pytorch.callbacks.rich_model_summary.RichModelSummary'>]. Skipping setting a default `ModelSummary` callback.\n",
      "GPU available: True (cuda), used: True\n",
      "TPU available: False, using: 0 TPU cores\n",
      "HPU available: False, using: 0 HPUs\n",
      "100%|██████████| 542378/542378 [00:00<00:00, 4661934.60it/s]\n",
      "Processing...\n",
      "Done!\n",
      "100%|██████████| 542378/542378 [00:00<00:00, 4623231.84it/s]\n",
      "Processing...\n",
      "Done!\n",
      "100%|██████████| 542378/542378 [00:00<00:00, 4687177.61it/s]\n",
      "Processing...\n",
      "Done!\n",
      "/home/zhang/miniconda3/envs/3d_pretrain/lib/python3.10/site-packages/torch/utils/data/dataloader.py:557: UserWarning:\n",
      "\n",
      "This DataLoader will create 32 worker processes in total. Our suggested max number of worker in current system is 28, which is smaller than what this DataLoader is going to create. Please be aware that excessive worker creation might get DataLoader running slow or even freeze, lower the worker number to avoid potential slowness/freeze if necessary.\n",
      "\n"
     ]
    },
    {
     "data": {
      "text/html": [
       "<pre style=\"white-space:pre;overflow-x:auto;line-height:normal;font-family:Menlo,'DejaVu Sans Mono',consolas,'Courier New',monospace\"><span style=\"color: #7fbfbf; text-decoration-color: #7fbfbf\">[07/30/24 02:26:37] </span><span style=\"color: #000080; text-decoration-color: #000080\">INFO    </span> Dataset size: <span style=\"color: #008080; text-decoration-color: #008080; font-weight: bold\">433920</span>                                                       <a href=\"file:///home/zhang/Projects/3d/ProteinWorkshop/proteinworkshop/train.py\" target=\"_blank\"><span style=\"color: #7f7f7f; text-decoration-color: #7f7f7f\">train.py</span></a><span style=\"color: #7f7f7f; text-decoration-color: #7f7f7f\">:</span><a href=\"file:///home/zhang/Projects/3d/ProteinWorkshop/proteinworkshop/train.py#56\" target=\"_blank\"><span style=\"color: #7f7f7f; text-decoration-color: #7f7f7f\">56</span></a>\n",
       "</pre>\n"
      ],
      "text/plain": [
       "\u001b[2;36m[07/30/24 02:26:37]\u001b[0m\u001b[2;36m \u001b[0m\u001b[34mINFO    \u001b[0m Dataset size: \u001b[1;36m433920\u001b[0m                                                       \u001b]8;id=458435;file:///home/zhang/Projects/3d/ProteinWorkshop/proteinworkshop/train.py\u001b\\\u001b[2mtrain.py\u001b[0m\u001b]8;;\u001b\\\u001b[2m:\u001b[0m\u001b]8;id=886151;file:///home/zhang/Projects/3d/ProteinWorkshop/proteinworkshop/train.py#56\u001b\\\u001b[2m56\u001b[0m\u001b]8;;\u001b\\\n"
      ]
     },
     "metadata": {},
     "output_type": "display_data"
    },
    {
     "data": {
      "text/html": [
       "<pre style=\"white-space:pre;overflow-x:auto;line-height:normal;font-family:Menlo,'DejaVu Sans Mono',consolas,'Courier New',monospace\"><span style=\"color: #7fbfbf; text-decoration-color: #7fbfbf\">                    </span><span style=\"color: #000080; text-decoration-color: #000080\">INFO    </span> Setting number of training steps in scheduler to: <span style=\"color: #008080; text-decoration-color: #008080; font-weight: bold\">135600</span>                  <a href=\"file:///home/zhang/Projects/3d/ProteinWorkshop/proteinworkshop/train.py\" target=\"_blank\"><span style=\"color: #7f7f7f; text-decoration-color: #7f7f7f\">train.py</span></a><span style=\"color: #7f7f7f; text-decoration-color: #7f7f7f\">:</span><a href=\"file:///home/zhang/Projects/3d/ProteinWorkshop/proteinworkshop/train.py#129\" target=\"_blank\"><span style=\"color: #7f7f7f; text-decoration-color: #7f7f7f\">129</span></a>\n",
       "</pre>\n"
      ],
      "text/plain": [
       "\u001b[2;36m                   \u001b[0m\u001b[2;36m \u001b[0m\u001b[34mINFO    \u001b[0m Setting number of training steps in scheduler to: \u001b[1;36m135600\u001b[0m                  \u001b]8;id=639128;file:///home/zhang/Projects/3d/ProteinWorkshop/proteinworkshop/train.py\u001b\\\u001b[2mtrain.py\u001b[0m\u001b]8;;\u001b\\\u001b[2m:\u001b[0m\u001b]8;id=545082;file:///home/zhang/Projects/3d/ProteinWorkshop/proteinworkshop/train.py#129\u001b\\\u001b[2m129\u001b[0m\u001b]8;;\u001b\\\n"
      ]
     },
     "metadata": {},
     "output_type": "display_data"
    },
    {
     "data": {
      "text/html": [
       "<pre style=\"white-space:pre;overflow-x:auto;line-height:normal;font-family:Menlo,'DejaVu Sans Mono',consolas,'Courier New',monospace\"><span style=\"color: #7fbfbf; text-decoration-color: #7fbfbf\">                    </span><span style=\"color: #000080; text-decoration-color: #000080\">INFO    </span> <span style=\"font-weight: bold\">{</span><span style=\"color: #008000; text-decoration-color: #008000\">'scheduler'</span>: <span style=\"font-weight: bold\">{</span><span style=\"color: #008000; text-decoration-color: #008000\">'_target_'</span>:                                                <a href=\"file:///home/zhang/Projects/3d/ProteinWorkshop/proteinworkshop/train.py\" target=\"_blank\"><span style=\"color: #7f7f7f; text-decoration-color: #7f7f7f\">train.py</span></a><span style=\"color: #7f7f7f; text-decoration-color: #7f7f7f\">:</span><a href=\"file:///home/zhang/Projects/3d/ProteinWorkshop/proteinworkshop/train.py#136\" target=\"_blank\"><span style=\"color: #7f7f7f; text-decoration-color: #7f7f7f\">136</span></a>\n",
       "<span style=\"color: #7fbfbf; text-decoration-color: #7fbfbf\">                    </span>         <span style=\"color: #008000; text-decoration-color: #008000\">'flash.core.optimizers.LinearWarmupCosineAnnealingLR'</span>, <span style=\"color: #008000; text-decoration-color: #008000\">'_partial_'</span>: <span style=\"color: #00ff00; text-decoration-color: #00ff00; font-style: italic\">True</span>, <span style=\"color: #7f7f7f; text-decoration-color: #7f7f7f\">            </span>\n",
       "<span style=\"color: #7fbfbf; text-decoration-color: #7fbfbf\">                    </span>         <span style=\"color: #008000; text-decoration-color: #008000\">'warmup_epochs'</span>: <span style=\"color: #008080; text-decoration-color: #008080; font-weight: bold\">13560.0</span>, <span style=\"color: #008000; text-decoration-color: #008000\">'warmup_start_lr'</span>: <span style=\"color: #008080; text-decoration-color: #008080; font-weight: bold\">0.0</span>, <span style=\"color: #008000; text-decoration-color: #008000\">'max_epochs'</span>: <span style=\"color: #008080; text-decoration-color: #008080; font-weight: bold\">135600</span><span style=\"font-weight: bold\">}</span>,  <span style=\"color: #7f7f7f; text-decoration-color: #7f7f7f\">            </span>\n",
       "<span style=\"color: #7fbfbf; text-decoration-color: #7fbfbf\">                    </span>         <span style=\"color: #008000; text-decoration-color: #008000\">'interval'</span>: <span style=\"color: #008000; text-decoration-color: #008000\">'step'</span>, <span style=\"color: #008000; text-decoration-color: #008000\">'frequency'</span>: <span style=\"color: #008080; text-decoration-color: #008080; font-weight: bold\">1</span>, <span style=\"color: #008000; text-decoration-color: #008000\">'monitor'</span>: <span style=\"color: #008000; text-decoration-color: #008000\">'val/loss/total'</span>,          <span style=\"color: #7f7f7f; text-decoration-color: #7f7f7f\">            </span>\n",
       "<span style=\"color: #7fbfbf; text-decoration-color: #7fbfbf\">                    </span>         <span style=\"color: #008000; text-decoration-color: #008000\">'strict'</span>: <span style=\"color: #00ff00; text-decoration-color: #00ff00; font-style: italic\">True</span>, <span style=\"color: #008000; text-decoration-color: #008000\">'name'</span>: <span style=\"color: #008000; text-decoration-color: #008000\">'learning_rate'</span><span style=\"font-weight: bold\">}</span>                                  <span style=\"color: #7f7f7f; text-decoration-color: #7f7f7f\">            </span>\n",
       "</pre>\n"
      ],
      "text/plain": [
       "\u001b[2;36m                   \u001b[0m\u001b[2;36m \u001b[0m\u001b[34mINFO    \u001b[0m \u001b[1m{\u001b[0m\u001b[32m'scheduler'\u001b[0m: \u001b[1m{\u001b[0m\u001b[32m'_target_'\u001b[0m:                                                \u001b]8;id=797855;file:///home/zhang/Projects/3d/ProteinWorkshop/proteinworkshop/train.py\u001b\\\u001b[2mtrain.py\u001b[0m\u001b]8;;\u001b\\\u001b[2m:\u001b[0m\u001b]8;id=647122;file:///home/zhang/Projects/3d/ProteinWorkshop/proteinworkshop/train.py#136\u001b\\\u001b[2m136\u001b[0m\u001b]8;;\u001b\\\n",
       "\u001b[2;36m                    \u001b[0m         \u001b[32m'flash.core.optimizers.LinearWarmupCosineAnnealingLR'\u001b[0m, \u001b[32m'_partial_'\u001b[0m: \u001b[3;92mTrue\u001b[0m, \u001b[2m            \u001b[0m\n",
       "\u001b[2;36m                    \u001b[0m         \u001b[32m'warmup_epochs'\u001b[0m: \u001b[1;36m13560.0\u001b[0m, \u001b[32m'warmup_start_lr'\u001b[0m: \u001b[1;36m0.0\u001b[0m, \u001b[32m'max_epochs'\u001b[0m: \u001b[1;36m135600\u001b[0m\u001b[1m}\u001b[0m,  \u001b[2m            \u001b[0m\n",
       "\u001b[2;36m                    \u001b[0m         \u001b[32m'interval'\u001b[0m: \u001b[32m'step'\u001b[0m, \u001b[32m'frequency'\u001b[0m: \u001b[1;36m1\u001b[0m, \u001b[32m'monitor'\u001b[0m: \u001b[32m'val/loss/total'\u001b[0m,          \u001b[2m            \u001b[0m\n",
       "\u001b[2;36m                    \u001b[0m         \u001b[32m'strict'\u001b[0m: \u001b[3;92mTrue\u001b[0m, \u001b[32m'name'\u001b[0m: \u001b[32m'learning_rate'\u001b[0m\u001b[1m}\u001b[0m                                  \u001b[2m            \u001b[0m\n"
      ]
     },
     "metadata": {},
     "output_type": "display_data"
    },
    {
     "data": {
      "text/html": [
       "<pre style=\"white-space:pre;overflow-x:auto;line-height:normal;font-family:Menlo,'DejaVu Sans Mono',consolas,'Courier New',monospace\"><span style=\"color: #7fbfbf; text-decoration-color: #7fbfbf\">                    </span><span style=\"color: #000080; text-decoration-color: #000080\">INFO    </span> Instantiating model<span style=\"color: #808000; text-decoration-color: #808000\">...</span>                                                    <a href=\"file:///home/zhang/Projects/3d/ProteinWorkshop/proteinworkshop/train.py\" target=\"_blank\"><span style=\"color: #7f7f7f; text-decoration-color: #7f7f7f\">train.py</span></a><span style=\"color: #7f7f7f; text-decoration-color: #7f7f7f\">:</span><a href=\"file:///home/zhang/Projects/3d/ProteinWorkshop/proteinworkshop/train.py#138\" target=\"_blank\"><span style=\"color: #7f7f7f; text-decoration-color: #7f7f7f\">138</span></a>\n",
       "</pre>\n"
      ],
      "text/plain": [
       "\u001b[2;36m                   \u001b[0m\u001b[2;36m \u001b[0m\u001b[34mINFO    \u001b[0m Instantiating model\u001b[33m...\u001b[0m                                                    \u001b]8;id=707725;file:///home/zhang/Projects/3d/ProteinWorkshop/proteinworkshop/train.py\u001b\\\u001b[2mtrain.py\u001b[0m\u001b]8;;\u001b\\\u001b[2m:\u001b[0m\u001b]8;id=153743;file:///home/zhang/Projects/3d/ProteinWorkshop/proteinworkshop/train.py#138\u001b\\\u001b[2m138\u001b[0m\u001b]8;;\u001b\\\n"
      ]
     },
     "metadata": {},
     "output_type": "display_data"
    },
    {
     "data": {
      "text/html": [
       "<pre style=\"white-space:pre;overflow-x:auto;line-height:normal;font-family:Menlo,'DejaVu Sans Mono',consolas,'Courier New',monospace\"><span style=\"color: #7fbfbf; text-decoration-color: #7fbfbf\">                    </span><span style=\"color: #000080; text-decoration-color: #000080\">INFO    </span> Instantiating encoder<span style=\"color: #808000; text-decoration-color: #808000\">...</span>                                                   <a href=\"file:///home/zhang/Projects/3d/ProteinWorkshop/proteinworkshop/models/base.py\" target=\"_blank\"><span style=\"color: #7f7f7f; text-decoration-color: #7f7f7f\">base.py</span></a><span style=\"color: #7f7f7f; text-decoration-color: #7f7f7f\">:</span><a href=\"file:///home/zhang/Projects/3d/ProteinWorkshop/proteinworkshop/models/base.py#413\" target=\"_blank\"><span style=\"color: #7f7f7f; text-decoration-color: #7f7f7f\">413</span></a>\n",
       "</pre>\n"
      ],
      "text/plain": [
       "\u001b[2;36m                   \u001b[0m\u001b[2;36m \u001b[0m\u001b[34mINFO    \u001b[0m Instantiating encoder\u001b[33m...\u001b[0m                                                   \u001b]8;id=43020;file:///home/zhang/Projects/3d/ProteinWorkshop/proteinworkshop/models/base.py\u001b\\\u001b[2mbase.py\u001b[0m\u001b]8;;\u001b\\\u001b[2m:\u001b[0m\u001b]8;id=837327;file:///home/zhang/Projects/3d/ProteinWorkshop/proteinworkshop/models/base.py#413\u001b\\\u001b[2m413\u001b[0m\u001b]8;;\u001b\\\n"
      ]
     },
     "metadata": {},
     "output_type": "display_data"
    },
    {
     "name": "stderr",
     "output_type": "stream",
     "text": [
      "/home/zhang/miniconda3/envs/3d_pretrain/lib/python3.10/site-packages/torch/nn/modules/lazy.py:180: UserWarning:\n",
      "\n",
      "Lazy modules are a new feature under heavy development so changes to the API or functionality can happen at any moment.\n",
      "\n"
     ]
    },
    {
     "data": {
      "text/html": [
       "<pre style=\"white-space:pre;overflow-x:auto;line-height:normal;font-family:Menlo,'DejaVu Sans Mono',consolas,'Courier New',monospace\"><span style=\"color: #7fbfbf; text-decoration-color: #7fbfbf\">                    </span><span style=\"color: #000080; text-decoration-color: #000080\">INFO    </span> <span style=\"color: #800080; text-decoration-color: #800080; font-weight: bold\">SchNetModel</span><span style=\"font-weight: bold\">(</span><span style=\"color: #808000; text-decoration-color: #808000\">hidden_channels</span>=<span style=\"color: #008080; text-decoration-color: #008080; font-weight: bold\">512</span>, <span style=\"color: #808000; text-decoration-color: #808000\">num_filters</span>=<span style=\"color: #008080; text-decoration-color: #008080; font-weight: bold\">128</span>, <span style=\"color: #808000; text-decoration-color: #808000\">num_interactions</span>=<span style=\"color: #008080; text-decoration-color: #008080; font-weight: bold\">6</span>,      <a href=\"file:///home/zhang/Projects/3d/ProteinWorkshop/proteinworkshop/models/base.py\" target=\"_blank\"><span style=\"color: #7f7f7f; text-decoration-color: #7f7f7f\">base.py</span></a><span style=\"color: #7f7f7f; text-decoration-color: #7f7f7f\">:</span><a href=\"file:///home/zhang/Projects/3d/ProteinWorkshop/proteinworkshop/models/base.py#415\" target=\"_blank\"><span style=\"color: #7f7f7f; text-decoration-color: #7f7f7f\">415</span></a>\n",
       "<span style=\"color: #7fbfbf; text-decoration-color: #7fbfbf\">                    </span>         <span style=\"color: #808000; text-decoration-color: #808000\">num_gaussians</span>=<span style=\"color: #008080; text-decoration-color: #008080; font-weight: bold\">50</span>, <span style=\"color: #808000; text-decoration-color: #808000\">cutoff</span>=<span style=\"color: #008080; text-decoration-color: #008080; font-weight: bold\">10.0</span><span style=\"font-weight: bold\">)</span>                                             <span style=\"color: #7f7f7f; text-decoration-color: #7f7f7f\">           </span>\n",
       "</pre>\n"
      ],
      "text/plain": [
       "\u001b[2;36m                   \u001b[0m\u001b[2;36m \u001b[0m\u001b[34mINFO    \u001b[0m \u001b[1;35mSchNetModel\u001b[0m\u001b[1m(\u001b[0m\u001b[33mhidden_channels\u001b[0m=\u001b[1;36m512\u001b[0m, \u001b[33mnum_filters\u001b[0m=\u001b[1;36m128\u001b[0m, \u001b[33mnum_interactions\u001b[0m=\u001b[1;36m6\u001b[0m,      \u001b]8;id=411327;file:///home/zhang/Projects/3d/ProteinWorkshop/proteinworkshop/models/base.py\u001b\\\u001b[2mbase.py\u001b[0m\u001b]8;;\u001b\\\u001b[2m:\u001b[0m\u001b]8;id=176564;file:///home/zhang/Projects/3d/ProteinWorkshop/proteinworkshop/models/base.py#415\u001b\\\u001b[2m415\u001b[0m\u001b]8;;\u001b\\\n",
       "\u001b[2;36m                    \u001b[0m         \u001b[33mnum_gaussians\u001b[0m=\u001b[1;36m50\u001b[0m, \u001b[33mcutoff\u001b[0m=\u001b[1;36m10\u001b[0m\u001b[1;36m.0\u001b[0m\u001b[1m)\u001b[0m                                             \u001b[2m           \u001b[0m\n"
      ]
     },
     "metadata": {},
     "output_type": "display_data"
    },
    {
     "data": {
      "text/html": [
       "<pre style=\"white-space:pre;overflow-x:auto;line-height:normal;font-family:Menlo,'DejaVu Sans Mono',consolas,'Courier New',monospace\"><span style=\"color: #7fbfbf; text-decoration-color: #7fbfbf\">                    </span><span style=\"color: #000080; text-decoration-color: #000080\">INFO    </span> Instantiating decoders<span style=\"color: #808000; text-decoration-color: #808000\">...</span>                                                  <a href=\"file:///home/zhang/Projects/3d/ProteinWorkshop/proteinworkshop/models/base.py\" target=\"_blank\"><span style=\"color: #7f7f7f; text-decoration-color: #7f7f7f\">base.py</span></a><span style=\"color: #7f7f7f; text-decoration-color: #7f7f7f\">:</span><a href=\"file:///home/zhang/Projects/3d/ProteinWorkshop/proteinworkshop/models/base.py#417\" target=\"_blank\"><span style=\"color: #7f7f7f; text-decoration-color: #7f7f7f\">417</span></a>\n",
       "</pre>\n"
      ],
      "text/plain": [
       "\u001b[2;36m                   \u001b[0m\u001b[2;36m \u001b[0m\u001b[34mINFO    \u001b[0m Instantiating decoders\u001b[33m...\u001b[0m                                                  \u001b]8;id=401025;file:///home/zhang/Projects/3d/ProteinWorkshop/proteinworkshop/models/base.py\u001b\\\u001b[2mbase.py\u001b[0m\u001b]8;;\u001b\\\u001b[2m:\u001b[0m\u001b]8;id=294185;file:///home/zhang/Projects/3d/ProteinWorkshop/proteinworkshop/models/base.py#417\u001b\\\u001b[2m417\u001b[0m\u001b]8;;\u001b\\\n"
      ]
     },
     "metadata": {},
     "output_type": "display_data"
    },
    {
     "data": {
      "text/html": [
       "<pre style=\"white-space:pre;overflow-x:auto;line-height:normal;font-family:Menlo,'DejaVu Sans Mono',consolas,'Courier New',monospace\"><span style=\"color: #7fbfbf; text-decoration-color: #7fbfbf\">                    </span><span style=\"color: #000080; text-decoration-color: #000080\">INFO    </span> Building subgraph_distances decoder. Output dim <span style=\"color: #800080; text-decoration-color: #800080; font-style: italic\">None</span>                       <a href=\"file:///home/zhang/Projects/3d/ProteinWorkshop/proteinworkshop/models/base.py\" target=\"_blank\"><span style=\"color: #7f7f7f; text-decoration-color: #7f7f7f\">base.py</span></a><span style=\"color: #7f7f7f; text-decoration-color: #7f7f7f\">:</span><a href=\"file:///home/zhang/Projects/3d/ProteinWorkshop/proteinworkshop/models/base.py#252\" target=\"_blank\"><span style=\"color: #7f7f7f; text-decoration-color: #7f7f7f\">252</span></a>\n",
       "</pre>\n"
      ],
      "text/plain": [
       "\u001b[2;36m                   \u001b[0m\u001b[2;36m \u001b[0m\u001b[34mINFO    \u001b[0m Building subgraph_distances decoder. Output dim \u001b[3;35mNone\u001b[0m                       \u001b]8;id=956588;file:///home/zhang/Projects/3d/ProteinWorkshop/proteinworkshop/models/base.py\u001b\\\u001b[2mbase.py\u001b[0m\u001b]8;;\u001b\\\u001b[2m:\u001b[0m\u001b]8;id=736976;file:///home/zhang/Projects/3d/ProteinWorkshop/proteinworkshop/models/base.py#252\u001b\\\u001b[2m252\u001b[0m\u001b]8;;\u001b\\\n"
      ]
     },
     "metadata": {},
     "output_type": "display_data"
    },
    {
     "data": {
      "text/html": [
       "<pre style=\"white-space:pre;overflow-x:auto;line-height:normal;font-family:Menlo,'DejaVu Sans Mono',consolas,'Courier New',monospace\"><span style=\"color: #7fbfbf; text-decoration-color: #7fbfbf\">                    </span><span style=\"color: #000080; text-decoration-color: #000080\">INFO    </span> <span style=\"font-weight: bold\">{</span><span style=\"color: #008000; text-decoration-color: #008000\">'_target_'</span>: <span style=\"color: #008000; text-decoration-color: #008000\">'proteinworkshop.models.decoders.mlp_dist.MLP_Pred_Dist'</span>,     <a href=\"file:///home/zhang/Projects/3d/ProteinWorkshop/proteinworkshop/models/base.py\" target=\"_blank\"><span style=\"color: #7f7f7f; text-decoration-color: #7f7f7f\">base.py</span></a><span style=\"color: #7f7f7f; text-decoration-color: #7f7f7f\">:</span><a href=\"file:///home/zhang/Projects/3d/ProteinWorkshop/proteinworkshop/models/base.py#255\" target=\"_blank\"><span style=\"color: #7f7f7f; text-decoration-color: #7f7f7f\">255</span></a>\n",
       "<span style=\"color: #7fbfbf; text-decoration-color: #7fbfbf\">                    </span>         <span style=\"color: #008000; text-decoration-color: #008000\">'hidden_channels'</span>: <span style=\"color: #008080; text-decoration-color: #008080; font-weight: bold\">32</span>, <span style=\"color: #008000; text-decoration-color: #008000\">'input'</span>: <span style=\"color: #008000; text-decoration-color: #008000\">'fused_repr'</span><span style=\"font-weight: bold\">}</span>                              <span style=\"color: #7f7f7f; text-decoration-color: #7f7f7f\">           </span>\n",
       "</pre>\n"
      ],
      "text/plain": [
       "\u001b[2;36m                   \u001b[0m\u001b[2;36m \u001b[0m\u001b[34mINFO    \u001b[0m \u001b[1m{\u001b[0m\u001b[32m'_target_'\u001b[0m: \u001b[32m'proteinworkshop.models.decoders.mlp_dist.MLP_Pred_Dist'\u001b[0m,     \u001b]8;id=378680;file:///home/zhang/Projects/3d/ProteinWorkshop/proteinworkshop/models/base.py\u001b\\\u001b[2mbase.py\u001b[0m\u001b]8;;\u001b\\\u001b[2m:\u001b[0m\u001b]8;id=985918;file:///home/zhang/Projects/3d/ProteinWorkshop/proteinworkshop/models/base.py#255\u001b\\\u001b[2m255\u001b[0m\u001b]8;;\u001b\\\n",
       "\u001b[2;36m                    \u001b[0m         \u001b[32m'hidden_channels'\u001b[0m: \u001b[1;36m32\u001b[0m, \u001b[32m'input'\u001b[0m: \u001b[32m'fused_repr'\u001b[0m\u001b[1m}\u001b[0m                              \u001b[2m           \u001b[0m\n"
      ]
     },
     "metadata": {},
     "output_type": "display_data"
    },
    {
     "data": {
      "text/html": [
       "<pre style=\"white-space:pre;overflow-x:auto;line-height:normal;font-family:Menlo,'DejaVu Sans Mono',consolas,'Courier New',monospace\"><span style=\"color: #7fbfbf; text-decoration-color: #7fbfbf\">                    </span><span style=\"color: #000080; text-decoration-color: #000080\">INFO    </span> <span style=\"color: #800080; text-decoration-color: #800080; font-weight: bold\">ModuleDict</span><span style=\"font-weight: bold\">(</span>                                                                <a href=\"file:///home/zhang/Projects/3d/ProteinWorkshop/proteinworkshop/models/base.py\" target=\"_blank\"><span style=\"color: #7f7f7f; text-decoration-color: #7f7f7f\">base.py</span></a><span style=\"color: #7f7f7f; text-decoration-color: #7f7f7f\">:</span><a href=\"file:///home/zhang/Projects/3d/ProteinWorkshop/proteinworkshop/models/base.py#419\" target=\"_blank\"><span style=\"color: #7f7f7f; text-decoration-color: #7f7f7f\">419</span></a>\n",
       "<span style=\"color: #7fbfbf; text-decoration-color: #7fbfbf\">                    </span>           <span style=\"font-weight: bold\">(</span>subgraph_distances<span style=\"font-weight: bold\">)</span>: <span style=\"color: #800080; text-decoration-color: #800080; font-weight: bold\">MLP_Pred_Dist</span><span style=\"font-weight: bold\">(</span>                                     <span style=\"color: #7f7f7f; text-decoration-color: #7f7f7f\">           </span>\n",
       "<span style=\"color: #7fbfbf; text-decoration-color: #7fbfbf\">                    </span>             <span style=\"font-weight: bold\">(</span>linear1<span style=\"font-weight: bold\">)</span>: <span style=\"color: #800080; text-decoration-color: #800080; font-weight: bold\">Linear</span><span style=\"font-weight: bold\">(</span><span style=\"color: #808000; text-decoration-color: #808000\">in_features</span>=<span style=\"color: #008080; text-decoration-color: #008080; font-weight: bold\">64</span>, <span style=\"color: #808000; text-decoration-color: #808000\">out_features</span>=<span style=\"color: #008080; text-decoration-color: #008080; font-weight: bold\">32</span>, <span style=\"color: #808000; text-decoration-color: #808000\">bias</span>=<span style=\"color: #00ff00; text-decoration-color: #00ff00; font-style: italic\">True</span><span style=\"font-weight: bold\">)</span>          <span style=\"color: #7f7f7f; text-decoration-color: #7f7f7f\">           </span>\n",
       "<span style=\"color: #7fbfbf; text-decoration-color: #7fbfbf\">                    </span>             <span style=\"font-weight: bold\">(</span>relu<span style=\"font-weight: bold\">)</span>: <span style=\"color: #800080; text-decoration-color: #800080; font-weight: bold\">ReLU</span><span style=\"font-weight: bold\">()</span>                                                         <span style=\"color: #7f7f7f; text-decoration-color: #7f7f7f\">           </span>\n",
       "<span style=\"color: #7fbfbf; text-decoration-color: #7fbfbf\">                    </span>             <span style=\"font-weight: bold\">(</span>linear2<span style=\"font-weight: bold\">)</span>: <span style=\"color: #800080; text-decoration-color: #800080; font-weight: bold\">Linear</span><span style=\"font-weight: bold\">(</span><span style=\"color: #808000; text-decoration-color: #808000\">in_features</span>=<span style=\"color: #008080; text-decoration-color: #008080; font-weight: bold\">32</span>, <span style=\"color: #808000; text-decoration-color: #808000\">out_features</span>=<span style=\"color: #008080; text-decoration-color: #008080; font-weight: bold\">1</span>, <span style=\"color: #808000; text-decoration-color: #808000\">bias</span>=<span style=\"color: #00ff00; text-decoration-color: #00ff00; font-style: italic\">True</span><span style=\"font-weight: bold\">)</span>           <span style=\"color: #7f7f7f; text-decoration-color: #7f7f7f\">           </span>\n",
       "<span style=\"color: #7fbfbf; text-decoration-color: #7fbfbf\">                    </span>           <span style=\"font-weight: bold\">)</span>                                                                        <span style=\"color: #7f7f7f; text-decoration-color: #7f7f7f\">           </span>\n",
       "<span style=\"color: #7fbfbf; text-decoration-color: #7fbfbf\">                    </span>         <span style=\"font-weight: bold\">)</span>                                                                          <span style=\"color: #7f7f7f; text-decoration-color: #7f7f7f\">           </span>\n",
       "</pre>\n"
      ],
      "text/plain": [
       "\u001b[2;36m                   \u001b[0m\u001b[2;36m \u001b[0m\u001b[34mINFO    \u001b[0m \u001b[1;35mModuleDict\u001b[0m\u001b[1m(\u001b[0m                                                                \u001b]8;id=142523;file:///home/zhang/Projects/3d/ProteinWorkshop/proteinworkshop/models/base.py\u001b\\\u001b[2mbase.py\u001b[0m\u001b]8;;\u001b\\\u001b[2m:\u001b[0m\u001b]8;id=534073;file:///home/zhang/Projects/3d/ProteinWorkshop/proteinworkshop/models/base.py#419\u001b\\\u001b[2m419\u001b[0m\u001b]8;;\u001b\\\n",
       "\u001b[2;36m                    \u001b[0m           \u001b[1m(\u001b[0msubgraph_distances\u001b[1m)\u001b[0m: \u001b[1;35mMLP_Pred_Dist\u001b[0m\u001b[1m(\u001b[0m                                     \u001b[2m           \u001b[0m\n",
       "\u001b[2;36m                    \u001b[0m             \u001b[1m(\u001b[0mlinear1\u001b[1m)\u001b[0m: \u001b[1;35mLinear\u001b[0m\u001b[1m(\u001b[0m\u001b[33min_features\u001b[0m=\u001b[1;36m64\u001b[0m, \u001b[33mout_features\u001b[0m=\u001b[1;36m32\u001b[0m, \u001b[33mbias\u001b[0m=\u001b[3;92mTrue\u001b[0m\u001b[1m)\u001b[0m          \u001b[2m           \u001b[0m\n",
       "\u001b[2;36m                    \u001b[0m             \u001b[1m(\u001b[0mrelu\u001b[1m)\u001b[0m: \u001b[1;35mReLU\u001b[0m\u001b[1m(\u001b[0m\u001b[1m)\u001b[0m                                                         \u001b[2m           \u001b[0m\n",
       "\u001b[2;36m                    \u001b[0m             \u001b[1m(\u001b[0mlinear2\u001b[1m)\u001b[0m: \u001b[1;35mLinear\u001b[0m\u001b[1m(\u001b[0m\u001b[33min_features\u001b[0m=\u001b[1;36m32\u001b[0m, \u001b[33mout_features\u001b[0m=\u001b[1;36m1\u001b[0m, \u001b[33mbias\u001b[0m=\u001b[3;92mTrue\u001b[0m\u001b[1m)\u001b[0m           \u001b[2m           \u001b[0m\n",
       "\u001b[2;36m                    \u001b[0m           \u001b[1m)\u001b[0m                                                                        \u001b[2m           \u001b[0m\n",
       "\u001b[2;36m                    \u001b[0m         \u001b[1m)\u001b[0m                                                                          \u001b[2m           \u001b[0m\n"
      ]
     },
     "metadata": {},
     "output_type": "display_data"
    },
    {
     "data": {
      "text/html": [
       "<pre style=\"white-space:pre;overflow-x:auto;line-height:normal;font-family:Menlo,'DejaVu Sans Mono',consolas,'Courier New',monospace\"><span style=\"color: #7fbfbf; text-decoration-color: #7fbfbf\">                    </span><span style=\"color: #000080; text-decoration-color: #000080\">INFO    </span> Instantiating losses<span style=\"color: #808000; text-decoration-color: #808000\">...</span>                                                    <a href=\"file:///home/zhang/Projects/3d/ProteinWorkshop/proteinworkshop/models/base.py\" target=\"_blank\"><span style=\"color: #7f7f7f; text-decoration-color: #7f7f7f\">base.py</span></a><span style=\"color: #7f7f7f; text-decoration-color: #7f7f7f\">:</span><a href=\"file:///home/zhang/Projects/3d/ProteinWorkshop/proteinworkshop/models/base.py#421\" target=\"_blank\"><span style=\"color: #7f7f7f; text-decoration-color: #7f7f7f\">421</span></a>\n",
       "</pre>\n"
      ],
      "text/plain": [
       "\u001b[2;36m                   \u001b[0m\u001b[2;36m \u001b[0m\u001b[34mINFO    \u001b[0m Instantiating losses\u001b[33m...\u001b[0m                                                    \u001b]8;id=321853;file:///home/zhang/Projects/3d/ProteinWorkshop/proteinworkshop/models/base.py\u001b\\\u001b[2mbase.py\u001b[0m\u001b]8;;\u001b\\\u001b[2m:\u001b[0m\u001b]8;id=897827;file:///home/zhang/Projects/3d/ProteinWorkshop/proteinworkshop/models/base.py#421\u001b\\\u001b[2m421\u001b[0m\u001b]8;;\u001b\\\n"
      ]
     },
     "metadata": {},
     "output_type": "display_data"
    },
    {
     "data": {
      "text/html": [
       "<pre style=\"white-space:pre;overflow-x:auto;line-height:normal;font-family:Menlo,'DejaVu Sans Mono',consolas,'Courier New',monospace\"><span style=\"color: #7fbfbf; text-decoration-color: #7fbfbf\">                    </span><span style=\"color: #000080; text-decoration-color: #000080\">INFO    </span> Using losses: <span style=\"font-weight: bold\">{</span><span style=\"color: #008000; text-decoration-color: #008000\">'subgraph_distances'</span>: <span style=\"font-weight: bold\">&lt;</span><span style=\"color: #ff00ff; text-decoration-color: #ff00ff; font-weight: bold\">function</span><span style=\"color: #000000; text-decoration-color: #000000\"> mse_loss at </span>                <a href=\"file:///home/zhang/Projects/3d/ProteinWorkshop/proteinworkshop/models/base.py\" target=\"_blank\"><span style=\"color: #7f7f7f; text-decoration-color: #7f7f7f\">base.py</span></a><span style=\"color: #7f7f7f; text-decoration-color: #7f7f7f\">:</span><a href=\"file:///home/zhang/Projects/3d/ProteinWorkshop/proteinworkshop/models/base.py#423\" target=\"_blank\"><span style=\"color: #7f7f7f; text-decoration-color: #7f7f7f\">423</span></a>\n",
       "<span style=\"color: #7fbfbf; text-decoration-color: #7fbfbf\">                    </span>         <span style=\"color: #008080; text-decoration-color: #008080; font-weight: bold\">0x7fcc00fbf910</span><span style=\"font-weight: bold\">&gt;}</span>                                                           <span style=\"color: #7f7f7f; text-decoration-color: #7f7f7f\">           </span>\n",
       "</pre>\n"
      ],
      "text/plain": [
       "\u001b[2;36m                   \u001b[0m\u001b[2;36m \u001b[0m\u001b[34mINFO    \u001b[0m Using losses: \u001b[1m{\u001b[0m\u001b[32m'subgraph_distances'\u001b[0m: \u001b[1m<\u001b[0m\u001b[1;95mfunction\u001b[0m\u001b[39m mse_loss at \u001b[0m                \u001b]8;id=222435;file:///home/zhang/Projects/3d/ProteinWorkshop/proteinworkshop/models/base.py\u001b\\\u001b[2mbase.py\u001b[0m\u001b]8;;\u001b\\\u001b[2m:\u001b[0m\u001b]8;id=564643;file:///home/zhang/Projects/3d/ProteinWorkshop/proteinworkshop/models/base.py#423\u001b\\\u001b[2m423\u001b[0m\u001b]8;;\u001b\\\n",
       "\u001b[2;36m                    \u001b[0m         \u001b[1;36m0x7fcc00fbf910\u001b[0m\u001b[1m>\u001b[0m\u001b[1m}\u001b[0m                                                           \u001b[2m           \u001b[0m\n"
      ]
     },
     "metadata": {},
     "output_type": "display_data"
    },
    {
     "data": {
      "text/html": [
       "<pre style=\"white-space:pre;overflow-x:auto;line-height:normal;font-family:Menlo,'DejaVu Sans Mono',consolas,'Courier New',monospace\"><span style=\"color: #7fbfbf; text-decoration-color: #7fbfbf\">                    </span><span style=\"color: #000080; text-decoration-color: #000080\">INFO    </span> Not using aux loss scaling                                                 <a href=\"file:///home/zhang/Projects/3d/ProteinWorkshop/proteinworkshop/models/base.py\" target=\"_blank\"><span style=\"color: #7f7f7f; text-decoration-color: #7f7f7f\">base.py</span></a><span style=\"color: #7f7f7f; text-decoration-color: #7f7f7f\">:</span><a href=\"file:///home/zhang/Projects/3d/ProteinWorkshop/proteinworkshop/models/base.py#430\" target=\"_blank\"><span style=\"color: #7f7f7f; text-decoration-color: #7f7f7f\">430</span></a>\n",
       "</pre>\n"
      ],
      "text/plain": [
       "\u001b[2;36m                   \u001b[0m\u001b[2;36m \u001b[0m\u001b[34mINFO    \u001b[0m Not using aux loss scaling                                                 \u001b]8;id=914044;file:///home/zhang/Projects/3d/ProteinWorkshop/proteinworkshop/models/base.py\u001b\\\u001b[2mbase.py\u001b[0m\u001b]8;;\u001b\\\u001b[2m:\u001b[0m\u001b]8;id=694635;file:///home/zhang/Projects/3d/ProteinWorkshop/proteinworkshop/models/base.py#430\u001b\\\u001b[2m430\u001b[0m\u001b]8;;\u001b\\\n"
      ]
     },
     "metadata": {},
     "output_type": "display_data"
    },
    {
     "data": {
      "text/html": [
       "<pre style=\"white-space:pre;overflow-x:auto;line-height:normal;font-family:Menlo,'DejaVu Sans Mono',consolas,'Courier New',monospace\"><span style=\"color: #7fbfbf; text-decoration-color: #7fbfbf\">                    </span><span style=\"color: #000080; text-decoration-color: #000080\">INFO    </span> Configuring metrics<span style=\"color: #808000; text-decoration-color: #808000\">...</span>                                                     <a href=\"file:///home/zhang/Projects/3d/ProteinWorkshop/proteinworkshop/models/base.py\" target=\"_blank\"><span style=\"color: #7f7f7f; text-decoration-color: #7f7f7f\">base.py</span></a><span style=\"color: #7f7f7f; text-decoration-color: #7f7f7f\">:</span><a href=\"file:///home/zhang/Projects/3d/ProteinWorkshop/proteinworkshop/models/base.py#432\" target=\"_blank\"><span style=\"color: #7f7f7f; text-decoration-color: #7f7f7f\">432</span></a>\n",
       "</pre>\n"
      ],
      "text/plain": [
       "\u001b[2;36m                   \u001b[0m\u001b[2;36m \u001b[0m\u001b[34mINFO    \u001b[0m Configuring metrics\u001b[33m...\u001b[0m                                                     \u001b]8;id=138284;file:///home/zhang/Projects/3d/ProteinWorkshop/proteinworkshop/models/base.py\u001b\\\u001b[2mbase.py\u001b[0m\u001b]8;;\u001b\\\u001b[2m:\u001b[0m\u001b]8;id=455552;file:///home/zhang/Projects/3d/ProteinWorkshop/proteinworkshop/models/base.py#432\u001b\\\u001b[2m432\u001b[0m\u001b]8;;\u001b\\\n"
      ]
     },
     "metadata": {},
     "output_type": "display_data"
    },
    {
     "data": {
      "text/html": [
       "<pre style=\"white-space:pre;overflow-x:auto;line-height:normal;font-family:Menlo,'DejaVu Sans Mono',consolas,'Courier New',monospace\"><span style=\"color: #7fbfbf; text-decoration-color: #7fbfbf\">                    </span><span style=\"color: #000080; text-decoration-color: #000080\">INFO    </span> <span style=\"font-weight: bold\">[</span><span style=\"color: #008000; text-decoration-color: #008000\">'mse'</span><span style=\"font-weight: bold\">]</span>                                                                    <a href=\"file:///home/zhang/Projects/3d/ProteinWorkshop/proteinworkshop/models/base.py\" target=\"_blank\"><span style=\"color: #7f7f7f; text-decoration-color: #7f7f7f\">base.py</span></a><span style=\"color: #7f7f7f; text-decoration-color: #7f7f7f\">:</span><a href=\"file:///home/zhang/Projects/3d/ProteinWorkshop/proteinworkshop/models/base.py#434\" target=\"_blank\"><span style=\"color: #7f7f7f; text-decoration-color: #7f7f7f\">434</span></a>\n",
       "</pre>\n"
      ],
      "text/plain": [
       "\u001b[2;36m                   \u001b[0m\u001b[2;36m \u001b[0m\u001b[34mINFO    \u001b[0m \u001b[1m[\u001b[0m\u001b[32m'mse'\u001b[0m\u001b[1m]\u001b[0m                                                                    \u001b]8;id=851121;file:///home/zhang/Projects/3d/ProteinWorkshop/proteinworkshop/models/base.py\u001b\\\u001b[2mbase.py\u001b[0m\u001b]8;;\u001b\\\u001b[2m:\u001b[0m\u001b]8;id=321019;file:///home/zhang/Projects/3d/ProteinWorkshop/proteinworkshop/models/base.py#434\u001b\\\u001b[2m434\u001b[0m\u001b]8;;\u001b\\\n"
      ]
     },
     "metadata": {},
     "output_type": "display_data"
    },
    {
     "data": {
      "text/html": [
       "<pre style=\"white-space:pre;overflow-x:auto;line-height:normal;font-family:Menlo,'DejaVu Sans Mono',consolas,'Courier New',monospace\"><span style=\"color: #7fbfbf; text-decoration-color: #7fbfbf\">                    </span><span style=\"color: #000080; text-decoration-color: #000080\">INFO    </span> Instantiating featuriser<span style=\"color: #808000; text-decoration-color: #808000\">...</span>                                                <a href=\"file:///home/zhang/Projects/3d/ProteinWorkshop/proteinworkshop/models/base.py\" target=\"_blank\"><span style=\"color: #7f7f7f; text-decoration-color: #7f7f7f\">base.py</span></a><span style=\"color: #7f7f7f; text-decoration-color: #7f7f7f\">:</span><a href=\"file:///home/zhang/Projects/3d/ProteinWorkshop/proteinworkshop/models/base.py#436\" target=\"_blank\"><span style=\"color: #7f7f7f; text-decoration-color: #7f7f7f\">436</span></a>\n",
       "</pre>\n"
      ],
      "text/plain": [
       "\u001b[2;36m                   \u001b[0m\u001b[2;36m \u001b[0m\u001b[34mINFO    \u001b[0m Instantiating featuriser\u001b[33m...\u001b[0m                                                \u001b]8;id=270107;file:///home/zhang/Projects/3d/ProteinWorkshop/proteinworkshop/models/base.py\u001b\\\u001b[2mbase.py\u001b[0m\u001b]8;;\u001b\\\u001b[2m:\u001b[0m\u001b]8;id=644111;file:///home/zhang/Projects/3d/ProteinWorkshop/proteinworkshop/models/base.py#436\u001b\\\u001b[2m436\u001b[0m\u001b]8;;\u001b\\\n"
      ]
     },
     "metadata": {},
     "output_type": "display_data"
    },
    {
     "data": {
      "text/html": [
       "<pre style=\"white-space:pre;overflow-x:auto;line-height:normal;font-family:Menlo,'DejaVu Sans Mono',consolas,'Courier New',monospace\"><span style=\"color: #7fbfbf; text-decoration-color: #7fbfbf\">                    </span><span style=\"color: #000080; text-decoration-color: #000080\">INFO    </span> <span style=\"color: #800080; text-decoration-color: #800080; font-weight: bold\">ProteinFeaturiser</span><span style=\"font-weight: bold\">(</span><span style=\"color: #808000; text-decoration-color: #808000\">representation</span>=<span style=\"color: #800080; text-decoration-color: #800080\">CA</span>,                                       <a href=\"file:///home/zhang/Projects/3d/ProteinWorkshop/proteinworkshop/models/base.py\" target=\"_blank\"><span style=\"color: #7f7f7f; text-decoration-color: #7f7f7f\">base.py</span></a><span style=\"color: #7f7f7f; text-decoration-color: #7f7f7f\">:</span><a href=\"file:///home/zhang/Projects/3d/ProteinWorkshop/proteinworkshop/models/base.py#438\" target=\"_blank\"><span style=\"color: #7f7f7f; text-decoration-color: #7f7f7f\">438</span></a>\n",
       "<span style=\"color: #7fbfbf; text-decoration-color: #7fbfbf\">                    </span>         <span style=\"color: #808000; text-decoration-color: #808000\">scalar_node_features</span>=<span style=\"font-weight: bold\">[</span><span style=\"color: #008000; text-decoration-color: #008000\">'amino_acid_one_hot'</span>,                                <span style=\"color: #7f7f7f; text-decoration-color: #7f7f7f\">           </span>\n",
       "<span style=\"color: #7fbfbf; text-decoration-color: #7fbfbf\">                    </span>         <span style=\"color: #008000; text-decoration-color: #008000\">'sequence_positional_encoding'</span>, <span style=\"color: #008000; text-decoration-color: #008000\">'alpha'</span>, <span style=\"color: #008000; text-decoration-color: #008000\">'kappa'</span><span style=\"font-weight: bold\">]</span>,                         <span style=\"color: #7f7f7f; text-decoration-color: #7f7f7f\">           </span>\n",
       "<span style=\"color: #7fbfbf; text-decoration-color: #7fbfbf\">                    </span>         <span style=\"color: #808000; text-decoration-color: #808000\">vector_node_features</span>=<span style=\"font-weight: bold\">[]</span>, <span style=\"color: #808000; text-decoration-color: #808000\">edge_types</span>=<span style=\"font-weight: bold\">[]</span>, <span style=\"color: #808000; text-decoration-color: #808000\">scalar_edge_features</span>=<span style=\"font-weight: bold\">[]</span>,           <span style=\"color: #7f7f7f; text-decoration-color: #7f7f7f\">           </span>\n",
       "<span style=\"color: #7fbfbf; text-decoration-color: #7fbfbf\">                    </span>         <span style=\"color: #808000; text-decoration-color: #808000\">vector_edge_features</span>=<span style=\"font-weight: bold\">[])</span>                                                   <span style=\"color: #7f7f7f; text-decoration-color: #7f7f7f\">           </span>\n",
       "</pre>\n"
      ],
      "text/plain": [
       "\u001b[2;36m                   \u001b[0m\u001b[2;36m \u001b[0m\u001b[34mINFO    \u001b[0m \u001b[1;35mProteinFeaturiser\u001b[0m\u001b[1m(\u001b[0m\u001b[33mrepresentation\u001b[0m=\u001b[35mCA\u001b[0m,                                       \u001b]8;id=393557;file:///home/zhang/Projects/3d/ProteinWorkshop/proteinworkshop/models/base.py\u001b\\\u001b[2mbase.py\u001b[0m\u001b]8;;\u001b\\\u001b[2m:\u001b[0m\u001b]8;id=419456;file:///home/zhang/Projects/3d/ProteinWorkshop/proteinworkshop/models/base.py#438\u001b\\\u001b[2m438\u001b[0m\u001b]8;;\u001b\\\n",
       "\u001b[2;36m                    \u001b[0m         \u001b[33mscalar_node_features\u001b[0m=\u001b[1m[\u001b[0m\u001b[32m'amino_acid_one_hot'\u001b[0m,                                \u001b[2m           \u001b[0m\n",
       "\u001b[2;36m                    \u001b[0m         \u001b[32m'sequence_positional_encoding'\u001b[0m, \u001b[32m'alpha'\u001b[0m, \u001b[32m'kappa'\u001b[0m\u001b[1m]\u001b[0m,                         \u001b[2m           \u001b[0m\n",
       "\u001b[2;36m                    \u001b[0m         \u001b[33mvector_node_features\u001b[0m=\u001b[1m[\u001b[0m\u001b[1m]\u001b[0m, \u001b[33medge_types\u001b[0m=\u001b[1m[\u001b[0m\u001b[1m]\u001b[0m, \u001b[33mscalar_edge_features\u001b[0m=\u001b[1m[\u001b[0m\u001b[1m]\u001b[0m,           \u001b[2m           \u001b[0m\n",
       "\u001b[2;36m                    \u001b[0m         \u001b[33mvector_edge_features\u001b[0m=\u001b[1m[\u001b[0m\u001b[1m]\u001b[0m\u001b[1m)\u001b[0m                                                   \u001b[2m           \u001b[0m\n"
      ]
     },
     "metadata": {},
     "output_type": "display_data"
    },
    {
     "data": {
      "text/html": [
       "<pre style=\"white-space:pre;overflow-x:auto;line-height:normal;font-family:Menlo,'DejaVu Sans Mono',consolas,'Courier New',monospace\"><span style=\"color: #7fbfbf; text-decoration-color: #7fbfbf\">                    </span><span style=\"color: #000080; text-decoration-color: #000080\">INFO    </span> Instantiating task transform<span style=\"color: #808000; text-decoration-color: #808000\">...</span>                                            <a href=\"file:///home/zhang/Projects/3d/ProteinWorkshop/proteinworkshop/models/base.py\" target=\"_blank\"><span style=\"color: #7f7f7f; text-decoration-color: #7f7f7f\">base.py</span></a><span style=\"color: #7f7f7f; text-decoration-color: #7f7f7f\">:</span><a href=\"file:///home/zhang/Projects/3d/ProteinWorkshop/proteinworkshop/models/base.py#440\" target=\"_blank\"><span style=\"color: #7f7f7f; text-decoration-color: #7f7f7f\">440</span></a>\n",
       "</pre>\n"
      ],
      "text/plain": [
       "\u001b[2;36m                   \u001b[0m\u001b[2;36m \u001b[0m\u001b[34mINFO    \u001b[0m Instantiating task transform\u001b[33m...\u001b[0m                                            \u001b]8;id=979578;file:///home/zhang/Projects/3d/ProteinWorkshop/proteinworkshop/models/base.py\u001b\\\u001b[2mbase.py\u001b[0m\u001b]8;;\u001b\\\u001b[2m:\u001b[0m\u001b]8;id=907009;file:///home/zhang/Projects/3d/ProteinWorkshop/proteinworkshop/models/base.py#440\u001b\\\u001b[2m440\u001b[0m\u001b]8;;\u001b\\\n"
      ]
     },
     "metadata": {},
     "output_type": "display_data"
    },
    {
     "data": {
      "text/html": [
       "<pre style=\"white-space:pre;overflow-x:auto;line-height:normal;font-family:Menlo,'DejaVu Sans Mono',consolas,'Courier New',monospace\"><span style=\"color: #7fbfbf; text-decoration-color: #7fbfbf\">                    </span><span style=\"color: #000080; text-decoration-color: #000080\">INFO    </span> <span style=\"color: #800080; text-decoration-color: #800080; font-style: italic\">None</span>                                                                       <a href=\"file:///home/zhang/Projects/3d/ProteinWorkshop/proteinworkshop/models/base.py\" target=\"_blank\"><span style=\"color: #7f7f7f; text-decoration-color: #7f7f7f\">base.py</span></a><span style=\"color: #7f7f7f; text-decoration-color: #7f7f7f\">:</span><a href=\"file:///home/zhang/Projects/3d/ProteinWorkshop/proteinworkshop/models/base.py#444\" target=\"_blank\"><span style=\"color: #7f7f7f; text-decoration-color: #7f7f7f\">444</span></a>\n",
       "</pre>\n"
      ],
      "text/plain": [
       "\u001b[2;36m                   \u001b[0m\u001b[2;36m \u001b[0m\u001b[34mINFO    \u001b[0m \u001b[3;35mNone\u001b[0m                                                                       \u001b]8;id=943400;file:///home/zhang/Projects/3d/ProteinWorkshop/proteinworkshop/models/base.py\u001b\\\u001b[2mbase.py\u001b[0m\u001b]8;;\u001b\\\u001b[2m:\u001b[0m\u001b]8;id=631559;file:///home/zhang/Projects/3d/ProteinWorkshop/proteinworkshop/models/base.py#444\u001b\\\u001b[2m444\u001b[0m\u001b]8;;\u001b\\\n"
      ]
     },
     "metadata": {},
     "output_type": "display_data"
    },
    {
     "data": {
      "text/html": [
       "<pre style=\"white-space:pre;overflow-x:auto;line-height:normal;font-family:Menlo,'DejaVu Sans Mono',consolas,'Courier New',monospace\"><span style=\"color: #7fbfbf; text-decoration-color: #7fbfbf\">[07/30/24 02:26:56] </span><span style=\"color: #000080; text-decoration-color: #000080\">INFO    </span> Initializing lazy layers<span style=\"color: #808000; text-decoration-color: #808000\">...</span>                                               <a href=\"file:///home/zhang/Projects/3d/ProteinWorkshop/proteinworkshop/train.py\" target=\"_blank\"><span style=\"color: #7f7f7f; text-decoration-color: #7f7f7f\">train.py</span></a><span style=\"color: #7f7f7f; text-decoration-color: #7f7f7f\">:</span><a href=\"file:///home/zhang/Projects/3d/ProteinWorkshop/proteinworkshop/train.py#145\" target=\"_blank\"><span style=\"color: #7f7f7f; text-decoration-color: #7f7f7f\">145</span></a>\n",
       "</pre>\n"
      ],
      "text/plain": [
       "\u001b[2;36m[07/30/24 02:26:56]\u001b[0m\u001b[2;36m \u001b[0m\u001b[34mINFO    \u001b[0m Initializing lazy layers\u001b[33m...\u001b[0m                                               \u001b]8;id=122804;file:///home/zhang/Projects/3d/ProteinWorkshop/proteinworkshop/train.py\u001b\\\u001b[2mtrain.py\u001b[0m\u001b]8;;\u001b\\\u001b[2m:\u001b[0m\u001b]8;id=125814;file:///home/zhang/Projects/3d/ProteinWorkshop/proteinworkshop/train.py#145\u001b\\\u001b[2m145\u001b[0m\u001b]8;;\u001b\\\n"
      ]
     },
     "metadata": {},
     "output_type": "display_data"
    },
    {
     "name": "stderr",
     "output_type": "stream",
     "text": [
      "100%|██████████| 542378/542378 [00:00<00:00, 4417123.70it/s]\n",
      "Processing...\n",
      "Done!\n",
      "100%|██████████| 542378/542378 [00:00<00:00, 4617770.00it/s]\n",
      "Processing...\n",
      "Done!\n",
      "100%|██████████| 542378/542378 [00:00<00:00, 4552026.92it/s]\n",
      "Processing...\n",
      "Done!\n",
      "/home/zhang/miniconda3/envs/3d_pretrain/lib/python3.10/site-packages/torch/utils/data/dataloader.py:557: UserWarning:\n",
      "\n",
      "This DataLoader will create 32 worker processes in total. Our suggested max number of worker in current system is 28, which is smaller than what this DataLoader is going to create. Please be aware that excessive worker creation might get DataLoader running slow or even freeze, lower the worker number to avoid potential slowness/freeze if necessary.\n",
      "\n"
     ]
    },
    {
     "data": {
      "text/html": [
       "<pre style=\"white-space:pre;overflow-x:auto;line-height:normal;font-family:Menlo,'DejaVu Sans Mono',consolas,'Courier New',monospace\"><span style=\"color: #7fbfbf; text-decoration-color: #7fbfbf\">[07/30/24 02:27:00] </span><span style=\"color: #000080; text-decoration-color: #000080\">INFO    </span> Unfeaturized batch: <span style=\"color: #800080; text-decoration-color: #800080; font-weight: bold\">ProteinBatch</span><span style=\"font-weight: bold\">(</span><span style=\"color: #808000; text-decoration-color: #808000\">fill_value</span>=<span style=\"font-weight: bold\">[</span><span style=\"color: #008080; text-decoration-color: #008080; font-weight: bold\">32</span><span style=\"font-weight: bold\">]</span>, <span style=\"color: #808000; text-decoration-color: #808000\">atom_list</span>=<span style=\"font-weight: bold\">[</span><span style=\"color: #008080; text-decoration-color: #008080; font-weight: bold\">32</span><span style=\"font-weight: bold\">]</span>,         <a href=\"file:///home/zhang/Projects/3d/ProteinWorkshop/proteinworkshop/train.py\" target=\"_blank\"><span style=\"color: #7f7f7f; text-decoration-color: #7f7f7f\">train.py</span></a><span style=\"color: #7f7f7f; text-decoration-color: #7f7f7f\">:</span><a href=\"file:///home/zhang/Projects/3d/ProteinWorkshop/proteinworkshop/train.py#149\" target=\"_blank\"><span style=\"color: #7f7f7f; text-decoration-color: #7f7f7f\">149</span></a>\n",
       "<span style=\"color: #7fbfbf; text-decoration-color: #7fbfbf\">                    </span>         <span style=\"color: #808000; text-decoration-color: #808000\">coords</span>=<span style=\"font-weight: bold\">[</span><span style=\"color: #008080; text-decoration-color: #008080; font-weight: bold\">11901</span>, <span style=\"color: #008080; text-decoration-color: #008080; font-weight: bold\">37</span>, <span style=\"color: #008080; text-decoration-color: #008080; font-weight: bold\">3</span><span style=\"font-weight: bold\">]</span>, <span style=\"color: #808000; text-decoration-color: #808000\">residues</span>=<span style=\"font-weight: bold\">[</span><span style=\"color: #008080; text-decoration-color: #008080; font-weight: bold\">32</span><span style=\"font-weight: bold\">]</span>, <span style=\"color: #808000; text-decoration-color: #808000\">residue_id</span>=<span style=\"font-weight: bold\">[</span><span style=\"color: #008080; text-decoration-color: #008080; font-weight: bold\">32</span><span style=\"font-weight: bold\">]</span>, <span style=\"color: #808000; text-decoration-color: #808000\">chains</span>=<span style=\"font-weight: bold\">[</span><span style=\"color: #008080; text-decoration-color: #008080; font-weight: bold\">11901</span><span style=\"font-weight: bold\">]</span>,    <span style=\"color: #7f7f7f; text-decoration-color: #7f7f7f\">            </span>\n",
       "<span style=\"color: #7fbfbf; text-decoration-color: #7fbfbf\">                    </span>         <span style=\"color: #808000; text-decoration-color: #808000\">residue_type</span>=<span style=\"font-weight: bold\">[</span><span style=\"color: #008080; text-decoration-color: #008080; font-weight: bold\">11901</span><span style=\"font-weight: bold\">]</span>, <span style=\"color: #808000; text-decoration-color: #808000\">b_factor</span>=<span style=\"font-weight: bold\">[</span><span style=\"color: #008080; text-decoration-color: #008080; font-weight: bold\">11901</span><span style=\"font-weight: bold\">]</span>, <span style=\"color: #808000; text-decoration-color: #808000\">id</span>=<span style=\"font-weight: bold\">[</span><span style=\"color: #008080; text-decoration-color: #008080; font-weight: bold\">32</span><span style=\"font-weight: bold\">]</span>, <span style=\"color: #808000; text-decoration-color: #808000\">x</span>=<span style=\"font-weight: bold\">[</span><span style=\"color: #008080; text-decoration-color: #008080; font-weight: bold\">11901</span><span style=\"font-weight: bold\">]</span>,               <span style=\"color: #7f7f7f; text-decoration-color: #7f7f7f\">            </span>\n",
       "<span style=\"color: #7fbfbf; text-decoration-color: #7fbfbf\">                    </span>         <span style=\"color: #808000; text-decoration-color: #808000\">seq_pos</span>=<span style=\"font-weight: bold\">[</span><span style=\"color: #008080; text-decoration-color: #008080; font-weight: bold\">11901</span>, <span style=\"color: #008080; text-decoration-color: #008080; font-weight: bold\">1</span><span style=\"font-weight: bold\">]</span>, <span style=\"color: #808000; text-decoration-color: #808000\">batch</span>=<span style=\"font-weight: bold\">[</span><span style=\"color: #008080; text-decoration-color: #008080; font-weight: bold\">11901</span><span style=\"font-weight: bold\">]</span>, <span style=\"color: #808000; text-decoration-color: #808000\">ptr</span>=<span style=\"font-weight: bold\">[</span><span style=\"color: #008080; text-decoration-color: #008080; font-weight: bold\">33</span><span style=\"font-weight: bold\">])</span>                              <span style=\"color: #7f7f7f; text-decoration-color: #7f7f7f\">            </span>\n",
       "</pre>\n"
      ],
      "text/plain": [
       "\u001b[2;36m[07/30/24 02:27:00]\u001b[0m\u001b[2;36m \u001b[0m\u001b[34mINFO    \u001b[0m Unfeaturized batch: \u001b[1;35mProteinBatch\u001b[0m\u001b[1m(\u001b[0m\u001b[33mfill_value\u001b[0m=\u001b[1m[\u001b[0m\u001b[1;36m32\u001b[0m\u001b[1m]\u001b[0m, \u001b[33matom_list\u001b[0m=\u001b[1m[\u001b[0m\u001b[1;36m32\u001b[0m\u001b[1m]\u001b[0m,         \u001b]8;id=205966;file:///home/zhang/Projects/3d/ProteinWorkshop/proteinworkshop/train.py\u001b\\\u001b[2mtrain.py\u001b[0m\u001b]8;;\u001b\\\u001b[2m:\u001b[0m\u001b]8;id=300111;file:///home/zhang/Projects/3d/ProteinWorkshop/proteinworkshop/train.py#149\u001b\\\u001b[2m149\u001b[0m\u001b]8;;\u001b\\\n",
       "\u001b[2;36m                    \u001b[0m         \u001b[33mcoords\u001b[0m=\u001b[1m[\u001b[0m\u001b[1;36m11901\u001b[0m, \u001b[1;36m37\u001b[0m, \u001b[1;36m3\u001b[0m\u001b[1m]\u001b[0m, \u001b[33mresidues\u001b[0m=\u001b[1m[\u001b[0m\u001b[1;36m32\u001b[0m\u001b[1m]\u001b[0m, \u001b[33mresidue_id\u001b[0m=\u001b[1m[\u001b[0m\u001b[1;36m32\u001b[0m\u001b[1m]\u001b[0m, \u001b[33mchains\u001b[0m=\u001b[1m[\u001b[0m\u001b[1;36m11901\u001b[0m\u001b[1m]\u001b[0m,    \u001b[2m            \u001b[0m\n",
       "\u001b[2;36m                    \u001b[0m         \u001b[33mresidue_type\u001b[0m=\u001b[1m[\u001b[0m\u001b[1;36m11901\u001b[0m\u001b[1m]\u001b[0m, \u001b[33mb_factor\u001b[0m=\u001b[1m[\u001b[0m\u001b[1;36m11901\u001b[0m\u001b[1m]\u001b[0m, \u001b[33mid\u001b[0m=\u001b[1m[\u001b[0m\u001b[1;36m32\u001b[0m\u001b[1m]\u001b[0m, \u001b[33mx\u001b[0m=\u001b[1m[\u001b[0m\u001b[1;36m11901\u001b[0m\u001b[1m]\u001b[0m,               \u001b[2m            \u001b[0m\n",
       "\u001b[2;36m                    \u001b[0m         \u001b[33mseq_pos\u001b[0m=\u001b[1m[\u001b[0m\u001b[1;36m11901\u001b[0m, \u001b[1;36m1\u001b[0m\u001b[1m]\u001b[0m, \u001b[33mbatch\u001b[0m=\u001b[1m[\u001b[0m\u001b[1;36m11901\u001b[0m\u001b[1m]\u001b[0m, \u001b[33mptr\u001b[0m=\u001b[1m[\u001b[0m\u001b[1;36m33\u001b[0m\u001b[1m]\u001b[0m\u001b[1m)\u001b[0m                              \u001b[2m            \u001b[0m\n"
      ]
     },
     "metadata": {},
     "output_type": "display_data"
    },
    {
     "data": {
      "text/html": [
       "<pre style=\"white-space:pre;overflow-x:auto;line-height:normal;font-family:Menlo,'DejaVu Sans Mono',consolas,'Courier New',monospace\"><span style=\"color: #7fbfbf; text-decoration-color: #7fbfbf\">                    </span><span style=\"color: #000080; text-decoration-color: #000080\">INFO    </span> Featurized batch: <span style=\"color: #800080; text-decoration-color: #800080; font-weight: bold\">ProteinBatch</span><span style=\"font-weight: bold\">(</span><span style=\"color: #808000; text-decoration-color: #808000\">fill_value</span>=<span style=\"font-weight: bold\">[</span><span style=\"color: #008080; text-decoration-color: #008080; font-weight: bold\">32</span><span style=\"font-weight: bold\">]</span>, <span style=\"color: #808000; text-decoration-color: #808000\">atom_list</span>=<span style=\"font-weight: bold\">[</span><span style=\"color: #008080; text-decoration-color: #008080; font-weight: bold\">32</span><span style=\"font-weight: bold\">]</span>,           <a href=\"file:///home/zhang/Projects/3d/ProteinWorkshop/proteinworkshop/train.py\" target=\"_blank\"><span style=\"color: #7f7f7f; text-decoration-color: #7f7f7f\">train.py</span></a><span style=\"color: #7f7f7f; text-decoration-color: #7f7f7f\">:</span><a href=\"file:///home/zhang/Projects/3d/ProteinWorkshop/proteinworkshop/train.py#151\" target=\"_blank\"><span style=\"color: #7f7f7f; text-decoration-color: #7f7f7f\">151</span></a>\n",
       "<span style=\"color: #7fbfbf; text-decoration-color: #7fbfbf\">                    </span>         <span style=\"color: #808000; text-decoration-color: #808000\">coords</span>=<span style=\"font-weight: bold\">[</span><span style=\"color: #008080; text-decoration-color: #008080; font-weight: bold\">11901</span>, <span style=\"color: #008080; text-decoration-color: #008080; font-weight: bold\">37</span>, <span style=\"color: #008080; text-decoration-color: #008080; font-weight: bold\">3</span><span style=\"font-weight: bold\">]</span>, <span style=\"color: #808000; text-decoration-color: #808000\">residues</span>=<span style=\"font-weight: bold\">[</span><span style=\"color: #008080; text-decoration-color: #008080; font-weight: bold\">32</span><span style=\"font-weight: bold\">]</span>, <span style=\"color: #808000; text-decoration-color: #808000\">residue_id</span>=<span style=\"font-weight: bold\">[</span><span style=\"color: #008080; text-decoration-color: #008080; font-weight: bold\">32</span><span style=\"font-weight: bold\">]</span>, <span style=\"color: #808000; text-decoration-color: #808000\">chains</span>=<span style=\"font-weight: bold\">[</span><span style=\"color: #008080; text-decoration-color: #008080; font-weight: bold\">11901</span><span style=\"font-weight: bold\">]</span>,    <span style=\"color: #7f7f7f; text-decoration-color: #7f7f7f\">            </span>\n",
       "<span style=\"color: #7fbfbf; text-decoration-color: #7fbfbf\">                    </span>         <span style=\"color: #808000; text-decoration-color: #808000\">residue_type</span>=<span style=\"font-weight: bold\">[</span><span style=\"color: #008080; text-decoration-color: #008080; font-weight: bold\">11901</span><span style=\"font-weight: bold\">]</span>, <span style=\"color: #808000; text-decoration-color: #808000\">b_factor</span>=<span style=\"font-weight: bold\">[</span><span style=\"color: #008080; text-decoration-color: #008080; font-weight: bold\">11901</span><span style=\"font-weight: bold\">]</span>, <span style=\"color: #808000; text-decoration-color: #808000\">id</span>=<span style=\"font-weight: bold\">[</span><span style=\"color: #008080; text-decoration-color: #008080; font-weight: bold\">32</span><span style=\"font-weight: bold\">]</span>, <span style=\"color: #808000; text-decoration-color: #808000\">x</span>=<span style=\"font-weight: bold\">[</span><span style=\"color: #008080; text-decoration-color: #008080; font-weight: bold\">11901</span>, <span style=\"color: #008080; text-decoration-color: #008080; font-weight: bold\">43</span><span style=\"font-weight: bold\">]</span>,           <span style=\"color: #7f7f7f; text-decoration-color: #7f7f7f\">            </span>\n",
       "<span style=\"color: #7fbfbf; text-decoration-color: #7fbfbf\">                    </span>         <span style=\"color: #808000; text-decoration-color: #808000\">seq_pos</span>=<span style=\"font-weight: bold\">[</span><span style=\"color: #008080; text-decoration-color: #008080; font-weight: bold\">11901</span>, <span style=\"color: #008080; text-decoration-color: #008080; font-weight: bold\">1</span><span style=\"font-weight: bold\">]</span>, <span style=\"color: #808000; text-decoration-color: #808000\">batch</span>=<span style=\"font-weight: bold\">[</span><span style=\"color: #008080; text-decoration-color: #008080; font-weight: bold\">11901</span><span style=\"font-weight: bold\">]</span>, <span style=\"color: #808000; text-decoration-color: #808000\">ptr</span>=<span style=\"font-weight: bold\">[</span><span style=\"color: #008080; text-decoration-color: #008080; font-weight: bold\">33</span><span style=\"font-weight: bold\">]</span>, <span style=\"color: #808000; text-decoration-color: #808000\">pos</span>=<span style=\"font-weight: bold\">[</span><span style=\"color: #008080; text-decoration-color: #008080; font-weight: bold\">11901</span>, <span style=\"color: #008080; text-decoration-color: #008080; font-weight: bold\">3</span><span style=\"font-weight: bold\">]</span>,              <span style=\"color: #7f7f7f; text-decoration-color: #7f7f7f\">            </span>\n",
       "<span style=\"color: #7fbfbf; text-decoration-color: #7fbfbf\">                    </span>         <span style=\"color: #808000; text-decoration-color: #808000\">edge_index</span>=<span style=\"font-weight: bold\">[</span><span style=\"color: #008080; text-decoration-color: #008080; font-weight: bold\">2</span>, <span style=\"color: #008080; text-decoration-color: #008080; font-weight: bold\">187643</span><span style=\"font-weight: bold\">]</span>, <span style=\"color: #808000; text-decoration-color: #808000\">subgraphs</span>=<span style=\"font-weight: bold\">[</span><span style=\"color: #008080; text-decoration-color: #008080; font-weight: bold\">1174</span>, <span style=\"color: #008080; text-decoration-color: #008080; font-weight: bold\">138</span><span style=\"font-weight: bold\">]</span>, <span style=\"color: #808000; text-decoration-color: #808000\">subgraph_distances</span>=<span style=\"font-weight: bold\">[</span><span style=\"color: #008080; text-decoration-color: #008080; font-weight: bold\">1174</span><span style=\"font-weight: bold\">]</span>, <span style=\"color: #7f7f7f; text-decoration-color: #7f7f7f\">            </span>\n",
       "<span style=\"color: #7fbfbf; text-decoration-color: #7fbfbf\">                    </span>         <span style=\"color: #808000; text-decoration-color: #808000\">subgraph_lengths</span>=<span style=\"font-weight: bold\">[</span><span style=\"color: #008080; text-decoration-color: #008080; font-weight: bold\">1174</span><span style=\"font-weight: bold\">])</span>                                                  <span style=\"color: #7f7f7f; text-decoration-color: #7f7f7f\">            </span>\n",
       "</pre>\n"
      ],
      "text/plain": [
       "\u001b[2;36m                   \u001b[0m\u001b[2;36m \u001b[0m\u001b[34mINFO    \u001b[0m Featurized batch: \u001b[1;35mProteinBatch\u001b[0m\u001b[1m(\u001b[0m\u001b[33mfill_value\u001b[0m=\u001b[1m[\u001b[0m\u001b[1;36m32\u001b[0m\u001b[1m]\u001b[0m, \u001b[33matom_list\u001b[0m=\u001b[1m[\u001b[0m\u001b[1;36m32\u001b[0m\u001b[1m]\u001b[0m,           \u001b]8;id=649427;file:///home/zhang/Projects/3d/ProteinWorkshop/proteinworkshop/train.py\u001b\\\u001b[2mtrain.py\u001b[0m\u001b]8;;\u001b\\\u001b[2m:\u001b[0m\u001b]8;id=761445;file:///home/zhang/Projects/3d/ProteinWorkshop/proteinworkshop/train.py#151\u001b\\\u001b[2m151\u001b[0m\u001b]8;;\u001b\\\n",
       "\u001b[2;36m                    \u001b[0m         \u001b[33mcoords\u001b[0m=\u001b[1m[\u001b[0m\u001b[1;36m11901\u001b[0m, \u001b[1;36m37\u001b[0m, \u001b[1;36m3\u001b[0m\u001b[1m]\u001b[0m, \u001b[33mresidues\u001b[0m=\u001b[1m[\u001b[0m\u001b[1;36m32\u001b[0m\u001b[1m]\u001b[0m, \u001b[33mresidue_id\u001b[0m=\u001b[1m[\u001b[0m\u001b[1;36m32\u001b[0m\u001b[1m]\u001b[0m, \u001b[33mchains\u001b[0m=\u001b[1m[\u001b[0m\u001b[1;36m11901\u001b[0m\u001b[1m]\u001b[0m,    \u001b[2m            \u001b[0m\n",
       "\u001b[2;36m                    \u001b[0m         \u001b[33mresidue_type\u001b[0m=\u001b[1m[\u001b[0m\u001b[1;36m11901\u001b[0m\u001b[1m]\u001b[0m, \u001b[33mb_factor\u001b[0m=\u001b[1m[\u001b[0m\u001b[1;36m11901\u001b[0m\u001b[1m]\u001b[0m, \u001b[33mid\u001b[0m=\u001b[1m[\u001b[0m\u001b[1;36m32\u001b[0m\u001b[1m]\u001b[0m, \u001b[33mx\u001b[0m=\u001b[1m[\u001b[0m\u001b[1;36m11901\u001b[0m, \u001b[1;36m43\u001b[0m\u001b[1m]\u001b[0m,           \u001b[2m            \u001b[0m\n",
       "\u001b[2;36m                    \u001b[0m         \u001b[33mseq_pos\u001b[0m=\u001b[1m[\u001b[0m\u001b[1;36m11901\u001b[0m, \u001b[1;36m1\u001b[0m\u001b[1m]\u001b[0m, \u001b[33mbatch\u001b[0m=\u001b[1m[\u001b[0m\u001b[1;36m11901\u001b[0m\u001b[1m]\u001b[0m, \u001b[33mptr\u001b[0m=\u001b[1m[\u001b[0m\u001b[1;36m33\u001b[0m\u001b[1m]\u001b[0m, \u001b[33mpos\u001b[0m=\u001b[1m[\u001b[0m\u001b[1;36m11901\u001b[0m, \u001b[1;36m3\u001b[0m\u001b[1m]\u001b[0m,              \u001b[2m            \u001b[0m\n",
       "\u001b[2;36m                    \u001b[0m         \u001b[33medge_index\u001b[0m=\u001b[1m[\u001b[0m\u001b[1;36m2\u001b[0m, \u001b[1;36m187643\u001b[0m\u001b[1m]\u001b[0m, \u001b[33msubgraphs\u001b[0m=\u001b[1m[\u001b[0m\u001b[1;36m1174\u001b[0m, \u001b[1;36m138\u001b[0m\u001b[1m]\u001b[0m, \u001b[33msubgraph_distances\u001b[0m=\u001b[1m[\u001b[0m\u001b[1;36m1174\u001b[0m\u001b[1m]\u001b[0m, \u001b[2m            \u001b[0m\n",
       "\u001b[2;36m                    \u001b[0m         \u001b[33msubgraph_lengths\u001b[0m=\u001b[1m[\u001b[0m\u001b[1;36m1174\u001b[0m\u001b[1m]\u001b[0m\u001b[1m)\u001b[0m                                                  \u001b[2m            \u001b[0m\n"
      ]
     },
     "metadata": {},
     "output_type": "display_data"
    },
    {
     "data": {
      "text/html": [
       "<pre style=\"white-space:pre;overflow-x:auto;line-height:normal;font-family:Menlo,'DejaVu Sans Mono',consolas,'Courier New',monospace\"><span style=\"color: #7fbfbf; text-decoration-color: #7fbfbf\">                    </span><span style=\"color: #000080; text-decoration-color: #000080\">INFO    </span> Example labels: <span style=\"font-weight: bold\">{</span><span style=\"color: #008000; text-decoration-color: #008000\">'subgraph_distances'</span>: tensor<span style=\"font-weight: bold\">[</span><span style=\"color: #008080; text-decoration-color: #008080; font-weight: bold\">1174</span><span style=\"font-weight: bold\">]</span> <span style=\"color: #008080; text-decoration-color: #008080; font-weight: bold\">4.</span>6Kb x∈<span style=\"font-weight: bold\">[</span><span style=\"color: #008080; text-decoration-color: #008080; font-weight: bold\">0.004</span>,       <a href=\"file:///home/zhang/Projects/3d/ProteinWorkshop/proteinworkshop/train.py\" target=\"_blank\"><span style=\"color: #7f7f7f; text-decoration-color: #7f7f7f\">train.py</span></a><span style=\"color: #7f7f7f; text-decoration-color: #7f7f7f\">:</span><a href=\"file:///home/zhang/Projects/3d/ProteinWorkshop/proteinworkshop/train.py#152\" target=\"_blank\"><span style=\"color: #7f7f7f; text-decoration-color: #7f7f7f\">152</span></a>\n",
       "<span style=\"color: #7fbfbf; text-decoration-color: #7fbfbf\">                    </span>         <span style=\"color: #008080; text-decoration-color: #008080; font-weight: bold\">1.000</span><span style=\"font-weight: bold\">]</span> <span style=\"color: #808000; text-decoration-color: #808000\">μ</span>=<span style=\"color: #008080; text-decoration-color: #008080; font-weight: bold\">0.370</span> <span style=\"color: #808000; text-decoration-color: #808000\">σ</span>=<span style=\"color: #008080; text-decoration-color: #008080; font-weight: bold\">0.198</span><span style=\"font-weight: bold\">}</span>                                                   <span style=\"color: #7f7f7f; text-decoration-color: #7f7f7f\">            </span>\n",
       "</pre>\n"
      ],
      "text/plain": [
       "\u001b[2;36m                   \u001b[0m\u001b[2;36m \u001b[0m\u001b[34mINFO    \u001b[0m Example labels: \u001b[1m{\u001b[0m\u001b[32m'subgraph_distances'\u001b[0m: tensor\u001b[1m[\u001b[0m\u001b[1;36m1174\u001b[0m\u001b[1m]\u001b[0m \u001b[1;36m4.\u001b[0m6Kb x∈\u001b[1m[\u001b[0m\u001b[1;36m0.004\u001b[0m,       \u001b]8;id=456159;file:///home/zhang/Projects/3d/ProteinWorkshop/proteinworkshop/train.py\u001b\\\u001b[2mtrain.py\u001b[0m\u001b]8;;\u001b\\\u001b[2m:\u001b[0m\u001b]8;id=539939;file:///home/zhang/Projects/3d/ProteinWorkshop/proteinworkshop/train.py#152\u001b\\\u001b[2m152\u001b[0m\u001b]8;;\u001b\\\n",
       "\u001b[2;36m                    \u001b[0m         \u001b[1;36m1.000\u001b[0m\u001b[1m]\u001b[0m \u001b[33mμ\u001b[0m=\u001b[1;36m0\u001b[0m\u001b[1;36m.370\u001b[0m \u001b[33mσ\u001b[0m=\u001b[1;36m0\u001b[0m\u001b[1;36m.198\u001b[0m\u001b[1m}\u001b[0m                                                   \u001b[2m            \u001b[0m\n"
      ]
     },
     "metadata": {},
     "output_type": "display_data"
    },
    {
     "data": {
      "text/html": [
       "<pre style=\"white-space:pre;overflow-x:auto;line-height:normal;font-family:Menlo,'DejaVu Sans Mono',consolas,'Courier New',monospace\"><span style=\"color: #7fbfbf; text-decoration-color: #7fbfbf\">[07/30/24 02:27:01] </span><span style=\"color: #000080; text-decoration-color: #000080\">INFO    </span> Model output: <span style=\"font-weight: bold\">{</span><span style=\"color: #008000; text-decoration-color: #008000\">'fused_repr'</span>: tensor<span style=\"font-weight: bold\">[</span><span style=\"color: #008080; text-decoration-color: #008080; font-weight: bold\">1174</span>, <span style=\"color: #008080; text-decoration-color: #008080; font-weight: bold\">64</span><span style=\"font-weight: bold\">]</span> <span style=\"color: #808000; text-decoration-color: #808000\">n</span>=<span style=\"color: #008080; text-decoration-color: #008080; font-weight: bold\">75136</span> <span style=\"font-weight: bold\">(</span><span style=\"color: #008080; text-decoration-color: #008080; font-weight: bold\">0.</span>3Mb<span style=\"font-weight: bold\">)</span>             <a href=\"file:///home/zhang/Projects/3d/ProteinWorkshop/proteinworkshop/train.py\" target=\"_blank\"><span style=\"color: #7f7f7f; text-decoration-color: #7f7f7f\">train.py</span></a><span style=\"color: #7f7f7f; text-decoration-color: #7f7f7f\">:</span><a href=\"file:///home/zhang/Projects/3d/ProteinWorkshop/proteinworkshop/train.py#160\" target=\"_blank\"><span style=\"color: #7f7f7f; text-decoration-color: #7f7f7f\">160</span></a>\n",
       "<span style=\"color: #7fbfbf; text-decoration-color: #7fbfbf\">                    </span>         x∈<span style=\"font-weight: bold\">[</span><span style=\"color: #008080; text-decoration-color: #008080; font-weight: bold\">-281.542</span>, <span style=\"color: #008080; text-decoration-color: #008080; font-weight: bold\">220.974</span><span style=\"font-weight: bold\">]</span> <span style=\"color: #808000; text-decoration-color: #808000\">μ</span>=<span style=\"color: #008080; text-decoration-color: #008080; font-weight: bold\">-3.224</span> <span style=\"color: #808000; text-decoration-color: #808000\">σ</span>=<span style=\"color: #008080; text-decoration-color: #008080; font-weight: bold\">49.382</span>, <span style=\"color: #008000; text-decoration-color: #008000\">'subgraph_distances'</span>:            <span style=\"color: #7f7f7f; text-decoration-color: #7f7f7f\">            </span>\n",
       "<span style=\"color: #7fbfbf; text-decoration-color: #7fbfbf\">                    </span>         tensor<span style=\"font-weight: bold\">[</span><span style=\"color: #008080; text-decoration-color: #008080; font-weight: bold\">1174</span><span style=\"font-weight: bold\">]</span> <span style=\"color: #008080; text-decoration-color: #008080; font-weight: bold\">4.</span>6Kb x∈<span style=\"font-weight: bold\">[</span><span style=\"color: #008080; text-decoration-color: #008080; font-weight: bold\">-0.684</span>, <span style=\"color: #008080; text-decoration-color: #008080; font-weight: bold\">5.902</span><span style=\"font-weight: bold\">]</span> <span style=\"color: #808000; text-decoration-color: #808000\">μ</span>=<span style=\"color: #008080; text-decoration-color: #008080; font-weight: bold\">2.216</span> <span style=\"color: #808000; text-decoration-color: #808000\">σ</span>=<span style=\"color: #008080; text-decoration-color: #008080; font-weight: bold\">2.187</span><span style=\"font-weight: bold\">}</span>                     <span style=\"color: #7f7f7f; text-decoration-color: #7f7f7f\">            </span>\n",
       "</pre>\n"
      ],
      "text/plain": [
       "\u001b[2;36m[07/30/24 02:27:01]\u001b[0m\u001b[2;36m \u001b[0m\u001b[34mINFO    \u001b[0m Model output: \u001b[1m{\u001b[0m\u001b[32m'fused_repr'\u001b[0m: tensor\u001b[1m[\u001b[0m\u001b[1;36m1174\u001b[0m, \u001b[1;36m64\u001b[0m\u001b[1m]\u001b[0m \u001b[33mn\u001b[0m=\u001b[1;36m75136\u001b[0m \u001b[1m(\u001b[0m\u001b[1;36m0.\u001b[0m3Mb\u001b[1m)\u001b[0m             \u001b]8;id=387189;file:///home/zhang/Projects/3d/ProteinWorkshop/proteinworkshop/train.py\u001b\\\u001b[2mtrain.py\u001b[0m\u001b]8;;\u001b\\\u001b[2m:\u001b[0m\u001b]8;id=911867;file:///home/zhang/Projects/3d/ProteinWorkshop/proteinworkshop/train.py#160\u001b\\\u001b[2m160\u001b[0m\u001b]8;;\u001b\\\n",
       "\u001b[2;36m                    \u001b[0m         x∈\u001b[1m[\u001b[0m\u001b[1;36m-281.542\u001b[0m, \u001b[1;36m220.974\u001b[0m\u001b[1m]\u001b[0m \u001b[33mμ\u001b[0m=\u001b[1;36m-3.224\u001b[0m \u001b[33mσ\u001b[0m=\u001b[1;36m49\u001b[0m\u001b[1;36m.382\u001b[0m, \u001b[32m'subgraph_distances'\u001b[0m:            \u001b[2m            \u001b[0m\n",
       "\u001b[2;36m                    \u001b[0m         tensor\u001b[1m[\u001b[0m\u001b[1;36m1174\u001b[0m\u001b[1m]\u001b[0m \u001b[1;36m4.\u001b[0m6Kb x∈\u001b[1m[\u001b[0m\u001b[1;36m-0.684\u001b[0m, \u001b[1;36m5.902\u001b[0m\u001b[1m]\u001b[0m \u001b[33mμ\u001b[0m=\u001b[1;36m2\u001b[0m\u001b[1;36m.216\u001b[0m \u001b[33mσ\u001b[0m=\u001b[1;36m2\u001b[0m\u001b[1;36m.187\u001b[0m\u001b[1m}\u001b[0m                     \u001b[2m            \u001b[0m\n"
      ]
     },
     "metadata": {},
     "output_type": "display_data"
    },
    {
     "data": {
      "text/html": [
       "<pre style=\"white-space:pre;overflow-x:auto;line-height:normal;font-family:Menlo,'DejaVu Sans Mono',consolas,'Courier New',monospace\"><span style=\"color: #7fbfbf; text-decoration-color: #7fbfbf\">                    </span><span style=\"color: #000080; text-decoration-color: #000080\">INFO    </span> Logging hyperparameters!                                                  <a href=\"file:///home/zhang/Projects/3d/ProteinWorkshop/proteinworkshop/train.py\" target=\"_blank\"><span style=\"color: #7f7f7f; text-decoration-color: #7f7f7f\">train.py</span></a><span style=\"color: #7f7f7f; text-decoration-color: #7f7f7f\">:</span><a href=\"file:///home/zhang/Projects/3d/ProteinWorkshop/proteinworkshop/train.py#173\" target=\"_blank\"><span style=\"color: #7f7f7f; text-decoration-color: #7f7f7f\">173</span></a>\n",
       "</pre>\n"
      ],
      "text/plain": [
       "\u001b[2;36m                   \u001b[0m\u001b[2;36m \u001b[0m\u001b[34mINFO    \u001b[0m Logging hyperparameters!                                                  \u001b]8;id=418208;file:///home/zhang/Projects/3d/ProteinWorkshop/proteinworkshop/train.py\u001b\\\u001b[2mtrain.py\u001b[0m\u001b]8;;\u001b\\\u001b[2m:\u001b[0m\u001b]8;id=414264;file:///home/zhang/Projects/3d/ProteinWorkshop/proteinworkshop/train.py#173\u001b\\\u001b[2m173\u001b[0m\u001b]8;;\u001b\\\n"
      ]
     },
     "metadata": {},
     "output_type": "display_data"
    },
    {
     "data": {
      "text/html": [
       "<pre style=\"white-space:pre;overflow-x:auto;line-height:normal;font-family:Menlo,'DejaVu Sans Mono',consolas,'Courier New',monospace\"><span style=\"color: #7fbfbf; text-decoration-color: #7fbfbf\">                    </span><span style=\"color: #000080; text-decoration-color: #000080\">INFO    </span> Starting training!                                                        <a href=\"file:///home/zhang/Projects/3d/ProteinWorkshop/proteinworkshop/train.py\" target=\"_blank\"><span style=\"color: #7f7f7f; text-decoration-color: #7f7f7f\">train.py</span></a><span style=\"color: #7f7f7f; text-decoration-color: #7f7f7f\">:</span><a href=\"file:///home/zhang/Projects/3d/ProteinWorkshop/proteinworkshop/train.py#181\" target=\"_blank\"><span style=\"color: #7f7f7f; text-decoration-color: #7f7f7f\">181</span></a>\n",
       "</pre>\n"
      ],
      "text/plain": [
       "\u001b[2;36m                   \u001b[0m\u001b[2;36m \u001b[0m\u001b[34mINFO    \u001b[0m Starting training!                                                        \u001b]8;id=250641;file:///home/zhang/Projects/3d/ProteinWorkshop/proteinworkshop/train.py\u001b\\\u001b[2mtrain.py\u001b[0m\u001b]8;;\u001b\\\u001b[2m:\u001b[0m\u001b]8;id=926466;file:///home/zhang/Projects/3d/ProteinWorkshop/proteinworkshop/train.py#181\u001b\\\u001b[2m181\u001b[0m\u001b]8;;\u001b\\\n"
      ]
     },
     "metadata": {},
     "output_type": "display_data"
    },
    {
     "name": "stderr",
     "output_type": "stream",
     "text": [
      "You are using a CUDA device ('NVIDIA GeForce RTX 4090') that has Tensor Cores. To properly utilize them, you should set `torch.set_float32_matmul_precision('medium' | 'high')` which will trade-off precision for performance. For more details, read https://pytorch.org/docs/stable/generated/torch.set_float32_matmul_precision.html#torch.set_float32_matmul_precision\n",
      "100%|██████████| 542378/542378 [00:00<00:00, 4565556.73it/s]\n",
      "Processing...\n",
      "Done!\n",
      "100%|██████████| 542378/542378 [00:00<00:00, 4582543.28it/s]\n",
      "Processing...\n",
      "Done!\n",
      "100%|██████████| 542378/542378 [00:00<00:00, 4674320.32it/s]\n",
      "Processing...\n",
      "Done!\n",
      "LOCAL_RANK: 0 - CUDA_VISIBLE_DEVICES: [0]\n"
     ]
    },
    {
     "data": {
      "text/html": [
       "<pre style=\"white-space:pre;overflow-x:auto;line-height:normal;font-family:Menlo,'DejaVu Sans Mono',consolas,'Courier New',monospace\"><span style=\"color: #7fbfbf; text-decoration-color: #7fbfbf\">[07/30/24 02:27:03] </span><span style=\"color: #000080; text-decoration-color: #000080\">INFO    </span> Instantiating optimiser<span style=\"color: #808000; text-decoration-color: #808000\">...</span>                                                 <a href=\"file:///home/zhang/Projects/3d/ProteinWorkshop/proteinworkshop/models/base.py\" target=\"_blank\"><span style=\"color: #7f7f7f; text-decoration-color: #7f7f7f\">base.py</span></a><span style=\"color: #7f7f7f; text-decoration-color: #7f7f7f\">:</span><a href=\"file:///home/zhang/Projects/3d/ProteinWorkshop/proteinworkshop/models/base.py#215\" target=\"_blank\"><span style=\"color: #7f7f7f; text-decoration-color: #7f7f7f\">215</span></a>\n",
       "</pre>\n"
      ],
      "text/plain": [
       "\u001b[2;36m[07/30/24 02:27:03]\u001b[0m\u001b[2;36m \u001b[0m\u001b[34mINFO    \u001b[0m Instantiating optimiser\u001b[33m...\u001b[0m                                                 \u001b]8;id=509094;file:///home/zhang/Projects/3d/ProteinWorkshop/proteinworkshop/models/base.py\u001b\\\u001b[2mbase.py\u001b[0m\u001b]8;;\u001b\\\u001b[2m:\u001b[0m\u001b]8;id=564234;file:///home/zhang/Projects/3d/ProteinWorkshop/proteinworkshop/models/base.py#215\u001b\\\u001b[2m215\u001b[0m\u001b]8;;\u001b\\\n"
      ]
     },
     "metadata": {},
     "output_type": "display_data"
    },
    {
     "data": {
      "text/html": [
       "<pre style=\"white-space:pre;overflow-x:auto;line-height:normal;font-family:Menlo,'DejaVu Sans Mono',consolas,'Courier New',monospace\"><span style=\"color: #7fbfbf; text-decoration-color: #7fbfbf\">                    </span><span style=\"color: #000080; text-decoration-color: #000080\">INFO    </span> <span style=\"color: #800080; text-decoration-color: #800080; font-weight: bold\">functools.partial</span><span style=\"font-weight: bold\">(&lt;</span><span style=\"color: #ff00ff; text-decoration-color: #ff00ff; font-weight: bold\">class</span><span style=\"color: #000000; text-decoration-color: #000000\"> </span><span style=\"color: #008000; text-decoration-color: #008000\">'torch.optim.adam.Adam'</span><span style=\"font-weight: bold\">&gt;</span>, <span style=\"color: #808000; text-decoration-color: #808000\">lr</span>=<span style=\"color: #008080; text-decoration-color: #008080; font-weight: bold\">0.0003</span>,              <a href=\"file:///home/zhang/Projects/3d/ProteinWorkshop/proteinworkshop/models/base.py\" target=\"_blank\"><span style=\"color: #7f7f7f; text-decoration-color: #7f7f7f\">base.py</span></a><span style=\"color: #7f7f7f; text-decoration-color: #7f7f7f\">:</span><a href=\"file:///home/zhang/Projects/3d/ProteinWorkshop/proteinworkshop/models/base.py#217\" target=\"_blank\"><span style=\"color: #7f7f7f; text-decoration-color: #7f7f7f\">217</span></a>\n",
       "<span style=\"color: #7fbfbf; text-decoration-color: #7fbfbf\">                    </span>         <span style=\"color: #808000; text-decoration-color: #808000\">weight_decay</span>=<span style=\"color: #008080; text-decoration-color: #008080; font-weight: bold\">0.0</span><span style=\"font-weight: bold\">)</span>                                                          <span style=\"color: #7f7f7f; text-decoration-color: #7f7f7f\">           </span>\n",
       "</pre>\n"
      ],
      "text/plain": [
       "\u001b[2;36m                   \u001b[0m\u001b[2;36m \u001b[0m\u001b[34mINFO    \u001b[0m \u001b[1;35mfunctools.partial\u001b[0m\u001b[1m(\u001b[0m\u001b[1m<\u001b[0m\u001b[1;95mclass\u001b[0m\u001b[39m \u001b[0m\u001b[32m'torch.optim.adam.Adam'\u001b[0m\u001b[1m>\u001b[0m, \u001b[33mlr\u001b[0m=\u001b[1;36m0\u001b[0m\u001b[1;36m.0003\u001b[0m,              \u001b]8;id=352951;file:///home/zhang/Projects/3d/ProteinWorkshop/proteinworkshop/models/base.py\u001b\\\u001b[2mbase.py\u001b[0m\u001b]8;;\u001b\\\u001b[2m:\u001b[0m\u001b]8;id=154662;file:///home/zhang/Projects/3d/ProteinWorkshop/proteinworkshop/models/base.py#217\u001b\\\u001b[2m217\u001b[0m\u001b]8;;\u001b\\\n",
       "\u001b[2;36m                    \u001b[0m         \u001b[33mweight_decay\u001b[0m=\u001b[1;36m0\u001b[0m\u001b[1;36m.0\u001b[0m\u001b[1m)\u001b[0m                                                          \u001b[2m           \u001b[0m\n"
      ]
     },
     "metadata": {},
     "output_type": "display_data"
    },
    {
     "data": {
      "text/html": [
       "<pre style=\"white-space:pre;overflow-x:auto;line-height:normal;font-family:Menlo,'DejaVu Sans Mono',consolas,'Courier New',monospace\"><span style=\"color: #7fbfbf; text-decoration-color: #7fbfbf\">                    </span><span style=\"color: #000080; text-decoration-color: #000080\">INFO    </span> Instantiating scheduler<span style=\"color: #808000; text-decoration-color: #808000\">...</span>                                                 <a href=\"file:///home/zhang/Projects/3d/ProteinWorkshop/proteinworkshop/models/base.py\" target=\"_blank\"><span style=\"color: #7f7f7f; text-decoration-color: #7f7f7f\">base.py</span></a><span style=\"color: #7f7f7f; text-decoration-color: #7f7f7f\">:</span><a href=\"file:///home/zhang/Projects/3d/ProteinWorkshop/proteinworkshop/models/base.py#221\" target=\"_blank\"><span style=\"color: #7f7f7f; text-decoration-color: #7f7f7f\">221</span></a>\n",
       "</pre>\n"
      ],
      "text/plain": [
       "\u001b[2;36m                   \u001b[0m\u001b[2;36m \u001b[0m\u001b[34mINFO    \u001b[0m Instantiating scheduler\u001b[33m...\u001b[0m                                                 \u001b]8;id=212073;file:///home/zhang/Projects/3d/ProteinWorkshop/proteinworkshop/models/base.py\u001b\\\u001b[2mbase.py\u001b[0m\u001b]8;;\u001b\\\u001b[2m:\u001b[0m\u001b]8;id=637757;file:///home/zhang/Projects/3d/ProteinWorkshop/proteinworkshop/models/base.py#221\u001b\\\u001b[2m221\u001b[0m\u001b]8;;\u001b\\\n"
      ]
     },
     "metadata": {},
     "output_type": "display_data"
    },
    {
     "data": {
      "text/html": [
       "<pre style=\"white-space:pre;overflow-x:auto;line-height:normal;font-family:Menlo,'DejaVu Sans Mono',consolas,'Courier New',monospace\"><span style=\"color: #7fbfbf; text-decoration-color: #7fbfbf\">                    </span><span style=\"color: #000080; text-decoration-color: #000080\">INFO    </span> Optimiser configuration: <span style=\"font-weight: bold\">{</span><span style=\"color: #008000; text-decoration-color: #008000\">'optimizer'</span>: Adam <span style=\"font-weight: bold\">(</span>                              <a href=\"file:///home/zhang/Projects/3d/ProteinWorkshop/proteinworkshop/models/base.py\" target=\"_blank\"><span style=\"color: #7f7f7f; text-decoration-color: #7f7f7f\">base.py</span></a><span style=\"color: #7f7f7f; text-decoration-color: #7f7f7f\">:</span><a href=\"file:///home/zhang/Projects/3d/ProteinWorkshop/proteinworkshop/models/base.py#233\" target=\"_blank\"><span style=\"color: #7f7f7f; text-decoration-color: #7f7f7f\">233</span></a>\n",
       "<span style=\"color: #7fbfbf; text-decoration-color: #7fbfbf\">                    </span>         Parameter Group <span style=\"color: #008080; text-decoration-color: #008080; font-weight: bold\">0</span>                                                          <span style=\"color: #7f7f7f; text-decoration-color: #7f7f7f\">           </span>\n",
       "<span style=\"color: #7fbfbf; text-decoration-color: #7fbfbf\">                    </span>             amsgrad: <span style=\"color: #ff0000; text-decoration-color: #ff0000; font-style: italic\">False</span>                                                         <span style=\"color: #7f7f7f; text-decoration-color: #7f7f7f\">           </span>\n",
       "<span style=\"color: #7fbfbf; text-decoration-color: #7fbfbf\">                    </span>             betas: <span style=\"font-weight: bold\">(</span><span style=\"color: #008080; text-decoration-color: #008080; font-weight: bold\">0.9</span>, <span style=\"color: #008080; text-decoration-color: #008080; font-weight: bold\">0.999</span><span style=\"font-weight: bold\">)</span>                                                    <span style=\"color: #7f7f7f; text-decoration-color: #7f7f7f\">           </span>\n",
       "<span style=\"color: #7fbfbf; text-decoration-color: #7fbfbf\">                    </span>             capturable: <span style=\"color: #ff0000; text-decoration-color: #ff0000; font-style: italic\">False</span>                                                      <span style=\"color: #7f7f7f; text-decoration-color: #7f7f7f\">           </span>\n",
       "<span style=\"color: #7fbfbf; text-decoration-color: #7fbfbf\">                    </span>             differentiable: <span style=\"color: #ff0000; text-decoration-color: #ff0000; font-style: italic\">False</span>                                                  <span style=\"color: #7f7f7f; text-decoration-color: #7f7f7f\">           </span>\n",
       "<span style=\"color: #7fbfbf; text-decoration-color: #7fbfbf\">                    </span>             eps: <span style=\"color: #008080; text-decoration-color: #008080; font-weight: bold\">1e-08</span>                                                             <span style=\"color: #7f7f7f; text-decoration-color: #7f7f7f\">           </span>\n",
       "<span style=\"color: #7fbfbf; text-decoration-color: #7fbfbf\">                    </span>             foreach: <span style=\"color: #800080; text-decoration-color: #800080; font-style: italic\">None</span>                                                          <span style=\"color: #7f7f7f; text-decoration-color: #7f7f7f\">           </span>\n",
       "<span style=\"color: #7fbfbf; text-decoration-color: #7fbfbf\">                    </span>             fused: <span style=\"color: #800080; text-decoration-color: #800080; font-style: italic\">None</span>                                                            <span style=\"color: #7f7f7f; text-decoration-color: #7f7f7f\">           </span>\n",
       "<span style=\"color: #7fbfbf; text-decoration-color: #7fbfbf\">                    </span>             initial_lr: <span style=\"color: #008080; text-decoration-color: #008080; font-weight: bold\">0.0003</span>                                                     <span style=\"color: #7f7f7f; text-decoration-color: #7f7f7f\">           </span>\n",
       "<span style=\"color: #7fbfbf; text-decoration-color: #7fbfbf\">                    </span>             lr: <span style=\"color: #008080; text-decoration-color: #008080; font-weight: bold\">0.0</span>                                                                <span style=\"color: #7f7f7f; text-decoration-color: #7f7f7f\">           </span>\n",
       "<span style=\"color: #7fbfbf; text-decoration-color: #7fbfbf\">                    </span>             maximize: <span style=\"color: #ff0000; text-decoration-color: #ff0000; font-style: italic\">False</span>                                                        <span style=\"color: #7f7f7f; text-decoration-color: #7f7f7f\">           </span>\n",
       "<span style=\"color: #7fbfbf; text-decoration-color: #7fbfbf\">                    </span>             weight_decay: <span style=\"color: #008080; text-decoration-color: #008080; font-weight: bold\">0.0</span>                                                      <span style=\"color: #7f7f7f; text-decoration-color: #7f7f7f\">           </span>\n",
       "<span style=\"color: #7fbfbf; text-decoration-color: #7fbfbf\">                    </span>         <span style=\"font-weight: bold\">)</span>, <span style=\"color: #008000; text-decoration-color: #008000\">'lr_scheduler'</span>: <span style=\"font-weight: bold\">{</span><span style=\"color: #008000; text-decoration-color: #008000\">'scheduler'</span>:                                           <span style=\"color: #7f7f7f; text-decoration-color: #7f7f7f\">           </span>\n",
       "<span style=\"color: #7fbfbf; text-decoration-color: #7fbfbf\">                    </span>         <span style=\"font-weight: bold\">&lt;</span><span style=\"color: #ff00ff; text-decoration-color: #ff00ff; font-weight: bold\">flash.core.optimizers.lr_scheduler.LinearWarmupCosineAnnealingLR</span><span style=\"color: #000000; text-decoration-color: #000000\"> object </span>  <span style=\"color: #7f7f7f; text-decoration-color: #7f7f7f\">           </span>\n",
       "<span style=\"color: #7fbfbf; text-decoration-color: #7fbfbf\">                    </span>         <span style=\"color: #000000; text-decoration-color: #000000\">at </span><span style=\"color: #008080; text-decoration-color: #008080; font-weight: bold\">0x7fcba0407880</span><span style=\"font-weight: bold\">&gt;</span>, <span style=\"color: #008000; text-decoration-color: #008000\">'interval'</span>: <span style=\"color: #008000; text-decoration-color: #008000\">'step'</span>, <span style=\"color: #008000; text-decoration-color: #008000\">'frequency'</span>: <span style=\"color: #008080; text-decoration-color: #008080; font-weight: bold\">1</span>, <span style=\"color: #008000; text-decoration-color: #008000\">'monitor'</span>:         <span style=\"color: #7f7f7f; text-decoration-color: #7f7f7f\">           </span>\n",
       "<span style=\"color: #7fbfbf; text-decoration-color: #7fbfbf\">                    </span>         <span style=\"color: #008000; text-decoration-color: #008000\">'val/loss/total'</span>, <span style=\"color: #008000; text-decoration-color: #008000\">'strict'</span>: <span style=\"color: #00ff00; text-decoration-color: #00ff00; font-style: italic\">True</span>, <span style=\"color: #008000; text-decoration-color: #008000\">'name'</span>: <span style=\"color: #008000; text-decoration-color: #008000\">'learning_rate'</span><span style=\"font-weight: bold\">}}</span>                <span style=\"color: #7f7f7f; text-decoration-color: #7f7f7f\">           </span>\n",
       "</pre>\n"
      ],
      "text/plain": [
       "\u001b[2;36m                   \u001b[0m\u001b[2;36m \u001b[0m\u001b[34mINFO    \u001b[0m Optimiser configuration: \u001b[1m{\u001b[0m\u001b[32m'optimizer'\u001b[0m: Adam \u001b[1m(\u001b[0m                              \u001b]8;id=29334;file:///home/zhang/Projects/3d/ProteinWorkshop/proteinworkshop/models/base.py\u001b\\\u001b[2mbase.py\u001b[0m\u001b]8;;\u001b\\\u001b[2m:\u001b[0m\u001b]8;id=754347;file:///home/zhang/Projects/3d/ProteinWorkshop/proteinworkshop/models/base.py#233\u001b\\\u001b[2m233\u001b[0m\u001b]8;;\u001b\\\n",
       "\u001b[2;36m                    \u001b[0m         Parameter Group \u001b[1;36m0\u001b[0m                                                          \u001b[2m           \u001b[0m\n",
       "\u001b[2;36m                    \u001b[0m             amsgrad: \u001b[3;91mFalse\u001b[0m                                                         \u001b[2m           \u001b[0m\n",
       "\u001b[2;36m                    \u001b[0m             betas: \u001b[1m(\u001b[0m\u001b[1;36m0.9\u001b[0m, \u001b[1;36m0.999\u001b[0m\u001b[1m)\u001b[0m                                                    \u001b[2m           \u001b[0m\n",
       "\u001b[2;36m                    \u001b[0m             capturable: \u001b[3;91mFalse\u001b[0m                                                      \u001b[2m           \u001b[0m\n",
       "\u001b[2;36m                    \u001b[0m             differentiable: \u001b[3;91mFalse\u001b[0m                                                  \u001b[2m           \u001b[0m\n",
       "\u001b[2;36m                    \u001b[0m             eps: \u001b[1;36m1e-08\u001b[0m                                                             \u001b[2m           \u001b[0m\n",
       "\u001b[2;36m                    \u001b[0m             foreach: \u001b[3;35mNone\u001b[0m                                                          \u001b[2m           \u001b[0m\n",
       "\u001b[2;36m                    \u001b[0m             fused: \u001b[3;35mNone\u001b[0m                                                            \u001b[2m           \u001b[0m\n",
       "\u001b[2;36m                    \u001b[0m             initial_lr: \u001b[1;36m0.0003\u001b[0m                                                     \u001b[2m           \u001b[0m\n",
       "\u001b[2;36m                    \u001b[0m             lr: \u001b[1;36m0.0\u001b[0m                                                                \u001b[2m           \u001b[0m\n",
       "\u001b[2;36m                    \u001b[0m             maximize: \u001b[3;91mFalse\u001b[0m                                                        \u001b[2m           \u001b[0m\n",
       "\u001b[2;36m                    \u001b[0m             weight_decay: \u001b[1;36m0.0\u001b[0m                                                      \u001b[2m           \u001b[0m\n",
       "\u001b[2;36m                    \u001b[0m         \u001b[1m)\u001b[0m, \u001b[32m'lr_scheduler'\u001b[0m: \u001b[1m{\u001b[0m\u001b[32m'scheduler'\u001b[0m:                                           \u001b[2m           \u001b[0m\n",
       "\u001b[2;36m                    \u001b[0m         \u001b[1m<\u001b[0m\u001b[1;95mflash.core.optimizers.lr_scheduler.LinearWarmupCosineAnnealingLR\u001b[0m\u001b[39m object \u001b[0m  \u001b[2m           \u001b[0m\n",
       "\u001b[2;36m                    \u001b[0m         \u001b[39mat \u001b[0m\u001b[1;36m0x7fcba0407880\u001b[0m\u001b[1m>\u001b[0m, \u001b[32m'interval'\u001b[0m: \u001b[32m'step'\u001b[0m, \u001b[32m'frequency'\u001b[0m: \u001b[1;36m1\u001b[0m, \u001b[32m'monitor'\u001b[0m:         \u001b[2m           \u001b[0m\n",
       "\u001b[2;36m                    \u001b[0m         \u001b[32m'val/loss/total'\u001b[0m, \u001b[32m'strict'\u001b[0m: \u001b[3;92mTrue\u001b[0m, \u001b[32m'name'\u001b[0m: \u001b[32m'learning_rate'\u001b[0m\u001b[1m}\u001b[0m\u001b[1m}\u001b[0m                \u001b[2m           \u001b[0m\n"
      ]
     },
     "metadata": {},
     "output_type": "display_data"
    },
    {
     "name": "stderr",
     "output_type": "stream",
     "text": [
      "/home/zhang/miniconda3/envs/3d_pretrain/lib/python3.10/site-packages/lightning/pytorch/trainer/connectors/data_connector.py:368: UserWarning:\n",
      "\n",
      "You have overridden `on_after_batch_transfer` in `LightningModule` but have passed in a `LightningDataModule`. It will use the implementation from `LightningModule` instance.\n",
      "\n"
     ]
    },
    {
     "data": {
      "text/html": [
       "<pre style=\"white-space:pre;overflow-x:auto;line-height:normal;font-family:Menlo,'DejaVu Sans Mono',consolas,'Courier New',monospace\">┏━━━━┳━━━━━━━━━━━━━━━━━━━━━━━━━━━━━━━━━━━━━━━━━┳━━━━━━━━━━━━━━━━┳━━━━━━━━┳━━━━━━━┳━━━━━━━━━━━━━━━━┳━━━━━━━━━━━━━━━┓\n",
       "┃<span style=\"color: #800080; text-decoration-color: #800080; font-weight: bold\">    </span>┃<span style=\"color: #800080; text-decoration-color: #800080; font-weight: bold\"> Name                                    </span>┃<span style=\"color: #800080; text-decoration-color: #800080; font-weight: bold\"> Type           </span>┃<span style=\"color: #800080; text-decoration-color: #800080; font-weight: bold\"> Params </span>┃<span style=\"color: #800080; text-decoration-color: #800080; font-weight: bold\"> Mode  </span>┃<span style=\"color: #800080; text-decoration-color: #800080; font-weight: bold\">       In sizes </span>┃<span style=\"color: #800080; text-decoration-color: #800080; font-weight: bold\">     Out sizes </span>┃\n",
       "┡━━━━╇━━━━━━━━━━━━━━━━━━━━━━━━━━━━━━━━━━━━━━━━━╇━━━━━━━━━━━━━━━━╇━━━━━━━━╇━━━━━━━╇━━━━━━━━━━━━━━━━╇━━━━━━━━━━━━━━━┩\n",
       "│<span style=\"color: #7f7f7f; text-decoration-color: #7f7f7f\"> 0  </span>│ encoder                                 │ SchNetModel    │  2.7 M │ train │<span style=\"color: #c0c0c0; text-decoration-color: #c0c0c0\">              ? </span>│<span style=\"color: #c0c0c0; text-decoration-color: #c0c0c0\">             ? </span>│\n",
       "│<span style=\"color: #7f7f7f; text-decoration-color: #7f7f7f\"> 1  </span>│ encoder.sum_aggr                        │ SumAggregation │      0 │ train │<span style=\"color: #c0c0c0; text-decoration-color: #c0c0c0\">              ? </span>│<span style=\"color: #c0c0c0; text-decoration-color: #c0c0c0\">             ? </span>│\n",
       "│<span style=\"color: #7f7f7f; text-decoration-color: #7f7f7f\"> 2  </span>│ encoder.embedding                       │ Linear         │ 22.5 K │ train │<span style=\"color: #c0c0c0; text-decoration-color: #c0c0c0\">    [10137, 43] </span>│<span style=\"color: #c0c0c0; text-decoration-color: #c0c0c0\">  [10137, 512] </span>│\n",
       "│<span style=\"color: #7f7f7f; text-decoration-color: #7f7f7f\"> 3  </span>│ encoder.distance_expansion              │ GaussianSmear… │      0 │ train │<span style=\"color: #c0c0c0; text-decoration-color: #c0c0c0\">       [180492] </span>│<span style=\"color: #c0c0c0; text-decoration-color: #c0c0c0\">  [180492, 50] </span>│\n",
       "│<span style=\"color: #7f7f7f; text-decoration-color: #7f7f7f\"> 4  </span>│ encoder.interactions                    │ ModuleList     │  2.5 M │ train │<span style=\"color: #c0c0c0; text-decoration-color: #c0c0c0\">              ? </span>│<span style=\"color: #c0c0c0; text-decoration-color: #c0c0c0\">             ? </span>│\n",
       "│<span style=\"color: #7f7f7f; text-decoration-color: #7f7f7f\"> 5  </span>│ encoder.interactions.0                  │ InteractionBl… │  417 K │ train │<span style=\"color: #c0c0c0; text-decoration-color: #c0c0c0\"> [[10137, 512], </span>│<span style=\"color: #c0c0c0; text-decoration-color: #c0c0c0\">  [10137, 512] </span>│\n",
       "│<span style=\"color: #7f7f7f; text-decoration-color: #7f7f7f\">    </span>│                                         │                │        │       │<span style=\"color: #c0c0c0; text-decoration-color: #c0c0c0\">   [2, 180492], </span>│<span style=\"color: #c0c0c0; text-decoration-color: #c0c0c0\">               </span>│\n",
       "│<span style=\"color: #7f7f7f; text-decoration-color: #7f7f7f\">    </span>│                                         │                │        │       │<span style=\"color: #c0c0c0; text-decoration-color: #c0c0c0\">      [180492], </span>│<span style=\"color: #c0c0c0; text-decoration-color: #c0c0c0\">               </span>│\n",
       "│<span style=\"color: #7f7f7f; text-decoration-color: #7f7f7f\">    </span>│                                         │                │        │       │<span style=\"color: #c0c0c0; text-decoration-color: #c0c0c0\">  [180492, 50]] </span>│<span style=\"color: #c0c0c0; text-decoration-color: #c0c0c0\">               </span>│\n",
       "│<span style=\"color: #7f7f7f; text-decoration-color: #7f7f7f\"> 6  </span>│ encoder.interactions.0.mlp              │ Sequential     │ 23.0 K │ train │<span style=\"color: #c0c0c0; text-decoration-color: #c0c0c0\">   [180492, 50] </span>│<span style=\"color: #c0c0c0; text-decoration-color: #c0c0c0\"> [180492, 128] </span>│\n",
       "│<span style=\"color: #7f7f7f; text-decoration-color: #7f7f7f\"> 7  </span>│ encoder.interactions.0.mlp.0            │ Linear         │  6.5 K │ train │<span style=\"color: #c0c0c0; text-decoration-color: #c0c0c0\">   [180492, 50] </span>│<span style=\"color: #c0c0c0; text-decoration-color: #c0c0c0\"> [180492, 128] </span>│\n",
       "│<span style=\"color: #7f7f7f; text-decoration-color: #7f7f7f\"> 8  </span>│ encoder.interactions.0.mlp.1            │ ShiftedSoftpl… │      0 │ train │<span style=\"color: #c0c0c0; text-decoration-color: #c0c0c0\">  [180492, 128] </span>│<span style=\"color: #c0c0c0; text-decoration-color: #c0c0c0\"> [180492, 128] </span>│\n",
       "│<span style=\"color: #7f7f7f; text-decoration-color: #7f7f7f\"> 9  </span>│ encoder.interactions.0.mlp.2            │ Linear         │ 16.5 K │ train │<span style=\"color: #c0c0c0; text-decoration-color: #c0c0c0\">  [180492, 128] </span>│<span style=\"color: #c0c0c0; text-decoration-color: #c0c0c0\"> [180492, 128] </span>│\n",
       "│<span style=\"color: #7f7f7f; text-decoration-color: #7f7f7f\"> 10 </span>│ encoder.interactions.0.conv             │ CFConv         │  154 K │ train │<span style=\"color: #c0c0c0; text-decoration-color: #c0c0c0\"> [[10137, 512], </span>│<span style=\"color: #c0c0c0; text-decoration-color: #c0c0c0\">  [10137, 512] </span>│\n",
       "│<span style=\"color: #7f7f7f; text-decoration-color: #7f7f7f\">    </span>│                                         │                │        │       │<span style=\"color: #c0c0c0; text-decoration-color: #c0c0c0\">   [2, 180492], </span>│<span style=\"color: #c0c0c0; text-decoration-color: #c0c0c0\">               </span>│\n",
       "│<span style=\"color: #7f7f7f; text-decoration-color: #7f7f7f\">    </span>│                                         │                │        │       │<span style=\"color: #c0c0c0; text-decoration-color: #c0c0c0\">      [180492], </span>│<span style=\"color: #c0c0c0; text-decoration-color: #c0c0c0\">               </span>│\n",
       "│<span style=\"color: #7f7f7f; text-decoration-color: #7f7f7f\">    </span>│                                         │                │        │       │<span style=\"color: #c0c0c0; text-decoration-color: #c0c0c0\">  [180492, 50]] </span>│<span style=\"color: #c0c0c0; text-decoration-color: #c0c0c0\">               </span>│\n",
       "│<span style=\"color: #7f7f7f; text-decoration-color: #7f7f7f\"> 11 </span>│ encoder.interactions.0.conv.aggr_module │ SumAggregation │      0 │ train │<span style=\"color: #c0c0c0; text-decoration-color: #c0c0c0\">      [[180492, </span>│<span style=\"color: #c0c0c0; text-decoration-color: #c0c0c0\">  [10137, 128] </span>│\n",
       "│<span style=\"color: #7f7f7f; text-decoration-color: #7f7f7f\">    </span>│                                         │                │        │       │<span style=\"color: #c0c0c0; text-decoration-color: #c0c0c0\">          128], </span>│<span style=\"color: #c0c0c0; text-decoration-color: #c0c0c0\">               </span>│\n",
       "│<span style=\"color: #7f7f7f; text-decoration-color: #7f7f7f\">    </span>│                                         │                │        │       │<span style=\"color: #c0c0c0; text-decoration-color: #c0c0c0\"> [180492], '?', </span>│<span style=\"color: #c0c0c0; text-decoration-color: #c0c0c0\">               </span>│\n",
       "│<span style=\"color: #7f7f7f; text-decoration-color: #7f7f7f\">    </span>│                                         │                │        │       │<span style=\"color: #c0c0c0; text-decoration-color: #c0c0c0\">      '?', '?'] </span>│<span style=\"color: #c0c0c0; text-decoration-color: #c0c0c0\">               </span>│\n",
       "│<span style=\"color: #7f7f7f; text-decoration-color: #7f7f7f\"> 12 </span>│ encoder.interactions.0.conv.lin1        │ Linear         │ 65.5 K │ train │<span style=\"color: #c0c0c0; text-decoration-color: #c0c0c0\">   [10137, 512] </span>│<span style=\"color: #c0c0c0; text-decoration-color: #c0c0c0\">  [10137, 128] </span>│\n",
       "│<span style=\"color: #7f7f7f; text-decoration-color: #7f7f7f\"> 13 </span>│ encoder.interactions.0.conv.lin2        │ Linear         │ 66.0 K │ train │<span style=\"color: #c0c0c0; text-decoration-color: #c0c0c0\">   [10137, 128] </span>│<span style=\"color: #c0c0c0; text-decoration-color: #c0c0c0\">  [10137, 512] </span>│\n",
       "│<span style=\"color: #7f7f7f; text-decoration-color: #7f7f7f\"> 14 </span>│ encoder.interactions.0.act              │ ShiftedSoftpl… │      0 │ train │<span style=\"color: #c0c0c0; text-decoration-color: #c0c0c0\">   [10137, 512] </span>│<span style=\"color: #c0c0c0; text-decoration-color: #c0c0c0\">  [10137, 512] </span>│\n",
       "│<span style=\"color: #7f7f7f; text-decoration-color: #7f7f7f\"> 15 </span>│ encoder.interactions.0.lin              │ Linear         │  262 K │ train │<span style=\"color: #c0c0c0; text-decoration-color: #c0c0c0\">   [10137, 512] </span>│<span style=\"color: #c0c0c0; text-decoration-color: #c0c0c0\">  [10137, 512] </span>│\n",
       "│<span style=\"color: #7f7f7f; text-decoration-color: #7f7f7f\"> 16 </span>│ encoder.interactions.1                  │ InteractionBl… │  417 K │ train │<span style=\"color: #c0c0c0; text-decoration-color: #c0c0c0\"> [[10137, 512], </span>│<span style=\"color: #c0c0c0; text-decoration-color: #c0c0c0\">  [10137, 512] </span>│\n",
       "│<span style=\"color: #7f7f7f; text-decoration-color: #7f7f7f\">    </span>│                                         │                │        │       │<span style=\"color: #c0c0c0; text-decoration-color: #c0c0c0\">   [2, 180492], </span>│<span style=\"color: #c0c0c0; text-decoration-color: #c0c0c0\">               </span>│\n",
       "│<span style=\"color: #7f7f7f; text-decoration-color: #7f7f7f\">    </span>│                                         │                │        │       │<span style=\"color: #c0c0c0; text-decoration-color: #c0c0c0\">      [180492], </span>│<span style=\"color: #c0c0c0; text-decoration-color: #c0c0c0\">               </span>│\n",
       "│<span style=\"color: #7f7f7f; text-decoration-color: #7f7f7f\">    </span>│                                         │                │        │       │<span style=\"color: #c0c0c0; text-decoration-color: #c0c0c0\">  [180492, 50]] </span>│<span style=\"color: #c0c0c0; text-decoration-color: #c0c0c0\">               </span>│\n",
       "│<span style=\"color: #7f7f7f; text-decoration-color: #7f7f7f\"> 17 </span>│ encoder.interactions.1.mlp              │ Sequential     │ 23.0 K │ train │<span style=\"color: #c0c0c0; text-decoration-color: #c0c0c0\">   [180492, 50] </span>│<span style=\"color: #c0c0c0; text-decoration-color: #c0c0c0\"> [180492, 128] </span>│\n",
       "│<span style=\"color: #7f7f7f; text-decoration-color: #7f7f7f\"> 18 </span>│ encoder.interactions.1.mlp.0            │ Linear         │  6.5 K │ train │<span style=\"color: #c0c0c0; text-decoration-color: #c0c0c0\">   [180492, 50] </span>│<span style=\"color: #c0c0c0; text-decoration-color: #c0c0c0\"> [180492, 128] </span>│\n",
       "│<span style=\"color: #7f7f7f; text-decoration-color: #7f7f7f\"> 19 </span>│ encoder.interactions.1.mlp.1            │ ShiftedSoftpl… │      0 │ train │<span style=\"color: #c0c0c0; text-decoration-color: #c0c0c0\">  [180492, 128] </span>│<span style=\"color: #c0c0c0; text-decoration-color: #c0c0c0\"> [180492, 128] </span>│\n",
       "│<span style=\"color: #7f7f7f; text-decoration-color: #7f7f7f\"> 20 </span>│ encoder.interactions.1.mlp.2            │ Linear         │ 16.5 K │ train │<span style=\"color: #c0c0c0; text-decoration-color: #c0c0c0\">  [180492, 128] </span>│<span style=\"color: #c0c0c0; text-decoration-color: #c0c0c0\"> [180492, 128] </span>│\n",
       "│<span style=\"color: #7f7f7f; text-decoration-color: #7f7f7f\"> 21 </span>│ encoder.interactions.1.conv             │ CFConv         │  154 K │ train │<span style=\"color: #c0c0c0; text-decoration-color: #c0c0c0\"> [[10137, 512], </span>│<span style=\"color: #c0c0c0; text-decoration-color: #c0c0c0\">  [10137, 512] </span>│\n",
       "│<span style=\"color: #7f7f7f; text-decoration-color: #7f7f7f\">    </span>│                                         │                │        │       │<span style=\"color: #c0c0c0; text-decoration-color: #c0c0c0\">   [2, 180492], </span>│<span style=\"color: #c0c0c0; text-decoration-color: #c0c0c0\">               </span>│\n",
       "│<span style=\"color: #7f7f7f; text-decoration-color: #7f7f7f\">    </span>│                                         │                │        │       │<span style=\"color: #c0c0c0; text-decoration-color: #c0c0c0\">      [180492], </span>│<span style=\"color: #c0c0c0; text-decoration-color: #c0c0c0\">               </span>│\n",
       "│<span style=\"color: #7f7f7f; text-decoration-color: #7f7f7f\">    </span>│                                         │                │        │       │<span style=\"color: #c0c0c0; text-decoration-color: #c0c0c0\">  [180492, 50]] </span>│<span style=\"color: #c0c0c0; text-decoration-color: #c0c0c0\">               </span>│\n",
       "│<span style=\"color: #7f7f7f; text-decoration-color: #7f7f7f\"> 22 </span>│ encoder.interactions.1.conv.aggr_module │ SumAggregation │      0 │ train │<span style=\"color: #c0c0c0; text-decoration-color: #c0c0c0\">      [[180492, </span>│<span style=\"color: #c0c0c0; text-decoration-color: #c0c0c0\">  [10137, 128] </span>│\n",
       "│<span style=\"color: #7f7f7f; text-decoration-color: #7f7f7f\">    </span>│                                         │                │        │       │<span style=\"color: #c0c0c0; text-decoration-color: #c0c0c0\">          128], </span>│<span style=\"color: #c0c0c0; text-decoration-color: #c0c0c0\">               </span>│\n",
       "│<span style=\"color: #7f7f7f; text-decoration-color: #7f7f7f\">    </span>│                                         │                │        │       │<span style=\"color: #c0c0c0; text-decoration-color: #c0c0c0\"> [180492], '?', </span>│<span style=\"color: #c0c0c0; text-decoration-color: #c0c0c0\">               </span>│\n",
       "│<span style=\"color: #7f7f7f; text-decoration-color: #7f7f7f\">    </span>│                                         │                │        │       │<span style=\"color: #c0c0c0; text-decoration-color: #c0c0c0\">      '?', '?'] </span>│<span style=\"color: #c0c0c0; text-decoration-color: #c0c0c0\">               </span>│\n",
       "│<span style=\"color: #7f7f7f; text-decoration-color: #7f7f7f\"> 23 </span>│ encoder.interactions.1.conv.lin1        │ Linear         │ 65.5 K │ train │<span style=\"color: #c0c0c0; text-decoration-color: #c0c0c0\">   [10137, 512] </span>│<span style=\"color: #c0c0c0; text-decoration-color: #c0c0c0\">  [10137, 128] </span>│\n",
       "│<span style=\"color: #7f7f7f; text-decoration-color: #7f7f7f\"> 24 </span>│ encoder.interactions.1.conv.lin2        │ Linear         │ 66.0 K │ train │<span style=\"color: #c0c0c0; text-decoration-color: #c0c0c0\">   [10137, 128] </span>│<span style=\"color: #c0c0c0; text-decoration-color: #c0c0c0\">  [10137, 512] </span>│\n",
       "│<span style=\"color: #7f7f7f; text-decoration-color: #7f7f7f\"> 25 </span>│ encoder.interactions.1.act              │ ShiftedSoftpl… │      0 │ train │<span style=\"color: #c0c0c0; text-decoration-color: #c0c0c0\">   [10137, 512] </span>│<span style=\"color: #c0c0c0; text-decoration-color: #c0c0c0\">  [10137, 512] </span>│\n",
       "│<span style=\"color: #7f7f7f; text-decoration-color: #7f7f7f\"> 26 </span>│ encoder.interactions.1.lin              │ Linear         │  262 K │ train │<span style=\"color: #c0c0c0; text-decoration-color: #c0c0c0\">   [10137, 512] </span>│<span style=\"color: #c0c0c0; text-decoration-color: #c0c0c0\">  [10137, 512] </span>│\n",
       "│<span style=\"color: #7f7f7f; text-decoration-color: #7f7f7f\"> 27 </span>│ encoder.interactions.2                  │ InteractionBl… │  417 K │ train │<span style=\"color: #c0c0c0; text-decoration-color: #c0c0c0\"> [[10137, 512], </span>│<span style=\"color: #c0c0c0; text-decoration-color: #c0c0c0\">  [10137, 512] </span>│\n",
       "│<span style=\"color: #7f7f7f; text-decoration-color: #7f7f7f\">    </span>│                                         │                │        │       │<span style=\"color: #c0c0c0; text-decoration-color: #c0c0c0\">   [2, 180492], </span>│<span style=\"color: #c0c0c0; text-decoration-color: #c0c0c0\">               </span>│\n",
       "│<span style=\"color: #7f7f7f; text-decoration-color: #7f7f7f\">    </span>│                                         │                │        │       │<span style=\"color: #c0c0c0; text-decoration-color: #c0c0c0\">      [180492], </span>│<span style=\"color: #c0c0c0; text-decoration-color: #c0c0c0\">               </span>│\n",
       "│<span style=\"color: #7f7f7f; text-decoration-color: #7f7f7f\">    </span>│                                         │                │        │       │<span style=\"color: #c0c0c0; text-decoration-color: #c0c0c0\">  [180492, 50]] </span>│<span style=\"color: #c0c0c0; text-decoration-color: #c0c0c0\">               </span>│\n",
       "│<span style=\"color: #7f7f7f; text-decoration-color: #7f7f7f\"> 28 </span>│ encoder.interactions.2.mlp              │ Sequential     │ 23.0 K │ train │<span style=\"color: #c0c0c0; text-decoration-color: #c0c0c0\">   [180492, 50] </span>│<span style=\"color: #c0c0c0; text-decoration-color: #c0c0c0\"> [180492, 128] </span>│\n",
       "│<span style=\"color: #7f7f7f; text-decoration-color: #7f7f7f\"> 29 </span>│ encoder.interactions.2.mlp.0            │ Linear         │  6.5 K │ train │<span style=\"color: #c0c0c0; text-decoration-color: #c0c0c0\">   [180492, 50] </span>│<span style=\"color: #c0c0c0; text-decoration-color: #c0c0c0\"> [180492, 128] </span>│\n",
       "│<span style=\"color: #7f7f7f; text-decoration-color: #7f7f7f\"> 30 </span>│ encoder.interactions.2.mlp.1            │ ShiftedSoftpl… │      0 │ train │<span style=\"color: #c0c0c0; text-decoration-color: #c0c0c0\">  [180492, 128] </span>│<span style=\"color: #c0c0c0; text-decoration-color: #c0c0c0\"> [180492, 128] </span>│\n",
       "│<span style=\"color: #7f7f7f; text-decoration-color: #7f7f7f\"> 31 </span>│ encoder.interactions.2.mlp.2            │ Linear         │ 16.5 K │ train │<span style=\"color: #c0c0c0; text-decoration-color: #c0c0c0\">  [180492, 128] </span>│<span style=\"color: #c0c0c0; text-decoration-color: #c0c0c0\"> [180492, 128] </span>│\n",
       "│<span style=\"color: #7f7f7f; text-decoration-color: #7f7f7f\"> 32 </span>│ encoder.interactions.2.conv             │ CFConv         │  154 K │ train │<span style=\"color: #c0c0c0; text-decoration-color: #c0c0c0\"> [[10137, 512], </span>│<span style=\"color: #c0c0c0; text-decoration-color: #c0c0c0\">  [10137, 512] </span>│\n",
       "│<span style=\"color: #7f7f7f; text-decoration-color: #7f7f7f\">    </span>│                                         │                │        │       │<span style=\"color: #c0c0c0; text-decoration-color: #c0c0c0\">   [2, 180492], </span>│<span style=\"color: #c0c0c0; text-decoration-color: #c0c0c0\">               </span>│\n",
       "│<span style=\"color: #7f7f7f; text-decoration-color: #7f7f7f\">    </span>│                                         │                │        │       │<span style=\"color: #c0c0c0; text-decoration-color: #c0c0c0\">      [180492], </span>│<span style=\"color: #c0c0c0; text-decoration-color: #c0c0c0\">               </span>│\n",
       "│<span style=\"color: #7f7f7f; text-decoration-color: #7f7f7f\">    </span>│                                         │                │        │       │<span style=\"color: #c0c0c0; text-decoration-color: #c0c0c0\">  [180492, 50]] </span>│<span style=\"color: #c0c0c0; text-decoration-color: #c0c0c0\">               </span>│\n",
       "│<span style=\"color: #7f7f7f; text-decoration-color: #7f7f7f\"> 33 </span>│ encoder.interactions.2.conv.aggr_module │ SumAggregation │      0 │ train │<span style=\"color: #c0c0c0; text-decoration-color: #c0c0c0\">      [[180492, </span>│<span style=\"color: #c0c0c0; text-decoration-color: #c0c0c0\">  [10137, 128] </span>│\n",
       "│<span style=\"color: #7f7f7f; text-decoration-color: #7f7f7f\">    </span>│                                         │                │        │       │<span style=\"color: #c0c0c0; text-decoration-color: #c0c0c0\">          128], </span>│<span style=\"color: #c0c0c0; text-decoration-color: #c0c0c0\">               </span>│\n",
       "│<span style=\"color: #7f7f7f; text-decoration-color: #7f7f7f\">    </span>│                                         │                │        │       │<span style=\"color: #c0c0c0; text-decoration-color: #c0c0c0\"> [180492], '?', </span>│<span style=\"color: #c0c0c0; text-decoration-color: #c0c0c0\">               </span>│\n",
       "│<span style=\"color: #7f7f7f; text-decoration-color: #7f7f7f\">    </span>│                                         │                │        │       │<span style=\"color: #c0c0c0; text-decoration-color: #c0c0c0\">      '?', '?'] </span>│<span style=\"color: #c0c0c0; text-decoration-color: #c0c0c0\">               </span>│\n",
       "│<span style=\"color: #7f7f7f; text-decoration-color: #7f7f7f\"> 34 </span>│ encoder.interactions.2.conv.lin1        │ Linear         │ 65.5 K │ train │<span style=\"color: #c0c0c0; text-decoration-color: #c0c0c0\">   [10137, 512] </span>│<span style=\"color: #c0c0c0; text-decoration-color: #c0c0c0\">  [10137, 128] </span>│\n",
       "│<span style=\"color: #7f7f7f; text-decoration-color: #7f7f7f\"> 35 </span>│ encoder.interactions.2.conv.lin2        │ Linear         │ 66.0 K │ train │<span style=\"color: #c0c0c0; text-decoration-color: #c0c0c0\">   [10137, 128] </span>│<span style=\"color: #c0c0c0; text-decoration-color: #c0c0c0\">  [10137, 512] </span>│\n",
       "│<span style=\"color: #7f7f7f; text-decoration-color: #7f7f7f\"> 36 </span>│ encoder.interactions.2.act              │ ShiftedSoftpl… │      0 │ train │<span style=\"color: #c0c0c0; text-decoration-color: #c0c0c0\">   [10137, 512] </span>│<span style=\"color: #c0c0c0; text-decoration-color: #c0c0c0\">  [10137, 512] </span>│\n",
       "│<span style=\"color: #7f7f7f; text-decoration-color: #7f7f7f\"> 37 </span>│ encoder.interactions.2.lin              │ Linear         │  262 K │ train │<span style=\"color: #c0c0c0; text-decoration-color: #c0c0c0\">   [10137, 512] </span>│<span style=\"color: #c0c0c0; text-decoration-color: #c0c0c0\">  [10137, 512] </span>│\n",
       "│<span style=\"color: #7f7f7f; text-decoration-color: #7f7f7f\"> 38 </span>│ encoder.interactions.3                  │ InteractionBl… │  417 K │ train │<span style=\"color: #c0c0c0; text-decoration-color: #c0c0c0\"> [[10137, 512], </span>│<span style=\"color: #c0c0c0; text-decoration-color: #c0c0c0\">  [10137, 512] </span>│\n",
       "│<span style=\"color: #7f7f7f; text-decoration-color: #7f7f7f\">    </span>│                                         │                │        │       │<span style=\"color: #c0c0c0; text-decoration-color: #c0c0c0\">   [2, 180492], </span>│<span style=\"color: #c0c0c0; text-decoration-color: #c0c0c0\">               </span>│\n",
       "│<span style=\"color: #7f7f7f; text-decoration-color: #7f7f7f\">    </span>│                                         │                │        │       │<span style=\"color: #c0c0c0; text-decoration-color: #c0c0c0\">      [180492], </span>│<span style=\"color: #c0c0c0; text-decoration-color: #c0c0c0\">               </span>│\n",
       "│<span style=\"color: #7f7f7f; text-decoration-color: #7f7f7f\">    </span>│                                         │                │        │       │<span style=\"color: #c0c0c0; text-decoration-color: #c0c0c0\">  [180492, 50]] </span>│<span style=\"color: #c0c0c0; text-decoration-color: #c0c0c0\">               </span>│\n",
       "│<span style=\"color: #7f7f7f; text-decoration-color: #7f7f7f\"> 39 </span>│ encoder.interactions.3.mlp              │ Sequential     │ 23.0 K │ train │<span style=\"color: #c0c0c0; text-decoration-color: #c0c0c0\">   [180492, 50] </span>│<span style=\"color: #c0c0c0; text-decoration-color: #c0c0c0\"> [180492, 128] </span>│\n",
       "│<span style=\"color: #7f7f7f; text-decoration-color: #7f7f7f\"> 40 </span>│ encoder.interactions.3.mlp.0            │ Linear         │  6.5 K │ train │<span style=\"color: #c0c0c0; text-decoration-color: #c0c0c0\">   [180492, 50] </span>│<span style=\"color: #c0c0c0; text-decoration-color: #c0c0c0\"> [180492, 128] </span>│\n",
       "│<span style=\"color: #7f7f7f; text-decoration-color: #7f7f7f\"> 41 </span>│ encoder.interactions.3.mlp.1            │ ShiftedSoftpl… │      0 │ train │<span style=\"color: #c0c0c0; text-decoration-color: #c0c0c0\">  [180492, 128] </span>│<span style=\"color: #c0c0c0; text-decoration-color: #c0c0c0\"> [180492, 128] </span>│\n",
       "│<span style=\"color: #7f7f7f; text-decoration-color: #7f7f7f\"> 42 </span>│ encoder.interactions.3.mlp.2            │ Linear         │ 16.5 K │ train │<span style=\"color: #c0c0c0; text-decoration-color: #c0c0c0\">  [180492, 128] </span>│<span style=\"color: #c0c0c0; text-decoration-color: #c0c0c0\"> [180492, 128] </span>│\n",
       "│<span style=\"color: #7f7f7f; text-decoration-color: #7f7f7f\"> 43 </span>│ encoder.interactions.3.conv             │ CFConv         │  154 K │ train │<span style=\"color: #c0c0c0; text-decoration-color: #c0c0c0\"> [[10137, 512], </span>│<span style=\"color: #c0c0c0; text-decoration-color: #c0c0c0\">  [10137, 512] </span>│\n",
       "│<span style=\"color: #7f7f7f; text-decoration-color: #7f7f7f\">    </span>│                                         │                │        │       │<span style=\"color: #c0c0c0; text-decoration-color: #c0c0c0\">   [2, 180492], </span>│<span style=\"color: #c0c0c0; text-decoration-color: #c0c0c0\">               </span>│\n",
       "│<span style=\"color: #7f7f7f; text-decoration-color: #7f7f7f\">    </span>│                                         │                │        │       │<span style=\"color: #c0c0c0; text-decoration-color: #c0c0c0\">      [180492], </span>│<span style=\"color: #c0c0c0; text-decoration-color: #c0c0c0\">               </span>│\n",
       "│<span style=\"color: #7f7f7f; text-decoration-color: #7f7f7f\">    </span>│                                         │                │        │       │<span style=\"color: #c0c0c0; text-decoration-color: #c0c0c0\">  [180492, 50]] </span>│<span style=\"color: #c0c0c0; text-decoration-color: #c0c0c0\">               </span>│\n",
       "│<span style=\"color: #7f7f7f; text-decoration-color: #7f7f7f\"> 44 </span>│ encoder.interactions.3.conv.aggr_module │ SumAggregation │      0 │ train │<span style=\"color: #c0c0c0; text-decoration-color: #c0c0c0\">      [[180492, </span>│<span style=\"color: #c0c0c0; text-decoration-color: #c0c0c0\">  [10137, 128] </span>│\n",
       "│<span style=\"color: #7f7f7f; text-decoration-color: #7f7f7f\">    </span>│                                         │                │        │       │<span style=\"color: #c0c0c0; text-decoration-color: #c0c0c0\">          128], </span>│<span style=\"color: #c0c0c0; text-decoration-color: #c0c0c0\">               </span>│\n",
       "│<span style=\"color: #7f7f7f; text-decoration-color: #7f7f7f\">    </span>│                                         │                │        │       │<span style=\"color: #c0c0c0; text-decoration-color: #c0c0c0\"> [180492], '?', </span>│<span style=\"color: #c0c0c0; text-decoration-color: #c0c0c0\">               </span>│\n",
       "│<span style=\"color: #7f7f7f; text-decoration-color: #7f7f7f\">    </span>│                                         │                │        │       │<span style=\"color: #c0c0c0; text-decoration-color: #c0c0c0\">      '?', '?'] </span>│<span style=\"color: #c0c0c0; text-decoration-color: #c0c0c0\">               </span>│\n",
       "│<span style=\"color: #7f7f7f; text-decoration-color: #7f7f7f\"> 45 </span>│ encoder.interactions.3.conv.lin1        │ Linear         │ 65.5 K │ train │<span style=\"color: #c0c0c0; text-decoration-color: #c0c0c0\">   [10137, 512] </span>│<span style=\"color: #c0c0c0; text-decoration-color: #c0c0c0\">  [10137, 128] </span>│\n",
       "│<span style=\"color: #7f7f7f; text-decoration-color: #7f7f7f\"> 46 </span>│ encoder.interactions.3.conv.lin2        │ Linear         │ 66.0 K │ train │<span style=\"color: #c0c0c0; text-decoration-color: #c0c0c0\">   [10137, 128] </span>│<span style=\"color: #c0c0c0; text-decoration-color: #c0c0c0\">  [10137, 512] </span>│\n",
       "│<span style=\"color: #7f7f7f; text-decoration-color: #7f7f7f\"> 47 </span>│ encoder.interactions.3.act              │ ShiftedSoftpl… │      0 │ train │<span style=\"color: #c0c0c0; text-decoration-color: #c0c0c0\">   [10137, 512] </span>│<span style=\"color: #c0c0c0; text-decoration-color: #c0c0c0\">  [10137, 512] </span>│\n",
       "│<span style=\"color: #7f7f7f; text-decoration-color: #7f7f7f\"> 48 </span>│ encoder.interactions.3.lin              │ Linear         │  262 K │ train │<span style=\"color: #c0c0c0; text-decoration-color: #c0c0c0\">   [10137, 512] </span>│<span style=\"color: #c0c0c0; text-decoration-color: #c0c0c0\">  [10137, 512] </span>│\n",
       "│<span style=\"color: #7f7f7f; text-decoration-color: #7f7f7f\"> 49 </span>│ encoder.interactions.4                  │ InteractionBl… │  417 K │ train │<span style=\"color: #c0c0c0; text-decoration-color: #c0c0c0\"> [[10137, 512], </span>│<span style=\"color: #c0c0c0; text-decoration-color: #c0c0c0\">  [10137, 512] </span>│\n",
       "│<span style=\"color: #7f7f7f; text-decoration-color: #7f7f7f\">    </span>│                                         │                │        │       │<span style=\"color: #c0c0c0; text-decoration-color: #c0c0c0\">   [2, 180492], </span>│<span style=\"color: #c0c0c0; text-decoration-color: #c0c0c0\">               </span>│\n",
       "│<span style=\"color: #7f7f7f; text-decoration-color: #7f7f7f\">    </span>│                                         │                │        │       │<span style=\"color: #c0c0c0; text-decoration-color: #c0c0c0\">      [180492], </span>│<span style=\"color: #c0c0c0; text-decoration-color: #c0c0c0\">               </span>│\n",
       "│<span style=\"color: #7f7f7f; text-decoration-color: #7f7f7f\">    </span>│                                         │                │        │       │<span style=\"color: #c0c0c0; text-decoration-color: #c0c0c0\">  [180492, 50]] </span>│<span style=\"color: #c0c0c0; text-decoration-color: #c0c0c0\">               </span>│\n",
       "│<span style=\"color: #7f7f7f; text-decoration-color: #7f7f7f\"> 50 </span>│ encoder.interactions.4.mlp              │ Sequential     │ 23.0 K │ train │<span style=\"color: #c0c0c0; text-decoration-color: #c0c0c0\">   [180492, 50] </span>│<span style=\"color: #c0c0c0; text-decoration-color: #c0c0c0\"> [180492, 128] </span>│\n",
       "│<span style=\"color: #7f7f7f; text-decoration-color: #7f7f7f\"> 51 </span>│ encoder.interactions.4.mlp.0            │ Linear         │  6.5 K │ train │<span style=\"color: #c0c0c0; text-decoration-color: #c0c0c0\">   [180492, 50] </span>│<span style=\"color: #c0c0c0; text-decoration-color: #c0c0c0\"> [180492, 128] </span>│\n",
       "│<span style=\"color: #7f7f7f; text-decoration-color: #7f7f7f\"> 52 </span>│ encoder.interactions.4.mlp.1            │ ShiftedSoftpl… │      0 │ train │<span style=\"color: #c0c0c0; text-decoration-color: #c0c0c0\">  [180492, 128] </span>│<span style=\"color: #c0c0c0; text-decoration-color: #c0c0c0\"> [180492, 128] </span>│\n",
       "│<span style=\"color: #7f7f7f; text-decoration-color: #7f7f7f\"> 53 </span>│ encoder.interactions.4.mlp.2            │ Linear         │ 16.5 K │ train │<span style=\"color: #c0c0c0; text-decoration-color: #c0c0c0\">  [180492, 128] </span>│<span style=\"color: #c0c0c0; text-decoration-color: #c0c0c0\"> [180492, 128] </span>│\n",
       "│<span style=\"color: #7f7f7f; text-decoration-color: #7f7f7f\"> 54 </span>│ encoder.interactions.4.conv             │ CFConv         │  154 K │ train │<span style=\"color: #c0c0c0; text-decoration-color: #c0c0c0\"> [[10137, 512], </span>│<span style=\"color: #c0c0c0; text-decoration-color: #c0c0c0\">  [10137, 512] </span>│\n",
       "│<span style=\"color: #7f7f7f; text-decoration-color: #7f7f7f\">    </span>│                                         │                │        │       │<span style=\"color: #c0c0c0; text-decoration-color: #c0c0c0\">   [2, 180492], </span>│<span style=\"color: #c0c0c0; text-decoration-color: #c0c0c0\">               </span>│\n",
       "│<span style=\"color: #7f7f7f; text-decoration-color: #7f7f7f\">    </span>│                                         │                │        │       │<span style=\"color: #c0c0c0; text-decoration-color: #c0c0c0\">      [180492], </span>│<span style=\"color: #c0c0c0; text-decoration-color: #c0c0c0\">               </span>│\n",
       "│<span style=\"color: #7f7f7f; text-decoration-color: #7f7f7f\">    </span>│                                         │                │        │       │<span style=\"color: #c0c0c0; text-decoration-color: #c0c0c0\">  [180492, 50]] </span>│<span style=\"color: #c0c0c0; text-decoration-color: #c0c0c0\">               </span>│\n",
       "│<span style=\"color: #7f7f7f; text-decoration-color: #7f7f7f\"> 55 </span>│ encoder.interactions.4.conv.aggr_module │ SumAggregation │      0 │ train │<span style=\"color: #c0c0c0; text-decoration-color: #c0c0c0\">      [[180492, </span>│<span style=\"color: #c0c0c0; text-decoration-color: #c0c0c0\">  [10137, 128] </span>│\n",
       "│<span style=\"color: #7f7f7f; text-decoration-color: #7f7f7f\">    </span>│                                         │                │        │       │<span style=\"color: #c0c0c0; text-decoration-color: #c0c0c0\">          128], </span>│<span style=\"color: #c0c0c0; text-decoration-color: #c0c0c0\">               </span>│\n",
       "│<span style=\"color: #7f7f7f; text-decoration-color: #7f7f7f\">    </span>│                                         │                │        │       │<span style=\"color: #c0c0c0; text-decoration-color: #c0c0c0\"> [180492], '?', </span>│<span style=\"color: #c0c0c0; text-decoration-color: #c0c0c0\">               </span>│\n",
       "│<span style=\"color: #7f7f7f; text-decoration-color: #7f7f7f\">    </span>│                                         │                │        │       │<span style=\"color: #c0c0c0; text-decoration-color: #c0c0c0\">      '?', '?'] </span>│<span style=\"color: #c0c0c0; text-decoration-color: #c0c0c0\">               </span>│\n",
       "│<span style=\"color: #7f7f7f; text-decoration-color: #7f7f7f\"> 56 </span>│ encoder.interactions.4.conv.lin1        │ Linear         │ 65.5 K │ train │<span style=\"color: #c0c0c0; text-decoration-color: #c0c0c0\">   [10137, 512] </span>│<span style=\"color: #c0c0c0; text-decoration-color: #c0c0c0\">  [10137, 128] </span>│\n",
       "│<span style=\"color: #7f7f7f; text-decoration-color: #7f7f7f\"> 57 </span>│ encoder.interactions.4.conv.lin2        │ Linear         │ 66.0 K │ train │<span style=\"color: #c0c0c0; text-decoration-color: #c0c0c0\">   [10137, 128] </span>│<span style=\"color: #c0c0c0; text-decoration-color: #c0c0c0\">  [10137, 512] </span>│\n",
       "│<span style=\"color: #7f7f7f; text-decoration-color: #7f7f7f\"> 58 </span>│ encoder.interactions.4.act              │ ShiftedSoftpl… │      0 │ train │<span style=\"color: #c0c0c0; text-decoration-color: #c0c0c0\">   [10137, 512] </span>│<span style=\"color: #c0c0c0; text-decoration-color: #c0c0c0\">  [10137, 512] </span>│\n",
       "│<span style=\"color: #7f7f7f; text-decoration-color: #7f7f7f\"> 59 </span>│ encoder.interactions.4.lin              │ Linear         │  262 K │ train │<span style=\"color: #c0c0c0; text-decoration-color: #c0c0c0\">   [10137, 512] </span>│<span style=\"color: #c0c0c0; text-decoration-color: #c0c0c0\">  [10137, 512] </span>│\n",
       "│<span style=\"color: #7f7f7f; text-decoration-color: #7f7f7f\"> 60 </span>│ encoder.interactions.5                  │ InteractionBl… │  417 K │ train │<span style=\"color: #c0c0c0; text-decoration-color: #c0c0c0\"> [[10137, 512], </span>│<span style=\"color: #c0c0c0; text-decoration-color: #c0c0c0\">  [10137, 512] </span>│\n",
       "│<span style=\"color: #7f7f7f; text-decoration-color: #7f7f7f\">    </span>│                                         │                │        │       │<span style=\"color: #c0c0c0; text-decoration-color: #c0c0c0\">   [2, 180492], </span>│<span style=\"color: #c0c0c0; text-decoration-color: #c0c0c0\">               </span>│\n",
       "│<span style=\"color: #7f7f7f; text-decoration-color: #7f7f7f\">    </span>│                                         │                │        │       │<span style=\"color: #c0c0c0; text-decoration-color: #c0c0c0\">      [180492], </span>│<span style=\"color: #c0c0c0; text-decoration-color: #c0c0c0\">               </span>│\n",
       "│<span style=\"color: #7f7f7f; text-decoration-color: #7f7f7f\">    </span>│                                         │                │        │       │<span style=\"color: #c0c0c0; text-decoration-color: #c0c0c0\">  [180492, 50]] </span>│<span style=\"color: #c0c0c0; text-decoration-color: #c0c0c0\">               </span>│\n",
       "│<span style=\"color: #7f7f7f; text-decoration-color: #7f7f7f\"> 61 </span>│ encoder.interactions.5.mlp              │ Sequential     │ 23.0 K │ train │<span style=\"color: #c0c0c0; text-decoration-color: #c0c0c0\">   [180492, 50] </span>│<span style=\"color: #c0c0c0; text-decoration-color: #c0c0c0\"> [180492, 128] </span>│\n",
       "│<span style=\"color: #7f7f7f; text-decoration-color: #7f7f7f\"> 62 </span>│ encoder.interactions.5.mlp.0            │ Linear         │  6.5 K │ train │<span style=\"color: #c0c0c0; text-decoration-color: #c0c0c0\">   [180492, 50] </span>│<span style=\"color: #c0c0c0; text-decoration-color: #c0c0c0\"> [180492, 128] </span>│\n",
       "│<span style=\"color: #7f7f7f; text-decoration-color: #7f7f7f\"> 63 </span>│ encoder.interactions.5.mlp.1            │ ShiftedSoftpl… │      0 │ train │<span style=\"color: #c0c0c0; text-decoration-color: #c0c0c0\">  [180492, 128] </span>│<span style=\"color: #c0c0c0; text-decoration-color: #c0c0c0\"> [180492, 128] </span>│\n",
       "│<span style=\"color: #7f7f7f; text-decoration-color: #7f7f7f\"> 64 </span>│ encoder.interactions.5.mlp.2            │ Linear         │ 16.5 K │ train │<span style=\"color: #c0c0c0; text-decoration-color: #c0c0c0\">  [180492, 128] </span>│<span style=\"color: #c0c0c0; text-decoration-color: #c0c0c0\"> [180492, 128] </span>│\n",
       "│<span style=\"color: #7f7f7f; text-decoration-color: #7f7f7f\"> 65 </span>│ encoder.interactions.5.conv             │ CFConv         │  154 K │ train │<span style=\"color: #c0c0c0; text-decoration-color: #c0c0c0\"> [[10137, 512], </span>│<span style=\"color: #c0c0c0; text-decoration-color: #c0c0c0\">  [10137, 512] </span>│\n",
       "│<span style=\"color: #7f7f7f; text-decoration-color: #7f7f7f\">    </span>│                                         │                │        │       │<span style=\"color: #c0c0c0; text-decoration-color: #c0c0c0\">   [2, 180492], </span>│<span style=\"color: #c0c0c0; text-decoration-color: #c0c0c0\">               </span>│\n",
       "│<span style=\"color: #7f7f7f; text-decoration-color: #7f7f7f\">    </span>│                                         │                │        │       │<span style=\"color: #c0c0c0; text-decoration-color: #c0c0c0\">      [180492], </span>│<span style=\"color: #c0c0c0; text-decoration-color: #c0c0c0\">               </span>│\n",
       "│<span style=\"color: #7f7f7f; text-decoration-color: #7f7f7f\">    </span>│                                         │                │        │       │<span style=\"color: #c0c0c0; text-decoration-color: #c0c0c0\">  [180492, 50]] </span>│<span style=\"color: #c0c0c0; text-decoration-color: #c0c0c0\">               </span>│\n",
       "│<span style=\"color: #7f7f7f; text-decoration-color: #7f7f7f\"> 66 </span>│ encoder.interactions.5.conv.aggr_module │ SumAggregation │      0 │ train │<span style=\"color: #c0c0c0; text-decoration-color: #c0c0c0\">      [[180492, </span>│<span style=\"color: #c0c0c0; text-decoration-color: #c0c0c0\">  [10137, 128] </span>│\n",
       "│<span style=\"color: #7f7f7f; text-decoration-color: #7f7f7f\">    </span>│                                         │                │        │       │<span style=\"color: #c0c0c0; text-decoration-color: #c0c0c0\">          128], </span>│<span style=\"color: #c0c0c0; text-decoration-color: #c0c0c0\">               </span>│\n",
       "│<span style=\"color: #7f7f7f; text-decoration-color: #7f7f7f\">    </span>│                                         │                │        │       │<span style=\"color: #c0c0c0; text-decoration-color: #c0c0c0\"> [180492], '?', </span>│<span style=\"color: #c0c0c0; text-decoration-color: #c0c0c0\">               </span>│\n",
       "│<span style=\"color: #7f7f7f; text-decoration-color: #7f7f7f\">    </span>│                                         │                │        │       │<span style=\"color: #c0c0c0; text-decoration-color: #c0c0c0\">      '?', '?'] </span>│<span style=\"color: #c0c0c0; text-decoration-color: #c0c0c0\">               </span>│\n",
       "│<span style=\"color: #7f7f7f; text-decoration-color: #7f7f7f\"> 67 </span>│ encoder.interactions.5.conv.lin1        │ Linear         │ 65.5 K │ train │<span style=\"color: #c0c0c0; text-decoration-color: #c0c0c0\">   [10137, 512] </span>│<span style=\"color: #c0c0c0; text-decoration-color: #c0c0c0\">  [10137, 128] </span>│\n",
       "│<span style=\"color: #7f7f7f; text-decoration-color: #7f7f7f\"> 68 </span>│ encoder.interactions.5.conv.lin2        │ Linear         │ 66.0 K │ train │<span style=\"color: #c0c0c0; text-decoration-color: #c0c0c0\">   [10137, 128] </span>│<span style=\"color: #c0c0c0; text-decoration-color: #c0c0c0\">  [10137, 512] </span>│\n",
       "│<span style=\"color: #7f7f7f; text-decoration-color: #7f7f7f\"> 69 </span>│ encoder.interactions.5.act              │ ShiftedSoftpl… │      0 │ train │<span style=\"color: #c0c0c0; text-decoration-color: #c0c0c0\">   [10137, 512] </span>│<span style=\"color: #c0c0c0; text-decoration-color: #c0c0c0\">  [10137, 512] </span>│\n",
       "│<span style=\"color: #7f7f7f; text-decoration-color: #7f7f7f\"> 70 </span>│ encoder.interactions.5.lin              │ Linear         │  262 K │ train │<span style=\"color: #c0c0c0; text-decoration-color: #c0c0c0\">   [10137, 512] </span>│<span style=\"color: #c0c0c0; text-decoration-color: #c0c0c0\">  [10137, 512] </span>│\n",
       "│<span style=\"color: #7f7f7f; text-decoration-color: #7f7f7f\"> 71 </span>│ encoder.lin1                            │ Linear         │  131 K │ train │<span style=\"color: #c0c0c0; text-decoration-color: #c0c0c0\">   [10137, 512] </span>│<span style=\"color: #c0c0c0; text-decoration-color: #c0c0c0\">  [10137, 256] </span>│\n",
       "│<span style=\"color: #7f7f7f; text-decoration-color: #7f7f7f\"> 72 </span>│ encoder.act                             │ ShiftedSoftpl… │      0 │ train │<span style=\"color: #c0c0c0; text-decoration-color: #c0c0c0\">   [10137, 256] </span>│<span style=\"color: #c0c0c0; text-decoration-color: #c0c0c0\">  [10137, 256] </span>│\n",
       "│<span style=\"color: #7f7f7f; text-decoration-color: #7f7f7f\"> 73 </span>│ encoder.lin2                            │ Linear         │  8.2 K │ train │<span style=\"color: #c0c0c0; text-decoration-color: #c0c0c0\">   [10137, 256] </span>│<span style=\"color: #c0c0c0; text-decoration-color: #c0c0c0\">   [10137, 32] </span>│\n",
       "│<span style=\"color: #7f7f7f; text-decoration-color: #7f7f7f\"> 74 </span>│ decoder                                 │ ModuleDict     │  2.1 K │ train │<span style=\"color: #c0c0c0; text-decoration-color: #c0c0c0\">              ? </span>│<span style=\"color: #c0c0c0; text-decoration-color: #c0c0c0\">             ? </span>│\n",
       "│<span style=\"color: #7f7f7f; text-decoration-color: #7f7f7f\"> 75 </span>│ decoder.subgraph_distances              │ MLP_Pred_Dist  │  2.1 K │ train │<span style=\"color: #c0c0c0; text-decoration-color: #c0c0c0\">     [1002, 64] </span>│<span style=\"color: #c0c0c0; text-decoration-color: #c0c0c0\">        [1002] </span>│\n",
       "│<span style=\"color: #7f7f7f; text-decoration-color: #7f7f7f\"> 76 </span>│ decoder.subgraph_distances.linear1      │ Linear         │  2.1 K │ train │<span style=\"color: #c0c0c0; text-decoration-color: #c0c0c0\">     [1002, 64] </span>│<span style=\"color: #c0c0c0; text-decoration-color: #c0c0c0\">    [1002, 32] </span>│\n",
       "│<span style=\"color: #7f7f7f; text-decoration-color: #7f7f7f\"> 77 </span>│ decoder.subgraph_distances.relu         │ ReLU           │      0 │ train │<span style=\"color: #c0c0c0; text-decoration-color: #c0c0c0\">     [1002, 32] </span>│<span style=\"color: #c0c0c0; text-decoration-color: #c0c0c0\">    [1002, 32] </span>│\n",
       "│<span style=\"color: #7f7f7f; text-decoration-color: #7f7f7f\"> 78 </span>│ decoder.subgraph_distances.linear2      │ Linear         │     33 │ train │<span style=\"color: #c0c0c0; text-decoration-color: #c0c0c0\">     [1002, 32] </span>│<span style=\"color: #c0c0c0; text-decoration-color: #c0c0c0\">     [1002, 1] </span>│\n",
       "│<span style=\"color: #7f7f7f; text-decoration-color: #7f7f7f\"> 79 </span>│ test_subgraph_distances_mse             │ MeanSquaredEr… │      0 │ train │<span style=\"color: #c0c0c0; text-decoration-color: #c0c0c0\">              ? </span>│<span style=\"color: #c0c0c0; text-decoration-color: #c0c0c0\">             ? </span>│\n",
       "│<span style=\"color: #7f7f7f; text-decoration-color: #7f7f7f\"> 80 </span>│ train_subgraph_distances_mse            │ MeanSquaredEr… │      0 │ train │<span style=\"color: #c0c0c0; text-decoration-color: #c0c0c0\">              ? </span>│<span style=\"color: #c0c0c0; text-decoration-color: #c0c0c0\">             ? </span>│\n",
       "│<span style=\"color: #7f7f7f; text-decoration-color: #7f7f7f\"> 81 </span>│ val_subgraph_distances_mse              │ MeanSquaredEr… │      0 │ train │<span style=\"color: #c0c0c0; text-decoration-color: #c0c0c0\">              ? </span>│<span style=\"color: #c0c0c0; text-decoration-color: #c0c0c0\">             ? </span>│\n",
       "│<span style=\"color: #7f7f7f; text-decoration-color: #7f7f7f\"> 82 </span>│ featuriser                              │ ProteinFeatur… │      0 │ train │<span style=\"color: #c0c0c0; text-decoration-color: #c0c0c0\">              ? </span>│<span style=\"color: #c0c0c0; text-decoration-color: #c0c0c0\">             ? </span>│\n",
       "│<span style=\"color: #7f7f7f; text-decoration-color: #7f7f7f\"> 83 </span>│ featuriser.positional_encoding          │ PositionalEnc… │      0 │ train │<span style=\"color: #c0c0c0; text-decoration-color: #c0c0c0\">     [10137, 1] </span>│<span style=\"color: #c0c0c0; text-decoration-color: #c0c0c0\">   [10137, 16] </span>│\n",
       "└────┴─────────────────────────────────────────┴────────────────┴────────┴───────┴────────────────┴───────────────┘\n",
       "</pre>\n"
      ],
      "text/plain": [
       "┏━━━━┳━━━━━━━━━━━━━━━━━━━━━━━━━━━━━━━━━━━━━━━━━┳━━━━━━━━━━━━━━━━┳━━━━━━━━┳━━━━━━━┳━━━━━━━━━━━━━━━━┳━━━━━━━━━━━━━━━┓\n",
       "┃\u001b[1;35m \u001b[0m\u001b[1;35m  \u001b[0m\u001b[1;35m \u001b[0m┃\u001b[1;35m \u001b[0m\u001b[1;35mName                                   \u001b[0m\u001b[1;35m \u001b[0m┃\u001b[1;35m \u001b[0m\u001b[1;35mType          \u001b[0m\u001b[1;35m \u001b[0m┃\u001b[1;35m \u001b[0m\u001b[1;35mParams\u001b[0m\u001b[1;35m \u001b[0m┃\u001b[1;35m \u001b[0m\u001b[1;35mMode \u001b[0m\u001b[1;35m \u001b[0m┃\u001b[1;35m \u001b[0m\u001b[1;35m      In sizes\u001b[0m\u001b[1;35m \u001b[0m┃\u001b[1;35m \u001b[0m\u001b[1;35m    Out sizes\u001b[0m\u001b[1;35m \u001b[0m┃\n",
       "┡━━━━╇━━━━━━━━━━━━━━━━━━━━━━━━━━━━━━━━━━━━━━━━━╇━━━━━━━━━━━━━━━━╇━━━━━━━━╇━━━━━━━╇━━━━━━━━━━━━━━━━╇━━━━━━━━━━━━━━━┩\n",
       "│\u001b[2m \u001b[0m\u001b[2m0 \u001b[0m\u001b[2m \u001b[0m│ encoder                                 │ SchNetModel    │  2.7 M │ train │\u001b[37m \u001b[0m\u001b[37m             ?\u001b[0m\u001b[37m \u001b[0m│\u001b[37m \u001b[0m\u001b[37m            ?\u001b[0m\u001b[37m \u001b[0m│\n",
       "│\u001b[2m \u001b[0m\u001b[2m1 \u001b[0m\u001b[2m \u001b[0m│ encoder.sum_aggr                        │ SumAggregation │      0 │ train │\u001b[37m \u001b[0m\u001b[37m             ?\u001b[0m\u001b[37m \u001b[0m│\u001b[37m \u001b[0m\u001b[37m            ?\u001b[0m\u001b[37m \u001b[0m│\n",
       "│\u001b[2m \u001b[0m\u001b[2m2 \u001b[0m\u001b[2m \u001b[0m│ encoder.embedding                       │ Linear         │ 22.5 K │ train │\u001b[37m \u001b[0m\u001b[37m   [10137, 43]\u001b[0m\u001b[37m \u001b[0m│\u001b[37m \u001b[0m\u001b[37m [10137, 512]\u001b[0m\u001b[37m \u001b[0m│\n",
       "│\u001b[2m \u001b[0m\u001b[2m3 \u001b[0m\u001b[2m \u001b[0m│ encoder.distance_expansion              │ GaussianSmear… │      0 │ train │\u001b[37m \u001b[0m\u001b[37m      [180492]\u001b[0m\u001b[37m \u001b[0m│\u001b[37m \u001b[0m\u001b[37m [180492, 50]\u001b[0m\u001b[37m \u001b[0m│\n",
       "│\u001b[2m \u001b[0m\u001b[2m4 \u001b[0m\u001b[2m \u001b[0m│ encoder.interactions                    │ ModuleList     │  2.5 M │ train │\u001b[37m \u001b[0m\u001b[37m             ?\u001b[0m\u001b[37m \u001b[0m│\u001b[37m \u001b[0m\u001b[37m            ?\u001b[0m\u001b[37m \u001b[0m│\n",
       "│\u001b[2m \u001b[0m\u001b[2m5 \u001b[0m\u001b[2m \u001b[0m│ encoder.interactions.0                  │ InteractionBl… │  417 K │ train │\u001b[37m \u001b[0m\u001b[37m[[10137, 512],\u001b[0m\u001b[37m \u001b[0m│\u001b[37m \u001b[0m\u001b[37m [10137, 512]\u001b[0m\u001b[37m \u001b[0m│\n",
       "│\u001b[2m    \u001b[0m│                                         │                │        │       │\u001b[37m \u001b[0m\u001b[37m  [2, 180492],\u001b[0m\u001b[37m \u001b[0m│\u001b[37m               \u001b[0m│\n",
       "│\u001b[2m    \u001b[0m│                                         │                │        │       │\u001b[37m \u001b[0m\u001b[37m     [180492],\u001b[0m\u001b[37m \u001b[0m│\u001b[37m               \u001b[0m│\n",
       "│\u001b[2m    \u001b[0m│                                         │                │        │       │\u001b[37m \u001b[0m\u001b[37m [180492, 50]]\u001b[0m\u001b[37m \u001b[0m│\u001b[37m               \u001b[0m│\n",
       "│\u001b[2m \u001b[0m\u001b[2m6 \u001b[0m\u001b[2m \u001b[0m│ encoder.interactions.0.mlp              │ Sequential     │ 23.0 K │ train │\u001b[37m \u001b[0m\u001b[37m  [180492, 50]\u001b[0m\u001b[37m \u001b[0m│\u001b[37m \u001b[0m\u001b[37m[180492, 128]\u001b[0m\u001b[37m \u001b[0m│\n",
       "│\u001b[2m \u001b[0m\u001b[2m7 \u001b[0m\u001b[2m \u001b[0m│ encoder.interactions.0.mlp.0            │ Linear         │  6.5 K │ train │\u001b[37m \u001b[0m\u001b[37m  [180492, 50]\u001b[0m\u001b[37m \u001b[0m│\u001b[37m \u001b[0m\u001b[37m[180492, 128]\u001b[0m\u001b[37m \u001b[0m│\n",
       "│\u001b[2m \u001b[0m\u001b[2m8 \u001b[0m\u001b[2m \u001b[0m│ encoder.interactions.0.mlp.1            │ ShiftedSoftpl… │      0 │ train │\u001b[37m \u001b[0m\u001b[37m [180492, 128]\u001b[0m\u001b[37m \u001b[0m│\u001b[37m \u001b[0m\u001b[37m[180492, 128]\u001b[0m\u001b[37m \u001b[0m│\n",
       "│\u001b[2m \u001b[0m\u001b[2m9 \u001b[0m\u001b[2m \u001b[0m│ encoder.interactions.0.mlp.2            │ Linear         │ 16.5 K │ train │\u001b[37m \u001b[0m\u001b[37m [180492, 128]\u001b[0m\u001b[37m \u001b[0m│\u001b[37m \u001b[0m\u001b[37m[180492, 128]\u001b[0m\u001b[37m \u001b[0m│\n",
       "│\u001b[2m \u001b[0m\u001b[2m10\u001b[0m\u001b[2m \u001b[0m│ encoder.interactions.0.conv             │ CFConv         │  154 K │ train │\u001b[37m \u001b[0m\u001b[37m[[10137, 512],\u001b[0m\u001b[37m \u001b[0m│\u001b[37m \u001b[0m\u001b[37m [10137, 512]\u001b[0m\u001b[37m \u001b[0m│\n",
       "│\u001b[2m    \u001b[0m│                                         │                │        │       │\u001b[37m \u001b[0m\u001b[37m  [2, 180492],\u001b[0m\u001b[37m \u001b[0m│\u001b[37m               \u001b[0m│\n",
       "│\u001b[2m    \u001b[0m│                                         │                │        │       │\u001b[37m \u001b[0m\u001b[37m     [180492],\u001b[0m\u001b[37m \u001b[0m│\u001b[37m               \u001b[0m│\n",
       "│\u001b[2m    \u001b[0m│                                         │                │        │       │\u001b[37m \u001b[0m\u001b[37m [180492, 50]]\u001b[0m\u001b[37m \u001b[0m│\u001b[37m               \u001b[0m│\n",
       "│\u001b[2m \u001b[0m\u001b[2m11\u001b[0m\u001b[2m \u001b[0m│ encoder.interactions.0.conv.aggr_module │ SumAggregation │      0 │ train │\u001b[37m \u001b[0m\u001b[37m     [[180492,\u001b[0m\u001b[37m \u001b[0m│\u001b[37m \u001b[0m\u001b[37m [10137, 128]\u001b[0m\u001b[37m \u001b[0m│\n",
       "│\u001b[2m    \u001b[0m│                                         │                │        │       │\u001b[37m \u001b[0m\u001b[37m         128],\u001b[0m\u001b[37m \u001b[0m│\u001b[37m               \u001b[0m│\n",
       "│\u001b[2m    \u001b[0m│                                         │                │        │       │\u001b[37m \u001b[0m\u001b[37m[180492], '?',\u001b[0m\u001b[37m \u001b[0m│\u001b[37m               \u001b[0m│\n",
       "│\u001b[2m    \u001b[0m│                                         │                │        │       │\u001b[37m \u001b[0m\u001b[37m     '?', '?']\u001b[0m\u001b[37m \u001b[0m│\u001b[37m               \u001b[0m│\n",
       "│\u001b[2m \u001b[0m\u001b[2m12\u001b[0m\u001b[2m \u001b[0m│ encoder.interactions.0.conv.lin1        │ Linear         │ 65.5 K │ train │\u001b[37m \u001b[0m\u001b[37m  [10137, 512]\u001b[0m\u001b[37m \u001b[0m│\u001b[37m \u001b[0m\u001b[37m [10137, 128]\u001b[0m\u001b[37m \u001b[0m│\n",
       "│\u001b[2m \u001b[0m\u001b[2m13\u001b[0m\u001b[2m \u001b[0m│ encoder.interactions.0.conv.lin2        │ Linear         │ 66.0 K │ train │\u001b[37m \u001b[0m\u001b[37m  [10137, 128]\u001b[0m\u001b[37m \u001b[0m│\u001b[37m \u001b[0m\u001b[37m [10137, 512]\u001b[0m\u001b[37m \u001b[0m│\n",
       "│\u001b[2m \u001b[0m\u001b[2m14\u001b[0m\u001b[2m \u001b[0m│ encoder.interactions.0.act              │ ShiftedSoftpl… │      0 │ train │\u001b[37m \u001b[0m\u001b[37m  [10137, 512]\u001b[0m\u001b[37m \u001b[0m│\u001b[37m \u001b[0m\u001b[37m [10137, 512]\u001b[0m\u001b[37m \u001b[0m│\n",
       "│\u001b[2m \u001b[0m\u001b[2m15\u001b[0m\u001b[2m \u001b[0m│ encoder.interactions.0.lin              │ Linear         │  262 K │ train │\u001b[37m \u001b[0m\u001b[37m  [10137, 512]\u001b[0m\u001b[37m \u001b[0m│\u001b[37m \u001b[0m\u001b[37m [10137, 512]\u001b[0m\u001b[37m \u001b[0m│\n",
       "│\u001b[2m \u001b[0m\u001b[2m16\u001b[0m\u001b[2m \u001b[0m│ encoder.interactions.1                  │ InteractionBl… │  417 K │ train │\u001b[37m \u001b[0m\u001b[37m[[10137, 512],\u001b[0m\u001b[37m \u001b[0m│\u001b[37m \u001b[0m\u001b[37m [10137, 512]\u001b[0m\u001b[37m \u001b[0m│\n",
       "│\u001b[2m    \u001b[0m│                                         │                │        │       │\u001b[37m \u001b[0m\u001b[37m  [2, 180492],\u001b[0m\u001b[37m \u001b[0m│\u001b[37m               \u001b[0m│\n",
       "│\u001b[2m    \u001b[0m│                                         │                │        │       │\u001b[37m \u001b[0m\u001b[37m     [180492],\u001b[0m\u001b[37m \u001b[0m│\u001b[37m               \u001b[0m│\n",
       "│\u001b[2m    \u001b[0m│                                         │                │        │       │\u001b[37m \u001b[0m\u001b[37m [180492, 50]]\u001b[0m\u001b[37m \u001b[0m│\u001b[37m               \u001b[0m│\n",
       "│\u001b[2m \u001b[0m\u001b[2m17\u001b[0m\u001b[2m \u001b[0m│ encoder.interactions.1.mlp              │ Sequential     │ 23.0 K │ train │\u001b[37m \u001b[0m\u001b[37m  [180492, 50]\u001b[0m\u001b[37m \u001b[0m│\u001b[37m \u001b[0m\u001b[37m[180492, 128]\u001b[0m\u001b[37m \u001b[0m│\n",
       "│\u001b[2m \u001b[0m\u001b[2m18\u001b[0m\u001b[2m \u001b[0m│ encoder.interactions.1.mlp.0            │ Linear         │  6.5 K │ train │\u001b[37m \u001b[0m\u001b[37m  [180492, 50]\u001b[0m\u001b[37m \u001b[0m│\u001b[37m \u001b[0m\u001b[37m[180492, 128]\u001b[0m\u001b[37m \u001b[0m│\n",
       "│\u001b[2m \u001b[0m\u001b[2m19\u001b[0m\u001b[2m \u001b[0m│ encoder.interactions.1.mlp.1            │ ShiftedSoftpl… │      0 │ train │\u001b[37m \u001b[0m\u001b[37m [180492, 128]\u001b[0m\u001b[37m \u001b[0m│\u001b[37m \u001b[0m\u001b[37m[180492, 128]\u001b[0m\u001b[37m \u001b[0m│\n",
       "│\u001b[2m \u001b[0m\u001b[2m20\u001b[0m\u001b[2m \u001b[0m│ encoder.interactions.1.mlp.2            │ Linear         │ 16.5 K │ train │\u001b[37m \u001b[0m\u001b[37m [180492, 128]\u001b[0m\u001b[37m \u001b[0m│\u001b[37m \u001b[0m\u001b[37m[180492, 128]\u001b[0m\u001b[37m \u001b[0m│\n",
       "│\u001b[2m \u001b[0m\u001b[2m21\u001b[0m\u001b[2m \u001b[0m│ encoder.interactions.1.conv             │ CFConv         │  154 K │ train │\u001b[37m \u001b[0m\u001b[37m[[10137, 512],\u001b[0m\u001b[37m \u001b[0m│\u001b[37m \u001b[0m\u001b[37m [10137, 512]\u001b[0m\u001b[37m \u001b[0m│\n",
       "│\u001b[2m    \u001b[0m│                                         │                │        │       │\u001b[37m \u001b[0m\u001b[37m  [2, 180492],\u001b[0m\u001b[37m \u001b[0m│\u001b[37m               \u001b[0m│\n",
       "│\u001b[2m    \u001b[0m│                                         │                │        │       │\u001b[37m \u001b[0m\u001b[37m     [180492],\u001b[0m\u001b[37m \u001b[0m│\u001b[37m               \u001b[0m│\n",
       "│\u001b[2m    \u001b[0m│                                         │                │        │       │\u001b[37m \u001b[0m\u001b[37m [180492, 50]]\u001b[0m\u001b[37m \u001b[0m│\u001b[37m               \u001b[0m│\n",
       "│\u001b[2m \u001b[0m\u001b[2m22\u001b[0m\u001b[2m \u001b[0m│ encoder.interactions.1.conv.aggr_module │ SumAggregation │      0 │ train │\u001b[37m \u001b[0m\u001b[37m     [[180492,\u001b[0m\u001b[37m \u001b[0m│\u001b[37m \u001b[0m\u001b[37m [10137, 128]\u001b[0m\u001b[37m \u001b[0m│\n",
       "│\u001b[2m    \u001b[0m│                                         │                │        │       │\u001b[37m \u001b[0m\u001b[37m         128],\u001b[0m\u001b[37m \u001b[0m│\u001b[37m               \u001b[0m│\n",
       "│\u001b[2m    \u001b[0m│                                         │                │        │       │\u001b[37m \u001b[0m\u001b[37m[180492], '?',\u001b[0m\u001b[37m \u001b[0m│\u001b[37m               \u001b[0m│\n",
       "│\u001b[2m    \u001b[0m│                                         │                │        │       │\u001b[37m \u001b[0m\u001b[37m     '?', '?']\u001b[0m\u001b[37m \u001b[0m│\u001b[37m               \u001b[0m│\n",
       "│\u001b[2m \u001b[0m\u001b[2m23\u001b[0m\u001b[2m \u001b[0m│ encoder.interactions.1.conv.lin1        │ Linear         │ 65.5 K │ train │\u001b[37m \u001b[0m\u001b[37m  [10137, 512]\u001b[0m\u001b[37m \u001b[0m│\u001b[37m \u001b[0m\u001b[37m [10137, 128]\u001b[0m\u001b[37m \u001b[0m│\n",
       "│\u001b[2m \u001b[0m\u001b[2m24\u001b[0m\u001b[2m \u001b[0m│ encoder.interactions.1.conv.lin2        │ Linear         │ 66.0 K │ train │\u001b[37m \u001b[0m\u001b[37m  [10137, 128]\u001b[0m\u001b[37m \u001b[0m│\u001b[37m \u001b[0m\u001b[37m [10137, 512]\u001b[0m\u001b[37m \u001b[0m│\n",
       "│\u001b[2m \u001b[0m\u001b[2m25\u001b[0m\u001b[2m \u001b[0m│ encoder.interactions.1.act              │ ShiftedSoftpl… │      0 │ train │\u001b[37m \u001b[0m\u001b[37m  [10137, 512]\u001b[0m\u001b[37m \u001b[0m│\u001b[37m \u001b[0m\u001b[37m [10137, 512]\u001b[0m\u001b[37m \u001b[0m│\n",
       "│\u001b[2m \u001b[0m\u001b[2m26\u001b[0m\u001b[2m \u001b[0m│ encoder.interactions.1.lin              │ Linear         │  262 K │ train │\u001b[37m \u001b[0m\u001b[37m  [10137, 512]\u001b[0m\u001b[37m \u001b[0m│\u001b[37m \u001b[0m\u001b[37m [10137, 512]\u001b[0m\u001b[37m \u001b[0m│\n",
       "│\u001b[2m \u001b[0m\u001b[2m27\u001b[0m\u001b[2m \u001b[0m│ encoder.interactions.2                  │ InteractionBl… │  417 K │ train │\u001b[37m \u001b[0m\u001b[37m[[10137, 512],\u001b[0m\u001b[37m \u001b[0m│\u001b[37m \u001b[0m\u001b[37m [10137, 512]\u001b[0m\u001b[37m \u001b[0m│\n",
       "│\u001b[2m    \u001b[0m│                                         │                │        │       │\u001b[37m \u001b[0m\u001b[37m  [2, 180492],\u001b[0m\u001b[37m \u001b[0m│\u001b[37m               \u001b[0m│\n",
       "│\u001b[2m    \u001b[0m│                                         │                │        │       │\u001b[37m \u001b[0m\u001b[37m     [180492],\u001b[0m\u001b[37m \u001b[0m│\u001b[37m               \u001b[0m│\n",
       "│\u001b[2m    \u001b[0m│                                         │                │        │       │\u001b[37m \u001b[0m\u001b[37m [180492, 50]]\u001b[0m\u001b[37m \u001b[0m│\u001b[37m               \u001b[0m│\n",
       "│\u001b[2m \u001b[0m\u001b[2m28\u001b[0m\u001b[2m \u001b[0m│ encoder.interactions.2.mlp              │ Sequential     │ 23.0 K │ train │\u001b[37m \u001b[0m\u001b[37m  [180492, 50]\u001b[0m\u001b[37m \u001b[0m│\u001b[37m \u001b[0m\u001b[37m[180492, 128]\u001b[0m\u001b[37m \u001b[0m│\n",
       "│\u001b[2m \u001b[0m\u001b[2m29\u001b[0m\u001b[2m \u001b[0m│ encoder.interactions.2.mlp.0            │ Linear         │  6.5 K │ train │\u001b[37m \u001b[0m\u001b[37m  [180492, 50]\u001b[0m\u001b[37m \u001b[0m│\u001b[37m \u001b[0m\u001b[37m[180492, 128]\u001b[0m\u001b[37m \u001b[0m│\n",
       "│\u001b[2m \u001b[0m\u001b[2m30\u001b[0m\u001b[2m \u001b[0m│ encoder.interactions.2.mlp.1            │ ShiftedSoftpl… │      0 │ train │\u001b[37m \u001b[0m\u001b[37m [180492, 128]\u001b[0m\u001b[37m \u001b[0m│\u001b[37m \u001b[0m\u001b[37m[180492, 128]\u001b[0m\u001b[37m \u001b[0m│\n",
       "│\u001b[2m \u001b[0m\u001b[2m31\u001b[0m\u001b[2m \u001b[0m│ encoder.interactions.2.mlp.2            │ Linear         │ 16.5 K │ train │\u001b[37m \u001b[0m\u001b[37m [180492, 128]\u001b[0m\u001b[37m \u001b[0m│\u001b[37m \u001b[0m\u001b[37m[180492, 128]\u001b[0m\u001b[37m \u001b[0m│\n",
       "│\u001b[2m \u001b[0m\u001b[2m32\u001b[0m\u001b[2m \u001b[0m│ encoder.interactions.2.conv             │ CFConv         │  154 K │ train │\u001b[37m \u001b[0m\u001b[37m[[10137, 512],\u001b[0m\u001b[37m \u001b[0m│\u001b[37m \u001b[0m\u001b[37m [10137, 512]\u001b[0m\u001b[37m \u001b[0m│\n",
       "│\u001b[2m    \u001b[0m│                                         │                │        │       │\u001b[37m \u001b[0m\u001b[37m  [2, 180492],\u001b[0m\u001b[37m \u001b[0m│\u001b[37m               \u001b[0m│\n",
       "│\u001b[2m    \u001b[0m│                                         │                │        │       │\u001b[37m \u001b[0m\u001b[37m     [180492],\u001b[0m\u001b[37m \u001b[0m│\u001b[37m               \u001b[0m│\n",
       "│\u001b[2m    \u001b[0m│                                         │                │        │       │\u001b[37m \u001b[0m\u001b[37m [180492, 50]]\u001b[0m\u001b[37m \u001b[0m│\u001b[37m               \u001b[0m│\n",
       "│\u001b[2m \u001b[0m\u001b[2m33\u001b[0m\u001b[2m \u001b[0m│ encoder.interactions.2.conv.aggr_module │ SumAggregation │      0 │ train │\u001b[37m \u001b[0m\u001b[37m     [[180492,\u001b[0m\u001b[37m \u001b[0m│\u001b[37m \u001b[0m\u001b[37m [10137, 128]\u001b[0m\u001b[37m \u001b[0m│\n",
       "│\u001b[2m    \u001b[0m│                                         │                │        │       │\u001b[37m \u001b[0m\u001b[37m         128],\u001b[0m\u001b[37m \u001b[0m│\u001b[37m               \u001b[0m│\n",
       "│\u001b[2m    \u001b[0m│                                         │                │        │       │\u001b[37m \u001b[0m\u001b[37m[180492], '?',\u001b[0m\u001b[37m \u001b[0m│\u001b[37m               \u001b[0m│\n",
       "│\u001b[2m    \u001b[0m│                                         │                │        │       │\u001b[37m \u001b[0m\u001b[37m     '?', '?']\u001b[0m\u001b[37m \u001b[0m│\u001b[37m               \u001b[0m│\n",
       "│\u001b[2m \u001b[0m\u001b[2m34\u001b[0m\u001b[2m \u001b[0m│ encoder.interactions.2.conv.lin1        │ Linear         │ 65.5 K │ train │\u001b[37m \u001b[0m\u001b[37m  [10137, 512]\u001b[0m\u001b[37m \u001b[0m│\u001b[37m \u001b[0m\u001b[37m [10137, 128]\u001b[0m\u001b[37m \u001b[0m│\n",
       "│\u001b[2m \u001b[0m\u001b[2m35\u001b[0m\u001b[2m \u001b[0m│ encoder.interactions.2.conv.lin2        │ Linear         │ 66.0 K │ train │\u001b[37m \u001b[0m\u001b[37m  [10137, 128]\u001b[0m\u001b[37m \u001b[0m│\u001b[37m \u001b[0m\u001b[37m [10137, 512]\u001b[0m\u001b[37m \u001b[0m│\n",
       "│\u001b[2m \u001b[0m\u001b[2m36\u001b[0m\u001b[2m \u001b[0m│ encoder.interactions.2.act              │ ShiftedSoftpl… │      0 │ train │\u001b[37m \u001b[0m\u001b[37m  [10137, 512]\u001b[0m\u001b[37m \u001b[0m│\u001b[37m \u001b[0m\u001b[37m [10137, 512]\u001b[0m\u001b[37m \u001b[0m│\n",
       "│\u001b[2m \u001b[0m\u001b[2m37\u001b[0m\u001b[2m \u001b[0m│ encoder.interactions.2.lin              │ Linear         │  262 K │ train │\u001b[37m \u001b[0m\u001b[37m  [10137, 512]\u001b[0m\u001b[37m \u001b[0m│\u001b[37m \u001b[0m\u001b[37m [10137, 512]\u001b[0m\u001b[37m \u001b[0m│\n",
       "│\u001b[2m \u001b[0m\u001b[2m38\u001b[0m\u001b[2m \u001b[0m│ encoder.interactions.3                  │ InteractionBl… │  417 K │ train │\u001b[37m \u001b[0m\u001b[37m[[10137, 512],\u001b[0m\u001b[37m \u001b[0m│\u001b[37m \u001b[0m\u001b[37m [10137, 512]\u001b[0m\u001b[37m \u001b[0m│\n",
       "│\u001b[2m    \u001b[0m│                                         │                │        │       │\u001b[37m \u001b[0m\u001b[37m  [2, 180492],\u001b[0m\u001b[37m \u001b[0m│\u001b[37m               \u001b[0m│\n",
       "│\u001b[2m    \u001b[0m│                                         │                │        │       │\u001b[37m \u001b[0m\u001b[37m     [180492],\u001b[0m\u001b[37m \u001b[0m│\u001b[37m               \u001b[0m│\n",
       "│\u001b[2m    \u001b[0m│                                         │                │        │       │\u001b[37m \u001b[0m\u001b[37m [180492, 50]]\u001b[0m\u001b[37m \u001b[0m│\u001b[37m               \u001b[0m│\n",
       "│\u001b[2m \u001b[0m\u001b[2m39\u001b[0m\u001b[2m \u001b[0m│ encoder.interactions.3.mlp              │ Sequential     │ 23.0 K │ train │\u001b[37m \u001b[0m\u001b[37m  [180492, 50]\u001b[0m\u001b[37m \u001b[0m│\u001b[37m \u001b[0m\u001b[37m[180492, 128]\u001b[0m\u001b[37m \u001b[0m│\n",
       "│\u001b[2m \u001b[0m\u001b[2m40\u001b[0m\u001b[2m \u001b[0m│ encoder.interactions.3.mlp.0            │ Linear         │  6.5 K │ train │\u001b[37m \u001b[0m\u001b[37m  [180492, 50]\u001b[0m\u001b[37m \u001b[0m│\u001b[37m \u001b[0m\u001b[37m[180492, 128]\u001b[0m\u001b[37m \u001b[0m│\n",
       "│\u001b[2m \u001b[0m\u001b[2m41\u001b[0m\u001b[2m \u001b[0m│ encoder.interactions.3.mlp.1            │ ShiftedSoftpl… │      0 │ train │\u001b[37m \u001b[0m\u001b[37m [180492, 128]\u001b[0m\u001b[37m \u001b[0m│\u001b[37m \u001b[0m\u001b[37m[180492, 128]\u001b[0m\u001b[37m \u001b[0m│\n",
       "│\u001b[2m \u001b[0m\u001b[2m42\u001b[0m\u001b[2m \u001b[0m│ encoder.interactions.3.mlp.2            │ Linear         │ 16.5 K │ train │\u001b[37m \u001b[0m\u001b[37m [180492, 128]\u001b[0m\u001b[37m \u001b[0m│\u001b[37m \u001b[0m\u001b[37m[180492, 128]\u001b[0m\u001b[37m \u001b[0m│\n",
       "│\u001b[2m \u001b[0m\u001b[2m43\u001b[0m\u001b[2m \u001b[0m│ encoder.interactions.3.conv             │ CFConv         │  154 K │ train │\u001b[37m \u001b[0m\u001b[37m[[10137, 512],\u001b[0m\u001b[37m \u001b[0m│\u001b[37m \u001b[0m\u001b[37m [10137, 512]\u001b[0m\u001b[37m \u001b[0m│\n",
       "│\u001b[2m    \u001b[0m│                                         │                │        │       │\u001b[37m \u001b[0m\u001b[37m  [2, 180492],\u001b[0m\u001b[37m \u001b[0m│\u001b[37m               \u001b[0m│\n",
       "│\u001b[2m    \u001b[0m│                                         │                │        │       │\u001b[37m \u001b[0m\u001b[37m     [180492],\u001b[0m\u001b[37m \u001b[0m│\u001b[37m               \u001b[0m│\n",
       "│\u001b[2m    \u001b[0m│                                         │                │        │       │\u001b[37m \u001b[0m\u001b[37m [180492, 50]]\u001b[0m\u001b[37m \u001b[0m│\u001b[37m               \u001b[0m│\n",
       "│\u001b[2m \u001b[0m\u001b[2m44\u001b[0m\u001b[2m \u001b[0m│ encoder.interactions.3.conv.aggr_module │ SumAggregation │      0 │ train │\u001b[37m \u001b[0m\u001b[37m     [[180492,\u001b[0m\u001b[37m \u001b[0m│\u001b[37m \u001b[0m\u001b[37m [10137, 128]\u001b[0m\u001b[37m \u001b[0m│\n",
       "│\u001b[2m    \u001b[0m│                                         │                │        │       │\u001b[37m \u001b[0m\u001b[37m         128],\u001b[0m\u001b[37m \u001b[0m│\u001b[37m               \u001b[0m│\n",
       "│\u001b[2m    \u001b[0m│                                         │                │        │       │\u001b[37m \u001b[0m\u001b[37m[180492], '?',\u001b[0m\u001b[37m \u001b[0m│\u001b[37m               \u001b[0m│\n",
       "│\u001b[2m    \u001b[0m│                                         │                │        │       │\u001b[37m \u001b[0m\u001b[37m     '?', '?']\u001b[0m\u001b[37m \u001b[0m│\u001b[37m               \u001b[0m│\n",
       "│\u001b[2m \u001b[0m\u001b[2m45\u001b[0m\u001b[2m \u001b[0m│ encoder.interactions.3.conv.lin1        │ Linear         │ 65.5 K │ train │\u001b[37m \u001b[0m\u001b[37m  [10137, 512]\u001b[0m\u001b[37m \u001b[0m│\u001b[37m \u001b[0m\u001b[37m [10137, 128]\u001b[0m\u001b[37m \u001b[0m│\n",
       "│\u001b[2m \u001b[0m\u001b[2m46\u001b[0m\u001b[2m \u001b[0m│ encoder.interactions.3.conv.lin2        │ Linear         │ 66.0 K │ train │\u001b[37m \u001b[0m\u001b[37m  [10137, 128]\u001b[0m\u001b[37m \u001b[0m│\u001b[37m \u001b[0m\u001b[37m [10137, 512]\u001b[0m\u001b[37m \u001b[0m│\n",
       "│\u001b[2m \u001b[0m\u001b[2m47\u001b[0m\u001b[2m \u001b[0m│ encoder.interactions.3.act              │ ShiftedSoftpl… │      0 │ train │\u001b[37m \u001b[0m\u001b[37m  [10137, 512]\u001b[0m\u001b[37m \u001b[0m│\u001b[37m \u001b[0m\u001b[37m [10137, 512]\u001b[0m\u001b[37m \u001b[0m│\n",
       "│\u001b[2m \u001b[0m\u001b[2m48\u001b[0m\u001b[2m \u001b[0m│ encoder.interactions.3.lin              │ Linear         │  262 K │ train │\u001b[37m \u001b[0m\u001b[37m  [10137, 512]\u001b[0m\u001b[37m \u001b[0m│\u001b[37m \u001b[0m\u001b[37m [10137, 512]\u001b[0m\u001b[37m \u001b[0m│\n",
       "│\u001b[2m \u001b[0m\u001b[2m49\u001b[0m\u001b[2m \u001b[0m│ encoder.interactions.4                  │ InteractionBl… │  417 K │ train │\u001b[37m \u001b[0m\u001b[37m[[10137, 512],\u001b[0m\u001b[37m \u001b[0m│\u001b[37m \u001b[0m\u001b[37m [10137, 512]\u001b[0m\u001b[37m \u001b[0m│\n",
       "│\u001b[2m    \u001b[0m│                                         │                │        │       │\u001b[37m \u001b[0m\u001b[37m  [2, 180492],\u001b[0m\u001b[37m \u001b[0m│\u001b[37m               \u001b[0m│\n",
       "│\u001b[2m    \u001b[0m│                                         │                │        │       │\u001b[37m \u001b[0m\u001b[37m     [180492],\u001b[0m\u001b[37m \u001b[0m│\u001b[37m               \u001b[0m│\n",
       "│\u001b[2m    \u001b[0m│                                         │                │        │       │\u001b[37m \u001b[0m\u001b[37m [180492, 50]]\u001b[0m\u001b[37m \u001b[0m│\u001b[37m               \u001b[0m│\n",
       "│\u001b[2m \u001b[0m\u001b[2m50\u001b[0m\u001b[2m \u001b[0m│ encoder.interactions.4.mlp              │ Sequential     │ 23.0 K │ train │\u001b[37m \u001b[0m\u001b[37m  [180492, 50]\u001b[0m\u001b[37m \u001b[0m│\u001b[37m \u001b[0m\u001b[37m[180492, 128]\u001b[0m\u001b[37m \u001b[0m│\n",
       "│\u001b[2m \u001b[0m\u001b[2m51\u001b[0m\u001b[2m \u001b[0m│ encoder.interactions.4.mlp.0            │ Linear         │  6.5 K │ train │\u001b[37m \u001b[0m\u001b[37m  [180492, 50]\u001b[0m\u001b[37m \u001b[0m│\u001b[37m \u001b[0m\u001b[37m[180492, 128]\u001b[0m\u001b[37m \u001b[0m│\n",
       "│\u001b[2m \u001b[0m\u001b[2m52\u001b[0m\u001b[2m \u001b[0m│ encoder.interactions.4.mlp.1            │ ShiftedSoftpl… │      0 │ train │\u001b[37m \u001b[0m\u001b[37m [180492, 128]\u001b[0m\u001b[37m \u001b[0m│\u001b[37m \u001b[0m\u001b[37m[180492, 128]\u001b[0m\u001b[37m \u001b[0m│\n",
       "│\u001b[2m \u001b[0m\u001b[2m53\u001b[0m\u001b[2m \u001b[0m│ encoder.interactions.4.mlp.2            │ Linear         │ 16.5 K │ train │\u001b[37m \u001b[0m\u001b[37m [180492, 128]\u001b[0m\u001b[37m \u001b[0m│\u001b[37m \u001b[0m\u001b[37m[180492, 128]\u001b[0m\u001b[37m \u001b[0m│\n",
       "│\u001b[2m \u001b[0m\u001b[2m54\u001b[0m\u001b[2m \u001b[0m│ encoder.interactions.4.conv             │ CFConv         │  154 K │ train │\u001b[37m \u001b[0m\u001b[37m[[10137, 512],\u001b[0m\u001b[37m \u001b[0m│\u001b[37m \u001b[0m\u001b[37m [10137, 512]\u001b[0m\u001b[37m \u001b[0m│\n",
       "│\u001b[2m    \u001b[0m│                                         │                │        │       │\u001b[37m \u001b[0m\u001b[37m  [2, 180492],\u001b[0m\u001b[37m \u001b[0m│\u001b[37m               \u001b[0m│\n",
       "│\u001b[2m    \u001b[0m│                                         │                │        │       │\u001b[37m \u001b[0m\u001b[37m     [180492],\u001b[0m\u001b[37m \u001b[0m│\u001b[37m               \u001b[0m│\n",
       "│\u001b[2m    \u001b[0m│                                         │                │        │       │\u001b[37m \u001b[0m\u001b[37m [180492, 50]]\u001b[0m\u001b[37m \u001b[0m│\u001b[37m               \u001b[0m│\n",
       "│\u001b[2m \u001b[0m\u001b[2m55\u001b[0m\u001b[2m \u001b[0m│ encoder.interactions.4.conv.aggr_module │ SumAggregation │      0 │ train │\u001b[37m \u001b[0m\u001b[37m     [[180492,\u001b[0m\u001b[37m \u001b[0m│\u001b[37m \u001b[0m\u001b[37m [10137, 128]\u001b[0m\u001b[37m \u001b[0m│\n",
       "│\u001b[2m    \u001b[0m│                                         │                │        │       │\u001b[37m \u001b[0m\u001b[37m         128],\u001b[0m\u001b[37m \u001b[0m│\u001b[37m               \u001b[0m│\n",
       "│\u001b[2m    \u001b[0m│                                         │                │        │       │\u001b[37m \u001b[0m\u001b[37m[180492], '?',\u001b[0m\u001b[37m \u001b[0m│\u001b[37m               \u001b[0m│\n",
       "│\u001b[2m    \u001b[0m│                                         │                │        │       │\u001b[37m \u001b[0m\u001b[37m     '?', '?']\u001b[0m\u001b[37m \u001b[0m│\u001b[37m               \u001b[0m│\n",
       "│\u001b[2m \u001b[0m\u001b[2m56\u001b[0m\u001b[2m \u001b[0m│ encoder.interactions.4.conv.lin1        │ Linear         │ 65.5 K │ train │\u001b[37m \u001b[0m\u001b[37m  [10137, 512]\u001b[0m\u001b[37m \u001b[0m│\u001b[37m \u001b[0m\u001b[37m [10137, 128]\u001b[0m\u001b[37m \u001b[0m│\n",
       "│\u001b[2m \u001b[0m\u001b[2m57\u001b[0m\u001b[2m \u001b[0m│ encoder.interactions.4.conv.lin2        │ Linear         │ 66.0 K │ train │\u001b[37m \u001b[0m\u001b[37m  [10137, 128]\u001b[0m\u001b[37m \u001b[0m│\u001b[37m \u001b[0m\u001b[37m [10137, 512]\u001b[0m\u001b[37m \u001b[0m│\n",
       "│\u001b[2m \u001b[0m\u001b[2m58\u001b[0m\u001b[2m \u001b[0m│ encoder.interactions.4.act              │ ShiftedSoftpl… │      0 │ train │\u001b[37m \u001b[0m\u001b[37m  [10137, 512]\u001b[0m\u001b[37m \u001b[0m│\u001b[37m \u001b[0m\u001b[37m [10137, 512]\u001b[0m\u001b[37m \u001b[0m│\n",
       "│\u001b[2m \u001b[0m\u001b[2m59\u001b[0m\u001b[2m \u001b[0m│ encoder.interactions.4.lin              │ Linear         │  262 K │ train │\u001b[37m \u001b[0m\u001b[37m  [10137, 512]\u001b[0m\u001b[37m \u001b[0m│\u001b[37m \u001b[0m\u001b[37m [10137, 512]\u001b[0m\u001b[37m \u001b[0m│\n",
       "│\u001b[2m \u001b[0m\u001b[2m60\u001b[0m\u001b[2m \u001b[0m│ encoder.interactions.5                  │ InteractionBl… │  417 K │ train │\u001b[37m \u001b[0m\u001b[37m[[10137, 512],\u001b[0m\u001b[37m \u001b[0m│\u001b[37m \u001b[0m\u001b[37m [10137, 512]\u001b[0m\u001b[37m \u001b[0m│\n",
       "│\u001b[2m    \u001b[0m│                                         │                │        │       │\u001b[37m \u001b[0m\u001b[37m  [2, 180492],\u001b[0m\u001b[37m \u001b[0m│\u001b[37m               \u001b[0m│\n",
       "│\u001b[2m    \u001b[0m│                                         │                │        │       │\u001b[37m \u001b[0m\u001b[37m     [180492],\u001b[0m\u001b[37m \u001b[0m│\u001b[37m               \u001b[0m│\n",
       "│\u001b[2m    \u001b[0m│                                         │                │        │       │\u001b[37m \u001b[0m\u001b[37m [180492, 50]]\u001b[0m\u001b[37m \u001b[0m│\u001b[37m               \u001b[0m│\n",
       "│\u001b[2m \u001b[0m\u001b[2m61\u001b[0m\u001b[2m \u001b[0m│ encoder.interactions.5.mlp              │ Sequential     │ 23.0 K │ train │\u001b[37m \u001b[0m\u001b[37m  [180492, 50]\u001b[0m\u001b[37m \u001b[0m│\u001b[37m \u001b[0m\u001b[37m[180492, 128]\u001b[0m\u001b[37m \u001b[0m│\n",
       "│\u001b[2m \u001b[0m\u001b[2m62\u001b[0m\u001b[2m \u001b[0m│ encoder.interactions.5.mlp.0            │ Linear         │  6.5 K │ train │\u001b[37m \u001b[0m\u001b[37m  [180492, 50]\u001b[0m\u001b[37m \u001b[0m│\u001b[37m \u001b[0m\u001b[37m[180492, 128]\u001b[0m\u001b[37m \u001b[0m│\n",
       "│\u001b[2m \u001b[0m\u001b[2m63\u001b[0m\u001b[2m \u001b[0m│ encoder.interactions.5.mlp.1            │ ShiftedSoftpl… │      0 │ train │\u001b[37m \u001b[0m\u001b[37m [180492, 128]\u001b[0m\u001b[37m \u001b[0m│\u001b[37m \u001b[0m\u001b[37m[180492, 128]\u001b[0m\u001b[37m \u001b[0m│\n",
       "│\u001b[2m \u001b[0m\u001b[2m64\u001b[0m\u001b[2m \u001b[0m│ encoder.interactions.5.mlp.2            │ Linear         │ 16.5 K │ train │\u001b[37m \u001b[0m\u001b[37m [180492, 128]\u001b[0m\u001b[37m \u001b[0m│\u001b[37m \u001b[0m\u001b[37m[180492, 128]\u001b[0m\u001b[37m \u001b[0m│\n",
       "│\u001b[2m \u001b[0m\u001b[2m65\u001b[0m\u001b[2m \u001b[0m│ encoder.interactions.5.conv             │ CFConv         │  154 K │ train │\u001b[37m \u001b[0m\u001b[37m[[10137, 512],\u001b[0m\u001b[37m \u001b[0m│\u001b[37m \u001b[0m\u001b[37m [10137, 512]\u001b[0m\u001b[37m \u001b[0m│\n",
       "│\u001b[2m    \u001b[0m│                                         │                │        │       │\u001b[37m \u001b[0m\u001b[37m  [2, 180492],\u001b[0m\u001b[37m \u001b[0m│\u001b[37m               \u001b[0m│\n",
       "│\u001b[2m    \u001b[0m│                                         │                │        │       │\u001b[37m \u001b[0m\u001b[37m     [180492],\u001b[0m\u001b[37m \u001b[0m│\u001b[37m               \u001b[0m│\n",
       "│\u001b[2m    \u001b[0m│                                         │                │        │       │\u001b[37m \u001b[0m\u001b[37m [180492, 50]]\u001b[0m\u001b[37m \u001b[0m│\u001b[37m               \u001b[0m│\n",
       "│\u001b[2m \u001b[0m\u001b[2m66\u001b[0m\u001b[2m \u001b[0m│ encoder.interactions.5.conv.aggr_module │ SumAggregation │      0 │ train │\u001b[37m \u001b[0m\u001b[37m     [[180492,\u001b[0m\u001b[37m \u001b[0m│\u001b[37m \u001b[0m\u001b[37m [10137, 128]\u001b[0m\u001b[37m \u001b[0m│\n",
       "│\u001b[2m    \u001b[0m│                                         │                │        │       │\u001b[37m \u001b[0m\u001b[37m         128],\u001b[0m\u001b[37m \u001b[0m│\u001b[37m               \u001b[0m│\n",
       "│\u001b[2m    \u001b[0m│                                         │                │        │       │\u001b[37m \u001b[0m\u001b[37m[180492], '?',\u001b[0m\u001b[37m \u001b[0m│\u001b[37m               \u001b[0m│\n",
       "│\u001b[2m    \u001b[0m│                                         │                │        │       │\u001b[37m \u001b[0m\u001b[37m     '?', '?']\u001b[0m\u001b[37m \u001b[0m│\u001b[37m               \u001b[0m│\n",
       "│\u001b[2m \u001b[0m\u001b[2m67\u001b[0m\u001b[2m \u001b[0m│ encoder.interactions.5.conv.lin1        │ Linear         │ 65.5 K │ train │\u001b[37m \u001b[0m\u001b[37m  [10137, 512]\u001b[0m\u001b[37m \u001b[0m│\u001b[37m \u001b[0m\u001b[37m [10137, 128]\u001b[0m\u001b[37m \u001b[0m│\n",
       "│\u001b[2m \u001b[0m\u001b[2m68\u001b[0m\u001b[2m \u001b[0m│ encoder.interactions.5.conv.lin2        │ Linear         │ 66.0 K │ train │\u001b[37m \u001b[0m\u001b[37m  [10137, 128]\u001b[0m\u001b[37m \u001b[0m│\u001b[37m \u001b[0m\u001b[37m [10137, 512]\u001b[0m\u001b[37m \u001b[0m│\n",
       "│\u001b[2m \u001b[0m\u001b[2m69\u001b[0m\u001b[2m \u001b[0m│ encoder.interactions.5.act              │ ShiftedSoftpl… │      0 │ train │\u001b[37m \u001b[0m\u001b[37m  [10137, 512]\u001b[0m\u001b[37m \u001b[0m│\u001b[37m \u001b[0m\u001b[37m [10137, 512]\u001b[0m\u001b[37m \u001b[0m│\n",
       "│\u001b[2m \u001b[0m\u001b[2m70\u001b[0m\u001b[2m \u001b[0m│ encoder.interactions.5.lin              │ Linear         │  262 K │ train │\u001b[37m \u001b[0m\u001b[37m  [10137, 512]\u001b[0m\u001b[37m \u001b[0m│\u001b[37m \u001b[0m\u001b[37m [10137, 512]\u001b[0m\u001b[37m \u001b[0m│\n",
       "│\u001b[2m \u001b[0m\u001b[2m71\u001b[0m\u001b[2m \u001b[0m│ encoder.lin1                            │ Linear         │  131 K │ train │\u001b[37m \u001b[0m\u001b[37m  [10137, 512]\u001b[0m\u001b[37m \u001b[0m│\u001b[37m \u001b[0m\u001b[37m [10137, 256]\u001b[0m\u001b[37m \u001b[0m│\n",
       "│\u001b[2m \u001b[0m\u001b[2m72\u001b[0m\u001b[2m \u001b[0m│ encoder.act                             │ ShiftedSoftpl… │      0 │ train │\u001b[37m \u001b[0m\u001b[37m  [10137, 256]\u001b[0m\u001b[37m \u001b[0m│\u001b[37m \u001b[0m\u001b[37m [10137, 256]\u001b[0m\u001b[37m \u001b[0m│\n",
       "│\u001b[2m \u001b[0m\u001b[2m73\u001b[0m\u001b[2m \u001b[0m│ encoder.lin2                            │ Linear         │  8.2 K │ train │\u001b[37m \u001b[0m\u001b[37m  [10137, 256]\u001b[0m\u001b[37m \u001b[0m│\u001b[37m \u001b[0m\u001b[37m  [10137, 32]\u001b[0m\u001b[37m \u001b[0m│\n",
       "│\u001b[2m \u001b[0m\u001b[2m74\u001b[0m\u001b[2m \u001b[0m│ decoder                                 │ ModuleDict     │  2.1 K │ train │\u001b[37m \u001b[0m\u001b[37m             ?\u001b[0m\u001b[37m \u001b[0m│\u001b[37m \u001b[0m\u001b[37m            ?\u001b[0m\u001b[37m \u001b[0m│\n",
       "│\u001b[2m \u001b[0m\u001b[2m75\u001b[0m\u001b[2m \u001b[0m│ decoder.subgraph_distances              │ MLP_Pred_Dist  │  2.1 K │ train │\u001b[37m \u001b[0m\u001b[37m    [1002, 64]\u001b[0m\u001b[37m \u001b[0m│\u001b[37m \u001b[0m\u001b[37m       [1002]\u001b[0m\u001b[37m \u001b[0m│\n",
       "│\u001b[2m \u001b[0m\u001b[2m76\u001b[0m\u001b[2m \u001b[0m│ decoder.subgraph_distances.linear1      │ Linear         │  2.1 K │ train │\u001b[37m \u001b[0m\u001b[37m    [1002, 64]\u001b[0m\u001b[37m \u001b[0m│\u001b[37m \u001b[0m\u001b[37m   [1002, 32]\u001b[0m\u001b[37m \u001b[0m│\n",
       "│\u001b[2m \u001b[0m\u001b[2m77\u001b[0m\u001b[2m \u001b[0m│ decoder.subgraph_distances.relu         │ ReLU           │      0 │ train │\u001b[37m \u001b[0m\u001b[37m    [1002, 32]\u001b[0m\u001b[37m \u001b[0m│\u001b[37m \u001b[0m\u001b[37m   [1002, 32]\u001b[0m\u001b[37m \u001b[0m│\n",
       "│\u001b[2m \u001b[0m\u001b[2m78\u001b[0m\u001b[2m \u001b[0m│ decoder.subgraph_distances.linear2      │ Linear         │     33 │ train │\u001b[37m \u001b[0m\u001b[37m    [1002, 32]\u001b[0m\u001b[37m \u001b[0m│\u001b[37m \u001b[0m\u001b[37m    [1002, 1]\u001b[0m\u001b[37m \u001b[0m│\n",
       "│\u001b[2m \u001b[0m\u001b[2m79\u001b[0m\u001b[2m \u001b[0m│ test_subgraph_distances_mse             │ MeanSquaredEr… │      0 │ train │\u001b[37m \u001b[0m\u001b[37m             ?\u001b[0m\u001b[37m \u001b[0m│\u001b[37m \u001b[0m\u001b[37m            ?\u001b[0m\u001b[37m \u001b[0m│\n",
       "│\u001b[2m \u001b[0m\u001b[2m80\u001b[0m\u001b[2m \u001b[0m│ train_subgraph_distances_mse            │ MeanSquaredEr… │      0 │ train │\u001b[37m \u001b[0m\u001b[37m             ?\u001b[0m\u001b[37m \u001b[0m│\u001b[37m \u001b[0m\u001b[37m            ?\u001b[0m\u001b[37m \u001b[0m│\n",
       "│\u001b[2m \u001b[0m\u001b[2m81\u001b[0m\u001b[2m \u001b[0m│ val_subgraph_distances_mse              │ MeanSquaredEr… │      0 │ train │\u001b[37m \u001b[0m\u001b[37m             ?\u001b[0m\u001b[37m \u001b[0m│\u001b[37m \u001b[0m\u001b[37m            ?\u001b[0m\u001b[37m \u001b[0m│\n",
       "│\u001b[2m \u001b[0m\u001b[2m82\u001b[0m\u001b[2m \u001b[0m│ featuriser                              │ ProteinFeatur… │      0 │ train │\u001b[37m \u001b[0m\u001b[37m             ?\u001b[0m\u001b[37m \u001b[0m│\u001b[37m \u001b[0m\u001b[37m            ?\u001b[0m\u001b[37m \u001b[0m│\n",
       "│\u001b[2m \u001b[0m\u001b[2m83\u001b[0m\u001b[2m \u001b[0m│ featuriser.positional_encoding          │ PositionalEnc… │      0 │ train │\u001b[37m \u001b[0m\u001b[37m    [10137, 1]\u001b[0m\u001b[37m \u001b[0m│\u001b[37m \u001b[0m\u001b[37m  [10137, 16]\u001b[0m\u001b[37m \u001b[0m│\n",
       "└────┴─────────────────────────────────────────┴────────────────┴────────┴───────┴────────────────┴───────────────┘\n"
      ]
     },
     "metadata": {},
     "output_type": "display_data"
    },
    {
     "data": {
      "text/html": [
       "<pre style=\"white-space:pre;overflow-x:auto;line-height:normal;font-family:Menlo,'DejaVu Sans Mono',consolas,'Courier New',monospace\"><span style=\"font-weight: bold\">Trainable params</span>: 2.7 M                                                                                            \n",
       "<span style=\"font-weight: bold\">Non-trainable params</span>: 0                                                                                            \n",
       "<span style=\"font-weight: bold\">Total params</span>: 2.7 M                                                                                                \n",
       "<span style=\"font-weight: bold\">Total estimated model params size (MB)</span>: 10                                                                         \n",
       "</pre>\n"
      ],
      "text/plain": [
       "\u001b[1mTrainable params\u001b[0m: 2.7 M                                                                                            \n",
       "\u001b[1mNon-trainable params\u001b[0m: 0                                                                                            \n",
       "\u001b[1mTotal params\u001b[0m: 2.7 M                                                                                                \n",
       "\u001b[1mTotal estimated model params size (MB)\u001b[0m: 10                                                                         \n"
      ]
     },
     "metadata": {},
     "output_type": "display_data"
    },
    {
     "data": {
      "application/vnd.jupyter.widget-view+json": {
       "model_id": "b4adc025eb664f69b60c2a3a57f433eb",
       "version_major": 2,
       "version_minor": 0
      },
      "text/plain": [
       "Output()"
      ]
     },
     "metadata": {},
     "output_type": "display_data"
    },
    {
     "data": {
      "text/html": [
       "<pre style=\"white-space:pre;overflow-x:auto;line-height:normal;font-family:Menlo,'DejaVu Sans Mono',consolas,'Courier New',monospace\">/home/zhang/miniconda3/envs/3d_pretrain/lib/python3.10/site-packages/lightning/pytorch/utilities/data.py:78: \n",
       "UserWarning:\n",
       "\n",
       "Trying to infer the `batch_size` from an ambiguous collection. The batch size we found is 32. To avoid any \n",
       "miscalculations, use `self.log(..., batch_size=batch_size)`.\n",
       "\n",
       "</pre>\n"
      ],
      "text/plain": [
       "/home/zhang/miniconda3/envs/3d_pretrain/lib/python3.10/site-packages/lightning/pytorch/utilities/data.py:78: \n",
       "UserWarning:\n",
       "\n",
       "Trying to infer the `batch_size` from an ambiguous collection. The batch size we found is 32. To avoid any \n",
       "miscalculations, use `self.log(..., batch_size=batch_size)`.\n",
       "\n"
      ]
     },
     "metadata": {},
     "output_type": "display_data"
    },
    {
     "data": {
      "text/html": [
       "<pre style=\"white-space:pre;overflow-x:auto;line-height:normal;font-family:Menlo,'DejaVu Sans Mono',consolas,'Courier New',monospace\">/home/zhang/miniconda3/envs/3d_pretrain/lib/python3.10/site-packages/lightning/pytorch/utilities/data.py:78: \n",
       "UserWarning:\n",
       "\n",
       "Trying to infer the `batch_size` from an ambiguous collection. The batch size we found is 30. To avoid any \n",
       "miscalculations, use `self.log(..., batch_size=batch_size)`.\n",
       "\n",
       "</pre>\n"
      ],
      "text/plain": [
       "/home/zhang/miniconda3/envs/3d_pretrain/lib/python3.10/site-packages/lightning/pytorch/utilities/data.py:78: \n",
       "UserWarning:\n",
       "\n",
       "Trying to infer the `batch_size` from an ambiguous collection. The batch size we found is 30. To avoid any \n",
       "miscalculations, use `self.log(..., batch_size=batch_size)`.\n",
       "\n"
      ]
     },
     "metadata": {},
     "output_type": "display_data"
    },
    {
     "name": "stderr",
     "output_type": "stream",
     "text": [
      "Metric val/subgraph_distances/mse improved. New best score: 0.045\n",
      "Metric train/loss/total improved. New best score: 0.023\n",
      "Epoch 0, global step 13560: 'val/subgraph_distances/mse' reached 0.04550 (best 0.04550), saving model to '/home/zhang/Projects/3d/ProteinWorkshop/notebooks/outputs/checkpoints/epoch_000.ckpt' as top 1\n"
     ]
    },
    {
     "name": "stderr",
     "output_type": "stream",
     "text": [
      "Metric val/subgraph_distances/mse improved by 0.022 >= min_delta = 0.0. New best score: 0.023\n",
      "Epoch 1, global step 27120: 'val/subgraph_distances/mse' reached 0.02306 (best 0.02306), saving model to '/home/zhang/Projects/3d/ProteinWorkshop/notebooks/outputs/checkpoints/epoch_001.ckpt' as top 2\n"
     ]
    },
    {
     "name": "stderr",
     "output_type": "stream",
     "text": [
      "Metric train/loss/total improved by 0.002 >= min_delta = 0.0. New best score: 0.021\n",
      "Epoch 2, global step 40680: 'val/subgraph_distances/mse' reached 0.04999 (best 0.02306), saving model to '/home/zhang/Projects/3d/ProteinWorkshop/notebooks/outputs/checkpoints/epoch_002.ckpt' as top 3\n"
     ]
    },
    {
     "name": "stderr",
     "output_type": "stream",
     "text": [
      "Epoch 3, global step 54240: 'val/subgraph_distances/mse' reached 2.84727 (best 0.02306), saving model to '/home/zhang/Projects/3d/ProteinWorkshop/notebooks/outputs/checkpoints/epoch_003.ckpt' as top 4\n"
     ]
    },
    {
     "name": "stderr",
     "output_type": "stream",
     "text": [
      "Epoch 4, global step 67800: 'val/subgraph_distances/mse' reached 0.03509 (best 0.02306), saving model to '/home/zhang/Projects/3d/ProteinWorkshop/notebooks/outputs/checkpoints/epoch_004.ckpt' as top 5\n"
     ]
    },
    {
     "name": "stderr",
     "output_type": "stream",
     "text": [
      "Metric val/subgraph_distances/mse improved by 0.008 >= min_delta = 0.0. New best score: 0.015\n",
      "Metric train/loss/total improved by 0.011 >= min_delta = 0.0. New best score: 0.009\n",
      "Epoch 5, global step 81360: 'val/subgraph_distances/mse' reached 0.01512 (best 0.01512), saving model to '/home/zhang/Projects/3d/ProteinWorkshop/notebooks/outputs/checkpoints/epoch_005.ckpt' as top 6\n"
     ]
    },
    {
     "name": "stderr",
     "output_type": "stream",
     "text": [
      "Metric val/subgraph_distances/mse improved by 0.001 >= min_delta = 0.0. New best score: 0.014\n",
      "Epoch 6, global step 94920: 'val/subgraph_distances/mse' reached 0.01382 (best 0.01382), saving model to '/home/zhang/Projects/3d/ProteinWorkshop/notebooks/outputs/checkpoints/epoch_006.ckpt' as top 7\n"
     ]
    },
    {
     "name": "stderr",
     "output_type": "stream",
     "text": [
      "Metric val/subgraph_distances/mse improved by 0.000 >= min_delta = 0.0. New best score: 0.013\n",
      "Epoch 7, global step 108480: 'val/subgraph_distances/mse' reached 0.01334 (best 0.01334), saving model to '/home/zhang/Projects/3d/ProteinWorkshop/notebooks/outputs/checkpoints/epoch_007.ckpt' as top 8\n"
     ]
    },
    {
     "name": "stderr",
     "output_type": "stream",
     "text": [
      "Metric val/subgraph_distances/mse improved by 0.001 >= min_delta = 0.0. New best score: 0.012\n",
      "Epoch 8, global step 122040: 'val/subgraph_distances/mse' reached 0.01243 (best 0.01243), saving model to '/home/zhang/Projects/3d/ProteinWorkshop/notebooks/outputs/checkpoints/epoch_008.ckpt' as top 9\n"
     ]
    },
    {
     "name": "stderr",
     "output_type": "stream",
     "text": [
      "Metric val/subgraph_distances/mse improved by 0.000 >= min_delta = 0.0. New best score: 0.012\n",
      "Epoch 9, global step 135600: 'val/subgraph_distances/mse' reached 0.01232 (best 0.01232), saving model to '/home/zhang/Projects/3d/ProteinWorkshop/notebooks/outputs/checkpoints/epoch_009.ckpt' as top 10\n",
      "`Trainer.fit` stopped: `max_epochs=10` reached.\n"
     ]
    },
    {
     "data": {
      "text/html": [
       "<pre style=\"white-space:pre;overflow-x:auto;line-height:normal;font-family:Menlo,'DejaVu Sans Mono',consolas,'Courier New',monospace\"></pre>\n"
      ],
      "text/plain": []
     },
     "metadata": {},
     "output_type": "display_data"
    },
    {
     "data": {
      "text/html": [
       "<pre style=\"white-space:pre;overflow-x:auto;line-height:normal;font-family:Menlo,'DejaVu Sans Mono',consolas,'Courier New',monospace\">\n",
       "</pre>\n"
      ],
      "text/plain": [
       "\n"
      ]
     },
     "metadata": {},
     "output_type": "display_data"
    },
    {
     "data": {
      "text/html": [
       "<pre style=\"white-space:pre;overflow-x:auto;line-height:normal;font-family:Menlo,'DejaVu Sans Mono',consolas,'Courier New',monospace\"><span style=\"color: #7fbfbf; text-decoration-color: #7fbfbf\">[07/31/24 04:40:31] </span><span style=\"color: #000080; text-decoration-color: #000080\">INFO    </span> Starting testing!                                                         <a href=\"file:///home/zhang/Projects/3d/ProteinWorkshop/proteinworkshop/train.py\" target=\"_blank\"><span style=\"color: #7f7f7f; text-decoration-color: #7f7f7f\">train.py</span></a><span style=\"color: #7f7f7f; text-decoration-color: #7f7f7f\">:</span><a href=\"file:///home/zhang/Projects/3d/ProteinWorkshop/proteinworkshop/train.py#187\" target=\"_blank\"><span style=\"color: #7f7f7f; text-decoration-color: #7f7f7f\">187</span></a>\n",
       "</pre>\n"
      ],
      "text/plain": [
       "\u001b[2;36m[07/31/24 04:40:31]\u001b[0m\u001b[2;36m \u001b[0m\u001b[34mINFO    \u001b[0m Starting testing!                                                         \u001b]8;id=489633;file:///home/zhang/Projects/3d/ProteinWorkshop/proteinworkshop/train.py\u001b\\\u001b[2mtrain.py\u001b[0m\u001b]8;;\u001b\\\u001b[2m:\u001b[0m\u001b]8;id=751136;file:///home/zhang/Projects/3d/ProteinWorkshop/proteinworkshop/train.py#187\u001b\\\u001b[2m187\u001b[0m\u001b]8;;\u001b\\\n"
      ]
     },
     "metadata": {},
     "output_type": "display_data"
    },
    {
     "name": "stderr",
     "output_type": "stream",
     "text": [
      "100%|██████████| 542378/542378 [00:00<00:00, 4706776.85it/s]\n",
      "Processing...\n",
      "Done!\n",
      "100%|██████████| 542378/542378 [00:00<00:00, 4873807.13it/s]\n",
      "Processing...\n",
      "Done!\n",
      "100%|██████████| 542378/542378 [00:00<00:00, 4887545.36it/s]\n",
      "Processing...\n",
      "Done!\n",
      "Restoring states from the checkpoint path at /home/zhang/Projects/3d/ProteinWorkshop/notebooks/outputs/checkpoints/epoch_009.ckpt\n",
      "LOCAL_RANK: 0 - CUDA_VISIBLE_DEVICES: [0]\n",
      "Loaded model weights from the checkpoint at /home/zhang/Projects/3d/ProteinWorkshop/notebooks/outputs/checkpoints/epoch_009.ckpt\n"
     ]
    },
    {
     "data": {
      "application/vnd.jupyter.widget-view+json": {
       "model_id": "ae9eb58a5d1e4f60aaf1f9d7bb960d92",
       "version_major": 2,
       "version_minor": 0
      },
      "text/plain": [
       "Output()"
      ]
     },
     "metadata": {},
     "output_type": "display_data"
    },
    {
     "data": {
      "text/html": [
       "<pre style=\"white-space:pre;overflow-x:auto;line-height:normal;font-family:Menlo,'DejaVu Sans Mono',consolas,'Courier New',monospace\">┏━━━━━━━━━━━━━━━━━━━━━━━━━━━━━━┳━━━━━━━━━━━━━━━━━━━━━━━━━━━━━━┓\n",
       "┃<span style=\"font-weight: bold\">         Test metric          </span>┃<span style=\"font-weight: bold\">         DataLoader 0         </span>┃\n",
       "┡━━━━━━━━━━━━━━━━━━━━━━━━━━━━━━╇━━━━━━━━━━━━━━━━━━━━━━━━━━━━━━┩\n",
       "│<span style=\"color: #008080; text-decoration-color: #008080\"> test/loss/subgraph_distances </span>│<span style=\"color: #800080; text-decoration-color: #800080\">     0.012464544735848904     </span>│\n",
       "│<span style=\"color: #008080; text-decoration-color: #008080\">       test/loss/total        </span>│<span style=\"color: #800080; text-decoration-color: #800080\">     0.012464544735848904     </span>│\n",
       "│<span style=\"color: #008080; text-decoration-color: #008080\"> test/subgraph_distances/mse  </span>│<span style=\"color: #800080; text-decoration-color: #800080\">     0.012464544735848904     </span>│\n",
       "└──────────────────────────────┴──────────────────────────────┘\n",
       "</pre>\n"
      ],
      "text/plain": [
       "┏━━━━━━━━━━━━━━━━━━━━━━━━━━━━━━┳━━━━━━━━━━━━━━━━━━━━━━━━━━━━━━┓\n",
       "┃\u001b[1m \u001b[0m\u001b[1m        Test metric         \u001b[0m\u001b[1m \u001b[0m┃\u001b[1m \u001b[0m\u001b[1m        DataLoader 0        \u001b[0m\u001b[1m \u001b[0m┃\n",
       "┡━━━━━━━━━━━━━━━━━━━━━━━━━━━━━━╇━━━━━━━━━━━━━━━━━━━━━━━━━━━━━━┩\n",
       "│\u001b[36m \u001b[0m\u001b[36mtest/loss/subgraph_distances\u001b[0m\u001b[36m \u001b[0m│\u001b[35m \u001b[0m\u001b[35m    0.012464544735848904    \u001b[0m\u001b[35m \u001b[0m│\n",
       "│\u001b[36m \u001b[0m\u001b[36m      test/loss/total       \u001b[0m\u001b[36m \u001b[0m│\u001b[35m \u001b[0m\u001b[35m    0.012464544735848904    \u001b[0m\u001b[35m \u001b[0m│\n",
       "│\u001b[36m \u001b[0m\u001b[36mtest/subgraph_distances/mse \u001b[0m\u001b[36m \u001b[0m│\u001b[35m \u001b[0m\u001b[35m    0.012464544735848904    \u001b[0m\u001b[35m \u001b[0m│\n",
       "└──────────────────────────────┴──────────────────────────────┘\n"
      ]
     },
     "metadata": {},
     "output_type": "display_data"
    },
    {
     "data": {
      "text/html": [
       "<pre style=\"white-space:pre;overflow-x:auto;line-height:normal;font-family:Menlo,'DejaVu Sans Mono',consolas,'Courier New',monospace\"></pre>\n"
      ],
      "text/plain": []
     },
     "metadata": {},
     "output_type": "display_data"
    },
    {
     "data": {
      "text/html": [
       "<pre style=\"white-space:pre;overflow-x:auto;line-height:normal;font-family:Menlo,'DejaVu Sans Mono',consolas,'Courier New',monospace\">\n",
       "</pre>\n"
      ],
      "text/plain": [
       "\n"
      ]
     },
     "metadata": {},
     "output_type": "display_data"
    }
   ],
   "source": [
    "from proteinworkshop.train import train_model\n",
    "\n",
    "train_model(cfg)"
   ]
  },
  {
   "cell_type": "markdown",
   "metadata": {},
   "source": [
    "### 4. Wrapping up\n",
    "\n",
    "Have any additional questions about using the components provided in the `ProteinWorkshop`? [Create a new issue](https://github.com/a-r-j/ProteinWorkshop/issues/new/choose) on our [GitHub repository](https://github.com/a-r-j/ProteinWorkshop). We would be happy to work with you to leverage the full power of the repository!"
   ]
  },
  {
   "cell_type": "markdown",
   "metadata": {},
   "source": [
    "/home/yang/anaconda3/envs/3d/lib/python3.10/site-packages/lightning/pytorch/utilities/data.py"
   ]
  }
 ],
 "metadata": {
  "kernelspec": {
   "display_name": "Python 3",
   "language": "python",
   "name": "python3"
  },
  "language_info": {
   "codemirror_mode": {
    "name": "ipython",
    "version": 3
   },
   "file_extension": ".py",
   "mimetype": "text/x-python",
   "name": "python",
   "nbconvert_exporter": "python",
   "pygments_lexer": "ipython3",
   "version": "3.10.14"
  },
  "orig_nbformat": 4
 },
 "nbformat": 4,
 "nbformat_minor": 2
}
